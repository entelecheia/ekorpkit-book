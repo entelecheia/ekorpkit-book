{
 "cells": [
  {
   "attachments": {},
   "cell_type": "markdown",
   "metadata": {
    "id": "AESO0odcxhzs",
    "pycharm": {
     "name": "#%% md\n"
    }
   },
   "source": [
    "# Putting all together in a pipeline\n"
   ]
  },
  {
   "cell_type": "code",
   "execution_count": 1,
   "metadata": {
    "id": "EJ0AoNl-xif_",
    "pycharm": {
     "name": "#%%\n"
    }
   },
   "outputs": [
    {
     "name": "stdout",
     "output_type": "stream",
     "text": [
      "version: 0+unknown\n",
      "project_dir: /workspace/projects/ekorpkit-book/exmaples\n",
      "time: 1.01 s (started: 2022-12-29 10:48:36 +00:00)\n"
     ]
    }
   ],
   "source": [
    "from ekorpkit import eKonf\n",
    "\n",
    "if eKonf.is_colab():\n",
    "    eKonf.mount_google_drive()\n",
    "ws = eKonf.set_workspace(\n",
    "    workspace=\"/workspace\", \n",
    "    project=\"ekorpkit-book/exmaples\", \n",
    "    task=\"esg\", \n",
    "    log_level=\"INFO\"\n",
    ")\n",
    "print(\"version:\", ws.version)\n",
    "print(\"project_dir:\", ws.project_dir)"
   ]
  },
  {
   "cell_type": "markdown",
   "metadata": {
    "id": "pzjBtQqpnqcy",
    "pycharm": {
     "name": "#%% md\n"
    }
   },
   "source": [
    "## Preparing additional polarity data"
   ]
  },
  {
   "cell_type": "code",
   "execution_count": 2,
   "metadata": {},
   "outputs": [
    {
     "name": "stderr",
     "output_type": "stream",
     "text": [
      "INFO:ekorpkit.datasets.config:Loaded info file: /workspace/projects/ekorpkit-book/exmaples/esg/data/esg_polarity_kr/info-esg_polarity_kr.yaml\n",
      "INFO:ekorpkit.info.column:index: index, index of data: index, columns: ['id', 'text', 'labels', 'split'], id: ['id']\n",
      "INFO:ekorpkit.info.column:Adding id [split] to ['id']\n",
      "INFO:ekorpkit.info.column:Added id [split], now ['id', 'split']\n",
      "INFO:ekorpkit.info.column:Added a column [split] with value [train]\n",
      "INFO:ekorpkit.info.column:Added a column [split] with value [test]\n",
      "INFO:ekorpkit.info.column:Added a column [split] with value [dev]\n"
     ]
    },
    {
     "data": {
      "text/plain": [
       "{'train': 'esg_polarity_kr-train.parquet',\n",
       " 'test': 'esg_polarity_kr-test.parquet',\n",
       " 'dev': 'esg_polarity_kr-dev.parquet'}"
      ]
     },
     "execution_count": 2,
     "metadata": {},
     "output_type": "execute_result"
    },
    {
     "name": "stdout",
     "output_type": "stream",
     "text": [
      "time: 2.18 s (started: 2022-12-17 00:31:28 +00:00)\n"
     ]
    }
   ],
   "source": [
    "from ekorpkit.datasets.dataset import Dataset\n",
    "\n",
    "cfg = eKonf.compose(\"dataset=dataset\")\n",
    "cfg.name = 'esg_polarity_kr'\n",
    "cfg.data_dir = cfg.path.data_dir\n",
    "ds_pol = Dataset(**cfg)\n",
    "data_files = ds_pol.data_files\n",
    "data_files"
   ]
  },
  {
   "cell_type": "code",
   "execution_count": 3,
   "metadata": {},
   "outputs": [
    {
     "name": "stderr",
     "output_type": "stream",
     "text": [
      "INFO:ekorpkit.ekonf:copied /workspace/projects/ekorpkit-book/exmaples/esg/outputs/esg_polarity_labels/esg_polarity_labels(0)_export.parquet to /workspace/projects/ekorpkit-book/exmaples/esg/data/esg_polarity_kr\n"
     ]
    },
    {
     "data": {
      "text/plain": [
       "Neutral     622\n",
       "Positive    437\n",
       "Negative     99\n",
       "Name: labels, dtype: int64"
      ]
     },
     "execution_count": 3,
     "metadata": {},
     "output_type": "execute_result"
    },
    {
     "name": "stdout",
     "output_type": "stream",
     "text": [
      "time: 18.7 ms (started: 2022-12-17 00:31:30 +00:00)\n"
     ]
    }
   ],
   "source": [
    "pol_file = ws.project_dir / \"esg/outputs/esg_polarity_labels/esg_polarity_labels(0)_export.parquet\"\n",
    "eKonf.copy(pol_file, ds_pol.data_dir)\n",
    "pol_data = eKonf.load_data(pol_file)\n",
    "# summary of labels column\n",
    "pol_data[\"labels\"].value_counts()"
   ]
  },
  {
   "cell_type": "markdown",
   "metadata": {
    "id": "3uhF3cDynUuj",
    "outputId": "a50d12e1-9ab3-4496-af54-cae58051f1ed",
    "pycharm": {
     "name": "#%% md\n"
    }
   },
   "source": [
    "## Training further on the additional polarity data"
   ]
  },
  {
   "cell_type": "code",
   "execution_count": 4,
   "metadata": {
    "id": "i9__LTKOnUuj",
    "pycharm": {
     "name": "#%%\n"
    },
    "scrolled": false,
    "tags": [
     "hide-output"
    ]
   },
   "outputs": [
    {
     "name": "stderr",
     "output_type": "stream",
     "text": [
      "2022-12-17 00:31:31.138429: I tensorflow/core/platform/cpu_feature_guard.cc:193] This TensorFlow binary is optimized with oneAPI Deep Neural Network Library (oneDNN) to use the following CPU instructions in performance-critical operations:  AVX2 FMA\n",
      "To enable them in other operations, rebuild TensorFlow with the appropriate compiler flags.\n"
     ]
    },
    {
     "name": "stdout",
     "output_type": "stream",
     "text": [
      "time: 6.7 s (started: 2022-12-17 00:31:30 +00:00)\n"
     ]
    }
   ],
   "source": [
    "from ekorpkit.models.transformer.simple import SimpleClassification\n",
    "\n",
    "trained_model = \"esg/models/esg_polarity-classification\"\n",
    "\n",
    "cfg = eKonf.compose('task=simple.classification')\n",
    "cfg.name = \"esg_polarity_further_train\"\n",
    "cfg.dataset.data_dir = ds_pol.data_dir\n",
    "cfg.dataset.data_files = pol_file\n",
    "cfg.dataset.test_size = 0.2\n",
    "cfg.dataset.shuffle = True\n",
    "cfg.dataset.seed = 1329829118\n",
    "cfg.model.model_name_or_path = f\"{ws.project_dir}/{trained_model}\"\n",
    "# cfg.model.model_name_or_path = \"entelecheia/ekonelectra-base-discriminator\"\n",
    "cfg.trainer.num_train_epochs = 10\n",
    "cfg.trainer.max_seq_length = 256\n",
    "cfg.trainer.train_batch_size = 128\n",
    "cfg.trainer.eval_batch_size = 128\n",
    "\n",
    "sm = SimpleClassification(**cfg)"
   ]
  },
  {
   "cell_type": "code",
   "execution_count": 5,
   "metadata": {
    "scrolled": false,
    "tags": [
     "hide-output"
    ]
   },
   "outputs": [
    {
     "name": "stderr",
     "output_type": "stream",
     "text": [
      "INFO:ekorpkit.datasets.config:Splitting the dataframe into train and test with ratio 0.2\n",
      "INFO:ekorpkit.datasets.config:Shuffling the dataframe with seed 1329829118\n",
      "INFO:ekorpkit.datasets.config:Train data: (926, 6)\n",
      "INFO:ekorpkit.datasets.config:Test data: (232, 6)\n",
      "INFO:ekorpkit.models.transformer.simple:Renaming columns: {}\n",
      "INFO:ekorpkit.models.transformer.simple:No columns or data to rename\n",
      "INFO:ekorpkit.models.transformer.simple:Renaming columns: {}\n",
      "INFO:simpletransformers.classification.classification_utils: Converting to features started. Cache is not used.\n",
      "INFO:simpletransformers.classification.classification_utils: Saving features into cached file /workspace/.cache/cached_train_electra_256_3_2\n"
     ]
    },
    {
     "data": {
      "application/vnd.jupyter.widget-view+json": {
       "model_id": "2f53160b351749cca8e72bd12f10ca33",
       "version_major": 2,
       "version_minor": 0
      },
      "text/plain": [
       "Epoch:   0%|          | 0/10 [00:00<?, ?it/s]"
      ]
     },
     "metadata": {},
     "output_type": "display_data"
    },
    {
     "name": "stderr",
     "output_type": "stream",
     "text": [
      "INFO:simpletransformers.classification.classification_model:   Starting fine-tuning.\n",
      "INFO:simpletransformers.classification.classification_model: Initializing WandB run for training.\n"
     ]
    },
    {
     "data": {
      "application/vnd.jupyter.widget-view+json": {
       "model_id": "1d4685c9031e41c1b182920728aa06f1",
       "version_major": 2,
       "version_minor": 0
      },
      "text/plain": [
       "Running Epoch 0 of 10:   0%|          | 0/8 [00:00<?, ?it/s]"
      ]
     },
     "metadata": {},
     "output_type": "display_data"
    },
    {
     "data": {
      "application/vnd.jupyter.widget-view+json": {
       "model_id": "7f03388470ac4dd789e8de5bc9caf11e",
       "version_major": 2,
       "version_minor": 0
      },
      "text/plain": [
       "Running Epoch 1 of 10:   0%|          | 0/8 [00:00<?, ?it/s]"
      ]
     },
     "metadata": {},
     "output_type": "display_data"
    },
    {
     "data": {
      "application/vnd.jupyter.widget-view+json": {
       "model_id": "ae1716af13fd41b48e8a437b5a673281",
       "version_major": 2,
       "version_minor": 0
      },
      "text/plain": [
       "Running Epoch 2 of 10:   0%|          | 0/8 [00:00<?, ?it/s]"
      ]
     },
     "metadata": {},
     "output_type": "display_data"
    },
    {
     "data": {
      "application/vnd.jupyter.widget-view+json": {
       "model_id": "612e69592a254818a49ae2f94f4685d1",
       "version_major": 2,
       "version_minor": 0
      },
      "text/plain": [
       "Running Epoch 3 of 10:   0%|          | 0/8 [00:00<?, ?it/s]"
      ]
     },
     "metadata": {},
     "output_type": "display_data"
    },
    {
     "data": {
      "application/vnd.jupyter.widget-view+json": {
       "model_id": "b62d42ccd76c4f909097c7f61550caee",
       "version_major": 2,
       "version_minor": 0
      },
      "text/plain": [
       "Running Epoch 4 of 10:   0%|          | 0/8 [00:00<?, ?it/s]"
      ]
     },
     "metadata": {},
     "output_type": "display_data"
    },
    {
     "data": {
      "application/vnd.jupyter.widget-view+json": {
       "model_id": "abd4082defff446b895887103d15ed04",
       "version_major": 2,
       "version_minor": 0
      },
      "text/plain": [
       "Running Epoch 5 of 10:   0%|          | 0/8 [00:00<?, ?it/s]"
      ]
     },
     "metadata": {},
     "output_type": "display_data"
    },
    {
     "data": {
      "application/vnd.jupyter.widget-view+json": {
       "model_id": "535345ff4a084e3fa551d3da2fa6a6a3",
       "version_major": 2,
       "version_minor": 0
      },
      "text/plain": [
       "Running Epoch 6 of 10:   0%|          | 0/8 [00:00<?, ?it/s]"
      ]
     },
     "metadata": {},
     "output_type": "display_data"
    },
    {
     "data": {
      "application/vnd.jupyter.widget-view+json": {
       "model_id": "391bb600ec334525b128ac0cdf0fabcf",
       "version_major": 2,
       "version_minor": 0
      },
      "text/plain": [
       "Running Epoch 7 of 10:   0%|          | 0/8 [00:00<?, ?it/s]"
      ]
     },
     "metadata": {},
     "output_type": "display_data"
    },
    {
     "data": {
      "application/vnd.jupyter.widget-view+json": {
       "model_id": "0c178b9a0e8647a3b370a8d09920bf60",
       "version_major": 2,
       "version_minor": 0
      },
      "text/plain": [
       "Running Epoch 8 of 10:   0%|          | 0/8 [00:00<?, ?it/s]"
      ]
     },
     "metadata": {},
     "output_type": "display_data"
    },
    {
     "data": {
      "application/vnd.jupyter.widget-view+json": {
       "model_id": "aaa9b85b9cf644abac6100efa5475d33",
       "version_major": 2,
       "version_minor": 0
      },
      "text/plain": [
       "Running Epoch 9 of 10:   0%|          | 0/8 [00:00<?, ?it/s]"
      ]
     },
     "metadata": {},
     "output_type": "display_data"
    },
    {
     "name": "stderr",
     "output_type": "stream",
     "text": [
      "INFO:simpletransformers.classification.classification_model: Training of electra model complete. Saved to /workspace/projects/ekorpkit-book/exmaples/esg/models/esg_polarity_further_train-classification.\n",
      "INFO:simpletransformers.classification.classification_utils: Converting to features started. Cache is not used.\n",
      "INFO:simpletransformers.classification.classification_utils: Saving features into cached file /workspace/.cache/cached_dev_electra_256_3_2\n"
     ]
    },
    {
     "data": {
      "application/vnd.jupyter.widget-view+json": {
       "model_id": "05889887ee064c5fb7f059f0addda9de",
       "version_major": 2,
       "version_minor": 0
      },
      "text/plain": [
       "Running Evaluation:   0%|          | 0/2 [00:00<?, ?it/s]"
      ]
     },
     "metadata": {},
     "output_type": "display_data"
    },
    {
     "name": "stderr",
     "output_type": "stream",
     "text": [
      "INFO:simpletransformers.classification.classification_model: Initializing WandB run for evaluation.\n"
     ]
    },
    {
     "data": {
      "application/vnd.jupyter.widget-view+json": {
       "model_id": "ed2f248c737748389063f25b7c6a5561",
       "version_major": 2,
       "version_minor": 0
      },
      "text/plain": [
       "VBox(children=(Label(value='Waiting for wandb.init()...\\r'), FloatProgress(value=0.01666825075323383, max=1.0)…"
      ]
     },
     "metadata": {},
     "output_type": "display_data"
    },
    {
     "name": "stderr",
     "output_type": "stream",
     "text": [
      "INFO:simpletransformers.classification.classification_model:{'mcc': 0.6891573875395348, 'acc': 0.8189655172413793, 'eval_loss': 0.4694342464208603}\n",
      "INFO:ekorpkit.config:Saving config to /workspace/projects/ekorpkit-book/exmaples/esg/outputs/esg_polarity_further_train/configs/esg_polarity_further_train(17)_config.yaml\n",
      "INFO:ekorpkit.models.transformer.simple:Loaded model from /workspace/projects/ekorpkit-book/exmaples/esg/models/esg_polarity_further_train-classification/best_model\n",
      "INFO:simpletransformers.classification.classification_utils: Converting to features started. Cache is not used.\n"
     ]
    },
    {
     "data": {
      "application/vnd.jupyter.widget-view+json": {
       "model_id": "dae054868a9e4a68b9fde024ffecb3bd",
       "version_major": 2,
       "version_minor": 0
      },
      "text/plain": [
       "  0%|          | 0/8 [00:00<?, ?it/s]"
      ]
     },
     "metadata": {},
     "output_type": "display_data"
    },
    {
     "name": "stderr",
     "output_type": "stream",
     "text": [
      "INFO:ekorpkit.models.transformer.simple:type of raw_outputs: <class 'numpy.ndarray'>\n",
      "INFO:ekorpkit.models.transformer.simple:raw_output: [ 2.34112883 -0.67941064 -1.39255905]\n",
      "INFO:ekorpkit.io.file:Saving dataframe to /workspace/projects/ekorpkit-book/exmaples/esg/outputs/esg_polarity_further_train/esg_polarity_further_train(17)_preds.parquet\n"
     ]
    },
    {
     "name": "stdout",
     "output_type": "stream",
     "text": [
      "Accuracy:  0.8448275862068966\n",
      "Precison:  0.8644108938029865\n",
      "Recall:  0.8448275862068966\n",
      "F1 Score:  0.8501989907520767\n",
      "Model Report: \n",
      "___________________________________________________\n",
      "              precision    recall  f1-score   support\n",
      "\n",
      "    Negative       0.54      0.83      0.65        18\n",
      "     Neutral       0.84      0.86      0.85       113\n",
      "    Positive       0.95      0.83      0.89       101\n",
      "\n",
      "    accuracy                           0.84       232\n",
      "   macro avg       0.78      0.84      0.80       232\n",
      "weighted avg       0.86      0.84      0.85       232\n",
      "\n"
     ]
    },
    {
     "name": "stderr",
     "output_type": "stream",
     "text": [
      "INFO:ekorpkit.visualize.base:Saved figure to /workspace/projects/ekorpkit-book/exmaples/esg/outputs/esg_polarity_further_train/esg_polarity_further_train(17)_confusion_matrix.png\n"
     ]
    },
    {
     "data": {
      "image/png": "[encoded data removed]",
      "text/plain": [
       "<Figure size 720x360 with 2 Axes>"
      ]
     },
     "metadata": {
      "image/png": {
       "height": 331,
       "width": 631
      }
     },
     "output_type": "display_data"
    },
    {
     "name": "stdout",
     "output_type": "stream",
     "text": [
      "time: 2min 3s (started: 2022-12-17 00:31:37 +00:00)\n"
     ]
    }
   ],
   "source": [
    "sm.train()\n",
    "sm.eval()"
   ]
  },
  {
   "cell_type": "code",
   "execution_count": 6,
   "metadata": {},
   "outputs": [
    {
     "name": "stderr",
     "output_type": "stream",
     "text": [
      "INFO:ekorpkit.io.file:Concatenating 3 dataframes\n",
      "INFO:simpletransformers.classification.classification_utils: Converting to features started. Cache is not used.\n"
     ]
    },
    {
     "data": {
      "application/vnd.jupyter.widget-view+json": {
       "model_id": "5a80b8eb31f24eae92a7275d634ea1ea",
       "version_major": 2,
       "version_minor": 0
      },
      "text/plain": [
       "  0%|          | 0/426 [00:00<?, ?it/s]"
      ]
     },
     "metadata": {},
     "output_type": "display_data"
    },
    {
     "name": "stderr",
     "output_type": "stream",
     "text": [
      "INFO:ekorpkit.models.transformer.simple:type of raw_outputs: <class 'numpy.ndarray'>\n",
      "INFO:ekorpkit.models.transformer.simple:raw_output: [ 0.91535497 -1.61450195  0.57786864]\n",
      "INFO:ekorpkit.io.file:Saving dataframe to /workspace/projects/ekorpkit-book/exmaples/esg/outputs/esg_polarity_further_train/esg_polarity_further_train(17)_preds.parquet\n"
     ]
    },
    {
     "name": "stdout",
     "output_type": "stream",
     "text": [
      "(13616, 7)\n"
     ]
    },
    {
     "data": {
      "text/html": [
       "<div>\n",
       "<style scoped>\n",
       "    .dataframe tbody tr th:only-of-type {\n",
       "        vertical-align: middle;\n",
       "    }\n",
       "\n",
       "    .dataframe tbody tr th {\n",
       "        vertical-align: top;\n",
       "    }\n",
       "\n",
       "    .dataframe thead th {\n",
       "        text-align: right;\n",
       "    }\n",
       "</style>\n",
       "<table border=\"1\" class=\"dataframe\">\n",
       "  <thead>\n",
       "    <tr style=\"text-align: right;\">\n",
       "      <th></th>\n",
       "      <th>text</th>\n",
       "      <th>labels</th>\n",
       "      <th>pred_labels</th>\n",
       "      <th>pred_probs</th>\n",
       "    </tr>\n",
       "  </thead>\n",
       "  <tbody>\n",
       "    <tr>\n",
       "      <th>0</th>\n",
       "      <td>헌법재판소는 먼저 고발권 행사의 재량성에 대해서는 공정거래법은 제71조에서 '......</td>\n",
       "      <td>Negative</td>\n",
       "      <td>Neutral</td>\n",
       "      <td>0.557652</td>\n",
       "    </tr>\n",
       "    <tr>\n",
       "      <th>1</th>\n",
       "      <td>특히, 그룹내 업종도 다르고 재무구조도 다른 계열사들이 그룹으로 묶여지는 특수한 지...</td>\n",
       "      <td>Neutral</td>\n",
       "      <td>Neutral</td>\n",
       "      <td>0.928248</td>\n",
       "    </tr>\n",
       "    <tr>\n",
       "      <th>2</th>\n",
       "      <td>2018년 신규 취업자수는 36만명 증가하고, 전체 취업자 증가율은 1.4%로 20...</td>\n",
       "      <td>Neutral</td>\n",
       "      <td>Neutral</td>\n",
       "      <td>0.925551</td>\n",
       "    </tr>\n",
       "    <tr>\n",
       "      <th>3</th>\n",
       "      <td>앞서 분석한 대로 5월엔 펀더멘털 개선과 위험 요인들이 h지수의 방향을 좌우할 것이...</td>\n",
       "      <td>Neutral</td>\n",
       "      <td>Neutral</td>\n",
       "      <td>0.896470</td>\n",
       "    </tr>\n",
       "    <tr>\n",
       "      <th>4</th>\n",
       "      <td>재생에너지의 성장 속도는 향후 10년 안에 세계 주요 지역의 전통 에너지원 (con...</td>\n",
       "      <td>Positive</td>\n",
       "      <td>Positive</td>\n",
       "      <td>0.942311</td>\n",
       "    </tr>\n",
       "  </tbody>\n",
       "</table>\n",
       "</div>"
      ],
      "text/plain": [
       "                                                text    labels pred_labels  \\\n",
       "0  헌법재판소는 먼저 고발권 행사의 재량성에 대해서는 공정거래법은 제71조에서 '......  Negative     Neutral   \n",
       "1  특히, 그룹내 업종도 다르고 재무구조도 다른 계열사들이 그룹으로 묶여지는 특수한 지...   Neutral     Neutral   \n",
       "2  2018년 신규 취업자수는 36만명 증가하고, 전체 취업자 증가율은 1.4%로 20...   Neutral     Neutral   \n",
       "3  앞서 분석한 대로 5월엔 펀더멘털 개선과 위험 요인들이 h지수의 방향을 좌우할 것이...   Neutral     Neutral   \n",
       "4  재생에너지의 성장 속도는 향후 10년 안에 세계 주요 지역의 전통 에너지원 (con...  Positive    Positive   \n",
       "\n",
       "   pred_probs  \n",
       "0    0.557652  \n",
       "1    0.928248  \n",
       "2    0.925551  \n",
       "3    0.896470  \n",
       "4    0.942311  "
      ]
     },
     "execution_count": 6,
     "metadata": {},
     "output_type": "execute_result"
    },
    {
     "name": "stdout",
     "output_type": "stream",
     "text": [
      "time: 49.9 s (started: 2022-12-17 00:33:40 +00:00)\n"
     ]
    }
   ],
   "source": [
    "pol_preds = sm.predict(ds_pol.data)\n",
    "print(pol_preds.shape)\n",
    "cols = [\"text\", \"labels\", \"pred_labels\", \"pred_probs\"]\n",
    "pol_preds[cols].head()"
   ]
  },
  {
   "cell_type": "code",
   "execution_count": 7,
   "metadata": {},
   "outputs": [
    {
     "name": "stderr",
     "output_type": "stream",
     "text": [
      "INFO:ekorpkit.models.transformer.simple:Created 13616 records\n"
     ]
    },
    {
     "name": "stdout",
     "output_type": "stream",
     "text": [
      "3124\n"
     ]
    },
    {
     "data": {
      "text/plain": [
       "TextClassificationRecord(text='재생에너지는 태양 열, 태양광, 풍력, 수력(2003년 이후 10mw 이상의 대규모 수력발전 포함, 펌프 저장 수력 은 제외), 조력, 지열, 바이오, 폐기물로 구성되며, 바이오는 바이오가스, lfg(landfill gas), 바이오디젤, 우드 칩 & 펠렛, 성형탄, 임산연료, 폐목재, 흑액, 하수슬러지 고형연 료, 바이오 srf(solid refuse fuel), 바이오 중유로 구성되고, 폐기물은 폐가스, 산업폐기물, 생활폐기물, 대형 도시 쓰레기, 시멘트 킬린 보조 연료, rdf(refuse-derived fuel), rpf(refuse plastic fuel), tdf(tire-derived fuel), srf, 정제 연료유, 폐목재로 구성되며, 신에너지는 연료전지와 igcc(integrated gasification combined cycle)을 포함한 다(에너지경제연구원, 2017)', inputs={'text': '재생에너지는 태양 열, 태양광, 풍력, 수력(2003년 이후 10mw 이상의 대규모 수력발전 포함, 펌프 저장 수력 은 제외), 조력, 지열, 바이오, 폐기물로 구성되며, 바이오는 바이오가스, lfg(landfill gas), 바이오디젤, 우드 칩 & 펠렛, 성형탄, 임산연료, 폐목재, 흑액, 하수슬러지 고형연 료, 바이오 srf(solid refuse fuel), 바이오 중유로 구성되고, 폐기물은 폐가스, 산업폐기물, 생활폐기물, 대형 도시 쓰레기, 시멘트 킬린 보조 연료, rdf(refuse-derived fuel), rpf(refuse plastic fuel), tdf(tire-derived fuel), srf, 정제 연료유, 폐목재로 구성되며, 신에너지는 연료전지와 igcc(integrated gasification combined cycle)을 포함한 다(에너지경제연구원, 2017)'}, prediction=[('Neutral', 0.029362538787583405), ('Positive', 0.9645879337720511), ('Negative', 0.006049527440365727)], prediction_agent=None, annotation='Neutral', annotation_agent=None, multi_label=False, explanation=None, id=None, metadata={'id': 20632, 'split': 'train', 'label_error_candidate': 0}, status='Validated', event_timestamp=None, metrics=None, search_keywords=None)"
      ]
     },
     "execution_count": 7,
     "metadata": {},
     "output_type": "execute_result"
    },
    {
     "name": "stdout",
     "output_type": "stream",
     "text": [
      "time: 5.63 s (started: 2022-12-17 00:34:30 +00:00)\n"
     ]
    }
   ],
   "source": [
    "records_with_label_error = sm.find_label_errors(pol_preds)\n",
    "print(len(records_with_label_error))\n",
    "records_with_label_error[0]"
   ]
  },
  {
   "cell_type": "code",
   "execution_count": 8,
   "metadata": {},
   "outputs": [
    {
     "name": "stderr",
     "output_type": "stream",
     "text": [
      "INFO:ekorpkit.io.file:Saving dataframe to /workspace/projects/ekorpkit-book/exmaples/esg/data/esg_polarity_kr/esg_polarity_data_validated.parquet\n"
     ]
    },
    {
     "name": "stdout",
     "output_type": "stream",
     "text": [
      "10492\n",
      "time: 3.61 s (started: 2022-12-17 00:34:36 +00:00)\n"
     ]
    }
   ],
   "source": [
    "# remove rows from preds that have label errors\n",
    "pol_preds_new = pol_preds.copy()\n",
    "for record in records_with_label_error:\n",
    "    metadata = record.metadata\n",
    "    pol_preds_new = pol_preds_new[pol_preds_new.id != metadata[\"id\"]]\n",
    "print(len(pol_preds_new))\n",
    "filename = \"esg_polarity_data_validated.parquet\"\n",
    "eKonf.save_data(pol_preds_new, filename, ds_pol.data_dir)"
   ]
  },
  {
   "cell_type": "code",
   "execution_count": 9,
   "metadata": {},
   "outputs": [
    {
     "name": "stderr",
     "output_type": "stream",
     "text": [
      "INFO:ekorpkit.io.file:Concatenating 2 dataframes\n",
      "INFO:ekorpkit.io.file:Saving dataframe to /workspace/projects/ekorpkit-book/exmaples/esg/data/esg_polarity_validated/esg_polarity_labels_validated.parquet\n"
     ]
    },
    {
     "name": "stdout",
     "output_type": "stream",
     "text": [
      "(11650, 2)\n",
      "Neutral     8744\n",
      "Positive    2138\n",
      "Negative     768\n",
      "Name: labels, dtype: int64\n",
      "time: 692 ms (started: 2022-12-17 00:34:39 +00:00)\n"
     ]
    }
   ],
   "source": [
    "data_pol_merged = eKonf.concat_data([pol_preds_new[['text', 'labels']], pol_data[['text', 'labels']]], axis=0)\n",
    "print(data_pol_merged.shape)\n",
    "print(data_pol_merged.labels.value_counts())\n",
    "# Save data\n",
    "valid_pol_file = \"esg_polarity_labels_validated.parquet\"\n",
    "valid_data_dir = ws.project_dir / \"esg/data/esg_polarity_validated\"\n",
    "eKonf.save_data(data_pol_merged, valid_pol_file, valid_data_dir)"
   ]
  },
  {
   "cell_type": "code",
   "execution_count": 10,
   "metadata": {},
   "outputs": [
    {
     "name": "stdout",
     "output_type": "stream",
     "text": [
      "time: 2.5 s (started: 2022-12-17 00:34:40 +00:00)\n"
     ]
    }
   ],
   "source": [
    "from ekorpkit.models.transformer.simple import SimpleClassification\n",
    "\n",
    "trained_model = \"esg/models/esg_polarity-classification\"\n",
    "valid_pol_file = \"esg_polarity_labels_validated.parquet\"\n",
    "valid_data_dir = ws.project_dir / \"esg/data/esg_polarity_validated\"\n",
    "\n",
    "cfg = eKonf.compose('task=simple.classification')\n",
    "cfg.name = \"esg_polarity_validated\"\n",
    "cfg.dataset.data_dir = valid_data_dir\n",
    "cfg.dataset.data_files = valid_pol_file\n",
    "cfg.dataset.test_size = 0.2\n",
    "cfg.dataset.dev_size = 0.2\n",
    "cfg.dataset.shuffle = True\n",
    "cfg.dataset.seed = 1329829118\n",
    "cfg.model.model_name_or_path = f\"{ws.project_dir}/{trained_model}\"\n",
    "cfg.trainer.num_train_epochs = 10\n",
    "cfg.trainer.max_seq_length = 256\n",
    "cfg.trainer.train_batch_size = 128\n",
    "cfg.trainer.eval_batch_size = 128\n",
    "\n",
    "sm = SimpleClassification(**cfg)"
   ]
  },
  {
   "cell_type": "code",
   "execution_count": 11,
   "metadata": {
    "scrolled": false
   },
   "outputs": [
    {
     "name": "stderr",
     "output_type": "stream",
     "text": [
      "INFO:ekorpkit.datasets.config:Splitting the dataframe into train and test with ratio 0.2\n",
      "INFO:ekorpkit.datasets.config:Splitting the dataframe into train and dev with ratio 0.2\n",
      "INFO:ekorpkit.datasets.config:Shuffling the dataframe with seed 1329829118\n",
      "INFO:ekorpkit.datasets.config:Train data: (7456, 2)\n",
      "INFO:ekorpkit.datasets.config:Test data: (2330, 2)\n",
      "INFO:ekorpkit.datasets.config:Dev data: (1864, 2)\n",
      "INFO:ekorpkit.models.transformer.simple:Renaming columns: {}\n",
      "INFO:ekorpkit.models.transformer.simple:Renaming columns: {}\n",
      "INFO:ekorpkit.models.transformer.simple:Renaming columns: {}\n",
      "INFO:simpletransformers.classification.classification_utils: Converting to features started. Cache is not used.\n",
      "INFO:simpletransformers.classification.classification_utils: Saving features into cached file /workspace/.cache/cached_train_electra_256_3_2\n"
     ]
    },
    {
     "data": {
      "application/vnd.jupyter.widget-view+json": {
       "model_id": "088c1eeac4974f6ca712e7f9c7d9d2b5",
       "version_major": 2,
       "version_minor": 0
      },
      "text/plain": [
       "Epoch:   0%|          | 0/10 [00:00<?, ?it/s]"
      ]
     },
     "metadata": {},
     "output_type": "display_data"
    },
    {
     "name": "stderr",
     "output_type": "stream",
     "text": [
      "INFO:simpletransformers.classification.classification_model:   Starting fine-tuning.\n",
      "INFO:simpletransformers.classification.classification_model: Initializing WandB run for training.\n"
     ]
    },
    {
     "data": {
      "application/vnd.jupyter.widget-view+json": {
       "model_id": "6f2e2e92e9f14f589767fd5c4dd9599c",
       "version_major": 2,
       "version_minor": 0
      },
      "text/plain": [
       "VBox(children=(Label(value='Waiting for wandb.init()...\\r'), FloatProgress(value=0.01666853961845239, max=1.0)…"
      ]
     },
     "metadata": {},
     "output_type": "display_data"
    },
    {
     "data": {
      "application/vnd.jupyter.widget-view+json": {
       "model_id": "d4fddb963349444c8811aa79376a4284",
       "version_major": 2,
       "version_minor": 0
      },
      "text/plain": [
       "Running Epoch 0 of 10:   0%|          | 0/59 [00:00<?, ?it/s]"
      ]
     },
     "metadata": {},
     "output_type": "display_data"
    },
    {
     "name": "stderr",
     "output_type": "stream",
     "text": [
      "INFO:simpletransformers.classification.classification_utils: Converting to features started. Cache is not used.\n",
      "INFO:simpletransformers.classification.classification_utils: Saving features into cached file /workspace/.cache/cached_dev_electra_256_3_2\n",
      "INFO:simpletransformers.classification.classification_model:{'mcc': 0.8069432996637999, 'acc': 0.9125536480686696, 'eval_loss': 0.25196620722611746}\n"
     ]
    },
    {
     "data": {
      "application/vnd.jupyter.widget-view+json": {
       "model_id": "a1d168b3c754473dbf4e855f1b37870e",
       "version_major": 2,
       "version_minor": 0
      },
      "text/plain": [
       "Running Epoch 1 of 10:   0%|          | 0/59 [00:00<?, ?it/s]"
      ]
     },
     "metadata": {},
     "output_type": "display_data"
    },
    {
     "name": "stderr",
     "output_type": "stream",
     "text": [
      "INFO:simpletransformers.classification.classification_utils: Converting to features started. Cache is not used.\n",
      "INFO:simpletransformers.classification.classification_utils: Saving features into cached file /workspace/.cache/cached_dev_electra_256_3_2\n",
      "INFO:simpletransformers.classification.classification_model:{'mcc': 0.8419274870938194, 'acc': 0.9350858369098712, 'eval_loss': 0.17219401597976686}\n"
     ]
    },
    {
     "data": {
      "application/vnd.jupyter.widget-view+json": {
       "model_id": "a9c5973612c24ae79b1f45d30e18da30",
       "version_major": 2,
       "version_minor": 0
      },
      "text/plain": [
       "Running Epoch 2 of 10:   0%|          | 0/59 [00:00<?, ?it/s]"
      ]
     },
     "metadata": {},
     "output_type": "display_data"
    },
    {
     "name": "stderr",
     "output_type": "stream",
     "text": [
      "INFO:simpletransformers.classification.classification_utils: Converting to features started. Cache is not used.\n",
      "INFO:simpletransformers.classification.classification_utils: Saving features into cached file /workspace/.cache/cached_dev_electra_256_3_2\n",
      "INFO:simpletransformers.classification.classification_model:{'mcc': 0.8616681988721946, 'acc': 0.9431330472103004, 'eval_loss': 0.17937145059307416}\n"
     ]
    },
    {
     "data": {
      "application/vnd.jupyter.widget-view+json": {
       "model_id": "7dfd91a76ef24150a299c7bf829fea4d",
       "version_major": 2,
       "version_minor": 0
      },
      "text/plain": [
       "Running Epoch 3 of 10:   0%|          | 0/59 [00:00<?, ?it/s]"
      ]
     },
     "metadata": {},
     "output_type": "display_data"
    },
    {
     "name": "stderr",
     "output_type": "stream",
     "text": [
      "INFO:simpletransformers.classification.classification_utils: Converting to features started. Cache is not used.\n",
      "INFO:simpletransformers.classification.classification_utils: Saving features into cached file /workspace/.cache/cached_dev_electra_256_3_2\n",
      "INFO:simpletransformers.classification.classification_model:{'mcc': 0.8164735813464941, 'acc': 0.9179184549356223, 'eval_loss': 0.28928871850172677}\n"
     ]
    },
    {
     "data": {
      "application/vnd.jupyter.widget-view+json": {
       "model_id": "4d59055dcbd540088aa72af52f56ee9e",
       "version_major": 2,
       "version_minor": 0
      },
      "text/plain": [
       "Running Epoch 4 of 10:   0%|          | 0/59 [00:00<?, ?it/s]"
      ]
     },
     "metadata": {},
     "output_type": "display_data"
    },
    {
     "name": "stderr",
     "output_type": "stream",
     "text": [
      "INFO:simpletransformers.classification.classification_utils: Converting to features started. Cache is not used.\n",
      "INFO:simpletransformers.classification.classification_utils: Saving features into cached file /workspace/.cache/cached_dev_electra_256_3_2\n",
      "INFO:simpletransformers.classification.classification_model:{'mcc': 0.8320324459516233, 'acc': 0.924892703862661, 'eval_loss': 0.2821295350790024}\n"
     ]
    },
    {
     "data": {
      "application/vnd.jupyter.widget-view+json": {
       "model_id": "3cb41a27e47c4c16bec1eccc92988aeb",
       "version_major": 2,
       "version_minor": 0
      },
      "text/plain": [
       "Running Epoch 5 of 10:   0%|          | 0/59 [00:00<?, ?it/s]"
      ]
     },
     "metadata": {},
     "output_type": "display_data"
    },
    {
     "name": "stderr",
     "output_type": "stream",
     "text": [
      "INFO:simpletransformers.classification.classification_utils: Converting to features started. Cache is not used.\n",
      "INFO:simpletransformers.classification.classification_utils: Saving features into cached file /workspace/.cache/cached_dev_electra_256_3_2\n",
      "INFO:simpletransformers.classification.classification_model:{'mcc': 0.8287765741836166, 'acc': 0.9243562231759657, 'eval_loss': 0.3702389821410179}\n"
     ]
    },
    {
     "data": {
      "application/vnd.jupyter.widget-view+json": {
       "model_id": "c5730235766c41cdafd8402b45a791dc",
       "version_major": 2,
       "version_minor": 0
      },
      "text/plain": [
       "Running Epoch 6 of 10:   0%|          | 0/59 [00:00<?, ?it/s]"
      ]
     },
     "metadata": {},
     "output_type": "display_data"
    },
    {
     "name": "stderr",
     "output_type": "stream",
     "text": [
      "INFO:simpletransformers.classification.classification_utils: Converting to features started. Cache is not used.\n",
      "INFO:simpletransformers.classification.classification_utils: Saving features into cached file /workspace/.cache/cached_dev_electra_256_3_2\n",
      "INFO:simpletransformers.classification.classification_model:{'mcc': 0.8184320449091033, 'acc': 0.9206008583690987, 'eval_loss': 0.37210700412591297}\n"
     ]
    },
    {
     "data": {
      "application/vnd.jupyter.widget-view+json": {
       "model_id": "52ce155dcd634c49ac2c119a115a4bcc",
       "version_major": 2,
       "version_minor": 0
      },
      "text/plain": [
       "Running Epoch 7 of 10:   0%|          | 0/59 [00:00<?, ?it/s]"
      ]
     },
     "metadata": {},
     "output_type": "display_data"
    },
    {
     "name": "stderr",
     "output_type": "stream",
     "text": [
      "INFO:simpletransformers.classification.classification_utils: Converting to features started. Cache is not used.\n",
      "INFO:simpletransformers.classification.classification_utils: Saving features into cached file /workspace/.cache/cached_dev_electra_256_3_2\n",
      "INFO:simpletransformers.classification.classification_model:{'mcc': 0.823652825682142, 'acc': 0.9206008583690987, 'eval_loss': 0.3642778545618057}\n"
     ]
    },
    {
     "data": {
      "application/vnd.jupyter.widget-view+json": {
       "model_id": "1038529efba049c3863f4515fa9bbd90",
       "version_major": 2,
       "version_minor": 0
      },
      "text/plain": [
       "Running Epoch 8 of 10:   0%|          | 0/59 [00:00<?, ?it/s]"
      ]
     },
     "metadata": {},
     "output_type": "display_data"
    },
    {
     "name": "stderr",
     "output_type": "stream",
     "text": [
      "INFO:simpletransformers.classification.classification_utils: Converting to features started. Cache is not used.\n",
      "INFO:simpletransformers.classification.classification_utils: Saving features into cached file /workspace/.cache/cached_dev_electra_256_3_2\n",
      "INFO:simpletransformers.classification.classification_model:{'mcc': 0.848417005052376, 'acc': 0.9356223175965666, 'eval_loss': 0.30577353313565253}\n"
     ]
    },
    {
     "data": {
      "application/vnd.jupyter.widget-view+json": {
       "model_id": "10b1085c5f87498983c85afd16813823",
       "version_major": 2,
       "version_minor": 0
      },
      "text/plain": [
       "Running Epoch 9 of 10:   0%|          | 0/59 [00:00<?, ?it/s]"
      ]
     },
     "metadata": {},
     "output_type": "display_data"
    },
    {
     "name": "stderr",
     "output_type": "stream",
     "text": [
      "INFO:simpletransformers.classification.classification_utils: Converting to features started. Cache is not used.\n",
      "INFO:simpletransformers.classification.classification_utils: Saving features into cached file /workspace/.cache/cached_dev_electra_256_3_2\n",
      "INFO:simpletransformers.classification.classification_model:{'mcc': 0.8422222079477867, 'acc': 0.9318669527896996, 'eval_loss': 0.3222779060403506}\n",
      "INFO:simpletransformers.classification.classification_model: Training of electra model complete. Saved to /workspace/projects/ekorpkit-book/exmaples/esg/models/esg_polarity_validated-classification.\n",
      "INFO:simpletransformers.classification.classification_utils: Converting to features started. Cache is not used.\n",
      "INFO:simpletransformers.classification.classification_utils: Saving features into cached file /workspace/.cache/cached_dev_electra_256_3_2\n"
     ]
    },
    {
     "data": {
      "application/vnd.jupyter.widget-view+json": {
       "model_id": "51ef84e670a342ffad045906ed01c465",
       "version_major": 2,
       "version_minor": 0
      },
      "text/plain": [
       "Running Evaluation:   0%|          | 0/19 [00:00<?, ?it/s]"
      ]
     },
     "metadata": {},
     "output_type": "display_data"
    },
    {
     "name": "stderr",
     "output_type": "stream",
     "text": [
      "INFO:simpletransformers.classification.classification_model: Initializing WandB run for evaluation.\n"
     ]
    },
    {
     "data": {
      "application/vnd.jupyter.widget-view+json": {
       "model_id": "6e118c838d7f41949e61eff55b9b9a2d",
       "version_major": 2,
       "version_minor": 0
      },
      "text/plain": [
       "VBox(children=(Label(value='Waiting for wandb.init()...\\r'), FloatProgress(value=0.016668380113939445, max=1.0…"
      ]
     },
     "metadata": {},
     "output_type": "display_data"
    },
    {
     "name": "stderr",
     "output_type": "stream",
     "text": [
      "INFO:simpletransformers.classification.classification_model:{'mcc': 0.8446079311622469, 'acc': 0.9356223175965666, 'eval_loss': 0.306164560349364}\n",
      "INFO:ekorpkit.config:Saving config to /workspace/projects/ekorpkit-book/exmaples/esg/outputs/esg_polarity_validated/configs/esg_polarity_validated(4)_config.yaml\n",
      "INFO:ekorpkit.models.transformer.simple:Loaded model from /workspace/projects/ekorpkit-book/exmaples/esg/models/esg_polarity_validated-classification/best_model\n",
      "INFO:simpletransformers.classification.classification_utils: Converting to features started. Cache is not used.\n"
     ]
    },
    {
     "data": {
      "application/vnd.jupyter.widget-view+json": {
       "model_id": "49720f49efff4cfc95ebc2cc19d50924",
       "version_major": 2,
       "version_minor": 0
      },
      "text/plain": [
       "  0%|          | 0/19 [00:00<?, ?it/s]"
      ]
     },
     "metadata": {},
     "output_type": "display_data"
    },
    {
     "name": "stderr",
     "output_type": "stream",
     "text": [
      "INFO:ekorpkit.models.transformer.simple:type of raw_outputs: <class 'numpy.ndarray'>\n",
      "INFO:ekorpkit.models.transformer.simple:raw_output: [ 4.11547422 -1.68294871 -2.02361226]\n",
      "INFO:ekorpkit.io.file:Saving dataframe to /workspace/projects/ekorpkit-book/exmaples/esg/outputs/esg_polarity_validated/esg_polarity_validated(4)_preds.parquet\n"
     ]
    },
    {
     "name": "stdout",
     "output_type": "stream",
     "text": [
      "Accuracy:  0.9343347639484979\n",
      "Precison:  0.9377720839698163\n",
      "Recall:  0.9343347639484979\n",
      "F1 Score:  0.9350573882693292\n",
      "Model Report: \n",
      "___________________________________________________\n",
      "              precision    recall  f1-score   support\n",
      "\n",
      "    Negative       0.73      0.94      0.82       142\n",
      "     Neutral       0.96      0.95      0.96      1760\n",
      "    Positive       0.91      0.85      0.88       428\n",
      "\n",
      "    accuracy                           0.93      2330\n",
      "   macro avg       0.87      0.92      0.89      2330\n",
      "weighted avg       0.94      0.93      0.94      2330\n",
      "\n"
     ]
    },
    {
     "name": "stderr",
     "output_type": "stream",
     "text": [
      "INFO:ekorpkit.visualize.base:Saved figure to /workspace/projects/ekorpkit-book/exmaples/esg/outputs/esg_polarity_validated/esg_polarity_validated(4)_confusion_matrix.png\n"
     ]
    },
    {
     "data": {
      "image/png": "[encoded data removed]",
      "text/plain": [
       "<Figure size 720x360 with 2 Axes>"
      ]
     },
     "metadata": {
      "image/png": {
       "height": 331,
       "width": 644
      }
     },
     "output_type": "display_data"
    },
    {
     "name": "stdout",
     "output_type": "stream",
     "text": [
      "time: 13min 42s (started: 2022-12-17 00:34:42 +00:00)\n"
     ]
    }
   ],
   "source": [
    "sm.train()\n",
    "sm.eval()"
   ]
  },
  {
   "cell_type": "markdown",
   "metadata": {
    "pycharm": {
     "name": "#%% md\n"
    }
   },
   "source": [
    "## Preparing invalid topic data"
   ]
  },
  {
   "cell_type": "code",
   "execution_count": 12,
   "metadata": {},
   "outputs": [
    {
     "name": "stderr",
     "output_type": "stream",
     "text": [
      "INFO:ekorpkit.datasets.config:Loaded info file: /workspace/projects/ekorpkit-book/exmaples/esg/data/esg_invalid_kr/info-esg_invalid_kr.yaml\n",
      "INFO:ekorpkit.info.column:index: index, index of data: None, columns: ['text', 'labels', 'annotation'], id: ['id']\n",
      "INFO:ekorpkit.info.column:Adding id [split] to ['id']\n",
      "INFO:ekorpkit.info.column:Added id [split], now ['id', 'split']\n",
      "INFO:ekorpkit.info.column:Added a column [split] with value [train]\n",
      "INFO:ekorpkit.info.column:Added a column [split] with value [dev]\n",
      "INFO:ekorpkit.info.column:Added a column [split] with value [test]\n",
      "INFO:ekorpkit.io.file:Concatenating 3 dataframes\n"
     ]
    },
    {
     "name": "stdout",
     "output_type": "stream",
     "text": [
      "Validated    198\n",
      "Discarded    173\n",
      "Name: labels, dtype: int64\n",
      "time: 1.39 s (started: 2022-12-17 00:48:25 +00:00)\n"
     ]
    }
   ],
   "source": [
    "from ekorpkit.datasets.dataset import Dataset\n",
    "\n",
    "cfg = eKonf.compose(\"dataset=dataset\")\n",
    "cfg.name = \"esg_invalid_kr\"\n",
    "cfg.data_dir = cfg.path.data_dir\n",
    "ds_inval = Dataset(**cfg)\n",
    "print(ds_inval.data[\"labels\"].value_counts())"
   ]
  },
  {
   "cell_type": "code",
   "execution_count": 13,
   "metadata": {},
   "outputs": [
    {
     "name": "stdout",
     "output_type": "stream",
     "text": [
      "UNKNOWN             212\n",
      "E-환경혁신               72\n",
      "G-지배구조               66\n",
      "G-기업윤리/불공정/소송        57\n",
      "E-기후변화               53\n",
      "S-기업(공급망)동반성장/상생     33\n",
      "ESG                  24\n",
      "S-고용                 20\n",
      "S-소비자                14\n",
      "S-사회공헌               11\n",
      "S-재해/안전관리             9\n",
      "E-환경영향                5\n",
      "Name: labels, dtype: int64\n",
      "Validated    364\n",
      "Discarded    212\n",
      "Name: labels, dtype: int64\n",
      "time: 11.7 ms (started: 2022-12-17 00:48:27 +00:00)\n"
     ]
    }
   ],
   "source": [
    "file = ws.project_dir / \"esg/outputs/esg_topic_labels/esg_topic_labels(0)_export.parquet\"\n",
    "tp_add = eKonf.load_data(file)\n",
    "# summary of labels column\n",
    "print(tp_add[\"labels\"].value_counts())\n",
    "# change value of labels column\n",
    "# UNKNOWN -> Discarded\n",
    "# Other values -> Validated\n",
    "tp_add[\"labels\"] = tp_add[\"labels\"].apply(lambda x: \"Discarded\" if x == \"UNKNOWN\" else \"Validated\")\n",
    "print(tp_add[\"labels\"].value_counts())"
   ]
  },
  {
   "cell_type": "code",
   "execution_count": 14,
   "metadata": {},
   "outputs": [
    {
     "name": "stderr",
     "output_type": "stream",
     "text": [
      "INFO:ekorpkit.io.file:Concatenating 3 dataframes\n",
      "INFO:ekorpkit.io.file:Concatenating 2 dataframes\n",
      "INFO:ekorpkit.io.file:Saving dataframe to /workspace/projects/ekorpkit-book/exmaples/esg/data/esg_invalid_kr/esg_invalid_kr_merged.parquet\n"
     ]
    },
    {
     "name": "stdout",
     "output_type": "stream",
     "text": [
      "Validated    562\n",
      "Discarded    385\n",
      "Name: labels, dtype: int64\n",
      "time: 114 ms (started: 2022-12-17 00:48:27 +00:00)\n"
     ]
    }
   ],
   "source": [
    "# combine two datasets\n",
    "data_inval = eKonf.concat_data([ds_inval.data, tp_add], axis=0)\n",
    "print(data_inval.labels.value_counts())\n",
    "data_inval.head()\n",
    "# Save data\n",
    "file_inval = \"esg_invalid_kr_merged.parquet\"\n",
    "eKonf.save_data(data_inval, file_inval, ds_inval.data_dir)"
   ]
  },
  {
   "cell_type": "markdown",
   "metadata": {},
   "source": [
    "## Training an invalid topic classifier"
   ]
  },
  {
   "cell_type": "code",
   "execution_count": 15,
   "metadata": {},
   "outputs": [
    {
     "name": "stdout",
     "output_type": "stream",
     "text": [
      "time: 3.43 s (started: 2022-12-17 00:48:27 +00:00)\n"
     ]
    }
   ],
   "source": [
    "from ekorpkit.models.transformer.simple import SimpleClassification\n",
    "\n",
    "\n",
    "cfg = eKonf.compose('task=simple.classification')\n",
    "cfg.name = \"esg_topic_invalid_merged\"\n",
    "cfg.dataset.data_dir = ds_inval.data_dir\n",
    "cfg.dataset.data_files = file_inval\n",
    "cfg.dataset.test_size = 0.2\n",
    "# cfg.dataset.dev_size = 0.2\n",
    "cfg.dataset.seed = 3247616750\n",
    "cfg.dataset.shuffle = True\n",
    "cfg.model.model_name_or_path = \"entelecheia/ekonelectra-base-discriminator\"\n",
    "cfg.trainer.num_train_epochs = 10\n",
    "cfg.trainer.max_seq_length = 256\n",
    "cfg.trainer.train_batch_size = 128\n",
    "cfg.trainer.eval_batch_size = 128\n",
    "\n",
    "sm_inval = SimpleClassification(**cfg)"
   ]
  },
  {
   "cell_type": "code",
   "execution_count": 16,
   "metadata": {
    "scrolled": false
   },
   "outputs": [
    {
     "name": "stderr",
     "output_type": "stream",
     "text": [
      "INFO:ekorpkit.datasets.config:Splitting the dataframe into train and test with ratio 0.2\n",
      "INFO:ekorpkit.datasets.config:Shuffling the dataframe with seed 3247616750\n",
      "INFO:ekorpkit.datasets.config:Train data: (757, 8)\n",
      "INFO:ekorpkit.datasets.config:Test data: (190, 8)\n",
      "INFO:ekorpkit.io.file:Concatenating 2 dataframes\n",
      "INFO:ekorpkit.datasets.config:Train data: (631, 8)\n",
      "INFO:ekorpkit.models.transformer.simple:Renaming columns: {}\n",
      "INFO:ekorpkit.models.transformer.simple:No columns or data to rename\n",
      "INFO:ekorpkit.models.transformer.simple:Renaming columns: {}\n",
      "Some weights of the model checkpoint at entelecheia/ekonelectra-base-discriminator were not used when initializing ElectraForSequenceClassification: ['discriminator_predictions.dense_prediction.weight', 'discriminator_predictions.dense.weight', 'discriminator_predictions.dense.bias', 'discriminator_predictions.dense_prediction.bias']\n",
      "- This IS expected if you are initializing ElectraForSequenceClassification from the checkpoint of a model trained on another task or with another architecture (e.g. initializing a BertForSequenceClassification model from a BertForPreTraining model).\n",
      "- This IS NOT expected if you are initializing ElectraForSequenceClassification from the checkpoint of a model that you expect to be exactly identical (initializing a BertForSequenceClassification model from a BertForSequenceClassification model).\n",
      "Some weights of ElectraForSequenceClassification were not initialized from the model checkpoint at entelecheia/ekonelectra-base-discriminator and are newly initialized: ['classifier.out_proj.bias', 'classifier.dense.weight', 'classifier.out_proj.weight', 'classifier.dense.bias']\n",
      "You should probably TRAIN this model on a down-stream task to be able to use it for predictions and inference.\n",
      "INFO:simpletransformers.classification.classification_utils: Converting to features started. Cache is not used.\n",
      "INFO:simpletransformers.classification.classification_utils: Saving features into cached file /workspace/.cache/cached_train_electra_256_2_2\n"
     ]
    },
    {
     "data": {
      "application/vnd.jupyter.widget-view+json": {
       "model_id": "6519de68c7d84e5c88d14f417fe1a1d8",
       "version_major": 2,
       "version_minor": 0
      },
      "text/plain": [
       "Epoch:   0%|          | 0/10 [00:00<?, ?it/s]"
      ]
     },
     "metadata": {},
     "output_type": "display_data"
    },
    {
     "name": "stderr",
     "output_type": "stream",
     "text": [
      "INFO:simpletransformers.classification.classification_model: Initializing WandB run for training.\n"
     ]
    },
    {
     "data": {
      "application/vnd.jupyter.widget-view+json": {
       "model_id": "5d1d19630938424896c6e3fb42392394",
       "version_major": 2,
       "version_minor": 0
      },
      "text/plain": [
       "VBox(children=(Label(value='Waiting for wandb.init()...\\r'), FloatProgress(value=0.01666829502210021, max=1.0)…"
      ]
     },
     "metadata": {},
     "output_type": "display_data"
    },
    {
     "data": {
      "application/vnd.jupyter.widget-view+json": {
       "model_id": "eb491dbae60b4182938b8f07cd92fd33",
       "version_major": 2,
       "version_minor": 0
      },
      "text/plain": [
       "Running Epoch 0 of 10:   0%|          | 0/5 [00:00<?, ?it/s]"
      ]
     },
     "metadata": {},
     "output_type": "display_data"
    },
    {
     "data": {
      "application/vnd.jupyter.widget-view+json": {
       "model_id": "d4597a8de3eb41baa63ff9fd7da4a7c3",
       "version_major": 2,
       "version_minor": 0
      },
      "text/plain": [
       "Running Epoch 1 of 10:   0%|          | 0/5 [00:00<?, ?it/s]"
      ]
     },
     "metadata": {},
     "output_type": "display_data"
    },
    {
     "data": {
      "application/vnd.jupyter.widget-view+json": {
       "model_id": "357b9a6d9f6441858e948e223451e16a",
       "version_major": 2,
       "version_minor": 0
      },
      "text/plain": [
       "Running Epoch 2 of 10:   0%|          | 0/5 [00:00<?, ?it/s]"
      ]
     },
     "metadata": {},
     "output_type": "display_data"
    },
    {
     "data": {
      "application/vnd.jupyter.widget-view+json": {
       "model_id": "2884b6a6ad52441c97ce079f3670e6ed",
       "version_major": 2,
       "version_minor": 0
      },
      "text/plain": [
       "Running Epoch 3 of 10:   0%|          | 0/5 [00:00<?, ?it/s]"
      ]
     },
     "metadata": {},
     "output_type": "display_data"
    },
    {
     "data": {
      "application/vnd.jupyter.widget-view+json": {
       "model_id": "a5f07c510a3442489256e056c95f0231",
       "version_major": 2,
       "version_minor": 0
      },
      "text/plain": [
       "Running Epoch 4 of 10:   0%|          | 0/5 [00:00<?, ?it/s]"
      ]
     },
     "metadata": {},
     "output_type": "display_data"
    },
    {
     "data": {
      "application/vnd.jupyter.widget-view+json": {
       "model_id": "8abee45996c143ad995ce7d1306fafdb",
       "version_major": 2,
       "version_minor": 0
      },
      "text/plain": [
       "Running Epoch 5 of 10:   0%|          | 0/5 [00:00<?, ?it/s]"
      ]
     },
     "metadata": {},
     "output_type": "display_data"
    },
    {
     "data": {
      "application/vnd.jupyter.widget-view+json": {
       "model_id": "0795afb04a634f83a0aa1f5f1da2f0c4",
       "version_major": 2,
       "version_minor": 0
      },
      "text/plain": [
       "Running Epoch 6 of 10:   0%|          | 0/5 [00:00<?, ?it/s]"
      ]
     },
     "metadata": {},
     "output_type": "display_data"
    },
    {
     "data": {
      "application/vnd.jupyter.widget-view+json": {
       "model_id": "49917154667b41b39fbf9be2bdf606de",
       "version_major": 2,
       "version_minor": 0
      },
      "text/plain": [
       "Running Epoch 7 of 10:   0%|          | 0/5 [00:00<?, ?it/s]"
      ]
     },
     "metadata": {},
     "output_type": "display_data"
    },
    {
     "data": {
      "application/vnd.jupyter.widget-view+json": {
       "model_id": "455e154711e34e27bcf8f8ac3ebd17cb",
       "version_major": 2,
       "version_minor": 0
      },
      "text/plain": [
       "Running Epoch 8 of 10:   0%|          | 0/5 [00:00<?, ?it/s]"
      ]
     },
     "metadata": {},
     "output_type": "display_data"
    },
    {
     "data": {
      "application/vnd.jupyter.widget-view+json": {
       "model_id": "261df5e96c944c339f970ecdfbf70d3b",
       "version_major": 2,
       "version_minor": 0
      },
      "text/plain": [
       "Running Epoch 9 of 10:   0%|          | 0/5 [00:00<?, ?it/s]"
      ]
     },
     "metadata": {},
     "output_type": "display_data"
    },
    {
     "name": "stderr",
     "output_type": "stream",
     "text": [
      "INFO:simpletransformers.classification.classification_model: Training of electra model complete. Saved to /workspace/projects/ekorpkit-book/exmaples/esg/models/esg_topic_invalid_merged-classification.\n",
      "INFO:simpletransformers.classification.classification_utils: Converting to features started. Cache is not used.\n",
      "INFO:simpletransformers.classification.classification_utils: Saving features into cached file /workspace/.cache/cached_dev_electra_256_2_2\n"
     ]
    },
    {
     "data": {
      "application/vnd.jupyter.widget-view+json": {
       "model_id": "a3bc2ec62bfa4b8b8f4a4d82497d9044",
       "version_major": 2,
       "version_minor": 0
      },
      "text/plain": [
       "Running Evaluation:   0%|          | 0/3 [00:00<?, ?it/s]"
      ]
     },
     "metadata": {},
     "output_type": "display_data"
    },
    {
     "name": "stderr",
     "output_type": "stream",
     "text": [
      "INFO:simpletransformers.classification.classification_model: Initializing WandB run for evaluation.\n"
     ]
    },
    {
     "data": {
      "application/vnd.jupyter.widget-view+json": {
       "model_id": "d7837b9c9cfb45d896126c364aa1213a",
       "version_major": 2,
       "version_minor": 0
      },
      "text/plain": [
       "VBox(children=(Label(value='Waiting for wandb.init()...\\r'), FloatProgress(value=0.01666844335074226, max=1.0)…"
      ]
     },
     "metadata": {},
     "output_type": "display_data"
    },
    {
     "name": "stderr",
     "output_type": "stream",
     "text": [
      "INFO:simpletransformers.classification.classification_model:{'mcc': 0.5261215129920984, 'tp': 86, 'tn': 159, 'fp': 32, 'fn': 39, 'auroc': 0.8100314136125654, 'auprc': 0.7284616601212042, 'acc': 0.7753164556962026, 'eval_loss': 0.5155150691668192}\n",
      "INFO:ekorpkit.config:Saving config to /workspace/projects/ekorpkit-book/exmaples/esg/outputs/esg_topic_invalid_merged/configs/esg_topic_invalid_merged(15)_config.yaml\n",
      "INFO:ekorpkit.models.transformer.simple:Predicting split 0\n",
      "INFO:ekorpkit.models.transformer.simple:Loaded model from /workspace/projects/ekorpkit-book/exmaples/esg/models/esg_topic_invalid_merged-classification/best_model\n",
      "INFO:simpletransformers.classification.classification_utils: Converting to features started. Cache is not used.\n"
     ]
    },
    {
     "data": {
      "application/vnd.jupyter.widget-view+json": {
       "model_id": "a3cce149777c4102a33cea9877601d10",
       "version_major": 2,
       "version_minor": 0
      },
      "text/plain": [
       "  0%|          | 0/10 [00:00<?, ?it/s]"
      ]
     },
     "metadata": {},
     "output_type": "display_data"
    },
    {
     "name": "stderr",
     "output_type": "stream",
     "text": [
      "INFO:ekorpkit.models.transformer.simple:type of raw_outputs: <class 'numpy.ndarray'>\n",
      "INFO:ekorpkit.models.transformer.simple:raw_output: [ 0.30730882 -0.42756858]\n",
      "INFO:ekorpkit.io.file:Saving dataframe to /workspace/projects/ekorpkit-book/exmaples/esg/outputs/esg_topic_invalid_merged/esg_topic_invalid_merged(15)_preds.parquet\n",
      "INFO:ekorpkit.datasets.config:Train data: (631, 11)\n",
      "INFO:ekorpkit.models.transformer.simple:Renaming columns: {}\n",
      "INFO:ekorpkit.models.transformer.simple:No columns or data to rename\n",
      "INFO:ekorpkit.models.transformer.simple:Renaming columns: {}\n",
      "Some weights of the model checkpoint at entelecheia/ekonelectra-base-discriminator were not used when initializing ElectraForSequenceClassification: ['discriminator_predictions.dense_prediction.weight', 'discriminator_predictions.dense.weight', 'discriminator_predictions.dense.bias', 'discriminator_predictions.dense_prediction.bias']\n",
      "- This IS expected if you are initializing ElectraForSequenceClassification from the checkpoint of a model trained on another task or with another architecture (e.g. initializing a BertForSequenceClassification model from a BertForPreTraining model).\n",
      "- This IS NOT expected if you are initializing ElectraForSequenceClassification from the checkpoint of a model that you expect to be exactly identical (initializing a BertForSequenceClassification model from a BertForSequenceClassification model).\n",
      "Some weights of ElectraForSequenceClassification were not initialized from the model checkpoint at entelecheia/ekonelectra-base-discriminator and are newly initialized: ['classifier.out_proj.bias', 'classifier.dense.weight', 'classifier.out_proj.weight', 'classifier.dense.bias']\n",
      "You should probably TRAIN this model on a down-stream task to be able to use it for predictions and inference.\n",
      "INFO:simpletransformers.classification.classification_utils: Converting to features started. Cache is not used.\n",
      "INFO:simpletransformers.classification.classification_utils: Saving features into cached file /workspace/.cache/cached_train_electra_256_2_2\n"
     ]
    },
    {
     "data": {
      "application/vnd.jupyter.widget-view+json": {
       "model_id": "5d76a27b36eb48eab7b3299ecc759f8d",
       "version_major": 2,
       "version_minor": 0
      },
      "text/plain": [
       "Epoch:   0%|          | 0/10 [00:00<?, ?it/s]"
      ]
     },
     "metadata": {},
     "output_type": "display_data"
    },
    {
     "name": "stderr",
     "output_type": "stream",
     "text": [
      "INFO:simpletransformers.classification.classification_model: Initializing WandB run for training.\n"
     ]
    },
    {
     "data": {
      "application/vnd.jupyter.widget-view+json": {
       "model_id": "b5b9a6cd64b945e8940cb746faa539d1",
       "version_major": 2,
       "version_minor": 0
      },
      "text/plain": [
       "VBox(children=(Label(value='Waiting for wandb.init()...\\r'), FloatProgress(value=0.016668667178601028, max=1.0…"
      ]
     },
     "metadata": {},
     "output_type": "display_data"
    },
    {
     "data": {
      "application/vnd.jupyter.widget-view+json": {
       "model_id": "fc4fea56130f4c5aa9f6532090d29c4a",
       "version_major": 2,
       "version_minor": 0
      },
      "text/plain": [
       "Running Epoch 0 of 10:   0%|          | 0/5 [00:00<?, ?it/s]"
      ]
     },
     "metadata": {},
     "output_type": "display_data"
    },
    {
     "data": {
      "application/vnd.jupyter.widget-view+json": {
       "model_id": "58f85512a01e44b49e62c1b456d5aaa4",
       "version_major": 2,
       "version_minor": 0
      },
      "text/plain": [
       "Running Epoch 1 of 10:   0%|          | 0/5 [00:00<?, ?it/s]"
      ]
     },
     "metadata": {},
     "output_type": "display_data"
    },
    {
     "data": {
      "application/vnd.jupyter.widget-view+json": {
       "model_id": "f2ae25ef1e774d1daffeb613ec873c45",
       "version_major": 2,
       "version_minor": 0
      },
      "text/plain": [
       "Running Epoch 2 of 10:   0%|          | 0/5 [00:00<?, ?it/s]"
      ]
     },
     "metadata": {},
     "output_type": "display_data"
    },
    {
     "data": {
      "application/vnd.jupyter.widget-view+json": {
       "model_id": "002e2114e85b4f6d8312e2c79d9cbc75",
       "version_major": 2,
       "version_minor": 0
      },
      "text/plain": [
       "Running Epoch 3 of 10:   0%|          | 0/5 [00:00<?, ?it/s]"
      ]
     },
     "metadata": {},
     "output_type": "display_data"
    },
    {
     "data": {
      "application/vnd.jupyter.widget-view+json": {
       "model_id": "f63af152c2d7488b9cf243f7445bed94",
       "version_major": 2,
       "version_minor": 0
      },
      "text/plain": [
       "Running Epoch 4 of 10:   0%|          | 0/5 [00:00<?, ?it/s]"
      ]
     },
     "metadata": {},
     "output_type": "display_data"
    },
    {
     "data": {
      "application/vnd.jupyter.widget-view+json": {
       "model_id": "f2fc1cd2090d406f8abfd5027977e1dd",
       "version_major": 2,
       "version_minor": 0
      },
      "text/plain": [
       "Running Epoch 5 of 10:   0%|          | 0/5 [00:00<?, ?it/s]"
      ]
     },
     "metadata": {},
     "output_type": "display_data"
    },
    {
     "data": {
      "application/vnd.jupyter.widget-view+json": {
       "model_id": "4c50a72b3bef476693cdabba8b4877d8",
       "version_major": 2,
       "version_minor": 0
      },
      "text/plain": [
       "Running Epoch 6 of 10:   0%|          | 0/5 [00:00<?, ?it/s]"
      ]
     },
     "metadata": {},
     "output_type": "display_data"
    },
    {
     "data": {
      "application/vnd.jupyter.widget-view+json": {
       "model_id": "090a54784b9040509e94e79263666691",
       "version_major": 2,
       "version_minor": 0
      },
      "text/plain": [
       "Running Epoch 7 of 10:   0%|          | 0/5 [00:00<?, ?it/s]"
      ]
     },
     "metadata": {},
     "output_type": "display_data"
    },
    {
     "data": {
      "application/vnd.jupyter.widget-view+json": {
       "model_id": "26a1d7806ce249ad946190d46e312482",
       "version_major": 2,
       "version_minor": 0
      },
      "text/plain": [
       "Running Epoch 8 of 10:   0%|          | 0/5 [00:00<?, ?it/s]"
      ]
     },
     "metadata": {},
     "output_type": "display_data"
    },
    {
     "data": {
      "application/vnd.jupyter.widget-view+json": {
       "model_id": "9759842b03704b3b801a77be5c15d519",
       "version_major": 2,
       "version_minor": 0
      },
      "text/plain": [
       "Running Epoch 9 of 10:   0%|          | 0/5 [00:00<?, ?it/s]"
      ]
     },
     "metadata": {},
     "output_type": "display_data"
    },
    {
     "name": "stderr",
     "output_type": "stream",
     "text": [
      "INFO:simpletransformers.classification.classification_model: Training of electra model complete. Saved to /workspace/projects/ekorpkit-book/exmaples/esg/models/esg_topic_invalid_merged-classification.\n",
      "INFO:simpletransformers.classification.classification_utils: Converting to features started. Cache is not used.\n",
      "INFO:simpletransformers.classification.classification_utils: Saving features into cached file /workspace/.cache/cached_dev_electra_256_2_2\n"
     ]
    },
    {
     "data": {
      "application/vnd.jupyter.widget-view+json": {
       "model_id": "24731c67c4c94fdfbf5d2f1f9ac52a03",
       "version_major": 2,
       "version_minor": 0
      },
      "text/plain": [
       "Running Evaluation:   0%|          | 0/3 [00:00<?, ?it/s]"
      ]
     },
     "metadata": {},
     "output_type": "display_data"
    },
    {
     "name": "stderr",
     "output_type": "stream",
     "text": [
      "INFO:simpletransformers.classification.classification_model: Initializing WandB run for evaluation.\n"
     ]
    },
    {
     "data": {
      "application/vnd.jupyter.widget-view+json": {
       "model_id": "4a9472e01e6c4062a78d8f712e29583e",
       "version_major": 2,
       "version_minor": 0
      },
      "text/plain": [
       "VBox(children=(Label(value='Waiting for wandb.init()...\\r'), FloatProgress(value=0.016668245010077954, max=1.0…"
      ]
     },
     "metadata": {},
     "output_type": "display_data"
    },
    {
     "name": "stderr",
     "output_type": "stream",
     "text": [
      "INFO:simpletransformers.classification.classification_model:{'mcc': 0.45064146873687305, 'tp': 151, 'tn': 80, 'fp': 59, 'fn': 26, 'auroc': 0.7718164451489655, 'auprc': 0.8065880177626839, 'acc': 0.7310126582278481, 'eval_loss': 0.6036376555760702}\n",
      "INFO:ekorpkit.config:Saving config to /workspace/projects/ekorpkit-book/exmaples/esg/outputs/esg_topic_invalid_merged/configs/esg_topic_invalid_merged(16)_config.yaml\n",
      "INFO:ekorpkit.models.transformer.simple:Predicting split 1\n",
      "INFO:simpletransformers.classification.classification_utils: Converting to features started. Cache is not used.\n"
     ]
    },
    {
     "data": {
      "application/vnd.jupyter.widget-view+json": {
       "model_id": "d7dc2413eb294f3aa66eac2f59d37f48",
       "version_major": 2,
       "version_minor": 0
      },
      "text/plain": [
       "  0%|          | 0/10 [00:00<?, ?it/s]"
      ]
     },
     "metadata": {},
     "output_type": "display_data"
    },
    {
     "name": "stderr",
     "output_type": "stream",
     "text": [
      "INFO:ekorpkit.models.transformer.simple:type of raw_outputs: <class 'numpy.ndarray'>\n",
      "INFO:ekorpkit.models.transformer.simple:raw_output: [ 0.4058331  -0.54761481]\n",
      "INFO:ekorpkit.io.file:Saving dataframe to /workspace/projects/ekorpkit-book/exmaples/esg/outputs/esg_topic_invalid_merged/esg_topic_invalid_merged(16)_preds.parquet\n",
      "INFO:ekorpkit.datasets.config:Train data: (632, 11)\n",
      "INFO:ekorpkit.models.transformer.simple:Renaming columns: {}\n",
      "INFO:ekorpkit.models.transformer.simple:No columns or data to rename\n",
      "INFO:ekorpkit.models.transformer.simple:Renaming columns: {}\n",
      "Some weights of the model checkpoint at entelecheia/ekonelectra-base-discriminator were not used when initializing ElectraForSequenceClassification: ['discriminator_predictions.dense_prediction.weight', 'discriminator_predictions.dense.weight', 'discriminator_predictions.dense.bias', 'discriminator_predictions.dense_prediction.bias']\n",
      "- This IS expected if you are initializing ElectraForSequenceClassification from the checkpoint of a model trained on another task or with another architecture (e.g. initializing a BertForSequenceClassification model from a BertForPreTraining model).\n",
      "- This IS NOT expected if you are initializing ElectraForSequenceClassification from the checkpoint of a model that you expect to be exactly identical (initializing a BertForSequenceClassification model from a BertForSequenceClassification model).\n",
      "Some weights of ElectraForSequenceClassification were not initialized from the model checkpoint at entelecheia/ekonelectra-base-discriminator and are newly initialized: ['classifier.out_proj.bias', 'classifier.dense.weight', 'classifier.out_proj.weight', 'classifier.dense.bias']\n",
      "You should probably TRAIN this model on a down-stream task to be able to use it for predictions and inference.\n",
      "INFO:simpletransformers.classification.classification_utils: Converting to features started. Cache is not used.\n",
      "INFO:simpletransformers.classification.classification_utils: Saving features into cached file /workspace/.cache/cached_train_electra_256_2_2\n"
     ]
    },
    {
     "data": {
      "application/vnd.jupyter.widget-view+json": {
       "model_id": "672ba876c94d4e1a9533cb4c929c1845",
       "version_major": 2,
       "version_minor": 0
      },
      "text/plain": [
       "Epoch:   0%|          | 0/10 [00:00<?, ?it/s]"
      ]
     },
     "metadata": {},
     "output_type": "display_data"
    },
    {
     "name": "stderr",
     "output_type": "stream",
     "text": [
      "INFO:simpletransformers.classification.classification_model: Initializing WandB run for training.\n"
     ]
    },
    {
     "data": {
      "application/vnd.jupyter.widget-view+json": {
       "model_id": "30be1a0c6df249edb18b0989f6717897",
       "version_major": 2,
       "version_minor": 0
      },
      "text/plain": [
       "VBox(children=(Label(value='Waiting for wandb.init()...\\r'), FloatProgress(value=0.016668444344153006, max=1.0…"
      ]
     },
     "metadata": {},
     "output_type": "display_data"
    },
    {
     "data": {
      "application/vnd.jupyter.widget-view+json": {
       "model_id": "9826d7538c294d2a9b6834144d75c0d7",
       "version_major": 2,
       "version_minor": 0
      },
      "text/plain": [
       "Running Epoch 0 of 10:   0%|          | 0/5 [00:00<?, ?it/s]"
      ]
     },
     "metadata": {},
     "output_type": "display_data"
    },
    {
     "data": {
      "application/vnd.jupyter.widget-view+json": {
       "model_id": "d22b258c0d9e42419d16629679707f7e",
       "version_major": 2,
       "version_minor": 0
      },
      "text/plain": [
       "Running Epoch 1 of 10:   0%|          | 0/5 [00:00<?, ?it/s]"
      ]
     },
     "metadata": {},
     "output_type": "display_data"
    },
    {
     "data": {
      "application/vnd.jupyter.widget-view+json": {
       "model_id": "33fd6a06db5943a687afdd6572f1eb69",
       "version_major": 2,
       "version_minor": 0
      },
      "text/plain": [
       "Running Epoch 2 of 10:   0%|          | 0/5 [00:00<?, ?it/s]"
      ]
     },
     "metadata": {},
     "output_type": "display_data"
    },
    {
     "data": {
      "application/vnd.jupyter.widget-view+json": {
       "model_id": "be005c649ee44d7eb12702ed587fb76e",
       "version_major": 2,
       "version_minor": 0
      },
      "text/plain": [
       "Running Epoch 3 of 10:   0%|          | 0/5 [00:00<?, ?it/s]"
      ]
     },
     "metadata": {},
     "output_type": "display_data"
    },
    {
     "data": {
      "application/vnd.jupyter.widget-view+json": {
       "model_id": "5893c49be11d423fa32d302ecd490f4f",
       "version_major": 2,
       "version_minor": 0
      },
      "text/plain": [
       "Running Epoch 4 of 10:   0%|          | 0/5 [00:00<?, ?it/s]"
      ]
     },
     "metadata": {},
     "output_type": "display_data"
    },
    {
     "data": {
      "application/vnd.jupyter.widget-view+json": {
       "model_id": "41723a995ed540b5aeba6681f3762836",
       "version_major": 2,
       "version_minor": 0
      },
      "text/plain": [
       "Running Epoch 5 of 10:   0%|          | 0/5 [00:00<?, ?it/s]"
      ]
     },
     "metadata": {},
     "output_type": "display_data"
    },
    {
     "data": {
      "application/vnd.jupyter.widget-view+json": {
       "model_id": "6331996f881b4c9989034c37516e3d64",
       "version_major": 2,
       "version_minor": 0
      },
      "text/plain": [
       "Running Epoch 6 of 10:   0%|          | 0/5 [00:00<?, ?it/s]"
      ]
     },
     "metadata": {},
     "output_type": "display_data"
    },
    {
     "data": {
      "application/vnd.jupyter.widget-view+json": {
       "model_id": "180ee1e629b14845b1039778081aa784",
       "version_major": 2,
       "version_minor": 0
      },
      "text/plain": [
       "Running Epoch 7 of 10:   0%|          | 0/5 [00:00<?, ?it/s]"
      ]
     },
     "metadata": {},
     "output_type": "display_data"
    },
    {
     "data": {
      "application/vnd.jupyter.widget-view+json": {
       "model_id": "530449de79d74f88a4323181bfa7f261",
       "version_major": 2,
       "version_minor": 0
      },
      "text/plain": [
       "Running Epoch 8 of 10:   0%|          | 0/5 [00:00<?, ?it/s]"
      ]
     },
     "metadata": {},
     "output_type": "display_data"
    },
    {
     "data": {
      "application/vnd.jupyter.widget-view+json": {
       "model_id": "1cc8383293984dc08e26203bc9b27978",
       "version_major": 2,
       "version_minor": 0
      },
      "text/plain": [
       "Running Epoch 9 of 10:   0%|          | 0/5 [00:00<?, ?it/s]"
      ]
     },
     "metadata": {},
     "output_type": "display_data"
    },
    {
     "name": "stderr",
     "output_type": "stream",
     "text": [
      "INFO:simpletransformers.classification.classification_model: Training of electra model complete. Saved to /workspace/projects/ekorpkit-book/exmaples/esg/models/esg_topic_invalid_merged-classification.\n",
      "INFO:simpletransformers.classification.classification_utils: Converting to features started. Cache is not used.\n",
      "INFO:simpletransformers.classification.classification_utils: Saving features into cached file /workspace/.cache/cached_dev_electra_256_2_2\n"
     ]
    },
    {
     "data": {
      "application/vnd.jupyter.widget-view+json": {
       "model_id": "581cae13f0744e6da47d21f9b43969fe",
       "version_major": 2,
       "version_minor": 0
      },
      "text/plain": [
       "Running Evaluation:   0%|          | 0/3 [00:00<?, ?it/s]"
      ]
     },
     "metadata": {},
     "output_type": "display_data"
    },
    {
     "name": "stderr",
     "output_type": "stream",
     "text": [
      "INFO:simpletransformers.classification.classification_model: Initializing WandB run for evaluation.\n"
     ]
    },
    {
     "data": {
      "application/vnd.jupyter.widget-view+json": {
       "model_id": "d2845f688e8042bdbb70b84d33cafa62",
       "version_major": 2,
       "version_minor": 0
      },
      "text/plain": [
       "VBox(children=(Label(value='Waiting for wandb.init()...\\r'), FloatProgress(value=0.01666862399627765, max=1.0)…"
      ]
     },
     "metadata": {},
     "output_type": "display_data"
    },
    {
     "name": "stderr",
     "output_type": "stream",
     "text": [
      "INFO:simpletransformers.classification.classification_model:{'mcc': 0.5419871264455952, 'tp': 169, 'tn': 79, 'fp': 42, 'fn': 25, 'auroc': 0.8571824145863509, 'auprc': 0.8965878070149698, 'acc': 0.7873015873015873, 'eval_loss': 0.46483340859413147}\n",
      "INFO:ekorpkit.config:Saving config to /workspace/projects/ekorpkit-book/exmaples/esg/outputs/esg_topic_invalid_merged/configs/esg_topic_invalid_merged(17)_config.yaml\n",
      "INFO:ekorpkit.models.transformer.simple:Predicting split 2\n",
      "INFO:simpletransformers.classification.classification_utils: Converting to features started. Cache is not used.\n"
     ]
    },
    {
     "data": {
      "application/vnd.jupyter.widget-view+json": {
       "model_id": "f2b5abd68fbf410097833d73534253e5",
       "version_major": 2,
       "version_minor": 0
      },
      "text/plain": [
       "  0%|          | 0/10 [00:00<?, ?it/s]"
      ]
     },
     "metadata": {},
     "output_type": "display_data"
    },
    {
     "name": "stderr",
     "output_type": "stream",
     "text": [
      "INFO:ekorpkit.models.transformer.simple:type of raw_outputs: <class 'numpy.ndarray'>\n",
      "INFO:ekorpkit.models.transformer.simple:raw_output: [ 0.02637419 -0.22079509]\n",
      "INFO:ekorpkit.io.file:Saving dataframe to /workspace/projects/ekorpkit-book/exmaples/esg/outputs/esg_topic_invalid_merged/esg_topic_invalid_merged(17)_preds.parquet\n",
      "INFO:ekorpkit.io.file:Saving dataframe to /workspace/projects/ekorpkit-book/exmaples/esg/outputs/esg_topic_invalid_merged/esg_topic_invalid_merged(17)_cv.parquet\n"
     ]
    },
    {
     "name": "stdout",
     "output_type": "stream",
     "text": [
      "time: 6min (started: 2022-12-17 00:48:30 +00:00)\n"
     ]
    }
   ],
   "source": [
    "cv_preds_inval = sm_inval.cross_val_predict(cv=3, dev_size=0)"
   ]
  },
  {
   "cell_type": "code",
   "execution_count": 17,
   "metadata": {},
   "outputs": [
    {
     "name": "stdout",
     "output_type": "stream",
     "text": [
      "time: 2.8 ms (started: 2022-12-17 00:54:31 +00:00)\n"
     ]
    }
   ],
   "source": [
    "cols = [\"text\", \"labels\", \"pred_labels\", \"raw_preds\", \"pred_probs\"]\n",
    "cv_preds_inval = cv_preds_inval[cols].reset_index()"
   ]
  },
  {
   "cell_type": "code",
   "execution_count": 18,
   "metadata": {},
   "outputs": [
    {
     "name": "stderr",
     "output_type": "stream",
     "text": [
      "INFO:ekorpkit.io.file:Saving dataframe to /workspace/projects/ekorpkit-book/exmaples/esg/data/esg_invalid_kr/esg_invalid_cv_preds.parquet\n"
     ]
    },
    {
     "name": "stdout",
     "output_type": "stream",
     "text": [
      "time: 112 ms (started: 2022-12-17 00:54:31 +00:00)\n"
     ]
    }
   ],
   "source": [
    "\n",
    "inval_cv_filename = \"esg_invalid_cv_preds.parquet\"\n",
    "eKonf.save_data(cv_preds_inval, inval_cv_filename, ds_inval.data_dir)"
   ]
  },
  {
   "cell_type": "code",
   "execution_count": 19,
   "metadata": {},
   "outputs": [
    {
     "name": "stdout",
     "output_type": "stream",
     "text": [
      "time: 16.5 ms (started: 2022-12-17 00:54:31 +00:00)\n"
     ]
    }
   ],
   "source": [
    "inval_cv_filename = \"esg_invalid_cv_preds.parquet\"\n",
    "cv_preds_inval = eKonf.load_data(inval_cv_filename, ds_inval.data_dir)"
   ]
  },
  {
   "cell_type": "code",
   "execution_count": 20,
   "metadata": {},
   "outputs": [
    {
     "name": "stderr",
     "output_type": "stream",
     "text": [
      "INFO:ekorpkit.models.transformer.simple:Created 947 records\n",
      "INFO:ekorpkit.io.file:Saving dataframe to /workspace/projects/ekorpkit-book/exmaples/esg/data/esg_invalid_kr/esg_invalid_data_cved.parquet\n"
     ]
    },
    {
     "name": "stdout",
     "output_type": "stream",
     "text": [
      "113\n",
      "text=' LG화학이 서울대와 손잡고 인공지능(AI)과 빅데이터를 통한 디지털 전환(DX·Digital Transformation)에 속도를 낸다  29일 LG화학은 서울대 공과대학에서 서울대와 \\'LG화학-서울대 DX 산학협력센터\\' 설립 협약식을 개최했다고 밝혔다  LG화학과 서울대는 DX 분야 산학협력을 통해 다양한 과제를 발굴해 수행하고 디지털 혁신을 선도할 인재를 양성하기 위해 협력해나간다는 계획이다  양측은 △DX 산학협력 과제 추진 △DX 핵심 인력 양성 교육 실시 △산학장학생 제도 운영 등 3개 분야에서 협력을 약속했다  DX 산학협력센터는 다음달부터 서울대 공과대학에서 운영된다  양측은 먼저 생산·품질·연구개발(R&D)·마케팅 등 주요 핵심 영역에서 딥러닝, 데이터 마이닝 등 디지털 기술을 적용할 수 있는 공동 핵심과제를 발굴하고 수행할 계획이다  이를 위해 다음 달까지 후보 과제를 발굴·선정해 약 1년에 걸쳐 수행하고 후속 과제도 발굴할 예정이다  LG화학 임직원들을 대상으로 DX 핵심 인력 양성 교육을 진행하고 서울대 석·박사 산학장학생 제도를 운영하는 등 디지털 분야 미래 인재 육성과 산업 경쟁력 강화에도 노력할 방침이다  김성민 LG화학 CHO는 \"AI, 빅데이터 등 4차 산업혁명과 디지털 전환이라는 세계적인 흐름에 발맞추기 위해 핵심 기술 및 관련 제품을 스스로 개발할 수 있는 인재를 육성하는 등 DX 역량을 강화하겠다\"고 말했다  LG화학은 올해 DX 전담조직을 신설하고 IT 시스템의 90% 이상 클라우드 전환, 업무 지원 로봇 및 소프트웨어 표준 도입 등을 수행하는 등 디지털 전환에 집중하고 있다  [최근도 기자] ' inputs={'text': ' LG화학이 서울대와 손잡고 인공지능(AI)과 빅데이터를 통한 디지털 전환(DX·Digital Transformation)에 속도를 낸다  29일 LG화학은 서울대 공과대학에서 서울대와 \\'LG화학-서울대 DX 산학협력센터\\' 설립 협약식을 개최했다고 밝혔다  LG화학과 서울대는 DX 분야 산학협력을 통해 다양한 과제를 발굴해 수행하고 디지털 혁신을 선도할 인재를 양성하기 위해 협력해나간다는 계획이다  양측은 △DX 산학협력 과제 추진 △DX 핵심 인력 양성 교육 실시 △산학장학생 제도 운영 등 3개 분야에서 협력을 약속했다  DX 산학협력센터는 다음달부터 서울대 공과대학에서 운영된다  양측은 먼저 생산·품질·연구개발(R&D)·마케팅 등 주요 핵심 영역에서 딥러닝, 데이터 마이닝 등 디지털 기술을 적용할 수 있는 공동 핵심과제를 발굴하고 수행할 계획이다  이를 위해 다음 달까지 후보 과제를 발굴·선정해 약 1년에 걸쳐 수행하고 후속 과제도 발굴할 예정이다  LG화학 임직원들을 대상으로 DX 핵심 인력 양성 교육을 진행하고 서울대 석·박사 산학장학생 제도를 운영하는 등 디지털 분야 미래 인재 육성과 산업 경쟁력 강화에도 노력할 방침이다  김성민 LG화학 CHO는 \"AI, 빅데이터 등 4차 산업혁명과 디지털 전환이라는 세계적인 흐름에 발맞추기 위해 핵심 기술 및 관련 제품을 스스로 개발할 수 있는 인재를 육성하는 등 DX 역량을 강화하겠다\"고 말했다  LG화학은 올해 DX 전담조직을 신설하고 IT 시스템의 90% 이상 클라우드 전환, 업무 지원 로봇 및 소프트웨어 표준 도입 등을 수행하는 등 디지털 전환에 집중하고 있다  [최근도 기자] '} prediction=[('Discarded', 0.264664666981019), ('Validated', 0.735335333018981)] prediction_agent=None annotation='Discarded' annotation_agent=None multi_label=False explanation=None id=None metadata={'index': 694, 'label_error_candidate': 0} status='Validated' event_timestamp=None metrics=None search_keywords=None\n",
      "834\n",
      "time: 502 ms (started: 2022-12-17 00:54:31 +00:00)\n"
     ]
    }
   ],
   "source": [
    "records_with_label_error = sm_inval.find_label_errors(cv_preds_inval, meta_columns=[\"index\"])\n",
    "print(len(records_with_label_error))\n",
    "print(records_with_label_error[0])\n",
    "\n",
    "# remove rows from preds that have label errors\n",
    "data_inval_cved = cv_preds_inval.copy()\n",
    "for record in records_with_label_error:\n",
    "    metadata = record.metadata\n",
    "    data_inval_cved = data_inval_cved[data_inval_cved.index != metadata[\"index\"]]\n",
    "print(len(data_inval_cved))\n",
    "inval_cved_filename = \"esg_invalid_data_cved.parquet\"\n",
    "eKonf.save_data(data_inval_cved, inval_cved_filename, ds_inval.data_dir)"
   ]
  },
  {
   "cell_type": "code",
   "execution_count": 21,
   "metadata": {},
   "outputs": [
    {
     "name": "stdout",
     "output_type": "stream",
     "text": [
      "time: 3.47 s (started: 2022-12-17 00:54:31 +00:00)\n"
     ]
    }
   ],
   "source": [
    "from ekorpkit.models.transformer.simple import SimpleClassification\n",
    "\n",
    "inval_cved_filename = \"esg_invalid_data_cved.parquet\"\n",
    "\n",
    "cfg = eKonf.compose('task=simple.classification')\n",
    "cfg.name = \"esg_topic_invalid_cved\"\n",
    "cfg.dataset.data_dir = ds_inval.data_dir\n",
    "cfg.dataset.data_files = inval_cved_filename\n",
    "cfg.dataset.test_size = 0.3\n",
    "# cfg.dataset.dev_size = 0.2\n",
    "cfg.dataset.seed = 3247616750\n",
    "cfg.dataset.shuffle = True\n",
    "cfg.model.model_name_or_path = \"entelecheia/ekonelectra-base-discriminator\"\n",
    "cfg.trainer.num_train_epochs = 10\n",
    "cfg.trainer.max_seq_length = 512\n",
    "cfg.trainer.train_batch_size = 48\n",
    "cfg.trainer.eval_batch_size = 48\n",
    "\n",
    "sm_inval = SimpleClassification(**cfg)"
   ]
  },
  {
   "cell_type": "code",
   "execution_count": 22,
   "metadata": {
    "scrolled": false
   },
   "outputs": [
    {
     "name": "stderr",
     "output_type": "stream",
     "text": [
      "INFO:ekorpkit.datasets.config:Splitting the dataframe into train and test with ratio 0.3\n",
      "INFO:ekorpkit.datasets.config:Shuffling the dataframe with seed 3247616750\n",
      "INFO:ekorpkit.datasets.config:Train data: (583, 6)\n",
      "INFO:ekorpkit.datasets.config:Test data: (251, 6)\n",
      "INFO:ekorpkit.models.transformer.simple:Renaming columns: {}\n",
      "INFO:ekorpkit.models.transformer.simple:No columns or data to rename\n",
      "INFO:ekorpkit.models.transformer.simple:Renaming columns: {}\n",
      "Some weights of the model checkpoint at entelecheia/ekonelectra-base-discriminator were not used when initializing ElectraForSequenceClassification: ['discriminator_predictions.dense_prediction.weight', 'discriminator_predictions.dense.weight', 'discriminator_predictions.dense.bias', 'discriminator_predictions.dense_prediction.bias']\n",
      "- This IS expected if you are initializing ElectraForSequenceClassification from the checkpoint of a model trained on another task or with another architecture (e.g. initializing a BertForSequenceClassification model from a BertForPreTraining model).\n",
      "- This IS NOT expected if you are initializing ElectraForSequenceClassification from the checkpoint of a model that you expect to be exactly identical (initializing a BertForSequenceClassification model from a BertForSequenceClassification model).\n",
      "Some weights of ElectraForSequenceClassification were not initialized from the model checkpoint at entelecheia/ekonelectra-base-discriminator and are newly initialized: ['classifier.out_proj.bias', 'classifier.dense.weight', 'classifier.out_proj.weight', 'classifier.dense.bias']\n",
      "You should probably TRAIN this model on a down-stream task to be able to use it for predictions and inference.\n",
      "INFO:simpletransformers.classification.classification_utils: Converting to features started. Cache is not used.\n",
      "INFO:simpletransformers.classification.classification_utils: Saving features into cached file /workspace/.cache/cached_train_electra_512_2_2\n"
     ]
    },
    {
     "data": {
      "application/vnd.jupyter.widget-view+json": {
       "model_id": "7835a981696f4e17be3e450d3b98e680",
       "version_major": 2,
       "version_minor": 0
      },
      "text/plain": [
       "Epoch:   0%|          | 0/10 [00:00<?, ?it/s]"
      ]
     },
     "metadata": {},
     "output_type": "display_data"
    },
    {
     "name": "stderr",
     "output_type": "stream",
     "text": [
      "INFO:simpletransformers.classification.classification_model: Initializing WandB run for training.\n"
     ]
    },
    {
     "data": {
      "application/vnd.jupyter.widget-view+json": {
       "model_id": "75c424bf0f9f478097adc2a511870dc5",
       "version_major": 2,
       "version_minor": 0
      },
      "text/plain": [
       "VBox(children=(Label(value='Waiting for wandb.init()...\\r'), FloatProgress(value=0.01666825075323383, max=1.0)…"
      ]
     },
     "metadata": {},
     "output_type": "display_data"
    },
    {
     "data": {
      "application/vnd.jupyter.widget-view+json": {
       "model_id": "4608bf94527145fd836854cdc81bd9a3",
       "version_major": 2,
       "version_minor": 0
      },
      "text/plain": [
       "Running Epoch 0 of 10:   0%|          | 0/13 [00:00<?, ?it/s]"
      ]
     },
     "metadata": {},
     "output_type": "display_data"
    },
    {
     "data": {
      "application/vnd.jupyter.widget-view+json": {
       "model_id": "966ccd8bf99046a8abb6313f1d273028",
       "version_major": 2,
       "version_minor": 0
      },
      "text/plain": [
       "Running Epoch 1 of 10:   0%|          | 0/13 [00:00<?, ?it/s]"
      ]
     },
     "metadata": {},
     "output_type": "display_data"
    },
    {
     "data": {
      "application/vnd.jupyter.widget-view+json": {
       "model_id": "bc021d6d23f246a4b898f1faf920c9e9",
       "version_major": 2,
       "version_minor": 0
      },
      "text/plain": [
       "Running Epoch 2 of 10:   0%|          | 0/13 [00:00<?, ?it/s]"
      ]
     },
     "metadata": {},
     "output_type": "display_data"
    },
    {
     "data": {
      "application/vnd.jupyter.widget-view+json": {
       "model_id": "b105ab79e8244571896a77ff5e66bcc6",
       "version_major": 2,
       "version_minor": 0
      },
      "text/plain": [
       "Running Epoch 3 of 10:   0%|          | 0/13 [00:00<?, ?it/s]"
      ]
     },
     "metadata": {},
     "output_type": "display_data"
    },
    {
     "data": {
      "application/vnd.jupyter.widget-view+json": {
       "model_id": "034829a3fec2403fa8c3ceff58eefa05",
       "version_major": 2,
       "version_minor": 0
      },
      "text/plain": [
       "Running Epoch 4 of 10:   0%|          | 0/13 [00:00<?, ?it/s]"
      ]
     },
     "metadata": {},
     "output_type": "display_data"
    },
    {
     "data": {
      "application/vnd.jupyter.widget-view+json": {
       "model_id": "9a024459c5bd4e569000144ac4908f32",
       "version_major": 2,
       "version_minor": 0
      },
      "text/plain": [
       "Running Epoch 5 of 10:   0%|          | 0/13 [00:00<?, ?it/s]"
      ]
     },
     "metadata": {},
     "output_type": "display_data"
    },
    {
     "data": {
      "application/vnd.jupyter.widget-view+json": {
       "model_id": "c8a1452b22624b69ad5868a3e0e7e0c7",
       "version_major": 2,
       "version_minor": 0
      },
      "text/plain": [
       "Running Epoch 6 of 10:   0%|          | 0/13 [00:00<?, ?it/s]"
      ]
     },
     "metadata": {},
     "output_type": "display_data"
    },
    {
     "data": {
      "application/vnd.jupyter.widget-view+json": {
       "model_id": "9e1901fbc262412ca5d4fd40297e989d",
       "version_major": 2,
       "version_minor": 0
      },
      "text/plain": [
       "Running Epoch 7 of 10:   0%|          | 0/13 [00:00<?, ?it/s]"
      ]
     },
     "metadata": {},
     "output_type": "display_data"
    },
    {
     "data": {
      "application/vnd.jupyter.widget-view+json": {
       "model_id": "3d9c529f5fea41e9abb5d96f299c8e2f",
       "version_major": 2,
       "version_minor": 0
      },
      "text/plain": [
       "Running Epoch 8 of 10:   0%|          | 0/13 [00:00<?, ?it/s]"
      ]
     },
     "metadata": {},
     "output_type": "display_data"
    },
    {
     "data": {
      "application/vnd.jupyter.widget-view+json": {
       "model_id": "fbf1743e0736446da69a0914e9000e89",
       "version_major": 2,
       "version_minor": 0
      },
      "text/plain": [
       "Running Epoch 9 of 10:   0%|          | 0/13 [00:00<?, ?it/s]"
      ]
     },
     "metadata": {},
     "output_type": "display_data"
    },
    {
     "name": "stderr",
     "output_type": "stream",
     "text": [
      "INFO:simpletransformers.classification.classification_model: Training of electra model complete. Saved to /workspace/projects/ekorpkit-book/exmaples/esg/models/esg_topic_invalid_cved-classification.\n",
      "INFO:simpletransformers.classification.classification_utils: Converting to features started. Cache is not used.\n",
      "INFO:simpletransformers.classification.classification_utils: Saving features into cached file /workspace/.cache/cached_dev_electra_512_2_2\n"
     ]
    },
    {
     "data": {
      "application/vnd.jupyter.widget-view+json": {
       "model_id": "f175d226821c414da20945e16f05566b",
       "version_major": 2,
       "version_minor": 0
      },
      "text/plain": [
       "Running Evaluation:   0%|          | 0/6 [00:00<?, ?it/s]"
      ]
     },
     "metadata": {},
     "output_type": "display_data"
    },
    {
     "name": "stderr",
     "output_type": "stream",
     "text": [
      "INFO:simpletransformers.classification.classification_model: Initializing WandB run for evaluation.\n"
     ]
    },
    {
     "data": {
      "application/vnd.jupyter.widget-view+json": {
       "model_id": "7914cecd5cdb4434ae4738c137b15162",
       "version_major": 2,
       "version_minor": 0
      },
      "text/plain": [
       "VBox(children=(Label(value='Waiting for wandb.init()...\\r'), FloatProgress(value=0.01666857146968444, max=1.0)…"
      ]
     },
     "metadata": {},
     "output_type": "display_data"
    },
    {
     "name": "stderr",
     "output_type": "stream",
     "text": [
      "INFO:simpletransformers.classification.classification_model:{'mcc': 0.5644373413818418, 'tp': 55, 'tn': 149, 'fp': 24, 'fn': 23, 'auroc': 0.892322513709797, 'auprc': 0.7437838409291504, 'acc': 0.8127490039840638, 'eval_loss': 0.6239469746748606}\n",
      "INFO:ekorpkit.config:Saving config to /workspace/projects/ekorpkit-book/exmaples/esg/outputs/esg_topic_invalid_cved/configs/esg_topic_invalid_cved(1)_config.yaml\n",
      "INFO:ekorpkit.models.transformer.simple:Loaded model from /workspace/projects/ekorpkit-book/exmaples/esg/models/esg_topic_invalid_cved-classification\n",
      "INFO:simpletransformers.classification.classification_utils: Converting to features started. Cache is not used.\n"
     ]
    },
    {
     "data": {
      "application/vnd.jupyter.widget-view+json": {
       "model_id": "4005d5f522e54c569d16ec87223f2809",
       "version_major": 2,
       "version_minor": 0
      },
      "text/plain": [
       "  0%|          | 0/6 [00:00<?, ?it/s]"
      ]
     },
     "metadata": {},
     "output_type": "display_data"
    },
    {
     "name": "stderr",
     "output_type": "stream",
     "text": [
      "INFO:ekorpkit.models.transformer.simple:type of raw_outputs: <class 'numpy.ndarray'>\n",
      "INFO:ekorpkit.models.transformer.simple:raw_output: [ 2.2862947  -2.30610156]\n",
      "INFO:ekorpkit.io.file:Saving dataframe to /workspace/projects/ekorpkit-book/exmaples/esg/outputs/esg_topic_invalid_cved/esg_topic_invalid_cved(1)_preds.parquet\n"
     ]
    },
    {
     "name": "stdout",
     "output_type": "stream",
     "text": [
      "Accuracy:  0.8127490039840638\n",
      "Precison:  0.8134265997534735\n",
      "Recall:  0.8127490039840638\n",
      "F1 Score:  0.8130739664806114\n",
      "Model Report: \n",
      "___________________________________________________\n",
      "              precision    recall  f1-score   support\n",
      "\n",
      "   Discarded       0.70      0.71      0.70        78\n",
      "   Validated       0.87      0.86      0.86       173\n",
      "\n",
      "    accuracy                           0.81       251\n",
      "   macro avg       0.78      0.78      0.78       251\n",
      "weighted avg       0.81      0.81      0.81       251\n",
      "\n"
     ]
    },
    {
     "name": "stderr",
     "output_type": "stream",
     "text": [
      "INFO:ekorpkit.visualize.base:Saved figure to /workspace/projects/ekorpkit-book/exmaples/esg/outputs/esg_topic_invalid_cved/esg_topic_invalid_cved(1)_confusion_matrix.png\n"
     ]
    },
    {
     "data": {
      "image/png": "[encoded data removed]",
      "text/plain": [
       "<Figure size 720x360 with 2 Axes>"
      ]
     },
     "metadata": {
      "image/png": {
       "height": 331,
       "width": 636
      }
     },
     "output_type": "display_data"
    },
    {
     "name": "stdout",
     "output_type": "stream",
     "text": [
      "time: 2min 59s (started: 2022-12-17 00:54:35 +00:00)\n"
     ]
    }
   ],
   "source": [
    "sm_inval.train()\n",
    "sm_inval.eval()"
   ]
  },
  {
   "cell_type": "markdown",
   "metadata": {},
   "source": [
    "### Filter out invalid topics"
   ]
  },
  {
   "cell_type": "code",
   "execution_count": 23,
   "metadata": {},
   "outputs": [
    {
     "name": "stderr",
     "output_type": "stream",
     "text": [
      "INFO:ekorpkit.info.column:index: index, index of data: index, columns: ['id', 'text', 'labels', 'class', 'example_id', 'count', 'split'], id: ['id']\n",
      "INFO:ekorpkit.info.column:Adding id [split] to ['id']\n",
      "INFO:ekorpkit.info.column:Added id [split], now ['id', 'split']\n",
      "INFO:ekorpkit.info.column:Added a column [split] with value [train]\n",
      "INFO:ekorpkit.info.column:Added a column [split] with value [dev]\n",
      "INFO:ekorpkit.info.column:Added a column [split] with value [test]\n",
      "INFO:ekorpkit.io.file:Concatenating 3 dataframes\n",
      "INFO:ekorpkit.io.file:Concatenating 3 dataframes\n"
     ]
    },
    {
     "name": "stdout",
     "output_type": "stream",
     "text": [
      "['S-기업(공급망)동반성장/상생', 'G-지배구조', 'G-기업윤리/불공정/소송', 'S-소비자', 'E-환경혁신', 'S-사회공헌', 'S-고용', 'E-환경영향', 'E-기후변화', 'S-재해/안전관리'] 10 11054\n",
      "time: 1.43 s (started: 2022-12-17 00:57:34 +00:00)\n"
     ]
    }
   ],
   "source": [
    "cfg = eKonf.compose(\"dataset=dataset\")\n",
    "cfg.name = \"esg_topics_improved\"\n",
    "cfg.data_dir = \"/workspace/data/datasets/simple\"\n",
    "ds_tp = Dataset(**cfg)\n",
    "labels = list(ds_tp.splits['train'].labels.unique())\n",
    "print(labels, len(labels), ds_tp.num_rows)"
   ]
  },
  {
   "cell_type": "code",
   "execution_count": 24,
   "metadata": {},
   "outputs": [
    {
     "name": "stderr",
     "output_type": "stream",
     "text": [
      "INFO:ekorpkit.io.file:Concatenating 3 dataframes\n",
      "INFO:simpletransformers.classification.classification_utils: Converting to features started. Cache is not used.\n"
     ]
    },
    {
     "data": {
      "application/vnd.jupyter.widget-view+json": {
       "model_id": "d8d28121703d4a5bb9d4c91a3d3d7ec1",
       "version_major": 2,
       "version_minor": 0
      },
      "text/plain": [
       "  0%|          | 0/231 [00:00<?, ?it/s]"
      ]
     },
     "metadata": {},
     "output_type": "display_data"
    },
    {
     "name": "stderr",
     "output_type": "stream",
     "text": [
      "INFO:ekorpkit.models.transformer.simple:type of raw_outputs: <class 'numpy.ndarray'>\n",
      "INFO:ekorpkit.models.transformer.simple:raw_output: [ 2.32957101 -2.3210566 ]\n",
      "INFO:ekorpkit.io.file:Saving dataframe to /workspace/projects/ekorpkit-book/exmaples/esg/outputs/esg_topic_invalid_cved/esg_topic_invalid_cved(1)_preds.parquet\n"
     ]
    },
    {
     "name": "stdout",
     "output_type": "stream",
     "text": [
      "time: 1min 21s (started: 2022-12-17 00:57:36 +00:00)\n"
     ]
    }
   ],
   "source": [
    "ds_tp_predicted = sm_inval.predict(ds_tp.data)"
   ]
  },
  {
   "cell_type": "code",
   "execution_count": 25,
   "metadata": {},
   "outputs": [
    {
     "name": "stderr",
     "output_type": "stream",
     "text": [
      "INFO:ekorpkit.io.file:Concatenating 3 dataframes\n"
     ]
    },
    {
     "name": "stdout",
     "output_type": "stream",
     "text": [
      "(11054, 7)\n",
      "(9108, 10)\n",
      "S-소비자               2299\n",
      "G-지배구조              1453\n",
      "S-고용                1420\n",
      "G-기업윤리/불공정/소송        854\n",
      "E-환경혁신               716\n",
      "S-사회공헌               642\n",
      "E-환경영향               525\n",
      "E-기후변화               521\n",
      "S-재해/안전관리            348\n",
      "S-기업(공급망)동반성장/상생     330\n",
      "Name: labels, dtype: int64\n",
      "time: 10.1 ms (started: 2022-12-17 00:58:57 +00:00)\n"
     ]
    }
   ],
   "source": [
    "# select only validated data with pred_probs > 0.6\n",
    "print(ds_tp.data.shape)\n",
    "ds_tp_valid = ds_tp_predicted[(ds_tp_predicted.pred_labels == \"Validated\") & (ds_tp_predicted.pred_probs > 0.6)]\n",
    "print(ds_tp_valid.shape)\n",
    "print(ds_tp_valid.labels.value_counts())"
   ]
  },
  {
   "cell_type": "code",
   "execution_count": 26,
   "metadata": {},
   "outputs": [
    {
     "name": "stderr",
     "output_type": "stream",
     "text": [
      "INFO:ekorpkit.io.file:Concatenating 2 dataframes\n",
      "INFO:ekorpkit.io.file:Saving dataframe to /workspace/projects/ekorpkit-book/exmaples/esg/data/esg_topic_validated/esg_topic_labels_validated.parquet\n"
     ]
    },
    {
     "name": "stdout",
     "output_type": "stream",
     "text": [
      "(9448, 2)\n",
      "S-소비자               2313\n",
      "G-지배구조              1519\n",
      "S-고용                1440\n",
      "G-기업윤리/불공정/소송        911\n",
      "E-환경혁신               788\n",
      "S-사회공헌               653\n",
      "E-기후변화               574\n",
      "E-환경영향               530\n",
      "S-기업(공급망)동반성장/상생     363\n",
      "S-재해/안전관리            357\n",
      "Name: labels, dtype: int64\n",
      "time: 664 ms (started: 2022-12-17 00:58:57 +00:00)\n"
     ]
    }
   ],
   "source": [
    "file = ws.project_dir / \"esg/outputs/esg_topic_labels/esg_topic_labels(0)_export.parquet\"\n",
    "tp_add = eKonf.load_data(file)\n",
    "# exclude UNKNOWN and ESG\n",
    "tp_add = tp_add[~tp_add[\"labels\"].isin([\"UNKNOWN\", \"ESG\"])]\n",
    "# combine tp_add and ds_tp_valid with ['text', 'labels'] columns only\n",
    "ds_tp_merged = eKonf.concat_data([ds_tp_valid[['text', 'labels']], tp_add[['text', 'labels']]], axis=0)\n",
    "print(ds_tp_merged.shape)\n",
    "print(ds_tp_merged.labels.value_counts())\n",
    "# Save data\n",
    "valid_topic_file = \"esg_topic_labels_validated.parquet\"\n",
    "valid_data_dir = ws.project_dir / \"esg/data/esg_topic_validated\"\n",
    "eKonf.save_data(ds_tp_merged, valid_topic_file, valid_data_dir)"
   ]
  },
  {
   "cell_type": "markdown",
   "metadata": {
    "pycharm": {
     "name": "#%% md\n"
    }
   },
   "source": [
    "## Training further on the additional topic data"
   ]
  },
  {
   "cell_type": "code",
   "execution_count": 27,
   "metadata": {
    "pycharm": {
     "name": "#%%\n"
    },
    "scrolled": true,
    "tags": [
     "hide-output"
    ]
   },
   "outputs": [
    {
     "name": "stdout",
     "output_type": "stream",
     "text": [
      "time: 3.45 s (started: 2022-12-17 00:58:57 +00:00)\n"
     ]
    }
   ],
   "source": [
    "from ekorpkit.models.transformer.simple import SimpleClassification\n",
    "\n",
    "valid_topic_file = \"esg_topic_labels_validated.parquet\"\n",
    "valid_data_dir = ws.project_dir / \"esg/data/esg_topic_validated\"\n",
    "\n",
    "cfg = eKonf.compose('task=simple.classification')\n",
    "cfg.name = \"esg_topics_validated\"\n",
    "cfg.dataset.data_dir = valid_data_dir\n",
    "cfg.dataset.data_files = valid_topic_file\n",
    "cfg.dataset.test_size = 0.3\n",
    "cfg.dataset.shuffle = True\n",
    "cfg.dataset.seed = 977634889\n",
    "cfg.model.model_name_or_path = \"entelecheia/ekonelectra-base-discriminator\"\n",
    "cfg.trainer.num_train_epochs = 10\n",
    "cfg.trainer.max_seq_length = 256\n",
    "cfg.trainer.train_batch_size = 128\n",
    "cfg.trainer.eval_batch_size = 128\n",
    "\n",
    "smt = SimpleClassification(**cfg)"
   ]
  },
  {
   "cell_type": "code",
   "execution_count": 28,
   "metadata": {
    "scrolled": false,
    "tags": [
     "hide-output"
    ]
   },
   "outputs": [
    {
     "name": "stderr",
     "output_type": "stream",
     "text": [
      "INFO:ekorpkit.datasets.config:Splitting the dataframe into train and test with ratio 0.3\n",
      "INFO:ekorpkit.datasets.config:Shuffling the dataframe with seed 977634889\n",
      "INFO:ekorpkit.datasets.config:Train data: (6613, 2)\n",
      "INFO:ekorpkit.datasets.config:Test data: (2835, 2)\n",
      "INFO:ekorpkit.io.file:Concatenating 2 dataframes\n",
      "INFO:ekorpkit.datasets.config:Train data: (7086, 2)\n",
      "INFO:ekorpkit.models.transformer.simple:Renaming columns: {}\n",
      "INFO:ekorpkit.models.transformer.simple:No columns or data to rename\n",
      "INFO:ekorpkit.models.transformer.simple:Renaming columns: {}\n",
      "Some weights of the model checkpoint at entelecheia/ekonelectra-base-discriminator were not used when initializing ElectraForSequenceClassification: ['discriminator_predictions.dense_prediction.weight', 'discriminator_predictions.dense.weight', 'discriminator_predictions.dense.bias', 'discriminator_predictions.dense_prediction.bias']\n",
      "- This IS expected if you are initializing ElectraForSequenceClassification from the checkpoint of a model trained on another task or with another architecture (e.g. initializing a BertForSequenceClassification model from a BertForPreTraining model).\n",
      "- This IS NOT expected if you are initializing ElectraForSequenceClassification from the checkpoint of a model that you expect to be exactly identical (initializing a BertForSequenceClassification model from a BertForSequenceClassification model).\n",
      "Some weights of ElectraForSequenceClassification were not initialized from the model checkpoint at entelecheia/ekonelectra-base-discriminator and are newly initialized: ['classifier.out_proj.bias', 'classifier.dense.weight', 'classifier.out_proj.weight', 'classifier.dense.bias']\n",
      "You should probably TRAIN this model on a down-stream task to be able to use it for predictions and inference.\n",
      "INFO:simpletransformers.classification.classification_utils: Converting to features started. Cache is not used.\n",
      "INFO:simpletransformers.classification.classification_utils: Saving features into cached file /workspace/.cache/cached_train_electra_256_10_2\n"
     ]
    },
    {
     "data": {
      "application/vnd.jupyter.widget-view+json": {
       "model_id": "ac283134eaf147458b704e04ee0e58fc",
       "version_major": 2,
       "version_minor": 0
      },
      "text/plain": [
       "Epoch:   0%|          | 0/10 [00:00<?, ?it/s]"
      ]
     },
     "metadata": {},
     "output_type": "display_data"
    },
    {
     "name": "stderr",
     "output_type": "stream",
     "text": [
      "INFO:simpletransformers.classification.classification_model: Initializing WandB run for training.\n"
     ]
    },
    {
     "data": {
      "application/vnd.jupyter.widget-view+json": {
       "model_id": "c2505402893745bfbe1d9e6825dbff05",
       "version_major": 2,
       "version_minor": 0
      },
      "text/plain": [
       "VBox(children=(Label(value='Waiting for wandb.init()...\\r'), FloatProgress(value=0.016668254509568214, max=1.0…"
      ]
     },
     "metadata": {},
     "output_type": "display_data"
    },
    {
     "data": {
      "application/vnd.jupyter.widget-view+json": {
       "model_id": "80ef123799df41b78dee6863ccd09db1",
       "version_major": 2,
       "version_minor": 0
      },
      "text/plain": [
       "Running Epoch 0 of 10:   0%|          | 0/56 [00:00<?, ?it/s]"
      ]
     },
     "metadata": {},
     "output_type": "display_data"
    },
    {
     "data": {
      "application/vnd.jupyter.widget-view+json": {
       "model_id": "32c943e18d754ebb812cc0b6ea57b8da",
       "version_major": 2,
       "version_minor": 0
      },
      "text/plain": [
       "Running Epoch 1 of 10:   0%|          | 0/56 [00:00<?, ?it/s]"
      ]
     },
     "metadata": {},
     "output_type": "display_data"
    },
    {
     "data": {
      "application/vnd.jupyter.widget-view+json": {
       "model_id": "60608d1747534a818c3e54d5eb31fdeb",
       "version_major": 2,
       "version_minor": 0
      },
      "text/plain": [
       "Running Epoch 2 of 10:   0%|          | 0/56 [00:00<?, ?it/s]"
      ]
     },
     "metadata": {},
     "output_type": "display_data"
    },
    {
     "data": {
      "application/vnd.jupyter.widget-view+json": {
       "model_id": "00b2aa26b0f1413baf610af2a161a01d",
       "version_major": 2,
       "version_minor": 0
      },
      "text/plain": [
       "Running Epoch 3 of 10:   0%|          | 0/56 [00:00<?, ?it/s]"
      ]
     },
     "metadata": {},
     "output_type": "display_data"
    },
    {
     "data": {
      "application/vnd.jupyter.widget-view+json": {
       "model_id": "84f483d7bceb44d68c68239ba562222e",
       "version_major": 2,
       "version_minor": 0
      },
      "text/plain": [
       "Running Epoch 4 of 10:   0%|          | 0/56 [00:00<?, ?it/s]"
      ]
     },
     "metadata": {},
     "output_type": "display_data"
    },
    {
     "data": {
      "application/vnd.jupyter.widget-view+json": {
       "model_id": "1bdf4928bcfe466ab6c08a8dcc5f903d",
       "version_major": 2,
       "version_minor": 0
      },
      "text/plain": [
       "Running Epoch 5 of 10:   0%|          | 0/56 [00:00<?, ?it/s]"
      ]
     },
     "metadata": {},
     "output_type": "display_data"
    },
    {
     "data": {
      "application/vnd.jupyter.widget-view+json": {
       "model_id": "256c10e112d04dc4aa1c519ca827794c",
       "version_major": 2,
       "version_minor": 0
      },
      "text/plain": [
       "Running Epoch 6 of 10:   0%|          | 0/56 [00:00<?, ?it/s]"
      ]
     },
     "metadata": {},
     "output_type": "display_data"
    },
    {
     "data": {
      "application/vnd.jupyter.widget-view+json": {
       "model_id": "b86f3080bc3e41ee8e7806f436ea7658",
       "version_major": 2,
       "version_minor": 0
      },
      "text/plain": [
       "Running Epoch 7 of 10:   0%|          | 0/56 [00:00<?, ?it/s]"
      ]
     },
     "metadata": {},
     "output_type": "display_data"
    },
    {
     "data": {
      "application/vnd.jupyter.widget-view+json": {
       "model_id": "caf6cfe7ad914e3c886ef7ed050a4f88",
       "version_major": 2,
       "version_minor": 0
      },
      "text/plain": [
       "Running Epoch 8 of 10:   0%|          | 0/56 [00:00<?, ?it/s]"
      ]
     },
     "metadata": {},
     "output_type": "display_data"
    },
    {
     "data": {
      "application/vnd.jupyter.widget-view+json": {
       "model_id": "1d97caf3fe604bb2bebf4f6215959b27",
       "version_major": 2,
       "version_minor": 0
      },
      "text/plain": [
       "Running Epoch 9 of 10:   0%|          | 0/56 [00:00<?, ?it/s]"
      ]
     },
     "metadata": {},
     "output_type": "display_data"
    },
    {
     "name": "stderr",
     "output_type": "stream",
     "text": [
      "INFO:simpletransformers.classification.classification_model: Training of electra model complete. Saved to /workspace/projects/ekorpkit-book/exmaples/esg/models/esg_topics_validated-classification.\n",
      "INFO:simpletransformers.classification.classification_utils: Converting to features started. Cache is not used.\n",
      "INFO:simpletransformers.classification.classification_utils: Saving features into cached file /workspace/.cache/cached_dev_electra_256_10_2\n"
     ]
    },
    {
     "data": {
      "application/vnd.jupyter.widget-view+json": {
       "model_id": "fb3d68c2a2d64dbdb14275185d8f8a61",
       "version_major": 2,
       "version_minor": 0
      },
      "text/plain": [
       "Running Evaluation:   0%|          | 0/19 [00:00<?, ?it/s]"
      ]
     },
     "metadata": {},
     "output_type": "display_data"
    },
    {
     "name": "stderr",
     "output_type": "stream",
     "text": [
      "INFO:simpletransformers.classification.classification_model: Initializing WandB run for evaluation.\n"
     ]
    },
    {
     "data": {
      "application/vnd.jupyter.widget-view+json": {
       "model_id": "395fb655991a4ed3ba83f3f1a5005b72",
       "version_major": 2,
       "version_minor": 0
      },
      "text/plain": [
       "VBox(children=(Label(value='Waiting for wandb.init()...\\r'), FloatProgress(value=0.01666818354278803, max=1.0)…"
      ]
     },
     "metadata": {},
     "output_type": "display_data"
    },
    {
     "name": "stderr",
     "output_type": "stream",
     "text": [
      "INFO:simpletransformers.classification.classification_model:{'mcc': 0.7605312922484171, 'acc': 0.7938187976291279, 'eval_loss': 0.8000878221110294}\n",
      "INFO:ekorpkit.config:Saving config to /workspace/projects/ekorpkit-book/exmaples/esg/outputs/esg_topics_validated/configs/esg_topics_validated(12)_config.yaml\n",
      "INFO:ekorpkit.models.transformer.simple:Predicting split 0\n",
      "INFO:ekorpkit.models.transformer.simple:Loaded model from /workspace/projects/ekorpkit-book/exmaples/esg/models/esg_topics_validated-classification\n",
      "INFO:simpletransformers.classification.classification_utils: Converting to features started. Cache is not used.\n"
     ]
    },
    {
     "data": {
      "application/vnd.jupyter.widget-view+json": {
       "model_id": "350000163d2c4328b1be572b5957ebbf",
       "version_major": 2,
       "version_minor": 0
      },
      "text/plain": [
       "  0%|          | 0/19 [00:00<?, ?it/s]"
      ]
     },
     "metadata": {},
     "output_type": "display_data"
    },
    {
     "name": "stderr",
     "output_type": "stream",
     "text": [
      "INFO:ekorpkit.models.transformer.simple:type of raw_outputs: <class 'numpy.ndarray'>\n",
      "INFO:ekorpkit.models.transformer.simple:raw_output: [ 5.9853487  -1.57939267 -1.13330126 -1.34939277 -0.3317107   0.01635014\n",
      " -0.13009873 -0.1246738  -1.16066349 -1.43532479]\n",
      "INFO:ekorpkit.io.file:Saving dataframe to /workspace/projects/ekorpkit-book/exmaples/esg/outputs/esg_topics_validated/esg_topics_validated(12)_preds.parquet\n",
      "INFO:ekorpkit.datasets.config:Train data: (7086, 5)\n",
      "INFO:ekorpkit.models.transformer.simple:Renaming columns: {}\n",
      "INFO:ekorpkit.models.transformer.simple:No columns or data to rename\n",
      "INFO:ekorpkit.models.transformer.simple:Renaming columns: {}\n",
      "Some weights of the model checkpoint at entelecheia/ekonelectra-base-discriminator were not used when initializing ElectraForSequenceClassification: ['discriminator_predictions.dense_prediction.weight', 'discriminator_predictions.dense.weight', 'discriminator_predictions.dense.bias', 'discriminator_predictions.dense_prediction.bias']\n",
      "- This IS expected if you are initializing ElectraForSequenceClassification from the checkpoint of a model trained on another task or with another architecture (e.g. initializing a BertForSequenceClassification model from a BertForPreTraining model).\n",
      "- This IS NOT expected if you are initializing ElectraForSequenceClassification from the checkpoint of a model that you expect to be exactly identical (initializing a BertForSequenceClassification model from a BertForSequenceClassification model).\n",
      "Some weights of ElectraForSequenceClassification were not initialized from the model checkpoint at entelecheia/ekonelectra-base-discriminator and are newly initialized: ['classifier.out_proj.bias', 'classifier.dense.weight', 'classifier.out_proj.weight', 'classifier.dense.bias']\n",
      "You should probably TRAIN this model on a down-stream task to be able to use it for predictions and inference.\n",
      "INFO:simpletransformers.classification.classification_utils: Converting to features started. Cache is not used.\n",
      "INFO:simpletransformers.classification.classification_utils: Saving features into cached file /workspace/.cache/cached_train_electra_256_10_2\n"
     ]
    },
    {
     "data": {
      "application/vnd.jupyter.widget-view+json": {
       "model_id": "e1a78c913b50457c9ac69fd2f7c5ff78",
       "version_major": 2,
       "version_minor": 0
      },
      "text/plain": [
       "Epoch:   0%|          | 0/10 [00:00<?, ?it/s]"
      ]
     },
     "metadata": {},
     "output_type": "display_data"
    },
    {
     "name": "stderr",
     "output_type": "stream",
     "text": [
      "INFO:simpletransformers.classification.classification_model: Initializing WandB run for training.\n"
     ]
    },
    {
     "data": {
      "application/vnd.jupyter.widget-view+json": {
       "model_id": "c1700f22a2484d9dbfbb6d771af48912",
       "version_major": 2,
       "version_minor": 0
      },
      "text/plain": [
       "VBox(children=(Label(value='Waiting for wandb.init()...\\r'), FloatProgress(value=0.016668411965171496, max=1.0…"
      ]
     },
     "metadata": {},
     "output_type": "display_data"
    },
    {
     "data": {
      "application/vnd.jupyter.widget-view+json": {
       "model_id": "2d45b40cf6c844fa911d57ecc1fec7c3",
       "version_major": 2,
       "version_minor": 0
      },
      "text/plain": [
       "Running Epoch 0 of 10:   0%|          | 0/56 [00:00<?, ?it/s]"
      ]
     },
     "metadata": {},
     "output_type": "display_data"
    },
    {
     "data": {
      "application/vnd.jupyter.widget-view+json": {
       "model_id": "28ed1405496d4ee0991d4148eeca0f32",
       "version_major": 2,
       "version_minor": 0
      },
      "text/plain": [
       "Running Epoch 1 of 10:   0%|          | 0/56 [00:00<?, ?it/s]"
      ]
     },
     "metadata": {},
     "output_type": "display_data"
    },
    {
     "data": {
      "application/vnd.jupyter.widget-view+json": {
       "model_id": "970389bda51547c391f145bd0ba88678",
       "version_major": 2,
       "version_minor": 0
      },
      "text/plain": [
       "Running Epoch 2 of 10:   0%|          | 0/56 [00:00<?, ?it/s]"
      ]
     },
     "metadata": {},
     "output_type": "display_data"
    },
    {
     "data": {
      "application/vnd.jupyter.widget-view+json": {
       "model_id": "62c890d96a194c60b1132e24bcb4285b",
       "version_major": 2,
       "version_minor": 0
      },
      "text/plain": [
       "Running Epoch 3 of 10:   0%|          | 0/56 [00:00<?, ?it/s]"
      ]
     },
     "metadata": {},
     "output_type": "display_data"
    },
    {
     "data": {
      "application/vnd.jupyter.widget-view+json": {
       "model_id": "abf649531b0e45f986cbcf38d6754f20",
       "version_major": 2,
       "version_minor": 0
      },
      "text/plain": [
       "Running Epoch 4 of 10:   0%|          | 0/56 [00:00<?, ?it/s]"
      ]
     },
     "metadata": {},
     "output_type": "display_data"
    },
    {
     "data": {
      "application/vnd.jupyter.widget-view+json": {
       "model_id": "bebf3bbed57f473886baa5210dc72682",
       "version_major": 2,
       "version_minor": 0
      },
      "text/plain": [
       "Running Epoch 5 of 10:   0%|          | 0/56 [00:00<?, ?it/s]"
      ]
     },
     "metadata": {},
     "output_type": "display_data"
    },
    {
     "data": {
      "application/vnd.jupyter.widget-view+json": {
       "model_id": "6c165cc9d7f84e3d8894a1741a5924a7",
       "version_major": 2,
       "version_minor": 0
      },
      "text/plain": [
       "Running Epoch 6 of 10:   0%|          | 0/56 [00:00<?, ?it/s]"
      ]
     },
     "metadata": {},
     "output_type": "display_data"
    },
    {
     "data": {
      "application/vnd.jupyter.widget-view+json": {
       "model_id": "65809cfba480488491b0276850c79a9d",
       "version_major": 2,
       "version_minor": 0
      },
      "text/plain": [
       "Running Epoch 7 of 10:   0%|          | 0/56 [00:00<?, ?it/s]"
      ]
     },
     "metadata": {},
     "output_type": "display_data"
    },
    {
     "data": {
      "application/vnd.jupyter.widget-view+json": {
       "model_id": "ab152a74c3c443afb96af31566e7ceaf",
       "version_major": 2,
       "version_minor": 0
      },
      "text/plain": [
       "Running Epoch 8 of 10:   0%|          | 0/56 [00:00<?, ?it/s]"
      ]
     },
     "metadata": {},
     "output_type": "display_data"
    },
    {
     "data": {
      "application/vnd.jupyter.widget-view+json": {
       "model_id": "6a5275b2336844fda371ad6ec94a5c7c",
       "version_major": 2,
       "version_minor": 0
      },
      "text/plain": [
       "Running Epoch 9 of 10:   0%|          | 0/56 [00:00<?, ?it/s]"
      ]
     },
     "metadata": {},
     "output_type": "display_data"
    },
    {
     "name": "stderr",
     "output_type": "stream",
     "text": [
      "INFO:simpletransformers.classification.classification_model: Training of electra model complete. Saved to /workspace/projects/ekorpkit-book/exmaples/esg/models/esg_topics_validated-classification.\n",
      "INFO:simpletransformers.classification.classification_utils: Converting to features started. Cache is not used.\n",
      "INFO:simpletransformers.classification.classification_utils: Saving features into cached file /workspace/.cache/cached_dev_electra_256_10_2\n"
     ]
    },
    {
     "data": {
      "application/vnd.jupyter.widget-view+json": {
       "model_id": "36e01df2c5db490a9120e8ccf1c4afbe",
       "version_major": 2,
       "version_minor": 0
      },
      "text/plain": [
       "Running Evaluation:   0%|          | 0/19 [00:00<?, ?it/s]"
      ]
     },
     "metadata": {},
     "output_type": "display_data"
    },
    {
     "name": "stderr",
     "output_type": "stream",
     "text": [
      "INFO:simpletransformers.classification.classification_model: Initializing WandB run for evaluation.\n"
     ]
    },
    {
     "data": {
      "application/vnd.jupyter.widget-view+json": {
       "model_id": "634b3ab3cfd74094bdc5da6afea070ae",
       "version_major": 2,
       "version_minor": 0
      },
      "text/plain": [
       "VBox(children=(Label(value='Waiting for wandb.init()...\\r'), FloatProgress(value=0.016668668389320372, max=1.0…"
      ]
     },
     "metadata": {},
     "output_type": "display_data"
    },
    {
     "name": "stderr",
     "output_type": "stream",
     "text": [
      "INFO:simpletransformers.classification.classification_model:{'mcc': 0.7719688515253981, 'acc': 0.8039796782387807, 'eval_loss': 0.788326875159615}\n",
      "INFO:ekorpkit.config:Saving config to /workspace/projects/ekorpkit-book/exmaples/esg/outputs/esg_topics_validated/configs/esg_topics_validated(13)_config.yaml\n",
      "INFO:ekorpkit.models.transformer.simple:Predicting split 1\n",
      "INFO:simpletransformers.classification.classification_utils: Converting to features started. Cache is not used.\n"
     ]
    },
    {
     "data": {
      "application/vnd.jupyter.widget-view+json": {
       "model_id": "2381d1ed3f2f43f090295136d8745fe0",
       "version_major": 2,
       "version_minor": 0
      },
      "text/plain": [
       "  0%|          | 0/19 [00:00<?, ?it/s]"
      ]
     },
     "metadata": {},
     "output_type": "display_data"
    },
    {
     "name": "stderr",
     "output_type": "stream",
     "text": [
      "INFO:ekorpkit.models.transformer.simple:type of raw_outputs: <class 'numpy.ndarray'>\n",
      "INFO:ekorpkit.models.transformer.simple:raw_output: [ 6.01948023 -1.58157551 -1.27724278 -1.53617513 -0.22583501 -0.175418\n",
      " -0.07375064 -0.01960763 -1.1382457  -1.31032717]\n",
      "INFO:ekorpkit.io.file:Saving dataframe to /workspace/projects/ekorpkit-book/exmaples/esg/outputs/esg_topics_validated/esg_topics_validated(13)_preds.parquet\n",
      "INFO:ekorpkit.datasets.config:Train data: (7086, 5)\n",
      "INFO:ekorpkit.models.transformer.simple:Renaming columns: {}\n",
      "INFO:ekorpkit.models.transformer.simple:No columns or data to rename\n",
      "INFO:ekorpkit.models.transformer.simple:Renaming columns: {}\n",
      "Some weights of the model checkpoint at entelecheia/ekonelectra-base-discriminator were not used when initializing ElectraForSequenceClassification: ['discriminator_predictions.dense_prediction.weight', 'discriminator_predictions.dense.weight', 'discriminator_predictions.dense.bias', 'discriminator_predictions.dense_prediction.bias']\n",
      "- This IS expected if you are initializing ElectraForSequenceClassification from the checkpoint of a model trained on another task or with another architecture (e.g. initializing a BertForSequenceClassification model from a BertForPreTraining model).\n",
      "- This IS NOT expected if you are initializing ElectraForSequenceClassification from the checkpoint of a model that you expect to be exactly identical (initializing a BertForSequenceClassification model from a BertForSequenceClassification model).\n",
      "Some weights of ElectraForSequenceClassification were not initialized from the model checkpoint at entelecheia/ekonelectra-base-discriminator and are newly initialized: ['classifier.out_proj.bias', 'classifier.dense.weight', 'classifier.out_proj.weight', 'classifier.dense.bias']\n",
      "You should probably TRAIN this model on a down-stream task to be able to use it for predictions and inference.\n",
      "INFO:simpletransformers.classification.classification_utils: Converting to features started. Cache is not used.\n",
      "INFO:simpletransformers.classification.classification_utils: Saving features into cached file /workspace/.cache/cached_train_electra_256_10_2\n"
     ]
    },
    {
     "data": {
      "application/vnd.jupyter.widget-view+json": {
       "model_id": "b98ad6b9b56348e786fd178ab6da8eea",
       "version_major": 2,
       "version_minor": 0
      },
      "text/plain": [
       "Epoch:   0%|          | 0/10 [00:00<?, ?it/s]"
      ]
     },
     "metadata": {},
     "output_type": "display_data"
    },
    {
     "name": "stderr",
     "output_type": "stream",
     "text": [
      "INFO:simpletransformers.classification.classification_model: Initializing WandB run for training.\n"
     ]
    },
    {
     "data": {
      "application/vnd.jupyter.widget-view+json": {
       "model_id": "4eff96cde5ef4140a84839d2f2375bd9",
       "version_major": 2,
       "version_minor": 0
      },
      "text/plain": [
       "VBox(children=(Label(value='Waiting for wandb.init()...\\r'), FloatProgress(value=0.016668835033973057, max=1.0…"
      ]
     },
     "metadata": {},
     "output_type": "display_data"
    },
    {
     "data": {
      "application/vnd.jupyter.widget-view+json": {
       "model_id": "8602f04a16594618a47bb65a5151d1c4",
       "version_major": 2,
       "version_minor": 0
      },
      "text/plain": [
       "Running Epoch 0 of 10:   0%|          | 0/56 [00:00<?, ?it/s]"
      ]
     },
     "metadata": {},
     "output_type": "display_data"
    },
    {
     "data": {
      "application/vnd.jupyter.widget-view+json": {
       "model_id": "a81978c72fe2491488a5bfa3e74098cf",
       "version_major": 2,
       "version_minor": 0
      },
      "text/plain": [
       "Running Epoch 1 of 10:   0%|          | 0/56 [00:00<?, ?it/s]"
      ]
     },
     "metadata": {},
     "output_type": "display_data"
    },
    {
     "data": {
      "application/vnd.jupyter.widget-view+json": {
       "model_id": "c1ac1f29dbc241b2816df3a33f99e710",
       "version_major": 2,
       "version_minor": 0
      },
      "text/plain": [
       "Running Epoch 2 of 10:   0%|          | 0/56 [00:00<?, ?it/s]"
      ]
     },
     "metadata": {},
     "output_type": "display_data"
    },
    {
     "data": {
      "application/vnd.jupyter.widget-view+json": {
       "model_id": "2a438e6e8c754e4b936283db5ef77c1c",
       "version_major": 2,
       "version_minor": 0
      },
      "text/plain": [
       "Running Epoch 3 of 10:   0%|          | 0/56 [00:00<?, ?it/s]"
      ]
     },
     "metadata": {},
     "output_type": "display_data"
    },
    {
     "data": {
      "application/vnd.jupyter.widget-view+json": {
       "model_id": "89cfb6e0a9044401afd14ece4db93cc4",
       "version_major": 2,
       "version_minor": 0
      },
      "text/plain": [
       "Running Epoch 4 of 10:   0%|          | 0/56 [00:00<?, ?it/s]"
      ]
     },
     "metadata": {},
     "output_type": "display_data"
    },
    {
     "data": {
      "application/vnd.jupyter.widget-view+json": {
       "model_id": "c4f6eddc86434baeaa98ea8540aed8d0",
       "version_major": 2,
       "version_minor": 0
      },
      "text/plain": [
       "Running Epoch 5 of 10:   0%|          | 0/56 [00:00<?, ?it/s]"
      ]
     },
     "metadata": {},
     "output_type": "display_data"
    },
    {
     "data": {
      "application/vnd.jupyter.widget-view+json": {
       "model_id": "030d4ddf18d84e38beafdfea57f1db29",
       "version_major": 2,
       "version_minor": 0
      },
      "text/plain": [
       "Running Epoch 6 of 10:   0%|          | 0/56 [00:00<?, ?it/s]"
      ]
     },
     "metadata": {},
     "output_type": "display_data"
    },
    {
     "data": {
      "application/vnd.jupyter.widget-view+json": {
       "model_id": "7d4e3086035b4bbf8acb0241860cdb96",
       "version_major": 2,
       "version_minor": 0
      },
      "text/plain": [
       "Running Epoch 7 of 10:   0%|          | 0/56 [00:00<?, ?it/s]"
      ]
     },
     "metadata": {},
     "output_type": "display_data"
    },
    {
     "data": {
      "application/vnd.jupyter.widget-view+json": {
       "model_id": "d21f4759b34d4f268e7d400e52793d15",
       "version_major": 2,
       "version_minor": 0
      },
      "text/plain": [
       "Running Epoch 8 of 10:   0%|          | 0/56 [00:00<?, ?it/s]"
      ]
     },
     "metadata": {},
     "output_type": "display_data"
    },
    {
     "data": {
      "application/vnd.jupyter.widget-view+json": {
       "model_id": "f46971c070834c01ad766b4af4147142",
       "version_major": 2,
       "version_minor": 0
      },
      "text/plain": [
       "Running Epoch 9 of 10:   0%|          | 0/56 [00:00<?, ?it/s]"
      ]
     },
     "metadata": {},
     "output_type": "display_data"
    },
    {
     "name": "stderr",
     "output_type": "stream",
     "text": [
      "INFO:simpletransformers.classification.classification_model: Training of electra model complete. Saved to /workspace/projects/ekorpkit-book/exmaples/esg/models/esg_topics_validated-classification.\n",
      "INFO:simpletransformers.classification.classification_utils: Converting to features started. Cache is not used.\n",
      "INFO:simpletransformers.classification.classification_utils: Saving features into cached file /workspace/.cache/cached_dev_electra_256_10_2\n"
     ]
    },
    {
     "data": {
      "application/vnd.jupyter.widget-view+json": {
       "model_id": "0edd21a9cbfb42a6958ef17ac6cd44ee",
       "version_major": 2,
       "version_minor": 0
      },
      "text/plain": [
       "Running Evaluation:   0%|          | 0/19 [00:00<?, ?it/s]"
      ]
     },
     "metadata": {},
     "output_type": "display_data"
    },
    {
     "name": "stderr",
     "output_type": "stream",
     "text": [
      "INFO:simpletransformers.classification.classification_model: Initializing WandB run for evaluation.\n"
     ]
    },
    {
     "data": {
      "application/vnd.jupyter.widget-view+json": {
       "model_id": "81735f47e68d477ab0faa7f6e2367345",
       "version_major": 2,
       "version_minor": 0
      },
      "text/plain": [
       "VBox(children=(Label(value='Waiting for wandb.init()...\\r'), FloatProgress(value=0.016668398305773734, max=1.0…"
      ]
     },
     "metadata": {},
     "output_type": "display_data"
    },
    {
     "name": "stderr",
     "output_type": "stream",
     "text": [
      "INFO:simpletransformers.classification.classification_model:{'mcc': 0.7611969832189905, 'acc': 0.7955122777307366, 'eval_loss': 0.791275397727364}\n",
      "INFO:ekorpkit.config:Saving config to /workspace/projects/ekorpkit-book/exmaples/esg/outputs/esg_topics_validated/configs/esg_topics_validated(14)_config.yaml\n",
      "INFO:ekorpkit.models.transformer.simple:Predicting split 2\n",
      "INFO:simpletransformers.classification.classification_utils: Converting to features started. Cache is not used.\n"
     ]
    },
    {
     "data": {
      "application/vnd.jupyter.widget-view+json": {
       "model_id": "06c3f0d2653549a58aabc407172defe3",
       "version_major": 2,
       "version_minor": 0
      },
      "text/plain": [
       "  0%|          | 0/19 [00:00<?, ?it/s]"
      ]
     },
     "metadata": {},
     "output_type": "display_data"
    },
    {
     "name": "stderr",
     "output_type": "stream",
     "text": [
      "INFO:ekorpkit.models.transformer.simple:type of raw_outputs: <class 'numpy.ndarray'>\n",
      "INFO:ekorpkit.models.transformer.simple:raw_output: [-0.44262895 -1.98779929  5.92393446  0.49648684 -1.43522871 -1.86107802\n",
      " -0.57101792 -0.96842241 -0.23700489 -0.78135854]\n",
      "INFO:ekorpkit.io.file:Saving dataframe to /workspace/projects/ekorpkit-book/exmaples/esg/outputs/esg_topics_validated/esg_topics_validated(14)_preds.parquet\n",
      "INFO:ekorpkit.datasets.config:Train data: (7086, 5)\n",
      "INFO:ekorpkit.models.transformer.simple:Renaming columns: {}\n",
      "INFO:ekorpkit.models.transformer.simple:No columns or data to rename\n",
      "INFO:ekorpkit.models.transformer.simple:Renaming columns: {}\n",
      "Some weights of the model checkpoint at entelecheia/ekonelectra-base-discriminator were not used when initializing ElectraForSequenceClassification: ['discriminator_predictions.dense_prediction.weight', 'discriminator_predictions.dense.weight', 'discriminator_predictions.dense.bias', 'discriminator_predictions.dense_prediction.bias']\n",
      "- This IS expected if you are initializing ElectraForSequenceClassification from the checkpoint of a model trained on another task or with another architecture (e.g. initializing a BertForSequenceClassification model from a BertForPreTraining model).\n",
      "- This IS NOT expected if you are initializing ElectraForSequenceClassification from the checkpoint of a model that you expect to be exactly identical (initializing a BertForSequenceClassification model from a BertForSequenceClassification model).\n",
      "Some weights of ElectraForSequenceClassification were not initialized from the model checkpoint at entelecheia/ekonelectra-base-discriminator and are newly initialized: ['classifier.out_proj.bias', 'classifier.dense.weight', 'classifier.out_proj.weight', 'classifier.dense.bias']\n",
      "You should probably TRAIN this model on a down-stream task to be able to use it for predictions and inference.\n",
      "INFO:simpletransformers.classification.classification_utils: Converting to features started. Cache is not used.\n",
      "INFO:simpletransformers.classification.classification_utils: Saving features into cached file /workspace/.cache/cached_train_electra_256_10_2\n"
     ]
    },
    {
     "data": {
      "application/vnd.jupyter.widget-view+json": {
       "model_id": "e7f7a4c24201477cb5a18f2c29361d39",
       "version_major": 2,
       "version_minor": 0
      },
      "text/plain": [
       "Epoch:   0%|          | 0/10 [00:00<?, ?it/s]"
      ]
     },
     "metadata": {},
     "output_type": "display_data"
    },
    {
     "name": "stderr",
     "output_type": "stream",
     "text": [
      "INFO:simpletransformers.classification.classification_model: Initializing WandB run for training.\n"
     ]
    },
    {
     "data": {
      "application/vnd.jupyter.widget-view+json": {
       "model_id": "1cc074a26e984001ba8bd0b72feef445",
       "version_major": 2,
       "version_minor": 0
      },
      "text/plain": [
       "VBox(children=(Label(value='Waiting for wandb.init()...\\r'), FloatProgress(value=0.016667968531449636, max=1.0…"
      ]
     },
     "metadata": {},
     "output_type": "display_data"
    },
    {
     "data": {
      "application/vnd.jupyter.widget-view+json": {
       "model_id": "3a1e92af786141b891cc1dbedbced877",
       "version_major": 2,
       "version_minor": 0
      },
      "text/plain": [
       "Running Epoch 0 of 10:   0%|          | 0/56 [00:00<?, ?it/s]"
      ]
     },
     "metadata": {},
     "output_type": "display_data"
    },
    {
     "data": {
      "application/vnd.jupyter.widget-view+json": {
       "model_id": "4d0218f9a67f43bcacf1acdbadd9f431",
       "version_major": 2,
       "version_minor": 0
      },
      "text/plain": [
       "Running Epoch 1 of 10:   0%|          | 0/56 [00:00<?, ?it/s]"
      ]
     },
     "metadata": {},
     "output_type": "display_data"
    },
    {
     "data": {
      "application/vnd.jupyter.widget-view+json": {
       "model_id": "5c206c2abab342698edb191e827702b7",
       "version_major": 2,
       "version_minor": 0
      },
      "text/plain": [
       "Running Epoch 2 of 10:   0%|          | 0/56 [00:00<?, ?it/s]"
      ]
     },
     "metadata": {},
     "output_type": "display_data"
    },
    {
     "data": {
      "application/vnd.jupyter.widget-view+json": {
       "model_id": "148afd17d42a42efb5930cc3ce2c377e",
       "version_major": 2,
       "version_minor": 0
      },
      "text/plain": [
       "Running Epoch 3 of 10:   0%|          | 0/56 [00:00<?, ?it/s]"
      ]
     },
     "metadata": {},
     "output_type": "display_data"
    },
    {
     "data": {
      "application/vnd.jupyter.widget-view+json": {
       "model_id": "4427dd64fca44f519d239c7468147427",
       "version_major": 2,
       "version_minor": 0
      },
      "text/plain": [
       "Running Epoch 4 of 10:   0%|          | 0/56 [00:00<?, ?it/s]"
      ]
     },
     "metadata": {},
     "output_type": "display_data"
    },
    {
     "data": {
      "application/vnd.jupyter.widget-view+json": {
       "model_id": "99acd70439e248a591e4f966f862a74a",
       "version_major": 2,
       "version_minor": 0
      },
      "text/plain": [
       "Running Epoch 5 of 10:   0%|          | 0/56 [00:00<?, ?it/s]"
      ]
     },
     "metadata": {},
     "output_type": "display_data"
    },
    {
     "data": {
      "application/vnd.jupyter.widget-view+json": {
       "model_id": "7de798f627bf404381d9e50f835860c5",
       "version_major": 2,
       "version_minor": 0
      },
      "text/plain": [
       "Running Epoch 6 of 10:   0%|          | 0/56 [00:00<?, ?it/s]"
      ]
     },
     "metadata": {},
     "output_type": "display_data"
    },
    {
     "data": {
      "application/vnd.jupyter.widget-view+json": {
       "model_id": "7956b957681a4aeca789a6ba73278314",
       "version_major": 2,
       "version_minor": 0
      },
      "text/plain": [
       "Running Epoch 7 of 10:   0%|          | 0/56 [00:00<?, ?it/s]"
      ]
     },
     "metadata": {},
     "output_type": "display_data"
    },
    {
     "data": {
      "application/vnd.jupyter.widget-view+json": {
       "model_id": "94a5457a929b41f8800de77e2d95a14e",
       "version_major": 2,
       "version_minor": 0
      },
      "text/plain": [
       "Running Epoch 8 of 10:   0%|          | 0/56 [00:00<?, ?it/s]"
      ]
     },
     "metadata": {},
     "output_type": "display_data"
    },
    {
     "data": {
      "application/vnd.jupyter.widget-view+json": {
       "model_id": "99ece1d8162442e78e506c04ce79d8e3",
       "version_major": 2,
       "version_minor": 0
      },
      "text/plain": [
       "Running Epoch 9 of 10:   0%|          | 0/56 [00:00<?, ?it/s]"
      ]
     },
     "metadata": {},
     "output_type": "display_data"
    },
    {
     "name": "stderr",
     "output_type": "stream",
     "text": [
      "INFO:simpletransformers.classification.classification_model: Training of electra model complete. Saved to /workspace/projects/ekorpkit-book/exmaples/esg/models/esg_topics_validated-classification.\n",
      "INFO:simpletransformers.classification.classification_utils: Converting to features started. Cache is not used.\n",
      "INFO:simpletransformers.classification.classification_utils: Saving features into cached file /workspace/.cache/cached_dev_electra_256_10_2\n"
     ]
    },
    {
     "data": {
      "application/vnd.jupyter.widget-view+json": {
       "model_id": "a9455f2ec13b43eba5aa1d2422260a10",
       "version_major": 2,
       "version_minor": 0
      },
      "text/plain": [
       "Running Evaluation:   0%|          | 0/19 [00:00<?, ?it/s]"
      ]
     },
     "metadata": {},
     "output_type": "display_data"
    },
    {
     "name": "stderr",
     "output_type": "stream",
     "text": [
      "INFO:simpletransformers.classification.classification_model: Initializing WandB run for evaluation.\n"
     ]
    },
    {
     "data": {
      "application/vnd.jupyter.widget-view+json": {
       "model_id": "9ecc9fde30b24b118260391887d91e69",
       "version_major": 2,
       "version_minor": 0
      },
      "text/plain": [
       "VBox(children=(Label(value='Waiting for wandb.init()...\\r'), FloatProgress(value=0.01666850276912252, max=1.0)…"
      ]
     },
     "metadata": {},
     "output_type": "display_data"
    },
    {
     "name": "stderr",
     "output_type": "stream",
     "text": [
      "INFO:simpletransformers.classification.classification_model:{'mcc': 0.756168943381817, 'acc': 0.790008467400508, 'eval_loss': 0.8251208694357621}\n",
      "INFO:ekorpkit.config:Saving config to /workspace/projects/ekorpkit-book/exmaples/esg/outputs/esg_topics_validated/configs/esg_topics_validated(15)_config.yaml\n",
      "INFO:ekorpkit.models.transformer.simple:Predicting split 3\n",
      "INFO:simpletransformers.classification.classification_utils: Converting to features started. Cache is not used.\n"
     ]
    },
    {
     "data": {
      "application/vnd.jupyter.widget-view+json": {
       "model_id": "2893a8ebbc8d4893a996bfac79e4fcdf",
       "version_major": 2,
       "version_minor": 0
      },
      "text/plain": [
       "  0%|          | 0/19 [00:00<?, ?it/s]"
      ]
     },
     "metadata": {},
     "output_type": "display_data"
    },
    {
     "name": "stderr",
     "output_type": "stream",
     "text": [
      "INFO:ekorpkit.models.transformer.simple:type of raw_outputs: <class 'numpy.ndarray'>\n",
      "INFO:ekorpkit.models.transformer.simple:raw_output: [ 6.02145815 -1.79686356 -1.11947501 -1.68748939 -0.29376069 -0.35863328\n",
      " -0.17506261  0.07965102 -0.94695491 -1.12279844]\n",
      "INFO:ekorpkit.io.file:Saving dataframe to /workspace/projects/ekorpkit-book/exmaples/esg/outputs/esg_topics_validated/esg_topics_validated(15)_preds.parquet\n",
      "INFO:ekorpkit.io.file:Saving dataframe to /workspace/projects/ekorpkit-book/exmaples/esg/outputs/esg_topics_validated/esg_topics_validated(15)_cv.parquet\n"
     ]
    },
    {
     "name": "stdout",
     "output_type": "stream",
     "text": [
      "time: 48min 31s (started: 2022-12-17 00:59:01 +00:00)\n"
     ]
    }
   ],
   "source": [
    "cv_preds_topic = smt.cross_val_predict(cv=4, dev_size=0)"
   ]
  },
  {
   "cell_type": "code",
   "execution_count": 29,
   "metadata": {},
   "outputs": [
    {
     "name": "stdout",
     "output_type": "stream",
     "text": [
      "time: 3.68 ms (started: 2022-12-17 01:47:32 +00:00)\n"
     ]
    }
   ],
   "source": [
    "cols = [\"text\", \"labels\", \"pred_labels\", \"raw_preds\", \"pred_probs\"]\n",
    "cv_preds_topic = cv_preds_topic[cols].reset_index()"
   ]
  },
  {
   "cell_type": "code",
   "execution_count": 30,
   "metadata": {},
   "outputs": [
    {
     "name": "stderr",
     "output_type": "stream",
     "text": [
      "INFO:ekorpkit.models.transformer.simple:Created 9448 records\n"
     ]
    },
    {
     "name": "stdout",
     "output_type": "stream",
     "text": [
      "388\n",
      "text=\"싱가포르 항공 은 이번 평가 에서 좌석 공간 과 편안함 고객서비스 가격 대비 만족 도 청결 도 체크인 · 탑승 기내식 기내 엔터테인먼트 ( 무선 인터넷 · tv · 영화 ) 등 항목 에서 고르게 최고점 을 받았다 .\\n특히 이코노미 클래스 와 퍼스트 클래스 에서 최우수 평가 를 받았다 .\\n고춘 퐁 ( goh choon phong ) 싱가포르 항공 ceo 는 ' 이번 수상 은 싱가포르 항공 을 통해 고객 들 이 느낀 높은 만족감 을 보여준다는 점 에서 더욱 뜻 깊고 영광 스러운 일 ' 이라고 말 했다 .\\n이어 ' 우수 한 고객 서비스 와 지속적 인 기내 프로덕트 혁신 을 통해 얻은 결과 인 만큼 앞 으로도 고객 의 기대 를 뛰어넘는 최고 의 비행 경험 을 선사 하기 위해 끊임없이 노력 할 것 ' 이라고 덧붙였다 .\" inputs={'text': \"싱가포르 항공 은 이번 평가 에서 좌석 공간 과 편안함 고객서비스 가격 대비 만족 도 청결 도 체크인 · 탑승 기내식 기내 엔터테인먼트 ( 무선 인터넷 · tv · 영화 ) 등 항목 에서 고르게 최고점 을 받았다 .\\n특히 이코노미 클래스 와 퍼스트 클래스 에서 최우수 평가 를 받았다 .\\n고춘 퐁 ( goh choon phong ) 싱가포르 항공 ceo 는 ' 이번 수상 은 싱가포르 항공 을 통해 고객 들 이 느낀 높은 만족감 을 보여준다는 점 에서 더욱 뜻 깊고 영광 스러운 일 ' 이라고 말 했다 .\\n이어 ' 우수 한 고객 서비스 와 지속적 인 기내 프로덕트 혁신 을 통해 얻은 결과 인 만큼 앞 으로도 고객 의 기대 를 뛰어넘는 최고 의 비행 경험 을 선사 하기 위해 끊임없이 노력 할 것 ' 이라고 덧붙였다 .\"} prediction=[('S-소비자', 0.9897604143328605), ('E-기후변화', 0.00033954614695828753), ('S-고용', 0.0010764540560271147), ('G-지배구조', 0.0006275287427944966), ('E-환경영향', 0.001158181043895845), ('E-환경혁신', 0.0013669920144253325), ('G-기업윤리/불공정/소송', 0.0017702516756714884), ('S-기업(공급망)동반성장/상생', 0.0023943532474521405), ('S-사회공헌', 0.0009222622135478406), ('S-재해/안전관리', 0.0005840165263666533)] prediction_agent=None annotation='G-지배구조' annotation_agent=None multi_label=False explanation=None id=None metadata={'index': 1922, 'label_error_candidate': 0} status='Validated' event_timestamp=None metrics=None search_keywords=None\n"
     ]
    },
    {
     "name": "stderr",
     "output_type": "stream",
     "text": [
      "INFO:ekorpkit.io.file:Saving dataframe to /workspace/projects/ekorpkit-book/exmaples/esg/data/esg_topic_validated/esg_topic_data_cved.parquet\n"
     ]
    },
    {
     "name": "stdout",
     "output_type": "stream",
     "text": [
      "9060\n",
      "time: 4.95 s (started: 2022-12-17 01:47:32 +00:00)\n"
     ]
    }
   ],
   "source": [
    "records_with_label_error = smt.find_label_errors(cv_preds_topic, meta_columns=[\"index\"])\n",
    "print(len(records_with_label_error))\n",
    "print(records_with_label_error[0])\n",
    "\n",
    "# remove rows from preds that have label errors\n",
    "data_topic_cved = cv_preds_topic.copy()\n",
    "for record in records_with_label_error:\n",
    "    metadata = record.metadata\n",
    "    data_topic_cved = data_topic_cved[data_topic_cved.index != metadata[\"index\"]]\n",
    "print(len(data_topic_cved))\n",
    "topic_cved_filename = \"esg_topic_data_cved.parquet\"\n",
    "eKonf.save_data(data_topic_cved, topic_cved_filename, valid_data_dir)"
   ]
  },
  {
   "cell_type": "code",
   "execution_count": 31,
   "metadata": {},
   "outputs": [
    {
     "name": "stderr",
     "output_type": "stream",
     "text": [
      "INFO:ekorpkit.io.file:Concatenating 2 dataframes\n",
      "INFO:ekorpkit.io.file:Saving dataframe to /workspace/projects/ekorpkit-book/exmaples/esg/data/esg_topic_validated/esg_topic_data_cved_mreged.parquet\n"
     ]
    },
    {
     "name": "stdout",
     "output_type": "stream",
     "text": [
      "(9400, 2)\n",
      "S-소비자               2265\n",
      "G-지배구조              1545\n",
      "S-고용                1436\n",
      "G-기업윤리/불공정/소송        903\n",
      "E-환경혁신               802\n",
      "S-사회공헌               649\n",
      "E-기후변화               591\n",
      "E-환경영향               489\n",
      "S-기업(공급망)동반성장/상생     362\n",
      "S-재해/안전관리            358\n",
      "Name: labels, dtype: int64\n",
      "time: 692 ms (started: 2022-12-17 01:47:37 +00:00)\n"
     ]
    }
   ],
   "source": [
    "file = ws.project_dir / \"esg/outputs/esg_topic_labels/esg_topic_labels(0)_export.parquet\"\n",
    "tp_add = eKonf.load_data(file)\n",
    "# exclude UNKNOWN and ESG\n",
    "tp_add = tp_add[~tp_add[\"labels\"].isin([\"UNKNOWN\", \"ESG\"])]\n",
    "# combine tp_add and ds_tp_valid with ['text', 'labels'] columns only\n",
    "topic_cv_merged = eKonf.concat_data([data_topic_cved[['text', 'labels']], tp_add[['text', 'labels']]], axis=0)\n",
    "print(topic_cv_merged.shape)\n",
    "print(topic_cv_merged.labels.value_counts())\n",
    "# Save data\n",
    "topic_cved_filename = \"esg_topic_data_cved_mreged.parquet\"\n",
    "eKonf.save_data(topic_cv_merged, topic_cved_filename, valid_data_dir)"
   ]
  },
  {
   "cell_type": "code",
   "execution_count": 32,
   "metadata": {},
   "outputs": [
    {
     "name": "stdout",
     "output_type": "stream",
     "text": [
      "time: 3.49 s (started: 2022-12-17 01:47:38 +00:00)\n"
     ]
    }
   ],
   "source": [
    "from ekorpkit.models.transformer.simple import SimpleClassification\n",
    "\n",
    "topic_cved_filename = \"esg_topic_data_cved_mreged.parquet\"\n",
    "valid_data_dir = ws.project_dir / \"esg/data/esg_topic_validated\"\n",
    "\n",
    "cfg = eKonf.compose('task=simple.classification')\n",
    "cfg.name = \"esg_topics_cved\"\n",
    "cfg.dataset.data_dir = valid_data_dir\n",
    "cfg.dataset.data_files = topic_cved_filename\n",
    "cfg.dataset.test_size = 0.2\n",
    "cfg.dataset.dev_size = 0.2\n",
    "cfg.dataset.shuffle = True\n",
    "cfg.dataset.seed = 977634889\n",
    "cfg.model.model_name_or_path = \"entelecheia/ekonelectra-base-discriminator\"\n",
    "cfg.trainer.num_train_epochs = 10\n",
    "cfg.trainer.max_seq_length = 256\n",
    "cfg.trainer.train_batch_size = 128\n",
    "cfg.trainer.eval_batch_size = 128\n",
    "\n",
    "smt = SimpleClassification(**cfg)"
   ]
  },
  {
   "cell_type": "code",
   "execution_count": 33,
   "metadata": {
    "scrolled": false
   },
   "outputs": [
    {
     "name": "stderr",
     "output_type": "stream",
     "text": [
      "INFO:ekorpkit.datasets.config:Splitting the dataframe into train and test with ratio 0.2\n",
      "INFO:ekorpkit.datasets.config:Splitting the dataframe into train and dev with ratio 0.2\n",
      "INFO:ekorpkit.datasets.config:Shuffling the dataframe with seed 977634889\n",
      "INFO:ekorpkit.datasets.config:Train data: (6016, 2)\n",
      "INFO:ekorpkit.datasets.config:Test data: (1880, 2)\n",
      "INFO:ekorpkit.datasets.config:Dev data: (1504, 2)\n",
      "INFO:ekorpkit.models.transformer.simple:Renaming columns: {}\n",
      "INFO:ekorpkit.models.transformer.simple:Renaming columns: {}\n",
      "INFO:ekorpkit.models.transformer.simple:Renaming columns: {}\n",
      "Some weights of the model checkpoint at entelecheia/ekonelectra-base-discriminator were not used when initializing ElectraForSequenceClassification: ['discriminator_predictions.dense_prediction.weight', 'discriminator_predictions.dense.weight', 'discriminator_predictions.dense.bias', 'discriminator_predictions.dense_prediction.bias']\n",
      "- This IS expected if you are initializing ElectraForSequenceClassification from the checkpoint of a model trained on another task or with another architecture (e.g. initializing a BertForSequenceClassification model from a BertForPreTraining model).\n",
      "- This IS NOT expected if you are initializing ElectraForSequenceClassification from the checkpoint of a model that you expect to be exactly identical (initializing a BertForSequenceClassification model from a BertForSequenceClassification model).\n",
      "Some weights of ElectraForSequenceClassification were not initialized from the model checkpoint at entelecheia/ekonelectra-base-discriminator and are newly initialized: ['classifier.out_proj.bias', 'classifier.dense.weight', 'classifier.out_proj.weight', 'classifier.dense.bias']\n",
      "You should probably TRAIN this model on a down-stream task to be able to use it for predictions and inference.\n",
      "INFO:simpletransformers.classification.classification_utils: Converting to features started. Cache is not used.\n",
      "INFO:simpletransformers.classification.classification_utils: Saving features into cached file /workspace/.cache/cached_train_electra_256_10_2\n"
     ]
    },
    {
     "data": {
      "application/vnd.jupyter.widget-view+json": {
       "model_id": "aabd4a6c30a649618a65c84d96d4d130",
       "version_major": 2,
       "version_minor": 0
      },
      "text/plain": [
       "Epoch:   0%|          | 0/10 [00:00<?, ?it/s]"
      ]
     },
     "metadata": {},
     "output_type": "display_data"
    },
    {
     "name": "stderr",
     "output_type": "stream",
     "text": [
      "INFO:simpletransformers.classification.classification_model: Initializing WandB run for training.\n"
     ]
    },
    {
     "data": {
      "application/vnd.jupyter.widget-view+json": {
       "model_id": "fc56d1016af54b89863be55c51a0ced6",
       "version_major": 2,
       "version_minor": 0
      },
      "text/plain": [
       "VBox(children=(Label(value='Waiting for wandb.init()...\\r'), FloatProgress(value=0.01666842025394241, max=1.0)…"
      ]
     },
     "metadata": {},
     "output_type": "display_data"
    },
    {
     "data": {
      "application/vnd.jupyter.widget-view+json": {
       "model_id": "0620937effc6499d9609f663c6707d73",
       "version_major": 2,
       "version_minor": 0
      },
      "text/plain": [
       "Running Epoch 0 of 10:   0%|          | 0/47 [00:00<?, ?it/s]"
      ]
     },
     "metadata": {},
     "output_type": "display_data"
    },
    {
     "name": "stderr",
     "output_type": "stream",
     "text": [
      "INFO:simpletransformers.classification.classification_utils: Converting to features started. Cache is not used.\n",
      "INFO:simpletransformers.classification.classification_utils: Saving features into cached file /workspace/.cache/cached_dev_electra_256_10_2\n",
      "INFO:simpletransformers.classification.classification_model:{'mcc': 0.4053047266418383, 'acc': 0.49601063829787234, 'eval_loss': 1.7612815499305725}\n"
     ]
    },
    {
     "data": {
      "application/vnd.jupyter.widget-view+json": {
       "model_id": "05e8f889745a44c198df0b9f4c30fee6",
       "version_major": 2,
       "version_minor": 0
      },
      "text/plain": [
       "Running Epoch 1 of 10:   0%|          | 0/47 [00:00<?, ?it/s]"
      ]
     },
     "metadata": {},
     "output_type": "display_data"
    },
    {
     "name": "stderr",
     "output_type": "stream",
     "text": [
      "INFO:simpletransformers.classification.classification_utils: Converting to features started. Cache is not used.\n",
      "INFO:simpletransformers.classification.classification_utils: Saving features into cached file /workspace/.cache/cached_dev_electra_256_10_2\n",
      "INFO:simpletransformers.classification.classification_model:{'mcc': 0.7182882569855017, 'acc': 0.757313829787234, 'eval_loss': 0.9193831036488215}\n"
     ]
    },
    {
     "data": {
      "application/vnd.jupyter.widget-view+json": {
       "model_id": "611f131af12444b9908c7af18858b62c",
       "version_major": 2,
       "version_minor": 0
      },
      "text/plain": [
       "Running Epoch 2 of 10:   0%|          | 0/47 [00:00<?, ?it/s]"
      ]
     },
     "metadata": {},
     "output_type": "display_data"
    },
    {
     "name": "stderr",
     "output_type": "stream",
     "text": [
      "INFO:simpletransformers.classification.classification_utils: Converting to features started. Cache is not used.\n",
      "INFO:simpletransformers.classification.classification_utils: Saving features into cached file /workspace/.cache/cached_dev_electra_256_10_2\n",
      "INFO:simpletransformers.classification.classification_model:{'mcc': 0.7748971935126667, 'acc': 0.8065159574468085, 'eval_loss': 0.7227616955836614}\n"
     ]
    },
    {
     "data": {
      "application/vnd.jupyter.widget-view+json": {
       "model_id": "cb0c2c9d0a4244518ec0b885dde2aa63",
       "version_major": 2,
       "version_minor": 0
      },
      "text/plain": [
       "Running Epoch 3 of 10:   0%|          | 0/47 [00:00<?, ?it/s]"
      ]
     },
     "metadata": {},
     "output_type": "display_data"
    },
    {
     "name": "stderr",
     "output_type": "stream",
     "text": [
      "INFO:simpletransformers.classification.classification_utils: Converting to features started. Cache is not used.\n",
      "INFO:simpletransformers.classification.classification_utils: Saving features into cached file /workspace/.cache/cached_dev_electra_256_10_2\n",
      "INFO:simpletransformers.classification.classification_model:{'mcc': 0.7864067428867297, 'acc': 0.8164893617021277, 'eval_loss': 0.6524468412001928}\n"
     ]
    },
    {
     "data": {
      "application/vnd.jupyter.widget-view+json": {
       "model_id": "1205a66765934f6f916b86e122bce164",
       "version_major": 2,
       "version_minor": 0
      },
      "text/plain": [
       "Running Epoch 4 of 10:   0%|          | 0/47 [00:00<?, ?it/s]"
      ]
     },
     "metadata": {},
     "output_type": "display_data"
    },
    {
     "name": "stderr",
     "output_type": "stream",
     "text": [
      "INFO:simpletransformers.classification.classification_utils: Converting to features started. Cache is not used.\n",
      "INFO:simpletransformers.classification.classification_utils: Saving features into cached file /workspace/.cache/cached_dev_electra_256_10_2\n",
      "INFO:simpletransformers.classification.classification_model:{'mcc': 0.7842642795170566, 'acc': 0.8138297872340425, 'eval_loss': 0.6461221526066462}\n"
     ]
    },
    {
     "data": {
      "application/vnd.jupyter.widget-view+json": {
       "model_id": "00795fcd6fec40948ab56b015762bbf4",
       "version_major": 2,
       "version_minor": 0
      },
      "text/plain": [
       "Running Epoch 5 of 10:   0%|          | 0/47 [00:00<?, ?it/s]"
      ]
     },
     "metadata": {},
     "output_type": "display_data"
    },
    {
     "name": "stderr",
     "output_type": "stream",
     "text": [
      "INFO:simpletransformers.classification.classification_utils: Converting to features started. Cache is not used.\n",
      "INFO:simpletransformers.classification.classification_utils: Saving features into cached file /workspace/.cache/cached_dev_electra_256_10_2\n",
      "INFO:simpletransformers.classification.classification_model:{'mcc': 0.7914698596081943, 'acc': 0.8204787234042553, 'eval_loss': 0.6538690974315008}\n"
     ]
    },
    {
     "data": {
      "application/vnd.jupyter.widget-view+json": {
       "model_id": "8d981b1c4a624b479dc26ca53e9ea0b1",
       "version_major": 2,
       "version_minor": 0
      },
      "text/plain": [
       "Running Epoch 6 of 10:   0%|          | 0/47 [00:00<?, ?it/s]"
      ]
     },
     "metadata": {},
     "output_type": "display_data"
    },
    {
     "name": "stderr",
     "output_type": "stream",
     "text": [
      "INFO:simpletransformers.classification.classification_utils: Converting to features started. Cache is not used.\n",
      "INFO:simpletransformers.classification.classification_utils: Saving features into cached file /workspace/.cache/cached_dev_electra_256_10_2\n",
      "INFO:simpletransformers.classification.classification_model:{'mcc': 0.7985231311837293, 'acc': 0.8264627659574468, 'eval_loss': 0.6644373387098312}\n"
     ]
    },
    {
     "data": {
      "application/vnd.jupyter.widget-view+json": {
       "model_id": "b322b465a3344d9189406ea02bc47828",
       "version_major": 2,
       "version_minor": 0
      },
      "text/plain": [
       "Running Epoch 7 of 10:   0%|          | 0/47 [00:00<?, ?it/s]"
      ]
     },
     "metadata": {},
     "output_type": "display_data"
    },
    {
     "name": "stderr",
     "output_type": "stream",
     "text": [
      "INFO:simpletransformers.classification.classification_utils: Converting to features started. Cache is not used.\n",
      "INFO:simpletransformers.classification.classification_utils: Saving features into cached file /workspace/.cache/cached_dev_electra_256_10_2\n",
      "INFO:simpletransformers.classification.classification_model:{'mcc': 0.7993943198120286, 'acc': 0.8271276595744681, 'eval_loss': 0.6578289543588957}\n"
     ]
    },
    {
     "data": {
      "application/vnd.jupyter.widget-view+json": {
       "model_id": "5eb861ab6907459abc1e97d2e1f27ad5",
       "version_major": 2,
       "version_minor": 0
      },
      "text/plain": [
       "Running Epoch 8 of 10:   0%|          | 0/47 [00:00<?, ?it/s]"
      ]
     },
     "metadata": {},
     "output_type": "display_data"
    },
    {
     "name": "stderr",
     "output_type": "stream",
     "text": [
      "INFO:simpletransformers.classification.classification_utils: Converting to features started. Cache is not used.\n",
      "INFO:simpletransformers.classification.classification_utils: Saving features into cached file /workspace/.cache/cached_dev_electra_256_10_2\n",
      "INFO:simpletransformers.classification.classification_model:{'mcc': 0.8018733551633995, 'acc': 0.8297872340425532, 'eval_loss': 0.6825426071882248}\n"
     ]
    },
    {
     "data": {
      "application/vnd.jupyter.widget-view+json": {
       "model_id": "a85043de55f842bba83507941462ea65",
       "version_major": 2,
       "version_minor": 0
      },
      "text/plain": [
       "Running Epoch 9 of 10:   0%|          | 0/47 [00:00<?, ?it/s]"
      ]
     },
     "metadata": {},
     "output_type": "display_data"
    },
    {
     "name": "stderr",
     "output_type": "stream",
     "text": [
      "INFO:simpletransformers.classification.classification_utils: Converting to features started. Cache is not used.\n",
      "INFO:simpletransformers.classification.classification_utils: Saving features into cached file /workspace/.cache/cached_dev_electra_256_10_2\n",
      "INFO:simpletransformers.classification.classification_model:{'mcc': 0.7989868884916935, 'acc': 0.8271276595744681, 'eval_loss': 0.6802134936054548}\n",
      "INFO:simpletransformers.classification.classification_model: Training of electra model complete. Saved to /workspace/projects/ekorpkit-book/exmaples/esg/models/esg_topics_cved-classification.\n",
      "INFO:simpletransformers.classification.classification_utils: Converting to features started. Cache is not used.\n",
      "INFO:simpletransformers.classification.classification_utils: Saving features into cached file /workspace/.cache/cached_dev_electra_256_10_2\n"
     ]
    },
    {
     "data": {
      "application/vnd.jupyter.widget-view+json": {
       "model_id": "8e4ec2310ccc4bc89f47f31ca86785a2",
       "version_major": 2,
       "version_minor": 0
      },
      "text/plain": [
       "Running Evaluation:   0%|          | 0/15 [00:00<?, ?it/s]"
      ]
     },
     "metadata": {},
     "output_type": "display_data"
    },
    {
     "name": "stderr",
     "output_type": "stream",
     "text": [
      "INFO:simpletransformers.classification.classification_model: Initializing WandB run for evaluation.\n"
     ]
    },
    {
     "data": {
      "application/vnd.jupyter.widget-view+json": {
       "model_id": "a32b5002acd145ff9c67c2f2bd21f48f",
       "version_major": 2,
       "version_minor": 0
      },
      "text/plain": [
       "VBox(children=(Label(value='Waiting for wandb.init()...\\r'), FloatProgress(value=0.016668675591548283, max=1.0…"
      ]
     },
     "metadata": {},
     "output_type": "display_data"
    },
    {
     "name": "stderr",
     "output_type": "stream",
     "text": [
      "INFO:simpletransformers.classification.classification_model:{'mcc': 0.8065837863234686, 'acc': 0.8335106382978723, 'eval_loss': 0.6546976029872894}\n",
      "INFO:ekorpkit.config:Saving config to /workspace/projects/ekorpkit-book/exmaples/esg/outputs/esg_topics_cved/configs/esg_topics_cved(3)_config.yaml\n"
     ]
    },
    {
     "name": "stdout",
     "output_type": "stream",
     "text": [
      "time: 11min 16s (started: 2022-12-17 01:47:41 +00:00)\n"
     ]
    }
   ],
   "source": [
    "smt.train()"
   ]
  },
  {
   "cell_type": "code",
   "execution_count": 34,
   "metadata": {
    "pycharm": {
     "name": "#%%\n"
    },
    "scrolled": false
   },
   "outputs": [
    {
     "name": "stderr",
     "output_type": "stream",
     "text": [
      "INFO:ekorpkit.models.transformer.simple:Loaded model from /workspace/projects/ekorpkit-book/exmaples/esg/models/esg_topics_cved-classification/best_model\n",
      "INFO:simpletransformers.classification.classification_utils: Converting to features started. Cache is not used.\n"
     ]
    },
    {
     "data": {
      "application/vnd.jupyter.widget-view+json": {
       "model_id": "087be2d168a7485489f4f9e6ddcbad82",
       "version_major": 2,
       "version_minor": 0
      },
      "text/plain": [
       "  0%|          | 0/15 [00:00<?, ?it/s]"
      ]
     },
     "metadata": {},
     "output_type": "display_data"
    },
    {
     "name": "stderr",
     "output_type": "stream",
     "text": [
      "INFO:ekorpkit.models.transformer.simple:type of raw_outputs: <class 'numpy.ndarray'>\n",
      "INFO:ekorpkit.models.transformer.simple:raw_output: [ 0.64087743 -0.97763002 -0.67245495 -1.31193423 -1.34377241  0.05310853\n",
      " -0.33475915  3.93648148 -0.79432243  0.83153814]\n",
      "INFO:ekorpkit.io.file:Saving dataframe to /workspace/projects/ekorpkit-book/exmaples/esg/outputs/esg_topics_cved/esg_topics_cved(3)_preds.parquet\n"
     ]
    },
    {
     "name": "stdout",
     "output_type": "stream",
     "text": [
      "Accuracy:  0.824468085106383\n",
      "Precison:  0.8307886859209715\n",
      "Recall:  0.824468085106383\n",
      "F1 Score:  0.8238006616461439\n",
      "Model Report: \n",
      "___________________________________________________\n",
      "                  precision    recall  f1-score   support\n",
      "\n",
      "          E-기후변화       0.91      0.64      0.75       129\n",
      "          E-환경영향       0.75      0.70      0.72       105\n",
      "          E-환경혁신       0.64      0.88      0.74       169\n",
      "   G-기업윤리/불공정/소송       0.76      0.65      0.70       151\n",
      "          G-지배구조       0.88      0.90      0.89       295\n",
      "            S-고용       0.87      0.89      0.88       278\n",
      "S-기업(공급망)동반성장/상생       0.77      0.68      0.72        73\n",
      "          S-사회공헌       0.86      0.86      0.86       140\n",
      "           S-소비자       0.87      0.86      0.87       465\n",
      "       S-재해/안전관리       0.81      0.84      0.82        75\n",
      "\n",
      "        accuracy                           0.82      1880\n",
      "       macro avg       0.81      0.79      0.80      1880\n",
      "    weighted avg       0.83      0.82      0.82      1880\n",
      "\n"
     ]
    },
    {
     "name": "stderr",
     "output_type": "stream",
     "text": [
      "INFO:ekorpkit.visualize.base:Saved figure to /workspace/projects/ekorpkit-book/exmaples/esg/outputs/esg_topics_cved/esg_topics_cved(3)_confusion_matrix.png\n"
     ]
    },
    {
     "data": {
      "image/png": "[encoded data removed]",
      "text/plain": [
       "<Figure size 864x720 with 2 Axes>"
      ]
     },
     "metadata": {
      "image/png": {
       "height": 691,
       "width": 789
      }
     },
     "output_type": "display_data"
    },
    {
     "name": "stdout",
     "output_type": "stream",
     "text": [
      "time: 9.86 s (started: 2022-12-17 01:58:58 +00:00)\n"
     ]
    }
   ],
   "source": [
    "smt.model.eval.visualize.plot.confusion_matrix.include_values = False\n",
    "smt.model.eval.visualize.plot.confusion_matrix.include_percentages = False\n",
    "smt.model.eval.visualize.plot.figure.figsize = (12,10)\n",
    "smt.eval()"
   ]
  },
  {
   "cell_type": "markdown",
   "metadata": {},
   "source": [
    "## Load data to predict"
   ]
  },
  {
   "cell_type": "code",
   "execution_count": 3,
   "metadata": {
    "pycharm": {
     "name": "#%%\n"
    }
   },
   "outputs": [
    {
     "name": "stdout",
     "output_type": "stream",
     "text": [
      "(1833910, 3)\n"
     ]
    },
    {
     "data": {
      "text/html": [
       "<div>\n",
       "<style scoped>\n",
       "    .dataframe tbody tr th:only-of-type {\n",
       "        vertical-align: middle;\n",
       "    }\n",
       "\n",
       "    .dataframe tbody tr th {\n",
       "        vertical-align: top;\n",
       "    }\n",
       "\n",
       "    .dataframe thead th {\n",
       "        text-align: right;\n",
       "    }\n",
       "</style>\n",
       "<table border=\"1\" class=\"dataframe\">\n",
       "  <thead>\n",
       "    <tr style=\"text-align: right;\">\n",
       "      <th></th>\n",
       "      <th>text</th>\n",
       "      <th>chunk_id</th>\n",
       "      <th>filename</th>\n",
       "    </tr>\n",
       "  </thead>\n",
       "  <tbody>\n",
       "    <tr>\n",
       "      <th>0</th>\n",
       "      <td>△ 사진 설명 : 경자년 새해가 밝았다  제각각 삶터에서 묵묵히 노력하는 대한민국...</td>\n",
       "      <td>0</td>\n",
       "      <td>02100101.20200101001103001.txt</td>\n",
       "    </tr>\n",
       "    <tr>\n",
       "      <th>1</th>\n",
       "      <td>\"청년 벤처기업가들한테 진짜로 미안했어요  부끄럽고 \" 지난해 12월 29일 서울...</td>\n",
       "      <td>0</td>\n",
       "      <td>02100101.20200101001253001.txt</td>\n",
       "    </tr>\n",
       "    <tr>\n",
       "      <th>2</th>\n",
       "      <td>오늘부터 30년 후면 2050년이다  30년 전인 1990년을 전후하여 세계는 독...</td>\n",
       "      <td>0</td>\n",
       "      <td>02100101.20200101001855001.txt</td>\n",
       "    </tr>\n",
       "    <tr>\n",
       "      <th>3</th>\n",
       "      <td>◆ 2020 경제기상도 / 환율 ◆ 지난해 미·중 무역분쟁이라는 대형 변수로 출렁...</td>\n",
       "      <td>0</td>\n",
       "      <td>02100101.20200101040159002.txt</td>\n",
       "    </tr>\n",
       "    <tr>\n",
       "      <th>4</th>\n",
       "      <td>◆ 2020 경제기상도 / 업종별 전망 (반도체) ◆ 지난해 미·중 무역분쟁과 공...</td>\n",
       "      <td>0</td>\n",
       "      <td>02100101.20200101040200001.txt</td>\n",
       "    </tr>\n",
       "  </tbody>\n",
       "</table>\n",
       "</div>"
      ],
      "text/plain": [
       "                                                text  chunk_id  \\\n",
       "0   △ 사진 설명 : 경자년 새해가 밝았다  제각각 삶터에서 묵묵히 노력하는 대한민국...         0   \n",
       "1   \"청년 벤처기업가들한테 진짜로 미안했어요  부끄럽고 \" 지난해 12월 29일 서울...         0   \n",
       "2   오늘부터 30년 후면 2050년이다  30년 전인 1990년을 전후하여 세계는 독...         0   \n",
       "3   ◆ 2020 경제기상도 / 환율 ◆ 지난해 미·중 무역분쟁이라는 대형 변수로 출렁...         0   \n",
       "4   ◆ 2020 경제기상도 / 업종별 전망 (반도체) ◆ 지난해 미·중 무역분쟁과 공...         0   \n",
       "\n",
       "                         filename  \n",
       "0  02100101.20200101001103001.txt  \n",
       "1  02100101.20200101001253001.txt  \n",
       "2  02100101.20200101001855001.txt  \n",
       "3  02100101.20200101040159002.txt  \n",
       "4  02100101.20200101040200001.txt  "
      ]
     },
     "execution_count": 3,
     "metadata": {},
     "output_type": "execute_result"
    },
    {
     "name": "stdout",
     "output_type": "stream",
     "text": [
      "time: 15.7 s (started: 2022-12-29 10:49:40 +00:00)\n"
     ]
    }
   ],
   "source": [
    "news_data_dir = ws.project_dir / \"esg/data/econ_news_kr/news_slice\"\n",
    "\n",
    "chunk_data = eKonf.load_data(\n",
    "    \"econ_news_kr_chunks_*_20220911.parquet\", news_data_dir, concatenate=True\n",
    ")\n",
    "print(chunk_data.shape)\n",
    "chunk_data.head()"
   ]
  },
  {
   "cell_type": "code",
   "execution_count": 4,
   "metadata": {},
   "outputs": [
    {
     "name": "stdout",
     "output_type": "stream",
     "text": [
      "<class 'pandas.core.frame.DataFrame'>\n",
      "Int64Index: 1833910 entries, 0 to 785336\n",
      "Data columns (total 3 columns):\n",
      " #   Column    Dtype \n",
      "---  ------    ----- \n",
      " 0   text      object\n",
      " 1   chunk_id  int64 \n",
      " 2   filename  object\n",
      "dtypes: int64(1), object(2)\n",
      "memory usage: 56.0+ MB\n",
      "time: 3.93 ms (started: 2022-12-29 10:49:56 +00:00)\n"
     ]
    }
   ],
   "source": [
    "chunk_data.info() "
   ]
  },
  {
   "cell_type": "markdown",
   "metadata": {},
   "source": [
    "## Load company code info\n"
   ]
  },
  {
   "cell_type": "code",
   "execution_count": 5,
   "metadata": {},
   "outputs": [
    {
     "name": "stderr",
     "output_type": "stream",
     "text": [
      "INFO:ekorpkit.io.load.data:==> processing 1/3 files <==\n",
      "INFO:ekorpkit.io.parse.json:Number of data in the contents: 110689\n",
      "INFO:ekorpkit.io.load.data:==> processing 2/3 files <==\n",
      "INFO:ekorpkit.io.parse.json:Number of data in the contents: 281398\n",
      "INFO:ekorpkit.io.load.data:==> processing 3/3 files <==\n",
      "INFO:ekorpkit.io.parse.json:Number of data in the contents: 251404\n"
     ]
    },
    {
     "name": "stdout",
     "output_type": "stream",
     "text": [
      "{'filename': 'econ_news_kr_chunks_2022_code_20221229.txt', 'codes': '02100101.20220101002520005,1,005380'}\n"
     ]
    },
    {
     "data": {
      "text/html": [
       "<div>\n",
       "<style scoped>\n",
       "    .dataframe tbody tr th:only-of-type {\n",
       "        vertical-align: middle;\n",
       "    }\n",
       "\n",
       "    .dataframe tbody tr th {\n",
       "        vertical-align: top;\n",
       "    }\n",
       "\n",
       "    .dataframe thead th {\n",
       "        text-align: right;\n",
       "    }\n",
       "</style>\n",
       "<table border=\"1\" class=\"dataframe\">\n",
       "  <thead>\n",
       "    <tr style=\"text-align: right;\">\n",
       "      <th></th>\n",
       "      <th>filename</th>\n",
       "      <th>codes</th>\n",
       "    </tr>\n",
       "  </thead>\n",
       "  <tbody>\n",
       "    <tr>\n",
       "      <th>643486</th>\n",
       "      <td>econ_news_kr_chunks_2020_code_20221229.txt</td>\n",
       "      <td>02100851.20201231140203001,0,001680</td>\n",
       "    </tr>\n",
       "    <tr>\n",
       "      <th>643487</th>\n",
       "      <td>econ_news_kr_chunks_2020_code_20221229.txt</td>\n",
       "      <td>02100851.20201231141813001,0,001750</td>\n",
       "    </tr>\n",
       "    <tr>\n",
       "      <th>643488</th>\n",
       "      <td>econ_news_kr_chunks_2020_code_20221229.txt</td>\n",
       "      <td>02100851.20201231164457001,0,000660</td>\n",
       "    </tr>\n",
       "    <tr>\n",
       "      <th>643489</th>\n",
       "      <td>econ_news_kr_chunks_2020_code_20221229.txt</td>\n",
       "      <td>02100851.20201231171734001,0,006360</td>\n",
       "    </tr>\n",
       "    <tr>\n",
       "      <th>643490</th>\n",
       "      <td>econ_news_kr_chunks_2020_code_20221229.txt</td>\n",
       "      <td>02100851.20201231204324001,0,068270</td>\n",
       "    </tr>\n",
       "  </tbody>\n",
       "</table>\n",
       "</div>"
      ],
      "text/plain": [
       "                                          filename  \\\n",
       "643486  econ_news_kr_chunks_2020_code_20221229.txt   \n",
       "643487  econ_news_kr_chunks_2020_code_20221229.txt   \n",
       "643488  econ_news_kr_chunks_2020_code_20221229.txt   \n",
       "643489  econ_news_kr_chunks_2020_code_20221229.txt   \n",
       "643490  econ_news_kr_chunks_2020_code_20221229.txt   \n",
       "\n",
       "                                      codes  \n",
       "643486  02100851.20201231140203001,0,001680  \n",
       "643487  02100851.20201231141813001,0,001750  \n",
       "643488  02100851.20201231164457001,0,000660  \n",
       "643489  02100851.20201231171734001,0,006360  \n",
       "643490  02100851.20201231204324001,0,068270  "
      ]
     },
     "execution_count": 5,
     "metadata": {},
     "output_type": "execute_result"
    },
    {
     "name": "stdout",
     "output_type": "stream",
     "text": [
      "time: 1min (started: 2022-12-29 10:50:06 +00:00)\n"
     ]
    }
   ],
   "source": [
    "cfg = eKonf.compose(\"io/loader=plaintext_parser\")\n",
    "cfg.data_dir = news_data_dir\n",
    "cfg.data_sources = \"econ_news_kr_chunks_*_20221229.txt\"\n",
    "cfg.data.item = dict(filename=\"filename\", codes=\"codes\")\n",
    "cfg.parser.split = True\n",
    "cfg.parser.data_key = \"codes\"\n",
    "cfg.parser.progress_per = None\n",
    "code_info = eKonf.load_data(**cfg)\n",
    "code_info.tail()"
   ]
  },
  {
   "cell_type": "code",
   "execution_count": 6,
   "metadata": {},
   "outputs": [
    {
     "name": "stdout",
     "output_type": "stream",
     "text": [
      "time: 2.63 s (started: 2022-12-29 10:51:16 +00:00)\n"
     ]
    }
   ],
   "source": [
    "code_info_available = code_info.copy()\n",
    "code_info_available[\"filename\"] = code_info_available.codes.str[:26] + \".txt\"\n",
    "code_info_available[\"codes\"] = code_info_available.codes.str[27:]\n",
    "code_info_available[\"codes\"] = code_info_available.codes.str.split(\",\")\n",
    "code_info_available[\"chunk_id\"] = code_info_available.codes.apply(lambda x: int(x[0]))\n",
    "code_info_available[\"codes\"] = code_info_available.codes.apply(lambda x: x[1:])\n",
    "code_info_available[\"num_codes\"] = code_info_available[\"codes\"].apply(len)\n",
    "code_info_available = code_info_available.explode(\"codes\").reset_index(drop=True)\n"
   ]
  },
  {
   "cell_type": "code",
   "execution_count": 7,
   "metadata": {},
   "outputs": [
    {
     "data": {
      "text/plain": [
       "2275"
      ]
     },
     "execution_count": 7,
     "metadata": {},
     "output_type": "execute_result"
    },
    {
     "name": "stdout",
     "output_type": "stream",
     "text": [
      "time: 54.1 ms (started: 2022-12-29 10:51:20 +00:00)\n"
     ]
    }
   ],
   "source": [
    "len(code_info_available.codes.unique())"
   ]
  },
  {
   "cell_type": "code",
   "execution_count": 8,
   "metadata": {},
   "outputs": [
    {
     "name": "stderr",
     "output_type": "stream",
     "text": [
      "INFO:ekorpkit.io.file:Saving dataframe to /workspace/projects/ekorpkit-book/exmaples/esg/data/econ_news_kr/news_slice/econ_news_code_info_available_20221229.parquet\n"
     ]
    },
    {
     "name": "stdout",
     "output_type": "stream",
     "text": [
      "(694599, 4)\n",
      "<class 'pandas.core.frame.DataFrame'>\n",
      "RangeIndex: 694599 entries, 0 to 694598\n",
      "Data columns (total 4 columns):\n",
      " #   Column     Non-Null Count   Dtype \n",
      "---  ------     --------------   ----- \n",
      " 0   filename   694599 non-null  object\n",
      " 1   codes      694599 non-null  object\n",
      " 2   chunk_id   694599 non-null  int64 \n",
      " 3   num_codes  694599 non-null  int64 \n",
      "dtypes: int64(2), object(2)\n",
      "memory usage: 21.2+ MB\n",
      "time: 3.12 s (started: 2022-12-29 10:51:46 +00:00)\n"
     ]
    }
   ],
   "source": [
    "code_info_available = code_info.copy()\n",
    "code_info_available[\"filename\"] = code_info_available.codes.str[:26] + \".txt\"\n",
    "code_info_available[\"codes\"] = code_info_available.codes.str[27:]\n",
    "code_info_available[\"codes\"] = code_info_available.codes.str.split(\",\")\n",
    "code_info_available[\"chunk_id\"] = code_info_available.codes.apply(lambda x: int(x[0]))\n",
    "code_info_available[\"codes\"] = code_info_available.codes.apply(lambda x: x[1:])\n",
    "code_info_available[\"num_codes\"] = code_info_available[\"codes\"].apply(len)\n",
    "code_info_available = code_info_available.explode(\"codes\").reset_index(drop=True)\n",
    "\n",
    "eKonf.save_data(code_info_available, \"econ_news_code_info_available_20221229.parquet\", news_data_dir)\n",
    "print(code_info_available.shape)\n",
    "code_info_available.info()"
   ]
  },
  {
   "cell_type": "code",
   "execution_count": 9,
   "metadata": {},
   "outputs": [
    {
     "name": "stderr",
     "output_type": "stream",
     "text": [
      "INFO:ekorpkit.io.file:Saving dataframe to /workspace/projects/ekorpkit-book/exmaples/esg/data/econ_news_kr/news_slice/econ_news_filtered_202201229.parquet\n"
     ]
    },
    {
     "name": "stdout",
     "output_type": "stream",
     "text": [
      "(718453, 4)\n",
      "time: 1min 7s (started: 2022-12-29 10:52:00 +00:00)\n"
     ]
    }
   ],
   "source": [
    "filtered_data = chunk_data.merge(\n",
    "    code_info_available, on=[\"filename\", \"chunk_id\"], how=\"inner\"\n",
    ")\n",
    "cols = [\"filename\", \"chunk_id\", \"text\", \"codes\"]\n",
    "filtered_data = filtered_data[cols]\n",
    "eKonf.save_data(filtered_data, \"econ_news_filtered_202201229.parquet\", news_data_dir)\n",
    "print(filtered_data.shape)"
   ]
  },
  {
   "cell_type": "markdown",
   "metadata": {},
   "source": [
    "## Filter out invalid data"
   ]
  },
  {
   "cell_type": "code",
   "execution_count": 10,
   "metadata": {},
   "outputs": [
    {
     "name": "stderr",
     "output_type": "stream",
     "text": [
      "2022-12-29 10:53:25.970902: I tensorflow/core/platform/cpu_feature_guard.cc:193] This TensorFlow binary is optimized with oneAPI Deep Neural Network Library (oneDNN) to use the following CPU instructions in performance-critical operations:  AVX2 FMA\n",
      "To enable them in other operations, rebuild TensorFlow with the appropriate compiler flags.\n",
      "INFO:ekorpkit.models.transformer.simple:Loaded model from /workspace/projects/ekorpkit-book/exmaples/esg/models/esg_topic_invalid_cved-classification\n"
     ]
    },
    {
     "name": "stdout",
     "output_type": "stream",
     "text": [
      "time: 7.21 s (started: 2022-12-29 10:53:25 +00:00)\n"
     ]
    }
   ],
   "source": [
    "from ekorpkit.models.transformer.simple import SimpleClassification\n",
    "\n",
    "cfg = eKonf.compose(\"task=simple.classification\")\n",
    "cfg.name = \"esg_topic_invalid_cved\"\n",
    "cfg.model.model_name_or_path = f\"{cfg.path.model_dir}/{cfg.name}-classification\"\n",
    "\n",
    "sm_inval = SimpleClassification(**cfg)\n",
    "sm_inval.load_model(sm_inval.model.model_name_or_path)"
   ]
  },
  {
   "cell_type": "code",
   "execution_count": 11,
   "metadata": {},
   "outputs": [
    {
     "name": "stderr",
     "output_type": "stream",
     "text": [
      "INFO:simpletransformers.classification.classification_utils: Converting to features started. Cache is not used.\n"
     ]
    },
    {
     "data": {
      "application/vnd.jupyter.widget-view+json": {
       "model_id": "d5188fc9c4444b1eb47cb0f263adc02a",
       "version_major": 2,
       "version_minor": 0
      },
      "text/plain": [
       "  0%|          | 0/14968 [00:00<?, ?it/s]"
      ]
     },
     "metadata": {},
     "output_type": "display_data"
    },
    {
     "name": "stderr",
     "output_type": "stream",
     "text": [
      "INFO:ekorpkit.models.transformer.simple:type of raw_outputs: <class 'numpy.ndarray'>\n",
      "INFO:ekorpkit.models.transformer.simple:raw_output: [ 2.32296014 -2.33493686]\n",
      "INFO:ekorpkit.io.file:Saving dataframe to /workspace/projects/ekorpkit-book/exmaples/esg/outputs/esg_topic_invalid_cved/esg_topic_invalid_cved(2)_preds.parquet\n"
     ]
    },
    {
     "name": "stdout",
     "output_type": "stream",
     "text": [
      "time: 1h 30min 23s (started: 2022-12-29 10:53:38 +00:00)\n"
     ]
    }
   ],
   "source": [
    "invalid_preds_df = sm_inval.predict(filtered_data)"
   ]
  },
  {
   "cell_type": "code",
   "execution_count": 12,
   "metadata": {},
   "outputs": [
    {
     "name": "stderr",
     "output_type": "stream",
     "text": [
      "INFO:ekorpkit.io.file:Saving dataframe to /workspace/projects/ekorpkit-book/exmaples/esg/data/econ_news_kr/news_slice/esg_news_valid_20221229.parquet\n"
     ]
    },
    {
     "name": "stdout",
     "output_type": "stream",
     "text": [
      "(558923, 4)\n",
      "time: 1min 3s (started: 2022-12-29 12:24:02 +00:00)\n"
     ]
    }
   ],
   "source": [
    "cols = [\"filename\", \"chunk_id\", \"text\", \"codes\"]\n",
    "valid_data = invalid_preds_df[invalid_preds_df.pred_labels == \"Validated\"][cols]\n",
    "print(valid_data.shape)\n",
    "filename = \"esg_news_valid_20221229.parquet\"\n",
    "eKonf.save_data(valid_data, filename, news_data_dir)"
   ]
  },
  {
   "cell_type": "code",
   "execution_count": 13,
   "metadata": {},
   "outputs": [
    {
     "data": {
      "text/html": [
       "<div>\n",
       "<style scoped>\n",
       "    .dataframe tbody tr th:only-of-type {\n",
       "        vertical-align: middle;\n",
       "    }\n",
       "\n",
       "    .dataframe tbody tr th {\n",
       "        vertical-align: top;\n",
       "    }\n",
       "\n",
       "    .dataframe thead th {\n",
       "        text-align: right;\n",
       "    }\n",
       "</style>\n",
       "<table border=\"1\" class=\"dataframe\">\n",
       "  <thead>\n",
       "    <tr style=\"text-align: right;\">\n",
       "      <th></th>\n",
       "      <th>text</th>\n",
       "      <th>filename</th>\n",
       "      <th>chunk_id</th>\n",
       "      <th>codes</th>\n",
       "    </tr>\n",
       "  </thead>\n",
       "  <tbody>\n",
       "    <tr>\n",
       "      <th>0</th>\n",
       "      <td>◆ 2020 경제기상도 / 업종별 전망 (반도체) ◆ 지난해 미·중 무역분쟁과 공...</td>\n",
       "      <td>02100101.20200101040200001.txt</td>\n",
       "      <td>0</td>\n",
       "      <td>000660</td>\n",
       "    </tr>\n",
       "    <tr>\n",
       "      <th>2</th>\n",
       "      <td>◆ 2020 경제기상도 / 업종별 전망 (가전) ◆ TV, 냉장고, 세탁기 등 전...</td>\n",
       "      <td>02100101.20200101040200002.txt</td>\n",
       "      <td>0</td>\n",
       "      <td>066570</td>\n",
       "    </tr>\n",
       "    <tr>\n",
       "      <th>3</th>\n",
       "      <td>◆ 2020 경제기상도 / 업종별 전망 (가전) ◆ TV, 냉장고, 세탁기 등 전...</td>\n",
       "      <td>02100101.20200101040200002.txt</td>\n",
       "      <td>0</td>\n",
       "      <td>005930</td>\n",
       "    </tr>\n",
       "    <tr>\n",
       "      <th>4</th>\n",
       "      <td>◆ 2020 경제기상도 / 업종별 전망 (디스플레이) ◆ 액정표시장치(LCD) 시...</td>\n",
       "      <td>02100101.20200101040201001.txt</td>\n",
       "      <td>0</td>\n",
       "      <td>034220</td>\n",
       "    </tr>\n",
       "    <tr>\n",
       "      <th>5</th>\n",
       "      <td>디스플레이 업계 등에서는 삼성과 LG가 글로벌 디스플레이 시장에서 중국 업체의 L...</td>\n",
       "      <td>02100101.20200101040201001.txt</td>\n",
       "      <td>1</td>\n",
       "      <td>003550</td>\n",
       "    </tr>\n",
       "  </tbody>\n",
       "</table>\n",
       "</div>"
      ],
      "text/plain": [
       "                                                text  \\\n",
       "0   ◆ 2020 경제기상도 / 업종별 전망 (반도체) ◆ 지난해 미·중 무역분쟁과 공...   \n",
       "2   ◆ 2020 경제기상도 / 업종별 전망 (가전) ◆ TV, 냉장고, 세탁기 등 전...   \n",
       "3   ◆ 2020 경제기상도 / 업종별 전망 (가전) ◆ TV, 냉장고, 세탁기 등 전...   \n",
       "4   ◆ 2020 경제기상도 / 업종별 전망 (디스플레이) ◆ 액정표시장치(LCD) 시...   \n",
       "5   디스플레이 업계 등에서는 삼성과 LG가 글로벌 디스플레이 시장에서 중국 업체의 L...   \n",
       "\n",
       "                         filename  chunk_id   codes  \n",
       "0  02100101.20200101040200001.txt         0  000660  \n",
       "2  02100101.20200101040200002.txt         0  066570  \n",
       "3  02100101.20200101040200002.txt         0  005930  \n",
       "4  02100101.20200101040201001.txt         0  034220  \n",
       "5  02100101.20200101040201001.txt         1  003550  "
      ]
     },
     "execution_count": 13,
     "metadata": {},
     "output_type": "execute_result"
    },
    {
     "name": "stdout",
     "output_type": "stream",
     "text": [
      "time: 7 s (started: 2022-12-29 12:25:05 +00:00)\n"
     ]
    }
   ],
   "source": [
    "news_data_dir = ws.project_dir / \"esg/data/econ_news_kr/news_slice\"\n",
    "filename = \"esg_news_valid_20221229.parquet\"\n",
    "\n",
    "valid_data = eKonf.load_data(filename, news_data_dir)\n",
    "cols = [\"text\", \"filename\", \"chunk_id\", \"codes\"]\n",
    "valid_data[cols].head()"
   ]
  },
  {
   "cell_type": "markdown",
   "metadata": {},
   "source": [
    "## Predict polarities"
   ]
  },
  {
   "cell_type": "code",
   "execution_count": 14,
   "metadata": {},
   "outputs": [
    {
     "name": "stderr",
     "output_type": "stream",
     "text": [
      "INFO:ekorpkit.models.transformer.simple:Loaded model from /workspace/projects/ekorpkit-book/exmaples/esg/models/esg_polarity_validated-classification\n"
     ]
    },
    {
     "name": "stdout",
     "output_type": "stream",
     "text": [
      "time: 4.78 s (started: 2022-12-29 12:25:12 +00:00)\n"
     ]
    }
   ],
   "source": [
    "from ekorpkit.models.transformer.simple import SimpleClassification\n",
    "\n",
    "cfg = eKonf.compose(\"task=simple.classification\")\n",
    "cfg.name = \"esg_polarity_validated\"\n",
    "cfg.model.model_name_or_path = f\"{cfg.path.model_dir}/{cfg.name}-classification\"\n",
    "\n",
    "sm_pol = SimpleClassification(**cfg)\n",
    "sm_pol.load_model(sm_pol.model.model_name_or_path)"
   ]
  },
  {
   "cell_type": "code",
   "execution_count": 15,
   "metadata": {},
   "outputs": [
    {
     "name": "stderr",
     "output_type": "stream",
     "text": [
      "INFO:simpletransformers.classification.classification_utils: Converting to features started. Cache is not used.\n"
     ]
    },
    {
     "data": {
      "application/vnd.jupyter.widget-view+json": {
       "model_id": "59c9b2e87a3848faa3caffe756ca5c66",
       "version_major": 2,
       "version_minor": 0
      },
      "text/plain": [
       "  0%|          | 0/4367 [00:00<?, ?it/s]"
      ]
     },
     "metadata": {},
     "output_type": "display_data"
    },
    {
     "name": "stderr",
     "output_type": "stream",
     "text": [
      "INFO:ekorpkit.models.transformer.simple:type of raw_outputs: <class 'numpy.ndarray'>\n",
      "INFO:ekorpkit.models.transformer.simple:raw_output: [ 5.97624731 -3.2472682  -2.35304332]\n",
      "INFO:ekorpkit.io.file:Saving dataframe to /workspace/projects/ekorpkit-book/exmaples/esg/outputs/esg_polarity_validated/esg_polarity_validated(5)_preds.parquet\n",
      "INFO:ekorpkit.io.file:Saving dataframe to /workspace/projects/ekorpkit-book/exmaples/esg/data/econ_news_kr/news_slice/esg_news_polarity_20221229.parquet\n"
     ]
    },
    {
     "name": "stdout",
     "output_type": "stream",
     "text": [
      "time: 36min 51s (started: 2022-12-29 12:25:17 +00:00)\n"
     ]
    }
   ],
   "source": [
    "polarity_preds = sm_pol.predict(valid_data)\n",
    "filename = \"esg_news_polarity_20221229.parquet\"\n",
    "eKonf.save_data(polarity_preds, filename, news_data_dir)"
   ]
  },
  {
   "cell_type": "markdown",
   "metadata": {},
   "source": [
    "## Predicting categories"
   ]
  },
  {
   "cell_type": "code",
   "execution_count": 16,
   "metadata": {},
   "outputs": [
    {
     "name": "stderr",
     "output_type": "stream",
     "text": [
      "INFO:ekorpkit.models.transformer.simple:Loaded model from /workspace/projects/ekorpkit-book/exmaples/esg/models/esg_topics_cved-classification\n"
     ]
    },
    {
     "name": "stdout",
     "output_type": "stream",
     "text": [
      "time: 5.5 s (started: 2022-12-29 13:02:08 +00:00)\n"
     ]
    }
   ],
   "source": [
    "from ekorpkit.models.transformer.simple import SimpleClassification\n",
    "\n",
    "cfg = eKonf.compose(\"task=simple.classification\")\n",
    "cfg.name = \"esg_topics_cved\"\n",
    "cfg.model.model_name_or_path = f\"{cfg.path.model_dir}/{cfg.name}-classification\"\n",
    "\n",
    "sm_topic = SimpleClassification(**cfg)\n",
    "sm_topic.load_model(sm_topic.model.model_name_or_path)"
   ]
  },
  {
   "cell_type": "code",
   "execution_count": 17,
   "metadata": {},
   "outputs": [
    {
     "name": "stderr",
     "output_type": "stream",
     "text": [
      "INFO:simpletransformers.classification.classification_utils: Converting to features started. Cache is not used.\n"
     ]
    },
    {
     "data": {
      "application/vnd.jupyter.widget-view+json": {
       "model_id": "2e8a4ef0c32d48e995ce480c58929603",
       "version_major": 2,
       "version_minor": 0
      },
      "text/plain": [
       "  0%|          | 0/4367 [00:00<?, ?it/s]"
      ]
     },
     "metadata": {},
     "output_type": "display_data"
    },
    {
     "name": "stderr",
     "output_type": "stream",
     "text": [
      "INFO:ekorpkit.models.transformer.simple:type of raw_outputs: <class 'numpy.ndarray'>\n",
      "INFO:ekorpkit.models.transformer.simple:raw_output: [-0.37897453 -1.43046212 -0.97797042 -1.45200169 -1.20244873  0.19323829\n",
      " -0.10120457  4.33574057 -1.0516876   1.75735104]\n",
      "INFO:ekorpkit.io.file:Saving dataframe to /workspace/projects/ekorpkit-book/exmaples/esg/outputs/esg_topics_cved/esg_topics_cved(4)_preds.parquet\n",
      "INFO:ekorpkit.io.file:Saving dataframe to /workspace/projects/ekorpkit-book/exmaples/esg/data/econ_news_kr/news_slice/esg_news_topic_20221229.parquet\n"
     ]
    },
    {
     "name": "stdout",
     "output_type": "stream",
     "text": [
      "time: 36min 47s (started: 2022-12-29 13:02:14 +00:00)\n"
     ]
    }
   ],
   "source": [
    "topic_preds = sm_topic.predict(valid_data)\n",
    "filename = \"esg_news_topic_20221229.parquet\"\n",
    "eKonf.save_data(topic_preds, filename, news_data_dir)"
   ]
  },
  {
   "cell_type": "code",
   "execution_count": 18,
   "metadata": {},
   "outputs": [
    {
     "name": "stderr",
     "output_type": "stream",
     "text": [
      "INFO:ekorpkit.io.file:Saving dataframe to /workspace/projects/ekorpkit-book/exmaples/esg/data/econ_news_kr/news_slice/esg_news_prediction_results_20221229.parquet\n"
     ]
    },
    {
     "name": "stdout",
     "output_type": "stream",
     "text": [
      "time: 1min 22s (started: 2022-12-29 13:39:01 +00:00)\n"
     ]
    }
   ],
   "source": [
    "filename = \"esg_news_topic_20221229.parquet\"\n",
    "topic_preds = eKonf.load_data(filename, news_data_dir)\n",
    "filename = \"esg_news_polarity_20221229.parquet\"\n",
    "polarity_preds = eKonf.load_data(filename, news_data_dir)\n",
    "\n",
    "polarity_data = polarity_preds.rename(columns={\"pred_labels\": \"polairty_preds\"})[\n",
    "    [\"text\", \"filename\", \"chunk_id\", \"codes\", \"polairty_preds\"]\n",
    "]\n",
    "esg_prediction_data = polarity_data.merge(\n",
    "    topic_preds.rename(columns={\"pred_labels\": \"topic_preds\"})[\n",
    "        [\"filename\", \"chunk_id\", \"codes\", \"topic_preds\"]\n",
    "    ],\n",
    "    on=[\"filename\", \"chunk_id\", \"codes\"],\n",
    ")\n",
    "\n",
    "filename = \"esg_news_prediction_results_20221229.parquet\"\n",
    "eKonf.save_data(esg_prediction_data, filename, news_data_dir)"
   ]
  },
  {
   "cell_type": "code",
   "execution_count": 19,
   "metadata": {},
   "outputs": [
    {
     "data": {
      "text/html": [
       "<div>\n",
       "<style scoped>\n",
       "    .dataframe tbody tr th:only-of-type {\n",
       "        vertical-align: middle;\n",
       "    }\n",
       "\n",
       "    .dataframe tbody tr th {\n",
       "        vertical-align: top;\n",
       "    }\n",
       "\n",
       "    .dataframe thead th {\n",
       "        text-align: right;\n",
       "    }\n",
       "</style>\n",
       "<table border=\"1\" class=\"dataframe\">\n",
       "  <thead>\n",
       "    <tr style=\"text-align: right;\">\n",
       "      <th></th>\n",
       "      <th>text</th>\n",
       "      <th>filename</th>\n",
       "      <th>chunk_id</th>\n",
       "      <th>codes</th>\n",
       "      <th>polairty_preds</th>\n",
       "      <th>topic_preds</th>\n",
       "    </tr>\n",
       "  </thead>\n",
       "  <tbody>\n",
       "    <tr>\n",
       "      <th>668761</th>\n",
       "      <td>조현준 효성그룹 회장이 내년에는 호랑이처럼 민첩한 조직으로 변화할 것을 주문했다 ...</td>\n",
       "      <td>02100851.20211231104409001.txt</td>\n",
       "      <td>0</td>\n",
       "      <td>004800</td>\n",
       "      <td>Neutral</td>\n",
       "      <td>G-지배구조</td>\n",
       "    </tr>\n",
       "    <tr>\n",
       "      <th>668762</th>\n",
       "      <td>미래에셋 \"직원들 요청 있어\" 내부선 인력유출 우려도   [사진=미래에셋증권]  ...</td>\n",
       "      <td>02100851.20211231112402001.txt</td>\n",
       "      <td>0</td>\n",
       "      <td>006800</td>\n",
       "      <td>Negative</td>\n",
       "      <td>S-고용</td>\n",
       "    </tr>\n",
       "    <tr>\n",
       "      <th>668763</th>\n",
       "      <td>중기부, '손실보상 선지급 금융 프로그램' 신설 방역지원금·방역물품지원금 등도 신...</td>\n",
       "      <td>02100851.20211231112403001.txt</td>\n",
       "      <td>0</td>\n",
       "      <td>001680</td>\n",
       "      <td>Positive</td>\n",
       "      <td>S-사회공헌</td>\n",
       "    </tr>\n",
       "    <tr>\n",
       "      <th>668764</th>\n",
       "      <td>배재훈 HMM 대표가 코로나19로 인한 물류대란과 공급망 변화에 발 빠르게 대응해...</td>\n",
       "      <td>02100851.20211231115157001.txt</td>\n",
       "      <td>0</td>\n",
       "      <td>011200</td>\n",
       "      <td>Neutral</td>\n",
       "      <td>E-환경혁신</td>\n",
       "    </tr>\n",
       "    <tr>\n",
       "      <th>668765</th>\n",
       "      <td>권칠승 중기부 장관[사진=중기부]  권칠승 중소벤처기업부 장관이 31일 신년사를 ...</td>\n",
       "      <td>02100851.20211231143447001.txt</td>\n",
       "      <td>0</td>\n",
       "      <td>001680</td>\n",
       "      <td>Neutral</td>\n",
       "      <td>S-사회공헌</td>\n",
       "    </tr>\n",
       "    <tr>\n",
       "      <th>668766</th>\n",
       "      <td>해외 투지 공로…북미지역 내 소형 트랙터 수요 성장세 김희용 티와이엠(TYM) 회...</td>\n",
       "      <td>02100851.20211231150933001.txt</td>\n",
       "      <td>0</td>\n",
       "      <td>002900</td>\n",
       "      <td>Positive</td>\n",
       "      <td>S-기업(공급망)동반성장/상생</td>\n",
       "    </tr>\n",
       "    <tr>\n",
       "      <th>668767</th>\n",
       "      <td>SKT 952만·KT 615만·LG유플러스 446만 [사진=게티이미지뱅크 제공] ...</td>\n",
       "      <td>02100851.20211231181802001.txt</td>\n",
       "      <td>0</td>\n",
       "      <td>030200</td>\n",
       "      <td>Neutral</td>\n",
       "      <td>S-소비자</td>\n",
       "    </tr>\n",
       "    <tr>\n",
       "      <th>668768</th>\n",
       "      <td>지난 8월에 삼성전자가 출시한 갤럭시Z폴드3와 갤럭시Z플립3 흥행도 5G 가입자 ...</td>\n",
       "      <td>02100851.20211231181802001.txt</td>\n",
       "      <td>1</td>\n",
       "      <td>005930</td>\n",
       "      <td>Neutral</td>\n",
       "      <td>S-소비자</td>\n",
       "    </tr>\n",
       "    <tr>\n",
       "      <th>668769</th>\n",
       "      <td>올해 12년래 가장 큰 상승폭을 기록할 것으로 전망되고 있는 유가가 내년에도 계속...</td>\n",
       "      <td>02100851.20211231182324001.txt</td>\n",
       "      <td>0</td>\n",
       "      <td>267790</td>\n",
       "      <td>Neutral</td>\n",
       "      <td>E-기후변화</td>\n",
       "    </tr>\n",
       "    <tr>\n",
       "      <th>668770</th>\n",
       "      <td>홍은택 카카오커머스 대표[사진=카카오커머스]  홍은택 카카오커머스 대표가 새해에 ...</td>\n",
       "      <td>02100851.20211231210909001.txt</td>\n",
       "      <td>0</td>\n",
       "      <td>035720</td>\n",
       "      <td>Neutral</td>\n",
       "      <td>S-고용</td>\n",
       "    </tr>\n",
       "  </tbody>\n",
       "</table>\n",
       "</div>"
      ],
      "text/plain": [
       "                                                     text  \\\n",
       "668761   조현준 효성그룹 회장이 내년에는 호랑이처럼 민첩한 조직으로 변화할 것을 주문했다 ...   \n",
       "668762   미래에셋 \"직원들 요청 있어\" 내부선 인력유출 우려도   [사진=미래에셋증권]  ...   \n",
       "668763   중기부, '손실보상 선지급 금융 프로그램' 신설 방역지원금·방역물품지원금 등도 신...   \n",
       "668764   배재훈 HMM 대표가 코로나19로 인한 물류대란과 공급망 변화에 발 빠르게 대응해...   \n",
       "668765   권칠승 중기부 장관[사진=중기부]  권칠승 중소벤처기업부 장관이 31일 신년사를 ...   \n",
       "668766   해외 투지 공로…북미지역 내 소형 트랙터 수요 성장세 김희용 티와이엠(TYM) 회...   \n",
       "668767   SKT 952만·KT 615만·LG유플러스 446만 [사진=게티이미지뱅크 제공] ...   \n",
       "668768   지난 8월에 삼성전자가 출시한 갤럭시Z폴드3와 갤럭시Z플립3 흥행도 5G 가입자 ...   \n",
       "668769   올해 12년래 가장 큰 상승폭을 기록할 것으로 전망되고 있는 유가가 내년에도 계속...   \n",
       "668770   홍은택 카카오커머스 대표[사진=카카오커머스]  홍은택 카카오커머스 대표가 새해에 ...   \n",
       "\n",
       "                              filename  chunk_id   codes polairty_preds  \\\n",
       "668761  02100851.20211231104409001.txt         0  004800        Neutral   \n",
       "668762  02100851.20211231112402001.txt         0  006800       Negative   \n",
       "668763  02100851.20211231112403001.txt         0  001680       Positive   \n",
       "668764  02100851.20211231115157001.txt         0  011200        Neutral   \n",
       "668765  02100851.20211231143447001.txt         0  001680        Neutral   \n",
       "668766  02100851.20211231150933001.txt         0  002900       Positive   \n",
       "668767  02100851.20211231181802001.txt         0  030200        Neutral   \n",
       "668768  02100851.20211231181802001.txt         1  005930        Neutral   \n",
       "668769  02100851.20211231182324001.txt         0  267790        Neutral   \n",
       "668770  02100851.20211231210909001.txt         0  035720        Neutral   \n",
       "\n",
       "             topic_preds  \n",
       "668761            G-지배구조  \n",
       "668762              S-고용  \n",
       "668763            S-사회공헌  \n",
       "668764            E-환경혁신  \n",
       "668765            S-사회공헌  \n",
       "668766  S-기업(공급망)동반성장/상생  \n",
       "668767             S-소비자  \n",
       "668768             S-소비자  \n",
       "668769            E-기후변화  \n",
       "668770              S-고용  "
      ]
     },
     "execution_count": 19,
     "metadata": {},
     "output_type": "execute_result"
    },
    {
     "name": "stdout",
     "output_type": "stream",
     "text": [
      "time: 6.89 s (started: 2022-12-29 13:40:24 +00:00)\n"
     ]
    }
   ],
   "source": [
    "news_data_dir = ws.project_dir / \"esg/data/econ_news_kr/news_slice\"\n",
    "filename = \"esg_news_prediction_results_20221229.parquet\"\n",
    "\n",
    "esg_prediction_data = eKonf.load_data(filename, news_data_dir)\n",
    "esg_prediction_data.tail(10)"
   ]
  },
  {
   "cell_type": "code",
   "execution_count": 20,
   "metadata": {},
   "outputs": [
    {
     "data": {
      "text/html": [
       "<div>\n",
       "<style scoped>\n",
       "    .dataframe tbody tr th:only-of-type {\n",
       "        vertical-align: middle;\n",
       "    }\n",
       "\n",
       "    .dataframe tbody tr th {\n",
       "        vertical-align: top;\n",
       "    }\n",
       "\n",
       "    .dataframe thead th {\n",
       "        text-align: right;\n",
       "    }\n",
       "</style>\n",
       "<table border=\"1\" class=\"dataframe\">\n",
       "  <thead>\n",
       "    <tr style=\"text-align: right;\">\n",
       "      <th></th>\n",
       "      <th>text</th>\n",
       "      <th>filename</th>\n",
       "      <th>chunk_id</th>\n",
       "      <th>codes</th>\n",
       "      <th>polairty_preds</th>\n",
       "      <th>topic_preds</th>\n",
       "    </tr>\n",
       "  </thead>\n",
       "  <tbody>\n",
       "    <tr>\n",
       "      <th>7384</th>\n",
       "      <td>동국제약 '인사돌', 효능 논란 끝내고 정면승부로 성장세 동화약품 '잇치', 경쟁...</td>\n",
       "      <td>02100851.20200108160505001.txt</td>\n",
       "      <td>0</td>\n",
       "      <td>000020</td>\n",
       "      <td>Neutral</td>\n",
       "      <td>S-소비자</td>\n",
       "    </tr>\n",
       "    <tr>\n",
       "      <th>32708</th>\n",
       "      <td>[아시아경제 김민영 기자] 동화약품은 보통주 1주당 120원의 현금배당을 결정했다...</td>\n",
       "      <td>02100801.20200224163725001.txt</td>\n",
       "      <td>0</td>\n",
       "      <td>000020</td>\n",
       "      <td>Neutral</td>\n",
       "      <td>G-지배구조</td>\n",
       "    </tr>\n",
       "    <tr>\n",
       "      <th>45877</th>\n",
       "      <td>[코로나19 건강 지키기] 동화약품의 ‘판콜’은 지난해 매출 303억원을 기록한 ...</td>\n",
       "      <td>02100311.20200326172754001.txt</td>\n",
       "      <td>0</td>\n",
       "      <td>000020</td>\n",
       "      <td>Neutral</td>\n",
       "      <td>S-소비자</td>\n",
       "    </tr>\n",
       "    <tr>\n",
       "      <th>47492</th>\n",
       "      <td>조선이 대한제국을 선포하기 보름 전인 1897년 9월 25일, 우리나라 최초의 제...</td>\n",
       "      <td>02100601.20200320001516001.txt</td>\n",
       "      <td>0</td>\n",
       "      <td>000020</td>\n",
       "      <td>Neutral</td>\n",
       "      <td>S-사회공헌</td>\n",
       "    </tr>\n",
       "    <tr>\n",
       "      <th>62350</th>\n",
       "      <td>동화약품이 회사의 신약후보물질 DW2008을 신종 코로나바이러스 감염증(코로나19...</td>\n",
       "      <td>02100101.20200421102241001.txt</td>\n",
       "      <td>0</td>\n",
       "      <td>000020</td>\n",
       "      <td>Neutral</td>\n",
       "      <td>S-소비자</td>\n",
       "    </tr>\n",
       "    <tr>\n",
       "      <th>...</th>\n",
       "      <td>...</td>\n",
       "      <td>...</td>\n",
       "      <td>...</td>\n",
       "      <td>...</td>\n",
       "      <td>...</td>\n",
       "      <td>...</td>\n",
       "    </tr>\n",
       "    <tr>\n",
       "      <th>644089</th>\n",
       "      <td>구강유산균 시장이 빠르게 성장하고 있다  코로나19의 확산과 일상화된 마스크 사용...</td>\n",
       "      <td>02100311.20211116142132001.txt</td>\n",
       "      <td>0</td>\n",
       "      <td>000020</td>\n",
       "      <td>Neutral</td>\n",
       "      <td>S-소비자</td>\n",
       "    </tr>\n",
       "    <tr>\n",
       "      <th>648607</th>\n",
       "      <td>[아시아경제 서소정 기자] 동화약품의 기능성 화장품 '후시드 크림'은 최근 각광받...</td>\n",
       "      <td>02100801.20211123210051001.txt</td>\n",
       "      <td>0</td>\n",
       "      <td>000020</td>\n",
       "      <td>Neutral</td>\n",
       "      <td>S-소비자</td>\n",
       "    </tr>\n",
       "    <tr>\n",
       "      <th>655548</th>\n",
       "      <td>롯데칠성음료의 ‘세상 맛있는 ZERO! 칠성사이다 ZERO!’편과 동화약품의 ‘달라...</td>\n",
       "      <td>02100601.20211209160337001.txt</td>\n",
       "      <td>5</td>\n",
       "      <td>000020</td>\n",
       "      <td>Neutral</td>\n",
       "      <td>S-소비자</td>\n",
       "    </tr>\n",
       "    <tr>\n",
       "      <th>658637</th>\n",
       "      <td>[사진=게티이미지뱅크]   동화약품 주가가 상승 중이다   1일 한국거래소에 따르...</td>\n",
       "      <td>02100851.20211201094104001.txt</td>\n",
       "      <td>0</td>\n",
       "      <td>000020</td>\n",
       "      <td>Neutral</td>\n",
       "      <td>S-소비자</td>\n",
       "    </tr>\n",
       "    <tr>\n",
       "      <th>668090</th>\n",
       "      <td>[사진=게티이미지뱅크]   동화약품 주가가 상승 중이다   22일 한국거래소에 따...</td>\n",
       "      <td>02100851.20211222141644001.txt</td>\n",
       "      <td>0</td>\n",
       "      <td>000020</td>\n",
       "      <td>Neutral</td>\n",
       "      <td>S-소비자</td>\n",
       "    </tr>\n",
       "  </tbody>\n",
       "</table>\n",
       "<p>176 rows × 6 columns</p>\n",
       "</div>"
      ],
      "text/plain": [
       "                                                     text  \\\n",
       "7384     동국제약 '인사돌', 효능 논란 끝내고 정면승부로 성장세 동화약품 '잇치', 경쟁...   \n",
       "32708    [아시아경제 김민영 기자] 동화약품은 보통주 1주당 120원의 현금배당을 결정했다...   \n",
       "45877    [코로나19 건강 지키기] 동화약품의 ‘판콜’은 지난해 매출 303억원을 기록한 ...   \n",
       "47492    조선이 대한제국을 선포하기 보름 전인 1897년 9월 25일, 우리나라 최초의 제...   \n",
       "62350    동화약품이 회사의 신약후보물질 DW2008을 신종 코로나바이러스 감염증(코로나19...   \n",
       "...                                                   ...   \n",
       "644089   구강유산균 시장이 빠르게 성장하고 있다  코로나19의 확산과 일상화된 마스크 사용...   \n",
       "648607   [아시아경제 서소정 기자] 동화약품의 기능성 화장품 '후시드 크림'은 최근 각광받...   \n",
       "655548  롯데칠성음료의 ‘세상 맛있는 ZERO! 칠성사이다 ZERO!’편과 동화약품의 ‘달라...   \n",
       "658637   [사진=게티이미지뱅크]   동화약품 주가가 상승 중이다   1일 한국거래소에 따르...   \n",
       "668090   [사진=게티이미지뱅크]   동화약품 주가가 상승 중이다   22일 한국거래소에 따...   \n",
       "\n",
       "                              filename  chunk_id   codes polairty_preds  \\\n",
       "7384    02100851.20200108160505001.txt         0  000020        Neutral   \n",
       "32708   02100801.20200224163725001.txt         0  000020        Neutral   \n",
       "45877   02100311.20200326172754001.txt         0  000020        Neutral   \n",
       "47492   02100601.20200320001516001.txt         0  000020        Neutral   \n",
       "62350   02100101.20200421102241001.txt         0  000020        Neutral   \n",
       "...                                ...       ...     ...            ...   \n",
       "644089  02100311.20211116142132001.txt         0  000020        Neutral   \n",
       "648607  02100801.20211123210051001.txt         0  000020        Neutral   \n",
       "655548  02100601.20211209160337001.txt         5  000020        Neutral   \n",
       "658637  02100851.20211201094104001.txt         0  000020        Neutral   \n",
       "668090  02100851.20211222141644001.txt         0  000020        Neutral   \n",
       "\n",
       "       topic_preds  \n",
       "7384         S-소비자  \n",
       "32708       G-지배구조  \n",
       "45877        S-소비자  \n",
       "47492       S-사회공헌  \n",
       "62350        S-소비자  \n",
       "...            ...  \n",
       "644089       S-소비자  \n",
       "648607       S-소비자  \n",
       "655548       S-소비자  \n",
       "658637       S-소비자  \n",
       "668090       S-소비자  \n",
       "\n",
       "[176 rows x 6 columns]"
      ]
     },
     "execution_count": 20,
     "metadata": {},
     "output_type": "execute_result"
    },
    {
     "name": "stdout",
     "output_type": "stream",
     "text": [
      "time: 42.6 ms (started: 2022-12-29 13:40:31 +00:00)\n"
     ]
    }
   ],
   "source": [
    "esg_prediction_data[esg_prediction_data.codes == \"000020\"]"
   ]
  },
  {
   "cell_type": "code",
   "execution_count": 21,
   "metadata": {},
   "outputs": [
    {
     "data": {
      "text/plain": [
       "2273"
      ]
     },
     "execution_count": 21,
     "metadata": {},
     "output_type": "execute_result"
    },
    {
     "name": "stdout",
     "output_type": "stream",
     "text": [
      "time: 34.8 ms (started: 2022-12-29 13:40:31 +00:00)\n"
     ]
    }
   ],
   "source": [
    "len(esg_prediction_data.codes.unique())"
   ]
  },
  {
   "cell_type": "code",
   "execution_count": null,
   "metadata": {},
   "outputs": [],
   "source": []
  }
 ],
 "metadata": {
  "celltoolbar": "Tags",
  "colab": {
   "include_colab_link": true,
   "name": "preprocessor.ipynb",
   "provenance": []
  },
  "kernelspec": {
   "display_name": "Python 3 (ipykernel)",
   "language": "python",
   "name": "python3"
  },
  "language_info": {
   "codemirror_mode": {
    "name": "ipython",
    "version": 3
   },
   "file_extension": ".py",
   "mimetype": "text/x-python",
   "name": "python",
   "nbconvert_exporter": "python",
   "pygments_lexer": "ipython3",
   "version": "3.8.12"
  },
  "vscode": {
   "interpreter": {
    "hash": "d4d1e4263499bec80672ea0156c357c1ee493ec2b1c70f0acce89fc37c4a6abe"
   }
  },
  "widgets": {
   "application/vnd.jupyter.widget-state+json": {
    "state": {},
    "version_major": 2,
    "version_minor": 0
   }
  }
 },
 "nbformat": 4,
 "nbformat_minor": 4
}
