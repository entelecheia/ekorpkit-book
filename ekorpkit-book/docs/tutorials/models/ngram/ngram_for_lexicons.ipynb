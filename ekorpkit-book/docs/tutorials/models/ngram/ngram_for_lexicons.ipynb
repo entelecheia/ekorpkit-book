{
 "cells": [
  {
   "cell_type": "markdown",
   "metadata": {
    "id": "AESO0odcxhzs"
   },
   "source": [
    "# N-Grams for lexicon models"
   ]
  },
  {
   "cell_type": "code",
   "execution_count": 1,
   "metadata": {},
   "outputs": [
    {
     "name": "stdout",
     "output_type": "stream",
     "text": [
      "0.1.31+19.gdb9b114.dirty\n"
     ]
    }
   ],
   "source": [
    "import logging\n",
    "from ekorpkit import eKonf\n",
    "\n",
    "logging.basicConfig(level=logging.INFO)\n",
    "print(eKonf.__version__)"
   ]
  },
  {
   "cell_type": "markdown",
   "metadata": {},
   "source": [
    "## Load a ngram model with lexicon scores"
   ]
  },
  {
   "cell_type": "code",
   "execution_count": 2,
   "metadata": {
    "scrolled": false
   },
   "outputs": [
    {
     "name": "stderr",
     "output_type": "stream",
     "text": [
      "INFO:ekorpkit.io.cached_path:caching path: None, extract_archive: True, force_extract: False, cache_dir: /workspace/.cache\n",
      "INFO:ekorpkit.ekonf:Config is not instantiatable, returning config\n",
      "INFO:ekorpkit.models.ngram.base:instantiating ekorpkit.preprocessors.tokenizer.SimpleTokenizer...\n",
      "INFO:ekorpkit.preprocessors.tokenizer:instantiating ekorpkit.preprocessors.stopwords.Stopwords...\n",
      "INFO:ekorpkit.ekonf:Calling load_candidates\n",
      "INFO:ekorpkit.io.file:Loading data from /workspace/projects/ekorpkit/ekorpkit/resources/lexicons/mpko/mp_polarity_lexicon_lex.parquet\n",
      "INFO:ekorpkit.io.file: >> elapsed time to load data: 0:00:00.031857\n",
      "INFO:ekorpkit.models.ngram.base:loaded 23956 candidates\n"
     ]
    }
   ],
   "source": [
    "ngram_cfg = eKonf.compose(config_group=\"model/ngram=mpko\")\n",
    "ngram_cfg.verbose = True\n",
    "ngram_cfg.autoload = True\n",
    "ngram = eKonf.instantiate(ngram_cfg)"
   ]
  },
  {
   "cell_type": "code",
   "execution_count": 3,
   "metadata": {},
   "outputs": [
    {
     "name": "stdout",
     "output_type": "stream",
     "text": [
      "Number of candidates: 23956\n"
     ]
    }
   ],
   "source": [
    "print(f\"Number of candidates: {len(ngram.candidates)}\")"
   ]
  },
  {
   "cell_type": "code",
   "execution_count": 4,
   "metadata": {},
   "outputs": [
    {
     "data": {
      "text/plain": [
       "[(('투기/NN', '억제/NN'),\n",
       "  ngram(word='투기/NN;억제/NN', label=1, polarity=0.9984224740344032, ratio=76.89998054169148, count=238, intensity=76.89998054169148, pos_score=842.336810100104, neg_score=10.95366740233997)),\n",
       " (('금리/NN', '상승/NN'),\n",
       "  ngram(word='금리/NN;상승/NN', label=1, polarity=0.9976489029338528, ratio=74.78067419154141, count=142807, intensity=74.78067419154141, pos_score=852.2582592674567, neg_score=11.396771538653194)),\n",
       " (('채권/NN', '가격/NN', '하락/NN'),\n",
       "  ngram(word='채권/NN;가격/NN;하락/NN', label=1, polarity=0.9965068843156996, ratio=71.85459337496019, count=2415, intensity=71.85459337496019, pos_score=830.1285320910899, neg_score=11.552894437231236)),\n",
       " (('인플레이션/NN', '압력/NN'),\n",
       "  ngram(word='인플레이션/NN;압력/NN', label=1, polarity=0.9962771197986816, ratio=71.29298491650549, count=14010, intensity=71.29298491650549, pos_score=851.9671447928356, neg_score=11.950224075911729)),\n",
       " (('물가/NN', '상승/NN'),\n",
       "  ngram(word='물가/NN;상승/NN', label=1, polarity=0.9892951767944276, ratio=57.572641724969934, count=37965, intensity=57.572641724969934, pos_score=840.8393220118454, neg_score=14.604841758497308)),\n",
       " (('부동산/NN', '가격/NN', '상승/NN'),\n",
       "  ngram(word='부동산/NN;가격/NN;상승/NN', label=1, polarity=0.9892690707366624, ratio=57.53110616205035, count=2646, intensity=57.53110616205035, pos_score=850.132566974034, neg_score=14.776920238234757)),\n",
       " (('요금/NN', '인상/NN'),\n",
       "  ngram(word='요금/NN;인상/NN', label=1, polarity=0.9226025183563592, ratio=19.822968765773577, count=716, intensity=19.822968765773577, pos_score=845.4185241017657, neg_score=42.64843142776217)),\n",
       " (('상방/NN', '압력/NN'),\n",
       "  ngram(word='상방/NN;압력/NN', label=1, polarity=0.9205443517087604, ratio=19.41688981090808, count=244, intensity=19.41688981090808, pos_score=829.3004950427758, neg_score=42.71026426574706))]"
      ]
     },
     "execution_count": 4,
     "metadata": {},
     "output_type": "execute_result"
    }
   ],
   "source": [
    "ngram.export_ngrams(threshold=0.9, apply_postag_rules=True)"
   ]
  },
  {
   "cell_type": "code",
   "execution_count": 5,
   "metadata": {},
   "outputs": [
    {
     "name": "stdout",
     "output_type": "stream",
     "text": [
      "['일부/NN', '위원/NN', '인플레이션/NN', '팬/NN', '차트/NN', '같이/MA', '주요/NN', '경제/NN', '변수/NN', '전망/NN', '치/XS', '내재/NN', '한/XS', '상방/NN;위험/NN', '상방/NN;위험/NN', '하방/NN', '확률/NN', '파악/NN', '하/XS', '것/NN', '정책/NN', '판단/NN', '크/VA', '도움/NN', '언급/NN', '하/XS', '유럽/NN', '중앙은행/NN', '영란/NN', '은행/NN', '등/NN', '활용/NN', '되/XS', '베/NN', '이지언/NN', '전망/NN', '기법/NN', '한국은행/NN', '기존/NN', '경제/NN', '전망/NN', '모형/NN', '반영/NN', '해/XS', '필요/NN', '것/NN', '견해/NN']\n"
     ]
    }
   ],
   "source": [
    "sentence = \"일부/NNG 위원/NNG 은/JX 인플레이션/NNG 팬/NNG 차트/NNG Inflation/SL Fan/SL Chart/SL 에서/JKB 와/JKB 같이/MAG 주요/NNG 경제/NNG 변수/NNG 의/JKG 전망/NNG 치/XSN 에/JKB 내재/NNG 한/XSA+ETM 상방/NNG 위험/NNG 과/JC 하방/NNG 위험/NNG 의/JKG 확률/NNG 을/JKO 파악/NNG 하/XSV 는/ETM 것/NNB 이/JKS 정책/NNG 판단/NNG 에/JKB 크/VA 게/EC 도움/NNG 이/JKS 된다고/VV+EC 언급/NNG 하/XSV 고/EC 유럽/NNP 중앙은행/NNG 이나/JC 영란/NNG 은행/NNG 등/NNB 에서/JKB 활용/NNG 되/XSV 고/EC 있/VX 는/ETM 베/NNG 이지언/NNP 전망/NNG 기법/NNG Bayesian/SL Forecasting/SL Approach/SL 을/JKO 한국은행/NNP 의/JKG 기존/NNG 경제/NNG 전망/NNG 모형/NNG 에/JKB 반영/NNG 해/XSV+EC 볼/VX+ETM 필요/NNG 가/JKS 있/VV 을/ETM 것/NNB 으로/JKB 여겨진다는/VV+EC+VX+ETM 견해/NNG 를/JKO 나타내/VV 었/EP 음/ETN\"\n",
    "tokens = ngram.ngramize_sentence(sentence)\n",
    "print(tokens)"
   ]
  },
  {
   "cell_type": "code",
   "execution_count": 6,
   "metadata": {},
   "outputs": [
    {
     "name": "stderr",
     "output_type": "stream",
     "text": [
      "INFO:ekorpkit.io.cached_path:caching path: None, extract_archive: True, force_extract: False, cache_dir: /workspace/.cache\n",
      "INFO:ekorpkit.io.cached_path:caching path: None, extract_archive: True, force_extract: False, cache_dir: /workspace/.cache\n",
      "INFO:ekorpkit.ekonf:Executing function functools.partial(<function load_dataframe at 0x7f61c2fa4d30>) with parms {'filepath': '../data/bok/bok_minutes_tokens.parquet', 'columns': None, 'verbose': True}\n",
      "INFO:ekorpkit.io.file:Loading data from ../data/bok/bok_minutes_tokens.parquet\n",
      "INFO:ekorpkit.io.file: >> elapsed time to load data: 0:00:00.136118\n",
      "INFO:ekorpkit.ekonf:Skipping execute of functools.partial(<function concat_dataframes at 0x7f61c2fa4ca0>)\n",
      "WARNING:ekorpkit.pipelines.pipe:No pipeline specified\n"
     ]
    },
    {
     "data": {
      "text/html": [
       "<div>\n",
       "<style scoped>\n",
       "    .dataframe tbody tr th:only-of-type {\n",
       "        vertical-align: middle;\n",
       "    }\n",
       "\n",
       "    .dataframe tbody tr th {\n",
       "        vertical-align: top;\n",
       "    }\n",
       "\n",
       "    .dataframe thead th {\n",
       "        text-align: right;\n",
       "    }\n",
       "</style>\n",
       "<table border=\"1\" class=\"dataframe\">\n",
       "  <thead>\n",
       "    <tr style=\"text-align: right;\">\n",
       "      <th></th>\n",
       "      <th>id</th>\n",
       "      <th>text</th>\n",
       "      <th>sent_id</th>\n",
       "    </tr>\n",
       "  </thead>\n",
       "  <tbody>\n",
       "    <tr>\n",
       "      <th>162</th>\n",
       "      <td>162</td>\n",
       "      <td>앞/NNG 으로/JKB 코로나/NNG 19/SN 충격/NNG 에서/JKB 점차/MA...</td>\n",
       "      <td>337</td>\n",
       "    </tr>\n",
       "    <tr>\n",
       "      <th>162</th>\n",
       "      <td>162</td>\n",
       "      <td>또한/MAJ 글로벌/NNG 공급/NNG 망/NNG 재편/NNG 기후/NNG 변화/N...</td>\n",
       "      <td>338</td>\n",
       "    </tr>\n",
       "    <tr>\n",
       "      <th>162</th>\n",
       "      <td>162</td>\n",
       "      <td>향후/NNG 경제/NNG 회복세/NNG 와/JC 물가/NNG 의/JKG 흐름/NNG...</td>\n",
       "      <td>339</td>\n",
       "    </tr>\n",
       "    <tr>\n",
       "      <th>162</th>\n",
       "      <td>162</td>\n",
       "      <td></td>\n",
       "      <td>340</td>\n",
       "    </tr>\n",
       "    <tr>\n",
       "      <th>162</th>\n",
       "      <td>162</td>\n",
       "      <td>Government/SL s/SL View/SL</td>\n",
       "      <td>341</td>\n",
       "    </tr>\n",
       "  </tbody>\n",
       "</table>\n",
       "</div>"
      ],
      "text/plain": [
       "      id                                               text  sent_id\n",
       "162  162  앞/NNG 으로/JKB 코로나/NNG 19/SN 충격/NNG 에서/JKB 점차/MA...      337\n",
       "162  162  또한/MAJ 글로벌/NNG 공급/NNG 망/NNG 재편/NNG 기후/NNG 변화/N...      338\n",
       "162  162  향후/NNG 경제/NNG 회복세/NNG 와/JC 물가/NNG 의/JKG 흐름/NNG...      339\n",
       "162  162                                                         340\n",
       "162  162                         Government/SL s/SL View/SL      341"
      ]
     },
     "execution_count": 6,
     "metadata": {},
     "output_type": "execute_result"
    }
   ],
   "source": [
    "cfg = eKonf.compose(config_group=\"pipeline\")\n",
    "cfg.data.data_dir = \"../data/bok\"\n",
    "cfg.data.data_file = \"bok_minutes_tokens.parquet\"\n",
    "cfg._pipeline_ = []\n",
    "cfg.num_workers = 100\n",
    "cfg.verbose = True\n",
    "df = eKonf.instantiate(cfg)\n",
    "df.tail()"
   ]
  },
  {
   "cell_type": "code",
   "execution_count": 8,
   "metadata": {},
   "outputs": [
    {
     "name": "stderr",
     "output_type": "stream",
     "text": [
      "100%|██████████| 100/100 [00:12<00:00,  7.98it/s]\n",
      "INFO:ekorpkit.models.ngram.base:found 155 ngrams\n"
     ]
    }
   ],
   "source": [
    "ngram._ngram.max_window = 7\n",
    "ngram._ngram.max_skip = 3\n",
    "_ngrams = ngram.find_ngrams(\n",
    "    df.text[:100], ignore_scores=False, strip_pos=False, use_surfaces_to_score=True\n",
    ")"
   ]
  },
  {
   "cell_type": "code",
   "execution_count": 9,
   "metadata": {},
   "outputs": [
    {
     "data": {
      "text/plain": [
       "{'하락/NN': -0.9974931628848912,\n",
       " '저조/NN': 0.0177873650568067,\n",
       " '설비/NN;투자/NN;지연/NN': -0.0226515374908597,\n",
       " '가격/NN;하락/NN;가격/NN;하락/NN': -0.0650300227408409,\n",
       " '투자/NN;크/VA': 0.0027509131677712,\n",
       " '경제/NN;성장/NN': 0.5204387993211343,\n",
       " '마이너스/NN;갭/NN;축소/NN': 0.1201242492475812,\n",
       " '물가/NN;상승/NN': 0.9892951767944276,\n",
       " '물가/NN;압력/NN': 0.7529987098432693,\n",
       " '우려/NN': -0.1406548563507243,\n",
       " '성장/NN;회복/NN': 0.5989181244170283,\n",
       " '가격/NN;급등/NN': 0.1986249334628438,\n",
       " '원화/NN;절상/NN': 0.2283740928971028,\n",
       " '농축/NN;수산물/NN;가격/NN;상승/NN': 0.1442351938704467,\n",
       " '낙관/NN': 0.9073815168627392,\n",
       " '유가/NN;상승/NN': 0.086094450614139,\n",
       " '높/VA;압력/NN': 0.2254642932138867,\n",
       " '회복/NN;높/VA': 0.1552012554910956,\n",
       " '긍정/NN': 0.0159457855264369,\n",
       " '투자/NN;부진/NN': -0.0358596445136938,\n",
       " '경기/NN;회복/NN;상승/NN': 0.2614104379541183,\n",
       " '플러스/NN': 0.0729897565573511,\n",
       " '성장/NN;상승/NN': 0.601762085086207,\n",
       " '성장/NN;높/VA': 0.060848222845096,\n",
       " '마이너스/NN': -0.1030866691840481,\n",
       " '구조/NN;악화/NN': -0.5815540818771514,\n",
       " '높/VA;안정/NN': 0.5531295115340968,\n",
       " '공급/NN;많/VA': 0.009500605299848,\n",
       " '식료품/NN;가격/NN;상승/NN': 0.1555153565392403,\n",
       " '상회/NN': 0.9967354238232632,\n",
       " '상승/NN;률/XS;완화/NN': 0.0761067942958138,\n",
       " '정책/NN;비판/NN': 0.0049888786214543,\n",
       " '통화/NN;부담/NN': 0.1571510903609397,\n",
       " '가격/NN;상승/NN': 0.0582057939293445,\n",
       " '노동/NN;시장/NN;경직/NN': 0.0084845706470504,\n",
       " '실업/NN;률/XS;높/VA': 0.0287237160441449,\n",
       " '확장/NN': 0.998870726677456,\n",
       " '농산물/NN;가격/NN;상승/NN': 0.1425858037217573,\n",
       " '생산/NN;성/XS;향상/NN': 0.0452936002957847,\n",
       " '경기/NN;진작/NN': -0.0042416272858725,\n",
       " '우려/NN;통화/NN;정책/NN;완화/NN': 0.0320623308269414,\n",
       " '지장/NN': -0.0075174868155409,\n",
       " '수지/NN;적자/NN': 0.0834921480279219,\n",
       " '원화/NN;강세/NN': 0.1727261768138872,\n",
       " '절하/NN': 0.0953148114501515,\n",
       " '절상/NN': 0.2248293260757415,\n",
       " '예상/NN;절상/NN': 0.1695763763951845,\n",
       " '절상/NN;추세/NN': 0.2186342682719313,\n",
       " '원/NN;환율/NN;하락/NN': 0.0177535800093149,\n",
       " '수출/NN;나쁘/VA': 0.0283707692494452,\n",
       " '수입/NN;높/VA': 0.1545249079680039,\n",
       " '경상/NN;흑자/NN': 0.5876588378351795,\n",
       " '흑자/NN;크/VA': 0.5085622268239143,\n",
       " '흑자/NN;감소/NN': 0.5758585105005634,\n",
       " '예상/NN;내수/NN;부진/NN': -0.0155572392622992,\n",
       " '완화/NN': -0.9865071267692084,\n",
       " '저축/NN;감소/NN': 0.0042613734820441,\n",
       " '경상/NN;수지/NN;흑자/NN;축소/NN': 0.6100019195528328,\n",
       " '경상/NN;수지/NN;흑자/NN': 0.6053516791693222,\n",
       " '금리/NN;낮/VA': -0.6225652820221071,\n",
       " '원화/NN;약세/NN': 0.0925092558405274,\n",
       " '금리/NN;확대/NN': -0.0336321097353523,\n",
       " '하락/NN;시장/NN;불안/NN': -0.1092842026790247,\n",
       " '안정/NN': 0.0976581813281574,\n",
       " '통화/NN;안정/NN': 0.1292155158174954,\n",
       " '흡수/NN': 0.1052117397374828,\n",
       " '안정/NN;증가/NN': 0.5367199803916879,\n",
       " '통화/NN;감소/NN': 0.0737367299350517,\n",
       " '성장/NN': 0.984967006613283,\n",
       " '활황/NN': -0.0551014472555072,\n",
       " '활성/NN;화/XS': 0.0366413224875976,\n",
       " '본원통화/NN;증가/NN': 0.2052452901600562,\n",
       " '경기/NN;저점/NN': -0.0524643190502568,\n",
       " '경제/NN;성장/NN;높/VA': 0.53718119564373,\n",
       " '부담/NN': 0.1193824753107514,\n",
       " '콜/NN;금리/NN;목표/NN;인하/NN': -0.13262064558064,\n",
       " '원자재/NN;가격/NN;높/VA': 0.1416074405549555,\n",
       " '호전/NN': -0.0026158896002819,\n",
       " '기대/NN;하락/NN': -0.0103094599403686,\n",
       " '경기/NN;회복/NN': -0.0735204089304163,\n",
       " '자금/NN;조달/NN;어렵/VA': -0.0040748320366386,\n",
       " '물가/NN;상방/NN': 0.0988565834144016,\n",
       " '위험/NN': -0.0392922310459082,\n",
       " '수요/NN;증대/NN': 0.1089774051346813,\n",
       " '유가/NN;급등/NN': 0.1453835274580509,\n",
       " '실물/NN;회복/NN': -0.142651139302855,\n",
       " '고용/NN;악화/NN': -0.624421305209124,\n",
       " '경제/NN;회복/NN': 0.0178468896409118,\n",
       " '악화/NN': -0.9977370912806918,\n",
       " '인플레이션/NN;상승/NN': 0.7335312258068816,\n",
       " '회복/NN;상승/NN': 0.0040591051080092,\n",
       " '부동산/NN;가격/NN;상승/NN': 0.9892690707366624,\n",
       " '경기/NN;하방/NN;위험/NN': -0.0483507943088113,\n",
       " '국제/NN;가격/NN;상승/NN': 0.1607683305610637,\n",
       " '변동/NN;성/XS;증대/NN': -0.6511616617588741,\n",
       " '외환/NN;보유/NN;액/NN;안정/NN': 0.2564963975907099,\n",
       " '산업/NN;안정/NN': 0.0083903949425955,\n",
       " '유가/NN;상회/NN': 0.0852069978596837,\n",
       " '위축/NN': -0.9964422143950517,\n",
       " '회복/NN;조짐/NN': -0.2098940566677744,\n",
       " '원화/NN;절하/NN': 0.1599760982884495,\n",
       " '낙관/NN;없/VA': 0.5648395762218247,\n",
       " '금리/NN;안정/NN': -0.0293381487430331,\n",
       " '전망/NN;긍정/NN': 0.1622309866829919,\n",
       " '회복/NN;걸림돌/NN': -0.0563375345741184,\n",
       " '개선/NN;가능/NN;성/XS;높/VA': -0.0683009585004642,\n",
       " '기대/NN;높/VA': 0.0192114413840148,\n",
       " '통화/NN;회복/NN': 0.0684671766180154,\n",
       " '절상/NN;가속/NN': 0.2435251394850856,\n",
       " '대외/NN;악화/NN': -0.0040301814801386,\n",
       " '전망/NN;가능/NN;성/XS;높/VA': 0.0095609632460382,\n",
       " '부진/NN': -0.9990483803182358,\n",
       " '경제/NN;긍정/NN;적/XS': 0.0060044082848741,\n",
       " '투자/NN;회복/NN;지연/NN': -0.0343363035374796,\n",
       " '제조업/NN;견조/NN': 0.0214640048234721,\n",
       " '고용/NN;부진/NN': -0.1435893412727956,\n",
       " '개선/NN;불/XP;투명/NN': -0.0292074546541316,\n",
       " '경기/NN;회복/NN;속도/NN;우려/NN': -0.0441106867899891,\n",
       " '가격/NN;반/NN;등/NN': 0.0969633599834299,\n",
       " '전망/NN;소폭/MA;상향/NN': 0.0331293671420811,\n",
       " '채권/NN;시장/NN;취약/NN': -0.0226388100088203,\n",
       " '인플레이션/NN;크/VA': 0.2322585869302016,\n",
       " '소매/NN;판매/NN;부진/NN': -0.0916732941026204,\n",
       " '높/VA;경제/NN;성장/NN': 0.6785215318580916,\n",
       " '경제/NN;크/VA': -0.1560739700466167,\n",
       " '경제/NN;낮/VA': 0.1811089746302118,\n",
       " '투자/NN;축소/NN': -0.0091250155342883,\n",
       " '실적/NN;예상/NN;하회/NN': -0.0633039043188929,\n",
       " '실망/NN': -0.0537436125235228,\n",
       " '상승/NN;률/XS;상승/NN': 0.1482478137257441,\n",
       " '실업/NN;증가/NN': -0.0971255742845687,\n",
       " '예상/NN;낮/VA': -0.5326471339885891,\n",
       " '성장/NN;전망/NN;낙관/NN': 0.5580236567891682,\n",
       " '생산/NN;예상/NN;하회/NN': -0.0150834451089284,\n",
       " '성장/NN;효과/NN': 0.5699464628899542,\n",
       " '전망/NN;낙관/NN': 0.2062637762448329,\n",
       " '수출/NN;증가/NN': 0.1420316987390225,\n",
       " '수출/NN;증가/NN;높/VA': 0.150713622679714,\n",
       " '낮/VA;효과/NN': -0.5461373569685195,\n",
       " '예상/NN;좋/VA': -0.0557501757063274,\n",
       " '대미/NN;수출/NN;증가/NN': 0.1676438534473504,\n",
       " '수출/NN;낮/VA': 0.1550332323355408,\n",
       " '수출/NN;호조/NN': 0.046887575975538,\n",
       " '비관/NN': -0.8859526730258452,\n",
       " '부진/NN;둔화/NN': -0.0912906274268463,\n",
       " '예상/NN;저조/NN': -0.1340445578640994,\n",
       " '예상/NN;수출/NN;호조/NN': 0.0810811306501646,\n",
       " '기대/NN;원화/NN;절상/NN': 0.2319026090308475,\n",
       " '경상/NN;수지/NN;악화/NN': 0.4781920955534715,\n",
       " '경제/NN;호조/NN': 0.0116789494143074,\n",
       " '금리/NN;인상/NN': 0.6994401729370587,\n",
       " '자산/NN;투자/NN;늘/MA': 0.0313607764932783,\n",
       " '수요/NN;압력/NN': 0.2136052674247164,\n",
       " '억제/NN': 0.326535478405863,\n",
       " '불/XP;안정/NN': -0.0666785653590046}"
      ]
     },
     "execution_count": 9,
     "metadata": {},
     "output_type": "execute_result"
    }
   ],
   "source": [
    "_ngrams"
   ]
  },
  {
   "cell_type": "code",
   "execution_count": 9,
   "metadata": {},
   "outputs": [
    {
     "name": "stdout",
     "output_type": "stream",
     "text": [
      "0 []\n",
      "1 ['일부/NN', '위원/NN', '반도체/NN', '시장/NN', '재고/NN', '조정/NN', '지속/NN', '반도체/NN', '가격/NN', '하락/NN', '하/XS', '하/XS', '월/NN', '중/NN', '반도체/NN', '제조/NN', '장비/NN', '투자/NN', '큰/VA', '폭/NN', '증가/NN', '한/XS', '것/NN', '월/NN', '중/NN', '반도체/NN', '관련/NN', '투자/NN', '전체/NN', '설비/NN', '투자/NN', '중/NN', '차지/NN', '하/XS', '비중/NN', '금액/NN', '어느/MM', '정도/NN', '인지/VC', '그리고/MA', '동/MM', '투자/NN', '연중/NN', '지속/NN', '가능/NN', '한/XS', '투자/NN', '한편/NN', '산업/NN', '신규/NN', '투자/NN', '상반기/NN', '중/NN', '저조/NN', '할/XS', '것/NN', '이/VC', '전망/NN', '관련/NN', '하/XS', '그/MM', '같/VA', '상황/NN', '지속/NN', '될/XS', '경우/NN', '설비/NN', '투자/NN', '회복/NN;속도/NN;지연/NN', '되/XS', '의문/NN', '제기/NN', '하/XS']\n",
      "2 ['관련/NN', '부서/NN', '현재/MA', '반도체/NN', '경기/NN', '좋/VA', '인식/NN', '되/XS', '것/NN', '반도체/NN', '가격/NN', '큰/VA', '폭/NN', '하락/NN', '한/XS', '데/NN', '기인/NN', '한/XS', '것/NN', '가격/NN', '하락/NN', '한/XS', '반면/NN', '수요/NN', '가격/NN', '하락/NN', '비율/NN', '경상/NN', '금액/NN', '때/NN', '그리/MA', '저조/NN', '하/XS', '것/NN', '판단/NN', '된다면서/XS', '월/NN', '중/NN', '반도체/NN', '제조/NN', '장비/NN', '투자/NN', '크/VA', '것/NN', '플래시/NN', '메모리/NN', '설비/NN', '투자/NN', '것/NN', '연중/NN', '투자/NN', '규모/NN', '영향/NN', '할/XS', '것/NN', '이/VC', '설명/NN', '하/XS']\n",
      "3 ['동/MM', '위원/NN', '분기/NN', '중/NN', '경제/NN;성장/NN', '률/XS', '당초/NN', '전망/NN;높/VA', '소폭/MA', '수/NN', '보고/NN', '내용/NN', '관련/NN', '하/XS', '그/MM', '경우/NN', '마이너스/NN;축소/NN', '갭/NN', '속도/NN', '예상/NN', '빨라질/VA', '수/NN', '것/NN', '생각/NN', '되/XS', '다른/MM', '측면/NN', '작년/NN', '크/VA', '소비자/NN', '물가/NN', '반영/NN', '되/XS', '생산자/NN', '물가/NN;상승/NN', '요인/NN', '금년/NN', '빠르/VA', '소비자/NN', '물가/NN', '전가/NN', '되/XS', '생산자/NN', '물가/NN', '소비자/NN', '물가/NN', '간/NN', '갭/NN', '축소/NN', '될/XS', '것/NN', '그/MM', '같/VA', '상태/NN', '지속/NN', '될/XS', '경우/NN', '수요/NN', '측면/NN', '물가/NN;상승/NN', '물가/NN;압력/NN', '전망/NN', '빠르/VA', '가능/NN', '성/XS', '없/VA', '우려/NN', '하/XS']\n",
      "4 ['관련/NN', '부서/NN', '분기/NN', '중/NN', '경제/NN', '성장/NN;높/VA', '률/XS', '경기/NN', '회복/NN', '시기/NN', '경우/NN', '갭/NN', '축소/NN', '되/XS', '수요/NN', '측면/NN', '물가/NN;상승/NN', '물가/NN;압력/NN', '수/NN', '것/NN', '답변/NN', '하/XS']\n",
      "5 ['또한/MA', '동/MM', '위원/NN', '분기/NN', '중/NN', '국제/NN', '유가/NN', '현재/NN', '브렌트/NN', '유/NN', '기준/NN', '달러/NN', '두/MM', '바/NN', '이유/NN', '기준/NN', '달러/NN', '지속/NN', '한다/XS', '소비자/NN', '물가/NN', '중반/NN', '것/NN', '예상/NN', '된다는/XS', '보고/NN', '내용/NN', '관련/NN', '하/XS', '작년/NN', '월/NN', '이후/NN', '농축/NN', '수산물/NN', '가격/NN;급등/NN', '한/XS', '것/NN', '감안/NN', '하/XS', '브렌트/NN', '유가/NN', '달러/NN', '두/MM', '바/NN', '이유/NN', '달러/NN', '내외/NN', '유지/NN', '한/XS', '상황/NN', '소비자/NN', '물가/NN', '선/NN', '것/NN', '비교/NN', '해/XS', '원화/NN;절상/NN', '효과/NN', '제한/NN', '적/XS', '이/VC', '농축/NN', '수산물/NN', '가격/NN', '비/XP', '정상/NN', '적/XS', '상승/NN', '할/XS', '수/NN', '있/VA', '점/NN', '고려/NN', '할/XS', '때/NN', '너무/MA', '낙관/NN', '적/XS', '인/VC', '전망/NN', '아닌지/VC']\n",
      "6 ['관련/NN', '부서/NN', '유가/NN', '현재/NN', '달러/NN', '정도/NN', '상승/NN', '하/XS', '소비자/NN', '물가/NN;상승/NN', '중반/NN', '할/XS', '것/NN', '예상/NN', '되/XS', '이상/NN', '기후/NN', '농수산물/NN', '가격/NN', '급상승/NN', '할/XS', '경우/NN', '월/NN', '한/MM', '두/MM', '달/NN', '동안/NN', '대/XS', '가능/NN', '성/XS', '있/VA', '것/NN', '이/VC', '답변/NN', '하/XS']\n",
      "7 ['다른/MM', '일부/NN', '위원/NN', '관련/NN', '부서/NN', '작성/NN', '한/XS', '주요/NN', '경제/NN', '지표/NN', '설비/NN', '투자/NN', '작년/NN', '월/NN', '월/NN', '전년/NN', '동기/NN', '대비/NN', '증가세/NN', '월/NN', '이후/NN', '감소/NN', '증가/NN', '반복/NN', '하/XS', '감안/NN', '할/XS', '때/NN', '현재/MA', '설비/NN', '투자/NN', '회복세/NN', '수/NN', '그리고/MA', '가동/NN', '률/XS', '높/VA', '투자/NN', '조정/NN', '압력/NN', '있/VA', '현/MM', '상태/NN', '중소기업/NN', '대/XP', '기업/NN', '쪽/NN', '투자/NN', '여력/NN', '더/MA', '있/VA', '것/NN', '아닌지/VC']\n",
      "8 ['관련/NN', '부서/NN', '설비/NN', '투자/NN', '작년/NN', '분기/NN', '증가세/NN', '전환/NN', '하/XS', '몇/MM', '달/NN', '동안/NN', '대/XS', '증가세/NN', '유지/NN', '하/XS', '분기/NN', '감소세/NN', '수준면/NN', '회복세/NN', '라고/VC', '어려우나/VA', '최근/NN', '기업/NN;경기/NN;회복/NN', '들/XS', '기대/NN', '심리/NN', '상당히/MA', '높/VA', '점/NN', '설비/NN', '투자/NN', '긍정/NN', '적/XS', '작용/NN', '할/XS', '것/NN', '이/VC', '측면/NN', '투자/NN', '회복/NN', '기대/NN', '되/XS', '그/MM', '동안/NN', '대/XP', '기업/NN', '경우/NN', '꾸준히/MA', '투자/NN', '반면/NN', '중소기업/NN', '부진/NN', '하/XS', '앞/NN', '경기/NN;회복/NN;상승/NN', '기대감/NN', '대/XP', '기업/NN', '중소기업/NN', '모두/MA', '투자/NN', '플러스/NN', '요인/NN', '작용/NN', '할/XS', '것/NN', '기대/NN', '된다고/XS', '답변/NN', '하/XS']\n",
      "9 ['동/MM', '위원/NN', '갭/NN', '관련/NN', '하/XS', '분기/NN', '분기/NN', '경제/NN', '성장/NN;상승/NN', '률/XS', '어느/MM', '정도/NN', '시차/NN', '갭/NN', '효과/NN', '것/NN', '인지/VC', '또한/MA', '성장/NN', '률/XS', '더/MA', '높/VA', '분기/NN', '분기/NN', '중/NN', '갭/NN', '경우/NN', '수요/NN', '측면/NN', '물가/NN;상승/NN', '요인/NN', '바로미터/NN', '관련/NN', '부서/NN', '당초/NN', '올해/NN', '상반기/NN', '중/NN', '갭/NN', '크/VA', '하반기/NN', '연간/NN', '것/NN', '예상/NN', '하/XS', '분기/NN', '분기/NN', '동/MM', '갭/NN', '마이너스/NN', '유지/NN', '할/XS', '것/NN', '예상/NN', '된다고/XS', '답변/NN', '하/XS']\n"
     ]
    }
   ],
   "source": [
    "for i, sentence in enumerate(df.text.tolist()[:10]):\n",
    "    tokens = ngram.ngramize_sentence(sentence)\n",
    "    print(i, tokens)"
   ]
  },
  {
   "cell_type": "code",
   "execution_count": null,
   "metadata": {},
   "outputs": [],
   "source": []
  }
 ],
 "metadata": {
  "colab": {
   "name": "preprocessor.ipynb",
   "provenance": []
  },
  "interpreter": {
   "hash": "f869af7787e6a1c49e09e367fc6e1b81d93d1c6583b43249c80edc047bd13cb2"
  },
  "kernelspec": {
   "display_name": "Python 3",
   "language": "python",
   "name": "python3"
  },
  "language_info": {
   "codemirror_mode": {
    "name": "ipython",
    "version": 3
   },
   "file_extension": ".py",
   "mimetype": "text/x-python",
   "name": "python",
   "nbconvert_exporter": "python",
   "pygments_lexer": "ipython3",
   "version": "3.8.12"
  },
  "widgets": {
   "application/vnd.jupyter.widget-state+json": {
    "state": {},
    "version_major": 2,
    "version_minor": 0
   }
  }
 },
 "nbformat": 4,
 "nbformat_minor": 1
}
