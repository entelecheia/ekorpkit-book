{
 "cells": [
  {
   "cell_type": "markdown",
   "metadata": {
    "id": "cjgz1WTcPWee"
   },
   "source": [
    "# Lab 1: Preparing Wikipedia Corpora"
   ]
  },
  {
   "cell_type": "markdown",
   "metadata": {},
   "source": [
    "## Install the ekorpkit library along with its dependencies"
   ]
  },
  {
   "cell_type": "code",
   "execution_count": null,
   "metadata": {},
   "outputs": [],
   "source": [
    "%pip install --pre ekorpkit[wiki,fetch]"
   ]
  },
  {
   "cell_type": "code",
   "execution_count": 2,
   "metadata": {
    "id": "BzxPwsOVPWef"
   },
   "outputs": [
    {
     "name": "stderr",
     "output_type": "stream",
     "text": [
      "INFO:ekorpkit.utils.notebook:shell type: ZMQInteractiveShell\n",
      "INFO:ekorpkit.utils.notebook:Google Colab not detected.\n",
      "INFO:ekorpkit.base:Setting EKORPKIT_WORKSPACE_ROOT to /content/drive/MyDrive/workspace/\n",
      "INFO:ekorpkit.base:Setting EKORPKIT_PROJECT to ekorpkit-book\n",
      "INFO:ekorpkit.base:Loaded .env from /workspace/projects/ekorpkit-book/config/.env\n",
      "INFO:ekorpkit.base:Loaded .env from /workspace/projects/ekorpkit-book/config/.env\n"
     ]
    },
    {
     "name": "stdout",
     "output_type": "stream",
     "text": [
      "version: 0.1.40.post0.dev2\n",
      "is notebook? True\n",
      "is colab? False\n"
     ]
    },
    {
     "data": {
      "text/plain": [
       "('/content/drive/MyDrive/workspace', 'ekorpkit-book')"
      ]
     },
     "execution_count": 2,
     "metadata": {},
     "output_type": "execute_result"
    }
   ],
   "source": [
    "from ekorpkit import eKonf\n",
    "\n",
    "eKonf.setLogger(\"INFO\")\n",
    "print(\"version:\", eKonf.__version__)\n",
    "\n",
    "is_notebook = eKonf.is_notebook()\n",
    "is_colab = eKonf.is_colab()\n",
    "print(\"is notebook?\", is_notebook)\n",
    "print(\"is colab?\", is_colab)\n",
    "if is_colab:\n",
    "    eKonf.mount_google_drive()\n",
    "eKonf.set_workspace(workspace=\"/content/drive/MyDrive/workspace/\", project=\"ekorpkit-book\")"
   ]
  },
  {
   "cell_type": "markdown",
   "metadata": {
    "id": "it1Y0MVPXRsJ"
   },
   "source": [
    "## Build corpora with the ekorpkit configs\n",
    "\n",
    "### Wikipedia Dump\n",
    "\n",
    "- The first step is to download the Wikipedia dump. \n",
    "- The dump is a collection of all Wikipedia articles in XML format. \n",
    "- The dump for English is available at https://dumps.wikimedia.org/enwiki/latest/enwiki-latest-pages-articles.xml.bz2. \n",
    "- The dump is about 20.3 GB in size.\n",
    "- For other languages, change `en` to the language code of your choice.\n",
    "- For the detailed list of language codes, see https://meta.wikimedia.org/wiki/List_of_Wikipedias."
   ]
  },
  {
   "cell_type": "markdown",
   "metadata": {},
   "source": [
    "#### Fetch the dump and extract it to the `data` directory \n",
    "\n",
    "```python\n",
    "from ekorpkit.io.fetch.loader.wiki import Wiki\n",
    "\n",
    "wiki = Wiki(lang=\"ko\", output_dir=\"data\")\n",
    "wiki.download_dump()\n",
    "wiki.extract_wiki()\n",
    "```\n",
    "\n",
    "Following the instructions above, you can download the dump for other languages."
   ]
  },
  {
   "cell_type": "markdown",
   "metadata": {},
   "source": [
    "### Build the Korean Wikipedia Corpus"
   ]
  },
  {
   "cell_type": "code",
   "execution_count": 3,
   "metadata": {},
   "outputs": [
    {
     "name": "stdout",
     "output_type": "stream",
     "text": [
      "{'_name_': 'fetcher',\n",
      " '_target_': 'ekorpkit.io.fetch.loader.wiki.Wiki',\n",
      " 'auto': {'load': False},\n",
      " 'autoload': False,\n",
      " 'compress': False,\n",
      " 'dump': {'_target_': 'web_download',\n",
      "          'dump_dir': '/content/drive/MyDrive/workspace/.cache/corpus/kowiki',\n",
      "          'dump_file': 'kowiki.xml.bz2',\n",
      "          'url': 'https://dumps.wikimedia.org/kowiki/latest/kowiki-latest-pages-articles.xml.bz2'},\n",
      " 'extract': {'_target_': 'extract_wiki'},\n",
      " 'force': {'download': False},\n",
      " 'force_download': False,\n",
      " 'lang': 'ko',\n",
      " 'limit': -1,\n",
      " 'name': 'kowiki',\n",
      " 'num_workers': 50,\n",
      " 'output_dir': '/content/drive/MyDrive/workspace/.cache/corpus/kowiki/extracted',\n",
      " 'output_file': None,\n",
      " 'path': {'cached_path': None,\n",
      "          'columns': None,\n",
      "          'concat_data': False,\n",
      "          'data_columns': None,\n",
      "          'data_dir': '/content/drive/MyDrive/workspace/data/kowiki',\n",
      "          'data_file': None,\n",
      "          'filetype': '',\n",
      "          'name': 'kowiki',\n",
      "          'output': {'base_dir': '/content/drive/MyDrive/workspace/.cache/corpus/kowiki/extracted',\n",
      "                     'columns': None,\n",
      "                     'file': None,\n",
      "                     'filename': None,\n",
      "                     'filepath': '/content/drive/MyDrive/workspace/.cache/corpus/kowiki/extracted',\n",
      "                     'filetype': '',\n",
      "                     'suffix': None},\n",
      "          'output_dir': '/content/drive/MyDrive/workspace/.cache/corpus/kowiki/extracted',\n",
      "          'output_file': None,\n",
      "          'root': '/content/drive/MyDrive/workspace/data/kowiki',\n",
      "          'suffix': None,\n",
      "          'verbose': True},\n",
      " 'verbose': True}\n"
     ]
    }
   ],
   "source": [
    "wiki_cfg = eKonf.compose('io/fetcher=wiki')\n",
    "wiki_cfg.lang = \"ko\"\n",
    "wiki_cfg.name = \"kowiki\"\n",
    "wiki_cfg.output_dir = f\"{wiki_cfg.dump.dump_dir}/extracted\"\n",
    "wiki_cfg.autoload = False\n",
    "wiki_cfg.force_download = False\n",
    "wiki_cfg.num_workers = 50\n",
    "wiki_cfg.verbose = True\n",
    "\n",
    "eKonf.print(wiki_cfg)"
   ]
  },
  {
   "cell_type": "code",
   "execution_count": 8,
   "metadata": {},
   "outputs": [
    {
     "data": {
      "application/vnd.jupyter.widget-view+json": {
       "model_id": "7f57cd7e390042ad85a99efd0b1fbafa",
       "version_major": 2,
       "version_minor": 0
      },
      "text/plain": [
       "[kowiki.xml.bz2] download kowiki.xml.bz2: 0.00B [00:00, ?B/s]"
      ]
     },
     "metadata": {},
     "output_type": "display_data"
    },
    {
     "name": "stderr",
     "output_type": "stream",
     "text": [
      "INFO: Preprocessing '/content/drive/MyDrive/workspace/.cache/corpus/kowiki/kowiki.xml.bz2' to collect template definitions: this may take some time.\n",
      "INFO: Preprocessed 100000 pages\n",
      "INFO: Preprocessed 200000 pages\n",
      "INFO: Preprocessed 300000 pages\n",
      "INFO: Preprocessed 400000 pages\n",
      "INFO: Preprocessed 500000 pages\n",
      "INFO: Preprocessed 600000 pages\n",
      "INFO: Preprocessed 700000 pages\n",
      "INFO: Preprocessed 800000 pages\n",
      "INFO: Preprocessed 900000 pages\n",
      "INFO: Preprocessed 1000000 pages\n",
      "INFO: Preprocessed 1100000 pages\n",
      "INFO: Preprocessed 1200000 pages\n",
      "INFO: Preprocessed 1300000 pages\n",
      "INFO: Preprocessed 1400000 pages\n",
      "INFO: Preprocessed 1500000 pages\n",
      "INFO: Preprocessed 1600000 pages\n",
      "INFO: Preprocessed 1700000 pages\n",
      "INFO: Loaded 60850 templates in 214.3s\n",
      "INFO: Starting page extraction from /content/drive/MyDrive/workspace/.cache/corpus/kowiki/kowiki.xml.bz2.\n",
      "INFO: Using 50 extract processes.\n",
      "INFO: Extracted 100000 articles (2809.9 art/s)\n",
      "INFO: Extracted 200000 articles (4194.9 art/s)\n",
      "INFO: Extracted 300000 articles (4598.9 art/s)\n",
      "INFO: Extracted 400000 articles (5019.5 art/s)\n",
      "INFO: Extracted 500000 articles (5461.3 art/s)\n",
      "INFO: Extracted 600000 articles (5120.8 art/s)\n",
      "INFO: Extracted 700000 articles (5254.5 art/s)\n",
      "INFO: Extracted 800000 articles (6065.9 art/s)\n",
      "INFO: Extracted 900000 articles (19874.6 art/s)\n",
      "INFO: Extracted 1000000 articles (10843.3 art/s)\n",
      "INFO: Extracted 1100000 articles (5674.7 art/s)\n",
      "INFO: Extracted 1200000 articles (5990.6 art/s)\n",
      "INFO: Extracted 1300000 articles (5678.9 art/s)\n"
     ]
    },
    {
     "name": "stdout",
     "output_type": "stream",
     "text": [
      "Extracted kowiki from dump file /content/drive/MyDrive/workspace/.cache/corpus/kowiki/kowiki.xml.bz2\n"
     ]
    },
    {
     "name": "stderr",
     "output_type": "stream",
     "text": [
      "INFO: Finished 50-process extraction of 1339049 articles in 247.2s (5417.6 art/s)\n"
     ]
    }
   ],
   "source": [
    "from ekorpkit.io.fetch.loader.wiki import Wiki\n",
    "\n",
    "args = eKonf.to_dict(wiki_cfg)\n",
    "wiki = Wiki(**args)\n",
    "wiki.download_dump()\n",
    "wiki.extract_wiki()\n"
   ]
  },
  {
   "cell_type": "markdown",
   "metadata": {},
   "source": [
    "#### Build the corpus by Parsing the Wikipedia Dump\n",
    "\n",
    "- The next step is to parse the Wikipedia dump and build the corpus.\n",
    "- Extracted Wikipedia dump is in JSON Lines format, which is a line-delimited JSON format.\n"
   ]
  },
  {
   "cell_type": "code",
   "execution_count": 13,
   "metadata": {},
   "outputs": [
    {
     "name": "stderr",
     "output_type": "stream",
     "text": [
      "INFO:ekorpkit.io.file:Processing [1628] files from ['**/*']\n"
     ]
    },
    {
     "name": "stdout",
     "output_type": "stream",
     "text": [
      "Number of files: 1628\n"
     ]
    },
    {
     "data": {
      "text/plain": [
       "['/content/drive/MyDrive/workspace/.cache/corpus/kowiki/extracted/AH/wiki_23',\n",
       " '/content/drive/MyDrive/workspace/.cache/corpus/kowiki/extracted/AH/wiki_67',\n",
       " '/content/drive/MyDrive/workspace/.cache/corpus/kowiki/extracted/AH/wiki_05',\n",
       " '/content/drive/MyDrive/workspace/.cache/corpus/kowiki/extracted/AH/wiki_20',\n",
       " '/content/drive/MyDrive/workspace/.cache/corpus/kowiki/extracted/AH/wiki_40',\n",
       " '/content/drive/MyDrive/workspace/.cache/corpus/kowiki/extracted/AH/wiki_92',\n",
       " '/content/drive/MyDrive/workspace/.cache/corpus/kowiki/extracted/AH/wiki_42',\n",
       " '/content/drive/MyDrive/workspace/.cache/corpus/kowiki/extracted/AH/wiki_14',\n",
       " '/content/drive/MyDrive/workspace/.cache/corpus/kowiki/extracted/AH/wiki_28',\n",
       " '/content/drive/MyDrive/workspace/.cache/corpus/kowiki/extracted/AH/wiki_24']"
      ]
     },
     "execution_count": 13,
     "metadata": {},
     "output_type": "execute_result"
    }
   ],
   "source": [
    "# get the list of extracted files\n",
    "\n",
    "files = eKonf.get_filepaths(\"**/*\", wiki_cfg.output_dir)\n",
    "print(f\"Number of files: {len(files)}\")\n",
    "files[:10]"
   ]
  },
  {
   "cell_type": "markdown",
   "metadata": {},
   "source": [
    "Check the first few lines of the extracted dump."
   ]
  },
  {
   "cell_type": "code",
   "execution_count": 11,
   "metadata": {},
   "outputs": [
    {
     "name": "stdout",
     "output_type": "stream",
     "text": [
      "{\"id\": \"634327\", \"revid\": \"414775\", \"url\": \"https://ko.wikipedia.org/wiki?curid=634327\", \"title\": \"\\uc131\\uc774\\uc131\", \"text\": \"\\uc131\\uc774\\uc131(\\u6210\\u4ee5\\u6027, 1595\\ub144(\\uc120\\uc870 28\\ub144\n"
     ]
    }
   ],
   "source": [
    "print(eKonf.read(files[0], mode=\"r\", encoding=\"utf-8\", head=200))"
   ]
  },
  {
   "cell_type": "code",
   "execution_count": 7,
   "metadata": {
    "colab": {
     "base_uri": "https://localhost:8080/",
     "height": 1000,
     "referenced_widgets": [
      "8c65a541b1424bc895a358ec8c2955d0",
      "a1f39c5fb6e14bba94948ceed945c48e",
      "df825e76b09f4b40b0f22abd96afd9ec",
      "f2ba1273dc964523a52c645113dc15dc",
      "cf589159b5844031b2c07a2941d6d767",
      "c73b1e574c6148a79e919619e5337b13",
      "c3d0d587372c4cb185f70e2106460913",
      "42bba043a42e4a408017fa0c58fc89b1",
      "eca5b19cb1a8472f9803e056dc2e3edf",
      "1eec65bd4a4f4ac3a141ebfc0abf2fd7",
      "3a91d7fbcbe94220bb5e5edc4592ea44",
      "c0249a1e6b094b28afb32aa4c8ee6241",
      "b406dade33294912b357909432006a6f",
      "466cf119d61544108f7e9fc2743f90f4",
      "895fc91e766a4c5098cef03f21722754",
      "d933287033b244eb878dd8272163edbd",
      "b6329b07e3c9478a9934f014d2586c8a",
      "147722c8b38e43f4a74a8cbc4ff80132",
      "94ade840d70c440b901f0fefca36b700",
      "bb38b9fad3f6491cb0e4f5e13a00f402",
      "6c34cf9978fd4a0ab092db70ba5ca133",
      "b530f744c9914640b388e2c9ca7164be",
      "7f49f945e79c49558b5c23e413670ca4",
      "ad250bac857e4ba191178ff7aa0f21c2",
      "76c77c45dc2146a887d1a05d05a2b07c",
      "1bb668c7534d435a9f0a55c6eafb3755",
      "c504bb84cc5c4e0a9d8f4f5715ec6a03",
      "52688fc848054b3da375b73185519df2",
      "6c105fb7575745968215abddfc42d3a4",
      "c465acff35ef43cd8aa029289509f801",
      "cdce198d7e584538987b33ed590860d3",
      "3971c7c442bc4ff0ae1148a75034e989",
      "5beee945b7ed485eb3f7c8193d9c696a",
      "92753dfdb5854e12bc66bdc60072b5a1",
      "beb1d40680394747b535f2bbbbff8d75",
      "d86836fe655f4097abfe4297b3c33f27",
      "8670c085406a45ba9dff599d8e1bcfa0",
      "c5f11d5c87964550aacd9b477f2791aa",
      "b6188d143588467e90daa1c230748456",
      "5bef610b5d5c43549f174794559298a6",
      "2e3a25b1cfa34d6fac3ce2e33831ce71",
      "83214c0e91004c57b95a17f72c9ade8e",
      "4ea44db70fc14d839ef1e36b262197f1",
      "d751a8dd2711494695545cd8309a9add",
      "5af5d75e48bb409bb0201ae9b4bcbc7a",
      "12d5551a754b4c32a714fa0fa25096a6",
      "bb6c2a38a0e147d1a73bd510d0af4f55",
      "74b643eb567b4e1baa2edeab5314bf74",
      "0cc33597c6624a2fadc0454f1347e245",
      "ea8f5b8623a4457aa5e7028bd47d8f7c",
      "5e6bf9b1fe4a4b20a892690140fd153b",
      "03468bd389d649b6a5376a225393d580",
      "4741f650996042a5822de55078e32aaf",
      "e5610d32b9434cfaad97c84dff963517",
      "747bd5269293486fa5610b5ef989ad1a",
      "0a251d38928746c1bc8e811676078c84",
      "92c9e23051b84ec5a44f4535d384ea3d",
      "745247540de84e14ad7513d479500175",
      "f59dc69320884fdebf3c128cac03d50c",
      "6d5547298c504706b47369159b47b387",
      "3f1fdfa3512c45cc93ee00d0d9a65864",
      "a4905ccd3b6948f6b9a43353c444a712",
      "6fadeb5ed8e94808b87e91a6272cfa53",
      "11475267a3ae4986b70c2282fd4a0723",
      "a83cdec6d8764baaa94eb719d94bf0cf",
      "64dcc52bf9af461d92d605f60da57c10",
      "de057a7427694ca391cde9f8244706cd",
      "d973cb22de8a4980a93e42e5b02ec1b5",
      "ee954aeeaaed48a7acaf05112897a74e",
      "1092b9c63f5c4e5fab04337f55d6272f",
      "42039657cac3411389b3103129f74c17",
      "b937fee33d684033bbf93af5c98fa59c",
      "6c3a5ec1a3ec45c789611d5820b0a97b",
      "9686d1ab402d436b90deabb87782ac28",
      "f403433bd62c42bf88cb4007300ab14f",
      "c766e4a1c63f43a3ab2803b71a05f675",
      "e6cbaaf738b44a8bb26cf5364322476d"
     ]
    },
    "id": "hEVpCETEPWeg",
    "outputId": "f544db07-b0be-4c52-ed74-15de18f741ef",
    "scrolled": false
   },
   "outputs": [
    {
     "name": "stderr",
     "output_type": "stream",
     "text": [
      "INFO:ekorpkit.base:Loaded .env from /workspace/projects/ekorpkit-book/config/.env\n",
      "INFO:ekorpkit.utils.notebook:shell type: ZMQInteractiveShell\n",
      "INFO:ekorpkit.base:setting environment variable CACHED_PATH_CACHE_ROOT to /content/drive/MyDrive/workspace/.cache/cached_path\n",
      "INFO:ekorpkit.base:setting environment variable KMP_DUPLICATE_LIB_OK to TRUE\n",
      "INFO:ekorpkit.base:instantiating ekorpkit.datasets.build.DatasetBuilder...\n",
      "INFO:ekorpkit.base:instantiating ekorpkit.io.fetch.loader.wiki.Wiki...\n",
      "INFO:ekorpkit.base:instantiating ekorpkit.info.stat.SummaryInfo...\n",
      "INFO:ekorpkit.info.stat:Loading info file: /content/drive/MyDrive/workspace/data/datasets/corpus/kowiki/info-kowiki.yaml\n",
      "INFO:ekorpkit.base:instantiating ekorpkit.io.load.data.load_data...\n",
      "INFO:ekorpkit.io.file:Processing [1628] files from ['**/*']\n",
      "INFO:ekorpkit.io.load.data:Starting multiprocessing with 50 processes at load_data\n"
     ]
    },
    {
     "name": "stdout",
     "output_type": "stream",
     "text": [
      "{'category': 'formal',\n",
      " 'column_info': {'columns': {'id': 'id',\n",
      "                             'merge_meta_on': 'id',\n",
      "                             'text': 'text',\n",
      "                             'timestamp': None},\n",
      "                 'data': {'id': 'int', 'text': 'str'},\n",
      "                 'datetime': {'columns': None,\n",
      "                              'format': None,\n",
      "                              'rcParams': None},\n",
      "                 'meta': {'curid': 'str',\n",
      "                          'id': 'int',\n",
      "                          'title': 'str',\n",
      "                          'url': 'str'},\n",
      "                 'segment_separator': '\\\\n\\\\n',\n",
      "                 'sentence_separator': '\\\\n',\n",
      "                 'timestamp': {'format': None, 'key': None, 'rcParams': None}},\n",
      " 'description': '위키백과, 우리 모두의 백과사전',\n",
      " 'fullname': 'Korean Wikipedia Corpus',\n",
      " 'homepage': 'https://ko.wikipedia.org',\n",
      " 'lang': 'ko',\n",
      " 'license': 'CC Attribution / Share-Alike 3.0',\n",
      " 'name': 'kowiki',\n",
      " 'version': '1.0.0'}\n"
     ]
    },
    {
     "data": {
      "application/vnd.jupyter.widget-view+json": {
       "model_id": "7f5ed8c4255f4d20b380c9d714938162",
       "version_major": 2,
       "version_minor": 0
      },
      "text/plain": [
       "::load_data():   0%|          | 0/1628 [00:00<?, ?it/s]"
      ]
     },
     "metadata": {},
     "output_type": "display_data"
    },
    {
     "name": "stdout",
     "output_type": "stream",
     "text": [
      "{'curid': '634327', 'url': 'https://ko.wikipedia.org/wiki?curid=634327', 'title': '성이성', 'text': \"성이성(成以性, 1595년(선조 28년) ∼ 1664년(현종 5년))은 조선 후기의 문신이자 유학자, 청백리이다. 자(字)는 여습(汝習)이고 호는 계서(溪西)이다. 본관은 창녕(昌寧). 춘향전의 실제 주인공으로 춘향전의 주인공인 몽룡은 원래 성몽룡이었다. 남원부사와 승정원승지를 지낸 성안의의 아들이다.\\n강직한 간관이자 청백리이다. 그의 직계 후손들은 춘향전에 나온 '금준미주 천인혈'이 그가 실제로 지은 한시라고 주장한다. 호서 암행어사와 호남 암행어사로 활동, 감찰하며 부패 수령들을 봉고파직시켰다. 이것 역시 춘향전의 소재가 된다. 학맥으로는 김굉필의 손제자이자 그의 학맥을 계승한 강복성(康復誠)의 문인이다. 경상북도 출신.\\n생애.\\n생애 초반.\\n출생과 가계.\\n성이성은 경상북도 봉화군 물야면 가평리 태생으로 아버지는 창녕 성씨로 승정원승지와 군수를 지낸 성안의(成安義)이고, 어머니는 예안 김씨로 증(贈) 호조 참판에 추증(追贈)된 김계선의 딸이다.\\n그는 어려서부터 그는 학업에 열중하여 13세때 그가 쓴 글을 우연히 정경세(鄭經世)가 보게 되었다. 정경세는 그의 글을 읽고 장차 크게 될 인물이라 하였다.\\n수학과 남원 생활.\\n어려서부터 공부를 게을리하지 않고 학문에 더욱 증진하여 조경남의 문하에서 수학하다가 뒤에 강복성(康復誠)의 문인이 되었다. 강복성은 사림의 학통인 길재-김숙자-김종직-김굉필(金宏弼)-조광조-이연경(李延慶)의 학통을 계승한 학자였다.\\n1607년(선조 40) 남원부사로 부임한 아버지 성안의를 따라 갔다가 그곳에서 만난 기생과의 일화가 후일 춘향전의 주 뼈대가 되었다. 그러나 아버지 성안의가 참의로 발령되면서 기생 춘향과는 이별하게 된다. 이때 시중에는 성이성과 춘향을 소재로 한 춘향전이 희극과 인형극, 만담 등으로 확산되었는데, 양반가의 자제의 스캔들이라 하여 조선조정에서 관을 시켜서 금지하게 되자 성몽룡을 이몽룡으로 바꾸고, 성씨(姓氏)가 없던 기생인 춘향에게 성씨 성을 붙여서 시연하게 된다.\\n1616년(광해군 8년) 그는 사마시 양시에 합격했는데 생원시에 합격하여 생원(生員)이 되고, 그 해에 다시 진사시에 합격하여 진사(進士)가 되었다. 그러나 광해군 때의 난세에는 벼슬길에 나아가지 않았다.\\n관료 생활.\\n과거 급제와 관료생활.\\n1627년 (인조5년)에 식년 문과에 병과로 급제하였다.\\n1635년(인조 13) 성이성은 사간원 정언이 되고 홍문관 부수찬·부교리를 거쳐 1636년 사헌부지평이 되었다. 1637년(인조 15) 호서(湖西) 지방의 암행어사로 파견되었다가 돌아왔다. 그해 성이성은 사간원 헌납이 되어 공신이며 서인당의 고관인 윤방(尹昉)·김류(金류)·심기원(沈器遠)·김자점(金自點) 등을 탄핵하여 왕을 잘못된 길로 인도했다며 오국불충(誤國不忠)의 죄를 논하기도 했다.\\n암행어사 활동.\\n1639년(인조 17) 호남(湖南) 지방 암행어사에 임명되어 5년간 호남 지역을 순찰하고 1644년(인조 22) 되돌아왔가. 그 뒤 1647년(인조 25) 다시 호남 암행어사 로 파견되었다.\\n그러나 호남 암행어사로 부임했을 때 신분을 노출시키고 마는데 성이성은 암행을 하고 다니다가 1647년 11월 25일 순천에서 실수로 부득이 자신의 신분을 드러내고 이후에는 한양으로 돌아오게 되는데, 그는 일기에 돌아오는 길이던 12월 1일 남원에 들렀다고 적고 있다.\\n생애 후반.\\n1648년 여름 성이성은 전라도 담양군수로 부임해 장마철 강둑이 범람해 피해가 큰 것을 보고 2년에 걸쳐 제방을 쌓고 그 위에 나무를 심었다. 현재 관방제림으로 불리는 숲이 그가 남긴 치세의 흔적이다. 푸조나무 느티나무 팽나무 등 184그루가 전한다. 본디 제방에 나무를 심으면 나무가 바람에 흔들릴 때 제방에 해롭다 하여 심지 않았는데 성이성은 비바람에 강한 토종나무를 골라 심음으로써 이같은 상식을 엎었다. 담양군은 현재 관방제림에 산책로를 조성하여 관광객들의 발길을 모으고 있다.\\n외직으로는 진주부사 · 강계부사 등 네 고을을 다스렸는데, 진주부사로 재직할 때는 서인 출신으로 경상도 암행어사로 파견된 민정중(閔鼎重)이 조사하여 그의 선치(善治)를 보고하여 특별히 왕으로부터 표리(表裏, 옷감)를 받았고, 강계부사 때에는 여진족 등의 약탈과 흉년 등으로 어려움에 처한 부민들에게 삼세(蔘稅)를 모두 면제해주어 백성들이 기뻐하였으며 부처가 환생하여 돌아왔다며 '생불' 또는 '관서활불'(關西活佛)이라며 칭송하였다. 1664년(현종 15)에 향년 70세를 일기로 사망했다.\\n사후.\\n고향인 봉화군 물야면 가평 1리에는 성이성을 추모하는 사당인 계서당이 건립되었다. 사후인 1695년(숙종 21) 청렴함을 인정받아 조정으로부터 청백리로 선출되었다. 증 통정대부 부제학에 추증되었다. 저서로는 &lt;계서유고&gt;가 있다.\\n귀신 문제 해결.\\n전라도 지역에 귀신이 자주 출몰한다는 곳이 있었다. 그 곳은 상인이나 과거 시험을 보러 가던 선비들이 여러 번 변을 당했는데, 성이성이 이 문제를 해결하였다 한다. 호남 암행어사가 돼서 호남 지역의 귀신이 많이 나오는 곳을 찾아가 억울함을 달래주고 문제를 해결하였고 이것 역시 입에서 입으로 전해져 설화가 되었다.\\n부패 관리 파직.\\n충청도 암행어사 시절 지방관리의 잘못을 발견하고 어떻게 처리했는가를 인조에게 보고한 '서계'가 남아있었는데 KBS 방송국이 이를 취재하였다.를 보면 세금을 과다징수한 진천현감과 생일날 과다한 잔치를 벌이고 국법을 어긴 석성현감을 적발하여 파직시켰다는 기록이 있다.\\n춘향전.\\n춘향전.\\n그는 아버지인 남원부사 성안의가 부임할 때, 아버지의 임지를 따라 남원에서 생활하다 우연히 남원 기생 춘향을 만나게 되었다. 그러나 춘향과는 이루어지지 못했고, 이는 바로 춘향전의 모티브가 되었다. 뒤에 호남 암행어사로 부임했다가 신분을 노출하고 되돌아갈 때 남원에 들렀다. 늙은기생 여진이 찾아와 만났는데, 그는 춘향을 찾았다 한다. 그러나 그는 춘향을 만날 수 없었다.\\n‘서리와 함께 난간에 앉으니 눈빛이 뜰에 하얗게 깔려있고 대나무숲이 희었다. 나는 소년시절의 일을 생각하여 밤늦도록 잠들지 못했다.’\\n춘향전은 판소리, 연극, 소설의 소재가 되었으나 양반가 자제의 스캔들이라 하여, 조정에서는 양반가의 위신을 떨어뜨린다며 춘향전의 상영을 금지하였다. 할 수 없이 민중들은 성몽룡 대신 이몽룡으로 성을 바꾸어서 연극과 판소리, 소설, 구전 등으로 전하였다.\\n금준미주 천인혈.\\n춘향전에 나오는 금준미주 천인혈은 성이성이 지은 시 중의 하나였다. 성이성이 춘향전에 나오는 성몽룡처럼 변사또를 응징한 남원 출두 기록은 실록이나 문집에는 없다. 그러나 춘향전에 나오는 잔치연에서 이몽룡이 변학도를 질타하면서 읊은 금준미주 천인혈 로 시작되는 시조는 성이성이 짓고, 읊었다. 이는 성이성의 4대손 성섭의 저서 &lt;교와문고&gt;와 그의 스승 조경남이 쓴 &lt;난중잡록&gt;에 그의 작품으로 기록되어 있다.\\n호남 암행어사가 되었을때에 호남 12고을 군수, 현감들이 잔치를 베풀었다. 이때 성이성은 암행어사가 걸인의 행색을 하고서 연회장에 나타났다. 호남의 12고을의 군수, 현감들은 그를 조롱하며 '그대가 시를 지으면 종일토록 놀고 짓지 못하면 가라.'고 했고, 그는 즉석에서 금준미주 천인혈 을 짓는다. 이어 전라도내 6명의 부패한 수령들을 봉고파직시킨다. 석성현감이 생일날 과다한 잔치를 벌인 것은 춘향전에 등장하는 변사또의 모티브가 되었다.\", 'split': 'train', 'filename': 'wiki_23'}\n"
     ]
    },
    {
     "name": "stderr",
     "output_type": "stream",
     "text": [
      "INFO:ekorpkit.datasets.build: >> elapsed time to load and parse data: 0:00:10.173167\n",
      "INFO:ekorpkit.datasets.build:\n",
      "Transforming dataframe with pipeline: ['reset_index', 'save_metadata']\n",
      "INFO:ekorpkit.pipelines.pipe:Applying pipeline: OrderedDict([('reset_index', 'reset_index'), ('save_metadata', 'save_metadata')])\n",
      "INFO:ekorpkit.base:Applying pipe: functools.partial(<function reset_index at 0x7fce771d3ca0>)\n",
      "INFO:ekorpkit.pipelines.pipe:Resetting index: {'_func_': {'_partial_': True, '_target_': 'ekorpkit.pipelines.pipe.reset_index'}, 'index_column_name': 'id', 'drop_index': False, 'verbose': True}\n",
      "INFO:ekorpkit.base:Applying pipe: functools.partial(<function save_metadata at 0x7fce771d35e0>)\n",
      "INFO:ekorpkit.pipelines.pipe:Saving metadata: {'_func_': {'_partial_': True, '_target_': 'ekorpkit.pipelines.pipe.save_metadata'}, 'path': {'root': '/content/drive/MyDrive/workspace/data/ekorpkit-book', 'name': 'ekorpkit-book', 'cached_path': None, 'filetype': None, 'verbose': True, 'data_dir': '/content/drive/MyDrive/workspace/data/ekorpkit-book', 'data_file': None, 'concat_data': False, 'data_columns': None, 'columns': None, 'output_dir': None, 'output_file': None, 'suffix': None, 'output': {'filename': 'meta-kowiki-train.parquet', 'base_dir': '/content/drive/MyDrive/workspace/data/datasets/corpus/kowiki', 'filetype': '.parquet', 'suffix': None, 'filepath': '/content/drive/MyDrive/workspace/data/datasets/corpus/kowiki/meta-kowiki-train.parquet', 'columns': None, 'verbose': True}}, 'filepath': None, 'filetype': None, 'column_info': {'columns': {'id': 'id', 'text': 'text', 'merge_meta_on': 'id', 'timestamp': None}, 'datetime': {'columns': None, 'format': None, 'rcParams': None}, 'timestamp': {'key': None, 'format': None, 'rcParams': None}, 'data': {'id': 'int', 'text': 'str'}, 'meta': {'id': 'int', 'curid': 'str', 'url': 'str', 'title': 'str'}, 'segment_separator': '\\\\n\\\\n', 'sentence_separator': '\\\\n'}, 'split_name': 'train', 'verbose': True}\n",
      "INFO:ekorpkit.io.file:Saving dataframe to /content/drive/MyDrive/workspace/data/datasets/corpus/kowiki/meta-kowiki-train.parquet\n"
     ]
    },
    {
     "name": "stdout",
     "output_type": "stream",
     "text": [
      "    curid                                         url title  \\\n",
      "0  634327  https://ko.wikipedia.org/wiki?curid=634327   성이성   \n",
      "1  634328  https://ko.wikipedia.org/wiki?curid=634328    누타   \n",
      "2  634329  https://ko.wikipedia.org/wiki?curid=634329  공중그네   \n",
      "3  634331  https://ko.wikipedia.org/wiki?curid=634331   성몽룡   \n",
      "4  634332  https://ko.wikipedia.org/wiki?curid=634332    계서   \n",
      "\n",
      "                                                text  split filename  \n",
      "0  성이성(成以性, 1595년(선조 28년) ∼ 1664년(현종 5년))은 조선 후기의...  train  wiki_23  \n",
      "1  누타(ぬた)는 잘게 썬 생선이나 조개를 파, 채소, 미역과 함께 초된장으로 무친 요...  train  wiki_23  \n",
      "2                         공중그네(空中-)는 서커스의 기술 중 하나이다.  train  wiki_23  \n",
      "3                                                     train  wiki_23  \n",
      "4                                                     train  wiki_23  \n",
      "(1339048, 6)\n",
      "   id   curid                                         url title  \\\n",
      "0   0  634327  https://ko.wikipedia.org/wiki?curid=634327   성이성   \n",
      "1   1  634328  https://ko.wikipedia.org/wiki?curid=634328    누타   \n",
      "2   2  634329  https://ko.wikipedia.org/wiki?curid=634329  공중그네   \n",
      "3   3  634331  https://ko.wikipedia.org/wiki?curid=634331   성몽룡   \n",
      "4   4  634332  https://ko.wikipedia.org/wiki?curid=634332    계서   \n",
      "\n",
      "                                                text  split filename  \n",
      "0  성이성(成以性, 1595년(선조 28년) ∼ 1664년(현종 5년))은 조선 후기의...  train  wiki_23  \n",
      "1  누타(ぬた)는 잘게 썬 생선이나 조개를 파, 채소, 미역과 함께 초된장으로 무친 요...  train  wiki_23  \n",
      "2                         공중그네(空中-)는 서커스의 기술 중 하나이다.  train  wiki_23  \n",
      "3                                                     train  wiki_23  \n",
      "4                                                     train  wiki_23  \n"
     ]
    },
    {
     "name": "stderr",
     "output_type": "stream",
     "text": [
      "INFO:ekorpkit.io.file: >> elapsed time to save data: 0:00:05.303806\n",
      "INFO:ekorpkit.io.file:Saving dataframe to /content/drive/MyDrive/workspace/data/datasets/corpus/kowiki/kowiki-train.parquet\n",
      "INFO:ekorpkit.io.file: >> elapsed time to save data: 0:01:05.529620\n",
      "INFO:ekorpkit.info.stat:Initializing statistics for split: train with stats: {'name': 'train', 'dataset_name': 'kowiki', 'data_file': 'kowiki-train.parquet', 'meta_file': 'meta-kowiki-train.parquet'}\n",
      "INFO:ekorpkit.base:Using batcher with minibatch size: 1000\n",
      "INFO:ekorpkit.utils.batch.batcher: backend: joblib  minibatch_size: 1000  procs: 230  input_split: False  merge_output: True  len(data): 1339048 len(args): 5\n"
     ]
    },
    {
     "data": {
      "application/vnd.jupyter.widget-view+json": {
       "model_id": "0107206b43a242e0860b269af3744db2",
       "version_major": 2,
       "version_minor": 0
      },
      "text/plain": [
       "apply len_bytes to num_bytes:   0%|          | 0/1340 [00:00<?, ?it/s]"
      ]
     },
     "metadata": {},
     "output_type": "display_data"
    },
    {
     "name": "stderr",
     "output_type": "stream",
     "text": [
      "INFO:ekorpkit.base:Using batcher with minibatch size: 1000\n",
      "INFO:ekorpkit.utils.batch.batcher: backend: joblib  minibatch_size: 1000  procs: 230  input_split: False  merge_output: True  len(data): 1339048 len(args): 5\n"
     ]
    },
    {
     "data": {
      "application/vnd.jupyter.widget-view+json": {
       "model_id": "e2329cb71fac4097977c1d069d21d2df",
       "version_major": 2,
       "version_minor": 0
      },
      "text/plain": [
       "apply len_sents to num_sents:   0%|          | 0/1340 [00:00<?, ?it/s]"
      ]
     },
     "metadata": {},
     "output_type": "display_data"
    },
    {
     "name": "stderr",
     "output_type": "stream",
     "text": [
      "INFO:ekorpkit.info.stat: >> elapsed time to calculate statistics before processing: 0:00:32.387224\n",
      "INFO:ekorpkit.info.stat: >> updated splits: {'train': {'name': 'train', 'dataset_name': 'kowiki', 'data_file': 'kowiki-train.parquet', 'meta_file': 'meta-kowiki-train.parquet', 'num_docs_before_processing': 1339048, 'num_bytes_before_processing': 801994255, 'num_sents': 3829874}}\n",
      "INFO:ekorpkit.datasets.build:\n",
      "Processing dataframe with pipeline: ['normalize', 'segment', 'filter_length', 'drop_duplicates', 'save_samples']\n",
      "INFO:ekorpkit.pipelines.pipe:Applying pipeline: OrderedDict([('normalize', 'normalize'), ('segment', 'segment'), ('filter_length', 'filter_length'), ('drop_duplicates', 'drop_duplicates'), ('save_samples', 'save_samples')])\n",
      "INFO:ekorpkit.base:Applying pipe: functools.partial(<function normalize at 0x7fce771d3ee0>)\n",
      "INFO:ekorpkit.pipelines.pipe:instantiating normalizer\n",
      "INFO:ekorpkit.base:Using batcher with minibatch size: 1000\n",
      "INFO:ekorpkit.utils.batch.batcher: backend: joblib  minibatch_size: 1000  procs: 230  input_split: False  merge_output: True  len(data): 1339048 len(args): 5\n"
     ]
    },
    {
     "data": {
      "application/vnd.jupyter.widget-view+json": {
       "model_id": "fc296ed35a05411187778930cd58d827",
       "version_major": 2,
       "version_minor": 0
      },
      "text/plain": [
       "Normalizing column: text:   0%|          | 0/1340 [00:00<?, ?it/s]"
      ]
     },
     "metadata": {},
     "output_type": "display_data"
    },
    {
     "name": "stderr",
     "output_type": "stream",
     "text": [
      "INFO:ekorpkit.pipelines.pipe: >> elapsed time to normalize: 0:00:18.489442\n",
      "INFO:ekorpkit.base:Applying pipe: functools.partial(<function segment at 0x7fce771d30d0>)\n",
      "INFO:ekorpkit.pipelines.pipe:instantiating segmenter\n",
      "INFO:ekorpkit.base:instantiating ekorpkit.preprocessors.segmenter.KSSSegmenter...\n",
      "INFO:ekorpkit.base:Using batcher with minibatch size: 1000\n",
      "INFO:ekorpkit.utils.batch.batcher: backend: joblib  minibatch_size: 1000  procs: 50  input_split: False  merge_output: True  len(data): 1339048 len(args): 5\n"
     ]
    },
    {
     "data": {
      "application/vnd.jupyter.widget-view+json": {
       "model_id": "47e837cae0e84fd3afbde18d29b8d325",
       "version_major": 2,
       "version_minor": 0
      },
      "text/plain": [
       "Splitting column: text:   0%|          | 0/1340 [00:00<?, ?it/s]"
      ]
     },
     "metadata": {},
     "output_type": "display_data"
    },
    {
     "name": "stderr",
     "output_type": "stream",
     "text": [
      "INFO:ekorpkit.pipelines.pipe: >> elapsed time to segment: 0:26:43.238374\n",
      "INFO:ekorpkit.base:Applying pipe: functools.partial(<function filter_length at 0x7fce771d3280>, len_bytes={'_partial_': True, '_target_': 'ekorpkit.utils.func.len_bytes'}, len_words={'_partial_': True, '_target_': 'ekorpkit.utils.func.len_words'})\n",
      "INFO:ekorpkit.pipelines.pipe:Filtering by length: {'_func_': {'_partial_': True, '_target_': 'ekorpkit.pipelines.pipe.filter_length', 'len_bytes': {'_partial_': True, '_target_': 'ekorpkit.utils.func.len_bytes'}, 'len_words': {'_partial_': True, '_target_': 'ekorpkit.utils.func.len_words'}}, 'apply_to': 'text', 'min_length': 30, 'max_length': None, 'len_func': 'len_bytes', 'len_column': 'num_bytes', 'add_len_column': True, 'verbose': True, 'use_batcher': True}\n",
      "INFO:ekorpkit.base:Using batcher with minibatch size: 1000\n",
      "INFO:ekorpkit.utils.batch.batcher: backend: joblib  minibatch_size: 1000  procs: 50  input_split: False  merge_output: True  len(data): 1339048 len(args): 5\n"
     ]
    },
    {
     "data": {
      "application/vnd.jupyter.widget-view+json": {
       "model_id": "8224db593bbd4df298f7e3b21aabe851",
       "version_major": 2,
       "version_minor": 0
      },
      "text/plain": [
       "Calculating length:   0%|          | 0/1340 [00:00<?, ?it/s]"
      ]
     },
     "metadata": {},
     "output_type": "display_data"
    },
    {
     "name": "stderr",
     "output_type": "stream",
     "text": [
      "INFO:ekorpkit.pipelines.pipe:removed 736936 of 1339048 documents with length < 30\n",
      "INFO:ekorpkit.pipelines.pipe: >> elapsed time to filter length: 0:00:03.079006\n",
      "INFO:ekorpkit.base:Applying pipe: functools.partial(<function drop_duplicates at 0x7fce771d34c0>)\n",
      "INFO:ekorpkit.pipelines.pipe:Dropping duplicates: {'_func_': {'_partial_': True, '_target_': 'ekorpkit.pipelines.pipe.drop_duplicates'}, 'apply_to': 'text', 'verbose': True}\n",
      "INFO:ekorpkit.pipelines.pipe:601641 documents after dropping 471 duplicates from [['text']]\n",
      "INFO:ekorpkit.pipelines.pipe: >> elapsed time to drop duplicates: 0:00:01.811704\n",
      "INFO:ekorpkit.base:Applying pipe: functools.partial(<function save_samples at 0x7fce771d3790>)\n",
      "INFO:ekorpkit.pipelines.pipe:Saving samples: {'_func_': {'_partial_': True, '_target_': 'ekorpkit.pipelines.pipe.save_samples'}, 'path': {'root': '/content/drive/MyDrive/workspace/data/ekorpkit-book', 'name': 'ekorpkit-book', 'cached_path': None, 'filetype': '', 'verbose': True, 'data_dir': '/content/drive/MyDrive/workspace/data/ekorpkit-book', 'data_file': None, 'concat_data': False, 'data_columns': None, 'columns': None, 'output_dir': None, 'output_file': None, 'suffix': None, 'output': {'filename': 'sample-kowiki-train.txt', 'base_dir': '/content/drive/MyDrive/workspace/data/datasets/corpus/kowiki', 'filetype': '.txt', 'suffix': None, 'filepath': '/content/drive/MyDrive/workspace/data/datasets/corpus/kowiki/sample-kowiki-train.txt', 'columns': None, 'verbose': True}}, 'apply_to': 'text', 'num_samples_to_save': 2, 'output_file': None, 'sample_length_to_print': 1000, 'verbose': True}\n",
      "INFO:ekorpkit.pipelines.pipe:Saved 2 samples to /content/drive/MyDrive/workspace/data/datasets/corpus/kowiki/sample-kowiki-train.txt\n",
      "INFO:ekorpkit.info.stat:Calculating statistics for split: train\n",
      "INFO:ekorpkit.base:Using batcher with minibatch size: 1000\n",
      "INFO:ekorpkit.utils.batch.batcher: backend: joblib  minibatch_size: 1000  procs: 50  input_split: False  merge_output: True  len(data): 601641 len(args): 5\n"
     ]
    },
    {
     "name": "stdout",
     "output_type": "stream",
     "text": [
      "----------------------------------------------------------------------------------------------------\n",
      "\n",
      "text: \n",
      "《그랜드 점프》(, )는 슈에이샤가 발행하는 일본의 소년 만화 잡지이다.\n",
      "\n",
      "----------------------------------------------------------------------------------------------------\n",
      "text: \n",
      "레이크파크()는 다음과 같은 뜻이 있다.\n",
      "\n",
      "----------------------------------------------------------------------------------------------------\n"
     ]
    },
    {
     "data": {
      "application/vnd.jupyter.widget-view+json": {
       "model_id": "9ad1bd2f771c422593c6806a64b1e700",
       "version_major": 2,
       "version_minor": 0
      },
      "text/plain": [
       "apply len_bytes to num_bytes:   0%|          | 0/602 [00:00<?, ?it/s]"
      ]
     },
     "metadata": {},
     "output_type": "display_data"
    },
    {
     "name": "stderr",
     "output_type": "stream",
     "text": [
      "INFO:ekorpkit.base:Using batcher with minibatch size: 1000\n",
      "INFO:ekorpkit.utils.batch.batcher: backend: joblib  minibatch_size: 1000  procs: 50  input_split: False  merge_output: True  len(data): 601641 len(args): 5\n"
     ]
    },
    {
     "data": {
      "application/vnd.jupyter.widget-view+json": {
       "model_id": "5c7df22e54b747f2a5b30a34ac406a40",
       "version_major": 2,
       "version_minor": 0
      },
      "text/plain": [
       "apply len_wospc to num_bytes_wospc:   0%|          | 0/602 [00:00<?, ?it/s]"
      ]
     },
     "metadata": {},
     "output_type": "display_data"
    },
    {
     "name": "stderr",
     "output_type": "stream",
     "text": [
      "INFO:ekorpkit.base:Using batcher with minibatch size: 1000\n",
      "INFO:ekorpkit.utils.batch.batcher: backend: joblib  minibatch_size: 1000  procs: 50  input_split: False  merge_output: True  len(data): 601641 len(args): 5\n"
     ]
    },
    {
     "data": {
      "application/vnd.jupyter.widget-view+json": {
       "model_id": "680500c65fed4751afcc3b87c322d043",
       "version_major": 2,
       "version_minor": 0
      },
      "text/plain": [
       "apply len_words to num_words:   0%|          | 0/602 [00:00<?, ?it/s]"
      ]
     },
     "metadata": {},
     "output_type": "display_data"
    },
    {
     "name": "stderr",
     "output_type": "stream",
     "text": [
      "INFO:ekorpkit.base:Using batcher with minibatch size: 1000\n",
      "INFO:ekorpkit.utils.batch.batcher: backend: joblib  minibatch_size: 1000  procs: 50  input_split: False  merge_output: True  len(data): 601641 len(args): 5\n"
     ]
    },
    {
     "data": {
      "application/vnd.jupyter.widget-view+json": {
       "model_id": "f7f4538e02534ec199de2601c80d8905",
       "version_major": 2,
       "version_minor": 0
      },
      "text/plain": [
       "apply len_sents to num_sents:   0%|          | 0/602 [00:00<?, ?it/s]"
      ]
     },
     "metadata": {},
     "output_type": "display_data"
    },
    {
     "name": "stderr",
     "output_type": "stream",
     "text": [
      "INFO:ekorpkit.base:Using batcher with minibatch size: 1000\n",
      "INFO:ekorpkit.utils.batch.batcher: backend: joblib  minibatch_size: 1000  procs: 50  input_split: False  merge_output: True  len(data): 601641 len(args): 5\n"
     ]
    },
    {
     "data": {
      "application/vnd.jupyter.widget-view+json": {
       "model_id": "fe77ec00d0ec483ebc484896f7f5f9b5",
       "version_major": 2,
       "version_minor": 0
      },
      "text/plain": [
       "apply len_segments to num_segments:   0%|          | 0/602 [00:00<?, ?it/s]"
      ]
     },
     "metadata": {},
     "output_type": "display_data"
    },
    {
     "name": "stderr",
     "output_type": "stream",
     "text": [
      "INFO:ekorpkit.info.stat: >> elapsed time to calculate statistics: 0:00:07.233255\n",
      "INFO:ekorpkit.info.stat:Saving updated info file: /content/drive/MyDrive/workspace/data/datasets/corpus/kowiki/info-kowiki.yaml\n",
      "INFO:ekorpkit.datasets.build:\n",
      "Corpus [kowiki] is built to [/content/drive/MyDrive/workspace/data/datasets/corpus/kowiki] from [/content/drive/MyDrive/workspace/data/archive/datasets/source/kowiki]\n"
     ]
    },
    {
     "name": "stdout",
     "output_type": "stream",
     "text": [
      "{'category': 'formal',\n",
      " 'column_info': {'columns': {'id': 'id',\n",
      "                             'merge_meta_on': 'id',\n",
      "                             'text': 'text',\n",
      "                             'timestamp': None},\n",
      "                 'data': {'id': 'int', 'text': 'str'},\n",
      "                 'datetime': {'columns': None,\n",
      "                              'format': None,\n",
      "                              'rcParams': None},\n",
      "                 'meta': {'curid': 'str',\n",
      "                          'id': 'int',\n",
      "                          'title': 'str',\n",
      "                          'url': 'str'},\n",
      "                 'segment_separator': '\\\\n\\\\n',\n",
      "                 'sentence_separator': '\\\\n',\n",
      "                 'timestamp': {'format': None, 'key': None, 'rcParams': None}},\n",
      " 'data_files': {'train': 'kowiki-train.parquet'},\n",
      " 'data_files_modified': '2022-10-29 06:30:41',\n",
      " 'description': '위키백과, 우리 모두의 백과사전',\n",
      " 'fullname': 'Korean Wikipedia Corpus',\n",
      " 'homepage': 'https://ko.wikipedia.org',\n",
      " 'info_updated': '2022-10-29 06:58:28',\n",
      " 'lang': 'ko',\n",
      " 'license': 'CC Attribution / Share-Alike 3.0',\n",
      " 'meta_files': {'train': 'meta-kowiki-train.parquet'},\n",
      " 'meta_files_modified': '2022-10-29 06:29:35',\n",
      " 'name': 'kowiki',\n",
      " 'num_bytes_before_processing': 801994255,\n",
      " 'num_docs': 601641,\n",
      " 'num_docs_before_processing': 1339048,\n",
      " 'num_segments': 601727,\n",
      " 'num_sents': 6064076,\n",
      " 'num_words': 74965324,\n",
      " 'size_in_bytes': 800672700,\n",
      " 'size_in_human_bytes': '763.58 MiB',\n",
      " 'splits': {'train': {'data_file': 'kowiki-train.parquet',\n",
      "                      'dataset_name': 'kowiki',\n",
      "                      'human_bytes': '763.58 MiB',\n",
      "                      'human_bytes_wospc': '692.66 MiB',\n",
      "                      'meta_file': 'meta-kowiki-train.parquet',\n",
      "                      'name': 'train',\n",
      "                      'num_bytes': 800672700,\n",
      "                      'num_bytes_before_processing': 801994255,\n",
      "                      'num_bytes_max': 417935,\n",
      "                      'num_bytes_median': 348.0,\n",
      "                      'num_bytes_min': 30,\n",
      "                      'num_bytes_wospc': 726308931,\n",
      "                      'num_docs': 601641,\n",
      "                      'num_docs_before_processing': 1339048,\n",
      "                      'num_segments': 601727,\n",
      "                      'num_segments_median': 1.0,\n",
      "                      'num_sents': 6064076,\n",
      "                      'num_sents_median': 3.0,\n",
      "                      'num_words': 74965324,\n",
      "                      'num_words_max': 35733,\n",
      "                      'num_words_median': 32.0,\n",
      "                      'num_words_min': 1}},\n",
      " 'version': '1.0.0'}\n"
     ]
    }
   ],
   "source": [
    "cfg = eKonf.compose('corpus/builtin=kowiki')\n",
    "cfg.io.fetcher = wiki_cfg\n",
    "cfg.io.loader.data_dir = wiki_cfg.output_dir\n",
    "cfg.verbose = True\n",
    "cfg.num_workers = 50\n",
    "# eKonf.print(cfg.io)\n",
    "db = eKonf.instantiate(cfg)"
   ]
  },
  {
   "cell_type": "markdown",
   "metadata": {},
   "source": [
    "### Build the English Wikipedia Corpus"
   ]
  },
  {
   "cell_type": "code",
   "execution_count": 8,
   "metadata": {},
   "outputs": [
    {
     "name": "stderr",
     "output_type": "stream",
     "text": [
      "INFO:ekorpkit.base:instantiating ekorpkit.datasets.build.DatasetBuilder...\n",
      "INFO:ekorpkit.base:instantiating ekorpkit.io.fetch.loader.wiki.Wiki...\n"
     ]
    },
    {
     "data": {
      "application/vnd.jupyter.widget-view+json": {
       "model_id": "c277d7ad202e4f30ae37542969cc47b4",
       "version_major": 2,
       "version_minor": 0
      },
      "text/plain": [
       "[enwiki.xml.bz2] download enwiki.xml.bz2: 0.00B [00:00, ?B/s]"
      ]
     },
     "metadata": {},
     "output_type": "display_data"
    },
    {
     "name": "stderr",
     "output_type": "stream",
     "text": [
      "INFO: Preprocessing '/content/drive/MyDrive/workspace/.cache/corpus/enwiki/enwiki.xml.bz2' to collect template definitions: this may take some time.\n",
      "INFO: Preprocessed 100000 pages\n"
     ]
    }
   ],
   "source": [
    "cfg = eKonf.compose('corpus/builtin=enwiki')\n",
    "cfg.verbose = True\n",
    "cfg.num_workers = 50\n",
    "db = eKonf.instantiate(cfg)"
   ]
  },
  {
   "cell_type": "markdown",
   "metadata": {
    "id": "tJpz9ehuPWeh"
   },
   "source": [
    "## Load the corpus"
   ]
  },
  {
   "cell_type": "code",
   "execution_count": 2,
   "metadata": {
    "colab": {
     "base_uri": "https://localhost:8080/"
    },
    "id": "iAc66OeiPWei",
    "outputId": "105cddaa-699e-4771-b01c-30067cec184f"
   },
   "outputs": [
    {
     "name": "stdout",
     "output_type": "stream",
     "text": [
      "Corpora\n",
      "----------\n",
      "bok_minutes\n",
      "fomc_minutes\n",
      "\n"
     ]
    }
   ],
   "source": [
    "cfg = eKonf.compose('corpus=corpora')\n",
    "cfg.name = ['bok_minutes', 'fomc_minutes']\n",
    "cfg.data_dir = '../data'\n",
    "cfg.auto.load = True\n",
    "crps = eKonf.instantiate(cfg)\n",
    "print(crps)"
   ]
  },
  {
   "cell_type": "code",
   "execution_count": 3,
   "metadata": {
    "colab": {
     "base_uri": "https://localhost:8080/",
     "height": 80
    },
    "id": "DZO0rgSLX2rP",
    "outputId": "6efb0dcf-ce49-4fae-b588-5a49d0817960"
   },
   "outputs": [
    {
     "data": {
      "text/html": [
       "<div>\n",
       "<style scoped>\n",
       "    .dataframe tbody tr th:only-of-type {\n",
       "        vertical-align: middle;\n",
       "    }\n",
       "\n",
       "    .dataframe tbody tr th {\n",
       "        vertical-align: top;\n",
       "    }\n",
       "\n",
       "    .dataframe thead th {\n",
       "        text-align: right;\n",
       "    }\n",
       "</style>\n",
       "<table border=\"1\" class=\"dataframe\">\n",
       "  <thead>\n",
       "    <tr style=\"text-align: right;\">\n",
       "      <th></th>\n",
       "      <th>id</th>\n",
       "      <th>text</th>\n",
       "      <th>split</th>\n",
       "    </tr>\n",
       "    <tr>\n",
       "      <th>index</th>\n",
       "      <th></th>\n",
       "      <th></th>\n",
       "      <th></th>\n",
       "    </tr>\n",
       "  </thead>\n",
       "  <tbody>\n",
       "    <tr>\n",
       "      <th>0</th>\n",
       "      <td>0</td>\n",
       "      <td>Economic Situation\\n일부 위원은 관련부서에서 지난 3\\/4분기 중 ...</td>\n",
       "      <td>train</td>\n",
       "    </tr>\n",
       "  </tbody>\n",
       "</table>\n",
       "</div>"
      ],
      "text/plain": [
       "       id                                               text  split\n",
       "index                                                              \n",
       "0       0  Economic Situation\\n일부 위원은 관련부서에서 지난 3\\/4분기 중 ...  train"
      ]
     },
     "execution_count": 3,
     "metadata": {},
     "output_type": "execute_result"
    }
   ],
   "source": [
    "crps['bok_minutes'].data"
   ]
  },
  {
   "cell_type": "code",
   "execution_count": 4,
   "metadata": {
    "colab": {
     "base_uri": "https://localhost:8080/",
     "height": 206
    },
    "id": "lGPnTMPpX4LB",
    "outputId": "b0a63238-8fca-4eb9-9c75-2f4e59d91a22"
   },
   "outputs": [
    {
     "data": {
      "text/html": [
       "<div>\n",
       "<style scoped>\n",
       "    .dataframe tbody tr th:only-of-type {\n",
       "        vertical-align: middle;\n",
       "    }\n",
       "\n",
       "    .dataframe tbody tr th {\n",
       "        vertical-align: top;\n",
       "    }\n",
       "\n",
       "    .dataframe thead th {\n",
       "        text-align: right;\n",
       "    }\n",
       "</style>\n",
       "<table border=\"1\" class=\"dataframe\">\n",
       "  <thead>\n",
       "    <tr style=\"text-align: right;\">\n",
       "      <th></th>\n",
       "      <th>id</th>\n",
       "      <th>text</th>\n",
       "      <th>content_type</th>\n",
       "      <th>split</th>\n",
       "    </tr>\n",
       "    <tr>\n",
       "      <th>index</th>\n",
       "      <th></th>\n",
       "      <th></th>\n",
       "      <th></th>\n",
       "      <th></th>\n",
       "    </tr>\n",
       "  </thead>\n",
       "  <tbody>\n",
       "    <tr>\n",
       "      <th>0</th>\n",
       "      <td>0</td>\n",
       "      <td>A meeting of the Federal Open Market Committee...</td>\n",
       "      <td>fomc_minutes</td>\n",
       "      <td>train</td>\n",
       "    </tr>\n",
       "    <tr>\n",
       "      <th>1</th>\n",
       "      <td>1</td>\n",
       "      <td>A meeting of the Federal Open Market Committee...</td>\n",
       "      <td>fomc_minutes</td>\n",
       "      <td>train</td>\n",
       "    </tr>\n",
       "    <tr>\n",
       "      <th>2</th>\n",
       "      <td>2</td>\n",
       "      <td>A meeting of the Federal Open Market Committee...</td>\n",
       "      <td>fomc_minutes</td>\n",
       "      <td>train</td>\n",
       "    </tr>\n",
       "    <tr>\n",
       "      <th>3</th>\n",
       "      <td>3</td>\n",
       "      <td>A meeting of the Federal Open Market Committee...</td>\n",
       "      <td>fomc_minutes</td>\n",
       "      <td>train</td>\n",
       "    </tr>\n",
       "    <tr>\n",
       "      <th>4</th>\n",
       "      <td>4</td>\n",
       "      <td>A meeting of the Federal Open Market Committee...</td>\n",
       "      <td>fomc_minutes</td>\n",
       "      <td>train</td>\n",
       "    </tr>\n",
       "  </tbody>\n",
       "</table>\n",
       "</div>"
      ],
      "text/plain": [
       "       id                                               text  content_type  \\\n",
       "index                                                                        \n",
       "0       0  A meeting of the Federal Open Market Committee...  fomc_minutes   \n",
       "1       1  A meeting of the Federal Open Market Committee...  fomc_minutes   \n",
       "2       2  A meeting of the Federal Open Market Committee...  fomc_minutes   \n",
       "3       3  A meeting of the Federal Open Market Committee...  fomc_minutes   \n",
       "4       4  A meeting of the Federal Open Market Committee...  fomc_minutes   \n",
       "\n",
       "       split  \n",
       "index         \n",
       "0      train  \n",
       "1      train  \n",
       "2      train  \n",
       "3      train  \n",
       "4      train  "
      ]
     },
     "execution_count": 4,
     "metadata": {},
     "output_type": "execute_result"
    }
   ],
   "source": [
    "crps['fomc_minutes'].data"
   ]
  },
  {
   "cell_type": "code",
   "execution_count": 5,
   "metadata": {
    "id": "YKcqI8eBPWej"
   },
   "outputs": [],
   "source": [
    "crps.concat_corpora()"
   ]
  },
  {
   "cell_type": "code",
   "execution_count": 6,
   "metadata": {
    "colab": {
     "base_uri": "https://localhost:8080/",
     "height": 237
    },
    "id": "oCfyCzGuPWek",
    "outputId": "4b0c71c2-f2f6-464b-a99e-6ddd318194fb"
   },
   "outputs": [
    {
     "data": {
      "text/html": [
       "<div>\n",
       "<style scoped>\n",
       "    .dataframe tbody tr th:only-of-type {\n",
       "        vertical-align: middle;\n",
       "    }\n",
       "\n",
       "    .dataframe tbody tr th {\n",
       "        vertical-align: top;\n",
       "    }\n",
       "\n",
       "    .dataframe thead th {\n",
       "        text-align: right;\n",
       "    }\n",
       "</style>\n",
       "<table border=\"1\" class=\"dataframe\">\n",
       "  <thead>\n",
       "    <tr style=\"text-align: right;\">\n",
       "      <th></th>\n",
       "      <th>id</th>\n",
       "      <th>text</th>\n",
       "      <th>split</th>\n",
       "      <th>corpus</th>\n",
       "      <th>content_type</th>\n",
       "    </tr>\n",
       "  </thead>\n",
       "  <tbody>\n",
       "    <tr>\n",
       "      <th>0</th>\n",
       "      <td>0</td>\n",
       "      <td>Economic Situation\\n일부 위원은 관련부서에서 지난 3\\/4분기 중 ...</td>\n",
       "      <td>train</td>\n",
       "      <td>bok_minutes</td>\n",
       "      <td>NaN</td>\n",
       "    </tr>\n",
       "    <tr>\n",
       "      <th>1</th>\n",
       "      <td>0</td>\n",
       "      <td>A meeting of the Federal Open Market Committee...</td>\n",
       "      <td>train</td>\n",
       "      <td>fomc_minutes</td>\n",
       "      <td>fomc_minutes</td>\n",
       "    </tr>\n",
       "    <tr>\n",
       "      <th>2</th>\n",
       "      <td>1</td>\n",
       "      <td>A meeting of the Federal Open Market Committee...</td>\n",
       "      <td>train</td>\n",
       "      <td>fomc_minutes</td>\n",
       "      <td>fomc_minutes</td>\n",
       "    </tr>\n",
       "    <tr>\n",
       "      <th>3</th>\n",
       "      <td>2</td>\n",
       "      <td>A meeting of the Federal Open Market Committee...</td>\n",
       "      <td>train</td>\n",
       "      <td>fomc_minutes</td>\n",
       "      <td>fomc_minutes</td>\n",
       "    </tr>\n",
       "    <tr>\n",
       "      <th>4</th>\n",
       "      <td>3</td>\n",
       "      <td>A meeting of the Federal Open Market Committee...</td>\n",
       "      <td>train</td>\n",
       "      <td>fomc_minutes</td>\n",
       "      <td>fomc_minutes</td>\n",
       "    </tr>\n",
       "    <tr>\n",
       "      <th>5</th>\n",
       "      <td>4</td>\n",
       "      <td>A meeting of the Federal Open Market Committee...</td>\n",
       "      <td>train</td>\n",
       "      <td>fomc_minutes</td>\n",
       "      <td>fomc_minutes</td>\n",
       "    </tr>\n",
       "  </tbody>\n",
       "</table>\n",
       "</div>"
      ],
      "text/plain": [
       "   id                                               text  split        corpus  \\\n",
       "0   0  Economic Situation\\n일부 위원은 관련부서에서 지난 3\\/4분기 중 ...  train   bok_minutes   \n",
       "1   0  A meeting of the Federal Open Market Committee...  train  fomc_minutes   \n",
       "2   1  A meeting of the Federal Open Market Committee...  train  fomc_minutes   \n",
       "3   2  A meeting of the Federal Open Market Committee...  train  fomc_minutes   \n",
       "4   3  A meeting of the Federal Open Market Committee...  train  fomc_minutes   \n",
       "5   4  A meeting of the Federal Open Market Committee...  train  fomc_minutes   \n",
       "\n",
       "   content_type  \n",
       "0           NaN  \n",
       "1  fomc_minutes  \n",
       "2  fomc_minutes  \n",
       "3  fomc_minutes  \n",
       "4  fomc_minutes  \n",
       "5  fomc_minutes  "
      ]
     },
     "execution_count": 6,
     "metadata": {},
     "output_type": "execute_result"
    }
   ],
   "source": [
    "crps.data"
   ]
  },
  {
   "cell_type": "code",
   "execution_count": 7,
   "metadata": {
    "colab": {
     "base_uri": "https://localhost:8080/",
     "height": 385
    },
    "id": "4DtB1ZY0PWek",
    "outputId": "278c5b8e-37ff-4e5b-f9e4-56f71392a45b"
   },
   "outputs": [
    {
     "data": {
      "text/html": [
       "<div>\n",
       "<style scoped>\n",
       "    .dataframe tbody tr th:only-of-type {\n",
       "        vertical-align: middle;\n",
       "    }\n",
       "\n",
       "    .dataframe tbody tr th {\n",
       "        vertical-align: top;\n",
       "    }\n",
       "\n",
       "    .dataframe thead th {\n",
       "        text-align: right;\n",
       "    }\n",
       "</style>\n",
       "<table border=\"1\" class=\"dataframe\">\n",
       "  <thead>\n",
       "    <tr style=\"text-align: right;\">\n",
       "      <th></th>\n",
       "      <th>id</th>\n",
       "      <th>mdate</th>\n",
       "      <th>rdate</th>\n",
       "      <th>filename</th>\n",
       "      <th>split</th>\n",
       "      <th>corpus</th>\n",
       "      <th>date</th>\n",
       "      <th>speaker</th>\n",
       "      <th>title</th>\n",
       "    </tr>\n",
       "  </thead>\n",
       "  <tbody>\n",
       "    <tr>\n",
       "      <th>0</th>\n",
       "      <td>0</td>\n",
       "      <td>2018-11-30 10:00:00</td>\n",
       "      <td>2018-12-18 16:00:00</td>\n",
       "      <td>BOK_20181130_20181218</td>\n",
       "      <td>train</td>\n",
       "      <td>bok_minutes</td>\n",
       "      <td>NaN</td>\n",
       "      <td>NaN</td>\n",
       "      <td>NaN</td>\n",
       "    </tr>\n",
       "    <tr>\n",
       "      <th>1</th>\n",
       "      <td>0</td>\n",
       "      <td>NaN</td>\n",
       "      <td>NaN</td>\n",
       "      <td>NaN</td>\n",
       "      <td>train</td>\n",
       "      <td>fomc_minutes</td>\n",
       "      <td>1993-02-03</td>\n",
       "      <td>Alan Greenspan</td>\n",
       "      <td>FOMC Meeting Minutes</td>\n",
       "    </tr>\n",
       "    <tr>\n",
       "      <th>2</th>\n",
       "      <td>1</td>\n",
       "      <td>NaN</td>\n",
       "      <td>NaN</td>\n",
       "      <td>NaN</td>\n",
       "      <td>train</td>\n",
       "      <td>fomc_minutes</td>\n",
       "      <td>1993-03-23</td>\n",
       "      <td>Alan Greenspan</td>\n",
       "      <td>FOMC Meeting Minutes</td>\n",
       "    </tr>\n",
       "    <tr>\n",
       "      <th>3</th>\n",
       "      <td>2</td>\n",
       "      <td>NaN</td>\n",
       "      <td>NaN</td>\n",
       "      <td>NaN</td>\n",
       "      <td>train</td>\n",
       "      <td>fomc_minutes</td>\n",
       "      <td>1993-05-18</td>\n",
       "      <td>Alan Greenspan</td>\n",
       "      <td>FOMC Meeting Minutes</td>\n",
       "    </tr>\n",
       "    <tr>\n",
       "      <th>4</th>\n",
       "      <td>3</td>\n",
       "      <td>NaN</td>\n",
       "      <td>NaN</td>\n",
       "      <td>NaN</td>\n",
       "      <td>train</td>\n",
       "      <td>fomc_minutes</td>\n",
       "      <td>1993-07-07</td>\n",
       "      <td>Alan Greenspan</td>\n",
       "      <td>FOMC Meeting Minutes</td>\n",
       "    </tr>\n",
       "    <tr>\n",
       "      <th>5</th>\n",
       "      <td>4</td>\n",
       "      <td>NaN</td>\n",
       "      <td>NaN</td>\n",
       "      <td>NaN</td>\n",
       "      <td>train</td>\n",
       "      <td>fomc_minutes</td>\n",
       "      <td>1993-08-17</td>\n",
       "      <td>Alan Greenspan</td>\n",
       "      <td>FOMC Meeting Minutes</td>\n",
       "    </tr>\n",
       "  </tbody>\n",
       "</table>\n",
       "</div>"
      ],
      "text/plain": [
       "   id                mdate                rdate               filename  split  \\\n",
       "0   0  2018-11-30 10:00:00  2018-12-18 16:00:00  BOK_20181130_20181218  train   \n",
       "1   0                  NaN                  NaN                    NaN  train   \n",
       "2   1                  NaN                  NaN                    NaN  train   \n",
       "3   2                  NaN                  NaN                    NaN  train   \n",
       "4   3                  NaN                  NaN                    NaN  train   \n",
       "5   4                  NaN                  NaN                    NaN  train   \n",
       "\n",
       "         corpus        date         speaker                 title  \n",
       "0   bok_minutes         NaN             NaN                   NaN  \n",
       "1  fomc_minutes  1993-02-03  Alan Greenspan  FOMC Meeting Minutes  \n",
       "2  fomc_minutes  1993-03-23  Alan Greenspan  FOMC Meeting Minutes  \n",
       "3  fomc_minutes  1993-05-18  Alan Greenspan  FOMC Meeting Minutes  \n",
       "4  fomc_minutes  1993-07-07  Alan Greenspan  FOMC Meeting Minutes  \n",
       "5  fomc_minutes  1993-08-17  Alan Greenspan  FOMC Meeting Minutes  "
      ]
     },
     "execution_count": 7,
     "metadata": {},
     "output_type": "execute_result"
    }
   ],
   "source": [
    "crps.metadata"
   ]
  },
  {
   "cell_type": "markdown",
   "metadata": {
    "id": "zpdqyeyPPWek"
   },
   "source": [
    "## Instantiating a corpus"
   ]
  },
  {
   "cell_type": "code",
   "execution_count": 8,
   "metadata": {
    "colab": {
     "base_uri": "https://localhost:8080/"
    },
    "id": "DFsykazvPWel",
    "outputId": "7ab40ae7-42ba-4b6c-f0da-908c6d45ddb9"
   },
   "outputs": [
    {
     "name": "stdout",
     "output_type": "stream",
     "text": [
      "Corpus : bok_minutes\n"
     ]
    }
   ],
   "source": [
    "cfg = eKonf.compose('corpus')\n",
    "cfg.name = 'bok_minutes'\n",
    "cfg.data_dir = '../data'\n",
    "cfg.column_info.timestamp.key = 'mdate'\n",
    "crps = eKonf.instantiate(cfg)\n",
    "print(crps)"
   ]
  },
  {
   "cell_type": "code",
   "execution_count": 9,
   "metadata": {
    "colab": {
     "base_uri": "https://localhost:8080/",
     "height": 80
    },
    "id": "N2b2774dPWel",
    "outputId": "d3a3290a-3364-4fcd-c653-a47fa1cd3100"
   },
   "outputs": [
    {
     "data": {
      "text/html": [
       "<div>\n",
       "<style scoped>\n",
       "    .dataframe tbody tr th:only-of-type {\n",
       "        vertical-align: middle;\n",
       "    }\n",
       "\n",
       "    .dataframe tbody tr th {\n",
       "        vertical-align: top;\n",
       "    }\n",
       "\n",
       "    .dataframe thead th {\n",
       "        text-align: right;\n",
       "    }\n",
       "</style>\n",
       "<table border=\"1\" class=\"dataframe\">\n",
       "  <thead>\n",
       "    <tr style=\"text-align: right;\">\n",
       "      <th></th>\n",
       "      <th>id</th>\n",
       "      <th>text</th>\n",
       "      <th>split</th>\n",
       "    </tr>\n",
       "    <tr>\n",
       "      <th>index</th>\n",
       "      <th></th>\n",
       "      <th></th>\n",
       "      <th></th>\n",
       "    </tr>\n",
       "  </thead>\n",
       "  <tbody>\n",
       "    <tr>\n",
       "      <th>0</th>\n",
       "      <td>0</td>\n",
       "      <td>Economic Situation\\n일부 위원은 관련부서에서 지난 3\\/4분기 중 ...</td>\n",
       "      <td>train</td>\n",
       "    </tr>\n",
       "  </tbody>\n",
       "</table>\n",
       "</div>"
      ],
      "text/plain": [
       "       id                                               text  split\n",
       "index                                                              \n",
       "0       0  Economic Situation\\n일부 위원은 관련부서에서 지난 3\\/4분기 중 ...  train"
      ]
     },
     "execution_count": 9,
     "metadata": {},
     "output_type": "execute_result"
    }
   ],
   "source": [
    "crps.data"
   ]
  },
  {
   "cell_type": "code",
   "execution_count": 10,
   "metadata": {
    "colab": {
     "base_uri": "https://localhost:8080/",
     "height": 80
    },
    "id": "66U095XOPWel",
    "outputId": "df2c487f-8ca2-4963-fd8d-84de855d5e86"
   },
   "outputs": [
    {
     "data": {
      "text/html": [
       "<div>\n",
       "<style scoped>\n",
       "    .dataframe tbody tr th:only-of-type {\n",
       "        vertical-align: middle;\n",
       "    }\n",
       "\n",
       "    .dataframe tbody tr th {\n",
       "        vertical-align: top;\n",
       "    }\n",
       "\n",
       "    .dataframe thead th {\n",
       "        text-align: right;\n",
       "    }\n",
       "</style>\n",
       "<table border=\"1\" class=\"dataframe\">\n",
       "  <thead>\n",
       "    <tr style=\"text-align: right;\">\n",
       "      <th></th>\n",
       "      <th>id</th>\n",
       "      <th>mdate</th>\n",
       "      <th>rdate</th>\n",
       "      <th>filename</th>\n",
       "      <th>split</th>\n",
       "    </tr>\n",
       "  </thead>\n",
       "  <tbody>\n",
       "    <tr>\n",
       "      <th>0</th>\n",
       "      <td>0</td>\n",
       "      <td>2018-11-30 10:00:00</td>\n",
       "      <td>2018-12-18 16:00:00</td>\n",
       "      <td>BOK_20181130_20181218</td>\n",
       "      <td>train</td>\n",
       "    </tr>\n",
       "  </tbody>\n",
       "</table>\n",
       "</div>"
      ],
      "text/plain": [
       "   id                mdate                rdate               filename  split\n",
       "0   0  2018-11-30 10:00:00  2018-12-18 16:00:00  BOK_20181130_20181218  train"
      ]
     },
     "execution_count": 10,
     "metadata": {},
     "output_type": "execute_result"
    }
   ],
   "source": [
    "crps.metadata"
   ]
  },
  {
   "cell_type": "code",
   "execution_count": 11,
   "metadata": {
    "colab": {
     "base_uri": "https://localhost:8080/"
    },
    "id": "pUGzuV0vPWel",
    "outputId": "4c2ec7ff-8b2d-4d7b-ccd7-2b77f27486b5"
   },
   "outputs": [
    {
     "name": "stdout",
     "output_type": "stream",
     "text": [
      "id ['id', 'split'] text ['id', 'text', 'split'] ['id', 'mdate', 'rdate', 'filename', 'split']\n"
     ]
    }
   ],
   "source": [
    "print(crps.ID, crps.IDs, crps.TEXT, crps.DATA, crps.METADATA)"
   ]
  },
  {
   "cell_type": "code",
   "execution_count": 12,
   "metadata": {},
   "outputs": [
    {
     "data": {
      "text/html": [
       "<div>\n",
       "<style scoped>\n",
       "    .dataframe tbody tr th:only-of-type {\n",
       "        vertical-align: middle;\n",
       "    }\n",
       "\n",
       "    .dataframe tbody tr th {\n",
       "        vertical-align: top;\n",
       "    }\n",
       "\n",
       "    .dataframe thead th {\n",
       "        text-align: right;\n",
       "    }\n",
       "</style>\n",
       "<table border=\"1\" class=\"dataframe\">\n",
       "  <thead>\n",
       "    <tr style=\"text-align: right;\">\n",
       "      <th></th>\n",
       "      <th>id</th>\n",
       "      <th>text</th>\n",
       "      <th>split</th>\n",
       "      <th>mdate</th>\n",
       "      <th>rdate</th>\n",
       "      <th>filename</th>\n",
       "    </tr>\n",
       "  </thead>\n",
       "  <tbody>\n",
       "    <tr>\n",
       "      <th>0</th>\n",
       "      <td>0</td>\n",
       "      <td>Economic Situation\\n일부 위원은 관련부서에서 지난 3\\/4분기 중 ...</td>\n",
       "      <td>train</td>\n",
       "      <td>2018-11-30 10:00:00</td>\n",
       "      <td>2018-12-18 16:00:00</td>\n",
       "      <td>BOK_20181130_20181218</td>\n",
       "    </tr>\n",
       "  </tbody>\n",
       "</table>\n",
       "</div>"
      ],
      "text/plain": [
       "   id                                               text  split  \\\n",
       "0   0  Economic Situation\\n일부 위원은 관련부서에서 지난 3\\/4분기 중 ...  train   \n",
       "\n",
       "                 mdate                rdate               filename  \n",
       "0  2018-11-30 10:00:00  2018-12-18 16:00:00  BOK_20181130_20181218  "
      ]
     },
     "execution_count": 12,
     "metadata": {},
     "output_type": "execute_result"
    }
   ],
   "source": [
    "crps.merge_metadata()\n",
    "crps.data"
   ]
  },
  {
   "cell_type": "code",
   "execution_count": 14,
   "metadata": {},
   "outputs": [
    {
     "data": {
      "text/html": [
       "<div>\n",
       "<style scoped>\n",
       "    .dataframe tbody tr th:only-of-type {\n",
       "        vertical-align: middle;\n",
       "    }\n",
       "\n",
       "    .dataframe tbody tr th {\n",
       "        vertical-align: top;\n",
       "    }\n",
       "\n",
       "    .dataframe thead th {\n",
       "        text-align: right;\n",
       "    }\n",
       "</style>\n",
       "<table border=\"1\" class=\"dataframe\">\n",
       "  <thead>\n",
       "    <tr style=\"text-align: right;\">\n",
       "      <th></th>\n",
       "      <th>id</th>\n",
       "      <th>text</th>\n",
       "      <th>split</th>\n",
       "      <th>mdate</th>\n",
       "      <th>rdate</th>\n",
       "      <th>filename</th>\n",
       "      <th>timestamp</th>\n",
       "    </tr>\n",
       "  </thead>\n",
       "  <tbody>\n",
       "    <tr>\n",
       "      <th>0</th>\n",
       "      <td>0</td>\n",
       "      <td>Economic Situation\\n일부 위원은 관련부서에서 지난 3\\/4분기 중 ...</td>\n",
       "      <td>train</td>\n",
       "      <td>2018-11-30 10:00:00</td>\n",
       "      <td>2018-12-18 16:00:00</td>\n",
       "      <td>BOK_20181130_20181218</td>\n",
       "      <td>2018-11-30 10:00:00</td>\n",
       "    </tr>\n",
       "  </tbody>\n",
       "</table>\n",
       "</div>"
      ],
      "text/plain": [
       "   id                                               text  split  \\\n",
       "0   0  Economic Situation\\n일부 위원은 관련부서에서 지난 3\\/4분기 중 ...  train   \n",
       "\n",
       "                 mdate                rdate               filename  \\\n",
       "0  2018-11-30 10:00:00  2018-12-18 16:00:00  BOK_20181130_20181218   \n",
       "\n",
       "            timestamp  \n",
       "0 2018-11-30 10:00:00  "
      ]
     },
     "execution_count": 14,
     "metadata": {},
     "output_type": "execute_result"
    }
   ],
   "source": [
    "crps.COLUMN.TIMESTAMP_INFO.key = 'mdate'\n",
    "crps.load_timestamp()\n",
    "crps.data"
   ]
  },
  {
   "cell_type": "code",
   "execution_count": 15,
   "metadata": {
    "colab": {
     "base_uri": "https://localhost:8080/"
    },
    "id": "kArHj0GHPWem",
    "outputId": "39ce0ab9-1e3f-4efc-8d30-52def175a0a5"
   },
   "outputs": [
    {
     "name": "stdout",
     "output_type": "stream",
     "text": [
      "{'category': 'formal',\n",
      " 'column_info': {'_keys_': {'dataset': 'dataset',\n",
      "                            'id': 'id',\n",
      "                            'split': 'split',\n",
      "                            'text': 'text',\n",
      "                            'timestamp': 'timestamp'},\n",
      "                 'columns': {'id': 'id',\n",
      "                             'merge_meta_on': 'id',\n",
      "                             'text': 'text',\n",
      "                             'timestamp': None},\n",
      "                 'data': {'id': 'int', 'text': 'str'},\n",
      "                 'datetime': {'columns': None,\n",
      "                              'format': None,\n",
      "                              'rcParams': None},\n",
      "                 'meta': {'filename': 'str',\n",
      "                          'id': 'int',\n",
      "                          'mdate': 'str',\n",
      "                          'rdate': 'str'},\n",
      "                 'segment_separator': '\\\\n\\\\n',\n",
      "                 'sentence_separator': '\\\\n',\n",
      "                 'timestamp': {'format': None, 'key': None, 'rcParams': None}},\n",
      " 'data_files': {'train': 'bok_minutes-train.parquet'},\n",
      " 'data_files_modified': '2022-06-14 02:24:20',\n",
      " 'description': 'BOK Minutes Corpus',\n",
      " 'fullname': 'BOK MPB Minutes',\n",
      " 'homepage': 'https://www.bok.or.kr',\n",
      " 'info_updated': '2022-06-14 02:24:21',\n",
      " 'lang': 'ko',\n",
      " 'license': 'Bank of Korea',\n",
      " 'meta_files': {'train': 'meta-bok_minutes-train.parquet'},\n",
      " 'meta_files_modified': '2022-06-14 02:24:20',\n",
      " 'name': 'bok_minutes',\n",
      " 'num_bytes_before_processing': 88948,\n",
      " 'num_docs': 1,\n",
      " 'num_docs_before_processing': 1,\n",
      " 'num_segments': 5,\n",
      " 'num_sents': 346,\n",
      " 'num_words': 8171,\n",
      " 'size_in_bytes': 88925,\n",
      " 'size_in_human_bytes': '86.84 KiB',\n",
      " 'splits': {'train': {'data_file': 'bok_minutes-train.parquet',\n",
      "                      'dataset_name': 'bok_minutes',\n",
      "                      'human_bytes': '86.84 KiB',\n",
      "                      'human_bytes_wospc': '78.86 KiB',\n",
      "                      'meta_file': 'meta-bok_minutes-train.parquet',\n",
      "                      'name': 'train',\n",
      "                      'num_bytes': 88925,\n",
      "                      'num_bytes_before_processing': 88948,\n",
      "                      'num_bytes_max': 88925,\n",
      "                      'num_bytes_median': 88925.0,\n",
      "                      'num_bytes_min': 88925,\n",
      "                      'num_bytes_wospc': 80751,\n",
      "                      'num_docs': 1,\n",
      "                      'num_docs_before_processing': 1,\n",
      "                      'num_segments': 5,\n",
      "                      'num_segments_median': 5.0,\n",
      "                      'num_sents': 346,\n",
      "                      'num_sents_median': 346.0,\n",
      "                      'num_words': 8171,\n",
      "                      'num_words_max': 8171,\n",
      "                      'num_words_median': 8171.0,\n",
      "                      'num_words_min': 8171}},\n",
      " 'version': '1.0.0'}\n"
     ]
    }
   ],
   "source": [
    "eKonf.pprint(crps.INFO)"
   ]
  },
  {
   "cell_type": "code",
   "execution_count": null,
   "metadata": {
    "id": "_hXmySfsPWem"
   },
   "outputs": [],
   "source": []
  }
 ],
 "metadata": {
  "colab": {
   "name": "corpus.ipynb",
   "provenance": []
  },
  "kernelspec": {
   "display_name": "Python 3.8.12 ('base')",
   "language": "python",
   "name": "python3"
  },
  "language_info": {
   "codemirror_mode": {
    "name": "ipython",
    "version": 3
   },
   "file_extension": ".py",
   "mimetype": "text/x-python",
   "name": "python",
   "nbconvert_exporter": "python",
   "pygments_lexer": "ipython3",
   "version": "3.8.12"
  },
  "vscode": {
   "interpreter": {
    "hash": "d4d1e4263499bec80672ea0156c357c1ee493ec2b1c70f0acce89fc37c4a6abe"
   }
  },
  "widgets": {
   "application/vnd.jupyter.widget-state+json": {
    "state": {},
    "version_major": 2,
    "version_minor": 0
   }
  }
 },
 "nbformat": 4,
 "nbformat_minor": 1
}
