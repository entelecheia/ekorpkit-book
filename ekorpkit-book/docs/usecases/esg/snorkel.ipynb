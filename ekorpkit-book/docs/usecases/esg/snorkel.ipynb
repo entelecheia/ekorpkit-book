{
 "cells": [
  {
   "cell_type": "markdown",
   "metadata": {
    "id": "PfSMqenAwpKI"
   },
   "source": [
    "# Preparing datasets"
   ]
  },
  {
   "cell_type": "code",
   "execution_count": 1,
   "metadata": {
    "id": "gN8kk98Rwuzs"
   },
   "outputs": [
    {
     "name": "stderr",
     "output_type": "stream",
     "text": [
      "INFO:ekorpkit.base:IPython version: (6, 9, 0), client: jupyter_client\n",
      "INFO:ekorpkit.base:Google Colab not detected.\n"
     ]
    },
    {
     "name": "stdout",
     "output_type": "stream",
     "text": [
      "version: 0.1.35+4.ga5901ee.dirty\n",
      "is notebook? True\n",
      "is colab? False\n",
      "evironment varialbles:\n",
      "{'CUDA_DEVICE_ORDER': None,\n",
      " 'CUDA_VISIBLE_DEVICES': None,\n",
      " 'EKORPKIT_CONFIG_DIR': '/workspace/projects/ekorpkit-book/config',\n",
      " 'EKORPKIT_DATA_DIR': None,\n",
      " 'EKORPKIT_LOG_LEVEL': 'INFO',\n",
      " 'EKORPKIT_PROJECT': 'ekorpkit-book',\n",
      " 'EKORPKIT_WORKSPACE_ROOT': '/workspace',\n",
      " 'KMP_DUPLICATE_LIB_OK': 'TRUE',\n",
      " 'NUM_WORKERS': 230}\n"
     ]
    }
   ],
   "source": [
    "# %config InlineBackend.figure_format='retina'\n",
    "from ekorpkit import eKonf\n",
    "\n",
    "eKonf.setLogger(\"INFO\")\n",
    "print(\"version:\", eKonf.__version__)\n",
    "print(\"is notebook?\", eKonf.is_notebook())\n",
    "print(\"is colab?\", eKonf.is_colab())\n",
    "print(\"evironment varialbles:\")\n",
    "eKonf.print(eKonf.env().dict())"
   ]
  },
  {
   "cell_type": "code",
   "execution_count": 2,
   "metadata": {
    "id": "OhqanxoywpKJ"
   },
   "outputs": [
    {
     "name": "stderr",
     "output_type": "stream",
     "text": [
      "INFO:ekorpkit.base:Loaded .env from /workspace/projects/ekorpkit-book/config/.env\n",
      "INFO:ekorpkit.base:IPython version: (6, 9, 0), client: jupyter_client\n",
      "INFO:ekorpkit.io.fetch.base:/workspace/.tmp/fetcher/esg_polarity_labels/esg_polarity_labels.parquet already exists. skipping..\n",
      "INFO:ekorpkit.io.file:Processing [1] files from ['/workspace/.tmp/fetcher/esg_polarity_labels/esg_polarity_labels.parquet']\n",
      "INFO:ekorpkit.io.file:Loading 1 dataframes from ['/workspace/.tmp/fetcher/esg_polarity_labels/esg_polarity_labels.parquet']\n",
      "INFO:ekorpkit.io.file:Loading data from /workspace/.tmp/fetcher/esg_polarity_labels/esg_polarity_labels.parquet\n"
     ]
    }
   ],
   "source": [
    "cfg = eKonf.compose(\"io/fetcher=labelstudio\")\n",
    "cfg.name = \"esg_polarity_labels\"\n",
    "cfg.project_id = 2\n",
    "ls = eKonf.instantiate(cfg)"
   ]
  },
  {
   "cell_type": "code",
   "execution_count": 5,
   "metadata": {},
   "outputs": [
    {
     "data": {
      "text/html": [
       "<div>\n",
       "<style scoped>\n",
       "    .dataframe tbody tr th:only-of-type {\n",
       "        vertical-align: middle;\n",
       "    }\n",
       "\n",
       "    .dataframe tbody tr th {\n",
       "        vertical-align: top;\n",
       "    }\n",
       "\n",
       "    .dataframe thead th {\n",
       "        text-align: right;\n",
       "    }\n",
       "</style>\n",
       "<table border=\"1\" class=\"dataframe\">\n",
       "  <thead>\n",
       "    <tr style=\"text-align: right;\">\n",
       "      <th></th>\n",
       "      <th>id</th>\n",
       "      <th>text</th>\n",
       "      <th>annot_id</th>\n",
       "      <th>annotator</th>\n",
       "      <th>origin</th>\n",
       "      <th>labels</th>\n",
       "    </tr>\n",
       "  </thead>\n",
       "  <tbody>\n",
       "    <tr>\n",
       "      <th>13628</th>\n",
       "      <td>20367</td>\n",
       "      <td>2015 17년 동안 업종별 에너지 사용량을 살펴보면, 사용량 총량은 d35(전기,...</td>\n",
       "      <td>1409</td>\n",
       "      <td>4</td>\n",
       "      <td>manual</td>\n",
       "      <td>Neutral</td>\n",
       "    </tr>\n",
       "    <tr>\n",
       "      <th>13628</th>\n",
       "      <td>20367</td>\n",
       "      <td>2015 17년 동안 업종별 에너지 사용량을 살펴보면, 사용량 총량은 d35(전기,...</td>\n",
       "      <td>5954</td>\n",
       "      <td>8</td>\n",
       "      <td>manual</td>\n",
       "      <td>Neutral</td>\n",
       "    </tr>\n",
       "    <tr>\n",
       "      <th>13628</th>\n",
       "      <td>20367</td>\n",
       "      <td>2015 17년 동안 업종별 에너지 사용량을 살펴보면, 사용량 총량은 d35(전기,...</td>\n",
       "      <td>6482</td>\n",
       "      <td>6</td>\n",
       "      <td>manual</td>\n",
       "      <td>Neutral</td>\n",
       "    </tr>\n",
       "    <tr>\n",
       "      <th>13629</th>\n",
       "      <td>20366</td>\n",
       "      <td>동 제도는 2011년 5월 개선 작업을 통하여운영 요령을 개정하여 금융권 여신심사항...</td>\n",
       "      <td>1408</td>\n",
       "      <td>4</td>\n",
       "      <td>manual</td>\n",
       "      <td>Positive</td>\n",
       "    </tr>\n",
       "    <tr>\n",
       "      <th>13629</th>\n",
       "      <td>20366</td>\n",
       "      <td>동 제도는 2011년 5월 개선 작업을 통하여운영 요령을 개정하여 금융권 여신심사항...</td>\n",
       "      <td>6469</td>\n",
       "      <td>6</td>\n",
       "      <td>manual</td>\n",
       "      <td>Positive</td>\n",
       "    </tr>\n",
       "  </tbody>\n",
       "</table>\n",
       "</div>"
      ],
      "text/plain": [
       "          id                                               text  annot_id  \\\n",
       "13628  20367  2015 17년 동안 업종별 에너지 사용량을 살펴보면, 사용량 총량은 d35(전기,...      1409   \n",
       "13628  20367  2015 17년 동안 업종별 에너지 사용량을 살펴보면, 사용량 총량은 d35(전기,...      5954   \n",
       "13628  20367  2015 17년 동안 업종별 에너지 사용량을 살펴보면, 사용량 총량은 d35(전기,...      6482   \n",
       "13629  20366  동 제도는 2011년 5월 개선 작업을 통하여운영 요령을 개정하여 금융권 여신심사항...      1408   \n",
       "13629  20366  동 제도는 2011년 5월 개선 작업을 통하여운영 요령을 개정하여 금융권 여신심사항...      6469   \n",
       "\n",
       "       annotator  origin    labels  \n",
       "13628          4  manual   Neutral  \n",
       "13628          8  manual   Neutral  \n",
       "13628          6  manual   Neutral  \n",
       "13629          4  manual  Positive  \n",
       "13629          6  manual  Positive  "
      ]
     },
     "execution_count": 5,
     "metadata": {},
     "output_type": "execute_result"
    }
   ],
   "source": [
    "ls.data.tail()"
   ]
  },
  {
   "cell_type": "code",
   "execution_count": 7,
   "metadata": {},
   "outputs": [
    {
     "data": {
      "text/plain": [
       "annotator\n",
       "1       7\n",
       "2     340\n",
       "3    1144\n",
       "4     868\n",
       "5    5995\n",
       "6    3441\n",
       "7    1956\n",
       "8    3487\n",
       "9     183\n",
       "Name: annotator, dtype: int64"
      ]
     },
     "execution_count": 7,
     "metadata": {},
     "output_type": "execute_result"
    }
   ],
   "source": [
    "ls.data.groupby('annotator')['annotator'].count()"
   ]
  },
  {
   "cell_type": "code",
   "execution_count": null,
   "metadata": {},
   "outputs": [],
   "source": []
  }
 ],
 "metadata": {
  "colab": {
   "include_colab_link": true,
   "name": "config.ipynb",
   "provenance": []
  },
  "interpreter": {
   "hash": "f869af7787e6a1c49e09e367fc6e1b81d93d1c6583b43249c80edc047bd13cb2"
  },
  "kernelspec": {
   "display_name": "Python 3 (ipykernel)",
   "language": "python",
   "name": "python3"
  },
  "language_info": {
   "codemirror_mode": {
    "name": "ipython",
    "version": 3
   },
   "file_extension": ".py",
   "mimetype": "text/x-python",
   "name": "python",
   "nbconvert_exporter": "python",
   "pygments_lexer": "ipython3",
   "version": "3.8.12"
  }
 },
 "nbformat": 4,
 "nbformat_minor": 1
}
