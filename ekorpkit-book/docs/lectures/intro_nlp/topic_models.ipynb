{
 "cells": [
  {
   "cell_type": "markdown",
   "id": "cfdc61fb",
   "metadata": {},
   "source": [
    "# Topic Models [![Jupyter Book Badge](https://jupyterbook.org/badge.svg)](https://entelecheia.github.io/ekorpkit-book/) \n",
    "\n",
    "[![tomoto](../figs/intro_nlp/tomotopy/tomoto.png)](https://github.com/bab2min/tomotopy)\n",
    "\n",
    "Package tomotopy {cite}`tomotopy`"
   ]
  },
  {
   "cell_type": "markdown",
   "id": "66d50cc3",
   "metadata": {},
   "source": [
    "## What is tomotopy?\n",
    "\n",
    "`tomotopy` is a Python extension of `tomoto` (Topic Modeling Tool) which is a Gibbs-sampling based topic model library written in C++.\n",
    "It utilizes a vectorization of modern CPUs for maximizing speed. \n",
    "The current version of `tomoto` supports several major topic models including \n",
    "\n",
    "* Latent Dirichlet Allocation (`tomotopy.LDAModel`)\n",
    "* Labeled LDA (`tomotopy.LLDAModel`)\n",
    "* Partially Labeled LDA (`tomotopy.PLDAModel`)\n",
    "* Supervised LDA (`tomotopy.SLDAModel`)\n",
    "* Dirichlet Multinomial Regression (`tomotopy.DMRModel`)\n",
    "* Generalized Dirichlet Multinomial Regression (`tomotopy.GDMRModel`)\n",
    "* Hierarchical Dirichlet Process (`tomotopy.HDPModel`)\n",
    "* Hierarchical LDA (`tomotopy.HLDAModel`)\n",
    "* Multi Grain LDA (`tomotopy.MGLDAModel`) \n",
    "* Pachinko Allocation (`tomotopy.PAModel`)\n",
    "* Hierarchical PA (`tomotopy.HPAModel`)\n",
    "* Correlated Topic Model (`tomotopy.CTModel`)\n",
    "* Dynamic Topic Model (`tomotopy.DTModel`)\n",
    "* Pseudo-document based Topic Model (`tomotopy.PTModel`)."
   ]
  },
  {
   "cell_type": "markdown",
   "id": "5999eb3e",
   "metadata": {},
   "source": [
    "## Getting Started\n",
    "\n",
    "\n",
    "You can install tomotopy easily using pip. (https://pypi.org/project/tomotopy/)\n",
    "\n",
    "```bash\n",
    "pip install --upgrade pip\n",
    "pip install tomotopy\n",
    "```\n",
    "\n",
    "The supported OS and Python versions are:\n",
    "\n",
    "* Linux (x86-64) with Python >= 3.6 \n",
    "* macOS >= 10.13 with Python >= 3.6\n",
    "* Windows 7 or later (x86, x86-64) with Python >= 3.6\n",
    "* Other OS with Python >= 3.6: Compilation from source code required (with c++14 compatible compiler)\n",
    "\n",
    "After installing, you can start tomotopy by just importing.\n",
    "\n",
    "```python\n",
    "import tomotopy as tp\n",
    "print(tp.isa) # prints 'avx2', 'avx', 'sse2' or 'none'\n",
    "```\n",
    "\n",
    "Currently, tomotopy can exploits AVX2, AVX or SSE2 SIMD instruction set for maximizing performance.\n",
    "When the package is imported, it will check available instruction sets and select the best option.\n",
    "If `tp.isa` tells `none`, iterations of training may take a long time. \n",
    "But, since most of modern Intel or AMD CPUs provide SIMD instruction set, the SIMD acceleration could show a big improvement.\n",
    "\n"
   ]
  },
  {
   "cell_type": "markdown",
   "id": "c1bb2082",
   "metadata": {},
   "source": [
    "Here is a sample code for simple LDA training of texts from 'sample.txt' file.\n",
    "```python\n",
    "import tomotopy as tp\n",
    "mdl = tp.LDAModel(k=20)\n",
    "for line in open('sample.txt'):\n",
    "    mdl.add_doc(line.strip().split())\n",
    "\n",
    "for i in range(0, 100, 10):\n",
    "    mdl.train(10)\n",
    "    print('Iteration: {}\\tLog-likelihood: {}'.format(i, mdl.ll_per_word))\n",
    "\n",
    "for k in range(mdl.k):\n",
    "    print('Top 10 words of topic #{}'.format(k))\n",
    "    print(mdl.get_topic_words(k, top_n=10))\n",
    "\n",
    "mdl.summary()\n",
    "```"
   ]
  },
  {
   "cell_type": "markdown",
   "id": "27f42764",
   "metadata": {},
   "source": [
    "## Performance of tomotopy\n",
    "\n",
    "`tomotopy` uses Collapsed Gibbs-Sampling(CGS) to infer the distribution of topics and the distribution of words.\n",
    "Generally CGS converges more slowly than Variational Bayes(VB) that [`gensim's LdaModel`](https://radimrehurek.com/gensim/models/ldamodel.html) uses, but its iteration can be computed much faster.\n",
    "In addition, `tomotopy` can take advantage of multicore CPUs with a SIMD instruction set, which can result in faster iterations.\n",
    "\n",
    "Following chart shows the comparison of LDA model's running time between `tomotopy` and `gensim`. \n",
    "The input data consists of 1000 random documents from English Wikipedia with 1,506,966 words (about 10.1 MB).\n",
    "`tomotopy` trains 200 iterations and `gensim` trains 10 iterations.\n",
    "\n",
    "![](../figs/intro_nlp/tomotopy/tmt_i5.png)"
   ]
  },
  {
   "cell_type": "markdown",
   "id": "835004df",
   "metadata": {},
   "source": [
    "## Model Save and Load\n",
    "\n",
    "`tomotopy` provides `save` and `load` method for each topic model class, \n",
    "so you can save the model into the file whenever you want, and re-load it from the file.\n",
    "\n",
    "```python\n",
    "import tomotopy as tp\n",
    "\n",
    "mdl = tp.HDPModel()\n",
    "for line in open('sample.txt'):\n",
    "    mdl.add_doc(line.strip().split())\n",
    "\n",
    "for i in range(0, 100, 10):\n",
    "    mdl.train(10)\n",
    "    print('Iteration: {}\\tLog-likelihood: {}'.format(i, mdl.ll_per_word))\n",
    "\n",
    "# save into file\n",
    "mdl.save('sample_hdp_model.bin')\n",
    "\n",
    "# load from file\n",
    "mdl = tp.HDPModel.load('sample_hdp_model.bin')\n",
    "for k in range(mdl.k):\n",
    "    if not mdl.is_live_topic(k): continue\n",
    "    print('Top 10 words of topic #{}'.format(k))\n",
    "    print(mdl.get_topic_words(k, top_n=10))\n",
    "\n",
    "# the saved model is HDP model, \n",
    "# so when you load it by LDA model, it will raise an exception\n",
    "mdl = tp.LDAModel.load('sample_hdp_model.bin')\n",
    "```\n",
    "\n",
    "When you load the model from a file, a model type in the file should match the class of methods."
   ]
  },
  {
   "cell_type": "markdown",
   "id": "c923cee3",
   "metadata": {},
   "source": [
    "## Documents in the Model and out of the Model\n",
    "\n",
    "We can use Topic Model for two major purposes. \n",
    "The basic one is to discover topics from a set of documents as a result of trained model,\n",
    "and the more advanced one is to infer topic distributions for unseen documents by using trained model.\n",
    "\n",
    "We named the document in the former purpose (used for model training) as **document in the model**,\n",
    "and the document in the later purpose (unseen document during training) as **document out of the model**.\n",
    "\n",
    "In `tomotopy`, these two different kinds of document are generated differently.\n",
    "A **document in the model** can be created by `tomotopy.LDAModel.add_doc` method.\n",
    "`add_doc` can be called before `tomotopy.LDAModel.train` starts. \n",
    "In other words, after `train` called, `add_doc` cannot add a document into the model because the set of document used for training has become fixed."
   ]
  },
  {
   "cell_type": "markdown",
   "id": "efab9370",
   "metadata": {},
   "source": [
    "To acquire the instance of the created document, you should use `tomotopy.LDAModel.docs` like:\n",
    "\n",
    "```python\n",
    "mdl = tp.LDAModel(k=20)\n",
    "idx = mdl.add_doc(words)\n",
    "if idx < 0: raise RuntimeError(\"Failed to add doc\")\n",
    "doc_inst = mdl.docs[idx]\n",
    "# doc_inst is an instance of the added document\n",
    "```"
   ]
  },
  {
   "cell_type": "markdown",
   "id": "58f9f8ec",
   "metadata": {},
   "source": [
    "A **document out of the model** is generated by `tomotopy.LDAModel.make_doc` method. `make_doc` can be called only after `train` starts.\n",
    "If you use `make_doc` before the set of document used for training has become fixed, you may get wrong results.\n",
    "Since `make_doc` returns the instance directly, you can use its return value for other manipulations.\n",
    "\n",
    "```python\n",
    "mdl = tp.LDAModel(k=20)\n",
    "# add_doc ...\n",
    "mdl.train(100)\n",
    "doc_inst = mdl.make_doc(unseen_doc) # doc_inst is an instance of the unseen document\n",
    "```"
   ]
  },
  {
   "cell_type": "markdown",
   "id": "b0b3ae64",
   "metadata": {},
   "source": [
    "## Inference for Unseen Documents\n",
    "\n",
    "If a new document is created by `tomotopy.LDAModel.make_doc`, its topic distribution can be inferred by the model.\n",
    "Inference for unseen document should be performed using `tomotopy.LDAModel.infer` method.\n",
    "\n",
    "```python\n",
    "mdl = tp.LDAModel(k=20)\n",
    "# add_doc ...\n",
    "mdl.train(100)\n",
    "doc_inst = mdl.make_doc(unseen_doc)\n",
    "topic_dist, ll = mdl.infer(doc_inst)\n",
    "print(\"Topic Distribution for Unseen Docs: \", topic_dist)\n",
    "print(\"Log-likelihood of inference: \", ll)\n",
    "```\n",
    "The `infer` method can infer only one instance of `tomotopy.Document` or a `list` of instances of `tomotopy.Document`. \n",
    "See more at `tomotopy.LDAModel.infer`."
   ]
  },
  {
   "cell_type": "markdown",
   "id": "52ddee47",
   "metadata": {},
   "source": [
    "## Corpus and transform\n",
    "\n",
    "Every topic model in `tomotopy` has its own internal document type.\n",
    "A document can be created and added into suitable for each model through each model's `add_doc` method. \n",
    "However, trying to add the same list of documents to different models becomes quite inconvenient, \n",
    "because `add_doc` should be called for the same list of documents to each different model.\n",
    "Thus, `tomotopy` provides `tomotopy.utils.Corpus` class that holds a list of documents. \n",
    "`tomotopy.utils.Corpus` can be inserted into any model by passing as argument `corpus` to `__init__` or `add_corpus` method of each model. \n",
    "So, inserting `tomotopy.utils.Corpus` just has the same effect to inserting documents the corpus holds.\n",
    "\n",
    "Some topic models requires different data for its documents. \n",
    "For example, `tomotopy.DMRModel` requires argument `metadata` in `str` type, \n",
    "but `tomotopy.PLDAModel` requires argument `labels` in `List[str]` type. \n",
    "Since `tomotopy.utils.Corpus` holds an independent set of documents rather than being tied to a specific topic model, \n",
    "data types required by a topic model may be inconsistent when a corpus is added into that topic model. \n",
    "In this case, miscellaneous data can be transformed to be fitted target topic model using argument `transform`. "
   ]
  },
  {
   "cell_type": "markdown",
   "id": "c37c2eb4",
   "metadata": {},
   "source": [
    "See more details in the following code:\n",
    "\n",
    "```python\n",
    "from tomotopy import DMRModel\n",
    "from tomotopy.utils import Corpus\n",
    "\n",
    "corpus = Corpus()\n",
    "corpus.add_doc(\"a b c d e\".split(), a_data=1)\n",
    "corpus.add_doc(\"e f g h i\".split(), a_data=2)\n",
    "corpus.add_doc(\"i j k l m\".split(), a_data=3)\n",
    "\n",
    "model = DMRModel(k=10)\n",
    "model.add_corpus(corpus) \n",
    "# You lose `a_data` field in `corpus`, \n",
    "# and `metadata` that `DMRModel` requires is filled with the default value, empty str.\n",
    "\n",
    "assert model.docs[0].metadata == ''\n",
    "assert model.docs[1].metadata == ''\n",
    "assert model.docs[2].metadata == ''\n",
    "\n",
    "def transform_a_data_to_metadata(misc: dict):\n",
    "    return {'metadata': str(misc['a_data'])}\n",
    "# this function transforms `a_data` to `metadata`\n",
    "\n",
    "model = DMRModel(k=10)\n",
    "model.add_corpus(corpus, transform=transform_a_data_to_metadata)\n",
    "# Now docs in `model` has non-default `metadata`, that generated from `a_data` field.\n",
    "\n",
    "assert model.docs[0].metadata == '1'\n",
    "assert model.docs[1].metadata == '2'\n",
    "assert model.docs[2].metadata == '3'\n",
    "```"
   ]
  },
  {
   "cell_type": "markdown",
   "id": "90a0e13d",
   "metadata": {},
   "source": [
    "## Parallel Sampling Algorithms\n",
    "\n",
    "Since version 0.5.0, `tomotopy` allows you to choose a parallelism algorithm. \n",
    "The algorithm provided in versions prior to 0.4.2 is `COPY_MERGE`, which is provided for all topic models.\n",
    "The new algorithm `PARTITION`, available since 0.5.0, makes training generally faster and more memory-efficient, but it is available at not all topic models.\n",
    "\n",
    "The following chart shows the speed difference between the two algorithms based on the number of topics.\n",
    "\n",
    "![](../figs/intro_nlp/tomotopy/algo_comp.png)"
   ]
  },
  {
   "cell_type": "markdown",
   "id": "943105a3",
   "metadata": {},
   "source": [
    "## Pining Topics using Word Priors\n",
    "\n",
    "Since version 0.6.0, a new method `tomotopy.LDAModel.set_word_prior` has been added. It allows you to control word prior for each topic.\n",
    "For example, we can set the weight of the word 'church' to 1.0 in topic 0, and the weight to 0.1 in the rest of the topics by following codes.\n",
    "This means that the probability that the word 'church' is assigned to topic 0 is 10 times higher than the probability of being assigned to another topic.\n",
    "Therefore, most of 'church' is assigned to topic 0, so topic 0 contains many words related to 'church'. \n",
    "This allows to manipulate some topics to be placed at a specific topic number.\n",
    "\n",
    "```python\n",
    "import tomotopy as tp\n",
    "mdl = tp.LDAModel(k=20)\n",
    "\n",
    "# add documents into `mdl`\n",
    "\n",
    "# setting word prior\n",
    "mdl.set_word_prior('church', [1.0 if k == 0 else 0.1 for k in range(20)])\n",
    "```"
   ]
  },
  {
   "cell_type": "markdown",
   "id": "f426a4ee",
   "metadata": {},
   "source": [
    "## Examples"
   ]
  },
  {
   "cell_type": "markdown",
   "id": "338377fb",
   "metadata": {},
   "source": [
    "## Install or upgrade of ekorpkit\n",
    "\n",
    "```{note}\n",
    "Install ekorpkit package first.\n",
    "\n",
    "Set logging level to Warning, if you don't want to see verbose logging.\n",
    "\n",
    "If you run this notebook in Colab, set Hardware accelerator to GPU.\n",
    "```\n",
    "```{toggle}\n",
    "!pip install -U --pre ekorpkit\n",
    "\n",
    "exit()\n",
    "```"
   ]
  },
  {
   "cell_type": "code",
   "execution_count": 14,
   "id": "f8de8f2c",
   "metadata": {},
   "outputs": [
    {
     "name": "stdout",
     "output_type": "stream",
     "text": [
      "version: 0.1.39+3.g769a0ce\n",
      "is notebook? True\n",
      "is colab? False\n",
      "environment variables:\n",
      "{'CUDA_DEVICE_ORDER': None,\n",
      " 'CUDA_VISIBLE_DEVICES': None,\n",
      " 'EKORPKIT_CONFIG_DIR': '/workspace/projects/ekorpkit-book/config',\n",
      " 'EKORPKIT_DATA_DIR': None,\n",
      " 'EKORPKIT_LOG_LEVEL': 'WARNING',\n",
      " 'EKORPKIT_PROJECT': 'ekorpkit-book',\n",
      " 'EKORPKIT_WORKSPACE_ROOT': '/workspace',\n",
      " 'KMP_DUPLICATE_LIB_OK': 'TRUE',\n",
      " 'NUM_WORKERS': 230}\n"
     ]
    }
   ],
   "source": [
    "from ekorpkit import eKonf\n",
    "\n",
    "eKonf.setLogger(\"WARNING\")\n",
    "print(\"version:\", eKonf.__version__)\n",
    "print(\"is notebook?\", eKonf.is_notebook())\n",
    "print(\"is colab?\", eKonf.is_colab())\n",
    "print(\"environment variables:\")\n",
    "eKonf.print(eKonf.env().dict())\n",
    "\n",
    "data_dir = \"../data/topic_models\""
   ]
  },
  {
   "cell_type": "code",
   "execution_count": 16,
   "id": "e72c70e4",
   "metadata": {},
   "outputs": [
    {
     "name": "stderr",
     "output_type": "stream",
     "text": [
      "INFO:ekorpkit.base:instantiating ekorpkit.pipelines.pipe.pipeline...\n",
      "INFO:ekorpkit.base:instantiating ekorpkit.pipelines.data.Data...\n",
      "INFO:ekorpkit.base:Applying pipe: functools.partial(<function sampling at 0x7efee81b75e0>)\n"
     ]
    },
    {
     "name": "stdout",
     "output_type": "stream",
     "text": [
      "       id                                               text  split\n",
      "0  251155  Investing com Asian stock markets were broadly...  train\n",
      "1  270611  Solid execution product diversity and strong b...  train\n",
      "2  237917  Chip name Micron Technology Inc NASDAQ MU is h...  train\n",
      "3  406989  June is typically a boring month for gold and ...  train\n",
      "4  231535  A prudent investment decision involves buying ...  train\n"
     ]
    }
   ],
   "source": [
    "corpus_cfg = eKonf.compose('corpus', overrides=[\"project=esgml\"])\n",
    "corpus_cfg.name = 'us_equities_news'\n",
    "corpus_cfg.verbose = False\n",
    "# corpus = eKonf.instantiate(corpus_cfg)\n",
    "cfg = eKonf.compose(\"pipeline\", overrides=[\"project=esgml\"])\n",
    "cfg.data.corpus = corpus_cfg\n",
    "cfg._pipeline_ = [\"sampling\"]\n",
    "cfg.sampling.sample_size_per_group = 0.1\n",
    "cfg.sampling.output_dir = data_dir\n",
    "cfg.sampling.output_file = \"us_equities_news_sampled.parquet\"\n",
    "data = eKonf.instantiate(cfg)"
   ]
  },
  {
   "cell_type": "code",
   "execution_count": null,
   "id": "9dcc08f1",
   "metadata": {},
   "outputs": [],
   "source": []
  },
  {
   "cell_type": "markdown",
   "id": "e5188672",
   "metadata": {},
   "source": []
  },
  {
   "cell_type": "markdown",
   "id": "ae59d585",
   "metadata": {},
   "source": [
    "corpus.data"
   ]
  },
  {
   "cell_type": "markdown",
   "id": "66980612",
   "metadata": {},
   "source": []
  },
  {
   "cell_type": "code",
   "execution_count": null,
   "id": "9b7614ae",
   "metadata": {},
   "outputs": [],
   "source": []
  }
 ],
 "metadata": {
  "kernelspec": {
   "display_name": "Python 3.8.5 ('base')",
   "language": "python",
   "name": "python3"
  },
  "language_info": {
   "codemirror_mode": {
    "name": "ipython",
    "version": 3
   },
   "file_extension": ".py",
   "mimetype": "text/x-python",
   "name": "python",
   "nbconvert_exporter": "python",
   "pygments_lexer": "ipython3",
   "version": "3.8.5"
  },
  "vscode": {
   "interpreter": {
    "hash": "d4d1e4263499bec80672ea0156c357c1ee493ec2b1c70f0acce89fc37c4a6abe"
   }
  }
 },
 "nbformat": 4,
 "nbformat_minor": 5
}
