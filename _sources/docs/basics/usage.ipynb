{
 "cells": [
  {
   "cell_type": "markdown",
   "id": "e556336d",
   "metadata": {},
   "source": [
    "# Usage\n",
    "\n",
    "## Via Command Line Interface (CLI)"
   ]
  },
  {
   "cell_type": "code",
   "execution_count": 1,
   "id": "8d694a07",
   "metadata": {},
   "outputs": [
    {
     "name": "stdout",
     "output_type": "stream",
     "text": [
      "/usr/bin/sh: 1: ekorpkit: not found\r\n"
     ]
    }
   ],
   "source": [
    "!ekorpkit"
   ]
  },
  {
   "cell_type": "markdown",
   "id": "cf896a08",
   "metadata": {},
   "source": [
    "### CLI example to build a corpus\n",
    "\n",
    "```bash\n",
    "ekorpkit --config-dir /workspace/projects/ekorpkit-book/config  \\\n",
    "    project=esgml \\\n",
    "    dir.workspace=/workspace \\\n",
    "    verbose=false \\\n",
    "    print_config=false \\\n",
    "    num_workers=1 \\\n",
    "    cmd=fetch_builtin_corpus \\\n",
    "    +corpus/builtin=_dummy_fomc_minutes \\\n",
    "    corpus.builtin.io.force.summarize=true \\\n",
    "    corpus.builtin.io.force.preprocess=true \\\n",
    "    corpus.builtin.io.force.build=false \\\n",
    "    corpus.builtin.io.force.download=false\n",
    "```\n",
    "\n",
    "### CLI Help\n",
    "\n",
    "To see the available configurations for CLI, run the command:"
   ]
  },
  {
   "cell_type": "code",
   "execution_count": 2,
   "id": "d659c808",
   "metadata": {
    "tags": [
     "output_scroll"
    ]
   },
   "outputs": [
    {
     "name": "stdout",
     "output_type": "stream",
     "text": [
      "/usr/bin/sh: 1: ekorpkit: not found\r\n"
     ]
    }
   ],
   "source": [
    "!ekorpkit --help"
   ]
  },
  {
   "cell_type": "code",
   "execution_count": 3,
   "id": "83be92fb",
   "metadata": {},
   "outputs": [
    {
     "name": "stdout",
     "output_type": "stream",
     "text": [
      "/usr/bin/sh: 1: ekorpkit: not found\r\n"
     ]
    }
   ],
   "source": [
    "!ekorpkit --info defaults"
   ]
  },
  {
   "cell_type": "markdown",
   "id": "1d9d2bac",
   "metadata": {},
   "source": [
    "## Via Python\n",
    "\n",
    "### Compose an ekorpkit config"
   ]
  },
  {
   "cell_type": "code",
   "execution_count": 4,
   "id": "996c4544",
   "metadata": {
    "tags": [
     "output_scroll"
    ]
   },
   "outputs": [
    {
     "ename": "ModuleNotFoundError",
     "evalue": "No module named 'ekorpkit'",
     "output_type": "error",
     "traceback": [
      "\u001b[0;31m---------------------------------------------------------------------------\u001b[0m",
      "\u001b[0;31mModuleNotFoundError\u001b[0m                       Traceback (most recent call last)",
      "Cell \u001b[0;32mIn[4], line 1\u001b[0m\n\u001b[0;32m----> 1\u001b[0m \u001b[38;5;28;01mfrom\u001b[39;00m \u001b[38;5;21;01mekorpkit\u001b[39;00m \u001b[38;5;28;01mimport\u001b[39;00m eKonf\n\u001b[1;32m      2\u001b[0m cfg \u001b[38;5;241m=\u001b[39m eKonf\u001b[38;5;241m.\u001b[39mcompose()\n\u001b[1;32m      3\u001b[0m \u001b[38;5;28mprint\u001b[39m(\u001b[38;5;124m'\u001b[39m\u001b[38;5;124mConfig type:\u001b[39m\u001b[38;5;124m'\u001b[39m, \u001b[38;5;28mtype\u001b[39m(cfg))\n",
      "\u001b[0;31mModuleNotFoundError\u001b[0m: No module named 'ekorpkit'"
     ]
    }
   ],
   "source": [
    "from ekorpkit import eKonf\n",
    "cfg = eKonf.compose()\n",
    "print('Config type:', type(cfg))\n",
    "eKonf.pprint(cfg)"
   ]
  },
  {
   "cell_type": "markdown",
   "id": "2e2c8be1",
   "metadata": {},
   "source": [
    "### Instantiating objects with an ekorpkit config\n",
    "\n",
    "#### compose a config for the nltk class"
   ]
  },
  {
   "cell_type": "code",
   "execution_count": 5,
   "id": "b199421e",
   "metadata": {},
   "outputs": [
    {
     "ename": "ModuleNotFoundError",
     "evalue": "No module named 'ekorpkit'",
     "output_type": "error",
     "traceback": [
      "\u001b[0;31m---------------------------------------------------------------------------\u001b[0m",
      "\u001b[0;31mModuleNotFoundError\u001b[0m                       Traceback (most recent call last)",
      "Cell \u001b[0;32mIn[5], line 1\u001b[0m\n\u001b[0;32m----> 1\u001b[0m \u001b[38;5;28;01mfrom\u001b[39;00m \u001b[38;5;21;01mekorpkit\u001b[39;00m \u001b[38;5;28;01mimport\u001b[39;00m eKonf\n\u001b[1;32m      2\u001b[0m config_group\u001b[38;5;241m=\u001b[39m\u001b[38;5;124m'\u001b[39m\u001b[38;5;124mpreprocessor/tokenizer=nltk\u001b[39m\u001b[38;5;124m'\u001b[39m\n\u001b[1;32m      3\u001b[0m cfg \u001b[38;5;241m=\u001b[39m eKonf\u001b[38;5;241m.\u001b[39mcompose(config_group\u001b[38;5;241m=\u001b[39mconfig_group)\n",
      "\u001b[0;31mModuleNotFoundError\u001b[0m: No module named 'ekorpkit'"
     ]
    }
   ],
   "source": [
    "from ekorpkit import eKonf\n",
    "config_group='preprocessor/tokenizer=nltk'\n",
    "cfg = eKonf.compose(config_group=config_group)\n",
    "eKonf.pprint(cfg)\n",
    "nltk = eKonf.instantiate(cfg)"
   ]
  },
  {
   "cell_type": "code",
   "execution_count": 6,
   "id": "15572a4f",
   "metadata": {},
   "outputs": [
    {
     "ename": "NameError",
     "evalue": "name 'nltk' is not defined",
     "output_type": "error",
     "traceback": [
      "\u001b[0;31m---------------------------------------------------------------------------\u001b[0m",
      "\u001b[0;31mNameError\u001b[0m                                 Traceback (most recent call last)",
      "Cell \u001b[0;32mIn[6], line 2\u001b[0m\n\u001b[1;32m      1\u001b[0m text \u001b[38;5;241m=\u001b[39m \u001b[38;5;124m\"\u001b[39m\u001b[38;5;124mI shall reemphasize some of those thoughts today in the context of legislative proposals that are now before the current Congress.\u001b[39m\u001b[38;5;124m\"\u001b[39m\n\u001b[0;32m----> 2\u001b[0m \u001b[43mnltk\u001b[49m\u001b[38;5;241m.\u001b[39mtokenize(text)\n",
      "\u001b[0;31mNameError\u001b[0m: name 'nltk' is not defined"
     ]
    }
   ],
   "source": [
    "text = \"I shall reemphasize some of those thoughts today in the context of legislative proposals that are now before the current Congress.\"\n",
    "nltk.tokenize(text)"
   ]
  },
  {
   "cell_type": "code",
   "execution_count": 7,
   "id": "4f8a7255",
   "metadata": {},
   "outputs": [
    {
     "ename": "NameError",
     "evalue": "name 'nltk' is not defined",
     "output_type": "error",
     "traceback": [
      "\u001b[0;31m---------------------------------------------------------------------------\u001b[0m",
      "\u001b[0;31mNameError\u001b[0m                                 Traceback (most recent call last)",
      "Cell \u001b[0;32mIn[7], line 1\u001b[0m\n\u001b[0;32m----> 1\u001b[0m \u001b[43mnltk\u001b[49m\u001b[38;5;241m.\u001b[39mnouns(text)\n",
      "\u001b[0;31mNameError\u001b[0m: name 'nltk' is not defined"
     ]
    }
   ],
   "source": [
    " nltk.nouns(text)"
   ]
  },
  {
   "cell_type": "markdown",
   "id": "94c5fa56",
   "metadata": {},
   "source": [
    "#### compose a config for the mecab class"
   ]
  },
  {
   "cell_type": "code",
   "execution_count": 8,
   "id": "d9839da9",
   "metadata": {},
   "outputs": [
    {
     "ename": "NameError",
     "evalue": "name 'eKonf' is not defined",
     "output_type": "error",
     "traceback": [
      "\u001b[0;31m---------------------------------------------------------------------------\u001b[0m",
      "\u001b[0;31mNameError\u001b[0m                                 Traceback (most recent call last)",
      "Cell \u001b[0;32mIn[8], line 2\u001b[0m\n\u001b[1;32m      1\u001b[0m config_group\u001b[38;5;241m=\u001b[39m\u001b[38;5;124m'\u001b[39m\u001b[38;5;124mpreprocessor/tokenizer=mecab\u001b[39m\u001b[38;5;124m'\u001b[39m\n\u001b[0;32m----> 2\u001b[0m cfg \u001b[38;5;241m=\u001b[39m \u001b[43meKonf\u001b[49m\u001b[38;5;241m.\u001b[39mcompose(config_group\u001b[38;5;241m=\u001b[39mconfig_group)\n\u001b[1;32m      3\u001b[0m eKonf\u001b[38;5;241m.\u001b[39mpprint(cfg)\n",
      "\u001b[0;31mNameError\u001b[0m: name 'eKonf' is not defined"
     ]
    }
   ],
   "source": [
    "config_group='preprocessor/tokenizer=mecab'\n",
    "cfg = eKonf.compose(config_group=config_group)\n",
    "eKonf.pprint(cfg)"
   ]
  },
  {
   "cell_type": "markdown",
   "id": "ce135684",
   "metadata": {},
   "source": [
    "#### intantiate a mecab config and tokenize a text"
   ]
  },
  {
   "cell_type": "code",
   "execution_count": 9,
   "id": "168c33e1",
   "metadata": {},
   "outputs": [
    {
     "ename": "NameError",
     "evalue": "name 'eKonf' is not defined",
     "output_type": "error",
     "traceback": [
      "\u001b[0;31m---------------------------------------------------------------------------\u001b[0m",
      "\u001b[0;31mNameError\u001b[0m                                 Traceback (most recent call last)",
      "Cell \u001b[0;32mIn[9], line 1\u001b[0m\n\u001b[0;32m----> 1\u001b[0m mecab \u001b[38;5;241m=\u001b[39m \u001b[43meKonf\u001b[49m\u001b[38;5;241m.\u001b[39minstantiate(cfg)\n\u001b[1;32m      2\u001b[0m text \u001b[38;5;241m=\u001b[39m \u001b[38;5;124m'\u001b[39m\u001b[38;5;124mIMF가 推定한 우리나라의 GDP갭률은 今年에도 소폭의 마이너스(−)를 持續하고 있다.\u001b[39m\u001b[38;5;124m'\u001b[39m\n\u001b[1;32m      3\u001b[0m mecab\u001b[38;5;241m.\u001b[39mtokenize(text)\n",
      "\u001b[0;31mNameError\u001b[0m: name 'eKonf' is not defined"
     ]
    }
   ],
   "source": [
    "mecab = eKonf.instantiate(cfg)\n",
    "text = 'IMF가 推定한 우리나라의 GDP갭률은 今年에도 소폭의 마이너스(−)를 持續하고 있다.'\n",
    "mecab.tokenize(text)"
   ]
  },
  {
   "cell_type": "markdown",
   "id": "f60e21ff",
   "metadata": {},
   "source": [
    "#### compose and instantiate a `formal_ko` config for the normalizer class"
   ]
  },
  {
   "cell_type": "code",
   "execution_count": 10,
   "id": "1959123a",
   "metadata": {},
   "outputs": [
    {
     "ename": "NameError",
     "evalue": "name 'eKonf' is not defined",
     "output_type": "error",
     "traceback": [
      "\u001b[0;31m---------------------------------------------------------------------------\u001b[0m",
      "\u001b[0;31mNameError\u001b[0m                                 Traceback (most recent call last)",
      "Cell \u001b[0;32mIn[10], line 2\u001b[0m\n\u001b[1;32m      1\u001b[0m config_group\u001b[38;5;241m=\u001b[39m\u001b[38;5;124m'\u001b[39m\u001b[38;5;124mpreprocessor/normalizer=formal_ko\u001b[39m\u001b[38;5;124m'\u001b[39m\n\u001b[0;32m----> 2\u001b[0m cfg_norm \u001b[38;5;241m=\u001b[39m \u001b[43meKonf\u001b[49m\u001b[38;5;241m.\u001b[39mcompose(config_group\u001b[38;5;241m=\u001b[39mconfig_group)\n\u001b[1;32m      3\u001b[0m norm \u001b[38;5;241m=\u001b[39m eKonf\u001b[38;5;241m.\u001b[39minstantiate(cfg_norm)\n\u001b[1;32m      4\u001b[0m norm(text)\n",
      "\u001b[0;31mNameError\u001b[0m: name 'eKonf' is not defined"
     ]
    }
   ],
   "source": [
    "config_group='preprocessor/normalizer=formal_ko'\n",
    "cfg_norm = eKonf.compose(config_group=config_group)\n",
    "norm = eKonf.instantiate(cfg_norm)\n",
    "norm(text)"
   ]
  },
  {
   "cell_type": "markdown",
   "id": "d28b843b",
   "metadata": {},
   "source": [
    "#### instantiate a mecab config with the above normalizer config"
   ]
  },
  {
   "cell_type": "code",
   "execution_count": 11,
   "id": "257cf3b6",
   "metadata": {},
   "outputs": [
    {
     "ename": "NameError",
     "evalue": "name 'eKonf' is not defined",
     "output_type": "error",
     "traceback": [
      "\u001b[0;31m---------------------------------------------------------------------------\u001b[0m",
      "\u001b[0;31mNameError\u001b[0m                                 Traceback (most recent call last)",
      "Cell \u001b[0;32mIn[11], line 2\u001b[0m\n\u001b[1;32m      1\u001b[0m config_group\u001b[38;5;241m=\u001b[39m\u001b[38;5;124m'\u001b[39m\u001b[38;5;124mpreprocessor/tokenizer=mecab\u001b[39m\u001b[38;5;124m'\u001b[39m\n\u001b[0;32m----> 2\u001b[0m cfg \u001b[38;5;241m=\u001b[39m \u001b[43meKonf\u001b[49m\u001b[38;5;241m.\u001b[39mcompose(config_group\u001b[38;5;241m=\u001b[39mconfig_group)\n\u001b[1;32m      3\u001b[0m cfg\u001b[38;5;241m.\u001b[39mnormalize \u001b[38;5;241m=\u001b[39m cfg_norm\n\u001b[1;32m      4\u001b[0m mecab \u001b[38;5;241m=\u001b[39m eKonf\u001b[38;5;241m.\u001b[39minstantiate(cfg)\n",
      "\u001b[0;31mNameError\u001b[0m: name 'eKonf' is not defined"
     ]
    }
   ],
   "source": [
    "config_group='preprocessor/tokenizer=mecab'\n",
    "cfg = eKonf.compose(config_group=config_group)\n",
    "cfg.normalize = cfg_norm\n",
    "mecab = eKonf.instantiate(cfg)\n",
    "mecab.tokenize(text)"
   ]
  }
 ],
 "metadata": {
  "jupytext": {
   "formats": "md:myst",
   "text_representation": {
    "extension": ".md",
    "format_name": "myst"
   }
  },
  "kernelspec": {
   "display_name": "Python 3",
   "language": "python",
   "name": "python3"
  },
  "language_info": {
   "codemirror_mode": {
    "name": "ipython",
    "version": 3
   },
   "file_extension": ".py",
   "mimetype": "text/x-python",
   "name": "python",
   "nbconvert_exporter": "python",
   "pygments_lexer": "ipython3",
   "version": "3.11.2"
  },
  "source_map": [
   11,
   17,
   19,
   42,
   47,
   49,
   55,
   61,
   67,
   75,
   80,
   82,
   86,
   90,
   94,
   98,
   102,
   107,
   111
  ]
 },
 "nbformat": 4,
 "nbformat_minor": 5
}