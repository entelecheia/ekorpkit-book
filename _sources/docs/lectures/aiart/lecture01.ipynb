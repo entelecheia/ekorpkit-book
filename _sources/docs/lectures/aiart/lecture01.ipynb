{
 "cells": [
  {
   "cell_type": "markdown",
   "id": "cfdc61fb",
   "metadata": {
    "slideshow": {
     "slide_type": "slide"
    },
    "tags": []
   },
   "source": [
    "# Introduction\n",
    "\n",
    "![painter](../figs/entelecheia_robot_painter.png)"
   ]
  },
  {
   "cell_type": "code",
   "execution_count": 8,
   "id": "ab6ce7c2",
   "metadata": {
    "slideshow": {
     "slide_type": "skip"
    },
    "tags": []
   },
   "outputs": [],
   "source": [
    "from IPython.display import IFrame"
   ]
  },
  {
   "cell_type": "markdown",
   "id": "66d50cc3",
   "metadata": {
    "slideshow": {
     "slide_type": "slide"
    },
    "tags": []
   },
   "source": [
    "## Image GPT\n",
    "\n",
    "The Image GPT is a transformer decoder model pretrained on a large collection of images in a self-supervised fashion.\n",
    "\n",
    "![imagegpt](../figs/aiart_1_imageGPT1.gif)"
   ]
  },
  {
   "cell_type": "markdown",
   "id": "1ef58c1f",
   "metadata": {
    "slideshow": {
     "slide_type": "slide"
    },
    "tags": []
   },
   "source": [
    "## Timeline of ML Art\n",
    "\n",
    "![timeline](../figs/aiart_1_timeline.jpg)"
   ]
  },
  {
   "cell_type": "markdown",
   "id": "c856761c",
   "metadata": {
    "slideshow": {
     "slide_type": "slide"
    },
    "tags": []
   },
   "source": [
    "- The first machines that generated art had an appearance in the 18th century e.g. work of Pierre Jaquet-Droz, who made three machines.\n",
    "- Augusta Lovelace — a mathematician and poet, who for the first time paid attention to the fact that algorithms have a possible use outside of mathematics.\n",
    "- The year 1955 gave us Jean Tinguely’s drawing machine — a mechanism that, once spun up, makes drawings. \n",
    "- 1973’s AARON algorithm — the work of Harold Cohen, the effects of which was the first computer-generated image.\n",
    "- In 2014, Ian G. Goodfellow’s work gave rise to the GAN (Generative Adversarial Network)."
   ]
  },
  {
   "cell_type": "markdown",
   "id": "dc060d8d",
   "metadata": {
    "slideshow": {
     "slide_type": "slide"
    },
    "tags": []
   },
   "source": [
    "### Jean Tinguely’s drawing machine\n"
   ]
  },
  {
   "cell_type": "code",
   "execution_count": 9,
   "id": "ee10a3e2",
   "metadata": {
    "tags": [
     "remove-code"
    ]
   },
   "outputs": [
    {
     "data": {
      "text/html": [
       "\n",
       "        <iframe\n",
       "            width=\"800\"\n",
       "            height=\"450\"\n",
       "            src=\"https://www.youtube.com/embed/Noe5-awlbfw\"\n",
       "            frameborder=\"0\"\n",
       "            allowfullscreen\n",
       "            \n",
       "        ></iframe>\n",
       "        "
      ],
      "text/plain": [
       "<IPython.lib.display.IFrame at 0x7fce68897340>"
      ]
     },
     "execution_count": 9,
     "metadata": {},
     "output_type": "execute_result"
    }
   ],
   "source": [
    "IFrame(\"https://www.youtube.com/embed/Noe5-awlbfw\", width=\"800\", height=\"450\")"
   ]
  },
  {
   "cell_type": "markdown",
   "id": "488aa4d8",
   "metadata": {},
   "source": [
    "- 040502 is a 2004 painting of pigment on paper by the robotic, artificially intelligent painter AARON\n",
    "\n",
    "![araron](../figs/aiart_1_040502.jpg)"
   ]
  },
  {
   "cell_type": "markdown",
   "id": "ff23c719",
   "metadata": {},
   "source": [
    "## DALL·E 2\n",
    "\n",
    "![dalle2](../figs/aiart_1_dalle2.png)"
   ]
  },
  {
   "cell_type": "markdown",
   "id": "37745258",
   "metadata": {},
   "source": []
  }
 ],
 "metadata": {
  "kernelspec": {
   "display_name": "Python 3 (ipykernel)",
   "language": "python",
   "name": "python3"
  },
  "language_info": {
   "codemirror_mode": {
    "name": "ipython",
    "version": 3
   },
   "file_extension": ".py",
   "mimetype": "text/x-python",
   "name": "python",
   "nbconvert_exporter": "python",
   "pygments_lexer": "ipython3",
   "version": "3.8.12"
  },
  "vscode": {
   "interpreter": {
    "hash": "d4d1e4263499bec80672ea0156c357c1ee493ec2b1c70f0acce89fc37c4a6abe"
   }
  },
  "widgets": {
   "application/vnd.jupyter.widget-state+json": {
    "state": {},
    "version_major": 2,
    "version_minor": 0
   }
  }
 },
 "nbformat": 4,
 "nbformat_minor": 5
}
