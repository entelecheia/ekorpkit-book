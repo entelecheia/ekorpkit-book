{
 "cells": [
  {
   "cell_type": "markdown",
   "id": "cfdc61fb",
   "metadata": {
    "slideshow": {
     "slide_type": "slide"
    },
    "tags": []
   },
   "source": [
    "# Introduction\n",
    "\n",
    "![painter](../figs/entelecheia_robot_painter.png)"
   ]
  },
  {
   "cell_type": "code",
   "execution_count": 2,
   "id": "ab6ce7c2",
   "metadata": {
    "slideshow": {
     "slide_type": "skip"
    },
    "tags": [
     "remove-cell"
    ]
   },
   "outputs": [],
   "source": [
    "from IPython.display import IFrame"
   ]
  },
  {
   "cell_type": "markdown",
   "id": "66d50cc3",
   "metadata": {
    "slideshow": {
     "slide_type": "slide"
    },
    "tags": []
   },
   "source": [
    "## Image GPT\n",
    "\n",
    "The Image GPT is a transformer decoder model pretrained on a large collection of images in a self-supervised fashion.\n",
    "\n",
    "![imagegpt](../figs/aiart_1_imageGPT1.gif)"
   ]
  },
  {
   "cell_type": "markdown",
   "id": "1ef58c1f",
   "metadata": {
    "slideshow": {
     "slide_type": "slide"
    },
    "tags": []
   },
   "source": [
    "## Timeline of ML Art\n",
    "\n",
    "![timeline](../figs/aiart_1_timeline.jpg)"
   ]
  },
  {
   "cell_type": "markdown",
   "id": "c856761c",
   "metadata": {
    "slideshow": {
     "slide_type": "slide"
    },
    "tags": []
   },
   "source": [
    "- The first machines that generated art had an appearance in the 18th century e.g. work of Pierre Jaquet-Droz, who made three machines.\n",
    "- Augusta Lovelace — a mathematician and poet, who for the first time paid attention to the fact that algorithms have a possible use outside of mathematics.\n",
    "- The year 1955 gave us Jean Tinguely’s drawing machine — a mechanism that, once spun up, makes drawings. \n",
    "- 1973’s AARON algorithm — the work of Harold Cohen, the effects of which was the first computer-generated image.\n",
    "- In 2014, Ian G. Goodfellow’s work gave rise to the GAN (Generative Adversarial Network)."
   ]
  },
  {
   "cell_type": "markdown",
   "id": "dc060d8d",
   "metadata": {
    "slideshow": {
     "slide_type": "slide"
    },
    "tags": []
   },
   "source": [
    "### Jean Tinguely’s drawing machine\n"
   ]
  },
  {
   "cell_type": "code",
   "execution_count": 14,
   "id": "ee10a3e2",
   "metadata": {
    "tags": [
     "remove-input"
    ]
   },
   "outputs": [
    {
     "data": {
      "text/html": [
       "\n",
       "        <iframe\n",
       "            width=\"720\"\n",
       "            height=\"405\"\n",
       "            src=\"https://www.youtube.com/embed/Noe5-awlbfw\"\n",
       "            frameborder=\"0\"\n",
       "            allowfullscreen\n",
       "            \n",
       "        ></iframe>\n",
       "        "
      ],
      "text/plain": [
       "<IPython.lib.display.IFrame at 0x7fce68897730>"
      ]
     },
     "execution_count": 14,
     "metadata": {},
     "output_type": "execute_result"
    }
   ],
   "source": [
    "IFrame(\"https://www.youtube.com/embed/Noe5-awlbfw\", width=\"720\", height=\"405\")"
   ]
  },
  {
   "cell_type": "markdown",
   "id": "488aa4d8",
   "metadata": {
    "slideshow": {
     "slide_type": "slide"
    },
    "tags": []
   },
   "source": [
    "- 040502 is a 2004 painting of pigment on paper by the robotic, artificially intelligent painter AARON\n",
    "\n",
    "![araron](../figs/aiart_1_040502.jpg)"
   ]
  },
  {
   "cell_type": "markdown",
   "id": "ff23c719",
   "metadata": {
    "slideshow": {
     "slide_type": "slide"
    },
    "tags": []
   },
   "source": [
    "## DALL·E 2\n",
    "\n",
    "![dalle2](../figs/aiart_1_dalle2.png)"
   ]
  },
  {
   "cell_type": "code",
   "execution_count": 13,
   "id": "4f36bdb8-f8dc-41e3-bbfd-921e2a3e36e0",
   "metadata": {
    "slideshow": {
     "slide_type": "slide"
    },
    "tags": [
     "remove-input"
    ]
   },
   "outputs": [
    {
     "data": {
      "text/html": [
       "\n",
       "        <iframe\n",
       "            width=\"720\"\n",
       "            height=\"405\"\n",
       "            src=\"https://www.youtube.com/embed/qTgPSKKjfVg\"\n",
       "            frameborder=\"0\"\n",
       "            allowfullscreen\n",
       "            \n",
       "        ></iframe>\n",
       "        "
      ],
      "text/plain": [
       "<IPython.lib.display.IFrame at 0x7fce68897d30>"
      ]
     },
     "execution_count": 13,
     "metadata": {},
     "output_type": "execute_result"
    }
   ],
   "source": [
    "IFrame(\"https://www.youtube.com/embed/qTgPSKKjfVg\", width=\"720\", height=\"405\")"
   ]
  },
  {
   "cell_type": "markdown",
   "id": "899602f2-b9ee-458f-bb12-8da95bfb76d8",
   "metadata": {
    "slideshow": {
     "slide_type": "slide"
    },
    "tags": []
   },
   "source": [
    "## DALL·E 1\n",
    "\n",
    "- Paper: https://arxiv.org/abs/2102.12092\n",
    "- Blog post: https://openai.com/blog/dall-e/\n",
    "- Code: https://github.com/openai/dall-e (it’s not complete and covers only the dVAE part)\n",
    "- Model: Not available\n",
    "- Alternative code (PyTorch): https://github.com/lucidrains/DALLE-pytorch \n",
    "- Alternative code (JAX/Flax): https://github.com/borisdayma/dalle-mini"
   ]
  },
  {
   "cell_type": "markdown",
   "id": "5d145cd0-2c51-4d1a-add2-1afee681c21a",
   "metadata": {
    "slideshow": {
     "slide_type": "slide"
    },
    "tags": []
   },
   "source": [
    "![dalle2](../figs/aiart_1_dalle1.png)\n",
    "\n",
    "- The first version of DALL·E was a GPT-3 style transformer decoder that autoregressively generated a 256×256 image based on textual input and an optional beginning of the image.\n",
    "- A text is encoded by BPE-tokens (max. 256), and an image is encoded by special image tokens (1024 of them) produced by a discrete variational autoencoder (dVAE). \n",
    "- dVAE encodes a 256×256 image into a grid of 32×32 tokens with a vocabulary of 8192 possible values. \n",
    "- Because of the dVAE, some details and high-frequency features are lost in generated images, so some blurriness and smoothness are the features of the DALL·E-generated images.\n"
   ]
  },
  {
   "cell_type": "markdown",
   "id": "dd3c974d-81c7-40a6-9f42-f38bed950931",
   "metadata": {
    "slideshow": {
     "slide_type": "slide"
    },
    "tags": []
   },
   "source": [
    "### DALL·E 1 Charateristics\n",
    "\n",
    "#### Controlling Attributes\n",
    "\n",
    "![attributes](../figs/aiart_1_dalle1_attributes.png)"
   ]
  },
  {
   "cell_type": "markdown",
   "id": "0e0fc5e6-edd6-44a8-b452-c05786223e8b",
   "metadata": {},
   "source": [
    "#### Drawing Multiple Objects\n",
    "\n",
    "![objects](../figs/aiart_1_dalle1_objects.png)"
   ]
  },
  {
   "cell_type": "markdown",
   "id": "70f62cb7-532a-4907-8d85-53134ec0135e",
   "metadata": {},
   "source": [
    "#### Visualizing Perspective and Three-Dimensionality\n",
    "\n",
    "![perspective](../figs/aiart_1_dalle1_perspective.png)"
   ]
  },
  {
   "cell_type": "markdown",
   "id": "ca7a6be5",
   "metadata": {},
   "source": [
    "#### Visualizing Internal and External Structure\n",
    "\n",
    "![structure](../figs/aiart_1_dalle1_structure.png)"
   ]
  },
  {
   "cell_type": "markdown",
   "id": "3bb82a5e",
   "metadata": {},
   "source": [
    "#### Inferring Contextual Details\n",
    "\n",
    "![context](../figs/aiart_1_dalle1_context.png)"
   ]
  },
  {
   "cell_type": "markdown",
   "id": "71d3aa10",
   "metadata": {},
   "source": [
    "### DALL·E 1 Architecture\n",
    "\n",
    "- The transformer is a large model with 12B parameters. \n",
    "- It consisted of 64 sparse transformer blocks with a complicated set of attention mechanisms inside, consisting of \n",
    "  - classical text-to-text masked attention, \n",
    "  - image-to-text attention, and \n",
    "  - image-to-image sparse attention. \n",
    "- All three attention types are merged into a single attention operation. \n",
    "- The model was trained on a dataset of 250M image-text pairs.\n"
   ]
  },
  {
   "cell_type": "markdown",
   "id": "bfd22977",
   "metadata": {},
   "source": [
    "#### VQ-VAE\n",
    "\n",
    "![vqvae](../figs/aiart_1_dalle1_vqvae.png)"
   ]
  },
  {
   "cell_type": "markdown",
   "id": "29788c78",
   "metadata": {},
   "source": [
    "- VQ-VAE is a type of variational autoencoder that uses vector quantization to obtain a discrete latent representation.\n",
    "- This is in contrast to the continuous latent space that other variational autoencoders have.\n",
    "- The objective function of a VQ-VAE, when trained on an image dataset, can be written as:\n",
    "  $$\\mathcal{L} = \\mathbb{E}_{q(z|x)}[\\log p(x|z)] - \\beta \\cdot D_{KL}[q(z|x) || p(z)]$$\n",
    "  where $p(x)$ is the data distribution, $q$ is the approximate posterior over latent variables and $D_{KL}$ denotes the Kullback-Leibler divergence. \n",
    "- This objective function encourages the model to learn an efficient codebook that minimises reconstruction error while also matching the prior distribution over codes."
   ]
  },
  {
   "cell_type": "markdown",
   "id": "e64471ea",
   "metadata": {},
   "source": [
    "**A latent space**\n",
    "\n",
    "A latent space is obtained by encoding the input image into the nearest codebook entry. This process is called vector quantization and results in a discrete latent space.\n",
    "\n",
    "![latent](../figs/aiart_1_dalle1_latent.png)"
   ]
  },
  {
   "cell_type": "markdown",
   "id": "654ac1db",
   "metadata": {},
   "source": [
    "#### Autoencoders\n",
    "\n",
    "![autoencoder](../figs/aiart_1_dalle1_autoencoder.png)"
   ]
  },
  {
   "cell_type": "markdown",
   "id": "4da313ea",
   "metadata": {},
   "source": [
    "- Autoencoder is a neural network that is trained to predict its input.\n",
    "- The objective function of an autoencoder can be written as:\n",
    "  $$\\mathcal{L} = \\mathbb{E}_{p(x)}[\\log p(x|z)]$$\n",
    "  where $p(x)$ is the data distribution and $p(x|z)$ is the model distribution. \n",
    "- This objective function encourages the model to learn a latent space that captures the underlying structure of the data.\n",
    "\n",
    "- A VQ-VAE can be seen as a type of autoencoder where the latent space is constrained to be discrete."
   ]
  },
  {
   "cell_type": "markdown",
   "id": "55e095e2",
   "metadata": {},
   "source": [
    "#### Variational Autoencoders (VAE)\n",
    "\n",
    "![vae](../figs/aiart_1_dalle1_vae.png)"
   ]
  },
  {
   "cell_type": "markdown",
   "id": "8f133baa",
   "metadata": {},
   "source": [
    "- Variational Autoencoders (VAE) is a type of autoencoder where the latent space is continuous. \n",
    "- The objective function of a VAE can be written as:\n",
    "  $$\\mathcal{L} = \\mathbb{E}_{q(z|x)}[\\log p(x|z)] - D_{KL}[q(z|x) || p(z)]$$\n",
    "  where $p(x)$ is the data distribution, $q$ is the approximate posterior over latent variables and $D_{KL}$ denotes the Kullback-Leibler divergence. \n",
    "- This objective function encourages the model to learn a latent space that captures the underlying structure of the data while also matching the prior distribution over latent variables."
   ]
  },
  {
   "cell_type": "markdown",
   "id": "3272ed49",
   "metadata": {},
   "source": [
    "#### Discrete Spaces\n",
    "\n",
    "![discrete](../figs/aiart_1_dalle1_discrete.png)"
   ]
  },
  {
   "cell_type": "markdown",
   "id": "12c4140b",
   "metadata": {},
   "source": [
    "- Discrete spaces are more efficient to represent than continuous spaces. \n",
    "- This is because a discrete space can be represented with a finite number of bits, whereas a continuous space requires an infinite number of bits. \n",
    "- In addition, discrete spaces are easier to manipulate and reason about than continuous spaces. \n",
    "- For these reasons, VQ-VAE is more efficient than VAE at learning latent representations of data."
   ]
  },
  {
   "cell_type": "markdown",
   "id": "f1c5a4dd",
   "metadata": {},
   "source": [
    "#### Uncertainty in the Posterior\n",
    "\n",
    "![uncetainty1](../figs/aiart_1_dalle1_uncetainty1.png)"
   ]
  },
  {
   "cell_type": "markdown",
   "id": "e5992b79",
   "metadata": {
    "notebookRunGroups": {
     "groupValue": "2"
    }
   },
   "source": [
    "**Uncertainty in the Posterior**\n",
    "\n",
    "![uncetainty2](../figs/aiart_1_dalle1_uncetainty2.png)"
   ]
  },
  {
   "cell_type": "markdown",
   "id": "9e94c1cf",
   "metadata": {},
   "source": [
    "- Uncertainty in the posterior is added by soft-sampling codebook vectors from the Gumbel-Softmax distribution. \n",
    "- This results in a softened latent space which can be seen as a continuous approximation of the discrete latent space.\n",
    "\n",
    "\n",
    "- The Gumbel-Softmax distribution is a type of distribution that allows for sampling from a discrete space while still allowing for gradients to flow through the samples. \n",
    "- This is useful for training models with discrete latent spaces, such as VQ-VAE. \n",
    "- The Gumbel-Softmax distribution is defined as:\n",
    "  $$G(z;\\mu,\\beta) = \\frac{\\exp((z - \\mu)/\\beta)}{\\sum_{k=1}^K \\exp((z_k - \\mu)/\\beta)}$$\n",
    "  where $\\mu$ is the mean, $\\beta$ is the temperature and $K$ is the number of classes."
   ]
  },
  {
   "cell_type": "markdown",
   "id": "c1af3421",
   "metadata": {},
   "source": [
    "**Comparison of original images (top) and reconstructions from the dVAE (bottom)**\n",
    "\n",
    "![dvae](../figs/aiart_1_dalle1_dvae.png)"
   ]
  },
  {
   "cell_type": "markdown",
   "id": "cd1b9517",
   "metadata": {},
   "source": [
    "#### Decoder\n",
    "\n",
    "A GPT-3 like transformer decoder consumes a sequence of text tokens and (optional) image tokens (here a single image token with id 42) and produces a continuation of an image (here the next image token with id 1369)\n",
    "\n",
    "![decoder](../figs/aiart_1_dalle1_decoder.png)"
   ]
  },
  {
   "cell_type": "markdown",
   "id": "6c8ba94f",
   "metadata": {},
   "source": [
    "#### Sampling From a Trained DALL-E\n",
    "\n",
    "![sampling](../figs/aiart_1_dalle1_sampling.png)"
   ]
  },
  {
   "cell_type": "markdown",
   "id": "0a0900c0",
   "metadata": {},
   "source": [
    "![sampling](../figs/aiart_1_dalle1_sampling2.png)"
   ]
  },
  {
   "cell_type": "markdown",
   "id": "869ca75c",
   "metadata": {},
   "source": [
    "### DALL·E 1 Results\n",
    "\n",
    "Several image generation examples from the original paper\n",
    "\n",
    "![examples](../figs/aiart_1_dalle1_examples.png)\n",
    "\n",
    "The trained model generated several samples (up to 512!) based on the text provided, then all these samples were ranked by a special model called CLIP, and the top-ranked one was chosen as the result of the model."
   ]
  },
  {
   "cell_type": "markdown",
   "id": "f4f99f13",
   "metadata": {},
   "source": [
    "![eval](../figs/aiart_1_dalle1_eval.png)"
   ]
  },
  {
   "cell_type": "markdown",
   "metadata": {},
   "source": []
  }
 ],
 "metadata": {
  "kernelspec": {
   "display_name": "Python 3 (ipykernel)",
   "language": "python",
   "name": "python3"
  },
  "language_info": {
   "codemirror_mode": {
    "name": "ipython",
    "version": 3
   },
   "file_extension": ".py",
   "mimetype": "text/x-python",
   "name": "python",
   "nbconvert_exporter": "python",
   "pygments_lexer": "ipython3",
   "version": "3.8.5"
  },
  "vscode": {
   "interpreter": {
    "hash": "d4d1e4263499bec80672ea0156c357c1ee493ec2b1c70f0acce89fc37c4a6abe"
   }
  },
  "widgets": {
   "application/vnd.jupyter.widget-state+json": {
    "state": {},
    "version_major": 2,
    "version_minor": 0
   }
  }
 },
 "nbformat": 4,
 "nbformat_minor": 5
}
