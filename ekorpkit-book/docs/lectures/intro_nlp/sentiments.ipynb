{
 "cells": [
  {
   "cell_type": "markdown",
   "id": "cfdc61fb",
   "metadata": {},
   "source": [
    "# Sentiment Analysis\n",
    "\n",
    "![](../figs/intro_nlp/sa/entelecheia_smile.png)"
   ]
  },
  {
   "cell_type": "markdown",
   "id": "66d50cc3",
   "metadata": {},
   "source": [
    "## What is sentiment analysis\n",
    "\n",
    "- Sentiment analysis is the process of determining whether a piece of writing is positive, negative or neutral. \n",
    "- It's also known as opinion mining, deriving the opinion or attitude of a speaker.\n",
    "- It applies natural language processing, text analysis, computational linguistics, and machine learning to identify and extract subjective information in source materials such as reviews, comments, and news articles.\n",
    "- The goal of sentiment analysis is to know the attitude of a speaker or writer with respect to some topic or the overall contextual polarity or emotional reaction to a document, interaction, or event."
   ]
  },
  {
   "cell_type": "markdown",
   "id": "b66aa0ae",
   "metadata": {},
   "source": [
    "## Why sentiment analysis\n",
    "\n",
    "- Sentiment analysis is a useful tool for businesses to understand the sentiment of their customers towards their brand, product or service. \n",
    "- It can also be used to understand the sentiment of their competitors. \n",
    "- Sentiment analysis can also be used to understand the sentiment of the general public towards certain issues."
   ]
  },
  {
   "cell_type": "markdown",
   "id": "560d56a5",
   "metadata": {},
   "source": [
    "## Sentiment analysis types\n",
    "\n",
    "Depending on the scale of the sentiment analysis, there are three types of sentiment analysis:\n",
    "\n",
    "- **Document-level sentiment analysis**: This is the most common type of sentiment analysis. It is used to determine the overall sentiment of a document.\n",
    "- **Sentence-level sentiment analysis**: This type of sentiment analysis is used to determine the sentiment of a sentence within a document.\n",
    "- **Aspect-level sentiment analysis**: This type of sentiment analysis is used to determine the sentiment of a specific aspect of a document.\n",
    "\n",
    "These three types of sentiment analysis can be grouped into two categories:\n",
    "\n",
    "- **Coarse-grained sentiment analysis**: This type of sentiment analysis is used to determine the overall sentiment of a document. It is also known as document-level sentiment analysis.\n",
    "- **Fine-grained sentiment analysis**: This type of sentiment analysis is used to determine the sentiment of a specific aspect of a document. It is also known as aspect-level sentiment analysis.\n",
    "\n",
    "\n",
    "\n",
    "Or, depending on the number of classes, there are two types of sentiment analysis:\n",
    "\n",
    "- **Binary sentiment analysis**: This type of sentiment analysis is used to determine whether a document is positive or negative.\n",
    "- **Multi-class sentiment analysis**: This type of sentiment analysis is used to determine whether a document is positive, negative or neutral."
   ]
  },
  {
   "cell_type": "markdown",
   "id": "adccda9f",
   "metadata": {},
   "source": [
    "\n",
    "## How sentiment analysis works\n",
    "\n",
    "Sentiment analysis is a supervised machine learning task. It involves training a model on a dataset of texts that are already labelled with their sentiment. The model is then used to predict the sentiment of new texts.\n",
    "\n",
    "## Sentiment analysis datasets\n",
    "\n",
    "There are many datasets available for sentiment analysis. Here are a few:\n",
    "\n",
    "* [IMDB movie reviews](http://ai.stanford.edu/~amaas/data/sentiment/)\n",
    "* [Amazon product reviews](http://jmcauley.ucsd.edu/data/amazon/)\n",
    "* [Twitter US Airline Sentiment](https://www.kaggle.com/crowdflower/twitter-airline-sentiment)\n",
    "* [Sentiment140](http://help.sentiment140.com/for-students/)\n",
    "* [Stanford Sentiment Treebank](https://nlp.stanford.edu/sentiment/index.html)\n",
    "* [Yelp reviews](https://www.yelp.com/dataset/challenge)\n",
    "* [Semeval 2017](http://alt.qcri.org/semeval2017/task4/)\n",
    "\n"
   ]
  },
  {
   "cell_type": "markdown",
   "id": "f51aa600",
   "metadata": {},
   "source": [
    "## Sentiment analysis with NLTK\n",
    "\n",
    "NLTK has a built-in sentiment analysis module called `SentimentIntensityAnalyzer`. It uses a lexicon and rule-based approach to assign a sentiment polarity score to a sentence. The sentiment polarity score is a float within the range [-1.0, 1.0]. The score is the sum of the valence scores of each word in the sentence, adjusted according to the rules, and then normalized to be between -1.0 and 1.0. Positive values are positive valence, negative value are negative valence.\n",
    "\n",
    "```python\n",
    "from nltk.sentiment.vader import SentimentIntensityAnalyzer\n",
    "sid = SentimentIntensityAnalyzer()\n",
    "sid.polarity_scores(\"This is a good movie\")\n",
    "```\n",
    "\n",
    "    {'neg': 0.0, 'neu': 0.417, 'pos': 0.583, 'compound': 0.4404}\n",
    "\n",
    "```python\n",
    "sid.polarity_scores(\"This is a bad movie\")\n",
    "```\n",
    "\n",
    "    {'neg': 0.583, 'neu': 0.417, 'pos': 0.0, 'compound': -0.4404}\n",
    "\n",
    "```python\n",
    "sid.polarity_scores(\"This is a bad movie but it has good acting\")\n",
    "```\n",
    "\n",
    "    {'neg': 0.0, 'neu': 0.667, 'pos': 0.333, 'compound': 0.4404}"
   ]
  },
  {
   "cell_type": "markdown",
   "id": "503a266b",
   "metadata": {},
   "source": []
  }
 ],
 "metadata": {
  "kernelspec": {
   "display_name": "Python 3.8.5 ('base')",
   "language": "python",
   "name": "python3"
  },
  "language_info": {
   "name": "python",
   "version": "3.8.5"
  },
  "vscode": {
   "interpreter": {
    "hash": "d4d1e4263499bec80672ea0156c357c1ee493ec2b1c70f0acce89fc37c4a6abe"
   }
  }
 },
 "nbformat": 4,
 "nbformat_minor": 5
}
