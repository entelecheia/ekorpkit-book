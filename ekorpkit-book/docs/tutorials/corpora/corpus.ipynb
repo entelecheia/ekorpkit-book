{
 "cells": [
  {
   "cell_type": "markdown",
   "metadata": {
    "id": "cjgz1WTcPWee"
   },
   "source": [
    "# Instantiating corpora and corpus class"
   ]
  },
  {
   "cell_type": "code",
   "execution_count": 1,
   "metadata": {
    "id": "BzxPwsOVPWef"
   },
   "outputs": [],
   "source": [
    "from ekorpkit import eKonf"
   ]
  },
  {
   "cell_type": "markdown",
   "metadata": {
    "id": "it1Y0MVPXRsJ"
   },
   "source": [
    "## Build corpora with the ekorpkit configs"
   ]
  },
  {
   "cell_type": "code",
   "execution_count": 3,
   "metadata": {
    "colab": {
     "base_uri": "https://localhost:8080/",
     "height": 1000,
     "referenced_widgets": [
      "8c65a541b1424bc895a358ec8c2955d0",
      "a1f39c5fb6e14bba94948ceed945c48e",
      "df825e76b09f4b40b0f22abd96afd9ec",
      "f2ba1273dc964523a52c645113dc15dc",
      "cf589159b5844031b2c07a2941d6d767",
      "c73b1e574c6148a79e919619e5337b13",
      "c3d0d587372c4cb185f70e2106460913",
      "42bba043a42e4a408017fa0c58fc89b1",
      "eca5b19cb1a8472f9803e056dc2e3edf",
      "1eec65bd4a4f4ac3a141ebfc0abf2fd7",
      "3a91d7fbcbe94220bb5e5edc4592ea44",
      "c0249a1e6b094b28afb32aa4c8ee6241",
      "b406dade33294912b357909432006a6f",
      "466cf119d61544108f7e9fc2743f90f4",
      "895fc91e766a4c5098cef03f21722754",
      "d933287033b244eb878dd8272163edbd",
      "b6329b07e3c9478a9934f014d2586c8a",
      "147722c8b38e43f4a74a8cbc4ff80132",
      "94ade840d70c440b901f0fefca36b700",
      "bb38b9fad3f6491cb0e4f5e13a00f402",
      "6c34cf9978fd4a0ab092db70ba5ca133",
      "b530f744c9914640b388e2c9ca7164be",
      "7f49f945e79c49558b5c23e413670ca4",
      "ad250bac857e4ba191178ff7aa0f21c2",
      "76c77c45dc2146a887d1a05d05a2b07c",
      "1bb668c7534d435a9f0a55c6eafb3755",
      "c504bb84cc5c4e0a9d8f4f5715ec6a03",
      "52688fc848054b3da375b73185519df2",
      "6c105fb7575745968215abddfc42d3a4",
      "c465acff35ef43cd8aa029289509f801",
      "cdce198d7e584538987b33ed590860d3",
      "3971c7c442bc4ff0ae1148a75034e989",
      "5beee945b7ed485eb3f7c8193d9c696a",
      "92753dfdb5854e12bc66bdc60072b5a1",
      "beb1d40680394747b535f2bbbbff8d75",
      "d86836fe655f4097abfe4297b3c33f27",
      "8670c085406a45ba9dff599d8e1bcfa0",
      "c5f11d5c87964550aacd9b477f2791aa",
      "b6188d143588467e90daa1c230748456",
      "5bef610b5d5c43549f174794559298a6",
      "2e3a25b1cfa34d6fac3ce2e33831ce71",
      "83214c0e91004c57b95a17f72c9ade8e",
      "4ea44db70fc14d839ef1e36b262197f1",
      "d751a8dd2711494695545cd8309a9add",
      "5af5d75e48bb409bb0201ae9b4bcbc7a",
      "12d5551a754b4c32a714fa0fa25096a6",
      "bb6c2a38a0e147d1a73bd510d0af4f55",
      "74b643eb567b4e1baa2edeab5314bf74",
      "0cc33597c6624a2fadc0454f1347e245",
      "ea8f5b8623a4457aa5e7028bd47d8f7c",
      "5e6bf9b1fe4a4b20a892690140fd153b",
      "03468bd389d649b6a5376a225393d580",
      "4741f650996042a5822de55078e32aaf",
      "e5610d32b9434cfaad97c84dff963517",
      "747bd5269293486fa5610b5ef989ad1a",
      "0a251d38928746c1bc8e811676078c84",
      "92c9e23051b84ec5a44f4535d384ea3d",
      "745247540de84e14ad7513d479500175",
      "f59dc69320884fdebf3c128cac03d50c",
      "6d5547298c504706b47369159b47b387",
      "3f1fdfa3512c45cc93ee00d0d9a65864",
      "a4905ccd3b6948f6b9a43353c444a712",
      "6fadeb5ed8e94808b87e91a6272cfa53",
      "11475267a3ae4986b70c2282fd4a0723",
      "a83cdec6d8764baaa94eb719d94bf0cf",
      "64dcc52bf9af461d92d605f60da57c10",
      "de057a7427694ca391cde9f8244706cd",
      "d973cb22de8a4980a93e42e5b02ec1b5",
      "ee954aeeaaed48a7acaf05112897a74e",
      "1092b9c63f5c4e5fab04337f55d6272f",
      "42039657cac3411389b3103129f74c17",
      "b937fee33d684033bbf93af5c98fa59c",
      "6c3a5ec1a3ec45c789611d5820b0a97b",
      "9686d1ab402d436b90deabb87782ac28",
      "f403433bd62c42bf88cb4007300ab14f",
      "c766e4a1c63f43a3ab2803b71a05f675",
      "e6cbaaf738b44a8bb26cf5364322476d"
     ]
    },
    "id": "hEVpCETEPWeg",
    "outputId": "f544db07-b0be-4c52-ed74-15de18f741ef"
   },
   "outputs": [
    {
     "name": "stderr",
     "output_type": "stream",
     "text": [
      "No normalizer specified\n"
     ]
    },
    {
     "name": "stdout",
     "output_type": "stream",
     "text": [
      "{'category': 'formal',\n",
      " 'column_info': {'data': {'id': 'int', 'text': 'str'},\n",
      "                 'keys': {'id': 'id', 'text': 'text'},\n",
      "                 'meta': {'filename': 'str',\n",
      "                          'id': 'int',\n",
      "                          'mdate': 'str',\n",
      "                          'rdate': 'str'}},\n",
      " 'data_files': {'train': 'bok_minutes-train.parquet'},\n",
      " 'data_files_modified': '2022-05-20 06:14:20',\n",
      " 'description': 'BOK Minutes Corpus',\n",
      " 'fullname': 'BOK MPB Minutes',\n",
      " 'homepage': 'https://www.bok.or.kr',\n",
      " 'info_updated': '2022-05-20 06:14:20',\n",
      " 'lang': 'ko',\n",
      " 'license': 'Bank of Korea',\n",
      " 'meta_files': {'train': 'meta-bok_minutes-train.parquet'},\n",
      " 'meta_files_modified': '2022-05-20 06:08:40',\n",
      " 'name': 'bok_minutes',\n",
      " 'num_bytes_before_processing': 88948,\n",
      " 'num_docs': 1,\n",
      " 'num_docs_before_processing': 1,\n",
      " 'num_segments': 5,\n",
      " 'num_sents': 346,\n",
      " 'num_words': 8171,\n",
      " 'size_in_bytes': 88948,\n",
      " 'size_in_human_bytes': '86.86 KiB',\n",
      " 'splits': {'train': {'data_file': 'bok_minutes-train.parquet',\n",
      "                      'dataset_name': 'bok_minutes',\n",
      "                      'human_bytes': '86.86 KiB',\n",
      "                      'human_bytes_wospc': '78.88 KiB',\n",
      "                      'meta_file': 'meta-bok_minutes-train.parquet',\n",
      "                      'name': 'train',\n",
      "                      'num_bytes': 88948,\n",
      "                      'num_bytes_before_processing': 88948,\n",
      "                      'num_bytes_max': 88948,\n",
      "                      'num_bytes_median': 88948.0,\n",
      "                      'num_bytes_min': 88948,\n",
      "                      'num_bytes_wospc': 80773,\n",
      "                      'num_docs': 1,\n",
      "                      'num_docs_before_processing': 1,\n",
      "                      'num_segments': 5,\n",
      "                      'num_segments_median': 5.0,\n",
      "                      'num_sents': 346,\n",
      "                      'num_sents_median': 346.0,\n",
      "                      'num_words': 8171,\n",
      "                      'num_words_max': 8171,\n",
      "                      'num_words_median': 8171.0,\n",
      "                      'num_words_min': 8171}},\n",
      " 'version': '1.0.0'}\n"
     ]
    },
    {
     "data": {
      "application/vnd.jupyter.widget-view+json": {
       "model_id": "54127f23a4914af58224a4602508b8db",
       "version_major": 2,
       "version_minor": 0
      },
      "text/plain": [
       "min length: 3:   0%|          | 0/1 [00:00<?, ?it/s]"
      ]
     },
     "metadata": {},
     "output_type": "display_data"
    },
    {
     "name": "stdout",
     "output_type": "stream",
     "text": [
      "----------------------------------------------------------------------------------------------------\n",
      "\n",
      "text: \n",
      "Economic Situation\n",
      "일부 위원은 관련부서에서 지난 3\\/4분기 중 유로지역 경제성장 부진을 자동차 관련 규제 등 일시적 요인에 의한 것으로 평가한 것과 관련하여, 동...\n",
      "\n",
      "----------------------------------------------------------------------------------------------------\n",
      " >> saved dataframe to ../data/bok_minutes/bok_minutes-train.parquet\n"
     ]
    },
    {
     "data": {
      "application/vnd.jupyter.widget-view+json": {
       "model_id": "1986eb6d24f54cfea84da0a0dacf1d3f",
       "version_major": 2,
       "version_minor": 0
      },
      "text/plain": [
       "apply len_bytes to num_bytes:   0%|          | 0/1 [00:00<?, ?it/s]"
      ]
     },
     "metadata": {},
     "output_type": "display_data"
    },
    {
     "data": {
      "application/vnd.jupyter.widget-view+json": {
       "model_id": "cb15b06329564a2c89b0929c5e3c89e2",
       "version_major": 2,
       "version_minor": 0
      },
      "text/plain": [
       "apply len_wospc to num_bytes_wospc:   0%|          | 0/1 [00:00<?, ?it/s]"
      ]
     },
     "metadata": {},
     "output_type": "display_data"
    },
    {
     "data": {
      "application/vnd.jupyter.widget-view+json": {
       "model_id": "5fdeedb892c4404e93c7a8c8f4319d6e",
       "version_major": 2,
       "version_minor": 0
      },
      "text/plain": [
       "apply len_words to num_words:   0%|          | 0/1 [00:00<?, ?it/s]"
      ]
     },
     "metadata": {},
     "output_type": "display_data"
    },
    {
     "data": {
      "application/vnd.jupyter.widget-view+json": {
       "model_id": "d657ae729c434d3aa5ce494508e9ed5a",
       "version_major": 2,
       "version_minor": 0
      },
      "text/plain": [
       "apply len_sents to num_sents:   0%|          | 0/1 [00:00<?, ?it/s]"
      ]
     },
     "metadata": {},
     "output_type": "display_data"
    },
    {
     "data": {
      "application/vnd.jupyter.widget-view+json": {
       "model_id": "a5fa1a29dd324fc7a59d1278839f4a86",
       "version_major": 2,
       "version_minor": 0
      },
      "text/plain": [
       "apply len_segments to num_segments:   0%|          | 0/1 [00:00<?, ?it/s]"
      ]
     },
     "metadata": {},
     "output_type": "display_data"
    },
    {
     "name": "stdout",
     "output_type": "stream",
     "text": [
      "{'category': 'formal',\n",
      " 'column_info': {'data': {'id': 'int', 'text': 'str'},\n",
      "                 'keys': {'id': 'id', 'text': 'text'},\n",
      "                 'meta': {'filename': 'str',\n",
      "                          'id': 'int',\n",
      "                          'mdate': 'str',\n",
      "                          'rdate': 'str'}},\n",
      " 'data_files': {'train': 'bok_minutes-train.parquet'},\n",
      " 'data_files_modified': '2022-05-20 06:15:19',\n",
      " 'description': 'BOK Minutes Corpus',\n",
      " 'fullname': 'BOK MPB Minutes',\n",
      " 'homepage': 'https://www.bok.or.kr',\n",
      " 'info_updated': '2022-05-20 06:15:19',\n",
      " 'lang': 'ko',\n",
      " 'license': 'Bank of Korea',\n",
      " 'meta_files': {'train': 'meta-bok_minutes-train.parquet'},\n",
      " 'meta_files_modified': '2022-05-20 06:08:40',\n",
      " 'name': 'bok_minutes',\n",
      " 'num_bytes_before_processing': 88948,\n",
      " 'num_docs': 1,\n",
      " 'num_docs_before_processing': 1,\n",
      " 'num_segments': 5,\n",
      " 'num_sents': 346,\n",
      " 'num_words': 8171,\n",
      " 'size_in_bytes': 88948,\n",
      " 'size_in_human_bytes': '86.86 KiB',\n",
      " 'splits': {'train': {'data_file': 'bok_minutes-train.parquet',\n",
      "                      'dataset_name': 'bok_minutes',\n",
      "                      'human_bytes': '86.86 KiB',\n",
      "                      'human_bytes_wospc': '78.88 KiB',\n",
      "                      'meta_file': 'meta-bok_minutes-train.parquet',\n",
      "                      'name': 'train',\n",
      "                      'num_bytes': 88948,\n",
      "                      'num_bytes_before_processing': 88948,\n",
      "                      'num_bytes_max': 88948,\n",
      "                      'num_bytes_median': 88948.0,\n",
      "                      'num_bytes_min': 88948,\n",
      "                      'num_bytes_wospc': 80773,\n",
      "                      'num_docs': 1,\n",
      "                      'num_docs_before_processing': 1,\n",
      "                      'num_segments': 5,\n",
      "                      'num_segments_median': 5.0,\n",
      "                      'num_sents': 346,\n",
      "                      'num_sents_median': 346.0,\n",
      "                      'num_words': 8171,\n",
      "                      'num_words_max': 8171,\n",
      "                      'num_words_median': 8171.0,\n",
      "                      'num_words_min': 8171}},\n",
      " 'version': '1.0.0'}\n"
     ]
    },
    {
     "name": "stderr",
     "output_type": "stream",
     "text": [
      "No normalizer specified\n"
     ]
    },
    {
     "name": "stdout",
     "output_type": "stream",
     "text": [
      "{'category': 'formal',\n",
      " 'column_info': {'data': {'id': 'int', 'text': 'str'},\n",
      "                 'keys': {'id': 'id', 'text': 'text'},\n",
      "                 'meta': {'filename': 'str',\n",
      "                          'id': 'int',\n",
      "                          'mdate': 'str',\n",
      "                          'rdate': 'str'}},\n",
      " 'data_files': {'train': 'bok_minutes-train.parquet'},\n",
      " 'data_files_modified': '2022-05-20 06:15:19',\n",
      " 'description': 'BOK Minutes Corpus',\n",
      " 'fullname': 'BOK MPB Minutes',\n",
      " 'homepage': 'https://www.bok.or.kr',\n",
      " 'info_updated': '2022-05-20 06:15:19',\n",
      " 'lang': 'ko',\n",
      " 'license': 'Bank of Korea',\n",
      " 'meta_files': {'train': 'meta-bok_minutes-train.parquet'},\n",
      " 'meta_files_modified': '2022-05-20 06:08:40',\n",
      " 'name': 'bok_minutes',\n",
      " 'num_bytes_before_processing': 88948,\n",
      " 'num_docs': 1,\n",
      " 'num_docs_before_processing': 1,\n",
      " 'num_segments': 5,\n",
      " 'num_sents': 346,\n",
      " 'num_words': 8171,\n",
      " 'size_in_bytes': 88948,\n",
      " 'size_in_human_bytes': '86.86 KiB',\n",
      " 'splits': {'train': {'data_file': 'bok_minutes-train.parquet',\n",
      "                      'dataset_name': 'bok_minutes',\n",
      "                      'human_bytes': '86.86 KiB',\n",
      "                      'human_bytes_wospc': '78.88 KiB',\n",
      "                      'meta_file': 'meta-bok_minutes-train.parquet',\n",
      "                      'name': 'train',\n",
      "                      'num_bytes': 88948,\n",
      "                      'num_bytes_before_processing': 88948,\n",
      "                      'num_bytes_max': 88948,\n",
      "                      'num_bytes_median': 88948.0,\n",
      "                      'num_bytes_min': 88948,\n",
      "                      'num_bytes_wospc': 80773,\n",
      "                      'num_docs': 1,\n",
      "                      'num_docs_before_processing': 1,\n",
      "                      'num_segments': 5,\n",
      "                      'num_segments_median': 5.0,\n",
      "                      'num_sents': 346,\n",
      "                      'num_sents_median': 346.0,\n",
      "                      'num_words': 8171,\n",
      "                      'num_words_max': 8171,\n",
      "                      'num_words_median': 8171.0,\n",
      "                      'num_words_min': 8171}},\n",
      " 'version': '1.0.0'}\n"
     ]
    },
    {
     "data": {
      "application/vnd.jupyter.widget-view+json": {
       "model_id": "b16f5fe17f4245cfbd92b59a254990f4",
       "version_major": 2,
       "version_minor": 0
      },
      "text/plain": [
       "min length: 3:   0%|          | 0/1 [00:00<?, ?it/s]"
      ]
     },
     "metadata": {},
     "output_type": "display_data"
    },
    {
     "name": "stdout",
     "output_type": "stream",
     "text": [
      "----------------------------------------------------------------------------------------------------\n",
      "\n",
      "text: \n",
      "Economic Situation\n",
      "일부 위원은 관련부서에서 지난 3\\/4분기 중 유로지역 경제성장 부진을 자동차 관련 규제 등 일시적 요인에 의한 것으로 평가한 것과 관련하여, 동...\n",
      "\n",
      "----------------------------------------------------------------------------------------------------\n",
      " >> saved dataframe to ../data/bok_minutes/bok_minutes-train.parquet\n"
     ]
    },
    {
     "data": {
      "application/vnd.jupyter.widget-view+json": {
       "model_id": "580f711d222b4b0ca0fca0bce084fe6d",
       "version_major": 2,
       "version_minor": 0
      },
      "text/plain": [
       "apply len_bytes to num_bytes:   0%|          | 0/1 [00:00<?, ?it/s]"
      ]
     },
     "metadata": {},
     "output_type": "display_data"
    },
    {
     "data": {
      "application/vnd.jupyter.widget-view+json": {
       "model_id": "8d9eabfa65a345a8a6a90c096d7c65db",
       "version_major": 2,
       "version_minor": 0
      },
      "text/plain": [
       "apply len_wospc to num_bytes_wospc:   0%|          | 0/1 [00:00<?, ?it/s]"
      ]
     },
     "metadata": {},
     "output_type": "display_data"
    },
    {
     "data": {
      "application/vnd.jupyter.widget-view+json": {
       "model_id": "397c626a9b2a47aab211ff2b8cf1850b",
       "version_major": 2,
       "version_minor": 0
      },
      "text/plain": [
       "apply len_words to num_words:   0%|          | 0/1 [00:00<?, ?it/s]"
      ]
     },
     "metadata": {},
     "output_type": "display_data"
    },
    {
     "data": {
      "application/vnd.jupyter.widget-view+json": {
       "model_id": "283759936517462193cde676ac62f584",
       "version_major": 2,
       "version_minor": 0
      },
      "text/plain": [
       "apply len_sents to num_sents:   0%|          | 0/1 [00:00<?, ?it/s]"
      ]
     },
     "metadata": {},
     "output_type": "display_data"
    },
    {
     "data": {
      "application/vnd.jupyter.widget-view+json": {
       "model_id": "fed7d82828764e908fe5fed8418b352e",
       "version_major": 2,
       "version_minor": 0
      },
      "text/plain": [
       "apply len_segments to num_segments:   0%|          | 0/1 [00:00<?, ?it/s]"
      ]
     },
     "metadata": {},
     "output_type": "display_data"
    },
    {
     "name": "stdout",
     "output_type": "stream",
     "text": [
      "{'category': 'formal',\n",
      " 'column_info': {'data': {'id': 'int', 'text': 'str'},\n",
      "                 'keys': {'id': 'id', 'text': 'text'},\n",
      "                 'meta': {'filename': 'str',\n",
      "                          'id': 'int',\n",
      "                          'mdate': 'str',\n",
      "                          'rdate': 'str'}},\n",
      " 'data_files': {'train': 'bok_minutes-train.parquet'},\n",
      " 'data_files_modified': '2022-05-20 06:15:19',\n",
      " 'description': 'BOK Minutes Corpus',\n",
      " 'fullname': 'BOK MPB Minutes',\n",
      " 'homepage': 'https://www.bok.or.kr',\n",
      " 'info_updated': '2022-05-20 06:15:19',\n",
      " 'lang': 'ko',\n",
      " 'license': 'Bank of Korea',\n",
      " 'meta_files': {'train': 'meta-bok_minutes-train.parquet'},\n",
      " 'meta_files_modified': '2022-05-20 06:08:40',\n",
      " 'name': 'bok_minutes',\n",
      " 'num_bytes_before_processing': 88948,\n",
      " 'num_docs': 1,\n",
      " 'num_docs_before_processing': 1,\n",
      " 'num_segments': 5,\n",
      " 'num_sents': 346,\n",
      " 'num_words': 8171,\n",
      " 'size_in_bytes': 88948,\n",
      " 'size_in_human_bytes': '86.86 KiB',\n",
      " 'splits': {'train': {'data_file': 'bok_minutes-train.parquet',\n",
      "                      'dataset_name': 'bok_minutes',\n",
      "                      'human_bytes': '86.86 KiB',\n",
      "                      'human_bytes_wospc': '78.88 KiB',\n",
      "                      'meta_file': 'meta-bok_minutes-train.parquet',\n",
      "                      'name': 'train',\n",
      "                      'num_bytes': 88948,\n",
      "                      'num_bytes_before_processing': 88948,\n",
      "                      'num_bytes_max': 88948,\n",
      "                      'num_bytes_median': 88948.0,\n",
      "                      'num_bytes_min': 88948,\n",
      "                      'num_bytes_wospc': 80773,\n",
      "                      'num_docs': 1,\n",
      "                      'num_docs_before_processing': 1,\n",
      "                      'num_segments': 5,\n",
      "                      'num_segments_median': 5.0,\n",
      "                      'num_sents': 346,\n",
      "                      'num_sents_median': 346.0,\n",
      "                      'num_words': 8171,\n",
      "                      'num_words_max': 8171,\n",
      "                      'num_words_median': 8171.0,\n",
      "                      'num_words_min': 8171}},\n",
      " 'version': '1.0.0'}\n"
     ]
    }
   ],
   "source": [
    "cfg = eKonf.compose(config_group='corpus/builtin=_dummy_bok_minutes')\n",
    "cfg.data_dir = '../data/bok_minutes'\n",
    "cfg.verbose = True\n",
    "db = eKonf.instantiate(cfg)\n",
    "db.build()"
   ]
  },
  {
   "cell_type": "code",
   "execution_count": 4,
   "metadata": {
    "colab": {
     "base_uri": "https://localhost:8080/",
     "height": 1000,
     "referenced_widgets": [
      "790d9af4f03046628294f217df9992b6",
      "000321219e304f73b3ef4cf3f65ebbb8",
      "d14e496a01ea4c15a2e0e52d2df3123f",
      "4c0c00188024458daf9fc9332893e345",
      "2140f576623b465d8c7597d9b7e72f5e",
      "54d869d5eb42477694013ea90a575680",
      "7359214545934faa947d0bccb34e8d5d",
      "db56fa8f641a4143aebcea0467fa4233",
      "53bd559949c54e0ba3f03ddd20e3db04",
      "48fdb3ab74bc4249b2635a3b665d013f",
      "e70bec83363e4f559c98c0c1a1a12b23",
      "62be24c564954a2ab51fbab4c6ebe65d",
      "1dfc3c14a35940b8a45e51f99dd3207f",
      "908f9ad82af64ba185c296a6a20040a5",
      "ca67765dde9749bea97ca494ddba2071",
      "9ce1323f772a48ad9cc5ff960016523a",
      "58900aecb02d4a95a2779704b85a680e",
      "9771a27941d54fca9f6165c88b743501",
      "982a7e16fb8a48f4af631786eb658d41",
      "ae059dfc42b847c7ae0788d13e1c16ea",
      "52db3eff16a94112a8b9ec1a0587d642",
      "f5357709111f4713ae4d78d15fd6cb1e",
      "9cd05b01212a4c578b1be2fbc3a9e41f",
      "2e0a8285cef64ed78b27f22cd346cacb",
      "993e6e3109dc4c1d9efc681100416fa9",
      "fd07ba7dd11e440fbb23eb9e2a0b93ea",
      "eff8af51b3c34cbbbe6909487d5c405f",
      "b2097da741a44e25ad7df7a9320b1219",
      "804c259847ca43a98410357524129bca",
      "dfd7ef72659a451e8b33853b9493712f",
      "591fcef1e8324d9c9452ed72755e16c0",
      "8870e1b3a8cf49abb9b1c7f244fe8017",
      "2df4658ac779472fbd5e28aa11402385",
      "88168c526b9842ea930d387d35029026",
      "17903b0a638049ec8de132f12203b1cc",
      "819446431026497e80f361c6b767187b",
      "281981b3263d4188b9f73d6c89b02b77",
      "3bfae4dbb2384bcab688ac9046f9017f",
      "036320f973e945e8ac65795cf7711ac1",
      "fdc76925e3eb45f4bd47d45587dc4a54",
      "cd797533f9f244f08eefdeb00a9e4588",
      "3c9eba0f44eb42c2a3a01989a60c82cc",
      "e78b1c11e39e44cd9e433edfc5f4236a",
      "36b4d0e4b011412d9e475180f25f56f6",
      "07838b86a0914df3ba0b01a610423753",
      "02ee36e595e84f39b051f7c5a9ba9b80",
      "c6665a76176e46498f9aec14f2099ae7",
      "5622c3572092408da75d84d64005448b",
      "016285384f81431eb77309aa053d6ae0",
      "f0f2d20a973545a297510ecde71d0c66",
      "290bb00fbb13455289e46415d4afbe17",
      "776dc72772eb40c19b77973bb2ac39df",
      "e3d65fe141be46309b9468480d936085",
      "171bb4d4b6264775853f4f7131d870aa",
      "2e60978f29f64407905eba9d14f0a4b8",
      "21e15b390c5741c98a47a42942fb2198",
      "058166ebc176489bb75c3a20ed0bf96b",
      "8cc677ab74364fd3a3057fa6d34dbc3a",
      "fa327dd31043425c8118f0b5e04532b6",
      "428832819e804e76b5dfeccfd9251685",
      "7c7712bae7df4c07aad57752b83edc7b",
      "5e952a68d10c42e78e67a01c86ff4f17",
      "983ae7b1bebb4e49ab73aa8cbf07491c",
      "4990f0eabf994f9ea95a5a7a5879c1cb",
      "47b7bc0dcda24d1e9bc18235bfb38cd2",
      "522f6f063f1d46438172583ec09e07da",
      "2de6ef1962084bca8bb2368877c6c0ea",
      "75b0437c96b244d39a92add8e45893b0",
      "b74d1a99fa634254844e12e9b5414f95",
      "746a662077c4408c9f9744ec2ddb39cf",
      "5f00d4fb505a483fb368eb3aa5a134b6",
      "cceec1ff80194092a204083d1ee0b59b",
      "1a74ba8088cd4f65874e2dfa9e624af2",
      "bd1672887db14e3e8dde1444c4a25a3b",
      "d9b11d5342d04393bafc091da9e1c98a",
      "1cdfeccc74e2448abb6023955bb212cc",
      "417d02e203ab4b99930f48cfd82ea311"
     ]
    },
    "id": "efZ77OvmPWeh",
    "outputId": "6871f44b-8783-4a00-ffe7-1c3cefa62598"
   },
   "outputs": [
    {
     "data": {
      "application/vnd.jupyter.widget-view+json": {
       "model_id": "cffcfe6e241b4f4ab4ade21c9ce0a612",
       "version_major": 2,
       "version_minor": 0
      },
      "text/plain": [
       "apply len_bytes to num_bytes:   0%|          | 0/5 [00:00<?, ?it/s]"
      ]
     },
     "metadata": {},
     "output_type": "display_data"
    },
    {
     "data": {
      "application/vnd.jupyter.widget-view+json": {
       "model_id": "1e6fb6f5636d44ee8b434c62e79cb9a0",
       "version_major": 2,
       "version_minor": 0
      },
      "text/plain": [
       "apply len_wospc to num_bytes_wospc:   0%|          | 0/5 [00:00<?, ?it/s]"
      ]
     },
     "metadata": {},
     "output_type": "display_data"
    },
    {
     "data": {
      "application/vnd.jupyter.widget-view+json": {
       "model_id": "af791bad967f422ebf57b29a58015056",
       "version_major": 2,
       "version_minor": 0
      },
      "text/plain": [
       "apply len_words to num_words:   0%|          | 0/5 [00:00<?, ?it/s]"
      ]
     },
     "metadata": {},
     "output_type": "display_data"
    },
    {
     "data": {
      "application/vnd.jupyter.widget-view+json": {
       "model_id": "7542815608374245aa72be1783125694",
       "version_major": 2,
       "version_minor": 0
      },
      "text/plain": [
       "apply len_sents to num_sents:   0%|          | 0/5 [00:00<?, ?it/s]"
      ]
     },
     "metadata": {},
     "output_type": "display_data"
    },
    {
     "data": {
      "application/vnd.jupyter.widget-view+json": {
       "model_id": "abbad8c6189b4107afddb72199007b97",
       "version_major": 2,
       "version_minor": 0
      },
      "text/plain": [
       "apply len_segments to num_segments:   0%|          | 0/5 [00:00<?, ?it/s]"
      ]
     },
     "metadata": {},
     "output_type": "display_data"
    },
    {
     "data": {
      "application/vnd.jupyter.widget-view+json": {
       "model_id": "3a9074bf03c8461cb785d520cf3a592d",
       "version_major": 2,
       "version_minor": 0
      },
      "text/plain": [
       "apply len_bytes to num_bytes:   0%|          | 0/5 [00:00<?, ?it/s]"
      ]
     },
     "metadata": {},
     "output_type": "display_data"
    },
    {
     "data": {
      "application/vnd.jupyter.widget-view+json": {
       "model_id": "51f5ae12e9c1445b88e79be9881db5c3",
       "version_major": 2,
       "version_minor": 0
      },
      "text/plain": [
       "apply len_wospc to num_bytes_wospc:   0%|          | 0/5 [00:00<?, ?it/s]"
      ]
     },
     "metadata": {},
     "output_type": "display_data"
    },
    {
     "data": {
      "application/vnd.jupyter.widget-view+json": {
       "model_id": "2a1af14878894eac967983fc43c0d93b",
       "version_major": 2,
       "version_minor": 0
      },
      "text/plain": [
       "apply len_words to num_words:   0%|          | 0/5 [00:00<?, ?it/s]"
      ]
     },
     "metadata": {},
     "output_type": "display_data"
    },
    {
     "data": {
      "application/vnd.jupyter.widget-view+json": {
       "model_id": "3413d9aa3edc4258bf6e8630a05876ca",
       "version_major": 2,
       "version_minor": 0
      },
      "text/plain": [
       "apply len_sents to num_sents:   0%|          | 0/5 [00:00<?, ?it/s]"
      ]
     },
     "metadata": {},
     "output_type": "display_data"
    },
    {
     "data": {
      "application/vnd.jupyter.widget-view+json": {
       "model_id": "04a410dd76474498921522c9d38e2b8b",
       "version_major": 2,
       "version_minor": 0
      },
      "text/plain": [
       "apply len_segments to num_segments:   0%|          | 0/5 [00:00<?, ?it/s]"
      ]
     },
     "metadata": {},
     "output_type": "display_data"
    }
   ],
   "source": [
    "cfg = eKonf.compose(config_group='corpus/builtin=_dummy_fomc_minutes')\n",
    "cfg.data_dir = '../data/fomc_minutes'\n",
    "db = eKonf.instantiate(cfg)\n",
    "db.build()"
   ]
  },
  {
   "cell_type": "markdown",
   "metadata": {
    "id": "tJpz9ehuPWeh"
   },
   "source": [
    "## Instantiating corpora"
   ]
  },
  {
   "cell_type": "code",
   "execution_count": 2,
   "metadata": {
    "colab": {
     "base_uri": "https://localhost:8080/"
    },
    "id": "iAc66OeiPWei",
    "outputId": "105cddaa-699e-4771-b01c-30067cec184f"
   },
   "outputs": [
    {
     "name": "stdout",
     "output_type": "stream",
     "text": [
      "{'_target_': 'ekorpkit.corpora.loader.Corpora',\n",
      " 'autoload': True,\n",
      " 'automerge': False,\n",
      " 'collapse_ids': False,\n",
      " 'column_info': {'_target_': 'ekorpkit.info.base.ColumnInfo',\n",
      "                 'columns': {'datetime': None,\n",
      "                             'id': 'id',\n",
      "                             'merge_meta_on': None,\n",
      "                             'text': 'text',\n",
      "                             'timestamp': None},\n",
      "                 'data': {'id': 'int', 'text': 'str'},\n",
      "                 'datetime': {'format': None, 'params': None},\n",
      "                 'keys': {'corpus': 'corpus',\n",
      "                          'id': 'id',\n",
      "                          'split': 'split',\n",
      "                          'text': 'text',\n",
      "                          'timestamp': 'timestamp'},\n",
      "                 'meta': None,\n",
      "                 'segment_separator': '\\\\n\\\\n',\n",
      "                 'timestamp': {'format': None, 'key': None, 'params': None}},\n",
      " 'corpora': None,\n",
      " 'data_dir': '../data',\n",
      " 'filetype': None,\n",
      " 'metadata_dir': None,\n",
      " 'name': ['bok_minutes', 'fomc_minutes'],\n",
      " 'segment_separator': '\\\\n\\\\n',\n",
      " 'sentence_separator': '\\\\n',\n",
      " 'use_name_as_subdir': True,\n",
      " 'verbose': False}\n"
     ]
    }
   ],
   "source": [
    "cfg = eKonf.compose(config_group='corpus=corpora')\n",
    "cfg.name = ['bok_minutes', 'fomc_minutes']\n",
    "cfg.data_dir = '../data'\n",
    "cfg.autoload = True\n",
    "eKonf.pprint(cfg)\n",
    "crps = eKonf.instantiate(cfg)"
   ]
  },
  {
   "cell_type": "code",
   "execution_count": 3,
   "metadata": {
    "colab": {
     "base_uri": "https://localhost:8080/"
    },
    "id": "ds2y2-PAPWej",
    "outputId": "83119678-4346-4ac9-c87c-5b62959bcdf8"
   },
   "outputs": [
    {
     "name": "stdout",
     "output_type": "stream",
     "text": [
      "Corpora\n",
      "----------\n",
      "bok_minutes\n",
      "fomc_minutes\n",
      "\n"
     ]
    }
   ],
   "source": [
    "print(crps)"
   ]
  },
  {
   "cell_type": "code",
   "execution_count": 4,
   "metadata": {
    "colab": {
     "base_uri": "https://localhost:8080/",
     "height": 80
    },
    "id": "DZO0rgSLX2rP",
    "outputId": "6efb0dcf-ce49-4fae-b588-5a49d0817960"
   },
   "outputs": [
    {
     "data": {
      "text/html": [
       "<div>\n",
       "<style scoped>\n",
       "    .dataframe tbody tr th:only-of-type {\n",
       "        vertical-align: middle;\n",
       "    }\n",
       "\n",
       "    .dataframe tbody tr th {\n",
       "        vertical-align: top;\n",
       "    }\n",
       "\n",
       "    .dataframe thead th {\n",
       "        text-align: right;\n",
       "    }\n",
       "</style>\n",
       "<table border=\"1\" class=\"dataframe\">\n",
       "  <thead>\n",
       "    <tr style=\"text-align: right;\">\n",
       "      <th></th>\n",
       "      <th>id</th>\n",
       "      <th>text</th>\n",
       "    </tr>\n",
       "  </thead>\n",
       "  <tbody>\n",
       "    <tr>\n",
       "      <th>0</th>\n",
       "      <td>0</td>\n",
       "      <td>Economic Situation\\n일부 위원은 관련부서에서 지난 3\\/4분기 중 ...</td>\n",
       "    </tr>\n",
       "  </tbody>\n",
       "</table>\n",
       "</div>"
      ],
      "text/plain": [
       "   id                                               text\n",
       "0   0  Economic Situation\\n일부 위원은 관련부서에서 지난 3\\/4분기 중 ..."
      ]
     },
     "execution_count": 4,
     "metadata": {},
     "output_type": "execute_result"
    }
   ],
   "source": [
    "crps['bok_minutes'].data"
   ]
  },
  {
   "cell_type": "code",
   "execution_count": 5,
   "metadata": {
    "colab": {
     "base_uri": "https://localhost:8080/",
     "height": 206
    },
    "id": "lGPnTMPpX4LB",
    "outputId": "b0a63238-8fca-4eb9-9c75-2f4e59d91a22"
   },
   "outputs": [
    {
     "data": {
      "text/html": [
       "<div>\n",
       "<style scoped>\n",
       "    .dataframe tbody tr th:only-of-type {\n",
       "        vertical-align: middle;\n",
       "    }\n",
       "\n",
       "    .dataframe tbody tr th {\n",
       "        vertical-align: top;\n",
       "    }\n",
       "\n",
       "    .dataframe thead th {\n",
       "        text-align: right;\n",
       "    }\n",
       "</style>\n",
       "<table border=\"1\" class=\"dataframe\">\n",
       "  <thead>\n",
       "    <tr style=\"text-align: right;\">\n",
       "      <th></th>\n",
       "      <th>id</th>\n",
       "      <th>text</th>\n",
       "    </tr>\n",
       "  </thead>\n",
       "  <tbody>\n",
       "    <tr>\n",
       "      <th>0</th>\n",
       "      <td>0</td>\n",
       "      <td>A meeting of the Federal Open Market Committee...</td>\n",
       "    </tr>\n",
       "    <tr>\n",
       "      <th>1</th>\n",
       "      <td>1</td>\n",
       "      <td>A meeting of the Federal Open Market Committee...</td>\n",
       "    </tr>\n",
       "    <tr>\n",
       "      <th>2</th>\n",
       "      <td>2</td>\n",
       "      <td>A meeting of the Federal Open Market Committee...</td>\n",
       "    </tr>\n",
       "    <tr>\n",
       "      <th>3</th>\n",
       "      <td>3</td>\n",
       "      <td>A meeting of the Federal Open Market Committee...</td>\n",
       "    </tr>\n",
       "    <tr>\n",
       "      <th>4</th>\n",
       "      <td>4</td>\n",
       "      <td>A meeting of the Federal Open Market Committee...</td>\n",
       "    </tr>\n",
       "  </tbody>\n",
       "</table>\n",
       "</div>"
      ],
      "text/plain": [
       "   id                                               text\n",
       "0   0  A meeting of the Federal Open Market Committee...\n",
       "1   1  A meeting of the Federal Open Market Committee...\n",
       "2   2  A meeting of the Federal Open Market Committee...\n",
       "3   3  A meeting of the Federal Open Market Committee...\n",
       "4   4  A meeting of the Federal Open Market Committee..."
      ]
     },
     "execution_count": 5,
     "metadata": {},
     "output_type": "execute_result"
    }
   ],
   "source": [
    "crps['fomc_minutes'].data"
   ]
  },
  {
   "cell_type": "code",
   "execution_count": 7,
   "metadata": {
    "id": "YKcqI8eBPWej"
   },
   "outputs": [],
   "source": [
    "crps.concat_corpora()"
   ]
  },
  {
   "cell_type": "code",
   "execution_count": 9,
   "metadata": {
    "colab": {
     "base_uri": "https://localhost:8080/",
     "height": 237
    },
    "id": "oCfyCzGuPWek",
    "outputId": "4b0c71c2-f2f6-464b-a99e-6ddd318194fb"
   },
   "outputs": [
    {
     "data": {
      "text/html": [
       "<div>\n",
       "<style scoped>\n",
       "    .dataframe tbody tr th:only-of-type {\n",
       "        vertical-align: middle;\n",
       "    }\n",
       "\n",
       "    .dataframe tbody tr th {\n",
       "        vertical-align: top;\n",
       "    }\n",
       "\n",
       "    .dataframe thead th {\n",
       "        text-align: right;\n",
       "    }\n",
       "</style>\n",
       "<table border=\"1\" class=\"dataframe\">\n",
       "  <thead>\n",
       "    <tr style=\"text-align: right;\">\n",
       "      <th></th>\n",
       "      <th>id</th>\n",
       "      <th>text</th>\n",
       "      <th>corpus</th>\n",
       "    </tr>\n",
       "  </thead>\n",
       "  <tbody>\n",
       "    <tr>\n",
       "      <th>0</th>\n",
       "      <td>0</td>\n",
       "      <td>Economic Situation\\n일부 위원은 관련부서에서 지난 3\\/4분기 중 ...</td>\n",
       "      <td>bok_minutes</td>\n",
       "    </tr>\n",
       "    <tr>\n",
       "      <th>1</th>\n",
       "      <td>0</td>\n",
       "      <td>A meeting of the Federal Open Market Committee...</td>\n",
       "      <td>fomc_minutes</td>\n",
       "    </tr>\n",
       "    <tr>\n",
       "      <th>2</th>\n",
       "      <td>1</td>\n",
       "      <td>A meeting of the Federal Open Market Committee...</td>\n",
       "      <td>fomc_minutes</td>\n",
       "    </tr>\n",
       "    <tr>\n",
       "      <th>3</th>\n",
       "      <td>2</td>\n",
       "      <td>A meeting of the Federal Open Market Committee...</td>\n",
       "      <td>fomc_minutes</td>\n",
       "    </tr>\n",
       "    <tr>\n",
       "      <th>4</th>\n",
       "      <td>3</td>\n",
       "      <td>A meeting of the Federal Open Market Committee...</td>\n",
       "      <td>fomc_minutes</td>\n",
       "    </tr>\n",
       "    <tr>\n",
       "      <th>5</th>\n",
       "      <td>4</td>\n",
       "      <td>A meeting of the Federal Open Market Committee...</td>\n",
       "      <td>fomc_minutes</td>\n",
       "    </tr>\n",
       "  </tbody>\n",
       "</table>\n",
       "</div>"
      ],
      "text/plain": [
       "   id                                               text        corpus\n",
       "0   0  Economic Situation\\n일부 위원은 관련부서에서 지난 3\\/4분기 중 ...   bok_minutes\n",
       "1   0  A meeting of the Federal Open Market Committee...  fomc_minutes\n",
       "2   1  A meeting of the Federal Open Market Committee...  fomc_minutes\n",
       "3   2  A meeting of the Federal Open Market Committee...  fomc_minutes\n",
       "4   3  A meeting of the Federal Open Market Committee...  fomc_minutes\n",
       "5   4  A meeting of the Federal Open Market Committee...  fomc_minutes"
      ]
     },
     "execution_count": 9,
     "metadata": {},
     "output_type": "execute_result"
    }
   ],
   "source": [
    "crps.data"
   ]
  },
  {
   "cell_type": "code",
   "execution_count": 9,
   "metadata": {
    "colab": {
     "base_uri": "https://localhost:8080/",
     "height": 385
    },
    "id": "4DtB1ZY0PWek",
    "outputId": "278c5b8e-37ff-4e5b-f9e4-56f71392a45b"
   },
   "outputs": [
    {
     "data": {
      "text/html": [
       "<div>\n",
       "<style scoped>\n",
       "    .dataframe tbody tr th:only-of-type {\n",
       "        vertical-align: middle;\n",
       "    }\n",
       "\n",
       "    .dataframe tbody tr th {\n",
       "        vertical-align: top;\n",
       "    }\n",
       "\n",
       "    .dataframe thead th {\n",
       "        text-align: right;\n",
       "    }\n",
       "</style>\n",
       "<table border=\"1\" class=\"dataframe\">\n",
       "  <thead>\n",
       "    <tr style=\"text-align: right;\">\n",
       "      <th></th>\n",
       "      <th>id</th>\n",
       "      <th>mdate</th>\n",
       "      <th>rdate</th>\n",
       "      <th>filename</th>\n",
       "      <th>corpus</th>\n",
       "      <th>date</th>\n",
       "      <th>speaker</th>\n",
       "      <th>title</th>\n",
       "    </tr>\n",
       "  </thead>\n",
       "  <tbody>\n",
       "    <tr>\n",
       "      <th>0</th>\n",
       "      <td>0</td>\n",
       "      <td>2018-11-30 10:00:00</td>\n",
       "      <td>2018-12-18 16:00:00</td>\n",
       "      <td>BOK_20181130_20181218</td>\n",
       "      <td>bok_minutes</td>\n",
       "      <td>NaN</td>\n",
       "      <td>NaN</td>\n",
       "      <td>NaN</td>\n",
       "    </tr>\n",
       "    <tr>\n",
       "      <th>1</th>\n",
       "      <td>0</td>\n",
       "      <td>NaN</td>\n",
       "      <td>NaN</td>\n",
       "      <td>NaN</td>\n",
       "      <td>fomc_minutes</td>\n",
       "      <td>1993-02-03</td>\n",
       "      <td>Alan Greenspan</td>\n",
       "      <td>FOMC Meeting Minutes</td>\n",
       "    </tr>\n",
       "    <tr>\n",
       "      <th>2</th>\n",
       "      <td>1</td>\n",
       "      <td>NaN</td>\n",
       "      <td>NaN</td>\n",
       "      <td>NaN</td>\n",
       "      <td>fomc_minutes</td>\n",
       "      <td>1993-03-23</td>\n",
       "      <td>Alan Greenspan</td>\n",
       "      <td>FOMC Meeting Minutes</td>\n",
       "    </tr>\n",
       "    <tr>\n",
       "      <th>3</th>\n",
       "      <td>2</td>\n",
       "      <td>NaN</td>\n",
       "      <td>NaN</td>\n",
       "      <td>NaN</td>\n",
       "      <td>fomc_minutes</td>\n",
       "      <td>1993-05-18</td>\n",
       "      <td>Alan Greenspan</td>\n",
       "      <td>FOMC Meeting Minutes</td>\n",
       "    </tr>\n",
       "    <tr>\n",
       "      <th>4</th>\n",
       "      <td>3</td>\n",
       "      <td>NaN</td>\n",
       "      <td>NaN</td>\n",
       "      <td>NaN</td>\n",
       "      <td>fomc_minutes</td>\n",
       "      <td>1993-07-07</td>\n",
       "      <td>Alan Greenspan</td>\n",
       "      <td>FOMC Meeting Minutes</td>\n",
       "    </tr>\n",
       "    <tr>\n",
       "      <th>5</th>\n",
       "      <td>4</td>\n",
       "      <td>NaN</td>\n",
       "      <td>NaN</td>\n",
       "      <td>NaN</td>\n",
       "      <td>fomc_minutes</td>\n",
       "      <td>1993-08-17</td>\n",
       "      <td>Alan Greenspan</td>\n",
       "      <td>FOMC Meeting Minutes</td>\n",
       "    </tr>\n",
       "  </tbody>\n",
       "</table>\n",
       "</div>"
      ],
      "text/plain": [
       "   id                mdate                rdate               filename  \\\n",
       "0   0  2018-11-30 10:00:00  2018-12-18 16:00:00  BOK_20181130_20181218   \n",
       "1   0                  NaN                  NaN                    NaN   \n",
       "2   1                  NaN                  NaN                    NaN   \n",
       "3   2                  NaN                  NaN                    NaN   \n",
       "4   3                  NaN                  NaN                    NaN   \n",
       "5   4                  NaN                  NaN                    NaN   \n",
       "\n",
       "         corpus        date         speaker                 title  \n",
       "0   bok_minutes         NaN             NaN                   NaN  \n",
       "1  fomc_minutes  1993-02-03  Alan Greenspan  FOMC Meeting Minutes  \n",
       "2  fomc_minutes  1993-03-23  Alan Greenspan  FOMC Meeting Minutes  \n",
       "3  fomc_minutes  1993-05-18  Alan Greenspan  FOMC Meeting Minutes  \n",
       "4  fomc_minutes  1993-07-07  Alan Greenspan  FOMC Meeting Minutes  \n",
       "5  fomc_minutes  1993-08-17  Alan Greenspan  FOMC Meeting Minutes  "
      ]
     },
     "execution_count": 9,
     "metadata": {},
     "output_type": "execute_result"
    }
   ],
   "source": [
    "crps.metadata"
   ]
  },
  {
   "cell_type": "markdown",
   "metadata": {
    "id": "zpdqyeyPPWek"
   },
   "source": [
    "## Instantiating a corpus"
   ]
  },
  {
   "cell_type": "code",
   "execution_count": 2,
   "metadata": {
    "colab": {
     "base_uri": "https://localhost:8080/"
    },
    "id": "DFsykazvPWel",
    "outputId": "7ab40ae7-42ba-4b6c-f0da-908c6d45ddb9"
   },
   "outputs": [
    {
     "name": "stdout",
     "output_type": "stream",
     "text": [
      "{'_target_': 'ekorpkit.corpora.corpus.Corpus',\n",
      " 'autoload': True,\n",
      " 'automerge': False,\n",
      " 'column_info': {'_target_': 'ekorpkit.info.base.ColumnInfo',\n",
      "                 'columns': {'datetime': None,\n",
      "                             'id': 'id',\n",
      "                             'merge_meta_on': None,\n",
      "                             'text': 'text',\n",
      "                             'timestamp': None},\n",
      "                 'data': {'id': 'int', 'text': 'str'},\n",
      "                 'datetime': {'format': None, 'params': None},\n",
      "                 'keys': {'id': 'id',\n",
      "                          'split': 'split',\n",
      "                          'text': 'text',\n",
      "                          'timestamp': 'timestamp'},\n",
      "                 'meta': None,\n",
      "                 'segment_separator': '\\\\n\\\\n',\n",
      "                 'timestamp': {'format': None, 'key': None, 'params': None}},\n",
      " 'data_dir': '../data',\n",
      " 'filetype': None,\n",
      " 'metadata_dir': None,\n",
      " 'name': 'bok_minutes',\n",
      " 'segment_separator': '\\\\n\\\\n',\n",
      " 'sentence_separator': '\\\\n',\n",
      " 'use_name_as_subdir': True,\n",
      " 'verbose': False}\n"
     ]
    }
   ],
   "source": [
    "cfg = eKonf.compose(config_group='corpus')\n",
    "cfg.name = 'bok_minutes'\n",
    "cfg.data_dir = '../data'\n",
    "eKonf.pprint(cfg)\n",
    "crps = eKonf.instantiate(cfg)"
   ]
  },
  {
   "cell_type": "code",
   "execution_count": 3,
   "metadata": {
    "colab": {
     "base_uri": "https://localhost:8080/",
     "height": 80
    },
    "id": "N2b2774dPWel",
    "outputId": "d3a3290a-3364-4fcd-c653-a47fa1cd3100"
   },
   "outputs": [
    {
     "data": {
      "text/html": [
       "<div>\n",
       "<style scoped>\n",
       "    .dataframe tbody tr th:only-of-type {\n",
       "        vertical-align: middle;\n",
       "    }\n",
       "\n",
       "    .dataframe tbody tr th {\n",
       "        vertical-align: top;\n",
       "    }\n",
       "\n",
       "    .dataframe thead th {\n",
       "        text-align: right;\n",
       "    }\n",
       "</style>\n",
       "<table border=\"1\" class=\"dataframe\">\n",
       "  <thead>\n",
       "    <tr style=\"text-align: right;\">\n",
       "      <th></th>\n",
       "      <th>id</th>\n",
       "      <th>text</th>\n",
       "    </tr>\n",
       "  </thead>\n",
       "  <tbody>\n",
       "    <tr>\n",
       "      <th>0</th>\n",
       "      <td>0</td>\n",
       "      <td>Economic Situation\\n일부 위원은 관련부서에서 지난 3\\/4분기 중 ...</td>\n",
       "    </tr>\n",
       "  </tbody>\n",
       "</table>\n",
       "</div>"
      ],
      "text/plain": [
       "   id                                               text\n",
       "0   0  Economic Situation\\n일부 위원은 관련부서에서 지난 3\\/4분기 중 ..."
      ]
     },
     "execution_count": 3,
     "metadata": {},
     "output_type": "execute_result"
    }
   ],
   "source": [
    "crps.data"
   ]
  },
  {
   "cell_type": "code",
   "execution_count": 18,
   "metadata": {
    "colab": {
     "base_uri": "https://localhost:8080/",
     "height": 80
    },
    "id": "66U095XOPWel",
    "outputId": "df2c487f-8ca2-4963-fd8d-84de855d5e86"
   },
   "outputs": [
    {
     "data": {
      "text/html": [
       "<div>\n",
       "<style scoped>\n",
       "    .dataframe tbody tr th:only-of-type {\n",
       "        vertical-align: middle;\n",
       "    }\n",
       "\n",
       "    .dataframe tbody tr th {\n",
       "        vertical-align: top;\n",
       "    }\n",
       "\n",
       "    .dataframe thead th {\n",
       "        text-align: right;\n",
       "    }\n",
       "</style>\n",
       "<table border=\"1\" class=\"dataframe\">\n",
       "  <thead>\n",
       "    <tr style=\"text-align: right;\">\n",
       "      <th></th>\n",
       "      <th>id</th>\n",
       "      <th>mdate</th>\n",
       "      <th>rdate</th>\n",
       "      <th>filename</th>\n",
       "    </tr>\n",
       "  </thead>\n",
       "  <tbody>\n",
       "    <tr>\n",
       "      <th>0</th>\n",
       "      <td>0</td>\n",
       "      <td>2018-11-30 10:00:00</td>\n",
       "      <td>2018-12-18 16:00:00</td>\n",
       "      <td>BOK_20181130_20181218</td>\n",
       "    </tr>\n",
       "  </tbody>\n",
       "</table>\n",
       "</div>"
      ],
      "text/plain": [
       "   id                mdate                rdate               filename\n",
       "0   0  2018-11-30 10:00:00  2018-12-18 16:00:00  BOK_20181130_20181218"
      ]
     },
     "execution_count": 18,
     "metadata": {},
     "output_type": "execute_result"
    }
   ],
   "source": [
    "crps.metadata"
   ]
  },
  {
   "cell_type": "code",
   "execution_count": 19,
   "metadata": {
    "colab": {
     "base_uri": "https://localhost:8080/"
    },
    "id": "pUGzuV0vPWel",
    "outputId": "4c2ec7ff-8b2d-4d7b-ccd7-2b77f27486b5"
   },
   "outputs": [
    {
     "name": "stdout",
     "output_type": "stream",
     "text": [
      "id ['id'] text ['id', 'text'] ['id', 'mdate', 'rdate', 'filename']\n"
     ]
    }
   ],
   "source": [
    "print(crps.ID, crps.IDs, crps.TEXT, crps.DATA, crps.METADATA)"
   ]
  },
  {
   "cell_type": "code",
   "execution_count": 20,
   "metadata": {
    "colab": {
     "base_uri": "https://localhost:8080/"
    },
    "id": "kArHj0GHPWem",
    "outputId": "39ce0ab9-1e3f-4efc-8d30-52def175a0a5"
   },
   "outputs": [
    {
     "name": "stdout",
     "output_type": "stream",
     "text": [
      "{'category': 'formal',\n",
      " 'column_info': {'data': {'id': 'int', 'text': 'str'},\n",
      "                 'keys': {'id': 'id', 'text': 'text'},\n",
      "                 'meta': {'filename': 'str',\n",
      "                          'id': 'int',\n",
      "                          'mdate': 'str',\n",
      "                          'rdate': 'str'}},\n",
      " 'data_files': {'train': 'bok_minutes-train.parquet'},\n",
      " 'data_files_modified': '2022-05-20 06:15:19',\n",
      " 'description': 'BOK Minutes Corpus',\n",
      " 'fullname': 'BOK MPB Minutes',\n",
      " 'homepage': 'https://www.bok.or.kr',\n",
      " 'info_updated': '2022-05-20 06:15:19',\n",
      " 'lang': 'ko',\n",
      " 'license': 'Bank of Korea',\n",
      " 'meta_files': {'train': 'meta-bok_minutes-train.parquet'},\n",
      " 'meta_files_modified': '2022-05-20 06:08:40',\n",
      " 'name': 'bok_minutes',\n",
      " 'num_bytes_before_processing': 88948,\n",
      " 'num_docs': 1,\n",
      " 'num_docs_before_processing': 1,\n",
      " 'num_segments': 5,\n",
      " 'num_sents': 346,\n",
      " 'num_words': 8171,\n",
      " 'size_in_bytes': 88948,\n",
      " 'size_in_human_bytes': '86.86 KiB',\n",
      " 'splits': {'train': {'data_file': 'bok_minutes-train.parquet',\n",
      "                      'dataset_name': 'bok_minutes',\n",
      "                      'human_bytes': '86.86 KiB',\n",
      "                      'human_bytes_wospc': '78.88 KiB',\n",
      "                      'meta_file': 'meta-bok_minutes-train.parquet',\n",
      "                      'name': 'train',\n",
      "                      'num_bytes': 88948,\n",
      "                      'num_bytes_before_processing': 88948,\n",
      "                      'num_bytes_max': 88948,\n",
      "                      'num_bytes_median': 88948.0,\n",
      "                      'num_bytes_min': 88948,\n",
      "                      'num_bytes_wospc': 80773,\n",
      "                      'num_docs': 1,\n",
      "                      'num_docs_before_processing': 1,\n",
      "                      'num_segments': 5,\n",
      "                      'num_segments_median': 5.0,\n",
      "                      'num_sents': 346,\n",
      "                      'num_sents_median': 346.0,\n",
      "                      'num_words': 8171,\n",
      "                      'num_words_max': 8171,\n",
      "                      'num_words_median': 8171.0,\n",
      "                      'num_words_min': 8171}},\n",
      " 'version': '1.0.0'}\n"
     ]
    }
   ],
   "source": [
    "eKonf.pprint(crps.info)"
   ]
  },
  {
   "cell_type": "code",
   "execution_count": null,
   "metadata": {
    "id": "_hXmySfsPWem"
   },
   "outputs": [],
   "source": []
  }
 ],
 "metadata": {
  "colab": {
   "name": "corpus.ipynb",
   "provenance": []
  },
  "interpreter": {
   "hash": "f869af7787e6a1c49e09e367fc6e1b81d93d1c6583b43249c80edc047bd13cb2"
  },
  "kernelspec": {
   "display_name": "Python 3",
   "language": "python",
   "name": "python3"
  },
  "language_info": {
   "codemirror_mode": {
    "name": "ipython",
    "version": 3
   },
   "file_extension": ".py",
   "mimetype": "text/x-python",
   "name": "python",
   "nbconvert_exporter": "python",
   "pygments_lexer": "ipython3",
   "version": "3.8.12"
  },
  "widgets": {
   "application/vnd.jupyter.widget-state+json": {
    "state": {},
    "version_major": 2,
    "version_minor": 0
   }
  }
 },
 "nbformat": 4,
 "nbformat_minor": 1
}
