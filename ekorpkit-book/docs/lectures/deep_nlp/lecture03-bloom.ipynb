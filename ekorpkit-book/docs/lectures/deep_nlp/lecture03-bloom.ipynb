{
 "cells": [
  {
   "cell_type": "markdown",
   "id": "bfc871e8",
   "metadata": {},
   "source": [
    "# Getting Started with Bloom\n",
    "\n",
    "![bloom](../figs/entelecheia_BLOOM.png)\n"
   ]
  },
  {
   "cell_type": "markdown",
   "id": "9b679041",
   "metadata": {},
   "source": [
    "## Transparency, openness, and inclusivity\n",
    "\n",
    "While most major LLMs have been trained exclusively on English text, BLOOM’s training corpus includes 46 natural languages and 13 programming languages. This makes it useful for the many regions where English is not the main language.\n",
    "\n",
    "BLOOM is also a break from the de facto reliance on big tech to train models. One of the main problems of LLMs is the prohibitive costs of training and tuning them. This hurdle has made 100-billion-parameter LLMs the exclusive domain of big tech companies with deep pockets. Recent years have seen AI labs gravitate toward big tech to gain access to subsidized cloud compute resources and fund their research.\n",
    "\n",
    "The BLOOM research team has been completely transparent about the entire process of training the model. They have published the dataset, the meeting notes, discussions, and code, as well as the logs and technical details of training the model.\n",
    "\n"
   ]
  },
  {
   "cell_type": "markdown",
   "id": "2412cf94",
   "metadata": {},
   "source": [
    "## Pre-trained BLOOM checkpoints\n",
    "\n",
    "From BigScience repository (https://huggingface.co/bigscience), you can find various version of models.\n",
    "\n",
    "![](../figs/deep_nlp/bloom/bloom-models.png)"
   ]
  },
  {
   "cell_type": "markdown",
   "id": "e5965e7b",
   "metadata": {},
   "source": [
    "### Download checkpoints\n",
    "\n",
    "cf) The original bloom model is very big with a size of about 350GB."
   ]
  },
  {
   "cell_type": "code",
   "execution_count": null,
   "id": "a84b7663",
   "metadata": {},
   "outputs": [],
   "source": [
    "!pip install transformers "
   ]
  },
  {
   "cell_type": "code",
   "execution_count": null,
   "id": "cd365ccd",
   "metadata": {},
   "outputs": [],
   "source": [
    "from transformers import AutoModel, AutoTokenizer\n",
    "\n",
    "model_path = \"/workspace/data/tbts/archive/models/bloom/bloom\" # replace with your local folder path\n",
    "model_uri = \"bigscience/bloom\"\n",
    "\n",
    "model = AutoModel.from_pretrained(model_uri)\n",
    "model.save_pretrained(model_path)\n",
    "tokenizer = AutoTokenizer.from_pretrained(model_uri)\n",
    "tokenizer.save_pretrained(model_path)\n",
    "\n",
    "!ls $model_path"
   ]
  },
  {
   "cell_type": "markdown",
   "id": "45636eef",
   "metadata": {},
   "source": [
    "### Inference"
   ]
  },
  {
   "cell_type": "markdown",
   "id": "b5216d19",
   "metadata": {},
   "source": [
    "We create a method (get_state_dict) that takes as input a shard number (1 to 72), reads the shard from disk, and returns a dictionary with the model state. This method allows to remove prefixes from the dictionary keys to facilitate loading the weights into the model objects using torch.load_state_dict. We also create the tokenizer and configuration objects by loading them from the downloaded folder."
   ]
  },
  {
   "cell_type": "code",
   "execution_count": 16,
   "id": "260581fa",
   "metadata": {},
   "outputs": [],
   "source": [
    "from transformers import AutoTokenizer, AutoModelForCausalLM, BloomConfig\n",
    "from transformers.models.bloom.modeling_bloom import BloomBlock, build_alibi_tensor\n",
    "\n",
    "config = BloomConfig.from_pretrained(model_path)\n",
    "tokenizer = AutoTokenizer.from_pretrained(model_path)\n",
    "device = 'cpu'"
   ]
  },
  {
   "cell_type": "code",
   "execution_count": null,
   "id": "d8d29075",
   "metadata": {},
   "outputs": [],
   "source": [
    "def load_embeddings():\n",
    "    state_dict = get_state_dict(shard_num=1, prefix=\"word_embeddings_layernorm.\")\n",
    "    embeddings = nn.Embedding.from_pretrained(state_dict.pop('word_embeddings.weight'))\n",
    "    lnorm = nn.LayerNorm(config.hidden_size, eps=config.layer_norm_epsilon, dtype=torch.bfloat16)\n",
    "    lnorm.load_state_dict(state_dict)\n",
    "    return embeddings.to(device), lnorm.to(device)\n",
    "\n",
    "def load_causal_lm_head():\n",
    "    linear = nn.utils.skip_init(\n",
    "        nn.Linear, config.hidden_size, config.vocab_size, bias=False, dtype=torch.bfloat16)\n",
    "    linear.load_state_dict(get_state_dict(shard_num=1, prefix=\"word_embeddings.\"), strict=False)\n",
    "    return linear.bfloat16().to(device)\n",
    "\n",
    "def load_block(block_obj, block_num):\n",
    "    block_obj.load_state_dict(get_state_dict(shard_num=block_num + 2, prefix=f\"h.{block_num}.\"))\n",
    "    block_obj.to(device)\n",
    "\n",
    "final_lnorm = nn.LayerNorm(config.hidden_size, eps=config.layer_norm_epsilon, dtype=torch.bfloat16)\n",
    "final_lnorm.load_state_dict(get_state_dict(shard_num=72, prefix=\"ln_f.\"))\n",
    "final_lnorm.to(device)\n",
    "block = BloomBlock(config, layer_number=1).bfloat16()\n"
   ]
  },
  {
   "cell_type": "code",
   "execution_count": 2,
   "id": "6f6d949a",
   "metadata": {},
   "outputs": [
    {
     "name": "stdout",
     "output_type": "stream",
     "text": [
      "WARNING: 'git lfs clone' is deprecated and will not be updated\n",
      "          with new flags from 'git clone'\n",
      "\n",
      "'git clone' has been updated in upstream Git to have comparable\n",
      "speeds to 'git lfs clone'.\n",
      "Cloning into 'bloom-760m'...\n",
      "Username for 'https://huggingface.co': ^C\n",
      "\n",
      "Exiting because of \"interrupt\" signal.\n"
     ]
    }
   ],
   "source": [
    "import os\n",
    "import torch\n",
    "import torch.nn as nn\n",
    "from collections import OrderedDict\n",
    "from transformers import AutoTokenizer, AutoModelForCausalLM, BloomConfig\n",
    "from transformers.models.bloom.modeling_bloom import BloomBlock, build_alibi_tensor\n",
    "\n",
    "def get_state_dict(shard_num, prefix=None):\n",
    "    d = torch.load(os.path.join(model_path, f\"pytorch_model_{shard_num:05d}-of-00072.bin\"))\n",
    "    return d if prefix is None else OrderedDict((k.replace(prefix, ''), v) for k, v in d.items())\n",
    "\n"
   ]
  },
  {
   "cell_type": "markdown",
   "id": "f6220246",
   "metadata": {},
   "source": [
    "## Simple example for local inference"
   ]
  },
  {
   "cell_type": "code",
   "execution_count": 1,
   "id": "86e4aefc",
   "metadata": {},
   "outputs": [],
   "source": [
    "import torch\n",
    "from transformers import BloomForCausalLM\n",
    "from transformers import BloomTokenizerFast\n",
    "from transformers import pipeline"
   ]
  },
  {
   "cell_type": "code",
   "execution_count": null,
   "id": "575fc5b2",
   "metadata": {},
   "outputs": [],
   "source": [
    "model_uri = \"bigscience/bloom-1b3\"\n",
    "\n",
    "model = BloomForCausalLM.from_pretrained(model_uri)\n",
    "tokenizer = BloomTokenizerFast.from_pretrained(model_uri)\n",
    "pipe = pipeline(model=model_uri, torch_dtype=torch.bfloat16)"
   ]
  },
  {
   "cell_type": "code",
   "execution_count": null,
   "id": "9ddfabd7",
   "metadata": {},
   "outputs": [],
   "source": [
    "prompt = \"Bloom is a large language model\"\n",
    "result_length = 100\n",
    "inputs = tokenizer(prompt, return_tensors=\"pt\")"
   ]
  },
  {
   "cell_type": "markdown",
   "id": "742b5a76",
   "metadata": {},
   "source": [
    "- `result_length`: the size of the response (in tokens) we get for the prompt from the model.\n",
    "- `inputs`:  the embedding representation of prompt, encoded for use specifically by PyTorch. "
   ]
  },
  {
   "cell_type": "code",
   "execution_count": null,
   "id": "43e8b91b",
   "metadata": {},
   "outputs": [],
   "source": [
    "# Greedy Search\n",
    "print(\n",
    "    tokenizer.decode(model.generate(inputs[\"input_ids\"], max_length=result_length)[0])\n",
    ")"
   ]
  },
  {
   "cell_type": "code",
   "execution_count": null,
   "id": "a0e5c229",
   "metadata": {},
   "outputs": [],
   "source": [
    "# Beam Search\n",
    "print(\n",
    "    tokenizer.decode(\n",
    "        model.generate(\n",
    "            inputs[\"input_ids\"],\n",
    "            max_length=result_length,\n",
    "            num_beams=2,\n",
    "            no_repeat_ngram_size=2,\n",
    "            early_stopping=True,\n",
    "        )[0]\n",
    "    )\n",
    ")"
   ]
  },
  {
   "cell_type": "code",
   "execution_count": null,
   "id": "29a9ef56",
   "metadata": {},
   "outputs": [],
   "source": [
    "# Sampling Top-k + Top-p\n",
    "print(\n",
    "    tokenizer.decode(\n",
    "        model.generate(\n",
    "            inputs[\"input_ids\"],\n",
    "            max_length=result_length,\n",
    "            do_sample=True,\n",
    "            top_k=50,\n",
    "            top_p=0.9,\n",
    "        )[0]\n",
    "    )\n",
    ")"
   ]
  },
  {
   "cell_type": "code",
   "execution_count": null,
   "id": "e2e572e5",
   "metadata": {},
   "outputs": [],
   "source": [
    "def infer(\n",
    "    prompt,\n",
    "    temperature=0.7,\n",
    "    top_p=None,\n",
    "    max_new_tokens=50,\n",
    "    repetition_penalty=None,\n",
    "    do_sample=False,\n",
    "    num_return_sequences=1,\n",
    "):\n",
    "    response = pipe(\n",
    "        f\"{prompt}\",\n",
    "        temperature=temperature,  # 0 to 1\n",
    "        top_p=top_p,  # None, 0-1\n",
    "        max_new_tokens=max_new_tokens,  # up to 2047 theoretically\n",
    "        return_full_text=False,  # include prompt or not.\n",
    "        repetition_penalty=repetition_penalty,  # None, 0-100 (penalty for repeat tokens.\n",
    "        do_sample=do_sample,  # True: use sampling, False: Greedy decoding.\n",
    "        num_return_sequences=num_return_sequences,\n",
    "    )\n",
    "    return (prompt, response[0][\"generated_text\"])"
   ]
  },
  {
   "cell_type": "markdown",
   "id": "281e85bc",
   "metadata": {},
   "source": [
    "## Bloom Examples"
   ]
  },
  {
   "cell_type": "code",
   "execution_count": 1,
   "id": "f8eff986",
   "metadata": {},
   "outputs": [],
   "source": [
    "from ekorpkit import eKonf\n",
    "from ekorpkit.models.bloom.demo import BloomDemo\n",
    "\n"
   ]
  },
  {
   "cell_type": "code",
   "execution_count": 2,
   "id": "a38d8da4",
   "metadata": {},
   "outputs": [
    {
     "name": "stderr",
     "output_type": "stream",
     "text": [
      "INFO:ekorpkit.base:Loaded .env from /workspace/projects/ekorpkit-book/config/.env\n"
     ]
    },
    {
     "name": "stdout",
     "output_type": "stream",
     "text": [
      "/workspace/data/tbts/.cache/huggingface/transformers\n"
     ]
    },
    {
     "data": {
      "application/vnd.jupyter.widget-view+json": {
       "model_id": "5ee9585d203a4871924e1f9e3f9d710d",
       "version_major": 2,
       "version_minor": 0
      },
      "text/plain": [
       "Downloading:   0%|          | 0.00/90.4k [00:00<?, ?B/s]"
      ]
     },
     "metadata": {},
     "output_type": "display_data"
    }
   ],
   "source": [
    "import os\n",
    "\n",
    "demo = BloomDemo()\n",
    "print(demo.TRANSFORMERS_CACHE)\n",
    "demo.init_model()"
   ]
  },
  {
   "cell_type": "code",
   "execution_count": 11,
   "id": "2ff27516",
   "metadata": {},
   "outputs": [],
   "source": [
    "cfg = eKonf.compose(\"model/bloom=demo\")\n",
    "demo = eKonf.instantiate(cfg)\n",
    "demo.init_model()"
   ]
  },
  {
   "cell_type": "code",
   "execution_count": null,
   "id": "8f5bf16e",
   "metadata": {},
   "outputs": [],
   "source": [
    "prompt = \"One of the hottest areas of investing in recent years has been ESG: \"\n",
    "prompt += \"the use of environmental, social, and governance criteria to evaluate possible investments.\"\n",
    "\n",
    "result_length = 100\n",
    "inputs = tokenizer(prompt, return_tensors=\"pt\")"
   ]
  },
  {
   "cell_type": "code",
   "execution_count": null,
   "id": "69ac9527",
   "metadata": {},
   "outputs": [],
   "source": []
  }
 ],
 "metadata": {
  "kernelspec": {
   "display_name": "Python 3 (ipykernel)",
   "language": "python",
   "name": "python3"
  },
  "language_info": {
   "codemirror_mode": {
    "name": "ipython",
    "version": 3
   },
   "file_extension": ".py",
   "mimetype": "text/x-python",
   "name": "python",
   "nbconvert_exporter": "python",
   "pygments_lexer": "ipython3",
   "version": "3.8.12"
  },
  "vscode": {
   "interpreter": {
    "hash": "f869af7787e6a1c49e09e367fc6e1b81d93d1c6583b43249c80edc047bd13cb2"
   }
  },
  "widgets": {
   "application/vnd.jupyter.widget-state+json": {
    "state": {
     "0007e9ef13d64435a75f9ac6baf4f7ec": {
      "model_module": "@jupyter-widgets/controls",
      "model_module_version": "1.5.0",
      "model_name": "HTMLModel",
      "state": {
       "layout": "IPY_MODEL_52dd93b0f73148be98d6bfe30a5c49f7",
       "style": "IPY_MODEL_2bef10f1307844249f6fe69227fe439f",
       "value": " 90.4k/90.4k [00:00&lt;00:00, 168kB/s]"
      }
     },
     "00a7c42a61df467a92483ea845628ae2": {
      "model_module": "@jupyter-widgets/base",
      "model_module_version": "1.2.0",
      "model_name": "LayoutModel",
      "state": {}
     },
     "02db1ddc2903487bbbcf8229e9b4da75": {
      "model_module": "@jupyter-widgets/controls",
      "model_module_version": "1.5.0",
      "model_name": "HTMLModel",
      "state": {
       "layout": "IPY_MODEL_dc18576ac2ee4714b9bb6b0d58aeed0f",
       "style": "IPY_MODEL_811e0ba515ab4314950653ab21ed86c8",
       "value": " 126M/6.70G [00:24&lt;05:25, 21.7MB/s]"
      }
     },
     "03828c87c2f445878aad8aaf0964224f": {
      "model_module": "@jupyter-widgets/base",
      "model_module_version": "1.2.0",
      "model_name": "LayoutModel",
      "state": {}
     },
     "049186ed42d94cfe9a7259ecdff50c88": {
      "model_module": "@jupyter-widgets/controls",
      "model_module_version": "1.5.0",
      "model_name": "HBoxModel",
      "state": {
       "children": [
        "IPY_MODEL_4ce93d47236b4a778e8168f75866a860",
        "IPY_MODEL_6ccba48aae174dddada6d3bbe431b6a3",
        "IPY_MODEL_cfe813ce480e4f469a62c14b96e89986"
       ],
       "layout": "IPY_MODEL_333be306be054df7bb2a6d85167baa86"
      }
     },
     "05684f84900b4906bd835c876abb2ac7": {
      "model_module": "@jupyter-widgets/base",
      "model_module_version": "1.2.0",
      "model_name": "LayoutModel",
      "state": {}
     },
     "05736c4dadc141689a2ea96b3fd2965c": {
      "model_module": "@jupyter-widgets/controls",
      "model_module_version": "1.5.0",
      "model_name": "DescriptionStyleModel",
      "state": {
       "description_width": ""
      }
     },
     "084d59ca166f4d4ea4b932d2c67511d1": {
      "model_module": "@jupyter-widgets/controls",
      "model_module_version": "1.5.0",
      "model_name": "HBoxModel",
      "state": {
       "children": [
        "IPY_MODEL_bc2e5daa20574ff58930ab6b6c66d794",
        "IPY_MODEL_8f0c818fc47344f2b5b3dd21947326fa",
        "IPY_MODEL_291b907abb214588869d83f77b7537f9"
       ],
       "layout": "IPY_MODEL_a8b3d2f7817f46989ced9490d1c5797c"
      }
     },
     "0bea8bd7773a42ef83790a816646c3d4": {
      "model_module": "@jupyter-widgets/controls",
      "model_module_version": "1.5.0",
      "model_name": "ProgressStyleModel",
      "state": {
       "description_width": ""
      }
     },
     "128116ff10b54f3da1d7efe51b5761f8": {
      "model_module": "@jupyter-widgets/base",
      "model_module_version": "1.2.0",
      "model_name": "LayoutModel",
      "state": {}
     },
     "15c551d72799491e8939cc994b71e6c6": {
      "model_module": "@jupyter-widgets/base",
      "model_module_version": "1.2.0",
      "model_name": "LayoutModel",
      "state": {}
     },
     "167669b5ae6946faafcb0c7b21f7a5a8": {
      "model_module": "@jupyter-widgets/base",
      "model_module_version": "1.2.0",
      "model_name": "LayoutModel",
      "state": {}
     },
     "18696da9728247e6bd7aefc3e72d86af": {
      "model_module": "@jupyter-widgets/base",
      "model_module_version": "1.2.0",
      "model_name": "LayoutModel",
      "state": {}
     },
     "1c8ae7a46d274d6a95c4d214088690dc": {
      "model_module": "@jupyter-widgets/controls",
      "model_module_version": "1.5.0",
      "model_name": "DescriptionStyleModel",
      "state": {
       "description_width": ""
      }
     },
     "1df7c60eb4604fb7bb14346d9d60683c": {
      "model_module": "@jupyter-widgets/controls",
      "model_module_version": "1.5.0",
      "model_name": "HTMLModel",
      "state": {
       "layout": "IPY_MODEL_03828c87c2f445878aad8aaf0964224f",
       "style": "IPY_MODEL_a6b11f5b49b940f08891432429cb3dcf",
       "value": " 66.1M/6.70G [00:41&lt;05:13, 22.8MB/s]"
      }
     },
     "1eb10cd78d6446c89adf2d6c9fc3ed64": {
      "model_module": "@jupyter-widgets/controls",
      "model_module_version": "1.5.0",
      "model_name": "FloatProgressModel",
      "state": {
       "bar_style": "success",
       "layout": "IPY_MODEL_71840e3772a94814a92a57b90fff3369",
       "max": 222,
       "style": "IPY_MODEL_5eed3475a56c42b98c0d46e232a99380",
       "value": 222
      }
     },
     "1f6dfe0e65b942c7b56ee594b330da41": {
      "model_module": "@jupyter-widgets/controls",
      "model_module_version": "1.5.0",
      "model_name": "DescriptionStyleModel",
      "state": {
       "description_width": ""
      }
     },
     "25082bbdae6a43a1944a2ceb4d2622e2": {
      "model_module": "@jupyter-widgets/controls",
      "model_module_version": "1.5.0",
      "model_name": "ProgressStyleModel",
      "state": {
       "description_width": ""
      }
     },
     "255d5d5edc3043528274d02a54ea8af2": {
      "model_module": "@jupyter-widgets/controls",
      "model_module_version": "1.5.0",
      "model_name": "DescriptionStyleModel",
      "state": {
       "description_width": ""
      }
     },
     "291b907abb214588869d83f77b7537f9": {
      "model_module": "@jupyter-widgets/controls",
      "model_module_version": "1.5.0",
      "model_name": "HTMLModel",
      "state": {
       "layout": "IPY_MODEL_91c6ee085d264b9fa554696b38a7472f",
       "style": "IPY_MODEL_7fcf8a50dbdf48008e1eff1fd20ef855",
       "value": " 5.60G/6.70G [04:40&lt;00:52, 22.6MB/s]"
      }
     },
     "2a1554d16332402ab2982e2d8d40cf15": {
      "model_module": "@jupyter-widgets/base",
      "model_module_version": "1.2.0",
      "model_name": "LayoutModel",
      "state": {}
     },
     "2a50915ea521406a82b481ff38b79ed2": {
      "model_module": "@jupyter-widgets/controls",
      "model_module_version": "1.5.0",
      "model_name": "DescriptionStyleModel",
      "state": {
       "description_width": ""
      }
     },
     "2b585b55541d4a98b64c3a34fd79ef1c": {
      "model_module": "@jupyter-widgets/controls",
      "model_module_version": "1.5.0",
      "model_name": "DescriptionStyleModel",
      "state": {
       "description_width": ""
      }
     },
     "2bbdd28d441d4f188016d533d7a08fcc": {
      "model_module": "@jupyter-widgets/controls",
      "model_module_version": "1.5.0",
      "model_name": "DescriptionStyleModel",
      "state": {
       "description_width": ""
      }
     },
     "2be2c2727f5548878d959e91088794a2": {
      "model_module": "@jupyter-widgets/base",
      "model_module_version": "1.2.0",
      "model_name": "LayoutModel",
      "state": {}
     },
     "2bef10f1307844249f6fe69227fe439f": {
      "model_module": "@jupyter-widgets/controls",
      "model_module_version": "1.5.0",
      "model_name": "DescriptionStyleModel",
      "state": {
       "description_width": ""
      }
     },
     "2d485f0538c349968b2124d251d4b36b": {
      "model_module": "@jupyter-widgets/controls",
      "model_module_version": "1.5.0",
      "model_name": "ProgressStyleModel",
      "state": {
       "description_width": ""
      }
     },
     "301e42092c914581b521408397a3c6a3": {
      "model_module": "@jupyter-widgets/controls",
      "model_module_version": "1.5.0",
      "model_name": "HBoxModel",
      "state": {
       "children": [
        "IPY_MODEL_4d66e54331864d66a05ba48da6000b93",
        "IPY_MODEL_edbc9575a03b428c823e9c470d3476ba",
        "IPY_MODEL_9a4df43081d945d0b8ed196466ae20de"
       ],
       "layout": "IPY_MODEL_a36dee72bf3b437384c43dfbe3a78d05"
      }
     },
     "333be306be054df7bb2a6d85167baa86": {
      "model_module": "@jupyter-widgets/base",
      "model_module_version": "1.2.0",
      "model_name": "LayoutModel",
      "state": {}
     },
     "336e4205258e45829195d6929d005e6f": {
      "model_module": "@jupyter-widgets/controls",
      "model_module_version": "1.5.0",
      "model_name": "HBoxModel",
      "state": {
       "children": [
        "IPY_MODEL_e082002ae99143ad968b7392caaa0acf",
        "IPY_MODEL_82cc5b0e38074d9784f5b374d3c16995",
        "IPY_MODEL_ed20ea0e358040118f63dbac0660ab2b"
       ],
       "layout": "IPY_MODEL_634c8b26689042a680bf890439d92ffc"
      }
     },
     "3429865c957744f89de78a0103376043": {
      "model_module": "@jupyter-widgets/controls",
      "model_module_version": "1.5.0",
      "model_name": "DescriptionStyleModel",
      "state": {
       "description_width": ""
      }
     },
     "35ab56c8cf124e1ea388aeb6a6bf611f": {
      "model_module": "@jupyter-widgets/controls",
      "model_module_version": "1.5.0",
      "model_name": "DescriptionStyleModel",
      "state": {
       "description_width": ""
      }
     },
     "39d3192269ef43149e465862dbbf266c": {
      "model_module": "@jupyter-widgets/base",
      "model_module_version": "1.2.0",
      "model_name": "LayoutModel",
      "state": {}
     },
     "3a7141f32d84495a94f8dadcbcf397c0": {
      "model_module": "@jupyter-widgets/controls",
      "model_module_version": "1.5.0",
      "model_name": "DescriptionStyleModel",
      "state": {
       "description_width": ""
      }
     },
     "3b2dcc3f31294f9fa0193ccd6c3bf62a": {
      "model_module": "@jupyter-widgets/base",
      "model_module_version": "1.2.0",
      "model_name": "LayoutModel",
      "state": {}
     },
     "3b7ce4c8bcce45b3beb219203c4181f6": {
      "model_module": "@jupyter-widgets/controls",
      "model_module_version": "1.5.0",
      "model_name": "ProgressStyleModel",
      "state": {
       "description_width": ""
      }
     },
     "3c74373db3654201970d43d6fc541c71": {
      "model_module": "@jupyter-widgets/base",
      "model_module_version": "1.2.0",
      "model_name": "LayoutModel",
      "state": {}
     },
     "3e665fdbf3ca4e8aa2031b71b3236eb2": {
      "model_module": "@jupyter-widgets/base",
      "model_module_version": "1.2.0",
      "model_name": "LayoutModel",
      "state": {}
     },
     "417dc907625b489484bfeac514b6b16e": {
      "model_module": "@jupyter-widgets/controls",
      "model_module_version": "1.5.0",
      "model_name": "DescriptionStyleModel",
      "state": {
       "description_width": ""
      }
     },
     "42e736027b794134acbdcbdac02e838c": {
      "model_module": "@jupyter-widgets/base",
      "model_module_version": "1.2.0",
      "model_name": "LayoutModel",
      "state": {}
     },
     "431186b9bd95428993ebbfb6c0015a34": {
      "model_module": "@jupyter-widgets/controls",
      "model_module_version": "1.5.0",
      "model_name": "DescriptionStyleModel",
      "state": {
       "description_width": ""
      }
     },
     "435581952245497396ab61acf3ac7330": {
      "model_module": "@jupyter-widgets/base",
      "model_module_version": "1.2.0",
      "model_name": "LayoutModel",
      "state": {}
     },
     "4547fc46ddbd4db48c50b1fa721aedc3": {
      "model_module": "@jupyter-widgets/controls",
      "model_module_version": "1.5.0",
      "model_name": "HBoxModel",
      "state": {
       "children": [
        "IPY_MODEL_8c1813f121f04b58b15d7ca349edafee",
        "IPY_MODEL_785b9d9a6efe4bd6b1a842b029fbfe3f",
        "IPY_MODEL_02db1ddc2903487bbbcf8229e9b4da75"
       ],
       "layout": "IPY_MODEL_ee5b4f1ef575494e93edc912fa6087a6"
      }
     },
     "4791a19a20b444ac98c98a6285544140": {
      "model_module": "@jupyter-widgets/base",
      "model_module_version": "1.2.0",
      "model_name": "LayoutModel",
      "state": {}
     },
     "49b10eddcd014a06bc40da4f180882f7": {
      "model_module": "@jupyter-widgets/base",
      "model_module_version": "1.2.0",
      "model_name": "LayoutModel",
      "state": {}
     },
     "4ba6b340d83944ad99e7ffcea3f0cda1": {
      "model_module": "@jupyter-widgets/base",
      "model_module_version": "1.2.0",
      "model_name": "LayoutModel",
      "state": {}
     },
     "4ba976e8eb3e43daab628a92e91357fc": {
      "model_module": "@jupyter-widgets/base",
      "model_module_version": "1.2.0",
      "model_name": "LayoutModel",
      "state": {}
     },
     "4c51149cd9dc4fe4a31bba5f51acb10d": {
      "model_module": "@jupyter-widgets/controls",
      "model_module_version": "1.5.0",
      "model_name": "ProgressStyleModel",
      "state": {
       "description_width": ""
      }
     },
     "4ce93d47236b4a778e8168f75866a860": {
      "model_module": "@jupyter-widgets/controls",
      "model_module_version": "1.5.0",
      "model_name": "HTMLModel",
      "state": {
       "layout": "IPY_MODEL_cf3b8bb52cb24d87980bcc4fe1e1f74c",
       "style": "IPY_MODEL_e3614906cbd04988acba01ace74dbad4",
       "value": "Downloading special_tokens_map.json: 100%"
      }
     },
     "4d66e54331864d66a05ba48da6000b93": {
      "model_module": "@jupyter-widgets/controls",
      "model_module_version": "1.5.0",
      "model_name": "HTMLModel",
      "state": {
       "layout": "IPY_MODEL_05684f84900b4906bd835c876abb2ac7",
       "style": "IPY_MODEL_431186b9bd95428993ebbfb6c0015a34",
       "value": "Downloading pytorch_model.bin.index.json: 100%"
      }
     },
     "4f593f8d13994e54aa25d0d1fd94f112": {
      "model_module": "@jupyter-widgets/controls",
      "model_module_version": "1.5.0",
      "model_name": "HBoxModel",
      "state": {
       "children": [
        "IPY_MODEL_f64b1db0e00b409d923876ad0669e0a7",
        "IPY_MODEL_6ef446e236c248688ead223ce0adf2bf",
        "IPY_MODEL_f39b73a8cc194f2f8edeca3a18e53055"
       ],
       "layout": "IPY_MODEL_9a6bd9f7048c4eec9bf2c4a321082565"
      }
     },
     "503caa3f560241cba7bef4b198fafa7f": {
      "model_module": "@jupyter-widgets/controls",
      "model_module_version": "1.5.0",
      "model_name": "HTMLModel",
      "state": {
       "layout": "IPY_MODEL_4ba6b340d83944ad99e7ffcea3f0cda1",
       "style": "IPY_MODEL_3429865c957744f89de78a0103376043",
       "value": "Downloading: 100%"
      }
     },
     "51300b7926f84680be028dd41e31d0ee": {
      "model_module": "@jupyter-widgets/controls",
      "model_module_version": "1.5.0",
      "model_name": "DescriptionStyleModel",
      "state": {
       "description_width": ""
      }
     },
     "514ad3a52b684430aa006d48392daa27": {
      "model_module": "@jupyter-widgets/controls",
      "model_module_version": "1.5.0",
      "model_name": "HBoxModel",
      "state": {
       "children": [
        "IPY_MODEL_cacbab415473486f9cbc3bbb9e0340d3",
        "IPY_MODEL_b2e288c05ea44480b086e9cb3488fc24",
        "IPY_MODEL_b101bae982d744d9974bf2612da12a02"
       ],
       "layout": "IPY_MODEL_fbda30ec61cc42ac9da3240ac9b070a6"
      }
     },
     "52dd93b0f73148be98d6bfe30a5c49f7": {
      "model_module": "@jupyter-widgets/base",
      "model_module_version": "1.2.0",
      "model_name": "LayoutModel",
      "state": {}
     },
     "52f16151dfcb456c825cb3dae442d5ad": {
      "model_module": "@jupyter-widgets/controls",
      "model_module_version": "1.5.0",
      "model_name": "HTMLModel",
      "state": {
       "layout": "IPY_MODEL_42e736027b794134acbdcbdac02e838c",
       "style": "IPY_MODEL_72ea378ae6c9452a82938c6d9ddf2160",
       "value": "Downloading: 100%"
      }
     },
     "54d82726a2924d948c54b144e2a7d89c": {
      "model_module": "@jupyter-widgets/controls",
      "model_module_version": "1.5.0",
      "model_name": "ProgressStyleModel",
      "state": {
       "description_width": ""
      }
     },
     "5774ac0228ca4a32b1575071b093f650": {
      "model_module": "@jupyter-widgets/base",
      "model_module_version": "1.2.0",
      "model_name": "LayoutModel",
      "state": {}
     },
     "57b5f0bd8e8941fc9dc925ead9198d98": {
      "model_module": "@jupyter-widgets/controls",
      "model_module_version": "1.5.0",
      "model_name": "FloatProgressModel",
      "state": {
       "bar_style": "success",
       "layout": "IPY_MODEL_789e1e25688445a982f1a69cc941bd74",
       "max": 92568,
       "style": "IPY_MODEL_989c282496904f628e3cdaea7595fa70",
       "value": 92568
      }
     },
     "588738651d714523932552dc8332e1fd": {
      "model_module": "@jupyter-widgets/controls",
      "model_module_version": "1.5.0",
      "model_name": "HTMLModel",
      "state": {
       "layout": "IPY_MODEL_75308d7b88284f6b978a0982a287b203",
       "style": "IPY_MODEL_8eb4582896c34c1f96406c860ba7bc14",
       "value": " 99.7M/6.70G [06:51&lt;05:14, 22.5MB/s]"
      }
     },
     "5b33285cce0e49df9a7a7fe197871513": {
      "model_module": "@jupyter-widgets/controls",
      "model_module_version": "1.5.0",
      "model_name": "HTMLModel",
      "state": {
       "layout": "IPY_MODEL_8433364da70740adac53b59954dab93e",
       "style": "IPY_MODEL_417dc907625b489484bfeac514b6b16e",
       "value": "Downloading pytorch_model_00001-of-00072.bin:   1%"
      }
     },
     "5bffd62e9df74bc092e0000412567f8e": {
      "model_module": "@jupyter-widgets/controls",
      "model_module_version": "1.5.0",
      "model_name": "HBoxModel",
      "state": {
       "children": [
        "IPY_MODEL_8c80a319e3304a11b77eba302b51a42f",
        "IPY_MODEL_c811e8bf2d074cb38762b2593b0f38a8",
        "IPY_MODEL_0007e9ef13d64435a75f9ac6baf4f7ec"
       ],
       "layout": "IPY_MODEL_7cb653e50ef84102adc221a3433189d9"
      }
     },
     "5e3dd821bef34f69b90df0ab3966f883": {
      "model_module": "@jupyter-widgets/controls",
      "model_module_version": "1.5.0",
      "model_name": "HTMLModel",
      "state": {
       "layout": "IPY_MODEL_bc670f08059e4214831a7695ad5ee4bb",
       "style": "IPY_MODEL_632f60a0742647349a9c5295d101a10b",
       "value": "Downloading tokenizer_config.json: 100%"
      }
     },
     "5e757c41f48f479db278668a5ed0d9dc": {
      "model_module": "@jupyter-widgets/base",
      "model_module_version": "1.2.0",
      "model_name": "LayoutModel",
      "state": {}
     },
     "5ee9585d203a4871924e1f9e3f9d710d": {
      "model_module": "@jupyter-widgets/controls",
      "model_module_version": "1.5.0",
      "model_name": "HBoxModel",
      "state": {
       "children": [
        "IPY_MODEL_52f16151dfcb456c825cb3dae442d5ad",
        "IPY_MODEL_57b5f0bd8e8941fc9dc925ead9198d98",
        "IPY_MODEL_c7c614834f8149bea48ba010897358ab"
       ],
       "layout": "IPY_MODEL_639a65d9264a448fb7a742e6919c5b7c"
      }
     },
     "5eed3475a56c42b98c0d46e232a99380": {
      "model_module": "@jupyter-widgets/controls",
      "model_module_version": "1.5.0",
      "model_name": "ProgressStyleModel",
      "state": {
       "description_width": ""
      }
     },
     "614ddb6fd7af407d939448a6baeb3b25": {
      "model_module": "@jupyter-widgets/base",
      "model_module_version": "1.2.0",
      "model_name": "LayoutModel",
      "state": {}
     },
     "632f60a0742647349a9c5295d101a10b": {
      "model_module": "@jupyter-widgets/controls",
      "model_module_version": "1.5.0",
      "model_name": "DescriptionStyleModel",
      "state": {
       "description_width": ""
      }
     },
     "634c8b26689042a680bf890439d92ffc": {
      "model_module": "@jupyter-widgets/base",
      "model_module_version": "1.2.0",
      "model_name": "LayoutModel",
      "state": {}
     },
     "639a65d9264a448fb7a742e6919c5b7c": {
      "model_module": "@jupyter-widgets/base",
      "model_module_version": "1.2.0",
      "model_name": "LayoutModel",
      "state": {}
     },
     "68febe5ca93b496eb1131f602520e885": {
      "model_module": "@jupyter-widgets/controls",
      "model_module_version": "1.5.0",
      "model_name": "HBoxModel",
      "state": {
       "children": [
        "IPY_MODEL_5b33285cce0e49df9a7a7fe197871513",
        "IPY_MODEL_e3255c2cb1a74bddae1b0954a8a87e77",
        "IPY_MODEL_1df7c60eb4604fb7bb14346d9d60683c"
       ],
       "layout": "IPY_MODEL_15c551d72799491e8939cc994b71e6c6"
      }
     },
     "6a16627ddbe84047af82a82eab0d6725": {
      "model_module": "@jupyter-widgets/controls",
      "model_module_version": "1.5.0",
      "model_name": "HTMLModel",
      "state": {
       "layout": "IPY_MODEL_bc353301f82949ba9ee3a1f27529e039",
       "style": "IPY_MODEL_f9e325431df049be855ba5cbfd61b4e0",
       "value": " 68.3M/6.70G [00:20&lt;05:30, 21.5MB/s]"
      }
     },
     "6a4d9c306b394bc693943a46fbb135fd": {
      "model_module": "@jupyter-widgets/base",
      "model_module_version": "1.2.0",
      "model_name": "LayoutModel",
      "state": {}
     },
     "6b0feb496e914d45b94e4153862da161": {
      "model_module": "@jupyter-widgets/controls",
      "model_module_version": "1.5.0",
      "model_name": "HTMLModel",
      "state": {
       "layout": "IPY_MODEL_d594c19ddc194b7cb92f50a569636d04",
       "style": "IPY_MODEL_f7c0ff48b0054f44b1f73b23b42929ba",
       "value": " 163M/6.70G [00:22&lt;05:06, 22.9MB/s]"
      }
     },
     "6ccba48aae174dddada6d3bbe431b6a3": {
      "model_module": "@jupyter-widgets/controls",
      "model_module_version": "1.5.0",
      "model_name": "FloatProgressModel",
      "state": {
       "bar_style": "success",
       "layout": "IPY_MODEL_49b10eddcd014a06bc40da4f180882f7",
       "max": 85,
       "style": "IPY_MODEL_3b7ce4c8bcce45b3beb219203c4181f6",
       "value": 85
      }
     },
     "6ea9ede1f0504343b1b88002739dcaef": {
      "model_module": "@jupyter-widgets/base",
      "model_module_version": "1.2.0",
      "model_name": "LayoutModel",
      "state": {}
     },
     "6ef446e236c248688ead223ce0adf2bf": {
      "model_module": "@jupyter-widgets/controls",
      "model_module_version": "1.5.0",
      "model_name": "FloatProgressModel",
      "state": {
       "bar_style": "success",
       "layout": "IPY_MODEL_fc093097005f4262895b079a6be2db8c",
       "max": 63701,
       "style": "IPY_MODEL_d2b0d2cdef5e42a0a7f274a419045f96",
       "value": 63701
      }
     },
     "717cb4a2b94d43cb946e1067404bf633": {
      "model_module": "@jupyter-widgets/controls",
      "model_module_version": "1.5.0",
      "model_name": "HBoxModel",
      "state": {
       "children": [
        "IPY_MODEL_98a813c72978467bb876ec0685d166d9",
        "IPY_MODEL_c971eec8a5b24bc488e6f8f29fb38605",
        "IPY_MODEL_6a16627ddbe84047af82a82eab0d6725"
       ],
       "layout": "IPY_MODEL_6ea9ede1f0504343b1b88002739dcaef"
      }
     },
     "71840e3772a94814a92a57b90fff3369": {
      "model_module": "@jupyter-widgets/base",
      "model_module_version": "1.2.0",
      "model_name": "LayoutModel",
      "state": {}
     },
     "72ea378ae6c9452a82938c6d9ddf2160": {
      "model_module": "@jupyter-widgets/controls",
      "model_module_version": "1.5.0",
      "model_name": "DescriptionStyleModel",
      "state": {
       "description_width": ""
      }
     },
     "75308d7b88284f6b978a0982a287b203": {
      "model_module": "@jupyter-widgets/base",
      "model_module_version": "1.2.0",
      "model_name": "LayoutModel",
      "state": {}
     },
     "75e0f19b3abf49049d0098fc5eb8fa42": {
      "model_module": "@jupyter-widgets/controls",
      "model_module_version": "1.5.0",
      "model_name": "DescriptionStyleModel",
      "state": {
       "description_width": ""
      }
     },
     "75e9db04d1434a899673066bc893c973": {
      "model_module": "@jupyter-widgets/controls",
      "model_module_version": "1.5.0",
      "model_name": "HTMLModel",
      "state": {
       "layout": "IPY_MODEL_8fc16263fdf742ab8015d982f086a22a",
       "style": "IPY_MODEL_e78f7cfd5e6b4393a4bd52bfd91c0cd9",
       "value": " 90.4k/90.4k [00:00&lt;00:00, 105kB/s]"
      }
     },
     "785b9d9a6efe4bd6b1a842b029fbfe3f": {
      "model_module": "@jupyter-widgets/controls",
      "model_module_version": "1.5.0",
      "model_name": "FloatProgressModel",
      "state": {
       "layout": "IPY_MODEL_18696da9728247e6bd7aefc3e72d86af",
       "max": 7193290147,
       "style": "IPY_MODEL_d1abad7f75af411bad0fc7324a2d6313",
       "value": 132189184
      }
     },
     "789e1e25688445a982f1a69cc941bd74": {
      "model_module": "@jupyter-widgets/base",
      "model_module_version": "1.2.0",
      "model_name": "LayoutModel",
      "state": {}
     },
     "78c17d0ea69b48ed925e8b0ab59df178": {
      "model_module": "@jupyter-widgets/controls",
      "model_module_version": "1.5.0",
      "model_name": "HTMLModel",
      "state": {
       "layout": "IPY_MODEL_3c74373db3654201970d43d6fc541c71",
       "style": "IPY_MODEL_2a50915ea521406a82b481ff38b79ed2",
       "value": "Downloading pytorch_model_00001-of-00072.bin:   2%"
      }
     },
     "7be14acfbe8a4e4b81de9eedae5e5e99": {
      "model_module": "@jupyter-widgets/controls",
      "model_module_version": "1.5.0",
      "model_name": "HBoxModel",
      "state": {
       "children": [
        "IPY_MODEL_5e3dd821bef34f69b90df0ab3966f883",
        "IPY_MODEL_1eb10cd78d6446c89adf2d6c9fc3ed64",
        "IPY_MODEL_f635c00a05d746c0a37c2a22608d9cc6"
       ],
       "layout": "IPY_MODEL_e57cd74666e44d098e983319170f76bd"
      }
     },
     "7c429975848b42009dceefe5400b89a1": {
      "model_module": "@jupyter-widgets/controls",
      "model_module_version": "1.5.0",
      "model_name": "HTMLModel",
      "state": {
       "layout": "IPY_MODEL_98565f41b47a48d48b86ccbe5f6bb8c8",
       "style": "IPY_MODEL_eaaaf93a61d24042b3276e763a5300ff",
       "value": " 568/568 [00:00&lt;00:00, 34.8kB/s]"
      }
     },
     "7cb653e50ef84102adc221a3433189d9": {
      "model_module": "@jupyter-widgets/base",
      "model_module_version": "1.2.0",
      "model_name": "LayoutModel",
      "state": {}
     },
     "7fcf8a50dbdf48008e1eff1fd20ef855": {
      "model_module": "@jupyter-widgets/controls",
      "model_module_version": "1.5.0",
      "model_name": "DescriptionStyleModel",
      "state": {
       "description_width": ""
      }
     },
     "811e0ba515ab4314950653ab21ed86c8": {
      "model_module": "@jupyter-widgets/controls",
      "model_module_version": "1.5.0",
      "model_name": "DescriptionStyleModel",
      "state": {
       "description_width": ""
      }
     },
     "82405802a6074a5c9b114c70f4374bb6": {
      "model_module": "@jupyter-widgets/base",
      "model_module_version": "1.2.0",
      "model_name": "LayoutModel",
      "state": {}
     },
     "82cc5b0e38074d9784f5b374d3c16995": {
      "model_module": "@jupyter-widgets/controls",
      "model_module_version": "1.5.0",
      "model_name": "FloatProgressModel",
      "state": {
       "bar_style": "danger",
       "layout": "IPY_MODEL_6a4d9c306b394bc693943a46fbb135fd",
       "max": 7193290147,
       "style": "IPY_MODEL_54d82726a2924d948c54b144e2a7d89c",
       "value": 162958336
      }
     },
     "8433364da70740adac53b59954dab93e": {
      "model_module": "@jupyter-widgets/base",
      "model_module_version": "1.2.0",
      "model_name": "LayoutModel",
      "state": {}
     },
     "84bbee6cec4e462f9a51693f444fa955": {
      "model_module": "@jupyter-widgets/controls",
      "model_module_version": "1.5.0",
      "model_name": "ProgressStyleModel",
      "state": {
       "description_width": ""
      }
     },
     "854766c3110046039efc97d1547ace58": {
      "model_module": "@jupyter-widgets/controls",
      "model_module_version": "1.5.0",
      "model_name": "FloatProgressModel",
      "state": {
       "bar_style": "success",
       "layout": "IPY_MODEL_4ba976e8eb3e43daab628a92e91357fc",
       "max": 568,
       "style": "IPY_MODEL_9c85c520b62845418536863b5aa57d2c",
       "value": 568
      }
     },
     "872c8c776b4e420ebdc557e58464e409": {
      "model_module": "@jupyter-widgets/base",
      "model_module_version": "1.2.0",
      "model_name": "LayoutModel",
      "state": {}
     },
     "8a4fc71df7b44b7db78de0f7c004320c": {
      "model_module": "@jupyter-widgets/controls",
      "model_module_version": "1.5.0",
      "model_name": "DescriptionStyleModel",
      "state": {
       "description_width": ""
      }
     },
     "8a73e87f6df34d52a43059a01f5eab5e": {
      "model_module": "@jupyter-widgets/controls",
      "model_module_version": "1.5.0",
      "model_name": "HBoxModel",
      "state": {
       "children": [
        "IPY_MODEL_c3b874aab18445a3b7b5595a5f7df6ed",
        "IPY_MODEL_854766c3110046039efc97d1547ace58",
        "IPY_MODEL_cdb9f43738324248abdf8e80482ff4b6"
       ],
       "layout": "IPY_MODEL_be3dfb25663d46be8058ecf949556b85"
      }
     },
     "8c1813f121f04b58b15d7ca349edafee": {
      "model_module": "@jupyter-widgets/controls",
      "model_module_version": "1.5.0",
      "model_name": "HTMLModel",
      "state": {
       "layout": "IPY_MODEL_167669b5ae6946faafcb0c7b21f7a5a8",
       "style": "IPY_MODEL_3a7141f32d84495a94f8dadcbcf397c0",
       "value": "Downloading pytorch_model_00001-of-00072.bin:   2%"
      }
     },
     "8c5e043b598b41c2a47bd8a185bcbe63": {
      "model_module": "@jupyter-widgets/controls",
      "model_module_version": "1.5.0",
      "model_name": "DescriptionStyleModel",
      "state": {
       "description_width": ""
      }
     },
     "8c80a319e3304a11b77eba302b51a42f": {
      "model_module": "@jupyter-widgets/controls",
      "model_module_version": "1.5.0",
      "model_name": "HTMLModel",
      "state": {
       "layout": "IPY_MODEL_de4f934014d4475e9659b82105920e86",
       "style": "IPY_MODEL_255d5d5edc3043528274d02a54ea8af2",
       "value": "Downloading: 100%"
      }
     },
     "8d8e2b7af99f476088de10969cf5afa6": {
      "model_module": "@jupyter-widgets/controls",
      "model_module_version": "1.5.0",
      "model_name": "HBoxModel",
      "state": {
       "children": [
        "IPY_MODEL_dab8bd0e54804ed2964e03e0bf7f46c6",
        "IPY_MODEL_df0cd099621b4155aa66a9c6feae656b",
        "IPY_MODEL_7c429975848b42009dceefe5400b89a1"
       ],
       "layout": "IPY_MODEL_da0e46cf6bdf417caef090bb59812a8b"
      }
     },
     "8eb4582896c34c1f96406c860ba7bc14": {
      "model_module": "@jupyter-widgets/controls",
      "model_module_version": "1.5.0",
      "model_name": "DescriptionStyleModel",
      "state": {
       "description_width": ""
      }
     },
     "8ec28a8cdc0a4263b3f285d669deeeaa": {
      "model_module": "@jupyter-widgets/controls",
      "model_module_version": "1.5.0",
      "model_name": "DescriptionStyleModel",
      "state": {
       "description_width": ""
      }
     },
     "8f0c818fc47344f2b5b3dd21947326fa": {
      "model_module": "@jupyter-widgets/controls",
      "model_module_version": "1.5.0",
      "model_name": "FloatProgressModel",
      "state": {
       "layout": "IPY_MODEL_da94f3c500be4999bedd1d4c7837b62e",
       "max": 7193290147,
       "style": "IPY_MODEL_84bbee6cec4e462f9a51693f444fa955",
       "value": 6009051136
      }
     },
     "8fc16263fdf742ab8015d982f086a22a": {
      "model_module": "@jupyter-widgets/base",
      "model_module_version": "1.2.0",
      "model_name": "LayoutModel",
      "state": {}
     },
     "90e058b83f694cb7b1e430cb8ba60772": {
      "model_module": "@jupyter-widgets/controls",
      "model_module_version": "1.5.0",
      "model_name": "HBoxModel",
      "state": {
       "children": [
        "IPY_MODEL_78c17d0ea69b48ed925e8b0ab59df178",
        "IPY_MODEL_eed1232419904990b3b5d1bfc6deab8c",
        "IPY_MODEL_6b0feb496e914d45b94e4153862da161"
       ],
       "layout": "IPY_MODEL_39d3192269ef43149e465862dbbf266c"
      }
     },
     "9150c0dc08e04954baf0040ede597b6d": {
      "model_module": "@jupyter-widgets/base",
      "model_module_version": "1.2.0",
      "model_name": "LayoutModel",
      "state": {}
     },
     "91c6ee085d264b9fa554696b38a7472f": {
      "model_module": "@jupyter-widgets/base",
      "model_module_version": "1.2.0",
      "model_name": "LayoutModel",
      "state": {}
     },
     "93c798fed06e436490ef522bc32a9272": {
      "model_module": "@jupyter-widgets/controls",
      "model_module_version": "1.5.0",
      "model_name": "ProgressStyleModel",
      "state": {
       "description_width": ""
      }
     },
     "93e15dbd1f824745b228f881d62d7a03": {
      "model_module": "@jupyter-widgets/controls",
      "model_module_version": "1.5.0",
      "model_name": "HBoxModel",
      "state": {
       "children": [
        "IPY_MODEL_503caa3f560241cba7bef4b198fafa7f",
        "IPY_MODEL_ca1f05a69c0f49dda95cc749f53f2f94",
        "IPY_MODEL_75e9db04d1434a899673066bc893c973"
       ],
       "layout": "IPY_MODEL_2a1554d16332402ab2982e2d8d40cf15"
      }
     },
     "9620386e3a4048199e1d1e0bf649e693": {
      "model_module": "@jupyter-widgets/base",
      "model_module_version": "1.2.0",
      "model_name": "LayoutModel",
      "state": {}
     },
     "98565f41b47a48d48b86ccbe5f6bb8c8": {
      "model_module": "@jupyter-widgets/base",
      "model_module_version": "1.2.0",
      "model_name": "LayoutModel",
      "state": {}
     },
     "989c282496904f628e3cdaea7595fa70": {
      "model_module": "@jupyter-widgets/controls",
      "model_module_version": "1.5.0",
      "model_name": "ProgressStyleModel",
      "state": {
       "description_width": ""
      }
     },
     "98a813c72978467bb876ec0685d166d9": {
      "model_module": "@jupyter-widgets/controls",
      "model_module_version": "1.5.0",
      "model_name": "HTMLModel",
      "state": {
       "layout": "IPY_MODEL_daebae1f915644c1b0918d8eae1e673e",
       "style": "IPY_MODEL_1f6dfe0e65b942c7b56ee594b330da41",
       "value": "Downloading pytorch_model_00001-of-00072.bin:   1%"
      }
     },
     "9a4df43081d945d0b8ed196466ae20de": {
      "model_module": "@jupyter-widgets/controls",
      "model_module_version": "1.5.0",
      "model_name": "HTMLModel",
      "state": {
       "layout": "IPY_MODEL_82405802a6074a5c9b114c70f4374bb6",
       "style": "IPY_MODEL_2b585b55541d4a98b64c3a34fd79ef1c",
       "value": " 62.2k/62.2k [00:00&lt;00:00, 109kB/s]"
      }
     },
     "9a6bd9f7048c4eec9bf2c4a321082565": {
      "model_module": "@jupyter-widgets/base",
      "model_module_version": "1.2.0",
      "model_name": "LayoutModel",
      "state": {}
     },
     "9c85c520b62845418536863b5aa57d2c": {
      "model_module": "@jupyter-widgets/controls",
      "model_module_version": "1.5.0",
      "model_name": "ProgressStyleModel",
      "state": {
       "description_width": ""
      }
     },
     "9ea66902cae045e78d0b5d8d5597bdf3": {
      "model_module": "@jupyter-widgets/controls",
      "model_module_version": "1.5.0",
      "model_name": "ProgressStyleModel",
      "state": {
       "description_width": ""
      }
     },
     "a36dee72bf3b437384c43dfbe3a78d05": {
      "model_module": "@jupyter-widgets/base",
      "model_module_version": "1.2.0",
      "model_name": "LayoutModel",
      "state": {}
     },
     "a6b11f5b49b940f08891432429cb3dcf": {
      "model_module": "@jupyter-widgets/controls",
      "model_module_version": "1.5.0",
      "model_name": "DescriptionStyleModel",
      "state": {
       "description_width": ""
      }
     },
     "a8b3d2f7817f46989ced9490d1c5797c": {
      "model_module": "@jupyter-widgets/base",
      "model_module_version": "1.2.0",
      "model_name": "LayoutModel",
      "state": {}
     },
     "a9fedff0b2204873b7de765d0fc19d34": {
      "model_module": "@jupyter-widgets/controls",
      "model_module_version": "1.5.0",
      "model_name": "DescriptionStyleModel",
      "state": {
       "description_width": ""
      }
     },
     "ab7a7b2fd97f46f4815a46fef04e6c2c": {
      "model_module": "@jupyter-widgets/controls",
      "model_module_version": "1.5.0",
      "model_name": "DescriptionStyleModel",
      "state": {
       "description_width": ""
      }
     },
     "ac689d6f6112494da1eea57204942b52": {
      "model_module": "@jupyter-widgets/base",
      "model_module_version": "1.2.0",
      "model_name": "LayoutModel",
      "state": {}
     },
     "b101bae982d744d9974bf2612da12a02": {
      "model_module": "@jupyter-widgets/controls",
      "model_module_version": "1.5.0",
      "model_name": "HTMLModel",
      "state": {
       "layout": "IPY_MODEL_ac689d6f6112494da1eea57204942b52",
       "style": "IPY_MODEL_51300b7926f84680be028dd41e31d0ee",
       "value": " 13.8M/13.8M [00:00&lt;00:00, 56.9MB/s]"
      }
     },
     "b2e288c05ea44480b086e9cb3488fc24": {
      "model_module": "@jupyter-widgets/controls",
      "model_module_version": "1.5.0",
      "model_name": "FloatProgressModel",
      "state": {
       "bar_style": "success",
       "layout": "IPY_MODEL_3b2dcc3f31294f9fa0193ccd6c3bf62a",
       "max": 14500438,
       "style": "IPY_MODEL_df35d7e00b2841e38c5498f42ba5e78b",
       "value": 14500438
      }
     },
     "bc2e5daa20574ff58930ab6b6c66d794": {
      "model_module": "@jupyter-widgets/controls",
      "model_module_version": "1.5.0",
      "model_name": "HTMLModel",
      "state": {
       "layout": "IPY_MODEL_435581952245497396ab61acf3ac7330",
       "style": "IPY_MODEL_05736c4dadc141689a2ea96b3fd2965c",
       "value": "Downloading pytorch_model_00001-of-00072.bin:  84%"
      }
     },
     "bc353301f82949ba9ee3a1f27529e039": {
      "model_module": "@jupyter-widgets/base",
      "model_module_version": "1.2.0",
      "model_name": "LayoutModel",
      "state": {}
     },
     "bc670f08059e4214831a7695ad5ee4bb": {
      "model_module": "@jupyter-widgets/base",
      "model_module_version": "1.2.0",
      "model_name": "LayoutModel",
      "state": {}
     },
     "be3dfb25663d46be8058ecf949556b85": {
      "model_module": "@jupyter-widgets/base",
      "model_module_version": "1.2.0",
      "model_name": "LayoutModel",
      "state": {}
     },
     "be5f2bc864f548faa89218da3650c474": {
      "model_module": "@jupyter-widgets/base",
      "model_module_version": "1.2.0",
      "model_name": "LayoutModel",
      "state": {}
     },
     "be98cf4db0714332ae57f2165695579d": {
      "model_module": "@jupyter-widgets/controls",
      "model_module_version": "1.5.0",
      "model_name": "ProgressStyleModel",
      "state": {
       "description_width": ""
      }
     },
     "c3b874aab18445a3b7b5595a5f7df6ed": {
      "model_module": "@jupyter-widgets/controls",
      "model_module_version": "1.5.0",
      "model_name": "HTMLModel",
      "state": {
       "layout": "IPY_MODEL_d47c5aca05e54e45b1a6fd792a1d24b0",
       "style": "IPY_MODEL_2bbdd28d441d4f188016d533d7a08fcc",
       "value": "Downloading config.json: 100%"
      }
     },
     "c6bfab214f48415c9816cdce63f5e5ee": {
      "model_module": "@jupyter-widgets/controls",
      "model_module_version": "1.5.0",
      "model_name": "DescriptionStyleModel",
      "state": {
       "description_width": ""
      }
     },
     "c7c614834f8149bea48ba010897358ab": {
      "model_module": "@jupyter-widgets/controls",
      "model_module_version": "1.5.0",
      "model_name": "HTMLModel",
      "state": {
       "layout": "IPY_MODEL_128116ff10b54f3da1d7efe51b5761f8",
       "style": "IPY_MODEL_f743ab34fe314b8a9d4e6d590e645b26",
       "value": " 90.4k/90.4k [00:00&lt;00:00, 74.8kB/s]"
      }
     },
     "c811e8bf2d074cb38762b2593b0f38a8": {
      "model_module": "@jupyter-widgets/controls",
      "model_module_version": "1.5.0",
      "model_name": "FloatProgressModel",
      "state": {
       "bar_style": "success",
       "layout": "IPY_MODEL_9150c0dc08e04954baf0040ede597b6d",
       "max": 92568,
       "style": "IPY_MODEL_0bea8bd7773a42ef83790a816646c3d4",
       "value": 92568
      }
     },
     "c971eec8a5b24bc488e6f8f29fb38605": {
      "model_module": "@jupyter-widgets/controls",
      "model_module_version": "1.5.0",
      "model_name": "FloatProgressModel",
      "state": {
       "layout": "IPY_MODEL_5e757c41f48f479db278668a5ed0d9dc",
       "max": 7193290147,
       "style": "IPY_MODEL_93c798fed06e436490ef522bc32a9272",
       "value": 71576576
      }
     },
     "ca1f05a69c0f49dda95cc749f53f2f94": {
      "model_module": "@jupyter-widgets/controls",
      "model_module_version": "1.5.0",
      "model_name": "FloatProgressModel",
      "state": {
       "bar_style": "success",
       "layout": "IPY_MODEL_2be2c2727f5548878d959e91088794a2",
       "max": 92568,
       "style": "IPY_MODEL_be98cf4db0714332ae57f2165695579d",
       "value": 92568
      }
     },
     "ca35e145455e4b99874830dde49c3f4d": {
      "model_module": "@jupyter-widgets/base",
      "model_module_version": "1.2.0",
      "model_name": "LayoutModel",
      "state": {}
     },
     "cacbab415473486f9cbc3bbb9e0340d3": {
      "model_module": "@jupyter-widgets/controls",
      "model_module_version": "1.5.0",
      "model_name": "HTMLModel",
      "state": {
       "layout": "IPY_MODEL_9620386e3a4048199e1d1e0bf649e693",
       "style": "IPY_MODEL_8c5e043b598b41c2a47bd8a185bcbe63",
       "value": "Downloading tokenizer.json: 100%"
      }
     },
     "cb01b78953724b4cbd32792c0da1ffc8": {
      "model_module": "@jupyter-widgets/controls",
      "model_module_version": "1.5.0",
      "model_name": "FloatProgressModel",
      "state": {
       "bar_style": "danger",
       "layout": "IPY_MODEL_4791a19a20b444ac98c98a6285544140",
       "max": 7193290147,
       "style": "IPY_MODEL_25082bbdae6a43a1944a2ceb4d2622e2",
       "value": 104550400
      }
     },
     "cdaf8c71f2644559a38d7afec3348f94": {
      "model_module": "@jupyter-widgets/controls",
      "model_module_version": "1.5.0",
      "model_name": "HBoxModel",
      "state": {
       "children": [
        "IPY_MODEL_f948765b124545db83e20e2c9b0db6e6",
        "IPY_MODEL_cb01b78953724b4cbd32792c0da1ffc8",
        "IPY_MODEL_588738651d714523932552dc8332e1fd"
       ],
       "layout": "IPY_MODEL_dc3e54c07ecd4b4f981c8e830c1ecddb"
      }
     },
     "cdb9f43738324248abdf8e80482ff4b6": {
      "model_module": "@jupyter-widgets/controls",
      "model_module_version": "1.5.0",
      "model_name": "HTMLModel",
      "state": {
       "layout": "IPY_MODEL_e14d1c1e1cd84341a78a11a6a1b0d69e",
       "style": "IPY_MODEL_8a4fc71df7b44b7db78de0f7c004320c",
       "value": " 568/568 [00:00&lt;00:00, 31.1kB/s]"
      }
     },
     "cf3b8bb52cb24d87980bcc4fe1e1f74c": {
      "model_module": "@jupyter-widgets/base",
      "model_module_version": "1.2.0",
      "model_name": "LayoutModel",
      "state": {}
     },
     "cfe813ce480e4f469a62c14b96e89986": {
      "model_module": "@jupyter-widgets/controls",
      "model_module_version": "1.5.0",
      "model_name": "HTMLModel",
      "state": {
       "layout": "IPY_MODEL_eecd2659a30d481f82dc59d4cfb82a37",
       "style": "IPY_MODEL_1c8ae7a46d274d6a95c4d214088690dc",
       "value": " 85.0/85.0 [00:00&lt;00:00, 5.44kB/s]"
      }
     },
     "d1abad7f75af411bad0fc7324a2d6313": {
      "model_module": "@jupyter-widgets/controls",
      "model_module_version": "1.5.0",
      "model_name": "ProgressStyleModel",
      "state": {
       "description_width": ""
      }
     },
     "d2b0d2cdef5e42a0a7f274a419045f96": {
      "model_module": "@jupyter-widgets/controls",
      "model_module_version": "1.5.0",
      "model_name": "ProgressStyleModel",
      "state": {
       "description_width": ""
      }
     },
     "d47c5aca05e54e45b1a6fd792a1d24b0": {
      "model_module": "@jupyter-widgets/base",
      "model_module_version": "1.2.0",
      "model_name": "LayoutModel",
      "state": {}
     },
     "d594c19ddc194b7cb92f50a569636d04": {
      "model_module": "@jupyter-widgets/base",
      "model_module_version": "1.2.0",
      "model_name": "LayoutModel",
      "state": {}
     },
     "da0e46cf6bdf417caef090bb59812a8b": {
      "model_module": "@jupyter-widgets/base",
      "model_module_version": "1.2.0",
      "model_name": "LayoutModel",
      "state": {}
     },
     "da94f3c500be4999bedd1d4c7837b62e": {
      "model_module": "@jupyter-widgets/base",
      "model_module_version": "1.2.0",
      "model_name": "LayoutModel",
      "state": {}
     },
     "dab8bd0e54804ed2964e03e0bf7f46c6": {
      "model_module": "@jupyter-widgets/controls",
      "model_module_version": "1.5.0",
      "model_name": "HTMLModel",
      "state": {
       "layout": "IPY_MODEL_00a7c42a61df467a92483ea845628ae2",
       "style": "IPY_MODEL_c6bfab214f48415c9816cdce63f5e5ee",
       "value": "Downloading config.json: 100%"
      }
     },
     "dac79f9c9db844e2b5c0b4ee2b74afb5": {
      "model_module": "@jupyter-widgets/base",
      "model_module_version": "1.2.0",
      "model_name": "LayoutModel",
      "state": {}
     },
     "daebae1f915644c1b0918d8eae1e673e": {
      "model_module": "@jupyter-widgets/base",
      "model_module_version": "1.2.0",
      "model_name": "LayoutModel",
      "state": {}
     },
     "dc18576ac2ee4714b9bb6b0d58aeed0f": {
      "model_module": "@jupyter-widgets/base",
      "model_module_version": "1.2.0",
      "model_name": "LayoutModel",
      "state": {}
     },
     "dc3e54c07ecd4b4f981c8e830c1ecddb": {
      "model_module": "@jupyter-widgets/base",
      "model_module_version": "1.2.0",
      "model_name": "LayoutModel",
      "state": {}
     },
     "de2a95e8d7d947cfa68d33014981b7d9": {
      "model_module": "@jupyter-widgets/base",
      "model_module_version": "1.2.0",
      "model_name": "LayoutModel",
      "state": {}
     },
     "de4f934014d4475e9659b82105920e86": {
      "model_module": "@jupyter-widgets/base",
      "model_module_version": "1.2.0",
      "model_name": "LayoutModel",
      "state": {}
     },
     "df0cd099621b4155aa66a9c6feae656b": {
      "model_module": "@jupyter-widgets/controls",
      "model_module_version": "1.5.0",
      "model_name": "FloatProgressModel",
      "state": {
       "bar_style": "success",
       "layout": "IPY_MODEL_dac79f9c9db844e2b5c0b4ee2b74afb5",
       "max": 568,
       "style": "IPY_MODEL_2d485f0538c349968b2124d251d4b36b",
       "value": 568
      }
     },
     "df35d7e00b2841e38c5498f42ba5e78b": {
      "model_module": "@jupyter-widgets/controls",
      "model_module_version": "1.5.0",
      "model_name": "ProgressStyleModel",
      "state": {
       "description_width": ""
      }
     },
     "e082002ae99143ad968b7392caaa0acf": {
      "model_module": "@jupyter-widgets/controls",
      "model_module_version": "1.5.0",
      "model_name": "HTMLModel",
      "state": {
       "layout": "IPY_MODEL_614ddb6fd7af407d939448a6baeb3b25",
       "style": "IPY_MODEL_ab7a7b2fd97f46f4815a46fef04e6c2c",
       "value": "Downloading pytorch_model_00001-of-00072.bin:   2%"
      }
     },
     "e14d1c1e1cd84341a78a11a6a1b0d69e": {
      "model_module": "@jupyter-widgets/base",
      "model_module_version": "1.2.0",
      "model_name": "LayoutModel",
      "state": {}
     },
     "e3255c2cb1a74bddae1b0954a8a87e77": {
      "model_module": "@jupyter-widgets/controls",
      "model_module_version": "1.5.0",
      "model_name": "FloatProgressModel",
      "state": {
       "bar_style": "danger",
       "layout": "IPY_MODEL_be5f2bc864f548faa89218da3650c474",
       "max": 7193290147,
       "style": "IPY_MODEL_9ea66902cae045e78d0b5d8d5597bdf3",
       "value": 69310464
      }
     },
     "e3614906cbd04988acba01ace74dbad4": {
      "model_module": "@jupyter-widgets/controls",
      "model_module_version": "1.5.0",
      "model_name": "DescriptionStyleModel",
      "state": {
       "description_width": ""
      }
     },
     "e57cd74666e44d098e983319170f76bd": {
      "model_module": "@jupyter-widgets/base",
      "model_module_version": "1.2.0",
      "model_name": "LayoutModel",
      "state": {}
     },
     "e62e0f07f4c14418a0cd162c477be7c5": {
      "model_module": "@jupyter-widgets/base",
      "model_module_version": "1.2.0",
      "model_name": "LayoutModel",
      "state": {}
     },
     "e78f7cfd5e6b4393a4bd52bfd91c0cd9": {
      "model_module": "@jupyter-widgets/controls",
      "model_module_version": "1.5.0",
      "model_name": "DescriptionStyleModel",
      "state": {
       "description_width": ""
      }
     },
     "eaaaf93a61d24042b3276e763a5300ff": {
      "model_module": "@jupyter-widgets/controls",
      "model_module_version": "1.5.0",
      "model_name": "DescriptionStyleModel",
      "state": {
       "description_width": ""
      }
     },
     "ed20ea0e358040118f63dbac0660ab2b": {
      "model_module": "@jupyter-widgets/controls",
      "model_module_version": "1.5.0",
      "model_name": "HTMLModel",
      "state": {
       "layout": "IPY_MODEL_872c8c776b4e420ebdc557e58464e409",
       "style": "IPY_MODEL_8ec28a8cdc0a4263b3f285d669deeeaa",
       "value": " 155M/6.70G [03:22&lt;08:30, 13.8MB/s]"
      }
     },
     "edbc9575a03b428c823e9c470d3476ba": {
      "model_module": "@jupyter-widgets/controls",
      "model_module_version": "1.5.0",
      "model_name": "FloatProgressModel",
      "state": {
       "bar_style": "success",
       "layout": "IPY_MODEL_5774ac0228ca4a32b1575071b093f650",
       "max": 63701,
       "style": "IPY_MODEL_fe1cf438a485476ea4e9322ddefcfa43",
       "value": 63701
      }
     },
     "ee5b4f1ef575494e93edc912fa6087a6": {
      "model_module": "@jupyter-widgets/base",
      "model_module_version": "1.2.0",
      "model_name": "LayoutModel",
      "state": {}
     },
     "eecd2659a30d481f82dc59d4cfb82a37": {
      "model_module": "@jupyter-widgets/base",
      "model_module_version": "1.2.0",
      "model_name": "LayoutModel",
      "state": {}
     },
     "eed1232419904990b3b5d1bfc6deab8c": {
      "model_module": "@jupyter-widgets/controls",
      "model_module_version": "1.5.0",
      "model_name": "FloatProgressModel",
      "state": {
       "layout": "IPY_MODEL_3e665fdbf3ca4e8aa2031b71b3236eb2",
       "max": 7193290147,
       "style": "IPY_MODEL_4c51149cd9dc4fe4a31bba5f51acb10d",
       "value": 170480640
      }
     },
     "efceec34a7b24ee6b82c48f34196a79c": {
      "model_module": "@jupyter-widgets/base",
      "model_module_version": "1.2.0",
      "model_name": "LayoutModel",
      "state": {}
     },
     "f39b73a8cc194f2f8edeca3a18e53055": {
      "model_module": "@jupyter-widgets/controls",
      "model_module_version": "1.5.0",
      "model_name": "HTMLModel",
      "state": {
       "layout": "IPY_MODEL_ca35e145455e4b99874830dde49c3f4d",
       "style": "IPY_MODEL_f840e1e8da7c4d3da371faa9d459d4d8",
       "value": " 62.2k/62.2k [00:00&lt;00:00, 160kB/s]"
      }
     },
     "f635c00a05d746c0a37c2a22608d9cc6": {
      "model_module": "@jupyter-widgets/controls",
      "model_module_version": "1.5.0",
      "model_name": "HTMLModel",
      "state": {
       "layout": "IPY_MODEL_de2a95e8d7d947cfa68d33014981b7d9",
       "style": "IPY_MODEL_a9fedff0b2204873b7de765d0fc19d34",
       "value": " 222/222 [00:00&lt;00:00, 13.1kB/s]"
      }
     },
     "f64b1db0e00b409d923876ad0669e0a7": {
      "model_module": "@jupyter-widgets/controls",
      "model_module_version": "1.5.0",
      "model_name": "HTMLModel",
      "state": {
       "layout": "IPY_MODEL_e62e0f07f4c14418a0cd162c477be7c5",
       "style": "IPY_MODEL_35ab56c8cf124e1ea388aeb6a6bf611f",
       "value": "Downloading pytorch_model.bin.index.json: 100%"
      }
     },
     "f743ab34fe314b8a9d4e6d590e645b26": {
      "model_module": "@jupyter-widgets/controls",
      "model_module_version": "1.5.0",
      "model_name": "DescriptionStyleModel",
      "state": {
       "description_width": ""
      }
     },
     "f7c0ff48b0054f44b1f73b23b42929ba": {
      "model_module": "@jupyter-widgets/controls",
      "model_module_version": "1.5.0",
      "model_name": "DescriptionStyleModel",
      "state": {
       "description_width": ""
      }
     },
     "f840e1e8da7c4d3da371faa9d459d4d8": {
      "model_module": "@jupyter-widgets/controls",
      "model_module_version": "1.5.0",
      "model_name": "DescriptionStyleModel",
      "state": {
       "description_width": ""
      }
     },
     "f948765b124545db83e20e2c9b0db6e6": {
      "model_module": "@jupyter-widgets/controls",
      "model_module_version": "1.5.0",
      "model_name": "HTMLModel",
      "state": {
       "layout": "IPY_MODEL_efceec34a7b24ee6b82c48f34196a79c",
       "style": "IPY_MODEL_75e0f19b3abf49049d0098fc5eb8fa42",
       "value": "Downloading pytorch_model_00001-of-00072.bin:   1%"
      }
     },
     "f9e325431df049be855ba5cbfd61b4e0": {
      "model_module": "@jupyter-widgets/controls",
      "model_module_version": "1.5.0",
      "model_name": "DescriptionStyleModel",
      "state": {
       "description_width": ""
      }
     },
     "fbda30ec61cc42ac9da3240ac9b070a6": {
      "model_module": "@jupyter-widgets/base",
      "model_module_version": "1.2.0",
      "model_name": "LayoutModel",
      "state": {}
     },
     "fc093097005f4262895b079a6be2db8c": {
      "model_module": "@jupyter-widgets/base",
      "model_module_version": "1.2.0",
      "model_name": "LayoutModel",
      "state": {}
     },
     "fe1cf438a485476ea4e9322ddefcfa43": {
      "model_module": "@jupyter-widgets/controls",
      "model_module_version": "1.5.0",
      "model_name": "ProgressStyleModel",
      "state": {
       "description_width": ""
      }
     }
    },
    "version_major": 2,
    "version_minor": 0
   }
  }
 },
 "nbformat": 4,
 "nbformat_minor": 5
}
