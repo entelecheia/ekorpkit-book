{
 "cells": [
  {
   "cell_type": "markdown",
   "id": "e77a4be0",
   "metadata": {},
   "source": [
    "# Installation\n",
    "\n",
    "Install the latest version of ekorpkit:\n",
    "\n",
    "```bash\n",
    "pip install -U ekorpkit\n",
    "```\n",
    "\n",
    "To install all extra dependencies,\n",
    "\n",
    "```bash\n",
    "pip install ekorpkit[all]\n",
    "```\n",
    "\n",
    "To install all extra dependencies, exhaustively, (not recommended)\n",
    "\n",
    "```bash\n",
    "pip install ekorpkit[exhaustive]\n",
    "```\n",
    "\n",
    "## Extra dependencies\n",
    "\n",
    "### List of extra dependency sets"
   ]
  },
  {
   "cell_type": "code",
   "execution_count": null,
   "id": "4875a86b",
   "metadata": {},
   "outputs": [],
   "source": [
    "from ekorpkit import eKonf\n",
    "eKonf.dependencies()"
   ]
  },
  {
   "cell_type": "markdown",
   "id": "b49fce0c",
   "metadata": {},
   "source": [
    "### List of libraries in each dependency set"
   ]
  },
  {
   "cell_type": "code",
   "execution_count": null,
   "id": "b231ce10",
   "metadata": {},
   "outputs": [],
   "source": [
    "from ekorpkit import eKonf\n",
    "eKonf.dependencies(\"tokenize\")"
   ]
  },
  {
   "cell_type": "code",
   "execution_count": null,
   "id": "77a261b6",
   "metadata": {},
   "outputs": [],
   "source": [
    "eKonf.dependencies(\"dataset\")"
   ]
  },
  {
   "cell_type": "code",
   "execution_count": null,
   "id": "0609ec66",
   "metadata": {},
   "outputs": [],
   "source": [
    "eKonf.dependencies(\"model\")"
   ]
  },
  {
   "cell_type": "code",
   "execution_count": null,
   "id": "da0e8acb",
   "metadata": {},
   "outputs": [],
   "source": [
    "eKonf.dependencies(\"visualize\")"
   ]
  },
  {
   "cell_type": "code",
   "execution_count": null,
   "id": "773488a6",
   "metadata": {},
   "outputs": [],
   "source": [
    "eKonf.dependencies(\"all\")"
   ]
  },
  {
   "cell_type": "markdown",
   "id": "447751f4",
   "metadata": {},
   "source": [
    "### self-upgrade of ekorpkit"
   ]
  },
  {
   "cell_type": "code",
   "execution_count": null,
   "id": "36056562",
   "metadata": {},
   "outputs": [],
   "source": [
    "eKonf.upgrade(\n",
    "  prelease=True, \n",
    "  quiet=True, \n",
    "  verbose=True, \n",
    "  force_reinstall=False)"
   ]
  }
 ],
 "metadata": {
  "jupytext": {
   "formats": "md:myst",
   "text_representation": {
    "extension": ".md",
    "format_name": "myst"
   }
  },
  "kernelspec": {
   "display_name": "Python 3",
   "language": "python",
   "name": "python3"
  },
  "source_map": [
   11,
   37,
   40,
   44,
   49,
   53,
   57,
   61,
   63,
   67
  ]
 },
 "nbformat": 4,
 "nbformat_minor": 5
}