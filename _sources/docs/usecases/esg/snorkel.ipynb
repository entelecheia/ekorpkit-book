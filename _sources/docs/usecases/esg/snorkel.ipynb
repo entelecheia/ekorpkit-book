{
 "cells": [
  {
   "cell_type": "markdown",
   "metadata": {
    "id": "PfSMqenAwpKI",
    "pycharm": {
     "name": "#%% md\n"
    }
   },
   "source": [
    "# Preparing classification datasets"
   ]
  },
  {
   "cell_type": "code",
   "execution_count": 1,
   "metadata": {
    "id": "gN8kk98Rwuzs",
    "pycharm": {
     "name": "#%%\n"
    }
   },
   "outputs": [
    {
     "name": "stderr",
     "output_type": "stream",
     "text": [
      "INFO:ekorpkit.base:IPython version: (6, 9, 0), client: jupyter_client\n",
      "INFO:ekorpkit.base:Google Colab not detected.\n"
     ]
    },
    {
     "name": "stdout",
     "output_type": "stream",
     "text": [
      "version: 0.1.35+11.gf4a3a1c.dirty\n",
      "is notebook? True\n",
      "is colab? False\n",
      "evironment varialbles:\n",
      "{'CUDA_DEVICE_ORDER': None,\n",
      " 'CUDA_VISIBLE_DEVICES': None,\n",
      " 'EKORPKIT_CONFIG_DIR': '/workspace/projects/ekorpkit-book/config',\n",
      " 'EKORPKIT_DATA_DIR': None,\n",
      " 'EKORPKIT_LOG_LEVEL': 'INFO',\n",
      " 'EKORPKIT_PROJECT': 'ekorpkit-book',\n",
      " 'EKORPKIT_WORKSPACE_ROOT': '/workspace',\n",
      " 'KMP_DUPLICATE_LIB_OK': 'TRUE',\n",
      " 'NUM_WORKERS': 230}\n"
     ]
    }
   ],
   "source": [
    "# %config InlineBackend.figure_format='retina'\n",
    "from ekorpkit import eKonf\n",
    "\n",
    "eKonf.setLogger(\"INFO\")\n",
    "print(\"version:\", eKonf.__version__)\n",
    "print(\"is notebook?\", eKonf.is_notebook())\n",
    "print(\"is colab?\", eKonf.is_colab())\n",
    "print(\"environment variables:\")\n",
    "eKonf.print(eKonf.env().dict())"
   ]
  },
  {
   "cell_type": "code",
   "execution_count": 2,
   "metadata": {
    "pycharm": {
     "name": "#%%\n"
    }
   },
   "outputs": [],
   "source": [
    "data_dir = \"../data/esg\""
   ]
  },
  {
   "cell_type": "markdown",
   "metadata": {
    "pycharm": {
     "name": "#%% md\n"
    }
   },
   "source": [
    "## Fetch the labeled dataset from the labelstudio server"
   ]
  },
  {
   "cell_type": "code",
   "execution_count": 3,
   "metadata": {
    "id": "OhqanxoywpKJ",
    "pycharm": {
     "name": "#%%\n"
    }
   },
   "outputs": [
    {
     "name": "stderr",
     "output_type": "stream",
     "text": [
      "INFO:ekorpkit.base:Loaded .env from /workspace/projects/ekorpkit-book/config/.env\n",
      "INFO:ekorpkit.base:IPython version: (6, 9, 0), client: jupyter_client\n",
      "INFO:ekorpkit.io.fetch.base:/workspace/.tmp/fetcher/esg_polarity_labels/esg_polarity_labels.parquet already exists. skipping..\n",
      "INFO:ekorpkit.io.file:Processing [1] files from ['/workspace/.tmp/fetcher/esg_polarity_labels/esg_polarity_labels.parquet']\n",
      "INFO:ekorpkit.io.file:Loading 1 dataframes from ['/workspace/.tmp/fetcher/esg_polarity_labels/esg_polarity_labels.parquet']\n",
      "INFO:ekorpkit.io.file:Loading data from /workspace/.tmp/fetcher/esg_polarity_labels/esg_polarity_labels.parquet\n"
     ]
    }
   ],
   "source": [
    "cfg = eKonf.compose(\"io/fetcher=labelstudio\")\n",
    "cfg.name = \"esg_polarity_labels\"\n",
    "cfg.project_id = 2\n",
    "ls = eKonf.instantiate(cfg)"
   ]
  },
  {
   "cell_type": "markdown",
   "metadata": {
    "pycharm": {
     "name": "#%% md\n"
    }
   },
   "source": [
    "## Snorkel LabelModel"
   ]
  },
  {
   "cell_type": "code",
   "execution_count": 4,
   "metadata": {
    "pycharm": {
     "name": "#%%\n"
    }
   },
   "outputs": [
    {
     "name": "stderr",
     "output_type": "stream",
     "text": [
      "INFO:ekorpkit.base:instantiating ekorpkit.models.snorkel.base.BaseSnorkel...\n"
     ]
    }
   ],
   "source": [
    "model_cfg = eKonf.compose(\"model/snorkel\")\n",
    "model_cfg.name = \"esg_polarity_snorkel\"\n",
    "model_cfg.output_dir = data_dir\n",
    "model_cfg.verbose = True\n",
    "snorkel = eKonf.instantiate(model_cfg)"
   ]
  },
  {
   "cell_type": "code",
   "execution_count": 5,
   "metadata": {
    "pycharm": {
     "name": "#%%\n"
    }
   },
   "outputs": [
    {
     "name": "stderr",
     "output_type": "stream",
     "text": [
      "INFO:ekorpkit.models.snorkel.base:Train data: (13936, 7), Test data: (3485, 7)\n"
     ]
    },
    {
     "name": "stdout",
     "output_type": "stream",
     "text": [
      "Train data: (13936, 7)\n",
      "          id                                               text  annot_id  \\\n",
      "6531   36071  정 장관은 문화적 소외·격차와 관련, '격차를 없애기 위해 촘촘하고 항구적인 시스템...      4674   \n",
      "13479  20523  특히 기후변화에 대한 전 세계적인 관심이 높아짐에 따라 csr 내에서 온실가스 감축...      6266   \n",
      "4151   44044  정경유착 및 갑질 근절 등 재벌개혁 범죄수익 환수, 전경련 해체, 불법 재벌총수 처...      1225   \n",
      "2414   48651  ugv의 하위 인식 시스템은 센서로부터 데이터를 가져와 ugv 주변 환경을 재현하는...      5214   \n",
      "452    54286  이전의 패키지 요금제에서는 데이터 사용량 증가와 요금제 상향 사이에 괴리가 있었으나...      6865   \n",
      "\n",
      "       annotator  origin    labels  classes  \n",
      "6531           5  manual   Neutral        1  \n",
      "13479          8  manual  Positive        2  \n",
      "4151           3  manual   Neutral        1  \n",
      "2414           5  manual   Neutral        1  \n",
      "452            6  manual  Positive        2  \n",
      "Test data: (3485, 7)\n",
      "          id                                               text  annot_id  \\\n",
      "9696   24469  고용노동부가 중심이 되어 저리 대부사업 민관 모태펀드 조성 등을 진행하고 있으나 시...      3132   \n",
      "13195  20826  '제품 기반 투자 배제'는 담배, 술, 도박, 마약, 대량살상무기 제조업체와 같이 ...      1899   \n",
      "4286   43469  같은 이유로 택배노조의 시선도 시장 파급력과 투자여력이 가장 큰 cj대한통운에게 먼...      9522   \n",
      "13042  20983  미국 질병관리예방본부 산하 foodnet 조사 결과에 의하면, 유아층 및 노년층은 ...      2553   \n",
      "11946  22135  또한 모회사가 선임한 이사들도 사후적 책임으로부터 자유로울 수 있다는 이유에서 이러...     15830   \n",
      "\n",
      "       annotator  origin    labels  classes  \n",
      "9696           8  manual  Positive        2  \n",
      "13195          5  manual   Neutral        1  \n",
      "4286           5  manual   Neutral        1  \n",
      "13042          4  manual   Neutral        1  \n",
      "11946          8  manual   Neutral        1  \n"
     ]
    }
   ],
   "source": [
    "snorkel.load_data(data=ls.data, test_size=0.2, random_state=12345)"
   ]
  },
  {
   "cell_type": "markdown",
   "metadata": {
    "pycharm": {
     "name": "#%% md\n"
    }
   },
   "source": [
    "## Writing Labeling Functions\n",
    "\n",
    "Each crowdworker can be thought of as a single labeling function, as each worker labels a subset of data points, and may have errors or conflicting labels with other workers / labeling functions. Labeling fucntions will simply return the label the worker submitted for a given text, and abstain if they didn't submit a label for it."
   ]
  },
  {
   "cell_type": "markdown",
   "metadata": {
    "pycharm": {
     "name": "#%% md\n"
    }
   },
   "source": [
    "### Crowdworker labeling functions"
   ]
  },
  {
   "cell_type": "code",
   "execution_count": 6,
   "metadata": {
    "pycharm": {
     "name": "#%%\n"
    }
   },
   "outputs": [
    {
     "name": "stdout",
     "output_type": "stream",
     "text": [
      "    def compose_worker_lfs(self):\n",
      "        labels_by_annotator = self.data.groupby(self.columns.annotator)\n",
      "        worker_dicts = {}\n",
      "        for worker_id in labels_by_annotator.groups:\n",
      "            worker_df = labels_by_annotator.get_group(worker_id)\n",
      "            worker_dicts[worker_id] = dict(zip(worker_df.id, worker_df.classes))\n",
      "\n",
      "        log.info(f\"Number of workers: {len(worker_dicts)}\")\n",
      "\n",
      "        def worker_lf(x, worker_dict):\n",
      "            return worker_dict.get(x.id, self.ABSTAIN)\n",
      "\n",
      "        def make_worker_lf(worker_id):\n",
      "            worker_dict = worker_dicts[worker_id]\n",
      "            name = f\"worker_{worker_id}\"\n",
      "            return LabelingFunction(\n",
      "                name, f=worker_lf, resources={\"worker_dict\": worker_dict}\n",
      "            )\n",
      "\n",
      "        worker_lfs = [make_worker_lf(worker_id) for worker_id in worker_dicts]\n",
      "        self._worker_lfs = worker_lfs\n",
      "        return worker_lfs\n",
      "\n"
     ]
    }
   ],
   "source": [
    "eKonf.viewsource(snorkel.compose_worker_lfs)"
   ]
  },
  {
   "cell_type": "code",
   "execution_count": 7,
   "metadata": {
    "pycharm": {
     "name": "#%%\n"
    }
   },
   "outputs": [
    {
     "name": "stderr",
     "output_type": "stream",
     "text": [
      "INFO:ekorpkit.models.snorkel.base:Number of workers: 9\n"
     ]
    }
   ],
   "source": [
    "worker_lfs = snorkel.compose_worker_lfs()"
   ]
  },
  {
   "cell_type": "code",
   "execution_count": 8,
   "metadata": {
    "pycharm": {
     "name": "#%%\n"
    }
   },
   "outputs": [
    {
     "name": "stderr",
     "output_type": "stream",
     "text": [
      "INFO:ekorpkit.models.snorkel.base:Applying worker lfs to train data\n",
      "100%|██████████| 13936/13936 [00:00<00:00, 16022.67it/s]\n",
      "INFO:ekorpkit.models.snorkel.base:Applying worker lfs to test data\n",
      "100%|██████████| 3485/3485 [00:00<00:00, 15774.94it/s]\n"
     ]
    }
   ],
   "source": [
    "snorkel.apply_worker_lfs(worker_lfs)"
   ]
  },
  {
   "cell_type": "code",
   "execution_count": 9,
   "metadata": {
    "pycharm": {
     "name": "#%%\n"
    }
   },
   "outputs": [
    {
     "name": "stderr",
     "output_type": "stream",
     "text": [
      "INFO:ekorpkit.models.snorkel.base:Training set coverage:  100.0%\n"
     ]
    },
    {
     "data": {
      "text/html": [
       "<div>\n",
       "<style scoped>\n",
       "    .dataframe tbody tr th:only-of-type {\n",
       "        vertical-align: middle;\n",
       "    }\n",
       "\n",
       "    .dataframe tbody tr th {\n",
       "        vertical-align: top;\n",
       "    }\n",
       "\n",
       "    .dataframe thead th {\n",
       "        text-align: right;\n",
       "    }\n",
       "</style>\n",
       "<table border=\"1\" class=\"dataframe\">\n",
       "  <thead>\n",
       "    <tr style=\"text-align: right;\">\n",
       "      <th></th>\n",
       "      <th>j</th>\n",
       "      <th>Polarity</th>\n",
       "      <th>Coverage</th>\n",
       "      <th>Overlaps</th>\n",
       "      <th>Conflicts</th>\n",
       "      <th>Correct</th>\n",
       "      <th>Incorrect</th>\n",
       "      <th>Emp. Acc.</th>\n",
       "    </tr>\n",
       "  </thead>\n",
       "  <tbody>\n",
       "    <tr>\n",
       "      <th>worker_1</th>\n",
       "      <td>0</td>\n",
       "      <td>[0, 1, 2]</td>\n",
       "      <td>0.000574</td>\n",
       "      <td>0.000359</td>\n",
       "      <td>0.000000</td>\n",
       "      <td>8</td>\n",
       "      <td>0</td>\n",
       "      <td>1.000000</td>\n",
       "    </tr>\n",
       "    <tr>\n",
       "      <th>worker_2</th>\n",
       "      <td>1</td>\n",
       "      <td>[0, 1, 2]</td>\n",
       "      <td>0.027483</td>\n",
       "      <td>0.012486</td>\n",
       "      <td>0.000431</td>\n",
       "      <td>379</td>\n",
       "      <td>4</td>\n",
       "      <td>0.989556</td>\n",
       "    </tr>\n",
       "    <tr>\n",
       "      <th>worker_3</th>\n",
       "      <td>2</td>\n",
       "      <td>[0, 1, 2]</td>\n",
       "      <td>0.083525</td>\n",
       "      <td>0.030640</td>\n",
       "      <td>0.000287</td>\n",
       "      <td>1162</td>\n",
       "      <td>2</td>\n",
       "      <td>0.998282</td>\n",
       "    </tr>\n",
       "    <tr>\n",
       "      <th>worker_4</th>\n",
       "      <td>3</td>\n",
       "      <td>[0, 1, 2]</td>\n",
       "      <td>0.091131</td>\n",
       "      <td>0.077425</td>\n",
       "      <td>0.001005</td>\n",
       "      <td>1262</td>\n",
       "      <td>8</td>\n",
       "      <td>0.993701</td>\n",
       "    </tr>\n",
       "    <tr>\n",
       "      <th>worker_5</th>\n",
       "      <td>4</td>\n",
       "      <td>[0, 1, 2]</td>\n",
       "      <td>0.375502</td>\n",
       "      <td>0.055755</td>\n",
       "      <td>0.001220</td>\n",
       "      <td>5225</td>\n",
       "      <td>8</td>\n",
       "      <td>0.998471</td>\n",
       "    </tr>\n",
       "    <tr>\n",
       "      <th>worker_6</th>\n",
       "      <td>5</td>\n",
       "      <td>[0, 1, 2]</td>\n",
       "      <td>0.322976</td>\n",
       "      <td>0.229621</td>\n",
       "      <td>0.007176</td>\n",
       "      <td>4457</td>\n",
       "      <td>44</td>\n",
       "      <td>0.990224</td>\n",
       "    </tr>\n",
       "    <tr>\n",
       "      <th>worker_7</th>\n",
       "      <td>6</td>\n",
       "      <td>[0, 1, 2]</td>\n",
       "      <td>0.176521</td>\n",
       "      <td>0.122489</td>\n",
       "      <td>0.003875</td>\n",
       "      <td>2432</td>\n",
       "      <td>28</td>\n",
       "      <td>0.988618</td>\n",
       "    </tr>\n",
       "    <tr>\n",
       "      <th>worker_8</th>\n",
       "      <td>7</td>\n",
       "      <td>[0, 1, 2]</td>\n",
       "      <td>0.379879</td>\n",
       "      <td>0.340413</td>\n",
       "      <td>0.007750</td>\n",
       "      <td>5239</td>\n",
       "      <td>55</td>\n",
       "      <td>0.989611</td>\n",
       "    </tr>\n",
       "    <tr>\n",
       "      <th>worker_9</th>\n",
       "      <td>8</td>\n",
       "      <td>[0, 1, 2]</td>\n",
       "      <td>0.023536</td>\n",
       "      <td>0.023536</td>\n",
       "      <td>0.001005</td>\n",
       "      <td>322</td>\n",
       "      <td>6</td>\n",
       "      <td>0.981707</td>\n",
       "    </tr>\n",
       "  </tbody>\n",
       "</table>\n",
       "</div>"
      ],
      "text/plain": [
       "          j   Polarity  Coverage  Overlaps  Conflicts  Correct  Incorrect  \\\n",
       "worker_1  0  [0, 1, 2]  0.000574  0.000359   0.000000        8          0   \n",
       "worker_2  1  [0, 1, 2]  0.027483  0.012486   0.000431      379          4   \n",
       "worker_3  2  [0, 1, 2]  0.083525  0.030640   0.000287     1162          2   \n",
       "worker_4  3  [0, 1, 2]  0.091131  0.077425   0.001005     1262          8   \n",
       "worker_5  4  [0, 1, 2]  0.375502  0.055755   0.001220     5225          8   \n",
       "worker_6  5  [0, 1, 2]  0.322976  0.229621   0.007176     4457         44   \n",
       "worker_7  6  [0, 1, 2]  0.176521  0.122489   0.003875     2432         28   \n",
       "worker_8  7  [0, 1, 2]  0.379879  0.340413   0.007750     5239         55   \n",
       "worker_9  8  [0, 1, 2]  0.023536  0.023536   0.001005      322          6   \n",
       "\n",
       "          Emp. Acc.  \n",
       "worker_1   1.000000  \n",
       "worker_2   0.989556  \n",
       "worker_3   0.998282  \n",
       "worker_4   0.993701  \n",
       "worker_5   0.998471  \n",
       "worker_6   0.990224  \n",
       "worker_7   0.988618  \n",
       "worker_8   0.989611  \n",
       "worker_9   0.981707  "
      ]
     },
     "execution_count": 9,
     "metadata": {},
     "output_type": "execute_result"
    }
   ],
   "source": [
    "summary = snorkel.lf_summary()\n",
    "summary"
   ]
  },
  {
   "cell_type": "markdown",
   "metadata": {
    "pycharm": {
     "name": "#%% md\n"
    }
   },
   "source": [
    "## Train LabelModel And Generate Probabilistic Labels"
   ]
  },
  {
   "cell_type": "code",
   "execution_count": 10,
   "metadata": {
    "pycharm": {
     "name": "#%%\n"
    }
   },
   "outputs": [
    {
     "name": "stderr",
     "output_type": "stream",
     "text": [
      "100%|██████████| 100/100 [00:00<00:00, 172.39epoch/s]\n"
     ]
    }
   ],
   "source": [
    "snorkel.fit()"
   ]
  },
  {
   "cell_type": "code",
   "execution_count": 11,
   "metadata": {
    "pycharm": {
     "name": "#%%\n"
    }
   },
   "outputs": [
    {
     "name": "stdout",
     "output_type": "stream",
     "text": [
      "LabelModel Accuracy for train: 0.995\n",
      "LabelModel Accuracy for test: 0.994\n"
     ]
    }
   ],
   "source": [
    "snorkel.eval()"
   ]
  },
  {
   "cell_type": "code",
   "execution_count": 12,
   "metadata": {
    "pycharm": {
     "name": "#%%\n"
    },
    "scrolled": false
   },
   "outputs": [
    {
     "name": "stderr",
     "output_type": "stream",
     "text": [
      "100%|██████████| 17421/17421 [00:01<00:00, 15467.77it/s]\n"
     ]
    },
    {
     "name": "stdout",
     "output_type": "stream",
     "text": [
      "Data that predictions are different from classes:\n",
      "          id                                               text  annot_id  \\\n",
      "38     29214  재판부가 선고를 미루며 학부모에게 용서를 빌 기회를 준 것은 이번 사건이 사회적 파...     15298   \n",
      "55     25177  삼성정밀화학, 폴리실리콘 공장 건설 시동\\n삼성정밀화학과 미국 memc사가 합작으로...     15035   \n",
      "70     24388  그렇게 하기 위해서는 가령 녹색유통채널을 구축하고 녹색소비자에 대한 소비실적에 대해...     13725   \n",
      "71     24368  이렇게 중소기업의 범위는 비록 복잡하지만 뚜렷하게 정의되어 있으나 중견기업의 범위는...     13711   \n",
      "78     24266  사회적기업 육성을 위한 자본시장 지원방안\\n취약계층에게 사회서비스 또는 일자리를 제...     14983   \n",
      "...      ...                                                ...       ...   \n",
      "13281  20730  국내 온실가스 관련 환경법률 개정 동향 안 세 환 연구원\\n환경부는 배출권거래제 시...     16226   \n",
      "13315  20696  따라서 현재 정책의 한계와 문제 점을 적극적으로 확인하고 사회 전체적으로 온실가스 ...       218   \n",
      "13553  20447  우리나라는 온실가스 감축 비의무국가중 처음으로'저탄소 녹색성장 기본법'제정하였으며,...      1460   \n",
      "13559  20441  환경부는 2011년 12월 환경정보 공개제도 운영규정 을 고시하고, 녹색기업, 공공...      1457   \n",
      "13573  20424  문제점 및 개선방안\\n먼저 녹색금융, 특히 에너지관련 금융은 효율적인 정책의 수행을...      1443   \n",
      "\n",
      "       annotator  origin    labels  classes  snorkel_classes  \n",
      "38             6  manual  Positive        1                2  \n",
      "55             7  manual  Positive        1                2  \n",
      "70             6  manual  Positive        1                2  \n",
      "71             6  manual  Positive        1                2  \n",
      "78             8  manual  Positive        0                2  \n",
      "...          ...     ...       ...      ...              ...  \n",
      "13281          6  manual  Negative        1                0  \n",
      "13315          2  manual   Neutral        0                1  \n",
      "13553          4  manual  Positive        1                2  \n",
      "13559          4  manual  Positive        1                2  \n",
      "13573          4  manual  Positive        1                2  \n",
      "\n",
      "[93 rows x 8 columns]\n"
     ]
    }
   ],
   "source": [
    "preds = snorkel.predict()"
   ]
  },
  {
   "cell_type": "code",
   "execution_count": 13,
   "metadata": {
    "pycharm": {
     "name": "#%%\n"
    }
   },
   "outputs": [
    {
     "name": "stderr",
     "output_type": "stream",
     "text": [
      "INFO:ekorpkit.io.file:Saving dataframe to ../data/esg/esg_polarity_snorkel_preds.parquet\n",
      "INFO:ekorpkit.io.file:Processing [1] files from ['esg_polarity_snorkel_preds.parquet']\n",
      "INFO:ekorpkit.io.file:Loading 1 dataframes from ['../data/esg/esg_polarity_snorkel_preds.parquet']\n",
      "INFO:ekorpkit.io.file:Loading data from ../data/esg/esg_polarity_snorkel_preds.parquet\n"
     ]
    },
    {
     "data": {
      "text/html": [
       "<div>\n",
       "<style scoped>\n",
       "    .dataframe tbody tr th:only-of-type {\n",
       "        vertical-align: middle;\n",
       "    }\n",
       "\n",
       "    .dataframe tbody tr th {\n",
       "        vertical-align: top;\n",
       "    }\n",
       "\n",
       "    .dataframe thead th {\n",
       "        text-align: right;\n",
       "    }\n",
       "</style>\n",
       "<table border=\"1\" class=\"dataframe\">\n",
       "  <thead>\n",
       "    <tr style=\"text-align: right;\">\n",
       "      <th></th>\n",
       "      <th>id</th>\n",
       "      <th>text</th>\n",
       "      <th>labels</th>\n",
       "    </tr>\n",
       "  </thead>\n",
       "  <tbody>\n",
       "    <tr>\n",
       "      <th>0</th>\n",
       "      <td>26444</td>\n",
       "      <td>국내 중소 서버업계 관계자는 '그동안 hpe, 델 등 미국 업체와 경쟁도 힘겨웠는데...</td>\n",
       "      <td>Negative</td>\n",
       "    </tr>\n",
       "    <tr>\n",
       "      <th>1</th>\n",
       "      <td>26377</td>\n",
       "      <td>현대차·모비스·lg이노텍 / 자동차 외장램프용 면조명 확산시트\\n현대자동차, 현대모...</td>\n",
       "      <td>Neutral</td>\n",
       "    </tr>\n",
       "    <tr>\n",
       "      <th>2</th>\n",
       "      <td>26426</td>\n",
       "      <td>현대·기아차, 미국에 신모델 투입\\n현대·기아자동차가 다음달부터 미국에 신모델을 잇...</td>\n",
       "      <td>Positive</td>\n",
       "    </tr>\n",
       "    <tr>\n",
       "      <th>3</th>\n",
       "      <td>26389</td>\n",
       "      <td>1인승인 ft2는 음성이나 화상 인식 기술을 활용해 운전자의 감정을 읽고, 미리 축...</td>\n",
       "      <td>Positive</td>\n",
       "    </tr>\n",
       "    <tr>\n",
       "      <th>4</th>\n",
       "      <td>26388</td>\n",
       "      <td>곧 내놓을 신차는 물론 다소 먼 미래에 출시하기 위해 개발 중인 차가 콘셉트카 형태...</td>\n",
       "      <td>Neutral</td>\n",
       "    </tr>\n",
       "    <tr>\n",
       "      <th>...</th>\n",
       "      <td>...</td>\n",
       "      <td>...</td>\n",
       "      <td>...</td>\n",
       "    </tr>\n",
       "    <tr>\n",
       "      <th>13625</th>\n",
       "      <td>20371</td>\n",
       "      <td>re100 목적에 도움이 되는 전 세계 또는 국내에서 확실한 영향력을 전달하는 기타...</td>\n",
       "      <td>Positive</td>\n",
       "    </tr>\n",
       "    <tr>\n",
       "      <th>13626</th>\n",
       "      <td>20370</td>\n",
       "      <td>넷째, re100가입 기업은 매년 보고 스프레드시트(cdp 질문지 보고 가능)를 통...</td>\n",
       "      <td>Positive</td>\n",
       "    </tr>\n",
       "    <tr>\n",
       "      <th>13627</th>\n",
       "      <td>20369</td>\n",
       "      <td>가입 요건\\nre100 회원은 글로벌 포춘 선정 500대 기업을 포함하여 it, 금...</td>\n",
       "      <td>Positive</td>\n",
       "    </tr>\n",
       "    <tr>\n",
       "      <th>13628</th>\n",
       "      <td>20367</td>\n",
       "      <td>2015 17년 동안 업종별 에너지 사용량을 살펴보면, 사용량 총량은 d35(전기,...</td>\n",
       "      <td>Neutral</td>\n",
       "    </tr>\n",
       "    <tr>\n",
       "      <th>13629</th>\n",
       "      <td>20366</td>\n",
       "      <td>동 제도는 2011년 5월 개선 작업을 통하여운영 요령을 개정하여 금융권 여신심사항...</td>\n",
       "      <td>Positive</td>\n",
       "    </tr>\n",
       "  </tbody>\n",
       "</table>\n",
       "<p>13616 rows × 3 columns</p>\n",
       "</div>"
      ],
      "text/plain": [
       "          id                                               text    labels\n",
       "0      26444  국내 중소 서버업계 관계자는 '그동안 hpe, 델 등 미국 업체와 경쟁도 힘겨웠는데...  Negative\n",
       "1      26377  현대차·모비스·lg이노텍 / 자동차 외장램프용 면조명 확산시트\\n현대자동차, 현대모...   Neutral\n",
       "2      26426  현대·기아차, 미국에 신모델 투입\\n현대·기아자동차가 다음달부터 미국에 신모델을 잇...  Positive\n",
       "3      26389  1인승인 ft2는 음성이나 화상 인식 기술을 활용해 운전자의 감정을 읽고, 미리 축...  Positive\n",
       "4      26388  곧 내놓을 신차는 물론 다소 먼 미래에 출시하기 위해 개발 중인 차가 콘셉트카 형태...   Neutral\n",
       "...      ...                                                ...       ...\n",
       "13625  20371  re100 목적에 도움이 되는 전 세계 또는 국내에서 확실한 영향력을 전달하는 기타...  Positive\n",
       "13626  20370  넷째, re100가입 기업은 매년 보고 스프레드시트(cdp 질문지 보고 가능)를 통...  Positive\n",
       "13627  20369  가입 요건\\nre100 회원은 글로벌 포춘 선정 500대 기업을 포함하여 it, 금...  Positive\n",
       "13628  20367  2015 17년 동안 업종별 에너지 사용량을 살펴보면, 사용량 총량은 d35(전기,...   Neutral\n",
       "13629  20366  동 제도는 2011년 5월 개선 작업을 통하여운영 요령을 개정하여 금융권 여신심사항...  Positive\n",
       "\n",
       "[13616 rows x 3 columns]"
      ]
     },
     "execution_count": 13,
     "metadata": {},
     "output_type": "execute_result"
    }
   ],
   "source": [
    "snorkel.save_preds(preds, columns = ['id', 'text', \"labels\"])\n",
    "eKonf.load_data(\"esg_polarity_snorkel_preds.parquet\", data_dir)"
   ]
  },
  {
   "cell_type": "markdown",
   "metadata": {
    "pycharm": {
     "name": "#%% md\n"
    }
   },
   "source": [
    "## Build a dataset using the data generated by the label model\n"
   ]
  },
  {
   "cell_type": "code",
   "execution_count": 8,
   "metadata": {
    "pycharm": {
     "name": "#%%\n"
    },
    "scrolled": false
   },
   "outputs": [
    {
     "name": "stderr",
     "output_type": "stream",
     "text": [
      "INFO:ekorpkit.pipelines.pipe:Applying pipeline: OrderedDict([('load_dataframe', 'load_dataframe'), ('reset_index', 'reset_index'), ('split_sampling', 'split_sampling')])\n",
      "INFO:ekorpkit.base:Applying pipe: functools.partial(<function load_dataframe at 0x7f553803bf70>)\n",
      "INFO:ekorpkit.io.file:Processing [1] files from ['esg_polarity_snorkel_data.parquet']\n",
      "INFO:ekorpkit.io.file:Loading 1 dataframes from ['../data/esg/esg_polarity_snorkel_data.parquet']\n",
      "INFO:ekorpkit.io.file:Loading data from ../data/esg/esg_polarity_snorkel_data.parquet\n",
      "INFO:ekorpkit.base:Applying pipe: functools.partial(<function reset_index at 0x7f553803b1f0>)\n",
      "INFO:ekorpkit.base:Applying pipe: functools.partial(<function split_sampling at 0x7f5538032dc0>)\n",
      "INFO:ekorpkit.io.file:Saving dataframe to ../data/esg/esg_polarity_kr/esg_polarity_kr-train.parquet\n",
      "INFO:ekorpkit.io.file:Saving dataframe to ../data/esg/esg_polarity_kr/esg_polarity_kr-test.parquet\n",
      "INFO:ekorpkit.io.file:Saving dataframe to ../data/esg/esg_polarity_kr/esg_polarity_kr-dev.parquet\n",
      "INFO:ekorpkit.datasets.base:Dataset esg_polarity_kr built with 13616 rows\n",
      "INFO:ekorpkit.io.file:Processing [1] files from ['esg_polarity_kr-train.parquet']\n",
      "INFO:ekorpkit.io.file:Loading 1 dataframes from ['../data/esg/esg_polarity_kr/esg_polarity_kr-train.parquet']\n",
      "INFO:ekorpkit.io.file:Loading data from ../data/esg/esg_polarity_kr/esg_polarity_kr-train.parquet\n",
      "INFO:ekorpkit.info.column:index: index, index of data: None, columns: ['id', 'text', 'labels'], id: ['id']\n",
      "INFO:ekorpkit.info.column:Adding id [split] to ['id']\n",
      "INFO:ekorpkit.info.column:Added id [split], now ['id', 'split']\n",
      "INFO:ekorpkit.info.column:Added a column [split] with value [train]\n",
      "INFO:ekorpkit.io.file:Processing [1] files from ['esg_polarity_kr-dev.parquet']\n",
      "INFO:ekorpkit.io.file:Loading 1 dataframes from ['../data/esg/esg_polarity_kr/esg_polarity_kr-dev.parquet']\n",
      "INFO:ekorpkit.io.file:Loading data from ../data/esg/esg_polarity_kr/esg_polarity_kr-dev.parquet\n",
      "INFO:ekorpkit.info.column:Added a column [split] with value [dev]\n",
      "INFO:ekorpkit.io.file:Processing [1] files from ['esg_polarity_kr-test.parquet']\n",
      "INFO:ekorpkit.io.file:Loading 1 dataframes from ['../data/esg/esg_polarity_kr/esg_polarity_kr-test.parquet']\n",
      "INFO:ekorpkit.io.file:Loading data from ../data/esg/esg_polarity_kr/esg_polarity_kr-test.parquet\n",
      "INFO:ekorpkit.info.column:Added a column [split] with value [test]\n",
      "INFO:ekorpkit.base:Using batcher with minibatch size: 38\n",
      "INFO:ekorpkit.utils.batch.batcher: backend: joblib  minibatch_size: 38  procs: 230  input_split: False  merge_output: True  len(data): 8713 len(args): 5\n"
     ]
    },
    {
     "data": {
      "application/vnd.jupyter.widget-view+json": {
       "model_id": "335249fda7564a7e9cca6452448fa267",
       "version_major": 2,
       "version_minor": 0
      },
      "text/plain": [
       "apply len_bytes to num_bytes:   0%|          | 0/230 [00:00<?, ?it/s]"
      ]
     },
     "metadata": {},
     "output_type": "display_data"
    },
    {
     "name": "stderr",
     "output_type": "stream",
     "text": [
      "INFO:ekorpkit.info.stat: >> elapsed time to calculate statistics: 0:00:00.276040\n",
      "INFO:ekorpkit.base:Using batcher with minibatch size: 10\n",
      "INFO:ekorpkit.utils.batch.batcher: backend: joblib  minibatch_size: 10  procs: 230  input_split: False  merge_output: True  len(data): 2179 len(args): 5\n"
     ]
    },
    {
     "data": {
      "application/vnd.jupyter.widget-view+json": {
       "model_id": "e473ff6e5be34d769676053eb77e604e",
       "version_major": 2,
       "version_minor": 0
      },
      "text/plain": [
       "apply len_bytes to num_bytes:   0%|          | 0/218 [00:00<?, ?it/s]"
      ]
     },
     "metadata": {},
     "output_type": "display_data"
    },
    {
     "name": "stderr",
     "output_type": "stream",
     "text": [
      "INFO:ekorpkit.info.stat: >> elapsed time to calculate statistics: 0:00:00.250046\n",
      "INFO:ekorpkit.base:Using batcher with minibatch size: 12\n",
      "INFO:ekorpkit.utils.batch.batcher: backend: joblib  minibatch_size: 12  procs: 230  input_split: False  merge_output: True  len(data): 2724 len(args): 5\n"
     ]
    },
    {
     "data": {
      "application/vnd.jupyter.widget-view+json": {
       "model_id": "1f41984c90d144a39c58f0ffe3c34fd3",
       "version_major": 2,
       "version_minor": 0
      },
      "text/plain": [
       "apply len_bytes to num_bytes:   0%|          | 0/227 [00:00<?, ?it/s]"
      ]
     },
     "metadata": {},
     "output_type": "display_data"
    },
    {
     "name": "stderr",
     "output_type": "stream",
     "text": [
      "INFO:ekorpkit.info.stat: >> elapsed time to calculate statistics: 0:00:00.253649\n",
      "INFO:ekorpkit.io.file:Saving dataframe to ../data/esg/esg_polarity_kr/esg_polarity_kr-train.parquet\n",
      "INFO:ekorpkit.io.file:Saving dataframe to ../data/esg/esg_polarity_kr/esg_polarity_kr-dev.parquet\n",
      "INFO:ekorpkit.io.file:Saving dataframe to ../data/esg/esg_polarity_kr/esg_polarity_kr-test.parquet\n"
     ]
    }
   ],
   "source": [
    "cfg = eKonf.compose(\"dataset=dataset_build\")\n",
    "cfg.name = \"esg_polarity_kr\"\n",
    "cfg.data_dir = data_dir\n",
    "cfg.data_file = \"esg_polarity_snorkel_data.parquet\"\n",
    "cfg.force.build = True\n",
    "cfg.pipeline.split_sampling.stratify_on = \"labels\"\n",
    "cfg.pipeline.split_sampling.random_state = 123\n",
    "cfg.pipeline.split_sampling.test_size = 0.2\n",
    "cfg.pipeline.split_sampling.dev_size = 0.2\n",
    "cfg.pipeline.reset_index.drop_index = True\n",
    "cfg.verbose = False\n",
    "esg_polarity_ds = eKonf.instantiate(cfg)\n",
    "esg_polarity_ds.persist()"
   ]
  },
  {
   "cell_type": "code",
   "execution_count": null,
   "metadata": {
    "pycharm": {
     "name": "#%%\n"
    }
   },
   "outputs": [],
   "source": []
  }
 ],
 "metadata": {
  "colab": {
   "include_colab_link": true,
   "name": "config.ipynb",
   "provenance": []
  },
  "interpreter": {
   "hash": "f869af7787e6a1c49e09e367fc6e1b81d93d1c6583b43249c80edc047bd13cb2"
  },
  "kernelspec": {
   "display_name": "Python 3 (ipykernel)",
   "language": "python",
   "name": "python3"
  },
  "language_info": {
   "codemirror_mode": {
    "name": "ipython",
    "version": 3
   },
   "file_extension": ".py",
   "mimetype": "text/x-python",
   "name": "python",
   "nbconvert_exporter": "python",
   "pygments_lexer": "ipython3",
   "version": "3.8.12"
  },
  "widgets": {
   "application/vnd.jupyter.widget-state+json": {
    "state": {
     "00a060c5fe6146de9354bc94b26a78d1": {
      "model_module": "@jupyter-widgets/base",
      "model_module_version": "1.2.0",
      "model_name": "LayoutModel",
      "state": {}
     },
     "05a20c14c6b8478ab89e443518304ef5": {
      "model_module": "@jupyter-widgets/base",
      "model_module_version": "1.2.0",
      "model_name": "LayoutModel",
      "state": {}
     },
     "09d71c94e2f34c55814f4bb269371e1e": {
      "model_module": "@jupyter-widgets/controls",
      "model_module_version": "1.5.0",
      "model_name": "HTMLModel",
      "state": {
       "layout": "IPY_MODEL_5e58ddac8c2f47e0a78ae559e0835d12",
       "style": "IPY_MODEL_ba14042ab3de4bf6aceb29359568ff0a",
       "value": " 227/227 [00:00&lt;00:00, 930.21it/s]"
      }
     },
     "0bb26117a19f46fbbe952878c2f963c2": {
      "model_module": "@jupyter-widgets/base",
      "model_module_version": "1.2.0",
      "model_name": "LayoutModel",
      "state": {}
     },
     "0c04e4b0522144c483cc0a4fb07c1c82": {
      "model_module": "@jupyter-widgets/controls",
      "model_module_version": "1.5.0",
      "model_name": "HTMLModel",
      "state": {
       "layout": "IPY_MODEL_ccb49b049a5a4f238fec143e958ffe00",
       "style": "IPY_MODEL_ce38faea895a41f1a79a0b6b644075af",
       "value": " 230/230 [00:00&lt;00:00, 923.04it/s]"
      }
     },
     "0e4ae05ead6e41e5b23b0c22e5dcde25": {
      "model_module": "@jupyter-widgets/controls",
      "model_module_version": "1.5.0",
      "model_name": "DescriptionStyleModel",
      "state": {
       "description_width": ""
      }
     },
     "108109c4947248e08fe655995d9c3a6c": {
      "model_module": "@jupyter-widgets/base",
      "model_module_version": "1.2.0",
      "model_name": "LayoutModel",
      "state": {}
     },
     "167f6f1f2f5b47cfafa8423c8d7b5609": {
      "model_module": "@jupyter-widgets/controls",
      "model_module_version": "1.5.0",
      "model_name": "DescriptionStyleModel",
      "state": {
       "description_width": ""
      }
     },
     "17dc65438c224acd8eddd045c64a0620": {
      "model_module": "@jupyter-widgets/controls",
      "model_module_version": "1.5.0",
      "model_name": "HTMLModel",
      "state": {
       "layout": "IPY_MODEL_68e100834656476a9d114ad859cf7410",
       "style": "IPY_MODEL_967d43472ce14308a131dd03b49e3144",
       "value": " 227/227 [00:01&lt;00:00, 788.67it/s]"
      }
     },
     "19757b016b244f43ae19e0b9ae1667c8": {
      "model_module": "@jupyter-widgets/base",
      "model_module_version": "1.2.0",
      "model_name": "LayoutModel",
      "state": {}
     },
     "1b12c1acb6154d29be45407400e5cf51": {
      "model_module": "@jupyter-widgets/controls",
      "model_module_version": "1.5.0",
      "model_name": "FloatProgressModel",
      "state": {
       "bar_style": "success",
       "layout": "IPY_MODEL_b5caf6b1dc8d453c985b9fc4047bc494",
       "max": 227,
       "style": "IPY_MODEL_264e00d8f14044d09415c3f38fec96fe",
       "value": 227
      }
     },
     "1b1985d0a20f40a2bbd6bdad2cfb8229": {
      "model_module": "@jupyter-widgets/controls",
      "model_module_version": "1.5.0",
      "model_name": "FloatProgressModel",
      "state": {
       "bar_style": "success",
       "layout": "IPY_MODEL_35071c6714a342b7b4fe31d1c3bc2124",
       "max": 227,
       "style": "IPY_MODEL_b4c2eccee86f47b8b8c2a63ca416d20d",
       "value": 227
      }
     },
     "1bd08d2933984effa8d0497ca6f3f995": {
      "model_module": "@jupyter-widgets/controls",
      "model_module_version": "1.5.0",
      "model_name": "DescriptionStyleModel",
      "state": {
       "description_width": ""
      }
     },
     "1da5ac26b6d8464999c08fe4d6f6b292": {
      "model_module": "@jupyter-widgets/base",
      "model_module_version": "1.2.0",
      "model_name": "LayoutModel",
      "state": {}
     },
     "1eaabd793c1843628253a893e6ef1c9e": {
      "model_module": "@jupyter-widgets/controls",
      "model_module_version": "1.5.0",
      "model_name": "HTMLModel",
      "state": {
       "layout": "IPY_MODEL_96fed84e19cd46c3a4108084d2f264fa",
       "style": "IPY_MODEL_6e9150db819847818085d18439643b69",
       "value": " 218/218 [00:00&lt;00:00, 952.90it/s]"
      }
     },
     "1f41984c90d144a39c58f0ffe3c34fd3": {
      "model_module": "@jupyter-widgets/controls",
      "model_module_version": "1.5.0",
      "model_name": "HBoxModel",
      "state": {
       "children": [
        "IPY_MODEL_67ea04ed1a824b61bffd40b068973b6c",
        "IPY_MODEL_d534079f61c643ee8c8876dffb947fff",
        "IPY_MODEL_09d71c94e2f34c55814f4bb269371e1e"
       ],
       "layout": "IPY_MODEL_1da5ac26b6d8464999c08fe4d6f6b292"
      }
     },
     "21108c9174084c2c931691cd735543b8": {
      "model_module": "@jupyter-widgets/controls",
      "model_module_version": "1.5.0",
      "model_name": "DescriptionStyleModel",
      "state": {
       "description_width": ""
      }
     },
     "247d944161c04250ae419f3f3e3e77bc": {
      "model_module": "@jupyter-widgets/controls",
      "model_module_version": "1.5.0",
      "model_name": "DescriptionStyleModel",
      "state": {
       "description_width": ""
      }
     },
     "24cf2abb5f774849ba077c6c2efe259c": {
      "model_module": "@jupyter-widgets/controls",
      "model_module_version": "1.5.0",
      "model_name": "DescriptionStyleModel",
      "state": {
       "description_width": ""
      }
     },
     "264e00d8f14044d09415c3f38fec96fe": {
      "model_module": "@jupyter-widgets/controls",
      "model_module_version": "1.5.0",
      "model_name": "ProgressStyleModel",
      "state": {
       "description_width": ""
      }
     },
     "28c698f9045a4b95ac452a57c8fb8b92": {
      "model_module": "@jupyter-widgets/base",
      "model_module_version": "1.2.0",
      "model_name": "LayoutModel",
      "state": {}
     },
     "2924098d88424ae69811c822d37942ee": {
      "model_module": "@jupyter-widgets/base",
      "model_module_version": "1.2.0",
      "model_name": "LayoutModel",
      "state": {}
     },
     "2a9a1cf245214f7a994c721340284f49": {
      "model_module": "@jupyter-widgets/controls",
      "model_module_version": "1.5.0",
      "model_name": "FloatProgressModel",
      "state": {
       "bar_style": "success",
       "layout": "IPY_MODEL_df3901a2705f428ea1b5119d43bd2a2c",
       "max": 227,
       "style": "IPY_MODEL_dbd798ae664d4774ae217c7d6f700b08",
       "value": 227
      }
     },
     "2bd472c9fe9446f2ad989ad4f313d3c4": {
      "model_module": "@jupyter-widgets/controls",
      "model_module_version": "1.5.0",
      "model_name": "ProgressStyleModel",
      "state": {
       "description_width": ""
      }
     },
     "2c8624de880a4139b3bd824d778971b5": {
      "model_module": "@jupyter-widgets/controls",
      "model_module_version": "1.5.0",
      "model_name": "HTMLModel",
      "state": {
       "layout": "IPY_MODEL_108109c4947248e08fe655995d9c3a6c",
       "style": "IPY_MODEL_992b43b1c275453f92460b6031dda400",
       "value": "apply len_bytes to num_bytes: 100%"
      }
     },
     "30725a5c92454b0eab96a308a7df6034": {
      "model_module": "@jupyter-widgets/controls",
      "model_module_version": "1.5.0",
      "model_name": "DescriptionStyleModel",
      "state": {
       "description_width": ""
      }
     },
     "32e28d44b1a944418ff2b41dcf6544eb": {
      "model_module": "@jupyter-widgets/controls",
      "model_module_version": "1.5.0",
      "model_name": "HTMLModel",
      "state": {
       "layout": "IPY_MODEL_824bdef02e174b078f4815c247fe3755",
       "style": "IPY_MODEL_167f6f1f2f5b47cfafa8423c8d7b5609",
       "value": "apply len_bytes to num_bytes: 100%"
      }
     },
     "335249fda7564a7e9cca6452448fa267": {
      "model_module": "@jupyter-widgets/controls",
      "model_module_version": "1.5.0",
      "model_name": "HBoxModel",
      "state": {
       "children": [
        "IPY_MODEL_5f4737c88cd34c7a90a38ba6f2c198ba",
        "IPY_MODEL_d3aeef69cc4c4293a35e8cddbcfa068c",
        "IPY_MODEL_0c04e4b0522144c483cc0a4fb07c1c82"
       ],
       "layout": "IPY_MODEL_e14485869ee4468eb37cc1c343fa7fed"
      }
     },
     "35071c6714a342b7b4fe31d1c3bc2124": {
      "model_module": "@jupyter-widgets/base",
      "model_module_version": "1.2.0",
      "model_name": "LayoutModel",
      "state": {}
     },
     "35f07f8397114e39a6c1b57605345e4d": {
      "model_module": "@jupyter-widgets/base",
      "model_module_version": "1.2.0",
      "model_name": "LayoutModel",
      "state": {}
     },
     "3aa97f397b3d432db6773310ba871b7a": {
      "model_module": "@jupyter-widgets/controls",
      "model_module_version": "1.5.0",
      "model_name": "DescriptionStyleModel",
      "state": {
       "description_width": ""
      }
     },
     "3ee2b841a3364d86a884a0f0b7c39edb": {
      "model_module": "@jupyter-widgets/controls",
      "model_module_version": "1.5.0",
      "model_name": "HTMLModel",
      "state": {
       "layout": "IPY_MODEL_58c8c386d3074741a0ec0cf601bcb536",
       "style": "IPY_MODEL_30725a5c92454b0eab96a308a7df6034",
       "value": "apply len_bytes to num_bytes: 100%"
      }
     },
     "3fa50da172cd428fbe089788fc52e8b0": {
      "model_module": "@jupyter-widgets/controls",
      "model_module_version": "1.5.0",
      "model_name": "FloatProgressModel",
      "state": {
       "bar_style": "success",
       "layout": "IPY_MODEL_b919678a7fca4f55b4d0a42799ae4ca0",
       "max": 227,
       "style": "IPY_MODEL_fbdeed28da5b4df584e2a3ac3e86007b",
       "value": 227
      }
     },
     "44c04fb32eb04e979ff8a7a57f1985c1": {
      "model_module": "@jupyter-widgets/base",
      "model_module_version": "1.2.0",
      "model_name": "LayoutModel",
      "state": {}
     },
     "48a5ed14694b415997b2ad645af2d076": {
      "model_module": "@jupyter-widgets/base",
      "model_module_version": "1.2.0",
      "model_name": "LayoutModel",
      "state": {}
     },
     "4c61ca2de49a409ca16309f1754d2ee5": {
      "model_module": "@jupyter-widgets/controls",
      "model_module_version": "1.5.0",
      "model_name": "DescriptionStyleModel",
      "state": {
       "description_width": ""
      }
     },
     "4cd1321c74ed4ec0b35a69b6c1e136b3": {
      "model_module": "@jupyter-widgets/base",
      "model_module_version": "1.2.0",
      "model_name": "LayoutModel",
      "state": {}
     },
     "4ed0a8434b6f47a4ab1d99bbadf0b5cb": {
      "model_module": "@jupyter-widgets/base",
      "model_module_version": "1.2.0",
      "model_name": "LayoutModel",
      "state": {}
     },
     "4f7d20b531634c2b9b0e74162d81adba": {
      "model_module": "@jupyter-widgets/controls",
      "model_module_version": "1.5.0",
      "model_name": "HBoxModel",
      "state": {
       "children": [
        "IPY_MODEL_f16b842679574e4b853f4bf4d433412f",
        "IPY_MODEL_2a9a1cf245214f7a994c721340284f49",
        "IPY_MODEL_798d16d2fda649e89eb84d6bcdbd2ca2"
       ],
       "layout": "IPY_MODEL_f0f93505b1324962ae1fd4371b4e9644"
      }
     },
     "5261ef5ba4924becaaa36b3f43289259": {
      "model_module": "@jupyter-widgets/base",
      "model_module_version": "1.2.0",
      "model_name": "LayoutModel",
      "state": {}
     },
     "540983805a0746b4a1aee109d0cc2a29": {
      "model_module": "@jupyter-widgets/base",
      "model_module_version": "1.2.0",
      "model_name": "LayoutModel",
      "state": {}
     },
     "58c8c386d3074741a0ec0cf601bcb536": {
      "model_module": "@jupyter-widgets/base",
      "model_module_version": "1.2.0",
      "model_name": "LayoutModel",
      "state": {}
     },
     "592e4fd1582d48489fca96722a7df822": {
      "model_module": "@jupyter-widgets/controls",
      "model_module_version": "1.5.0",
      "model_name": "DescriptionStyleModel",
      "state": {
       "description_width": ""
      }
     },
     "5c79fc579a974026a49797914618d07a": {
      "model_module": "@jupyter-widgets/controls",
      "model_module_version": "1.5.0",
      "model_name": "HBoxModel",
      "state": {
       "children": [
        "IPY_MODEL_b971ff25f9354eb49c26460a4dfa34da",
        "IPY_MODEL_1b12c1acb6154d29be45407400e5cf51",
        "IPY_MODEL_c145f4fc6c074d8b9d45912eb9ccbbe9"
       ],
       "layout": "IPY_MODEL_ce6ff6d5a8304cb5a0949f7597754b38"
      }
     },
     "5e58ddac8c2f47e0a78ae559e0835d12": {
      "model_module": "@jupyter-widgets/base",
      "model_module_version": "1.2.0",
      "model_name": "LayoutModel",
      "state": {}
     },
     "5f4737c88cd34c7a90a38ba6f2c198ba": {
      "model_module": "@jupyter-widgets/controls",
      "model_module_version": "1.5.0",
      "model_name": "HTMLModel",
      "state": {
       "layout": "IPY_MODEL_35f07f8397114e39a6c1b57605345e4d",
       "style": "IPY_MODEL_21108c9174084c2c931691cd735543b8",
       "value": "apply len_bytes to num_bytes: 100%"
      }
     },
     "67ea04ed1a824b61bffd40b068973b6c": {
      "model_module": "@jupyter-widgets/controls",
      "model_module_version": "1.5.0",
      "model_name": "HTMLModel",
      "state": {
       "layout": "IPY_MODEL_05a20c14c6b8478ab89e443518304ef5",
       "style": "IPY_MODEL_592e4fd1582d48489fca96722a7df822",
       "value": "apply len_bytes to num_bytes: 100%"
      }
     },
     "68e100834656476a9d114ad859cf7410": {
      "model_module": "@jupyter-widgets/base",
      "model_module_version": "1.2.0",
      "model_name": "LayoutModel",
      "state": {}
     },
     "6e3ccb7d83be4d7aaad4e759e4784f04": {
      "model_module": "@jupyter-widgets/controls",
      "model_module_version": "1.5.0",
      "model_name": "FloatProgressModel",
      "state": {
       "bar_style": "success",
       "layout": "IPY_MODEL_4cd1321c74ed4ec0b35a69b6c1e136b3",
       "max": 227,
       "style": "IPY_MODEL_e7212cc1842b4d5cba8b8fd48523a632",
       "value": 227
      }
     },
     "6e9150db819847818085d18439643b69": {
      "model_module": "@jupyter-widgets/controls",
      "model_module_version": "1.5.0",
      "model_name": "DescriptionStyleModel",
      "state": {
       "description_width": ""
      }
     },
     "70f98184088d49e2acb93e654111059d": {
      "model_module": "@jupyter-widgets/base",
      "model_module_version": "1.2.0",
      "model_name": "LayoutModel",
      "state": {}
     },
     "7114e2fe188e4f039aba3c8ecd7fa256": {
      "model_module": "@jupyter-widgets/controls",
      "model_module_version": "1.5.0",
      "model_name": "ProgressStyleModel",
      "state": {
       "description_width": ""
      }
     },
     "776ea55ae16a4d68bf7ce8939f8c119b": {
      "model_module": "@jupyter-widgets/base",
      "model_module_version": "1.2.0",
      "model_name": "LayoutModel",
      "state": {}
     },
     "798d16d2fda649e89eb84d6bcdbd2ca2": {
      "model_module": "@jupyter-widgets/controls",
      "model_module_version": "1.5.0",
      "model_name": "HTMLModel",
      "state": {
       "layout": "IPY_MODEL_2924098d88424ae69811c822d37942ee",
       "style": "IPY_MODEL_24cf2abb5f774849ba077c6c2efe259c",
       "value": " 227/227 [00:00&lt;00:00, 997.50it/s]"
      }
     },
     "7e46ae14112d477e9f9037afaa482175": {
      "model_module": "@jupyter-widgets/controls",
      "model_module_version": "1.5.0",
      "model_name": "HTMLModel",
      "state": {
       "layout": "IPY_MODEL_19757b016b244f43ae19e0b9ae1667c8",
       "style": "IPY_MODEL_fe3731d27bd44879b3d57ea7540a2cc8",
       "value": " 227/227 [00:00&lt;00:00, 485.24it/s]"
      }
     },
     "81d9733fea6944debb40db2bd88d33ac": {
      "model_module": "@jupyter-widgets/controls",
      "model_module_version": "1.5.0",
      "model_name": "HTMLModel",
      "state": {
       "layout": "IPY_MODEL_70f98184088d49e2acb93e654111059d",
       "style": "IPY_MODEL_9ffcfb7c627f4dda9ea28e0a61bcb858",
       "value": " 227/227 [00:11&lt;00:00, 139.87it/s]"
      }
     },
     "82279914885e43409811754691738e03": {
      "model_module": "@jupyter-widgets/controls",
      "model_module_version": "1.5.0",
      "model_name": "HBoxModel",
      "state": {
       "children": [
        "IPY_MODEL_e39fc4b747fb4a63b5652453f6d30712",
        "IPY_MODEL_1b1985d0a20f40a2bbd6bdad2cfb8229",
        "IPY_MODEL_17dc65438c224acd8eddd045c64a0620"
       ],
       "layout": "IPY_MODEL_5261ef5ba4924becaaa36b3f43289259"
      }
     },
     "824bdef02e174b078f4815c247fe3755": {
      "model_module": "@jupyter-widgets/base",
      "model_module_version": "1.2.0",
      "model_name": "LayoutModel",
      "state": {}
     },
     "8bcc1a8d1e51442abac5460678d416e0": {
      "model_module": "@jupyter-widgets/controls",
      "model_module_version": "1.5.0",
      "model_name": "ProgressStyleModel",
      "state": {
       "description_width": ""
      }
     },
     "8f0facb32cee44f3b4828bc70a0d7073": {
      "model_module": "@jupyter-widgets/controls",
      "model_module_version": "1.5.0",
      "model_name": "HTMLModel",
      "state": {
       "layout": "IPY_MODEL_f854288b71854cf0bba197230ea93fb4",
       "style": "IPY_MODEL_94e5087d91bb4b4b8ca518c1e80420c3",
       "value": "apply len_bytes to num_bytes: 100%"
      }
     },
     "8fdef9e7080f419496b0e54403b9ec07": {
      "model_module": "@jupyter-widgets/base",
      "model_module_version": "1.2.0",
      "model_name": "LayoutModel",
      "state": {}
     },
     "94e5087d91bb4b4b8ca518c1e80420c3": {
      "model_module": "@jupyter-widgets/controls",
      "model_module_version": "1.5.0",
      "model_name": "DescriptionStyleModel",
      "state": {
       "description_width": ""
      }
     },
     "967d43472ce14308a131dd03b49e3144": {
      "model_module": "@jupyter-widgets/controls",
      "model_module_version": "1.5.0",
      "model_name": "DescriptionStyleModel",
      "state": {
       "description_width": ""
      }
     },
     "96fed84e19cd46c3a4108084d2f264fa": {
      "model_module": "@jupyter-widgets/base",
      "model_module_version": "1.2.0",
      "model_name": "LayoutModel",
      "state": {}
     },
     "992b43b1c275453f92460b6031dda400": {
      "model_module": "@jupyter-widgets/controls",
      "model_module_version": "1.5.0",
      "model_name": "DescriptionStyleModel",
      "state": {
       "description_width": ""
      }
     },
     "994f5f22e429466999bc45089f5d6e6c": {
      "model_module": "@jupyter-widgets/base",
      "model_module_version": "1.2.0",
      "model_name": "LayoutModel",
      "state": {}
     },
     "9ffcfb7c627f4dda9ea28e0a61bcb858": {
      "model_module": "@jupyter-widgets/controls",
      "model_module_version": "1.5.0",
      "model_name": "DescriptionStyleModel",
      "state": {
       "description_width": ""
      }
     },
     "a15eed4e9aa84d10aabf07831c48e526": {
      "model_module": "@jupyter-widgets/controls",
      "model_module_version": "1.5.0",
      "model_name": "FloatProgressModel",
      "state": {
       "bar_style": "success",
       "layout": "IPY_MODEL_cefd58848d8e459db61ae40c961b1673",
       "max": 218,
       "style": "IPY_MODEL_d47641bef66d490db4d967f714a0515d",
       "value": 218
      }
     },
     "a4fffae6d2364a0e912609d6297d5211": {
      "model_module": "@jupyter-widgets/base",
      "model_module_version": "1.2.0",
      "model_name": "LayoutModel",
      "state": {}
     },
     "acb37e2ec3af4ea5b0ecfd2f9b0633f6": {
      "model_module": "@jupyter-widgets/controls",
      "model_module_version": "1.5.0",
      "model_name": "HBoxModel",
      "state": {
       "children": [
        "IPY_MODEL_8f0facb32cee44f3b4828bc70a0d7073",
        "IPY_MODEL_c4403ea1f52a4f73b41a30d591e980ac",
        "IPY_MODEL_81d9733fea6944debb40db2bd88d33ac"
       ],
       "layout": "IPY_MODEL_44c04fb32eb04e979ff8a7a57f1985c1"
      }
     },
     "b46dcd83eb604b0d822164003b691b48": {
      "model_module": "@jupyter-widgets/controls",
      "model_module_version": "1.5.0",
      "model_name": "HTMLModel",
      "state": {
       "layout": "IPY_MODEL_48a5ed14694b415997b2ad645af2d076",
       "style": "IPY_MODEL_247d944161c04250ae419f3f3e3e77bc",
       "value": " 227/227 [00:00&lt;00:00, 855.15it/s]"
      }
     },
     "b4c2eccee86f47b8b8c2a63ca416d20d": {
      "model_module": "@jupyter-widgets/controls",
      "model_module_version": "1.5.0",
      "model_name": "ProgressStyleModel",
      "state": {
       "description_width": ""
      }
     },
     "b5caf6b1dc8d453c985b9fc4047bc494": {
      "model_module": "@jupyter-widgets/base",
      "model_module_version": "1.2.0",
      "model_name": "LayoutModel",
      "state": {}
     },
     "b919678a7fca4f55b4d0a42799ae4ca0": {
      "model_module": "@jupyter-widgets/base",
      "model_module_version": "1.2.0",
      "model_name": "LayoutModel",
      "state": {}
     },
     "b971ff25f9354eb49c26460a4dfa34da": {
      "model_module": "@jupyter-widgets/controls",
      "model_module_version": "1.5.0",
      "model_name": "HTMLModel",
      "state": {
       "layout": "IPY_MODEL_540983805a0746b4a1aee109d0cc2a29",
       "style": "IPY_MODEL_3aa97f397b3d432db6773310ba871b7a",
       "value": "apply len_bytes to num_bytes: 100%"
      }
     },
     "ba14042ab3de4bf6aceb29359568ff0a": {
      "model_module": "@jupyter-widgets/controls",
      "model_module_version": "1.5.0",
      "model_name": "DescriptionStyleModel",
      "state": {
       "description_width": ""
      }
     },
     "c145f4fc6c074d8b9d45912eb9ccbbe9": {
      "model_module": "@jupyter-widgets/controls",
      "model_module_version": "1.5.0",
      "model_name": "HTMLModel",
      "state": {
       "layout": "IPY_MODEL_28c698f9045a4b95ac452a57c8fb8b92",
       "style": "IPY_MODEL_0e4ae05ead6e41e5b23b0c22e5dcde25",
       "value": " 227/227 [00:00&lt;00:00, 998.55it/s]"
      }
     },
     "c4403ea1f52a4f73b41a30d591e980ac": {
      "model_module": "@jupyter-widgets/controls",
      "model_module_version": "1.5.0",
      "model_name": "FloatProgressModel",
      "state": {
       "bar_style": "success",
       "layout": "IPY_MODEL_0bb26117a19f46fbbe952878c2f963c2",
       "max": 227,
       "style": "IPY_MODEL_7114e2fe188e4f039aba3c8ecd7fa256",
       "value": 227
      }
     },
     "c619a9ab6e49433a9550ed2aee815aa1": {
      "model_module": "@jupyter-widgets/controls",
      "model_module_version": "1.5.0",
      "model_name": "HBoxModel",
      "state": {
       "children": [
        "IPY_MODEL_2c8624de880a4139b3bd824d778971b5",
        "IPY_MODEL_6e3ccb7d83be4d7aaad4e759e4784f04",
        "IPY_MODEL_7e46ae14112d477e9f9037afaa482175"
       ],
       "layout": "IPY_MODEL_e6c5b97083774ce18aeee9c142452177"
      }
     },
     "ccb49b049a5a4f238fec143e958ffe00": {
      "model_module": "@jupyter-widgets/base",
      "model_module_version": "1.2.0",
      "model_name": "LayoutModel",
      "state": {}
     },
     "ce38faea895a41f1a79a0b6b644075af": {
      "model_module": "@jupyter-widgets/controls",
      "model_module_version": "1.5.0",
      "model_name": "DescriptionStyleModel",
      "state": {
       "description_width": ""
      }
     },
     "ce6ff6d5a8304cb5a0949f7597754b38": {
      "model_module": "@jupyter-widgets/base",
      "model_module_version": "1.2.0",
      "model_name": "LayoutModel",
      "state": {}
     },
     "cefd58848d8e459db61ae40c961b1673": {
      "model_module": "@jupyter-widgets/base",
      "model_module_version": "1.2.0",
      "model_name": "LayoutModel",
      "state": {}
     },
     "d3aeef69cc4c4293a35e8cddbcfa068c": {
      "model_module": "@jupyter-widgets/controls",
      "model_module_version": "1.5.0",
      "model_name": "FloatProgressModel",
      "state": {
       "bar_style": "success",
       "layout": "IPY_MODEL_00a060c5fe6146de9354bc94b26a78d1",
       "max": 230,
       "style": "IPY_MODEL_8bcc1a8d1e51442abac5460678d416e0",
       "value": 230
      }
     },
     "d47641bef66d490db4d967f714a0515d": {
      "model_module": "@jupyter-widgets/controls",
      "model_module_version": "1.5.0",
      "model_name": "ProgressStyleModel",
      "state": {
       "description_width": ""
      }
     },
     "d534079f61c643ee8c8876dffb947fff": {
      "model_module": "@jupyter-widgets/controls",
      "model_module_version": "1.5.0",
      "model_name": "FloatProgressModel",
      "state": {
       "bar_style": "success",
       "layout": "IPY_MODEL_4ed0a8434b6f47a4ab1d99bbadf0b5cb",
       "max": 227,
       "style": "IPY_MODEL_2bd472c9fe9446f2ad989ad4f313d3c4",
       "value": 227
      }
     },
     "dbd798ae664d4774ae217c7d6f700b08": {
      "model_module": "@jupyter-widgets/controls",
      "model_module_version": "1.5.0",
      "model_name": "ProgressStyleModel",
      "state": {
       "description_width": ""
      }
     },
     "df3901a2705f428ea1b5119d43bd2a2c": {
      "model_module": "@jupyter-widgets/base",
      "model_module_version": "1.2.0",
      "model_name": "LayoutModel",
      "state": {}
     },
     "e14485869ee4468eb37cc1c343fa7fed": {
      "model_module": "@jupyter-widgets/base",
      "model_module_version": "1.2.0",
      "model_name": "LayoutModel",
      "state": {}
     },
     "e39fc4b747fb4a63b5652453f6d30712": {
      "model_module": "@jupyter-widgets/controls",
      "model_module_version": "1.5.0",
      "model_name": "HTMLModel",
      "state": {
       "layout": "IPY_MODEL_a4fffae6d2364a0e912609d6297d5211",
       "style": "IPY_MODEL_1bd08d2933984effa8d0497ca6f3f995",
       "value": "apply len_bytes to num_bytes: 100%"
      }
     },
     "e473ff6e5be34d769676053eb77e604e": {
      "model_module": "@jupyter-widgets/controls",
      "model_module_version": "1.5.0",
      "model_name": "HBoxModel",
      "state": {
       "children": [
        "IPY_MODEL_32e28d44b1a944418ff2b41dcf6544eb",
        "IPY_MODEL_a15eed4e9aa84d10aabf07831c48e526",
        "IPY_MODEL_1eaabd793c1843628253a893e6ef1c9e"
       ],
       "layout": "IPY_MODEL_994f5f22e429466999bc45089f5d6e6c"
      }
     },
     "e6c5b97083774ce18aeee9c142452177": {
      "model_module": "@jupyter-widgets/base",
      "model_module_version": "1.2.0",
      "model_name": "LayoutModel",
      "state": {}
     },
     "e7212cc1842b4d5cba8b8fd48523a632": {
      "model_module": "@jupyter-widgets/controls",
      "model_module_version": "1.5.0",
      "model_name": "ProgressStyleModel",
      "state": {
       "description_width": ""
      }
     },
     "f0f93505b1324962ae1fd4371b4e9644": {
      "model_module": "@jupyter-widgets/base",
      "model_module_version": "1.2.0",
      "model_name": "LayoutModel",
      "state": {}
     },
     "f16b842679574e4b853f4bf4d433412f": {
      "model_module": "@jupyter-widgets/controls",
      "model_module_version": "1.5.0",
      "model_name": "HTMLModel",
      "state": {
       "layout": "IPY_MODEL_776ea55ae16a4d68bf7ce8939f8c119b",
       "style": "IPY_MODEL_4c61ca2de49a409ca16309f1754d2ee5",
       "value": "apply len_bytes to num_bytes: 100%"
      }
     },
     "f854288b71854cf0bba197230ea93fb4": {
      "model_module": "@jupyter-widgets/base",
      "model_module_version": "1.2.0",
      "model_name": "LayoutModel",
      "state": {}
     },
     "fbdeed28da5b4df584e2a3ac3e86007b": {
      "model_module": "@jupyter-widgets/controls",
      "model_module_version": "1.5.0",
      "model_name": "ProgressStyleModel",
      "state": {
       "description_width": ""
      }
     },
     "fd1cfe9ea63441319c98b69a27d0f94c": {
      "model_module": "@jupyter-widgets/controls",
      "model_module_version": "1.5.0",
      "model_name": "HBoxModel",
      "state": {
       "children": [
        "IPY_MODEL_3ee2b841a3364d86a884a0f0b7c39edb",
        "IPY_MODEL_3fa50da172cd428fbe089788fc52e8b0",
        "IPY_MODEL_b46dcd83eb604b0d822164003b691b48"
       ],
       "layout": "IPY_MODEL_8fdef9e7080f419496b0e54403b9ec07"
      }
     },
     "fe3731d27bd44879b3d57ea7540a2cc8": {
      "model_module": "@jupyter-widgets/controls",
      "model_module_version": "1.5.0",
      "model_name": "DescriptionStyleModel",
      "state": {
       "description_width": ""
      }
     }
    },
    "version_major": 2,
    "version_minor": 0
   }
  }
 },
 "nbformat": 4,
 "nbformat_minor": 1
}
