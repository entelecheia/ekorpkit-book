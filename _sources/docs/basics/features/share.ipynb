{
 "cells": [
  {
   "cell_type": "markdown",
   "id": "eca6fea8",
   "metadata": {},
   "source": [
    "# Sharable and Reproducible\n",
    "\n",
    "- With eKorpkit, you can easily share your datasets and models.\n",
    "- Sharing configs along with datasets and models makes every research reproducible.\n",
    "- You can share each unit jobs or an entire workflow."
   ]
  }
 ],
 "metadata": {
  "jupytext": {
   "formats": "md:myst",
   "text_representation": {
    "extension": ".md",
    "format_name": "myst"
   }
  },
  "kernelspec": {
   "display_name": "Python 3",
   "language": "python",
   "name": "python3"
  },
  "source_map": [
   11
  ]
 },
 "nbformat": 4,
 "nbformat_minor": 5
}