{
 "cells": [
  {
   "cell_type": "markdown",
   "metadata": {
    "id": "AESO0odcxhzs"
   },
   "source": [
    "# N-Grams"
   ]
  },
  {
   "cell_type": "code",
   "execution_count": 1,
   "metadata": {},
   "outputs": [
    {
     "name": "stdout",
     "output_type": "stream",
     "text": [
      "0.1.31+19.gdb9b114.dirty\n"
     ]
    }
   ],
   "source": [
    "import logging\n",
    "from ekorpkit import eKonf\n",
    "\n",
    "logging.basicConfig(level=logging.WARNING)\n",
    "print(eKonf.__version__)"
   ]
  },
  {
   "cell_type": "markdown",
   "metadata": {
    "id": "dOpN8AxSxhzv"
   },
   "source": [
    "## Tokenize and extract tokens"
   ]
  },
  {
   "cell_type": "code",
   "execution_count": 2,
   "metadata": {},
   "outputs": [],
   "source": [
    "corpus_cfg = eKonf.compose(config_group=\"corpus\")\n",
    "corpus_cfg.name = \"bok_minutes\"\n",
    "corpus_cfg.data_dir = \"/workspace/data/datasets/corpus/ekorpkit\"\n"
   ]
  },
  {
   "cell_type": "code",
   "execution_count": 3,
   "metadata": {},
   "outputs": [
    {
     "data": {
      "application/vnd.jupyter.widget-view+json": {
       "model_id": "398cfbac7d0c41e9bb56dde2d00ebc35",
       "version_major": 2,
       "version_minor": 0
      },
      "text/plain": [
       "Tokenizing column: text:   0%|          | 0/163 [00:00<?, ?it/s]"
      ]
     },
     "metadata": {},
     "output_type": "display_data"
    },
    {
     "data": {
      "text/html": [
       "<div>\n",
       "<style scoped>\n",
       "    .dataframe tbody tr th:only-of-type {\n",
       "        vertical-align: middle;\n",
       "    }\n",
       "\n",
       "    .dataframe tbody tr th {\n",
       "        vertical-align: top;\n",
       "    }\n",
       "\n",
       "    .dataframe thead th {\n",
       "        text-align: right;\n",
       "    }\n",
       "</style>\n",
       "<table border=\"1\" class=\"dataframe\">\n",
       "  <thead>\n",
       "    <tr style=\"text-align: right;\">\n",
       "      <th></th>\n",
       "      <th>id</th>\n",
       "      <th>text</th>\n",
       "      <th>sent_id</th>\n",
       "    </tr>\n",
       "  </thead>\n",
       "  <tbody>\n",
       "    <tr>\n",
       "      <th>162</th>\n",
       "      <td>162</td>\n",
       "      <td>앞/NNG 으로/JKB /SP 코로나/NNG 19/SN /SP 충격/NNG 에서/J...</td>\n",
       "      <td>337</td>\n",
       "    </tr>\n",
       "    <tr>\n",
       "      <th>162</th>\n",
       "      <td>162</td>\n",
       "      <td>또한/MAJ /SP 글로벌/NNG /SP 공급/NNG 망/NNG /SP 재편/NNG...</td>\n",
       "      <td>338</td>\n",
       "    </tr>\n",
       "    <tr>\n",
       "      <th>162</th>\n",
       "      <td>162</td>\n",
       "      <td>향후/NNG /SP 경제/NNG 회복세/NNG 와/JC /SP 물가/NNG 의/JK...</td>\n",
       "      <td>339</td>\n",
       "    </tr>\n",
       "    <tr>\n",
       "      <th>162</th>\n",
       "      <td>162</td>\n",
       "      <td></td>\n",
       "      <td>340</td>\n",
       "    </tr>\n",
       "    <tr>\n",
       "      <th>162</th>\n",
       "      <td>162</td>\n",
       "      <td>Government/SL '/SY s/SL /SP View/SL</td>\n",
       "      <td>341</td>\n",
       "    </tr>\n",
       "  </tbody>\n",
       "</table>\n",
       "</div>"
      ],
      "text/plain": [
       "      id                                               text  sent_id\n",
       "162  162  앞/NNG 으로/JKB /SP 코로나/NNG 19/SN /SP 충격/NNG 에서/J...      337\n",
       "162  162  또한/MAJ /SP 글로벌/NNG /SP 공급/NNG 망/NNG /SP 재편/NNG...      338\n",
       "162  162  향후/NNG /SP 경제/NNG 회복세/NNG 와/JC /SP 물가/NNG 의/JK...      339\n",
       "162  162                                                         340\n",
       "162  162                Government/SL '/SY s/SL /SP View/SL      341"
      ]
     },
     "execution_count": 3,
     "metadata": {},
     "output_type": "execute_result"
    }
   ],
   "source": [
    "tkn_cfg = eKonf.compose(config_group=\"preprocessor/tokenizer=mecab\")\n",
    "cfg = eKonf.compose(config_group=\"pipeline\")\n",
    "cfg.data.corpus = corpus_cfg\n",
    "cfg._pipeline_ = [\"tokenize\", \"explode_splits\", \"save_dataframe\"]\n",
    "cfg.num_workers = 100\n",
    "cfg.tokenize.preprocessor.tokenizer = tkn_cfg\n",
    "cfg.explode_splits.id_key = \"id\"\n",
    "cfg.explode_splits.split_key = \"sent_id\"\n",
    "cfg.explode_splits.separator = \"\\n\"\n",
    "cfg.save_dataframe.output_dir = \"../data/bok\"\n",
    "cfg.save_dataframe.output_file = \"bok_minutes_tokenized.parquet\"\n",
    "\n",
    "df = eKonf.instantiate(cfg)\n",
    "df.tail()"
   ]
  },
  {
   "cell_type": "code",
   "execution_count": 4,
   "metadata": {},
   "outputs": [
    {
     "data": {
      "application/vnd.jupyter.widget-view+json": {
       "model_id": "22e2c8b5175d4a71be3ce92dfea4c4e3",
       "version_major": 2,
       "version_minor": 0
      },
      "text/plain": [
       "Extracting column: text:   0%|          | 0/33857 [00:00<?, ?it/s]"
      ]
     },
     "metadata": {},
     "output_type": "display_data"
    },
    {
     "data": {
      "text/html": [
       "<div>\n",
       "<style scoped>\n",
       "    .dataframe tbody tr th:only-of-type {\n",
       "        vertical-align: middle;\n",
       "    }\n",
       "\n",
       "    .dataframe tbody tr th {\n",
       "        vertical-align: top;\n",
       "    }\n",
       "\n",
       "    .dataframe thead th {\n",
       "        text-align: right;\n",
       "    }\n",
       "</style>\n",
       "<table border=\"1\" class=\"dataframe\">\n",
       "  <thead>\n",
       "    <tr style=\"text-align: right;\">\n",
       "      <th></th>\n",
       "      <th>id</th>\n",
       "      <th>text</th>\n",
       "      <th>sent_id</th>\n",
       "    </tr>\n",
       "  </thead>\n",
       "  <tbody>\n",
       "    <tr>\n",
       "      <th>162</th>\n",
       "      <td>162</td>\n",
       "      <td>앞/NNG 으로/JKB 코로나/NNG 19/SN 충격/NNG 에서/JKB 점차/MA...</td>\n",
       "      <td>337</td>\n",
       "    </tr>\n",
       "    <tr>\n",
       "      <th>162</th>\n",
       "      <td>162</td>\n",
       "      <td>또한/MAJ 글로벌/NNG 공급/NNG 망/NNG 재편/NNG 기후/NNG 변화/N...</td>\n",
       "      <td>338</td>\n",
       "    </tr>\n",
       "    <tr>\n",
       "      <th>162</th>\n",
       "      <td>162</td>\n",
       "      <td>향후/NNG 경제/NNG 회복세/NNG 와/JC 물가/NNG 의/JKG 흐름/NNG...</td>\n",
       "      <td>339</td>\n",
       "    </tr>\n",
       "    <tr>\n",
       "      <th>162</th>\n",
       "      <td>162</td>\n",
       "      <td></td>\n",
       "      <td>340</td>\n",
       "    </tr>\n",
       "    <tr>\n",
       "      <th>162</th>\n",
       "      <td>162</td>\n",
       "      <td>Government/SL s/SL View/SL</td>\n",
       "      <td>341</td>\n",
       "    </tr>\n",
       "  </tbody>\n",
       "</table>\n",
       "</div>"
      ],
      "text/plain": [
       "      id                                               text  sent_id\n",
       "162  162  앞/NNG 으로/JKB 코로나/NNG 19/SN 충격/NNG 에서/JKB 점차/MA...      337\n",
       "162  162  또한/MAJ 글로벌/NNG 공급/NNG 망/NNG 재편/NNG 기후/NNG 변화/N...      338\n",
       "162  162  향후/NNG 경제/NNG 회복세/NNG 와/JC 물가/NNG 의/JKG 흐름/NNG...      339\n",
       "162  162                                                         340\n",
       "162  162                         Government/SL s/SL View/SL      341"
      ]
     },
     "execution_count": 4,
     "metadata": {},
     "output_type": "execute_result"
    }
   ],
   "source": [
    "tkn_cfg = eKonf.compose(config_group=\"preprocessor/tokenizer=mecab_econ\")\n",
    "tkn_cfg.extract.strip_pos = False\n",
    "\n",
    "cfg = eKonf.compose(config_group=\"pipeline\")\n",
    "cfg.data.data_dir = \"../data/bok\"\n",
    "cfg.data.data_file = \"bok_minutes_tokenized.parquet\"\n",
    "cfg._pipeline_ = [\"extract_tokens\", \"save_dataframe\"]\n",
    "cfg.num_workers = 100\n",
    "cfg.verbose = True\n",
    "cfg.extract_tokens.preprocessor.tokenizer = tkn_cfg\n",
    "cfg.extract_tokens.nouns_only = False\n",
    "cfg.save_dataframe.output_dir = \"../data/bok\"\n",
    "cfg.save_dataframe.output_file = \"bok_minutes_tokens.parquet\"\n",
    "df = eKonf.instantiate(cfg)\n",
    "df.tail()"
   ]
  },
  {
   "cell_type": "markdown",
   "metadata": {},
   "source": [
    "## Train ngrams"
   ]
  },
  {
   "cell_type": "code",
   "execution_count": 5,
   "metadata": {
    "scrolled": false
   },
   "outputs": [],
   "source": [
    "ngram_cfg = eKonf.compose(config_group=\"model/ngram=npmi\")\n",
    "ngram_cfg.data.data_dir = \"../data/bok\"\n",
    "ngram_cfg.data.data_file = \"bok_minutes_tokens.parquet\"\n",
    "ngram_cfg.verbose = True\n",
    "ngram_cfg.autoload = True\n",
    "ngram_cfg.candidates.threshold = 0.4\n",
    "ngram = eKonf.instantiate(ngram_cfg)"
   ]
  },
  {
   "cell_type": "code",
   "execution_count": 6,
   "metadata": {},
   "outputs": [
    {
     "name": "stdout",
     "output_type": "stream",
     "text": [
      "0 41005\n"
     ]
    }
   ],
   "source": [
    "print(len(ngram.ngrams), len(ngram.candidates))"
   ]
  },
  {
   "cell_type": "code",
   "execution_count": 7,
   "metadata": {},
   "outputs": [
    {
     "data": {
      "text/plain": [
       "[(('민/XPN', '감도/NNG'),\n",
       "  score(words='민/XPN;감도/NNG', score=0.9905600642226081, frequency=27, length=44827)),\n",
       " (('신/XPN', '흥국/NNG'),\n",
       "  score(words='신/XPN;흥국/NNG', score=0.9602497345784399, frequency=999, length=44827)),\n",
       " (('문안/NNG', '을/JKO', '작성/NNG'),\n",
       "  score(words='문안/NNG;을/JKO;작성/NNG', score=0.9550163996733796, frequency=43, length=44827)),\n",
       " (('예/NNG', '의/JKG', '주시/NNG'),\n",
       "  score(words='예/NNG;의/JKG;주시/NNG', score=0.952158528049305, frequency=193, length=44827)),\n",
       " (('한국/NNP', '은/JX', '행법/NNG'),\n",
       "  score(words='한국/NNP;은/JX;행법/NNG', score=0.9215496994789585, frequency=13, length=44827)),\n",
       " (('한/NNP', '은/JX', '법/NNG'),\n",
       "  score(words='한/NNP;은/JX;법/NNG', score=0.9115135958462448, frequency=17, length=44827)),\n",
       " (('차관/NNG', '에게/JKB', '발언/NNG'),\n",
       "  score(words='차관/NNG;에게/JKB;발언/NNG', score=0.8730837780556813, frequency=48, length=44827)),\n",
       " (('취지/NNG', '로/JKB', '발언/NNG'),\n",
       "  score(words='취지/NNG;로/JKB;발언/NNG', score=0.8703677143686631, frequency=36, length=44827)),\n",
       " (('신/XPN', '용스/NNP', '프레드/NNP'),\n",
       "  score(words='신/XPN;용스/NNP;프레드/NNP', score=0.8677320405182908, frequency=111, length=44827)),\n",
       " (('양질/NNG', '의/JKG', '일자리/NNG'),\n",
       "  score(words='양질/NNG;의/JKG;일자리/NNG', score=0.8602652867490822, frequency=16, length=44827)),\n",
       " (('시일/NNG', '이/JKS', '소요/NNG'),\n",
       "  score(words='시일/NNG;이/JKS;소요/NNG', score=0.8577081983567416, frequency=25, length=44827)),\n",
       " (('고부/NNG', '가/JKS', '가치/NNG'),\n",
       "  score(words='고부/NNG;가/JKS;가치/NNG', score=0.8441046212878132, frequency=10, length=44827)),\n",
       " (('저점/NNG', '을/JKO', '통과/NNG'),\n",
       "  score(words='저점/NNG;을/JKO;통과/NNG', score=0.8280556580473707, frequency=13, length=44827)),\n",
       " (('북한/NNP', '의/JKG', '미사일/NNG'),\n",
       "  score(words='북한/NNP;의/JKG;미사일/NNG', score=0.8209799127562951, frequency=11, length=44827)),\n",
       " (('끝/NNG', '으로/JKB', '동/NNG'),\n",
       "  score(words='끝/NNG;으로/JKB;동/NNG', score=0.8060710940902794, frequency=62, length=44827)),\n",
       " (('재/XPN', '정취/NNG', '약국/NNG'),\n",
       "  score(words='재/XPN;정취/NNG;약국/NNG', score=0.8059870646567988, frequency=13, length=44827)),\n",
       " (('결시/NNG', '까지/JX', '콜/NNG'),\n",
       "  score(words='결시/NNG;까지/JX;콜/NNG', score=0.8008655335614991, frequency=20, length=44827))]"
      ]
     },
     "execution_count": 7,
     "metadata": {},
     "output_type": "execute_result"
    }
   ],
   "source": [
    "ngram.postag_rules = [[\"/NN\", \"/J\", \"/NN\"], [\"/XP\", \"/NN\"], [\"/XP\", \"/NN\", \"/NN\"]]\n",
    "# ngram.postag_rules = ['/NN']\n",
    "\n",
    "ngram.export_ngrams(threshold=0.8, apply_postag_rules=True)"
   ]
  },
  {
   "cell_type": "code",
   "execution_count": 8,
   "metadata": {},
   "outputs": [
    {
     "name": "stdout",
     "output_type": "stream",
     "text": [
      "이/NP 에/JKB 대해/VV+EC 관련/NNG 부서/NNG 에서/JKB 는/JX 실업/NNG 률/XSN 과/JC 경기/NNG 지수/NNG 와/JKB 의/JKG 상관/NNG 관계/NNG 는/JX 그렇게/MAG 높/VA 지/EC 않/VX 은/ETM 것/NNB 으로/JKB 나타나/VV 며/EC 통계청/NNG 에서/JKB 발표/NNG 하/XSV 는/ETM 공식/NNG 적/XSN 인/VCP+ETM 실업/NNG 률/XSN 을/JKO 구직/NNG 단념/NNG 자/XSN 를/JKO 포함/NNG 한/XSA+ETM 광의/NNG 의/JKG 실업/NNG 률/XSN 로/JKB 전환/NNG 할/XSV+ETM 경우/NNG 오히려/MAJ 경기/NNG 와/JKB 의/JKG 연관/NNG 성/XSN 이/JKS 좀/MAG 더/MAG 높/VA 은/ETM 것/NNB 으로/JKB 분석/NNG 되/XSV 므로/EC 경기/NNG 상환/NNG 판단/NNG 을/JKO 위해서/VV+EC 는/JX 공식/NNG 적/XSN 인/VCP+ETM 실업/NNG 률/XSN 보다/JKB 는/JX 광의/NNG 의/JKG 실업/NNG 률/XSN 을/JKO 이용/NNG 하/XSV 는/ETM 것/NNB 이/JKS 더/MAG 좋/VA 을/ETM 것/NNB 같/VA 다고/EC 설명/NNG 하/XSV 였/EP 음/ETN\n",
      "['이', '에', '대해', '관련', '부서', '에서', '는', '실업', '률', '과', '경기', '지수', '와', '의', '상관', '관계', '는', '그렇게', '높', '지', '않', '은', '것', '으로', '나타나', '며', '통계청', '에서', '발표', '하', '는', '공식', '적', '인', '실업', '률', '을', '구직', '단념', '자', '를', '포함', '한', '광의의실업', '률', '로', '전환', '할', '경우', '오히려', '경기', '와', '의', '연관', '성', '이', '좀', '더', '높', '은', '것으로분석', '되', '므로', '경기', '상환', '판단', '을', '위해서', '는', '공식', '적', '인', '실업', '률', '보다', '는', '광의의실업', '률', '을', '이용', '하', '는', '것', '이', '더', '좋', '을', '것', '같', '다고', '설명', '하', '였', '음']\n"
     ]
    }
   ],
   "source": [
    "ngram.load_data()\n",
    "sentence = ngram.sentences[18]\n",
    "print(sentence)\n",
    "tokens = ngram.ngramize_sentence(sentence)\n",
    "print(tokens)"
   ]
  },
  {
   "cell_type": "code",
   "execution_count": 9,
   "metadata": {},
   "outputs": [
    {
     "name": "stdout",
     "output_type": "stream",
     "text": [
      "['이', '에', '대해', '관련', '부서', '에서', '는', '실업', '률', '과', '경기', '지수', '와', '의', '상관', '관계', '는', '그렇게', '높', '지', '않', '은', '것', '으로', '나타나', '며', '통계청', '에서', '발표', '하', '는', '공식', '적', '인', '실업', '률', '을', '구직', '단념', '자', '를', '포함', '한', '광의의실업', '률', '로', '전환', '할', '경우', '오히려', '경기', '와', '의', '연관', '성', '이', '좀', '더', '높', '은', '것으로분석', '되', '므로', '경기', '상환', '판단', '을', '위해서', '는', '공식', '적', '인', '실업', '률', '보다', '는', '광의의실업', '률', '을', '이용', '하', '는', '것', '이', '더', '좋', '을', '것', '같', '다고', '설명', '하', '였', '음']\n"
     ]
    }
   ],
   "source": [
    "tokens = ngram[sentence]\n",
    "print(tokens)"
   ]
  },
  {
   "cell_type": "code",
   "execution_count": 10,
   "metadata": {},
   "outputs": [
    {
     "name": "stderr",
     "output_type": "stream",
     "text": [
      "100%|██████████| 95/95 [00:00<00:00, 229.54it/s]\n"
     ]
    }
   ],
   "source": [
    "_ngrams =ngram.find_ngrams(\n",
    "    ngram.sentences[10:105], strip_pos=False, surface_delim=\";\", threshold=0.5\n",
    ")"
   ]
  },
  {
   "cell_type": "code",
   "execution_count": 11,
   "metadata": {},
   "outputs": [
    {
     "data": {
      "text/plain": [
       "{'의견/NNG;을/JKO;제시/NNG': {'score': 0.7712962057207168, 'count': 4},\n",
       " '것/NNB;으로/JKB;예상/NNG': {'score': 0.6434462999127033, 'count': 9},\n",
       " '광의/NNG;의/JKG;실업/NNG': {'score': 0.7125695666268386, 'count': 7},\n",
       " '위원/NNG;은/JX;최근/NNG': {'score': 0.6384959743711969, 'count': 6},\n",
       " '나라/NNG;의/JKG;경우/NNG': {'score': 0.5392882244391282, 'count': 1},\n",
       " '비중/NNG;을/JKO;차지/NNG': {'score': 0.7072775299321461, 'count': 2},\n",
       " '견해/NNG;를/JKO;피력/NNG': {'score': 0.7097555785919298, 'count': 4},\n",
       " '점/NNG;을/JKO;감안/NNG': {'score': 0.6377572632677098, 'count': 3},\n",
       " '견해/NNG;를/JKO;제시/NNG': {'score': 0.6669627043316719, 'count': 1},\n",
       " '것/NNB;으로/JKB;판단/NNG': {'score': 0.6210796296158267, 'count': 8},\n",
       " '요인/NNG;이/JKS;상존/NNG': {'score': 0.5211343183357702, 'count': 1},\n",
       " '부서/NNG;의/JKG;견해/NNG': {'score': 0.6754271644040637, 'count': 2},\n",
       " '요인/NNG;에/JKB;기인/NNG': {'score': 0.5043339218152425, 'count': 1},\n",
       " '예/NNG;의/JKG;주시/NNG': {'score': 0.952158528049305, 'count': 2},\n",
       " '것/NNB;으로/JKB;생각/NNG': {'score': 0.5958825911374661, 'count': 8},\n",
       " '수준/NNG;에서/JKB;유지/NNG': {'score': 0.6636461971348067, 'count': 3},\n",
       " '저점/NNG;을/JKO;통과/NNG': {'score': 0.8280556580473707, 'count': 1},\n",
       " '대/XPN;기업/NNG': {'score': 0.5456359866836469, 'count': 5},\n",
       " '요인/NNG;으로/JKB;작용/NNG': {'score': 0.7708715487382776, 'count': 2},\n",
       " '의견/NNG;을/JKO;개진/NNG': {'score': 0.7384395627581938, 'count': 1},\n",
       " '물가/NNG;의/JKG;상방/NNG': {'score': 0.5074584872073851, 'count': 2},\n",
       " '점/NNG;을/JKO;종합/NNG': {'score': 0.556822420265398, 'count': 2},\n",
       " '수준/NNG;에서/JKB;동결/NNG': {'score': 0.6461681893860215, 'count': 1},\n",
       " '견해/NNG;를/JKO;표명/NNG': {'score': 0.6478129958286124, 'count': 1},\n",
       " '재정/NNG;의/JKG;조기/NNG': {'score': 0.5132700555256842, 'count': 1},\n",
       " '위원/NNG;은/JX;다음/NNG': {'score': 0.553448109164864, 'count': 3},\n",
       " '수준/NNG;으로/JKB;유지/NNG': {'score': 0.518649582527882, 'count': 4},\n",
       " '물가/NNG;와/JC;근원/NNG': {'score': 0.5100416604056133, 'count': 1},\n",
       " '압력/NNG;으로/JKB;작용/NNG': {'score': 0.6098929849604648, 'count': 2},\n",
       " '방안/NNG;을/JKO;마련/NNG': {'score': 0.6454923188451946, 'count': 1},\n",
       " '전월/NNG;과/JC;동일/NNG': {'score': 0.7439097224053924, 'count': 2},\n",
       " '기조/NNG;를/JKO;유지/NNG': {'score': 0.5969123748774878, 'count': 1},\n",
       " '부/NNG;의/JKG;효과/NNG': {'score': 0.6138078250845276, 'count': 1},\n",
       " '회복/NNG;이/JKS;지연/NNG': {'score': 0.6097978165821536, 'count': 1},\n",
       " '불/XPN;투명/NNG': {'score': 0.5551530211025784, 'count': 1},\n",
       " '방향/NNG;으로/JKB;구체/NNG': {'score': 0.601315871698512, 'count': 1},\n",
       " '문안/NNG;을/JKO;작성/NNG': {'score': 0.9550163996733796, 'count': 1},\n",
       " '여부/NNG;를/JKO;판단/NNG': {'score': 0.541207347065582, 'count': 1},\n",
       " '재/XPN;건축/NNG': {'score': 0.6862712987065251, 'count': 1},\n",
       " '등/NNB;을/JKO;감안/NNG': {'score': 0.5646998864710981, 'count': 3},\n",
       " '부문/NNG;을/JKO;중심/NNG': {'score': 0.5119575517507184, 'count': 1},\n",
       " '사정/NNG;이/JKS;악화/NNG': {'score': 0.5752082489368028, 'count': 1},\n",
       " '고용/NNG;의/JKG;질/NNG': {'score': 0.5587539187241448, 'count': 1},\n",
       " '유럽/NNP;과/JC;일본/NNP': {'score': 0.6067764382636405, 'count': 1},\n",
       " '수출/NNG;이/JKS;호조/NNG': {'score': 0.5622354169829481, 'count': 1},\n",
       " '소폭/NNG;의/JKG;플러스/NNG': {'score': 0.6654012719908597, 'count': 1},\n",
       " '모형/NNG;에/JKB;반영/NNG': {'score': 0.5302568474099705, 'count': 1}}"
      ]
     },
     "execution_count": 11,
     "metadata": {},
     "output_type": "execute_result"
    }
   ],
   "source": [
    "_ngrams"
   ]
  },
  {
   "cell_type": "code",
   "execution_count": null,
   "metadata": {},
   "outputs": [],
   "source": []
  }
 ],
 "metadata": {
  "colab": {
   "name": "preprocessor.ipynb",
   "provenance": []
  },
  "interpreter": {
   "hash": "f869af7787e6a1c49e09e367fc6e1b81d93d1c6583b43249c80edc047bd13cb2"
  },
  "kernelspec": {
   "display_name": "Python 3",
   "language": "python",
   "name": "python3"
  },
  "language_info": {
   "codemirror_mode": {
    "name": "ipython",
    "version": 3
   },
   "file_extension": ".py",
   "mimetype": "text/x-python",
   "name": "python",
   "nbconvert_exporter": "python",
   "pygments_lexer": "ipython3",
   "version": "3.8.12"
  },
  "widgets": {
   "application/vnd.jupyter.widget-state+json": {
    "state": {},
    "version_major": 2,
    "version_minor": 0
   }
  }
 },
 "nbformat": 4,
 "nbformat_minor": 1
}
