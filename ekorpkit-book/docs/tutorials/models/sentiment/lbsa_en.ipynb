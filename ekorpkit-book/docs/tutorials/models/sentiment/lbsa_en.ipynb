{
 "cells": [
  {
   "cell_type": "markdown",
   "metadata": {
    "id": "AESO0odcxhzs"
   },
   "source": [
    "# Lexicon-based Sentiment Analysis"
   ]
  },
  {
   "cell_type": "markdown",
   "metadata": {
    "id": "rlQ2kNsbNIAe"
   },
   "source": [
    "<a href=\"https://colab.research.google.com/github/entelecheia/ekorpkit-config/blob/main/notebooks/preprocessor.ipynb\" target=\"_parent\"><img src=\"https://colab.research.google.com/assets/colab-badge.svg\" alt=\"Open In Colab\"/></a>"
   ]
  },
  {
   "cell_type": "markdown",
   "metadata": {
    "id": "dOpN8AxSxhzv"
   },
   "source": [
    "## Instantiating a sentiment analyser class"
   ]
  },
  {
   "cell_type": "code",
   "execution_count": 4,
   "metadata": {},
   "outputs": [
    {
     "name": "stdout",
     "output_type": "stream",
     "text": [
      "Loading data from /workspace/projects/ekorpkit/ekorpkit/resources/lexicons/LM.parquet\n"
     ]
    },
    {
     "data": {
      "text/plain": [
       "{'polarity': 0.199999960000008,\n",
       " 'subjectivity': 0.6249999218750099,\n",
       " 'label': 'neutral'}"
      ]
     },
     "execution_count": 4,
     "metadata": {},
     "output_type": "execute_result"
    }
   ],
   "source": [
    "from ekorpkit import eKonf\n",
    "\n",
    "config_group='model/sentiment=lm'\n",
    "cfg = eKonf.compose(config_group=config_group)\n",
    "cfg.preprocessor.tokenizer.nltk.lemmatize = True\n",
    "# eKonf.pprint(cfg)\n",
    "lmsa = eKonf.instantiate(cfg)\n",
    "\n",
    "tokens = [\"Fraud\", \"Good\",\"Good\",\"Good\", \"Sound\", \"uncertain\", \"beat\", \"wrong\"]\n",
    "\n",
    "lmsa.predict(tokens)"
   ]
  },
  {
   "cell_type": "code",
   "execution_count": 5,
   "metadata": {},
   "outputs": [
    {
     "name": "stdout",
     "output_type": "stream",
     "text": [
      "['Beyond', 'the', 'improved', 'voice', 'capability', ',', 'customer', 'now', 'have', 'a', 'streamlined', 'way', 'to', 'comply', 'with', 'recall', 'and', 'other', 'traceability', 'requirement', ',', 'provide', 'them', 'with', 'a', 'competitive', 'advantage', '.']\n",
      "{'advantage': {'Negative': 0, 'Positive': 2009, 'count': 1},\n",
      " 'and': {'Negative': 0, 'Positive': 0, 'count': 1},\n",
      " 'beyond': {'Negative': 0, 'Positive': 0, 'count': 1},\n",
      " 'capability': {'Negative': 0, 'Positive': 0, 'count': 1},\n",
      " 'competitive': {'Negative': 0, 'Positive': 0, 'count': 1},\n",
      " 'comply': {'Negative': 0, 'Positive': 0, 'count': 1},\n",
      " 'customer': {'Negative': 0, 'Positive': 0, 'count': 1},\n",
      " 'have': {'Negative': 0, 'Positive': 0, 'count': 1},\n",
      " 'improved': {'Negative': 0, 'Positive': 2009, 'count': 1},\n",
      " 'now': {'Negative': 0, 'Positive': 0, 'count': 1},\n",
      " 'other': {'Negative': 0, 'Positive': 0, 'count': 1},\n",
      " 'provide': {'Negative': 0, 'Positive': 0, 'count': 1},\n",
      " 'recall': {'Negative': 2009, 'Positive': 0, 'count': 1},\n",
      " 'requirement': {'Negative': 0, 'Positive': 0, 'count': 1},\n",
      " 'streamlined': {'Negative': 0, 'Positive': 0, 'count': 1},\n",
      " 'the': {'Negative': 0, 'Positive': 0, 'count': 1},\n",
      " 'them': {'Negative': 0, 'Positive': 0, 'count': 1},\n",
      " 'to': {'Negative': 0, 'Positive': 0, 'count': 1},\n",
      " 'traceability': {'Negative': 0, 'Positive': 0, 'count': 1},\n",
      " 'voice': {'Negative': 0, 'Positive': 0, 'count': 1},\n",
      " 'way': {'Negative': 0, 'Positive': 0, 'count': 1},\n",
      " 'with': {'Negative': 0, 'Positive': 0, 'count': 2}}\n",
      "{'polarity': 0.33333322222225925, 'subjectivity': 0.10714285331632667, 'label': 'positive'}\n",
      "{'polarity': -0.9999990000010001, 'subjectivity': 0.045454543388429844, 'label': 'negative'}\n"
     ]
    }
   ],
   "source": [
    "from pprint import pprint\n",
    "text = \"Beyond the improved voice capabilities, customers now have a streamlined way to comply with recalls and other traceability requirements, providing them with a competitive advantage.\"\n",
    "tokens = lmsa.tokenize(text)\n",
    "print(tokens)\n",
    "pprint(lmsa.analyze(tokens, features=['Negative', 'Positive']))\n",
    "print(lmsa.predict(text))\n",
    "text = \"Operating loss amounted to EUR 0.7 mn compared to a profit of EUR 0.8 mn in the second quarter of 2005.\"\n",
    "print(lmsa.predict(text))\n"
   ]
  },
  {
   "cell_type": "code",
   "execution_count": 9,
   "metadata": {},
   "outputs": [
    {
     "name": "stdout",
     "output_type": "stream",
     "text": [
      "Loading data from /workspace/projects/ekorpkit/ekorpkit/resources/lexicons/HIV-4.parquet\n"
     ]
    },
    {
     "data": {
      "text/plain": [
       "{'polarity': -0.9999990000010001,\n",
       " 'subjectivity': 0.12499998437500197,\n",
       " 'label': 'negative'}"
      ]
     },
     "execution_count": 9,
     "metadata": {},
     "output_type": "execute_result"
    }
   ],
   "source": [
    "from ekorpkit import eKonf\n",
    "\n",
    "config_group='model/sentiment=hiv4'\n",
    "cfg = eKonf.compose(config_group=config_group)\n",
    "cfg.preprocessor.tokenizer.nltk.lemmatize = True\n",
    "# eKonf.pprint(cfg)\n",
    "hivsa = eKonf.instantiate(cfg)\n",
    "\n",
    "tokens = [\"Fraud\", \"Good\",\"Good\",\"Good\", \"Sound\", \"uncertain\", \"beat\", \"wrong\"]\n",
    "\n",
    "hivsa.predict(tokens)"
   ]
  },
  {
   "cell_type": "code",
   "execution_count": 10,
   "metadata": {},
   "outputs": [
    {
     "name": "stdout",
     "output_type": "stream",
     "text": [
      "['Beyond', 'the', 'improved', 'voice', 'capability', ',', 'customer', 'now', 'have', 'a', 'streamlined', 'way', 'to', 'comply', 'with', 'recall', 'and', 'other', 'traceability', 'requirement', ',', 'provide', 'them', 'with', 'a', 'competitive', 'advantage', '.']\n",
      "{'a': {'Negativ': None, 'Positiv': None, 'count': 2},\n",
      " 'advantage': {'Negativ': None, 'Positiv': 'Positiv', 'count': 1},\n",
      " 'and': {'Negativ': None, 'Positiv': None, 'count': 1},\n",
      " 'beyond': {'Negativ': None, 'Positiv': None, 'count': 1},\n",
      " 'capability': {'Negativ': None, 'Positiv': 'Positiv', 'count': 1},\n",
      " 'competitive': {'Negativ': 'Negativ', 'Positiv': None, 'count': 1},\n",
      " 'comply': {'Negativ': None, 'Positiv': None, 'count': 1},\n",
      " 'customer': {'Negativ': None, 'Positiv': None, 'count': 1},\n",
      " 'now': {'Negativ': None, 'Positiv': None, 'count': 1},\n",
      " 'requirement': {'Negativ': None, 'Positiv': None, 'count': 1},\n",
      " 'the': {'Negativ': None, 'Positiv': None, 'count': 1},\n",
      " 'them': {'Negativ': None, 'Positiv': None, 'count': 1},\n",
      " 'with': {'Negativ': None, 'Positiv': None, 'count': 2}}\n",
      "{'polarity': 0.33333322222225925, 'subjectivity': 0.10714285331632667, 'label': 'positive'}\n",
      "{'polarity': -0.9999990000010001, 'subjectivity': 0.045454543388429844, 'label': 'negative'}\n"
     ]
    }
   ],
   "source": [
    "from pprint import pprint\n",
    "text = \"Beyond the improved voice capabilities, customers now have a streamlined way to comply with recalls and other traceability requirements, providing them with a competitive advantage.\"\n",
    "tokens = hivsa.tokenize(text)\n",
    "print(tokens)\n",
    "pprint(hivsa.analyze(tokens, features=['Negativ', 'Positiv']))\n",
    "print(hivsa.predict(text))\n",
    "text = \"Operating loss amounted to EUR 0.7 mn compared to a profit of EUR 0.8 mn in the second quarter of 2005.\"\n",
    "print(hivsa.predict(text))\n"
   ]
  },
  {
   "cell_type": "code",
   "execution_count": null,
   "metadata": {},
   "outputs": [],
   "source": []
  }
 ],
 "metadata": {
  "colab": {
   "name": "preprocessor.ipynb",
   "provenance": []
  },
  "interpreter": {
   "hash": "f869af7787e6a1c49e09e367fc6e1b81d93d1c6583b43249c80edc047bd13cb2"
  },
  "kernelspec": {
   "display_name": "Python 3",
   "language": "python",
   "name": "python3"
  },
  "language_info": {
   "codemirror_mode": {
    "name": "ipython",
    "version": 3
   },
   "file_extension": ".py",
   "mimetype": "text/x-python",
   "name": "python",
   "nbconvert_exporter": "python",
   "pygments_lexer": "ipython3",
   "version": "3.8.8"
  },
  "widgets": {
   "application/vnd.jupyter.widget-state+json": {
    "state": {},
    "version_major": 2,
    "version_minor": 0
   }
  }
 },
 "nbformat": 4,
 "nbformat_minor": 1
}
