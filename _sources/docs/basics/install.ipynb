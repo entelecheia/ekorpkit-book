{
 "cells": [
  {
   "cell_type": "markdown",
   "id": "be67b284",
   "metadata": {},
   "source": [
    "# Installation\n",
    "\n",
    "Install the latest version of ekorpkit:\n",
    "\n",
    "```bash\n",
    "pip install -U ekorpkit\n",
    "```\n",
    "\n",
    "To install all extra dependencies,\n",
    "\n",
    "```bash\n",
    "pip install ekorpkit[all]\n",
    "```\n",
    "\n",
    "To install all extra dependencies, exhaustively, (not recommended)\n",
    "\n",
    "```bash\n",
    "pip install ekorpkit[exhaustive]\n",
    "```\n",
    "\n",
    "## Extra dependencies\n",
    "\n",
    "### List of extra dependency sets"
   ]
  },
  {
   "cell_type": "code",
   "execution_count": 1,
   "id": "6b6383b4",
   "metadata": {},
   "outputs": [
    {
     "data": {
      "text/plain": [
       "['all',\n",
       " 'tokenize',\n",
       " 'mecab',\n",
       " 'tokenize-en',\n",
       " 'dataset',\n",
       " 'topic',\n",
       " 'visualize',\n",
       " 'parser',\n",
       " 'wiki',\n",
       " 'fomc',\n",
       " 'edgar',\n",
       " 'transformers',\n",
       " 'model',\n",
       " 'automl',\n",
       " 'ddbackend',\n",
       " 'fetch',\n",
       " 'doc',\n",
       " 'exhaustive']"
      ]
     },
     "execution_count": 1,
     "metadata": {},
     "output_type": "execute_result"
    }
   ],
   "source": [
    "from ekorpkit import eKonf\n",
    "eKonf.dependencies()"
   ]
  },
  {
   "cell_type": "markdown",
   "id": "fa57fd72",
   "metadata": {},
   "source": [
    "### List of libraries in each dependency set"
   ]
  },
  {
   "cell_type": "code",
   "execution_count": 2,
   "id": "ef460661",
   "metadata": {},
   "outputs": [
    {
     "data": {
      "text/plain": [
       "{'emoji',\n",
       " 'ftfy',\n",
       " 'fugashi',\n",
       " 'mecab-ko-dic',\n",
       " 'mecab-python3',\n",
       " 'nltk',\n",
       " 'pynori',\n",
       " 'pysbd',\n",
       " 'sacremoses',\n",
       " 'soynlp'}"
      ]
     },
     "execution_count": 2,
     "metadata": {},
     "output_type": "execute_result"
    }
   ],
   "source": [
    "from ekorpkit import eKonf\n",
    "eKonf.dependencies(\"tokenize\")"
   ]
  },
  {
   "cell_type": "code",
   "execution_count": 3,
   "id": "9d2e7b90",
   "metadata": {},
   "outputs": [
    {
     "data": {
      "text/plain": [
       "{'beautifulsoup4',\n",
       " 'datasets',\n",
       " 'datasketch',\n",
       " 'emoji',\n",
       " 'ftfy',\n",
       " 'google-cloud-storage>=2.0.0',\n",
       " 'joblib',\n",
       " 'jsonlines',\n",
       " 'jsonpath-ng',\n",
       " 'loky',\n",
       " 'lsh',\n",
       " 'orjson',\n",
       " 'p_tqdm',\n",
       " 'pathos',\n",
       " 'py7zr',\n",
       " 'pysbd',\n",
       " 'pysimdjson',\n",
       " 'tensorflow-datasets',\n",
       " 'wget',\n",
       " 'zstandard'}"
      ]
     },
     "execution_count": 3,
     "metadata": {},
     "output_type": "execute_result"
    }
   ],
   "source": [
    "eKonf.dependencies(\"dataset\")"
   ]
  },
  {
   "cell_type": "code",
   "execution_count": 4,
   "id": "e153be0c",
   "metadata": {},
   "outputs": [
    {
     "data": {
      "text/plain": [
       "{'datasets',\n",
       " 'flaml',\n",
       " 'google-api-python-client',\n",
       " 'google-cloud-storage>=2.0.0',\n",
       " 'simpletransformers',\n",
       " 'tensorflow',\n",
       " 'yellowbrick'}"
      ]
     },
     "execution_count": 4,
     "metadata": {},
     "output_type": "execute_result"
    }
   ],
   "source": [
    "eKonf.dependencies(\"model\")"
   ]
  },
  {
   "cell_type": "code",
   "execution_count": 5,
   "id": "3afda4f5",
   "metadata": {},
   "outputs": [
    {
     "data": {
      "text/plain": [
       "{'kaleido', 'matplotlib', 'plotly', 'rich', 'seaborn', 'wordcloud'}"
      ]
     },
     "execution_count": 5,
     "metadata": {},
     "output_type": "execute_result"
    }
   ],
   "source": [
    "eKonf.dependencies(\"visualize\")"
   ]
  },
  {
   "cell_type": "code",
   "execution_count": 6,
   "id": "49abe80b",
   "metadata": {},
   "outputs": [
    {
     "data": {
      "text/plain": [
       "{'beautifulsoup4',\n",
       " 'cssutils',\n",
       " 'datasets',\n",
       " 'datasketch',\n",
       " 'emoji',\n",
       " 'flaml',\n",
       " 'fredapi',\n",
       " 'ftfy',\n",
       " 'fugashi',\n",
       " 'google-api-python-client',\n",
       " 'google-cloud-storage>=2.0.0',\n",
       " 'html-to-json',\n",
       " 'joblib',\n",
       " 'jsonlines',\n",
       " 'jsonpath-ng',\n",
       " 'kaleido',\n",
       " 'loky',\n",
       " 'lsh',\n",
       " 'matplotlib',\n",
       " 'mecab-ko-dic',\n",
       " 'mecab-python3',\n",
       " 'nasdaq-data-link',\n",
       " 'nltk',\n",
       " 'orjson',\n",
       " 'p_tqdm',\n",
       " 'pathos',\n",
       " 'plotly',\n",
       " 'py7zr',\n",
       " 'pyLDAvis',\n",
       " 'pynori',\n",
       " 'pysbd',\n",
       " 'pysimdjson',\n",
       " 'rich',\n",
       " 'sacremoses',\n",
       " 'seaborn',\n",
       " 'simpletransformers',\n",
       " 'soynlp',\n",
       " 'tensorflow',\n",
       " 'tomotopy',\n",
       " 'wget',\n",
       " 'wordcloud',\n",
       " 'yellowbrick',\n",
       " 'zstandard'}"
      ]
     },
     "execution_count": 6,
     "metadata": {},
     "output_type": "execute_result"
    }
   ],
   "source": [
    "eKonf.dependencies(\"all\")"
   ]
  }
 ],
 "metadata": {
  "jupytext": {
   "formats": "md:myst",
   "text_representation": {
    "extension": ".md",
    "format_name": "myst"
   }
  },
  "kernelspec": {
   "display_name": "Python 3",
   "language": "python",
   "name": "python3"
  },
  "language_info": {
   "codemirror_mode": {
    "name": "ipython",
    "version": 3
   },
   "file_extension": ".py",
   "mimetype": "text/x-python",
   "name": "python",
   "nbconvert_exporter": "python",
   "pygments_lexer": "ipython3",
   "version": "3.8.12"
  },
  "source_map": [
   11,
   37,
   40,
   44,
   49,
   53,
   57,
   61
  ]
 },
 "nbformat": 4,
 "nbformat_minor": 5
}