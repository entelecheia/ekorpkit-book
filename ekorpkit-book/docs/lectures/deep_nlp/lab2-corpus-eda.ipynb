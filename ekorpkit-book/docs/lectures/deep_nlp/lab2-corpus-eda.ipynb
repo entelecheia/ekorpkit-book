{
 "cells": [
  {
   "cell_type": "markdown",
   "metadata": {
    "id": "cjgz1WTcPWee"
   },
   "source": [
    "# Lab 2: EDA on Corpora\n",
    "\n",
    "![](../figs/deep_nlp/lab/eda.png)"
   ]
  },
  {
   "cell_type": "markdown",
   "metadata": {},
   "source": [
    "## Prepare the environment"
   ]
  },
  {
   "cell_type": "code",
   "execution_count": null,
   "metadata": {},
   "outputs": [],
   "source": [
    "%pip install --pre ekorpkit[wiki,fetch]"
   ]
  },
  {
   "cell_type": "code",
   "execution_count": 1,
   "metadata": {
    "id": "BzxPwsOVPWef"
   },
   "outputs": [
    {
     "name": "stderr",
     "output_type": "stream",
     "text": [
      "INFO:ekorpkit.utils.notebook:Google Colab not detected.\n",
      "INFO:ekorpkit.base:Setting EKORPKIT_WORKSPACE_ROOT to /content/drive/MyDrive/workspace/\n",
      "INFO:ekorpkit.base:Setting EKORPKIT_PROJECT to ekorpkit-book\n",
      "INFO:ekorpkit.base:Loaded .env from /workspace/projects/ekorpkit-book/config/.env\n"
     ]
    },
    {
     "name": "stdout",
     "output_type": "stream",
     "text": [
      "version: 0.1.40.post0.dev6\n",
      "is colab? False\n",
      "project_dir: /content/drive/MyDrive/workspace/projects/ekorpkit-book\n",
      "time: 1.5 s (started: 2022-11-04 04:53:44 +00:00)\n"
     ]
    }
   ],
   "source": [
    "%config InlineBackend.figure_format='retina'\n",
    "%load_ext autotime\n",
    "\n",
    "from ekorpkit import eKonf\n",
    "\n",
    "eKonf.setLogger(\"INFO\")\n",
    "print(\"version:\", eKonf.__version__)\n",
    "\n",
    "is_colab = eKonf.is_colab()\n",
    "print(\"is colab?\", is_colab)\n",
    "if is_colab:\n",
    "    eKonf.mount_google_drive()\n",
    "project_dir = eKonf.set_workspace(workspace=\"/content/drive/MyDrive/workspace/\", project=\"ekorpkit-book\")\n",
    "print(\"project_dir:\", project_dir)"
   ]
  },
  {
   "cell_type": "markdown",
   "metadata": {
    "id": "it1Y0MVPXRsJ"
   },
   "source": [
    "## Load the saved corpora"
   ]
  },
  {
   "cell_type": "code",
   "execution_count": 2,
   "metadata": {},
   "outputs": [
    {
     "name": "stderr",
     "output_type": "stream",
     "text": [
      "INFO:ekorpkit.io.file:Processing [1] files from ['wiki_corpus.parquet']\n",
      "INFO:ekorpkit.io.file:Loading 1 dataframes from ['/content/drive/MyDrive/workspace/projects/ekorpkit-book/data/wiki_corpus.parquet']\n",
      "INFO:ekorpkit.io.file:Loading data from /content/drive/MyDrive/workspace/projects/ekorpkit-book/data/wiki_corpus.parquet\n"
     ]
    },
    {
     "name": "stdout",
     "output_type": "stream",
     "text": [
      "time: 14.6 s (started: 2022-11-04 04:53:47 +00:00)\n"
     ]
    }
   ],
   "source": [
    "data = eKonf.load_data(\"wiki_corpus.parquet\", project_dir + \"/data\")"
   ]
  },
  {
   "cell_type": "code",
   "execution_count": 3,
   "metadata": {},
   "outputs": [
    {
     "data": {
      "text/html": [
       "<div>\n",
       "<style scoped>\n",
       "    .dataframe tbody tr th:only-of-type {\n",
       "        vertical-align: middle;\n",
       "    }\n",
       "\n",
       "    .dataframe tbody tr th {\n",
       "        vertical-align: top;\n",
       "    }\n",
       "\n",
       "    .dataframe thead th {\n",
       "        text-align: right;\n",
       "    }\n",
       "</style>\n",
       "<table border=\"1\" class=\"dataframe\">\n",
       "  <thead>\n",
       "    <tr style=\"text-align: right;\">\n",
       "      <th></th>\n",
       "      <th>id</th>\n",
       "      <th>text</th>\n",
       "      <th>split</th>\n",
       "      <th>filename</th>\n",
       "      <th>corpus</th>\n",
       "    </tr>\n",
       "  </thead>\n",
       "  <tbody>\n",
       "    <tr>\n",
       "      <th>0</th>\n",
       "      <td>4915400</td>\n",
       "      <td></td>\n",
       "      <td>train</td>\n",
       "      <td>wiki_92</td>\n",
       "      <td>enwiki_sampled</td>\n",
       "    </tr>\n",
       "    <tr>\n",
       "      <th>1</th>\n",
       "      <td>7644961</td>\n",
       "      <td>Anaissini is a tribe of click beetles in the f...</td>\n",
       "      <td>train</td>\n",
       "      <td>wiki_49</td>\n",
       "      <td>enwiki_sampled</td>\n",
       "    </tr>\n",
       "    <tr>\n",
       "      <th>2</th>\n",
       "      <td>6658552</td>\n",
       "      <td>The Vicky Metcalf Award for Literature for You...</td>\n",
       "      <td>train</td>\n",
       "      <td>wiki_24</td>\n",
       "      <td>enwiki_sampled</td>\n",
       "    </tr>\n",
       "    <tr>\n",
       "      <th>3</th>\n",
       "      <td>16385169</td>\n",
       "      <td>Shri Shivabalayogi Maharaj (24 January 1935 – ...</td>\n",
       "      <td>train</td>\n",
       "      <td>wiki_36</td>\n",
       "      <td>enwiki_sampled</td>\n",
       "    </tr>\n",
       "    <tr>\n",
       "      <th>4</th>\n",
       "      <td>11081255</td>\n",
       "      <td>Eylex Films Pvt is a chain of multiplex and si...</td>\n",
       "      <td>train</td>\n",
       "      <td>wiki_94</td>\n",
       "      <td>enwiki_sampled</td>\n",
       "    </tr>\n",
       "  </tbody>\n",
       "</table>\n",
       "</div>"
      ],
      "text/plain": [
       "         id                                               text  split  \\\n",
       "0   4915400                                                     train   \n",
       "1   7644961  Anaissini is a tribe of click beetles in the f...  train   \n",
       "2   6658552  The Vicky Metcalf Award for Literature for You...  train   \n",
       "3  16385169  Shri Shivabalayogi Maharaj (24 January 1935 – ...  train   \n",
       "4  11081255  Eylex Films Pvt is a chain of multiplex and si...  train   \n",
       "\n",
       "  filename          corpus  \n",
       "0  wiki_92  enwiki_sampled  \n",
       "1  wiki_49  enwiki_sampled  \n",
       "2  wiki_24  enwiki_sampled  \n",
       "3  wiki_36  enwiki_sampled  \n",
       "4  wiki_94  enwiki_sampled  "
      ]
     },
     "execution_count": 3,
     "metadata": {},
     "output_type": "execute_result"
    },
    {
     "name": "stdout",
     "output_type": "stream",
     "text": [
      "time: 10.6 ms (started: 2022-11-04 04:54:02 +00:00)\n"
     ]
    }
   ],
   "source": [
    "data.head()"
   ]
  },
  {
   "cell_type": "code",
   "execution_count": 4,
   "metadata": {},
   "outputs": [
    {
     "name": "stdout",
     "output_type": "stream",
     "text": [
      "<class 'pandas.core.frame.DataFrame'>\n",
      "RangeIndex: 2522593 entries, 0 to 2522592\n",
      "Data columns (total 5 columns):\n",
      " #   Column    Dtype \n",
      "---  ------    ----- \n",
      " 0   id        int64 \n",
      " 1   text      object\n",
      " 2   split     object\n",
      " 3   filename  object\n",
      " 4   corpus    object\n",
      "dtypes: int64(1), object(4)\n",
      "memory usage: 96.2+ MB\n",
      "time: 4.08 ms (started: 2022-11-04 04:54:02 +00:00)\n"
     ]
    }
   ],
   "source": [
    "data.info()"
   ]
  },
  {
   "cell_type": "markdown",
   "metadata": {},
   "source": [
    "### Filter and use only selected corpora"
   ]
  },
  {
   "cell_type": "code",
   "execution_count": 6,
   "metadata": {},
   "outputs": [
    {
     "data": {
      "text/html": [
       "<div>\n",
       "<style scoped>\n",
       "    .dataframe tbody tr th:only-of-type {\n",
       "        vertical-align: middle;\n",
       "    }\n",
       "\n",
       "    .dataframe tbody tr th {\n",
       "        vertical-align: top;\n",
       "    }\n",
       "\n",
       "    .dataframe thead th {\n",
       "        text-align: right;\n",
       "    }\n",
       "</style>\n",
       "<table border=\"1\" class=\"dataframe\">\n",
       "  <thead>\n",
       "    <tr style=\"text-align: right;\">\n",
       "      <th></th>\n",
       "      <th>id</th>\n",
       "      <th>text</th>\n",
       "      <th>split</th>\n",
       "      <th>filename</th>\n",
       "      <th>corpus</th>\n",
       "    </tr>\n",
       "  </thead>\n",
       "  <tbody>\n",
       "    <tr>\n",
       "      <th>2174042</th>\n",
       "      <td>1339043</td>\n",
       "      <td>《그랜드 테프트 오토 2》()는 1999년 8월 22일 전 세계적으로 발매된 록스타...</td>\n",
       "      <td>train</td>\n",
       "      <td>wiki_34</td>\n",
       "      <td>kowiki</td>\n",
       "    </tr>\n",
       "    <tr>\n",
       "      <th>2174043</th>\n",
       "      <td>1339044</td>\n",
       "      <td>알아크사 모스크( المسجد الأقصى; מסגד אל-אקצא; Al-Aqsa...</td>\n",
       "      <td>train</td>\n",
       "      <td>wiki_34</td>\n",
       "      <td>kowiki</td>\n",
       "    </tr>\n",
       "    <tr>\n",
       "      <th>2174044</th>\n",
       "      <td>1339045</td>\n",
       "      <td>PlanetBoom(함경민)은 펜타비전에서 사운드 프로듀서를 맡고 있는 대한민국의 ...</td>\n",
       "      <td>train</td>\n",
       "      <td>wiki_34</td>\n",
       "      <td>kowiki</td>\n",
       "    </tr>\n",
       "    <tr>\n",
       "      <th>2174045</th>\n",
       "      <td>1339046</td>\n",
       "      <td></td>\n",
       "      <td>train</td>\n",
       "      <td>wiki_34</td>\n",
       "      <td>kowiki</td>\n",
       "    </tr>\n",
       "    <tr>\n",
       "      <th>2174046</th>\n",
       "      <td>1339047</td>\n",
       "      <td>《그랜드 테프트 오토 3》(, GTA III) 은 DMA디자인(현재의 록스타 노스)...</td>\n",
       "      <td>train</td>\n",
       "      <td>wiki_34</td>\n",
       "      <td>kowiki</td>\n",
       "    </tr>\n",
       "  </tbody>\n",
       "</table>\n",
       "</div>"
      ],
      "text/plain": [
       "              id                                               text  split  \\\n",
       "2174042  1339043  《그랜드 테프트 오토 2》()는 1999년 8월 22일 전 세계적으로 발매된 록스타...  train   \n",
       "2174043  1339044  알아크사 모스크( المسجد الأقصى; מסגד אל-אקצא; Al-Aqsa...  train   \n",
       "2174044  1339045  PlanetBoom(함경민)은 펜타비전에서 사운드 프로듀서를 맡고 있는 대한민국의 ...  train   \n",
       "2174045  1339046                                                     train   \n",
       "2174046  1339047  《그랜드 테프트 오토 3》(, GTA III) 은 DMA디자인(현재의 록스타 노스)...  train   \n",
       "\n",
       "        filename  corpus  \n",
       "2174042  wiki_34  kowiki  \n",
       "2174043  wiki_34  kowiki  \n",
       "2174044  wiki_34  kowiki  \n",
       "2174045  wiki_34  kowiki  \n",
       "2174046  wiki_34  kowiki  "
      ]
     },
     "execution_count": 6,
     "metadata": {},
     "output_type": "execute_result"
    },
    {
     "name": "stdout",
     "output_type": "stream",
     "text": [
      "time: 195 ms (started: 2022-11-04 04:54:34 +00:00)\n"
     ]
    }
   ],
   "source": [
    "enko = data[data.corpus.isin([\"enwiki_sampled\", \"kowiki\"])]\n",
    "enko.tail()"
   ]
  },
  {
   "cell_type": "markdown",
   "metadata": {},
   "source": [
    "## Basic statistics"
   ]
  },
  {
   "cell_type": "code",
   "execution_count": 13,
   "metadata": {},
   "outputs": [
    {
     "name": "stdout",
     "output_type": "stream",
     "text": [
      "time: 532 µs (started: 2022-11-04 05:11:23 +00:00)\n"
     ]
    }
   ],
   "source": [
    "import numpy as np\n",
    "import nltk\n",
    "from nltk.tokenize import sent_tokenize\n",
    "import seaborn as sns\n",
    "\n",
    "# Character counts\n",
    "enko[\"num_chars\"] = enko[\"text\"].map(lambda x: len(x))\n",
    "# Word counts\n",
    "enko[\"num_words\"] = enko[\"text\"].map(lambda x: len(x.split()))\n"
   ]
  },
  {
   "cell_type": "code",
   "execution_count": 21,
   "metadata": {},
   "outputs": [
    {
     "data": {
      "text/html": [
       "<div>\n",
       "<style scoped>\n",
       "    .dataframe tbody tr th:only-of-type {\n",
       "        vertical-align: middle;\n",
       "    }\n",
       "\n",
       "    .dataframe tbody tr th {\n",
       "        vertical-align: top;\n",
       "    }\n",
       "\n",
       "    .dataframe thead th {\n",
       "        text-align: right;\n",
       "    }\n",
       "</style>\n",
       "<table border=\"1\" class=\"dataframe\">\n",
       "  <thead>\n",
       "    <tr style=\"text-align: right;\">\n",
       "      <th></th>\n",
       "      <th>num_chars</th>\n",
       "      <th>num_words</th>\n",
       "    </tr>\n",
       "  </thead>\n",
       "  <tbody>\n",
       "    <tr>\n",
       "      <th>count</th>\n",
       "      <td>2174047</td>\n",
       "      <td>2174047</td>\n",
       "    </tr>\n",
       "    <tr>\n",
       "      <th>mean</th>\n",
       "      <td>513</td>\n",
       "      <td>92</td>\n",
       "    </tr>\n",
       "    <tr>\n",
       "      <th>std</th>\n",
       "      <td>2274</td>\n",
       "      <td>391</td>\n",
       "    </tr>\n",
       "    <tr>\n",
       "      <th>min</th>\n",
       "      <td>0</td>\n",
       "      <td>0</td>\n",
       "    </tr>\n",
       "    <tr>\n",
       "      <th>25%</th>\n",
       "      <td>0</td>\n",
       "      <td>0</td>\n",
       "    </tr>\n",
       "    <tr>\n",
       "      <th>50%</th>\n",
       "      <td>0</td>\n",
       "      <td>0</td>\n",
       "    </tr>\n",
       "    <tr>\n",
       "      <th>75%</th>\n",
       "      <td>184</td>\n",
       "      <td>35</td>\n",
       "    </tr>\n",
       "    <tr>\n",
       "      <th>max</th>\n",
       "      <td>264937</td>\n",
       "      <td>45338</td>\n",
       "    </tr>\n",
       "  </tbody>\n",
       "</table>\n",
       "</div>"
      ],
      "text/plain": [
       "       num_chars  num_words\n",
       "count    2174047    2174047\n",
       "mean         513         92\n",
       "std         2274        391\n",
       "min            0          0\n",
       "25%            0          0\n",
       "50%            0          0\n",
       "75%          184         35\n",
       "max       264937      45338"
      ]
     },
     "execution_count": 21,
     "metadata": {},
     "output_type": "execute_result"
    },
    {
     "name": "stdout",
     "output_type": "stream",
     "text": [
      "time: 98.2 ms (started: 2022-11-04 05:23:26 +00:00)\n"
     ]
    }
   ],
   "source": [
    "# format pandas display options\n",
    "import pandas as pd\n",
    "\n",
    "pd.options.display.float_format = \"{:.0f}\".format\n",
    "\n",
    "# min, max, mean, median, iqr, std\n",
    "enko[[\"num_chars\", \"num_words\"]].describe()"
   ]
  },
  {
   "cell_type": "code",
   "execution_count": 25,
   "metadata": {},
   "outputs": [
    {
     "name": "stdout",
     "output_type": "stream",
     "text": [
      "time: 67.3 ms (started: 2022-11-04 05:27:42 +00:00)\n"
     ]
    }
   ],
   "source": [
    "# filter out outliers\n",
    "\n",
    "enko_filtered = enko[enko.num_words.between(10, 250)]"
   ]
  },
  {
   "cell_type": "code",
   "execution_count": 26,
   "metadata": {},
   "outputs": [
    {
     "data": {
      "text/html": [
       "<div>\n",
       "<style scoped>\n",
       "    .dataframe tbody tr th:only-of-type {\n",
       "        vertical-align: middle;\n",
       "    }\n",
       "\n",
       "    .dataframe tbody tr th {\n",
       "        vertical-align: top;\n",
       "    }\n",
       "\n",
       "    .dataframe thead th {\n",
       "        text-align: right;\n",
       "    }\n",
       "</style>\n",
       "<table border=\"1\" class=\"dataframe\">\n",
       "  <thead>\n",
       "    <tr style=\"text-align: right;\">\n",
       "      <th></th>\n",
       "      <th>num_chars</th>\n",
       "      <th>num_words</th>\n",
       "    </tr>\n",
       "  </thead>\n",
       "  <tbody>\n",
       "    <tr>\n",
       "      <th>count</th>\n",
       "      <td>603719</td>\n",
       "      <td>603719</td>\n",
       "    </tr>\n",
       "    <tr>\n",
       "      <th>mean</th>\n",
       "      <td>379</td>\n",
       "      <td>72</td>\n",
       "    </tr>\n",
       "    <tr>\n",
       "      <th>std</th>\n",
       "      <td>343</td>\n",
       "      <td>62</td>\n",
       "    </tr>\n",
       "    <tr>\n",
       "      <th>min</th>\n",
       "      <td>25</td>\n",
       "      <td>10</td>\n",
       "    </tr>\n",
       "    <tr>\n",
       "      <th>25%</th>\n",
       "      <td>114</td>\n",
       "      <td>22</td>\n",
       "    </tr>\n",
       "    <tr>\n",
       "      <th>50%</th>\n",
       "      <td>248</td>\n",
       "      <td>47</td>\n",
       "    </tr>\n",
       "    <tr>\n",
       "      <th>75%</th>\n",
       "      <td>549</td>\n",
       "      <td>106</td>\n",
       "    </tr>\n",
       "    <tr>\n",
       "      <th>max</th>\n",
       "      <td>3432</td>\n",
       "      <td>250</td>\n",
       "    </tr>\n",
       "  </tbody>\n",
       "</table>\n",
       "</div>"
      ],
      "text/plain": [
       "       num_chars  num_words\n",
       "count     603719     603719\n",
       "mean         379         72\n",
       "std          343         62\n",
       "min           25         10\n",
       "25%          114         22\n",
       "50%          248         47\n",
       "75%          549        106\n",
       "max         3432        250"
      ]
     },
     "execution_count": 26,
     "metadata": {},
     "output_type": "execute_result"
    },
    {
     "name": "stdout",
     "output_type": "stream",
     "text": [
      "time: 38.6 ms (started: 2022-11-04 05:27:44 +00:00)\n"
     ]
    }
   ],
   "source": [
    "enko_filtered[[\"num_chars\", \"num_words\"]].describe()"
   ]
  },
  {
   "cell_type": "code",
   "execution_count": 27,
   "metadata": {},
   "outputs": [
    {
     "data": {
      "text/plain": [
       "<AxesSubplot:xlabel='num_chars', ylabel='Count'>"
      ]
     },
     "execution_count": 27,
     "metadata": {},
     "output_type": "execute_result"
    },
    {
     "data": {
      "image/png": "[encoded data removed]",
      "text/plain": [
       "<Figure size 432x288 with 1 Axes>"
      ]
     },
     "metadata": {
      "image/png": {
       "height": 262,
       "width": 405
      },
      "needs_background": "light"
     },
     "output_type": "display_data"
    },
    {
     "name": "stdout",
     "output_type": "stream",
     "text": [
      "time: 4.44 s (started: 2022-11-04 05:27:54 +00:00)\n"
     ]
    }
   ],
   "source": [
    "# Histogram\n",
    "sns.histplot(data=enko_filtered, x=\"num_chars\", hue=\"corpus\", kde=True)"
   ]
  },
  {
   "cell_type": "code",
   "execution_count": 28,
   "metadata": {},
   "outputs": [
    {
     "data": {
      "text/plain": [
       "<AxesSubplot:xlabel='num_words', ylabel='Count'>"
      ]
     },
     "execution_count": 28,
     "metadata": {},
     "output_type": "execute_result"
    },
    {
     "data": {
      "image/png": "[encoded data removed]",
      "text/plain": [
       "<Figure size 432x288 with 1 Axes>"
      ]
     },
     "metadata": {
      "image/png": {
       "height": 262,
       "width": 401
      },
      "needs_background": "light"
     },
     "output_type": "display_data"
    },
    {
     "name": "stdout",
     "output_type": "stream",
     "text": [
      "time: 3.13 s (started: 2022-11-04 05:28:08 +00:00)\n"
     ]
    }
   ],
   "source": [
    "# Histogram\n",
    "sns.histplot(data=enko_filtered, x=\"num_words\", hue=\"corpus\", kde=True)"
   ]
  },
  {
   "cell_type": "code",
   "execution_count": 14,
   "metadata": {},
   "outputs": [
    {
     "name": "stdout",
     "output_type": "stream",
     "text": [
      "time: 4min 50s (started: 2022-11-04 05:11:46 +00:00)\n"
     ]
    }
   ],
   "source": [
    "# Sentence counts\n",
    "enko_filtered[\"num_sents\"] = enko_filtered[\"text\"].map(lambda x: len(sent_tokenize(x)))"
   ]
  },
  {
   "cell_type": "code",
   "execution_count": 29,
   "metadata": {},
   "outputs": [
    {
     "data": {
      "text/plain": [
       "<AxesSubplot:xlabel='num_sents', ylabel='Count'>"
      ]
     },
     "execution_count": 29,
     "metadata": {},
     "output_type": "execute_result"
    },
    {
     "data": {
      "image/png": "[encoded data removed]",
      "text/plain": [
       "<Figure size 432x288 with 1 Axes>"
      ]
     },
     "metadata": {
      "image/png": {
       "height": 261,
       "width": 401
      },
      "needs_background": "light"
     },
     "output_type": "display_data"
    },
    {
     "name": "stdout",
     "output_type": "stream",
     "text": [
      "time: 5.48 s (started: 2022-11-04 05:28:47 +00:00)\n"
     ]
    }
   ],
   "source": [
    "# Histogram\n",
    "sns.histplot(data=enko_filtered, x=\"num_sents\", hue=\"corpus\", kde=True)"
   ]
  },
  {
   "cell_type": "code",
   "execution_count": 30,
   "metadata": {},
   "outputs": [
    {
     "name": "stdout",
     "output_type": "stream",
     "text": [
      "time: 137 ms (started: 2022-11-04 05:29:16 +00:00)\n"
     ]
    }
   ],
   "source": [
    "# Average number of characters per word\n",
    "enko_filtered[\"avg_num_chars\"] = enko_filtered[\"num_chars\"] / enko[\"num_words\"]"
   ]
  },
  {
   "cell_type": "code",
   "execution_count": 31,
   "metadata": {},
   "outputs": [
    {
     "data": {
      "text/plain": [
       "<AxesSubplot:xlabel='avg_num_chars', ylabel='Count'>"
      ]
     },
     "execution_count": 31,
     "metadata": {},
     "output_type": "execute_result"
    },
    {
     "data": {
      "image/png": "[encoded data removed]",
      "text/plain": [
       "<Figure size 432x288 with 1 Axes>"
      ]
     },
     "metadata": {
      "image/png": {
       "height": 262,
       "width": 401
      },
      "needs_background": "light"
     },
     "output_type": "display_data"
    },
    {
     "name": "stdout",
     "output_type": "stream",
     "text": [
      "time: 21.1 s (started: 2022-11-04 05:29:20 +00:00)\n"
     ]
    }
   ],
   "source": [
    "# Histogram\n",
    "sns.histplot(data = enko_filtered, x = \"avg_num_chars\", hue = \"corpus\", kde = True)"
   ]
  },
  {
   "cell_type": "code",
   "execution_count": 32,
   "metadata": {},
   "outputs": [
    {
     "name": "stdout",
     "output_type": "stream",
     "text": [
      "time: 114 ms (started: 2022-11-04 05:29:42 +00:00)\n"
     ]
    }
   ],
   "source": [
    "# Average number of words per sentence\n",
    "enko_filtered[\"avg_num_words\"] = enko_filtered[\"num_words\"] / enko[\"num_sents\"]"
   ]
  },
  {
   "cell_type": "code",
   "execution_count": 33,
   "metadata": {},
   "outputs": [
    {
     "data": {
      "text/plain": [
       "<AxesSubplot:xlabel='avg_num_words', ylabel='Count'>"
      ]
     },
     "execution_count": 33,
     "metadata": {},
     "output_type": "execute_result"
    },
    {
     "data": {
      "image/png": "[encoded data removed]",
      "text/plain": [
       "<Figure size 432x288 with 1 Axes>"
      ]
     },
     "metadata": {
      "image/png": {
       "height": 262,
       "width": 401
      },
      "needs_background": "light"
     },
     "output_type": "display_data"
    },
    {
     "name": "stdout",
     "output_type": "stream",
     "text": [
      "time: 7 s (started: 2022-11-04 05:29:42 +00:00)\n"
     ]
    }
   ],
   "source": [
    "# Histogram\n",
    "sns.histplot(data=enko_filtered, x=\"avg_num_words\", hue=\"corpus\", kde=True)"
   ]
  },
  {
   "cell_type": "markdown",
   "metadata": {},
   "source": [
    "## Term Frequency Analysis"
   ]
  },
  {
   "cell_type": "code",
   "execution_count": 34,
   "metadata": {},
   "outputs": [
    {
     "name": "stdout",
     "output_type": "stream",
     "text": [
      "time: 895 ms (started: 2022-11-04 05:32:17 +00:00)\n"
     ]
    }
   ],
   "source": [
    "# lower case\n",
    "enko_filtered[\"text\"] = enko_filtered[\"text\"].map(lambda x: x.lower())"
   ]
  },
  {
   "cell_type": "code",
   "execution_count": 37,
   "metadata": {},
   "outputs": [],
   "source": [
    "# get all words of english and korean corpus\n",
    "\n",
    "words_en = sum(\n",
    "    enko_filtered[enko_filtered.corpus == \"enwiki_sampled\"][\"text\"]\n",
    "    .str.split()\n",
    "    .tolist(),\n",
    "    [],\n",
    ")\n",
    "words_ko = sum(\n",
    "    enko_filtered[enko_filtered.corpus == \"kowiki\"][\"text\"].str.split().tolist(), []\n",
    ")"
   ]
  },
  {
   "cell_type": "code",
   "execution_count": null,
   "metadata": {},
   "outputs": [],
   "source": [
    "from collections import Counter\n",
    "\n",
    "counter_en = Counter(words_en)\n",
    "counter_ko = Counter(words_ko)"
   ]
  },
  {
   "cell_type": "code",
   "execution_count": null,
   "metadata": {},
   "outputs": [],
   "source": [
    "# top 10 words in english corpus\n",
    "\n",
    "counter_en.most_common(10)"
   ]
  },
  {
   "cell_type": "code",
   "execution_count": null,
   "metadata": {},
   "outputs": [],
   "source": [
    "# top 10 words in korean corpus\n",
    "\n",
    "counter_ko.most_common(10)"
   ]
  },
  {
   "cell_type": "code",
   "execution_count": null,
   "metadata": {},
   "outputs": [],
   "source": [
    "# Plot 20 most common words after removing top 20 common words\n",
    "import matplotlib.pyplot as plt\n",
    "\n",
    "most_common_en = counter_en.most_common()[20:40]\n",
    "most_common_ko = counter_ko.most_common()[20:40]\n",
    "\n",
    "\n",
    "# Change the font to Korean font\n",
    "# You may need to install the font first\n",
    "plt.rcParams[\"font.family\"] = \"NanumGothic\"\n",
    "\n",
    "plt.figure(figsize=(20, 10))\n",
    "plt.subplot(1, 2, 1)\n",
    "plt.bar(range(20), [x[1] for x in most_common_en])\n",
    "plt.xticks(range(20), [x[0] for x in most_common_en], rotation=90)\n",
    "plt.title(\"English\")\n",
    "\n",
    "plt.subplot(1, 2, 2)\n",
    "plt.bar(range(20), [x[1] for x in most_common_ko])\n",
    "plt.xticks(range(20), [x[0] for x in most_common_ko], rotation=90)\n",
    "plt.title(\"Korean\")\n",
    "\n",
    "plt.show()"
   ]
  },
  {
   "cell_type": "markdown",
   "metadata": {},
   "source": [
    "## Most Frequent N-Grams"
   ]
  },
  {
   "cell_type": "code",
   "execution_count": null,
   "metadata": {},
   "outputs": [],
   "source": [
    "from sklearn.feature_extraction.text import CountVectorizer\n",
    "\n",
    "# Initialize CountVectorizer\n",
    "vec = CountVectorizer(ngram_range=(2, 2))\n",
    "\n",
    "# Fit and transform\n",
    "ngram_counts_en = vec.fit_transform(\n",
    "    enko_filtered[enko_filtered.corpus == \"enwiki_sampled\"][\"text\"]\n",
    ")\n",
    "ngram_counts_ko = vec.fit_transform(\n",
    "    enko_filtered[enko_filtered.corpus == \"kowiki\"][\"text\"]\n",
    ")\n",
    "\n",
    "# Get the n-gram counts\n",
    "ngram_counts_en = ngram_counts_en.sum(axis=0).A1\n",
    "ngram_counts_ko = ngram_counts_ko.sum(axis=0).A1\n",
    "\n",
    "# Create a DataFrame\n",
    "ngram_counts_df_en = pd.DataFrame(\n",
    "    sorted(zip(vec.get_feature_names(), ngram_counts_en), key=lambda x: x[1], reverse=True),\n",
    "    columns=[\"ngram\", \"count\"],\n",
    ")\n",
    "ngram_counts_df_ko = pd.DataFrame(\n",
    "    sorted(zip(vec.get_feature_names(), ngram_counts_ko), key=lambda x: x[1], reverse=True),\n",
    "    columns=[\"ngram\", \"count\"],\n",
    ")"
   ]
  },
  {
   "cell_type": "code",
   "execution_count": null,
   "metadata": {},
   "outputs": [],
   "source": [
    "# plot 20 most common n-grams\n",
    "\n",
    "plt.figure(figsize=(20, 10))\n",
    "plt.subplot(1, 2, 1)\n",
    "plt.bar(range(20), ngram_counts_df_en[\"count\"][:20])\n",
    "plt.xticks(range(20), ngram_counts_df_en[\"ngram\"][:20], rotation=90)\n",
    "plt.title(\"English\")\n",
    "\n",
    "plt.subplot(1, 2, 2)\n",
    "plt.bar(range(20), ngram_counts_df_ko[\"count\"][:20])\n",
    "plt.xticks(range(20), ngram_counts_df_ko[\"ngram\"][:20], rotation=90)\n",
    "plt.title(\"Korean\")\n",
    "\n",
    "plt.show()"
   ]
  },
  {
   "cell_type": "markdown",
   "metadata": {},
   "source": [
    "## Word Cloud"
   ]
  },
  {
   "cell_type": "code",
   "execution_count": null,
   "metadata": {},
   "outputs": [],
   "source": [
    "# Function for generating word clouds\n",
    "from wordcloud import WordCloud\n",
    "\n",
    "\n",
    "def generate_wordcloud(\n",
    "    data,\n",
    "    title,\n",
    "    width=400,\n",
    "    height=330,\n",
    "    max_words=150,\n",
    "    figsize=(10, 8),\n",
    "    colormap=\"Dark2\",\n",
    "    background_color=\"white\",\n",
    "):\n",
    "    wc = WordCloud(\n",
    "        width=width,\n",
    "        height=height,\n",
    "        max_words=max_words,\n",
    "        colormap=colormap,\n",
    "        background_color=background_color,\n",
    "    ).generate_from_frequencies(data)\n",
    "    plt.figure(figsize=figsize)\n",
    "    plt.imshow(wc, interpolation=\"bilinear\")\n",
    "    plt.axis(\"off\")\n",
    "    plt.title(title, fontsize=13)\n",
    "    plt.show()"
   ]
  },
  {
   "cell_type": "code",
   "execution_count": null,
   "metadata": {},
   "outputs": [],
   "source": [
    "# Generate word clouds\n",
    "\n",
    "# English\n",
    "generate_wordcloud(\n",
    "    dict(counter_en.most_common(20)),\n",
    "    \"English\",\n",
    ")\n",
    "\n",
    "# Korean\n",
    "generate_wordcloud(\n",
    "    dict(counter_ko.most_common(20)),\n",
    "    \"Korean\",\n",
    ")"
   ]
  },
  {
   "cell_type": "code",
   "execution_count": null,
   "metadata": {},
   "outputs": [],
   "source": [
    "# Generate word clouds for n-grams\n",
    "\n",
    "# English\n",
    "generate_wordcloud(\n",
    "    dict(ngram_counts_df_en.set_index(\"ngram\")[\"count\"]),\n",
    "    \"English\",\n",
    ")\n",
    "\n",
    "# Korean\n",
    "generate_wordcloud(\n",
    "    dict(ngram_counts_df_ko.set_index(\"ngram\")[\"count\"]),\n",
    "    \"Korean\",\n",
    ")"
   ]
  }
 ],
 "metadata": {
  "colab": {
   "name": "corpus.ipynb",
   "provenance": []
  },
  "kernelspec": {
   "display_name": "Python 3 (ipykernel)",
   "language": "python",
   "name": "python3"
  },
  "language_info": {
   "codemirror_mode": {
    "name": "ipython",
    "version": 3
   },
   "file_extension": ".py",
   "mimetype": "text/x-python",
   "name": "python",
   "nbconvert_exporter": "python",
   "pygments_lexer": "ipython3",
   "version": "3.8.12"
  },
  "vscode": {
   "interpreter": {
    "hash": "d4d1e4263499bec80672ea0156c357c1ee493ec2b1c70f0acce89fc37c4a6abe"
   }
  },
  "widgets": {
   "application/vnd.jupyter.widget-state+json": {
    "state": {},
    "version_major": 2,
    "version_minor": 0
   }
  }
 },
 "nbformat": 4,
 "nbformat_minor": 1
}
