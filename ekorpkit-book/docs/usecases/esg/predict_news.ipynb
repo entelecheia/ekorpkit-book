{
 "cells": [
  {
   "cell_type": "markdown",
   "metadata": {
    "id": "cjgz1WTcPWee",
    "pycharm": {
     "name": "#%% md\n"
    }
   },
   "source": [
    "# Predicting ESG Categories and Polarities"
   ]
  },
  {
   "cell_type": "code",
   "execution_count": 1,
   "metadata": {
    "id": "BzxPwsOVPWef",
    "pycharm": {
     "name": "#%%\n"
    }
   },
   "outputs": [
    {
     "name": "stderr",
     "output_type": "stream",
     "text": [
      "INFO:ekorpkit.base:Setting cuda device to ['A100-SXM4-40GB (id:0)']\n",
      "INFO:ekorpkit.base:shell type: ZMQInteractiveShell\n",
      "INFO:ekorpkit.base:Google Colab not detected.\n"
     ]
    },
    {
     "name": "stdout",
     "output_type": "stream",
     "text": [
      "version: 0.1.38+19.g57d76db.dirty\n",
      "is notebook? True\n",
      "is colab? False\n",
      "environment variables:\n",
      "{'CUDA_DEVICE_ORDER': 'PCI_BUS_ID',\n",
      " 'CUDA_VISIBLE_DEVICES': '0',\n",
      " 'EKORPKIT_CONFIG_DIR': '/workspace/projects/ekorpkit-book/config',\n",
      " 'EKORPKIT_DATA_DIR': None,\n",
      " 'EKORPKIT_LOG_LEVEL': 'WARNING',\n",
      " 'EKORPKIT_PROJECT': 'ekorpkit-book',\n",
      " 'EKORPKIT_WORKSPACE_ROOT': '/workspace',\n",
      " 'KMP_DUPLICATE_LIB_OK': 'TRUE',\n",
      " 'NUM_WORKERS': 230}\n"
     ]
    }
   ],
   "source": [
    "from ekorpkit import eKonf\n",
    "\n",
    "eKonf.setLogger(\"WARNING\")\n",
    "eKonf.set_cuda(device=0)\n",
    "print(\"version:\", eKonf.__version__)\n",
    "print(\"is notebook?\", eKonf.is_notebook())\n",
    "print(\"is colab?\", eKonf.is_colab())\n",
    "print(\"environment variables:\")\n",
    "eKonf.print(eKonf.env().dict())"
   ]
  },
  {
   "cell_type": "code",
   "execution_count": 2,
   "metadata": {
    "pycharm": {
     "name": "#%%\n"
    }
   },
   "outputs": [],
   "source": [
    "data_dir = \"../data/econ_news_kr\"\n"
   ]
  },
  {
   "cell_type": "markdown",
   "metadata": {
    "id": "zpdqyeyPPWek",
    "pycharm": {
     "name": "#%% md\n"
    }
   },
   "source": [
    "## Load data"
   ]
  },
  {
   "cell_type": "code",
   "execution_count": 3,
   "metadata": {
    "colab": {
     "base_uri": "https://localhost:8080/"
    },
    "id": "DFsykazvPWel",
    "outputId": "7ab40ae7-42ba-4b6c-f0da-908c6d45ddb9",
    "pycharm": {
     "name": "#%%\n"
    }
   },
   "outputs": [
    {
     "data": {
      "text/html": [
       "<div>\n",
       "<style scoped>\n",
       "    .dataframe tbody tr th:only-of-type {\n",
       "        vertical-align: middle;\n",
       "    }\n",
       "\n",
       "    .dataframe tbody tr th {\n",
       "        vertical-align: top;\n",
       "    }\n",
       "\n",
       "    .dataframe thead th {\n",
       "        text-align: right;\n",
       "    }\n",
       "</style>\n",
       "<table border=\"1\" class=\"dataframe\">\n",
       "  <thead>\n",
       "    <tr style=\"text-align: right;\">\n",
       "      <th></th>\n",
       "      <th>id</th>\n",
       "      <th>chunk_id</th>\n",
       "      <th>text</th>\n",
       "      <th>filename</th>\n",
       "    </tr>\n",
       "  </thead>\n",
       "  <tbody>\n",
       "    <tr>\n",
       "      <th>0</th>\n",
       "      <td>1</td>\n",
       "      <td>0</td>\n",
       "      <td>2030을 주축으로 한 이른바 '동학개미운동'이 계속되는 등 주식 투자 열풍이 사그...</td>\n",
       "      <td>02100101.20201101082723001.txt</td>\n",
       "    </tr>\n",
       "    <tr>\n",
       "      <th>1</th>\n",
       "      <td>1</td>\n",
       "      <td>1</td>\n",
       "      <td>한국투자증권은 지난 8월 소액으로 투자 가능한 해외주식 모바일 앱 '미니스탁'을 선...</td>\n",
       "      <td>02100101.20201101082723001.txt</td>\n",
       "    </tr>\n",
       "    <tr>\n",
       "      <th>2</th>\n",
       "      <td>2</td>\n",
       "      <td>0</td>\n",
       "      <td>현대모비스가 사회적 거리두기 캠페인에 발맞춰 지난 2월부터 임시적으로 시행해오던 재...</td>\n",
       "      <td>02100101.20201101090150001.txt</td>\n",
       "    </tr>\n",
       "    <tr>\n",
       "      <th>3</th>\n",
       "      <td>2</td>\n",
       "      <td>1</td>\n",
       "      <td>현대모비스는 모든 직급의 직원들이 재택근무제를 효율적으로 활용하고 만족할 수 있도록...</td>\n",
       "      <td>02100101.20201101090150001.txt</td>\n",
       "    </tr>\n",
       "    <tr>\n",
       "      <th>4</th>\n",
       "      <td>4</td>\n",
       "      <td>0</td>\n",
       "      <td>국내 외식업계에 '푸드테크(Food+Technology)' 바람이 불고 있다. 매년...</td>\n",
       "      <td>02100101.20201101092641001.txt</td>\n",
       "    </tr>\n",
       "    <tr>\n",
       "      <th>...</th>\n",
       "      <td>...</td>\n",
       "      <td>...</td>\n",
       "      <td>...</td>\n",
       "      <td>...</td>\n",
       "    </tr>\n",
       "    <tr>\n",
       "      <th>589829</th>\n",
       "      <td>1090638</td>\n",
       "      <td>1</td>\n",
       "      <td>박남춘 인천시장은 “이번 업무협약을 계기로 인천 전역 공공기관이 보유한 다양한 인프...</td>\n",
       "      <td>02100851.20220228175317001.txt</td>\n",
       "    </tr>\n",
       "    <tr>\n",
       "      <th>589830</th>\n",
       "      <td>1090640</td>\n",
       "      <td>0</td>\n",
       "      <td>LG전자가 5G 텔레매틱스 사업에 박차를 가하며 수주를 늘려 나가고 있다.\\nLG전...</td>\n",
       "      <td>02100851.20220228175603001.txt</td>\n",
       "    </tr>\n",
       "    <tr>\n",
       "      <th>589831</th>\n",
       "      <td>1090640</td>\n",
       "      <td>1</td>\n",
       "      <td>LG전자는 2016년 인텔과 손잡고 5G 기반 텔레매틱스 연구·개발에 착수한 데 이...</td>\n",
       "      <td>02100851.20220228175603001.txt</td>\n",
       "    </tr>\n",
       "    <tr>\n",
       "      <th>589832</th>\n",
       "      <td>1090643</td>\n",
       "      <td>0</td>\n",
       "      <td>지하 4층~지상 25층, 총 14개 동, 1070가구 탈바꿈\\n월계동 동신아파트 재...</td>\n",
       "      <td>02100851.20220228175722001.txt</td>\n",
       "    </tr>\n",
       "    <tr>\n",
       "      <th>589833</th>\n",
       "      <td>1090646</td>\n",
       "      <td>0</td>\n",
       "      <td>바쁜 소상공인을 대신해 전화를 받아주는 KT의 인공지능 서비스 'AI 통화비서', ...</td>\n",
       "      <td>02100851.20220228180156001.txt</td>\n",
       "    </tr>\n",
       "  </tbody>\n",
       "</table>\n",
       "<p>589834 rows × 4 columns</p>\n",
       "</div>"
      ],
      "text/plain": [
       "             id  chunk_id                                               text  \\\n",
       "0             1         0  2030을 주축으로 한 이른바 '동학개미운동'이 계속되는 등 주식 투자 열풍이 사그...   \n",
       "1             1         1  한국투자증권은 지난 8월 소액으로 투자 가능한 해외주식 모바일 앱 '미니스탁'을 선...   \n",
       "2             2         0  현대모비스가 사회적 거리두기 캠페인에 발맞춰 지난 2월부터 임시적으로 시행해오던 재...   \n",
       "3             2         1  현대모비스는 모든 직급의 직원들이 재택근무제를 효율적으로 활용하고 만족할 수 있도록...   \n",
       "4             4         0  국내 외식업계에 '푸드테크(Food+Technology)' 바람이 불고 있다. 매년...   \n",
       "...         ...       ...                                                ...   \n",
       "589829  1090638         1  박남춘 인천시장은 “이번 업무협약을 계기로 인천 전역 공공기관이 보유한 다양한 인프...   \n",
       "589830  1090640         0  LG전자가 5G 텔레매틱스 사업에 박차를 가하며 수주를 늘려 나가고 있다.\\nLG전...   \n",
       "589831  1090640         1  LG전자는 2016년 인텔과 손잡고 5G 기반 텔레매틱스 연구·개발에 착수한 데 이...   \n",
       "589832  1090643         0  지하 4층~지상 25층, 총 14개 동, 1070가구 탈바꿈\\n월계동 동신아파트 재...   \n",
       "589833  1090646         0  바쁜 소상공인을 대신해 전화를 받아주는 KT의 인공지능 서비스 'AI 통화비서', ...   \n",
       "\n",
       "                              filename  \n",
       "0       02100101.20201101082723001.txt  \n",
       "1       02100101.20201101082723001.txt  \n",
       "2       02100101.20201101090150001.txt  \n",
       "3       02100101.20201101090150001.txt  \n",
       "4       02100101.20201101092641001.txt  \n",
       "...                                ...  \n",
       "589829  02100851.20220228175317001.txt  \n",
       "589830  02100851.20220228175603001.txt  \n",
       "589831  02100851.20220228175603001.txt  \n",
       "589832  02100851.20220228175722001.txt  \n",
       "589833  02100851.20220228180156001.txt  \n",
       "\n",
       "[589834 rows x 4 columns]"
      ]
     },
     "execution_count": 3,
     "metadata": {},
     "output_type": "execute_result"
    }
   ],
   "source": [
    "filtered_data = eKonf.load_data(\"econ_news_filtered.parquet\", data_dir)\n",
    "filtered_data"
   ]
  },
  {
   "cell_type": "code",
   "execution_count": 5,
   "metadata": {
    "pycharm": {
     "name": "#%%\n"
    }
   },
   "outputs": [
    {
     "data": {
      "text/plain": [
       "'재산세 감면 범위를 둘러싸고 혼선을 빚었던 정부와 더불어민주당이 공시가격 6억원 이하 1주택자의 재산세를 감면해주는 방향으로 가닥을 잡은 것으로 알려졌다.\\n3일 정치권에 따르면 당정은 1가구 1주택 재산세율은 공시가격 6억원 이하에 대해서만 0.05%포인트 인하하기로 방침을 정한 것으로 전해졌다. 현재 재산세율은 과세표준(공시가격 60%) 구간에 따라 0.1~0.4%다.\\n6일 발표할 것으로 예상되는 당정의 이번 대책이 성난 민심을 가라앉힐 수 있을지 관심이 모아지고 있다. 올해 정부가 발표한 부동산 정책마다 논란에 휩싸였기 때문이다.\\n실제로 국토교통부가 지난달 20일 주택자금조달계획서 제출 확대를 주요 내용으로 하는 \\'부동산 거래 신고 등에 관한 법률\\' 시행령 일부 개정안이 국무회의를 통과했다고 밝히자 \"민주주의 국가가 맞냐\"는 지적이 나왔다.\\n또 김현미 국토교통부 장관이 지난달 23일 국회 국토교통위원회의 국토부 종합 국정감사에서 \"월세 세액공제 등을 통해 세입자의 부담을 덜어주는 방안에 대해 공감한다\"라며 \"재정 당국과 협의가 필요한 문제여서 함께 협의해 나가겠다\"고 말하자, 이를 비판하는 의견이 쇄도했다. 전세를 구하기 어려운데 월세를 사는 사람들에게 혜택을 주는 것은 결국 정부가 월세를 권장하는 것 아니냐는 지적이었다.\\n홍남기 부총리 겸 기획재정부 장관이 지난달 28일 토지·건물 지분의 20∼25%만으로 주택을 분양받아 입주하고 이후 20∼30년간 남은 지분을 취득하는 지분적립형 주택을 도입하겠다고 밝혔을 때도 논란이 일었다. 지분형 주택은 대출받아서 집을 사거나 장기간 월세로 산 후 30년 된 낡은 집을 받는 것과 다름이 없다는 이유에서다.'"
      ]
     },
     "execution_count": 5,
     "metadata": {},
     "output_type": "execute_result"
    }
   ],
   "source": [
    "filtered_data.text[222]"
   ]
  },
  {
   "cell_type": "code",
   "execution_count": 4,
   "metadata": {},
   "outputs": [
    {
     "data": {
      "text/html": [
       "<div>\n",
       "<style scoped>\n",
       "    .dataframe tbody tr th:only-of-type {\n",
       "        vertical-align: middle;\n",
       "    }\n",
       "\n",
       "    .dataframe tbody tr th {\n",
       "        vertical-align: top;\n",
       "    }\n",
       "\n",
       "    .dataframe thead th {\n",
       "        text-align: right;\n",
       "    }\n",
       "</style>\n",
       "<table border=\"1\" class=\"dataframe\">\n",
       "  <thead>\n",
       "    <tr style=\"text-align: right;\">\n",
       "      <th></th>\n",
       "      <th>id</th>\n",
       "      <th>chunk_id</th>\n",
       "      <th>text</th>\n",
       "      <th>filename</th>\n",
       "    </tr>\n",
       "  </thead>\n",
       "  <tbody>\n",
       "    <tr>\n",
       "      <th>207947</th>\n",
       "      <td>385724</td>\n",
       "      <td>0</td>\n",
       "      <td>[머니투데이 박소연 기자] [당장 유동성보다는 전 세계 수요·구매력 감소가 더 큰 ...</td>\n",
       "      <td>02100201.20200323170208001.txt</td>\n",
       "    </tr>\n",
       "    <tr>\n",
       "      <th>207948</th>\n",
       "      <td>385724</td>\n",
       "      <td>1</td>\n",
       "      <td>국내 전자업계는 공장이 한국과 중국, 베트남 지역에 있어 북미나 유럽발 셧다운으로 ...</td>\n",
       "      <td>02100201.20200323170208001.txt</td>\n",
       "    </tr>\n",
       "  </tbody>\n",
       "</table>\n",
       "</div>"
      ],
      "text/plain": [
       "            id  chunk_id                                               text  \\\n",
       "207947  385724         0  [머니투데이 박소연 기자] [당장 유동성보다는 전 세계 수요·구매력 감소가 더 큰 ...   \n",
       "207948  385724         1  국내 전자업계는 공장이 한국과 중국, 베트남 지역에 있어 북미나 유럽발 셧다운으로 ...   \n",
       "\n",
       "                              filename  \n",
       "207947  02100201.20200323170208001.txt  \n",
       "207948  02100201.20200323170208001.txt  "
      ]
     },
     "execution_count": 4,
     "metadata": {},
     "output_type": "execute_result"
    }
   ],
   "source": [
    "filtered_data[filtered_data.filename == \"02100201.20200323170208001.txt\"]"
   ]
  },
  {
   "cell_type": "markdown",
   "metadata": {
    "pycharm": {
     "name": "#%% md\n"
    }
   },
   "source": [
    "## Predicting polarities"
   ]
  },
  {
   "cell_type": "code",
   "execution_count": 5,
   "metadata": {
    "pycharm": {
     "name": "#%%\n"
    }
   },
   "outputs": [],
   "source": [
    "overrides=[\n",
    "    '+model/transformer=classification',\n",
    "    '+model/transformer/pretrained=ekonelectra-base',\n",
    "]\n",
    "model_cfg = eKonf.compose('model/transformer=classification', overrides)\n",
    "model_cfg.name = \"esg_polarity\"\n",
    "model_cfg.verbose = False\n",
    "model_cfg.config.num_train_epochs = 2\n",
    "model_cfg.config.max_seq_length = 256\n",
    "model_cfg.config.train_batch_size = 32\n",
    "model_cfg.config.eval_batch_size = 32\n"
   ]
  },
  {
   "cell_type": "code",
   "execution_count": 6,
   "metadata": {
    "pycharm": {
     "name": "#%%\n"
    }
   },
   "outputs": [
    {
     "name": "stderr",
     "output_type": "stream",
     "text": [
      "INFO:ekorpkit.base:Loaded .env from /workspace/projects/ekorpkit-book/config/.env\n",
      "INFO:ekorpkit.base:shell type: ZMQInteractiveShell\n",
      "INFO:ekorpkit.base:setting environment variable CACHED_PATH_CACHE_ROOT to /workspace/.cache/cached_path\n",
      "INFO:ekorpkit.base:setting environment variable KMP_DUPLICATE_LIB_OK to TRUE\n",
      "INFO:ekorpkit.base:Applying pipe: functools.partial(<function predict at 0x7f30585108b0>)\n",
      "INFO:ekorpkit.base:No method defined to call\n"
     ]
    },
    {
     "data": {
      "application/json": {
       "ascii": false,
       "bar_format": null,
       "colour": null,
       "elapsed": 0.014275074005126953,
       "initial": 0,
       "n": 0,
       "ncols": null,
       "nrows": null,
       "postfix": null,
       "prefix": "",
       "rate": null,
       "total": 589834,
       "unit": "it",
       "unit_divisor": 1000,
       "unit_scale": false
      },
      "application/vnd.jupyter.widget-view+json": {
       "model_id": "d79e5ff952144b3a9690f315ba554ce9",
       "version_major": 2,
       "version_minor": 0
      },
      "text/plain": [
       "  0%|          | 0/589834 [00:00<?, ?it/s]"
      ]
     },
     "metadata": {},
     "output_type": "display_data"
    },
    {
     "name": "stderr",
     "output_type": "stream",
     "text": [
      "Token indices sequence length is longer than the specified maximum sequence length for this model (513 > 512). Running this sequence through the model will result in indexing errors\n"
     ]
    },
    {
     "data": {
      "application/json": {
       "ascii": false,
       "bar_format": null,
       "colour": null,
       "elapsed": 0.6665418148040771,
       "initial": 0,
       "n": 0,
       "ncols": null,
       "nrows": null,
       "postfix": null,
       "prefix": "",
       "rate": null,
       "total": 37514,
       "unit": "it",
       "unit_divisor": 1000,
       "unit_scale": false
      },
      "application/vnd.jupyter.widget-view+json": {
       "model_id": "f1c8bc73fe7c4868b19489d00f1c7f98",
       "version_major": 2,
       "version_minor": 0
      },
      "text/plain": [
       "  0%|          | 0/37514 [00:00<?, ?it/s]"
      ]
     },
     "metadata": {},
     "output_type": "display_data"
    },
    {
     "data": {
      "text/html": [
       "<div>\n",
       "<style scoped>\n",
       "    .dataframe tbody tr th:only-of-type {\n",
       "        vertical-align: middle;\n",
       "    }\n",
       "\n",
       "    .dataframe tbody tr th {\n",
       "        vertical-align: top;\n",
       "    }\n",
       "\n",
       "    .dataframe thead th {\n",
       "        text-align: right;\n",
       "    }\n",
       "</style>\n",
       "<table border=\"1\" class=\"dataframe\">\n",
       "  <thead>\n",
       "    <tr style=\"text-align: right;\">\n",
       "      <th></th>\n",
       "      <th>id</th>\n",
       "      <th>chunk_id</th>\n",
       "      <th>text</th>\n",
       "      <th>filename</th>\n",
       "      <th>pred_labels</th>\n",
       "      <th>raw_preds</th>\n",
       "      <th>pred_probs</th>\n",
       "    </tr>\n",
       "  </thead>\n",
       "  <tbody>\n",
       "    <tr>\n",
       "      <th>0</th>\n",
       "      <td>1</td>\n",
       "      <td>0</td>\n",
       "      <td>2030을 주축으로 한 이른바 '동학개미운동'이 계속되는 등 주식 투자 열풍이 사그...</td>\n",
       "      <td>02100101.20201101082723001.txt</td>\n",
       "      <td>Positive</td>\n",
       "      <td>[-2.567436933517456, 1.0360676050186157, 1.814...</td>\n",
       "      <td>0.341340</td>\n",
       "    </tr>\n",
       "    <tr>\n",
       "      <th>1</th>\n",
       "      <td>1</td>\n",
       "      <td>1</td>\n",
       "      <td>한국투자증권은 지난 8월 소액으로 투자 가능한 해외주식 모바일 앱 '미니스탁'을 선...</td>\n",
       "      <td>02100101.20201101082723001.txt</td>\n",
       "      <td>Neutral</td>\n",
       "      <td>[-2.502641439437866, 0.918285071849823, 1.9027...</td>\n",
       "      <td>0.372076</td>\n",
       "    </tr>\n",
       "    <tr>\n",
       "      <th>2</th>\n",
       "      <td>2</td>\n",
       "      <td>0</td>\n",
       "      <td>현대모비스가 사회적 거리두기 캠페인에 발맞춰 지난 2월부터 임시적으로 시행해오던 재...</td>\n",
       "      <td>02100101.20201101090150001.txt</td>\n",
       "      <td>Positive</td>\n",
       "      <td>[-2.1298842430114746, 0.07791980355978012, 2.3...</td>\n",
       "      <td>0.453081</td>\n",
       "    </tr>\n",
       "    <tr>\n",
       "      <th>3</th>\n",
       "      <td>2</td>\n",
       "      <td>1</td>\n",
       "      <td>현대모비스는 모든 직급의 직원들이 재택근무제를 효율적으로 활용하고 만족할 수 있도록...</td>\n",
       "      <td>02100101.20201101090150001.txt</td>\n",
       "      <td>Positive</td>\n",
       "      <td>[-2.419292688369751, 0.49235978722572327, 2.23...</td>\n",
       "      <td>0.844313</td>\n",
       "    </tr>\n",
       "    <tr>\n",
       "      <th>4</th>\n",
       "      <td>4</td>\n",
       "      <td>0</td>\n",
       "      <td>국내 외식업계에 '푸드테크(Food+Technology)' 바람이 불고 있다. 매년...</td>\n",
       "      <td>02100101.20201101092641001.txt</td>\n",
       "      <td>Positive</td>\n",
       "      <td>[-2.4180235862731934, 0.6421092748641968, 2.10...</td>\n",
       "      <td>0.477938</td>\n",
       "    </tr>\n",
       "  </tbody>\n",
       "</table>\n",
       "</div>"
      ],
      "text/plain": [
       "   id  chunk_id                                               text  \\\n",
       "0   1         0  2030을 주축으로 한 이른바 '동학개미운동'이 계속되는 등 주식 투자 열풍이 사그...   \n",
       "1   1         1  한국투자증권은 지난 8월 소액으로 투자 가능한 해외주식 모바일 앱 '미니스탁'을 선...   \n",
       "2   2         0  현대모비스가 사회적 거리두기 캠페인에 발맞춰 지난 2월부터 임시적으로 시행해오던 재...   \n",
       "3   2         1  현대모비스는 모든 직급의 직원들이 재택근무제를 효율적으로 활용하고 만족할 수 있도록...   \n",
       "4   4         0  국내 외식업계에 '푸드테크(Food+Technology)' 바람이 불고 있다. 매년...   \n",
       "\n",
       "                         filename pred_labels  \\\n",
       "0  02100101.20201101082723001.txt    Positive   \n",
       "1  02100101.20201101082723001.txt     Neutral   \n",
       "2  02100101.20201101090150001.txt    Positive   \n",
       "3  02100101.20201101090150001.txt    Positive   \n",
       "4  02100101.20201101092641001.txt    Positive   \n",
       "\n",
       "                                           raw_preds  pred_probs  \n",
       "0  [-2.567436933517456, 1.0360676050186157, 1.814...    0.341340  \n",
       "1  [-2.502641439437866, 0.918285071849823, 1.9027...    0.372076  \n",
       "2  [-2.1298842430114746, 0.07791980355978012, 2.3...    0.453081  \n",
       "3  [-2.419292688369751, 0.49235978722572327, 2.23...    0.844313  \n",
       "4  [-2.4180235862731934, 0.6421092748641968, 2.10...    0.477938  "
      ]
     },
     "execution_count": 6,
     "metadata": {},
     "output_type": "execute_result"
    }
   ],
   "source": [
    "cfg = eKonf.compose(config_group='pipeline')\n",
    "cfg.name = 'esg_polarities'\n",
    "cfg.data_dir = data_dir\n",
    "cfg.data_file = 'econ_news_filtered.parquet'\n",
    "cfg._pipeline_ = ['predict']\n",
    "cfg.predict.model = model_cfg\n",
    "cfg.predict.output_dir = data_dir\n",
    "cfg.predict.output_file = f'{cfg.name}-preds.parquet'\n",
    "cfg.num_workers = 1\n",
    "preds_df = eKonf.instantiate(cfg)\n",
    "preds_df.head()"
   ]
  },
  {
   "cell_type": "code",
   "execution_count": 7,
   "metadata": {
    "pycharm": {
     "name": "#%%\n"
    },
    "tags": [
     "hide-cell"
    ]
   },
   "outputs": [],
   "source": [
    "# xls_path = eKonf.join_path(data_dir, \"esg_polarities-preds.xlsx\")\n",
    "# preds_df.to_excel(xls_path)\n"
   ]
  },
  {
   "cell_type": "markdown",
   "metadata": {
    "pycharm": {
     "name": "#%% md\n"
    }
   },
   "source": [
    "## Predicting categories"
   ]
  },
  {
   "cell_type": "code",
   "execution_count": 8,
   "metadata": {
    "pycharm": {
     "name": "#%%\n"
    }
   },
   "outputs": [],
   "source": [
    "overrides=[\n",
    "    '+model/transformer=classification',\n",
    "    '+model/transformer/pretrained=ekonelectra-base',\n",
    "]\n",
    "model_cfg = eKonf.compose('model/transformer=classification', overrides)\n",
    "model_cfg.name = \"esg_topics\"\n",
    "model_cfg.verbose = False\n",
    "model_cfg.config.num_train_epochs = 2\n",
    "model_cfg.config.max_seq_length = 256\n",
    "model_cfg.config.train_batch_size = 32\n",
    "model_cfg.config.eval_batch_size = 32\n"
   ]
  },
  {
   "cell_type": "code",
   "execution_count": 9,
   "metadata": {
    "pycharm": {
     "name": "#%%\n"
    }
   },
   "outputs": [
    {
     "name": "stderr",
     "output_type": "stream",
     "text": [
      "INFO:ekorpkit.base:Applying pipe: functools.partial(<function predict at 0x7f30585108b0>)\n",
      "INFO:ekorpkit.base:No method defined to call\n"
     ]
    },
    {
     "data": {
      "application/json": {
       "ascii": false,
       "bar_format": null,
       "colour": null,
       "elapsed": 0.013906717300415039,
       "initial": 0,
       "n": 0,
       "ncols": null,
       "nrows": null,
       "postfix": null,
       "prefix": "",
       "rate": null,
       "total": 589834,
       "unit": "it",
       "unit_divisor": 1000,
       "unit_scale": false
      },
      "application/vnd.jupyter.widget-view+json": {
       "model_id": "abeff335ff184940ba68acd59678d4a2",
       "version_major": 2,
       "version_minor": 0
      },
      "text/plain": [
       "  0%|          | 0/589834 [00:00<?, ?it/s]"
      ]
     },
     "metadata": {},
     "output_type": "display_data"
    },
    {
     "name": "stderr",
     "output_type": "stream",
     "text": [
      "Token indices sequence length is longer than the specified maximum sequence length for this model (513 > 512). Running this sequence through the model will result in indexing errors\n"
     ]
    },
    {
     "data": {
      "application/json": {
       "ascii": false,
       "bar_format": null,
       "colour": null,
       "elapsed": 0.44370007514953613,
       "initial": 0,
       "n": 0,
       "ncols": null,
       "nrows": null,
       "postfix": null,
       "prefix": "",
       "rate": null,
       "total": 37514,
       "unit": "it",
       "unit_divisor": 1000,
       "unit_scale": false
      },
      "application/vnd.jupyter.widget-view+json": {
       "model_id": "57fe0f19cc9540c5887923d33d37e881",
       "version_major": 2,
       "version_minor": 0
      },
      "text/plain": [
       "  0%|          | 0/37514 [00:00<?, ?it/s]"
      ]
     },
     "metadata": {},
     "output_type": "display_data"
    },
    {
     "data": {
      "text/html": [
       "<div>\n",
       "<style scoped>\n",
       "    .dataframe tbody tr th:only-of-type {\n",
       "        vertical-align: middle;\n",
       "    }\n",
       "\n",
       "    .dataframe tbody tr th {\n",
       "        vertical-align: top;\n",
       "    }\n",
       "\n",
       "    .dataframe thead th {\n",
       "        text-align: right;\n",
       "    }\n",
       "</style>\n",
       "<table border=\"1\" class=\"dataframe\">\n",
       "  <thead>\n",
       "    <tr style=\"text-align: right;\">\n",
       "      <th></th>\n",
       "      <th>id</th>\n",
       "      <th>chunk_id</th>\n",
       "      <th>text</th>\n",
       "      <th>filename</th>\n",
       "      <th>pred_labels</th>\n",
       "      <th>raw_preds</th>\n",
       "      <th>pred_probs</th>\n",
       "    </tr>\n",
       "  </thead>\n",
       "  <tbody>\n",
       "    <tr>\n",
       "      <th>0</th>\n",
       "      <td>1</td>\n",
       "      <td>0</td>\n",
       "      <td>2030을 주축으로 한 이른바 '동학개미운동'이 계속되는 등 주식 투자 열풍이 사그...</td>\n",
       "      <td>02100101.20201101082723001.txt</td>\n",
       "      <td>S-소비자</td>\n",
       "      <td>[3.4277491569519043, 3.1105027198791504, 0.159...</td>\n",
       "      <td>0.333507</td>\n",
       "    </tr>\n",
       "    <tr>\n",
       "      <th>1</th>\n",
       "      <td>1</td>\n",
       "      <td>1</td>\n",
       "      <td>한국투자증권은 지난 8월 소액으로 투자 가능한 해외주식 모바일 앱 '미니스탁'을 선...</td>\n",
       "      <td>02100101.20201101082723001.txt</td>\n",
       "      <td>S-소비자</td>\n",
       "      <td>[3.432396411895752, 2.870363473892212, 0.29488...</td>\n",
       "      <td>0.273119</td>\n",
       "    </tr>\n",
       "    <tr>\n",
       "      <th>2</th>\n",
       "      <td>2</td>\n",
       "      <td>0</td>\n",
       "      <td>현대모비스가 사회적 거리두기 캠페인에 발맞춰 지난 2월부터 임시적으로 시행해오던 재...</td>\n",
       "      <td>02100101.20201101090150001.txt</td>\n",
       "      <td>S-인적자본</td>\n",
       "      <td>[0.670174777507782, -1.242663025856018, 0.0418...</td>\n",
       "      <td>0.370629</td>\n",
       "    </tr>\n",
       "    <tr>\n",
       "      <th>3</th>\n",
       "      <td>2</td>\n",
       "      <td>1</td>\n",
       "      <td>현대모비스는 모든 직급의 직원들이 재택근무제를 효율적으로 활용하고 만족할 수 있도록...</td>\n",
       "      <td>02100101.20201101090150001.txt</td>\n",
       "      <td>S-인적자본</td>\n",
       "      <td>[0.6666736602783203, -1.2238706350326538, -0.0...</td>\n",
       "      <td>0.690972</td>\n",
       "    </tr>\n",
       "    <tr>\n",
       "      <th>4</th>\n",
       "      <td>4</td>\n",
       "      <td>0</td>\n",
       "      <td>국내 외식업계에 '푸드테크(Food+Technology)' 바람이 불고 있다. 매년...</td>\n",
       "      <td>02100101.20201101092641001.txt</td>\n",
       "      <td>S-기술혁신</td>\n",
       "      <td>[2.6893868446350098, 3.767672061920166, -0.567...</td>\n",
       "      <td>0.317781</td>\n",
       "    </tr>\n",
       "  </tbody>\n",
       "</table>\n",
       "</div>"
      ],
      "text/plain": [
       "   id  chunk_id                                               text  \\\n",
       "0   1         0  2030을 주축으로 한 이른바 '동학개미운동'이 계속되는 등 주식 투자 열풍이 사그...   \n",
       "1   1         1  한국투자증권은 지난 8월 소액으로 투자 가능한 해외주식 모바일 앱 '미니스탁'을 선...   \n",
       "2   2         0  현대모비스가 사회적 거리두기 캠페인에 발맞춰 지난 2월부터 임시적으로 시행해오던 재...   \n",
       "3   2         1  현대모비스는 모든 직급의 직원들이 재택근무제를 효율적으로 활용하고 만족할 수 있도록...   \n",
       "4   4         0  국내 외식업계에 '푸드테크(Food+Technology)' 바람이 불고 있다. 매년...   \n",
       "\n",
       "                         filename pred_labels  \\\n",
       "0  02100101.20201101082723001.txt       S-소비자   \n",
       "1  02100101.20201101082723001.txt       S-소비자   \n",
       "2  02100101.20201101090150001.txt      S-인적자본   \n",
       "3  02100101.20201101090150001.txt      S-인적자본   \n",
       "4  02100101.20201101092641001.txt      S-기술혁신   \n",
       "\n",
       "                                           raw_preds  pred_probs  \n",
       "0  [3.4277491569519043, 3.1105027198791504, 0.159...    0.333507  \n",
       "1  [3.432396411895752, 2.870363473892212, 0.29488...    0.273119  \n",
       "2  [0.670174777507782, -1.242663025856018, 0.0418...    0.370629  \n",
       "3  [0.6666736602783203, -1.2238706350326538, -0.0...    0.690972  \n",
       "4  [2.6893868446350098, 3.767672061920166, -0.567...    0.317781  "
      ]
     },
     "execution_count": 9,
     "metadata": {},
     "output_type": "execute_result"
    }
   ],
   "source": [
    "cfg = eKonf.compose(config_group='pipeline')\n",
    "cfg.name = 'esg_categories'\n",
    "cfg.data_dir = data_dir\n",
    "cfg.data_file = 'econ_news_filtered.parquet'\n",
    "cfg._pipeline_ = ['predict']\n",
    "cfg.predict.model = model_cfg\n",
    "cfg.predict.output_dir = data_dir\n",
    "cfg.predict.output_file = f'{cfg.name}-preds.parquet'\n",
    "cfg.num_workers = 1\n",
    "cat_preds_df = eKonf.instantiate(cfg)\n",
    "cat_preds_df.head()"
   ]
  },
  {
   "cell_type": "code",
   "execution_count": 10,
   "metadata": {
    "pycharm": {
     "name": "#%%\n"
    },
    "tags": [
     "hide-cell"
    ]
   },
   "outputs": [],
   "source": [
    "# xls_path = eKonf.join_path(data_dir, \"esg_categories-preds.xlsx\")\n",
    "# cat_preds_df.to_excel(xls_path)\n",
    "# cat_preds_df"
   ]
  },
  {
   "cell_type": "code",
   "execution_count": 11,
   "metadata": {
    "pycharm": {
     "name": "#%%\n"
    }
   },
   "outputs": [
    {
     "data": {
      "text/html": [
       "<div>\n",
       "<style scoped>\n",
       "    .dataframe tbody tr th:only-of-type {\n",
       "        vertical-align: middle;\n",
       "    }\n",
       "\n",
       "    .dataframe tbody tr th {\n",
       "        vertical-align: top;\n",
       "    }\n",
       "\n",
       "    .dataframe thead th {\n",
       "        text-align: right;\n",
       "    }\n",
       "</style>\n",
       "<table border=\"1\" class=\"dataframe\">\n",
       "  <thead>\n",
       "    <tr style=\"text-align: right;\">\n",
       "      <th></th>\n",
       "      <th>id</th>\n",
       "      <th>chunk_id</th>\n",
       "      <th>text</th>\n",
       "      <th>filename</th>\n",
       "      <th>pred_labels</th>\n",
       "      <th>raw_preds</th>\n",
       "      <th>pred_probs</th>\n",
       "    </tr>\n",
       "  </thead>\n",
       "  <tbody>\n",
       "    <tr>\n",
       "      <th>0</th>\n",
       "      <td>1</td>\n",
       "      <td>0</td>\n",
       "      <td>2030을 주축으로 한 이른바 '동학개미운동'이 계속되는 등 주식 투자 열풍이 사그...</td>\n",
       "      <td>02100101.20201101082723001.txt</td>\n",
       "      <td>Positive</td>\n",
       "      <td>[-2.567436933517456, 1.0360676050186157, 1.814...</td>\n",
       "      <td>0.341340</td>\n",
       "    </tr>\n",
       "    <tr>\n",
       "      <th>1</th>\n",
       "      <td>1</td>\n",
       "      <td>1</td>\n",
       "      <td>한국투자증권은 지난 8월 소액으로 투자 가능한 해외주식 모바일 앱 '미니스탁'을 선...</td>\n",
       "      <td>02100101.20201101082723001.txt</td>\n",
       "      <td>Neutral</td>\n",
       "      <td>[-2.502641439437866, 0.918285071849823, 1.9027...</td>\n",
       "      <td>0.372076</td>\n",
       "    </tr>\n",
       "    <tr>\n",
       "      <th>2</th>\n",
       "      <td>2</td>\n",
       "      <td>0</td>\n",
       "      <td>현대모비스가 사회적 거리두기 캠페인에 발맞춰 지난 2월부터 임시적으로 시행해오던 재...</td>\n",
       "      <td>02100101.20201101090150001.txt</td>\n",
       "      <td>Positive</td>\n",
       "      <td>[-2.1298842430114746, 0.07791980355978012, 2.3...</td>\n",
       "      <td>0.453081</td>\n",
       "    </tr>\n",
       "    <tr>\n",
       "      <th>3</th>\n",
       "      <td>2</td>\n",
       "      <td>1</td>\n",
       "      <td>현대모비스는 모든 직급의 직원들이 재택근무제를 효율적으로 활용하고 만족할 수 있도록...</td>\n",
       "      <td>02100101.20201101090150001.txt</td>\n",
       "      <td>Positive</td>\n",
       "      <td>[-2.419292688369751, 0.49235978722572327, 2.23...</td>\n",
       "      <td>0.844313</td>\n",
       "    </tr>\n",
       "    <tr>\n",
       "      <th>4</th>\n",
       "      <td>4</td>\n",
       "      <td>0</td>\n",
       "      <td>국내 외식업계에 '푸드테크(Food+Technology)' 바람이 불고 있다. 매년...</td>\n",
       "      <td>02100101.20201101092641001.txt</td>\n",
       "      <td>Positive</td>\n",
       "      <td>[-2.4180235862731934, 0.6421092748641968, 2.10...</td>\n",
       "      <td>0.477938</td>\n",
       "    </tr>\n",
       "    <tr>\n",
       "      <th>...</th>\n",
       "      <td>...</td>\n",
       "      <td>...</td>\n",
       "      <td>...</td>\n",
       "      <td>...</td>\n",
       "      <td>...</td>\n",
       "      <td>...</td>\n",
       "      <td>...</td>\n",
       "    </tr>\n",
       "    <tr>\n",
       "      <th>589829</th>\n",
       "      <td>1090638</td>\n",
       "      <td>1</td>\n",
       "      <td>박남춘 인천시장은 “이번 업무협약을 계기로 인천 전역 공공기관이 보유한 다양한 인프...</td>\n",
       "      <td>02100851.20220228175317001.txt</td>\n",
       "      <td>Positive</td>\n",
       "      <td>[-2.375413656234741, 0.4296725392341614, 2.256...</td>\n",
       "      <td>0.854250</td>\n",
       "    </tr>\n",
       "    <tr>\n",
       "      <th>589830</th>\n",
       "      <td>1090640</td>\n",
       "      <td>0</td>\n",
       "      <td>LG전자가 5G 텔레매틱스 사업에 박차를 가하며 수주를 늘려 나가고 있다.\\nLG전...</td>\n",
       "      <td>02100851.20220228175603001.txt</td>\n",
       "      <td>Positive</td>\n",
       "      <td>[-2.3688647747039795, 0.4197460412979126, 2.21...</td>\n",
       "      <td>0.462783</td>\n",
       "    </tr>\n",
       "    <tr>\n",
       "      <th>589831</th>\n",
       "      <td>1090640</td>\n",
       "      <td>1</td>\n",
       "      <td>LG전자는 2016년 인텔과 손잡고 5G 기반 텔레매틱스 연구·개발에 착수한 데 이...</td>\n",
       "      <td>02100851.20220228175603001.txt</td>\n",
       "      <td>Positive</td>\n",
       "      <td>[-2.4067728519439697, 0.6127761602401733, 2.13...</td>\n",
       "      <td>0.813458</td>\n",
       "    </tr>\n",
       "    <tr>\n",
       "      <th>589832</th>\n",
       "      <td>1090643</td>\n",
       "      <td>0</td>\n",
       "      <td>지하 4층~지상 25층, 총 14개 동, 1070가구 탈바꿈\\n월계동 동신아파트 재...</td>\n",
       "      <td>02100851.20220228175722001.txt</td>\n",
       "      <td>Neutral</td>\n",
       "      <td>[-2.4429070949554443, 1.486802339553833, 1.329...</td>\n",
       "      <td>0.533489</td>\n",
       "    </tr>\n",
       "    <tr>\n",
       "      <th>589833</th>\n",
       "      <td>1090646</td>\n",
       "      <td>0</td>\n",
       "      <td>바쁜 소상공인을 대신해 전화를 받아주는 KT의 인공지능 서비스 'AI 통화비서', ...</td>\n",
       "      <td>02100851.20220228180156001.txt</td>\n",
       "      <td>Neutral</td>\n",
       "      <td>[-2.5432796478271484, 1.912502646446228, 1.015...</td>\n",
       "      <td>0.636508</td>\n",
       "    </tr>\n",
       "  </tbody>\n",
       "</table>\n",
       "<p>589834 rows × 7 columns</p>\n",
       "</div>"
      ],
      "text/plain": [
       "             id  chunk_id                                               text  \\\n",
       "0             1         0  2030을 주축으로 한 이른바 '동학개미운동'이 계속되는 등 주식 투자 열풍이 사그...   \n",
       "1             1         1  한국투자증권은 지난 8월 소액으로 투자 가능한 해외주식 모바일 앱 '미니스탁'을 선...   \n",
       "2             2         0  현대모비스가 사회적 거리두기 캠페인에 발맞춰 지난 2월부터 임시적으로 시행해오던 재...   \n",
       "3             2         1  현대모비스는 모든 직급의 직원들이 재택근무제를 효율적으로 활용하고 만족할 수 있도록...   \n",
       "4             4         0  국내 외식업계에 '푸드테크(Food+Technology)' 바람이 불고 있다. 매년...   \n",
       "...         ...       ...                                                ...   \n",
       "589829  1090638         1  박남춘 인천시장은 “이번 업무협약을 계기로 인천 전역 공공기관이 보유한 다양한 인프...   \n",
       "589830  1090640         0  LG전자가 5G 텔레매틱스 사업에 박차를 가하며 수주를 늘려 나가고 있다.\\nLG전...   \n",
       "589831  1090640         1  LG전자는 2016년 인텔과 손잡고 5G 기반 텔레매틱스 연구·개발에 착수한 데 이...   \n",
       "589832  1090643         0  지하 4층~지상 25층, 총 14개 동, 1070가구 탈바꿈\\n월계동 동신아파트 재...   \n",
       "589833  1090646         0  바쁜 소상공인을 대신해 전화를 받아주는 KT의 인공지능 서비스 'AI 통화비서', ...   \n",
       "\n",
       "                              filename pred_labels  \\\n",
       "0       02100101.20201101082723001.txt    Positive   \n",
       "1       02100101.20201101082723001.txt     Neutral   \n",
       "2       02100101.20201101090150001.txt    Positive   \n",
       "3       02100101.20201101090150001.txt    Positive   \n",
       "4       02100101.20201101092641001.txt    Positive   \n",
       "...                                ...         ...   \n",
       "589829  02100851.20220228175317001.txt    Positive   \n",
       "589830  02100851.20220228175603001.txt    Positive   \n",
       "589831  02100851.20220228175603001.txt    Positive   \n",
       "589832  02100851.20220228175722001.txt     Neutral   \n",
       "589833  02100851.20220228180156001.txt     Neutral   \n",
       "\n",
       "                                                raw_preds  pred_probs  \n",
       "0       [-2.567436933517456, 1.0360676050186157, 1.814...    0.341340  \n",
       "1       [-2.502641439437866, 0.918285071849823, 1.9027...    0.372076  \n",
       "2       [-2.1298842430114746, 0.07791980355978012, 2.3...    0.453081  \n",
       "3       [-2.419292688369751, 0.49235978722572327, 2.23...    0.844313  \n",
       "4       [-2.4180235862731934, 0.6421092748641968, 2.10...    0.477938  \n",
       "...                                                   ...         ...  \n",
       "589829  [-2.375413656234741, 0.4296725392341614, 2.256...    0.854250  \n",
       "589830  [-2.3688647747039795, 0.4197460412979126, 2.21...    0.462783  \n",
       "589831  [-2.4067728519439697, 0.6127761602401733, 2.13...    0.813458  \n",
       "589832  [-2.4429070949554443, 1.486802339553833, 1.329...    0.533489  \n",
       "589833  [-2.5432796478271484, 1.912502646446228, 1.015...    0.636508  \n",
       "\n",
       "[589834 rows x 7 columns]"
      ]
     },
     "execution_count": 11,
     "metadata": {},
     "output_type": "execute_result"
    }
   ],
   "source": [
    "polarity_preds_df = eKonf.load_data(\"esg_polarities-preds.parquet\", data_dir)\n",
    "polarity_preds_df"
   ]
  },
  {
   "cell_type": "code",
   "execution_count": 12,
   "metadata": {
    "pycharm": {
     "name": "#%%\n"
    }
   },
   "outputs": [
    {
     "data": {
      "text/html": [
       "<div>\n",
       "<style scoped>\n",
       "    .dataframe tbody tr th:only-of-type {\n",
       "        vertical-align: middle;\n",
       "    }\n",
       "\n",
       "    .dataframe tbody tr th {\n",
       "        vertical-align: top;\n",
       "    }\n",
       "\n",
       "    .dataframe thead th {\n",
       "        text-align: right;\n",
       "    }\n",
       "</style>\n",
       "<table border=\"1\" class=\"dataframe\">\n",
       "  <thead>\n",
       "    <tr style=\"text-align: right;\">\n",
       "      <th></th>\n",
       "      <th>id</th>\n",
       "      <th>chunk_id</th>\n",
       "      <th>text</th>\n",
       "      <th>filename</th>\n",
       "      <th>pred_labels</th>\n",
       "      <th>raw_preds</th>\n",
       "      <th>pred_probs</th>\n",
       "    </tr>\n",
       "  </thead>\n",
       "  <tbody>\n",
       "    <tr>\n",
       "      <th>0</th>\n",
       "      <td>1</td>\n",
       "      <td>0</td>\n",
       "      <td>2030을 주축으로 한 이른바 '동학개미운동'이 계속되는 등 주식 투자 열풍이 사그...</td>\n",
       "      <td>02100101.20201101082723001.txt</td>\n",
       "      <td>S-소비자</td>\n",
       "      <td>[3.4277491569519043, 3.1105027198791504, 0.159...</td>\n",
       "      <td>0.333507</td>\n",
       "    </tr>\n",
       "    <tr>\n",
       "      <th>1</th>\n",
       "      <td>1</td>\n",
       "      <td>1</td>\n",
       "      <td>한국투자증권은 지난 8월 소액으로 투자 가능한 해외주식 모바일 앱 '미니스탁'을 선...</td>\n",
       "      <td>02100101.20201101082723001.txt</td>\n",
       "      <td>S-소비자</td>\n",
       "      <td>[3.432396411895752, 2.870363473892212, 0.29488...</td>\n",
       "      <td>0.273119</td>\n",
       "    </tr>\n",
       "    <tr>\n",
       "      <th>2</th>\n",
       "      <td>2</td>\n",
       "      <td>0</td>\n",
       "      <td>현대모비스가 사회적 거리두기 캠페인에 발맞춰 지난 2월부터 임시적으로 시행해오던 재...</td>\n",
       "      <td>02100101.20201101090150001.txt</td>\n",
       "      <td>S-인적자본</td>\n",
       "      <td>[0.670174777507782, -1.242663025856018, 0.0418...</td>\n",
       "      <td>0.370629</td>\n",
       "    </tr>\n",
       "    <tr>\n",
       "      <th>3</th>\n",
       "      <td>2</td>\n",
       "      <td>1</td>\n",
       "      <td>현대모비스는 모든 직급의 직원들이 재택근무제를 효율적으로 활용하고 만족할 수 있도록...</td>\n",
       "      <td>02100101.20201101090150001.txt</td>\n",
       "      <td>S-인적자본</td>\n",
       "      <td>[0.6666736602783203, -1.2238706350326538, -0.0...</td>\n",
       "      <td>0.690972</td>\n",
       "    </tr>\n",
       "    <tr>\n",
       "      <th>4</th>\n",
       "      <td>4</td>\n",
       "      <td>0</td>\n",
       "      <td>국내 외식업계에 '푸드테크(Food+Technology)' 바람이 불고 있다. 매년...</td>\n",
       "      <td>02100101.20201101092641001.txt</td>\n",
       "      <td>S-기술혁신</td>\n",
       "      <td>[2.6893868446350098, 3.767672061920166, -0.567...</td>\n",
       "      <td>0.317781</td>\n",
       "    </tr>\n",
       "    <tr>\n",
       "      <th>...</th>\n",
       "      <td>...</td>\n",
       "      <td>...</td>\n",
       "      <td>...</td>\n",
       "      <td>...</td>\n",
       "      <td>...</td>\n",
       "      <td>...</td>\n",
       "      <td>...</td>\n",
       "    </tr>\n",
       "    <tr>\n",
       "      <th>589829</th>\n",
       "      <td>1090638</td>\n",
       "      <td>1</td>\n",
       "      <td>박남춘 인천시장은 “이번 업무협약을 계기로 인천 전역 공공기관이 보유한 다양한 인프...</td>\n",
       "      <td>02100851.20220228175317001.txt</td>\n",
       "      <td>S-사회공헌</td>\n",
       "      <td>[0.275828093290329, 0.9626474380493164, -0.731...</td>\n",
       "      <td>0.519795</td>\n",
       "    </tr>\n",
       "    <tr>\n",
       "      <th>589830</th>\n",
       "      <td>1090640</td>\n",
       "      <td>0</td>\n",
       "      <td>LG전자가 5G 텔레매틱스 사업에 박차를 가하며 수주를 늘려 나가고 있다.\\nLG전...</td>\n",
       "      <td>02100851.20220228175603001.txt</td>\n",
       "      <td>S-기술혁신</td>\n",
       "      <td>[1.3790614604949951, 4.3633222579956055, -0.15...</td>\n",
       "      <td>0.494121</td>\n",
       "    </tr>\n",
       "    <tr>\n",
       "      <th>589831</th>\n",
       "      <td>1090640</td>\n",
       "      <td>1</td>\n",
       "      <td>LG전자는 2016년 인텔과 손잡고 5G 기반 텔레매틱스 연구·개발에 착수한 데 이...</td>\n",
       "      <td>02100851.20220228175603001.txt</td>\n",
       "      <td>S-기술혁신</td>\n",
       "      <td>[1.3225899934768677, 4.667376518249512, -0.189...</td>\n",
       "      <td>0.849578</td>\n",
       "    </tr>\n",
       "    <tr>\n",
       "      <th>589832</th>\n",
       "      <td>1090643</td>\n",
       "      <td>0</td>\n",
       "      <td>지하 4층~지상 25층, 총 14개 동, 1070가구 탈바꿈\\n월계동 동신아파트 재...</td>\n",
       "      <td>02100851.20220228175722001.txt</td>\n",
       "      <td>G-지배구조</td>\n",
       "      <td>[1.1377757787704468, -0.4355614185333252, 2.07...</td>\n",
       "      <td>0.304210</td>\n",
       "    </tr>\n",
       "    <tr>\n",
       "      <th>589833</th>\n",
       "      <td>1090646</td>\n",
       "      <td>0</td>\n",
       "      <td>바쁜 소상공인을 대신해 전화를 받아주는 KT의 인공지능 서비스 'AI 통화비서', ...</td>\n",
       "      <td>02100851.20220228180156001.txt</td>\n",
       "      <td>S-기술혁신</td>\n",
       "      <td>[3.00152325630188, 3.811152935028076, -0.07228...</td>\n",
       "      <td>0.392231</td>\n",
       "    </tr>\n",
       "  </tbody>\n",
       "</table>\n",
       "<p>589834 rows × 7 columns</p>\n",
       "</div>"
      ],
      "text/plain": [
       "             id  chunk_id                                               text  \\\n",
       "0             1         0  2030을 주축으로 한 이른바 '동학개미운동'이 계속되는 등 주식 투자 열풍이 사그...   \n",
       "1             1         1  한국투자증권은 지난 8월 소액으로 투자 가능한 해외주식 모바일 앱 '미니스탁'을 선...   \n",
       "2             2         0  현대모비스가 사회적 거리두기 캠페인에 발맞춰 지난 2월부터 임시적으로 시행해오던 재...   \n",
       "3             2         1  현대모비스는 모든 직급의 직원들이 재택근무제를 효율적으로 활용하고 만족할 수 있도록...   \n",
       "4             4         0  국내 외식업계에 '푸드테크(Food+Technology)' 바람이 불고 있다. 매년...   \n",
       "...         ...       ...                                                ...   \n",
       "589829  1090638         1  박남춘 인천시장은 “이번 업무협약을 계기로 인천 전역 공공기관이 보유한 다양한 인프...   \n",
       "589830  1090640         0  LG전자가 5G 텔레매틱스 사업에 박차를 가하며 수주를 늘려 나가고 있다.\\nLG전...   \n",
       "589831  1090640         1  LG전자는 2016년 인텔과 손잡고 5G 기반 텔레매틱스 연구·개발에 착수한 데 이...   \n",
       "589832  1090643         0  지하 4층~지상 25층, 총 14개 동, 1070가구 탈바꿈\\n월계동 동신아파트 재...   \n",
       "589833  1090646         0  바쁜 소상공인을 대신해 전화를 받아주는 KT의 인공지능 서비스 'AI 통화비서', ...   \n",
       "\n",
       "                              filename pred_labels  \\\n",
       "0       02100101.20201101082723001.txt       S-소비자   \n",
       "1       02100101.20201101082723001.txt       S-소비자   \n",
       "2       02100101.20201101090150001.txt      S-인적자본   \n",
       "3       02100101.20201101090150001.txt      S-인적자본   \n",
       "4       02100101.20201101092641001.txt      S-기술혁신   \n",
       "...                                ...         ...   \n",
       "589829  02100851.20220228175317001.txt      S-사회공헌   \n",
       "589830  02100851.20220228175603001.txt      S-기술혁신   \n",
       "589831  02100851.20220228175603001.txt      S-기술혁신   \n",
       "589832  02100851.20220228175722001.txt      G-지배구조   \n",
       "589833  02100851.20220228180156001.txt      S-기술혁신   \n",
       "\n",
       "                                                raw_preds  pred_probs  \n",
       "0       [3.4277491569519043, 3.1105027198791504, 0.159...    0.333507  \n",
       "1       [3.432396411895752, 2.870363473892212, 0.29488...    0.273119  \n",
       "2       [0.670174777507782, -1.242663025856018, 0.0418...    0.370629  \n",
       "3       [0.6666736602783203, -1.2238706350326538, -0.0...    0.690972  \n",
       "4       [2.6893868446350098, 3.767672061920166, -0.567...    0.317781  \n",
       "...                                                   ...         ...  \n",
       "589829  [0.275828093290329, 0.9626474380493164, -0.731...    0.519795  \n",
       "589830  [1.3790614604949951, 4.3633222579956055, -0.15...    0.494121  \n",
       "589831  [1.3225899934768677, 4.667376518249512, -0.189...    0.849578  \n",
       "589832  [1.1377757787704468, -0.4355614185333252, 2.07...    0.304210  \n",
       "589833  [3.00152325630188, 3.811152935028076, -0.07228...    0.392231  \n",
       "\n",
       "[589834 rows x 7 columns]"
      ]
     },
     "execution_count": 12,
     "metadata": {},
     "output_type": "execute_result"
    }
   ],
   "source": [
    "category_preds_df = eKonf.load_data(\"esg_categories-preds.parquet\", data_dir)\n",
    "category_preds_df"
   ]
  },
  {
   "cell_type": "code",
   "execution_count": 13,
   "metadata": {
    "pycharm": {
     "name": "#%%\n"
    }
   },
   "outputs": [
    {
     "data": {
      "text/html": [
       "<div>\n",
       "<style scoped>\n",
       "    .dataframe tbody tr th:only-of-type {\n",
       "        vertical-align: middle;\n",
       "    }\n",
       "\n",
       "    .dataframe tbody tr th {\n",
       "        vertical-align: top;\n",
       "    }\n",
       "\n",
       "    .dataframe thead th {\n",
       "        text-align: right;\n",
       "    }\n",
       "</style>\n",
       "<table border=\"1\" class=\"dataframe\">\n",
       "  <thead>\n",
       "    <tr style=\"text-align: right;\">\n",
       "      <th></th>\n",
       "      <th>filename</th>\n",
       "      <th>codes</th>\n",
       "      <th>len</th>\n",
       "      <th>num_codes</th>\n",
       "    </tr>\n",
       "  </thead>\n",
       "  <tbody>\n",
       "    <tr>\n",
       "      <th>0</th>\n",
       "      <td>02100101.20200101040200001.txt</td>\n",
       "      <td>000660</td>\n",
       "      <td>47</td>\n",
       "      <td>3</td>\n",
       "    </tr>\n",
       "    <tr>\n",
       "      <th>1</th>\n",
       "      <td>02100101.20200101040200001.txt</td>\n",
       "      <td>034730</td>\n",
       "      <td>47</td>\n",
       "      <td>3</td>\n",
       "    </tr>\n",
       "    <tr>\n",
       "      <th>2</th>\n",
       "      <td>02100101.20200101040200001.txt</td>\n",
       "      <td>005930</td>\n",
       "      <td>47</td>\n",
       "      <td>3</td>\n",
       "    </tr>\n",
       "    <tr>\n",
       "      <th>3</th>\n",
       "      <td>02100101.20200101040200002.txt</td>\n",
       "      <td>066570</td>\n",
       "      <td>47</td>\n",
       "      <td>3</td>\n",
       "    </tr>\n",
       "    <tr>\n",
       "      <th>4</th>\n",
       "      <td>02100101.20200101040200002.txt</td>\n",
       "      <td>003550</td>\n",
       "      <td>47</td>\n",
       "      <td>3</td>\n",
       "    </tr>\n",
       "    <tr>\n",
       "      <th>...</th>\n",
       "      <td>...</td>\n",
       "      <td>...</td>\n",
       "      <td>...</td>\n",
       "      <td>...</td>\n",
       "    </tr>\n",
       "    <tr>\n",
       "      <th>669713</th>\n",
       "      <td>02100851.20220531182621001.txt</td>\n",
       "      <td>066570</td>\n",
       "      <td>47</td>\n",
       "      <td>3</td>\n",
       "    </tr>\n",
       "    <tr>\n",
       "      <th>669714</th>\n",
       "      <td>02100851.20220531190051001.txt</td>\n",
       "      <td>035720</td>\n",
       "      <td>33</td>\n",
       "      <td>1</td>\n",
       "    </tr>\n",
       "    <tr>\n",
       "      <th>669715</th>\n",
       "      <td>02100851.20220531190601001.txt</td>\n",
       "      <td>030200</td>\n",
       "      <td>40</td>\n",
       "      <td>2</td>\n",
       "    </tr>\n",
       "    <tr>\n",
       "      <th>669716</th>\n",
       "      <td>02100851.20220531190601001.txt</td>\n",
       "      <td>352820</td>\n",
       "      <td>40</td>\n",
       "      <td>2</td>\n",
       "    </tr>\n",
       "    <tr>\n",
       "      <th>669717</th>\n",
       "      <td>02100851.20220531221646001.txt</td>\n",
       "      <td>035720</td>\n",
       "      <td>33</td>\n",
       "      <td>1</td>\n",
       "    </tr>\n",
       "  </tbody>\n",
       "</table>\n",
       "<p>669718 rows × 4 columns</p>\n",
       "</div>"
      ],
      "text/plain": [
       "                              filename   codes  len  num_codes\n",
       "0       02100101.20200101040200001.txt  000660   47          3\n",
       "1       02100101.20200101040200001.txt  034730   47          3\n",
       "2       02100101.20200101040200001.txt  005930   47          3\n",
       "3       02100101.20200101040200002.txt  066570   47          3\n",
       "4       02100101.20200101040200002.txt  003550   47          3\n",
       "...                                ...     ...  ...        ...\n",
       "669713  02100851.20220531182621001.txt  066570   47          3\n",
       "669714  02100851.20220531190051001.txt  035720   33          1\n",
       "669715  02100851.20220531190601001.txt  030200   40          2\n",
       "669716  02100851.20220531190601001.txt  352820   40          2\n",
       "669717  02100851.20220531221646001.txt  035720   33          1\n",
       "\n",
       "[669718 rows x 4 columns]"
      ]
     },
     "execution_count": 13,
     "metadata": {},
     "output_type": "execute_result"
    }
   ],
   "source": [
    "code_info_available = eKonf.load_data(\"econ_news_code_info_available.parquet\", data_dir)\n",
    "code_info_available"
   ]
  },
  {
   "cell_type": "code",
   "execution_count": 15,
   "metadata": {
    "pycharm": {
     "name": "#%%\n"
    },
    "tags": [
     "hide-cell"
    ]
   },
   "outputs": [],
   "source": [
    "# p_cols = ['id', 'chunk_id', 'text', 'filename', 'pred_labels']\n",
    "# c_cols = ['id', 'chunk_id', 'pred_labels']\n",
    "# pred_data = polarity_preds_df[p_cols].rename(columns={\"pred_labels\": \"pred_polarity\"}).merge(\n",
    "#     category_preds_df[c_cols].rename(columns={\"pred_labels\": \"pred_category\"}), on=['id', 'chunk_id']\n",
    "# ).merge(\n",
    "#     code_info_available, on='filename'\n",
    "# )\n",
    "\n",
    "# xls_path = eKonf.join_path(data_dir, \"esg_preds_all.xlsx\")\n",
    "# pred_data.to_excel(xls_path)\n"
   ]
  },
  {
   "cell_type": "code",
   "execution_count": 16,
   "metadata": {
    "pycharm": {
     "name": "#%%\n"
    },
    "tags": [
     "hide-cell"
    ]
   },
   "outputs": [],
   "source": [
    "# codes = eKonf.load_data(\"codes.csv\", data_dir, dtype={\"codes\":\"str\"})\n",
    "# xls_path = eKonf.join_path(data_dir, \"esg_preds.xlsx\")\n",
    "# pred_data.merge(codes).to_excel(xls_path)"
   ]
  },
  {
   "cell_type": "code",
   "execution_count": null,
   "metadata": {
    "pycharm": {
     "name": "#%%\n"
    }
   },
   "outputs": [],
   "source": []
  }
 ],
 "metadata": {
  "celltoolbar": "Tags",
  "colab": {
   "name": "corpus.ipynb",
   "provenance": []
  },
  "interpreter": {
   "hash": "f869af7787e6a1c49e09e367fc6e1b81d93d1c6583b43249c80edc047bd13cb2"
  },
  "kernelspec": {
   "display_name": "Python 3 (ipykernel)",
   "language": "python",
   "name": "python3"
  },
  "language_info": {
   "codemirror_mode": {
    "name": "ipython",
    "version": 3
   },
   "file_extension": ".py",
   "mimetype": "text/x-python",
   "name": "python",
   "nbconvert_exporter": "python",
   "pygments_lexer": "ipython3",
   "version": "3.8.12"
  },
  "widgets": {
   "application/vnd.jupyter.widget-state+json": {
    "state": {},
    "version_major": 2,
    "version_minor": 0
   }
  }
 },
 "nbformat": 4,
 "nbformat_minor": 4
}
