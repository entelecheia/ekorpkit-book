{
 "cells": [
  {
   "cell_type": "markdown",
   "metadata": {
    "id": "AESO0odcxhzs",
    "pycharm": {
     "name": "#%% md\n"
    }
   },
   "source": [
    "# Training Classifiers for ESG Ratings"
   ]
  },
  {
   "cell_type": "code",
   "execution_count": 1,
   "metadata": {
    "id": "EJ0AoNl-xif_",
    "pycharm": {
     "name": "#%%\n"
    }
   },
   "outputs": [
    {
     "name": "stderr",
     "output_type": "stream",
     "text": [
      "INFO:ekorpkit.base:Set environment variable EKORPKIT_DATA_ROOT=/workspace/data\n",
      "INFO:ekorpkit.base:Set environment variable CACHED_PATH_CACHE_ROOT=/workspace/.cache/cached_path\n"
     ]
    },
    {
     "name": "stdout",
     "output_type": "stream",
     "text": [
      "version: 0.1.40.post0.dev55\n",
      "project_dir: /workspace/projects/ekorpkit-book/exmaples\n",
      "time: 936 ms (started: 2022-12-15 11:57:47 +00:00)\n"
     ]
    }
   ],
   "source": [
    "from ekorpkit import eKonf\n",
    "\n",
    "if eKonf.is_colab():\n",
    "    eKonf.mount_google_drive()\n",
    "workspace_dir = \"/workspace\"\n",
    "project_name = \"ekorpkit-book/exmaples\"\n",
    "task_name = \"esg\"\n",
    "ws = eKonf.set_workspace(\n",
    "    workspace=workspace_dir, \n",
    "    project=project_name, \n",
    "    task=task_name, \n",
    "    log_level=\"INFO\"\n",
    ")\n",
    "print(\"version:\", ws.version)\n",
    "print(\"project_dir:\", ws.project_dir)"
   ]
  },
  {
   "cell_type": "markdown",
   "metadata": {
    "id": "pzjBtQqpnqcy",
    "pycharm": {
     "name": "#%% md\n"
    }
   },
   "source": [
    "## Preparing `esg_polarity_kr` dataset"
   ]
  },
  {
   "cell_type": "code",
   "execution_count": 2,
   "metadata": {
    "colab": {
     "base_uri": "https://localhost:8080/",
     "height": 659
    },
    "id": "RdpBCIbBny8z",
    "outputId": "f655ea5b-5afb-43a1-cfec-7df3e6d32d92",
    "pycharm": {
     "name": "#%%\n"
    },
    "scrolled": false
   },
   "outputs": [
    {
     "name": "stderr",
     "output_type": "stream",
     "text": [
      "INFO:ekorpkit.datasets.config:Loaded info file: /workspace/projects/ekorpkit-book/exmaples/data/inputs/esg_polarity_kr/info-esg_polarity_kr.yaml\n",
      "INFO:ekorpkit.info.column:index: index, index of data: index, columns: ['id', 'text', 'labels', 'split'], id: ['id']\n",
      "INFO:ekorpkit.info.column:Adding id [split] to ['id']\n",
      "INFO:ekorpkit.info.column:Added id [split], now ['id', 'split']\n",
      "INFO:ekorpkit.info.column:Added a column [split] with value [train]\n",
      "INFO:ekorpkit.info.column:Added a column [split] with value [test]\n",
      "INFO:ekorpkit.info.column:Added a column [split] with value [dev]\n"
     ]
    },
    {
     "name": "stdout",
     "output_type": "stream",
     "text": [
      "time: 1.83 s (started: 2022-12-15 11:57:48 +00:00)\n"
     ]
    }
   ],
   "source": [
    "from ekorpkit.datasets.dataset import Dataset\n",
    "\n",
    "ds_cfg = eKonf.compose(\"dataset=dataset\")\n",
    "ds_cfg.name = 'esg_polarity_kr'\n",
    "ds_cfg.data_dir = ds_cfg.path.data_dir\n",
    "ds = Dataset(**ds_cfg)"
   ]
  },
  {
   "cell_type": "code",
   "execution_count": 3,
   "metadata": {
    "tags": [
     "hide-output"
    ]
   },
   "outputs": [
    {
     "data": {
      "text/plain": [
       "{'splits': {'train': {'data_file': 'esg_polarity_kr-train.parquet',\n",
       "   'name': 'train',\n",
       "   'num_examples': 8713,\n",
       "   'num_bytes': 5631718,\n",
       "   'num_bytes_median': 694.0,\n",
       "   'num_bytes_max': 3196,\n",
       "   'num_bytes_min': 28,\n",
       "   'human_bytes': '5.37 MiB'},\n",
       "  'test': {'data_file': 'esg_polarity_kr-test.parquet',\n",
       "   'name': 'test',\n",
       "   'num_examples': 2724,\n",
       "   'num_bytes': 1764544,\n",
       "   'num_bytes_median': 697.0,\n",
       "   'num_bytes_max': 1893,\n",
       "   'num_bytes_min': 77,\n",
       "   'human_bytes': '1.68 MiB'},\n",
       "  'dev': {'data_file': 'esg_polarity_kr-dev.parquet',\n",
       "   'name': 'dev',\n",
       "   'num_examples': 2179,\n",
       "   'num_bytes': 1411447,\n",
       "   'num_bytes_median': 696.0,\n",
       "   'num_bytes_max': 3295,\n",
       "   'num_bytes_min': 16,\n",
       "   'human_bytes': '1.35 MiB'}},\n",
       " 'num_examples': 13616,\n",
       " 'size_in_bytes': 8807709,\n",
       " 'size_in_human_bytes': '8.40 MiB',\n",
       " 'data_files': {'train': 'esg_polarity_kr-train.parquet',\n",
       "  'test': 'esg_polarity_kr-test.parquet',\n",
       "  'dev': 'esg_polarity_kr-dev.parquet'},\n",
       " 'meta_files': {},\n",
       " 'data_files_modified': '2022-07-11 04:30:34',\n",
       " 'info_updated': '2022-07-11 04:30:34',\n",
       " 'column_info': {'columns': {'id': ['id', 'split'], 'text': 'text'},\n",
       "  'datetime': {'columns': None, 'format': None, 'rcParams': None},\n",
       "  'data': {'id': 'int64',\n",
       "   'text': 'object',\n",
       "   'labels': 'object',\n",
       "   'split': 'str'}}}"
      ]
     },
     "execution_count": 3,
     "metadata": {},
     "output_type": "execute_result"
    },
    {
     "name": "stdout",
     "output_type": "stream",
     "text": [
      "time: 3.82 ms (started: 2022-12-15 11:57:50 +00:00)\n"
     ]
    }
   ],
   "source": [
    "ds.INFO"
   ]
  },
  {
   "cell_type": "markdown",
   "metadata": {
    "id": "3uhF3cDynUuj",
    "outputId": "a50d12e1-9ab3-4496-af54-cae58051f1ed",
    "pycharm": {
     "name": "#%% md\n"
    }
   },
   "source": [
    "## Training a polarity classficiation model with `esg_polarity_kr` dataset"
   ]
  },
  {
   "cell_type": "code",
   "execution_count": 4,
   "metadata": {
    "id": "i9__LTKOnUuj",
    "pycharm": {
     "name": "#%%\n"
    },
    "scrolled": false,
    "tags": [
     "hide-output"
    ]
   },
   "outputs": [
    {
     "name": "stderr",
     "output_type": "stream",
     "text": [
      "2022-12-15 11:57:50.922745: I tensorflow/core/platform/cpu_feature_guard.cc:193] This TensorFlow binary is optimized with oneAPI Deep Neural Network Library (oneDNN) to use the following CPU instructions in performance-critical operations:  AVX2 FMA\n",
      "To enable them in other operations, rebuild TensorFlow with the appropriate compiler flags.\n"
     ]
    },
    {
     "name": "stdout",
     "output_type": "stream",
     "text": [
      "time: 6.41 s (started: 2022-12-15 11:57:50 +00:00)\n"
     ]
    }
   ],
   "source": [
    "from ekorpkit.models.transformer.simple import SimpleClassification\n",
    "from ekorpkit import eKonf\n",
    "\n",
    "model_cfg = eKonf.compose('task=simple.classification')\n",
    "model_cfg.name = \"esg_polarity\"\n",
    "model_cfg.dataset.data_dir = ds.data_dir\n",
    "model_cfg.dataset.data_files = ds.data_files\n",
    "model_cfg.model.model_name_or_path = \"entelecheia/ekonelectra-base-discriminator\"\n",
    "model_cfg.trainer.num_train_epochs = 2\n",
    "model_cfg.trainer.max_seq_length = 256\n",
    "model_cfg.trainer.train_batch_size = 32\n",
    "model_cfg.trainer.eval_batch_size = 32\n",
    "# eKonf.print(model_cfg.model.eval)\n",
    "\n",
    "sm = SimpleClassification(**model_cfg)"
   ]
  },
  {
   "cell_type": "code",
   "execution_count": null,
   "metadata": {
    "scrolled": false
   },
   "outputs": [
    {
     "name": "stderr",
     "output_type": "stream",
     "text": [
      "INFO:ekorpkit.datasets.config:Train data: (8713, 4)\n",
      "INFO:ekorpkit.datasets.config:Test data: (2724, 4)\n",
      "INFO:ekorpkit.models.transformer.simple:Renaming columns: {}\n",
      "INFO:ekorpkit.models.transformer.simple:Renaming columns: {}\n",
      "INFO:ekorpkit.models.transformer.simple:Renaming columns: {}\n",
      "Some weights of the model checkpoint at entelecheia/ekonelectra-base-discriminator were not used when initializing ElectraForSequenceClassification: ['discriminator_predictions.dense.bias', 'discriminator_predictions.dense_prediction.bias', 'discriminator_predictions.dense_prediction.weight', 'discriminator_predictions.dense.weight']\n",
      "- This IS expected if you are initializing ElectraForSequenceClassification from the checkpoint of a model trained on another task or with another architecture (e.g. initializing a BertForSequenceClassification model from a BertForPreTraining model).\n",
      "- This IS NOT expected if you are initializing ElectraForSequenceClassification from the checkpoint of a model that you expect to be exactly identical (initializing a BertForSequenceClassification model from a BertForSequenceClassification model).\n",
      "Some weights of ElectraForSequenceClassification were not initialized from the model checkpoint at entelecheia/ekonelectra-base-discriminator and are newly initialized: ['classifier.out_proj.weight', 'classifier.dense.bias', 'classifier.out_proj.bias', 'classifier.dense.weight']\n",
      "You should probably TRAIN this model on a down-stream task to be able to use it for predictions and inference.\n",
      "INFO:simpletransformers.classification.classification_utils: Converting to features started. Cache is not used.\n",
      "INFO:simpletransformers.classification.classification_utils: Saving features into cached file /workspace/.cache/cached_train_electra_256_3_2\n"
     ]
    },
    {
     "data": {
      "application/vnd.jupyter.widget-view+json": {
       "model_id": "c7a7f7434e5f4f05838554c43069a0b3",
       "version_major": 2,
       "version_minor": 0
      },
      "text/plain": [
       "Epoch:   0%|          | 0/2 [00:00<?, ?it/s]"
      ]
     },
     "metadata": {},
     "output_type": "display_data"
    },
    {
     "name": "stderr",
     "output_type": "stream",
     "text": [
      "INFO:simpletransformers.classification.classification_model: Initializing WandB run for training.\n",
      "\u001b[34m\u001b[1mwandb\u001b[0m: Currently logged in as: \u001b[33mentelecheia\u001b[0m. Use \u001b[1m`wandb login --relogin`\u001b[0m to force relogin\n"
     ]
    },
    {
     "data": {
      "text/html": [
       "Tracking run with wandb version 0.13.7"
      ],
      "text/plain": [
       "<IPython.core.display.HTML object>"
      ]
     },
     "metadata": {},
     "output_type": "display_data"
    },
    {
     "data": {
      "text/html": [
       "Run data is saved locally in <code>/workspace/projects/ekorpkit-book/exmaples/esg/logs/wandb/run-20221215_115806-2h04jfx6</code>"
      ],
      "text/plain": [
       "<IPython.core.display.HTML object>"
      ]
     },
     "metadata": {},
     "output_type": "display_data"
    },
    {
     "data": {
      "text/html": [
       "Syncing run <strong><a href=\"https://wandb.ai/entelecheia/ekorpkit-book-exmaples-esg_polarity/runs/2h04jfx6\" target=\"_blank\">usual-star-5</a></strong> to <a href=\"https://wandb.ai/entelecheia/ekorpkit-book-exmaples-esg_polarity\" target=\"_blank\">Weights & Biases</a> (<a href=\"https://wandb.me/run\" target=\"_blank\">docs</a>)<br/>"
      ],
      "text/plain": [
       "<IPython.core.display.HTML object>"
      ]
     },
     "metadata": {},
     "output_type": "display_data"
    },
    {
     "data": {
      "application/vnd.jupyter.widget-view+json": {
       "model_id": "1ed3dfd7ea19496f8b11e5a22c0095b0",
       "version_major": 2,
       "version_minor": 0
      },
      "text/plain": [
       "Running Epoch 0 of 2:   0%|          | 0/273 [00:00<?, ?it/s]"
      ]
     },
     "metadata": {},
     "output_type": "display_data"
    },
    {
     "name": "stderr",
     "output_type": "stream",
     "text": [
      "INFO:simpletransformers.classification.classification_utils: Converting to features started. Cache is not used.\n",
      "INFO:simpletransformers.classification.classification_utils: Saving features into cached file /workspace/.cache/cached_dev_electra_256_3_2\n",
      "INFO:simpletransformers.classification.classification_model:{'mcc': 0.49076725275249233, 'acc': 0.7549334557136301, 'eval_loss': 0.5612490766722223}\n"
     ]
    },
    {
     "data": {
      "application/vnd.jupyter.widget-view+json": {
       "model_id": "9a0dfe5aec3a4c77a6fff082b6c2d099",
       "version_major": 2,
       "version_minor": 0
      },
      "text/plain": [
       "Running Epoch 1 of 2:   0%|          | 0/273 [00:00<?, ?it/s]"
      ]
     },
     "metadata": {},
     "output_type": "display_data"
    },
    {
     "name": "stderr",
     "output_type": "stream",
     "text": [
      "INFO:simpletransformers.classification.classification_utils: Converting to features started. Cache is not used.\n",
      "INFO:simpletransformers.classification.classification_utils: Saving features into cached file /workspace/.cache/cached_dev_electra_256_3_2\n",
      "INFO:simpletransformers.classification.classification_model:{'mcc': 0.5123818334583414, 'acc': 0.7535566773749426, 'eval_loss': 0.555486556628476}\n",
      "INFO:simpletransformers.classification.classification_model: Training of electra model complete. Saved to /workspace/projects/ekorpkit-book/exmaples/esg/models/esg_polarity-classification.\n",
      "INFO:simpletransformers.classification.classification_utils: Converting to features started. Cache is not used.\n",
      "INFO:simpletransformers.classification.classification_utils: Saving features into cached file /workspace/.cache/cached_dev_electra_256_3_2\n"
     ]
    },
    {
     "data": {
      "application/vnd.jupyter.widget-view+json": {
       "model_id": "12ba2835ce404a8c95eba93f8a296cc6",
       "version_major": 2,
       "version_minor": 0
      },
      "text/plain": [
       "Running Evaluation:   0%|          | 0/86 [00:00<?, ?it/s]"
      ]
     },
     "metadata": {},
     "output_type": "display_data"
    },
    {
     "name": "stderr",
     "output_type": "stream",
     "text": [
      "INFO:simpletransformers.classification.classification_model: Initializing WandB run for evaluation.\n"
     ]
    },
    {
     "data": {
      "text/html": [
       "Finishing last run (ID:2h04jfx6) before initializing another..."
      ],
      "text/plain": [
       "<IPython.core.display.HTML object>"
      ]
     },
     "metadata": {},
     "output_type": "display_data"
    },
    {
     "data": {
      "text/html": [
       "Waiting for W&B process to finish... <strong style=\"color:green\">(success).</strong>"
      ],
      "text/plain": [
       "<IPython.core.display.HTML object>"
      ]
     },
     "metadata": {},
     "output_type": "display_data"
    },
    {
     "data": {
      "application/vnd.jupyter.widget-view+json": {
       "model_id": "af10bd056b044881a85ea359e12c49ef",
       "version_major": 2,
       "version_minor": 0
      },
      "text/plain": [
       "VBox(children=(Label(value='0.028 MB of 0.035 MB uploaded (0.000 MB deduped)\\r'), FloatProgress(value=0.801084…"
      ]
     },
     "metadata": {},
     "output_type": "display_data"
    }
   ],
   "source": [
    "sm.train()"
   ]
  },
  {
   "cell_type": "code",
   "execution_count": null,
   "metadata": {
    "pycharm": {
     "name": "#%%\n"
    }
   },
   "outputs": [],
   "source": [
    "sm.eval()"
   ]
  },
  {
   "cell_type": "markdown",
   "metadata": {
    "pycharm": {
     "name": "#%% md\n"
    }
   },
   "source": [
    "## Preparing `esg_topics_improved` dataset"
   ]
  },
  {
   "cell_type": "code",
   "execution_count": 7,
   "metadata": {
    "pycharm": {
     "name": "#%%\n"
    }
   },
   "outputs": [
    {
     "name": "stdout",
     "output_type": "stream",
     "text": [
      "['S-기업(공급망)동반성장/상생', 'G-지배구조', 'G-기업윤리/불공정/소송', 'S-소비자', 'E-환경혁신', 'S-사회공헌', 'S-고용', 'E-환경영향', 'E-기후변화', 'S-재해/안전관리']\n"
     ]
    }
   ],
   "source": [
    "ds_cfg = eKonf.compose('dataset')\n",
    "ds_cfg.name = 'esg_topics_improved'\n",
    "ds_cfg.data_dir = '/workspace/data/datasets/simple'\n",
    "ds = eKonf.instantiate(ds_cfg)\n",
    "labels = list(ds.splits['train'].labels.unique())\n",
    "print(labels)"
   ]
  },
  {
   "cell_type": "markdown",
   "metadata": {
    "pycharm": {
     "name": "#%% md\n"
    }
   },
   "source": [
    "## Training a category classficiation model with `esg_topics_improved` dataset"
   ]
  },
  {
   "cell_type": "code",
   "execution_count": 8,
   "metadata": {
    "pycharm": {
     "name": "#%%\n"
    },
    "scrolled": true,
    "tags": [
     "hide-output"
    ]
   },
   "outputs": [
    {
     "name": "stderr",
     "output_type": "stream",
     "text": [
      "INFO:ekorpkit.base:Calling train\n",
      "Some weights of the model checkpoint at entelecheia/ekonelectra-base-discriminator were not used when initializing ElectraForSequenceClassification: ['discriminator_predictions.dense_prediction.bias', 'discriminator_predictions.dense.weight', 'discriminator_predictions.dense_prediction.weight', 'discriminator_predictions.dense.bias']\n",
      "- This IS expected if you are initializing ElectraForSequenceClassification from the checkpoint of a model trained on another task or with another architecture (e.g. initializing a BertForSequenceClassification model from a BertForPreTraining model).\n",
      "- This IS NOT expected if you are initializing ElectraForSequenceClassification from the checkpoint of a model that you expect to be exactly identical (initializing a BertForSequenceClassification model from a BertForSequenceClassification model).\n",
      "Some weights of ElectraForSequenceClassification were not initialized from the model checkpoint at entelecheia/ekonelectra-base-discriminator and are newly initialized: ['classifier.out_proj.bias', 'classifier.out_proj.weight', 'classifier.dense.bias', 'classifier.dense.weight']\n",
      "You should probably TRAIN this model on a down-stream task to be able to use it for predictions and inference.\n"
     ]
    },
    {
     "data": {
      "application/json": {
       "ascii": false,
       "bar_format": null,
       "colour": null,
       "elapsed": 0.013862133026123047,
       "initial": 0,
       "n": 0,
       "ncols": null,
       "nrows": null,
       "postfix": null,
       "prefix": "",
       "rate": null,
       "total": 8953,
       "unit": "it",
       "unit_divisor": 1000,
       "unit_scale": false
      },
      "application/vnd.jupyter.widget-view+json": {
       "model_id": "b892abc8e2fc44898dc545480a56dd55",
       "version_major": 2,
       "version_minor": 0
      },
      "text/plain": [
       "  0%|          | 0/8953 [00:00<?, ?it/s]"
      ]
     },
     "metadata": {},
     "output_type": "display_data"
    },
    {
     "name": "stderr",
     "output_type": "stream",
     "text": [
      "Token indices sequence length is longer than the specified maximum sequence length for this model (731 > 512). Running this sequence through the model will result in indexing errors\n"
     ]
    },
    {
     "data": {
      "application/json": {
       "ascii": false,
       "bar_format": null,
       "colour": null,
       "elapsed": 0.013896703720092773,
       "initial": 0,
       "n": 0,
       "ncols": null,
       "nrows": null,
       "postfix": null,
       "prefix": "Epoch",
       "rate": null,
       "total": 2,
       "unit": "it",
       "unit_divisor": 1000,
       "unit_scale": false
      },
      "application/vnd.jupyter.widget-view+json": {
       "model_id": "98c40a72553e410bbf4b6facf6383ca0",
       "version_major": 2,
       "version_minor": 0
      },
      "text/plain": [
       "Epoch:   0%|          | 0/2 [00:00<?, ?it/s]"
      ]
     },
     "metadata": {},
     "output_type": "display_data"
    },
    {
     "data": {
      "text/html": [
       "Finishing last run (ID:3ml02loa) before initializing another..."
      ],
      "text/plain": [
       "<IPython.core.display.HTML object>"
      ]
     },
     "metadata": {},
     "output_type": "display_data"
    },
    {
     "data": {
      "text/html": [
       "Waiting for W&B process to finish... <strong style=\"color:green\">(success).</strong>"
      ],
      "text/plain": [
       "<IPython.core.display.HTML object>"
      ]
     },
     "metadata": {},
     "output_type": "display_data"
    },
    {
     "data": {
      "application/vnd.jupyter.widget-view+json": {
       "model_id": "",
       "version_major": 2,
       "version_minor": 0
      },
      "text/plain": [
       "VBox(children=(Label(value='0.002 MB of 0.002 MB uploaded (0.000 MB deduped)\\r'), FloatProgress(value=1.0, max…"
      ]
     },
     "metadata": {},
     "output_type": "display_data"
    },
    {
     "data": {
      "text/html": [
       "Synced <strong style=\"color:#cdcd00\">whole-puddle-9</strong>: <a href=\"https://wandb.ai/entelecheia/ekorpkit-book-esg_polarity/runs/3ml02loa\" target=\"_blank\">https://wandb.ai/entelecheia/ekorpkit-book-esg_polarity/runs/3ml02loa</a><br/>Synced 5 W&B file(s), 1 media file(s), 1 artifact file(s) and 0 other file(s)"
      ],
      "text/plain": [
       "<IPython.core.display.HTML object>"
      ]
     },
     "metadata": {},
     "output_type": "display_data"
    },
    {
     "data": {
      "text/html": [
       "Find logs at: <code>/workspace/projects/ekorpkit-book/outputs/esg_polarity/ekonelectra-base/wandb/run-20220906_082017-3ml02loa/logs</code>"
      ],
      "text/plain": [
       "<IPython.core.display.HTML object>"
      ]
     },
     "metadata": {},
     "output_type": "display_data"
    },
    {
     "data": {
      "text/html": [
       "Successfully finished last run (ID:3ml02loa). Initializing new run:<br/>"
      ],
      "text/plain": [
       "<IPython.core.display.HTML object>"
      ]
     },
     "metadata": {},
     "output_type": "display_data"
    },
    {
     "name": "stdout",
     "output_type": "stream",
     "text": [
      "huggingface/tokenizers: The current process just got forked, after parallelism has already been used. Disabling parallelism to avoid deadlocks...\n",
      "To disable this warning, you can either:\n",
      "\t- Avoid using `tokenizers` before the fork if possible\n",
      "\t- Explicitly set the environment variable TOKENIZERS_PARALLELISM=(true | false)\n"
     ]
    },
    {
     "data": {
      "text/html": [
       "Tracking run with wandb version 0.13.2"
      ],
      "text/plain": [
       "<IPython.core.display.HTML object>"
      ]
     },
     "metadata": {},
     "output_type": "display_data"
    },
    {
     "data": {
      "text/html": [
       "Run data is saved locally in <code>/workspace/projects/ekorpkit-book/outputs/esg_topics/ekonelectra-base/wandb/run-20220906_082130-tlf4xqgt</code>"
      ],
      "text/plain": [
       "<IPython.core.display.HTML object>"
      ]
     },
     "metadata": {},
     "output_type": "display_data"
    },
    {
     "data": {
      "text/html": [
       "Syncing run <strong><a href=\"https://wandb.ai/entelecheia/ekorpkit-book-esg_topics/runs/tlf4xqgt\" target=\"_blank\">autumn-durian-99</a></strong> to <a href=\"https://wandb.ai/entelecheia/ekorpkit-book-esg_topics\" target=\"_blank\">Weights & Biases</a> (<a href=\"https://wandb.me/run\" target=\"_blank\">docs</a>)<br/>"
      ],
      "text/plain": [
       "<IPython.core.display.HTML object>"
      ]
     },
     "metadata": {},
     "output_type": "display_data"
    },
    {
     "data": {
      "application/json": {
       "ascii": false,
       "bar_format": null,
       "colour": null,
       "elapsed": 0.014087677001953125,
       "initial": 0,
       "n": 0,
       "ncols": null,
       "nrows": null,
       "postfix": null,
       "prefix": "Running Epoch 0 of 2",
       "rate": null,
       "total": 289,
       "unit": "it",
       "unit_divisor": 1000,
       "unit_scale": false
      },
      "application/vnd.jupyter.widget-view+json": {
       "model_id": "5b7e72f8edf94d55af8efeb90df69ea5",
       "version_major": 2,
       "version_minor": 0
      },
      "text/plain": [
       "Running Epoch 0 of 2:   0%|          | 0/289 [00:00<?, ?it/s]"
      ]
     },
     "metadata": {},
     "output_type": "display_data"
    },
    {
     "data": {
      "application/json": {
       "ascii": false,
       "bar_format": null,
       "colour": null,
       "elapsed": 0.014039039611816406,
       "initial": 0,
       "n": 0,
       "ncols": null,
       "nrows": null,
       "postfix": null,
       "prefix": "Running Epoch 1 of 2",
       "rate": null,
       "total": 289,
       "unit": "it",
       "unit_divisor": 1000,
       "unit_scale": false
      },
      "application/vnd.jupyter.widget-view+json": {
       "model_id": "0d3ed3e199af49a7a0a1a51d40c4e703",
       "version_major": 2,
       "version_minor": 0
      },
      "text/plain": [
       "Running Epoch 1 of 2:   0%|          | 0/289 [00:00<?, ?it/s]"
      ]
     },
     "metadata": {},
     "output_type": "display_data"
    },
    {
     "data": {
      "application/json": {
       "ascii": false,
       "bar_format": null,
       "colour": null,
       "elapsed": 0.013792753219604492,
       "initial": 0,
       "n": 0,
       "ncols": null,
       "nrows": null,
       "postfix": null,
       "prefix": "",
       "rate": null,
       "total": 1106,
       "unit": "it",
       "unit_divisor": 1000,
       "unit_scale": false
      },
      "application/vnd.jupyter.widget-view+json": {
       "model_id": "95213d79b1da4dc5977187e7dbfdab63",
       "version_major": 2,
       "version_minor": 0
      },
      "text/plain": [
       "  0%|          | 0/1106 [00:00<?, ?it/s]"
      ]
     },
     "metadata": {},
     "output_type": "display_data"
    },
    {
     "data": {
      "application/json": {
       "ascii": false,
       "bar_format": null,
       "colour": null,
       "elapsed": 0.013723611831665039,
       "initial": 0,
       "n": 0,
       "ncols": null,
       "nrows": null,
       "postfix": null,
       "prefix": "Running Evaluation",
       "rate": null,
       "total": 36,
       "unit": "it",
       "unit_divisor": 1000,
       "unit_scale": false
      },
      "application/vnd.jupyter.widget-view+json": {
       "model_id": "2aa5ac34664f444a98423f5aaa0b314d",
       "version_major": 2,
       "version_minor": 0
      },
      "text/plain": [
       "Running Evaluation:   0%|          | 0/36 [00:00<?, ?it/s]"
      ]
     },
     "metadata": {},
     "output_type": "display_data"
    },
    {
     "data": {
      "text/html": [
       "Finishing last run (ID:tlf4xqgt) before initializing another..."
      ],
      "text/plain": [
       "<IPython.core.display.HTML object>"
      ]
     },
     "metadata": {},
     "output_type": "display_data"
    },
    {
     "data": {
      "text/html": [
       "Waiting for W&B process to finish... <strong style=\"color:green\">(success).</strong>"
      ],
      "text/plain": [
       "<IPython.core.display.HTML object>"
      ]
     },
     "metadata": {},
     "output_type": "display_data"
    },
    {
     "data": {
      "application/vnd.jupyter.widget-view+json": {
       "model_id": "",
       "version_major": 2,
       "version_minor": 0
      },
      "text/plain": [
       "VBox(children=(Label(value='0.001 MB of 0.001 MB uploaded (0.000 MB deduped)\\r'), FloatProgress(value=1.0, max…"
      ]
     },
     "metadata": {},
     "output_type": "display_data"
    },
    {
     "data": {
      "text/html": [
       "<style>\n",
       "    table.wandb td:nth-child(1) { padding: 0 10px; text-align: left ; width: auto;} td:nth-child(2) {text-align: left ; width: 100%}\n",
       "    .wandb-row { display: flex; flex-direction: row; flex-wrap: wrap; justify-content: flex-start; width: 100% }\n",
       "    .wandb-col { display: flex; flex-direction: column; flex-basis: 100%; flex: 1; padding: 10px; }\n",
       "    </style>\n",
       "<div class=\"wandb-row\"><div class=\"wandb-col\"><h3>Run history:</h3><br/><table class=\"wandb\"><tr><td>Training loss</td><td>█▇▄▄▄▂▂▁▄▃▁</td></tr><tr><td>acc</td><td>▁█</td></tr><tr><td>eval_loss</td><td>█▁</td></tr><tr><td>global_step</td><td>▁▂▂▃▄▄▄▅▆▆▇██</td></tr><tr><td>lr</td><td>█▇▇▆▅▄▄▃▂▂▁</td></tr><tr><td>mcc</td><td>▁█</td></tr><tr><td>train_loss</td><td>▁█</td></tr></table><br/></div><div class=\"wandb-col\"><h3>Run summary:</h3><br/><table class=\"wandb\"><tr><td>Training loss</td><td>0.37387</td></tr><tr><td>acc</td><td>0.77688</td></tr><tr><td>eval_loss</td><td>0.77565</td></tr><tr><td>global_step</td><td>578</td></tr><tr><td>lr</td><td>0.0</td></tr><tr><td>mcc</td><td>0.73578</td></tr><tr><td>train_loss</td><td>1.0478</td></tr></table><br/></div></div>"
      ],
      "text/plain": [
       "<IPython.core.display.HTML object>"
      ]
     },
     "metadata": {},
     "output_type": "display_data"
    },
    {
     "data": {
      "text/html": [
       "Synced <strong style=\"color:#cdcd00\">autumn-durian-99</strong>: <a href=\"https://wandb.ai/entelecheia/ekorpkit-book-esg_topics/runs/tlf4xqgt\" target=\"_blank\">https://wandb.ai/entelecheia/ekorpkit-book-esg_topics/runs/tlf4xqgt</a><br/>Synced 4 W&B file(s), 0 media file(s), 0 artifact file(s) and 0 other file(s)"
      ],
      "text/plain": [
       "<IPython.core.display.HTML object>"
      ]
     },
     "metadata": {},
     "output_type": "display_data"
    },
    {
     "data": {
      "text/html": [
       "Find logs at: <code>/workspace/projects/ekorpkit-book/outputs/esg_topics/ekonelectra-base/wandb/run-20220906_082130-tlf4xqgt/logs</code>"
      ],
      "text/plain": [
       "<IPython.core.display.HTML object>"
      ]
     },
     "metadata": {},
     "output_type": "display_data"
    },
    {
     "data": {
      "text/html": [
       "Successfully finished last run (ID:tlf4xqgt). Initializing new run:<br/>"
      ],
      "text/plain": [
       "<IPython.core.display.HTML object>"
      ]
     },
     "metadata": {},
     "output_type": "display_data"
    },
    {
     "name": "stdout",
     "output_type": "stream",
     "text": [
      "huggingface/tokenizers: The current process just got forked, after parallelism has already been used. Disabling parallelism to avoid deadlocks...\n",
      "To disable this warning, you can either:\n",
      "\t- Avoid using `tokenizers` before the fork if possible\n",
      "\t- Explicitly set the environment variable TOKENIZERS_PARALLELISM=(true | false)\n"
     ]
    },
    {
     "data": {
      "text/html": [
       "Tracking run with wandb version 0.13.2"
      ],
      "text/plain": [
       "<IPython.core.display.HTML object>"
      ]
     },
     "metadata": {},
     "output_type": "display_data"
    },
    {
     "data": {
      "text/html": [
       "Run data is saved locally in <code>/workspace/projects/ekorpkit-book/outputs/esg_topics/ekonelectra-base/wandb/run-20220906_082259-166sgllt</code>"
      ],
      "text/plain": [
       "<IPython.core.display.HTML object>"
      ]
     },
     "metadata": {},
     "output_type": "display_data"
    },
    {
     "data": {
      "text/html": [
       "Syncing run <strong><a href=\"https://wandb.ai/entelecheia/ekorpkit-book-esg_topics/runs/166sgllt\" target=\"_blank\">logical-night-100</a></strong> to <a href=\"https://wandb.ai/entelecheia/ekorpkit-book-esg_topics\" target=\"_blank\">Weights & Biases</a> (<a href=\"https://wandb.me/run\" target=\"_blank\">docs</a>)<br/>"
      ],
      "text/plain": [
       "<IPython.core.display.HTML object>"
      ]
     },
     "metadata": {},
     "output_type": "display_data"
    },
    {
     "data": {
      "text/plain": [
       "<ekorpkit.models.transformer.simple.SimpleClassification at 0x7f5243c804c0>"
      ]
     },
     "execution_count": 8,
     "metadata": {},
     "output_type": "execute_result"
    }
   ],
   "source": [
    "overrides=[\n",
    "    '+model/transformer=classification',\n",
    "    '+model/transformer/pretrained=ekonelectra-base',\n",
    "]\n",
    "model_cfg = eKonf.compose('model/transformer=classification', overrides)\n",
    "model_cfg.name = \"esg_topics\"\n",
    "model_cfg.dataset = ds_cfg\n",
    "model_cfg.verbose = False\n",
    "model_cfg.config.num_train_epochs = 2\n",
    "model_cfg.config.max_seq_length = 256\n",
    "model_cfg.config.train_batch_size = 32\n",
    "model_cfg.config.eval_batch_size = 32\n",
    "model_cfg._method_ = ['train']\n",
    "eKonf.instantiate(model_cfg)"
   ]
  },
  {
   "cell_type": "code",
   "execution_count": 9,
   "metadata": {
    "pycharm": {
     "name": "#%%\n"
    },
    "scrolled": false
   },
   "outputs": [
    {
     "name": "stderr",
     "output_type": "stream",
     "text": [
      "INFO:ekorpkit.base:Calling eval\n"
     ]
    },
    {
     "data": {
      "application/json": {
       "ascii": false,
       "bar_format": null,
       "colour": null,
       "elapsed": 0.014699220657348633,
       "initial": 0,
       "n": 0,
       "ncols": null,
       "nrows": null,
       "postfix": null,
       "prefix": "",
       "rate": null,
       "total": 1106,
       "unit": "it",
       "unit_divisor": 1000,
       "unit_scale": false
      },
      "application/vnd.jupyter.widget-view+json": {
       "model_id": "134863c24089436f8ef86da5a2e50aab",
       "version_major": 2,
       "version_minor": 0
      },
      "text/plain": [
       "  0%|          | 0/1106 [00:00<?, ?it/s]"
      ]
     },
     "metadata": {},
     "output_type": "display_data"
    },
    {
     "name": "stderr",
     "output_type": "stream",
     "text": [
      "Token indices sequence length is longer than the specified maximum sequence length for this model (712 > 512). Running this sequence through the model will result in indexing errors\n"
     ]
    },
    {
     "data": {
      "application/json": {
       "ascii": false,
       "bar_format": null,
       "colour": null,
       "elapsed": 0.013459444046020508,
       "initial": 0,
       "n": 0,
       "ncols": null,
       "nrows": null,
       "postfix": null,
       "prefix": "",
       "rate": null,
       "total": 36,
       "unit": "it",
       "unit_divisor": 1000,
       "unit_scale": false
      },
      "application/vnd.jupyter.widget-view+json": {
       "model_id": "9a8f019a1781452583d1408a91072821",
       "version_major": 2,
       "version_minor": 0
      },
      "text/plain": [
       "  0%|          | 0/36 [00:00<?, ?it/s]"
      ]
     },
     "metadata": {},
     "output_type": "display_data"
    },
    {
     "name": "stdout",
     "output_type": "stream",
     "text": [
      "Accuracy:  0.77124773960217\n",
      "Precison:  0.772127422955764\n",
      "Recall:  0.77124773960217\n",
      "F1 Score:  0.7653639797849325\n",
      "Model Report: \n",
      "___________________________________________________\n",
      "                  precision    recall  f1-score   support\n",
      "\n",
      "          E-기후변화       0.73      0.65      0.69        63\n",
      "          E-환경영향       0.49      0.51      0.50        61\n",
      "          E-환경혁신       0.66      0.77      0.71       102\n",
      "   G-기업윤리/불공정/소송       0.65      0.55      0.60        91\n",
      "          G-지배구조       0.82      0.87      0.84       172\n",
      "            S-고용       0.87      0.91      0.89       156\n",
      "S-기업(공급망)동반성장/상생       0.85      0.28      0.42        39\n",
      "          S-사회공헌       0.77      0.87      0.81        68\n",
      "           S-소비자       0.82      0.84      0.83       317\n",
      "       S-재해/안전관리       0.79      0.70      0.74        37\n",
      "\n",
      "        accuracy                           0.77      1106\n",
      "       macro avg       0.74      0.69      0.70      1106\n",
      "    weighted avg       0.77      0.77      0.77      1106\n",
      "\n"
     ]
    },
    {
     "data": {
      "text/plain": [
       "<ekorpkit.models.transformer.simple.SimpleClassification at 0x7f5298178550>"
      ]
     },
     "execution_count": 9,
     "metadata": {},
     "output_type": "execute_result"
    },
    {
     "data": {
      "image/png": "[encoded data removed]",
      "text/plain": [
       "<Figure size 864x720 with 2 Axes>"
      ]
     },
     "metadata": {
      "image/png": {
       "height": 691,
       "width": 789
      }
     },
     "output_type": "display_data"
    }
   ],
   "source": [
    "model_cfg._method_ = ['eval']\n",
    "model_cfg.model.eval.visualize.plot.confusion_matrix.include_values = False\n",
    "model_cfg.model.eval.visualize.plot.confusion_matrix.include_percentages = False\n",
    "model_cfg.model.eval.visualize.plot.figure.figsize = (12,10)\n",
    "eKonf.instantiate(model_cfg)"
   ]
  },
  {
   "cell_type": "code",
   "execution_count": null,
   "metadata": {
    "pycharm": {
     "name": "#%%\n"
    }
   },
   "outputs": [],
   "source": []
  }
 ],
 "metadata": {
  "celltoolbar": "Tags",
  "colab": {
   "include_colab_link": true,
   "name": "preprocessor.ipynb",
   "provenance": []
  },
  "kernelspec": {
   "display_name": "Python 3 (ipykernel)",
   "language": "python",
   "name": "python3"
  },
  "language_info": {
   "codemirror_mode": {
    "name": "ipython",
    "version": 3
   },
   "file_extension": ".py",
   "mimetype": "text/x-python",
   "name": "python",
   "nbconvert_exporter": "python",
   "pygments_lexer": "ipython3",
   "version": "3.8.12"
  },
  "vscode": {
   "interpreter": {
    "hash": "d4d1e4263499bec80672ea0156c357c1ee493ec2b1c70f0acce89fc37c4a6abe"
   }
  },
  "widgets": {
   "application/vnd.jupyter.widget-state+json": {
    "state": {},
    "version_major": 2,
    "version_minor": 0
   }
  }
 },
 "nbformat": 4,
 "nbformat_minor": 4
}
