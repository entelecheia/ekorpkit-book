{
 "cells": [
  {
   "cell_type": "markdown",
   "id": "cfdc61fb",
   "metadata": {},
   "source": [
    "# Word Segmentation and Association\n",
    "\n",
    "![](../figs/intro_nlp/words/entelecheia_associaltion_vs_segmentation.png)"
   ]
  },
  {
   "cell_type": "markdown",
   "id": "cc8f9e1e",
   "metadata": {},
   "source": [
    "## Word Segmentation\n",
    "\n",
    "- **Word segmentation** is the task of splitting a string of characters into words.\n",
    "- Word segmentation is important for a machine to understand the meaning of a sentence.\n",
    "- In English, we can split a string of characters into words by spaces.\n",
    "- However, in languages like Chinese and Janpanese, there is no space between words.  \n",
    "- Even in English, there are some cases where no space is used between words.\n",
    "- Humans can easily segment a string of characters into words, even though there is no space between words.\n",
    "- For example, we can easily segment the string of characters `Ilikechocolate` into words `I like chocolate`."
   ]
  },
  {
   "cell_type": "markdown",
   "id": "cef7cf33",
   "metadata": {},
   "source": [
    "## Why should we segment words?\n",
    "\n",
    "There are many applications that require word segmentation, even in English.\n",
    "\n",
    "- Normalizing English compound nouns that are variably written for search engines.\n",
    "  - For example, `ice cream` and `ice-cream` should be segmented into `icecream`.\n",
    "- Word segmentation for compounds: Both orginal words and split words should be in the dictionary.\n",
    "- Typing errors may be corrected by word segmentation.\n",
    "- Conversion errors: During conversion, some spaces may be lost.\n",
    "- OCR errors: OCRed text may contain errors.\n",
    "- Keyword extraction from URL addresses, domain names, table column description or programming variables that are written without spaces.\n",
    "- For password analysis, the extraction of terms from passwords can be required.\n",
    "- Automatic CamelCasing of programming variables.\n",
    "- Speech recognition: Speech recognition systems may not properly recognize spaces between words.\n"
   ]
  },
  {
   "cell_type": "markdown",
   "id": "8de54549",
   "metadata": {},
   "source": [
    "## Generating segment variants\n",
    "\n",
    "We can generate all possible segment variants of a string of characters. Each distinct segment variant is called a **composition**.\n",
    "\n",
    "- En a string of length $n$, there are $n-1$ possible positions to split the string.\n",
    "- Each of the $n-1$ positions can be used as word boundary.\n",
    "- Therefore, there are $2^{n-1}$ possible compositions.\n",
    "\n",
    "The compositions have to be evaluated to find the best segmentation.\n",
    "\n",
    "- The best segmentation is the one that has the highest probability.\n"
   ]
  },
  {
   "cell_type": "markdown",
   "id": "6bf09dec",
   "metadata": {},
   "source": [
    "### Naive Recursive Algorithm\n",
    "\n",
    "- The naive recursive algorithm is to generate all possible compositions and evaluate them.\n",
    "- The time complexity of the naive recursive algorithm is $O(2^n)$.\n",
    "- The naive recursive algorithm is not efficient for long strings."
   ]
  },
  {
   "cell_type": "code",
   "execution_count": 1,
   "id": "d279eb3b",
   "metadata": {},
   "outputs": [],
   "source": [
    "from pprint import pprint\n",
    "\n",
    "def segment_naive(string):\n",
    "    if not string:\n",
    "        return []\n",
    "    else:\n",
    "        return [[string]] + [\n",
    "            [string[:i]] + rest\n",
    "            for i in range(1, len(string))\n",
    "            for rest in segment_naive(string[i:])\n",
    "        ]"
   ]
  },
  {
   "cell_type": "code",
   "execution_count": 2,
   "id": "bdac8abf",
   "metadata": {},
   "outputs": [
    {
     "name": "stdout",
     "output_type": "stream",
     "text": [
      "[['isit'],\n",
      " ['i', 'sit'],\n",
      " ['i', 's', 'it'],\n",
      " ['i', 's', 'i', 't'],\n",
      " ['i', 'si', 't'],\n",
      " ['is', 'it'],\n",
      " ['is', 'i', 't'],\n",
      " ['isi', 't']]\n"
     ]
    }
   ],
   "source": [
    "pprint(segment_naive(\"isit\"))"
   ]
  },
  {
   "cell_type": "code",
   "execution_count": 3,
   "id": "401975f3",
   "metadata": {},
   "outputs": [
    {
     "name": "stdout",
     "output_type": "stream",
     "text": [
      "[['가방에'], ['가', '방에'], ['가', '방', '에'], ['가방', '에']]\n"
     ]
    }
   ],
   "source": [
    "pprint(segment_naive(\"가방에\"))"
   ]
  },
  {
   "cell_type": "code",
   "execution_count": 4,
   "id": "e7a93ca5",
   "metadata": {},
   "outputs": [
    {
     "name": "stdout",
     "output_type": "stream",
     "text": [
      "14 8192\n"
     ]
    }
   ],
   "source": [
    "text = \"thisislongtext\"\n",
    "print(len(text), len(segment_naive(text)))"
   ]
  },
  {
   "cell_type": "code",
   "execution_count": 5,
   "id": "7a93a395",
   "metadata": {},
   "outputs": [
    {
     "name": "stdout",
     "output_type": "stream",
     "text": [
      "11 1024\n"
     ]
    }
   ],
   "source": [
    "text = \"아버지가방에들어가신다\" # Father goes into the bag or Father enters the room\n",
    "print(len(text), len(segment_naive(text)))"
   ]
  },
  {
   "cell_type": "markdown",
   "id": "d7523592",
   "metadata": {},
   "source": [
    "### Dynamic Programming\n",
    "\n",
    "- Dynamic programming is a technique to solve a problem by breaking it into subproblems and storing the results of subproblems to avoid computing the same results again.\n",
    "- The time complexity of dynamic programming is $O(n)$.\n",
    "- For long strings, dynamic programming is much more efficient than the naive recursive algorithm.\n",
    "\n",
    "```python\n",
    "def segment(string, dictionary):\n",
    "    if not string:\n",
    "        return []\n",
    "    for end in range(1, len(string) + 1):\n",
    "        first, rest = string[:end], string[end:]\n",
    "        if first in dictionary:\n",
    "            return [first] + segment(rest, dictionary)\n",
    "    return [string]\n",
    "```"
   ]
  },
  {
   "cell_type": "markdown",
   "id": "bb17af89",
   "metadata": {},
   "source": [
    "### Triangular Matrix\n",
    "\n",
    "- The dynamic programming algorithm can be implemented using a triangular matrix.\n",
    "- The tryangular matrix algorithm uses nested loops and a circular buffer to store the results of subproblems.\n",
    "- A triangular matrix of parts with increasing length is generated and organized in a circular buffer.\n",
    "- This allows a constant amount of memory to be used for the algorithm.\n"
   ]
  },
  {
   "cell_type": "markdown",
   "id": "132d2d7f",
   "metadata": {},
   "source": [
    "### Maximum Matching Algorithm\n",
    "\n",
    "- If we have all known words in a dictionary, we can use the maximum matching algorithm to segment a sentence.\n",
    "- The maximum matching algorithm is a greedy algorithm that finds the longest matching word from the dictionary.\n",
    "- The algorithm is as follows:\n",
    "\n",
    "    1. Find the longest matching word from the dictionary.\n",
    "    2. If the word is found, add the word to the result and remove the word from the input.\n",
    "    3. If the word is not found, add the first character to the result and remove the first character from the input.\n",
    "    4. Repeat 1-3 until the input is empty."
   ]
  },
  {
   "cell_type": "markdown",
   "id": "79b8845f",
   "metadata": {},
   "source": [
    "### Unknown Words\n",
    "\n",
    "- We can not rely on the dictionary to segment all words.\n",
    "- There are uncommon words, new words, misspelled words, foreign words, proper nouns, slang words, etc.\n",
    "- Even in these cases, we want to segment the words into meaningful parts.\n",
    "- Therefore, we have to estimate the probability of any possible segmentation."
   ]
  },
  {
   "cell_type": "markdown",
   "id": "4a1763b6",
   "metadata": {},
   "source": [
    "## Evaluation of Compositions\n",
    "\n",
    "- Generally, we can evaluate a composition by calculating the probability of the composition.\n",
    "- Word probabilities can be estimated from a corpus:\n",
    "\n",
    "    $$\n",
    "    P(w_i) = \\frac{c(w_i)}{N}\n",
    "    $$\n",
    "\n",
    "    where $c(w_i)$ is the count of word $w_i$ and $N$ is the total number of words in the corpus.\n",
    "\n",
    "- However, for unkonwn words, we have to use other criteria to evaluate the composition.\n",
    "- At word boundary, the uncertainty of the segmentation increases.\n",
    "- By measuring the uncertainty, we can evaluate the composition."
   ]
  },
  {
   "cell_type": "markdown",
   "id": "66d50cc3",
   "metadata": {},
   "source": [
    "### Uncertainty of word boundaries\n",
    "\n",
    "- The uncertainty of word boundaries can be measured by the entropy of the word boundary.\n",
    "- {cite}`harris1970phoneme` said that if the uncertainty of successive tokens increases, the location is a word boundary.\n",
    "- {cite}`feng2004accessor` proposed a statistical criterion called accessor variety (AV) to measure how likely a sub-sequence is a word, and then to find the best segmentation pattern that maximizes a target function of accessor variety and the length of the sub-sequence as variants. \n",
    "- {cite}`jin2006unsupervised` proposed branching entropy as another criterion for unsupervised segmentation.\n",
    "- Both criteria share a similar assumption as in the fundamental work by Harris, 1970, that the uncertainty of successive tokens increases at word boundaries.\n",
    "- The latter is the countinous version of the former.\n"
   ]
  },
  {
   "cell_type": "markdown",
   "id": "8321cbbe",
   "metadata": {},
   "source": [
    "![](../figs/intro_nlp/words/branching_entropy_uncertainty.png)"
   ]
  },
  {
   "cell_type": "markdown",
   "id": "7aa2f2dc",
   "metadata": {},
   "source": [
    "\n",
    "### Accessor Variety\n",
    "\n",
    "- The accessor variety (AV) defines that the uncertainty of a sub-sequence is the number of different words that can be formed by adding a sub-sequence to the sub-sequence.\n",
    "- For the forward accessor variety, it is the number of different words that can be formed by adding a sub-sequence to the right side of the sub-sequence.\n",
    "- For the following sub-sequence, the forward accessor variety of `hope` is 2, because `hope` can be followed by `less` or `fully`.\n",
    "\n",
    "    ```\n",
    "    \"hopeful\": 100\n",
    "    \"hopeless\": 80\n",
    "    ```\n",
    "- The backward accessor variety is the number of different words that can be formed by adding a sub-sequence to the left side of the sub-sequence.\n",
    "- For example, the backward accessor variety of `less` is 3, because `hopeless`, `useless`, and `pointless` can be formed by adding `less` to the left side of `less`.\n",
    "\n",
    "    ```\n",
    "    \"hopeless\": 80\n",
    "    \"unless\": 160\n",
    "    \"pointless\": 70\n",
    "    ```\n",
    "- Depending on the language, the forward accessor variety or the backward accessor variety may be more suitable for segmentation.\n",
    "- Threshold values can be used to determine the word boundaries.\n",
    "- The threshold values can be determined by the corpus."
   ]
  },
  {
   "cell_type": "markdown",
   "id": "26c8e83c",
   "metadata": {},
   "source": [
    "### Branching Entropy"
   ]
  },
  {
   "cell_type": "markdown",
   "id": "38328484",
   "metadata": {},
   "source": [
    "**Assumption 1**: The uncertainty of successive tokens increases at word boundaries.\n",
    "\n",
    "- Given a set of elements $X$ and a set of n-gram sequences $X_n$, the conditional entropy of an element occuring after an n-gram sequence $X_n$ is defined as:\n",
    "\n",
    "    $$\n",
    "    H(X|X_n) = -\\sum_{x_n \\in X_n} P(x_n) \\sum_{x \\in X} P(x|x_n) \\log P(x|x_n)\n",
    "    $$\n",
    "\n",
    "    where $P(x) = P(X=x)$, $P(x|x_n) = P(X=x|X_n=x_n)$, and $P(X=x)$ indicates the probability of an element $x$ occuring in $X$.\n",
    "- $H(X|X_n)$ decreases as $n$ increases, meaning that $X$ will become more predictable as $X_n$ becomes longer.\n",
    "- The latter half of the equation, the entropy of $X$ given $X_n$, indicates the average information of branching out from a specific n-gram sequence $X_n$:\n",
    "\n",
    "    $$\n",
    "    H(X|X_n=x_n) = -\\sum_{x \\in X} P(x|x_n) \\log P(x|x_n)\n",
    "    $$\n",
    "\n",
    "- This local entropy is the branching entropy of $X$ given $X_n$, and denoted as $h(x_n)$:\n",
    "\n",
    "    $$\n",
    "    h(x_n) = -\\sum_{x \\in X} P(x|x_n) \\log P(x|x_n)\n",
    "    $$"
   ]
  },
  {
   "cell_type": "markdown",
   "id": "91f7fcdf",
   "metadata": {},
   "source": [
    "\n",
    "**Assumption 2**: If the entropy of successive tokens is high or increasing, the location is a word boundary.\n",
    "\n",
    "- Generally, as the length of the n-gram sequence increases, the entropy of the n-gram sequence decreases.\n",
    "\n",
    "    $$\n",
    "    h(x_n) \\geq h(x_{n-1})\n",
    "    $$\n",
    "    \n",
    "- If $x_n$ is the prefix of $x_{n+1}$, the branching entropy of $x_n$ will likely be smaller than that of $x_{n+1}$:\n",
    "\n",
    "    $$\n",
    "    h(x_n) < h(x_{n+1})\n",
    "    $$\n",
    "    \n",
    "- There are three boundary conditions to decide whether $x_n$ is a word boundary:\n",
    "\n",
    "    1. $B_{max}$: If $h(x_n) > \\text{val}_{max}$\n",
    "    2. $B_{increase}$: $h(x_n) > h(x_{n-1})$\n",
    "    3. $B_{ordinary}$: $h(x_n) > \\text{val}_{ordinary}$"
   ]
  },
  {
   "cell_type": "markdown",
   "id": "55d5c094",
   "metadata": {},
   "source": [
    "![](../figs/intro_nlp/words/branching_entropy.png)"
   ]
  },
  {
   "cell_type": "markdown",
   "id": "778caf04",
   "metadata": {},
   "source": [
    "## Word Segmentation in Practice"
   ]
  },
  {
   "cell_type": "code",
   "execution_count": 137,
   "id": "ba688ef2",
   "metadata": {},
   "outputs": [
    {
     "name": "stdout",
     "output_type": "stream",
     "text": [
      "Corpus : fomc\n"
     ]
    }
   ],
   "source": [
    "from ekorpkit import eKonf\n",
    "\n",
    "eKonf.setLogger(\"WARNING\")\n",
    "\n",
    "cfg = eKonf.compose(\"corpus\")\n",
    "cfg.name = \"fomc\"\n",
    "cfg.path.cache.uri = (\n",
    "    \"https://github.com/entelecheia/ekorpkit-book/raw/main/assets/data/fomc.zip\"\n",
    ")\n",
    "cfg.data_dir = cfg.path.cached_path\n",
    "cfg.auto.merge = True\n",
    "fomc_corpus = eKonf.instantiate(cfg)\n",
    "print(fomc_corpus)\n",
    "texts = fomc_corpus.data[fomc_corpus.data.content_type == \"fomc_statement\"].text.tolist()"
   ]
  },
  {
   "cell_type": "code",
   "execution_count": 1,
   "id": "5eaf68b7",
   "metadata": {},
   "outputs": [],
   "source": [
    "texts = [\n",
    "    \"like apples\",\n",
    "    \"likes pineapples apples\",\n",
    "    \"dislikes Apple pineapple\",\n",
    "    \"People dislike pineapples.\",\n",
    "    \"An apple makes people healthy.\",\n",
    "    \"Pine trees make pineapple\",\n",
    "    \"Pineapple unhealthy\",\n",
    "    \"likeness of apples\",\n",
    "    \"dislikeness of pineapples\",\n",
    "    \"health of pineapple\",\n",
    "    \"healthiness of apple\",\n",
    "    \"display of pineapples\",\n",
    "    \"unhealthy of apples\",\n",
    "    \"unhealthiness of pineapples\",\n",
    "    \"unlike apples\",\n",
    "    \"unlikes pineapples apples\",\n",
    "    \"kindness of apples\",\n",
    "    \"kind of pineapples\",\n",
    "    \"apple tree\",\n",
    "    \"pineapple tree\",\n",
    "]"
   ]
  },
  {
   "cell_type": "code",
   "execution_count": 2,
   "id": "adff0a0a",
   "metadata": {},
   "outputs": [
    {
     "name": "stdout",
     "output_type": "stream",
     "text": [
      "Top 10 subwords: [('▁', 116), ('e', 67), ('p', 64), ('l', 40), ('a', 33), ('s', 33), ('i', 29), ('pl', 26), ('n', 26), ('ple', 25)]\n"
     ]
    }
   ],
   "source": [
    "from ekorpkit.models.tokenizer.words import WordSegmenter\n",
    "\n",
    "ws = WordSegmenter()\n",
    "ws.fit(texts)"
   ]
  },
  {
   "cell_type": "code",
   "execution_count": 4,
   "id": "e9f6fafa",
   "metadata": {},
   "outputs": [
    {
     "data": {
      "text/plain": [
       "{'<END>': 12, 's': {'<END>': 7, '▁': {'<END>': 7}}, '▁': {'<END>': 5}}"
      ]
     },
     "execution_count": 4,
     "metadata": {},
     "output_type": "execute_result"
    }
   ],
   "source": [
    "ws.fwd_trie.get_children(\"pineapple\")"
   ]
  },
  {
   "cell_type": "code",
   "execution_count": 5,
   "id": "f958f9e0",
   "metadata": {},
   "outputs": [
    {
     "data": {
      "text/plain": [
       "[('d', 0.35537297116799527, 0.0),\n",
       " ('i', 0.35537297116799527, 0.0),\n",
       " ('s', 0.5603495554358109, 0.20497658426781562),\n",
       " ('l', 0.3578897525265621, -0.2024598029092488),\n",
       " ('i', 0.3578897525265621, 0.0),\n",
       " ('k', 0.3578897525265621, 0.0),\n",
       " ('e', 0.6983152147756927, 0.3404254622491306),\n",
       " ('n', 0.36787944117144233, -0.33043577360425036),\n",
       " ('e', 0.36787944117144233, 0.0),\n",
       " ('s', 0.36787944117144233, 0.0),\n",
       " ('s', 0.36787944117144233, 0.0)]"
      ]
     },
     "execution_count": 5,
     "metadata": {},
     "output_type": "execute_result"
    }
   ],
   "source": [
    "# word = \"federal\"\n",
    "word = \"apples\"\n",
    "# word = \"people\"\n",
    "# word = \"unhealthy\"\n",
    "word = \"unhealthiness\"\n",
    "word = \"healthiness\"\n",
    "word = \"dislikeness\"\n",
    "# word = \"likes\"s\n",
    "results = ws.find_local_entropy(word)\n",
    "results\n"
   ]
  },
  {
   "cell_type": "code",
   "execution_count": 6,
   "id": "4d4f436a",
   "metadata": {},
   "outputs": [
    {
     "data": {
      "image/png": "[encoded data removed]",
      "text/plain": [
       "<Figure size 864x360 with 2 Axes>"
      ]
     },
     "metadata": {
      "needs_background": "light"
     },
     "output_type": "display_data"
    }
   ],
   "source": [
    "ws.plot_local_entropy(word, direction=\"forward\")"
   ]
  },
  {
   "cell_type": "code",
   "execution_count": 7,
   "id": "aeaaa597",
   "metadata": {},
   "outputs": [
    {
     "data": {
      "text/plain": [
       "('apple', 's')"
      ]
     },
     "execution_count": 7,
     "metadata": {},
     "output_type": "execute_result"
    }
   ],
   "source": [
    "word = \"apples\"\n",
    "ws.segment_word(word, direction=\"forward\")\n"
   ]
  },
  {
   "cell_type": "code",
   "execution_count": 8,
   "id": "c9a0df1b",
   "metadata": {},
   "outputs": [
    {
     "data": {
      "text/plain": [
       "[['like', 'apple', 's'],\n",
       " ['like', 's', 'pine', 'apple', 's', 'apple', 's'],\n",
       " ['dis', 'like', 's', 'apple', 'pine', 'apple'],\n",
       " ['people', 'dis', 'like', 'pine', 'apple', 's'],\n",
       " ['an', 'apple', 'make', 's', 'people', 'health', 'y'],\n",
       " ['pine', 'tree', 's', 'make', 'pine', 'apple'],\n",
       " ['pine', 'apple', 'un', 'health', 'y'],\n",
       " ['like', 'ness', 'of', 'apple', 's'],\n",
       " ['dis', 'like', 'ness', 'of', 'pine', 'apple', 's'],\n",
       " ['health', 'of', 'pine', 'apple'],\n",
       " ['health', 'iness', 'of', 'apple'],\n",
       " ['dis', 'play', 'of', 'pine', 'apple', 's'],\n",
       " ['un', 'health', 'y', 'of', 'apple', 's'],\n",
       " ['un', 'health', 'iness', 'of', 'pine', 'apple', 's'],\n",
       " ['un', 'like', 'apple', 's'],\n",
       " ['un', 'like', 's', 'pine', 'apple', 's', 'apple', 's'],\n",
       " ['kind', 'ness', 'of', 'apple', 's'],\n",
       " ['kind', 'of', 'pine', 'apple', 's'],\n",
       " ['apple', 'tree'],\n",
       " ['pine', 'apple', 'tree']]"
      ]
     },
     "execution_count": 8,
     "metadata": {},
     "output_type": "execute_result"
    }
   ],
   "source": [
    "ws.segment_texts(texts)"
   ]
  },
  {
   "cell_type": "markdown",
   "id": "609f8bc3",
   "metadata": {},
   "source": [
    "## References\n",
    "\n",
    "- [Uncertanty to word boundary; Accessor Variety & Branching Entropy](https://lovit.github.io/nlp/2018/04/09/branching_entropy_accessor_variety/)\n",
    "- [Fast Word Segmentation of Noisy Text](https://medium.com/towards-data-science/fast-word-segmentation-for-noisy-text-2c2c41f9e8da)"
   ]
  },
  {
   "cell_type": "markdown",
   "id": "3ef9265f",
   "metadata": {},
   "source": []
  }
 ],
 "metadata": {
  "kernelspec": {
   "display_name": "Python 3.9.2 64-bit ('ekorpkit')",
   "language": "python",
   "name": "python3"
  },
  "language_info": {
   "codemirror_mode": {
    "name": "ipython",
    "version": 3
   },
   "file_extension": ".py",
   "mimetype": "text/x-python",
   "name": "python",
   "nbconvert_exporter": "python",
   "pygments_lexer": "ipython3",
   "version": "3.9.2"
  },
  "vscode": {
   "interpreter": {
    "hash": "1ca8aab0fd47dafe82c6b3319846e8d0a3c0bdef43970273e7a6007c91c24367"
   }
  }
 },
 "nbformat": 4,
 "nbformat_minor": 5
}
