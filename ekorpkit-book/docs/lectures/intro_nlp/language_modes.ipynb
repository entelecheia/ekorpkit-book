{
 "cells": [
  {
   "cell_type": "markdown",
   "id": "cfdc61fb",
   "metadata": {},
   "source": [
    "# Language Models"
   ]
  },
  {
   "cell_type": "markdown",
   "id": "66d50cc3",
   "metadata": {},
   "source": [
    "## Language Models\n",
    "\n",
    "How can we distinguish word salad, spelling mistakes, or grammatical errors from real language? \n",
    "\n",
    "- We can use a language model to help us. \n",
    "- A language model is a probability distribution over sequences of words. \n",
    "- It assigns a probability to a sentence, based on the words that come before and after it. \n",
    "- For example, the probability of the sentence \"The cute little puppy chases the yellow ball\" is much higher than the probability of the sentence \"The cute little puppy chases the yellow cat\".\n",
    "- N-gram language models are the simplest kind of language model."
   ]
  },
  {
   "cell_type": "markdown",
   "id": "59377615",
   "metadata": {},
   "source": [
    "## Why do we need language models?\n",
    "\n",
    "- Language models are useful for a variety of natural language processing tasks, such as machine translation, speech recognition, and part-of-speech tagging.\n",
    "\n",
    "  - `Machine translation`: return text in the target language\n",
    "  - `Speech recognition`: return a transcript of what was spoken\n",
    "  - `Natural language generation (NLU)`: return natural language text\n",
    "  - `Spell-checking`: return corrected spelling of input\n"
   ]
  },
  {
   "cell_type": "markdown",
   "id": "652df51b",
   "metadata": {},
   "source": [
    "## References\n",
    "\n",
    "- [N-gram Language Models](https://web.stanford.edu/~jurafsky/slp3/3.pdf)\n"
   ]
  }
 ],
 "metadata": {
  "kernelspec": {
   "display_name": "Python 3.8.5 ('base')",
   "language": "python",
   "name": "python3"
  },
  "language_info": {
   "name": "python",
   "version": "3.8.5"
  },
  "vscode": {
   "interpreter": {
    "hash": "d4d1e4263499bec80672ea0156c357c1ee493ec2b1c70f0acce89fc37c4a6abe"
   }
  }
 },
 "nbformat": 4,
 "nbformat_minor": 5
}
