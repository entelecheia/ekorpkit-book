{
 "cells": [
  {
   "cell_type": "markdown",
   "id": "cfdc61fb",
   "metadata": {
    "slideshow": {
     "slide_type": "slide"
    },
    "tags": []
   },
   "source": [
    "# Topic Coherence Measures\n",
    "\n",
    "Topic coherence represents the overall topics’ interpretability and is used to assess the topics’ quality.\n",
    "\n",
    "![](../figs/intro_nlp/topic_coherence/entelecheia_topic_coherence.png)"
   ]
  },
  {
   "cell_type": "markdown",
   "id": "66d50cc3",
   "metadata": {
    "slideshow": {
     "slide_type": "slide"
    },
    "tags": []
   },
   "source": [
    "## Topic Modeling\n",
    "\n",
    "Topic modeling aims to explain a collection of documents as a mixture of topics. Each topic is a distribution over words, and each document is a distribution over topics. The goal of topic modeling is to find the topics and their distributions over words and documents.\n",
    "\n",
    "It is based on the assumption that:\n",
    "\n",
    "-  A text (document) is composed of several topics.\n",
    "-  A topic is composed of several words."
   ]
  },
  {
   "cell_type": "markdown",
   "id": "ffb3ec11",
   "metadata": {
    "slideshow": {
     "slide_type": "slide"
    },
    "tags": []
   },
   "source": [
    "## Evaluating Topics\n",
    "\n",
    "Topic modeling algorithms rely on statistical inference to find the topics. However, the quality of the topics is not directly observable. Therefore, we need to evaluate the topics to assess their quality.\n",
    "\n",
    "Mathematically optimal topics are not necessarily interpretable. Therefore, we need to evaluate the topics based on their interpretability.\n",
    "\n",
    "For example, a topic modeling algorithm can find the following topics:\n",
    "\n",
    "-  Topic 1: `['cat', 'dog', 'toy', 'pet']`\n",
    "-  Topic 2: `['super', 'brick', 'number']`\n",
    "\n",
    "The first topic is more interpretable than the second topic to humans. However, the second topic is mathematically as optimal as the first topic.\n",
    "\n",
    "When we’re looking for data understanding, the topics created are meant to be interpreted by humans. Therefore, we need to evaluate the topics based on their interpretability.\n",
    "\n",
    "Topic coherence is a measure of interpretability. It is used to evaluate the topics’ quality. It tries to represent the degree of semantic similarity between high scoring words in a topic."
   ]
  },
  {
   "cell_type": "markdown",
   "id": "e03890fc",
   "metadata": {
    "slideshow": {
     "slide_type": "slide"
    },
    "tags": []
   },
   "source": [
    "## Topic Coherence\n",
    "\n",
    "Usually, when we talk about coherence, it refers to the charateristic of cooperative and consistent behavior. For example, a group of people can be coherent if they have the same opinion about something.\n",
    "\n",
    "What a topic coherence measure assesses is how well a topic is supported by a text corpus. It uses statistics and probabilities drawn from the text corpus to measure the coherence of a topic, especially focusing on the word's context.\n",
    "\n",
    "Topic coherence depends not only on the words in a topic but also on the reference corpus."
   ]
  },
  {
   "cell_type": "markdown",
   "id": "aeb51123-b43a-462a-bf19-712aef4e6441",
   "metadata": {},
   "source": [
    "![Topic Coherence](../figs/intro_nlp/topic_coherence/topic_coherence.png)"
   ]
  },
  {
   "cell_type": "markdown",
   "id": "e58a0cd9",
   "metadata": {
    "slideshow": {
     "slide_type": "slide"
    },
    "tags": []
   },
   "source": [
    "Röder, M. et al propose a general structure for topic coherence measures. {cite}`roder2015exploring` \n",
    "It consists of three components:\n",
    "\n",
    "It's a composition of different independent components, each one doing a different task, that is combined in a sequential pipeline.\n",
    "\n",
    "The topic coherence measure is a pipeline that receives the topics and the reference corpus as inputs and outputs a single value representing the overall coherence of the topics.\n",
    "\n",
    "![](../figs/intro_nlp/topic_coherence/topic_coherence_structure.png)"
   ]
  },
  {
   "cell_type": "markdown",
   "id": "4ed850a8",
   "metadata": {
    "slideshow": {
     "slide_type": "slide"
    },
    "tags": []
   },
   "source": [
    "### Segmentation\n",
    "\n",
    "The segmentation module is responsible for creating pairs of word subsets that will be used to compute the coherence of a topic.\n",
    "\n",
    "Considering $W={w_1, w_2, …, w_n}$ as the top-n most important words of a topic $t$, the application of a segmentation $S$ results in a set of subset pairs from $W$.\n",
    "\n",
    "$$ S = \\{(W^{\\prime}, W^*), W^{\\prime}, W^* \\subseteq W\\} $$\n",
    "\n",
    "To simplify things, we can understand the segmentation as the step where we choose how we want to mix the words in a topic to evaluate them posteriorly."
   ]
  },
  {
   "cell_type": "markdown",
   "id": "0b835048",
   "metadata": {
    "slideshow": {
     "slide_type": "slide"
    },
    "tags": []
   },
   "source": [
    "For example, the segmentation S-one-one, says that we need to make word pairs of different words. If $W={w_1, w_2, …, w_n}$, then the segmentation S-one-one will result in the following pairs:\n",
    "\n",
    "$$ S = \\{(w_1, w_2), (w_1, w_3), …, (w_1, w_n), (w_2, w_3), …, (w_2, w_n), …, (w_{n-1}, w_n)\\} $$\n",
    "\n",
    "So, by using this technique, we’re saying that to compute the final coherence score, our model is interested in the relationship between each word in the topic and the other words in the topic."
   ]
  },
  {
   "cell_type": "markdown",
   "id": "efd96229",
   "metadata": {
    "slideshow": {
     "slide_type": "slide"
    },
    "tags": []
   },
   "source": [
    "Another example is the segmentation S-one-all, which says that we need to make pairs of each word with all other words. Applying it to $W$ will result in the following pairs:\n",
    "\n",
    "$$ S = \\{(\\{w_1\\}, \\{w_2, w_3, …, w_n\\}), (\\{w_2\\}, \\{w_1, w_3, …, w_n\\}), …, (\\{w_n\\}, \\{w_1, w_2, …, w_{n-1}\\})\\} $$\n",
    "\n",
    "So, by using this technique, we’re saying that to compute the final coherence score, our model is interested in the relationship between each word in the topic and all the other words in the topic."
   ]
  },
  {
   "cell_type": "markdown",
   "id": "7c526efd",
   "metadata": {
    "slideshow": {
     "slide_type": "slide"
    },
    "tags": []
   },
   "source": [
    "### Probability Calculation\n",
    "\n",
    "Coherence metrics use probabilities drawn from the textual corpus. The probability calculation module is responsible for calculating the probabilities of the word subsets generated by the segmentation module.\n",
    "\n",
    "For example, let's say we’re interested in two different probabilities:\n",
    "\n",
    "-  $P(w)$: the probability of a word $w$ in the corpus.\n",
    "-  $P(w_1, w_2)$: the probability of a word pair $(w_1, w_2)$ in the corpus."
   ]
  },
  {
   "cell_type": "markdown",
   "id": "a8b764f4-2efa-448f-bc55-f09044e6595e",
   "metadata": {
    "slideshow": {
     "slide_type": "slide"
    },
    "tags": []
   },
   "source": [
    "Different techniques will estimate these probabilities in different ways. For example, the probability $P_{bd}(w)$ can be estimated by counting the number of documents that $w$ appears and dividing it by the total number of documents in the corpus.\n",
    "\n",
    "$$ P_{bd}(w) = \\frac{count(D_{w})}{N} $$\n",
    "\n",
    "The probability $P(w_1, w_2)$ can be estimated by counting the number of documents that both $w_1$ and $w_2$ appear and dividing it by the total number of documents in the corpus.\n",
    "\n",
    "$$ P(w_1, w_2) = \\frac{count(D_{w_1, w_2})}{N} $$"
   ]
  },
  {
   "cell_type": "markdown",
   "id": "54938310-3691-4a3e-946d-f8af4968391d",
   "metadata": {
    "slideshow": {
     "slide_type": "slide"
    },
    "tags": []
   },
   "source": [
    "Another example is to use sentence-level probabilities. In this case, the probability $P_{bs}(w)$ is estimated by counting the number of sentences that $w$ appears and dividing it by the total number of sentences in the corpus.\n",
    "\n",
    "In case of $P_{sw}$, the probability is estimated by counting the number of sliding windows that $w$ appears and dividing it by the total number of sliding windows in the corpus.\n",
    "\n",
    "These probabilities are the fundamental building blocks of the coherence metrics."
   ]
  },
  {
   "cell_type": "markdown",
   "id": "e2cae3bc",
   "metadata": {
    "slideshow": {
     "slide_type": "slide"
    },
    "tags": []
   },
   "source": [
    "### Confirmation Measure\n",
    "\n",
    "The confirmation measure module is the core of the coherence metrics. It is responsible for calculating the confirmation of a word subset.\n",
    "\n",
    "The confirmation measure is calculated by comparing the probability of the word subset $S$ with the probabilities of the words in the subset. It computes how well the subset $W^*$ supports the words in the subset $W^{\\prime}$.\n",
    "\n",
    "That is, it tries to measure how well two subsets of words are related to each other by comparing the probabilities calculated from the corpus.\n",
    "\n",
    "If the words in $W^{\\prime}$ are more likely to appear together with the words in $W^*$, then the confirmation measure will be high. Otherwise, it will be low.\n",
    "\n",
    "For example, let's say we have the following word subsets:\n",
    "\n",
    "-  $W^{\\prime} = \\{w_1, w_2\\}$\n",
    "-  $W^* = \\{w_3, w_4\\}$\n",
    "\n",
    "The confirmation measure will be high if the words $w_1$ and $w_2$ are more likely to appear together with the words $w_3$ and $w_4$ in the reference corpus."
   ]
  },
  {
   "cell_type": "markdown",
   "id": "746fc783-dc13-4e32-84b9-12426fc33c8d",
   "metadata": {
    "slideshow": {
     "slide_type": "slide"
    },
    "tags": []
   },
   "source": [
    "\n",
    "![](../figs/intro_nlp/topic_coherence/confirmation_measure.png)\n"
   ]
  },
  {
   "cell_type": "markdown",
   "id": "7811a4fe",
   "metadata": {
    "slideshow": {
     "slide_type": "slide"
    },
    "tags": []
   },
   "source": [
    "The confirmation measure is applied to each one of the pairs created in the segmentation step, yielding a confirmation score for each pair.\n",
    "\n",
    "There are two different types of confirmation measures: direct and indirect.\n",
    "\n",
    "#### Direct Confirmation Measure\n",
    "\n",
    "The direct confirmation measure is the simplest one. It compares the probabilities of the word subsets $W^{\\prime}$ and $W^*$.\n",
    "\n",
    "$$ m_r(S_i) = \\frac{P(W^{\\prime}, W^*)}{P(W^{\\prime})P(W^*)} $$\n",
    "\n",
    "or, using logarithms:\n",
    "\n",
    "$$ m_{lr}(S_i) = log \\frac{P(W^{\\prime}, W^*) + \\epsilon}{P(W^{\\prime})P(W^*) + \\epsilon} $$\n",
    "\n",
    "where $\\epsilon$ is a small constant to avoid undefined values for logarithms."
   ]
  },
  {
   "cell_type": "markdown",
   "id": "eb2deb23-50a4-4680-b616-dabe0494a064",
   "metadata": {
    "slideshow": {
     "slide_type": "slide"
    },
    "tags": []
   },
   "source": [
    "#### Indirect Confirmation Measure\n",
    "\n",
    "The indirect confirmation measure is a more complex one. It computes a direct confirmation measure for each word in the subsets $W^{\\prime}$ with all other words in the subset $W$, yielding a vector of confirmation scores for each word in $W^{\\prime}$.\n",
    "\n",
    "$$ \\vec{v}_m(W^{\\prime}) = \\left\\{\\sum_{w \\in W^{\\prime}} m(w_i, w_j)\\right\\}_{j=1,2, …, |W|} $$\n",
    "\n",
    "where $|W|$ is the number of words in $W$.\n",
    "\n",
    "The same is done for the subset $W^*$.\n",
    "\n",
    "Then, the indirect confirmation measure is the similarity between the two vectors.\n",
    "\n",
    "$$ \\tilde{m}_{cos}(W^{\\prime}, W^*) = sim(\\vec{v}_m(W^{\\prime}), \\vec{v}_m(W^*)) $$\n",
    "\n",
    "where $sim$ is a similarity function, such as cosine similarity."
   ]
  },
  {
   "cell_type": "markdown",
   "id": "ce247f10",
   "metadata": {
    "slideshow": {
     "slide_type": "slide"
    },
    "tags": []
   },
   "source": [
    "![](../figs/intro_nlp/topic_coherence/indirect_confirmation_measure.png)\n",
    "\n",
    "The idea behind this indirect confirmation measure is that it tries to capture some relationships that are not captured by the direct confirmation measure. \n",
    "\n",
    "For example, the words ‘cats’ and ‘dogs’ may never appear together in our dataset, but they might appear frequently with the words ‘toys’, ‘pets’, and ‘cute’. In this case, the direct confirmation measure will not be able to capture the relationship between ‘cats’ and ‘dogs’ because they never appear together. However, the indirect confirmation measure will be able to capture this relationship because it will be able to see that ‘cats’ and ‘dogs’ appear frequently with the words ‘toys’, ‘pets’, and ‘cute’."
   ]
  },
  {
   "cell_type": "markdown",
   "id": "1da823cf",
   "metadata": {
    "slideshow": {
     "slide_type": "slide"
    },
    "tags": []
   },
   "source": [
    "### Aggregation\n",
    "\n",
    "The aggregation module is responsible for aggregating the confirmation scores of the pairs generated in the previous step. It computes the final coherence score for the topic. \n",
    "\n",
    "There are different types of aggregation techniques: mean, median, geometric mean, and so on.\n",
    "\n",
    "![](../figs/intro_nlp/topic_coherence/aggregation.png)"
   ]
  },
  {
   "cell_type": "markdown",
   "id": "296bfb17",
   "metadata": {
    "slideshow": {
     "slide_type": "slide"
    },
    "tags": []
   },
   "source": [
    "### Putting everything together\n",
    "\n",
    "Measuring the coherence metrics follows the following steps:\n",
    "\n",
    "- We have a topic $T$ that we want to measure the coherence of.\n",
    "- We choose a reference corpus $C$.\n",
    "- The top-n most important words in the topic $T$ are extracted, yielding a word subset $W$.\n",
    "- $W$ is segmented into pairs of words, yielding a set of word subsets $S$.\n",
    "- Using the reference corpus $C$, we calculate the probabilities of the word subsets $S$.\n",
    "- With the segmented word subsets $S$ and the probabilities calculated from the reference corpus $C$, we calculate the confirmation measure for each pair of words in $S$.\n",
    "- All the confirmation scores are aggregated into a single coherence score for the topic $T$."
   ]
  },
  {
   "cell_type": "markdown",
   "id": "4484a1df-215a-4dcd-a8f0-2ad2361597d0",
   "metadata": {
    "slideshow": {
     "slide_type": "slide"
    },
    "tags": []
   },
   "source": [
    "![](../figs/intro_nlp/topic_coherence/putting_everything_together.png)\n",
    "\n"
   ]
  },
  {
   "cell_type": "markdown",
   "id": "092e071a",
   "metadata": {
    "slideshow": {
     "slide_type": "slide"
    },
    "tags": []
   },
   "source": [
    "If we have more than one topic, we can repeat the same process for each topic and use the average coherence score as a measure of the quality of the topic model.\n",
    "\n",
    "![](../figs/intro_nlp/topic_coherence/multiple_topics.png)"
   ]
  },
  {
   "cell_type": "markdown",
   "id": "f52458df",
   "metadata": {
    "slideshow": {
     "slide_type": "slide"
    },
    "tags": []
   },
   "source": [
    "The Gensim library provides a class that implements the four most famous coherence models: \n",
    "$u_{mass}$, $c_v$, $c_{uci}$, $c_{npmi}$.\n",
    "\n",
    "![](../figs/intro_nlp/topic_coherence/gensim_coherence_models.png)"
   ]
  },
  {
   "cell_type": "markdown",
   "id": "179e0faa-93bd-45c1-9d72-9f57c9874413",
   "metadata": {
    "slideshow": {
     "slide_type": "slide"
    },
    "tags": []
   },
   "source": [
    "$C_{NPMI}$ uses the following steps:\n",
    "\n",
    "- Segmentation: S-one-one (one word in each subset)\n",
    "- Probability estimation: the probabilities are calculated over a sliding window of size 10.\n",
    "- Confirmation measure: the confirmation measure is the Normalized Pointwise Mutual Information (NPMI).\n",
    "\n",
    "$$ NPMI(W^{\\prime}, W^*) = \\frac{log \\frac{P(W^{\\prime}, W^*) + \\epsilon}{P(W^{\\prime})P(W^*) + \\epsilon}}{-log (P(W^{\\prime}, W^*) + \\epsilon)} $$\n",
    "\n",
    "where $\\epsilon$ is a small constant to avoid undefined values for logarithms.\n",
    "- Aggregation: the aggregation is the mean of the confirmation scores."
   ]
  },
  {
   "cell_type": "markdown",
   "id": "af564400",
   "metadata": {
    "slideshow": {
     "slide_type": "slide"
    },
    "tags": []
   },
   "source": [
    "$C_V$ uses the following steps:\n",
    "\n",
    "- Segmentation: S-one-set, the confirmaion measure is calculated for pairs of words that are in the same subset.\n",
    "- Probability estimation: the probabilities are calculated over a sliding window of size 110.\n",
    "- Confirmation measure: indirect confirmation measure, the similarity function is cosine similarity.\n",
    "- Aggregation: the aggregation is the mean of the confirmation scores."
   ]
  },
  {
   "cell_type": "markdown",
   "id": "7acae5fb",
   "metadata": {
    "slideshow": {
     "slide_type": "slide"
    },
    "tags": []
   },
   "source": [
    "## Understanding Pointwise Mutual Information\n",
    "\n",
    "How to understand whether two (or more) words are related or form a concept?\n",
    "\n",
    "- If some words appear together more often than we would expect by chance, then we can say that they are related. \n",
    "- However, we need to be careful because some words may appear together more often than we would expect by chance just because they are very frequent words. \n",
    "- For example, in the case of `New York`, the word `New` appears very frequently in the news, so it is likely to appear together with other words more often than we would expect by chance. \n",
    "- How can we assess whether the cooccurrence of `New` and `York` is due to chance or due to a relationship between the two words?\n",
    "\n",
    "The pointwise mutual information (PMI) is a measure that can be used to assess whether two words are related or not. PMI quantifies the likelihood that two words appear together in a text, given that they appear separately in the text."
   ]
  },
  {
   "cell_type": "markdown",
   "id": "2918112c",
   "metadata": {
    "slideshow": {
     "slide_type": "slide"
    },
    "tags": []
   },
   "source": [
    "### PMI\n",
    "\n",
    "The PMI is a measure of the association between two words. It is defined as follows:\n",
    "\n",
    "$$ PMI(w_i, w_j) = log \\frac{P(w_i, w_j)}{P(w_i)P(w_j)} $$\n",
    "\n",
    "where $P(w_i, w_j)$ is the probability of the words $w_i$ and $w_j$ appearing together in the corpus, and $P(w_i)$ and $P(w_j)$ are the probabilities of the words $w_i$ and $w_j$ appearing individually in the corpus.\n",
    "\n",
    "When $w_i$ and $w_j$ are independent, $P(w_i, w_j) = P(w_i)P(w_j)$, and the PMI is zero. \n",
    "\n",
    "When $w_i$ and $w_j$ are dependent, $P(w_i, w_j) > P(w_i)P(w_j)$, and the PMI is positive. \n",
    "\n",
    "When $w_i$ and $w_j$ are negatively dependent, $P(w_i, w_j) < P(w_i)P(w_j)$, and the PMI is negative."
   ]
  },
  {
   "cell_type": "markdown",
   "id": "df659933",
   "metadata": {
    "slideshow": {
     "slide_type": "slide"
    },
    "tags": []
   },
   "source": [
    "### Normalized Pointwise Mutual Information\n",
    "\n",
    "The PMI is a good measure of the association between two words, but it has some limitations. \n",
    "\n",
    "For example, the PMI is not normalized, so it is difficult to compare the association between two words with different frequencies.\n",
    "\n",
    "The normalized pointwise mutual information (NPMI) is a normalized version of the PMI. It is defined as follows:\n",
    "\n",
    "$$ NPMI(w_i, w_j) = \\frac{PMI(w_i, w_j)}{-log(P(w_i, w_j))} $$\n"
   ]
  },
  {
   "cell_type": "markdown",
   "id": "a27066fa",
   "metadata": {
    "slideshow": {
     "slide_type": "slide"
    },
    "tags": []
   },
   "source": [
    "## Understanding Cosine Similarity\n",
    "\n",
    "The cosine similarity is a measure of similarity between two vectors. It is defined as follows:\n",
    "\n",
    "$$ cos(\\theta) = \\frac{A \\cdot B}{||A|| \\cdot ||B||} $$\n",
    "\n",
    "where $A$ and $B$ are two vectors, and $\\theta$ is the angle between the two vectors.\n",
    "\n",
    "The cosine similarity is a number between -1 and 1.\n",
    "\n",
    "- When the two vectors are identical, the cosine similarity is 1.\n",
    "- When the two vectors are orthogonal, the cosine similarity is 0.\n",
    "- When the two vectors are antipodal, the cosine similarity is -1.\n",
    "- When the two vectors are similar, the cosine similarity is positive.\n",
    "- When the two vectors are dissimilar, the cosine similarity is negative."
   ]
  },
  {
   "cell_type": "markdown",
   "id": "8f5d9cac",
   "metadata": {
    "slideshow": {
     "slide_type": "slide"
    },
    "tags": []
   },
   "source": [
    "## Topic Coherence in Practice\n",
    "\n",
    "Let's evaluate some topics using the dataset `20newsgroups` as a reference corpus."
   ]
  },
  {
   "cell_type": "code",
   "execution_count": 18,
   "id": "99b2a449",
   "metadata": {},
   "outputs": [],
   "source": [
    "%config InlineBackend.figure_format='retina'\n",
    "\n",
    "import re\n",
    "import pandas as pd\n",
    "import seaborn as sns\n",
    "import matplotlib.pyplot as plt\n",
    "from sklearn.datasets import fetch_20newsgroups\n",
    "from nltk.corpus import stopwords\n",
    "from nltk.collocations import BigramCollocationFinder, BigramAssocMeasures\n",
    "from gensim.models.coherencemodel import CoherenceModel\n",
    "from gensim.corpora.dictionary import Dictionary"
   ]
  },
  {
   "cell_type": "code",
   "execution_count": 19,
   "id": "8f866d41",
   "metadata": {
    "slideshow": {
     "slide_type": "slide"
    },
    "tags": []
   },
   "outputs": [],
   "source": [
    "texts, _ = fetch_20newsgroups(\n",
    "    subset=\"all\", remove=(\"headers\", \"footers\", \"quotes\"), return_X_y=True\n",
    ")\n",
    "tokenizer = lambda s: re.findall(\"\\w+\", s.lower())\n",
    "texts = [tokenizer(t) for t in texts]\n",
    "stopwords = set(stopwords.words(\"english\"))\n",
    "texts = [[w for w in t if w not in stopwords and len(w) > 1] for t in texts]\n"
   ]
  },
  {
   "cell_type": "code",
   "execution_count": 20,
   "id": "1a596b97",
   "metadata": {
    "slideshow": {
     "slide_type": "slide"
    },
    "tags": []
   },
   "outputs": [],
   "source": [
    "finder = BigramCollocationFinder.from_words(sum(texts[:100], []))\n",
    "bgm = BigramAssocMeasures()\n",
    "score = bgm.mi_like\n",
    "collocations = {\"_\".join(bigram): pmi for bigram, pmi in finder.score_ngrams(score)}\n"
   ]
  },
  {
   "cell_type": "code",
   "execution_count": 21,
   "id": "ecd44755",
   "metadata": {
    "slideshow": {
     "slide_type": "slide"
    },
    "tags": []
   },
   "outputs": [
    {
     "data": {
      "text/html": [
       "<div>\n",
       "<style scoped>\n",
       "    .dataframe tbody tr th:only-of-type {\n",
       "        vertical-align: middle;\n",
       "    }\n",
       "\n",
       "    .dataframe tbody tr th {\n",
       "        vertical-align: top;\n",
       "    }\n",
       "\n",
       "    .dataframe thead th {\n",
       "        text-align: right;\n",
       "    }\n",
       "</style>\n",
       "<table border=\"1\" class=\"dataframe\">\n",
       "  <thead>\n",
       "    <tr style=\"text-align: right;\">\n",
       "      <th></th>\n",
       "      <th>bigram</th>\n",
       "      <th>score</th>\n",
       "    </tr>\n",
       "  </thead>\n",
       "  <tbody>\n",
       "    <tr>\n",
       "      <th>0</th>\n",
       "      <td>united_states</td>\n",
       "      <td>7.111111</td>\n",
       "    </tr>\n",
       "    <tr>\n",
       "      <th>1</th>\n",
       "      <td>et_al</td>\n",
       "      <td>5.142857</td>\n",
       "    </tr>\n",
       "    <tr>\n",
       "      <th>2</th>\n",
       "      <td>greatly_appreciated</td>\n",
       "      <td>3.000000</td>\n",
       "    </tr>\n",
       "    <tr>\n",
       "      <th>3</th>\n",
       "      <td>hymenaeus_beta</td>\n",
       "      <td>3.000000</td>\n",
       "    </tr>\n",
       "    <tr>\n",
       "      <th>4</th>\n",
       "      <td>proving_existence</td>\n",
       "      <td>3.000000</td>\n",
       "    </tr>\n",
       "    <tr>\n",
       "      <th>5</th>\n",
       "      <td>3d_studio</td>\n",
       "      <td>2.666667</td>\n",
       "    </tr>\n",
       "    <tr>\n",
       "      <th>6</th>\n",
       "      <td>mozumder_proving</td>\n",
       "      <td>2.250000</td>\n",
       "    </tr>\n",
       "    <tr>\n",
       "      <th>7</th>\n",
       "      <td>_equinox_iii</td>\n",
       "      <td>2.000000</td>\n",
       "    </tr>\n",
       "    <tr>\n",
       "      <th>8</th>\n",
       "      <td>alex_delvecchio</td>\n",
       "      <td>2.000000</td>\n",
       "    </tr>\n",
       "    <tr>\n",
       "      <th>9</th>\n",
       "      <td>annals_cirp</td>\n",
       "      <td>2.000000</td>\n",
       "    </tr>\n",
       "  </tbody>\n",
       "</table>\n",
       "</div>"
      ],
      "text/plain": [
       "                bigram     score\n",
       "0        united_states  7.111111\n",
       "1                et_al  5.142857\n",
       "2  greatly_appreciated  3.000000\n",
       "3       hymenaeus_beta  3.000000\n",
       "4    proving_existence  3.000000\n",
       "5            3d_studio  2.666667\n",
       "6     mozumder_proving  2.250000\n",
       "7         _equinox_iii  2.000000\n",
       "8      alex_delvecchio  2.000000\n",
       "9          annals_cirp  2.000000"
      ]
     },
     "execution_count": 21,
     "metadata": {},
     "output_type": "execute_result"
    }
   ],
   "source": [
    "# Top 10 collocations\n",
    "collocations = pd.DataFrame(\n",
    "    sorted(collocations.items(), key=lambda x: x[1], reverse=True),\n",
    "    columns=[\"bigram\", \"score\"],\n",
    ")\n",
    "collocations.head(10)"
   ]
  },
  {
   "cell_type": "code",
   "execution_count": 22,
   "id": "0f30ef52",
   "metadata": {
    "slideshow": {
     "slide_type": "slide"
    },
    "tags": []
   },
   "outputs": [],
   "source": [
    "# Creating some random topics\n",
    "topics = [\n",
    "    [\"space\", \"planet\", \"mars\", \"galaxy\"],\n",
    "    [\"cold\", \"medicine\", \"doctor\", \"health\", \"water\"],\n",
    "    [\"cats\", \"health\", \"keyboard\", \"car\", \"banana\"],\n",
    "    [\"windows\", \"mac\", \"computer\", \"operating\", \"system\"],\n",
    "]\n",
    "\n",
    "# Creating a dictionary with the vocabulary\n",
    "word2id = Dictionary(texts)\n",
    "\n",
    "# Coherence model\n",
    "cm = CoherenceModel(topics=topics, texts=texts, coherence=\"c_v\", dictionary=word2id)\n",
    "\n",
    "coherence_per_topic = cm.get_coherence_per_topic()\n"
   ]
  },
  {
   "cell_type": "code",
   "execution_count": 23,
   "id": "542e02d9",
   "metadata": {
    "slideshow": {
     "slide_type": "slide"
    },
    "tags": []
   },
   "outputs": [],
   "source": [
    "topics_str = [\"\\n \".join(t) for t in topics]\n",
    "data_topic_score = pd.DataFrame(\n",
    "    data=zip(topics_str, coherence_per_topic), columns=[\"Topic\", \"Coherence\"]\n",
    ")\n",
    "data_topic_score = data_topic_score.set_index(\"Topic\")"
   ]
  },
  {
   "cell_type": "code",
   "execution_count": 24,
   "id": "76c8a2ce",
   "metadata": {
    "slideshow": {
     "slide_type": "slide"
    },
    "tags": []
   },
   "outputs": [
    {
     "data": {
      "image/png": "[encoded data removed]",
      "text/plain": [
       "<Figure size 144x432 with 2 Axes>"
      ]
     },
     "metadata": {
      "image/png": {
       "height": 387,
       "width": 205
      },
      "needs_background": "light"
     },
     "output_type": "display_data"
    }
   ],
   "source": [
    "fig, ax = plt.subplots(figsize=(2, 6))\n",
    "ax.set_title(\"Topics coherence\\n $C_v$\")\n",
    "sns.heatmap(\n",
    "    data=data_topic_score,\n",
    "    annot=True,\n",
    "    square=True,\n",
    "    cmap=\"Reds\",\n",
    "    fmt=\".2f\",\n",
    "    linecolor=\"black\",\n",
    "    ax=ax,\n",
    ")\n",
    "plt.yticks(rotation=0)\n",
    "ax.set_xlabel(\"\")\n",
    "ax.set_ylabel(\"\")\n",
    "fig.show()\n"
   ]
  }
 ],
 "metadata": {
  "kernelspec": {
   "display_name": "Python 3 (ipykernel)",
   "language": "python",
   "name": "python3"
  },
  "language_info": {
   "codemirror_mode": {
    "name": "ipython",
    "version": 3
   },
   "file_extension": ".py",
   "mimetype": "text/x-python",
   "name": "python",
   "nbconvert_exporter": "python",
   "pygments_lexer": "ipython3",
   "version": "3.8.12"
  },
  "vscode": {
   "interpreter": {
    "hash": "d4d1e4263499bec80672ea0156c357c1ee493ec2b1c70f0acce89fc37c4a6abe"
   }
  }
 },
 "nbformat": 4,
 "nbformat_minor": 5
}
