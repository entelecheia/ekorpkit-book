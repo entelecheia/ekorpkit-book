{
 "cells": [
  {
   "cell_type": "markdown",
   "id": "cfdc61fb",
   "metadata": {
    "slideshow": {
     "slide_type": "slide"
    },
    "tags": []
   },
   "source": [
    "# Introduction\n",
    "\n",
    "![painter](../figs/entelecheia_robot_painter.png)"
   ]
  },
  {
   "cell_type": "code",
   "execution_count": 8,
   "id": "ab6ce7c2",
   "metadata": {
    "slideshow": {
     "slide_type": "skip"
    },
    "tags": []
   },
   "outputs": [],
   "source": [
    "from IPython.display import IFrame"
   ]
  },
  {
   "cell_type": "markdown",
   "id": "66d50cc3",
   "metadata": {
    "slideshow": {
     "slide_type": "slide"
    },
    "tags": []
   },
   "source": [
    "## Image GPT\n",
    "\n",
    "The Image GPT is a transformer decoder model pretrained on a large collection of images in a self-supervised fashion.\n",
    "\n",
    "![imagegpt](../figs/aiart_1_imageGPT1.gif)"
   ]
  },
  {
   "cell_type": "markdown",
   "id": "1ef58c1f",
   "metadata": {
    "slideshow": {
     "slide_type": "slide"
    },
    "tags": []
   },
   "source": [
    "## Timeline of ML Art\n",
    "\n",
    "![timeline](../figs/aiart_1_timeline.jpg)"
   ]
  },
  {
   "cell_type": "markdown",
   "id": "c856761c",
   "metadata": {
    "slideshow": {
     "slide_type": "slide"
    },
    "tags": []
   },
   "source": [
    "- The first machines that generated art had an appearance in the 18th century e.g. work of Pierre Jaquet-Droz, who made three machines.\n",
    "- Augusta Lovelace — a mathematician and poet, who for the first time paid attention to the fact that algorithms have a possible use outside of mathematics.\n",
    "- The year 1955 gave us Jean Tinguely’s drawing machine — a mechanism that, once spun up, makes drawings. \n",
    "- 1973’s AARON algorithm — the work of Harold Cohen, the effects of which was the first computer-generated image.\n",
    "- In 2014, Ian G. Goodfellow’s work gave rise to the GAN (Generative Adversarial Network)."
   ]
  },
  {
   "cell_type": "markdown",
   "id": "dc060d8d",
   "metadata": {
    "slideshow": {
     "slide_type": "slide"
    },
    "tags": []
   },
   "source": [
    "### Jean Tinguely’s drawing machine\n"
   ]
  },
  {
   "cell_type": "code",
   "execution_count": 14,
   "id": "ee10a3e2",
   "metadata": {
    "tags": [
     "remove-input"
    ]
   },
   "outputs": [
    {
     "data": {
      "text/html": [
       "\n",
       "        <iframe\n",
       "            width=\"720\"\n",
       "            height=\"405\"\n",
       "            src=\"https://www.youtube.com/embed/Noe5-awlbfw\"\n",
       "            frameborder=\"0\"\n",
       "            allowfullscreen\n",
       "            \n",
       "        ></iframe>\n",
       "        "
      ],
      "text/plain": [
       "<IPython.lib.display.IFrame at 0x7fce68897730>"
      ]
     },
     "execution_count": 14,
     "metadata": {},
     "output_type": "execute_result"
    }
   ],
   "source": [
    "IFrame(\"https://www.youtube.com/embed/Noe5-awlbfw\", width=\"720\", height=\"405\")"
   ]
  },
  {
   "cell_type": "markdown",
   "id": "488aa4d8",
   "metadata": {
    "slideshow": {
     "slide_type": "slide"
    },
    "tags": []
   },
   "source": [
    "- 040502 is a 2004 painting of pigment on paper by the robotic, artificially intelligent painter AARON\n",
    "\n",
    "![araron](../figs/aiart_1_040502.jpg)"
   ]
  },
  {
   "cell_type": "markdown",
   "id": "ff23c719",
   "metadata": {
    "slideshow": {
     "slide_type": "slide"
    },
    "tags": []
   },
   "source": [
    "## DALL·E 2\n",
    "\n",
    "![dalle2](../figs/aiart_1_dalle2.png)"
   ]
  },
  {
   "cell_type": "code",
   "execution_count": 13,
   "id": "4f36bdb8-f8dc-41e3-bbfd-921e2a3e36e0",
   "metadata": {
    "slideshow": {
     "slide_type": "slide"
    },
    "tags": [
     "remove-input"
    ]
   },
   "outputs": [
    {
     "data": {
      "text/html": [
       "\n",
       "        <iframe\n",
       "            width=\"720\"\n",
       "            height=\"405\"\n",
       "            src=\"https://www.youtube.com/embed/qTgPSKKjfVg\"\n",
       "            frameborder=\"0\"\n",
       "            allowfullscreen\n",
       "            \n",
       "        ></iframe>\n",
       "        "
      ],
      "text/plain": [
       "<IPython.lib.display.IFrame at 0x7fce68897d30>"
      ]
     },
     "execution_count": 13,
     "metadata": {},
     "output_type": "execute_result"
    }
   ],
   "source": [
    "IFrame(\"https://www.youtube.com/embed/qTgPSKKjfVg\", width=\"720\", height=\"405\")"
   ]
  },
  {
   "cell_type": "markdown",
   "id": "899602f2-b9ee-458f-bb12-8da95bfb76d8",
   "metadata": {
    "slideshow": {
     "slide_type": "slide"
    },
    "tags": []
   },
   "source": [
    "# DALL·E 1\n",
    "\n",
    "- Paper: https://arxiv.org/abs/2102.12092\n",
    "- Blog post: https://openai.com/blog/dall-e/\n",
    "- Code: https://github.com/openai/dall-e (it’s not complete and covers only the dVAE part)\n",
    "- Model: Not available\n",
    "- Alternative code (PyTorch): https://github.com/lucidrains/DALLE-pytorch \n",
    "- Alternative code (JAX/Flax): https://github.com/borisdayma/dalle-mini\n"
   ]
  },
  {
   "cell_type": "code",
   "execution_count": null,
   "id": "1c827e1a-79fe-42c2-bb25-439aa0a5b06e",
   "metadata": {},
   "outputs": [],
   "source": []
  }
 ],
 "metadata": {
  "kernelspec": {
   "display_name": "Python 3 (ipykernel)",
   "language": "python",
   "name": "python3"
  },
  "language_info": {
   "codemirror_mode": {
    "name": "ipython",
    "version": 3
   },
   "file_extension": ".py",
   "mimetype": "text/x-python",
   "name": "python",
   "nbconvert_exporter": "python",
   "pygments_lexer": "ipython3",
   "version": "3.8.12"
  },
  "vscode": {
   "interpreter": {
    "hash": "d4d1e4263499bec80672ea0156c357c1ee493ec2b1c70f0acce89fc37c4a6abe"
   }
  },
  "widgets": {
   "application/vnd.jupyter.widget-state+json": {
    "state": {},
    "version_major": 2,
    "version_minor": 0
   }
  }
 },
 "nbformat": 4,
 "nbformat_minor": 5
}
