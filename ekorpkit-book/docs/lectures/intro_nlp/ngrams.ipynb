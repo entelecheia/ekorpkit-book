{
 "cells": [
  {
   "cell_type": "markdown",
   "id": "cfdc61fb",
   "metadata": {},
   "source": [
    "# n-Grams"
   ]
  },
  {
   "cell_type": "markdown",
   "id": "cdd4966c",
   "metadata": {},
   "source": [
    "## n-Grams\n",
    "\n",
    "- n-Grams are a sequence of n words\n",
    "\n"
   ]
  },
  {
   "cell_type": "markdown",
   "id": "d0690619",
   "metadata": {},
   "source": [
    "By incorporating global information into the model, we can improve the performance of the model. For example, we can use the following features:\n",
    "\n",
    "- The number of words in the sentence\n"
   ]
  },
  {
   "cell_type": "markdown",
   "id": "66d50cc3",
   "metadata": {},
   "source": [
    "## References\n",
    "\n",
    "- [n-gram](https://en.wikipedia.org/wiki/N-gram)\n",
    "- [Word2Vec For Phrases](https://towardsdatascience.com/word2vec-for-phrases-learning-embeddings-for-more-than-one-word-727b6cf723cf)\n",
    "- [Efficient featurization of common n-grams via dynamic programming](https://sisudata.com/blog/efficient-featurization-common-n-grams-via-dynamic-programming)"
   ]
  },
  {
   "cell_type": "markdown",
   "id": "cec69fe2",
   "metadata": {},
   "source": []
  }
 ],
 "metadata": {
  "kernelspec": {
   "display_name": "Python 3.9.2 64-bit ('3.9.2')",
   "language": "python",
   "name": "python3"
  },
  "language_info": {
   "name": "python",
   "version": "3.9.2"
  },
  "vscode": {
   "interpreter": {
    "hash": "93b4cf8eea927ca72e10894c003f60fd8f010ab3a2701e6ac08fd098c47fd773"
   }
  }
 },
 "nbformat": 4,
 "nbformat_minor": 5
}
