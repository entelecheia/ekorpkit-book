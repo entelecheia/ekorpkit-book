{
 "cells": [
  {
   "cell_type": "markdown",
   "id": "cfdc61fb",
   "metadata": {},
   "source": [
    "# BERT: Pre-training of Deep Bidirectional Transformers\n",
    "\n",
    "![bert](../figs/deep_nlp/bert/entelecheia_bert.png)"
   ]
  },
  {
   "cell_type": "markdown",
   "id": "66d50cc3",
   "metadata": {},
   "source": [
    "- The year 2018 marked a turning point for the field of Natural Language Processing (NLP). \n",
    "- The BERT {cite}`devlin2018bert` paper introduced a new language representation model that outperformed all previous models on a wide range of NLP tasks. \n",
    "- BERT is a deep bidirectional transformer model that is pre-trained on a large corpus of unlabeled text. \n",
    "- The model is trained to predict masked words in a sentence and is also trained to predict the next sentence in a sequence of sentences. \n",
    "- The pre-trained model can then be fine-tuned on a variety of downstream NLP tasks with state-of-the-art results."
   ]
  },
  {
   "cell_type": "markdown",
   "id": "cbc7ca46",
   "metadata": {},
   "source": [
    "BERT builds on two key ideas:\n",
    "\n",
    "- The transformer architecture {cite}`vaswani2017attention`\n",
    "- Unsupervised pre-training\n",
    "\n",
    "BERT is pre-trained on a large corpus of unlabeled text. Its weights are learned by predicting masked words in a sentence and predicting the next sentence in a sequence of sentences."
   ]
  },
  {
   "cell_type": "markdown",
   "id": "a6bc9789",
   "metadata": {},
   "source": [
    "## BERT is a (multi-headed) beast"
   ]
  }
 ],
 "metadata": {
  "kernelspec": {
   "display_name": "Python 3.8.5 ('base')",
   "language": "python",
   "name": "python3"
  },
  "language_info": {
   "name": "python",
   "version": "3.8.5"
  },
  "vscode": {
   "interpreter": {
    "hash": "d4d1e4263499bec80672ea0156c357c1ee493ec2b1c70f0acce89fc37c4a6abe"
   }
  }
 },
 "nbformat": 4,
 "nbformat_minor": 5
}
