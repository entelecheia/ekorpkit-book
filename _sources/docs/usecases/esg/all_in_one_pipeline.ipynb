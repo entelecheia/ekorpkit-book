{
 "cells": [
  {
   "cell_type": "markdown",
   "metadata": {
    "id": "AESO0odcxhzs",
    "pycharm": {
     "name": "#%% md\n"
    }
   },
   "source": [
    "# Putting them together in a pipeline"
   ]
  },
  {
   "cell_type": "code",
   "execution_count": 1,
   "metadata": {
    "id": "EJ0AoNl-xif_",
    "pycharm": {
     "name": "#%%\n"
    }
   },
   "outputs": [
    {
     "name": "stdout",
     "output_type": "stream",
     "text": [
      "version: 0.1.40.post0.dev67\n",
      "project_dir: /workspace/projects/ekorpkit-book/exmaples\n",
      "time: 518 ms (started: 2023-01-05 05:20:52 +00:00)\n"
     ]
    }
   ],
   "source": [
    "from ekorpkit import eKonf\n",
    "\n",
    "if eKonf.is_colab():\n",
    "    eKonf.mount_google_drive()\n",
    "ws = eKonf.set_workspace(\n",
    "    workspace=\"/workspace\", \n",
    "    project=\"ekorpkit-book/exmaples\", \n",
    "    task=\"esg\", \n",
    "    log_level=\"INFO\"\n",
    ")\n",
    "print(\"version:\", ws.version)\n",
    "print(\"project_dir:\", ws.project_dir)"
   ]
  },
  {
   "cell_type": "markdown",
   "metadata": {
    "id": "pzjBtQqpnqcy",
    "pycharm": {
     "name": "#%% md\n"
    }
   },
   "source": [
    "## Preparing additional polarity data"
   ]
  },
  {
   "cell_type": "code",
   "execution_count": 4,
   "metadata": {},
   "outputs": [
    {
     "name": "stderr",
     "output_type": "stream",
     "text": [
      "INFO:ekorpkit.datasets.config:Loaded info file: /workspace/projects/ekorpkit-book/exmaples/esg/data/esg_polarity_kr/info-esg_polarity_kr.yaml\n",
      "INFO:ekorpkit.info.column:index: index, index of data: index, columns: ['id', 'text', 'labels', 'split'], id: ['id']\n",
      "INFO:ekorpkit.info.column:Adding id [split] to ['id']\n",
      "INFO:ekorpkit.info.column:Added id [split], now ['id', 'split']\n",
      "INFO:ekorpkit.info.column:Added a column [split] with value [train]\n",
      "INFO:ekorpkit.info.column:Added a column [split] with value [test]\n",
      "INFO:ekorpkit.info.column:Added a column [split] with value [dev]\n"
     ]
    },
    {
     "data": {
      "text/plain": [
       "{'train': 'esg_polarity_kr-train.parquet',\n",
       " 'test': 'esg_polarity_kr-test.parquet',\n",
       " 'dev': 'esg_polarity_kr-dev.parquet'}"
      ]
     },
     "execution_count": 4,
     "metadata": {},
     "output_type": "execute_result"
    },
    {
     "name": "stdout",
     "output_type": "stream",
     "text": [
      "time: 1.51 s (started: 2023-01-05 05:21:19 +00:00)\n"
     ]
    }
   ],
   "source": [
    "from ekorpkit.datasets.dataset import Dataset\n",
    "\n",
    "cfg = eKonf.compose(\"dataset=dataset\")\n",
    "cfg.name = 'esg_polarity_kr'\n",
    "cfg.data_dir = cfg.path.data_dir\n",
    "ds_pol = Dataset(**cfg)\n",
    "data_files = ds_pol.data_files\n",
    "data_files"
   ]
  },
  {
   "cell_type": "code",
   "execution_count": 5,
   "metadata": {},
   "outputs": [
    {
     "name": "stderr",
     "output_type": "stream",
     "text": [
      "INFO:ekorpkit.ekonf:copied /workspace/projects/ekorpkit-book/exmaples/esg/outputs/esg_polarity_labels/esg_polarity_labels(0)_export.parquet to /workspace/projects/ekorpkit-book/exmaples/esg/data/esg_polarity_kr\n"
     ]
    },
    {
     "data": {
      "text/plain": [
       "Neutral     622\n",
       "Positive    437\n",
       "Negative     99\n",
       "Name: labels, dtype: int64"
      ]
     },
     "execution_count": 5,
     "metadata": {},
     "output_type": "execute_result"
    },
    {
     "name": "stdout",
     "output_type": "stream",
     "text": [
      "time: 27.9 ms (started: 2023-01-05 05:21:23 +00:00)\n"
     ]
    }
   ],
   "source": [
    "pol_file = ws.project_dir / \"esg/outputs/esg_polarity_labels/esg_polarity_labels(0)_export.parquet\"\n",
    "eKonf.copy(pol_file, ds_pol.data_dir)\n",
    "pol_data = eKonf.load_data(pol_file)\n",
    "# summary of labels column\n",
    "pol_data[\"labels\"].value_counts()"
   ]
  },
  {
   "cell_type": "markdown",
   "metadata": {
    "id": "3uhF3cDynUuj",
    "outputId": "a50d12e1-9ab3-4496-af54-cae58051f1ed",
    "pycharm": {
     "name": "#%% md\n"
    }
   },
   "source": [
    "## Training further on the additional polarity data"
   ]
  },
  {
   "cell_type": "code",
   "execution_count": 6,
   "metadata": {
    "id": "i9__LTKOnUuj",
    "pycharm": {
     "name": "#%%\n"
    },
    "scrolled": false,
    "tags": [
     "hide-output"
    ]
   },
   "outputs": [
    {
     "name": "stderr",
     "output_type": "stream",
     "text": [
      "2023-01-05 05:21:24.990185: I tensorflow/core/platform/cpu_feature_guard.cc:193] This TensorFlow binary is optimized with oneAPI Deep Neural Network Library (oneDNN) to use the following CPU instructions in performance-critical operations:  AVX2 FMA\n",
      "To enable them in other operations, rebuild TensorFlow with the appropriate compiler flags.\n",
      "2023-01-05 05:21:25.574969: W tensorflow/compiler/xla/stream_executor/platform/default/dso_loader.cc:64] Could not load dynamic library 'libnvinfer.so.7'; dlerror: libnvinfer.so.7: cannot open shared object file: No such file or directory\n",
      "2023-01-05 05:21:25.575033: W tensorflow/compiler/xla/stream_executor/platform/default/dso_loader.cc:64] Could not load dynamic library 'libnvinfer_plugin.so.7'; dlerror: libnvinfer_plugin.so.7: cannot open shared object file: No such file or directory\n",
      "2023-01-05 05:21:25.575039: W tensorflow/compiler/tf2tensorrt/utils/py_utils.cc:38] TF-TRT Warning: Cannot dlopen some TensorRT libraries. If you would like to use Nvidia GPU with TensorRT, please make sure the missing libraries mentioned above are installed properly.\n"
     ]
    },
    {
     "name": "stdout",
     "output_type": "stream",
     "text": [
      "time: 3.56 s (started: 2023-01-05 05:21:24 +00:00)\n"
     ]
    }
   ],
   "source": [
    "from ekorpkit.models.transformer.simple import SimpleClassification\n",
    "\n",
    "trained_model = \"esg/models/esg_polarity-classification\"\n",
    "\n",
    "cfg = eKonf.compose('task=simple.classification')\n",
    "cfg.name = \"esg_polarity_further_train\"\n",
    "cfg.dataset.data_dir = ds_pol.data_dir\n",
    "cfg.dataset.data_files = pol_file\n",
    "cfg.dataset.test_size = 0.2\n",
    "cfg.dataset.shuffle = True\n",
    "cfg.dataset.seed = 1329829118\n",
    "cfg.model.model_name_or_path = f\"{ws.project_dir}/{trained_model}\"\n",
    "# cfg.model.model_name_or_path = \"entelecheia/ekonelectra-base-discriminator\"\n",
    "cfg.trainer.num_train_epochs = 10\n",
    "cfg.trainer.max_seq_length = 256\n",
    "cfg.trainer.train_batch_size = 128\n",
    "cfg.trainer.eval_batch_size = 128\n",
    "\n",
    "sm = SimpleClassification(**cfg)"
   ]
  },
  {
   "cell_type": "code",
   "execution_count": 7,
   "metadata": {
    "scrolled": false,
    "tags": [
     "hide-output"
    ]
   },
   "outputs": [
    {
     "name": "stderr",
     "output_type": "stream",
     "text": [
      "INFO:ekorpkit.datasets.config:Splitting the dataframe into train and test with ratio 0.2\n",
      "INFO:ekorpkit.datasets.config:Shuffling the dataframe with seed 1329829118\n",
      "INFO:ekorpkit.datasets.config:Train data: (926, 6)\n",
      "INFO:ekorpkit.datasets.config:Test data: (232, 6)\n",
      "INFO:ekorpkit.models.transformer.simple:No columns or data to rename\n",
      "INFO:simpletransformers.classification.classification_utils: Converting to features started. Cache is not used.\n",
      "INFO:simpletransformers.classification.classification_utils: Saving features into cached file /workspace/.cache/cached_train_electra_256_3_2\n"
     ]
    },
    {
     "data": {
      "application/vnd.jupyter.widget-view+json": {
       "model_id": "80316d6f1b304bb39dfeee95470e1f1f",
       "version_major": 2,
       "version_minor": 0
      },
      "text/plain": [
       "Epoch:   0%|          | 0/10 [00:00<?, ?it/s]"
      ]
     },
     "metadata": {},
     "output_type": "display_data"
    },
    {
     "name": "stderr",
     "output_type": "stream",
     "text": [
      "INFO:simpletransformers.classification.classification_model:   Starting fine-tuning.\n",
      "INFO:simpletransformers.classification.classification_model: Initializing WandB run for training.\n"
     ]
    },
    {
     "data": {
      "application/vnd.jupyter.widget-view+json": {
       "model_id": "033a0ba56ba04ccca919f95feb6b3240",
       "version_major": 2,
       "version_minor": 0
      },
      "text/plain": [
       "Running Epoch 0 of 10:   0%|          | 0/8 [00:00<?, ?it/s]"
      ]
     },
     "metadata": {},
     "output_type": "display_data"
    },
    {
     "data": {
      "application/vnd.jupyter.widget-view+json": {
       "model_id": "c4485ee672d74a9ba49325cb991e1063",
       "version_major": 2,
       "version_minor": 0
      },
      "text/plain": [
       "Running Epoch 1 of 10:   0%|          | 0/8 [00:00<?, ?it/s]"
      ]
     },
     "metadata": {},
     "output_type": "display_data"
    },
    {
     "data": {
      "application/vnd.jupyter.widget-view+json": {
       "model_id": "7524afbb48334503b25fa07ca74756e3",
       "version_major": 2,
       "version_minor": 0
      },
      "text/plain": [
       "Running Epoch 2 of 10:   0%|          | 0/8 [00:00<?, ?it/s]"
      ]
     },
     "metadata": {},
     "output_type": "display_data"
    },
    {
     "data": {
      "application/vnd.jupyter.widget-view+json": {
       "model_id": "27e4c84c73734bd1ba5de46fa7a36b63",
       "version_major": 2,
       "version_minor": 0
      },
      "text/plain": [
       "Running Epoch 3 of 10:   0%|          | 0/8 [00:00<?, ?it/s]"
      ]
     },
     "metadata": {},
     "output_type": "display_data"
    },
    {
     "data": {
      "application/vnd.jupyter.widget-view+json": {
       "model_id": "6d352226784f496790e22a79184359b3",
       "version_major": 2,
       "version_minor": 0
      },
      "text/plain": [
       "Running Epoch 4 of 10:   0%|          | 0/8 [00:00<?, ?it/s]"
      ]
     },
     "metadata": {},
     "output_type": "display_data"
    },
    {
     "data": {
      "application/vnd.jupyter.widget-view+json": {
       "model_id": "784d66fb46bc4974854335a7fca363d2",
       "version_major": 2,
       "version_minor": 0
      },
      "text/plain": [
       "Running Epoch 5 of 10:   0%|          | 0/8 [00:00<?, ?it/s]"
      ]
     },
     "metadata": {},
     "output_type": "display_data"
    },
    {
     "data": {
      "application/vnd.jupyter.widget-view+json": {
       "model_id": "057a963fca574a8b8e62e5daeb90122f",
       "version_major": 2,
       "version_minor": 0
      },
      "text/plain": [
       "Running Epoch 6 of 10:   0%|          | 0/8 [00:00<?, ?it/s]"
      ]
     },
     "metadata": {},
     "output_type": "display_data"
    },
    {
     "data": {
      "application/vnd.jupyter.widget-view+json": {
       "model_id": "20d2b55bc48047b6a7e653ae6d3279c3",
       "version_major": 2,
       "version_minor": 0
      },
      "text/plain": [
       "Running Epoch 7 of 10:   0%|          | 0/8 [00:00<?, ?it/s]"
      ]
     },
     "metadata": {},
     "output_type": "display_data"
    },
    {
     "data": {
      "application/vnd.jupyter.widget-view+json": {
       "model_id": "0e2206f4ffa047869b92db7e2a69d504",
       "version_major": 2,
       "version_minor": 0
      },
      "text/plain": [
       "Running Epoch 8 of 10:   0%|          | 0/8 [00:00<?, ?it/s]"
      ]
     },
     "metadata": {},
     "output_type": "display_data"
    },
    {
     "data": {
      "application/vnd.jupyter.widget-view+json": {
       "model_id": "9804f0a157bc43fdbf824bd52f2211c2",
       "version_major": 2,
       "version_minor": 0
      },
      "text/plain": [
       "Running Epoch 9 of 10:   0%|          | 0/8 [00:00<?, ?it/s]"
      ]
     },
     "metadata": {},
     "output_type": "display_data"
    },
    {
     "name": "stderr",
     "output_type": "stream",
     "text": [
      "INFO:simpletransformers.classification.classification_model: Training of electra model complete. Saved to /workspace/projects/ekorpkit-book/exmaples/esg/models/esg_polarity_further_train-classification.\n",
      "INFO:simpletransformers.classification.classification_utils: Converting to features started. Cache is not used.\n",
      "INFO:simpletransformers.classification.classification_utils: Saving features into cached file /workspace/.cache/cached_dev_electra_256_3_2\n"
     ]
    },
    {
     "data": {
      "application/vnd.jupyter.widget-view+json": {
       "model_id": "0b964b47eccc4e888bd7c0c3fcaa97e9",
       "version_major": 2,
       "version_minor": 0
      },
      "text/plain": [
       "Running Evaluation:   0%|          | 0/2 [00:00<?, ?it/s]"
      ]
     },
     "metadata": {},
     "output_type": "display_data"
    },
    {
     "name": "stderr",
     "output_type": "stream",
     "text": [
      "INFO:simpletransformers.classification.classification_model: Initializing WandB run for evaluation.\n"
     ]
    },
    {
     "data": {
      "application/vnd.jupyter.widget-view+json": {
       "model_id": "c9d6e18dad4e41f4a0df53bc6b7dda54",
       "version_major": 2,
       "version_minor": 0
      },
      "text/plain": [
       "VBox(children=(Label(value='Waiting for wandb.init()...\\r'), FloatProgress(value=0.016668798367027192, max=1.0…"
      ]
     },
     "metadata": {},
     "output_type": "display_data"
    },
    {
     "name": "stderr",
     "output_type": "stream",
     "text": [
      "INFO:simpletransformers.classification.classification_model:{'mcc': 0.6944896761916455, 'acc': 0.8232758620689655, 'eval_loss': 0.47384417057037354}\n",
      "INFO:ekorpkit.config:Saving config to /workspace/projects/ekorpkit-book/exmaples/esg/outputs/esg_polarity_further_train/configs/esg_polarity_further_train(23)_config.yaml\n",
      "INFO:ekorpkit.models.transformer.simple:Loaded model from /workspace/projects/ekorpkit-book/exmaples/esg/models/esg_polarity_further_train-classification/best_model\n",
      "INFO:simpletransformers.classification.classification_utils: Converting to features started. Cache is not used.\n"
     ]
    },
    {
     "data": {
      "application/vnd.jupyter.widget-view+json": {
       "model_id": "129be085040d4331b634a67681e318f9",
       "version_major": 2,
       "version_minor": 0
      },
      "text/plain": [
       "  0%|          | 0/8 [00:00<?, ?it/s]"
      ]
     },
     "metadata": {},
     "output_type": "display_data"
    },
    {
     "name": "stderr",
     "output_type": "stream",
     "text": [
      "INFO:ekorpkit.models.transformer.simple:type of raw_outputs: <class 'numpy.ndarray'>\n",
      "INFO:ekorpkit.models.transformer.simple:raw_output: [ 2.34112692 -0.67927313 -1.39262569]\n",
      "INFO:ekorpkit.io.file:Saving dataframe to /workspace/projects/ekorpkit-book/exmaples/esg/outputs/esg_polarity_further_train/esg_polarity_further_train(23)_preds.parquet\n",
      "INFO:numexpr.utils:Note: NumExpr detected 32 cores but \"NUMEXPR_MAX_THREADS\" not set, so enforcing safe limit of 8.\n",
      "INFO:numexpr.utils:NumExpr defaulting to 8 threads.\n"
     ]
    },
    {
     "name": "stdout",
     "output_type": "stream",
     "text": [
      "Accuracy:  0.8448275862068966\n",
      "Precison:  0.8644108938029865\n",
      "Recall:  0.8448275862068966\n",
      "F1 Score:  0.8501989907520767\n",
      "Model Report: \n",
      "___________________________________________________\n",
      "              precision    recall  f1-score   support\n",
      "\n",
      "    Negative       0.54      0.83      0.65        18\n",
      "     Neutral       0.84      0.86      0.85       113\n",
      "    Positive       0.95      0.83      0.89       101\n",
      "\n",
      "    accuracy                           0.84       232\n",
      "   macro avg       0.78      0.84      0.80       232\n",
      "weighted avg       0.86      0.84      0.85       232\n",
      "\n"
     ]
    },
    {
     "name": "stderr",
     "output_type": "stream",
     "text": [
      "INFO:ekorpkit.visualize.base:Saved figure to /workspace/projects/ekorpkit-book/exmaples/esg/outputs/esg_polarity_further_train/esg_polarity_further_train(23)_confusion_matrix.png\n"
     ]
    },
    {
     "data": {
      "image/png": "[encoded data removed]",
      "text/plain": [
       "<Figure size 720x360 with 2 Axes>"
      ]
     },
     "metadata": {
      "image/png": {
       "height": 331,
       "width": 631
      }
     },
     "output_type": "display_data"
    },
    {
     "name": "stdout",
     "output_type": "stream",
     "text": [
      "time: 1min 21s (started: 2023-01-05 05:21:28 +00:00)\n"
     ]
    }
   ],
   "source": [
    "sm.train()\n",
    "sm.eval()"
   ]
  },
  {
   "cell_type": "code",
   "execution_count": 8,
   "metadata": {},
   "outputs": [
    {
     "name": "stderr",
     "output_type": "stream",
     "text": [
      "INFO:ekorpkit.io.file:Concatenating 3 dataframes\n",
      "INFO:simpletransformers.classification.classification_utils: Converting to features started. Cache is not used.\n"
     ]
    },
    {
     "data": {
      "application/vnd.jupyter.widget-view+json": {
       "model_id": "c045af62a59046e3984374041d08cc44",
       "version_major": 2,
       "version_minor": 0
      },
      "text/plain": [
       "  0%|          | 0/426 [00:00<?, ?it/s]"
      ]
     },
     "metadata": {},
     "output_type": "display_data"
    },
    {
     "name": "stderr",
     "output_type": "stream",
     "text": [
      "INFO:ekorpkit.models.transformer.simple:type of raw_outputs: <class 'numpy.ndarray'>\n",
      "INFO:ekorpkit.models.transformer.simple:raw_output: [ 0.91504776 -1.6142416   0.5779075 ]\n",
      "INFO:ekorpkit.io.file:Saving dataframe to /workspace/projects/ekorpkit-book/exmaples/esg/outputs/esg_polarity_further_train/esg_polarity_further_train(23)_preds.parquet\n"
     ]
    },
    {
     "name": "stdout",
     "output_type": "stream",
     "text": [
      "(13616, 7)\n"
     ]
    },
    {
     "data": {
      "text/html": [
       "<div>\n",
       "<style scoped>\n",
       "    .dataframe tbody tr th:only-of-type {\n",
       "        vertical-align: middle;\n",
       "    }\n",
       "\n",
       "    .dataframe tbody tr th {\n",
       "        vertical-align: top;\n",
       "    }\n",
       "\n",
       "    .dataframe thead th {\n",
       "        text-align: right;\n",
       "    }\n",
       "</style>\n",
       "<table border=\"1\" class=\"dataframe\">\n",
       "  <thead>\n",
       "    <tr style=\"text-align: right;\">\n",
       "      <th></th>\n",
       "      <th>text</th>\n",
       "      <th>labels</th>\n",
       "      <th>pred_labels</th>\n",
       "      <th>pred_probs</th>\n",
       "    </tr>\n",
       "  </thead>\n",
       "  <tbody>\n",
       "    <tr>\n",
       "      <th>0</th>\n",
       "      <td>헌법재판소는 먼저 고발권 행사의 재량성에 대해서는 공정거래법은 제71조에서 '......</td>\n",
       "      <td>Negative</td>\n",
       "      <td>Neutral</td>\n",
       "      <td>0.557561</td>\n",
       "    </tr>\n",
       "    <tr>\n",
       "      <th>1</th>\n",
       "      <td>특히, 그룹내 업종도 다르고 재무구조도 다른 계열사들이 그룹으로 묶여지는 특수한 지...</td>\n",
       "      <td>Neutral</td>\n",
       "      <td>Neutral</td>\n",
       "      <td>0.928241</td>\n",
       "    </tr>\n",
       "    <tr>\n",
       "      <th>2</th>\n",
       "      <td>2018년 신규 취업자수는 36만명 증가하고, 전체 취업자 증가율은 1.4%로 20...</td>\n",
       "      <td>Neutral</td>\n",
       "      <td>Neutral</td>\n",
       "      <td>0.925548</td>\n",
       "    </tr>\n",
       "    <tr>\n",
       "      <th>3</th>\n",
       "      <td>앞서 분석한 대로 5월엔 펀더멘털 개선과 위험 요인들이 h지수의 방향을 좌우할 것이...</td>\n",
       "      <td>Neutral</td>\n",
       "      <td>Neutral</td>\n",
       "      <td>0.896465</td>\n",
       "    </tr>\n",
       "    <tr>\n",
       "      <th>4</th>\n",
       "      <td>재생에너지의 성장 속도는 향후 10년 안에 세계 주요 지역의 전통 에너지원 (con...</td>\n",
       "      <td>Positive</td>\n",
       "      <td>Positive</td>\n",
       "      <td>0.942301</td>\n",
       "    </tr>\n",
       "  </tbody>\n",
       "</table>\n",
       "</div>"
      ],
      "text/plain": [
       "                                                text    labels pred_labels  \\\n",
       "0  헌법재판소는 먼저 고발권 행사의 재량성에 대해서는 공정거래법은 제71조에서 '......  Negative     Neutral   \n",
       "1  특히, 그룹내 업종도 다르고 재무구조도 다른 계열사들이 그룹으로 묶여지는 특수한 지...   Neutral     Neutral   \n",
       "2  2018년 신규 취업자수는 36만명 증가하고, 전체 취업자 증가율은 1.4%로 20...   Neutral     Neutral   \n",
       "3  앞서 분석한 대로 5월엔 펀더멘털 개선과 위험 요인들이 h지수의 방향을 좌우할 것이...   Neutral     Neutral   \n",
       "4  재생에너지의 성장 속도는 향후 10년 안에 세계 주요 지역의 전통 에너지원 (con...  Positive    Positive   \n",
       "\n",
       "   pred_probs  \n",
       "0    0.557561  \n",
       "1    0.928241  \n",
       "2    0.925548  \n",
       "3    0.896465  \n",
       "4    0.942301  "
      ]
     },
     "execution_count": 8,
     "metadata": {},
     "output_type": "execute_result"
    },
    {
     "name": "stdout",
     "output_type": "stream",
     "text": [
      "time: 31.6 s (started: 2023-01-05 05:22:49 +00:00)\n"
     ]
    }
   ],
   "source": [
    "pol_preds = sm.predict(ds_pol.data)\n",
    "print(pol_preds.shape)\n",
    "cols = [\"text\", \"labels\", \"pred_labels\", \"pred_probs\"]\n",
    "pol_preds[cols].head()"
   ]
  },
  {
   "cell_type": "code",
   "execution_count": 9,
   "metadata": {},
   "outputs": [
    {
     "name": "stderr",
     "output_type": "stream",
     "text": [
      "INFO:ekorpkit.models.transformer.simple:Created 13616 records\n"
     ]
    },
    {
     "name": "stdout",
     "output_type": "stream",
     "text": [
      "3126\n"
     ]
    },
    {
     "data": {
      "text/plain": [
       "TextClassificationRecord(text='재생에너지는 태양 열, 태양광, 풍력, 수력(2003년 이후 10mw 이상의 대규모 수력발전 포함, 펌프 저장 수력 은 제외), 조력, 지열, 바이오, 폐기물로 구성되며, 바이오는 바이오가스, lfg(landfill gas), 바이오디젤, 우드 칩 & 펠렛, 성형탄, 임산연료, 폐목재, 흑액, 하수슬러지 고형연 료, 바이오 srf(solid refuse fuel), 바이오 중유로 구성되고, 폐기물은 폐가스, 산업폐기물, 생활폐기물, 대형 도시 쓰레기, 시멘트 킬린 보조 연료, rdf(refuse-derived fuel), rpf(refuse plastic fuel), tdf(tire-derived fuel), srf, 정제 연료유, 폐목재로 구성되며, 신에너지는 연료전지와 igcc(integrated gasification combined cycle)을 포함한 다(에너지경제연구원, 2017)', inputs={'text': '재생에너지는 태양 열, 태양광, 풍력, 수력(2003년 이후 10mw 이상의 대규모 수력발전 포함, 펌프 저장 수력 은 제외), 조력, 지열, 바이오, 폐기물로 구성되며, 바이오는 바이오가스, lfg(landfill gas), 바이오디젤, 우드 칩 & 펠렛, 성형탄, 임산연료, 폐목재, 흑액, 하수슬러지 고형연 료, 바이오 srf(solid refuse fuel), 바이오 중유로 구성되고, 폐기물은 폐가스, 산업폐기물, 생활폐기물, 대형 도시 쓰레기, 시멘트 킬린 보조 연료, rdf(refuse-derived fuel), rpf(refuse plastic fuel), tdf(tire-derived fuel), srf, 정제 연료유, 폐목재로 구성되며, 신에너지는 연료전지와 igcc(integrated gasification combined cycle)을 포함한 다(에너지경제연구원, 2017)'}, prediction=[('Neutral', 0.029363089614303225), ('Positive', 0.9645883781616761), ('Negative', 0.006048532224020738)], prediction_agent=None, annotation='Neutral', annotation_agent=None, multi_label=False, explanation=None, id=None, metadata={'id': 20632, 'split': 'train', 'label_error_candidate': 0}, status='Validated', event_timestamp=None, metrics=None, search_keywords=None)"
      ]
     },
     "execution_count": 9,
     "metadata": {},
     "output_type": "execute_result"
    },
    {
     "name": "stdout",
     "output_type": "stream",
     "text": [
      "time: 5.31 s (started: 2023-01-05 05:23:21 +00:00)\n"
     ]
    }
   ],
   "source": [
    "records_with_label_error = sm.find_label_errors(pol_preds)\n",
    "print(len(records_with_label_error))\n",
    "records_with_label_error[0]"
   ]
  },
  {
   "cell_type": "code",
   "execution_count": 10,
   "metadata": {},
   "outputs": [
    {
     "name": "stderr",
     "output_type": "stream",
     "text": [
      "INFO:ekorpkit.io.file:Saving dataframe to /workspace/projects/ekorpkit-book/exmaples/esg/data/esg_polarity_kr/esg_polarity_data_validated.parquet\n"
     ]
    },
    {
     "name": "stdout",
     "output_type": "stream",
     "text": [
      "10490\n",
      "time: 3.41 s (started: 2023-01-05 05:23:26 +00:00)\n"
     ]
    }
   ],
   "source": [
    "# remove rows from preds that have label errors\n",
    "pol_preds_new = pol_preds.copy()\n",
    "for record in records_with_label_error:\n",
    "    metadata = record.metadata\n",
    "    pol_preds_new = pol_preds_new[pol_preds_new.id != metadata[\"id\"]]\n",
    "print(len(pol_preds_new))\n",
    "filename = \"esg_polarity_data_validated.parquet\"\n",
    "eKonf.save_data(pol_preds_new, filename, ds_pol.data_dir)"
   ]
  },
  {
   "cell_type": "code",
   "execution_count": 11,
   "metadata": {},
   "outputs": [
    {
     "name": "stderr",
     "output_type": "stream",
     "text": [
      "INFO:ekorpkit.io.file:Concatenating 2 dataframes\n",
      "INFO:ekorpkit.io.file:Saving dataframe to /workspace/projects/ekorpkit-book/exmaples/esg/data/esg_polarity_validated/esg_polarity_labels_validated.parquet\n"
     ]
    },
    {
     "name": "stdout",
     "output_type": "stream",
     "text": [
      "(11648, 2)\n",
      "Neutral     8743\n",
      "Positive    2137\n",
      "Negative     768\n",
      "Name: labels, dtype: int64\n",
      "time: 544 ms (started: 2023-01-05 05:23:30 +00:00)\n"
     ]
    }
   ],
   "source": [
    "data_pol_merged = eKonf.concat_data([pol_preds_new[['text', 'labels']], pol_data[['text', 'labels']]], axis=0)\n",
    "print(data_pol_merged.shape)\n",
    "print(data_pol_merged.labels.value_counts())\n",
    "# Save data\n",
    "valid_pol_file = \"esg_polarity_labels_validated.parquet\"\n",
    "valid_data_dir = ws.project_dir / \"esg/data/esg_polarity_validated\"\n",
    "eKonf.save_data(data_pol_merged, valid_pol_file, valid_data_dir)"
   ]
  },
  {
   "cell_type": "code",
   "execution_count": 12,
   "metadata": {},
   "outputs": [
    {
     "name": "stdout",
     "output_type": "stream",
     "text": [
      "time: 1.8 s (started: 2023-01-05 05:23:30 +00:00)\n"
     ]
    }
   ],
   "source": [
    "from ekorpkit.models.transformer.simple import SimpleClassification\n",
    "\n",
    "trained_model = \"esg/models/esg_polarity-classification\"\n",
    "valid_pol_file = \"esg_polarity_labels_validated.parquet\"\n",
    "valid_data_dir = ws.project_dir / \"esg/data/esg_polarity_validated\"\n",
    "\n",
    "cfg = eKonf.compose('task=simple.classification')\n",
    "cfg.name = \"esg_polarity_validated\"\n",
    "cfg.dataset.data_dir = valid_data_dir\n",
    "cfg.dataset.data_files = valid_pol_file\n",
    "cfg.dataset.test_size = 0.2\n",
    "cfg.dataset.dev_size = 0.2\n",
    "cfg.dataset.shuffle = True\n",
    "cfg.dataset.seed = 1329829118\n",
    "cfg.model.model_name_or_path = f\"{ws.project_dir}/{trained_model}\"\n",
    "cfg.trainer.num_train_epochs = 10\n",
    "cfg.trainer.max_seq_length = 256\n",
    "cfg.trainer.train_batch_size = 128\n",
    "cfg.trainer.eval_batch_size = 128\n",
    "\n",
    "sm = SimpleClassification(**cfg)"
   ]
  },
  {
   "cell_type": "code",
   "execution_count": 13,
   "metadata": {
    "scrolled": false
   },
   "outputs": [
    {
     "name": "stderr",
     "output_type": "stream",
     "text": [
      "INFO:ekorpkit.datasets.config:Splitting the dataframe into train and test with ratio 0.2\n",
      "INFO:ekorpkit.datasets.config:Splitting the dataframe into train and dev with ratio 0.2\n",
      "INFO:ekorpkit.datasets.config:Shuffling the dataframe with seed 1329829118\n",
      "INFO:ekorpkit.datasets.config:Train data: (7454, 2)\n",
      "INFO:ekorpkit.datasets.config:Test data: (2330, 2)\n",
      "INFO:ekorpkit.datasets.config:Dev data: (1864, 2)\n",
      "INFO:simpletransformers.classification.classification_utils: Converting to features started. Cache is not used.\n",
      "INFO:simpletransformers.classification.classification_utils: Saving features into cached file /workspace/.cache/cached_train_electra_256_3_2\n"
     ]
    },
    {
     "data": {
      "application/vnd.jupyter.widget-view+json": {
       "model_id": "315e28faadea4640b5677b4a65bb8b32",
       "version_major": 2,
       "version_minor": 0
      },
      "text/plain": [
       "Epoch:   0%|          | 0/10 [00:00<?, ?it/s]"
      ]
     },
     "metadata": {},
     "output_type": "display_data"
    },
    {
     "name": "stderr",
     "output_type": "stream",
     "text": [
      "INFO:simpletransformers.classification.classification_model:   Starting fine-tuning.\n",
      "INFO:simpletransformers.classification.classification_model: Initializing WandB run for training.\n"
     ]
    },
    {
     "data": {
      "application/vnd.jupyter.widget-view+json": {
       "model_id": "e1dac4809f5049aca296fa01dd5dc23d",
       "version_major": 2,
       "version_minor": 0
      },
      "text/plain": [
       "VBox(children=(Label(value='Waiting for wandb.init()...\\r'), FloatProgress(value=0.016669068982203803, max=1.0…"
      ]
     },
     "metadata": {},
     "output_type": "display_data"
    },
    {
     "data": {
      "application/vnd.jupyter.widget-view+json": {
       "model_id": "d69372682cf44a56b9537a51526f1a60",
       "version_major": 2,
       "version_minor": 0
      },
      "text/plain": [
       "Running Epoch 0 of 10:   0%|          | 0/59 [00:00<?, ?it/s]"
      ]
     },
     "metadata": {},
     "output_type": "display_data"
    },
    {
     "name": "stderr",
     "output_type": "stream",
     "text": [
      "INFO:simpletransformers.classification.classification_utils: Converting to features started. Cache is not used.\n",
      "INFO:simpletransformers.classification.classification_utils: Saving features into cached file /workspace/.cache/cached_dev_electra_256_3_2\n",
      "INFO:simpletransformers.classification.classification_model:{'mcc': 0.8370756314020869, 'acc': 0.9361587982832618, 'eval_loss': 0.1948709785938263}\n"
     ]
    },
    {
     "data": {
      "application/vnd.jupyter.widget-view+json": {
       "model_id": "7babbe9d92174395af06543fcd6c19cd",
       "version_major": 2,
       "version_minor": 0
      },
      "text/plain": [
       "Running Epoch 1 of 10:   0%|          | 0/59 [00:00<?, ?it/s]"
      ]
     },
     "metadata": {},
     "output_type": "display_data"
    },
    {
     "name": "stderr",
     "output_type": "stream",
     "text": [
      "INFO:simpletransformers.classification.classification_utils: Converting to features started. Cache is not used.\n",
      "INFO:simpletransformers.classification.classification_utils: Saving features into cached file /workspace/.cache/cached_dev_electra_256_3_2\n",
      "INFO:simpletransformers.classification.classification_model:{'mcc': 0.8351891378637732, 'acc': 0.9281115879828327, 'eval_loss': 0.18297020494937896}\n"
     ]
    },
    {
     "data": {
      "application/vnd.jupyter.widget-view+json": {
       "model_id": "b21b8a62244946b693791401e8183324",
       "version_major": 2,
       "version_minor": 0
      },
      "text/plain": [
       "Running Epoch 2 of 10:   0%|          | 0/59 [00:00<?, ?it/s]"
      ]
     },
     "metadata": {},
     "output_type": "display_data"
    },
    {
     "name": "stderr",
     "output_type": "stream",
     "text": [
      "INFO:simpletransformers.classification.classification_utils: Converting to features started. Cache is not used.\n",
      "INFO:simpletransformers.classification.classification_utils: Saving features into cached file /workspace/.cache/cached_dev_electra_256_3_2\n",
      "INFO:simpletransformers.classification.classification_model:{'mcc': 0.8416612963899948, 'acc': 0.9329399141630901, 'eval_loss': 0.19620483368635178}\n"
     ]
    },
    {
     "data": {
      "application/vnd.jupyter.widget-view+json": {
       "model_id": "2626db089bfe4c58a04bceba2cd0cc30",
       "version_major": 2,
       "version_minor": 0
      },
      "text/plain": [
       "Running Epoch 3 of 10:   0%|          | 0/59 [00:00<?, ?it/s]"
      ]
     },
     "metadata": {},
     "output_type": "display_data"
    },
    {
     "name": "stderr",
     "output_type": "stream",
     "text": [
      "INFO:simpletransformers.classification.classification_utils: Converting to features started. Cache is not used.\n",
      "INFO:simpletransformers.classification.classification_utils: Saving features into cached file /workspace/.cache/cached_dev_electra_256_3_2\n",
      "INFO:simpletransformers.classification.classification_model:{'mcc': 0.8106017713175628, 'acc': 0.9136266094420601, 'eval_loss': 0.2883289317289988}\n"
     ]
    },
    {
     "data": {
      "application/vnd.jupyter.widget-view+json": {
       "model_id": "36d10c549adb49f38f8cce260ae82ad7",
       "version_major": 2,
       "version_minor": 0
      },
      "text/plain": [
       "Running Epoch 4 of 10:   0%|          | 0/59 [00:00<?, ?it/s]"
      ]
     },
     "metadata": {},
     "output_type": "display_data"
    },
    {
     "name": "stderr",
     "output_type": "stream",
     "text": [
      "INFO:simpletransformers.classification.classification_utils: Converting to features started. Cache is not used.\n",
      "INFO:simpletransformers.classification.classification_utils: Saving features into cached file /workspace/.cache/cached_dev_electra_256_3_2\n",
      "INFO:simpletransformers.classification.classification_model:{'mcc': 0.8517777272479437, 'acc': 0.9393776824034334, 'eval_loss': 0.21728213826815287}\n"
     ]
    },
    {
     "data": {
      "application/vnd.jupyter.widget-view+json": {
       "model_id": "a9db1882c0d442eaa59618f8a24e1878",
       "version_major": 2,
       "version_minor": 0
      },
      "text/plain": [
       "Running Epoch 5 of 10:   0%|          | 0/59 [00:00<?, ?it/s]"
      ]
     },
     "metadata": {},
     "output_type": "display_data"
    },
    {
     "name": "stderr",
     "output_type": "stream",
     "text": [
      "INFO:simpletransformers.classification.classification_utils: Converting to features started. Cache is not used.\n",
      "INFO:simpletransformers.classification.classification_utils: Saving features into cached file /workspace/.cache/cached_dev_electra_256_3_2\n",
      "INFO:simpletransformers.classification.classification_model:{'mcc': 0.8428568844583993, 'acc': 0.9361587982832618, 'eval_loss': 0.2663285652796427}\n"
     ]
    },
    {
     "data": {
      "application/vnd.jupyter.widget-view+json": {
       "model_id": "abfa0b4f808b4fbf94d3e2a1e5065ec3",
       "version_major": 2,
       "version_minor": 0
      },
      "text/plain": [
       "Running Epoch 6 of 10:   0%|          | 0/59 [00:00<?, ?it/s]"
      ]
     },
     "metadata": {},
     "output_type": "display_data"
    },
    {
     "name": "stderr",
     "output_type": "stream",
     "text": [
      "INFO:simpletransformers.classification.classification_utils: Converting to features started. Cache is not used.\n",
      "INFO:simpletransformers.classification.classification_utils: Saving features into cached file /workspace/.cache/cached_dev_electra_256_3_2\n",
      "INFO:simpletransformers.classification.classification_model:{'mcc': 0.8046839102325267, 'acc': 0.9114806866952789, 'eval_loss': 0.36101144552230835}\n"
     ]
    },
    {
     "data": {
      "application/vnd.jupyter.widget-view+json": {
       "model_id": "0b07db7fcd2e4ece940dcaabd9d201eb",
       "version_major": 2,
       "version_minor": 0
      },
      "text/plain": [
       "Running Epoch 7 of 10:   0%|          | 0/59 [00:00<?, ?it/s]"
      ]
     },
     "metadata": {},
     "output_type": "display_data"
    },
    {
     "name": "stderr",
     "output_type": "stream",
     "text": [
      "INFO:simpletransformers.classification.classification_utils: Converting to features started. Cache is not used.\n",
      "INFO:simpletransformers.classification.classification_utils: Saving features into cached file /workspace/.cache/cached_dev_electra_256_3_2\n",
      "INFO:simpletransformers.classification.classification_model:{'mcc': 0.8316201654065506, 'acc': 0.930793991416309, 'eval_loss': 0.30500775774319966}\n"
     ]
    },
    {
     "data": {
      "application/vnd.jupyter.widget-view+json": {
       "model_id": "7d2f78a2635149b3bb3686e53831c31e",
       "version_major": 2,
       "version_minor": 0
      },
      "text/plain": [
       "Running Epoch 8 of 10:   0%|          | 0/59 [00:00<?, ?it/s]"
      ]
     },
     "metadata": {},
     "output_type": "display_data"
    },
    {
     "name": "stderr",
     "output_type": "stream",
     "text": [
      "INFO:simpletransformers.classification.classification_utils: Converting to features started. Cache is not used.\n",
      "INFO:simpletransformers.classification.classification_utils: Saving features into cached file /workspace/.cache/cached_dev_electra_256_3_2\n",
      "INFO:simpletransformers.classification.classification_model:{'mcc': 0.845083717375899, 'acc': 0.9366952789699571, 'eval_loss': 0.285999862353007}\n"
     ]
    },
    {
     "data": {
      "application/vnd.jupyter.widget-view+json": {
       "model_id": "39fad626a02c472f9dcdb484fa200bba",
       "version_major": 2,
       "version_minor": 0
      },
      "text/plain": [
       "Running Epoch 9 of 10:   0%|          | 0/59 [00:00<?, ?it/s]"
      ]
     },
     "metadata": {},
     "output_type": "display_data"
    },
    {
     "name": "stderr",
     "output_type": "stream",
     "text": [
      "INFO:simpletransformers.classification.classification_utils: Converting to features started. Cache is not used.\n",
      "INFO:simpletransformers.classification.classification_utils: Saving features into cached file /workspace/.cache/cached_dev_electra_256_3_2\n",
      "INFO:simpletransformers.classification.classification_model:{'mcc': 0.8351849488988791, 'acc': 0.9313304721030042, 'eval_loss': 0.2960137814283371}\n",
      "INFO:simpletransformers.classification.classification_model: Training of electra model complete. Saved to /workspace/projects/ekorpkit-book/exmaples/esg/models/esg_polarity_validated-classification.\n",
      "INFO:simpletransformers.classification.classification_utils: Converting to features started. Cache is not used.\n",
      "INFO:simpletransformers.classification.classification_utils: Saving features into cached file /workspace/.cache/cached_dev_electra_256_3_2\n"
     ]
    },
    {
     "data": {
      "application/vnd.jupyter.widget-view+json": {
       "model_id": "a30f15daff054717a6f044e52ae69d3e",
       "version_major": 2,
       "version_minor": 0
      },
      "text/plain": [
       "Running Evaluation:   0%|          | 0/19 [00:00<?, ?it/s]"
      ]
     },
     "metadata": {},
     "output_type": "display_data"
    },
    {
     "name": "stderr",
     "output_type": "stream",
     "text": [
      "INFO:simpletransformers.classification.classification_model: Initializing WandB run for evaluation.\n"
     ]
    },
    {
     "data": {
      "application/vnd.jupyter.widget-view+json": {
       "model_id": "b0f65d68321e40f0afb1c9ecf2478dc4",
       "version_major": 2,
       "version_minor": 0
      },
      "text/plain": [
       "VBox(children=(Label(value='Waiting for wandb.init()...\\r'), FloatProgress(value=0.016668889134113365, max=1.0…"
      ]
     },
     "metadata": {},
     "output_type": "display_data"
    },
    {
     "name": "stderr",
     "output_type": "stream",
     "text": [
      "INFO:simpletransformers.classification.classification_model:{'mcc': 0.8420461010091653, 'acc': 0.934763948497854, 'eval_loss': 0.25463688023094283}\n",
      "INFO:ekorpkit.config:Saving config to /workspace/projects/ekorpkit-book/exmaples/esg/outputs/esg_polarity_validated/configs/esg_polarity_validated(5)_config.yaml\n",
      "INFO:ekorpkit.models.transformer.simple:Loaded model from /workspace/projects/ekorpkit-book/exmaples/esg/models/esg_polarity_validated-classification/best_model\n",
      "INFO:simpletransformers.classification.classification_utils: Converting to features started. Cache is not used.\n"
     ]
    },
    {
     "data": {
      "application/vnd.jupyter.widget-view+json": {
       "model_id": "1056423cacd44bf984f1ac15f8b1b7f0",
       "version_major": 2,
       "version_minor": 0
      },
      "text/plain": [
       "  0%|          | 0/19 [00:00<?, ?it/s]"
      ]
     },
     "metadata": {},
     "output_type": "display_data"
    },
    {
     "name": "stderr",
     "output_type": "stream",
     "text": [
      "INFO:ekorpkit.models.transformer.simple:type of raw_outputs: <class 'numpy.ndarray'>\n",
      "INFO:ekorpkit.models.transformer.simple:raw_output: [ 4.14652348 -1.96653938 -1.80128765]\n",
      "INFO:ekorpkit.io.file:Saving dataframe to /workspace/projects/ekorpkit-book/exmaples/esg/outputs/esg_polarity_validated/esg_polarity_validated(5)_preds.parquet\n"
     ]
    },
    {
     "name": "stdout",
     "output_type": "stream",
     "text": [
      "Accuracy:  0.9343347639484979\n",
      "Precison:  0.9403512413688508\n",
      "Recall:  0.9343347639484979\n",
      "F1 Score:  0.935814490942164\n",
      "Model Report: \n",
      "___________________________________________________\n",
      "              precision    recall  f1-score   support\n",
      "\n",
      "    Negative       0.80      0.92      0.86       145\n",
      "     Neutral       0.98      0.93      0.96      1746\n",
      "    Positive       0.83      0.95      0.88       439\n",
      "\n",
      "    accuracy                           0.93      2330\n",
      "   macro avg       0.87      0.93      0.90      2330\n",
      "weighted avg       0.94      0.93      0.94      2330\n",
      "\n"
     ]
    },
    {
     "name": "stderr",
     "output_type": "stream",
     "text": [
      "INFO:ekorpkit.visualize.base:Saved figure to /workspace/projects/ekorpkit-book/exmaples/esg/outputs/esg_polarity_validated/esg_polarity_validated(5)_confusion_matrix.png\n"
     ]
    },
    {
     "data": {
      "image/png": "[encoded data removed]",
      "text/plain": [
       "<Figure size 720x360 with 2 Axes>"
      ]
     },
     "metadata": {
      "image/png": {
       "height": 331,
       "width": 644
      }
     },
     "output_type": "display_data"
    },
    {
     "name": "stdout",
     "output_type": "stream",
     "text": [
      "time: 8min 19s (started: 2023-01-05 05:23:32 +00:00)\n"
     ]
    }
   ],
   "source": [
    "sm.train()\n",
    "sm.eval()"
   ]
  },
  {
   "cell_type": "markdown",
   "metadata": {
    "pycharm": {
     "name": "#%% md\n"
    }
   },
   "source": [
    "## Preparing invalid topic data"
   ]
  },
  {
   "cell_type": "code",
   "execution_count": 14,
   "metadata": {},
   "outputs": [
    {
     "name": "stderr",
     "output_type": "stream",
     "text": [
      "INFO:ekorpkit.datasets.config:Loaded info file: /workspace/projects/ekorpkit-book/exmaples/esg/data/esg_invalid_kr/info-esg_invalid_kr.yaml\n",
      "INFO:ekorpkit.info.column:index: index, index of data: None, columns: ['text', 'labels', 'annotation'], id: ['id']\n",
      "INFO:ekorpkit.info.column:Adding id [split] to ['id']\n",
      "INFO:ekorpkit.info.column:Added id [split], now ['id', 'split']\n",
      "INFO:ekorpkit.info.column:Added a column [split] with value [train]\n",
      "INFO:ekorpkit.info.column:Added a column [split] with value [dev]\n",
      "INFO:ekorpkit.info.column:Added a column [split] with value [test]\n",
      "INFO:ekorpkit.io.file:Concatenating 3 dataframes\n"
     ]
    },
    {
     "name": "stdout",
     "output_type": "stream",
     "text": [
      "Validated    198\n",
      "Discarded    173\n",
      "Name: labels, dtype: int64\n",
      "time: 960 ms (started: 2023-01-05 05:31:52 +00:00)\n"
     ]
    }
   ],
   "source": [
    "from ekorpkit.datasets.dataset import Dataset\n",
    "\n",
    "cfg = eKonf.compose(\"dataset=dataset\")\n",
    "cfg.name = \"esg_invalid_kr\"\n",
    "cfg.data_dir = cfg.path.data_dir\n",
    "ds_inval = Dataset(**cfg)\n",
    "print(ds_inval.data[\"labels\"].value_counts())"
   ]
  },
  {
   "cell_type": "code",
   "execution_count": 15,
   "metadata": {},
   "outputs": [
    {
     "name": "stdout",
     "output_type": "stream",
     "text": [
      "UNKNOWN             212\n",
      "E-환경혁신               72\n",
      "G-지배구조               66\n",
      "G-기업윤리/불공정/소송        57\n",
      "E-기후변화               53\n",
      "S-기업(공급망)동반성장/상생     33\n",
      "ESG                  24\n",
      "S-고용                 20\n",
      "S-소비자                14\n",
      "S-사회공헌               11\n",
      "S-재해/안전관리             9\n",
      "E-환경영향                5\n",
      "Name: labels, dtype: int64\n",
      "Validated    364\n",
      "Discarded    212\n",
      "Name: labels, dtype: int64\n",
      "time: 16.8 ms (started: 2023-01-05 05:31:53 +00:00)\n"
     ]
    }
   ],
   "source": [
    "file = ws.project_dir / \"esg/outputs/esg_topic_labels/esg_topic_labels(0)_export.parquet\"\n",
    "tp_add = eKonf.load_data(file)\n",
    "# summary of labels column\n",
    "print(tp_add[\"labels\"].value_counts())\n",
    "# change value of labels column\n",
    "# UNKNOWN -> Discarded\n",
    "# Other values -> Validated\n",
    "tp_add[\"labels\"] = tp_add[\"labels\"].apply(lambda x: \"Discarded\" if x == \"UNKNOWN\" else \"Validated\")\n",
    "print(tp_add[\"labels\"].value_counts())"
   ]
  },
  {
   "cell_type": "code",
   "execution_count": 16,
   "metadata": {},
   "outputs": [
    {
     "name": "stderr",
     "output_type": "stream",
     "text": [
      "INFO:ekorpkit.io.file:Concatenating 3 dataframes\n",
      "INFO:ekorpkit.io.file:Concatenating 2 dataframes\n",
      "INFO:ekorpkit.io.file:Saving dataframe to /workspace/projects/ekorpkit-book/exmaples/esg/data/esg_invalid_kr/esg_invalid_kr_merged.parquet\n"
     ]
    },
    {
     "name": "stdout",
     "output_type": "stream",
     "text": [
      "Validated    562\n",
      "Discarded    385\n",
      "Name: labels, dtype: int64\n",
      "time: 101 ms (started: 2023-01-05 05:31:53 +00:00)\n"
     ]
    }
   ],
   "source": [
    "# combine two datasets\n",
    "data_inval = eKonf.concat_data([ds_inval.data, tp_add], axis=0)\n",
    "print(data_inval.labels.value_counts())\n",
    "data_inval.head()\n",
    "# Save data\n",
    "file_inval = \"esg_invalid_kr_merged.parquet\"\n",
    "eKonf.save_data(data_inval, file_inval, ds_inval.data_dir)"
   ]
  },
  {
   "cell_type": "markdown",
   "metadata": {},
   "source": [
    "## Training an invalid topic classifier"
   ]
  },
  {
   "cell_type": "code",
   "execution_count": 17,
   "metadata": {},
   "outputs": [
    {
     "data": {
      "application/vnd.jupyter.widget-view+json": {
       "model_id": "8cf45dee243d411ba9e697b371271798",
       "version_major": 2,
       "version_minor": 0
      },
      "text/plain": [
       "Downloading:   0%|          | 0.00/490 [00:00<?, ?B/s]"
      ]
     },
     "metadata": {},
     "output_type": "display_data"
    },
    {
     "name": "stdout",
     "output_type": "stream",
     "text": [
      "time: 3.59 s (started: 2023-01-05 05:31:53 +00:00)\n"
     ]
    }
   ],
   "source": [
    "from ekorpkit.models.transformer.simple import SimpleClassification\n",
    "\n",
    "\n",
    "cfg = eKonf.compose('task=simple.classification')\n",
    "cfg.name = \"esg_topic_invalid_merged\"\n",
    "cfg.dataset.data_dir = ds_inval.data_dir\n",
    "cfg.dataset.data_files = file_inval\n",
    "cfg.dataset.test_size = 0.2\n",
    "# cfg.dataset.dev_size = 0.2\n",
    "cfg.dataset.seed = 3247616750\n",
    "cfg.dataset.shuffle = True\n",
    "cfg.model.model_name_or_path = \"entelecheia/ekonelectra-base-discriminator\"\n",
    "cfg.trainer.num_train_epochs = 10\n",
    "cfg.trainer.max_seq_length = 256\n",
    "cfg.trainer.train_batch_size = 128\n",
    "cfg.trainer.eval_batch_size = 128\n",
    "\n",
    "sm_inval = SimpleClassification(**cfg)"
   ]
  },
  {
   "cell_type": "code",
   "execution_count": 18,
   "metadata": {
    "scrolled": false
   },
   "outputs": [
    {
     "name": "stderr",
     "output_type": "stream",
     "text": [
      "INFO:ekorpkit.datasets.config:Splitting the dataframe into train and test with ratio 0.2\n",
      "INFO:ekorpkit.datasets.config:Shuffling the dataframe with seed 3247616750\n",
      "INFO:ekorpkit.datasets.config:Train data: (757, 8)\n",
      "INFO:ekorpkit.datasets.config:Test data: (190, 8)\n",
      "INFO:ekorpkit.io.file:Concatenating 2 dataframes\n",
      "INFO:ekorpkit.datasets.config:Train data: (631, 8)\n",
      "INFO:ekorpkit.models.transformer.simple:No columns or data to rename\n"
     ]
    },
    {
     "data": {
      "application/vnd.jupyter.widget-view+json": {
       "model_id": "1f1f7d2fa95f4e9c8fdb6abb23f1f149",
       "version_major": 2,
       "version_minor": 0
      },
      "text/plain": [
       "Downloading:   0%|          | 0.00/490 [00:00<?, ?B/s]"
      ]
     },
     "metadata": {},
     "output_type": "display_data"
    },
    {
     "data": {
      "application/vnd.jupyter.widget-view+json": {
       "model_id": "e98302e3acb044b8aaa67133c4227fb9",
       "version_major": 2,
       "version_minor": 0
      },
      "text/plain": [
       "Downloading:   0%|          | 0.00/443M [00:00<?, ?B/s]"
      ]
     },
     "metadata": {},
     "output_type": "display_data"
    },
    {
     "name": "stderr",
     "output_type": "stream",
     "text": [
      "Some weights of the model checkpoint at entelecheia/ekonelectra-base-discriminator were not used when initializing ElectraForSequenceClassification: ['discriminator_predictions.dense.weight', 'discriminator_predictions.dense_prediction.weight', 'discriminator_predictions.dense_prediction.bias', 'discriminator_predictions.dense.bias']\n",
      "- This IS expected if you are initializing ElectraForSequenceClassification from the checkpoint of a model trained on another task or with another architecture (e.g. initializing a BertForSequenceClassification model from a BertForPreTraining model).\n",
      "- This IS NOT expected if you are initializing ElectraForSequenceClassification from the checkpoint of a model that you expect to be exactly identical (initializing a BertForSequenceClassification model from a BertForSequenceClassification model).\n",
      "Some weights of ElectraForSequenceClassification were not initialized from the model checkpoint at entelecheia/ekonelectra-base-discriminator and are newly initialized: ['classifier.out_proj.weight', 'classifier.dense.weight', 'classifier.out_proj.bias', 'classifier.dense.bias']\n",
      "You should probably TRAIN this model on a down-stream task to be able to use it for predictions and inference.\n"
     ]
    },
    {
     "data": {
      "application/vnd.jupyter.widget-view+json": {
       "model_id": "66434f4a9be9474d84517d85bb825e1f",
       "version_major": 2,
       "version_minor": 0
      },
      "text/plain": [
       "Downloading:   0%|          | 0.00/59.0 [00:00<?, ?B/s]"
      ]
     },
     "metadata": {},
     "output_type": "display_data"
    },
    {
     "data": {
      "application/vnd.jupyter.widget-view+json": {
       "model_id": "649cbd9260254ea88b6208029ffca0da",
       "version_major": 2,
       "version_minor": 0
      },
      "text/plain": [
       "Downloading:   0%|          | 0.00/229k [00:00<?, ?B/s]"
      ]
     },
     "metadata": {},
     "output_type": "display_data"
    },
    {
     "name": "stderr",
     "output_type": "stream",
     "text": [
      "INFO:simpletransformers.classification.classification_utils: Converting to features started. Cache is not used.\n",
      "INFO:simpletransformers.classification.classification_utils: Saving features into cached file /workspace/.cache/cached_train_electra_256_2_2\n"
     ]
    },
    {
     "data": {
      "application/vnd.jupyter.widget-view+json": {
       "model_id": "9102a68135e54ddda409b79c7b8c58de",
       "version_major": 2,
       "version_minor": 0
      },
      "text/plain": [
       "Epoch:   0%|          | 0/10 [00:00<?, ?it/s]"
      ]
     },
     "metadata": {},
     "output_type": "display_data"
    },
    {
     "name": "stderr",
     "output_type": "stream",
     "text": [
      "INFO:simpletransformers.classification.classification_model: Initializing WandB run for training.\n"
     ]
    },
    {
     "data": {
      "application/vnd.jupyter.widget-view+json": {
       "model_id": "f4d5286762b9433697f497ed71b869b8",
       "version_major": 2,
       "version_minor": 0
      },
      "text/plain": [
       "VBox(children=(Label(value='Waiting for wandb.init()...\\r'), FloatProgress(value=0.01666879185164968, max=1.0)…"
      ]
     },
     "metadata": {},
     "output_type": "display_data"
    },
    {
     "data": {
      "application/vnd.jupyter.widget-view+json": {
       "model_id": "c46c83ba9aa949618417554c613669e0",
       "version_major": 2,
       "version_minor": 0
      },
      "text/plain": [
       "Running Epoch 0 of 10:   0%|          | 0/5 [00:00<?, ?it/s]"
      ]
     },
     "metadata": {},
     "output_type": "display_data"
    },
    {
     "data": {
      "application/vnd.jupyter.widget-view+json": {
       "model_id": "201d6ed049ba44c7a9aaca3f32a116fe",
       "version_major": 2,
       "version_minor": 0
      },
      "text/plain": [
       "Running Epoch 1 of 10:   0%|          | 0/5 [00:00<?, ?it/s]"
      ]
     },
     "metadata": {},
     "output_type": "display_data"
    },
    {
     "data": {
      "application/vnd.jupyter.widget-view+json": {
       "model_id": "e977a97b1d6e462c8addba802ccd7a6e",
       "version_major": 2,
       "version_minor": 0
      },
      "text/plain": [
       "Running Epoch 2 of 10:   0%|          | 0/5 [00:00<?, ?it/s]"
      ]
     },
     "metadata": {},
     "output_type": "display_data"
    },
    {
     "data": {
      "application/vnd.jupyter.widget-view+json": {
       "model_id": "5785303a0259480796d57a7ee9ad0f3a",
       "version_major": 2,
       "version_minor": 0
      },
      "text/plain": [
       "Running Epoch 3 of 10:   0%|          | 0/5 [00:00<?, ?it/s]"
      ]
     },
     "metadata": {},
     "output_type": "display_data"
    },
    {
     "data": {
      "application/vnd.jupyter.widget-view+json": {
       "model_id": "10421690a3c54ae8a9485f93e21bf51e",
       "version_major": 2,
       "version_minor": 0
      },
      "text/plain": [
       "Running Epoch 4 of 10:   0%|          | 0/5 [00:00<?, ?it/s]"
      ]
     },
     "metadata": {},
     "output_type": "display_data"
    },
    {
     "data": {
      "application/vnd.jupyter.widget-view+json": {
       "model_id": "5caa91cced7c4336be2d69b5b1361424",
       "version_major": 2,
       "version_minor": 0
      },
      "text/plain": [
       "Running Epoch 5 of 10:   0%|          | 0/5 [00:00<?, ?it/s]"
      ]
     },
     "metadata": {},
     "output_type": "display_data"
    },
    {
     "data": {
      "application/vnd.jupyter.widget-view+json": {
       "model_id": "ab70249adec14b158a00d5b5c47c652b",
       "version_major": 2,
       "version_minor": 0
      },
      "text/plain": [
       "Running Epoch 6 of 10:   0%|          | 0/5 [00:00<?, ?it/s]"
      ]
     },
     "metadata": {},
     "output_type": "display_data"
    },
    {
     "data": {
      "application/vnd.jupyter.widget-view+json": {
       "model_id": "7c6bc92ce6b94227beb5b7500497d141",
       "version_major": 2,
       "version_minor": 0
      },
      "text/plain": [
       "Running Epoch 7 of 10:   0%|          | 0/5 [00:00<?, ?it/s]"
      ]
     },
     "metadata": {},
     "output_type": "display_data"
    },
    {
     "data": {
      "application/vnd.jupyter.widget-view+json": {
       "model_id": "ccb9165636304c4798caa735ca376978",
       "version_major": 2,
       "version_minor": 0
      },
      "text/plain": [
       "Running Epoch 8 of 10:   0%|          | 0/5 [00:00<?, ?it/s]"
      ]
     },
     "metadata": {},
     "output_type": "display_data"
    },
    {
     "data": {
      "application/vnd.jupyter.widget-view+json": {
       "model_id": "630765151e8c4dceb2e2a16b45b41a62",
       "version_major": 2,
       "version_minor": 0
      },
      "text/plain": [
       "Running Epoch 9 of 10:   0%|          | 0/5 [00:00<?, ?it/s]"
      ]
     },
     "metadata": {},
     "output_type": "display_data"
    },
    {
     "name": "stderr",
     "output_type": "stream",
     "text": [
      "INFO:simpletransformers.classification.classification_model: Training of electra model complete. Saved to /workspace/projects/ekorpkit-book/exmaples/esg/models/esg_topic_invalid_merged-classification.\n",
      "INFO:simpletransformers.classification.classification_utils: Converting to features started. Cache is not used.\n",
      "INFO:simpletransformers.classification.classification_utils: Saving features into cached file /workspace/.cache/cached_dev_electra_256_2_2\n"
     ]
    },
    {
     "data": {
      "application/vnd.jupyter.widget-view+json": {
       "model_id": "0745005fe4bd4daf8d5ea5d5510268df",
       "version_major": 2,
       "version_minor": 0
      },
      "text/plain": [
       "Running Evaluation:   0%|          | 0/3 [00:00<?, ?it/s]"
      ]
     },
     "metadata": {},
     "output_type": "display_data"
    },
    {
     "name": "stderr",
     "output_type": "stream",
     "text": [
      "INFO:simpletransformers.classification.classification_model: Initializing WandB run for evaluation.\n"
     ]
    },
    {
     "data": {
      "application/vnd.jupyter.widget-view+json": {
       "model_id": "5c944c466fa8454296c2a810a6164be6",
       "version_major": 2,
       "version_minor": 0
      },
      "text/plain": [
       "VBox(children=(Label(value='Waiting for wandb.init()...\\r'), FloatProgress(value=0.016669125684226554, max=1.0…"
      ]
     },
     "metadata": {},
     "output_type": "display_data"
    },
    {
     "name": "stderr",
     "output_type": "stream",
     "text": [
      "INFO:simpletransformers.classification.classification_model:{'mcc': 0.4691283585240593, 'tp': 75, 'tn': 163, 'fp': 31, 'fn': 47, 'auroc': 0.7881527801250634, 'auprc': 0.6895470358751884, 'acc': 0.7531645569620253, 'eval_loss': 0.5734125177065531}\n",
      "INFO:ekorpkit.config:Saving config to /workspace/projects/ekorpkit-book/exmaples/esg/outputs/esg_topic_invalid_merged/configs/esg_topic_invalid_merged(18)_config.yaml\n",
      "INFO:ekorpkit.models.transformer.simple:Predicting split 0\n",
      "INFO:ekorpkit.models.transformer.simple:Loaded model from /workspace/projects/ekorpkit-book/exmaples/esg/models/esg_topic_invalid_merged-classification/best_model\n",
      "INFO:simpletransformers.classification.classification_utils: Converting to features started. Cache is not used.\n"
     ]
    },
    {
     "data": {
      "application/vnd.jupyter.widget-view+json": {
       "model_id": "fc1ac6bfffb04628918acc9a5e2af961",
       "version_major": 2,
       "version_minor": 0
      },
      "text/plain": [
       "  0%|          | 0/10 [00:00<?, ?it/s]"
      ]
     },
     "metadata": {},
     "output_type": "display_data"
    },
    {
     "name": "stderr",
     "output_type": "stream",
     "text": [
      "INFO:ekorpkit.models.transformer.simple:type of raw_outputs: <class 'numpy.ndarray'>\n",
      "INFO:ekorpkit.models.transformer.simple:raw_output: [ 0.01894244 -0.1884751 ]\n",
      "INFO:ekorpkit.io.file:Saving dataframe to /workspace/projects/ekorpkit-book/exmaples/esg/outputs/esg_topic_invalid_merged/esg_topic_invalid_merged(18)_preds.parquet\n",
      "INFO:ekorpkit.datasets.config:Train data: (631, 11)\n",
      "INFO:ekorpkit.models.transformer.simple:No columns or data to rename\n",
      "Some weights of the model checkpoint at entelecheia/ekonelectra-base-discriminator were not used when initializing ElectraForSequenceClassification: ['discriminator_predictions.dense.weight', 'discriminator_predictions.dense_prediction.weight', 'discriminator_predictions.dense_prediction.bias', 'discriminator_predictions.dense.bias']\n",
      "- This IS expected if you are initializing ElectraForSequenceClassification from the checkpoint of a model trained on another task or with another architecture (e.g. initializing a BertForSequenceClassification model from a BertForPreTraining model).\n",
      "- This IS NOT expected if you are initializing ElectraForSequenceClassification from the checkpoint of a model that you expect to be exactly identical (initializing a BertForSequenceClassification model from a BertForSequenceClassification model).\n",
      "Some weights of ElectraForSequenceClassification were not initialized from the model checkpoint at entelecheia/ekonelectra-base-discriminator and are newly initialized: ['classifier.out_proj.weight', 'classifier.dense.weight', 'classifier.out_proj.bias', 'classifier.dense.bias']\n",
      "You should probably TRAIN this model on a down-stream task to be able to use it for predictions and inference.\n",
      "INFO:simpletransformers.classification.classification_utils: Converting to features started. Cache is not used.\n",
      "INFO:simpletransformers.classification.classification_utils: Saving features into cached file /workspace/.cache/cached_train_electra_256_2_2\n"
     ]
    },
    {
     "data": {
      "application/vnd.jupyter.widget-view+json": {
       "model_id": "d7e49b04a88a412ab645b896cd6c19be",
       "version_major": 2,
       "version_minor": 0
      },
      "text/plain": [
       "Epoch:   0%|          | 0/10 [00:00<?, ?it/s]"
      ]
     },
     "metadata": {},
     "output_type": "display_data"
    },
    {
     "name": "stderr",
     "output_type": "stream",
     "text": [
      "INFO:simpletransformers.classification.classification_model: Initializing WandB run for training.\n"
     ]
    },
    {
     "data": {
      "application/vnd.jupyter.widget-view+json": {
       "model_id": "f75506ba401843c080280b51998b4e89",
       "version_major": 2,
       "version_minor": 0
      },
      "text/plain": [
       "VBox(children=(Label(value='Waiting for wandb.init()...\\r'), FloatProgress(value=0.016669121250743046, max=1.0…"
      ]
     },
     "metadata": {},
     "output_type": "display_data"
    },
    {
     "data": {
      "application/vnd.jupyter.widget-view+json": {
       "model_id": "2b2225e2784140ab8a91d386e063252c",
       "version_major": 2,
       "version_minor": 0
      },
      "text/plain": [
       "Running Epoch 0 of 10:   0%|          | 0/5 [00:00<?, ?it/s]"
      ]
     },
     "metadata": {},
     "output_type": "display_data"
    },
    {
     "data": {
      "application/vnd.jupyter.widget-view+json": {
       "model_id": "b7a5574743e04604bb0d86fed8355714",
       "version_major": 2,
       "version_minor": 0
      },
      "text/plain": [
       "Running Epoch 1 of 10:   0%|          | 0/5 [00:00<?, ?it/s]"
      ]
     },
     "metadata": {},
     "output_type": "display_data"
    },
    {
     "data": {
      "application/vnd.jupyter.widget-view+json": {
       "model_id": "8a743a93e1194ddaa8752820b24f11ab",
       "version_major": 2,
       "version_minor": 0
      },
      "text/plain": [
       "Running Epoch 2 of 10:   0%|          | 0/5 [00:00<?, ?it/s]"
      ]
     },
     "metadata": {},
     "output_type": "display_data"
    },
    {
     "data": {
      "application/vnd.jupyter.widget-view+json": {
       "model_id": "536bcdaa5b194ec1bf27b46b3e8ad62c",
       "version_major": 2,
       "version_minor": 0
      },
      "text/plain": [
       "Running Epoch 3 of 10:   0%|          | 0/5 [00:00<?, ?it/s]"
      ]
     },
     "metadata": {},
     "output_type": "display_data"
    },
    {
     "data": {
      "application/vnd.jupyter.widget-view+json": {
       "model_id": "a327f4d36b0f4106a2c4a97327eb7acf",
       "version_major": 2,
       "version_minor": 0
      },
      "text/plain": [
       "Running Epoch 4 of 10:   0%|          | 0/5 [00:00<?, ?it/s]"
      ]
     },
     "metadata": {},
     "output_type": "display_data"
    },
    {
     "data": {
      "application/vnd.jupyter.widget-view+json": {
       "model_id": "404c45ffaa884a61aeae974e4ff277af",
       "version_major": 2,
       "version_minor": 0
      },
      "text/plain": [
       "Running Epoch 5 of 10:   0%|          | 0/5 [00:00<?, ?it/s]"
      ]
     },
     "metadata": {},
     "output_type": "display_data"
    },
    {
     "data": {
      "application/vnd.jupyter.widget-view+json": {
       "model_id": "11ef7c995be64ddea823aedacb9e1872",
       "version_major": 2,
       "version_minor": 0
      },
      "text/plain": [
       "Running Epoch 6 of 10:   0%|          | 0/5 [00:00<?, ?it/s]"
      ]
     },
     "metadata": {},
     "output_type": "display_data"
    },
    {
     "data": {
      "application/vnd.jupyter.widget-view+json": {
       "model_id": "e53946e06aa64580b94c78c5396afb88",
       "version_major": 2,
       "version_minor": 0
      },
      "text/plain": [
       "Running Epoch 7 of 10:   0%|          | 0/5 [00:00<?, ?it/s]"
      ]
     },
     "metadata": {},
     "output_type": "display_data"
    },
    {
     "data": {
      "application/vnd.jupyter.widget-view+json": {
       "model_id": "8034c142a5034e48ba3f6ff9cb805a88",
       "version_major": 2,
       "version_minor": 0
      },
      "text/plain": [
       "Running Epoch 8 of 10:   0%|          | 0/5 [00:00<?, ?it/s]"
      ]
     },
     "metadata": {},
     "output_type": "display_data"
    },
    {
     "data": {
      "application/vnd.jupyter.widget-view+json": {
       "model_id": "08f3e2792d2f4e9195f2e1f1e2f40d4c",
       "version_major": 2,
       "version_minor": 0
      },
      "text/plain": [
       "Running Epoch 9 of 10:   0%|          | 0/5 [00:00<?, ?it/s]"
      ]
     },
     "metadata": {},
     "output_type": "display_data"
    },
    {
     "name": "stderr",
     "output_type": "stream",
     "text": [
      "INFO:simpletransformers.classification.classification_model: Training of electra model complete. Saved to /workspace/projects/ekorpkit-book/exmaples/esg/models/esg_topic_invalid_merged-classification.\n",
      "INFO:simpletransformers.classification.classification_utils: Converting to features started. Cache is not used.\n",
      "INFO:simpletransformers.classification.classification_utils: Saving features into cached file /workspace/.cache/cached_dev_electra_256_2_2\n"
     ]
    },
    {
     "data": {
      "application/vnd.jupyter.widget-view+json": {
       "model_id": "c2d6b866fded4679ae39385c13f708b4",
       "version_major": 2,
       "version_minor": 0
      },
      "text/plain": [
       "Running Evaluation:   0%|          | 0/3 [00:00<?, ?it/s]"
      ]
     },
     "metadata": {},
     "output_type": "display_data"
    },
    {
     "name": "stderr",
     "output_type": "stream",
     "text": [
      "INFO:simpletransformers.classification.classification_model: Initializing WandB run for evaluation.\n"
     ]
    },
    {
     "data": {
      "application/vnd.jupyter.widget-view+json": {
       "model_id": "0274fcac53da405e8339141f33272bc8",
       "version_major": 2,
       "version_minor": 0
      },
      "text/plain": [
       "VBox(children=(Label(value='Waiting for wandb.init()...\\r'), FloatProgress(value=0.01666929271693031, max=1.0)…"
      ]
     },
     "metadata": {},
     "output_type": "display_data"
    },
    {
     "name": "stderr",
     "output_type": "stream",
     "text": [
      "INFO:simpletransformers.classification.classification_model:{'mcc': 0.4636900547983257, 'tp': 159, 'tn': 77, 'fp': 50, 'fn': 30, 'auroc': 0.795838020247469, 'auprc': 0.8471301983903201, 'acc': 0.7468354430379747, 'eval_loss': 0.5375698208808899}\n",
      "INFO:ekorpkit.config:Saving config to /workspace/projects/ekorpkit-book/exmaples/esg/outputs/esg_topic_invalid_merged/configs/esg_topic_invalid_merged(19)_config.yaml\n",
      "INFO:ekorpkit.models.transformer.simple:Predicting split 1\n",
      "INFO:simpletransformers.classification.classification_utils: Converting to features started. Cache is not used.\n"
     ]
    },
    {
     "data": {
      "application/vnd.jupyter.widget-view+json": {
       "model_id": "e7ba843443c34591ae4a1893b3e2a7b1",
       "version_major": 2,
       "version_minor": 0
      },
      "text/plain": [
       "  0%|          | 0/10 [00:00<?, ?it/s]"
      ]
     },
     "metadata": {},
     "output_type": "display_data"
    },
    {
     "name": "stderr",
     "output_type": "stream",
     "text": [
      "INFO:ekorpkit.models.transformer.simple:type of raw_outputs: <class 'numpy.ndarray'>\n",
      "INFO:ekorpkit.models.transformer.simple:raw_output: [ 0.28047922 -0.40265536]\n",
      "INFO:ekorpkit.io.file:Saving dataframe to /workspace/projects/ekorpkit-book/exmaples/esg/outputs/esg_topic_invalid_merged/esg_topic_invalid_merged(19)_preds.parquet\n",
      "INFO:ekorpkit.datasets.config:Train data: (632, 11)\n",
      "INFO:ekorpkit.models.transformer.simple:No columns or data to rename\n",
      "Some weights of the model checkpoint at entelecheia/ekonelectra-base-discriminator were not used when initializing ElectraForSequenceClassification: ['discriminator_predictions.dense.weight', 'discriminator_predictions.dense_prediction.weight', 'discriminator_predictions.dense_prediction.bias', 'discriminator_predictions.dense.bias']\n",
      "- This IS expected if you are initializing ElectraForSequenceClassification from the checkpoint of a model trained on another task or with another architecture (e.g. initializing a BertForSequenceClassification model from a BertForPreTraining model).\n",
      "- This IS NOT expected if you are initializing ElectraForSequenceClassification from the checkpoint of a model that you expect to be exactly identical (initializing a BertForSequenceClassification model from a BertForSequenceClassification model).\n",
      "Some weights of ElectraForSequenceClassification were not initialized from the model checkpoint at entelecheia/ekonelectra-base-discriminator and are newly initialized: ['classifier.out_proj.weight', 'classifier.dense.weight', 'classifier.out_proj.bias', 'classifier.dense.bias']\n",
      "You should probably TRAIN this model on a down-stream task to be able to use it for predictions and inference.\n",
      "INFO:simpletransformers.classification.classification_utils: Converting to features started. Cache is not used.\n",
      "INFO:simpletransformers.classification.classification_utils: Saving features into cached file /workspace/.cache/cached_train_electra_256_2_2\n"
     ]
    },
    {
     "data": {
      "application/vnd.jupyter.widget-view+json": {
       "model_id": "f137fa7e344645c4b2599342f7358370",
       "version_major": 2,
       "version_minor": 0
      },
      "text/plain": [
       "Epoch:   0%|          | 0/10 [00:00<?, ?it/s]"
      ]
     },
     "metadata": {},
     "output_type": "display_data"
    },
    {
     "name": "stderr",
     "output_type": "stream",
     "text": [
      "INFO:simpletransformers.classification.classification_model: Initializing WandB run for training.\n"
     ]
    },
    {
     "data": {
      "application/vnd.jupyter.widget-view+json": {
       "model_id": "ab29251b3cc34478a48706040e91c2b5",
       "version_major": 2,
       "version_minor": 0
      },
      "text/plain": [
       "VBox(children=(Label(value='Waiting for wandb.init()...\\r'), FloatProgress(value=0.016669301483004044, max=1.0…"
      ]
     },
     "metadata": {},
     "output_type": "display_data"
    },
    {
     "data": {
      "application/vnd.jupyter.widget-view+json": {
       "model_id": "294f323cdaee4b78b50ce0b4f040a007",
       "version_major": 2,
       "version_minor": 0
      },
      "text/plain": [
       "Running Epoch 0 of 10:   0%|          | 0/5 [00:00<?, ?it/s]"
      ]
     },
     "metadata": {},
     "output_type": "display_data"
    },
    {
     "data": {
      "application/vnd.jupyter.widget-view+json": {
       "model_id": "ac681c6a8b9e4143b7e8a4280db93d50",
       "version_major": 2,
       "version_minor": 0
      },
      "text/plain": [
       "Running Epoch 1 of 10:   0%|          | 0/5 [00:00<?, ?it/s]"
      ]
     },
     "metadata": {},
     "output_type": "display_data"
    },
    {
     "data": {
      "application/vnd.jupyter.widget-view+json": {
       "model_id": "1991439084404e4ea213e8b0dd875d16",
       "version_major": 2,
       "version_minor": 0
      },
      "text/plain": [
       "Running Epoch 2 of 10:   0%|          | 0/5 [00:00<?, ?it/s]"
      ]
     },
     "metadata": {},
     "output_type": "display_data"
    },
    {
     "data": {
      "application/vnd.jupyter.widget-view+json": {
       "model_id": "5a948829c23e40b0bd84cdf1d7ad8eff",
       "version_major": 2,
       "version_minor": 0
      },
      "text/plain": [
       "Running Epoch 3 of 10:   0%|          | 0/5 [00:00<?, ?it/s]"
      ]
     },
     "metadata": {},
     "output_type": "display_data"
    },
    {
     "data": {
      "application/vnd.jupyter.widget-view+json": {
       "model_id": "46f6f4eb211a493c8d24d18c2b4091a3",
       "version_major": 2,
       "version_minor": 0
      },
      "text/plain": [
       "Running Epoch 4 of 10:   0%|          | 0/5 [00:00<?, ?it/s]"
      ]
     },
     "metadata": {},
     "output_type": "display_data"
    },
    {
     "data": {
      "application/vnd.jupyter.widget-view+json": {
       "model_id": "8d1e7f6a723d4cb487143494b0994bb0",
       "version_major": 2,
       "version_minor": 0
      },
      "text/plain": [
       "Running Epoch 5 of 10:   0%|          | 0/5 [00:00<?, ?it/s]"
      ]
     },
     "metadata": {},
     "output_type": "display_data"
    },
    {
     "data": {
      "application/vnd.jupyter.widget-view+json": {
       "model_id": "0ed372c80e15487bbd6825ecc30dd2d7",
       "version_major": 2,
       "version_minor": 0
      },
      "text/plain": [
       "Running Epoch 6 of 10:   0%|          | 0/5 [00:00<?, ?it/s]"
      ]
     },
     "metadata": {},
     "output_type": "display_data"
    },
    {
     "data": {
      "application/vnd.jupyter.widget-view+json": {
       "model_id": "302c8abd4f174a5f9cd626b845fa5f36",
       "version_major": 2,
       "version_minor": 0
      },
      "text/plain": [
       "Running Epoch 7 of 10:   0%|          | 0/5 [00:00<?, ?it/s]"
      ]
     },
     "metadata": {},
     "output_type": "display_data"
    },
    {
     "data": {
      "application/vnd.jupyter.widget-view+json": {
       "model_id": "41f72c11afd34091a1f161e1cc1d0b0b",
       "version_major": 2,
       "version_minor": 0
      },
      "text/plain": [
       "Running Epoch 8 of 10:   0%|          | 0/5 [00:00<?, ?it/s]"
      ]
     },
     "metadata": {},
     "output_type": "display_data"
    },
    {
     "data": {
      "application/vnd.jupyter.widget-view+json": {
       "model_id": "cff03b40c7cd41b899205b98a431377a",
       "version_major": 2,
       "version_minor": 0
      },
      "text/plain": [
       "Running Epoch 9 of 10:   0%|          | 0/5 [00:00<?, ?it/s]"
      ]
     },
     "metadata": {},
     "output_type": "display_data"
    },
    {
     "name": "stderr",
     "output_type": "stream",
     "text": [
      "INFO:simpletransformers.classification.classification_model: Training of electra model complete. Saved to /workspace/projects/ekorpkit-book/exmaples/esg/models/esg_topic_invalid_merged-classification.\n",
      "INFO:simpletransformers.classification.classification_utils: Converting to features started. Cache is not used.\n",
      "INFO:simpletransformers.classification.classification_utils: Saving features into cached file /workspace/.cache/cached_dev_electra_256_2_2\n"
     ]
    },
    {
     "data": {
      "application/vnd.jupyter.widget-view+json": {
       "model_id": "760910317dd143548b4f6afb5222f23a",
       "version_major": 2,
       "version_minor": 0
      },
      "text/plain": [
       "Running Evaluation:   0%|          | 0/3 [00:00<?, ?it/s]"
      ]
     },
     "metadata": {},
     "output_type": "display_data"
    },
    {
     "name": "stderr",
     "output_type": "stream",
     "text": [
      "INFO:simpletransformers.classification.classification_model: Initializing WandB run for evaluation.\n"
     ]
    },
    {
     "data": {
      "application/vnd.jupyter.widget-view+json": {
       "model_id": "62737e7891e74c6a82567cf086310221",
       "version_major": 2,
       "version_minor": 0
      },
      "text/plain": [
       "VBox(children=(Label(value='Waiting for wandb.init()...\\r'), FloatProgress(value=0.016668859267762553, max=1.0…"
      ]
     },
     "metadata": {},
     "output_type": "display_data"
    },
    {
     "name": "stderr",
     "output_type": "stream",
     "text": [
      "INFO:simpletransformers.classification.classification_model:{'mcc': 0.4950372223947054, 'tp': 134, 'tn': 102, 'fp': 34, 'fn': 45, 'auroc': 0.8179838974696024, 'auprc': 0.8595886193597174, 'acc': 0.7492063492063492, 'eval_loss': 0.5066773494084676}\n",
      "INFO:ekorpkit.config:Saving config to /workspace/projects/ekorpkit-book/exmaples/esg/outputs/esg_topic_invalid_merged/configs/esg_topic_invalid_merged(20)_config.yaml\n",
      "INFO:ekorpkit.models.transformer.simple:Predicting split 2\n",
      "INFO:simpletransformers.classification.classification_utils: Converting to features started. Cache is not used.\n"
     ]
    },
    {
     "data": {
      "application/vnd.jupyter.widget-view+json": {
       "model_id": "35de159b896e4d81a027e90cabe7c309",
       "version_major": 2,
       "version_minor": 0
      },
      "text/plain": [
       "  0%|          | 0/10 [00:00<?, ?it/s]"
      ]
     },
     "metadata": {},
     "output_type": "display_data"
    },
    {
     "name": "stderr",
     "output_type": "stream",
     "text": [
      "INFO:ekorpkit.models.transformer.simple:type of raw_outputs: <class 'numpy.ndarray'>\n",
      "INFO:ekorpkit.models.transformer.simple:raw_output: [-0.09800404 -0.02036337]\n",
      "INFO:ekorpkit.io.file:Saving dataframe to /workspace/projects/ekorpkit-book/exmaples/esg/outputs/esg_topic_invalid_merged/esg_topic_invalid_merged(20)_preds.parquet\n",
      "INFO:ekorpkit.io.file:Saving dataframe to /workspace/projects/ekorpkit-book/exmaples/esg/outputs/esg_topic_invalid_merged/esg_topic_invalid_merged(20)_cv.parquet\n"
     ]
    },
    {
     "name": "stdout",
     "output_type": "stream",
     "text": [
      "time: 3min 56s (started: 2023-01-05 05:31:57 +00:00)\n"
     ]
    }
   ],
   "source": [
    "cv_preds_inval = sm_inval.cross_val_predict(cv=3, dev_size=0)"
   ]
  },
  {
   "cell_type": "code",
   "execution_count": 19,
   "metadata": {},
   "outputs": [
    {
     "name": "stdout",
     "output_type": "stream",
     "text": [
      "time: 4.57 ms (started: 2023-01-05 05:35:54 +00:00)\n"
     ]
    }
   ],
   "source": [
    "cols = [\"text\", \"labels\", \"pred_labels\", \"raw_preds\", \"pred_probs\"]\n",
    "cv_preds_inval = cv_preds_inval[cols].reset_index()"
   ]
  },
  {
   "cell_type": "code",
   "execution_count": 20,
   "metadata": {},
   "outputs": [
    {
     "name": "stderr",
     "output_type": "stream",
     "text": [
      "INFO:ekorpkit.io.file:Saving dataframe to /workspace/projects/ekorpkit-book/exmaples/esg/data/esg_invalid_kr/esg_invalid_cv_preds.parquet\n"
     ]
    },
    {
     "name": "stdout",
     "output_type": "stream",
     "text": [
      "time: 89.7 ms (started: 2023-01-05 05:35:54 +00:00)\n"
     ]
    }
   ],
   "source": [
    "\n",
    "inval_cv_filename = \"esg_invalid_cv_preds.parquet\"\n",
    "eKonf.save_data(cv_preds_inval, inval_cv_filename, ds_inval.data_dir)"
   ]
  },
  {
   "cell_type": "code",
   "execution_count": 21,
   "metadata": {},
   "outputs": [
    {
     "name": "stdout",
     "output_type": "stream",
     "text": [
      "time: 17.8 ms (started: 2023-01-05 05:35:54 +00:00)\n"
     ]
    }
   ],
   "source": [
    "inval_cv_filename = \"esg_invalid_cv_preds.parquet\"\n",
    "cv_preds_inval = eKonf.load_data(inval_cv_filename, ds_inval.data_dir)"
   ]
  },
  {
   "cell_type": "code",
   "execution_count": 22,
   "metadata": {},
   "outputs": [
    {
     "name": "stderr",
     "output_type": "stream",
     "text": [
      "INFO:ekorpkit.models.transformer.simple:Created 947 records\n",
      "INFO:ekorpkit.io.file:Saving dataframe to /workspace/projects/ekorpkit-book/exmaples/esg/data/esg_invalid_kr/esg_invalid_data_cved.parquet\n"
     ]
    },
    {
     "name": "stdout",
     "output_type": "stream",
     "text": [
      "113\n",
      "text=' LG화학이 서울대와 손잡고 인공지능(AI)과 빅데이터를 통한 디지털 전환(DX·Digital Transformation)에 속도를 낸다  29일 LG화학은 서울대 공과대학에서 서울대와 \\'LG화학-서울대 DX 산학협력센터\\' 설립 협약식을 개최했다고 밝혔다  LG화학과 서울대는 DX 분야 산학협력을 통해 다양한 과제를 발굴해 수행하고 디지털 혁신을 선도할 인재를 양성하기 위해 협력해나간다는 계획이다  양측은 △DX 산학협력 과제 추진 △DX 핵심 인력 양성 교육 실시 △산학장학생 제도 운영 등 3개 분야에서 협력을 약속했다  DX 산학협력센터는 다음달부터 서울대 공과대학에서 운영된다  양측은 먼저 생산·품질·연구개발(R&D)·마케팅 등 주요 핵심 영역에서 딥러닝, 데이터 마이닝 등 디지털 기술을 적용할 수 있는 공동 핵심과제를 발굴하고 수행할 계획이다  이를 위해 다음 달까지 후보 과제를 발굴·선정해 약 1년에 걸쳐 수행하고 후속 과제도 발굴할 예정이다  LG화학 임직원들을 대상으로 DX 핵심 인력 양성 교육을 진행하고 서울대 석·박사 산학장학생 제도를 운영하는 등 디지털 분야 미래 인재 육성과 산업 경쟁력 강화에도 노력할 방침이다  김성민 LG화학 CHO는 \"AI, 빅데이터 등 4차 산업혁명과 디지털 전환이라는 세계적인 흐름에 발맞추기 위해 핵심 기술 및 관련 제품을 스스로 개발할 수 있는 인재를 육성하는 등 DX 역량을 강화하겠다\"고 말했다  LG화학은 올해 DX 전담조직을 신설하고 IT 시스템의 90% 이상 클라우드 전환, 업무 지원 로봇 및 소프트웨어 표준 도입 등을 수행하는 등 디지털 전환에 집중하고 있다  [최근도 기자] ' inputs={'text': ' LG화학이 서울대와 손잡고 인공지능(AI)과 빅데이터를 통한 디지털 전환(DX·Digital Transformation)에 속도를 낸다  29일 LG화학은 서울대 공과대학에서 서울대와 \\'LG화학-서울대 DX 산학협력센터\\' 설립 협약식을 개최했다고 밝혔다  LG화학과 서울대는 DX 분야 산학협력을 통해 다양한 과제를 발굴해 수행하고 디지털 혁신을 선도할 인재를 양성하기 위해 협력해나간다는 계획이다  양측은 △DX 산학협력 과제 추진 △DX 핵심 인력 양성 교육 실시 △산학장학생 제도 운영 등 3개 분야에서 협력을 약속했다  DX 산학협력센터는 다음달부터 서울대 공과대학에서 운영된다  양측은 먼저 생산·품질·연구개발(R&D)·마케팅 등 주요 핵심 영역에서 딥러닝, 데이터 마이닝 등 디지털 기술을 적용할 수 있는 공동 핵심과제를 발굴하고 수행할 계획이다  이를 위해 다음 달까지 후보 과제를 발굴·선정해 약 1년에 걸쳐 수행하고 후속 과제도 발굴할 예정이다  LG화학 임직원들을 대상으로 DX 핵심 인력 양성 교육을 진행하고 서울대 석·박사 산학장학생 제도를 운영하는 등 디지털 분야 미래 인재 육성과 산업 경쟁력 강화에도 노력할 방침이다  김성민 LG화학 CHO는 \"AI, 빅데이터 등 4차 산업혁명과 디지털 전환이라는 세계적인 흐름에 발맞추기 위해 핵심 기술 및 관련 제품을 스스로 개발할 수 있는 인재를 육성하는 등 DX 역량을 강화하겠다\"고 말했다  LG화학은 올해 DX 전담조직을 신설하고 IT 시스템의 90% 이상 클라우드 전환, 업무 지원 로봇 및 소프트웨어 표준 도입 등을 수행하는 등 디지털 전환에 집중하고 있다  [최근도 기자] '} prediction=[('Discarded', 0.2646642609779317), ('Validated', 0.7353357390220683)] prediction_agent=None annotation='Discarded' annotation_agent=None multi_label=False explanation=None id=None metadata={'index': 276, 'label_error_candidate': 0} status='Validated' event_timestamp=None metrics=None search_keywords=None\n",
      "834\n",
      "time: 488 ms (started: 2023-01-05 05:35:54 +00:00)\n"
     ]
    }
   ],
   "source": [
    "records_with_label_error = sm_inval.find_label_errors(cv_preds_inval, meta_columns=[\"index\"])\n",
    "print(len(records_with_label_error))\n",
    "print(records_with_label_error[0])\n",
    "\n",
    "# remove rows from preds that have label errors\n",
    "data_inval_cved = cv_preds_inval.copy()\n",
    "for record in records_with_label_error:\n",
    "    metadata = record.metadata\n",
    "    data_inval_cved = data_inval_cved[data_inval_cved.index != metadata[\"index\"]]\n",
    "print(len(data_inval_cved))\n",
    "inval_cved_filename = \"esg_invalid_data_cved.parquet\"\n",
    "eKonf.save_data(data_inval_cved, inval_cved_filename, ds_inval.data_dir)"
   ]
  },
  {
   "cell_type": "code",
   "execution_count": 23,
   "metadata": {},
   "outputs": [
    {
     "name": "stdout",
     "output_type": "stream",
     "text": [
      "time: 2.71 s (started: 2023-01-05 05:35:55 +00:00)\n"
     ]
    }
   ],
   "source": [
    "from ekorpkit.models.transformer.simple import SimpleClassification\n",
    "\n",
    "inval_cved_filename = \"esg_invalid_data_cved.parquet\"\n",
    "\n",
    "cfg = eKonf.compose('task=simple.classification')\n",
    "cfg.name = \"esg_topic_invalid_cved\"\n",
    "cfg.dataset.data_dir = ds_inval.data_dir\n",
    "cfg.dataset.data_files = inval_cved_filename\n",
    "cfg.dataset.test_size = 0.3\n",
    "# cfg.dataset.dev_size = 0.2\n",
    "cfg.dataset.seed = 3247616750\n",
    "cfg.dataset.shuffle = True\n",
    "cfg.model.model_name_or_path = \"entelecheia/ekonelectra-base-discriminator\"\n",
    "cfg.trainer.num_train_epochs = 10\n",
    "cfg.trainer.max_seq_length = 512\n",
    "cfg.trainer.train_batch_size = 48\n",
    "cfg.trainer.eval_batch_size = 48\n",
    "\n",
    "sm_inval = SimpleClassification(**cfg)"
   ]
  },
  {
   "cell_type": "code",
   "execution_count": 24,
   "metadata": {
    "scrolled": false
   },
   "outputs": [
    {
     "name": "stderr",
     "output_type": "stream",
     "text": [
      "INFO:ekorpkit.datasets.config:Splitting the dataframe into train and test with ratio 0.3\n",
      "INFO:ekorpkit.datasets.config:Shuffling the dataframe with seed 3247616750\n",
      "INFO:ekorpkit.datasets.config:Train data: (583, 6)\n",
      "INFO:ekorpkit.datasets.config:Test data: (251, 6)\n",
      "INFO:ekorpkit.models.transformer.simple:No columns or data to rename\n",
      "Some weights of the model checkpoint at entelecheia/ekonelectra-base-discriminator were not used when initializing ElectraForSequenceClassification: ['discriminator_predictions.dense.weight', 'discriminator_predictions.dense_prediction.weight', 'discriminator_predictions.dense_prediction.bias', 'discriminator_predictions.dense.bias']\n",
      "- This IS expected if you are initializing ElectraForSequenceClassification from the checkpoint of a model trained on another task or with another architecture (e.g. initializing a BertForSequenceClassification model from a BertForPreTraining model).\n",
      "- This IS NOT expected if you are initializing ElectraForSequenceClassification from the checkpoint of a model that you expect to be exactly identical (initializing a BertForSequenceClassification model from a BertForSequenceClassification model).\n",
      "Some weights of ElectraForSequenceClassification were not initialized from the model checkpoint at entelecheia/ekonelectra-base-discriminator and are newly initialized: ['classifier.out_proj.weight', 'classifier.dense.weight', 'classifier.out_proj.bias', 'classifier.dense.bias']\n",
      "You should probably TRAIN this model on a down-stream task to be able to use it for predictions and inference.\n",
      "INFO:simpletransformers.classification.classification_utils: Converting to features started. Cache is not used.\n",
      "INFO:simpletransformers.classification.classification_utils: Saving features into cached file /workspace/.cache/cached_train_electra_512_2_2\n"
     ]
    },
    {
     "data": {
      "application/vnd.jupyter.widget-view+json": {
       "model_id": "32f33beb0bc24b05a244308f14396f97",
       "version_major": 2,
       "version_minor": 0
      },
      "text/plain": [
       "Epoch:   0%|          | 0/10 [00:00<?, ?it/s]"
      ]
     },
     "metadata": {},
     "output_type": "display_data"
    },
    {
     "name": "stderr",
     "output_type": "stream",
     "text": [
      "INFO:simpletransformers.classification.classification_model: Initializing WandB run for training.\n"
     ]
    },
    {
     "data": {
      "application/vnd.jupyter.widget-view+json": {
       "model_id": "1a9af29569fc46339920220c20083fb2",
       "version_major": 2,
       "version_minor": 0
      },
      "text/plain": [
       "VBox(children=(Label(value='Waiting for wandb.init()...\\r'), FloatProgress(value=0.016669064234398925, max=1.0…"
      ]
     },
     "metadata": {},
     "output_type": "display_data"
    },
    {
     "data": {
      "application/vnd.jupyter.widget-view+json": {
       "model_id": "b43f6584779549dcadba92cb4269cc40",
       "version_major": 2,
       "version_minor": 0
      },
      "text/plain": [
       "Running Epoch 0 of 10:   0%|          | 0/13 [00:00<?, ?it/s]"
      ]
     },
     "metadata": {},
     "output_type": "display_data"
    },
    {
     "data": {
      "application/vnd.jupyter.widget-view+json": {
       "model_id": "5a5634af90944699b9bc4c9a40980a1e",
       "version_major": 2,
       "version_minor": 0
      },
      "text/plain": [
       "Running Epoch 1 of 10:   0%|          | 0/13 [00:00<?, ?it/s]"
      ]
     },
     "metadata": {},
     "output_type": "display_data"
    },
    {
     "data": {
      "application/vnd.jupyter.widget-view+json": {
       "model_id": "4a61345b21704cc087d793a53f12faac",
       "version_major": 2,
       "version_minor": 0
      },
      "text/plain": [
       "Running Epoch 2 of 10:   0%|          | 0/13 [00:00<?, ?it/s]"
      ]
     },
     "metadata": {},
     "output_type": "display_data"
    },
    {
     "data": {
      "application/vnd.jupyter.widget-view+json": {
       "model_id": "e461db9ebfc94e639281e6c5c0315799",
       "version_major": 2,
       "version_minor": 0
      },
      "text/plain": [
       "Running Epoch 3 of 10:   0%|          | 0/13 [00:00<?, ?it/s]"
      ]
     },
     "metadata": {},
     "output_type": "display_data"
    },
    {
     "data": {
      "application/vnd.jupyter.widget-view+json": {
       "model_id": "8bc8de40bfd843339fe824caf860a102",
       "version_major": 2,
       "version_minor": 0
      },
      "text/plain": [
       "Running Epoch 4 of 10:   0%|          | 0/13 [00:00<?, ?it/s]"
      ]
     },
     "metadata": {},
     "output_type": "display_data"
    },
    {
     "data": {
      "application/vnd.jupyter.widget-view+json": {
       "model_id": "3934a3a8aa104705bf97f3f1d015fa2a",
       "version_major": 2,
       "version_minor": 0
      },
      "text/plain": [
       "Running Epoch 5 of 10:   0%|          | 0/13 [00:00<?, ?it/s]"
      ]
     },
     "metadata": {},
     "output_type": "display_data"
    },
    {
     "data": {
      "application/vnd.jupyter.widget-view+json": {
       "model_id": "f41d5aafc03547b5860fcaf395af7824",
       "version_major": 2,
       "version_minor": 0
      },
      "text/plain": [
       "Running Epoch 6 of 10:   0%|          | 0/13 [00:00<?, ?it/s]"
      ]
     },
     "metadata": {},
     "output_type": "display_data"
    },
    {
     "data": {
      "application/vnd.jupyter.widget-view+json": {
       "model_id": "04ac7c1db6f74247bbc5e96c749b0e3c",
       "version_major": 2,
       "version_minor": 0
      },
      "text/plain": [
       "Running Epoch 7 of 10:   0%|          | 0/13 [00:00<?, ?it/s]"
      ]
     },
     "metadata": {},
     "output_type": "display_data"
    },
    {
     "data": {
      "application/vnd.jupyter.widget-view+json": {
       "model_id": "1157aa43488d4709b82550a837390c19",
       "version_major": 2,
       "version_minor": 0
      },
      "text/plain": [
       "Running Epoch 8 of 10:   0%|          | 0/13 [00:00<?, ?it/s]"
      ]
     },
     "metadata": {},
     "output_type": "display_data"
    },
    {
     "data": {
      "application/vnd.jupyter.widget-view+json": {
       "model_id": "ac5b17b13716432181477e79a3900855",
       "version_major": 2,
       "version_minor": 0
      },
      "text/plain": [
       "Running Epoch 9 of 10:   0%|          | 0/13 [00:00<?, ?it/s]"
      ]
     },
     "metadata": {},
     "output_type": "display_data"
    },
    {
     "name": "stderr",
     "output_type": "stream",
     "text": [
      "INFO:simpletransformers.classification.classification_model: Training of electra model complete. Saved to /workspace/projects/ekorpkit-book/exmaples/esg/models/esg_topic_invalid_cved-classification.\n",
      "INFO:simpletransformers.classification.classification_utils: Converting to features started. Cache is not used.\n",
      "INFO:simpletransformers.classification.classification_utils: Saving features into cached file /workspace/.cache/cached_dev_electra_512_2_2\n"
     ]
    },
    {
     "data": {
      "application/vnd.jupyter.widget-view+json": {
       "model_id": "a0f2aa4d840e45079211989f38f6afd2",
       "version_major": 2,
       "version_minor": 0
      },
      "text/plain": [
       "Running Evaluation:   0%|          | 0/6 [00:00<?, ?it/s]"
      ]
     },
     "metadata": {},
     "output_type": "display_data"
    },
    {
     "name": "stderr",
     "output_type": "stream",
     "text": [
      "INFO:simpletransformers.classification.classification_model: Initializing WandB run for evaluation.\n"
     ]
    },
    {
     "data": {
      "application/vnd.jupyter.widget-view+json": {
       "model_id": "ed2c139952594c15a8bd1f68ee687b2d",
       "version_major": 2,
       "version_minor": 0
      },
      "text/plain": [
       "VBox(children=(Label(value='Waiting for wandb.init()...\\r'), FloatProgress(value=0.016669099184218793, max=1.0…"
      ]
     },
     "metadata": {},
     "output_type": "display_data"
    },
    {
     "name": "stderr",
     "output_type": "stream",
     "text": [
      "INFO:simpletransformers.classification.classification_model:{'mcc': 0.6306696415194301, 'tp': 157, 'tn': 55, 'fp': 24, 'fn': 15, 'auroc': 0.9269208124816014, 'auprc': 0.9689162568358742, 'acc': 0.8446215139442231, 'eval_loss': 0.4127258360385895}\n",
      "INFO:ekorpkit.config:Saving config to /workspace/projects/ekorpkit-book/exmaples/esg/outputs/esg_topic_invalid_cved/configs/esg_topic_invalid_cved(2)_config.yaml\n",
      "INFO:ekorpkit.models.transformer.simple:Loaded model from /workspace/projects/ekorpkit-book/exmaples/esg/models/esg_topic_invalid_cved-classification\n",
      "INFO:simpletransformers.classification.classification_utils: Converting to features started. Cache is not used.\n"
     ]
    },
    {
     "data": {
      "application/vnd.jupyter.widget-view+json": {
       "model_id": "41547b3e00ca451da2093d02a23bbf52",
       "version_major": 2,
       "version_minor": 0
      },
      "text/plain": [
       "  0%|          | 0/6 [00:00<?, ?it/s]"
      ]
     },
     "metadata": {},
     "output_type": "display_data"
    },
    {
     "name": "stderr",
     "output_type": "stream",
     "text": [
      "INFO:ekorpkit.models.transformer.simple:type of raw_outputs: <class 'numpy.ndarray'>\n",
      "INFO:ekorpkit.models.transformer.simple:raw_output: [-2.01194334  2.78077936]\n",
      "INFO:ekorpkit.io.file:Saving dataframe to /workspace/projects/ekorpkit-book/exmaples/esg/outputs/esg_topic_invalid_cved/esg_topic_invalid_cved(2)_preds.parquet\n"
     ]
    },
    {
     "name": "stdout",
     "output_type": "stream",
     "text": [
      "Accuracy:  0.8446215139442231\n",
      "Precison:  0.8416924252477069\n",
      "Recall:  0.8446215139442231\n",
      "F1 Score:  0.8419096206765615\n",
      "Model Report: \n",
      "___________________________________________________\n",
      "              precision    recall  f1-score   support\n",
      "\n",
      "   Discarded       0.79      0.70      0.74        79\n",
      "   Validated       0.87      0.91      0.89       172\n",
      "\n",
      "    accuracy                           0.84       251\n",
      "   macro avg       0.83      0.80      0.81       251\n",
      "weighted avg       0.84      0.84      0.84       251\n",
      "\n"
     ]
    },
    {
     "name": "stderr",
     "output_type": "stream",
     "text": [
      "INFO:ekorpkit.visualize.base:Saved figure to /workspace/projects/ekorpkit-book/exmaples/esg/outputs/esg_topic_invalid_cved/esg_topic_invalid_cved(2)_confusion_matrix.png\n"
     ]
    },
    {
     "data": {
      "image/png": "[encoded data removed]",
      "text/plain": [
       "<Figure size 720x360 with 2 Axes>"
      ]
     },
     "metadata": {
      "image/png": {
       "height": 331,
       "width": 636
      }
     },
     "output_type": "display_data"
    },
    {
     "name": "stdout",
     "output_type": "stream",
     "text": [
      "time: 1min 56s (started: 2023-01-05 05:35:57 +00:00)\n"
     ]
    }
   ],
   "source": [
    "sm_inval.train()\n",
    "sm_inval.eval()"
   ]
  },
  {
   "cell_type": "markdown",
   "metadata": {},
   "source": [
    "### Filter out invalid topics"
   ]
  },
  {
   "cell_type": "code",
   "execution_count": 31,
   "metadata": {},
   "outputs": [
    {
     "name": "stderr",
     "output_type": "stream",
     "text": [
      "INFO:ekorpkit.info.column:index: index, index of data: index, columns: ['id', 'text', 'labels', 'class', 'example_id', 'count', 'split'], id: ['id']\n",
      "INFO:ekorpkit.info.column:Adding id [split] to ['id']\n",
      "INFO:ekorpkit.info.column:Added id [split], now ['id', 'split']\n",
      "INFO:ekorpkit.info.column:Added a column [split] with value [train]\n",
      "INFO:ekorpkit.info.column:Added a column [split] with value [dev]\n",
      "INFO:ekorpkit.info.column:Added a column [split] with value [test]\n",
      "INFO:ekorpkit.io.file:Concatenating 3 dataframes\n",
      "INFO:ekorpkit.io.file:Concatenating 3 dataframes\n"
     ]
    },
    {
     "name": "stdout",
     "output_type": "stream",
     "text": [
      "['S-기업(공급망)동반성장/상생', 'G-지배구조', 'G-기업윤리/불공정/소송', 'S-소비자', 'E-환경혁신', 'S-사회공헌', 'S-고용', 'E-환경영향', 'E-기후변화', 'S-재해/안전관리'] 10 11054\n",
      "time: 1.05 s (started: 2023-01-05 06:39:06 +00:00)\n"
     ]
    }
   ],
   "source": [
    "cfg = eKonf.compose(\"dataset=dataset\")\n",
    "cfg.name = \"esg_topics_improved\"\n",
    "cfg.data_dir = \"/workspace/data/datasets/simple\"\n",
    "ds_tp = Dataset(**cfg)\n",
    "labels = list(ds_tp.splits['train'].labels.unique())\n",
    "print(labels, len(labels), ds_tp.num_rows)"
   ]
  },
  {
   "cell_type": "code",
   "execution_count": 32,
   "metadata": {},
   "outputs": [
    {
     "name": "stderr",
     "output_type": "stream",
     "text": [
      "INFO:ekorpkit.io.file:Concatenating 3 dataframes\n",
      "INFO:simpletransformers.classification.classification_utils: Converting to features started. Cache is not used.\n"
     ]
    },
    {
     "data": {
      "application/vnd.jupyter.widget-view+json": {
       "model_id": "01aa6f4512584780a7fff1a89e299a11",
       "version_major": 2,
       "version_minor": 0
      },
      "text/plain": [
       "  0%|          | 0/231 [00:00<?, ?it/s]"
      ]
     },
     "metadata": {},
     "output_type": "display_data"
    },
    {
     "name": "stderr",
     "output_type": "stream",
     "text": [
      "INFO:ekorpkit.models.transformer.simple:type of raw_outputs: <class 'numpy.ndarray'>\n",
      "INFO:ekorpkit.models.transformer.simple:raw_output: [-2.00303316  2.70836926]\n",
      "INFO:ekorpkit.io.file:Saving dataframe to /workspace/projects/ekorpkit-book/exmaples/esg/outputs/esg_topic_invalid_cved/esg_topic_invalid_cved(2)_preds.parquet\n"
     ]
    },
    {
     "name": "stdout",
     "output_type": "stream",
     "text": [
      "time: 55.7 s (started: 2023-01-05 06:39:13 +00:00)\n"
     ]
    }
   ],
   "source": [
    "ds_tp_predicted = sm_inval.predict(ds_tp.data)"
   ]
  },
  {
   "cell_type": "code",
   "execution_count": 33,
   "metadata": {},
   "outputs": [
    {
     "name": "stderr",
     "output_type": "stream",
     "text": [
      "INFO:ekorpkit.io.file:Concatenating 3 dataframes\n"
     ]
    },
    {
     "name": "stdout",
     "output_type": "stream",
     "text": [
      "(11054, 7)\n",
      "(7951, 10)\n",
      "S-소비자               1900\n",
      "S-고용                1290\n",
      "G-지배구조              1169\n",
      "G-기업윤리/불공정/소송        807\n",
      "S-사회공헌               616\n",
      "E-환경혁신               571\n",
      "E-환경영향               479\n",
      "E-기후변화               474\n",
      "S-재해/안전관리            339\n",
      "S-기업(공급망)동반성장/상생     306\n",
      "Name: labels, dtype: int64\n",
      "time: 13.2 ms (started: 2023-01-05 06:40:09 +00:00)\n"
     ]
    }
   ],
   "source": [
    "# select only validated data with pred_probs > 0.6\n",
    "print(ds_tp.data.shape)\n",
    "ds_tp_valid = ds_tp_predicted[(ds_tp_predicted.pred_labels == \"Validated\") & (ds_tp_predicted.pred_probs > 0.6)]\n",
    "print(ds_tp_valid.shape)\n",
    "print(ds_tp_valid.labels.value_counts())"
   ]
  },
  {
   "cell_type": "code",
   "execution_count": 34,
   "metadata": {},
   "outputs": [
    {
     "name": "stderr",
     "output_type": "stream",
     "text": [
      "INFO:ekorpkit.io.file:Concatenating 2 dataframes\n",
      "INFO:ekorpkit.io.file:Saving dataframe to /workspace/projects/ekorpkit-book/exmaples/esg/data/esg_topic_validated/esg_topic_labels_validated.parquet\n"
     ]
    },
    {
     "name": "stdout",
     "output_type": "stream",
     "text": [
      "(8291, 2)\n",
      "S-소비자               1914\n",
      "S-고용                1310\n",
      "G-지배구조              1235\n",
      "G-기업윤리/불공정/소송        864\n",
      "E-환경혁신               643\n",
      "S-사회공헌               627\n",
      "E-기후변화               527\n",
      "E-환경영향               484\n",
      "S-재해/안전관리            348\n",
      "S-기업(공급망)동반성장/상생     339\n",
      "Name: labels, dtype: int64\n",
      "time: 485 ms (started: 2023-01-05 06:40:09 +00:00)\n"
     ]
    }
   ],
   "source": [
    "file = ws.project_dir / \"esg/outputs/esg_topic_labels/esg_topic_labels(0)_export.parquet\"\n",
    "tp_add = eKonf.load_data(file)\n",
    "# exclude UNKNOWN and ESG\n",
    "tp_add = tp_add[~tp_add[\"labels\"].isin([\"UNKNOWN\", \"ESG\"])]\n",
    "# combine tp_add and ds_tp_valid with ['text', 'labels'] columns only\n",
    "ds_tp_merged = eKonf.concat_data([ds_tp_valid[['text', 'labels']], tp_add[['text', 'labels']]], axis=0)\n",
    "print(ds_tp_merged.shape)\n",
    "print(ds_tp_merged.labels.value_counts())\n",
    "# Save data\n",
    "valid_topic_file = \"esg_topic_labels_validated.parquet\"\n",
    "valid_data_dir = ws.project_dir / \"esg/data/esg_topic_validated\"\n",
    "eKonf.save_data(ds_tp_merged, valid_topic_file, valid_data_dir)"
   ]
  },
  {
   "cell_type": "markdown",
   "metadata": {
    "pycharm": {
     "name": "#%% md\n"
    }
   },
   "source": [
    "## Training further on the additional topic data"
   ]
  },
  {
   "cell_type": "code",
   "execution_count": 35,
   "metadata": {
    "pycharm": {
     "name": "#%%\n"
    },
    "scrolled": true,
    "tags": [
     "hide-output"
    ]
   },
   "outputs": [
    {
     "name": "stdout",
     "output_type": "stream",
     "text": [
      "time: 2.8 s (started: 2023-01-05 06:40:09 +00:00)\n"
     ]
    }
   ],
   "source": [
    "from ekorpkit.models.transformer.simple import SimpleClassification\n",
    "\n",
    "valid_topic_file = \"esg_topic_labels_validated.parquet\"\n",
    "valid_data_dir = ws.project_dir / \"esg/data/esg_topic_validated\"\n",
    "\n",
    "cfg = eKonf.compose('task=simple.classification')\n",
    "cfg.name = \"esg_topics_validated\"\n",
    "cfg.dataset.data_dir = valid_data_dir\n",
    "cfg.dataset.data_files = valid_topic_file\n",
    "cfg.dataset.test_size = 0.3\n",
    "cfg.dataset.shuffle = True\n",
    "cfg.dataset.seed = 977634889\n",
    "cfg.model.model_name_or_path = \"entelecheia/ekonelectra-base-discriminator\"\n",
    "cfg.trainer.num_train_epochs = 10\n",
    "cfg.trainer.max_seq_length = 256\n",
    "cfg.trainer.train_batch_size = 128\n",
    "cfg.trainer.eval_batch_size = 128\n",
    "\n",
    "smt = SimpleClassification(**cfg)"
   ]
  },
  {
   "cell_type": "code",
   "execution_count": 36,
   "metadata": {
    "scrolled": false,
    "tags": [
     "hide-output"
    ]
   },
   "outputs": [
    {
     "name": "stderr",
     "output_type": "stream",
     "text": [
      "INFO:ekorpkit.datasets.config:Splitting the dataframe into train and test with ratio 0.3\n",
      "INFO:ekorpkit.datasets.config:Shuffling the dataframe with seed 977634889\n",
      "INFO:ekorpkit.datasets.config:Train data: (5803, 2)\n",
      "INFO:ekorpkit.datasets.config:Test data: (2488, 2)\n",
      "INFO:ekorpkit.io.file:Concatenating 2 dataframes\n",
      "INFO:ekorpkit.datasets.config:Train data: (6218, 2)\n",
      "INFO:ekorpkit.models.transformer.simple:No columns or data to rename\n",
      "Some weights of the model checkpoint at entelecheia/ekonelectra-base-discriminator were not used when initializing ElectraForSequenceClassification: ['discriminator_predictions.dense.weight', 'discriminator_predictions.dense_prediction.weight', 'discriminator_predictions.dense_prediction.bias', 'discriminator_predictions.dense.bias']\n",
      "- This IS expected if you are initializing ElectraForSequenceClassification from the checkpoint of a model trained on another task or with another architecture (e.g. initializing a BertForSequenceClassification model from a BertForPreTraining model).\n",
      "- This IS NOT expected if you are initializing ElectraForSequenceClassification from the checkpoint of a model that you expect to be exactly identical (initializing a BertForSequenceClassification model from a BertForSequenceClassification model).\n",
      "Some weights of ElectraForSequenceClassification were not initialized from the model checkpoint at entelecheia/ekonelectra-base-discriminator and are newly initialized: ['classifier.out_proj.weight', 'classifier.dense.weight', 'classifier.out_proj.bias', 'classifier.dense.bias']\n",
      "You should probably TRAIN this model on a down-stream task to be able to use it for predictions and inference.\n",
      "INFO:simpletransformers.classification.classification_utils: Converting to features started. Cache is not used.\n",
      "INFO:simpletransformers.classification.classification_utils: Saving features into cached file /workspace/.cache/cached_train_electra_256_10_2\n"
     ]
    },
    {
     "data": {
      "application/vnd.jupyter.widget-view+json": {
       "model_id": "d6bbc92466174962ba9cb6432f1a42e5",
       "version_major": 2,
       "version_minor": 0
      },
      "text/plain": [
       "Epoch:   0%|          | 0/10 [00:00<?, ?it/s]"
      ]
     },
     "metadata": {},
     "output_type": "display_data"
    },
    {
     "name": "stderr",
     "output_type": "stream",
     "text": [
      "INFO:simpletransformers.classification.classification_model: Initializing WandB run for training.\n"
     ]
    },
    {
     "data": {
      "application/vnd.jupyter.widget-view+json": {
       "model_id": "963963b07baa4a70a7525067c26a234a",
       "version_major": 2,
       "version_minor": 0
      },
      "text/plain": [
       "VBox(children=(Label(value='Waiting for wandb.init()...\\r'), FloatProgress(value=0.016669192667662477, max=1.0…"
      ]
     },
     "metadata": {},
     "output_type": "display_data"
    },
    {
     "data": {
      "application/vnd.jupyter.widget-view+json": {
       "model_id": "590016aa743b4d029e22ac6489774bd9",
       "version_major": 2,
       "version_minor": 0
      },
      "text/plain": [
       "Running Epoch 0 of 10:   0%|          | 0/49 [00:00<?, ?it/s]"
      ]
     },
     "metadata": {},
     "output_type": "display_data"
    },
    {
     "data": {
      "application/vnd.jupyter.widget-view+json": {
       "model_id": "643ca57428224937b5db4526563aa15b",
       "version_major": 2,
       "version_minor": 0
      },
      "text/plain": [
       "Running Epoch 1 of 10:   0%|          | 0/49 [00:00<?, ?it/s]"
      ]
     },
     "metadata": {},
     "output_type": "display_data"
    },
    {
     "data": {
      "application/vnd.jupyter.widget-view+json": {
       "model_id": "0348dacfc02040e6ba80872a214c7c3d",
       "version_major": 2,
       "version_minor": 0
      },
      "text/plain": [
       "Running Epoch 2 of 10:   0%|          | 0/49 [00:00<?, ?it/s]"
      ]
     },
     "metadata": {},
     "output_type": "display_data"
    },
    {
     "data": {
      "application/vnd.jupyter.widget-view+json": {
       "model_id": "831e536bf8124d0380a5e1ca3946953c",
       "version_major": 2,
       "version_minor": 0
      },
      "text/plain": [
       "Running Epoch 3 of 10:   0%|          | 0/49 [00:00<?, ?it/s]"
      ]
     },
     "metadata": {},
     "output_type": "display_data"
    },
    {
     "data": {
      "application/vnd.jupyter.widget-view+json": {
       "model_id": "244f316758614448aa4918ac311cf248",
       "version_major": 2,
       "version_minor": 0
      },
      "text/plain": [
       "Running Epoch 4 of 10:   0%|          | 0/49 [00:00<?, ?it/s]"
      ]
     },
     "metadata": {},
     "output_type": "display_data"
    },
    {
     "data": {
      "application/vnd.jupyter.widget-view+json": {
       "model_id": "8983f817c6324439922dc50441ee5a00",
       "version_major": 2,
       "version_minor": 0
      },
      "text/plain": [
       "Running Epoch 5 of 10:   0%|          | 0/49 [00:00<?, ?it/s]"
      ]
     },
     "metadata": {},
     "output_type": "display_data"
    },
    {
     "data": {
      "application/vnd.jupyter.widget-view+json": {
       "model_id": "0794e3c3362e451097d872bda0c89371",
       "version_major": 2,
       "version_minor": 0
      },
      "text/plain": [
       "Running Epoch 6 of 10:   0%|          | 0/49 [00:00<?, ?it/s]"
      ]
     },
     "metadata": {},
     "output_type": "display_data"
    },
    {
     "data": {
      "application/vnd.jupyter.widget-view+json": {
       "model_id": "6d2b8ab7101e4fa791ab1eb00ac68b54",
       "version_major": 2,
       "version_minor": 0
      },
      "text/plain": [
       "Running Epoch 7 of 10:   0%|          | 0/49 [00:00<?, ?it/s]"
      ]
     },
     "metadata": {},
     "output_type": "display_data"
    },
    {
     "data": {
      "application/vnd.jupyter.widget-view+json": {
       "model_id": "933b35eee8094e17a85a963fab0d09e7",
       "version_major": 2,
       "version_minor": 0
      },
      "text/plain": [
       "Running Epoch 8 of 10:   0%|          | 0/49 [00:00<?, ?it/s]"
      ]
     },
     "metadata": {},
     "output_type": "display_data"
    },
    {
     "data": {
      "application/vnd.jupyter.widget-view+json": {
       "model_id": "ffdc9a05540d4087ac7186cc11f4099d",
       "version_major": 2,
       "version_minor": 0
      },
      "text/plain": [
       "Running Epoch 9 of 10:   0%|          | 0/49 [00:00<?, ?it/s]"
      ]
     },
     "metadata": {},
     "output_type": "display_data"
    },
    {
     "name": "stderr",
     "output_type": "stream",
     "text": [
      "INFO:simpletransformers.classification.classification_model: Training of electra model complete. Saved to /workspace/projects/ekorpkit-book/exmaples/esg/models/esg_topics_validated-classification.\n",
      "INFO:simpletransformers.classification.classification_utils: Converting to features started. Cache is not used.\n",
      "INFO:simpletransformers.classification.classification_utils: Saving features into cached file /workspace/.cache/cached_dev_electra_256_10_2\n"
     ]
    },
    {
     "data": {
      "application/vnd.jupyter.widget-view+json": {
       "model_id": "ce3c83b1353b47bc8788fea0fff43f96",
       "version_major": 2,
       "version_minor": 0
      },
      "text/plain": [
       "Running Evaluation:   0%|          | 0/17 [00:00<?, ?it/s]"
      ]
     },
     "metadata": {},
     "output_type": "display_data"
    },
    {
     "name": "stderr",
     "output_type": "stream",
     "text": [
      "INFO:simpletransformers.classification.classification_model: Initializing WandB run for evaluation.\n"
     ]
    },
    {
     "data": {
      "application/vnd.jupyter.widget-view+json": {
       "model_id": "8734ece8e740433fb6488b0af963e593",
       "version_major": 2,
       "version_minor": 0
      },
      "text/plain": [
       "VBox(children=(Label(value='Waiting for wandb.init()...\\r'), FloatProgress(value=0.016668633866356686, max=1.0…"
      ]
     },
     "metadata": {},
     "output_type": "display_data"
    },
    {
     "name": "stderr",
     "output_type": "stream",
     "text": [
      "INFO:simpletransformers.classification.classification_model:{'mcc': 0.771775144744973, 'acc': 0.8027013989387362, 'eval_loss': 0.7452939433210036}\n",
      "INFO:ekorpkit.config:Saving config to /workspace/projects/ekorpkit-book/exmaples/esg/outputs/esg_topics_validated/configs/esg_topics_validated(18)_config.yaml\n",
      "INFO:ekorpkit.models.transformer.simple:Predicting split 0\n",
      "INFO:ekorpkit.models.transformer.simple:Loaded model from /workspace/projects/ekorpkit-book/exmaples/esg/models/esg_topics_validated-classification\n",
      "INFO:simpletransformers.classification.classification_utils: Converting to features started. Cache is not used.\n"
     ]
    },
    {
     "data": {
      "application/vnd.jupyter.widget-view+json": {
       "model_id": "cf01621218ec40d59c7b003ce4a22b82",
       "version_major": 2,
       "version_minor": 0
      },
      "text/plain": [
       "  0%|          | 0/17 [00:00<?, ?it/s]"
      ]
     },
     "metadata": {},
     "output_type": "display_data"
    },
    {
     "name": "stderr",
     "output_type": "stream",
     "text": [
      "INFO:ekorpkit.models.transformer.simple:type of raw_outputs: <class 'numpy.ndarray'>\n",
      "INFO:ekorpkit.models.transformer.simple:raw_output: [ 1.08960569 -1.41831708  1.00813735 -0.92140168 -0.8598122  -1.51699698\n",
      " -1.43278515  0.25697005 -0.61077201  4.794034  ]\n",
      "INFO:ekorpkit.io.file:Saving dataframe to /workspace/projects/ekorpkit-book/exmaples/esg/outputs/esg_topics_validated/esg_topics_validated(18)_preds.parquet\n",
      "INFO:ekorpkit.datasets.config:Train data: (6218, 5)\n",
      "INFO:ekorpkit.models.transformer.simple:No columns or data to rename\n",
      "Some weights of the model checkpoint at entelecheia/ekonelectra-base-discriminator were not used when initializing ElectraForSequenceClassification: ['discriminator_predictions.dense.weight', 'discriminator_predictions.dense_prediction.weight', 'discriminator_predictions.dense_prediction.bias', 'discriminator_predictions.dense.bias']\n",
      "- This IS expected if you are initializing ElectraForSequenceClassification from the checkpoint of a model trained on another task or with another architecture (e.g. initializing a BertForSequenceClassification model from a BertForPreTraining model).\n",
      "- This IS NOT expected if you are initializing ElectraForSequenceClassification from the checkpoint of a model that you expect to be exactly identical (initializing a BertForSequenceClassification model from a BertForSequenceClassification model).\n",
      "Some weights of ElectraForSequenceClassification were not initialized from the model checkpoint at entelecheia/ekonelectra-base-discriminator and are newly initialized: ['classifier.out_proj.weight', 'classifier.dense.weight', 'classifier.out_proj.bias', 'classifier.dense.bias']\n",
      "You should probably TRAIN this model on a down-stream task to be able to use it for predictions and inference.\n",
      "INFO:simpletransformers.classification.classification_utils: Converting to features started. Cache is not used.\n",
      "INFO:simpletransformers.classification.classification_utils: Saving features into cached file /workspace/.cache/cached_train_electra_256_10_2\n"
     ]
    },
    {
     "data": {
      "application/vnd.jupyter.widget-view+json": {
       "model_id": "108a4cb13dde4c5a94cfa70bd8c28e0b",
       "version_major": 2,
       "version_minor": 0
      },
      "text/plain": [
       "Epoch:   0%|          | 0/10 [00:00<?, ?it/s]"
      ]
     },
     "metadata": {},
     "output_type": "display_data"
    },
    {
     "name": "stderr",
     "output_type": "stream",
     "text": [
      "INFO:simpletransformers.classification.classification_model: Initializing WandB run for training.\n"
     ]
    },
    {
     "data": {
      "application/vnd.jupyter.widget-view+json": {
       "model_id": "4640adf0443345db9250b06af58e3494",
       "version_major": 2,
       "version_minor": 0
      },
      "text/plain": [
       "VBox(children=(Label(value='Waiting for wandb.init()...\\r'), FloatProgress(value=0.016669534284543867, max=1.0…"
      ]
     },
     "metadata": {},
     "output_type": "display_data"
    },
    {
     "data": {
      "application/vnd.jupyter.widget-view+json": {
       "model_id": "dd9b0d45e7ae40e18040c3195bf5fd07",
       "version_major": 2,
       "version_minor": 0
      },
      "text/plain": [
       "Running Epoch 0 of 10:   0%|          | 0/49 [00:00<?, ?it/s]"
      ]
     },
     "metadata": {},
     "output_type": "display_data"
    },
    {
     "data": {
      "application/vnd.jupyter.widget-view+json": {
       "model_id": "0d0d063496284d37beae5da53eaf3130",
       "version_major": 2,
       "version_minor": 0
      },
      "text/plain": [
       "Running Epoch 1 of 10:   0%|          | 0/49 [00:00<?, ?it/s]"
      ]
     },
     "metadata": {},
     "output_type": "display_data"
    },
    {
     "data": {
      "application/vnd.jupyter.widget-view+json": {
       "model_id": "40851c9c941a47e5813206018aab9abb",
       "version_major": 2,
       "version_minor": 0
      },
      "text/plain": [
       "Running Epoch 2 of 10:   0%|          | 0/49 [00:00<?, ?it/s]"
      ]
     },
     "metadata": {},
     "output_type": "display_data"
    },
    {
     "data": {
      "application/vnd.jupyter.widget-view+json": {
       "model_id": "4e2d07fc3a8f49619161109690400873",
       "version_major": 2,
       "version_minor": 0
      },
      "text/plain": [
       "Running Epoch 3 of 10:   0%|          | 0/49 [00:00<?, ?it/s]"
      ]
     },
     "metadata": {},
     "output_type": "display_data"
    },
    {
     "data": {
      "application/vnd.jupyter.widget-view+json": {
       "model_id": "bc394abfadbe4fe6a515cb25a862af34",
       "version_major": 2,
       "version_minor": 0
      },
      "text/plain": [
       "Running Epoch 4 of 10:   0%|          | 0/49 [00:00<?, ?it/s]"
      ]
     },
     "metadata": {},
     "output_type": "display_data"
    },
    {
     "data": {
      "application/vnd.jupyter.widget-view+json": {
       "model_id": "99ffb973fef54f8bb595a3a2627cf08b",
       "version_major": 2,
       "version_minor": 0
      },
      "text/plain": [
       "Running Epoch 5 of 10:   0%|          | 0/49 [00:00<?, ?it/s]"
      ]
     },
     "metadata": {},
     "output_type": "display_data"
    },
    {
     "data": {
      "application/vnd.jupyter.widget-view+json": {
       "model_id": "a54f6417d39945bdbcff82603b526e01",
       "version_major": 2,
       "version_minor": 0
      },
      "text/plain": [
       "Running Epoch 6 of 10:   0%|          | 0/49 [00:00<?, ?it/s]"
      ]
     },
     "metadata": {},
     "output_type": "display_data"
    },
    {
     "data": {
      "application/vnd.jupyter.widget-view+json": {
       "model_id": "484bbda2edb34f34b9a964a9bb590e52",
       "version_major": 2,
       "version_minor": 0
      },
      "text/plain": [
       "Running Epoch 7 of 10:   0%|          | 0/49 [00:00<?, ?it/s]"
      ]
     },
     "metadata": {},
     "output_type": "display_data"
    },
    {
     "data": {
      "application/vnd.jupyter.widget-view+json": {
       "model_id": "ee94b176eb0c4778ab718a2529f2d311",
       "version_major": 2,
       "version_minor": 0
      },
      "text/plain": [
       "Running Epoch 8 of 10:   0%|          | 0/49 [00:00<?, ?it/s]"
      ]
     },
     "metadata": {},
     "output_type": "display_data"
    },
    {
     "data": {
      "application/vnd.jupyter.widget-view+json": {
       "model_id": "dc1b9d50cd5542b59c93e2f43d03d16b",
       "version_major": 2,
       "version_minor": 0
      },
      "text/plain": [
       "Running Epoch 9 of 10:   0%|          | 0/49 [00:00<?, ?it/s]"
      ]
     },
     "metadata": {},
     "output_type": "display_data"
    },
    {
     "name": "stderr",
     "output_type": "stream",
     "text": [
      "INFO:simpletransformers.classification.classification_model: Training of electra model complete. Saved to /workspace/projects/ekorpkit-book/exmaples/esg/models/esg_topics_validated-classification.\n",
      "INFO:simpletransformers.classification.classification_utils: Converting to features started. Cache is not used.\n",
      "INFO:simpletransformers.classification.classification_utils: Saving features into cached file /workspace/.cache/cached_dev_electra_256_10_2\n"
     ]
    },
    {
     "data": {
      "application/vnd.jupyter.widget-view+json": {
       "model_id": "a11645ae8ff841fa818d1cf3aead5432",
       "version_major": 2,
       "version_minor": 0
      },
      "text/plain": [
       "Running Evaluation:   0%|          | 0/17 [00:00<?, ?it/s]"
      ]
     },
     "metadata": {},
     "output_type": "display_data"
    },
    {
     "name": "stderr",
     "output_type": "stream",
     "text": [
      "INFO:simpletransformers.classification.classification_model: Initializing WandB run for evaluation.\n"
     ]
    },
    {
     "data": {
      "application/vnd.jupyter.widget-view+json": {
       "model_id": "02a2484b20fb4f1299e30cd49cb70127",
       "version_major": 2,
       "version_minor": 0
      },
      "text/plain": [
       "VBox(children=(Label(value='Waiting for wandb.init()...\\r'), FloatProgress(value=0.01666906488244422, max=1.0)…"
      ]
     },
     "metadata": {},
     "output_type": "display_data"
    },
    {
     "name": "stderr",
     "output_type": "stream",
     "text": [
      "INFO:simpletransformers.classification.classification_model:{'mcc': 0.7668444594100311, 'acc': 0.7978774722624216, 'eval_loss': 0.823479084407582}\n",
      "INFO:ekorpkit.config:Saving config to /workspace/projects/ekorpkit-book/exmaples/esg/outputs/esg_topics_validated/configs/esg_topics_validated(19)_config.yaml\n",
      "INFO:ekorpkit.models.transformer.simple:Predicting split 1\n",
      "INFO:simpletransformers.classification.classification_utils: Converting to features started. Cache is not used.\n"
     ]
    },
    {
     "data": {
      "application/vnd.jupyter.widget-view+json": {
       "model_id": "9d47a3e7cf3f4d988084f670625efe55",
       "version_major": 2,
       "version_minor": 0
      },
      "text/plain": [
       "  0%|          | 0/17 [00:00<?, ?it/s]"
      ]
     },
     "metadata": {},
     "output_type": "display_data"
    },
    {
     "name": "stderr",
     "output_type": "stream",
     "text": [
      "INFO:ekorpkit.models.transformer.simple:type of raw_outputs: <class 'numpy.ndarray'>\n",
      "INFO:ekorpkit.models.transformer.simple:raw_output: [ 4.53867435 -0.85934401  1.3143158  -0.78634918 -0.51649958 -0.78543353\n",
      " -1.25133133 -1.10254788 -1.0013324   1.03004241]\n",
      "INFO:ekorpkit.io.file:Saving dataframe to /workspace/projects/ekorpkit-book/exmaples/esg/outputs/esg_topics_validated/esg_topics_validated(19)_preds.parquet\n",
      "INFO:ekorpkit.datasets.config:Train data: (6218, 5)\n",
      "INFO:ekorpkit.models.transformer.simple:No columns or data to rename\n",
      "Some weights of the model checkpoint at entelecheia/ekonelectra-base-discriminator were not used when initializing ElectraForSequenceClassification: ['discriminator_predictions.dense.weight', 'discriminator_predictions.dense_prediction.weight', 'discriminator_predictions.dense_prediction.bias', 'discriminator_predictions.dense.bias']\n",
      "- This IS expected if you are initializing ElectraForSequenceClassification from the checkpoint of a model trained on another task or with another architecture (e.g. initializing a BertForSequenceClassification model from a BertForPreTraining model).\n",
      "- This IS NOT expected if you are initializing ElectraForSequenceClassification from the checkpoint of a model that you expect to be exactly identical (initializing a BertForSequenceClassification model from a BertForSequenceClassification model).\n",
      "Some weights of ElectraForSequenceClassification were not initialized from the model checkpoint at entelecheia/ekonelectra-base-discriminator and are newly initialized: ['classifier.out_proj.weight', 'classifier.dense.weight', 'classifier.out_proj.bias', 'classifier.dense.bias']\n",
      "You should probably TRAIN this model on a down-stream task to be able to use it for predictions and inference.\n",
      "INFO:simpletransformers.classification.classification_utils: Converting to features started. Cache is not used.\n",
      "INFO:simpletransformers.classification.classification_utils: Saving features into cached file /workspace/.cache/cached_train_electra_256_10_2\n"
     ]
    },
    {
     "data": {
      "application/vnd.jupyter.widget-view+json": {
       "model_id": "3b915c5268c5447c8e85188bc0345ee5",
       "version_major": 2,
       "version_minor": 0
      },
      "text/plain": [
       "Epoch:   0%|          | 0/10 [00:00<?, ?it/s]"
      ]
     },
     "metadata": {},
     "output_type": "display_data"
    },
    {
     "name": "stderr",
     "output_type": "stream",
     "text": [
      "INFO:simpletransformers.classification.classification_model: Initializing WandB run for training.\n"
     ]
    },
    {
     "data": {
      "application/vnd.jupyter.widget-view+json": {
       "model_id": "daf8fb6fd18e4095aa13c041fc1096c6",
       "version_major": 2,
       "version_minor": 0
      },
      "text/plain": [
       "VBox(children=(Label(value='Waiting for wandb.init()...\\r'), FloatProgress(value=0.016669162483109783, max=1.0…"
      ]
     },
     "metadata": {},
     "output_type": "display_data"
    },
    {
     "data": {
      "application/vnd.jupyter.widget-view+json": {
       "model_id": "9b6bcc17dc86464da332872c185b0b1f",
       "version_major": 2,
       "version_minor": 0
      },
      "text/plain": [
       "Running Epoch 0 of 10:   0%|          | 0/49 [00:00<?, ?it/s]"
      ]
     },
     "metadata": {},
     "output_type": "display_data"
    },
    {
     "data": {
      "application/vnd.jupyter.widget-view+json": {
       "model_id": "cf8c1a4ff3a043b08ab3453493075485",
       "version_major": 2,
       "version_minor": 0
      },
      "text/plain": [
       "Running Epoch 1 of 10:   0%|          | 0/49 [00:00<?, ?it/s]"
      ]
     },
     "metadata": {},
     "output_type": "display_data"
    },
    {
     "data": {
      "application/vnd.jupyter.widget-view+json": {
       "model_id": "c9c960dd0a334a42ad06d4e7e2e0dc81",
       "version_major": 2,
       "version_minor": 0
      },
      "text/plain": [
       "Running Epoch 2 of 10:   0%|          | 0/49 [00:00<?, ?it/s]"
      ]
     },
     "metadata": {},
     "output_type": "display_data"
    },
    {
     "data": {
      "application/vnd.jupyter.widget-view+json": {
       "model_id": "558cb2a166404d58a48e4e65a2e23905",
       "version_major": 2,
       "version_minor": 0
      },
      "text/plain": [
       "Running Epoch 3 of 10:   0%|          | 0/49 [00:00<?, ?it/s]"
      ]
     },
     "metadata": {},
     "output_type": "display_data"
    },
    {
     "data": {
      "application/vnd.jupyter.widget-view+json": {
       "model_id": "528106816b4643858d4d35dfb20c238c",
       "version_major": 2,
       "version_minor": 0
      },
      "text/plain": [
       "Running Epoch 4 of 10:   0%|          | 0/49 [00:00<?, ?it/s]"
      ]
     },
     "metadata": {},
     "output_type": "display_data"
    },
    {
     "data": {
      "application/vnd.jupyter.widget-view+json": {
       "model_id": "0fe4a01117c64500b93f1189c4094cb5",
       "version_major": 2,
       "version_minor": 0
      },
      "text/plain": [
       "Running Epoch 5 of 10:   0%|          | 0/49 [00:00<?, ?it/s]"
      ]
     },
     "metadata": {},
     "output_type": "display_data"
    },
    {
     "data": {
      "application/vnd.jupyter.widget-view+json": {
       "model_id": "46116fd7e05b4f6cadad096f1d4b1aba",
       "version_major": 2,
       "version_minor": 0
      },
      "text/plain": [
       "Running Epoch 6 of 10:   0%|          | 0/49 [00:00<?, ?it/s]"
      ]
     },
     "metadata": {},
     "output_type": "display_data"
    },
    {
     "data": {
      "application/vnd.jupyter.widget-view+json": {
       "model_id": "17933c613dcc43308909b5748ff1a7f0",
       "version_major": 2,
       "version_minor": 0
      },
      "text/plain": [
       "Running Epoch 7 of 10:   0%|          | 0/49 [00:00<?, ?it/s]"
      ]
     },
     "metadata": {},
     "output_type": "display_data"
    },
    {
     "data": {
      "application/vnd.jupyter.widget-view+json": {
       "model_id": "8612734c82144fed8b4f7110ae25c94e",
       "version_major": 2,
       "version_minor": 0
      },
      "text/plain": [
       "Running Epoch 8 of 10:   0%|          | 0/49 [00:00<?, ?it/s]"
      ]
     },
     "metadata": {},
     "output_type": "display_data"
    },
    {
     "data": {
      "application/vnd.jupyter.widget-view+json": {
       "model_id": "07e259642c134202837ad2c9d46a5572",
       "version_major": 2,
       "version_minor": 0
      },
      "text/plain": [
       "Running Epoch 9 of 10:   0%|          | 0/49 [00:00<?, ?it/s]"
      ]
     },
     "metadata": {},
     "output_type": "display_data"
    },
    {
     "name": "stderr",
     "output_type": "stream",
     "text": [
      "INFO:simpletransformers.classification.classification_model: Training of electra model complete. Saved to /workspace/projects/ekorpkit-book/exmaples/esg/models/esg_topics_validated-classification.\n",
      "INFO:simpletransformers.classification.classification_utils: Converting to features started. Cache is not used.\n",
      "INFO:simpletransformers.classification.classification_utils: Saving features into cached file /workspace/.cache/cached_dev_electra_256_10_2\n"
     ]
    },
    {
     "data": {
      "application/vnd.jupyter.widget-view+json": {
       "model_id": "b3ed208442ca47faa9d08d97a14ce89e",
       "version_major": 2,
       "version_minor": 0
      },
      "text/plain": [
       "Running Evaluation:   0%|          | 0/17 [00:00<?, ?it/s]"
      ]
     },
     "metadata": {},
     "output_type": "display_data"
    },
    {
     "name": "stderr",
     "output_type": "stream",
     "text": [
      "INFO:simpletransformers.classification.classification_model: Initializing WandB run for evaluation.\n"
     ]
    },
    {
     "data": {
      "application/vnd.jupyter.widget-view+json": {
       "model_id": "66645dcb92d44295a5d1b0a290ad2fd6",
       "version_major": 2,
       "version_minor": 0
      },
      "text/plain": [
       "VBox(children=(Label(value='Waiting for wandb.init()...\\r'), FloatProgress(value=0.016669001432213313, max=1.0…"
      ]
     },
     "metadata": {},
     "output_type": "display_data"
    },
    {
     "name": "stderr",
     "output_type": "stream",
     "text": [
      "INFO:simpletransformers.classification.classification_model:{'mcc': 0.7660671982418458, 'acc': 0.7973950795947902, 'eval_loss': 0.7515979970202726}\n",
      "INFO:ekorpkit.config:Saving config to /workspace/projects/ekorpkit-book/exmaples/esg/outputs/esg_topics_validated/configs/esg_topics_validated(20)_config.yaml\n",
      "INFO:ekorpkit.models.transformer.simple:Predicting split 2\n",
      "INFO:simpletransformers.classification.classification_utils: Converting to features started. Cache is not used.\n"
     ]
    },
    {
     "data": {
      "application/vnd.jupyter.widget-view+json": {
       "model_id": "2bb1fbbaf2bf4a728e34bc0bd8c43849",
       "version_major": 2,
       "version_minor": 0
      },
      "text/plain": [
       "  0%|          | 0/17 [00:00<?, ?it/s]"
      ]
     },
     "metadata": {},
     "output_type": "display_data"
    },
    {
     "name": "stderr",
     "output_type": "stream",
     "text": [
      "INFO:ekorpkit.models.transformer.simple:type of raw_outputs: <class 'numpy.ndarray'>\n",
      "INFO:ekorpkit.models.transformer.simple:raw_output: [-1.04944229 -0.43455282 -1.81818402 -0.32292348  0.09219684  5.79414225\n",
      " -0.16078982 -0.41185176 -1.2190274  -1.59833586]\n",
      "INFO:ekorpkit.io.file:Saving dataframe to /workspace/projects/ekorpkit-book/exmaples/esg/outputs/esg_topics_validated/esg_topics_validated(20)_preds.parquet\n",
      "INFO:ekorpkit.datasets.config:Train data: (6219, 5)\n",
      "INFO:ekorpkit.models.transformer.simple:No columns or data to rename\n",
      "Some weights of the model checkpoint at entelecheia/ekonelectra-base-discriminator were not used when initializing ElectraForSequenceClassification: ['discriminator_predictions.dense.weight', 'discriminator_predictions.dense_prediction.weight', 'discriminator_predictions.dense_prediction.bias', 'discriminator_predictions.dense.bias']\n",
      "- This IS expected if you are initializing ElectraForSequenceClassification from the checkpoint of a model trained on another task or with another architecture (e.g. initializing a BertForSequenceClassification model from a BertForPreTraining model).\n",
      "- This IS NOT expected if you are initializing ElectraForSequenceClassification from the checkpoint of a model that you expect to be exactly identical (initializing a BertForSequenceClassification model from a BertForSequenceClassification model).\n",
      "Some weights of ElectraForSequenceClassification were not initialized from the model checkpoint at entelecheia/ekonelectra-base-discriminator and are newly initialized: ['classifier.out_proj.weight', 'classifier.dense.weight', 'classifier.out_proj.bias', 'classifier.dense.bias']\n",
      "You should probably TRAIN this model on a down-stream task to be able to use it for predictions and inference.\n",
      "INFO:simpletransformers.classification.classification_utils: Converting to features started. Cache is not used.\n",
      "INFO:simpletransformers.classification.classification_utils: Saving features into cached file /workspace/.cache/cached_train_electra_256_10_2\n"
     ]
    },
    {
     "data": {
      "application/vnd.jupyter.widget-view+json": {
       "model_id": "76f85c3ba35e406cae72494e47eb78e4",
       "version_major": 2,
       "version_minor": 0
      },
      "text/plain": [
       "Epoch:   0%|          | 0/10 [00:00<?, ?it/s]"
      ]
     },
     "metadata": {},
     "output_type": "display_data"
    },
    {
     "name": "stderr",
     "output_type": "stream",
     "text": [
      "INFO:simpletransformers.classification.classification_model: Initializing WandB run for training.\n"
     ]
    },
    {
     "data": {
      "application/vnd.jupyter.widget-view+json": {
       "model_id": "fc66c8453c654d82a1dd64788169fd37",
       "version_major": 2,
       "version_minor": 0
      },
      "text/plain": [
       "VBox(children=(Label(value='Waiting for wandb.init()...\\r'), FloatProgress(value=0.016669149799660467, max=1.0…"
      ]
     },
     "metadata": {},
     "output_type": "display_data"
    },
    {
     "data": {
      "application/vnd.jupyter.widget-view+json": {
       "model_id": "54676c06e4fe4a1aba2b75933dfc44e6",
       "version_major": 2,
       "version_minor": 0
      },
      "text/plain": [
       "Running Epoch 0 of 10:   0%|          | 0/49 [00:00<?, ?it/s]"
      ]
     },
     "metadata": {},
     "output_type": "display_data"
    },
    {
     "data": {
      "application/vnd.jupyter.widget-view+json": {
       "model_id": "e85c07b4798a49fa86c5173b29d005f6",
       "version_major": 2,
       "version_minor": 0
      },
      "text/plain": [
       "Running Epoch 1 of 10:   0%|          | 0/49 [00:00<?, ?it/s]"
      ]
     },
     "metadata": {},
     "output_type": "display_data"
    },
    {
     "data": {
      "application/vnd.jupyter.widget-view+json": {
       "model_id": "ea234216614d43128d052f9c0a67525e",
       "version_major": 2,
       "version_minor": 0
      },
      "text/plain": [
       "Running Epoch 2 of 10:   0%|          | 0/49 [00:00<?, ?it/s]"
      ]
     },
     "metadata": {},
     "output_type": "display_data"
    },
    {
     "data": {
      "application/vnd.jupyter.widget-view+json": {
       "model_id": "2db5c1f8a0384ce6bc9a3bf9bd36b2b9",
       "version_major": 2,
       "version_minor": 0
      },
      "text/plain": [
       "Running Epoch 3 of 10:   0%|          | 0/49 [00:00<?, ?it/s]"
      ]
     },
     "metadata": {},
     "output_type": "display_data"
    },
    {
     "data": {
      "application/vnd.jupyter.widget-view+json": {
       "model_id": "5e5362249aef4e3fb1219042b1907dc2",
       "version_major": 2,
       "version_minor": 0
      },
      "text/plain": [
       "Running Epoch 4 of 10:   0%|          | 0/49 [00:00<?, ?it/s]"
      ]
     },
     "metadata": {},
     "output_type": "display_data"
    },
    {
     "data": {
      "application/vnd.jupyter.widget-view+json": {
       "model_id": "8cce158323b14ddeb7657b18923831aa",
       "version_major": 2,
       "version_minor": 0
      },
      "text/plain": [
       "Running Epoch 5 of 10:   0%|          | 0/49 [00:00<?, ?it/s]"
      ]
     },
     "metadata": {},
     "output_type": "display_data"
    },
    {
     "data": {
      "application/vnd.jupyter.widget-view+json": {
       "model_id": "df8143531bad420c963b299e8ef2e3b6",
       "version_major": 2,
       "version_minor": 0
      },
      "text/plain": [
       "Running Epoch 6 of 10:   0%|          | 0/49 [00:00<?, ?it/s]"
      ]
     },
     "metadata": {},
     "output_type": "display_data"
    },
    {
     "data": {
      "application/vnd.jupyter.widget-view+json": {
       "model_id": "3e277024db574d0aa7459986ac25c217",
       "version_major": 2,
       "version_minor": 0
      },
      "text/plain": [
       "Running Epoch 7 of 10:   0%|          | 0/49 [00:00<?, ?it/s]"
      ]
     },
     "metadata": {},
     "output_type": "display_data"
    },
    {
     "data": {
      "application/vnd.jupyter.widget-view+json": {
       "model_id": "d09f5d9ef1204274b44d9e835e07a95d",
       "version_major": 2,
       "version_minor": 0
      },
      "text/plain": [
       "Running Epoch 8 of 10:   0%|          | 0/49 [00:00<?, ?it/s]"
      ]
     },
     "metadata": {},
     "output_type": "display_data"
    },
    {
     "data": {
      "application/vnd.jupyter.widget-view+json": {
       "model_id": "8fdf32de4bd146a8b97c8d8c3d65f980",
       "version_major": 2,
       "version_minor": 0
      },
      "text/plain": [
       "Running Epoch 9 of 10:   0%|          | 0/49 [00:00<?, ?it/s]"
      ]
     },
     "metadata": {},
     "output_type": "display_data"
    },
    {
     "name": "stderr",
     "output_type": "stream",
     "text": [
      "INFO:simpletransformers.classification.classification_model: Training of electra model complete. Saved to /workspace/projects/ekorpkit-book/exmaples/esg/models/esg_topics_validated-classification.\n",
      "INFO:simpletransformers.classification.classification_utils: Converting to features started. Cache is not used.\n",
      "INFO:simpletransformers.classification.classification_utils: Saving features into cached file /workspace/.cache/cached_dev_electra_256_10_2\n"
     ]
    },
    {
     "data": {
      "application/vnd.jupyter.widget-view+json": {
       "model_id": "0169199a86e94d61bae14a3123efe006",
       "version_major": 2,
       "version_minor": 0
      },
      "text/plain": [
       "Running Evaluation:   0%|          | 0/17 [00:00<?, ?it/s]"
      ]
     },
     "metadata": {},
     "output_type": "display_data"
    },
    {
     "name": "stderr",
     "output_type": "stream",
     "text": [
      "INFO:simpletransformers.classification.classification_model: Initializing WandB run for evaluation.\n"
     ]
    },
    {
     "data": {
      "application/vnd.jupyter.widget-view+json": {
       "model_id": "7b67653c28c04b5381b4c0d79da1fb51",
       "version_major": 2,
       "version_minor": 0
      },
      "text/plain": [
       "VBox(children=(Label(value='Waiting for wandb.init()...\\r'), FloatProgress(value=0.01666924426681362, max=1.0)…"
      ]
     },
     "metadata": {},
     "output_type": "display_data"
    },
    {
     "name": "stderr",
     "output_type": "stream",
     "text": [
      "INFO:simpletransformers.classification.classification_model:{'mcc': 0.774047705334313, 'acc': 0.8045366795366795, 'eval_loss': 0.7601279616355896}\n",
      "INFO:ekorpkit.config:Saving config to /workspace/projects/ekorpkit-book/exmaples/esg/outputs/esg_topics_validated/configs/esg_topics_validated(21)_config.yaml\n",
      "INFO:ekorpkit.models.transformer.simple:Predicting split 3\n",
      "INFO:simpletransformers.classification.classification_utils: Converting to features started. Cache is not used.\n"
     ]
    },
    {
     "data": {
      "application/vnd.jupyter.widget-view+json": {
       "model_id": "16fd00dfd76b4411ad274abc50cdd8ea",
       "version_major": 2,
       "version_minor": 0
      },
      "text/plain": [
       "  0%|          | 0/17 [00:00<?, ?it/s]"
      ]
     },
     "metadata": {},
     "output_type": "display_data"
    },
    {
     "name": "stderr",
     "output_type": "stream",
     "text": [
      "INFO:ekorpkit.models.transformer.simple:type of raw_outputs: <class 'numpy.ndarray'>\n",
      "INFO:ekorpkit.models.transformer.simple:raw_output: [ 4.52346754 -0.79634953  0.92594481 -0.75823683 -0.22142546 -0.65272802\n",
      " -1.16158807 -1.07352436 -1.01481068  0.91516358]\n",
      "INFO:ekorpkit.io.file:Saving dataframe to /workspace/projects/ekorpkit-book/exmaples/esg/outputs/esg_topics_validated/esg_topics_validated(21)_preds.parquet\n",
      "INFO:ekorpkit.io.file:Saving dataframe to /workspace/projects/ekorpkit-book/exmaples/esg/outputs/esg_topics_validated/esg_topics_validated(21)_cv.parquet\n"
     ]
    },
    {
     "name": "stdout",
     "output_type": "stream",
     "text": [
      "time: 25min 38s (started: 2023-01-05 06:40:12 +00:00)\n"
     ]
    }
   ],
   "source": [
    "cv_preds_topic = smt.cross_val_predict(cv=4, dev_size=0)"
   ]
  },
  {
   "cell_type": "code",
   "execution_count": 37,
   "metadata": {},
   "outputs": [
    {
     "name": "stdout",
     "output_type": "stream",
     "text": [
      "time: 4.22 ms (started: 2023-01-05 07:53:37 +00:00)\n"
     ]
    }
   ],
   "source": [
    "cols = [\"text\", \"labels\", \"pred_labels\", \"raw_preds\", \"pred_probs\"]\n",
    "cv_preds_topic = cv_preds_topic[cols].reset_index()"
   ]
  },
  {
   "cell_type": "code",
   "execution_count": 38,
   "metadata": {},
   "outputs": [
    {
     "name": "stderr",
     "output_type": "stream",
     "text": [
      "INFO:ekorpkit.models.transformer.simple:Created 8291 records\n"
     ]
    },
    {
     "name": "stdout",
     "output_type": "stream",
     "text": [
      "366\n",
      "text=\"신한은행 노조 ' 경영진 추가 화합 조치 필요 '\\n신한은행 노동조합 ( 위원장 유주 선 ) 이 신한금융지주 신상훈 전 사장 의 추가적 인 명예회복 에 나서겠다고 밝혔다 .\\n유주 선 신한은행 노조위원장 은 18 일 내일신문 과 전화 인터뷰 에서 ' 현 경영진 이 ( 신 전 사장 의 ) 명예 를 회복 시켜 드리기 위해서 추가적 인 화합 조치 를 내놔야 한다 ' 며 ' 노조 가 나서서 기회 가 있을 때 마다 경영진 에게 제안 을 하겠다 ' 고 말 했다 .\" inputs={'text': \"신한은행 노조 ' 경영진 추가 화합 조치 필요 '\\n신한은행 노동조합 ( 위원장 유주 선 ) 이 신한금융지주 신상훈 전 사장 의 추가적 인 명예회복 에 나서겠다고 밝혔다 .\\n유주 선 신한은행 노조위원장 은 18 일 내일신문 과 전화 인터뷰 에서 ' 현 경영진 이 ( 신 전 사장 의 ) 명예 를 회복 시켜 드리기 위해서 추가적 인 화합 조치 를 내놔야 한다 ' 며 ' 노조 가 나서서 기회 가 있을 때 마다 경영진 에게 제안 을 하겠다 ' 고 말 했다 .\"} prediction=[('E-기후변화', 0.0010603860605236683), ('S-사회공헌', 0.0025242881090182714), ('E-환경영향', 0.000523405953129051), ('S-기업(공급망)동반성장/상생', 0.002255635923122306), ('G-지배구조', 0.0024603015855481497), ('S-고용', 0.9853566560115524), ('G-기업윤리/불공정/소송', 0.0022369285449255986), ('S-소비자', 0.001962865950724563), ('S-재해/안전관리', 0.0010000319093906645), ('E-환경혁신', 0.0006194999520653675)] prediction_agent=None annotation='G-지배구조' annotation_agent=None multi_label=False explanation=None id=None metadata={'index': 1887, 'label_error_candidate': 0} status='Validated' event_timestamp=None metrics=None search_keywords=None\n"
     ]
    },
    {
     "name": "stderr",
     "output_type": "stream",
     "text": [
      "INFO:ekorpkit.io.file:Saving dataframe to /workspace/projects/ekorpkit-book/exmaples/esg/data/esg_topic_validated/esg_topic_data_cved.parquet\n"
     ]
    },
    {
     "name": "stdout",
     "output_type": "stream",
     "text": [
      "7925\n",
      "time: 4.48 s (started: 2023-01-05 07:53:39 +00:00)\n"
     ]
    }
   ],
   "source": [
    "records_with_label_error = smt.find_label_errors(cv_preds_topic, meta_columns=[\"index\"])\n",
    "print(len(records_with_label_error))\n",
    "print(records_with_label_error[0])\n",
    "\n",
    "# remove rows from preds that have label errors\n",
    "data_topic_cved = cv_preds_topic.copy()\n",
    "for record in records_with_label_error:\n",
    "    metadata = record.metadata\n",
    "    data_topic_cved = data_topic_cved[data_topic_cved.index != metadata[\"index\"]]\n",
    "print(len(data_topic_cved))\n",
    "topic_cved_filename = \"esg_topic_data_cved.parquet\"\n",
    "eKonf.save_data(data_topic_cved, topic_cved_filename, valid_data_dir)"
   ]
  },
  {
   "cell_type": "code",
   "execution_count": 39,
   "metadata": {},
   "outputs": [
    {
     "name": "stderr",
     "output_type": "stream",
     "text": [
      "INFO:ekorpkit.io.file:Concatenating 2 dataframes\n",
      "INFO:ekorpkit.io.file:Saving dataframe to /workspace/projects/ekorpkit-book/exmaples/esg/data/esg_topic_validated/esg_topic_data_cved_mreged.parquet\n"
     ]
    },
    {
     "name": "stdout",
     "output_type": "stream",
     "text": [
      "(8265, 2)\n",
      "S-소비자               1869\n",
      "S-고용                1307\n",
      "G-지배구조              1274\n",
      "G-기업윤리/불공정/소송        870\n",
      "E-환경혁신               673\n",
      "S-사회공헌               611\n",
      "E-기후변화               544\n",
      "E-환경영향               428\n",
      "S-기업(공급망)동반성장/상생     346\n",
      "S-재해/안전관리            343\n",
      "Name: labels, dtype: int64\n",
      "time: 492 ms (started: 2023-01-05 07:53:43 +00:00)\n"
     ]
    }
   ],
   "source": [
    "file = ws.project_dir / \"esg/outputs/esg_topic_labels/esg_topic_labels(0)_export.parquet\"\n",
    "tp_add = eKonf.load_data(file)\n",
    "# exclude UNKNOWN and ESG\n",
    "tp_add = tp_add[~tp_add[\"labels\"].isin([\"UNKNOWN\", \"ESG\"])]\n",
    "# combine tp_add and ds_tp_valid with ['text', 'labels'] columns only\n",
    "topic_cv_merged = eKonf.concat_data([data_topic_cved[['text', 'labels']], tp_add[['text', 'labels']]], axis=0)\n",
    "print(topic_cv_merged.shape)\n",
    "print(topic_cv_merged.labels.value_counts())\n",
    "# Save data\n",
    "topic_cved_filename = \"esg_topic_data_cved_mreged.parquet\"\n",
    "eKonf.save_data(topic_cv_merged, topic_cved_filename, valid_data_dir)"
   ]
  },
  {
   "cell_type": "code",
   "execution_count": 40,
   "metadata": {},
   "outputs": [
    {
     "name": "stdout",
     "output_type": "stream",
     "text": [
      "time: 2.83 s (started: 2023-01-05 07:53:44 +00:00)\n"
     ]
    }
   ],
   "source": [
    "from ekorpkit.models.transformer.simple import SimpleClassification\n",
    "\n",
    "topic_cved_filename = \"esg_topic_data_cved_mreged.parquet\"\n",
    "valid_data_dir = ws.project_dir / \"esg/data/esg_topic_validated\"\n",
    "\n",
    "cfg = eKonf.compose('task=simple.classification')\n",
    "cfg.name = \"esg_topics_cved\"\n",
    "cfg.dataset.data_dir = valid_data_dir\n",
    "cfg.dataset.data_files = topic_cved_filename\n",
    "cfg.dataset.test_size = 0.2\n",
    "cfg.dataset.dev_size = 0.2\n",
    "cfg.dataset.shuffle = True\n",
    "cfg.dataset.seed = 977634889\n",
    "cfg.model.model_name_or_path = \"entelecheia/ekonelectra-base-discriminator\"\n",
    "cfg.trainer.num_train_epochs = 10\n",
    "cfg.trainer.max_seq_length = 256\n",
    "cfg.trainer.train_batch_size = 128\n",
    "cfg.trainer.eval_batch_size = 128\n",
    "\n",
    "smt = SimpleClassification(**cfg)"
   ]
  },
  {
   "cell_type": "code",
   "execution_count": 41,
   "metadata": {
    "scrolled": false
   },
   "outputs": [
    {
     "name": "stderr",
     "output_type": "stream",
     "text": [
      "INFO:ekorpkit.datasets.config:Splitting the dataframe into train and test with ratio 0.2\n",
      "INFO:ekorpkit.datasets.config:Splitting the dataframe into train and dev with ratio 0.2\n",
      "INFO:ekorpkit.datasets.config:Shuffling the dataframe with seed 977634889\n",
      "INFO:ekorpkit.datasets.config:Train data: (5289, 2)\n",
      "INFO:ekorpkit.datasets.config:Test data: (1653, 2)\n",
      "INFO:ekorpkit.datasets.config:Dev data: (1323, 2)\n",
      "Some weights of the model checkpoint at entelecheia/ekonelectra-base-discriminator were not used when initializing ElectraForSequenceClassification: ['discriminator_predictions.dense.weight', 'discriminator_predictions.dense_prediction.weight', 'discriminator_predictions.dense_prediction.bias', 'discriminator_predictions.dense.bias']\n",
      "- This IS expected if you are initializing ElectraForSequenceClassification from the checkpoint of a model trained on another task or with another architecture (e.g. initializing a BertForSequenceClassification model from a BertForPreTraining model).\n",
      "- This IS NOT expected if you are initializing ElectraForSequenceClassification from the checkpoint of a model that you expect to be exactly identical (initializing a BertForSequenceClassification model from a BertForSequenceClassification model).\n",
      "Some weights of ElectraForSequenceClassification were not initialized from the model checkpoint at entelecheia/ekonelectra-base-discriminator and are newly initialized: ['classifier.out_proj.weight', 'classifier.dense.weight', 'classifier.out_proj.bias', 'classifier.dense.bias']\n",
      "You should probably TRAIN this model on a down-stream task to be able to use it for predictions and inference.\n",
      "INFO:simpletransformers.classification.classification_utils: Converting to features started. Cache is not used.\n",
      "INFO:simpletransformers.classification.classification_utils: Saving features into cached file /workspace/.cache/cached_train_electra_256_10_2\n"
     ]
    },
    {
     "data": {
      "application/vnd.jupyter.widget-view+json": {
       "model_id": "bc9f405a348d4ae189c4040e64e2412c",
       "version_major": 2,
       "version_minor": 0
      },
      "text/plain": [
       "Epoch:   0%|          | 0/10 [00:00<?, ?it/s]"
      ]
     },
     "metadata": {},
     "output_type": "display_data"
    },
    {
     "name": "stderr",
     "output_type": "stream",
     "text": [
      "INFO:simpletransformers.classification.classification_model: Initializing WandB run for training.\n"
     ]
    },
    {
     "data": {
      "application/vnd.jupyter.widget-view+json": {
       "model_id": "85386dbd62b64a9c836fdac35df8a39c",
       "version_major": 2,
       "version_minor": 0
      },
      "text/plain": [
       "VBox(children=(Label(value='Waiting for wandb.init()...\\r'), FloatProgress(value=0.016668838501209392, max=1.0…"
      ]
     },
     "metadata": {},
     "output_type": "display_data"
    },
    {
     "data": {
      "application/vnd.jupyter.widget-view+json": {
       "model_id": "4e71a10eac2345cd968976c6d46be684",
       "version_major": 2,
       "version_minor": 0
      },
      "text/plain": [
       "Running Epoch 0 of 10:   0%|          | 0/42 [00:00<?, ?it/s]"
      ]
     },
     "metadata": {},
     "output_type": "display_data"
    },
    {
     "name": "stderr",
     "output_type": "stream",
     "text": [
      "INFO:simpletransformers.classification.classification_utils: Converting to features started. Cache is not used.\n",
      "INFO:simpletransformers.classification.classification_utils: Saving features into cached file /workspace/.cache/cached_dev_electra_256_10_2\n",
      "INFO:simpletransformers.classification.classification_model:{'mcc': 0.4195900823409209, 'acc': 0.47543461829176115, 'eval_loss': 1.7749583721160889}\n"
     ]
    },
    {
     "data": {
      "application/vnd.jupyter.widget-view+json": {
       "model_id": "7687b54fc52d4412bf27a890251d50dd",
       "version_major": 2,
       "version_minor": 0
      },
      "text/plain": [
       "Running Epoch 1 of 10:   0%|          | 0/42 [00:00<?, ?it/s]"
      ]
     },
     "metadata": {},
     "output_type": "display_data"
    },
    {
     "name": "stderr",
     "output_type": "stream",
     "text": [
      "INFO:simpletransformers.classification.classification_utils: Converting to features started. Cache is not used.\n",
      "INFO:simpletransformers.classification.classification_utils: Saving features into cached file /workspace/.cache/cached_dev_electra_256_10_2\n",
      "INFO:simpletransformers.classification.classification_model:{'mcc': 0.6724554291746573, 'acc': 0.7127739984882842, 'eval_loss': 0.9586255116896196}\n"
     ]
    },
    {
     "data": {
      "application/vnd.jupyter.widget-view+json": {
       "model_id": "c2023c0d0a41460c9e487f5c6b8b778f",
       "version_major": 2,
       "version_minor": 0
      },
      "text/plain": [
       "Running Epoch 2 of 10:   0%|          | 0/42 [00:00<?, ?it/s]"
      ]
     },
     "metadata": {},
     "output_type": "display_data"
    },
    {
     "name": "stderr",
     "output_type": "stream",
     "text": [
      "INFO:simpletransformers.classification.classification_utils: Converting to features started. Cache is not used.\n",
      "INFO:simpletransformers.classification.classification_utils: Saving features into cached file /workspace/.cache/cached_dev_electra_256_10_2\n",
      "INFO:simpletransformers.classification.classification_model:{'mcc': 0.749298248506891, 'acc': 0.783068783068783, 'eval_loss': 0.7731204032897949}\n"
     ]
    },
    {
     "data": {
      "application/vnd.jupyter.widget-view+json": {
       "model_id": "aefcc4dbb7334b94a0b739c4b6ab68fe",
       "version_major": 2,
       "version_minor": 0
      },
      "text/plain": [
       "Running Epoch 3 of 10:   0%|          | 0/42 [00:00<?, ?it/s]"
      ]
     },
     "metadata": {},
     "output_type": "display_data"
    },
    {
     "name": "stderr",
     "output_type": "stream",
     "text": [
      "INFO:simpletransformers.classification.classification_utils: Converting to features started. Cache is not used.\n",
      "INFO:simpletransformers.classification.classification_utils: Saving features into cached file /workspace/.cache/cached_dev_electra_256_10_2\n",
      "INFO:simpletransformers.classification.classification_model:{'mcc': 0.7742315477284243, 'acc': 0.8049886621315193, 'eval_loss': 0.6826499429616061}\n"
     ]
    },
    {
     "data": {
      "application/vnd.jupyter.widget-view+json": {
       "model_id": "4b59f2c04aeb4388a96bf7a5922dfdd9",
       "version_major": 2,
       "version_minor": 0
      },
      "text/plain": [
       "Running Epoch 4 of 10:   0%|          | 0/42 [00:00<?, ?it/s]"
      ]
     },
     "metadata": {},
     "output_type": "display_data"
    },
    {
     "name": "stderr",
     "output_type": "stream",
     "text": [
      "INFO:simpletransformers.classification.classification_utils: Converting to features started. Cache is not used.\n",
      "INFO:simpletransformers.classification.classification_utils: Saving features into cached file /workspace/.cache/cached_dev_electra_256_10_2\n",
      "INFO:simpletransformers.classification.classification_model:{'mcc': 0.8042060041106648, 'acc': 0.8306878306878307, 'eval_loss': 0.6483639587055553}\n"
     ]
    },
    {
     "data": {
      "application/vnd.jupyter.widget-view+json": {
       "model_id": "c665eab1914f49dbaec71571208527d0",
       "version_major": 2,
       "version_minor": 0
      },
      "text/plain": [
       "Running Epoch 5 of 10:   0%|          | 0/42 [00:00<?, ?it/s]"
      ]
     },
     "metadata": {},
     "output_type": "display_data"
    },
    {
     "name": "stderr",
     "output_type": "stream",
     "text": [
      "INFO:simpletransformers.classification.classification_utils: Converting to features started. Cache is not used.\n",
      "INFO:simpletransformers.classification.classification_utils: Saving features into cached file /workspace/.cache/cached_dev_electra_256_10_2\n",
      "INFO:simpletransformers.classification.classification_model:{'mcc': 0.8084240469908484, 'acc': 0.8344671201814059, 'eval_loss': 0.6348272562026978}\n"
     ]
    },
    {
     "data": {
      "application/vnd.jupyter.widget-view+json": {
       "model_id": "05c33177fab647b187e3d748c3adaaa8",
       "version_major": 2,
       "version_minor": 0
      },
      "text/plain": [
       "Running Epoch 6 of 10:   0%|          | 0/42 [00:00<?, ?it/s]"
      ]
     },
     "metadata": {},
     "output_type": "display_data"
    },
    {
     "name": "stderr",
     "output_type": "stream",
     "text": [
      "INFO:simpletransformers.classification.classification_utils: Converting to features started. Cache is not used.\n",
      "INFO:simpletransformers.classification.classification_utils: Saving features into cached file /workspace/.cache/cached_dev_electra_256_10_2\n",
      "INFO:simpletransformers.classification.classification_model:{'mcc': 0.8041757582507306, 'acc': 0.8306878306878307, 'eval_loss': 0.6424735730344598}\n"
     ]
    },
    {
     "data": {
      "application/vnd.jupyter.widget-view+json": {
       "model_id": "f9a9cb4d88184bd3b678f419e5fabee2",
       "version_major": 2,
       "version_minor": 0
      },
      "text/plain": [
       "Running Epoch 7 of 10:   0%|          | 0/42 [00:00<?, ?it/s]"
      ]
     },
     "metadata": {},
     "output_type": "display_data"
    },
    {
     "name": "stderr",
     "output_type": "stream",
     "text": [
      "INFO:simpletransformers.classification.classification_utils: Converting to features started. Cache is not used.\n",
      "INFO:simpletransformers.classification.classification_utils: Saving features into cached file /workspace/.cache/cached_dev_electra_256_10_2\n",
      "INFO:simpletransformers.classification.classification_model:{'mcc': 0.805954927572994, 'acc': 0.8321995464852607, 'eval_loss': 0.6535684954036366}\n"
     ]
    },
    {
     "data": {
      "application/vnd.jupyter.widget-view+json": {
       "model_id": "5257c70de97549509dd40634210d6753",
       "version_major": 2,
       "version_minor": 0
      },
      "text/plain": [
       "Running Epoch 8 of 10:   0%|          | 0/42 [00:00<?, ?it/s]"
      ]
     },
     "metadata": {},
     "output_type": "display_data"
    },
    {
     "name": "stderr",
     "output_type": "stream",
     "text": [
      "INFO:simpletransformers.classification.classification_utils: Converting to features started. Cache is not used.\n",
      "INFO:simpletransformers.classification.classification_utils: Saving features into cached file /workspace/.cache/cached_dev_electra_256_10_2\n",
      "INFO:simpletransformers.classification.classification_model:{'mcc': 0.8067716627733474, 'acc': 0.8329554043839759, 'eval_loss': 0.6609686613082886}\n"
     ]
    },
    {
     "data": {
      "application/vnd.jupyter.widget-view+json": {
       "model_id": "622fc3417e7e451e95b07e65acdcaa8e",
       "version_major": 2,
       "version_minor": 0
      },
      "text/plain": [
       "Running Epoch 9 of 10:   0%|          | 0/42 [00:00<?, ?it/s]"
      ]
     },
     "metadata": {},
     "output_type": "display_data"
    },
    {
     "name": "stderr",
     "output_type": "stream",
     "text": [
      "INFO:simpletransformers.classification.classification_utils: Converting to features started. Cache is not used.\n",
      "INFO:simpletransformers.classification.classification_utils: Saving features into cached file /workspace/.cache/cached_dev_electra_256_10_2\n",
      "INFO:simpletransformers.classification.classification_model:{'mcc': 0.8094637852091993, 'acc': 0.8352229780801209, 'eval_loss': 0.6675720485773954}\n",
      "INFO:simpletransformers.classification.classification_model: Training of electra model complete. Saved to /workspace/projects/ekorpkit-book/exmaples/esg/models/esg_topics_cved-classification.\n",
      "INFO:simpletransformers.classification.classification_utils: Converting to features started. Cache is not used.\n",
      "INFO:simpletransformers.classification.classification_utils: Saving features into cached file /workspace/.cache/cached_dev_electra_256_10_2\n"
     ]
    },
    {
     "data": {
      "application/vnd.jupyter.widget-view+json": {
       "model_id": "bda58353b7d7494cbff974d96fa72812",
       "version_major": 2,
       "version_minor": 0
      },
      "text/plain": [
       "Running Evaluation:   0%|          | 0/13 [00:00<?, ?it/s]"
      ]
     },
     "metadata": {},
     "output_type": "display_data"
    },
    {
     "name": "stderr",
     "output_type": "stream",
     "text": [
      "INFO:simpletransformers.classification.classification_model: Initializing WandB run for evaluation.\n"
     ]
    },
    {
     "data": {
      "application/vnd.jupyter.widget-view+json": {
       "model_id": "9fa788f5dae24f7c808437049778bdca",
       "version_major": 2,
       "version_minor": 0
      },
      "text/plain": [
       "VBox(children=(Label(value='Waiting for wandb.init()...\\r'), FloatProgress(value=0.01666889858315699, max=1.0)…"
      ]
     },
     "metadata": {},
     "output_type": "display_data"
    },
    {
     "name": "stderr",
     "output_type": "stream",
     "text": [
      "INFO:simpletransformers.classification.classification_model:{'mcc': 0.8075116052276107, 'acc': 0.8330308529945554, 'eval_loss': 0.6560884118080139}\n",
      "INFO:ekorpkit.config:Saving config to /workspace/projects/ekorpkit-book/exmaples/esg/outputs/esg_topics_cved/configs/esg_topics_cved(4)_config.yaml\n"
     ]
    },
    {
     "name": "stdout",
     "output_type": "stream",
     "text": [
      "time: 6min 14s (started: 2023-01-05 07:53:47 +00:00)\n"
     ]
    }
   ],
   "source": [
    "smt.train()"
   ]
  },
  {
   "cell_type": "code",
   "execution_count": 42,
   "metadata": {
    "pycharm": {
     "name": "#%%\n"
    },
    "scrolled": false
   },
   "outputs": [
    {
     "name": "stderr",
     "output_type": "stream",
     "text": [
      "INFO:ekorpkit.models.transformer.simple:Loaded model from /workspace/projects/ekorpkit-book/exmaples/esg/models/esg_topics_cved-classification/best_model\n",
      "INFO:simpletransformers.classification.classification_utils: Converting to features started. Cache is not used.\n"
     ]
    },
    {
     "data": {
      "application/vnd.jupyter.widget-view+json": {
       "model_id": "f07a95ab46fd4901b98edd47e8693612",
       "version_major": 2,
       "version_minor": 0
      },
      "text/plain": [
       "  0%|          | 0/13 [00:00<?, ?it/s]"
      ]
     },
     "metadata": {},
     "output_type": "display_data"
    },
    {
     "name": "stderr",
     "output_type": "stream",
     "text": [
      "INFO:ekorpkit.models.transformer.simple:type of raw_outputs: <class 'numpy.ndarray'>\n",
      "INFO:ekorpkit.models.transformer.simple:raw_output: [-0.76133126 -1.24045217 -0.90773559  1.68788004 -1.41476214  1.18595886\n",
      " -1.29130387  2.0727551   1.57164252 -1.33854187]\n",
      "INFO:ekorpkit.io.file:Saving dataframe to /workspace/projects/ekorpkit-book/exmaples/esg/outputs/esg_topics_cved/esg_topics_cved(4)_preds.parquet\n"
     ]
    },
    {
     "name": "stdout",
     "output_type": "stream",
     "text": [
      "Accuracy:  0.8257713248638838\n",
      "Precison:  0.8275765712628258\n",
      "Recall:  0.8257713248638838\n",
      "F1 Score:  0.8231304507724357\n",
      "Model Report: \n",
      "___________________________________________________\n",
      "                  precision    recall  f1-score   support\n",
      "\n",
      "          E-기후변화       0.80      0.85      0.82       118\n",
      "          E-환경영향       0.77      0.62      0.69        76\n",
      "          E-환경혁신       0.80      0.75      0.78       142\n",
      "   G-기업윤리/불공정/소송       0.85      0.74      0.79       180\n",
      "          G-지배구조       0.89      0.86      0.87       263\n",
      "            S-고용       0.87      0.90      0.89       265\n",
      "S-기업(공급망)동반성장/상생       0.80      0.57      0.67        70\n",
      "          S-사회공헌       0.76      0.88      0.82       118\n",
      "           S-소비자       0.79      0.92      0.85       355\n",
      "       S-재해/안전관리       0.88      0.68      0.77        66\n",
      "\n",
      "        accuracy                           0.83      1653\n",
      "       macro avg       0.82      0.78      0.79      1653\n",
      "    weighted avg       0.83      0.83      0.82      1653\n",
      "\n"
     ]
    },
    {
     "name": "stderr",
     "output_type": "stream",
     "text": [
      "INFO:ekorpkit.visualize.base:Saved figure to /workspace/projects/ekorpkit-book/exmaples/esg/outputs/esg_topics_cved/esg_topics_cved(4)_confusion_matrix.png\n"
     ]
    },
    {
     "data": {
      "image/png": "[encoded data removed]",
      "text/plain": [
       "<Figure size 864x720 with 2 Axes>"
      ]
     },
     "metadata": {
      "image/png": {
       "height": 691,
       "width": 789
      }
     },
     "output_type": "display_data"
    },
    {
     "name": "stdout",
     "output_type": "stream",
     "text": [
      "time: 5.6 s (started: 2023-01-05 08:00:02 +00:00)\n"
     ]
    }
   ],
   "source": [
    "smt.model.eval.visualize.plot.confusion_matrix.include_values = False\n",
    "smt.model.eval.visualize.plot.confusion_matrix.include_percentages = False\n",
    "smt.model.eval.visualize.plot.figure.figsize = (12,10)\n",
    "smt.eval()"
   ]
  },
  {
   "cell_type": "markdown",
   "metadata": {},
   "source": [
    "## Load data to predict"
   ]
  },
  {
   "cell_type": "code",
   "execution_count": 43,
   "metadata": {
    "pycharm": {
     "name": "#%%\n"
    }
   },
   "outputs": [
    {
     "name": "stdout",
     "output_type": "stream",
     "text": [
      "(1833910, 3)\n"
     ]
    },
    {
     "data": {
      "text/html": [
       "<div>\n",
       "<style scoped>\n",
       "    .dataframe tbody tr th:only-of-type {\n",
       "        vertical-align: middle;\n",
       "    }\n",
       "\n",
       "    .dataframe tbody tr th {\n",
       "        vertical-align: top;\n",
       "    }\n",
       "\n",
       "    .dataframe thead th {\n",
       "        text-align: right;\n",
       "    }\n",
       "</style>\n",
       "<table border=\"1\" class=\"dataframe\">\n",
       "  <thead>\n",
       "    <tr style=\"text-align: right;\">\n",
       "      <th></th>\n",
       "      <th>text</th>\n",
       "      <th>chunk_id</th>\n",
       "      <th>filename</th>\n",
       "    </tr>\n",
       "  </thead>\n",
       "  <tbody>\n",
       "    <tr>\n",
       "      <th>0</th>\n",
       "      <td>■ 이슈 &amp; 피플 (1일 오전 11시 30분) 신축년 새해가 밝았다  팬데믹이라는...</td>\n",
       "      <td>0</td>\n",
       "      <td>02100101.20210101002609003.txt</td>\n",
       "    </tr>\n",
       "    <tr>\n",
       "      <th>1</th>\n",
       "      <td>코로나19 팬데믹을 이겨내리라는 희망을 갖는 신축년(辛丑年) 소의 해다  근면, ...</td>\n",
       "      <td>0</td>\n",
       "      <td>02100101.20210101002610001.txt</td>\n",
       "    </tr>\n",
       "    <tr>\n",
       "      <th>2</th>\n",
       "      <td>정부는 금년도 경제성장률 전망을 3 2% 정도로 봤다  이대로만 되면 상대적으로 ...</td>\n",
       "      <td>0</td>\n",
       "      <td>02100101.20210101002615001.txt</td>\n",
       "    </tr>\n",
       "    <tr>\n",
       "      <th>3</th>\n",
       "      <td>◆ 신년기획 2021 경제기상도 / 해외경제 전망 ◆ 코로나19로 최악의 터널을 ...</td>\n",
       "      <td>0</td>\n",
       "      <td>02100101.20210101040137001.txt</td>\n",
       "    </tr>\n",
       "    <tr>\n",
       "      <th>4</th>\n",
       "      <td>◆ 신년기획 2021 경제기상도 / 해외경제 전망 ◆ 중국 경제는 2021년 더욱...</td>\n",
       "      <td>0</td>\n",
       "      <td>02100101.20210101040138001.txt</td>\n",
       "    </tr>\n",
       "  </tbody>\n",
       "</table>\n",
       "</div>"
      ],
      "text/plain": [
       "                                                text  chunk_id  \\\n",
       "0   ■ 이슈 & 피플 (1일 오전 11시 30분) 신축년 새해가 밝았다  팬데믹이라는...         0   \n",
       "1   코로나19 팬데믹을 이겨내리라는 희망을 갖는 신축년(辛丑年) 소의 해다  근면, ...         0   \n",
       "2   정부는 금년도 경제성장률 전망을 3 2% 정도로 봤다  이대로만 되면 상대적으로 ...         0   \n",
       "3   ◆ 신년기획 2021 경제기상도 / 해외경제 전망 ◆ 코로나19로 최악의 터널을 ...         0   \n",
       "4   ◆ 신년기획 2021 경제기상도 / 해외경제 전망 ◆ 중국 경제는 2021년 더욱...         0   \n",
       "\n",
       "                         filename  \n",
       "0  02100101.20210101002609003.txt  \n",
       "1  02100101.20210101002610001.txt  \n",
       "2  02100101.20210101002615001.txt  \n",
       "3  02100101.20210101040137001.txt  \n",
       "4  02100101.20210101040138001.txt  "
      ]
     },
     "execution_count": 43,
     "metadata": {},
     "output_type": "execute_result"
    },
    {
     "name": "stdout",
     "output_type": "stream",
     "text": [
      "time: 13.6 s (started: 2023-01-05 08:00:07 +00:00)\n"
     ]
    }
   ],
   "source": [
    "news_data_dir = ws.project_dir / \"esg/data/econ_news_kr/news_slice\"\n",
    "\n",
    "chunk_data = eKonf.load_data(\n",
    "    \"econ_news_kr_chunks_*_20220911.parquet\", news_data_dir, concatenate=True\n",
    ")\n",
    "print(chunk_data.shape)\n",
    "chunk_data.head()"
   ]
  },
  {
   "cell_type": "code",
   "execution_count": null,
   "metadata": {},
   "outputs": [
    {
     "name": "stdout",
     "output_type": "stream",
     "text": [
      "<class 'pandas.core.frame.DataFrame'>\n",
      "Int64Index: 1833910 entries, 0 to 785336\n",
      "Data columns (total 3 columns):\n",
      " #   Column    Dtype \n",
      "---  ------    ----- \n",
      " 0   text      object\n",
      " 1   chunk_id  int64 \n",
      " 2   filename  object\n",
      "dtypes: int64(1), object(2)\n",
      "memory usage: 56.0+ MB\n",
      "time: 3.93 ms (started: 2022-12-29 10:49:56 +00:00)\n"
     ]
    }
   ],
   "source": [
    "chunk_data.info() "
   ]
  },
  {
   "cell_type": "markdown",
   "metadata": {},
   "source": [
    "## Load company code info\n"
   ]
  },
  {
   "cell_type": "code",
   "execution_count": null,
   "metadata": {},
   "outputs": [
    {
     "name": "stderr",
     "output_type": "stream",
     "text": [
      "INFO:ekorpkit.io.load.data:==> processing 1/3 files <==\n",
      "INFO:ekorpkit.io.parse.json:Number of data in the contents: 110689\n",
      "INFO:ekorpkit.io.load.data:==> processing 2/3 files <==\n",
      "INFO:ekorpkit.io.parse.json:Number of data in the contents: 281398\n",
      "INFO:ekorpkit.io.load.data:==> processing 3/3 files <==\n",
      "INFO:ekorpkit.io.parse.json:Number of data in the contents: 251404\n"
     ]
    },
    {
     "name": "stdout",
     "output_type": "stream",
     "text": [
      "{'filename': 'econ_news_kr_chunks_2022_code_20221229.txt', 'codes': '02100101.20220101002520005,1,005380'}\n"
     ]
    },
    {
     "data": {
      "text/html": [
       "<div>\n",
       "<style scoped>\n",
       "    .dataframe tbody tr th:only-of-type {\n",
       "        vertical-align: middle;\n",
       "    }\n",
       "\n",
       "    .dataframe tbody tr th {\n",
       "        vertical-align: top;\n",
       "    }\n",
       "\n",
       "    .dataframe thead th {\n",
       "        text-align: right;\n",
       "    }\n",
       "</style>\n",
       "<table border=\"1\" class=\"dataframe\">\n",
       "  <thead>\n",
       "    <tr style=\"text-align: right;\">\n",
       "      <th></th>\n",
       "      <th>filename</th>\n",
       "      <th>codes</th>\n",
       "    </tr>\n",
       "  </thead>\n",
       "  <tbody>\n",
       "    <tr>\n",
       "      <th>643486</th>\n",
       "      <td>econ_news_kr_chunks_2020_code_20221229.txt</td>\n",
       "      <td>02100851.20201231140203001,0,001680</td>\n",
       "    </tr>\n",
       "    <tr>\n",
       "      <th>643487</th>\n",
       "      <td>econ_news_kr_chunks_2020_code_20221229.txt</td>\n",
       "      <td>02100851.20201231141813001,0,001750</td>\n",
       "    </tr>\n",
       "    <tr>\n",
       "      <th>643488</th>\n",
       "      <td>econ_news_kr_chunks_2020_code_20221229.txt</td>\n",
       "      <td>02100851.20201231164457001,0,000660</td>\n",
       "    </tr>\n",
       "    <tr>\n",
       "      <th>643489</th>\n",
       "      <td>econ_news_kr_chunks_2020_code_20221229.txt</td>\n",
       "      <td>02100851.20201231171734001,0,006360</td>\n",
       "    </tr>\n",
       "    <tr>\n",
       "      <th>643490</th>\n",
       "      <td>econ_news_kr_chunks_2020_code_20221229.txt</td>\n",
       "      <td>02100851.20201231204324001,0,068270</td>\n",
       "    </tr>\n",
       "  </tbody>\n",
       "</table>\n",
       "</div>"
      ],
      "text/plain": [
       "                                          filename  \\\n",
       "643486  econ_news_kr_chunks_2020_code_20221229.txt   \n",
       "643487  econ_news_kr_chunks_2020_code_20221229.txt   \n",
       "643488  econ_news_kr_chunks_2020_code_20221229.txt   \n",
       "643489  econ_news_kr_chunks_2020_code_20221229.txt   \n",
       "643490  econ_news_kr_chunks_2020_code_20221229.txt   \n",
       "\n",
       "                                      codes  \n",
       "643486  02100851.20201231140203001,0,001680  \n",
       "643487  02100851.20201231141813001,0,001750  \n",
       "643488  02100851.20201231164457001,0,000660  \n",
       "643489  02100851.20201231171734001,0,006360  \n",
       "643490  02100851.20201231204324001,0,068270  "
      ]
     },
     "execution_count": 5,
     "metadata": {},
     "output_type": "execute_result"
    },
    {
     "name": "stdout",
     "output_type": "stream",
     "text": [
      "time: 1min (started: 2022-12-29 10:50:06 +00:00)\n"
     ]
    }
   ],
   "source": [
    "cfg = eKonf.compose(\"io/loader=plaintext_parser\")\n",
    "cfg.data_dir = news_data_dir\n",
    "cfg.data_sources = \"econ_news_kr_chunks_*_20221229.txt\"\n",
    "cfg.data.item = dict(filename=\"filename\", codes=\"codes\")\n",
    "cfg.parser.split = True\n",
    "cfg.parser.data_key = \"codes\"\n",
    "cfg.parser.progress_per = None\n",
    "code_info = eKonf.load_data(**cfg)\n",
    "code_info.tail()"
   ]
  },
  {
   "cell_type": "code",
   "execution_count": null,
   "metadata": {},
   "outputs": [
    {
     "name": "stdout",
     "output_type": "stream",
     "text": [
      "time: 2.63 s (started: 2022-12-29 10:51:16 +00:00)\n"
     ]
    }
   ],
   "source": [
    "code_info_available = code_info.copy()\n",
    "code_info_available[\"filename\"] = code_info_available.codes.str[:26] + \".txt\"\n",
    "code_info_available[\"codes\"] = code_info_available.codes.str[27:]\n",
    "code_info_available[\"codes\"] = code_info_available.codes.str.split(\",\")\n",
    "code_info_available[\"chunk_id\"] = code_info_available.codes.apply(lambda x: int(x[0]))\n",
    "code_info_available[\"codes\"] = code_info_available.codes.apply(lambda x: x[1:])\n",
    "code_info_available[\"num_codes\"] = code_info_available[\"codes\"].apply(len)\n",
    "code_info_available = code_info_available.explode(\"codes\").reset_index(drop=True)\n"
   ]
  },
  {
   "cell_type": "code",
   "execution_count": null,
   "metadata": {},
   "outputs": [
    {
     "data": {
      "text/plain": [
       "2275"
      ]
     },
     "execution_count": 7,
     "metadata": {},
     "output_type": "execute_result"
    },
    {
     "name": "stdout",
     "output_type": "stream",
     "text": [
      "time: 54.1 ms (started: 2022-12-29 10:51:20 +00:00)\n"
     ]
    }
   ],
   "source": [
    "len(code_info_available.codes.unique())"
   ]
  },
  {
   "cell_type": "code",
   "execution_count": null,
   "metadata": {},
   "outputs": [
    {
     "name": "stderr",
     "output_type": "stream",
     "text": [
      "INFO:ekorpkit.io.file:Saving dataframe to /workspace/projects/ekorpkit-book/exmaples/esg/data/econ_news_kr/news_slice/econ_news_code_info_available_20221229.parquet\n"
     ]
    },
    {
     "name": "stdout",
     "output_type": "stream",
     "text": [
      "(694599, 4)\n",
      "<class 'pandas.core.frame.DataFrame'>\n",
      "RangeIndex: 694599 entries, 0 to 694598\n",
      "Data columns (total 4 columns):\n",
      " #   Column     Non-Null Count   Dtype \n",
      "---  ------     --------------   ----- \n",
      " 0   filename   694599 non-null  object\n",
      " 1   codes      694599 non-null  object\n",
      " 2   chunk_id   694599 non-null  int64 \n",
      " 3   num_codes  694599 non-null  int64 \n",
      "dtypes: int64(2), object(2)\n",
      "memory usage: 21.2+ MB\n",
      "time: 3.12 s (started: 2022-12-29 10:51:46 +00:00)\n"
     ]
    }
   ],
   "source": [
    "code_info_available = code_info.copy()\n",
    "code_info_available[\"filename\"] = code_info_available.codes.str[:26] + \".txt\"\n",
    "code_info_available[\"codes\"] = code_info_available.codes.str[27:]\n",
    "code_info_available[\"codes\"] = code_info_available.codes.str.split(\",\")\n",
    "code_info_available[\"chunk_id\"] = code_info_available.codes.apply(lambda x: int(x[0]))\n",
    "code_info_available[\"codes\"] = code_info_available.codes.apply(lambda x: x[1:])\n",
    "code_info_available[\"num_codes\"] = code_info_available[\"codes\"].apply(len)\n",
    "code_info_available = code_info_available.explode(\"codes\").reset_index(drop=True)\n",
    "\n",
    "eKonf.save_data(code_info_available, \"econ_news_code_info_available_20221229.parquet\", news_data_dir)\n",
    "print(code_info_available.shape)\n",
    "code_info_available.info()"
   ]
  },
  {
   "cell_type": "code",
   "execution_count": null,
   "metadata": {},
   "outputs": [
    {
     "name": "stderr",
     "output_type": "stream",
     "text": [
      "INFO:ekorpkit.io.file:Saving dataframe to /workspace/projects/ekorpkit-book/exmaples/esg/data/econ_news_kr/news_slice/econ_news_filtered_202201229.parquet\n"
     ]
    },
    {
     "name": "stdout",
     "output_type": "stream",
     "text": [
      "(718453, 4)\n",
      "time: 1min 7s (started: 2022-12-29 10:52:00 +00:00)\n"
     ]
    }
   ],
   "source": [
    "filtered_data = chunk_data.merge(\n",
    "    code_info_available, on=[\"filename\", \"chunk_id\"], how=\"inner\"\n",
    ")\n",
    "cols = [\"filename\", \"chunk_id\", \"text\", \"codes\"]\n",
    "filtered_data = filtered_data[cols]\n",
    "eKonf.save_data(filtered_data, \"econ_news_filtered_202201229.parquet\", news_data_dir)\n",
    "print(filtered_data.shape)"
   ]
  },
  {
   "cell_type": "markdown",
   "metadata": {},
   "source": [
    "## Filter out invalid data"
   ]
  },
  {
   "cell_type": "code",
   "execution_count": null,
   "metadata": {},
   "outputs": [
    {
     "name": "stderr",
     "output_type": "stream",
     "text": [
      "2022-12-29 10:53:25.970902: I tensorflow/core/platform/cpu_feature_guard.cc:193] This TensorFlow binary is optimized with oneAPI Deep Neural Network Library (oneDNN) to use the following CPU instructions in performance-critical operations:  AVX2 FMA\n",
      "To enable them in other operations, rebuild TensorFlow with the appropriate compiler flags.\n",
      "INFO:ekorpkit.models.transformer.simple:Loaded model from /workspace/projects/ekorpkit-book/exmaples/esg/models/esg_topic_invalid_cved-classification\n"
     ]
    },
    {
     "name": "stdout",
     "output_type": "stream",
     "text": [
      "time: 7.21 s (started: 2022-12-29 10:53:25 +00:00)\n"
     ]
    }
   ],
   "source": [
    "from ekorpkit.models.transformer.simple import SimpleClassification\n",
    "\n",
    "cfg = eKonf.compose(\"task=simple.classification\")\n",
    "cfg.name = \"esg_topic_invalid_cved\"\n",
    "cfg.model.model_name_or_path = f\"{cfg.path.model_dir}/{cfg.name}-classification\"\n",
    "\n",
    "sm_inval = SimpleClassification(**cfg)\n",
    "sm_inval.load_model(sm_inval.model.model_name_or_path)"
   ]
  },
  {
   "cell_type": "code",
   "execution_count": null,
   "metadata": {},
   "outputs": [
    {
     "name": "stderr",
     "output_type": "stream",
     "text": [
      "INFO:simpletransformers.classification.classification_utils: Converting to features started. Cache is not used.\n"
     ]
    },
    {
     "data": {
      "application/vnd.jupyter.widget-view+json": {
       "model_id": "d5188fc9c4444b1eb47cb0f263adc02a",
       "version_major": 2,
       "version_minor": 0
      },
      "text/plain": [
       "  0%|          | 0/14968 [00:00<?, ?it/s]"
      ]
     },
     "metadata": {},
     "output_type": "display_data"
    },
    {
     "name": "stderr",
     "output_type": "stream",
     "text": [
      "INFO:ekorpkit.models.transformer.simple:type of raw_outputs: <class 'numpy.ndarray'>\n",
      "INFO:ekorpkit.models.transformer.simple:raw_output: [ 2.32296014 -2.33493686]\n",
      "INFO:ekorpkit.io.file:Saving dataframe to /workspace/projects/ekorpkit-book/exmaples/esg/outputs/esg_topic_invalid_cved/esg_topic_invalid_cved(2)_preds.parquet\n"
     ]
    },
    {
     "name": "stdout",
     "output_type": "stream",
     "text": [
      "time: 1h 30min 23s (started: 2022-12-29 10:53:38 +00:00)\n"
     ]
    }
   ],
   "source": [
    "invalid_preds_df = sm_inval.predict(filtered_data)"
   ]
  },
  {
   "cell_type": "code",
   "execution_count": null,
   "metadata": {},
   "outputs": [
    {
     "name": "stderr",
     "output_type": "stream",
     "text": [
      "INFO:ekorpkit.io.file:Saving dataframe to /workspace/projects/ekorpkit-book/exmaples/esg/data/econ_news_kr/news_slice/esg_news_valid_20221229.parquet\n"
     ]
    },
    {
     "name": "stdout",
     "output_type": "stream",
     "text": [
      "(558923, 4)\n",
      "time: 1min 3s (started: 2022-12-29 12:24:02 +00:00)\n"
     ]
    }
   ],
   "source": [
    "cols = [\"filename\", \"chunk_id\", \"text\", \"codes\"]\n",
    "valid_data = invalid_preds_df[invalid_preds_df.pred_labels == \"Validated\"][cols]\n",
    "print(valid_data.shape)\n",
    "filename = \"esg_news_valid_20221229.parquet\"\n",
    "eKonf.save_data(valid_data, filename, news_data_dir)"
   ]
  },
  {
   "cell_type": "code",
   "execution_count": null,
   "metadata": {},
   "outputs": [
    {
     "data": {
      "text/html": [
       "<div>\n",
       "<style scoped>\n",
       "    .dataframe tbody tr th:only-of-type {\n",
       "        vertical-align: middle;\n",
       "    }\n",
       "\n",
       "    .dataframe tbody tr th {\n",
       "        vertical-align: top;\n",
       "    }\n",
       "\n",
       "    .dataframe thead th {\n",
       "        text-align: right;\n",
       "    }\n",
       "</style>\n",
       "<table border=\"1\" class=\"dataframe\">\n",
       "  <thead>\n",
       "    <tr style=\"text-align: right;\">\n",
       "      <th></th>\n",
       "      <th>text</th>\n",
       "      <th>filename</th>\n",
       "      <th>chunk_id</th>\n",
       "      <th>codes</th>\n",
       "    </tr>\n",
       "  </thead>\n",
       "  <tbody>\n",
       "    <tr>\n",
       "      <th>0</th>\n",
       "      <td>◆ 2020 경제기상도 / 업종별 전망 (반도체) ◆ 지난해 미·중 무역분쟁과 공...</td>\n",
       "      <td>02100101.20200101040200001.txt</td>\n",
       "      <td>0</td>\n",
       "      <td>000660</td>\n",
       "    </tr>\n",
       "    <tr>\n",
       "      <th>2</th>\n",
       "      <td>◆ 2020 경제기상도 / 업종별 전망 (가전) ◆ TV, 냉장고, 세탁기 등 전...</td>\n",
       "      <td>02100101.20200101040200002.txt</td>\n",
       "      <td>0</td>\n",
       "      <td>066570</td>\n",
       "    </tr>\n",
       "    <tr>\n",
       "      <th>3</th>\n",
       "      <td>◆ 2020 경제기상도 / 업종별 전망 (가전) ◆ TV, 냉장고, 세탁기 등 전...</td>\n",
       "      <td>02100101.20200101040200002.txt</td>\n",
       "      <td>0</td>\n",
       "      <td>005930</td>\n",
       "    </tr>\n",
       "    <tr>\n",
       "      <th>4</th>\n",
       "      <td>◆ 2020 경제기상도 / 업종별 전망 (디스플레이) ◆ 액정표시장치(LCD) 시...</td>\n",
       "      <td>02100101.20200101040201001.txt</td>\n",
       "      <td>0</td>\n",
       "      <td>034220</td>\n",
       "    </tr>\n",
       "    <tr>\n",
       "      <th>5</th>\n",
       "      <td>디스플레이 업계 등에서는 삼성과 LG가 글로벌 디스플레이 시장에서 중국 업체의 L...</td>\n",
       "      <td>02100101.20200101040201001.txt</td>\n",
       "      <td>1</td>\n",
       "      <td>003550</td>\n",
       "    </tr>\n",
       "  </tbody>\n",
       "</table>\n",
       "</div>"
      ],
      "text/plain": [
       "                                                text  \\\n",
       "0   ◆ 2020 경제기상도 / 업종별 전망 (반도체) ◆ 지난해 미·중 무역분쟁과 공...   \n",
       "2   ◆ 2020 경제기상도 / 업종별 전망 (가전) ◆ TV, 냉장고, 세탁기 등 전...   \n",
       "3   ◆ 2020 경제기상도 / 업종별 전망 (가전) ◆ TV, 냉장고, 세탁기 등 전...   \n",
       "4   ◆ 2020 경제기상도 / 업종별 전망 (디스플레이) ◆ 액정표시장치(LCD) 시...   \n",
       "5   디스플레이 업계 등에서는 삼성과 LG가 글로벌 디스플레이 시장에서 중국 업체의 L...   \n",
       "\n",
       "                         filename  chunk_id   codes  \n",
       "0  02100101.20200101040200001.txt         0  000660  \n",
       "2  02100101.20200101040200002.txt         0  066570  \n",
       "3  02100101.20200101040200002.txt         0  005930  \n",
       "4  02100101.20200101040201001.txt         0  034220  \n",
       "5  02100101.20200101040201001.txt         1  003550  "
      ]
     },
     "execution_count": 13,
     "metadata": {},
     "output_type": "execute_result"
    },
    {
     "name": "stdout",
     "output_type": "stream",
     "text": [
      "time: 7 s (started: 2022-12-29 12:25:05 +00:00)\n"
     ]
    }
   ],
   "source": [
    "news_data_dir = ws.project_dir / \"esg/data/econ_news_kr/news_slice\"\n",
    "filename = \"esg_news_valid_20221229.parquet\"\n",
    "\n",
    "valid_data = eKonf.load_data(filename, news_data_dir)\n",
    "cols = [\"text\", \"filename\", \"chunk_id\", \"codes\"]\n",
    "valid_data[cols].head()"
   ]
  },
  {
   "cell_type": "markdown",
   "metadata": {},
   "source": [
    "## Predict polarities"
   ]
  },
  {
   "cell_type": "code",
   "execution_count": null,
   "metadata": {},
   "outputs": [
    {
     "name": "stderr",
     "output_type": "stream",
     "text": [
      "INFO:ekorpkit.models.transformer.simple:Loaded model from /workspace/projects/ekorpkit-book/exmaples/esg/models/esg_polarity_validated-classification\n"
     ]
    },
    {
     "name": "stdout",
     "output_type": "stream",
     "text": [
      "time: 4.78 s (started: 2022-12-29 12:25:12 +00:00)\n"
     ]
    }
   ],
   "source": [
    "from ekorpkit.models.transformer.simple import SimpleClassification\n",
    "\n",
    "cfg = eKonf.compose(\"task=simple.classification\")\n",
    "cfg.name = \"esg_polarity_validated\"\n",
    "cfg.model.model_name_or_path = f\"{cfg.path.model_dir}/{cfg.name}-classification\"\n",
    "\n",
    "sm_pol = SimpleClassification(**cfg)\n",
    "sm_pol.load_model(sm_pol.model.model_name_or_path)"
   ]
  },
  {
   "cell_type": "code",
   "execution_count": null,
   "metadata": {},
   "outputs": [
    {
     "name": "stderr",
     "output_type": "stream",
     "text": [
      "INFO:simpletransformers.classification.classification_utils: Converting to features started. Cache is not used.\n"
     ]
    },
    {
     "data": {
      "application/vnd.jupyter.widget-view+json": {
       "model_id": "59c9b2e87a3848faa3caffe756ca5c66",
       "version_major": 2,
       "version_minor": 0
      },
      "text/plain": [
       "  0%|          | 0/4367 [00:00<?, ?it/s]"
      ]
     },
     "metadata": {},
     "output_type": "display_data"
    },
    {
     "name": "stderr",
     "output_type": "stream",
     "text": [
      "INFO:ekorpkit.models.transformer.simple:type of raw_outputs: <class 'numpy.ndarray'>\n",
      "INFO:ekorpkit.models.transformer.simple:raw_output: [ 5.97624731 -3.2472682  -2.35304332]\n",
      "INFO:ekorpkit.io.file:Saving dataframe to /workspace/projects/ekorpkit-book/exmaples/esg/outputs/esg_polarity_validated/esg_polarity_validated(5)_preds.parquet\n",
      "INFO:ekorpkit.io.file:Saving dataframe to /workspace/projects/ekorpkit-book/exmaples/esg/data/econ_news_kr/news_slice/esg_news_polarity_20221229.parquet\n"
     ]
    },
    {
     "name": "stdout",
     "output_type": "stream",
     "text": [
      "time: 36min 51s (started: 2022-12-29 12:25:17 +00:00)\n"
     ]
    }
   ],
   "source": [
    "polarity_preds = sm_pol.predict(valid_data)\n",
    "filename = \"esg_news_polarity_20221229.parquet\"\n",
    "eKonf.save_data(polarity_preds, filename, news_data_dir)"
   ]
  },
  {
   "cell_type": "markdown",
   "metadata": {},
   "source": [
    "## Predicting categories"
   ]
  },
  {
   "cell_type": "code",
   "execution_count": null,
   "metadata": {},
   "outputs": [
    {
     "name": "stderr",
     "output_type": "stream",
     "text": [
      "INFO:ekorpkit.models.transformer.simple:Loaded model from /workspace/projects/ekorpkit-book/exmaples/esg/models/esg_topics_cved-classification\n"
     ]
    },
    {
     "name": "stdout",
     "output_type": "stream",
     "text": [
      "time: 5.5 s (started: 2022-12-29 13:02:08 +00:00)\n"
     ]
    }
   ],
   "source": [
    "from ekorpkit.models.transformer.simple import SimpleClassification\n",
    "\n",
    "cfg = eKonf.compose(\"task=simple.classification\")\n",
    "cfg.name = \"esg_topics_cved\"\n",
    "cfg.model.model_name_or_path = f\"{cfg.path.model_dir}/{cfg.name}-classification\"\n",
    "\n",
    "sm_topic = SimpleClassification(**cfg)\n",
    "sm_topic.load_model(sm_topic.model.model_name_or_path)"
   ]
  },
  {
   "cell_type": "code",
   "execution_count": null,
   "metadata": {},
   "outputs": [
    {
     "name": "stderr",
     "output_type": "stream",
     "text": [
      "INFO:simpletransformers.classification.classification_utils: Converting to features started. Cache is not used.\n"
     ]
    },
    {
     "data": {
      "application/vnd.jupyter.widget-view+json": {
       "model_id": "2e8a4ef0c32d48e995ce480c58929603",
       "version_major": 2,
       "version_minor": 0
      },
      "text/plain": [
       "  0%|          | 0/4367 [00:00<?, ?it/s]"
      ]
     },
     "metadata": {},
     "output_type": "display_data"
    },
    {
     "name": "stderr",
     "output_type": "stream",
     "text": [
      "INFO:ekorpkit.models.transformer.simple:type of raw_outputs: <class 'numpy.ndarray'>\n",
      "INFO:ekorpkit.models.transformer.simple:raw_output: [-0.37897453 -1.43046212 -0.97797042 -1.45200169 -1.20244873  0.19323829\n",
      " -0.10120457  4.33574057 -1.0516876   1.75735104]\n",
      "INFO:ekorpkit.io.file:Saving dataframe to /workspace/projects/ekorpkit-book/exmaples/esg/outputs/esg_topics_cved/esg_topics_cved(4)_preds.parquet\n",
      "INFO:ekorpkit.io.file:Saving dataframe to /workspace/projects/ekorpkit-book/exmaples/esg/data/econ_news_kr/news_slice/esg_news_topic_20221229.parquet\n"
     ]
    },
    {
     "name": "stdout",
     "output_type": "stream",
     "text": [
      "time: 36min 47s (started: 2022-12-29 13:02:14 +00:00)\n"
     ]
    }
   ],
   "source": [
    "topic_preds = sm_topic.predict(valid_data)\n",
    "filename = \"esg_news_topic_20221229.parquet\"\n",
    "eKonf.save_data(topic_preds, filename, news_data_dir)"
   ]
  },
  {
   "cell_type": "code",
   "execution_count": null,
   "metadata": {},
   "outputs": [
    {
     "name": "stderr",
     "output_type": "stream",
     "text": [
      "INFO:ekorpkit.io.file:Saving dataframe to /workspace/projects/ekorpkit-book/exmaples/esg/data/econ_news_kr/news_slice/esg_news_prediction_results_20221229.parquet\n"
     ]
    },
    {
     "name": "stdout",
     "output_type": "stream",
     "text": [
      "time: 1min 22s (started: 2022-12-29 13:39:01 +00:00)\n"
     ]
    }
   ],
   "source": [
    "filename = \"esg_news_topic_20221229.parquet\"\n",
    "topic_preds = eKonf.load_data(filename, news_data_dir)\n",
    "filename = \"esg_news_polarity_20221229.parquet\"\n",
    "polarity_preds = eKonf.load_data(filename, news_data_dir)\n",
    "\n",
    "polarity_data = polarity_preds.rename(columns={\"pred_labels\": \"polairty_preds\"})[\n",
    "    [\"text\", \"filename\", \"chunk_id\", \"codes\", \"polairty_preds\"]\n",
    "]\n",
    "esg_prediction_data = polarity_data.merge(\n",
    "    topic_preds.rename(columns={\"pred_labels\": \"topic_preds\"})[\n",
    "        [\"filename\", \"chunk_id\", \"codes\", \"topic_preds\"]\n",
    "    ],\n",
    "    on=[\"filename\", \"chunk_id\", \"codes\"],\n",
    ")\n",
    "\n",
    "filename = \"esg_news_prediction_results_20221229.parquet\"\n",
    "eKonf.save_data(esg_prediction_data, filename, news_data_dir)"
   ]
  },
  {
   "cell_type": "code",
   "execution_count": null,
   "metadata": {},
   "outputs": [
    {
     "data": {
      "text/html": [
       "<div>\n",
       "<style scoped>\n",
       "    .dataframe tbody tr th:only-of-type {\n",
       "        vertical-align: middle;\n",
       "    }\n",
       "\n",
       "    .dataframe tbody tr th {\n",
       "        vertical-align: top;\n",
       "    }\n",
       "\n",
       "    .dataframe thead th {\n",
       "        text-align: right;\n",
       "    }\n",
       "</style>\n",
       "<table border=\"1\" class=\"dataframe\">\n",
       "  <thead>\n",
       "    <tr style=\"text-align: right;\">\n",
       "      <th></th>\n",
       "      <th>text</th>\n",
       "      <th>filename</th>\n",
       "      <th>chunk_id</th>\n",
       "      <th>codes</th>\n",
       "      <th>polairty_preds</th>\n",
       "      <th>topic_preds</th>\n",
       "    </tr>\n",
       "  </thead>\n",
       "  <tbody>\n",
       "    <tr>\n",
       "      <th>668761</th>\n",
       "      <td>조현준 효성그룹 회장이 내년에는 호랑이처럼 민첩한 조직으로 변화할 것을 주문했다 ...</td>\n",
       "      <td>02100851.20211231104409001.txt</td>\n",
       "      <td>0</td>\n",
       "      <td>004800</td>\n",
       "      <td>Neutral</td>\n",
       "      <td>G-지배구조</td>\n",
       "    </tr>\n",
       "    <tr>\n",
       "      <th>668762</th>\n",
       "      <td>미래에셋 \"직원들 요청 있어\" 내부선 인력유출 우려도   [사진=미래에셋증권]  ...</td>\n",
       "      <td>02100851.20211231112402001.txt</td>\n",
       "      <td>0</td>\n",
       "      <td>006800</td>\n",
       "      <td>Negative</td>\n",
       "      <td>S-고용</td>\n",
       "    </tr>\n",
       "    <tr>\n",
       "      <th>668763</th>\n",
       "      <td>중기부, '손실보상 선지급 금융 프로그램' 신설 방역지원금·방역물품지원금 등도 신...</td>\n",
       "      <td>02100851.20211231112403001.txt</td>\n",
       "      <td>0</td>\n",
       "      <td>001680</td>\n",
       "      <td>Positive</td>\n",
       "      <td>S-사회공헌</td>\n",
       "    </tr>\n",
       "    <tr>\n",
       "      <th>668764</th>\n",
       "      <td>배재훈 HMM 대표가 코로나19로 인한 물류대란과 공급망 변화에 발 빠르게 대응해...</td>\n",
       "      <td>02100851.20211231115157001.txt</td>\n",
       "      <td>0</td>\n",
       "      <td>011200</td>\n",
       "      <td>Neutral</td>\n",
       "      <td>E-환경혁신</td>\n",
       "    </tr>\n",
       "    <tr>\n",
       "      <th>668765</th>\n",
       "      <td>권칠승 중기부 장관[사진=중기부]  권칠승 중소벤처기업부 장관이 31일 신년사를 ...</td>\n",
       "      <td>02100851.20211231143447001.txt</td>\n",
       "      <td>0</td>\n",
       "      <td>001680</td>\n",
       "      <td>Neutral</td>\n",
       "      <td>S-사회공헌</td>\n",
       "    </tr>\n",
       "    <tr>\n",
       "      <th>668766</th>\n",
       "      <td>해외 투지 공로…북미지역 내 소형 트랙터 수요 성장세 김희용 티와이엠(TYM) 회...</td>\n",
       "      <td>02100851.20211231150933001.txt</td>\n",
       "      <td>0</td>\n",
       "      <td>002900</td>\n",
       "      <td>Positive</td>\n",
       "      <td>S-기업(공급망)동반성장/상생</td>\n",
       "    </tr>\n",
       "    <tr>\n",
       "      <th>668767</th>\n",
       "      <td>SKT 952만·KT 615만·LG유플러스 446만 [사진=게티이미지뱅크 제공] ...</td>\n",
       "      <td>02100851.20211231181802001.txt</td>\n",
       "      <td>0</td>\n",
       "      <td>030200</td>\n",
       "      <td>Neutral</td>\n",
       "      <td>S-소비자</td>\n",
       "    </tr>\n",
       "    <tr>\n",
       "      <th>668768</th>\n",
       "      <td>지난 8월에 삼성전자가 출시한 갤럭시Z폴드3와 갤럭시Z플립3 흥행도 5G 가입자 ...</td>\n",
       "      <td>02100851.20211231181802001.txt</td>\n",
       "      <td>1</td>\n",
       "      <td>005930</td>\n",
       "      <td>Neutral</td>\n",
       "      <td>S-소비자</td>\n",
       "    </tr>\n",
       "    <tr>\n",
       "      <th>668769</th>\n",
       "      <td>올해 12년래 가장 큰 상승폭을 기록할 것으로 전망되고 있는 유가가 내년에도 계속...</td>\n",
       "      <td>02100851.20211231182324001.txt</td>\n",
       "      <td>0</td>\n",
       "      <td>267790</td>\n",
       "      <td>Neutral</td>\n",
       "      <td>E-기후변화</td>\n",
       "    </tr>\n",
       "    <tr>\n",
       "      <th>668770</th>\n",
       "      <td>홍은택 카카오커머스 대표[사진=카카오커머스]  홍은택 카카오커머스 대표가 새해에 ...</td>\n",
       "      <td>02100851.20211231210909001.txt</td>\n",
       "      <td>0</td>\n",
       "      <td>035720</td>\n",
       "      <td>Neutral</td>\n",
       "      <td>S-고용</td>\n",
       "    </tr>\n",
       "  </tbody>\n",
       "</table>\n",
       "</div>"
      ],
      "text/plain": [
       "                                                     text  \\\n",
       "668761   조현준 효성그룹 회장이 내년에는 호랑이처럼 민첩한 조직으로 변화할 것을 주문했다 ...   \n",
       "668762   미래에셋 \"직원들 요청 있어\" 내부선 인력유출 우려도   [사진=미래에셋증권]  ...   \n",
       "668763   중기부, '손실보상 선지급 금융 프로그램' 신설 방역지원금·방역물품지원금 등도 신...   \n",
       "668764   배재훈 HMM 대표가 코로나19로 인한 물류대란과 공급망 변화에 발 빠르게 대응해...   \n",
       "668765   권칠승 중기부 장관[사진=중기부]  권칠승 중소벤처기업부 장관이 31일 신년사를 ...   \n",
       "668766   해외 투지 공로…북미지역 내 소형 트랙터 수요 성장세 김희용 티와이엠(TYM) 회...   \n",
       "668767   SKT 952만·KT 615만·LG유플러스 446만 [사진=게티이미지뱅크 제공] ...   \n",
       "668768   지난 8월에 삼성전자가 출시한 갤럭시Z폴드3와 갤럭시Z플립3 흥행도 5G 가입자 ...   \n",
       "668769   올해 12년래 가장 큰 상승폭을 기록할 것으로 전망되고 있는 유가가 내년에도 계속...   \n",
       "668770   홍은택 카카오커머스 대표[사진=카카오커머스]  홍은택 카카오커머스 대표가 새해에 ...   \n",
       "\n",
       "                              filename  chunk_id   codes polairty_preds  \\\n",
       "668761  02100851.20211231104409001.txt         0  004800        Neutral   \n",
       "668762  02100851.20211231112402001.txt         0  006800       Negative   \n",
       "668763  02100851.20211231112403001.txt         0  001680       Positive   \n",
       "668764  02100851.20211231115157001.txt         0  011200        Neutral   \n",
       "668765  02100851.20211231143447001.txt         0  001680        Neutral   \n",
       "668766  02100851.20211231150933001.txt         0  002900       Positive   \n",
       "668767  02100851.20211231181802001.txt         0  030200        Neutral   \n",
       "668768  02100851.20211231181802001.txt         1  005930        Neutral   \n",
       "668769  02100851.20211231182324001.txt         0  267790        Neutral   \n",
       "668770  02100851.20211231210909001.txt         0  035720        Neutral   \n",
       "\n",
       "             topic_preds  \n",
       "668761            G-지배구조  \n",
       "668762              S-고용  \n",
       "668763            S-사회공헌  \n",
       "668764            E-환경혁신  \n",
       "668765            S-사회공헌  \n",
       "668766  S-기업(공급망)동반성장/상생  \n",
       "668767             S-소비자  \n",
       "668768             S-소비자  \n",
       "668769            E-기후변화  \n",
       "668770              S-고용  "
      ]
     },
     "execution_count": 19,
     "metadata": {},
     "output_type": "execute_result"
    },
    {
     "name": "stdout",
     "output_type": "stream",
     "text": [
      "time: 6.89 s (started: 2022-12-29 13:40:24 +00:00)\n"
     ]
    }
   ],
   "source": [
    "news_data_dir = ws.project_dir / \"esg/data/econ_news_kr/news_slice\"\n",
    "filename = \"esg_news_prediction_results_20221229.parquet\"\n",
    "\n",
    "esg_prediction_data = eKonf.load_data(filename, news_data_dir)\n",
    "esg_prediction_data.tail(10)"
   ]
  },
  {
   "cell_type": "code",
   "execution_count": null,
   "metadata": {},
   "outputs": [
    {
     "data": {
      "text/html": [
       "<div>\n",
       "<style scoped>\n",
       "    .dataframe tbody tr th:only-of-type {\n",
       "        vertical-align: middle;\n",
       "    }\n",
       "\n",
       "    .dataframe tbody tr th {\n",
       "        vertical-align: top;\n",
       "    }\n",
       "\n",
       "    .dataframe thead th {\n",
       "        text-align: right;\n",
       "    }\n",
       "</style>\n",
       "<table border=\"1\" class=\"dataframe\">\n",
       "  <thead>\n",
       "    <tr style=\"text-align: right;\">\n",
       "      <th></th>\n",
       "      <th>text</th>\n",
       "      <th>filename</th>\n",
       "      <th>chunk_id</th>\n",
       "      <th>codes</th>\n",
       "      <th>polairty_preds</th>\n",
       "      <th>topic_preds</th>\n",
       "    </tr>\n",
       "  </thead>\n",
       "  <tbody>\n",
       "    <tr>\n",
       "      <th>7384</th>\n",
       "      <td>동국제약 '인사돌', 효능 논란 끝내고 정면승부로 성장세 동화약품 '잇치', 경쟁...</td>\n",
       "      <td>02100851.20200108160505001.txt</td>\n",
       "      <td>0</td>\n",
       "      <td>000020</td>\n",
       "      <td>Neutral</td>\n",
       "      <td>S-소비자</td>\n",
       "    </tr>\n",
       "    <tr>\n",
       "      <th>32708</th>\n",
       "      <td>[아시아경제 김민영 기자] 동화약품은 보통주 1주당 120원의 현금배당을 결정했다...</td>\n",
       "      <td>02100801.20200224163725001.txt</td>\n",
       "      <td>0</td>\n",
       "      <td>000020</td>\n",
       "      <td>Neutral</td>\n",
       "      <td>G-지배구조</td>\n",
       "    </tr>\n",
       "    <tr>\n",
       "      <th>45877</th>\n",
       "      <td>[코로나19 건강 지키기] 동화약품의 ‘판콜’은 지난해 매출 303억원을 기록한 ...</td>\n",
       "      <td>02100311.20200326172754001.txt</td>\n",
       "      <td>0</td>\n",
       "      <td>000020</td>\n",
       "      <td>Neutral</td>\n",
       "      <td>S-소비자</td>\n",
       "    </tr>\n",
       "    <tr>\n",
       "      <th>47492</th>\n",
       "      <td>조선이 대한제국을 선포하기 보름 전인 1897년 9월 25일, 우리나라 최초의 제...</td>\n",
       "      <td>02100601.20200320001516001.txt</td>\n",
       "      <td>0</td>\n",
       "      <td>000020</td>\n",
       "      <td>Neutral</td>\n",
       "      <td>S-사회공헌</td>\n",
       "    </tr>\n",
       "    <tr>\n",
       "      <th>62350</th>\n",
       "      <td>동화약품이 회사의 신약후보물질 DW2008을 신종 코로나바이러스 감염증(코로나19...</td>\n",
       "      <td>02100101.20200421102241001.txt</td>\n",
       "      <td>0</td>\n",
       "      <td>000020</td>\n",
       "      <td>Neutral</td>\n",
       "      <td>S-소비자</td>\n",
       "    </tr>\n",
       "    <tr>\n",
       "      <th>...</th>\n",
       "      <td>...</td>\n",
       "      <td>...</td>\n",
       "      <td>...</td>\n",
       "      <td>...</td>\n",
       "      <td>...</td>\n",
       "      <td>...</td>\n",
       "    </tr>\n",
       "    <tr>\n",
       "      <th>644089</th>\n",
       "      <td>구강유산균 시장이 빠르게 성장하고 있다  코로나19의 확산과 일상화된 마스크 사용...</td>\n",
       "      <td>02100311.20211116142132001.txt</td>\n",
       "      <td>0</td>\n",
       "      <td>000020</td>\n",
       "      <td>Neutral</td>\n",
       "      <td>S-소비자</td>\n",
       "    </tr>\n",
       "    <tr>\n",
       "      <th>648607</th>\n",
       "      <td>[아시아경제 서소정 기자] 동화약품의 기능성 화장품 '후시드 크림'은 최근 각광받...</td>\n",
       "      <td>02100801.20211123210051001.txt</td>\n",
       "      <td>0</td>\n",
       "      <td>000020</td>\n",
       "      <td>Neutral</td>\n",
       "      <td>S-소비자</td>\n",
       "    </tr>\n",
       "    <tr>\n",
       "      <th>655548</th>\n",
       "      <td>롯데칠성음료의 ‘세상 맛있는 ZERO! 칠성사이다 ZERO!’편과 동화약품의 ‘달라...</td>\n",
       "      <td>02100601.20211209160337001.txt</td>\n",
       "      <td>5</td>\n",
       "      <td>000020</td>\n",
       "      <td>Neutral</td>\n",
       "      <td>S-소비자</td>\n",
       "    </tr>\n",
       "    <tr>\n",
       "      <th>658637</th>\n",
       "      <td>[사진=게티이미지뱅크]   동화약품 주가가 상승 중이다   1일 한국거래소에 따르...</td>\n",
       "      <td>02100851.20211201094104001.txt</td>\n",
       "      <td>0</td>\n",
       "      <td>000020</td>\n",
       "      <td>Neutral</td>\n",
       "      <td>S-소비자</td>\n",
       "    </tr>\n",
       "    <tr>\n",
       "      <th>668090</th>\n",
       "      <td>[사진=게티이미지뱅크]   동화약품 주가가 상승 중이다   22일 한국거래소에 따...</td>\n",
       "      <td>02100851.20211222141644001.txt</td>\n",
       "      <td>0</td>\n",
       "      <td>000020</td>\n",
       "      <td>Neutral</td>\n",
       "      <td>S-소비자</td>\n",
       "    </tr>\n",
       "  </tbody>\n",
       "</table>\n",
       "<p>176 rows × 6 columns</p>\n",
       "</div>"
      ],
      "text/plain": [
       "                                                     text  \\\n",
       "7384     동국제약 '인사돌', 효능 논란 끝내고 정면승부로 성장세 동화약품 '잇치', 경쟁...   \n",
       "32708    [아시아경제 김민영 기자] 동화약품은 보통주 1주당 120원의 현금배당을 결정했다...   \n",
       "45877    [코로나19 건강 지키기] 동화약품의 ‘판콜’은 지난해 매출 303억원을 기록한 ...   \n",
       "47492    조선이 대한제국을 선포하기 보름 전인 1897년 9월 25일, 우리나라 최초의 제...   \n",
       "62350    동화약품이 회사의 신약후보물질 DW2008을 신종 코로나바이러스 감염증(코로나19...   \n",
       "...                                                   ...   \n",
       "644089   구강유산균 시장이 빠르게 성장하고 있다  코로나19의 확산과 일상화된 마스크 사용...   \n",
       "648607   [아시아경제 서소정 기자] 동화약품의 기능성 화장품 '후시드 크림'은 최근 각광받...   \n",
       "655548  롯데칠성음료의 ‘세상 맛있는 ZERO! 칠성사이다 ZERO!’편과 동화약품의 ‘달라...   \n",
       "658637   [사진=게티이미지뱅크]   동화약품 주가가 상승 중이다   1일 한국거래소에 따르...   \n",
       "668090   [사진=게티이미지뱅크]   동화약품 주가가 상승 중이다   22일 한국거래소에 따...   \n",
       "\n",
       "                              filename  chunk_id   codes polairty_preds  \\\n",
       "7384    02100851.20200108160505001.txt         0  000020        Neutral   \n",
       "32708   02100801.20200224163725001.txt         0  000020        Neutral   \n",
       "45877   02100311.20200326172754001.txt         0  000020        Neutral   \n",
       "47492   02100601.20200320001516001.txt         0  000020        Neutral   \n",
       "62350   02100101.20200421102241001.txt         0  000020        Neutral   \n",
       "...                                ...       ...     ...            ...   \n",
       "644089  02100311.20211116142132001.txt         0  000020        Neutral   \n",
       "648607  02100801.20211123210051001.txt         0  000020        Neutral   \n",
       "655548  02100601.20211209160337001.txt         5  000020        Neutral   \n",
       "658637  02100851.20211201094104001.txt         0  000020        Neutral   \n",
       "668090  02100851.20211222141644001.txt         0  000020        Neutral   \n",
       "\n",
       "       topic_preds  \n",
       "7384         S-소비자  \n",
       "32708       G-지배구조  \n",
       "45877        S-소비자  \n",
       "47492       S-사회공헌  \n",
       "62350        S-소비자  \n",
       "...            ...  \n",
       "644089       S-소비자  \n",
       "648607       S-소비자  \n",
       "655548       S-소비자  \n",
       "658637       S-소비자  \n",
       "668090       S-소비자  \n",
       "\n",
       "[176 rows x 6 columns]"
      ]
     },
     "execution_count": 20,
     "metadata": {},
     "output_type": "execute_result"
    },
    {
     "name": "stdout",
     "output_type": "stream",
     "text": [
      "time: 42.6 ms (started: 2022-12-29 13:40:31 +00:00)\n"
     ]
    }
   ],
   "source": [
    "esg_prediction_data[esg_prediction_data.codes == \"000020\"]"
   ]
  },
  {
   "cell_type": "code",
   "execution_count": null,
   "metadata": {},
   "outputs": [
    {
     "data": {
      "text/plain": [
       "2273"
      ]
     },
     "execution_count": 21,
     "metadata": {},
     "output_type": "execute_result"
    },
    {
     "name": "stdout",
     "output_type": "stream",
     "text": [
      "time: 34.8 ms (started: 2022-12-29 13:40:31 +00:00)\n"
     ]
    }
   ],
   "source": [
    "len(esg_prediction_data.codes.unique())"
   ]
  },
  {
   "cell_type": "code",
   "execution_count": null,
   "metadata": {},
   "outputs": [],
   "source": []
  }
 ],
 "metadata": {
  "celltoolbar": "Tags",
  "colab": {
   "include_colab_link": true,
   "name": "preprocessor.ipynb",
   "provenance": []
  },
  "kernelspec": {
   "display_name": "Python 3 (ipykernel)",
   "language": "python",
   "name": "python3"
  },
  "language_info": {
   "codemirror_mode": {
    "name": "ipython",
    "version": 3
   },
   "file_extension": ".py",
   "mimetype": "text/x-python",
   "name": "python",
   "nbconvert_exporter": "python",
   "pygments_lexer": "ipython3",
   "version": "3.8.12"
  },
  "vscode": {
   "interpreter": {
    "hash": "d4d1e4263499bec80672ea0156c357c1ee493ec2b1c70f0acce89fc37c4a6abe"
   }
  },
  "widgets": {
   "application/vnd.jupyter.widget-state+json": {
    "state": {},
    "version_major": 2,
    "version_minor": 0
   }
  }
 },
 "nbformat": 4,
 "nbformat_minor": 4
}
