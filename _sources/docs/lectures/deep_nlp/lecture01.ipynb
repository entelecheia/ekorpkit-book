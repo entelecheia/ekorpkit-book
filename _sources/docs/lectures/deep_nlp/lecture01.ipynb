{
 "cells": [
  {
   "cell_type": "markdown",
   "id": "76b40700",
   "metadata": {
    "slideshow": {
     "slide_type": "slide"
    },
    "tags": []
   },
   "source": [
    "# 1. [Introduction](https://entelecheia.github.io/ekorpkit-book/docs/lectures/deep_nlp/lecture01.html)"
   ]
  },
  {
   "cell_type": "markdown",
   "id": "c0bd2f00",
   "metadata": {
    "slideshow": {
     "slide_type": "slide"
    },
    "tags": []
   },
   "source": [
    "## What is NLP?\n",
    "\n",
    "- NLP, or natural language processing, is a branch of artificial intelligence that deals with the interpretation and manipulation of human language. \n",
    "- NLP is used in a variety of applications, including text-to-speech synthesis, automatic translation, and information retrieval."
   ]
  },
  {
   "cell_type": "markdown",
   "id": "aa47d136",
   "metadata": {
    "slideshow": {
     "slide_type": "slide"
    },
    "tags": []
   },
   "source": [
    "## What can you do with NLP?\n",
    "\n",
    "### NLP is a broad field, encompassing a variety of tasks, including:\n",
    "\n",
    "- Text-to-speech synthesis\n",
    "- Automatic translation\n",
    "- Information retrieval\n",
    "- Natural language understanding\n",
    "- Sentiment analysis\n",
    "- Text classification\n",
    "- Topic modeling\n",
    "- Language modeling"
   ]
  },
  {
   "cell_type": "markdown",
   "id": "cd741b9e",
   "metadata": {
    "slideshow": {
     "slide_type": "slide"
    },
    "tags": []
   },
   "source": [
    "### Some of the more popular applications of NLP include:\n",
    "\n",
    "- Virtual assistants, such as Siri, Alexa, and Google Assistant\n",
    "- Chatbots\n",
    "- Text analytics\n",
    "- Content moderation\n",
    "- Speech recognition"
   ]
  },
  {
   "cell_type": "markdown",
   "id": "8b541c47",
   "metadata": {},
   "source": [
    "### There are also interesting techniques that let you go between text and images, such as:\n",
    "\n",
    "- Image captioning\n",
    "- Text-to-image synthesis\n",
    "- Image-to-text translation"
   ]
  },
  {
   "cell_type": "markdown",
   "id": "c6293a8c",
   "metadata": {
    "slideshow": {
     "slide_type": "slide"
    },
    "tags": []
   },
   "source": [
    "## Why study or research NLP?\n",
    "\n",
    "- NLP is an interesting and important field with a wide range of applications. \n",
    "- It is constantly evolving, which means there are always new challenges to tackle.\n",
    "\n",
    "- NLP is also an interdisciplinary field, drawing from linguistics, computer science, and psychology. This means that there are many different perspectives and approaches to NLP, making it a rich and fascinating area to study.\n",
    "\n",
    "- Language is the key to understanding knowledge and human intelligence.  \n",
    "- It is also the key to communication and social interaction. \n",
    "- NLP is a powerful tool that can help us to unlock the secrets of language and human cognition, and to build better systems for communication and social interaction.\n"
   ]
  },
  {
   "cell_type": "markdown",
   "id": "dcff08dd",
   "metadata": {
    "slideshow": {
     "slide_type": "slide"
    },
    "tags": []
   },
   "source": [
    "## What are the desiderata, or goals, for NLP?\n",
    "\n",
    "-  Generality across different languages, genres, styles, and modalities\n",
    "  \n",
    "-  Sensitivity to a wide range of the phenomena and constraints in human language\n",
    "  \n",
    "-  Ability to learn from very small amounts of data\n",
    "\n",
    "-  Ease of use and interpretability\n",
    "\n",
    "-  Robustness in the face of errors and noise\n",
    "\n",
    "-  Explainable to humans\n",
    "\n",
    "-  Account for the complexities of real-world language use\n",
    "\n",
    "-  Generate outputs that are natural and appropriate for the context"
   ]
  },
  {
   "cell_type": "markdown",
   "id": "52a45681",
   "metadata": {
    "slideshow": {
     "slide_type": "slide"
    },
    "tags": []
   },
   "source": [
    "## What are the related areas of NLP?\n",
    "\n",
    "-  Computational Linguistics\n",
    "\n",
    "-  Artificial Intelligence\n",
    "\n",
    "-  Machine Learning\n",
    "\n",
    "-  Data Mining\n",
    "\n",
    "-  Information Retrieval\n",
    "\n",
    "-  Natural Language Understanding\n",
    "\n",
    "-  Robotics\n",
    "\n",
    "-  Speech Recognition\n",
    "\n",
    "-  Text Mining"
   ]
  },
  {
   "cell_type": "markdown",
   "id": "a7e69f5b",
   "metadata": {
    "slideshow": {
     "slide_type": "slide"
    },
    "tags": []
   },
   "source": [
    "## Neural Nets for NLP\n",
    "\n",
    "A neural net is a type of machine learning algorithm that is inspired by the structure of the brain. \n",
    "\n",
    "Neural nets are composed of a series of interconnected processing nodes, or neurons, that can learn to recognize patterns of input data.\n",
    "\n",
    "\n",
    "### Some popular neural net models for NLP include:\n",
    "\n",
    "-  Long Short-Term Memory (LSTM)\n",
    "-  Gated recurrent unit (GRU)\n",
    "-  Transformers\n",
    "-  Bidirectional Encoder Representations from Transformers (BERT)\n",
    "-  Generative Adversarial Networks (GANs)\n"
   ]
  },
  {
   "cell_type": "markdown",
   "id": "ac2fe39b",
   "metadata": {
    "slideshow": {
     "slide_type": "slide"
    },
    "tags": []
   },
   "source": [
    "### What are the benefits of neural nets for NLP?\n",
    "\n",
    "-  Neural nets can learn from very small amounts of data\n",
    "-  Neural nets are good at capturing the statistical properties of language\n",
    "-  Neural nets can be trained on a variety of NLP tasks\n",
    "\n",
    "### What are the limitations of neural nets for NLP?\n",
    "\n",
    "-  Neural nets require a lot of computational power\n",
    "-  Neural nets can be difficult to interpret\n",
    "-  Neural nets can be overfit to the training data"
   ]
  }
 ],
 "metadata": {
  "kernelspec": {
   "display_name": "Python 3 (ipykernel)",
   "language": "python",
   "name": "python3"
  },
  "language_info": {
   "codemirror_mode": {
    "name": "ipython",
    "version": 3
   },
   "file_extension": ".py",
   "mimetype": "text/x-python",
   "name": "python",
   "nbconvert_exporter": "python",
   "pygments_lexer": "ipython3",
   "version": "3.8.12"
  },
  "vscode": {
   "interpreter": {
    "hash": "d4d1e4263499bec80672ea0156c357c1ee493ec2b1c70f0acce89fc37c4a6abe"
   }
  },
  "widgets": {
   "application/vnd.jupyter.widget-state+json": {
    "state": {},
    "version_major": 2,
    "version_minor": 0
   }
  }
 },
 "nbformat": 4,
 "nbformat_minor": 5
}
