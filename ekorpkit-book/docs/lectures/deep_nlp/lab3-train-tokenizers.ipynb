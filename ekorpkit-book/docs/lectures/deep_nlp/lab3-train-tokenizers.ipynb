{
 "cells": [
  {
   "cell_type": "markdown",
   "metadata": {
    "id": "cjgz1WTcPWee"
   },
   "source": [
    "# Lab 3: Training Tokenizers\n",
    "\n",
    "![](../figs/deep_nlp/lab/tokenize.png)\n"
   ]
  },
  {
   "cell_type": "markdown",
   "metadata": {},
   "source": [
    "## Prepare the environment\n"
   ]
  },
  {
   "cell_type": "code",
   "execution_count": 1,
   "metadata": {},
   "outputs": [
    {
     "name": "stdout",
     "output_type": "stream",
     "text": [
      "zsh:1: no matches found: ekorpkit[wiki,fetch]\n",
      "Note: you may need to restart the kernel to use updated packages.\n"
     ]
    }
   ],
   "source": [
    "# %pip install --pre ekorpkit[tokenize]\n"
   ]
  },
  {
   "cell_type": "code",
   "execution_count": 26,
   "metadata": {
    "id": "BzxPwsOVPWef"
   },
   "outputs": [
    {
     "name": "stderr",
     "output_type": "stream",
     "text": [
      "INFO:ekorpkit.utils.notebook:Google Colab not detected.\n",
      "INFO:ekorpkit.base:Setting EKORPKIT_WORKSPACE_ROOT to /content/drive/MyDrive/workspace\n",
      "INFO:ekorpkit.base:Setting EKORPKIT_PROJECT to ekorpkit-book\n",
      "INFO:ekorpkit.base:Loaded .env from /workspace/projects/ekorpkit-book/config/.env\n"
     ]
    },
    {
     "name": "stdout",
     "output_type": "stream",
     "text": [
      "The autotime extension is already loaded. To reload it, use:\n",
      "  %reload_ext autotime\n",
      "The autoreload extension is already loaded. To reload it, use:\n",
      "  %reload_ext autoreload\n",
      "version: 0.1.40.post0.dev17\n",
      "is colab? False\n",
      "project_dir: /content/drive/MyDrive/workspace/projects/ekorpkit-book\n",
      "time: 57.4 ms (started: 2022-11-13 08:40:37 +00:00)\n"
     ]
    }
   ],
   "source": [
    "%config InlineBackend.figure_format='retina'\n",
    "%load_ext autotime\n",
    "%load_ext autoreload\n",
    "%autoreload 2\n",
    "\n",
    "from ekorpkit import eKonf\n",
    "\n",
    "eKonf.setLogger(\"INFO\")\n",
    "print(\"version:\", eKonf.__version__)\n",
    "\n",
    "is_colab = eKonf.is_colab()\n",
    "print(\"is colab?\", is_colab)\n",
    "if is_colab:\n",
    "    eKonf.mount_google_drive()\n",
    "workspace_dir = \"/content/drive/MyDrive/workspace\"\n",
    "project_name = \"ekorpkit-book\"\n",
    "project_dir = eKonf.set_workspace(workspace=workspace_dir, project=project_name)\n",
    "print(\"project_dir:\", project_dir)"
   ]
  },
  {
   "cell_type": "markdown",
   "metadata": {
    "id": "it1Y0MVPXRsJ"
   },
   "source": [
    "### Load the saved corpora\n"
   ]
  },
  {
   "cell_type": "code",
   "execution_count": 2,
   "metadata": {},
   "outputs": [
    {
     "name": "stderr",
     "output_type": "stream",
     "text": [
      "INFO:ekorpkit.io.file:Processing [1] files from ['enko_filtered.parquet']\n",
      "INFO:ekorpkit.io.file:Loading 1 dataframes from ['/content/drive/MyDrive/workspace/projects/ekorpkit-book/data/enko_filtered.parquet']\n",
      "INFO:ekorpkit.io.file:Loading data from /content/drive/MyDrive/workspace/projects/ekorpkit-book/data/enko_filtered.parquet\n"
     ]
    },
    {
     "data": {
      "text/html": [
       "<div>\n",
       "<style scoped>\n",
       "    .dataframe tbody tr th:only-of-type {\n",
       "        vertical-align: middle;\n",
       "    }\n",
       "\n",
       "    .dataframe tbody tr th {\n",
       "        vertical-align: top;\n",
       "    }\n",
       "\n",
       "    .dataframe thead th {\n",
       "        text-align: right;\n",
       "    }\n",
       "</style>\n",
       "<table border=\"1\" class=\"dataframe\">\n",
       "  <thead>\n",
       "    <tr style=\"text-align: right;\">\n",
       "      <th></th>\n",
       "      <th>id</th>\n",
       "      <th>text</th>\n",
       "      <th>split</th>\n",
       "      <th>filename</th>\n",
       "      <th>corpus</th>\n",
       "      <th>num_chars</th>\n",
       "      <th>num_words</th>\n",
       "      <th>num_sents</th>\n",
       "      <th>avg_num_chars</th>\n",
       "      <th>avg_num_words</th>\n",
       "    </tr>\n",
       "  </thead>\n",
       "  <tbody>\n",
       "    <tr>\n",
       "      <th>1</th>\n",
       "      <td>7644961</td>\n",
       "      <td>Anaissini is a tribe of click beetles in the f...</td>\n",
       "      <td>train</td>\n",
       "      <td>wiki_49</td>\n",
       "      <td>enwiki_sampled</td>\n",
       "      <td>63</td>\n",
       "      <td>11</td>\n",
       "      <td>1</td>\n",
       "      <td>5.727273</td>\n",
       "      <td>11.000000</td>\n",
       "    </tr>\n",
       "    <tr>\n",
       "      <th>2</th>\n",
       "      <td>6658552</td>\n",
       "      <td>The Vicky Metcalf Award for Literature for You...</td>\n",
       "      <td>train</td>\n",
       "      <td>wiki_24</td>\n",
       "      <td>enwiki_sampled</td>\n",
       "      <td>479</td>\n",
       "      <td>82</td>\n",
       "      <td>5</td>\n",
       "      <td>5.841463</td>\n",
       "      <td>16.400000</td>\n",
       "    </tr>\n",
       "    <tr>\n",
       "      <th>4</th>\n",
       "      <td>11081255</td>\n",
       "      <td>Eylex Films Pvt is a chain of multiplex and si...</td>\n",
       "      <td>train</td>\n",
       "      <td>wiki_94</td>\n",
       "      <td>enwiki_sampled</td>\n",
       "      <td>1161</td>\n",
       "      <td>181</td>\n",
       "      <td>12</td>\n",
       "      <td>6.414365</td>\n",
       "      <td>15.083333</td>\n",
       "    </tr>\n",
       "    <tr>\n",
       "      <th>8</th>\n",
       "      <td>4706486</td>\n",
       "      <td>Željko Zečević (; born 21 October 1963) is a S...</td>\n",
       "      <td>train</td>\n",
       "      <td>wiki_02</td>\n",
       "      <td>enwiki_sampled</td>\n",
       "      <td>1151</td>\n",
       "      <td>201</td>\n",
       "      <td>15</td>\n",
       "      <td>5.726368</td>\n",
       "      <td>13.400000</td>\n",
       "    </tr>\n",
       "    <tr>\n",
       "      <th>12</th>\n",
       "      <td>2170359</td>\n",
       "      <td>Gilberto Nascimento Silva (born 9 June 1956) i...</td>\n",
       "      <td>train</td>\n",
       "      <td>wiki_57</td>\n",
       "      <td>enwiki_sampled</td>\n",
       "      <td>685</td>\n",
       "      <td>105</td>\n",
       "      <td>9</td>\n",
       "      <td>6.523810</td>\n",
       "      <td>11.666667</td>\n",
       "    </tr>\n",
       "  </tbody>\n",
       "</table>\n",
       "</div>"
      ],
      "text/plain": [
       "          id                                               text  split  \\\n",
       "1    7644961  Anaissini is a tribe of click beetles in the f...  train   \n",
       "2    6658552  The Vicky Metcalf Award for Literature for You...  train   \n",
       "4   11081255  Eylex Films Pvt is a chain of multiplex and si...  train   \n",
       "8    4706486  Željko Zečević (; born 21 October 1963) is a S...  train   \n",
       "12   2170359  Gilberto Nascimento Silva (born 9 June 1956) i...  train   \n",
       "\n",
       "   filename          corpus  num_chars  num_words  num_sents  avg_num_chars  \\\n",
       "1   wiki_49  enwiki_sampled         63         11          1       5.727273   \n",
       "2   wiki_24  enwiki_sampled        479         82          5       5.841463   \n",
       "4   wiki_94  enwiki_sampled       1161        181         12       6.414365   \n",
       "8   wiki_02  enwiki_sampled       1151        201         15       5.726368   \n",
       "12  wiki_57  enwiki_sampled        685        105          9       6.523810   \n",
       "\n",
       "    avg_num_words  \n",
       "1       11.000000  \n",
       "2       16.400000  \n",
       "4       15.083333  \n",
       "8       13.400000  \n",
       "12      11.666667  "
      ]
     },
     "execution_count": 2,
     "metadata": {},
     "output_type": "execute_result"
    },
    {
     "name": "stdout",
     "output_type": "stream",
     "text": [
      "time: 3.24 s (started: 2022-11-13 05:03:33 +00:00)\n"
     ]
    }
   ],
   "source": [
    "data = eKonf.load_data(\"enko_filtered.parquet\", project_dir + \"/data\")\n",
    "data.head()\n"
   ]
  },
  {
   "cell_type": "code",
   "execution_count": 19,
   "metadata": {},
   "outputs": [
    {
     "name": "stdout",
     "output_type": "stream",
     "text": [
      "['This article describes the process by which the territorial extent of Morocco came to be as it is now.', 'The country reached its maximum extent during the period of these dynasties: Almoravid, Almohad, Marinid and the Saadi dynasty, in addition to the greatest extent of the current dynasty, the Alaouite.']\n",
      "['크리클레이드(Cricklade)는 잉글랜드의 노스 윌트셔에 위치한 템스 강의 타운이자 지방 행정구이다. 스윈던과 시런세스터의 중간에 위치해 있다.', '2001년 인구 조사에서 크리클레이드의 인구는 4,132명이다.']\n",
      "time: 137 ms (started: 2022-11-13 05:04:47 +00:00)\n"
     ]
    }
   ],
   "source": [
    "text_column = \"text\"\n",
    "\n",
    "text_en = (\n",
    "    data[data.corpus == \"enwiki_sampled\"][text_column].sample(1).values[0].split(\"\\n\")\n",
    ")\n",
    "text_ko = data[data.corpus == \"kowiki\"][text_column].sample(1).values[0].split(\"\\n\")\n",
    "\n",
    "print(text_en)\n",
    "print(text_ko)\n"
   ]
  },
  {
   "cell_type": "markdown",
   "metadata": {
    "notebookRunGroups": {
     "groupValue": "1"
    }
   },
   "source": [
    "### Covert pandas datafame to huggingface dataset\n"
   ]
  },
  {
   "cell_type": "code",
   "execution_count": 20,
   "metadata": {},
   "outputs": [
    {
     "data": {
      "text/plain": [
       "Dataset({\n",
       "    features: ['text', '__index_level_0__'],\n",
       "    num_rows: 603719\n",
       "})"
      ]
     },
     "execution_count": 20,
     "metadata": {},
     "output_type": "execute_result"
    },
    {
     "name": "stdout",
     "output_type": "stream",
     "text": [
      "time: 1.2 s (started: 2022-11-13 05:05:04 +00:00)\n"
     ]
    }
   ],
   "source": [
    "from datasets import Dataset\n",
    "\n",
    "raw_dataset = Dataset.from_pandas(data[[text_column]])\n",
    "raw_dataset\n"
   ]
  },
  {
   "cell_type": "markdown",
   "metadata": {},
   "source": [
    "### Shuffle the dataset\n"
   ]
  },
  {
   "cell_type": "code",
   "execution_count": 21,
   "metadata": {},
   "outputs": [
    {
     "name": "stdout",
     "output_type": "stream",
     "text": [
      "time: 112 ms (started: 2022-11-13 05:05:08 +00:00)\n"
     ]
    }
   ],
   "source": [
    "# shuffle the dataset\n",
    "\n",
    "raw_dataset = raw_dataset.shuffle(seed=42)\n"
   ]
  },
  {
   "cell_type": "markdown",
   "metadata": {},
   "source": [
    "### Split the dataset into sentences for training\n",
    "\n",
    "The sentencepiece module comes with a python training API, which uses sentences in a file, one sentence per line. We will use the `sent_tokenize` function from the `nltk` package to split the text into sentences. The `sent_tokenize` function is a wrapper around the `punkt` tokenizer, which is a pre-trained sentence tokenizer. The `punkt` tokenizer is trained on the Penn Treebank corpus, which is a collection of Wall Street Journal articles. The `punkt` tokenizer is a good choice for plain English text, but it may not be the best choice for other languages.\n"
   ]
  },
  {
   "cell_type": "code",
   "execution_count": 22,
   "metadata": {},
   "outputs": [
    {
     "name": "stderr",
     "output_type": "stream",
     "text": [
      "[nltk_data] Downloading package punkt to /root/nltk_data...\n",
      "[nltk_data]   Package punkt is already up-to-date!\n"
     ]
    },
    {
     "data": {
      "text/plain": [
       "True"
      ]
     },
     "execution_count": 22,
     "metadata": {},
     "output_type": "execute_result"
    },
    {
     "name": "stdout",
     "output_type": "stream",
     "text": [
      "time: 1.14 s (started: 2022-11-13 05:05:10 +00:00)\n"
     ]
    }
   ],
   "source": [
    "import nltk\n",
    "from nltk.tokenize import sent_tokenize\n",
    "from ekorpkit.tokenizers.trainers.spm import export_sentence_chunk_files\n",
    "\n",
    "nltk.download(\"punkt\")"
   ]
  },
  {
   "cell_type": "code",
   "execution_count": 23,
   "metadata": {},
   "outputs": [
    {
     "name": "stderr",
     "output_type": "stream",
     "text": [
      "INFO:ekorpkit.tokenizers.trainers.spm:Writing sentence chunks to /content/drive/MyDrive/workspace/projects/ekorpkit-book/data/tokenizers/enko_filtered_chunk\n"
     ]
    },
    {
     "data": {
      "application/vnd.jupyter.widget-view+json": {
       "model_id": "13e0f82f7e0243a3b6f1d6ae3aefa698",
       "version_major": 2,
       "version_minor": 0
      },
      "text/plain": [
       "  0%|          | 0/61 [00:00<?, ?it/s]"
      ]
     },
     "metadata": {},
     "output_type": "display_data"
    },
    {
     "data": {
      "application/vnd.jupyter.widget-view+json": {
       "model_id": "6e51498032fd426da54ca8fe9842df73",
       "version_major": 2,
       "version_minor": 0
      },
      "text/plain": [
       "Writing sentences to sent_chunk_0000.txt:   0%|          | 0/10000 [00:00<?, ?it/s]"
      ]
     },
     "metadata": {},
     "output_type": "display_data"
    },
    {
     "data": {
      "application/vnd.jupyter.widget-view+json": {
       "model_id": "fea20bf0c7fb460aa948e4f04d99baac",
       "version_major": 2,
       "version_minor": 0
      },
      "text/plain": [
       "Writing sentences to sent_chunk_0001.txt:   0%|          | 0/10000 [00:00<?, ?it/s]"
      ]
     },
     "metadata": {},
     "output_type": "display_data"
    },
    {
     "data": {
      "application/vnd.jupyter.widget-view+json": {
       "model_id": "75d2e1b345914cd68400ea8f1a93fe2f",
       "version_major": 2,
       "version_minor": 0
      },
      "text/plain": [
       "Writing sentences to sent_chunk_0002.txt:   0%|          | 0/10000 [00:00<?, ?it/s]"
      ]
     },
     "metadata": {},
     "output_type": "display_data"
    },
    {
     "data": {
      "application/vnd.jupyter.widget-view+json": {
       "model_id": "c74f7f178b3844f6a119e25db5e7c496",
       "version_major": 2,
       "version_minor": 0
      },
      "text/plain": [
       "Writing sentences to sent_chunk_0003.txt:   0%|          | 0/10000 [00:00<?, ?it/s]"
      ]
     },
     "metadata": {},
     "output_type": "display_data"
    },
    {
     "data": {
      "application/vnd.jupyter.widget-view+json": {
       "model_id": "ca0aadceae0741e3889859b87dab5b03",
       "version_major": 2,
       "version_minor": 0
      },
      "text/plain": [
       "Writing sentences to sent_chunk_0004.txt:   0%|          | 0/10000 [00:00<?, ?it/s]"
      ]
     },
     "metadata": {},
     "output_type": "display_data"
    },
    {
     "data": {
      "application/vnd.jupyter.widget-view+json": {
       "model_id": "52b1ceb331524b76847158e0ad35c491",
       "version_major": 2,
       "version_minor": 0
      },
      "text/plain": [
       "Writing sentences to sent_chunk_0005.txt:   0%|          | 0/10000 [00:00<?, ?it/s]"
      ]
     },
     "metadata": {},
     "output_type": "display_data"
    },
    {
     "data": {
      "application/vnd.jupyter.widget-view+json": {
       "model_id": "b16270c3874443fa9820cc86672e2529",
       "version_major": 2,
       "version_minor": 0
      },
      "text/plain": [
       "Writing sentences to sent_chunk_0006.txt:   0%|          | 0/10000 [00:00<?, ?it/s]"
      ]
     },
     "metadata": {},
     "output_type": "display_data"
    },
    {
     "data": {
      "application/vnd.jupyter.widget-view+json": {
       "model_id": "971222c8a06848379578334e88baf1ea",
       "version_major": 2,
       "version_minor": 0
      },
      "text/plain": [
       "Writing sentences to sent_chunk_0007.txt:   0%|          | 0/10000 [00:00<?, ?it/s]"
      ]
     },
     "metadata": {},
     "output_type": "display_data"
    },
    {
     "data": {
      "application/vnd.jupyter.widget-view+json": {
       "model_id": "19c1d95694d64a69896337604c7c2872",
       "version_major": 2,
       "version_minor": 0
      },
      "text/plain": [
       "Writing sentences to sent_chunk_0008.txt:   0%|          | 0/10000 [00:00<?, ?it/s]"
      ]
     },
     "metadata": {},
     "output_type": "display_data"
    },
    {
     "data": {
      "application/vnd.jupyter.widget-view+json": {
       "model_id": "d656d2d5e4c24e4d89d478b96713dfb6",
       "version_major": 2,
       "version_minor": 0
      },
      "text/plain": [
       "Writing sentences to sent_chunk_0009.txt:   0%|          | 0/10000 [00:00<?, ?it/s]"
      ]
     },
     "metadata": {},
     "output_type": "display_data"
    },
    {
     "data": {
      "application/vnd.jupyter.widget-view+json": {
       "model_id": "79ad307bb86b41948445f99f8397b81c",
       "version_major": 2,
       "version_minor": 0
      },
      "text/plain": [
       "Writing sentences to sent_chunk_0010.txt:   0%|          | 0/10000 [00:00<?, ?it/s]"
      ]
     },
     "metadata": {},
     "output_type": "display_data"
    },
    {
     "data": {
      "application/vnd.jupyter.widget-view+json": {
       "model_id": "9f835278352a4f5db2bc963942fb2450",
       "version_major": 2,
       "version_minor": 0
      },
      "text/plain": [
       "Writing sentences to sent_chunk_0011.txt:   0%|          | 0/10000 [00:00<?, ?it/s]"
      ]
     },
     "metadata": {},
     "output_type": "display_data"
    },
    {
     "data": {
      "application/vnd.jupyter.widget-view+json": {
       "model_id": "b5c794fc19904edf87b96372d79a2522",
       "version_major": 2,
       "version_minor": 0
      },
      "text/plain": [
       "Writing sentences to sent_chunk_0012.txt:   0%|          | 0/10000 [00:00<?, ?it/s]"
      ]
     },
     "metadata": {},
     "output_type": "display_data"
    },
    {
     "data": {
      "application/vnd.jupyter.widget-view+json": {
       "model_id": "90fde96cc40a4e0d8ae0b7f171af793f",
       "version_major": 2,
       "version_minor": 0
      },
      "text/plain": [
       "Writing sentences to sent_chunk_0013.txt:   0%|          | 0/10000 [00:00<?, ?it/s]"
      ]
     },
     "metadata": {},
     "output_type": "display_data"
    },
    {
     "data": {
      "application/vnd.jupyter.widget-view+json": {
       "model_id": "40ee720f7f194525b7f28a50785be7e9",
       "version_major": 2,
       "version_minor": 0
      },
      "text/plain": [
       "Writing sentences to sent_chunk_0014.txt:   0%|          | 0/10000 [00:00<?, ?it/s]"
      ]
     },
     "metadata": {},
     "output_type": "display_data"
    },
    {
     "data": {
      "application/vnd.jupyter.widget-view+json": {
       "model_id": "97eb9cac582f4801ad03a93d908f06f2",
       "version_major": 2,
       "version_minor": 0
      },
      "text/plain": [
       "Writing sentences to sent_chunk_0015.txt:   0%|          | 0/10000 [00:00<?, ?it/s]"
      ]
     },
     "metadata": {},
     "output_type": "display_data"
    },
    {
     "data": {
      "application/vnd.jupyter.widget-view+json": {
       "model_id": "4be40b4feb7e49e19ab6e311d3cd9527",
       "version_major": 2,
       "version_minor": 0
      },
      "text/plain": [
       "Writing sentences to sent_chunk_0016.txt:   0%|          | 0/10000 [00:00<?, ?it/s]"
      ]
     },
     "metadata": {},
     "output_type": "display_data"
    },
    {
     "data": {
      "application/vnd.jupyter.widget-view+json": {
       "model_id": "8e641c14e37645a283bc29a94bc21138",
       "version_major": 2,
       "version_minor": 0
      },
      "text/plain": [
       "Writing sentences to sent_chunk_0017.txt:   0%|          | 0/10000 [00:00<?, ?it/s]"
      ]
     },
     "metadata": {},
     "output_type": "display_data"
    },
    {
     "data": {
      "application/vnd.jupyter.widget-view+json": {
       "model_id": "da5463d45de043e2805439e978b4b3ba",
       "version_major": 2,
       "version_minor": 0
      },
      "text/plain": [
       "Writing sentences to sent_chunk_0018.txt:   0%|          | 0/10000 [00:00<?, ?it/s]"
      ]
     },
     "metadata": {},
     "output_type": "display_data"
    },
    {
     "data": {
      "application/vnd.jupyter.widget-view+json": {
       "model_id": "8cc0694ee701496ebad2bf6d29886a65",
       "version_major": 2,
       "version_minor": 0
      },
      "text/plain": [
       "Writing sentences to sent_chunk_0019.txt:   0%|          | 0/10000 [00:00<?, ?it/s]"
      ]
     },
     "metadata": {},
     "output_type": "display_data"
    },
    {
     "data": {
      "application/vnd.jupyter.widget-view+json": {
       "model_id": "5ebf1adf3d194dc1a9fa45afd3aea797",
       "version_major": 2,
       "version_minor": 0
      },
      "text/plain": [
       "Writing sentences to sent_chunk_0020.txt:   0%|          | 0/10000 [00:00<?, ?it/s]"
      ]
     },
     "metadata": {},
     "output_type": "display_data"
    },
    {
     "data": {
      "application/vnd.jupyter.widget-view+json": {
       "model_id": "ca03c7788d4943c3b33b4d224d57715e",
       "version_major": 2,
       "version_minor": 0
      },
      "text/plain": [
       "Writing sentences to sent_chunk_0021.txt:   0%|          | 0/10000 [00:00<?, ?it/s]"
      ]
     },
     "metadata": {},
     "output_type": "display_data"
    },
    {
     "data": {
      "application/vnd.jupyter.widget-view+json": {
       "model_id": "cbde916bf2d443dfb5f2caf17b6bf0e2",
       "version_major": 2,
       "version_minor": 0
      },
      "text/plain": [
       "Writing sentences to sent_chunk_0022.txt:   0%|          | 0/10000 [00:00<?, ?it/s]"
      ]
     },
     "metadata": {},
     "output_type": "display_data"
    },
    {
     "data": {
      "application/vnd.jupyter.widget-view+json": {
       "model_id": "225001d3d6ca4a609a3822cda8bd2ca8",
       "version_major": 2,
       "version_minor": 0
      },
      "text/plain": [
       "Writing sentences to sent_chunk_0023.txt:   0%|          | 0/10000 [00:00<?, ?it/s]"
      ]
     },
     "metadata": {},
     "output_type": "display_data"
    },
    {
     "data": {
      "application/vnd.jupyter.widget-view+json": {
       "model_id": "cd1ef125918c4e049ed14b2dc4016d79",
       "version_major": 2,
       "version_minor": 0
      },
      "text/plain": [
       "Writing sentences to sent_chunk_0024.txt:   0%|          | 0/10000 [00:00<?, ?it/s]"
      ]
     },
     "metadata": {},
     "output_type": "display_data"
    },
    {
     "data": {
      "application/vnd.jupyter.widget-view+json": {
       "model_id": "eb5e97b9a0a64c3299eef180f1d3578c",
       "version_major": 2,
       "version_minor": 0
      },
      "text/plain": [
       "Writing sentences to sent_chunk_0025.txt:   0%|          | 0/10000 [00:00<?, ?it/s]"
      ]
     },
     "metadata": {},
     "output_type": "display_data"
    },
    {
     "data": {
      "application/vnd.jupyter.widget-view+json": {
       "model_id": "2bd77824c31d4a9e93c9ea5b30ae622b",
       "version_major": 2,
       "version_minor": 0
      },
      "text/plain": [
       "Writing sentences to sent_chunk_0026.txt:   0%|          | 0/10000 [00:00<?, ?it/s]"
      ]
     },
     "metadata": {},
     "output_type": "display_data"
    },
    {
     "data": {
      "application/vnd.jupyter.widget-view+json": {
       "model_id": "ed26c87046384f70b776e496db2a79c0",
       "version_major": 2,
       "version_minor": 0
      },
      "text/plain": [
       "Writing sentences to sent_chunk_0027.txt:   0%|          | 0/10000 [00:00<?, ?it/s]"
      ]
     },
     "metadata": {},
     "output_type": "display_data"
    },
    {
     "data": {
      "application/vnd.jupyter.widget-view+json": {
       "model_id": "f1b03b5bf3c643f68d0affdc225510fc",
       "version_major": 2,
       "version_minor": 0
      },
      "text/plain": [
       "Writing sentences to sent_chunk_0028.txt:   0%|          | 0/10000 [00:00<?, ?it/s]"
      ]
     },
     "metadata": {},
     "output_type": "display_data"
    },
    {
     "data": {
      "application/vnd.jupyter.widget-view+json": {
       "model_id": "dc4441ddfa60483d8d2a5f767d6f9700",
       "version_major": 2,
       "version_minor": 0
      },
      "text/plain": [
       "Writing sentences to sent_chunk_0029.txt:   0%|          | 0/10000 [00:00<?, ?it/s]"
      ]
     },
     "metadata": {},
     "output_type": "display_data"
    },
    {
     "data": {
      "application/vnd.jupyter.widget-view+json": {
       "model_id": "8a1885defc5f4ece9c1d710fbe114e6c",
       "version_major": 2,
       "version_minor": 0
      },
      "text/plain": [
       "Writing sentences to sent_chunk_0030.txt:   0%|          | 0/10000 [00:00<?, ?it/s]"
      ]
     },
     "metadata": {},
     "output_type": "display_data"
    },
    {
     "data": {
      "application/vnd.jupyter.widget-view+json": {
       "model_id": "ccd687653acf46ef8ec498287e0a9734",
       "version_major": 2,
       "version_minor": 0
      },
      "text/plain": [
       "Writing sentences to sent_chunk_0031.txt:   0%|          | 0/10000 [00:00<?, ?it/s]"
      ]
     },
     "metadata": {},
     "output_type": "display_data"
    },
    {
     "data": {
      "application/vnd.jupyter.widget-view+json": {
       "model_id": "fd2e719c31644626a4ec14d97f2fe3cf",
       "version_major": 2,
       "version_minor": 0
      },
      "text/plain": [
       "Writing sentences to sent_chunk_0032.txt:   0%|          | 0/10000 [00:00<?, ?it/s]"
      ]
     },
     "metadata": {},
     "output_type": "display_data"
    },
    {
     "data": {
      "application/vnd.jupyter.widget-view+json": {
       "model_id": "12266c89beb64c80aabb4bf2882cd8cf",
       "version_major": 2,
       "version_minor": 0
      },
      "text/plain": [
       "Writing sentences to sent_chunk_0033.txt:   0%|          | 0/10000 [00:00<?, ?it/s]"
      ]
     },
     "metadata": {},
     "output_type": "display_data"
    },
    {
     "data": {
      "application/vnd.jupyter.widget-view+json": {
       "model_id": "b8ad9b89c4ec449f9ac3020b64e05bc8",
       "version_major": 2,
       "version_minor": 0
      },
      "text/plain": [
       "Writing sentences to sent_chunk_0034.txt:   0%|          | 0/10000 [00:00<?, ?it/s]"
      ]
     },
     "metadata": {},
     "output_type": "display_data"
    },
    {
     "data": {
      "application/vnd.jupyter.widget-view+json": {
       "model_id": "bcdc9f44b3974bd0b38e9cf3c0847c15",
       "version_major": 2,
       "version_minor": 0
      },
      "text/plain": [
       "Writing sentences to sent_chunk_0035.txt:   0%|          | 0/10000 [00:00<?, ?it/s]"
      ]
     },
     "metadata": {},
     "output_type": "display_data"
    },
    {
     "data": {
      "application/vnd.jupyter.widget-view+json": {
       "model_id": "a472769feb8e40fdb3c7fd5957dbdb9d",
       "version_major": 2,
       "version_minor": 0
      },
      "text/plain": [
       "Writing sentences to sent_chunk_0036.txt:   0%|          | 0/10000 [00:00<?, ?it/s]"
      ]
     },
     "metadata": {},
     "output_type": "display_data"
    },
    {
     "data": {
      "application/vnd.jupyter.widget-view+json": {
       "model_id": "15031b80330743aaa1b07d276ce92ede",
       "version_major": 2,
       "version_minor": 0
      },
      "text/plain": [
       "Writing sentences to sent_chunk_0037.txt:   0%|          | 0/10000 [00:00<?, ?it/s]"
      ]
     },
     "metadata": {},
     "output_type": "display_data"
    },
    {
     "data": {
      "application/vnd.jupyter.widget-view+json": {
       "model_id": "2e2d9f2f37594ff3ac8e59ba79bd725a",
       "version_major": 2,
       "version_minor": 0
      },
      "text/plain": [
       "Writing sentences to sent_chunk_0038.txt:   0%|          | 0/10000 [00:00<?, ?it/s]"
      ]
     },
     "metadata": {},
     "output_type": "display_data"
    },
    {
     "data": {
      "application/vnd.jupyter.widget-view+json": {
       "model_id": "a06fc1a2e52a4dab83d19093d5cfee21",
       "version_major": 2,
       "version_minor": 0
      },
      "text/plain": [
       "Writing sentences to sent_chunk_0039.txt:   0%|          | 0/10000 [00:00<?, ?it/s]"
      ]
     },
     "metadata": {},
     "output_type": "display_data"
    },
    {
     "data": {
      "application/vnd.jupyter.widget-view+json": {
       "model_id": "f080e621858c4a0390bddf0cfdf96af2",
       "version_major": 2,
       "version_minor": 0
      },
      "text/plain": [
       "Writing sentences to sent_chunk_0040.txt:   0%|          | 0/10000 [00:00<?, ?it/s]"
      ]
     },
     "metadata": {},
     "output_type": "display_data"
    },
    {
     "data": {
      "application/vnd.jupyter.widget-view+json": {
       "model_id": "c680dca3127f425786d74f56feeed3f3",
       "version_major": 2,
       "version_minor": 0
      },
      "text/plain": [
       "Writing sentences to sent_chunk_0041.txt:   0%|          | 0/10000 [00:00<?, ?it/s]"
      ]
     },
     "metadata": {},
     "output_type": "display_data"
    },
    {
     "data": {
      "application/vnd.jupyter.widget-view+json": {
       "model_id": "197238bd1cc44c10b027d941e3de31bc",
       "version_major": 2,
       "version_minor": 0
      },
      "text/plain": [
       "Writing sentences to sent_chunk_0042.txt:   0%|          | 0/10000 [00:00<?, ?it/s]"
      ]
     },
     "metadata": {},
     "output_type": "display_data"
    },
    {
     "data": {
      "application/vnd.jupyter.widget-view+json": {
       "model_id": "526442bca7fa474d9f8d5059b57856f8",
       "version_major": 2,
       "version_minor": 0
      },
      "text/plain": [
       "Writing sentences to sent_chunk_0043.txt:   0%|          | 0/10000 [00:00<?, ?it/s]"
      ]
     },
     "metadata": {},
     "output_type": "display_data"
    },
    {
     "data": {
      "application/vnd.jupyter.widget-view+json": {
       "model_id": "2a952c7615bd4704967c56e1422be837",
       "version_major": 2,
       "version_minor": 0
      },
      "text/plain": [
       "Writing sentences to sent_chunk_0044.txt:   0%|          | 0/10000 [00:00<?, ?it/s]"
      ]
     },
     "metadata": {},
     "output_type": "display_data"
    },
    {
     "data": {
      "application/vnd.jupyter.widget-view+json": {
       "model_id": "07be257ea5e641be93a2327ea4a8882d",
       "version_major": 2,
       "version_minor": 0
      },
      "text/plain": [
       "Writing sentences to sent_chunk_0045.txt:   0%|          | 0/10000 [00:00<?, ?it/s]"
      ]
     },
     "metadata": {},
     "output_type": "display_data"
    },
    {
     "data": {
      "application/vnd.jupyter.widget-view+json": {
       "model_id": "708907c490d64a17b74ffe6ee7b544bd",
       "version_major": 2,
       "version_minor": 0
      },
      "text/plain": [
       "Writing sentences to sent_chunk_0046.txt:   0%|          | 0/10000 [00:00<?, ?it/s]"
      ]
     },
     "metadata": {},
     "output_type": "display_data"
    },
    {
     "data": {
      "application/vnd.jupyter.widget-view+json": {
       "model_id": "29a5c7f7de9d42b9b77f1936aa2e8bad",
       "version_major": 2,
       "version_minor": 0
      },
      "text/plain": [
       "Writing sentences to sent_chunk_0047.txt:   0%|          | 0/10000 [00:00<?, ?it/s]"
      ]
     },
     "metadata": {},
     "output_type": "display_data"
    },
    {
     "data": {
      "application/vnd.jupyter.widget-view+json": {
       "model_id": "132ca712c96642b39d263a996de35ca6",
       "version_major": 2,
       "version_minor": 0
      },
      "text/plain": [
       "Writing sentences to sent_chunk_0048.txt:   0%|          | 0/10000 [00:00<?, ?it/s]"
      ]
     },
     "metadata": {},
     "output_type": "display_data"
    },
    {
     "data": {
      "application/vnd.jupyter.widget-view+json": {
       "model_id": "d03ddacc7b7d49d1af95af4dbcf979db",
       "version_major": 2,
       "version_minor": 0
      },
      "text/plain": [
       "Writing sentences to sent_chunk_0049.txt:   0%|          | 0/10000 [00:00<?, ?it/s]"
      ]
     },
     "metadata": {},
     "output_type": "display_data"
    },
    {
     "data": {
      "application/vnd.jupyter.widget-view+json": {
       "model_id": "cf9c35c4abd644d39fbeddd194b11f50",
       "version_major": 2,
       "version_minor": 0
      },
      "text/plain": [
       "Writing sentences to sent_chunk_0050.txt:   0%|          | 0/10000 [00:00<?, ?it/s]"
      ]
     },
     "metadata": {},
     "output_type": "display_data"
    },
    {
     "data": {
      "application/vnd.jupyter.widget-view+json": {
       "model_id": "0fdde755b3884275b13a8251fedbce91",
       "version_major": 2,
       "version_minor": 0
      },
      "text/plain": [
       "Writing sentences to sent_chunk_0051.txt:   0%|          | 0/10000 [00:00<?, ?it/s]"
      ]
     },
     "metadata": {},
     "output_type": "display_data"
    },
    {
     "data": {
      "application/vnd.jupyter.widget-view+json": {
       "model_id": "9f3aadcdd46f4f70ad490b94f7274128",
       "version_major": 2,
       "version_minor": 0
      },
      "text/plain": [
       "Writing sentences to sent_chunk_0052.txt:   0%|          | 0/10000 [00:00<?, ?it/s]"
      ]
     },
     "metadata": {},
     "output_type": "display_data"
    },
    {
     "data": {
      "application/vnd.jupyter.widget-view+json": {
       "model_id": "6853756ceea94d1bb589b4fc56febc61",
       "version_major": 2,
       "version_minor": 0
      },
      "text/plain": [
       "Writing sentences to sent_chunk_0053.txt:   0%|          | 0/10000 [00:00<?, ?it/s]"
      ]
     },
     "metadata": {},
     "output_type": "display_data"
    },
    {
     "data": {
      "application/vnd.jupyter.widget-view+json": {
       "model_id": "8e7c33a433cf473c8514e016572e6d91",
       "version_major": 2,
       "version_minor": 0
      },
      "text/plain": [
       "Writing sentences to sent_chunk_0054.txt:   0%|          | 0/10000 [00:00<?, ?it/s]"
      ]
     },
     "metadata": {},
     "output_type": "display_data"
    },
    {
     "data": {
      "application/vnd.jupyter.widget-view+json": {
       "model_id": "600a1b6f0248411eb18f5d1537acfe89",
       "version_major": 2,
       "version_minor": 0
      },
      "text/plain": [
       "Writing sentences to sent_chunk_0055.txt:   0%|          | 0/10000 [00:00<?, ?it/s]"
      ]
     },
     "metadata": {},
     "output_type": "display_data"
    },
    {
     "data": {
      "application/vnd.jupyter.widget-view+json": {
       "model_id": "23ca1b58763b4c32a0b7974e7c84d153",
       "version_major": 2,
       "version_minor": 0
      },
      "text/plain": [
       "Writing sentences to sent_chunk_0056.txt:   0%|          | 0/10000 [00:00<?, ?it/s]"
      ]
     },
     "metadata": {},
     "output_type": "display_data"
    },
    {
     "data": {
      "application/vnd.jupyter.widget-view+json": {
       "model_id": "7dcd3bd6956c43528faf5c289d04323d",
       "version_major": 2,
       "version_minor": 0
      },
      "text/plain": [
       "Writing sentences to sent_chunk_0057.txt:   0%|          | 0/10000 [00:00<?, ?it/s]"
      ]
     },
     "metadata": {},
     "output_type": "display_data"
    },
    {
     "data": {
      "application/vnd.jupyter.widget-view+json": {
       "model_id": "c4bf1bcec4cd49be9aad276840ccc0d1",
       "version_major": 2,
       "version_minor": 0
      },
      "text/plain": [
       "Writing sentences to sent_chunk_0058.txt:   0%|          | 0/10000 [00:00<?, ?it/s]"
      ]
     },
     "metadata": {},
     "output_type": "display_data"
    },
    {
     "data": {
      "application/vnd.jupyter.widget-view+json": {
       "model_id": "a01ac3d4012347a78ec2e9bfd20d3530",
       "version_major": 2,
       "version_minor": 0
      },
      "text/plain": [
       "Writing sentences to sent_chunk_0059.txt:   0%|          | 0/10000 [00:00<?, ?it/s]"
      ]
     },
     "metadata": {},
     "output_type": "display_data"
    },
    {
     "data": {
      "application/vnd.jupyter.widget-view+json": {
       "model_id": "7048d0a577334bfe8e75fd909864c135",
       "version_major": 2,
       "version_minor": 0
      },
      "text/plain": [
       "Writing sentences to sent_chunk_0060.txt:   0%|          | 0/3719 [00:00<?, ?it/s]"
      ]
     },
     "metadata": {},
     "output_type": "display_data"
    },
    {
     "name": "stdout",
     "output_type": "stream",
     "text": [
      "time: 1min 29s (started: 2022-11-13 05:05:13 +00:00)\n"
     ]
    }
   ],
   "source": [
    "output_dir = project_dir + \"/data/tokenizers/enko_filtered_chunk\"\n",
    "\n",
    "export_sentence_chunk_files(\n",
    "    raw_dataset,\n",
    "    output_dir=output_dir,\n",
    "    chunk_size=10000,\n",
    "    text_column=text_column,\n",
    "    sent_tokenize=sent_tokenize,\n",
    ")\n"
   ]
  },
  {
   "cell_type": "markdown",
   "metadata": {},
   "source": [
    "### Sample sentences and combine them into a single file\n",
    "\n",
    "If your dataset is too large, you can sample a subset of the sentence files for training. The `sample` function from the `random` module can be used to sample a subset of the files.\n",
    "\n",
    "You can use `sample_and_combine` function to sample a subset of sentence files and combine them into a single file.\n"
   ]
  },
  {
   "cell_type": "code",
   "execution_count": 25,
   "metadata": {},
   "outputs": [
    {
     "name": "stderr",
     "output_type": "stream",
     "text": [
      "INFO:ekorpkit.tokenizers.trainers.spm:sampled files: ['sent_chunk_0009.txt', 'sent_chunk_0019.txt', 'sent_chunk_0060.txt', 'sent_chunk_0038.txt', 'sent_chunk_0000.txt', 'sent_chunk_0042.txt', 'sent_chunk_0025.txt', 'sent_chunk_0053.txt', 'sent_chunk_0035.txt', 'sent_chunk_0033.txt', 'sent_chunk_0008.txt', 'sent_chunk_0023.txt', 'sent_chunk_0004.txt', 'sent_chunk_0024.txt', 'sent_chunk_0013.txt', 'sent_chunk_0003.txt', 'sent_chunk_0017.txt', 'sent_chunk_0051.txt', 'sent_chunk_0027.txt', 'sent_chunk_0058.txt', 'sent_chunk_0012.txt', 'sent_chunk_0029.txt', 'sent_chunk_0015.txt', 'sent_chunk_0044.txt', 'sent_chunk_0057.txt', 'sent_chunk_0020.txt', 'sent_chunk_0052.txt', 'sent_chunk_0059.txt', 'sent_chunk_0005.txt', 'sent_chunk_0011.txt', 'sent_chunk_0031.txt', 'sent_chunk_0030.txt', 'sent_chunk_0001.txt', 'sent_chunk_0056.txt', 'sent_chunk_0047.txt', 'sent_chunk_0055.txt', 'sent_chunk_0007.txt', 'sent_chunk_0032.txt', 'sent_chunk_0018.txt', 'sent_chunk_0014.txt', 'sent_chunk_0016.txt', 'sent_chunk_0054.txt', 'sent_chunk_0028.txt', 'sent_chunk_0021.txt', 'sent_chunk_0006.txt', 'sent_chunk_0040.txt', 'sent_chunk_0049.txt', 'sent_chunk_0043.txt', 'sent_chunk_0037.txt', 'sent_chunk_0022.txt']\n",
      "INFO:ekorpkit.tokenizers.trainers.spm:number of lines sampled: 2,998,856\n"
     ]
    },
    {
     "data": {
      "application/vnd.jupyter.widget-view+json": {
       "model_id": "6f5c0f36c9aa4016a4784563ae842cba",
       "version_major": 2,
       "version_minor": 0
      },
      "text/plain": [
       "  0%|          | 0/2998856 [00:00<?, ?it/s]"
      ]
     },
     "metadata": {},
     "output_type": "display_data"
    },
    {
     "name": "stderr",
     "output_type": "stream",
     "text": [
      "INFO:ekorpkit.tokenizers.trainers.spm:saved sampled sentences to /content/drive/MyDrive/workspace/projects/ekorpkit-book/data/tokenizers/enko_filtered_samples/sampled_sentences.txt\n"
     ]
    },
    {
     "name": "stdout",
     "output_type": "stream",
     "text": [
      "time: 20.9 s (started: 2022-11-13 05:07:06 +00:00)\n"
     ]
    }
   ],
   "source": [
    "from ekorpkit.tokenizers.trainers.spm import sample_and_combine\n",
    "\n",
    "input_dir = project_dir + \"/data/tokenizers/enko_filtered_chunk\"\n",
    "output_dir = project_dir + \"/data/tokenizers/enko_filtered_samples\"\n",
    "\n",
    "sampled_file = sample_and_combine(\n",
    "    input_dir=input_dir, output_dir=output_dir, sample_size=50\n",
    ")"
   ]
  },
  {
   "cell_type": "markdown",
   "metadata": {},
   "source": [
    "## Train tokenizers with Hugging Face Tokenizers\n",
    "\n",
    "[Hugging Face's Tokenizers](https://huggingface.co/docs/tokenizers/quicktour) provides a wide range of tokenizers, including BPE, WordPiece, Unigram, SentencePiece, and ByteLevel. We will use the BPE and Unigram tokenizers in this lab.\n"
   ]
  },
  {
   "cell_type": "markdown",
   "metadata": {},
   "source": [
    "### Import the libraries and prepare functions\n"
   ]
  },
  {
   "cell_type": "code",
   "execution_count": 10,
   "metadata": {},
   "outputs": [
    {
     "name": "stdout",
     "output_type": "stream",
     "text": [
      "time: 2.35 ms (started: 2022-11-12 06:51:08 +00:00)\n"
     ]
    }
   ],
   "source": [
    "from tokenizers import Tokenizer\n",
    "from tokenizers.models import BPE, Unigram, WordLevel\n",
    "from tokenizers.trainers import BpeTrainer, UnigramTrainer, WordLevelTrainer\n",
    "from tokenizers.pre_tokenizers import Whitespace\n",
    "from tokenizers import normalizers\n",
    "from tokenizers.normalizers import NFD, StripAccents\n",
    "from ekorpkit.tokenizers.trainers.spm import batch_chunks\n",
    "\n",
    "\n",
    "unk_token = \"<UNK>\"  # token for unknown words\n",
    "spl_tokens = [\"<UNK>\", \"<SEP>\", \"<MASK>\", \"<CLS>\", \"[MASK]\"]  # special tokens\n",
    "\n",
    "\n",
    "def prepare_tokenizer_trainer(algo):\n",
    "    \"\"\"\n",
    "    Prepares the tokenizer and trainer with unknown & special tokens.\n",
    "    \"\"\"\n",
    "    if algo == \"BPE\":\n",
    "        tokenizer = Tokenizer(BPE(unk_token=unk_token))\n",
    "        trainer = BpeTrainer(special_tokens=spl_tokens)\n",
    "    elif algo == \"UNI\":\n",
    "        tokenizer = Tokenizer(Unigram())\n",
    "        trainer = UnigramTrainer(unk_token=unk_token, special_tokens=spl_tokens)\n",
    "    else:\n",
    "        tokenizer = Tokenizer(WordLevel(unk_token=unk_token))\n",
    "        trainer = WordLevelTrainer(special_tokens=spl_tokens)\n",
    "\n",
    "    normalizer = normalizers.Sequence([NFD(), StripAccents()])\n",
    "    tokenizer.normalizer = normalizer\n",
    "    tokenizer.pre_tokenizer = Whitespace()\n",
    "\n",
    "    return tokenizer, trainer\n"
   ]
  },
  {
   "cell_type": "code",
   "execution_count": 12,
   "metadata": {},
   "outputs": [
    {
     "name": "stdout",
     "output_type": "stream",
     "text": [
      "time: 20.2 ms (started: 2022-11-13 03:09:51 +00:00)\n"
     ]
    }
   ],
   "source": [
    "def train_tokenizer(algo=\"BPE\"):\n",
    "    \"\"\"\n",
    "    Takes the files and trains the tokenizer.\n",
    "    \"\"\"\n",
    "    save_path = f\"{project_dir}/tokenizers/{algo}_tokenizer.json\"\n",
    "    tokenizer, trainer = prepare_tokenizer_trainer(algo)\n",
    "    tokenizer.train_from_iterator(\n",
    "        batch_chunks(raw_dataset, batch_size=1000, text_column=text_column),\n",
    "        trainer=trainer,\n",
    "    )\n",
    "    tokenizer.save(save_path)\n",
    "    tokenizer = Tokenizer.from_file(save_path)\n",
    "    return tokenizer\n"
   ]
  },
  {
   "cell_type": "markdown",
   "metadata": {},
   "source": [
    "### Train BPE tokenizer\n"
   ]
  },
  {
   "cell_type": "code",
   "execution_count": null,
   "metadata": {},
   "outputs": [],
   "source": [
    "model_path = train_tokenizer(\"BPE\")\n"
   ]
  },
  {
   "cell_type": "markdown",
   "metadata": {},
   "source": [
    "> time: 15h 30min 58s (started: 2022-11-11 06:36:01 +00:00)\n",
    "\n",
    "To train a BPE tokenizer, it took 15 hours and 30 minutes for the 2,998,856 sentences. The tokenizer was saved in the `{project_dir}/tokenizers` directory."
   ]
  },
  {
   "cell_type": "markdown",
   "metadata": {},
   "source": [
    "To train more efficiently with multiple processors, it is preferable to use CLI (command line interface) tools.\n"
   ]
  },
  {
   "cell_type": "markdown",
   "metadata": {},
   "source": [
    "```bash\n",
    "ekorpkit \\\n",
    "    project.name=ekorpkit-book \\\n",
    "    dir.workspace=/content/drive/MyDrive/workspace \\\n",
    "    verbose=false \\\n",
    "    cmd=train_tokenizer \\\n",
    "    +tokenizer=train_hf \\\n",
    "    tokenizer.model_prefix=enko_wiki \\\n",
    "    tokenizer.model_type=bpe \\\n",
    "    tokenizer.vocab_size=30000 \\\n",
    "    tokenizer.input_files=sampled_sentences.txt \\\n",
    "    tokenizer.input_dir=data/tokenizers/enko_filtered_samples \\\n",
    "    tokenizer.output_dir=tokenizers/hf/enko_wiki\n",
    "```\n"
   ]
  },
  {
   "cell_type": "markdown",
   "metadata": {},
   "source": [
    "> took 22m 36.6s \n",
    "\n",
    "With 256 processors, it took 22 minutes and 37 seconds to tokenize the 2,998,856 sentences.\n"
   ]
  },
  {
   "cell_type": "code",
   "execution_count": 27,
   "metadata": {},
   "outputs": [
    {
     "name": "stdout",
     "output_type": "stream",
     "text": [
      "Vocab size: 30000\n",
      "['This', 'article', 'describ', 'es', 'the', 'process', 'by', 'which', 'the', 'ter', 'rit', 'or', 'ial', 'ext', 'ent', 'of', 'Moroc', 'co', 'came', 'to', 'be', 'as', 'it', 'is', 'now', '.']\n",
      "['크리', '클', '레이드', '(', 'C', 'rick', 'l', 'ade', ')', '는', '잉글랜드의', '노스', '윌', '트', '셔', '에', '위치한', '템', '스', '강의', '타운', '이자', '지방', '행정', '구이다', '.', '스', '윈', '던', '과', '시', '런', '세', '스터', '의', '중간에', '위치해', '있다', '.']\n",
      "time: 67.4 ms (started: 2022-11-13 08:47:47 +00:00)\n"
     ]
    }
   ],
   "source": [
    "from tokenizers import Tokenizer\n",
    "\n",
    "tokenizer_path = (\n",
    "    f\"{project_dir}/tokenizers/hf/enko_wiki/enko_wiki_bpe_huggingface_vocab_30000.json\"\n",
    ")\n",
    "\n",
    "bpe_tokenizer = Tokenizer.from_file(tokenizer_path)\n",
    "print(f\"Vocab size: {bpe_tokenizer.get_vocab_size()}\")\n",
    "print(bpe_tokenizer.encode(text_en[0]).tokens)\n",
    "print(bpe_tokenizer.encode(text_ko[0]).tokens)"
   ]
  },
  {
   "cell_type": "markdown",
   "metadata": {},
   "source": [
    "### Train Unigram tokenizer\n"
   ]
  },
  {
   "cell_type": "markdown",
   "metadata": {},
   "source": [
    "```python\n",
    "model_path = train_tokenizer(\"UNI\")\n",
    "```\n",
    "\n",
    "For a very large corpus, it may take a long time to train a Unigram tokenizer. It is recommended to use the following CLI command to train a Unigram tokenizer."
   ]
  },
  {
   "cell_type": "markdown",
   "metadata": {},
   "source": [
    "```bash\n",
    "ekorpkit \\\n",
    "    project.name=ekorpkit-book \\\n",
    "    dir.workspace=/content/drive/MyDrive/workspace \\\n",
    "    verbose=false \\\n",
    "    cmd=train_tokenizer \\\n",
    "    +tokenizer=train_hf \\\n",
    "    tokenizer.model_prefix=enko_wiki \\\n",
    "    tokenizer.model_type=unigram \\\n",
    "    tokenizer.vocab_size=30000 \\\n",
    "    tokenizer.input_files=sampled_sentences.txt \\\n",
    "    tokenizer.input_dir=data/tokenizers/enko_filtered_samples \\\n",
    "    tokenizer.output_dir=tokenizers/hf/enko_wiki\n",
    "```\n"
   ]
  },
  {
   "cell_type": "markdown",
   "metadata": {},
   "source": [
    ">  took 10m 10.7s\n",
    "\n",
    "With 256 processors, it took 10 minutes and 11 seconds to tokenize the 2,998,856 sentences.\n"
   ]
  },
  {
   "cell_type": "code",
   "execution_count": 28,
   "metadata": {},
   "outputs": [
    {
     "name": "stdout",
     "output_type": "stream",
     "text": [
      "Vocab size: 30000\n",
      "['This', 'article', 'describe', 's', 'the', 'process', 'by', 'which', 'the', 'territor', 'ial', 'ex', 't', 'ent', 'of', 'Morocc', 'o', 'came', 'to', 'be', 'as', 'it', 'is', 'now', '.']\n",
      "['크리', '클레이', '드', '(', 'C', 'rick', 'la', 'de', ')', '는', '잉글랜드의', '노스', '윌', '트', '셔', '에', '위치한', '템', '스', '강의', '타운', '이자', '지방', '행정', '구', '이다', '.', '스', '윈', '던', '과', '시', '런', '세', '스터', '의', '중간에', '위치해', '있다', '.']\n",
      "time: 82 ms (started: 2022-11-13 08:47:51 +00:00)\n"
     ]
    }
   ],
   "source": [
    "from tokenizers import Tokenizer\n",
    "\n",
    "tokenizer_path = (\n",
    "    f\"{project_dir}/tokenizers/hf/enko_wiki/enko_wiki_unigram_huggingface_vocab_30000.json\"\n",
    ")\n",
    "\n",
    "unigram_tokenizer = Tokenizer.from_file(tokenizer_path)\n",
    "print(f\"Vocab size: {bpe_tokenizer.get_vocab_size()}\")\n",
    "print(unigram_tokenizer.encode(text_en[0]).tokens)\n",
    "print(unigram_tokenizer.encode(text_ko[0]).tokens)"
   ]
  },
  {
   "cell_type": "markdown",
   "metadata": {},
   "source": [
    "## Train tokenizers with Google SentencePiece (SPM)\n",
    "\n",
    "### Install SentencePiece\n",
    "\n",
    "```bash\n",
    "pip install sentencepiece\n",
    "```\n"
   ]
  },
  {
   "cell_type": "markdown",
   "metadata": {},
   "source": [
    "### Train SentencePiece models\n",
    "\n",
    "You can use `train_spm` function to train a SentencePiece model. The `train_spm` function takes the following arguments:\n",
    "\n",
    "- `model_prefix`: The prefix of the model file. The model file will be saved as `{model_prefix}_{model_type}_vocab_{vocab_size}.model`.\n",
    "- `input`: The input file for training.\n",
    "- `output_dir`: The directory to save the model file.\n",
    "- `vocab_size`: The vocabulary size.\n",
    "- `model_type`: The model type. It can be `unigram` (default), `bpe`, `char`, or `word`.\n",
    "- `character_coverage`: The character coverage. It is only used for `unigram` and `bpe` model types. The default value is `1.0`.\n",
    "- `num_threads`: The number of threads to use for training. The default value is `1`. The max value is `128`.\n",
    "- `train_extremely_large_corpus`: Whether to train an extremely large corpus. The default value is `False`.\n"
   ]
  },
  {
   "cell_type": "markdown",
   "metadata": {},
   "source": [
    "#### Train Unigram model\n"
   ]
  },
  {
   "cell_type": "code",
   "execution_count": 26,
   "metadata": {},
   "outputs": [
    {
     "name": "stderr",
     "output_type": "stream",
     "text": [
      "INFO:ekorpkit.tokenizers.spm:Training SentencePiece model enko_wiki_unigram_vocab_30000.model\n",
      "sentencepiece_trainer.cc(77) LOG(INFO) Starts training with : \n",
      "trainer_spec {\n",
      "  input: /content/drive/MyDrive/workspace/projects/ekorpkit-book/data/tokenizers/enko_filtered_samples/sampled_sentences.txt\n",
      "  input_format: \n",
      "  model_prefix: \n",
      "  model_type: UNIGRAM\n",
      "  vocab_size: 30000\n",
      "  self_test_sample_size: 0\n",
      "  character_coverage: 0.9995\n",
      "  input_sentence_size: 0\n",
      "  shuffle_input_sentence: 1\n",
      "  seed_sentencepiece_size: 1000000\n",
      "  shrinking_factor: 0.75\n",
      "  max_sentence_length: 4192\n",
      "  num_threads: 128\n",
      "  num_sub_iterations: 2\n",
      "  max_sentencepiece_length: 16\n",
      "  split_by_unicode_script: 1\n",
      "  split_by_number: 1\n",
      "  split_by_whitespace: 1\n",
      "  split_digits: 0\n",
      "  treat_whitespace_as_suffix: 0\n",
      "  allow_whitespace_only_pieces: 0\n",
      "  required_chars: \n",
      "  byte_fallback: 0\n",
      "  vocabulary_output_piece_score: 1\n",
      "  train_extremely_large_corpus: 0\n",
      "  hard_vocab_limit: 1\n",
      "  use_all_vocab: 0\n",
      "  unk_id: 0\n",
      "  bos_id: 1\n",
      "  eos_id: 2\n",
      "  pad_id: -1\n",
      "  unk_piece: <unk>\n",
      "  bos_piece: <s>\n",
      "  eos_piece: </s>\n",
      "  pad_piece: <pad>\n",
      "  unk_surface:  ⁇ \n",
      "  enable_differential_privacy: 0\n",
      "  differential_privacy_noise_level: 0\n",
      "  differential_privacy_clipping_threshold: 0\n",
      "}\n",
      "normalizer_spec {\n",
      "  name: nmt_nfkc\n",
      "  add_dummy_prefix: 1\n",
      "  remove_extra_whitespaces: 1\n",
      "  escape_whitespaces: 1\n",
      "  normalization_rule_tsv: \n",
      "}\n",
      "denormalizer_spec {}\n",
      "trainer_interface.cc(350) LOG(INFO) SentenceIterator is not specified. Using MultiFileSentenceIterator.\n",
      "trainer_interface.cc(181) LOG(INFO) Loading corpus: /content/drive/MyDrive/workspace/projects/ekorpkit-book/data/tokenizers/enko_filtered_samples/sampled_sentences.txt\n",
      "trainer_interface.cc(143) LOG(INFO) Loaded 1000000 lines\n",
      "trainer_interface.cc(143) LOG(INFO) Loaded 2000000 lines\n",
      "trainer_interface.cc(143) LOG(INFO) Loaded 3000000 lines\n",
      "trainer_interface.cc(143) LOG(INFO) Loaded 4000000 lines\n",
      "trainer_interface.cc(143) LOG(INFO) Loaded 5000000 lines\n",
      "trainer_interface.cc(143) LOG(INFO) Loaded 6000000 lines\n",
      "trainer_interface.cc(143) LOG(INFO) Loaded 7000000 lines\n",
      "trainer_interface.cc(143) LOG(INFO) Loaded 8000000 lines\n",
      "trainer_interface.cc(143) LOG(INFO) Loaded 9000000 lines\n",
      "trainer_interface.cc(143) LOG(INFO) Loaded 10000000 lines\n",
      "trainer_interface.cc(143) LOG(INFO) Loaded 11000000 lines\n",
      "trainer_interface.cc(143) LOG(INFO) Loaded 12000000 lines\n",
      "trainer_interface.cc(143) LOG(INFO) Loaded 13000000 lines\n",
      "trainer_interface.cc(143) LOG(INFO) Loaded 14000000 lines\n",
      "trainer_interface.cc(143) LOG(INFO) Loaded 15000000 lines\n",
      "trainer_interface.cc(143) LOG(INFO) Loaded 16000000 lines\n",
      "trainer_interface.cc(143) LOG(INFO) Loaded 17000000 lines\n",
      "trainer_interface.cc(143) LOG(INFO) Loaded 18000000 lines\n",
      "trainer_interface.cc(143) LOG(INFO) Loaded 19000000 lines\n",
      "trainer_interface.cc(143) LOG(INFO) Loaded 20000000 lines\n",
      "trainer_interface.cc(143) LOG(INFO) Loaded 21000000 lines\n",
      "trainer_interface.cc(143) LOG(INFO) Loaded 22000000 lines\n",
      "trainer_interface.cc(143) LOG(INFO) Loaded 23000000 lines\n",
      "trainer_interface.cc(143) LOG(INFO) Loaded 24000000 lines\n",
      "trainer_interface.cc(120) LOG(WARNING) Too many sentences are loaded! (24420004), which may slow down training.\n",
      "trainer_interface.cc(122) LOG(WARNING) Consider using --input_sentence_size=<size> and --shuffle_input_sentence=true.\n",
      "trainer_interface.cc(125) LOG(WARNING) They allow to randomly sample <size> sentences from the entire corpus.\n",
      "trainer_interface.cc(406) LOG(INFO) Loaded all 24420004 sentences\n",
      "trainer_interface.cc(422) LOG(INFO) Adding meta_piece: <unk>\n",
      "trainer_interface.cc(422) LOG(INFO) Adding meta_piece: <s>\n",
      "trainer_interface.cc(422) LOG(INFO) Adding meta_piece: </s>\n",
      "trainer_interface.cc(427) LOG(INFO) Normalizing sentences...\n",
      "trainer_interface.cc(536) LOG(INFO) all chars count=1528397615\n",
      "trainer_interface.cc(547) LOG(INFO) Done: 99.95% characters are covered.\n",
      "trainer_interface.cc(557) LOG(INFO) Alphabet size=3816\n",
      "trainer_interface.cc(558) LOG(INFO) Final character coverage=0.9995\n",
      "trainer_interface.cc(590) LOG(INFO) Done! preprocessed 24419902 sentences.\n",
      "unigram_model_trainer.cc(146) LOG(INFO) Making suffix array...\n",
      "unigram_model_trainer.cc(150) LOG(INFO) ExtracINFO:ekorpkit.tokenizers.spm:saved model to /content/drive/MyDrive/workspace/projects/ekorpkit-book/tokenizers/spm/enko_wiki_unigram_vocab_30000.model\n"
     ]
    },
    {
     "name": "stdout",
     "output_type": "stream",
     "text": [
      "time: 23min 6s (started: 2022-11-12 08:03:08 +00:00)\n"
     ]
    },
    {
     "name": "stderr",
     "output_type": "stream",
     "text": [
      "ting frequent sub strings...\n",
      "unigram_model_trainer.cc(201) LOG(INFO) Initialized 1000000 seed sentencepieces\n",
      "trainer_interface.cc(596) LOG(INFO) Tokenizing input sentences with whitespace: 24419902\n",
      "trainer_interface.cc(607) LOG(INFO) Done! 4696044\n",
      "unigram_model_trainer.cc(491) LOG(INFO) Using 4696044 sentences for EM training\n",
      "unigram_model_trainer.cc(507) LOG(INFO) EM sub_iter=0 size=838106 obj=16.3019 num_tokens=14291441 num_tokens/piece=17.0521\n",
      "unigram_model_trainer.cc(507) LOG(INFO) EM sub_iter=1 size=688067 obj=14.038 num_tokens=14365800 num_tokens/piece=20.8785\n",
      "unigram_model_trainer.cc(507) LOG(INFO) EM sub_iter=0 size=516036 obj=13.9962 num_tokens=14484892 num_tokens/piece=28.0695\n",
      "unigram_model_trainer.cc(507) LOG(INFO) EM sub_iter=1 size=515998 obj=13.9855 num_tokens=14495195 num_tokens/piece=28.0916\n",
      "unigram_model_trainer.cc(507) LOG(INFO) EM sub_iter=0 size=386997 obj=14.0208 num_tokens=14763508 num_tokens/piece=38.1489\n",
      "unigram_model_trainer.cc(507) LOG(INFO) EM sub_iter=1 size=386994 obj=14.0098 num_tokens=14769200 num_tokens/piece=38.1639\n",
      "unigram_model_trainer.cc(507) LOG(INFO) EM sub_iter=0 size=290245 obj=14.1075 num_tokens=15208608 num_tokens/piece=52.3992\n",
      "unigram_model_trainer.cc(507) LOG(INFO) EM sub_iter=1 size=290245 obj=14.0799 num_tokens=15208857 num_tokens/piece=52.4001\n",
      "unigram_model_trainer.cc(507) LOG(INFO) EM sub_iter=0 size=217683 obj=14.2339 num_tokens=15712334 num_tokens/piece=72.1799\n",
      "unigram_model_trainer.cc(507) LOG(INFO) EM sub_iter=1 size=217683 obj=14.1986 num_tokens=15712378 num_tokens/piece=72.1801\n",
      "unigram_model_trainer.cc(507) LOG(INFO) EM sub_iter=0 size=163262 obj=14.3894 num_tokens=16252847 num_tokens/piece=99.5507\n",
      "unigram_model_trainer.cc(507) LOG(INFO) EM sub_iter=1 size=163262 obj=14.3501 num_tokens=16252560 num_tokens/piece=99.5489\n",
      "unigram_model_trainer.cc(507) LOG(INFO) EM sub_iter=0 size=122446 obj=14.5717 num_tokens=16812721 num_tokens/piece=137.307\n",
      "unigram_model_trainer.cc(507) LOG(INFO) EM sub_iter=1 size=122446 obj=14.5288 num_tokens=16812579 num_tokens/piece=137.306\n",
      "unigram_model_trainer.cc(507) LOG(INFO) EM sub_iter=0 size=91834 obj=14.7795 num_tokens=17416351 num_tokens/piece=189.65\n",
      "unigram_model_trainer.cc(507) LOG(INFO) EM sub_iter=1 size=91834 obj=14.7313 num_tokens=17416277 num_tokens/piece=189.65\n",
      "unigram_model_trainer.cc(507) LOG(INFO) EM sub_iter=0 size=68875 obj=15.012 num_tokens=18049647 num_tokens/piece=262.064\n",
      "unigram_model_trainer.cc(507) LOG(INFO) EM sub_iter=1 size=68875 obj=14.9565 num_tokens=18050042 num_tokens/piece=262.07\n",
      "unigram_model_trainer.cc(507) LOG(INFO) EM sub_iter=0 size=51656 obj=15.2728 num_tokens=18704298 num_tokens/piece=362.093\n",
      "unigram_model_trainer.cc(507) LOG(INFO) EM sub_iter=1 size=51656 obj=15.2075 num_tokens=18704520 num_tokens/piece=362.098\n",
      "unigram_model_trainer.cc(507) LOG(INFO) EM sub_iter=0 size=38742 obj=15.5638 num_tokens=19386320 num_tokens/piece=500.395\n",
      "unigram_model_trainer.cc(507) LOG(INFO) EM sub_iter=1 size=38742 obj=15.4915 num_tokens=19385990 num_tokens/piece=500.387\n",
      "unigram_model_trainer.cc(507) LOG(INFO) EM sub_iter=0 size=33000 obj=15.7017 num_tokens=19770798 num_tokens/piece=599.115\n",
      "unigram_model_trainer.cc(507) LOG(INFO) EM sub_iter=1 size=33000 obj=15.6585 num_tokens=19771014 num_tokens/piece=599.122\n"
     ]
    }
   ],
   "source": [
    "from ekorpkit.tokenizers.trainers.spm import train_spm\n",
    "\n",
    "uni_model_path = train_spm(\n",
    "    model_prefix=\"enko_wiki\",\n",
    "    input=sampled_file,\n",
    "    output_dir=project_dir + \"/tokenizers/spm\",\n",
    "    model_type=\"unigram\",\n",
    "    vocab_size=30000,\n",
    "    character_coverage=0.9995,\n",
    "    num_threads=128,\n",
    ")\n"
   ]
  },
  {
   "cell_type": "markdown",
   "metadata": {},
   "source": [
    "> time: 23min 6s (started: 2022-11-12 08:03:08 +00:00)\n",
    "\n",
    "It took 23 minutes to train a unigram model with a vocabulary size of 30,000. The model file was saved in the `{project_dir}/tokenizers` directory.\n"
   ]
  },
  {
   "cell_type": "markdown",
   "metadata": {},
   "source": [
    "```bash\n",
    "ekorpkit \\\n",
    "    project.name=ekorpkit-book \\\n",
    "    dir.workspace=/content/drive/MyDrive/workspace \\\n",
    "    verbose=false \\\n",
    "    cmd=train_tokenizer \\\n",
    "    +tokenizer=train_spm \\\n",
    "    tokenizer.model_prefix=enko_wiki \\\n",
    "    tokenizer.model_type=unigram \\\n",
    "    tokenizer.vocab_size=30000 \\\n",
    "    tokenizer.input_files=sampled_sentences.txt \\\n",
    "    tokenizer.input_dir=data/tokenizers/enko_filtered_samples \\\n",
    "    tokenizer.output_dir=tokenizers/spm/enko_wiki \\\n",
    "    tokenizer.character_coverage=0.9995 \\\n",
    "    tokenizer.num_workers=128\n",
    "```\n"
   ]
  },
  {
   "cell_type": "markdown",
   "metadata": {},
   "source": [
    ">  took 4m 2.4s\n",
    "\n",
    "With 128 processors, it took 4 minutes and 2 seconds to tokenize the 2,998,856 sentences.\n"
   ]
  },
  {
   "cell_type": "markdown",
   "metadata": {},
   "source": [
    "#### Load the trained model\n"
   ]
  },
  {
   "cell_type": "code",
   "execution_count": 29,
   "metadata": {},
   "outputs": [
    {
     "name": "stdout",
     "output_type": "stream",
     "text": [
      "Vocab size: 30000\n",
      "['▁This', '▁article', '▁describes', '▁the', '▁process', '▁by', '▁which', '▁the', '▁', 'ter', 'ri', 'torial', '▁ex', 't', 'ent', '▁of', '▁Morocco', '▁came', '▁to', '▁be', '▁as', '▁it', '▁is', '▁now', '.']\n",
      "['▁크리', '클', '레이드', '(', 'C', 'rick', 'lade', ')', '는', '▁잉글랜드의', '▁노스', '▁윌', '트', '셔', '에', '▁위치한', '▁', '템', '스', '▁강의', '▁타운', '이자', '▁지방', '▁행정', '구', '이다', '.', '▁스', '윈', '던', '과', '▁시', '런', '세', '스터', '의', '▁중간에', '▁위치해', '▁있다', '.']\n",
      "time: 67.4 ms (started: 2022-11-13 08:48:00 +00:00)\n"
     ]
    }
   ],
   "source": [
    "import sentencepiece as spm\n",
    "\n",
    "model_file = \"tokenizers/spm/enko_wiki_unigram_vocab_30000.model\"\n",
    "model_file = project_dir + \"/\" + model_file\n",
    "uni_spm = spm.SentencePieceProcessor(model_file=model_file)\n",
    "print(f\"Vocab size: {uni_spm.vocab_size()}\")\n",
    "print(uni_spm.encode(text_en[0], out_type=str))\n",
    "print(uni_spm.encode(text_ko[0], out_type=str))"
   ]
  },
  {
   "cell_type": "markdown",
   "metadata": {},
   "source": [
    "#### Train BPE model\n"
   ]
  },
  {
   "cell_type": "markdown",
   "metadata": {},
   "source": [
    "```bash\n",
    "ekorpkit \\\n",
    "    project.name=ekorpkit-book \\\n",
    "    dir.workspace=/content/drive/MyDrive/workspace \\\n",
    "    verbose=false \\\n",
    "    cmd=train_tokenizer \\\n",
    "    +tokenizer=train_spm \\\n",
    "    tokenizer.model_prefix=enko_wiki \\\n",
    "    tokenizer.model_type=bpe \\\n",
    "    tokenizer.vocab_size=30000 \\\n",
    "    tokenizer.input_files=sampled_sentences.txt \\\n",
    "    tokenizer.input_dir=data/tokenizers/enko_filtered_samples \\\n",
    "    tokenizer.output_dir=tokenizers/spm/enko_wiki \\\n",
    "    tokenizer.character_coverage=0.9995 \\\n",
    "    tokenizer.num_workers=128\n",
    "```"
   ]
  },
  {
   "cell_type": "markdown",
   "metadata": {},
   "source": [
    ">  took 8m 41.8s\n",
    "\n",
    "With 128 processors, it took 8 minutes and 42 seconds to tokenize the 2,998,856 sentences.\n"
   ]
  },
  {
   "cell_type": "markdown",
   "metadata": {},
   "source": [
    "#### Load the trained model\n"
   ]
  },
  {
   "cell_type": "code",
   "execution_count": 30,
   "metadata": {},
   "outputs": [
    {
     "name": "stdout",
     "output_type": "stream",
     "text": [
      "Vocab size: 30000\n",
      "['▁This', '▁article', '▁describes', '▁the', '▁process', '▁by', '▁which', '▁the', '▁ter', 'rit', 'orial', '▁ext', 'ent', '▁of', '▁Morocco', '▁came', '▁to', '▁be', '▁as', '▁it', '▁is', '▁now', '.']\n",
      "['▁크리', '클', '레이드', '(', 'C', 'rick', 'l', 'ade', ')', '는', '▁잉글랜드의', '▁노스', '▁윌', '트', '셔', '에', '▁위치한', '▁템', '스', '▁강의', '▁타운', '이자', '▁지방', '▁행정', '구이다', '.', '▁스', '윈', '던', '과', '▁시', '런', '세', '스터', '의', '▁중간에', '▁위치해', '▁있다', '.']\n",
      "time: 34.1 ms (started: 2022-11-13 08:48:11 +00:00)\n"
     ]
    }
   ],
   "source": [
    "import sentencepiece as spm\n",
    "\n",
    "model_file = \"tokenizers/spm/enko_wiki_bpe_vocab_30000.model\"\n",
    "model_file = project_dir + \"/\" + model_file\n",
    "bpe_spm = spm.SentencePieceProcessor(model_file=model_file)\n",
    "print(f\"Vocab size: {uni_spm.vocab_size()}\")\n",
    "print(bpe_spm.encode(text_en[0], out_type=str))\n",
    "print(bpe_spm.encode(text_ko[0], out_type=str))"
   ]
  },
  {
   "cell_type": "markdown",
   "metadata": {},
   "source": [
    "## Compare the Tokenizers\n",
    "\n",
    "### Load the tokenizers\n"
   ]
  },
  {
   "cell_type": "code",
   "execution_count": 32,
   "metadata": {},
   "outputs": [
    {
     "name": "stdout",
     "output_type": "stream",
     "text": [
      "time: 20.6 ms (started: 2022-11-13 08:48:24 +00:00)\n"
     ]
    }
   ],
   "source": [
    "tokenizers = {\n",
    "    \"BPE\": bpe_tokenizer,\n",
    "    \"UNI\": unigram_tokenizer,\n",
    "    \"UNI_SPM\": uni_spm,\n",
    "    \"BPE_SPM\": bpe_spm,\n",
    "}\n",
    "\n",
    "\n",
    "def tokenize(tokenizer, text):\n",
    "    \"\"\"\n",
    "    Tokenizes the text using the tokenizer.\n",
    "    \"\"\"\n",
    "    if isinstance(tokenizer, spm.SentencePieceProcessor):\n",
    "        return tokenizer.encode(text, out_type=str)\n",
    "    return tokenizer.encode(text).tokens"
   ]
  },
  {
   "cell_type": "markdown",
   "metadata": {},
   "source": [
    "### Analyze the output of the tokenizers\n"
   ]
  },
  {
   "cell_type": "code",
   "execution_count": 33,
   "metadata": {},
   "outputs": [
    {
     "name": "stdout",
     "output_type": "stream",
     "text": [
      "Tokenizer: BPE\n",
      "['This', 'article', 'describ', 'es', 'the', 'process', 'by', 'which', 'the', 'ter', 'rit', 'or', 'ial', 'ext', 'ent', 'of', 'Moroc', 'co', 'came', 'to', 'be', 'as', 'it', 'is', 'now', '.']\n",
      "--------------------------------------------------\n",
      "Tokenizer: UNI\n",
      "['This', 'article', 'describe', 's', 'the', 'process', 'by', 'which', 'the', 'territor', 'ial', 'ex', 't', 'ent', 'of', 'Morocc', 'o', 'came', 'to', 'be', 'as', 'it', 'is', 'now', '.']\n",
      "--------------------------------------------------\n",
      "Tokenizer: UNI_SPM\n",
      "['▁This', '▁article', '▁describes', '▁the', '▁process', '▁by', '▁which', '▁the', '▁', 'ter', 'ri', 'torial', '▁ex', 't', 'ent', '▁of', '▁Morocco', '▁came', '▁to', '▁be', '▁as', '▁it', '▁is', '▁now', '.']\n",
      "--------------------------------------------------\n",
      "Tokenizer: BPE_SPM\n",
      "['▁This', '▁article', '▁describes', '▁the', '▁process', '▁by', '▁which', '▁the', '▁ter', 'rit', 'orial', '▁ext', 'ent', '▁of', '▁Morocco', '▁came', '▁to', '▁be', '▁as', '▁it', '▁is', '▁now', '.']\n",
      "--------------------------------------------------\n",
      "Tokenizer: BPE\n",
      "['크리', '클', '레이드', '(', 'C', 'rick', 'l', 'ade', ')', '는', '잉글랜드의', '노스', '윌', '트', '셔', '에', '위치한', '템', '스', '강의', '타운', '이자', '지방', '행정', '구이다', '.', '스', '윈', '던', '과', '시', '런', '세', '스터', '의', '중간에', '위치해', '있다', '.']\n",
      "--------------------------------------------------\n",
      "Tokenizer: UNI\n",
      "['크리', '클레이', '드', '(', 'C', 'rick', 'la', 'de', ')', '는', '잉글랜드의', '노스', '윌', '트', '셔', '에', '위치한', '템', '스', '강의', '타운', '이자', '지방', '행정', '구', '이다', '.', '스', '윈', '던', '과', '시', '런', '세', '스터', '의', '중간에', '위치해', '있다', '.']\n",
      "--------------------------------------------------\n",
      "Tokenizer: UNI_SPM\n",
      "['▁크리', '클', '레이드', '(', 'C', 'rick', 'lade', ')', '는', '▁잉글랜드의', '▁노스', '▁윌', '트', '셔', '에', '▁위치한', '▁', '템', '스', '▁강의', '▁타운', '이자', '▁지방', '▁행정', '구', '이다', '.', '▁스', '윈', '던', '과', '▁시', '런', '세', '스터', '의', '▁중간에', '▁위치해', '▁있다', '.']\n",
      "--------------------------------------------------\n",
      "Tokenizer: BPE_SPM\n",
      "['▁크리', '클', '레이드', '(', 'C', 'rick', 'l', 'ade', ')', '는', '▁잉글랜드의', '▁노스', '▁윌', '트', '셔', '에', '▁위치한', '▁템', '스', '▁강의', '▁타운', '이자', '▁지방', '▁행정', '구이다', '.', '▁스', '윈', '던', '과', '▁시', '런', '세', '스터', '의', '▁중간에', '▁위치해', '▁있다', '.']\n",
      "--------------------------------------------------\n",
      "time: 20.8 ms (started: 2022-11-13 08:48:25 +00:00)\n"
     ]
    }
   ],
   "source": [
    "texts = [text_en[0] , text_ko[0]]\n",
    "tokens = {name: [] for name in tokenizers.keys()}\n",
    "\n",
    "\n",
    "# tokenize the texts with the tokenizers\n",
    "for text in texts:\n",
    "    for name, tokenizer in tokenizers.items():\n",
    "        print(f\"Tokenizer: {name}\")\n",
    "        tokens[name].append(tokenize(tokenizer, text))\n",
    "        print(tokens[name][-1])\n",
    "        print(\"-\" * 50)"
   ]
  },
  {
   "cell_type": "markdown",
   "metadata": {},
   "source": [
    "### Compare the Tokens\n"
   ]
  },
  {
   "cell_type": "code",
   "execution_count": 34,
   "metadata": {},
   "outputs": [
    {
     "name": "stdout",
     "output_type": "stream",
     "text": [
      "time: 20.5 ms (started: 2022-11-13 08:48:30 +00:00)\n"
     ]
    }
   ],
   "source": [
    "import pandas as pd\n",
    "\n",
    "\n",
    "def compare_tokens(tokenizers, tokens, sample_num=0):\n",
    "\n",
    "    max_len = max(len(tokens[name][sample_num]) for name in tokenizers.keys())\n",
    "    diffs = {\n",
    "        name: max_len - len(tokens[name][sample_num]) for name in tokenizers.keys()\n",
    "    }\n",
    "\n",
    "    padded_tokens = {\n",
    "        name: tokens[name][sample_num] + [\"\"] * diffs[name]\n",
    "        for name in tokenizers.keys()\n",
    "    }\n",
    "\n",
    "    df = pd.DataFrame(padded_tokens)\n",
    "    return df"
   ]
  },
  {
   "cell_type": "code",
   "execution_count": 35,
   "metadata": {},
   "outputs": [
    {
     "data": {
      "text/html": [
       "<div>\n",
       "<style scoped>\n",
       "    .dataframe tbody tr th:only-of-type {\n",
       "        vertical-align: middle;\n",
       "    }\n",
       "\n",
       "    .dataframe tbody tr th {\n",
       "        vertical-align: top;\n",
       "    }\n",
       "\n",
       "    .dataframe thead th {\n",
       "        text-align: right;\n",
       "    }\n",
       "</style>\n",
       "<table border=\"1\" class=\"dataframe\">\n",
       "  <thead>\n",
       "    <tr style=\"text-align: right;\">\n",
       "      <th></th>\n",
       "      <th>BPE</th>\n",
       "      <th>UNI</th>\n",
       "      <th>UNI_SPM</th>\n",
       "      <th>BPE_SPM</th>\n",
       "    </tr>\n",
       "  </thead>\n",
       "  <tbody>\n",
       "    <tr>\n",
       "      <th>0</th>\n",
       "      <td>This</td>\n",
       "      <td>This</td>\n",
       "      <td>▁This</td>\n",
       "      <td>▁This</td>\n",
       "    </tr>\n",
       "    <tr>\n",
       "      <th>1</th>\n",
       "      <td>article</td>\n",
       "      <td>article</td>\n",
       "      <td>▁article</td>\n",
       "      <td>▁article</td>\n",
       "    </tr>\n",
       "    <tr>\n",
       "      <th>2</th>\n",
       "      <td>describ</td>\n",
       "      <td>describe</td>\n",
       "      <td>▁describes</td>\n",
       "      <td>▁describes</td>\n",
       "    </tr>\n",
       "    <tr>\n",
       "      <th>3</th>\n",
       "      <td>es</td>\n",
       "      <td>s</td>\n",
       "      <td>▁the</td>\n",
       "      <td>▁the</td>\n",
       "    </tr>\n",
       "    <tr>\n",
       "      <th>4</th>\n",
       "      <td>the</td>\n",
       "      <td>the</td>\n",
       "      <td>▁process</td>\n",
       "      <td>▁process</td>\n",
       "    </tr>\n",
       "    <tr>\n",
       "      <th>5</th>\n",
       "      <td>process</td>\n",
       "      <td>process</td>\n",
       "      <td>▁by</td>\n",
       "      <td>▁by</td>\n",
       "    </tr>\n",
       "    <tr>\n",
       "      <th>6</th>\n",
       "      <td>by</td>\n",
       "      <td>by</td>\n",
       "      <td>▁which</td>\n",
       "      <td>▁which</td>\n",
       "    </tr>\n",
       "    <tr>\n",
       "      <th>7</th>\n",
       "      <td>which</td>\n",
       "      <td>which</td>\n",
       "      <td>▁the</td>\n",
       "      <td>▁the</td>\n",
       "    </tr>\n",
       "    <tr>\n",
       "      <th>8</th>\n",
       "      <td>the</td>\n",
       "      <td>the</td>\n",
       "      <td>▁</td>\n",
       "      <td>▁ter</td>\n",
       "    </tr>\n",
       "    <tr>\n",
       "      <th>9</th>\n",
       "      <td>ter</td>\n",
       "      <td>territor</td>\n",
       "      <td>ter</td>\n",
       "      <td>rit</td>\n",
       "    </tr>\n",
       "    <tr>\n",
       "      <th>10</th>\n",
       "      <td>rit</td>\n",
       "      <td>ial</td>\n",
       "      <td>ri</td>\n",
       "      <td>orial</td>\n",
       "    </tr>\n",
       "    <tr>\n",
       "      <th>11</th>\n",
       "      <td>or</td>\n",
       "      <td>ex</td>\n",
       "      <td>torial</td>\n",
       "      <td>▁ext</td>\n",
       "    </tr>\n",
       "    <tr>\n",
       "      <th>12</th>\n",
       "      <td>ial</td>\n",
       "      <td>t</td>\n",
       "      <td>▁ex</td>\n",
       "      <td>ent</td>\n",
       "    </tr>\n",
       "    <tr>\n",
       "      <th>13</th>\n",
       "      <td>ext</td>\n",
       "      <td>ent</td>\n",
       "      <td>t</td>\n",
       "      <td>▁of</td>\n",
       "    </tr>\n",
       "    <tr>\n",
       "      <th>14</th>\n",
       "      <td>ent</td>\n",
       "      <td>of</td>\n",
       "      <td>ent</td>\n",
       "      <td>▁Morocco</td>\n",
       "    </tr>\n",
       "    <tr>\n",
       "      <th>15</th>\n",
       "      <td>of</td>\n",
       "      <td>Morocc</td>\n",
       "      <td>▁of</td>\n",
       "      <td>▁came</td>\n",
       "    </tr>\n",
       "    <tr>\n",
       "      <th>16</th>\n",
       "      <td>Moroc</td>\n",
       "      <td>o</td>\n",
       "      <td>▁Morocco</td>\n",
       "      <td>▁to</td>\n",
       "    </tr>\n",
       "    <tr>\n",
       "      <th>17</th>\n",
       "      <td>co</td>\n",
       "      <td>came</td>\n",
       "      <td>▁came</td>\n",
       "      <td>▁be</td>\n",
       "    </tr>\n",
       "    <tr>\n",
       "      <th>18</th>\n",
       "      <td>came</td>\n",
       "      <td>to</td>\n",
       "      <td>▁to</td>\n",
       "      <td>▁as</td>\n",
       "    </tr>\n",
       "    <tr>\n",
       "      <th>19</th>\n",
       "      <td>to</td>\n",
       "      <td>be</td>\n",
       "      <td>▁be</td>\n",
       "      <td>▁it</td>\n",
       "    </tr>\n",
       "    <tr>\n",
       "      <th>20</th>\n",
       "      <td>be</td>\n",
       "      <td>as</td>\n",
       "      <td>▁as</td>\n",
       "      <td>▁is</td>\n",
       "    </tr>\n",
       "    <tr>\n",
       "      <th>21</th>\n",
       "      <td>as</td>\n",
       "      <td>it</td>\n",
       "      <td>▁it</td>\n",
       "      <td>▁now</td>\n",
       "    </tr>\n",
       "    <tr>\n",
       "      <th>22</th>\n",
       "      <td>it</td>\n",
       "      <td>is</td>\n",
       "      <td>▁is</td>\n",
       "      <td>.</td>\n",
       "    </tr>\n",
       "    <tr>\n",
       "      <th>23</th>\n",
       "      <td>is</td>\n",
       "      <td>now</td>\n",
       "      <td>▁now</td>\n",
       "      <td></td>\n",
       "    </tr>\n",
       "    <tr>\n",
       "      <th>24</th>\n",
       "      <td>now</td>\n",
       "      <td>.</td>\n",
       "      <td>.</td>\n",
       "      <td></td>\n",
       "    </tr>\n",
       "    <tr>\n",
       "      <th>25</th>\n",
       "      <td>.</td>\n",
       "      <td></td>\n",
       "      <td></td>\n",
       "      <td></td>\n",
       "    </tr>\n",
       "  </tbody>\n",
       "</table>\n",
       "</div>"
      ],
      "text/plain": [
       "        BPE       UNI     UNI_SPM     BPE_SPM\n",
       "0      This      This       ▁This       ▁This\n",
       "1   article   article    ▁article    ▁article\n",
       "2   describ  describe  ▁describes  ▁describes\n",
       "3        es         s        ▁the        ▁the\n",
       "4       the       the    ▁process    ▁process\n",
       "5   process   process         ▁by         ▁by\n",
       "6        by        by      ▁which      ▁which\n",
       "7     which     which        ▁the        ▁the\n",
       "8       the       the           ▁        ▁ter\n",
       "9       ter  territor         ter         rit\n",
       "10      rit       ial          ri       orial\n",
       "11       or        ex      torial        ▁ext\n",
       "12      ial         t         ▁ex         ent\n",
       "13      ext       ent           t         ▁of\n",
       "14      ent        of         ent    ▁Morocco\n",
       "15       of    Morocc         ▁of       ▁came\n",
       "16    Moroc         o    ▁Morocco         ▁to\n",
       "17       co      came       ▁came         ▁be\n",
       "18     came        to         ▁to         ▁as\n",
       "19       to        be         ▁be         ▁it\n",
       "20       be        as         ▁as         ▁is\n",
       "21       as        it         ▁it        ▁now\n",
       "22       it        is         ▁is           .\n",
       "23       is       now        ▁now            \n",
       "24      now         .           .            \n",
       "25        .                                  "
      ]
     },
     "execution_count": 35,
     "metadata": {},
     "output_type": "execute_result"
    },
    {
     "name": "stdout",
     "output_type": "stream",
     "text": [
      "time: 26.6 ms (started: 2022-11-13 08:48:31 +00:00)\n"
     ]
    }
   ],
   "source": [
    "compare_tokens(tokenizers, tokens, sample_num=0)"
   ]
  },
  {
   "cell_type": "code",
   "execution_count": 36,
   "metadata": {},
   "outputs": [
    {
     "data": {
      "text/html": [
       "<div>\n",
       "<style scoped>\n",
       "    .dataframe tbody tr th:only-of-type {\n",
       "        vertical-align: middle;\n",
       "    }\n",
       "\n",
       "    .dataframe tbody tr th {\n",
       "        vertical-align: top;\n",
       "    }\n",
       "\n",
       "    .dataframe thead th {\n",
       "        text-align: right;\n",
       "    }\n",
       "</style>\n",
       "<table border=\"1\" class=\"dataframe\">\n",
       "  <thead>\n",
       "    <tr style=\"text-align: right;\">\n",
       "      <th></th>\n",
       "      <th>BPE</th>\n",
       "      <th>UNI</th>\n",
       "      <th>UNI_SPM</th>\n",
       "      <th>BPE_SPM</th>\n",
       "    </tr>\n",
       "  </thead>\n",
       "  <tbody>\n",
       "    <tr>\n",
       "      <th>0</th>\n",
       "      <td>크리</td>\n",
       "      <td>크리</td>\n",
       "      <td>▁크리</td>\n",
       "      <td>▁크리</td>\n",
       "    </tr>\n",
       "    <tr>\n",
       "      <th>1</th>\n",
       "      <td>클</td>\n",
       "      <td>클레이</td>\n",
       "      <td>클</td>\n",
       "      <td>클</td>\n",
       "    </tr>\n",
       "    <tr>\n",
       "      <th>2</th>\n",
       "      <td>레이드</td>\n",
       "      <td>드</td>\n",
       "      <td>레이드</td>\n",
       "      <td>레이드</td>\n",
       "    </tr>\n",
       "    <tr>\n",
       "      <th>3</th>\n",
       "      <td>(</td>\n",
       "      <td>(</td>\n",
       "      <td>(</td>\n",
       "      <td>(</td>\n",
       "    </tr>\n",
       "    <tr>\n",
       "      <th>4</th>\n",
       "      <td>C</td>\n",
       "      <td>C</td>\n",
       "      <td>C</td>\n",
       "      <td>C</td>\n",
       "    </tr>\n",
       "    <tr>\n",
       "      <th>5</th>\n",
       "      <td>rick</td>\n",
       "      <td>rick</td>\n",
       "      <td>rick</td>\n",
       "      <td>rick</td>\n",
       "    </tr>\n",
       "    <tr>\n",
       "      <th>6</th>\n",
       "      <td>l</td>\n",
       "      <td>la</td>\n",
       "      <td>lade</td>\n",
       "      <td>l</td>\n",
       "    </tr>\n",
       "    <tr>\n",
       "      <th>7</th>\n",
       "      <td>ade</td>\n",
       "      <td>de</td>\n",
       "      <td>)</td>\n",
       "      <td>ade</td>\n",
       "    </tr>\n",
       "    <tr>\n",
       "      <th>8</th>\n",
       "      <td>)</td>\n",
       "      <td>)</td>\n",
       "      <td>는</td>\n",
       "      <td>)</td>\n",
       "    </tr>\n",
       "    <tr>\n",
       "      <th>9</th>\n",
       "      <td>는</td>\n",
       "      <td>는</td>\n",
       "      <td>▁잉글랜드의</td>\n",
       "      <td>는</td>\n",
       "    </tr>\n",
       "    <tr>\n",
       "      <th>10</th>\n",
       "      <td>잉글랜드의</td>\n",
       "      <td>잉글랜드의</td>\n",
       "      <td>▁노스</td>\n",
       "      <td>▁잉글랜드의</td>\n",
       "    </tr>\n",
       "    <tr>\n",
       "      <th>11</th>\n",
       "      <td>노스</td>\n",
       "      <td>노스</td>\n",
       "      <td>▁윌</td>\n",
       "      <td>▁노스</td>\n",
       "    </tr>\n",
       "    <tr>\n",
       "      <th>12</th>\n",
       "      <td>윌</td>\n",
       "      <td>윌</td>\n",
       "      <td>트</td>\n",
       "      <td>▁윌</td>\n",
       "    </tr>\n",
       "    <tr>\n",
       "      <th>13</th>\n",
       "      <td>트</td>\n",
       "      <td>트</td>\n",
       "      <td>셔</td>\n",
       "      <td>트</td>\n",
       "    </tr>\n",
       "    <tr>\n",
       "      <th>14</th>\n",
       "      <td>셔</td>\n",
       "      <td>셔</td>\n",
       "      <td>에</td>\n",
       "      <td>셔</td>\n",
       "    </tr>\n",
       "    <tr>\n",
       "      <th>15</th>\n",
       "      <td>에</td>\n",
       "      <td>에</td>\n",
       "      <td>▁위치한</td>\n",
       "      <td>에</td>\n",
       "    </tr>\n",
       "    <tr>\n",
       "      <th>16</th>\n",
       "      <td>위치한</td>\n",
       "      <td>위치한</td>\n",
       "      <td>▁</td>\n",
       "      <td>▁위치한</td>\n",
       "    </tr>\n",
       "    <tr>\n",
       "      <th>17</th>\n",
       "      <td>템</td>\n",
       "      <td>템</td>\n",
       "      <td>템</td>\n",
       "      <td>▁템</td>\n",
       "    </tr>\n",
       "    <tr>\n",
       "      <th>18</th>\n",
       "      <td>스</td>\n",
       "      <td>스</td>\n",
       "      <td>스</td>\n",
       "      <td>스</td>\n",
       "    </tr>\n",
       "    <tr>\n",
       "      <th>19</th>\n",
       "      <td>강의</td>\n",
       "      <td>강의</td>\n",
       "      <td>▁강의</td>\n",
       "      <td>▁강의</td>\n",
       "    </tr>\n",
       "    <tr>\n",
       "      <th>20</th>\n",
       "      <td>타운</td>\n",
       "      <td>타운</td>\n",
       "      <td>▁타운</td>\n",
       "      <td>▁타운</td>\n",
       "    </tr>\n",
       "    <tr>\n",
       "      <th>21</th>\n",
       "      <td>이자</td>\n",
       "      <td>이자</td>\n",
       "      <td>이자</td>\n",
       "      <td>이자</td>\n",
       "    </tr>\n",
       "    <tr>\n",
       "      <th>22</th>\n",
       "      <td>지방</td>\n",
       "      <td>지방</td>\n",
       "      <td>▁지방</td>\n",
       "      <td>▁지방</td>\n",
       "    </tr>\n",
       "    <tr>\n",
       "      <th>23</th>\n",
       "      <td>행정</td>\n",
       "      <td>행정</td>\n",
       "      <td>▁행정</td>\n",
       "      <td>▁행정</td>\n",
       "    </tr>\n",
       "    <tr>\n",
       "      <th>24</th>\n",
       "      <td>구이다</td>\n",
       "      <td>구</td>\n",
       "      <td>구</td>\n",
       "      <td>구이다</td>\n",
       "    </tr>\n",
       "    <tr>\n",
       "      <th>25</th>\n",
       "      <td>.</td>\n",
       "      <td>이다</td>\n",
       "      <td>이다</td>\n",
       "      <td>.</td>\n",
       "    </tr>\n",
       "    <tr>\n",
       "      <th>26</th>\n",
       "      <td>스</td>\n",
       "      <td>.</td>\n",
       "      <td>.</td>\n",
       "      <td>▁스</td>\n",
       "    </tr>\n",
       "    <tr>\n",
       "      <th>27</th>\n",
       "      <td>윈</td>\n",
       "      <td>스</td>\n",
       "      <td>▁스</td>\n",
       "      <td>윈</td>\n",
       "    </tr>\n",
       "    <tr>\n",
       "      <th>28</th>\n",
       "      <td>던</td>\n",
       "      <td>윈</td>\n",
       "      <td>윈</td>\n",
       "      <td>던</td>\n",
       "    </tr>\n",
       "    <tr>\n",
       "      <th>29</th>\n",
       "      <td>과</td>\n",
       "      <td>던</td>\n",
       "      <td>던</td>\n",
       "      <td>과</td>\n",
       "    </tr>\n",
       "    <tr>\n",
       "      <th>30</th>\n",
       "      <td>시</td>\n",
       "      <td>과</td>\n",
       "      <td>과</td>\n",
       "      <td>▁시</td>\n",
       "    </tr>\n",
       "    <tr>\n",
       "      <th>31</th>\n",
       "      <td>런</td>\n",
       "      <td>시</td>\n",
       "      <td>▁시</td>\n",
       "      <td>런</td>\n",
       "    </tr>\n",
       "    <tr>\n",
       "      <th>32</th>\n",
       "      <td>세</td>\n",
       "      <td>런</td>\n",
       "      <td>런</td>\n",
       "      <td>세</td>\n",
       "    </tr>\n",
       "    <tr>\n",
       "      <th>33</th>\n",
       "      <td>스터</td>\n",
       "      <td>세</td>\n",
       "      <td>세</td>\n",
       "      <td>스터</td>\n",
       "    </tr>\n",
       "    <tr>\n",
       "      <th>34</th>\n",
       "      <td>의</td>\n",
       "      <td>스터</td>\n",
       "      <td>스터</td>\n",
       "      <td>의</td>\n",
       "    </tr>\n",
       "    <tr>\n",
       "      <th>35</th>\n",
       "      <td>중간에</td>\n",
       "      <td>의</td>\n",
       "      <td>의</td>\n",
       "      <td>▁중간에</td>\n",
       "    </tr>\n",
       "    <tr>\n",
       "      <th>36</th>\n",
       "      <td>위치해</td>\n",
       "      <td>중간에</td>\n",
       "      <td>▁중간에</td>\n",
       "      <td>▁위치해</td>\n",
       "    </tr>\n",
       "    <tr>\n",
       "      <th>37</th>\n",
       "      <td>있다</td>\n",
       "      <td>위치해</td>\n",
       "      <td>▁위치해</td>\n",
       "      <td>▁있다</td>\n",
       "    </tr>\n",
       "    <tr>\n",
       "      <th>38</th>\n",
       "      <td>.</td>\n",
       "      <td>있다</td>\n",
       "      <td>▁있다</td>\n",
       "      <td>.</td>\n",
       "    </tr>\n",
       "    <tr>\n",
       "      <th>39</th>\n",
       "      <td></td>\n",
       "      <td>.</td>\n",
       "      <td>.</td>\n",
       "      <td></td>\n",
       "    </tr>\n",
       "  </tbody>\n",
       "</table>\n",
       "</div>"
      ],
      "text/plain": [
       "      BPE    UNI UNI_SPM BPE_SPM\n",
       "0      크리     크리     ▁크리     ▁크리\n",
       "1       클    클레이       클       클\n",
       "2     레이드      드     레이드     레이드\n",
       "3       (      (       (       (\n",
       "4       C      C       C       C\n",
       "5    rick   rick    rick    rick\n",
       "6       l     la    lade       l\n",
       "7     ade     de       )     ade\n",
       "8       )      )       는       )\n",
       "9       는      는  ▁잉글랜드의       는\n",
       "10  잉글랜드의  잉글랜드의     ▁노스  ▁잉글랜드의\n",
       "11     노스     노스      ▁윌     ▁노스\n",
       "12      윌      윌       트      ▁윌\n",
       "13      트      트       셔       트\n",
       "14      셔      셔       에       셔\n",
       "15      에      에    ▁위치한       에\n",
       "16    위치한    위치한       ▁    ▁위치한\n",
       "17      템      템       템      ▁템\n",
       "18      스      스       스       스\n",
       "19     강의     강의     ▁강의     ▁강의\n",
       "20     타운     타운     ▁타운     ▁타운\n",
       "21     이자     이자      이자      이자\n",
       "22     지방     지방     ▁지방     ▁지방\n",
       "23     행정     행정     ▁행정     ▁행정\n",
       "24    구이다      구       구     구이다\n",
       "25      .     이다      이다       .\n",
       "26      스      .       .      ▁스\n",
       "27      윈      스      ▁스       윈\n",
       "28      던      윈       윈       던\n",
       "29      과      던       던       과\n",
       "30      시      과       과      ▁시\n",
       "31      런      시      ▁시       런\n",
       "32      세      런       런       세\n",
       "33     스터      세       세      스터\n",
       "34      의     스터      스터       의\n",
       "35    중간에      의       의    ▁중간에\n",
       "36    위치해    중간에    ▁중간에    ▁위치해\n",
       "37     있다    위치해    ▁위치해     ▁있다\n",
       "38      .     있다     ▁있다       .\n",
       "39             .       .        "
      ]
     },
     "execution_count": 36,
     "metadata": {},
     "output_type": "execute_result"
    },
    {
     "name": "stdout",
     "output_type": "stream",
     "text": [
      "time: 26.1 ms (started: 2022-11-13 08:48:32 +00:00)\n"
     ]
    }
   ],
   "source": [
    "compare_tokens(tokenizers, tokens, sample_num=1)"
   ]
  },
  {
   "cell_type": "code",
   "execution_count": null,
   "metadata": {},
   "outputs": [],
   "source": []
  }
 ],
 "metadata": {
  "colab": {
   "name": "corpus.ipynb",
   "provenance": []
  },
  "kernelspec": {
   "display_name": "Python 3 (ipykernel)",
   "language": "python",
   "name": "python3"
  },
  "language_info": {
   "codemirror_mode": {
    "name": "ipython",
    "version": 3
   },
   "file_extension": ".py",
   "mimetype": "text/x-python",
   "name": "python",
   "nbconvert_exporter": "python",
   "pygments_lexer": "ipython3",
   "version": "3.8.12"
  },
  "vscode": {
   "interpreter": {
    "hash": "d4d1e4263499bec80672ea0156c357c1ee493ec2b1c70f0acce89fc37c4a6abe"
   }
  },
  "widgets": {
   "application/vnd.jupyter.widget-state+json": {
    "state": {
     "000ec8d21e454a6880c446dd0628e2bd": {
      "model_module": "@jupyter-widgets/controls",
      "model_module_version": "1.5.0",
      "model_name": "HTMLModel",
      "state": {
       "layout": "IPY_MODEL_218dae277015451eb454dbf5e1a0aae5",
       "style": "IPY_MODEL_c7c0ec324d944c7ab06c24b495ba68a1",
       "value": " 10000/10000 [00:01&lt;00:00, 7512.75it/s]"
      }
     },
     "0076a37028be4e74a1da12890008a43b": {
      "model_module": "@jupyter-widgets/controls",
      "model_module_version": "1.5.0",
      "model_name": "HTMLModel",
      "state": {
       "layout": "IPY_MODEL_31a6b203214b4ed6adb61b41b8742dfc",
       "style": "IPY_MODEL_c771cda579dc4d1a9b786a5fb0e3a135",
       "value": " 10000/10000 [00:01&lt;00:00, 7415.62it/s]"
      }
     },
     "009335ddfbd14f41bc10eb304a9a8915": {
      "model_module": "@jupyter-widgets/base",
      "model_module_version": "1.2.0",
      "model_name": "LayoutModel",
      "state": {}
     },
     "00b6e8888e1a4061ad8131bf72a788ed": {
      "model_module": "@jupyter-widgets/controls",
      "model_module_version": "1.5.0",
      "model_name": "HTMLModel",
      "state": {
       "layout": "IPY_MODEL_ee2cffbc1b4f463e92eb8e7fd89e3f2f",
       "style": "IPY_MODEL_83f549a8fd6f427ca6535a14958f3755",
       "value": "Writing sentences to sent_chunk_0047.txt: 100%"
      }
     },
     "012f0d75f33f43e4bff653fa57600c45": {
      "model_module": "@jupyter-widgets/controls",
      "model_module_version": "1.5.0",
      "model_name": "HTMLModel",
      "state": {
       "layout": "IPY_MODEL_8a2b8135e6194c3085bc48b8cfb349d8",
       "style": "IPY_MODEL_6b4d31f232d4436d9ab491aeffa58fa5",
       "value": " 10000/10000 [00:01&lt;00:00, 7652.41it/s]"
      }
     },
     "01420f020117439eb40ba9bd3784d7a5": {
      "model_module": "@jupyter-widgets/controls",
      "model_module_version": "1.5.0",
      "model_name": "HTMLModel",
      "state": {
       "layout": "IPY_MODEL_418ac4fdc42f4b669b70f6cab6a56e44",
       "style": "IPY_MODEL_32f54374905a4b95b859eca93bdf5aac",
       "value": "Writing sentences to sent_chunk_0005.txt: 100%"
      }
     },
     "01782fdb34d543f090d120140b337678": {
      "model_module": "@jupyter-widgets/controls",
      "model_module_version": "1.5.0",
      "model_name": "FloatProgressModel",
      "state": {
       "bar_style": "success",
       "layout": "IPY_MODEL_dfdb07e6af40441aac392cbb5196b7fc",
       "max": 10000,
       "style": "IPY_MODEL_865b935ce2fb4e2985e85b62bb5fef0b",
       "value": 10000
      }
     },
     "019ea359c3ab4df59c93af2781b414b4": {
      "model_module": "@jupyter-widgets/base",
      "model_module_version": "1.2.0",
      "model_name": "LayoutModel",
      "state": {}
     },
     "01c97d1608314954bb78c55072952c6d": {
      "model_module": "@jupyter-widgets/base",
      "model_module_version": "1.2.0",
      "model_name": "LayoutModel",
      "state": {}
     },
     "01cd06097f44440d90039fb7def5b73f": {
      "model_module": "@jupyter-widgets/base",
      "model_module_version": "1.2.0",
      "model_name": "LayoutModel",
      "state": {}
     },
     "0249b4aaa774471f9ca782680ed85cea": {
      "model_module": "@jupyter-widgets/controls",
      "model_module_version": "1.5.0",
      "model_name": "FloatProgressModel",
      "state": {
       "bar_style": "success",
       "layout": "IPY_MODEL_17bc1a6734314bb9bdec3a8d3a8e5c39",
       "max": 10000,
       "style": "IPY_MODEL_ff11f30995c4412db0f231cf97aeb0ce",
       "value": 10000
      }
     },
     "02a35a9f457d41c4b0e4b2e5872f68d6": {
      "model_module": "@jupyter-widgets/controls",
      "model_module_version": "1.5.0",
      "model_name": "HTMLModel",
      "state": {
       "layout": "IPY_MODEL_4fe10017953c411ca24fc5d1c540d48f",
       "style": "IPY_MODEL_277b6b88d3774308a89e1b220993e157",
       "value": "Writing sentences to sent_chunk_0001.txt: 100%"
      }
     },
     "03514fc2eb6f46eb89f39cdfcbe52f28": {
      "model_module": "@jupyter-widgets/base",
      "model_module_version": "1.2.0",
      "model_name": "LayoutModel",
      "state": {}
     },
     "03b46d156af040fd96684fef027b3406": {
      "model_module": "@jupyter-widgets/controls",
      "model_module_version": "1.5.0",
      "model_name": "DescriptionStyleModel",
      "state": {
       "description_width": ""
      }
     },
     "03c2fdb2e3e74819a2a071377c81e52c": {
      "model_module": "@jupyter-widgets/base",
      "model_module_version": "1.2.0",
      "model_name": "LayoutModel",
      "state": {}
     },
     "041937a00afa4103b68d74cd15b62f7b": {
      "model_module": "@jupyter-widgets/base",
      "model_module_version": "1.2.0",
      "model_name": "LayoutModel",
      "state": {}
     },
     "041aca1c19a2461fac36e314d91d81aa": {
      "model_module": "@jupyter-widgets/controls",
      "model_module_version": "1.5.0",
      "model_name": "HTMLModel",
      "state": {
       "layout": "IPY_MODEL_bd363bddd8c445f0bf561e498d2de1ba",
       "style": "IPY_MODEL_918b9c3c346745fca0d64aa984b93e10",
       "value": " 10000/10000 [00:01&lt;00:00, 7399.83it/s]"
      }
     },
     "051682ef6280432f8d12db44b271a350": {
      "model_module": "@jupyter-widgets/base",
      "model_module_version": "1.2.0",
      "model_name": "LayoutModel",
      "state": {}
     },
     "0579bb7dd617428eb05a98ac7380adc6": {
      "model_module": "@jupyter-widgets/controls",
      "model_module_version": "1.5.0",
      "model_name": "HTMLModel",
      "state": {
       "layout": "IPY_MODEL_cab291ab0154436da66a53bca18a14a1",
       "style": "IPY_MODEL_a87660e52acf45e7b66a9c6ec6c25a68",
       "value": "Writing sentences to sent_chunk_0002.txt: 100%"
      }
     },
     "06f87cf0540f46dab3028d4969a10af0": {
      "model_module": "@jupyter-widgets/controls",
      "model_module_version": "1.5.0",
      "model_name": "DescriptionStyleModel",
      "state": {
       "description_width": ""
      }
     },
     "076bd536980b44c9819b4894ea29e673": {
      "model_module": "@jupyter-widgets/controls",
      "model_module_version": "1.5.0",
      "model_name": "FloatProgressModel",
      "state": {
       "bar_style": "success",
       "layout": "IPY_MODEL_07cccf94fcfe49ccabb00079ef7cbd0f",
       "max": 3719,
       "style": "IPY_MODEL_152ef9d1e6f044ac9734a6b21fc9baa4",
       "value": 3719
      }
     },
     "07be257ea5e641be93a2327ea4a8882d": {
      "model_module": "@jupyter-widgets/controls",
      "model_module_version": "1.5.0",
      "model_name": "HBoxModel",
      "state": {
       "children": [
        "IPY_MODEL_ec71c8c27f0f420e8a95d0edb2204deb",
        "IPY_MODEL_53e7dcbc889448a1b5b2e61940beeb07",
        "IPY_MODEL_67d15d62c2e6496e80f89954731de505"
       ],
       "layout": "IPY_MODEL_03514fc2eb6f46eb89f39cdfcbe52f28"
      }
     },
     "07cccf94fcfe49ccabb00079ef7cbd0f": {
      "model_module": "@jupyter-widgets/base",
      "model_module_version": "1.2.0",
      "model_name": "LayoutModel",
      "state": {}
     },
     "07deceb36a844dc79811f41fde01018e": {
      "model_module": "@jupyter-widgets/base",
      "model_module_version": "1.2.0",
      "model_name": "LayoutModel",
      "state": {}
     },
     "082ba9773b344598bde28ca32773d9af": {
      "model_module": "@jupyter-widgets/controls",
      "model_module_version": "1.5.0",
      "model_name": "HTMLModel",
      "state": {
       "layout": "IPY_MODEL_2c1a9258ff7342afa3104417ba4b626d",
       "style": "IPY_MODEL_16f9cab995fc4901ad488f11e832610f",
       "value": "Writing sentences to sent_chunk_0016.txt: 100%"
      }
     },
     "087eb44b9b4244ea9ab8cfc6a8fd2289": {
      "model_module": "@jupyter-widgets/base",
      "model_module_version": "1.2.0",
      "model_name": "LayoutModel",
      "state": {}
     },
     "0a027f38070d4483ae321c087550007c": {
      "model_module": "@jupyter-widgets/controls",
      "model_module_version": "1.5.0",
      "model_name": "DescriptionStyleModel",
      "state": {
       "description_width": ""
      }
     },
     "0a6c69de15a743b4b4d8403d01785c20": {
      "model_module": "@jupyter-widgets/controls",
      "model_module_version": "1.5.0",
      "model_name": "HTMLModel",
      "state": {
       "layout": "IPY_MODEL_e0f6404b94a44ef4b17a03c2ad99c553",
       "style": "IPY_MODEL_56b16edd921d492ab89e88a4e12e9688",
       "value": "Writing sentences to sent_chunk_0020.txt: 100%"
      }
     },
     "0a9d1259711e4e3bb607a4a556fb3238": {
      "model_module": "@jupyter-widgets/controls",
      "model_module_version": "1.5.0",
      "model_name": "HTMLModel",
      "state": {
       "layout": "IPY_MODEL_c8e76de5bbd0450f8d5f5988eec2d0f9",
       "style": "IPY_MODEL_79e419e738d243a4b8c6d49328ad305b",
       "value": " 10000/10000 [00:01&lt;00:00, 7339.19it/s]"
      }
     },
     "0b56fdc2525f4b34a632ec6d314ee904": {
      "model_module": "@jupyter-widgets/controls",
      "model_module_version": "1.5.0",
      "model_name": "DescriptionStyleModel",
      "state": {
       "description_width": ""
      }
     },
     "0b874701ce3846bcba6655d16c60e9b2": {
      "model_module": "@jupyter-widgets/controls",
      "model_module_version": "1.5.0",
      "model_name": "FloatProgressModel",
      "state": {
       "bar_style": "success",
       "layout": "IPY_MODEL_d5044fb22dde4a23a259000b3ff939da",
       "max": 10000,
       "style": "IPY_MODEL_6b178272672748a192f72cad896912bc",
       "value": 10000
      }
     },
     "0be1924f7d8f415f9bf5442152fc172b": {
      "model_module": "@jupyter-widgets/base",
      "model_module_version": "1.2.0",
      "model_name": "LayoutModel",
      "state": {}
     },
     "0c8f52e54a374042914c0ed1c6de1d93": {
      "model_module": "@jupyter-widgets/base",
      "model_module_version": "1.2.0",
      "model_name": "LayoutModel",
      "state": {}
     },
     "0d5ee347993d416db864324dbca051af": {
      "model_module": "@jupyter-widgets/controls",
      "model_module_version": "1.5.0",
      "model_name": "HTMLModel",
      "state": {
       "layout": "IPY_MODEL_8f2bd870c2364c01ae67ca3beaf0060a",
       "style": "IPY_MODEL_830086ddbc2d4c4a8d1168621dbd9980",
       "value": " 10000/10000 [00:01&lt;00:00, 7480.61it/s]"
      }
     },
     "0d7509e02b2e495f9e5cfb6dd61c9a9d": {
      "model_module": "@jupyter-widgets/base",
      "model_module_version": "1.2.0",
      "model_name": "LayoutModel",
      "state": {}
     },
     "0e3bbc7c0be64888b0320b5c027a0e1f": {
      "model_module": "@jupyter-widgets/controls",
      "model_module_version": "1.5.0",
      "model_name": "DescriptionStyleModel",
      "state": {
       "description_width": ""
      }
     },
     "0e43145f464c45408f94e688ee42540c": {
      "model_module": "@jupyter-widgets/base",
      "model_module_version": "1.2.0",
      "model_name": "LayoutModel",
      "state": {}
     },
     "0eff81575c074eeab7b32f783c1c93f9": {
      "model_module": "@jupyter-widgets/controls",
      "model_module_version": "1.5.0",
      "model_name": "DescriptionStyleModel",
      "state": {
       "description_width": ""
      }
     },
     "0f15e3821b22482799cff1c6f8e43d6d": {
      "model_module": "@jupyter-widgets/base",
      "model_module_version": "1.2.0",
      "model_name": "LayoutModel",
      "state": {}
     },
     "0f6c74a70ebe4b379d21047fc611dde3": {
      "model_module": "@jupyter-widgets/controls",
      "model_module_version": "1.5.0",
      "model_name": "HTMLModel",
      "state": {
       "layout": "IPY_MODEL_f2543efb41d648fb865384f97e0a1c62",
       "style": "IPY_MODEL_cccadb6b3b62435c9c64208a10faa7ca",
       "value": "Writing sentences to sent_chunk_0039.txt: 100%"
      }
     },
     "0f8845d0d17048618cd96274c6aae163": {
      "model_module": "@jupyter-widgets/controls",
      "model_module_version": "1.5.0",
      "model_name": "DescriptionStyleModel",
      "state": {
       "description_width": ""
      }
     },
     "0fdde755b3884275b13a8251fedbce91": {
      "model_module": "@jupyter-widgets/controls",
      "model_module_version": "1.5.0",
      "model_name": "HBoxModel",
      "state": {
       "children": [
        "IPY_MODEL_f757184fd8ea401e9ad9ee0c21c96dbc",
        "IPY_MODEL_57b4a6b8ceae4385ace1eb39ae75ca31",
        "IPY_MODEL_5a25ea53cafb46bea41457d1821b31ca"
       ],
       "layout": "IPY_MODEL_ea933790a4ea4f03a3bc18f3df277122"
      }
     },
     "1184c14940ba46b8b7da7693b1d55e2c": {
      "model_module": "@jupyter-widgets/controls",
      "model_module_version": "1.5.0",
      "model_name": "DescriptionStyleModel",
      "state": {
       "description_width": ""
      }
     },
     "12266c89beb64c80aabb4bf2882cd8cf": {
      "model_module": "@jupyter-widgets/controls",
      "model_module_version": "1.5.0",
      "model_name": "HBoxModel",
      "state": {
       "children": [
        "IPY_MODEL_adadf0b233a84cfa958e8181dde02291",
        "IPY_MODEL_f4c77c856256407882cf2dde41e41ed8",
        "IPY_MODEL_8cd61901a00548e282dbb0039f529a83"
       ],
       "layout": "IPY_MODEL_eb23b60307df46aabf18bedd6d210270"
      }
     },
     "1297ee1dca3047eeafcdec717c759fb8": {
      "model_module": "@jupyter-widgets/base",
      "model_module_version": "1.2.0",
      "model_name": "LayoutModel",
      "state": {}
     },
     "12b1a6542cb3474890c6c72412bde863": {
      "model_module": "@jupyter-widgets/base",
      "model_module_version": "1.2.0",
      "model_name": "LayoutModel",
      "state": {}
     },
     "12c55c44ec5b4d7c841690b8d9158258": {
      "model_module": "@jupyter-widgets/controls",
      "model_module_version": "1.5.0",
      "model_name": "HTMLModel",
      "state": {
       "layout": "IPY_MODEL_4be3fb8198c046248f8f87d0ec31d37f",
       "style": "IPY_MODEL_9c16d69955b943d2b741de92dc82b4ee",
       "value": "Writing sentences to sent_chunk_0008.txt: 100%"
      }
     },
     "132ca712c96642b39d263a996de35ca6": {
      "model_module": "@jupyter-widgets/controls",
      "model_module_version": "1.5.0",
      "model_name": "HBoxModel",
      "state": {
       "children": [
        "IPY_MODEL_f35232911d164e1e861c2891afecbb94",
        "IPY_MODEL_01782fdb34d543f090d120140b337678",
        "IPY_MODEL_b883a1062ff34605a02eae7f84deffaf"
       ],
       "layout": "IPY_MODEL_8d03a220d43e4df0afcb344562083677"
      }
     },
     "138f460dbcf4448d805c3b9dafb1e69d": {
      "model_module": "@jupyter-widgets/base",
      "model_module_version": "1.2.0",
      "model_name": "LayoutModel",
      "state": {}
     },
     "139777e4818f409b872fd721f1d22c80": {
      "model_module": "@jupyter-widgets/controls",
      "model_module_version": "1.5.0",
      "model_name": "HTMLModel",
      "state": {
       "layout": "IPY_MODEL_1acf08d8b36c413b80857132adf3b7ae",
       "style": "IPY_MODEL_2991bcc00c2440a48c01bbf409ca716a",
       "value": " 10000/10000 [00:01&lt;00:00, 7631.31it/s]"
      }
     },
     "13e0f82f7e0243a3b6f1d6ae3aefa698": {
      "model_module": "@jupyter-widgets/controls",
      "model_module_version": "1.5.0",
      "model_name": "HBoxModel",
      "state": {
       "children": [
        "IPY_MODEL_d1174568705c456ba2a5a9f829994848",
        "IPY_MODEL_9098a1bd45084d1e98ff1adda6648800",
        "IPY_MODEL_a7ca7c0aef50476da8a6dd47b636f695"
       ],
       "layout": "IPY_MODEL_22fbc80a11064501bac45f63daf86790"
      }
     },
     "13ed830897f04cec9d64f43fa8d2104a": {
      "model_module": "@jupyter-widgets/controls",
      "model_module_version": "1.5.0",
      "model_name": "HTMLModel",
      "state": {
       "layout": "IPY_MODEL_719abc747810447e9afd2911fe46afac",
       "style": "IPY_MODEL_36894347c2c741a0a4ab173e6dc7bbb0",
       "value": " 10000/10000 [00:01&lt;00:00, 7446.66it/s]"
      }
     },
     "147daede748a4d38941cd47813d0bb32": {
      "model_module": "@jupyter-widgets/controls",
      "model_module_version": "1.5.0",
      "model_name": "DescriptionStyleModel",
      "state": {
       "description_width": ""
      }
     },
     "14f1952bfb7a48e7933cbd820f038e38": {
      "model_module": "@jupyter-widgets/controls",
      "model_module_version": "1.5.0",
      "model_name": "HTMLModel",
      "state": {
       "layout": "IPY_MODEL_5a40cc5113184fa08f7f5b0827c5bceb",
       "style": "IPY_MODEL_b41c8253f5d844b196ad8327ff372f87",
       "value": " 10000/10000 [00:01&lt;00:00, 7315.43it/s]"
      }
     },
     "15031b80330743aaa1b07d276ce92ede": {
      "model_module": "@jupyter-widgets/controls",
      "model_module_version": "1.5.0",
      "model_name": "HBoxModel",
      "state": {
       "children": [
        "IPY_MODEL_eb96087f48524e7d86f1912af14e3efd",
        "IPY_MODEL_522a7b4b44594cf2a5445b76f31ef2da",
        "IPY_MODEL_9367477c876b4fd38834f71edf6bdd3f"
       ],
       "layout": "IPY_MODEL_46f4ff1402be43d094bcdc9556e145a5"
      }
     },
     "152ef9d1e6f044ac9734a6b21fc9baa4": {
      "model_module": "@jupyter-widgets/controls",
      "model_module_version": "1.5.0",
      "model_name": "ProgressStyleModel",
      "state": {
       "description_width": ""
      }
     },
     "16f9cab995fc4901ad488f11e832610f": {
      "model_module": "@jupyter-widgets/controls",
      "model_module_version": "1.5.0",
      "model_name": "DescriptionStyleModel",
      "state": {
       "description_width": ""
      }
     },
     "172f69c0bda94b88a2175ee02fb3cf97": {
      "model_module": "@jupyter-widgets/base",
      "model_module_version": "1.2.0",
      "model_name": "LayoutModel",
      "state": {}
     },
     "17bc1a6734314bb9bdec3a8d3a8e5c39": {
      "model_module": "@jupyter-widgets/base",
      "model_module_version": "1.2.0",
      "model_name": "LayoutModel",
      "state": {}
     },
     "17dc762b4507486ebc5e148f6e0afaa6": {
      "model_module": "@jupyter-widgets/base",
      "model_module_version": "1.2.0",
      "model_name": "LayoutModel",
      "state": {}
     },
     "17e9b112a0a14614b500c3bac003861b": {
      "model_module": "@jupyter-widgets/base",
      "model_module_version": "1.2.0",
      "model_name": "LayoutModel",
      "state": {}
     },
     "182c09963e7b4ec39061ce05c9d1a459": {
      "model_module": "@jupyter-widgets/base",
      "model_module_version": "1.2.0",
      "model_name": "LayoutModel",
      "state": {}
     },
     "18b367c035b94903a6d7f7f0e47970f5": {
      "model_module": "@jupyter-widgets/controls",
      "model_module_version": "1.5.0",
      "model_name": "HTMLModel",
      "state": {
       "layout": "IPY_MODEL_f4bbe0732e1a40f28e6efe5ace5ccc26",
       "style": "IPY_MODEL_8de7c26c121244cfa85625f5df30d7c4",
       "value": " 10000/10000 [00:01&lt;00:00, 7174.19it/s]"
      }
     },
     "18d7f82b0e5b4d66bbf3d19b0c8fd224": {
      "model_module": "@jupyter-widgets/base",
      "model_module_version": "1.2.0",
      "model_name": "LayoutModel",
      "state": {}
     },
     "18ed9becdd0b47ae8b59ed3732ecf832": {
      "model_module": "@jupyter-widgets/controls",
      "model_module_version": "1.5.0",
      "model_name": "FloatProgressModel",
      "state": {
       "bar_style": "success",
       "layout": "IPY_MODEL_4316d89a1a144ba59532ae16c42e9174",
       "max": 10000,
       "style": "IPY_MODEL_d60df96216cd4b35b8d975d19054f796",
       "value": 10000
      }
     },
     "19478f0a66f644c085b9172dbfb4654b": {
      "model_module": "@jupyter-widgets/base",
      "model_module_version": "1.2.0",
      "model_name": "LayoutModel",
      "state": {}
     },
     "194ac65fa5ea4146b3c01aa3d4c43cef": {
      "model_module": "@jupyter-widgets/controls",
      "model_module_version": "1.5.0",
      "model_name": "DescriptionStyleModel",
      "state": {
       "description_width": ""
      }
     },
     "195d350c016441d79cb2622c167a2e47": {
      "model_module": "@jupyter-widgets/controls",
      "model_module_version": "1.5.0",
      "model_name": "HTMLModel",
      "state": {
       "layout": "IPY_MODEL_946f4debd10942608936fae6612fa0a7",
       "style": "IPY_MODEL_7c792e103ece45199cac20f6cf13f63c",
       "value": "Writing sentences to sent_chunk_0004.txt: 100%"
      }
     },
     "197238bd1cc44c10b027d941e3de31bc": {
      "model_module": "@jupyter-widgets/controls",
      "model_module_version": "1.5.0",
      "model_name": "HBoxModel",
      "state": {
       "children": [
        "IPY_MODEL_4f9bed7d7cc94d96b909237d65c9083b",
        "IPY_MODEL_8de27ed9a21649cd9c238b09cc2be53b",
        "IPY_MODEL_6fa9e0c33c4d46fca905f67838ab6b70"
       ],
       "layout": "IPY_MODEL_23b878cd506547b2bd18c64a2171a4fb"
      }
     },
     "19a7f57fdb27400fa17a4726e4183691": {
      "model_module": "@jupyter-widgets/controls",
      "model_module_version": "1.5.0",
      "model_name": "FloatProgressModel",
      "state": {
       "bar_style": "success",
       "layout": "IPY_MODEL_97431a3fe3d04285bcb94fea234ba0a9",
       "max": 10000,
       "style": "IPY_MODEL_6c83b5dd78004bf4b4d055a67f9e1e93",
       "value": 10000
      }
     },
     "19a88b87ae0c4809a3968b641ed06e17": {
      "model_module": "@jupyter-widgets/base",
      "model_module_version": "1.2.0",
      "model_name": "LayoutModel",
      "state": {}
     },
     "19be78638b81413e8da5687d2d76c343": {
      "model_module": "@jupyter-widgets/base",
      "model_module_version": "1.2.0",
      "model_name": "LayoutModel",
      "state": {}
     },
     "19c1d95694d64a69896337604c7c2872": {
      "model_module": "@jupyter-widgets/controls",
      "model_module_version": "1.5.0",
      "model_name": "HBoxModel",
      "state": {
       "children": [
        "IPY_MODEL_12c55c44ec5b4d7c841690b8d9158258",
        "IPY_MODEL_5fe06e73a85b4048bed8bc26a31e3699",
        "IPY_MODEL_cdceb1537b6b49e5895f983179e2d2fb"
       ],
       "layout": "IPY_MODEL_779c57eb6807469e89fb392b77d57886"
      }
     },
     "19d5a6a15f784480b62966144e137e0d": {
      "model_module": "@jupyter-widgets/base",
      "model_module_version": "1.2.0",
      "model_name": "LayoutModel",
      "state": {}
     },
     "1a577dcd886b47ef863774669ab14943": {
      "model_module": "@jupyter-widgets/base",
      "model_module_version": "1.2.0",
      "model_name": "LayoutModel",
      "state": {}
     },
     "1acf08d8b36c413b80857132adf3b7ae": {
      "model_module": "@jupyter-widgets/base",
      "model_module_version": "1.2.0",
      "model_name": "LayoutModel",
      "state": {}
     },
     "1b6fa60d245547579d0870fc1fdca680": {
      "model_module": "@jupyter-widgets/base",
      "model_module_version": "1.2.0",
      "model_name": "LayoutModel",
      "state": {}
     },
     "1c51053b82ad4e51b2c3b9155bc0132c": {
      "model_module": "@jupyter-widgets/base",
      "model_module_version": "1.2.0",
      "model_name": "LayoutModel",
      "state": {}
     },
     "1cf565d8b6e540749f1f075824bf4595": {
      "model_module": "@jupyter-widgets/base",
      "model_module_version": "1.2.0",
      "model_name": "LayoutModel",
      "state": {}
     },
     "1d2c86d3349c499194a0d3e97cdeda21": {
      "model_module": "@jupyter-widgets/controls",
      "model_module_version": "1.5.0",
      "model_name": "DescriptionStyleModel",
      "state": {
       "description_width": ""
      }
     },
     "1d504c69051a4b5dbebd56eec25654df": {
      "model_module": "@jupyter-widgets/controls",
      "model_module_version": "1.5.0",
      "model_name": "HTMLModel",
      "state": {
       "layout": "IPY_MODEL_7943d8211e284973b14f3a6208045f79",
       "style": "IPY_MODEL_0b56fdc2525f4b34a632ec6d314ee904",
       "value": "Writing sentences to sent_chunk_0006.txt: 100%"
      }
     },
     "1e0a4f2ea6354c05af452fd9afa5dc36": {
      "model_module": "@jupyter-widgets/controls",
      "model_module_version": "1.5.0",
      "model_name": "DescriptionStyleModel",
      "state": {
       "description_width": ""
      }
     },
     "1e81d98b8c2640aa9de8e9d5a5c62f97": {
      "model_module": "@jupyter-widgets/controls",
      "model_module_version": "1.5.0",
      "model_name": "DescriptionStyleModel",
      "state": {
       "description_width": ""
      }
     },
     "1ef70368fa0049d79b80e35fd2be3bfc": {
      "model_module": "@jupyter-widgets/controls",
      "model_module_version": "1.5.0",
      "model_name": "FloatProgressModel",
      "state": {
       "bar_style": "success",
       "layout": "IPY_MODEL_6049b410732148bd89e3d25b154cc959",
       "max": 10000,
       "style": "IPY_MODEL_666073a7350841a697b2bd06eca98cee",
       "value": 10000
      }
     },
     "2025c9ab243b4f25bd3c8d919fcb1d73": {
      "model_module": "@jupyter-widgets/controls",
      "model_module_version": "1.5.0",
      "model_name": "DescriptionStyleModel",
      "state": {
       "description_width": ""
      }
     },
     "203e73e767c541ba9f6b01f6c0e8e118": {
      "model_module": "@jupyter-widgets/base",
      "model_module_version": "1.2.0",
      "model_name": "LayoutModel",
      "state": {}
     },
     "20f83d1716194c758eb043b85169e0c1": {
      "model_module": "@jupyter-widgets/controls",
      "model_module_version": "1.5.0",
      "model_name": "DescriptionStyleModel",
      "state": {
       "description_width": ""
      }
     },
     "2183f56ea8d94b5a9e7601a543b4d0ca": {
      "model_module": "@jupyter-widgets/base",
      "model_module_version": "1.2.0",
      "model_name": "LayoutModel",
      "state": {}
     },
     "218dae277015451eb454dbf5e1a0aae5": {
      "model_module": "@jupyter-widgets/base",
      "model_module_version": "1.2.0",
      "model_name": "LayoutModel",
      "state": {}
     },
     "21e090e2a0db4e2fb395b7f1ab864abd": {
      "model_module": "@jupyter-widgets/controls",
      "model_module_version": "1.5.0",
      "model_name": "HTMLModel",
      "state": {
       "layout": "IPY_MODEL_1c51053b82ad4e51b2c3b9155bc0132c",
       "style": "IPY_MODEL_6f14778379d44b56b6ef374ff7325ead",
       "value": " 10000/10000 [00:01&lt;00:00, 7423.93it/s]"
      }
     },
     "225001d3d6ca4a609a3822cda8bd2ca8": {
      "model_module": "@jupyter-widgets/controls",
      "model_module_version": "1.5.0",
      "model_name": "HBoxModel",
      "state": {
       "children": [
        "IPY_MODEL_f17d44632598487b8d445dc683d3de2f",
        "IPY_MODEL_80b70e7ac6624ea5b854d5ede757c7ad",
        "IPY_MODEL_608b1121758e45fea123429fcd6e641e"
       ],
       "layout": "IPY_MODEL_35bb0bf9f1254246aa92eaebe0ff9176"
      }
     },
     "22fbc80a11064501bac45f63daf86790": {
      "model_module": "@jupyter-widgets/base",
      "model_module_version": "1.2.0",
      "model_name": "LayoutModel",
      "state": {}
     },
     "235b39b0013746caa1f21b29624d34b3": {
      "model_module": "@jupyter-widgets/base",
      "model_module_version": "1.2.0",
      "model_name": "LayoutModel",
      "state": {}
     },
     "23933c6f580a4c16b0c5c1070fd9b52b": {
      "model_module": "@jupyter-widgets/base",
      "model_module_version": "1.2.0",
      "model_name": "LayoutModel",
      "state": {}
     },
     "23b878cd506547b2bd18c64a2171a4fb": {
      "model_module": "@jupyter-widgets/base",
      "model_module_version": "1.2.0",
      "model_name": "LayoutModel",
      "state": {}
     },
     "23ca1b58763b4c32a0b7974e7c84d153": {
      "model_module": "@jupyter-widgets/controls",
      "model_module_version": "1.5.0",
      "model_name": "HBoxModel",
      "state": {
       "children": [
        "IPY_MODEL_96d6d8b75ea34d659a25e88c9c1af7b8",
        "IPY_MODEL_1ef70368fa0049d79b80e35fd2be3bfc",
        "IPY_MODEL_18b367c035b94903a6d7f7f0e47970f5"
       ],
       "layout": "IPY_MODEL_eb0e69e769744ba98977df2a36c48e53"
      }
     },
     "245d39d4f66d477fa1772229b8992406": {
      "model_module": "@jupyter-widgets/base",
      "model_module_version": "1.2.0",
      "model_name": "LayoutModel",
      "state": {}
     },
     "24dda96297324040b30911c96444d46a": {
      "model_module": "@jupyter-widgets/controls",
      "model_module_version": "1.5.0",
      "model_name": "HTMLModel",
      "state": {
       "layout": "IPY_MODEL_edf11cb039a04c32a0b3d41a3c16c939",
       "style": "IPY_MODEL_c41dfe1a87bd4761abcc0d8b5497b7d9",
       "value": "Writing sentences to sent_chunk_0050.txt: 100%"
      }
     },
     "25647cd12ace4d5db81a7aa04f2795af": {
      "model_module": "@jupyter-widgets/base",
      "model_module_version": "1.2.0",
      "model_name": "LayoutModel",
      "state": {}
     },
     "257e68f8bcf84ab188b592caf270e440": {
      "model_module": "@jupyter-widgets/base",
      "model_module_version": "1.2.0",
      "model_name": "LayoutModel",
      "state": {}
     },
     "259bb45fe1364ad1b14ecdc0f5499871": {
      "model_module": "@jupyter-widgets/base",
      "model_module_version": "1.2.0",
      "model_name": "LayoutModel",
      "state": {}
     },
     "264b720d92a54987b753e688228d9c96": {
      "model_module": "@jupyter-widgets/controls",
      "model_module_version": "1.5.0",
      "model_name": "HTMLModel",
      "state": {
       "layout": "IPY_MODEL_9da738d22d714469b173a1bf3b795d68",
       "style": "IPY_MODEL_9df7f81407844dc59364220039de57a4",
       "value": "Writing sentences to sent_chunk_0018.txt: 100%"
      }
     },
     "265ee6760e2147d6ae645dd767de8665": {
      "model_module": "@jupyter-widgets/controls",
      "model_module_version": "1.5.0",
      "model_name": "HTMLModel",
      "state": {
       "layout": "IPY_MODEL_138f460dbcf4448d805c3b9dafb1e69d",
       "style": "IPY_MODEL_97d250d3813045eeada46421377fdcf2",
       "value": "Writing sentences to sent_chunk_0058.txt: 100%"
      }
     },
     "266ff8e55ef645cfa1ccef2278700b4f": {
      "model_module": "@jupyter-widgets/base",
      "model_module_version": "1.2.0",
      "model_name": "LayoutModel",
      "state": {}
     },
     "26d4b3df4ea142ef8b0da37010a1eca3": {
      "model_module": "@jupyter-widgets/base",
      "model_module_version": "1.2.0",
      "model_name": "LayoutModel",
      "state": {}
     },
     "275a36cab57641eea3709ef2d9f5aa28": {
      "model_module": "@jupyter-widgets/controls",
      "model_module_version": "1.5.0",
      "model_name": "ProgressStyleModel",
      "state": {
       "description_width": ""
      }
     },
     "2763f8597db04e0f93af3b2addb55438": {
      "model_module": "@jupyter-widgets/controls",
      "model_module_version": "1.5.0",
      "model_name": "FloatProgressModel",
      "state": {
       "bar_style": "success",
       "layout": "IPY_MODEL_e3120c4794b3443c9a36924f89a347b8",
       "max": 10000,
       "style": "IPY_MODEL_7a022349011e4fcc8efb875a893a092f",
       "value": 10000
      }
     },
     "277b6b88d3774308a89e1b220993e157": {
      "model_module": "@jupyter-widgets/controls",
      "model_module_version": "1.5.0",
      "model_name": "DescriptionStyleModel",
      "state": {
       "description_width": ""
      }
     },
     "27ca469af0454222938fb76afdef806a": {
      "model_module": "@jupyter-widgets/controls",
      "model_module_version": "1.5.0",
      "model_name": "HTMLModel",
      "state": {
       "layout": "IPY_MODEL_03c2fdb2e3e74819a2a071377c81e52c",
       "style": "IPY_MODEL_6c39dfa68f464d34ac701b7188a40c53",
       "value": " 10000/10000 [00:01&lt;00:00, 7585.70it/s]"
      }
     },
     "284b0389e48b4822914bbbc52b4ea26b": {
      "model_module": "@jupyter-widgets/controls",
      "model_module_version": "1.5.0",
      "model_name": "ProgressStyleModel",
      "state": {
       "description_width": ""
      }
     },
     "285e1f03065e4dc693c889356a7d571f": {
      "model_module": "@jupyter-widgets/controls",
      "model_module_version": "1.5.0",
      "model_name": "DescriptionStyleModel",
      "state": {
       "description_width": ""
      }
     },
     "2991bcc00c2440a48c01bbf409ca716a": {
      "model_module": "@jupyter-widgets/controls",
      "model_module_version": "1.5.0",
      "model_name": "DescriptionStyleModel",
      "state": {
       "description_width": ""
      }
     },
     "29a5c7f7de9d42b9b77f1936aa2e8bad": {
      "model_module": "@jupyter-widgets/controls",
      "model_module_version": "1.5.0",
      "model_name": "HBoxModel",
      "state": {
       "children": [
        "IPY_MODEL_00b6e8888e1a4061ad8131bf72a788ed",
        "IPY_MODEL_7828eaa5164e42749e1331bc8880d406",
        "IPY_MODEL_3a1d99ed12774ad6ab55199fa5c4c56f"
       ],
       "layout": "IPY_MODEL_582b73bcd71749318f5e608c462b4e1d"
      }
     },
     "29e244fd2c2a4460ad3fa455942bec01": {
      "model_module": "@jupyter-widgets/controls",
      "model_module_version": "1.5.0",
      "model_name": "DescriptionStyleModel",
      "state": {
       "description_width": ""
      }
     },
     "2a952c7615bd4704967c56e1422be837": {
      "model_module": "@jupyter-widgets/controls",
      "model_module_version": "1.5.0",
      "model_name": "HBoxModel",
      "state": {
       "children": [
        "IPY_MODEL_b9c66b55417a403989d8c15e151edfc7",
        "IPY_MODEL_f01d582f9c4f4ff88f80ae7b5fb3c457",
        "IPY_MODEL_000ec8d21e454a6880c446dd0628e2bd"
       ],
       "layout": "IPY_MODEL_7b622a42992f4fb4b834ebda82b417f5"
      }
     },
     "2ad8db2b41b54f58a9f24651f7a3d16f": {
      "model_module": "@jupyter-widgets/controls",
      "model_module_version": "1.5.0",
      "model_name": "HBoxModel",
      "state": {
       "children": [
        "IPY_MODEL_7e32143fe1314ffaa108bb4016464621",
        "IPY_MODEL_fa03930ab596428ba78562b3b87aceb4",
        "IPY_MODEL_6ea9c3c8e2ca480f971cfd3256645c18"
       ],
       "layout": "IPY_MODEL_8a8f96dbc26645f9b4ece5572b05e6ab"
      }
     },
     "2bd77824c31d4a9e93c9ea5b30ae622b": {
      "model_module": "@jupyter-widgets/controls",
      "model_module_version": "1.5.0",
      "model_name": "HBoxModel",
      "state": {
       "children": [
        "IPY_MODEL_886e58404a724d4eaac9b8e5225e8be8",
        "IPY_MODEL_8194eba5dcc840398df0a272264c78bd",
        "IPY_MODEL_ed37bb53beb1478b98a7089772bfb82e"
       ],
       "layout": "IPY_MODEL_ab6a494b521840cf829bec688453a295"
      }
     },
     "2c1a9258ff7342afa3104417ba4b626d": {
      "model_module": "@jupyter-widgets/base",
      "model_module_version": "1.2.0",
      "model_name": "LayoutModel",
      "state": {}
     },
     "2cd5650f24b740fc8235d0a1477162b5": {
      "model_module": "@jupyter-widgets/base",
      "model_module_version": "1.2.0",
      "model_name": "LayoutModel",
      "state": {}
     },
     "2da71e6b75d04e368ac30c33a6da7222": {
      "model_module": "@jupyter-widgets/controls",
      "model_module_version": "1.5.0",
      "model_name": "HTMLModel",
      "state": {
       "layout": "IPY_MODEL_1a577dcd886b47ef863774669ab14943",
       "style": "IPY_MODEL_9bb157d28e3d4a089843bb9dea6cb71b",
       "value": "Writing sentences to sent_chunk_0052.txt: 100%"
      }
     },
     "2e2d9f2f37594ff3ac8e59ba79bd725a": {
      "model_module": "@jupyter-widgets/controls",
      "model_module_version": "1.5.0",
      "model_name": "HBoxModel",
      "state": {
       "children": [
        "IPY_MODEL_5bee561e13c547e7ba9e0ca1c4e7bb4d",
        "IPY_MODEL_c94759c680a04c619730db40c3546b27",
        "IPY_MODEL_8bb28b91a326405ea16bc8580b16d195"
       ],
       "layout": "IPY_MODEL_5737e6db299d464eb06f590e2dccd4e9"
      }
     },
     "2e308833c0b1421baf0b1ba48dd83470": {
      "model_module": "@jupyter-widgets/controls",
      "model_module_version": "1.5.0",
      "model_name": "DescriptionStyleModel",
      "state": {
       "description_width": ""
      }
     },
     "2e6cde9789c743338c5dc8d16ff04720": {
      "model_module": "@jupyter-widgets/controls",
      "model_module_version": "1.5.0",
      "model_name": "DescriptionStyleModel",
      "state": {
       "description_width": ""
      }
     },
     "2ea6e9542996489d8fac3de4ffae7045": {
      "model_module": "@jupyter-widgets/controls",
      "model_module_version": "1.5.0",
      "model_name": "ProgressStyleModel",
      "state": {
       "description_width": ""
      }
     },
     "2f49cbe4fe5c4a7ca78f2b0be9b81f9e": {
      "model_module": "@jupyter-widgets/controls",
      "model_module_version": "1.5.0",
      "model_name": "ProgressStyleModel",
      "state": {
       "description_width": ""
      }
     },
     "2f5692da625b4bfea43a8b6afbbd823a": {
      "model_module": "@jupyter-widgets/base",
      "model_module_version": "1.2.0",
      "model_name": "LayoutModel",
      "state": {}
     },
     "2f9b051f83d0436bb744e602ce32d79e": {
      "model_module": "@jupyter-widgets/base",
      "model_module_version": "1.2.0",
      "model_name": "LayoutModel",
      "state": {}
     },
     "30c14331d02d41e8a37beef8cf39d47c": {
      "model_module": "@jupyter-widgets/base",
      "model_module_version": "1.2.0",
      "model_name": "LayoutModel",
      "state": {}
     },
     "316b9348e79e4158a2ff4ce429e88a5f": {
      "model_module": "@jupyter-widgets/controls",
      "model_module_version": "1.5.0",
      "model_name": "ProgressStyleModel",
      "state": {
       "description_width": ""
      }
     },
     "31a6b203214b4ed6adb61b41b8742dfc": {
      "model_module": "@jupyter-widgets/base",
      "model_module_version": "1.2.0",
      "model_name": "LayoutModel",
      "state": {}
     },
     "3280b849c1de4a53b8b116d524a7d5b9": {
      "model_module": "@jupyter-widgets/controls",
      "model_module_version": "1.5.0",
      "model_name": "FloatProgressModel",
      "state": {
       "bar_style": "success",
       "layout": "IPY_MODEL_983f9ffa59bb4c238dbf3537872ec762",
       "max": 10000,
       "style": "IPY_MODEL_6f07dbc300304f599a270f102c1f3a64",
       "value": 10000
      }
     },
     "32a4f1b2aa944b30a4e4be95f722d7ac": {
      "model_module": "@jupyter-widgets/base",
      "model_module_version": "1.2.0",
      "model_name": "LayoutModel",
      "state": {}
     },
     "32f54374905a4b95b859eca93bdf5aac": {
      "model_module": "@jupyter-widgets/controls",
      "model_module_version": "1.5.0",
      "model_name": "DescriptionStyleModel",
      "state": {
       "description_width": ""
      }
     },
     "34db2858c47c4f149df52d99ddf9d499": {
      "model_module": "@jupyter-widgets/controls",
      "model_module_version": "1.5.0",
      "model_name": "DescriptionStyleModel",
      "state": {
       "description_width": ""
      }
     },
     "35950b9ac89445038d7609a46605ef2b": {
      "model_module": "@jupyter-widgets/controls",
      "model_module_version": "1.5.0",
      "model_name": "ProgressStyleModel",
      "state": {
       "description_width": ""
      }
     },
     "35ab2d66d90c40369588d572d5ee0c95": {
      "model_module": "@jupyter-widgets/controls",
      "model_module_version": "1.5.0",
      "model_name": "HTMLModel",
      "state": {
       "layout": "IPY_MODEL_f644e8357cd546059a8591cb5046ac9c",
       "style": "IPY_MODEL_e9c4c6d51f2944148b45e44b1d8f919b",
       "value": "Writing sentences to sent_chunk_0043.txt: 100%"
      }
     },
     "35bb0bf9f1254246aa92eaebe0ff9176": {
      "model_module": "@jupyter-widgets/base",
      "model_module_version": "1.2.0",
      "model_name": "LayoutModel",
      "state": {}
     },
     "365ccd6cc44942aeba0ba245511a4919": {
      "model_module": "@jupyter-widgets/controls",
      "model_module_version": "1.5.0",
      "model_name": "DescriptionStyleModel",
      "state": {
       "description_width": ""
      }
     },
     "365eafd338064e75adec02816e872131": {
      "model_module": "@jupyter-widgets/base",
      "model_module_version": "1.2.0",
      "model_name": "LayoutModel",
      "state": {}
     },
     "36894347c2c741a0a4ab173e6dc7bbb0": {
      "model_module": "@jupyter-widgets/controls",
      "model_module_version": "1.5.0",
      "model_name": "DescriptionStyleModel",
      "state": {
       "description_width": ""
      }
     },
     "36a0c2d1a4ba4ea0bc6401f3e9ab54c1": {
      "model_module": "@jupyter-widgets/base",
      "model_module_version": "1.2.0",
      "model_name": "LayoutModel",
      "state": {}
     },
     "36eaa45b4a4c43ed87cad91e153c30c4": {
      "model_module": "@jupyter-widgets/base",
      "model_module_version": "1.2.0",
      "model_name": "LayoutModel",
      "state": {}
     },
     "3768d1e5b1434c499c0902b4869f0b83": {
      "model_module": "@jupyter-widgets/base",
      "model_module_version": "1.2.0",
      "model_name": "LayoutModel",
      "state": {}
     },
     "3771b7e905a047e087ce526134bd6da7": {
      "model_module": "@jupyter-widgets/base",
      "model_module_version": "1.2.0",
      "model_name": "LayoutModel",
      "state": {}
     },
     "386b9f3a7f90420f9904534953e1ac3e": {
      "model_module": "@jupyter-widgets/controls",
      "model_module_version": "1.5.0",
      "model_name": "DescriptionStyleModel",
      "state": {
       "description_width": ""
      }
     },
     "3872906532524885915d5f001c6ecd4a": {
      "model_module": "@jupyter-widgets/controls",
      "model_module_version": "1.5.0",
      "model_name": "HTMLModel",
      "state": {
       "layout": "IPY_MODEL_bba9136a9d06488ca32a167347c9065c",
       "style": "IPY_MODEL_bd9ac13e816543f6a0668c7c8b3fe5d7",
       "value": " 10000/10000 [00:01&lt;00:00, 7457.73it/s]"
      }
     },
     "3910d43f91a7411db55bdf933744f0ac": {
      "model_module": "@jupyter-widgets/base",
      "model_module_version": "1.2.0",
      "model_name": "LayoutModel",
      "state": {}
     },
     "3a1d99ed12774ad6ab55199fa5c4c56f": {
      "model_module": "@jupyter-widgets/controls",
      "model_module_version": "1.5.0",
      "model_name": "HTMLModel",
      "state": {
       "layout": "IPY_MODEL_92bf080f7003488793733dfd15db6134",
       "style": "IPY_MODEL_29e244fd2c2a4460ad3fa455942bec01",
       "value": " 10000/10000 [00:01&lt;00:00, 7568.07it/s]"
      }
     },
     "3b32b6233c4c4e5aa78449902ee944d8": {
      "model_module": "@jupyter-widgets/controls",
      "model_module_version": "1.5.0",
      "model_name": "HTMLModel",
      "state": {
       "layout": "IPY_MODEL_d507a381a39847eca83e9036ef90e0a5",
       "style": "IPY_MODEL_9485ba021c894df894acb1daad7995ac",
       "value": "Writing sentences to sent_chunk_0041.txt: 100%"
      }
     },
     "3b62605535c54c9a994ceb8fdfefaf19": {
      "model_module": "@jupyter-widgets/base",
      "model_module_version": "1.2.0",
      "model_name": "LayoutModel",
      "state": {}
     },
     "3bc5b3e604ab45189201e095be96e5a5": {
      "model_module": "@jupyter-widgets/controls",
      "model_module_version": "1.5.0",
      "model_name": "HTMLModel",
      "state": {
       "layout": "IPY_MODEL_56dbad5633f34daf8c5313c624baf6fc",
       "style": "IPY_MODEL_e4e72180c530405bb84f50ddc19b4fbc",
       "value": " 10000/10000 [00:01&lt;00:00, 7505.89it/s]"
      }
     },
     "3bd29586c800471e9d5d27877f928466": {
      "model_module": "@jupyter-widgets/base",
      "model_module_version": "1.2.0",
      "model_name": "LayoutModel",
      "state": {}
     },
     "3bfd5809526f481f93bc46b45469caa6": {
      "model_module": "@jupyter-widgets/controls",
      "model_module_version": "1.5.0",
      "model_name": "DescriptionStyleModel",
      "state": {
       "description_width": ""
      }
     },
     "3c3279860c6f4ebb8877a50461eb0255": {
      "model_module": "@jupyter-widgets/base",
      "model_module_version": "1.2.0",
      "model_name": "LayoutModel",
      "state": {}
     },
     "3cc758bca82a4cf09be81a7a7e04acdd": {
      "model_module": "@jupyter-widgets/base",
      "model_module_version": "1.2.0",
      "model_name": "LayoutModel",
      "state": {}
     },
     "3d151860318544148caba589007f51d1": {
      "model_module": "@jupyter-widgets/base",
      "model_module_version": "1.2.0",
      "model_name": "LayoutModel",
      "state": {}
     },
     "3e26d1f31d0e4c7cba669578744975ef": {
      "model_module": "@jupyter-widgets/base",
      "model_module_version": "1.2.0",
      "model_name": "LayoutModel",
      "state": {}
     },
     "3ef70cb6146e419482493e1656dfcf7e": {
      "model_module": "@jupyter-widgets/base",
      "model_module_version": "1.2.0",
      "model_name": "LayoutModel",
      "state": {}
     },
     "3f2a273568ff480b833f1844b4f21db7": {
      "model_module": "@jupyter-widgets/base",
      "model_module_version": "1.2.0",
      "model_name": "LayoutModel",
      "state": {}
     },
     "3f30012b4c3841d39af40031a75286bb": {
      "model_module": "@jupyter-widgets/controls",
      "model_module_version": "1.5.0",
      "model_name": "HTMLModel",
      "state": {
       "layout": "IPY_MODEL_8f530691ec554a23be6bb6cdef21f482",
       "style": "IPY_MODEL_386b9f3a7f90420f9904534953e1ac3e",
       "value": "Writing sentences to sent_chunk_0055.txt: 100%"
      }
     },
     "3fc7ec99131a4271a04ad204b7b2a305": {
      "model_module": "@jupyter-widgets/controls",
      "model_module_version": "1.5.0",
      "model_name": "FloatProgressModel",
      "state": {
       "bar_style": "success",
       "layout": "IPY_MODEL_3b62605535c54c9a994ceb8fdfefaf19",
       "max": 10000,
       "style": "IPY_MODEL_4dcb735ca8b54eefb5e25e9544f736e9",
       "value": 10000
      }
     },
     "4047d7c33f624a6aa99a06080e799926": {
      "model_module": "@jupyter-widgets/base",
      "model_module_version": "1.2.0",
      "model_name": "LayoutModel",
      "state": {}
     },
     "4059b562323845c18a9dfc98b2f07b39": {
      "model_module": "@jupyter-widgets/base",
      "model_module_version": "1.2.0",
      "model_name": "LayoutModel",
      "state": {}
     },
     "407052e1cc1b4f9d80b96677c5448c84": {
      "model_module": "@jupyter-widgets/controls",
      "model_module_version": "1.5.0",
      "model_name": "HTMLModel",
      "state": {
       "layout": "IPY_MODEL_19d5a6a15f784480b62966144e137e0d",
       "style": "IPY_MODEL_caea583698e0494fb93f1dac1882dd3e",
       "value": "Writing sentences to sent_chunk_0009.txt: 100%"
      }
     },
     "40b5a8bcdd1d45aabaf6dbc21e38eb59": {
      "model_module": "@jupyter-widgets/base",
      "model_module_version": "1.2.0",
      "model_name": "LayoutModel",
      "state": {}
     },
     "40ee720f7f194525b7f28a50785be7e9": {
      "model_module": "@jupyter-widgets/controls",
      "model_module_version": "1.5.0",
      "model_name": "HBoxModel",
      "state": {
       "children": [
        "IPY_MODEL_d7309beda9a74b488fb05e60a2026bc2",
        "IPY_MODEL_6a36560f4ae44ec1a4a67db06b172294",
        "IPY_MODEL_bb9d16b13b574f2fa7ca2dfedfa5ba48"
       ],
       "layout": "IPY_MODEL_90f5af3c64314d348c8804450cf8daef"
      }
     },
     "418ac4fdc42f4b669b70f6cab6a56e44": {
      "model_module": "@jupyter-widgets/base",
      "model_module_version": "1.2.0",
      "model_name": "LayoutModel",
      "state": {}
     },
     "41b45bf3e99b4d539eff75e15d51da9b": {
      "model_module": "@jupyter-widgets/controls",
      "model_module_version": "1.5.0",
      "model_name": "DescriptionStyleModel",
      "state": {
       "description_width": ""
      }
     },
     "41bf9e2725cf45678c5e9bdd6aff1d65": {
      "model_module": "@jupyter-widgets/controls",
      "model_module_version": "1.5.0",
      "model_name": "ProgressStyleModel",
      "state": {
       "description_width": ""
      }
     },
     "4316d89a1a144ba59532ae16c42e9174": {
      "model_module": "@jupyter-widgets/base",
      "model_module_version": "1.2.0",
      "model_name": "LayoutModel",
      "state": {}
     },
     "43762f3c8f5945e79a07818d330f87f8": {
      "model_module": "@jupyter-widgets/controls",
      "model_module_version": "1.5.0",
      "model_name": "HTMLModel",
      "state": {
       "layout": "IPY_MODEL_adb309fa44814371a19c7e83045c56b6",
       "style": "IPY_MODEL_96f05d91117e49b4b0e154c817a5dc01",
       "value": "Writing sentences to sent_chunk_0032.txt: 100%"
      }
     },
     "43f79eb7105c4668bbdeeed742b464bf": {
      "model_module": "@jupyter-widgets/base",
      "model_module_version": "1.2.0",
      "model_name": "LayoutModel",
      "state": {}
     },
     "44190b4c9bff49f4bb26ce2ab754e6b2": {
      "model_module": "@jupyter-widgets/controls",
      "model_module_version": "1.5.0",
      "model_name": "HTMLModel",
      "state": {
       "layout": "IPY_MODEL_01c97d1608314954bb78c55072952c6d",
       "style": "IPY_MODEL_3bfd5809526f481f93bc46b45469caa6",
       "value": " 10000/10000 [00:01&lt;00:00, 7122.37it/s]"
      }
     },
     "4496947d5806484fba171c997de976a1": {
      "model_module": "@jupyter-widgets/controls",
      "model_module_version": "1.5.0",
      "model_name": "ProgressStyleModel",
      "state": {
       "description_width": ""
      }
     },
     "455b6e561a214ad0b7a28f8c58d3c1f4": {
      "model_module": "@jupyter-widgets/base",
      "model_module_version": "1.2.0",
      "model_name": "LayoutModel",
      "state": {}
     },
     "455e7ccc4e4b47ef9ce48d290bae01a0": {
      "model_module": "@jupyter-widgets/base",
      "model_module_version": "1.2.0",
      "model_name": "LayoutModel",
      "state": {}
     },
     "45ed09ad53254e9d80052216e35ccab6": {
      "model_module": "@jupyter-widgets/controls",
      "model_module_version": "1.5.0",
      "model_name": "HTMLModel",
      "state": {
       "layout": "IPY_MODEL_7acec57f3a464a56a6b4ae4bc47d422f",
       "style": "IPY_MODEL_d90fd03f7b814420b9b20dc158098276",
       "value": "Writing sentences to sent_chunk_0015.txt: 100%"
      }
     },
     "45f0a3d1e4f041c9bd59f3b0d03e223f": {
      "model_module": "@jupyter-widgets/controls",
      "model_module_version": "1.5.0",
      "model_name": "DescriptionStyleModel",
      "state": {
       "description_width": ""
      }
     },
     "46f4ff1402be43d094bcdc9556e145a5": {
      "model_module": "@jupyter-widgets/base",
      "model_module_version": "1.2.0",
      "model_name": "LayoutModel",
      "state": {}
     },
     "4778d0b96acf418da39b13556bb297f6": {
      "model_module": "@jupyter-widgets/controls",
      "model_module_version": "1.5.0",
      "model_name": "FloatProgressModel",
      "state": {
       "bar_style": "success",
       "layout": "IPY_MODEL_07deceb36a844dc79811f41fde01018e",
       "max": 10000,
       "style": "IPY_MODEL_82f4e36c8ab74556a59b5db6ad714acc",
       "value": 10000
      }
     },
     "47890460b9c24d1ebe4611ee7d0ee556": {
      "model_module": "@jupyter-widgets/controls",
      "model_module_version": "1.5.0",
      "model_name": "HTMLModel",
      "state": {
       "layout": "IPY_MODEL_25647cd12ace4d5db81a7aa04f2795af",
       "style": "IPY_MODEL_ea9e04266b284cb5b2a4d33c0e6807c7",
       "value": "Writing sentences to sent_chunk_0059.txt: 100%"
      }
     },
     "48651a1ec0b94e0cb9c221ca147dbfbc": {
      "model_module": "@jupyter-widgets/controls",
      "model_module_version": "1.5.0",
      "model_name": "DescriptionStyleModel",
      "state": {
       "description_width": ""
      }
     },
     "4901dd1321ea4424abfc5b62b1fbda14": {
      "model_module": "@jupyter-widgets/base",
      "model_module_version": "1.2.0",
      "model_name": "LayoutModel",
      "state": {}
     },
     "493a2a9f8e06406abad5744d13de2ec6": {
      "model_module": "@jupyter-widgets/controls",
      "model_module_version": "1.5.0",
      "model_name": "FloatProgressModel",
      "state": {
       "bar_style": "success",
       "layout": "IPY_MODEL_69dabeb6240a4e3d965dc6a3df025680",
       "max": 10000,
       "style": "IPY_MODEL_a863fc8ac22c40a3b4701cd50a974470",
       "value": 10000
      }
     },
     "493f584838454c578a7a5b019f4f796a": {
      "model_module": "@jupyter-widgets/controls",
      "model_module_version": "1.5.0",
      "model_name": "HTMLModel",
      "state": {
       "layout": "IPY_MODEL_12b1a6542cb3474890c6c72412bde863",
       "style": "IPY_MODEL_840e53d86d9f4c90bbdd715f16a0abfb",
       "value": "Writing sentences to sent_chunk_0025.txt: 100%"
      }
     },
     "4a226add3aff49cf81dd8b66c874c314": {
      "model_module": "@jupyter-widgets/base",
      "model_module_version": "1.2.0",
      "model_name": "LayoutModel",
      "state": {}
     },
     "4a80a151b1cb492ba8f6f2b518af33e0": {
      "model_module": "@jupyter-widgets/controls",
      "model_module_version": "1.5.0",
      "model_name": "HTMLModel",
      "state": {
       "layout": "IPY_MODEL_182c09963e7b4ec39061ce05c9d1a459",
       "style": "IPY_MODEL_194ac65fa5ea4146b3c01aa3d4c43cef",
       "value": " 10000/10000 [00:01&lt;00:00, 7593.19it/s]"
      }
     },
     "4bc554f049c84426b219cf04612f531b": {
      "model_module": "@jupyter-widgets/controls",
      "model_module_version": "1.5.0",
      "model_name": "HTMLModel",
      "state": {
       "layout": "IPY_MODEL_6d1c6e7565ed4e79a94264e037c475a0",
       "style": "IPY_MODEL_57bc0b9ae04d48e49f0f57ae850f8ea3",
       "value": "Writing sentences to sent_chunk_0030.txt: 100%"
      }
     },
     "4be3fb8198c046248f8f87d0ec31d37f": {
      "model_module": "@jupyter-widgets/base",
      "model_module_version": "1.2.0",
      "model_name": "LayoutModel",
      "state": {}
     },
     "4be40b4feb7e49e19ab6e311d3cd9527": {
      "model_module": "@jupyter-widgets/controls",
      "model_module_version": "1.5.0",
      "model_name": "HBoxModel",
      "state": {
       "children": [
        "IPY_MODEL_082ba9773b344598bde28ca32773d9af",
        "IPY_MODEL_a1b580aff50c4b9bb2038da5daad692b",
        "IPY_MODEL_012f0d75f33f43e4bff653fa57600c45"
       ],
       "layout": "IPY_MODEL_e05db058e2734eee8c6123fe6ce86a03"
      }
     },
     "4c0df699cfac4d088d7e8e4f2b78d91c": {
      "model_module": "@jupyter-widgets/base",
      "model_module_version": "1.2.0",
      "model_name": "LayoutModel",
      "state": {}
     },
     "4c2c9b4b330a4c4daabdd0fcbec14f11": {
      "model_module": "@jupyter-widgets/controls",
      "model_module_version": "1.5.0",
      "model_name": "DescriptionStyleModel",
      "state": {
       "description_width": ""
      }
     },
     "4ca24211fccf41d89098ffb2445a01d0": {
      "model_module": "@jupyter-widgets/base",
      "model_module_version": "1.2.0",
      "model_name": "LayoutModel",
      "state": {}
     },
     "4cbf3f79a1764e92b916b3c6c5e606a0": {
      "model_module": "@jupyter-widgets/base",
      "model_module_version": "1.2.0",
      "model_name": "LayoutModel",
      "state": {}
     },
     "4dcb735ca8b54eefb5e25e9544f736e9": {
      "model_module": "@jupyter-widgets/controls",
      "model_module_version": "1.5.0",
      "model_name": "ProgressStyleModel",
      "state": {
       "description_width": ""
      }
     },
     "4dd331b784fa4131b562810a7635a60d": {
      "model_module": "@jupyter-widgets/base",
      "model_module_version": "1.2.0",
      "model_name": "LayoutModel",
      "state": {}
     },
     "4ddf7c6e467e4063b2c932018126a3f5": {
      "model_module": "@jupyter-widgets/base",
      "model_module_version": "1.2.0",
      "model_name": "LayoutModel",
      "state": {}
     },
     "4e2d2d297951408580aafa4cfa392e29": {
      "model_module": "@jupyter-widgets/base",
      "model_module_version": "1.2.0",
      "model_name": "LayoutModel",
      "state": {}
     },
     "4f256d1decfb4751839a5b4135f69079": {
      "model_module": "@jupyter-widgets/base",
      "model_module_version": "1.2.0",
      "model_name": "LayoutModel",
      "state": {}
     },
     "4f9bed7d7cc94d96b909237d65c9083b": {
      "model_module": "@jupyter-widgets/controls",
      "model_module_version": "1.5.0",
      "model_name": "HTMLModel",
      "state": {
       "layout": "IPY_MODEL_915a16e0690f4bbead2c0b87d45f7f95",
       "style": "IPY_MODEL_6699a570d8664a299aaeafa4c0ce8b65",
       "value": "Writing sentences to sent_chunk_0042.txt: 100%"
      }
     },
     "4fab6bb2a2714bbe83a014d389ff6626": {
      "model_module": "@jupyter-widgets/base",
      "model_module_version": "1.2.0",
      "model_name": "LayoutModel",
      "state": {}
     },
     "4fcc94e93e6e4f568fd8e3b8d1c1c0ab": {
      "model_module": "@jupyter-widgets/base",
      "model_module_version": "1.2.0",
      "model_name": "LayoutModel",
      "state": {}
     },
     "4fe10017953c411ca24fc5d1c540d48f": {
      "model_module": "@jupyter-widgets/base",
      "model_module_version": "1.2.0",
      "model_name": "LayoutModel",
      "state": {}
     },
     "4fff138b60d64506802420a8124d74bb": {
      "model_module": "@jupyter-widgets/controls",
      "model_module_version": "1.5.0",
      "model_name": "DescriptionStyleModel",
      "state": {
       "description_width": ""
      }
     },
     "50bc6077b75a4810867663296cb3af7c": {
      "model_module": "@jupyter-widgets/controls",
      "model_module_version": "1.5.0",
      "model_name": "ProgressStyleModel",
      "state": {
       "description_width": ""
      }
     },
     "50ecaf473ac3426a867ee3f4b8e0c13c": {
      "model_module": "@jupyter-widgets/controls",
      "model_module_version": "1.5.0",
      "model_name": "ProgressStyleModel",
      "state": {
       "description_width": ""
      }
     },
     "50f14b4a17be4fbc865996e7083ef2a6": {
      "model_module": "@jupyter-widgets/controls",
      "model_module_version": "1.5.0",
      "model_name": "DescriptionStyleModel",
      "state": {
       "description_width": ""
      }
     },
     "521fdebf7e0f46e2b4bcde9c43d8bfcb": {
      "model_module": "@jupyter-widgets/controls",
      "model_module_version": "1.5.0",
      "model_name": "ProgressStyleModel",
      "state": {
       "description_width": ""
      }
     },
     "522a7b4b44594cf2a5445b76f31ef2da": {
      "model_module": "@jupyter-widgets/controls",
      "model_module_version": "1.5.0",
      "model_name": "FloatProgressModel",
      "state": {
       "bar_style": "success",
       "layout": "IPY_MODEL_4e2d2d297951408580aafa4cfa392e29",
       "max": 10000,
       "style": "IPY_MODEL_95c1e0772c9d4213aa5dc822f9da2ca9",
       "value": 10000
      }
     },
     "5245471deae841ce96655cd37b5af37a": {
      "model_module": "@jupyter-widgets/controls",
      "model_module_version": "1.5.0",
      "model_name": "ProgressStyleModel",
      "state": {
       "description_width": ""
      }
     },
     "526442bca7fa474d9f8d5059b57856f8": {
      "model_module": "@jupyter-widgets/controls",
      "model_module_version": "1.5.0",
      "model_name": "HBoxModel",
      "state": {
       "children": [
        "IPY_MODEL_35ab2d66d90c40369588d572d5ee0c95",
        "IPY_MODEL_493a2a9f8e06406abad5744d13de2ec6",
        "IPY_MODEL_bfa8f43e91514173b157c430fc1e9f34"
       ],
       "layout": "IPY_MODEL_ff2419e719fd44b5ae95ae86e88790d7"
      }
     },
     "52b1ceb331524b76847158e0ad35c491": {
      "model_module": "@jupyter-widgets/controls",
      "model_module_version": "1.5.0",
      "model_name": "HBoxModel",
      "state": {
       "children": [
        "IPY_MODEL_01420f020117439eb40ba9bd3784d7a5",
        "IPY_MODEL_5995847da1de4655af3ef448df4b8b2f",
        "IPY_MODEL_f0a86ef2bd8547b998b1d640d92010c5"
       ],
       "layout": "IPY_MODEL_e613225a322f4d03bd1f3f2edfb27913"
      }
     },
     "5365a1c9f6d143d7b5ea16039b8b056e": {
      "model_module": "@jupyter-widgets/controls",
      "model_module_version": "1.5.0",
      "model_name": "ProgressStyleModel",
      "state": {
       "description_width": ""
      }
     },
     "53c21f73333345a391907e3db6ed98ae": {
      "model_module": "@jupyter-widgets/base",
      "model_module_version": "1.2.0",
      "model_name": "LayoutModel",
      "state": {}
     },
     "53e7dcbc889448a1b5b2e61940beeb07": {
      "model_module": "@jupyter-widgets/controls",
      "model_module_version": "1.5.0",
      "model_name": "FloatProgressModel",
      "state": {
       "bar_style": "success",
       "layout": "IPY_MODEL_4ca24211fccf41d89098ffb2445a01d0",
       "max": 10000,
       "style": "IPY_MODEL_9937d401d56244d58ed303c6ba938c6c",
       "value": 10000
      }
     },
     "5425164e9e68493383c92eda0abc20f4": {
      "model_module": "@jupyter-widgets/controls",
      "model_module_version": "1.5.0",
      "model_name": "HTMLModel",
      "state": {
       "layout": "IPY_MODEL_97118e794d8d469e8b9e8595238b5861",
       "style": "IPY_MODEL_e1a88f8c7c164ce18c81a15d899e39a0",
       "value": " 10000/10000 [00:01&lt;00:00, 7509.64it/s]"
      }
     },
     "546623b11df84343a1bc547887e70df3": {
      "model_module": "@jupyter-widgets/controls",
      "model_module_version": "1.5.0",
      "model_name": "ProgressStyleModel",
      "state": {
       "description_width": ""
      }
     },
     "54d92b3eea164ad6aac9e6e32a39f403": {
      "model_module": "@jupyter-widgets/controls",
      "model_module_version": "1.5.0",
      "model_name": "DescriptionStyleModel",
      "state": {
       "description_width": ""
      }
     },
     "550f337526b94a318c69f502b24b9f9b": {
      "model_module": "@jupyter-widgets/controls",
      "model_module_version": "1.5.0",
      "model_name": "ProgressStyleModel",
      "state": {
       "description_width": ""
      }
     },
     "554a2147982a45168ac0ffe8408fa718": {
      "model_module": "@jupyter-widgets/base",
      "model_module_version": "1.2.0",
      "model_name": "LayoutModel",
      "state": {}
     },
     "55762a4c62fe4e889a3a16e27c630ef8": {
      "model_module": "@jupyter-widgets/base",
      "model_module_version": "1.2.0",
      "model_name": "LayoutModel",
      "state": {}
     },
     "5645450283c14085bdde6a0150b38228": {
      "model_module": "@jupyter-widgets/base",
      "model_module_version": "1.2.0",
      "model_name": "LayoutModel",
      "state": {}
     },
     "568d8e04a11047fcb74041f7c5a4d48e": {
      "model_module": "@jupyter-widgets/base",
      "model_module_version": "1.2.0",
      "model_name": "LayoutModel",
      "state": {}
     },
     "568f252a248d4e4fa10c87d499e733ca": {
      "model_module": "@jupyter-widgets/controls",
      "model_module_version": "1.5.0",
      "model_name": "DescriptionStyleModel",
      "state": {
       "description_width": ""
      }
     },
     "56b16edd921d492ab89e88a4e12e9688": {
      "model_module": "@jupyter-widgets/controls",
      "model_module_version": "1.5.0",
      "model_name": "DescriptionStyleModel",
      "state": {
       "description_width": ""
      }
     },
     "56dbad5633f34daf8c5313c624baf6fc": {
      "model_module": "@jupyter-widgets/base",
      "model_module_version": "1.2.0",
      "model_name": "LayoutModel",
      "state": {}
     },
     "56f794d4c19d47e3bd4b9a5476d506ab": {
      "model_module": "@jupyter-widgets/controls",
      "model_module_version": "1.5.0",
      "model_name": "HTMLModel",
      "state": {
       "layout": "IPY_MODEL_d5f6ad7fdb2a40059dbcd46f34a58efb",
       "style": "IPY_MODEL_9973fbaea85a44bb90f028c561e197f6",
       "value": " 10000/10000 [00:01&lt;00:00, 7469.68it/s]"
      }
     },
     "5737e6db299d464eb06f590e2dccd4e9": {
      "model_module": "@jupyter-widgets/base",
      "model_module_version": "1.2.0",
      "model_name": "LayoutModel",
      "state": {}
     },
     "57818ac770e54f5b8ab5a854fec8c35d": {
      "model_module": "@jupyter-widgets/controls",
      "model_module_version": "1.5.0",
      "model_name": "HTMLModel",
      "state": {
       "layout": "IPY_MODEL_af72ff591a824496b7fd3a4bc2a985b9",
       "style": "IPY_MODEL_91fb982c2f934e62b8c31b84144f41bb",
       "value": " 10000/10000 [00:01&lt;00:00, 7550.37it/s]"
      }
     },
     "57b4a6b8ceae4385ace1eb39ae75ca31": {
      "model_module": "@jupyter-widgets/controls",
      "model_module_version": "1.5.0",
      "model_name": "FloatProgressModel",
      "state": {
       "bar_style": "success",
       "layout": "IPY_MODEL_3768d1e5b1434c499c0902b4869f0b83",
       "max": 10000,
       "style": "IPY_MODEL_546623b11df84343a1bc547887e70df3",
       "value": 10000
      }
     },
     "57bc0b9ae04d48e49f0f57ae850f8ea3": {
      "model_module": "@jupyter-widgets/controls",
      "model_module_version": "1.5.0",
      "model_name": "DescriptionStyleModel",
      "state": {
       "description_width": ""
      }
     },
     "582b73bcd71749318f5e608c462b4e1d": {
      "model_module": "@jupyter-widgets/base",
      "model_module_version": "1.2.0",
      "model_name": "LayoutModel",
      "state": {}
     },
     "58d9feb22e7f4295890c43a11b7c226e": {
      "model_module": "@jupyter-widgets/controls",
      "model_module_version": "1.5.0",
      "model_name": "HTMLModel",
      "state": {
       "layout": "IPY_MODEL_d7ac21ad7ad14abbb63dfb838b0c8118",
       "style": "IPY_MODEL_bc93544029c4445e8f16aec5c864a8c4",
       "value": " 10000/10000 [00:01&lt;00:00, 7326.31it/s]"
      }
     },
     "5995847da1de4655af3ef448df4b8b2f": {
      "model_module": "@jupyter-widgets/controls",
      "model_module_version": "1.5.0",
      "model_name": "FloatProgressModel",
      "state": {
       "bar_style": "success",
       "layout": "IPY_MODEL_23933c6f580a4c16b0c5c1070fd9b52b",
       "max": 10000,
       "style": "IPY_MODEL_736f2e2d9f1f455f89977570bba8a024",
       "value": 10000
      }
     },
     "5a25ea53cafb46bea41457d1821b31ca": {
      "model_module": "@jupyter-widgets/controls",
      "model_module_version": "1.5.0",
      "model_name": "HTMLModel",
      "state": {
       "layout": "IPY_MODEL_5645450283c14085bdde6a0150b38228",
       "style": "IPY_MODEL_dab3584053154a1b9394da923982b7cf",
       "value": " 10000/10000 [00:01&lt;00:00, 7307.22it/s]"
      }
     },
     "5a40cc5113184fa08f7f5b0827c5bceb": {
      "model_module": "@jupyter-widgets/base",
      "model_module_version": "1.2.0",
      "model_name": "LayoutModel",
      "state": {}
     },
     "5b74fae785f04c87a0d34e83b96c1a14": {
      "model_module": "@jupyter-widgets/base",
      "model_module_version": "1.2.0",
      "model_name": "LayoutModel",
      "state": {}
     },
     "5bee561e13c547e7ba9e0ca1c4e7bb4d": {
      "model_module": "@jupyter-widgets/controls",
      "model_module_version": "1.5.0",
      "model_name": "HTMLModel",
      "state": {
       "layout": "IPY_MODEL_26d4b3df4ea142ef8b0da37010a1eca3",
       "style": "IPY_MODEL_bc114903be7d4ecdb5a19cae0e4c6ca4",
       "value": "Writing sentences to sent_chunk_0038.txt: 100%"
      }
     },
     "5ca2f922ddf947c591bfe9596e2d6f94": {
      "model_module": "@jupyter-widgets/base",
      "model_module_version": "1.2.0",
      "model_name": "LayoutModel",
      "state": {}
     },
     "5ca72712f7cf4942a78581edf0732426": {
      "model_module": "@jupyter-widgets/base",
      "model_module_version": "1.2.0",
      "model_name": "LayoutModel",
      "state": {}
     },
     "5ccd70fc6c3348a19be5bafeb774850a": {
      "model_module": "@jupyter-widgets/controls",
      "model_module_version": "1.5.0",
      "model_name": "DescriptionStyleModel",
      "state": {
       "description_width": ""
      }
     },
     "5d09da822f8941c48023da28a172af2c": {
      "model_module": "@jupyter-widgets/base",
      "model_module_version": "1.2.0",
      "model_name": "LayoutModel",
      "state": {}
     },
     "5daf5bf70a7d454e98700ac9b5d5fc0d": {
      "model_module": "@jupyter-widgets/controls",
      "model_module_version": "1.5.0",
      "model_name": "HTMLModel",
      "state": {
       "layout": "IPY_MODEL_ecdb1ec6fcd94041b17993c9632d2c74",
       "style": "IPY_MODEL_7af0c202e6cb458e8f57c887d53b00ac",
       "value": "Writing sentences to sent_chunk_0029.txt: 100%"
      }
     },
     "5df69437c3094ede8019841b07576f99": {
      "model_module": "@jupyter-widgets/controls",
      "model_module_version": "1.5.0",
      "model_name": "ProgressStyleModel",
      "state": {
       "description_width": ""
      }
     },
     "5ebf1adf3d194dc1a9fa45afd3aea797": {
      "model_module": "@jupyter-widgets/controls",
      "model_module_version": "1.5.0",
      "model_name": "HBoxModel",
      "state": {
       "children": [
        "IPY_MODEL_0a6c69de15a743b4b4d8403d01785c20",
        "IPY_MODEL_9523897232524d48b0fd5dcd9f67facd",
        "IPY_MODEL_d51a9e7ba920406a9b5f86d8d66a5647"
       ],
       "layout": "IPY_MODEL_7f14b6ff160c416f8d64bcaaf72e211e"
      }
     },
     "5f3e13ccd66c452d9380b27ee23de657": {
      "model_module": "@jupyter-widgets/controls",
      "model_module_version": "1.5.0",
      "model_name": "HTMLModel",
      "state": {
       "layout": "IPY_MODEL_6027d975f96f46d9916ef4019067387e",
       "style": "IPY_MODEL_97701efda58e41f7938919b54bc6c0ce",
       "value": " 10000/10000 [00:01&lt;00:00, 7515.39it/s]"
      }
     },
     "5fe06e73a85b4048bed8bc26a31e3699": {
      "model_module": "@jupyter-widgets/controls",
      "model_module_version": "1.5.0",
      "model_name": "FloatProgressModel",
      "state": {
       "bar_style": "success",
       "layout": "IPY_MODEL_3bd29586c800471e9d5d27877f928466",
       "max": 10000,
       "style": "IPY_MODEL_4496947d5806484fba171c997de976a1",
       "value": 10000
      }
     },
     "600a1b6f0248411eb18f5d1537acfe89": {
      "model_module": "@jupyter-widgets/controls",
      "model_module_version": "1.5.0",
      "model_name": "HBoxModel",
      "state": {
       "children": [
        "IPY_MODEL_3f30012b4c3841d39af40031a75286bb",
        "IPY_MODEL_19a7f57fdb27400fa17a4726e4183691",
        "IPY_MODEL_b4e9f5dfa5884a41b8ee15f5588e3086"
       ],
       "layout": "IPY_MODEL_4ddf7c6e467e4063b2c932018126a3f5"
      }
     },
     "600d978621d345ceb32fac3c91376be6": {
      "model_module": "@jupyter-widgets/base",
      "model_module_version": "1.2.0",
      "model_name": "LayoutModel",
      "state": {}
     },
     "6026cb4b6e0b4bc4b93aa75fbac279ab": {
      "model_module": "@jupyter-widgets/controls",
      "model_module_version": "1.5.0",
      "model_name": "DescriptionStyleModel",
      "state": {
       "description_width": ""
      }
     },
     "6027d975f96f46d9916ef4019067387e": {
      "model_module": "@jupyter-widgets/base",
      "model_module_version": "1.2.0",
      "model_name": "LayoutModel",
      "state": {}
     },
     "6049b410732148bd89e3d25b154cc959": {
      "model_module": "@jupyter-widgets/base",
      "model_module_version": "1.2.0",
      "model_name": "LayoutModel",
      "state": {}
     },
     "608b1121758e45fea123429fcd6e641e": {
      "model_module": "@jupyter-widgets/controls",
      "model_module_version": "1.5.0",
      "model_name": "HTMLModel",
      "state": {
       "layout": "IPY_MODEL_4901dd1321ea4424abfc5b62b1fbda14",
       "style": "IPY_MODEL_b1bd6b9c42984e1eb3d366c3213b40a5",
       "value": " 10000/10000 [00:01&lt;00:00, 7373.95it/s]"
      }
     },
     "60c535f76d1345e4b358066b4f86bdce": {
      "model_module": "@jupyter-widgets/controls",
      "model_module_version": "1.5.0",
      "model_name": "DescriptionStyleModel",
      "state": {
       "description_width": ""
      }
     },
     "6145edfca71d40a6acc3e135eaefdc58": {
      "model_module": "@jupyter-widgets/controls",
      "model_module_version": "1.5.0",
      "model_name": "DescriptionStyleModel",
      "state": {
       "description_width": ""
      }
     },
     "62250cd0795c4789a47bf124f408fb90": {
      "model_module": "@jupyter-widgets/controls",
      "model_module_version": "1.5.0",
      "model_name": "ProgressStyleModel",
      "state": {
       "description_width": ""
      }
     },
     "624b27d80f5e4e8b958d69fb1f2c39f4": {
      "model_module": "@jupyter-widgets/controls",
      "model_module_version": "1.5.0",
      "model_name": "HTMLModel",
      "state": {
       "layout": "IPY_MODEL_365eafd338064e75adec02816e872131",
       "style": "IPY_MODEL_ec009b35fcb4463ebe8427ba1eebeee1",
       "value": " 10000/10000 [00:01&lt;00:00, 7491.41it/s]"
      }
     },
     "6335cdbf28344f8586bf96efe8c2df6e": {
      "model_module": "@jupyter-widgets/controls",
      "model_module_version": "1.5.0",
      "model_name": "FloatProgressModel",
      "state": {
       "bar_style": "success",
       "layout": "IPY_MODEL_8e830228b5c741a291a821475a93b65d",
       "max": 2998856,
       "style": "IPY_MODEL_5df69437c3094ede8019841b07576f99",
       "value": 2998856
      }
     },
     "63a219b7c68945bf8db1239347f74979": {
      "model_module": "@jupyter-widgets/base",
      "model_module_version": "1.2.0",
      "model_name": "LayoutModel",
      "state": {}
     },
     "645cb18028544097ab82516933a603c1": {
      "model_module": "@jupyter-widgets/base",
      "model_module_version": "1.2.0",
      "model_name": "LayoutModel",
      "state": {}
     },
     "646db2b10baf432a9ecd1a26daea6753": {
      "model_module": "@jupyter-widgets/controls",
      "model_module_version": "1.5.0",
      "model_name": "HTMLModel",
      "state": {
       "layout": "IPY_MODEL_992001d9383f4c27942b45afd49e354c",
       "style": "IPY_MODEL_568f252a248d4e4fa10c87d499e733ca",
       "value": "Writing sentences to sent_chunk_0003.txt: 100%"
      }
     },
     "654c658f8f5c46398c4c345f23ce3754": {
      "model_module": "@jupyter-widgets/controls",
      "model_module_version": "1.5.0",
      "model_name": "DescriptionStyleModel",
      "state": {
       "description_width": ""
      }
     },
     "666073a7350841a697b2bd06eca98cee": {
      "model_module": "@jupyter-widgets/controls",
      "model_module_version": "1.5.0",
      "model_name": "ProgressStyleModel",
      "state": {
       "description_width": ""
      }
     },
     "6699a570d8664a299aaeafa4c0ce8b65": {
      "model_module": "@jupyter-widgets/controls",
      "model_module_version": "1.5.0",
      "model_name": "DescriptionStyleModel",
      "state": {
       "description_width": ""
      }
     },
     "66fe27c7b9324edfa8b11bd744a8c193": {
      "model_module": "@jupyter-widgets/controls",
      "model_module_version": "1.5.0",
      "model_name": "HTMLModel",
      "state": {
       "layout": "IPY_MODEL_600d978621d345ceb32fac3c91376be6",
       "style": "IPY_MODEL_2e6cde9789c743338c5dc8d16ff04720",
       "value": " 10000/10000 [00:01&lt;00:00, 7439.91it/s]"
      }
     },
     "6767e05c38ae4735bcb7a95b84f1b871": {
      "model_module": "@jupyter-widgets/controls",
      "model_module_version": "1.5.0",
      "model_name": "HTMLModel",
      "state": {
       "layout": "IPY_MODEL_7f1ebb53f5024783a97694a39beebf5b",
       "style": "IPY_MODEL_1d2c86d3349c499194a0d3e97cdeda21",
       "value": "Writing sentences to sent_chunk_0027.txt: 100%"
      }
     },
     "67d15d62c2e6496e80f89954731de505": {
      "model_module": "@jupyter-widgets/controls",
      "model_module_version": "1.5.0",
      "model_name": "HTMLModel",
      "state": {
       "layout": "IPY_MODEL_455e7ccc4e4b47ef9ce48d290bae01a0",
       "style": "IPY_MODEL_0e3bbc7c0be64888b0320b5c027a0e1f",
       "value": " 10000/10000 [00:01&lt;00:00, 7465.06it/s]"
      }
     },
     "6853756ceea94d1bb589b4fc56febc61": {
      "model_module": "@jupyter-widgets/controls",
      "model_module_version": "1.5.0",
      "model_name": "HBoxModel",
      "state": {
       "children": [
        "IPY_MODEL_db63dcd055324b16963a986aca20766f",
        "IPY_MODEL_fa9f8144200d4dc582203feedd755309",
        "IPY_MODEL_fe863ed46c204d78bc4ba1c59f5a17c3"
       ],
       "layout": "IPY_MODEL_f29163e65d7142b88a6627f3571541c9"
      }
     },
     "685c801b9f1b477a8070bbd38c4138ef": {
      "model_module": "@jupyter-widgets/controls",
      "model_module_version": "1.5.0",
      "model_name": "DescriptionStyleModel",
      "state": {
       "description_width": ""
      }
     },
     "68a9e6ee32604937a5eaa7120ff43ff0": {
      "model_module": "@jupyter-widgets/controls",
      "model_module_version": "1.5.0",
      "model_name": "DescriptionStyleModel",
      "state": {
       "description_width": ""
      }
     },
     "69d157bc9a514e09be76e4a300bcfebd": {
      "model_module": "@jupyter-widgets/base",
      "model_module_version": "1.2.0",
      "model_name": "LayoutModel",
      "state": {}
     },
     "69dabeb6240a4e3d965dc6a3df025680": {
      "model_module": "@jupyter-widgets/base",
      "model_module_version": "1.2.0",
      "model_name": "LayoutModel",
      "state": {}
     },
     "69dac325566f423dae6c0e07b98a151b": {
      "model_module": "@jupyter-widgets/controls",
      "model_module_version": "1.5.0",
      "model_name": "DescriptionStyleModel",
      "state": {
       "description_width": ""
      }
     },
     "6a36560f4ae44ec1a4a67db06b172294": {
      "model_module": "@jupyter-widgets/controls",
      "model_module_version": "1.5.0",
      "model_name": "FloatProgressModel",
      "state": {
       "bar_style": "success",
       "layout": "IPY_MODEL_1297ee1dca3047eeafcdec717c759fb8",
       "max": 10000,
       "style": "IPY_MODEL_62250cd0795c4789a47bf124f408fb90",
       "value": 10000
      }
     },
     "6b178272672748a192f72cad896912bc": {
      "model_module": "@jupyter-widgets/controls",
      "model_module_version": "1.5.0",
      "model_name": "ProgressStyleModel",
      "state": {
       "description_width": ""
      }
     },
     "6b4d31f232d4436d9ab491aeffa58fa5": {
      "model_module": "@jupyter-widgets/controls",
      "model_module_version": "1.5.0",
      "model_name": "DescriptionStyleModel",
      "state": {
       "description_width": ""
      }
     },
     "6b5bc701d7ba4d658d1193cee645d2de": {
      "model_module": "@jupyter-widgets/base",
      "model_module_version": "1.2.0",
      "model_name": "LayoutModel",
      "state": {}
     },
     "6c39dfa68f464d34ac701b7188a40c53": {
      "model_module": "@jupyter-widgets/controls",
      "model_module_version": "1.5.0",
      "model_name": "DescriptionStyleModel",
      "state": {
       "description_width": ""
      }
     },
     "6c8057762644403483793691b33377e0": {
      "model_module": "@jupyter-widgets/base",
      "model_module_version": "1.2.0",
      "model_name": "LayoutModel",
      "state": {}
     },
     "6c83b5dd78004bf4b4d055a67f9e1e93": {
      "model_module": "@jupyter-widgets/controls",
      "model_module_version": "1.5.0",
      "model_name": "ProgressStyleModel",
      "state": {
       "description_width": ""
      }
     },
     "6d1c6e7565ed4e79a94264e037c475a0": {
      "model_module": "@jupyter-widgets/base",
      "model_module_version": "1.2.0",
      "model_name": "LayoutModel",
      "state": {}
     },
     "6d2a4a75982c4296abd1a198882622f1": {
      "model_module": "@jupyter-widgets/controls",
      "model_module_version": "1.5.0",
      "model_name": "ProgressStyleModel",
      "state": {
       "description_width": ""
      }
     },
     "6d836e7924b146e7b3da2cd18facdb65": {
      "model_module": "@jupyter-widgets/base",
      "model_module_version": "1.2.0",
      "model_name": "LayoutModel",
      "state": {}
     },
     "6dab55d17fc047d5962268296eacd271": {
      "model_module": "@jupyter-widgets/base",
      "model_module_version": "1.2.0",
      "model_name": "LayoutModel",
      "state": {}
     },
     "6e51498032fd426da54ca8fe9842df73": {
      "model_module": "@jupyter-widgets/controls",
      "model_module_version": "1.5.0",
      "model_name": "HBoxModel",
      "state": {
       "children": [
        "IPY_MODEL_bd8d1b55da874a9f8a2ba827f630232c",
        "IPY_MODEL_dd1dc69fc88949ef97d184d8a429cdf4",
        "IPY_MODEL_041aca1c19a2461fac36e314d91d81aa"
       ],
       "layout": "IPY_MODEL_3cc758bca82a4cf09be81a7a7e04acdd"
      }
     },
     "6e9637ee6ff0493f9dd6fe7db8c6d31f": {
      "model_module": "@jupyter-widgets/controls",
      "model_module_version": "1.5.0",
      "model_name": "FloatProgressModel",
      "state": {
       "bar_style": "success",
       "layout": "IPY_MODEL_86c1b44b479a4eb2996a6b78dffe0128",
       "max": 10000,
       "style": "IPY_MODEL_41bf9e2725cf45678c5e9bdd6aff1d65",
       "value": 10000
      }
     },
     "6ea9c3c8e2ca480f971cfd3256645c18": {
      "model_module": "@jupyter-widgets/controls",
      "model_module_version": "1.5.0",
      "model_name": "HTMLModel",
      "state": {
       "layout": "IPY_MODEL_7a5533945f74497fbbd708d1cc8413bc",
       "style": "IPY_MODEL_7c6608d2767f4a96ad58525974fb375c",
       "value": " 60519/60519 [00:00&lt;00:00, 157257.64it/s]"
      }
     },
     "6ec84677739d4f0bb3bcc8731cd8346c": {
      "model_module": "@jupyter-widgets/controls",
      "model_module_version": "1.5.0",
      "model_name": "HTMLModel",
      "state": {
       "layout": "IPY_MODEL_e3cc6543a6cc4ff1afe86dbcffcb8521",
       "style": "IPY_MODEL_69dac325566f423dae6c0e07b98a151b",
       "value": " 10000/10000 [00:01&lt;00:00, 7397.08it/s]"
      }
     },
     "6f07dbc300304f599a270f102c1f3a64": {
      "model_module": "@jupyter-widgets/controls",
      "model_module_version": "1.5.0",
      "model_name": "ProgressStyleModel",
      "state": {
       "description_width": ""
      }
     },
     "6f14778379d44b56b6ef374ff7325ead": {
      "model_module": "@jupyter-widgets/controls",
      "model_module_version": "1.5.0",
      "model_name": "DescriptionStyleModel",
      "state": {
       "description_width": ""
      }
     },
     "6f5c0f36c9aa4016a4784563ae842cba": {
      "model_module": "@jupyter-widgets/controls",
      "model_module_version": "1.5.0",
      "model_name": "HBoxModel",
      "state": {
       "children": [
        "IPY_MODEL_a7ec3b94f8a544a4a929ce83127d5967",
        "IPY_MODEL_6335cdbf28344f8586bf96efe8c2df6e",
        "IPY_MODEL_b8b90601a7664deabf593bbb81f11ce5"
       ],
       "layout": "IPY_MODEL_dca21a8dbd814ead8b0969c98bbbf5ea"
      }
     },
     "6f75fa089db44749bb04d01cda799c87": {
      "model_module": "@jupyter-widgets/controls",
      "model_module_version": "1.5.0",
      "model_name": "FloatProgressModel",
      "state": {
       "bar_style": "success",
       "layout": "IPY_MODEL_94b47fb4cc5348febdf794f7b841ffa0",
       "max": 10000,
       "style": "IPY_MODEL_9f5dc95057374d87acb8e67661118ca7",
       "value": 10000
      }
     },
     "6fa9e0c33c4d46fca905f67838ab6b70": {
      "model_module": "@jupyter-widgets/controls",
      "model_module_version": "1.5.0",
      "model_name": "HTMLModel",
      "state": {
       "layout": "IPY_MODEL_235b39b0013746caa1f21b29624d34b3",
       "style": "IPY_MODEL_4c2c9b4b330a4c4daabdd0fcbec14f11",
       "value": " 10000/10000 [00:01&lt;00:00, 7418.06it/s]"
      }
     },
     "6feccb7ea35e4da79bf15cd9b6cd14fc": {
      "model_module": "@jupyter-widgets/controls",
      "model_module_version": "1.5.0",
      "model_name": "ProgressStyleModel",
      "state": {
       "description_width": ""
      }
     },
     "7048d0a577334bfe8e75fd909864c135": {
      "model_module": "@jupyter-widgets/controls",
      "model_module_version": "1.5.0",
      "model_name": "HBoxModel",
      "state": {
       "children": [
        "IPY_MODEL_74e0be9305af437ea6f1f081d933da8c",
        "IPY_MODEL_076bd536980b44c9819b4894ea29e673",
        "IPY_MODEL_bc51b2b26b9a4778ae6eb8dde7d1176c"
       ],
       "layout": "IPY_MODEL_009335ddfbd14f41bc10eb304a9a8915"
      }
     },
     "7072d80a96be405cade742ceda23aa97": {
      "model_module": "@jupyter-widgets/controls",
      "model_module_version": "1.5.0",
      "model_name": "FloatProgressModel",
      "state": {
       "bar_style": "success",
       "layout": "IPY_MODEL_b30b91edaf8646bda39d838fff24069e",
       "max": 10000,
       "style": "IPY_MODEL_95dca009fbd847c08ff6bababfa86576",
       "value": 10000
      }
     },
     "708907c490d64a17b74ffe6ee7b544bd": {
      "model_module": "@jupyter-widgets/controls",
      "model_module_version": "1.5.0",
      "model_name": "HBoxModel",
      "state": {
       "children": [
        "IPY_MODEL_75cf0b11d20e46868c227d048c6f305c",
        "IPY_MODEL_dcf0eae48fa442ed86442ec967c28678",
        "IPY_MODEL_f1e33582f08b4c82af9806121829130e"
       ],
       "layout": "IPY_MODEL_aadad63bd2904115bb54ec2169e409ca"
      }
     },
     "719abc747810447e9afd2911fe46afac": {
      "model_module": "@jupyter-widgets/base",
      "model_module_version": "1.2.0",
      "model_name": "LayoutModel",
      "state": {}
     },
     "736f2e2d9f1f455f89977570bba8a024": {
      "model_module": "@jupyter-widgets/controls",
      "model_module_version": "1.5.0",
      "model_name": "ProgressStyleModel",
      "state": {
       "description_width": ""
      }
     },
     "73e2add3920e4095ab7d5b9c68cb3449": {
      "model_module": "@jupyter-widgets/controls",
      "model_module_version": "1.5.0",
      "model_name": "FloatProgressModel",
      "state": {
       "bar_style": "success",
       "layout": "IPY_MODEL_bd05cb6f775044278e82ec4a18ecdb70",
       "max": 10000,
       "style": "IPY_MODEL_6d2a4a75982c4296abd1a198882622f1",
       "value": 10000
      }
     },
     "7476610fbdf94baabb992f2942a9be3b": {
      "model_module": "@jupyter-widgets/base",
      "model_module_version": "1.2.0",
      "model_name": "LayoutModel",
      "state": {}
     },
     "74ad1aa65bbb47f98ed4314176a0bb20": {
      "model_module": "@jupyter-widgets/base",
      "model_module_version": "1.2.0",
      "model_name": "LayoutModel",
      "state": {}
     },
     "74e0be9305af437ea6f1f081d933da8c": {
      "model_module": "@jupyter-widgets/controls",
      "model_module_version": "1.5.0",
      "model_name": "HTMLModel",
      "state": {
       "layout": "IPY_MODEL_9d03d82aa93b490e9e7636d43b42c3d9",
       "style": "IPY_MODEL_685c801b9f1b477a8070bbd38c4138ef",
       "value": "Writing sentences to sent_chunk_0060.txt: 100%"
      }
     },
     "74e223d0ecf64e3f934cdbf9dfa19ef7": {
      "model_module": "@jupyter-widgets/base",
      "model_module_version": "1.2.0",
      "model_name": "LayoutModel",
      "state": {}
     },
     "7548ac5ab7214f1091f892725ca79f80": {
      "model_module": "@jupyter-widgets/base",
      "model_module_version": "1.2.0",
      "model_name": "LayoutModel",
      "state": {}
     },
     "756a25bb12564a50b965a49e399557c2": {
      "model_module": "@jupyter-widgets/controls",
      "model_module_version": "1.5.0",
      "model_name": "HTMLModel",
      "state": {
       "layout": "IPY_MODEL_afed4bceeaa24889a4cb62d576258413",
       "style": "IPY_MODEL_aaa965bff6c24154b9472b2648a06285",
       "value": "Writing sentences to sent_chunk_0057.txt: 100%"
      }
     },
     "75cf0b11d20e46868c227d048c6f305c": {
      "model_module": "@jupyter-widgets/controls",
      "model_module_version": "1.5.0",
      "model_name": "HTMLModel",
      "state": {
       "layout": "IPY_MODEL_95eb27d2534c40edb1384291928fbf0b",
       "style": "IPY_MODEL_0f8845d0d17048618cd96274c6aae163",
       "value": "Writing sentences to sent_chunk_0046.txt: 100%"
      }
     },
     "75d2e1b345914cd68400ea8f1a93fe2f": {
      "model_module": "@jupyter-widgets/controls",
      "model_module_version": "1.5.0",
      "model_name": "HBoxModel",
      "state": {
       "children": [
        "IPY_MODEL_0579bb7dd617428eb05a98ac7380adc6",
        "IPY_MODEL_7072d80a96be405cade742ceda23aa97",
        "IPY_MODEL_14f1952bfb7a48e7933cbd820f038e38"
       ],
       "layout": "IPY_MODEL_63a219b7c68945bf8db1239347f74979"
      }
     },
     "763e4ea4c5e446fd84f8ebf616ed11dd": {
      "model_module": "@jupyter-widgets/base",
      "model_module_version": "1.2.0",
      "model_name": "LayoutModel",
      "state": {}
     },
     "779c57eb6807469e89fb392b77d57886": {
      "model_module": "@jupyter-widgets/base",
      "model_module_version": "1.2.0",
      "model_name": "LayoutModel",
      "state": {}
     },
     "77d2992a88c04cff811237449a9ebf2d": {
      "model_module": "@jupyter-widgets/controls",
      "model_module_version": "1.5.0",
      "model_name": "FloatProgressModel",
      "state": {
       "bar_style": "success",
       "layout": "IPY_MODEL_94f6cac380d34f1a84c06ad8d042c3ba",
       "max": 10000,
       "style": "IPY_MODEL_91b3f2e4def1463280e61c5affd650bb",
       "value": 10000
      }
     },
     "7828eaa5164e42749e1331bc8880d406": {
      "model_module": "@jupyter-widgets/controls",
      "model_module_version": "1.5.0",
      "model_name": "FloatProgressModel",
      "state": {
       "bar_style": "success",
       "layout": "IPY_MODEL_e337e2813f86413c8bfaf8b19ab65d0c",
       "max": 10000,
       "style": "IPY_MODEL_84fde92316274b05a7b2b2db10aecb23",
       "value": 10000
      }
     },
     "78a840c0b734409196cdf029d320b145": {
      "model_module": "@jupyter-widgets/controls",
      "model_module_version": "1.5.0",
      "model_name": "HTMLModel",
      "state": {
       "layout": "IPY_MODEL_0f15e3821b22482799cff1c6f8e43d6d",
       "style": "IPY_MODEL_c7c54527cf334b07acf826a77fed022e",
       "value": " 10000/10000 [00:01&lt;00:00, 7251.14it/s]"
      }
     },
     "790439b3a6974a0d852df5b01241c3d2": {
      "model_module": "@jupyter-widgets/controls",
      "model_module_version": "1.5.0",
      "model_name": "DescriptionStyleModel",
      "state": {
       "description_width": ""
      }
     },
     "792d939e902349c182cc285c0bfeab20": {
      "model_module": "@jupyter-widgets/controls",
      "model_module_version": "1.5.0",
      "model_name": "FloatProgressModel",
      "state": {
       "bar_style": "success",
       "layout": "IPY_MODEL_b6cfb35f60e94e19b62f9ab55f1616f8",
       "max": 10000,
       "style": "IPY_MODEL_7f3913d5335e40da8c0d8d6995340aa8",
       "value": 10000
      }
     },
     "7943d8211e284973b14f3a6208045f79": {
      "model_module": "@jupyter-widgets/base",
      "model_module_version": "1.2.0",
      "model_name": "LayoutModel",
      "state": {}
     },
     "79ad307bb86b41948445f99f8397b81c": {
      "model_module": "@jupyter-widgets/controls",
      "model_module_version": "1.5.0",
      "model_name": "HBoxModel",
      "state": {
       "children": [
        "IPY_MODEL_eebb7e29a2d645e3ba201faba69ed475",
        "IPY_MODEL_f700be9fec6443e4a5e46436b956c076",
        "IPY_MODEL_b652f4a0abb8499bb558471c2bf9c3e8"
       ],
       "layout": "IPY_MODEL_fa8b159550ec4d8e95a6118747a26be7"
      }
     },
     "79d1e1921511492bb571dcb1b7a024d8": {
      "model_module": "@jupyter-widgets/base",
      "model_module_version": "1.2.0",
      "model_name": "LayoutModel",
      "state": {}
     },
     "79e419e738d243a4b8c6d49328ad305b": {
      "model_module": "@jupyter-widgets/controls",
      "model_module_version": "1.5.0",
      "model_name": "DescriptionStyleModel",
      "state": {
       "description_width": ""
      }
     },
     "7a022349011e4fcc8efb875a893a092f": {
      "model_module": "@jupyter-widgets/controls",
      "model_module_version": "1.5.0",
      "model_name": "ProgressStyleModel",
      "state": {
       "description_width": ""
      }
     },
     "7a5533945f74497fbbd708d1cc8413bc": {
      "model_module": "@jupyter-widgets/base",
      "model_module_version": "1.2.0",
      "model_name": "LayoutModel",
      "state": {}
     },
     "7acec57f3a464a56a6b4ae4bc47d422f": {
      "model_module": "@jupyter-widgets/base",
      "model_module_version": "1.2.0",
      "model_name": "LayoutModel",
      "state": {}
     },
     "7ad377eba7514a479ad5eaf7079756bc": {
      "model_module": "@jupyter-widgets/controls",
      "model_module_version": "1.5.0",
      "model_name": "HTMLModel",
      "state": {
       "layout": "IPY_MODEL_0c8f52e54a374042914c0ed1c6de1d93",
       "style": "IPY_MODEL_9388a7e954d64a0f9be367018352ab50",
       "value": "Writing sentences to sent_chunk_0028.txt: 100%"
      }
     },
     "7af0c202e6cb458e8f57c887d53b00ac": {
      "model_module": "@jupyter-widgets/controls",
      "model_module_version": "1.5.0",
      "model_name": "DescriptionStyleModel",
      "state": {
       "description_width": ""
      }
     },
     "7b622a42992f4fb4b834ebda82b417f5": {
      "model_module": "@jupyter-widgets/base",
      "model_module_version": "1.2.0",
      "model_name": "LayoutModel",
      "state": {}
     },
     "7c3425683ba642a1ab354b84deea4e38": {
      "model_module": "@jupyter-widgets/controls",
      "model_module_version": "1.5.0",
      "model_name": "HTMLModel",
      "state": {
       "layout": "IPY_MODEL_259bb45fe1364ad1b14ecdc0f5499871",
       "style": "IPY_MODEL_bcb2f55d8a6644d9ba45ea8fddf02740",
       "value": "Writing sentences to sent_chunk_0019.txt: 100%"
      }
     },
     "7c6608d2767f4a96ad58525974fb375c": {
      "model_module": "@jupyter-widgets/controls",
      "model_module_version": "1.5.0",
      "model_name": "DescriptionStyleModel",
      "state": {
       "description_width": ""
      }
     },
     "7c792e103ece45199cac20f6cf13f63c": {
      "model_module": "@jupyter-widgets/controls",
      "model_module_version": "1.5.0",
      "model_name": "DescriptionStyleModel",
      "state": {
       "description_width": ""
      }
     },
     "7c99ddc9f0a34d5daeef78b930fdfb85": {
      "model_module": "@jupyter-widgets/controls",
      "model_module_version": "1.5.0",
      "model_name": "ProgressStyleModel",
      "state": {
       "description_width": ""
      }
     },
     "7d4157a75f584c1695cf9c7d5e052edf": {
      "model_module": "@jupyter-widgets/base",
      "model_module_version": "1.2.0",
      "model_name": "LayoutModel",
      "state": {}
     },
     "7d6dcf57b6804ffe96806ff6e5f29efa": {
      "model_module": "@jupyter-widgets/controls",
      "model_module_version": "1.5.0",
      "model_name": "DescriptionStyleModel",
      "state": {
       "description_width": ""
      }
     },
     "7dcd3bd6956c43528faf5c289d04323d": {
      "model_module": "@jupyter-widgets/controls",
      "model_module_version": "1.5.0",
      "model_name": "HBoxModel",
      "state": {
       "children": [
        "IPY_MODEL_756a25bb12564a50b965a49e399557c2",
        "IPY_MODEL_0249b4aaa774471f9ca782680ed85cea",
        "IPY_MODEL_44190b4c9bff49f4bb26ce2ab754e6b2"
       ],
       "layout": "IPY_MODEL_cfdfbe01448a466eb709f6feceb5a4bd"
      }
     },
     "7e32143fe1314ffaa108bb4016464621": {
      "model_module": "@jupyter-widgets/controls",
      "model_module_version": "1.5.0",
      "model_name": "HTMLModel",
      "state": {
       "layout": "IPY_MODEL_bc2ee050262b408b9f62c193225b5a04",
       "style": "IPY_MODEL_790439b3a6974a0d852df5b01241c3d2",
       "value": "100%"
      }
     },
     "7e56db624d8e4c3ca9e2c3f5f07b8405": {
      "model_module": "@jupyter-widgets/controls",
      "model_module_version": "1.5.0",
      "model_name": "HTMLModel",
      "state": {
       "layout": "IPY_MODEL_8438d3c926b342be95805d1249ef86d6",
       "style": "IPY_MODEL_4fff138b60d64506802420a8124d74bb",
       "value": "Writing sentences to sent_chunk_0013.txt: 100%"
      }
     },
     "7e582b5592c144cd9c82f23f68cf984a": {
      "model_module": "@jupyter-widgets/base",
      "model_module_version": "1.2.0",
      "model_name": "LayoutModel",
      "state": {}
     },
     "7f14b6ff160c416f8d64bcaaf72e211e": {
      "model_module": "@jupyter-widgets/base",
      "model_module_version": "1.2.0",
      "model_name": "LayoutModel",
      "state": {}
     },
     "7f1ebb53f5024783a97694a39beebf5b": {
      "model_module": "@jupyter-widgets/base",
      "model_module_version": "1.2.0",
      "model_name": "LayoutModel",
      "state": {}
     },
     "7f3913d5335e40da8c0d8d6995340aa8": {
      "model_module": "@jupyter-widgets/controls",
      "model_module_version": "1.5.0",
      "model_name": "ProgressStyleModel",
      "state": {
       "description_width": ""
      }
     },
     "7f7c64ab5b0640f3b36cc469567dd3c5": {
      "model_module": "@jupyter-widgets/base",
      "model_module_version": "1.2.0",
      "model_name": "LayoutModel",
      "state": {}
     },
     "7ffdf9de2d5449a68ebf27d5a9fa6d4d": {
      "model_module": "@jupyter-widgets/controls",
      "model_module_version": "1.5.0",
      "model_name": "ProgressStyleModel",
      "state": {
       "description_width": ""
      }
     },
     "80474cc528b24fdfbe0bec3da8ed5a39": {
      "model_module": "@jupyter-widgets/controls",
      "model_module_version": "1.5.0",
      "model_name": "ProgressStyleModel",
      "state": {
       "description_width": ""
      }
     },
     "80a06b40e014433681c7aed537c48dac": {
      "model_module": "@jupyter-widgets/controls",
      "model_module_version": "1.5.0",
      "model_name": "DescriptionStyleModel",
      "state": {
       "description_width": ""
      }
     },
     "80a0f9b59f57402cbdb06dce4020fb7f": {
      "model_module": "@jupyter-widgets/controls",
      "model_module_version": "1.5.0",
      "model_name": "ProgressStyleModel",
      "state": {
       "description_width": ""
      }
     },
     "80b70e7ac6624ea5b854d5ede757c7ad": {
      "model_module": "@jupyter-widgets/controls",
      "model_module_version": "1.5.0",
      "model_name": "FloatProgressModel",
      "state": {
       "bar_style": "success",
       "layout": "IPY_MODEL_3771b7e905a047e087ce526134bd6da7",
       "max": 10000,
       "style": "IPY_MODEL_7ffdf9de2d5449a68ebf27d5a9fa6d4d",
       "value": 10000
      }
     },
     "812bb633f87c499bb21f19001e23ccbc": {
      "model_module": "@jupyter-widgets/base",
      "model_module_version": "1.2.0",
      "model_name": "LayoutModel",
      "state": {}
     },
     "8176b5eac51b4832b157971a89c99b74": {
      "model_module": "@jupyter-widgets/controls",
      "model_module_version": "1.5.0",
      "model_name": "ProgressStyleModel",
      "state": {
       "description_width": ""
      }
     },
     "8194eba5dcc840398df0a272264c78bd": {
      "model_module": "@jupyter-widgets/controls",
      "model_module_version": "1.5.0",
      "model_name": "FloatProgressModel",
      "state": {
       "bar_style": "success",
       "layout": "IPY_MODEL_d039181cf57547e4b4e55a29f8d80fc5",
       "max": 10000,
       "style": "IPY_MODEL_82cf22fdce5740b1a5b52476e622ce99",
       "value": 10000
      }
     },
     "81fddb120f914c16aaf73932622553c1": {
      "model_module": "@jupyter-widgets/controls",
      "model_module_version": "1.5.0",
      "model_name": "HTMLModel",
      "state": {
       "layout": "IPY_MODEL_9c30b669b1414faabf95d0fa3d46ca21",
       "style": "IPY_MODEL_80a06b40e014433681c7aed537c48dac",
       "value": "Writing sentences to sent_chunk_0049.txt: 100%"
      }
     },
     "8223f14752c34a088d92a27dc395cc03": {
      "model_module": "@jupyter-widgets/controls",
      "model_module_version": "1.5.0",
      "model_name": "HTMLModel",
      "state": {
       "layout": "IPY_MODEL_4047d7c33f624a6aa99a06080e799926",
       "style": "IPY_MODEL_9a8db3d5c8b341c1877f48c1f78daaae",
       "value": "Writing sentences to sent_chunk_0034.txt: 100%"
      }
     },
     "827711a444134defa6d2019012241059": {
      "model_module": "@jupyter-widgets/controls",
      "model_module_version": "1.5.0",
      "model_name": "DescriptionStyleModel",
      "state": {
       "description_width": ""
      }
     },
     "82cf22fdce5740b1a5b52476e622ce99": {
      "model_module": "@jupyter-widgets/controls",
      "model_module_version": "1.5.0",
      "model_name": "ProgressStyleModel",
      "state": {
       "description_width": ""
      }
     },
     "82f4e36c8ab74556a59b5db6ad714acc": {
      "model_module": "@jupyter-widgets/controls",
      "model_module_version": "1.5.0",
      "model_name": "ProgressStyleModel",
      "state": {
       "description_width": ""
      }
     },
     "830086ddbc2d4c4a8d1168621dbd9980": {
      "model_module": "@jupyter-widgets/controls",
      "model_module_version": "1.5.0",
      "model_name": "DescriptionStyleModel",
      "state": {
       "description_width": ""
      }
     },
     "831aae7c929d4ddeb63a930a1eeaded6": {
      "model_module": "@jupyter-widgets/controls",
      "model_module_version": "1.5.0",
      "model_name": "DescriptionStyleModel",
      "state": {
       "description_width": ""
      }
     },
     "83f4c9f3f9ad42509ef4f52d9a4daea1": {
      "model_module": "@jupyter-widgets/controls",
      "model_module_version": "1.5.0",
      "model_name": "DescriptionStyleModel",
      "state": {
       "description_width": ""
      }
     },
     "83f549a8fd6f427ca6535a14958f3755": {
      "model_module": "@jupyter-widgets/controls",
      "model_module_version": "1.5.0",
      "model_name": "DescriptionStyleModel",
      "state": {
       "description_width": ""
      }
     },
     "840e53d86d9f4c90bbdd715f16a0abfb": {
      "model_module": "@jupyter-widgets/controls",
      "model_module_version": "1.5.0",
      "model_name": "DescriptionStyleModel",
      "state": {
       "description_width": ""
      }
     },
     "8438d3c926b342be95805d1249ef86d6": {
      "model_module": "@jupyter-widgets/base",
      "model_module_version": "1.2.0",
      "model_name": "LayoutModel",
      "state": {}
     },
     "849fdd03c05b443787f616e01c93e1e4": {
      "model_module": "@jupyter-widgets/base",
      "model_module_version": "1.2.0",
      "model_name": "LayoutModel",
      "state": {}
     },
     "84c72f1d000e4fdd87d2c34f6751b41c": {
      "model_module": "@jupyter-widgets/base",
      "model_module_version": "1.2.0",
      "model_name": "LayoutModel",
      "state": {}
     },
     "84e11c82d96847318789a010eae28961": {
      "model_module": "@jupyter-widgets/base",
      "model_module_version": "1.2.0",
      "model_name": "LayoutModel",
      "state": {}
     },
     "84fde92316274b05a7b2b2db10aecb23": {
      "model_module": "@jupyter-widgets/controls",
      "model_module_version": "1.5.0",
      "model_name": "ProgressStyleModel",
      "state": {
       "description_width": ""
      }
     },
     "857caf9c47334c9b9718c6e62bc4703d": {
      "model_module": "@jupyter-widgets/base",
      "model_module_version": "1.2.0",
      "model_name": "LayoutModel",
      "state": {}
     },
     "865b935ce2fb4e2985e85b62bb5fef0b": {
      "model_module": "@jupyter-widgets/controls",
      "model_module_version": "1.5.0",
      "model_name": "ProgressStyleModel",
      "state": {
       "description_width": ""
      }
     },
     "86a9f7209d2b42b2ad69bf1730fef19b": {
      "model_module": "@jupyter-widgets/controls",
      "model_module_version": "1.5.0",
      "model_name": "DescriptionStyleModel",
      "state": {
       "description_width": ""
      }
     },
     "86ad283486aa4efc89e700a306bc3299": {
      "model_module": "@jupyter-widgets/controls",
      "model_module_version": "1.5.0",
      "model_name": "DescriptionStyleModel",
      "state": {
       "description_width": ""
      }
     },
     "86c1b44b479a4eb2996a6b78dffe0128": {
      "model_module": "@jupyter-widgets/base",
      "model_module_version": "1.2.0",
      "model_name": "LayoutModel",
      "state": {}
     },
     "87dd5c3e8ee147e3bd06b9c71a1d31ef": {
      "model_module": "@jupyter-widgets/controls",
      "model_module_version": "1.5.0",
      "model_name": "HTMLModel",
      "state": {
       "layout": "IPY_MODEL_eeeb7b53695a454ca6e6f5aa7ffcd9c2",
       "style": "IPY_MODEL_68a9e6ee32604937a5eaa7120ff43ff0",
       "value": "Writing sentences to sent_chunk_0012.txt: 100%"
      }
     },
     "882a6d3f87254d8e9f47aef4f8b58047": {
      "model_module": "@jupyter-widgets/controls",
      "model_module_version": "1.5.0",
      "model_name": "ProgressStyleModel",
      "state": {
       "description_width": ""
      }
     },
     "8833020f58214d2695b8168906383f44": {
      "model_module": "@jupyter-widgets/base",
      "model_module_version": "1.2.0",
      "model_name": "LayoutModel",
      "state": {}
     },
     "8861ce63c50344f588640d023ab2706c": {
      "model_module": "@jupyter-widgets/controls",
      "model_module_version": "1.5.0",
      "model_name": "DescriptionStyleModel",
      "state": {
       "description_width": ""
      }
     },
     "886e58404a724d4eaac9b8e5225e8be8": {
      "model_module": "@jupyter-widgets/controls",
      "model_module_version": "1.5.0",
      "model_name": "HTMLModel",
      "state": {
       "layout": "IPY_MODEL_6c8057762644403483793691b33377e0",
       "style": "IPY_MODEL_a95db3db9b34427d9b241aac52bb71aa",
       "value": "Writing sentences to sent_chunk_0026.txt: 100%"
      }
     },
     "8a1885defc5f4ece9c1d710fbe114e6c": {
      "model_module": "@jupyter-widgets/controls",
      "model_module_version": "1.5.0",
      "model_name": "HBoxModel",
      "state": {
       "children": [
        "IPY_MODEL_4bc554f049c84426b219cf04612f531b",
        "IPY_MODEL_b68422aa92f14f99b26c565adc6bad1a",
        "IPY_MODEL_3bc5b3e604ab45189201e095be96e5a5"
       ],
       "layout": "IPY_MODEL_3e26d1f31d0e4c7cba669578744975ef"
      }
     },
     "8a2b8135e6194c3085bc48b8cfb349d8": {
      "model_module": "@jupyter-widgets/base",
      "model_module_version": "1.2.0",
      "model_name": "LayoutModel",
      "state": {}
     },
     "8a474c99735046ec88c34864932a7654": {
      "model_module": "@jupyter-widgets/controls",
      "model_module_version": "1.5.0",
      "model_name": "HTMLModel",
      "state": {
       "layout": "IPY_MODEL_3910d43f91a7411db55bdf933744f0ac",
       "style": "IPY_MODEL_9446f4dd1df14666878d106b4a8efb5d",
       "value": " 10000/10000 [00:01&lt;00:00, 7610.67it/s]"
      }
     },
     "8a86e860d5d449df94f9c6d998d5b82f": {
      "model_module": "@jupyter-widgets/base",
      "model_module_version": "1.2.0",
      "model_name": "LayoutModel",
      "state": {}
     },
     "8a8f96dbc26645f9b4ece5572b05e6ab": {
      "model_module": "@jupyter-widgets/base",
      "model_module_version": "1.2.0",
      "model_name": "LayoutModel",
      "state": {}
     },
     "8aed5cff06cd4096870810ae60532e16": {
      "model_module": "@jupyter-widgets/controls",
      "model_module_version": "1.5.0",
      "model_name": "FloatProgressModel",
      "state": {
       "bar_style": "success",
       "layout": "IPY_MODEL_203e73e767c541ba9f6b01f6c0e8e118",
       "max": 10000,
       "style": "IPY_MODEL_d6d06ac48b3b478c84e7f0cdb7732042",
       "value": 10000
      }
     },
     "8b99d581c4d44c8c921cfa78e6b522d8": {
      "model_module": "@jupyter-widgets/controls",
      "model_module_version": "1.5.0",
      "model_name": "DescriptionStyleModel",
      "state": {
       "description_width": ""
      }
     },
     "8bb28b91a326405ea16bc8580b16d195": {
      "model_module": "@jupyter-widgets/controls",
      "model_module_version": "1.5.0",
      "model_name": "HTMLModel",
      "state": {
       "layout": "IPY_MODEL_3f2a273568ff480b833f1844b4f21db7",
       "style": "IPY_MODEL_86ad283486aa4efc89e700a306bc3299",
       "value": " 10000/10000 [00:01&lt;00:00, 7452.99it/s]"
      }
     },
     "8c24c8e17a824e3c94e72115c2a57a20": {
      "model_module": "@jupyter-widgets/base",
      "model_module_version": "1.2.0",
      "model_name": "LayoutModel",
      "state": {}
     },
     "8c466b97072d49c7880f8a0b5ca61606": {
      "model_module": "@jupyter-widgets/controls",
      "model_module_version": "1.5.0",
      "model_name": "HTMLModel",
      "state": {
       "layout": "IPY_MODEL_d04a9078b5fb489a9bff7d51dcdb834d",
       "style": "IPY_MODEL_60c535f76d1345e4b358066b4f86bdce",
       "value": "Writing sentences to sent_chunk_0011.txt: 100%"
      }
     },
     "8c71b4d84e1a4692865d4a9c88df4738": {
      "model_module": "@jupyter-widgets/controls",
      "model_module_version": "1.5.0",
      "model_name": "ProgressStyleModel",
      "state": {
       "description_width": ""
      }
     },
     "8c79468901644c7abeda2199ddef1bfd": {
      "model_module": "@jupyter-widgets/base",
      "model_module_version": "1.2.0",
      "model_name": "LayoutModel",
      "state": {}
     },
     "8cc0694ee701496ebad2bf6d29886a65": {
      "model_module": "@jupyter-widgets/controls",
      "model_module_version": "1.5.0",
      "model_name": "HBoxModel",
      "state": {
       "children": [
        "IPY_MODEL_7c3425683ba642a1ab354b84deea4e38",
        "IPY_MODEL_9a3e65bbb62c498d99e699cc8f899ec9",
        "IPY_MODEL_e0186495b4524a1ab7668f34d724b1f1"
       ],
       "layout": "IPY_MODEL_5b74fae785f04c87a0d34e83b96c1a14"
      }
     },
     "8cd61901a00548e282dbb0039f529a83": {
      "model_module": "@jupyter-widgets/controls",
      "model_module_version": "1.5.0",
      "model_name": "HTMLModel",
      "state": {
       "layout": "IPY_MODEL_6b5bc701d7ba4d658d1193cee645d2de",
       "style": "IPY_MODEL_e1332fe9165f4fc2aaafe55c45fd412c",
       "value": " 10000/10000 [00:01&lt;00:00, 7429.05it/s]"
      }
     },
     "8d03a220d43e4df0afcb344562083677": {
      "model_module": "@jupyter-widgets/base",
      "model_module_version": "1.2.0",
      "model_name": "LayoutModel",
      "state": {}
     },
     "8d204df54a7445a8bf70fd07b32797f6": {
      "model_module": "@jupyter-widgets/controls",
      "model_module_version": "1.5.0",
      "model_name": "DescriptionStyleModel",
      "state": {
       "description_width": ""
      }
     },
     "8d72a955593148a2af6cc1042e00f5ce": {
      "model_module": "@jupyter-widgets/controls",
      "model_module_version": "1.5.0",
      "model_name": "HTMLModel",
      "state": {
       "layout": "IPY_MODEL_455b6e561a214ad0b7a28f8c58d3c1f4",
       "style": "IPY_MODEL_fa14d234a8da4687af47c70ea724c8b4",
       "value": " 10000/10000 [00:01&lt;00:00, 7624.96it/s]"
      }
     },
     "8de27ed9a21649cd9c238b09cc2be53b": {
      "model_module": "@jupyter-widgets/controls",
      "model_module_version": "1.5.0",
      "model_name": "FloatProgressModel",
      "state": {
       "bar_style": "success",
       "layout": "IPY_MODEL_fdc20e533c8a47d88d854271410697ed",
       "max": 10000,
       "style": "IPY_MODEL_80a0f9b59f57402cbdb06dce4020fb7f",
       "value": 10000
      }
     },
     "8de7c26c121244cfa85625f5df30d7c4": {
      "model_module": "@jupyter-widgets/controls",
      "model_module_version": "1.5.0",
      "model_name": "DescriptionStyleModel",
      "state": {
       "description_width": ""
      }
     },
     "8e641c14e37645a283bc29a94bc21138": {
      "model_module": "@jupyter-widgets/controls",
      "model_module_version": "1.5.0",
      "model_name": "HBoxModel",
      "state": {
       "children": [
        "IPY_MODEL_fb2463063d1c4aa1931032cdfaee5db7",
        "IPY_MODEL_e4d81705665e4a31a206576778f78dee",
        "IPY_MODEL_e14e7de9d0234538a429492b42394c78"
       ],
       "layout": "IPY_MODEL_763e4ea4c5e446fd84f8ebf616ed11dd"
      }
     },
     "8e7c33a433cf473c8514e016572e6d91": {
      "model_module": "@jupyter-widgets/controls",
      "model_module_version": "1.5.0",
      "model_name": "HBoxModel",
      "state": {
       "children": [
        "IPY_MODEL_9ad207e7472c4ae9b5aedf07b27de949",
        "IPY_MODEL_babcdb1592c245e79c7ffb343cd9cfb0",
        "IPY_MODEL_58d9feb22e7f4295890c43a11b7c226e"
       ],
       "layout": "IPY_MODEL_7f7c64ab5b0640f3b36cc469567dd3c5"
      }
     },
     "8e830228b5c741a291a821475a93b65d": {
      "model_module": "@jupyter-widgets/base",
      "model_module_version": "1.2.0",
      "model_name": "LayoutModel",
      "state": {}
     },
     "8f2bd870c2364c01ae67ca3beaf0060a": {
      "model_module": "@jupyter-widgets/base",
      "model_module_version": "1.2.0",
      "model_name": "LayoutModel",
      "state": {}
     },
     "8f530691ec554a23be6bb6cdef21f482": {
      "model_module": "@jupyter-widgets/base",
      "model_module_version": "1.2.0",
      "model_name": "LayoutModel",
      "state": {}
     },
     "8fcb2aee1c974793b43521abcd9dc410": {
      "model_module": "@jupyter-widgets/controls",
      "model_module_version": "1.5.0",
      "model_name": "HTMLModel",
      "state": {
       "layout": "IPY_MODEL_d7435a0596174e469d6f9fe8f7371d08",
       "style": "IPY_MODEL_34db2858c47c4f149df52d99ddf9d499",
       "value": "Writing sentences to sent_chunk_0035.txt: 100%"
      }
     },
     "8fef9489204e4a1fa7713ab2415ddefd": {
      "model_module": "@jupyter-widgets/controls",
      "model_module_version": "1.5.0",
      "model_name": "ProgressStyleModel",
      "state": {
       "description_width": ""
      }
     },
     "906a127af7994d07b9f9557a4d0cbf76": {
      "model_module": "@jupyter-widgets/controls",
      "model_module_version": "1.5.0",
      "model_name": "DescriptionStyleModel",
      "state": {
       "description_width": ""
      }
     },
     "9098a1bd45084d1e98ff1adda6648800": {
      "model_module": "@jupyter-widgets/controls",
      "model_module_version": "1.5.0",
      "model_name": "FloatProgressModel",
      "state": {
       "bar_style": "success",
       "layout": "IPY_MODEL_a050b9cf0efa40bd9c45e754715bdc9f",
       "max": 61,
       "style": "IPY_MODEL_316b9348e79e4158a2ff4ce429e88a5f",
       "value": 61
      }
     },
     "90f5af3c64314d348c8804450cf8daef": {
      "model_module": "@jupyter-widgets/base",
      "model_module_version": "1.2.0",
      "model_name": "LayoutModel",
      "state": {}
     },
     "90fde96cc40a4e0d8ae0b7f171af793f": {
      "model_module": "@jupyter-widgets/controls",
      "model_module_version": "1.5.0",
      "model_name": "HBoxModel",
      "state": {
       "children": [
        "IPY_MODEL_7e56db624d8e4c3ca9e2c3f5f07b8405",
        "IPY_MODEL_db56cd5eeec74911978982d5bb7a2334",
        "IPY_MODEL_f047eeb7f73f4b7cb859a5504c83ab90"
       ],
       "layout": "IPY_MODEL_18d7f82b0e5b4d66bbf3d19b0c8fd224"
      }
     },
     "915a16e0690f4bbead2c0b87d45f7f95": {
      "model_module": "@jupyter-widgets/base",
      "model_module_version": "1.2.0",
      "model_name": "LayoutModel",
      "state": {}
     },
     "918b9c3c346745fca0d64aa984b93e10": {
      "model_module": "@jupyter-widgets/controls",
      "model_module_version": "1.5.0",
      "model_name": "DescriptionStyleModel",
      "state": {
       "description_width": ""
      }
     },
     "91b3f2e4def1463280e61c5affd650bb": {
      "model_module": "@jupyter-widgets/controls",
      "model_module_version": "1.5.0",
      "model_name": "ProgressStyleModel",
      "state": {
       "description_width": ""
      }
     },
     "91fb982c2f934e62b8c31b84144f41bb": {
      "model_module": "@jupyter-widgets/controls",
      "model_module_version": "1.5.0",
      "model_name": "DescriptionStyleModel",
      "state": {
       "description_width": ""
      }
     },
     "92bf080f7003488793733dfd15db6134": {
      "model_module": "@jupyter-widgets/base",
      "model_module_version": "1.2.0",
      "model_name": "LayoutModel",
      "state": {}
     },
     "92bf8d0d59f4476aa8fc19db65235536": {
      "model_module": "@jupyter-widgets/controls",
      "model_module_version": "1.5.0",
      "model_name": "HTMLModel",
      "state": {
       "layout": "IPY_MODEL_266ff8e55ef645cfa1ccef2278700b4f",
       "style": "IPY_MODEL_41b45bf3e99b4d539eff75e15d51da9b",
       "value": " 10000/10000 [00:01&lt;00:00, 7558.68it/s]"
      }
     },
     "9367477c876b4fd38834f71edf6bdd3f": {
      "model_module": "@jupyter-widgets/controls",
      "model_module_version": "1.5.0",
      "model_name": "HTMLModel",
      "state": {
       "layout": "IPY_MODEL_ad1f13e0804c49d1b5a75544a49cebf5",
       "style": "IPY_MODEL_0eff81575c074eeab7b32f783c1c93f9",
       "value": " 10000/10000 [00:01&lt;00:00, 7344.00it/s]"
      }
     },
     "9388a7e954d64a0f9be367018352ab50": {
      "model_module": "@jupyter-widgets/controls",
      "model_module_version": "1.5.0",
      "model_name": "DescriptionStyleModel",
      "state": {
       "description_width": ""
      }
     },
     "9446f4dd1df14666878d106b4a8efb5d": {
      "model_module": "@jupyter-widgets/controls",
      "model_module_version": "1.5.0",
      "model_name": "DescriptionStyleModel",
      "state": {
       "description_width": ""
      }
     },
     "946f4debd10942608936fae6612fa0a7": {
      "model_module": "@jupyter-widgets/base",
      "model_module_version": "1.2.0",
      "model_name": "LayoutModel",
      "state": {}
     },
     "9485ba021c894df894acb1daad7995ac": {
      "model_module": "@jupyter-widgets/controls",
      "model_module_version": "1.5.0",
      "model_name": "DescriptionStyleModel",
      "state": {
       "description_width": ""
      }
     },
     "94b47fb4cc5348febdf794f7b841ffa0": {
      "model_module": "@jupyter-widgets/base",
      "model_module_version": "1.2.0",
      "model_name": "LayoutModel",
      "state": {}
     },
     "94d80a6645e947b0b97723f795be3d38": {
      "model_module": "@jupyter-widgets/base",
      "model_module_version": "1.2.0",
      "model_name": "LayoutModel",
      "state": {}
     },
     "94f6cac380d34f1a84c06ad8d042c3ba": {
      "model_module": "@jupyter-widgets/base",
      "model_module_version": "1.2.0",
      "model_name": "LayoutModel",
      "state": {}
     },
     "9523897232524d48b0fd5dcd9f67facd": {
      "model_module": "@jupyter-widgets/controls",
      "model_module_version": "1.5.0",
      "model_name": "FloatProgressModel",
      "state": {
       "bar_style": "success",
       "layout": "IPY_MODEL_019ea359c3ab4df59c93af2781b414b4",
       "max": 10000,
       "style": "IPY_MODEL_b6b671fe328a4acba481993948634bb0",
       "value": 10000
      }
     },
     "95aca8a757f64aed8fdc4a7f20991642": {
      "model_module": "@jupyter-widgets/base",
      "model_module_version": "1.2.0",
      "model_name": "LayoutModel",
      "state": {}
     },
     "95c1e0772c9d4213aa5dc822f9da2ca9": {
      "model_module": "@jupyter-widgets/controls",
      "model_module_version": "1.5.0",
      "model_name": "ProgressStyleModel",
      "state": {
       "description_width": ""
      }
     },
     "95dca009fbd847c08ff6bababfa86576": {
      "model_module": "@jupyter-widgets/controls",
      "model_module_version": "1.5.0",
      "model_name": "ProgressStyleModel",
      "state": {
       "description_width": ""
      }
     },
     "95eb27d2534c40edb1384291928fbf0b": {
      "model_module": "@jupyter-widgets/base",
      "model_module_version": "1.2.0",
      "model_name": "LayoutModel",
      "state": {}
     },
     "967c84a9964f4500b4dd0e80b60d1ac3": {
      "model_module": "@jupyter-widgets/controls",
      "model_module_version": "1.5.0",
      "model_name": "FloatProgressModel",
      "state": {
       "bar_style": "success",
       "layout": "IPY_MODEL_4cbf3f79a1764e92b916b3c6c5e606a0",
       "max": 10000,
       "style": "IPY_MODEL_de42947adb9c4ffa8b3d49f9aff2fdef",
       "value": 10000
      }
     },
     "96d6d8b75ea34d659a25e88c9c1af7b8": {
      "model_module": "@jupyter-widgets/controls",
      "model_module_version": "1.5.0",
      "model_name": "HTMLModel",
      "state": {
       "layout": "IPY_MODEL_74e223d0ecf64e3f934cdbf9dfa19ef7",
       "style": "IPY_MODEL_d203da253a674c30a6e59e4202cd68ec",
       "value": "Writing sentences to sent_chunk_0056.txt: 100%"
      }
     },
     "96f05d91117e49b4b0e154c817a5dc01": {
      "model_module": "@jupyter-widgets/controls",
      "model_module_version": "1.5.0",
      "model_name": "DescriptionStyleModel",
      "state": {
       "description_width": ""
      }
     },
     "97118e794d8d469e8b9e8595238b5861": {
      "model_module": "@jupyter-widgets/base",
      "model_module_version": "1.2.0",
      "model_name": "LayoutModel",
      "state": {}
     },
     "971222c8a06848379578334e88baf1ea": {
      "model_module": "@jupyter-widgets/controls",
      "model_module_version": "1.5.0",
      "model_name": "HBoxModel",
      "state": {
       "children": [
        "IPY_MODEL_b4cc520093c8412eab242cc7ffc5ce43",
        "IPY_MODEL_e22d0dea970e4c25ba23334701ea8163",
        "IPY_MODEL_6ec84677739d4f0bb3bcc8731cd8346c"
       ],
       "layout": "IPY_MODEL_f17d03bdd2ae44e29281a1a9a35fddd7"
      }
     },
     "97158ba0eac849d98c73d6bc46927da2": {
      "model_module": "@jupyter-widgets/controls",
      "model_module_version": "1.5.0",
      "model_name": "DescriptionStyleModel",
      "state": {
       "description_width": ""
      }
     },
     "97431a3fe3d04285bcb94fea234ba0a9": {
      "model_module": "@jupyter-widgets/base",
      "model_module_version": "1.2.0",
      "model_name": "LayoutModel",
      "state": {}
     },
     "97701efda58e41f7938919b54bc6c0ce": {
      "model_module": "@jupyter-widgets/controls",
      "model_module_version": "1.5.0",
      "model_name": "DescriptionStyleModel",
      "state": {
       "description_width": ""
      }
     },
     "978673fba96b4bbea7eeeeb9da128dab": {
      "model_module": "@jupyter-widgets/controls",
      "model_module_version": "1.5.0",
      "model_name": "FloatProgressModel",
      "state": {
       "bar_style": "success",
       "layout": "IPY_MODEL_fe308cd9b0a84d61b759888f139e4736",
       "max": 10000,
       "style": "IPY_MODEL_ba5141ac64d0403a810e11b6e0f4ea1a",
       "value": 10000
      }
     },
     "97d250d3813045eeada46421377fdcf2": {
      "model_module": "@jupyter-widgets/controls",
      "model_module_version": "1.5.0",
      "model_name": "DescriptionStyleModel",
      "state": {
       "description_width": ""
      }
     },
     "97eb9cac582f4801ad03a93d908f06f2": {
      "model_module": "@jupyter-widgets/controls",
      "model_module_version": "1.5.0",
      "model_name": "HBoxModel",
      "state": {
       "children": [
        "IPY_MODEL_45ed09ad53254e9d80052216e35ccab6",
        "IPY_MODEL_8aed5cff06cd4096870810ae60532e16",
        "IPY_MODEL_92bf8d0d59f4476aa8fc19db65235536"
       ],
       "layout": "IPY_MODEL_a0f2c87e2f02478ca53c9a4439b00518"
      }
     },
     "9822c00ae9c3482e8220c30513a12e27": {
      "model_module": "@jupyter-widgets/controls",
      "model_module_version": "1.5.0",
      "model_name": "HTMLModel",
      "state": {
       "layout": "IPY_MODEL_4fcc94e93e6e4f568fd8e3b8d1c1c0ab",
       "style": "IPY_MODEL_831aae7c929d4ddeb63a930a1eeaded6",
       "value": " 10000/10000 [00:01&lt;00:00, 7600.11it/s]"
      }
     },
     "983f9ffa59bb4c238dbf3537872ec762": {
      "model_module": "@jupyter-widgets/base",
      "model_module_version": "1.2.0",
      "model_name": "LayoutModel",
      "state": {}
     },
     "992001d9383f4c27942b45afd49e354c": {
      "model_module": "@jupyter-widgets/base",
      "model_module_version": "1.2.0",
      "model_name": "LayoutModel",
      "state": {}
     },
     "9937d401d56244d58ed303c6ba938c6c": {
      "model_module": "@jupyter-widgets/controls",
      "model_module_version": "1.5.0",
      "model_name": "ProgressStyleModel",
      "state": {
       "description_width": ""
      }
     },
     "99639130b3874420a9dd36bd22388872": {
      "model_module": "@jupyter-widgets/controls",
      "model_module_version": "1.5.0",
      "model_name": "DescriptionStyleModel",
      "state": {
       "description_width": ""
      }
     },
     "9973fbaea85a44bb90f028c561e197f6": {
      "model_module": "@jupyter-widgets/controls",
      "model_module_version": "1.5.0",
      "model_name": "DescriptionStyleModel",
      "state": {
       "description_width": ""
      }
     },
     "99909deae81c4c2496dbcc2525af715c": {
      "model_module": "@jupyter-widgets/controls",
      "model_module_version": "1.5.0",
      "model_name": "FloatProgressModel",
      "state": {
       "bar_style": "success",
       "layout": "IPY_MODEL_ded03933c12644baab225760fbac33be",
       "max": 10000,
       "style": "IPY_MODEL_d82b42c80b8f402e8ebb82f70e9a89f2",
       "value": 10000
      }
     },
     "9a3e65bbb62c498d99e699cc8f899ec9": {
      "model_module": "@jupyter-widgets/controls",
      "model_module_version": "1.5.0",
      "model_name": "FloatProgressModel",
      "state": {
       "bar_style": "success",
       "layout": "IPY_MODEL_bbdd53d00d584829b8c028bd64f04559",
       "max": 10000,
       "style": "IPY_MODEL_8c71b4d84e1a4692865d4a9c88df4738",
       "value": 10000
      }
     },
     "9a4649766e0544f0a70e65d3688f9e97": {
      "model_module": "@jupyter-widgets/controls",
      "model_module_version": "1.5.0",
      "model_name": "ProgressStyleModel",
      "state": {
       "description_width": ""
      }
     },
     "9a4a85345db34cfdb01231d71da9e329": {
      "model_module": "@jupyter-widgets/controls",
      "model_module_version": "1.5.0",
      "model_name": "FloatProgressModel",
      "state": {
       "bar_style": "success",
       "layout": "IPY_MODEL_a9df89a332314f129b4519c0289c0251",
       "max": 10000,
       "style": "IPY_MODEL_5365a1c9f6d143d7b5ea16039b8b056e",
       "value": 10000
      }
     },
     "9a8db3d5c8b341c1877f48c1f78daaae": {
      "model_module": "@jupyter-widgets/controls",
      "model_module_version": "1.5.0",
      "model_name": "DescriptionStyleModel",
      "state": {
       "description_width": ""
      }
     },
     "9ad207e7472c4ae9b5aedf07b27de949": {
      "model_module": "@jupyter-widgets/controls",
      "model_module_version": "1.5.0",
      "model_name": "HTMLModel",
      "state": {
       "layout": "IPY_MODEL_849fdd03c05b443787f616e01c93e1e4",
       "style": "IPY_MODEL_20f83d1716194c758eb043b85169e0c1",
       "value": "Writing sentences to sent_chunk_0054.txt: 100%"
      }
     },
     "9b0c3f5f89574df0bbde4d623b542cf8": {
      "model_module": "@jupyter-widgets/controls",
      "model_module_version": "1.5.0",
      "model_name": "DescriptionStyleModel",
      "state": {
       "description_width": ""
      }
     },
     "9ba62c5cbb934d508f57dbbb9d27081c": {
      "model_module": "@jupyter-widgets/base",
      "model_module_version": "1.2.0",
      "model_name": "LayoutModel",
      "state": {}
     },
     "9bb157d28e3d4a089843bb9dea6cb71b": {
      "model_module": "@jupyter-widgets/controls",
      "model_module_version": "1.5.0",
      "model_name": "DescriptionStyleModel",
      "state": {
       "description_width": ""
      }
     },
     "9bd7e6559257483db0ceea1d8fa690e9": {
      "model_module": "@jupyter-widgets/controls",
      "model_module_version": "1.5.0",
      "model_name": "DescriptionStyleModel",
      "state": {
       "description_width": ""
      }
     },
     "9c16d69955b943d2b741de92dc82b4ee": {
      "model_module": "@jupyter-widgets/controls",
      "model_module_version": "1.5.0",
      "model_name": "DescriptionStyleModel",
      "state": {
       "description_width": ""
      }
     },
     "9c30b669b1414faabf95d0fa3d46ca21": {
      "model_module": "@jupyter-widgets/base",
      "model_module_version": "1.2.0",
      "model_name": "LayoutModel",
      "state": {}
     },
     "9d03d82aa93b490e9e7636d43b42c3d9": {
      "model_module": "@jupyter-widgets/base",
      "model_module_version": "1.2.0",
      "model_name": "LayoutModel",
      "state": {}
     },
     "9d0cf277ca634777a1ee0d0b96a48c15": {
      "model_module": "@jupyter-widgets/controls",
      "model_module_version": "1.5.0",
      "model_name": "HTMLModel",
      "state": {
       "layout": "IPY_MODEL_d929bac603d84db48b7ab0ed0ec6b72d",
       "style": "IPY_MODEL_5ccd70fc6c3348a19be5bafeb774850a",
       "value": " 10000/10000 [00:01&lt;00:00, 7669.34it/s]"
      }
     },
     "9d2480bdcdac477b8e67ff68eaf8efa5": {
      "model_module": "@jupyter-widgets/controls",
      "model_module_version": "1.5.0",
      "model_name": "DescriptionStyleModel",
      "state": {
       "description_width": ""
      }
     },
     "9d90d4d14e0c4a989111a4affe662892": {
      "model_module": "@jupyter-widgets/controls",
      "model_module_version": "1.5.0",
      "model_name": "HTMLModel",
      "state": {
       "layout": "IPY_MODEL_aff7ac6ce1344f938343b51c8434d53c",
       "style": "IPY_MODEL_9bd7e6559257483db0ceea1d8fa690e9",
       "value": " 10000/10000 [00:01&lt;00:00, 7497.21it/s]"
      }
     },
     "9da738d22d714469b173a1bf3b795d68": {
      "model_module": "@jupyter-widgets/base",
      "model_module_version": "1.2.0",
      "model_name": "LayoutModel",
      "state": {}
     },
     "9df7f81407844dc59364220039de57a4": {
      "model_module": "@jupyter-widgets/controls",
      "model_module_version": "1.5.0",
      "model_name": "DescriptionStyleModel",
      "state": {
       "description_width": ""
      }
     },
     "9e66869053e1493da22bb1f7c77bec75": {
      "model_module": "@jupyter-widgets/base",
      "model_module_version": "1.2.0",
      "model_name": "LayoutModel",
      "state": {}
     },
     "9ea97e1bb4f44570a6a00a3b68397b7c": {
      "model_module": "@jupyter-widgets/controls",
      "model_module_version": "1.5.0",
      "model_name": "DescriptionStyleModel",
      "state": {
       "description_width": ""
      }
     },
     "9f2d3bc337514d459faeacc8aa03647a": {
      "model_module": "@jupyter-widgets/controls",
      "model_module_version": "1.5.0",
      "model_name": "HTMLModel",
      "state": {
       "layout": "IPY_MODEL_1b6fa60d245547579d0870fc1fdca680",
       "style": "IPY_MODEL_365ccd6cc44942aeba0ba245511a4919",
       "value": " 10000/10000 [00:01&lt;00:00, 7712.89it/s]"
      }
     },
     "9f3aadcdd46f4f70ad490b94f7274128": {
      "model_module": "@jupyter-widgets/controls",
      "model_module_version": "1.5.0",
      "model_name": "HBoxModel",
      "state": {
       "children": [
        "IPY_MODEL_2da71e6b75d04e368ac30c33a6da7222",
        "IPY_MODEL_fcc5fc632c3c4916902771dde2ec488a",
        "IPY_MODEL_66fe27c7b9324edfa8b11bd744a8c193"
       ],
       "layout": "IPY_MODEL_32a4f1b2aa944b30a4e4be95f722d7ac"
      }
     },
     "9f4c6acdfc1a4475b3d8079b666fd782": {
      "model_module": "@jupyter-widgets/controls",
      "model_module_version": "1.5.0",
      "model_name": "ProgressStyleModel",
      "state": {
       "description_width": ""
      }
     },
     "9f5dc95057374d87acb8e67661118ca7": {
      "model_module": "@jupyter-widgets/controls",
      "model_module_version": "1.5.0",
      "model_name": "ProgressStyleModel",
      "state": {
       "description_width": ""
      }
     },
     "9f835278352a4f5db2bc963942fb2450": {
      "model_module": "@jupyter-widgets/controls",
      "model_module_version": "1.5.0",
      "model_name": "HBoxModel",
      "state": {
       "children": [
        "IPY_MODEL_8c466b97072d49c7880f8a0b5ca61606",
        "IPY_MODEL_da5f2ebd8925436bb4020f7654964112",
        "IPY_MODEL_e122313382b74d778a41fea42976e4a7"
       ],
       "layout": "IPY_MODEL_43f79eb7105c4668bbdeeed742b464bf"
      }
     },
     "a01ac3d4012347a78ec2e9bfd20d3530": {
      "model_module": "@jupyter-widgets/controls",
      "model_module_version": "1.5.0",
      "model_name": "HBoxModel",
      "state": {
       "children": [
        "IPY_MODEL_47890460b9c24d1ebe4611ee7d0ee556",
        "IPY_MODEL_e5e70bb29aa8498681a4626e896fe7f6",
        "IPY_MODEL_0a9d1259711e4e3bb607a4a556fb3238"
       ],
       "layout": "IPY_MODEL_3ef70cb6146e419482493e1656dfcf7e"
      }
     },
     "a050b9cf0efa40bd9c45e754715bdc9f": {
      "model_module": "@jupyter-widgets/base",
      "model_module_version": "1.2.0",
      "model_name": "LayoutModel",
      "state": {}
     },
     "a06fc1a2e52a4dab83d19093d5cfee21": {
      "model_module": "@jupyter-widgets/controls",
      "model_module_version": "1.5.0",
      "model_name": "HBoxModel",
      "state": {
       "children": [
        "IPY_MODEL_0f6c74a70ebe4b379d21047fc611dde3",
        "IPY_MODEL_0b874701ce3846bcba6655d16c60e9b2",
        "IPY_MODEL_21e090e2a0db4e2fb395b7f1ab864abd"
       ],
       "layout": "IPY_MODEL_40b5a8bcdd1d45aabaf6dbc21e38eb59"
      }
     },
     "a0f2c87e2f02478ca53c9a4439b00518": {
      "model_module": "@jupyter-widgets/base",
      "model_module_version": "1.2.0",
      "model_name": "LayoutModel",
      "state": {}
     },
     "a0fa8f6998cc49659da9978f7dff4716": {
      "model_module": "@jupyter-widgets/base",
      "model_module_version": "1.2.0",
      "model_name": "LayoutModel",
      "state": {}
     },
     "a1b580aff50c4b9bb2038da5daad692b": {
      "model_module": "@jupyter-widgets/controls",
      "model_module_version": "1.5.0",
      "model_name": "FloatProgressModel",
      "state": {
       "bar_style": "success",
       "layout": "IPY_MODEL_f6b0ce77355543d8ac46de0db5cef8d1",
       "max": 10000,
       "style": "IPY_MODEL_cfc73913c82a403fbc253765b34005c9",
       "value": 10000
      }
     },
     "a1da545540f548b1b2abcf0187d3a558": {
      "model_module": "@jupyter-widgets/controls",
      "model_module_version": "1.5.0",
      "model_name": "HTMLModel",
      "state": {
       "layout": "IPY_MODEL_0d7509e02b2e495f9e5cfb6dd61c9a9d",
       "style": "IPY_MODEL_fe9980655ce94d609cb5b1e5660d04f6",
       "value": " 10000/10000 [00:01&lt;00:00, 7350.58it/s]"
      }
     },
     "a25b9c45d02c4d7197a1def76a7e8d83": {
      "model_module": "@jupyter-widgets/controls",
      "model_module_version": "1.5.0",
      "model_name": "HTMLModel",
      "state": {
       "layout": "IPY_MODEL_01cd06097f44440d90039fb7def5b73f",
       "style": "IPY_MODEL_6026cb4b6e0b4bc4b93aa75fbac279ab",
       "value": "Writing sentences to sent_chunk_0024.txt: 100%"
      }
     },
     "a416c7802d664930be2e1bd2a2549034": {
      "model_module": "@jupyter-widgets/base",
      "model_module_version": "1.2.0",
      "model_name": "LayoutModel",
      "state": {}
     },
     "a472769feb8e40fdb3c7fd5957dbdb9d": {
      "model_module": "@jupyter-widgets/controls",
      "model_module_version": "1.5.0",
      "model_name": "HBoxModel",
      "state": {
       "children": [
        "IPY_MODEL_d69fd0e067d14db79e26fc5ca90809ec",
        "IPY_MODEL_bdf4abee0b0b4d4191dc0a3399efac12",
        "IPY_MODEL_5425164e9e68493383c92eda0abc20f4"
       ],
       "layout": "IPY_MODEL_3c3279860c6f4ebb8877a50461eb0255"
      }
     },
     "a4ce5581145347b5b74f15306dac8655": {
      "model_module": "@jupyter-widgets/controls",
      "model_module_version": "1.5.0",
      "model_name": "FloatProgressModel",
      "state": {
       "bar_style": "success",
       "layout": "IPY_MODEL_6dab55d17fc047d5962268296eacd271",
       "max": 10000,
       "style": "IPY_MODEL_521fdebf7e0f46e2b4bcde9c43d8bfcb",
       "value": 10000
      }
     },
     "a4e544e703234403bc7c31053103a64a": {
      "model_module": "@jupyter-widgets/controls",
      "model_module_version": "1.5.0",
      "model_name": "HTMLModel",
      "state": {
       "layout": "IPY_MODEL_53c21f73333345a391907e3db6ed98ae",
       "style": "IPY_MODEL_8861ce63c50344f588640d023ab2706c",
       "value": "Writing sentences to sent_chunk_0040.txt: 100%"
      }
     },
     "a5f5dd934e664078b743581af741afd9": {
      "model_module": "@jupyter-widgets/controls",
      "model_module_version": "1.5.0",
      "model_name": "HTMLModel",
      "state": {
       "layout": "IPY_MODEL_4a226add3aff49cf81dd8b66c874c314",
       "style": "IPY_MODEL_0a027f38070d4483ae321c087550007c",
       "value": " 10000/10000 [00:01&lt;00:00, 7169.80it/s]"
      }
     },
     "a7ca7c0aef50476da8a6dd47b636f695": {
      "model_module": "@jupyter-widgets/controls",
      "model_module_version": "1.5.0",
      "model_name": "HTMLModel",
      "state": {
       "layout": "IPY_MODEL_f7d33e1d6ad5458ab3cc5bfbdcf3b86c",
       "style": "IPY_MODEL_1e0a4f2ea6354c05af452fd9afa5dc36",
       "value": " 61/61 [01:29&lt;00:00,  1.22s/it]"
      }
     },
     "a7ec3b94f8a544a4a929ce83127d5967": {
      "model_module": "@jupyter-widgets/controls",
      "model_module_version": "1.5.0",
      "model_name": "HTMLModel",
      "state": {
       "layout": "IPY_MODEL_7548ac5ab7214f1091f892725ca79f80",
       "style": "IPY_MODEL_1184c14940ba46b8b7da7693b1d55e2c",
       "value": "100%"
      }
     },
     "a860cb820ead494c8f3b1a23e19546bf": {
      "model_module": "@jupyter-widgets/base",
      "model_module_version": "1.2.0",
      "model_name": "LayoutModel",
      "state": {}
     },
     "a863fc8ac22c40a3b4701cd50a974470": {
      "model_module": "@jupyter-widgets/controls",
      "model_module_version": "1.5.0",
      "model_name": "ProgressStyleModel",
      "state": {
       "description_width": ""
      }
     },
     "a87660e52acf45e7b66a9c6ec6c25a68": {
      "model_module": "@jupyter-widgets/controls",
      "model_module_version": "1.5.0",
      "model_name": "DescriptionStyleModel",
      "state": {
       "description_width": ""
      }
     },
     "a95db3db9b34427d9b241aac52bb71aa": {
      "model_module": "@jupyter-widgets/controls",
      "model_module_version": "1.5.0",
      "model_name": "DescriptionStyleModel",
      "state": {
       "description_width": ""
      }
     },
     "a9df89a332314f129b4519c0289c0251": {
      "model_module": "@jupyter-widgets/base",
      "model_module_version": "1.2.0",
      "model_name": "LayoutModel",
      "state": {}
     },
     "aaa965bff6c24154b9472b2648a06285": {
      "model_module": "@jupyter-widgets/controls",
      "model_module_version": "1.5.0",
      "model_name": "DescriptionStyleModel",
      "state": {
       "description_width": ""
      }
     },
     "aadad63bd2904115bb54ec2169e409ca": {
      "model_module": "@jupyter-widgets/base",
      "model_module_version": "1.2.0",
      "model_name": "LayoutModel",
      "state": {}
     },
     "ab604b9e249a4ad2b471da11fbfa6ede": {
      "model_module": "@jupyter-widgets/base",
      "model_module_version": "1.2.0",
      "model_name": "LayoutModel",
      "state": {}
     },
     "ab6a494b521840cf829bec688453a295": {
      "model_module": "@jupyter-widgets/base",
      "model_module_version": "1.2.0",
      "model_name": "LayoutModel",
      "state": {}
     },
     "abdfc3cb3bfe4a9d97a84ab795b81b1b": {
      "model_module": "@jupyter-widgets/base",
      "model_module_version": "1.2.0",
      "model_name": "LayoutModel",
      "state": {}
     },
     "acc66cf64d5346f08ce38ab0c0f0e644": {
      "model_module": "@jupyter-widgets/controls",
      "model_module_version": "1.5.0",
      "model_name": "DescriptionStyleModel",
      "state": {
       "description_width": ""
      }
     },
     "acd8673e51af441eadd6e3ecda6f595e": {
      "model_module": "@jupyter-widgets/controls",
      "model_module_version": "1.5.0",
      "model_name": "ProgressStyleModel",
      "state": {
       "description_width": ""
      }
     },
     "ad0d55e283114dedbbbf56ad7d871bd1": {
      "model_module": "@jupyter-widgets/base",
      "model_module_version": "1.2.0",
      "model_name": "LayoutModel",
      "state": {}
     },
     "ad1f13e0804c49d1b5a75544a49cebf5": {
      "model_module": "@jupyter-widgets/base",
      "model_module_version": "1.2.0",
      "model_name": "LayoutModel",
      "state": {}
     },
     "ad74e1f050f2473283b7602fbe4954c2": {
      "model_module": "@jupyter-widgets/controls",
      "model_module_version": "1.5.0",
      "model_name": "DescriptionStyleModel",
      "state": {
       "description_width": ""
      }
     },
     "adadf0b233a84cfa958e8181dde02291": {
      "model_module": "@jupyter-widgets/controls",
      "model_module_version": "1.5.0",
      "model_name": "HTMLModel",
      "state": {
       "layout": "IPY_MODEL_abdfc3cb3bfe4a9d97a84ab795b81b1b",
       "style": "IPY_MODEL_d755b58a1b004cd59c41377d6018b8c9",
       "value": "Writing sentences to sent_chunk_0033.txt: 100%"
      }
     },
     "adb309fa44814371a19c7e83045c56b6": {
      "model_module": "@jupyter-widgets/base",
      "model_module_version": "1.2.0",
      "model_name": "LayoutModel",
      "state": {}
     },
     "af72ff591a824496b7fd3a4bc2a985b9": {
      "model_module": "@jupyter-widgets/base",
      "model_module_version": "1.2.0",
      "model_name": "LayoutModel",
      "state": {}
     },
     "af8dd10b519941baa62737270715cff8": {
      "model_module": "@jupyter-widgets/base",
      "model_module_version": "1.2.0",
      "model_name": "LayoutModel",
      "state": {}
     },
     "afed4bceeaa24889a4cb62d576258413": {
      "model_module": "@jupyter-widgets/base",
      "model_module_version": "1.2.0",
      "model_name": "LayoutModel",
      "state": {}
     },
     "aff7ac6ce1344f938343b51c8434d53c": {
      "model_module": "@jupyter-widgets/base",
      "model_module_version": "1.2.0",
      "model_name": "LayoutModel",
      "state": {}
     },
     "b16270c3874443fa9820cc86672e2529": {
      "model_module": "@jupyter-widgets/controls",
      "model_module_version": "1.5.0",
      "model_name": "HBoxModel",
      "state": {
       "children": [
        "IPY_MODEL_1d504c69051a4b5dbebd56eec25654df",
        "IPY_MODEL_73e2add3920e4095ab7d5b9c68cb3449",
        "IPY_MODEL_57818ac770e54f5b8ab5a854fec8c35d"
       ],
       "layout": "IPY_MODEL_8c79468901644c7abeda2199ddef1bfd"
      }
     },
     "b1bd6b9c42984e1eb3d366c3213b40a5": {
      "model_module": "@jupyter-widgets/controls",
      "model_module_version": "1.5.0",
      "model_name": "DescriptionStyleModel",
      "state": {
       "description_width": ""
      }
     },
     "b1d2d98285144206a8bfd30c9df8ad7e": {
      "model_module": "@jupyter-widgets/controls",
      "model_module_version": "1.5.0",
      "model_name": "FloatProgressModel",
      "state": {
       "bar_style": "success",
       "layout": "IPY_MODEL_7e582b5592c144cd9c82f23f68cf984a",
       "max": 10000,
       "style": "IPY_MODEL_6feccb7ea35e4da79bf15cd9b6cd14fc",
       "value": 10000
      }
     },
     "b1e02c91c5ee4b28b96042f2e2064143": {
      "model_module": "@jupyter-widgets/base",
      "model_module_version": "1.2.0",
      "model_name": "LayoutModel",
      "state": {}
     },
     "b2778e47b04948ed9e5bfff640d8c6f1": {
      "model_module": "@jupyter-widgets/controls",
      "model_module_version": "1.5.0",
      "model_name": "DescriptionStyleModel",
      "state": {
       "description_width": ""
      }
     },
     "b2bd02fe7c6840c5bae1340bbb6072ec": {
      "model_module": "@jupyter-widgets/controls",
      "model_module_version": "1.5.0",
      "model_name": "FloatProgressModel",
      "state": {
       "bar_style": "success",
       "layout": "IPY_MODEL_051682ef6280432f8d12db44b271a350",
       "max": 10000,
       "style": "IPY_MODEL_2f49cbe4fe5c4a7ca78f2b0be9b81f9e",
       "value": 10000
      }
     },
     "b30b91edaf8646bda39d838fff24069e": {
      "model_module": "@jupyter-widgets/base",
      "model_module_version": "1.2.0",
      "model_name": "LayoutModel",
      "state": {}
     },
     "b41c8253f5d844b196ad8327ff372f87": {
      "model_module": "@jupyter-widgets/controls",
      "model_module_version": "1.5.0",
      "model_name": "DescriptionStyleModel",
      "state": {
       "description_width": ""
      }
     },
     "b4c9e8d1769741de8e2aae48add2f715": {
      "model_module": "@jupyter-widgets/controls",
      "model_module_version": "1.5.0",
      "model_name": "HTMLModel",
      "state": {
       "layout": "IPY_MODEL_f3d37fd7032c40e7893de5903b33c284",
       "style": "IPY_MODEL_2025c9ab243b4f25bd3c8d919fcb1d73",
       "value": " 10000/10000 [00:01&lt;00:00, 7279.51it/s]"
      }
     },
     "b4cc520093c8412eab242cc7ffc5ce43": {
      "model_module": "@jupyter-widgets/controls",
      "model_module_version": "1.5.0",
      "model_name": "HTMLModel",
      "state": {
       "layout": "IPY_MODEL_74ad1aa65bbb47f98ed4314176a0bb20",
       "style": "IPY_MODEL_6145edfca71d40a6acc3e135eaefdc58",
       "value": "Writing sentences to sent_chunk_0007.txt: 100%"
      }
     },
     "b4e9f5dfa5884a41b8ee15f5588e3086": {
      "model_module": "@jupyter-widgets/controls",
      "model_module_version": "1.5.0",
      "model_name": "HTMLModel",
      "state": {
       "layout": "IPY_MODEL_041937a00afa4103b68d74cd15b62f7b",
       "style": "IPY_MODEL_c9a102fccd0a4151b6d03e4ce8977c13",
       "value": " 10000/10000 [00:01&lt;00:00, 7389.07it/s]"
      }
     },
     "b5c30207c77d47039f18093549e7b0c5": {
      "model_module": "@jupyter-widgets/controls",
      "model_module_version": "1.5.0",
      "model_name": "DescriptionStyleModel",
      "state": {
       "description_width": ""
      }
     },
     "b5c794fc19904edf87b96372d79a2522": {
      "model_module": "@jupyter-widgets/controls",
      "model_module_version": "1.5.0",
      "model_name": "HBoxModel",
      "state": {
       "children": [
        "IPY_MODEL_87dd5c3e8ee147e3bd06b9c71a1d31ef",
        "IPY_MODEL_cc027e39889945ef89a6e55c279b6d52",
        "IPY_MODEL_78a840c0b734409196cdf029d320b145"
       ],
       "layout": "IPY_MODEL_ca5c90f4ee334518ae228a9578d70469"
      }
     },
     "b652f4a0abb8499bb558471c2bf9c3e8": {
      "model_module": "@jupyter-widgets/controls",
      "model_module_version": "1.5.0",
      "model_name": "HTMLModel",
      "state": {
       "layout": "IPY_MODEL_4c0df699cfac4d088d7e8e4f2b78d91c",
       "style": "IPY_MODEL_99639130b3874420a9dd36bd22388872",
       "value": " 10000/10000 [00:01&lt;00:00, 7539.09it/s]"
      }
     },
     "b68422aa92f14f99b26c565adc6bad1a": {
      "model_module": "@jupyter-widgets/controls",
      "model_module_version": "1.5.0",
      "model_name": "FloatProgressModel",
      "state": {
       "bar_style": "success",
       "layout": "IPY_MODEL_087eb44b9b4244ea9ab8cfc6a8fd2289",
       "max": 10000,
       "style": "IPY_MODEL_b7c3abb372a44e718836ce3a603aa284",
       "value": 10000
      }
     },
     "b6b671fe328a4acba481993948634bb0": {
      "model_module": "@jupyter-widgets/controls",
      "model_module_version": "1.5.0",
      "model_name": "ProgressStyleModel",
      "state": {
       "description_width": ""
      }
     },
     "b6cfb35f60e94e19b62f9ab55f1616f8": {
      "model_module": "@jupyter-widgets/base",
      "model_module_version": "1.2.0",
      "model_name": "LayoutModel",
      "state": {}
     },
     "b6d7bcfe0e1741be87e30fb600641dea": {
      "model_module": "@jupyter-widgets/controls",
      "model_module_version": "1.5.0",
      "model_name": "DescriptionStyleModel",
      "state": {
       "description_width": ""
      }
     },
     "b7c3abb372a44e718836ce3a603aa284": {
      "model_module": "@jupyter-widgets/controls",
      "model_module_version": "1.5.0",
      "model_name": "ProgressStyleModel",
      "state": {
       "description_width": ""
      }
     },
     "b883a1062ff34605a02eae7f84deffaf": {
      "model_module": "@jupyter-widgets/controls",
      "model_module_version": "1.5.0",
      "model_name": "HTMLModel",
      "state": {
       "layout": "IPY_MODEL_c870bf3c450a485a9fc0f231651d5c32",
       "style": "IPY_MODEL_9d2480bdcdac477b8e67ff68eaf8efa5",
       "value": " 10000/10000 [00:01&lt;00:00, 7648.68it/s]"
      }
     },
     "b8ad9b89c4ec449f9ac3020b64e05bc8": {
      "model_module": "@jupyter-widgets/controls",
      "model_module_version": "1.5.0",
      "model_name": "HBoxModel",
      "state": {
       "children": [
        "IPY_MODEL_8223f14752c34a088d92a27dc395cc03",
        "IPY_MODEL_a4ce5581145347b5b74f15306dac8655",
        "IPY_MODEL_9d90d4d14e0c4a989111a4affe662892"
       ],
       "layout": "IPY_MODEL_4f256d1decfb4751839a5b4135f69079"
      }
     },
     "b8b90601a7664deabf593bbb81f11ce5": {
      "model_module": "@jupyter-widgets/controls",
      "model_module_version": "1.5.0",
      "model_name": "HTMLModel",
      "state": {
       "layout": "IPY_MODEL_6d836e7924b146e7b3da2cd18facdb65",
       "style": "IPY_MODEL_45f0a3d1e4f041c9bd59f3b0d03e223f",
       "value": " 2998856/2998856 [00:18&lt;00:00, 164275.24it/s]"
      }
     },
     "b99f9072cb42422c8b8074bd7c2df7bb": {
      "model_module": "@jupyter-widgets/base",
      "model_module_version": "1.2.0",
      "model_name": "LayoutModel",
      "state": {}
     },
     "b9c66b55417a403989d8c15e151edfc7": {
      "model_module": "@jupyter-widgets/controls",
      "model_module_version": "1.5.0",
      "model_name": "HTMLModel",
      "state": {
       "layout": "IPY_MODEL_b1e02c91c5ee4b28b96042f2e2064143",
       "style": "IPY_MODEL_f57d4247059845f59022337e39eaa185",
       "value": "Writing sentences to sent_chunk_0044.txt: 100%"
      }
     },
     "ba5141ac64d0403a810e11b6e0f4ea1a": {
      "model_module": "@jupyter-widgets/controls",
      "model_module_version": "1.5.0",
      "model_name": "ProgressStyleModel",
      "state": {
       "description_width": ""
      }
     },
     "babcdb1592c245e79c7ffb343cd9cfb0": {
      "model_module": "@jupyter-widgets/controls",
      "model_module_version": "1.5.0",
      "model_name": "FloatProgressModel",
      "state": {
       "bar_style": "success",
       "layout": "IPY_MODEL_17e9b112a0a14614b500c3bac003861b",
       "max": 10000,
       "style": "IPY_MODEL_ca3a6a4f7d3040b6a302021646ddc8ae",
       "value": 10000
      }
     },
     "bb9d16b13b574f2fa7ca2dfedfa5ba48": {
      "model_module": "@jupyter-widgets/controls",
      "model_module_version": "1.5.0",
      "model_name": "HTMLModel",
      "state": {
       "layout": "IPY_MODEL_af8dd10b519941baa62737270715cff8",
       "style": "IPY_MODEL_c1f71ed66b6b4537b41741206b09de85",
       "value": " 10000/10000 [00:01&lt;00:00, 7861.97it/s]"
      }
     },
     "bba9136a9d06488ca32a167347c9065c": {
      "model_module": "@jupyter-widgets/base",
      "model_module_version": "1.2.0",
      "model_name": "LayoutModel",
      "state": {}
     },
     "bbdd53d00d584829b8c028bd64f04559": {
      "model_module": "@jupyter-widgets/base",
      "model_module_version": "1.2.0",
      "model_name": "LayoutModel",
      "state": {}
     },
     "bc114903be7d4ecdb5a19cae0e4c6ca4": {
      "model_module": "@jupyter-widgets/controls",
      "model_module_version": "1.5.0",
      "model_name": "DescriptionStyleModel",
      "state": {
       "description_width": ""
      }
     },
     "bc2ee050262b408b9f62c193225b5a04": {
      "model_module": "@jupyter-widgets/base",
      "model_module_version": "1.2.0",
      "model_name": "LayoutModel",
      "state": {}
     },
     "bc51b2b26b9a4778ae6eb8dde7d1176c": {
      "model_module": "@jupyter-widgets/controls",
      "model_module_version": "1.5.0",
      "model_name": "HTMLModel",
      "state": {
       "layout": "IPY_MODEL_4fab6bb2a2714bbe83a014d389ff6626",
       "style": "IPY_MODEL_e8be7c430f894d1ab0f6581cd2d22da6",
       "value": " 3719/3719 [00:00&lt;00:00, 7442.09it/s]"
      }
     },
     "bc93544029c4445e8f16aec5c864a8c4": {
      "model_module": "@jupyter-widgets/controls",
      "model_module_version": "1.5.0",
      "model_name": "DescriptionStyleModel",
      "state": {
       "description_width": ""
      }
     },
     "bc952ef382bf4010b00c81c71605bea0": {
      "model_module": "@jupyter-widgets/base",
      "model_module_version": "1.2.0",
      "model_name": "LayoutModel",
      "state": {}
     },
     "bcb2f55d8a6644d9ba45ea8fddf02740": {
      "model_module": "@jupyter-widgets/controls",
      "model_module_version": "1.5.0",
      "model_name": "DescriptionStyleModel",
      "state": {
       "description_width": ""
      }
     },
     "bcdc9f44b3974bd0b38e9cf3c0847c15": {
      "model_module": "@jupyter-widgets/controls",
      "model_module_version": "1.5.0",
      "model_name": "HBoxModel",
      "state": {
       "children": [
        "IPY_MODEL_8fcb2aee1c974793b43521abcd9dc410",
        "IPY_MODEL_3280b849c1de4a53b8b116d524a7d5b9",
        "IPY_MODEL_dc9557d563f24de8bee7625e73f8cde1"
       ],
       "layout": "IPY_MODEL_8833020f58214d2695b8168906383f44"
      }
     },
     "bd05cb6f775044278e82ec4a18ecdb70": {
      "model_module": "@jupyter-widgets/base",
      "model_module_version": "1.2.0",
      "model_name": "LayoutModel",
      "state": {}
     },
     "bd363bddd8c445f0bf561e498d2de1ba": {
      "model_module": "@jupyter-widgets/base",
      "model_module_version": "1.2.0",
      "model_name": "LayoutModel",
      "state": {}
     },
     "bd8d1b55da874a9f8a2ba827f630232c": {
      "model_module": "@jupyter-widgets/controls",
      "model_module_version": "1.5.0",
      "model_name": "HTMLModel",
      "state": {
       "layout": "IPY_MODEL_dc4da36594394372904489dc6abf4a9f",
       "style": "IPY_MODEL_827711a444134defa6d2019012241059",
       "value": "Writing sentences to sent_chunk_0000.txt: 100%"
      }
     },
     "bd9ac13e816543f6a0668c7c8b3fe5d7": {
      "model_module": "@jupyter-widgets/controls",
      "model_module_version": "1.5.0",
      "model_name": "DescriptionStyleModel",
      "state": {
       "description_width": ""
      }
     },
     "bdcaf0ffad9a47bba4d2054c75e99680": {
      "model_module": "@jupyter-widgets/base",
      "model_module_version": "1.2.0",
      "model_name": "LayoutModel",
      "state": {}
     },
     "bdf4abee0b0b4d4191dc0a3399efac12": {
      "model_module": "@jupyter-widgets/controls",
      "model_module_version": "1.5.0",
      "model_name": "FloatProgressModel",
      "state": {
       "bar_style": "success",
       "layout": "IPY_MODEL_a860cb820ead494c8f3b1a23e19546bf",
       "max": 10000,
       "style": "IPY_MODEL_efbbb680ce7141a58db70e80544aa4ed",
       "value": 10000
      }
     },
     "bfa8f43e91514173b157c430fc1e9f34": {
      "model_module": "@jupyter-widgets/controls",
      "model_module_version": "1.5.0",
      "model_name": "HTMLModel",
      "state": {
       "layout": "IPY_MODEL_fec69f19712b4f9ebd092a1dfcd57e7d",
       "style": "IPY_MODEL_48651a1ec0b94e0cb9c221ca147dbfbc",
       "value": " 10000/10000 [00:01&lt;00:00, 7586.02it/s]"
      }
     },
     "c1cdb2aa977641c0ab15a601ee92e96b": {
      "model_module": "@jupyter-widgets/base",
      "model_module_version": "1.2.0",
      "model_name": "LayoutModel",
      "state": {}
     },
     "c1f71ed66b6b4537b41741206b09de85": {
      "model_module": "@jupyter-widgets/controls",
      "model_module_version": "1.5.0",
      "model_name": "DescriptionStyleModel",
      "state": {
       "description_width": ""
      }
     },
     "c2214b68159f4178a31a87bc210c27a3": {
      "model_module": "@jupyter-widgets/base",
      "model_module_version": "1.2.0",
      "model_name": "LayoutModel",
      "state": {}
     },
     "c41dfe1a87bd4761abcc0d8b5497b7d9": {
      "model_module": "@jupyter-widgets/controls",
      "model_module_version": "1.5.0",
      "model_name": "DescriptionStyleModel",
      "state": {
       "description_width": ""
      }
     },
     "c4bf1bcec4cd49be9aad276840ccc0d1": {
      "model_module": "@jupyter-widgets/controls",
      "model_module_version": "1.5.0",
      "model_name": "HBoxModel",
      "state": {
       "children": [
        "IPY_MODEL_265ee6760e2147d6ae645dd767de8665",
        "IPY_MODEL_6e9637ee6ff0493f9dd6fe7db8c6d31f",
        "IPY_MODEL_a5f5dd934e664078b743581af741afd9"
       ],
       "layout": "IPY_MODEL_69d157bc9a514e09be76e4a300bcfebd"
      }
     },
     "c4e6cf7b1b2645aea7b82597b9d9e34f": {
      "model_module": "@jupyter-widgets/controls",
      "model_module_version": "1.5.0",
      "model_name": "ProgressStyleModel",
      "state": {
       "description_width": ""
      }
     },
     "c60ff7c0efa34fd38989096bb56e83f3": {
      "model_module": "@jupyter-widgets/base",
      "model_module_version": "1.2.0",
      "model_name": "LayoutModel",
      "state": {}
     },
     "c680dca3127f425786d74f56feeed3f3": {
      "model_module": "@jupyter-widgets/controls",
      "model_module_version": "1.5.0",
      "model_name": "HBoxModel",
      "state": {
       "children": [
        "IPY_MODEL_3b32b6233c4c4e5aa78449902ee944d8",
        "IPY_MODEL_f8b88a74676842f791f5d43b87352e08",
        "IPY_MODEL_a1da545540f548b1b2abcf0187d3a558"
       ],
       "layout": "IPY_MODEL_0e43145f464c45408f94e688ee42540c"
      }
     },
     "c74f7f178b3844f6a119e25db5e7c496": {
      "model_module": "@jupyter-widgets/controls",
      "model_module_version": "1.5.0",
      "model_name": "HBoxModel",
      "state": {
       "children": [
        "IPY_MODEL_646db2b10baf432a9ecd1a26daea6753",
        "IPY_MODEL_18ed9becdd0b47ae8b59ed3732ecf832",
        "IPY_MODEL_9822c00ae9c3482e8220c30513a12e27"
       ],
       "layout": "IPY_MODEL_4dd331b784fa4131b562810a7635a60d"
      }
     },
     "c771cda579dc4d1a9b786a5fb0e3a135": {
      "model_module": "@jupyter-widgets/controls",
      "model_module_version": "1.5.0",
      "model_name": "DescriptionStyleModel",
      "state": {
       "description_width": ""
      }
     },
     "c7c0ec324d944c7ab06c24b495ba68a1": {
      "model_module": "@jupyter-widgets/controls",
      "model_module_version": "1.5.0",
      "model_name": "DescriptionStyleModel",
      "state": {
       "description_width": ""
      }
     },
     "c7c54527cf334b07acf826a77fed022e": {
      "model_module": "@jupyter-widgets/controls",
      "model_module_version": "1.5.0",
      "model_name": "DescriptionStyleModel",
      "state": {
       "description_width": ""
      }
     },
     "c870bf3c450a485a9fc0f231651d5c32": {
      "model_module": "@jupyter-widgets/base",
      "model_module_version": "1.2.0",
      "model_name": "LayoutModel",
      "state": {}
     },
     "c8e76de5bbd0450f8d5f5988eec2d0f9": {
      "model_module": "@jupyter-widgets/base",
      "model_module_version": "1.2.0",
      "model_name": "LayoutModel",
      "state": {}
     },
     "c94759c680a04c619730db40c3546b27": {
      "model_module": "@jupyter-widgets/controls",
      "model_module_version": "1.5.0",
      "model_name": "FloatProgressModel",
      "state": {
       "bar_style": "success",
       "layout": "IPY_MODEL_ab604b9e249a4ad2b471da11fbfa6ede",
       "max": 10000,
       "style": "IPY_MODEL_275a36cab57641eea3709ef2d9f5aa28",
       "value": 10000
      }
     },
     "c9a102fccd0a4151b6d03e4ce8977c13": {
      "model_module": "@jupyter-widgets/controls",
      "model_module_version": "1.5.0",
      "model_name": "DescriptionStyleModel",
      "state": {
       "description_width": ""
      }
     },
     "ca03c7788d4943c3b33b4d224d57715e": {
      "model_module": "@jupyter-widgets/controls",
      "model_module_version": "1.5.0",
      "model_name": "HBoxModel",
      "state": {
       "children": [
        "IPY_MODEL_f3cd2f9338494e62a9fbbd323121223d",
        "IPY_MODEL_b1d2d98285144206a8bfd30c9df8ad7e",
        "IPY_MODEL_56f794d4c19d47e3bd4b9a5476d506ab"
       ],
       "layout": "IPY_MODEL_2cd5650f24b740fc8235d0a1477162b5"
      }
     },
     "ca0aadceae0741e3889859b87dab5b03": {
      "model_module": "@jupyter-widgets/controls",
      "model_module_version": "1.5.0",
      "model_name": "HBoxModel",
      "state": {
       "children": [
        "IPY_MODEL_195d350c016441d79cb2622c167a2e47",
        "IPY_MODEL_967c84a9964f4500b4dd0e80b60d1ac3",
        "IPY_MODEL_5f3e13ccd66c452d9380b27ee23de657"
       ],
       "layout": "IPY_MODEL_f1ceb1ed5912401abbe368ead04703f7"
      }
     },
     "ca3a6a4f7d3040b6a302021646ddc8ae": {
      "model_module": "@jupyter-widgets/controls",
      "model_module_version": "1.5.0",
      "model_name": "ProgressStyleModel",
      "state": {
       "description_width": ""
      }
     },
     "ca5c90f4ee334518ae228a9578d70469": {
      "model_module": "@jupyter-widgets/base",
      "model_module_version": "1.2.0",
      "model_name": "LayoutModel",
      "state": {}
     },
     "cab291ab0154436da66a53bca18a14a1": {
      "model_module": "@jupyter-widgets/base",
      "model_module_version": "1.2.0",
      "model_name": "LayoutModel",
      "state": {}
     },
     "caea583698e0494fb93f1dac1882dd3e": {
      "model_module": "@jupyter-widgets/controls",
      "model_module_version": "1.5.0",
      "model_name": "DescriptionStyleModel",
      "state": {
       "description_width": ""
      }
     },
     "cbde916bf2d443dfb5f2caf17b6bf0e2": {
      "model_module": "@jupyter-widgets/controls",
      "model_module_version": "1.5.0",
      "model_name": "HBoxModel",
      "state": {
       "children": [
        "IPY_MODEL_de4c533ca7314f2a80a872cad959d1c5",
        "IPY_MODEL_f20dcac0881c4e4aa301f7ef0f907f13",
        "IPY_MODEL_139777e4818f409b872fd721f1d22c80"
       ],
       "layout": "IPY_MODEL_d7475a7cf6ec41d597de6f5feda7af2b"
      }
     },
     "cc027e39889945ef89a6e55c279b6d52": {
      "model_module": "@jupyter-widgets/controls",
      "model_module_version": "1.5.0",
      "model_name": "FloatProgressModel",
      "state": {
       "bar_style": "success",
       "layout": "IPY_MODEL_17dc762b4507486ebc5e148f6e0afaa6",
       "max": 10000,
       "style": "IPY_MODEL_acd8673e51af441eadd6e3ecda6f595e",
       "value": 10000
      }
     },
     "cc87c68a596b486aa80c950b2bf81bd1": {
      "model_module": "@jupyter-widgets/base",
      "model_module_version": "1.2.0",
      "model_name": "LayoutModel",
      "state": {}
     },
     "cca87b8696ca4513bc54c727905230c7": {
      "model_module": "@jupyter-widgets/controls",
      "model_module_version": "1.5.0",
      "model_name": "ProgressStyleModel",
      "state": {
       "description_width": ""
      }
     },
     "cccadb6b3b62435c9c64208a10faa7ca": {
      "model_module": "@jupyter-widgets/controls",
      "model_module_version": "1.5.0",
      "model_name": "DescriptionStyleModel",
      "state": {
       "description_width": ""
      }
     },
     "ccd687653acf46ef8ec498287e0a9734": {
      "model_module": "@jupyter-widgets/controls",
      "model_module_version": "1.5.0",
      "model_name": "HBoxModel",
      "state": {
       "children": [
        "IPY_MODEL_d597cb55ed42485f901fe7cb25bd87a9",
        "IPY_MODEL_6f75fa089db44749bb04d01cda799c87",
        "IPY_MODEL_13ed830897f04cec9d64f43fa8d2104a"
       ],
       "layout": "IPY_MODEL_f45769522e7f40c3ab0c4f6966642a00"
      }
     },
     "cd1ef125918c4e049ed14b2dc4016d79": {
      "model_module": "@jupyter-widgets/controls",
      "model_module_version": "1.5.0",
      "model_name": "HBoxModel",
      "state": {
       "children": [
        "IPY_MODEL_a25b9c45d02c4d7197a1def76a7e8d83",
        "IPY_MODEL_4778d0b96acf418da39b13556bb297f6",
        "IPY_MODEL_dec17b5939ec4ef4a15510b681f4d0fc"
       ],
       "layout": "IPY_MODEL_19478f0a66f644c085b9172dbfb4654b"
      }
     },
     "cdceb1537b6b49e5895f983179e2d2fb": {
      "model_module": "@jupyter-widgets/controls",
      "model_module_version": "1.5.0",
      "model_name": "HTMLModel",
      "state": {
       "layout": "IPY_MODEL_0be1924f7d8f415f9bf5442152fc172b",
       "style": "IPY_MODEL_83f4c9f3f9ad42509ef4f52d9a4daea1",
       "value": " 10000/10000 [00:01&lt;00:00, 7497.64it/s]"
      }
     },
     "ced4f75ec31e4167b50d2987caf70827": {
      "model_module": "@jupyter-widgets/base",
      "model_module_version": "1.2.0",
      "model_name": "LayoutModel",
      "state": {}
     },
     "cf9c35c4abd644d39fbeddd194b11f50": {
      "model_module": "@jupyter-widgets/controls",
      "model_module_version": "1.5.0",
      "model_name": "HBoxModel",
      "state": {
       "children": [
        "IPY_MODEL_24dda96297324040b30911c96444d46a",
        "IPY_MODEL_ebb3fa3720dc4584b903afb0f0a38a0c",
        "IPY_MODEL_0d5ee347993d416db864324dbca051af"
       ],
       "layout": "IPY_MODEL_eee3c67086334c87bcd1bcf1bc09be10"
      }
     },
     "cfc73913c82a403fbc253765b34005c9": {
      "model_module": "@jupyter-widgets/controls",
      "model_module_version": "1.5.0",
      "model_name": "ProgressStyleModel",
      "state": {
       "description_width": ""
      }
     },
     "cfdfbe01448a466eb709f6feceb5a4bd": {
      "model_module": "@jupyter-widgets/base",
      "model_module_version": "1.2.0",
      "model_name": "LayoutModel",
      "state": {}
     },
     "d039181cf57547e4b4e55a29f8d80fc5": {
      "model_module": "@jupyter-widgets/base",
      "model_module_version": "1.2.0",
      "model_name": "LayoutModel",
      "state": {}
     },
     "d03ddacc7b7d49d1af95af4dbcf979db": {
      "model_module": "@jupyter-widgets/controls",
      "model_module_version": "1.5.0",
      "model_name": "HBoxModel",
      "state": {
       "children": [
        "IPY_MODEL_81fddb120f914c16aaf73932622553c1",
        "IPY_MODEL_2763f8597db04e0f93af3b2addb55438",
        "IPY_MODEL_624b27d80f5e4e8b958d69fb1f2c39f4"
       ],
       "layout": "IPY_MODEL_84c72f1d000e4fdd87d2c34f6751b41c"
      }
     },
     "d04a9078b5fb489a9bff7d51dcdb834d": {
      "model_module": "@jupyter-widgets/base",
      "model_module_version": "1.2.0",
      "model_name": "LayoutModel",
      "state": {}
     },
     "d0ba0e4ba70c465aafdd731f74cd8414": {
      "model_module": "@jupyter-widgets/base",
      "model_module_version": "1.2.0",
      "model_name": "LayoutModel",
      "state": {}
     },
     "d0eaec157b9f4a5bac98c25d5b8977a9": {
      "model_module": "@jupyter-widgets/base",
      "model_module_version": "1.2.0",
      "model_name": "LayoutModel",
      "state": {}
     },
     "d1174568705c456ba2a5a9f829994848": {
      "model_module": "@jupyter-widgets/controls",
      "model_module_version": "1.5.0",
      "model_name": "HTMLModel",
      "state": {
       "layout": "IPY_MODEL_bc952ef382bf4010b00c81c71605bea0",
       "style": "IPY_MODEL_285e1f03065e4dc693c889356a7d571f",
       "value": "100%"
      }
     },
     "d203da253a674c30a6e59e4202cd68ec": {
      "model_module": "@jupyter-widgets/controls",
      "model_module_version": "1.5.0",
      "model_name": "DescriptionStyleModel",
      "state": {
       "description_width": ""
      }
     },
     "d22fd9a046a8446a99ec8824031a8fdf": {
      "model_module": "@jupyter-widgets/controls",
      "model_module_version": "1.5.0",
      "model_name": "FloatProgressModel",
      "state": {
       "bar_style": "success",
       "layout": "IPY_MODEL_857caf9c47334c9b9718c6e62bc4703d",
       "max": 10000,
       "style": "IPY_MODEL_50bc6077b75a4810867663296cb3af7c",
       "value": 10000
      }
     },
     "d4d9311af101455ab7b90bfa4631bdc6": {
      "model_module": "@jupyter-widgets/controls",
      "model_module_version": "1.5.0",
      "model_name": "ProgressStyleModel",
      "state": {
       "description_width": ""
      }
     },
     "d5044fb22dde4a23a259000b3ff939da": {
      "model_module": "@jupyter-widgets/base",
      "model_module_version": "1.2.0",
      "model_name": "LayoutModel",
      "state": {}
     },
     "d507a381a39847eca83e9036ef90e0a5": {
      "model_module": "@jupyter-widgets/base",
      "model_module_version": "1.2.0",
      "model_name": "LayoutModel",
      "state": {}
     },
     "d51a9e7ba920406a9b5f86d8d66a5647": {
      "model_module": "@jupyter-widgets/controls",
      "model_module_version": "1.5.0",
      "model_name": "HTMLModel",
      "state": {
       "layout": "IPY_MODEL_19be78638b81413e8da5687d2d76c343",
       "style": "IPY_MODEL_906a127af7994d07b9f9557a4d0cbf76",
       "value": " 10000/10000 [00:01&lt;00:00, 7586.42it/s]"
      }
     },
     "d597cb55ed42485f901fe7cb25bd87a9": {
      "model_module": "@jupyter-widgets/controls",
      "model_module_version": "1.5.0",
      "model_name": "HTMLModel",
      "state": {
       "layout": "IPY_MODEL_2f9b051f83d0436bb744e602ce32d79e",
       "style": "IPY_MODEL_86a9f7209d2b42b2ad69bf1730fef19b",
       "value": "Writing sentences to sent_chunk_0031.txt: 100%"
      }
     },
     "d5f6ad7fdb2a40059dbcd46f34a58efb": {
      "model_module": "@jupyter-widgets/base",
      "model_module_version": "1.2.0",
      "model_name": "LayoutModel",
      "state": {}
     },
     "d60df96216cd4b35b8d975d19054f796": {
      "model_module": "@jupyter-widgets/controls",
      "model_module_version": "1.5.0",
      "model_name": "ProgressStyleModel",
      "state": {
       "description_width": ""
      }
     },
     "d629e96f21464c72b83a7441ab376be9": {
      "model_module": "@jupyter-widgets/base",
      "model_module_version": "1.2.0",
      "model_name": "LayoutModel",
      "state": {}
     },
     "d656d2d5e4c24e4d89d478b96713dfb6": {
      "model_module": "@jupyter-widgets/controls",
      "model_module_version": "1.5.0",
      "model_name": "HBoxModel",
      "state": {
       "children": [
        "IPY_MODEL_407052e1cc1b4f9d80b96677c5448c84",
        "IPY_MODEL_9a4a85345db34cfdb01231d71da9e329",
        "IPY_MODEL_b4c9e8d1769741de8e2aae48add2f715"
       ],
       "layout": "IPY_MODEL_7d4157a75f584c1695cf9c7d5e052edf"
      }
     },
     "d69fd0e067d14db79e26fc5ca90809ec": {
      "model_module": "@jupyter-widgets/controls",
      "model_module_version": "1.5.0",
      "model_name": "HTMLModel",
      "state": {
       "layout": "IPY_MODEL_36a0c2d1a4ba4ea0bc6401f3e9ab54c1",
       "style": "IPY_MODEL_df59984b5d8b47159f9da8346e0020f8",
       "value": "Writing sentences to sent_chunk_0036.txt: 100%"
      }
     },
     "d6d06ac48b3b478c84e7f0cdb7732042": {
      "model_module": "@jupyter-widgets/controls",
      "model_module_version": "1.5.0",
      "model_name": "ProgressStyleModel",
      "state": {
       "description_width": ""
      }
     },
     "d6e78d3d142644689812830b5400b05e": {
      "model_module": "@jupyter-widgets/base",
      "model_module_version": "1.2.0",
      "model_name": "LayoutModel",
      "state": {}
     },
     "d7309beda9a74b488fb05e60a2026bc2": {
      "model_module": "@jupyter-widgets/controls",
      "model_module_version": "1.5.0",
      "model_name": "HTMLModel",
      "state": {
       "layout": "IPY_MODEL_245d39d4f66d477fa1772229b8992406",
       "style": "IPY_MODEL_deafd426cc3b42668fc4fef4a0b3e735",
       "value": "Writing sentences to sent_chunk_0014.txt: 100%"
      }
     },
     "d7435a0596174e469d6f9fe8f7371d08": {
      "model_module": "@jupyter-widgets/base",
      "model_module_version": "1.2.0",
      "model_name": "LayoutModel",
      "state": {}
     },
     "d7475a7cf6ec41d597de6f5feda7af2b": {
      "model_module": "@jupyter-widgets/base",
      "model_module_version": "1.2.0",
      "model_name": "LayoutModel",
      "state": {}
     },
     "d755b58a1b004cd59c41377d6018b8c9": {
      "model_module": "@jupyter-widgets/controls",
      "model_module_version": "1.5.0",
      "model_name": "DescriptionStyleModel",
      "state": {
       "description_width": ""
      }
     },
     "d7ac21ad7ad14abbb63dfb838b0c8118": {
      "model_module": "@jupyter-widgets/base",
      "model_module_version": "1.2.0",
      "model_name": "LayoutModel",
      "state": {}
     },
     "d82b42c80b8f402e8ebb82f70e9a89f2": {
      "model_module": "@jupyter-widgets/controls",
      "model_module_version": "1.5.0",
      "model_name": "ProgressStyleModel",
      "state": {
       "description_width": ""
      }
     },
     "d8f40e05a6464a29af2307da753e113e": {
      "model_module": "@jupyter-widgets/base",
      "model_module_version": "1.2.0",
      "model_name": "LayoutModel",
      "state": {}
     },
     "d90fd03f7b814420b9b20dc158098276": {
      "model_module": "@jupyter-widgets/controls",
      "model_module_version": "1.5.0",
      "model_name": "DescriptionStyleModel",
      "state": {
       "description_width": ""
      }
     },
     "d929bac603d84db48b7ab0ed0ec6b72d": {
      "model_module": "@jupyter-widgets/base",
      "model_module_version": "1.2.0",
      "model_name": "LayoutModel",
      "state": {}
     },
     "da5463d45de043e2805439e978b4b3ba": {
      "model_module": "@jupyter-widgets/controls",
      "model_module_version": "1.5.0",
      "model_name": "HBoxModel",
      "state": {
       "children": [
        "IPY_MODEL_264b720d92a54987b753e688228d9c96",
        "IPY_MODEL_77d2992a88c04cff811237449a9ebf2d",
        "IPY_MODEL_9f2d3bc337514d459faeacc8aa03647a"
       ],
       "layout": "IPY_MODEL_fa1fd781ca15470f93a2c47a45a9b061"
      }
     },
     "da5f2ebd8925436bb4020f7654964112": {
      "model_module": "@jupyter-widgets/controls",
      "model_module_version": "1.5.0",
      "model_name": "FloatProgressModel",
      "state": {
       "bar_style": "success",
       "layout": "IPY_MODEL_d629e96f21464c72b83a7441ab376be9",
       "max": 10000,
       "style": "IPY_MODEL_fc9cb6c75c4d48a799ee41240871cf3b",
       "value": 10000
      }
     },
     "dab3584053154a1b9394da923982b7cf": {
      "model_module": "@jupyter-widgets/controls",
      "model_module_version": "1.5.0",
      "model_name": "DescriptionStyleModel",
      "state": {
       "description_width": ""
      }
     },
     "db56cd5eeec74911978982d5bb7a2334": {
      "model_module": "@jupyter-widgets/controls",
      "model_module_version": "1.5.0",
      "model_name": "FloatProgressModel",
      "state": {
       "bar_style": "success",
       "layout": "IPY_MODEL_2183f56ea8d94b5a9e7601a543b4d0ca",
       "max": 10000,
       "style": "IPY_MODEL_7c99ddc9f0a34d5daeef78b930fdfb85",
       "value": 10000
      }
     },
     "db63dcd055324b16963a986aca20766f": {
      "model_module": "@jupyter-widgets/controls",
      "model_module_version": "1.5.0",
      "model_name": "HTMLModel",
      "state": {
       "layout": "IPY_MODEL_812bb633f87c499bb21f19001e23ccbc",
       "style": "IPY_MODEL_2e308833c0b1421baf0b1ba48dd83470",
       "value": "Writing sentences to sent_chunk_0053.txt: 100%"
      }
     },
     "dc4441ddfa60483d8d2a5f767d6f9700": {
      "model_module": "@jupyter-widgets/controls",
      "model_module_version": "1.5.0",
      "model_name": "HBoxModel",
      "state": {
       "children": [
        "IPY_MODEL_5daf5bf70a7d454e98700ac9b5d5fc0d",
        "IPY_MODEL_d22fd9a046a8446a99ec8824031a8fdf",
        "IPY_MODEL_3872906532524885915d5f001c6ecd4a"
       ],
       "layout": "IPY_MODEL_95aca8a757f64aed8fdc4a7f20991642"
      }
     },
     "dc4da36594394372904489dc6abf4a9f": {
      "model_module": "@jupyter-widgets/base",
      "model_module_version": "1.2.0",
      "model_name": "LayoutModel",
      "state": {}
     },
     "dc9557d563f24de8bee7625e73f8cde1": {
      "model_module": "@jupyter-widgets/controls",
      "model_module_version": "1.5.0",
      "model_name": "HTMLModel",
      "state": {
       "layout": "IPY_MODEL_1cf565d8b6e540749f1f075824bf4595",
       "style": "IPY_MODEL_54d92b3eea164ad6aac9e6e32a39f403",
       "value": " 10000/10000 [00:01&lt;00:00, 7410.64it/s]"
      }
     },
     "dca21a8dbd814ead8b0969c98bbbf5ea": {
      "model_module": "@jupyter-widgets/base",
      "model_module_version": "1.2.0",
      "model_name": "LayoutModel",
      "state": {}
     },
     "dcf0eae48fa442ed86442ec967c28678": {
      "model_module": "@jupyter-widgets/controls",
      "model_module_version": "1.5.0",
      "model_name": "FloatProgressModel",
      "state": {
       "bar_style": "success",
       "layout": "IPY_MODEL_7476610fbdf94baabb992f2942a9be3b",
       "max": 10000,
       "style": "IPY_MODEL_2ea6e9542996489d8fac3de4ffae7045",
       "value": 10000
      }
     },
     "dd1dc69fc88949ef97d184d8a429cdf4": {
      "model_module": "@jupyter-widgets/controls",
      "model_module_version": "1.5.0",
      "model_name": "FloatProgressModel",
      "state": {
       "bar_style": "success",
       "layout": "IPY_MODEL_bdcaf0ffad9a47bba4d2054c75e99680",
       "max": 10000,
       "style": "IPY_MODEL_8176b5eac51b4832b157971a89c99b74",
       "value": 10000
      }
     },
     "de42947adb9c4ffa8b3d49f9aff2fdef": {
      "model_module": "@jupyter-widgets/controls",
      "model_module_version": "1.5.0",
      "model_name": "ProgressStyleModel",
      "state": {
       "description_width": ""
      }
     },
     "de4c533ca7314f2a80a872cad959d1c5": {
      "model_module": "@jupyter-widgets/controls",
      "model_module_version": "1.5.0",
      "model_name": "HTMLModel",
      "state": {
       "layout": "IPY_MODEL_c2214b68159f4178a31a87bc210c27a3",
       "style": "IPY_MODEL_9ea97e1bb4f44570a6a00a3b68397b7c",
       "value": "Writing sentences to sent_chunk_0022.txt: 100%"
      }
     },
     "deafd426cc3b42668fc4fef4a0b3e735": {
      "model_module": "@jupyter-widgets/controls",
      "model_module_version": "1.5.0",
      "model_name": "DescriptionStyleModel",
      "state": {
       "description_width": ""
      }
     },
     "dec17b5939ec4ef4a15510b681f4d0fc": {
      "model_module": "@jupyter-widgets/controls",
      "model_module_version": "1.5.0",
      "model_name": "HTMLModel",
      "state": {
       "layout": "IPY_MODEL_5ca2f922ddf947c591bfe9596e2d6f94",
       "style": "IPY_MODEL_8b99d581c4d44c8c921cfa78e6b522d8",
       "value": " 10000/10000 [00:01&lt;00:00, 7531.35it/s]"
      }
     },
     "ded03933c12644baab225760fbac33be": {
      "model_module": "@jupyter-widgets/base",
      "model_module_version": "1.2.0",
      "model_name": "LayoutModel",
      "state": {}
     },
     "df59984b5d8b47159f9da8346e0020f8": {
      "model_module": "@jupyter-widgets/controls",
      "model_module_version": "1.5.0",
      "model_name": "DescriptionStyleModel",
      "state": {
       "description_width": ""
      }
     },
     "dfdb07e6af40441aac392cbb5196b7fc": {
      "model_module": "@jupyter-widgets/base",
      "model_module_version": "1.2.0",
      "model_name": "LayoutModel",
      "state": {}
     },
     "e0186495b4524a1ab7668f34d724b1f1": {
      "model_module": "@jupyter-widgets/controls",
      "model_module_version": "1.5.0",
      "model_name": "HTMLModel",
      "state": {
       "layout": "IPY_MODEL_c60ff7c0efa34fd38989096bb56e83f3",
       "style": "IPY_MODEL_147daede748a4d38941cd47813d0bb32",
       "value": " 10000/10000 [00:01&lt;00:00, 7580.63it/s]"
      }
     },
     "e05db058e2734eee8c6123fe6ce86a03": {
      "model_module": "@jupyter-widgets/base",
      "model_module_version": "1.2.0",
      "model_name": "LayoutModel",
      "state": {}
     },
     "e0f6404b94a44ef4b17a03c2ad99c553": {
      "model_module": "@jupyter-widgets/base",
      "model_module_version": "1.2.0",
      "model_name": "LayoutModel",
      "state": {}
     },
     "e122313382b74d778a41fea42976e4a7": {
      "model_module": "@jupyter-widgets/controls",
      "model_module_version": "1.5.0",
      "model_name": "HTMLModel",
      "state": {
       "layout": "IPY_MODEL_ced4f75ec31e4167b50d2987caf70827",
       "style": "IPY_MODEL_654c658f8f5c46398c4c345f23ce3754",
       "value": " 10000/10000 [00:01&lt;00:00, 7624.46it/s]"
      }
     },
     "e1332fe9165f4fc2aaafe55c45fd412c": {
      "model_module": "@jupyter-widgets/controls",
      "model_module_version": "1.5.0",
      "model_name": "DescriptionStyleModel",
      "state": {
       "description_width": ""
      }
     },
     "e14e7de9d0234538a429492b42394c78": {
      "model_module": "@jupyter-widgets/controls",
      "model_module_version": "1.5.0",
      "model_name": "HTMLModel",
      "state": {
       "layout": "IPY_MODEL_84e11c82d96847318789a010eae28961",
       "style": "IPY_MODEL_1e81d98b8c2640aa9de8e9d5a5c62f97",
       "value": " 10000/10000 [00:01&lt;00:00, 7849.74it/s]"
      }
     },
     "e1a88f8c7c164ce18c81a15d899e39a0": {
      "model_module": "@jupyter-widgets/controls",
      "model_module_version": "1.5.0",
      "model_name": "DescriptionStyleModel",
      "state": {
       "description_width": ""
      }
     },
     "e22d0dea970e4c25ba23334701ea8163": {
      "model_module": "@jupyter-widgets/controls",
      "model_module_version": "1.5.0",
      "model_name": "FloatProgressModel",
      "state": {
       "bar_style": "success",
       "layout": "IPY_MODEL_2f5692da625b4bfea43a8b6afbbd823a",
       "max": 10000,
       "style": "IPY_MODEL_284b0389e48b4822914bbbc52b4ea26b",
       "value": 10000
      }
     },
     "e3120c4794b3443c9a36924f89a347b8": {
      "model_module": "@jupyter-widgets/base",
      "model_module_version": "1.2.0",
      "model_name": "LayoutModel",
      "state": {}
     },
     "e337e2813f86413c8bfaf8b19ab65d0c": {
      "model_module": "@jupyter-widgets/base",
      "model_module_version": "1.2.0",
      "model_name": "LayoutModel",
      "state": {}
     },
     "e3cc6543a6cc4ff1afe86dbcffcb8521": {
      "model_module": "@jupyter-widgets/base",
      "model_module_version": "1.2.0",
      "model_name": "LayoutModel",
      "state": {}
     },
     "e4d81705665e4a31a206576778f78dee": {
      "model_module": "@jupyter-widgets/controls",
      "model_module_version": "1.5.0",
      "model_name": "FloatProgressModel",
      "state": {
       "bar_style": "success",
       "layout": "IPY_MODEL_e6734cdcd8944dc58d3c858cc95a3b1f",
       "max": 10000,
       "style": "IPY_MODEL_5245471deae841ce96655cd37b5af37a",
       "value": 10000
      }
     },
     "e4e72180c530405bb84f50ddc19b4fbc": {
      "model_module": "@jupyter-widgets/controls",
      "model_module_version": "1.5.0",
      "model_name": "DescriptionStyleModel",
      "state": {
       "description_width": ""
      }
     },
     "e5e70bb29aa8498681a4626e896fe7f6": {
      "model_module": "@jupyter-widgets/controls",
      "model_module_version": "1.5.0",
      "model_name": "FloatProgressModel",
      "state": {
       "bar_style": "success",
       "layout": "IPY_MODEL_55762a4c62fe4e889a3a16e27c630ef8",
       "max": 10000,
       "style": "IPY_MODEL_8fef9489204e4a1fa7713ab2415ddefd",
       "value": 10000
      }
     },
     "e613225a322f4d03bd1f3f2edfb27913": {
      "model_module": "@jupyter-widgets/base",
      "model_module_version": "1.2.0",
      "model_name": "LayoutModel",
      "state": {}
     },
     "e6734cdcd8944dc58d3c858cc95a3b1f": {
      "model_module": "@jupyter-widgets/base",
      "model_module_version": "1.2.0",
      "model_name": "LayoutModel",
      "state": {}
     },
     "e8be7c430f894d1ab0f6581cd2d22da6": {
      "model_module": "@jupyter-widgets/controls",
      "model_module_version": "1.5.0",
      "model_name": "DescriptionStyleModel",
      "state": {
       "description_width": ""
      }
     },
     "e9c4c6d51f2944148b45e44b1d8f919b": {
      "model_module": "@jupyter-widgets/controls",
      "model_module_version": "1.5.0",
      "model_name": "DescriptionStyleModel",
      "state": {
       "description_width": ""
      }
     },
     "ea933790a4ea4f03a3bc18f3df277122": {
      "model_module": "@jupyter-widgets/base",
      "model_module_version": "1.2.0",
      "model_name": "LayoutModel",
      "state": {}
     },
     "ea9e04266b284cb5b2a4d33c0e6807c7": {
      "model_module": "@jupyter-widgets/controls",
      "model_module_version": "1.5.0",
      "model_name": "DescriptionStyleModel",
      "state": {
       "description_width": ""
      }
     },
     "eb0e69e769744ba98977df2a36c48e53": {
      "model_module": "@jupyter-widgets/base",
      "model_module_version": "1.2.0",
      "model_name": "LayoutModel",
      "state": {}
     },
     "eb23b60307df46aabf18bedd6d210270": {
      "model_module": "@jupyter-widgets/base",
      "model_module_version": "1.2.0",
      "model_name": "LayoutModel",
      "state": {}
     },
     "eb5e97b9a0a64c3299eef180f1d3578c": {
      "model_module": "@jupyter-widgets/controls",
      "model_module_version": "1.5.0",
      "model_name": "HBoxModel",
      "state": {
       "children": [
        "IPY_MODEL_493f584838454c578a7a5b019f4f796a",
        "IPY_MODEL_b2bd02fe7c6840c5bae1340bbb6072ec",
        "IPY_MODEL_9d0cf277ca634777a1ee0d0b96a48c15"
       ],
       "layout": "IPY_MODEL_19a88b87ae0c4809a3968b641ed06e17"
      }
     },
     "eb96087f48524e7d86f1912af14e3efd": {
      "model_module": "@jupyter-widgets/controls",
      "model_module_version": "1.5.0",
      "model_name": "HTMLModel",
      "state": {
       "layout": "IPY_MODEL_36eaa45b4a4c43ed87cad91e153c30c4",
       "style": "IPY_MODEL_ad74e1f050f2473283b7602fbe4954c2",
       "value": "Writing sentences to sent_chunk_0037.txt: 100%"
      }
     },
     "ebb3fa3720dc4584b903afb0f0a38a0c": {
      "model_module": "@jupyter-widgets/controls",
      "model_module_version": "1.5.0",
      "model_name": "FloatProgressModel",
      "state": {
       "bar_style": "success",
       "layout": "IPY_MODEL_568d8e04a11047fcb74041f7c5a4d48e",
       "max": 10000,
       "style": "IPY_MODEL_9a4649766e0544f0a70e65d3688f9e97",
       "value": 10000
      }
     },
     "ec009b35fcb4463ebe8427ba1eebeee1": {
      "model_module": "@jupyter-widgets/controls",
      "model_module_version": "1.5.0",
      "model_name": "DescriptionStyleModel",
      "state": {
       "description_width": ""
      }
     },
     "ec71c8c27f0f420e8a95d0edb2204deb": {
      "model_module": "@jupyter-widgets/controls",
      "model_module_version": "1.5.0",
      "model_name": "HTMLModel",
      "state": {
       "layout": "IPY_MODEL_8c24c8e17a824e3c94e72115c2a57a20",
       "style": "IPY_MODEL_f3ee0ad782024a5681e154a699ba1880",
       "value": "Writing sentences to sent_chunk_0045.txt: 100%"
      }
     },
     "ecdb1ec6fcd94041b17993c9632d2c74": {
      "model_module": "@jupyter-widgets/base",
      "model_module_version": "1.2.0",
      "model_name": "LayoutModel",
      "state": {}
     },
     "ed26c87046384f70b776e496db2a79c0": {
      "model_module": "@jupyter-widgets/controls",
      "model_module_version": "1.5.0",
      "model_name": "HBoxModel",
      "state": {
       "children": [
        "IPY_MODEL_6767e05c38ae4735bcb7a95b84f1b871",
        "IPY_MODEL_978673fba96b4bbea7eeeeb9da128dab",
        "IPY_MODEL_8a474c99735046ec88c34864932a7654"
       ],
       "layout": "IPY_MODEL_f6d534ab804345c790d6ff1ecbf733b7"
      }
     },
     "ed37bb53beb1478b98a7089772bfb82e": {
      "model_module": "@jupyter-widgets/controls",
      "model_module_version": "1.5.0",
      "model_name": "HTMLModel",
      "state": {
       "layout": "IPY_MODEL_257e68f8bcf84ab188b592caf270e440",
       "style": "IPY_MODEL_50f14b4a17be4fbc865996e7083ef2a6",
       "value": " 10000/10000 [00:01&lt;00:00, 7432.53it/s]"
      }
     },
     "edf11cb039a04c32a0b3d41a3c16c939": {
      "model_module": "@jupyter-widgets/base",
      "model_module_version": "1.2.0",
      "model_name": "LayoutModel",
      "state": {}
     },
     "ee2cffbc1b4f463e92eb8e7fd89e3f2f": {
      "model_module": "@jupyter-widgets/base",
      "model_module_version": "1.2.0",
      "model_name": "LayoutModel",
      "state": {}
     },
     "eebb7e29a2d645e3ba201faba69ed475": {
      "model_module": "@jupyter-widgets/controls",
      "model_module_version": "1.5.0",
      "model_name": "HTMLModel",
      "state": {
       "layout": "IPY_MODEL_ad0d55e283114dedbbbf56ad7d871bd1",
       "style": "IPY_MODEL_03b46d156af040fd96684fef027b3406",
       "value": "Writing sentences to sent_chunk_0010.txt: 100%"
      }
     },
     "eee3c67086334c87bcd1bcf1bc09be10": {
      "model_module": "@jupyter-widgets/base",
      "model_module_version": "1.2.0",
      "model_name": "LayoutModel",
      "state": {}
     },
     "eeeb7b53695a454ca6e6f5aa7ffcd9c2": {
      "model_module": "@jupyter-widgets/base",
      "model_module_version": "1.2.0",
      "model_name": "LayoutModel",
      "state": {}
     },
     "efbbb680ce7141a58db70e80544aa4ed": {
      "model_module": "@jupyter-widgets/controls",
      "model_module_version": "1.5.0",
      "model_name": "ProgressStyleModel",
      "state": {
       "description_width": ""
      }
     },
     "f01d582f9c4f4ff88f80ae7b5fb3c457": {
      "model_module": "@jupyter-widgets/controls",
      "model_module_version": "1.5.0",
      "model_name": "FloatProgressModel",
      "state": {
       "bar_style": "success",
       "layout": "IPY_MODEL_5d09da822f8941c48023da28a172af2c",
       "max": 10000,
       "style": "IPY_MODEL_cca87b8696ca4513bc54c727905230c7",
       "value": 10000
      }
     },
     "f047eeb7f73f4b7cb859a5504c83ab90": {
      "model_module": "@jupyter-widgets/controls",
      "model_module_version": "1.5.0",
      "model_name": "HTMLModel",
      "state": {
       "layout": "IPY_MODEL_a416c7802d664930be2e1bd2a2549034",
       "style": "IPY_MODEL_b2778e47b04948ed9e5bfff640d8c6f1",
       "value": " 10000/10000 [00:01&lt;00:00, 7654.81it/s]"
      }
     },
     "f080e621858c4a0390bddf0cfdf96af2": {
      "model_module": "@jupyter-widgets/controls",
      "model_module_version": "1.5.0",
      "model_name": "HBoxModel",
      "state": {
       "children": [
        "IPY_MODEL_a4e544e703234403bc7c31053103a64a",
        "IPY_MODEL_f08ea2c557404018971da44524e06a49",
        "IPY_MODEL_0076a37028be4e74a1da12890008a43b"
       ],
       "layout": "IPY_MODEL_4059b562323845c18a9dfc98b2f07b39"
      }
     },
     "f08ea2c557404018971da44524e06a49": {
      "model_module": "@jupyter-widgets/controls",
      "model_module_version": "1.5.0",
      "model_name": "FloatProgressModel",
      "state": {
       "bar_style": "success",
       "layout": "IPY_MODEL_d6e78d3d142644689812830b5400b05e",
       "max": 10000,
       "style": "IPY_MODEL_882a6d3f87254d8e9f47aef4f8b58047",
       "value": 10000
      }
     },
     "f0a86ef2bd8547b998b1d640d92010c5": {
      "model_module": "@jupyter-widgets/controls",
      "model_module_version": "1.5.0",
      "model_name": "HTMLModel",
      "state": {
       "layout": "IPY_MODEL_645cb18028544097ab82516933a603c1",
       "style": "IPY_MODEL_9b0c3f5f89574df0bbde4d623b542cf8",
       "value": " 10000/10000 [00:01&lt;00:00, 7600.63it/s]"
      }
     },
     "f17d03bdd2ae44e29281a1a9a35fddd7": {
      "model_module": "@jupyter-widgets/base",
      "model_module_version": "1.2.0",
      "model_name": "LayoutModel",
      "state": {}
     },
     "f17d44632598487b8d445dc683d3de2f": {
      "model_module": "@jupyter-widgets/controls",
      "model_module_version": "1.5.0",
      "model_name": "HTMLModel",
      "state": {
       "layout": "IPY_MODEL_5ca72712f7cf4942a78581edf0732426",
       "style": "IPY_MODEL_06f87cf0540f46dab3028d4969a10af0",
       "value": "Writing sentences to sent_chunk_0023.txt: 100%"
      }
     },
     "f1b03b5bf3c643f68d0affdc225510fc": {
      "model_module": "@jupyter-widgets/controls",
      "model_module_version": "1.5.0",
      "model_name": "HBoxModel",
      "state": {
       "children": [
        "IPY_MODEL_7ad377eba7514a479ad5eaf7079756bc",
        "IPY_MODEL_792d939e902349c182cc285c0bfeab20",
        "IPY_MODEL_8d72a955593148a2af6cc1042e00f5ce"
       ],
       "layout": "IPY_MODEL_cc87c68a596b486aa80c950b2bf81bd1"
      }
     },
     "f1ceb1ed5912401abbe368ead04703f7": {
      "model_module": "@jupyter-widgets/base",
      "model_module_version": "1.2.0",
      "model_name": "LayoutModel",
      "state": {}
     },
     "f1e33582f08b4c82af9806121829130e": {
      "model_module": "@jupyter-widgets/controls",
      "model_module_version": "1.5.0",
      "model_name": "HTMLModel",
      "state": {
       "layout": "IPY_MODEL_d0ba0e4ba70c465aafdd731f74cd8414",
       "style": "IPY_MODEL_b6d7bcfe0e1741be87e30fb600641dea",
       "value": " 10000/10000 [00:01&lt;00:00, 7431.01it/s]"
      }
     },
     "f20dcac0881c4e4aa301f7ef0f907f13": {
      "model_module": "@jupyter-widgets/controls",
      "model_module_version": "1.5.0",
      "model_name": "FloatProgressModel",
      "state": {
       "bar_style": "success",
       "layout": "IPY_MODEL_d8f40e05a6464a29af2307da753e113e",
       "max": 10000,
       "style": "IPY_MODEL_35950b9ac89445038d7609a46605ef2b",
       "value": 10000
      }
     },
     "f2543efb41d648fb865384f97e0a1c62": {
      "model_module": "@jupyter-widgets/base",
      "model_module_version": "1.2.0",
      "model_name": "LayoutModel",
      "state": {}
     },
     "f29163e65d7142b88a6627f3571541c9": {
      "model_module": "@jupyter-widgets/base",
      "model_module_version": "1.2.0",
      "model_name": "LayoutModel",
      "state": {}
     },
     "f35232911d164e1e861c2891afecbb94": {
      "model_module": "@jupyter-widgets/controls",
      "model_module_version": "1.5.0",
      "model_name": "HTMLModel",
      "state": {
       "layout": "IPY_MODEL_b99f9072cb42422c8b8074bd7c2df7bb",
       "style": "IPY_MODEL_97158ba0eac849d98c73d6bc46927da2",
       "value": "Writing sentences to sent_chunk_0048.txt: 100%"
      }
     },
     "f3cd2f9338494e62a9fbbd323121223d": {
      "model_module": "@jupyter-widgets/controls",
      "model_module_version": "1.5.0",
      "model_name": "HTMLModel",
      "state": {
       "layout": "IPY_MODEL_554a2147982a45168ac0ffe8408fa718",
       "style": "IPY_MODEL_8d204df54a7445a8bf70fd07b32797f6",
       "value": "Writing sentences to sent_chunk_0021.txt: 100%"
      }
     },
     "f3d37fd7032c40e7893de5903b33c284": {
      "model_module": "@jupyter-widgets/base",
      "model_module_version": "1.2.0",
      "model_name": "LayoutModel",
      "state": {}
     },
     "f3ee0ad782024a5681e154a699ba1880": {
      "model_module": "@jupyter-widgets/controls",
      "model_module_version": "1.5.0",
      "model_name": "DescriptionStyleModel",
      "state": {
       "description_width": ""
      }
     },
     "f45769522e7f40c3ab0c4f6966642a00": {
      "model_module": "@jupyter-widgets/base",
      "model_module_version": "1.2.0",
      "model_name": "LayoutModel",
      "state": {}
     },
     "f4bbe0732e1a40f28e6efe5ace5ccc26": {
      "model_module": "@jupyter-widgets/base",
      "model_module_version": "1.2.0",
      "model_name": "LayoutModel",
      "state": {}
     },
     "f4c77c856256407882cf2dde41e41ed8": {
      "model_module": "@jupyter-widgets/controls",
      "model_module_version": "1.5.0",
      "model_name": "FloatProgressModel",
      "state": {
       "bar_style": "success",
       "layout": "IPY_MODEL_172f69c0bda94b88a2175ee02fb3cf97",
       "max": 10000,
       "style": "IPY_MODEL_d4d9311af101455ab7b90bfa4631bdc6",
       "value": 10000
      }
     },
     "f57d4247059845f59022337e39eaa185": {
      "model_module": "@jupyter-widgets/controls",
      "model_module_version": "1.5.0",
      "model_name": "DescriptionStyleModel",
      "state": {
       "description_width": ""
      }
     },
     "f644e8357cd546059a8591cb5046ac9c": {
      "model_module": "@jupyter-widgets/base",
      "model_module_version": "1.2.0",
      "model_name": "LayoutModel",
      "state": {}
     },
     "f6b0ce77355543d8ac46de0db5cef8d1": {
      "model_module": "@jupyter-widgets/base",
      "model_module_version": "1.2.0",
      "model_name": "LayoutModel",
      "state": {}
     },
     "f6d534ab804345c790d6ff1ecbf733b7": {
      "model_module": "@jupyter-widgets/base",
      "model_module_version": "1.2.0",
      "model_name": "LayoutModel",
      "state": {}
     },
     "f700be9fec6443e4a5e46436b956c076": {
      "model_module": "@jupyter-widgets/controls",
      "model_module_version": "1.5.0",
      "model_name": "FloatProgressModel",
      "state": {
       "bar_style": "success",
       "layout": "IPY_MODEL_d0eaec157b9f4a5bac98c25d5b8977a9",
       "max": 10000,
       "style": "IPY_MODEL_9f4c6acdfc1a4475b3d8079b666fd782",
       "value": 10000
      }
     },
     "f757184fd8ea401e9ad9ee0c21c96dbc": {
      "model_module": "@jupyter-widgets/controls",
      "model_module_version": "1.5.0",
      "model_name": "HTMLModel",
      "state": {
       "layout": "IPY_MODEL_9e66869053e1493da22bb1f7c77bec75",
       "style": "IPY_MODEL_acc66cf64d5346f08ce38ab0c0f0e644",
       "value": "Writing sentences to sent_chunk_0051.txt: 100%"
      }
     },
     "f7d33e1d6ad5458ab3cc5bfbdcf3b86c": {
      "model_module": "@jupyter-widgets/base",
      "model_module_version": "1.2.0",
      "model_name": "LayoutModel",
      "state": {}
     },
     "f8b88a74676842f791f5d43b87352e08": {
      "model_module": "@jupyter-widgets/controls",
      "model_module_version": "1.5.0",
      "model_name": "FloatProgressModel",
      "state": {
       "bar_style": "success",
       "layout": "IPY_MODEL_9ba62c5cbb934d508f57dbbb9d27081c",
       "max": 10000,
       "style": "IPY_MODEL_80474cc528b24fdfbe0bec3da8ed5a39",
       "value": 10000
      }
     },
     "fa03930ab596428ba78562b3b87aceb4": {
      "model_module": "@jupyter-widgets/controls",
      "model_module_version": "1.5.0",
      "model_name": "FloatProgressModel",
      "state": {
       "bar_style": "success",
       "layout": "IPY_MODEL_94d80a6645e947b0b97723f795be3d38",
       "max": 60519,
       "style": "IPY_MODEL_c4e6cf7b1b2645aea7b82597b9d9e34f",
       "value": 60519
      }
     },
     "fa14d234a8da4687af47c70ea724c8b4": {
      "model_module": "@jupyter-widgets/controls",
      "model_module_version": "1.5.0",
      "model_name": "DescriptionStyleModel",
      "state": {
       "description_width": ""
      }
     },
     "fa1fd781ca15470f93a2c47a45a9b061": {
      "model_module": "@jupyter-widgets/base",
      "model_module_version": "1.2.0",
      "model_name": "LayoutModel",
      "state": {}
     },
     "fa8b159550ec4d8e95a6118747a26be7": {
      "model_module": "@jupyter-widgets/base",
      "model_module_version": "1.2.0",
      "model_name": "LayoutModel",
      "state": {}
     },
     "fa9f8144200d4dc582203feedd755309": {
      "model_module": "@jupyter-widgets/controls",
      "model_module_version": "1.5.0",
      "model_name": "FloatProgressModel",
      "state": {
       "bar_style": "success",
       "layout": "IPY_MODEL_c1cdb2aa977641c0ab15a601ee92e96b",
       "max": 10000,
       "style": "IPY_MODEL_550f337526b94a318c69f502b24b9f9b",
       "value": 10000
      }
     },
     "fb2463063d1c4aa1931032cdfaee5db7": {
      "model_module": "@jupyter-widgets/controls",
      "model_module_version": "1.5.0",
      "model_name": "HTMLModel",
      "state": {
       "layout": "IPY_MODEL_a0fa8f6998cc49659da9978f7dff4716",
       "style": "IPY_MODEL_b5c30207c77d47039f18093549e7b0c5",
       "value": "Writing sentences to sent_chunk_0017.txt: 100%"
      }
     },
     "fc9cb6c75c4d48a799ee41240871cf3b": {
      "model_module": "@jupyter-widgets/controls",
      "model_module_version": "1.5.0",
      "model_name": "ProgressStyleModel",
      "state": {
       "description_width": ""
      }
     },
     "fcc5fc632c3c4916902771dde2ec488a": {
      "model_module": "@jupyter-widgets/controls",
      "model_module_version": "1.5.0",
      "model_name": "FloatProgressModel",
      "state": {
       "bar_style": "success",
       "layout": "IPY_MODEL_8a86e860d5d449df94f9c6d998d5b82f",
       "max": 10000,
       "style": "IPY_MODEL_50ecaf473ac3426a867ee3f4b8e0c13c",
       "value": 10000
      }
     },
     "fd2e719c31644626a4ec14d97f2fe3cf": {
      "model_module": "@jupyter-widgets/controls",
      "model_module_version": "1.5.0",
      "model_name": "HBoxModel",
      "state": {
       "children": [
        "IPY_MODEL_43762f3c8f5945e79a07818d330f87f8",
        "IPY_MODEL_99909deae81c4c2496dbcc2525af715c",
        "IPY_MODEL_4a80a151b1cb492ba8f6f2b518af33e0"
       ],
       "layout": "IPY_MODEL_3d151860318544148caba589007f51d1"
      }
     },
     "fdc20e533c8a47d88d854271410697ed": {
      "model_module": "@jupyter-widgets/base",
      "model_module_version": "1.2.0",
      "model_name": "LayoutModel",
      "state": {}
     },
     "fe308cd9b0a84d61b759888f139e4736": {
      "model_module": "@jupyter-widgets/base",
      "model_module_version": "1.2.0",
      "model_name": "LayoutModel",
      "state": {}
     },
     "fe863ed46c204d78bc4ba1c59f5a17c3": {
      "model_module": "@jupyter-widgets/controls",
      "model_module_version": "1.5.0",
      "model_name": "HTMLModel",
      "state": {
       "layout": "IPY_MODEL_79d1e1921511492bb571dcb1b7a024d8",
       "style": "IPY_MODEL_7d6dcf57b6804ffe96806ff6e5f29efa",
       "value": " 10000/10000 [00:01&lt;00:00, 7448.95it/s]"
      }
     },
     "fe9980655ce94d609cb5b1e5660d04f6": {
      "model_module": "@jupyter-widgets/controls",
      "model_module_version": "1.5.0",
      "model_name": "DescriptionStyleModel",
      "state": {
       "description_width": ""
      }
     },
     "fea20bf0c7fb460aa948e4f04d99baac": {
      "model_module": "@jupyter-widgets/controls",
      "model_module_version": "1.5.0",
      "model_name": "HBoxModel",
      "state": {
       "children": [
        "IPY_MODEL_02a35a9f457d41c4b0e4b2e5872f68d6",
        "IPY_MODEL_3fc7ec99131a4271a04ad204b7b2a305",
        "IPY_MODEL_27ca469af0454222938fb76afdef806a"
       ],
       "layout": "IPY_MODEL_30c14331d02d41e8a37beef8cf39d47c"
      }
     },
     "fec69f19712b4f9ebd092a1dfcd57e7d": {
      "model_module": "@jupyter-widgets/base",
      "model_module_version": "1.2.0",
      "model_name": "LayoutModel",
      "state": {}
     },
     "ff11f30995c4412db0f231cf97aeb0ce": {
      "model_module": "@jupyter-widgets/controls",
      "model_module_version": "1.5.0",
      "model_name": "ProgressStyleModel",
      "state": {
       "description_width": ""
      }
     },
     "ff2419e719fd44b5ae95ae86e88790d7": {
      "model_module": "@jupyter-widgets/base",
      "model_module_version": "1.2.0",
      "model_name": "LayoutModel",
      "state": {}
     }
    },
    "version_major": 2,
    "version_minor": 0
   }
  }
 },
 "nbformat": 4,
 "nbformat_minor": 1
}
