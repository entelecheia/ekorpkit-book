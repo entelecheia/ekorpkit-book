{
 "cells": [
  {
   "cell_type": "markdown",
   "metadata": {
    "pycharm": {
     "name": "#%% md\n"
    }
   },
   "source": [
    "# Preparing Numerical Data"
   ]
  },
  {
   "cell_type": "markdown",
   "metadata": {
    "pycharm": {
     "name": "#%% md\n"
    }
   },
   "source": [
    "```{note}\n",
    "Install ekorpkit package first.\n",
    "Set logging level to Warning, if you don't want to see verbose logging,\n",
    "```"
   ]
  },
  {
   "cell_type": "code",
   "execution_count": 1,
   "metadata": {
    "pycharm": {
     "name": "#%%\n"
    }
   },
   "outputs": [
    {
     "name": "stderr",
     "output_type": "stream",
     "text": [
      "INFO:ekorpkit.base:Google Colab not detected.\n"
     ]
    },
    {
     "name": "stdout",
     "output_type": "stream",
     "text": [
      "version: 0.1.38+7.g02e18c8.dirty\n",
      "is notebook? True\n",
      "is colab? False\n",
      "environment variables:\n",
      "{'CUDA_DEVICE_ORDER': None,\n",
      " 'CUDA_VISIBLE_DEVICES': None,\n",
      " 'EKORPKIT_CONFIG_DIR': '/workspace/projects/ekorpkit-book/config',\n",
      " 'EKORPKIT_DATA_DIR': None,\n",
      " 'EKORPKIT_LOG_LEVEL': 'INFO',\n",
      " 'EKORPKIT_PROJECT': 'ekorpkit-book',\n",
      " 'EKORPKIT_WORKSPACE_ROOT': '/workspace',\n",
      " 'KMP_DUPLICATE_LIB_OK': 'TRUE',\n",
      " 'NUM_WORKERS': 230}\n"
     ]
    }
   ],
   "source": [
    "# %config InlineBackend.figure_format='retina'\n",
    "from ekorpkit import eKonf\n",
    "\n",
    "eKonf.setLogger(\"INFO\")\n",
    "print(\"version:\", eKonf.__version__)\n",
    "print(\"is notebook?\", eKonf.is_notebook())\n",
    "print(\"is colab?\", eKonf.is_colab())\n",
    "print(\"environment variables:\")\n",
    "eKonf.print(eKonf.env().dict())"
   ]
  },
  {
   "cell_type": "code",
   "execution_count": 2,
   "metadata": {
    "pycharm": {
     "name": "#%%\n"
    }
   },
   "outputs": [],
   "source": [
    "data_dir = \"../data/bok\""
   ]
  },
  {
   "cell_type": "markdown",
   "metadata": {
    "pycharm": {
     "name": "#%% md\n"
    }
   },
   "source": [
    "## Load ECOS class"
   ]
  },
  {
   "cell_type": "code",
   "execution_count": 3,
   "metadata": {
    "pycharm": {
     "name": "#%%\n"
    }
   },
   "outputs": [
    {
     "name": "stderr",
     "output_type": "stream",
     "text": [
      "INFO:ekorpkit.base:Loaded .env from /workspace/projects/ekorpkit-book/config/.env\n",
      "INFO:ekorpkit.base:setting environment variable CACHED_PATH_CACHE_ROOT to /workspace/.cache/cached_path\n",
      "INFO:ekorpkit.base:setting environment variable KMP_DUPLICATE_LIB_OK to TRUE\n"
     ]
    },
    {
     "name": "stdout",
     "output_type": "stream",
     "text": [
      "<ekorpkit.io.fetch.ecos.ECOS object at 0x7f5b2d9d27c0>\n"
     ]
    }
   ],
   "source": [
    "cfg = eKonf.compose(\"io/fetcher=ecos\")\n",
    "cfg.auto.load = False\n",
    "ecos = eKonf.instantiate(cfg)\n",
    "print(ecos)"
   ]
  },
  {
   "cell_type": "code",
   "execution_count": 6,
   "metadata": {
    "collapsed": false,
    "pycharm": {
     "name": "#%%\n"
    }
   },
   "outputs": [],
   "source": [
    "stat_code = \"601Y002\""
   ]
  },
  {
   "cell_type": "code",
   "execution_count": 8,
   "metadata": {
    "collapsed": false,
    "pycharm": {
     "name": "#%%\n"
    }
   },
   "outputs": [
    {
     "data": {
      "text/plain": [
       "'{\"StatisticItemList\":{\"list_total_count\":61,\"row\":[{\"STAT_CODE\":\"601Y002\",\"STAT_NAME\":\"7.5.2. 지역별 소비유형별 개인 신용카드\",\"GRP_CODE\":\"Group1\",\"GRP_NAME\":\"지역코드\",\"ITEM_CODE\":\"A\",\"ITEM_NAME\":\"서울\",\"P_ITEM_CODE\":null,\"P_ITEM_NAME\":null,\"CYCLE\":\"M\",\"START_TIME\":\"200912\",\"END_TIME\":\"202204\",\"DATA_CNT\":12218,\"WEIGHT\":null},{\"STAT_CODE\":\"601Y002\",\"STAT_NAME\":\"7.5.2. 지역별 소비유형별 개인 신용카드\",\"GRP_CODE\":\"Group1\",\"GRP_NAME\":\"지역코드\",\"ITEM_CODE\":\"B\",\"ITEM_NAME\":\"부산\",\"P_ITEM_CODE\":null,\"P_ITEM_NAME\":null,\"CYCLE\":\"M\",\"START_TIME\":\"200912\",\"END_TIME\":\"202204\",\"DATA_CNT\":12218,\"WEIGHT\":null},{\"STAT_CODE\":\"601Y002\",\"STAT_NAME\":\"7.5.2. 지역별 소비유형별 개인 신용카드\",\"GRP_CODE\":\"Group1\",\"GRP_NAME\":\"지역코드\",\"ITEM_CODE\":\"C\",\"ITEM_NAME\":\"대구\",\"P_ITEM_CODE\":null,\"P_ITEM_NAME\":null,\"CYCLE\":\"M\",\"START_TIME\":\"200912\",\"END_TIME\":\"202204\",\"DATA_CNT\":12218,\"WEIGHT\":null},{\"STAT_CODE\":\"601Y002\",\"STAT_NAME\":\"7.5.2. 지역별 소비유형별 개인 신용카드\",\"GRP_CODE\":\"Group1\",\"GRP_NAME\":\"지역코드\",\"ITEM_CODE\":\"D\",\"ITEM_NAME\":\"인천\",\"P_ITEM_CODE\":null,\"P_ITEM_NAME\":null,\"CYCLE\":\"M\",\"START_TIME\":\"200912\",\"END_TIME\":\"202204\",\"DATA_CNT\":12218,\"WEIGHT\":null},{\"STAT_CODE\":\"601Y002\",\"STAT_NAME\":\"7.5.2. 지역별 소비유형별 개인 신용카드\",\"GRP_CODE\":\"Group1\",\"GRP_NAME\":\"지역코드\",\"ITEM_CODE\":\"E\",\"ITEM_NAME\":\"광주\",\"P_ITEM_CODE\":null,\"P_ITEM_NAME\":null,\"CYCLE\":\"M\",\"START_TIME\":\"200912\",\"END_TIME\":\"202204\",\"DATA_CNT\":12218,\"WEIGHT\":null},{\"STAT_CODE\":\"601Y002\",\"STAT_NAME\":\"7.5.2. 지역별 소비유형별 개인 신용카드\",\"GRP_CODE\":\"Group1\",\"GRP_NAME\":\"지역코드\",\"ITEM_CODE\":\"F\",\"ITEM_NAME\":\"대전\",\"P_ITEM_CODE\":null,\"P_ITEM_NAME\":null,\"CYCLE\":\"M\",\"START_TIME\":\"200912\",\"END_TIME\":\"202204\",\"DATA_CNT\":12218,\"WEIGHT\":null},{\"STAT_CODE\":\"601Y002\",\"STAT_NAME\":\"7.5.2. 지역별 소비유형별 개인 신용카드\",\"GRP_CODE\":\"Group1\",\"GRP_NAME\":\"지역코드\",\"ITEM_CODE\":\"G\",\"ITEM_NAME\":\"울산\",\"P_ITEM_CODE\":null,\"P_ITEM_NAME\":null,\"CYCLE\":\"M\",\"START_TIME\":\"200912\",\"END_TIME\":\"202204\",\"DATA_CNT\":12218,\"WEIGHT\":null},{\"STAT_CODE\":\"601Y002\",\"STAT_NAME\":\"7.5.2. 지역별 소비유형별 개인 신용카드\",\"GRP_CODE\":\"Group1\",\"GRP_NAME\":\"지역코드\",\"ITEM_CODE\":\"L\",\"ITEM_NAME\":\"경기\",\"P_ITEM_CODE\":null,\"P_ITEM_NAME\":null,\"CYCLE\":\"M\",\"START_TIME\":\"200912\",\"END_TIME\":\"202204\",\"DATA_CNT\":12218,\"WEIGHT\":null},{\"STAT_CODE\":\"601Y002\",\"STAT_NAME\":\"7.5.2. 지역별 소비유형별 개인 신용카드\",\"GRP_CODE\":\"Group1\",\"GRP_NAME\":\"지역코드\",\"ITEM_CODE\":\"M\",\"ITEM_NAME\":\"강원\",\"P_ITEM_CODE\":null,\"P_ITEM_NAME\":null,\"CYCLE\":\"M\",\"START_TIME\":\"200912\",\"END_TIME\":\"202204\",\"DATA_CNT\":12218,\"WEIGHT\":null},{\"STAT_CODE\":\"601Y002\",\"STAT_NAME\":\"7.5.2. 지역별 소비유형별 개인 신용카드\",\"GRP_CODE\":\"Group1\",\"GRP_NAME\":\"지역코드\",\"ITEM_CODE\":\"N\",\"ITEM_NAME\":\"충북\",\"P_ITEM_CODE\":null,\"P_ITEM_NAME\":null,\"CYCLE\":\"M\",\"START_TIME\":\"200912\",\"END_TIME\":\"202204\",\"DATA_CNT\":12218,\"WEIGHT\":null}]}}'"
      ]
     },
     "execution_count": 8,
     "metadata": {},
     "output_type": "execute_result"
    }
   ],
   "source": [
    "ecos.get_ecos(\n",
    "    service=\"StatisticItemList\",\n",
    "    stat_code=stat_code,\n",
    "    cycle=\"M\",\n",
    "    start_date=\"200912\",\n",
    "    end_date=\"202204\",\n",
    ")"
   ]
  },
  {
   "cell_type": "code",
   "execution_count": null,
   "metadata": {
    "collapsed": false,
    "pycharm": {
     "name": "#%%\n"
    }
   },
   "outputs": [],
   "source": []
  }
 ],
 "metadata": {
  "interpreter": {
   "hash": "f869af7787e6a1c49e09e367fc6e1b81d93d1c6583b43249c80edc047bd13cb2"
  },
  "kernelspec": {
   "display_name": "Python 3 (ipykernel)",
   "language": "python",
   "name": "python3"
  },
  "language_info": {
   "codemirror_mode": {
    "name": "ipython",
    "version": 3
   },
   "file_extension": ".py",
   "mimetype": "text/x-python",
   "name": "python",
   "nbconvert_exporter": "python",
   "pygments_lexer": "ipython3",
   "version": "3.8.12"
  }
 },
 "nbformat": 4,
 "nbformat_minor": 2
}
