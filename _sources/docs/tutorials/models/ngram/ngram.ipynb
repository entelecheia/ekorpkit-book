{
 "cells": [
  {
   "cell_type": "markdown",
   "metadata": {
    "id": "AESO0odcxhzs"
   },
   "source": [
    "# N-Grams"
   ]
  },
  {
   "cell_type": "code",
   "execution_count": 1,
   "metadata": {},
   "outputs": [
    {
     "name": "stdout",
     "output_type": "stream",
     "text": [
      "0.1.31+18.g0a7d0c4.dirty\n"
     ]
    }
   ],
   "source": [
    "import logging\n",
    "from ekorpkit import eKonf\n",
    "\n",
    "logging.basicConfig(level=logging.WARNING)\n",
    "print(eKonf.__version__)"
   ]
  },
  {
   "cell_type": "markdown",
   "metadata": {
    "id": "dOpN8AxSxhzv"
   },
   "source": [
    "## Tokenize and extract tokens"
   ]
  },
  {
   "cell_type": "code",
   "execution_count": 2,
   "metadata": {},
   "outputs": [],
   "source": [
    "corpus_cfg = eKonf.compose(config_group=\"corpus\")\n",
    "corpus_cfg.name = \"bok_minutes\"\n",
    "corpus_cfg.data_dir = \"/workspace/data/datasets/corpus/ekorpkit\"\n"
   ]
  },
  {
   "cell_type": "code",
   "execution_count": 14,
   "metadata": {},
   "outputs": [
    {
     "name": "stderr",
     "output_type": "stream",
     "text": [
      "INFO:ekorpkit.io.file:Processing [1] files from [['bok_minutes-train.parquet']]\n",
      "INFO:ekorpkit.io.file:Loading data from /workspace/data/datasets/corpus/ekorpkit/bok_minutes/bok_minutes-train.parquet\n",
      "INFO:ekorpkit.io.file:Processing [1] files from [['meta-bok_minutes-train.parquet']]\n",
      "INFO:ekorpkit.io.file:Loading data from /workspace/data/datasets/corpus/ekorpkit/bok_minutes/meta-bok_minutes-train.parquet\n",
      "INFO:ekorpkit.info.column:No timestamp key found\n",
      "INFO:ekorpkit.ekonf:Skipping execute of functools.partial(<function concat_dataframes at 0x7fe84bcb7a60>)\n",
      "INFO:ekorpkit.pipelines.pipe:Applying pipeline: OrderedDict([('tokenize', 'tokenize'), ('explode_splits', 'explode_splits'), ('save_dataframe', 'save_dataframe')])\n",
      "INFO:ekorpkit.ekonf:Applying pipe: functools.partial(<function tokenize at 0x7fe9c9598550>)\n",
      "INFO:ekorpkit.pipelines.pipe:instantiating tokenizer\n",
      "INFO:ekorpkit.preprocessors.tokenizer:Initializing mecab with {'userdic_path': None, 'backend': 'mecab-python3', 'verbose': False}...\n",
      "INFO:ekorpkit.preprocessors.tokenizer:instantiating ekorpkit.preprocessors.stopwords.Stopwords...\n"
     ]
    },
    {
     "data": {
      "application/vnd.jupyter.widget-view+json": {
       "model_id": "6f58c8bf112f4a9fb1a3bbb6c6cae9a0",
       "version_major": 2,
       "version_minor": 0
      },
      "text/plain": [
       "Tokenizing column: text:   0%|          | 0/163 [00:00<?, ?it/s]"
      ]
     },
     "metadata": {},
     "output_type": "display_data"
    },
    {
     "name": "stderr",
     "output_type": "stream",
     "text": [
      "INFO:ekorpkit.pipelines.pipe: >> elapsed time to segment: 0:01:00.693916\n",
      "INFO:ekorpkit.ekonf:Applying pipe: functools.partial(<function explode_splits at 0x7fe9c9598160>)\n",
      "INFO:ekorpkit.ekonf:Applying pipe: functools.partial(<function save_dataframe at 0x7fe9c9598e50>)\n",
      "INFO:ekorpkit.io.file:Saving dataframe as ../data/bok/bok_minutes_tokenized.parquet\n"
     ]
    }
   ],
   "source": [
    "tkn_cfg = eKonf.compose(config_group=\"preprocessor/tokenizer=mecab\")\n",
    "cfg = eKonf.compose(config_group=\"pipeline\")\n",
    "cfg.data.corpus = corpus_cfg\n",
    "cfg._pipeline_ = [\"tokenize\", \"explode_splits\", \"save_dataframe\"]\n",
    "cfg.num_workers = 100\n",
    "cfg.tokenize.preprocessor.tokenizer = tkn_cfg\n",
    "cfg.explode_splits.id_key = \"id\"\n",
    "cfg.explode_splits.split_key = \"sent_id\"\n",
    "cfg.explode_splits.separator = \"\\n\"\n",
    "cfg.save_dataframe.output_dir = \"../data/bok\"\n",
    "cfg.save_dataframe.output_file = \"bok_minutes_tokenized.parquet\"\n",
    "\n",
    "df = eKonf.instantiate(cfg)"
   ]
  },
  {
   "cell_type": "code",
   "execution_count": 15,
   "metadata": {},
   "outputs": [
    {
     "data": {
      "text/html": [
       "<div>\n",
       "<style scoped>\n",
       "    .dataframe tbody tr th:only-of-type {\n",
       "        vertical-align: middle;\n",
       "    }\n",
       "\n",
       "    .dataframe tbody tr th {\n",
       "        vertical-align: top;\n",
       "    }\n",
       "\n",
       "    .dataframe thead th {\n",
       "        text-align: right;\n",
       "    }\n",
       "</style>\n",
       "<table border=\"1\" class=\"dataframe\">\n",
       "  <thead>\n",
       "    <tr style=\"text-align: right;\">\n",
       "      <th></th>\n",
       "      <th>id</th>\n",
       "      <th>text</th>\n",
       "      <th>sent_id</th>\n",
       "    </tr>\n",
       "  </thead>\n",
       "  <tbody>\n",
       "    <tr>\n",
       "      <th>0</th>\n",
       "      <td>0</td>\n",
       "      <td>Economic/SL /SP Situation/SL</td>\n",
       "      <td>0</td>\n",
       "    </tr>\n",
       "    <tr>\n",
       "      <th>0</th>\n",
       "      <td>0</td>\n",
       "      <td>일부/NNG /SP 위원/NNG 은/JX /SP 반도체/NNG 시장/NNG 의/JK...</td>\n",
       "      <td>1</td>\n",
       "    </tr>\n",
       "    <tr>\n",
       "      <th>0</th>\n",
       "      <td>0</td>\n",
       "      <td>이/NP 에/JKB /SP 대해/VV+EC /SP 관련/NNG 부서/NNG 에서/J...</td>\n",
       "      <td>2</td>\n",
       "    </tr>\n",
       "    <tr>\n",
       "      <th>0</th>\n",
       "      <td>0</td>\n",
       "      <td>동/MM /SP 위원/NNG 은/JX /SP 1/SN //SC 4/SN 분기/NNG...</td>\n",
       "      <td>3</td>\n",
       "    </tr>\n",
       "    <tr>\n",
       "      <th>0</th>\n",
       "      <td>0</td>\n",
       "      <td>이/NP 에/JKB /SP 대해/VV+EC /SP 관련/NNG 부서/NNG 에서/J...</td>\n",
       "      <td>4</td>\n",
       "    </tr>\n",
       "    <tr>\n",
       "      <th>...</th>\n",
       "      <td>...</td>\n",
       "      <td>...</td>\n",
       "      <td>...</td>\n",
       "    </tr>\n",
       "    <tr>\n",
       "      <th>162</th>\n",
       "      <td>162</td>\n",
       "      <td>앞/NNG 으로/JKB /SP 코로나/NNG 19/SN /SP 충격/NNG 에서/J...</td>\n",
       "      <td>337</td>\n",
       "    </tr>\n",
       "    <tr>\n",
       "      <th>162</th>\n",
       "      <td>162</td>\n",
       "      <td>또한/MAJ /SP 글로벌/NNG /SP 공급/NNG 망/NNG /SP 재편/NNG...</td>\n",
       "      <td>338</td>\n",
       "    </tr>\n",
       "    <tr>\n",
       "      <th>162</th>\n",
       "      <td>162</td>\n",
       "      <td>향후/NNG /SP 경제/NNG 회복세/NNG 와/JC /SP 물가/NNG 의/JK...</td>\n",
       "      <td>339</td>\n",
       "    </tr>\n",
       "    <tr>\n",
       "      <th>162</th>\n",
       "      <td>162</td>\n",
       "      <td></td>\n",
       "      <td>340</td>\n",
       "    </tr>\n",
       "    <tr>\n",
       "      <th>162</th>\n",
       "      <td>162</td>\n",
       "      <td>Government/SL '/SY s/SL /SP View/SL</td>\n",
       "      <td>341</td>\n",
       "    </tr>\n",
       "  </tbody>\n",
       "</table>\n",
       "<p>33857 rows × 3 columns</p>\n",
       "</div>"
      ],
      "text/plain": [
       "      id                                               text  sent_id\n",
       "0      0                       Economic/SL /SP Situation/SL        0\n",
       "0      0  일부/NNG /SP 위원/NNG 은/JX /SP 반도체/NNG 시장/NNG 의/JK...        1\n",
       "0      0  이/NP 에/JKB /SP 대해/VV+EC /SP 관련/NNG 부서/NNG 에서/J...        2\n",
       "0      0  동/MM /SP 위원/NNG 은/JX /SP 1/SN //SC 4/SN 분기/NNG...        3\n",
       "0      0  이/NP 에/JKB /SP 대해/VV+EC /SP 관련/NNG 부서/NNG 에서/J...        4\n",
       "..   ...                                                ...      ...\n",
       "162  162  앞/NNG 으로/JKB /SP 코로나/NNG 19/SN /SP 충격/NNG 에서/J...      337\n",
       "162  162  또한/MAJ /SP 글로벌/NNG /SP 공급/NNG 망/NNG /SP 재편/NNG...      338\n",
       "162  162  향후/NNG /SP 경제/NNG 회복세/NNG 와/JC /SP 물가/NNG 의/JK...      339\n",
       "162  162                                                         340\n",
       "162  162                Government/SL '/SY s/SL /SP View/SL      341\n",
       "\n",
       "[33857 rows x 3 columns]"
      ]
     },
     "execution_count": 15,
     "metadata": {},
     "output_type": "execute_result"
    }
   ],
   "source": [
    "df"
   ]
  },
  {
   "cell_type": "code",
   "execution_count": 16,
   "metadata": {},
   "outputs": [
    {
     "name": "stderr",
     "output_type": "stream",
     "text": [
      "INFO:ekorpkit.io.cached_path:caching path: None, extract_archive: True, force_extract: False, cache_dir: /workspace/.cache\n",
      "INFO:ekorpkit.ekonf:Executing function functools.partial(<function load_dataframe at 0x7fe84bcb7af0>) with parms {'filepath': '../data/bok/bok_minutes_tokenized.parquet', 'columns': None, 'verbose': True}\n",
      "INFO:ekorpkit.io.file:Loading data from ../data/bok/bok_minutes_tokenized.parquet\n",
      "INFO:ekorpkit.io.file: >> elapsed time to load data: 0:00:00.136895\n",
      "INFO:ekorpkit.ekonf:Skipping execute of functools.partial(<function concat_dataframes at 0x7fe84bcb7a60>)\n",
      "INFO:ekorpkit.pipelines.pipe:Applying pipeline: OrderedDict([('extract_tokens', 'extract_tokens'), ('save_dataframe', 'save_dataframe')])\n",
      "INFO:ekorpkit.ekonf:Applying pipe: functools.partial(<function extract_tokens at 0x7fe9c95985e0>)\n",
      "INFO:ekorpkit.pipelines.pipe:instantiating tokenizer\n",
      "INFO:ekorpkit.preprocessors.tokenizer:Initializing mecab with {'userdic_path': '/workspace/projects/ekorpkit/ekorpkit/resources/dictionaries/mecab/ekon_v1.dic', 'backend': 'mecab-python3', 'verbose': True}...\n",
      "INFO:ekorpkit.preprocessors.tokenizer:instantiating ekorpkit.preprocessors.stopwords.Stopwords...\n",
      "INFO:ekorpkit.preprocessors.tokenizer:MecabTokenizer initialized with:\n",
      "INFO:ekorpkit.preprocessors.tokenizer:\treturn_as_list: False\n",
      "INFO:ekorpkit.models.tokenizer.mecab:MeCab uses mecab-python3 as backend.\n",
      "INFO:ekorpkit.models.tokenizer.mecab:Mecab uses system dictionary: /resources/.pyenv/versions/3.8.12/envs/ekonml38/lib/python3.8/site-packages/mecab_ko_dic/dicdir, user dictionary: /workspace/projects/ekorpkit/ekorpkit/resources/dictionaries/mecab/ekon_v1.dic\n",
      "INFO:ekorpkit.pipelines.pipe:extract_func: <bound method Tokenizer.extract_tokens of <ekorpkit.preprocessors.tokenizer.MecabTokenizer object at 0x7fe9cb4799d0>>\n"
     ]
    },
    {
     "data": {
      "application/vnd.jupyter.widget-view+json": {
       "model_id": "e904700e6c0b4eafa91fc0b36302e9e8",
       "version_major": 2,
       "version_minor": 0
      },
      "text/plain": [
       "Extracting column: text:   0%|          | 0/33857 [00:00<?, ?it/s]"
      ]
     },
     "metadata": {},
     "output_type": "display_data"
    },
    {
     "name": "stderr",
     "output_type": "stream",
     "text": [
      "INFO:ekorpkit.pipelines.pipe: >> elapsed time to extract tokens: 0:00:06.351701\n",
      "INFO:ekorpkit.ekonf:Applying pipe: functools.partial(<function save_dataframe at 0x7fe9c9598e50>)\n",
      "INFO:ekorpkit.io.file:Saving dataframe as ../data/bok/bok_minutes_tokens.parquet\n",
      "INFO:ekorpkit.io.file: >> elapsed time to save data: 0:00:00.726176\n",
      "INFO:ekorpkit.io.file: >> saved dataframe to ../data/bok/bok_minutes_tokens.parquet\n"
     ]
    }
   ],
   "source": [
    "tkn_cfg = eKonf.compose(config_group=\"preprocessor/tokenizer=mecab_econ\")\n",
    "tkn_cfg.extract.strip_pos = False\n",
    "\n",
    "cfg = eKonf.compose(config_group=\"pipeline\")\n",
    "cfg.data.data_dir = \"../data/bok\"\n",
    "cfg.data.data_file = \"bok_minutes_tokenized.parquet\"\n",
    "cfg._pipeline_ = [\"extract_tokens\", \"save_dataframe\"]\n",
    "cfg.num_workers = 100\n",
    "cfg.verbose = True\n",
    "cfg.extract_tokens.preprocessor.tokenizer = tkn_cfg\n",
    "cfg.extract_tokens.nouns_only = False\n",
    "cfg.save_dataframe.output_dir = \"../data/bok\"\n",
    "cfg.save_dataframe.output_file = \"bok_minutes_tokens.parquet\"\n",
    "df = eKonf.instantiate(cfg)"
   ]
  },
  {
   "cell_type": "code",
   "execution_count": 17,
   "metadata": {},
   "outputs": [
    {
     "data": {
      "text/html": [
       "<div>\n",
       "<style scoped>\n",
       "    .dataframe tbody tr th:only-of-type {\n",
       "        vertical-align: middle;\n",
       "    }\n",
       "\n",
       "    .dataframe tbody tr th {\n",
       "        vertical-align: top;\n",
       "    }\n",
       "\n",
       "    .dataframe thead th {\n",
       "        text-align: right;\n",
       "    }\n",
       "</style>\n",
       "<table border=\"1\" class=\"dataframe\">\n",
       "  <thead>\n",
       "    <tr style=\"text-align: right;\">\n",
       "      <th></th>\n",
       "      <th>id</th>\n",
       "      <th>text</th>\n",
       "      <th>sent_id</th>\n",
       "    </tr>\n",
       "  </thead>\n",
       "  <tbody>\n",
       "    <tr>\n",
       "      <th>0</th>\n",
       "      <td>0</td>\n",
       "      <td>Economic/SL Situation/SL</td>\n",
       "      <td>0</td>\n",
       "    </tr>\n",
       "    <tr>\n",
       "      <th>0</th>\n",
       "      <td>0</td>\n",
       "      <td>일부/NNG 위원/NNG 은/JX 반도체/NNG 시장/NNG 의/JKG 재고/NNG...</td>\n",
       "      <td>1</td>\n",
       "    </tr>\n",
       "    <tr>\n",
       "      <th>0</th>\n",
       "      <td>0</td>\n",
       "      <td>이/NP 에/JKB 대해/VV+EC 관련/NNG 부서/NNG 에서/JKB 는/JX ...</td>\n",
       "      <td>2</td>\n",
       "    </tr>\n",
       "    <tr>\n",
       "      <th>0</th>\n",
       "      <td>0</td>\n",
       "      <td>동/MM 위원/NNG 은/JX 1/SN / 4/SN 분기/NNG 중/NNB 경제/N...</td>\n",
       "      <td>3</td>\n",
       "    </tr>\n",
       "    <tr>\n",
       "      <th>0</th>\n",
       "      <td>0</td>\n",
       "      <td>이/NP 에/JKB 대해/VV+EC 관련/NNG 부서/NNG 에서/JKB 는/JX ...</td>\n",
       "      <td>4</td>\n",
       "    </tr>\n",
       "    <tr>\n",
       "      <th>...</th>\n",
       "      <td>...</td>\n",
       "      <td>...</td>\n",
       "      <td>...</td>\n",
       "    </tr>\n",
       "    <tr>\n",
       "      <th>162</th>\n",
       "      <td>162</td>\n",
       "      <td>앞/NNG 으로/JKB 코로나/NNG 19/SN 충격/NNG 에서/JKB 점차/MA...</td>\n",
       "      <td>337</td>\n",
       "    </tr>\n",
       "    <tr>\n",
       "      <th>162</th>\n",
       "      <td>162</td>\n",
       "      <td>또한/MAJ 글로벌/NNG 공급/NNG 망/NNG 재편/NNG 기후/NNG 변화/N...</td>\n",
       "      <td>338</td>\n",
       "    </tr>\n",
       "    <tr>\n",
       "      <th>162</th>\n",
       "      <td>162</td>\n",
       "      <td>향후/NNG 경제/NNG 회복세/NNG 와/JC 물가/NNG 의/JKG 흐름/NNG...</td>\n",
       "      <td>339</td>\n",
       "    </tr>\n",
       "    <tr>\n",
       "      <th>162</th>\n",
       "      <td>162</td>\n",
       "      <td></td>\n",
       "      <td>340</td>\n",
       "    </tr>\n",
       "    <tr>\n",
       "      <th>162</th>\n",
       "      <td>162</td>\n",
       "      <td>Government/SL s/SL View/SL</td>\n",
       "      <td>341</td>\n",
       "    </tr>\n",
       "  </tbody>\n",
       "</table>\n",
       "<p>33857 rows × 3 columns</p>\n",
       "</div>"
      ],
      "text/plain": [
       "      id                                               text  sent_id\n",
       "0      0                           Economic/SL Situation/SL        0\n",
       "0      0  일부/NNG 위원/NNG 은/JX 반도체/NNG 시장/NNG 의/JKG 재고/NNG...        1\n",
       "0      0  이/NP 에/JKB 대해/VV+EC 관련/NNG 부서/NNG 에서/JKB 는/JX ...        2\n",
       "0      0  동/MM 위원/NNG 은/JX 1/SN / 4/SN 분기/NNG 중/NNB 경제/N...        3\n",
       "0      0  이/NP 에/JKB 대해/VV+EC 관련/NNG 부서/NNG 에서/JKB 는/JX ...        4\n",
       "..   ...                                                ...      ...\n",
       "162  162  앞/NNG 으로/JKB 코로나/NNG 19/SN 충격/NNG 에서/JKB 점차/MA...      337\n",
       "162  162  또한/MAJ 글로벌/NNG 공급/NNG 망/NNG 재편/NNG 기후/NNG 변화/N...      338\n",
       "162  162  향후/NNG 경제/NNG 회복세/NNG 와/JC 물가/NNG 의/JKG 흐름/NNG...      339\n",
       "162  162                                                         340\n",
       "162  162                         Government/SL s/SL View/SL      341\n",
       "\n",
       "[33857 rows x 3 columns]"
      ]
     },
     "execution_count": 17,
     "metadata": {},
     "output_type": "execute_result"
    }
   ],
   "source": [
    "df"
   ]
  },
  {
   "cell_type": "markdown",
   "metadata": {},
   "source": [
    "## Train ngrams"
   ]
  },
  {
   "cell_type": "code",
   "execution_count": 2,
   "metadata": {
    "scrolled": false
   },
   "outputs": [],
   "source": [
    "ngram_cfg = eKonf.compose(config_group=\"model/ngram=npmi\")\n",
    "ngram_cfg.data.data_dir = \"../data/bok\"\n",
    "ngram_cfg.data.data_file = \"bok_minutes_tokens.parquet\"\n",
    "ngram_cfg.verbose = True\n",
    "ngram_cfg.autoload = True\n",
    "ngram_cfg.candidates.threshold = 0.4\n",
    "ngram = eKonf.instantiate(ngram_cfg)"
   ]
  },
  {
   "cell_type": "code",
   "execution_count": 3,
   "metadata": {},
   "outputs": [
    {
     "name": "stdout",
     "output_type": "stream",
     "text": [
      "0 41008\n"
     ]
    }
   ],
   "source": [
    "print(len(ngram.ngrams), len(ngram.candidates))"
   ]
  },
  {
   "cell_type": "code",
   "execution_count": 4,
   "metadata": {},
   "outputs": [
    {
     "data": {
      "text/plain": [
       "[(('민/XPN', '감도/NNG'),\n",
       "  ngram(words='민/XPN;감도/NNG', length=44827, frequency=27, score=0.9905600642226081)),\n",
       " (('신/XPN', '흥국/NNG'),\n",
       "  ngram(words='신/XPN;흥국/NNG', length=44827, frequency=999, score=0.9602497345784399)),\n",
       " (('문안/NNG', '을/JKO', '작성/NNG'),\n",
       "  ngram(words='문안/NNG;을/JKO;작성/NNG', length=44827, frequency=43, score=0.9550163996733796)),\n",
       " (('예/NNG', '의/JKG', '주시/NNG'),\n",
       "  ngram(words='예/NNG;의/JKG;주시/NNG', length=44827, frequency=193, score=0.952158528049305)),\n",
       " (('한국/NNP', '은/JX', '행법/NNG'),\n",
       "  ngram(words='한국/NNP;은/JX;행법/NNG', length=44827, frequency=13, score=0.9215496994789585)),\n",
       " (('한/NNP', '은/JX', '법/NNG'),\n",
       "  ngram(words='한/NNP;은/JX;법/NNG', length=44827, frequency=17, score=0.9115135958462448)),\n",
       " (('차관/NNG', '에게/JKB', '발언/NNG'),\n",
       "  ngram(words='차관/NNG;에게/JKB;발언/NNG', length=44827, frequency=48, score=0.8730837780556813)),\n",
       " (('취지/NNG', '로/JKB', '발언/NNG'),\n",
       "  ngram(words='취지/NNG;로/JKB;발언/NNG', length=44827, frequency=36, score=0.8703677143686631)),\n",
       " (('신/XPN', '용스/NNP', '프레드/NNP'),\n",
       "  ngram(words='신/XPN;용스/NNP;프레드/NNP', length=44827, frequency=111, score=0.8677320405182908)),\n",
       " (('양질/NNG', '의/JKG', '일자리/NNG'),\n",
       "  ngram(words='양질/NNG;의/JKG;일자리/NNG', length=44827, frequency=16, score=0.8602652867490822)),\n",
       " (('시일/NNG', '이/JKS', '소요/NNG'),\n",
       "  ngram(words='시일/NNG;이/JKS;소요/NNG', length=44827, frequency=25, score=0.8577081983567416)),\n",
       " (('고부/NNG', '가/JKS', '가치/NNG'),\n",
       "  ngram(words='고부/NNG;가/JKS;가치/NNG', length=44827, frequency=10, score=0.8441046212878132)),\n",
       " (('저점/NNG', '을/JKO', '통과/NNG'),\n",
       "  ngram(words='저점/NNG;을/JKO;통과/NNG', length=44827, frequency=13, score=0.8280556580473707)),\n",
       " (('북한/NNP', '의/JKG', '미사일/NNG'),\n",
       "  ngram(words='북한/NNP;의/JKG;미사일/NNG', length=44827, frequency=11, score=0.8209799127562951)),\n",
       " (('끝/NNG', '으로/JKB', '동/NNG'),\n",
       "  ngram(words='끝/NNG;으로/JKB;동/NNG', length=44827, frequency=62, score=0.8060710940902794)),\n",
       " (('재/XPN', '정취/NNG', '약국/NNG'),\n",
       "  ngram(words='재/XPN;정취/NNG;약국/NNG', length=44827, frequency=13, score=0.8059870646567988)),\n",
       " (('결시/NNG', '까지/JX', '콜/NNG'),\n",
       "  ngram(words='결시/NNG;까지/JX;콜/NNG', length=44827, frequency=20, score=0.8008655335614991))]"
      ]
     },
     "execution_count": 4,
     "metadata": {},
     "output_type": "execute_result"
    }
   ],
   "source": [
    "ngram.postag_rules = [[\"/NN\", \"/J\", \"/NN\"], [\"/XP\", \"/NN\"], [\"/XP\", \"/NN\", \"/NN\"]]\n",
    "# ngram.postag_rules = ['/NN']\n",
    "\n",
    "ngram.export_ngrams(threshold=0.8, apply_postag_rules=True)"
   ]
  },
  {
   "cell_type": "code",
   "execution_count": 8,
   "metadata": {},
   "outputs": [
    {
     "name": "stdout",
     "output_type": "stream",
     "text": [
      "이/NP 에/JKB 대해/VV+EC 관련/NNG 부서/NNG 에서/JKB 는/JX 실업/NNG 률/XSN 과/JC 경기/NNG 지수/NNG 와/JKB 의/JKG 상관/NNG 관계/NNG 는/JX 그렇게/MAG 높/VA 지/EC 않/VX 은/ETM 것/NNB 으로/JKB 나타나/VV 며/EC 통계청/NNG 에서/JKB 발표/NNG 하/XSV 는/ETM 공식/NNG 적/XSN 인/VCP+ETM 실업/NNG 률/XSN 을/JKO 구직/NNG 단념/NNG 자/XSN 를/JKO 포함/NNG 한/XSA+ETM 광의/NNG 의/JKG 실업/NNG 률/XSN 로/JKB 전환/NNG 할/XSV+ETM 경우/NNG 오히려/MAJ 경기/NNG 와/JKB 의/JKG 연관/NNG 성/XSN 이/JKS 좀/MAG 더/MAG 높/VA 은/ETM 것/NNB 으로/JKB 분석/NNG 되/XSV 므로/EC 경기/NNG 상환/NNG 판단/NNG 을/JKO 위해서/VV+EC 는/JX 공식/NNG 적/XSN 인/VCP+ETM 실업/NNG 률/XSN 보다/JKB 는/JX 광의/NNG 의/JKG 실업/NNG 률/XSN 을/JKO 이용/NNG 하/XSV 는/ETM 것/NNB 이/JKS 더/MAG 좋/VA 을/ETM 것/NNB 같/VA 다고/EC 설명/NNG 하/XSV 였/EP 음/ETN\n",
      "[(('이/NP',), (0,), -inf), (('에/JKB',), (1,), -inf), (('대해/VV+',), (2,), -inf), (('관련/NNG',), (3,), -inf), (('부서/NNG',), (4,), -inf), (('에서/JKB',), (5,), -inf), (('는/JX',), (6,), -inf), (('실업/NNG',), (7,), -inf), (('률/XSN',), (8,), -inf), (('과/JC',), (9,), -inf), (('경기/NNG',), (10,), -inf), (('지수/NNG',), (11,), -inf), (('와/JKB',), (12,), -inf), (('의/JKG',), (13,), -inf), (('상관/NNG',), (14,), -inf), (('관계/NNG',), (15,), -inf), (('는/JX',), (16,), -inf), (('그렇게/MAG',), (17,), -inf), (('높/VA',), (18,), -inf), (('지/EC',), (19,), -inf), (('않/VX',), (20,), -inf), (('은/ETM',), (21,), -inf), (('것/NNB',), (22,), -inf), (('으로/JKB',), (23,), -inf), (('나타나/VV',), (24,), -inf), (('며/EC',), (25,), -inf), (('통계청/NNG',), (26,), -inf), (('에서/JKB',), (27,), -inf), (('발표/NNG',), (28,), -inf), (('하/XSV',), (29,), -inf), (('는/ETM',), (30,), -inf), (('공식/NNG',), (31,), -inf), (('적/XSN',), (32,), -inf), (('인/VCP',), (33,), -inf), (('실업/NNG',), (34,), -inf), (('률/XSN',), (35,), -inf), (('을/JKO',), (36,), -inf), (('구직/NNG',), (37,), -inf), (('단념/NNG',), (38,), -inf), (('자/XSN',), (39,), -inf), (('를/JKO',), (40,), -inf), (('포함/NNG',), (41,), -inf), (('한/XSA',), (42,), -inf), (('광의/NNG', '의/JKG', '실업/NNG'), (43, 44, 45), 0.7125695666268386), (('률/XSN',), (46,), -inf), (('로/JKB',), (47,), -inf), (('전환/NNG',), (48,), -inf), (('할/XSV',), (49,), -inf), (('경우/NNG',), (50,), -inf), (('오히려/MAJ',), (51,), -inf), (('경기/NNG',), (52,), -inf), (('와/JKB',), (53,), -inf), (('의/JKG',), (54,), -inf), (('연관/NNG',), (55,), -inf), (('성/XSN',), (56,), -inf), (('이/JKS',), (57,), -inf), (('좀/MAG',), (58,), -inf), (('더/MAG',), (59,), -inf), (('높/VA',), (60,), -inf), (('은/ETM',), (61,), -inf), (('것/NNB', '으로/JKB', '분석/NNG'), (62, 63, 64), 0.3374681991529073), (('되/XSV',), (65,), -inf), (('므로/EC',), (66,), -inf), (('경기/NNG',), (67,), -inf), (('상환/NNG',), (68,), -inf), (('판단/NNG',), (69,), -inf), (('을/JKO',), (70,), -inf), (('위해서/VV+',), (71,), -inf), (('는/JX',), (72,), -inf), (('공식/NNG',), (73,), -inf), (('적/XSN',), (74,), -inf), (('인/VCP',), (75,), -inf), (('실업/NNG',), (76,), -inf), (('률/XSN',), (77,), -inf), (('보다/JKB',), (78,), -inf), (('는/JX',), (79,), -inf), (('광의/NNG', '의/JKG', '실업/NNG'), (80, 81, 82), 0.7125695666268386), (('률/XSN',), (83,), -inf), (('을/JKO',), (84,), -inf), (('이용/NNG',), (85,), -inf), (('하/XSV',), (86,), -inf), (('는/ETM',), (87,), -inf), (('것/NNB',), (88,), -inf), (('이/JKS',), (89,), -inf), (('더/MAG',), (90,), -inf), (('좋/VA',), (91,), -inf), (('을/ETM',), (92,), -inf), (('것/NNB',), (93,), -inf), (('같/VA',), (94,), -inf), (('다고/EC',), (95,), -inf), (('설명/NNG',), (96,), -inf), (('하/XSV',), (97,), -inf), (('였/EP',), (98,), -inf), (('음/ETN',), (99,), -inf)]\n"
     ]
    }
   ],
   "source": [
    "ngram.load_data()\n",
    "sentence = ngram.sentences[18]\n",
    "print(sentence)\n",
    "tokens = ngram.analyze_sentence(sentence)\n",
    "print(tokens)"
   ]
  },
  {
   "cell_type": "code",
   "execution_count": 6,
   "metadata": {},
   "outputs": [
    {
     "name": "stdout",
     "output_type": "stream",
     "text": [
      "['이', '에', '대해', '관련', '부서', '에서', '는', '실업', '률', '과', '경기', '지수', '와', '의', '상관', '관계', '는', '그렇게', '높', '지', '않', '은', '것', '으로', '나타나', '며', '통계청', '에서', '발표', '하', '는', '공식', '적', '인', '실업', '률', '을', '구직', '단념', '자', '를', '포함', '한', '광의의실업', '률', '로', '전환', '할', '경우', '오히려', '경기', '와', '의', '연관', '성', '이', '좀', '더', '높', '은', '것으로분석', '되', '므로', '경기', '상환', '판단', '을', '위해서', '는', '공식', '적', '인', '실업', '률', '보다', '는', '광의의실업', '률', '을', '이용', '하', '는', '것', '이', '더', '좋', '을', '것', '같', '다고', '설명', '하', '였', '음']\n"
     ]
    }
   ],
   "source": [
    "tokens = ngram[sentence]\n",
    "print(tokens)"
   ]
  },
  {
   "cell_type": "code",
   "execution_count": 7,
   "metadata": {},
   "outputs": [
    {
     "name": "stderr",
     "output_type": "stream",
     "text": [
      "100%|██████████| 95/95 [00:00<00:00, 345.05it/s]\n"
     ]
    },
    {
     "data": {
      "text/plain": [
       "{'의견/NNG;을/JKO;제시/NNG': 0.7712962057207168,\n",
       " '것/NNB;으로/JKB;예상/NNG': 0.6434462999127033,\n",
       " '광의/NNG;의/JKG;실업/NNG': 0.7125695666268386,\n",
       " '위원/NNG;은/JX;최근/NNG': 0.6384959743711969,\n",
       " '나라/NNG;의/JKG;경우/NNG': 0.5392882244391282,\n",
       " '비중/NNG;을/JKO;차지/NNG': 0.7072775299321461,\n",
       " '견해/NNG;를/JKO;피력/NNG': 0.7097555785919298,\n",
       " '점/NNG;을/JKO;감안/NNG': 0.6377572632677098,\n",
       " '견해/NNG;를/JKO;제시/NNG': 0.6669627043316719,\n",
       " '것/NNB;으로/JKB;판단/NNG': 0.6210796296158267,\n",
       " '요인/NNG;이/JKS;상존/NNG': 0.5211343183357702,\n",
       " '부서/NNG;의/JKG;견해/NNG': 0.6754271644040637,\n",
       " '요인/NNG;에/JKB;기인/NNG': 0.5043339218152425,\n",
       " '예/NNG;의/JKG;주시/NNG': 0.952158528049305,\n",
       " '것/NNB;으로/JKB;생각/NNG': 0.5958825911374661,\n",
       " '수준/NNG;에서/JKB;유지/NNG': 0.6636461971348067,\n",
       " '저점/NNG;을/JKO;통과/NNG': 0.8280556580473707,\n",
       " '대/XPN;기업/NNG': 0.5456359866836469,\n",
       " '요인/NNG;으로/JKB;작용/NNG': 0.7708715487382776,\n",
       " '의견/NNG;을/JKO;개진/NNG': 0.7384395627581938,\n",
       " '물가/NNG;의/JKG;상방/NNG': 0.5074584872073851,\n",
       " '점/NNG;을/JKO;종합/NNG': 0.556822420265398,\n",
       " '수준/NNG;에서/JKB;동결/NNG': 0.6461681893860215,\n",
       " '견해/NNG;를/JKO;표명/NNG': 0.6478129958286124,\n",
       " '재정/NNG;의/JKG;조기/NNG': 0.5132700555256842,\n",
       " '위원/NNG;은/JX;다음/NNG': 0.553448109164864,\n",
       " '수준/NNG;으로/JKB;유지/NNG': 0.518649582527882,\n",
       " '물가/NNG;와/JC;근원/NNG': 0.5100416604056133,\n",
       " '압력/NNG;으로/JKB;작용/NNG': 0.6098929849604648,\n",
       " '방안/NNG;을/JKO;마련/NNG': 0.6454923188451946,\n",
       " '전월/NNG;과/JC;동일/NNG': 0.7439097224053924,\n",
       " '기조/NNG;를/JKO;유지/NNG': 0.5969123748774878,\n",
       " '부/NNG;의/JKG;효과/NNG': 0.6138078250845276,\n",
       " '회복/NNG;이/JKS;지연/NNG': 0.6097978165821536,\n",
       " '불/XPN;투명/NNG': 0.5551530211025784,\n",
       " '방향/NNG;으로/JKB;구체/NNG': 0.601315871698512,\n",
       " '문안/NNG;을/JKO;작성/NNG': 0.9550163996733796,\n",
       " '여부/NNG;를/JKO;판단/NNG': 0.541207347065582,\n",
       " '재/XPN;건축/NNG': 0.6862712987065251,\n",
       " '등/NNB;을/JKO;감안/NNG': 0.5646998864710981,\n",
       " '부문/NNG;을/JKO;중심/NNG': 0.5119575517507184,\n",
       " '사정/NNG;이/JKS;악화/NNG': 0.5752082489368028,\n",
       " '고용/NNG;의/JKG;질/NNG': 0.5587539187241448,\n",
       " '유럽/NNP;과/JC;일본/NNP': 0.6067764382636405,\n",
       " '수출/NNG;이/JKS;호조/NNG': 0.5622354169829481,\n",
       " '소폭/NNG;의/JKG;플러스/NNG': 0.6654012719908597,\n",
       " '모형/NNG;에/JKB;반영/NNG': 0.5302568474099705}"
      ]
     },
     "execution_count": 7,
     "metadata": {},
     "output_type": "execute_result"
    }
   ],
   "source": [
    "ngram.find_ngrams(\n",
    "    ngram.sentences[10:105], strip_pos=False, surface_delim=\";\", threshold=0.5\n",
    ")\n"
   ]
  },
  {
   "cell_type": "code",
   "execution_count": null,
   "metadata": {},
   "outputs": [],
   "source": []
  }
 ],
 "metadata": {
  "colab": {
   "name": "preprocessor.ipynb",
   "provenance": []
  },
  "interpreter": {
   "hash": "f869af7787e6a1c49e09e367fc6e1b81d93d1c6583b43249c80edc047bd13cb2"
  },
  "kernelspec": {
   "display_name": "Python 3",
   "language": "python",
   "name": "python3"
  },
  "language_info": {
   "codemirror_mode": {
    "name": "ipython",
    "version": 3
   },
   "file_extension": ".py",
   "mimetype": "text/x-python",
   "name": "python",
   "nbconvert_exporter": "python",
   "pygments_lexer": "ipython3",
   "version": "3.8.12"
  },
  "widgets": {
   "application/vnd.jupyter.widget-state+json": {
    "state": {},
    "version_major": 2,
    "version_minor": 0
   }
  }
 },
 "nbformat": 4,
 "nbformat_minor": 1
}
