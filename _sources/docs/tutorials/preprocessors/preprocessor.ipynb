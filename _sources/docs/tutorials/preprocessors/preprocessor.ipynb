{
 "cells": [
  {
   "cell_type": "markdown",
   "metadata": {
    "id": "AESO0odcxhzs"
   },
   "source": [
    "# Preprocessors"
   ]
  },
  {
   "cell_type": "markdown",
   "metadata": {
    "id": "rlQ2kNsbNIAe"
   },
   "source": [
    "<a href=\"https://colab.research.google.com/github/entelecheia/ekorpkit-config/blob/main/notebooks/preprocessor.ipynb\" target=\"_parent\"><img src=\"https://colab.research.google.com/assets/colab-badge.svg\" alt=\"Open In Colab\"/></a>"
   ]
  },
  {
   "cell_type": "code",
   "execution_count": 19,
   "metadata": {
    "id": "EJ0AoNl-xif_"
   },
   "outputs": [],
   "source": [
    "# %%capture\n",
    "# %pip install ekorpkit[transformers,tokenize]"
   ]
  },
  {
   "cell_type": "markdown",
   "metadata": {
    "id": "dOpN8AxSxhzv"
   },
   "source": [
    "## Instantiating a tokenizer/normalizer"
   ]
  },
  {
   "cell_type": "code",
   "execution_count": 2,
   "metadata": {
    "colab": {
     "base_uri": "https://localhost:8080/"
    },
    "id": "g1gDWf3DN6GG",
    "outputId": "f4444d77-9d69-4506-ca08-af24dfe6240b"
   },
   "outputs": [
    {
     "name": "stdout",
     "output_type": "stream",
     "text": [
      "{'_target_': 'ekorpkit.preprocessors.tokenizer.NLTKTokenizer',\n",
      " 'extract': {'no_space_for_non_nouns': False,\n",
      "             'noun_postags': ['NN', 'NNP', 'NNS', 'NNPS'],\n",
      "             'postags': None,\n",
      "             'stop_postags': ['.'],\n",
      "             'stopwords': None,\n",
      "             'stopwords_path': None},\n",
      " 'nltk': {'lemmatize': False,\n",
      "          'lemmatizer': {'_target_': 'nltk.stem.WordNetLemmatizer'},\n",
      "          'stem': True,\n",
      "          'stemmer': {'_target_': 'nltk.stem.PorterStemmer'}},\n",
      " 'normalize': None,\n",
      " 'postags': {'CC': 'Coordinating conjunction',\n",
      "             'CD': 'Cardinal number',\n",
      "             'DT': 'Determiner',\n",
      "             'EX': 'Existential there',\n",
      "             'FW': 'Foreign word',\n",
      "             'IN': 'Preposition or subordinating conjunction',\n",
      "             'JJ': 'Adjective',\n",
      "             'JJR': 'Adjective, comparative',\n",
      "             'JJS': 'Adjective, superlative',\n",
      "             'LS': 'List item marker',\n",
      "             'MD': 'Modal',\n",
      "             'NN': 'Noun, singular or mass',\n",
      "             'NNP': 'Proper noun, singular',\n",
      "             'NNPS': 'Proper noun, plural',\n",
      "             'NNS': 'Noun, plural',\n",
      "             'PDT': 'Predeterminer',\n",
      "             'POS': 'Possessive ending',\n",
      "             'PRP': 'Personal pronoun',\n",
      "             'PRP$': 'Possessive pronoun',\n",
      "             'RB': 'Adverb',\n",
      "             'RBR': 'Adverb, comparative',\n",
      "             'RBS': 'Adverb, superlative',\n",
      "             'RP': 'Particle',\n",
      "             'SYM': 'Symbol',\n",
      "             'TO': 'to',\n",
      "             'UH': 'Interjection',\n",
      "             'VB': 'Verb, base form',\n",
      "             'VBD': 'Verb, past tense',\n",
      "             'VBG': 'Verb, gerund or present participle',\n",
      "             'VBN': 'Verb, past participle',\n",
      "             'VBP': 'Verb, non-3rd person singular present',\n",
      "             'VBZ': 'Verb, 3rd person singular present',\n",
      "             'WDT': 'Wh-determiner',\n",
      "             'WP': 'Wh-pronoun',\n",
      "             'WP$': 'Possessive wh-pronoun',\n",
      "             'WRB': 'Wh-adverb'},\n",
      " 'tokenize': {'concat_surface_and_pos': True,\n",
      "              'flatten': True,\n",
      "              'include_whitespace_token': True,\n",
      "              'lowercase': False,\n",
      "              'punct_postags': ['SF', 'SP', 'SSO', 'SSC', 'SY'],\n",
      "              'tokenize_each_word': False,\n",
      "              'userdic_path': None,\n",
      "              'wordpieces_prefix': '##'},\n",
      " 'tokenize_article': {'return_type': 'str', 'sentence_separator': '\\\\n'},\n",
      " 'verbose': False}\n"
     ]
    }
   ],
   "source": [
    "from ekorpkit import eKonf\n",
    "\n",
    "config_group='preprocessor/tokenizer=nltk'\n",
    "cfg = eKonf.compose(config_group=config_group)\n",
    "eKonf.pprint(cfg)\n",
    "nltk = eKonf.instantiate(cfg)"
   ]
  },
  {
   "cell_type": "code",
   "execution_count": 3,
   "metadata": {
    "colab": {
     "base_uri": "https://localhost:8080/"
    },
    "id": "Ambm3yt5OH5_",
    "outputId": "59543062-8d8c-4ec7-dd24-277116a42ce9"
   },
   "outputs": [
    {
     "name": "stdout",
     "output_type": "stream",
     "text": [
      "[('i', 'PRP'), ('shall', 'MD'), ('reemphas', 'VB'), ('some', 'DT'), ('of', 'IN'), ('those', 'DT'), ('thought', 'NNS'), ('today', 'NN'), ('in', 'IN'), ('the', 'DT'), ('context', 'NN'), ('of', 'IN'), ('legisl', 'JJ'), ('propos', 'NNS'), ('that', 'WDT'), ('are', 'VBP'), ('now', 'RB'), ('befor', 'IN'), ('the', 'DT'), ('current', 'JJ'), ('congress', 'NNP'), ('.', '.')]\n",
      "['i/PRP', 'shall/MD', 'reemphas/VB', 'some/DT', 'of/IN', 'those/DT', 'thought/NNS', 'today/NN', 'in/IN', 'the/DT', 'context/NN', 'of/IN', 'legisl/JJ', 'propos/NNS', 'that/WDT', 'are/VBP', 'now/RB', 'befor/IN', 'the/DT', 'current/JJ', 'congress/NNP', './.']\n",
      "['thought', 'today', 'context', 'propos', 'congress']\n",
      "['i', 'shall', 'reemphas', 'some', 'of', 'those', 'thought', 'today', 'in', 'the', 'context', 'of', 'legisl', 'propos', 'that', 'are', 'now', 'befor', 'the', 'current', 'congress']\n"
     ]
    }
   ],
   "source": [
    "text = \"I shall reemphasize some of those thoughts today in the context of legislative proposals that are now before the current Congress.\"\n",
    "tokens = nltk.parse(text)\n",
    "print(tokens)\n",
    "tokens = nltk.tokenize(text)\n",
    "print(tokens)\n",
    "nouns = nltk.nouns(text)\n",
    "print(nouns)\n",
    "tokens = nltk.tokens(text)\n",
    "print(tokens)"
   ]
  },
  {
   "cell_type": "code",
   "execution_count": 4,
   "metadata": {
    "colab": {
     "base_uri": "https://localhost:8080/"
    },
    "id": "pr-XntKnxhzv",
    "outputId": "fa024fd6-85cf-40fc-9df2-916f8ac71adb"
   },
   "outputs": [
    {
     "name": "stdout",
     "output_type": "stream",
     "text": [
      "{'_target_': 'ekorpkit.preprocessors.tokenizer.MecabTokenizer',\n",
      " 'extract': {'no_space_for_non_nouns': False,\n",
      "             'noun_postags': ['NNG', 'NNP', 'XSN', 'SL', 'XR', 'NNB', 'NR'],\n",
      "             'postags': None,\n",
      "             'stop_postags': ['SP'],\n",
      "             'stopwords': None,\n",
      "             'stopwords_path': None},\n",
      " 'mecab': {'backend': 'mecab-python3', 'userdic_path': None, 'verbose': False},\n",
      " 'normalize': None,\n",
      " 'tokenize': {'concat_surface_and_pos': True,\n",
      "              'flatten': True,\n",
      "              'include_whitespace_token': True,\n",
      "              'lowercase': False,\n",
      "              'punct_postags': ['SF', 'SP', 'SSO', 'SSC', 'SY'],\n",
      "              'tokenize_each_word': False,\n",
      "              'userdic_path': None,\n",
      "              'wordpieces_prefix': '##'},\n",
      " 'tokenize_article': {'return_type': 'str', 'sentence_separator': '\\\\n'},\n",
      " 'verbose': False}\n"
     ]
    },
    {
     "name": "stderr",
     "output_type": "stream",
     "text": [
      "[ekorpkit]: Initializing mecab...\n"
     ]
    }
   ],
   "source": [
    "config_group='preprocessor/tokenizer=mecab'\n",
    "cfg = eKonf.compose(config_group=config_group)\n",
    "eKonf.pprint(cfg)\n",
    "mecab = eKonf.instantiate(cfg)"
   ]
  },
  {
   "cell_type": "code",
   "execution_count": 5,
   "metadata": {
    "colab": {
     "base_uri": "https://localhost:8080/"
    },
    "id": "kQS1jvbtxhzw",
    "outputId": "9000bc6a-599a-4e39-a348-1531aff897cd"
   },
   "outputs": [
    {
     "name": "stdout",
     "output_type": "stream",
     "text": [
      "['IMF/SL', '가/JKS', ' /SP', '推定/NNG', '한/XSA+ETM', ' /SP', '우리나라/NNG', '의/JKG', ' /SP', 'GDP/SL', '갭/NNG', '률/XSN', '은/JX', ' /SP', '今年/NNG', '에/JKB', '도/JX', ' /SP', '소폭/NNG', '의/JKG', ' /SP', '마이너스/NNG', '(/SSO', '−)/SY', '를/JKO', ' /SP', '持續/NNG', '하/XSV', '고/EC', ' /SP', '있/VX', '다/EF', './SF']\n"
     ]
    }
   ],
   "source": [
    "text = 'IMF가 推定한 우리나라의 GDP갭률은 今年에도 소폭의 마이너스(−)를 持續하고 있다.'\n",
    "tokens = mecab.tokenize(text)\n",
    "print(tokens)"
   ]
  },
  {
   "cell_type": "code",
   "execution_count": 5,
   "metadata": {
    "colab": {
     "base_uri": "https://localhost:8080/"
    },
    "id": "AILXTmH0xhzw",
    "outputId": "e52dab89-bc2c-41f7-b87e-938aace8b9d2"
   },
   "outputs": [
    {
     "name": "stdout",
     "output_type": "stream",
     "text": [
      "{'_target_': 'ekorpkit.preprocessors.normalizer.Normalizer',\n",
      " 'ftfy': {'decode_inconsistent_utf8': True,\n",
      "          'fix_c1_controls': True,\n",
      "          'fix_character_width': True,\n",
      "          'fix_encoding': True,\n",
      "          'fix_latin_ligatures': True,\n",
      "          'fix_line_breaks': True,\n",
      "          'fix_surrogates': True,\n",
      "          'max_decode_length': 1000000,\n",
      "          'normalization': 'NFKC',\n",
      "          'remove_control_chars': True,\n",
      "          'remove_terminal_escapes': True,\n",
      "          'replace_lossy_sequences': True,\n",
      "          'restore_byte_a0': True,\n",
      "          'uncurl_quotes': True,\n",
      "          'unescape_html': True},\n",
      " 'hanja2hangle': True,\n",
      " 'num_repeats': 2,\n",
      " 'spaces': {'collapse_whitespaces': True,\n",
      "            'fix_whitespaces': True,\n",
      "            'num_spaces_for_tab': 4,\n",
      "            'replace_tabs': True,\n",
      "            'strip': True},\n",
      " 'special_characters': {'fix_ellipsis': True,\n",
      "                        'fix_emoticons': False,\n",
      "                        'fix_hyphens': True,\n",
      "                        'fix_slashes': True,\n",
      "                        'fix_tildes': True,\n",
      "                        'regular_parentheses_only': False,\n",
      "                        'single_quotes_only': False}}\n"
     ]
    }
   ],
   "source": [
    "config_group='preprocessor/normalizer=formal_ko'\n",
    "cfg_norm = eKonf.compose(config_group=config_group)\n",
    "eKonf.pprint(cfg_norm)\n",
    "norm = eKonf.instantiate(cfg_norm)"
   ]
  },
  {
   "cell_type": "code",
   "execution_count": 6,
   "metadata": {
    "colab": {
     "base_uri": "https://localhost:8080/",
     "height": 35
    },
    "id": "jyCeGRbQxhzx",
    "outputId": "be5c3aff-f8eb-42f8-fea5-fd702eb7094e"
   },
   "outputs": [
    {
     "data": {
      "text/plain": [
       "'I shall reemphasize some of those thoughts today in the context of legislative proposals that are now before the current Congress.'"
      ]
     },
     "execution_count": 6,
     "metadata": {},
     "output_type": "execute_result"
    }
   ],
   "source": [
    "norm(text)"
   ]
  },
  {
   "cell_type": "code",
   "execution_count": 7,
   "metadata": {
    "colab": {
     "base_uri": "https://localhost:8080/"
    },
    "id": "rk5g7W_rxhzx",
    "outputId": "27ecde0f-d6e9-40fb-a24d-3af2ba903f9d"
   },
   "outputs": [
    {
     "name": "stderr",
     "output_type": "stream",
     "text": [
      "[ekorpkit]: Initializing mecab...\n"
     ]
    },
    {
     "name": "stdout",
     "output_type": "stream",
     "text": [
      "['I/SL', ' /SP', 'shall/SL', ' /SP', 'reemphasize/SL', ' /SP', 'some/SL', ' /SP', 'of/SL', ' /SP', 'those/SL', ' /SP', 'thoughts/SL', ' /SP', 'today/SL', ' /SP', 'in/SL', ' /SP', 'the/SL', ' /SP', 'context/SL', ' /SP', 'of/SL', ' /SP', 'legislative/SL', ' /SP', 'proposals/SL', ' /SP', 'that/SL', ' /SP', 'are/SL', ' /SP', 'now/SL', ' /SP', 'before/SL', ' /SP', 'the/SL', ' /SP', 'current/SL', ' /SP', 'Congress/SL', './SF']\n"
     ]
    }
   ],
   "source": [
    "config_group='preprocessor/tokenizer=mecab'\n",
    "cfg = eKonf.compose(config_group=config_group)\n",
    "mecab = eKonf.instantiate(cfg, normalize=norm)\n",
    "tokens = mecab.tokenize(text)\n",
    "print(tokens)"
   ]
  },
  {
   "cell_type": "code",
   "execution_count": 8,
   "metadata": {
    "colab": {
     "base_uri": "https://localhost:8080/"
    },
    "id": "y52Oosfgxhzx",
    "outputId": "1e120009-1d38-4cce-d8c1-732f2f314149"
   },
   "outputs": [
    {
     "name": "stdout",
     "output_type": "stream",
     "text": [
      "{'_target_': 'ekorpkit.preprocessors.tokenizer.MecabTokenizer',\n",
      " 'extract': {'no_space_for_non_nouns': False,\n",
      "             'noun_postags': ['NNG', 'NNP', 'XSN', 'SL', 'XR', 'NNB', 'NR'],\n",
      "             'postags': None,\n",
      "             'stop_postags': ['SP'],\n",
      "             'stopwords': None,\n",
      "             'stopwords_path': None},\n",
      " 'mecab': {'backend': 'mecab-python3', 'userdic_path': None, 'verbose': False},\n",
      " 'normalize': {'_target_': 'ekorpkit.preprocessors.normalizer.Normalizer',\n",
      "               'ftfy': {'decode_inconsistent_utf8': True,\n",
      "                        'fix_c1_controls': True,\n",
      "                        'fix_character_width': True,\n",
      "                        'fix_encoding': True,\n",
      "                        'fix_latin_ligatures': True,\n",
      "                        'fix_line_breaks': True,\n",
      "                        'fix_surrogates': True,\n",
      "                        'max_decode_length': 1000000,\n",
      "                        'normalization': 'NFKC',\n",
      "                        'remove_control_chars': True,\n",
      "                        'remove_terminal_escapes': True,\n",
      "                        'replace_lossy_sequences': True,\n",
      "                        'restore_byte_a0': True,\n",
      "                        'uncurl_quotes': True,\n",
      "                        'unescape_html': True},\n",
      "               'hanja2hangle': True,\n",
      "               'num_repeats': 2,\n",
      "               'spaces': {'collapse_whitespaces': True,\n",
      "                          'fix_whitespaces': True,\n",
      "                          'num_spaces_for_tab': 4,\n",
      "                          'replace_tabs': True,\n",
      "                          'strip': True},\n",
      "               'special_characters': {'fix_ellipsis': True,\n",
      "                                      'fix_emoticons': False,\n",
      "                                      'fix_hyphens': True,\n",
      "                                      'fix_slashes': True,\n",
      "                                      'fix_tildes': True,\n",
      "                                      'regular_parentheses_only': False,\n",
      "                                      'single_quotes_only': False}},\n",
      " 'tokenize': {'concat_surface_and_pos': True,\n",
      "              'flatten': True,\n",
      "              'include_whitespace_token': True,\n",
      "              'lowercase': False,\n",
      "              'punct_postags': ['SF', 'SP', 'SSO', 'SSC', 'SY'],\n",
      "              'tokenize_each_word': False,\n",
      "              'userdic_path': None,\n",
      "              'wordpieces_prefix': '##'},\n",
      " 'tokenize_article': {'return_type': 'str', 'sentence_separator': '\\\\n'},\n",
      " 'verbose': False}\n"
     ]
    },
    {
     "name": "stderr",
     "output_type": "stream",
     "text": [
      "[ekorpkit]: Initializing mecab...\n"
     ]
    },
    {
     "name": "stdout",
     "output_type": "stream",
     "text": [
      "['I/SL', ' /SP', 'shall/SL', ' /SP', 'reemphasize/SL', ' /SP', 'some/SL', ' /SP', 'of/SL', ' /SP', 'those/SL', ' /SP', 'thoughts/SL', ' /SP', 'today/SL', ' /SP', 'in/SL', ' /SP', 'the/SL', ' /SP', 'context/SL', ' /SP', 'of/SL', ' /SP', 'legislative/SL', ' /SP', 'proposals/SL', ' /SP', 'that/SL', ' /SP', 'are/SL', ' /SP', 'now/SL', ' /SP', 'before/SL', ' /SP', 'the/SL', ' /SP', 'current/SL', ' /SP', 'Congress/SL', './SF']\n"
     ]
    }
   ],
   "source": [
    "config_group='preprocessor/tokenizer=mecab'\n",
    "cfg = eKonf.compose(config_group=config_group)\n",
    "cfg['normalize'] = cfg_norm\n",
    "eKonf.pprint(cfg)\n",
    "mecab = eKonf.instantiate(cfg)\n",
    "tokens = mecab.tokenize(text)\n",
    "print(tokens)"
   ]
  },
  {
   "cell_type": "code",
   "execution_count": 9,
   "metadata": {
    "colab": {
     "base_uri": "https://localhost:8080/"
    },
    "id": "Q5lKddOdxhzy",
    "outputId": "489e850f-64e9-4159-ae71-dafa8be4ef56"
   },
   "outputs": [
    {
     "name": "stdout",
     "output_type": "stream",
     "text": [
      "['I', 'shall', 'reemphasize', 'some', 'of', 'those', 'thoughts', 'today', 'in', 'the', 'context', 'of', 'legislative', 'proposals', 'that', 'are', 'now', 'before', 'the', 'current', 'Congress']\n"
     ]
    }
   ],
   "source": [
    "print(mecab.nouns(text))"
   ]
  },
  {
   "cell_type": "code",
   "execution_count": 10,
   "metadata": {
    "colab": {
     "base_uri": "https://localhost:8080/"
    },
    "id": "brcgZsI6xhzy",
    "outputId": "21772b65-09fd-4e84-b0fe-130a3dbca972"
   },
   "outputs": [
    {
     "name": "stdout",
     "output_type": "stream",
     "text": [
      "['I', 'shall', 'reemphasize', 'some', 'of', 'those', 'thoughts', 'today', 'in', 'the', 'context', 'of', 'legislative', 'proposals', 'that', 'are', 'now', 'before', 'the', 'current', 'Congress', '.']\n"
     ]
    }
   ],
   "source": [
    "print(mecab.morphs(text))"
   ]
  },
  {
   "cell_type": "code",
   "execution_count": 6,
   "metadata": {},
   "outputs": [
    {
     "name": "stdout",
     "output_type": "stream",
     "text": [
      "['금/MAJ', '통/MAG', '위/NNG', '는/JX', ' /SP', '통화/NNG', '신용/NNG', '정책/NNG', '과/JC', ' /SP', '한국은행/NNP', '의/JKG', ' /SP', '운영/NNG', '에/JKB', ' /SP', '관한/VV+ETM', ' /SP', '의결/NNG', '권/XSN', '을/JKO', ' /SP', '행사/NNG', '한다/XSV+EF', './SF']\n"
     ]
    }
   ],
   "source": [
    "text = '금통위는 통화신용정책과 한국은행의 운영에 관한 의결권을 행사한다.'\n",
    "print(mecab.tokenize(text))"
   ]
  },
  {
   "cell_type": "code",
   "execution_count": 8,
   "metadata": {},
   "outputs": [
    {
     "name": "stdout",
     "output_type": "stream",
     "text": [
      "{'_target_': 'ekorpkit.preprocessors.tokenizer.MecabTokenizer',\n",
      " 'extract': {'no_space_for_non_nouns': False,\n",
      "             'noun_postags': ['NNG', 'NNP', 'XSN', 'SL', 'XR', 'NNB', 'NR'],\n",
      "             'postags': None,\n",
      "             'stop_postags': ['SP'],\n",
      "             'stopwords': None,\n",
      "             'stopwords_path': None},\n",
      " 'mecab': {'backend': 'mecab-python3',\n",
      "           'userdic_path': '/workspace/projects/ekorpkit/ekorpkit/resources/dictionaries/mecab/ekon_v1.dic',\n",
      "           'verbose': False},\n",
      " 'normalize': None,\n",
      " 'tokenize': {'concat_surface_and_pos': True,\n",
      "              'flatten': True,\n",
      "              'include_whitespace_token': True,\n",
      "              'lowercase': False,\n",
      "              'punct_postags': ['SF', 'SP', 'SSO', 'SSC', 'SY'],\n",
      "              'tokenize_each_word': False,\n",
      "              'userdic_path': None,\n",
      "              'wordpieces_prefix': '##'},\n",
      " 'tokenize_article': {'return_type': 'str', 'sentence_separator': '\\\\n'},\n",
      " 'verbose': False}\n"
     ]
    },
    {
     "name": "stderr",
     "output_type": "stream",
     "text": [
      "[ekorpkit]: Initializing mecab...\n"
     ]
    },
    {
     "name": "stdout",
     "output_type": "stream",
     "text": [
      "['금통위/NNP', '는/JX', ' /SP', '통화/NNG', '신용/NNG', '정책/NNG', '과/JC', ' /SP', '한국은행/NNP', '의/JKG', ' /SP', '운영/NNG', '에/JKB', ' /SP', '관한/VV+ETM', ' /SP', '의결권/NNP', '을/JKO', ' /SP', '행사/NNG', '한다/XSV+EF', './SF']\n"
     ]
    }
   ],
   "source": [
    "config_group='preprocessor/tokenizer=mecab_econ'\n",
    "cfg = eKonf.compose(config_group=config_group)\n",
    "eKonf.pprint(cfg)\n",
    "mecab = eKonf.instantiate(cfg)\n",
    "tokens = mecab.tokenize(text)\n",
    "print(tokens)"
   ]
  },
  {
   "cell_type": "code",
   "execution_count": 15,
   "metadata": {
    "colab": {
     "base_uri": "https://localhost:8080/"
    },
    "id": "aKJQXk_Jxhzy",
    "outputId": "11e13b92-dece-4320-98dc-afc9c1af0420"
   },
   "outputs": [
    {
     "name": "stderr",
     "output_type": "stream",
     "text": [
      "[ekorpkit]: Initializing Pynori...\n"
     ]
    },
    {
     "name": "stdout",
     "output_type": "stream",
     "text": [
      "['금/NNG', '통/NNG', '위/NNG', '는/JX', ' /SP', '통화/NNG', '신용/NNG', '정책/NNG', '과/JC', ' /SP', '한국은행/NNP', '의/JKG', ' /SP', '운영/NNG', '에/JKB', ' /SP', '관한/VV+ETM', ' /SP', '의결권/NNG', '을/JKO', ' /SP', '행사/NNG', '한다/XSV+EF', './SF']\n"
     ]
    }
   ],
   "source": [
    "config_group='preprocessor/tokenizer=pynori'\n",
    "cfg = eKonf.compose(config_group=config_group)\n",
    "nori = eKonf.instantiate(cfg)\n",
    "tokens = nori.tokenize(text)\n",
    "print(tokens)"
   ]
  },
  {
   "cell_type": "code",
   "execution_count": 16,
   "metadata": {
    "colab": {
     "base_uri": "https://localhost:8080/",
     "height": 200,
     "referenced_widgets": [
      "1b2aa5aa25ad45d3ae7dbe3d085a40c9",
      "4a2439091205495a9dd42d0091e9ca93",
      "93a2385d29c54f7eb0aa662281577cf2",
      "711277c48b32443ea60c29a9978c3a4a",
      "77cb2b6418224f52b3a9dc1781496660",
      "9cb2cfc585124d45893789504179bb6d",
      "113d0359b0944727b2b262b1ac9e2a3a",
      "a9a212ea8f8e432ab1f34e52f4f1aae1",
      "458600e563d448f6ae2964b71e26cbe4",
      "ac863966ef804f93b9cc2c7a27c457b6",
      "52046fb8210348fab9616b19297b2c03",
      "66fae218bd3643f89f5fdf1955e06b92",
      "8504ff9f37e04959905e2f7b14a31edb",
      "d66cf5580afd4e8999911e19f0b20211",
      "a694157c14a142a8a4df08e4eae0950c",
      "f1cbbc0029974d4f9e70b11e6f8f76dc",
      "0df3f00254c742268751a29bd06a14e9",
      "e05fca5f3dd54e50b16fc0d29e23a886",
      "3a3dd98d632a4cda8b16f30471f65b32",
      "b1c083e4a6a2464e8e7e2a03baab0a30",
      "5a12d52627a946a7aba55066c472f7ce",
      "a41270ac094d401bb0164da24ad49639",
      "4a1f6078c0094478806054176e4141a0",
      "9f1fe57646534344b4c57d0b20b9da59",
      "f8cdebefb958453c866a912a5a537c0a",
      "7634f3a4345e4ca0949396a88bbb2329",
      "a6a3413d50ca49c388be1d799401b1d2",
      "66fc56f32e2f4feaac20559989806629",
      "fbde6204c57b48629211ee742cb7aece",
      "2fb573b589bf4831aa9b6cab46e381a0",
      "dd4c4bff1b844f6da11a7c3cc73ddd57",
      "f885d3d89a074b0ca34e6e8efd52febe",
      "6b99ba4233f54d8893014b111e10e52d",
      "0f895e89ce6345059616062355c007c5",
      "a1eb2e07883649f8826e7fbf6b5d5ffb",
      "99ddfaf51d554b69911b471b78314122",
      "33fd722d767c4b29936e34ac16b06228",
      "43d56725f579489490691f8338e968f8",
      "bd4c3ee9db734a438e17f3a85d4d66c1",
      "ecee57c9ad654da1a73017af0648f39b",
      "ae39d5bcd40943d7a9c2fc806800df3a",
      "4c2e2f2e0bc946eaa39f095c9b3ebeb3",
      "07334aef811a4e639732dc80ddbe1502",
      "11a5774e2c284155842bdd318ae81550"
     ]
    },
    "id": "R8dyYkI-xhzy",
    "outputId": "12302f5b-5eb4-410b-ab36-1f407757b00f"
   },
   "outputs": [
    {
     "name": "stderr",
     "output_type": "stream",
     "text": [
      "[ekorpkit]: Initializing BertWordPieceTokenizer...\n"
     ]
    },
    {
     "name": "stdout",
     "output_type": "stream",
     "text": [
      "['금', '##통', '##위', '##는', '통', '##화', '##신', '##용', '##정', '##책', '##과', '한국', '##은', '##행', '##의', '운영', '##에', '관한', '의', '##결', '##권을', '행', '##사', '##한다', '.']\n"
     ]
    }
   ],
   "source": [
    "config_group='preprocessor/tokenizer=bwp'\n",
    "cfg = eKonf.compose(config_group=config_group)\n",
    "cfg['normalize'] = cfg_norm\n",
    "cfg['bwp']['pretrained_model_name_or_path'] = 'bert-base-multilingual-cased'\n",
    "bwp = eKonf.instantiate(cfg)\n",
    "tokens = bwp.tokenize(text)\n",
    "print(tokens)"
   ]
  },
  {
   "cell_type": "code",
   "execution_count": 17,
   "metadata": {
    "colab": {
     "base_uri": "https://localhost:8080/",
     "height": 148,
     "referenced_widgets": [
      "0a43fbb19c284c92ab216eab9bae7590",
      "da05919c47154c459210d449f11a8c86",
      "c8d53b6c9b3e489ea9c4869abcf401ad",
      "5a83ef2676f74f4297801c8dfe18b9d8",
      "75bf9e116e3d49e18a93f1fcfe8dd52a",
      "7aa125f02eb443928f6c86a71beb8bc7",
      "f7984385ff864a519256347a97728efb",
      "46ecf933817b4679bebe0adbed479c40",
      "5caea846233f448394712a677fbefefb",
      "9f2950272e044ac08f06392c593d88b3",
      "1d02fed9ecf7483e8566d4c038136bfc",
      "c75c950d490d440c9b39f3f125333ce7",
      "e24240f9f54c488da12c2ddee501eb01",
      "8eadcf4a92ce40a8ad07959972a3669e",
      "e6d5c039f19b4505a31fd8fbc78d6300",
      "28ff35a605e54dae9e0372afb6559c82",
      "f25d5b5f16e24b4c8865646b973e1621",
      "411892b4b5c144b4a56b98508845fba7",
      "9b379995fff24ddbbb4228210ed59ee1",
      "f7397fb7d2924d7ab72111b7f6291be1",
      "e9576545b54543919c2a2073ee9505eb",
      "d669c790685948c8a67113abf466eeda",
      "27229f99df2e434b99777704ab2f826d",
      "03ff6a64d74d4c7d9213ce11e803eb06",
      "96609bf5410048a79a6287282f2a2098",
      "76fc379465244d8fa32d4d813e491b06",
      "92725298454e4b69964b600001de39f9",
      "474f2f224e3f4e98adec00abbd402f04",
      "45a33450ed8d44dc9edf53736a056bdf",
      "a107a10eda8f4ae6be581ab5f29304b3",
      "a15bc899cf2946988018047bda61a4ed",
      "b278595ecddf47bf9afa22241ca5e4ca",
      "0bc3c857e8374c3596d7b54651d59a35"
     ]
    },
    "id": "hr7nDHJrxhzz",
    "outputId": "86c9f472-0cfd-49b7-ba92-e26e5b4f5486"
   },
   "outputs": [
    {
     "name": "stderr",
     "output_type": "stream",
     "text": [
      "[ekorpkit]: Initializing BertWordPieceTokenizer...\n"
     ]
    },
    {
     "name": "stdout",
     "output_type": "stream",
     "text": [
      "['금통위', '##는', '통화', '##신용', '##정책', '##과', '한국은행', '##의', '운영', '##에', '관한', '의결권', '##을', '행사', '##한다', '.']\n"
     ]
    }
   ],
   "source": [
    "config_group='preprocessor/tokenizer=bwp'\n",
    "cfg = eKonf.compose(config_group=config_group)\n",
    "cfg['normalize'] = cfg_norm\n",
    "cfg['bwp']['pretrained_model_name_or_path'] = 'entelecheia/ekonbert-base'\n",
    "bwp = eKonf.instantiate(cfg)\n",
    "tokens = bwp.tokenize(text)\n",
    "print(tokens)"
   ]
  },
  {
   "cell_type": "markdown",
   "metadata": {
    "id": "J3ArtjWbxhzz"
   },
   "source": [
    "## Instantiating a segmenter"
   ]
  },
  {
   "cell_type": "code",
   "execution_count": 8,
   "metadata": {
    "colab": {
     "base_uri": "https://localhost:8080/"
    },
    "id": "ha_NApxNxhzz",
    "outputId": "9dacb5de-42bc-49b8-a20d-d9b4d7294d08"
   },
   "outputs": [
    {
     "name": "stdout",
     "output_type": "stream",
     "text": [
      "{'_target_': 'ekorpkit.preprocessors.segmenter.PySBDSegmenter',\n",
      " 'chunk': {'chunk_overlap': False, 'chunk_size': 300},\n",
      " 'filter_language': {'detection_level': 'segment',\n",
      "                     'filter': False,\n",
      "                     'languages_to_keep': ['en', 'ko'],\n",
      "                     'min_language_probability': 0.8},\n",
      " 'filter_programming_language': False,\n",
      " 'filter_sentence_length': {'filter': False,\n",
      "                            'min_length': 10,\n",
      "                            'min_num_words': 3},\n",
      " 'merge': {'broken_lines_threshold': 0.4,\n",
      "           'empty_lines_threshold': 0.6,\n",
      "           'merge_level': 'segment',\n",
      "           'merge_lines': False},\n",
      " 'print_args': False,\n",
      " 'pysbd': {'clean': False, 'doc_type': None, 'language': 'en'},\n",
      " 'return_type': 'str',\n",
      " 'separators': {'in_segment': '\\\\n\\\\n',\n",
      "                'in_sentence': '\\\\n',\n",
      "                'out_segment': '\\\\n\\\\n',\n",
      "                'out_sentence': '\\\\n'},\n",
      " 'split': {'keep_segment': True,\n",
      "           'max_recover_length': 30000,\n",
      "           'max_recover_step': 0},\n",
      " 'verbose': True}\n"
     ]
    }
   ],
   "source": [
    "config_group='preprocessor/segmenter=pysbd'\n",
    "cfg_seg = eKonf.compose(config_group=config_group)\n",
    "eKonf.pprint(cfg_seg)\n",
    "seg = eKonf.instantiate(cfg_seg)"
   ]
  },
  {
   "cell_type": "code",
   "execution_count": 24,
   "metadata": {
    "colab": {
     "base_uri": "https://localhost:8080/"
    },
    "id": "BVrOsArPxhzz",
    "outputId": "8dd713a6-a123-4ac5-f4ea-264438699a27"
   },
   "outputs": [
    {
     "data": {
      "text/plain": [
       "['For strains harboring the pYV plasmid and Yop-encoding plasmids, bacteria were grown with aeration at 26 °C overnight in broth supplemented with 2.5 mm CaCl2 and 100 μg/ml ampicillin and then subcultured and grown at 26 °C until A600 of 0.2. ',\n",
       " 'At this point, the cultures were shifted to 37 °C and aerated for 1 h. ',\n",
       " 'A multiplicity of infection of 50:1 was used for YPIII(p-) incubations, and a multiplicity of infection of 25:1 was used for other derivatives. ',\n",
       " 'For the pYopE-expressing plasmid, 0.1 mm isopropyl-β-d-thiogalactopyranoside was supplemented during infection to induce YopE expression.']"
      ]
     },
     "execution_count": 24,
     "metadata": {},
     "output_type": "execute_result"
    }
   ],
   "source": [
    "text = \"For strains harboring the pYV plasmid and Yop-encoding plasmids, bacteria were grown with aeration at 26 °C overnight in broth supplemented with 2.5 mm CaCl2 and 100 μg/ml ampicillin and then subcultured and grown at 26 °C until A600 of 0.2. At this point, the cultures were shifted to 37 °C and aerated for 1 h. A multiplicity of infection of 50:1 was used for YPIII(p-) incubations, and a multiplicity of infection of 25:1 was used for other derivatives. For the pYopE-expressing plasmid, 0.1 mm isopropyl-β-d-thiogalactopyranoside was supplemented during infection to induce YopE expression.\"\n",
    "seg(text)"
   ]
  },
  {
   "cell_type": "code",
   "execution_count": 9,
   "metadata": {
    "colab": {
     "base_uri": "https://localhost:8080/"
    },
    "id": "n7ENfuH-xhzz",
    "outputId": "6c3efdca-95e2-4c56-8724-7aa80f3c252d"
   },
   "outputs": [
    {
     "name": "stdout",
     "output_type": "stream",
     "text": [
      "{'_target_': 'ekorpkit.preprocessors.segmenter.KSSSegmenter',\n",
      " 'chunk': {'chunk_overlap': False, 'chunk_size': 300},\n",
      " 'filter_language': {'detection_level': 'segment',\n",
      "                     'filter': False,\n",
      "                     'languages_to_keep': ['en', 'ko'],\n",
      "                     'min_language_probability': 0.8},\n",
      " 'filter_programming_language': False,\n",
      " 'filter_sentence_length': {'filter': False,\n",
      "                            'min_length': 10,\n",
      "                            'min_num_words': 3},\n",
      " 'kss': {'backend': 'mecab-python3',\n",
      "         'use_heuristic': False,\n",
      "         'use_quotes_brackets_processing': False},\n",
      " 'merge': {'broken_lines_threshold': 0.4,\n",
      "           'empty_lines_threshold': 0.6,\n",
      "           'merge_level': 'segment',\n",
      "           'merge_lines': False},\n",
      " 'print_args': False,\n",
      " 'return_type': 'str',\n",
      " 'separators': {'in_segment': '\\\\n\\\\n',\n",
      "                'in_sentence': '\\\\n',\n",
      "                'out_segment': '\\\\n\\\\n',\n",
      "                'out_sentence': '\\\\n'},\n",
      " 'split': {'keep_segment': True,\n",
      "           'max_recover_length': 30000,\n",
      "           'max_recover_step': 0},\n",
      " 'verbose': True}\n"
     ]
    }
   ],
   "source": [
    "config_group='preprocessor/segmenter=kss'\n",
    "cfg_seg = eKonf.compose(config_group=config_group)\n",
    "eKonf.pprint(cfg_seg)\n",
    "seg = eKonf.instantiate(cfg_seg)"
   ]
  },
  {
   "cell_type": "code",
   "execution_count": 26,
   "metadata": {
    "colab": {
     "base_uri": "https://localhost:8080/"
    },
    "id": "Hu4Bu7p1xhz0",
    "outputId": "c567b3d2-46cd-4744-8d56-4023029c6fe7"
   },
   "outputs": [
    {
     "data": {
      "text/plain": [
       "['일본기상청과 태평양지진해일경보센터는 3월 11일 오후 2시 49분경에 일본 동해안을 비롯하여 대만, 알래스카, 하와이, 괌, 캘리포니아, 칠레 등 태평양 연안 50여 국가에 지진해일 주의보와 경보를 발령하였다.',\n",
       " '다행히도 우리나라는 지진발생위치로부터 1,000km 이상 떨어진데다 일본 열도가 가로막아 지진해일이 도달하지 않았다.',\n",
       " '지진해일은 일본 소마항에 7.3m, 카마이시항에 4.1m, 미야코항에 4m 등 일본 동해안 전역에서 관측되었다.',\n",
       " '지진해일이 원해로 전파되면서 대만(19시 40분)에서 소규모 지진해일과 하와이 섬에서 1.4m(23시 9분)의 지진해일이 관측되었다.',\n",
       " '다음날인 3월 12일 새벽 1시 57분경에는 진앙지로부터 약 7,500km 떨어진 캘리포니아 크레센트시티에서 2.2m의 지진해일이 관측되었다.']"
      ]
     },
     "execution_count": 26,
     "metadata": {},
     "output_type": "execute_result"
    }
   ],
   "source": [
    "text = \"일본기상청과 태평양지진해일경보센터는 3월 11일 오후 2시 49분경에 일본 동해안을 비롯하여 대만, 알래스카, 하와이, 괌, 캘리포니아, 칠레 등 태평양 연안 50여 국가에 지진해일 주의보와 경보를 발령하였다. 다행히도 우리나라는 지진발생위치로부터 1,000km 이상 떨어진데다 일본 열도가 가로막아 지진해일이 도달하지 않았다. 지진해일은 일본 소마항에 7.3m, 카마이시항에 4.1m, 미야코항에 4m 등 일본 동해안 전역에서 관측되었다. 지진해일이 원해로 전파되면서 대만(19시 40분)에서 소규모 지진해일과 하와이 섬에서 1.4m(23시 9분)의 지진해일이 관측되었다. 다음날인 3월 12일 새벽 1시 57분경에는 진앙지로부터 약 7,500km 떨어진 캘리포니아 크레센트시티에서 2.2m의 지진해일이 관측되었다.\"\n",
    "seg(text)"
   ]
  },
  {
   "cell_type": "code",
   "execution_count": null,
   "metadata": {
    "id": "XCf6Jhtgxhz0"
   },
   "outputs": [],
   "source": []
  }
 ],
 "metadata": {
  "colab": {
   "name": "preprocessor.ipynb",
   "provenance": []
  },
  "interpreter": {
   "hash": "f869af7787e6a1c49e09e367fc6e1b81d93d1c6583b43249c80edc047bd13cb2"
  },
  "kernelspec": {
   "display_name": "Python 3",
   "language": "python",
   "name": "python3"
  },
  "language_info": {
   "codemirror_mode": {
    "name": "ipython",
    "version": 3
   },
   "file_extension": ".py",
   "mimetype": "text/x-python",
   "name": "python",
   "nbconvert_exporter": "python",
   "pygments_lexer": "ipython3",
   "version": "3.8.8"
  },
  "widgets": {
   "application/vnd.jupyter.widget-state+json": {
    "state": {},
    "version_major": 2,
    "version_minor": 0
   }
  }
 },
 "nbformat": 4,
 "nbformat_minor": 1
}
