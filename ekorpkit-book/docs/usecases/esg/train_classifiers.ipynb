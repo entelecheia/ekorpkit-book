{
 "cells": [
  {
   "cell_type": "markdown",
   "metadata": {
    "id": "AESO0odcxhzs",
    "pycharm": {
     "name": "#%% md\n"
    }
   },
   "source": [
    "# Training Classifiers for ESG Ratings"
   ]
  },
  {
   "cell_type": "code",
   "execution_count": 1,
   "metadata": {
    "id": "EJ0AoNl-xif_",
    "pycharm": {
     "name": "#%%\n"
    }
   },
   "outputs": [
    {
     "name": "stderr",
     "output_type": "stream",
     "text": [
      "INFO:ekorpkit.utils.notebook:Google Colab not detected.\n",
      "INFO:ekorpkit.base:Set environment variable EKORPKIT_PROJECT_ROOT=/workspace/projects/ekorpkit-book\n",
      "INFO:ekorpkit.base:Set environment variable EKORPKIT_PROJECT_NAME=ekorpkit-book/exmaples\n",
      "INFO:ekorpkit.base:Set environment variable EKORPKIT_PROJECT_ROOT=/workspace/projects/ekorpkit-book/exmaples\n",
      "INFO:ekorpkit.base:Set environment variable EKORPKIT_TASK_NAME=esg\n"
     ]
    },
    {
     "name": "stdout",
     "output_type": "stream",
     "text": [
      "version: 0.1.40.post0.dev54\n",
      "is colab? False\n"
     ]
    },
    {
     "name": "stderr",
     "output_type": "stream",
     "text": [
      "INFO:ekorpkit.base:Set environment variable EKORPKIT_DATA_ROOT=/workspace/data\n",
      "INFO:ekorpkit.base:Set environment variable CACHED_PATH_CACHE_ROOT=/workspace/.cache/cached_path\n"
     ]
    },
    {
     "name": "stdout",
     "output_type": "stream",
     "text": [
      "project_dir: /workspace/projects/ekorpkit-book/exmaples\n",
      "time: 934 ms (started: 2022-12-14 11:30:00 +00:00)\n"
     ]
    }
   ],
   "source": [
    "from ekorpkit import eKonf\n",
    "\n",
    "eKonf.setLogger(\"INFO\")\n",
    "print(\"version:\", eKonf.__version__)\n",
    "\n",
    "is_colab = eKonf.is_colab()\n",
    "print(\"is colab?\", is_colab)\n",
    "if is_colab:\n",
    "    eKonf.mount_google_drive()\n",
    "workspace_dir = \"/workspace\"\n",
    "project_name = \"ekorpkit-book/exmaples\"\n",
    "task_name = \"esg\"\n",
    "ws = eKonf.set_workspace(workspace=workspace_dir, project=project_name, task=task_name)\n",
    "print(\"project_dir:\", ws.project_dir)"
   ]
  },
  {
   "cell_type": "markdown",
   "metadata": {
    "id": "pzjBtQqpnqcy",
    "pycharm": {
     "name": "#%% md\n"
    }
   },
   "source": [
    "## Preparing `esg_polarity_kr` dataset"
   ]
  },
  {
   "cell_type": "code",
   "execution_count": 7,
   "metadata": {
    "colab": {
     "base_uri": "https://localhost:8080/",
     "height": 659
    },
    "id": "RdpBCIbBny8z",
    "outputId": "f655ea5b-5afb-43a1-cfec-7df3e6d32d92",
    "pycharm": {
     "name": "#%%\n"
    },
    "scrolled": false
   },
   "outputs": [
    {
     "name": "stderr",
     "output_type": "stream",
     "text": [
      "INFO:ekorpkit.datasets.base:Loaded info file: /workspace/projects/ekorpkit-book/exmaples/data/inputs/esg_polarity_kr/info-esg_polarity_kr.yaml\n",
      "WARNING:ekorpkit.base:No project config found in {'about': {'name': 'ekorpkit', 'author': 'Young Joon Lee', 'description': 'eKorpkit provides a flexible interface for NLP and ML research pipelines such as extraction, transformation, tokenization, training, and visualization.', 'website': 'https://entelecheia.github.io/ekorpkit-book/', 'version': '${__version__:}'}, 'app_name': '${about.name}', 'name': '${oc.env:EKORPKIT_PROJECT_NAME,ekorpkit-project}', 'root': '${alt:${oc.env:EKORPKIT_WORKSPACE_ROOT,null},${.project.path.home}/.ekorpkit}', 'debug_mode': False, 'print_config': False, 'print_resolved_config': True, 'verbose': False, 'ignore_warnings': True, 'task': {}}\n",
      "INFO:ekorpkit.io.file:Processing [1] files from ['esg_polarity_kr-train.parquet']\n",
      "INFO:ekorpkit.io.file:Loading 1 dataframes from ['/workspace/projects/ekorpkit-book/exmaples/data/inputs/esg_polarity_kr/esg_polarity_kr-train.parquet']\n",
      "INFO:ekorpkit.io.file:Loading data from /workspace/projects/ekorpkit-book/exmaples/data/inputs/esg_polarity_kr/esg_polarity_kr-train.parquet\n",
      "INFO:ekorpkit.info.column:index: index, index of data: index, columns: ['id', 'text', 'labels', 'split'], id: ['id']\n",
      "INFO:ekorpkit.info.column:Adding id [split] to ['id']\n",
      "INFO:ekorpkit.info.column:Added id [split], now ['id', 'split']\n",
      "INFO:ekorpkit.info.column:Added a column [split] with value [train]\n",
      "INFO:ekorpkit.io.file:Processing [1] files from ['esg_polarity_kr-test.parquet']\n",
      "INFO:ekorpkit.io.file:Loading 1 dataframes from ['/workspace/projects/ekorpkit-book/exmaples/data/inputs/esg_polarity_kr/esg_polarity_kr-test.parquet']\n",
      "INFO:ekorpkit.io.file:Loading data from /workspace/projects/ekorpkit-book/exmaples/data/inputs/esg_polarity_kr/esg_polarity_kr-test.parquet\n",
      "INFO:ekorpkit.info.column:Added a column [split] with value [test]\n",
      "INFO:ekorpkit.io.file:Processing [1] files from ['esg_polarity_kr-dev.parquet']\n",
      "INFO:ekorpkit.io.file:Loading 1 dataframes from ['/workspace/projects/ekorpkit-book/exmaples/data/inputs/esg_polarity_kr/esg_polarity_kr-dev.parquet']\n",
      "INFO:ekorpkit.io.file:Loading data from /workspace/projects/ekorpkit-book/exmaples/data/inputs/esg_polarity_kr/esg_polarity_kr-dev.parquet\n",
      "INFO:ekorpkit.info.column:Added a column [split] with value [dev]\n"
     ]
    },
    {
     "name": "stdout",
     "output_type": "stream",
     "text": [
      "Dataset : esg_polarity_kr\n",
      "time: 1.36 s (started: 2022-12-14 11:33:34 +00:00)\n"
     ]
    }
   ],
   "source": [
    "from ekorpkit.datasets.dataset import Dataset\n",
    "\n",
    "ds_cfg = eKonf.compose(\"dataset=dataset\")\n",
    "ds_cfg.name = 'esg_polarity_kr'\n",
    "ds_cfg.data_dir = ds_cfg.path.data_dir\n",
    "# ds = eKonf.instantiate(ds_cfg)\n",
    "# eKonf.print(ds_cfg)\n",
    "ds = Dataset(**ds_cfg)\n",
    "print(ds)"
   ]
  },
  {
   "cell_type": "code",
   "execution_count": 8,
   "metadata": {
    "tags": [
     "hide-output"
    ]
   },
   "outputs": [
    {
     "data": {
      "text/plain": [
       "{'splits': {'train': {'data_file': 'esg_polarity_kr-train.parquet',\n",
       "   'name': 'train',\n",
       "   'num_examples': 8713,\n",
       "   'num_bytes': 5631718,\n",
       "   'num_bytes_median': 694.0,\n",
       "   'num_bytes_max': 3196,\n",
       "   'num_bytes_min': 28,\n",
       "   'human_bytes': '5.37 MiB'},\n",
       "  'test': {'data_file': 'esg_polarity_kr-test.parquet',\n",
       "   'name': 'test',\n",
       "   'num_examples': 2724,\n",
       "   'num_bytes': 1764544,\n",
       "   'num_bytes_median': 697.0,\n",
       "   'num_bytes_max': 1893,\n",
       "   'num_bytes_min': 77,\n",
       "   'human_bytes': '1.68 MiB'},\n",
       "  'dev': {'data_file': 'esg_polarity_kr-dev.parquet',\n",
       "   'name': 'dev',\n",
       "   'num_examples': 2179,\n",
       "   'num_bytes': 1411447,\n",
       "   'num_bytes_median': 696.0,\n",
       "   'num_bytes_max': 3295,\n",
       "   'num_bytes_min': 16,\n",
       "   'human_bytes': '1.35 MiB'}},\n",
       " 'num_examples': 13616,\n",
       " 'size_in_bytes': 8807709,\n",
       " 'size_in_human_bytes': '8.40 MiB',\n",
       " 'data_files': {'train': 'esg_polarity_kr-train.parquet',\n",
       "  'test': 'esg_polarity_kr-test.parquet',\n",
       "  'dev': 'esg_polarity_kr-dev.parquet'},\n",
       " 'meta_files': {},\n",
       " 'data_files_modified': '2022-07-11 04:30:34',\n",
       " 'info_updated': '2022-07-11 04:30:34',\n",
       " 'column_info': {'columns': {'id': ['id', 'split'], 'text': 'text'},\n",
       "  'datetime': {'columns': None, 'format': None, 'rcParams': None},\n",
       "  'data': {'id': 'int64',\n",
       "   'text': 'object',\n",
       "   'labels': 'object',\n",
       "   'split': 'str'}}}"
      ]
     },
     "execution_count": 8,
     "metadata": {},
     "output_type": "execute_result"
    },
    {
     "name": "stdout",
     "output_type": "stream",
     "text": [
      "time: 2.68 ms (started: 2022-12-14 11:33:39 +00:00)\n"
     ]
    }
   ],
   "source": [
    "ds.INFO"
   ]
  },
  {
   "cell_type": "markdown",
   "metadata": {
    "id": "3uhF3cDynUuj",
    "outputId": "a50d12e1-9ab3-4496-af54-cae58051f1ed",
    "pycharm": {
     "name": "#%% md\n"
    }
   },
   "source": [
    "## Training a polarity classficiation model with `esg_polarity_kr` dataset"
   ]
  },
  {
   "cell_type": "code",
   "execution_count": 11,
   "metadata": {
    "id": "i9__LTKOnUuj",
    "pycharm": {
     "name": "#%%\n"
    },
    "scrolled": false,
    "tags": [
     "hide-output"
    ]
   },
   "outputs": [
    {
     "name": "stdout",
     "output_type": "stream",
     "text": [
      "{'_target_': 'ekorpkit.models.transformer.SimpleClassification',\n",
      " 'about': {'author': 'Young Joon Lee',\n",
      "           'description': 'eKorpkit provides a flexible interface for NLP and '\n",
      "                          'ML research pipelines such as extraction, '\n",
      "                          'transformation, tokenization, training, and '\n",
      "                          'visualization.',\n",
      "           'name': 'ekorpkit',\n",
      "           'version': '0.1.40.post0.dev54',\n",
      "           'website': 'https://entelecheia.github.io/ekorpkit-book/'},\n",
      " 'app_name': 'ekorpkit',\n",
      " 'auto': {},\n",
      " 'batch': {'batch_name': 'esg_polarity',\n",
      "           'batch_num': None,\n",
      "           'device': 'cpu',\n",
      "           'num_devices': None,\n",
      "           'num_workers': 1,\n",
      "           'output_dir': '/workspace/projects/ekorpkit-book/exmaples/esg/nlp/outputs',\n",
      "           'output_extention': None,\n",
      "           'output_suffix': None,\n",
      "           'pred_file': 'preds.parquet',\n",
      "           'random_seed': True,\n",
      "           'resume_latest': False,\n",
      "           'resume_run': False,\n",
      "           'run_to_resume': 'latest',\n",
      "           'seed': None,\n",
      "           'verbose': False},\n",
      " 'columns': {'actual': 'labels',\n",
      "             'id': 'id',\n",
      "             'input': 'text',\n",
      "             'labels': 'labels',\n",
      "             'model_outputs': 'raw_preds',\n",
      "             'pred_probs': 'pred_probs',\n",
      "             'predict': {'input': 'text',\n",
      "                         'model_outputs': 'raw_preds',\n",
      "                         'pred_probs': 'pred_probs',\n",
      "                         'predicted': 'pred_labels'},\n",
      "             'predicted': 'pred_labels',\n",
      "             'text': 'text',\n",
      "             'train': {'input': 'text',\n",
      "                       'model_outputs': 'raw_preds',\n",
      "                       'pred_probs': 'pred_probs',\n",
      "                       'predicted': 'pred_labels'}},\n",
      " 'dataset': {'class_cloumn_name': 'classes',\n",
      "             'concat_data': False,\n",
      "             'data_columns': None,\n",
      "             'data_dir': '/workspace/projects/ekorpkit-book/exmaples/esg/nlp/inputs',\n",
      "             'data_file': None,\n",
      "             'data_files': None,\n",
      "             'dataset_name': None,\n",
      "             'encode_labels': False,\n",
      "             'label_column_name': 'labels',\n",
      "             'seed': None,\n",
      "             'shuffle': False,\n",
      "             'test_split_ratio': None,\n",
      "             'verbose': False},\n",
      " 'debug_mode': False,\n",
      " 'ignore_warnings': True,\n",
      " 'model': {'cache_dir': '/workspace/.cache/models',\n",
      "           'device': 'cuda:-1',\n",
      "           'log_dir': '/workspace/projects/ekorpkit-book/exmaples/esg/logs',\n",
      "           'model_class': 'classification',\n",
      "           'model_name': 'ekonelectra-base',\n",
      "           'model_name_or_path': 'entelecheia/ekonelectra-base-discriminator',\n",
      "           'model_type': 'electra',\n",
      "           'num_labels': None,\n",
      "           'output_dir': '/workspace/projects/ekorpkit-book/exmaples/esg/nlp/models/ekonelectra-base/esg_polarity',\n",
      "           'overwrite_output_dir': False,\n",
      "           'pretrained': {'model_name': 'ekonelectra-base',\n",
      "                          'model_name_or_path': 'entelecheia/ekonelectra-base-discriminator',\n",
      "                          'model_type': 'electra'},\n",
      "           'tokenizer_name': None,\n",
      "           'tokenizer_type': None,\n",
      "           'wandb_group': 'ekonelectra-base',\n",
      "           'wandb_project': 'ekorpkit-book/exmaples/esg/esg_polarity'},\n",
      " 'name': 'esg_polarity',\n",
      " 'path': {'batch_dir': '/workspace/projects/ekorpkit-book/exmaples/esg/nlp/outputs/esg_polarity',\n",
      "          'batch_name': 'esg_polarity',\n",
      "          'cache_dir': '/workspace/.cache',\n",
      "          'data_dir': '/workspace/projects/ekorpkit-book/exmaples/esg/nlp/inputs',\n",
      "          'library_dir': '/workspace/projects/ekorpkit-book/exmaples/esg/nlp/libs',\n",
      "          'log_dir': '/workspace/projects/ekorpkit-book/exmaples/esg/logs',\n",
      "          'model_dir': '/workspace/projects/ekorpkit-book/exmaples/esg/nlp/models',\n",
      "          'output_dir': '/workspace/projects/ekorpkit-book/exmaples/esg/nlp/outputs',\n",
      "          'root': '/workspace/projects/ekorpkit-book/exmaples/esg/nlp',\n",
      "          'task_name': 'nlp',\n",
      "          'tmp_dir': '/workspace/.tmp',\n",
      "          'verbose': False},\n",
      " 'print_config': False,\n",
      " 'print_resolved_config': True,\n",
      " 'project': {'description': None,\n",
      "             'env': {'batcher': {'backend': 'joblib',\n",
      "                                 'minibatch_size': 1000,\n",
      "                                 'procs': 50,\n",
      "                                 'task_num_cpus': 1,\n",
      "                                 'task_num_gpus': 0,\n",
      "                                 'verbose': 10},\n",
      "                     'dask': {'n_workers': 50},\n",
      "                     'distributed_framework': {'backend': 'joblib',\n",
      "                                               'initialize': True,\n",
      "                                               'num_workers': 50},\n",
      "                     'dotenv': None,\n",
      "                     'dotenv_path': '/workspace/projects/ekorpkit-book/ekorpkit-book/docs/usecases/esg/.env',\n",
      "                     'ray': {'num_cpus': 50}},\n",
      "             'path': {'archive': '/workspace/data/archive',\n",
      "                      'cache': '/workspace/.cache',\n",
      "                      'corpus': '/workspace/data/datasets/corpus',\n",
      "                      'data': '/workspace/data',\n",
      "                      'datasets': '/workspace/data/datasets',\n",
      "                      'ekorpkit': '/workspace/projects/ekorpkit/ekorpkit',\n",
      "                      'home': '/root',\n",
      "                      'library': '/workspace/data/libs',\n",
      "                      'logs': '/workspace/projects/ekorpkit-book/exmaples/esg/logs',\n",
      "                      'models': '/workspace/data/models',\n",
      "                      'outputs': '/workspace/projects/ekorpkit-book/exmaples/esg/outputs',\n",
      "                      'project': '/workspace/projects/ekorpkit-book/exmaples/esg',\n",
      "                      'resources': '/workspace/projects/ekorpkit/ekorpkit/resources',\n",
      "                      'runtime': '/workspace/projects/ekorpkit-book/ekorpkit-book/docs/usecases/esg',\n",
      "                      'tmp': '/workspace/.tmp',\n",
      "                      'workspace': '/workspace'},\n",
      "             'project_name': 'ekorpkit-book/exmaples/esg',\n",
      "             'project_root': '/workspace/projects/ekorpkit-book/exmaples/esg',\n",
      "             'task_name': 'nlp',\n",
      "             'use_huggingface_hub': True,\n",
      "             'use_wandb': False,\n",
      "             'verbose': False,\n",
      "             'workspace_root': '/workspace'},\n",
      " 'root': '/workspace',\n",
      " 'trainer': {'eval_batch_size': 48,\n",
      "             'evaluate_during_training': True,\n",
      "             'evaluate_during_training_steps': 15000,\n",
      "             'evaluate_during_training_verbose': True,\n",
      "             'fp16': False,\n",
      "             'max_seq_length': 256,\n",
      "             'num_train_epochs': 2,\n",
      "             'overwrite_output_dir': True,\n",
      "             'regression': False,\n",
      "             'reprocess_input_data': True,\n",
      "             'save_eval_checkpoints': False,\n",
      "             'save_model_every_epoch': False,\n",
      "             'save_steps': -1,\n",
      "             'sliding_window': True,\n",
      "             'stride': 0.8,\n",
      "             'tie_value': 1,\n",
      "             'train_batch_size': 32,\n",
      "             'use_multiprocessing': False,\n",
      "             'use_multiprocessing_for_evaluation': False},\n",
      " 'verbose': False}\n",
      "time: 741 ms (started: 2022-12-14 11:22:32 +00:00)\n"
     ]
    }
   ],
   "source": [
    "overrides=[\n",
    "    '+model/pretrained=ekonelectra-base',\n",
    "]\n",
    "model_cfg = eKonf.compose('task=simple.classification', overrides)\n",
    "model_cfg.name = \"esg_polarity\"\n",
    "# model_cfg.dataset = ds_cfg\n",
    "model_cfg.trainer.num_train_epochs = 2\n",
    "model_cfg.trainer.max_seq_length = 256\n",
    "model_cfg.trainer.train_batch_size = 32\n",
    "# model_cfg.trainer.eval_batch_size = 32\n",
    "# model_cfg.labels = ['positive','neutral','negative']\n",
    "eKonf.print(model_cfg)\n",
    "# model_cfg"
   ]
  },
  {
   "cell_type": "code",
   "execution_count": 6,
   "metadata": {
    "pycharm": {
     "name": "#%%\n"
    }
   },
   "outputs": [
    {
     "name": "stderr",
     "output_type": "stream",
     "text": [
      "INFO:ekorpkit.base:Calling eval\n"
     ]
    },
    {
     "data": {
      "application/json": {
       "ascii": false,
       "bar_format": null,
       "colour": null,
       "elapsed": 0.016164302825927734,
       "initial": 0,
       "n": 0,
       "ncols": null,
       "nrows": null,
       "postfix": null,
       "prefix": "",
       "rate": null,
       "total": 2724,
       "unit": "it",
       "unit_divisor": 1000,
       "unit_scale": false
      },
      "application/vnd.jupyter.widget-view+json": {
       "model_id": "b8256fe6759247808cfcefc44d1e5d0d",
       "version_major": 2,
       "version_minor": 0
      },
      "text/plain": [
       "  0%|          | 0/2724 [00:00<?, ?it/s]"
      ]
     },
     "metadata": {},
     "output_type": "display_data"
    },
    {
     "data": {
      "application/json": {
       "ascii": false,
       "bar_format": null,
       "colour": null,
       "elapsed": 0.013976335525512695,
       "initial": 0,
       "n": 0,
       "ncols": null,
       "nrows": null,
       "postfix": null,
       "prefix": "",
       "rate": null,
       "total": 87,
       "unit": "it",
       "unit_divisor": 1000,
       "unit_scale": false
      },
      "application/vnd.jupyter.widget-view+json": {
       "model_id": "6d87868526954ab7bfa3b7b48dd60dc1",
       "version_major": 2,
       "version_minor": 0
      },
      "text/plain": [
       "  0%|          | 0/87 [00:00<?, ?it/s]"
      ]
     },
     "metadata": {},
     "output_type": "display_data"
    },
    {
     "name": "stdout",
     "output_type": "stream",
     "text": [
      "Accuracy:  0.7415565345080763\n",
      "Precison:  0.747426483301581\n",
      "Recall:  0.7415565345080763\n",
      "F1 Score:  0.7432338387288551\n",
      "Model Report: \n",
      "___________________________________________________\n",
      "              precision    recall  f1-score   support\n",
      "\n",
      "    Negative       0.61      0.53      0.57       239\n",
      "     Neutral       0.82      0.79      0.81      1805\n",
      "    Positive       0.60      0.69      0.64       680\n",
      "\n",
      "    accuracy                           0.74      2724\n",
      "   macro avg       0.68      0.67      0.67      2724\n",
      "weighted avg       0.75      0.74      0.74      2724\n",
      "\n"
     ]
    },
    {
     "data": {
      "text/plain": [
       "<ekorpkit.models.transformer.simple.SimpleClassification at 0x7f52c40a8e20>"
      ]
     },
     "execution_count": 6,
     "metadata": {},
     "output_type": "execute_result"
    },
    {
     "data": {
      "image/png": "[encoded data removed]",
      "text/plain": [
       "<Figure size 720x360 with 2 Axes>"
      ]
     },
     "metadata": {
      "image/png": {
       "height": 331,
       "width": 644
      }
     },
     "output_type": "display_data"
    }
   ],
   "source": [
    "model_cfg._method_ = ['eval']\n",
    "eKonf.instantiate(model_cfg)"
   ]
  },
  {
   "cell_type": "markdown",
   "metadata": {
    "pycharm": {
     "name": "#%% md\n"
    }
   },
   "source": [
    "## Preparing `esg_topics_improved` dataset"
   ]
  },
  {
   "cell_type": "code",
   "execution_count": 7,
   "metadata": {
    "pycharm": {
     "name": "#%%\n"
    }
   },
   "outputs": [
    {
     "name": "stdout",
     "output_type": "stream",
     "text": [
      "['S-기업(공급망)동반성장/상생', 'G-지배구조', 'G-기업윤리/불공정/소송', 'S-소비자', 'E-환경혁신', 'S-사회공헌', 'S-고용', 'E-환경영향', 'E-기후변화', 'S-재해/안전관리']\n"
     ]
    }
   ],
   "source": [
    "ds_cfg = eKonf.compose('dataset')\n",
    "ds_cfg.name = 'esg_topics_improved'\n",
    "ds_cfg.data_dir = '/workspace/data/datasets/simple'\n",
    "ds = eKonf.instantiate(ds_cfg)\n",
    "labels = list(ds.splits['train'].labels.unique())\n",
    "print(labels)"
   ]
  },
  {
   "cell_type": "markdown",
   "metadata": {
    "pycharm": {
     "name": "#%% md\n"
    }
   },
   "source": [
    "## Training a category classficiation model with `esg_topics_improved` dataset"
   ]
  },
  {
   "cell_type": "code",
   "execution_count": 8,
   "metadata": {
    "pycharm": {
     "name": "#%%\n"
    },
    "scrolled": true,
    "tags": [
     "hide-output"
    ]
   },
   "outputs": [
    {
     "name": "stderr",
     "output_type": "stream",
     "text": [
      "INFO:ekorpkit.base:Calling train\n",
      "Some weights of the model checkpoint at entelecheia/ekonelectra-base-discriminator were not used when initializing ElectraForSequenceClassification: ['discriminator_predictions.dense_prediction.bias', 'discriminator_predictions.dense.weight', 'discriminator_predictions.dense_prediction.weight', 'discriminator_predictions.dense.bias']\n",
      "- This IS expected if you are initializing ElectraForSequenceClassification from the checkpoint of a model trained on another task or with another architecture (e.g. initializing a BertForSequenceClassification model from a BertForPreTraining model).\n",
      "- This IS NOT expected if you are initializing ElectraForSequenceClassification from the checkpoint of a model that you expect to be exactly identical (initializing a BertForSequenceClassification model from a BertForSequenceClassification model).\n",
      "Some weights of ElectraForSequenceClassification were not initialized from the model checkpoint at entelecheia/ekonelectra-base-discriminator and are newly initialized: ['classifier.out_proj.bias', 'classifier.out_proj.weight', 'classifier.dense.bias', 'classifier.dense.weight']\n",
      "You should probably TRAIN this model on a down-stream task to be able to use it for predictions and inference.\n"
     ]
    },
    {
     "data": {
      "application/json": {
       "ascii": false,
       "bar_format": null,
       "colour": null,
       "elapsed": 0.013862133026123047,
       "initial": 0,
       "n": 0,
       "ncols": null,
       "nrows": null,
       "postfix": null,
       "prefix": "",
       "rate": null,
       "total": 8953,
       "unit": "it",
       "unit_divisor": 1000,
       "unit_scale": false
      },
      "application/vnd.jupyter.widget-view+json": {
       "model_id": "b892abc8e2fc44898dc545480a56dd55",
       "version_major": 2,
       "version_minor": 0
      },
      "text/plain": [
       "  0%|          | 0/8953 [00:00<?, ?it/s]"
      ]
     },
     "metadata": {},
     "output_type": "display_data"
    },
    {
     "name": "stderr",
     "output_type": "stream",
     "text": [
      "Token indices sequence length is longer than the specified maximum sequence length for this model (731 > 512). Running this sequence through the model will result in indexing errors\n"
     ]
    },
    {
     "data": {
      "application/json": {
       "ascii": false,
       "bar_format": null,
       "colour": null,
       "elapsed": 0.013896703720092773,
       "initial": 0,
       "n": 0,
       "ncols": null,
       "nrows": null,
       "postfix": null,
       "prefix": "Epoch",
       "rate": null,
       "total": 2,
       "unit": "it",
       "unit_divisor": 1000,
       "unit_scale": false
      },
      "application/vnd.jupyter.widget-view+json": {
       "model_id": "98c40a72553e410bbf4b6facf6383ca0",
       "version_major": 2,
       "version_minor": 0
      },
      "text/plain": [
       "Epoch:   0%|          | 0/2 [00:00<?, ?it/s]"
      ]
     },
     "metadata": {},
     "output_type": "display_data"
    },
    {
     "data": {
      "text/html": [
       "Finishing last run (ID:3ml02loa) before initializing another..."
      ],
      "text/plain": [
       "<IPython.core.display.HTML object>"
      ]
     },
     "metadata": {},
     "output_type": "display_data"
    },
    {
     "data": {
      "text/html": [
       "Waiting for W&B process to finish... <strong style=\"color:green\">(success).</strong>"
      ],
      "text/plain": [
       "<IPython.core.display.HTML object>"
      ]
     },
     "metadata": {},
     "output_type": "display_data"
    },
    {
     "data": {
      "application/vnd.jupyter.widget-view+json": {
       "model_id": "",
       "version_major": 2,
       "version_minor": 0
      },
      "text/plain": [
       "VBox(children=(Label(value='0.002 MB of 0.002 MB uploaded (0.000 MB deduped)\\r'), FloatProgress(value=1.0, max…"
      ]
     },
     "metadata": {},
     "output_type": "display_data"
    },
    {
     "data": {
      "text/html": [
       "Synced <strong style=\"color:#cdcd00\">whole-puddle-9</strong>: <a href=\"https://wandb.ai/entelecheia/ekorpkit-book-esg_polarity/runs/3ml02loa\" target=\"_blank\">https://wandb.ai/entelecheia/ekorpkit-book-esg_polarity/runs/3ml02loa</a><br/>Synced 5 W&B file(s), 1 media file(s), 1 artifact file(s) and 0 other file(s)"
      ],
      "text/plain": [
       "<IPython.core.display.HTML object>"
      ]
     },
     "metadata": {},
     "output_type": "display_data"
    },
    {
     "data": {
      "text/html": [
       "Find logs at: <code>/workspace/projects/ekorpkit-book/outputs/esg_polarity/ekonelectra-base/wandb/run-20220906_082017-3ml02loa/logs</code>"
      ],
      "text/plain": [
       "<IPython.core.display.HTML object>"
      ]
     },
     "metadata": {},
     "output_type": "display_data"
    },
    {
     "data": {
      "text/html": [
       "Successfully finished last run (ID:3ml02loa). Initializing new run:<br/>"
      ],
      "text/plain": [
       "<IPython.core.display.HTML object>"
      ]
     },
     "metadata": {},
     "output_type": "display_data"
    },
    {
     "name": "stdout",
     "output_type": "stream",
     "text": [
      "huggingface/tokenizers: The current process just got forked, after parallelism has already been used. Disabling parallelism to avoid deadlocks...\n",
      "To disable this warning, you can either:\n",
      "\t- Avoid using `tokenizers` before the fork if possible\n",
      "\t- Explicitly set the environment variable TOKENIZERS_PARALLELISM=(true | false)\n"
     ]
    },
    {
     "data": {
      "text/html": [
       "Tracking run with wandb version 0.13.2"
      ],
      "text/plain": [
       "<IPython.core.display.HTML object>"
      ]
     },
     "metadata": {},
     "output_type": "display_data"
    },
    {
     "data": {
      "text/html": [
       "Run data is saved locally in <code>/workspace/projects/ekorpkit-book/outputs/esg_topics/ekonelectra-base/wandb/run-20220906_082130-tlf4xqgt</code>"
      ],
      "text/plain": [
       "<IPython.core.display.HTML object>"
      ]
     },
     "metadata": {},
     "output_type": "display_data"
    },
    {
     "data": {
      "text/html": [
       "Syncing run <strong><a href=\"https://wandb.ai/entelecheia/ekorpkit-book-esg_topics/runs/tlf4xqgt\" target=\"_blank\">autumn-durian-99</a></strong> to <a href=\"https://wandb.ai/entelecheia/ekorpkit-book-esg_topics\" target=\"_blank\">Weights & Biases</a> (<a href=\"https://wandb.me/run\" target=\"_blank\">docs</a>)<br/>"
      ],
      "text/plain": [
       "<IPython.core.display.HTML object>"
      ]
     },
     "metadata": {},
     "output_type": "display_data"
    },
    {
     "data": {
      "application/json": {
       "ascii": false,
       "bar_format": null,
       "colour": null,
       "elapsed": 0.014087677001953125,
       "initial": 0,
       "n": 0,
       "ncols": null,
       "nrows": null,
       "postfix": null,
       "prefix": "Running Epoch 0 of 2",
       "rate": null,
       "total": 289,
       "unit": "it",
       "unit_divisor": 1000,
       "unit_scale": false
      },
      "application/vnd.jupyter.widget-view+json": {
       "model_id": "5b7e72f8edf94d55af8efeb90df69ea5",
       "version_major": 2,
       "version_minor": 0
      },
      "text/plain": [
       "Running Epoch 0 of 2:   0%|          | 0/289 [00:00<?, ?it/s]"
      ]
     },
     "metadata": {},
     "output_type": "display_data"
    },
    {
     "data": {
      "application/json": {
       "ascii": false,
       "bar_format": null,
       "colour": null,
       "elapsed": 0.014039039611816406,
       "initial": 0,
       "n": 0,
       "ncols": null,
       "nrows": null,
       "postfix": null,
       "prefix": "Running Epoch 1 of 2",
       "rate": null,
       "total": 289,
       "unit": "it",
       "unit_divisor": 1000,
       "unit_scale": false
      },
      "application/vnd.jupyter.widget-view+json": {
       "model_id": "0d3ed3e199af49a7a0a1a51d40c4e703",
       "version_major": 2,
       "version_minor": 0
      },
      "text/plain": [
       "Running Epoch 1 of 2:   0%|          | 0/289 [00:00<?, ?it/s]"
      ]
     },
     "metadata": {},
     "output_type": "display_data"
    },
    {
     "data": {
      "application/json": {
       "ascii": false,
       "bar_format": null,
       "colour": null,
       "elapsed": 0.013792753219604492,
       "initial": 0,
       "n": 0,
       "ncols": null,
       "nrows": null,
       "postfix": null,
       "prefix": "",
       "rate": null,
       "total": 1106,
       "unit": "it",
       "unit_divisor": 1000,
       "unit_scale": false
      },
      "application/vnd.jupyter.widget-view+json": {
       "model_id": "95213d79b1da4dc5977187e7dbfdab63",
       "version_major": 2,
       "version_minor": 0
      },
      "text/plain": [
       "  0%|          | 0/1106 [00:00<?, ?it/s]"
      ]
     },
     "metadata": {},
     "output_type": "display_data"
    },
    {
     "data": {
      "application/json": {
       "ascii": false,
       "bar_format": null,
       "colour": null,
       "elapsed": 0.013723611831665039,
       "initial": 0,
       "n": 0,
       "ncols": null,
       "nrows": null,
       "postfix": null,
       "prefix": "Running Evaluation",
       "rate": null,
       "total": 36,
       "unit": "it",
       "unit_divisor": 1000,
       "unit_scale": false
      },
      "application/vnd.jupyter.widget-view+json": {
       "model_id": "2aa5ac34664f444a98423f5aaa0b314d",
       "version_major": 2,
       "version_minor": 0
      },
      "text/plain": [
       "Running Evaluation:   0%|          | 0/36 [00:00<?, ?it/s]"
      ]
     },
     "metadata": {},
     "output_type": "display_data"
    },
    {
     "data": {
      "text/html": [
       "Finishing last run (ID:tlf4xqgt) before initializing another..."
      ],
      "text/plain": [
       "<IPython.core.display.HTML object>"
      ]
     },
     "metadata": {},
     "output_type": "display_data"
    },
    {
     "data": {
      "text/html": [
       "Waiting for W&B process to finish... <strong style=\"color:green\">(success).</strong>"
      ],
      "text/plain": [
       "<IPython.core.display.HTML object>"
      ]
     },
     "metadata": {},
     "output_type": "display_data"
    },
    {
     "data": {
      "application/vnd.jupyter.widget-view+json": {
       "model_id": "",
       "version_major": 2,
       "version_minor": 0
      },
      "text/plain": [
       "VBox(children=(Label(value='0.001 MB of 0.001 MB uploaded (0.000 MB deduped)\\r'), FloatProgress(value=1.0, max…"
      ]
     },
     "metadata": {},
     "output_type": "display_data"
    },
    {
     "data": {
      "text/html": [
       "<style>\n",
       "    table.wandb td:nth-child(1) { padding: 0 10px; text-align: left ; width: auto;} td:nth-child(2) {text-align: left ; width: 100%}\n",
       "    .wandb-row { display: flex; flex-direction: row; flex-wrap: wrap; justify-content: flex-start; width: 100% }\n",
       "    .wandb-col { display: flex; flex-direction: column; flex-basis: 100%; flex: 1; padding: 10px; }\n",
       "    </style>\n",
       "<div class=\"wandb-row\"><div class=\"wandb-col\"><h3>Run history:</h3><br/><table class=\"wandb\"><tr><td>Training loss</td><td>█▇▄▄▄▂▂▁▄▃▁</td></tr><tr><td>acc</td><td>▁█</td></tr><tr><td>eval_loss</td><td>█▁</td></tr><tr><td>global_step</td><td>▁▂▂▃▄▄▄▅▆▆▇██</td></tr><tr><td>lr</td><td>█▇▇▆▅▄▄▃▂▂▁</td></tr><tr><td>mcc</td><td>▁█</td></tr><tr><td>train_loss</td><td>▁█</td></tr></table><br/></div><div class=\"wandb-col\"><h3>Run summary:</h3><br/><table class=\"wandb\"><tr><td>Training loss</td><td>0.37387</td></tr><tr><td>acc</td><td>0.77688</td></tr><tr><td>eval_loss</td><td>0.77565</td></tr><tr><td>global_step</td><td>578</td></tr><tr><td>lr</td><td>0.0</td></tr><tr><td>mcc</td><td>0.73578</td></tr><tr><td>train_loss</td><td>1.0478</td></tr></table><br/></div></div>"
      ],
      "text/plain": [
       "<IPython.core.display.HTML object>"
      ]
     },
     "metadata": {},
     "output_type": "display_data"
    },
    {
     "data": {
      "text/html": [
       "Synced <strong style=\"color:#cdcd00\">autumn-durian-99</strong>: <a href=\"https://wandb.ai/entelecheia/ekorpkit-book-esg_topics/runs/tlf4xqgt\" target=\"_blank\">https://wandb.ai/entelecheia/ekorpkit-book-esg_topics/runs/tlf4xqgt</a><br/>Synced 4 W&B file(s), 0 media file(s), 0 artifact file(s) and 0 other file(s)"
      ],
      "text/plain": [
       "<IPython.core.display.HTML object>"
      ]
     },
     "metadata": {},
     "output_type": "display_data"
    },
    {
     "data": {
      "text/html": [
       "Find logs at: <code>/workspace/projects/ekorpkit-book/outputs/esg_topics/ekonelectra-base/wandb/run-20220906_082130-tlf4xqgt/logs</code>"
      ],
      "text/plain": [
       "<IPython.core.display.HTML object>"
      ]
     },
     "metadata": {},
     "output_type": "display_data"
    },
    {
     "data": {
      "text/html": [
       "Successfully finished last run (ID:tlf4xqgt). Initializing new run:<br/>"
      ],
      "text/plain": [
       "<IPython.core.display.HTML object>"
      ]
     },
     "metadata": {},
     "output_type": "display_data"
    },
    {
     "name": "stdout",
     "output_type": "stream",
     "text": [
      "huggingface/tokenizers: The current process just got forked, after parallelism has already been used. Disabling parallelism to avoid deadlocks...\n",
      "To disable this warning, you can either:\n",
      "\t- Avoid using `tokenizers` before the fork if possible\n",
      "\t- Explicitly set the environment variable TOKENIZERS_PARALLELISM=(true | false)\n"
     ]
    },
    {
     "data": {
      "text/html": [
       "Tracking run with wandb version 0.13.2"
      ],
      "text/plain": [
       "<IPython.core.display.HTML object>"
      ]
     },
     "metadata": {},
     "output_type": "display_data"
    },
    {
     "data": {
      "text/html": [
       "Run data is saved locally in <code>/workspace/projects/ekorpkit-book/outputs/esg_topics/ekonelectra-base/wandb/run-20220906_082259-166sgllt</code>"
      ],
      "text/plain": [
       "<IPython.core.display.HTML object>"
      ]
     },
     "metadata": {},
     "output_type": "display_data"
    },
    {
     "data": {
      "text/html": [
       "Syncing run <strong><a href=\"https://wandb.ai/entelecheia/ekorpkit-book-esg_topics/runs/166sgllt\" target=\"_blank\">logical-night-100</a></strong> to <a href=\"https://wandb.ai/entelecheia/ekorpkit-book-esg_topics\" target=\"_blank\">Weights & Biases</a> (<a href=\"https://wandb.me/run\" target=\"_blank\">docs</a>)<br/>"
      ],
      "text/plain": [
       "<IPython.core.display.HTML object>"
      ]
     },
     "metadata": {},
     "output_type": "display_data"
    },
    {
     "data": {
      "text/plain": [
       "<ekorpkit.models.transformer.simple.SimpleClassification at 0x7f5243c804c0>"
      ]
     },
     "execution_count": 8,
     "metadata": {},
     "output_type": "execute_result"
    }
   ],
   "source": [
    "overrides=[\n",
    "    '+model/transformer=classification',\n",
    "    '+model/transformer/pretrained=ekonelectra-base',\n",
    "]\n",
    "model_cfg = eKonf.compose('model/transformer=classification', overrides)\n",
    "model_cfg.name = \"esg_topics\"\n",
    "model_cfg.dataset = ds_cfg\n",
    "model_cfg.verbose = False\n",
    "model_cfg.config.num_train_epochs = 2\n",
    "model_cfg.config.max_seq_length = 256\n",
    "model_cfg.config.train_batch_size = 32\n",
    "model_cfg.config.eval_batch_size = 32\n",
    "model_cfg._method_ = ['train']\n",
    "eKonf.instantiate(model_cfg)"
   ]
  },
  {
   "cell_type": "code",
   "execution_count": 9,
   "metadata": {
    "pycharm": {
     "name": "#%%\n"
    },
    "scrolled": false
   },
   "outputs": [
    {
     "name": "stderr",
     "output_type": "stream",
     "text": [
      "INFO:ekorpkit.base:Calling eval\n"
     ]
    },
    {
     "data": {
      "application/json": {
       "ascii": false,
       "bar_format": null,
       "colour": null,
       "elapsed": 0.014699220657348633,
       "initial": 0,
       "n": 0,
       "ncols": null,
       "nrows": null,
       "postfix": null,
       "prefix": "",
       "rate": null,
       "total": 1106,
       "unit": "it",
       "unit_divisor": 1000,
       "unit_scale": false
      },
      "application/vnd.jupyter.widget-view+json": {
       "model_id": "134863c24089436f8ef86da5a2e50aab",
       "version_major": 2,
       "version_minor": 0
      },
      "text/plain": [
       "  0%|          | 0/1106 [00:00<?, ?it/s]"
      ]
     },
     "metadata": {},
     "output_type": "display_data"
    },
    {
     "name": "stderr",
     "output_type": "stream",
     "text": [
      "Token indices sequence length is longer than the specified maximum sequence length for this model (712 > 512). Running this sequence through the model will result in indexing errors\n"
     ]
    },
    {
     "data": {
      "application/json": {
       "ascii": false,
       "bar_format": null,
       "colour": null,
       "elapsed": 0.013459444046020508,
       "initial": 0,
       "n": 0,
       "ncols": null,
       "nrows": null,
       "postfix": null,
       "prefix": "",
       "rate": null,
       "total": 36,
       "unit": "it",
       "unit_divisor": 1000,
       "unit_scale": false
      },
      "application/vnd.jupyter.widget-view+json": {
       "model_id": "9a8f019a1781452583d1408a91072821",
       "version_major": 2,
       "version_minor": 0
      },
      "text/plain": [
       "  0%|          | 0/36 [00:00<?, ?it/s]"
      ]
     },
     "metadata": {},
     "output_type": "display_data"
    },
    {
     "name": "stdout",
     "output_type": "stream",
     "text": [
      "Accuracy:  0.77124773960217\n",
      "Precison:  0.772127422955764\n",
      "Recall:  0.77124773960217\n",
      "F1 Score:  0.7653639797849325\n",
      "Model Report: \n",
      "___________________________________________________\n",
      "                  precision    recall  f1-score   support\n",
      "\n",
      "          E-기후변화       0.73      0.65      0.69        63\n",
      "          E-환경영향       0.49      0.51      0.50        61\n",
      "          E-환경혁신       0.66      0.77      0.71       102\n",
      "   G-기업윤리/불공정/소송       0.65      0.55      0.60        91\n",
      "          G-지배구조       0.82      0.87      0.84       172\n",
      "            S-고용       0.87      0.91      0.89       156\n",
      "S-기업(공급망)동반성장/상생       0.85      0.28      0.42        39\n",
      "          S-사회공헌       0.77      0.87      0.81        68\n",
      "           S-소비자       0.82      0.84      0.83       317\n",
      "       S-재해/안전관리       0.79      0.70      0.74        37\n",
      "\n",
      "        accuracy                           0.77      1106\n",
      "       macro avg       0.74      0.69      0.70      1106\n",
      "    weighted avg       0.77      0.77      0.77      1106\n",
      "\n"
     ]
    },
    {
     "data": {
      "text/plain": [
       "<ekorpkit.models.transformer.simple.SimpleClassification at 0x7f5298178550>"
      ]
     },
     "execution_count": 9,
     "metadata": {},
     "output_type": "execute_result"
    },
    {
     "data": {
      "image/png": "[encoded data removed]",
      "text/plain": [
       "<Figure size 864x720 with 2 Axes>"
      ]
     },
     "metadata": {
      "image/png": {
       "height": 691,
       "width": 789
      }
     },
     "output_type": "display_data"
    }
   ],
   "source": [
    "model_cfg._method_ = ['eval']\n",
    "model_cfg.model.eval.visualize.plot.confusion_matrix.include_values = False\n",
    "model_cfg.model.eval.visualize.plot.confusion_matrix.include_percentages = False\n",
    "model_cfg.model.eval.visualize.plot.figure.figsize = (12,10)\n",
    "eKonf.instantiate(model_cfg)"
   ]
  },
  {
   "cell_type": "code",
   "execution_count": null,
   "metadata": {
    "pycharm": {
     "name": "#%%\n"
    }
   },
   "outputs": [],
   "source": []
  }
 ],
 "metadata": {
  "celltoolbar": "Tags",
  "colab": {
   "include_colab_link": true,
   "name": "preprocessor.ipynb",
   "provenance": []
  },
  "kernelspec": {
   "display_name": "Python 3 (ipykernel)",
   "language": "python",
   "name": "python3"
  },
  "language_info": {
   "codemirror_mode": {
    "name": "ipython",
    "version": 3
   },
   "file_extension": ".py",
   "mimetype": "text/x-python",
   "name": "python",
   "nbconvert_exporter": "python",
   "pygments_lexer": "ipython3",
   "version": "3.8.12"
  },
  "vscode": {
   "interpreter": {
    "hash": "d4d1e4263499bec80672ea0156c357c1ee493ec2b1c70f0acce89fc37c4a6abe"
   }
  },
  "widgets": {
   "application/vnd.jupyter.widget-state+json": {
    "state": {},
    "version_major": 2,
    "version_minor": 0
   }
  }
 },
 "nbformat": 4,
 "nbformat_minor": 4
}
