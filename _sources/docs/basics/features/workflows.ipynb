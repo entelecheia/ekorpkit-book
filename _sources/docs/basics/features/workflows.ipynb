{
 "cells": [
  {
   "cell_type": "markdown",
   "id": "2c77a6b1",
   "metadata": {},
   "source": [
    "# Workflows\n",
    "\n",
    "- A workflow is a configurable automated process that will run one or more jobs.\n",
    "- You can divide your research into several unit jobs (tasks), then combine those jobs into one workflow.\n",
    "- You can have multiple workflows, each of which can perform a different set of tasks.\n",
    "\n",
    "\n",
    "## Run a job with `ekorpkit-run`"
   ]
  },
  {
   "cell_type": "code",
   "execution_count": 1,
   "id": "ca8a5b32",
   "metadata": {},
   "outputs": [
    {
     "name": "stdout",
     "output_type": "stream",
     "text": [
      "[\u001b[36m2022-05-31 00:54:40,959\u001b[0m][\u001b[34mekorpkit.run\u001b[0m][\u001b[32mINFO\u001b[0m] - Running ekorpkit with args: ['num_workers=10', 'cmd=fetch_builtin_corpus', 'project=default', '+corpus/builtin=bok_minutes', 'corpus.builtin.io.calculate_stats=True', 'corpus.builtin.io.preprocess_text=True', 'corpus.builtin.io.overwrite=True', 'corpus.builtin.io.force_download=False']\u001b[0m\r\n"
     ]
    },
    {
     "name": "stdout",
     "output_type": "stream",
     "text": [
      "saved 금융통화위원회 의사록(2022년도 제7차)(2022.4.14).hwp as BOK_20220414_20220503.hwp from http://bok.or.kr/portal/cmmn/file/fileDown.do?menuNo=200761&atchFileId=FILE_000000000030802&fileSn=1\r\n"
     ]
    },
    {
     "name": "stdout",
     "output_type": "stream",
     "text": [
      "saved 금융통화위원회 의사록(2022년도 제6차)(2022.3.24).hwp as BOK_20220324_20220408.hwp from http://bok.or.kr/portal/cmmn/file/fileDown.do?menuNo=200761&atchFileId=FILE_000000000030334&fileSn=1\r\n"
     ]
    },
    {
     "name": "stdout",
     "output_type": "stream",
     "text": [
      "saved 금융통화위원회 의사록(2022년도 제5차)(2022.3.10).hwp as BOK_20220310_20220329.hwp from http://bok.or.kr/portal/cmmn/file/fileDown.do?menuNo=200761&atchFileId=FILE_000000000030136&fileSn=1\r\n"
     ]
    },
    {
     "name": "stdout",
     "output_type": "stream",
     "text": [
      "saved 금융통화위원회 의사록(2022년도 제4차)(2022.2.24).hwp as BOK_20220224_20220315.hwp from http://bok.or.kr/portal/cmmn/file/fileDown.do?menuNo=200761&atchFileId=FILE_000000000029875&fileSn=1\r\n"
     ]
    },
    {
     "name": "stdout",
     "output_type": "stream",
     "text": [
      "saved 금융통화위원회 의사록(2022년도 제1차)(2022.1.14).hwp as BOK_20220114_20220203.hwp from http://bok.or.kr/portal/cmmn/file/fileDown.do?menuNo=200761&atchFileId=FILE_000000000029116&fileSn=1\r\n"
     ]
    },
    {
     "name": "stdout",
     "output_type": "stream",
     "text": [
      "saved 금융통화위원회 의사록(2021년도 제25차)(2021.12.23).hwp as BOK_20211223_20220107.hwp from http://bok.or.kr/portal/cmmn/file/fileDown.do?menuNo=200761&atchFileId=FILE_000000000028630&fileSn=1\r\n"
     ]
    },
    {
     "name": "stdout",
     "output_type": "stream",
     "text": [
      "saved 금융통화위원회 의사록(2021년도 제24차)(2021.12.9).hwp as BOK_20211209_20211228.hwp from http://bok.or.kr/portal/cmmn/file/fileDown.do?menuNo=200761&atchFileId=FILE_000000000028412&fileSn=1\r\n"
     ]
    },
    {
     "name": "stdout",
     "output_type": "stream",
     "text": [
      "saved 금융통화위원회 의사록(2021년도 제23차)(2021.11.25).hwp as BOK_20211125_20211214.hwp from http://bok.or.kr/portal/cmmn/file/fileDown.do?menuNo=200761&atchFileId=FILE_000000000028153&fileSn=1\r\n"
     ]
    },
    {
     "name": "stdout",
     "output_type": "stream",
     "text": [
      "saved 금융통화위원회 의사록(2021년도 제20차)(2021.10.12).hwp as BOK_20211012_20211102.hwp from http://bok.or.kr/portal/cmmn/file/fileDown.do?menuNo=200761&atchFileId=FILE_000000000027525&fileSn=1\r\n"
     ]
    },
    {
     "name": "stdout",
     "output_type": "stream",
     "text": [
      "saved 금융통화위원회 의사록(2021년도 제19차)(2021.9.24.).hwp as BOK_20210924_20211012.hwp from http://bok.or.kr/portal/cmmn/file/fileDown.do?menuNo=200761&atchFileId=FILE_000000000027173&fileSn=1\r\n"
     ]
    },
    {
     "name": "stdout",
     "output_type": "stream",
     "text": [
      "saved 금융통화위원회 의사록(2021년도 제18차)(2021.9.9.).hwp as BOK_20210909_20210928.hwp from http://bok.or.kr/portal/cmmn/file/fileDown.do?menuNo=200761&atchFileId=FILE_000000000026867&fileSn=1\r\n"
     ]
    },
    {
     "name": "stdout",
     "output_type": "stream",
     "text": [
      "saved 금융통화위원회 의사록(2021년도 제17차)(2021.8.26.).hwp as BOK_20210826_20210914.hwp from http://bok.or.kr/portal/cmmn/file/fileDown.do?menuNo=200761&atchFileId=FILE_000000000026599&fileSn=1\r\n"
     ]
    },
    {
     "name": "stdout",
     "output_type": "stream",
     "text": [
      "saved 금융통화위원회 의사록(2021년도 제15차)(2021.7.29.).hwp as BOK_20210729_20210817.hwp from http://bok.or.kr/portal/cmmn/file/fileDown.do?menuNo=200761&atchFileId=FILE_000000000025935&fileSn=1\r\n"
     ]
    },
    {
     "name": "stdout",
     "output_type": "stream",
     "text": [
      "saved 금융통화위원회 의사록(2021년도 제14차)(2021.7.15).hwp as BOK_20210715_20210803.hwp from http://bok.or.kr/portal/cmmn/file/fileDown.do?menuNo=200761&atchFileId=FILE_000000000025774&fileSn=1\r\n"
     ]
    },
    {
     "name": "stdout",
     "output_type": "stream",
     "text": [
      "saved 금융통화위원회 의사록(2021년도 제13차)(2021.6.30).hwp as BOK_20210630_20210720.hwp from http://bok.or.kr/portal/cmmn/file/fileDown.do?menuNo=200761&atchFileId=FILE_000000000025455&fileSn=1\r\n"
     ]
    },
    {
     "name": "stdout",
     "output_type": "stream",
     "text": [
      "saved 금융통화위원회 의사록(2021년도 제12차)(2021.6.22).hwp as BOK_20210622_20210709.hwp from http://bok.or.kr/portal/cmmn/file/fileDown.do?menuNo=200761&atchFileId=FILE_000000000025245&fileSn=1\r\n"
     ]
    },
    {
     "name": "stdout",
     "output_type": "stream",
     "text": [
      "saved 금융통화위원회 의사록(2021년도 제11차)(2021.6.10).hwp as BOK_20210610_20210629.hwp from http://bok.or.kr/portal/cmmn/file/fileDown.do?menuNo=200761&atchFileId=FILE_000000000025011&fileSn=2\r\n"
     ]
    },
    {
     "name": "stdout",
     "output_type": "stream",
     "text": [
      "saved 금융통화위원회 의사록(2021년도 제10차)(2021.5.27).hwp as BOK_20210527_20210615.hwp from http://bok.or.kr/portal/cmmn/file/fileDown.do?menuNo=200761&atchFileId=FILE_000000000024803&fileSn=2\r\n"
     ]
    },
    {
     "name": "stdout",
     "output_type": "stream",
     "text": [
      "saved 금융통화위원회 의사록(2021년도 제7차)(2021.4.15).hwp as BOK_20210415_20210504.hwp from http://bok.or.kr/portal/cmmn/file/fileDown.do?menuNo=200761&atchFileId=FILE_000000000023728&fileSn=2\r\n"
     ]
    },
    {
     "name": "stdout",
     "output_type": "stream",
     "text": [
      "saved 금융통화위원회 의사록(2021년도 제6차)(2021.3.25).hwp as BOK_20210325_20210409.hwp from http://bok.or.kr/portal/cmmn/file/fileDown.do?menuNo=200761&atchFileId=FILE_000000000023316&fileSn=2\r\n"
     ]
    },
    {
     "name": "stdout",
     "output_type": "stream",
     "text": [
      "saved 금융통화위원회 의사록(2021년도 제5차)(2021.3.11).hwp as BOK_20210311_20210330.hwp from http://bok.or.kr/portal/cmmn/file/fileDown.do?menuNo=200761&atchFileId=FILE_000000000023095&fileSn=2\r\n"
     ]
    },
    {
     "name": "stdout",
     "output_type": "stream",
     "text": [
      "saved 금융통화위원회 의사록(2021년도 제4차)(2021.2.25).hwp as BOK_20210225_20210316.hwp from http://bok.or.kr/portal/cmmn/file/fileDown.do?menuNo=200761&atchFileId=FILE_000000000022786&fileSn=2\r\n"
     ]
    },
    {
     "name": "stdout",
     "output_type": "stream",
     "text": [
      "saved 금융통화위원회 의사록(2021년도 제2차)(2021.1.28.).hwp as BOK_20210128_20210216.hwp from http://bok.or.kr/portal/cmmn/file/fileDown.do?menuNo=200761&atchFileId=FILE_000000000022200&fileSn=1\r\n"
     ]
    },
    {
     "name": "stdout",
     "output_type": "stream",
     "text": [
      "saved 금융통화위원회 의사록(2021년도 제1차)(2021.1.15.).hwp as BOK_20210115_20210202.hwp from http://bok.or.kr/portal/cmmn/file/fileDown.do?menuNo=200761&atchFileId=FILE_000000000022000&fileSn=1\r\n"
     ]
    },
    {
     "name": "stdout",
     "output_type": "stream",
     "text": [
      "saved 금융통화위원회 의사록(2020년도 제27차)(2020.12.24).hwp as BOK_20201224_20210108.hwp from http://bok.or.kr/portal/cmmn/file/fileDown.do?menuNo=200761&atchFileId=FILE_000000000021442&fileSn=2\r\n"
     ]
    },
    {
     "name": "stdout",
     "output_type": "stream",
     "text": [
      "saved 금융통화위원회 의사록(2020년도 제26차)(2020.12.10).hwp as BOK_20201210_20201229.hwp from http://bok.or.kr/portal/cmmn/file/fileDown.do?menuNo=200761&atchFileId=FILE_000000000021200&fileSn=2\r\n"
     ]
    },
    {
     "name": "stdout",
     "output_type": "stream",
     "text": [
      "saved 금융통화위원회 의사록(2020년도 제25차)(2020.11.26).hwp as BOK_20201126_20201215.hwp from http://bok.or.kr/portal/cmmn/file/fileDown.do?menuNo=200761&atchFileId=FILE_000000000021008&fileSn=1\r\n"
     ]
    },
    {
     "name": "stdout",
     "output_type": "stream",
     "text": [
      "saved 금융통화위원회 의사록(2020년도 제23차)(2020.10.29).hwp as BOK_20201029_20201117.hwp from http://bok.or.kr/portal/cmmn/file/fileDown.do?menuNo=200761&atchFileId=FILE_000000000020561&fileSn=2\r\n"
     ]
    },
    {
     "name": "stdout",
     "output_type": "stream",
     "text": [
      "saved 금융통화위원회 의사록(2020년도 제22차)(2020.10.14).hwp as BOK_20201014_20201103.hwp from http://bok.or.kr/portal/cmmn/file/fileDown.do?menuNo=200761&atchFileId=FILE_000000000020348&fileSn=1\r\n"
     ]
    },
    {
     "name": "stdout",
     "output_type": "stream",
     "text": [
      "saved 금융통화위원회 의사록(2020년도 제21차)(2020.09.24).hwp as BOK_20200924_20201008.hwp from http://bok.or.kr/portal/cmmn/file/fileDown.do?menuNo=200761&atchFileId=FILE_000000000020349&fileSn=1\r\n"
     ]
    },
    {
     "name": "stdout",
     "output_type": "stream",
     "text": [
      "saved 금융통화위원회 의사록(2020년도 제20차)(2020.09.10).hwp as BOK_20200910_20200929.hwp from http://bok.or.kr/portal/cmmn/file/fileDown.do?menuNo=200761&atchFileId=FILE_000000000019887&fileSn=1\r\n"
     ]
    },
    {
     "name": "stdout",
     "output_type": "stream",
     "text": [
      "saved 제19차_금통위 의사록.hwp as BOK_20200827_20200915.hwp from http://bok.or.kr/portal/cmmn/file/fileDown.do?menuNo=200761&atchFileId=FILE_000000000019652&fileSn=1\r\n"
     ]
    },
    {
     "name": "stdout",
     "output_type": "stream",
     "text": [
      "saved 제17차_금통위 의사록.hwp as BOK_20200730_20200818.hwp from http://bok.or.kr/portal/cmmn/file/fileDown.do?menuNo=200761&atchFileId=FILE_000000000019144&fileSn=1\r\n"
     ]
    },
    {
     "name": "stdout",
     "output_type": "stream",
     "text": [
      "saved 제16차_금통위 의사록.hwp as BOK_20200717_20200804.hwp from http://bok.or.kr/portal/cmmn/file/fileDown.do?menuNo=200761&atchFileId=FILE_000000000019003&fileSn=1\r\n"
     ]
    },
    {
     "name": "stdout",
     "output_type": "stream",
     "text": [
      "saved 제15차_금통위 의사록.hwp as BOK_20200716_20200804.hwp from http://bok.or.kr/portal/cmmn/file/fileDown.do?menuNo=200761&atchFileId=FILE_000000000019002&fileSn=1\r\n"
     ]
    },
    {
     "name": "stdout",
     "output_type": "stream",
     "text": [
      "saved 제14차_금통위 의사록.hwp as BOK_20200624_20200710.hwp from http://bok.or.kr/portal/cmmn/file/fileDown.do?menuNo=200761&atchFileId=FILE_000000000018540&fileSn=1\r\n"
     ]
    },
    {
     "name": "stdout",
     "output_type": "stream",
     "text": [
      "^C\r\n",
      "Traceback (most recent call last):\r\n",
      "  File \"/resources/.pyenv/versions/ekonml38/bin/ekorpkit\", line 33, in <module>\r\n",
      "    sys.exit(load_entry_point('ekorpkit', 'console_scripts', 'ekorpkit')())\r\n",
      "  File \"/resources/.pyenv/versions/3.8.12/envs/ekonml38/lib/python3.8/site-packages/hydra/main.py\", line 90, in decorated_main\r\n",
      "    _run_hydra(\r\n",
      "  File \"/resources/.pyenv/versions/3.8.12/envs/ekonml38/lib/python3.8/site-packages/hydra/_internal/utils.py\", line 389, in _run_hydra\r\n",
      "    _run_app(\r\n",
      "  File \"/resources/.pyenv/versions/3.8.12/envs/ekonml38/lib/python3.8/site-packages/hydra/_internal/utils.py\", line 452, in _run_app\r\n",
      "    run_and_report(\r\n",
      "  File \"/resources/.pyenv/versions/3.8.12/envs/ekonml38/lib/python3.8/site-packages/hydra/_internal/utils.py\", line 213, in run_and_report\r\n",
      "    return func()\r\n",
      "  File \"/resources/.pyenv/versions/3.8.12/envs/ekonml38/lib/python3.8/site-packages/hydra/_internal/utils.py\", line 453, in <lambda>\r\n",
      "    lambda: hydra.run(\r\n",
      "  File \"/resources/.pyenv/versions/3.8.12/envs/ekonml38/lib/python3.8/site-packages/hydra/_internal/hydra.py\", line 119, in run\r\n",
      "    ret = run_job(\r\n",
      "  File \"/resources/.pyenv/versions/3.8.12/envs/ekonml38/lib/python3.8/site-packages/hydra/core/utils.py\", line 186, in run_job\r\n",
      "    ret.return_value = task_function(task_cfg)\r\n",
      "  File \"/workspace/projects/ekorpkit/ekorpkit/cli.py\", line 56, in hydra_main\r\n",
      "    eKonf.instantiate(cfg)\r\n",
      "  File \"/workspace/projects/ekorpkit/ekorpkit/ekonf.py\", line 720, in instantiate\r\n",
      "    return _instantiate(config, *args, **kwargs)\r\n",
      "  File \"/workspace/projects/ekorpkit/ekorpkit/ekonf.py\", line 491, in _instantiate\r\n",
      "    return hydra.utils.instantiate(config, *args, **kwargs)\r\n",
      "  File \"/resources/.pyenv/versions/3.8.12/envs/ekonml38/lib/python3.8/site-packages/hydra/_internal/instantiate/_instantiate2.py\", line 222, in instantiate\r\n",
      "    return instantiate_node(\r\n",
      "  File \"/resources/.pyenv/versions/3.8.12/envs/ekonml38/lib/python3.8/site-packages/hydra/_internal/instantiate/_instantiate2.py\", line 339, in instantiate_node\r\n",
      "    return _call_target(_target_, partial, args, kwargs, full_key)\r\n",
      "  File \"/resources/.pyenv/versions/3.8.12/envs/ekonml38/lib/python3.8/site-packages/hydra/_internal/instantiate/_instantiate2.py\", line 92, in _call_target\r\n",
      "    return _target_(*args, **kwargs)\r\n",
      "  File \"/workspace/projects/ekorpkit/ekorpkit/cli.py\", line 12, in cmd\r\n",
      "    eKonf.run(args)\r\n",
      "  File \"/workspace/projects/ekorpkit/ekorpkit/ekonf.py\", line 782, in run\r\n",
      "    _run(config, **kwargs)\r\n",
      "  File \"/workspace/projects/ekorpkit/ekorpkit/ekonf.py\", line 439, in _run\r\n",
      "    _instantiate(cfg)\r\n",
      "  File \"/workspace/projects/ekorpkit/ekorpkit/ekonf.py\", line 491, in _instantiate\r\n",
      "    return hydra.utils.instantiate(config, *args, **kwargs)\r\n",
      "  File \"/resources/.pyenv/versions/3.8.12/envs/ekonml38/lib/python3.8/site-packages/hydra/_internal/instantiate/_instantiate2.py\", line 222, in instantiate\r\n",
      "    return instantiate_node(\r\n",
      "  File \"/resources/.pyenv/versions/3.8.12/envs/ekonml38/lib/python3.8/site-packages/hydra/_internal/instantiate/_instantiate2.py\", line 339, in instantiate_node\r\n",
      "    return _call_target(_target_, partial, args, kwargs, full_key)\r\n",
      "  File \"/resources/.pyenv/versions/3.8.12/envs/ekonml38/lib/python3.8/site-packages/hydra/_internal/instantiate/_instantiate2.py\", line 92, in _call_target\r\n",
      "    return _target_(*args, **kwargs)\r\n",
      "  File \"/workspace/projects/ekorpkit/ekorpkit/corpora/build.py\", line 70, in __init__\r\n",
      "    self.build()\r\n",
      "  File \"/workspace/projects/ekorpkit/ekorpkit/corpora/build.py\", line 75, in build\r\n",
      "    eKonf.instantiate(self.fetcher)\r\n",
      "  File \"/workspace/projects/ekorpkit/ekorpkit/ekonf.py\", line 720, in instantiate\r\n",
      "    return _instantiate(config, *args, **kwargs)\r\n",
      "  File \"/workspace/projects/ekorpkit/ekorpkit/ekonf.py\", line 491, in _instantiate\r\n",
      "    return hydra.utils.instantiate(config, *args, **kwargs)\r\n",
      "  File \"/resources/.pyenv/versions/3.8.12/envs/ekonml38/lib/python3.8/site-packages/hydra/_internal/instantiate/_instantiate2.py\", line 222, in instantiate\r\n",
      "    return instantiate_node(\r\n",
      "  File \"/resources/.pyenv/versions/3.8.12/envs/ekonml38/lib/python3.8/site-packages/hydra/_internal/instantiate/_instantiate2.py\", line 339, in instantiate_node\r\n",
      "    return _call_target(_target_, partial, args, kwargs, full_key)\r\n",
      "  File \"/resources/.pyenv/versions/3.8.12/envs/ekonml38/lib/python3.8/site-packages/hydra/_internal/instantiate/_instantiate2.py\", line 92, in _call_target\r\n",
      "    return _target_(*args, **kwargs)\r\n",
      "  File \"/workspace/projects/ekorpkit/ekorpkit/io/fetch/loader/bok.py\", line 41, in __init__\r\n",
      "    self.build()\r\n",
      "  File \"/workspace/projects/ekorpkit/ekorpkit/io/fetch/loader/bok.py\", line 46, in build\r\n",
      "    self.get_minutes_files()\r\n",
      "  File \"/workspace/projects/ekorpkit/ekorpkit/io/fetch/loader/bok.py\", line 92, in get_minutes_files\r\n",
      "    self.get_minutes_file(\r\n",
      "  File \"/workspace/projects/ekorpkit/ekorpkit/io/fetch/loader/bok.py\", line 112, in get_minutes_file\r\n",
      "    page = requests.get(page_addr)\r\n",
      "  File \"/resources/.pyenv/versions/3.8.12/envs/ekonml38/lib/python3.8/site-packages/requests/api.py\", line 75, in get\r\n",
      "    return request('get', url, params=params, **kwargs)\r\n",
      "  File \"/resources/.pyenv/versions/3.8.12/envs/ekonml38/lib/python3.8/site-packages/requests/api.py\", line 61, in request\r\n",
      "    return session.request(method=method, url=url, **kwargs)\r\n",
      "  File \"/resources/.pyenv/versions/3.8.12/envs/ekonml38/lib/python3.8/site-packages/requests/sessions.py\", line 529, in request\r\n",
      "    resp = self.send(prep, **send_kwargs)\r\n",
      "  File \"/resources/.pyenv/versions/3.8.12/envs/ekonml38/lib/python3.8/site-packages/requests/sessions.py\", line 687, in send\r\n",
      "    r.content\r\n",
      "  File \"/resources/.pyenv/versions/3.8.12/envs/ekonml38/lib/python3.8/site-packages/requests/models.py\", line 838, in content\r\n",
      "    self._content = b''.join(self.iter_content(CONTENT_CHUNK_SIZE)) or b''\r\n",
      "  File \"/resources/.pyenv/versions/3.8.12/envs/ekonml38/lib/python3.8/site-packages/requests/models.py\", line 760, in generate\r\n",
      "    for chunk in self.raw.stream(chunk_size, decode_content=True):\r\n",
      "  File \"/resources/.pyenv/versions/3.8.12/envs/ekonml38/lib/python3.8/site-packages/urllib3/response.py\", line 572, in stream\r\n",
      "    for line in self.read_chunked(amt, decode_content=decode_content):\r\n",
      "  File \"/resources/.pyenv/versions/3.8.12/envs/ekonml38/lib/python3.8/site-packages/urllib3/response.py\", line 764, in read_chunked\r\n",
      "    self._update_chunk_length()\r\n",
      "  File \"/resources/.pyenv/versions/3.8.12/envs/ekonml38/lib/python3.8/site-packages/urllib3/response.py\", line 694, in _update_chunk_length\r\n",
      "    line = self._fp.fp.readline()\r\n",
      "  File \"/resources/.pyenv/versions/3.8.12/lib/python3.8/socket.py\", line 669, in readinto\r\n",
      "    return self._sock.recv_into(b)\r\n",
      "  File \"/resources/.pyenv/versions/3.8.12/lib/python3.8/ssl.py\", line 1241, in recv_into\r\n",
      "    return self.read(nbytes, buffer)\r\n",
      "  File \"/resources/.pyenv/versions/3.8.12/lib/python3.8/ssl.py\", line 1099, in read\r\n",
      "    return self._sslobj.read(len, buffer)\r\n",
      "KeyboardInterrupt\r\n",
      "Traceback (most recent call last):\r\n",
      "  File \"/resources/.pyenv/versions/ekonml38/bin/ekorpkit-run\", line 33, in <module>\r\n",
      "    sys.exit(load_entry_point('ekorpkit', 'console_scripts', 'ekorpkit-run')())\r\n",
      "  File \"/resources/.pyenv/versions/3.8.12/envs/ekonml38/lib/python3.8/site-packages/hydra/main.py\", line 90, in decorated_main\r\n",
      "    _run_hydra(\r\n",
      "  File \"/resources/.pyenv/versions/3.8.12/envs/ekonml38/lib/python3.8/site-packages/hydra/_internal/utils.py\", line 389, in _run_hydra\r\n",
      "    _run_app(\r\n",
      "  File \"/resources/.pyenv/versions/3.8.12/envs/ekonml38/lib/python3.8/site-packages/hydra/_internal/utils.py\", line 452, in _run_app\r\n",
      "    run_and_report(\r\n",
      "  File \"/resources/.pyenv/versions/3.8.12/envs/ekonml38/lib/python3.8/site-packages/hydra/_internal/utils.py\", line 213, in run_and_report\r\n",
      "    return func()\r\n",
      "  File \"/resources/.pyenv/versions/3.8.12/envs/ekonml38/lib/python3.8/site-packages/hydra/_internal/utils.py\", line 453, in <lambda>\r\n",
      "    lambda: hydra.run(\r\n",
      "  File \"/resources/.pyenv/versions/3.8.12/envs/ekonml38/lib/python3.8/site-packages/hydra/_internal/hydra.py\", line 119, in run\r\n",
      "    ret = run_job(\r\n",
      "  File \"/resources/.pyenv/versions/3.8.12/envs/ekonml38/lib/python3.8/site-packages/hydra/core/utils.py\", line 186, in run_job\r\n",
      "    ret.return_value = task_function(task_cfg)\r\n",
      "  File \"/workspace/projects/ekorpkit/ekorpkit/run.py\", line 52, in main\r\n",
      "    eKonf.instantiate(cfg)\r\n",
      "  File \"/workspace/projects/ekorpkit/ekorpkit/ekonf.py\", line 720, in instantiate\r\n",
      "    return _instantiate(config, *args, **kwargs)\r\n",
      "  File \"/workspace/projects/ekorpkit/ekorpkit/ekonf.py\", line 491, in _instantiate\r\n",
      "    return hydra.utils.instantiate(config, *args, **kwargs)\r\n",
      "  File \"/resources/.pyenv/versions/3.8.12/envs/ekonml38/lib/python3.8/site-packages/hydra/_internal/instantiate/_instantiate2.py\", line 222, in instantiate\r\n",
      "    return instantiate_node(\r\n",
      "  File \"/resources/.pyenv/versions/3.8.12/envs/ekonml38/lib/python3.8/site-packages/hydra/_internal/instantiate/_instantiate2.py\", line 339, in instantiate_node\r\n",
      "    return _call_target(_target_, partial, args, kwargs, full_key)\r\n",
      "  File \"/resources/.pyenv/versions/3.8.12/envs/ekonml38/lib/python3.8/site-packages/hydra/_internal/instantiate/_instantiate2.py\", line 92, in _call_target\r\n",
      "    return _target_(*args, **kwargs)\r\n",
      "  File \"/workspace/projects/ekorpkit/ekorpkit/run.py\", line 15, in run_job\r\n",
      "    _run_cmd(command)\r\n",
      "  File \"/workspace/projects/ekorpkit/ekorpkit/run.py\", line 24, in _run_cmd\r\n",
      "    proc.wait()\r\n",
      "  File \"/resources/.pyenv/versions/3.8.12/lib/python3.8/subprocess.py\", line 1083, in wait\r\n",
      "    return self._wait(timeout=timeout)\r\n",
      "  File \"/resources/.pyenv/versions/3.8.12/lib/python3.8/subprocess.py\", line 1806, in _wait\r\n",
      "    (pid, sts) = self._try_wait(0)\r\n",
      "  File \"/resources/.pyenv/versions/3.8.12/lib/python3.8/subprocess.py\", line 1764, in _try_wait\r\n",
      "    (pid, sts) = os.waitpid(self.pid, wait_flags)\r\n",
      "KeyboardInterrupt\r\n"
     ]
    }
   ],
   "source": [
    "!ekorpkit-run +job=build_corpus name=bok_minutes num_workers=10"
   ]
  }
 ],
 "metadata": {
  "jupytext": {
   "formats": "md:myst",
   "text_representation": {
    "extension": ".md",
    "format_name": "myst"
   }
  },
  "kernelspec": {
   "display_name": "Python 3",
   "language": "python",
   "name": "python3"
  },
  "language_info": {
   "codemirror_mode": {
    "name": "ipython",
    "version": 3
   },
   "file_extension": ".py",
   "mimetype": "text/x-python",
   "name": "python",
   "nbconvert_exporter": "python",
   "pygments_lexer": "ipython3",
   "version": "3.8.12"
  },
  "source_map": [
   11,
   22
  ]
 },
 "nbformat": 4,
 "nbformat_minor": 5
}