{
 "cells": [
  {
   "cell_type": "markdown",
   "metadata": {
    "id": "cjgz1WTcPWee",
    "pycharm": {
     "name": "#%% md\n"
    }
   },
   "source": [
    "# Predicting ESG Categories and Polarities"
   ]
  },
  {
   "cell_type": "code",
   "execution_count": 2,
   "metadata": {
    "id": "BzxPwsOVPWef",
    "pycharm": {
     "name": "#%%\n"
    }
   },
   "outputs": [
    {
     "name": "stderr",
     "output_type": "stream",
     "text": [
      "INFO:ekorpkit.base:Setting cuda device to ['A100-SXM4-40GB (id:0)']\n",
      "INFO:ekorpkit.base:shell type: ZMQInteractiveShell\n",
      "INFO:ekorpkit.base:Google Colab not detected.\n"
     ]
    },
    {
     "name": "stdout",
     "output_type": "stream",
     "text": [
      "version: 0.1.38+19.g57d76db.dirty\n",
      "is notebook? True\n",
      "is colab? False\n",
      "environment variables:\n",
      "{'CUDA_DEVICE_ORDER': 'PCI_BUS_ID',\n",
      " 'CUDA_VISIBLE_DEVICES': '0',\n",
      " 'EKORPKIT_CONFIG_DIR': '/workspace/projects/ekorpkit-book/config',\n",
      " 'EKORPKIT_DATA_DIR': None,\n",
      " 'EKORPKIT_LOG_LEVEL': 'WARNING',\n",
      " 'EKORPKIT_PROJECT': 'ekorpkit-book',\n",
      " 'EKORPKIT_WORKSPACE_ROOT': '/workspace',\n",
      " 'KMP_DUPLICATE_LIB_OK': 'TRUE',\n",
      " 'NUM_WORKERS': 230}\n"
     ]
    }
   ],
   "source": [
    "from ekorpkit import eKonf\n",
    "\n",
    "eKonf.setLogger(\"WARNING\")\n",
    "eKonf.set_cuda(device=0)\n",
    "print(\"version:\", eKonf.__version__)\n",
    "print(\"is notebook?\", eKonf.is_notebook())\n",
    "print(\"is colab?\", eKonf.is_colab())\n",
    "print(\"environment variables:\")\n",
    "eKonf.print(eKonf.env().dict())"
   ]
  },
  {
   "cell_type": "code",
   "execution_count": 3,
   "metadata": {
    "pycharm": {
     "name": "#%%\n"
    }
   },
   "outputs": [],
   "source": [
    "data_dir = \"../data/econ_news_kr\"\n"
   ]
  },
  {
   "cell_type": "markdown",
   "metadata": {
    "id": "zpdqyeyPPWek",
    "pycharm": {
     "name": "#%% md\n"
    }
   },
   "source": [
    "## Load data"
   ]
  },
  {
   "cell_type": "code",
   "execution_count": 4,
   "metadata": {
    "colab": {
     "base_uri": "https://localhost:8080/"
    },
    "id": "DFsykazvPWel",
    "outputId": "7ab40ae7-42ba-4b6c-f0da-908c6d45ddb9",
    "pycharm": {
     "name": "#%%\n"
    }
   },
   "outputs": [
    {
     "data": {
      "text/html": [
       "<div>\n",
       "<style scoped>\n",
       "    .dataframe tbody tr th:only-of-type {\n",
       "        vertical-align: middle;\n",
       "    }\n",
       "\n",
       "    .dataframe tbody tr th {\n",
       "        vertical-align: top;\n",
       "    }\n",
       "\n",
       "    .dataframe thead th {\n",
       "        text-align: right;\n",
       "    }\n",
       "</style>\n",
       "<table border=\"1\" class=\"dataframe\">\n",
       "  <thead>\n",
       "    <tr style=\"text-align: right;\">\n",
       "      <th></th>\n",
       "      <th>id</th>\n",
       "      <th>chunk_id</th>\n",
       "      <th>text</th>\n",
       "      <th>filename</th>\n",
       "    </tr>\n",
       "  </thead>\n",
       "  <tbody>\n",
       "    <tr>\n",
       "      <th>0</th>\n",
       "      <td>0</td>\n",
       "      <td>0</td>\n",
       "      <td>'사보'는 기업들의 소통수단이다. 계열사 정보 공유 측면도 있다. 또한 대외적으로 ...</td>\n",
       "      <td>02100101.20201101082723001.txt</td>\n",
       "    </tr>\n",
       "    <tr>\n",
       "      <th>1</th>\n",
       "      <td>0</td>\n",
       "      <td>1</td>\n",
       "      <td>안병덕 코오롱그룹 부회장은 \"사보를 통해 코오롱인은 하나가 되었고, 자긍심을 키워왔...</td>\n",
       "      <td>02100101.20201101082723001.txt</td>\n",
       "    </tr>\n",
       "    <tr>\n",
       "      <th>2</th>\n",
       "      <td>0</td>\n",
       "      <td>2</td>\n",
       "      <td>코오롱 관계자는 \"600호에 이르기까지 인쇄 사보를 중심으로 온라인, 모바일 환경 ...</td>\n",
       "      <td>02100101.20201101082723001.txt</td>\n",
       "    </tr>\n",
       "    <tr>\n",
       "      <th>3</th>\n",
       "      <td>1</td>\n",
       "      <td>0</td>\n",
       "      <td>2030을 주축으로 한 이른바 '동학개미운동'이 계속되는 등 주식 투자 열풍이 사그...</td>\n",
       "      <td>02100101.20201101090150001.txt</td>\n",
       "    </tr>\n",
       "    <tr>\n",
       "      <th>4</th>\n",
       "      <td>1</td>\n",
       "      <td>1</td>\n",
       "      <td>한국투자증권은 지난 8월 소액으로 투자 가능한 해외주식 모바일 앱 '미니스탁'을 선...</td>\n",
       "      <td>02100101.20201101090150001.txt</td>\n",
       "    </tr>\n",
       "    <tr>\n",
       "      <th>...</th>\n",
       "      <td>...</td>\n",
       "      <td>...</td>\n",
       "      <td>...</td>\n",
       "      <td>...</td>\n",
       "    </tr>\n",
       "    <tr>\n",
       "      <th>553936</th>\n",
       "      <td>1090639</td>\n",
       "      <td>1</td>\n",
       "      <td>과거 러시아 중앙은행 고위 관료였던 세르게이 알레카센코는 WSJ에 “30~40% 수...</td>\n",
       "      <td>02100851.20220228175603001.txt</td>\n",
       "    </tr>\n",
       "    <tr>\n",
       "      <th>553937</th>\n",
       "      <td>1090639</td>\n",
       "      <td>2</td>\n",
       "      <td>특히 스위프트 제재 대상인 러 금융기관들은 백척간두에 서 있다. 유럽중앙은행(ECB...</td>\n",
       "      <td>02100851.20220228175603001.txt</td>\n",
       "    </tr>\n",
       "    <tr>\n",
       "      <th>553938</th>\n",
       "      <td>1090645</td>\n",
       "      <td>0</td>\n",
       "      <td>이재명 더불어민주당 대선 후보(왼쪽)와 윤석열 국민의힘 후보가 각각 GTX 관련 공...</td>\n",
       "      <td>02100851.20220228180156001.txt</td>\n",
       "    </tr>\n",
       "    <tr>\n",
       "      <th>553939</th>\n",
       "      <td>1090645</td>\n",
       "      <td>1</td>\n",
       "      <td>한 전문가는 서울권, 특히 강남권의 최근 아파트 거래 현황이 지난해 같은 기간보다 ...</td>\n",
       "      <td>02100851.20220228180156001.txt</td>\n",
       "    </tr>\n",
       "    <tr>\n",
       "      <th>553940</th>\n",
       "      <td>1090645</td>\n",
       "      <td>2</td>\n",
       "      <td>철도 공약인 만큼 현실 시점이 멀다는 이유도 있겠지만, 그만큼 정치권의 부동산 정책...</td>\n",
       "      <td>02100851.20220228180156001.txt</td>\n",
       "    </tr>\n",
       "  </tbody>\n",
       "</table>\n",
       "<p>553941 rows × 4 columns</p>\n",
       "</div>"
      ],
      "text/plain": [
       "             id  chunk_id                                               text  \\\n",
       "0             0         0  '사보'는 기업들의 소통수단이다. 계열사 정보 공유 측면도 있다. 또한 대외적으로 ...   \n",
       "1             0         1  안병덕 코오롱그룹 부회장은 \"사보를 통해 코오롱인은 하나가 되었고, 자긍심을 키워왔...   \n",
       "2             0         2  코오롱 관계자는 \"600호에 이르기까지 인쇄 사보를 중심으로 온라인, 모바일 환경 ...   \n",
       "3             1         0  2030을 주축으로 한 이른바 '동학개미운동'이 계속되는 등 주식 투자 열풍이 사그...   \n",
       "4             1         1  한국투자증권은 지난 8월 소액으로 투자 가능한 해외주식 모바일 앱 '미니스탁'을 선...   \n",
       "...         ...       ...                                                ...   \n",
       "553936  1090639         1  과거 러시아 중앙은행 고위 관료였던 세르게이 알레카센코는 WSJ에 “30~40% 수...   \n",
       "553937  1090639         2  특히 스위프트 제재 대상인 러 금융기관들은 백척간두에 서 있다. 유럽중앙은행(ECB...   \n",
       "553938  1090645         0  이재명 더불어민주당 대선 후보(왼쪽)와 윤석열 국민의힘 후보가 각각 GTX 관련 공...   \n",
       "553939  1090645         1  한 전문가는 서울권, 특히 강남권의 최근 아파트 거래 현황이 지난해 같은 기간보다 ...   \n",
       "553940  1090645         2  철도 공약인 만큼 현실 시점이 멀다는 이유도 있겠지만, 그만큼 정치권의 부동산 정책...   \n",
       "\n",
       "                              filename  \n",
       "0       02100101.20201101082723001.txt  \n",
       "1       02100101.20201101082723001.txt  \n",
       "2       02100101.20201101082723001.txt  \n",
       "3       02100101.20201101090150001.txt  \n",
       "4       02100101.20201101090150001.txt  \n",
       "...                                ...  \n",
       "553936  02100851.20220228175603001.txt  \n",
       "553937  02100851.20220228175603001.txt  \n",
       "553938  02100851.20220228180156001.txt  \n",
       "553939  02100851.20220228180156001.txt  \n",
       "553940  02100851.20220228180156001.txt  \n",
       "\n",
       "[553941 rows x 4 columns]"
      ]
     },
     "execution_count": 4,
     "metadata": {},
     "output_type": "execute_result"
    }
   ],
   "source": [
    "filtered_data = eKonf.load_data(\"econ_news_filtered.parquet\", data_dir)\n",
    "filtered_data"
   ]
  },
  {
   "cell_type": "code",
   "execution_count": 5,
   "metadata": {
    "pycharm": {
     "name": "#%%\n"
    }
   },
   "outputs": [
    {
     "data": {
      "text/plain": [
       "'재산세 감면 범위를 둘러싸고 혼선을 빚었던 정부와 더불어민주당이 공시가격 6억원 이하 1주택자의 재산세를 감면해주는 방향으로 가닥을 잡은 것으로 알려졌다.\\n3일 정치권에 따르면 당정은 1가구 1주택 재산세율은 공시가격 6억원 이하에 대해서만 0.05%포인트 인하하기로 방침을 정한 것으로 전해졌다. 현재 재산세율은 과세표준(공시가격 60%) 구간에 따라 0.1~0.4%다.\\n6일 발표할 것으로 예상되는 당정의 이번 대책이 성난 민심을 가라앉힐 수 있을지 관심이 모아지고 있다. 올해 정부가 발표한 부동산 정책마다 논란에 휩싸였기 때문이다.\\n실제로 국토교통부가 지난달 20일 주택자금조달계획서 제출 확대를 주요 내용으로 하는 \\'부동산 거래 신고 등에 관한 법률\\' 시행령 일부 개정안이 국무회의를 통과했다고 밝히자 \"민주주의 국가가 맞냐\"는 지적이 나왔다.\\n또 김현미 국토교통부 장관이 지난달 23일 국회 국토교통위원회의 국토부 종합 국정감사에서 \"월세 세액공제 등을 통해 세입자의 부담을 덜어주는 방안에 대해 공감한다\"라며 \"재정 당국과 협의가 필요한 문제여서 함께 협의해 나가겠다\"고 말하자, 이를 비판하는 의견이 쇄도했다. 전세를 구하기 어려운데 월세를 사는 사람들에게 혜택을 주는 것은 결국 정부가 월세를 권장하는 것 아니냐는 지적이었다.\\n홍남기 부총리 겸 기획재정부 장관이 지난달 28일 토지·건물 지분의 20∼25%만으로 주택을 분양받아 입주하고 이후 20∼30년간 남은 지분을 취득하는 지분적립형 주택을 도입하겠다고 밝혔을 때도 논란이 일었다. 지분형 주택은 대출받아서 집을 사거나 장기간 월세로 산 후 30년 된 낡은 집을 받는 것과 다름이 없다는 이유에서다.'"
      ]
     },
     "execution_count": 5,
     "metadata": {},
     "output_type": "execute_result"
    }
   ],
   "source": [
    "filtered_data.text[222]"
   ]
  },
  {
   "cell_type": "markdown",
   "metadata": {
    "pycharm": {
     "name": "#%% md\n"
    }
   },
   "source": [
    "## Predicting polarities"
   ]
  },
  {
   "cell_type": "code",
   "execution_count": 6,
   "metadata": {
    "pycharm": {
     "name": "#%%\n"
    }
   },
   "outputs": [],
   "source": [
    "overrides=[\n",
    "    '+model/transformer=classification',\n",
    "    '+model/transformer/pretrained=ekonelectra-base',\n",
    "]\n",
    "model_cfg = eKonf.compose('model/transformer=classification', overrides)\n",
    "model_cfg.name = \"esg_polarity\"\n",
    "model_cfg.verbose = False\n",
    "model_cfg.config.num_train_epochs = 2\n",
    "model_cfg.config.max_seq_length = 256\n",
    "model_cfg.config.train_batch_size = 32\n",
    "model_cfg.config.eval_batch_size = 32\n"
   ]
  },
  {
   "cell_type": "code",
   "execution_count": 7,
   "metadata": {
    "pycharm": {
     "name": "#%%\n"
    }
   },
   "outputs": [
    {
     "name": "stderr",
     "output_type": "stream",
     "text": [
      "INFO:ekorpkit.base:Loaded .env from /workspace/projects/ekorpkit-book/config/.env\n",
      "INFO:ekorpkit.base:shell type: ZMQInteractiveShell\n",
      "INFO:ekorpkit.base:setting environment variable CACHED_PATH_CACHE_ROOT to /workspace/.cache/cached_path\n",
      "INFO:ekorpkit.base:setting environment variable KMP_DUPLICATE_LIB_OK to TRUE\n",
      "INFO:ekorpkit.base:Applying pipe: functools.partial(<function predict at 0x7fd89c1484c0>)\n",
      "INFO:ekorpkit.base:No method defined to call\n"
     ]
    },
    {
     "data": {
      "application/json": {
       "ascii": false,
       "bar_format": null,
       "colour": null,
       "elapsed": 0.014160633087158203,
       "initial": 0,
       "n": 0,
       "ncols": null,
       "nrows": null,
       "postfix": null,
       "prefix": "",
       "rate": null,
       "total": 553941,
       "unit": "it",
       "unit_divisor": 1000,
       "unit_scale": false
      },
      "application/vnd.jupyter.widget-view+json": {
       "model_id": "bbcc3368f7274403bc7d5987b8811b8c",
       "version_major": 2,
       "version_minor": 0
      },
      "text/plain": [
       "  0%|          | 0/553941 [00:00<?, ?it/s]"
      ]
     },
     "metadata": {},
     "output_type": "display_data"
    },
    {
     "name": "stderr",
     "output_type": "stream",
     "text": [
      "Token indices sequence length is longer than the specified maximum sequence length for this model (564 > 512). Running this sequence through the model will result in indexing errors\n"
     ]
    },
    {
     "data": {
      "application/json": {
       "ascii": false,
       "bar_format": null,
       "colour": null,
       "elapsed": 0.5865342617034912,
       "initial": 0,
       "n": 0,
       "ncols": null,
       "nrows": null,
       "postfix": null,
       "prefix": "",
       "rate": null,
       "total": 34447,
       "unit": "it",
       "unit_divisor": 1000,
       "unit_scale": false
      },
      "application/vnd.jupyter.widget-view+json": {
       "model_id": "96379dc7ba254fc294eac7578f315e3c",
       "version_major": 2,
       "version_minor": 0
      },
      "text/plain": [
       "  0%|          | 0/34447 [00:00<?, ?it/s]"
      ]
     },
     "metadata": {},
     "output_type": "display_data"
    },
    {
     "data": {
      "text/html": [
       "<div>\n",
       "<style scoped>\n",
       "    .dataframe tbody tr th:only-of-type {\n",
       "        vertical-align: middle;\n",
       "    }\n",
       "\n",
       "    .dataframe tbody tr th {\n",
       "        vertical-align: top;\n",
       "    }\n",
       "\n",
       "    .dataframe thead th {\n",
       "        text-align: right;\n",
       "    }\n",
       "</style>\n",
       "<table border=\"1\" class=\"dataframe\">\n",
       "  <thead>\n",
       "    <tr style=\"text-align: right;\">\n",
       "      <th></th>\n",
       "      <th>id</th>\n",
       "      <th>chunk_id</th>\n",
       "      <th>text</th>\n",
       "      <th>filename</th>\n",
       "      <th>pred_labels</th>\n",
       "      <th>raw_preds</th>\n",
       "      <th>pred_probs</th>\n",
       "    </tr>\n",
       "  </thead>\n",
       "  <tbody>\n",
       "    <tr>\n",
       "      <th>0</th>\n",
       "      <td>0</td>\n",
       "      <td>0</td>\n",
       "      <td>'사보'는 기업들의 소통수단이다. 계열사 정보 공유 측면도 있다. 또한 대외적으로 ...</td>\n",
       "      <td>02100101.20201101082723001.txt</td>\n",
       "      <td>Neutral</td>\n",
       "      <td>[-2.4318339824676514, 0.8959189653396606, 1.84...</td>\n",
       "      <td>0.401912</td>\n",
       "    </tr>\n",
       "    <tr>\n",
       "      <th>1</th>\n",
       "      <td>0</td>\n",
       "      <td>1</td>\n",
       "      <td>안병덕 코오롱그룹 부회장은 \"사보를 통해 코오롱인은 하나가 되었고, 자긍심을 키워왔...</td>\n",
       "      <td>02100101.20201101082723001.txt</td>\n",
       "      <td>Positive</td>\n",
       "      <td>[-2.316277503967285, 0.3658405840396881, 2.254...</td>\n",
       "      <td>0.300486</td>\n",
       "    </tr>\n",
       "    <tr>\n",
       "      <th>2</th>\n",
       "      <td>0</td>\n",
       "      <td>2</td>\n",
       "      <td>코오롱 관계자는 \"600호에 이르기까지 인쇄 사보를 중심으로 온라인, 모바일 환경 ...</td>\n",
       "      <td>02100101.20201101082723001.txt</td>\n",
       "      <td>Positive</td>\n",
       "      <td>[-2.5923120975494385, 1.227860927581787, 1.683...</td>\n",
       "      <td>0.606853</td>\n",
       "    </tr>\n",
       "    <tr>\n",
       "      <th>3</th>\n",
       "      <td>1</td>\n",
       "      <td>0</td>\n",
       "      <td>2030을 주축으로 한 이른바 '동학개미운동'이 계속되는 등 주식 투자 열풍이 사그...</td>\n",
       "      <td>02100101.20201101090150001.txt</td>\n",
       "      <td>Positive</td>\n",
       "      <td>[-2.567436933517456, 1.0360676050186157, 1.814...</td>\n",
       "      <td>0.341340</td>\n",
       "    </tr>\n",
       "    <tr>\n",
       "      <th>4</th>\n",
       "      <td>1</td>\n",
       "      <td>1</td>\n",
       "      <td>한국투자증권은 지난 8월 소액으로 투자 가능한 해외주식 모바일 앱 '미니스탁'을 선...</td>\n",
       "      <td>02100101.20201101090150001.txt</td>\n",
       "      <td>Neutral</td>\n",
       "      <td>[-2.502641439437866, 0.918285071849823, 1.9027...</td>\n",
       "      <td>0.372076</td>\n",
       "    </tr>\n",
       "  </tbody>\n",
       "</table>\n",
       "</div>"
      ],
      "text/plain": [
       "   id  chunk_id                                               text  \\\n",
       "0   0         0  '사보'는 기업들의 소통수단이다. 계열사 정보 공유 측면도 있다. 또한 대외적으로 ...   \n",
       "1   0         1  안병덕 코오롱그룹 부회장은 \"사보를 통해 코오롱인은 하나가 되었고, 자긍심을 키워왔...   \n",
       "2   0         2  코오롱 관계자는 \"600호에 이르기까지 인쇄 사보를 중심으로 온라인, 모바일 환경 ...   \n",
       "3   1         0  2030을 주축으로 한 이른바 '동학개미운동'이 계속되는 등 주식 투자 열풍이 사그...   \n",
       "4   1         1  한국투자증권은 지난 8월 소액으로 투자 가능한 해외주식 모바일 앱 '미니스탁'을 선...   \n",
       "\n",
       "                         filename pred_labels  \\\n",
       "0  02100101.20201101082723001.txt     Neutral   \n",
       "1  02100101.20201101082723001.txt    Positive   \n",
       "2  02100101.20201101082723001.txt    Positive   \n",
       "3  02100101.20201101090150001.txt    Positive   \n",
       "4  02100101.20201101090150001.txt     Neutral   \n",
       "\n",
       "                                           raw_preds  pred_probs  \n",
       "0  [-2.4318339824676514, 0.8959189653396606, 1.84...    0.401912  \n",
       "1  [-2.316277503967285, 0.3658405840396881, 2.254...    0.300486  \n",
       "2  [-2.5923120975494385, 1.227860927581787, 1.683...    0.606853  \n",
       "3  [-2.567436933517456, 1.0360676050186157, 1.814...    0.341340  \n",
       "4  [-2.502641439437866, 0.918285071849823, 1.9027...    0.372076  "
      ]
     },
     "execution_count": 7,
     "metadata": {},
     "output_type": "execute_result"
    }
   ],
   "source": [
    "cfg = eKonf.compose(config_group='pipeline')\n",
    "cfg.name = 'esg_polarities'\n",
    "cfg.data_dir = data_dir\n",
    "cfg.data_file = 'econ_news_filtered.parquet'\n",
    "cfg._pipeline_ = ['predict']\n",
    "cfg.predict.model = model_cfg\n",
    "cfg.predict.output_dir = data_dir\n",
    "cfg.predict.output_file = f'{cfg.name}-preds.parquet'\n",
    "cfg.num_workers = 1\n",
    "preds_df = eKonf.instantiate(cfg)\n",
    "preds_df.head()"
   ]
  },
  {
   "cell_type": "code",
   "execution_count": 16,
   "metadata": {
    "pycharm": {
     "name": "#%%\n"
    },
    "tags": [
     "hide-cell"
    ]
   },
   "outputs": [],
   "source": [
    "xls_path = eKonf.join_path(data_dir, \"esg_polarities-preds.xlsx\")\n",
    "preds_df.to_excel(xls_path)\n"
   ]
  },
  {
   "cell_type": "markdown",
   "metadata": {
    "pycharm": {
     "name": "#%% md\n"
    }
   },
   "source": [
    "## Predicting categories"
   ]
  },
  {
   "cell_type": "code",
   "execution_count": 8,
   "metadata": {
    "pycharm": {
     "name": "#%%\n"
    }
   },
   "outputs": [],
   "source": [
    "overrides=[\n",
    "    '+model/transformer=classification',\n",
    "    '+model/transformer/pretrained=ekonelectra-base',\n",
    "]\n",
    "model_cfg = eKonf.compose('model/transformer=classification', overrides)\n",
    "model_cfg.name = \"esg_topics\"\n",
    "model_cfg.verbose = False\n",
    "model_cfg.config.num_train_epochs = 2\n",
    "model_cfg.config.max_seq_length = 256\n",
    "model_cfg.config.train_batch_size = 32\n",
    "model_cfg.config.eval_batch_size = 32\n"
   ]
  },
  {
   "cell_type": "code",
   "execution_count": 9,
   "metadata": {
    "pycharm": {
     "name": "#%%\n"
    }
   },
   "outputs": [
    {
     "name": "stderr",
     "output_type": "stream",
     "text": [
      "INFO:ekorpkit.base:Applying pipe: functools.partial(<function predict at 0x7fd89c1484c0>)\n",
      "INFO:ekorpkit.base:No method defined to call\n"
     ]
    },
    {
     "data": {
      "application/json": {
       "ascii": false,
       "bar_format": null,
       "colour": null,
       "elapsed": 0.014317512512207031,
       "initial": 0,
       "n": 0,
       "ncols": null,
       "nrows": null,
       "postfix": null,
       "prefix": "",
       "rate": null,
       "total": 553941,
       "unit": "it",
       "unit_divisor": 1000,
       "unit_scale": false
      },
      "application/vnd.jupyter.widget-view+json": {
       "model_id": "70cac40ce02e4dfeb14e096769e41ca3",
       "version_major": 2,
       "version_minor": 0
      },
      "text/plain": [
       "  0%|          | 0/553941 [00:00<?, ?it/s]"
      ]
     },
     "metadata": {},
     "output_type": "display_data"
    },
    {
     "name": "stderr",
     "output_type": "stream",
     "text": [
      "Token indices sequence length is longer than the specified maximum sequence length for this model (564 > 512). Running this sequence through the model will result in indexing errors\n"
     ]
    },
    {
     "data": {
      "application/json": {
       "ascii": false,
       "bar_format": null,
       "colour": null,
       "elapsed": 0.39547085762023926,
       "initial": 0,
       "n": 0,
       "ncols": null,
       "nrows": null,
       "postfix": null,
       "prefix": "",
       "rate": null,
       "total": 34447,
       "unit": "it",
       "unit_divisor": 1000,
       "unit_scale": false
      },
      "application/vnd.jupyter.widget-view+json": {
       "model_id": "f1b905a7fa9247139b2f90b0b5813347",
       "version_major": 2,
       "version_minor": 0
      },
      "text/plain": [
       "  0%|          | 0/34447 [00:00<?, ?it/s]"
      ]
     },
     "metadata": {},
     "output_type": "display_data"
    },
    {
     "data": {
      "text/html": [
       "<div>\n",
       "<style scoped>\n",
       "    .dataframe tbody tr th:only-of-type {\n",
       "        vertical-align: middle;\n",
       "    }\n",
       "\n",
       "    .dataframe tbody tr th {\n",
       "        vertical-align: top;\n",
       "    }\n",
       "\n",
       "    .dataframe thead th {\n",
       "        text-align: right;\n",
       "    }\n",
       "</style>\n",
       "<table border=\"1\" class=\"dataframe\">\n",
       "  <thead>\n",
       "    <tr style=\"text-align: right;\">\n",
       "      <th></th>\n",
       "      <th>id</th>\n",
       "      <th>chunk_id</th>\n",
       "      <th>text</th>\n",
       "      <th>filename</th>\n",
       "      <th>pred_labels</th>\n",
       "      <th>raw_preds</th>\n",
       "      <th>pred_probs</th>\n",
       "    </tr>\n",
       "  </thead>\n",
       "  <tbody>\n",
       "    <tr>\n",
       "      <th>0</th>\n",
       "      <td>0</td>\n",
       "      <td>0</td>\n",
       "      <td>'사보'는 기업들의 소통수단이다. 계열사 정보 공유 측면도 있다. 또한 대외적으로 ...</td>\n",
       "      <td>02100101.20201101082723001.txt</td>\n",
       "      <td>G-지배구조</td>\n",
       "      <td>[1.9145476818084717, -0.024444209411740303, 1....</td>\n",
       "      <td>0.532799</td>\n",
       "    </tr>\n",
       "    <tr>\n",
       "      <th>1</th>\n",
       "      <td>0</td>\n",
       "      <td>1</td>\n",
       "      <td>안병덕 코오롱그룹 부회장은 \"사보를 통해 코오롱인은 하나가 되었고, 자긍심을 키워왔...</td>\n",
       "      <td>02100101.20201101082723001.txt</td>\n",
       "      <td>S-기술혁신</td>\n",
       "      <td>[0.11691971123218536, 1.8329441547393799, -0.8...</td>\n",
       "      <td>0.301615</td>\n",
       "    </tr>\n",
       "    <tr>\n",
       "      <th>2</th>\n",
       "      <td>0</td>\n",
       "      <td>2</td>\n",
       "      <td>코오롱 관계자는 \"600호에 이르기까지 인쇄 사보를 중심으로 온라인, 모바일 환경 ...</td>\n",
       "      <td>02100101.20201101082723001.txt</td>\n",
       "      <td>S-소비자</td>\n",
       "      <td>[3.184396743774414, 1.4087409973144531, -0.136...</td>\n",
       "      <td>0.579502</td>\n",
       "    </tr>\n",
       "    <tr>\n",
       "      <th>3</th>\n",
       "      <td>1</td>\n",
       "      <td>0</td>\n",
       "      <td>2030을 주축으로 한 이른바 '동학개미운동'이 계속되는 등 주식 투자 열풍이 사그...</td>\n",
       "      <td>02100101.20201101090150001.txt</td>\n",
       "      <td>S-소비자</td>\n",
       "      <td>[3.4277491569519043, 3.1105027198791504, 0.159...</td>\n",
       "      <td>0.333507</td>\n",
       "    </tr>\n",
       "    <tr>\n",
       "      <th>4</th>\n",
       "      <td>1</td>\n",
       "      <td>1</td>\n",
       "      <td>한국투자증권은 지난 8월 소액으로 투자 가능한 해외주식 모바일 앱 '미니스탁'을 선...</td>\n",
       "      <td>02100101.20201101090150001.txt</td>\n",
       "      <td>S-소비자</td>\n",
       "      <td>[3.432396411895752, 2.870363473892212, 0.29488...</td>\n",
       "      <td>0.273119</td>\n",
       "    </tr>\n",
       "  </tbody>\n",
       "</table>\n",
       "</div>"
      ],
      "text/plain": [
       "   id  chunk_id                                               text  \\\n",
       "0   0         0  '사보'는 기업들의 소통수단이다. 계열사 정보 공유 측면도 있다. 또한 대외적으로 ...   \n",
       "1   0         1  안병덕 코오롱그룹 부회장은 \"사보를 통해 코오롱인은 하나가 되었고, 자긍심을 키워왔...   \n",
       "2   0         2  코오롱 관계자는 \"600호에 이르기까지 인쇄 사보를 중심으로 온라인, 모바일 환경 ...   \n",
       "3   1         0  2030을 주축으로 한 이른바 '동학개미운동'이 계속되는 등 주식 투자 열풍이 사그...   \n",
       "4   1         1  한국투자증권은 지난 8월 소액으로 투자 가능한 해외주식 모바일 앱 '미니스탁'을 선...   \n",
       "\n",
       "                         filename pred_labels  \\\n",
       "0  02100101.20201101082723001.txt      G-지배구조   \n",
       "1  02100101.20201101082723001.txt      S-기술혁신   \n",
       "2  02100101.20201101082723001.txt       S-소비자   \n",
       "3  02100101.20201101090150001.txt       S-소비자   \n",
       "4  02100101.20201101090150001.txt       S-소비자   \n",
       "\n",
       "                                           raw_preds  pred_probs  \n",
       "0  [1.9145476818084717, -0.024444209411740303, 1....    0.532799  \n",
       "1  [0.11691971123218536, 1.8329441547393799, -0.8...    0.301615  \n",
       "2  [3.184396743774414, 1.4087409973144531, -0.136...    0.579502  \n",
       "3  [3.4277491569519043, 3.1105027198791504, 0.159...    0.333507  \n",
       "4  [3.432396411895752, 2.870363473892212, 0.29488...    0.273119  "
      ]
     },
     "execution_count": 9,
     "metadata": {},
     "output_type": "execute_result"
    }
   ],
   "source": [
    "cfg = eKonf.compose(config_group='pipeline')\n",
    "cfg.name = 'esg_categories'\n",
    "cfg.data_dir = data_dir\n",
    "cfg.data_file = 'econ_news_filtered.parquet'\n",
    "cfg._pipeline_ = ['predict']\n",
    "cfg.predict.model = model_cfg\n",
    "cfg.predict.output_dir = data_dir\n",
    "cfg.predict.output_file = f'{cfg.name}-preds.parquet'\n",
    "cfg.num_workers = 1\n",
    "cat_preds_df = eKonf.instantiate(cfg)\n",
    "cat_preds_df.head()"
   ]
  },
  {
   "cell_type": "code",
   "execution_count": 10,
   "metadata": {
    "pycharm": {
     "name": "#%%\n"
    },
    "tags": [
     "hide-cell"
    ]
   },
   "outputs": [
    {
     "data": {
      "text/html": [
       "<div>\n",
       "<style scoped>\n",
       "    .dataframe tbody tr th:only-of-type {\n",
       "        vertical-align: middle;\n",
       "    }\n",
       "\n",
       "    .dataframe tbody tr th {\n",
       "        vertical-align: top;\n",
       "    }\n",
       "\n",
       "    .dataframe thead th {\n",
       "        text-align: right;\n",
       "    }\n",
       "</style>\n",
       "<table border=\"1\" class=\"dataframe\">\n",
       "  <thead>\n",
       "    <tr style=\"text-align: right;\">\n",
       "      <th></th>\n",
       "      <th>id</th>\n",
       "      <th>chunk_id</th>\n",
       "      <th>text</th>\n",
       "      <th>filename</th>\n",
       "      <th>pred_labels</th>\n",
       "      <th>raw_preds</th>\n",
       "      <th>pred_probs</th>\n",
       "    </tr>\n",
       "  </thead>\n",
       "  <tbody>\n",
       "    <tr>\n",
       "      <th>0</th>\n",
       "      <td>0</td>\n",
       "      <td>0</td>\n",
       "      <td>'사보'는 기업들의 소통수단이다. 계열사 정보 공유 측면도 있다. 또한 대외적으로 ...</td>\n",
       "      <td>02100101.20201101082723001.txt</td>\n",
       "      <td>G-지배구조</td>\n",
       "      <td>[1.9145476818084717, -0.024444209411740303, 1....</td>\n",
       "      <td>0.532799</td>\n",
       "    </tr>\n",
       "    <tr>\n",
       "      <th>1</th>\n",
       "      <td>0</td>\n",
       "      <td>1</td>\n",
       "      <td>안병덕 코오롱그룹 부회장은 \"사보를 통해 코오롱인은 하나가 되었고, 자긍심을 키워왔...</td>\n",
       "      <td>02100101.20201101082723001.txt</td>\n",
       "      <td>S-기술혁신</td>\n",
       "      <td>[0.11691971123218536, 1.8329441547393799, -0.8...</td>\n",
       "      <td>0.301615</td>\n",
       "    </tr>\n",
       "    <tr>\n",
       "      <th>2</th>\n",
       "      <td>0</td>\n",
       "      <td>2</td>\n",
       "      <td>코오롱 관계자는 \"600호에 이르기까지 인쇄 사보를 중심으로 온라인, 모바일 환경 ...</td>\n",
       "      <td>02100101.20201101082723001.txt</td>\n",
       "      <td>S-소비자</td>\n",
       "      <td>[3.184396743774414, 1.4087409973144531, -0.136...</td>\n",
       "      <td>0.579502</td>\n",
       "    </tr>\n",
       "    <tr>\n",
       "      <th>3</th>\n",
       "      <td>1</td>\n",
       "      <td>0</td>\n",
       "      <td>2030을 주축으로 한 이른바 '동학개미운동'이 계속되는 등 주식 투자 열풍이 사그...</td>\n",
       "      <td>02100101.20201101090150001.txt</td>\n",
       "      <td>S-소비자</td>\n",
       "      <td>[3.4277491569519043, 3.1105027198791504, 0.159...</td>\n",
       "      <td>0.333507</td>\n",
       "    </tr>\n",
       "    <tr>\n",
       "      <th>4</th>\n",
       "      <td>1</td>\n",
       "      <td>1</td>\n",
       "      <td>한국투자증권은 지난 8월 소액으로 투자 가능한 해외주식 모바일 앱 '미니스탁'을 선...</td>\n",
       "      <td>02100101.20201101090150001.txt</td>\n",
       "      <td>S-소비자</td>\n",
       "      <td>[3.432396411895752, 2.870363473892212, 0.29488...</td>\n",
       "      <td>0.273119</td>\n",
       "    </tr>\n",
       "    <tr>\n",
       "      <th>...</th>\n",
       "      <td>...</td>\n",
       "      <td>...</td>\n",
       "      <td>...</td>\n",
       "      <td>...</td>\n",
       "      <td>...</td>\n",
       "      <td>...</td>\n",
       "      <td>...</td>\n",
       "    </tr>\n",
       "    <tr>\n",
       "      <th>553936</th>\n",
       "      <td>1090639</td>\n",
       "      <td>1</td>\n",
       "      <td>과거 러시아 중앙은행 고위 관료였던 세르게이 알레카센코는 WSJ에 “30~40% 수...</td>\n",
       "      <td>02100851.20220228175603001.txt</td>\n",
       "      <td>G-주주환원</td>\n",
       "      <td>[1.4552439451217651, -0.23222839832305908, 0.4...</td>\n",
       "      <td>0.118807</td>\n",
       "    </tr>\n",
       "    <tr>\n",
       "      <th>553937</th>\n",
       "      <td>1090639</td>\n",
       "      <td>2</td>\n",
       "      <td>특히 스위프트 제재 대상인 러 금융기관들은 백척간두에 서 있다. 유럽중앙은행(ECB...</td>\n",
       "      <td>02100851.20220228175603001.txt</td>\n",
       "      <td>G-지배구조</td>\n",
       "      <td>[0.552001953125, -0.5348021984100342, 2.861389...</td>\n",
       "      <td>0.365142</td>\n",
       "    </tr>\n",
       "    <tr>\n",
       "      <th>553938</th>\n",
       "      <td>1090645</td>\n",
       "      <td>0</td>\n",
       "      <td>이재명 더불어민주당 대선 후보(왼쪽)와 윤석열 국민의힘 후보가 각각 GTX 관련 공...</td>\n",
       "      <td>02100851.20220228180156001.txt</td>\n",
       "      <td>S-소비자</td>\n",
       "      <td>[3.0158867835998535, 0.18313424289226532, 1.51...</td>\n",
       "      <td>0.291026</td>\n",
       "    </tr>\n",
       "    <tr>\n",
       "      <th>553939</th>\n",
       "      <td>1090645</td>\n",
       "      <td>1</td>\n",
       "      <td>한 전문가는 서울권, 특히 강남권의 최근 아파트 거래 현황이 지난해 같은 기간보다 ...</td>\n",
       "      <td>02100851.20220228180156001.txt</td>\n",
       "      <td>S-소비자</td>\n",
       "      <td>[3.171722650527954, 0.41740426421165466, 0.905...</td>\n",
       "      <td>0.283430</td>\n",
       "    </tr>\n",
       "    <tr>\n",
       "      <th>553940</th>\n",
       "      <td>1090645</td>\n",
       "      <td>2</td>\n",
       "      <td>철도 공약인 만큼 현실 시점이 멀다는 이유도 있겠지만, 그만큼 정치권의 부동산 정책...</td>\n",
       "      <td>02100851.20220228180156001.txt</td>\n",
       "      <td>S-소비자</td>\n",
       "      <td>[2.211320161819458, -0.4039093852043152, 2.383...</td>\n",
       "      <td>0.147899</td>\n",
       "    </tr>\n",
       "  </tbody>\n",
       "</table>\n",
       "<p>553941 rows × 7 columns</p>\n",
       "</div>"
      ],
      "text/plain": [
       "             id  chunk_id                                               text  \\\n",
       "0             0         0  '사보'는 기업들의 소통수단이다. 계열사 정보 공유 측면도 있다. 또한 대외적으로 ...   \n",
       "1             0         1  안병덕 코오롱그룹 부회장은 \"사보를 통해 코오롱인은 하나가 되었고, 자긍심을 키워왔...   \n",
       "2             0         2  코오롱 관계자는 \"600호에 이르기까지 인쇄 사보를 중심으로 온라인, 모바일 환경 ...   \n",
       "3             1         0  2030을 주축으로 한 이른바 '동학개미운동'이 계속되는 등 주식 투자 열풍이 사그...   \n",
       "4             1         1  한국투자증권은 지난 8월 소액으로 투자 가능한 해외주식 모바일 앱 '미니스탁'을 선...   \n",
       "...         ...       ...                                                ...   \n",
       "553936  1090639         1  과거 러시아 중앙은행 고위 관료였던 세르게이 알레카센코는 WSJ에 “30~40% 수...   \n",
       "553937  1090639         2  특히 스위프트 제재 대상인 러 금융기관들은 백척간두에 서 있다. 유럽중앙은행(ECB...   \n",
       "553938  1090645         0  이재명 더불어민주당 대선 후보(왼쪽)와 윤석열 국민의힘 후보가 각각 GTX 관련 공...   \n",
       "553939  1090645         1  한 전문가는 서울권, 특히 강남권의 최근 아파트 거래 현황이 지난해 같은 기간보다 ...   \n",
       "553940  1090645         2  철도 공약인 만큼 현실 시점이 멀다는 이유도 있겠지만, 그만큼 정치권의 부동산 정책...   \n",
       "\n",
       "                              filename pred_labels  \\\n",
       "0       02100101.20201101082723001.txt      G-지배구조   \n",
       "1       02100101.20201101082723001.txt      S-기술혁신   \n",
       "2       02100101.20201101082723001.txt       S-소비자   \n",
       "3       02100101.20201101090150001.txt       S-소비자   \n",
       "4       02100101.20201101090150001.txt       S-소비자   \n",
       "...                                ...         ...   \n",
       "553936  02100851.20220228175603001.txt      G-주주환원   \n",
       "553937  02100851.20220228175603001.txt      G-지배구조   \n",
       "553938  02100851.20220228180156001.txt       S-소비자   \n",
       "553939  02100851.20220228180156001.txt       S-소비자   \n",
       "553940  02100851.20220228180156001.txt       S-소비자   \n",
       "\n",
       "                                                raw_preds  pred_probs  \n",
       "0       [1.9145476818084717, -0.024444209411740303, 1....    0.532799  \n",
       "1       [0.11691971123218536, 1.8329441547393799, -0.8...    0.301615  \n",
       "2       [3.184396743774414, 1.4087409973144531, -0.136...    0.579502  \n",
       "3       [3.4277491569519043, 3.1105027198791504, 0.159...    0.333507  \n",
       "4       [3.432396411895752, 2.870363473892212, 0.29488...    0.273119  \n",
       "...                                                   ...         ...  \n",
       "553936  [1.4552439451217651, -0.23222839832305908, 0.4...    0.118807  \n",
       "553937  [0.552001953125, -0.5348021984100342, 2.861389...    0.365142  \n",
       "553938  [3.0158867835998535, 0.18313424289226532, 1.51...    0.291026  \n",
       "553939  [3.171722650527954, 0.41740426421165466, 0.905...    0.283430  \n",
       "553940  [2.211320161819458, -0.4039093852043152, 2.383...    0.147899  \n",
       "\n",
       "[553941 rows x 7 columns]"
      ]
     },
     "execution_count": 10,
     "metadata": {},
     "output_type": "execute_result"
    }
   ],
   "source": [
    "xls_path = eKonf.join_path(data_dir, \"esg_categories-preds.xlsx\")\n",
    "cat_preds_df.to_excel(xls_path)\n",
    "cat_preds_df"
   ]
  },
  {
   "cell_type": "code",
   "execution_count": null,
   "metadata": {
    "pycharm": {
     "name": "#%%\n"
    }
   },
   "outputs": [],
   "source": [
    "polarity_preds_df = eKonf.load_data(\"esg_polarities-preds.parquet\", data_dir)\n",
    "polarity_preds_df"
   ]
  },
  {
   "cell_type": "code",
   "execution_count": null,
   "metadata": {
    "pycharm": {
     "name": "#%%\n"
    }
   },
   "outputs": [],
   "source": [
    "category_preds_df = eKonf.load_data(\"esg_categories-preds.parquet\", data_dir)\n",
    "category_preds_df"
   ]
  },
  {
   "cell_type": "code",
   "execution_count": null,
   "metadata": {
    "pycharm": {
     "name": "#%%\n"
    }
   },
   "outputs": [],
   "source": [
    "code_info_available = eKonf.load_data(\"econ_news_code_info_available.parquet\", data_dir)\n",
    "code_info_available"
   ]
  },
  {
   "cell_type": "code",
   "execution_count": null,
   "metadata": {
    "pycharm": {
     "name": "#%%\n"
    }
   },
   "outputs": [],
   "source": [
    "p_cols = ['id', 'chunk_id', 'text', 'filename', 'pred_labels']\n",
    "c_cols = ['id', 'chunk_id', 'pred_labels']\n",
    "pred_data = polarity_preds_df[p_cols].rename(columns={\"pred_labels\": \"pred_polarity\"}).merge(\n",
    "    category_preds_df[c_cols].rename(columns={\"pred_labels\": \"pred_category\"}), on=['id', 'chunk_id']\n",
    ").merge(\n",
    "    code_info_available, on='filename'\n",
    ")\n",
    "\n",
    "xls_path = eKonf.join_path(data_dir, \"esg_preds_all.xlsx\")\n",
    "pred_data.to_excel(xls_path)\n"
   ]
  },
  {
   "cell_type": "code",
   "execution_count": 21,
   "metadata": {
    "pycharm": {
     "name": "#%%\n"
    }
   },
   "outputs": [
    {
     "name": "stderr",
     "output_type": "stream",
     "text": [
      "INFO:ekorpkit.io.file:Processing [1] files from ['codes.csv']\n",
      "INFO:ekorpkit.io.file:Loading 1 dataframes from ['../data/econ_news_kr/codes.csv']\n",
      "INFO:ekorpkit.io.file:Loading data from ../data/econ_news_kr/codes.csv\n"
     ]
    }
   ],
   "source": [
    "codes = eKonf.load_data(\"codes.csv\", data_dir, dtype={\"codes\":\"str\"})\n",
    "xls_path = eKonf.join_path(data_dir, \"esg_preds.xlsx\")\n",
    "pred_data.merge(codes).to_excel(xls_path)"
   ]
  },
  {
   "cell_type": "code",
   "execution_count": null,
   "metadata": {
    "pycharm": {
     "name": "#%%\n"
    }
   },
   "outputs": [],
   "source": []
  }
 ],
 "metadata": {
  "celltoolbar": "Tags",
  "colab": {
   "name": "corpus.ipynb",
   "provenance": []
  },
  "interpreter": {
   "hash": "f869af7787e6a1c49e09e367fc6e1b81d93d1c6583b43249c80edc047bd13cb2"
  },
  "kernelspec": {
   "display_name": "Python 3 (ipykernel)",
   "language": "python",
   "name": "python3"
  },
  "language_info": {
   "codemirror_mode": {
    "name": "ipython",
    "version": 3
   },
   "file_extension": ".py",
   "mimetype": "text/x-python",
   "name": "python",
   "nbconvert_exporter": "python",
   "pygments_lexer": "ipython3",
   "version": "3.8.12"
  },
  "widgets": {
   "application/vnd.jupyter.widget-state+json": {
    "state": {},
    "version_major": 2,
    "version_minor": 0
   }
  }
 },
 "nbformat": 4,
 "nbformat_minor": 4
}
