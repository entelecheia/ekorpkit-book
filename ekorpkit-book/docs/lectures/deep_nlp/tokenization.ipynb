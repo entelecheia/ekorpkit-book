{
 "cells": [
  {
   "cell_type": "markdown",
   "id": "cfdc61fb",
   "metadata": {
    "slideshow": {
     "slide_type": "slide"
    },
    "tags": []
   },
   "source": [
    "# Tokenization\n",
    "\n",
    "![](../figs/deep_nlp/tokenization/entelecheia_puzzle_pieces.png)\n"
   ]
  },
  {
   "cell_type": "markdown",
   "id": "62bc7030",
   "metadata": {
    "slideshow": {
     "slide_type": "slide"
    },
    "tags": []
   },
   "source": [
    "## Overview\n",
    "\n",
    "NLP systems have three main components that help machines understand natural language:\n",
    "\n",
    "- **Tokenization**: Splitting a string into a list of tokens.\n",
    "- **Embedding**: Mapping tokens to vectors.\n",
    "- **Model**: A neural network that takes token vectors as input and outputs predictions.\n",
    "\n",
    "Tokenization is the first step in the NLP pipeline.\n",
    "\n",
    "- Tokenization is the process of splitting a string into a list of tokens.\n",
    "- For example, the sentence \"I like to eat apples\" can be tokenized into the list of tokens `[\"I\", \"like\", \"to\", \"eat\", \"apples\"]`.\n",
    "- The tokens can be words, characters, or subwords.\n",
    "\n",
    "> In deep learning, tokenization is the process of converting a sequence of characters into a sequence of tokens, then converting each token into a numerical vector to be used as input to a neural network.\n"
   ]
  },
  {
   "cell_type": "markdown",
   "id": "da6e6390",
   "metadata": {
    "slideshow": {
     "slide_type": "slide"
    },
    "tags": []
   },
   "source": [
    "## What is Tokenization?\n",
    "\n",
    "- Tokenization is the process of representing a text in smaller units called tokens.\n",
    "- In a very simple case, we can simply map every word in the text to a numerical index.\n",
    "- For example, the sentence \"I like to eat apples\" can be tokenized into the list of tokens:\n",
    "  > `[\"I\", \"like\", \"to\", \"eat\", \"apples\"]`.\n",
    "- Then, each token can be mapped to a unique index, such as:\n",
    "  > `{\"I\": 0, \"like\": 1, \"to\": 2, \"eat\": 3, \"apples\": 4}`.\n",
    "- There are more linguistic features to consider when tokenizing a text, such as punctuation, capitalization, and so on.\n"
   ]
  },
  {
   "cell_type": "markdown",
   "id": "01cc320d",
   "metadata": {
    "slideshow": {
     "slide_type": "slide"
    },
    "tags": []
   },
   "source": [
    "## Why do we need tokenization?\n",
    "\n",
    "- \"How can we make a machine read a sentence?\"\n",
    "- Machines don’t know any language, nor do they understand sounds or phonetics.\n",
    "- They need to be taught from scratch.\n",
    "- The first step is to break down the sentence into smaller units that the machine can process.\n",
    "- Tokenization determines how the input is represented to the model.\n",
    "- This decision has a huge impact on the performance of the model.\n"
   ]
  },
  {
   "cell_type": "markdown",
   "id": "fa9deb0f",
   "metadata": {},
   "source": [
    "## Tokenization Methods\n",
    "\n",
    "- Word-level tokenization: Split a sentence into words.\n",
    "- Character-level tokenization: Split a sentence into characters.\n",
    "- Subword-level tokenization: Split a sentence into subwords.\n"
   ]
  },
  {
   "cell_type": "markdown",
   "id": "58f4007e",
   "metadata": {
    "slideshow": {
     "slide_type": "slide"
    },
    "tags": []
   },
   "source": [
    "## Word (White Space) Tokenization\n",
    "\n",
    "- The simplest tokenization method is to split a sentence into words.\n",
    "- This is also called white space tokenization.\n",
    "- The sentence \"I like to eat apples\" can be tokenized into the list of tokens:\n",
    "  > `[\"I\", \"like\", \"to\", \"eat\", \"apples\"]`.\n",
    "- This method is very fast and easy to implement.\n",
    "- However, it has some limitations.\n"
   ]
  },
  {
   "cell_type": "markdown",
   "id": "5aedde7b",
   "metadata": {
    "slideshow": {
     "slide_type": "slide"
    },
    "tags": []
   },
   "source": [
    "### Problems with Word tokenizer\n",
    "\n",
    "- Out-of-vocabulary (OOV) words:\n",
    "  - The risk of missing words that are not in the vocabulary.\n",
    "  - The model will not recognize the variants of words that were not in the training set.\n",
    "  - For example, even though the words `pine` and `apple` exist in the training set, the model will not recognize the word `pineapple`.\n",
    "- Punctuation and abbreviations:\n",
    "  - The tokenizer will not recognize punctuation and abbreviations.\n",
    "  - For example, the word `don't` will be tokenized as `[\"do\", \"n't\"]`.\n",
    "- Slang and informal language:\n",
    "  - The tokenizer will not recognize slang and informal language.\n",
    "  - For example, the word `gonna` will be tokenized as `[\"gon\", \"na\"]`.\n",
    "  - `tl;dr` will be tokenized as `[\"tl\", \";\", \"dr\"]`.\n",
    "- What if language does not use spaces for separating words?\n",
    "  - Chinese, Japanese, and Korean do not use spaces to separate words.\n",
    "  - The tokenizer will not work for these languages.\n"
   ]
  },
  {
   "cell_type": "markdown",
   "id": "471f5243",
   "metadata": {
    "slideshow": {
     "slide_type": "slide"
    },
    "tags": []
   },
   "source": [
    "## Character Tokenization\n",
    "\n",
    "- To solve the problems of word tokenization, we can split a sentence into characters.\n",
    "- The sentence \"I like to eat apples\" can be tokenized into the list of tokens:\n",
    "  > `[\"I\", \" \", \"l\", \"i\", \"k\", \"e\", \" \", \"t\", \"o\", \" \", \"e\", \"a\", \"t\", \" \", \"a\", \"p\", \"p\", \"l\", \"e\", \"s\"]`.\n",
    "- However, this method has its own problems.\n"
   ]
  },
  {
   "cell_type": "markdown",
   "id": "e86c38ec",
   "metadata": {
    "slideshow": {
     "slide_type": "slide"
    },
    "tags": []
   },
   "source": [
    "### Problems with Character tokenizer\n",
    "\n",
    "- The number of tokens is very large.\n",
    "  - This requires more computation and memory.\n",
    "- Limit the application of the model.\n",
    "  - Only certain types of models can be used.\n",
    "  - It is inefficient for the certain types of applications, such as NER.\n",
    "- It would be difficult to understand the relationship between the tokens.\n",
    "  - For example, the tokens `[\"a\", \"p\", \"p\", \"l\", \"e\"]` do not represent the word `apple`.\n",
    "  - The tokens `[\"a\", \"p\", \"p\", \"l\", \"e\"]` do not have any relationship with the tokens `[\"a\", \"p\", \"p\", \"l\", \"e\", \"s\"]`.\n",
    "- Incorrect spelling could be generated.\n"
   ]
  },
  {
   "cell_type": "markdown",
   "id": "b35d9aa2",
   "metadata": {
    "slideshow": {
     "slide_type": "slide"
    },
    "tags": []
   },
   "source": [
    "## Subword Tokenization\n",
    "\n",
    "- With character-level tokenization, we risk losing the semantic features of the words.\n",
    "- With word-level tokenization, we have out-of-vocabulary (OOV) words or very large vocabulary sizes.\n",
    "- To solve the problems of word tokenization and character tokenization, an algorithm should be able to:\n",
    "  - Retain the semantic features of the words.\n",
    "  - Tokenize any words without the need for a huge vocabulary.\n",
    "- Subword tokenization is a method that can solve these problems.\n",
    "- For example, the sentence \"I like to eat pineapples\" can be tokenized into the list of tokens:\n",
    "  > `[\"I\", \"like\", \"to\", \"eat\", \"pine\", \"##app\", \"##les\"]`.\n",
    "- The model only learns a few subwords that can be used to represent any word.\n",
    "- This solves the problem of OOV words.\n"
   ]
  },
  {
   "cell_type": "markdown",
   "id": "849ac9c3",
   "metadata": {
    "slideshow": {
     "slide_type": "slide"
    },
    "tags": []
   },
   "source": [
    "### How to decide which subwords to use?\n",
    "\n",
    "- There are several algorithms that can be used to decide which subwords to use.\n",
    "  - Byte Pair Encoding (BPE)\n",
    "  - Byte-level BPE\n",
    "  - WordPiece\n",
    "  - Unigram\n",
    "  - SentencePiece\n",
    "  - Subword Sampling\n",
    "  - BPE-dropout\n"
   ]
  },
  {
   "cell_type": "markdown",
   "id": "5f999992",
   "metadata": {
    "slideshow": {
     "slide_type": "slide"
    },
    "tags": []
   },
   "source": [
    "## Normalization and pre-tokenization\n",
    "\n",
    "- Before tokenization, we need to normalize the text.\n",
    "- Normalization is the process of converting a text to a standard form.\n",
    "- For example, we can convert all characters to lowercase.\n",
    "\n",
    "![](../figs/deep_nlp/tokenization/tokenization_pipeline.png)"
   ]
  },
  {
   "cell_type": "markdown",
   "id": "73f019d7",
   "metadata": {
    "slideshow": {
     "slide_type": "slide"
    },
    "tags": []
   },
   "source": [
    "The Transformers tokenizer has an attribute called backend_tokenizer that provides access to the underlying tokenizer from the Tokenizers library:"
   ]
  },
  {
   "cell_type": "code",
   "execution_count": 1,
   "id": "b17f6fa2",
   "metadata": {},
   "outputs": [
    {
     "name": "stdout",
     "output_type": "stream",
     "text": [
      "<class 'tokenizers.Tokenizer'>\n"
     ]
    }
   ],
   "source": [
    "from transformers import AutoTokenizer\n",
    "\n",
    "tokenizer = AutoTokenizer.from_pretrained(\"bert-base-uncased\")\n",
    "print(type(tokenizer.backend_tokenizer))"
   ]
  },
  {
   "cell_type": "code",
   "execution_count": 2,
   "id": "5c37f643",
   "metadata": {},
   "outputs": [
    {
     "name": "stdout",
     "output_type": "stream",
     "text": [
      "hello how are u?\n"
     ]
    }
   ],
   "source": [
    "print(tokenizer.backend_tokenizer.normalizer.normalize_str(\"Héllò hôw are ü?\"))"
   ]
  },
  {
   "cell_type": "markdown",
   "id": "6a5ebd04",
   "metadata": {
    "slideshow": {
     "slide_type": "slide"
    },
    "tags": []
   },
   "source": [
    "### Pre-tokenization\n",
    "\n",
    "- A tokenizer cannot be trained on raw text alone.\n",
    "- First, we need to split the text into smaller units, like words or characters.\n",
    "- Pre-tokenization is the process of splitting the text into smaller units before tokenization."
   ]
  },
  {
   "cell_type": "code",
   "execution_count": 3,
   "id": "72071935",
   "metadata": {
    "slideshow": {
     "slide_type": "slide"
    },
    "tags": []
   },
   "outputs": [
    {
     "data": {
      "text/plain": [
       "[('Hello', (0, 5)),\n",
       " (',', (5, 6)),\n",
       " ('how', (7, 10)),\n",
       " ('are', (11, 14)),\n",
       " ('you', (16, 19)),\n",
       " ('?', (19, 20))]"
      ]
     },
     "execution_count": 3,
     "metadata": {},
     "output_type": "execute_result"
    }
   ],
   "source": [
    "tokenizer = AutoTokenizer.from_pretrained(\"bert-base-uncased\")\n",
    "tokenizer.backend_tokenizer.pre_tokenizer.pre_tokenize_str(\"Hello, how are  you?\")"
   ]
  },
  {
   "cell_type": "code",
   "execution_count": 4,
   "id": "16314362",
   "metadata": {
    "slideshow": {
     "slide_type": "slide"
    },
    "tags": []
   },
   "outputs": [
    {
     "data": {
      "text/plain": [
       "[('Hello', (0, 5)),\n",
       " (',', (5, 6)),\n",
       " ('Ġhow', (6, 10)),\n",
       " ('Ġare', (10, 14)),\n",
       " ('Ġ', (14, 15)),\n",
       " ('Ġyou', (15, 19)),\n",
       " ('?', (19, 20))]"
      ]
     },
     "execution_count": 4,
     "metadata": {},
     "output_type": "execute_result"
    }
   ],
   "source": [
    "tokenizer = AutoTokenizer.from_pretrained(\"gpt2\")\n",
    "tokenizer.backend_tokenizer.pre_tokenizer.pre_tokenize_str(\"Hello, how are  you?\")"
   ]
  },
  {
   "cell_type": "code",
   "execution_count": 5,
   "id": "601e6253",
   "metadata": {
    "slideshow": {
     "slide_type": "slide"
    },
    "tags": []
   },
   "outputs": [
    {
     "name": "stderr",
     "output_type": "stream",
     "text": [
      "/opt/conda/lib/python3.8/site-packages/transformers/models/t5/tokenization_t5_fast.py:156: FutureWarning: This tokenizer was incorrectly instantiated with a model max length of 512 which will be corrected in Transformers v5.\n",
      "For now, this behavior is kept to avoid breaking backwards compatibility when padding/encoding with `truncation is True`.\n",
      "- Be aware that you SHOULD NOT rely on t5-small automatically truncating your input to 512 when padding/encoding.\n",
      "- If you want to encode/pad to sequences longer than 512 you can either instantiate this tokenizer with `model_max_length` or pass `max_length` when encoding/padding.\n",
      "- To avoid this warning, please instantiate this tokenizer with `model_max_length` set to your preferred value.\n",
      "  warnings.warn(\n"
     ]
    },
    {
     "data": {
      "text/plain": [
       "[('▁Hello,', (0, 6)),\n",
       " ('▁how', (7, 10)),\n",
       " ('▁are', (11, 14)),\n",
       " ('▁you?', (16, 20))]"
      ]
     },
     "execution_count": 5,
     "metadata": {},
     "output_type": "execute_result"
    }
   ],
   "source": [
    "tokenizer = AutoTokenizer.from_pretrained(\"t5-small\")\n",
    "tokenizer.backend_tokenizer.pre_tokenizer.pre_tokenize_str(\"Hello, how are  you?\")"
   ]
  },
  {
   "cell_type": "markdown",
   "id": "e79fd915",
   "metadata": {
    "slideshow": {
     "slide_type": "slide"
    },
    "tags": []
   },
   "source": [
    "## Byte Pair Encoding (BPE)\n",
    "\n",
    "Sennrich et al. (2016) proposed a method called Byte Pair Encoding (BPE) to learn subword units.\n",
    "{cite}`sennrich-etal-2016-neural`\n",
    "\n",
    "- Byte Pair Encoding algorithm is originally used for compressing text.\n",
    "- It splits words into sequences of characters and iteratively combines the most frequent character pairs.\n"
   ]
  },
  {
   "cell_type": "markdown",
   "id": "ba4c0a95",
   "metadata": {
    "slideshow": {
     "slide_type": "slide"
    },
    "tags": []
   },
   "source": [
    "### How to learn subwords from data?\n",
    "\n",
    "- Count the frequency of each word shown in the corpus.\n",
    "- For each word, append a special stop token `</w>` at the end of the word.\n",
    "- Then, split the word into characters.\n",
    "- Initially, the tokens of the word are all of its characters plus the additional `</w>` token.\n",
    "- For example, the tokens for word `low` are [`l`, `o`, `w`, `</w>`] in order.\n",
    "- So after counting all the words in the dataset, we will get a vocabulary for the tokenized word with its corresponding counts\n",
    "\n",
    "```\n",
    "{'l o w </w>': 5, 'l o w e r </w>': 2, 'n e w e s t </w>': 6, 'w i d e s t </w>': 3}\n",
    "```\n"
   ]
  },
  {
   "cell_type": "markdown",
   "id": "2b470e11",
   "metadata": {
    "slideshow": {
     "slide_type": "slide"
    },
    "tags": []
   },
   "source": [
    "- In each iteration, count the frequency of each consecutive byte pair, find out the most frequent one, and merge the two byte pair tokens to one token.\n",
    "\n",
    "- For the above example, in the first iteration of the merge, because byte pair `e` and `s` occurred 6 + 3 = 9 times which is the most frequent, merge these into a new token `es`.\n",
    "- Note that token `s` is also gone in this particular example.\n",
    "\n",
    "```\n",
    "{'l o w </w>': 5, 'l o w e r </w>': 2, 'n e w es t </w>': 6, 'w i d es t </w>': 3}\n",
    "```\n"
   ]
  },
  {
   "cell_type": "markdown",
   "id": "2d20dc35",
   "metadata": {
    "slideshow": {
     "slide_type": "slide"
    },
    "tags": []
   },
   "source": [
    "- In the second iteration of merge, token `es` and `t` occurred 6 + 3 = 9 times, which is the most frequent.\n",
    "- Merge these to into a new token `est`.\n",
    "- Note that token `es` and `t` are also gone.\n",
    "\n",
    "```\n",
    "{'l o w </w>': 5, 'l o w e r </w>': 2, 'n e w est </w>': 6, 'w i d est </w>': 3}\n",
    "```\n"
   ]
  },
  {
   "cell_type": "markdown",
   "id": "caae4514",
   "metadata": {
    "slideshow": {
     "slide_type": "slide"
    },
    "tags": []
   },
   "source": [
    "- In the third iteration of the merge, token `est` and `</w>` pair is the most frequent, etc.\n",
    "- Do this until we have the desired number of tokens or reach the maximum number of iterations.\n",
    "\n",
    "Stop token `</w>` is also important.\n",
    "\n",
    "- Without `</w>`, say if there is a token `st`, this token could be in the word `st ar`, or the wold `wide st`.\n",
    "- Those two words are very different in meaning, but the token `st` is the same.\n",
    "- With `</w>`, if there is a token `st</w>`, the model immediately know that it is the token for the wold `wide st</w>` but not `st ar</w>`.\n"
   ]
  },
  {
   "cell_type": "markdown",
   "id": "89dd9f95",
   "metadata": {
    "slideshow": {
     "slide_type": "slide"
    },
    "tags": []
   },
   "source": [
    "To summarize, the algorithm is as follows:\n",
    "\n",
    "1. Extract the words from the given dataset along with their count.\n",
    "2. Define the vocabulary size.\n",
    "3. Split the words into a character sequence.\n",
    "4. Add all the unique characters in our character sequence to the vocabulary.\n",
    "5. Select and merge the symbol pair that has a high frequency.\n",
    "6. Repeat step 5 until the vocabulary size is reached.\n"
   ]
  },
  {
   "cell_type": "markdown",
   "id": "48017f83",
   "metadata": {
    "slideshow": {
     "slide_type": "slide"
    },
    "tags": []
   },
   "source": [
    "### BPE in Practice\n"
   ]
  },
  {
   "cell_type": "code",
   "execution_count": 24,
   "id": "e89c1712",
   "metadata": {},
   "outputs": [],
   "source": [
    "import re, collections\n",
    "\n",
    "\n",
    "def get_vocab(texts):\n",
    "    vocab = collections.defaultdict(int)\n",
    "    for text in texts:\n",
    "        words = text.strip().lower().split()\n",
    "        for word in words:\n",
    "            vocab[\" \".join(list(word)) + \" </w>\"] += 1\n",
    "    return vocab"
   ]
  },
  {
   "cell_type": "code",
   "execution_count": 7,
   "id": "c9005578",
   "metadata": {},
   "outputs": [],
   "source": [
    "def get_stats(vocab):\n",
    "    pairs = collections.defaultdict(int)\n",
    "    for word, freq in vocab.items():\n",
    "        symbols = word.split()\n",
    "        for i in range(len(symbols) - 1):\n",
    "            pairs[symbols[i], symbols[i + 1]] += freq\n",
    "    return pairs"
   ]
  },
  {
   "cell_type": "code",
   "execution_count": 8,
   "id": "3050ea0d",
   "metadata": {
    "slideshow": {
     "slide_type": "slide"
    },
    "tags": []
   },
   "outputs": [],
   "source": [
    "def merge_vocab(pair, v_in):\n",
    "    v_out = {}\n",
    "    bigram = re.escape(\" \".join(pair))\n",
    "    p = re.compile(r\"(?<!\\S)\" + bigram + r\"(?!\\S)\")\n",
    "    for word in v_in:\n",
    "        w_out = p.sub(\"\".join(pair), word)\n",
    "        v_out[w_out] = v_in[word]\n",
    "    return v_out"
   ]
  },
  {
   "cell_type": "code",
   "execution_count": 9,
   "id": "3e66f329",
   "metadata": {},
   "outputs": [],
   "source": [
    "def get_tokens_from_vocab(vocab):\n",
    "    tokens_frequencies = collections.defaultdict(int)\n",
    "    vocab_tokenization = {}\n",
    "    for word, freq in vocab.items():\n",
    "        word_tokens = word.split()\n",
    "        for token in word_tokens:\n",
    "            tokens_frequencies[token] += freq\n",
    "        vocab_tokenization[\"\".join(word_tokens)] = word_tokens\n",
    "    return tokens_frequencies, vocab_tokenization"
   ]
  },
  {
   "cell_type": "code",
   "execution_count": 1,
   "id": "edcfa16f",
   "metadata": {
    "slideshow": {
     "slide_type": "slide"
    },
    "tags": []
   },
   "outputs": [
    {
     "data": {
      "text/plain": [
       "'Investing com Asian stock markets were broadly lower for a second day on Thursday as weak U S data o'"
      ]
     },
     "execution_count": 1,
     "metadata": {},
     "output_type": "execute_result"
    }
   ],
   "source": [
    "from ekorpkit import eKonf\n",
    "\n",
    "cfg = eKonf.compose(\"path\")\n",
    "cfg.cache.uri = \"https://github.com/entelecheia/ekorpkit-book/raw/main/assets/data/us_equities_news_sampled.zip\"\n",
    "data = eKonf.load_data(\"us_equities_news_sampled.parquet\", cfg.cached_path)\n",
    "data.text[0][:100]\n"
   ]
  },
  {
   "cell_type": "code",
   "execution_count": 25,
   "id": "6a0e2d4b",
   "metadata": {},
   "outputs": [
    {
     "name": "stdout",
     "output_type": "stream",
     "text": [
      "Tokens Before BPE\n",
      "All tokens: dict_keys(['i', 'n', 'v', 'e', 's', 't', 'g', '</w>', 'c', 'o', 'm', 'a', 'k', 'r', 'w', 'b', 'd', 'l', 'y', 'f', 'h', 'u', 'p', 'x', '1', '5', '2', '0', 'j', '7', '9', '3', 'q', '6', '8', '4', 'z'])\n",
      "Number of tokens: 37\n"
     ]
    }
   ],
   "source": [
    "vocab = get_vocab(data.text[:100])\n",
    "\n",
    "print(\"Tokens Before BPE\")\n",
    "tokens_frequencies, vocab_tokenization = get_tokens_from_vocab(vocab)\n",
    "print('All tokens: {}'.format(tokens_frequencies.keys()))\n",
    "print('Number of tokens: {}'.format(len(tokens_frequencies.keys())))"
   ]
  },
  {
   "cell_type": "code",
   "execution_count": 26,
   "id": "e34d72e9",
   "metadata": {
    "scrolled": true,
    "slideshow": {
     "slide_type": "slide"
    },
    "tags": []
   },
   "outputs": [
    {
     "name": "stdout",
     "output_type": "stream",
     "text": [
      "Iter: 1\n",
      "Best pair: ('s', '</w>')\n",
      "All tokens: dict_keys(['i', 'n', 'v', 'e', 's', 't', 'g', '</w>', 'c', 'o', 'm', 'a', 'k', 'r', 's</w>', 'w', 'e</w>', 'b', 'd', 'l', 'y', 'f', 'h', 'u', 'p', 'x', '1', '5', '2', '0', 'j', '7', '9', '3', 'q', '6', '8', '4', 'z'])\n",
      "Number of tokens: 39\n",
      "====================\n",
      "Iter: 2\n",
      "Best pair: ('i', 'n')\n",
      "All tokens: dict_keys(['in', 'v', 'e', 's', 't', 'g', '</w>', 'c', 'o', 'm', 'a', 'i', 'n', 'k', 'r', 's</w>', 'w', 'e</w>', 'b', 'd', 'l', 'y', 'f', 'h', 'u', 'p', 'x', '1', '5', '2', '0', 'j', '7', '9', '3', 'q', '6', '8', '4', 'z'])\n",
      "Number of tokens: 40\n",
      "====================\n",
      "Iter: 999\n",
      "Best pair: ('he', 'al')\n",
      "All tokens: dict_keys(['invest', 'ing</w>', 'com', '</w>', 'as', 'ian</w>', 'stock</w>', 'markets</w>', 'were</w>', 'bro', 'ad', 'ly</w>', 'lower</w>', 'for</w>', 'a</w>', 'second</w>', 'day</w>', 'on</w>', 'th', 'ur', 's', 'as</w>', 'we', 'ak</w>', 'u</w>', 's</w>', 'data</w>', 'dur', 'able</w>', 'goo', 'ds</w>', 'or', 'd', 'ers</w>', 'ded</w>', 'to</w>', 'con', 'cer', 'ns</w>', 'over</w>', 'the</w>', 'global</w>', 'growth</w>', 'out', 'look</w>', 'while</w>', 'declin', 'corpor', 'ate</w>', 'prof', 'its</w>', 'also</w>', 'igh', 'ed</w>', 'l', 'trade</w>', 'h', 'ong</w>', 'k', 'an', 'g</w>', 'sen', 'index</w>', 't', 'um', 'bl', '1</w>', '5', '5</w>', 'au', 'str', 'al', 'ia</w>', 'x</w>', '20', '0</w>', 'di', 'pped</w>', 'jap', 'an</w>', 'n', 'i', 'ke', 'i</w>', '2', '25</w>', 'sh', '7</w>', 'c', 'ame</w>', 'further</w>', 'off</w>', 'one</w>', 'year</w>', 'clo', 'sing</w>', 'high</w>', 'it</w>', 'earlier</w>', 'in</w>', 'week</w>', 'investors</w>', 'cas', 'a', 'head</w>', 'of</w>', 'ese</w>', 'fisc', 'al</w>', 'end</w>', 'mar', 'ch</w>', 'is</w>', 'fin', 'month</w>', 'and</w>', 'market</w>', 'par', 'ticip', 'ts</w>', 'have</w>', 'expected</w>', 'many</w>', 'fun', 'oc', 'k</w>', 'from</w>', 'me', 'te', 'ic</w>', '1', '9</w>', 'r', 'ally</w>', 'j', 'u', 'ary</w>', 'peri', 'o', 'd</w>', 'after</w>', 'e', 'ding</w>', 'more</w>', 'than</w>', '13</w>', 'ap', 'il</w>', 'dec', 'ember</w>', 'ex', 'port', 'which</w>', 'gain', 'shar', 'p', 'first</w>', 'quarter</w>', 'back</w>', 'ak', 'en', 'yen</w>', 'om', 'to', 'y', 'is', 'ped</w>', '6', '8</w>', 'res', 'pec', 'ti', 'vely</w>', 'consumer</w>', 'elec', 'tr', 'on', 'ic', 'gi', 'ant</w>', 'y</w>', 're', 'ated</w>', 'up', 'side</w>', 'p</w>', 'sa', 'w</w>', 'shares</w>', 'ump</w>', '6</w>', 'ten', 'pre', 'vi', 'ous</w>', '15</w>', 'follow', 'repor', 'that</w>', 'ta', 'w', 'ha', 'ci', 'sion</w>', 'industry</w>', 'bu', 'ying</w>', '10</w>', 'manufac', 'tur', 'er</w>', '9', 'billion</w>', 'with</w>', 'two</w>', 'form</w>', 'e</w>', 'up</w>', 'li', 'qu', 'id</w>', 'cr', 'st', 'pl', 'ay</w>', 'production</w>', 'el', 'se', 'where</w>', 'under</w>', 'pres', 'sure</w>', 'am', 'ing', 'er', 'f', 'ear', 'ard</w>', 'china</w>', 'wor', 'ries</w>', 'pic', 'c</w>', 'pro', 'per', 'ty</w>', 'big', 'gest</w>', 'fe</w>', 'in', 'sur', 'dro', '4</w>', 'ting</w>', '201', 'net</w>', 'come</w>', 'rose</w>', 'ny', '0', '3</w>', 'mis', 'expec', 'ations</w>', 'ip', 'tain', 'lin', 'es</w>', 'fell</w>', 'ation</w>', 'lar', 'car', 'ri', 'reported</w>', 'lo', 'ss</w>', '2</w>', '7', 'last</w>', 'wi', 'der</w>', 'average</w>', 'estimate</w>', 'ris', 'fu', 'el</w>', 'co', 'sts</w>', 'demand</w>', 'port</w>', 'oper', 'at', 'or</w>', 'm', 'chan', 'old', 'ings</w>', 'ann', 'due</w>', 'ar', 'b', 'de', 'trad', 'chin', 'ban', 'ks</w>', 'indu', 'stri', 'comm', 'ial</w>', 'bank</w>', 'down</w>', 'their</w>', 'earnings</w>', 'lat', 'ra', 'mat', 'produc', 'cont', 'ted</w>', 'ses</w>', 'op', 'per</w>', 'min', 'g', 'x', 'company</w>', 'um</w>', 'ch', 'co</w>', 'oil</w>', 'maj', 'ors</w>', 'pe', 'ro', 'no', 'but</w>', 'perform', 'onal</w>', 'equ', 'ities</w>', 'remain', 'se</w>', 'four</w>', 'was</w>', 'by</w>', 'line</w>', 'le', 'coun', 'try</w>', 'tion</w>', 'un', 'der', '3', 'will</w>', 'be</w>', 'between</w>', '4', '00</w>', 'million</w>', '50</w>', 'below</w>', 'it', 'increased</w>', 't</w>', 'ther</w>', 'v', 'ity</w>', 'euro', 'il', 'en</w>', 'sup', 'por', 'o</w>', 'z', 'lead', 'increase</w>', 'si', 'deb', 'fi', 'all</w>', 'at</w>', 'fr', 'ance</w>', 'ac', 'da', 'ged</w>', 'pu', 'sh</w>', 'offic', 'employ', 'ment</w>', 'change</w>', 'rele', 'ase</w>', 'iti', 'jo', 'ess</w>', 'cl', 'im', 'soli', 'ec', 'product</w>', 'ver', 'strong</w>', 'br', 'rec', 'og', 'hel', 'pepsico</w>', 'inc</w>', 'nyse</w>', 'n</w>', 'ir', 'performance</w>', 'tt', 'le</w>', 'mi', 'revenue</w>', 'eps</w>', 'bar', 'ely</w>', 'consensus</w>', 'targ', 'et</w>', 'for', 'ex</w>', 'fl', 'tu', 'of', 'ter</w>', 'so', 'sales</w>', 'some</w>', 'po', 'ght</w>', 'results</w>', 'us</w>', 'low</w>', 'do', 'ad</w>', 'ture</w>', 'this</w>', 'analy', 'tic', 'what</w>', 'you</w>', 'can</w>', 'be', 'ond</w>', 'ap</w>', 'est</w>', 'q', 'high', 'gener', '18</w>', 'shor', 'ago</w>', 'ful', 'l</w>', 'over', 'view</w>', 'sted</w>', '11</w>', 'show', 'st</w>', 'years</w>', 'gu', 'id', 'loo', 'king</w>', 'however</w>', 'call', 'ill', 'about</w>', 'es', 'boo', 'get</w>', 'ning</w>', 'mon', 'ey</w>', 'r</w>', 'see', 'recent</w>', 'he', 'av', 'ily</w>', 'dri', 've</w>', 'through</w>', 'ff', 'enti', 'products</w>', 'estim', 'early</w>', 'has</w>', 'la', 'num', 'ber</w>', 'new</w>', 'ach</w>', 'ating</w>', 'retail</w>', 'addi', 'int', 'duc', 'ef', 'are</w>', 'ow', 'expan', 'stre', 'am</w>', 'su', 'verage</w>', 'business</w>', 'inclu', 'ative</w>', 'pac', 'ag', 'reas', 'ons</w>', 'all', 'people</w>', 'increas', 'bec', 'wee', 'us', 'heal', 'th</w>', 'they</w>', 'such</w>', 'if', 'enc', 'our', 'age</w>', 'ke</w>', 'sc', 'consum', 'pur', 'comp', 'em', 'ent', 'mo', 'sal', 'acks</w>', 'world</w>', 'ence</w>', 'develop', 'econom', 'ies</w>', 'ge</w>', 'opportun', 'go', 'gre', 'adv', 'ys</w>', 'ple</w>', 'de</w>', 'ju', 'because</w>', 'when</w>', 'cu', 'als</w>', 'other</w>', 'ving</w>', 'benef', 'om</w>', 'today</w>', 'eg', 'ory</w>', 'ack</w>', 'off', 'set</w>', 'tn', 'grow', 'manag', 'ement</w>', 'gro', 'point</w>', 'third</w>', 'coming</w>', 'gres', 'sive</w>', 'marke', 'ft</w>', 'ile</w>', 'ran', 'past</w>', 'sp', 'ast</w>', 'ul', 'pr', 'techn', 'most</w>', 'fac', 'pa', 'ig', 'into</w>', 'ou', 'bre', 'chi', 'ps</w>', 'these</w>', 'margin</w>', 'provi', 'bo', 'support</w>', 'been</w>', 'out</w>', 'gr', 'ph', 'wh', 'ves</w>', 'way</w>', 'another</w>', 'ati', 'oun', 'current</w>', 'm</w>', '2019</w>', 'pri', 'bet', 'cap', 'sim', 'iz', 'intern', 'ational</w>', 'ear</w>', 'capit', 'still</w>', 'ven</w>', 'there</w>', 'so</w>', 'much</w>', 'make</w>', 'mor', 'ce</w>', 'ans</w>', 'no</w>', 'may</w>', 'exp', 'share</w>', 'marg', 'ne', 'impac', 'ents</w>', 'busin', 'read', 'ates</w>', 'revenues</w>', 'do</w>', 'those</w>', 'contin', 'ues</w>', 'inv', '20</w>', 'ked</w>', 'investment</w>', 'mex', 'ico</w>', 'next</w>', 'thir', 'seen</w>', 'eng', 'term</w>', 'currency</w>', 'low', 'lim', 'vol', 'ar</w>', 'ough</w>', 'well</w>', 'not</w>', 'ol', 'group</w>', 'att', 'ind', 'eh', 'retur', 'value</w>', 'divid', 'ently</w>', 'ned</w>', 'aliz', 'before</w>', 'spec', 'same</w>', 'disc', 'sed</w>', 'end', 'earch</w>', 'report</w>', 'only</w>', 'sel', 'ect</w>', 'secur', 'companies</w>', 'can', 'sub', 'sti', 'te</w>', 'any</w>', 'lu', 'ure</w>', 'ited</w>', 'based</w>', 'form', 'cur', 'sec', 'sul', 'ob', 'belie', 'ved</w>', 'ther', 'fore</w>', 'estimates</w>', 'best</w>', 'with', 'mic', 'technology</w>', 'nasdaq</w>', 'higher</w>', 'price</w>', 'hi', 'analysts</w>', 'ific', '60</w>', 'll</w>', 'just</w>', '12</w>', '14</w>', 'equity</w>', 'buy</w>', 'better</w>', 'hold</w>', 'surprise</w>', 'tim', 'quar', 'ter', 'tor</w>', 'ite</w>', 'three</w>', 'ight</w>', 'time</w>', 'around</w>', 'tions</w>', 'pric', 'fri', 'trading</w>', 'move</w>', 'fed</w>', 'rates</w>', 'tw', 'days</w>', 'red</w>', '8', 'sig', 'ain</w>', 'h</w>', 'acti', '000</w>', 'compar', 'trac', 'posi', 'gold</w>', 'silver</w>', 'f</w>', 'seas', 'ma', 'vel', 'resul', 'ru', 'rati', 'tal</w>', 'like</w>', 'ger</w>', 'ever</w>', 'cy', 'ical</w>', 'now</w>', 'major</w>', 'economy</w>', 'rate</w>', 'key</w>', 'val', 'gh', 'est', 'news</w>', 'cre', 'som', 'think</w>', 'rel', 'prices</w>', 'since</w>', 'should</w>', 'ue</w>', 'months</w>', 'du', 'pp', 'see</w>', 'very</w>', 'ver</w>', 'govern', 'valu', 'stor', 'leg', 'ste', 'old</w>', 'man', 'infl', 'ent</w>', 'kers</w>', 'them</w>', 'main', 'medi', 'goldman</w>', 'ach', 'long</w>', 'forec', 'who</w>', 'tal', 'ain', 'consid', 'against</w>', 're</w>', 'americ', 'oo', 'me</w>', 'ab', 'inter', 'trend</w>', 'sy', 'stoc', 'new', 'indic', 'sector</w>', 'fir', 'fe', 'likely</w>', 'ail', 'war', 'son</w>', 'ill</w>', 'yn', 'ber', 'our</w>', 'ments</w>', 'if</w>', 'illion</w>', 'stocks</w>', 'we</w>', 'ms</w>', 'reta', 'portfoli', 'tors</w>', 'deli', 'tive</w>', 'curr', 'ans', 'servic', 'qui', 'rou', 'anc', 'wa', 'operating</w>', '30</w>', 'bas', 'poin', 'zacks</w>', 'rank</w>', 'currently</w>', 'would</w>', 'strateg', '2017</w>', '500</w>', 'even</w>', 'top</w>', 'reuters</w>', 'ward</w>', 'recor', '10', 'level</w>', 'level', 'above</w>', 'ree</w>', 'star', 'how</w>', 'ow</w>', 'here</w>', 'dollar</w>', 'sum', 'cor', 'had</w>', 'could</w>', 'fol', 'his</w>', 'dow', 'ade</w>', 'inc', 'dem', 'presid', 'divi', 'tly</w>', 'esday</w>', 'ir</w>', 'ser', 'ble</w>', 'ener', 'financ', 'technolog', 'ere</w>', 'hn', 'del', 'thin', 'led</w>', 'un</w>', 'bri', 'according</w>', 'and', 'et', 'ratio</w>', 'cash</w>', 'yiel', 'b</w>', 'dge</w>', 'he</w>', 'compan', 'ven', 'ore</w>', '21</w>', 'acc', 'mu', 'fund</w>', 'tec', 'vic', 'ures</w>', 'sil', 'custom', 'lik', 'az', 'currenc', 'sid', 'said</w>', 'percent</w>', 'sell</w>', '200', 'cru', 'res</w>', 'dn', 'president</w>', 'illi', 'oli', 'sin', 'ose</w>', 'olog', 'eu', 'ce', 'cents</w>', 'positive</w>', 'ters</w>', 'man</w>', 'ie', 'ben', 'tg', 'ell</w>', 'rise</w>', 'fer', 'emplo', 'polic', 'ound</w>', 'glob', 'plo', 'ich</w>', 'amer', 'strat', 'year', 'trump</w>', 'security</w>', 'dollar', 'vie', 'total</w>', 'cloud</w>', 'oud</w>', 'aly', 'you', 'stry</w>', 'accor', 'activi', 'ace</w>', 'pol', 'bel', 'gh</w>', 'overn', 'uters</w>', 'glo', 'month', 'arg', 'surpri', 'financial</w>', 'gold', 'af', 'ld</w>', 'earn', 'the', 'q</w>', 'throu', 'ps', 'sus</w>', 'isc', 'ata</w>', 'dol', 'ext</w>', 'ause</w>', 'fur', 'econ', 'cent</w>', 'lier</w>', 'reven', 'ince</w>', 'nas', 'how', 'iel', 'devel', 'fro', 'manu'])\n",
      "Number of tokens: 1025\n",
      "====================\n"
     ]
    }
   ],
   "source": [
    "num_merges = 1000\n",
    "iter_to_print = [1, 2, num_merges - 1]\n",
    "for i in range(num_merges):\n",
    "    pairs = get_stats(vocab)\n",
    "    if not pairs:\n",
    "        break\n",
    "    best = max(pairs, key=pairs.get)\n",
    "    vocab = merge_vocab(best, vocab)\n",
    "    tokens_frequencies, vocab_tokenization = get_tokens_from_vocab(vocab)\n",
    "    if i in iter_to_print:\n",
    "        print(\"Iter: {}\".format(i))\n",
    "        print(\"Best pair: {}\".format(best))\n",
    "        print('All tokens: {}'.format(tokens_frequencies.keys()))\n",
    "        print('Number of tokens: {}'.format(len(tokens_frequencies.keys())))\n",
    "        print(\"=\" * 20)"
   ]
  },
  {
   "cell_type": "markdown",
   "id": "aa7e33af",
   "metadata": {
    "slideshow": {
     "slide_type": "slide"
    },
    "tags": []
   },
   "source": [
    "### Encoding and Decoding\n",
    "\n",
    "#### Decoding\n",
    "\n",
    "- Decoding is extremely simple.\n",
    "- Just concatenate all the tokens together and remove the stop token `</w>`.\n",
    "- For example, if the encoded sequence is [`the</w>`, `high`, `est</w>`, `moun`, `tain</w>`], the decoded sequence is `the highest mountain`.\n"
   ]
  },
  {
   "cell_type": "markdown",
   "id": "dbbd4c6e",
   "metadata": {
    "slideshow": {
     "slide_type": "slide"
    },
    "tags": []
   },
   "source": [
    "#### Encoding\n",
    "\n",
    "For the sentence `the highest mountain`,\n",
    "\n",
    "- List all the tokens in the vocabulary in the order of their length.\n",
    "- For each word, find the longest token that is a subword of the word.\n",
    "- Assume that the vocabulary is `[\"errrr</w>\", \"tain</w>\", \"moun\", \"est</w>\", \"high\", \"the</w>\", \"a</w>\"]`.\n",
    "- Iterate from the longest token `errrr</w>` to the shortest token `a</w>` trying to find the longest token that is a subword of the word.\n",
    "- After all the tokens are checked, all the substrings of the word will be replaced by the tokens.\n",
    "- If there is no token that is a subword of the word, then the word is replaced by the unknown token `</u>`.\n",
    "- In this example, the word `the` is replaced by `the</w>`, the word `highest` is replaced by `high est</w>`, and the word `mountain` is replaced by `moun tain</w>`.\n",
    "- Encoding is very computationally expensive.\n"
   ]
  },
  {
   "cell_type": "markdown",
   "id": "f19d6764",
   "metadata": {
    "slideshow": {
     "slide_type": "slide"
    },
    "tags": []
   },
   "source": [
    "### BPE Encoding and Decoding in Practice\n"
   ]
  },
  {
   "cell_type": "code",
   "execution_count": 27,
   "id": "d2cb63c4",
   "metadata": {},
   "outputs": [],
   "source": [
    "def measure_token_length(token):\n",
    "    if token[-4:] == \"</w>\":\n",
    "        return len(token[:-4]) + 1\n",
    "    else:\n",
    "        return len(token)"
   ]
  },
  {
   "cell_type": "code",
   "execution_count": 28,
   "id": "46250ae1",
   "metadata": {
    "slideshow": {
     "slide_type": "slide"
    },
    "tags": []
   },
   "outputs": [],
   "source": [
    "def tokenize_word(string, sorted_tokens, unknown_token=\"</u>\"):\n",
    "\n",
    "    if string == \"\":\n",
    "        return []\n",
    "    if sorted_tokens == []:\n",
    "        return [unknown_token]\n",
    "\n",
    "    string_tokens = []\n",
    "    for i in range(len(sorted_tokens)):\n",
    "        token = sorted_tokens[i]\n",
    "        token_reg = re.escape(token.replace(\".\", \"[.]\"))\n",
    "\n",
    "        matched_positions = [\n",
    "            (m.start(0), m.end(0)) for m in re.finditer(token_reg, string)\n",
    "        ]\n",
    "        if len(matched_positions) == 0:\n",
    "            continue\n",
    "        substring_end_positions = [\n",
    "            matched_position[0] for matched_position in matched_positions\n",
    "        ]\n",
    "\n",
    "        substring_start_position = 0\n",
    "        for substring_end_position in substring_end_positions:\n",
    "            substring = string[substring_start_position:substring_end_position]\n",
    "            string_tokens += tokenize_word(\n",
    "                string=substring,\n",
    "                sorted_tokens=sorted_tokens[i + 1 :],\n",
    "                unknown_token=unknown_token,\n",
    "            )\n",
    "            string_tokens += [token]\n",
    "            substring_start_position = substring_end_position + len(token)\n",
    "        remaining_substring = string[substring_start_position:]\n",
    "        string_tokens += tokenize_word(\n",
    "            string=remaining_substring,\n",
    "            sorted_tokens=sorted_tokens[i + 1 :],\n",
    "            unknown_token=unknown_token,\n",
    "        )\n",
    "        break\n",
    "    return string_tokens\n"
   ]
  },
  {
   "cell_type": "code",
   "execution_count": 29,
   "id": "2d86bbb1",
   "metadata": {
    "slideshow": {
     "slide_type": "slide"
    },
    "tags": []
   },
   "outputs": [],
   "source": [
    "def print_tokenization(word_given, sorted_tokens):\n",
    "\n",
    "    print(\"Tokenizing word: {}...\".format(word_given))\n",
    "    if word_given in vocab_tokenization:\n",
    "        print(\"Tokenization of the known word:\")\n",
    "        print(vocab_tokenization[word_given])\n",
    "        print(\"Tokenization treating the known word as unknown:\")\n",
    "        print(\n",
    "            tokenize_word(\n",
    "                string=word_given, sorted_tokens=sorted_tokens, unknown_token=\"</u>\"\n",
    "            )\n",
    "        )\n",
    "    else:\n",
    "        print(\"Tokenizating of the unknown word:\")\n",
    "        print(\n",
    "            tokenize_word(\n",
    "                string=word_given, sorted_tokens=sorted_tokens, unknown_token=\"</u>\"\n",
    "            )\n",
    "        )\n"
   ]
  },
  {
   "cell_type": "code",
   "execution_count": 30,
   "id": "cc085b58",
   "metadata": {
    "slideshow": {
     "slide_type": "slide"
    },
    "tags": []
   },
   "outputs": [
    {
     "name": "stdout",
     "output_type": "stream",
     "text": [
      "['performance</w>', 'investment</w>', 'technology</w>', 'production</w>', 'investors</w>', 'companies</w>', 'consensus</w>', 'currently</w>', 'financial</w>', 'increased</w>']\n"
     ]
    }
   ],
   "source": [
    "sorted_tokens_tuple = sorted(tokens_frequencies.items(), key=lambda item: (measure_token_length(item[0]), item[1]), reverse=True)\n",
    "sorted_tokens = [token for (token, freq) in sorted_tokens_tuple]\n",
    "\n",
    "print(sorted_tokens[:10])"
   ]
  },
  {
   "cell_type": "code",
   "execution_count": 31,
   "id": "92399eaf",
   "metadata": {
    "slideshow": {
     "slide_type": "slide"
    },
    "tags": []
   },
   "outputs": [
    {
     "name": "stdout",
     "output_type": "stream",
     "text": [
      "Tokenizing word: investors</w>...\n",
      "Tokenization of the known word:\n",
      "['investors</w>']\n",
      "Tokenization treating the known word as unknown:\n",
      "['investors</w>']\n"
     ]
    }
   ],
   "source": [
    "word_given_known = 'investors</w>'\n",
    "\n",
    "print_tokenization(word_given_known, sorted_tokens)"
   ]
  },
  {
   "cell_type": "code",
   "execution_count": 32,
   "id": "9150abcf",
   "metadata": {},
   "outputs": [
    {
     "name": "stdout",
     "output_type": "stream",
     "text": [
      "Tokenizing word: dogecoin</w>...\n",
      "Tokenizating of the unknown word:\n",
      "['do', 'g', 'ec', 'o', 'in</w>']\n"
     ]
    }
   ],
   "source": [
    "word_given_unknown = 'dogecoin</w>'\n",
    "\n",
    "print_tokenization(word_given_unknown, sorted_tokens)"
   ]
  },
  {
   "cell_type": "markdown",
   "id": "94aa4716",
   "metadata": {
    "slideshow": {
     "slide_type": "slide"
    },
    "tags": []
   },
   "source": [
    "## Byte-level Byte Pair Encoding (BBPE)\n",
    "\n",
    "- Byte-level BPE is a variant of BPE.\n",
    "- It splits words into sequences of bytes instead of characters."
   ]
  },
  {
   "cell_type": "markdown",
   "id": "7585691c",
   "metadata": {
    "slideshow": {
     "slide_type": "slide"
    },
    "tags": []
   },
   "source": [
    "## Wordpiece\n",
    "\n",
    "- WordPiece is a subword tokenization algorithm that was proposed by Google in 2016.\n",
    "- Wordpiece works almost the same as BPE, but it uses a different way to merge the tokens.\n",
    "- Wordpiece merges tokens based on likelihood of the tokens instead of frequency.\n",
    "- The likelihood is calculated with the $p(w_{i}, w_{j})/p(w_{i})p(w_{j})$ formula.\n",
    "\n",
    "### Tokenization Algorithm\n",
    "\n",
    "- Tokenization differs in WordPiece and BPE in that WordPiece only saves the final vocabulary, not the merge rules learned. \n",
    "- Starting from the word to tokenize, WordPiece finds the longest subword that is in the vocabulary, then splits on it. \n",
    "- For instance, for the word `pineapple`, the longest subword in the vocabulary is `pine`, so the word is split into `pine` and `##apple`.\n",
    "- Then, the algorithm finds the longest subword in the vcabulary that is in `##apple`, which is `##apple`, so the word `pineapple` is tokenized into `pine` and `##apple`.\n"
   ]
  },
  {
   "cell_type": "markdown",
   "id": "0e3e6131",
   "metadata": {
    "slideshow": {
     "slide_type": "slide"
    },
    "tags": []
   },
   "source": [
    "### Implementing WordPiece"
   ]
  },
  {
   "cell_type": "code",
   "execution_count": 2,
   "id": "0af58e46",
   "metadata": {},
   "outputs": [],
   "source": [
    "from transformers import AutoTokenizer\n",
    "\n",
    "tokenizer = AutoTokenizer.from_pretrained(\"bert-base-uncased\")"
   ]
  },
  {
   "cell_type": "code",
   "execution_count": 3,
   "id": "4e0fd5ef",
   "metadata": {},
   "outputs": [
    {
     "name": "stdout",
     "output_type": "stream",
     "text": [
      "Number of words: 7847\n"
     ]
    }
   ],
   "source": [
    "from collections import defaultdict\n",
    "\n",
    "\n",
    "def get_vocab(texts):\n",
    "    vocab = defaultdict(int)\n",
    "    for text in texts:\n",
    "        words_with_offsets = tokenizer.backend_tokenizer.pre_tokenizer.pre_tokenize_str(\n",
    "            tokenizer.backend_tokenizer.normalizer.normalize_str(text)\n",
    "        )\n",
    "        words = [word for word, offset in words_with_offsets]\n",
    "        for word in words:\n",
    "            vocab[word] += 1\n",
    "    return vocab\n",
    "\n",
    "\n",
    "word_freqs = get_vocab(data.text[:100])\n",
    "print(\"Number of words: {}\".format(len(word_freqs.keys())))\n"
   ]
  },
  {
   "cell_type": "markdown",
   "id": "46fe7cf7",
   "metadata": {
    "slideshow": {
     "slide_type": "slide"
    },
    "tags": []
   },
   "source": [
    " The alphabet is the unique set composed of all the first letters of words, and all the other letters that appear in words prefixed by ##:"
   ]
  },
  {
   "cell_type": "code",
   "execution_count": 4,
   "id": "486e42fe",
   "metadata": {},
   "outputs": [
    {
     "name": "stdout",
     "output_type": "stream",
     "text": [
      "['##0', '##1', '##2', '##3', '##4', '##5', '##6', '##7', '##8', '##9', '##a', '##b', '##c', '##d', '##e', '##f', '##g', '##h', '##i', '##j', '##k', '##l', '##m', '##n', '##o', '##p', '##q', '##r', '##s', '##t', '##u', '##v', '##w', '##x', '##y', '##z', '0', '1', '2', '3', '4', '5', '6', '7', '8', '9', 'a', 'b', 'c', 'd', 'e', 'f', 'g', 'h', 'i', 'j', 'k', 'l', 'm', 'n', 'o', 'p', 'q', 'r', 's', 't', 'u', 'v', 'w', 'x', 'y', 'z']\n"
     ]
    }
   ],
   "source": [
    "alphabet = []\n",
    "for word in word_freqs.keys():\n",
    "    if word[0] not in alphabet:\n",
    "        alphabet.append(word[0])\n",
    "    for letter in word[1:]:\n",
    "        if f\"##{letter}\" not in alphabet:\n",
    "            alphabet.append(f\"##{letter}\")\n",
    "\n",
    "alphabet.sort()\n",
    "alphabet\n",
    "\n",
    "print(alphabet)\n"
   ]
  },
  {
   "cell_type": "markdown",
   "id": "1b913df4",
   "metadata": {
    "slideshow": {
     "slide_type": "slide"
    },
    "tags": []
   },
   "source": [
    "Add the special tokens used by the model at the beginning of that vocabulary. In the case of BERT, it’s the list [\"[PAD]\", \"[UNK]\", \"[CLS]\", \"[SEP]\", \"[MASK]\"]:"
   ]
  },
  {
   "cell_type": "code",
   "execution_count": 5,
   "id": "20a72d2d",
   "metadata": {},
   "outputs": [],
   "source": [
    "vocab = [\"[PAD]\", \"[UNK]\", \"[CLS]\", \"[SEP]\", \"[MASK]\"] + alphabet.copy()\n"
   ]
  },
  {
   "cell_type": "markdown",
   "id": "f9c4a680",
   "metadata": {},
   "source": [
    "Split each word, with all the letters that are not the first prefixed by ##:"
   ]
  },
  {
   "cell_type": "code",
   "execution_count": 6,
   "id": "b95130df",
   "metadata": {},
   "outputs": [],
   "source": [
    "splits = {\n",
    "    word: [c if i == 0 else f\"##{c}\" for i, c in enumerate(word)]\n",
    "    for word in word_freqs.keys()\n",
    "}\n"
   ]
  },
  {
   "cell_type": "markdown",
   "id": "3494fddb",
   "metadata": {
    "slideshow": {
     "slide_type": "slide"
    },
    "tags": []
   },
   "source": [
    "A function to compute the score of each pair:"
   ]
  },
  {
   "cell_type": "code",
   "execution_count": 7,
   "id": "c3b494b9",
   "metadata": {},
   "outputs": [],
   "source": [
    "def compute_pair_scores(splits):\n",
    "    letter_freqs = defaultdict(int)\n",
    "    pair_freqs = defaultdict(int)\n",
    "    for word, freq in word_freqs.items():\n",
    "        split = splits[word]\n",
    "        if len(split) == 1:\n",
    "            letter_freqs[split[0]] += freq\n",
    "            continue\n",
    "        for i in range(len(split) - 1):\n",
    "            pair = (split[i], split[i + 1])\n",
    "            letter_freqs[split[i]] += freq\n",
    "            pair_freqs[pair] += freq\n",
    "        letter_freqs[split[-1]] += freq\n",
    "\n",
    "    scores = {\n",
    "        pair: freq / (letter_freqs[pair[0]] * letter_freqs[pair[1]])\n",
    "        for pair, freq in pair_freqs.items()\n",
    "    }\n",
    "    return scores\n"
   ]
  },
  {
   "cell_type": "code",
   "execution_count": 8,
   "id": "73134672",
   "metadata": {
    "slideshow": {
     "slide_type": "slide"
    },
    "tags": []
   },
   "outputs": [
    {
     "name": "stdout",
     "output_type": "stream",
     "text": [
      "('i', '##n'): 3.065532997859911e-05\n",
      "('##n', '##v'): 5.217525332521506e-06\n",
      "('##v', '##e'): 2.2967510416892118e-05\n",
      "('##e', '##s'): 6.2108678847586545e-06\n",
      "('##s', '##t'): 7.931201514160114e-06\n",
      "('##t', '##i'): 8.905730802064189e-06\n"
     ]
    }
   ],
   "source": [
    "pair_scores = compute_pair_scores(splits)\n",
    "for i, key in enumerate(pair_scores.keys()):\n",
    "    print(f\"{key}: {pair_scores[key]}\")\n",
    "    if i >= 5:\n",
    "        break\n"
   ]
  },
  {
   "cell_type": "markdown",
   "id": "150b06f8",
   "metadata": {
    "slideshow": {
     "slide_type": "slide"
    },
    "tags": []
   },
   "source": [
    "Find the pair with the highest score:"
   ]
  },
  {
   "cell_type": "code",
   "execution_count": 9,
   "id": "8036f196",
   "metadata": {},
   "outputs": [
    {
     "name": "stdout",
     "output_type": "stream",
     "text": [
      "('8', '##9') 0.0004752098843655948\n"
     ]
    }
   ],
   "source": [
    "best_pair = \"\"\n",
    "max_score = None\n",
    "for pair, score in pair_scores.items():\n",
    "    if max_score is None or max_score < score:\n",
    "        best_pair = pair\n",
    "        max_score = score\n",
    "\n",
    "print(best_pair, max_score)\n"
   ]
  },
  {
   "cell_type": "markdown",
   "id": "08498fdf",
   "metadata": {},
   "source": [
    "So the first merge to learn is (`8`, `##9`) -> `89`. Add it to the vocabulary:"
   ]
  },
  {
   "cell_type": "code",
   "execution_count": 10,
   "id": "f633bce3",
   "metadata": {},
   "outputs": [],
   "source": [
    "vocab.append(\"89\")"
   ]
  },
  {
   "cell_type": "markdown",
   "id": "fe293c5a",
   "metadata": {
    "slideshow": {
     "slide_type": "slide"
    },
    "tags": []
   },
   "source": [
    "To continue, we need to apply that merge in our splits dictionary. A function for this:"
   ]
  },
  {
   "cell_type": "code",
   "execution_count": 11,
   "id": "84dbb5af",
   "metadata": {},
   "outputs": [],
   "source": [
    "def merge_pair(a, b, splits):\n",
    "    for word in word_freqs:\n",
    "        split = splits[word]\n",
    "        if len(split) == 1:\n",
    "            continue\n",
    "        i = 0\n",
    "        while i < len(split) - 1:\n",
    "            if split[i] == a and split[i + 1] == b:\n",
    "                merge = a + b[2:] if b.startswith(\"##\") else a + b\n",
    "                split = split[:i] + [merge] + split[i + 2 :]\n",
    "            else:\n",
    "                i += 1\n",
    "        splits[word] = split\n",
    "    return splits\n"
   ]
  },
  {
   "cell_type": "markdown",
   "id": "85d4ebe0",
   "metadata": {},
   "source": [
    "And we can have a look at the result of the first merge:"
   ]
  },
  {
   "cell_type": "code",
   "execution_count": 12,
   "id": "2d624b43",
   "metadata": {},
   "outputs": [
    {
     "data": {
      "text/plain": [
       "['89', '##2', '##0']"
      ]
     },
     "execution_count": 12,
     "metadata": {},
     "output_type": "execute_result"
    }
   ],
   "source": [
    "splits = merge_pair(\"8\", \"##9\", splits)\n",
    "splits[\"8920\"]"
   ]
  },
  {
   "cell_type": "markdown",
   "id": "048d0b8a",
   "metadata": {
    "slideshow": {
     "slide_type": "slide"
    },
    "tags": []
   },
   "source": [
    "Now we have everything we need to loop until we have learned all the merges we want. For example, we can loop until we have a vocabulary of size 1000:"
   ]
  },
  {
   "cell_type": "code",
   "execution_count": 13,
   "id": "1e84fce9",
   "metadata": {},
   "outputs": [],
   "source": [
    "vocab_size = 1000\n",
    "while len(vocab) < vocab_size:\n",
    "    scores = compute_pair_scores(splits)\n",
    "    best_pair, max_score = \"\", None\n",
    "    for pair, score in scores.items():\n",
    "        if max_score is None or max_score < score:\n",
    "            best_pair = pair\n",
    "            max_score = score\n",
    "    splits = merge_pair(*best_pair, splits)\n",
    "    new_token = (\n",
    "        best_pair[0] + best_pair[1][2:]\n",
    "        if best_pair[1].startswith(\"##\")\n",
    "        else best_pair[0] + best_pair[1]\n",
    "    )\n",
    "    vocab.append(new_token)\n"
   ]
  },
  {
   "cell_type": "code",
   "execution_count": 14,
   "id": "bc976956",
   "metadata": {},
   "outputs": [
    {
     "name": "stdout",
     "output_type": "stream",
     "text": [
      "First 10 tokens: ['[PAD]', '[UNK]', '[CLS]', '[SEP]', '[MASK]', '##0', '##1', '##2', '##3', '##4']\n",
      "Last 50 tokens: ['thompso', 'accompan', 'accompany', 'accompani', 'thompson', 'compa', 'compan', 'company', 'compani', 'compar', 'compac', 'compas', 'compass', 'compact', 'employm', '##mpl', '##mply', '##imply', 'simply', '##amp', 'camp', 'ramp', 'hamp', 'damp', '##vamp', '##ymp', 'lymp', 'lymph', '##lymp', 'olymp', 'olympi', 'olympic', 'lympho', 'lymphom', 'lymphoma', 'campa', 'campai', 'campaig', 'campaign', '##rump', 'trump', 'bump', 'gump', 'pump', 'pumps', '##lump', 'slump', '##sump', '##sumpt', '##sumpti']\n"
     ]
    }
   ],
   "source": [
    "print(\"First 10 tokens: {}\".format(vocab[:10]))\n",
    "print(\"Last 50 tokens: {}\".format(vocab[-50:]))"
   ]
  },
  {
   "cell_type": "markdown",
   "id": "b4118aea",
   "metadata": {
    "slideshow": {
     "slide_type": "slide"
    },
    "tags": []
   },
   "source": [
    "Encoding is done by finding the biggest subword in the vocabulary that is in the word, and splitting on it. Iterating on the word until it is empty:"
   ]
  },
  {
   "cell_type": "code",
   "execution_count": 15,
   "id": "1a0f6bd4",
   "metadata": {},
   "outputs": [],
   "source": [
    "def encode_word(word):\n",
    "    tokens = []\n",
    "    while len(word) > 0:\n",
    "        i = len(word)\n",
    "        while i > 0 and word[:i] not in vocab:\n",
    "            i -= 1\n",
    "        if i == 0:\n",
    "            return [\"[UNK]\"]\n",
    "        tokens.append(word[:i])\n",
    "        word = word[i:]\n",
    "        if len(word) > 0:\n",
    "            word = f\"##{word}\"\n",
    "    return tokens\n"
   ]
  },
  {
   "cell_type": "code",
   "execution_count": 16,
   "id": "e55dbedb",
   "metadata": {},
   "outputs": [
    {
     "name": "stdout",
     "output_type": "stream",
     "text": [
      "['company']\n",
      "['compani', '##e', '##s']\n",
      "['[UNK]']\n"
     ]
    }
   ],
   "source": [
    "print(encode_word(\"company\"))\n",
    "print(encode_word(\"companies\"))\n",
    "print(encode_word(\"회사\"))"
   ]
  },
  {
   "cell_type": "markdown",
   "id": "f400b6c4",
   "metadata": {
    "slideshow": {
     "slide_type": "slide"
    },
    "tags": []
   },
   "source": [
    "To tokenize a sentence, we can apply this function to each word:"
   ]
  },
  {
   "cell_type": "code",
   "execution_count": 70,
   "id": "806bbc36",
   "metadata": {},
   "outputs": [],
   "source": [
    "def tokenize(text):\n",
    "    pre_tokenize_result = tokenizer._tokenizer.pre_tokenizer.pre_tokenize_str(\n",
    "        tokenizer._tokenizer.normalizer.normalize_str(text)\n",
    "    )\n",
    "    pre_tokenized_text = [word for word, offset in pre_tokenize_result]\n",
    "    encoded_words = [encode_word(word) for word in pre_tokenized_text]\n",
    "    return sum(encoded_words, [])\n"
   ]
  },
  {
   "cell_type": "code",
   "execution_count": 73,
   "id": "50a9afe0",
   "metadata": {},
   "outputs": [
    {
     "name": "stdout",
     "output_type": "stream",
     "text": [
      "['i', '##n', '##v', '##e', '##s', '##t', '##m', '##e', '##n', '##t', 'opportuniti', '##e', '##s', 'i', '##n', 'th', '##e', 'company']\n"
     ]
    }
   ],
   "source": [
    "tokenized_text = tokenize(\"Investment opportunities in the company\")\n",
    "print(tokenized_text)"
   ]
  },
  {
   "cell_type": "markdown",
   "id": "6806c658",
   "metadata": {
    "slideshow": {
     "slide_type": "slide"
    },
    "tags": []
   },
   "source": [
    "## Unigram\n",
    "\n",
    "Kudo (2018) proposed the Unigram model based subword segmentation algorithm which outputs multiple subword segmentation along with their probabilities. \n",
    "\n",
    "- The model assumes that each subword occurs independently.\n",
    "- The probability of a subword sequence $x=(x_{1}, x_{2}, \\cdots, x_{n})$ is calculated as $p(x)=\\prod_{i=1}^{n} p(x_{i})$.\n",
    "- The most probable segmentation $x^*$ for the sentence $X$ is given by $x^*=\\underset{x \\in S(X)}{\\operatorname{argmax}} P(x)$.\n",
    "- $S(X)$ is a set of all possible segmentations for the sentence $X$.\n",
    "- Subword occurrence probabilities $x_{i}$ are estimated using the [expectation maximization (EM) algorithm](https://en.wikipedia.org/wiki/Expectation%E2%80%93maximization_algorithm) by maximizing the log-likelihood $L$ of the training data $D$.\n",
    "\n",
    "$$\n",
    "L=\\sum_{s = 1}^{|D|} \\log(P(X^{(s)})) = \\sum_{s = 1}^{|D|} \\log(\\sum_{x \\in S(X^{(S)})} P(x))\n",
    "$$"
   ]
  },
  {
   "cell_type": "markdown",
   "id": "6b97666b",
   "metadata": {
    "slideshow": {
     "slide_type": "slide"
    },
    "tags": []
   },
   "source": [
    "The procedure of obtaining the vocabulary V with a desired size.\n",
    "\n",
    "1. Initialize a reasonably big seed vocabulary.\n",
    "2. Define a desired vocabulary size.\n",
    "3. Optimize the subword occurrence probabilities using the EM algorithm by fixing the vocabulary.\n",
    "4. Compute the loss for each subword. \n",
    "   - The loss of a subword depicts the decrement in the aforementioned likelihood $L$ when that subword is removed from the vocabulary.\n",
    "5. Sort the subwords by loss and keep the top n% of subwords. \n",
    "   - Keep the subwords with a single character to avoid the out of vocabulary problem.\n",
    "6. Repeat step 3 to 5 until it reaches the desired vocabulary size defined in step 2.\n",
    "\n",
    "The most common way to prepare the seed vocabulary is to use the most frequent substrings and characters in the corpus. This unigram language model based subword segmentation consists of characters, subwords and words.\n"
   ]
  },
  {
   "cell_type": "markdown",
   "id": "4e69411c",
   "metadata": {
    "slideshow": {
     "slide_type": "slide"
    },
    "tags": []
   },
   "source": [
    "### Implementation"
   ]
  },
  {
   "cell_type": "code",
   "execution_count": 75,
   "id": "36786678",
   "metadata": {},
   "outputs": [],
   "source": [
    "from transformers import AutoTokenizer\n",
    "\n",
    "tokenizer = AutoTokenizer.from_pretrained(\"xlnet-base-cased\")\n"
   ]
  },
  {
   "cell_type": "code",
   "execution_count": 79,
   "id": "7150dafe",
   "metadata": {},
   "outputs": [
    {
     "name": "stdout",
     "output_type": "stream",
     "text": [
      "Number of words: 8855\n"
     ]
    }
   ],
   "source": [
    "from collections import defaultdict\n",
    "\n",
    "\n",
    "def get_vocab(texts):\n",
    "    vocab = defaultdict(int)\n",
    "    for text in texts:\n",
    "        words_with_offsets = tokenizer.backend_tokenizer.pre_tokenizer.pre_tokenize_str(\n",
    "            tokenizer.backend_tokenizer.normalizer.normalize_str(text)\n",
    "        )\n",
    "        words = [word for word, offset in words_with_offsets]\n",
    "        for word in words:\n",
    "            vocab[word] += 1\n",
    "    return vocab\n",
    "\n",
    "\n",
    "word_freqs = get_vocab(data.text[:100])\n",
    "print(\"Number of words: {}\".format(len(word_freqs.keys())))\n"
   ]
  },
  {
   "cell_type": "markdown",
   "id": "69e0d190",
   "metadata": {
    "slideshow": {
     "slide_type": "slide"
    },
    "tags": []
   },
   "source": [
    "- Then, we need to initialize our vocabulary to something larger than the vocabulary size we want. \n",
    "- We have to include all the basic characters (otherwise we won’t be able to tokenize every word).\n",
    "- For the bigger substrings, we can use the most frequent substrings in the corpus."
   ]
  },
  {
   "cell_type": "code",
   "execution_count": 80,
   "id": "8bc11ffa",
   "metadata": {},
   "outputs": [
    {
     "name": "stdout",
     "output_type": "stream",
     "text": [
      "[('▁t', 7127), ('in', 5997), ('▁a', 5589), ('th', 5514), ('he', 4739), ('er', 4573), ('▁th', 4262), ('re', 4215), ('an', 4210), ('▁s', 3953)]\n"
     ]
    }
   ],
   "source": [
    "char_freqs = defaultdict(int)\n",
    "subwords_freqs = defaultdict(int)\n",
    "for word, freq in word_freqs.items():\n",
    "    for i in range(len(word)):\n",
    "        char_freqs[word[i]] += freq\n",
    "        # Loop through the subwords of length at least 2\n",
    "        for j in range(i + 2, len(word) + 1):\n",
    "            subwords_freqs[word[i:j]] += freq\n",
    "\n",
    "# Sort subwords by frequency\n",
    "sorted_subwords = sorted(subwords_freqs.items(), key=lambda x: x[1], reverse=True)\n",
    "print(sorted_subwords[:10])\n"
   ]
  },
  {
   "cell_type": "markdown",
   "id": "90ed43b7",
   "metadata": {
    "slideshow": {
     "slide_type": "slide"
    },
    "tags": []
   },
   "source": [
    "We group the characters with the best subwords to arrive at an initial vocabulary of size 2000:"
   ]
  },
  {
   "cell_type": "code",
   "execution_count": 82,
   "id": "2e388d52",
   "metadata": {},
   "outputs": [],
   "source": [
    "token_freqs = list(char_freqs.items()) + sorted_subwords[: 2000 - len(char_freqs)]\n",
    "token_freqs = {token: freq for token, freq in token_freqs}"
   ]
  },
  {
   "cell_type": "markdown",
   "id": "a8093f3c",
   "metadata": {},
   "source": [
    "Next, we compute the sum of all frequencies, to convert the frequencies into probabilities."
   ]
  },
  {
   "cell_type": "code",
   "execution_count": 83,
   "id": "dac4d1bb",
   "metadata": {},
   "outputs": [],
   "source": [
    "from math import log\n",
    "\n",
    "total_sum = sum([freq for token, freq in token_freqs.items()])\n",
    "model = {token: -log(freq / total_sum) for token, freq in token_freqs.items()}\n"
   ]
  },
  {
   "cell_type": "markdown",
   "id": "cd04301d",
   "metadata": {
    "slideshow": {
     "slide_type": "slide"
    },
    "tags": []
   },
   "source": [
    "The main function is the one that tokenizes words using the Viterbi algorithm."
   ]
  },
  {
   "cell_type": "code",
   "execution_count": 84,
   "id": "a0e97350",
   "metadata": {},
   "outputs": [],
   "source": [
    "def encode_word(word, model):\n",
    "    best_segmentations = [{\"start\": 0, \"score\": 1}] + [\n",
    "        {\"start\": None, \"score\": None} for _ in range(len(word))\n",
    "    ]\n",
    "    for start_idx in range(len(word)):\n",
    "        # This should be properly filled by the previous steps of the loop\n",
    "        best_score_at_start = best_segmentations[start_idx][\"score\"]\n",
    "        for end_idx in range(start_idx + 1, len(word) + 1):\n",
    "            token = word[start_idx:end_idx]\n",
    "            if token in model and best_score_at_start is not None:\n",
    "                score = model[token] + best_score_at_start\n",
    "                # If we have found a better segmentation ending at end_idx, we update\n",
    "                if (\n",
    "                    best_segmentations[end_idx][\"score\"] is None\n",
    "                    or best_segmentations[end_idx][\"score\"] > score\n",
    "                ):\n",
    "                    best_segmentations[end_idx] = {\"start\": start_idx, \"score\": score}\n",
    "\n",
    "    segmentation = best_segmentations[-1]\n",
    "    if segmentation[\"score\"] is None:\n",
    "        # We did not find a tokenization of the word -> unknown\n",
    "        return [\"<unk>\"], None\n",
    "\n",
    "    score = segmentation[\"score\"]\n",
    "    start = segmentation[\"start\"]\n",
    "    end = len(word)\n",
    "    tokens = []\n",
    "    while start != 0:\n",
    "        tokens.insert(0, word[start:end])\n",
    "        next_start = best_segmentations[start][\"start\"]\n",
    "        end = start\n",
    "        start = next_start\n",
    "    tokens.insert(0, word[start:end])\n",
    "    return tokens, score\n"
   ]
  },
  {
   "cell_type": "code",
   "execution_count": 85,
   "id": "056f330a",
   "metadata": {
    "slideshow": {
     "slide_type": "slide"
    },
    "tags": []
   },
   "outputs": [
    {
     "name": "stdout",
     "output_type": "stream",
     "text": [
      "(['app', 'le'], 16.827095174401983)\n",
      "(['investment'], 10.304598661839819)\n"
     ]
    }
   ],
   "source": [
    "print(encode_word(\"apple\", model))\n",
    "print(encode_word(\"investment\", model))"
   ]
  },
  {
   "cell_type": "markdown",
   "id": "41aefe0e",
   "metadata": {
    "slideshow": {
     "slide_type": "slide"
    },
    "tags": []
   },
   "source": [
    "Compute the loss:"
   ]
  },
  {
   "cell_type": "code",
   "execution_count": 86,
   "id": "10c70cc2",
   "metadata": {},
   "outputs": [
    {
     "data": {
      "text/plain": [
       "953811.2763311649"
      ]
     },
     "execution_count": 86,
     "metadata": {},
     "output_type": "execute_result"
    }
   ],
   "source": [
    "def compute_loss(model):\n",
    "    loss = 0\n",
    "    for word, freq in word_freqs.items():\n",
    "        _, word_loss = encode_word(word, model)\n",
    "        loss += freq * word_loss\n",
    "    return loss\n",
    "\n",
    "\n",
    "compute_loss(model)\n"
   ]
  },
  {
   "cell_type": "markdown",
   "id": "53ac4e1a",
   "metadata": {
    "slideshow": {
     "slide_type": "slide"
    },
    "tags": []
   },
   "source": [
    "Computing the scores for each token:"
   ]
  },
  {
   "cell_type": "code",
   "execution_count": 87,
   "id": "56a5975a",
   "metadata": {},
   "outputs": [],
   "source": [
    "import copy\n",
    "\n",
    "\n",
    "def compute_scores(model):\n",
    "    scores = {}\n",
    "    model_loss = compute_loss(model)\n",
    "    for token, score in model.items():\n",
    "        # We always keep tokens of length 1\n",
    "        if len(token) == 1:\n",
    "            continue\n",
    "        model_without_token = copy.deepcopy(model)\n",
    "        _ = model_without_token.pop(token)\n",
    "        scores[token] = compute_loss(model_without_token) - model_loss\n",
    "    return scores\n",
    "\n",
    "\n",
    "scores = compute_scores(model)\n"
   ]
  },
  {
   "cell_type": "code",
   "execution_count": 94,
   "id": "6cc44ebe",
   "metadata": {},
   "outputs": [
    {
     "name": "stdout",
     "output_type": "stream",
     "text": [
      "43.05223229911644\n",
      "206.79810601787176\n",
      "0.0\n",
      "1.416147324256599\n",
      "718.6751414387254\n"
     ]
    }
   ],
   "source": [
    "print(scores[\"app\"])\n",
    "print(scores[\"le\"])\n",
    "print(scores[\"investment\"])\n",
    "print(scores[\"invest\"])\n",
    "print(scores[\"ment\"])"
   ]
  },
  {
   "cell_type": "markdown",
   "id": "d36b1a55",
   "metadata": {
    "slideshow": {
     "slide_type": "slide"
    },
    "tags": []
   },
   "source": [
    "Iterate until we have the desired vocabulary size:"
   ]
  },
  {
   "cell_type": "code",
   "execution_count": 95,
   "id": "44dc7eac",
   "metadata": {},
   "outputs": [],
   "source": [
    "percent_to_remove = 0.1\n",
    "while len(model) > 1000:\n",
    "    scores = compute_scores(model)\n",
    "    sorted_scores = sorted(scores.items(), key=lambda x: x[1])\n",
    "    # Remove percent_to_remove tokens with the lowest scores.\n",
    "    for i in range(int(len(model) * percent_to_remove)):\n",
    "        _ = token_freqs.pop(sorted_scores[i][0])\n",
    "\n",
    "    total_sum = sum([freq for token, freq in token_freqs.items()])\n",
    "    model = {token: -log(freq / total_sum) for token, freq in token_freqs.items()}"
   ]
  },
  {
   "cell_type": "markdown",
   "id": "053846b1",
   "metadata": {
    "slideshow": {
     "slide_type": "slide"
    },
    "tags": []
   },
   "source": [
    "To tokenize a sentence, we can apply this function to each word:"
   ]
  },
  {
   "cell_type": "code",
   "execution_count": 96,
   "id": "d001097a",
   "metadata": {},
   "outputs": [],
   "source": [
    "def tokenize(text, model):\n",
    "    words_with_offsets = tokenizer.backend_tokenizer.pre_tokenizer.pre_tokenize_str(\n",
    "        tokenizer.backend_tokenizer.normalizer.normalize_str(text)\n",
    "    )\n",
    "    pre_tokenized_text = [word for word, offset in words_with_offsets]\n",
    "    encoded_words = [encode_word(word, model)[0] for word in pre_tokenized_text]\n",
    "    return sum(encoded_words, [])"
   ]
  },
  {
   "cell_type": "code",
   "execution_count": 101,
   "id": "4cdb5b22",
   "metadata": {},
   "outputs": [
    {
     "name": "stdout",
     "output_type": "stream",
     "text": [
      "['▁investment', '▁o', 'pport', 'un', 'ities', '▁in', '▁the', '▁company']\n"
     ]
    }
   ],
   "source": [
    "tokenized_text = tokenize(\"investment opportunities in the company\", model)\n",
    "print(tokenized_text)"
   ]
  },
  {
   "cell_type": "markdown",
   "id": "0f459eae",
   "metadata": {
    "slideshow": {
     "slide_type": "slide"
    },
    "tags": []
   },
   "source": [
    "## SentencePiece\n",
    "\n",
    "- [SentencePiece](https://github.com/google/sentencepiece) is a tokenization algorithm for the preprocessing of text that you can use with any of the above models. \n",
    "- It considers the text as a sequence of Unicode characters, and replaces spaces with a special character, ▁. \n",
    "- Used in conjunction with the Unigram algorithm, it doesn’t even require a pre-tokenization step, which is very useful for languages where the space character is not used to separate words, such as Chinese, Japanese, and Thai.\n",
    "- The other main feature of SentencePiece is reversible tokenization: since there is no special treatment of spaces, decoding the tokens is done simply by concatenating them and replacing the _s with spaces — this results in the normalized text."
   ]
  },
  {
   "cell_type": "markdown",
   "id": "844b23c9",
   "metadata": {
    "slideshow": {
     "slide_type": "slide"
    },
    "tags": []
   },
   "source": [
    "### Comparisons with other implementations\n",
    "\n",
    "| Feature                                     |      SentencePiece       | subword-nmt |    WordPiece    |\n",
    "| :------------------------------------------ | :----------------------: | :---------: | :-------------: |\n",
    "| Supported algorithm                         | BPE, unigram, char, word |     BPE     |      BPE\\*      |\n",
    "| OSS?                                        |           Yes            |     Yes     | Google internal |\n",
    "| Subword regularization                      |           Yes            |     No      |       No        |\n",
    "| Python Library (pip)                        |           Yes            |     No      |       N/A       |\n",
    "| C++ Library                                 |           Yes            |     No      |       N/A       |\n",
    "| Pre-segmentation required?                  |            No            |     Yes     |       Yes       |\n",
    "| Customizable normalization (e.g., NFKC)[Yes |            No            |     N/A     |\n",
    "| Direct id generation                        |           Yes            |     No      |       N/A       |\n",
    "\n",
    "Note that BPE algorithm used in WordPiece is slightly different from the original BPE.\n"
   ]
  },
  {
   "cell_type": "markdown",
   "id": "7d8bb28e",
   "metadata": {
    "slideshow": {
     "slide_type": "slide"
    },
    "tags": []
   },
   "source": [
    "## Subword Sampling\n",
    "\n",
    "- The models are trained with multiple subword segmentation based on a unigram language model and those are probabilistically sampled during training. \n",
    "- $L$-best segmentation is an approach that can be used for approximate sampling. \n",
    "- First, the $l$-best segmentations are obtained and after performing $l$-best search, one segmentation is sampled.\n",
    "- Subword regularization has two hyperparameters which are the size of sampling candidates ($l$) and smoothing constant ($\\alpha$). \n",
    "- Theoretically, setting $l \\to \\infty$ means considering all possible segmentations. \n",
    "- But it is infeasible since the number of characters exponentially increases with the length of the sentence.\n",
    "- Therefore, the Forward-Filtering and Backward-Sampling algorithm is used for sampling. \n",
    "- Further, if $\\alpha$ is small, the distribution is more uniform and if $\\alpha$ is large, it tends towards the Viterbi segmentation."
   ]
  },
  {
   "cell_type": "markdown",
   "id": "1fb67699",
   "metadata": {
    "slideshow": {
     "slide_type": "slide"
    },
    "tags": []
   },
   "source": [
    "## BPE-Dropout\n",
    "\n",
    "- BPE-dropout is an effective subword regularization method based on BPE.\n",
    "- This keeps the BPE vocabulary and the merge table as original while changing the segmentation procedure. \n",
    "- Here, some merges are randomly removed with a probability of p at each merge step, thus giving multiple segmentations for the same word. \n",
    "- If the probability is zero, the subword segmentation is equal to the original BPE. \n",
    "- If the probability is one, the subword segmentation is equal to character segmentation. \n",
    "- If the probability is varied from 0 to 1, it gives multiple segmentations with various granularities. \n",
    "- Since this method exposes the models to various subword segmentation, it gives the ability to have a better understanding of words and subwords. \n",
    "- BPE-dropout is a simple procedure since training can be done without training any segmentations other than BPE and inference uses the standard BPE."
   ]
  },
  {
   "cell_type": "markdown",
   "id": "66d50cc3",
   "metadata": {
    "slideshow": {
     "slide_type": "slide"
    },
    "tags": []
   },
   "source": [
    "## References\n",
    "\n",
    "- [NLP Tokenization](https://medium.com/nerd-for-tech/nlp-tokenization-2fdec7536d17)\n",
    "- [Hugging Face Tokenizers](https://huggingface.co/course/chapter6/1?fw=pt)\n"
   ]
  }
 ],
 "metadata": {
  "kernelspec": {
   "display_name": "Python 3 (ipykernel)",
   "language": "python",
   "name": "python3"
  },
  "language_info": {
   "codemirror_mode": {
    "name": "ipython",
    "version": 3
   },
   "file_extension": ".py",
   "mimetype": "text/x-python",
   "name": "python",
   "nbconvert_exporter": "python",
   "pygments_lexer": "ipython3",
   "version": "3.8.12"
  },
  "vscode": {
   "interpreter": {
    "hash": "d4d1e4263499bec80672ea0156c357c1ee493ec2b1c70f0acce89fc37c4a6abe"
   }
  }
 },
 "nbformat": 4,
 "nbformat_minor": 5
}
