{
 "cells": [
  {
   "cell_type": "markdown",
   "id": "bfc871e8",
   "metadata": {},
   "source": [
    "# Research Applications"
   ]
  },
  {
   "cell_type": "markdown",
   "id": "9fc3afe2",
   "metadata": {},
   "source": [
    "## Textual analysis\n",
    "\n",
    "- Textual analysis becoming increasingly popular in asset pricing, macro, and other fields.\n",
    "- Most successful applications use text to measure economic concepts that are otherwise hard or impossible to measure.\n",
    "- So-far, simplest applications have been the most successful.\n",
    "- Many cutting-edge methods of machine learning are not necessary or even counter-productive, similar to kitchen-sink regressions, prone to over-fitting.\n",
    "- Advice:\n",
    "  - keep it simple.\n",
    "  - stay close to the text, read a lot.\n",
    "  - frontier is more in learning from new data than in fancy techniques.\n"
   ]
  },
  {
   "cell_type": "markdown",
   "id": "55d9820b",
   "metadata": {},
   "source": [
    "## Firm-level political risk\n",
    "by Hassan, Hollander, van Lent, and Tahoun (2019)\n",
    "\n",
    "- What share of the conversation between management and participants centers on political risks?\n",
    "\n",
    "- Extract all two-word combinations (“bigrams”) from training libraries indicative of discussion of political topics, P, and non-political topics\n"
   ]
  },
  {
   "cell_type": "markdown",
   "id": "5de36bdc",
   "metadata": {},
   "source": [
    "### Conference Call Transcripts\n",
    "\n",
    "- Transcripts of 326,247 earnings conference calls of 11,943 firms headquartered in 84 different countries, available 2002-20 from EIKON.\n",
    "\n",
    "- Typically four calls per year, after earnings releases.\n",
    "\n",
    "- Management presentation followed by Q&A with firm’s analysts (0-70 questions, average duration 45 min).\n"
   ]
  },
  {
   "cell_type": "markdown",
   "id": "1fe1d766",
   "metadata": {},
   "source": [
    "### Measure of Political Risk\n",
    "\n",
    "- Count the number of occurrences of (exclusively) political bigrams in conjunction with a synonym for risk or uncertainty and divide by the total number of bigrams in the transcript:\n",
    "\n",
    "![h:500px](../figs/intro_nlp/research/1.png)"
   ]
  },
  {
   "cell_type": "markdown",
   "id": "0f11b193",
   "metadata": {},
   "source": [
    "### Synonyms for “risk” or “uncertainty”\n",
    "\n",
    "![h:500px](../figs/intro_nlp/research/2.png)"
   ]
  },
  {
   "cell_type": "markdown",
   "id": "2e0a5aa5",
   "metadata": {},
   "source": []
  }
 ],
 "metadata": {
  "kernelspec": {
   "display_name": "Python 3.8.5 ('base')",
   "language": "python",
   "name": "python3"
  },
  "language_info": {
   "name": "python",
   "version": "3.8.5"
  },
  "vscode": {
   "interpreter": {
    "hash": "d4d1e4263499bec80672ea0156c357c1ee493ec2b1c70f0acce89fc37c4a6abe"
   }
  }
 },
 "nbformat": 4,
 "nbformat_minor": 5
}
