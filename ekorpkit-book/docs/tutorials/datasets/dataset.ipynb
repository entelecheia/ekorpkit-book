{
 "cells": [
  {
   "cell_type": "markdown",
   "metadata": {
    "id": "cjgz1WTcPWee"
   },
   "source": [
    "# Build and Load Datasets"
   ]
  },
  {
   "cell_type": "code",
   "execution_count": 1,
   "metadata": {
    "id": "BzxPwsOVPWef"
   },
   "outputs": [
    {
     "name": "stdout",
     "output_type": "stream",
     "text": [
      "0.1.32+9.g2c351a6.dirty\n"
     ]
    }
   ],
   "source": [
    "import logging\n",
    "from ekorpkit import eKonf\n",
    "\n",
    "logging.basicConfig(level=logging.INFO)\n",
    "print(eKonf.__version__)"
   ]
  },
  {
   "cell_type": "markdown",
   "metadata": {
    "id": "it1Y0MVPXRsJ"
   },
   "source": [
    "## Build a dataset with the ekorpkit configs"
   ]
  },
  {
   "cell_type": "code",
   "execution_count": 22,
   "metadata": {},
   "outputs": [
    {
     "name": "stderr",
     "output_type": "stream",
     "text": [
      "INFO:ekorpkit.io.load.data:Loading [train] documents from huggingface datasets [glue]\n",
      "WARNING:datasets.builder:Reusing dataset glue (/root/.cache/huggingface/datasets/glue/sst2/1.0.0/dacbe3125aa31d7f70367a07a8a9e72a5a0bfeb5fc42e75c9db75b96da6053ad)\n",
      "INFO:ekorpkit.corpora.build: >> elapsed time to load and parse data: 0:00:01.705638\n",
      "INFO:ekorpkit.corpora.build:\n",
      "Transforming dataframe with pipeline: ['rename_columns', 'replace', 'save_metadata']\n",
      "INFO:ekorpkit.pipelines.pipe:Applying pipeline: OrderedDict([('rename_columns', 'rename_columns'), ('replace', 'replace'), ('save_metadata', 'save_metadata')])\n",
      "INFO:ekorpkit.ekonf:Applying pipe: functools.partial(<function rename_columns at 0x7f0eabdda160>)\n",
      "INFO:ekorpkit.ekonf:Applying pipe: functools.partial(<function general_function at 0x7f0eabdda670>)\n",
      "INFO:ekorpkit.pipelines.pipe:processing column: labels\n",
      "INFO:ekorpkit.pipelines.pipe: >> elapsed time to replace: 0:00:00.004072\n",
      "INFO:ekorpkit.ekonf:Applying pipe: functools.partial(<function save_metadata at 0x7f0eabddad30>)\n",
      "INFO:ekorpkit.io.file:Saving dataframe to ../data/sst2/sst2-train.parquet\n"
     ]
    },
    {
     "name": "stdout",
     "output_type": "stream",
     "text": [
      "Dataset({\n",
      "    features: ['sentence', 'label', 'idx'],\n",
      "    num_rows: 67349\n",
      "})\n"
     ]
    },
    {
     "name": "stderr",
     "output_type": "stream",
     "text": [
      "INFO:ekorpkit.corpora.build:\n",
      "Processing dataframe with pipeline: ['save_samples']\n",
      "INFO:ekorpkit.pipelines.pipe:Applying pipeline: OrderedDict([('save_samples', 'save_samples')])\n",
      "INFO:ekorpkit.ekonf:Applying pipe: functools.partial(<function save_samples at 0x7f0eabdda9d0>)\n"
     ]
    },
    {
     "data": {
      "application/vnd.jupyter.widget-view+json": {
       "model_id": "9926f5cdc4df44e5a89f7fd8ae138bf6",
       "version_major": 2,
       "version_minor": 0
      },
      "text/plain": [
       "apply len_bytes to num_bytes:   0%|          | 0/67349 [00:00<?, ?it/s]"
      ]
     },
     "metadata": {},
     "output_type": "display_data"
    },
    {
     "name": "stderr",
     "output_type": "stream",
     "text": [
      "INFO:ekorpkit.info.stat: >> elapsed time to calculate statistics: 0:00:00.184043\n",
      "INFO:ekorpkit.io.load.data:Loading [test] documents from huggingface datasets [glue]\n",
      "WARNING:datasets.builder:Reusing dataset glue (/root/.cache/huggingface/datasets/glue/sst2/1.0.0/dacbe3125aa31d7f70367a07a8a9e72a5a0bfeb5fc42e75c9db75b96da6053ad)\n",
      "INFO:ekorpkit.corpora.build: >> elapsed time to load and parse data: 0:00:01.046894\n",
      "INFO:ekorpkit.corpora.build:\n",
      "Transforming dataframe with pipeline: ['rename_columns', 'replace', 'save_metadata']\n",
      "INFO:ekorpkit.pipelines.pipe:Applying pipeline: OrderedDict([('rename_columns', 'rename_columns'), ('replace', 'replace'), ('save_metadata', 'save_metadata')])\n",
      "INFO:ekorpkit.ekonf:Applying pipe: functools.partial(<function rename_columns at 0x7f0eabdda160>)\n",
      "INFO:ekorpkit.ekonf:Applying pipe: functools.partial(<function general_function at 0x7f0eabdda670>)\n",
      "INFO:ekorpkit.pipelines.pipe:processing column: labels\n",
      "INFO:ekorpkit.pipelines.pipe: >> elapsed time to replace: 0:00:00.001520\n",
      "INFO:ekorpkit.ekonf:Applying pipe: functools.partial(<function save_metadata at 0x7f0eabddad30>)\n",
      "INFO:ekorpkit.io.file:Saving dataframe to ../data/sst2/sst2-test.parquet\n",
      "INFO:ekorpkit.corpora.build:\n",
      "Processing dataframe with pipeline: ['save_samples']\n",
      "INFO:ekorpkit.pipelines.pipe:Applying pipeline: OrderedDict([('save_samples', 'save_samples')])\n",
      "INFO:ekorpkit.ekonf:Applying pipe: functools.partial(<function save_samples at 0x7f0eabdda9d0>)\n"
     ]
    },
    {
     "name": "stdout",
     "output_type": "stream",
     "text": [
      "Dataset({\n",
      "    features: ['sentence', 'label', 'idx'],\n",
      "    num_rows: 1821\n",
      "})\n"
     ]
    },
    {
     "data": {
      "application/vnd.jupyter.widget-view+json": {
       "model_id": "a3a9070737e44646bf9194af005a091b",
       "version_major": 2,
       "version_minor": 0
      },
      "text/plain": [
       "apply len_bytes to num_bytes:   0%|          | 0/1821 [00:00<?, ?it/s]"
      ]
     },
     "metadata": {},
     "output_type": "display_data"
    },
    {
     "name": "stderr",
     "output_type": "stream",
     "text": [
      "INFO:ekorpkit.info.stat: >> elapsed time to calculate statistics: 0:00:00.035541\n",
      "INFO:ekorpkit.io.load.data:Loading [dev] documents from huggingface datasets [glue]\n",
      "WARNING:datasets.builder:Reusing dataset glue (/root/.cache/huggingface/datasets/glue/sst2/1.0.0/dacbe3125aa31d7f70367a07a8a9e72a5a0bfeb5fc42e75c9db75b96da6053ad)\n",
      "INFO:ekorpkit.corpora.build: >> elapsed time to load and parse data: 0:00:01.047846\n",
      "INFO:ekorpkit.corpora.build:\n",
      "Transforming dataframe with pipeline: ['rename_columns', 'replace', 'save_metadata']\n",
      "INFO:ekorpkit.pipelines.pipe:Applying pipeline: OrderedDict([('rename_columns', 'rename_columns'), ('replace', 'replace'), ('save_metadata', 'save_metadata')])\n",
      "INFO:ekorpkit.ekonf:Applying pipe: functools.partial(<function rename_columns at 0x7f0eabdda160>)\n",
      "INFO:ekorpkit.ekonf:Applying pipe: functools.partial(<function general_function at 0x7f0eabdda670>)\n",
      "INFO:ekorpkit.pipelines.pipe:processing column: labels\n",
      "INFO:ekorpkit.pipelines.pipe: >> elapsed time to replace: 0:00:00.001255\n",
      "INFO:ekorpkit.ekonf:Applying pipe: functools.partial(<function save_metadata at 0x7f0eabddad30>)\n",
      "INFO:ekorpkit.io.file:Saving dataframe to ../data/sst2/sst2-dev.parquet\n",
      "INFO:ekorpkit.corpora.build:\n",
      "Processing dataframe with pipeline: ['save_samples']\n",
      "INFO:ekorpkit.pipelines.pipe:Applying pipeline: OrderedDict([('save_samples', 'save_samples')])\n",
      "INFO:ekorpkit.ekonf:Applying pipe: functools.partial(<function save_samples at 0x7f0eabdda9d0>)\n"
     ]
    },
    {
     "name": "stdout",
     "output_type": "stream",
     "text": [
      "Dataset({\n",
      "    features: ['sentence', 'label', 'idx'],\n",
      "    num_rows: 872\n",
      "})\n"
     ]
    },
    {
     "data": {
      "application/vnd.jupyter.widget-view+json": {
       "model_id": "e7dddbcf75074404ad71d0144e965a25",
       "version_major": 2,
       "version_minor": 0
      },
      "text/plain": [
       "apply len_bytes to num_bytes:   0%|          | 0/872 [00:00<?, ?it/s]"
      ]
     },
     "metadata": {},
     "output_type": "display_data"
    },
    {
     "name": "stderr",
     "output_type": "stream",
     "text": [
      "INFO:ekorpkit.info.stat: >> elapsed time to calculate statistics: 0:00:00.032657\n",
      "INFO:ekorpkit.corpora.build:\n",
      "Corpus [sst2] is built to [../data/sst2] from [../data/sst2]\n"
     ]
    }
   ],
   "source": [
    "cfg = eKonf.compose(config_group=\"dataset/simple=sst2\")\n",
    "cfg.data_dir = \"../data/sst2\"\n",
    "cfg.io.data_dir = cfg.data_dir\n",
    "cfg.io.overwrite = True\n",
    "cfg.io.calculate_stats = True\n",
    "# eKonf.print(cfg)\n",
    "db = eKonf.instantiate(cfg)\n"
   ]
  },
  {
   "cell_type": "code",
   "execution_count": 3,
   "metadata": {},
   "outputs": [
    {
     "name": "stderr",
     "output_type": "stream",
     "text": [
      "INFO:ekorpkit.io.load.data:Loading [train] documents from huggingface datasets [nsmc]\n"
     ]
    },
    {
     "data": {
      "application/vnd.jupyter.widget-view+json": {
       "model_id": "51ee30b745e440b193a961121ea1b9ec",
       "version_major": 2,
       "version_minor": 0
      },
      "text/plain": [
       "Downloading builder script:   0%|          | 0.00/1.36k [00:00<?, ?B/s]"
      ]
     },
     "metadata": {},
     "output_type": "display_data"
    },
    {
     "data": {
      "application/vnd.jupyter.widget-view+json": {
       "model_id": "427e799a9f72477c93bbcec1b32bfb88",
       "version_major": 2,
       "version_minor": 0
      },
      "text/plain": [
       "Downloading metadata:   0%|          | 0.00/807 [00:00<?, ?B/s]"
      ]
     },
     "metadata": {},
     "output_type": "display_data"
    },
    {
     "name": "stderr",
     "output_type": "stream",
     "text": [
      "WARNING:datasets.builder:Using custom data configuration default\n"
     ]
    },
    {
     "name": "stdout",
     "output_type": "stream",
     "text": [
      "Downloading and preparing dataset nsmc/default (download: 18.62 MiB, generated: 20.90 MiB, post-processed: Unknown size, total: 39.52 MiB) to /root/.cache/huggingface/datasets/nsmc/default/1.1.0/bfd4729bf1a67114e5267e6916b9e4807010aeb238e4a3c2b95fbfa3a014b5f3...\n"
     ]
    },
    {
     "data": {
      "application/vnd.jupyter.widget-view+json": {
       "model_id": "6ce6e46b32db4a6c953accbcb371c91d",
       "version_major": 2,
       "version_minor": 0
      },
      "text/plain": [
       "Downloading data files:   0%|          | 0/2 [00:00<?, ?it/s]"
      ]
     },
     "metadata": {},
     "output_type": "display_data"
    },
    {
     "data": {
      "application/vnd.jupyter.widget-view+json": {
       "model_id": "74eb35a6291e4a619e32185bf1a6640e",
       "version_major": 2,
       "version_minor": 0
      },
      "text/plain": [
       "Downloading data:   0%|          | 0.00/6.33M [00:00<?, ?B/s]"
      ]
     },
     "metadata": {},
     "output_type": "display_data"
    },
    {
     "data": {
      "application/vnd.jupyter.widget-view+json": {
       "model_id": "04cca8894e314865994aa8ac7e77c9d0",
       "version_major": 2,
       "version_minor": 0
      },
      "text/plain": [
       "Downloading data:   0%|          | 0.00/2.12M [00:00<?, ?B/s]"
      ]
     },
     "metadata": {},
     "output_type": "display_data"
    },
    {
     "data": {
      "application/vnd.jupyter.widget-view+json": {
       "model_id": "db1328bc76b148f884cf1b16048d0c54",
       "version_major": 2,
       "version_minor": 0
      },
      "text/plain": [
       "Extracting data files:   0%|          | 0/2 [00:00<?, ?it/s]"
      ]
     },
     "metadata": {},
     "output_type": "display_data"
    },
    {
     "data": {
      "application/vnd.jupyter.widget-view+json": {
       "model_id": "",
       "version_major": 2,
       "version_minor": 0
      },
      "text/plain": [
       "Generating train split:   0%|          | 0/150000 [00:00<?, ? examples/s]"
      ]
     },
     "metadata": {},
     "output_type": "display_data"
    },
    {
     "data": {
      "application/vnd.jupyter.widget-view+json": {
       "model_id": "",
       "version_major": 2,
       "version_minor": 0
      },
      "text/plain": [
       "Generating test split:   0%|          | 0/50000 [00:00<?, ? examples/s]"
      ]
     },
     "metadata": {},
     "output_type": "display_data"
    },
    {
     "name": "stderr",
     "output_type": "stream",
     "text": [
      "INFO:ekorpkit.corpora.build: >> elapsed time to load and parse data: 0:00:12.598823\n",
      "INFO:ekorpkit.corpora.build:\n",
      "Transforming dataframe with pipeline: ['rename_columns', 'reset_index', 'replace', 'save_metadata']\n",
      "INFO:ekorpkit.pipelines.pipe:Applying pipeline: OrderedDict([('rename_columns', 'rename_columns'), ('reset_index', 'reset_index'), ('replace', 'replace'), ('save_metadata', 'save_metadata')])\n",
      "INFO:ekorpkit.ekonf:Applying pipe: functools.partial(<function rename_columns at 0x7f8772285280>)\n",
      "INFO:ekorpkit.ekonf:Applying pipe: functools.partial(<function reset_index at 0x7f8772285f70>)\n",
      "INFO:ekorpkit.ekonf:Applying pipe: functools.partial(<function general_function at 0x7f8b6bfe6a60>)\n",
      "INFO:ekorpkit.pipelines.pipe:processing column: labels\n",
      "INFO:ekorpkit.pipelines.pipe: >> elapsed time to replace: 0:00:00.007475\n",
      "INFO:ekorpkit.ekonf:Applying pipe: functools.partial(<function save_metadata at 0x7f8b6bfe61f0>)\n"
     ]
    },
    {
     "name": "stdout",
     "output_type": "stream",
     "text": [
      "Dataset nsmc downloaded and prepared to /root/.cache/huggingface/datasets/nsmc/default/1.1.0/bfd4729bf1a67114e5267e6916b9e4807010aeb238e4a3c2b95fbfa3a014b5f3. Subsequent calls will reuse this data.\n",
      "Dataset({\n",
      "    features: ['id', 'document', 'label'],\n",
      "    num_rows: 150000\n",
      "})\n"
     ]
    },
    {
     "name": "stderr",
     "output_type": "stream",
     "text": [
      "INFO:ekorpkit.io.file:Saving dataframe to ../data/nsmc/nsmc-train.parquet\n",
      "INFO:ekorpkit.corpora.build:\n",
      "Processing dataframe with pipeline: ['save_samples']\n",
      "INFO:ekorpkit.pipelines.pipe:Applying pipeline: OrderedDict([('save_samples', 'save_samples')])\n",
      "INFO:ekorpkit.ekonf:Applying pipe: functools.partial(<function save_samples at 0x7f8b6bfe6280>)\n"
     ]
    },
    {
     "data": {
      "application/vnd.jupyter.widget-view+json": {
       "model_id": "1bc4a9de7604437784c3f54f97507168",
       "version_major": 2,
       "version_minor": 0
      },
      "text/plain": [
       "apply len_bytes to num_bytes:   0%|          | 0/150000 [00:00<?, ?it/s]"
      ]
     },
     "metadata": {},
     "output_type": "display_data"
    },
    {
     "name": "stderr",
     "output_type": "stream",
     "text": [
      "INFO:ekorpkit.info.stat: >> elapsed time to calculate statistics: 0:00:00.378397\n",
      "INFO:ekorpkit.io.load.data:Loading [test] documents from huggingface datasets [nsmc]\n",
      "WARNING:datasets.builder:Using custom data configuration default\n",
      "WARNING:datasets.builder:Reusing dataset nsmc (/root/.cache/huggingface/datasets/nsmc/default/1.1.0/bfd4729bf1a67114e5267e6916b9e4807010aeb238e4a3c2b95fbfa3a014b5f3)\n",
      "INFO:ekorpkit.corpora.build: >> elapsed time to load and parse data: 0:00:01.060433\n",
      "INFO:ekorpkit.corpora.build:\n",
      "Transforming dataframe with pipeline: ['rename_columns', 'reset_index', 'replace', 'save_metadata']\n",
      "INFO:ekorpkit.pipelines.pipe:Applying pipeline: OrderedDict([('rename_columns', 'rename_columns'), ('reset_index', 'reset_index'), ('replace', 'replace'), ('save_metadata', 'save_metadata')])\n",
      "INFO:ekorpkit.ekonf:Applying pipe: functools.partial(<function rename_columns at 0x7f8772285280>)\n",
      "INFO:ekorpkit.ekonf:Applying pipe: functools.partial(<function reset_index at 0x7f8772285f70>)\n",
      "INFO:ekorpkit.ekonf:Applying pipe: functools.partial(<function general_function at 0x7f8b6bfe6a60>)\n",
      "INFO:ekorpkit.pipelines.pipe:processing column: labels\n",
      "INFO:ekorpkit.pipelines.pipe: >> elapsed time to replace: 0:00:00.003551\n",
      "INFO:ekorpkit.ekonf:Applying pipe: functools.partial(<function save_metadata at 0x7f8b6bfe61f0>)\n",
      "INFO:ekorpkit.io.file:Saving dataframe to ../data/nsmc/nsmc-test.parquet\n"
     ]
    },
    {
     "name": "stdout",
     "output_type": "stream",
     "text": [
      "Dataset({\n",
      "    features: ['id', 'document', 'label'],\n",
      "    num_rows: 50000\n",
      "})\n"
     ]
    },
    {
     "name": "stderr",
     "output_type": "stream",
     "text": [
      "INFO:ekorpkit.corpora.build:\n",
      "Processing dataframe with pipeline: ['save_samples']\n",
      "INFO:ekorpkit.pipelines.pipe:Applying pipeline: OrderedDict([('save_samples', 'save_samples')])\n",
      "INFO:ekorpkit.ekonf:Applying pipe: functools.partial(<function save_samples at 0x7f8b6bfe6280>)\n"
     ]
    },
    {
     "data": {
      "application/vnd.jupyter.widget-view+json": {
       "model_id": "b66d53ba189c4febbe8a1c4f2ef0b10c",
       "version_major": 2,
       "version_minor": 0
      },
      "text/plain": [
       "apply len_bytes to num_bytes:   0%|          | 0/50000 [00:00<?, ?it/s]"
      ]
     },
     "metadata": {},
     "output_type": "display_data"
    },
    {
     "name": "stderr",
     "output_type": "stream",
     "text": [
      "INFO:ekorpkit.info.stat: >> elapsed time to calculate statistics: 0:00:00.158224\n",
      "INFO:ekorpkit.corpora.build:\n",
      "Corpus [nsmc] is built to [../data/nsmc] from [../data/nsmc]\n"
     ]
    }
   ],
   "source": [
    "cfg = eKonf.compose(config_group='dataset/simple=nsmc')\n",
    "cfg.data_dir = '../data/nsmc'\n",
    "cfg.io.data_dir = cfg.data_dir\n",
    "cfg.io.overwrite = True\n",
    "cfg.io.calculate_stats = True\n",
    "db = eKonf.instantiate(cfg)"
   ]
  },
  {
   "cell_type": "markdown",
   "metadata": {
    "id": "tJpz9ehuPWeh"
   },
   "source": [
    "## Instantiating datasets"
   ]
  },
  {
   "cell_type": "code",
   "execution_count": 23,
   "metadata": {
    "colab": {
     "base_uri": "https://localhost:8080/"
    },
    "id": "iAc66OeiPWei",
    "outputId": "96912de9-2861-47fc-b037-c65ec9f31f2b"
   },
   "outputs": [
    {
     "name": "stderr",
     "output_type": "stream",
     "text": [
      "INFO:ekorpkit.datasets.datasets:processing nsmc\n",
      "INFO:ekorpkit.corpora.corpus:Loaded info file: ../data/nsmc/info-nsmc.yaml\n",
      "INFO:ekorpkit.io.file:Processing [1] files from ['../data/nsmc/nsmc-train.parquet']\n",
      "INFO:ekorpkit.io.file:Loading 1 dataframes from ['../data/nsmc/nsmc-train.parquet']\n",
      "INFO:ekorpkit.io.file:Loading data from ../data/nsmc/nsmc-train.parquet\n",
      "INFO:ekorpkit.info.column:Adding id [split] to ['id']\n",
      "INFO:ekorpkit.info.column:Added id [split], now ['id', 'split']\n",
      "INFO:ekorpkit.info.column:Added a column [split] with value [train]\n",
      "INFO:ekorpkit.datasets.dataset:Dataset nsmc split dev is empty\n",
      "INFO:ekorpkit.io.file:Processing [1] files from ['../data/nsmc/nsmc-test.parquet']\n",
      "INFO:ekorpkit.io.file:Loading 1 dataframes from ['../data/nsmc/nsmc-test.parquet']\n",
      "INFO:ekorpkit.io.file:Loading data from ../data/nsmc/nsmc-test.parquet\n",
      "INFO:ekorpkit.info.column:Added a column [split] with value [test]\n",
      "INFO:ekorpkit.datasets.datasets:processing sst2\n",
      "INFO:ekorpkit.corpora.corpus:Loaded info file: ../data/sst2/info-sst2.yaml\n",
      "INFO:ekorpkit.io.file:Processing [1] files from ['../data/sst2/sst2-train.parquet']\n",
      "INFO:ekorpkit.io.file:Loading 1 dataframes from ['../data/sst2/sst2-train.parquet']\n",
      "INFO:ekorpkit.io.file:Loading data from ../data/sst2/sst2-train.parquet\n",
      "INFO:ekorpkit.info.column:Adding id [split] to ['id']\n",
      "INFO:ekorpkit.info.column:Added id [split], now ['id', 'split']\n",
      "INFO:ekorpkit.info.column:Added a column [split] with value [train]\n",
      "INFO:ekorpkit.io.file:Processing [1] files from ['../data/sst2/sst2-dev.parquet']\n",
      "INFO:ekorpkit.io.file:Loading 1 dataframes from ['../data/sst2/sst2-dev.parquet']\n",
      "INFO:ekorpkit.io.file:Loading data from ../data/sst2/sst2-dev.parquet\n",
      "INFO:ekorpkit.info.column:Added a column [split] with value [dev]\n",
      "INFO:ekorpkit.io.file:Processing [1] files from ['../data/sst2/sst2-test.parquet']\n",
      "INFO:ekorpkit.io.file:Loading 1 dataframes from ['../data/sst2/sst2-test.parquet']\n",
      "INFO:ekorpkit.io.file:Loading data from ../data/sst2/sst2-test.parquet\n",
      "INFO:ekorpkit.info.column:Added a column [split] with value [test]\n",
      "INFO:ekorpkit.datasets.datasets:>>> Elapsed time: 0:00:00.341993 <<< \n",
      "INFO:ekorpkit.ekonf:No method defined to call\n"
     ]
    },
    {
     "name": "stdout",
     "output_type": "stream",
     "text": [
      "Datasets\n",
      "----------\n",
      "nsmc\n",
      "sst2\n",
      "\n"
     ]
    }
   ],
   "source": [
    "from ekorpkit import eKonf\n",
    "\n",
    "cfg = eKonf.compose('dataset=datasets')\n",
    "cfg.datasets = ['nsmc', 'sst2']\n",
    "cfg.data_dir = '../data'\n",
    "cfg.verbose = False\n",
    "ds = eKonf.instantiate(cfg)\n",
    "print(ds)"
   ]
  },
  {
   "cell_type": "code",
   "execution_count": 24,
   "metadata": {
    "colab": {
     "base_uri": "https://localhost:8080/"
    },
    "id": "ds2y2-PAPWej",
    "outputId": "ac6d5b18-cad5-4be6-f1ca-c42ec0c0b0fe"
   },
   "outputs": [
    {
     "name": "stdout",
     "output_type": "stream",
     "text": [
      "DatasetInfo :\n",
      "{'_keys_': {'id': 'id', 'text': 'text', 'split': 'split', 'dataset': 'dataset'}, 'columns': {'id': 'id', 'text': 'text'}, 'datetime': {'columns': None, 'format': None, '_parms_': None}, 'data': {'id': 'int', 'text': 'str'}}\n"
     ]
    }
   ],
   "source": [
    "print(ds.COLUMN)"
   ]
  },
  {
   "cell_type": "code",
   "execution_count": 25,
   "metadata": {
    "scrolled": false
   },
   "outputs": [
    {
     "name": "stderr",
     "output_type": "stream",
     "text": [
      "WARNING:ekorpkit.datasets.datasets:datasets not concatenated yet, calling concatenate()\n",
      "INFO:ekorpkit.info.column:Adding id [dataset] to ['id']\n",
      "INFO:ekorpkit.info.column:Added id [dataset], now ['id', 'dataset']\n",
      "INFO:ekorpkit.info.column:Added a column [dataset] with value [nsmc]\n",
      "INFO:ekorpkit.info.column:Added a column [dataset] with value [sst2]\n",
      "INFO:ekorpkit.info.column:Added a column [dataset] with value [sst2]\n",
      "INFO:ekorpkit.info.column:Added a column [dataset] with value [nsmc]\n",
      "INFO:ekorpkit.info.column:Added a column [dataset] with value [sst2]\n",
      "INFO:ekorpkit.io.file:Saving dataframe to ../data/nsmc-sst2/nsmc-sst2-train.parquet\n"
     ]
    },
    {
     "data": {
      "application/vnd.jupyter.widget-view+json": {
       "model_id": "ddfa4f72d2cf470886edd83c65f561cb",
       "version_major": 2,
       "version_minor": 0
      },
      "text/plain": [
       "apply len_bytes to num_bytes:   0%|          | 0/217349 [00:00<?, ?it/s]"
      ]
     },
     "metadata": {},
     "output_type": "display_data"
    },
    {
     "name": "stderr",
     "output_type": "stream",
     "text": [
      "INFO:ekorpkit.info.stat: >> elapsed time to calculate statistics: 0:00:00.538470\n",
      "INFO:ekorpkit.io.file:Saving dataframe to ../data/nsmc-sst2/nsmc-sst2-test.parquet\n"
     ]
    },
    {
     "data": {
      "application/vnd.jupyter.widget-view+json": {
       "model_id": "97d50d37888548609818288436732c91",
       "version_major": 2,
       "version_minor": 0
      },
      "text/plain": [
       "apply len_bytes to num_bytes:   0%|          | 0/51821 [00:00<?, ?it/s]"
      ]
     },
     "metadata": {},
     "output_type": "display_data"
    },
    {
     "name": "stderr",
     "output_type": "stream",
     "text": [
      "INFO:ekorpkit.info.stat: >> elapsed time to calculate statistics: 0:00:00.159861\n"
     ]
    }
   ],
   "source": [
    "# ds.concat_datasets()\n",
    "ds.persist()"
   ]
  },
  {
   "cell_type": "code",
   "execution_count": 26,
   "metadata": {},
   "outputs": [
    {
     "name": "stdout",
     "output_type": "stream",
     "text": [
      "DatasetInfo :\n",
      "{'_keys_': {'id': 'id', 'text': 'text', 'split': 'split', 'dataset': 'dataset'}, 'columns': {'id': ['id', 'dataset'], 'text': 'text', 'index': 'index'}, 'datetime': {'columns': None, 'format': None, '_parms_': None}, 'data': {'id': 'int64', 'text': 'object', 'labels': 'object', 'subset': 'object', '_id_': 'int64', 'split': 'object', 'dataset': 'object'}}\n"
     ]
    }
   ],
   "source": [
    "print(ds.COLUMN)"
   ]
  },
  {
   "cell_type": "code",
   "execution_count": 27,
   "metadata": {},
   "outputs": [
    {
     "name": "stdout",
     "output_type": "stream",
     "text": [
      "{'column_info': {'_keys_': {'id': 'id', 'text': 'text', 'split': 'split', 'dataset': 'dataset'}, 'columns': {'id': 'id', 'text': 'text'}, 'datetime': {'columns': None, 'format': None, '_parms_': None}, 'data': {'id': 'int', 'text': 'str'}, '_target_': 'ekorpkit.info.column.DatasetInfo'}, 'path': {'root': '/workspace/data/None', 'name': None, 'cached_path': None, 'filetype': '.parquet', 'verbose': False, 'data_dir': '../data', 'data_file': None, 'concat_data': False, 'columns': None, 'output_dir': None, 'output_file': None, 'suffix': None, 'cache': {'uri': None, 'extract_archive': True, 'force_extract': False, 'return_parent_dir': True, 'cache_dir': '/workspace/.cache', 'verbose': False, 'path': None}}, 'auto': {'load': True, 'build': False}, 'force': {'rebuild': False}, 'name': 'nsmc-sst2', 'data_dir': '../data', 'filetype': '.parquet', 'use_name_as_subdir': True, 'verbose': False, 'info': {'stats': {'_func_': {'len_bytes': {'_partial_': True, '_target_': 'ekorpkit.utils.func.len_bytes'}}, '_target_': 'ekorpkit.info.stat.summary_stats', '_partial_': True, 'num_workers': 1, 'key_columns': None, 'num_columns': {'num_bytes': 'len_bytes'}, 'agg_funcs': {'num_bytes': ['count', 'sum', 'median', 'max', 'min']}, 'rename_columns': {'num_bytes_count': 'num_examples', 'num_bytes_sum': 'num_bytes'}, 'convert_to_humanbytes': {'num_bytes': 'human_bytes'}, 'text_keys': 'text'}, '_target_': 'ekorpkit.info.stat.SummaryInfo', 'name': None, 'data_dir': '../data', 'info_file': 'info-None.yaml', 'info_list': ['name', 'fullname', 'domain', 'task', 'lang', 'description', 'license', 'homepage', 'version', 'num_examples', 'size_in_bytes', 'size_in_human_bytes', 'data_files_modified', 'info_updated', 'data_files', 'column_info'], 'update_files_info': {'data_files': 'data_file', 'meta_files': 'meta_file'}, 'update_info': ['fullname', 'lang', 'domain', 'task', 'description', 'license', 'homepage', 'version'], 'modified_info': {'data_files_modified': 'data_file'}, 'key_columns': None, 'verbose': False, 'aggregate_info': {'num_examples': 'num_examples', 'size_in_bytes': 'num_bytes'}}, 'datasets': {'nsmc': <ekorpkit.datasets.dataset.Dataset object at 0x7f0e40261d90>, 'sst2': <ekorpkit.datasets.dataset.Dataset object at 0x7f0e4021cd00>}, 'autorun': ['load']}\n"
     ]
    }
   ],
   "source": [
    "print(ds.INFO)"
   ]
  },
  {
   "cell_type": "code",
   "execution_count": 28,
   "metadata": {},
   "outputs": [
    {
     "name": "stdout",
     "output_type": "stream",
     "text": [
      "Name of a new dataset: nsmc-sst2\n"
     ]
    }
   ],
   "source": [
    "print(f\"Name of a new dataset: {ds.name}\")"
   ]
  },
  {
   "cell_type": "markdown",
   "metadata": {
    "id": "zpdqyeyPPWek"
   },
   "source": [
    "## Instantiating a dataset"
   ]
  },
  {
   "cell_type": "code",
   "execution_count": 29,
   "metadata": {
    "colab": {
     "base_uri": "https://localhost:8080/"
    },
    "id": "DFsykazvPWel",
    "outputId": "f8ee38e9-59e7-472e-eb98-da032c0c209e"
   },
   "outputs": [
    {
     "name": "stderr",
     "output_type": "stream",
     "text": [
      "INFO:ekorpkit.corpora.corpus:Loaded info file: ../data/nsmc/info-nsmc.yaml\n",
      "INFO:ekorpkit.io.file:Processing [1] files from ['../data/nsmc/nsmc-train.parquet']\n",
      "INFO:ekorpkit.io.file:Loading 1 dataframes from ['../data/nsmc/nsmc-train.parquet']\n",
      "INFO:ekorpkit.io.file:Loading data from ../data/nsmc/nsmc-train.parquet\n",
      "INFO:ekorpkit.info.column:Adding id [split] to ['id']\n",
      "INFO:ekorpkit.info.column:Added id [split], now ['id', 'split']\n",
      "INFO:ekorpkit.info.column:Added a column [split] with value [train]\n",
      "INFO:ekorpkit.datasets.dataset:Dataset nsmc split dev is empty\n",
      "INFO:ekorpkit.io.file:Processing [1] files from ['../data/nsmc/nsmc-test.parquet']\n",
      "INFO:ekorpkit.io.file:Loading 1 dataframes from ['../data/nsmc/nsmc-test.parquet']\n",
      "INFO:ekorpkit.io.file:Loading data from ../data/nsmc/nsmc-test.parquet\n",
      "INFO:ekorpkit.info.column:Added a column [split] with value [test]\n"
     ]
    },
    {
     "name": "stdout",
     "output_type": "stream",
     "text": [
      "Dataset : nsmc\n"
     ]
    }
   ],
   "source": [
    "cfg = eKonf.compose('dataset')\n",
    "cfg.name = 'nsmc'\n",
    "cfg.data_dir = '../data'\n",
    "cfg.verbose = False\n",
    "# eKonf.print(cfg)\n",
    "ds = eKonf.instantiate(cfg)\n",
    "print(ds)"
   ]
  },
  {
   "cell_type": "code",
   "execution_count": 30,
   "metadata": {},
   "outputs": [
    {
     "name": "stdout",
     "output_type": "stream",
     "text": [
      "DatasetInfo :\n",
      "{'_keys_': {'id': 'id', 'text': 'text', 'split': 'split', 'dataset': 'dataset', 'input': 'input', 'predicted': 'predicted', 'model_outputs': 'model_outputs', 'labels': 'labels'}, 'columns': {'id': ['id', 'split'], 'text': 'text', 'labels': 'labels'}, 'datetime': {'columns': None, 'format': None, '_parms_': None}, 'data': {'id': 'int64', 'idx': 'object', 'text': 'object', 'labels': 'object', 'subset': 'object', 'split': 'str'}}\n"
     ]
    }
   ],
   "source": [
    "print(ds.COLUMN)"
   ]
  },
  {
   "cell_type": "code",
   "execution_count": 31,
   "metadata": {
    "colab": {
     "base_uri": "https://localhost:8080/",
     "height": 423
    },
    "id": "MHrSWGlq_r2P",
    "outputId": "9a1f4304-0b6b-49ca-c044-1b2c6554078b"
   },
   "outputs": [
    {
     "data": {
      "text/plain": [
       "id         int64\n",
       "idx       object\n",
       "text      object\n",
       "labels    object\n",
       "subset    object\n",
       "split     object\n",
       "dtype: object"
      ]
     },
     "execution_count": 31,
     "metadata": {},
     "output_type": "execute_result"
    }
   ],
   "source": [
    "ds.splits['train'].dtypes"
   ]
  },
  {
   "cell_type": "code",
   "execution_count": 32,
   "metadata": {
    "colab": {
     "base_uri": "https://localhost:8080/"
    },
    "id": "kArHj0GHPWem",
    "outputId": "dab02e68-13d8-4396-873a-8f28905526a4"
   },
   "outputs": [
    {
     "name": "stdout",
     "output_type": "stream",
     "text": [
      "{'column_info': {'_keys_': {'dataset': 'dataset',\n",
      "                            'id': 'id',\n",
      "                            'input': 'input',\n",
      "                            'labels': 'labels',\n",
      "                            'model_outputs': 'model_outputs',\n",
      "                            'predicted': 'predicted',\n",
      "                            'split': 'split',\n",
      "                            'text': 'text'},\n",
      "                 'columns': {'id': 'id', 'labels': 'labels', 'text': 'text'},\n",
      "                 'data': {'id': 'int', 'labels': 'str', 'text': 'str'},\n",
      "                 'datetime': {'_parms_': None,\n",
      "                              'columns': None,\n",
      "                              'format': None}},\n",
      " 'data_files': {'test': 'nsmc-test.parquet', 'train': 'nsmc-train.parquet'},\n",
      " 'data_files_modified': '2022-06-13 00:48:10',\n",
      " 'domain': 'general',\n",
      " 'info_updated': '2022-06-13 00:48:10',\n",
      " 'lang': 'ko',\n",
      " 'meta_files': {},\n",
      " 'name': 'nsmc',\n",
      " 'num_examples': 200000,\n",
      " 'size_in_bytes': 17313021,\n",
      " 'size_in_human_bytes': '16.51 MiB',\n",
      " 'splits': {'test': {'data_file': 'nsmc-test.parquet',\n",
      "                     'dataset_name': 'nsmc',\n",
      "                     'human_bytes': '4.14 MiB',\n",
      "                     'name': 'test',\n",
      "                     'num_bytes': 4340982,\n",
      "                     'num_bytes_max': 420,\n",
      "                     'num_bytes_median': 65.0,\n",
      "                     'num_bytes_min': 0,\n",
      "                     'num_examples': 50000},\n",
      "            'train': {'data_file': 'nsmc-train.parquet',\n",
      "                      'dataset_name': 'nsmc',\n",
      "                      'human_bytes': '12.37 MiB',\n",
      "                      'name': 'train',\n",
      "                      'num_bytes': 12972039,\n",
      "                      'num_bytes_max': 420,\n",
      "                      'num_bytes_median': 65.0,\n",
      "                      'num_bytes_min': 0,\n",
      "                      'num_examples': 150000}},\n",
      " 'task': 'classification'}\n"
     ]
    }
   ],
   "source": [
    "eKonf.print(ds.INFO)"
   ]
  },
  {
   "cell_type": "code",
   "execution_count": null,
   "metadata": {
    "colab": {
     "base_uri": "https://localhost:8080/"
    },
    "id": "Z0e0cZVm_r2R",
    "outputId": "c78437ba-b1da-4231-ea6a-d3937ca0259e"
   },
   "outputs": [],
   "source": []
  },
  {
   "cell_type": "code",
   "execution_count": null,
   "metadata": {
    "id": "I7lQRCRJ_r2S"
   },
   "outputs": [],
   "source": []
  }
 ],
 "metadata": {
  "colab": {
   "name": "corpus.ipynb",
   "provenance": []
  },
  "interpreter": {
   "hash": "f869af7787e6a1c49e09e367fc6e1b81d93d1c6583b43249c80edc047bd13cb2"
  },
  "kernelspec": {
   "display_name": "Python 3",
   "language": "python",
   "name": "python3"
  },
  "language_info": {
   "codemirror_mode": {
    "name": "ipython",
    "version": 3
   },
   "file_extension": ".py",
   "mimetype": "text/x-python",
   "name": "python",
   "nbconvert_exporter": "python",
   "pygments_lexer": "ipython3",
   "version": "3.8.8"
  },
  "widgets": {
   "application/vnd.jupyter.widget-state+json": {
    "state": {
     "002985b9ea794f8fa472fb24f6b67b10": {
      "model_module": "@jupyter-widgets/controls",
      "model_module_version": "1.5.0",
      "model_name": "DescriptionStyleModel",
      "state": {
       "description_width": ""
      }
     },
     "00b1707e6cfa402aa0a0dc8d9b747c6f": {
      "model_module": "@jupyter-widgets/controls",
      "model_module_version": "1.5.0",
      "model_name": "DescriptionStyleModel",
      "state": {
       "description_width": ""
      }
     },
     "016915495f264ea4ae689616b4a2e540": {
      "model_module": "@jupyter-widgets/controls",
      "model_module_version": "1.5.0",
      "model_name": "ProgressStyleModel",
      "state": {
       "description_width": ""
      }
     },
     "03770abc5b58479fa76b47a5bdb64d68": {
      "model_module": "@jupyter-widgets/base",
      "model_module_version": "1.2.0",
      "model_name": "LayoutModel",
      "state": {}
     },
     "04964c44dede4e9e938485977ba0cf33": {
      "model_module": "@jupyter-widgets/controls",
      "model_module_version": "1.5.0",
      "model_name": "FloatProgressModel",
      "state": {
       "bar_style": "success",
       "layout": "IPY_MODEL_f30e289a9d994e4b8343f4dded7c806f",
       "max": 1821,
       "style": "IPY_MODEL_d6494e6fa89c4089afc63740440f0a18",
       "value": 1821
      }
     },
     "04cca8894e314865994aa8ac7e77c9d0": {
      "model_module": "@jupyter-widgets/controls",
      "model_module_version": "1.5.0",
      "model_name": "HBoxModel",
      "state": {
       "children": [
        "IPY_MODEL_0f20d2a386c84e19b97459267091f1d6",
        "IPY_MODEL_26b03cf3455b42ef94d6c4ab7b5f5caf",
        "IPY_MODEL_b6993aa1cd144b4b8f680a5b23a712bd"
       ],
       "layout": "IPY_MODEL_9be0ad056b43484e943db697b6ed19f2"
      }
     },
     "0635413ab09a496a8a8a92c95c165d2c": {
      "model_module": "@jupyter-widgets/controls",
      "model_module_version": "1.5.0",
      "model_name": "HTMLModel",
      "state": {
       "layout": "IPY_MODEL_42e9386b9ab245d48c629e701729e66b",
       "style": "IPY_MODEL_002985b9ea794f8fa472fb24f6b67b10",
       "value": "apply len_bytes to num_bytes: 100%"
      }
     },
     "07a6e5f689cc43be82a22a3d844fbf0e": {
      "model_module": "@jupyter-widgets/controls",
      "model_module_version": "1.5.0",
      "model_name": "DescriptionStyleModel",
      "state": {
       "description_width": ""
      }
     },
     "084605e7007847caa841b19f7e750649": {
      "model_module": "@jupyter-widgets/base",
      "model_module_version": "1.2.0",
      "model_name": "LayoutModel",
      "state": {}
     },
     "095d15c43446433ca6bfbed2e37b5d89": {
      "model_module": "@jupyter-widgets/base",
      "model_module_version": "1.2.0",
      "model_name": "LayoutModel",
      "state": {}
     },
     "09f40b0237df4e29865e69c9e2a6c429": {
      "model_module": "@jupyter-widgets/base",
      "model_module_version": "1.2.0",
      "model_name": "LayoutModel",
      "state": {}
     },
     "0c340dcc87674eaf8b5983aa4b42d726": {
      "model_module": "@jupyter-widgets/controls",
      "model_module_version": "1.5.0",
      "model_name": "ProgressStyleModel",
      "state": {
       "description_width": ""
      }
     },
     "0f20d2a386c84e19b97459267091f1d6": {
      "model_module": "@jupyter-widgets/controls",
      "model_module_version": "1.5.0",
      "model_name": "HTMLModel",
      "state": {
       "layout": "IPY_MODEL_ca5f97a16bfd4b5ea44a9d77347d42ab",
       "style": "IPY_MODEL_f357683163004540bb7c3e176a481fad",
       "value": "Downloading data: "
      }
     },
     "0f719cd88c274485a1e66342934efc4b": {
      "model_module": "@jupyter-widgets/base",
      "model_module_version": "1.2.0",
      "model_name": "LayoutModel",
      "state": {}
     },
     "103478394e524f87948e337c790e2c10": {
      "model_module": "@jupyter-widgets/base",
      "model_module_version": "1.2.0",
      "model_name": "LayoutModel",
      "state": {}
     },
     "12f7527d90584720a3b77ae5f4fc4c92": {
      "model_module": "@jupyter-widgets/base",
      "model_module_version": "1.2.0",
      "model_name": "LayoutModel",
      "state": {}
     },
     "131886675e5f4325b150da44bde5d644": {
      "model_module": "@jupyter-widgets/controls",
      "model_module_version": "1.5.0",
      "model_name": "FloatProgressModel",
      "state": {
       "bar_style": "success",
       "layout": "IPY_MODEL_c457e86720474963b66bd0f6d451bde6",
       "max": 872,
       "style": "IPY_MODEL_016915495f264ea4ae689616b4a2e540",
       "value": 872
      }
     },
     "134542bd4506446c9071ca1ea7ea2c3f": {
      "model_module": "@jupyter-widgets/base",
      "model_module_version": "1.2.0",
      "model_name": "LayoutModel",
      "state": {}
     },
     "13dcd17fe4124ef49658c1e21db4b689": {
      "model_module": "@jupyter-widgets/base",
      "model_module_version": "1.2.0",
      "model_name": "LayoutModel",
      "state": {}
     },
     "15c5768d2c0446d78b1c3424f8e028c5": {
      "model_module": "@jupyter-widgets/controls",
      "model_module_version": "1.5.0",
      "model_name": "HTMLModel",
      "state": {
       "layout": "IPY_MODEL_f2ed7168068a4f1ea0e153acb1aeba94",
       "style": "IPY_MODEL_89878de312c64017b1fc205334db2da0",
       "value": " 7.44M/7.44M [00:03&lt;00:00, 2.35MB/s]"
      }
     },
     "17075b1b0064427690ad9bed07e1a988": {
      "model_module": "@jupyter-widgets/controls",
      "model_module_version": "1.5.0",
      "model_name": "DescriptionStyleModel",
      "state": {
       "description_width": ""
      }
     },
     "17fb98787f5149a99113cb77114a80a6": {
      "model_module": "@jupyter-widgets/base",
      "model_module_version": "1.2.0",
      "model_name": "LayoutModel",
      "state": {}
     },
     "19329812adf748b2b9bd6fc5755acf32": {
      "model_module": "@jupyter-widgets/controls",
      "model_module_version": "1.5.0",
      "model_name": "DescriptionStyleModel",
      "state": {
       "description_width": ""
      }
     },
     "1bc4a9de7604437784c3f54f97507168": {
      "model_module": "@jupyter-widgets/controls",
      "model_module_version": "1.5.0",
      "model_name": "HBoxModel",
      "state": {
       "children": [
        "IPY_MODEL_f73ea224ccde4999a4c70db827a7369e",
        "IPY_MODEL_9ac3fa91f56246d58bac726f37ee06b8",
        "IPY_MODEL_ffd3ab0e6457423ca04421c971ba1203"
       ],
       "layout": "IPY_MODEL_5021ee7b1d9d4fa5887b06e905fdb31b"
      }
     },
     "1da80fdf88514a3c9bb94879ae3170b2": {
      "model_module": "@jupyter-widgets/base",
      "model_module_version": "1.2.0",
      "model_name": "LayoutModel",
      "state": {}
     },
     "1dd12c90559142eea0eda75e28cc01cd": {
      "model_module": "@jupyter-widgets/controls",
      "model_module_version": "1.5.0",
      "model_name": "HTMLModel",
      "state": {
       "layout": "IPY_MODEL_4fd5c279ec004097bd918e5cc7421ab8",
       "style": "IPY_MODEL_c51f7d814c204646b7ce17fd60bdb680",
       "value": "Downloading data: "
      }
     },
     "20ca173d361a4f69a68a979ca0ed1740": {
      "model_module": "@jupyter-widgets/controls",
      "model_module_version": "1.5.0",
      "model_name": "DescriptionStyleModel",
      "state": {
       "description_width": ""
      }
     },
     "210833bd1e95494c9a596ae97cddf87f": {
      "model_module": "@jupyter-widgets/base",
      "model_module_version": "1.2.0",
      "model_name": "LayoutModel",
      "state": {}
     },
     "2129a1f919f442f3893883e4d2e39b58": {
      "model_module": "@jupyter-widgets/controls",
      "model_module_version": "1.5.0",
      "model_name": "DescriptionStyleModel",
      "state": {
       "description_width": ""
      }
     },
     "2179cc02ac774d308c65649d1dcfbe3c": {
      "model_module": "@jupyter-widgets/base",
      "model_module_version": "1.2.0",
      "model_name": "LayoutModel",
      "state": {}
     },
     "217c0b068e33458bade0b7325ec29f8a": {
      "model_module": "@jupyter-widgets/controls",
      "model_module_version": "1.5.0",
      "model_name": "DescriptionStyleModel",
      "state": {
       "description_width": ""
      }
     },
     "26b03cf3455b42ef94d6c4ab7b5f5caf": {
      "model_module": "@jupyter-widgets/controls",
      "model_module_version": "1.5.0",
      "model_name": "FloatProgressModel",
      "state": {
       "bar_style": "success",
       "layout": "IPY_MODEL_6eb4052b21f24b30b1d6c0972c27632c",
       "max": 2116336,
       "style": "IPY_MODEL_b1cdbc4a627a4a5898d85ab5c8d5290c",
       "value": 2116336
      }
     },
     "2a569a1668b94d36bb2822262f454e3d": {
      "model_module": "@jupyter-widgets/base",
      "model_module_version": "1.2.0",
      "model_name": "LayoutModel",
      "state": {}
     },
     "2ab47bc0766c4215b912e3a58ce295ed": {
      "model_module": "@jupyter-widgets/controls",
      "model_module_version": "1.5.0",
      "model_name": "HTMLModel",
      "state": {
       "layout": "IPY_MODEL_8afc2d14b01547b38f3493c3a217ea02",
       "style": "IPY_MODEL_b85fd55c3a0548c8bb424b66a6b36aeb",
       "value": " 1821/1821 [00:00&lt;00:00, 88679.96it/s]"
      }
     },
     "2ade5ecafd49480094368f37292c41cb": {
      "model_module": "@jupyter-widgets/controls",
      "model_module_version": "1.5.0",
      "model_name": "DescriptionStyleModel",
      "state": {
       "description_width": ""
      }
     },
     "2c6d47a7af294dcdb1137790a67560b7": {
      "model_module": "@jupyter-widgets/controls",
      "model_module_version": "1.5.0",
      "model_name": "HTMLModel",
      "state": {
       "layout": "IPY_MODEL_6afbf1495d654ecca74668582ff9ed50",
       "style": "IPY_MODEL_5908f7c9dd0c428595daaec3deca283e",
       "value": "Downloading builder script: "
      }
     },
     "2cace66051d84b40905677cb02bec800": {
      "model_module": "@jupyter-widgets/controls",
      "model_module_version": "1.5.0",
      "model_name": "FloatProgressModel",
      "state": {
       "layout": "IPY_MODEL_5ab02f8232234bffb2908bfea38b57d7",
       "max": 150000,
       "style": "IPY_MODEL_2d9d24c2237c4124b1f6e1d8368e2b72",
       "value": 150000
      }
     },
     "2d9d24c2237c4124b1f6e1d8368e2b72": {
      "model_module": "@jupyter-widgets/controls",
      "model_module_version": "1.5.0",
      "model_name": "ProgressStyleModel",
      "state": {
       "description_width": ""
      }
     },
     "2e21cf3e802445b0b5ef396914f9dc6b": {
      "model_module": "@jupyter-widgets/controls",
      "model_module_version": "1.5.0",
      "model_name": "ProgressStyleModel",
      "state": {
       "description_width": ""
      }
     },
     "2f2c47f0d48c4b93bd45b6581f3a47a0": {
      "model_module": "@jupyter-widgets/base",
      "model_module_version": "1.2.0",
      "model_name": "LayoutModel",
      "state": {}
     },
     "2f566dc0b11f494aa81724f2469e8014": {
      "model_module": "@jupyter-widgets/base",
      "model_module_version": "1.2.0",
      "model_name": "LayoutModel",
      "state": {}
     },
     "3161146f1fac40c195e024a3fef88eb5": {
      "model_module": "@jupyter-widgets/base",
      "model_module_version": "1.2.0",
      "model_name": "LayoutModel",
      "state": {}
     },
     "321dd76d81af45cd97919d85e3a29fe4": {
      "model_module": "@jupyter-widgets/controls",
      "model_module_version": "1.5.0",
      "model_name": "HTMLModel",
      "state": {
       "layout": "IPY_MODEL_084605e7007847caa841b19f7e750649",
       "style": "IPY_MODEL_9c68b13f08ca4415bdb4d021a70e4960",
       "value": "Downloading metadata: "
      }
     },
     "32286d896eab4a42b79ecd3f81066f52": {
      "model_module": "@jupyter-widgets/controls",
      "model_module_version": "1.5.0",
      "model_name": "DescriptionStyleModel",
      "state": {
       "description_width": ""
      }
     },
     "3306aae12cf849c29227857baccd5c58": {
      "model_module": "@jupyter-widgets/base",
      "model_module_version": "1.2.0",
      "model_name": "LayoutModel",
      "state": {}
     },
     "3472c57f0d124f5c9197e3af0f96d274": {
      "model_module": "@jupyter-widgets/base",
      "model_module_version": "1.2.0",
      "model_name": "LayoutModel",
      "state": {}
     },
     "352e52a132be4a5988461d5274b281cc": {
      "model_module": "@jupyter-widgets/controls",
      "model_module_version": "1.5.0",
      "model_name": "DescriptionStyleModel",
      "state": {
       "description_width": ""
      }
     },
     "363441cfae544d478a4b5b3b5f1f52fe": {
      "model_module": "@jupyter-widgets/base",
      "model_module_version": "1.2.0",
      "model_name": "LayoutModel",
      "state": {}
     },
     "3863c5a58c7143018054fb0e7d9d46b6": {
      "model_module": "@jupyter-widgets/controls",
      "model_module_version": "1.5.0",
      "model_name": "FloatProgressModel",
      "state": {
       "bar_style": "success",
       "layout": "IPY_MODEL_bf56657845114d6991475129cdb97264",
       "max": 4473,
       "style": "IPY_MODEL_d39728d4e91a4aecb637f22edc7300f0",
       "value": 4473
      }
     },
     "3adab3b47da1417a90d12ebade1763ab": {
      "model_module": "@jupyter-widgets/controls",
      "model_module_version": "1.5.0",
      "model_name": "ProgressStyleModel",
      "state": {
       "description_width": ""
      }
     },
     "3bf9780f65a04378ab1dd320858a1529": {
      "model_module": "@jupyter-widgets/controls",
      "model_module_version": "1.5.0",
      "model_name": "HTMLModel",
      "state": {
       "layout": "IPY_MODEL_f16de2dbec94490784e2005c9be67ecd",
       "style": "IPY_MODEL_48dc48bae1934f429ff329d4bbd32732",
       "value": "apply len_bytes to num_bytes: 100%"
      }
     },
     "3c5a93d9238747a19636d38b70167685": {
      "model_module": "@jupyter-widgets/base",
      "model_module_version": "1.2.0",
      "model_name": "LayoutModel",
      "state": {}
     },
     "3e266459c2a04a0e8ea5ec0ff699e90e": {
      "model_module": "@jupyter-widgets/controls",
      "model_module_version": "1.5.0",
      "model_name": "HTMLModel",
      "state": {
       "layout": "IPY_MODEL_e363af7a2b2349d38518fc25c260de31",
       "style": "IPY_MODEL_d171392e079243528e816422388a0e84",
       "value": "apply len_bytes to num_bytes: 100%"
      }
     },
     "41105bec58204760b87878a12b00af82": {
      "model_module": "@jupyter-widgets/controls",
      "model_module_version": "1.5.0",
      "model_name": "FloatProgressModel",
      "state": {
       "layout": "IPY_MODEL_210833bd1e95494c9a596ae97cddf87f",
       "max": 50000,
       "style": "IPY_MODEL_eadfddd1b3e640d5965701d08d804d25",
       "value": 50000
      }
     },
     "42720b96e9c24ab28a966f2bbb57ad6e": {
      "model_module": "@jupyter-widgets/controls",
      "model_module_version": "1.5.0",
      "model_name": "DescriptionStyleModel",
      "state": {
       "description_width": ""
      }
     },
     "427e799a9f72477c93bbcec1b32bfb88": {
      "model_module": "@jupyter-widgets/controls",
      "model_module_version": "1.5.0",
      "model_name": "HBoxModel",
      "state": {
       "children": [
        "IPY_MODEL_e4e89b19821a4cee812d5ded67c35af1",
        "IPY_MODEL_7e7f8b7384844d05a860a8e08366d512",
        "IPY_MODEL_ea0617882ab84d35b9b98a8f1d1ef8c9"
       ],
       "layout": "IPY_MODEL_134542bd4506446c9071ca1ea7ea2c3f"
      }
     },
     "42e9386b9ab245d48c629e701729e66b": {
      "model_module": "@jupyter-widgets/base",
      "model_module_version": "1.2.0",
      "model_name": "LayoutModel",
      "state": {}
     },
     "46c72ff56afc4eb4a28bf3ec10509717": {
      "model_module": "@jupyter-widgets/base",
      "model_module_version": "1.2.0",
      "model_name": "LayoutModel",
      "state": {}
     },
     "46d145ee9628468184d05a6bc098ae77": {
      "model_module": "@jupyter-widgets/controls",
      "model_module_version": "1.5.0",
      "model_name": "DescriptionStyleModel",
      "state": {
       "description_width": ""
      }
     },
     "47d839d35d404e43a25f43bb55b6f204": {
      "model_module": "@jupyter-widgets/controls",
      "model_module_version": "1.5.0",
      "model_name": "HTMLModel",
      "state": {
       "layout": "IPY_MODEL_46c72ff56afc4eb4a28bf3ec10509717",
       "style": "IPY_MODEL_2129a1f919f442f3893883e4d2e39b58",
       "value": " 66227/67349 [00:02&lt;00:00, 33081.96 examples/s]"
      }
     },
     "482d2586f2e643a7844fe77504ca73a8": {
      "model_module": "@jupyter-widgets/controls",
      "model_module_version": "1.5.0",
      "model_name": "HTMLModel",
      "state": {
       "layout": "IPY_MODEL_2f566dc0b11f494aa81724f2469e8014",
       "style": "IPY_MODEL_42720b96e9c24ab28a966f2bbb57ad6e",
       "value": " 149468/150000 [00:04&lt;00:00, 38545.40 examples/s]"
      }
     },
     "48dc48bae1934f429ff329d4bbd32732": {
      "model_module": "@jupyter-widgets/controls",
      "model_module_version": "1.5.0",
      "model_name": "DescriptionStyleModel",
      "state": {
       "description_width": ""
      }
     },
     "4d8ed65eb8a94707b2284a0a9f30f0a3": {
      "model_module": "@jupyter-widgets/controls",
      "model_module_version": "1.5.0",
      "model_name": "HTMLModel",
      "state": {
       "layout": "IPY_MODEL_3161146f1fac40c195e024a3fef88eb5",
       "style": "IPY_MODEL_352e52a132be4a5988461d5274b281cc",
       "value": "Generating train split: 100%"
      }
     },
     "4ddf9896e72744f3ae53e5e5d28f56ba": {
      "model_module": "@jupyter-widgets/controls",
      "model_module_version": "1.5.0",
      "model_name": "DescriptionStyleModel",
      "state": {
       "description_width": ""
      }
     },
     "4f55004e78f54d2f86b692b84b1f98bd": {
      "model_module": "@jupyter-widgets/base",
      "model_module_version": "1.2.0",
      "model_name": "LayoutModel",
      "state": {}
     },
     "4fd5c279ec004097bd918e5cc7421ab8": {
      "model_module": "@jupyter-widgets/base",
      "model_module_version": "1.2.0",
      "model_name": "LayoutModel",
      "state": {}
     },
     "5021ee7b1d9d4fa5887b06e905fdb31b": {
      "model_module": "@jupyter-widgets/base",
      "model_module_version": "1.2.0",
      "model_name": "LayoutModel",
      "state": {}
     },
     "511638b5eb4f4619a7840272053ed7f0": {
      "model_module": "@jupyter-widgets/controls",
      "model_module_version": "1.5.0",
      "model_name": "HTMLModel",
      "state": {
       "layout": "IPY_MODEL_17fb98787f5149a99113cb77114a80a6",
       "style": "IPY_MODEL_a259b5236a2e4bbf8f2c978302f0eab0",
       "value": "Downloading data: 100%"
      }
     },
     "51ee30b745e440b193a961121ea1b9ec": {
      "model_module": "@jupyter-widgets/controls",
      "model_module_version": "1.5.0",
      "model_name": "HBoxModel",
      "state": {
       "children": [
        "IPY_MODEL_ad981a3912b84ce18c635128ed4f3fca",
        "IPY_MODEL_8220a57f9fdb45a7b885ab6ffb9e39ec",
        "IPY_MODEL_db2a2f09dac44b5aa9e983621a68ab02"
       ],
       "layout": "IPY_MODEL_63e9603d88f04677a85b5e04165d36d9"
      }
     },
     "52422a1c573b45e189e45532017220c1": {
      "model_module": "@jupyter-widgets/controls",
      "model_module_version": "1.5.0",
      "model_name": "FloatProgressModel",
      "state": {
       "bar_style": "success",
       "layout": "IPY_MODEL_095d15c43446433ca6bfbed2e37b5d89",
       "max": 6330648,
       "style": "IPY_MODEL_7575a856a04f4c2aa4713ff6191ea9dc",
       "value": 6330648
      }
     },
     "5345428eac1c4675afdd28702afdbf88": {
      "model_module": "@jupyter-widgets/controls",
      "model_module_version": "1.5.0",
      "model_name": "HTMLModel",
      "state": {
       "layout": "IPY_MODEL_7c86010e88f64b15a0940648c6d4de8c",
       "style": "IPY_MODEL_594c2f7103b24758931c48270011d9b3",
       "value": " 49320/50000 [00:01&lt;00:00, 37792.24 examples/s]"
      }
     },
     "546ee008b2b940fdbc876afc7ef78563": {
      "model_module": "@jupyter-widgets/base",
      "model_module_version": "1.2.0",
      "model_name": "LayoutModel",
      "state": {}
     },
     "55c302203c524c2cadde4b7c1e66e36f": {
      "model_module": "@jupyter-widgets/controls",
      "model_module_version": "1.5.0",
      "model_name": "DescriptionStyleModel",
      "state": {
       "description_width": ""
      }
     },
     "560fc8862e9e4f40bacf892d9f2c464f": {
      "model_module": "@jupyter-widgets/controls",
      "model_module_version": "1.5.0",
      "model_name": "HTMLModel",
      "state": {
       "layout": "IPY_MODEL_a85196216fe4439d829416991f022026",
       "style": "IPY_MODEL_7243aa7df93b4591a794cbb44c7e6b6b",
       "value": "Generating test split:  99%"
      }
     },
     "589ec192b1f7467b884bc10858c5d43d": {
      "model_module": "@jupyter-widgets/controls",
      "model_module_version": "1.5.0",
      "model_name": "HBoxModel",
      "state": {
       "children": [
        "IPY_MODEL_a31122fd76074eb397a5d4479db7bb77",
        "IPY_MODEL_d5bfa284f0d746c890e66d28905f97a2",
        "IPY_MODEL_b66f89f482f94adb9da388945d5e9346"
       ],
       "layout": "IPY_MODEL_e7c44c48179c4bb1b17b1cdd9aede09d"
      }
     },
     "5908f7c9dd0c428595daaec3deca283e": {
      "model_module": "@jupyter-widgets/controls",
      "model_module_version": "1.5.0",
      "model_name": "DescriptionStyleModel",
      "state": {
       "description_width": ""
      }
     },
     "594c2f7103b24758931c48270011d9b3": {
      "model_module": "@jupyter-widgets/controls",
      "model_module_version": "1.5.0",
      "model_name": "DescriptionStyleModel",
      "state": {
       "description_width": ""
      }
     },
     "59f53f1b7aef4e84ada3b77d6b923895": {
      "model_module": "@jupyter-widgets/controls",
      "model_module_version": "1.5.0",
      "model_name": "DescriptionStyleModel",
      "state": {
       "description_width": ""
      }
     },
     "5a9e0bcd6e5a433fa159502ffdb345ee": {
      "model_module": "@jupyter-widgets/controls",
      "model_module_version": "1.5.0",
      "model_name": "HTMLModel",
      "state": {
       "layout": "IPY_MODEL_7ca324a04fb64ac0add6d743451871ab",
       "style": "IPY_MODEL_07a6e5f689cc43be82a22a3d844fbf0e",
       "value": "apply len_bytes to num_bytes: 100%"
      }
     },
     "5ab02f8232234bffb2908bfea38b57d7": {
      "model_module": "@jupyter-widgets/base",
      "model_module_version": "1.2.0",
      "model_name": "LayoutModel",
      "state": {}
     },
     "5b3f3ef1263943aab915d822e9d2edb8": {
      "model_module": "@jupyter-widgets/controls",
      "model_module_version": "1.5.0",
      "model_name": "FloatProgressModel",
      "state": {
       "bar_style": "success",
       "layout": "IPY_MODEL_2f2c47f0d48c4b93bd45b6581f3a47a0",
       "max": 7777,
       "style": "IPY_MODEL_e0a99dbfa70449008340019efdbe06e9",
       "value": 7777
      }
     },
     "5b7241cd8a744d1f8c824ce2490aaab6": {
      "model_module": "@jupyter-widgets/controls",
      "model_module_version": "1.5.0",
      "model_name": "ProgressStyleModel",
      "state": {
       "description_width": ""
      }
     },
     "5ca78877916f403e9a9ff34a7e52ac19": {
      "model_module": "@jupyter-widgets/base",
      "model_module_version": "1.2.0",
      "model_name": "LayoutModel",
      "state": {}
     },
     "5daef22a11954b0a866148027bed0249": {
      "model_module": "@jupyter-widgets/base",
      "model_module_version": "1.2.0",
      "model_name": "LayoutModel",
      "state": {}
     },
     "5f85b6266e514f639dd45c80866a4091": {
      "model_module": "@jupyter-widgets/controls",
      "model_module_version": "1.5.0",
      "model_name": "FloatProgressModel",
      "state": {
       "bar_style": "success",
       "layout": "IPY_MODEL_b72ad2d3007c47f59f1ea6f7670f56d9",
       "max": 7439277,
       "style": "IPY_MODEL_a66818ab281046d98898c218d799b627",
       "value": 7439277
      }
     },
     "61d454ee81474603a0e270894d51df49": {
      "model_module": "@jupyter-widgets/controls",
      "model_module_version": "1.5.0",
      "model_name": "DescriptionStyleModel",
      "state": {
       "description_width": ""
      }
     },
     "63e9603d88f04677a85b5e04165d36d9": {
      "model_module": "@jupyter-widgets/base",
      "model_module_version": "1.2.0",
      "model_name": "LayoutModel",
      "state": {}
     },
     "6787ef0c22bb4c8cb29b2085ad6a67b9": {
      "model_module": "@jupyter-widgets/controls",
      "model_module_version": "1.5.0",
      "model_name": "DescriptionStyleModel",
      "state": {
       "description_width": ""
      }
     },
     "68118e745703406ea783c58ac5bcfd5f": {
      "model_module": "@jupyter-widgets/base",
      "model_module_version": "1.2.0",
      "model_name": "LayoutModel",
      "state": {}
     },
     "6829a1f7f60e4010927304bba2e9c3d6": {
      "model_module": "@jupyter-widgets/controls",
      "model_module_version": "1.5.0",
      "model_name": "FloatProgressModel",
      "state": {
       "layout": "IPY_MODEL_0f719cd88c274485a1e66342934efc4b",
       "max": 872,
       "style": "IPY_MODEL_930d885c439b481ea43f7027f90b57d3",
       "value": 872
      }
     },
     "6ab49455c53d4ef8bd8745eba3ce5354": {
      "model_module": "@jupyter-widgets/controls",
      "model_module_version": "1.5.0",
      "model_name": "FloatProgressModel",
      "state": {
       "layout": "IPY_MODEL_d3f1bfb2a657440b981e81cc8f0fd420",
       "max": 67349,
       "style": "IPY_MODEL_0c340dcc87674eaf8b5983aa4b42d726",
       "value": 67349
      }
     },
     "6afbf1495d654ecca74668582ff9ed50": {
      "model_module": "@jupyter-widgets/base",
      "model_module_version": "1.2.0",
      "model_name": "LayoutModel",
      "state": {}
     },
     "6b68bafd902f4e569c84fb7bb6f0668b": {
      "model_module": "@jupyter-widgets/controls",
      "model_module_version": "1.5.0",
      "model_name": "HTMLModel",
      "state": {
       "layout": "IPY_MODEL_edc8c490bb6e4cd6877e3f4d90ccb0a9",
       "style": "IPY_MODEL_df80b54bd25f48f381b015801980f48e",
       "value": "Downloading data files: 100%"
      }
     },
     "6ce6e46b32db4a6c953accbcb371c91d": {
      "model_module": "@jupyter-widgets/controls",
      "model_module_version": "1.5.0",
      "model_name": "HBoxModel",
      "state": {
       "children": [
        "IPY_MODEL_6b68bafd902f4e569c84fb7bb6f0668b",
        "IPY_MODEL_99fcb13cfe824eb18d7d26cdf4d9485a",
        "IPY_MODEL_73fa4bb82abd4c3cbf27da7dabbc15a6"
       ],
       "layout": "IPY_MODEL_5ca78877916f403e9a9ff34a7e52ac19"
      }
     },
     "6d53307af3114134902f2a7526592521": {
      "model_module": "@jupyter-widgets/base",
      "model_module_version": "1.2.0",
      "model_name": "LayoutModel",
      "state": {}
     },
     "6e9cc30455c44f7d948f9134867646b9": {
      "model_module": "@jupyter-widgets/base",
      "model_module_version": "1.2.0",
      "model_name": "LayoutModel",
      "state": {}
     },
     "6eb4052b21f24b30b1d6c0972c27632c": {
      "model_module": "@jupyter-widgets/base",
      "model_module_version": "1.2.0",
      "model_name": "LayoutModel",
      "state": {}
     },
     "70d907608fdd4d469577f7e8fd2b84f7": {
      "model_module": "@jupyter-widgets/controls",
      "model_module_version": "1.5.0",
      "model_name": "HTMLModel",
      "state": {
       "layout": "IPY_MODEL_5daef22a11954b0a866148027bed0249",
       "style": "IPY_MODEL_17075b1b0064427690ad9bed07e1a988",
       "value": " 0/1821 [00:00&lt;?, ? examples/s]"
      }
     },
     "718eb18d92134ba2a0d95c5e5a3b3eef": {
      "model_module": "@jupyter-widgets/controls",
      "model_module_version": "1.5.0",
      "model_name": "HTMLModel",
      "state": {
       "layout": "IPY_MODEL_7fcae64a952a467eaefd4dc3e2366c78",
       "style": "IPY_MODEL_4ddf9896e72744f3ae53e5e5d28f56ba",
       "value": " 14.6M/? [00:00&lt;00:00, 57.6MB/s]"
      }
     },
     "7243aa7df93b4591a794cbb44c7e6b6b": {
      "model_module": "@jupyter-widgets/controls",
      "model_module_version": "1.5.0",
      "model_name": "DescriptionStyleModel",
      "state": {
       "description_width": ""
      }
     },
     "73bf05f00a984f688427e401b648095c": {
      "model_module": "@jupyter-widgets/controls",
      "model_module_version": "1.5.0",
      "model_name": "ProgressStyleModel",
      "state": {
       "description_width": ""
      }
     },
     "73fa4bb82abd4c3cbf27da7dabbc15a6": {
      "model_module": "@jupyter-widgets/controls",
      "model_module_version": "1.5.0",
      "model_name": "HTMLModel",
      "state": {
       "layout": "IPY_MODEL_9942a1e98a25427da9f9db5d94094c9a",
       "style": "IPY_MODEL_8abc635924de4a8fa10158aefcbc934c",
       "value": " 2/2 [00:04&lt;00:00,  2.10s/it]"
      }
     },
     "74eb35a6291e4a619e32185bf1a6640e": {
      "model_module": "@jupyter-widgets/controls",
      "model_module_version": "1.5.0",
      "model_name": "HBoxModel",
      "state": {
       "children": [
        "IPY_MODEL_1dd12c90559142eea0eda75e28cc01cd",
        "IPY_MODEL_52422a1c573b45e189e45532017220c1",
        "IPY_MODEL_718eb18d92134ba2a0d95c5e5a3b3eef"
       ],
       "layout": "IPY_MODEL_363441cfae544d478a4b5b3b5f1f52fe"
      }
     },
     "7575a856a04f4c2aa4713ff6191ea9dc": {
      "model_module": "@jupyter-widgets/controls",
      "model_module_version": "1.5.0",
      "model_name": "ProgressStyleModel",
      "state": {
       "description_width": ""
      }
     },
     "7646383a72e741d4a2e56b6fb2bdb9dc": {
      "model_module": "@jupyter-widgets/base",
      "model_module_version": "1.2.0",
      "model_name": "LayoutModel",
      "state": {}
     },
     "7c86010e88f64b15a0940648c6d4de8c": {
      "model_module": "@jupyter-widgets/base",
      "model_module_version": "1.2.0",
      "model_name": "LayoutModel",
      "state": {}
     },
     "7ca324a04fb64ac0add6d743451871ab": {
      "model_module": "@jupyter-widgets/base",
      "model_module_version": "1.2.0",
      "model_name": "LayoutModel",
      "state": {}
     },
     "7cb252755c6d4cb5819763dbe424ff4f": {
      "model_module": "@jupyter-widgets/base",
      "model_module_version": "1.2.0",
      "model_name": "LayoutModel",
      "state": {}
     },
     "7ce0192866cd4bd8b71269f1d2a1d720": {
      "model_module": "@jupyter-widgets/controls",
      "model_module_version": "1.5.0",
      "model_name": "DescriptionStyleModel",
      "state": {
       "description_width": ""
      }
     },
     "7d92a073184f4935a029ce7d0a7216a7": {
      "model_module": "@jupyter-widgets/controls",
      "model_module_version": "1.5.0",
      "model_name": "HTMLModel",
      "state": {
       "layout": "IPY_MODEL_3c5a93d9238747a19636d38b70167685",
       "style": "IPY_MODEL_bf5955a45a34403c9f626a132ea8a933",
       "value": " 50000/50000 [00:00&lt;00:00, 450153.99it/s]"
      }
     },
     "7e7f8b7384844d05a860a8e08366d512": {
      "model_module": "@jupyter-widgets/controls",
      "model_module_version": "1.5.0",
      "model_name": "FloatProgressModel",
      "state": {
       "bar_style": "success",
       "layout": "IPY_MODEL_103478394e524f87948e337c790e2c10",
       "max": 807,
       "style": "IPY_MODEL_e26023ea24a044fd946bf8ae094fe5b0",
       "value": 807
      }
     },
     "7fcae64a952a467eaefd4dc3e2366c78": {
      "model_module": "@jupyter-widgets/base",
      "model_module_version": "1.2.0",
      "model_name": "LayoutModel",
      "state": {}
     },
     "7ff5a7b7655c449ab6530051d1491426": {
      "model_module": "@jupyter-widgets/base",
      "model_module_version": "1.2.0",
      "model_name": "LayoutModel",
      "state": {}
     },
     "8220a57f9fdb45a7b885ab6ffb9e39ec": {
      "model_module": "@jupyter-widgets/controls",
      "model_module_version": "1.5.0",
      "model_name": "FloatProgressModel",
      "state": {
       "bar_style": "success",
       "layout": "IPY_MODEL_c2853d4befdb4af390b5f4dc3c532897",
       "max": 1362,
       "style": "IPY_MODEL_e3607e9f446048daa3693e46d0576222",
       "value": 1362
      }
     },
     "832215faf4884d1092520266886bb1d4": {
      "model_module": "@jupyter-widgets/controls",
      "model_module_version": "1.5.0",
      "model_name": "DescriptionStyleModel",
      "state": {
       "description_width": ""
      }
     },
     "85346ef3466f46d59eabf346b46143af": {
      "model_module": "@jupyter-widgets/base",
      "model_module_version": "1.2.0",
      "model_name": "LayoutModel",
      "state": {}
     },
     "85b2baf9365e47ec97300c12127c4364": {
      "model_module": "@jupyter-widgets/base",
      "model_module_version": "1.2.0",
      "model_name": "LayoutModel",
      "state": {}
     },
     "878367391ed04240b025d16ba577abd0": {
      "model_module": "@jupyter-widgets/controls",
      "model_module_version": "1.5.0",
      "model_name": "HBoxModel",
      "state": {
       "children": [
        "IPY_MODEL_511638b5eb4f4619a7840272053ed7f0",
        "IPY_MODEL_5f85b6266e514f639dd45c80866a4091",
        "IPY_MODEL_15c5768d2c0446d78b1c3424f8e028c5"
       ],
       "layout": "IPY_MODEL_95aaa0c1f07c457ea26256944ae88a42"
      }
     },
     "89878de312c64017b1fc205334db2da0": {
      "model_module": "@jupyter-widgets/controls",
      "model_module_version": "1.5.0",
      "model_name": "DescriptionStyleModel",
      "state": {
       "description_width": ""
      }
     },
     "8a8ff547d9d04adcada7e0694e1c6ad1": {
      "model_module": "@jupyter-widgets/base",
      "model_module_version": "1.2.0",
      "model_name": "LayoutModel",
      "state": {}
     },
     "8abc635924de4a8fa10158aefcbc934c": {
      "model_module": "@jupyter-widgets/controls",
      "model_module_version": "1.5.0",
      "model_name": "DescriptionStyleModel",
      "state": {
       "description_width": ""
      }
     },
     "8afc2d14b01547b38f3493c3a217ea02": {
      "model_module": "@jupyter-widgets/base",
      "model_module_version": "1.2.0",
      "model_name": "LayoutModel",
      "state": {}
     },
     "930d885c439b481ea43f7027f90b57d3": {
      "model_module": "@jupyter-widgets/controls",
      "model_module_version": "1.5.0",
      "model_name": "ProgressStyleModel",
      "state": {
       "description_width": ""
      }
     },
     "9395591fff594efc98ff9eee04fa1afa": {
      "model_module": "@jupyter-widgets/controls",
      "model_module_version": "1.5.0",
      "model_name": "HBoxModel",
      "state": {
       "children": [
        "IPY_MODEL_3bf9780f65a04378ab1dd320858a1529",
        "IPY_MODEL_131886675e5f4325b150da44bde5d644",
        "IPY_MODEL_962906a484fe4a22a343c6cea1cd5fe0"
       ],
       "layout": "IPY_MODEL_8a8ff547d9d04adcada7e0694e1c6ad1"
      }
     },
     "94d5b9615baf4d32bee554c8fa64a4d0": {
      "model_module": "@jupyter-widgets/controls",
      "model_module_version": "1.5.0",
      "model_name": "DescriptionStyleModel",
      "state": {
       "description_width": ""
      }
     },
     "95aaa0c1f07c457ea26256944ae88a42": {
      "model_module": "@jupyter-widgets/base",
      "model_module_version": "1.2.0",
      "model_name": "LayoutModel",
      "state": {}
     },
     "96192c237aa849ec8bc538e74755591f": {
      "model_module": "@jupyter-widgets/controls",
      "model_module_version": "1.5.0",
      "model_name": "HTMLModel",
      "state": {
       "layout": "IPY_MODEL_e783cebfc60842e882a394aebe232411",
       "style": "IPY_MODEL_edccbb036d8b4a59b230afbdb78ed5f2",
       "value": "Generating validation split:   0%"
      }
     },
     "962906a484fe4a22a343c6cea1cd5fe0": {
      "model_module": "@jupyter-widgets/controls",
      "model_module_version": "1.5.0",
      "model_name": "HTMLModel",
      "state": {
       "layout": "IPY_MODEL_ac3ba0c2dcfc40a3b2ad2b249e6303d8",
       "style": "IPY_MODEL_9bcffc8b908e4348b12ec7f6de901515",
       "value": " 872/872 [00:00&lt;00:00, 46869.74it/s]"
      }
     },
     "97163322d2a94f14953560a23ee81167": {
      "model_module": "@jupyter-widgets/base",
      "model_module_version": "1.2.0",
      "model_name": "LayoutModel",
      "state": {}
     },
     "9942a1e98a25427da9f9db5d94094c9a": {
      "model_module": "@jupyter-widgets/base",
      "model_module_version": "1.2.0",
      "model_name": "LayoutModel",
      "state": {}
     },
     "99fcb13cfe824eb18d7d26cdf4d9485a": {
      "model_module": "@jupyter-widgets/controls",
      "model_module_version": "1.5.0",
      "model_name": "FloatProgressModel",
      "state": {
       "bar_style": "success",
       "layout": "IPY_MODEL_97163322d2a94f14953560a23ee81167",
       "max": 2,
       "style": "IPY_MODEL_5b7241cd8a744d1f8c824ce2490aaab6",
       "value": 2
      }
     },
     "9a31510fee2e47ec958883e7a14bc412": {
      "model_module": "@jupyter-widgets/controls",
      "model_module_version": "1.5.0",
      "model_name": "HTMLModel",
      "state": {
       "layout": "IPY_MODEL_7cb252755c6d4cb5819763dbe424ff4f",
       "style": "IPY_MODEL_e2b48c4515de41b98e91b8e6215dd4cc",
       "value": "apply len_bytes to num_bytes: 100%"
      }
     },
     "9aa1ec4b48b44530b7c56af1b1761820": {
      "model_module": "@jupyter-widgets/controls",
      "model_module_version": "1.5.0",
      "model_name": "HTMLModel",
      "state": {
       "layout": "IPY_MODEL_2a569a1668b94d36bb2822262f454e3d",
       "style": "IPY_MODEL_c50d3fa62b004b2f951f06e9ccb295f8",
       "value": " 67349/67349 [00:00&lt;00:00, 488402.31it/s]"
      }
     },
     "9ac3fa91f56246d58bac726f37ee06b8": {
      "model_module": "@jupyter-widgets/controls",
      "model_module_version": "1.5.0",
      "model_name": "FloatProgressModel",
      "state": {
       "bar_style": "success",
       "layout": "IPY_MODEL_85b2baf9365e47ec97300c12127c4364",
       "max": 150000,
       "style": "IPY_MODEL_d9d93da459db4cce82c165a274960e4c",
       "value": 150000
      }
     },
     "9b8a11f139a94a24aa0906d0454f717c": {
      "model_module": "@jupyter-widgets/controls",
      "model_module_version": "1.5.0",
      "model_name": "HTMLModel",
      "state": {
       "layout": "IPY_MODEL_1da80fdf88514a3c9bb94879ae3170b2",
       "style": "IPY_MODEL_d7a374f1d8ef4ea0bf764377a5fca751",
       "value": " 0/872 [00:00&lt;?, ? examples/s]"
      }
     },
     "9bcffc8b908e4348b12ec7f6de901515": {
      "model_module": "@jupyter-widgets/controls",
      "model_module_version": "1.5.0",
      "model_name": "DescriptionStyleModel",
      "state": {
       "description_width": ""
      }
     },
     "9be0ad056b43484e943db697b6ed19f2": {
      "model_module": "@jupyter-widgets/base",
      "model_module_version": "1.2.0",
      "model_name": "LayoutModel",
      "state": {}
     },
     "9c68b13f08ca4415bdb4d021a70e4960": {
      "model_module": "@jupyter-widgets/controls",
      "model_module_version": "1.5.0",
      "model_name": "DescriptionStyleModel",
      "state": {
       "description_width": ""
      }
     },
     "9e794cb2b983427a997c5a2c2fe82036": {
      "model_module": "@jupyter-widgets/base",
      "model_module_version": "1.2.0",
      "model_name": "LayoutModel",
      "state": {}
     },
     "a0563cb90d294fbb8e5031841dd682e2": {
      "model_module": "@jupyter-widgets/controls",
      "model_module_version": "1.5.0",
      "model_name": "ProgressStyleModel",
      "state": {
       "description_width": ""
      }
     },
     "a259b5236a2e4bbf8f2c978302f0eab0": {
      "model_module": "@jupyter-widgets/controls",
      "model_module_version": "1.5.0",
      "model_name": "DescriptionStyleModel",
      "state": {
       "description_width": ""
      }
     },
     "a31122fd76074eb397a5d4479db7bb77": {
      "model_module": "@jupyter-widgets/controls",
      "model_module_version": "1.5.0",
      "model_name": "HTMLModel",
      "state": {
       "layout": "IPY_MODEL_03770abc5b58479fa76b47a5bdb64d68",
       "style": "IPY_MODEL_00b1707e6cfa402aa0a0dc8d9b747c6f",
       "value": "apply len_bytes to num_bytes: 100%"
      }
     },
     "a66818ab281046d98898c218d799b627": {
      "model_module": "@jupyter-widgets/controls",
      "model_module_version": "1.5.0",
      "model_name": "ProgressStyleModel",
      "state": {
       "description_width": ""
      }
     },
     "a6eb8b5beefb4e8bac398e815b086621": {
      "model_module": "@jupyter-widgets/base",
      "model_module_version": "1.2.0",
      "model_name": "LayoutModel",
      "state": {}
     },
     "a71ec558766a4d1cbb9546444b7805a3": {
      "model_module": "@jupyter-widgets/base",
      "model_module_version": "1.2.0",
      "model_name": "LayoutModel",
      "state": {}
     },
     "a85196216fe4439d829416991f022026": {
      "model_module": "@jupyter-widgets/base",
      "model_module_version": "1.2.0",
      "model_name": "LayoutModel",
      "state": {}
     },
     "a94f82214c694099be668ef35f6d5631": {
      "model_module": "@jupyter-widgets/base",
      "model_module_version": "1.2.0",
      "model_name": "LayoutModel",
      "state": {}
     },
     "ac3ba0c2dcfc40a3b2ad2b249e6303d8": {
      "model_module": "@jupyter-widgets/base",
      "model_module_version": "1.2.0",
      "model_name": "LayoutModel",
      "state": {}
     },
     "ad981a3912b84ce18c635128ed4f3fca": {
      "model_module": "@jupyter-widgets/controls",
      "model_module_version": "1.5.0",
      "model_name": "HTMLModel",
      "state": {
       "layout": "IPY_MODEL_85346ef3466f46d59eabf346b46143af",
       "style": "IPY_MODEL_f4084b2216874edabfe928f07ce3d480",
       "value": "Downloading builder script: "
      }
     },
     "ae60b95ee28e45c3bd5ccde400776d6a": {
      "model_module": "@jupyter-widgets/controls",
      "model_module_version": "1.5.0",
      "model_name": "FloatProgressModel",
      "state": {
       "bar_style": "success",
       "layout": "IPY_MODEL_e3cb5aa44ae54d2885e3e4da8dea2b04",
       "max": 217349,
       "style": "IPY_MODEL_73bf05f00a984f688427e401b648095c",
       "value": 217349
      }
     },
     "b1b2470d8e1b4d5a9ddc0840bf78054c": {
      "model_module": "@jupyter-widgets/base",
      "model_module_version": "1.2.0",
      "model_name": "LayoutModel",
      "state": {}
     },
     "b1cdbc4a627a4a5898d85ab5c8d5290c": {
      "model_module": "@jupyter-widgets/controls",
      "model_module_version": "1.5.0",
      "model_name": "ProgressStyleModel",
      "state": {
       "description_width": ""
      }
     },
     "b202474ce80a466b9431b07e895cc8d7": {
      "model_module": "@jupyter-widgets/base",
      "model_module_version": "1.2.0",
      "model_name": "LayoutModel",
      "state": {}
     },
     "b2315b6fcba847cab548bde39f66dada": {
      "model_module": "@jupyter-widgets/controls",
      "model_module_version": "1.5.0",
      "model_name": "ProgressStyleModel",
      "state": {
       "description_width": ""
      }
     },
     "b2901cfd6242456c92d215f40827fffd": {
      "model_module": "@jupyter-widgets/base",
      "model_module_version": "1.2.0",
      "model_name": "LayoutModel",
      "state": {}
     },
     "b2b06dd24cfd4c92a215da778c190338": {
      "model_module": "@jupyter-widgets/base",
      "model_module_version": "1.2.0",
      "model_name": "LayoutModel",
      "state": {}
     },
     "b66d53ba189c4febbe8a1c4f2ef0b10c": {
      "model_module": "@jupyter-widgets/controls",
      "model_module_version": "1.5.0",
      "model_name": "HBoxModel",
      "state": {
       "children": [
        "IPY_MODEL_9a31510fee2e47ec958883e7a14bc412",
        "IPY_MODEL_b6e0e584b6de45438aae396cdb872fd0",
        "IPY_MODEL_7d92a073184f4935a029ce7d0a7216a7"
       ],
       "layout": "IPY_MODEL_2179cc02ac774d308c65649d1dcfbe3c"
      }
     },
     "b66f89f482f94adb9da388945d5e9346": {
      "model_module": "@jupyter-widgets/controls",
      "model_module_version": "1.5.0",
      "model_name": "HTMLModel",
      "state": {
       "layout": "IPY_MODEL_7646383a72e741d4a2e56b6fb2bdb9dc",
       "style": "IPY_MODEL_7ce0192866cd4bd8b71269f1d2a1d720",
       "value": " 217349/217349 [00:00&lt;00:00, 579716.91it/s]"
      }
     },
     "b6993aa1cd144b4b8f680a5b23a712bd": {
      "model_module": "@jupyter-widgets/controls",
      "model_module_version": "1.5.0",
      "model_name": "HTMLModel",
      "state": {
       "layout": "IPY_MODEL_3472c57f0d124f5c9197e3af0f96d274",
       "style": "IPY_MODEL_46d145ee9628468184d05a6bc098ae77",
       "value": " 4.89M/? [00:00&lt;00:00, 44.8MB/s]"
      }
     },
     "b6e0e584b6de45438aae396cdb872fd0": {
      "model_module": "@jupyter-widgets/controls",
      "model_module_version": "1.5.0",
      "model_name": "FloatProgressModel",
      "state": {
       "bar_style": "success",
       "layout": "IPY_MODEL_d2e56c526bcc4f25b713b2ec32ff91ac",
       "max": 50000,
       "style": "IPY_MODEL_b2315b6fcba847cab548bde39f66dada",
       "value": 50000
      }
     },
     "b6e63a9d9bf0463e9cca4b7f3ffdd44e": {
      "model_module": "@jupyter-widgets/controls",
      "model_module_version": "1.5.0",
      "model_name": "HBoxModel",
      "state": {
       "children": [
        "IPY_MODEL_2c6d47a7af294dcdb1137790a67560b7",
        "IPY_MODEL_5b3f3ef1263943aab915d822e9d2edb8",
        "IPY_MODEL_c04ec92ebdc64249b28f1301cb6c3159"
       ],
       "layout": "IPY_MODEL_7ff5a7b7655c449ab6530051d1491426"
      }
     },
     "b72ad2d3007c47f59f1ea6f7670f56d9": {
      "model_module": "@jupyter-widgets/base",
      "model_module_version": "1.2.0",
      "model_name": "LayoutModel",
      "state": {}
     },
     "b85fd55c3a0548c8bb424b66a6b36aeb": {
      "model_module": "@jupyter-widgets/controls",
      "model_module_version": "1.5.0",
      "model_name": "DescriptionStyleModel",
      "state": {
       "description_width": ""
      }
     },
     "b88bde7a0531425087cd288bcef22cba": {
      "model_module": "@jupyter-widgets/base",
      "model_module_version": "1.2.0",
      "model_name": "LayoutModel",
      "state": {}
     },
     "bb0098c24a4948098a85fec18069fc7a": {
      "model_module": "@jupyter-widgets/controls",
      "model_module_version": "1.5.0",
      "model_name": "FloatProgressModel",
      "state": {
       "layout": "IPY_MODEL_9e794cb2b983427a997c5a2c2fe82036",
       "max": 1821,
       "style": "IPY_MODEL_a0563cb90d294fbb8e5031841dd682e2",
       "value": 1821
      }
     },
     "bc171f76e28d45cb88cc5772644ae4c8": {
      "model_module": "@jupyter-widgets/base",
      "model_module_version": "1.2.0",
      "model_name": "LayoutModel",
      "state": {}
     },
     "bed3de19c4de4d40bc67619854cd0724": {
      "model_module": "@jupyter-widgets/controls",
      "model_module_version": "1.5.0",
      "model_name": "HTMLModel",
      "state": {
       "layout": "IPY_MODEL_b2901cfd6242456c92d215f40827fffd",
       "style": "IPY_MODEL_19329812adf748b2b9bd6fc5755acf32",
       "value": " 2/2 [00:00&lt;00:00, 111.50it/s]"
      }
     },
     "bf56657845114d6991475129cdb97264": {
      "model_module": "@jupyter-widgets/base",
      "model_module_version": "1.2.0",
      "model_name": "LayoutModel",
      "state": {}
     },
     "bf5955a45a34403c9f626a132ea8a933": {
      "model_module": "@jupyter-widgets/controls",
      "model_module_version": "1.5.0",
      "model_name": "DescriptionStyleModel",
      "state": {
       "description_width": ""
      }
     },
     "c04ec92ebdc64249b28f1301cb6c3159": {
      "model_module": "@jupyter-widgets/controls",
      "model_module_version": "1.5.0",
      "model_name": "HTMLModel",
      "state": {
       "layout": "IPY_MODEL_b88bde7a0531425087cd288bcef22cba",
       "style": "IPY_MODEL_832215faf4884d1092520266886bb1d4",
       "value": " 28.8k/? [00:00&lt;00:00, 1.43MB/s]"
      }
     },
     "c2853d4befdb4af390b5f4dc3c532897": {
      "model_module": "@jupyter-widgets/base",
      "model_module_version": "1.2.0",
      "model_name": "LayoutModel",
      "state": {}
     },
     "c457e86720474963b66bd0f6d451bde6": {
      "model_module": "@jupyter-widgets/base",
      "model_module_version": "1.2.0",
      "model_name": "LayoutModel",
      "state": {}
     },
     "c50d3fa62b004b2f951f06e9ccb295f8": {
      "model_module": "@jupyter-widgets/controls",
      "model_module_version": "1.5.0",
      "model_name": "DescriptionStyleModel",
      "state": {
       "description_width": ""
      }
     },
     "c51f7d814c204646b7ce17fd60bdb680": {
      "model_module": "@jupyter-widgets/controls",
      "model_module_version": "1.5.0",
      "model_name": "DescriptionStyleModel",
      "state": {
       "description_width": ""
      }
     },
     "c5ba1af7fe944a00a48abdda39f0fd18": {
      "model_module": "@jupyter-widgets/controls",
      "model_module_version": "1.5.0",
      "model_name": "HBoxModel",
      "state": {
       "children": [
        "IPY_MODEL_3e266459c2a04a0e8ea5ec0ff699e90e",
        "IPY_MODEL_ae60b95ee28e45c3bd5ccde400776d6a",
        "IPY_MODEL_d333cbb90fd647e4a14003c25ca6d41b"
       ],
       "layout": "IPY_MODEL_a6eb8b5beefb4e8bac398e815b086621"
      }
     },
     "c9a1de353d4042238480ca6adeb10c81": {
      "model_module": "@jupyter-widgets/controls",
      "model_module_version": "1.5.0",
      "model_name": "HTMLModel",
      "state": {
       "layout": "IPY_MODEL_b1b2470d8e1b4d5a9ddc0840bf78054c",
       "style": "IPY_MODEL_32286d896eab4a42b79ecd3f81066f52",
       "value": "Extracting data files: 100%"
      }
     },
     "ca5f97a16bfd4b5ea44a9d77347d42ab": {
      "model_module": "@jupyter-widgets/base",
      "model_module_version": "1.2.0",
      "model_name": "LayoutModel",
      "state": {}
     },
     "d171392e079243528e816422388a0e84": {
      "model_module": "@jupyter-widgets/controls",
      "model_module_version": "1.5.0",
      "model_name": "DescriptionStyleModel",
      "state": {
       "description_width": ""
      }
     },
     "d2e56c526bcc4f25b713b2ec32ff91ac": {
      "model_module": "@jupyter-widgets/base",
      "model_module_version": "1.2.0",
      "model_name": "LayoutModel",
      "state": {}
     },
     "d333cbb90fd647e4a14003c25ca6d41b": {
      "model_module": "@jupyter-widgets/controls",
      "model_module_version": "1.5.0",
      "model_name": "HTMLModel",
      "state": {
       "layout": "IPY_MODEL_6d53307af3114134902f2a7526592521",
       "style": "IPY_MODEL_20ca173d361a4f69a68a979ca0ed1740",
       "value": " 217349/217349 [00:00&lt;00:00, 599655.36it/s]"
      }
     },
     "d39728d4e91a4aecb637f22edc7300f0": {
      "model_module": "@jupyter-widgets/controls",
      "model_module_version": "1.5.0",
      "model_name": "ProgressStyleModel",
      "state": {
       "description_width": ""
      }
     },
     "d3f1bfb2a657440b981e81cc8f0fd420": {
      "model_module": "@jupyter-widgets/base",
      "model_module_version": "1.2.0",
      "model_name": "LayoutModel",
      "state": {}
     },
     "d545994a18174414a728231ed9745c51": {
      "model_module": "@jupyter-widgets/controls",
      "model_module_version": "1.5.0",
      "model_name": "HTMLModel",
      "state": {
       "layout": "IPY_MODEL_13dcd17fe4124ef49658c1e21db4b689",
       "style": "IPY_MODEL_2ade5ecafd49480094368f37292c41cb",
       "value": " 28.7k/? [00:00&lt;00:00, 1.54MB/s]"
      }
     },
     "d5bfa284f0d746c890e66d28905f97a2": {
      "model_module": "@jupyter-widgets/controls",
      "model_module_version": "1.5.0",
      "model_name": "FloatProgressModel",
      "state": {
       "bar_style": "success",
       "layout": "IPY_MODEL_dec456cbd8cd4ed6b6c05c56d78fe200",
       "max": 217349,
       "style": "IPY_MODEL_2e21cf3e802445b0b5ef396914f9dc6b",
       "value": 217349
      }
     },
     "d6494e6fa89c4089afc63740440f0a18": {
      "model_module": "@jupyter-widgets/controls",
      "model_module_version": "1.5.0",
      "model_name": "ProgressStyleModel",
      "state": {
       "description_width": ""
      }
     },
     "d7a374f1d8ef4ea0bf764377a5fca751": {
      "model_module": "@jupyter-widgets/controls",
      "model_module_version": "1.5.0",
      "model_name": "DescriptionStyleModel",
      "state": {
       "description_width": ""
      }
     },
     "d84f1002f4ee4094bff8487f0b819742": {
      "model_module": "@jupyter-widgets/base",
      "model_module_version": "1.2.0",
      "model_name": "LayoutModel",
      "state": {}
     },
     "d8e012b722564e019faf60c3a06df488": {
      "model_module": "@jupyter-widgets/controls",
      "model_module_version": "1.5.0",
      "model_name": "HTMLModel",
      "state": {
       "layout": "IPY_MODEL_68118e745703406ea783c58ac5bcfd5f",
       "style": "IPY_MODEL_61d454ee81474603a0e270894d51df49",
       "value": "Generating train split:  98%"
      }
     },
     "d9d93da459db4cce82c165a274960e4c": {
      "model_module": "@jupyter-widgets/controls",
      "model_module_version": "1.5.0",
      "model_name": "ProgressStyleModel",
      "state": {
       "description_width": ""
      }
     },
     "db1328bc76b148f884cf1b16048d0c54": {
      "model_module": "@jupyter-widgets/controls",
      "model_module_version": "1.5.0",
      "model_name": "HBoxModel",
      "state": {
       "children": [
        "IPY_MODEL_c9a1de353d4042238480ca6adeb10c81",
        "IPY_MODEL_f5c34fd980034943a524649825a4404b",
        "IPY_MODEL_bed3de19c4de4d40bc67619854cd0724"
       ],
       "layout": "IPY_MODEL_09f40b0237df4e29865e69c9e2a6c429"
      }
     },
     "db2a2f09dac44b5aa9e983621a68ab02": {
      "model_module": "@jupyter-widgets/controls",
      "model_module_version": "1.5.0",
      "model_name": "HTMLModel",
      "state": {
       "layout": "IPY_MODEL_f6e4316444f54f0bb9fe0ea19afeb8e5",
       "style": "IPY_MODEL_6787ef0c22bb4c8cb29b2085ad6a67b9",
       "value": " 3.18k/? [00:00&lt;00:00, 167kB/s]"
      }
     },
     "db99426199ed4bdd99754af0881f231f": {
      "model_module": "@jupyter-widgets/base",
      "model_module_version": "1.2.0",
      "model_name": "LayoutModel",
      "state": {}
     },
     "dc63cabea66944c7b62acc9c9dd98ba7": {
      "model_module": "@jupyter-widgets/base",
      "model_module_version": "1.2.0",
      "model_name": "LayoutModel",
      "state": {}
     },
     "dec456cbd8cd4ed6b6c05c56d78fe200": {
      "model_module": "@jupyter-widgets/base",
      "model_module_version": "1.2.0",
      "model_name": "LayoutModel",
      "state": {}
     },
     "df80b54bd25f48f381b015801980f48e": {
      "model_module": "@jupyter-widgets/controls",
      "model_module_version": "1.5.0",
      "model_name": "DescriptionStyleModel",
      "state": {
       "description_width": ""
      }
     },
     "df82cd36ac384fc5bc586df43c7d5a05": {
      "model_module": "@jupyter-widgets/controls",
      "model_module_version": "1.5.0",
      "model_name": "HBoxModel",
      "state": {
       "children": [
        "IPY_MODEL_321dd76d81af45cd97919d85e3a29fe4",
        "IPY_MODEL_3863c5a58c7143018054fb0e7d9d46b6",
        "IPY_MODEL_d545994a18174414a728231ed9745c51"
       ],
       "layout": "IPY_MODEL_546ee008b2b940fdbc876afc7ef78563"
      }
     },
     "e0a99dbfa70449008340019efdbe06e9": {
      "model_module": "@jupyter-widgets/controls",
      "model_module_version": "1.5.0",
      "model_name": "ProgressStyleModel",
      "state": {
       "description_width": ""
      }
     },
     "e26023ea24a044fd946bf8ae094fe5b0": {
      "model_module": "@jupyter-widgets/controls",
      "model_module_version": "1.5.0",
      "model_name": "ProgressStyleModel",
      "state": {
       "description_width": ""
      }
     },
     "e2b48c4515de41b98e91b8e6215dd4cc": {
      "model_module": "@jupyter-widgets/controls",
      "model_module_version": "1.5.0",
      "model_name": "DescriptionStyleModel",
      "state": {
       "description_width": ""
      }
     },
     "e3607e9f446048daa3693e46d0576222": {
      "model_module": "@jupyter-widgets/controls",
      "model_module_version": "1.5.0",
      "model_name": "ProgressStyleModel",
      "state": {
       "description_width": ""
      }
     },
     "e363af7a2b2349d38518fc25c260de31": {
      "model_module": "@jupyter-widgets/base",
      "model_module_version": "1.2.0",
      "model_name": "LayoutModel",
      "state": {}
     },
     "e3cb5aa44ae54d2885e3e4da8dea2b04": {
      "model_module": "@jupyter-widgets/base",
      "model_module_version": "1.2.0",
      "model_name": "LayoutModel",
      "state": {}
     },
     "e4e89b19821a4cee812d5ded67c35af1": {
      "model_module": "@jupyter-widgets/controls",
      "model_module_version": "1.5.0",
      "model_name": "HTMLModel",
      "state": {
       "layout": "IPY_MODEL_b202474ce80a466b9431b07e895cc8d7",
       "style": "IPY_MODEL_55c302203c524c2cadde4b7c1e66e36f",
       "value": "Downloading metadata: "
      }
     },
     "e783cebfc60842e882a394aebe232411": {
      "model_module": "@jupyter-widgets/base",
      "model_module_version": "1.2.0",
      "model_name": "LayoutModel",
      "state": {}
     },
     "e7c44c48179c4bb1b17b1cdd9aede09d": {
      "model_module": "@jupyter-widgets/base",
      "model_module_version": "1.2.0",
      "model_name": "LayoutModel",
      "state": {}
     },
     "ea0617882ab84d35b9b98a8f1d1ef8c9": {
      "model_module": "@jupyter-widgets/controls",
      "model_module_version": "1.5.0",
      "model_name": "HTMLModel",
      "state": {
       "layout": "IPY_MODEL_a71ec558766a4d1cbb9546444b7805a3",
       "style": "IPY_MODEL_f82101ea706b43a6b841271f6c7d4271",
       "value": " 1.67k/? [00:00&lt;00:00, 91.5kB/s]"
      }
     },
     "eadfddd1b3e640d5965701d08d804d25": {
      "model_module": "@jupyter-widgets/controls",
      "model_module_version": "1.5.0",
      "model_name": "ProgressStyleModel",
      "state": {
       "description_width": ""
      }
     },
     "edc8c490bb6e4cd6877e3f4d90ccb0a9": {
      "model_module": "@jupyter-widgets/base",
      "model_module_version": "1.2.0",
      "model_name": "LayoutModel",
      "state": {}
     },
     "edccbb036d8b4a59b230afbdb78ed5f2": {
      "model_module": "@jupyter-widgets/controls",
      "model_module_version": "1.5.0",
      "model_name": "DescriptionStyleModel",
      "state": {
       "description_width": ""
      }
     },
     "f16de2dbec94490784e2005c9be67ecd": {
      "model_module": "@jupyter-widgets/base",
      "model_module_version": "1.2.0",
      "model_name": "LayoutModel",
      "state": {}
     },
     "f2ed7168068a4f1ea0e153acb1aeba94": {
      "model_module": "@jupyter-widgets/base",
      "model_module_version": "1.2.0",
      "model_name": "LayoutModel",
      "state": {}
     },
     "f30e289a9d994e4b8343f4dded7c806f": {
      "model_module": "@jupyter-widgets/base",
      "model_module_version": "1.2.0",
      "model_name": "LayoutModel",
      "state": {}
     },
     "f357683163004540bb7c3e176a481fad": {
      "model_module": "@jupyter-widgets/controls",
      "model_module_version": "1.5.0",
      "model_name": "DescriptionStyleModel",
      "state": {
       "description_width": ""
      }
     },
     "f377c9a4ba574f2185b7ed0c652f68ad": {
      "model_module": "@jupyter-widgets/base",
      "model_module_version": "1.2.0",
      "model_name": "LayoutModel",
      "state": {}
     },
     "f4084b2216874edabfe928f07ce3d480": {
      "model_module": "@jupyter-widgets/controls",
      "model_module_version": "1.5.0",
      "model_name": "DescriptionStyleModel",
      "state": {
       "description_width": ""
      }
     },
     "f5c34fd980034943a524649825a4404b": {
      "model_module": "@jupyter-widgets/controls",
      "model_module_version": "1.5.0",
      "model_name": "FloatProgressModel",
      "state": {
       "bar_style": "success",
       "layout": "IPY_MODEL_d84f1002f4ee4094bff8487f0b819742",
       "max": 2,
       "style": "IPY_MODEL_3adab3b47da1417a90d12ebade1763ab",
       "value": 2
      }
     },
     "f662e20bdc90416a8e93904a3fc48d66": {
      "model_module": "@jupyter-widgets/controls",
      "model_module_version": "1.5.0",
      "model_name": "HBoxModel",
      "state": {
       "children": [
        "IPY_MODEL_5a9e0bcd6e5a433fa159502ffdb345ee",
        "IPY_MODEL_f88de7c98e7b4f1984a95fa48839ed4b",
        "IPY_MODEL_9aa1ec4b48b44530b7c56af1b1761820"
       ],
       "layout": "IPY_MODEL_f93f3565a50947468b2f2260b4716b48"
      }
     },
     "f6e4316444f54f0bb9fe0ea19afeb8e5": {
      "model_module": "@jupyter-widgets/base",
      "model_module_version": "1.2.0",
      "model_name": "LayoutModel",
      "state": {}
     },
     "f6ef87785d654dfc8f2f530b6b594dfc": {
      "model_module": "@jupyter-widgets/controls",
      "model_module_version": "1.5.0",
      "model_name": "HTMLModel",
      "state": {
       "layout": "IPY_MODEL_12f7527d90584720a3b77ae5f4fc4c92",
       "style": "IPY_MODEL_94d5b9615baf4d32bee554c8fa64a4d0",
       "value": "Generating test split:   0%"
      }
     },
     "f73ea224ccde4999a4c70db827a7369e": {
      "model_module": "@jupyter-widgets/controls",
      "model_module_version": "1.5.0",
      "model_name": "HTMLModel",
      "state": {
       "layout": "IPY_MODEL_b2b06dd24cfd4c92a215da778c190338",
       "style": "IPY_MODEL_217c0b068e33458bade0b7325ec29f8a",
       "value": "apply len_bytes to num_bytes: 100%"
      }
     },
     "f82101ea706b43a6b841271f6c7d4271": {
      "model_module": "@jupyter-widgets/controls",
      "model_module_version": "1.5.0",
      "model_name": "DescriptionStyleModel",
      "state": {
       "description_width": ""
      }
     },
     "f88de7c98e7b4f1984a95fa48839ed4b": {
      "model_module": "@jupyter-widgets/controls",
      "model_module_version": "1.5.0",
      "model_name": "FloatProgressModel",
      "state": {
       "bar_style": "success",
       "layout": "IPY_MODEL_f377c9a4ba574f2185b7ed0c652f68ad",
       "max": 67349,
       "style": "IPY_MODEL_f97f6a7ab9b74ff08d09fdc1cf76bd02",
       "value": 67349
      }
     },
     "f91f1375005841a48d80b333b7e3add4": {
      "model_module": "@jupyter-widgets/controls",
      "model_module_version": "1.5.0",
      "model_name": "HBoxModel",
      "state": {
       "children": [
        "IPY_MODEL_0635413ab09a496a8a8a92c95c165d2c",
        "IPY_MODEL_04964c44dede4e9e938485977ba0cf33",
        "IPY_MODEL_2ab47bc0766c4215b912e3a58ce295ed"
       ],
       "layout": "IPY_MODEL_bc171f76e28d45cb88cc5772644ae4c8"
      }
     },
     "f93f3565a50947468b2f2260b4716b48": {
      "model_module": "@jupyter-widgets/base",
      "model_module_version": "1.2.0",
      "model_name": "LayoutModel",
      "state": {}
     },
     "f97f6a7ab9b74ff08d09fdc1cf76bd02": {
      "model_module": "@jupyter-widgets/controls",
      "model_module_version": "1.5.0",
      "model_name": "ProgressStyleModel",
      "state": {
       "description_width": ""
      }
     },
     "ffd3ab0e6457423ca04421c971ba1203": {
      "model_module": "@jupyter-widgets/controls",
      "model_module_version": "1.5.0",
      "model_name": "HTMLModel",
      "state": {
       "layout": "IPY_MODEL_dc63cabea66944c7b62acc9c9dd98ba7",
       "style": "IPY_MODEL_59f53f1b7aef4e84ada3b77d6b923895",
       "value": " 150000/150000 [00:00&lt;00:00, 560579.47it/s]"
      }
     }
    },
    "version_major": 2,
    "version_minor": 0
   }
  }
 },
 "nbformat": 4,
 "nbformat_minor": 1
}
