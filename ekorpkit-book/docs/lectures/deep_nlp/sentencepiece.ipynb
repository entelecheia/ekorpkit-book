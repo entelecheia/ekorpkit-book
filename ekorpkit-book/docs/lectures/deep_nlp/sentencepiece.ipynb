{
 "cells": [
  {
   "cell_type": "markdown",
   "id": "cfdc61fb",
   "metadata": {},
   "source": [
    "# SentencePiece Tokenizer"
   ]
  },
  {
   "cell_type": "markdown",
   "id": "66d50cc3",
   "metadata": {},
   "source": [
    "## References\n",
    "\n",
    "- [SentencePiece](github.com/google/sentencepiece)"
   ]
  },
  {
   "cell_type": "markdown",
   "id": "a80c6cd4",
   "metadata": {},
   "source": []
  }
 ],
 "metadata": {
  "kernelspec": {
   "display_name": "Python 3.9.2 64-bit ('3.9.2')",
   "language": "python",
   "name": "python3"
  },
  "language_info": {
   "name": "python",
   "version": "3.9.2"
  },
  "vscode": {
   "interpreter": {
    "hash": "93b4cf8eea927ca72e10894c003f60fd8f010ab3a2701e6ac08fd098c47fd773"
   }
  }
 },
 "nbformat": 4,
 "nbformat_minor": 5
}
