{
 "cells": [
  {
   "cell_type": "markdown",
   "id": "bfc871e8",
   "metadata": {
    "slideshow": {
     "slide_type": "slide"
    },
    "tags": []
   },
   "source": [
    "# What is BLOOM?\n",
    "\n",
    "**BigScience Large Open-science Open-access Multilingual Language Model**\n",
    "\n",
    "![bloom](../figs/deep_nlp/bloom/deepnlp_2_bloom.png)"
   ]
  },
  {
   "cell_type": "markdown",
   "id": "d1bdf646",
   "metadata": {
    "slideshow": {
     "slide_type": "slide"
    },
    "tags": []
   },
   "source": [
    "## What is BLOOM?\n",
    "\n",
    "- BLOOM is a 175-billion parameter model for language processing, able to generate text much like GPT-3 and OPT-175B. \n",
    "- It was developed to be multilingual, being deliberately trained on datasets containing 46 natural languages and 13 programming languages.\n",
    "- Unlioke GPT-3, BLOOM is open-access, meaning anyone is able to download and use BLOOM for themselves. \n",
    "- Everything about BLOOM is openly available on the various pages within BigScience's Hugging Face page, from the training logs to models of various sizes to checkpoints."
   ]
  },
  {
   "cell_type": "markdown",
   "id": "9fc3afe2",
   "metadata": {},
   "source": [
    "## Model Details  \n",
    "\n",
    "- BLOOM is an autoregressive Large Language Model (LLM), trained to continue text from a prompt on vast amounts of text data using industrial-scale computational resources. \n",
    "- As such, it is able to output coherent text in 46 languages and 13 programming languages that is hardly distinguishable from text written by humans. \n",
    "- BLOOM can also be instructed to perform text tasks it hasn't been explicitly trained for, by casting them as text generation tasks.\n"
   ]
  },
  {
   "cell_type": "markdown",
   "id": "57faf42b",
   "metadata": {
    "slideshow": {
     "slide_type": "slide"
    },
    "tags": []
   },
   "source": [
    "## Basics\n",
    "\n",
    "- **Developed by:** BigScience ([website](https://bigscience.huggingface.co))\n",
    "\n",
    "    *All collaborators are either volunteers or have an agreement with their employer. (Further breakdown of participants forthcoming.)*\n",
    "    \n",
    "- **Model Type:** Transformer-based Language Model\n",
    "\n",
    "- **Checkpoints format:** `transformers` (Megatron-DeepSpeed format available [here](https://huggingface.co/bigscience/bloom-optimizer-states))\n",
    "\n",
    "- **Version:** 1.0.0\n",
    "\n",
    "- **Languages:** Multiple; see [training data](#training-data)\n",
    "\n",
    "- **License:** RAIL License v1.0 ([link](https://huggingface.co/spaces/bigscience/license) / [article and FAQ](https://bigscience.huggingface.co/blog/the-bigscience-rail-license))\n",
    "\n",
    "- **Release Date Estimate:** Monday, 11.July.2022\n",
    "\n",
    "- **Send Questions to:** bigscience-contact@googlegroups.com\n",
    "\n",
    "- **Cite as:** BigScience, _BigScience Language Open-science Open-access Multilingual (BLOOM) Language Model_. International, May 2021-May 2022\n",
    "\n",
    "- **Funded by:** \n",
    "    \n",
    "    - The French government.\n",
    "    - Hugging Face ([website](https://huggingface.co))."
   ]
  },
  {
   "cell_type": "markdown",
   "id": "396a71ff",
   "metadata": {
    "slideshow": {
     "slide_type": "slide"
    },
    "tags": []
   },
   "source": [
    "## Technical Specifications\n",
    "\n",
    "### Model Architecture and Objective\n",
    "\n",
    "* Modified from Megatron-LM GPT2 (see [paper](https://arxiv.org/abs/1909.08053), [BLOOM Megatron code](https://github.com/bigscience-workshop/Megatron-DeepSpeed)):\n",
    "\n",
    "* Decoder-only architecture\n",
    "\n",
    "* Layer normalization applied to word embeddings layer (`StableEmbedding`; see [code](https://github.com/facebookresearch/bitsandbytes), [paper](https://arxiv.org/pdf/2110.02861.pdf))\n",
    "\n",
    "* ALiBI positional encodings (see [paper](https://arxiv.org/pdf/2108.12409.pdf)), with GeLU activation functions\n",
    "\n",
    "* 176 billion parameters:\n",
    "\n",
    "    * 70 layers, 112 attention heads\n",
    "\n",
    "    * Hidden layers are 14336-dimensional\n",
    "\n",
    "    * Sequence length of 2048 tokens used (see [BLOOM tokenizer](https://huggingface.co/bigscience/tokenizer), [tokenizer description](#tokenization))\n",
    "\n",
    "**Objective Function:** Cross Entropy with mean reduction (see [API documentation](https://pytorch.org/docs/stable/generated/torch.nn.CrossEntropyLoss.html#torch.nn.CrossEntropyLoss)).\n",
    "    "
   ]
  },
  {
   "cell_type": "markdown",
   "id": "8899f93a",
   "metadata": {
    "notebookRunGroups": {
     "groupValue": "1"
    },
    "slideshow": {
     "slide_type": "slide"
    },
    "tags": []
   },
   "source": [
    "### Compute infrastructure\n",
    "Jean Zay Public Supercomputer, provided by the French government (see [announcement](https://www.enseignementsup-recherche.gouv.fr/fr/signature-du-marche-d-acquisition-de-l-un-des-supercalculateurs-les-plus-puissants-d-europe-46733)).\n",
    "#### Hardware\n",
    "\n",
    "* 384 A100 80GB GPUs (48 nodes)\n",
    "    \n",
    "* Additional 32 A100 80GB GPUs (4 nodes) in reserve\n",
    "* 8 GPUs per node Using NVLink 4 inter-gpu connects, 4 OmniPath links\n",
    "\n",
    "* CPU: AMD\n",
    "\n",
    "* CPU memory: 512GB per node\n",
    "\n",
    "* GPU memory: 640GB per node\n",
    "\n",
    "* Inter-node connect: Omni-Path Architecture (OPA)\n",
    "\n",
    "* NCCL-communications network: a fully dedicated subnet\n",
    "\n",
    "* Disc IO network: shared network with other types of nodes"
   ]
  },
  {
   "cell_type": "markdown",
   "id": "22dfa21b",
   "metadata": {
    "slideshow": {
     "slide_type": "slide"
    },
    "tags": []
   },
   "source": [
    "#### Software\n",
    "\n",
    "* Megatron-DeepSpeed ([Github link](https://github.com/bigscience-workshop/Megatron-DeepSpeed))\n",
    "\n",
    "* DeepSpeed ([Github link](https://github.com/microsoft/DeepSpeed))\n",
    "\n",
    "* PyTorch (pytorch-1.11 w/ CUDA-11.5; see [Github link](https://github.com/pytorch/pytorch))\n",
    "\n",
    "* apex ([Github link](https://github.com/NVIDIA/apex))"
   ]
  },
  {
   "cell_type": "markdown",
   "id": "3a5f9bf5",
   "metadata": {
    "slideshow": {
     "slide_type": "slide"
    },
    "tags": []
   },
   "source": [
    "## Training\n",
    "\n",
    "### Training Data\n",
    "\n",
    "Training data includes:\n",
    "\n",
    "-   46 natural languages    \n",
    "-   13 programming languages\n",
    "-   In 1.6TB of pre-processed text, converted into 350B unique tokens (see [the tokenizer section](#tokenization) for more.)\n",
    "\n"
   ]
  },
  {
   "cell_type": "markdown",
   "id": "53890cae",
   "metadata": {
    "slideshow": {
     "slide_type": "slide"
    },
    "tags": []
   },
   "source": [
    "### Languages\n",
    "    \n",
    "The pie chart shows the distribution of languages in training data.\n",
    "   \n",
    "![pie chart showing the distribution of languages in training data](../figs/deep_nlp/bloom/blooom-lang-pie_v2@0.5x.png)"
   ]
  },
  {
   "cell_type": "markdown",
   "id": "c0d4579f",
   "metadata": {
    "slideshow": {
     "slide_type": "slide"
    },
    "tags": []
   },
   "source": [
    "Distribution of programming languages.\n",
    "    \n",
    "| Extension      | Language   | Number of files |\n",
    "|----------------|------------|-----------------|\n",
    "| java           | Java       | 5,407,724       |\n",
    "| php            | PHP        | 4,942,186       |\n",
    "| cpp            | C++        | 2,503,930       |\n",
    "| py             | Python     | 2,435,072       |\n",
    "| js             | JavaScript | 1,905,518       |\n",
    "| cs             | C#         | 1,577,347       |\n",
    "| rb             | Ruby       | 6,78,413        |\n",
    "| cc             | C++        | 443,054         |\n",
    "| hpp            | C++        | 391,048         |\n",
    "| lua            | Lua        | 352,317         |\n",
    "| go             | GO         | 227,763         |\n",
    "| ts             | TypeScript | 195,254         |\n",
    "| C              | C          | 134,537         |\n",
    "| scala          | Scala      | 92,052          |\n",
    "| hh             | C++        | 67,161          |\n",
    "| H              | C++        | 55,899          |\n",
    "| tsx            | TypeScript | 33,107          |\n",
    "| rs             | Rust       | 29,693          |\n",
    "| phpt           | PHP        | 9,702           |\n",
    "| c++            | C++        | 1,342           |\n",
    "| h++            | C++        | 791             |\n",
    "| php3           | PHP        | 540             |\n",
    "| phps           | PHP        | 270             |\n",
    "| php5           | PHP        | 166             |\n",
    "| php4           | PHP        | 29              |\n"
   ]
  },
  {
   "cell_type": "markdown",
   "id": "66e83c5c",
   "metadata": {
    "slideshow": {
     "slide_type": "slide"
    },
    "tags": []
   },
   "source": [
    "### Preprocessing\n",
    "**Tokenization:** The BLOOM tokenizer ([link](https://huggingface.co/bigscience/tokenizer)), a learned subword tokenizer trained using:\n",
    "    \n",
    "- A byte-level Byte Pair Encoding (BPE) algorithm \n",
    "- A simple pre-tokenization rule, no normalization\n",
    "\n",
    "- A vocabulary size of 250,680\n",
    "\n",
    "It was trained on a subset of a preliminary version of the corpus using alpha-weighting per language.  \n"
   ]
  },
  {
   "cell_type": "markdown",
   "id": "29bcc71b",
   "metadata": {
    "slideshow": {
     "slide_type": "slide"
    },
    "tags": []
   },
   "source": [
    "### Speeds, Sizes, Times\n",
    "\n",
    "Training logs: [Tensorboard link](https://huggingface.co/tensorboard/bigscience/tr11-176B-ml-logs/)\n",
    "\n",
    "- Dates:\n",
    "    \n",
    "    - Started 11th March, 2022 11:42am PST\n",
    "    - Estimated end: 5th July, 2022\n",
    "\n",
    "- Checkpoint size:\n",
    "    \n",
    "    - Bf16 weights: 329GB\n",
    "    \n",
    "    - Full checkpoint with optimizer states: 2.3TB\n",
    "- Training throughput: About 150 TFLOP per GPU per second\n",
    "\n",
    "- Number of epochs: 1\n",
    "\n",
    "- Estimated cost of training: Equivalent of $2-5M in cloud computing (including preliminary experiments)\n",
    "\n",
    "- Server training location: Île-de-France, France"
   ]
  },
  {
   "cell_type": "markdown",
   "id": "846420bb",
   "metadata": {
    "slideshow": {
     "slide_type": "slide"
    },
    "tags": []
   },
   "source": [
    "### Environmental Impact\n",
    "\n",
    "- The training supercomputer, Jean Zay ([website](http://www.idris.fr/eng/jean-zay/jean-zay-presentation-eng.html)), uses mostly nuclear energy. \n",
    "- The heat generated by it is reused for heating campus housing.    "
   ]
  },
  {
   "cell_type": "markdown",
   "id": "32fa4cf0",
   "metadata": {
    "slideshow": {
     "slide_type": "slide"
    },
    "tags": []
   },
   "source": [
    "## Uses\n",
    "\n",
    "### How to use\n",
    "This model can be easily used and deployed using HuggingFace's ecosystem. This needs `transformers` and `accelerate` installed. The model can be downloaded as follows:\n",
    "\n",
    " <img src=\"https://s3.amazonaws.com/moonup/production/uploads/1657271608456-62441d1d9fdefb55a0b7d12c.png\" width=\"800\" style=\"margin-left:'auto' margin-right:'auto' display:'block'\"/>\n"
   ]
  },
  {
   "cell_type": "markdown",
   "id": "5c137951",
   "metadata": {
    "slideshow": {
     "slide_type": "slide"
    },
    "tags": []
   },
   "source": [
    "### Intended Use\n",
    "\n",
    "This model is being created in order to enable public research on large language models (LLMs). LLMs are intended to be used for language generation or as a pretrained base model that can be further fine-tuned for specific tasks. Use cases below are not exhaustive.\n",
    "\n",
    "#### Direct Use\n",
    "\n",
    "-   Text generation\n",
    "\n",
    "-   Exploring characteristics of language generated by a language model\n",
    "\n",
    "    -   Examples: Cloze tests, counterfactuals, generations with reframings\n",
    "\n",
    "#### Downstream Use\n",
    "\n",
    "-   Tasks that leverage language models include: Information Extraction, Question Answering, Summarization"
   ]
  },
  {
   "cell_type": "markdown",
   "id": "4852d855",
   "metadata": {
    "slideshow": {
     "slide_type": "slide"
    },
    "tags": []
   },
   "source": [
    "### Misuse and Out-of-scope Use\n",
    "\n",
    "See the [BLOOM License](https://huggingface.co/spaces/bigscience/license), Attachment A, for detailed usage restrictions. The below list is non-exhaustive, but lists some easily foreseeable problematic use cases.\n",
    "\n",
    "#### Out-of-scope Uses\n",
    "\n",
    "Using the model in [high-stakes](#high-stakes) settings is out of scope for this model.  The model is not designed for [critical decisions](#critical-decisions) nor uses with any material consequences on an individual's livelihood or wellbeing. The model outputs content that appears factual but may not be correct.  \n",
    "\n",
    "Out-of-scope Uses Include:\n",
    "\n",
    "-   Usage in biomedical domains, political and legal domains, or finance domains\n",
    "\n",
    "-   Usage for evaluating or scoring individuals, such as for employment, education, or credit\n",
    "\n",
    "-   Applying the model for critical automatic decisions, generating factual content, creating reliable summaries, or generating predictions that must be correct"
   ]
  },
  {
   "cell_type": "markdown",
   "id": "e4b082b4",
   "metadata": {
    "slideshow": {
     "slide_type": "slide"
    },
    "tags": []
   },
   "source": [
    "#### Misuse\n",
    "\n",
    "Intentionally using the model for harm, violating [human rights](#human-rights), or other kinds of malicious activities, is a misuse of this model. This includes:\n",
    "\n",
    "-   Spam generation\n",
    "\n",
    "-   Disinformation and influence operations\n",
    "\n",
    "-   Disparagement and defamation\n",
    "\n",
    "-   Harassment and abuse\n",
    "  \n",
    "-   [Deception](#deception)\n",
    "\n",
    "-   Unconsented impersonation and imitation\n",
    "\n",
    "-   Unconsented surveillance \n",
    "\n",
    "-   Generating content without attribution to the model, as specified in the [RAIL License, Use Restrictions](https://huggingface.co/spaces/bigscience/license)"
   ]
  },
  {
   "cell_type": "markdown",
   "id": "53414c4c",
   "metadata": {
    "slideshow": {
     "slide_type": "slide"
    },
    "tags": []
   },
   "source": [
    "### Intended Users\n",
    "\n",
    "#### Direct Users\n",
    "\n",
    "-   General Public\n",
    "\n",
    "-   Researchers\n",
    "\n",
    "-   Students\n",
    "\n",
    "-   Educators\n",
    "\n",
    "-   Engineers/developers\n",
    "\n",
    "-   Non-commercial entities\n",
    "\n",
    "-   Community advocates, including human and civil rights groups"
   ]
  },
  {
   "cell_type": "markdown",
   "id": "b473a867",
   "metadata": {
    "slideshow": {
     "slide_type": "slide"
    },
    "tags": []
   },
   "source": [
    "#### Indirect Users\n",
    "\n",
    "-   Users of derivatives created by Direct Users, such as those using software with an [intended use](#intended-use)\n",
    "\n",
    "-   Users of [Derivatives of the Model, as described in the License](https://huggingface.co/spaces/bigscience/license)\n",
    "\n",
    "#### Others Affected (Parties Prenantes)\n",
    "\n",
    "-   People and groups referred to by the LLM\n",
    "\n",
    "-   People and groups exposed to outputs of, or decisions based on, the LLM\n",
    "\n",
    "-   People and groups whose original work is included in the LLM\n"
   ]
  },
  {
   "cell_type": "markdown",
   "id": "cfad1482",
   "metadata": {
    "slideshow": {
     "slide_type": "slide"
    },
    "tags": []
   },
   "source": [
    "## Risks and Limitations\n",
    "\n",
    "Model may:\n",
    "\n",
    "-   Overrepresent some viewpoints and underrepresent others\n",
    "\n",
    "-   Contain stereotypes\n",
    "  \n",
    "-   Contain [personal information](#personal-data-and-information)\n",
    "\n",
    "-   Generate:\n",
    "\n",
    "    -   Hateful, abusive, or violent language\n",
    "\n",
    "    -   Discriminatory or prejudicial language\n",
    "\n",
    "    -   Content that may not be appropriate for all settings, including sexual content\n",
    "\n",
    "-   Make errors, including producing incorrect information as if it were factual\n",
    "\n",
    "-   Generate irrelevant or repetitive outputs\n",
    "\n",
    "-   Induce users into attributing human traits to it, such as sentience or consciousness"
   ]
  },
  {
   "cell_type": "markdown",
   "id": "4bf46910",
   "metadata": {
    "slideshow": {
     "slide_type": "slide"
    },
    "tags": []
   },
   "source": [
    "## Evaluation\n",
    "\n",
    "### Metrics \n",
    "\n",
    "Includes:\n",
    "\n",
    "| Metric             | Why chosen                                                         |\n",
    "|--------------------|--------------------------------------------------------------------|\n",
    "| [Perplexity](#perplexity)         | Standard metric for quantifying model improvements during training |\n",
    "| Cross Entropy [Loss](#loss) | Standard objective for language models.                            |\n",
    "\n",
    "And multiple different metrics for specific tasks. _(More evaluation metrics forthcoming upon completion of evaluation protocol.)_\n",
    "\n",
    "### Factors \n",
    "*This section lists some different aspects of BLOOM models. Its focus is on aspects that are likely to give rise to high variance in model behavior.*\n",
    "\n",
    "- Language, such as English or Yoruba\n",
    "\n",
    "- Domain, such as newswire or stories\n",
    "\n",
    "- Demographic characteristics, such as gender or nationality\n"
   ]
  },
  {
   "cell_type": "markdown",
   "id": "bab111d5",
   "metadata": {
    "slideshow": {
     "slide_type": "slide"
    },
    "tags": []
   },
   "source": [
    "## Glossary and Calculations\n",
    "\n",
    "-   <a name=\"loss\">**Loss:**</a> A calculation of the difference between what the model has learned and what the data shows (\"groundtruth\"). The lower the loss, the better. The training process aims to minimize the loss. \n",
    "-   <a name=\"perplexity\">**Perplexity:**</a> This is based on what the model estimates the probability of new data is. The lower the perplexity, the better.  If the model is 100% correct at predicting the next token it will see, then the perplexity is 1. Mathematically this is calculated using entropy. \n",
    "-   <a name=\"high-stakes\">**High-stakes settings:**</a> Such as those identified as \"high-risk AI systems\" and \"unacceptable risk AI systems\" in the European Union's proposed [Artificial Intelligence (AI) Act](https://artificialintelligenceact.eu/annexes/).\n",
    "-   <a name=\"critical-decisions\">**Critical decisions:**</a> Such as those defined in [the United States' proposed Algorithmic Accountability Act](https://www.congress.gov/117/bills/s3572/BILLS-117s3572is.pdf).\n",
    "-   <a name=\"human-rights\">**Human rights:**</a> Includes those rights defined in the [Universal Declaration of Human Rights](https://www.un.org/sites/un2.un.org/files/2021/03/udhr.pdf).\n",
    "-  <a name=\"personal-data-and-information\">**Personal Data and Personal Information:**</a> Personal data and information is defined in multiple data protection regulations, such as \"[personal data](https://gdpr-info.eu/issues/personal-data/)\" in the [European Union's General Data Protection Regulation](https://gdpr-info.eu); and \"personal information\" in the Republic of South Africa's [Protection of Personal Information Act](https://www.gov.za/sites/default/files/gcis_document/201409/3706726-11act4of2013popi.pdf), The People's Republic of China's [Personal information protection law](http://en.npc.gov.cn.cdurl.cn/2021-12/29/c_694559.htm).\n",
    "  \n",
    "- <a name=\"sensitive-characteristics\">**Sensitive characteristics:**</a> This includes specifically protected categories in human rights (see [UHDR, Article 2](https://www.un.org/sites/un2.un.org/files/2021/03/udhr.pdf)) and personal information regulation (see GDPR, [Article 9; Protection of Personal Information Act, Chapter 1](https://www.gov.za/sites/default/files/gcis_document/201409/3706726-11act4of2013popi.pdf))\n",
    "- <a name=\"deception\">**Deception:**</a> Doing something to intentionally mislead individuals to believe something that is false, such as by creating deadbots or chatbots on social media posing as real people, or generating text documents without making consumers aware that the text is machine generated.\n"
   ]
  },
  {
   "cell_type": "markdown",
   "id": "99e27fef",
   "metadata": {
    "slideshow": {
     "slide_type": "slide"
    },
    "tags": []
   },
   "source": []
  }
 ],
 "metadata": {
  "kernelspec": {
   "display_name": "Python 3 (ipykernel)",
   "language": "python",
   "name": "python3"
  },
  "language_info": {
   "codemirror_mode": {
    "name": "ipython",
    "version": 3
   },
   "file_extension": ".py",
   "mimetype": "text/x-python",
   "name": "python",
   "nbconvert_exporter": "python",
   "pygments_lexer": "ipython3",
   "version": "3.8.12"
  },
  "vscode": {
   "interpreter": {
    "hash": "d4d1e4263499bec80672ea0156c357c1ee493ec2b1c70f0acce89fc37c4a6abe"
   }
  },
  "widgets": {
   "application/vnd.jupyter.widget-state+json": {
    "state": {},
    "version_major": 2,
    "version_minor": 0
   }
  }
 },
 "nbformat": 4,
 "nbformat_minor": 5
}
