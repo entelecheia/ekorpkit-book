{
 "cells": [
  {
   "cell_type": "markdown",
   "metadata": {
    "id": "AESO0odcxhzs"
   },
   "source": [
    "# Sentiment Lexicons"
   ]
  },
  {
   "cell_type": "code",
   "execution_count": 1,
   "metadata": {
    "id": "EJ0AoNl-xif_"
   },
   "outputs": [
    {
     "name": "stdout",
     "output_type": "stream",
     "text": [
      "0.1.31+16.g2b3b245.dirty\n"
     ]
    }
   ],
   "source": [
    "%config InlineBackend.figure_format='retina'\n",
    "import logging\n",
    "from ekorpkit import eKonf\n",
    "\n",
    "logging.basicConfig(level=logging.WARNING)\n",
    "print(eKonf.__version__)"
   ]
  },
  {
   "cell_type": "markdown",
   "metadata": {
    "id": "dOpN8AxSxhzv"
   },
   "source": [
    "## Instantiating a lexicon class"
   ]
  },
  {
   "cell_type": "code",
   "execution_count": 3,
   "metadata": {},
   "outputs": [
    {
     "name": "stdout",
     "output_type": "stream",
     "text": [
      "Lexicon\n",
      "----------\n",
      "name: mpko_tone_lex\n",
      "fullname: Korean Monetary Policy Tone Lexicon - Lexical Approach\n",
      "source: https://github.com/entelecheia/eKoNLPy\n",
      "lang: ko\n",
      "lexicon_features: ['label', 'polarity', 'intensity', 'pos_score', 'neg_score']\n",
      "lexicon_path: /workspace/projects/ekorpkit/ekorpkit/resources/lexicons/mpko/mp_polarity_lexicon_lex.parquet\n",
      "word_key: word\n",
      "ignore_pos: False\n",
      "\n"
     ]
    }
   ],
   "source": [
    "config_group='model/sentiment/lexicon=mpko_lex'\n",
    "cfg = eKonf.compose(config_group=config_group)\n",
    "cfg.analyze.ngram_distiance_tolerance = 1\n",
    "lexicon = eKonf.instantiate(cfg)\n",
    "print(lexicon)"
   ]
  },
  {
   "cell_type": "code",
   "execution_count": 5,
   "metadata": {},
   "outputs": [
    {
     "name": "stdout",
     "output_type": "stream",
     "text": [
      "{}\n"
     ]
    }
   ],
   "source": [
    "text = \"투기를 억제하기 위해 금리를 인상해야 한다.\"\n",
    "tokens = ['투기', '억제', '금리', '인상', '인상', '투기;억제', '금리;인상', '견조', '호황', '힘들']\n",
    "\n",
    "features = lexicon.analyze(tokens, features=['label', 'polarity'])\n",
    "print(features)"
   ]
  },
  {
   "cell_type": "code",
   "execution_count": 8,
   "metadata": {},
   "outputs": [
    {
     "data": {
      "text/html": [
       "<div>\n",
       "<style scoped>\n",
       "    .dataframe tbody tr th:only-of-type {\n",
       "        vertical-align: middle;\n",
       "    }\n",
       "\n",
       "    .dataframe tbody tr th {\n",
       "        vertical-align: top;\n",
       "    }\n",
       "\n",
       "    .dataframe thead th {\n",
       "        text-align: right;\n",
       "    }\n",
       "</style>\n",
       "<table border=\"1\" class=\"dataframe\">\n",
       "  <thead>\n",
       "    <tr style=\"text-align: right;\">\n",
       "      <th></th>\n",
       "      <th>word</th>\n",
       "      <th>_word</th>\n",
       "      <th>_ngram_len</th>\n",
       "      <th>label</th>\n",
       "      <th>polarity</th>\n",
       "      <th>intensity</th>\n",
       "      <th>pos_score</th>\n",
       "      <th>neg_score</th>\n",
       "    </tr>\n",
       "  </thead>\n",
       "  <tbody>\n",
       "    <tr>\n",
       "      <th>11420</th>\n",
       "      <td>완화/nn;유지/nn;완화/nn;점차/ma;줄/vv</td>\n",
       "      <td>(완화/nn, 유지/nn, 완화/nn, 점차/ma, 줄/vv)</td>\n",
       "      <td>5</td>\n",
       "      <td>1</td>\n",
       "      <td>0.003044</td>\n",
       "      <td>1.106251</td>\n",
       "      <td>13.640993</td>\n",
       "      <td>12.330827</td>\n",
       "    </tr>\n",
       "    <tr>\n",
       "      <th>21777</th>\n",
       "      <td>변동성/nn;확대/nn;가능성/nn;배제/nn;없/va</td>\n",
       "      <td>(변동성/nn, 확대/nn, 가능성/nn, 배제/nn, 없/va)</td>\n",
       "      <td>5</td>\n",
       "      <td>-1</td>\n",
       "      <td>-0.346022</td>\n",
       "      <td>2.167654</td>\n",
       "      <td>11.193045</td>\n",
       "      <td>24.262653</td>\n",
       "    </tr>\n",
       "    <tr>\n",
       "      <th>3144</th>\n",
       "      <td>기대/nn;인플레이션/nn;억제/nn;금리/nn;인상/nn</td>\n",
       "      <td>(기대/nn, 인플레이션/nn, 억제/nn, 금리/nn, 인상/nn)</td>\n",
       "      <td>5</td>\n",
       "      <td>1</td>\n",
       "      <td>0.180585</td>\n",
       "      <td>1.548528</td>\n",
       "      <td>17.188444</td>\n",
       "      <td>11.099858</td>\n",
       "    </tr>\n",
       "    <tr>\n",
       "      <th>3145</th>\n",
       "      <td>물가/nn;안정/nn;대책/nn;금리/nn;인상/nn</td>\n",
       "      <td>(물가/nn, 안정/nn, 대책/nn, 금리/nn, 인상/nn)</td>\n",
       "      <td>5</td>\n",
       "      <td>1</td>\n",
       "      <td>0.180549</td>\n",
       "      <td>1.548422</td>\n",
       "      <td>17.312386</td>\n",
       "      <td>11.180667</td>\n",
       "    </tr>\n",
       "    <tr>\n",
       "      <th>16761</th>\n",
       "      <td>경제/nn;성장/nn;둔화/nn;우려/nn;높/va</td>\n",
       "      <td>(경제/nn, 성장/nn, 둔화/nn, 우려/nn, 높/va)</td>\n",
       "      <td>5</td>\n",
       "      <td>-1</td>\n",
       "      <td>-0.064909</td>\n",
       "      <td>1.241776</td>\n",
       "      <td>14.222117</td>\n",
       "      <td>17.660677</td>\n",
       "    </tr>\n",
       "    <tr>\n",
       "      <th>...</th>\n",
       "      <td>...</td>\n",
       "      <td>...</td>\n",
       "      <td>...</td>\n",
       "      <td>...</td>\n",
       "      <td>...</td>\n",
       "      <td>...</td>\n",
       "      <td>...</td>\n",
       "      <td>...</td>\n",
       "    </tr>\n",
       "    <tr>\n",
       "      <th>18199</th>\n",
       "      <td>부실/nn</td>\n",
       "      <td>(부실/nn,)</td>\n",
       "      <td>1</td>\n",
       "      <td>-1</td>\n",
       "      <td>-0.099467</td>\n",
       "      <td>1.325330</td>\n",
       "      <td>9.532942</td>\n",
       "      <td>12.634295</td>\n",
       "    </tr>\n",
       "    <tr>\n",
       "      <th>18336</th>\n",
       "      <td>마이너스/nn</td>\n",
       "      <td>(마이너스/nn,)</td>\n",
       "      <td>1</td>\n",
       "      <td>-1</td>\n",
       "      <td>-0.103087</td>\n",
       "      <td>1.334443</td>\n",
       "      <td>10.736146</td>\n",
       "      <td>14.326770</td>\n",
       "    </tr>\n",
       "    <tr>\n",
       "      <th>19352</th>\n",
       "      <td>지탱/nn</td>\n",
       "      <td>(지탱/nn,)</td>\n",
       "      <td>1</td>\n",
       "      <td>-1</td>\n",
       "      <td>-0.137586</td>\n",
       "      <td>1.425028</td>\n",
       "      <td>13.638922</td>\n",
       "      <td>19.435847</td>\n",
       "    </tr>\n",
       "    <tr>\n",
       "      <th>19420</th>\n",
       "      <td>우려/nn</td>\n",
       "      <td>(우려/nn,)</td>\n",
       "      <td>1</td>\n",
       "      <td>-1</td>\n",
       "      <td>-0.140655</td>\n",
       "      <td>1.433427</td>\n",
       "      <td>13.797743</td>\n",
       "      <td>19.778053</td>\n",
       "    </tr>\n",
       "    <tr>\n",
       "      <th>23955</th>\n",
       "      <td>인하/nn</td>\n",
       "      <td>(인하/nn,)</td>\n",
       "      <td>1</td>\n",
       "      <td>-1</td>\n",
       "      <td>-1.000000</td>\n",
       "      <td>79.863240</td>\n",
       "      <td>10.485279</td>\n",
       "      <td>837.388348</td>\n",
       "    </tr>\n",
       "  </tbody>\n",
       "</table>\n",
       "<p>23956 rows × 8 columns</p>\n",
       "</div>"
      ],
      "text/plain": [
       "                                   word  \\\n",
       "11420      완화/nn;유지/nn;완화/nn;점차/ma;줄/vv   \n",
       "21777    변동성/nn;확대/nn;가능성/nn;배제/nn;없/va   \n",
       "3144   기대/nn;인플레이션/nn;억제/nn;금리/nn;인상/nn   \n",
       "3145      물가/nn;안정/nn;대책/nn;금리/nn;인상/nn   \n",
       "16761      경제/nn;성장/nn;둔화/nn;우려/nn;높/va   \n",
       "...                                 ...   \n",
       "18199                             부실/nn   \n",
       "18336                           마이너스/nn   \n",
       "19352                             지탱/nn   \n",
       "19420                             우려/nn   \n",
       "23955                             인하/nn   \n",
       "\n",
       "                                        _word  _ngram_len  label  polarity  \\\n",
       "11420      (완화/nn, 유지/nn, 완화/nn, 점차/ma, 줄/vv)           5      1  0.003044   \n",
       "21777    (변동성/nn, 확대/nn, 가능성/nn, 배제/nn, 없/va)           5     -1 -0.346022   \n",
       "3144   (기대/nn, 인플레이션/nn, 억제/nn, 금리/nn, 인상/nn)           5      1  0.180585   \n",
       "3145      (물가/nn, 안정/nn, 대책/nn, 금리/nn, 인상/nn)           5      1  0.180549   \n",
       "16761      (경제/nn, 성장/nn, 둔화/nn, 우려/nn, 높/va)           5     -1 -0.064909   \n",
       "...                                       ...         ...    ...       ...   \n",
       "18199                                (부실/nn,)           1     -1 -0.099467   \n",
       "18336                              (마이너스/nn,)           1     -1 -0.103087   \n",
       "19352                                (지탱/nn,)           1     -1 -0.137586   \n",
       "19420                                (우려/nn,)           1     -1 -0.140655   \n",
       "23955                                (인하/nn,)           1     -1 -1.000000   \n",
       "\n",
       "       intensity  pos_score   neg_score  \n",
       "11420   1.106251  13.640993   12.330827  \n",
       "21777   2.167654  11.193045   24.262653  \n",
       "3144    1.548528  17.188444   11.099858  \n",
       "3145    1.548422  17.312386   11.180667  \n",
       "16761   1.241776  14.222117   17.660677  \n",
       "...          ...        ...         ...  \n",
       "18199   1.325330   9.532942   12.634295  \n",
       "18336   1.334443  10.736146   14.326770  \n",
       "19352   1.425028  13.638922   19.435847  \n",
       "19420   1.433427  13.797743   19.778053  \n",
       "23955  79.863240  10.485279  837.388348  \n",
       "\n",
       "[23956 rows x 8 columns]"
      ]
     },
     "execution_count": 8,
     "metadata": {},
     "output_type": "execute_result"
    }
   ],
   "source": [
    "lexicon._lexicon"
   ]
  },
  {
   "cell_type": "code",
   "execution_count": 6,
   "metadata": {},
   "outputs": [
    {
     "name": "stdout",
     "output_type": "stream",
     "text": [
      "Loading data from /workspace/projects/ekorpkit/ekorpkit/resources/lexicons/kosac/polarity.parquet\n"
     ]
    },
    {
     "data": {
      "text/plain": [
       "{'힘들': {'max.value': 'NEG', 'max.prop': 0.75, 'count': 1},\n",
       " '인상': {'max.value': 'POS', 'max.prop': 0.666666667, 'count': 2}}"
      ]
     },
     "execution_count": 6,
     "metadata": {},
     "output_type": "execute_result"
    }
   ],
   "source": [
    "config_group='model/sentiment/lexicon=kosac_polarity'\n",
    "cfg = eKonf.compose(config_group=config_group)\n",
    "cfg.ignore_pos = True\n",
    "cfg.analyze.ngram_distiance_tolerance = 1\n",
    "lexicon = eKonf.instantiate(cfg)\n",
    "tokens = ['투기', '억제', '금리', '인상', '인상', '투기;억제', '금리;인상', '견조', '호황', '힘들']\n",
    "\n",
    "lexicon.analyze(tokens, features=['max.value', 'max.prop'])"
   ]
  },
  {
   "cell_type": "code",
   "execution_count": 7,
   "metadata": {},
   "outputs": [
    {
     "name": "stdout",
     "output_type": "stream",
     "text": [
      "Loading data from /workspace/projects/ekorpkit/ekorpkit/resources/lexicons/LM.parquet\n"
     ]
    }
   ],
   "source": [
    "from ekorpkit import eKonf\n",
    "\n",
    "config_group='model/sentiment/lexicon=lm'\n",
    "cfg = eKonf.compose(config_group=config_group)\n",
    "# eKonf.pprint(cfg)\n",
    "lexicon = eKonf.instantiate(cfg)\n",
    "# print(lexicon)"
   ]
  },
  {
   "cell_type": "code",
   "execution_count": 8,
   "metadata": {},
   "outputs": [
    {
     "data": {
      "text/plain": [
       "{'bad': {'Positive': 0, 'Negative': 2009, 'Uncertainty': 0, 'count': 1},\n",
       " 'beat': {'Positive': 0, 'Negative': 0, 'Uncertainty': 0, 'count': 1},\n",
       " 'fraud': {'Positive': 0, 'Negative': 2009, 'Uncertainty': 0, 'count': 1},\n",
       " 'good': {'Positive': 2009, 'Negative': 0, 'Uncertainty': 0, 'count': 3},\n",
       " 'sound': {'Positive': 0, 'Negative': 0, 'Uncertainty': 0, 'count': 1},\n",
       " 'uncertain': {'Positive': 0, 'Negative': 0, 'Uncertainty': 2009, 'count': 1},\n",
       " 'wrong': {'Positive': 0, 'Negative': 2009, 'Uncertainty': 0, 'count': 1}}"
      ]
     },
     "execution_count": 8,
     "metadata": {},
     "output_type": "execute_result"
    }
   ],
   "source": [
    "tokens = [\"Bad\", \"Fraud\", \"Good\",\"Good\",\"Good\", \"Sound\", \"uncertain\", \"beat\", \"wrong\"]\n",
    "lexicon.analyze(tokens, features=['Positive', 'Negative', 'Uncertainty'])"
   ]
  },
  {
   "cell_type": "code",
   "execution_count": 1,
   "metadata": {},
   "outputs": [
    {
     "name": "stdout",
     "output_type": "stream",
     "text": [
      "Loading data from /workspace/projects/ekorpkit/ekorpkit/resources/lexicons/LM.parquet\n"
     ]
    },
    {
     "data": {
      "text/plain": [
       "{'polarity': 0.199999960000008,\n",
       " 'subjectivity': 0.6249999218750099,\n",
       " 'label': 'neutral'}"
      ]
     },
     "execution_count": 1,
     "metadata": {},
     "output_type": "execute_result"
    }
   ],
   "source": [
    "from ekorpkit import eKonf\n",
    "\n",
    "config_group='model/sentiment=lm'\n",
    "cfg = eKonf.compose(config_group=config_group)\n",
    "cfg.preprocessor.tokenizer.nltk.lemmatize = True\n",
    "# eKonf.pprint(cfg)\n",
    "lmsa = eKonf.instantiate(cfg)\n",
    "\n",
    "tokens = [\"Fraud\", \"Good\",\"Good\",\"Good\", \"Sound\", \"uncertain\", \"beat\", \"wrong\"]\n",
    "\n",
    "lmsa.predict(tokens)"
   ]
  },
  {
   "cell_type": "code",
   "execution_count": 2,
   "metadata": {},
   "outputs": [
    {
     "name": "stdout",
     "output_type": "stream",
     "text": [
      "['Beyond', 'the', 'improved', 'voice', 'capability', ',', 'customer', 'now', 'have', 'a', 'streamlined', 'way', 'to', 'comply', 'with', 'recall', 'and', 'other', 'traceability', 'requirement', ',', 'provide', 'them', 'with', 'a', 'competitive', 'advantage', '.']\n",
      "{'advantage': {'Negative': 0, 'Positive': 2009, 'count': 1},\n",
      " 'and': {'Negative': 0, 'Positive': 0, 'count': 1},\n",
      " 'beyond': {'Negative': 0, 'Positive': 0, 'count': 1},\n",
      " 'capability': {'Negative': 0, 'Positive': 0, 'count': 1},\n",
      " 'competitive': {'Negative': 0, 'Positive': 0, 'count': 1},\n",
      " 'comply': {'Negative': 0, 'Positive': 0, 'count': 1},\n",
      " 'customer': {'Negative': 0, 'Positive': 0, 'count': 1},\n",
      " 'have': {'Negative': 0, 'Positive': 0, 'count': 1},\n",
      " 'improved': {'Negative': 0, 'Positive': 2009, 'count': 1},\n",
      " 'now': {'Negative': 0, 'Positive': 0, 'count': 1},\n",
      " 'other': {'Negative': 0, 'Positive': 0, 'count': 1},\n",
      " 'provide': {'Negative': 0, 'Positive': 0, 'count': 1},\n",
      " 'recall': {'Negative': 2009, 'Positive': 0, 'count': 1},\n",
      " 'requirement': {'Negative': 0, 'Positive': 0, 'count': 1},\n",
      " 'streamlined': {'Negative': 0, 'Positive': 0, 'count': 1},\n",
      " 'the': {'Negative': 0, 'Positive': 0, 'count': 1},\n",
      " 'them': {'Negative': 0, 'Positive': 0, 'count': 1},\n",
      " 'to': {'Negative': 0, 'Positive': 0, 'count': 1},\n",
      " 'traceability': {'Negative': 0, 'Positive': 0, 'count': 1},\n",
      " 'voice': {'Negative': 0, 'Positive': 0, 'count': 1},\n",
      " 'way': {'Negative': 0, 'Positive': 0, 'count': 1},\n",
      " 'with': {'Negative': 0, 'Positive': 0, 'count': 2}}\n",
      "{'polarity': 0.33333322222225925, 'subjectivity': 0.10714285331632667, 'label': 'positive'}\n",
      "{'polarity': -0.9999990000010001, 'subjectivity': 0.045454543388429844, 'label': 'negative'}\n"
     ]
    }
   ],
   "source": [
    "from pprint import pprint\n",
    "text = \"Beyond the improved voice capabilities, customers now have a streamlined way to comply with recalls and other traceability requirements, providing them with a competitive advantage.\"\n",
    "tokens = lmsa.tokenize(text)\n",
    "print(tokens)\n",
    "pprint(lmsa.analyze(tokens, features=['Negative', 'Positive']))\n",
    "print(lmsa.predict(text))\n",
    "text = \"Operating loss amounted to EUR 0.7 mn compared to a profit of EUR 0.8 mn in the second quarter of 2005.\"\n",
    "print(lmsa.predict(text))\n"
   ]
  },
  {
   "cell_type": "code",
   "execution_count": 16,
   "metadata": {},
   "outputs": [
    {
     "name": "stdout",
     "output_type": "stream",
     "text": [
      "Loading data from /workspace/projects/ekorpkit/ekorpkit/resources/lexicons/HIV-4.parquet\n"
     ]
    },
    {
     "data": {
      "text/plain": [
       "{'ability': {'Positiv': 'Positiv', 'Negativ': None, 'count': 1},\n",
       " 'bad': {'Positiv': None, 'Negativ': 'Negativ', 'count': 1},\n",
       " 'fraud': {'Positiv': None, 'Negativ': 'Negativ', 'count': 1},\n",
       " 'uncertain': {'Positiv': None, 'Negativ': None, 'count': 1}}"
      ]
     },
     "execution_count": 16,
     "metadata": {},
     "output_type": "execute_result"
    }
   ],
   "source": [
    "config_group='model/sentiment/lexicon=hiv4'\n",
    "cfg = eKonf.compose(config_group=config_group)\n",
    "lexicon = eKonf.instantiate(cfg)\n",
    "\n",
    "tokens = [\"Bad\", \"Fraud\", \"Good\", \"Sound\", \"uncertain\", \"beat\", \"wrong\", 'ability']\n",
    "features = lexicon.analyze(tokens, features=['Positiv', 'Negativ'])\n",
    "features"
   ]
  },
  {
   "cell_type": "code",
   "execution_count": null,
   "metadata": {},
   "outputs": [],
   "source": []
  }
 ],
 "metadata": {
  "colab": {
   "name": "preprocessor.ipynb",
   "provenance": []
  },
  "interpreter": {
   "hash": "f869af7787e6a1c49e09e367fc6e1b81d93d1c6583b43249c80edc047bd13cb2"
  },
  "kernelspec": {
   "display_name": "Python 3",
   "language": "python",
   "name": "python3"
  },
  "language_info": {
   "codemirror_mode": {
    "name": "ipython",
    "version": 3
   },
   "file_extension": ".py",
   "mimetype": "text/x-python",
   "name": "python",
   "nbconvert_exporter": "python",
   "pygments_lexer": "ipython3",
   "version": "3.8.8"
  },
  "widgets": {
   "application/vnd.jupyter.widget-state+json": {
    "state": {},
    "version_major": 2,
    "version_minor": 0
   }
  }
 },
 "nbformat": 4,
 "nbformat_minor": 1
}
