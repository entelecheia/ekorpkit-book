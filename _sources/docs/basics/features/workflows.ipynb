{
 "cells": [
  {
   "cell_type": "markdown",
   "id": "ce80ffc2",
   "metadata": {},
   "source": [
    "# Workflows\n",
    "\n",
    "- A workflow is a configurable automated process that will run one or more jobs.\n",
    "- You can divide your research into several unit jobs (tasks), then combine those jobs into one workflow.\n",
    "- You can have multiple workflows, each of which can perform a different set of tasks.\n",
    "\n",
    "\n",
    "## Run a job with `ekorpkit-run`\n",
    "\n",
    "```bash\n",
    "ekorpkit-run +job=build_corpus name=bok_minutes num_workers=10\n",
    "```"
   ]
  }
 ],
 "metadata": {
  "jupytext": {
   "formats": "md:myst",
   "text_representation": {
    "extension": ".md",
    "format_name": "myst"
   }
  },
  "kernelspec": {
   "display_name": "Python 3",
   "language": "python",
   "name": "python3"
  },
  "language_info": {
   "codemirror_mode": {
    "name": "ipython",
    "version": 3
   },
   "file_extension": ".py",
   "mimetype": "text/x-python",
   "name": "python",
   "nbconvert_exporter": "python",
   "pygments_lexer": "ipython3",
   "version": "3.8.12"
  },
  "source_map": [
   11
  ]
 },
 "nbformat": 4,
 "nbformat_minor": 5
}