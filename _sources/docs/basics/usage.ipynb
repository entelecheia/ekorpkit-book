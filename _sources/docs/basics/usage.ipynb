{
 "cells": [
  {
   "cell_type": "markdown",
   "id": "71b5d67a",
   "metadata": {},
   "source": [
    "# Usage\n",
    "\n",
    "## Via Command Line Interface (CLI)"
   ]
  },
  {
   "cell_type": "code",
   "execution_count": null,
   "id": "b75446cb",
   "metadata": {},
   "outputs": [],
   "source": [
    "!ekorpkit"
   ]
  },
  {
   "cell_type": "markdown",
   "id": "abd7f142",
   "metadata": {},
   "source": [
    "### CLI example to build a corpus\n",
    "\n",
    "```bash\n",
    "ekorpkit --config-dir /workspace/projects/ekorpkit-book/config  \\\n",
    "    project=esgml \\\n",
    "    dir.workspace=/workspace \\\n",
    "    verbose=false \\\n",
    "    print_config=false \\\n",
    "    num_workers=1 \\\n",
    "    cmd=fetch_builtin_corpus \\\n",
    "    +corpus/builtin=_dummy_fomc_minutes \\\n",
    "    corpus.builtin.io.force.summarize=true \\\n",
    "    corpus.builtin.io.force.preprocess=true \\\n",
    "    corpus.builtin.io.force.build=false \\\n",
    "    corpus.builtin.io.force.download=false\n",
    "```\n",
    "\n",
    "### CLI Help\n",
    "\n",
    "To see the available configurations for CLI, run the command:"
   ]
  },
  {
   "cell_type": "code",
   "execution_count": null,
   "id": "4c2f72a0",
   "metadata": {
    "tags": [
     "output_scroll"
    ]
   },
   "outputs": [],
   "source": [
    "!ekorpkit --help"
   ]
  },
  {
   "cell_type": "code",
   "execution_count": null,
   "id": "9a5785b1",
   "metadata": {},
   "outputs": [],
   "source": [
    "!ekorpkit --info defaults"
   ]
  },
  {
   "cell_type": "markdown",
   "id": "43d4acf7",
   "metadata": {},
   "source": [
    "## Via Python\n",
    "\n",
    "### Compose an ekorpkit config"
   ]
  },
  {
   "cell_type": "code",
   "execution_count": null,
   "id": "0061ffd7",
   "metadata": {
    "tags": [
     "output_scroll"
    ]
   },
   "outputs": [],
   "source": [
    "from ekorpkit import eKonf\n",
    "cfg = eKonf.compose()\n",
    "print('Config type:', type(cfg))\n",
    "eKonf.pprint(cfg)"
   ]
  },
  {
   "cell_type": "markdown",
   "id": "a8b4ed1c",
   "metadata": {},
   "source": [
    "### Instantiating objects with an ekorpkit config\n",
    "\n",
    "#### compose a config for the nltk class"
   ]
  },
  {
   "cell_type": "code",
   "execution_count": null,
   "id": "0c2158ab",
   "metadata": {},
   "outputs": [],
   "source": [
    "from ekorpkit import eKonf\n",
    "config_group='preprocessor/tokenizer=nltk'\n",
    "cfg = eKonf.compose(config_group=config_group)\n",
    "eKonf.pprint(cfg)\n",
    "nltk = eKonf.instantiate(cfg)"
   ]
  },
  {
   "cell_type": "code",
   "execution_count": null,
   "id": "38207478",
   "metadata": {},
   "outputs": [],
   "source": [
    "text = \"I shall reemphasize some of those thoughts today in the context of legislative proposals that are now before the current Congress.\"\n",
    "nltk.tokenize(text)"
   ]
  },
  {
   "cell_type": "code",
   "execution_count": null,
   "id": "f938c4b0",
   "metadata": {},
   "outputs": [],
   "source": [
    " nltk.nouns(text)"
   ]
  },
  {
   "cell_type": "markdown",
   "id": "851fc871",
   "metadata": {},
   "source": [
    "#### compose a config for the mecab class"
   ]
  },
  {
   "cell_type": "code",
   "execution_count": null,
   "id": "1e38ca0d",
   "metadata": {},
   "outputs": [],
   "source": [
    "config_group='preprocessor/tokenizer=mecab'\n",
    "cfg = eKonf.compose(config_group=config_group)\n",
    "eKonf.pprint(cfg)"
   ]
  },
  {
   "cell_type": "markdown",
   "id": "483af119",
   "metadata": {},
   "source": [
    "#### intantiate a mecab config and tokenize a text"
   ]
  },
  {
   "cell_type": "code",
   "execution_count": null,
   "id": "93e33762",
   "metadata": {},
   "outputs": [],
   "source": [
    "mecab = eKonf.instantiate(cfg)\n",
    "text = 'IMF가 推定한 우리나라의 GDP갭률은 今年에도 소폭의 마이너스(−)를 持續하고 있다.'\n",
    "mecab.tokenize(text)"
   ]
  },
  {
   "cell_type": "markdown",
   "id": "3cd60fd4",
   "metadata": {},
   "source": [
    "#### compose and instantiate a `formal_ko` config for the normalizer class"
   ]
  },
  {
   "cell_type": "code",
   "execution_count": null,
   "id": "c9733c45",
   "metadata": {},
   "outputs": [],
   "source": [
    "config_group='preprocessor/normalizer=formal_ko'\n",
    "cfg_norm = eKonf.compose(config_group=config_group)\n",
    "norm = eKonf.instantiate(cfg_norm)\n",
    "norm(text)"
   ]
  },
  {
   "cell_type": "markdown",
   "id": "f24ad395",
   "metadata": {},
   "source": [
    "#### instantiate a mecab config with the above normalizer config"
   ]
  },
  {
   "cell_type": "code",
   "execution_count": null,
   "id": "6dbb9d10",
   "metadata": {},
   "outputs": [],
   "source": [
    "config_group='preprocessor/tokenizer=mecab'\n",
    "cfg = eKonf.compose(config_group=config_group)\n",
    "cfg.normalize = cfg_norm\n",
    "mecab = eKonf.instantiate(cfg)\n",
    "mecab.tokenize(text)"
   ]
  }
 ],
 "metadata": {
  "jupytext": {
   "formats": "md:myst",
   "text_representation": {
    "extension": ".md",
    "format_name": "myst"
   }
  },
  "kernelspec": {
   "display_name": "Python 3",
   "language": "python",
   "name": "python3"
  },
  "source_map": [
   11,
   17,
   19,
   42,
   47,
   49,
   55,
   61,
   67,
   75,
   80,
   82,
   86,
   90,
   94,
   98,
   102,
   107,
   111
  ]
 },
 "nbformat": 4,
 "nbformat_minor": 5
}