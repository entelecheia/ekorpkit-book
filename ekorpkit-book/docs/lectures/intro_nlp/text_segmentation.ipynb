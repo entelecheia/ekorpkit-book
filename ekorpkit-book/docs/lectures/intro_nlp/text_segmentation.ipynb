{
 "cells": [
  {
   "cell_type": "markdown",
   "id": "cfdc61fb",
   "metadata": {},
   "source": [
    "# Text Segmentation"
   ]
  },
  {
   "cell_type": "markdown",
   "id": "66d50cc3",
   "metadata": {},
   "source": [
    "## References\n",
    "\n",
    "- [Text Segmentation](https://en.wikipedia.org/wiki/Text_segmentation)\n",
    "- {cites}`solbiati2021unsupervised`\n",
    "- [Unsupervised Topic Segmentation of Meetings with BERT Embeddings](https://towardsdatascience.com/unsupervised-topic-segmentation-of-meetings-with-bert-embeddings-summary-46e1b7369755)"
   ]
  },
  {
   "cell_type": "markdown",
   "id": "584acc16",
   "metadata": {},
   "source": []
  }
 ],
 "metadata": {
  "kernelspec": {
   "display_name": "Python 3.8.5 ('base')",
   "language": "python",
   "name": "python3"
  },
  "language_info": {
   "name": "python",
   "version": "3.8.5"
  },
  "vscode": {
   "interpreter": {
    "hash": "d4d1e4263499bec80672ea0156c357c1ee493ec2b1c70f0acce89fc37c4a6abe"
   }
  }
 },
 "nbformat": 4,
 "nbformat_minor": 5
}
