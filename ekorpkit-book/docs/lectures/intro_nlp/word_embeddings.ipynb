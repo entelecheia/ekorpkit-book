{
 "cells": [
  {
   "cell_type": "markdown",
   "id": "cfdc61fb",
   "metadata": {},
   "source": [
    "# Word Embeddings\n",
    "\n",
    "![](../figs/intro_nlp/embeddings/embeddings.png)"
   ]
  },
  {
   "cell_type": "markdown",
   "id": "143a8744",
   "metadata": {},
   "source": [
    "## What are word embeddings?\n",
    "\n",
    "Word embeddings are a way of representing words as vectors. The vectors are learned from text data and are able to capture some of the semantic and systactic information of the words. \n",
    "\n",
    "For example, the word`cat` is similar to `doc` from the following sentences:\n",
    "\n",
    "\"The cat is lying on the floor and the dog was eating”,\n",
    " \n",
    "\"The doc was lying on the floor and the cat was eating”\n",
    "\n"
   ]
  },
  {
   "cell_type": "markdown",
   "id": "38cd7391",
   "metadata": {},
   "source": [
    "In a broad sense, `embedding` refers to a lower-dimensional dense vector representation of a higher-dimensional object.\n",
    "  - in NLP, this higher-dimensional object will be a document.\n",
    "  - in computer vision, this higher-dimensional object will be an image.\n",
    "\n",
    "Examples of embeddings and non-embeddings:\n",
    "\n",
    "  - **Non-embeddings**:\n",
    "    - one-hot encoding, bag-of-words, TF-IDF, etc.\n",
    "    - counts over LIWC dictionary categories.\n",
    "    - sklearn CountVectorizer count vectors\n",
    "  - **Embeddings**:\n",
    "    - word2vec, GloVe, BERT, ELMo, etc.\n",
    "    - PCA reductions of the word count vectors\n",
    "    - LDA topic shares\n",
    "    - compressed encodings from an autoencoder\n",
    "\n"
   ]
  },
  {
   "cell_type": "markdown",
   "id": "ee767b61",
   "metadata": {},
   "source": [
    "## Categorical Embeddings\n",
    "\n",
    "![](../figs/intro_nlp/embeddings/1.png)\n",
    "\n",
    "Categorical embeddings are a way of representing categorical variables as vectors.\n",
    "\n",
    "For a binary classification problem with outcome $Y$:\n",
    "    - If you have a high-dimensional categorical variable $X$, (e.g. 1000 categories), you can represent $X$ as a vector of length 1000.\n",
    "    - It is computationally expensive for a ML model to learn from a high-dimensional categorical variable.\n",
    "\n",
    "Instead, you can represent $X$ as a lower-dimensional vector of length $k$ (e.g. 10). This is called a categorical embedding. \n",
    "\n",
    "Embedding approaches:\n",
    "\n",
    "1. PCA applied to the dummy variables $X$ to get a lower-dimensional vector representation of $\\tilde{X}$.\n",
    "2. Regress $Y$ on $X$, predict $\\hat{Y}(X_i)$, use that as a feature in a new model.\n",
    "\n"
   ]
  },
  {
   "cell_type": "markdown",
   "id": "7aec2a71",
   "metadata": {},
   "source": [
    "### An embedding layer is matrix multiplication:\n",
    "\n",
    "$$\n",
    "\\underbrace{h_1}_{n_E \\times 1} = \\underbrace{\\omega_E}_{n_E \\times n_W} \\cdot \\underbrace{x}_{n_x \\times 1} \n",
    "$$\n",
    "\n",
    "- $x$ = a categorical variable (e.g., representing a word)\n",
    "  - One-hot vector with a single item equaling one.\n",
    "  - Input to the embedding layer.\n",
    "- $h_1$ = the first hidden layer of the neural net\n",
    "  - The output of the embedding layer.\n",
    "- The embedding matrix $\\omega_E$ encodes predictive information about the categories.\n",
    "- It has a spatial interpretation when projected into 2D space.\n",
    "  - Each row of $\\omega_E$ is a vector in $n_E$-dimensional space.\n",
    "  - The rows of $\\omega_E$ are the coordinates of the points in the vector space.\n",
    "  - The points are the categories.\n",
    "  - The distance between the points is the similarity between the categories.\n",
    "  - The angle between the points is the relationship between the categories.\n",
    "\n",
    "### Embedding Layers versus Dense Layers\n",
    "\n",
    "An embedding layer is statistically equivalent to a fully-connected dense layer with one-hot vectors as input and linear activation.\n",
    "\n",
    "- Embedding layers are much faster for many categories (>~50)"
   ]
  },
  {
   "cell_type": "markdown",
   "id": "b6cbcb02",
   "metadata": {},
   "source": [
    "## Word Embeddings\n",
    "\n",
    "> Word embeddings are neural network layers that map words to dense vectors.\n",
    "\n",
    "\n",
    "Documents are lists of word indexes ${w_1 ,w_2 ,...,w_{n_i} }$.\n",
    "\n",
    "- Let $w_i$ be a one-hot vector (dimensionality $n_w$ = vocab size) where the associated word’s index equals one.\n",
    "- Normalize all documents to the same length L; shorter documents can be padded with a null token.\n",
    "- This requirement can be relaxed with recurrent neural networks.\n",
    "\n",
    "The embedding layer replaces the list of sparse one-hot vectors with a list of n E -dimensional ($n_E$ << $n_w$ ) dense vectors\n",
    "\n",
    "$$ \\mathbf{X} = [x_1 \\ldots x_L ] $$\n",
    "\n",
    "where\n",
    "\n",
    "$$\n",
    "\\underbrace{x_j}_{n_E \\times 1} = \\underbrace{\\mathbf{E}}_{n_E \\times n_W} \\cdot \\underbrace{w_j}_{n_w \\times 1}\n",
    "$$\n",
    "\n",
    "$\\mathbf{E}$ a matrix of word vectors. The column associated with the word at $j$ is selected by the dot-product with one-hot vector $w_j$.\n",
    "\n",
    "$\\mathbf{X}$ is flattened into an $L * n_E$ vector for input to the next layer.\n",
    "\n",
    "\n",
    "![](../figs/intro_nlp/embeddings/4.png)\n"
   ]
  },
  {
   "cell_type": "markdown",
   "id": "66d50cc3",
   "metadata": {},
   "source": [
    "## References\n",
    "\n",
    "- [Word2Vec](https://arxiv.org/abs/1301.3781)\n",
    "- [A Visual Guide to FastText Word Embeddings](https://amitness.com/2020/06/fasttext-embeddings/)\n",
    "- [FastText](https://fasttext.cc/)\n",
    "- [Get FastText representation from pretrained embeddings with subword information](http://christopher5106.github.io/deep/learning/2020/04/02/fasttext_pretrained_embeddings_subword_word_representations.html)\n",
    "- [The Ultimate Guide to Word Embeddings](https://neptune.ai/blog/word-embeddings-guide)"
   ]
  },
  {
   "cell_type": "markdown",
   "id": "6aab5401",
   "metadata": {},
   "source": []
  }
 ],
 "metadata": {
  "kernelspec": {
   "display_name": "Python 3.8.12 ('base')",
   "language": "python",
   "name": "python3"
  },
  "language_info": {
   "name": "python",
   "version": "3.8.12"
  },
  "vscode": {
   "interpreter": {
    "hash": "d4d1e4263499bec80672ea0156c357c1ee493ec2b1c70f0acce89fc37c4a6abe"
   }
  }
 },
 "nbformat": 4,
 "nbformat_minor": 5
}
