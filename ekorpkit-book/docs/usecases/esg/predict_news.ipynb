{
 "cells": [
  {
   "cell_type": "markdown",
   "metadata": {
    "id": "cjgz1WTcPWee",
    "pycharm": {
     "name": "#%% md\n"
    }
   },
   "source": [
    "# Predicting ESG Categories and Polarities"
   ]
  },
  {
   "cell_type": "code",
   "execution_count": 1,
   "metadata": {
    "id": "BzxPwsOVPWef",
    "pycharm": {
     "name": "#%%\n"
    }
   },
   "outputs": [
    {
     "name": "stderr",
     "output_type": "stream",
     "text": [
      "INFO:ekorpkit.base:Setting cuda device to ['A100-SXM4-40GB (id:0)']\n"
     ]
    },
    {
     "name": "stdout",
     "output_type": "stream",
     "text": [
      "version: 0.1.38+26.g3d56094\n",
      "is notebook? True\n",
      "is colab? False\n",
      "environment variables:\n",
      "{'CUDA_DEVICE_ORDER': 'PCI_BUS_ID',\n",
      " 'CUDA_VISIBLE_DEVICES': '0',\n",
      " 'EKORPKIT_CONFIG_DIR': '/workspace/projects/ekorpkit-book/config',\n",
      " 'EKORPKIT_DATA_DIR': None,\n",
      " 'EKORPKIT_LOG_LEVEL': 'WARNING',\n",
      " 'EKORPKIT_PROJECT': 'ekorpkit-book',\n",
      " 'EKORPKIT_WORKSPACE_ROOT': '/workspace',\n",
      " 'KMP_DUPLICATE_LIB_OK': 'TRUE',\n",
      " 'NUM_WORKERS': 230}\n"
     ]
    }
   ],
   "source": [
    "from ekorpkit import eKonf\n",
    "\n",
    "eKonf.setLogger(\"WARNING\")\n",
    "eKonf.set_cuda(device=0)\n",
    "print(\"version:\", eKonf.__version__)\n",
    "print(\"is notebook?\", eKonf.is_notebook())\n",
    "print(\"is colab?\", eKonf.is_colab())\n",
    "print(\"environment variables:\")\n",
    "eKonf.print(eKonf.env().dict())"
   ]
  },
  {
   "cell_type": "code",
   "execution_count": 2,
   "metadata": {
    "pycharm": {
     "name": "#%%\n"
    },
    "tags": [
     "hide-cell"
    ]
   },
   "outputs": [],
   "source": [
    "data_dir = \"../data/econ_news_kr\"\n"
   ]
  },
  {
   "cell_type": "markdown",
   "metadata": {
    "id": "zpdqyeyPPWek",
    "pycharm": {
     "name": "#%% md\n"
    }
   },
   "source": [
    "## Load data"
   ]
  },
  {
   "cell_type": "code",
   "execution_count": 3,
   "metadata": {
    "colab": {
     "base_uri": "https://localhost:8080/"
    },
    "id": "DFsykazvPWel",
    "outputId": "7ab40ae7-42ba-4b6c-f0da-908c6d45ddb9",
    "pycharm": {
     "name": "#%%\n"
    }
   },
   "outputs": [
    {
     "data": {
      "text/html": [
       "<div>\n",
       "<style scoped>\n",
       "    .dataframe tbody tr th:only-of-type {\n",
       "        vertical-align: middle;\n",
       "    }\n",
       "\n",
       "    .dataframe tbody tr th {\n",
       "        vertical-align: top;\n",
       "    }\n",
       "\n",
       "    .dataframe thead th {\n",
       "        text-align: right;\n",
       "    }\n",
       "</style>\n",
       "<table border=\"1\" class=\"dataframe\">\n",
       "  <thead>\n",
       "    <tr style=\"text-align: right;\">\n",
       "      <th></th>\n",
       "      <th>id</th>\n",
       "      <th>chunk_id</th>\n",
       "      <th>text</th>\n",
       "      <th>filename</th>\n",
       "    </tr>\n",
       "  </thead>\n",
       "  <tbody>\n",
       "    <tr>\n",
       "      <th>0</th>\n",
       "      <td>11</td>\n",
       "      <td>0</td>\n",
       "      <td>문재인 대통령이 지난해 전용차로 선택한 수소전기차 '넥쏘'가 중·장년층 남성들로부터...</td>\n",
       "      <td>02100101.20201101113442001.txt</td>\n",
       "    </tr>\n",
       "    <tr>\n",
       "      <th>1</th>\n",
       "      <td>11</td>\n",
       "      <td>1</td>\n",
       "      <td>넥쏘는 국내 뿐만 아니라 해외에서도 코로나19 확산 여파를 이겨내고 질주하고 있다....</td>\n",
       "      <td>02100101.20201101113442001.txt</td>\n",
       "    </tr>\n",
       "    <tr>\n",
       "      <th>2</th>\n",
       "      <td>19</td>\n",
       "      <td>0</td>\n",
       "      <td>LG전자는 국내 최대 쇼핑 행사 ‘2020 코리아세일페스타’에 맞춰 11월 1일부터...</td>\n",
       "      <td>02100101.20201101125903001.txt</td>\n",
       "    </tr>\n",
       "    <tr>\n",
       "      <th>3</th>\n",
       "      <td>20</td>\n",
       "      <td>0</td>\n",
       "      <td>SK는 그룹 8개 관계사가 한국 최초로 ‘RE100’에 가입한다고 1일 밝혔다.\\n...</td>\n",
       "      <td>02100101.20201101130118001.txt</td>\n",
       "    </tr>\n",
       "    <tr>\n",
       "      <th>4</th>\n",
       "      <td>20</td>\n",
       "      <td>1</td>\n",
       "      <td>SK 8개사가 신청서를 제출하면 더 클라이밋 그룹의 검토를 거친 후 가입이 최종 확...</td>\n",
       "      <td>02100101.20201101130118001.txt</td>\n",
       "    </tr>\n",
       "    <tr>\n",
       "      <th>...</th>\n",
       "      <td>...</td>\n",
       "      <td>...</td>\n",
       "      <td>...</td>\n",
       "      <td>...</td>\n",
       "    </tr>\n",
       "    <tr>\n",
       "      <th>160582</th>\n",
       "      <td>1090535</td>\n",
       "      <td>1</td>\n",
       "      <td>업종별로 하락한 업종은 운수창고(-1.22%), 운수장비(-1.12%), 전기전자(...</td>\n",
       "      <td>02100851.20220228093428001.txt</td>\n",
       "    </tr>\n",
       "    <tr>\n",
       "      <th>160583</th>\n",
       "      <td>1090566</td>\n",
       "      <td>0</td>\n",
       "      <td>[회사채 미매각 현황]\\n회사채 시장에 미매각이 속출하고 있다. 현재 연 1.25%...</td>\n",
       "      <td>02100851.20220228103653001.txt</td>\n",
       "    </tr>\n",
       "    <tr>\n",
       "      <th>160584</th>\n",
       "      <td>1090566</td>\n",
       "      <td>1</td>\n",
       "      <td>하지만 가뜩이나 악화된 회사채 시장 분위기에 사고 소식까지 전해지면서 아무도 수요예...</td>\n",
       "      <td>02100851.20220228103653001.txt</td>\n",
       "    </tr>\n",
       "    <tr>\n",
       "      <th>160585</th>\n",
       "      <td>1090566</td>\n",
       "      <td>2</td>\n",
       "      <td>이에 채권시장에서 자금을 운용하는 각 증권사들의 부담이 커지고 있다. 대부분이 총액...</td>\n",
       "      <td>02100851.20220228103653001.txt</td>\n",
       "    </tr>\n",
       "    <tr>\n",
       "      <th>160586</th>\n",
       "      <td>1090615</td>\n",
       "      <td>0</td>\n",
       "      <td>[사진=아주경제 DB]\\n우크라이나와 러시아가 협상 테이블을 마련한다는 소식에 국내...</td>\n",
       "      <td>02100851.20220228154344001.txt</td>\n",
       "    </tr>\n",
       "  </tbody>\n",
       "</table>\n",
       "<p>160587 rows × 4 columns</p>\n",
       "</div>"
      ],
      "text/plain": [
       "             id  chunk_id                                               text  \\\n",
       "0            11         0  문재인 대통령이 지난해 전용차로 선택한 수소전기차 '넥쏘'가 중·장년층 남성들로부터...   \n",
       "1            11         1  넥쏘는 국내 뿐만 아니라 해외에서도 코로나19 확산 여파를 이겨내고 질주하고 있다....   \n",
       "2            19         0  LG전자는 국내 최대 쇼핑 행사 ‘2020 코리아세일페스타’에 맞춰 11월 1일부터...   \n",
       "3            20         0  SK는 그룹 8개 관계사가 한국 최초로 ‘RE100’에 가입한다고 1일 밝혔다.\\n...   \n",
       "4            20         1  SK 8개사가 신청서를 제출하면 더 클라이밋 그룹의 검토를 거친 후 가입이 최종 확...   \n",
       "...         ...       ...                                                ...   \n",
       "160582  1090535         1  업종별로 하락한 업종은 운수창고(-1.22%), 운수장비(-1.12%), 전기전자(...   \n",
       "160583  1090566         0  [회사채 미매각 현황]\\n회사채 시장에 미매각이 속출하고 있다. 현재 연 1.25%...   \n",
       "160584  1090566         1  하지만 가뜩이나 악화된 회사채 시장 분위기에 사고 소식까지 전해지면서 아무도 수요예...   \n",
       "160585  1090566         2  이에 채권시장에서 자금을 운용하는 각 증권사들의 부담이 커지고 있다. 대부분이 총액...   \n",
       "160586  1090615         0  [사진=아주경제 DB]\\n우크라이나와 러시아가 협상 테이블을 마련한다는 소식에 국내...   \n",
       "\n",
       "                              filename  \n",
       "0       02100101.20201101113442001.txt  \n",
       "1       02100101.20201101113442001.txt  \n",
       "2       02100101.20201101125903001.txt  \n",
       "3       02100101.20201101130118001.txt  \n",
       "4       02100101.20201101130118001.txt  \n",
       "...                                ...  \n",
       "160582  02100851.20220228093428001.txt  \n",
       "160583  02100851.20220228103653001.txt  \n",
       "160584  02100851.20220228103653001.txt  \n",
       "160585  02100851.20220228103653001.txt  \n",
       "160586  02100851.20220228154344001.txt  \n",
       "\n",
       "[160587 rows x 4 columns]"
      ]
     },
     "execution_count": 3,
     "metadata": {},
     "output_type": "execute_result"
    }
   ],
   "source": [
    "filtered_data = eKonf.load_data(\"econ_news_filtered_20220905.parquet\", data_dir)\n",
    "filtered_data"
   ]
  },
  {
   "cell_type": "code",
   "execution_count": 4,
   "metadata": {
    "pycharm": {
     "name": "#%%\n"
    }
   },
   "outputs": [
    {
     "data": {
      "text/plain": [
       "'특히 반도체산업 회복 기대감이 높다. 삼성전자와 SK하이닉스는 코스피 시가총액 25%를 차지한다. 삼성전자는 내년 영업이익이 46조원대로 올해 대비 25% 이상 증가할 것이라는 전망이 나온다. 같은 기간 SK하이닉스 영업이익은 8조3000억원대로 70% 넘게 늘어날 듯 보인다.\\n김용구 삼성증권 애널리스트는 “내년 국내 증시는 역사적 신고가 돌파에 나서는 대세 상승장 시작점에 해당된다”고 밝혔다. 근거는 ▲수출 실적 정상화 ▲전 세계적인 경기 부양 정책 환경 ▲외국인과 개인 수급 선순환 구도 본격화다.\\nKB증권이 내세운 희망 키워드는 생산과 투자 회복이다. 선진국 소비는 코로나 팬데믹 이전을 넘어섰으나 생산은 아직 절반밖에 회복하지 못했기 때문에 내년 생산 증가를 기대해볼 만하다는 분석이다. 신동준 KB증권 리서치센터장은 “한국 기업이익은 올해 상반기 줄어들고 하반기 늘어나는 양상을 보였다”며 “내년 성장폭은 작아도 이익 정상화는 충분히 가능하다”고 봤다.\\n신지윤 KTB투자증권 리서치센터장은 “저금리, 재정확장 정책, 원화 강세 현상은 증시로 자금을 끌어모으는 요인”이라며 “삼성전자와 현대차 등 대형주 실적이 좋아 주가 상승을 기대해볼 만하다”고 말했다. 명쾌하게 결론은 안 났지만 美 대선 불확실성을 벗어났다는 점도 호재로 평가된다.'"
      ]
     },
     "execution_count": 4,
     "metadata": {},
     "output_type": "execute_result"
    }
   ],
   "source": [
    "filtered_data.text[222]"
   ]
  },
  {
   "cell_type": "code",
   "execution_count": 5,
   "metadata": {},
   "outputs": [
    {
     "data": {
      "text/html": [
       "<div>\n",
       "<style scoped>\n",
       "    .dataframe tbody tr th:only-of-type {\n",
       "        vertical-align: middle;\n",
       "    }\n",
       "\n",
       "    .dataframe tbody tr th {\n",
       "        vertical-align: top;\n",
       "    }\n",
       "\n",
       "    .dataframe thead th {\n",
       "        text-align: right;\n",
       "    }\n",
       "</style>\n",
       "<table border=\"1\" class=\"dataframe\">\n",
       "  <thead>\n",
       "    <tr style=\"text-align: right;\">\n",
       "      <th></th>\n",
       "      <th>id</th>\n",
       "      <th>chunk_id</th>\n",
       "      <th>text</th>\n",
       "      <th>filename</th>\n",
       "    </tr>\n",
       "  </thead>\n",
       "  <tbody>\n",
       "    <tr>\n",
       "      <th>58469</th>\n",
       "      <td>385724</td>\n",
       "      <td>0</td>\n",
       "      <td>[머니투데이 박소연 기자] [당장 유동성보다는 전 세계 수요·구매력 감소가 더 큰 ...</td>\n",
       "      <td>02100201.20200323170208001.txt</td>\n",
       "    </tr>\n",
       "    <tr>\n",
       "      <th>58470</th>\n",
       "      <td>385724</td>\n",
       "      <td>1</td>\n",
       "      <td>국내 전자업계는 공장이 한국과 중국, 베트남 지역에 있어 북미나 유럽발 셧다운으로 ...</td>\n",
       "      <td>02100201.20200323170208001.txt</td>\n",
       "    </tr>\n",
       "  </tbody>\n",
       "</table>\n",
       "</div>"
      ],
      "text/plain": [
       "           id  chunk_id                                               text  \\\n",
       "58469  385724         0  [머니투데이 박소연 기자] [당장 유동성보다는 전 세계 수요·구매력 감소가 더 큰 ...   \n",
       "58470  385724         1  국내 전자업계는 공장이 한국과 중국, 베트남 지역에 있어 북미나 유럽발 셧다운으로 ...   \n",
       "\n",
       "                             filename  \n",
       "58469  02100201.20200323170208001.txt  \n",
       "58470  02100201.20200323170208001.txt  "
      ]
     },
     "execution_count": 5,
     "metadata": {},
     "output_type": "execute_result"
    }
   ],
   "source": [
    "filtered_data[filtered_data.filename == \"02100201.20200323170208001.txt\"]"
   ]
  },
  {
   "cell_type": "markdown",
   "metadata": {
    "pycharm": {
     "name": "#%% md\n"
    }
   },
   "source": [
    "## Predicting polarities"
   ]
  },
  {
   "cell_type": "code",
   "execution_count": 6,
   "metadata": {
    "pycharm": {
     "name": "#%%\n"
    }
   },
   "outputs": [],
   "source": [
    "overrides=[\n",
    "    '+model/transformer=classification',\n",
    "    '+model/transformer/pretrained=ekonelectra-base',\n",
    "]\n",
    "model_cfg = eKonf.compose('model/transformer=classification', overrides)\n",
    "model_cfg.name = \"esg_polarity\"\n",
    "model_cfg.verbose = False\n",
    "model_cfg.config.num_train_epochs = 2\n",
    "model_cfg.config.max_seq_length = 256\n",
    "model_cfg.config.train_batch_size = 32\n",
    "model_cfg.config.eval_batch_size = 32\n"
   ]
  },
  {
   "cell_type": "code",
   "execution_count": 7,
   "metadata": {
    "pycharm": {
     "name": "#%%\n"
    }
   },
   "outputs": [
    {
     "name": "stderr",
     "output_type": "stream",
     "text": [
      "INFO:ekorpkit.base:Loaded .env from /workspace/projects/ekorpkit-book/config/.env\n",
      "INFO:ekorpkit.base:setting environment variable CACHED_PATH_CACHE_ROOT to /workspace/.cache/cached_path\n",
      "INFO:ekorpkit.base:setting environment variable KMP_DUPLICATE_LIB_OK to TRUE\n",
      "INFO:ekorpkit.base:Applying pipe: functools.partial(<function predict at 0x7f1029331f70>)\n",
      "INFO:ekorpkit.base:No method defined to call\n"
     ]
    },
    {
     "data": {
      "application/json": {
       "ascii": false,
       "bar_format": null,
       "colour": null,
       "elapsed": 0.014854192733764648,
       "initial": 0,
       "n": 0,
       "ncols": null,
       "nrows": null,
       "postfix": null,
       "prefix": "",
       "rate": null,
       "total": 160587,
       "unit": "it",
       "unit_divisor": 1000,
       "unit_scale": false
      },
      "application/vnd.jupyter.widget-view+json": {
       "model_id": "f3238d38bcb940b691c28b15d8565da6",
       "version_major": 2,
       "version_minor": 0
      },
      "text/plain": [
       "  0%|          | 0/160587 [00:00<?, ?it/s]"
      ]
     },
     "metadata": {},
     "output_type": "display_data"
    },
    {
     "name": "stderr",
     "output_type": "stream",
     "text": [
      "Token indices sequence length is longer than the specified maximum sequence length for this model (552 > 512). Running this sequence through the model will result in indexing errors\n"
     ]
    },
    {
     "data": {
      "application/json": {
       "ascii": false,
       "bar_format": null,
       "colour": null,
       "elapsed": 0.11864852905273438,
       "initial": 0,
       "n": 0,
       "ncols": null,
       "nrows": null,
       "postfix": null,
       "prefix": "",
       "rate": null,
       "total": 10480,
       "unit": "it",
       "unit_divisor": 1000,
       "unit_scale": false
      },
      "application/vnd.jupyter.widget-view+json": {
       "model_id": "b5b99d346a474413a20dc312fc727d5f",
       "version_major": 2,
       "version_minor": 0
      },
      "text/plain": [
       "  0%|          | 0/10480 [00:00<?, ?it/s]"
      ]
     },
     "metadata": {},
     "output_type": "display_data"
    },
    {
     "data": {
      "text/html": [
       "<div>\n",
       "<style scoped>\n",
       "    .dataframe tbody tr th:only-of-type {\n",
       "        vertical-align: middle;\n",
       "    }\n",
       "\n",
       "    .dataframe tbody tr th {\n",
       "        vertical-align: top;\n",
       "    }\n",
       "\n",
       "    .dataframe thead th {\n",
       "        text-align: right;\n",
       "    }\n",
       "</style>\n",
       "<table border=\"1\" class=\"dataframe\">\n",
       "  <thead>\n",
       "    <tr style=\"text-align: right;\">\n",
       "      <th></th>\n",
       "      <th>id</th>\n",
       "      <th>chunk_id</th>\n",
       "      <th>text</th>\n",
       "      <th>filename</th>\n",
       "      <th>pred_labels</th>\n",
       "      <th>raw_preds</th>\n",
       "      <th>pred_probs</th>\n",
       "    </tr>\n",
       "  </thead>\n",
       "  <tbody>\n",
       "    <tr>\n",
       "      <th>0</th>\n",
       "      <td>11</td>\n",
       "      <td>0</td>\n",
       "      <td>문재인 대통령이 지난해 전용차로 선택한 수소전기차 '넥쏘'가 중·장년층 남성들로부터...</td>\n",
       "      <td>02100101.20201101113442001.txt</td>\n",
       "      <td>Positive</td>\n",
       "      <td>{'Negative': 0.003234388916771163, 'Neutral': ...</td>\n",
       "      <td>0.320464</td>\n",
       "    </tr>\n",
       "    <tr>\n",
       "      <th>1</th>\n",
       "      <td>11</td>\n",
       "      <td>1</td>\n",
       "      <td>넥쏘는 국내 뿐만 아니라 해외에서도 코로나19 확산 여파를 이겨내고 질주하고 있다....</td>\n",
       "      <td>02100101.20201101113442001.txt</td>\n",
       "      <td>Positive</td>\n",
       "      <td>{'Negative': 0.005179156956969719, 'Neutral': ...</td>\n",
       "      <td>0.463171</td>\n",
       "    </tr>\n",
       "    <tr>\n",
       "      <th>2</th>\n",
       "      <td>19</td>\n",
       "      <td>0</td>\n",
       "      <td>LG전자는 국내 최대 쇼핑 행사 ‘2020 코리아세일페스타’에 맞춰 11월 1일부터...</td>\n",
       "      <td>02100101.20201101125903001.txt</td>\n",
       "      <td>Positive</td>\n",
       "      <td>{'Negative': 0.0022622254938860858, 'Neutral':...</td>\n",
       "      <td>0.293573</td>\n",
       "    </tr>\n",
       "    <tr>\n",
       "      <th>3</th>\n",
       "      <td>20</td>\n",
       "      <td>0</td>\n",
       "      <td>SK는 그룹 8개 관계사가 한국 최초로 ‘RE100’에 가입한다고 1일 밝혔다.\\n...</td>\n",
       "      <td>02100101.20201101130118001.txt</td>\n",
       "      <td>Positive</td>\n",
       "      <td>{'Negative': 0.003873849489889034, 'Neutral': ...</td>\n",
       "      <td>0.457221</td>\n",
       "    </tr>\n",
       "    <tr>\n",
       "      <th>4</th>\n",
       "      <td>20</td>\n",
       "      <td>1</td>\n",
       "      <td>SK 8개사가 신청서를 제출하면 더 클라이밋 그룹의 검토를 거친 후 가입이 최종 확...</td>\n",
       "      <td>02100101.20201101130118001.txt</td>\n",
       "      <td>Positive</td>\n",
       "      <td>{'Negative': 0.0033662562749769104, 'Neutral':...</td>\n",
       "      <td>0.387810</td>\n",
       "    </tr>\n",
       "  </tbody>\n",
       "</table>\n",
       "</div>"
      ],
      "text/plain": [
       "   id  chunk_id                                               text  \\\n",
       "0  11         0  문재인 대통령이 지난해 전용차로 선택한 수소전기차 '넥쏘'가 중·장년층 남성들로부터...   \n",
       "1  11         1  넥쏘는 국내 뿐만 아니라 해외에서도 코로나19 확산 여파를 이겨내고 질주하고 있다....   \n",
       "2  19         0  LG전자는 국내 최대 쇼핑 행사 ‘2020 코리아세일페스타’에 맞춰 11월 1일부터...   \n",
       "3  20         0  SK는 그룹 8개 관계사가 한국 최초로 ‘RE100’에 가입한다고 1일 밝혔다.\\n...   \n",
       "4  20         1  SK 8개사가 신청서를 제출하면 더 클라이밋 그룹의 검토를 거친 후 가입이 최종 확...   \n",
       "\n",
       "                         filename pred_labels  \\\n",
       "0  02100101.20201101113442001.txt    Positive   \n",
       "1  02100101.20201101113442001.txt    Positive   \n",
       "2  02100101.20201101125903001.txt    Positive   \n",
       "3  02100101.20201101130118001.txt    Positive   \n",
       "4  02100101.20201101130118001.txt    Positive   \n",
       "\n",
       "                                           raw_preds  pred_probs  \n",
       "0  {'Negative': 0.003234388916771163, 'Neutral': ...    0.320464  \n",
       "1  {'Negative': 0.005179156956969719, 'Neutral': ...    0.463171  \n",
       "2  {'Negative': 0.0022622254938860858, 'Neutral':...    0.293573  \n",
       "3  {'Negative': 0.003873849489889034, 'Neutral': ...    0.457221  \n",
       "4  {'Negative': 0.0033662562749769104, 'Neutral':...    0.387810  "
      ]
     },
     "execution_count": 7,
     "metadata": {},
     "output_type": "execute_result"
    }
   ],
   "source": [
    "cfg = eKonf.compose(config_group='pipeline')\n",
    "cfg.name = 'esg_polarities_20220905'\n",
    "cfg.data_dir = data_dir\n",
    "cfg.data_file = 'econ_news_filtered_20220905.parquet'\n",
    "cfg._pipeline_ = ['predict']\n",
    "cfg.predict.model = model_cfg\n",
    "cfg.predict.output_dir = data_dir\n",
    "cfg.predict.output_file = f'{cfg.name}-preds.parquet'\n",
    "cfg.num_workers = 1\n",
    "preds_df = eKonf.instantiate(cfg)\n",
    "preds_df.head()"
   ]
  },
  {
   "cell_type": "markdown",
   "metadata": {
    "pycharm": {
     "name": "#%% md\n"
    }
   },
   "source": [
    "## Predicting categories"
   ]
  },
  {
   "cell_type": "code",
   "execution_count": 8,
   "metadata": {
    "pycharm": {
     "name": "#%%\n"
    }
   },
   "outputs": [],
   "source": [
    "overrides=[\n",
    "    '+model/transformer=classification',\n",
    "    '+model/transformer/pretrained=ekonelectra-base',\n",
    "]\n",
    "model_cfg = eKonf.compose('model/transformer=classification', overrides)\n",
    "model_cfg.name = \"esg_topics\"\n",
    "model_cfg.verbose = False\n",
    "model_cfg.config.num_train_epochs = 2\n",
    "model_cfg.config.max_seq_length = 256\n",
    "model_cfg.config.train_batch_size = 32\n",
    "model_cfg.config.eval_batch_size = 32\n"
   ]
  },
  {
   "cell_type": "code",
   "execution_count": 9,
   "metadata": {
    "pycharm": {
     "name": "#%%\n"
    }
   },
   "outputs": [
    {
     "name": "stderr",
     "output_type": "stream",
     "text": [
      "INFO:ekorpkit.base:Applying pipe: functools.partial(<function predict at 0x7f1029331f70>)\n",
      "INFO:ekorpkit.base:No method defined to call\n"
     ]
    },
    {
     "data": {
      "application/json": {
       "ascii": false,
       "bar_format": null,
       "colour": null,
       "elapsed": 0.01371002197265625,
       "initial": 0,
       "n": 0,
       "ncols": null,
       "nrows": null,
       "postfix": null,
       "prefix": "",
       "rate": null,
       "total": 160587,
       "unit": "it",
       "unit_divisor": 1000,
       "unit_scale": false
      },
      "application/vnd.jupyter.widget-view+json": {
       "model_id": "23bf2075f8f8434a961c2ef261af1521",
       "version_major": 2,
       "version_minor": 0
      },
      "text/plain": [
       "  0%|          | 0/160587 [00:00<?, ?it/s]"
      ]
     },
     "metadata": {},
     "output_type": "display_data"
    },
    {
     "name": "stderr",
     "output_type": "stream",
     "text": [
      "Token indices sequence length is longer than the specified maximum sequence length for this model (552 > 512). Running this sequence through the model will result in indexing errors\n"
     ]
    },
    {
     "data": {
      "application/json": {
       "ascii": false,
       "bar_format": null,
       "colour": null,
       "elapsed": 0.09775972366333008,
       "initial": 0,
       "n": 0,
       "ncols": null,
       "nrows": null,
       "postfix": null,
       "prefix": "",
       "rate": null,
       "total": 10480,
       "unit": "it",
       "unit_divisor": 1000,
       "unit_scale": false
      },
      "application/vnd.jupyter.widget-view+json": {
       "model_id": "7061aee0a26c42db8ac85c4fd75c6bdd",
       "version_major": 2,
       "version_minor": 0
      },
      "text/plain": [
       "  0%|          | 0/10480 [00:00<?, ?it/s]"
      ]
     },
     "metadata": {},
     "output_type": "display_data"
    },
    {
     "data": {
      "text/html": [
       "<div>\n",
       "<style scoped>\n",
       "    .dataframe tbody tr th:only-of-type {\n",
       "        vertical-align: middle;\n",
       "    }\n",
       "\n",
       "    .dataframe tbody tr th {\n",
       "        vertical-align: top;\n",
       "    }\n",
       "\n",
       "    .dataframe thead th {\n",
       "        text-align: right;\n",
       "    }\n",
       "</style>\n",
       "<table border=\"1\" class=\"dataframe\">\n",
       "  <thead>\n",
       "    <tr style=\"text-align: right;\">\n",
       "      <th></th>\n",
       "      <th>id</th>\n",
       "      <th>chunk_id</th>\n",
       "      <th>text</th>\n",
       "      <th>filename</th>\n",
       "      <th>pred_labels</th>\n",
       "      <th>raw_preds</th>\n",
       "      <th>pred_probs</th>\n",
       "    </tr>\n",
       "  </thead>\n",
       "  <tbody>\n",
       "    <tr>\n",
       "      <th>0</th>\n",
       "      <td>11</td>\n",
       "      <td>0</td>\n",
       "      <td>문재인 대통령이 지난해 전용차로 선택한 수소전기차 '넥쏘'가 중·장년층 남성들로부터...</td>\n",
       "      <td>02100101.20201101113442001.txt</td>\n",
       "      <td>E-환경혁신</td>\n",
       "      <td>{'S-기업(공급망)동반성장/상생': 0.0035235610749915036, 'G...</td>\n",
       "      <td>0.274359</td>\n",
       "    </tr>\n",
       "    <tr>\n",
       "      <th>1</th>\n",
       "      <td>11</td>\n",
       "      <td>1</td>\n",
       "      <td>넥쏘는 국내 뿐만 아니라 해외에서도 코로나19 확산 여파를 이겨내고 질주하고 있다....</td>\n",
       "      <td>02100101.20201101113442001.txt</td>\n",
       "      <td>E-환경혁신</td>\n",
       "      <td>{'S-기업(공급망)동반성장/상생': 0.00476169941298804, 'G-지...</td>\n",
       "      <td>0.385310</td>\n",
       "    </tr>\n",
       "    <tr>\n",
       "      <th>2</th>\n",
       "      <td>19</td>\n",
       "      <td>0</td>\n",
       "      <td>LG전자는 국내 최대 쇼핑 행사 ‘2020 코리아세일페스타’에 맞춰 11월 1일부터...</td>\n",
       "      <td>02100101.20201101125903001.txt</td>\n",
       "      <td>S-소비자</td>\n",
       "      <td>{'S-기업(공급망)동반성장/상생': 0.007591910869623802, 'G-...</td>\n",
       "      <td>0.393870</td>\n",
       "    </tr>\n",
       "    <tr>\n",
       "      <th>3</th>\n",
       "      <td>20</td>\n",
       "      <td>0</td>\n",
       "      <td>SK는 그룹 8개 관계사가 한국 최초로 ‘RE100’에 가입한다고 1일 밝혔다.\\n...</td>\n",
       "      <td>02100101.20201101130118001.txt</td>\n",
       "      <td>G-지배구조</td>\n",
       "      <td>{'S-기업(공급망)동반성장/상생': 0.00795168713418085, 'G-지...</td>\n",
       "      <td>0.316108</td>\n",
       "    </tr>\n",
       "    <tr>\n",
       "      <th>4</th>\n",
       "      <td>20</td>\n",
       "      <td>1</td>\n",
       "      <td>SK 8개사가 신청서를 제출하면 더 클라이밋 그룹의 검토를 거친 후 가입이 최종 확...</td>\n",
       "      <td>02100101.20201101130118001.txt</td>\n",
       "      <td>S-소비자</td>\n",
       "      <td>{'S-기업(공급망)동반성장/상생': 0.003973197078848794, 'G-...</td>\n",
       "      <td>0.269355</td>\n",
       "    </tr>\n",
       "  </tbody>\n",
       "</table>\n",
       "</div>"
      ],
      "text/plain": [
       "   id  chunk_id                                               text  \\\n",
       "0  11         0  문재인 대통령이 지난해 전용차로 선택한 수소전기차 '넥쏘'가 중·장년층 남성들로부터...   \n",
       "1  11         1  넥쏘는 국내 뿐만 아니라 해외에서도 코로나19 확산 여파를 이겨내고 질주하고 있다....   \n",
       "2  19         0  LG전자는 국내 최대 쇼핑 행사 ‘2020 코리아세일페스타’에 맞춰 11월 1일부터...   \n",
       "3  20         0  SK는 그룹 8개 관계사가 한국 최초로 ‘RE100’에 가입한다고 1일 밝혔다.\\n...   \n",
       "4  20         1  SK 8개사가 신청서를 제출하면 더 클라이밋 그룹의 검토를 거친 후 가입이 최종 확...   \n",
       "\n",
       "                         filename pred_labels  \\\n",
       "0  02100101.20201101113442001.txt      E-환경혁신   \n",
       "1  02100101.20201101113442001.txt      E-환경혁신   \n",
       "2  02100101.20201101125903001.txt       S-소비자   \n",
       "3  02100101.20201101130118001.txt      G-지배구조   \n",
       "4  02100101.20201101130118001.txt       S-소비자   \n",
       "\n",
       "                                           raw_preds  pred_probs  \n",
       "0  {'S-기업(공급망)동반성장/상생': 0.0035235610749915036, 'G...    0.274359  \n",
       "1  {'S-기업(공급망)동반성장/상생': 0.00476169941298804, 'G-지...    0.385310  \n",
       "2  {'S-기업(공급망)동반성장/상생': 0.007591910869623802, 'G-...    0.393870  \n",
       "3  {'S-기업(공급망)동반성장/상생': 0.00795168713418085, 'G-지...    0.316108  \n",
       "4  {'S-기업(공급망)동반성장/상생': 0.003973197078848794, 'G-...    0.269355  "
      ]
     },
     "execution_count": 9,
     "metadata": {},
     "output_type": "execute_result"
    }
   ],
   "source": [
    "cfg = eKonf.compose(config_group='pipeline')\n",
    "cfg.name = 'esg_categories_20220905'\n",
    "cfg.data_dir = data_dir\n",
    "cfg.data_file = 'econ_news_filtered.parquet'\n",
    "cfg._pipeline_ = ['predict']\n",
    "cfg.predict.model = model_cfg\n",
    "cfg.predict.output_dir = data_dir\n",
    "cfg.predict.output_file = f'{cfg.name}-preds.parquet'\n",
    "cfg.num_workers = 1\n",
    "cat_preds_df = eKonf.instantiate(cfg)\n",
    "cat_preds_df.head()"
   ]
  },
  {
   "cell_type": "code",
   "execution_count": 12,
   "metadata": {
    "pycharm": {
     "name": "#%%\n"
    }
   },
   "outputs": [
    {
     "data": {
      "text/html": [
       "<div>\n",
       "<style scoped>\n",
       "    .dataframe tbody tr th:only-of-type {\n",
       "        vertical-align: middle;\n",
       "    }\n",
       "\n",
       "    .dataframe tbody tr th {\n",
       "        vertical-align: top;\n",
       "    }\n",
       "\n",
       "    .dataframe thead th {\n",
       "        text-align: right;\n",
       "    }\n",
       "</style>\n",
       "<table border=\"1\" class=\"dataframe\">\n",
       "  <thead>\n",
       "    <tr style=\"text-align: right;\">\n",
       "      <th></th>\n",
       "      <th>id</th>\n",
       "      <th>chunk_id</th>\n",
       "      <th>text</th>\n",
       "      <th>filename</th>\n",
       "      <th>pred_labels</th>\n",
       "      <th>raw_preds</th>\n",
       "      <th>pred_probs</th>\n",
       "    </tr>\n",
       "  </thead>\n",
       "  <tbody>\n",
       "    <tr>\n",
       "      <th>0</th>\n",
       "      <td>11</td>\n",
       "      <td>0</td>\n",
       "      <td>문재인 대통령이 지난해 전용차로 선택한 수소전기차 '넥쏘'가 중·장년층 남성들로부터...</td>\n",
       "      <td>02100101.20201101113442001.txt</td>\n",
       "      <td>Positive</td>\n",
       "      <td>{'Negative': 0.003234388916771163, 'Neutral': ...</td>\n",
       "      <td>0.320464</td>\n",
       "    </tr>\n",
       "    <tr>\n",
       "      <th>1</th>\n",
       "      <td>11</td>\n",
       "      <td>1</td>\n",
       "      <td>넥쏘는 국내 뿐만 아니라 해외에서도 코로나19 확산 여파를 이겨내고 질주하고 있다....</td>\n",
       "      <td>02100101.20201101113442001.txt</td>\n",
       "      <td>Positive</td>\n",
       "      <td>{'Negative': 0.005179156956969719, 'Neutral': ...</td>\n",
       "      <td>0.463171</td>\n",
       "    </tr>\n",
       "    <tr>\n",
       "      <th>2</th>\n",
       "      <td>19</td>\n",
       "      <td>0</td>\n",
       "      <td>LG전자는 국내 최대 쇼핑 행사 ‘2020 코리아세일페스타’에 맞춰 11월 1일부터...</td>\n",
       "      <td>02100101.20201101125903001.txt</td>\n",
       "      <td>Positive</td>\n",
       "      <td>{'Negative': 0.0022622254938860858, 'Neutral':...</td>\n",
       "      <td>0.293573</td>\n",
       "    </tr>\n",
       "    <tr>\n",
       "      <th>3</th>\n",
       "      <td>20</td>\n",
       "      <td>0</td>\n",
       "      <td>SK는 그룹 8개 관계사가 한국 최초로 ‘RE100’에 가입한다고 1일 밝혔다.\\n...</td>\n",
       "      <td>02100101.20201101130118001.txt</td>\n",
       "      <td>Positive</td>\n",
       "      <td>{'Negative': 0.003873849489889034, 'Neutral': ...</td>\n",
       "      <td>0.457221</td>\n",
       "    </tr>\n",
       "    <tr>\n",
       "      <th>4</th>\n",
       "      <td>20</td>\n",
       "      <td>1</td>\n",
       "      <td>SK 8개사가 신청서를 제출하면 더 클라이밋 그룹의 검토를 거친 후 가입이 최종 확...</td>\n",
       "      <td>02100101.20201101130118001.txt</td>\n",
       "      <td>Positive</td>\n",
       "      <td>{'Negative': 0.0033662562749769104, 'Neutral':...</td>\n",
       "      <td>0.387810</td>\n",
       "    </tr>\n",
       "    <tr>\n",
       "      <th>...</th>\n",
       "      <td>...</td>\n",
       "      <td>...</td>\n",
       "      <td>...</td>\n",
       "      <td>...</td>\n",
       "      <td>...</td>\n",
       "      <td>...</td>\n",
       "      <td>...</td>\n",
       "    </tr>\n",
       "    <tr>\n",
       "      <th>160582</th>\n",
       "      <td>1090535</td>\n",
       "      <td>1</td>\n",
       "      <td>업종별로 하락한 업종은 운수창고(-1.22%), 운수장비(-1.12%), 전기전자(...</td>\n",
       "      <td>02100851.20220228093428001.txt</td>\n",
       "      <td>Neutral</td>\n",
       "      <td>{'Negative': 0.021272389449621617, 'Neutral': ...</td>\n",
       "      <td>0.558927</td>\n",
       "    </tr>\n",
       "    <tr>\n",
       "      <th>160583</th>\n",
       "      <td>1090566</td>\n",
       "      <td>0</td>\n",
       "      <td>[회사채 미매각 현황]\\n회사채 시장에 미매각이 속출하고 있다. 현재 연 1.25%...</td>\n",
       "      <td>02100851.20220228103653001.txt</td>\n",
       "      <td>Negative</td>\n",
       "      <td>{'Negative': 0.3028968002392749, 'Neutral': 0....</td>\n",
       "      <td>0.302897</td>\n",
       "    </tr>\n",
       "    <tr>\n",
       "      <th>160584</th>\n",
       "      <td>1090566</td>\n",
       "      <td>1</td>\n",
       "      <td>하지만 가뜩이나 악화된 회사채 시장 분위기에 사고 소식까지 전해지면서 아무도 수요예...</td>\n",
       "      <td>02100851.20220228103653001.txt</td>\n",
       "      <td>Negative</td>\n",
       "      <td>{'Negative': 0.21217251856446653, 'Neutral': 0...</td>\n",
       "      <td>0.227077</td>\n",
       "    </tr>\n",
       "    <tr>\n",
       "      <th>160585</th>\n",
       "      <td>1090566</td>\n",
       "      <td>2</td>\n",
       "      <td>이에 채권시장에서 자금을 운용하는 각 증권사들의 부담이 커지고 있다. 대부분이 총액...</td>\n",
       "      <td>02100851.20220228103653001.txt</td>\n",
       "      <td>Neutral</td>\n",
       "      <td>{'Negative': 0.16820714620311472, 'Neutral': 0...</td>\n",
       "      <td>0.807850</td>\n",
       "    </tr>\n",
       "    <tr>\n",
       "      <th>160586</th>\n",
       "      <td>1090615</td>\n",
       "      <td>0</td>\n",
       "      <td>[사진=아주경제 DB]\\n우크라이나와 러시아가 협상 테이블을 마련한다는 소식에 국내...</td>\n",
       "      <td>02100851.20220228154344001.txt</td>\n",
       "      <td>Neutral</td>\n",
       "      <td>{'Negative': 0.0016530643290730905, 'Neutral':...</td>\n",
       "      <td>0.287802</td>\n",
       "    </tr>\n",
       "  </tbody>\n",
       "</table>\n",
       "<p>160587 rows × 7 columns</p>\n",
       "</div>"
      ],
      "text/plain": [
       "             id  chunk_id                                               text  \\\n",
       "0            11         0  문재인 대통령이 지난해 전용차로 선택한 수소전기차 '넥쏘'가 중·장년층 남성들로부터...   \n",
       "1            11         1  넥쏘는 국내 뿐만 아니라 해외에서도 코로나19 확산 여파를 이겨내고 질주하고 있다....   \n",
       "2            19         0  LG전자는 국내 최대 쇼핑 행사 ‘2020 코리아세일페스타’에 맞춰 11월 1일부터...   \n",
       "3            20         0  SK는 그룹 8개 관계사가 한국 최초로 ‘RE100’에 가입한다고 1일 밝혔다.\\n...   \n",
       "4            20         1  SK 8개사가 신청서를 제출하면 더 클라이밋 그룹의 검토를 거친 후 가입이 최종 확...   \n",
       "...         ...       ...                                                ...   \n",
       "160582  1090535         1  업종별로 하락한 업종은 운수창고(-1.22%), 운수장비(-1.12%), 전기전자(...   \n",
       "160583  1090566         0  [회사채 미매각 현황]\\n회사채 시장에 미매각이 속출하고 있다. 현재 연 1.25%...   \n",
       "160584  1090566         1  하지만 가뜩이나 악화된 회사채 시장 분위기에 사고 소식까지 전해지면서 아무도 수요예...   \n",
       "160585  1090566         2  이에 채권시장에서 자금을 운용하는 각 증권사들의 부담이 커지고 있다. 대부분이 총액...   \n",
       "160586  1090615         0  [사진=아주경제 DB]\\n우크라이나와 러시아가 협상 테이블을 마련한다는 소식에 국내...   \n",
       "\n",
       "                              filename pred_labels  \\\n",
       "0       02100101.20201101113442001.txt    Positive   \n",
       "1       02100101.20201101113442001.txt    Positive   \n",
       "2       02100101.20201101125903001.txt    Positive   \n",
       "3       02100101.20201101130118001.txt    Positive   \n",
       "4       02100101.20201101130118001.txt    Positive   \n",
       "...                                ...         ...   \n",
       "160582  02100851.20220228093428001.txt     Neutral   \n",
       "160583  02100851.20220228103653001.txt    Negative   \n",
       "160584  02100851.20220228103653001.txt    Negative   \n",
       "160585  02100851.20220228103653001.txt     Neutral   \n",
       "160586  02100851.20220228154344001.txt     Neutral   \n",
       "\n",
       "                                                raw_preds  pred_probs  \n",
       "0       {'Negative': 0.003234388916771163, 'Neutral': ...    0.320464  \n",
       "1       {'Negative': 0.005179156956969719, 'Neutral': ...    0.463171  \n",
       "2       {'Negative': 0.0022622254938860858, 'Neutral':...    0.293573  \n",
       "3       {'Negative': 0.003873849489889034, 'Neutral': ...    0.457221  \n",
       "4       {'Negative': 0.0033662562749769104, 'Neutral':...    0.387810  \n",
       "...                                                   ...         ...  \n",
       "160582  {'Negative': 0.021272389449621617, 'Neutral': ...    0.558927  \n",
       "160583  {'Negative': 0.3028968002392749, 'Neutral': 0....    0.302897  \n",
       "160584  {'Negative': 0.21217251856446653, 'Neutral': 0...    0.227077  \n",
       "160585  {'Negative': 0.16820714620311472, 'Neutral': 0...    0.807850  \n",
       "160586  {'Negative': 0.0016530643290730905, 'Neutral':...    0.287802  \n",
       "\n",
       "[160587 rows x 7 columns]"
      ]
     },
     "execution_count": 12,
     "metadata": {},
     "output_type": "execute_result"
    }
   ],
   "source": [
    "polarity_preds_df = eKonf.load_data(\"esg_polarities_20220905-preds.parquet\", data_dir)\n",
    "polarity_preds_df"
   ]
  },
  {
   "cell_type": "code",
   "execution_count": 13,
   "metadata": {
    "pycharm": {
     "name": "#%%\n"
    }
   },
   "outputs": [
    {
     "data": {
      "text/html": [
       "<div>\n",
       "<style scoped>\n",
       "    .dataframe tbody tr th:only-of-type {\n",
       "        vertical-align: middle;\n",
       "    }\n",
       "\n",
       "    .dataframe tbody tr th {\n",
       "        vertical-align: top;\n",
       "    }\n",
       "\n",
       "    .dataframe thead th {\n",
       "        text-align: right;\n",
       "    }\n",
       "</style>\n",
       "<table border=\"1\" class=\"dataframe\">\n",
       "  <thead>\n",
       "    <tr style=\"text-align: right;\">\n",
       "      <th></th>\n",
       "      <th>id</th>\n",
       "      <th>chunk_id</th>\n",
       "      <th>text</th>\n",
       "      <th>filename</th>\n",
       "      <th>pred_labels</th>\n",
       "      <th>raw_preds</th>\n",
       "      <th>pred_probs</th>\n",
       "    </tr>\n",
       "  </thead>\n",
       "  <tbody>\n",
       "    <tr>\n",
       "      <th>0</th>\n",
       "      <td>11</td>\n",
       "      <td>0</td>\n",
       "      <td>문재인 대통령이 지난해 전용차로 선택한 수소전기차 '넥쏘'가 중·장년층 남성들로부터...</td>\n",
       "      <td>02100101.20201101113442001.txt</td>\n",
       "      <td>E-환경혁신</td>\n",
       "      <td>{'E-기후변화': 0.030596958199968844, 'E-환경영향': 0.0...</td>\n",
       "      <td>0.274359</td>\n",
       "    </tr>\n",
       "    <tr>\n",
       "      <th>1</th>\n",
       "      <td>11</td>\n",
       "      <td>1</td>\n",
       "      <td>넥쏘는 국내 뿐만 아니라 해외에서도 코로나19 확산 여파를 이겨내고 질주하고 있다....</td>\n",
       "      <td>02100101.20201101113442001.txt</td>\n",
       "      <td>E-환경혁신</td>\n",
       "      <td>{'E-기후변화': 0.06051763617022947, 'E-환경영향': 0.03...</td>\n",
       "      <td>0.385310</td>\n",
       "    </tr>\n",
       "    <tr>\n",
       "      <th>2</th>\n",
       "      <td>19</td>\n",
       "      <td>0</td>\n",
       "      <td>LG전자는 국내 최대 쇼핑 행사 ‘2020 코리아세일페스타’에 맞춰 11월 1일부터...</td>\n",
       "      <td>02100101.20201101125903001.txt</td>\n",
       "      <td>S-소비자</td>\n",
       "      <td>{'E-기후변화': 0.0021545055695108587, 'E-환경영향': 0....</td>\n",
       "      <td>0.393870</td>\n",
       "    </tr>\n",
       "    <tr>\n",
       "      <th>3</th>\n",
       "      <td>20</td>\n",
       "      <td>0</td>\n",
       "      <td>SK는 그룹 8개 관계사가 한국 최초로 ‘RE100’에 가입한다고 1일 밝혔다.\\n...</td>\n",
       "      <td>02100101.20201101130118001.txt</td>\n",
       "      <td>G-지배구조</td>\n",
       "      <td>{'E-기후변화': 0.03785571833286824, 'E-환경영향': 0.01...</td>\n",
       "      <td>0.316108</td>\n",
       "    </tr>\n",
       "    <tr>\n",
       "      <th>4</th>\n",
       "      <td>20</td>\n",
       "      <td>1</td>\n",
       "      <td>SK 8개사가 신청서를 제출하면 더 클라이밋 그룹의 검토를 거친 후 가입이 최종 확...</td>\n",
       "      <td>02100101.20201101130118001.txt</td>\n",
       "      <td>S-소비자</td>\n",
       "      <td>{'E-기후변화': 0.10284557588551027, 'E-환경영향': 0.03...</td>\n",
       "      <td>0.269355</td>\n",
       "    </tr>\n",
       "    <tr>\n",
       "      <th>...</th>\n",
       "      <td>...</td>\n",
       "      <td>...</td>\n",
       "      <td>...</td>\n",
       "      <td>...</td>\n",
       "      <td>...</td>\n",
       "      <td>...</td>\n",
       "      <td>...</td>\n",
       "    </tr>\n",
       "    <tr>\n",
       "      <th>160582</th>\n",
       "      <td>1090535</td>\n",
       "      <td>1</td>\n",
       "      <td>업종별로 하락한 업종은 운수창고(-1.22%), 운수장비(-1.12%), 전기전자(...</td>\n",
       "      <td>02100851.20220228093428001.txt</td>\n",
       "      <td>S-소비자</td>\n",
       "      <td>{'E-기후변화': 0.00907623428840548, 'E-환경영향': 0.00...</td>\n",
       "      <td>0.367147</td>\n",
       "    </tr>\n",
       "    <tr>\n",
       "      <th>160583</th>\n",
       "      <td>1090566</td>\n",
       "      <td>0</td>\n",
       "      <td>[회사채 미매각 현황]\\n회사채 시장에 미매각이 속출하고 있다. 현재 연 1.25%...</td>\n",
       "      <td>02100851.20220228103653001.txt</td>\n",
       "      <td>S-소비자</td>\n",
       "      <td>{'E-기후변화': 0.005465546001302883, 'E-환경영향': 0.0...</td>\n",
       "      <td>0.221578</td>\n",
       "    </tr>\n",
       "    <tr>\n",
       "      <th>160584</th>\n",
       "      <td>1090566</td>\n",
       "      <td>1</td>\n",
       "      <td>하지만 가뜩이나 악화된 회사채 시장 분위기에 사고 소식까지 전해지면서 아무도 수요예...</td>\n",
       "      <td>02100851.20220228103653001.txt</td>\n",
       "      <td>S-소비자</td>\n",
       "      <td>{'E-기후변화': 0.003758780272562501, 'E-환경영향': 0.0...</td>\n",
       "      <td>0.161850</td>\n",
       "    </tr>\n",
       "    <tr>\n",
       "      <th>160585</th>\n",
       "      <td>1090566</td>\n",
       "      <td>2</td>\n",
       "      <td>이에 채권시장에서 자금을 운용하는 각 증권사들의 부담이 커지고 있다. 대부분이 총액...</td>\n",
       "      <td>02100851.20220228103653001.txt</td>\n",
       "      <td>S-소비자</td>\n",
       "      <td>{'E-기후변화': 0.012670146350806367, 'E-환경영향': 0.0...</td>\n",
       "      <td>0.286236</td>\n",
       "    </tr>\n",
       "    <tr>\n",
       "      <th>160586</th>\n",
       "      <td>1090615</td>\n",
       "      <td>0</td>\n",
       "      <td>[사진=아주경제 DB]\\n우크라이나와 러시아가 협상 테이블을 마련한다는 소식에 국내...</td>\n",
       "      <td>02100851.20220228154344001.txt</td>\n",
       "      <td>S-소비자</td>\n",
       "      <td>{'E-기후변화': 0.004790073608287765, 'E-환경영향': 0.0...</td>\n",
       "      <td>0.234709</td>\n",
       "    </tr>\n",
       "  </tbody>\n",
       "</table>\n",
       "<p>160587 rows × 7 columns</p>\n",
       "</div>"
      ],
      "text/plain": [
       "             id  chunk_id                                               text  \\\n",
       "0            11         0  문재인 대통령이 지난해 전용차로 선택한 수소전기차 '넥쏘'가 중·장년층 남성들로부터...   \n",
       "1            11         1  넥쏘는 국내 뿐만 아니라 해외에서도 코로나19 확산 여파를 이겨내고 질주하고 있다....   \n",
       "2            19         0  LG전자는 국내 최대 쇼핑 행사 ‘2020 코리아세일페스타’에 맞춰 11월 1일부터...   \n",
       "3            20         0  SK는 그룹 8개 관계사가 한국 최초로 ‘RE100’에 가입한다고 1일 밝혔다.\\n...   \n",
       "4            20         1  SK 8개사가 신청서를 제출하면 더 클라이밋 그룹의 검토를 거친 후 가입이 최종 확...   \n",
       "...         ...       ...                                                ...   \n",
       "160582  1090535         1  업종별로 하락한 업종은 운수창고(-1.22%), 운수장비(-1.12%), 전기전자(...   \n",
       "160583  1090566         0  [회사채 미매각 현황]\\n회사채 시장에 미매각이 속출하고 있다. 현재 연 1.25%...   \n",
       "160584  1090566         1  하지만 가뜩이나 악화된 회사채 시장 분위기에 사고 소식까지 전해지면서 아무도 수요예...   \n",
       "160585  1090566         2  이에 채권시장에서 자금을 운용하는 각 증권사들의 부담이 커지고 있다. 대부분이 총액...   \n",
       "160586  1090615         0  [사진=아주경제 DB]\\n우크라이나와 러시아가 협상 테이블을 마련한다는 소식에 국내...   \n",
       "\n",
       "                              filename pred_labels  \\\n",
       "0       02100101.20201101113442001.txt      E-환경혁신   \n",
       "1       02100101.20201101113442001.txt      E-환경혁신   \n",
       "2       02100101.20201101125903001.txt       S-소비자   \n",
       "3       02100101.20201101130118001.txt      G-지배구조   \n",
       "4       02100101.20201101130118001.txt       S-소비자   \n",
       "...                                ...         ...   \n",
       "160582  02100851.20220228093428001.txt       S-소비자   \n",
       "160583  02100851.20220228103653001.txt       S-소비자   \n",
       "160584  02100851.20220228103653001.txt       S-소비자   \n",
       "160585  02100851.20220228103653001.txt       S-소비자   \n",
       "160586  02100851.20220228154344001.txt       S-소비자   \n",
       "\n",
       "                                                raw_preds  pred_probs  \n",
       "0       {'E-기후변화': 0.030596958199968844, 'E-환경영향': 0.0...    0.274359  \n",
       "1       {'E-기후변화': 0.06051763617022947, 'E-환경영향': 0.03...    0.385310  \n",
       "2       {'E-기후변화': 0.0021545055695108587, 'E-환경영향': 0....    0.393870  \n",
       "3       {'E-기후변화': 0.03785571833286824, 'E-환경영향': 0.01...    0.316108  \n",
       "4       {'E-기후변화': 0.10284557588551027, 'E-환경영향': 0.03...    0.269355  \n",
       "...                                                   ...         ...  \n",
       "160582  {'E-기후변화': 0.00907623428840548, 'E-환경영향': 0.00...    0.367147  \n",
       "160583  {'E-기후변화': 0.005465546001302883, 'E-환경영향': 0.0...    0.221578  \n",
       "160584  {'E-기후변화': 0.003758780272562501, 'E-환경영향': 0.0...    0.161850  \n",
       "160585  {'E-기후변화': 0.012670146350806367, 'E-환경영향': 0.0...    0.286236  \n",
       "160586  {'E-기후변화': 0.004790073608287765, 'E-환경영향': 0.0...    0.234709  \n",
       "\n",
       "[160587 rows x 7 columns]"
      ]
     },
     "execution_count": 13,
     "metadata": {},
     "output_type": "execute_result"
    }
   ],
   "source": [
    "category_preds_df = eKonf.load_data(\"esg_categories_20220905-preds.parquet\", data_dir)\n",
    "category_preds_df"
   ]
  },
  {
   "cell_type": "code",
   "execution_count": 14,
   "metadata": {
    "pycharm": {
     "name": "#%%\n"
    }
   },
   "outputs": [
    {
     "data": {
      "text/html": [
       "<div>\n",
       "<style scoped>\n",
       "    .dataframe tbody tr th:only-of-type {\n",
       "        vertical-align: middle;\n",
       "    }\n",
       "\n",
       "    .dataframe tbody tr th {\n",
       "        vertical-align: top;\n",
       "    }\n",
       "\n",
       "    .dataframe thead th {\n",
       "        text-align: right;\n",
       "    }\n",
       "</style>\n",
       "<table border=\"1\" class=\"dataframe\">\n",
       "  <thead>\n",
       "    <tr style=\"text-align: right;\">\n",
       "      <th></th>\n",
       "      <th>filename</th>\n",
       "      <th>codes</th>\n",
       "      <th>len</th>\n",
       "      <th>num_codes</th>\n",
       "    </tr>\n",
       "  </thead>\n",
       "  <tbody>\n",
       "    <tr>\n",
       "      <th>0</th>\n",
       "      <td>02100101.20200101040200001.txt</td>\n",
       "      <td>000660</td>\n",
       "      <td>40</td>\n",
       "      <td>2</td>\n",
       "    </tr>\n",
       "    <tr>\n",
       "      <th>1</th>\n",
       "      <td>02100101.20200101040200001.txt</td>\n",
       "      <td>005930</td>\n",
       "      <td>40</td>\n",
       "      <td>2</td>\n",
       "    </tr>\n",
       "    <tr>\n",
       "      <th>2</th>\n",
       "      <td>02100101.20200101040200002.txt</td>\n",
       "      <td>005930</td>\n",
       "      <td>40</td>\n",
       "      <td>2</td>\n",
       "    </tr>\n",
       "    <tr>\n",
       "      <th>3</th>\n",
       "      <td>02100101.20200101040200002.txt</td>\n",
       "      <td>066570</td>\n",
       "      <td>40</td>\n",
       "      <td>2</td>\n",
       "    </tr>\n",
       "    <tr>\n",
       "      <th>4</th>\n",
       "      <td>02100101.20200101040202001.txt</td>\n",
       "      <td>000270</td>\n",
       "      <td>40</td>\n",
       "      <td>2</td>\n",
       "    </tr>\n",
       "    <tr>\n",
       "      <th>...</th>\n",
       "      <td>...</td>\n",
       "      <td>...</td>\n",
       "      <td>...</td>\n",
       "      <td>...</td>\n",
       "    </tr>\n",
       "    <tr>\n",
       "      <th>198598</th>\n",
       "      <td>02100851.20220531150108001.txt</td>\n",
       "      <td>032640</td>\n",
       "      <td>47</td>\n",
       "      <td>3</td>\n",
       "    </tr>\n",
       "    <tr>\n",
       "      <th>198599</th>\n",
       "      <td>02100851.20220531150108001.txt</td>\n",
       "      <td>017670</td>\n",
       "      <td>47</td>\n",
       "      <td>3</td>\n",
       "    </tr>\n",
       "    <tr>\n",
       "      <th>198600</th>\n",
       "      <td>02100851.20220531150108001.txt</td>\n",
       "      <td>030200</td>\n",
       "      <td>47</td>\n",
       "      <td>3</td>\n",
       "    </tr>\n",
       "    <tr>\n",
       "      <th>198601</th>\n",
       "      <td>02100851.20220531154303001.txt</td>\n",
       "      <td>006400</td>\n",
       "      <td>40</td>\n",
       "      <td>2</td>\n",
       "    </tr>\n",
       "    <tr>\n",
       "      <th>198602</th>\n",
       "      <td>02100851.20220531154303001.txt</td>\n",
       "      <td>051910</td>\n",
       "      <td>40</td>\n",
       "      <td>2</td>\n",
       "    </tr>\n",
       "  </tbody>\n",
       "</table>\n",
       "<p>198603 rows × 4 columns</p>\n",
       "</div>"
      ],
      "text/plain": [
       "                              filename   codes  len  num_codes\n",
       "0       02100101.20200101040200001.txt  000660   40          2\n",
       "1       02100101.20200101040200001.txt  005930   40          2\n",
       "2       02100101.20200101040200002.txt  005930   40          2\n",
       "3       02100101.20200101040200002.txt  066570   40          2\n",
       "4       02100101.20200101040202001.txt  000270   40          2\n",
       "...                                ...     ...  ...        ...\n",
       "198598  02100851.20220531150108001.txt  032640   47          3\n",
       "198599  02100851.20220531150108001.txt  017670   47          3\n",
       "198600  02100851.20220531150108001.txt  030200   47          3\n",
       "198601  02100851.20220531154303001.txt  006400   40          2\n",
       "198602  02100851.20220531154303001.txt  051910   40          2\n",
       "\n",
       "[198603 rows x 4 columns]"
      ]
     },
     "execution_count": 14,
     "metadata": {},
     "output_type": "execute_result"
    }
   ],
   "source": [
    "code_info_available = eKonf.load_data(\"econ_news_code_info_available_20220905.parquet\", data_dir)\n",
    "code_info_available"
   ]
  },
  {
   "cell_type": "code",
   "execution_count": 15,
   "metadata": {
    "pycharm": {
     "name": "#%%\n"
    },
    "tags": [
     "hide-cell",
     "remove-cell"
    ]
   },
   "outputs": [],
   "source": [
    "# p_cols = ['id', 'chunk_id', 'text', 'filename', 'pred_labels']\n",
    "# c_cols = ['id', 'chunk_id', 'pred_labels']\n",
    "# pred_data = polarity_preds_df[p_cols].rename(columns={\"pred_labels\": \"pred_polarity\"}).merge(\n",
    "#     category_preds_df[c_cols].rename(columns={\"pred_labels\": \"pred_category\"}), on=['id', 'chunk_id']\n",
    "# ).merge(\n",
    "#     code_info_available, on='filename'\n",
    "# )\n",
    "\n",
    "# xls_path = eKonf.join_path(data_dir, \"esg_preds_all.xlsx\")\n",
    "# pred_data.to_excel(xls_path)\n"
   ]
  },
  {
   "cell_type": "code",
   "execution_count": 16,
   "metadata": {
    "pycharm": {
     "name": "#%%\n"
    },
    "tags": [
     "hide-cell",
     "remove-cell"
    ]
   },
   "outputs": [],
   "source": [
    "# codes = eKonf.load_data(\"codes.csv\", data_dir, dtype={\"codes\":\"str\"})\n",
    "# xls_path = eKonf.join_path(data_dir, \"esg_preds.xlsx\")\n",
    "# pred_data.merge(codes).to_excel(xls_path)"
   ]
  },
  {
   "cell_type": "code",
   "execution_count": null,
   "metadata": {
    "pycharm": {
     "name": "#%%\n"
    }
   },
   "outputs": [],
   "source": []
  }
 ],
 "metadata": {
  "celltoolbar": "Tags",
  "colab": {
   "name": "corpus.ipynb",
   "provenance": []
  },
  "interpreter": {
   "hash": "f869af7787e6a1c49e09e367fc6e1b81d93d1c6583b43249c80edc047bd13cb2"
  },
  "kernelspec": {
   "display_name": "Python 3 (ipykernel)",
   "language": "python",
   "name": "python3"
  },
  "language_info": {
   "codemirror_mode": {
    "name": "ipython",
    "version": 3
   },
   "file_extension": ".py",
   "mimetype": "text/x-python",
   "name": "python",
   "nbconvert_exporter": "python",
   "pygments_lexer": "ipython3",
   "version": "3.8.12"
  },
  "widgets": {
   "application/vnd.jupyter.widget-state+json": {
    "state": {},
    "version_major": 2,
    "version_minor": 0
   }
  }
 },
 "nbformat": 4,
 "nbformat_minor": 4
}
