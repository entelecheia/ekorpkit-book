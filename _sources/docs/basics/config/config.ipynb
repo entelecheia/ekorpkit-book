{
  "cells": [
    {
      "cell_type": "markdown",
      "metadata": {
        "id": "PfSMqenAwpKI"
      },
      "source": [
        "# Compose an ekorpkit config"
      ]
    },
    {
      "cell_type": "code",
      "execution_count": 1,
      "metadata": {
        "id": "OhqanxoywpKJ"
      },
      "outputs": [
        {
          "name": "stdout",
          "output_type": "stream",
          "text": [
            "Config type: <class 'omegaconf.dictconfig.DictConfig'>\n"
          ]
        }
      ],
      "source": [
        "from ekorpkit import eKonf\n",
        "\n",
        "cfg = eKonf.compose()\n",
        "print('Config type:', type(cfg))"
      ]
    },
    {
      "cell_type": "code",
      "execution_count": 2,
      "metadata": {},
      "outputs": [
        {
          "name": "stdout",
          "output_type": "stream",
          "text": [
            "{'archive': '/workspace/data/archive',\n",
            " 'cache': '/workspace/.cache',\n",
            " 'corpus': '/workspace/data/datasets/corpus',\n",
            " 'data': '/workspace/data',\n",
            " 'dataset': '/workspace/data/datasets',\n",
            " 'ekorpkit': '/workspace/projects/ekorpkit/ekorpkit',\n",
            " 'home': '/root',\n",
            " 'log': '/workspace/projects/esgml/logs',\n",
            " 'model': '/workspace/data/models',\n",
            " 'output': '/workspace/projects/esgml/outputs',\n",
            " 'project': '/workspace/projects/esgml',\n",
            " 'resource': '/workspace/projects/ekorpkit/ekorpkit/resources',\n",
            " 'runtime': '/workspace/projects/ekorpkit-config/ekorpkit-book/docs/basics/config',\n",
            " 'tmp': '/workspace/.tmp',\n",
            " 'workspace': '/workspace'}\n"
          ]
        }
      ],
      "source": [
        "eKonf.pprint(cfg.dir)"
      ]
    },
    {
      "cell_type": "code",
      "execution_count": 3,
      "metadata": {},
      "outputs": [
        {
          "name": "stdout",
          "output_type": "stream",
          "text": [
            "{'batcher': {'backend': 'joblib',\n",
            "             'minibatch_size': 1000,\n",
            "             'procs': 1,\n",
            "             'task_num_cpus': 1,\n",
            "             'task_num_gpus': 0,\n",
            "             'verbose': 10},\n",
            " 'dask': {'n_workers': 1},\n",
            " 'distributed_framework': {'backend': 'joblib',\n",
            "                           'initialize': True,\n",
            "                           'num_workers': 1},\n",
            " 'dotenv': {'EKORPKIT_CONFIG_DIR': '/workspace/projects/ekorpkit-config/config',\n",
            "            'EKORPKIT_PIP_EXTRA': '',\n",
            "            'EKORPKIT_PROJECT': 'esgml',\n",
            "            'EKORPKIT_SRC_DIR': '/workspace/projects/ekorpkit',\n",
            "            'EKORPKIT_WORKSPACE_ROOT': '/workspace',\n",
            "            'NUM_WORKERS': '1',\n",
            "            'WANDB_API_KEY': ''},\n",
            " 'dotenv_path': '.env',\n",
            " 'os': {'CACHED_PATH_CACHE_ROOT': '/workspace/.cache/cached_path',\n",
            "        'MODIN_CPUS': 1,\n",
            "        'MODIN_ENGINE': 'ray'},\n",
            " 'ray': {'num_cpus': 1}}\n"
          ]
        }
      ],
      "source": [
        "cfg.env.dotenv_path = '.env'\n",
        "eKonf.pprint(cfg.env)"
      ]
    },
    {
      "cell_type": "code",
      "execution_count": 4,
      "metadata": {
        "colab": {
          "base_uri": "https://localhost:8080/"
        },
        "id": "KwO4AMTdwpKL",
        "outputId": "3e900249-934b-4871-e5e5-d9552d32f3a1"
      },
      "outputs": [
        {
          "name": "stdout",
          "output_type": "stream",
          "text": [
            "<class 'dict'>\n"
          ]
        }
      ],
      "source": [
        "cfg = eKonf.to_dict(cfg)\n",
        "print(type(cfg))"
      ]
    },
    {
      "cell_type": "code",
      "execution_count": 5,
      "metadata": {
        "id": "BoIDUgivwpKM"
      },
      "outputs": [
        {
          "data": {
            "text/plain": [
              "'/root'"
            ]
          },
          "execution_count": 5,
          "metadata": {},
          "output_type": "execute_result"
        }
      ],
      "source": [
        "eKonf.__home_path__"
      ]
    },
    {
      "cell_type": "code",
      "execution_count": null,
      "metadata": {},
      "outputs": [],
      "source": []
    }
  ],
  "metadata": {
    "colab": {
      "include_colab_link": true,
      "name": "config.ipynb",
      "provenance": []
    },
    "interpreter": {
      "hash": "f869af7787e6a1c49e09e367fc6e1b81d93d1c6583b43249c80edc047bd13cb2"
    },
    "kernelspec": {
      "display_name": "Python 3.8.12 64-bit ('ekonml38')",
      "language": "python",
      "name": "python3"
    },
    "language_info": {
      "codemirror_mode": {
        "name": "ipython",
        "version": 3
      },
      "file_extension": ".py",
      "mimetype": "text/x-python",
      "name": "python",
      "nbconvert_exporter": "python",
      "pygments_lexer": "ipython3",
      "version": "3.8.12"
    },
    "orig_nbformat": 4
  },
  "nbformat": 4,
  "nbformat_minor": 0
}
