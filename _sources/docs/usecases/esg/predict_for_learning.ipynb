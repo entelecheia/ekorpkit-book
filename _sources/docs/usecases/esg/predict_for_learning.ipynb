{
 "cells": [
  {
   "cell_type": "markdown",
   "metadata": {
    "id": "cjgz1WTcPWee",
    "pycharm": {
     "name": "#%% md\n"
    }
   },
   "source": [
    "# Preparing active learning data"
   ]
  },
  {
   "cell_type": "code",
   "execution_count": 1,
   "metadata": {
    "id": "BzxPwsOVPWef",
    "pycharm": {
     "name": "#%%\n"
    }
   },
   "outputs": [
    {
     "name": "stderr",
     "output_type": "stream",
     "text": [
      "INFO:ekorpkit.base:Setting cuda device to ['A100-SXM4-40GB (id:0)']\n"
     ]
    },
    {
     "name": "stdout",
     "output_type": "stream",
     "text": [
      "version: 0.1.39.post0.dev6\n",
      "is notebook? True\n",
      "is colab? False\n",
      "environment variables:\n",
      "{'CUDA_DEVICE_ORDER': 'PCI_BUS_ID',\n",
      " 'CUDA_VISIBLE_DEVICES': '0',\n",
      " 'EKORPKIT_CONFIG_DIR': '/workspace/projects/ekorpkit-book/config',\n",
      " 'EKORPKIT_DATA_DIR': None,\n",
      " 'EKORPKIT_LOG_LEVEL': 'WARNING',\n",
      " 'EKORPKIT_PROJECT': 'ekorpkit-book',\n",
      " 'EKORPKIT_WORKSPACE_ROOT': '/workspace',\n",
      " 'KMP_DUPLICATE_LIB_OK': 'TRUE',\n",
      " 'NUM_WORKERS': 230}\n"
     ]
    }
   ],
   "source": [
    "from ekorpkit import eKonf\n",
    "\n",
    "eKonf.setLogger(\"WARNING\")\n",
    "eKonf.set_cuda(device=0)\n",
    "print(\"version:\", eKonf.__version__)\n",
    "print(\"is notebook?\", eKonf.is_notebook())\n",
    "print(\"is colab?\", eKonf.is_colab())\n",
    "print(\"environment variables:\")\n",
    "eKonf.print(eKonf.env().dict())\n",
    "\n",
    "data_dir = \"../data/econ_news_kr/news_slice/\""
   ]
  },
  {
   "cell_type": "markdown",
   "metadata": {
    "id": "zpdqyeyPPWek",
    "pycharm": {
     "name": "#%% md\n"
    }
   },
   "source": [
    "## Load data"
   ]
  },
  {
   "cell_type": "code",
   "execution_count": 34,
   "metadata": {
    "colab": {
     "base_uri": "https://localhost:8080/"
    },
    "id": "DFsykazvPWel",
    "outputId": "7ab40ae7-42ba-4b6c-f0da-908c6d45ddb9",
    "pycharm": {
     "name": "#%%\n"
    }
   },
   "outputs": [
    {
     "name": "stdout",
     "output_type": "stream",
     "text": [
      "(1833910, 3)\n"
     ]
    },
    {
     "data": {
      "text/html": [
       "<div>\n",
       "<style scoped>\n",
       "    .dataframe tbody tr th:only-of-type {\n",
       "        vertical-align: middle;\n",
       "    }\n",
       "\n",
       "    .dataframe tbody tr th {\n",
       "        vertical-align: top;\n",
       "    }\n",
       "\n",
       "    .dataframe thead th {\n",
       "        text-align: right;\n",
       "    }\n",
       "</style>\n",
       "<table border=\"1\" class=\"dataframe\">\n",
       "  <thead>\n",
       "    <tr style=\"text-align: right;\">\n",
       "      <th></th>\n",
       "      <th>text</th>\n",
       "      <th>chunk_id</th>\n",
       "      <th>filename</th>\n",
       "    </tr>\n",
       "  </thead>\n",
       "  <tbody>\n",
       "    <tr>\n",
       "      <th>0</th>\n",
       "      <td>△ 사진 설명 : 경자년 새해가 밝았다  제각각 삶터에서 묵묵히 노력하는 대한민국...</td>\n",
       "      <td>0</td>\n",
       "      <td>02100101.20200101001103001.txt</td>\n",
       "    </tr>\n",
       "    <tr>\n",
       "      <th>1</th>\n",
       "      <td>\"청년 벤처기업가들한테 진짜로 미안했어요  부끄럽고 \" 지난해 12월 29일 서울...</td>\n",
       "      <td>0</td>\n",
       "      <td>02100101.20200101001253001.txt</td>\n",
       "    </tr>\n",
       "    <tr>\n",
       "      <th>2</th>\n",
       "      <td>오늘부터 30년 후면 2050년이다  30년 전인 1990년을 전후하여 세계는 독...</td>\n",
       "      <td>0</td>\n",
       "      <td>02100101.20200101001855001.txt</td>\n",
       "    </tr>\n",
       "    <tr>\n",
       "      <th>3</th>\n",
       "      <td>◆ 2020 경제기상도 / 환율 ◆ 지난해 미·중 무역분쟁이라는 대형 변수로 출렁...</td>\n",
       "      <td>0</td>\n",
       "      <td>02100101.20200101040159002.txt</td>\n",
       "    </tr>\n",
       "    <tr>\n",
       "      <th>4</th>\n",
       "      <td>◆ 2020 경제기상도 / 업종별 전망 (반도체) ◆ 지난해 미·중 무역분쟁과 공...</td>\n",
       "      <td>0</td>\n",
       "      <td>02100101.20200101040200001.txt</td>\n",
       "    </tr>\n",
       "  </tbody>\n",
       "</table>\n",
       "</div>"
      ],
      "text/plain": [
       "                                                text  chunk_id  \\\n",
       "0   △ 사진 설명 : 경자년 새해가 밝았다  제각각 삶터에서 묵묵히 노력하는 대한민국...         0   \n",
       "1   \"청년 벤처기업가들한테 진짜로 미안했어요  부끄럽고 \" 지난해 12월 29일 서울...         0   \n",
       "2   오늘부터 30년 후면 2050년이다  30년 전인 1990년을 전후하여 세계는 독...         0   \n",
       "3   ◆ 2020 경제기상도 / 환율 ◆ 지난해 미·중 무역분쟁이라는 대형 변수로 출렁...         0   \n",
       "4   ◆ 2020 경제기상도 / 업종별 전망 (반도체) ◆ 지난해 미·중 무역분쟁과 공...         0   \n",
       "\n",
       "                         filename  \n",
       "0  02100101.20200101001103001.txt  \n",
       "1  02100101.20200101001253001.txt  \n",
       "2  02100101.20200101001855001.txt  \n",
       "3  02100101.20200101040159002.txt  \n",
       "4  02100101.20200101040200001.txt  "
      ]
     },
     "execution_count": 34,
     "metadata": {},
     "output_type": "execute_result"
    }
   ],
   "source": [
    "chunk_data = eKonf.load_data(\n",
    "    \"econ_news_kr_chunks_*_20220911.parquet\", data_dir, concatenate=True\n",
    ")\n",
    "print(chunk_data.shape)\n",
    "chunk_data.head()\n"
   ]
  },
  {
   "cell_type": "code",
   "execution_count": 36,
   "metadata": {},
   "outputs": [
    {
     "name": "stdout",
     "output_type": "stream",
     "text": [
      "<class 'pandas.core.frame.DataFrame'>\n",
      "Int64Index: 1833910 entries, 0 to 785336\n",
      "Data columns (total 3 columns):\n",
      " #   Column    Dtype \n",
      "---  ------    ----- \n",
      " 0   text      object\n",
      " 1   chunk_id  int64 \n",
      " 2   filename  object\n",
      "dtypes: int64(1), object(2)\n",
      "memory usage: 56.0+ MB\n"
     ]
    }
   ],
   "source": [
    "chunk_data.info()"
   ]
  },
  {
   "cell_type": "markdown",
   "metadata": {},
   "source": [
    "## Load company code info\n"
   ]
  },
  {
   "cell_type": "code",
   "execution_count": 32,
   "metadata": {},
   "outputs": [
    {
     "name": "stdout",
     "output_type": "stream",
     "text": [
      "{'filename': 'econ_news_kr_chunks_2022_code_20220911.txt', 'codes': '02100101.20220101002520005,1,005380'}\n"
     ]
    },
    {
     "data": {
      "text/html": [
       "<div>\n",
       "<style scoped>\n",
       "    .dataframe tbody tr th:only-of-type {\n",
       "        vertical-align: middle;\n",
       "    }\n",
       "\n",
       "    .dataframe tbody tr th {\n",
       "        vertical-align: top;\n",
       "    }\n",
       "\n",
       "    .dataframe thead th {\n",
       "        text-align: right;\n",
       "    }\n",
       "</style>\n",
       "<table border=\"1\" class=\"dataframe\">\n",
       "  <thead>\n",
       "    <tr style=\"text-align: right;\">\n",
       "      <th></th>\n",
       "      <th>filename</th>\n",
       "      <th>codes</th>\n",
       "    </tr>\n",
       "  </thead>\n",
       "  <tbody>\n",
       "    <tr>\n",
       "      <th>243671</th>\n",
       "      <td>econ_news_kr_chunks_2020_code_20220911.txt</td>\n",
       "      <td>02100851.20201231110236001,1,032640</td>\n",
       "    </tr>\n",
       "    <tr>\n",
       "      <th>243672</th>\n",
       "      <td>econ_news_kr_chunks_2020_code_20220911.txt</td>\n",
       "      <td>02100851.20201231111427001,1,035720</td>\n",
       "    </tr>\n",
       "    <tr>\n",
       "      <th>243673</th>\n",
       "      <td>econ_news_kr_chunks_2020_code_20220911.txt</td>\n",
       "      <td>02100851.20201231132917001,0,011200</td>\n",
       "    </tr>\n",
       "    <tr>\n",
       "      <th>243674</th>\n",
       "      <td>econ_news_kr_chunks_2020_code_20220911.txt</td>\n",
       "      <td>02100851.20201231164457001,0,000660</td>\n",
       "    </tr>\n",
       "    <tr>\n",
       "      <th>243675</th>\n",
       "      <td>econ_news_kr_chunks_2020_code_20220911.txt</td>\n",
       "      <td>02100851.20201231204324001,0,068270</td>\n",
       "    </tr>\n",
       "  </tbody>\n",
       "</table>\n",
       "</div>"
      ],
      "text/plain": [
       "                                          filename  \\\n",
       "243671  econ_news_kr_chunks_2020_code_20220911.txt   \n",
       "243672  econ_news_kr_chunks_2020_code_20220911.txt   \n",
       "243673  econ_news_kr_chunks_2020_code_20220911.txt   \n",
       "243674  econ_news_kr_chunks_2020_code_20220911.txt   \n",
       "243675  econ_news_kr_chunks_2020_code_20220911.txt   \n",
       "\n",
       "                                      codes  \n",
       "243671  02100851.20201231110236001,1,032640  \n",
       "243672  02100851.20201231111427001,1,035720  \n",
       "243673  02100851.20201231132917001,0,011200  \n",
       "243674  02100851.20201231164457001,0,000660  \n",
       "243675  02100851.20201231204324001,0,068270  "
      ]
     },
     "execution_count": 32,
     "metadata": {},
     "output_type": "execute_result"
    }
   ],
   "source": [
    "cfg = eKonf.compose(\"io/loader=plaintext_parser\")\n",
    "cfg.data_dir = data_dir\n",
    "cfg.data_sources = \"econ_news_kr_chunks*.txt\"\n",
    "cfg.data.item = dict(filename=\"filename\", codes=\"codes\")\n",
    "cfg.parser.split = True\n",
    "cfg.parser.data_key = \"codes\"\n",
    "cfg.parser.progress_per = None\n",
    "code_info = eKonf.load_data(**cfg)\n",
    "code_info.tail()"
   ]
  },
  {
   "cell_type": "code",
   "execution_count": 40,
   "metadata": {},
   "outputs": [
    {
     "name": "stdout",
     "output_type": "stream",
     "text": [
      "(258537, 4)\n",
      "<class 'pandas.core.frame.DataFrame'>\n",
      "RangeIndex: 258537 entries, 0 to 258536\n",
      "Data columns (total 4 columns):\n",
      " #   Column     Non-Null Count   Dtype \n",
      "---  ------     --------------   ----- \n",
      " 0   filename   258537 non-null  object\n",
      " 1   codes      258537 non-null  object\n",
      " 2   chunk_id   258537 non-null  int64 \n",
      " 3   num_codes  258537 non-null  int64 \n",
      "dtypes: int64(2), object(2)\n",
      "memory usage: 7.9+ MB\n"
     ]
    }
   ],
   "source": [
    "code_info_available = code_info.copy()\n",
    "code_info_available[\"filename\"] = code_info_available.codes.str[:26] + \".txt\"\n",
    "code_info_available[\"codes\"] = code_info_available.codes.str[27:]\n",
    "code_info_available[\"codes\"] = code_info_available.codes.str.split(\",\")\n",
    "code_info_available[\"chunk_id\"] = code_info_available.codes.apply(lambda x: int(x[0]))\n",
    "code_info_available[\"codes\"] = code_info_available.codes.apply(lambda x: x[1:])\n",
    "code_info_available[\"num_codes\"] = code_info_available[\"codes\"].apply(len)\n",
    "code_info_available = code_info_available.explode(\"codes\").reset_index(drop=True)\n",
    "\n",
    "eKonf.save_data(code_info_available, \"econ_news_code_info_available_20220911.parquet\", data_dir)\n",
    "print(code_info_available.shape)\n",
    "code_info_available.info()"
   ]
  },
  {
   "cell_type": "code",
   "execution_count": 47,
   "metadata": {},
   "outputs": [
    {
     "name": "stdout",
     "output_type": "stream",
     "text": [
      "(267111, 4)\n"
     ]
    },
    {
     "data": {
      "text/html": [
       "<div>\n",
       "<style scoped>\n",
       "    .dataframe tbody tr th:only-of-type {\n",
       "        vertical-align: middle;\n",
       "    }\n",
       "\n",
       "    .dataframe tbody tr th {\n",
       "        vertical-align: top;\n",
       "    }\n",
       "\n",
       "    .dataframe thead th {\n",
       "        text-align: right;\n",
       "    }\n",
       "</style>\n",
       "<table border=\"1\" class=\"dataframe\">\n",
       "  <thead>\n",
       "    <tr style=\"text-align: right;\">\n",
       "      <th></th>\n",
       "      <th>filename</th>\n",
       "      <th>chunk_id</th>\n",
       "      <th>text</th>\n",
       "      <th>codes</th>\n",
       "    </tr>\n",
       "  </thead>\n",
       "  <tbody>\n",
       "    <tr>\n",
       "      <th>0</th>\n",
       "      <td>02100101.20200101040200001.txt</td>\n",
       "      <td>0</td>\n",
       "      <td>◆ 2020 경제기상도 / 업종별 전망 (반도체) ◆ 지난해 미·중 무역분쟁과 공...</td>\n",
       "      <td>000660</td>\n",
       "    </tr>\n",
       "    <tr>\n",
       "      <th>1</th>\n",
       "      <td>02100101.20200101040200001.txt</td>\n",
       "      <td>1</td>\n",
       "      <td>지난해 3분기 반도체 부문 영업이익 3조500억원으로 3조원대에 간신히 턱걸이한 ...</td>\n",
       "      <td>005930</td>\n",
       "    </tr>\n",
       "    <tr>\n",
       "      <th>2</th>\n",
       "      <td>02100101.20200101040200002.txt</td>\n",
       "      <td>0</td>\n",
       "      <td>◆ 2020 경제기상도 / 업종별 전망 (가전) ◆ TV, 냉장고, 세탁기 등 전...</td>\n",
       "      <td>005930</td>\n",
       "    </tr>\n",
       "    <tr>\n",
       "      <th>3</th>\n",
       "      <td>02100101.20200101040200002.txt</td>\n",
       "      <td>0</td>\n",
       "      <td>◆ 2020 경제기상도 / 업종별 전망 (가전) ◆ TV, 냉장고, 세탁기 등 전...</td>\n",
       "      <td>066570</td>\n",
       "    </tr>\n",
       "    <tr>\n",
       "      <th>4</th>\n",
       "      <td>02100101.20200101040201001.txt</td>\n",
       "      <td>1</td>\n",
       "      <td>디스플레이 업계 등에서는 삼성과 LG가 글로벌 디스플레이 시장에서 중국 업체의 L...</td>\n",
       "      <td>003550</td>\n",
       "    </tr>\n",
       "  </tbody>\n",
       "</table>\n",
       "</div>"
      ],
      "text/plain": [
       "                         filename  chunk_id  \\\n",
       "0  02100101.20200101040200001.txt         0   \n",
       "1  02100101.20200101040200001.txt         1   \n",
       "2  02100101.20200101040200002.txt         0   \n",
       "3  02100101.20200101040200002.txt         0   \n",
       "4  02100101.20200101040201001.txt         1   \n",
       "\n",
       "                                                text   codes  \n",
       "0   ◆ 2020 경제기상도 / 업종별 전망 (반도체) ◆ 지난해 미·중 무역분쟁과 공...  000660  \n",
       "1   지난해 3분기 반도체 부문 영업이익 3조500억원으로 3조원대에 간신히 턱걸이한 ...  005930  \n",
       "2   ◆ 2020 경제기상도 / 업종별 전망 (가전) ◆ TV, 냉장고, 세탁기 등 전...  005930  \n",
       "3   ◆ 2020 경제기상도 / 업종별 전망 (가전) ◆ TV, 냉장고, 세탁기 등 전...  066570  \n",
       "4   디스플레이 업계 등에서는 삼성과 LG가 글로벌 디스플레이 시장에서 중국 업체의 L...  003550  "
      ]
     },
     "execution_count": 47,
     "metadata": {},
     "output_type": "execute_result"
    }
   ],
   "source": [
    "filtered_data = chunk_data.merge(\n",
    "    code_info_available, on=[\"filename\", \"chunk_id\"], how=\"inner\"\n",
    ")\n",
    "cols = [\"filename\", \"chunk_id\", \"text\", \"codes\"]\n",
    "filtered_data = filtered_data[cols]\n",
    "eKonf.save_data(filtered_data, \"econ_news_filtered_20220911.parquet\", data_dir)\n",
    "print(filtered_data.shape)\n",
    "filtered_data.head()"
   ]
  },
  {
   "cell_type": "markdown",
   "metadata": {},
   "source": [
    "## Filter out invalid data"
   ]
  },
  {
   "cell_type": "code",
   "execution_count": 48,
   "metadata": {},
   "outputs": [
    {
     "name": "stderr",
     "output_type": "stream",
     "text": [
      "INFO:ekorpkit.base:Applying pipe: functools.partial(<function predict at 0x7f2e20d95a60>)\n",
      "INFO:ekorpkit.base:No method defined to call\n"
     ]
    },
    {
     "data": {
      "application/vnd.jupyter.widget-view+json": {
       "model_id": "d571c5f1ed20425d83fe8eee63d9462d",
       "version_major": 2,
       "version_minor": 0
      },
      "text/plain": [
       "  0%|          | 0/267111 [00:00<?, ?it/s]"
      ]
     },
     "metadata": {},
     "output_type": "display_data"
    },
    {
     "name": "stderr",
     "output_type": "stream",
     "text": [
      "Token indices sequence length is longer than the specified maximum sequence length for this model (522 > 512). Running this sequence through the model will result in indexing errors\n"
     ]
    },
    {
     "data": {
      "application/vnd.jupyter.widget-view+json": {
       "model_id": "0f780c039fce417aac3fd54107d1ef14",
       "version_major": 2,
       "version_minor": 0
      },
      "text/plain": [
       "  0%|          | 0/14436 [00:00<?, ?it/s]"
      ]
     },
     "metadata": {},
     "output_type": "display_data"
    },
    {
     "data": {
      "text/html": [
       "<div>\n",
       "<style scoped>\n",
       "    .dataframe tbody tr th:only-of-type {\n",
       "        vertical-align: middle;\n",
       "    }\n",
       "\n",
       "    .dataframe tbody tr th {\n",
       "        vertical-align: top;\n",
       "    }\n",
       "\n",
       "    .dataframe thead th {\n",
       "        text-align: right;\n",
       "    }\n",
       "</style>\n",
       "<table border=\"1\" class=\"dataframe\">\n",
       "  <thead>\n",
       "    <tr style=\"text-align: right;\">\n",
       "      <th></th>\n",
       "      <th>filename</th>\n",
       "      <th>chunk_id</th>\n",
       "      <th>text</th>\n",
       "      <th>codes</th>\n",
       "      <th>pred_labels</th>\n",
       "      <th>raw_preds</th>\n",
       "      <th>pred_probs</th>\n",
       "    </tr>\n",
       "  </thead>\n",
       "  <tbody>\n",
       "    <tr>\n",
       "      <th>0</th>\n",
       "      <td>02100101.20200101040200001.txt</td>\n",
       "      <td>0</td>\n",
       "      <td>◆ 2020 경제기상도 / 업종별 전망 (반도체) ◆ 지난해 미·중 무역분쟁과 공...</td>\n",
       "      <td>000660</td>\n",
       "      <td>Discarded</td>\n",
       "      <td>{'Discarded': 0.1799878992578683, 'Validated':...</td>\n",
       "      <td>0.206845</td>\n",
       "    </tr>\n",
       "    <tr>\n",
       "      <th>1</th>\n",
       "      <td>02100101.20200101040200001.txt</td>\n",
       "      <td>1</td>\n",
       "      <td>지난해 3분기 반도체 부문 영업이익 3조500억원으로 3조원대에 간신히 턱걸이한 ...</td>\n",
       "      <td>005930</td>\n",
       "      <td>Discarded</td>\n",
       "      <td>{'Discarded': 0.6575677396177281, 'Validated':...</td>\n",
       "      <td>0.657568</td>\n",
       "    </tr>\n",
       "    <tr>\n",
       "      <th>2</th>\n",
       "      <td>02100101.20200101040200002.txt</td>\n",
       "      <td>0</td>\n",
       "      <td>◆ 2020 경제기상도 / 업종별 전망 (가전) ◆ TV, 냉장고, 세탁기 등 전...</td>\n",
       "      <td>005930</td>\n",
       "      <td>Discarded</td>\n",
       "      <td>{'Discarded': 0.13758843340302507, 'Validated'...</td>\n",
       "      <td>0.156780</td>\n",
       "    </tr>\n",
       "    <tr>\n",
       "      <th>3</th>\n",
       "      <td>02100101.20200101040200002.txt</td>\n",
       "      <td>0</td>\n",
       "      <td>◆ 2020 경제기상도 / 업종별 전망 (가전) ◆ TV, 냉장고, 세탁기 등 전...</td>\n",
       "      <td>066570</td>\n",
       "      <td>Discarded</td>\n",
       "      <td>{'Discarded': 0.13758843340302507, 'Validated'...</td>\n",
       "      <td>0.156780</td>\n",
       "    </tr>\n",
       "    <tr>\n",
       "      <th>4</th>\n",
       "      <td>02100101.20200101040201001.txt</td>\n",
       "      <td>1</td>\n",
       "      <td>디스플레이 업계 등에서는 삼성과 LG가 글로벌 디스플레이 시장에서 중국 업체의 L...</td>\n",
       "      <td>003550</td>\n",
       "      <td>Discarded</td>\n",
       "      <td>{'Discarded': 0.5148541733920216, 'Validated':...</td>\n",
       "      <td>0.514854</td>\n",
       "    </tr>\n",
       "  </tbody>\n",
       "</table>\n",
       "</div>"
      ],
      "text/plain": [
       "                         filename  chunk_id  \\\n",
       "0  02100101.20200101040200001.txt         0   \n",
       "1  02100101.20200101040200001.txt         1   \n",
       "2  02100101.20200101040200002.txt         0   \n",
       "3  02100101.20200101040200002.txt         0   \n",
       "4  02100101.20200101040201001.txt         1   \n",
       "\n",
       "                                                text   codes pred_labels  \\\n",
       "0   ◆ 2020 경제기상도 / 업종별 전망 (반도체) ◆ 지난해 미·중 무역분쟁과 공...  000660   Discarded   \n",
       "1   지난해 3분기 반도체 부문 영업이익 3조500억원으로 3조원대에 간신히 턱걸이한 ...  005930   Discarded   \n",
       "2   ◆ 2020 경제기상도 / 업종별 전망 (가전) ◆ TV, 냉장고, 세탁기 등 전...  005930   Discarded   \n",
       "3   ◆ 2020 경제기상도 / 업종별 전망 (가전) ◆ TV, 냉장고, 세탁기 등 전...  066570   Discarded   \n",
       "4   디스플레이 업계 등에서는 삼성과 LG가 글로벌 디스플레이 시장에서 중국 업체의 L...  003550   Discarded   \n",
       "\n",
       "                                           raw_preds  pred_probs  \n",
       "0  {'Discarded': 0.1799878992578683, 'Validated':...    0.206845  \n",
       "1  {'Discarded': 0.6575677396177281, 'Validated':...    0.657568  \n",
       "2  {'Discarded': 0.13758843340302507, 'Validated'...    0.156780  \n",
       "3  {'Discarded': 0.13758843340302507, 'Validated'...    0.156780  \n",
       "4  {'Discarded': 0.5148541733920216, 'Validated':...    0.514854  "
      ]
     },
     "execution_count": 48,
     "metadata": {},
     "output_type": "execute_result"
    }
   ],
   "source": [
    "overrides=[\n",
    "    '+model/transformer=classification',\n",
    "    '+model/transformer/pretrained=ekonelectra-base',\n",
    "]\n",
    "model_cfg = eKonf.compose('model/transformer=classification', overrides)\n",
    "model_cfg.name = \"esg_invalid\"\n",
    "\n",
    "cfg = eKonf.compose(config_group='pipeline')\n",
    "cfg.name = 'esg_invalid_20220911'\n",
    "cfg.data_dir = data_dir\n",
    "cfg.data_file = 'econ_news_filtered_20220911.parquet'\n",
    "cfg._pipeline_ = ['predict']\n",
    "cfg.predict.model = model_cfg\n",
    "cfg.predict.output_dir = data_dir\n",
    "cfg.predict.output_file = f'{cfg.name}-preds.parquet'\n",
    "cfg.num_workers = 1\n",
    "invalid_preds_df = eKonf.instantiate(cfg)\n",
    "invalid_preds_df.head()"
   ]
  },
  {
   "cell_type": "code",
   "execution_count": 49,
   "metadata": {},
   "outputs": [
    {
     "name": "stdout",
     "output_type": "stream",
     "text": [
      "(115784, 4)\n"
     ]
    }
   ],
   "source": [
    "cols = [\"filename\", \"chunk_id\", \"text\", \"codes\"]\n",
    "valid_data = invalid_preds_df[\n",
    "    invalid_preds_df.pred_labels == \"Validated\"\n",
    "][cols]\n",
    "print(valid_data.shape)\n",
    "filename = \"esg_news_valid_20220911.parquet\"\n",
    "eKonf.save_data(valid_data, filename, data_dir)\n"
   ]
  },
  {
   "cell_type": "markdown",
   "metadata": {
    "pycharm": {
     "name": "#%% md\n"
    }
   },
   "source": [
    "## Predict polarities"
   ]
  },
  {
   "cell_type": "code",
   "execution_count": 51,
   "metadata": {
    "pycharm": {
     "name": "#%%\n"
    }
   },
   "outputs": [
    {
     "name": "stderr",
     "output_type": "stream",
     "text": [
      "INFO:ekorpkit.base:Applying pipe: functools.partial(<function predict at 0x7f2e20d95a60>)\n",
      "INFO:ekorpkit.base:No method defined to call\n"
     ]
    },
    {
     "data": {
      "application/vnd.jupyter.widget-view+json": {
       "model_id": "dc3318a70fdf46a0840992162c843fb1",
       "version_major": 2,
       "version_minor": 0
      },
      "text/plain": [
       "  0%|          | 0/115784 [00:00<?, ?it/s]"
      ]
     },
     "metadata": {},
     "output_type": "display_data"
    },
    {
     "name": "stderr",
     "output_type": "stream",
     "text": [
      "Token indices sequence length is longer than the specified maximum sequence length for this model (1492 > 512). Running this sequence through the model will result in indexing errors\n"
     ]
    },
    {
     "data": {
      "application/vnd.jupyter.widget-view+json": {
       "model_id": "61d9b5fc4a4245ba8442a385aca2068d",
       "version_major": 2,
       "version_minor": 0
      },
      "text/plain": [
       "  0%|          | 0/7056 [00:00<?, ?it/s]"
      ]
     },
     "metadata": {},
     "output_type": "display_data"
    },
    {
     "data": {
      "text/html": [
       "<div>\n",
       "<style scoped>\n",
       "    .dataframe tbody tr th:only-of-type {\n",
       "        vertical-align: middle;\n",
       "    }\n",
       "\n",
       "    .dataframe tbody tr th {\n",
       "        vertical-align: top;\n",
       "    }\n",
       "\n",
       "    .dataframe thead th {\n",
       "        text-align: right;\n",
       "    }\n",
       "</style>\n",
       "<table border=\"1\" class=\"dataframe\">\n",
       "  <thead>\n",
       "    <tr style=\"text-align: right;\">\n",
       "      <th></th>\n",
       "      <th>filename</th>\n",
       "      <th>chunk_id</th>\n",
       "      <th>text</th>\n",
       "      <th>codes</th>\n",
       "      <th>pred_labels</th>\n",
       "      <th>raw_preds</th>\n",
       "      <th>pred_probs</th>\n",
       "    </tr>\n",
       "  </thead>\n",
       "  <tbody>\n",
       "    <tr>\n",
       "      <th>5</th>\n",
       "      <td>02100101.20200101040202001.txt</td>\n",
       "      <td>0</td>\n",
       "      <td>◆ 2020 경제기상도 / 업종별 전망 (자동차) ◆ 지난해 국내 자동차 시장은 ...</td>\n",
       "      <td>000270</td>\n",
       "      <td>Negative</td>\n",
       "      <td>{'Neutral': 0.22110844002351862, 'Positive': 0...</td>\n",
       "      <td>0.717613</td>\n",
       "    </tr>\n",
       "    <tr>\n",
       "      <th>10</th>\n",
       "      <td>02100101.20200101040206003.txt</td>\n",
       "      <td>0</td>\n",
       "      <td>◆ 2020 경제기상도 / 업종별 전망 (유통) ◆ 2020년은 국내 대표 온·오...</td>\n",
       "      <td>139480</td>\n",
       "      <td>Neutral</td>\n",
       "      <td>{'Neutral': 0.8255044887345607, 'Positive': 0....</td>\n",
       "      <td>0.825504</td>\n",
       "    </tr>\n",
       "    <tr>\n",
       "      <th>11</th>\n",
       "      <td>02100101.20200101060214001.txt</td>\n",
       "      <td>0</td>\n",
       "      <td>[Pulse로 배우는 영작문-762] 'Pulse로 배우는 영작문'으로 영문 뉴스...</td>\n",
       "      <td>005380</td>\n",
       "      <td>Neutral</td>\n",
       "      <td>{'Neutral': 0.11524808398723353, 'Positive': 0...</td>\n",
       "      <td>0.126036</td>\n",
       "    </tr>\n",
       "    <tr>\n",
       "      <th>18</th>\n",
       "      <td>02100101.20200101183234001.txt</td>\n",
       "      <td>0</td>\n",
       "      <td>제네시스의 첫 번째 스포츠유틸리티차량(SUV) 모델인 GV80가 역동적이면서 우아...</td>\n",
       "      <td>005380</td>\n",
       "      <td>Neutral</td>\n",
       "      <td>{'Neutral': 0.2245705448013361, 'Positive': 0....</td>\n",
       "      <td>0.271877</td>\n",
       "    </tr>\n",
       "    <tr>\n",
       "      <th>19</th>\n",
       "      <td>02100101.20200101184423001.txt</td>\n",
       "      <td>0</td>\n",
       "      <td>◆ 2020 유통대전 ① ◆ 유통기업 '빅(Big)2' 롯데쇼핑과 이마트의 새 수...</td>\n",
       "      <td>139480</td>\n",
       "      <td>Neutral</td>\n",
       "      <td>{'Neutral': 0.9101777918673029, 'Positive': 0....</td>\n",
       "      <td>0.910178</td>\n",
       "    </tr>\n",
       "  </tbody>\n",
       "</table>\n",
       "</div>"
      ],
      "text/plain": [
       "                          filename  chunk_id  \\\n",
       "5   02100101.20200101040202001.txt         0   \n",
       "10  02100101.20200101040206003.txt         0   \n",
       "11  02100101.20200101060214001.txt         0   \n",
       "18  02100101.20200101183234001.txt         0   \n",
       "19  02100101.20200101184423001.txt         0   \n",
       "\n",
       "                                                 text   codes pred_labels  \\\n",
       "5    ◆ 2020 경제기상도 / 업종별 전망 (자동차) ◆ 지난해 국내 자동차 시장은 ...  000270    Negative   \n",
       "10   ◆ 2020 경제기상도 / 업종별 전망 (유통) ◆ 2020년은 국내 대표 온·오...  139480     Neutral   \n",
       "11   [Pulse로 배우는 영작문-762] 'Pulse로 배우는 영작문'으로 영문 뉴스...  005380     Neutral   \n",
       "18   제네시스의 첫 번째 스포츠유틸리티차량(SUV) 모델인 GV80가 역동적이면서 우아...  005380     Neutral   \n",
       "19   ◆ 2020 유통대전 ① ◆ 유통기업 '빅(Big)2' 롯데쇼핑과 이마트의 새 수...  139480     Neutral   \n",
       "\n",
       "                                            raw_preds  pred_probs  \n",
       "5   {'Neutral': 0.22110844002351862, 'Positive': 0...    0.717613  \n",
       "10  {'Neutral': 0.8255044887345607, 'Positive': 0....    0.825504  \n",
       "11  {'Neutral': 0.11524808398723353, 'Positive': 0...    0.126036  \n",
       "18  {'Neutral': 0.2245705448013361, 'Positive': 0....    0.271877  \n",
       "19  {'Neutral': 0.9101777918673029, 'Positive': 0....    0.910178  "
      ]
     },
     "execution_count": 51,
     "metadata": {},
     "output_type": "execute_result"
    }
   ],
   "source": [
    "overrides=[\n",
    "    '+model/transformer=classification',\n",
    "    '+model/transformer/pretrained=ekonelectra-base',\n",
    "]\n",
    "model_cfg = eKonf.compose('model/transformer=classification', overrides)\n",
    "model_cfg.name = \"esg_cv_polarity\"\n",
    "model_cfg.verbose = False\n",
    "\n",
    "cfg = eKonf.compose(config_group='pipeline')\n",
    "cfg.name = 'esg_news_polarities_20220911'\n",
    "cfg.data_dir = data_dir\n",
    "cfg.data_file = 'esg_news_valid_20220911.parquet'\n",
    "cfg._pipeline_ = ['predict']\n",
    "cfg.predict.model = model_cfg\n",
    "cfg.predict.output_dir = data_dir\n",
    "cfg.predict.output_file = f'{cfg.name}-preds.parquet'\n",
    "cfg.num_workers = 1\n",
    "preds_df = eKonf.instantiate(cfg)\n",
    "preds_df.head()"
   ]
  },
  {
   "cell_type": "markdown",
   "metadata": {
    "pycharm": {
     "name": "#%% md\n"
    }
   },
   "source": [
    "## Predicting categories"
   ]
  },
  {
   "cell_type": "code",
   "execution_count": 52,
   "metadata": {
    "pycharm": {
     "name": "#%%\n"
    }
   },
   "outputs": [
    {
     "name": "stderr",
     "output_type": "stream",
     "text": [
      "INFO:ekorpkit.base:Applying pipe: functools.partial(<function predict at 0x7f2e20d95a60>)\n",
      "INFO:ekorpkit.base:No method defined to call\n"
     ]
    },
    {
     "data": {
      "application/vnd.jupyter.widget-view+json": {
       "model_id": "b6cb087cbb014dfcb0010b542aa78613",
       "version_major": 2,
       "version_minor": 0
      },
      "text/plain": [
       "  0%|          | 0/115784 [00:00<?, ?it/s]"
      ]
     },
     "metadata": {},
     "output_type": "display_data"
    },
    {
     "name": "stderr",
     "output_type": "stream",
     "text": [
      "Token indices sequence length is longer than the specified maximum sequence length for this model (1492 > 512). Running this sequence through the model will result in indexing errors\n"
     ]
    },
    {
     "data": {
      "application/vnd.jupyter.widget-view+json": {
       "model_id": "5cfc6e86370640c0bbb269b68782baf9",
       "version_major": 2,
       "version_minor": 0
      },
      "text/plain": [
       "  0%|          | 0/7056 [00:00<?, ?it/s]"
      ]
     },
     "metadata": {},
     "output_type": "display_data"
    },
    {
     "data": {
      "text/html": [
       "<div>\n",
       "<style scoped>\n",
       "    .dataframe tbody tr th:only-of-type {\n",
       "        vertical-align: middle;\n",
       "    }\n",
       "\n",
       "    .dataframe tbody tr th {\n",
       "        vertical-align: top;\n",
       "    }\n",
       "\n",
       "    .dataframe thead th {\n",
       "        text-align: right;\n",
       "    }\n",
       "</style>\n",
       "<table border=\"1\" class=\"dataframe\">\n",
       "  <thead>\n",
       "    <tr style=\"text-align: right;\">\n",
       "      <th></th>\n",
       "      <th>filename</th>\n",
       "      <th>chunk_id</th>\n",
       "      <th>text</th>\n",
       "      <th>codes</th>\n",
       "      <th>pred_labels</th>\n",
       "      <th>raw_preds</th>\n",
       "      <th>pred_probs</th>\n",
       "    </tr>\n",
       "  </thead>\n",
       "  <tbody>\n",
       "    <tr>\n",
       "      <th>5</th>\n",
       "      <td>02100101.20200101040202001.txt</td>\n",
       "      <td>0</td>\n",
       "      <td>◆ 2020 경제기상도 / 업종별 전망 (자동차) ◆ 지난해 국내 자동차 시장은 ...</td>\n",
       "      <td>000270</td>\n",
       "      <td>S-고용</td>\n",
       "      <td>{'S-고용': 0.9784880492636585, 'E-환경영향': 0.00082...</td>\n",
       "      <td>0.978488</td>\n",
       "    </tr>\n",
       "    <tr>\n",
       "      <th>10</th>\n",
       "      <td>02100101.20200101040206003.txt</td>\n",
       "      <td>0</td>\n",
       "      <td>◆ 2020 경제기상도 / 업종별 전망 (유통) ◆ 2020년은 국내 대표 온·오...</td>\n",
       "      <td>139480</td>\n",
       "      <td>S-소비자</td>\n",
       "      <td>{'S-고용': 0.22015353503574592, 'E-환경영향': 0.0088...</td>\n",
       "      <td>0.559892</td>\n",
       "    </tr>\n",
       "    <tr>\n",
       "      <th>11</th>\n",
       "      <td>02100101.20200101060214001.txt</td>\n",
       "      <td>0</td>\n",
       "      <td>[Pulse로 배우는 영작문-762] 'Pulse로 배우는 영작문'으로 영문 뉴스...</td>\n",
       "      <td>005380</td>\n",
       "      <td>S-소비자</td>\n",
       "      <td>{'S-고용': 0.000642749081254596, 'E-환경영향': 0.002...</td>\n",
       "      <td>0.223181</td>\n",
       "    </tr>\n",
       "    <tr>\n",
       "      <th>18</th>\n",
       "      <td>02100101.20200101183234001.txt</td>\n",
       "      <td>0</td>\n",
       "      <td>제네시스의 첫 번째 스포츠유틸리티차량(SUV) 모델인 GV80가 역동적이면서 우아...</td>\n",
       "      <td>005380</td>\n",
       "      <td>S-소비자</td>\n",
       "      <td>{'S-고용': 0.0018075713776912943, 'E-환경영향': 0.00...</td>\n",
       "      <td>0.330156</td>\n",
       "    </tr>\n",
       "    <tr>\n",
       "      <th>19</th>\n",
       "      <td>02100101.20200101184423001.txt</td>\n",
       "      <td>0</td>\n",
       "      <td>◆ 2020 유통대전 ① ◆ 유통기업 '빅(Big)2' 롯데쇼핑과 이마트의 새 수...</td>\n",
       "      <td>139480</td>\n",
       "      <td>S-고용</td>\n",
       "      <td>{'S-고용': 0.9527512959359385, 'E-환경영향': 0.00096...</td>\n",
       "      <td>0.952751</td>\n",
       "    </tr>\n",
       "  </tbody>\n",
       "</table>\n",
       "</div>"
      ],
      "text/plain": [
       "                          filename  chunk_id  \\\n",
       "5   02100101.20200101040202001.txt         0   \n",
       "10  02100101.20200101040206003.txt         0   \n",
       "11  02100101.20200101060214001.txt         0   \n",
       "18  02100101.20200101183234001.txt         0   \n",
       "19  02100101.20200101184423001.txt         0   \n",
       "\n",
       "                                                 text   codes pred_labels  \\\n",
       "5    ◆ 2020 경제기상도 / 업종별 전망 (자동차) ◆ 지난해 국내 자동차 시장은 ...  000270        S-고용   \n",
       "10   ◆ 2020 경제기상도 / 업종별 전망 (유통) ◆ 2020년은 국내 대표 온·오...  139480       S-소비자   \n",
       "11   [Pulse로 배우는 영작문-762] 'Pulse로 배우는 영작문'으로 영문 뉴스...  005380       S-소비자   \n",
       "18   제네시스의 첫 번째 스포츠유틸리티차량(SUV) 모델인 GV80가 역동적이면서 우아...  005380       S-소비자   \n",
       "19   ◆ 2020 유통대전 ① ◆ 유통기업 '빅(Big)2' 롯데쇼핑과 이마트의 새 수...  139480        S-고용   \n",
       "\n",
       "                                            raw_preds  pred_probs  \n",
       "5   {'S-고용': 0.9784880492636585, 'E-환경영향': 0.00082...    0.978488  \n",
       "10  {'S-고용': 0.22015353503574592, 'E-환경영향': 0.0088...    0.559892  \n",
       "11  {'S-고용': 0.000642749081254596, 'E-환경영향': 0.002...    0.223181  \n",
       "18  {'S-고용': 0.0018075713776912943, 'E-환경영향': 0.00...    0.330156  \n",
       "19  {'S-고용': 0.9527512959359385, 'E-환경영향': 0.00096...    0.952751  "
      ]
     },
     "execution_count": 52,
     "metadata": {},
     "output_type": "execute_result"
    }
   ],
   "source": [
    "overrides=[\n",
    "    '+model/transformer=classification',\n",
    "    '+model/transformer/pretrained=ekonelectra-base',\n",
    "]\n",
    "model_cfg = eKonf.compose('model/transformer=classification', overrides)\n",
    "model_cfg.name = \"esg_cv_topics\"\n",
    "model_cfg.verbose = False\n",
    "\n",
    "cfg = eKonf.compose(config_group='pipeline')\n",
    "cfg.name = 'esg_news_topics_20220911'\n",
    "cfg.data_dir = data_dir\n",
    "cfg.data_file = 'esg_news_valid_20220911.parquet'\n",
    "cfg._pipeline_ = ['predict']\n",
    "cfg.predict.model = model_cfg\n",
    "cfg.predict.output_dir = data_dir\n",
    "cfg.predict.output_file = f'{cfg.name}-preds.parquet'\n",
    "cfg.num_workers = 1\n",
    "category_preds_df = eKonf.instantiate(cfg)\n",
    "category_preds_df.head()"
   ]
  },
  {
   "cell_type": "markdown",
   "metadata": {},
   "source": [
    "## Import data to labelstudio"
   ]
  },
  {
   "cell_type": "code",
   "execution_count": 2,
   "metadata": {},
   "outputs": [],
   "source": [
    "polarity_preds_df = eKonf.load_data(\"esg_news_polarities_20220911-preds.parquet\", data_dir)\n",
    "category_preds_df = eKonf.load_data(\"esg_news_topics_20220911-preds.parquet\", data_dir)"
   ]
  },
  {
   "cell_type": "code",
   "execution_count": 3,
   "metadata": {},
   "outputs": [],
   "source": [
    "polarity_data = polarity_preds_df.merge(\n",
    "    category_preds_df.rename(\n",
    "        columns={\"pred_labels\": \"category_preds\"}\n",
    "    )[['filename', 'chunk_id', 'codes', 'category_preds']],\n",
    "    on = ['filename', 'chunk_id', 'codes']\n",
    ").drop(columns=['raw_preds'])\n",
    "category_data = category_preds_df.merge(\n",
    "    polarity_preds_df.rename(\n",
    "        columns={\"pred_labels\": \"polarity_preds\"}\n",
    "    )[['filename', 'chunk_id', 'codes', 'polarity_preds']],\n",
    "    on = ['filename', 'chunk_id', 'codes']\n",
    ").drop(columns=['raw_preds'])"
   ]
  },
  {
   "cell_type": "code",
   "execution_count": 4,
   "metadata": {},
   "outputs": [
    {
     "name": "stderr",
     "output_type": "stream",
     "text": [
      "INFO:ekorpkit.base:Loaded .env from /workspace/projects/ekorpkit-book/config/.env\n",
      "INFO:ekorpkit.base:setting environment variable CACHED_PATH_CACHE_ROOT to /workspace/.cache/cached_path\n",
      "INFO:ekorpkit.base:setting environment variable KMP_DUPLICATE_LIB_OK to TRUE\n"
     ]
    }
   ],
   "source": [
    "cfg = eKonf.compose(\"io/fetcher=labelstudio\")\n",
    "ls = eKonf.instantiate(cfg)"
   ]
  },
  {
   "cell_type": "code",
   "execution_count": 8,
   "metadata": {},
   "outputs": [
    {
     "name": "stdout",
     "output_type": "stream",
     "text": [
      "5 ESG Polarity Classification (Sep 2022)\n"
     ]
    }
   ],
   "source": [
    "label_config = \"\"\"\n",
    "<View>\n",
    "  <Header value=\"Choose text sentiment:\"/>\n",
    "  <Text name=\"text\" value=\"$text\"/>\n",
    "  <Choices name=\"sentiment\" toName=\"text\" choice=\"single\" showInline=\"true\">\n",
    "    <Choice value=\"Positive\"/>\n",
    "    <Choice value=\"Negative\"/>\n",
    "    <Choice value=\"Neutral\"/>\n",
    "  </Choices>\n",
    "</View>\n",
    "\"\"\"\n",
    "label_config\n",
    "project = ls.create_project(title=\"ESG Polarity Classification (Sep 2022)\", label_config=label_config)\n",
    "print(project[\"id\"], project[\"title\"])"
   ]
  },
  {
   "cell_type": "code",
   "execution_count": 10,
   "metadata": {},
   "outputs": [
    {
     "data": {
      "text/plain": [
       "{'task_count': 137890,\n",
       " 'annotation_count': 0,\n",
       " 'prediction_count': 0,\n",
       " 'duration': 46.494067430496216,\n",
       " 'file_upload_ids': [],\n",
       " 'could_be_tasks_list': False,\n",
       " 'found_formats': [],\n",
       " 'data_columns': []}"
      ]
     },
     "execution_count": 10,
     "metadata": {},
     "output_type": "execute_result"
    }
   ],
   "source": [
    "data = polarity_data.to_dict(orient=\"records\")\n",
    "ls.import_data(data, project_id=5)"
   ]
  },
  {
   "cell_type": "code",
   "execution_count": 11,
   "metadata": {},
   "outputs": [
    {
     "name": "stdout",
     "output_type": "stream",
     "text": [
      "6 ESG Topic Classification (Sep 2022)\n"
     ]
    }
   ],
   "source": [
    "label_config = \"\"\"\n",
    "<View>\n",
    "  <Header value=\"Choose ESG topic clas:\"/>\n",
    "  <Text name=\"text\" value=\"$text\"/>\n",
    "  <Choices name=\"sentiment\" toName=\"text\" choice=\"single\" showInline=\"true\">\n",
    "    <Choice value=\"E-기후변화\"/>\n",
    "    <Choice value=\"E-환경영향\"/>\n",
    "    <Choice value=\"E-환경혁신\"/>\n",
    "    <Choice value=\"S-재해/안전관리\"/>\n",
    "    <Choice value=\"S-고용\"/>\n",
    "    <Choice value=\"S-기업(공급망)동반성장/상생\"/>\n",
    "    <Choice value=\"S-사회공헌\"/>\n",
    "    <Choice value=\"S-소비자\"/>\n",
    "    <Choice value=\"G-지배구조\"/>\n",
    "    <Choice value=\"G-기업윤리/불공정/소송\"/>\n",
    "    <Choice value=\"UNKNOWN\"/>\n",
    "  </Choices>\n",
    "</View>\n",
    "\"\"\"\n",
    "label_config\n",
    "project = ls.create_project(title=\"ESG Topic Classification (Sep 2022)\", label_config=label_config)\n",
    "print(project[\"id\"], project[\"title\"])"
   ]
  },
  {
   "cell_type": "code",
   "execution_count": 12,
   "metadata": {},
   "outputs": [
    {
     "data": {
      "text/plain": [
       "{'task_count': 137890,\n",
       " 'annotation_count': 0,\n",
       " 'prediction_count': 0,\n",
       " 'duration': 30.0275616645813,\n",
       " 'file_upload_ids': [],\n",
       " 'could_be_tasks_list': False,\n",
       " 'found_formats': [],\n",
       " 'data_columns': []}"
      ]
     },
     "execution_count": 12,
     "metadata": {},
     "output_type": "execute_result"
    }
   ],
   "source": [
    "data = category_data.to_dict(orient=\"records\")\n",
    "ls.import_data(data, project_id=6)"
   ]
  },
  {
   "cell_type": "code",
   "execution_count": null,
   "metadata": {},
   "outputs": [],
   "source": []
  }
 ],
 "metadata": {
  "celltoolbar": "Tags",
  "colab": {
   "name": "corpus.ipynb",
   "provenance": []
  },
  "kernelspec": {
   "display_name": "Python 3.8.5 ('base')",
   "language": "python",
   "name": "python3"
  },
  "language_info": {
   "codemirror_mode": {
    "name": "ipython",
    "version": 3
   },
   "file_extension": ".py",
   "mimetype": "text/x-python",
   "name": "python",
   "nbconvert_exporter": "python",
   "pygments_lexer": "ipython3",
   "version": "3.8.12"
  },
  "vscode": {
   "interpreter": {
    "hash": "d4d1e4263499bec80672ea0156c357c1ee493ec2b1c70f0acce89fc37c4a6abe"
   }
  },
  "widgets": {
   "application/vnd.jupyter.widget-state+json": {
    "state": {},
    "version_major": 2,
    "version_minor": 0
   }
  }
 },
 "nbformat": 4,
 "nbformat_minor": 4
}
