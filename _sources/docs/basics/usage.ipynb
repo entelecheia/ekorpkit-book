{
 "cells": [
  {
   "cell_type": "markdown",
   "id": "180b9d10",
   "metadata": {},
   "source": [
    "# Usage\n",
    "\n",
    "## Via Command Line Interface (CLI)"
   ]
  },
  {
   "cell_type": "code",
   "execution_count": 1,
   "id": "c6e4ddd6",
   "metadata": {},
   "outputs": [
    {
     "name": "stdout",
     "output_type": "stream",
     "text": [
      "Traceback (most recent call last):\r\n",
      "  File \"/opt/conda/bin/ekorpkit\", line 33, in <module>\r\n",
      "    sys.exit(load_entry_point('ekorpkit', 'console_scripts', 'ekorpkit')())\r\n",
      "  File \"/opt/conda/bin/ekorpkit\", line 22, in importlib_load_entry_point\r\n",
      "    for entry_point in distribution(dist_name).entry_points\r\n",
      "  File \"/opt/conda/lib/python3.8/importlib/metadata.py\", line 503, in distribution\r\n",
      "    return Distribution.from_name(distribution_name)\r\n",
      "  File \"/opt/conda/lib/python3.8/importlib/metadata.py\", line 177, in from_name\r\n",
      "    raise PackageNotFoundError(name)\r\n",
      "importlib.metadata.PackageNotFoundError: ekorpkit\r\n"
     ]
    }
   ],
   "source": [
    "!ekorpkit"
   ]
  },
  {
   "cell_type": "markdown",
   "id": "314b3cd1",
   "metadata": {},
   "source": [
    "### CLI example to build a corpus\n",
    "\n",
    "```bash\n",
    "ekorpkit --config-dir /workspace/projects/ekorpkit-book/config  \\\n",
    "    project=esgml \\\n",
    "    dir.workspace=/workspace \\\n",
    "    verbose=false \\\n",
    "    print_config=false \\\n",
    "    num_workers=1 \\\n",
    "    cmd=fetch_builtin_corpus \\\n",
    "    +corpus/builtin=_dummy_fomc_minutes \\\n",
    "    corpus.builtin.io.force.summarize=true \\\n",
    "    corpus.builtin.io.force.preprocess=true \\\n",
    "    corpus.builtin.io.force.build=false \\\n",
    "    corpus.builtin.io.force.download=false\n",
    "```\n",
    "\n",
    "### CLI Help\n",
    "\n",
    "To see the available configurations for CLI, run the command:"
   ]
  },
  {
   "cell_type": "code",
   "execution_count": 2,
   "id": "5fb099e4",
   "metadata": {
    "tags": [
     "output_scroll"
    ]
   },
   "outputs": [
    {
     "name": "stdout",
     "output_type": "stream",
     "text": [
      "Traceback (most recent call last):\r\n",
      "  File \"/opt/conda/bin/ekorpkit\", line 33, in <module>\r\n",
      "    sys.exit(load_entry_point('ekorpkit', 'console_scripts', 'ekorpkit')())\r\n",
      "  File \"/opt/conda/bin/ekorpkit\", line 22, in importlib_load_entry_point\r\n",
      "    for entry_point in distribution(dist_name).entry_points\r\n",
      "  File \"/opt/conda/lib/python3.8/importlib/metadata.py\", line 503, in distribution\r\n",
      "    return Distribution.from_name(distribution_name)\r\n",
      "  File \"/opt/conda/lib/python3.8/importlib/metadata.py\", line 177, in from_name\r\n",
      "    raise PackageNotFoundError(name)\r\n",
      "importlib.metadata.PackageNotFoundError: ekorpkit\r\n"
     ]
    }
   ],
   "source": [
    "!ekorpkit --help"
   ]
  },
  {
   "cell_type": "code",
   "execution_count": 3,
   "id": "db37c2bb",
   "metadata": {},
   "outputs": [
    {
     "name": "stdout",
     "output_type": "stream",
     "text": [
      "Traceback (most recent call last):\r\n",
      "  File \"/opt/conda/bin/ekorpkit\", line 33, in <module>\r\n",
      "    sys.exit(load_entry_point('ekorpkit', 'console_scripts', 'ekorpkit')())\r\n",
      "  File \"/opt/conda/bin/ekorpkit\", line 22, in importlib_load_entry_point\r\n",
      "    for entry_point in distribution(dist_name).entry_points\r\n",
      "  File \"/opt/conda/lib/python3.8/importlib/metadata.py\", line 503, in distribution\r\n",
      "    return Distribution.from_name(distribution_name)\r\n",
      "  File \"/opt/conda/lib/python3.8/importlib/metadata.py\", line 177, in from_name\r\n",
      "    raise PackageNotFoundError(name)\r\n",
      "importlib.metadata.PackageNotFoundError: ekorpkit\r\n"
     ]
    }
   ],
   "source": [
    "!ekorpkit --info defaults"
   ]
  },
  {
   "cell_type": "markdown",
   "id": "906da7b7",
   "metadata": {},
   "source": [
    "## Via Python\n",
    "\n",
    "### Compose an ekorpkit config"
   ]
  },
  {
   "cell_type": "code",
   "execution_count": 4,
   "id": "9c9fe013",
   "metadata": {
    "tags": [
     "output_scroll"
    ]
   },
   "outputs": [
    {
     "name": "stdout",
     "output_type": "stream",
     "text": [
      "Config type: <class 'omegaconf.dictconfig.DictConfig'>\n"
     ]
    },
    {
     "ename": "InterpolationKeyError",
     "evalue": "Interpolation key 'project.path.home' not found\n    full_key: root\n    object_type=dict",
     "output_type": "error",
     "traceback": [
      "\u001b[0;31m---------------------------------------------------------------------------\u001b[0m",
      "\u001b[0;31mInterpolationKeyError\u001b[0m                     Traceback (most recent call last)",
      "Input \u001b[0;32mIn [4]\u001b[0m, in \u001b[0;36m<module>\u001b[0;34m\u001b[0m\n\u001b[1;32m      2\u001b[0m cfg \u001b[38;5;241m=\u001b[39m eKonf\u001b[38;5;241m.\u001b[39mcompose()\n\u001b[1;32m      3\u001b[0m \u001b[38;5;28mprint\u001b[39m(\u001b[38;5;124m'\u001b[39m\u001b[38;5;124mConfig type:\u001b[39m\u001b[38;5;124m'\u001b[39m, \u001b[38;5;28mtype\u001b[39m(cfg))\n\u001b[0;32m----> 4\u001b[0m \u001b[43meKonf\u001b[49m\u001b[38;5;241;43m.\u001b[39;49m\u001b[43mpprint\u001b[49m\u001b[43m(\u001b[49m\u001b[43mcfg\u001b[49m\u001b[43m)\u001b[49m\n",
      "File \u001b[0;32m/workspace/projects/ekorpkit/ekorpkit/ekonf.py:276\u001b[0m, in \u001b[0;36meKonf.pprint\u001b[0;34m(cfg, resolve, **kwargs)\u001b[0m\n\u001b[1;32m    274\u001b[0m \u001b[38;5;129m@staticmethod\u001b[39m\n\u001b[1;32m    275\u001b[0m \u001b[38;5;28;01mdef\u001b[39;00m \u001b[38;5;21mpprint\u001b[39m(cfg: Any, resolve: \u001b[38;5;28mbool\u001b[39m \u001b[38;5;241m=\u001b[39m \u001b[38;5;28;01mTrue\u001b[39;00m, \u001b[38;5;241m*\u001b[39m\u001b[38;5;241m*\u001b[39mkwargs):\n\u001b[0;32m--> 276\u001b[0m     \u001b[43m_print\u001b[49m\u001b[43m(\u001b[49m\u001b[43mcfg\u001b[49m\u001b[43m,\u001b[49m\u001b[43m \u001b[49m\u001b[43mresolve\u001b[49m\u001b[38;5;241;43m=\u001b[39;49m\u001b[43mresolve\u001b[49m\u001b[43m,\u001b[49m\u001b[43m \u001b[49m\u001b[38;5;241;43m*\u001b[39;49m\u001b[38;5;241;43m*\u001b[39;49m\u001b[43mkwargs\u001b[49m\u001b[43m)\u001b[49m\n",
      "File \u001b[0;32m/workspace/projects/ekorpkit/ekorpkit/base.py:779\u001b[0m, in \u001b[0;36m_print\u001b[0;34m(cfg, resolve, **kwargs)\u001b[0m\n\u001b[1;32m    777\u001b[0m \u001b[38;5;28;01mif\u001b[39;00m _is_config(cfg):\n\u001b[1;32m    778\u001b[0m     \u001b[38;5;28;01mif\u001b[39;00m resolve:\n\u001b[0;32m--> 779\u001b[0m         pprint\u001b[38;5;241m.\u001b[39mpprint(\u001b[43m_to_dict\u001b[49m\u001b[43m(\u001b[49m\u001b[43mcfg\u001b[49m\u001b[43m)\u001b[49m, \u001b[38;5;241m*\u001b[39m\u001b[38;5;241m*\u001b[39mkwargs)\n\u001b[1;32m    780\u001b[0m     \u001b[38;5;28;01melse\u001b[39;00m:\n\u001b[1;32m    781\u001b[0m         pprint\u001b[38;5;241m.\u001b[39mpprint(cfg, \u001b[38;5;241m*\u001b[39m\u001b[38;5;241m*\u001b[39mkwargs)\n",
      "File \u001b[0;32m/workspace/projects/ekorpkit/ekorpkit/base.py:544\u001b[0m, in \u001b[0;36m_to_dict\u001b[0;34m(cfg)\u001b[0m\n\u001b[1;32m    542\u001b[0m     cfg \u001b[38;5;241m=\u001b[39m _to_config(cfg)\n\u001b[1;32m    543\u001b[0m \u001b[38;5;28;01mif\u001b[39;00m \u001b[38;5;28misinstance\u001b[39m(cfg, (DictConfig, ListConfig)):\n\u001b[0;32m--> 544\u001b[0m     \u001b[38;5;28;01mreturn\u001b[39;00m \u001b[43mOmegaConf\u001b[49m\u001b[38;5;241;43m.\u001b[39;49m\u001b[43mto_container\u001b[49m\u001b[43m(\u001b[49m\n\u001b[1;32m    545\u001b[0m \u001b[43m        \u001b[49m\u001b[43mcfg\u001b[49m\u001b[43m,\u001b[49m\n\u001b[1;32m    546\u001b[0m \u001b[43m        \u001b[49m\u001b[43mresolve\u001b[49m\u001b[38;5;241;43m=\u001b[39;49m\u001b[38;5;28;43;01mTrue\u001b[39;49;00m\u001b[43m,\u001b[49m\n\u001b[1;32m    547\u001b[0m \u001b[43m        \u001b[49m\u001b[43mthrow_on_missing\u001b[49m\u001b[38;5;241;43m=\u001b[39;49m\u001b[38;5;28;43;01mFalse\u001b[39;49;00m\u001b[43m,\u001b[49m\n\u001b[1;32m    548\u001b[0m \u001b[43m        \u001b[49m\u001b[43mstructured_config_mode\u001b[49m\u001b[38;5;241;43m=\u001b[39;49m\u001b[43mSCMode\u001b[49m\u001b[38;5;241;43m.\u001b[39;49m\u001b[43mDICT\u001b[49m\u001b[43m,\u001b[49m\n\u001b[1;32m    549\u001b[0m \u001b[43m    \u001b[49m\u001b[43m)\u001b[49m\n\u001b[1;32m    550\u001b[0m \u001b[38;5;28;01mreturn\u001b[39;00m cfg\n",
      "File \u001b[0;32m/opt/conda/lib/python3.8/site-packages/omegaconf/omegaconf.py:573\u001b[0m, in \u001b[0;36mOmegaConf.to_container\u001b[0;34m(cfg, resolve, throw_on_missing, enum_to_str, structured_config_mode)\u001b[0m\n\u001b[1;32m    568\u001b[0m \u001b[38;5;28;01mif\u001b[39;00m \u001b[38;5;129;01mnot\u001b[39;00m OmegaConf\u001b[38;5;241m.\u001b[39mis_config(cfg):\n\u001b[1;32m    569\u001b[0m     \u001b[38;5;28;01mraise\u001b[39;00m \u001b[38;5;167;01mValueError\u001b[39;00m(\n\u001b[1;32m    570\u001b[0m         \u001b[38;5;124mf\u001b[39m\u001b[38;5;124m\"\u001b[39m\u001b[38;5;124mInput cfg is not an OmegaConf config object (\u001b[39m\u001b[38;5;132;01m{\u001b[39;00mtype_str(\u001b[38;5;28mtype\u001b[39m(cfg))\u001b[38;5;132;01m}\u001b[39;00m\u001b[38;5;124m)\u001b[39m\u001b[38;5;124m\"\u001b[39m\n\u001b[1;32m    571\u001b[0m     )\n\u001b[0;32m--> 573\u001b[0m \u001b[38;5;28;01mreturn\u001b[39;00m \u001b[43mBaseContainer\u001b[49m\u001b[38;5;241;43m.\u001b[39;49m\u001b[43m_to_content\u001b[49m\u001b[43m(\u001b[49m\n\u001b[1;32m    574\u001b[0m \u001b[43m    \u001b[49m\u001b[43mcfg\u001b[49m\u001b[43m,\u001b[49m\n\u001b[1;32m    575\u001b[0m \u001b[43m    \u001b[49m\u001b[43mresolve\u001b[49m\u001b[38;5;241;43m=\u001b[39;49m\u001b[43mresolve\u001b[49m\u001b[43m,\u001b[49m\n\u001b[1;32m    576\u001b[0m \u001b[43m    \u001b[49m\u001b[43mthrow_on_missing\u001b[49m\u001b[38;5;241;43m=\u001b[39;49m\u001b[43mthrow_on_missing\u001b[49m\u001b[43m,\u001b[49m\n\u001b[1;32m    577\u001b[0m \u001b[43m    \u001b[49m\u001b[43menum_to_str\u001b[49m\u001b[38;5;241;43m=\u001b[39;49m\u001b[43menum_to_str\u001b[49m\u001b[43m,\u001b[49m\n\u001b[1;32m    578\u001b[0m \u001b[43m    \u001b[49m\u001b[43mstructured_config_mode\u001b[49m\u001b[38;5;241;43m=\u001b[39;49m\u001b[43mstructured_config_mode\u001b[49m\u001b[43m,\u001b[49m\n\u001b[1;32m    579\u001b[0m \u001b[43m\u001b[49m\u001b[43m)\u001b[49m\n",
      "File \u001b[0;32m/opt/conda/lib/python3.8/site-packages/omegaconf/basecontainer.py:292\u001b[0m, in \u001b[0;36mBaseContainer._to_content\u001b[0;34m(conf, resolve, throw_on_missing, enum_to_str, structured_config_mode)\u001b[0m\n\u001b[1;32m    290\u001b[0m retdict: Dict[DictKeyType, Any] \u001b[38;5;241m=\u001b[39m {}\n\u001b[1;32m    291\u001b[0m \u001b[38;5;28;01mfor\u001b[39;00m key \u001b[38;5;129;01min\u001b[39;00m conf\u001b[38;5;241m.\u001b[39mkeys():\n\u001b[0;32m--> 292\u001b[0m     value \u001b[38;5;241m=\u001b[39m \u001b[43mget_node_value\u001b[49m\u001b[43m(\u001b[49m\u001b[43mkey\u001b[49m\u001b[43m)\u001b[49m\n\u001b[1;32m    293\u001b[0m     \u001b[38;5;28;01mif\u001b[39;00m enum_to_str \u001b[38;5;129;01mand\u001b[39;00m \u001b[38;5;28misinstance\u001b[39m(key, Enum):\n\u001b[1;32m    294\u001b[0m         key \u001b[38;5;241m=\u001b[39m \u001b[38;5;124mf\u001b[39m\u001b[38;5;124m\"\u001b[39m\u001b[38;5;132;01m{\u001b[39;00mkey\u001b[38;5;241m.\u001b[39mname\u001b[38;5;132;01m}\u001b[39;00m\u001b[38;5;124m\"\u001b[39m\n",
      "File \u001b[0;32m/opt/conda/lib/python3.8/site-packages/omegaconf/basecontainer.py:244\u001b[0m, in \u001b[0;36mBaseContainer._to_content.<locals>.get_node_value\u001b[0;34m(key)\u001b[0m\n\u001b[1;32m    242\u001b[0m         node \u001b[38;5;241m=\u001b[39m node\u001b[38;5;241m.\u001b[39m_dereference_node()\n\u001b[1;32m    243\u001b[0m     \u001b[38;5;28;01mexcept\u001b[39;00m InterpolationResolutionError \u001b[38;5;28;01mas\u001b[39;00m e:\n\u001b[0;32m--> 244\u001b[0m         \u001b[43mconf\u001b[49m\u001b[38;5;241;43m.\u001b[39;49m\u001b[43m_format_and_raise\u001b[49m\u001b[43m(\u001b[49m\u001b[43mkey\u001b[49m\u001b[38;5;241;43m=\u001b[39;49m\u001b[43mkey\u001b[49m\u001b[43m,\u001b[49m\u001b[43m \u001b[49m\u001b[43mvalue\u001b[49m\u001b[38;5;241;43m=\u001b[39;49m\u001b[38;5;28;43;01mNone\u001b[39;49;00m\u001b[43m,\u001b[49m\u001b[43m \u001b[49m\u001b[43mcause\u001b[49m\u001b[38;5;241;43m=\u001b[39;49m\u001b[43me\u001b[49m\u001b[43m)\u001b[49m\n\u001b[1;32m    246\u001b[0m \u001b[38;5;28;01mif\u001b[39;00m \u001b[38;5;28misinstance\u001b[39m(node, Container):\n\u001b[1;32m    247\u001b[0m     value \u001b[38;5;241m=\u001b[39m BaseContainer\u001b[38;5;241m.\u001b[39m_to_content(\n\u001b[1;32m    248\u001b[0m         node,\n\u001b[1;32m    249\u001b[0m         resolve\u001b[38;5;241m=\u001b[39mresolve,\n\u001b[0;32m   (...)\u001b[0m\n\u001b[1;32m    252\u001b[0m         structured_config_mode\u001b[38;5;241m=\u001b[39mstructured_config_mode,\n\u001b[1;32m    253\u001b[0m     )\n",
      "File \u001b[0;32m/opt/conda/lib/python3.8/site-packages/omegaconf/base.py:231\u001b[0m, in \u001b[0;36mNode._format_and_raise\u001b[0;34m(self, key, value, cause, msg, type_override)\u001b[0m\n\u001b[1;32m    223\u001b[0m \u001b[38;5;28;01mdef\u001b[39;00m \u001b[38;5;21m_format_and_raise\u001b[39m(\n\u001b[1;32m    224\u001b[0m     \u001b[38;5;28mself\u001b[39m,\n\u001b[1;32m    225\u001b[0m     key: Any,\n\u001b[0;32m   (...)\u001b[0m\n\u001b[1;32m    229\u001b[0m     type_override: Any \u001b[38;5;241m=\u001b[39m \u001b[38;5;28;01mNone\u001b[39;00m,\n\u001b[1;32m    230\u001b[0m ) \u001b[38;5;241m-\u001b[39m\u001b[38;5;241m>\u001b[39m \u001b[38;5;28;01mNone\u001b[39;00m:\n\u001b[0;32m--> 231\u001b[0m     \u001b[43mformat_and_raise\u001b[49m\u001b[43m(\u001b[49m\n\u001b[1;32m    232\u001b[0m \u001b[43m        \u001b[49m\u001b[43mnode\u001b[49m\u001b[38;5;241;43m=\u001b[39;49m\u001b[38;5;28;43mself\u001b[39;49m\u001b[43m,\u001b[49m\n\u001b[1;32m    233\u001b[0m \u001b[43m        \u001b[49m\u001b[43mkey\u001b[49m\u001b[38;5;241;43m=\u001b[39;49m\u001b[43mkey\u001b[49m\u001b[43m,\u001b[49m\n\u001b[1;32m    234\u001b[0m \u001b[43m        \u001b[49m\u001b[43mvalue\u001b[49m\u001b[38;5;241;43m=\u001b[39;49m\u001b[43mvalue\u001b[49m\u001b[43m,\u001b[49m\n\u001b[1;32m    235\u001b[0m \u001b[43m        \u001b[49m\u001b[43mmsg\u001b[49m\u001b[38;5;241;43m=\u001b[39;49m\u001b[38;5;28;43mstr\u001b[39;49m\u001b[43m(\u001b[49m\u001b[43mcause\u001b[49m\u001b[43m)\u001b[49m\u001b[43m \u001b[49m\u001b[38;5;28;43;01mif\u001b[39;49;00m\u001b[43m \u001b[49m\u001b[43mmsg\u001b[49m\u001b[43m \u001b[49m\u001b[38;5;129;43;01mis\u001b[39;49;00m\u001b[43m \u001b[49m\u001b[38;5;28;43;01mNone\u001b[39;49;00m\u001b[43m \u001b[49m\u001b[38;5;28;43;01melse\u001b[39;49;00m\u001b[43m \u001b[49m\u001b[43mmsg\u001b[49m\u001b[43m,\u001b[49m\n\u001b[1;32m    236\u001b[0m \u001b[43m        \u001b[49m\u001b[43mcause\u001b[49m\u001b[38;5;241;43m=\u001b[39;49m\u001b[43mcause\u001b[49m\u001b[43m,\u001b[49m\n\u001b[1;32m    237\u001b[0m \u001b[43m        \u001b[49m\u001b[43mtype_override\u001b[49m\u001b[38;5;241;43m=\u001b[39;49m\u001b[43mtype_override\u001b[49m\u001b[43m,\u001b[49m\n\u001b[1;32m    238\u001b[0m \u001b[43m    \u001b[49m\u001b[43m)\u001b[49m\n\u001b[1;32m    239\u001b[0m     \u001b[38;5;28;01massert\u001b[39;00m \u001b[38;5;28;01mFalse\u001b[39;00m\n",
      "File \u001b[0;32m/opt/conda/lib/python3.8/site-packages/omegaconf/_utils.py:899\u001b[0m, in \u001b[0;36mformat_and_raise\u001b[0;34m(node, key, value, msg, cause, type_override)\u001b[0m\n\u001b[1;32m    896\u001b[0m     ex\u001b[38;5;241m.\u001b[39mref_type \u001b[38;5;241m=\u001b[39m ref_type\n\u001b[1;32m    897\u001b[0m     ex\u001b[38;5;241m.\u001b[39mref_type_str \u001b[38;5;241m=\u001b[39m ref_type_str\n\u001b[0;32m--> 899\u001b[0m \u001b[43m_raise\u001b[49m\u001b[43m(\u001b[49m\u001b[43mex\u001b[49m\u001b[43m,\u001b[49m\u001b[43m \u001b[49m\u001b[43mcause\u001b[49m\u001b[43m)\u001b[49m\n",
      "File \u001b[0;32m/opt/conda/lib/python3.8/site-packages/omegaconf/_utils.py:797\u001b[0m, in \u001b[0;36m_raise\u001b[0;34m(ex, cause)\u001b[0m\n\u001b[1;32m    795\u001b[0m \u001b[38;5;28;01melse\u001b[39;00m:\n\u001b[1;32m    796\u001b[0m     ex\u001b[38;5;241m.\u001b[39m__cause__ \u001b[38;5;241m=\u001b[39m \u001b[38;5;28;01mNone\u001b[39;00m\n\u001b[0;32m--> 797\u001b[0m \u001b[38;5;28;01mraise\u001b[39;00m ex\u001b[38;5;241m.\u001b[39mwith_traceback(sys\u001b[38;5;241m.\u001b[39mexc_info()[\u001b[38;5;241m2\u001b[39m])\n",
      "File \u001b[0;32m/opt/conda/lib/python3.8/site-packages/omegaconf/basecontainer.py:242\u001b[0m, in \u001b[0;36mBaseContainer._to_content.<locals>.get_node_value\u001b[0;34m(key)\u001b[0m\n\u001b[1;32m    240\u001b[0m \u001b[38;5;28;01mif\u001b[39;00m resolve:\n\u001b[1;32m    241\u001b[0m     \u001b[38;5;28;01mtry\u001b[39;00m:\n\u001b[0;32m--> 242\u001b[0m         node \u001b[38;5;241m=\u001b[39m \u001b[43mnode\u001b[49m\u001b[38;5;241;43m.\u001b[39;49m\u001b[43m_dereference_node\u001b[49m\u001b[43m(\u001b[49m\u001b[43m)\u001b[49m\n\u001b[1;32m    243\u001b[0m     \u001b[38;5;28;01mexcept\u001b[39;00m InterpolationResolutionError \u001b[38;5;28;01mas\u001b[39;00m e:\n\u001b[1;32m    244\u001b[0m         conf\u001b[38;5;241m.\u001b[39m_format_and_raise(key\u001b[38;5;241m=\u001b[39mkey, value\u001b[38;5;241m=\u001b[39m\u001b[38;5;28;01mNone\u001b[39;00m, cause\u001b[38;5;241m=\u001b[39me)\n",
      "File \u001b[0;32m/opt/conda/lib/python3.8/site-packages/omegaconf/base.py:246\u001b[0m, in \u001b[0;36mNode._dereference_node\u001b[0;34m(self)\u001b[0m\n\u001b[1;32m    245\u001b[0m \u001b[38;5;28;01mdef\u001b[39;00m \u001b[38;5;21m_dereference_node\u001b[39m(\u001b[38;5;28mself\u001b[39m) \u001b[38;5;241m-\u001b[39m\u001b[38;5;241m>\u001b[39m \u001b[38;5;124m\"\u001b[39m\u001b[38;5;124mNode\u001b[39m\u001b[38;5;124m\"\u001b[39m:\n\u001b[0;32m--> 246\u001b[0m     node \u001b[38;5;241m=\u001b[39m \u001b[38;5;28;43mself\u001b[39;49m\u001b[38;5;241;43m.\u001b[39;49m\u001b[43m_dereference_node_impl\u001b[49m\u001b[43m(\u001b[49m\u001b[43mthrow_on_resolution_failure\u001b[49m\u001b[38;5;241;43m=\u001b[39;49m\u001b[38;5;28;43;01mTrue\u001b[39;49;00m\u001b[43m)\u001b[49m\n\u001b[1;32m    247\u001b[0m     \u001b[38;5;28;01massert\u001b[39;00m node \u001b[38;5;129;01mis\u001b[39;00m \u001b[38;5;129;01mnot\u001b[39;00m \u001b[38;5;28;01mNone\u001b[39;00m\n\u001b[1;32m    248\u001b[0m     \u001b[38;5;28;01mreturn\u001b[39;00m node\n",
      "File \u001b[0;32m/opt/conda/lib/python3.8/site-packages/omegaconf/base.py:277\u001b[0m, in \u001b[0;36mNode._dereference_node_impl\u001b[0;34m(self, throw_on_resolution_failure, memo)\u001b[0m\n\u001b[1;32m    275\u001b[0m \u001b[38;5;28;01massert\u001b[39;00m parent \u001b[38;5;129;01mis\u001b[39;00m \u001b[38;5;129;01mnot\u001b[39;00m \u001b[38;5;28;01mNone\u001b[39;00m\n\u001b[1;32m    276\u001b[0m key \u001b[38;5;241m=\u001b[39m \u001b[38;5;28mself\u001b[39m\u001b[38;5;241m.\u001b[39m_key()\n\u001b[0;32m--> 277\u001b[0m \u001b[38;5;28;01mreturn\u001b[39;00m \u001b[43mparent\u001b[49m\u001b[38;5;241;43m.\u001b[39;49m\u001b[43m_resolve_interpolation_from_parse_tree\u001b[49m\u001b[43m(\u001b[49m\n\u001b[1;32m    278\u001b[0m \u001b[43m    \u001b[49m\u001b[43mparent\u001b[49m\u001b[38;5;241;43m=\u001b[39;49m\u001b[43mparent\u001b[49m\u001b[43m,\u001b[49m\n\u001b[1;32m    279\u001b[0m \u001b[43m    \u001b[49m\u001b[43mkey\u001b[49m\u001b[38;5;241;43m=\u001b[39;49m\u001b[43mkey\u001b[49m\u001b[43m,\u001b[49m\n\u001b[1;32m    280\u001b[0m \u001b[43m    \u001b[49m\u001b[43mvalue\u001b[49m\u001b[38;5;241;43m=\u001b[39;49m\u001b[38;5;28;43mself\u001b[39;49m\u001b[43m,\u001b[49m\n\u001b[1;32m    281\u001b[0m \u001b[43m    \u001b[49m\u001b[43mparse_tree\u001b[49m\u001b[38;5;241;43m=\u001b[39;49m\u001b[43mparse\u001b[49m\u001b[43m(\u001b[49m\u001b[43m_get_value\u001b[49m\u001b[43m(\u001b[49m\u001b[38;5;28;43mself\u001b[39;49m\u001b[43m)\u001b[49m\u001b[43m)\u001b[49m\u001b[43m,\u001b[49m\n\u001b[1;32m    282\u001b[0m \u001b[43m    \u001b[49m\u001b[43mthrow_on_resolution_failure\u001b[49m\u001b[38;5;241;43m=\u001b[39;49m\u001b[43mthrow_on_resolution_failure\u001b[49m\u001b[43m,\u001b[49m\n\u001b[1;32m    283\u001b[0m \u001b[43m    \u001b[49m\u001b[43mmemo\u001b[49m\u001b[38;5;241;43m=\u001b[39;49m\u001b[43mmemo\u001b[49m\u001b[43m,\u001b[49m\n\u001b[1;32m    284\u001b[0m \u001b[43m\u001b[49m\u001b[43m)\u001b[49m\n",
      "File \u001b[0;32m/opt/conda/lib/python3.8/site-packages/omegaconf/base.py:584\u001b[0m, in \u001b[0;36mContainer._resolve_interpolation_from_parse_tree\u001b[0;34m(self, parent, value, key, parse_tree, throw_on_resolution_failure, memo)\u001b[0m\n\u001b[1;32m    554\u001b[0m \u001b[38;5;124;03m\"\"\"\u001b[39;00m\n\u001b[1;32m    555\u001b[0m \u001b[38;5;124;03mResolve an interpolation.\u001b[39;00m\n\u001b[1;32m    556\u001b[0m \n\u001b[0;32m   (...)\u001b[0m\n\u001b[1;32m    580\u001b[0m \u001b[38;5;124;03m    `throw_on_resolution_failure` is `False` and an error occurs during resolution.\u001b[39;00m\n\u001b[1;32m    581\u001b[0m \u001b[38;5;124;03m\"\"\"\u001b[39;00m\n\u001b[1;32m    583\u001b[0m \u001b[38;5;28;01mtry\u001b[39;00m:\n\u001b[0;32m--> 584\u001b[0m     resolved \u001b[38;5;241m=\u001b[39m \u001b[38;5;28;43mself\u001b[39;49m\u001b[38;5;241;43m.\u001b[39;49m\u001b[43mresolve_parse_tree\u001b[49m\u001b[43m(\u001b[49m\n\u001b[1;32m    585\u001b[0m \u001b[43m        \u001b[49m\u001b[43mparse_tree\u001b[49m\u001b[38;5;241;43m=\u001b[39;49m\u001b[43mparse_tree\u001b[49m\u001b[43m,\u001b[49m\u001b[43m \u001b[49m\u001b[43mnode\u001b[49m\u001b[38;5;241;43m=\u001b[39;49m\u001b[43mvalue\u001b[49m\u001b[43m,\u001b[49m\u001b[43m \u001b[49m\u001b[43mkey\u001b[49m\u001b[38;5;241;43m=\u001b[39;49m\u001b[43mkey\u001b[49m\u001b[43m,\u001b[49m\u001b[43m \u001b[49m\u001b[43mmemo\u001b[49m\u001b[38;5;241;43m=\u001b[39;49m\u001b[43mmemo\u001b[49m\n\u001b[1;32m    586\u001b[0m \u001b[43m    \u001b[49m\u001b[43m)\u001b[49m\n\u001b[1;32m    587\u001b[0m \u001b[38;5;28;01mexcept\u001b[39;00m InterpolationResolutionError:\n\u001b[1;32m    588\u001b[0m     \u001b[38;5;28;01mif\u001b[39;00m throw_on_resolution_failure:\n",
      "File \u001b[0;32m/opt/conda/lib/python3.8/site-packages/omegaconf/base.py:764\u001b[0m, in \u001b[0;36mContainer.resolve_parse_tree\u001b[0;34m(self, parse_tree, node, memo, key)\u001b[0m\n\u001b[1;32m    758\u001b[0m visitor \u001b[38;5;241m=\u001b[39m GrammarVisitor(\n\u001b[1;32m    759\u001b[0m     node_interpolation_callback\u001b[38;5;241m=\u001b[39mnode_interpolation_callback,\n\u001b[1;32m    760\u001b[0m     resolver_interpolation_callback\u001b[38;5;241m=\u001b[39mresolver_interpolation_callback,\n\u001b[1;32m    761\u001b[0m     memo\u001b[38;5;241m=\u001b[39mmemo,\n\u001b[1;32m    762\u001b[0m )\n\u001b[1;32m    763\u001b[0m \u001b[38;5;28;01mtry\u001b[39;00m:\n\u001b[0;32m--> 764\u001b[0m     \u001b[38;5;28;01mreturn\u001b[39;00m \u001b[43mvisitor\u001b[49m\u001b[38;5;241;43m.\u001b[39;49m\u001b[43mvisit\u001b[49m\u001b[43m(\u001b[49m\u001b[43mparse_tree\u001b[49m\u001b[43m)\u001b[49m\n\u001b[1;32m    765\u001b[0m \u001b[38;5;28;01mexcept\u001b[39;00m InterpolationResolutionError:\n\u001b[1;32m    766\u001b[0m     \u001b[38;5;28;01mraise\u001b[39;00m\n",
      "File \u001b[0;32m/opt/conda/lib/python3.8/site-packages/antlr4/tree/Tree.py:34\u001b[0m, in \u001b[0;36mParseTreeVisitor.visit\u001b[0;34m(self, tree)\u001b[0m\n\u001b[1;32m     33\u001b[0m \u001b[38;5;28;01mdef\u001b[39;00m \u001b[38;5;21mvisit\u001b[39m(\u001b[38;5;28mself\u001b[39m, tree):\n\u001b[0;32m---> 34\u001b[0m     \u001b[38;5;28;01mreturn\u001b[39;00m \u001b[43mtree\u001b[49m\u001b[38;5;241;43m.\u001b[39;49m\u001b[43maccept\u001b[49m\u001b[43m(\u001b[49m\u001b[38;5;28;43mself\u001b[39;49m\u001b[43m)\u001b[49m\n",
      "File \u001b[0;32m/opt/conda/lib/python3.8/site-packages/omegaconf/grammar/gen/OmegaConfGrammarParser.py:206\u001b[0m, in \u001b[0;36mOmegaConfGrammarParser.ConfigValueContext.accept\u001b[0;34m(self, visitor)\u001b[0m\n\u001b[1;32m    204\u001b[0m \u001b[38;5;28;01mdef\u001b[39;00m \u001b[38;5;21maccept\u001b[39m(\u001b[38;5;28mself\u001b[39m, visitor:ParseTreeVisitor):\n\u001b[1;32m    205\u001b[0m     \u001b[38;5;28;01mif\u001b[39;00m \u001b[38;5;28mhasattr\u001b[39m( visitor, \u001b[38;5;124m\"\u001b[39m\u001b[38;5;124mvisitConfigValue\u001b[39m\u001b[38;5;124m\"\u001b[39m ):\n\u001b[0;32m--> 206\u001b[0m         \u001b[38;5;28;01mreturn\u001b[39;00m \u001b[43mvisitor\u001b[49m\u001b[38;5;241;43m.\u001b[39;49m\u001b[43mvisitConfigValue\u001b[49m\u001b[43m(\u001b[49m\u001b[38;5;28;43mself\u001b[39;49m\u001b[43m)\u001b[49m\n\u001b[1;32m    207\u001b[0m     \u001b[38;5;28;01melse\u001b[39;00m:\n\u001b[1;32m    208\u001b[0m         \u001b[38;5;28;01mreturn\u001b[39;00m visitor\u001b[38;5;241m.\u001b[39mvisitChildren(\u001b[38;5;28mself\u001b[39m)\n",
      "File \u001b[0;32m/opt/conda/lib/python3.8/site-packages/omegaconf/grammar_visitor.py:101\u001b[0m, in \u001b[0;36mGrammarVisitor.visitConfigValue\u001b[0;34m(self, ctx)\u001b[0m\n\u001b[1;32m     98\u001b[0m \u001b[38;5;28;01mdef\u001b[39;00m \u001b[38;5;21mvisitConfigValue\u001b[39m(\u001b[38;5;28mself\u001b[39m, ctx: OmegaConfGrammarParser\u001b[38;5;241m.\u001b[39mConfigValueContext) \u001b[38;5;241m-\u001b[39m\u001b[38;5;241m>\u001b[39m Any:\n\u001b[1;32m     99\u001b[0m     \u001b[38;5;66;03m# text EOF\u001b[39;00m\n\u001b[1;32m    100\u001b[0m     \u001b[38;5;28;01massert\u001b[39;00m ctx\u001b[38;5;241m.\u001b[39mgetChildCount() \u001b[38;5;241m==\u001b[39m \u001b[38;5;241m2\u001b[39m\n\u001b[0;32m--> 101\u001b[0m     \u001b[38;5;28;01mreturn\u001b[39;00m \u001b[38;5;28;43mself\u001b[39;49m\u001b[38;5;241;43m.\u001b[39;49m\u001b[43mvisit\u001b[49m\u001b[43m(\u001b[49m\u001b[43mctx\u001b[49m\u001b[38;5;241;43m.\u001b[39;49m\u001b[43mgetChild\u001b[49m\u001b[43m(\u001b[49m\u001b[38;5;241;43m0\u001b[39;49m\u001b[43m)\u001b[49m\u001b[43m)\u001b[49m\n",
      "File \u001b[0;32m/opt/conda/lib/python3.8/site-packages/antlr4/tree/Tree.py:34\u001b[0m, in \u001b[0;36mParseTreeVisitor.visit\u001b[0;34m(self, tree)\u001b[0m\n\u001b[1;32m     33\u001b[0m \u001b[38;5;28;01mdef\u001b[39;00m \u001b[38;5;21mvisit\u001b[39m(\u001b[38;5;28mself\u001b[39m, tree):\n\u001b[0;32m---> 34\u001b[0m     \u001b[38;5;28;01mreturn\u001b[39;00m \u001b[43mtree\u001b[49m\u001b[38;5;241;43m.\u001b[39;49m\u001b[43maccept\u001b[49m\u001b[43m(\u001b[49m\u001b[38;5;28;43mself\u001b[39;49m\u001b[43m)\u001b[49m\n",
      "File \u001b[0;32m/opt/conda/lib/python3.8/site-packages/omegaconf/grammar/gen/OmegaConfGrammarParser.py:342\u001b[0m, in \u001b[0;36mOmegaConfGrammarParser.TextContext.accept\u001b[0;34m(self, visitor)\u001b[0m\n\u001b[1;32m    340\u001b[0m \u001b[38;5;28;01mdef\u001b[39;00m \u001b[38;5;21maccept\u001b[39m(\u001b[38;5;28mself\u001b[39m, visitor:ParseTreeVisitor):\n\u001b[1;32m    341\u001b[0m     \u001b[38;5;28;01mif\u001b[39;00m \u001b[38;5;28mhasattr\u001b[39m( visitor, \u001b[38;5;124m\"\u001b[39m\u001b[38;5;124mvisitText\u001b[39m\u001b[38;5;124m\"\u001b[39m ):\n\u001b[0;32m--> 342\u001b[0m         \u001b[38;5;28;01mreturn\u001b[39;00m \u001b[43mvisitor\u001b[49m\u001b[38;5;241;43m.\u001b[39;49m\u001b[43mvisitText\u001b[49m\u001b[43m(\u001b[49m\u001b[38;5;28;43mself\u001b[39;49m\u001b[43m)\u001b[49m\n\u001b[1;32m    343\u001b[0m     \u001b[38;5;28;01melse\u001b[39;00m:\n\u001b[1;32m    344\u001b[0m         \u001b[38;5;28;01mreturn\u001b[39;00m visitor\u001b[38;5;241m.\u001b[39mvisitChildren(\u001b[38;5;28mself\u001b[39m)\n",
      "File \u001b[0;32m/opt/conda/lib/python3.8/site-packages/omegaconf/grammar_visitor.py:298\u001b[0m, in \u001b[0;36mGrammarVisitor.visitText\u001b[0;34m(self, ctx)\u001b[0m\n\u001b[1;32m    296\u001b[0m     c \u001b[38;5;241m=\u001b[39m ctx\u001b[38;5;241m.\u001b[39mgetChild(\u001b[38;5;241m0\u001b[39m)\n\u001b[1;32m    297\u001b[0m     \u001b[38;5;28;01mif\u001b[39;00m \u001b[38;5;28misinstance\u001b[39m(c, OmegaConfGrammarParser\u001b[38;5;241m.\u001b[39mInterpolationContext):\n\u001b[0;32m--> 298\u001b[0m         \u001b[38;5;28;01mreturn\u001b[39;00m \u001b[38;5;28;43mself\u001b[39;49m\u001b[38;5;241;43m.\u001b[39;49m\u001b[43mvisitInterpolation\u001b[49m\u001b[43m(\u001b[49m\u001b[43mc\u001b[49m\u001b[43m)\u001b[49m\n\u001b[1;32m    300\u001b[0m \u001b[38;5;66;03m# Otherwise, concatenate string representations together.\u001b[39;00m\n\u001b[1;32m    301\u001b[0m \u001b[38;5;28;01mreturn\u001b[39;00m \u001b[38;5;28mself\u001b[39m\u001b[38;5;241m.\u001b[39m_unescape(\u001b[38;5;28mlist\u001b[39m(ctx\u001b[38;5;241m.\u001b[39mgetChildren()))\n",
      "File \u001b[0;32m/opt/conda/lib/python3.8/site-packages/omegaconf/grammar_visitor.py:125\u001b[0m, in \u001b[0;36mGrammarVisitor.visitInterpolation\u001b[0;34m(self, ctx)\u001b[0m\n\u001b[1;32m    121\u001b[0m \u001b[38;5;28;01mdef\u001b[39;00m \u001b[38;5;21mvisitInterpolation\u001b[39m(\n\u001b[1;32m    122\u001b[0m     \u001b[38;5;28mself\u001b[39m, ctx: OmegaConfGrammarParser\u001b[38;5;241m.\u001b[39mInterpolationContext\n\u001b[1;32m    123\u001b[0m ) \u001b[38;5;241m-\u001b[39m\u001b[38;5;241m>\u001b[39m Any:\n\u001b[1;32m    124\u001b[0m     \u001b[38;5;28;01massert\u001b[39;00m ctx\u001b[38;5;241m.\u001b[39mgetChildCount() \u001b[38;5;241m==\u001b[39m \u001b[38;5;241m1\u001b[39m  \u001b[38;5;66;03m# interpolationNode | interpolationResolver\u001b[39;00m\n\u001b[0;32m--> 125\u001b[0m     \u001b[38;5;28;01mreturn\u001b[39;00m \u001b[38;5;28;43mself\u001b[39;49m\u001b[38;5;241;43m.\u001b[39;49m\u001b[43mvisit\u001b[49m\u001b[43m(\u001b[49m\u001b[43mctx\u001b[49m\u001b[38;5;241;43m.\u001b[39;49m\u001b[43mgetChild\u001b[49m\u001b[43m(\u001b[49m\u001b[38;5;241;43m0\u001b[39;49m\u001b[43m)\u001b[49m\u001b[43m)\u001b[49m\n",
      "File \u001b[0;32m/opt/conda/lib/python3.8/site-packages/antlr4/tree/Tree.py:34\u001b[0m, in \u001b[0;36mParseTreeVisitor.visit\u001b[0;34m(self, tree)\u001b[0m\n\u001b[1;32m     33\u001b[0m \u001b[38;5;28;01mdef\u001b[39;00m \u001b[38;5;21mvisit\u001b[39m(\u001b[38;5;28mself\u001b[39m, tree):\n\u001b[0;32m---> 34\u001b[0m     \u001b[38;5;28;01mreturn\u001b[39;00m \u001b[43mtree\u001b[49m\u001b[38;5;241;43m.\u001b[39;49m\u001b[43maccept\u001b[49m\u001b[43m(\u001b[49m\u001b[38;5;28;43mself\u001b[39;49m\u001b[43m)\u001b[49m\n",
      "File \u001b[0;32m/opt/conda/lib/python3.8/site-packages/omegaconf/grammar/gen/OmegaConfGrammarParser.py:1041\u001b[0m, in \u001b[0;36mOmegaConfGrammarParser.InterpolationResolverContext.accept\u001b[0;34m(self, visitor)\u001b[0m\n\u001b[1;32m   1039\u001b[0m \u001b[38;5;28;01mdef\u001b[39;00m \u001b[38;5;21maccept\u001b[39m(\u001b[38;5;28mself\u001b[39m, visitor:ParseTreeVisitor):\n\u001b[1;32m   1040\u001b[0m     \u001b[38;5;28;01mif\u001b[39;00m \u001b[38;5;28mhasattr\u001b[39m( visitor, \u001b[38;5;124m\"\u001b[39m\u001b[38;5;124mvisitInterpolationResolver\u001b[39m\u001b[38;5;124m\"\u001b[39m ):\n\u001b[0;32m-> 1041\u001b[0m         \u001b[38;5;28;01mreturn\u001b[39;00m \u001b[43mvisitor\u001b[49m\u001b[38;5;241;43m.\u001b[39;49m\u001b[43mvisitInterpolationResolver\u001b[49m\u001b[43m(\u001b[49m\u001b[38;5;28;43mself\u001b[39;49m\u001b[43m)\u001b[49m\n\u001b[1;32m   1042\u001b[0m     \u001b[38;5;28;01melse\u001b[39;00m:\n\u001b[1;32m   1043\u001b[0m         \u001b[38;5;28;01mreturn\u001b[39;00m visitor\u001b[38;5;241m.\u001b[39mvisitChildren(\u001b[38;5;28mself\u001b[39m)\n",
      "File \u001b[0;32m/opt/conda/lib/python3.8/site-packages/omegaconf/grammar_visitor.py:175\u001b[0m, in \u001b[0;36mGrammarVisitor.visitInterpolationResolver\u001b[0;34m(self, ctx)\u001b[0m\n\u001b[1;32m    173\u001b[0m \u001b[38;5;28;01melse\u001b[39;00m:\n\u001b[1;32m    174\u001b[0m     \u001b[38;5;28;01massert\u001b[39;00m \u001b[38;5;28misinstance\u001b[39m(maybe_seq, OmegaConfGrammarParser\u001b[38;5;241m.\u001b[39mSequenceContext)\n\u001b[0;32m--> 175\u001b[0m     \u001b[38;5;28;01mfor\u001b[39;00m val, txt \u001b[38;5;129;01min\u001b[39;00m \u001b[38;5;28mself\u001b[39m\u001b[38;5;241m.\u001b[39mvisitSequence(maybe_seq):\n\u001b[1;32m    176\u001b[0m         args\u001b[38;5;241m.\u001b[39mappend(val)\n\u001b[1;32m    177\u001b[0m         args_str\u001b[38;5;241m.\u001b[39mappend(txt)\n",
      "File \u001b[0;32m/opt/conda/lib/python3.8/site-packages/omegaconf/grammar_visitor.py:267\u001b[0m, in \u001b[0;36mGrammarVisitor.visitSequence\u001b[0;34m(self, ctx)\u001b[0m\n\u001b[1;32m    261\u001b[0m \u001b[38;5;28;01mfor\u001b[39;00m child \u001b[38;5;129;01min\u001b[39;00m ctx\u001b[38;5;241m.\u001b[39mgetChildren():\n\u001b[1;32m    262\u001b[0m     \u001b[38;5;28;01mif\u001b[39;00m \u001b[38;5;28misinstance\u001b[39m(child, OmegaConfGrammarParser\u001b[38;5;241m.\u001b[39mElementContext):\n\u001b[1;32m    263\u001b[0m         \u001b[38;5;66;03m# Also preserve the original text representation of `child` so\u001b[39;00m\n\u001b[1;32m    264\u001b[0m         \u001b[38;5;66;03m# as to allow backward compatibility with old resolvers (registered\u001b[39;00m\n\u001b[1;32m    265\u001b[0m         \u001b[38;5;66;03m# with `legacy_register_resolver()`). Note that we cannot just cast\u001b[39;00m\n\u001b[1;32m    266\u001b[0m         \u001b[38;5;66;03m# the value to string later as for instance `null` would become \"None\".\u001b[39;00m\n\u001b[0;32m--> 267\u001b[0m         \u001b[38;5;28;01myield\u001b[39;00m _get_value(\u001b[38;5;28;43mself\u001b[39;49m\u001b[38;5;241;43m.\u001b[39;49m\u001b[43mvisitElement\u001b[49m\u001b[43m(\u001b[49m\u001b[43mchild\u001b[49m\u001b[43m)\u001b[49m), child\u001b[38;5;241m.\u001b[39mgetText()\n\u001b[1;32m    268\u001b[0m         is_previous_comma \u001b[38;5;241m=\u001b[39m \u001b[38;5;28;01mFalse\u001b[39;00m\n\u001b[1;32m    269\u001b[0m     \u001b[38;5;28;01melse\u001b[39;00m:\n",
      "File \u001b[0;32m/opt/conda/lib/python3.8/site-packages/omegaconf/grammar_visitor.py:119\u001b[0m, in \u001b[0;36mGrammarVisitor.visitElement\u001b[0;34m(self, ctx)\u001b[0m\n\u001b[1;32m    116\u001b[0m \u001b[38;5;28;01mdef\u001b[39;00m \u001b[38;5;21mvisitElement\u001b[39m(\u001b[38;5;28mself\u001b[39m, ctx: OmegaConfGrammarParser\u001b[38;5;241m.\u001b[39mElementContext) \u001b[38;5;241m-\u001b[39m\u001b[38;5;241m>\u001b[39m Any:\n\u001b[1;32m    117\u001b[0m     \u001b[38;5;66;03m# primitive | quotedValue | listContainer | dictContainer\u001b[39;00m\n\u001b[1;32m    118\u001b[0m     \u001b[38;5;28;01massert\u001b[39;00m ctx\u001b[38;5;241m.\u001b[39mgetChildCount() \u001b[38;5;241m==\u001b[39m \u001b[38;5;241m1\u001b[39m\n\u001b[0;32m--> 119\u001b[0m     \u001b[38;5;28;01mreturn\u001b[39;00m \u001b[38;5;28;43mself\u001b[39;49m\u001b[38;5;241;43m.\u001b[39;49m\u001b[43mvisit\u001b[49m\u001b[43m(\u001b[49m\u001b[43mctx\u001b[49m\u001b[38;5;241;43m.\u001b[39;49m\u001b[43mgetChild\u001b[49m\u001b[43m(\u001b[49m\u001b[38;5;241;43m0\u001b[39;49m\u001b[43m)\u001b[49m\u001b[43m)\u001b[49m\n",
      "File \u001b[0;32m/opt/conda/lib/python3.8/site-packages/antlr4/tree/Tree.py:34\u001b[0m, in \u001b[0;36mParseTreeVisitor.visit\u001b[0;34m(self, tree)\u001b[0m\n\u001b[1;32m     33\u001b[0m \u001b[38;5;28;01mdef\u001b[39;00m \u001b[38;5;21mvisit\u001b[39m(\u001b[38;5;28mself\u001b[39m, tree):\n\u001b[0;32m---> 34\u001b[0m     \u001b[38;5;28;01mreturn\u001b[39;00m \u001b[43mtree\u001b[49m\u001b[38;5;241;43m.\u001b[39;49m\u001b[43maccept\u001b[49m\u001b[43m(\u001b[49m\u001b[38;5;28;43mself\u001b[39;49m\u001b[43m)\u001b[49m\n",
      "File \u001b[0;32m/opt/conda/lib/python3.8/site-packages/omegaconf/grammar/gen/OmegaConfGrammarParser.py:1406\u001b[0m, in \u001b[0;36mOmegaConfGrammarParser.PrimitiveContext.accept\u001b[0;34m(self, visitor)\u001b[0m\n\u001b[1;32m   1404\u001b[0m \u001b[38;5;28;01mdef\u001b[39;00m \u001b[38;5;21maccept\u001b[39m(\u001b[38;5;28mself\u001b[39m, visitor:ParseTreeVisitor):\n\u001b[1;32m   1405\u001b[0m     \u001b[38;5;28;01mif\u001b[39;00m \u001b[38;5;28mhasattr\u001b[39m( visitor, \u001b[38;5;124m\"\u001b[39m\u001b[38;5;124mvisitPrimitive\u001b[39m\u001b[38;5;124m\"\u001b[39m ):\n\u001b[0;32m-> 1406\u001b[0m         \u001b[38;5;28;01mreturn\u001b[39;00m \u001b[43mvisitor\u001b[49m\u001b[38;5;241;43m.\u001b[39;49m\u001b[43mvisitPrimitive\u001b[49m\u001b[43m(\u001b[49m\u001b[38;5;28;43mself\u001b[39;49m\u001b[43m)\u001b[49m\n\u001b[1;32m   1407\u001b[0m     \u001b[38;5;28;01melse\u001b[39;00m:\n\u001b[1;32m   1408\u001b[0m         \u001b[38;5;28;01mreturn\u001b[39;00m visitor\u001b[38;5;241m.\u001b[39mvisitChildren(\u001b[38;5;28mself\u001b[39m)\n",
      "File \u001b[0;32m/opt/conda/lib/python3.8/site-packages/omegaconf/grammar_visitor.py:212\u001b[0m, in \u001b[0;36mGrammarVisitor.visitPrimitive\u001b[0;34m(self, ctx)\u001b[0m\n\u001b[1;32m    211\u001b[0m \u001b[38;5;28;01mdef\u001b[39;00m \u001b[38;5;21mvisitPrimitive\u001b[39m(\u001b[38;5;28mself\u001b[39m, ctx: OmegaConfGrammarParser\u001b[38;5;241m.\u001b[39mPrimitiveContext) \u001b[38;5;241m-\u001b[39m\u001b[38;5;241m>\u001b[39m Any:\n\u001b[0;32m--> 212\u001b[0m     \u001b[38;5;28;01mreturn\u001b[39;00m \u001b[38;5;28;43mself\u001b[39;49m\u001b[38;5;241;43m.\u001b[39;49m\u001b[43m_createPrimitive\u001b[49m\u001b[43m(\u001b[49m\u001b[43mctx\u001b[49m\u001b[43m)\u001b[49m\n",
      "File \u001b[0;32m/opt/conda/lib/python3.8/site-packages/omegaconf/grammar_visitor.py:339\u001b[0m, in \u001b[0;36mGrammarVisitor._createPrimitive\u001b[0;34m(self, ctx)\u001b[0m\n\u001b[1;32m    337\u001b[0m     \u001b[38;5;28;01massert\u001b[39;00m \u001b[38;5;28;01mFalse\u001b[39;00m, symbol\u001b[38;5;241m.\u001b[39mtype\n\u001b[1;32m    338\u001b[0m \u001b[38;5;66;03m# Concatenation of multiple items ==> un-escape the concatenation.\u001b[39;00m\n\u001b[0;32m--> 339\u001b[0m \u001b[38;5;28;01mreturn\u001b[39;00m \u001b[38;5;28;43mself\u001b[39;49m\u001b[38;5;241;43m.\u001b[39;49m\u001b[43m_unescape\u001b[49m\u001b[43m(\u001b[49m\u001b[38;5;28;43mlist\u001b[39;49m\u001b[43m(\u001b[49m\u001b[43mctx\u001b[49m\u001b[38;5;241;43m.\u001b[39;49m\u001b[43mgetChildren\u001b[49m\u001b[43m(\u001b[49m\u001b[43m)\u001b[49m\u001b[43m)\u001b[49m\u001b[43m)\u001b[49m\n",
      "File \u001b[0;32m/opt/conda/lib/python3.8/site-packages/omegaconf/grammar_visitor.py:389\u001b[0m, in \u001b[0;36mGrammarVisitor._unescape\u001b[0;34m(self, seq)\u001b[0m\n\u001b[1;32m    387\u001b[0m     \u001b[38;5;28;01melse\u001b[39;00m:\n\u001b[1;32m    388\u001b[0m         \u001b[38;5;28;01massert\u001b[39;00m \u001b[38;5;28misinstance\u001b[39m(node, OmegaConfGrammarParser\u001b[38;5;241m.\u001b[39mInterpolationContext)\n\u001b[0;32m--> 389\u001b[0m         text \u001b[38;5;241m=\u001b[39m \u001b[38;5;28mstr\u001b[39m(\u001b[38;5;28;43mself\u001b[39;49m\u001b[38;5;241;43m.\u001b[39;49m\u001b[43mvisitInterpolation\u001b[49m\u001b[43m(\u001b[49m\u001b[43mnode\u001b[49m\u001b[43m)\u001b[49m)\n\u001b[1;32m    390\u001b[0m     chrs\u001b[38;5;241m.\u001b[39mappend(text)\n\u001b[1;32m    392\u001b[0m \u001b[38;5;28;01mreturn\u001b[39;00m \u001b[38;5;124m\"\u001b[39m\u001b[38;5;124m\"\u001b[39m\u001b[38;5;241m.\u001b[39mjoin(chrs)\n",
      "File \u001b[0;32m/opt/conda/lib/python3.8/site-packages/omegaconf/grammar_visitor.py:125\u001b[0m, in \u001b[0;36mGrammarVisitor.visitInterpolation\u001b[0;34m(self, ctx)\u001b[0m\n\u001b[1;32m    121\u001b[0m \u001b[38;5;28;01mdef\u001b[39;00m \u001b[38;5;21mvisitInterpolation\u001b[39m(\n\u001b[1;32m    122\u001b[0m     \u001b[38;5;28mself\u001b[39m, ctx: OmegaConfGrammarParser\u001b[38;5;241m.\u001b[39mInterpolationContext\n\u001b[1;32m    123\u001b[0m ) \u001b[38;5;241m-\u001b[39m\u001b[38;5;241m>\u001b[39m Any:\n\u001b[1;32m    124\u001b[0m     \u001b[38;5;28;01massert\u001b[39;00m ctx\u001b[38;5;241m.\u001b[39mgetChildCount() \u001b[38;5;241m==\u001b[39m \u001b[38;5;241m1\u001b[39m  \u001b[38;5;66;03m# interpolationNode | interpolationResolver\u001b[39;00m\n\u001b[0;32m--> 125\u001b[0m     \u001b[38;5;28;01mreturn\u001b[39;00m \u001b[38;5;28;43mself\u001b[39;49m\u001b[38;5;241;43m.\u001b[39;49m\u001b[43mvisit\u001b[49m\u001b[43m(\u001b[49m\u001b[43mctx\u001b[49m\u001b[38;5;241;43m.\u001b[39;49m\u001b[43mgetChild\u001b[49m\u001b[43m(\u001b[49m\u001b[38;5;241;43m0\u001b[39;49m\u001b[43m)\u001b[49m\u001b[43m)\u001b[49m\n",
      "File \u001b[0;32m/opt/conda/lib/python3.8/site-packages/antlr4/tree/Tree.py:34\u001b[0m, in \u001b[0;36mParseTreeVisitor.visit\u001b[0;34m(self, tree)\u001b[0m\n\u001b[1;32m     33\u001b[0m \u001b[38;5;28;01mdef\u001b[39;00m \u001b[38;5;21mvisit\u001b[39m(\u001b[38;5;28mself\u001b[39m, tree):\n\u001b[0;32m---> 34\u001b[0m     \u001b[38;5;28;01mreturn\u001b[39;00m \u001b[43mtree\u001b[49m\u001b[38;5;241;43m.\u001b[39;49m\u001b[43maccept\u001b[49m\u001b[43m(\u001b[49m\u001b[38;5;28;43mself\u001b[39;49m\u001b[43m)\u001b[49m\n",
      "File \u001b[0;32m/opt/conda/lib/python3.8/site-packages/omegaconf/grammar/gen/OmegaConfGrammarParser.py:921\u001b[0m, in \u001b[0;36mOmegaConfGrammarParser.InterpolationNodeContext.accept\u001b[0;34m(self, visitor)\u001b[0m\n\u001b[1;32m    919\u001b[0m \u001b[38;5;28;01mdef\u001b[39;00m \u001b[38;5;21maccept\u001b[39m(\u001b[38;5;28mself\u001b[39m, visitor:ParseTreeVisitor):\n\u001b[1;32m    920\u001b[0m     \u001b[38;5;28;01mif\u001b[39;00m \u001b[38;5;28mhasattr\u001b[39m( visitor, \u001b[38;5;124m\"\u001b[39m\u001b[38;5;124mvisitInterpolationNode\u001b[39m\u001b[38;5;124m\"\u001b[39m ):\n\u001b[0;32m--> 921\u001b[0m         \u001b[38;5;28;01mreturn\u001b[39;00m \u001b[43mvisitor\u001b[49m\u001b[38;5;241;43m.\u001b[39;49m\u001b[43mvisitInterpolationNode\u001b[49m\u001b[43m(\u001b[49m\u001b[38;5;28;43mself\u001b[39;49m\u001b[43m)\u001b[49m\n\u001b[1;32m    922\u001b[0m     \u001b[38;5;28;01melse\u001b[39;00m:\n\u001b[1;32m    923\u001b[0m         \u001b[38;5;28;01mreturn\u001b[39;00m visitor\u001b[38;5;241m.\u001b[39mvisitChildren(\u001b[38;5;28mself\u001b[39m)\n",
      "File \u001b[0;32m/opt/conda/lib/python3.8/site-packages/omegaconf/grammar_visitor.py:158\u001b[0m, in \u001b[0;36mGrammarVisitor.visitInterpolationNode\u001b[0;34m(self, ctx)\u001b[0m\n\u001b[1;32m    155\u001b[0m         inter_key_tokens\u001b[38;5;241m.\u001b[39mappend(\u001b[38;5;28mself\u001b[39m\u001b[38;5;241m.\u001b[39mvisitConfigKey(child))\n\u001b[1;32m    157\u001b[0m inter_key \u001b[38;5;241m=\u001b[39m \u001b[38;5;124m\"\u001b[39m\u001b[38;5;124m\"\u001b[39m\u001b[38;5;241m.\u001b[39mjoin(inter_key_tokens)\n\u001b[0;32m--> 158\u001b[0m \u001b[38;5;28;01mreturn\u001b[39;00m \u001b[38;5;28;43mself\u001b[39;49m\u001b[38;5;241;43m.\u001b[39;49m\u001b[43mnode_interpolation_callback\u001b[49m\u001b[43m(\u001b[49m\u001b[43minter_key\u001b[49m\u001b[43m,\u001b[49m\u001b[43m \u001b[49m\u001b[38;5;28;43mself\u001b[39;49m\u001b[38;5;241;43m.\u001b[39;49m\u001b[43mmemo\u001b[49m\u001b[43m)\u001b[49m\n",
      "File \u001b[0;32m/opt/conda/lib/python3.8/site-packages/omegaconf/base.py:745\u001b[0m, in \u001b[0;36mContainer.resolve_parse_tree.<locals>.node_interpolation_callback\u001b[0;34m(inter_key, memo)\u001b[0m\n\u001b[1;32m    742\u001b[0m \u001b[38;5;28;01mdef\u001b[39;00m \u001b[38;5;21mnode_interpolation_callback\u001b[39m(\n\u001b[1;32m    743\u001b[0m     inter_key: \u001b[38;5;28mstr\u001b[39m, memo: Optional[Set[\u001b[38;5;28mint\u001b[39m]]\n\u001b[1;32m    744\u001b[0m ) \u001b[38;5;241m-\u001b[39m\u001b[38;5;241m>\u001b[39m Optional[\u001b[38;5;124m\"\u001b[39m\u001b[38;5;124mNode\u001b[39m\u001b[38;5;124m\"\u001b[39m]:\n\u001b[0;32m--> 745\u001b[0m     \u001b[38;5;28;01mreturn\u001b[39;00m \u001b[38;5;28;43mself\u001b[39;49m\u001b[38;5;241;43m.\u001b[39;49m\u001b[43m_resolve_node_interpolation\u001b[49m\u001b[43m(\u001b[49m\u001b[43minter_key\u001b[49m\u001b[38;5;241;43m=\u001b[39;49m\u001b[43minter_key\u001b[49m\u001b[43m,\u001b[49m\u001b[43m \u001b[49m\u001b[43mmemo\u001b[49m\u001b[38;5;241;43m=\u001b[39;49m\u001b[43mmemo\u001b[49m\u001b[43m)\u001b[49m\n",
      "File \u001b[0;32m/opt/conda/lib/python3.8/site-packages/omegaconf/base.py:676\u001b[0m, in \u001b[0;36mContainer._resolve_node_interpolation\u001b[0;34m(self, inter_key, memo)\u001b[0m\n\u001b[1;32m    671\u001b[0m     \u001b[38;5;28;01mraise\u001b[39;00m InterpolationToMissingValueError(\n\u001b[1;32m    672\u001b[0m         \u001b[38;5;124mf\u001b[39m\u001b[38;5;124m\"\u001b[39m\u001b[38;5;124mMissingMandatoryValue while resolving interpolation: \u001b[39m\u001b[38;5;132;01m{\u001b[39;00mexc\u001b[38;5;132;01m}\u001b[39;00m\u001b[38;5;124m\"\u001b[39m\n\u001b[1;32m    673\u001b[0m     )\u001b[38;5;241m.\u001b[39mwith_traceback(sys\u001b[38;5;241m.\u001b[39mexc_info()[\u001b[38;5;241m2\u001b[39m])\n\u001b[1;32m    675\u001b[0m \u001b[38;5;28;01mif\u001b[39;00m parent \u001b[38;5;129;01mis\u001b[39;00m \u001b[38;5;28;01mNone\u001b[39;00m \u001b[38;5;129;01mor\u001b[39;00m value \u001b[38;5;129;01mis\u001b[39;00m \u001b[38;5;28;01mNone\u001b[39;00m:\n\u001b[0;32m--> 676\u001b[0m     \u001b[38;5;28;01mraise\u001b[39;00m InterpolationKeyError(\u001b[38;5;124mf\u001b[39m\u001b[38;5;124m\"\u001b[39m\u001b[38;5;124mInterpolation key \u001b[39m\u001b[38;5;124m'\u001b[39m\u001b[38;5;132;01m{\u001b[39;00minter_key\u001b[38;5;132;01m}\u001b[39;00m\u001b[38;5;124m'\u001b[39m\u001b[38;5;124m not found\u001b[39m\u001b[38;5;124m\"\u001b[39m)\n\u001b[1;32m    677\u001b[0m \u001b[38;5;28;01melse\u001b[39;00m:\n\u001b[1;32m    678\u001b[0m     \u001b[38;5;28mself\u001b[39m\u001b[38;5;241m.\u001b[39m_validate_not_dereferencing_to_parent(node\u001b[38;5;241m=\u001b[39m\u001b[38;5;28mself\u001b[39m, target\u001b[38;5;241m=\u001b[39mvalue)\n",
      "\u001b[0;31mInterpolationKeyError\u001b[0m: Interpolation key 'project.path.home' not found\n    full_key: root\n    object_type=dict"
     ]
    }
   ],
   "source": [
    "from ekorpkit import eKonf\n",
    "cfg = eKonf.compose()\n",
    "print('Config type:', type(cfg))\n",
    "eKonf.pprint(cfg)"
   ]
  },
  {
   "cell_type": "markdown",
   "id": "c5eedda5",
   "metadata": {},
   "source": [
    "### Instantiating objects with an ekorpkit config\n",
    "\n",
    "#### compose a config for the nltk class"
   ]
  },
  {
   "cell_type": "code",
   "execution_count": 5,
   "id": "02909df8",
   "metadata": {},
   "outputs": [
    {
     "name": "stdout",
     "output_type": "stream",
     "text": [
      "{'_target_': 'ekorpkit.preprocessors.tokenizer.NLTKTokenizer',\n",
      " 'extract': {'noun_postags': ['NN', 'NNP', 'NNS', 'NNPS'],\n",
      "             'postag_delim': '/',\n",
      "             'postag_length': None,\n",
      "             'postags': None,\n",
      "             'stop_postags': ['.'],\n",
      "             'strip_pos': True},\n",
      " 'nltk': {'lemmatize': False,\n",
      "          'lemmatizer': {'_target_': 'nltk.stem.WordNetLemmatizer'},\n",
      "          'stem': True,\n",
      "          'stemmer': {'_target_': 'nltk.stem.PorterStemmer'}},\n",
      " 'normalize': None,\n",
      " 'return_as_list': False,\n",
      " 'stopwords': {'_target_': 'ekorpkit.preprocessors.stopwords.Stopwords',\n",
      "               'lowercase': True,\n",
      "               'name': 'stopwords',\n",
      "               'nltk_stopwords': None,\n",
      "               'stopwords': None,\n",
      "               'stopwords_path': None,\n",
      "               'verbose': False},\n",
      " 'stopwords_path': None,\n",
      " 'tagset': None,\n",
      " 'tokenize': {'flatten': True,\n",
      "              'include_whitespace_token': True,\n",
      "              'lowercase': False,\n",
      "              'postag_delim': '/',\n",
      "              'postag_length': None,\n",
      "              'punct_postags': ['SF', 'SP', 'SSO', 'SSC', 'SY'],\n",
      "              'strip_pos': False,\n",
      "              'tokenize_each_word': False,\n",
      "              'userdic_path': None,\n",
      "              'wordpieces_prefix': '##'},\n",
      " 'tokenize_article': {'sentence_separator': '\\\\n'},\n",
      " 'verbose': False}\n"
     ]
    },
    {
     "name": "stderr",
     "output_type": "stream",
     "text": [
      "INFO:ekorpkit.preprocessors.tokenizer:instantiating ekorpkit.preprocessors.stopwords.Stopwords...\n"
     ]
    }
   ],
   "source": [
    "from ekorpkit import eKonf\n",
    "config_group='preprocessor/tokenizer=nltk'\n",
    "cfg = eKonf.compose(config_group=config_group)\n",
    "eKonf.pprint(cfg)\n",
    "nltk = eKonf.instantiate(cfg)"
   ]
  },
  {
   "cell_type": "code",
   "execution_count": 6,
   "id": "d70c94fc",
   "metadata": {},
   "outputs": [
    {
     "data": {
      "text/plain": [
       "['i/PRP',\n",
       " 'shall/MD',\n",
       " 'reemphas/VB',\n",
       " 'some/DT',\n",
       " 'of/IN',\n",
       " 'those/DT',\n",
       " 'thought/NNS',\n",
       " 'today/NN',\n",
       " 'in/IN',\n",
       " 'the/DT',\n",
       " 'context/NN',\n",
       " 'of/IN',\n",
       " 'legisl/JJ',\n",
       " 'propos/NNS',\n",
       " 'that/WDT',\n",
       " 'are/VBP',\n",
       " 'now/RB',\n",
       " 'befor/IN',\n",
       " 'the/DT',\n",
       " 'current/JJ',\n",
       " 'congress/NNP',\n",
       " './.']"
      ]
     },
     "execution_count": 6,
     "metadata": {},
     "output_type": "execute_result"
    }
   ],
   "source": [
    "text = \"I shall reemphasize some of those thoughts today in the context of legislative proposals that are now before the current Congress.\"\n",
    "nltk.tokenize(text)"
   ]
  },
  {
   "cell_type": "code",
   "execution_count": 7,
   "id": "dec5e4f7",
   "metadata": {},
   "outputs": [
    {
     "data": {
      "text/plain": [
       "['thought', 'today', 'context', 'propos', 'congress']"
      ]
     },
     "execution_count": 7,
     "metadata": {},
     "output_type": "execute_result"
    }
   ],
   "source": [
    " nltk.nouns(text)"
   ]
  },
  {
   "cell_type": "markdown",
   "id": "36948164",
   "metadata": {},
   "source": [
    "#### compose a config for the mecab class"
   ]
  },
  {
   "cell_type": "code",
   "execution_count": 8,
   "id": "8b4036fa",
   "metadata": {},
   "outputs": [
    {
     "name": "stdout",
     "output_type": "stream",
     "text": [
      "{'_target_': 'ekorpkit.preprocessors.tokenizer.MecabTokenizer',\n",
      " 'extract': {'noun_postags': ['NNG', 'NNP', 'XSN', 'SL', 'XR', 'NNB', 'NR'],\n",
      "             'postag_delim': '/',\n",
      "             'postag_length': None,\n",
      "             'postags': None,\n",
      "             'stop_postags': ['SP', 'SF', 'SE', 'SSO', 'SSC', 'SC', 'SY', 'SH'],\n",
      "             'strip_pos': True},\n",
      " 'mecab': {'backend': 'mecab-python3', 'userdic_path': None, 'verbose': False},\n",
      " 'normalize': None,\n",
      " 'return_as_list': False,\n",
      " 'stopwords': {'_target_': 'ekorpkit.preprocessors.stopwords.Stopwords',\n",
      "               'lowercase': True,\n",
      "               'name': 'stopwords',\n",
      "               'nltk_stopwords': None,\n",
      "               'stopwords': None,\n",
      "               'stopwords_path': None,\n",
      "               'verbose': False},\n",
      " 'stopwords_path': None,\n",
      " 'tagset': None,\n",
      " 'tokenize': {'flatten': True,\n",
      "              'include_whitespace_token': True,\n",
      "              'lowercase': False,\n",
      "              'postag_delim': '/',\n",
      "              'postag_length': None,\n",
      "              'punct_postags': ['SF', 'SP', 'SSO', 'SSC', 'SY'],\n",
      "              'strip_pos': False,\n",
      "              'tokenize_each_word': False,\n",
      "              'userdic_path': None,\n",
      "              'wordpieces_prefix': '##'},\n",
      " 'tokenize_article': {'sentence_separator': '\\\\n'},\n",
      " 'verbose': False}\n"
     ]
    }
   ],
   "source": [
    "config_group='preprocessor/tokenizer=mecab'\n",
    "cfg = eKonf.compose(config_group=config_group)\n",
    "eKonf.pprint(cfg)"
   ]
  },
  {
   "cell_type": "markdown",
   "id": "e7b3de00",
   "metadata": {},
   "source": [
    "#### intantiate a mecab config and tokenize a text"
   ]
  },
  {
   "cell_type": "code",
   "execution_count": 9,
   "id": "2783e6eb",
   "metadata": {},
   "outputs": [
    {
     "name": "stderr",
     "output_type": "stream",
     "text": [
      "INFO:ekorpkit.preprocessors.tokenizer:Initializing mecab with {'userdic_path': None, 'backend': 'mecab-python3', 'verbose': False}...\n"
     ]
    },
    {
     "name": "stderr",
     "output_type": "stream",
     "text": [
      "INFO:ekorpkit.preprocessors.tokenizer:instantiating ekorpkit.preprocessors.stopwords.Stopwords...\n"
     ]
    },
    {
     "data": {
      "text/plain": [
       "['IMF/SL',\n",
       " '가/JKS',\n",
       " '/SP',\n",
       " '推定/NNG',\n",
       " '한/XSA+ETM',\n",
       " '/SP',\n",
       " '우리나라/NNG',\n",
       " '의/JKG',\n",
       " '/SP',\n",
       " 'GDP/SL',\n",
       " '갭/NNG',\n",
       " '률/XSN',\n",
       " '은/JX',\n",
       " '/SP',\n",
       " '今年/NNG',\n",
       " '에/JKB',\n",
       " '도/JX',\n",
       " '/SP',\n",
       " '소폭/NNG',\n",
       " '의/JKG',\n",
       " '/SP',\n",
       " '마이너스/NNG',\n",
       " '(/SSO',\n",
       " '−)/SY',\n",
       " '를/JKO',\n",
       " '/SP',\n",
       " '持續/NNG',\n",
       " '하/XSV',\n",
       " '고/EC',\n",
       " '/SP',\n",
       " '있/VX',\n",
       " '다/EF',\n",
       " './SF']"
      ]
     },
     "execution_count": 9,
     "metadata": {},
     "output_type": "execute_result"
    }
   ],
   "source": [
    "mecab = eKonf.instantiate(cfg)\n",
    "text = 'IMF가 推定한 우리나라의 GDP갭률은 今年에도 소폭의 마이너스(−)를 持續하고 있다.'\n",
    "mecab.tokenize(text)"
   ]
  },
  {
   "cell_type": "markdown",
   "id": "d95a39c6",
   "metadata": {},
   "source": [
    "#### compose and instantiate a `formal_ko` config for the normalizer class"
   ]
  },
  {
   "cell_type": "code",
   "execution_count": 10,
   "id": "ee21a925",
   "metadata": {},
   "outputs": [
    {
     "data": {
      "text/plain": [
       "'IMF가 추정한 우리나라의 GDP갭률은 금년에도 소폭의 마이너스(-)를 지속하고 있다.'"
      ]
     },
     "execution_count": 10,
     "metadata": {},
     "output_type": "execute_result"
    }
   ],
   "source": [
    "config_group='preprocessor/normalizer=formal_ko'\n",
    "cfg_norm = eKonf.compose(config_group=config_group)\n",
    "norm = eKonf.instantiate(cfg_norm)\n",
    "norm(text)"
   ]
  },
  {
   "cell_type": "markdown",
   "id": "c9ca8fc2",
   "metadata": {},
   "source": [
    "#### instantiate a mecab config with the above normalizer config"
   ]
  },
  {
   "cell_type": "code",
   "execution_count": 11,
   "id": "a957d5a5",
   "metadata": {},
   "outputs": [
    {
     "name": "stderr",
     "output_type": "stream",
     "text": [
      "INFO:ekorpkit.preprocessors.tokenizer:Initializing mecab with {'userdic_path': None, 'backend': 'mecab-python3', 'verbose': False}...\n"
     ]
    },
    {
     "name": "stderr",
     "output_type": "stream",
     "text": [
      "INFO:ekorpkit.preprocessors.tokenizer:instantiating ekorpkit.preprocessors.stopwords.Stopwords...\n"
     ]
    },
    {
     "data": {
      "text/plain": [
       "['IMF/SL',\n",
       " '가/JKS',\n",
       " '/SP',\n",
       " '추정/NNG',\n",
       " '한/XSA+ETM',\n",
       " '/SP',\n",
       " '우리나라/NNG',\n",
       " '의/JKG',\n",
       " '/SP',\n",
       " 'GDP/SL',\n",
       " '갭/NNG',\n",
       " '률/XSN',\n",
       " '은/JX',\n",
       " '/SP',\n",
       " '금년/NNG',\n",
       " '에/JKB',\n",
       " '도/JX',\n",
       " '/SP',\n",
       " '소폭/NNG',\n",
       " '의/JKG',\n",
       " '/SP',\n",
       " '마이너스/NNG',\n",
       " '(/SSO',\n",
       " '-)/SY',\n",
       " '를/JKO',\n",
       " '/SP',\n",
       " '지속/NNG',\n",
       " '하/XSV',\n",
       " '고/EC',\n",
       " '/SP',\n",
       " '있/VX',\n",
       " '다/EF',\n",
       " './SF']"
      ]
     },
     "execution_count": 11,
     "metadata": {},
     "output_type": "execute_result"
    }
   ],
   "source": [
    "config_group='preprocessor/tokenizer=mecab'\n",
    "cfg = eKonf.compose(config_group=config_group)\n",
    "cfg.normalize = cfg_norm\n",
    "mecab = eKonf.instantiate(cfg)\n",
    "mecab.tokenize(text)"
   ]
  }
 ],
 "metadata": {
  "jupytext": {
   "formats": "md:myst",
   "text_representation": {
    "extension": ".md",
    "format_name": "myst"
   }
  },
  "kernelspec": {
   "display_name": "Python 3",
   "language": "python",
   "name": "python3"
  },
  "language_info": {
   "codemirror_mode": {
    "name": "ipython",
    "version": 3
   },
   "file_extension": ".py",
   "mimetype": "text/x-python",
   "name": "python",
   "nbconvert_exporter": "python",
   "pygments_lexer": "ipython3",
   "version": "3.8.12"
  },
  "source_map": [
   11,
   17,
   19,
   42,
   47,
   49,
   55,
   61,
   67,
   75,
   80,
   82,
   86,
   90,
   94,
   98,
   102,
   107,
   111
  ]
 },
 "nbformat": 4,
 "nbformat_minor": 5
}