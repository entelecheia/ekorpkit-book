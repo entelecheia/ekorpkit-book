{
 "cells": [
  {
   "cell_type": "markdown",
   "id": "cfdc61fb",
   "metadata": {},
   "source": [
    "# Word Segmentation and Association\n",
    "\n",
    "![](../figs/intro_nlp/words/entelecheia_associaltion_vs_segmentation.png)"
   ]
  },
  {
   "cell_type": "markdown",
   "id": "cc8f9e1e",
   "metadata": {},
   "source": [
    "## Word Segmentation\n",
    "\n",
    "- **Word segmentation** is the task of splitting a string of characters into words.\n",
    "- Word segmentation is important for a machine to understand the meaning of a sentence.\n",
    "- In English, we can split a string of characters into words by spaces.\n",
    "- However, in languages like Chinese and Janpanese, there is no space between words.  \n",
    "- Even in English, there are some cases where no space is used between words.\n",
    "- Humans can easily segment a string of characters into words, even though there is no space between words.\n",
    "- For example, we can easily segment the string of characters `Ilikechocolate` into words `I like chocolate`."
   ]
  },
  {
   "cell_type": "markdown",
   "id": "cef7cf33",
   "metadata": {},
   "source": [
    "## Why should we segment words?\n",
    "\n",
    "There are many applications that require word segmentation, even in English.\n",
    "\n",
    "- Normalizing English compound nouns that are variably written for search engines.\n",
    "  - For example, `ice cream` and `ice-cream` should be segmented into `icecream`.\n",
    "- Word segmentation for compounds: Both orginal words and split words should be in the dictionary.\n",
    "- Typing errors may be corrected by word segmentation.\n",
    "- Conversion errors: During conversion, some spaces may be lost.\n",
    "- OCR errors: OCRed text may contain errors.\n",
    "- Keyword extraction from URL addresses, domain names, table column description or programming variables that are written without spaces.\n",
    "- For password analysis, the extraction of terms from passwords can be required.\n",
    "- Automatic CamelCasing of programming variables.\n",
    "- Speech recognition: Speech recognition systems may not properly recognize spaces between words.\n"
   ]
  },
  {
   "cell_type": "markdown",
   "id": "8de54549",
   "metadata": {},
   "source": [
    "## Generating segment variants\n",
    "\n",
    "We can generate all possible segment variants of a string of characters. Each distinct segment variant is called a **composition**.\n",
    "\n",
    "- En a string of length $n$, there are $n-1$ possible positions to split the string.\n",
    "- Each of the $n-1$ positions can be used as word boundary.\n",
    "- Therefore, there are $2^{n-1}$ possible compositions.\n",
    "\n",
    "The compositions have to be evaluated to find the best segmentation.\n",
    "\n",
    "- The best segmentation is the one that has the highest probability.\n"
   ]
  },
  {
   "cell_type": "markdown",
   "id": "6bf09dec",
   "metadata": {},
   "source": [
    "### Naive Recursive Algorithm\n",
    "\n",
    "- The naive recursive algorithm is to generate all possible compositions and evaluate them.\n",
    "- The time complexity of the naive recursive algorithm is $O(2^n)$.\n",
    "- The naive recursive algorithm is not efficient for long strings."
   ]
  },
  {
   "cell_type": "code",
   "execution_count": 1,
   "id": "d279eb3b",
   "metadata": {},
   "outputs": [],
   "source": [
    "from pprint import pprint\n",
    "\n",
    "def segment_naive(string):\n",
    "    if not string:\n",
    "        return []\n",
    "    else:\n",
    "        return [[string]] + [\n",
    "            [string[:i]] + rest\n",
    "            for i in range(1, len(string))\n",
    "            for rest in segment_naive(string[i:])\n",
    "        ]"
   ]
  },
  {
   "cell_type": "code",
   "execution_count": 2,
   "id": "bdac8abf",
   "metadata": {},
   "outputs": [
    {
     "name": "stdout",
     "output_type": "stream",
     "text": [
      "[['isit'],\n",
      " ['i', 'sit'],\n",
      " ['i', 's', 'it'],\n",
      " ['i', 's', 'i', 't'],\n",
      " ['i', 'si', 't'],\n",
      " ['is', 'it'],\n",
      " ['is', 'i', 't'],\n",
      " ['isi', 't']]\n"
     ]
    }
   ],
   "source": [
    "pprint(segment_naive(\"isit\"))"
   ]
  },
  {
   "cell_type": "code",
   "execution_count": 3,
   "id": "401975f3",
   "metadata": {},
   "outputs": [
    {
     "name": "stdout",
     "output_type": "stream",
     "text": [
      "[['가방에'], ['가', '방에'], ['가', '방', '에'], ['가방', '에']]\n"
     ]
    }
   ],
   "source": [
    "pprint(segment_naive(\"가방에\"))"
   ]
  },
  {
   "cell_type": "code",
   "execution_count": 4,
   "id": "e7a93ca5",
   "metadata": {},
   "outputs": [
    {
     "name": "stdout",
     "output_type": "stream",
     "text": [
      "14 8192\n"
     ]
    }
   ],
   "source": [
    "text = \"thisislongtext\"\n",
    "print(len(text), len(segment_naive(text)))"
   ]
  },
  {
   "cell_type": "code",
   "execution_count": 5,
   "id": "7a93a395",
   "metadata": {},
   "outputs": [
    {
     "name": "stdout",
     "output_type": "stream",
     "text": [
      "11 1024\n"
     ]
    }
   ],
   "source": [
    "text = \"아버지가방에들어가신다\" # Father goes into the bag or Father enters the room\n",
    "print(len(text), len(segment_naive(text)))"
   ]
  },
  {
   "cell_type": "markdown",
   "id": "d7523592",
   "metadata": {},
   "source": [
    "### Dynamic Programming\n",
    "\n",
    "- Dynamic programming is a technique to solve a problem by breaking it into subproblems and storing the results of subproblems to avoid computing the same results again.\n",
    "- The time complexity of dynamic programming is $O(n)$.\n",
    "- For long strings, dynamic programming is much more efficient than the naive recursive algorithm.\n",
    "\n",
    "```python\n",
    "def segment(string, dictionary):\n",
    "    if not string:\n",
    "        return []\n",
    "    for end in range(1, len(string) + 1):\n",
    "        first, rest = string[:end], string[end:]\n",
    "        if first in dictionary:\n",
    "            return [first] + segment(rest, dictionary)\n",
    "    return [string]\n",
    "```"
   ]
  },
  {
   "cell_type": "markdown",
   "id": "bb17af89",
   "metadata": {},
   "source": [
    "### Triangular Matrix\n",
    "\n",
    "- The dynamic programming algorithm can be implemented using a triangular matrix.\n",
    "- The tryangular matrix algorithm uses nested loops and a circular buffer to store the results of subproblems.\n",
    "- A triangular matrix of parts with increasing length is generated and organized in a circular buffer.\n",
    "- This allows a constant amount of memory to be used for the algorithm.\n"
   ]
  },
  {
   "cell_type": "markdown",
   "id": "132d2d7f",
   "metadata": {},
   "source": [
    "### Maximum Matching Algorithm\n",
    "\n",
    "- If we have all known words in a dictionary, we can use the maximum matching algorithm to segment a sentence.\n",
    "- The maximum matching algorithm is a greedy algorithm that finds the longest matching word from the dictionary.\n",
    "- The algorithm is as follows:\n",
    "\n",
    "    1. Find the longest matching word from the dictionary.\n",
    "    2. If the word is found, add the word to the result and remove the word from the input.\n",
    "    3. If the word is not found, add the first character to the result and remove the first character from the input.\n",
    "    4. Repeat 1-3 until the input is empty."
   ]
  },
  {
   "cell_type": "markdown",
   "id": "79b8845f",
   "metadata": {},
   "source": [
    "### Unknown Words\n",
    "\n",
    "- We can not rely on the dictionary to segment all words.\n",
    "- There are uncommon words, new words, misspelled words, foreign words, proper nouns, slang words, etc.\n",
    "- Even in these cases, we want to segment the words into meaningful parts.\n",
    "- Therefore, we have to estimate the probability of any possible segmentation."
   ]
  },
  {
   "cell_type": "markdown",
   "id": "4a1763b6",
   "metadata": {},
   "source": [
    "## Evaluation of Compositions\n",
    "\n",
    "- Generally, we can evaluate a composition by calculating the probability of the composition.\n",
    "- Word probabilities can be estimated from a corpus:\n",
    "\n",
    "    $$\n",
    "    P(w_i) = \\frac{c(w_i)}{N}\n",
    "    $$\n",
    "\n",
    "    where $c(w_i)$ is the count of word $w_i$ and $N$ is the total number of words in the corpus.\n",
    "\n",
    "- However, for unkonwn words, we have to use other criteria to evaluate the composition.\n",
    "- At word boundary, the uncertainty of the segmentation increases.\n",
    "- By measuring the uncertainty, we can evaluate the composition."
   ]
  },
  {
   "cell_type": "markdown",
   "id": "66d50cc3",
   "metadata": {},
   "source": [
    "### Uncertainty of word boundaries\n",
    "\n",
    "- The uncertainty of word boundaries can be measured by the entropy of the word boundary.\n",
    "- {cite}`harris1970phoneme` said that if the uncertainty of successive tokens increases, the location is a word boundary.\n",
    "- {cite}`feng2004accessor` proposed a statistical criterion called accessor variety (AV) to measure how likely a sub-sequence is a word, and then to find the best segmentation pattern that maximizes a target function of accessor variety and the length of the sub-sequence as variants. \n",
    "- {cite}`jin2006unsupervised` proposed branching entropy as another criterion for unsupervised segmentation.\n",
    "- Both criteria share a similar assumption as in the fundamental work by Harris, 1970, that the uncertainty of successive tokens increases at word boundaries.\n",
    "- The latter is the countinous version of the former.\n"
   ]
  },
  {
   "cell_type": "markdown",
   "id": "8321cbbe",
   "metadata": {},
   "source": [
    "![](../figs/intro_nlp/words/branching_entropy_uncertainty.png)"
   ]
  },
  {
   "cell_type": "markdown",
   "id": "7aa2f2dc",
   "metadata": {},
   "source": [
    "\n",
    "### Accessor Variety\n",
    "\n",
    "- The accessor variety (AV) defines that the uncertainty of a sub-sequence is the number of different words that can be formed by adding a sub-sequence to the sub-sequence.\n",
    "- For the forward accessor variety, it is the number of different words that can be formed by adding a sub-sequence to the right side of the sub-sequence.\n",
    "- For the following sub-sequence, the forward accessor variety of `hope` is 2, because `hope` can be followed by `less` or `fully`.\n",
    "\n",
    "    ```\n",
    "    \"hopeful\": 100\n",
    "    \"hopeless\": 80\n",
    "    ```\n",
    "- The backward accessor variety is the number of different words that can be formed by adding a sub-sequence to the left side of the sub-sequence.\n",
    "- For example, the backward accessor variety of `less` is 3, because `hopeless`, `useless`, and `pointless` can be formed by adding `less` to the left side of `less`.\n",
    "\n",
    "    ```\n",
    "    \"hopeless\": 80\n",
    "    \"unless\": 160\n",
    "    \"pointless\": 70\n",
    "    ```\n",
    "- Depending on the language, the forward accessor variety or the backward accessor variety may be more suitable for segmentation.\n",
    "- Threshold values can be used to determine the word boundaries.\n",
    "- The threshold values can be determined by the corpus."
   ]
  },
  {
   "cell_type": "markdown",
   "id": "26c8e83c",
   "metadata": {},
   "source": [
    "### Branching Entropy"
   ]
  },
  {
   "cell_type": "markdown",
   "id": "38328484",
   "metadata": {},
   "source": [
    "**Assumption 1**: The uncertainty of successive tokens increases at word boundaries.\n",
    "\n",
    "- Given a set of elements $X$ and a set of n-gram sequences $X_n$, the conditional entropy of an element occuring after an n-gram sequence $X_n$ is defined as:\n",
    "\n",
    "    $$\n",
    "    H(X|X_n) = -\\sum_{x_n \\in X_n} P(x_n) \\sum_{x \\in X} P(x|x_n) \\log P(x|x_n)\n",
    "    $$\n",
    "\n",
    "    where $P(x) = P(X=x)$, $P(x|x_n) = P(X=x|X_n=x_n)$, and $P(X=x)$ indicates the probability of an element $x$ occuring in $X$.\n",
    "- $H(X|X_n)$ decreases as $n$ increases, meaning that $X$ will become more predictable as $X_n$ becomes longer.\n",
    "- The latter half of the equation, the entropy of $X$ given $X_n$, indicates the average information of branching out from a specific n-gram sequence $X_n$:\n",
    "\n",
    "    $$\n",
    "    H(X|X_n=x_n) = -\\sum_{x \\in X} P(x|x_n) \\log P(x|x_n)\n",
    "    $$\n",
    "\n",
    "- This local entropy is the branching entropy of $X$ given $X_n$, and denoted as $h(x_n)$:\n",
    "\n",
    "    $$\n",
    "    h(x_n) = -\\sum_{x \\in X} P(x|x_n) \\log P(x|x_n)\n",
    "    $$"
   ]
  },
  {
   "cell_type": "markdown",
   "id": "91f7fcdf",
   "metadata": {},
   "source": [
    "\n",
    "**Assumption 2**: If the entropy of successive tokens is high or increasing, the location is a word boundary.\n",
    "\n",
    "- Generally, as the length of the n-gram sequence increases, the entropy of the n-gram sequence decreases.\n",
    "\n",
    "    $$\n",
    "    h(x_n) \\geq h(x_{n-1})\n",
    "    $$\n",
    "    \n",
    "- If $x_n$ is the prefix of $x_{n+1}$, the branching entropy of $x_n$ will likely be smaller than that of $x_{n+1}$:\n",
    "\n",
    "    $$\n",
    "    h(x_n) < h(x_{n+1})\n",
    "    $$\n",
    "    \n",
    "- There are three boundary conditions to decide whether $x_n$ is a word boundary:\n",
    "\n",
    "    1. $B_{max}$: If $h(x_n) > \\text{val}_{max}$\n",
    "    2. $B_{increase}$: $h(x_n) > h(x_{n-1})$\n",
    "    3. $B_{ordinary}$: $h(x_n) > \\text{val}_{ordinary}$"
   ]
  },
  {
   "cell_type": "markdown",
   "id": "55d5c094",
   "metadata": {},
   "source": [
    "![](../figs/intro_nlp/words/branching_entropy.png)"
   ]
  },
  {
   "cell_type": "markdown",
   "id": "778caf04",
   "metadata": {},
   "source": [
    "## Word Segmentation in Practice"
   ]
  },
  {
   "cell_type": "code",
   "execution_count": 1,
   "id": "5eaf68b7",
   "metadata": {},
   "outputs": [],
   "source": [
    "texts = [\n",
    "    \"like apples\",\n",
    "    \"likes pineapples and apples\",\n",
    "    \"dislikes Apple and pineapple\",\n",
    "    \"People dislike pineapples.\",\n",
    "    \"An apple makes people healthy.\",\n",
    "    \"Pine trees make pineapple\",\n",
    "    \"Pineapple unhealthy\",\n",
    "    \"likeness of apples\",\n",
    "    \"dislikeness of pineapples\",\n",
    "    \"health of pineapple\",\n",
    "    \"healthiness of apple\",\n",
    "    \"display of pineapples\",\n",
    "    \"unhealthy of apples\",\n",
    "    \"unhealthiness of pineapples\",\n",
    "    \"unlike apples\",\n",
    "    \"kindness of apples\",\n",
    "    \"kind of pineapples\",\n",
    "    \"apple tree\",\n",
    "    \"pineapple tree\",\n",
    "]"
   ]
  },
  {
   "cell_type": "code",
   "execution_count": 2,
   "id": "adff0a0a",
   "metadata": {},
   "outputs": [
    {
     "data": {
      "application/vnd.jupyter.widget-view+json": {
       "model_id": "88580f04cce04efdbe34cdbc2e31db7f",
       "version_major": 2,
       "version_minor": 0
      },
      "text/plain": [
       "  0%|          | 0/19 [00:00<?, ?it/s]"
      ]
     },
     "metadata": {},
     "output_type": "display_data"
    },
    {
     "name": "stdout",
     "output_type": "stream",
     "text": [
      "Total words: 29\n",
      "Top 10 words: [('▁of', 9), ('▁apples', 6), ('▁pineapples', 5), ('▁pineapple', 5), ('▁apple', 4), ('▁and', 2), ('▁people', 2), ('▁unhealthy', 2), ('▁tree', 2), ('▁like', 1)]\n",
      "Total words after filtering: 29\n"
     ]
    },
    {
     "data": {
      "application/vnd.jupyter.widget-view+json": {
       "model_id": "7cd99f75fc324fac9d5e735ab3527d19",
       "version_major": 2,
       "version_minor": 0
      },
      "text/plain": [
       "  0%|          | 0/29 [00:00<?, ?it/s]"
      ]
     },
     "metadata": {},
     "output_type": "display_data"
    },
    {
     "name": "stdout",
     "output_type": "stream",
     "text": [
      "Total subwords: 543\n",
      "Top 10 subwords: [('▁', 114), ('e', 63), ('p', 59), ('l', 37), ('a', 33), ('s', 30), ('i', 27), ('n', 26), ('pl', 24), ('ple', 23)]\n"
     ]
    },
    {
     "data": {
      "application/vnd.jupyter.widget-view+json": {
       "model_id": "078383400af343d395fff0ffbe30701c",
       "version_major": 2,
       "version_minor": 0
      },
      "text/plain": [
       "Building forward trie:   0%|          | 0/543 [00:00<?, ?it/s]"
      ]
     },
     "metadata": {},
     "output_type": "display_data"
    },
    {
     "data": {
      "application/vnd.jupyter.widget-view+json": {
       "model_id": "7f6a00133e104a6081e3242cf0894bbb",
       "version_major": 2,
       "version_minor": 0
      },
      "text/plain": [
       "Building backward trie:   0%|          | 0/543 [00:00<?, ?it/s]"
      ]
     },
     "metadata": {},
     "output_type": "display_data"
    }
   ],
   "source": [
    "from ekorpkit.tokenizers.branching import BranchingEntropyTokenizer\n",
    "\n",
    "bet = BranchingEntropyTokenizer()\n",
    "bet.train_from_iterator(texts, min_frequency=1, verbose=True)"
   ]
  },
  {
   "cell_type": "code",
   "execution_count": 3,
   "id": "c79dfb92",
   "metadata": {},
   "outputs": [
    {
     "name": "stdout",
     "output_type": "stream",
     "text": [
      "dislikes apple and pineapple\n",
      "['▁dislikes', '▁apple', '▁and', '▁pineapple']\n"
     ]
    }
   ],
   "source": [
    "sequence = texts[2]\n",
    "print(bet._tokenizer.normalize(sequence))\n",
    "print(bet._tokenizer.pre_tokenize(sequence))\n"
   ]
  },
  {
   "cell_type": "code",
   "execution_count": 4,
   "id": "f958f9e0",
   "metadata": {},
   "outputs": [
    {
     "data": {
      "text/plain": [
       "[('p', 0.5250355693505371, 0.0),\n",
       " ('i', 0.3496905752250248, -0.1753449941255123),\n",
       " ('n', 0.3496905752250248, 0.0),\n",
       " ('e', 0.44914649901267, 0.09945592378764523),\n",
       " ('a', 0.3499656090752427, -0.0991808899374273),\n",
       " ('p', 0.3499656090752427, 0.0),\n",
       " ('p', 0.3499656090752427, 0.0),\n",
       " ('l', 0.3499656090752427, 0.0),\n",
       " ('e', 0.6764449241372277, 0.32647931506198496),\n",
       " ('s', 0.5144984575880421, -0.16194646654918554)]"
      ]
     },
     "execution_count": 4,
     "metadata": {},
     "output_type": "execute_result"
    }
   ],
   "source": [
    "word = \"pineapples\"\n",
    "results = bet.find_local_entropy(word, direction=\"forward\")\n",
    "results\n"
   ]
  },
  {
   "cell_type": "code",
   "execution_count": 5,
   "id": "4d4f436a",
   "metadata": {},
   "outputs": [
    {
     "data": {
      "image/png": "[encoded data removed]",
      "text/plain": [
       "<Figure size 864x360 with 1 Axes>"
      ]
     },
     "metadata": {
      "needs_background": "light"
     },
     "output_type": "display_data"
    }
   ],
   "source": [
    "bet.plot_local_entropy(word, direction=\"forward\")"
   ]
  },
  {
   "cell_type": "code",
   "execution_count": 6,
   "id": "c9a0df1b",
   "metadata": {},
   "outputs": [
    {
     "data": {
      "text/plain": [
       "[['▁like', '▁apple', 's'],\n",
       " ['▁like', 's', '▁pineapple', 's', '▁and', '▁apple', 's'],\n",
       " ['▁dis', 'like', 's', '▁apple', '▁and', '▁pineapple'],\n",
       " ['▁people', '▁dis', 'like', '▁pineapple', 's.'],\n",
       " ['▁an', '▁apple', '▁make', 's', '▁people', '▁health', 'y.'],\n",
       " ['▁pine', '▁tree', 's', '▁make', '▁pineapple'],\n",
       " ['▁pineapple', '▁un', 'health', 'y'],\n",
       " ['▁like', 'ness', '▁of', '▁apple', 's'],\n",
       " ['▁dis', 'like', 'ness', '▁of', '▁pineapple', 's'],\n",
       " ['▁health', '▁of', '▁pineapple'],\n",
       " ['▁health', 'iness', '▁of', '▁apple'],\n",
       " ['▁dis', 'play', '▁of', '▁pineapple', 's'],\n",
       " ['▁un', 'health', 'y', '▁of', '▁apple', 's'],\n",
       " ['▁un', 'health', 'iness', '▁of', '▁pineapple', 's'],\n",
       " ['▁un', 'like', '▁apple', 's'],\n",
       " ['▁kind', 'ness', '▁of', '▁apple', 's'],\n",
       " ['▁kind', '▁of', '▁pineapple', 's'],\n",
       " ['▁apple', '▁tree'],\n",
       " ['▁pineapple', '▁tree']]"
      ]
     },
     "execution_count": 6,
     "metadata": {},
     "output_type": "execute_result"
    }
   ],
   "source": [
    "tokenized = [bet.tokenize(text) for text in texts]\n",
    "tokenized"
   ]
  },
  {
   "cell_type": "code",
   "execution_count": 7,
   "id": "ba900df1",
   "metadata": {},
   "outputs": [
    {
     "data": {
      "text/plain": [
       "['i', 'like', 'an', 'apple']"
      ]
     },
     "execution_count": 7,
     "metadata": {},
     "output_type": "execute_result"
    }
   ],
   "source": [
    "bet.naive_segment(\"ilikeanapple\")"
   ]
  },
  {
   "cell_type": "code",
   "execution_count": 8,
   "id": "5c69e322",
   "metadata": {},
   "outputs": [],
   "source": [
    "texts = [\n",
    "    \"아버지가 방에 들어가신다\",\n",
    "    \"아버지는 방에 들어가셨다\",\n",
    "    \"가방을 들다\",\n",
    "    \"방을 나가다\",\n",
    "    \"가방을 들고 나갔다\",\n",
    "    \"가방이 방에 있었다\",\n",
    "    \"가방은 방안에 있다\",\n",
    "    \"가방은 방에 있었다\",\n",
    "    \"가방을 방으로 들고 들어갔다\",\n",
    "    \"가방을 들고 집으로 갔다\",\n",
    "    \"방은 집안에 있다\",\n",
    "    \"집으로 가다\",\n",
    "]"
   ]
  },
  {
   "cell_type": "code",
   "execution_count": 9,
   "id": "7a483b89",
   "metadata": {},
   "outputs": [
    {
     "data": {
      "application/vnd.jupyter.widget-view+json": {
       "model_id": "2e4a2142833b44c79d3ae74335dcba86",
       "version_major": 2,
       "version_minor": 0
      },
      "text/plain": [
       "  0%|          | 0/12 [00:00<?, ?it/s]"
      ]
     },
     "metadata": {},
     "output_type": "display_data"
    },
    {
     "name": "stdout",
     "output_type": "stream",
     "text": [
      "Total words: 23\n",
      "Top 10 words: [('▁방에', 4), ('▁가방을', 4), ('▁들고', 3), ('▁있었다', 2), ('▁가방은', 2), ('▁있다', 2), ('▁집으로', 2), ('▁아버지가', 1), ('▁들어가신다', 1), ('▁아버지는', 1)]\n",
      "Total words after filtering: 23\n"
     ]
    },
    {
     "data": {
      "application/vnd.jupyter.widget-view+json": {
       "model_id": "d83cc7faca094e8a913af4057de13ea5",
       "version_major": 2,
       "version_minor": 0
      },
      "text/plain": [
       "  0%|          | 0/23 [00:00<?, ?it/s]"
      ]
     },
     "metadata": {},
     "output_type": "display_data"
    },
    {
     "name": "stdout",
     "output_type": "stream",
     "text": [
      "Total subwords: 201\n",
      "Top 10 subwords: [('▁', 70), ('방', 15), ('가', 12), ('다', 12), ('다▁', 12), ('▁방', 8), ('▁가', 8), ('▁들', 7), ('들', 7), ('▁가방', 7)]\n"
     ]
    },
    {
     "data": {
      "application/vnd.jupyter.widget-view+json": {
       "model_id": "becabf451b9c4d8faa6dacfb079f5c49",
       "version_major": 2,
       "version_minor": 0
      },
      "text/plain": [
       "Building forward trie:   0%|          | 0/201 [00:00<?, ?it/s]"
      ]
     },
     "metadata": {},
     "output_type": "display_data"
    },
    {
     "data": {
      "application/vnd.jupyter.widget-view+json": {
       "model_id": "98c942aaa209428a8469a3f1f95e189a",
       "version_major": 2,
       "version_minor": 0
      },
      "text/plain": [
       "Building backward trie:   0%|          | 0/201 [00:00<?, ?it/s]"
      ]
     },
     "metadata": {},
     "output_type": "display_data"
    }
   ],
   "source": [
    "from ekorpkit.tokenizers.branching import BranchingEntropyTokenizer\n",
    "\n",
    "bet = BranchingEntropyTokenizer()\n",
    "bet.train_from_iterator(texts, min_frequency=1, verbose=True)"
   ]
  },
  {
   "cell_type": "code",
   "execution_count": 10,
   "id": "cb51af8c",
   "metadata": {},
   "outputs": [
    {
     "data": {
      "text/plain": [
       "[['▁아버지', '가', '▁방에', '▁들어가신다'],\n",
       " ['▁아버지', '는', '▁방에', '▁들어가셨다'],\n",
       " ['▁가방', '을', '▁들다'],\n",
       " ['▁방을', '▁나가다'],\n",
       " ['▁가방', '을', '▁들고', '▁나갔다'],\n",
       " ['▁가방', '이', '▁방에', '▁있었다'],\n",
       " ['▁가방', '은', '▁방안에', '▁있다'],\n",
       " ['▁가방', '은', '▁방에', '▁있었다'],\n",
       " ['▁가방', '을', '▁방으로', '▁들고', '▁들어갔다'],\n",
       " ['▁가방', '을', '▁들고', '▁집으로', '▁갔다'],\n",
       " ['▁방은', '▁집안에', '▁있다'],\n",
       " ['▁집으로', '▁가다']]"
      ]
     },
     "execution_count": 10,
     "metadata": {},
     "output_type": "execute_result"
    }
   ],
   "source": [
    "tokenized = [bet.tokenize(text, branching_threshold=0.0) for text in texts]\n",
    "tokenized"
   ]
  },
  {
   "cell_type": "code",
   "execution_count": 11,
   "id": "6a4e8718",
   "metadata": {},
   "outputs": [
    {
     "data": {
      "text/plain": [
       "['아버지가', '방에', '들어가신다']"
      ]
     },
     "execution_count": 11,
     "metadata": {},
     "output_type": "execute_result"
    }
   ],
   "source": [
    "bet.naive_segment(\"아버지가방에들어가신다\")"
   ]
  },
  {
   "cell_type": "code",
   "execution_count": 12,
   "id": "2a644f97",
   "metadata": {},
   "outputs": [
    {
     "data": {
      "text/plain": [
       "['아버지가', '가방을', '들고', '가', '신다']"
      ]
     },
     "execution_count": 12,
     "metadata": {},
     "output_type": "execute_result"
    }
   ],
   "source": [
    "bet.naive_segment(\"아버지가가방을들고가신다\")"
   ]
  },
  {
   "cell_type": "code",
   "execution_count": 13,
   "id": "7e35e70f",
   "metadata": {},
   "outputs": [
    {
     "data": {
      "image/png": "[encoded data removed]",
      "text/plain": [
       "<Figure size 864x360 with 1 Axes>"
      ]
     },
     "metadata": {
      "needs_background": "light"
     },
     "output_type": "display_data"
    }
   ],
   "source": [
    "bet.plot_local_entropy(word=\"아버지가\", direction=\"forward\")"
   ]
  },
  {
   "cell_type": "code",
   "execution_count": 14,
   "id": "a5e417f9",
   "metadata": {},
   "outputs": [
    {
     "data": {
      "image/png": "[encoded data removed]",
      "text/plain": [
       "<Figure size 864x360 with 1 Axes>"
      ]
     },
     "metadata": {
      "needs_background": "light"
     },
     "output_type": "display_data"
    }
   ],
   "source": [
    "bet.plot_local_entropy(word=\"가방은\", direction=\"forward\")"
   ]
  },
  {
   "cell_type": "code",
   "execution_count": 15,
   "id": "2a6421e7",
   "metadata": {},
   "outputs": [],
   "source": [
    "from ekorpkit import eKonf\n",
    "\n",
    "cfg = eKonf.compose(\"path\")\n",
    "cfg.cache.uri = \"https://github.com/entelecheia/ekorpkit-book/raw/main/assets/data/us_equities_news_sampled.zip\"\n",
    "data = eKonf.load_data(\"us_equities_news_sampled.parquet\", cfg.cached_path)\n",
    "texts = data.text"
   ]
  },
  {
   "cell_type": "code",
   "execution_count": 23,
   "id": "5d23e456",
   "metadata": {},
   "outputs": [
    {
     "data": {
      "application/vnd.jupyter.widget-view+json": {
       "model_id": "a87dc886d3b34321a340cf04479720bc",
       "version_major": 2,
       "version_minor": 0
      },
      "text/plain": [
       "  0%|          | 0/22098 [00:00<?, ?it/s]"
      ]
     },
     "metadata": {},
     "output_type": "display_data"
    },
    {
     "name": "stdout",
     "output_type": "stream",
     "text": [
      "Total words: 107685\n",
      "Top 10 words: [('▁the', 715895), ('▁to', 334075), ('▁of', 314837), ('▁in', 278030), ('▁and', 274910), ('▁a', 259527), ('▁s', 169595), ('▁for', 133255), ('▁is', 130552), ('▁on', 113286)]\n",
      "Total words after filtering: 107685\n"
     ]
    },
    {
     "data": {
      "application/vnd.jupyter.widget-view+json": {
       "model_id": "3bc9bb1704e945bea5986e93900a600e",
       "version_major": 2,
       "version_minor": 0
      },
      "text/plain": [
       "  0%|          | 0/107685 [00:00<?, ?it/s]"
      ]
     },
     "metadata": {},
     "output_type": "display_data"
    },
    {
     "name": "stdout",
     "output_type": "stream",
     "text": [
      "Total subwords: 3019773\n",
      "Top 10 subwords: [('▁', 26177132), ('e', 7246161), ('t', 5334633), ('a', 4971213), ('o', 4428694), ('n', 4415394), ('i', 4397713), ('s', 4366700), ('r', 4125315), ('l', 2404918)]\n"
     ]
    }
   ],
   "source": [
    "from ekorpkit.tokenizers.branching import BranchingEntropyTokenizer\n",
    "\n",
    "bet = BranchingEntropyTokenizer()\n",
    "bet.train_from_iterator(texts, min_frequency=1, verbose=True)"
   ]
  },
  {
   "cell_type": "code",
   "execution_count": 24,
   "id": "454352c3",
   "metadata": {},
   "outputs": [
    {
     "data": {
      "text/plain": [
       "['../data/tokenizers/branching/vocab.json',\n",
       " '../data/tokenizers/branching/config.json']"
      ]
     },
     "execution_count": 24,
     "metadata": {},
     "output_type": "execute_result"
    }
   ],
   "source": [
    "bet.save(\"../data/tokenizers/\", \"branching\")"
   ]
  },
  {
   "cell_type": "code",
   "execution_count": 16,
   "id": "25aa9d29",
   "metadata": {},
   "outputs": [
    {
     "data": {
      "application/vnd.jupyter.widget-view+json": {
       "model_id": "97243d5292bd4974a1a9d3b5fad29418",
       "version_major": 2,
       "version_minor": 0
      },
      "text/plain": [
       "Building forward trie:   0%|          | 0/3019773 [00:00<?, ?it/s]"
      ]
     },
     "metadata": {},
     "output_type": "display_data"
    },
    {
     "data": {
      "application/vnd.jupyter.widget-view+json": {
       "model_id": "7d96c7dc34914652b92e6e3a28343c36",
       "version_major": 2,
       "version_minor": 0
      },
      "text/plain": [
       "Building backward trie:   0%|          | 0/3019773 [00:00<?, ?it/s]"
      ]
     },
     "metadata": {},
     "output_type": "display_data"
    }
   ],
   "source": [
    "from ekorpkit.tokenizers.branching import BranchingEntropyTokenizer\n",
    "\n",
    "bet = BranchingEntropyTokenizer.load(\"../data/tokenizers/\", \"branching\", branching_threshold=0.2)"
   ]
  },
  {
   "cell_type": "code",
   "execution_count": 17,
   "id": "4f300cd8",
   "metadata": {},
   "outputs": [
    {
     "name": "stdout",
     "output_type": "stream",
     "text": [
      "[('▁invest', 'ment'), ('▁oppo', 'rtunit', 'ies'), ('▁in',), ('▁the',), ('▁company.',)]\n",
      "[('▁invest', 'ment'), ('▁opportun', 'ities'), ('▁in',), ('▁the',), ('▁company.',)]\n"
     ]
    }
   ],
   "source": [
    "sequence = \"Investment opportunities in the company.\"\n",
    "print(bet.tokenize(sequence, flatten=False, direction=\"forward\"))\n",
    "print(bet.tokenize(sequence, flatten=False, direction=\"backward\"))"
   ]
  },
  {
   "cell_type": "code",
   "execution_count": 18,
   "id": "05b1d618",
   "metadata": {},
   "outputs": [],
   "source": [
    "# print(bet.tokenize(texts[1], flatten=False, direction=\"forward\", branching_threshold=0.2))"
   ]
  },
  {
   "cell_type": "code",
   "execution_count": 27,
   "id": "3a5e3842",
   "metadata": {},
   "outputs": [
    {
     "name": "stdout",
     "output_type": "stream",
     "text": [
      "[('▁invest', 'ment', 's')]\n"
     ]
    },
    {
     "data": {
      "text/plain": [
       "[('i', 1.0095287438501144, 0.0),\n",
       " ('n', 1.1515486269045268, 0.14201988305441238),\n",
       " ('v', 0.45972611324043794, -0.6918225136640888),\n",
       " ('e', 0.4509164703468697, -0.008809642893568226),\n",
       " ('s', 0.35903206546025535, -0.09188440488661437),\n",
       " ('t', 0.9522316236050686, 0.5931995581448133),\n",
       " ('m', 0.3465757022785438, -0.6056559213265249),\n",
       " ('e', 0.3465757022785438, 0.0),\n",
       " ('n', 0.3465757022785438, 0.0),\n",
       " ('t', 0.6160316441204637, 0.26945594184191995),\n",
       " ('s', 0.3519227033342969, -0.2641089407861668)]"
      ]
     },
     "execution_count": 27,
     "metadata": {},
     "output_type": "execute_result"
    }
   ],
   "source": [
    "word = \"investments\"\n",
    "print(bet.tokenize(word, flatten=False, direction=\"forward\"))\n",
    "results = bet.find_local_entropy(word, direction=\"forward\")\n",
    "results\n"
   ]
  },
  {
   "cell_type": "code",
   "execution_count": 26,
   "id": "2279e5e2",
   "metadata": {},
   "outputs": [
    {
     "data": {
      "image/png": "[encoded data removed]",
      "text/plain": [
       "<Figure size 864x360 with 1 Axes>"
      ]
     },
     "metadata": {
      "needs_background": "light"
     },
     "output_type": "display_data"
    }
   ],
   "source": [
    "bet.plot_local_entropy(word, direction=\"forward\")"
   ]
  },
  {
   "cell_type": "code",
   "execution_count": 28,
   "id": "bced8995",
   "metadata": {},
   "outputs": [
    {
     "name": "stdout",
     "output_type": "stream",
     "text": [
      "[('▁invest', 'ments')]\n"
     ]
    },
    {
     "data": {
      "text/plain": [
       "[('i', 0.3561165131571915, -0.009533638447234705),\n",
       " ('n', 0.3465828747099568, 0.026795502159956852),\n",
       " ('v', 0.37337837686991365, -0.026795591191855372),\n",
       " ('e', 0.3465827856780583, 0.13506944700263662),\n",
       " ('s', 0.4816522326806949, 0.21807907607263988),\n",
       " ('t', 0.6997313087533348, 0.624865765838529),\n",
       " ('m', 1.3245970745918638, -0.1795732287232441),\n",
       " ('e', 1.1450238458686197, -0.3379381071100026),\n",
       " ('n', 0.8070857387586171, 0.5204781480063937),\n",
       " ('t', 1.3275638867650108, 0.3191691594567949),\n",
       " ('s', 1.6467330462218057, 0.0)]"
      ]
     },
     "execution_count": 28,
     "metadata": {},
     "output_type": "execute_result"
    }
   ],
   "source": [
    "word = \"investments\"\n",
    "print(bet.tokenize(word, flatten=False, direction=\"backward\"))\n",
    "results = bet.find_local_entropy(word, direction=\"backward\")\n",
    "results\n"
   ]
  },
  {
   "cell_type": "code",
   "execution_count": 24,
   "id": "c69a69d5",
   "metadata": {},
   "outputs": [
    {
     "data": {
      "image/png": "[encoded data removed]",
      "text/plain": [
       "<Figure size 864x360 with 1 Axes>"
      ]
     },
     "metadata": {
      "needs_background": "light"
     },
     "output_type": "display_data"
    }
   ],
   "source": [
    "bet.plot_local_entropy(word, direction=\"backward\")"
   ]
  },
  {
   "cell_type": "markdown",
   "id": "609f8bc3",
   "metadata": {},
   "source": [
    "## References\n",
    "\n",
    "- [Uncertanty to word boundary; Accessor Variety & Branching Entropy](https://lovit.github.io/nlp/2018/04/09/branching_entropy_accessor_variety/)\n",
    "- [Fast Word Segmentation of Noisy Text](https://medium.com/towards-data-science/fast-word-segmentation-for-noisy-text-2c2c41f9e8da)"
   ]
  },
  {
   "cell_type": "markdown",
   "id": "3ef9265f",
   "metadata": {},
   "source": []
  }
 ],
 "metadata": {
  "kernelspec": {
   "display_name": "Python 3.8.12 ('base')",
   "language": "python",
   "name": "python3"
  },
  "language_info": {
   "codemirror_mode": {
    "name": "ipython",
    "version": 3
   },
   "file_extension": ".py",
   "mimetype": "text/x-python",
   "name": "python",
   "nbconvert_exporter": "python",
   "pygments_lexer": "ipython3",
   "version": "3.8.12"
  },
  "vscode": {
   "interpreter": {
    "hash": "d4d1e4263499bec80672ea0156c357c1ee493ec2b1c70f0acce89fc37c4a6abe"
   }
  }
 },
 "nbformat": 4,
 "nbformat_minor": 5
}
