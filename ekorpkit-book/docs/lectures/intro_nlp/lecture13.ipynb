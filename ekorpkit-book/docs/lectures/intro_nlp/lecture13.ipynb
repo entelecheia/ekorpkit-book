{
 "cells": [
  {
   "cell_type": "markdown",
   "id": "cfdc61fb",
   "metadata": {},
   "source": [
    "# Word Association and Segmentation"
   ]
  },
  {
   "cell_type": "markdown",
   "id": "66d50cc3",
   "metadata": {},
   "source": [
    "(Feng et al., 2004) proposed a statistical criterion called accessor variety (AV) to measure how likely a sub-sequence is a word, and then to find the best segmentation pattern that maximizes a target function of accessor variety and the length of the sub-sequence as variants. \n",
    "\n",
    "(Jin and TanakaIshii, 2006) proposed branch entropy as another criterion for unsupervised segmentation. \n",
    "\n",
    "Both criteria share a similar assumption as in the fundamental work by (Harris, 1970): If the uncertainty of successive tokens increases, then the location is\n",
    "at a border. \n",
    "\n",
    "(Feng et al., 2004) and (Jin and Tanaka-Ishii, 2006) are the discrete and continuous formulation of a similar idea.\n",
    "\n",
    "The idea behind AV or branch entropy criterion is that word boundary occurs at the point where the uncertainty of successive character increases.\n",
    "\n",
    "Either of these two criterions make use of the measurement of such an uncertainty.\n",
    "\n",
    "## Accessor Variety\n",
    "\n",
    "The accessor variety (AV) is defined as the number of distinct words that can be formed by adding a single character to the end of a sub-sequence.\n",
    "\n",
    "$$\n",
    "\\text{AV}(w) = \\sum_{i=1}^{|w|} \\frac{1}{|w|} \\cdot \\frac{1}{|w_i|} \\cdot \\sum_{j=1}^{w_i} \\frac{1}{w_i}\n",
    "$$\n",
    "\n",
    "where $w_i$ is the set of words that can be formed by adding a single character to the end of $w$.\n",
    "\n",
    "## Branch Entropy\n",
    "\n",
    "The branch entropy is defined as the entropy of the distribution of the number of words that can be formed by adding a single character to the end of a sub-sequence.\n",
    "\n",
    "$$\n",
    "\\text{BE}(w) = \\sum_{i=1}^{|w|} \\frac{1}{|w|} \\cdot \\frac{1}{|w_i|} \\cdot \\sum_{j=1}^{w_i} \\frac{1}{w_i} \\cdot \\log_2 \\frac{1}{w_i}\n",
    "$$\n",
    "\n",
    "where $w_i$ is the set of words that can be formed by adding a single character to the end of $w$.\n"
   ]
  },
  {
   "cell_type": "markdown",
   "id": "d3d766b6",
   "metadata": {},
   "source": [
    "## Affixes: Prefixes and Suffixes\n",
    "\n",
    "Prefixes and suffixes are affixes that are attached to the beginning and end of a word, respectively.\n",
    "\n",
    "Prefixes and suffixes are often used to form new words. For example, the prefix *un-* is used to form new words such as *unhappy* and *unfair*.\n",
    "\n",
    "Suffixes are also used to form new words. For example, the suffix *-ly* is used to form new words such as *happily* and *fairly*.\n",
    "\n",
    "- [List of medical roots, suffixes and prefixes](https://en.wikipedia.org/wiki/List_of_medical_roots,_suffixes_and_prefixes)\n",
    "- [English Prefixes](https://www.englishclub.com/vocabulary/prefixes.htm)\n",
    "- [English Suffixes](https://www.englishclub.com/vocabulary/suffixes.htm)\n",
    "- [English Prefix](https://en.wikipedia.org/wiki/English_prefix)\n",
    "- \n",
    "\n",
    "## Word Segmentation\n",
    "\n",
    "Word segmentation is the task of splitting a sequence of characters into words.\n",
    "\n",
    "For example, the sequence of characters *happily* can be segmented into two words *happy* and *ly*.\n",
    "\n",
    "## Word Association\n",
    "\n",
    "Word association is the task of finding words that are associated with a given word.\n",
    "\n",
    "For example, the word *happy* is associated with the words *sad* and *unhappy*.\n"
   ]
  },
  {
   "cell_type": "markdown",
   "id": "609f8bc3",
   "metadata": {},
   "source": [
    "## References\n",
    "\n",
    "- [Uncertanty to word boundary; Accessor Variety & Branching Entropy](https://lovit.github.io/nlp/2018/04/09/branching_entropy_accessor_variety/)"
   ]
  },
  {
   "cell_type": "markdown",
   "id": "3ef9265f",
   "metadata": {},
   "source": []
  }
 ],
 "metadata": {
  "kernelspec": {
   "display_name": "Python 3.9.2 64-bit ('3.9.2')",
   "language": "python",
   "name": "python3"
  },
  "language_info": {
   "name": "python",
   "version": "3.9.2"
  },
  "vscode": {
   "interpreter": {
    "hash": "93b4cf8eea927ca72e10894c003f60fd8f010ab3a2701e6ac08fd098c47fd773"
   }
  }
 },
 "nbformat": 4,
 "nbformat_minor": 5
}
