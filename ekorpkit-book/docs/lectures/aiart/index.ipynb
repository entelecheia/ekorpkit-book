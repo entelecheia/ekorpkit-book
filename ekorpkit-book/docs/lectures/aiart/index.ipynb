{
 "cells": [
  {
   "cell_type": "markdown",
   "id": "76b40700",
   "metadata": {
    "slideshow": {
     "slide_type": "slide"
    },
    "tags": []
   },
   "source": [
    "# AI Art (Text-to-Image)\n",
    "\n",
    "![aiart](../figs/entelecheia_robot_art.png)"
   ]
  },
  {
   "cell_type": "markdown",
   "id": "e9c99162",
   "metadata": {
    "slideshow": {
     "slide_type": "slide"
    },
    "tags": []
   },
   "source": [
    "## 📜 Course Description\n",
    "\n",
    "- This course is an introduction to AI-generated art using text prompt-based models. \n",
    "- We will explore how to use different types of models, how to interpret the results, and how to critique the output. \n",
    "- In addition, we will discuss the ethical implications of AI-generated art.\n"
   ]
  },
  {
   "cell_type": "markdown",
   "id": "ee7884ff",
   "metadata": {
    "slideshow": {
     "slide_type": "slide"
    },
    "tags": []
   },
   "source": [
    "## ♾️ Learning Goals\n",
    "\n",
    "By the end of this course, students will be able to:\n",
    "- Understand the basics of AI-generated art\n",
    "- Generate their own AI-generated art\n",
    "- Critique AI-generated art\n",
    "- Understand the ethical implications of AI-generated art"
   ]
  },
  {
   "cell_type": "markdown",
   "id": "156df085",
   "metadata": {
    "slideshow": {
     "slide_type": "slide"
    },
    "tags": []
   },
   "source": [
    "## 🧠 Term Project\n",
    "\n",
    "For the term project, students will create their own AI-generated art piece using a text prompt-based model. Students will be required to submit their project proposal, code, and results.\n",
    "\n",
    "### Project Proposal\n",
    "\n",
    "The project proposal should include the following:\n",
    "\n",
    "- A description of the project\n",
    "- The text prompt that will be used\n",
    "- The type of model that will be used\n",
    "- The training data that will be used\n",
    "- The evaluation metric that will be used\n",
    "- The expected results\n"
   ]
  },
  {
   "cell_type": "markdown",
   "id": "ddf1c678",
   "metadata": {
    "slideshow": {
     "slide_type": "slide"
    },
    "tags": []
   },
   "source": [
    "## 📒 Lecture Notes\n",
    "\n",
    "You can find the lecture notes of the course by clicking on the following link:\n",
    "\n",
    "https://entelecheia.github.io/ekorpkit-book/docs/lectures/aiart"
   ]
  },
  {
   "cell_type": "markdown",
   "id": "31422e23",
   "metadata": {
    "slideshow": {
     "slide_type": "slide"
    },
    "tags": []
   },
   "source": [
    "## Course Schedule\n",
    "\n",
    "Week 1: Introduction\n",
    "\n",
    "- What is AI-generated art?\n",
    "- History of AI-generated art\n",
    "- Examples of AI-generated art\n",
    "\n",
    "Week 2: Models\n",
    "\n",
    "- Types of models\n",
    "- How to train a model\n",
    "- How to interpret the results\n",
    "\n",
    "Week 3: Language Models I\n",
    "\n",
    "- Introduction to language models\n",
    "- Text prompt-based models\n",
    "- Image captioning\n",
    "\n",
    "Week 4: Language Models II\n",
    "\n",
    "- Neural style transfer\n",
    "- GPT-3, T5\n",
    "- Text to image synthesis\n",
    "\n",
    "Week 5: Diffusion Models I\n",
    "\n",
    "- Introduction to diffusion models\n",
    "- Perlin noise\n",
    "- Cellular automata\n",
    "\n",
    "Week 6: Diffusion Models II\n",
    "\n",
    "- Reaction-diffusion models\n",
    "- Neural fields\n",
    "- Image quilting\n",
    "\n",
    "Week 7: GAN I\n",
    "\n",
    "- Introduction to GANs\n",
    "- DCGAN\n",
    "- CycleGAN\n",
    "\n",
    "Week 8: GAN II\n",
    "\n",
    "- BigGAN\n",
    "- StyleGAN\n",
    "- PGAN\n",
    "\n",
    "Week 9: Vision Transformers I\n",
    "\n",
    "- Introduction to vision transformers\n",
    "- DETR\n",
    "- ViT\n",
    "\n",
    "Week 10: Vision Transformers II\n",
    "\n",
    "- Reformer\n",
    "- LVIS\n",
    "- Swin-Transformer\n",
    "\n",
    "Week 11: Super Resolutions I\n",
    "\n",
    "- Introduction to super resolutions\n",
    "- SRGAN\n",
    "- ESRGAN\n",
    "\n",
    "Week 12: Super Resolutions II\n",
    "\n",
    "- SFTGAN\n",
    "- RCAN\n",
    "- CARN\n",
    "\n",
    "Week 13: Ethics\n",
    "\n",
    "- The ethical implications of AI-generated art\n",
    "\n",
    "Week 14: Student Presentations I\n",
    "\n",
    "- Student presentations\n",
    "\n",
    "Week 15: Student Presentations II\n",
    "\n",
    "- Student presentations\n"
   ]
  },
  {
   "cell_type": "markdown",
   "id": "d7e29cd2",
   "metadata": {
    "slideshow": {
     "slide_type": "slide"
    },
    "tags": []
   },
   "source": [
    "## 🗓️ Table of Contents\n",
    "\n",
    "```{tableofcontents}\n",
    "\n",
    "```\n"
   ]
  }
 ],
 "metadata": {
  "kernelspec": {
   "display_name": "Python 3 (ipykernel)",
   "language": "python",
   "name": "python3"
  },
  "language_info": {
   "codemirror_mode": {
    "name": "ipython",
    "version": 3
   },
   "file_extension": ".py",
   "mimetype": "text/x-python",
   "name": "python",
   "nbconvert_exporter": "python",
   "pygments_lexer": "ipython3",
   "version": "3.8.5"
  },
  "vscode": {
   "interpreter": {
    "hash": "d4d1e4263499bec80672ea0156c357c1ee493ec2b1c70f0acce89fc37c4a6abe"
   }
  },
  "widgets": {
   "application/vnd.jupyter.widget-state+json": {
    "state": {},
    "version_major": 2,
    "version_minor": 0
   }
  }
 },
 "nbformat": 4,
 "nbformat_minor": 5
}
