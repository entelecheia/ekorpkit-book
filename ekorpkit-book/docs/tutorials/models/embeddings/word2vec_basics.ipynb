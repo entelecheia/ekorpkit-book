{
  "cells": [
    {
      "cell_type": "markdown",
      "metadata": {},
      "source": [
        "# Word2Vec"
      ]
    },
    {
      "cell_type": "code",
      "execution_count": 1,
      "metadata": {},
      "outputs": [
        {
          "name": "stdout",
          "output_type": "stream",
          "text": [
            "0.1.31+0.g6782895.dirty\n"
          ]
        }
      ],
      "source": [
        "%config InlineBackend.figure_format='retina'\n",
        "import logging\n",
        "from ekorpkit import eKonf\n",
        "\n",
        "logging.basicConfig(level=logging.WARNING)\n",
        "print(eKonf.__version__)"
      ]
    },
    {
      "cell_type": "code",
      "execution_count": 2,
      "metadata": {
        "colab": {
          "base_uri": "https://localhost:8080/",
          "height": 35
        },
        "id": "7sdE4eTfLW8b",
        "outputId": "5a898e36-f328-45bb-c1e6-535a4b7bea36"
      },
      "outputs": [
        {
          "data": {
            "text/plain": [
              "'4.2.0'"
            ]
          },
          "execution_count": 2,
          "metadata": {},
          "output_type": "execute_result"
        }
      ],
      "source": [
        "import gensim\n",
        "gensim.__version__"
      ]
    },
    {
      "cell_type": "markdown",
      "metadata": {
        "id": "pvthgGw5LHNW"
      },
      "source": [
        "## English Word2Vec"
      ]
    },
    {
      "cell_type": "markdown",
      "metadata": {},
      "source": [
        "### Load FOMC Corpus"
      ]
    },
    {
      "cell_type": "code",
      "execution_count": 3,
      "metadata": {},
      "outputs": [
        {
          "name": "stdout",
          "output_type": "stream",
          "text": [
            "Corpus : fomc\n"
          ]
        }
      ],
      "source": [
        "corpus_cfg = eKonf.compose(config_group='corpus')\n",
        "corpus_cfg.name = 'fomc'\n",
        "corpus_cfg.data_dir = \"${cached_path:'https://github.com/entelecheia/ekorpkit-book/raw/main/data/fomc.zip',true,false}\"\n",
        "corpus_cfg.automerge = True\n",
        "fomc = eKonf.instantiate(corpus_cfg)\n",
        "print(fomc)"
      ]
    },
    {
      "cell_type": "code",
      "execution_count": 28,
      "metadata": {},
      "outputs": [
        {
          "data": {
            "text/html": [
              "<div>\n",
              "<style scoped>\n",
              "    .dataframe tbody tr th:only-of-type {\n",
              "        vertical-align: middle;\n",
              "    }\n",
              "\n",
              "    .dataframe tbody tr th {\n",
              "        vertical-align: top;\n",
              "    }\n",
              "\n",
              "    .dataframe thead th {\n",
              "        text-align: right;\n",
              "    }\n",
              "</style>\n",
              "<table border=\"1\" class=\"dataframe\">\n",
              "  <thead>\n",
              "    <tr style=\"text-align: right;\">\n",
              "      <th></th>\n",
              "      <th>id</th>\n",
              "      <th>text</th>\n",
              "      <th>timestamp</th>\n",
              "      <th>content_type</th>\n",
              "      <th>date</th>\n",
              "      <th>speaker</th>\n",
              "      <th>title</th>\n",
              "    </tr>\n",
              "  </thead>\n",
              "  <tbody>\n",
              "    <tr>\n",
              "      <th>0</th>\n",
              "      <td>0</td>\n",
              "      <td>A meeting of the Federal Open Market Committee...</td>\n",
              "      <td>1993-02-03</td>\n",
              "      <td>fomc_minutes</td>\n",
              "      <td>1993-02-03</td>\n",
              "      <td>Alan Greenspan</td>\n",
              "      <td>FOMC Meeting Minutes</td>\n",
              "    </tr>\n",
              "    <tr>\n",
              "      <th>1</th>\n",
              "      <td>1</td>\n",
              "      <td>A meeting of the Federal Open Market Committee...</td>\n",
              "      <td>1993-03-23</td>\n",
              "      <td>fomc_minutes</td>\n",
              "      <td>1993-03-23</td>\n",
              "      <td>Alan Greenspan</td>\n",
              "      <td>FOMC Meeting Minutes</td>\n",
              "    </tr>\n",
              "    <tr>\n",
              "      <th>2</th>\n",
              "      <td>2</td>\n",
              "      <td>A meeting of the Federal Open Market Committee...</td>\n",
              "      <td>1993-05-18</td>\n",
              "      <td>fomc_minutes</td>\n",
              "      <td>1993-05-18</td>\n",
              "      <td>Alan Greenspan</td>\n",
              "      <td>FOMC Meeting Minutes</td>\n",
              "    </tr>\n",
              "    <tr>\n",
              "      <th>3</th>\n",
              "      <td>3</td>\n",
              "      <td>A meeting of the Federal Open Market Committee...</td>\n",
              "      <td>1993-07-07</td>\n",
              "      <td>fomc_minutes</td>\n",
              "      <td>1993-07-07</td>\n",
              "      <td>Alan Greenspan</td>\n",
              "      <td>FOMC Meeting Minutes</td>\n",
              "    </tr>\n",
              "    <tr>\n",
              "      <th>4</th>\n",
              "      <td>4</td>\n",
              "      <td>A meeting of the Federal Open Market Committee...</td>\n",
              "      <td>1993-08-17</td>\n",
              "      <td>fomc_minutes</td>\n",
              "      <td>1993-08-17</td>\n",
              "      <td>Alan Greenspan</td>\n",
              "      <td>FOMC Meeting Minutes</td>\n",
              "    </tr>\n",
              "  </tbody>\n",
              "</table>\n",
              "</div>"
            ],
            "text/plain": [
              "   id                                               text  timestamp  \\\n",
              "0   0  A meeting of the Federal Open Market Committee... 1993-02-03   \n",
              "1   1  A meeting of the Federal Open Market Committee... 1993-03-23   \n",
              "2   2  A meeting of the Federal Open Market Committee... 1993-05-18   \n",
              "3   3  A meeting of the Federal Open Market Committee... 1993-07-07   \n",
              "4   4  A meeting of the Federal Open Market Committee... 1993-08-17   \n",
              "\n",
              "   content_type        date         speaker                 title  \n",
              "0  fomc_minutes  1993-02-03  Alan Greenspan  FOMC Meeting Minutes  \n",
              "1  fomc_minutes  1993-03-23  Alan Greenspan  FOMC Meeting Minutes  \n",
              "2  fomc_minutes  1993-05-18  Alan Greenspan  FOMC Meeting Minutes  \n",
              "3  fomc_minutes  1993-07-07  Alan Greenspan  FOMC Meeting Minutes  \n",
              "4  fomc_minutes  1993-08-17  Alan Greenspan  FOMC Meeting Minutes  "
            ]
          },
          "execution_count": 28,
          "metadata": {},
          "output_type": "execute_result"
        }
      ],
      "source": [
        "fomc_minutes = fomc.data[fomc.data.content_type == 'fomc_minutes']\n",
        "fomc_minutes.head()"
      ]
    },
    {
      "cell_type": "code",
      "execution_count": 26,
      "metadata": {},
      "outputs": [],
      "source": [
        "\n",
        "tk_cfg = eKonf.compose(config_group='preprocessor/tokenizer=nltk')\n",
        "tk_cfg.nltk.lemmatize = True\n",
        "tk_cfg.nltk.stem = False"
      ]
    },
    {
      "cell_type": "code",
      "execution_count": 29,
      "metadata": {
        "colab": {
          "base_uri": "https://localhost:8080/"
        },
        "id": "coVrVWEcLCIG",
        "outputId": "1a5b48b5-d429-482c-d650-9767bd5d5318"
      },
      "outputs": [
        {
          "data": {
            "application/vnd.jupyter.widget-view+json": {
              "model_id": "86c86d9d581b4cefae7be1dbd48917ba",
              "version_major": 2,
              "version_minor": 0
            },
            "text/plain": [
              "Tokenizing column: text:   0%|          | 0/222 [00:00<?, ?it/s]"
            ]
          },
          "metadata": {},
          "output_type": "display_data"
        },
        {
          "name": "stderr",
          "output_type": "stream",
          "text": [
            "/workspace/projects/ekorpkit/ekorpkit/pipelines/pipe.py:773: SettingWithCopyWarning: \n",
            "A value is trying to be set on a copy of a slice from a DataFrame.\n",
            "Try using .loc[row_indexer,col_indexer] = value instead\n",
            "\n",
            "See the caveats in the documentation: https://pandas.pydata.org/pandas-docs/stable/user_guide/indexing.html#returning-a-view-versus-a-copy\n",
            "  df[key] = apply(\n"
          ]
        },
        {
          "data": {
            "application/vnd.jupyter.widget-view+json": {
              "model_id": "0075c8e461b347f98d7fd2a052fe2d65",
              "version_major": 2,
              "version_minor": 0
            },
            "text/plain": [
              "Extracting column: text:   0%|          | 0/222 [00:00<?, ?it/s]"
            ]
          },
          "metadata": {},
          "output_type": "display_data"
        },
        {
          "name": "stderr",
          "output_type": "stream",
          "text": [
            "/workspace/projects/ekorpkit/ekorpkit/pipelines/pipe.py:814: SettingWithCopyWarning: \n",
            "A value is trying to be set on a copy of a slice from a DataFrame.\n",
            "Try using .loc[row_indexer,col_indexer] = value instead\n",
            "\n",
            "See the caveats in the documentation: https://pandas.pydata.org/pandas-docs/stable/user_guide/indexing.html#returning-a-view-versus-a-copy\n",
            "  df[key] = apply(\n",
            "/workspace/projects/ekorpkit/ekorpkit/pipelines/pipe.py:581: SettingWithCopyWarning: \n",
            "A value is trying to be set on a copy of a slice from a DataFrame.\n",
            "Try using .loc[row_indexer,col_indexer] = value instead\n",
            "\n",
            "See the caveats in the documentation: https://pandas.pydata.org/pandas-docs/stable/user_guide/indexing.html#returning-a-view-versus-a-copy\n",
            "  df[apply_to] = df[apply_to].str.split(separator)\n"
          ]
        },
        {
          "data": {
            "text/html": [
              "<div>\n",
              "<style scoped>\n",
              "    .dataframe tbody tr th:only-of-type {\n",
              "        vertical-align: middle;\n",
              "    }\n",
              "\n",
              "    .dataframe tbody tr th {\n",
              "        vertical-align: top;\n",
              "    }\n",
              "\n",
              "    .dataframe thead th {\n",
              "        text-align: right;\n",
              "    }\n",
              "</style>\n",
              "<table border=\"1\" class=\"dataframe\">\n",
              "  <thead>\n",
              "    <tr style=\"text-align: right;\">\n",
              "      <th></th>\n",
              "      <th>id</th>\n",
              "      <th>text</th>\n",
              "      <th>timestamp</th>\n",
              "      <th>content_type</th>\n",
              "      <th>date</th>\n",
              "      <th>speaker</th>\n",
              "      <th>title</th>\n",
              "      <th>sent_id</th>\n",
              "    </tr>\n",
              "  </thead>\n",
              "  <tbody>\n",
              "    <tr>\n",
              "      <th>0</th>\n",
              "      <td>0</td>\n",
              "      <td>meeting Federal Open Market Committee office B...</td>\n",
              "      <td>1993-02-03</td>\n",
              "      <td>fomc_minutes</td>\n",
              "      <td>1993-02-03</td>\n",
              "      <td>Alan Greenspan</td>\n",
              "      <td>FOMC Meeting Minutes</td>\n",
              "      <td>0</td>\n",
              "    </tr>\n",
              "    <tr>\n",
              "      <th>1</th>\n",
              "      <td>0</td>\n",
              "      <td></td>\n",
              "      <td>1993-02-03</td>\n",
              "      <td>fomc_minutes</td>\n",
              "      <td>1993-02-03</td>\n",
              "      <td>Alan Greenspan</td>\n",
              "      <td>FOMC Meeting Minutes</td>\n",
              "      <td>1</td>\n",
              "    </tr>\n",
              "    <tr>\n",
              "      <th>2</th>\n",
              "      <td>0</td>\n",
              "      <td>PRESENT</td>\n",
              "      <td>1993-02-03</td>\n",
              "      <td>fomc_minutes</td>\n",
              "      <td>1993-02-03</td>\n",
              "      <td>Alan Greenspan</td>\n",
              "      <td>FOMC Meeting Minutes</td>\n",
              "      <td>2</td>\n",
              "    </tr>\n",
              "    <tr>\n",
              "      <th>3</th>\n",
              "      <td>0</td>\n",
              "      <td></td>\n",
              "      <td>1993-02-03</td>\n",
              "      <td>fomc_minutes</td>\n",
              "      <td>1993-02-03</td>\n",
              "      <td>Alan Greenspan</td>\n",
              "      <td>FOMC Meeting Minutes</td>\n",
              "      <td>3</td>\n",
              "    </tr>\n",
              "    <tr>\n",
              "      <th>4</th>\n",
              "      <td>0</td>\n",
              "      <td>Mr. Greenspan Chairman Mr. Corrigan Vice Chair...</td>\n",
              "      <td>1993-02-03</td>\n",
              "      <td>fomc_minutes</td>\n",
              "      <td>1993-02-03</td>\n",
              "      <td>Alan Greenspan</td>\n",
              "      <td>FOMC Meeting Minutes</td>\n",
              "      <td>4</td>\n",
              "    </tr>\n",
              "    <tr>\n",
              "      <th>...</th>\n",
              "      <td>...</td>\n",
              "      <td>...</td>\n",
              "      <td>...</td>\n",
              "      <td>...</td>\n",
              "      <td>...</td>\n",
              "      <td>...</td>\n",
              "      <td>...</td>\n",
              "      <td>...</td>\n",
              "    </tr>\n",
              "    <tr>\n",
              "      <th>43699</th>\n",
              "      <td>229</td>\n",
              "      <td>discussion policy normalization consideration ...</td>\n",
              "      <td>2021-12-15</td>\n",
              "      <td>fomc_minutes</td>\n",
              "      <td>2021-12-15</td>\n",
              "      <td>Jerome Powell</td>\n",
              "      <td>FOMC Meeting Minutes</td>\n",
              "      <td>308</td>\n",
              "    </tr>\n",
              "    <tr>\n",
              "      <th>43700</th>\n",
              "      <td>229</td>\n",
              "      <td></td>\n",
              "      <td>2021-12-15</td>\n",
              "      <td>fomc_minutes</td>\n",
              "      <td>2021-12-15</td>\n",
              "      <td>Jerome Powell</td>\n",
              "      <td>FOMC Meeting Minutes</td>\n",
              "      <td>309</td>\n",
              "    </tr>\n",
              "    <tr>\n",
              "      <th>43701</th>\n",
              "      <td>229</td>\n",
              "      <td>Board Governors Federal Reserve System</td>\n",
              "      <td>2021-12-15</td>\n",
              "      <td>fomc_minutes</td>\n",
              "      <td>2021-12-15</td>\n",
              "      <td>Jerome Powell</td>\n",
              "      <td>FOMC Meeting Minutes</td>\n",
              "      <td>310</td>\n",
              "    </tr>\n",
              "    <tr>\n",
              "      <th>43702</th>\n",
              "      <td>229</td>\n",
              "      <td></td>\n",
              "      <td>2021-12-15</td>\n",
              "      <td>fomc_minutes</td>\n",
              "      <td>2021-12-15</td>\n",
              "      <td>Jerome Powell</td>\n",
              "      <td>FOMC Meeting Minutes</td>\n",
              "      <td>311</td>\n",
              "    </tr>\n",
              "    <tr>\n",
              "      <th>43703</th>\n",
              "      <td>229</td>\n",
              "      <td>Street Constitution Avenue N.W. Washington DC</td>\n",
              "      <td>2021-12-15</td>\n",
              "      <td>fomc_minutes</td>\n",
              "      <td>2021-12-15</td>\n",
              "      <td>Jerome Powell</td>\n",
              "      <td>FOMC Meeting Minutes</td>\n",
              "      <td>312</td>\n",
              "    </tr>\n",
              "  </tbody>\n",
              "</table>\n",
              "<p>43704 rows × 8 columns</p>\n",
              "</div>"
            ],
            "text/plain": [
              "        id                                               text  timestamp  \\\n",
              "0        0  meeting Federal Open Market Committee office B... 1993-02-03   \n",
              "1        0                                                    1993-02-03   \n",
              "2        0                                            PRESENT 1993-02-03   \n",
              "3        0                                                    1993-02-03   \n",
              "4        0  Mr. Greenspan Chairman Mr. Corrigan Vice Chair... 1993-02-03   \n",
              "...    ...                                                ...        ...   \n",
              "43699  229  discussion policy normalization consideration ... 2021-12-15   \n",
              "43700  229                                                    2021-12-15   \n",
              "43701  229             Board Governors Federal Reserve System 2021-12-15   \n",
              "43702  229                                                    2021-12-15   \n",
              "43703  229      Street Constitution Avenue N.W. Washington DC 2021-12-15   \n",
              "\n",
              "       content_type        date         speaker                 title  sent_id  \n",
              "0      fomc_minutes  1993-02-03  Alan Greenspan  FOMC Meeting Minutes        0  \n",
              "1      fomc_minutes  1993-02-03  Alan Greenspan  FOMC Meeting Minutes        1  \n",
              "2      fomc_minutes  1993-02-03  Alan Greenspan  FOMC Meeting Minutes        2  \n",
              "3      fomc_minutes  1993-02-03  Alan Greenspan  FOMC Meeting Minutes        3  \n",
              "4      fomc_minutes  1993-02-03  Alan Greenspan  FOMC Meeting Minutes        4  \n",
              "...             ...         ...             ...                   ...      ...  \n",
              "43699  fomc_minutes  2021-12-15   Jerome Powell  FOMC Meeting Minutes      308  \n",
              "43700  fomc_minutes  2021-12-15   Jerome Powell  FOMC Meeting Minutes      309  \n",
              "43701  fomc_minutes  2021-12-15   Jerome Powell  FOMC Meeting Minutes      310  \n",
              "43702  fomc_minutes  2021-12-15   Jerome Powell  FOMC Meeting Minutes      311  \n",
              "43703  fomc_minutes  2021-12-15   Jerome Powell  FOMC Meeting Minutes      312  \n",
              "\n",
              "[43704 rows x 8 columns]"
            ]
          },
          "execution_count": 29,
          "metadata": {},
          "output_type": "execute_result"
        }
      ],
      "source": [
        "cfg = eKonf.compose(config_group=\"pipeline\")\n",
        "cfg._pipeline_ = [\"tokenize\", \"extract_tokens\", \"explode_splits\",\"reset_index\", \"save_dataframe\"]\n",
        "cfg.tokenize.preprocessor.tokenizer = tk_cfg\n",
        "cfg.extract_tokens.preprocessor.tokenizer = tk_cfg\n",
        "cfg.extract_tokens.nouns_only = True\n",
        "cfg.explode_splits.id_key = \"id\"\n",
        "cfg.explode_splits.split_key = \"sent_id\"\n",
        "cfg.explode_splits.separator = \"\\n\"\n",
        "cfg.reset_index.drop_index = True\n",
        "cfg.save_dataframe.output_dir = '../data/fomc'\n",
        "cfg.save_dataframe.output_file = 'fomc_minutes.parquet'\n",
        "df = eKonf.instantiate(cfg, data=fomc_minutes)\n",
        "df"
      ]
    },
    {
      "cell_type": "code",
      "execution_count": 31,
      "metadata": {},
      "outputs": [
        {
          "name": "stdout",
          "output_type": "stream",
          "text": [
            "Total number of sentences : 21748\n"
          ]
        }
      ],
      "source": [
        "df = df[df.text.str.len() > 5]\n",
        "print(\"Total number of sentences : {}\".format(len(df)))\n",
        "df.text.head(10)"
      ]
    },
    {
      "cell_type": "code",
      "execution_count": 33,
      "metadata": {},
      "outputs": [],
      "source": [
        "sentences = []\n",
        "for sentence in df.text:\n",
        "    sentences.append(sentence.lower().split())"
      ]
    },
    {
      "cell_type": "code",
      "execution_count": 35,
      "metadata": {
        "id": "2dx0cWsTLRsI"
      },
      "outputs": [],
      "source": [
        "from gensim.models import Word2Vec, KeyedVectors\n",
        "\n",
        "model = Word2Vec(\n",
        "    sentences=sentences, vector_size=100, window=5, min_count=5, workers=4, sg=0\n",
        ")\n"
      ]
    },
    {
      "cell_type": "markdown",
      "metadata": {
        "id": "BWD9seUhLl2_"
      },
      "source": [
        "Word2Vec Parameters:\n",
        "\n",
        "    vector_size : int, optional\n",
        "        Dimensionality of the word vectors.\n",
        "    window : int, optional\n",
        "        Maximum distance between the current and predicted word within a sentence.\n",
        "    min_count : int, optional\n",
        "        Ignores all words with total frequency lower than this.\n",
        "    workers : int, optional\n",
        "        Use these many worker threads to train the model (=faster training with multicore machines).\n",
        "    sg : {0, 1}, optional\n",
        "        Training algorithm: 1 for skip-gram; otherwise CBOW."
      ]
    },
    {
      "cell_type": "code",
      "execution_count": 36,
      "metadata": {
        "colab": {
          "base_uri": "https://localhost:8080/"
        },
        "id": "LVmN8NWjLkdg",
        "outputId": "1c37ffb2-ba8f-4a95-8849-18bbf4402967"
      },
      "outputs": [
        {
          "name": "stdout",
          "output_type": "stream",
          "text": [
            "[('meeting', 0.7724349498748779), ('minute', 0.7167788147926331), ('p.m', 0.6496762633323669), ('quarter-point', 0.623978853225708), ('conference', 0.6186977028846741), ('call', 0.6094824075698853), ('conjunction', 0.6086611747741699), ('announcement', 0.5987511277198792), ('statement', 0.5946217775344849), ('session', 0.5886356234550476)]\n"
          ]
        }
      ],
      "source": [
        "model_result = model.wv.most_similar(\"fomc\")\n",
        "print(model_result)"
      ]
    },
    {
      "cell_type": "code",
      "execution_count": 37,
      "metadata": {
        "id": "oKMWDIDJLsL7"
      },
      "outputs": [],
      "source": [
        "model.wv.save_word2vec_format('../data/fomc/fomc_w2v.mdl')\n",
        "loaded_model = KeyedVectors.load_word2vec_format(\"../data/fomc/fomc_w2v.mdl\")"
      ]
    },
    {
      "cell_type": "code",
      "execution_count": 39,
      "metadata": {
        "colab": {
          "base_uri": "https://localhost:8080/"
        },
        "id": "kFXguci-L2Gz",
        "outputId": "2d0372f2-f751-4d89-9cb3-39dadf6009ab"
      },
      "outputs": [
        {
          "name": "stdout",
          "output_type": "stream",
          "text": [
            "[('meeting', 0.7724349498748779), ('minute', 0.7167788147926331), ('p.m', 0.6496762633323669), ('quarter-point', 0.623978853225708), ('conference', 0.6186977028846741), ('call', 0.6094824075698853), ('conjunction', 0.6086611747741699), ('announcement', 0.5987511277198792), ('statement', 0.5946217775344849), ('session', 0.5886356234550476)]\n"
          ]
        }
      ],
      "source": [
        "model_result = loaded_model.most_similar(\"fomc\")\n",
        "print(model_result)"
      ]
    },
    {
      "cell_type": "markdown",
      "metadata": {
        "id": "OGHAvgHcL6rC"
      },
      "source": [
        "## Korean Word2Vec"
      ]
    },
    {
      "cell_type": "markdown",
      "metadata": {},
      "source": [
        "### Load BOK Minutes Corpus"
      ]
    },
    {
      "cell_type": "code",
      "execution_count": 42,
      "metadata": {
        "colab": {
          "base_uri": "https://localhost:8080/"
        },
        "id": "OGan-hOTMNw-",
        "outputId": "7c8a6548-08b5-45f8-91d7-1bc10fd2322d"
      },
      "outputs": [
        {
          "name": "stdout",
          "output_type": "stream",
          "text": [
            "Corpus : bok_minutes\n"
          ]
        }
      ],
      "source": [
        "corpus_cfg = eKonf.compose(config_group='corpus')\n",
        "corpus_cfg.name = 'bok_minutes'\n",
        "corpus_cfg.data_dir = \"${cached_path:'https://github.com/entelecheia/ekorpkit-book/raw/main/data/bok_minutes.zip',true,false}\"\n",
        "corpus_cfg.automerge = True\n",
        "bok = eKonf.instantiate(corpus_cfg)\n",
        "print(bok)"
      ]
    },
    {
      "cell_type": "code",
      "execution_count": 44,
      "metadata": {
        "colab": {
          "base_uri": "https://localhost:8080/"
        },
        "id": "P5LwmDrIMY8g",
        "outputId": "d5088ccc-9d42-4f64-829a-dd0185189b37"
      },
      "outputs": [
        {
          "data": {
            "text/html": [
              "<div>\n",
              "<style scoped>\n",
              "    .dataframe tbody tr th:only-of-type {\n",
              "        vertical-align: middle;\n",
              "    }\n",
              "\n",
              "    .dataframe tbody tr th {\n",
              "        vertical-align: top;\n",
              "    }\n",
              "\n",
              "    .dataframe thead th {\n",
              "        text-align: right;\n",
              "    }\n",
              "</style>\n",
              "<table border=\"1\" class=\"dataframe\">\n",
              "  <thead>\n",
              "    <tr style=\"text-align: right;\">\n",
              "      <th></th>\n",
              "      <th>id</th>\n",
              "      <th>text</th>\n",
              "      <th>mdate</th>\n",
              "      <th>rdate</th>\n",
              "      <th>filename</th>\n",
              "    </tr>\n",
              "  </thead>\n",
              "  <tbody>\n",
              "    <tr>\n",
              "      <th>0</th>\n",
              "      <td>0</td>\n",
              "      <td>Economic Situation\\n일부 위원은 반도체시장의 재고조정 지속으로 반도...</td>\n",
              "      <td>2005-03-10 10:00:00</td>\n",
              "      <td>2005-05-13 16:00:00</td>\n",
              "      <td>BOK_20050310_20050513</td>\n",
              "    </tr>\n",
              "    <tr>\n",
              "      <th>1</th>\n",
              "      <td>1</td>\n",
              "      <td>Economic Situation\\n일부 위원은 소비회복의 시기와 폭을 가늠하기 위...</td>\n",
              "      <td>2005-04-07 10:00:00</td>\n",
              "      <td>2005-05-24 16:00:00</td>\n",
              "      <td>BOK_20050407_20050524</td>\n",
              "    </tr>\n",
              "    <tr>\n",
              "      <th>2</th>\n",
              "      <td>2</td>\n",
              "      <td>Economic Situation\\n일부 위원은 지난해 풍작에 따른 효과와 금년초 ...</td>\n",
              "      <td>2005-05-12 10:00:00</td>\n",
              "      <td>2005-06-28 16:00:00</td>\n",
              "      <td>BOK_20050512_20050628</td>\n",
              "    </tr>\n",
              "    <tr>\n",
              "      <th>3</th>\n",
              "      <td>3</td>\n",
              "      <td>Economic Situation\\n일부 위원은 최근 소비재판매액 증가세가 다소 둔...</td>\n",
              "      <td>2005-06-09 10:00:00</td>\n",
              "      <td>2005-07-26 16:00:00</td>\n",
              "      <td>BOK_20050609_20050726</td>\n",
              "    </tr>\n",
              "    <tr>\n",
              "      <th>4</th>\n",
              "      <td>4</td>\n",
              "      <td>Economic Situation\\n일부 위원은 최근 이란의 새 대통령 취임 이후 ...</td>\n",
              "      <td>2005-07-07 10:00:00</td>\n",
              "      <td>2005-08-23 16:00:00</td>\n",
              "      <td>BOK_20050707_20050823</td>\n",
              "    </tr>\n",
              "  </tbody>\n",
              "</table>\n",
              "</div>"
            ],
            "text/plain": [
              "   id                                               text                mdate  \\\n",
              "0   0  Economic Situation\\n일부 위원은 반도체시장의 재고조정 지속으로 반도...  2005-03-10 10:00:00   \n",
              "1   1  Economic Situation\\n일부 위원은 소비회복의 시기와 폭을 가늠하기 위...  2005-04-07 10:00:00   \n",
              "2   2  Economic Situation\\n일부 위원은 지난해 풍작에 따른 효과와 금년초 ...  2005-05-12 10:00:00   \n",
              "3   3  Economic Situation\\n일부 위원은 최근 소비재판매액 증가세가 다소 둔...  2005-06-09 10:00:00   \n",
              "4   4  Economic Situation\\n일부 위원은 최근 이란의 새 대통령 취임 이후 ...  2005-07-07 10:00:00   \n",
              "\n",
              "                 rdate               filename  \n",
              "0  2005-05-13 16:00:00  BOK_20050310_20050513  \n",
              "1  2005-05-24 16:00:00  BOK_20050407_20050524  \n",
              "2  2005-06-28 16:00:00  BOK_20050512_20050628  \n",
              "3  2005-07-26 16:00:00  BOK_20050609_20050726  \n",
              "4  2005-08-23 16:00:00  BOK_20050707_20050823  "
            ]
          },
          "execution_count": 44,
          "metadata": {},
          "output_type": "execute_result"
        }
      ],
      "source": [
        "bok_minutes = bok.data.copy()\n",
        "bok_minutes.head()"
      ]
    },
    {
      "cell_type": "code",
      "execution_count": 45,
      "metadata": {},
      "outputs": [],
      "source": [
        "\n",
        "tk_cfg = eKonf.compose(config_group='preprocessor/tokenizer=mecab_econ')"
      ]
    },
    {
      "cell_type": "code",
      "execution_count": 46,
      "metadata": {},
      "outputs": [
        {
          "data": {
            "application/vnd.jupyter.widget-view+json": {
              "model_id": "c5aeb113a64b4403b6325ca01aed71c0",
              "version_major": 2,
              "version_minor": 0
            },
            "text/plain": [
              "Tokenizing column: text:   0%|          | 0/163 [00:00<?, ?it/s]"
            ]
          },
          "metadata": {},
          "output_type": "display_data"
        },
        {
          "data": {
            "application/vnd.jupyter.widget-view+json": {
              "model_id": "aa5ca6f4da4c47d6bdf3cee214804638",
              "version_major": 2,
              "version_minor": 0
            },
            "text/plain": [
              "Extracting column: text:   0%|          | 0/163 [00:00<?, ?it/s]"
            ]
          },
          "metadata": {},
          "output_type": "display_data"
        },
        {
          "data": {
            "text/html": [
              "<div>\n",
              "<style scoped>\n",
              "    .dataframe tbody tr th:only-of-type {\n",
              "        vertical-align: middle;\n",
              "    }\n",
              "\n",
              "    .dataframe tbody tr th {\n",
              "        vertical-align: top;\n",
              "    }\n",
              "\n",
              "    .dataframe thead th {\n",
              "        text-align: right;\n",
              "    }\n",
              "</style>\n",
              "<table border=\"1\" class=\"dataframe\">\n",
              "  <thead>\n",
              "    <tr style=\"text-align: right;\">\n",
              "      <th></th>\n",
              "      <th>id</th>\n",
              "      <th>text</th>\n",
              "      <th>mdate</th>\n",
              "      <th>rdate</th>\n",
              "      <th>filename</th>\n",
              "      <th>sent_id</th>\n",
              "    </tr>\n",
              "  </thead>\n",
              "  <tbody>\n",
              "    <tr>\n",
              "      <th>0</th>\n",
              "      <td>0</td>\n",
              "      <td>Economic Situation</td>\n",
              "      <td>2005-03-10 10:00:00</td>\n",
              "      <td>2005-05-13 16:00:00</td>\n",
              "      <td>BOK_20050310_20050513</td>\n",
              "      <td>0</td>\n",
              "    </tr>\n",
              "    <tr>\n",
              "      <th>1</th>\n",
              "      <td>0</td>\n",
              "      <td>일부 위원 반도체시장 재고조정 지속 반도체 가격 하락 불구 중 반도체 제조 장비 투...</td>\n",
              "      <td>2005-03-10 10:00:00</td>\n",
              "      <td>2005-05-13 16:00:00</td>\n",
              "      <td>BOK_20050310_20050513</td>\n",
              "      <td>1</td>\n",
              "    </tr>\n",
              "    <tr>\n",
              "      <th>2</th>\n",
              "      <td>0</td>\n",
              "      <td>관련 부서 반도체 경기 인식 것 반도체 가격 폭 하락 데 기인 것 가격 하락 반면 ...</td>\n",
              "      <td>2005-03-10 10:00:00</td>\n",
              "      <td>2005-05-13 16:00:00</td>\n",
              "      <td>BOK_20050310_20050513</td>\n",
              "      <td>2</td>\n",
              "    </tr>\n",
              "    <tr>\n",
              "      <th>3</th>\n",
              "      <td>0</td>\n",
              "      <td>위원 분기 중 경제성장률 당초 전망 수 보고 내용 관련 경우 GDP 마이너스 갭 축...</td>\n",
              "      <td>2005-03-10 10:00:00</td>\n",
              "      <td>2005-05-13 16:00:00</td>\n",
              "      <td>BOK_20050310_20050513</td>\n",
              "      <td>3</td>\n",
              "    </tr>\n",
              "    <tr>\n",
              "      <th>4</th>\n",
              "      <td>0</td>\n",
              "      <td>관련 부서 분기 중 경제성장률 경기회복 시기 경우 GDP 갭 축소 수요 측면 물가 ...</td>\n",
              "      <td>2005-03-10 10:00:00</td>\n",
              "      <td>2005-05-13 16:00:00</td>\n",
              "      <td>BOK_20050310_20050513</td>\n",
              "      <td>4</td>\n",
              "    </tr>\n",
              "    <tr>\n",
              "      <th>...</th>\n",
              "      <td>...</td>\n",
              "      <td>...</td>\n",
              "      <td>...</td>\n",
              "      <td>...</td>\n",
              "      <td>...</td>\n",
              "      <td>...</td>\n",
              "    </tr>\n",
              "    <tr>\n",
              "      <th>33852</th>\n",
              "      <td>162</td>\n",
              "      <td>앞 코로나 충격 회복 해외 완화적 통화정책 조정 것 예상</td>\n",
              "      <td>2021-11-25 10:00:00</td>\n",
              "      <td>2021-12-14 16:00:00</td>\n",
              "      <td>BOK_20211125_20211214</td>\n",
              "      <td>337</td>\n",
              "    </tr>\n",
              "    <tr>\n",
              "      <th>33853</th>\n",
              "      <td>162</td>\n",
              "      <td>글로벌 공급망 재편 기후변화 디지털 경제 전환 등 가속 화 가운데 미 중 갈등 중국...</td>\n",
              "      <td>2021-11-25 10:00:00</td>\n",
              "      <td>2021-12-14 16:00:00</td>\n",
              "      <td>BOK_20211125_20211214</td>\n",
              "      <td>338</td>\n",
              "    </tr>\n",
              "    <tr>\n",
              "      <th>33854</th>\n",
              "      <td>162</td>\n",
              "      <td>향후 경제 회복세 물가 흐름 금융시장 상황 경제 주체 들 수용 등 점검 금리 중립적...</td>\n",
              "      <td>2021-11-25 10:00:00</td>\n",
              "      <td>2021-12-14 16:00:00</td>\n",
              "      <td>BOK_20211125_20211214</td>\n",
              "      <td>339</td>\n",
              "    </tr>\n",
              "    <tr>\n",
              "      <th>33855</th>\n",
              "      <td>162</td>\n",
              "      <td></td>\n",
              "      <td>2021-11-25 10:00:00</td>\n",
              "      <td>2021-12-14 16:00:00</td>\n",
              "      <td>BOK_20211125_20211214</td>\n",
              "      <td>340</td>\n",
              "    </tr>\n",
              "    <tr>\n",
              "      <th>33856</th>\n",
              "      <td>162</td>\n",
              "      <td>Government s View</td>\n",
              "      <td>2021-11-25 10:00:00</td>\n",
              "      <td>2021-12-14 16:00:00</td>\n",
              "      <td>BOK_20211125_20211214</td>\n",
              "      <td>341</td>\n",
              "    </tr>\n",
              "  </tbody>\n",
              "</table>\n",
              "<p>33857 rows × 6 columns</p>\n",
              "</div>"
            ],
            "text/plain": [
              "        id                                               text  \\\n",
              "0        0                                 Economic Situation   \n",
              "1        0  일부 위원 반도체시장 재고조정 지속 반도체 가격 하락 불구 중 반도체 제조 장비 투...   \n",
              "2        0  관련 부서 반도체 경기 인식 것 반도체 가격 폭 하락 데 기인 것 가격 하락 반면 ...   \n",
              "3        0  위원 분기 중 경제성장률 당초 전망 수 보고 내용 관련 경우 GDP 마이너스 갭 축...   \n",
              "4        0  관련 부서 분기 중 경제성장률 경기회복 시기 경우 GDP 갭 축소 수요 측면 물가 ...   \n",
              "...    ...                                                ...   \n",
              "33852  162                    앞 코로나 충격 회복 해외 완화적 통화정책 조정 것 예상   \n",
              "33853  162  글로벌 공급망 재편 기후변화 디지털 경제 전환 등 가속 화 가운데 미 중 갈등 중국...   \n",
              "33854  162  향후 경제 회복세 물가 흐름 금융시장 상황 경제 주체 들 수용 등 점검 금리 중립적...   \n",
              "33855  162                                                      \n",
              "33856  162                                  Government s View   \n",
              "\n",
              "                     mdate                rdate               filename  \\\n",
              "0      2005-03-10 10:00:00  2005-05-13 16:00:00  BOK_20050310_20050513   \n",
              "1      2005-03-10 10:00:00  2005-05-13 16:00:00  BOK_20050310_20050513   \n",
              "2      2005-03-10 10:00:00  2005-05-13 16:00:00  BOK_20050310_20050513   \n",
              "3      2005-03-10 10:00:00  2005-05-13 16:00:00  BOK_20050310_20050513   \n",
              "4      2005-03-10 10:00:00  2005-05-13 16:00:00  BOK_20050310_20050513   \n",
              "...                    ...                  ...                    ...   \n",
              "33852  2021-11-25 10:00:00  2021-12-14 16:00:00  BOK_20211125_20211214   \n",
              "33853  2021-11-25 10:00:00  2021-12-14 16:00:00  BOK_20211125_20211214   \n",
              "33854  2021-11-25 10:00:00  2021-12-14 16:00:00  BOK_20211125_20211214   \n",
              "33855  2021-11-25 10:00:00  2021-12-14 16:00:00  BOK_20211125_20211214   \n",
              "33856  2021-11-25 10:00:00  2021-12-14 16:00:00  BOK_20211125_20211214   \n",
              "\n",
              "       sent_id  \n",
              "0            0  \n",
              "1            1  \n",
              "2            2  \n",
              "3            3  \n",
              "4            4  \n",
              "...        ...  \n",
              "33852      337  \n",
              "33853      338  \n",
              "33854      339  \n",
              "33855      340  \n",
              "33856      341  \n",
              "\n",
              "[33857 rows x 6 columns]"
            ]
          },
          "execution_count": 46,
          "metadata": {},
          "output_type": "execute_result"
        }
      ],
      "source": [
        "cfg = eKonf.compose(config_group=\"pipeline\")\n",
        "cfg._pipeline_ = [\"tokenize\", \"extract_tokens\", \"explode_splits\",\"reset_index\", \"save_dataframe\"]\n",
        "cfg.tokenize.preprocessor.tokenizer = tk_cfg\n",
        "cfg.extract_tokens.preprocessor.tokenizer = tk_cfg\n",
        "cfg.extract_tokens.nouns_only = True\n",
        "cfg.explode_splits.id_key = \"id\"\n",
        "cfg.explode_splits.split_key = \"sent_id\"\n",
        "cfg.explode_splits.separator = \"\\n\"\n",
        "cfg.reset_index.drop_index = True\n",
        "cfg.save_dataframe.output_dir = '../data/bok'\n",
        "cfg.save_dataframe.output_file = 'bok_minutes.parquet'\n",
        "df = eKonf.instantiate(cfg, data=bok_minutes)\n",
        "df"
      ]
    },
    {
      "cell_type": "code",
      "execution_count": 47,
      "metadata": {},
      "outputs": [
        {
          "name": "stdout",
          "output_type": "stream",
          "text": [
            "Total number of sentences : 33019\n"
          ]
        },
        {
          "data": {
            "text/plain": [
              "0                                   Economic Situation\n",
              "1    일부 위원 반도체시장 재고조정 지속 반도체 가격 하락 불구 중 반도체 제조 장비 투...\n",
              "2    관련 부서 반도체 경기 인식 것 반도체 가격 폭 하락 데 기인 것 가격 하락 반면 ...\n",
              "3    위원 분기 중 경제성장률 당초 전망 수 보고 내용 관련 경우 GDP 마이너스 갭 축...\n",
              "4    관련 부서 분기 중 경제성장률 경기회복 시기 경우 GDP 갭 축소 수요 측면 물가 ...\n",
              "5    위원 분기 중 국제유가 현재 브렌트유 기준 두바이유 기준 지속 소비자물가 중반 것 ...\n",
              "6    관련 부서 유가 현재 정도 상승 소비자물가 중반 상승 것 예상 이상기후 농수산물 가...\n",
              "7    일부 위원 관련 부서 작성 주요 경제지표 설비투자 작년 전년동기대비 증가세 이후 감...\n",
              "8    관련 부서 설비투자 작년 분기 증가세 전환 동안 대 증가세 유지 분기 감소세 수준면...\n",
              "9    위원 GDP 갭 관련 분기 분기 경제성장률 상승 정도 시차 GDP 갭 효과 것 성장...\n",
              "Name: text, dtype: object"
            ]
          },
          "execution_count": 47,
          "metadata": {},
          "output_type": "execute_result"
        }
      ],
      "source": [
        "df = df[df.text.str.len() > 5]\n",
        "print('Total number of sentences : {}'.format(len(df)))\n",
        "df.text.head(10)"
      ]
    },
    {
      "cell_type": "code",
      "execution_count": 48,
      "metadata": {},
      "outputs": [],
      "source": [
        "sentences = []\n",
        "for sentence in df.text:\n",
        "    sentences.append(sentence.lower().split())"
      ]
    },
    {
      "cell_type": "code",
      "execution_count": 49,
      "metadata": {
        "id": "4gJ2VO_VM3G6"
      },
      "outputs": [],
      "source": [
        "from gensim.models import Word2Vec, KeyedVectors\n",
        "\n",
        "model = Word2Vec(\n",
        "    sentences=sentences, vector_size=100, window=5, min_count=5, workers=4, sg=0\n",
        ")\n"
      ]
    },
    {
      "cell_type": "code",
      "execution_count": 50,
      "metadata": {
        "colab": {
          "base_uri": "https://localhost:8080/"
        },
        "id": "LHomXzdzM4lj",
        "outputId": "c8e6deb3-d2ec-4e47-a29b-1fe5316ca0a1"
      },
      "outputs": [
        {
          "name": "stdout",
          "output_type": "stream",
          "text": [
            "[('회의', 0.8906807899475098), ('fomc', 0.8481472730636597), ('통방', 0.8190041780471802), ('지난번', 0.8061490058898926), ('금융통화위원회', 0.8001291751861572), ('결문', 0.8000630736351013), ('개최', 0.7835801243782043), ('한국은행', 0.7747403979301453), ('금번', 0.7682210206985474), ('차례', 0.7667487859725952)]\n"
          ]
        }
      ],
      "source": [
        "model_result = model.wv.most_similar(\"금통위\")\n",
        "print(model_result)"
      ]
    },
    {
      "cell_type": "code",
      "execution_count": 51,
      "metadata": {},
      "outputs": [],
      "source": [
        "model.wv.save_word2vec_format('../data/fomc/bok_w2v.mdl')\n",
        "loaded_model = KeyedVectors.load_word2vec_format(\"../data/fomc/bok_w2v.mdl\")"
      ]
    },
    {
      "cell_type": "code",
      "execution_count": 53,
      "metadata": {
        "colab": {
          "base_uri": "https://localhost:8080/"
        },
        "id": "CQ0pNuEjM55g",
        "outputId": "dad72b76-574f-4355-be87-b09f34d3e473"
      },
      "outputs": [
        {
          "name": "stdout",
          "output_type": "stream",
          "text": [
            "[('회의', 0.8906807899475098), ('fomc', 0.8481472730636597), ('통방', 0.8190041780471802), ('지난번', 0.8061490058898926), ('금융통화위원회', 0.8001291751861572), ('결문', 0.8000630736351013), ('개최', 0.7835801243782043), ('한국은행', 0.7747403979301453), ('금번', 0.7682210206985474), ('차례', 0.7667487859725952)]\n"
          ]
        }
      ],
      "source": [
        "model_result = loaded_model.most_similar(\"금통위\")\n",
        "print(model_result)"
      ]
    },
    {
      "cell_type": "code",
      "execution_count": 54,
      "metadata": {
        "colab": {
          "base_uri": "https://localhost:8080/"
        },
        "id": "Fu54eXfcM95n",
        "outputId": "27d43bba-34fb-44fd-d11c-da9f28dd6e9b"
      },
      "outputs": [
        {
          "name": "stdout",
          "output_type": "stream",
          "text": [
            "[('장기금리', 0.6964526772499084), ('수신금리', 0.689939022064209), ('정책금리', 0.6872067451477051), ('단기금리', 0.6716647744178772), ('가산금리', 0.6508564352989197), ('대출금리', 0.6400569677352905), ('지급준비율', 0.6312344670295715), ('시장금리', 0.6160103678703308), ('기준금리', 0.6158373355865479), ('수익률곡선', 0.6018366813659668)]\n"
          ]
        }
      ],
      "source": [
        "model_result = loaded_model.most_similar(\"금리\")\n",
        "print(model_result)"
      ]
    }
  ],
  "metadata": {
    "accelerator": "GPU",
    "colab": {
      "collapsed_sections": [],
      "machine_shape": "hm",
      "name": "eng/kor_word2vec.ipynb",
      "provenance": []
    },
    "interpreter": {
      "hash": "f869af7787e6a1c49e09e367fc6e1b81d93d1c6583b43249c80edc047bd13cb2"
    },
    "kernelspec": {
      "display_name": "Python 3.8.12 64-bit ('ekonml38')",
      "language": "python",
      "name": "python3"
    },
    "language_info": {
      "codemirror_mode": {
        "name": "ipython",
        "version": 3
      },
      "file_extension": ".py",
      "mimetype": "text/x-python",
      "name": "python",
      "nbconvert_exporter": "python",
      "pygments_lexer": "ipython3",
      "version": "3.8.12"
    }
  },
  "nbformat": 4,
  "nbformat_minor": 0
}
