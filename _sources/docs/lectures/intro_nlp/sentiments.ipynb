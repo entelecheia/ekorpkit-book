{
 "cells": [
  {
   "cell_type": "markdown",
   "id": "cfdc61fb",
   "metadata": {},
   "source": [
    "# Sentiment Analysis\n",
    "\n",
    "![](../figs/intro_nlp/sa/entelecheia_smile.png)"
   ]
  },
  {
   "cell_type": "markdown",
   "id": "66d50cc3",
   "metadata": {},
   "source": [
    "## What is sentiment analysis\n",
    "\n",
    "- Sentiment analysis is the process of determining whether a piece of writing is positive, negative or neutral. \n",
    "- It's also known as opinion mining, deriving the opinion or attitude of a speaker.\n",
    "- It applies natural language processing, text analysis, computational linguistics, and machine learning to identify and extract subjective information in source materials such as reviews, comments, and news articles.\n",
    "- The goal of sentiment analysis is to know the attitude of a speaker or writer with respect to some topic or the overall contextual polarity or emotional reaction to a document, interaction, or event."
   ]
  },
  {
   "cell_type": "markdown",
   "id": "b66aa0ae",
   "metadata": {},
   "source": [
    "## Why sentiment analysis\n",
    "\n",
    "- Sentiment analysis is a useful tool for businesses to understand the sentiment of their customers towards their brand, product or service. \n",
    "- It can also be used to understand the sentiment of their competitors. \n",
    "- Sentiment analysis can also be used to understand the sentiment of the general public towards certain issues."
   ]
  },
  {
   "cell_type": "markdown",
   "id": "560d56a5",
   "metadata": {},
   "source": [
    "## Sentiment analysis types\n",
    "\n",
    "Depending on the scale of the sentiment analysis, there are three types of sentiment analysis:\n",
    "\n",
    "- **Document-level sentiment analysis**: This is the most common type of sentiment analysis. It is used to determine the overall sentiment of a document.\n",
    "- **Sentence-level sentiment analysis**: This type of sentiment analysis is used to determine the sentiment of a sentence within a document.\n",
    "- **Aspect-level sentiment analysis**: This type of sentiment analysis is used to determine the sentiment of a specific aspect of a document.\n",
    "\n",
    "These three types of sentiment analysis can be grouped into two categories:\n",
    "\n",
    "- **Coarse-grained sentiment analysis**: This type of sentiment analysis is used to determine the overall sentiment of a document. It is also known as document-level sentiment analysis.\n",
    "- **Fine-grained sentiment analysis**: This type of sentiment analysis is used to determine the sentiment of a specific aspect of a document. It is also known as aspect-level sentiment analysis."
   ]
  },
  {
   "cell_type": "markdown",
   "id": "5f3842da",
   "metadata": {},
   "source": [
    "\n",
    "Or, depending on the number of classes, there are two types of sentiment analysis:\n",
    "\n",
    "- **Binary sentiment analysis**: This type of sentiment analysis is used to determine whether a document is positive or negative.\n",
    "- **Multi-class sentiment analysis**: This type of sentiment analysis is used to determine whether a document is positive, negative or neutral.\n",
    "\n",
    "Or, depending on the method, there are two types of sentiment analysis:\n",
    "\n",
    "- **Lexicon-based sentiment analysis**: This type of sentiment analysis is used to determine the sentiment of a document by using a predefined list of positive and negative words.\n",
    "- **Machine learning-based sentiment analysis**: This type of sentiment analysis is used to determine the sentiment of a document by using machine learning algorithms."
   ]
  },
  {
   "cell_type": "markdown",
   "id": "7690b43f",
   "metadata": {},
   "source": [
    "### Coarse-grained sentiment analysis\n",
    "\n",
    "Coarse-grained sentiment analysis entails two tasks: subjectivity classification and polarity classification. \n",
    "\n",
    "- Subjectivity classification\n",
    "  - Subjective: The document expresses some personal feelings, views, or beliefs.\n",
    "  - Objective: The document does not express any personal feelings, views, or beliefs.\n",
    "  - Example: \"I love this movie\" is subjective, \"The movie was released in 2019\" is objective.\n",
    "- Polarity classification\n",
    "  - Positive: The document expresses a positive sentiment.\n",
    "  - Negative: The document expresses a negative sentiment.\n",
    "  - Neutral: The document expresses no sentiment.\n",
    "  - Example: \"I love this movie\" is positive, \"I hate this movie\" is negative, \"I don't care about this movie\" is neutral.\n",
    "\n",
    "### Fine-grained sentiment analysis\n",
    "\n",
    "Fine-grained sentiment analysis entails one more task: aspect classification. Aspect means a specific feature of a product or service."
   ]
  },
  {
   "cell_type": "markdown",
   "id": "884b731b",
   "metadata": {},
   "source": [
    "## Lexicon-Based Methods\n",
    "\n",
    "- Lexicon-based methods are based on a predefined list of positive and negative words.\n",
    "- Corpus-specific lexicons are built for a specific domain.\n",
    "  - i.e. a lexicon for law-related documents (number of times a judge uses the word \"guilty\" in a document)\n",
    "  - i.e. a lexicon for movie reviews (number of times a reviewer uses the word \"good\" in a document)\n",
    "- General dictionaries are built for a general domain.\n",
    "  - WordNet: a general dictionary for English words\n",
    "  - LIWC: Linguistic Inquiry and Word Count\n",
    "  - MPQA: Multi-Perspective Question Answering"
   ]
  },
  {
   "cell_type": "markdown",
   "id": "f040a7ab",
   "metadata": {},
   "source": [
    "### Measuring Economic Policy Uncertainty (EPU)\n",
    "\n",
    "**This proxy for Economic Policy Uncertainty (EPU) comes from computer searches of newspapers**\n",
    "\n",
    "- US index: 10 major papers get monthly counts of articles with:\n",
    "\n",
    "  - `E` {economic or economy}, and\n",
    "  - `P` {regulation or deficit or federal reserve or congress or legislation or white house}, and\n",
    "  - `U` {uncertain or uncertainty}\n",
    "\n",
    "- Divide the count for each month by the count of all articles\n",
    "\n",
    "- Normalize and sum 10 papers to get the U.S monthly index\n"
   ]
  },
  {
   "cell_type": "markdown",
   "id": "a691a688",
   "metadata": {},
   "source": [
    "**US News-based economic policy uncertainty index**\n",
    "\n",
    "![h:500px](../figs/intro_nlp/research/13.png)\n"
   ]
  },
  {
   "cell_type": "markdown",
   "id": "d6476c70",
   "metadata": {},
   "source": [
    "### Monetary Policy Stance\n",
    "\n",
    "![](../figs/intro_nlp/sa/bok_mp_tones.png)"
   ]
  },
  {
   "cell_type": "markdown",
   "id": "8da00d1a",
   "metadata": {},
   "source": [
    "### WordNet\n",
    "\n",
    "- WordNet is a general dictionary for English words.\n",
    "- English words are grouped into sets of synonyms called synsets.\n",
    "- Synonym sets (synsets) are interlinked by means of conceptual-semantic and lexical relations.\n",
    "- Words are organized into a category hierarchy.\n",
    "  - antonym: a word that means the opposite of another word\n",
    "  - holonym: a word that denotes a whole of which the other word is a part\n",
    "  - meronym: a word that denotes a part of which the other word is a whole\n",
    "  - hypernym: a word that denotes a more general concept than the other word\n",
    "  - hyponym: a word that denotes a more specific concept than the other word\n",
    "\n",
    "![](../figs/intro_nlp/sa/3.png)"
   ]
  },
  {
   "cell_type": "markdown",
   "id": "e25f492e",
   "metadata": {},
   "source": [
    "Example: the word \"bass\" has the following synsets:\n",
    "\n",
    "![](../figs/intro_nlp/sa/2.png)"
   ]
  },
  {
   "cell_type": "markdown",
   "id": "82bb2b16",
   "metadata": {},
   "source": [
    "WordNet Supersenses (Word Categories)\n",
    "\n",
    "![](../figs/intro_nlp/sa/4.png)"
   ]
  },
  {
   "cell_type": "markdown",
   "id": "596758b6",
   "metadata": {},
   "source": [
    "### General Dictionaries\n",
    "\n",
    "- LIWC (pronounced “Luke”): Linguistic Inquiry and Word Counts\n",
    "  - 2300 words 70 lists of category-relevant words, e.g. “emotion”, “cognition”, “work”, “family”, “positive”, “negative” etc.\n",
    "- Mohammad and Turney (2011):\n",
    "  - code 10,000 words along four emotional dimensions: joy–sadness, anger-fear, trust-disgust, anticipation-surprise\n",
    "- Warriner et al (2013):\n",
    "  - code 14,000 words along three emotional dimensions: valence, arousal, dominance.\n",
    "- Bing Liu's Opinion Lexicon:\n",
    "  - Positive words: 2006\n",
    "  - Negative words: 4783\n",
    "  - Useful properties: includes mis-spellings, morphological variants, slang, and social-media mark-up\n",
    "- MPQA Subjectivity Lexicon: maintained by Theresa Wilson, Janyce Wiebe, and Paul Hoffmann\n",
    "- SentiWordNet: attaches polarity scores to synsets in WordNet\n",
    "- Harvard General Inquirer:\n",
    "  - a lexicon attaching syntactic, semantic, and pragmatic information to part-of-speech tagged words\n"
   ]
  },
  {
   "cell_type": "markdown",
   "id": "e3e323cd",
   "metadata": {},
   "source": [
    "#### MPQA Subjectivity Lexicon\n",
    "\n",
    "![](../figs/intro_nlp/sa/mpqa.png)"
   ]
  },
  {
   "cell_type": "markdown",
   "id": "af624714",
   "metadata": {},
   "source": [
    "#### SentiWordNet\n",
    "\n",
    "![](../figs/intro_nlp/sa/sentiwordnet.png)"
   ]
  },
  {
   "cell_type": "markdown",
   "id": "b6bb683b",
   "metadata": {},
   "source": [
    "![](../figs/intro_nlp/sa/10.jpg)"
   ]
  },
  {
   "cell_type": "markdown",
   "id": "f53b493e",
   "metadata": {},
   "source": [
    "#### Harvard General Inquirer\n",
    "\n",
    "![](../figs/intro_nlp/sa/harvard.png)"
   ]
  },
  {
   "cell_type": "markdown",
   "id": "fdd3a7d5",
   "metadata": {},
   "source": [
    "#### LIWC\n",
    "\n",
    "![](../figs/intro_nlp/sa/liwc.png)"
   ]
  },
  {
   "cell_type": "markdown",
   "id": "e306749e",
   "metadata": {},
   "source": [
    "### Disagreement among Lexicons\n",
    "\n",
    "Underlying vocabularies are different among lexicons. Therefore, it is difficult to compare the results of different lexicons.\n",
    "\n",
    "![](../figs/intro_nlp/sa/disagreement.png)"
   ]
  },
  {
   "cell_type": "markdown",
   "id": "03fa6998",
   "metadata": {},
   "source": [
    "### Bias in Lexicons\n",
    "\n",
    "![](../figs/intro_nlp/sa/5.png)"
   ]
  },
  {
   "cell_type": "markdown",
   "id": "cabc6583",
   "metadata": {},
   "source": [
    "**NLP “Bias” is statistical bias**\n",
    "\n",
    "- Sentiment scores that are trained on annotated datasets also learn from the correlated non-sentiment information.  \n",
    "- Supervised sentiment models are confounded by correlated language factors.\n",
    "  - e.g., in the training set maybe people complain about Mexican food more often than Italian food because Italian restaurants tend to be more upscale.\n",
    "\n",
    "![](../figs/intro_nlp/sa/6.png)\n"
   ]
  },
  {
   "cell_type": "markdown",
   "id": "1821b8e8",
   "metadata": {},
   "source": [
    "**This is a universal problem**\n",
    "\n",
    "- supervised models (classifiers, regressors) learn features that are correlated with the label being annotated.\n",
    "- unsupervised models (topic models, word embeddings) learn correlations between topics / contexts.\n",
    "- dictionary methods, while having other limitations, mitigate this problem\n",
    "  - the researcher intentionally “regularizes” out spurious confounders with the targeted language dimension.\n",
    "  - helps explain why economists often still use dictionary methods.\n"
   ]
  },
  {
   "cell_type": "markdown",
   "id": "78b610a4",
   "metadata": {},
   "source": [
    "### Building your own lexicons\n",
    "\n",
    "- Much larger lexicons can be inferred from large corpora.\n",
    "- We can capture different dimensions of sentiment that might be important for a specific domain.\n",
    "- We can develop lexicons that are sensitive to the norms of specific domains."
   ]
  },
  {
   "cell_type": "markdown",
   "id": "05dd2483",
   "metadata": {},
   "source": [
    "## Machine Learning Methods\n",
    "\n",
    "### Supervised Methods\n",
    "\n",
    "- Supervised methods are based on a predefined set of documents with known sentiment labels.\n",
    "- The sentiment labels are used to train a classifier.\n",
    "- The classifier is then used to predict the sentiment labels of new documents.\n",
    "- The classifier can be a linear classifier (e.g. logistic regression) or a non-linear classifier (e.g. support vector machine).\n",
    "\n",
    "### Unsupervised Methods\n",
    "\n",
    "- Unsupervised methods are based on a predefined set of documents without known sentiment labels.\n",
    "- The documents are used to train a topic model.\n",
    "- The topic model is then used to predict the sentiment labels of new documents.\n",
    "- The topic model can be a probabilistic topic model (e.g. LDA) or a non-probabilistic topic model (e.g. LSA).\n",
    "- The sentiment labels are inferred from the topic model."
   ]
  },
  {
   "cell_type": "markdown",
   "id": "8a022437",
   "metadata": {},
   "source": [
    "### Supervised Classification\n",
    "\n",
    "What is supervised classification?\n",
    "\n",
    "- The learned prediction of the most likely of a set of $k > 1$ predefined nominal classes for an instance.\n",
    "\n",
    "Learning phase (training)\n",
    "\n",
    "- Input. A set of known instances $x^(i)$ with correct output class $c(x^{(i)} )$.\n",
    "- Output. A model $X \\to C$ that maps any instance to its output class.\n",
    "\n",
    "Application phase (prediction)\n",
    "\n",
    "- Input. A set of unknown instances $x^(i)$ without output classes.\n",
    "- Output. The output class $c(x^{(i)} )$ for each instance.\n"
   ]
  },
  {
   "cell_type": "markdown",
   "id": "e4c2949a",
   "metadata": {},
   "source": [
    "### Feature-based Classification\n",
    "\n",
    "Feature-based representation\n",
    "\n",
    "- A feature vector is an ordered set of values of the form $x = (x_1 , \\ldots , x_m )$.\n",
    "- Each feature $x_j$ denotes a measurable property of an input, $1 \\le j \\lt m$.\n",
    "- Each instance $o_j$ is mapped to a vector $x^{(i)} = (x_1^{(u)} , \\ldots , x_m^{(i)} )$ where $x_j^{(i)}$ denotes the value of feature $x_j$ .\n",
    "\n",
    "Text mining using feature-based classification\n",
    "\n",
    "- The main challenge is to engineer features that help solve a given task.\n",
    "- In addition, a suitable classification algorithm needs to be chosen.\n",
    "\n"
   ]
  },
  {
   "cell_type": "markdown",
   "id": "8e4658d1",
   "metadata": {},
   "source": [
    "### Classification Algorithms\n",
    "\n",
    "Binary vs. multiple-class classification (recap)\n",
    "\n",
    "- Binary. Many classification algorithms work for $k = 2$ classes only.\n",
    "- Multiple. Handled via multiple binary classifiers, e.g., one-versus-all.\n",
    "\n",
    "Selected supervised classification algorithms\n",
    "\n",
    "- Naïve Bayes. Predicts classes based on conditional probabilities.\n",
    "- Support vector machine. Maximizes the margin between classes.\n",
    "- Decision tree. Sequentially compares instances on single features.\n",
    "- Random forest. Majority voting based on several decision trees.\n",
    "- Neural network. Learns complex functions on feature combinations.\n",
    "- ... and many more\n"
   ]
  },
  {
   "cell_type": "markdown",
   "id": "503a266b",
   "metadata": {},
   "source": [
    "## Sentiment Classification in Practice\n",
    "\n",
    "**Sentiment classification of reviews**\n",
    "\n",
    "- Classification of the nominal sentiment polarity or score of a customer review on a product, service, or work of art.\n",
    "\n",
    "**Data**\n",
    "\n",
    "- 2100 English hotel reviews from TripAdvisor.\n",
    "  900 training, 600 validation, and 600 test reviews.\n",
    "- Each review has a sentiment score from {1, ..., 5}.\n",
    "\n",
    "![](../figs/intro_nlp/sa/7.png)"
   ]
  },
  {
   "cell_type": "markdown",
   "id": "a91da6f4",
   "metadata": {},
   "source": [
    "**Tasks**\n",
    "\n",
    "- 3-class sentiment. 1–2 mapped to negative, 3 to neutral, 4–5 to positive.\n",
    "  Training set balanced with random undersampling.\n",
    "- 5-class sentiment. Each score interpreted as one (nominal) class.\n",
    "\n",
    "**Approach**\n",
    "\n",
    "- Algorithm. Linear SVM with one-versus-all multi-class handling.\n",
    "- Features. Combination of several standard and specific feature types.\n"
   ]
  },
  {
   "cell_type": "markdown",
   "id": "23b028e9",
   "metadata": {},
   "source": [
    "### Feature Engineering\n",
    "\n",
    "**What is feature engineering?**\n",
    "\n",
    "- The design and development of the feature representation of instances used to address a given task.\n",
    "- The representation governs what patterns can be found during learning.\n",
    "\n",
    "**Standard vs. specific features**\n",
    "\n",
    "- Standard. Features that can be derived from (more or less) general linguistic phenomena and that may help in several tasks.\n",
    "- Specific. Features that are engineered for a specific tasks, usually based on expert knowledge about the task.\n",
    "\n",
    "\n",
    "Features covered here\n",
    "\n",
    "- Standard content features. Token n-grams, target class features.\n",
    "- Standard style features. POS and phrase n-grams, stylometric features.\n",
    "- Specific features. Local sentiment, discourse relations, flow patterns."
   ]
  },
  {
   "cell_type": "markdown",
   "id": "cb197fb3",
   "metadata": {},
   "source": [
    "**Some General Linguistic Phenomena**\n",
    "\n",
    "![](../figs/intro_nlp/sa/8.png)"
   ]
  },
  {
   "cell_type": "markdown",
   "id": "41a86051",
   "metadata": {},
   "source": [
    "#### Standard Content Feature Types\n",
    "\n",
    "**Token n-grams**\n",
    "\n",
    "- Token unigrams (bag-of-words). The distribution of all token 1-grams that occur in at least 5% of all training texts.\n",
    "\n",
    "- Token bigrams/trigrams. Analog for 2-grams and 3-grams.\n",
    "\n",
    "**Target class features**\n",
    "\n",
    "- Core vocabulary. The distribution of all words that occur at least three times as often in one class as in every other.\n",
    "\n",
    "- Sentiment scores. The mean positivity, negativity, and objectivity of all first and average word senses in SentiWordNet.\n",
    "\n",
    "- Sentiment words. The distribution of all subjective words in SentiWordNet.\n"
   ]
  },
  {
   "cell_type": "markdown",
   "id": "978aa802",
   "metadata": {},
   "source": [
    "#### Standard Style Feature Types\n",
    "\n",
    "**Part-of-speech (POS) tag n-grams**\n",
    "\n",
    "- POS unigrams. The distribution of all part-of-speech 1-grams that occur in at least 5% of all training texts.\n",
    "- POS bigrams/trigrams. Analog for 2-grams and 3-grams.\n",
    "\n",
    "**Phrase type n-grams**\n",
    "\n",
    "- Phrase unigrams. The distribution of all phrase type 1-grams that occur in at least 5% of all training texts.\n",
    "- Phrase bigrams/trigrams. Analog for 2-grams and 3-grams.\n",
    "\n",
    "**Stylometric features**\n",
    "\n",
    "- Character trigrams. The distribution of all character 3-grams that occur in at least 5% of all training texts.\n",
    "- Function words. The distribution of the top 100 words in the training set.\n",
    "- Lexical statistics. Average numbers of tokens, clauses, and sentences.\n",
    "\n"
   ]
  },
  {
   "cell_type": "markdown",
   "id": "1d6b0b2c",
   "metadata": {},
   "source": [
    "#### Evaluation of the Standard Feature Types\n",
    "\n",
    "![](../figs/intro_nlp/sa/11.png)"
   ]
  },
  {
   "cell_type": "markdown",
   "id": "a6b4ca3a",
   "metadata": {},
   "source": [
    "**Evaluation**\n",
    "\n",
    "- One linear SVM for each feature type alone and for their combination.\n",
    "- Training on training set, tuning on validation set, test on test set.\n",
    "\n",
    "**Discussion**\n",
    "\n",
    "- Token unigrams best, but some other types close.\n",
    "- Combination does not outperform single types.\n",
    "- 60.8% accuracy does not seem satisfying.\n"
   ]
  },
  {
   "cell_type": "markdown",
   "id": "15fc83e1",
   "metadata": {},
   "source": [
    "#### Review Argumentation\n",
    "\n",
    "**Example hotel review**\n",
    "\n",
    "“We spent one night at that hotel. Staff at the front desk was very nice, the room was clean and cozy, and the hotel lies in the city center... but all this never justifies the price, which is outrageous!”\n",
    "\n",
    "![](../figs/intro_nlp/sa/12.png)\n",
    "\n",
    "**A shallow model of review argumentation**\n",
    "\n",
    "- A review can be seen as a flow of local sentiments on domain concepts that are connected by discourse relations.\n"
   ]
  },
  {
   "cell_type": "markdown",
   "id": "319cc481",
   "metadata": {},
   "source": [
    "#### Specific Feature Types for Review Sentiment Analysis\n",
    "\n",
    "**Local sentiment distribution**\n",
    "\n",
    "- The frequencies of positive, neutral, and negative local sentiment as well as of changes of local sentiments.\n",
    "\n",
    "  > positive 0.4 neutral 0.4 negative 0.2 (neutral, positive) 0.25 ...\n",
    "\n",
    "- The average local sentiment value from 0.0 (negative) to 1.0 (positive).\n",
    "\n",
    "  > average sentiment 0.6\n",
    "\n",
    "- The interpolated local sentiment at each normalized position in the text.\n",
    "  > e.g., normalization length 9: (0.5, 0.75, 1.0, 1.0, 1.0, 0.75, 0.5, 0.25, 0.0)\n"
   ]
  },
  {
   "cell_type": "markdown",
   "id": "aec9e5cb",
   "metadata": {},
   "source": [
    "**Discourse relation distribution**\n",
    "\n",
    "- The distribution of discourse relation types in the text.\n",
    "\n",
    "    > background 0.25 elaboration 0.5 contrast 0.25 (all others 0.0)\n",
    "\n",
    "- The distribution of combinations of relation types and local sentiments.\n",
    "\n",
    "    > background(neutral, positive) 0.25 elaboration(positive, positive) 0.25 ...\n"
   ]
  },
  {
   "cell_type": "markdown",
   "id": "167e8465",
   "metadata": {},
   "source": [
    "**Sentiment flow patterns**\n",
    "\n",
    "- The similarity of the normalized flow of the text to each flow pattern.\n",
    "\n",
    "![](../figs/intro_nlp/sa/13.png)\n",
    "\n",
    "**Content and style features**\n",
    "\n",
    "- Content. Token n-grams, sentiment scores.\n",
    "- Style. Part-of-speech n-grams, character trigrams, lexical statistics.\n"
   ]
  },
  {
   "cell_type": "markdown",
   "id": "a6872fa0",
   "metadata": {},
   "source": [
    "#### Evaluation of the Specific Feature Types\n",
    "\n",
    "![](../figs/intro_nlp/sa/14.png)"
   ]
  },
  {
   "cell_type": "markdown",
   "id": "0f88edf1",
   "metadata": {},
   "source": [
    "**Evaluation**\n",
    "\n",
    "- One linear SVM for each feature type alone and for their combination.\n",
    "- Training on training set, tuning on validation set, test on test set.\n",
    "- Both 3-class and 5-class.\n",
    "\n",
    "**Cost hyperparameter tuning**\n",
    "\n",
    "- Tested $C$ values. 0.001, 0.01, 0.1, 1.0, 50.0\n",
    "- Best $C$ used on test set.\n",
    "- Results shown here for the 3-class task only."
   ]
  },
  {
   "cell_type": "markdown",
   "id": "93c1d84b",
   "metadata": {},
   "source": [
    "#### Results and Discussion for the Specific Features\n",
    "\n",
    "**Effectiveness results on test set (accuracy)**\n",
    "\n",
    "![](../figs/intro_nlp/sa/15.png)"
   ]
  },
  {
   "cell_type": "markdown",
   "id": "c0d0e362",
   "metadata": {},
   "source": [
    "**Discussion**\n",
    "\n",
    "- Content and style features: a bit weaker than in the experiment above, due to slight differences in the experiment setting.\n",
    "- Sentiment ﬂow patterns: impact is more visible across domains.\n",
    "- Combination of features: works out this time, so more complementary.\n",
    "- The 5-class accuracy seems insufficient.\n",
    "- Classification misses to model the ordinal relation between classes; regression might be better.\n"
   ]
  },
  {
   "cell_type": "markdown",
   "id": "f175c4e0",
   "metadata": {},
   "source": [
    "## Lexicon-based Sentiment Analysis in Practice"
   ]
  },
  {
   "cell_type": "code",
   "execution_count": 12,
   "id": "63fe3370",
   "metadata": {},
   "outputs": [],
   "source": [
    "from ekorpkit.models.metrics import evaluate_classification_performance"
   ]
  },
  {
   "cell_type": "code",
   "execution_count": 5,
   "id": "35a5cd22",
   "metadata": {},
   "outputs": [
    {
     "name": "stderr",
     "output_type": "stream",
     "text": [
      "[nltk_data] Downloading package movie_reviews to /root/nltk_data...\n",
      "[nltk_data]   Unzipping corpora/movie_reviews.zip.\n"
     ]
    },
    {
     "name": "stdout",
     "output_type": "stream",
     "text": [
      "#review count: 2000\n",
      "#samples of file ids: ['neg/cv000_29416.txt', 'neg/cv001_19502.txt', 'neg/cv002_17424.txt', 'neg/cv003_12683.txt', 'neg/cv004_12641.txt', 'neg/cv005_29357.txt', 'neg/cv006_17022.txt', 'neg/cv007_4992.txt', 'neg/cv008_29326.txt', 'neg/cv009_29417.txt']\n",
      "#categories of reviews: ['neg', 'pos']\n",
      "#num of \"neg\" reviews: 1000\n",
      "#num of \"pos\" reviews: 1000\n",
      "#id of the first review: neg/cv000_29416.txt\n",
      "#part of the first review: plot : two teen couples go to a church party , drink and then drive . \n",
      "they get into an accident . \n",
      "one of the guys dies , but his girlfriend continues to see him in her life , and has nightmares . \n",
      "what's the deal ? \n",
      "watch the movie and \" sorta \" find out . . . \n",
      "critique : a mind-fuck movie for the teen generation that touches on a very cool idea , but presents it in a very bad package . \n",
      "which is what makes this review an even harder one to write , since i generally applaud films which attempt\n",
      "#sentiment of the first review: ['neg']\n"
     ]
    }
   ],
   "source": [
    "import nltk\n",
    "nltk.download('movie_reviews')\n",
    "\n",
    "from nltk.corpus import movie_reviews\n",
    "\n",
    "print('#review count:', len(movie_reviews.fileids())) #영화 리뷰 문서의 id를 반환\n",
    "print('#samples of file ids:', movie_reviews.fileids()[:10]) #id를 10개까지만 출력\n",
    "print('#categories of reviews:', movie_reviews.categories()) # label, 즉 긍정인지 부정인지에 대한 분류\n",
    "print('#num of \"neg\" reviews:', len(movie_reviews.fileids(categories='neg'))) #label이 부정인 문서들의 id를 반환\n",
    "print('#num of \"pos\" reviews:', len(movie_reviews.fileids(categories='pos'))) #label이 긍정인 문서들의 id를 반환\n",
    "\n",
    "fileid = movie_reviews.fileids()[0] #첫번째 문서의 id를 반환\n",
    "print('#id of the first review:', fileid)\n",
    "print('#part of the first review:', movie_reviews.raw(fileid)[:500]) #첫번째 문서의 내용을 500자까지만 출력\n",
    "print('#sentiment of the first review:', movie_reviews.categories(fileid)) #첫번째 문서의 감성\n",
    "\n",
    "fileids = movie_reviews.fileids() #movie review data에서 file id를 가져옴\n",
    "reviews = [movie_reviews.raw(fileid) for fileid in fileids] #file id를 이용해 raw text file을 가져옴\n",
    "categories = [movie_reviews.categories(fileid)[0] for fileid in fileids] "
   ]
  },
  {
   "cell_type": "markdown",
   "id": "00824666",
   "metadata": {},
   "source": [
    "### TextBlob\n",
    "\n",
    "- https://textblob.readthedocs.io/en/dev/quickstart.html"
   ]
  },
  {
   "cell_type": "code",
   "execution_count": 7,
   "id": "0fc1d774",
   "metadata": {},
   "outputs": [],
   "source": [
    "%%capture\n",
    "%pip install -U textblob"
   ]
  },
  {
   "cell_type": "code",
   "execution_count": 8,
   "id": "4a1b699f",
   "metadata": {},
   "outputs": [
    {
     "name": "stdout",
     "output_type": "stream",
     "text": [
      "Sentiment(polarity=0.06479782948532947, subjectivity=0.5188408350908352)\n"
     ]
    }
   ],
   "source": [
    "from textblob import TextBlob\n",
    "\n",
    "result = TextBlob(reviews[0])\n",
    "print(result.sentiment)"
   ]
  },
  {
   "cell_type": "code",
   "execution_count": 9,
   "id": "99ff08d2",
   "metadata": {},
   "outputs": [],
   "source": [
    "def sentiment_TextBlob(docs):\n",
    "    results = []\n",
    "\n",
    "    for doc in docs:\n",
    "        testimonial = TextBlob(doc)\n",
    "        if testimonial.sentiment.polarity > 0:\n",
    "            results.append('pos')\n",
    "        else:\n",
    "            results.append('neg')\n",
    "    return results\n",
    "\n",
    "predictions = sentiment_TextBlob(reviews)"
   ]
  },
  {
   "cell_type": "code",
   "execution_count": 13,
   "id": "87a616d4",
   "metadata": {},
   "outputs": [
    {
     "name": "stdout",
     "output_type": "stream",
     "text": [
      "Accuracy:  0.6\n",
      "Precison:  0.7225010902553423\n",
      "Recall:  0.6\n",
      "F1 Score:  0.5361560556566348\n",
      "Model Report: \n",
      "___________________________________________________\n",
      "              precision    recall  f1-score   support\n",
      "\n",
      "         neg       0.89      0.23      0.36      1000\n",
      "         pos       0.56      0.97      0.71      1000\n",
      "\n",
      "    accuracy                           0.60      2000\n",
      "   macro avg       0.72      0.60      0.54      2000\n",
      "weighted avg       0.72      0.60      0.54      2000\n",
      "\n"
     ]
    }
   ],
   "source": [
    "cm = evaluate_classification_performance(categories, predictions)"
   ]
  },
  {
   "cell_type": "markdown",
   "id": "9ec2388e",
   "metadata": {},
   "source": [
    "### AFINN\n",
    "\n",
    "- https://github.com/fnielsen/afinn \n",
    "- http://corpustext.com/reference/sentiment_afinn.html"
   ]
  },
  {
   "cell_type": "code",
   "execution_count": 14,
   "id": "173bfd3b",
   "metadata": {},
   "outputs": [],
   "source": [
    "%%capture\n",
    "%pip install afinn"
   ]
  },
  {
   "cell_type": "code",
   "execution_count": 15,
   "id": "9bf3db8f",
   "metadata": {},
   "outputs": [],
   "source": [
    "from afinn import Afinn\n",
    "\n",
    "def sentiment_Afinn(docs):\n",
    "    afn = Afinn(emoticons=True)\n",
    "    results = []\n",
    "\n",
    "    for doc in docs:\n",
    "        if afn.score(doc) > 0:\n",
    "            results.append('pos')\n",
    "        else:\n",
    "            results.append('neg')\n",
    "    return results"
   ]
  },
  {
   "cell_type": "code",
   "execution_count": 16,
   "id": "4be2bdfc",
   "metadata": {},
   "outputs": [
    {
     "name": "stdout",
     "output_type": "stream",
     "text": [
      "Accuracy:  0.664\n",
      "Precison:  0.6783880680137142\n",
      "Recall:  0.664\n",
      "F1 Score:  0.6570854714462421\n",
      "Model Report: \n",
      "___________________________________________________\n",
      "              precision    recall  f1-score   support\n",
      "\n",
      "         neg       0.73      0.52      0.61      1000\n",
      "         pos       0.63      0.81      0.71      1000\n",
      "\n",
      "    accuracy                           0.66      2000\n",
      "   macro avg       0.68      0.66      0.66      2000\n",
      "weighted avg       0.68      0.66      0.66      2000\n",
      "\n"
     ]
    }
   ],
   "source": [
    "predictions = sentiment_Afinn(reviews)\n",
    "cm = evaluate_classification_performance(categories, predictions)"
   ]
  },
  {
   "cell_type": "markdown",
   "id": "77ffc836",
   "metadata": {},
   "source": [
    "### VADER\n",
    "\n",
    "- https://github.com/cjhutto/vaderSentiment"
   ]
  },
  {
   "cell_type": "code",
   "execution_count": 17,
   "id": "f2f2a403",
   "metadata": {},
   "outputs": [
    {
     "name": "stderr",
     "output_type": "stream",
     "text": [
      "[nltk_data] Downloading package vader_lexicon to /root/nltk_data...\n"
     ]
    }
   ],
   "source": [
    "%%capture\n",
    "import nltk\n",
    "nltk.download('vader_lexicon')"
   ]
  },
  {
   "cell_type": "code",
   "execution_count": 18,
   "id": "77c37d79",
   "metadata": {},
   "outputs": [],
   "source": [
    "from nltk.sentiment.vader import SentimentIntensityAnalyzer\n",
    "\n",
    "def sentiment_vader(docs):\n",
    "    analyser = SentimentIntensityAnalyzer()\n",
    "    results = []\n",
    "\n",
    "    for doc in docs:\n",
    "        score = analyser.polarity_scores(doc)\n",
    "        if score['compound'] > 0:\n",
    "            results.append('pos')\n",
    "        else:\n",
    "            results.append('neg')\n",
    "\n",
    "    return results"
   ]
  },
  {
   "cell_type": "code",
   "execution_count": 19,
   "id": "982b4da5",
   "metadata": {},
   "outputs": [
    {
     "name": "stdout",
     "output_type": "stream",
     "text": [
      "Accuracy:  0.635\n",
      "Precison:  0.6580655585685583\n",
      "Recall:  0.635\n",
      "F1 Score:  0.6211802777111816\n",
      "Model Report: \n",
      "___________________________________________________\n",
      "              precision    recall  f1-score   support\n",
      "\n",
      "         neg       0.72      0.44      0.55      1000\n",
      "         pos       0.60      0.83      0.69      1000\n",
      "\n",
      "    accuracy                           0.64      2000\n",
      "   macro avg       0.66      0.64      0.62      2000\n",
      "weighted avg       0.66      0.64      0.62      2000\n",
      "\n"
     ]
    }
   ],
   "source": [
    "predictions = sentiment_vader(reviews)\n",
    "cm = evaluate_classification_performance(categories, predictions)"
   ]
  },
  {
   "cell_type": "code",
   "execution_count": null,
   "id": "c4173dc3",
   "metadata": {},
   "outputs": [],
   "source": []
  }
 ],
 "metadata": {
  "kernelspec": {
   "display_name": "Python 3.8.5 ('base')",
   "language": "python",
   "name": "python3"
  },
  "language_info": {
   "codemirror_mode": {
    "name": "ipython",
    "version": 3
   },
   "file_extension": ".py",
   "mimetype": "text/x-python",
   "name": "python",
   "nbconvert_exporter": "python",
   "pygments_lexer": "ipython3",
   "version": "3.8.12"
  },
  "vscode": {
   "interpreter": {
    "hash": "d4d1e4263499bec80672ea0156c357c1ee493ec2b1c70f0acce89fc37c4a6abe"
   }
  }
 },
 "nbformat": 4,
 "nbformat_minor": 5
}
