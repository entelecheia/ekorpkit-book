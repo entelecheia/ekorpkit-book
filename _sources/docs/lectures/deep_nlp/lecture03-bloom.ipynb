{
 "cells": [
  {
   "cell_type": "markdown",
   "id": "bfc871e8",
   "metadata": {},
   "source": [
    "# Bloom Examples\n",
    "\n",
    "![bloom](../figs/aiart/entelecheia_BLOOM.png)\n"
   ]
  },
  {
   "cell_type": "markdown",
   "id": "9b679041",
   "metadata": {},
   "source": [
    "## Transparency, openness, and inclusivity\n",
    "\n",
    "While most major LLMs have been trained exclusively on English text, BLOOM’s training corpus includes 46 natural languages and 13 programming languages. This makes it useful for the many regions where English is not the main language.\n",
    "\n",
    "BLOOM is also a break from the de facto reliance on big tech to train models. One of the main problems of LLMs is the prohibitive costs of training and tuning them. This hurdle has made 100-billion-parameter LLMs the exclusive domain of big tech companies with deep pockets. Recent years have seen AI labs gravitate toward big tech to gain access to subsidized cloud compute resources and fund their research.\n",
    "\n",
    "The BLOOM research team has been completely transparent about the entire process of training the model. They have published the dataset, the meeting notes, discussions, and code, as well as the logs and technical details of training the model.\n",
    "\n"
   ]
  },
  {
   "cell_type": "markdown",
   "id": "5695c11a",
   "metadata": {},
   "source": [
    "## BLOOM Architecture\n",
    "\n",
    "BLOOM is a causal model language, which means that it was trained as a next-token predictor. This apparently simple strategy of predicting the next token in a sentence, based on a set of preceding tokens, has shown to capture certain degree of reasoning abilities for large language models (arXiv:2205.11916). This enables BLOOM and similar models to connect multiple concepts in a sentence and manage to solve non-trivial problems such as arithmetic, translation, and programming with fair accuracy. BLOOM uses a Transformer architecture composed of an input embeddings layer, 70 Transformer blocks, and an output language-modeling layer, as shown in the figure below. Each Transformer block has a self-attention layer and a multi-layer perceptron layer, with input and post-attention layer norms."
   ]
  },
  {
   "cell_type": "markdown",
   "id": "078aa7fc",
   "metadata": {},
   "source": [
    "To predict the next token in a sentence using BLOOM, we simply need to sequentially pass the input tokens (in the form of embeddings) through each of 70 BLOOM blocks. Given that this is a sequential operation, we can load into RAM only one block at a time to avoid memory overflow. Similarly, the word embeddings and output language-modeling layer can be loaded on-demand from disk.\n",
    "\n",
    "![](../figs/deep_nlp/bloom/bloom_architecture.png)"
   ]
  },
  {
   "cell_type": "markdown",
   "id": "2412cf94",
   "metadata": {},
   "source": [
    "## Pre-trained BLOOM checkpoints\n",
    "\n",
    "From BigScience repository (https://huggingface.co/bigscience), you can find various versions of the model.\n",
    "\n",
    "![](../figs/deep_nlp/bloom/bloom-models.png)"
   ]
  },
  {
   "cell_type": "markdown",
   "id": "e5965e7b",
   "metadata": {},
   "source": [
    "### Download checkpoints\n",
    "\n",
    "cf) The original bloom model is very big with a size of about 350GB."
   ]
  },
  {
   "cell_type": "code",
   "execution_count": null,
   "id": "a84b7663",
   "metadata": {},
   "outputs": [],
   "source": [
    "!pip install transformers "
   ]
  },
  {
   "cell_type": "code",
   "execution_count": null,
   "id": "cd365ccd",
   "metadata": {},
   "outputs": [],
   "source": [
    "from transformers import AutoModel, AutoTokenizer\n",
    "\n",
    "model_path = \"/workspace/data/tbts/archive/models/bloom/bloom\" # replace with your local folder path\n",
    "model_uri = \"bigscience/bloom\"\n",
    "\n",
    "model = AutoModel.from_pretrained(model_uri)\n",
    "model.save_pretrained(model_path)\n",
    "tokenizer = AutoTokenizer.from_pretrained(model_uri)\n",
    "tokenizer.save_pretrained(model_path)\n",
    "\n",
    "!ls $model_path"
   ]
  },
  {
   "cell_type": "markdown",
   "id": "694bbd85",
   "metadata": {},
   "source": [
    "Check file list and disk usage"
   ]
  },
  {
   "cell_type": "code",
   "execution_count": 5,
   "id": "98d467e9",
   "metadata": {},
   "outputs": [
    {
     "name": "stdout",
     "output_type": "stream",
     "text": [
      "657G\t/workspace/data/tbts/archive/models/bloom/bloom\r\n",
      "6.5G\t/workspace/data/tbts/archive/models/bloom/bloom-1b3\r\n",
      "664G\t/workspace/data/tbts/archive/models/bloom\r\n"
     ]
    }
   ],
   "source": [
    "model_path = \"/workspace/data/tbts/archive/models/bloom\" # replace with your local folder path\n",
    "\n",
    "!du -h $model_path -d 2"
   ]
  },
  {
   "cell_type": "markdown",
   "id": "f6220246",
   "metadata": {},
   "source": [
    "## Bloom local inference\n",
    "\n",
    "Load Bloom model and tokenizer."
   ]
  },
  {
   "cell_type": "code",
   "execution_count": 1,
   "id": "575fc5b2",
   "metadata": {},
   "outputs": [
    {
     "name": "stderr",
     "output_type": "stream",
     "text": [
      "2022-09-10 05:55:44.408738: I tensorflow/core/platform/cpu_feature_guard.cc:193] This TensorFlow binary is optimized with oneAPI Deep Neural Network Library (oneDNN) to use the following CPU instructions in performance-critical operations:  AVX2 FMA\n",
      "To enable them in other operations, rebuild TensorFlow with the appropriate compiler flags.\n"
     ]
    }
   ],
   "source": [
    "from transformers import pipeline\n",
    "\n",
    "model_uri = \"bigscience/bloom-1b3\"\n",
    "\n",
    "pipe = pipeline(model=model_uri, task=\"text-generation\", device=7)"
   ]
  },
  {
   "cell_type": "markdown",
   "id": "03b6a5e7",
   "metadata": {},
   "source": [
    "- Inference function for bloom models"
   ]
  },
  {
   "cell_type": "code",
   "execution_count": 2,
   "id": "0244794c",
   "metadata": {},
   "outputs": [],
   "source": [
    "def infer_local(\n",
    "    prompt,\n",
    "    temperature=0.7,\n",
    "    top_k=None,\n",
    "    top_p=None,\n",
    "    max_new_tokens=50,\n",
    "    repetition_penalty=None,\n",
    "    do_sample=False,\n",
    "    num_return_sequences=1,\n",
    "    num_beams=None,\n",
    "    no_repeat_ngram_size=None,\n",
    "    early_stopping=False,\n",
    "    return_full_text=True,\n",
    "):\n",
    "    response = pipe(\n",
    "        prompt,\n",
    "        temperature=temperature,  # 0 to 1\n",
    "        top_k=top_k,\n",
    "        top_p=top_p,  # None, 0-1\n",
    "        max_new_tokens=max_new_tokens,  # up to 2047 theoretically\n",
    "        return_full_text=return_full_text,  # include prompt or not.\n",
    "        repetition_penalty=repetition_penalty,  # None, 0-100 (penalty for repeat tokens.\n",
    "        do_sample=do_sample,  # True: use sampling, False: Greedy decoding.\n",
    "        num_return_sequences=num_return_sequences,\n",
    "        num_beams=num_beams,\n",
    "        no_repeat_ngram_size=no_repeat_ngram_size,\n",
    "        early_stopping=early_stopping,\n",
    "    )\n",
    "    return response"
   ]
  },
  {
   "cell_type": "code",
   "execution_count": 3,
   "id": "9ddfabd7",
   "metadata": {},
   "outputs": [],
   "source": [
    "prompt = \"Bloom is a large language model\"\n",
    "result_length = 100"
   ]
  },
  {
   "cell_type": "markdown",
   "id": "742b5a76",
   "metadata": {},
   "source": [
    "- `result_length`: the size of the response (in tokens) we get for the prompt from the model.\n",
    "- `inputs`:  the embedding representation of prompt, encoded for use specifically by PyTorch. "
   ]
  },
  {
   "cell_type": "markdown",
   "id": "08ef693c",
   "metadata": {},
   "source": [
    "### Greedy Search"
   ]
  },
  {
   "cell_type": "code",
   "execution_count": 4,
   "id": "43e8b91b",
   "metadata": {},
   "outputs": [
    {
     "data": {
      "text/plain": [
       "[{'generated_text': 'Bloom is a large language model that is used to predict the probability of a word given its context. The model is trained on a large corpus of text and is used to predict the probability of a word given its context. The model is trained on a large corpus of text and is used to predict the probability of a word given its context. The model is trained on a large corpus of text and is used to predict the probability of a word given its context. The model is trained on a large corpus of text and is used to'}]"
      ]
     },
     "execution_count": 4,
     "metadata": {},
     "output_type": "execute_result"
    }
   ],
   "source": [
    "infer_local(prompt, temperature=None, max_new_tokens=result_length)"
   ]
  },
  {
   "cell_type": "markdown",
   "id": "392e765b",
   "metadata": {},
   "source": [
    "### Beam Search"
   ]
  },
  {
   "cell_type": "code",
   "execution_count": 45,
   "id": "a0e5c229",
   "metadata": {},
   "outputs": [
    {
     "data": {
      "text/plain": [
       "[{'generated_text': 'Bloom is a large language model that is used to predict the probability of a word given its context. The model is trained on a corpus of about 1.5 million words. It is based on the idea that words that occur frequently in a text are likely to be important. For example, the word \"apple\" occurs in the corpus about 10 times, while the words \"banana\" and \"orange\" occur about 20 times each. This model has been shown to perform well in many NLP tasks, such as machine translation,'}]"
      ]
     },
     "execution_count": 45,
     "metadata": {},
     "output_type": "execute_result"
    }
   ],
   "source": [
    "infer_local(prompt, temperature=None, max_new_tokens=result_length, num_beams=2, no_repeat_ngram_size=2, early_stopping=True)"
   ]
  },
  {
   "cell_type": "markdown",
   "id": "7a6ed8cd",
   "metadata": {},
   "source": [
    "### Sampling Top-k + Top-p"
   ]
  },
  {
   "cell_type": "code",
   "execution_count": 46,
   "id": "29a9ef56",
   "metadata": {},
   "outputs": [
    {
     "data": {
      "text/plain": [
       "[{'generated_text': 'Bloom is a large language model with the support of the most recent work on neural machine translation (Collobert et al., 2011; Dörfler et al., 2015; Le et al., 2015; Mikolov et al., 2014; Rusu et al., 2014). We apply a variant of the language model used for the MT task. In particular, we use a neural recurrent language model (Nirbakhsh et al., 2015) that is specifically tuned for language model generation, and trained with the GloVe'}]"
      ]
     },
     "execution_count": 46,
     "metadata": {},
     "output_type": "execute_result"
    }
   ],
   "source": [
    "infer_local(\n",
    "    prompt,\n",
    "    temperature=None,\n",
    "    max_new_tokens=result_length,\n",
    "    do_sample=True,\n",
    "    top_k=50,\n",
    "    top_p=0.9,\n",
    ")"
   ]
  },
  {
   "cell_type": "markdown",
   "id": "3619c65c",
   "metadata": {},
   "source": [
    "## Bloom api inference"
   ]
  },
  {
   "cell_type": "code",
   "execution_count": 38,
   "id": "be41c55a",
   "metadata": {},
   "outputs": [
    {
     "data": {
      "application/vnd.jupyter.widget-view+json": {
       "model_id": "c74181ac2914469c95eee0f75462258a",
       "version_major": 2,
       "version_minor": 0
      },
      "text/plain": [
       "VBox(children=(HTML(value='<center> <img\\nsrc=https://huggingface.co/front/assets/huggingface_logo-noborder.sv…"
      ]
     },
     "metadata": {},
     "output_type": "display_data"
    }
   ],
   "source": [
    "from huggingface_hub import notebook_login\n",
    "from huggingface_hub import HfFolder\n",
    "\n",
    "#enter your API key, you can make one for free on HF\n",
    "notebook_login()"
   ]
  },
  {
   "cell_type": "code",
   "execution_count": 39,
   "id": "4b301107",
   "metadata": {},
   "outputs": [],
   "source": [
    "from huggingface_hub import InferenceApi\n",
    "\n",
    "model_uri = \"bigscience/bloom\"\n",
    "\n",
    "inference = InferenceApi(model_uri, token=HfFolder.get_token())"
   ]
  },
  {
   "cell_type": "code",
   "execution_count": 40,
   "id": "fb2afaaf",
   "metadata": {},
   "outputs": [],
   "source": [
    "def infer_api(\n",
    "    prompt,\n",
    "    temperature=0.7,\n",
    "    top_k=None,\n",
    "    top_p=None,\n",
    "    max_new_tokens=50,\n",
    "    repetition_penalty=None,\n",
    "    do_sample=False,\n",
    "    num_return_sequences=1,\n",
    "    num_beams=None,\n",
    "    no_repeat_ngram_size=None,\n",
    "    early_stopping=False,\n",
    "    return_full_text=True,\n",
    "    seed=123,\n",
    "):\n",
    "    top_k = None if top_k == 0 else top_k\n",
    "    top_p = None if num_beams else top_p\n",
    "    num_beams = None if num_beams == 0 else num_beams\n",
    "    no_repeat_ngram_size = None if num_beams is None else no_repeat_ngram_size\n",
    "    early_stopping = None if num_beams is None else num_beams > 0\n",
    "\n",
    "    params = {\n",
    "        \"max_new_tokens\": max_new_tokens,\n",
    "        \"top_k\": top_k,\n",
    "        \"top_p\": top_p,\n",
    "        \"temperature\": temperature,\n",
    "        \"do_sample\": do_sample,\n",
    "        \"early_stopping\":early_stopping,\n",
    "        \"no_repeat_ngram_size\":no_repeat_ngram_size,\n",
    "        \"num_beams\":num_beams,\n",
    "        \"return_full_text\":return_full_text,\n",
    "        \"repetition_penalty\": repetition_penalty,\n",
    "        \"seed\": seed,\n",
    "    }\n",
    "    \n",
    "    response = inference(prompt, params=params)\n",
    "    return response"
   ]
  },
  {
   "cell_type": "markdown",
   "id": "423c846d",
   "metadata": {},
   "source": [
    "### Greedy Search"
   ]
  },
  {
   "cell_type": "code",
   "execution_count": 43,
   "id": "238e9df5",
   "metadata": {},
   "outputs": [
    {
     "data": {
      "text/plain": [
       "[{'generated_text': 'Bloom is a large language model that is trained on a large corpus of text. It is used to score the probability of a word given the previous words. The higher the score, the more likely the word is to be used in the context of the previous words. The model is trained on a large corpus of text, and the probability of a word is based on the frequency of the word in the corpus. The model is trained on a large corpus of text, and the probability of a word is based on the frequency of the'}]"
      ]
     },
     "execution_count": 43,
     "metadata": {},
     "output_type": "execute_result"
    }
   ],
   "source": [
    "infer_api(prompt, temperature=None, max_new_tokens=result_length)"
   ]
  },
  {
   "cell_type": "markdown",
   "id": "f2cbdb40",
   "metadata": {},
   "source": [
    "### Beam Search"
   ]
  },
  {
   "cell_type": "code",
   "execution_count": 49,
   "id": "1f969167",
   "metadata": {},
   "outputs": [
    {
     "data": {
      "text/plain": [
       "[{'generated_text': 'Bloom is a large language model that is trained on a large corpus of text. It is a language model that is trained on a large corpus of text. It is a language model that is trained on a large corpus of text. It is a language model that is trained on a large corpus of text. It is a language model that is trained on a large corpus of text. It is a language model that is trained on a large corpus of text. It is a language model that is trained on a large corpus of text.'}]"
      ]
     },
     "execution_count": 49,
     "metadata": {},
     "output_type": "execute_result"
    }
   ],
   "source": [
    "infer_api(prompt, temperature=None, max_new_tokens=result_length, num_beams=2, no_repeat_ngram_size=2, early_stopping=True)"
   ]
  },
  {
   "cell_type": "markdown",
   "id": "a3f7d676",
   "metadata": {},
   "source": [
    "### Sampling Top-k + Top-p"
   ]
  },
  {
   "cell_type": "code",
   "execution_count": 37,
   "id": "2cee47a4",
   "metadata": {},
   "outputs": [
    {
     "data": {
      "text/plain": [
       "[{'generated_text': 'Bloom is a large language model. It consists of millions of individual language model tokens, each with its own set of parameters that define the probability of each word in a sentence. A probability of 0.0 for a word implies that that word is never going to appear in a sentence, while a probability of 1.0 implies that that word will always be in a sentence. The goal is to learn these parameters in order to accurately predict the next word based on the previous word(s) in the sentence. To help train this'}]"
      ]
     },
     "execution_count": 37,
     "metadata": {},
     "output_type": "execute_result"
    }
   ],
   "source": [
    "infer_api(\n",
    "    prompt, \n",
    "    temperature=None, \n",
    "    max_new_tokens=result_length, \n",
    "    do_sample=True,\n",
    "    top_k=50,\n",
    "    top_p=0.9,\n",
    ")"
   ]
  },
  {
   "cell_type": "code",
   "execution_count": 56,
   "id": "5a2e0ff9",
   "metadata": {},
   "outputs": [
    {
     "name": "stdout",
     "output_type": "stream",
     "text": [
      "One of the hottest areas of investing in recent years has been ESG: the use of environmental, social, and governance criteria to evaluate possible investments.\n",
      "While environmental factors have long been a consideration, both socially responsible investing and corporate social responsibility have become an integral part of mainstream investing.\n",
      "So, what does this mean for investors who believe strongly in the importance of ESG criteria to investment decisions?\n",
      "The key point to remember is that every investment decision has to be made at the individual level, using the specific strategy for selecting investments. There are a number of ESG managers, ranging from the highly specialized, to those offering ESG at no\n"
     ]
    }
   ],
   "source": [
    "prompt = \"One of the hottest areas of investing in recent years has been ESG: \"\n",
    "prompt += \"the use of environmental, social, and governance criteria to evaluate possible investments\"\n",
    "\n",
    "res = infer_api(\n",
    "    prompt,\n",
    "    temperature=None,\n",
    "    max_new_tokens=result_length,\n",
    "    do_sample=True,\n",
    "    top_k=100,\n",
    "    top_p=0.95,\n",
    ")\n",
    "print(res[0][\"generated_text\"])"
   ]
  },
  {
   "cell_type": "markdown",
   "id": "281e85bc",
   "metadata": {},
   "source": [
    "## Translate with Bloom"
   ]
  },
  {
   "cell_type": "code",
   "execution_count": 1,
   "id": "89f2f266",
   "metadata": {},
   "outputs": [
    {
     "name": "stderr",
     "output_type": "stream",
     "text": [
      "2022-09-10 06:04:10.733280: I tensorflow/core/platform/cpu_feature_guard.cc:193] This TensorFlow binary is optimized with oneAPI Deep Neural Network Library (oneDNN) to use the following CPU instructions in performance-critical operations:  AVX2 FMA\n",
      "To enable them in other operations, rebuild TensorFlow with the appropriate compiler flags.\n",
      "INFO:ekorpkit.base:Loaded .env from /workspace/projects/ekorpkit-book/config/.env\n",
      "INFO:ekorpkit.base:Loaded .env from /workspace/projects/ekorpkit-book/config/.env\n"
     ]
    }
   ],
   "source": [
    "from ekorpkit import eKonf\n",
    "from ekorpkit.models.bloom.demo import BloomDemo\n",
    "\n",
    "hf_user_access_token = eKonf.osenv(\"HF_USER_ACCESS_TOKEN\") # Set to your HF Access Token\n",
    "demo = BloomDemo(model_uri=\"bigscience/bloom\", device=6, hf_user_access_token=hf_user_access_token)\n"
   ]
  },
  {
   "cell_type": "code",
   "execution_count": 2,
   "id": "82fab61d",
   "metadata": {},
   "outputs": [
    {
     "name": "stdout",
     "output_type": "stream",
     "text": [
      " >> Inference API initialized\n"
     ]
    },
    {
     "data": {
      "text/plain": [
       "'Hello, how are you? I can build a lightbox gallery for you. I am a professional developer having 6 years of experience in this field. I have already done such kind of projects. And I can assure you that you will be happy Flere\\nHello, I have'"
      ]
     },
     "execution_count": 2,
     "metadata": {},
     "output_type": "execute_result"
    }
   ],
   "source": [
    "demo.infer(\"Hello, how are you?\")"
   ]
  },
  {
   "cell_type": "code",
   "execution_count": 3,
   "id": "76b6ec31",
   "metadata": {},
   "outputs": [],
   "source": [
    "options = [\"English\", \"Spanish\", \"French\"]\n",
    "from_lang = eKonf.create_dropdown(options, \"English\", \"From Language\")\n",
    "to_lang = eKonf.create_dropdown(options, \"Spanish\", \"To Language\")\n",
    "input_prompt = eKonf.create_textarea(\n",
    "    \"I am a student\",\n",
    "    \"Input\",\n",
    "    \"Enter the sentence to translate\",\n",
    "    style={\"description_width\": \"50px\"},\n",
    "    layout={\"width\": \"95%\", \"height\": \"100px\"},\n",
    ")\n",
    "generated_txt = eKonf.create_textarea(\n",
    "    \"\",\n",
    "    \"Output\",\n",
    "    \"Translated sentence\",\n",
    "    style={\"description_width\": \"50px\"},\n",
    "    layout={\"width\": \"95%\", \"height\": \"100px\"},\n",
    ")\n",
    "translate_button = eKonf.create_button(\"Translate\")\n",
    "\n",
    "\n",
    "def on_btn_click(btn):\n",
    "    generated_txt.value = \"infering...\"\n",
    "    input_text = input_prompt.value\n",
    "    prompt = f'Instruction: translate {from_lang.value} to {to_lang.value} \\nInput: \"{input_text}\" \\nOutput:'\n",
    "    res = demo.infer(\n",
    "        prompt,\n",
    "        temperature=None,\n",
    "        max_new_tokens=int(len(input_text) * 1.5),\n",
    "        do_sample=True,\n",
    "        top_k=100,\n",
    "        top_p=0.95,\n",
    "    )\n",
    "    generated_txt.value = res\n",
    "\n",
    "\n",
    "translate_button.on_click(on_btn_click)"
   ]
  },
  {
   "cell_type": "code",
   "execution_count": 4,
   "id": "ee000e0f",
   "metadata": {},
   "outputs": [
    {
     "data": {
      "application/vnd.jupyter.widget-view+json": {
       "model_id": "4d30f557d7d944f5b2478f72e32c953e",
       "version_major": 2,
       "version_minor": 0
      },
      "text/plain": [
       "GridspecLayout(children=(Dropdown(description='From Language', layout=Layout(grid_area='widget001', width='aut…"
      ]
     },
     "execution_count": 4,
     "metadata": {},
     "output_type": "execute_result"
    }
   ],
   "source": [
    "import ipywidgets as widgets\n",
    "\n",
    "grid = widgets.GridspecLayout(4, 2, height=\"300px\")\n",
    "grid[0, 0] = from_lang\n",
    "grid[0, 1] = to_lang\n",
    "grid[1, :] = input_prompt\n",
    "grid[2, :] = generated_txt\n",
    "grid[3, 1] = translate_button\n",
    "grid"
   ]
  },
  {
   "cell_type": "code",
   "execution_count": null,
   "id": "69ac9527",
   "metadata": {},
   "outputs": [],
   "source": []
  }
 ],
 "metadata": {
  "kernelspec": {
   "display_name": "Python 3 (ipykernel)",
   "language": "python",
   "name": "python3"
  },
  "language_info": {
   "codemirror_mode": {
    "name": "ipython",
    "version": 3
   },
   "file_extension": ".py",
   "mimetype": "text/x-python",
   "name": "python",
   "nbconvert_exporter": "python",
   "pygments_lexer": "ipython3",
   "version": "3.8.12"
  },
  "vscode": {
   "interpreter": {
    "hash": "f869af7787e6a1c49e09e367fc6e1b81d93d1c6583b43249c80edc047bd13cb2"
   }
  },
  "widgets": {
   "application/vnd.jupyter.widget-state+json": {
    "state": {
     "000193506f4b4c1eb09619921def49f8": {
      "model_module": "@jupyter-widgets/controls",
      "model_module_version": "2.0.0",
      "model_name": "TextareaModel",
      "state": {
       "description": "Output",
       "layout": "IPY_MODEL_c170f4f5e4d543fd8cf5f18598b59147",
       "placeholder": "Translated sentence",
       "style": "IPY_MODEL_b10a3f83192d4826b8c11a3d83e6cda1",
       "value": "Instruction: translate English to Spanish \nInput: \"I am a student\" \nOutput: Yo soy un estudiante \nThe answer would be \"YO SOY UN"
      }
     },
     "0007e9ef13d64435a75f9ac6baf4f7ec": {
      "model_module": "@jupyter-widgets/controls",
      "model_module_version": "2.0.0",
      "model_name": "HTMLModel",
      "state": {
       "layout": "IPY_MODEL_52dd93b0f73148be98d6bfe30a5c49f7",
       "style": "IPY_MODEL_2bef10f1307844249f6fe69227fe439f",
       "value": " 90.4k/90.4k [00:00&lt;00:00, 168kB/s]"
      }
     },
     "00a7c42a61df467a92483ea845628ae2": {
      "model_module": "@jupyter-widgets/base",
      "model_module_version": "2.0.0",
      "model_name": "LayoutModel",
      "state": {}
     },
     "011dde793c10404c827bdee2b12136e0": {
      "model_module": "@jupyter-widgets/controls",
      "model_module_version": "2.0.0",
      "model_name": "TextStyleModel",
      "state": {
       "description_width": "50px",
       "font_size": null,
       "text_color": null
      }
     },
     "018663e3fe9041239fdce482004c7103": {
      "model_module": "@jupyter-widgets/controls",
      "model_module_version": "2.0.0",
      "model_name": "TextareaModel",
      "state": {
       "description": "Input",
       "layout": "IPY_MODEL_37f571d0f0b442f8a967551e092bd23c",
       "placeholder": "Enter the sentence to translate",
       "style": "IPY_MODEL_7695987a0df240c9b2dd4b88592f731d",
       "value": "I am a student"
      }
     },
     "0281c3ac70e64c758fd1f0cdda64e19c": {
      "model_module": "@jupyter-widgets/base",
      "model_module_version": "2.0.0",
      "model_name": "LayoutModel",
      "state": {
       "grid_template_areas": "\"widget001 widget002\"\n\"widget003 widget003\"\n\"widget004 widget004\"\n\". widget005\"",
       "grid_template_columns": "repeat(2, 1fr)",
       "grid_template_rows": "repeat(4, 1fr)",
       "height": "300px"
      }
     },
     "02db1ddc2903487bbbcf8229e9b4da75": {
      "model_module": "@jupyter-widgets/controls",
      "model_module_version": "2.0.0",
      "model_name": "HTMLModel",
      "state": {
       "layout": "IPY_MODEL_dc18576ac2ee4714b9bb6b0d58aeed0f",
       "style": "IPY_MODEL_811e0ba515ab4314950653ab21ed86c8",
       "value": " 126M/6.70G [00:24&lt;05:25, 21.7MB/s]"
      }
     },
     "0378b2e8976f45e08f9ab2a4857f5a24": {
      "model_module": "@jupyter-widgets/controls",
      "model_module_version": "2.0.0",
      "model_name": "TextareaModel",
      "state": {
       "description": "Input",
       "layout": "IPY_MODEL_b17f7a5fc9304c7bb7541bdc67e65fa2",
       "placeholder": "Enter the sentence to translate",
       "style": "IPY_MODEL_8d4007a827a142b9b935ac034a4566cd",
       "value": "I am a student"
      }
     },
     "03828c87c2f445878aad8aaf0964224f": {
      "model_module": "@jupyter-widgets/base",
      "model_module_version": "2.0.0",
      "model_name": "LayoutModel",
      "state": {}
     },
     "046a57184ab44619bdb7f4a00c4e068a": {
      "model_module": "@jupyter-widgets/controls",
      "model_module_version": "2.0.0",
      "model_name": "TextareaModel",
      "state": {
       "description": "Input",
       "layout": "IPY_MODEL_3ec958bb533345168f9dfd5929a09ac7",
       "placeholder": "Enter the sentence to translate",
       "style": "IPY_MODEL_011dde793c10404c827bdee2b12136e0",
       "value": "I am a student"
      }
     },
     "049186ed42d94cfe9a7259ecdff50c88": {
      "model_module": "@jupyter-widgets/controls",
      "model_module_version": "2.0.0",
      "model_name": "HBoxModel",
      "state": {
       "children": [
        "IPY_MODEL_4ce93d47236b4a778e8168f75866a860",
        "IPY_MODEL_6ccba48aae174dddada6d3bbe431b6a3",
        "IPY_MODEL_cfe813ce480e4f469a62c14b96e89986"
       ],
       "layout": "IPY_MODEL_333be306be054df7bb2a6d85167baa86"
      }
     },
     "05684f84900b4906bd835c876abb2ac7": {
      "model_module": "@jupyter-widgets/base",
      "model_module_version": "2.0.0",
      "model_name": "LayoutModel",
      "state": {}
     },
     "05736c4dadc141689a2ea96b3fd2965c": {
      "model_module": "@jupyter-widgets/controls",
      "model_module_version": "2.0.0",
      "model_name": "DescriptionStyleModel",
      "state": {
       "description_width": ""
      }
     },
     "064678723e07423eb0bff7296cd7930a": {
      "model_module": "@jupyter-widgets/controls",
      "model_module_version": "2.0.0",
      "model_name": "DropdownModel",
      "state": {
       "_options_labels": [
        "English",
        "Spanish",
        "French"
       ],
       "description": "To Language",
       "index": 1,
       "layout": "IPY_MODEL_7e581ee0f82a421eb3a07d43536a81a2",
       "style": "IPY_MODEL_2cf2f903ad834531bf709fe1816cc746"
      }
     },
     "084d59ca166f4d4ea4b932d2c67511d1": {
      "model_module": "@jupyter-widgets/controls",
      "model_module_version": "2.0.0",
      "model_name": "HBoxModel",
      "state": {
       "children": [
        "IPY_MODEL_bc2e5daa20574ff58930ab6b6c66d794",
        "IPY_MODEL_8f0c818fc47344f2b5b3dd21947326fa",
        "IPY_MODEL_291b907abb214588869d83f77b7537f9"
       ],
       "layout": "IPY_MODEL_a8b3d2f7817f46989ced9490d1c5797c"
      }
     },
     "094dfd2808f6441b91f1f37dfcb711df": {
      "model_module": "@jupyter-widgets/controls",
      "model_module_version": "2.0.0",
      "model_name": "TextareaModel",
      "state": {
       "description": "Input",
       "layout": "IPY_MODEL_25fc44b954a64b5d822fb77901eef224",
       "placeholder": "Enter the sentence to translate",
       "style": "IPY_MODEL_aa0b80c4cb9d492c9c1827ee7b2f7c54",
       "value": "I am a student"
      }
     },
     "0a8daf84de134f4fade4efae909723b0": {
      "model_module": "@jupyter-widgets/controls",
      "model_module_version": "2.0.0",
      "model_name": "DescriptionStyleModel",
      "state": {
       "description_width": "initial"
      }
     },
     "0bea8bd7773a42ef83790a816646c3d4": {
      "model_module": "@jupyter-widgets/controls",
      "model_module_version": "2.0.0",
      "model_name": "ProgressStyleModel",
      "state": {
       "description_width": ""
      }
     },
     "10faf09db5704d82ad154b4098dfa383": {
      "model_module": "@jupyter-widgets/base",
      "model_module_version": "2.0.0",
      "model_name": "LayoutModel",
      "state": {
       "grid_area": "widget001",
       "width": "auto"
      }
     },
     "128116ff10b54f3da1d7efe51b5761f8": {
      "model_module": "@jupyter-widgets/base",
      "model_module_version": "2.0.0",
      "model_name": "LayoutModel",
      "state": {}
     },
     "14e1941f104d41bbb482d9482afd7750": {
      "model_module": "@jupyter-widgets/base",
      "model_module_version": "2.0.0",
      "model_name": "LayoutModel",
      "state": {
       "grid_area": "widget001",
       "width": "auto"
      }
     },
     "15c551d72799491e8939cc994b71e6c6": {
      "model_module": "@jupyter-widgets/base",
      "model_module_version": "2.0.0",
      "model_name": "LayoutModel",
      "state": {}
     },
     "167669b5ae6946faafcb0c7b21f7a5a8": {
      "model_module": "@jupyter-widgets/base",
      "model_module_version": "2.0.0",
      "model_name": "LayoutModel",
      "state": {}
     },
     "18479a4cce1b4102a52fce6e14dd4206": {
      "model_module": "@jupyter-widgets/controls",
      "model_module_version": "2.0.0",
      "model_name": "ButtonStyleModel",
      "state": {
       "font_family": null,
       "font_size": null,
       "font_style": null,
       "font_variant": null,
       "font_weight": null,
       "text_color": null,
       "text_decoration": null
      }
     },
     "1862f206537c46118a1f828734a7dc6a": {
      "model_module": "@jupyter-widgets/controls",
      "model_module_version": "2.0.0",
      "model_name": "DescriptionStyleModel",
      "state": {
       "description_width": "initial"
      }
     },
     "18696da9728247e6bd7aefc3e72d86af": {
      "model_module": "@jupyter-widgets/base",
      "model_module_version": "2.0.0",
      "model_name": "LayoutModel",
      "state": {}
     },
     "1c8ae7a46d274d6a95c4d214088690dc": {
      "model_module": "@jupyter-widgets/controls",
      "model_module_version": "2.0.0",
      "model_name": "DescriptionStyleModel",
      "state": {
       "description_width": ""
      }
     },
     "1df7c60eb4604fb7bb14346d9d60683c": {
      "model_module": "@jupyter-widgets/controls",
      "model_module_version": "2.0.0",
      "model_name": "HTMLModel",
      "state": {
       "layout": "IPY_MODEL_03828c87c2f445878aad8aaf0964224f",
       "style": "IPY_MODEL_a6b11f5b49b940f08891432429cb3dcf",
       "value": " 66.1M/6.70G [00:41&lt;05:13, 22.8MB/s]"
      }
     },
     "1dfb1144605549ee80d4be371a2bf54b": {
      "model_module": "@jupyter-widgets/base",
      "model_module_version": "2.0.0",
      "model_name": "LayoutModel",
      "state": {
       "grid_area": "widget005",
       "width": "auto"
      }
     },
     "1eb10cd78d6446c89adf2d6c9fc3ed64": {
      "model_module": "@jupyter-widgets/controls",
      "model_module_version": "2.0.0",
      "model_name": "FloatProgressModel",
      "state": {
       "bar_style": "success",
       "layout": "IPY_MODEL_71840e3772a94814a92a57b90fff3369",
       "max": 222,
       "style": "IPY_MODEL_5eed3475a56c42b98c0d46e232a99380",
       "value": 222
      }
     },
     "1f4900dbe8bf41b79a020915a0f85d22": {
      "model_module": "@jupyter-widgets/controls",
      "model_module_version": "2.0.0",
      "model_name": "DescriptionStyleModel",
      "state": {
       "description_width": "initial"
      }
     },
     "1f6dfe0e65b942c7b56ee594b330da41": {
      "model_module": "@jupyter-widgets/controls",
      "model_module_version": "2.0.0",
      "model_name": "DescriptionStyleModel",
      "state": {
       "description_width": ""
      }
     },
     "2036ff8ff3ff4e3bae90144e14d7f630": {
      "model_module": "@jupyter-widgets/controls",
      "model_module_version": "2.0.0",
      "model_name": "TextStyleModel",
      "state": {
       "description_width": "50px",
       "font_size": null,
       "text_color": null
      }
     },
     "2280adf2cfb54e56b07ae93e465863de": {
      "model_module": "@jupyter-widgets/base",
      "model_module_version": "2.0.0",
      "model_name": "LayoutModel",
      "state": {
       "grid_template_areas": "\"widget001 widget002\"\n\"widget003 widget003\"\n\"widget004 widget004\"\n\". widget005\"",
       "grid_template_columns": "repeat(2, 1fr)",
       "grid_template_rows": "repeat(4, 1fr)",
       "height": "300px"
      }
     },
     "25082bbdae6a43a1944a2ceb4d2622e2": {
      "model_module": "@jupyter-widgets/controls",
      "model_module_version": "2.0.0",
      "model_name": "ProgressStyleModel",
      "state": {
       "description_width": ""
      }
     },
     "255d5d5edc3043528274d02a54ea8af2": {
      "model_module": "@jupyter-widgets/controls",
      "model_module_version": "2.0.0",
      "model_name": "DescriptionStyleModel",
      "state": {
       "description_width": ""
      }
     },
     "25fc44b954a64b5d822fb77901eef224": {
      "model_module": "@jupyter-widgets/base",
      "model_module_version": "2.0.0",
      "model_name": "LayoutModel",
      "state": {
       "grid_area": "widget003",
       "height": "100px",
       "width": "95%"
      }
     },
     "26429b73bdaa4174bcc64601e6e58558": {
      "model_module": "@jupyter-widgets/controls",
      "model_module_version": "2.0.0",
      "model_name": "TextStyleModel",
      "state": {
       "description_width": "50px",
       "font_size": null,
       "text_color": null
      }
     },
     "28c2d2ed86884038a67d527045508fd2": {
      "model_module": "@jupyter-widgets/controls",
      "model_module_version": "2.0.0",
      "model_name": "ButtonModel",
      "state": {
       "description": "Translate",
       "icon": "check",
       "layout": "IPY_MODEL_a9434e58357c4f88ac2f95e2e8474e52",
       "style": "IPY_MODEL_c5eb0e439a484169821bab84fce453c3",
       "tooltip": null
      }
     },
     "291b907abb214588869d83f77b7537f9": {
      "model_module": "@jupyter-widgets/controls",
      "model_module_version": "2.0.0",
      "model_name": "HTMLModel",
      "state": {
       "layout": "IPY_MODEL_91c6ee085d264b9fa554696b38a7472f",
       "style": "IPY_MODEL_7fcf8a50dbdf48008e1eff1fd20ef855",
       "value": " 5.60G/6.70G [04:40&lt;00:52, 22.6MB/s]"
      }
     },
     "2a1554d16332402ab2982e2d8d40cf15": {
      "model_module": "@jupyter-widgets/base",
      "model_module_version": "2.0.0",
      "model_name": "LayoutModel",
      "state": {}
     },
     "2a1889339e6d410eacd5c6e249894aca": {
      "model_module": "@jupyter-widgets/controls",
      "model_module_version": "2.0.0",
      "model_name": "DescriptionStyleModel",
      "state": {
       "description_width": "initial"
      }
     },
     "2a50915ea521406a82b481ff38b79ed2": {
      "model_module": "@jupyter-widgets/controls",
      "model_module_version": "2.0.0",
      "model_name": "DescriptionStyleModel",
      "state": {
       "description_width": ""
      }
     },
     "2aed10ab0ec543369624ca9ba700bf50": {
      "model_module": "@jupyter-widgets/controls",
      "model_module_version": "2.0.0",
      "model_name": "DescriptionStyleModel",
      "state": {
       "description_width": "initial"
      }
     },
     "2b585b55541d4a98b64c3a34fd79ef1c": {
      "model_module": "@jupyter-widgets/controls",
      "model_module_version": "2.0.0",
      "model_name": "DescriptionStyleModel",
      "state": {
       "description_width": ""
      }
     },
     "2bbdd28d441d4f188016d533d7a08fcc": {
      "model_module": "@jupyter-widgets/controls",
      "model_module_version": "2.0.0",
      "model_name": "DescriptionStyleModel",
      "state": {
       "description_width": ""
      }
     },
     "2be2c2727f5548878d959e91088794a2": {
      "model_module": "@jupyter-widgets/base",
      "model_module_version": "2.0.0",
      "model_name": "LayoutModel",
      "state": {}
     },
     "2bee45b6b65f418eb50abe1cd41dc7a1": {
      "model_module": "@jupyter-widgets/controls",
      "model_module_version": "2.0.0",
      "model_name": "DescriptionStyleModel",
      "state": {
       "description_width": "initial"
      }
     },
     "2bef10f1307844249f6fe69227fe439f": {
      "model_module": "@jupyter-widgets/controls",
      "model_module_version": "2.0.0",
      "model_name": "DescriptionStyleModel",
      "state": {
       "description_width": ""
      }
     },
     "2cf2f903ad834531bf709fe1816cc746": {
      "model_module": "@jupyter-widgets/controls",
      "model_module_version": "2.0.0",
      "model_name": "DescriptionStyleModel",
      "state": {
       "description_width": "initial"
      }
     },
     "2d485f0538c349968b2124d251d4b36b": {
      "model_module": "@jupyter-widgets/controls",
      "model_module_version": "2.0.0",
      "model_name": "ProgressStyleModel",
      "state": {
       "description_width": ""
      }
     },
     "301e42092c914581b521408397a3c6a3": {
      "model_module": "@jupyter-widgets/controls",
      "model_module_version": "2.0.0",
      "model_name": "HBoxModel",
      "state": {
       "children": [
        "IPY_MODEL_4d66e54331864d66a05ba48da6000b93",
        "IPY_MODEL_edbc9575a03b428c823e9c470d3476ba",
        "IPY_MODEL_9a4df43081d945d0b8ed196466ae20de"
       ],
       "layout": "IPY_MODEL_a36dee72bf3b437384c43dfbe3a78d05"
      }
     },
     "32ee0ef1af484d72948c7f575e92eae5": {
      "model_module": "@jupyter-widgets/base",
      "model_module_version": "2.0.0",
      "model_name": "LayoutModel",
      "state": {
       "grid_area": "widget002",
       "width": "auto"
      }
     },
     "32efe7e28f78453bb4477dc4d2d98e70": {
      "model_module": "@jupyter-widgets/controls",
      "model_module_version": "2.0.0",
      "model_name": "ButtonStyleModel",
      "state": {
       "font_family": null,
       "font_size": null,
       "font_style": null,
       "font_variant": null,
       "font_weight": null,
       "text_color": null,
       "text_decoration": null
      }
     },
     "333be306be054df7bb2a6d85167baa86": {
      "model_module": "@jupyter-widgets/base",
      "model_module_version": "2.0.0",
      "model_name": "LayoutModel",
      "state": {}
     },
     "336e4205258e45829195d6929d005e6f": {
      "model_module": "@jupyter-widgets/controls",
      "model_module_version": "2.0.0",
      "model_name": "HBoxModel",
      "state": {
       "children": [
        "IPY_MODEL_e082002ae99143ad968b7392caaa0acf",
        "IPY_MODEL_82cc5b0e38074d9784f5b374d3c16995",
        "IPY_MODEL_ed20ea0e358040118f63dbac0660ab2b"
       ],
       "layout": "IPY_MODEL_634c8b26689042a680bf890439d92ffc"
      }
     },
     "3429865c957744f89de78a0103376043": {
      "model_module": "@jupyter-widgets/controls",
      "model_module_version": "2.0.0",
      "model_name": "DescriptionStyleModel",
      "state": {
       "description_width": ""
      }
     },
     "35ab56c8cf124e1ea388aeb6a6bf611f": {
      "model_module": "@jupyter-widgets/controls",
      "model_module_version": "2.0.0",
      "model_name": "DescriptionStyleModel",
      "state": {
       "description_width": ""
      }
     },
     "37f571d0f0b442f8a967551e092bd23c": {
      "model_module": "@jupyter-widgets/base",
      "model_module_version": "2.0.0",
      "model_name": "LayoutModel",
      "state": {
       "grid_area": "widget003",
       "height": "100px",
       "width": "95%"
      }
     },
     "39d3192269ef43149e465862dbbf266c": {
      "model_module": "@jupyter-widgets/base",
      "model_module_version": "2.0.0",
      "model_name": "LayoutModel",
      "state": {}
     },
     "3a7141f32d84495a94f8dadcbcf397c0": {
      "model_module": "@jupyter-widgets/controls",
      "model_module_version": "2.0.0",
      "model_name": "DescriptionStyleModel",
      "state": {
       "description_width": ""
      }
     },
     "3b2dcc3f31294f9fa0193ccd6c3bf62a": {
      "model_module": "@jupyter-widgets/base",
      "model_module_version": "2.0.0",
      "model_name": "LayoutModel",
      "state": {}
     },
     "3b7ce4c8bcce45b3beb219203c4181f6": {
      "model_module": "@jupyter-widgets/controls",
      "model_module_version": "2.0.0",
      "model_name": "ProgressStyleModel",
      "state": {
       "description_width": ""
      }
     },
     "3c74373db3654201970d43d6fc541c71": {
      "model_module": "@jupyter-widgets/base",
      "model_module_version": "2.0.0",
      "model_name": "LayoutModel",
      "state": {}
     },
     "3d0094cffb0c43e9aef1b98edab511ce": {
      "model_module": "@jupyter-widgets/controls",
      "model_module_version": "2.0.0",
      "model_name": "ButtonStyleModel",
      "state": {
       "font_family": null,
       "font_size": null,
       "font_style": null,
       "font_variant": null,
       "font_weight": null,
       "text_color": null,
       "text_decoration": null
      }
     },
     "3d20f873101945949feafd17cdc5d3a5": {
      "model_module": "@jupyter-widgets/controls",
      "model_module_version": "2.0.0",
      "model_name": "DropdownModel",
      "state": {
       "_options_labels": [
        "English",
        "Spanish",
        "French"
       ],
       "description": "To Language",
       "index": 1,
       "layout": "IPY_MODEL_5b7cb69cddb2474abb01847d4e42d2c1",
       "style": "IPY_MODEL_d3cb2cac77e743ce89a616c8ee66f20e"
      }
     },
     "3e2d4963f3614e7d9b7a3a55e410b0b4": {
      "model_module": "@jupyter-widgets/controls",
      "model_module_version": "2.0.0",
      "model_name": "TextareaModel",
      "state": {
       "description": "Output",
       "layout": "IPY_MODEL_e6ebd618eb7342058bd454ebe711b7a6",
       "placeholder": "Translated sentence",
       "style": "IPY_MODEL_3f41b4a2c93b4841b8ff13715ebca2d1",
       "value": "Instruction: translate English to Spanish \nInput: \"I am a student\" \nOutput: \"Yo soy un estudiante\"\nMy code in English to Spanish Translator is\ndef translateEnglishToSpanish(inputString):\n\n    # Translate"
      }
     },
     "3e665fdbf3ca4e8aa2031b71b3236eb2": {
      "model_module": "@jupyter-widgets/base",
      "model_module_version": "2.0.0",
      "model_name": "LayoutModel",
      "state": {}
     },
     "3ec958bb533345168f9dfd5929a09ac7": {
      "model_module": "@jupyter-widgets/base",
      "model_module_version": "2.0.0",
      "model_name": "LayoutModel",
      "state": {
       "grid_area": "widget003",
       "height": "100px",
       "width": "95%"
      }
     },
     "3f41b4a2c93b4841b8ff13715ebca2d1": {
      "model_module": "@jupyter-widgets/controls",
      "model_module_version": "2.0.0",
      "model_name": "TextStyleModel",
      "state": {
       "description_width": "50px",
       "font_size": null,
       "text_color": null
      }
     },
     "4080466a166a4aa9a4a3599456de4d34": {
      "model_module": "@jupyter-widgets/controls",
      "model_module_version": "2.0.0",
      "model_name": "DropdownModel",
      "state": {
       "_options_labels": [
        "English",
        "Spanish",
        "French"
       ],
       "description": "From Language",
       "index": 0,
       "layout": "IPY_MODEL_10faf09db5704d82ad154b4098dfa383",
       "style": "IPY_MODEL_8496b01df98941ab907f9d70a0b4f7ae"
      }
     },
     "417dc907625b489484bfeac514b6b16e": {
      "model_module": "@jupyter-widgets/controls",
      "model_module_version": "2.0.0",
      "model_name": "DescriptionStyleModel",
      "state": {
       "description_width": ""
      }
     },
     "42e736027b794134acbdcbdac02e838c": {
      "model_module": "@jupyter-widgets/base",
      "model_module_version": "2.0.0",
      "model_name": "LayoutModel",
      "state": {}
     },
     "431186b9bd95428993ebbfb6c0015a34": {
      "model_module": "@jupyter-widgets/controls",
      "model_module_version": "2.0.0",
      "model_name": "DescriptionStyleModel",
      "state": {
       "description_width": ""
      }
     },
     "435581952245497396ab61acf3ac7330": {
      "model_module": "@jupyter-widgets/base",
      "model_module_version": "2.0.0",
      "model_name": "LayoutModel",
      "state": {}
     },
     "435842f1038042a8a4c80b2edd3dfc6a": {
      "model_module": "@jupyter-widgets/base",
      "model_module_version": "2.0.0",
      "model_name": "LayoutModel",
      "state": {
       "grid_area": "widget005",
       "width": "auto"
      }
     },
     "43efe426708c4c28bb2965e056defe6c": {
      "model_module": "@jupyter-widgets/controls",
      "model_module_version": "2.0.0",
      "model_name": "GridBoxModel",
      "state": {
       "children": [
        "IPY_MODEL_8d3df703540f4c7fbde94a5e92e56bd9",
        "IPY_MODEL_9b95dd10bab04edcb89993ae3e306171",
        "IPY_MODEL_046a57184ab44619bdb7f4a00c4e068a",
        "IPY_MODEL_fb4864a5e8354061af42efc99834d0e1",
        "IPY_MODEL_56147cb49fee4162bfe0ac007935aa0b"
       ],
       "layout": "IPY_MODEL_2280adf2cfb54e56b07ae93e465863de"
      }
     },
     "4547fc46ddbd4db48c50b1fa721aedc3": {
      "model_module": "@jupyter-widgets/controls",
      "model_module_version": "2.0.0",
      "model_name": "HBoxModel",
      "state": {
       "children": [
        "IPY_MODEL_8c1813f121f04b58b15d7ca349edafee",
        "IPY_MODEL_785b9d9a6efe4bd6b1a842b029fbfe3f",
        "IPY_MODEL_02db1ddc2903487bbbcf8229e9b4da75"
       ],
       "layout": "IPY_MODEL_ee5b4f1ef575494e93edc912fa6087a6"
      }
     },
     "457ae254e57541a38dc3e1aa7696a91d": {
      "model_module": "@jupyter-widgets/controls",
      "model_module_version": "2.0.0",
      "model_name": "ButtonModel",
      "state": {
       "description": "Translate",
       "icon": "check",
       "layout": "IPY_MODEL_db6134bc2d73459291dbccc6f32c1de6",
       "style": "IPY_MODEL_e04f0eb1ec67492b8c76ba617f8727fb",
       "tooltip": null
      }
     },
     "46d5a55849a7438b9d023897702a9316": {
      "model_module": "@jupyter-widgets/controls",
      "model_module_version": "2.0.0",
      "model_name": "DescriptionStyleModel",
      "state": {
       "description_width": "initial"
      }
     },
     "4791a19a20b444ac98c98a6285544140": {
      "model_module": "@jupyter-widgets/base",
      "model_module_version": "2.0.0",
      "model_name": "LayoutModel",
      "state": {}
     },
     "49b10eddcd014a06bc40da4f180882f7": {
      "model_module": "@jupyter-widgets/base",
      "model_module_version": "2.0.0",
      "model_name": "LayoutModel",
      "state": {}
     },
     "4b705108ca96494593d07080b1da5740": {
      "model_module": "@jupyter-widgets/controls",
      "model_module_version": "2.0.0",
      "model_name": "GridBoxModel",
      "state": {
       "children": [
        "IPY_MODEL_4080466a166a4aa9a4a3599456de4d34",
        "IPY_MODEL_3d20f873101945949feafd17cdc5d3a5",
        "IPY_MODEL_b6c3db8557ed4249893039aebcc5e11b",
        "IPY_MODEL_e3a6986f28fc43b2920fd4b735c9923c",
        "IPY_MODEL_457ae254e57541a38dc3e1aa7696a91d"
       ],
       "layout": "IPY_MODEL_b96649003e3c4952bf61fc25e70638f3"
      }
     },
     "4ba6b340d83944ad99e7ffcea3f0cda1": {
      "model_module": "@jupyter-widgets/base",
      "model_module_version": "2.0.0",
      "model_name": "LayoutModel",
      "state": {}
     },
     "4ba976e8eb3e43daab628a92e91357fc": {
      "model_module": "@jupyter-widgets/base",
      "model_module_version": "2.0.0",
      "model_name": "LayoutModel",
      "state": {}
     },
     "4c51149cd9dc4fe4a31bba5f51acb10d": {
      "model_module": "@jupyter-widgets/controls",
      "model_module_version": "2.0.0",
      "model_name": "ProgressStyleModel",
      "state": {
       "description_width": ""
      }
     },
     "4ce93d47236b4a778e8168f75866a860": {
      "model_module": "@jupyter-widgets/controls",
      "model_module_version": "2.0.0",
      "model_name": "HTMLModel",
      "state": {
       "layout": "IPY_MODEL_cf3b8bb52cb24d87980bcc4fe1e1f74c",
       "style": "IPY_MODEL_e3614906cbd04988acba01ace74dbad4",
       "value": "Downloading special_tokens_map.json: 100%"
      }
     },
     "4d66e54331864d66a05ba48da6000b93": {
      "model_module": "@jupyter-widgets/controls",
      "model_module_version": "2.0.0",
      "model_name": "HTMLModel",
      "state": {
       "layout": "IPY_MODEL_05684f84900b4906bd835c876abb2ac7",
       "style": "IPY_MODEL_431186b9bd95428993ebbfb6c0015a34",
       "value": "Downloading pytorch_model.bin.index.json: 100%"
      }
     },
     "4e96af906a2444978ea1264bdfca8ee2": {
      "model_module": "@jupyter-widgets/controls",
      "model_module_version": "2.0.0",
      "model_name": "GridBoxModel",
      "state": {
       "children": [
        "IPY_MODEL_80c6a1ce24a344d99b35164a77fb10fc",
        "IPY_MODEL_7a5fa87136ff4d7b942647cab5ca32ff",
        "IPY_MODEL_094dfd2808f6441b91f1f37dfcb711df",
        "IPY_MODEL_8639158f0491469db30de4a864cdfd29",
        "IPY_MODEL_b30c7aa65d0144588e5e6102ed07a75c"
       ],
       "layout": "IPY_MODEL_b9ce55fe840246b1b1d191fae5d040ef"
      }
     },
     "4f50c1cf9f354543854efe6f4d3fde12": {
      "model_module": "@jupyter-widgets/controls",
      "model_module_version": "2.0.0",
      "model_name": "DescriptionStyleModel",
      "state": {
       "description_width": "initial"
      }
     },
     "4f593f8d13994e54aa25d0d1fd94f112": {
      "model_module": "@jupyter-widgets/controls",
      "model_module_version": "2.0.0",
      "model_name": "HBoxModel",
      "state": {
       "children": [
        "IPY_MODEL_f64b1db0e00b409d923876ad0669e0a7",
        "IPY_MODEL_6ef446e236c248688ead223ce0adf2bf",
        "IPY_MODEL_f39b73a8cc194f2f8edeca3a18e53055"
       ],
       "layout": "IPY_MODEL_9a6bd9f7048c4eec9bf2c4a321082565"
      }
     },
     "503caa3f560241cba7bef4b198fafa7f": {
      "model_module": "@jupyter-widgets/controls",
      "model_module_version": "2.0.0",
      "model_name": "HTMLModel",
      "state": {
       "layout": "IPY_MODEL_4ba6b340d83944ad99e7ffcea3f0cda1",
       "style": "IPY_MODEL_3429865c957744f89de78a0103376043",
       "value": "Downloading: 100%"
      }
     },
     "51300b7926f84680be028dd41e31d0ee": {
      "model_module": "@jupyter-widgets/controls",
      "model_module_version": "2.0.0",
      "model_name": "DescriptionStyleModel",
      "state": {
       "description_width": ""
      }
     },
     "514ad3a52b684430aa006d48392daa27": {
      "model_module": "@jupyter-widgets/controls",
      "model_module_version": "2.0.0",
      "model_name": "HBoxModel",
      "state": {
       "children": [
        "IPY_MODEL_cacbab415473486f9cbc3bbb9e0340d3",
        "IPY_MODEL_b2e288c05ea44480b086e9cb3488fc24",
        "IPY_MODEL_b101bae982d744d9974bf2612da12a02"
       ],
       "layout": "IPY_MODEL_fbda30ec61cc42ac9da3240ac9b070a6"
      }
     },
     "52dd93b0f73148be98d6bfe30a5c49f7": {
      "model_module": "@jupyter-widgets/base",
      "model_module_version": "2.0.0",
      "model_name": "LayoutModel",
      "state": {}
     },
     "52f16151dfcb456c825cb3dae442d5ad": {
      "model_module": "@jupyter-widgets/controls",
      "model_module_version": "2.0.0",
      "model_name": "HTMLModel",
      "state": {
       "layout": "IPY_MODEL_42e736027b794134acbdcbdac02e838c",
       "style": "IPY_MODEL_72ea378ae6c9452a82938c6d9ddf2160",
       "value": "Downloading: 100%"
      }
     },
     "53518e4b6e7947939e138e7064f99f05": {
      "model_module": "@jupyter-widgets/controls",
      "model_module_version": "2.0.0",
      "model_name": "GridBoxModel",
      "state": {
       "children": [
        "IPY_MODEL_70765dccf6994db0bd2757465f8dca53",
        "IPY_MODEL_b5a45f18216f4fad8d3d414f5968bcdb",
        "IPY_MODEL_b90d49b1b5da4024bf9e7de815c1cf22",
        "IPY_MODEL_be694cdb041b4eb2ac11110960f86244",
        "IPY_MODEL_28c2d2ed86884038a67d527045508fd2"
       ],
       "layout": "IPY_MODEL_7bf412c74ad84dcc88d0361ddd0657e3"
      }
     },
     "54d82726a2924d948c54b144e2a7d89c": {
      "model_module": "@jupyter-widgets/controls",
      "model_module_version": "2.0.0",
      "model_name": "ProgressStyleModel",
      "state": {
       "description_width": ""
      }
     },
     "560e65ea255e4f06be70b8b28259ea38": {
      "model_module": "@jupyter-widgets/base",
      "model_module_version": "2.0.0",
      "model_name": "LayoutModel",
      "state": {
       "grid_area": "widget001",
       "width": "auto"
      }
     },
     "56147cb49fee4162bfe0ac007935aa0b": {
      "model_module": "@jupyter-widgets/controls",
      "model_module_version": "2.0.0",
      "model_name": "ButtonModel",
      "state": {
       "description": "Translate",
       "icon": "check",
       "layout": "IPY_MODEL_435842f1038042a8a4c80b2edd3dfc6a",
       "style": "IPY_MODEL_3d0094cffb0c43e9aef1b98edab511ce",
       "tooltip": null
      }
     },
     "5774ac0228ca4a32b1575071b093f650": {
      "model_module": "@jupyter-widgets/base",
      "model_module_version": "2.0.0",
      "model_name": "LayoutModel",
      "state": {}
     },
     "57b5f0bd8e8941fc9dc925ead9198d98": {
      "model_module": "@jupyter-widgets/controls",
      "model_module_version": "2.0.0",
      "model_name": "FloatProgressModel",
      "state": {
       "bar_style": "success",
       "layout": "IPY_MODEL_789e1e25688445a982f1a69cc941bd74",
       "max": 92568,
       "style": "IPY_MODEL_989c282496904f628e3cdaea7595fa70",
       "value": 92568
      }
     },
     "588738651d714523932552dc8332e1fd": {
      "model_module": "@jupyter-widgets/controls",
      "model_module_version": "2.0.0",
      "model_name": "HTMLModel",
      "state": {
       "layout": "IPY_MODEL_75308d7b88284f6b978a0982a287b203",
       "style": "IPY_MODEL_8eb4582896c34c1f96406c860ba7bc14",
       "value": " 99.7M/6.70G [06:51&lt;05:14, 22.5MB/s]"
      }
     },
     "5b33285cce0e49df9a7a7fe197871513": {
      "model_module": "@jupyter-widgets/controls",
      "model_module_version": "2.0.0",
      "model_name": "HTMLModel",
      "state": {
       "layout": "IPY_MODEL_8433364da70740adac53b59954dab93e",
       "style": "IPY_MODEL_417dc907625b489484bfeac514b6b16e",
       "value": "Downloading pytorch_model_00001-of-00072.bin:   1%"
      }
     },
     "5b7cb69cddb2474abb01847d4e42d2c1": {
      "model_module": "@jupyter-widgets/base",
      "model_module_version": "2.0.0",
      "model_name": "LayoutModel",
      "state": {
       "grid_area": "widget002",
       "width": "auto"
      }
     },
     "5bffd62e9df74bc092e0000412567f8e": {
      "model_module": "@jupyter-widgets/controls",
      "model_module_version": "2.0.0",
      "model_name": "HBoxModel",
      "state": {
       "children": [
        "IPY_MODEL_8c80a319e3304a11b77eba302b51a42f",
        "IPY_MODEL_c811e8bf2d074cb38762b2593b0f38a8",
        "IPY_MODEL_0007e9ef13d64435a75f9ac6baf4f7ec"
       ],
       "layout": "IPY_MODEL_7cb653e50ef84102adc221a3433189d9"
      }
     },
     "5daa363c3be847ceb25f27a389e70631": {
      "model_module": "@jupyter-widgets/base",
      "model_module_version": "2.0.0",
      "model_name": "LayoutModel",
      "state": {
       "grid_area": "widget001",
       "width": "auto"
      }
     },
     "5e3dd821bef34f69b90df0ab3966f883": {
      "model_module": "@jupyter-widgets/controls",
      "model_module_version": "2.0.0",
      "model_name": "HTMLModel",
      "state": {
       "layout": "IPY_MODEL_bc670f08059e4214831a7695ad5ee4bb",
       "style": "IPY_MODEL_632f60a0742647349a9c5295d101a10b",
       "value": "Downloading tokenizer_config.json: 100%"
      }
     },
     "5e757c41f48f479db278668a5ed0d9dc": {
      "model_module": "@jupyter-widgets/base",
      "model_module_version": "2.0.0",
      "model_name": "LayoutModel",
      "state": {}
     },
     "5ee9585d203a4871924e1f9e3f9d710d": {
      "model_module": "@jupyter-widgets/controls",
      "model_module_version": "2.0.0",
      "model_name": "HBoxModel",
      "state": {
       "children": [
        "IPY_MODEL_52f16151dfcb456c825cb3dae442d5ad",
        "IPY_MODEL_57b5f0bd8e8941fc9dc925ead9198d98",
        "IPY_MODEL_c7c614834f8149bea48ba010897358ab"
       ],
       "layout": "IPY_MODEL_639a65d9264a448fb7a742e6919c5b7c"
      }
     },
     "5eed3475a56c42b98c0d46e232a99380": {
      "model_module": "@jupyter-widgets/controls",
      "model_module_version": "2.0.0",
      "model_name": "ProgressStyleModel",
      "state": {
       "description_width": ""
      }
     },
     "60c678d7dc3241fda4ae94769426649f": {
      "model_module": "@jupyter-widgets/base",
      "model_module_version": "2.0.0",
      "model_name": "LayoutModel",
      "state": {
       "grid_area": "widget001",
       "width": "auto"
      }
     },
     "614ddb6fd7af407d939448a6baeb3b25": {
      "model_module": "@jupyter-widgets/base",
      "model_module_version": "2.0.0",
      "model_name": "LayoutModel",
      "state": {}
     },
     "61510f4ae1484495abd3d0ec773b1cb2": {
      "model_module": "@jupyter-widgets/base",
      "model_module_version": "2.0.0",
      "model_name": "LayoutModel",
      "state": {
       "grid_area": "widget001",
       "width": "auto"
      }
     },
     "632f60a0742647349a9c5295d101a10b": {
      "model_module": "@jupyter-widgets/controls",
      "model_module_version": "2.0.0",
      "model_name": "DescriptionStyleModel",
      "state": {
       "description_width": ""
      }
     },
     "634c8b26689042a680bf890439d92ffc": {
      "model_module": "@jupyter-widgets/base",
      "model_module_version": "2.0.0",
      "model_name": "LayoutModel",
      "state": {}
     },
     "639a65d9264a448fb7a742e6919c5b7c": {
      "model_module": "@jupyter-widgets/base",
      "model_module_version": "2.0.0",
      "model_name": "LayoutModel",
      "state": {}
     },
     "643fc750c3934cd6804e358971510d1d": {
      "model_module": "@jupyter-widgets/base",
      "model_module_version": "2.0.0",
      "model_name": "LayoutModel",
      "state": {
       "grid_template_areas": "\"widget001 widget002\"\n\"widget003 widget003\"\n\"widget004 widget004\"\n\". widget005\"",
       "grid_template_columns": "repeat(2, 1fr)",
       "grid_template_rows": "repeat(4, 1fr)",
       "height": "300px"
      }
     },
     "68febe5ca93b496eb1131f602520e885": {
      "model_module": "@jupyter-widgets/controls",
      "model_module_version": "2.0.0",
      "model_name": "HBoxModel",
      "state": {
       "children": [
        "IPY_MODEL_5b33285cce0e49df9a7a7fe197871513",
        "IPY_MODEL_e3255c2cb1a74bddae1b0954a8a87e77",
        "IPY_MODEL_1df7c60eb4604fb7bb14346d9d60683c"
       ],
       "layout": "IPY_MODEL_15c551d72799491e8939cc994b71e6c6"
      }
     },
     "6a16627ddbe84047af82a82eab0d6725": {
      "model_module": "@jupyter-widgets/controls",
      "model_module_version": "2.0.0",
      "model_name": "HTMLModel",
      "state": {
       "layout": "IPY_MODEL_bc353301f82949ba9ee3a1f27529e039",
       "style": "IPY_MODEL_f9e325431df049be855ba5cbfd61b4e0",
       "value": " 68.3M/6.70G [00:20&lt;05:30, 21.5MB/s]"
      }
     },
     "6a4d9c306b394bc693943a46fbb135fd": {
      "model_module": "@jupyter-widgets/base",
      "model_module_version": "2.0.0",
      "model_name": "LayoutModel",
      "state": {}
     },
     "6b0feb496e914d45b94e4153862da161": {
      "model_module": "@jupyter-widgets/controls",
      "model_module_version": "2.0.0",
      "model_name": "HTMLModel",
      "state": {
       "layout": "IPY_MODEL_d594c19ddc194b7cb92f50a569636d04",
       "style": "IPY_MODEL_f7c0ff48b0054f44b1f73b23b42929ba",
       "value": " 163M/6.70G [00:22&lt;05:06, 22.9MB/s]"
      }
     },
     "6ccba48aae174dddada6d3bbe431b6a3": {
      "model_module": "@jupyter-widgets/controls",
      "model_module_version": "2.0.0",
      "model_name": "FloatProgressModel",
      "state": {
       "bar_style": "success",
       "layout": "IPY_MODEL_49b10eddcd014a06bc40da4f180882f7",
       "max": 85,
       "style": "IPY_MODEL_3b7ce4c8bcce45b3beb219203c4181f6",
       "value": 85
      }
     },
     "6ea9ede1f0504343b1b88002739dcaef": {
      "model_module": "@jupyter-widgets/base",
      "model_module_version": "2.0.0",
      "model_name": "LayoutModel",
      "state": {}
     },
     "6ef446e236c248688ead223ce0adf2bf": {
      "model_module": "@jupyter-widgets/controls",
      "model_module_version": "2.0.0",
      "model_name": "FloatProgressModel",
      "state": {
       "bar_style": "success",
       "layout": "IPY_MODEL_fc093097005f4262895b079a6be2db8c",
       "max": 63701,
       "style": "IPY_MODEL_d2b0d2cdef5e42a0a7f274a419045f96",
       "value": 63701
      }
     },
     "70765dccf6994db0bd2757465f8dca53": {
      "model_module": "@jupyter-widgets/controls",
      "model_module_version": "2.0.0",
      "model_name": "DropdownModel",
      "state": {
       "_options_labels": [
        "English",
        "Spanish",
        "French"
       ],
       "description": "From Language",
       "index": 0,
       "layout": "IPY_MODEL_14e1941f104d41bbb482d9482afd7750",
       "style": "IPY_MODEL_2bee45b6b65f418eb50abe1cd41dc7a1"
      }
     },
     "717cb4a2b94d43cb946e1067404bf633": {
      "model_module": "@jupyter-widgets/controls",
      "model_module_version": "2.0.0",
      "model_name": "HBoxModel",
      "state": {
       "children": [
        "IPY_MODEL_98a813c72978467bb876ec0685d166d9",
        "IPY_MODEL_c971eec8a5b24bc488e6f8f29fb38605",
        "IPY_MODEL_6a16627ddbe84047af82a82eab0d6725"
       ],
       "layout": "IPY_MODEL_6ea9ede1f0504343b1b88002739dcaef"
      }
     },
     "71840e3772a94814a92a57b90fff3369": {
      "model_module": "@jupyter-widgets/base",
      "model_module_version": "2.0.0",
      "model_name": "LayoutModel",
      "state": {}
     },
     "72ea378ae6c9452a82938c6d9ddf2160": {
      "model_module": "@jupyter-widgets/controls",
      "model_module_version": "2.0.0",
      "model_name": "DescriptionStyleModel",
      "state": {
       "description_width": ""
      }
     },
     "72f6dfefba464f4da52976f4f570ff30": {
      "model_module": "@jupyter-widgets/base",
      "model_module_version": "2.0.0",
      "model_name": "LayoutModel",
      "state": {
       "grid_template_areas": "\"widget001 widget002\"\n\"widget003 widget003\"\n\"widget004 widget004\"\n\". widget005\"",
       "grid_template_columns": "repeat(2, 1fr)",
       "grid_template_rows": "repeat(4, 1fr)",
       "height": "300px"
      }
     },
     "75308d7b88284f6b978a0982a287b203": {
      "model_module": "@jupyter-widgets/base",
      "model_module_version": "2.0.0",
      "model_name": "LayoutModel",
      "state": {}
     },
     "7539e78371f5454aa11e1c83a8401465": {
      "model_module": "@jupyter-widgets/controls",
      "model_module_version": "2.0.0",
      "model_name": "ButtonModel",
      "state": {
       "description": "Translate",
       "icon": "check",
       "layout": "IPY_MODEL_aac626c49a784412a03866dcc2746d16",
       "style": "IPY_MODEL_ce87e1aa88724ac1b81ab221d26c5fe6",
       "tooltip": null
      }
     },
     "75e0f19b3abf49049d0098fc5eb8fa42": {
      "model_module": "@jupyter-widgets/controls",
      "model_module_version": "2.0.0",
      "model_name": "DescriptionStyleModel",
      "state": {
       "description_width": ""
      }
     },
     "75e9db04d1434a899673066bc893c973": {
      "model_module": "@jupyter-widgets/controls",
      "model_module_version": "2.0.0",
      "model_name": "HTMLModel",
      "state": {
       "layout": "IPY_MODEL_8fc16263fdf742ab8015d982f086a22a",
       "style": "IPY_MODEL_e78f7cfd5e6b4393a4bd52bfd91c0cd9",
       "value": " 90.4k/90.4k [00:00&lt;00:00, 105kB/s]"
      }
     },
     "7695987a0df240c9b2dd4b88592f731d": {
      "model_module": "@jupyter-widgets/controls",
      "model_module_version": "2.0.0",
      "model_name": "TextStyleModel",
      "state": {
       "description_width": "50px",
       "font_size": null,
       "text_color": null
      }
     },
     "785b9d9a6efe4bd6b1a842b029fbfe3f": {
      "model_module": "@jupyter-widgets/controls",
      "model_module_version": "2.0.0",
      "model_name": "FloatProgressModel",
      "state": {
       "layout": "IPY_MODEL_18696da9728247e6bd7aefc3e72d86af",
       "max": 7193290147,
       "style": "IPY_MODEL_d1abad7f75af411bad0fc7324a2d6313",
       "value": 132189184
      }
     },
     "789e1e25688445a982f1a69cc941bd74": {
      "model_module": "@jupyter-widgets/base",
      "model_module_version": "2.0.0",
      "model_name": "LayoutModel",
      "state": {}
     },
     "78c17d0ea69b48ed925e8b0ab59df178": {
      "model_module": "@jupyter-widgets/controls",
      "model_module_version": "2.0.0",
      "model_name": "HTMLModel",
      "state": {
       "layout": "IPY_MODEL_3c74373db3654201970d43d6fc541c71",
       "style": "IPY_MODEL_2a50915ea521406a82b481ff38b79ed2",
       "value": "Downloading pytorch_model_00001-of-00072.bin:   2%"
      }
     },
     "798690f330974c55aec4fe5f56554ed2": {
      "model_module": "@jupyter-widgets/base",
      "model_module_version": "2.0.0",
      "model_name": "LayoutModel",
      "state": {
       "grid_area": "widget004",
       "height": "100px",
       "width": "100%"
      }
     },
     "7a5fa87136ff4d7b942647cab5ca32ff": {
      "model_module": "@jupyter-widgets/controls",
      "model_module_version": "2.0.0",
      "model_name": "DropdownModel",
      "state": {
       "_options_labels": [
        "English",
        "Spanish",
        "French"
       ],
       "description": "To Language",
       "index": 1,
       "layout": "IPY_MODEL_86b09ebd28e84ea89a6340fa13f4242b",
       "style": "IPY_MODEL_0a8daf84de134f4fade4efae909723b0"
      }
     },
     "7be14acfbe8a4e4b81de9eedae5e5e99": {
      "model_module": "@jupyter-widgets/controls",
      "model_module_version": "2.0.0",
      "model_name": "HBoxModel",
      "state": {
       "children": [
        "IPY_MODEL_5e3dd821bef34f69b90df0ab3966f883",
        "IPY_MODEL_1eb10cd78d6446c89adf2d6c9fc3ed64",
        "IPY_MODEL_f635c00a05d746c0a37c2a22608d9cc6"
       ],
       "layout": "IPY_MODEL_e57cd74666e44d098e983319170f76bd"
      }
     },
     "7bf412c74ad84dcc88d0361ddd0657e3": {
      "model_module": "@jupyter-widgets/base",
      "model_module_version": "2.0.0",
      "model_name": "LayoutModel",
      "state": {
       "grid_template_areas": "\"widget001 widget002\"\n\"widget003 widget003\"\n\"widget004 widget004\"\n\". widget005\"",
       "grid_template_columns": "repeat(2, 1fr)",
       "grid_template_rows": "repeat(4, 1fr)",
       "height": "300px"
      }
     },
     "7c429975848b42009dceefe5400b89a1": {
      "model_module": "@jupyter-widgets/controls",
      "model_module_version": "2.0.0",
      "model_name": "HTMLModel",
      "state": {
       "layout": "IPY_MODEL_98565f41b47a48d48b86ccbe5f6bb8c8",
       "style": "IPY_MODEL_eaaaf93a61d24042b3276e763a5300ff",
       "value": " 568/568 [00:00&lt;00:00, 34.8kB/s]"
      }
     },
     "7cb2d7f5447e46078a8ba591c6906059": {
      "model_module": "@jupyter-widgets/base",
      "model_module_version": "2.0.0",
      "model_name": "LayoutModel",
      "state": {
       "grid_area": "widget003",
       "height": "100px",
       "width": "100%"
      }
     },
     "7cb653e50ef84102adc221a3433189d9": {
      "model_module": "@jupyter-widgets/base",
      "model_module_version": "2.0.0",
      "model_name": "LayoutModel",
      "state": {}
     },
     "7e3188fdfe3c45f89d011708a627269a": {
      "model_module": "@jupyter-widgets/controls",
      "model_module_version": "2.0.0",
      "model_name": "GridBoxModel",
      "state": {
       "children": [
        "IPY_MODEL_abdf5559551944f5bf9f51b38a1370d0",
        "IPY_MODEL_064678723e07423eb0bff7296cd7930a",
        "IPY_MODEL_0378b2e8976f45e08f9ab2a4857f5a24",
        "IPY_MODEL_af4e533050f44dc693e9235d43bbda5c",
        "IPY_MODEL_e318ae1051de4b01abb5d0452bf19823"
       ],
       "layout": "IPY_MODEL_643fc750c3934cd6804e358971510d1d"
      }
     },
     "7e581ee0f82a421eb3a07d43536a81a2": {
      "model_module": "@jupyter-widgets/base",
      "model_module_version": "2.0.0",
      "model_name": "LayoutModel",
      "state": {
       "grid_area": "widget002",
       "width": "auto"
      }
     },
     "7fcf8a50dbdf48008e1eff1fd20ef855": {
      "model_module": "@jupyter-widgets/controls",
      "model_module_version": "2.0.0",
      "model_name": "DescriptionStyleModel",
      "state": {
       "description_width": ""
      }
     },
     "80c6a1ce24a344d99b35164a77fb10fc": {
      "model_module": "@jupyter-widgets/controls",
      "model_module_version": "2.0.0",
      "model_name": "DropdownModel",
      "state": {
       "_options_labels": [
        "English",
        "Spanish",
        "French"
       ],
       "description": "From Language",
       "index": 0,
       "layout": "IPY_MODEL_aea045fd0f814873915026831ef905e3",
       "style": "IPY_MODEL_4f50c1cf9f354543854efe6f4d3fde12"
      }
     },
     "811e0ba515ab4314950653ab21ed86c8": {
      "model_module": "@jupyter-widgets/controls",
      "model_module_version": "2.0.0",
      "model_name": "DescriptionStyleModel",
      "state": {
       "description_width": ""
      }
     },
     "82405802a6074a5c9b114c70f4374bb6": {
      "model_module": "@jupyter-widgets/base",
      "model_module_version": "2.0.0",
      "model_name": "LayoutModel",
      "state": {}
     },
     "82cc5b0e38074d9784f5b374d3c16995": {
      "model_module": "@jupyter-widgets/controls",
      "model_module_version": "2.0.0",
      "model_name": "FloatProgressModel",
      "state": {
       "bar_style": "danger",
       "layout": "IPY_MODEL_6a4d9c306b394bc693943a46fbb135fd",
       "max": 7193290147,
       "style": "IPY_MODEL_54d82726a2924d948c54b144e2a7d89c",
       "value": 162958336
      }
     },
     "841f7d20c4bf43bb97930fa427184118": {
      "model_module": "@jupyter-widgets/base",
      "model_module_version": "2.0.0",
      "model_name": "LayoutModel",
      "state": {
       "grid_area": "widget004",
       "height": "100px",
       "width": "95%"
      }
     },
     "8433364da70740adac53b59954dab93e": {
      "model_module": "@jupyter-widgets/base",
      "model_module_version": "2.0.0",
      "model_name": "LayoutModel",
      "state": {}
     },
     "8496b01df98941ab907f9d70a0b4f7ae": {
      "model_module": "@jupyter-widgets/controls",
      "model_module_version": "2.0.0",
      "model_name": "DescriptionStyleModel",
      "state": {
       "description_width": "initial"
      }
     },
     "84bbee6cec4e462f9a51693f444fa955": {
      "model_module": "@jupyter-widgets/controls",
      "model_module_version": "2.0.0",
      "model_name": "ProgressStyleModel",
      "state": {
       "description_width": ""
      }
     },
     "854766c3110046039efc97d1547ace58": {
      "model_module": "@jupyter-widgets/controls",
      "model_module_version": "2.0.0",
      "model_name": "FloatProgressModel",
      "state": {
       "bar_style": "success",
       "layout": "IPY_MODEL_4ba976e8eb3e43daab628a92e91357fc",
       "max": 568,
       "style": "IPY_MODEL_9c85c520b62845418536863b5aa57d2c",
       "value": 568
      }
     },
     "8639158f0491469db30de4a864cdfd29": {
      "model_module": "@jupyter-widgets/controls",
      "model_module_version": "2.0.0",
      "model_name": "TextareaModel",
      "state": {
       "description": "Output",
       "layout": "IPY_MODEL_d6bad84e9e60425ab44c208d7083f9b8",
       "placeholder": "Translated sentence",
       "style": "IPY_MODEL_f97b177422a24f97ad701d82eda48733",
       "value": "Instruction: translate English to Spanish \nInput: \"I am a student\" \nOutput: \"Soy un estudiante\"\nMy code:\nstring English = \"I am a student\"\nstring Spanish ="
      }
     },
     "86b09ebd28e84ea89a6340fa13f4242b": {
      "model_module": "@jupyter-widgets/base",
      "model_module_version": "2.0.0",
      "model_name": "LayoutModel",
      "state": {
       "grid_area": "widget002",
       "width": "auto"
      }
     },
     "872c8c776b4e420ebdc557e58464e409": {
      "model_module": "@jupyter-widgets/base",
      "model_module_version": "2.0.0",
      "model_name": "LayoutModel",
      "state": {}
     },
     "88bbb6c9e4604964a698170cca934551": {
      "model_module": "@jupyter-widgets/controls",
      "model_module_version": "2.0.0",
      "model_name": "GridBoxModel",
      "state": {
       "children": [
        "IPY_MODEL_4080466a166a4aa9a4a3599456de4d34",
        "IPY_MODEL_3d20f873101945949feafd17cdc5d3a5",
        "IPY_MODEL_b6c3db8557ed4249893039aebcc5e11b",
        "IPY_MODEL_e3a6986f28fc43b2920fd4b735c9923c",
        "IPY_MODEL_457ae254e57541a38dc3e1aa7696a91d"
       ],
       "layout": "IPY_MODEL_c6b6b8d38cfa47e39dfa78a752f6b0bc"
      }
     },
     "8a4fc71df7b44b7db78de0f7c004320c": {
      "model_module": "@jupyter-widgets/controls",
      "model_module_version": "2.0.0",
      "model_name": "DescriptionStyleModel",
      "state": {
       "description_width": ""
      }
     },
     "8a73e87f6df34d52a43059a01f5eab5e": {
      "model_module": "@jupyter-widgets/controls",
      "model_module_version": "2.0.0",
      "model_name": "HBoxModel",
      "state": {
       "children": [
        "IPY_MODEL_c3b874aab18445a3b7b5595a5f7df6ed",
        "IPY_MODEL_854766c3110046039efc97d1547ace58",
        "IPY_MODEL_cdb9f43738324248abdf8e80482ff4b6"
       ],
       "layout": "IPY_MODEL_be3dfb25663d46be8058ecf949556b85"
      }
     },
     "8c1813f121f04b58b15d7ca349edafee": {
      "model_module": "@jupyter-widgets/controls",
      "model_module_version": "2.0.0",
      "model_name": "HTMLModel",
      "state": {
       "layout": "IPY_MODEL_167669b5ae6946faafcb0c7b21f7a5a8",
       "style": "IPY_MODEL_3a7141f32d84495a94f8dadcbcf397c0",
       "value": "Downloading pytorch_model_00001-of-00072.bin:   2%"
      }
     },
     "8c5e043b598b41c2a47bd8a185bcbe63": {
      "model_module": "@jupyter-widgets/controls",
      "model_module_version": "2.0.0",
      "model_name": "DescriptionStyleModel",
      "state": {
       "description_width": ""
      }
     },
     "8c80a319e3304a11b77eba302b51a42f": {
      "model_module": "@jupyter-widgets/controls",
      "model_module_version": "2.0.0",
      "model_name": "HTMLModel",
      "state": {
       "layout": "IPY_MODEL_de4f934014d4475e9659b82105920e86",
       "style": "IPY_MODEL_255d5d5edc3043528274d02a54ea8af2",
       "value": "Downloading: 100%"
      }
     },
     "8d3df703540f4c7fbde94a5e92e56bd9": {
      "model_module": "@jupyter-widgets/controls",
      "model_module_version": "2.0.0",
      "model_name": "DropdownModel",
      "state": {
       "_options_labels": [
        "English",
        "Spanish",
        "French"
       ],
       "description": "From Language",
       "index": 0,
       "layout": "IPY_MODEL_5daa363c3be847ceb25f27a389e70631",
       "style": "IPY_MODEL_2aed10ab0ec543369624ca9ba700bf50"
      }
     },
     "8d4007a827a142b9b935ac034a4566cd": {
      "model_module": "@jupyter-widgets/controls",
      "model_module_version": "2.0.0",
      "model_name": "TextStyleModel",
      "state": {
       "description_width": "50px",
       "font_size": null,
       "text_color": null
      }
     },
     "8d8e2b7af99f476088de10969cf5afa6": {
      "model_module": "@jupyter-widgets/controls",
      "model_module_version": "2.0.0",
      "model_name": "HBoxModel",
      "state": {
       "children": [
        "IPY_MODEL_dab8bd0e54804ed2964e03e0bf7f46c6",
        "IPY_MODEL_df0cd099621b4155aa66a9c6feae656b",
        "IPY_MODEL_7c429975848b42009dceefe5400b89a1"
       ],
       "layout": "IPY_MODEL_da0e46cf6bdf417caef090bb59812a8b"
      }
     },
     "8eb4582896c34c1f96406c860ba7bc14": {
      "model_module": "@jupyter-widgets/controls",
      "model_module_version": "2.0.0",
      "model_name": "DescriptionStyleModel",
      "state": {
       "description_width": ""
      }
     },
     "8ec28a8cdc0a4263b3f285d669deeeaa": {
      "model_module": "@jupyter-widgets/controls",
      "model_module_version": "2.0.0",
      "model_name": "DescriptionStyleModel",
      "state": {
       "description_width": ""
      }
     },
     "8f0c818fc47344f2b5b3dd21947326fa": {
      "model_module": "@jupyter-widgets/controls",
      "model_module_version": "2.0.0",
      "model_name": "FloatProgressModel",
      "state": {
       "layout": "IPY_MODEL_da94f3c500be4999bedd1d4c7837b62e",
       "max": 7193290147,
       "style": "IPY_MODEL_84bbee6cec4e462f9a51693f444fa955",
       "value": 6009051136
      }
     },
     "8fc16263fdf742ab8015d982f086a22a": {
      "model_module": "@jupyter-widgets/base",
      "model_module_version": "2.0.0",
      "model_name": "LayoutModel",
      "state": {}
     },
     "90e058b83f694cb7b1e430cb8ba60772": {
      "model_module": "@jupyter-widgets/controls",
      "model_module_version": "2.0.0",
      "model_name": "HBoxModel",
      "state": {
       "children": [
        "IPY_MODEL_78c17d0ea69b48ed925e8b0ab59df178",
        "IPY_MODEL_eed1232419904990b3b5d1bfc6deab8c",
        "IPY_MODEL_6b0feb496e914d45b94e4153862da161"
       ],
       "layout": "IPY_MODEL_39d3192269ef43149e465862dbbf266c"
      }
     },
     "9150c0dc08e04954baf0040ede597b6d": {
      "model_module": "@jupyter-widgets/base",
      "model_module_version": "2.0.0",
      "model_name": "LayoutModel",
      "state": {}
     },
     "918aee2aeab548a0bb8c61fdc4e6da48": {
      "model_module": "@jupyter-widgets/controls",
      "model_module_version": "2.0.0",
      "model_name": "TextStyleModel",
      "state": {
       "description_width": "50px",
       "font_size": null,
       "text_color": null
      }
     },
     "91c6ee085d264b9fa554696b38a7472f": {
      "model_module": "@jupyter-widgets/base",
      "model_module_version": "2.0.0",
      "model_name": "LayoutModel",
      "state": {}
     },
     "935b58b4fdb74d9c8b6de922cbbcadd8": {
      "model_module": "@jupyter-widgets/controls",
      "model_module_version": "2.0.0",
      "model_name": "GridBoxModel",
      "state": {
       "children": [
        "IPY_MODEL_4080466a166a4aa9a4a3599456de4d34",
        "IPY_MODEL_3d20f873101945949feafd17cdc5d3a5",
        "IPY_MODEL_b6c3db8557ed4249893039aebcc5e11b",
        "IPY_MODEL_e3a6986f28fc43b2920fd4b735c9923c",
        "IPY_MODEL_457ae254e57541a38dc3e1aa7696a91d"
       ],
       "layout": "IPY_MODEL_a38e325220a3472b89d195293e5d9e07"
      }
     },
     "93c798fed06e436490ef522bc32a9272": {
      "model_module": "@jupyter-widgets/controls",
      "model_module_version": "2.0.0",
      "model_name": "ProgressStyleModel",
      "state": {
       "description_width": ""
      }
     },
     "93e15dbd1f824745b228f881d62d7a03": {
      "model_module": "@jupyter-widgets/controls",
      "model_module_version": "2.0.0",
      "model_name": "HBoxModel",
      "state": {
       "children": [
        "IPY_MODEL_503caa3f560241cba7bef4b198fafa7f",
        "IPY_MODEL_ca1f05a69c0f49dda95cc749f53f2f94",
        "IPY_MODEL_75e9db04d1434a899673066bc893c973"
       ],
       "layout": "IPY_MODEL_2a1554d16332402ab2982e2d8d40cf15"
      }
     },
     "9620386e3a4048199e1d1e0bf649e693": {
      "model_module": "@jupyter-widgets/base",
      "model_module_version": "2.0.0",
      "model_name": "LayoutModel",
      "state": {}
     },
     "98565f41b47a48d48b86ccbe5f6bb8c8": {
      "model_module": "@jupyter-widgets/base",
      "model_module_version": "2.0.0",
      "model_name": "LayoutModel",
      "state": {}
     },
     "989c282496904f628e3cdaea7595fa70": {
      "model_module": "@jupyter-widgets/controls",
      "model_module_version": "2.0.0",
      "model_name": "ProgressStyleModel",
      "state": {
       "description_width": ""
      }
     },
     "98a813c72978467bb876ec0685d166d9": {
      "model_module": "@jupyter-widgets/controls",
      "model_module_version": "2.0.0",
      "model_name": "HTMLModel",
      "state": {
       "layout": "IPY_MODEL_daebae1f915644c1b0918d8eae1e673e",
       "style": "IPY_MODEL_1f6dfe0e65b942c7b56ee594b330da41",
       "value": "Downloading pytorch_model_00001-of-00072.bin:   1%"
      }
     },
     "9a225c48b6c24ac68af71fa5a4c8d618": {
      "model_module": "@jupyter-widgets/controls",
      "model_module_version": "2.0.0",
      "model_name": "DropdownModel",
      "state": {
       "_options_labels": [
        "English",
        "Spanish",
        "French"
       ],
       "description": "To Language",
       "index": 1,
       "layout": "IPY_MODEL_b25a43a1ae1746ea9c92c68cda2ed636",
       "style": "IPY_MODEL_2a1889339e6d410eacd5c6e249894aca"
      }
     },
     "9a4df43081d945d0b8ed196466ae20de": {
      "model_module": "@jupyter-widgets/controls",
      "model_module_version": "2.0.0",
      "model_name": "HTMLModel",
      "state": {
       "layout": "IPY_MODEL_82405802a6074a5c9b114c70f4374bb6",
       "style": "IPY_MODEL_2b585b55541d4a98b64c3a34fd79ef1c",
       "value": " 62.2k/62.2k [00:00&lt;00:00, 109kB/s]"
      }
     },
     "9a6bd9f7048c4eec9bf2c4a321082565": {
      "model_module": "@jupyter-widgets/base",
      "model_module_version": "2.0.0",
      "model_name": "LayoutModel",
      "state": {}
     },
     "9b6e5dc0d4fe418d8045cd4a17d68f40": {
      "model_module": "@jupyter-widgets/base",
      "model_module_version": "2.0.0",
      "model_name": "LayoutModel",
      "state": {
       "grid_area": "widget004",
       "height": "100px",
       "width": "100%"
      }
     },
     "9b95dd10bab04edcb89993ae3e306171": {
      "model_module": "@jupyter-widgets/controls",
      "model_module_version": "2.0.0",
      "model_name": "DropdownModel",
      "state": {
       "_options_labels": [
        "English",
        "Spanish",
        "French"
       ],
       "description": "To Language",
       "index": 1,
       "layout": "IPY_MODEL_d24f8bda0c094beda74f2039d8081c8e",
       "style": "IPY_MODEL_bf96f7449114420b8d33c9a053775f0e"
      }
     },
     "9c85c520b62845418536863b5aa57d2c": {
      "model_module": "@jupyter-widgets/controls",
      "model_module_version": "2.0.0",
      "model_name": "ProgressStyleModel",
      "state": {
       "description_width": ""
      }
     },
     "9ea66902cae045e78d0b5d8d5597bdf3": {
      "model_module": "@jupyter-widgets/controls",
      "model_module_version": "2.0.0",
      "model_name": "ProgressStyleModel",
      "state": {
       "description_width": ""
      }
     },
     "a36dee72bf3b437384c43dfbe3a78d05": {
      "model_module": "@jupyter-widgets/base",
      "model_module_version": "2.0.0",
      "model_name": "LayoutModel",
      "state": {}
     },
     "a38e325220a3472b89d195293e5d9e07": {
      "model_module": "@jupyter-widgets/base",
      "model_module_version": "2.0.0",
      "model_name": "LayoutModel",
      "state": {
       "grid_template_areas": "\"widget001 widget002\"\n\"widget003 widget003\"\n\"widget004 widget004\"\n\". widget005\"",
       "grid_template_columns": "repeat(2, 1fr)",
       "grid_template_rows": "repeat(4, 1fr)",
       "height": "300px"
      }
     },
     "a6b11f5b49b940f08891432429cb3dcf": {
      "model_module": "@jupyter-widgets/controls",
      "model_module_version": "2.0.0",
      "model_name": "DescriptionStyleModel",
      "state": {
       "description_width": ""
      }
     },
     "a6dfe9baea954a58bb5f7a98743ee853": {
      "model_module": "@jupyter-widgets/base",
      "model_module_version": "2.0.0",
      "model_name": "LayoutModel",
      "state": {
       "grid_area": "widget003",
       "height": "100px",
       "width": "100%"
      }
     },
     "a8b3d2f7817f46989ced9490d1c5797c": {
      "model_module": "@jupyter-widgets/base",
      "model_module_version": "2.0.0",
      "model_name": "LayoutModel",
      "state": {}
     },
     "a9434e58357c4f88ac2f95e2e8474e52": {
      "model_module": "@jupyter-widgets/base",
      "model_module_version": "2.0.0",
      "model_name": "LayoutModel",
      "state": {
       "grid_area": "widget005",
       "width": "auto"
      }
     },
     "a9fedff0b2204873b7de765d0fc19d34": {
      "model_module": "@jupyter-widgets/controls",
      "model_module_version": "2.0.0",
      "model_name": "DescriptionStyleModel",
      "state": {
       "description_width": ""
      }
     },
     "aa0b80c4cb9d492c9c1827ee7b2f7c54": {
      "model_module": "@jupyter-widgets/controls",
      "model_module_version": "2.0.0",
      "model_name": "TextStyleModel",
      "state": {
       "description_width": "50px",
       "font_size": null,
       "text_color": null
      }
     },
     "aac626c49a784412a03866dcc2746d16": {
      "model_module": "@jupyter-widgets/base",
      "model_module_version": "2.0.0",
      "model_name": "LayoutModel",
      "state": {
       "grid_area": "widget005",
       "width": "auto"
      }
     },
     "ab7a7b2fd97f46f4815a46fef04e6c2c": {
      "model_module": "@jupyter-widgets/controls",
      "model_module_version": "2.0.0",
      "model_name": "DescriptionStyleModel",
      "state": {
       "description_width": ""
      }
     },
     "abcf8e0218d54db5ba708a9c6dec178d": {
      "model_module": "@jupyter-widgets/controls",
      "model_module_version": "2.0.0",
      "model_name": "GridBoxModel",
      "state": {
       "children": [
        "IPY_MODEL_b359e8d0a19442eabf06c17f1420bf13",
        "IPY_MODEL_ca69d99804734baf91c52311f6374d35",
        "IPY_MODEL_018663e3fe9041239fdce482004c7103",
        "IPY_MODEL_000193506f4b4c1eb09619921def49f8",
        "IPY_MODEL_abdce7f908a44c9584febf197543594d"
       ],
       "layout": "IPY_MODEL_72f6dfefba464f4da52976f4f570ff30"
      }
     },
     "abdce7f908a44c9584febf197543594d": {
      "model_module": "@jupyter-widgets/controls",
      "model_module_version": "2.0.0",
      "model_name": "ButtonModel",
      "state": {
       "description": "Translate",
       "icon": "check",
       "layout": "IPY_MODEL_b378d275b66e4684bba9a3274bd958f0",
       "style": "IPY_MODEL_bb43c5b52f2f408abe0ca19764b23a57",
       "tooltip": null
      }
     },
     "abdf5559551944f5bf9f51b38a1370d0": {
      "model_module": "@jupyter-widgets/controls",
      "model_module_version": "2.0.0",
      "model_name": "DropdownModel",
      "state": {
       "_options_labels": [
        "English",
        "Spanish",
        "French"
       ],
       "description": "From Language",
       "index": 0,
       "layout": "IPY_MODEL_60c678d7dc3241fda4ae94769426649f",
       "style": "IPY_MODEL_f06f0442560f4818b3df7ba3d8b248b8"
      }
     },
     "ac689d6f6112494da1eea57204942b52": {
      "model_module": "@jupyter-widgets/base",
      "model_module_version": "2.0.0",
      "model_name": "LayoutModel",
      "state": {}
     },
     "aea045fd0f814873915026831ef905e3": {
      "model_module": "@jupyter-widgets/base",
      "model_module_version": "2.0.0",
      "model_name": "LayoutModel",
      "state": {
       "grid_area": "widget001",
       "width": "auto"
      }
     },
     "af4e533050f44dc693e9235d43bbda5c": {
      "model_module": "@jupyter-widgets/controls",
      "model_module_version": "2.0.0",
      "model_name": "TextareaModel",
      "state": {
       "description": "Output",
       "layout": "IPY_MODEL_841f7d20c4bf43bb97930fa427184118",
       "placeholder": "Translated sentence",
       "style": "IPY_MODEL_e48554743c46429998b24b7f482a6274",
       "value": "infering..."
      }
     },
     "b0ee4966826946bf92cc86c4a2fb13cd": {
      "model_module": "@jupyter-widgets/controls",
      "model_module_version": "2.0.0",
      "model_name": "GridBoxModel",
      "state": {
       "children": [
        "IPY_MODEL_c4e2938a43584c69afd5a57de05441ae",
        "IPY_MODEL_9a225c48b6c24ac68af71fa5a4c8d618",
        "IPY_MODEL_bc041bf36dcf4806bae609c6ec11ad28",
        "IPY_MODEL_3e2d4963f3614e7d9b7a3a55e410b0b4",
        "IPY_MODEL_7539e78371f5454aa11e1c83a8401465"
       ],
       "layout": "IPY_MODEL_dc081d368b93487f8e8097f0ee94bd1f"
      }
     },
     "b101bae982d744d9974bf2612da12a02": {
      "model_module": "@jupyter-widgets/controls",
      "model_module_version": "2.0.0",
      "model_name": "HTMLModel",
      "state": {
       "layout": "IPY_MODEL_ac689d6f6112494da1eea57204942b52",
       "style": "IPY_MODEL_51300b7926f84680be028dd41e31d0ee",
       "value": " 13.8M/13.8M [00:00&lt;00:00, 56.9MB/s]"
      }
     },
     "b10a3f83192d4826b8c11a3d83e6cda1": {
      "model_module": "@jupyter-widgets/controls",
      "model_module_version": "2.0.0",
      "model_name": "TextStyleModel",
      "state": {
       "description_width": "50px",
       "font_size": null,
       "text_color": null
      }
     },
     "b15ccfd9845a4e979b8f8e7a3b3ff8ee": {
      "model_module": "@jupyter-widgets/controls",
      "model_module_version": "2.0.0",
      "model_name": "TextStyleModel",
      "state": {
       "description_width": "50px",
       "font_size": null,
       "text_color": null
      }
     },
     "b17f7a5fc9304c7bb7541bdc67e65fa2": {
      "model_module": "@jupyter-widgets/base",
      "model_module_version": "2.0.0",
      "model_name": "LayoutModel",
      "state": {
       "grid_area": "widget003",
       "height": "100px",
       "width": "95%"
      }
     },
     "b25a43a1ae1746ea9c92c68cda2ed636": {
      "model_module": "@jupyter-widgets/base",
      "model_module_version": "2.0.0",
      "model_name": "LayoutModel",
      "state": {
       "grid_area": "widget002",
       "width": "auto"
      }
     },
     "b2e288c05ea44480b086e9cb3488fc24": {
      "model_module": "@jupyter-widgets/controls",
      "model_module_version": "2.0.0",
      "model_name": "FloatProgressModel",
      "state": {
       "bar_style": "success",
       "layout": "IPY_MODEL_3b2dcc3f31294f9fa0193ccd6c3bf62a",
       "max": 14500438,
       "style": "IPY_MODEL_df35d7e00b2841e38c5498f42ba5e78b",
       "value": 14500438
      }
     },
     "b30c7aa65d0144588e5e6102ed07a75c": {
      "model_module": "@jupyter-widgets/controls",
      "model_module_version": "2.0.0",
      "model_name": "ButtonModel",
      "state": {
       "description": "Translate",
       "icon": "check",
       "layout": "IPY_MODEL_b53eb7ba423440d0af3825d1ed16583e",
       "style": "IPY_MODEL_18479a4cce1b4102a52fce6e14dd4206",
       "tooltip": null
      }
     },
     "b359e8d0a19442eabf06c17f1420bf13": {
      "model_module": "@jupyter-widgets/controls",
      "model_module_version": "2.0.0",
      "model_name": "DropdownModel",
      "state": {
       "_options_labels": [
        "English",
        "Spanish",
        "French"
       ],
       "description": "From Language",
       "index": 0,
       "layout": "IPY_MODEL_61510f4ae1484495abd3d0ec773b1cb2",
       "style": "IPY_MODEL_1862f206537c46118a1f828734a7dc6a"
      }
     },
     "b378d275b66e4684bba9a3274bd958f0": {
      "model_module": "@jupyter-widgets/base",
      "model_module_version": "2.0.0",
      "model_name": "LayoutModel",
      "state": {
       "grid_area": "widget005",
       "width": "auto"
      }
     },
     "b38cd1924d364857a401ed930ff56aa5": {
      "model_module": "@jupyter-widgets/controls",
      "model_module_version": "2.0.0",
      "model_name": "TextStyleModel",
      "state": {
       "description_width": "50px",
       "font_size": null,
       "text_color": null
      }
     },
     "b53eb7ba423440d0af3825d1ed16583e": {
      "model_module": "@jupyter-widgets/base",
      "model_module_version": "2.0.0",
      "model_name": "LayoutModel",
      "state": {
       "grid_area": "widget005",
       "width": "auto"
      }
     },
     "b5a45f18216f4fad8d3d414f5968bcdb": {
      "model_module": "@jupyter-widgets/controls",
      "model_module_version": "2.0.0",
      "model_name": "DropdownModel",
      "state": {
       "_options_labels": [
        "English",
        "Spanish",
        "French"
       ],
       "description": "To Language",
       "index": 1,
       "layout": "IPY_MODEL_d26cb0509a48491ea5377e935db23fce",
       "style": "IPY_MODEL_f946ebeabc114db7acd0603dd73ba622"
      }
     },
     "b6c3db8557ed4249893039aebcc5e11b": {
      "model_module": "@jupyter-widgets/controls",
      "model_module_version": "2.0.0",
      "model_name": "TextareaModel",
      "state": {
       "description": "Input",
       "layout": "IPY_MODEL_7cb2d7f5447e46078a8ba591c6906059",
       "placeholder": "Enter the sentence to translate",
       "style": "IPY_MODEL_918aee2aeab548a0bb8c61fdc4e6da48",
       "value": "I am a student"
      }
     },
     "b90d49b1b5da4024bf9e7de815c1cf22": {
      "model_module": "@jupyter-widgets/controls",
      "model_module_version": "2.0.0",
      "model_name": "TextareaModel",
      "state": {
       "description": "Input",
       "layout": "IPY_MODEL_a6dfe9baea954a58bb5f7a98743ee853",
       "placeholder": "Enter the sentence to translate",
       "style": "IPY_MODEL_b15ccfd9845a4e979b8f8e7a3b3ff8ee",
       "value": "I am a student"
      }
     },
     "b96649003e3c4952bf61fc25e70638f3": {
      "model_module": "@jupyter-widgets/base",
      "model_module_version": "2.0.0",
      "model_name": "LayoutModel",
      "state": {
       "grid_template_areas": "\"widget001 widget002\"\n\"widget003 widget003\"\n\"widget004 widget004\"\n\". widget005\"",
       "grid_template_columns": "repeat(2, 1fr)",
       "grid_template_rows": "repeat(4, 1fr)",
       "height": "300px"
      }
     },
     "b9ce55fe840246b1b1d191fae5d040ef": {
      "model_module": "@jupyter-widgets/base",
      "model_module_version": "2.0.0",
      "model_name": "LayoutModel",
      "state": {
       "grid_template_areas": "\"widget001 widget002\"\n\"widget003 widget003\"\n\"widget004 widget004\"\n\". widget005\"",
       "grid_template_columns": "repeat(2, 1fr)",
       "grid_template_rows": "repeat(4, 1fr)",
       "height": "300px"
      }
     },
     "bb43c5b52f2f408abe0ca19764b23a57": {
      "model_module": "@jupyter-widgets/controls",
      "model_module_version": "2.0.0",
      "model_name": "ButtonStyleModel",
      "state": {
       "font_family": null,
       "font_size": null,
       "font_style": null,
       "font_variant": null,
       "font_weight": null,
       "text_color": null,
       "text_decoration": null
      }
     },
     "bc041bf36dcf4806bae609c6ec11ad28": {
      "model_module": "@jupyter-widgets/controls",
      "model_module_version": "2.0.0",
      "model_name": "TextareaModel",
      "state": {
       "description": "Input",
       "layout": "IPY_MODEL_dc381ac4c27b48cbbc634308c8fae548",
       "placeholder": "Enter the sentence to translate",
       "style": "IPY_MODEL_b38cd1924d364857a401ed930ff56aa5",
       "value": "I am a student"
      }
     },
     "bc2e5daa20574ff58930ab6b6c66d794": {
      "model_module": "@jupyter-widgets/controls",
      "model_module_version": "2.0.0",
      "model_name": "HTMLModel",
      "state": {
       "layout": "IPY_MODEL_435581952245497396ab61acf3ac7330",
       "style": "IPY_MODEL_05736c4dadc141689a2ea96b3fd2965c",
       "value": "Downloading pytorch_model_00001-of-00072.bin:  84%"
      }
     },
     "bc353301f82949ba9ee3a1f27529e039": {
      "model_module": "@jupyter-widgets/base",
      "model_module_version": "2.0.0",
      "model_name": "LayoutModel",
      "state": {}
     },
     "bc670f08059e4214831a7695ad5ee4bb": {
      "model_module": "@jupyter-widgets/base",
      "model_module_version": "2.0.0",
      "model_name": "LayoutModel",
      "state": {}
     },
     "bdb59e97f1104635bc1b94f00b7a202d": {
      "model_module": "@jupyter-widgets/base",
      "model_module_version": "2.0.0",
      "model_name": "LayoutModel",
      "state": {
       "grid_area": "widget004",
       "height": "100px",
       "width": "95%"
      }
     },
     "be3dfb25663d46be8058ecf949556b85": {
      "model_module": "@jupyter-widgets/base",
      "model_module_version": "2.0.0",
      "model_name": "LayoutModel",
      "state": {}
     },
     "be5f2bc864f548faa89218da3650c474": {
      "model_module": "@jupyter-widgets/base",
      "model_module_version": "2.0.0",
      "model_name": "LayoutModel",
      "state": {}
     },
     "be694cdb041b4eb2ac11110960f86244": {
      "model_module": "@jupyter-widgets/controls",
      "model_module_version": "2.0.0",
      "model_name": "TextareaModel",
      "state": {
       "description": "Output",
       "layout": "IPY_MODEL_798690f330974c55aec4fe5f56554ed2",
       "placeholder": "Translated sentence",
       "style": "IPY_MODEL_2036ff8ff3ff4e3bae90144e14d7f630",
       "value": "infering..."
      }
     },
     "be98cf4db0714332ae57f2165695579d": {
      "model_module": "@jupyter-widgets/controls",
      "model_module_version": "2.0.0",
      "model_name": "ProgressStyleModel",
      "state": {
       "description_width": ""
      }
     },
     "bf96f7449114420b8d33c9a053775f0e": {
      "model_module": "@jupyter-widgets/controls",
      "model_module_version": "2.0.0",
      "model_name": "DescriptionStyleModel",
      "state": {
       "description_width": "initial"
      }
     },
     "c170f4f5e4d543fd8cf5f18598b59147": {
      "model_module": "@jupyter-widgets/base",
      "model_module_version": "2.0.0",
      "model_name": "LayoutModel",
      "state": {
       "grid_area": "widget004",
       "height": "100px",
       "width": "95%"
      }
     },
     "c3b874aab18445a3b7b5595a5f7df6ed": {
      "model_module": "@jupyter-widgets/controls",
      "model_module_version": "2.0.0",
      "model_name": "HTMLModel",
      "state": {
       "layout": "IPY_MODEL_d47c5aca05e54e45b1a6fd792a1d24b0",
       "style": "IPY_MODEL_2bbdd28d441d4f188016d533d7a08fcc",
       "value": "Downloading config.json: 100%"
      }
     },
     "c4e2938a43584c69afd5a57de05441ae": {
      "model_module": "@jupyter-widgets/controls",
      "model_module_version": "2.0.0",
      "model_name": "DropdownModel",
      "state": {
       "_options_labels": [
        "English",
        "Spanish",
        "French"
       ],
       "description": "From Language",
       "index": 0,
       "layout": "IPY_MODEL_560e65ea255e4f06be70b8b28259ea38",
       "style": "IPY_MODEL_46d5a55849a7438b9d023897702a9316"
      }
     },
     "c5eb0e439a484169821bab84fce453c3": {
      "model_module": "@jupyter-widgets/controls",
      "model_module_version": "2.0.0",
      "model_name": "ButtonStyleModel",
      "state": {
       "font_family": null,
       "font_size": null,
       "font_style": null,
       "font_variant": null,
       "font_weight": null,
       "text_color": null,
       "text_decoration": null
      }
     },
     "c6b6b8d38cfa47e39dfa78a752f6b0bc": {
      "model_module": "@jupyter-widgets/base",
      "model_module_version": "2.0.0",
      "model_name": "LayoutModel",
      "state": {
       "grid_template_areas": "\"widget001 widget002\"\n\"widget003 widget003\"\n\"widget004 widget004\"\n\". widget005\"",
       "grid_template_columns": "repeat(2, 1fr)",
       "grid_template_rows": "repeat(4, 1fr)",
       "height": "300px"
      }
     },
     "c6bfab214f48415c9816cdce63f5e5ee": {
      "model_module": "@jupyter-widgets/controls",
      "model_module_version": "2.0.0",
      "model_name": "DescriptionStyleModel",
      "state": {
       "description_width": ""
      }
     },
     "c7c614834f8149bea48ba010897358ab": {
      "model_module": "@jupyter-widgets/controls",
      "model_module_version": "2.0.0",
      "model_name": "HTMLModel",
      "state": {
       "layout": "IPY_MODEL_128116ff10b54f3da1d7efe51b5761f8",
       "style": "IPY_MODEL_f743ab34fe314b8a9d4e6d590e645b26",
       "value": " 90.4k/90.4k [00:00&lt;00:00, 74.8kB/s]"
      }
     },
     "c811e8bf2d074cb38762b2593b0f38a8": {
      "model_module": "@jupyter-widgets/controls",
      "model_module_version": "2.0.0",
      "model_name": "FloatProgressModel",
      "state": {
       "bar_style": "success",
       "layout": "IPY_MODEL_9150c0dc08e04954baf0040ede597b6d",
       "max": 92568,
       "style": "IPY_MODEL_0bea8bd7773a42ef83790a816646c3d4",
       "value": 92568
      }
     },
     "c971eec8a5b24bc488e6f8f29fb38605": {
      "model_module": "@jupyter-widgets/controls",
      "model_module_version": "2.0.0",
      "model_name": "FloatProgressModel",
      "state": {
       "layout": "IPY_MODEL_5e757c41f48f479db278668a5ed0d9dc",
       "max": 7193290147,
       "style": "IPY_MODEL_93c798fed06e436490ef522bc32a9272",
       "value": 71576576
      }
     },
     "ca1f05a69c0f49dda95cc749f53f2f94": {
      "model_module": "@jupyter-widgets/controls",
      "model_module_version": "2.0.0",
      "model_name": "FloatProgressModel",
      "state": {
       "bar_style": "success",
       "layout": "IPY_MODEL_2be2c2727f5548878d959e91088794a2",
       "max": 92568,
       "style": "IPY_MODEL_be98cf4db0714332ae57f2165695579d",
       "value": 92568
      }
     },
     "ca35e145455e4b99874830dde49c3f4d": {
      "model_module": "@jupyter-widgets/base",
      "model_module_version": "2.0.0",
      "model_name": "LayoutModel",
      "state": {}
     },
     "ca69d99804734baf91c52311f6374d35": {
      "model_module": "@jupyter-widgets/controls",
      "model_module_version": "2.0.0",
      "model_name": "DropdownModel",
      "state": {
       "_options_labels": [
        "English",
        "Spanish",
        "French"
       ],
       "description": "To Language",
       "index": 1,
       "layout": "IPY_MODEL_32ee0ef1af484d72948c7f575e92eae5",
       "style": "IPY_MODEL_1f4900dbe8bf41b79a020915a0f85d22"
      }
     },
     "cacbab415473486f9cbc3bbb9e0340d3": {
      "model_module": "@jupyter-widgets/controls",
      "model_module_version": "2.0.0",
      "model_name": "HTMLModel",
      "state": {
       "layout": "IPY_MODEL_9620386e3a4048199e1d1e0bf649e693",
       "style": "IPY_MODEL_8c5e043b598b41c2a47bd8a185bcbe63",
       "value": "Downloading tokenizer.json: 100%"
      }
     },
     "cb01b78953724b4cbd32792c0da1ffc8": {
      "model_module": "@jupyter-widgets/controls",
      "model_module_version": "2.0.0",
      "model_name": "FloatProgressModel",
      "state": {
       "bar_style": "danger",
       "layout": "IPY_MODEL_4791a19a20b444ac98c98a6285544140",
       "max": 7193290147,
       "style": "IPY_MODEL_25082bbdae6a43a1944a2ceb4d2622e2",
       "value": 104550400
      }
     },
     "cdaf8c71f2644559a38d7afec3348f94": {
      "model_module": "@jupyter-widgets/controls",
      "model_module_version": "2.0.0",
      "model_name": "HBoxModel",
      "state": {
       "children": [
        "IPY_MODEL_f948765b124545db83e20e2c9b0db6e6",
        "IPY_MODEL_cb01b78953724b4cbd32792c0da1ffc8",
        "IPY_MODEL_588738651d714523932552dc8332e1fd"
       ],
       "layout": "IPY_MODEL_dc3e54c07ecd4b4f981c8e830c1ecddb"
      }
     },
     "cdb9f43738324248abdf8e80482ff4b6": {
      "model_module": "@jupyter-widgets/controls",
      "model_module_version": "2.0.0",
      "model_name": "HTMLModel",
      "state": {
       "layout": "IPY_MODEL_e14d1c1e1cd84341a78a11a6a1b0d69e",
       "style": "IPY_MODEL_8a4fc71df7b44b7db78de0f7c004320c",
       "value": " 568/568 [00:00&lt;00:00, 31.1kB/s]"
      }
     },
     "ce87e1aa88724ac1b81ab221d26c5fe6": {
      "model_module": "@jupyter-widgets/controls",
      "model_module_version": "2.0.0",
      "model_name": "ButtonStyleModel",
      "state": {
       "font_family": null,
       "font_size": null,
       "font_style": null,
       "font_variant": null,
       "font_weight": null,
       "text_color": null,
       "text_decoration": null
      }
     },
     "cf3b8bb52cb24d87980bcc4fe1e1f74c": {
      "model_module": "@jupyter-widgets/base",
      "model_module_version": "2.0.0",
      "model_name": "LayoutModel",
      "state": {}
     },
     "cfe813ce480e4f469a62c14b96e89986": {
      "model_module": "@jupyter-widgets/controls",
      "model_module_version": "2.0.0",
      "model_name": "HTMLModel",
      "state": {
       "layout": "IPY_MODEL_eecd2659a30d481f82dc59d4cfb82a37",
       "style": "IPY_MODEL_1c8ae7a46d274d6a95c4d214088690dc",
       "value": " 85.0/85.0 [00:00&lt;00:00, 5.44kB/s]"
      }
     },
     "d1abad7f75af411bad0fc7324a2d6313": {
      "model_module": "@jupyter-widgets/controls",
      "model_module_version": "2.0.0",
      "model_name": "ProgressStyleModel",
      "state": {
       "description_width": ""
      }
     },
     "d2427ff5b29f460dbcaf5aeb1ca30109": {
      "model_module": "@jupyter-widgets/controls",
      "model_module_version": "2.0.0",
      "model_name": "GridBoxModel",
      "state": {
       "children": [
        "IPY_MODEL_4080466a166a4aa9a4a3599456de4d34",
        "IPY_MODEL_3d20f873101945949feafd17cdc5d3a5",
        "IPY_MODEL_b6c3db8557ed4249893039aebcc5e11b",
        "IPY_MODEL_e3a6986f28fc43b2920fd4b735c9923c",
        "IPY_MODEL_457ae254e57541a38dc3e1aa7696a91d"
       ],
       "layout": "IPY_MODEL_0281c3ac70e64c758fd1f0cdda64e19c"
      }
     },
     "d24f8bda0c094beda74f2039d8081c8e": {
      "model_module": "@jupyter-widgets/base",
      "model_module_version": "2.0.0",
      "model_name": "LayoutModel",
      "state": {
       "grid_area": "widget002",
       "width": "auto"
      }
     },
     "d26cb0509a48491ea5377e935db23fce": {
      "model_module": "@jupyter-widgets/base",
      "model_module_version": "2.0.0",
      "model_name": "LayoutModel",
      "state": {
       "grid_area": "widget002",
       "width": "auto"
      }
     },
     "d2b0d2cdef5e42a0a7f274a419045f96": {
      "model_module": "@jupyter-widgets/controls",
      "model_module_version": "2.0.0",
      "model_name": "ProgressStyleModel",
      "state": {
       "description_width": ""
      }
     },
     "d3cb2cac77e743ce89a616c8ee66f20e": {
      "model_module": "@jupyter-widgets/controls",
      "model_module_version": "2.0.0",
      "model_name": "DescriptionStyleModel",
      "state": {
       "description_width": "initial"
      }
     },
     "d47c5aca05e54e45b1a6fd792a1d24b0": {
      "model_module": "@jupyter-widgets/base",
      "model_module_version": "2.0.0",
      "model_name": "LayoutModel",
      "state": {}
     },
     "d594c19ddc194b7cb92f50a569636d04": {
      "model_module": "@jupyter-widgets/base",
      "model_module_version": "2.0.0",
      "model_name": "LayoutModel",
      "state": {}
     },
     "d6bad84e9e60425ab44c208d7083f9b8": {
      "model_module": "@jupyter-widgets/base",
      "model_module_version": "2.0.0",
      "model_name": "LayoutModel",
      "state": {
       "grid_area": "widget004",
       "height": "100px",
       "width": "95%"
      }
     },
     "da0e46cf6bdf417caef090bb59812a8b": {
      "model_module": "@jupyter-widgets/base",
      "model_module_version": "2.0.0",
      "model_name": "LayoutModel",
      "state": {}
     },
     "da94f3c500be4999bedd1d4c7837b62e": {
      "model_module": "@jupyter-widgets/base",
      "model_module_version": "2.0.0",
      "model_name": "LayoutModel",
      "state": {}
     },
     "dab8bd0e54804ed2964e03e0bf7f46c6": {
      "model_module": "@jupyter-widgets/controls",
      "model_module_version": "2.0.0",
      "model_name": "HTMLModel",
      "state": {
       "layout": "IPY_MODEL_00a7c42a61df467a92483ea845628ae2",
       "style": "IPY_MODEL_c6bfab214f48415c9816cdce63f5e5ee",
       "value": "Downloading config.json: 100%"
      }
     },
     "dac79f9c9db844e2b5c0b4ee2b74afb5": {
      "model_module": "@jupyter-widgets/base",
      "model_module_version": "2.0.0",
      "model_name": "LayoutModel",
      "state": {}
     },
     "daebae1f915644c1b0918d8eae1e673e": {
      "model_module": "@jupyter-widgets/base",
      "model_module_version": "2.0.0",
      "model_name": "LayoutModel",
      "state": {}
     },
     "db6134bc2d73459291dbccc6f32c1de6": {
      "model_module": "@jupyter-widgets/base",
      "model_module_version": "2.0.0",
      "model_name": "LayoutModel",
      "state": {
       "grid_area": "widget005",
       "width": "auto"
      }
     },
     "dc081d368b93487f8e8097f0ee94bd1f": {
      "model_module": "@jupyter-widgets/base",
      "model_module_version": "2.0.0",
      "model_name": "LayoutModel",
      "state": {
       "grid_template_areas": "\"widget001 widget002\"\n\"widget003 widget003\"\n\"widget004 widget004\"\n\". widget005\"",
       "grid_template_columns": "repeat(2, 1fr)",
       "grid_template_rows": "repeat(4, 1fr)",
       "height": "300px"
      }
     },
     "dc18576ac2ee4714b9bb6b0d58aeed0f": {
      "model_module": "@jupyter-widgets/base",
      "model_module_version": "2.0.0",
      "model_name": "LayoutModel",
      "state": {}
     },
     "dc381ac4c27b48cbbc634308c8fae548": {
      "model_module": "@jupyter-widgets/base",
      "model_module_version": "2.0.0",
      "model_name": "LayoutModel",
      "state": {
       "grid_area": "widget003",
       "height": "100px",
       "width": "95%"
      }
     },
     "dc3e54c07ecd4b4f981c8e830c1ecddb": {
      "model_module": "@jupyter-widgets/base",
      "model_module_version": "2.0.0",
      "model_name": "LayoutModel",
      "state": {}
     },
     "de2a95e8d7d947cfa68d33014981b7d9": {
      "model_module": "@jupyter-widgets/base",
      "model_module_version": "2.0.0",
      "model_name": "LayoutModel",
      "state": {}
     },
     "de4f934014d4475e9659b82105920e86": {
      "model_module": "@jupyter-widgets/base",
      "model_module_version": "2.0.0",
      "model_name": "LayoutModel",
      "state": {}
     },
     "df0cd099621b4155aa66a9c6feae656b": {
      "model_module": "@jupyter-widgets/controls",
      "model_module_version": "2.0.0",
      "model_name": "FloatProgressModel",
      "state": {
       "bar_style": "success",
       "layout": "IPY_MODEL_dac79f9c9db844e2b5c0b4ee2b74afb5",
       "max": 568,
       "style": "IPY_MODEL_2d485f0538c349968b2124d251d4b36b",
       "value": 568
      }
     },
     "df35d7e00b2841e38c5498f42ba5e78b": {
      "model_module": "@jupyter-widgets/controls",
      "model_module_version": "2.0.0",
      "model_name": "ProgressStyleModel",
      "state": {
       "description_width": ""
      }
     },
     "e04f0eb1ec67492b8c76ba617f8727fb": {
      "model_module": "@jupyter-widgets/controls",
      "model_module_version": "2.0.0",
      "model_name": "ButtonStyleModel",
      "state": {
       "font_family": null,
       "font_size": null,
       "font_style": null,
       "font_variant": null,
       "font_weight": null,
       "text_color": null,
       "text_decoration": null
      }
     },
     "e082002ae99143ad968b7392caaa0acf": {
      "model_module": "@jupyter-widgets/controls",
      "model_module_version": "2.0.0",
      "model_name": "HTMLModel",
      "state": {
       "layout": "IPY_MODEL_614ddb6fd7af407d939448a6baeb3b25",
       "style": "IPY_MODEL_ab7a7b2fd97f46f4815a46fef04e6c2c",
       "value": "Downloading pytorch_model_00001-of-00072.bin:   2%"
      }
     },
     "e14d1c1e1cd84341a78a11a6a1b0d69e": {
      "model_module": "@jupyter-widgets/base",
      "model_module_version": "2.0.0",
      "model_name": "LayoutModel",
      "state": {}
     },
     "e318ae1051de4b01abb5d0452bf19823": {
      "model_module": "@jupyter-widgets/controls",
      "model_module_version": "2.0.0",
      "model_name": "ButtonModel",
      "state": {
       "description": "Translate",
       "icon": "check",
       "layout": "IPY_MODEL_1dfb1144605549ee80d4be371a2bf54b",
       "style": "IPY_MODEL_32efe7e28f78453bb4477dc4d2d98e70",
       "tooltip": null
      }
     },
     "e3255c2cb1a74bddae1b0954a8a87e77": {
      "model_module": "@jupyter-widgets/controls",
      "model_module_version": "2.0.0",
      "model_name": "FloatProgressModel",
      "state": {
       "bar_style": "danger",
       "layout": "IPY_MODEL_be5f2bc864f548faa89218da3650c474",
       "max": 7193290147,
       "style": "IPY_MODEL_9ea66902cae045e78d0b5d8d5597bdf3",
       "value": 69310464
      }
     },
     "e3614906cbd04988acba01ace74dbad4": {
      "model_module": "@jupyter-widgets/controls",
      "model_module_version": "2.0.0",
      "model_name": "DescriptionStyleModel",
      "state": {
       "description_width": ""
      }
     },
     "e3a6986f28fc43b2920fd4b735c9923c": {
      "model_module": "@jupyter-widgets/controls",
      "model_module_version": "2.0.0",
      "model_name": "TextareaModel",
      "state": {
       "description": "Output",
       "layout": "IPY_MODEL_9b6e5dc0d4fe418d8045cd4a17d68f40",
       "placeholder": "Translated sentence",
       "style": "IPY_MODEL_f8bf1190fa5a4f16b16383bfd06e6dca",
       "value": "Instruction: translate English to Spanish \nInput: \"I am a student\" \nOutput: \"Yo soy un estudiante\"\nMy code in English to Spanish Translator is\ndef translateEnglishToSpanish(inputString):\n\n    # Translate"
      }
     },
     "e48554743c46429998b24b7f482a6274": {
      "model_module": "@jupyter-widgets/controls",
      "model_module_version": "2.0.0",
      "model_name": "TextStyleModel",
      "state": {
       "description_width": "50px",
       "font_size": null,
       "text_color": null
      }
     },
     "e57cd74666e44d098e983319170f76bd": {
      "model_module": "@jupyter-widgets/base",
      "model_module_version": "2.0.0",
      "model_name": "LayoutModel",
      "state": {}
     },
     "e62e0f07f4c14418a0cd162c477be7c5": {
      "model_module": "@jupyter-widgets/base",
      "model_module_version": "2.0.0",
      "model_name": "LayoutModel",
      "state": {}
     },
     "e6ebd618eb7342058bd454ebe711b7a6": {
      "model_module": "@jupyter-widgets/base",
      "model_module_version": "2.0.0",
      "model_name": "LayoutModel",
      "state": {
       "grid_area": "widget004",
       "height": "100px",
       "width": "95%"
      }
     },
     "e78f7cfd5e6b4393a4bd52bfd91c0cd9": {
      "model_module": "@jupyter-widgets/controls",
      "model_module_version": "2.0.0",
      "model_name": "DescriptionStyleModel",
      "state": {
       "description_width": ""
      }
     },
     "eaaaf93a61d24042b3276e763a5300ff": {
      "model_module": "@jupyter-widgets/controls",
      "model_module_version": "2.0.0",
      "model_name": "DescriptionStyleModel",
      "state": {
       "description_width": ""
      }
     },
     "ed20ea0e358040118f63dbac0660ab2b": {
      "model_module": "@jupyter-widgets/controls",
      "model_module_version": "2.0.0",
      "model_name": "HTMLModel",
      "state": {
       "layout": "IPY_MODEL_872c8c776b4e420ebdc557e58464e409",
       "style": "IPY_MODEL_8ec28a8cdc0a4263b3f285d669deeeaa",
       "value": " 155M/6.70G [03:22&lt;08:30, 13.8MB/s]"
      }
     },
     "edbc9575a03b428c823e9c470d3476ba": {
      "model_module": "@jupyter-widgets/controls",
      "model_module_version": "2.0.0",
      "model_name": "FloatProgressModel",
      "state": {
       "bar_style": "success",
       "layout": "IPY_MODEL_5774ac0228ca4a32b1575071b093f650",
       "max": 63701,
       "style": "IPY_MODEL_fe1cf438a485476ea4e9322ddefcfa43",
       "value": 63701
      }
     },
     "ee5b4f1ef575494e93edc912fa6087a6": {
      "model_module": "@jupyter-widgets/base",
      "model_module_version": "2.0.0",
      "model_name": "LayoutModel",
      "state": {}
     },
     "eecd2659a30d481f82dc59d4cfb82a37": {
      "model_module": "@jupyter-widgets/base",
      "model_module_version": "2.0.0",
      "model_name": "LayoutModel",
      "state": {}
     },
     "eed1232419904990b3b5d1bfc6deab8c": {
      "model_module": "@jupyter-widgets/controls",
      "model_module_version": "2.0.0",
      "model_name": "FloatProgressModel",
      "state": {
       "layout": "IPY_MODEL_3e665fdbf3ca4e8aa2031b71b3236eb2",
       "max": 7193290147,
       "style": "IPY_MODEL_4c51149cd9dc4fe4a31bba5f51acb10d",
       "value": 170480640
      }
     },
     "efceec34a7b24ee6b82c48f34196a79c": {
      "model_module": "@jupyter-widgets/base",
      "model_module_version": "2.0.0",
      "model_name": "LayoutModel",
      "state": {}
     },
     "f06f0442560f4818b3df7ba3d8b248b8": {
      "model_module": "@jupyter-widgets/controls",
      "model_module_version": "2.0.0",
      "model_name": "DescriptionStyleModel",
      "state": {
       "description_width": "initial"
      }
     },
     "f39b73a8cc194f2f8edeca3a18e53055": {
      "model_module": "@jupyter-widgets/controls",
      "model_module_version": "2.0.0",
      "model_name": "HTMLModel",
      "state": {
       "layout": "IPY_MODEL_ca35e145455e4b99874830dde49c3f4d",
       "style": "IPY_MODEL_f840e1e8da7c4d3da371faa9d459d4d8",
       "value": " 62.2k/62.2k [00:00&lt;00:00, 160kB/s]"
      }
     },
     "f635c00a05d746c0a37c2a22608d9cc6": {
      "model_module": "@jupyter-widgets/controls",
      "model_module_version": "2.0.0",
      "model_name": "HTMLModel",
      "state": {
       "layout": "IPY_MODEL_de2a95e8d7d947cfa68d33014981b7d9",
       "style": "IPY_MODEL_a9fedff0b2204873b7de765d0fc19d34",
       "value": " 222/222 [00:00&lt;00:00, 13.1kB/s]"
      }
     },
     "f64b1db0e00b409d923876ad0669e0a7": {
      "model_module": "@jupyter-widgets/controls",
      "model_module_version": "2.0.0",
      "model_name": "HTMLModel",
      "state": {
       "layout": "IPY_MODEL_e62e0f07f4c14418a0cd162c477be7c5",
       "style": "IPY_MODEL_35ab56c8cf124e1ea388aeb6a6bf611f",
       "value": "Downloading pytorch_model.bin.index.json: 100%"
      }
     },
     "f743ab34fe314b8a9d4e6d590e645b26": {
      "model_module": "@jupyter-widgets/controls",
      "model_module_version": "2.0.0",
      "model_name": "DescriptionStyleModel",
      "state": {
       "description_width": ""
      }
     },
     "f7c0ff48b0054f44b1f73b23b42929ba": {
      "model_module": "@jupyter-widgets/controls",
      "model_module_version": "2.0.0",
      "model_name": "DescriptionStyleModel",
      "state": {
       "description_width": ""
      }
     },
     "f840e1e8da7c4d3da371faa9d459d4d8": {
      "model_module": "@jupyter-widgets/controls",
      "model_module_version": "2.0.0",
      "model_name": "DescriptionStyleModel",
      "state": {
       "description_width": ""
      }
     },
     "f8bf1190fa5a4f16b16383bfd06e6dca": {
      "model_module": "@jupyter-widgets/controls",
      "model_module_version": "2.0.0",
      "model_name": "TextStyleModel",
      "state": {
       "description_width": "50px",
       "font_size": null,
       "text_color": null
      }
     },
     "f946ebeabc114db7acd0603dd73ba622": {
      "model_module": "@jupyter-widgets/controls",
      "model_module_version": "2.0.0",
      "model_name": "DescriptionStyleModel",
      "state": {
       "description_width": "initial"
      }
     },
     "f948765b124545db83e20e2c9b0db6e6": {
      "model_module": "@jupyter-widgets/controls",
      "model_module_version": "2.0.0",
      "model_name": "HTMLModel",
      "state": {
       "layout": "IPY_MODEL_efceec34a7b24ee6b82c48f34196a79c",
       "style": "IPY_MODEL_75e0f19b3abf49049d0098fc5eb8fa42",
       "value": "Downloading pytorch_model_00001-of-00072.bin:   1%"
      }
     },
     "f97b177422a24f97ad701d82eda48733": {
      "model_module": "@jupyter-widgets/controls",
      "model_module_version": "2.0.0",
      "model_name": "TextStyleModel",
      "state": {
       "description_width": "50px",
       "font_size": null,
       "text_color": null
      }
     },
     "f9e325431df049be855ba5cbfd61b4e0": {
      "model_module": "@jupyter-widgets/controls",
      "model_module_version": "2.0.0",
      "model_name": "DescriptionStyleModel",
      "state": {
       "description_width": ""
      }
     },
     "fb4864a5e8354061af42efc99834d0e1": {
      "model_module": "@jupyter-widgets/controls",
      "model_module_version": "2.0.0",
      "model_name": "TextareaModel",
      "state": {
       "description": "Output",
       "layout": "IPY_MODEL_bdb59e97f1104635bc1b94f00b7a202d",
       "placeholder": "Translated sentence",
       "style": "IPY_MODEL_26429b73bdaa4174bcc64601e6e58558"
      }
     },
     "fbda30ec61cc42ac9da3240ac9b070a6": {
      "model_module": "@jupyter-widgets/base",
      "model_module_version": "2.0.0",
      "model_name": "LayoutModel",
      "state": {}
     },
     "fc093097005f4262895b079a6be2db8c": {
      "model_module": "@jupyter-widgets/base",
      "model_module_version": "2.0.0",
      "model_name": "LayoutModel",
      "state": {}
     },
     "fe1cf438a485476ea4e9322ddefcfa43": {
      "model_module": "@jupyter-widgets/controls",
      "model_module_version": "2.0.0",
      "model_name": "ProgressStyleModel",
      "state": {
       "description_width": ""
      }
     }
    },
    "version_major": 2,
    "version_minor": 0
   }
  }
 },
 "nbformat": 4,
 "nbformat_minor": 5
}
