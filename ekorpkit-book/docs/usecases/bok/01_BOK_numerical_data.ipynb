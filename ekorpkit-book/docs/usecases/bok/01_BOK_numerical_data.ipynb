{
 "cells": [
  {
   "cell_type": "markdown",
   "metadata": {
    "pycharm": {
     "name": "#%% md\n"
    }
   },
   "source": [
    "# Preparing Numerical Data"
   ]
  },
  {
   "cell_type": "markdown",
   "metadata": {
    "pycharm": {
     "name": "#%% md\n"
    }
   },
   "source": [
    "```{note}\n",
    "Install ekorpkit package first.\n",
    "Set logging level to Warning, if you don't want to see verbose logging,\n",
    "```"
   ]
  },
  {
   "cell_type": "code",
   "execution_count": 1,
   "metadata": {
    "pycharm": {
     "name": "#%%\n"
    }
   },
   "outputs": [
    {
     "name": "stderr",
     "output_type": "stream",
     "text": [
      "INFO:ekorpkit.base:Google Colab not detected.\n"
     ]
    },
    {
     "name": "stdout",
     "output_type": "stream",
     "text": [
      "version: 0.1.38+7.g02e18c8.dirty\n",
      "is notebook? True\n",
      "is colab? False\n",
      "environment variables:\n",
      "{'CUDA_DEVICE_ORDER': None,\n",
      " 'CUDA_VISIBLE_DEVICES': None,\n",
      " 'EKORPKIT_CONFIG_DIR': '/workspace/projects/ekorpkit-book/config',\n",
      " 'EKORPKIT_DATA_DIR': None,\n",
      " 'EKORPKIT_LOG_LEVEL': 'INFO',\n",
      " 'EKORPKIT_PROJECT': 'ekorpkit-book',\n",
      " 'EKORPKIT_WORKSPACE_ROOT': '/workspace',\n",
      " 'KMP_DUPLICATE_LIB_OK': 'TRUE',\n",
      " 'NUM_WORKERS': 230}\n"
     ]
    }
   ],
   "source": [
    "# %config InlineBackend.figure_format='retina'\n",
    "from ekorpkit import eKonf\n",
    "\n",
    "eKonf.setLogger(\"INFO\")\n",
    "print(\"version:\", eKonf.__version__)\n",
    "print(\"is notebook?\", eKonf.is_notebook())\n",
    "print(\"is colab?\", eKonf.is_colab())\n",
    "print(\"environment variables:\")\n",
    "eKonf.print(eKonf.env().dict())"
   ]
  },
  {
   "cell_type": "code",
   "execution_count": 2,
   "metadata": {
    "pycharm": {
     "name": "#%%\n"
    }
   },
   "outputs": [],
   "source": [
    "data_dir = \"../data/bok\""
   ]
  },
  {
   "cell_type": "markdown",
   "metadata": {
    "pycharm": {
     "name": "#%% md\n"
    }
   },
   "source": [
    "## Load ECOS class"
   ]
  },
  {
   "cell_type": "code",
   "execution_count": 3,
   "metadata": {
    "pycharm": {
     "name": "#%%\n"
    }
   },
   "outputs": [
    {
     "name": "stderr",
     "output_type": "stream",
     "text": [
      "INFO:ekorpkit.base:Loaded .env from /workspace/projects/ekorpkit-book/config/.env\n",
      "INFO:ekorpkit.base:setting environment variable CACHED_PATH_CACHE_ROOT to /workspace/.cache/cached_path\n",
      "INFO:ekorpkit.base:setting environment variable KMP_DUPLICATE_LIB_OK to TRUE\n"
     ]
    },
    {
     "name": "stdout",
     "output_type": "stream",
     "text": [
      "<ekorpkit.io.fetch.ecos.ECOS object at 0x7fb2c839e1c0>\n"
     ]
    }
   ],
   "source": [
    "cfg = eKonf.compose(\"io/fetcher=ecos\")\n",
    "cfg.auto.load = False\n",
    "ecos = eKonf.instantiate(cfg)\n",
    "print(ecos)"
   ]
  },
  {
   "cell_type": "code",
   "execution_count": 4,
   "metadata": {
    "collapsed": false,
    "pycharm": {
     "name": "#%%\n"
    }
   },
   "outputs": [],
   "source": [
    "stat_code = \"601Y002\""
   ]
  },
  {
   "cell_type": "code",
   "execution_count": 17,
   "metadata": {
    "collapsed": false,
    "pycharm": {
     "name": "#%%\n"
    }
   },
   "outputs": [
    {
     "data": {
      "text/plain": [
       "{'StatisticItemList': {'list_total_count': 61,\n",
       "  'row': [{'STAT_CODE': '601Y002',\n",
       "    'STAT_NAME': '7.5.2. 지역별 소비유형별 개인 신용카드',\n",
       "    'GRP_CODE': 'Group1',\n",
       "    'GRP_NAME': '지역코드',\n",
       "    'ITEM_CODE': 'A',\n",
       "    'ITEM_NAME': '서울',\n",
       "    'P_ITEM_CODE': None,\n",
       "    'P_ITEM_NAME': None,\n",
       "    'CYCLE': 'M',\n",
       "    'START_TIME': '200912',\n",
       "    'END_TIME': '202204',\n",
       "    'DATA_CNT': 12218,\n",
       "    'WEIGHT': None},\n",
       "   {'STAT_CODE': '601Y002',\n",
       "    'STAT_NAME': '7.5.2. 지역별 소비유형별 개인 신용카드',\n",
       "    'GRP_CODE': 'Group1',\n",
       "    'GRP_NAME': '지역코드',\n",
       "    'ITEM_CODE': 'B',\n",
       "    'ITEM_NAME': '부산',\n",
       "    'P_ITEM_CODE': None,\n",
       "    'P_ITEM_NAME': None,\n",
       "    'CYCLE': 'M',\n",
       "    'START_TIME': '200912',\n",
       "    'END_TIME': '202204',\n",
       "    'DATA_CNT': 12218,\n",
       "    'WEIGHT': None},\n",
       "   {'STAT_CODE': '601Y002',\n",
       "    'STAT_NAME': '7.5.2. 지역별 소비유형별 개인 신용카드',\n",
       "    'GRP_CODE': 'Group1',\n",
       "    'GRP_NAME': '지역코드',\n",
       "    'ITEM_CODE': 'C',\n",
       "    'ITEM_NAME': '대구',\n",
       "    'P_ITEM_CODE': None,\n",
       "    'P_ITEM_NAME': None,\n",
       "    'CYCLE': 'M',\n",
       "    'START_TIME': '200912',\n",
       "    'END_TIME': '202204',\n",
       "    'DATA_CNT': 12218,\n",
       "    'WEIGHT': None},\n",
       "   {'STAT_CODE': '601Y002',\n",
       "    'STAT_NAME': '7.5.2. 지역별 소비유형별 개인 신용카드',\n",
       "    'GRP_CODE': 'Group1',\n",
       "    'GRP_NAME': '지역코드',\n",
       "    'ITEM_CODE': 'D',\n",
       "    'ITEM_NAME': '인천',\n",
       "    'P_ITEM_CODE': None,\n",
       "    'P_ITEM_NAME': None,\n",
       "    'CYCLE': 'M',\n",
       "    'START_TIME': '200912',\n",
       "    'END_TIME': '202204',\n",
       "    'DATA_CNT': 12218,\n",
       "    'WEIGHT': None},\n",
       "   {'STAT_CODE': '601Y002',\n",
       "    'STAT_NAME': '7.5.2. 지역별 소비유형별 개인 신용카드',\n",
       "    'GRP_CODE': 'Group1',\n",
       "    'GRP_NAME': '지역코드',\n",
       "    'ITEM_CODE': 'E',\n",
       "    'ITEM_NAME': '광주',\n",
       "    'P_ITEM_CODE': None,\n",
       "    'P_ITEM_NAME': None,\n",
       "    'CYCLE': 'M',\n",
       "    'START_TIME': '200912',\n",
       "    'END_TIME': '202204',\n",
       "    'DATA_CNT': 12218,\n",
       "    'WEIGHT': None},\n",
       "   {'STAT_CODE': '601Y002',\n",
       "    'STAT_NAME': '7.5.2. 지역별 소비유형별 개인 신용카드',\n",
       "    'GRP_CODE': 'Group1',\n",
       "    'GRP_NAME': '지역코드',\n",
       "    'ITEM_CODE': 'F',\n",
       "    'ITEM_NAME': '대전',\n",
       "    'P_ITEM_CODE': None,\n",
       "    'P_ITEM_NAME': None,\n",
       "    'CYCLE': 'M',\n",
       "    'START_TIME': '200912',\n",
       "    'END_TIME': '202204',\n",
       "    'DATA_CNT': 12218,\n",
       "    'WEIGHT': None},\n",
       "   {'STAT_CODE': '601Y002',\n",
       "    'STAT_NAME': '7.5.2. 지역별 소비유형별 개인 신용카드',\n",
       "    'GRP_CODE': 'Group1',\n",
       "    'GRP_NAME': '지역코드',\n",
       "    'ITEM_CODE': 'G',\n",
       "    'ITEM_NAME': '울산',\n",
       "    'P_ITEM_CODE': None,\n",
       "    'P_ITEM_NAME': None,\n",
       "    'CYCLE': 'M',\n",
       "    'START_TIME': '200912',\n",
       "    'END_TIME': '202204',\n",
       "    'DATA_CNT': 12218,\n",
       "    'WEIGHT': None},\n",
       "   {'STAT_CODE': '601Y002',\n",
       "    'STAT_NAME': '7.5.2. 지역별 소비유형별 개인 신용카드',\n",
       "    'GRP_CODE': 'Group1',\n",
       "    'GRP_NAME': '지역코드',\n",
       "    'ITEM_CODE': 'L',\n",
       "    'ITEM_NAME': '경기',\n",
       "    'P_ITEM_CODE': None,\n",
       "    'P_ITEM_NAME': None,\n",
       "    'CYCLE': 'M',\n",
       "    'START_TIME': '200912',\n",
       "    'END_TIME': '202204',\n",
       "    'DATA_CNT': 12218,\n",
       "    'WEIGHT': None},\n",
       "   {'STAT_CODE': '601Y002',\n",
       "    'STAT_NAME': '7.5.2. 지역별 소비유형별 개인 신용카드',\n",
       "    'GRP_CODE': 'Group1',\n",
       "    'GRP_NAME': '지역코드',\n",
       "    'ITEM_CODE': 'M',\n",
       "    'ITEM_NAME': '강원',\n",
       "    'P_ITEM_CODE': None,\n",
       "    'P_ITEM_NAME': None,\n",
       "    'CYCLE': 'M',\n",
       "    'START_TIME': '200912',\n",
       "    'END_TIME': '202204',\n",
       "    'DATA_CNT': 12218,\n",
       "    'WEIGHT': None},\n",
       "   {'STAT_CODE': '601Y002',\n",
       "    'STAT_NAME': '7.5.2. 지역별 소비유형별 개인 신용카드',\n",
       "    'GRP_CODE': 'Group1',\n",
       "    'GRP_NAME': '지역코드',\n",
       "    'ITEM_CODE': 'N',\n",
       "    'ITEM_NAME': '충북',\n",
       "    'P_ITEM_CODE': None,\n",
       "    'P_ITEM_NAME': None,\n",
       "    'CYCLE': 'M',\n",
       "    'START_TIME': '200912',\n",
       "    'END_TIME': '202204',\n",
       "    'DATA_CNT': 12218,\n",
       "    'WEIGHT': None}]}}"
      ]
     },
     "execution_count": 17,
     "metadata": {},
     "output_type": "execute_result"
    }
   ],
   "source": [
    "import json\n",
    "\n",
    "rst = ecos.get_ecos(\n",
    "    service=\"StatisticItemList\",\n",
    "    stat_code=stat_code,\n",
    "    cycle=\"M\",\n",
    "    start_date=\"200912\",\n",
    "    end_date=\"202204\",\n",
    ")\n",
    "rst = json.loads(rst)\n",
    "\n",
    "rst"
   ]
  },
  {
   "cell_type": "code",
   "execution_count": 16,
   "metadata": {},
   "outputs": [
    {
     "data": {
      "text/html": [
       "<div>\n",
       "<style scoped>\n",
       "    .dataframe tbody tr th:only-of-type {\n",
       "        vertical-align: middle;\n",
       "    }\n",
       "\n",
       "    .dataframe tbody tr th {\n",
       "        vertical-align: top;\n",
       "    }\n",
       "\n",
       "    .dataframe thead th {\n",
       "        text-align: right;\n",
       "    }\n",
       "</style>\n",
       "<table border=\"1\" class=\"dataframe\">\n",
       "  <thead>\n",
       "    <tr style=\"text-align: right;\">\n",
       "      <th></th>\n",
       "      <th>STAT_CODE</th>\n",
       "      <th>STAT_NAME</th>\n",
       "      <th>GRP_CODE</th>\n",
       "      <th>GRP_NAME</th>\n",
       "      <th>ITEM_CODE</th>\n",
       "      <th>ITEM_NAME</th>\n",
       "      <th>P_ITEM_CODE</th>\n",
       "      <th>P_ITEM_NAME</th>\n",
       "      <th>CYCLE</th>\n",
       "      <th>START_TIME</th>\n",
       "      <th>END_TIME</th>\n",
       "      <th>DATA_CNT</th>\n",
       "      <th>WEIGHT</th>\n",
       "    </tr>\n",
       "  </thead>\n",
       "  <tbody>\n",
       "    <tr>\n",
       "      <th>0</th>\n",
       "      <td>601Y002</td>\n",
       "      <td>7.5.2. 지역별 소비유형별 개인 신용카드</td>\n",
       "      <td>Group1</td>\n",
       "      <td>지역코드</td>\n",
       "      <td>A</td>\n",
       "      <td>서울</td>\n",
       "      <td>None</td>\n",
       "      <td>None</td>\n",
       "      <td>M</td>\n",
       "      <td>200912</td>\n",
       "      <td>202204</td>\n",
       "      <td>12218</td>\n",
       "      <td>None</td>\n",
       "    </tr>\n",
       "    <tr>\n",
       "      <th>1</th>\n",
       "      <td>601Y002</td>\n",
       "      <td>7.5.2. 지역별 소비유형별 개인 신용카드</td>\n",
       "      <td>Group1</td>\n",
       "      <td>지역코드</td>\n",
       "      <td>B</td>\n",
       "      <td>부산</td>\n",
       "      <td>None</td>\n",
       "      <td>None</td>\n",
       "      <td>M</td>\n",
       "      <td>200912</td>\n",
       "      <td>202204</td>\n",
       "      <td>12218</td>\n",
       "      <td>None</td>\n",
       "    </tr>\n",
       "    <tr>\n",
       "      <th>2</th>\n",
       "      <td>601Y002</td>\n",
       "      <td>7.5.2. 지역별 소비유형별 개인 신용카드</td>\n",
       "      <td>Group1</td>\n",
       "      <td>지역코드</td>\n",
       "      <td>C</td>\n",
       "      <td>대구</td>\n",
       "      <td>None</td>\n",
       "      <td>None</td>\n",
       "      <td>M</td>\n",
       "      <td>200912</td>\n",
       "      <td>202204</td>\n",
       "      <td>12218</td>\n",
       "      <td>None</td>\n",
       "    </tr>\n",
       "    <tr>\n",
       "      <th>3</th>\n",
       "      <td>601Y002</td>\n",
       "      <td>7.5.2. 지역별 소비유형별 개인 신용카드</td>\n",
       "      <td>Group1</td>\n",
       "      <td>지역코드</td>\n",
       "      <td>D</td>\n",
       "      <td>인천</td>\n",
       "      <td>None</td>\n",
       "      <td>None</td>\n",
       "      <td>M</td>\n",
       "      <td>200912</td>\n",
       "      <td>202204</td>\n",
       "      <td>12218</td>\n",
       "      <td>None</td>\n",
       "    </tr>\n",
       "    <tr>\n",
       "      <th>4</th>\n",
       "      <td>601Y002</td>\n",
       "      <td>7.5.2. 지역별 소비유형별 개인 신용카드</td>\n",
       "      <td>Group1</td>\n",
       "      <td>지역코드</td>\n",
       "      <td>E</td>\n",
       "      <td>광주</td>\n",
       "      <td>None</td>\n",
       "      <td>None</td>\n",
       "      <td>M</td>\n",
       "      <td>200912</td>\n",
       "      <td>202204</td>\n",
       "      <td>12218</td>\n",
       "      <td>None</td>\n",
       "    </tr>\n",
       "    <tr>\n",
       "      <th>5</th>\n",
       "      <td>601Y002</td>\n",
       "      <td>7.5.2. 지역별 소비유형별 개인 신용카드</td>\n",
       "      <td>Group1</td>\n",
       "      <td>지역코드</td>\n",
       "      <td>F</td>\n",
       "      <td>대전</td>\n",
       "      <td>None</td>\n",
       "      <td>None</td>\n",
       "      <td>M</td>\n",
       "      <td>200912</td>\n",
       "      <td>202204</td>\n",
       "      <td>12218</td>\n",
       "      <td>None</td>\n",
       "    </tr>\n",
       "    <tr>\n",
       "      <th>6</th>\n",
       "      <td>601Y002</td>\n",
       "      <td>7.5.2. 지역별 소비유형별 개인 신용카드</td>\n",
       "      <td>Group1</td>\n",
       "      <td>지역코드</td>\n",
       "      <td>G</td>\n",
       "      <td>울산</td>\n",
       "      <td>None</td>\n",
       "      <td>None</td>\n",
       "      <td>M</td>\n",
       "      <td>200912</td>\n",
       "      <td>202204</td>\n",
       "      <td>12218</td>\n",
       "      <td>None</td>\n",
       "    </tr>\n",
       "    <tr>\n",
       "      <th>7</th>\n",
       "      <td>601Y002</td>\n",
       "      <td>7.5.2. 지역별 소비유형별 개인 신용카드</td>\n",
       "      <td>Group1</td>\n",
       "      <td>지역코드</td>\n",
       "      <td>L</td>\n",
       "      <td>경기</td>\n",
       "      <td>None</td>\n",
       "      <td>None</td>\n",
       "      <td>M</td>\n",
       "      <td>200912</td>\n",
       "      <td>202204</td>\n",
       "      <td>12218</td>\n",
       "      <td>None</td>\n",
       "    </tr>\n",
       "    <tr>\n",
       "      <th>8</th>\n",
       "      <td>601Y002</td>\n",
       "      <td>7.5.2. 지역별 소비유형별 개인 신용카드</td>\n",
       "      <td>Group1</td>\n",
       "      <td>지역코드</td>\n",
       "      <td>M</td>\n",
       "      <td>강원</td>\n",
       "      <td>None</td>\n",
       "      <td>None</td>\n",
       "      <td>M</td>\n",
       "      <td>200912</td>\n",
       "      <td>202204</td>\n",
       "      <td>12218</td>\n",
       "      <td>None</td>\n",
       "    </tr>\n",
       "    <tr>\n",
       "      <th>9</th>\n",
       "      <td>601Y002</td>\n",
       "      <td>7.5.2. 지역별 소비유형별 개인 신용카드</td>\n",
       "      <td>Group1</td>\n",
       "      <td>지역코드</td>\n",
       "      <td>N</td>\n",
       "      <td>충북</td>\n",
       "      <td>None</td>\n",
       "      <td>None</td>\n",
       "      <td>M</td>\n",
       "      <td>200912</td>\n",
       "      <td>202204</td>\n",
       "      <td>12218</td>\n",
       "      <td>None</td>\n",
       "    </tr>\n",
       "  </tbody>\n",
       "</table>\n",
       "</div>"
      ],
      "text/plain": [
       "  STAT_CODE                 STAT_NAME GRP_CODE GRP_NAME ITEM_CODE ITEM_NAME  \\\n",
       "0   601Y002  7.5.2. 지역별 소비유형별 개인 신용카드   Group1     지역코드         A        서울   \n",
       "1   601Y002  7.5.2. 지역별 소비유형별 개인 신용카드   Group1     지역코드         B        부산   \n",
       "2   601Y002  7.5.2. 지역별 소비유형별 개인 신용카드   Group1     지역코드         C        대구   \n",
       "3   601Y002  7.5.2. 지역별 소비유형별 개인 신용카드   Group1     지역코드         D        인천   \n",
       "4   601Y002  7.5.2. 지역별 소비유형별 개인 신용카드   Group1     지역코드         E        광주   \n",
       "5   601Y002  7.5.2. 지역별 소비유형별 개인 신용카드   Group1     지역코드         F        대전   \n",
       "6   601Y002  7.5.2. 지역별 소비유형별 개인 신용카드   Group1     지역코드         G        울산   \n",
       "7   601Y002  7.5.2. 지역별 소비유형별 개인 신용카드   Group1     지역코드         L        경기   \n",
       "8   601Y002  7.5.2. 지역별 소비유형별 개인 신용카드   Group1     지역코드         M        강원   \n",
       "9   601Y002  7.5.2. 지역별 소비유형별 개인 신용카드   Group1     지역코드         N        충북   \n",
       "\n",
       "  P_ITEM_CODE P_ITEM_NAME CYCLE START_TIME END_TIME  DATA_CNT WEIGHT  \n",
       "0        None        None     M     200912   202204     12218   None  \n",
       "1        None        None     M     200912   202204     12218   None  \n",
       "2        None        None     M     200912   202204     12218   None  \n",
       "3        None        None     M     200912   202204     12218   None  \n",
       "4        None        None     M     200912   202204     12218   None  \n",
       "5        None        None     M     200912   202204     12218   None  \n",
       "6        None        None     M     200912   202204     12218   None  \n",
       "7        None        None     M     200912   202204     12218   None  \n",
       "8        None        None     M     200912   202204     12218   None  \n",
       "9        None        None     M     200912   202204     12218   None  "
      ]
     },
     "execution_count": 16,
     "metadata": {},
     "output_type": "execute_result"
    }
   ],
   "source": [
    "import pandas as pd\n",
    "\n",
    "df = pd.DataFrame(rst[\"StatisticItemList\"][\"row\"])\n",
    "df"
   ]
  },
  {
   "cell_type": "code",
   "execution_count": 6,
   "metadata": {
    "collapsed": false,
    "pycharm": {
     "name": "#%%\n"
    }
   },
   "outputs": [
    {
     "data": {
      "text/plain": [
       "'{\"StatisticWord\":{\"list_total_count\":1,\"row\":[{\"WORD\":\"소비자동향지수\",\"CONTENT\":\"소비자들이 느끼는 경기, 소비지출계획, 생활형편 등 경제에 대한 전반적인 인식을 조사하여 지수화함으로써 소비 및 경기를 파악하는 지표로 활용된다. 소비자동향지수는 1964년 미국 미시간대학이 최초로 작성하였으며 그 이후 우리나라를 비롯한 세계 각국에서 편제하여 공표하고 있다. 한국은행의 소비자동향지수는 매월 초～중순에 걸쳐 조사하여 하순에 결과를 발표하고 있다. \"}]}}'"
      ]
     },
     "execution_count": 6,
     "metadata": {},
     "output_type": "execute_result"
    }
   ],
   "source": [
    "ecos.get_ecos(\n",
    "    service=\"StatisticWord\",\n",
    "    stat_code=\"소비자동향지수\",\n",
    "    cycle=\"M\",\n",
    "    start_date=\"\",\n",
    "    end_date=\"\",\n",
    ")"
   ]
  },
  {
   "cell_type": "code",
   "execution_count": null,
   "metadata": {
    "collapsed": false,
    "pycharm": {
     "name": "#%%\n"
    }
   },
   "outputs": [],
   "source": []
  }
 ],
 "metadata": {
  "interpreter": {
   "hash": "f869af7787e6a1c49e09e367fc6e1b81d93d1c6583b43249c80edc047bd13cb2"
  },
  "kernelspec": {
   "display_name": "Python 3 (ipykernel)",
   "language": "python",
   "name": "python3"
  },
  "language_info": {
   "codemirror_mode": {
    "name": "ipython",
    "version": 3
   },
   "file_extension": ".py",
   "mimetype": "text/x-python",
   "name": "python",
   "nbconvert_exporter": "python",
   "pygments_lexer": "ipython3",
   "version": "3.8.12"
  }
 },
 "nbformat": 4,
 "nbformat_minor": 2
}
