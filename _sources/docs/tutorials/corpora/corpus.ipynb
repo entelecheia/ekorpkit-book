{
 "cells": [
  {
   "cell_type": "markdown",
   "metadata": {
    "id": "cjgz1WTcPWee"
   },
   "source": [
    "# Build and Load Corpora"
   ]
  },
  {
   "cell_type": "code",
   "execution_count": 1,
   "metadata": {
    "id": "BzxPwsOVPWef"
   },
   "outputs": [
    {
     "name": "stdout",
     "output_type": "stream",
     "text": [
      "0.1.32+5.gb5b0acf.dirty\n"
     ]
    }
   ],
   "source": [
    "import logging\n",
    "from ekorpkit import eKonf\n",
    "\n",
    "logging.basicConfig(level=logging.WARNING)\n",
    "print(eKonf.__version__)"
   ]
  },
  {
   "cell_type": "markdown",
   "metadata": {
    "id": "it1Y0MVPXRsJ"
   },
   "source": [
    "## Build corpora with the ekorpkit configs"
   ]
  },
  {
   "cell_type": "code",
   "execution_count": 2,
   "metadata": {
    "colab": {
     "base_uri": "https://localhost:8080/",
     "height": 1000,
     "referenced_widgets": [
      "8c65a541b1424bc895a358ec8c2955d0",
      "a1f39c5fb6e14bba94948ceed945c48e",
      "df825e76b09f4b40b0f22abd96afd9ec",
      "f2ba1273dc964523a52c645113dc15dc",
      "cf589159b5844031b2c07a2941d6d767",
      "c73b1e574c6148a79e919619e5337b13",
      "c3d0d587372c4cb185f70e2106460913",
      "42bba043a42e4a408017fa0c58fc89b1",
      "eca5b19cb1a8472f9803e056dc2e3edf",
      "1eec65bd4a4f4ac3a141ebfc0abf2fd7",
      "3a91d7fbcbe94220bb5e5edc4592ea44",
      "c0249a1e6b094b28afb32aa4c8ee6241",
      "b406dade33294912b357909432006a6f",
      "466cf119d61544108f7e9fc2743f90f4",
      "895fc91e766a4c5098cef03f21722754",
      "d933287033b244eb878dd8272163edbd",
      "b6329b07e3c9478a9934f014d2586c8a",
      "147722c8b38e43f4a74a8cbc4ff80132",
      "94ade840d70c440b901f0fefca36b700",
      "bb38b9fad3f6491cb0e4f5e13a00f402",
      "6c34cf9978fd4a0ab092db70ba5ca133",
      "b530f744c9914640b388e2c9ca7164be",
      "7f49f945e79c49558b5c23e413670ca4",
      "ad250bac857e4ba191178ff7aa0f21c2",
      "76c77c45dc2146a887d1a05d05a2b07c",
      "1bb668c7534d435a9f0a55c6eafb3755",
      "c504bb84cc5c4e0a9d8f4f5715ec6a03",
      "52688fc848054b3da375b73185519df2",
      "6c105fb7575745968215abddfc42d3a4",
      "c465acff35ef43cd8aa029289509f801",
      "cdce198d7e584538987b33ed590860d3",
      "3971c7c442bc4ff0ae1148a75034e989",
      "5beee945b7ed485eb3f7c8193d9c696a",
      "92753dfdb5854e12bc66bdc60072b5a1",
      "beb1d40680394747b535f2bbbbff8d75",
      "d86836fe655f4097abfe4297b3c33f27",
      "8670c085406a45ba9dff599d8e1bcfa0",
      "c5f11d5c87964550aacd9b477f2791aa",
      "b6188d143588467e90daa1c230748456",
      "5bef610b5d5c43549f174794559298a6",
      "2e3a25b1cfa34d6fac3ce2e33831ce71",
      "83214c0e91004c57b95a17f72c9ade8e",
      "4ea44db70fc14d839ef1e36b262197f1",
      "d751a8dd2711494695545cd8309a9add",
      "5af5d75e48bb409bb0201ae9b4bcbc7a",
      "12d5551a754b4c32a714fa0fa25096a6",
      "bb6c2a38a0e147d1a73bd510d0af4f55",
      "74b643eb567b4e1baa2edeab5314bf74",
      "0cc33597c6624a2fadc0454f1347e245",
      "ea8f5b8623a4457aa5e7028bd47d8f7c",
      "5e6bf9b1fe4a4b20a892690140fd153b",
      "03468bd389d649b6a5376a225393d580",
      "4741f650996042a5822de55078e32aaf",
      "e5610d32b9434cfaad97c84dff963517",
      "747bd5269293486fa5610b5ef989ad1a",
      "0a251d38928746c1bc8e811676078c84",
      "92c9e23051b84ec5a44f4535d384ea3d",
      "745247540de84e14ad7513d479500175",
      "f59dc69320884fdebf3c128cac03d50c",
      "6d5547298c504706b47369159b47b387",
      "3f1fdfa3512c45cc93ee00d0d9a65864",
      "a4905ccd3b6948f6b9a43353c444a712",
      "6fadeb5ed8e94808b87e91a6272cfa53",
      "11475267a3ae4986b70c2282fd4a0723",
      "a83cdec6d8764baaa94eb719d94bf0cf",
      "64dcc52bf9af461d92d605f60da57c10",
      "de057a7427694ca391cde9f8244706cd",
      "d973cb22de8a4980a93e42e5b02ec1b5",
      "ee954aeeaaed48a7acaf05112897a74e",
      "1092b9c63f5c4e5fab04337f55d6272f",
      "42039657cac3411389b3103129f74c17",
      "b937fee33d684033bbf93af5c98fa59c",
      "6c3a5ec1a3ec45c789611d5820b0a97b",
      "9686d1ab402d436b90deabb87782ac28",
      "f403433bd62c42bf88cb4007300ab14f",
      "c766e4a1c63f43a3ab2803b71a05f675",
      "e6cbaaf738b44a8bb26cf5364322476d"
     ]
    },
    "id": "hEVpCETEPWeg",
    "outputId": "f544db07-b0be-4c52-ed74-15de18f741ef"
   },
   "outputs": [
    {
     "name": "stdout",
     "output_type": "stream",
     "text": [
      "{'_target_': 'ekorpkit.corpora.build.DatasetBuilder',\n",
      " 'auto': {'load': True},\n",
      " 'category': 'formal',\n",
      " 'column_info': {'columns': {'id': 'id',\n",
      "                             'merge_meta_on': None,\n",
      "                             'text': 'text',\n",
      "                             'timestamp': None},\n",
      "                 'data': {'id': 'int', 'text': 'str'},\n",
      "                 'datetime': {'_parms_': None, 'columns': None, 'format': None},\n",
      "                 'keys': {'id': 'id',\n",
      "                          'split': 'split',\n",
      "                          'text': 'text',\n",
      "                          'timestamp': 'timestamp'},\n",
      "                 'meta': {'filename': 'str',\n",
      "                          'id': 'int',\n",
      "                          'mdate': 'str',\n",
      "                          'rdate': 'str'},\n",
      "                 'segment_separator': '\\\\n\\\\n',\n",
      "                 'sentence_separator': '\\\\n',\n",
      "                 'timestamp': {'_parms_': None, 'format': None, 'key': None}},\n",
      " 'data_dir': '../data/bok_minutes',\n",
      " 'description': 'BOK Minutes Corpus',\n",
      " 'domain': 'econ',\n",
      " 'filetype': '.parquet',\n",
      " 'fullname': 'BOK MPB Minutes',\n",
      " 'homepage': 'https://www.bok.or.kr',\n",
      " 'info': {'_target_': 'ekorpkit.info.stat.SummaryInfo',\n",
      "          'aggregate_info': {'num_bytes_before_processing': 'num_bytes_before_processing',\n",
      "                             'num_docs': 'num_docs',\n",
      "                             'num_docs_before_processing': 'num_docs_before_processing',\n",
      "                             'num_segments': 'num_segments',\n",
      "                             'num_sents': 'num_sents',\n",
      "                             'num_words': 'num_words',\n",
      "                             'size_in_bytes': 'num_bytes'},\n",
      "          'data_dir': '../data/bok_minutes',\n",
      "          'info_file': 'info-bok_minutes.yaml',\n",
      "          'info_list': ['name',\n",
      "                        'fullname',\n",
      "                        'lang',\n",
      "                        'category',\n",
      "                        'short_description',\n",
      "                        'description',\n",
      "                        'license',\n",
      "                        'homepage',\n",
      "                        'version',\n",
      "                        'num_docs',\n",
      "                        'num_docs_before_processing',\n",
      "                        'num_segments',\n",
      "                        'num_sents',\n",
      "                        'num_words',\n",
      "                        'size_in_bytes',\n",
      "                        'num_bytes_before_processing',\n",
      "                        'size_in_human_bytes',\n",
      "                        'data_files_modified',\n",
      "                        'meta_files_modified',\n",
      "                        'info_updated',\n",
      "                        'data_files',\n",
      "                        'meta_files',\n",
      "                        'column_info'],\n",
      "          'key_columns': None,\n",
      "          'modified_info': {'data_files_modified': 'data_file',\n",
      "                            'meta_files_modified': 'meta_file'},\n",
      "          'name': 'bok_minutes',\n",
      "          'stat_before_processing': {'agg_funcs': {'num_bytes': ['count',\n",
      "                                                                 'sum'],\n",
      "                                                   'num_sents': ['sum']},\n",
      "                                     'convert_to_humanbytes': None,\n",
      "                                     'num_columns': {'num_bytes': 'len_bytes',\n",
      "                                                     'num_sents': 'len_sents'},\n",
      "                                     'rename_columns': {'num_bytes_count': 'num_docs_before_processing',\n",
      "                                                        'num_bytes_sum': 'num_bytes_before_processing',\n",
      "                                                        'num_sents_sum': 'num_sents'}},\n",
      "          'stats': {'_func_': {'len_bytes': {'_partial_': True,\n",
      "                                             '_target_': 'ekorpkit.utils.func.len_bytes'},\n",
      "                               'len_segments': {'_partial_': True,\n",
      "                                                '_target_': 'ekorpkit.utils.func.len_segments',\n",
      "                                                'sep': '\\\\n\\\\n'},\n",
      "                               'len_sents': {'_partial_': True,\n",
      "                                             '_target_': 'ekorpkit.utils.func.len_sents',\n",
      "                                             'sep': '\\\\n'},\n",
      "                               'len_words': {'_partial_': True,\n",
      "                                             '_target_': 'ekorpkit.utils.func.len_words'},\n",
      "                               'len_wospc': {'_partial_': True,\n",
      "                                             '_target_': 'ekorpkit.utils.func.len_wospc'}},\n",
      "                    '_partial_': True,\n",
      "                    '_target_': 'ekorpkit.info.stat.summary_stats',\n",
      "                    'agg_funcs': {'num_bytes': ['count',\n",
      "                                                'sum',\n",
      "                                                'median',\n",
      "                                                'max',\n",
      "                                                'min'],\n",
      "                                  'num_bytes_wospc': ['sum'],\n",
      "                                  'num_segments': ['sum', 'median'],\n",
      "                                  'num_sents': ['sum', 'median'],\n",
      "                                  'num_words': ['sum', 'median', 'max', 'min']},\n",
      "                    'convert_to_humanbytes': {'num_bytes': 'human_bytes',\n",
      "                                              'num_bytes_wospc': 'human_bytes_wospc'},\n",
      "                    'key_columns': None,\n",
      "                    'num_columns': {'num_bytes': 'len_bytes',\n",
      "                                    'num_bytes_wospc': 'len_wospc',\n",
      "                                    'num_segments': 'len_segments',\n",
      "                                    'num_sents': 'len_sents',\n",
      "                                    'num_words': 'len_words'},\n",
      "                    'num_workers': 1,\n",
      "                    'rename_columns': {'num_bytes_count': 'num_docs',\n",
      "                                       'num_bytes_sum': 'num_bytes',\n",
      "                                       'num_bytes_wospc_sum': 'num_bytes_wospc',\n",
      "                                       'num_segments_sum': 'num_segments',\n",
      "                                       'num_sents_sum': 'num_sents',\n",
      "                                       'num_words_sum': 'num_words'},\n",
      "                    'text_keys': 'text'},\n",
      "          'update_files_info': {'data_files': 'data_file',\n",
      "                                'meta_files': 'meta_file'},\n",
      "          'update_info': ['fullname',\n",
      "                          'lang',\n",
      "                          'category',\n",
      "                          'description',\n",
      "                          'license',\n",
      "                          'homepage',\n",
      "                          'version'],\n",
      "          'verbose': True},\n",
      " 'io': {'cache': {'cache_dir': '/workspace/.cache',\n",
      "                  'extract_archive': False,\n",
      "                  'force_extract': False,\n",
      "                  'path': None,\n",
      "                  'return_parent_dir': False,\n",
      "                  'uri': None,\n",
      "                  'verbose': False},\n",
      "        'calculate_stats': True,\n",
      "        'data': {'data_dir': '../data/bok_minutes',\n",
      "                 'filetype': '.parquet',\n",
      "                 'name': 'bok_minutes',\n",
      "                 'path': {'cached_path': None,\n",
      "                          'columns': None,\n",
      "                          'concat_data': False,\n",
      "                          'data_dir': '../data/bok_minutes',\n",
      "                          'data_file': None,\n",
      "                          'dev': {'base_dir': '../data/bok_minutes',\n",
      "                                  'filename': 'bok_minutes-dev.parquet',\n",
      "                                  'filepath': '../data/bok_minutes/bok_minutes-dev.parquet',\n",
      "                                  'filetype': '.parquet',\n",
      "                                  'suffix': None},\n",
      "                          'filetype': '.parquet',\n",
      "                          'name': 'bok_minutes',\n",
      "                          'output_dir': None,\n",
      "                          'output_file': None,\n",
      "                          'root': '/workspace/data/bok_minutes',\n",
      "                          'suffix': None,\n",
      "                          'test': {'base_dir': '../data/bok_minutes',\n",
      "                                   'filename': 'bok_minutes-test.parquet',\n",
      "                                   'filepath': '../data/bok_minutes/bok_minutes-test.parquet',\n",
      "                                   'filetype': '.parquet',\n",
      "                                   'suffix': None},\n",
      "                          'train': {'base_dir': '../data/bok_minutes',\n",
      "                                    'filename': 'bok_minutes-train.parquet',\n",
      "                                    'filepath': '../data/bok_minutes/bok_minutes-train.parquet',\n",
      "                                    'filetype': '.parquet',\n",
      "                                    'suffix': None},\n",
      "                          'verbose': False},\n",
      "                 'verbose': False},\n",
      "        'data_dir': '../data/bok_minutes',\n",
      "        'data_sources': {'train': 'bok_minutes.csv'},\n",
      "        'fetcher': {'_target_': 'ekorpkit.io.fetch.loader.dummy.DummyCorpus',\n",
      "                    'autoload': True,\n",
      "                    'compress': False,\n",
      "                    'force_download': False,\n",
      "                    'name': 'bok_minutes',\n",
      "                    'num_workers': 1,\n",
      "                    'output_dir': '../data/bok_minutes',\n",
      "                    'output_file': 'bok_minutes.csv',\n",
      "                    'verbose': False},\n",
      "        'filetype': '.parquet',\n",
      "        'force_download': False,\n",
      "        'loader': {'_target_': 'ekorpkit.io.load.data.load_dataframe',\n",
      "                   'data_dir': '../data/bok_minutes',\n",
      "                   'data_souces': {'train': 'bok_minutes.csv'},\n",
      "                   'name': 'bok_minutes'},\n",
      "        'meta': {'data_dir': '../data/bok_minutes',\n",
      "                 'filetype': '.parquet',\n",
      "                 'name': 'bok_minutes',\n",
      "                 'path': {'cached_path': None,\n",
      "                          'columns': None,\n",
      "                          'concat_data': False,\n",
      "                          'data_dir': '../data/bok_minutes',\n",
      "                          'data_file': None,\n",
      "                          'dev': {'base_dir': '../data/bok_minutes',\n",
      "                                  'filename': 'meta-bok_minutes-dev.parquet',\n",
      "                                  'filepath': '../data/bok_minutes/meta-bok_minutes-dev.parquet',\n",
      "                                  'filetype': '.parquet',\n",
      "                                  'suffix': None},\n",
      "                          'filetype': '.parquet',\n",
      "                          'name': 'meta-bok_minutes',\n",
      "                          'output_dir': None,\n",
      "                          'output_file': None,\n",
      "                          'root': '/workspace/data/meta-bok_minutes',\n",
      "                          'suffix': None,\n",
      "                          'test': {'base_dir': '../data/bok_minutes',\n",
      "                                   'filename': 'meta-bok_minutes-test.parquet',\n",
      "                                   'filepath': '../data/bok_minutes/meta-bok_minutes-test.parquet',\n",
      "                                   'filetype': '.parquet',\n",
      "                                   'suffix': None},\n",
      "                          'train': {'base_dir': '../data/bok_minutes',\n",
      "                                    'filename': 'meta-bok_minutes-train.parquet',\n",
      "                                    'filepath': '../data/bok_minutes/meta-bok_minutes-train.parquet',\n",
      "                                    'filetype': '.parquet',\n",
      "                                    'suffix': None},\n",
      "                          'verbose': False},\n",
      "                 'verbose': False},\n",
      "        'name': 'bok_minutes',\n",
      "        'num_workers': 1,\n",
      "        'overwrite': False,\n",
      "        'preprocess_text': True,\n",
      "        'sample': {'data_dir': '../data/bok_minutes',\n",
      "                   'filetype': '.parquet',\n",
      "                   'name': 'bok_minutes',\n",
      "                   'path': {'cached_path': None,\n",
      "                            'columns': None,\n",
      "                            'concat_data': False,\n",
      "                            'data_dir': '../data/bok_minutes',\n",
      "                            'data_file': None,\n",
      "                            'dev': {'base_dir': '../data/bok_minutes',\n",
      "                                    'filename': 'sample-bok_minutes-dev.txt',\n",
      "                                    'filepath': '../data/bok_minutes/sample-bok_minutes-dev.txt',\n",
      "                                    'filetype': '.txt',\n",
      "                                    'suffix': None},\n",
      "                            'filetype': '.txt',\n",
      "                            'name': 'sample-bok_minutes',\n",
      "                            'output_dir': None,\n",
      "                            'output_file': None,\n",
      "                            'root': '/workspace/data/sample-bok_minutes',\n",
      "                            'suffix': None,\n",
      "                            'test': {'base_dir': '../data/bok_minutes',\n",
      "                                     'filename': 'sample-bok_minutes-test.txt',\n",
      "                                     'filepath': '../data/bok_minutes/sample-bok_minutes-test.txt',\n",
      "                                     'filetype': '.txt',\n",
      "                                     'suffix': None},\n",
      "                            'train': {'base_dir': '../data/bok_minutes',\n",
      "                                      'filename': 'sample-bok_minutes-train.txt',\n",
      "                                      'filepath': '../data/bok_minutes/sample-bok_minutes-train.txt',\n",
      "                                      'filetype': '.txt',\n",
      "                                      'suffix': None},\n",
      "                            'verbose': False},\n",
      "                   'verbose': False},\n",
      "        'verbose': False},\n",
      " 'lang': 'ko',\n",
      " 'license': 'Bank of Korea',\n",
      " 'name': 'bok_minutes',\n",
      " 'pipeline': {'_pipeline_': None,\n",
      "              '_preprocess_': ['fillna',\n",
      "                               'normalize',\n",
      "                               'filter_length',\n",
      "                               'drop_duplicates'],\n",
      "              '_transform_': ['combine_columns',\n",
      "                              'aggregate_columns',\n",
      "                              'reset_index'],\n",
      "              'aggregate_columns': {'_func_': {'_partial_': True,\n",
      "                                               '_target_': 'ekorpkit.pipelines.pipe.aggregate_columns'},\n",
      "                                    'aggregations': None,\n",
      "                                    'groupby': ['mdate', 'rdate', 'filename'],\n",
      "                                    'onto': 'text',\n",
      "                                    'reset_index': False,\n",
      "                                    'separator': '\\\\n\\\\n',\n",
      "                                    'verbose': True},\n",
      "              'apply_to': 'text',\n",
      "              'chunk': {'_func_': {'_partial_': True,\n",
      "                                   '_target_': 'ekorpkit.pipelines.pipe.chunk'},\n",
      "                        'apply_to': 'text',\n",
      "                        'chunk_overlap': False,\n",
      "                        'chunk_size': 300,\n",
      "                        'keep_segment': False,\n",
      "                        'len_func': 'len_bytes',\n",
      "                        'preprocessor': {'chunk_overlap': False,\n",
      "                                         'chunk_size': 300,\n",
      "                                         'keep_segment': False,\n",
      "                                         'len_func': 'len_bytes',\n",
      "                                         'segmenter': {'_target_': 'ekorpkit.preprocessors.segmenter.Segmenter',\n",
      "                                                       'chunk': {'_func_': {'len_bytes': {'_partial_': True,\n",
      "                                                                                          '_target_': 'ekorpkit.utils.func.len_bytes'},\n",
      "                                                                            'len_words': {'_partial_': True,\n",
      "                                                                                          '_target_': 'ekorpkit.utils.func.len_words'}},\n",
      "                                                                 'chunk_overlap': False,\n",
      "                                                                 'chunk_size': 300,\n",
      "                                                                 'len_func': 'len_bytes'},\n",
      "                                                       'chunk_overlap': False,\n",
      "                                                       'chunk_size': 300,\n",
      "                                                       'filter_language': {'detection_level': 'segment',\n",
      "                                                                           'filter': False,\n",
      "                                                                           'languages_to_keep': ['en',\n",
      "                                                                                                 'ko'],\n",
      "                                                                           'min_language_probability': 0.8},\n",
      "                                                       'filter_programming_language': False,\n",
      "                                                       'filter_sentence_length': {'filter': False,\n",
      "                                                                                  'min_length': 10,\n",
      "                                                                                  'min_num_words': 3},\n",
      "                                                       'keep_segment': False,\n",
      "                                                       'len_func': 'len_bytes',\n",
      "                                                       'merge': {'broken_lines_threshold': 0.4,\n",
      "                                                                 'empty_lines_threshold': 0.6,\n",
      "                                                                 'merge_level': 'segment',\n",
      "                                                                 'merge_lines': False},\n",
      "                                                       'print_args': False,\n",
      "                                                       'return_as_list': False,\n",
      "                                                       'separators': {'in_segment': '\\\\n\\\\n',\n",
      "                                                                      'in_sentence': '\\\\n',\n",
      "                                                                      'out_segment': '\\\\n\\\\n',\n",
      "                                                                      'out_sentence': '\\\\n'},\n",
      "                                                       'split': {'keep_segment': False,\n",
      "                                                                 'max_recover_length': 30000,\n",
      "                                                                 'max_recover_step': 0},\n",
      "                                                       'verbose': True},\n",
      "                                         'verbose': True},\n",
      "                        'use_batcher': True,\n",
      "                        'verbose': True},\n",
      "              'columns': None,\n",
      "              'combine_columns': {'_func_': {'_partial_': True,\n",
      "                                             '_target_': 'ekorpkit.pipelines.pipe.combine_columns'},\n",
      "                                  'columns': ['section', 'text'],\n",
      "                                  'into': 'text',\n",
      "                                  'separator': '\\\\n',\n",
      "                                  'verbose': True},\n",
      "              'concat_dataframes': {'_func_': {'_partial_': True,\n",
      "                                               '_target_': 'ekorpkit.pipelines.pipe.concat_dataframes'},\n",
      "                                    'verbose': True},\n",
      "              'data_dir': None,\n",
      "              'data_file': None,\n",
      "              'drop': {'_func_': {'_partial_': True,\n",
      "                                  '_target_': 'ekorpkit.pipelines.pipe.drop'},\n",
      "                       'axix': 1,\n",
      "                       'columns': None,\n",
      "                       'errors': 'raise',\n",
      "                       'index': None,\n",
      "                       'labels': None,\n",
      "                       'level': None,\n",
      "                       'verbose': True},\n",
      "              'drop_duplicates': {'_func_': {'_partial_': True,\n",
      "                                             '_target_': 'ekorpkit.pipelines.pipe.drop_duplicates'},\n",
      "                                  'apply_to': 'text',\n",
      "                                  'verbose': True},\n",
      "              'eval_columns': {'_func_': {'_partial_': True,\n",
      "                                          '_target_': 'ekorpkit.pipelines.pipe.eval_columns'},\n",
      "                               'engine': 'python',\n",
      "                               'eval_at': 'dataframe',\n",
      "                               'expressions': None,\n",
      "                               'verbose': True},\n",
      "              'explode_splits': {'_func_': {'_partial_': True,\n",
      "                                            '_target_': 'ekorpkit.pipelines.pipe.explode_splits'},\n",
      "                                 'apply_to': 'text',\n",
      "                                 'id_key': 'id',\n",
      "                                 'separator': '\\\\n',\n",
      "                                 'split_key': 'sent_id',\n",
      "                                 'verbose': True},\n",
      "              'extract_tokens': {'_func_': {'_partial_': True,\n",
      "                                            '_target_': 'ekorpkit.pipelines.pipe.extract_tokens'},\n",
      "                                 'apply_to': 'text',\n",
      "                                 'filter_stopwords_only': False,\n",
      "                                 'nouns_only': True,\n",
      "                                 'preprocessor': {'stopwords_path': None,\n",
      "                                                  'tokenizer': {'_target_': 'ekorpkit.preprocessors.tokenizer.SimpleTokenizer',\n",
      "                                                                'extract': {'noun_postags': ['NNG',\n",
      "                                                                                             'NNP',\n",
      "                                                                                             'XSN',\n",
      "                                                                                             'SL',\n",
      "                                                                                             'XR',\n",
      "                                                                                             'NNB',\n",
      "                                                                                             'NR'],\n",
      "                                                                            'postag_delim': '/',\n",
      "                                                                            'postag_length': None,\n",
      "                                                                            'postags': None,\n",
      "                                                                            'stop_postags': ['SP',\n",
      "                                                                                             'SF',\n",
      "                                                                                             'SE',\n",
      "                                                                                             'SSO',\n",
      "                                                                                             'SSC',\n",
      "                                                                                             'SC',\n",
      "                                                                                             'SY',\n",
      "                                                                                             'SH'],\n",
      "                                                                            'strip_pos': True},\n",
      "                                                                'normalize': None,\n",
      "                                                                'return_as_list': False,\n",
      "                                                                'stopwords': {'_target_': 'ekorpkit.preprocessors.stopwords.Stopwords',\n",
      "                                                                              'lowercase': True,\n",
      "                                                                              'name': 'stopwords',\n",
      "                                                                              'nltk_stopwords': None,\n",
      "                                                                              'stopwords': None,\n",
      "                                                                              'stopwords_path': None,\n",
      "                                                                              'verbose': True},\n",
      "                                                                'stopwords_path': None,\n",
      "                                                                'tagset': None,\n",
      "                                                                'tokenize': {'flatten': True,\n",
      "                                                                             'include_whitespace_token': True,\n",
      "                                                                             'lowercase': False,\n",
      "                                                                             'postag_delim': '/',\n",
      "                                                                             'postag_length': None,\n",
      "                                                                             'punct_postags': ['SF',\n",
      "                                                                                               'SP',\n",
      "                                                                                               'SSO',\n",
      "                                                                                               'SSC',\n",
      "                                                                                               'SY'],\n",
      "                                                                             'strip_pos': False,\n",
      "                                                                             'tokenize_each_word': False,\n",
      "                                                                             'userdic_path': None,\n",
      "                                                                             'wordpieces_prefix': '##'},\n",
      "                                                                'tokenize_article': {'sentence_separator': '\\\\n'},\n",
      "                                                                'verbose': True},\n",
      "                                                  'verbose': True},\n",
      "                                 'stopwords_path': None,\n",
      "                                 'use_batcher': True,\n",
      "                                 'verbose': True},\n",
      "              'fillna': {'_func_': {'_partial_': True,\n",
      "                                    '_target_': 'ekorpkit.pipelines.pipe.fillna'},\n",
      "                         'apply_to': 'text',\n",
      "                         'fill_with': '',\n",
      "                         'verbose': True},\n",
      "              'filter_length': {'_func_': {'_partial_': True,\n",
      "                                           '_target_': 'ekorpkit.pipelines.pipe.filter_length',\n",
      "                                           'len_bytes': {'_partial_': True,\n",
      "                                                         '_target_': 'ekorpkit.utils.func.len_bytes'},\n",
      "                                           'len_words': {'_partial_': True,\n",
      "                                                         '_target_': 'ekorpkit.utils.func.len_words'}},\n",
      "                                'add_len_column': True,\n",
      "                                'apply_to': 'text',\n",
      "                                'len_column': 'num_bytes',\n",
      "                                'len_func': 'len_bytes',\n",
      "                                'max_length': None,\n",
      "                                'min_length': 3,\n",
      "                                'use_batcher': True,\n",
      "                                'verbose': True},\n",
      "              'filter_query': {'_func_': {'_partial_': True,\n",
      "                                          '_target_': 'ekorpkit.pipelines.pipe.filter_query'},\n",
      "                               'query': None,\n",
      "                               'verbose': True},\n",
      "              'load_dataframe': {'_func_': {'_partial_': True,\n",
      "                                            '_target_': 'ekorpkit.pipelines.pipe.load_dataframe'},\n",
      "                                 'columns': None,\n",
      "                                 'concatenate': True,\n",
      "                                 'data_dir': None,\n",
      "                                 'data_file': None,\n",
      "                                 'dtype': None,\n",
      "                                 'filepath': None,\n",
      "                                 'filetype': None,\n",
      "                                 'parse_dates': None,\n",
      "                                 'verbose': True},\n",
      "              'melt': {'_func_': {'_partial_': True,\n",
      "                                  '_target_': 'ekorpkit.pipelines.pipe.melt'},\n",
      "                       'col_level': None,\n",
      "                       'id_vars': None,\n",
      "                       'ignore_index': True,\n",
      "                       'value_name': 'value',\n",
      "                       'value_vars': None,\n",
      "                       'var_name': 'variable',\n",
      "                       'verbose': True},\n",
      "              'merge_dataframe': {'_func_': {'_partial_': True,\n",
      "                                             '_target_': 'ekorpkit.pipelines.pipe.merge_dataframe'},\n",
      "                                  'data_dir': '.',\n",
      "                                  'data_file': None,\n",
      "                                  'filepath': None,\n",
      "                                  'filetype': None,\n",
      "                                  'how': 'inner',\n",
      "                                  'left_on': None,\n",
      "                                  'merge_on': None,\n",
      "                                  'right_on': None,\n",
      "                                  'verbose': True},\n",
      "              'name': 'bok_minutes',\n",
      "              'normalize': {'_func_': {'_partial_': True,\n",
      "                                       '_target_': 'ekorpkit.pipelines.pipe.normalize'},\n",
      "                            'apply_to': 'text',\n",
      "                            'preprocessor': {'normalizer': {'_target_': 'ekorpkit.preprocessors.normalizer.Normalizer',\n",
      "                                                            'ftfy': {'decode_inconsistent_utf8': True,\n",
      "                                                                     'fix_c1_controls': True,\n",
      "                                                                     'fix_character_width': True,\n",
      "                                                                     'fix_encoding': True,\n",
      "                                                                     'fix_latin_ligatures': True,\n",
      "                                                                     'fix_line_breaks': True,\n",
      "                                                                     'fix_surrogates': True,\n",
      "                                                                     'max_decode_length': 1000000,\n",
      "                                                                     'normalization': 'NFKC',\n",
      "                                                                     'remove_control_chars': True,\n",
      "                                                                     'remove_terminal_escapes': True,\n",
      "                                                                     'replace_lossy_sequences': True,\n",
      "                                                                     'restore_byte_a0': True,\n",
      "                                                                     'uncurl_quotes': True,\n",
      "                                                                     'unescape_html': True},\n",
      "                                                            'hanja2hangle': True,\n",
      "                                                            'num_repeats': 2,\n",
      "                                                            'spaces': {'collapse_whitespaces': True,\n",
      "                                                                       'fix_whitespaces': True,\n",
      "                                                                       'num_spaces_for_tab': 4,\n",
      "                                                                       'replace_tabs': True,\n",
      "                                                                       'strip': True},\n",
      "                                                            'special_characters': {'fix_ellipsis': True,\n",
      "                                                                                   'fix_emoticons': False,\n",
      "                                                                                   'fix_hyphens': True,\n",
      "                                                                                   'fix_slashes': True,\n",
      "                                                                                   'fix_tildes': True,\n",
      "                                                                                   'regular_parentheses_only': False,\n",
      "                                                                                   'single_quotes_only': False}}},\n",
      "                            'use_batcher': True,\n",
      "                            'verbose': True},\n",
      "              'num_workers': 1,\n",
      "              'output_dir': '/workspace/projects/esgml/outputs/bok_minutes',\n",
      "              'output_file': None,\n",
      "              'path': {'cache': {'cache_dir': '/workspace/.cache',\n",
      "                                 'extract_archive': True,\n",
      "                                 'force_extract': False,\n",
      "                                 'path': None,\n",
      "                                 'return_parent_dir': True,\n",
      "                                 'uri': None,\n",
      "                                 'verbose': True},\n",
      "                       'cached_path': None,\n",
      "                       'columns': None,\n",
      "                       'concat_data': False,\n",
      "                       'data': {'base_dir': None,\n",
      "                                'columns': None,\n",
      "                                'concatenate': False,\n",
      "                                'dype': None,\n",
      "                                'file': None,\n",
      "                                'filename': None,\n",
      "                                'filetype': '',\n",
      "                                'parse_dates': None},\n",
      "                       'data_dir': None,\n",
      "                       'data_file': None,\n",
      "                       'filetype': '',\n",
      "                       'name': 'bok_minutes',\n",
      "                       'output': {'base_dir': '/workspace/projects/esgml/outputs/bok_minutes',\n",
      "                                  'columns': None,\n",
      "                                  'file': None,\n",
      "                                  'filename': None,\n",
      "                                  'filetype': '',\n",
      "                                  'suffix': None},\n",
      "                       'output_dir': '/workspace/projects/esgml/outputs/bok_minutes',\n",
      "                       'output_file': None,\n",
      "                       'root': '/workspace/data/bok_minutes',\n",
      "                       'suffix': None,\n",
      "                       'verbose': True},\n",
      "              'pivot': {'_func_': {'_partial_': True,\n",
      "                                   '_target_': 'ekorpkit.pipelines.pipe.pivot'},\n",
      "                        'columns': None,\n",
      "                        'fillna': None,\n",
      "                        'index': None,\n",
      "                        'reset_index': True,\n",
      "                        'values': None,\n",
      "                        'verbose': True},\n",
      "              'plot': {'_func_': {'_partial_': True,\n",
      "                                  '_target_': 'ekorpkit.pipelines.pipe.plot'},\n",
      "                       'output_dir': None,\n",
      "                       'output_file': None,\n",
      "                       'verbose': True,\n",
      "                       'visualize': {'output_dir': '..output_dir',\n",
      "                                     'output_file': '..output_file}',\n",
      "                                     'plot': {'output_dir': '..output_dir',\n",
      "                                              'output_file': '..output_file}'}}},\n",
      "              'predict': {'_func_': {'_partial_': True,\n",
      "                                     '_target_': 'ekorpkit.pipelines.pipe.predict'},\n",
      "                          'columns': None,\n",
      "                          'model': None,\n",
      "                          'name': 'predict',\n",
      "                          'num_workers': 1,\n",
      "                          'output_dir': '/workspace/projects/esgml/outputs/bok_minutes',\n",
      "                          'output_file': None,\n",
      "                          'path': {'cached_path': None,\n",
      "                                   'columns': None,\n",
      "                                   'concat_data': False,\n",
      "                                   'data_dir': '/workspace/data/predict',\n",
      "                                   'data_file': None,\n",
      "                                   'filetype': '',\n",
      "                                   'name': 'predict',\n",
      "                                   'output': {'base_dir': '/workspace/projects/esgml/outputs/bok_minutes',\n",
      "                                              'columns': None,\n",
      "                                              'file': None,\n",
      "                                              'filename': None,\n",
      "                                              'filetype': '',\n",
      "                                              'suffix': None},\n",
      "                                   'output_dir': '/workspace/projects/esgml/outputs/bok_minutes',\n",
      "                                   'output_file': None,\n",
      "                                   'root': '/workspace/data/predict',\n",
      "                                   'suffix': None,\n",
      "                                   'verbose': True},\n",
      "                          'to_predict': {'input': 'text',\n",
      "                                         'model_outputs': 'raw_preds',\n",
      "                                         'predicted': 'pred_labels',\n",
      "                                         'prefix': None,\n",
      "                                         'task_prefix': None},\n",
      "                          'use_batcher': True,\n",
      "                          'verbose': True},\n",
      "              'rename_columns': {'_func_': {'_partial_': True,\n",
      "                                            '_target_': 'ekorpkit.pipelines.pipe.rename_columns'},\n",
      "                                 'new_names': None,\n",
      "                                 'verbose': True},\n",
      "              'replace': {'_func_': {'_partial_': True,\n",
      "                                     '_target_': 'ekorpkit.pipelines.pipe.general_function'},\n",
      "                          '_method_': {'_name_': 'replace',\n",
      "                                       '_parms_': {'limit': None,\n",
      "                                                   'method': None,\n",
      "                                                   'regex': False,\n",
      "                                                   'to_replace': None,\n",
      "                                                   'value': None}},\n",
      "                          'apply_to': 'text',\n",
      "                          'parameters': {'limit': None,\n",
      "                                         'method': None,\n",
      "                                         'regex': False,\n",
      "                                         'to_replace': None,\n",
      "                                         'value': None},\n",
      "                          'verbose': True},\n",
      "              'reset_index': {'_func_': {'_partial_': True,\n",
      "                                         '_target_': 'ekorpkit.pipelines.pipe.reset_index'},\n",
      "                              'drop_index': False,\n",
      "                              'index_column_name': 'id',\n",
      "                              'verbose': True},\n",
      "              'sampling': {'_func_': {'_partial_': True,\n",
      "                                      '_target_': 'ekorpkit.pipelines.pipe.sampling'},\n",
      "                           'columns': None,\n",
      "                           'groupby': None,\n",
      "                           'output_dir': None,\n",
      "                           'output_file': None,\n",
      "                           'path': {'cached_path': None,\n",
      "                                    'columns': None,\n",
      "                                    'concat_data': False,\n",
      "                                    'data_dir': '/workspace/data/esgml',\n",
      "                                    'data_file': None,\n",
      "                                    'filetype': '',\n",
      "                                    'name': 'esgml',\n",
      "                                    'output': {'base_dir': None,\n",
      "                                               'columns': None,\n",
      "                                               'file': None,\n",
      "                                               'filename': None,\n",
      "                                               'filetype': '',\n",
      "                                               'suffix': None},\n",
      "                                    'output_dir': None,\n",
      "                                    'output_file': None,\n",
      "                                    'root': '/workspace/data/esgml',\n",
      "                                    'suffix': None,\n",
      "                                    'verbose': True},\n",
      "                           'random_state': 123,\n",
      "                           'sample_size_per_group': 10,\n",
      "                           'value_var': None,\n",
      "                           'verbose': True},\n",
      "              'save_dataframe': {'_func_': {'_partial_': True,\n",
      "                                            '_target_': 'ekorpkit.pipelines.pipe.save_dataframe'},\n",
      "                                 'columns': None,\n",
      "                                 'filetype': None,\n",
      "                                 'name': 'bok_minutes',\n",
      "                                 'output_dir': '/workspace/projects/esgml/outputs/bok_minutes',\n",
      "                                 'output_file': None,\n",
      "                                 'path': {'cached_path': None,\n",
      "                                          'columns': None,\n",
      "                                          'concat_data': False,\n",
      "                                          'data_dir': '/workspace/data/bok_minutes',\n",
      "                                          'data_file': None,\n",
      "                                          'filetype': None,\n",
      "                                          'name': 'bok_minutes',\n",
      "                                          'output': {'base_dir': '/workspace/projects/esgml/outputs/bok_minutes',\n",
      "                                                     'columns': None,\n",
      "                                                     'file': None,\n",
      "                                                     'filename': None,\n",
      "                                                     'filetype': None,\n",
      "                                                     'suffix': None},\n",
      "                                          'output_dir': '/workspace/projects/esgml/outputs/bok_minutes',\n",
      "                                          'output_file': None,\n",
      "                                          'root': '/workspace/data/bok_minutes',\n",
      "                                          'suffix': None,\n",
      "                                          'verbose': True},\n",
      "                                 'verbose': True},\n",
      "              'save_metadata': {'_func_': {'_partial_': True,\n",
      "                                           '_target_': 'ekorpkit.pipelines.pipe.save_metadata'},\n",
      "                                'column_info': {'_target_': 'ekorpkit.info.column.ColumnInfo',\n",
      "                                                'columns': {'id': 'id',\n",
      "                                                            'merge_meta_on': None,\n",
      "                                                            'text': 'text',\n",
      "                                                            'timestamp': None},\n",
      "                                                'data': {'id': 'int',\n",
      "                                                         'text': 'str'},\n",
      "                                                'datetime': {'_parms_': None,\n",
      "                                                             'columns': None,\n",
      "                                                             'format': None},\n",
      "                                                'keys': {'id': 'id',\n",
      "                                                         'split': 'split',\n",
      "                                                         'text': 'text',\n",
      "                                                         'timestamp': 'timestamp'},\n",
      "                                                'meta': None,\n",
      "                                                'segment_separator': '\\\\n\\\\n',\n",
      "                                                'sentence_separator': '\\\\n',\n",
      "                                                'timestamp': {'_parms_': None,\n",
      "                                                              'format': None,\n",
      "                                                              'key': None}},\n",
      "                                'filepath': None,\n",
      "                                'filetype': None,\n",
      "                                'path': {'cached_path': None,\n",
      "                                         'columns': None,\n",
      "                                         'concat_data': False,\n",
      "                                         'data_dir': '/workspace/data/esgml',\n",
      "                                         'data_file': None,\n",
      "                                         'filetype': None,\n",
      "                                         'name': 'esgml',\n",
      "                                         'output': {'base_dir': None,\n",
      "                                                    'columns': None,\n",
      "                                                    'file': None,\n",
      "                                                    'filename': None,\n",
      "                                                    'filetype': None,\n",
      "                                                    'suffix': None},\n",
      "                                         'output_dir': None,\n",
      "                                         'output_file': None,\n",
      "                                         'root': '/workspace/data/esgml',\n",
      "                                         'suffix': None,\n",
      "                                         'verbose': True},\n",
      "                                'split_name': None,\n",
      "                                'verbose': True},\n",
      "              'save_samples': {'_func_': {'_partial_': True,\n",
      "                                          '_target_': 'ekorpkit.pipelines.pipe.save_samples'},\n",
      "                               'apply_to': 'text',\n",
      "                               'num_samples_to_save': 1,\n",
      "                               'output_file': None,\n",
      "                               'path': {'cached_path': None,\n",
      "                                        'columns': None,\n",
      "                                        'concat_data': False,\n",
      "                                        'data_dir': '/workspace/data/esgml',\n",
      "                                        'data_file': None,\n",
      "                                        'filetype': '',\n",
      "                                        'name': 'esgml',\n",
      "                                        'output': {'base_dir': None,\n",
      "                                                   'file': None,\n",
      "                                                   'filename': None,\n",
      "                                                   'filepath': None,\n",
      "                                                   'filetype': '.txt',\n",
      "                                                   'suffix': None},\n",
      "                                        'output_dir': None,\n",
      "                                        'output_file': None,\n",
      "                                        'root': '/workspace/data/esgml',\n",
      "                                        'suffix': None,\n",
      "                                        'verbose': True},\n",
      "                               'sample_length_to_print': 100,\n",
      "                               'verbose': True},\n",
      "              'segment': {'_func_': {'_partial_': True,\n",
      "                                     '_target_': 'ekorpkit.pipelines.pipe.segment'},\n",
      "                          'apply_to': 'text',\n",
      "                          'num_workers': 1,\n",
      "                          'preprocessor': {'segmenter': None},\n",
      "                          'use_batcher': True,\n",
      "                          'verbose': True},\n",
      "              'split_column': {'_func_': {'_partial_': True,\n",
      "                                          '_target_': 'ekorpkit.pipelines.pipe.split_column'},\n",
      "                               'source': None,\n",
      "                               'split': {'expand': False, 'n': -1, 'pat': None},\n",
      "                               'target': None,\n",
      "                               'verbose': True},\n",
      "              'split_dataframe': {'_func_': {'_partial_': True,\n",
      "                                             '_target_': 'ekorpkit.pipelines.pipe.split_dataframe'},\n",
      "                                  'num_splits': None,\n",
      "                                  'verbose': True},\n",
      "              'split_sampling': {'_func_': {'_partial_': True,\n",
      "                                            '_target_': 'ekorpkit.pipelines.pipe.split_sampling'},\n",
      "                                 'dev_file': 'bok_minutes-dev.parquet',\n",
      "                                 'dev_size': None,\n",
      "                                 'filetype': '.parquet',\n",
      "                                 'groupby': None,\n",
      "                                 'name': 'bok_minutes',\n",
      "                                 'output_dir': '/workspace/projects/esgml/outputs/bok_minutes',\n",
      "                                 'random_state': 987,\n",
      "                                 'shuffle': True,\n",
      "                                 'stratify_on': None,\n",
      "                                 'test_file': 'bok_minutes-test.parquet',\n",
      "                                 'test_size': 0.1,\n",
      "                                 'train_file': 'bok_minutes-train.parquet',\n",
      "                                 'unique_key': None,\n",
      "                                 'verbose': True},\n",
      "              'stdout_samples': {'_func_': {'_partial_': True,\n",
      "                                            '_target_': 'ekorpkit.pipelines.pipe.stdout_samples'},\n",
      "                                 'apply_to': 'text',\n",
      "                                 'head': None,\n",
      "                                 'num_samples': 5,\n",
      "                                 'output_dir': None,\n",
      "                                 'output_file': 'stdout_samples.txt',\n",
      "                                 'tail': None,\n",
      "                                 'verbose': True},\n",
      "              'subset': {'_func_': {'_partial_': True,\n",
      "                                    '_target_': 'ekorpkit.pipelines.pipe.subset'},\n",
      "                         'head_n': None,\n",
      "                         'random_state': 123,\n",
      "                         'sample_frac': None,\n",
      "                         'sample_n': None,\n",
      "                         'tail_n': None,\n",
      "                         'verbose': True},\n",
      "              'summary_stats': {'_func_': {'_partial_': True,\n",
      "                                           '_target_': 'ekorpkit.pipelines.pipe.summary_stats'},\n",
      "                                'apply_to': 'text',\n",
      "                                'info': {'stats': {'_func_': {'len_bytes': {'_partial_': True,\n",
      "                                                                            '_target_': 'ekorpkit.utils.func.len_bytes'}},\n",
      "                                                   '_partial_': True,\n",
      "                                                   '_target_': 'ekorpkit.info.stat.summary_stats',\n",
      "                                                   'agg_funcs': {'num_bytes': ['count',\n",
      "                                                                               'sum',\n",
      "                                                                               'median',\n",
      "                                                                               'max',\n",
      "                                                                               'min']},\n",
      "                                                   'convert_to_humanbytes': {'num_bytes': 'human_bytes'},\n",
      "                                                   'key_columns': '',\n",
      "                                                   'num_columns': {'num_bytes': 'len_bytes'},\n",
      "                                                   'num_workers': 1,\n",
      "                                                   'rename_columns': {'num_bytes_count': 'num_examples',\n",
      "                                                                      'num_bytes_sum': 'num_bytes'},\n",
      "                                                   'text_keys': 'text'},\n",
      "                                         'text_keys': 'text'},\n",
      "                                'output_dir': None,\n",
      "                                'output_file': None,\n",
      "                                'verbose': True},\n",
      "              'tokenize': {'_func_': {'_partial_': True,\n",
      "                                      '_target_': 'ekorpkit.pipelines.pipe.tokenize'},\n",
      "                           'apply_to': 'text',\n",
      "                           'num_workers': 1,\n",
      "                           'preprocessor': {'tokenizer': {'_target_': 'ekorpkit.preprocessors.tokenizer.MecabTokenizer',\n",
      "                                                          'extract': {'noun_postags': ['NNG',\n",
      "                                                                                       'NNP',\n",
      "                                                                                       'XSN',\n",
      "                                                                                       'SL',\n",
      "                                                                                       'XR',\n",
      "                                                                                       'NNB',\n",
      "                                                                                       'NR'],\n",
      "                                                                      'postag_delim': '/',\n",
      "                                                                      'postag_length': None,\n",
      "                                                                      'postags': None,\n",
      "                                                                      'stop_postags': ['SP',\n",
      "                                                                                       'SF',\n",
      "                                                                                       'SE',\n",
      "                                                                                       'SSO',\n",
      "                                                                                       'SSC',\n",
      "                                                                                       'SC',\n",
      "                                                                                       'SY',\n",
      "                                                                                       'SH'],\n",
      "                                                                      'strip_pos': True},\n",
      "                                                          'mecab': {'backend': 'mecab-python3',\n",
      "                                                                    'userdic_path': None,\n",
      "                                                                    'verbose': True},\n",
      "                                                          'normalize': None,\n",
      "                                                          'return_as_list': False,\n",
      "                                                          'stopwords': {'_target_': 'ekorpkit.preprocessors.stopwords.Stopwords',\n",
      "                                                                        'lowercase': True,\n",
      "                                                                        'name': 'stopwords',\n",
      "                                                                        'nltk_stopwords': None,\n",
      "                                                                        'stopwords': None,\n",
      "                                                                        'stopwords_path': None,\n",
      "                                                                        'verbose': True},\n",
      "                                                          'stopwords_path': None,\n",
      "                                                          'tagset': None,\n",
      "                                                          'tokenize': {'flatten': True,\n",
      "                                                                       'include_whitespace_token': True,\n",
      "                                                                       'lowercase': False,\n",
      "                                                                       'postag_delim': '/',\n",
      "                                                                       'postag_length': None,\n",
      "                                                                       'punct_postags': ['SF',\n",
      "                                                                                         'SP',\n",
      "                                                                                         'SSO',\n",
      "                                                                                         'SSC',\n",
      "                                                                                         'SY'],\n",
      "                                                                       'strip_pos': False,\n",
      "                                                                       'tokenize_each_word': False,\n",
      "                                                                       'userdic_path': None,\n",
      "                                                                       'wordpieces_prefix': '##'},\n",
      "                                                          'tokenize_article': {'sentence_separator': '\\\\n'},\n",
      "                                                          'verbose': True},\n",
      "                                            'userdic_path': None,\n",
      "                                            'verbose': True},\n",
      "                           'use_batcher': True,\n",
      "                           'userdic_path': None,\n",
      "                           'verbose': True},\n",
      "              'top_values': {'_func_': {'_partial_': True,\n",
      "                                        '_target_': 'ekorpkit.pipelines.pipe.top_values'},\n",
      "                             'columns': None,\n",
      "                             'groupby': None,\n",
      "                             'top_n': 5,\n",
      "                             'value_label': None,\n",
      "                             'value_name': None,\n",
      "                             'value_separator': ', ',\n",
      "                             'value_var': None,\n",
      "                             'verbose': True},\n",
      "              'use_batcher': True,\n",
      "              'verbose': True},\n",
      " 'preprocessor': {'normalizer': {'_target_': 'ekorpkit.preprocessors.normalizer.Normalizer',\n",
      "                                 'ftfy': {'decode_inconsistent_utf8': True,\n",
      "                                          'fix_c1_controls': True,\n",
      "                                          'fix_character_width': True,\n",
      "                                          'fix_encoding': True,\n",
      "                                          'fix_latin_ligatures': True,\n",
      "                                          'fix_line_breaks': True,\n",
      "                                          'fix_surrogates': True,\n",
      "                                          'max_decode_length': 1000000,\n",
      "                                          'normalization': 'NFKC',\n",
      "                                          'remove_control_chars': True,\n",
      "                                          'remove_terminal_escapes': True,\n",
      "                                          'replace_lossy_sequences': True,\n",
      "                                          'restore_byte_a0': True,\n",
      "                                          'uncurl_quotes': True,\n",
      "                                          'unescape_html': True},\n",
      "                                 'hanja2hangle': True,\n",
      "                                 'num_repeats': 2,\n",
      "                                 'spaces': {'collapse_whitespaces': True,\n",
      "                                            'fix_whitespaces': True,\n",
      "                                            'num_spaces_for_tab': 4,\n",
      "                                            'replace_tabs': True,\n",
      "                                            'strip': True},\n",
      "                                 'special_characters': {'fix_ellipsis': True,\n",
      "                                                        'fix_emoticons': False,\n",
      "                                                        'fix_hyphens': True,\n",
      "                                                        'fix_slashes': True,\n",
      "                                                        'fix_tildes': True,\n",
      "                                                        'regular_parentheses_only': False,\n",
      "                                                        'single_quotes_only': False}}},\n",
      " 'verbose': True,\n",
      " 'version': '1.0.0'}\n",
      "{'category': 'formal',\n",
      " 'column_info': {'columns': {'id': 'id',\n",
      "                             'merge_meta_on': None,\n",
      "                             'text': 'text',\n",
      "                             'timestamp': None},\n",
      "                 'data': {'id': 'int', 'text': 'str'},\n",
      "                 'datetime': {'_parms_': None, 'columns': None, 'format': None},\n",
      "                 'keys': {'id': 'id',\n",
      "                          'split': 'split',\n",
      "                          'text': 'text',\n",
      "                          'timestamp': 'timestamp'},\n",
      "                 'meta': {'filename': 'str',\n",
      "                          'id': 'int',\n",
      "                          'mdate': 'str',\n",
      "                          'rdate': 'str'},\n",
      "                 'segment_separator': '\\\\n\\\\n',\n",
      "                 'sentence_separator': '\\\\n',\n",
      "                 'timestamp': {'_parms_': None, 'format': None, 'key': None}},\n",
      " 'data_files': {'train': 'bok_minutes-train.parquet'},\n",
      " 'data_files_modified': '2022-06-10 07:17:19',\n",
      " 'description': 'BOK Minutes Corpus',\n",
      " 'fullname': 'BOK MPB Minutes',\n",
      " 'homepage': 'https://www.bok.or.kr',\n",
      " 'info_updated': '2022-06-10 07:17:19',\n",
      " 'lang': 'ko',\n",
      " 'license': 'Bank of Korea',\n",
      " 'meta_files': {'train': 'meta-bok_minutes-train.parquet'},\n",
      " 'meta_files_modified': '2022-06-10 07:17:19',\n",
      " 'name': 'bok_minutes',\n",
      " 'num_bytes_before_processing': 88948,\n",
      " 'num_docs': 1,\n",
      " 'num_docs_before_processing': 1,\n",
      " 'num_segments': 5,\n",
      " 'num_sents': 346,\n",
      " 'num_words': 8171,\n",
      " 'size_in_bytes': 88925,\n",
      " 'size_in_human_bytes': '86.84 KiB',\n",
      " 'splits': {'train': {'data_file': 'bok_minutes-train.parquet',\n",
      "                      'dataset_name': 'bok_minutes',\n",
      "                      'human_bytes': '86.84 KiB',\n",
      "                      'human_bytes_wospc': '78.86 KiB',\n",
      "                      'meta_file': 'meta-bok_minutes-train.parquet',\n",
      "                      'name': 'train',\n",
      "                      'num_bytes': 88925,\n",
      "                      'num_bytes_before_processing': 88948,\n",
      "                      'num_bytes_max': 88925,\n",
      "                      'num_bytes_median': 88925.0,\n",
      "                      'num_bytes_min': 88925,\n",
      "                      'num_bytes_wospc': 80751,\n",
      "                      'num_docs': 1,\n",
      "                      'num_docs_before_processing': 1,\n",
      "                      'num_segments': 5,\n",
      "                      'num_segments_median': 5.0,\n",
      "                      'num_sents': 346,\n",
      "                      'num_sents_median': 346.0,\n",
      "                      'num_words': 8171,\n",
      "                      'num_words_max': 8171,\n",
      "                      'num_words_median': 8171.0,\n",
      "                      'num_words_min': 8171}},\n",
      " 'version': '1.0.0'}\n",
      "                         id               filename                mdate  \\\n",
      "0  BOK_20181130_20181218_S1  BOK_20181130_20181218  2018-11-30 10:00:00   \n",
      "1  BOK_20181130_20181218_S2  BOK_20181130_20181218  2018-11-30 10:00:00   \n",
      "2  BOK_20181130_20181218_S3  BOK_20181130_20181218  2018-11-30 10:00:00   \n",
      "3  BOK_20181130_20181218_S4  BOK_20181130_20181218  2018-11-30 10:00:00   \n",
      "4  BOK_20181130_20181218_S5  BOK_20181130_20181218  2018-11-30 10:00:00   \n",
      "\n",
      "                 rdate              section  \\\n",
      "0  2018-12-18 16:00:00   Economic Situation   \n",
      "1  2018-12-18 16:00:00     Foreign Currency   \n",
      "2  2018-12-18 16:00:00    Financial Markets   \n",
      "3  2018-12-18 16:00:00      Monetary Policy   \n",
      "4  2018-12-18 16:00:00  Participants’ Views   \n",
      "\n",
      "                                                text  \n",
      "0  일부 위원은 관련부서에서 지난 3\\/4분기 중 유로지역 경제성장 부진을 자동차 관련...  \n",
      "1  일부 위원은 그동안 글로벌펀드와 패시브펀드의 규모가 크게 확대되어 우리나라 자본유출...  \n",
      "2  일부 위원은 현재 대기업들이 전반적으로는 문제가 없지만, 건설 조선업 등에 속하는 ...  \n",
      "3  일부 위원은 최근 경기상황과 금융불균형 등을 고려할 때 확장적 재정정책의 필요성에는...  \n",
      "4  일부 위원은 최근 실물경제 성장경로의 하방위험이 다소 커진 것으로 보이고 물가도 상...  \n",
      "(5, 6)\n",
      "                 mdate                rdate               filename  \\\n",
      "0  2018-11-30 10:00:00  2018-12-18 16:00:00  BOK_20181130_20181218   \n",
      "\n",
      "                                                text  \n",
      "0  Economic Situation\\n일부 위원은 관련부서에서 지난 3\\/4분기 중 ...  \n",
      "   id                mdate                rdate               filename  \\\n",
      "0   0  2018-11-30 10:00:00  2018-12-18 16:00:00  BOK_20181130_20181218   \n",
      "\n",
      "                                                text  \n",
      "0  Economic Situation\\n일부 위원은 관련부서에서 지난 3\\/4분기 중 ...  \n"
     ]
    },
    {
     "data": {
      "application/vnd.jupyter.widget-view+json": {
       "model_id": "57cc24aeb0bd47cb8dcc7c7db79491cc",
       "version_major": 2,
       "version_minor": 0
      },
      "text/plain": [
       "apply len_bytes to num_bytes:   0%|          | 0/1 [00:00<?, ?it/s]"
      ]
     },
     "metadata": {},
     "output_type": "display_data"
    },
    {
     "data": {
      "application/vnd.jupyter.widget-view+json": {
       "model_id": "9a740453b4cf49c08e6c0d11ecf63140",
       "version_major": 2,
       "version_minor": 0
      },
      "text/plain": [
       "apply len_sents to num_sents:   0%|          | 0/1 [00:00<?, ?it/s]"
      ]
     },
     "metadata": {},
     "output_type": "display_data"
    },
    {
     "data": {
      "application/vnd.jupyter.widget-view+json": {
       "model_id": "11e849aabe274635b338d38df1423e75",
       "version_major": 2,
       "version_minor": 0
      },
      "text/plain": [
       "Normalizing column: text:   0%|          | 0/1 [00:00<?, ?it/s]"
      ]
     },
     "metadata": {},
     "output_type": "display_data"
    },
    {
     "data": {
      "application/vnd.jupyter.widget-view+json": {
       "model_id": "c58a1b2cdf7241e9aa5fc3dfa20eb47b",
       "version_major": 2,
       "version_minor": 0
      },
      "text/plain": [
       "Calculating length:   0%|          | 0/1 [00:00<?, ?it/s]"
      ]
     },
     "metadata": {},
     "output_type": "display_data"
    },
    {
     "name": "stdout",
     "output_type": "stream",
     "text": [
      "----------------------------------------------------------------------------------------------------\n",
      "\n",
      "text: \n",
      "Economic Situation\n",
      "일부 위원은 관련부서에서 지난 3\\/4분기 중 유로지역 경제성장 부진을 자동차 관련 규제 등 일시적 요인에 의한 것으로 평가한 것과 관련하여, 동...\n",
      "\n",
      "----------------------------------------------------------------------------------------------------\n"
     ]
    },
    {
     "data": {
      "application/vnd.jupyter.widget-view+json": {
       "model_id": "beab04740eb4460180b4ebfc62ccef98",
       "version_major": 2,
       "version_minor": 0
      },
      "text/plain": [
       "apply len_bytes to num_bytes:   0%|          | 0/1 [00:00<?, ?it/s]"
      ]
     },
     "metadata": {},
     "output_type": "display_data"
    },
    {
     "data": {
      "application/vnd.jupyter.widget-view+json": {
       "model_id": "c99979247bbe46f6bf36961e5aa26672",
       "version_major": 2,
       "version_minor": 0
      },
      "text/plain": [
       "apply len_wospc to num_bytes_wospc:   0%|          | 0/1 [00:00<?, ?it/s]"
      ]
     },
     "metadata": {},
     "output_type": "display_data"
    },
    {
     "data": {
      "application/vnd.jupyter.widget-view+json": {
       "model_id": "81de7cff963246cda25cd75265cb62c2",
       "version_major": 2,
       "version_minor": 0
      },
      "text/plain": [
       "apply len_words to num_words:   0%|          | 0/1 [00:00<?, ?it/s]"
      ]
     },
     "metadata": {},
     "output_type": "display_data"
    },
    {
     "data": {
      "application/vnd.jupyter.widget-view+json": {
       "model_id": "ce6fa4914df74b889125fb0de0fd7c58",
       "version_major": 2,
       "version_minor": 0
      },
      "text/plain": [
       "apply len_sents to num_sents:   0%|          | 0/1 [00:00<?, ?it/s]"
      ]
     },
     "metadata": {},
     "output_type": "display_data"
    },
    {
     "data": {
      "application/vnd.jupyter.widget-view+json": {
       "model_id": "b01ab7ce2e33485c8f70c53b1118f1a1",
       "version_major": 2,
       "version_minor": 0
      },
      "text/plain": [
       "apply len_segments to num_segments:   0%|          | 0/1 [00:00<?, ?it/s]"
      ]
     },
     "metadata": {},
     "output_type": "display_data"
    },
    {
     "name": "stdout",
     "output_type": "stream",
     "text": [
      "{'category': 'formal',\n",
      " 'column_info': {'columns': {'id': 'id',\n",
      "                             'merge_meta_on': None,\n",
      "                             'text': 'text',\n",
      "                             'timestamp': None},\n",
      "                 'data': {'id': 'int', 'text': 'str'},\n",
      "                 'datetime': {'_parms_': None, 'columns': None, 'format': None},\n",
      "                 'keys': {'id': 'id',\n",
      "                          'split': 'split',\n",
      "                          'text': 'text',\n",
      "                          'timestamp': 'timestamp'},\n",
      "                 'meta': {'filename': 'str',\n",
      "                          'id': 'int',\n",
      "                          'mdate': 'str',\n",
      "                          'rdate': 'str'},\n",
      "                 'segment_separator': '\\\\n\\\\n',\n",
      "                 'sentence_separator': '\\\\n',\n",
      "                 'timestamp': {'_parms_': None, 'format': None, 'key': None}},\n",
      " 'data_files': {'train': 'bok_minutes-train.parquet'},\n",
      " 'data_files_modified': '2022-06-10 07:48:03',\n",
      " 'description': 'BOK Minutes Corpus',\n",
      " 'fullname': 'BOK MPB Minutes',\n",
      " 'homepage': 'https://www.bok.or.kr',\n",
      " 'info_updated': '2022-06-10 07:48:03',\n",
      " 'lang': 'ko',\n",
      " 'license': 'Bank of Korea',\n",
      " 'meta_files': {'train': 'meta-bok_minutes-train.parquet'},\n",
      " 'meta_files_modified': '2022-06-10 07:48:02',\n",
      " 'name': 'bok_minutes',\n",
      " 'num_bytes_before_processing': 88948,\n",
      " 'num_docs': 1,\n",
      " 'num_docs_before_processing': 1,\n",
      " 'num_segments': 5,\n",
      " 'num_sents': 346,\n",
      " 'num_words': 8171,\n",
      " 'size_in_bytes': 88925,\n",
      " 'size_in_human_bytes': '86.84 KiB',\n",
      " 'splits': {'train': {'data_file': 'bok_minutes-train.parquet',\n",
      "                      'dataset_name': 'bok_minutes',\n",
      "                      'human_bytes': '86.84 KiB',\n",
      "                      'human_bytes_wospc': '78.86 KiB',\n",
      "                      'meta_file': 'meta-bok_minutes-train.parquet',\n",
      "                      'name': 'train',\n",
      "                      'num_bytes': 88925,\n",
      "                      'num_bytes_before_processing': 88948,\n",
      "                      'num_bytes_max': 88925,\n",
      "                      'num_bytes_median': 88925.0,\n",
      "                      'num_bytes_min': 88925,\n",
      "                      'num_bytes_wospc': 80751,\n",
      "                      'num_docs': 1,\n",
      "                      'num_docs_before_processing': 1,\n",
      "                      'num_segments': 5,\n",
      "                      'num_segments_median': 5.0,\n",
      "                      'num_sents': 346,\n",
      "                      'num_sents_median': 346.0,\n",
      "                      'num_words': 8171,\n",
      "                      'num_words_max': 8171,\n",
      "                      'num_words_median': 8171.0,\n",
      "                      'num_words_min': 8171}},\n",
      " 'version': '1.0.0'}\n",
      "{'category': 'formal',\n",
      " 'column_info': {'columns': {'id': 'id',\n",
      "                             'merge_meta_on': None,\n",
      "                             'text': 'text',\n",
      "                             'timestamp': None},\n",
      "                 'data': {'id': 'int', 'text': 'str'},\n",
      "                 'datetime': {'_parms_': None, 'columns': None, 'format': None},\n",
      "                 'keys': {'id': 'id',\n",
      "                          'split': 'split',\n",
      "                          'text': 'text',\n",
      "                          'timestamp': 'timestamp'},\n",
      "                 'meta': {'filename': 'str',\n",
      "                          'id': 'int',\n",
      "                          'mdate': 'str',\n",
      "                          'rdate': 'str'},\n",
      "                 'segment_separator': '\\\\n\\\\n',\n",
      "                 'sentence_separator': '\\\\n',\n",
      "                 'timestamp': {'_parms_': None, 'format': None, 'key': None}},\n",
      " 'data_files': {'train': 'bok_minutes-train.parquet'},\n",
      " 'data_files_modified': '2022-06-10 07:48:03',\n",
      " 'description': 'BOK Minutes Corpus',\n",
      " 'fullname': 'BOK MPB Minutes',\n",
      " 'homepage': 'https://www.bok.or.kr',\n",
      " 'info_updated': '2022-06-10 07:48:03',\n",
      " 'lang': 'ko',\n",
      " 'license': 'Bank of Korea',\n",
      " 'meta_files': {'train': 'meta-bok_minutes-train.parquet'},\n",
      " 'meta_files_modified': '2022-06-10 07:48:02',\n",
      " 'name': 'bok_minutes',\n",
      " 'num_bytes_before_processing': 88948,\n",
      " 'num_docs': 1,\n",
      " 'num_docs_before_processing': 1,\n",
      " 'num_segments': 5,\n",
      " 'num_sents': 346,\n",
      " 'num_words': 8171,\n",
      " 'size_in_bytes': 88925,\n",
      " 'size_in_human_bytes': '86.84 KiB',\n",
      " 'splits': {'train': {'data_file': 'bok_minutes-train.parquet',\n",
      "                      'dataset_name': 'bok_minutes',\n",
      "                      'human_bytes': '86.84 KiB',\n",
      "                      'human_bytes_wospc': '78.86 KiB',\n",
      "                      'meta_file': 'meta-bok_minutes-train.parquet',\n",
      "                      'name': 'train',\n",
      "                      'num_bytes': 88925,\n",
      "                      'num_bytes_before_processing': 88948,\n",
      "                      'num_bytes_max': 88925,\n",
      "                      'num_bytes_median': 88925.0,\n",
      "                      'num_bytes_min': 88925,\n",
      "                      'num_bytes_wospc': 80751,\n",
      "                      'num_docs': 1,\n",
      "                      'num_docs_before_processing': 1,\n",
      "                      'num_segments': 5,\n",
      "                      'num_segments_median': 5.0,\n",
      "                      'num_sents': 346,\n",
      "                      'num_sents_median': 346.0,\n",
      "                      'num_words': 8171,\n",
      "                      'num_words_max': 8171,\n",
      "                      'num_words_median': 8171.0,\n",
      "                      'num_words_min': 8171}},\n",
      " 'version': '1.0.0'}\n",
      "                         id               filename                mdate  \\\n",
      "0  BOK_20181130_20181218_S1  BOK_20181130_20181218  2018-11-30 10:00:00   \n",
      "1  BOK_20181130_20181218_S2  BOK_20181130_20181218  2018-11-30 10:00:00   \n",
      "2  BOK_20181130_20181218_S3  BOK_20181130_20181218  2018-11-30 10:00:00   \n",
      "3  BOK_20181130_20181218_S4  BOK_20181130_20181218  2018-11-30 10:00:00   \n",
      "4  BOK_20181130_20181218_S5  BOK_20181130_20181218  2018-11-30 10:00:00   \n",
      "\n",
      "                 rdate              section  \\\n",
      "0  2018-12-18 16:00:00   Economic Situation   \n",
      "1  2018-12-18 16:00:00     Foreign Currency   \n",
      "2  2018-12-18 16:00:00    Financial Markets   \n",
      "3  2018-12-18 16:00:00      Monetary Policy   \n",
      "4  2018-12-18 16:00:00  Participants’ Views   \n",
      "\n",
      "                                                text  \n",
      "0  일부 위원은 관련부서에서 지난 3\\/4분기 중 유로지역 경제성장 부진을 자동차 관련...  \n",
      "1  일부 위원은 그동안 글로벌펀드와 패시브펀드의 규모가 크게 확대되어 우리나라 자본유출...  \n",
      "2  일부 위원은 현재 대기업들이 전반적으로는 문제가 없지만, 건설 조선업 등에 속하는 ...  \n",
      "3  일부 위원은 최근 경기상황과 금융불균형 등을 고려할 때 확장적 재정정책의 필요성에는...  \n",
      "4  일부 위원은 최근 실물경제 성장경로의 하방위험이 다소 커진 것으로 보이고 물가도 상...  \n",
      "(5, 6)\n",
      "                 mdate                rdate               filename  \\\n",
      "0  2018-11-30 10:00:00  2018-12-18 16:00:00  BOK_20181130_20181218   \n",
      "\n",
      "                                                text  \n",
      "0  Economic Situation\\n일부 위원은 관련부서에서 지난 3\\/4분기 중 ...  \n",
      "   id                mdate                rdate               filename  \\\n",
      "0   0  2018-11-30 10:00:00  2018-12-18 16:00:00  BOK_20181130_20181218   \n",
      "\n",
      "                                                text  \n",
      "0  Economic Situation\\n일부 위원은 관련부서에서 지난 3\\/4분기 중 ...  \n"
     ]
    },
    {
     "data": {
      "application/vnd.jupyter.widget-view+json": {
       "model_id": "9ecbc6d66d7c4156ab1eb061268901b5",
       "version_major": 2,
       "version_minor": 0
      },
      "text/plain": [
       "apply len_bytes to num_bytes:   0%|          | 0/1 [00:00<?, ?it/s]"
      ]
     },
     "metadata": {},
     "output_type": "display_data"
    },
    {
     "data": {
      "application/vnd.jupyter.widget-view+json": {
       "model_id": "70317633db5541538d22e3a088777b5f",
       "version_major": 2,
       "version_minor": 0
      },
      "text/plain": [
       "apply len_sents to num_sents:   0%|          | 0/1 [00:00<?, ?it/s]"
      ]
     },
     "metadata": {},
     "output_type": "display_data"
    },
    {
     "data": {
      "application/vnd.jupyter.widget-view+json": {
       "model_id": "1c2b2259514f4ad0b04ee0923f7d2032",
       "version_major": 2,
       "version_minor": 0
      },
      "text/plain": [
       "Normalizing column: text:   0%|          | 0/1 [00:00<?, ?it/s]"
      ]
     },
     "metadata": {},
     "output_type": "display_data"
    },
    {
     "data": {
      "application/vnd.jupyter.widget-view+json": {
       "model_id": "47f4ebdb0e804f58af33c0c10307d51a",
       "version_major": 2,
       "version_minor": 0
      },
      "text/plain": [
       "Calculating length:   0%|          | 0/1 [00:00<?, ?it/s]"
      ]
     },
     "metadata": {},
     "output_type": "display_data"
    },
    {
     "name": "stdout",
     "output_type": "stream",
     "text": [
      "----------------------------------------------------------------------------------------------------\n",
      "\n",
      "text: \n",
      "Economic Situation\n",
      "일부 위원은 관련부서에서 지난 3\\/4분기 중 유로지역 경제성장 부진을 자동차 관련 규제 등 일시적 요인에 의한 것으로 평가한 것과 관련하여, 동...\n",
      "\n",
      "----------------------------------------------------------------------------------------------------\n"
     ]
    },
    {
     "data": {
      "application/vnd.jupyter.widget-view+json": {
       "model_id": "58fe24761d324534bb75fd15286a9715",
       "version_major": 2,
       "version_minor": 0
      },
      "text/plain": [
       "apply len_bytes to num_bytes:   0%|          | 0/1 [00:00<?, ?it/s]"
      ]
     },
     "metadata": {},
     "output_type": "display_data"
    },
    {
     "data": {
      "application/vnd.jupyter.widget-view+json": {
       "model_id": "891779a0bfdc486bb436bd4d92e02874",
       "version_major": 2,
       "version_minor": 0
      },
      "text/plain": [
       "apply len_wospc to num_bytes_wospc:   0%|          | 0/1 [00:00<?, ?it/s]"
      ]
     },
     "metadata": {},
     "output_type": "display_data"
    },
    {
     "data": {
      "application/vnd.jupyter.widget-view+json": {
       "model_id": "8d7123088fa64c01ab7aef0e2995300d",
       "version_major": 2,
       "version_minor": 0
      },
      "text/plain": [
       "apply len_words to num_words:   0%|          | 0/1 [00:00<?, ?it/s]"
      ]
     },
     "metadata": {},
     "output_type": "display_data"
    },
    {
     "data": {
      "application/vnd.jupyter.widget-view+json": {
       "model_id": "bb608110431b4323923e45e00b1d4f94",
       "version_major": 2,
       "version_minor": 0
      },
      "text/plain": [
       "apply len_sents to num_sents:   0%|          | 0/1 [00:00<?, ?it/s]"
      ]
     },
     "metadata": {},
     "output_type": "display_data"
    },
    {
     "data": {
      "application/vnd.jupyter.widget-view+json": {
       "model_id": "f0067601f02d45a5a95f8a41ea999c79",
       "version_major": 2,
       "version_minor": 0
      },
      "text/plain": [
       "apply len_segments to num_segments:   0%|          | 0/1 [00:00<?, ?it/s]"
      ]
     },
     "metadata": {},
     "output_type": "display_data"
    },
    {
     "name": "stdout",
     "output_type": "stream",
     "text": [
      "{'category': 'formal',\n",
      " 'column_info': {'columns': {'id': 'id',\n",
      "                             'merge_meta_on': None,\n",
      "                             'text': 'text',\n",
      "                             'timestamp': None},\n",
      "                 'data': {'id': 'int', 'text': 'str'},\n",
      "                 'datetime': {'_parms_': None, 'columns': None, 'format': None},\n",
      "                 'keys': {'id': 'id',\n",
      "                          'split': 'split',\n",
      "                          'text': 'text',\n",
      "                          'timestamp': 'timestamp'},\n",
      "                 'meta': {'filename': 'str',\n",
      "                          'id': 'int',\n",
      "                          'mdate': 'str',\n",
      "                          'rdate': 'str'},\n",
      "                 'segment_separator': '\\\\n\\\\n',\n",
      "                 'sentence_separator': '\\\\n',\n",
      "                 'timestamp': {'_parms_': None, 'format': None, 'key': None}},\n",
      " 'data_files': {'train': 'bok_minutes-train.parquet'},\n",
      " 'data_files_modified': '2022-06-10 07:48:03',\n",
      " 'description': 'BOK Minutes Corpus',\n",
      " 'fullname': 'BOK MPB Minutes',\n",
      " 'homepage': 'https://www.bok.or.kr',\n",
      " 'info_updated': '2022-06-10 07:48:03',\n",
      " 'lang': 'ko',\n",
      " 'license': 'Bank of Korea',\n",
      " 'meta_files': {'train': 'meta-bok_minutes-train.parquet'},\n",
      " 'meta_files_modified': '2022-06-10 07:48:03',\n",
      " 'name': 'bok_minutes',\n",
      " 'num_bytes_before_processing': 88948,\n",
      " 'num_docs': 1,\n",
      " 'num_docs_before_processing': 1,\n",
      " 'num_segments': 5,\n",
      " 'num_sents': 346,\n",
      " 'num_words': 8171,\n",
      " 'size_in_bytes': 88925,\n",
      " 'size_in_human_bytes': '86.84 KiB',\n",
      " 'splits': {'train': {'data_file': 'bok_minutes-train.parquet',\n",
      "                      'dataset_name': 'bok_minutes',\n",
      "                      'human_bytes': '86.84 KiB',\n",
      "                      'human_bytes_wospc': '78.86 KiB',\n",
      "                      'meta_file': 'meta-bok_minutes-train.parquet',\n",
      "                      'name': 'train',\n",
      "                      'num_bytes': 88925,\n",
      "                      'num_bytes_before_processing': 88948,\n",
      "                      'num_bytes_max': 88925,\n",
      "                      'num_bytes_median': 88925.0,\n",
      "                      'num_bytes_min': 88925,\n",
      "                      'num_bytes_wospc': 80751,\n",
      "                      'num_docs': 1,\n",
      "                      'num_docs_before_processing': 1,\n",
      "                      'num_segments': 5,\n",
      "                      'num_segments_median': 5.0,\n",
      "                      'num_sents': 346,\n",
      "                      'num_sents_median': 346.0,\n",
      "                      'num_words': 8171,\n",
      "                      'num_words_max': 8171,\n",
      "                      'num_words_median': 8171.0,\n",
      "                      'num_words_min': 8171}},\n",
      " 'version': '1.0.0'}\n"
     ]
    }
   ],
   "source": [
    "cfg = eKonf.compose(config_group='corpus/builtin=_dummy_bok_minutes')\n",
    "cfg.data_dir = '../data/bok_minutes'\n",
    "cfg.verbose = True\n",
    "eKonf.print(cfg)\n",
    "db = eKonf.instantiate(cfg)\n",
    "db.build()"
   ]
  },
  {
   "cell_type": "code",
   "execution_count": 3,
   "metadata": {
    "colab": {
     "base_uri": "https://localhost:8080/",
     "height": 1000,
     "referenced_widgets": [
      "790d9af4f03046628294f217df9992b6",
      "000321219e304f73b3ef4cf3f65ebbb8",
      "d14e496a01ea4c15a2e0e52d2df3123f",
      "4c0c00188024458daf9fc9332893e345",
      "2140f576623b465d8c7597d9b7e72f5e",
      "54d869d5eb42477694013ea90a575680",
      "7359214545934faa947d0bccb34e8d5d",
      "db56fa8f641a4143aebcea0467fa4233",
      "53bd559949c54e0ba3f03ddd20e3db04",
      "48fdb3ab74bc4249b2635a3b665d013f",
      "e70bec83363e4f559c98c0c1a1a12b23",
      "62be24c564954a2ab51fbab4c6ebe65d",
      "1dfc3c14a35940b8a45e51f99dd3207f",
      "908f9ad82af64ba185c296a6a20040a5",
      "ca67765dde9749bea97ca494ddba2071",
      "9ce1323f772a48ad9cc5ff960016523a",
      "58900aecb02d4a95a2779704b85a680e",
      "9771a27941d54fca9f6165c88b743501",
      "982a7e16fb8a48f4af631786eb658d41",
      "ae059dfc42b847c7ae0788d13e1c16ea",
      "52db3eff16a94112a8b9ec1a0587d642",
      "f5357709111f4713ae4d78d15fd6cb1e",
      "9cd05b01212a4c578b1be2fbc3a9e41f",
      "2e0a8285cef64ed78b27f22cd346cacb",
      "993e6e3109dc4c1d9efc681100416fa9",
      "fd07ba7dd11e440fbb23eb9e2a0b93ea",
      "eff8af51b3c34cbbbe6909487d5c405f",
      "b2097da741a44e25ad7df7a9320b1219",
      "804c259847ca43a98410357524129bca",
      "dfd7ef72659a451e8b33853b9493712f",
      "591fcef1e8324d9c9452ed72755e16c0",
      "8870e1b3a8cf49abb9b1c7f244fe8017",
      "2df4658ac779472fbd5e28aa11402385",
      "88168c526b9842ea930d387d35029026",
      "17903b0a638049ec8de132f12203b1cc",
      "819446431026497e80f361c6b767187b",
      "281981b3263d4188b9f73d6c89b02b77",
      "3bfae4dbb2384bcab688ac9046f9017f",
      "036320f973e945e8ac65795cf7711ac1",
      "fdc76925e3eb45f4bd47d45587dc4a54",
      "cd797533f9f244f08eefdeb00a9e4588",
      "3c9eba0f44eb42c2a3a01989a60c82cc",
      "e78b1c11e39e44cd9e433edfc5f4236a",
      "36b4d0e4b011412d9e475180f25f56f6",
      "07838b86a0914df3ba0b01a610423753",
      "02ee36e595e84f39b051f7c5a9ba9b80",
      "c6665a76176e46498f9aec14f2099ae7",
      "5622c3572092408da75d84d64005448b",
      "016285384f81431eb77309aa053d6ae0",
      "f0f2d20a973545a297510ecde71d0c66",
      "290bb00fbb13455289e46415d4afbe17",
      "776dc72772eb40c19b77973bb2ac39df",
      "e3d65fe141be46309b9468480d936085",
      "171bb4d4b6264775853f4f7131d870aa",
      "2e60978f29f64407905eba9d14f0a4b8",
      "21e15b390c5741c98a47a42942fb2198",
      "058166ebc176489bb75c3a20ed0bf96b",
      "8cc677ab74364fd3a3057fa6d34dbc3a",
      "fa327dd31043425c8118f0b5e04532b6",
      "428832819e804e76b5dfeccfd9251685",
      "7c7712bae7df4c07aad57752b83edc7b",
      "5e952a68d10c42e78e67a01c86ff4f17",
      "983ae7b1bebb4e49ab73aa8cbf07491c",
      "4990f0eabf994f9ea95a5a7a5879c1cb",
      "47b7bc0dcda24d1e9bc18235bfb38cd2",
      "522f6f063f1d46438172583ec09e07da",
      "2de6ef1962084bca8bb2368877c6c0ea",
      "75b0437c96b244d39a92add8e45893b0",
      "b74d1a99fa634254844e12e9b5414f95",
      "746a662077c4408c9f9744ec2ddb39cf",
      "5f00d4fb505a483fb368eb3aa5a134b6",
      "cceec1ff80194092a204083d1ee0b59b",
      "1a74ba8088cd4f65874e2dfa9e624af2",
      "bd1672887db14e3e8dde1444c4a25a3b",
      "d9b11d5342d04393bafc091da9e1c98a",
      "1cdfeccc74e2448abb6023955bb212cc",
      "417d02e203ab4b99930f48cfd82ea311"
     ]
    },
    "id": "efZ77OvmPWeh",
    "outputId": "6871f44b-8783-4a00-ffe7-1c3cefa62598"
   },
   "outputs": [
    {
     "data": {
      "application/vnd.jupyter.widget-view+json": {
       "model_id": "05e6476d191b4d51b19f5afeb36d826f",
       "version_major": 2,
       "version_minor": 0
      },
      "text/plain": [
       "apply len_bytes to num_bytes:   0%|          | 0/5 [00:00<?, ?it/s]"
      ]
     },
     "metadata": {},
     "output_type": "display_data"
    },
    {
     "data": {
      "application/vnd.jupyter.widget-view+json": {
       "model_id": "9fe4721d75c94d28a1cc55350b62a594",
       "version_major": 2,
       "version_minor": 0
      },
      "text/plain": [
       "apply len_sents to num_sents:   0%|          | 0/5 [00:00<?, ?it/s]"
      ]
     },
     "metadata": {},
     "output_type": "display_data"
    },
    {
     "data": {
      "application/vnd.jupyter.widget-view+json": {
       "model_id": "8a7310bf38d144c4ad841a563825f815",
       "version_major": 2,
       "version_minor": 0
      },
      "text/plain": [
       "Normalizing column: text:   0%|          | 0/5 [00:00<?, ?it/s]"
      ]
     },
     "metadata": {},
     "output_type": "display_data"
    },
    {
     "data": {
      "application/vnd.jupyter.widget-view+json": {
       "model_id": "e0a27304d8b2420eadbdeba6e3c1ed36",
       "version_major": 2,
       "version_minor": 0
      },
      "text/plain": [
       "Splitting column: text:   0%|          | 0/5 [00:00<?, ?it/s]"
      ]
     },
     "metadata": {},
     "output_type": "display_data"
    },
    {
     "data": {
      "application/vnd.jupyter.widget-view+json": {
       "model_id": "5bcc0db555314abf88cc5e0460ee96f6",
       "version_major": 2,
       "version_minor": 0
      },
      "text/plain": [
       "apply len_bytes to num_bytes:   0%|          | 0/5 [00:00<?, ?it/s]"
      ]
     },
     "metadata": {},
     "output_type": "display_data"
    },
    {
     "data": {
      "application/vnd.jupyter.widget-view+json": {
       "model_id": "056697f2a4224aeda464c5601163b947",
       "version_major": 2,
       "version_minor": 0
      },
      "text/plain": [
       "apply len_wospc to num_bytes_wospc:   0%|          | 0/5 [00:00<?, ?it/s]"
      ]
     },
     "metadata": {},
     "output_type": "display_data"
    },
    {
     "data": {
      "application/vnd.jupyter.widget-view+json": {
       "model_id": "3d8dfe8d1e2749f88b132fd078db4a52",
       "version_major": 2,
       "version_minor": 0
      },
      "text/plain": [
       "apply len_words to num_words:   0%|          | 0/5 [00:00<?, ?it/s]"
      ]
     },
     "metadata": {},
     "output_type": "display_data"
    },
    {
     "data": {
      "application/vnd.jupyter.widget-view+json": {
       "model_id": "c9f645cf277542c083f3a5f4b2f29e45",
       "version_major": 2,
       "version_minor": 0
      },
      "text/plain": [
       "apply len_sents to num_sents:   0%|          | 0/5 [00:00<?, ?it/s]"
      ]
     },
     "metadata": {},
     "output_type": "display_data"
    },
    {
     "data": {
      "application/vnd.jupyter.widget-view+json": {
       "model_id": "96ff6b3f362c4bc790a9a9c50d8cea1f",
       "version_major": 2,
       "version_minor": 0
      },
      "text/plain": [
       "apply len_segments to num_segments:   0%|          | 0/5 [00:00<?, ?it/s]"
      ]
     },
     "metadata": {},
     "output_type": "display_data"
    },
    {
     "data": {
      "application/vnd.jupyter.widget-view+json": {
       "model_id": "70b55c7232994c8981e69b0354bc7105",
       "version_major": 2,
       "version_minor": 0
      },
      "text/plain": [
       "apply len_bytes to num_bytes:   0%|          | 0/5 [00:00<?, ?it/s]"
      ]
     },
     "metadata": {},
     "output_type": "display_data"
    },
    {
     "data": {
      "application/vnd.jupyter.widget-view+json": {
       "model_id": "311428ef67744a1fbf30960c3fd92ac2",
       "version_major": 2,
       "version_minor": 0
      },
      "text/plain": [
       "apply len_sents to num_sents:   0%|          | 0/5 [00:00<?, ?it/s]"
      ]
     },
     "metadata": {},
     "output_type": "display_data"
    },
    {
     "data": {
      "application/vnd.jupyter.widget-view+json": {
       "model_id": "2967147c71844a88a783347caf5ce2f1",
       "version_major": 2,
       "version_minor": 0
      },
      "text/plain": [
       "Normalizing column: text:   0%|          | 0/5 [00:00<?, ?it/s]"
      ]
     },
     "metadata": {},
     "output_type": "display_data"
    },
    {
     "data": {
      "application/vnd.jupyter.widget-view+json": {
       "model_id": "7ec6771e83144390a058030c7ebe2ed1",
       "version_major": 2,
       "version_minor": 0
      },
      "text/plain": [
       "Splitting column: text:   0%|          | 0/5 [00:00<?, ?it/s]"
      ]
     },
     "metadata": {},
     "output_type": "display_data"
    },
    {
     "data": {
      "application/vnd.jupyter.widget-view+json": {
       "model_id": "986ca90aaf664e9da2c555751aa20046",
       "version_major": 2,
       "version_minor": 0
      },
      "text/plain": [
       "apply len_bytes to num_bytes:   0%|          | 0/5 [00:00<?, ?it/s]"
      ]
     },
     "metadata": {},
     "output_type": "display_data"
    },
    {
     "data": {
      "application/vnd.jupyter.widget-view+json": {
       "model_id": "0614bed53c06473c9bdbb5c16236330a",
       "version_major": 2,
       "version_minor": 0
      },
      "text/plain": [
       "apply len_wospc to num_bytes_wospc:   0%|          | 0/5 [00:00<?, ?it/s]"
      ]
     },
     "metadata": {},
     "output_type": "display_data"
    },
    {
     "data": {
      "application/vnd.jupyter.widget-view+json": {
       "model_id": "492f8ef2c10345e09fe2dfae01d9a8a0",
       "version_major": 2,
       "version_minor": 0
      },
      "text/plain": [
       "apply len_words to num_words:   0%|          | 0/5 [00:00<?, ?it/s]"
      ]
     },
     "metadata": {},
     "output_type": "display_data"
    },
    {
     "data": {
      "application/vnd.jupyter.widget-view+json": {
       "model_id": "34c30c618812421c9cf92b2ef5608106",
       "version_major": 2,
       "version_minor": 0
      },
      "text/plain": [
       "apply len_sents to num_sents:   0%|          | 0/5 [00:00<?, ?it/s]"
      ]
     },
     "metadata": {},
     "output_type": "display_data"
    },
    {
     "data": {
      "application/vnd.jupyter.widget-view+json": {
       "model_id": "938dc8308c3e40af9c1f6d45c218cddf",
       "version_major": 2,
       "version_minor": 0
      },
      "text/plain": [
       "apply len_segments to num_segments:   0%|          | 0/5 [00:00<?, ?it/s]"
      ]
     },
     "metadata": {},
     "output_type": "display_data"
    }
   ],
   "source": [
    "cfg = eKonf.compose(config_group='corpus/builtin=_dummy_fomc_minutes')\n",
    "cfg.data_dir = '../data/fomc_minutes'\n",
    "db = eKonf.instantiate(cfg)\n",
    "db.build()"
   ]
  },
  {
   "cell_type": "markdown",
   "metadata": {
    "id": "tJpz9ehuPWeh"
   },
   "source": [
    "## Instantiating corpora"
   ]
  },
  {
   "cell_type": "code",
   "execution_count": 2,
   "metadata": {
    "colab": {
     "base_uri": "https://localhost:8080/"
    },
    "id": "iAc66OeiPWei",
    "outputId": "105cddaa-699e-4771-b01c-30067cec184f"
   },
   "outputs": [
    {
     "name": "stdout",
     "output_type": "stream",
     "text": [
      "Corpora\n",
      "----------\n",
      "bok_minutes\n",
      "fomc_minutes\n",
      "\n"
     ]
    }
   ],
   "source": [
    "cfg = eKonf.compose(config_group='corpus=corpora')\n",
    "cfg.name = ['bok_minutes', 'fomc_minutes']\n",
    "cfg.data_dir = '../data'\n",
    "cfg.auto.load = True\n",
    "crps = eKonf.instantiate(cfg)\n",
    "print(crps)"
   ]
  },
  {
   "cell_type": "code",
   "execution_count": 4,
   "metadata": {
    "colab": {
     "base_uri": "https://localhost:8080/",
     "height": 80
    },
    "id": "DZO0rgSLX2rP",
    "outputId": "6efb0dcf-ce49-4fae-b588-5a49d0817960"
   },
   "outputs": [
    {
     "data": {
      "text/html": [
       "<div>\n",
       "<style scoped>\n",
       "    .dataframe tbody tr th:only-of-type {\n",
       "        vertical-align: middle;\n",
       "    }\n",
       "\n",
       "    .dataframe tbody tr th {\n",
       "        vertical-align: top;\n",
       "    }\n",
       "\n",
       "    .dataframe thead th {\n",
       "        text-align: right;\n",
       "    }\n",
       "</style>\n",
       "<table border=\"1\" class=\"dataframe\">\n",
       "  <thead>\n",
       "    <tr style=\"text-align: right;\">\n",
       "      <th></th>\n",
       "      <th>id</th>\n",
       "      <th>text</th>\n",
       "    </tr>\n",
       "  </thead>\n",
       "  <tbody>\n",
       "    <tr>\n",
       "      <th>0</th>\n",
       "      <td>0</td>\n",
       "      <td>Economic Situation\\n일부 위원은 관련부서에서 지난 3\\/4분기 중 ...</td>\n",
       "    </tr>\n",
       "  </tbody>\n",
       "</table>\n",
       "</div>"
      ],
      "text/plain": [
       "   id                                               text\n",
       "0   0  Economic Situation\\n일부 위원은 관련부서에서 지난 3\\/4분기 중 ..."
      ]
     },
     "execution_count": 4,
     "metadata": {},
     "output_type": "execute_result"
    }
   ],
   "source": [
    "crps['bok_minutes'].data"
   ]
  },
  {
   "cell_type": "code",
   "execution_count": 5,
   "metadata": {
    "colab": {
     "base_uri": "https://localhost:8080/",
     "height": 206
    },
    "id": "lGPnTMPpX4LB",
    "outputId": "b0a63238-8fca-4eb9-9c75-2f4e59d91a22"
   },
   "outputs": [
    {
     "data": {
      "text/html": [
       "<div>\n",
       "<style scoped>\n",
       "    .dataframe tbody tr th:only-of-type {\n",
       "        vertical-align: middle;\n",
       "    }\n",
       "\n",
       "    .dataframe tbody tr th {\n",
       "        vertical-align: top;\n",
       "    }\n",
       "\n",
       "    .dataframe thead th {\n",
       "        text-align: right;\n",
       "    }\n",
       "</style>\n",
       "<table border=\"1\" class=\"dataframe\">\n",
       "  <thead>\n",
       "    <tr style=\"text-align: right;\">\n",
       "      <th></th>\n",
       "      <th>id</th>\n",
       "      <th>text</th>\n",
       "    </tr>\n",
       "  </thead>\n",
       "  <tbody>\n",
       "    <tr>\n",
       "      <th>0</th>\n",
       "      <td>0</td>\n",
       "      <td>A meeting of the Federal Open Market Committee...</td>\n",
       "    </tr>\n",
       "    <tr>\n",
       "      <th>1</th>\n",
       "      <td>1</td>\n",
       "      <td>A meeting of the Federal Open Market Committee...</td>\n",
       "    </tr>\n",
       "    <tr>\n",
       "      <th>2</th>\n",
       "      <td>2</td>\n",
       "      <td>A meeting of the Federal Open Market Committee...</td>\n",
       "    </tr>\n",
       "    <tr>\n",
       "      <th>3</th>\n",
       "      <td>3</td>\n",
       "      <td>A meeting of the Federal Open Market Committee...</td>\n",
       "    </tr>\n",
       "    <tr>\n",
       "      <th>4</th>\n",
       "      <td>4</td>\n",
       "      <td>A meeting of the Federal Open Market Committee...</td>\n",
       "    </tr>\n",
       "  </tbody>\n",
       "</table>\n",
       "</div>"
      ],
      "text/plain": [
       "   id                                               text\n",
       "0   0  A meeting of the Federal Open Market Committee...\n",
       "1   1  A meeting of the Federal Open Market Committee...\n",
       "2   2  A meeting of the Federal Open Market Committee...\n",
       "3   3  A meeting of the Federal Open Market Committee...\n",
       "4   4  A meeting of the Federal Open Market Committee..."
      ]
     },
     "execution_count": 5,
     "metadata": {},
     "output_type": "execute_result"
    }
   ],
   "source": [
    "crps['fomc_minutes'].data"
   ]
  },
  {
   "cell_type": "code",
   "execution_count": 6,
   "metadata": {
    "id": "YKcqI8eBPWej"
   },
   "outputs": [],
   "source": [
    "crps.concat_corpora()"
   ]
  },
  {
   "cell_type": "code",
   "execution_count": 7,
   "metadata": {
    "colab": {
     "base_uri": "https://localhost:8080/",
     "height": 237
    },
    "id": "oCfyCzGuPWek",
    "outputId": "4b0c71c2-f2f6-464b-a99e-6ddd318194fb"
   },
   "outputs": [
    {
     "data": {
      "text/html": [
       "<div>\n",
       "<style scoped>\n",
       "    .dataframe tbody tr th:only-of-type {\n",
       "        vertical-align: middle;\n",
       "    }\n",
       "\n",
       "    .dataframe tbody tr th {\n",
       "        vertical-align: top;\n",
       "    }\n",
       "\n",
       "    .dataframe thead th {\n",
       "        text-align: right;\n",
       "    }\n",
       "</style>\n",
       "<table border=\"1\" class=\"dataframe\">\n",
       "  <thead>\n",
       "    <tr style=\"text-align: right;\">\n",
       "      <th></th>\n",
       "      <th>id</th>\n",
       "      <th>text</th>\n",
       "      <th>corpus</th>\n",
       "    </tr>\n",
       "  </thead>\n",
       "  <tbody>\n",
       "    <tr>\n",
       "      <th>0</th>\n",
       "      <td>0</td>\n",
       "      <td>Economic Situation\\n일부 위원은 관련부서에서 지난 3\\/4분기 중 ...</td>\n",
       "      <td>bok_minutes</td>\n",
       "    </tr>\n",
       "    <tr>\n",
       "      <th>1</th>\n",
       "      <td>0</td>\n",
       "      <td>A meeting of the Federal Open Market Committee...</td>\n",
       "      <td>fomc_minutes</td>\n",
       "    </tr>\n",
       "    <tr>\n",
       "      <th>2</th>\n",
       "      <td>1</td>\n",
       "      <td>A meeting of the Federal Open Market Committee...</td>\n",
       "      <td>fomc_minutes</td>\n",
       "    </tr>\n",
       "    <tr>\n",
       "      <th>3</th>\n",
       "      <td>2</td>\n",
       "      <td>A meeting of the Federal Open Market Committee...</td>\n",
       "      <td>fomc_minutes</td>\n",
       "    </tr>\n",
       "    <tr>\n",
       "      <th>4</th>\n",
       "      <td>3</td>\n",
       "      <td>A meeting of the Federal Open Market Committee...</td>\n",
       "      <td>fomc_minutes</td>\n",
       "    </tr>\n",
       "    <tr>\n",
       "      <th>5</th>\n",
       "      <td>4</td>\n",
       "      <td>A meeting of the Federal Open Market Committee...</td>\n",
       "      <td>fomc_minutes</td>\n",
       "    </tr>\n",
       "  </tbody>\n",
       "</table>\n",
       "</div>"
      ],
      "text/plain": [
       "   id                                               text        corpus\n",
       "0   0  Economic Situation\\n일부 위원은 관련부서에서 지난 3\\/4분기 중 ...   bok_minutes\n",
       "1   0  A meeting of the Federal Open Market Committee...  fomc_minutes\n",
       "2   1  A meeting of the Federal Open Market Committee...  fomc_minutes\n",
       "3   2  A meeting of the Federal Open Market Committee...  fomc_minutes\n",
       "4   3  A meeting of the Federal Open Market Committee...  fomc_minutes\n",
       "5   4  A meeting of the Federal Open Market Committee...  fomc_minutes"
      ]
     },
     "execution_count": 7,
     "metadata": {},
     "output_type": "execute_result"
    }
   ],
   "source": [
    "crps.data"
   ]
  },
  {
   "cell_type": "code",
   "execution_count": 8,
   "metadata": {
    "colab": {
     "base_uri": "https://localhost:8080/",
     "height": 385
    },
    "id": "4DtB1ZY0PWek",
    "outputId": "278c5b8e-37ff-4e5b-f9e4-56f71392a45b"
   },
   "outputs": [
    {
     "data": {
      "text/html": [
       "<div>\n",
       "<style scoped>\n",
       "    .dataframe tbody tr th:only-of-type {\n",
       "        vertical-align: middle;\n",
       "    }\n",
       "\n",
       "    .dataframe tbody tr th {\n",
       "        vertical-align: top;\n",
       "    }\n",
       "\n",
       "    .dataframe thead th {\n",
       "        text-align: right;\n",
       "    }\n",
       "</style>\n",
       "<table border=\"1\" class=\"dataframe\">\n",
       "  <thead>\n",
       "    <tr style=\"text-align: right;\">\n",
       "      <th></th>\n",
       "      <th>id</th>\n",
       "      <th>mdate</th>\n",
       "      <th>rdate</th>\n",
       "      <th>filename</th>\n",
       "      <th>corpus</th>\n",
       "      <th>date</th>\n",
       "      <th>speaker</th>\n",
       "      <th>title</th>\n",
       "    </tr>\n",
       "  </thead>\n",
       "  <tbody>\n",
       "    <tr>\n",
       "      <th>0</th>\n",
       "      <td>0</td>\n",
       "      <td>2018-11-30 10:00:00</td>\n",
       "      <td>2018-12-18 16:00:00</td>\n",
       "      <td>BOK_20181130_20181218</td>\n",
       "      <td>bok_minutes</td>\n",
       "      <td>NaN</td>\n",
       "      <td>NaN</td>\n",
       "      <td>NaN</td>\n",
       "    </tr>\n",
       "    <tr>\n",
       "      <th>1</th>\n",
       "      <td>0</td>\n",
       "      <td>NaN</td>\n",
       "      <td>NaN</td>\n",
       "      <td>NaN</td>\n",
       "      <td>fomc_minutes</td>\n",
       "      <td>1993-02-03</td>\n",
       "      <td>Alan Greenspan</td>\n",
       "      <td>FOMC Meeting Minutes</td>\n",
       "    </tr>\n",
       "    <tr>\n",
       "      <th>2</th>\n",
       "      <td>1</td>\n",
       "      <td>NaN</td>\n",
       "      <td>NaN</td>\n",
       "      <td>NaN</td>\n",
       "      <td>fomc_minutes</td>\n",
       "      <td>1993-03-23</td>\n",
       "      <td>Alan Greenspan</td>\n",
       "      <td>FOMC Meeting Minutes</td>\n",
       "    </tr>\n",
       "    <tr>\n",
       "      <th>3</th>\n",
       "      <td>2</td>\n",
       "      <td>NaN</td>\n",
       "      <td>NaN</td>\n",
       "      <td>NaN</td>\n",
       "      <td>fomc_minutes</td>\n",
       "      <td>1993-05-18</td>\n",
       "      <td>Alan Greenspan</td>\n",
       "      <td>FOMC Meeting Minutes</td>\n",
       "    </tr>\n",
       "    <tr>\n",
       "      <th>4</th>\n",
       "      <td>3</td>\n",
       "      <td>NaN</td>\n",
       "      <td>NaN</td>\n",
       "      <td>NaN</td>\n",
       "      <td>fomc_minutes</td>\n",
       "      <td>1993-07-07</td>\n",
       "      <td>Alan Greenspan</td>\n",
       "      <td>FOMC Meeting Minutes</td>\n",
       "    </tr>\n",
       "    <tr>\n",
       "      <th>5</th>\n",
       "      <td>4</td>\n",
       "      <td>NaN</td>\n",
       "      <td>NaN</td>\n",
       "      <td>NaN</td>\n",
       "      <td>fomc_minutes</td>\n",
       "      <td>1993-08-17</td>\n",
       "      <td>Alan Greenspan</td>\n",
       "      <td>FOMC Meeting Minutes</td>\n",
       "    </tr>\n",
       "  </tbody>\n",
       "</table>\n",
       "</div>"
      ],
      "text/plain": [
       "   id                mdate                rdate               filename  \\\n",
       "0   0  2018-11-30 10:00:00  2018-12-18 16:00:00  BOK_20181130_20181218   \n",
       "1   0                  NaN                  NaN                    NaN   \n",
       "2   1                  NaN                  NaN                    NaN   \n",
       "3   2                  NaN                  NaN                    NaN   \n",
       "4   3                  NaN                  NaN                    NaN   \n",
       "5   4                  NaN                  NaN                    NaN   \n",
       "\n",
       "         corpus        date         speaker                 title  \n",
       "0   bok_minutes         NaN             NaN                   NaN  \n",
       "1  fomc_minutes  1993-02-03  Alan Greenspan  FOMC Meeting Minutes  \n",
       "2  fomc_minutes  1993-03-23  Alan Greenspan  FOMC Meeting Minutes  \n",
       "3  fomc_minutes  1993-05-18  Alan Greenspan  FOMC Meeting Minutes  \n",
       "4  fomc_minutes  1993-07-07  Alan Greenspan  FOMC Meeting Minutes  \n",
       "5  fomc_minutes  1993-08-17  Alan Greenspan  FOMC Meeting Minutes  "
      ]
     },
     "execution_count": 8,
     "metadata": {},
     "output_type": "execute_result"
    }
   ],
   "source": [
    "crps.metadata"
   ]
  },
  {
   "cell_type": "markdown",
   "metadata": {
    "id": "zpdqyeyPPWek"
   },
   "source": [
    "## Instantiating a corpus"
   ]
  },
  {
   "cell_type": "code",
   "execution_count": 9,
   "metadata": {
    "colab": {
     "base_uri": "https://localhost:8080/"
    },
    "id": "DFsykazvPWel",
    "outputId": "7ab40ae7-42ba-4b6c-f0da-908c6d45ddb9"
   },
   "outputs": [
    {
     "name": "stdout",
     "output_type": "stream",
     "text": [
      "Corpus : bok_minutes\n"
     ]
    }
   ],
   "source": [
    "cfg = eKonf.compose('corpus')\n",
    "cfg.name = 'bok_minutes'\n",
    "cfg.data_dir = '../data'\n",
    "crps = eKonf.instantiate(cfg)\n",
    "print(crps)"
   ]
  },
  {
   "cell_type": "code",
   "execution_count": 10,
   "metadata": {
    "colab": {
     "base_uri": "https://localhost:8080/",
     "height": 80
    },
    "id": "N2b2774dPWel",
    "outputId": "d3a3290a-3364-4fcd-c653-a47fa1cd3100"
   },
   "outputs": [
    {
     "data": {
      "text/html": [
       "<div>\n",
       "<style scoped>\n",
       "    .dataframe tbody tr th:only-of-type {\n",
       "        vertical-align: middle;\n",
       "    }\n",
       "\n",
       "    .dataframe tbody tr th {\n",
       "        vertical-align: top;\n",
       "    }\n",
       "\n",
       "    .dataframe thead th {\n",
       "        text-align: right;\n",
       "    }\n",
       "</style>\n",
       "<table border=\"1\" class=\"dataframe\">\n",
       "  <thead>\n",
       "    <tr style=\"text-align: right;\">\n",
       "      <th></th>\n",
       "      <th>id</th>\n",
       "      <th>text</th>\n",
       "    </tr>\n",
       "  </thead>\n",
       "  <tbody>\n",
       "    <tr>\n",
       "      <th>0</th>\n",
       "      <td>0</td>\n",
       "      <td>Economic Situation\\n일부 위원은 관련부서에서 지난 3\\/4분기 중 ...</td>\n",
       "    </tr>\n",
       "  </tbody>\n",
       "</table>\n",
       "</div>"
      ],
      "text/plain": [
       "   id                                               text\n",
       "0   0  Economic Situation\\n일부 위원은 관련부서에서 지난 3\\/4분기 중 ..."
      ]
     },
     "execution_count": 10,
     "metadata": {},
     "output_type": "execute_result"
    }
   ],
   "source": [
    "crps.data"
   ]
  },
  {
   "cell_type": "code",
   "execution_count": 11,
   "metadata": {
    "colab": {
     "base_uri": "https://localhost:8080/",
     "height": 80
    },
    "id": "66U095XOPWel",
    "outputId": "df2c487f-8ca2-4963-fd8d-84de855d5e86"
   },
   "outputs": [
    {
     "data": {
      "text/html": [
       "<div>\n",
       "<style scoped>\n",
       "    .dataframe tbody tr th:only-of-type {\n",
       "        vertical-align: middle;\n",
       "    }\n",
       "\n",
       "    .dataframe tbody tr th {\n",
       "        vertical-align: top;\n",
       "    }\n",
       "\n",
       "    .dataframe thead th {\n",
       "        text-align: right;\n",
       "    }\n",
       "</style>\n",
       "<table border=\"1\" class=\"dataframe\">\n",
       "  <thead>\n",
       "    <tr style=\"text-align: right;\">\n",
       "      <th></th>\n",
       "      <th>id</th>\n",
       "      <th>mdate</th>\n",
       "      <th>rdate</th>\n",
       "      <th>filename</th>\n",
       "    </tr>\n",
       "  </thead>\n",
       "  <tbody>\n",
       "    <tr>\n",
       "      <th>0</th>\n",
       "      <td>0</td>\n",
       "      <td>2018-11-30 10:00:00</td>\n",
       "      <td>2018-12-18 16:00:00</td>\n",
       "      <td>BOK_20181130_20181218</td>\n",
       "    </tr>\n",
       "  </tbody>\n",
       "</table>\n",
       "</div>"
      ],
      "text/plain": [
       "   id                mdate                rdate               filename\n",
       "0   0  2018-11-30 10:00:00  2018-12-18 16:00:00  BOK_20181130_20181218"
      ]
     },
     "execution_count": 11,
     "metadata": {},
     "output_type": "execute_result"
    }
   ],
   "source": [
    "crps.metadata"
   ]
  },
  {
   "cell_type": "code",
   "execution_count": 12,
   "metadata": {
    "colab": {
     "base_uri": "https://localhost:8080/"
    },
    "id": "pUGzuV0vPWel",
    "outputId": "4c2ec7ff-8b2d-4d7b-ccd7-2b77f27486b5"
   },
   "outputs": [
    {
     "name": "stdout",
     "output_type": "stream",
     "text": [
      "id ['id'] text ['id', 'text'] ['id', 'mdate', 'rdate', 'filename']\n"
     ]
    }
   ],
   "source": [
    "print(crps.ID, crps.IDs, crps.TEXT, crps.DATA, crps.METADATA)"
   ]
  },
  {
   "cell_type": "code",
   "execution_count": 8,
   "metadata": {
    "colab": {
     "base_uri": "https://localhost:8080/"
    },
    "id": "kArHj0GHPWem",
    "outputId": "39ce0ab9-1e3f-4efc-8d30-52def175a0a5"
   },
   "outputs": [
    {
     "name": "stdout",
     "output_type": "stream",
     "text": [
      "{'category': 'formal',\n",
      " 'column_info': {'columns': {'id': 'id',\n",
      "                             'merge_meta_on': None,\n",
      "                             'text': 'text',\n",
      "                             'timestamp': None},\n",
      "                 'data': {'id': 'int', 'text': 'str'},\n",
      "                 'datetime': {'_parms_': None, 'columns': None, 'format': None},\n",
      "                 'keys': {'id': 'id',\n",
      "                          'split': 'split',\n",
      "                          'text': 'text',\n",
      "                          'timestamp': 'timestamp'},\n",
      "                 'meta': {'filename': 'str',\n",
      "                          'id': 'int',\n",
      "                          'mdate': 'str',\n",
      "                          'rdate': 'str'},\n",
      "                 'segment_separator': '\\\\n\\\\n',\n",
      "                 'sentence_separator': '\\\\n',\n",
      "                 'timestamp': {'_parms_': None, 'format': None, 'key': None}},\n",
      " 'data_files': {'train': 'bok_minutes-train.parquet'},\n",
      " 'data_files_modified': '2022-06-10 07:48:03',\n",
      " 'description': 'BOK Minutes Corpus',\n",
      " 'fullname': 'BOK MPB Minutes',\n",
      " 'homepage': 'https://www.bok.or.kr',\n",
      " 'info_updated': '2022-06-10 07:48:03',\n",
      " 'lang': 'ko',\n",
      " 'license': 'Bank of Korea',\n",
      " 'meta_files': {'train': 'meta-bok_minutes-train.parquet'},\n",
      " 'meta_files_modified': '2022-06-10 07:48:03',\n",
      " 'name': 'bok_minutes',\n",
      " 'num_bytes_before_processing': 88948,\n",
      " 'num_docs': 1,\n",
      " 'num_docs_before_processing': 1,\n",
      " 'num_segments': 5,\n",
      " 'num_sents': 346,\n",
      " 'num_words': 8171,\n",
      " 'size_in_bytes': 88925,\n",
      " 'size_in_human_bytes': '86.84 KiB',\n",
      " 'splits': {'train': {'data_file': 'bok_minutes-train.parquet',\n",
      "                      'dataset_name': 'bok_minutes',\n",
      "                      'human_bytes': '86.84 KiB',\n",
      "                      'human_bytes_wospc': '78.86 KiB',\n",
      "                      'meta_file': 'meta-bok_minutes-train.parquet',\n",
      "                      'name': 'train',\n",
      "                      'num_bytes': 88925,\n",
      "                      'num_bytes_before_processing': 88948,\n",
      "                      'num_bytes_max': 88925,\n",
      "                      'num_bytes_median': 88925.0,\n",
      "                      'num_bytes_min': 88925,\n",
      "                      'num_bytes_wospc': 80751,\n",
      "                      'num_docs': 1,\n",
      "                      'num_docs_before_processing': 1,\n",
      "                      'num_segments': 5,\n",
      "                      'num_segments_median': 5.0,\n",
      "                      'num_sents': 346,\n",
      "                      'num_sents_median': 346.0,\n",
      "                      'num_words': 8171,\n",
      "                      'num_words_max': 8171,\n",
      "                      'num_words_median': 8171.0,\n",
      "                      'num_words_min': 8171}},\n",
      " 'version': '1.0.0'}\n"
     ]
    }
   ],
   "source": [
    "eKonf.pprint(crps.INFO)"
   ]
  },
  {
   "cell_type": "code",
   "execution_count": null,
   "metadata": {
    "id": "_hXmySfsPWem"
   },
   "outputs": [],
   "source": []
  }
 ],
 "metadata": {
  "colab": {
   "name": "corpus.ipynb",
   "provenance": []
  },
  "interpreter": {
   "hash": "f869af7787e6a1c49e09e367fc6e1b81d93d1c6583b43249c80edc047bd13cb2"
  },
  "kernelspec": {
   "display_name": "Python 3",
   "language": "python",
   "name": "python3"
  },
  "language_info": {
   "codemirror_mode": {
    "name": "ipython",
    "version": 3
   },
   "file_extension": ".py",
   "mimetype": "text/x-python",
   "name": "python",
   "nbconvert_exporter": "python",
   "pygments_lexer": "ipython3",
   "version": "3.8.12"
  },
  "widgets": {
   "application/vnd.jupyter.widget-state+json": {
    "state": {},
    "version_major": 2,
    "version_minor": 0
   }
  }
 },
 "nbformat": 4,
 "nbformat_minor": 1
}
