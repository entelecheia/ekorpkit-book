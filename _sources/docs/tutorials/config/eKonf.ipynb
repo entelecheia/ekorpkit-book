{
 "cells": [
  {
   "cell_type": "markdown",
   "metadata": {
    "colab_type": "text",
    "id": "lHecaO_7JG6L"
   },
   "source": [
    "# Using eKonf class\n"
   ]
  },
  {
   "cell_type": "code",
   "execution_count": 1,
   "metadata": {},
   "outputs": [
    {
     "name": "stdout",
     "output_type": "stream",
     "text": [
      "version: 0.1.33+15.ge9a9801.dirty\n",
      "is notebook? True\n",
      "is colab? False\n",
      "evironment varialbles:\n",
      "{'EKORPKIT_CONFIG_DIR': '/workspace/projects/ekorpkit-book/config',\n",
      " 'EKORPKIT_DATA_DIR': None,\n",
      " 'EKORPKIT_PROJECT': 'ekorpkit-book',\n",
      " 'EKORPKIT_WORKSPACE_ROOT': '/workspace',\n",
      " 'NUM_WORKERS': 230}\n"
     ]
    }
   ],
   "source": [
    "%config InlineBackend.figure_format='retina'\n",
    "import logging\n",
    "from ekorpkit import eKonf\n",
    "\n",
    "logging.basicConfig(level=logging.WARNING)\n",
    "print(\"version:\", eKonf.__version__)\n",
    "print(\"is notebook?\", eKonf.is_notebook())\n",
    "print(\"is colab?\", eKonf.is_colab())\n",
    "print(\"evironment varialbles:\")\n",
    "eKonf.print(eKonf.env().dict())"
   ]
  },
  {
   "cell_type": "code",
   "execution_count": 3,
   "metadata": {},
   "outputs": [
    {
     "name": "stdout",
     "output_type": "stream",
     "text": [
      "GPU 0: A100-SXM4-40GB (UUID: GPU-ba9eb436-2972-84ca-524a-5de92e8137a7)\n",
      "GPU 1: A100-SXM4-40GB (UUID: GPU-1721f27e-bf66-757c-824c-59975caa94fd)\n",
      "GPU 2: A100-SXM4-40GB (UUID: GPU-3f534872-147b-caff-42df-29734eb6c618)\n",
      "GPU 3: A100-SXM4-40GB (UUID: GPU-1b8e4f1d-6a0d-6c8e-1cb3-a233d2b6a0f8)\n",
      "GPU 4: A100-SXM4-40GB (UUID: GPU-b1f9efea-0e98-cda8-1b23-cf5991868878)\n",
      "GPU 5: A100-SXM4-40GB (UUID: GPU-e2549b80-558c-8a9c-3426-98d7c85ddea1)\n",
      "GPU 6: A100-SXM4-40GB (UUID: GPU-652bf721-96be-bc42-66b2-f8c3eadee2e7)\n",
      "GPU 7: A100-SXM4-40GB (UUID: GPU-5b4af9ec-af51-7a89-334a-d8da5a8b485c)\n",
      "\n"
     ]
    }
   ],
   "source": [
    "print(eKonf.nvidia_smi())"
   ]
  },
  {
   "cell_type": "code",
   "execution_count": 6,
   "metadata": {},
   "outputs": [],
   "source": [
    "eKonf.osenv(\"PYTHONPATH\")"
   ]
  },
  {
   "cell_type": "code",
   "execution_count": null,
   "metadata": {},
   "outputs": [],
   "source": []
  }
 ],
 "metadata": {
  "accelerator": "GPU",
  "colab": {
   "collapsed_sections": [],
   "name": "FOMC_Analysis_BaselineModels.ipynb",
   "provenance": [],
   "toc_visible": true
  },
  "interpreter": {
   "hash": "f869af7787e6a1c49e09e367fc6e1b81d93d1c6583b43249c80edc047bd13cb2"
  },
  "kernelspec": {
   "display_name": "Python 3",
   "language": "python",
   "name": "python3"
  },
  "language_info": {
   "codemirror_mode": {
    "name": "ipython",
    "version": 3
   },
   "file_extension": ".py",
   "mimetype": "text/x-python",
   "name": "python",
   "nbconvert_exporter": "python",
   "pygments_lexer": "ipython3",
   "version": "3.8.12"
  },
  "widgets": {
   "application/vnd.jupyter.widget-state+json": {
    "state": {},
    "version_major": 2,
    "version_minor": 0
   }
  }
 },
 "nbformat": 4,
 "nbformat_minor": 1
}
