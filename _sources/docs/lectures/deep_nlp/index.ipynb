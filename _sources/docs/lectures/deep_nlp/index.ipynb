{
 "cells": [
  {
   "cell_type": "markdown",
   "id": "76b40700",
   "metadata": {},
   "source": [
    "# Deep Learning for NLP"
   ]
  },
  {
   "cell_type": "markdown",
   "id": "e9c99162",
   "metadata": {},
   "source": [
    "## 📜 Course Description\n",
    "\n",
    "This course aims to cover cutting-edge deep learning methods for natural language processing. The topics include word embeddings and contextualized word embeddings; language models; transformers; pre-training and fine-tuning; sequence tagging (NER, question answering); sequence generation (summarization, machine translation), zero-shot learning, etc.\n"
   ]
  },
  {
   "cell_type": "markdown",
   "id": "ee7884ff",
   "metadata": {},
   "source": [
    "## ♾️ Learning Goals\n",
    "\n",
    "By the end of this course, students will be able to: Understand fundamental concepts in natural language processing, including text representation, sequence modeling, and neural machine translation. Understand the state-of-the-art deep learning methods for natural language processing, including word embeddings and contextualized word embeddings; language models; transformers; pre-training and fine-tuning; sequence tagging (NER, question answering); sequence generation (summarization, machine translation), zero-shot learning, etc. Implement key algorithms in natural language processing using deep learning frameworks such as PyTorch or TensorFlow. Train and tune state-of-the-art models on large-scale datasets. Read and understand recent research papers in natural language processing.\n"
   ]
  },
  {
   "cell_type": "markdown",
   "id": "c0bd2f00",
   "metadata": {},
   "source": [
    "## 🏆 Grading\n",
    "\n",
    "- Participation: **10%**\n",
    "- Midterm: **30%**\n",
    "- Term Project: **60%**\n"
   ]
  },
  {
   "cell_type": "markdown",
   "id": "156df085",
   "metadata": {},
   "source": [
    "## 🧠 Term Project\n",
    "\n",
    "Students will be required to complete a term project as part of this course. The term project can take the form of either a research paper or a practical implementation. Students interested in pursuing a research paper should consult with the instructor at the beginning of the term to discuss potential topics. Students interested in pursuing a practical implementation should consult with the instructor at the beginning of the term to discuss datasets and evaluation metrics.\n"
   ]
  },
  {
   "cell_type": "markdown",
   "id": "d7e29cd2",
   "metadata": {},
   "source": [
    "## 🗓️ Table of Contents\n",
    "\n",
    "```{tableofcontents}\n",
    "\n",
    "```\n"
   ]
  },
  {
   "cell_type": "markdown",
   "id": "1fb9de32",
   "metadata": {},
   "source": []
  }
 ],
 "metadata": {
  "kernelspec": {
   "display_name": "Python 3.8.5 ('base')",
   "language": "python",
   "name": "python3"
  },
  "language_info": {
   "name": "python",
   "version": "3.8.5"
  },
  "vscode": {
   "interpreter": {
    "hash": "d4d1e4263499bec80672ea0156c357c1ee493ec2b1c70f0acce89fc37c4a6abe"
   }
  }
 },
 "nbformat": 4,
 "nbformat_minor": 5
}
