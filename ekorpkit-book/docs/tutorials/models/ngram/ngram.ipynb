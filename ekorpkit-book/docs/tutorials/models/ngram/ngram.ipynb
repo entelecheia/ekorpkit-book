{
 "cells": [
  {
   "cell_type": "markdown",
   "metadata": {
    "id": "AESO0odcxhzs"
   },
   "source": [
    "# N-Grams"
   ]
  },
  {
   "cell_type": "code",
   "execution_count": 1,
   "metadata": {},
   "outputs": [
    {
     "name": "stdout",
     "output_type": "stream",
     "text": [
      "0.1.33+3.g88a2e60\n"
     ]
    }
   ],
   "source": [
    "import logging\n",
    "from ekorpkit import eKonf\n",
    "\n",
    "logging.basicConfig(level=logging.WARNING)\n",
    "print(eKonf.__version__)"
   ]
  },
  {
   "cell_type": "markdown",
   "metadata": {
    "id": "dOpN8AxSxhzv"
   },
   "source": [
    "## Tokenize and extract tokens"
   ]
  },
  {
   "cell_type": "code",
   "execution_count": 2,
   "metadata": {},
   "outputs": [],
   "source": [
    "corpus_cfg = eKonf.compose(\"corpus\")\n",
    "corpus_cfg.name = \"bok_minutes\"\n",
    "corpus_cfg.data_dir = \"/workspace/data/datasets/corpus/ekorpkit\"\n"
   ]
  },
  {
   "cell_type": "code",
   "execution_count": 3,
   "metadata": {},
   "outputs": [
    {
     "data": {
      "application/vnd.jupyter.widget-view+json": {
       "model_id": "6a07b8108fb14113a6f1077b89e26459",
       "version_major": 2,
       "version_minor": 0
      },
      "text/plain": [
       "Tokenizing column: text:   0%|          | 0/182 [00:00<?, ?it/s]"
      ]
     },
     "metadata": {},
     "output_type": "display_data"
    },
    {
     "data": {
      "text/html": [
       "<div>\n",
       "<style scoped>\n",
       "    .dataframe tbody tr th:only-of-type {\n",
       "        vertical-align: middle;\n",
       "    }\n",
       "\n",
       "    .dataframe tbody tr th {\n",
       "        vertical-align: top;\n",
       "    }\n",
       "\n",
       "    .dataframe thead th {\n",
       "        text-align: right;\n",
       "    }\n",
       "</style>\n",
       "<table border=\"1\" class=\"dataframe\">\n",
       "  <thead>\n",
       "    <tr style=\"text-align: right;\">\n",
       "      <th></th>\n",
       "      <th>id</th>\n",
       "      <th>text</th>\n",
       "      <th>split</th>\n",
       "      <th>sent_id</th>\n",
       "    </tr>\n",
       "  </thead>\n",
       "  <tbody>\n",
       "    <tr>\n",
       "      <th>181</th>\n",
       "      <td>181</td>\n",
       "      <td>또한/MAJ /SP 글로벌/NNG /SP 공급/NNG 망/NNG /SP 재편/NNG...</td>\n",
       "      <td>train</td>\n",
       "      <td>321</td>\n",
       "    </tr>\n",
       "    <tr>\n",
       "      <th>181</th>\n",
       "      <td>181</td>\n",
       "      <td>향후/NNG /SP 경제/NNG 회복세/NNG 와/JC /SP 물가/NNG 의/JK...</td>\n",
       "      <td>train</td>\n",
       "      <td>322</td>\n",
       "    </tr>\n",
       "    <tr>\n",
       "      <th>181</th>\n",
       "      <td>181</td>\n",
       "      <td></td>\n",
       "      <td>train</td>\n",
       "      <td>323</td>\n",
       "    </tr>\n",
       "    <tr>\n",
       "      <th>181</th>\n",
       "      <td>181</td>\n",
       "      <td>Government/SL ’/SY s/SL /SP View/SL</td>\n",
       "      <td>train</td>\n",
       "      <td>324</td>\n",
       "    </tr>\n",
       "    <tr>\n",
       "      <th>181</th>\n",
       "      <td>181</td>\n",
       "      <td></td>\n",
       "      <td>train</td>\n",
       "      <td>325</td>\n",
       "    </tr>\n",
       "  </tbody>\n",
       "</table>\n",
       "</div>"
      ],
      "text/plain": [
       "      id                                               text  split  sent_id\n",
       "181  181  또한/MAJ /SP 글로벌/NNG /SP 공급/NNG 망/NNG /SP 재편/NNG...  train      321\n",
       "181  181  향후/NNG /SP 경제/NNG 회복세/NNG 와/JC /SP 물가/NNG 의/JK...  train      322\n",
       "181  181                                                     train      323\n",
       "181  181                Government/SL ’/SY s/SL /SP View/SL  train      324\n",
       "181  181                                                     train      325"
      ]
     },
     "execution_count": 3,
     "metadata": {},
     "output_type": "execute_result"
    }
   ],
   "source": [
    "tkn_cfg = eKonf.compose(\"preprocessor/tokenizer=mecab\")\n",
    "cfg = eKonf.compose(\"pipeline\")\n",
    "cfg.data.corpus = corpus_cfg\n",
    "cfg._pipeline_ = [\"tokenize\", \"explode_splits\", \"save_dataframe\"]\n",
    "cfg.num_workers = 100\n",
    "cfg.tokenize.preprocessor.tokenizer = tkn_cfg\n",
    "cfg.explode_splits.id_key = \"id\"\n",
    "cfg.explode_splits.split_key = \"sent_id\"\n",
    "cfg.explode_splits.separator = \"\\n\"\n",
    "cfg.save_dataframe.output_dir = \"../data/bok\"\n",
    "cfg.save_dataframe.output_file = \"bok_minutes_tokenized.parquet\"\n",
    "\n",
    "df = eKonf.instantiate(cfg)\n",
    "df.tail()"
   ]
  },
  {
   "cell_type": "code",
   "execution_count": 4,
   "metadata": {},
   "outputs": [
    {
     "data": {
      "application/vnd.jupyter.widget-view+json": {
       "model_id": "9baca07af8fb496f8354aef92b2c8630",
       "version_major": 2,
       "version_minor": 0
      },
      "text/plain": [
       "Extracting column: text:   0%|          | 0/36191 [00:00<?, ?it/s]"
      ]
     },
     "metadata": {},
     "output_type": "display_data"
    },
    {
     "data": {
      "text/html": [
       "<div>\n",
       "<style scoped>\n",
       "    .dataframe tbody tr th:only-of-type {\n",
       "        vertical-align: middle;\n",
       "    }\n",
       "\n",
       "    .dataframe tbody tr th {\n",
       "        vertical-align: top;\n",
       "    }\n",
       "\n",
       "    .dataframe thead th {\n",
       "        text-align: right;\n",
       "    }\n",
       "</style>\n",
       "<table border=\"1\" class=\"dataframe\">\n",
       "  <thead>\n",
       "    <tr style=\"text-align: right;\">\n",
       "      <th></th>\n",
       "      <th>id</th>\n",
       "      <th>text</th>\n",
       "      <th>split</th>\n",
       "      <th>sent_id</th>\n",
       "    </tr>\n",
       "  </thead>\n",
       "  <tbody>\n",
       "    <tr>\n",
       "      <th>181</th>\n",
       "      <td>181</td>\n",
       "      <td>또한/MAJ 글로벌/NNG 공급/NNG 망/NNG 재편/NNG 기후/NNG 변화/N...</td>\n",
       "      <td>train</td>\n",
       "      <td>321</td>\n",
       "    </tr>\n",
       "    <tr>\n",
       "      <th>181</th>\n",
       "      <td>181</td>\n",
       "      <td>향후/NNG 경제/NNG 회복세/NNG 와/JC 물가/NNG 의/JKG 흐름/NNG...</td>\n",
       "      <td>train</td>\n",
       "      <td>322</td>\n",
       "    </tr>\n",
       "    <tr>\n",
       "      <th>181</th>\n",
       "      <td>181</td>\n",
       "      <td></td>\n",
       "      <td>train</td>\n",
       "      <td>323</td>\n",
       "    </tr>\n",
       "    <tr>\n",
       "      <th>181</th>\n",
       "      <td>181</td>\n",
       "      <td>Government/SL s/SL View/SL</td>\n",
       "      <td>train</td>\n",
       "      <td>324</td>\n",
       "    </tr>\n",
       "    <tr>\n",
       "      <th>181</th>\n",
       "      <td>181</td>\n",
       "      <td></td>\n",
       "      <td>train</td>\n",
       "      <td>325</td>\n",
       "    </tr>\n",
       "  </tbody>\n",
       "</table>\n",
       "</div>"
      ],
      "text/plain": [
       "      id                                               text  split  sent_id\n",
       "181  181  또한/MAJ 글로벌/NNG 공급/NNG 망/NNG 재편/NNG 기후/NNG 변화/N...  train      321\n",
       "181  181  향후/NNG 경제/NNG 회복세/NNG 와/JC 물가/NNG 의/JKG 흐름/NNG...  train      322\n",
       "181  181                                                     train      323\n",
       "181  181                         Government/SL s/SL View/SL  train      324\n",
       "181  181                                                     train      325"
      ]
     },
     "execution_count": 4,
     "metadata": {},
     "output_type": "execute_result"
    }
   ],
   "source": [
    "tkn_cfg = eKonf.compose(\"preprocessor/tokenizer=mecab_econ\")\n",
    "tkn_cfg.extract.strip_pos = False\n",
    "\n",
    "cfg = eKonf.compose(\"pipeline\")\n",
    "cfg.data.data_dir = \"../data/bok\"\n",
    "cfg.data.data_file = \"bok_minutes_tokenized.parquet\"\n",
    "cfg._pipeline_ = [\"extract_tokens\", \"save_dataframe\"]\n",
    "cfg.num_workers = 100\n",
    "cfg.verbose = True\n",
    "cfg.extract_tokens.preprocessor.tokenizer = tkn_cfg\n",
    "cfg.extract_tokens.nouns_only = False\n",
    "cfg.save_dataframe.output_dir = \"../data/bok\"\n",
    "cfg.save_dataframe.output_file = \"bok_minutes_tokens.parquet\"\n",
    "df = eKonf.instantiate(cfg)\n",
    "df.tail()"
   ]
  },
  {
   "cell_type": "markdown",
   "metadata": {},
   "source": [
    "## Train ngrams"
   ]
  },
  {
   "cell_type": "code",
   "execution_count": 21,
   "metadata": {
    "scrolled": false
   },
   "outputs": [
    {
     "name": "stdout",
     "output_type": "stream",
     "text": [
      "{'_method_': ['initialize'],\n",
      " '_target_': 'ekorpkit.models.ngram.base.Ngrams',\n",
      " 'auto': {'load': True},\n",
      " 'candidates': {'max_candidates': 40000000,\n",
      "                'min_count': 10,\n",
      "                'num_sents_per_pruning': 10000,\n",
      "                'prune_min_ngram_count': 2,\n",
      "                'threshold': 0.4},\n",
      " 'data': {'_target_': 'ekorpkit.pipelines.data.Data',\n",
      "          'column_info': {'_target_': 'ekorpkit.info.column.CorpusInfo',\n",
      "                          'columns': {'id': 'id',\n",
      "                                      'merge_meta_on': 'id',\n",
      "                                      'text': 'text',\n",
      "                                      'timestamp': None},\n",
      "                          'data': {'id': 'int', 'text': 'str'},\n",
      "                          'datetime': {'columns': None,\n",
      "                                       'format': None,\n",
      "                                       'rcParams': None},\n",
      "                          'meta': None,\n",
      "                          'segment_separator': '\\\\n\\\\n',\n",
      "                          'sentence_separator': '\\\\n',\n",
      "                          'timestamp': {'format': None,\n",
      "                                        'key': None,\n",
      "                                        'rcParams': None}},\n",
      "          'columns': None,\n",
      "          'concat_data': True,\n",
      "          'corpus': {'_target_': 'ekorpkit.datasets.corpus.Corpus',\n",
      "                     'auto': {'load': True, 'merge': False},\n",
      "                     'column_info': {'_target_': 'ekorpkit.info.column.CorpusInfo',\n",
      "                                     'columns': {'id': 'id',\n",
      "                                                 'merge_meta_on': 'id',\n",
      "                                                 'text': 'text',\n",
      "                                                 'timestamp': None},\n",
      "                                     'data': {'id': 'int', 'text': 'str'},\n",
      "                                     'datetime': {'columns': None,\n",
      "                                                  'format': None,\n",
      "                                                  'rcParams': None},\n",
      "                                     'meta': None,\n",
      "                                     'segment_separator': '\\\\n\\\\n',\n",
      "                                     'sentence_separator': '\\\\n',\n",
      "                                     'timestamp': {'format': None,\n",
      "                                                   'key': None,\n",
      "                                                   'rcParams': None}},\n",
      "                     'data_dir': '/workspace/data/datasets/corpus',\n",
      "                     'filetype': None,\n",
      "                     'force': {'rebuild': False},\n",
      "                     'metadata_dir': None,\n",
      "                     'name': None,\n",
      "                     'path': {'cache': {'cache_dir': '/workspace/.cache',\n",
      "                                        'extract_archive': True,\n",
      "                                        'force_extract': False,\n",
      "                                        'path': None,\n",
      "                                        'return_parent_dir': True,\n",
      "                                        'uri': None,\n",
      "                                        'verbose': False},\n",
      "                              'cached_path': None,\n",
      "                              'columns': None,\n",
      "                              'concat_data': False,\n",
      "                              'data_columns': None,\n",
      "                              'data_dir': '/workspace/data/datasets/corpus',\n",
      "                              'data_file': None,\n",
      "                              'filetype': None,\n",
      "                              'name': None,\n",
      "                              'output_dir': None,\n",
      "                              'output_file': None,\n",
      "                              'root': '/workspace/data/None',\n",
      "                              'suffix': None,\n",
      "                              'verbose': False},\n",
      "                     'use_name_as_subdir': True,\n",
      "                     'verbose': False},\n",
      "          'data_dir': '../data/bok',\n",
      "          'data_file': 'bok_minutes_tokens.parquet',\n",
      "          'dataset': {'_target_': 'ekorpkit.datasets.dataset.Dataset',\n",
      "                      'auto': {'build': False, 'load': True},\n",
      "                      'column_info': {'_target_': 'ekorpkit.info.column.DatasetInfo',\n",
      "                                      'columns': {'id': 'id', 'text': 'text'},\n",
      "                                      'data': {'id': 'int', 'text': 'str'},\n",
      "                                      'datetime': {'columns': None,\n",
      "                                                   'format': None,\n",
      "                                                   'rcParams': None}},\n",
      "                      'data_dir': '/workspace/data/datasets/dataset',\n",
      "                      'filetype': '.parquet',\n",
      "                      'force': {'rebuild': False},\n",
      "                      'info': {'_target_': 'ekorpkit.info.stat.SummaryInfo',\n",
      "                               'aggregate_info': {'num_examples': 'num_examples',\n",
      "                                                  'size_in_bytes': 'num_bytes'},\n",
      "                               'data_dir': '/workspace/data/datasets/dataset',\n",
      "                               'info_file': 'info-None.yaml',\n",
      "                               'info_list': ['name',\n",
      "                                             'fullname',\n",
      "                                             'domain',\n",
      "                                             'task',\n",
      "                                             'lang',\n",
      "                                             'description',\n",
      "                                             'license',\n",
      "                                             'homepage',\n",
      "                                             'version',\n",
      "                                             'num_examples',\n",
      "                                             'size_in_bytes',\n",
      "                                             'size_in_human_bytes',\n",
      "                                             'data_files_modified',\n",
      "                                             'info_updated',\n",
      "                                             'data_files',\n",
      "                                             'column_info'],\n",
      "                               'key_columns': None,\n",
      "                               'modified_info': {'data_files_modified': 'data_file'},\n",
      "                               'name': None,\n",
      "                               'stats': {'_func_': {'len_bytes': {'_partial_': True,\n",
      "                                                                  '_target_': 'ekorpkit.utils.func.len_bytes'}},\n",
      "                                         '_partial_': True,\n",
      "                                         '_target_': 'ekorpkit.info.stat.summary_stats',\n",
      "                                         'agg_funcs': {'num_bytes': ['count',\n",
      "                                                                     'sum',\n",
      "                                                                     'median',\n",
      "                                                                     'max',\n",
      "                                                                     'min']},\n",
      "                                         'convert_to_humanbytes': {'num_bytes': 'human_bytes'},\n",
      "                                         'key_columns': None,\n",
      "                                         'num_columns': {'num_bytes': 'len_bytes'},\n",
      "                                         'num_workers': 1,\n",
      "                                         'rename_columns': {'num_bytes_count': 'num_examples',\n",
      "                                                            'num_bytes_sum': 'num_bytes'},\n",
      "                                         'text_keys': 'text'},\n",
      "                               'update_files_info': {'data_files': 'data_file',\n",
      "                                                     'meta_files': 'meta_file'},\n",
      "                               'update_info': ['fullname',\n",
      "                                               'lang',\n",
      "                                               'domain',\n",
      "                                               'task',\n",
      "                                               'description',\n",
      "                                               'license',\n",
      "                                               'homepage',\n",
      "                                               'version'],\n",
      "                               'verbose': False},\n",
      "                      'name': None,\n",
      "                      'path': {'cache': {'cache_dir': '/workspace/.cache',\n",
      "                                         'extract_archive': True,\n",
      "                                         'force_extract': False,\n",
      "                                         'path': None,\n",
      "                                         'return_parent_dir': True,\n",
      "                                         'uri': None,\n",
      "                                         'verbose': False},\n",
      "                               'cached_path': None,\n",
      "                               'columns': None,\n",
      "                               'concat_data': False,\n",
      "                               'data_columns': None,\n",
      "                               'data_dir': '/workspace/data/datasets/dataset',\n",
      "                               'data_file': None,\n",
      "                               'filetype': '.parquet',\n",
      "                               'name': None,\n",
      "                               'output_dir': None,\n",
      "                               'output_file': None,\n",
      "                               'root': '/workspace/data/None',\n",
      "                               'suffix': None,\n",
      "                               'verbose': False},\n",
      "                      'use_name_as_subdir': True,\n",
      "                      'verbose': False},\n",
      "          'name': 'data',\n",
      "          'output_dir': '/workspace/projects/esgml/outputs/data',\n",
      "          'output_file': None,\n",
      "          'path': {'cache': {'cache_dir': '/workspace/.cache',\n",
      "                             'extract_archive': True,\n",
      "                             'force_extract': False,\n",
      "                             'path': None,\n",
      "                             'return_parent_dir': True,\n",
      "                             'uri': None,\n",
      "                             'verbose': True},\n",
      "                   'cached_path': None,\n",
      "                   'columns': None,\n",
      "                   'concat_data': True,\n",
      "                   'data': {'base_dir': '../data/bok',\n",
      "                            'columns': None,\n",
      "                            'concatenate': True,\n",
      "                            'dype': None,\n",
      "                            'file': 'bok_minutes_tokens.parquet',\n",
      "                            'filename': 'bok_minutes_tokens.parquet',\n",
      "                            'filepath': '../data/bok/bok_minutes_tokens.parquet',\n",
      "                            'filetype': '',\n",
      "                            'parse_dates': None},\n",
      "                   'data_columns': None,\n",
      "                   'data_dir': '../data/bok',\n",
      "                   'data_file': 'bok_minutes_tokens.parquet',\n",
      "                   'filetype': '',\n",
      "                   'name': 'data',\n",
      "                   'output': {'base_dir': '/workspace/projects/esgml/outputs/data',\n",
      "                              'columns': None,\n",
      "                              'file': None,\n",
      "                              'filename': None,\n",
      "                              'filepath': '/workspace/projects/esgml/outputs/data',\n",
      "                              'filetype': '',\n",
      "                              'suffix': None},\n",
      "                   'output_dir': '/workspace/projects/esgml/outputs/data',\n",
      "                   'output_file': None,\n",
      "                   'root': '/workspace/data/data',\n",
      "                   'suffix': None,\n",
      "                   'verbose': True},\n",
      "          'verbose': True},\n",
      " 'force': {'train': False},\n",
      " 'force_train': False,\n",
      " 'info': {'description': None,\n",
      "          'fullname': None,\n",
      "          'lang': None,\n",
      "          'name': None,\n",
      "          'source': None},\n",
      " 'name': 'ngram',\n",
      " 'ngram': {'delimiter': ';',\n",
      "           'max_n': 3,\n",
      "           'max_skip': None,\n",
      "           'max_window': 3,\n",
      "           'postag_rules': None},\n",
      " 'ngramize': {'apply_postag_rules': True,\n",
      "              'delimiter': '',\n",
      "              'exclude_overlaps': True,\n",
      "              'ignore_scores': False,\n",
      "              'overlaps_to_keep': 'highest_score',\n",
      "              'strip_pos': True,\n",
      "              'threshold': None,\n",
      "              'use_surfaces_to_score': False},\n",
      " 'postag': {'delimiter': '/',\n",
      "            'max_len': 3,\n",
      "            'stop_tags': ['SP', 'SF', 'SE', 'SSO', 'SSC', 'SC', 'SY', 'SH'],\n",
      "            'strip_pos': False,\n",
      "            'use_tags': None},\n",
      " 'preprocessor': {'tokenizer': {'_target_': 'ekorpkit.preprocessors.tokenizer.SimpleTokenizer',\n",
      "                                'extract': {'noun_postags': ['NNG',\n",
      "                                                             'NNP',\n",
      "                                                             'XSN',\n",
      "                                                             'SL',\n",
      "                                                             'XR',\n",
      "                                                             'NNB',\n",
      "                                                             'NR'],\n",
      "                                            'postag_delim': '/',\n",
      "                                            'postag_length': None,\n",
      "                                            'postags': None,\n",
      "                                            'stop_postags': ['SP',\n",
      "                                                             'SF',\n",
      "                                                             'SE',\n",
      "                                                             'SSO',\n",
      "                                                             'SSC',\n",
      "                                                             'SC',\n",
      "                                                             'SY',\n",
      "                                                             'SH'],\n",
      "                                            'strip_pos': True},\n",
      "                                'normalize': None,\n",
      "                                'return_as_list': False,\n",
      "                                'stopwords': {'_target_': 'ekorpkit.preprocessors.stopwords.Stopwords',\n",
      "                                              'lowercase': True,\n",
      "                                              'name': 'stopwords',\n",
      "                                              'nltk_stopwords': None,\n",
      "                                              'stopwords': None,\n",
      "                                              'stopwords_path': None,\n",
      "                                              'verbose': False},\n",
      "                                'stopwords_path': None,\n",
      "                                'tagset': None,\n",
      "                                'tokenize': {'flatten': True,\n",
      "                                             'include_whitespace_token': True,\n",
      "                                             'lowercase': False,\n",
      "                                             'postag_delim': '/',\n",
      "                                             'postag_length': None,\n",
      "                                             'punct_postags': ['SF',\n",
      "                                                               'SP',\n",
      "                                                               'SSO',\n",
      "                                                               'SSC',\n",
      "                                                               'SY'],\n",
      "                                             'strip_pos': False,\n",
      "                                             'tokenize_each_word': False,\n",
      "                                             'userdic_path': None,\n",
      "                                             'wordpieces_prefix': '##'},\n",
      "                                'tokenize_article': {'sentence_separator': '\\\\n'},\n",
      "                                'verbose': False}},\n",
      " 'progress_per': 1000,\n",
      " 'score_function': {'_partial_': True,\n",
      "                    '_target_': 'ekorpkit.models.ngram.score.mutual_information',\n",
      "                    'delimiter': ';',\n",
      "                    'delta': 0.0,\n",
      "                    'expansion_method': 'average',\n",
      "                    'name': 'npmi',\n",
      "                    'normalize': True},\n",
      " 'scores': {'columns': {'count': 'count', 'score': 'score', 'words': 'words'},\n",
      "            'features': ['score', 'frequency', 'length'],\n",
      "            'lowercase': True,\n",
      "            'ngram_delim': ';',\n",
      "            'score_dir': '/workspace/projects/esgml/outputs/ngrams/',\n",
      "            'score_file': 'ngram_npmi_scores.parquet',\n",
      "            'score_path': '/workspace/projects/esgml/outputs/ngrams/ngram_npmi_scores.parquet'},\n",
      " 'verbose': True}\n"
     ]
    }
   ],
   "source": [
    "ngram_cfg = eKonf.compose(\"model/ngram=npmi\")\n",
    "ngram_cfg.data.data_dir = \"../data/bok\"\n",
    "ngram_cfg.data.data_file = \"bok_minutes_tokens.parquet\"\n",
    "ngram_cfg.verbose = True\n",
    "ngram_cfg.auto.load = True\n",
    "ngram_cfg.candidates.threshold = 0.4\n",
    "eKonf.print(ngram_cfg)\n",
    "# ngram = eKonf.instantiate(ngram_cfg)"
   ]
  },
  {
   "cell_type": "code",
   "execution_count": 6,
   "metadata": {},
   "outputs": [
    {
     "name": "stdout",
     "output_type": "stream",
     "text": [
      "0 41005\n"
     ]
    }
   ],
   "source": [
    "print(len(ngram.ngrams), len(ngram.candidates))"
   ]
  },
  {
   "cell_type": "code",
   "execution_count": 7,
   "metadata": {},
   "outputs": [
    {
     "data": {
      "text/plain": [
       "[(('민/XPN', '감도/NNG'),\n",
       "  score(words='민/XPN;감도/NNG', score=0.9905600642226081, frequency=27, length=44827)),\n",
       " (('신/XPN', '흥국/NNG'),\n",
       "  score(words='신/XPN;흥국/NNG', score=0.9602497345784399, frequency=999, length=44827)),\n",
       " (('문안/NNG', '을/JKO', '작성/NNG'),\n",
       "  score(words='문안/NNG;을/JKO;작성/NNG', score=0.9550163996733796, frequency=43, length=44827)),\n",
       " (('예/NNG', '의/JKG', '주시/NNG'),\n",
       "  score(words='예/NNG;의/JKG;주시/NNG', score=0.952158528049305, frequency=193, length=44827)),\n",
       " (('한국/NNP', '은/JX', '행법/NNG'),\n",
       "  score(words='한국/NNP;은/JX;행법/NNG', score=0.9215496994789585, frequency=13, length=44827)),\n",
       " (('한/NNP', '은/JX', '법/NNG'),\n",
       "  score(words='한/NNP;은/JX;법/NNG', score=0.9115135958462448, frequency=17, length=44827)),\n",
       " (('차관/NNG', '에게/JKB', '발언/NNG'),\n",
       "  score(words='차관/NNG;에게/JKB;발언/NNG', score=0.8730837780556813, frequency=48, length=44827)),\n",
       " (('취지/NNG', '로/JKB', '발언/NNG'),\n",
       "  score(words='취지/NNG;로/JKB;발언/NNG', score=0.8703677143686631, frequency=36, length=44827)),\n",
       " (('신/XPN', '용스/NNP', '프레드/NNP'),\n",
       "  score(words='신/XPN;용스/NNP;프레드/NNP', score=0.8677320405182908, frequency=111, length=44827)),\n",
       " (('양질/NNG', '의/JKG', '일자리/NNG'),\n",
       "  score(words='양질/NNG;의/JKG;일자리/NNG', score=0.8602652867490822, frequency=16, length=44827)),\n",
       " (('시일/NNG', '이/JKS', '소요/NNG'),\n",
       "  score(words='시일/NNG;이/JKS;소요/NNG', score=0.8577081983567416, frequency=25, length=44827)),\n",
       " (('고부/NNG', '가/JKS', '가치/NNG'),\n",
       "  score(words='고부/NNG;가/JKS;가치/NNG', score=0.8441046212878132, frequency=10, length=44827)),\n",
       " (('저점/NNG', '을/JKO', '통과/NNG'),\n",
       "  score(words='저점/NNG;을/JKO;통과/NNG', score=0.8280556580473707, frequency=13, length=44827)),\n",
       " (('북한/NNP', '의/JKG', '미사일/NNG'),\n",
       "  score(words='북한/NNP;의/JKG;미사일/NNG', score=0.8209799127562951, frequency=11, length=44827)),\n",
       " (('끝/NNG', '으로/JKB', '동/NNG'),\n",
       "  score(words='끝/NNG;으로/JKB;동/NNG', score=0.8060710940902794, frequency=62, length=44827)),\n",
       " (('재/XPN', '정취/NNG', '약국/NNG'),\n",
       "  score(words='재/XPN;정취/NNG;약국/NNG', score=0.8059870646567988, frequency=13, length=44827)),\n",
       " (('결시/NNG', '까지/JX', '콜/NNG'),\n",
       "  score(words='결시/NNG;까지/JX;콜/NNG', score=0.8008655335614991, frequency=20, length=44827))]"
      ]
     },
     "execution_count": 7,
     "metadata": {},
     "output_type": "execute_result"
    }
   ],
   "source": [
    "ngram.postag_rules = [[\"/NN\", \"/J\", \"/NN\"], [\"/XP\", \"/NN\"], [\"/XP\", \"/NN\", \"/NN\"]]\n",
    "# ngram.postag_rules = ['/NN']\n",
    "\n",
    "ngram.export_ngrams(threshold=0.8, apply_postag_rules=True)"
   ]
  },
  {
   "cell_type": "code",
   "execution_count": 20,
   "metadata": {},
   "outputs": [
    {
     "name": "stdout",
     "output_type": "stream",
     "text": [
      "이/NP 에/JKB 대해/VV+EC 관련/NNG 부서/NNG 에서/JKB 는/JX 실업/NNG 률/XSN 과/JC 경기/NNG 지수/NNG 와/JKB 의/JKG 상관/NNG 관계/NNG 는/JX 그렇게/MAG 높/VA 지/EC 않/VX 은/ETM 것/NNB 으로/JKB 나타나/VV 며/EC 통계청/NNG 에서/JKB 발표/NNG 하/XSV 는/ETM 공식/NNG 적/XSN 인/VCP+ETM 실업/NNG 률/XSN 을/JKO 구직/NNG 단념/NNG 자/XSN 를/JKO 포함/NNG 한/XSA+ETM 광의/NNG 의/JKG 실업/NNG 률/XSN 로/JKB 전환/NNG 할/XSV+ETM 경우/NNG 오히려/MAJ 경기/NNG 와/JKB 의/JKG 연관/NNG 성/XSN 이/JKS 좀/MAG 더/MAG 높/VA 은/ETM 것/NNB 으로/JKB 분석/NNG 되/XSV 므로/EC 경기/NNG 상환/NNG 판단/NNG 을/JKO 위해서/VV+EC 는/JX 공식/NNG 적/XSN 인/VCP+ETM 실업/NNG 률/XSN 보다/JKB 는/JX 광의/NNG 의/JKG 실업/NNG 률/XSN 을/JKO 이용/NNG 하/XSV 는/ETM 것/NNB 이/JKS 더/MAG 좋/VA 을/ETM 것/NNB 같/VA 다고/EC 설명/NNG 하/XSV 였/EP 음/ETN\n",
      "['이', '에', '대해', '관련', '부서', '에서', '는', '실업', '률', '과', '경기', '지수', '와', '의', '상관', '관계', '는', '그렇게', '높', '지', '않', '은', '것', '으로', '나타나', '며', '통계청', '에서', '발표', '하', '는', '공식', '적', '인', '실업', '률', '을', '구직', '단념', '자', '를', '포함', '한', '광의의실업', '률', '로', '전환', '할', '경우', '오히려', '경기', '와', '의', '연관', '성', '이', '좀', '더', '높', '은', '것으로분석', '되', '므로', '경기', '상환', '판단', '을', '위해서', '는', '공식', '적', '인', '실업', '률', '보다', '는', '광의의실업', '률', '을', '이용', '하', '는', '것', '이', '더', '좋', '을', '것', '같', '다고', '설명', '하', '였', '음']\n"
     ]
    }
   ],
   "source": [
    "ngram.load_data()\n",
    "sentence = ngram.sentences[18]\n",
    "print(sentence)\n",
    "tokens = ngram.ngramize_sentence(sentence, strip_pos=False)\n",
    "print(tokens)"
   ]
  },
  {
   "cell_type": "code",
   "execution_count": 9,
   "metadata": {},
   "outputs": [
    {
     "name": "stdout",
     "output_type": "stream",
     "text": [
      "['이', '에', '대해', '관련', '부서', '에서', '는', '실업', '률', '과', '경기', '지수', '와', '의', '상관', '관계', '는', '그렇게', '높', '지', '않', '은', '것', '으로', '나타나', '며', '통계청', '에서', '발표', '하', '는', '공식', '적', '인', '실업', '률', '을', '구직', '단념', '자', '를', '포함', '한', '광의의실업', '률', '로', '전환', '할', '경우', '오히려', '경기', '와', '의', '연관', '성', '이', '좀', '더', '높', '은', '것으로분석', '되', '므로', '경기', '상환', '판단', '을', '위해서', '는', '공식', '적', '인', '실업', '률', '보다', '는', '광의의실업', '률', '을', '이용', '하', '는', '것', '이', '더', '좋', '을', '것', '같', '다고', '설명', '하', '였', '음']\n"
     ]
    }
   ],
   "source": [
    "tokens = ngram[sentence]\n",
    "print(tokens)"
   ]
  },
  {
   "cell_type": "code",
   "execution_count": 17,
   "metadata": {},
   "outputs": [],
   "source": [
    "_ngrams =ngram.find_ngrams(\n",
    "    ngram.sentences[10:105], strip_pos=False, surface_delim=\";\", threshold=0.5\n",
    ")"
   ]
  },
  {
   "cell_type": "code",
   "execution_count": 18,
   "metadata": {},
   "outputs": [
    {
     "data": {
      "text/plain": [
       "{}"
      ]
     },
     "execution_count": 18,
     "metadata": {},
     "output_type": "execute_result"
    }
   ],
   "source": [
    "_ngrams"
   ]
  },
  {
   "cell_type": "code",
   "execution_count": null,
   "metadata": {},
   "outputs": [],
   "source": []
  }
 ],
 "metadata": {
  "colab": {
   "name": "preprocessor.ipynb",
   "provenance": []
  },
  "interpreter": {
   "hash": "f869af7787e6a1c49e09e367fc6e1b81d93d1c6583b43249c80edc047bd13cb2"
  },
  "kernelspec": {
   "display_name": "Python 3",
   "language": "python",
   "name": "python3"
  },
  "language_info": {
   "codemirror_mode": {
    "name": "ipython",
    "version": 3
   },
   "file_extension": ".py",
   "mimetype": "text/x-python",
   "name": "python",
   "nbconvert_exporter": "python",
   "pygments_lexer": "ipython3",
   "version": "3.8.8"
  },
  "widgets": {
   "application/vnd.jupyter.widget-state+json": {
    "state": {
     "2121ba5ed3ea4fc6bb6a8c19428365d5": {
      "model_module": "@jupyter-widgets/controls",
      "model_module_version": "1.5.0",
      "model_name": "ProgressStyleModel",
      "state": {
       "description_width": ""
      }
     },
     "2388b4a7a5214c0691b12884bd00cbe3": {
      "model_module": "@jupyter-widgets/base",
      "model_module_version": "1.2.0",
      "model_name": "LayoutModel",
      "state": {}
     },
     "3de43a7c455a4b51844e33d2745e6c26": {
      "model_module": "@jupyter-widgets/controls",
      "model_module_version": "1.5.0",
      "model_name": "DescriptionStyleModel",
      "state": {
       "description_width": ""
      }
     },
     "42d2b104d1ae4d9994c440585e1a985b": {
      "model_module": "@jupyter-widgets/base",
      "model_module_version": "1.2.0",
      "model_name": "LayoutModel",
      "state": {}
     },
     "6a07b8108fb14113a6f1077b89e26459": {
      "model_module": "@jupyter-widgets/controls",
      "model_module_version": "1.5.0",
      "model_name": "HBoxModel",
      "state": {
       "children": [
        "IPY_MODEL_b80c5cb2c5af44609cec75868db8aff2",
        "IPY_MODEL_d40f958ef31147b7bdaa875143fd68ad",
        "IPY_MODEL_c6432eff63b2411f8dbec9dc4490415c"
       ],
       "layout": "IPY_MODEL_2388b4a7a5214c0691b12884bd00cbe3"
      }
     },
     "759944222fb542108cef600664d77832": {
      "model_module": "@jupyter-widgets/base",
      "model_module_version": "1.2.0",
      "model_name": "LayoutModel",
      "state": {}
     },
     "816adaa566d249509b94f2b4255ce473": {
      "model_module": "@jupyter-widgets/base",
      "model_module_version": "1.2.0",
      "model_name": "LayoutModel",
      "state": {}
     },
     "a2c5155a7a7a4317bf7ec48c7c8f2819": {
      "model_module": "@jupyter-widgets/controls",
      "model_module_version": "1.5.0",
      "model_name": "DescriptionStyleModel",
      "state": {
       "description_width": ""
      }
     },
     "b80c5cb2c5af44609cec75868db8aff2": {
      "model_module": "@jupyter-widgets/controls",
      "model_module_version": "1.5.0",
      "model_name": "HTMLModel",
      "state": {
       "layout": "IPY_MODEL_816adaa566d249509b94f2b4255ce473",
       "style": "IPY_MODEL_a2c5155a7a7a4317bf7ec48c7c8f2819",
       "value": "Tokenizing column: text: 100%"
      }
     },
     "c6432eff63b2411f8dbec9dc4490415c": {
      "model_module": "@jupyter-widgets/controls",
      "model_module_version": "1.5.0",
      "model_name": "HTMLModel",
      "state": {
       "layout": "IPY_MODEL_759944222fb542108cef600664d77832",
       "style": "IPY_MODEL_3de43a7c455a4b51844e33d2745e6c26",
       "value": " 182/182 [00:54&lt;00:00,  2.16it/s]"
      }
     },
     "d40f958ef31147b7bdaa875143fd68ad": {
      "model_module": "@jupyter-widgets/controls",
      "model_module_version": "1.5.0",
      "model_name": "FloatProgressModel",
      "state": {
       "bar_style": "success",
       "layout": "IPY_MODEL_42d2b104d1ae4d9994c440585e1a985b",
       "max": 182,
       "style": "IPY_MODEL_2121ba5ed3ea4fc6bb6a8c19428365d5",
       "value": 182
      }
     }
    },
    "version_major": 2,
    "version_minor": 0
   }
  }
 },
 "nbformat": 4,
 "nbformat_minor": 1
}
