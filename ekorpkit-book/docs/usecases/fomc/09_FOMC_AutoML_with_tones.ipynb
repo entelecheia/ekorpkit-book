{
 "cells": [
  {
   "cell_type": "markdown",
   "metadata": {
    "colab_type": "text",
    "id": "lHecaO_7JG6L"
   },
   "source": [
    "# Predicting the next decisions with tones"
   ]
  },
  {
   "cell_type": "code",
   "execution_count": 2,
   "metadata": {},
   "outputs": [
    {
     "name": "stdout",
     "output_type": "stream",
     "text": [
      "version: 0.1.33+28.g90d1dea\n",
      "is notebook? True\n",
      "is colab? False\n",
      "evironment varialbles:\n",
      "{'EKORPKIT_CONFIG_DIR': '/workspace/projects/ekorpkit-book/config',\n",
      " 'EKORPKIT_DATA_DIR': None,\n",
      " 'EKORPKIT_PROJECT': 'ekorpkit-book',\n",
      " 'EKORPKIT_WORKSPACE_ROOT': '/workspace',\n",
      " 'NUM_WORKERS': 230}\n"
     ]
    }
   ],
   "source": [
    "%config InlineBackend.figure_format='retina'\n",
    "import logging\n",
    "import warnings\n",
    "from ekorpkit import eKonf\n",
    "\n",
    "logging.basicConfig(level=logging.WARNING)\n",
    "warnings.filterwarnings('ignore')\n",
    "print(\"version:\", eKonf.__version__)\n",
    "print(\"is notebook?\", eKonf.is_notebook())\n",
    "print(\"is colab?\", eKonf.is_colab())\n",
    "print(\"evironment varialbles:\")\n",
    "eKonf.print(eKonf.env().dict())"
   ]
  },
  {
   "cell_type": "code",
   "execution_count": 3,
   "metadata": {},
   "outputs": [],
   "source": [
    "data_dir = \"../data/fomc\""
   ]
  },
  {
   "cell_type": "markdown",
   "metadata": {},
   "source": [
    "## Auto ML with LM tones"
   ]
  },
  {
   "cell_type": "code",
   "execution_count": 4,
   "metadata": {
    "scrolled": false
   },
   "outputs": [],
   "source": [
    "fs_cfg = eKonf.compose(config_group=\"dataset=feature\")\n",
    "fs_cfg.name = \"fomc_tone_features_lm\"\n",
    "fs_cfg.data_dir = data_dir\n",
    "\n",
    "model_cfg = eKonf.compose(config_group='model/automl=classification')\n",
    "model_cfg.name = 'fomc_tone_lm'\n",
    "model_cfg.dataset = fs_cfg\n",
    "model_cfg.config.time_budget = 1000\n",
    "model_cfg.verbose = False\n",
    "model_lm = eKonf.instantiate(model_cfg)"
   ]
  },
  {
   "cell_type": "code",
   "execution_count": null,
   "metadata": {
    "scrolled": false
   },
   "outputs": [],
   "source": [
    "model_lm.fit()"
   ]
  },
  {
   "cell_type": "code",
   "execution_count": null,
   "metadata": {},
   "outputs": [],
   "source": [
    "model_lm.best_estimator"
   ]
  },
  {
   "cell_type": "code",
   "execution_count": null,
   "metadata": {},
   "outputs": [],
   "source": [
    "model_lm.save()"
   ]
  },
  {
   "cell_type": "code",
   "execution_count": null,
   "metadata": {},
   "outputs": [],
   "source": [
    "model_lm.load()"
   ]
  },
  {
   "cell_type": "code",
   "execution_count": null,
   "metadata": {},
   "outputs": [],
   "source": [
    "model_lm.show_results()"
   ]
  },
  {
   "cell_type": "code",
   "execution_count": null,
   "metadata": {},
   "outputs": [],
   "source": [
    "model_lm.plot_learning_curve()"
   ]
  },
  {
   "cell_type": "code",
   "execution_count": null,
   "metadata": {
    "scrolled": false
   },
   "outputs": [],
   "source": [
    "model_lm.eval()"
   ]
  },
  {
   "cell_type": "code",
   "execution_count": null,
   "metadata": {
    "scrolled": false
   },
   "outputs": [],
   "source": [
    "model_lm.plot_feature_importance()"
   ]
  },
  {
   "cell_type": "markdown",
   "metadata": {},
   "source": [
    "## Auto ML with finbert tones"
   ]
  },
  {
   "cell_type": "code",
   "execution_count": null,
   "metadata": {},
   "outputs": [],
   "source": [
    "fs_cfg = eKonf.compose(config_group=\"dataset=feature\")\n",
    "fs_cfg.name = \"fomc_tone_features_finbert\"\n",
    "fs_cfg.data_dir = data_dir\n",
    "\n",
    "model_cfg = eKonf.compose(config_group='model/automl=classification')\n",
    "model_cfg.name = 'fomc_tone_finbert'\n",
    "model_cfg.dataset = fs_cfg\n",
    "model_cfg.config.time_budget = 1000\n",
    "model_cfg.verbose = False\n",
    "model_finbert = eKonf.instantiate(model_cfg)"
   ]
  },
  {
   "cell_type": "code",
   "execution_count": null,
   "metadata": {},
   "outputs": [],
   "source": [
    "model_finbert.fit()\n",
    "model_finbert.save()"
   ]
  },
  {
   "cell_type": "code",
   "execution_count": null,
   "metadata": {},
   "outputs": [],
   "source": [
    "model_finbert.show_results()\n",
    "model_finbert.plot_learning_curve()"
   ]
  },
  {
   "cell_type": "code",
   "execution_count": null,
   "metadata": {},
   "outputs": [],
   "source": [
    "model_finbert.eval()"
   ]
  },
  {
   "cell_type": "code",
   "execution_count": null,
   "metadata": {},
   "outputs": [],
   "source": [
    "model_finbert.plot_feature_importance()"
   ]
  },
  {
   "cell_type": "markdown",
   "metadata": {},
   "source": [
    "## Auto ML with T5 tones"
   ]
  },
  {
   "cell_type": "code",
   "execution_count": null,
   "metadata": {},
   "outputs": [],
   "source": [
    "fs_cfg = eKonf.compose(config_group=\"dataset=feature\")\n",
    "fs_cfg.name = \"fomc_tone_features_t5\"\n",
    "fs_cfg.data_dir = data_dir\n",
    "\n",
    "model_cfg = eKonf.compose(config_group='model/automl=classification')\n",
    "model_cfg.name = 'fomc_tone_t5'\n",
    "model_cfg.dataset = fs_cfg\n",
    "model_cfg.config.time_budget = 1000\n",
    "model_cfg.verbose = False\n",
    "model_t5 = eKonf.instantiate(model_cfg)"
   ]
  },
  {
   "cell_type": "code",
   "execution_count": null,
   "metadata": {},
   "outputs": [],
   "source": [
    "model_t5.fit()\n",
    "model_t5.save()"
   ]
  },
  {
   "cell_type": "code",
   "execution_count": null,
   "metadata": {},
   "outputs": [],
   "source": [
    "model_t5.show_results()\n",
    "model_t5.plot_learning_curve()"
   ]
  },
  {
   "cell_type": "code",
   "execution_count": null,
   "metadata": {},
   "outputs": [],
   "source": [
    "model_t5.eval()"
   ]
  },
  {
   "cell_type": "code",
   "execution_count": null,
   "metadata": {},
   "outputs": [],
   "source": [
    "model_t5.plot_feature_importance()"
   ]
  }
 ],
 "metadata": {
  "accelerator": "GPU",
  "colab": {
   "collapsed_sections": [],
   "name": "FOMC_Analysis_BaselineModels.ipynb",
   "provenance": [],
   "toc_visible": true
  },
  "interpreter": {
   "hash": "f869af7787e6a1c49e09e367fc6e1b81d93d1c6583b43249c80edc047bd13cb2"
  },
  "kernelspec": {
   "display_name": "Python 3 (ipykernel)",
   "language": "python",
   "name": "python3"
  },
  "language_info": {
   "codemirror_mode": {
    "name": "ipython",
    "version": 3
   },
   "file_extension": ".py",
   "mimetype": "text/x-python",
   "name": "python",
   "nbconvert_exporter": "python",
   "pygments_lexer": "ipython3",
   "version": "3.8.12"
  },
  "widgets": {
   "application/vnd.jupyter.widget-state+json": {
    "state": {},
    "version_major": 2,
    "version_minor": 0
   }
  }
 },
 "nbformat": 4,
 "nbformat_minor": 1
}
