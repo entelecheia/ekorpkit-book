{
 "cells": [
  {
   "cell_type": "markdown",
   "metadata": {
    "id": "cjgz1WTcPWee"
   },
   "source": [
    "# Predicting ESG Categories and Polarities"
   ]
  },
  {
   "cell_type": "code",
   "execution_count": 1,
   "metadata": {
    "id": "BzxPwsOVPWef"
   },
   "outputs": [
    {
     "name": "stdout",
     "output_type": "stream",
     "text": [
      "0.1.31+8.gdef1e03.dirty\n"
     ]
    }
   ],
   "source": [
    "%config InlineBackend.figure_format='retina'\n",
    "import logging\n",
    "from ekorpkit import eKonf\n",
    "\n",
    "logging.basicConfig(level=logging.INFO)\n",
    "\n",
    "print(eKonf.__version__)"
   ]
  },
  {
   "cell_type": "markdown",
   "metadata": {
    "id": "it1Y0MVPXRsJ"
   },
   "source": [
    "## Build a BigKinds corpus"
   ]
  },
  {
   "cell_type": "code",
   "execution_count": 2,
   "metadata": {
    "colab": {
     "base_uri": "https://localhost:8080/",
     "height": 1000,
     "referenced_widgets": [
      "8c65a541b1424bc895a358ec8c2955d0",
      "a1f39c5fb6e14bba94948ceed945c48e",
      "df825e76b09f4b40b0f22abd96afd9ec",
      "f2ba1273dc964523a52c645113dc15dc",
      "cf589159b5844031b2c07a2941d6d767",
      "c73b1e574c6148a79e919619e5337b13",
      "c3d0d587372c4cb185f70e2106460913",
      "42bba043a42e4a408017fa0c58fc89b1",
      "eca5b19cb1a8472f9803e056dc2e3edf",
      "1eec65bd4a4f4ac3a141ebfc0abf2fd7",
      "3a91d7fbcbe94220bb5e5edc4592ea44",
      "c0249a1e6b094b28afb32aa4c8ee6241",
      "b406dade33294912b357909432006a6f",
      "466cf119d61544108f7e9fc2743f90f4",
      "895fc91e766a4c5098cef03f21722754",
      "d933287033b244eb878dd8272163edbd",
      "b6329b07e3c9478a9934f014d2586c8a",
      "147722c8b38e43f4a74a8cbc4ff80132",
      "94ade840d70c440b901f0fefca36b700",
      "bb38b9fad3f6491cb0e4f5e13a00f402",
      "6c34cf9978fd4a0ab092db70ba5ca133",
      "b530f744c9914640b388e2c9ca7164be",
      "7f49f945e79c49558b5c23e413670ca4",
      "ad250bac857e4ba191178ff7aa0f21c2",
      "76c77c45dc2146a887d1a05d05a2b07c",
      "1bb668c7534d435a9f0a55c6eafb3755",
      "c504bb84cc5c4e0a9d8f4f5715ec6a03",
      "52688fc848054b3da375b73185519df2",
      "6c105fb7575745968215abddfc42d3a4",
      "c465acff35ef43cd8aa029289509f801",
      "cdce198d7e584538987b33ed590860d3",
      "3971c7c442bc4ff0ae1148a75034e989",
      "5beee945b7ed485eb3f7c8193d9c696a",
      "92753dfdb5854e12bc66bdc60072b5a1",
      "beb1d40680394747b535f2bbbbff8d75",
      "d86836fe655f4097abfe4297b3c33f27",
      "8670c085406a45ba9dff599d8e1bcfa0",
      "c5f11d5c87964550aacd9b477f2791aa",
      "b6188d143588467e90daa1c230748456",
      "5bef610b5d5c43549f174794559298a6",
      "2e3a25b1cfa34d6fac3ce2e33831ce71",
      "83214c0e91004c57b95a17f72c9ade8e",
      "4ea44db70fc14d839ef1e36b262197f1",
      "d751a8dd2711494695545cd8309a9add",
      "5af5d75e48bb409bb0201ae9b4bcbc7a",
      "12d5551a754b4c32a714fa0fa25096a6",
      "bb6c2a38a0e147d1a73bd510d0af4f55",
      "74b643eb567b4e1baa2edeab5314bf74",
      "0cc33597c6624a2fadc0454f1347e245",
      "ea8f5b8623a4457aa5e7028bd47d8f7c",
      "5e6bf9b1fe4a4b20a892690140fd153b",
      "03468bd389d649b6a5376a225393d580",
      "4741f650996042a5822de55078e32aaf",
      "e5610d32b9434cfaad97c84dff963517",
      "747bd5269293486fa5610b5ef989ad1a",
      "0a251d38928746c1bc8e811676078c84",
      "92c9e23051b84ec5a44f4535d384ea3d",
      "745247540de84e14ad7513d479500175",
      "f59dc69320884fdebf3c128cac03d50c",
      "6d5547298c504706b47369159b47b387",
      "3f1fdfa3512c45cc93ee00d0d9a65864",
      "a4905ccd3b6948f6b9a43353c444a712",
      "6fadeb5ed8e94808b87e91a6272cfa53",
      "11475267a3ae4986b70c2282fd4a0723",
      "a83cdec6d8764baaa94eb719d94bf0cf",
      "64dcc52bf9af461d92d605f60da57c10",
      "de057a7427694ca391cde9f8244706cd",
      "d973cb22de8a4980a93e42e5b02ec1b5",
      "ee954aeeaaed48a7acaf05112897a74e",
      "1092b9c63f5c4e5fab04337f55d6272f",
      "42039657cac3411389b3103129f74c17",
      "b937fee33d684033bbf93af5c98fa59c",
      "6c3a5ec1a3ec45c789611d5820b0a97b",
      "9686d1ab402d436b90deabb87782ac28",
      "f403433bd62c42bf88cb4007300ab14f",
      "c766e4a1c63f43a3ab2803b71a05f675",
      "e6cbaaf738b44a8bb26cf5364322476d"
     ]
    },
    "id": "hEVpCETEPWeg",
    "outputId": "f544db07-b0be-4c52-ed74-15de18f741ef"
   },
   "outputs": [
    {
     "name": "stderr",
     "output_type": "stream",
     "text": [
      "INFO:ekorpkit.io.cached_path:cached path: /workspace/.cache/gdown/.16PlTKZzsLATYkoej9NrT7U5RdRR3km0c/LGENSOL/LGENSOL_20220101_.zip\n",
      "INFO:ekorpkit.ekonf:initialized batcher with <ekorpkit.utils.batch.batcher.Batcher object at 0x7fba2ff81430>\n",
      "INFO:ekorpkit.io.cached_path:cached path: /workspace/.cache/gdown/.16PlTKZzsLATYkoej9NrT7U5RdRR3km0c/LGENSOL/LGENSOL_20220101_.zip\n",
      "INFO:ekorpkit.info.stat:Loading info file: ../data/bigkinds/info-bigkinds.yaml\n",
      "INFO:ekorpkit.io.file:Processing [1] files from [['*.zip']]\n",
      "INFO:ekorpkit.io.load.data:==> processing 1/1 files <==\n",
      "INFO:ekorpkit.io.file:::Extracting files from /workspace/.cache/gdown/.16PlTKZzsLATYkoej9NrT7U5RdRR3km0c/LGENSOL/LGENSOL_20220101_.zip with zip\n"
     ]
    },
    {
     "name": "stdout",
     "output_type": "stream",
     "text": [
      "{'category': 'formal',\n",
      " 'column_info': {'columns': {'id': 'id',\n",
      "                             'merge_meta_on': None,\n",
      "                             'text': 'text',\n",
      "                             'timestamp': None},\n",
      "                 'data': {'id': 'int', 'text': 'str'},\n",
      "                 'datetime': {'_parms_': None, 'format': None, 'key': None},\n",
      "                 'keys': {'id': 'id',\n",
      "                          'split': 'split',\n",
      "                          'text': 'text',\n",
      "                          'timestamp': 'timestamp'},\n",
      "                 'meta': {'category': 'str',\n",
      "                          'code': 'str',\n",
      "                          'date': 'str',\n",
      "                          'filename': 'str',\n",
      "                          'id': 'int'},\n",
      "                 'segment_separator': '\\\\n\\\\n',\n",
      "                 'sentence_separator': '\\\\n',\n",
      "                 'timestamp': {'_parms_': None, 'format': None, 'key': None}},\n",
      " 'data_files': {'train': 'bigkinds-train.parquet'},\n",
      " 'data_files_modified': '2022-05-31 08:42:17',\n",
      " 'description': 'Korean News Dataset from Big Kinds',\n",
      " 'fullname': 'Korean News Dataset from Big Kinds',\n",
      " 'homepage': 'https://www.bigkinds.or.kr',\n",
      " 'info_updated': '2022-05-31 08:42:18',\n",
      " 'lang': 'ko',\n",
      " 'meta_files': {'train': 'meta-bigkinds-train.parquet'},\n",
      " 'meta_files_modified': '2022-05-31 08:42:16',\n",
      " 'name': 'bigkinds',\n",
      " 'num_bytes_before_processing': 592303,\n",
      " 'num_docs': 233,\n",
      " 'num_docs_before_processing': 233,\n",
      " 'num_segments': 1616,\n",
      " 'num_sents': 1744,\n",
      " 'num_words': 53034,\n",
      " 'size_in_bytes': 590180,\n",
      " 'size_in_human_bytes': '576.35 KiB',\n",
      " 'splits': {'train': {'data_file': 'bigkinds-train.parquet',\n",
      "                      'dataset_name': 'bigkinds',\n",
      "                      'human_bytes': '576.35 KiB',\n",
      "                      'human_bytes_wospc': '521.73 KiB',\n",
      "                      'meta_file': 'meta-bigkinds-train.parquet',\n",
      "                      'name': 'train',\n",
      "                      'num_bytes': 590180,\n",
      "                      'num_bytes_before_processing': 592303,\n",
      "                      'num_bytes_max': 6813,\n",
      "                      'num_bytes_median': 2405.0,\n",
      "                      'num_bytes_min': 310,\n",
      "                      'num_bytes_wospc': 534252,\n",
      "                      'num_docs': 233,\n",
      "                      'num_docs_before_processing': 233,\n",
      "                      'num_segments': 1616,\n",
      "                      'num_segments_median': 7.0,\n",
      "                      'num_sents': 1744,\n",
      "                      'num_sents_median': 7.0,\n",
      "                      'num_words': 53034,\n",
      "                      'num_words_max': 646,\n",
      "                      'num_words_median': 214.0,\n",
      "                      'num_words_min': 11}},\n",
      " 'version': '1.0.0'}\n"
     ]
    },
    {
     "name": "stderr",
     "output_type": "stream",
     "text": [
      "INFO:ekorpkit.corpora.build: >> elapsed time to load and parse data: 0:00:00.254926\n",
      "INFO:ekorpkit.corpora.build:\n",
      "Transforming dataframe with pipeline: ['split_column', 'eval_columns', 'reset_index', 'save_metadata']\n",
      "INFO:ekorpkit.pipelines.pipe:Applying pipeline: OrderedDict([('split_column', 'split_column'), ('eval_columns', 'eval_columns'), ('reset_index', 'reset_index'), ('save_metadata', 'save_metadata')])\n",
      "INFO:ekorpkit.ekonf:Applying pipe: functools.partial(<function split_column at 0x7fba2fa10820>)\n",
      "INFO:ekorpkit.pipelines.pipe:Split column: {'_func_': {'_partial_': True, '_target_': 'ekorpkit.pipelines.pipe.split_column'}, 'source': 'filename', 'target': ['code', 'date', 'ext'], 'split': {'pat': '.', 'n': -1, 'expand': True}, 'verbose': True}\n",
      "INFO:ekorpkit.ekonf:Applying pipe: functools.partial(<function eval_columns at 0x7fba2fa108b0>)\n",
      "INFO:ekorpkit.pipelines.pipe:Eval columns: {'_func_': {'_partial_': True, '_target_': 'ekorpkit.pipelines.pipe.eval_columns'}, 'expressions': {'date': \"df.date.str[:4] + '-' + df.date.str[4:6] + '-' + df.date.str[6:8] + ' ' + df.date.str[8:10] + ':' + df.date.str[10:12] + ':' + df.date.str[12:14]\"}, 'engine': 'python', 'eval_at': 'python', 'verbose': True}\n",
      "INFO:ekorpkit.ekonf:Applying pipe: functools.partial(<function reset_index at 0x7fba2fa17040>)\n",
      "INFO:ekorpkit.pipelines.pipe:Resetting index: {'_func_': {'_partial_': True, '_target_': 'ekorpkit.pipelines.pipe.reset_index'}, 'index_column_name': 'id', 'drop_index': False, 'verbose': True}\n",
      "INFO:ekorpkit.ekonf:Applying pipe: functools.partial(<function save_metadata at 0x7fba2fa17b80>)\n",
      "INFO:ekorpkit.pipelines.pipe:Saving metadata: {'_func_': {'_partial_': True, '_target_': 'ekorpkit.pipelines.pipe.save_metadata'}, 'filepath': '../data/bigkinds/meta-bigkinds-train.parquet', 'filetype': None, 'column_info': {'keys': {'id': 'id', 'text': 'text', 'timestamp': 'timestamp', 'split': 'split'}, 'columns': {'id': 'id', 'text': 'text', 'merge_meta_on': None, 'timestamp': None}, 'data': {'id': 'int', 'text': 'str'}, 'meta': {'id': 'int', 'date': 'str', 'code': 'str', 'category': 'str', 'filename': 'str'}, 'timestamp': {'key': None, 'format': None, '_parms_': None}, 'datetime': {'key': None, 'format': None, '_parms_': None}, 'segment_separator': '\\\\n\\\\n', 'sentence_separator': '\\\\n'}, 'split_name': 'train', 'verbose': True}\n",
      "INFO:ekorpkit.io.file:Saving dataframe as ../data/bigkinds/meta-bigkinds-train.parquet\n",
      "INFO:ekorpkit.io.file: >> elapsed time to save data: 0:00:00.017070\n",
      "INFO:ekorpkit.io.file: >> saved dataframe to ../data/bigkinds/meta-bigkinds-train.parquet\n",
      "INFO:ekorpkit.info.stat:Initializing statistics for split: train with stats: {'name': 'train', 'dataset_name': 'bigkinds', 'data_file': 'bigkinds-train.parquet', 'meta_file': 'meta-bigkinds-train.parquet'}\n"
     ]
    },
    {
     "name": "stdout",
     "output_type": "stream",
     "text": [
      "{'filename': '02100201.20220328092219001.txt', 'text': \"[머니투데이 이상수 MTN PD]\\n\\n\\n▶▶▶ 오늘 증시 MBTI\\n\\n이재상 어드바이저 [압축된 순환매] 시장\\n이달해 어드바이저 [지수 반등 속 테마의 순환매] 시장\\n\\n\\n▶▶▶ 성공투자 국민투표\\n\\n▶ 이재상 어드바이저\\n\\n- 로봇주\\n- 이미 오른 종목보다 ‘숨은 종목’ 공략\\n\\n▶ 이달해 어드바이저\\n\\n- 경구용 치료제주\\n- '매집' 이후 조정 종목 분할 매수 전략\\n\\n\\n▶▶▶ 유망주 클라쓰\\n\\n▶ 이재상 어드바이저\\n\\nLG에너지솔루션(373220)\\n\\n- 기관(연기금)의 집중 매수 유입\\n- 테슬라향 원통형 전지 수요 강세\\n- 1분기 예상 매출액, 컨센서스 상회 예상\\n- 북미 대규모 배터리 투자…총 6.5조 원 투입\\n\\n\\n▶ 이달해 어드바이저\\n\\n에이치피오(357230)\\n\\n- 中 한자녀 정책 폐지 수혜 전망\\n- 'K-영ㆍ유아용품', 中에서 인기\\n- 지난해 4분기 매출액, 역대 최대 경신\\n- 2024년 中 영ㆍ유아산업 시장 규모 1,000조 원 전망\\n\\n\\n\\n* 이 방송은 머니투데이방송 홈페이지 및 케이블방송에서 라이브로 시청하실 수 있습니다. 또한 방송 종료 후에는 인터넷 다시보기로 시청하실 수 있습니다.\\n\", 'category': '경제>증권_증시 | IT_과학>IT_과학일반', <_Keys.SPLIT: 'split'>: 'train'}\n",
      "                         filename  \\\n",
      "0  02100201.20220328092219001.txt   \n",
      "1  02100311.20220126172142001.txt   \n",
      "2  02100311.20220127091053001.txt   \n",
      "3  02100311.20220127091055001.txt   \n",
      "4  02100311.20220127091239001.txt   \n",
      "\n",
      "                                                text  \\\n",
      "0  [머니투데이 이상수 MTN PD]\\n\\n\\n▶▶▶ 오늘 증시 MBTI\\n\\n이재상 ...   \n",
      "1  <유가증권>\\n\\n\\n▲신주배정기준일=대한전선(001440)(유상) ▲보통주추가상장...   \n",
      "2  사상 최대 규모의 기업공개(IPO) ‘초대어’ LG에너지솔루션(373220)이 코스...   \n",
      "3  LG에너지솔루션(373220)(LG엔솔)이 27일 코스피 입성 첫 날 SK하이닉스를...   \n",
      "4  사상 최대 규모의 기업공개(IPO) ‘초대어’ LG에너지솔루션(373220)이 코스...   \n",
      "\n",
      "                       category _Keys.SPLIT  \n",
      "0      경제>증권_증시 | IT_과학>IT_과학일반       train  \n",
      "1      경제>증권_증시 | 지역>경남 | 지역>전남       train  \n",
      "2   경제>자원 | 경제>증권_증시 | IT_과학>과학       train  \n",
      "3  경제>증권_증시 | 경제>금융_재테크 | 경제>자원       train  \n",
      "4   IT_과학>과학 | 경제>유통 | 경제>증권_증시       train  \n",
      "(233, 4)\n",
      "                           filename  \\\n",
      "228  02100311.20220523142323001.txt   \n",
      "229  02100311.20220523163810001.txt   \n",
      "230  02100311.20220524063126001.txt   \n",
      "231  02100311.20220524091550002.txt   \n",
      "232  02100311.20220524180717001.txt   \n",
      "\n",
      "                                                  text  \\\n",
      "228  기관 투자가의 매수세에 소폭 상승 출발한 코스피가 오후 들어 상승분을 대부분 반납하...   \n",
      "229  기관의 매수세에 코스피가 소폭 상승 마감했다. 장 초반에는 중국 금리 인하 효과가 ...   \n",
      "230  순매수 10종목중 8개 마이너스\\n개인투자자들이 최근 한 달 동안 사들인 상위 10...   \n",
      "231  77㎾h 탑재한 폭스바겐 차량\\nLG에너지솔루션(373220) 배터리가 탑재된 전기...   \n",
      "232  ■ '몸값 3조' 일진머티리얼즈 매물로\\n일진그룹이 미래 성장의 주축으로 투자해온 ...   \n",
      "\n",
      "                          category _Keys.SPLIT      code               date  \\\n",
      "228       경제>증권_증시 | 경제>외환 | 경제>유통       train  02100311  20220523142323001   \n",
      "229               경제>증권_증시 | 경제>외환       train  02100311  20220523163810001   \n",
      "230  경제>증권_증시 | 경제>금융_재테크 | 경제>부동산       train  02100311  20220524063126001   \n",
      "231  경제>자동차 | IT_과학>모바일 | IT_과학>과학       train  02100311  20220524091550002   \n",
      "232     경제>반도체 | 경제>산업_기업 | 경제>자동차       train  02100311  20220524180717001   \n",
      "\n",
      "     ext  \n",
      "228  txt  \n",
      "229  txt  \n",
      "230  txt  \n",
      "231  txt  \n",
      "232  txt  \n",
      "                           filename  \\\n",
      "228  02100311.20220523142323001.txt   \n",
      "229  02100311.20220523163810001.txt   \n",
      "230  02100311.20220524063126001.txt   \n",
      "231  02100311.20220524091550002.txt   \n",
      "232  02100311.20220524180717001.txt   \n",
      "\n",
      "                                                  text  \\\n",
      "228  기관 투자가의 매수세에 소폭 상승 출발한 코스피가 오후 들어 상승분을 대부분 반납하...   \n",
      "229  기관의 매수세에 코스피가 소폭 상승 마감했다. 장 초반에는 중국 금리 인하 효과가 ...   \n",
      "230  순매수 10종목중 8개 마이너스\\n개인투자자들이 최근 한 달 동안 사들인 상위 10...   \n",
      "231  77㎾h 탑재한 폭스바겐 차량\\nLG에너지솔루션(373220) 배터리가 탑재된 전기...   \n",
      "232  ■ '몸값 3조' 일진머티리얼즈 매물로\\n일진그룹이 미래 성장의 주축으로 투자해온 ...   \n",
      "\n",
      "                          category _Keys.SPLIT      code                 date  \\\n",
      "228       경제>증권_증시 | 경제>외환 | 경제>유통       train  02100311  2022-05-23 14:23:23   \n",
      "229               경제>증권_증시 | 경제>외환       train  02100311  2022-05-23 16:38:10   \n",
      "230  경제>증권_증시 | 경제>금융_재테크 | 경제>부동산       train  02100311  2022-05-24 06:31:26   \n",
      "231  경제>자동차 | IT_과학>모바일 | IT_과학>과학       train  02100311  2022-05-24 09:15:50   \n",
      "232     경제>반도체 | 경제>산업_기업 | 경제>자동차       train  02100311  2022-05-24 18:07:17   \n",
      "\n",
      "     ext  \n",
      "228  txt  \n",
      "229  txt  \n",
      "230  txt  \n",
      "231  txt  \n",
      "232  txt  \n",
      "   id                        filename  \\\n",
      "0   0  02100201.20220328092219001.txt   \n",
      "1   1  02100311.20220126172142001.txt   \n",
      "2   2  02100311.20220127091053001.txt   \n",
      "3   3  02100311.20220127091055001.txt   \n",
      "4   4  02100311.20220127091239001.txt   \n",
      "\n",
      "                                                text  \\\n",
      "0  [머니투데이 이상수 MTN PD]\\n\\n\\n▶▶▶ 오늘 증시 MBTI\\n\\n이재상 ...   \n",
      "1  <유가증권>\\n\\n\\n▲신주배정기준일=대한전선(001440)(유상) ▲보통주추가상장...   \n",
      "2  사상 최대 규모의 기업공개(IPO) ‘초대어’ LG에너지솔루션(373220)이 코스...   \n",
      "3  LG에너지솔루션(373220)(LG엔솔)이 27일 코스피 입성 첫 날 SK하이닉스를...   \n",
      "4  사상 최대 규모의 기업공개(IPO) ‘초대어’ LG에너지솔루션(373220)이 코스...   \n",
      "\n",
      "                       category _Keys.SPLIT      code                 date  \\\n",
      "0      경제>증권_증시 | IT_과학>IT_과학일반       train  02100201  2022-03-28 09:22:19   \n",
      "1      경제>증권_증시 | 지역>경남 | 지역>전남       train  02100311  2022-01-26 17:21:42   \n",
      "2   경제>자원 | 경제>증권_증시 | IT_과학>과학       train  02100311  2022-01-27 09:10:53   \n",
      "3  경제>증권_증시 | 경제>금융_재테크 | 경제>자원       train  02100311  2022-01-27 09:10:55   \n",
      "4   IT_과학>과학 | 경제>유통 | 경제>증권_증시       train  02100311  2022-01-27 09:12:39   \n",
      "\n",
      "   ext  \n",
      "0  txt  \n",
      "1  txt  \n",
      "2  txt  \n",
      "3  txt  \n",
      "4  txt  \n"
     ]
    },
    {
     "data": {
      "application/vnd.jupyter.widget-view+json": {
       "model_id": "8dbad0c0d1e74eaa8b0fcbbde3c57e73",
       "version_major": 2,
       "version_minor": 0
      },
      "text/plain": [
       "apply len_bytes to num_bytes:   0%|          | 0/233 [00:00<?, ?it/s]"
      ]
     },
     "metadata": {},
     "output_type": "display_data"
    },
    {
     "data": {
      "application/vnd.jupyter.widget-view+json": {
       "model_id": "85bc82298bbc4383b96fe64c423d822a",
       "version_major": 2,
       "version_minor": 0
      },
      "text/plain": [
       "apply len_sents to num_sents:   0%|          | 0/233 [00:00<?, ?it/s]"
      ]
     },
     "metadata": {},
     "output_type": "display_data"
    },
    {
     "name": "stderr",
     "output_type": "stream",
     "text": [
      "INFO:ekorpkit.info.stat: >> elapsed time to calculate statistics before processing: 0:00:00.080464\n",
      "INFO:ekorpkit.info.stat: >> updated splits: {'train': {'name': 'train', 'dataset_name': 'bigkinds', 'data_file': 'bigkinds-train.parquet', 'meta_file': 'meta-bigkinds-train.parquet', 'num_docs_before_processing': 233, 'num_bytes_before_processing': 592303, 'num_sents': 1977}}\n",
      "INFO:ekorpkit.corpora.build:\n",
      "Processing dataframe with pipeline: ['normalize', 'filter_length', 'drop_duplicates', 'save_samples', 'save_dataframe']\n",
      "INFO:ekorpkit.pipelines.pipe:Applying pipeline: OrderedDict([('normalize', 'normalize'), ('filter_length', 'filter_length'), ('drop_duplicates', 'drop_duplicates'), ('save_samples', 'save_samples'), ('save_dataframe', 'save_dataframe')])\n",
      "INFO:ekorpkit.ekonf:Applying pipe: functools.partial(<function normalize at 0x7fba2fa170d0>)\n",
      "INFO:ekorpkit.pipelines.pipe:instantiating normalizer\n"
     ]
    },
    {
     "data": {
      "application/vnd.jupyter.widget-view+json": {
       "model_id": "0d80af09ac7749e98c18d22f67f389bd",
       "version_major": 2,
       "version_minor": 0
      },
      "text/plain": [
       "Normalizing column: text:   0%|          | 0/233 [00:00<?, ?it/s]"
      ]
     },
     "metadata": {},
     "output_type": "display_data"
    },
    {
     "name": "stderr",
     "output_type": "stream",
     "text": [
      "INFO:ekorpkit.pipelines.pipe: >> elapsed time to normalize: 0:00:00.941503\n",
      "INFO:ekorpkit.ekonf:Applying pipe: functools.partial(<function filter_length at 0x7fba2fa17670>, len_bytes={'_partial_': True, '_target_': 'ekorpkit.utils.func.len_bytes'}, len_words={'_partial_': True, '_target_': 'ekorpkit.utils.func.len_words'})\n",
      "INFO:ekorpkit.pipelines.pipe:Filtering by length: {'_func_': {'_partial_': True, '_target_': 'ekorpkit.pipelines.pipe.filter_length', 'len_bytes': {'_partial_': True, '_target_': 'ekorpkit.utils.func.len_bytes'}, 'len_words': {'_partial_': True, '_target_': 'ekorpkit.utils.func.len_words'}}, 'apply_to': 'text', 'min_length': 10, 'max_length': None, 'len_func': 'len_bytes', 'len_column': 'num_bytes', 'add_len_column': True, 'verbose': True, 'use_batcher': True}\n"
     ]
    },
    {
     "data": {
      "application/vnd.jupyter.widget-view+json": {
       "model_id": "629fa165e64b4e7ba773411b75de0eb0",
       "version_major": 2,
       "version_minor": 0
      },
      "text/plain": [
       "Calculating length:   0%|          | 0/233 [00:00<?, ?it/s]"
      ]
     },
     "metadata": {},
     "output_type": "display_data"
    },
    {
     "name": "stderr",
     "output_type": "stream",
     "text": [
      "INFO:ekorpkit.pipelines.pipe:removed 0 of 233 documents with length < 10\n",
      "INFO:ekorpkit.pipelines.pipe: >> elapsed time to filter length: 0:00:00.022219\n",
      "INFO:ekorpkit.ekonf:Applying pipe: functools.partial(<function drop_duplicates at 0x7fba2fa17790>)\n",
      "INFO:ekorpkit.pipelines.pipe:Dropping duplicates: {'_func_': {'_partial_': True, '_target_': 'ekorpkit.pipelines.pipe.drop_duplicates'}, 'apply_to': 'text', 'verbose': True}\n",
      "INFO:ekorpkit.pipelines.pipe:233 documents after dropping 0 duplicates from [['text']]\n",
      "INFO:ekorpkit.pipelines.pipe: >> elapsed time to drop duplicates: 0:00:00.003594\n",
      "INFO:ekorpkit.ekonf:Applying pipe: functools.partial(<function save_samples at 0x7fba2fa17820>)\n",
      "INFO:ekorpkit.pipelines.pipe:Saving samples: {'_func_': {'_partial_': True, '_target_': 'ekorpkit.pipelines.pipe.save_samples'}, 'apply_to': 'text', 'num_samples_to_save': 2, 'smaple_file_prfix': None, 'sample_length_to_print': 1000, 'verbose': True, 'sample_file_prefix': '../data/bigkinds/sample-bigkinds-train'}\n",
      "INFO:ekorpkit.pipelines.pipe:Saved 2 samples to ../data/bigkinds/sample-bigkinds-train.txt\n",
      "INFO:ekorpkit.ekonf:Applying pipe: functools.partial(<function save_dataframe at 0x7fba2fa17c10>)\n",
      "INFO:ekorpkit.io.file:Saving dataframe as ../data/bigkinds/bigkinds-train.parquet\n",
      "INFO:ekorpkit.io.file: >> elapsed time to save data: 0:00:00.035307\n",
      "INFO:ekorpkit.io.file: >> saved dataframe to ../data/bigkinds/bigkinds-train.parquet\n",
      "INFO:ekorpkit.info.stat:Calculating statistics for split: train\n"
     ]
    },
    {
     "name": "stdout",
     "output_type": "stream",
     "text": [
      "----------------------------------------------------------------------------------------------------\n",
      "\n",
      "text: \n",
      "코스피가 기관의 매수세에 힘입어 30일 소폭 상승한 채 마감했다.\n",
      "\n",
      "\n",
      "\n",
      "\n",
      "\n",
      "한국거래소에 따르면 코스피 지수는 이날 전 거래일보다 5.67포인트(0.21%) 오른 2746.74를 기록했다. 이날 코스피는 전날보다 17.24포인트(0.63%) 오른 2758.31 출발했지만 외국인과 개인의 매도에 상승폭을 줄였다.\n",
      "\n",
      "\n",
      "\n",
      "\n",
      "\n",
      "유가증권시장에선 외국인과 개인이 각각 100억 원, 1376억 원을 순매도했다. 반면 기관은 1605억 원을 쓸어담았다.\n",
      "\n",
      "\n",
      "\n",
      "\n",
      "\n",
      "시가총액 상위 종목들도 삼성전자(005930)(-0.43%)와 LG에너지솔루션(373220)(-0.11%)을 제외하고 모두 올랐다. SK하이닉스(000660)와 삼성바이오로직스(207940)가 각각 0.83%, 1.93% 상승했다. 이어 네이버(1.50%), 키카오(0.95%), 삼성SDI(006400)(3.51%) 등도 주가 흐름이 좋았다.\n",
      "\n",
      "\n",
      "특히 우크라이나 전쟁 등 지정학적 리스크 완화로 자동차주가 강세를 보였다. 자동차 대장주인 현대차(005380)와 기아(000270)차는 각각 2.55%, 2.65% 주가가 위로 향했다.\n",
      "\n",
      "\n",
      "\n",
      "\n",
      "\n",
      "김석환 미래에셋증권 연구원은 \"미국 증시가 우크라이나 사태 완화와 미국 장기국채금리 하락에 따른 기술주 강세 영향을 이어받으며 국내증시가 상승 마감했다\"며 \"마이크론 실적 호조에 따라 SK하이닉스가 상승했고 현대차와 기아 등 자동차 업종은 러시아 지정학적 리스크 완화와 공급망 해소 기대감에 주가가 강했다\"고 진단했다.\n",
      "\n",
      "\n",
      "다만 이경민 대신증권 연구원은 \"외국인이 장 중 순매도 전환하면서 코스피는 이날 오후들어 오히려 하락전환하는 모습을 보였다\"며 \"3월 중순부터 이어진 글로벌 증시 상승세는 결국 기대감에 의존한 것\"이라고 분석했다. 이어 \"한국은 중국발 변수와 최근에는 일본 변수까지 신경을 써야 하는 상황에서 국내 기업 실적 관련 불확실성까지 유입된 만큼 기대심리에 기반한 상승에 더욱 취약한 모습\"이라고 설명했다.\n",
      "\n",
      "\n",
      "\n",
      "\n",
      "\n",
      "같은 시각 코스닥 지수는 전일 대비 1.24포인트(0.13%...\n",
      "\n",
      "----------------------------------------------------------------------------------------------------\n",
      "text: \n",
      "우크라이나 사태 장기화로 인한 원자재 가격 폭등세, 코스피200 편입으로 인한 공매도 물량 압박 등에 연일 계속되던 LG에너지솔루션(373220)의 급락세가 소강되는 모습이다. SK하이닉스에게 내줬던 코스피 시가총액 2위 자리도 다시 되찾은 모습이다.\n",
      "\n",
      "\n",
      "15일 오전 10시 20분 기준 LG에너지솔루션(LG엔솔)은 전 거래일보다 0.55% 내린 36만 1500원에 거래되고 있다. 장 중 1.79%까지 상승하며 반등을 시도하기도 했다. 상장 당시 50만 원선을 웃돌던 LG엔솔 주가는 이달 들어서만 15% 가까이 빠지며 현재 30만 원선까지 밀려난 상태다. 특히 최근 2거래일 연속 6~7% 급락세를 보이며 SK하이닉스에게 시총 2위 자리를 내줬지만 이날 다시 되찾았다. 현재 LG엔솔과 SK하이닉스의 시총 규모는 각각 85조, 83조 원 수준으로 격차가 크지 않다.\n",
      "\n",
      "\n",
      "LG엔솔은 최근 러시아와 우크라이나 간 전쟁 심화로 인한 니켈 등 원자재 가격 부담이 상승한 데다, 코스피200 편입에 따라 공매도 압박이 심화된 바 있다. 지난 11일 코스피200에 편입된 후 이틀 동안한 총 5543억 원어치의 공매도 물량이 쏟아진 것으로 분석된다.\n",
      "\n",
      "\n",
      "3월 미국 연방공개시장위원회(FOMC) 회의를 앞두고 금리 인상에 따른 성장주 디스카운트 우려 역시 2차전지 업체에 하방 압력을 가하고 있다. 이날 최보영 교보증권 연구원은 \"대외적 불확실성으로 인한 단기적인 예측이 어려운 상황\"이라며 \"취약한 시장 심리에 따른 변동성 확대 우려에 따라 2차전지에 대한 보수적인 접근이 필요하다\"고 말했다.\n",
      "\n",
      "----------------------------------------------------------------------------------------------------\n"
     ]
    },
    {
     "data": {
      "application/vnd.jupyter.widget-view+json": {
       "model_id": "8e85eebf413c49a39848399325455386",
       "version_major": 2,
       "version_minor": 0
      },
      "text/plain": [
       "apply len_bytes to num_bytes:   0%|          | 0/233 [00:00<?, ?it/s]"
      ]
     },
     "metadata": {},
     "output_type": "display_data"
    },
    {
     "data": {
      "application/vnd.jupyter.widget-view+json": {
       "model_id": "9ad5fd77fd6f4208917763be019c6e25",
       "version_major": 2,
       "version_minor": 0
      },
      "text/plain": [
       "apply len_wospc to num_bytes_wospc:   0%|          | 0/233 [00:00<?, ?it/s]"
      ]
     },
     "metadata": {},
     "output_type": "display_data"
    },
    {
     "data": {
      "application/vnd.jupyter.widget-view+json": {
       "model_id": "30e42f4090274a9ab3ec176097453759",
       "version_major": 2,
       "version_minor": 0
      },
      "text/plain": [
       "apply len_words to num_words:   0%|          | 0/233 [00:00<?, ?it/s]"
      ]
     },
     "metadata": {},
     "output_type": "display_data"
    },
    {
     "data": {
      "application/vnd.jupyter.widget-view+json": {
       "model_id": "af9b5d2365d443d8ae0730620934ca86",
       "version_major": 2,
       "version_minor": 0
      },
      "text/plain": [
       "apply len_sents to num_sents:   0%|          | 0/233 [00:00<?, ?it/s]"
      ]
     },
     "metadata": {},
     "output_type": "display_data"
    },
    {
     "data": {
      "application/vnd.jupyter.widget-view+json": {
       "model_id": "0dd823345aa74ec2ad46a885909334eb",
       "version_major": 2,
       "version_minor": 0
      },
      "text/plain": [
       "apply len_segments to num_segments:   0%|          | 0/233 [00:00<?, ?it/s]"
      ]
     },
     "metadata": {},
     "output_type": "display_data"
    },
    {
     "name": "stderr",
     "output_type": "stream",
     "text": [
      "INFO:ekorpkit.info.stat: >> elapsed time to calculate statistics: 0:00:00.183425\n",
      "INFO:ekorpkit.info.stat:Saving updated info file: ../data/bigkinds/info-bigkinds.yaml\n",
      "INFO:ekorpkit.corpora.build:\n",
      "Corpus [bigkinds] is built to [../data/bigkinds] from [/workspace/.cache/gdown/.16PlTKZzsLATYkoej9NrT7U5RdRR3km0c/LGENSOL]\n"
     ]
    },
    {
     "name": "stdout",
     "output_type": "stream",
     "text": [
      "{'category': 'formal',\n",
      " 'column_info': {'columns': {'id': 'id',\n",
      "                             'merge_meta_on': None,\n",
      "                             'text': 'text',\n",
      "                             'timestamp': None},\n",
      "                 'data': {'id': 'int', 'text': 'str'},\n",
      "                 'datetime': {'_parms_': None, 'format': None, 'key': None},\n",
      "                 'keys': {'id': 'id',\n",
      "                          'split': 'split',\n",
      "                          'text': 'text',\n",
      "                          'timestamp': 'timestamp'},\n",
      "                 'meta': {'category': 'str',\n",
      "                          'code': 'str',\n",
      "                          'date': 'str',\n",
      "                          'filename': 'str',\n",
      "                          'id': 'int'},\n",
      "                 'segment_separator': '\\\\n\\\\n',\n",
      "                 'sentence_separator': '\\\\n',\n",
      "                 'timestamp': {'_parms_': None, 'format': None, 'key': None}},\n",
      " 'data_files': {'train': 'bigkinds-train.parquet'},\n",
      " 'data_files_modified': '2022-06-02 02:22:35',\n",
      " 'description': 'Korean News Dataset from Big Kinds',\n",
      " 'fullname': 'Korean News Dataset from Big Kinds',\n",
      " 'homepage': 'https://www.bigkinds.or.kr',\n",
      " 'info_updated': '2022-06-02 02:22:35',\n",
      " 'lang': 'ko',\n",
      " 'meta_files': {'train': 'meta-bigkinds-train.parquet'},\n",
      " 'meta_files_modified': '2022-06-02 02:22:33',\n",
      " 'name': 'bigkinds',\n",
      " 'num_bytes_before_processing': 592303,\n",
      " 'num_docs': 233,\n",
      " 'num_docs_before_processing': 233,\n",
      " 'num_segments': 1616,\n",
      " 'num_sents': 1744,\n",
      " 'num_words': 53034,\n",
      " 'size_in_bytes': 590180,\n",
      " 'size_in_human_bytes': '576.35 KiB',\n",
      " 'splits': {'train': {'data_file': 'bigkinds-train.parquet',\n",
      "                      'dataset_name': 'bigkinds',\n",
      "                      'human_bytes': '576.35 KiB',\n",
      "                      'human_bytes_wospc': '521.73 KiB',\n",
      "                      'meta_file': 'meta-bigkinds-train.parquet',\n",
      "                      'name': 'train',\n",
      "                      'num_bytes': 590180,\n",
      "                      'num_bytes_before_processing': 592303,\n",
      "                      'num_bytes_max': 6813,\n",
      "                      'num_bytes_median': 2405.0,\n",
      "                      'num_bytes_min': 310,\n",
      "                      'num_bytes_wospc': 534252,\n",
      "                      'num_docs': 233,\n",
      "                      'num_docs_before_processing': 233,\n",
      "                      'num_segments': 1616,\n",
      "                      'num_segments_median': 7.0,\n",
      "                      'num_sents': 1744,\n",
      "                      'num_sents_median': 7.0,\n",
      "                      'num_words': 53034,\n",
      "                      'num_words_max': 646,\n",
      "                      'num_words_median': 214.0,\n",
      "                      'num_words_min': 11}},\n",
      " 'version': '1.0.0'}\n"
     ]
    },
    {
     "data": {
      "text/plain": [
       "<ekorpkit.corpora.build.DatasetBuilder at 0x7fba2fa77ca0>"
      ]
     },
     "execution_count": 2,
     "metadata": {},
     "output_type": "execute_result"
    }
   ],
   "source": [
    "cfg = eKonf.compose(config_group='corpus/builtin=bigkinds')\n",
    "cfg.data_dir = '../data/bigkinds'\n",
    "cfg.io.cache.uri = 'gd://16PlTKZzsLATYkoej9NrT7U5RdRR3km0c:LGENSOL/LGENSOL_20220101_.zip'\n",
    "cfg.io.data_dir = cfg.io.cache.path\n",
    "cfg.io.num_workers = 1\n",
    "cfg.io.overwrite = True\n",
    "cfg.verbose = True\n",
    "eKonf.instantiate(cfg)"
   ]
  },
  {
   "cell_type": "markdown",
   "metadata": {
    "id": "zpdqyeyPPWek"
   },
   "source": [
    "## Load a corpus"
   ]
  },
  {
   "cell_type": "code",
   "execution_count": 2,
   "metadata": {
    "colab": {
     "base_uri": "https://localhost:8080/"
    },
    "id": "DFsykazvPWel",
    "outputId": "7ab40ae7-42ba-4b6c-f0da-908c6d45ddb9"
   },
   "outputs": [
    {
     "name": "stderr",
     "output_type": "stream",
     "text": [
      "INFO:ekorpkit.ekonf:initialized batcher with <ekorpkit.utils.batch.batcher.Batcher object at 0x7f59a3f5cca0>\n",
      "INFO:ekorpkit.io.file:Processing [1] files from [['bigkinds-train.parquet']]\n",
      "INFO:ekorpkit.io.file:Loading data from ../data/bigkinds/bigkinds-train.parquet\n",
      "INFO:ekorpkit.io.file:Processing [1] files from [['meta-bigkinds-train.parquet']]\n",
      "INFO:ekorpkit.io.file:Loading data from ../data/bigkinds/meta-bigkinds-train.parquet\n",
      "INFO:ekorpkit.info.column:No timestamp key found\n"
     ]
    }
   ],
   "source": [
    "corpus_cfg = eKonf.compose(config_group='corpus')\n",
    "corpus_cfg.name = 'bigkinds'\n",
    "corpus_cfg.data_dir = '../data'\n",
    "bigkinds = eKonf.instantiate(corpus_cfg)"
   ]
  },
  {
   "cell_type": "code",
   "execution_count": 3,
   "metadata": {
    "colab": {
     "base_uri": "https://localhost:8080/",
     "height": 80
    },
    "id": "66U095XOPWel",
    "outputId": "df2c487f-8ca2-4963-fd8d-84de855d5e86"
   },
   "outputs": [
    {
     "data": {
      "text/html": [
       "<div>\n",
       "<style scoped>\n",
       "    .dataframe tbody tr th:only-of-type {\n",
       "        vertical-align: middle;\n",
       "    }\n",
       "\n",
       "    .dataframe tbody tr th {\n",
       "        vertical-align: top;\n",
       "    }\n",
       "\n",
       "    .dataframe thead th {\n",
       "        text-align: right;\n",
       "    }\n",
       "</style>\n",
       "<table border=\"1\" class=\"dataframe\">\n",
       "  <thead>\n",
       "    <tr style=\"text-align: right;\">\n",
       "      <th></th>\n",
       "      <th>id</th>\n",
       "      <th>date</th>\n",
       "      <th>code</th>\n",
       "      <th>category</th>\n",
       "      <th>filename</th>\n",
       "    </tr>\n",
       "  </thead>\n",
       "  <tbody>\n",
       "    <tr>\n",
       "      <th>0</th>\n",
       "      <td>0</td>\n",
       "      <td>2022-03-28 09:22:19</td>\n",
       "      <td>02100201</td>\n",
       "      <td>경제&gt;증권_증시 | IT_과학&gt;IT_과학일반</td>\n",
       "      <td>02100201.20220328092219001.txt</td>\n",
       "    </tr>\n",
       "    <tr>\n",
       "      <th>1</th>\n",
       "      <td>1</td>\n",
       "      <td>2022-01-26 17:21:42</td>\n",
       "      <td>02100311</td>\n",
       "      <td>경제&gt;증권_증시 | 지역&gt;경남 | 지역&gt;전남</td>\n",
       "      <td>02100311.20220126172142001.txt</td>\n",
       "    </tr>\n",
       "    <tr>\n",
       "      <th>2</th>\n",
       "      <td>2</td>\n",
       "      <td>2022-01-27 09:10:53</td>\n",
       "      <td>02100311</td>\n",
       "      <td>경제&gt;자원 | 경제&gt;증권_증시 | IT_과학&gt;과학</td>\n",
       "      <td>02100311.20220127091053001.txt</td>\n",
       "    </tr>\n",
       "    <tr>\n",
       "      <th>3</th>\n",
       "      <td>3</td>\n",
       "      <td>2022-01-27 09:10:55</td>\n",
       "      <td>02100311</td>\n",
       "      <td>경제&gt;증권_증시 | 경제&gt;금융_재테크 | 경제&gt;자원</td>\n",
       "      <td>02100311.20220127091055001.txt</td>\n",
       "    </tr>\n",
       "    <tr>\n",
       "      <th>4</th>\n",
       "      <td>4</td>\n",
       "      <td>2022-01-27 09:12:39</td>\n",
       "      <td>02100311</td>\n",
       "      <td>IT_과학&gt;과학 | 경제&gt;유통 | 경제&gt;증권_증시</td>\n",
       "      <td>02100311.20220127091239001.txt</td>\n",
       "    </tr>\n",
       "    <tr>\n",
       "      <th>...</th>\n",
       "      <td>...</td>\n",
       "      <td>...</td>\n",
       "      <td>...</td>\n",
       "      <td>...</td>\n",
       "      <td>...</td>\n",
       "    </tr>\n",
       "    <tr>\n",
       "      <th>228</th>\n",
       "      <td>228</td>\n",
       "      <td>2022-05-23 14:23:23</td>\n",
       "      <td>02100311</td>\n",
       "      <td>경제&gt;증권_증시 | 경제&gt;외환 | 경제&gt;유통</td>\n",
       "      <td>02100311.20220523142323001.txt</td>\n",
       "    </tr>\n",
       "    <tr>\n",
       "      <th>229</th>\n",
       "      <td>229</td>\n",
       "      <td>2022-05-23 16:38:10</td>\n",
       "      <td>02100311</td>\n",
       "      <td>경제&gt;증권_증시 | 경제&gt;외환</td>\n",
       "      <td>02100311.20220523163810001.txt</td>\n",
       "    </tr>\n",
       "    <tr>\n",
       "      <th>230</th>\n",
       "      <td>230</td>\n",
       "      <td>2022-05-24 06:31:26</td>\n",
       "      <td>02100311</td>\n",
       "      <td>경제&gt;증권_증시 | 경제&gt;금융_재테크 | 경제&gt;부동산</td>\n",
       "      <td>02100311.20220524063126001.txt</td>\n",
       "    </tr>\n",
       "    <tr>\n",
       "      <th>231</th>\n",
       "      <td>231</td>\n",
       "      <td>2022-05-24 09:15:50</td>\n",
       "      <td>02100311</td>\n",
       "      <td>경제&gt;자동차 | IT_과학&gt;모바일 | IT_과학&gt;과학</td>\n",
       "      <td>02100311.20220524091550002.txt</td>\n",
       "    </tr>\n",
       "    <tr>\n",
       "      <th>232</th>\n",
       "      <td>232</td>\n",
       "      <td>2022-05-24 18:07:17</td>\n",
       "      <td>02100311</td>\n",
       "      <td>경제&gt;반도체 | 경제&gt;산업_기업 | 경제&gt;자동차</td>\n",
       "      <td>02100311.20220524180717001.txt</td>\n",
       "    </tr>\n",
       "  </tbody>\n",
       "</table>\n",
       "<p>233 rows × 5 columns</p>\n",
       "</div>"
      ],
      "text/plain": [
       "      id                 date      code                       category  \\\n",
       "0      0  2022-03-28 09:22:19  02100201       경제>증권_증시 | IT_과학>IT_과학일반   \n",
       "1      1  2022-01-26 17:21:42  02100311       경제>증권_증시 | 지역>경남 | 지역>전남   \n",
       "2      2  2022-01-27 09:10:53  02100311    경제>자원 | 경제>증권_증시 | IT_과학>과학   \n",
       "3      3  2022-01-27 09:10:55  02100311   경제>증권_증시 | 경제>금융_재테크 | 경제>자원   \n",
       "4      4  2022-01-27 09:12:39  02100311    IT_과학>과학 | 경제>유통 | 경제>증권_증시   \n",
       "..   ...                  ...       ...                            ...   \n",
       "228  228  2022-05-23 14:23:23  02100311       경제>증권_증시 | 경제>외환 | 경제>유통   \n",
       "229  229  2022-05-23 16:38:10  02100311               경제>증권_증시 | 경제>외환   \n",
       "230  230  2022-05-24 06:31:26  02100311  경제>증권_증시 | 경제>금융_재테크 | 경제>부동산   \n",
       "231  231  2022-05-24 09:15:50  02100311  경제>자동차 | IT_과학>모바일 | IT_과학>과학   \n",
       "232  232  2022-05-24 18:07:17  02100311     경제>반도체 | 경제>산업_기업 | 경제>자동차   \n",
       "\n",
       "                           filename  \n",
       "0    02100201.20220328092219001.txt  \n",
       "1    02100311.20220126172142001.txt  \n",
       "2    02100311.20220127091053001.txt  \n",
       "3    02100311.20220127091055001.txt  \n",
       "4    02100311.20220127091239001.txt  \n",
       "..                              ...  \n",
       "228  02100311.20220523142323001.txt  \n",
       "229  02100311.20220523163810001.txt  \n",
       "230  02100311.20220524063126001.txt  \n",
       "231  02100311.20220524091550002.txt  \n",
       "232  02100311.20220524180717001.txt  \n",
       "\n",
       "[233 rows x 5 columns]"
      ]
     },
     "execution_count": 3,
     "metadata": {},
     "output_type": "execute_result"
    }
   ],
   "source": [
    "bigkinds.metadata"
   ]
  },
  {
   "cell_type": "code",
   "execution_count": 4,
   "metadata": {},
   "outputs": [
    {
     "name": "stderr",
     "output_type": "stream",
     "text": [
      "INFO:ekorpkit.io.file:Processing [1] files from [['bigkinds-train.parquet']]\n",
      "INFO:ekorpkit.io.file:Loading data from ../data/bigkinds/bigkinds-train.parquet\n",
      "INFO:ekorpkit.io.file:Processing [1] files from [['meta-bigkinds-train.parquet']]\n",
      "INFO:ekorpkit.io.file:Loading data from ../data/bigkinds/meta-bigkinds-train.parquet\n",
      "INFO:ekorpkit.info.column:No timestamp key found\n",
      "INFO:ekorpkit.ekonf:Skipping execute of functools.partial(<function concat_dataframes at 0x7f59a3fcd280>)\n",
      "INFO:ekorpkit.pipelines.pipe:Applying pipeline: OrderedDict([('chunk', 'chunk'), ('explode_splits', 'explode_splits'), ('reset_index', 'reset_index'), ('save_dataframe', 'save_dataframe')])\n",
      "INFO:ekorpkit.ekonf:Applying pipe: functools.partial(<function chunk at 0x7f59a3fd53a0>)\n",
      "INFO:ekorpkit.pipelines.pipe:instantiating segmenter\n"
     ]
    },
    {
     "data": {
      "application/vnd.jupyter.widget-view+json": {
       "model_id": "211df23ad0b14f7a9071ef7b344043ad",
       "version_major": 2,
       "version_minor": 0
      },
      "text/plain": [
       "Chunking column: text:   0%|          | 0/233 [00:00<?, ?it/s]"
      ]
     },
     "metadata": {},
     "output_type": "display_data"
    },
    {
     "name": "stderr",
     "output_type": "stream",
     "text": [
      "INFO:ekorpkit.pipelines.pipe: >> elapsed time to segment: 0:00:00.036688\n",
      "INFO:ekorpkit.ekonf:Applying pipe: functools.partial(<function explode_splits at 0x7f599f695670>)\n",
      "INFO:ekorpkit.ekonf:Applying pipe: functools.partial(<function reset_index at 0x7f599f6b23a0>)\n",
      "INFO:ekorpkit.ekonf:Applying pipe: functools.partial(<function save_dataframe at 0x7f59a3fd5b80>)\n",
      "INFO:ekorpkit.io.file:Saving dataframe as ../data/bigkinds/bigkinds_chunks.parquet\n"
     ]
    },
    {
     "data": {
      "text/html": [
       "<div>\n",
       "<style scoped>\n",
       "    .dataframe tbody tr th:only-of-type {\n",
       "        vertical-align: middle;\n",
       "    }\n",
       "\n",
       "    .dataframe tbody tr th {\n",
       "        vertical-align: top;\n",
       "    }\n",
       "\n",
       "    .dataframe thead th {\n",
       "        text-align: right;\n",
       "    }\n",
       "</style>\n",
       "<table border=\"1\" class=\"dataframe\">\n",
       "  <thead>\n",
       "    <tr style=\"text-align: right;\">\n",
       "      <th></th>\n",
       "      <th>id</th>\n",
       "      <th>text</th>\n",
       "      <th>chunk_id</th>\n",
       "    </tr>\n",
       "  </thead>\n",
       "  <tbody>\n",
       "    <tr>\n",
       "      <th>0</th>\n",
       "      <td>0</td>\n",
       "      <td>[머니투데이 이상수 MTN PD]\\n▶▶▶ 오늘 증시 MBTI\\n이재상 어드바이저 ...</td>\n",
       "      <td>0</td>\n",
       "    </tr>\n",
       "    <tr>\n",
       "      <th>1</th>\n",
       "      <td>1</td>\n",
       "      <td>&lt;유가증권&gt;\\n▲신주배정기준일=대한전선(001440)(유상) ▲보통주추가상장=크래프...</td>\n",
       "      <td>0</td>\n",
       "    </tr>\n",
       "    <tr>\n",
       "      <th>2</th>\n",
       "      <td>2</td>\n",
       "      <td>사상 최대 규모의 기업공개(IPO) '초대어' LG에너지솔루션(373220)이 코스...</td>\n",
       "      <td>0</td>\n",
       "    </tr>\n",
       "    <tr>\n",
       "      <th>3</th>\n",
       "      <td>3</td>\n",
       "      <td>LG에너지솔루션(373220)(LG엔솔)이 27일 코스피 입성 첫 날 SK하이닉스를...</td>\n",
       "      <td>0</td>\n",
       "    </tr>\n",
       "    <tr>\n",
       "      <th>4</th>\n",
       "      <td>4</td>\n",
       "      <td>사상 최대 규모의 기업공개(IPO) '초대어' LG에너지솔루션(373220)이 코스...</td>\n",
       "      <td>0</td>\n",
       "    </tr>\n",
       "    <tr>\n",
       "      <th>...</th>\n",
       "      <td>...</td>\n",
       "      <td>...</td>\n",
       "      <td>...</td>\n",
       "    </tr>\n",
       "    <tr>\n",
       "      <th>270</th>\n",
       "      <td>230</td>\n",
       "      <td>순매수 10종목중 8개 마이너스\\n개인투자자들이 최근 한 달 동안 사들인 상위 10...</td>\n",
       "      <td>0</td>\n",
       "    </tr>\n",
       "    <tr>\n",
       "      <th>271</th>\n",
       "      <td>230</td>\n",
       "      <td>외국인의 수익률도 양호했다. 지난 한 달 순매수 상위 10개 종목 중 4개가 수익을...</td>\n",
       "      <td>1</td>\n",
       "    </tr>\n",
       "    <tr>\n",
       "      <th>272</th>\n",
       "      <td>231</td>\n",
       "      <td>77kWh 탑재한 폭스바겐 차량\\nLG에너지솔루션(373220) 배터리가 탑재된 전...</td>\n",
       "      <td>0</td>\n",
       "    </tr>\n",
       "    <tr>\n",
       "      <th>273</th>\n",
       "      <td>232</td>\n",
       "      <td>■ '몸값 3조' 일진머티리얼즈 매물로\\n일진그룹이 미래 성장의 주축으로 투자해온 ...</td>\n",
       "      <td>0</td>\n",
       "    </tr>\n",
       "    <tr>\n",
       "      <th>274</th>\n",
       "      <td>232</td>\n",
       "      <td>일진그룹이 미래 성장 동력으로 키워온 계열사를 전격 매각하기로 한 배경을 놓고는 다...</td>\n",
       "      <td>1</td>\n",
       "    </tr>\n",
       "  </tbody>\n",
       "</table>\n",
       "<p>275 rows × 3 columns</p>\n",
       "</div>"
      ],
      "text/plain": [
       "      id                                               text  chunk_id\n",
       "0      0  [머니투데이 이상수 MTN PD]\\n▶▶▶ 오늘 증시 MBTI\\n이재상 어드바이저 ...         0\n",
       "1      1  <유가증권>\\n▲신주배정기준일=대한전선(001440)(유상) ▲보통주추가상장=크래프...         0\n",
       "2      2  사상 최대 규모의 기업공개(IPO) '초대어' LG에너지솔루션(373220)이 코스...         0\n",
       "3      3  LG에너지솔루션(373220)(LG엔솔)이 27일 코스피 입성 첫 날 SK하이닉스를...         0\n",
       "4      4  사상 최대 규모의 기업공개(IPO) '초대어' LG에너지솔루션(373220)이 코스...         0\n",
       "..   ...                                                ...       ...\n",
       "270  230  순매수 10종목중 8개 마이너스\\n개인투자자들이 최근 한 달 동안 사들인 상위 10...         0\n",
       "271  230  외국인의 수익률도 양호했다. 지난 한 달 순매수 상위 10개 종목 중 4개가 수익을...         1\n",
       "272  231  77kWh 탑재한 폭스바겐 차량\\nLG에너지솔루션(373220) 배터리가 탑재된 전...         0\n",
       "273  232  ■ '몸값 3조' 일진머티리얼즈 매물로\\n일진그룹이 미래 성장의 주축으로 투자해온 ...         0\n",
       "274  232  일진그룹이 미래 성장 동력으로 키워온 계열사를 전격 매각하기로 한 배경을 놓고는 다...         1\n",
       "\n",
       "[275 rows x 3 columns]"
      ]
     },
     "execution_count": 4,
     "metadata": {},
     "output_type": "execute_result"
    }
   ],
   "source": [
    "cfg = eKonf.compose(config_group=\"pipeline\")\n",
    "cfg.data.corpus = corpus_cfg\n",
    "cfg._pipeline_ = [\"chunk\", \"explode_splits\",\"reset_index\", \"save_dataframe\"]\n",
    "cfg.chunk.len_func = \"len_words\"\n",
    "cfg.chunk.chunk_size = 300\n",
    "cfg.explode_splits.id_key = \"id\"\n",
    "cfg.explode_splits.split_key = \"chunk_id\"\n",
    "cfg.explode_splits.separator = \"\\n\\n\"\n",
    "cfg.reset_index.drop_index = True\n",
    "cfg.save_dataframe.output_dir = '../data/bigkinds'\n",
    "cfg.save_dataframe.output_file = 'bigkinds_chunks.parquet'\n",
    "df = eKonf.instantiate(cfg)\n",
    "df"
   ]
  },
  {
   "cell_type": "code",
   "execution_count": 5,
   "metadata": {},
   "outputs": [
    {
     "data": {
      "text/plain": [
       "'거래 회전율이 높은 종목들은 대부분 극심한 주가 변동성을 동반했다. 한일사료는 지난달 1일부터 25일까지 주가가 242.31% 올랐으나 투자 위험 종목 지정으로 지난달 26일 하루 거래가 정지된 이후 급락세가 이어졌다. 한일사료는 5월 들어서만 주가가 16.01% 빠졌다. 곡물 제분·사료업체인 한탑(002680)의 경우 지난달 26일 상한가(3315원)로 마감했으나 다음날 상승분을 모두 반납한 뒤 이 달 들어 5.3% 떨어졌다. 이외에도 지에스이·팜스토리(027710)·케이씨피드(025880) 등 7개 종목은 지난달 주가가 20% 넘게 올랐지만 이달 들어 상승분을 토해내고 있다.\\n광무(029480)·신송홀딩스(006880)·하인크코리아(373200)는 4월 중 \\'소수 계좌 거래 집중\\' 사유로 투자 주의 종목으로, 한탑은 \\'소수 계좌 매수 관여 과다 종목\\' 사유로 투자 주의 종목에 지정되기도 했다. 각각 \\'당일 종가가 3일 전날의 종가보다 15% 이상 상승하고 상위 10개 계좌의 매수 관여율이 40% 이상\\' \\'당일 종가가 15일 전날 종가보다 75% 이상 상승하고 상위 20개 계좌의 매수 관여율이 30% 이상\\'이면 지정되는데 그만큼 주가가 소수 투자자에게 좌우될 수 있다는 신호다.\\n이처럼 거래 회전율이 지나치게 높은 테마주는 변동성이 심해 무작정 올라타기보다는 스스로 기업의 적정 가치를 판단해 신중하게 투자해야 한다는 조언이 나온다. 특히 원자재 관련 주의 경우 실적 대비 주가가 과하게 오른 측면이 있다는 지적도 있다. 황 선임연구위원은 \"원자재 가격이 오르면서 영업이익률(마진율)도 높아져 실적이 개선될 가능성을 배제할 수는 없지만 현재 거래 회전율이 높은 종목들의 실적과 주가의 괴리가 심한 것은 사실이다\"라고 설명했다. 그는 \"테마주의 경우 막연한 기대감에 오르는 경우가 대부분으로 향후 실적 전망 등을 평가한 뒤 투자를 고려해야 한다\"고 덧붙였다.'"
      ]
     },
     "execution_count": 5,
     "metadata": {},
     "output_type": "execute_result"
    }
   ],
   "source": [
    "df.text[222]"
   ]
  },
  {
   "cell_type": "markdown",
   "metadata": {},
   "source": [
    "## Predicting polarities"
   ]
  },
  {
   "cell_type": "code",
   "execution_count": 2,
   "metadata": {},
   "outputs": [],
   "source": [
    "overrides=[\n",
    "    '+model/transformer=simple_classification',\n",
    "    '+model/transformer/pretrained=ekonelectra-base',\n",
    "]\n",
    "model_cfg = eKonf.compose(overrides=overrides, config_group='model/transformer=simple_classification')\n",
    "model_cfg.name = \"esg_polarity\"\n",
    "model_cfg.config.num_train_epochs = 2\n",
    "model_cfg.config.max_seq_length = 256\n",
    "model_cfg.config.train_batch_size = 32\n",
    "model_cfg.config.eval_batch_size = 32\n",
    "model_cfg.labels = ['positive','neutral','negative']"
   ]
  },
  {
   "cell_type": "code",
   "execution_count": 3,
   "metadata": {},
   "outputs": [
    {
     "name": "stderr",
     "output_type": "stream",
     "text": [
      "INFO:ekorpkit.ekonf:Executing function functools.partial(<function load_dataframe at 0x7fba45e97550>) with parms {'filepath': '../data/bigkinds/bigkinds_chunks.parquet', 'columns': None, 'verbose': False}\n",
      "INFO:ekorpkit.io.file:Loading data from ../data/bigkinds/bigkinds_chunks.parquet\n",
      "INFO:ekorpkit.ekonf:Skipping execute of functools.partial(<function concat_dataframes at 0x7fba45e97310>)\n",
      "INFO:ekorpkit.pipelines.pipe:Applying pipeline: OrderedDict([('predict', 'predict')])\n",
      "INFO:ekorpkit.ekonf:Applying pipe: functools.partial(<function predict at 0x7fba45e10ee0>)\n",
      "INFO:ekorpkit.pipelines.pipe:instantiating model\n",
      "INFO:ekorpkit.ekonf:No method defined to call\n",
      "INFO:ekorpkit.models.transformer.simple:Loaded model from /workspace/projects/esgml/outputs/esgml-esg_polarity/ekonelectra-base/best_model\n",
      "INFO:simpletransformers.classification.classification_model: Converting to features started. Cache is not used.\n",
      "INFO:simpletransformers.classification.classification_model: Sliding window enabled\n"
     ]
    },
    {
     "data": {
      "application/vnd.jupyter.widget-view+json": {
       "model_id": "fa3732c5447d4a108fef8393790f1535",
       "version_major": 2,
       "version_minor": 0
      },
      "text/plain": [
       "  0%|          | 0/1201 [00:00<?, ?it/s]"
      ]
     },
     "metadata": {},
     "output_type": "display_data"
    },
    {
     "name": "stderr",
     "output_type": "stream",
     "text": [
      "INFO:simpletransformers.classification.classification_model: 1201 features created from 1201 samples.\n"
     ]
    },
    {
     "data": {
      "application/vnd.jupyter.widget-view+json": {
       "model_id": "40a2930dd3104131b3379260820044c5",
       "version_major": 2,
       "version_minor": 0
      },
      "text/plain": [
       "  0%|          | 0/38 [00:00<?, ?it/s]"
      ]
     },
     "metadata": {},
     "output_type": "display_data"
    },
    {
     "name": "stderr",
     "output_type": "stream",
     "text": [
      "INFO:ekorpkit.models.transformer.simple:type of raw_outputs: <class 'list'>\n",
      "INFO:ekorpkit.models.transformer.simple:raw_output: [1.7664241790771484, -2.7272276878356934, 0.864201545715332]\n",
      "INFO:ekorpkit.io.file:Saving dataframe as ./data/predict/esg_polarities-preds.csv\n"
     ]
    },
    {
     "data": {
      "text/html": [
       "<div>\n",
       "<style scoped>\n",
       "    .dataframe tbody tr th:only-of-type {\n",
       "        vertical-align: middle;\n",
       "    }\n",
       "\n",
       "    .dataframe tbody tr th {\n",
       "        vertical-align: top;\n",
       "    }\n",
       "\n",
       "    .dataframe thead th {\n",
       "        text-align: right;\n",
       "    }\n",
       "</style>\n",
       "<table border=\"1\" class=\"dataframe\">\n",
       "  <thead>\n",
       "    <tr style=\"text-align: right;\">\n",
       "      <th></th>\n",
       "      <th>id</th>\n",
       "      <th>text</th>\n",
       "      <th>chunk_id</th>\n",
       "      <th>pred_labels</th>\n",
       "      <th>raw_preds</th>\n",
       "    </tr>\n",
       "  </thead>\n",
       "  <tbody>\n",
       "    <tr>\n",
       "      <th>0</th>\n",
       "      <td>0</td>\n",
       "      <td>[머니투데이 이상수 MTN PD]\\n▶▶▶ 오늘 증시 MBTI\\n이재상 어드바이저 ...</td>\n",
       "      <td>0</td>\n",
       "      <td>neutral</td>\n",
       "      <td>[1.7664241790771484, -2.7272276878356934, 0.86...</td>\n",
       "    </tr>\n",
       "    <tr>\n",
       "      <th>1</th>\n",
       "      <td>0</td>\n",
       "      <td>- 북미 대규모 배터리 투자...총 6.5조 원 투입\\n▶ 이달해 어드바이저\\n에이...</td>\n",
       "      <td>1</td>\n",
       "      <td>neutral</td>\n",
       "      <td>[1.413273572921753, -2.801103115081787, 1.3196...</td>\n",
       "    </tr>\n",
       "    <tr>\n",
       "      <th>2</th>\n",
       "      <td>1</td>\n",
       "      <td>&lt;유가증권&gt;\\n▲신주배정기준일=대한전선(001440)(유상) ▲보통주추가상장=크래프...</td>\n",
       "      <td>0</td>\n",
       "      <td>neutral</td>\n",
       "      <td>[2.208777904510498, -1.1333577632904053, -1.39...</td>\n",
       "    </tr>\n",
       "    <tr>\n",
       "      <th>3</th>\n",
       "      <td>2</td>\n",
       "      <td>사상 최대 규모의 기업공개(IPO) '초대어' LG에너지솔루션(373220)이 코스...</td>\n",
       "      <td>0</td>\n",
       "      <td>negative</td>\n",
       "      <td>[0.22100260853767395, 1.2145133018493652, -1.4...</td>\n",
       "    </tr>\n",
       "    <tr>\n",
       "      <th>4</th>\n",
       "      <td>2</td>\n",
       "      <td>이날 장전 거래에서 시초가가 공모가의 2배인 60만 원에 형성되는가 했지만, 장 개...</td>\n",
       "      <td>1</td>\n",
       "      <td>neutral</td>\n",
       "      <td>[0.3159239888191223, 0.061452917754650116, -0....</td>\n",
       "    </tr>\n",
       "  </tbody>\n",
       "</table>\n",
       "</div>"
      ],
      "text/plain": [
       "   id                                               text  chunk_id  \\\n",
       "0   0  [머니투데이 이상수 MTN PD]\\n▶▶▶ 오늘 증시 MBTI\\n이재상 어드바이저 ...         0   \n",
       "1   0  - 북미 대규모 배터리 투자...총 6.5조 원 투입\\n▶ 이달해 어드바이저\\n에이...         1   \n",
       "2   1  <유가증권>\\n▲신주배정기준일=대한전선(001440)(유상) ▲보통주추가상장=크래프...         0   \n",
       "3   2  사상 최대 규모의 기업공개(IPO) '초대어' LG에너지솔루션(373220)이 코스...         0   \n",
       "4   2  이날 장전 거래에서 시초가가 공모가의 2배인 60만 원에 형성되는가 했지만, 장 개...         1   \n",
       "\n",
       "  pred_labels                                          raw_preds  \n",
       "0     neutral  [1.7664241790771484, -2.7272276878356934, 0.86...  \n",
       "1     neutral  [1.413273572921753, -2.801103115081787, 1.3196...  \n",
       "2     neutral  [2.208777904510498, -1.1333577632904053, -1.39...  \n",
       "3    negative  [0.22100260853767395, 1.2145133018493652, -1.4...  \n",
       "4     neutral  [0.3159239888191223, 0.061452917754650116, -0....  "
      ]
     },
     "execution_count": 3,
     "metadata": {},
     "output_type": "execute_result"
    }
   ],
   "source": [
    "cfg = eKonf.compose(config_group='pipeline')\n",
    "cfg.name = 'esg_polarities'\n",
    "cfg.data_dir = '../data/bigkinds'\n",
    "cfg.data_file = 'bigkinds_chunks.parquet'\n",
    "cfg._pipeline_ = ['predict']\n",
    "cfg.predict.model = model_cfg\n",
    "cfg.predict.output_dir = \"./data/predict\"\n",
    "cfg.predict.output_file = f'{cfg.name}-preds.csv'\n",
    "cfg.num_workers = 1\n",
    "df = eKonf.instantiate(cfg)\n",
    "df.head()"
   ]
  },
  {
   "cell_type": "code",
   "execution_count": 5,
   "metadata": {},
   "outputs": [],
   "source": [
    "df.to_excel(\"esg_polarities-preds.xlsx\")"
   ]
  },
  {
   "cell_type": "markdown",
   "metadata": {},
   "source": [
    "## Predicting categories"
   ]
  },
  {
   "cell_type": "code",
   "execution_count": 6,
   "metadata": {},
   "outputs": [],
   "source": [
    "overrides=[\n",
    "    '+model/transformer=simple_classification',\n",
    "    '+model/transformer/pretrained=ekonelectra-base',\n",
    "]\n",
    "model_cfg = eKonf.compose(overrides=overrides, config_group='model/transformer=simple_classification')\n",
    "model_cfg.name = \"esg_topics\"\n",
    "model_cfg.config.num_train_epochs = 2\n",
    "model_cfg.config.max_seq_length = 256\n",
    "model_cfg.config.train_batch_size = 32\n",
    "model_cfg.config.eval_batch_size = 32"
   ]
  },
  {
   "cell_type": "code",
   "execution_count": 7,
   "metadata": {},
   "outputs": [
    {
     "name": "stderr",
     "output_type": "stream",
     "text": [
      "INFO:ekorpkit.ekonf:Executing function functools.partial(<function load_dataframe at 0x7fba45e97550>) with parms {'filepath': '../data/bigkinds/bigkinds_chunks.parquet', 'columns': None, 'verbose': False}\n",
      "INFO:ekorpkit.io.file:Loading data from ../data/bigkinds/bigkinds_chunks.parquet\n",
      "INFO:ekorpkit.ekonf:Skipping execute of functools.partial(<function concat_dataframes at 0x7fba45e97310>)\n",
      "INFO:ekorpkit.pipelines.pipe:Applying pipeline: OrderedDict([('predict', 'predict')])\n",
      "INFO:ekorpkit.ekonf:Applying pipe: functools.partial(<function predict at 0x7fba45e10ee0>)\n",
      "INFO:ekorpkit.pipelines.pipe:instantiating model\n",
      "INFO:ekorpkit.ekonf:No method defined to call\n",
      "INFO:ekorpkit.models.transformer.simple:Loaded model from /workspace/projects/esgml/outputs/esgml-esg_topics/ekonelectra-base/best_model\n",
      "INFO:simpletransformers.classification.classification_model: Converting to features started. Cache is not used.\n",
      "INFO:simpletransformers.classification.classification_model: Sliding window enabled\n"
     ]
    },
    {
     "data": {
      "application/vnd.jupyter.widget-view+json": {
       "model_id": "d551dfc94871453d9d72fa42d7ba5557",
       "version_major": 2,
       "version_minor": 0
      },
      "text/plain": [
       "  0%|          | 0/1201 [00:00<?, ?it/s]"
      ]
     },
     "metadata": {},
     "output_type": "display_data"
    },
    {
     "name": "stderr",
     "output_type": "stream",
     "text": [
      "INFO:simpletransformers.classification.classification_model: 1201 features created from 1201 samples.\n"
     ]
    },
    {
     "data": {
      "application/vnd.jupyter.widget-view+json": {
       "model_id": "482c6e8a78574e7685d401f4b670ffd3",
       "version_major": 2,
       "version_minor": 0
      },
      "text/plain": [
       "  0%|          | 0/38 [00:00<?, ?it/s]"
      ]
     },
     "metadata": {},
     "output_type": "display_data"
    },
    {
     "name": "stderr",
     "output_type": "stream",
     "text": [
      "INFO:ekorpkit.models.transformer.simple:type of raw_outputs: <class 'list'>\n",
      "INFO:ekorpkit.models.transformer.simple:raw_output: [-0.41563311219215393, 1.0739761590957642, -0.9921706318855286, 3.773885488510132, 2.3257620334625244, -1.214221715927124, -1.4004017114639282, 2.401806116104126, -0.5396719574928284, -0.6043699979782104, -0.43679967522621155, -2.2757036685943604, -0.05470063537359238, 0.8972206115722656, -1.860360026359558, -1.7987903356552124]\n",
      "INFO:ekorpkit.io.file:Saving dataframe as ./data/predict/esg_categories-preds.csv\n"
     ]
    },
    {
     "data": {
      "text/html": [
       "<div>\n",
       "<style scoped>\n",
       "    .dataframe tbody tr th:only-of-type {\n",
       "        vertical-align: middle;\n",
       "    }\n",
       "\n",
       "    .dataframe tbody tr th {\n",
       "        vertical-align: top;\n",
       "    }\n",
       "\n",
       "    .dataframe thead th {\n",
       "        text-align: right;\n",
       "    }\n",
       "</style>\n",
       "<table border=\"1\" class=\"dataframe\">\n",
       "  <thead>\n",
       "    <tr style=\"text-align: right;\">\n",
       "      <th></th>\n",
       "      <th>id</th>\n",
       "      <th>text</th>\n",
       "      <th>chunk_id</th>\n",
       "      <th>pred_labels</th>\n",
       "      <th>raw_preds</th>\n",
       "    </tr>\n",
       "  </thead>\n",
       "  <tbody>\n",
       "    <tr>\n",
       "      <th>0</th>\n",
       "      <td>0</td>\n",
       "      <td>[머니투데이 이상수 MTN PD]\\n▶▶▶ 오늘 증시 MBTI\\n이재상 어드바이저 ...</td>\n",
       "      <td>0</td>\n",
       "      <td>G-주주환원</td>\n",
       "      <td>[-0.41563311219215393, 1.0739761590957642, -0....</td>\n",
       "    </tr>\n",
       "    <tr>\n",
       "      <th>1</th>\n",
       "      <td>0</td>\n",
       "      <td>- 북미 대규모 배터리 투자...총 6.5조 원 투입\\n▶ 이달해 어드바이저\\n에이...</td>\n",
       "      <td>1</td>\n",
       "      <td>G-주주환원</td>\n",
       "      <td>[-0.5730087161064148, -0.26970621943473816, -1...</td>\n",
       "    </tr>\n",
       "    <tr>\n",
       "      <th>2</th>\n",
       "      <td>1</td>\n",
       "      <td>&lt;유가증권&gt;\\n▲신주배정기준일=대한전선(001440)(유상) ▲보통주추가상장=크래프...</td>\n",
       "      <td>0</td>\n",
       "      <td>G-주주환원</td>\n",
       "      <td>[-0.6350004076957703, 2.749204158782959, -0.07...</td>\n",
       "    </tr>\n",
       "    <tr>\n",
       "      <th>3</th>\n",
       "      <td>2</td>\n",
       "      <td>사상 최대 규모의 기업공개(IPO) '초대어' LG에너지솔루션(373220)이 코스...</td>\n",
       "      <td>0</td>\n",
       "      <td>G-주주환원</td>\n",
       "      <td>[-0.6237360835075378, 1.4131180047988892, -0.7...</td>\n",
       "    </tr>\n",
       "    <tr>\n",
       "      <th>4</th>\n",
       "      <td>2</td>\n",
       "      <td>이날 장전 거래에서 시초가가 공모가의 2배인 60만 원에 형성되는가 했지만, 장 개...</td>\n",
       "      <td>1</td>\n",
       "      <td>G-주주환원</td>\n",
       "      <td>[-0.6814305186271667, 0.9492658972740173, -0.7...</td>\n",
       "    </tr>\n",
       "  </tbody>\n",
       "</table>\n",
       "</div>"
      ],
      "text/plain": [
       "   id                                               text  chunk_id  \\\n",
       "0   0  [머니투데이 이상수 MTN PD]\\n▶▶▶ 오늘 증시 MBTI\\n이재상 어드바이저 ...         0   \n",
       "1   0  - 북미 대규모 배터리 투자...총 6.5조 원 투입\\n▶ 이달해 어드바이저\\n에이...         1   \n",
       "2   1  <유가증권>\\n▲신주배정기준일=대한전선(001440)(유상) ▲보통주추가상장=크래프...         0   \n",
       "3   2  사상 최대 규모의 기업공개(IPO) '초대어' LG에너지솔루션(373220)이 코스...         0   \n",
       "4   2  이날 장전 거래에서 시초가가 공모가의 2배인 60만 원에 형성되는가 했지만, 장 개...         1   \n",
       "\n",
       "  pred_labels                                          raw_preds  \n",
       "0      G-주주환원  [-0.41563311219215393, 1.0739761590957642, -0....  \n",
       "1      G-주주환원  [-0.5730087161064148, -0.26970621943473816, -1...  \n",
       "2      G-주주환원  [-0.6350004076957703, 2.749204158782959, -0.07...  \n",
       "3      G-주주환원  [-0.6237360835075378, 1.4131180047988892, -0.7...  \n",
       "4      G-주주환원  [-0.6814305186271667, 0.9492658972740173, -0.7...  "
      ]
     },
     "execution_count": 7,
     "metadata": {},
     "output_type": "execute_result"
    }
   ],
   "source": [
    "cfg = eKonf.compose(config_group='pipeline')\n",
    "cfg.name = 'esg_categories'\n",
    "cfg.data_dir = '../data/bigkinds'\n",
    "cfg.data_file = 'bigkinds_chunks.parquet'\n",
    "cfg._pipeline_ = ['predict']\n",
    "cfg.predict.model = model_cfg\n",
    "cfg.predict.output_dir = \"./data/predict\"\n",
    "cfg.predict.output_file = f'{cfg.name}-preds.csv'\n",
    "cfg.num_workers = 1\n",
    "df = eKonf.instantiate(cfg)\n",
    "df.head()"
   ]
  },
  {
   "cell_type": "code",
   "execution_count": 8,
   "metadata": {},
   "outputs": [],
   "source": [
    "df.to_excel(\"esg_categories-preds.xlsx\")"
   ]
  },
  {
   "cell_type": "code",
   "execution_count": null,
   "metadata": {},
   "outputs": [],
   "source": []
  }
 ],
 "metadata": {
  "colab": {
   "name": "corpus.ipynb",
   "provenance": []
  },
  "interpreter": {
   "hash": "f869af7787e6a1c49e09e367fc6e1b81d93d1c6583b43249c80edc047bd13cb2"
  },
  "kernelspec": {
   "display_name": "Python 3",
   "language": "python",
   "name": "python3"
  },
  "language_info": {
   "codemirror_mode": {
    "name": "ipython",
    "version": 3
   },
   "file_extension": ".py",
   "mimetype": "text/x-python",
   "name": "python",
   "nbconvert_exporter": "python",
   "pygments_lexer": "ipython3",
   "version": "3.8.12"
  },
  "widgets": {
   "application/vnd.jupyter.widget-state+json": {
    "state": {},
    "version_major": 2,
    "version_minor": 0
   }
  }
 },
 "nbformat": 4,
 "nbformat_minor": 4
}
