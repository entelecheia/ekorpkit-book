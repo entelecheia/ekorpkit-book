{
  "cells": [
    {
      "cell_type": "markdown",
      "metadata": {
        "id": "PfSMqenAwpKI"
      },
      "source": [
        "# Compose an ekorpkit config"
      ]
    },
    {
      "cell_type": "markdown",
      "metadata": {
        "colab_type": "text",
        "id": "view-in-github"
      },
      "source": [
        "<a href=\"https://colab.research.google.com/github/entelecheia/ekorpkit-config/blob/main/notebooks/config.ipynb\" target=\"_parent\"><img src=\"https://colab.research.google.com/assets/colab-badge.svg\" alt=\"Open In Colab\"/></a>"
      ]
    },
    {
      "cell_type": "code",
      "execution_count": null,
      "metadata": {
        "id": "gN8kk98Rwuzs"
      },
      "outputs": [],
      "source": [
        "# %%capture\n",
        "# %pip install ekorpkit"
      ]
    },
    {
      "cell_type": "code",
      "execution_count": null,
      "metadata": {
        "id": "OhqanxoywpKJ"
      },
      "outputs": [],
      "source": [
        "from ekorpkit import eKonf\n",
        "\n",
        "cfg = eKonf.compose()\n",
        "print('Config type:', type(cfg))"
      ]
    },
    {
      "cell_type": "code",
      "execution_count": null,
      "metadata": {},
      "outputs": [],
      "source": [
        "eKonf.pprint(cfg.dir)"
      ]
    },
    {
      "cell_type": "code",
      "execution_count": null,
      "metadata": {},
      "outputs": [],
      "source": [
        "cfg.env.dotenv_path = '.env'\n",
        "eKonf.pprint(cfg.env)"
      ]
    },
    {
      "cell_type": "code",
      "execution_count": null,
      "metadata": {
        "colab": {
          "base_uri": "https://localhost:8080/"
        },
        "id": "KwO4AMTdwpKL",
        "outputId": "3e900249-934b-4871-e5e5-d9552d32f3a1"
      },
      "outputs": [],
      "source": [
        "cfg = eKonf.to_dict(cfg)\n",
        "print(type(cfg))"
      ]
    },
    {
      "cell_type": "code",
      "execution_count": null,
      "metadata": {
        "id": "BoIDUgivwpKM"
      },
      "outputs": [],
      "source": [
        "eKonf.__home_path__"
      ]
    },
    {
      "cell_type": "code",
      "execution_count": null,
      "metadata": {},
      "outputs": [],
      "source": []
    }
  ],
  "metadata": {
    "colab": {
      "include_colab_link": true,
      "name": "config.ipynb",
      "provenance": []
    },
    "interpreter": {
      "hash": "f869af7787e6a1c49e09e367fc6e1b81d93d1c6583b43249c80edc047bd13cb2"
    },
    "kernelspec": {
      "display_name": "Python 3.8.12 64-bit ('ekonml38')",
      "language": "python",
      "name": "python3"
    },
    "language_info": {
      "codemirror_mode": {
        "name": "ipython",
        "version": 3
      },
      "file_extension": ".py",
      "mimetype": "text/x-python",
      "name": "python",
      "nbconvert_exporter": "python",
      "pygments_lexer": "ipython3",
      "version": "3.8.12"
    },
    "orig_nbformat": 4
  },
  "nbformat": 4,
  "nbformat_minor": 0
}
