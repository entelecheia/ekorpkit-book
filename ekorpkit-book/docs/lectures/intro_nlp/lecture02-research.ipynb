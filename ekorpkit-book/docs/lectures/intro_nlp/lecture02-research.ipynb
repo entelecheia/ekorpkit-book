{
 "cells": [
  {
   "cell_type": "markdown",
   "id": "bfc871e8",
   "metadata": {
    "slideshow": {
     "slide_type": "slide"
    },
    "tags": []
   },
   "source": [
    "# Research Applications\n",
    "\n",
    "![research](../figs/entelecheia_economic_research.png)"
   ]
  },
  {
   "cell_type": "markdown",
   "id": "9fc3afe2",
   "metadata": {
    "slideshow": {
     "slide_type": "slide"
    },
    "tags": []
   },
   "source": [
    "## Textual analysis\n",
    "\n",
    "- Textual analysis becoming increasingly popular in asset pricing, macro, and other fields.\n",
    "- Most successful applications use text to measure economic concepts that are otherwise hard or impossible to measure.\n",
    "- So-far, simplest applications have been the most successful.\n",
    "- Many cutting-edge methods of machine learning are not necessary or even counter-productive, similar to kitchen-sink regressions, prone to over-fitting.\n",
    "- Advice:\n",
    "  - keep it simple.\n",
    "  - stay close to the text, read a lot.\n",
    "  - frontier is more in learning from new data than in fancy techniques.\n"
   ]
  },
  {
   "cell_type": "markdown",
   "id": "af5e881d",
   "metadata": {
    "slideshow": {
     "slide_type": "slide"
    },
    "tags": []
   },
   "source": [
    "![textual](../figs/entelecheia_textual_analysis.png)"
   ]
  },
  {
   "cell_type": "markdown",
   "id": "55d9820b",
   "metadata": {
    "slideshow": {
     "slide_type": "slide"
    },
    "tags": []
   },
   "source": [
    "## Firm-level political risk\n",
    "by Hassan, Hollander, van Lent, and Tahoun (2019)\n",
    "\n",
    "- What share of the conversation between management and participants centers on political risks?\n",
    "\n",
    "- Extract all two-word combinations (“bigrams”) from training libraries indicative of discussion of political topics, P, and non-political topics\n"
   ]
  },
  {
   "cell_type": "markdown",
   "id": "5de36bdc",
   "metadata": {
    "slideshow": {
     "slide_type": "slide"
    },
    "tags": []
   },
   "source": [
    "**Conference Call Transcripts**\n",
    "\n",
    "- Transcripts of 326,247 earnings conference calls of 11,943 firms headquartered in 84 different countries, available 2002-20 from EIKON.\n",
    "\n",
    "- Typically four calls per year, after earnings releases.\n",
    "\n",
    "- Management presentation followed by Q&A with firm’s analysts (0-70 questions, average duration 45 min).\n"
   ]
  },
  {
   "cell_type": "markdown",
   "id": "1fe1d766",
   "metadata": {
    "slideshow": {
     "slide_type": "slide"
    },
    "tags": []
   },
   "source": [
    "**Measure of Political Risk**\n",
    "\n",
    "- Count the number of occurrences of (exclusively) political bigrams in conjunction with a synonym for risk or uncertainty and divide by the total number of bigrams in the transcript:\n",
    "  \n",
    "  \n",
    "  $PRisk_{it} = \\frac{1}{B_{it}}\\sum_{b}^{B_{it}}\\{1[ b \\in \\mathbb{P}\\setminus\\mathbb{N}] \\times 1[|b-r| \\lt 10] \\times f_{b,\\mathbb{P}}/B_{\\mathbb{P}}\\}$\n",
    "\n",
    "  where $r$ is the position of the nearest synonym of risk or uncertainty and $b = 0,1,\\ldots B_{it}$ are the bigrams contained in call of firm $i$ at time $t$.\n",
    "\n",
    "  (Application of \"$tf \\times idf$\")"
   ]
  },
  {
   "cell_type": "markdown",
   "id": "0f11b193",
   "metadata": {
    "slideshow": {
     "slide_type": "slide"
    },
    "tags": []
   },
   "source": [
    "- Synonyms for “risk” or “uncertainty”\n",
    "\n",
    "![h:500px](../figs/intro_nlp/research/2.png)"
   ]
  },
  {
   "cell_type": "markdown",
   "id": "177bb777",
   "metadata": {
    "slideshow": {
     "slide_type": "slide"
    },
    "tags": []
   },
   "source": [
    "**Measuring news about the mean: $PSentiment_{it}$**\n",
    "\n",
    "- Use same approach to measure mean of political news:\n",
    "\n",
    "  - Count positive and negative words (“sentiment”) used in conjunction with a political bigram:\n",
    "\n",
    "    $PSentiment_{i,t} = \\frac{1}{B_{it}} \\sum_{b}^{B_{it}} \\Big( 1[ b \\in \\mathbb{P}\\setminus\\mathbb{N}] \\times \\frac{f_{b,\\mathbb{P}}}{B_{\\mathbb{P}}} \\times \\sum_{c=b-10}^{b+10} S(c) \\Big) $,\n",
    "\n",
    "    where $S$ assigns sentiment to each $c$ (Laughran & McDonald 2011)\n",
    "\n",
    "    $S(c) = \\begin{cases} +1 \\text{ if } c \\in \\mathbb{S}^{+} \\\\ -1 \\text{ if } c \\in \\mathbb{S}^{-} \\\\ 0 \\text{  otherwise} \\end{cases}$\n",
    "\n",
    "  - Find that $Corr(PRisk_{it}, PSentiment_{it}) = −0.095^{***}$\n"
   ]
  },
  {
   "cell_type": "markdown",
   "id": "5d07c13a",
   "metadata": {
    "slideshow": {
     "slide_type": "slide"
    },
    "tags": []
   },
   "source": [
    "\n",
    "**$PRisk_{it}$ identifies conversations about risks associated with political topics.**\n",
    "\n",
    "- Bigrams with highest scores intuitively linked to politics (‘the constitution,’ ‘public opinion,’ ‘interest groups,’ ‘the FAA’ ...)\n",
    "  Transcripts with highest PRisk it indeed center around discussions about ballot initiatives, legislation, regulation, government expenditure,...\n"
   ]
  },
  {
   "cell_type": "markdown",
   "id": "25765fb8",
   "metadata": {
    "slideshow": {
     "slide_type": "slide"
    },
    "tags": []
   },
   "source": [
    "**Transcripts with highest PRisk**\n",
    "\n",
    "![h:500px](../figs/intro_nlp/research/4.png)"
   ]
  },
  {
   "cell_type": "markdown",
   "id": "f02f14a2",
   "metadata": {
    "slideshow": {
     "slide_type": "slide"
    },
    "tags": []
   },
   "source": [
    "\n",
    "**Example: Duke Energy Corporation**\n",
    "\n",
    "A coal company’s $PRisk_{it}$\n",
    "\n",
    "![h:500px](../figs/intro_nlp/research/5.png)"
   ]
  },
  {
   "cell_type": "markdown",
   "id": "a49c876e",
   "metadata": {
    "slideshow": {
     "slide_type": "slide"
    },
    "tags": []
   },
   "source": [
    "## Sources and Transmission of Country Risk\n",
    "by Hassan, Schreger, Schwedeler, and Tahoun (2021)\n",
    "\n",
    "For each of 56 countries assemble a training library, $\\mathbb{T}^{C}$\n",
    "\n",
    "- All \"Country Commerce\" reports published by the Economist Intelligence Unit 2002-2016\n",
    "- All names of the country, names of towns with more than 15,000 inhabitants in 2018, and administrative subdivisions from geonames.org and CIA World Factbook.\n",
    "\n",
    "Use $tf \\times idf$ to identify two-word combinations ('bigrams') that are indicative of discussion of each country. For example, a mention of \"Angela Merkel\" is indicative of discussions of country $C$ if,\n",
    "\n",
    "- The bigram if frequent in $C$'s training library\n",
    "- It is rarely used in other countries' libraries"
   ]
  },
  {
   "cell_type": "markdown",
   "id": "75c0a185",
   "metadata": {
    "slideshow": {
     "slide_type": "slide"
    },
    "tags": []
   },
   "source": [
    "**Four Dimensions of $CountryRisk_{i,c,t}$**\n",
    "\n",
    "1. Risk a given set of firms K associates with country c:\n",
    "   \n",
    "   $CountryRisk_{c,t}^{K} = \\frac{1}{N_K}\\sum CountryRisk_{i,c,t}$\n",
    "   \n",
    "2. Foreign risks perceived by firm i at time t:\n",
    "   \n",
    "   $ForeignRisk_{i,t} = \\sum_{c \\ne d(i)} CountryRisk_{i,c,t}$\n",
    "   \n",
    "3. Transmission of risk from o to d at time t:\n",
    "   \n",
    "   $TransmissionRisk_{o \\to d,t} = \\frac{1}{N_d}\\sum CountryRisk_{i,o,t}$\n",
    "   \n",
    "4. Global Risk at time t:\n",
    "   \n",
    "   $GlobalRisk_{t} = \\frac{1}{N_I}\\frac{1}{N_C}\\sum_{i \\in I}\\sum_{c \\in C} CountryRisk_{i,c,t}$\n",
    "   \n"
   ]
  },
  {
   "cell_type": "markdown",
   "id": "0a81deb6",
   "metadata": {
    "slideshow": {
     "slide_type": "slide"
    },
    "tags": []
   },
   "source": [
    "**Measuring Exposure, Sentiment, and Firm Risk**\n",
    "\n",
    "- $CountryExposure_{i,c,t}$ : tf × idf weighted share of words related to country c\n",
    "- $CountrySentiment_{i,c,t}$ : tf × idf weighted sum of tone words toward country c (Loughran & McDonald 2011) (Proxy for positive/negative news about country c)\n",
    "- $FirmRisk_{i,t}$ : Unweighted count of risk words. (Proxy for overall risk faced by the firm)\n"
   ]
  },
  {
   "cell_type": "markdown",
   "id": "62b1fc59",
   "metadata": {
    "slideshow": {
     "slide_type": "slide"
    },
    "tags": []
   },
   "source": [
    "**Financial and Non-Financial Risk: Greece**\n",
    "\n",
    "![h:500px](../figs/intro_nlp/research/7.png)"
   ]
  },
  {
   "cell_type": "markdown",
   "id": "bedff10a",
   "metadata": {},
   "source": [
    "**Financial and Non-Financial Risk: Thailand**\n",
    "\n",
    "![h:500px](../figs/intro_nlp/research/8.png)"
   ]
  },
  {
   "cell_type": "markdown",
   "id": "9129241e",
   "metadata": {
    "slideshow": {
     "slide_type": "slide"
    },
    "tags": []
   },
   "source": [
    "**Financial and Non-Financial Risk: Global**\n",
    "\n",
    "![h:500px](../figs/intro_nlp/research/9.png)"
   ]
  },
  {
   "cell_type": "markdown",
   "id": "0473d14b",
   "metadata": {
    "slideshow": {
     "slide_type": "slide"
    },
    "tags": []
   },
   "source": [
    "## Hoberg and Philips (2016)\n",
    "\n",
    "- Use similarity between product descriptions in 10Ks to identify industry clusters.\n",
    "\n",
    "- How similar are two firms’ products?\n",
    "\n",
    "- The most popular way of calculating similarity is cosine similarity.\n",
    "  \n",
    "  $ S_{i,j} = c_i \\cdot c_j $\n",
    "  \n",
    "  where $c_i$ is the normalized representative vector of words for document $i$.\n",
    "\n",
    "- A creative way of figuring out who is competing with whom!\n"
   ]
  },
  {
   "cell_type": "markdown",
   "id": "8f77c172",
   "metadata": {
    "slideshow": {
     "slide_type": "slide"
    },
    "tags": []
   },
   "source": [
    "**Product Descriptions to Vector**\n",
    "\n",
    "- Only keep nouns (webster.com) and proper nouns. Drop most commonly used nouns.\n",
    "\n",
    "- Vector ($c_i$) is binary values for included words.\n",
    "\n",
    "- Cosine similarity between all firm-year pairs results in a huge matrix with firm-year as rows and columns.\n",
    "\n",
    "- Cluster firm-pairs year by year to form yearly industry clusters.\n",
    "\n"
   ]
  },
  {
   "cell_type": "markdown",
   "id": "907548b8",
   "metadata": {
    "slideshow": {
     "slide_type": "slide"
    },
    "tags": []
   },
   "source": [
    "**Result**\n",
    "\n",
    "Sample industry that changed a lot\n",
    "\n",
    "- Use this to track who is competing with whom, form industry definitions.\n",
    "\n",
    "- One drawback of 10K’s: only available for US firms.\n",
    "\n",
    "![h:500px](../figs/intro_nlp/research/10.png)"
   ]
  },
  {
   "cell_type": "markdown",
   "id": "8d96543c",
   "metadata": {
    "slideshow": {
     "slide_type": "slide"
    },
    "tags": []
   },
   "source": [
    "## Measuring Economic Policy Uncertainty (EPU)\n",
    "\n",
    "![h:500px](../figs/intro_nlp/research/11.png)\n"
   ]
  },
  {
   "cell_type": "markdown",
   "id": "af80e193",
   "metadata": {
    "slideshow": {
     "slide_type": "slide"
    },
    "tags": []
   },
   "source": [
    "**This proxy for Economic Policy Uncertainty (EPU) comes from computer searches of newspapers**\n",
    "\n",
    "- US index: 10 major papers get monthly counts of articles with:\n",
    "\n",
    "  - `E` {economic or economy}, and\n",
    "  - `P` {regulation or deficit or federal reserve or congress or legislation or white house}, and\n",
    "  - `U` {uncertain or uncertainty}\n",
    "\n",
    "- Divide the count for each month by the count of all articles\n",
    "\n",
    "- Normalize and sum 10 papers to get the U.S monthly index\n"
   ]
  },
  {
   "cell_type": "markdown",
   "id": "ca319f45",
   "metadata": {
    "slideshow": {
     "slide_type": "slide"
    },
    "tags": []
   },
   "source": [
    "**Constructing the US News-Based EPU Index**\n",
    "\n",
    "**Newspapers:**\n",
    "\n",
    "- Boston Globe\n",
    "- Chicago Tribune\n",
    "- Dallas Morning News\n",
    "- Los Angeles Times\n",
    "- Miami Herald\n",
    "- New York Times\n",
    "- SF Chronicle\n",
    "- USA Today\n",
    "- Wall Street Journal\n",
    "- Washington Post\n"
   ]
  },
  {
   "cell_type": "markdown",
   "id": "50290da4",
   "metadata": {
    "slideshow": {
     "slide_type": "slide"
    },
    "tags": []
   },
   "source": [
    "**Validation: Running Detailed Human Audits**\n",
    "\n",
    "10 undergraduates read ≈ 10,000 newspaper articles to date using a 63-page audit guide to code articles if they discuss “economic uncertainty” and “economic policy uncertainty”\n",
    "\n",
    "![h:500px](../figs/intro_nlp/research/12.png)\n"
   ]
  },
  {
   "cell_type": "markdown",
   "id": "2d9346a0",
   "metadata": {
    "slideshow": {
     "slide_type": "slide"
    },
    "tags": []
   },
   "source": [
    "**US News-based economic policy uncertainty index**\n",
    "\n",
    "![h:500px](../figs/intro_nlp/research/13.png)\n"
   ]
  },
  {
   "cell_type": "markdown",
   "id": "baf782b9",
   "metadata": {
    "slideshow": {
     "slide_type": "slide"
    },
    "tags": []
   },
   "source": [
    "**Twitter text uncertainty measures**\n",
    "\n",
    "![h:500px](../figs/intro_nlp/research/13.png)\n"
   ]
  },
  {
   "cell_type": "markdown",
   "id": "f8073186",
   "metadata": {
    "slideshow": {
     "slide_type": "slide"
    },
    "tags": []
   },
   "source": [
    "**“world uncertainty index” covering 143 countries from Economist Intelligence Unit text**\n",
    "\n",
    "![h:500px](../figs/intro_nlp/research/15.png)\n"
   ]
  },
  {
   "cell_type": "markdown",
   "id": "a410fa31",
   "metadata": {
    "slideshow": {
     "slide_type": "slide"
    },
    "tags": []
   },
   "source": [
    "**Global average of all 143 countries**\n",
    "\n",
    "![h:500px](../figs/intro_nlp/research/16.png)\n"
   ]
  },
  {
   "cell_type": "markdown",
   "id": "2e0a5aa5",
   "metadata": {
    "slideshow": {
     "slide_type": "slide"
    },
    "tags": []
   },
   "source": [
    "## The Diffusion of Disruptive Technologies\n",
    "\n",
    "Bloom, Kalyani, Lerner, and Tahoun (2021), The Diffusion of Disruptive Technologies\n",
    "\n",
    "- Construct text-based measures of exposure to 20 different technologies at the firm, patent, and job-level, 2002-19.\n",
    "\n",
    "- Use these novel data to study the spread of new technologies across firms, regions, occupations, and skill-levels.\n"
   ]
  },
  {
   "cell_type": "markdown",
   "id": "d0c0c137",
   "metadata": {
    "slideshow": {
     "slide_type": "slide"
    },
    "tags": []
   },
   "source": [
    "**Five Stylized Facts on Disruptive Technologies**\n",
    "\n",
    "1. Development & initial employment in disruptive technologies is geographically highly concentrated.\n",
    "\n",
    "2. Over time, hiring associated with new technologies gradually spreads: “region broadening.”\n",
    "\n",
    "3. Over time, skill level in tech jobs declines sharply: “skill broadening.”\n",
    "\n",
    "4. Low-skill jobs associated with a given technology spread out significantly faster than high-skill jobs.\n",
    "\n",
    "5. Pioneer locations retain long-lasting advantage in high-skilled jobs.\n"
   ]
  },
  {
   "cell_type": "markdown",
   "id": "1ace2d2a",
   "metadata": {
    "slideshow": {
     "slide_type": "slide"
    },
    "tags": []
   },
   "source": [
    "**Data Sources**\n",
    "\n",
    "1. Full text of USPTO patents (1976-2016)\n",
    "\n",
    "   - Typically follow a research paper format – invention title, abstract, claim, description.\n",
    "\n",
    "2. Transcripts of Earnings Conference Calls (2002-19)\n",
    "\n",
    "   - Discussions of 300k+ quarterly earnings by 12k publicly listed firms.\n",
    "   - Typically contains management presentation followed by analyst Q & A.\n",
    "\n",
    "3. Full text of 200 M+ online job postings from BG (2007, 2010-19).\n",
    "\n",
    "   - Scraped from job forums (e.g., Glassdoor.com) and employer websites.\n",
    "   - Geo-coded and assigned to SOC Codes\n"
   ]
  },
  {
   "cell_type": "markdown",
   "id": "795245a8",
   "metadata": {
    "slideshow": {
     "slide_type": "slide"
    },
    "tags": []
   },
   "source": [
    "**Step 1: Identify Technical Bigrams from Patents**\n",
    "\n",
    "Identify two-word combinations (bigrams) that are indicative of discussion of novel technologies.\n",
    "\n",
    "1. Extract all (17 mil+) bigrams US patents (1976-2016)\n",
    "\n",
    "2. Remove any bigrams that were commonly in use prior to 1970 (Corpus of Historical American English)\n",
    "\n",
    "3. Keep bigrams which account for at least 1000 citations.\n",
    "\n",
    "> List of 35,063 ‘technical bigrams’ associated with influential inventions.\n"
   ]
  },
  {
   "cell_type": "markdown",
   "id": "66c82ea5",
   "metadata": {
    "slideshow": {
     "slide_type": "slide"
    },
    "tags": []
   },
   "source": [
    "**Top Bigrams in Patents**\n",
    "\n",
    "![h:500px](../figs/intro_nlp/research/17.png)\n"
   ]
  },
  {
   "cell_type": "markdown",
   "id": "01657ede",
   "metadata": {
    "slideshow": {
     "slide_type": "slide"
    },
    "tags": []
   },
   "source": [
    "**Step 2: Identify Disruptive Technologies from Earnings Calls**\n",
    "\n",
    "Identify technical bigrams that are discussed in EC with increasing frequency (keep those at <10% of max in first year) – Total 305.\n",
    "\n",
    "![h:500px](../figs/intro_nlp/research/18.png)\n"
   ]
  },
  {
   "cell_type": "markdown",
   "id": "ecd1e761",
   "metadata": {
    "slideshow": {
     "slide_type": "slide"
    },
    "tags": []
   },
   "source": [
    "**Technical vs non-technical bigrams**\n",
    "\n",
    "Non technical bigrams = bigrams in earnings calls and NOT in patents\n",
    "\n",
    "![h:500px](../figs/intro_nlp/research/19.png)\n"
   ]
  },
  {
   "cell_type": "markdown",
   "id": "29da40e9",
   "metadata": {
    "slideshow": {
     "slide_type": "slide"
    },
    "tags": []
   },
   "source": [
    "**Step 3: Bigrams to Technologies**\n",
    "\n",
    "Two alternative approaches\n",
    "\n",
    "- `“Supervised”`: Group bigrams with similar meaning to measure the spread of 29 specific technologies, add `synonyms’ and manually audit each bigram. (Main specification)\n",
    "\n",
    "  - Smart Devices - mobile devices; smartphone tablet; android phones; smart phones …\n",
    "  - 3d printing - 3d printer; 3d printing; additive manufacturing; d printed\n",
    "\n",
    "- `“Unsupervised”`: Treat each tech bigram as a separate technology without any further intervention. (Robustness check)\n"
   ]
  },
  {
   "cell_type": "markdown",
   "id": "52077678",
   "metadata": {
    "slideshow": {
     "slide_type": "slide"
    },
    "tags": []
   },
   "source": [
    "**Technology Exposure**\n",
    "\n",
    "Measure technology exposure at the patent, earnings call, and job level as\n",
    "\n",
    "$ \\text{exposure}_{i,\\tau,t} = 1\\{b_{t} \\in D_{i,t}\\} $\n",
    "\n",
    "where $D_{i,t}$ is the set of bigrams contained in a job posting/earnings call posted at time $t$ and $b_{\\tau}$ is a bigram associated with technology $\\tau$.\n"
   ]
  },
  {
   "cell_type": "markdown",
   "id": "56351f49",
   "metadata": {
    "slideshow": {
     "slide_type": "slide"
    },
    "tags": []
   },
   "source": [
    "**Example Jobs Exposed to Smart Devices**\n",
    "\n",
    "![h:500px](../figs/intro_nlp/research/21.png)\n",
    "\n",
    "- On average, each technical bigram appears in 59,013 job postings. Compare to 157 average mentions of top non-technical bigrams from earnings calls.\n"
   ]
  },
  {
   "cell_type": "markdown",
   "id": "614c4440",
   "metadata": {
    "slideshow": {
     "slide_type": "slide"
    },
    "tags": []
   },
   "source": [
    "**Define an Emergence Year for each Technology**\n",
    "\n",
    "1. Measure the share of earnings calls mentioning a technology\n",
    "\n",
    "2. Define a “technology year of emergence” as year in earnings calls when `the time series first attains at least 10% of its maximum`.\n",
    "\n",
    "![h:500px](../figs/intro_nlp/research/22.png)\n"
   ]
  },
  {
   "cell_type": "markdown",
   "id": "e07944db",
   "metadata": {
    "slideshow": {
     "slide_type": "slide"
    },
    "tags": []
   },
   "source": [
    "**Share Exposed Firms and Job Postings – Corr. 80%**\n",
    "\n",
    "![h:500px](../figs/intro_nlp/research/23.png)\n"
   ]
  },
  {
   "cell_type": "markdown",
   "id": "e152f9b6",
   "metadata": {
    "slideshow": {
     "slide_type": "slide"
    },
    "tags": []
   },
   "source": [
    "**Pioneer Locations**\n",
    "\n",
    "Define pioneer locations as ones which account for 50% of technology patents 10 years before emergence year.\n",
    "\n",
    "![h:500px](../figs/intro_nlp/research/24.png)\n"
   ]
  },
  {
   "cell_type": "markdown",
   "id": "4510f622",
   "metadata": {
    "slideshow": {
     "slide_type": "slide"
    },
    "tags": []
   },
   "source": [
    "**Broadening over Time and Pioneer Locations**\n",
    "\n",
    "![h:500px](../figs/intro_nlp/research/25.png)\n"
   ]
  },
  {
   "cell_type": "markdown",
   "id": "c9c8b411",
   "metadata": {
    "slideshow": {
     "slide_type": "slide"
    },
    "tags": []
   },
   "source": [
    "## Parts of Speech Predict Loan Repayment\n",
    "\n",
    "_Netzer, Lemaire, and Herzenstein (2019), “When Words Sweat”_\n",
    "\n",
    "Imagine you consider lending $2,000 to one of two borrowers on a crowdfunding website. The borrowers are identical in terms of demographic and financial characteristics. However, the text they provided when applying for a loan differs:\n",
    "\n",
    "```\n",
    "Borrower #1:\n",
    "\n",
    "“I am a hard working person, married for 25 years, and have two wonderful boys.\n",
    "Please let me explain why I need help.\n",
    "I would use the $2,000 loan to fix our roof.\n",
    "Thank you, god bless you, and I promise to pay you back.”\n",
    "\n",
    "Borrower #2:\n",
    "\n",
    "“While the past year in our new place has been more than great,\n",
    "the roof is now leaking and I need to borrow $2,000 to cover the cost of the repair.\n",
    "I pay all bills (e.g., car loans, cable, utilities) on time.”\n",
    "```\n"
   ]
  },
  {
   "cell_type": "markdown",
   "id": "1f616d3a",
   "metadata": {
    "slideshow": {
     "slide_type": "slide"
    },
    "tags": []
   },
   "source": [
    "Which borrower is more likely to default?\n",
    "\n",
    "“Loan requests written by defaulting borrowers are more likely to include words (or themes) related to the borrower’s family, financial and general hardship, mentions of god, and the near future, as well as pleading lenders for help, and using verbs in present and future tenses.”\n"
   ]
  },
  {
   "cell_type": "markdown",
   "id": "555cae7f",
   "metadata": {
    "slideshow": {
     "slide_type": "slide"
    },
    "tags": []
   },
   "source": [
    "**Loan Application Words Predicting Repayment**\n",
    "\n",
    "![h:500px](../figs/intro_nlp/research/26.png)\n",
    "\n"
   ]
  },
  {
   "cell_type": "markdown",
   "id": "5f1c56a3",
   "metadata": {
    "slideshow": {
     "slide_type": "slide"
    },
    "tags": []
   },
   "source": [
    "![h:500px](../figs/intro_nlp/research/27.png)\n"
   ]
  },
  {
   "cell_type": "markdown",
   "id": "5d484086",
   "metadata": {
    "slideshow": {
     "slide_type": "slide"
    },
    "tags": []
   },
   "source": [
    "## “Legislative Influence Detectors”\n",
    "by Burgess et al\n",
    "\n",
    "The two largest interest group associations: ALEC (on the conservative side) and ALICE (on the liberal side)\n",
    "\n",
    "![h:500px](../figs/intro_nlp/research/28.png)\n"
   ]
  },
  {
   "cell_type": "markdown",
   "id": "301fe005",
   "metadata": {
    "slideshow": {
     "slide_type": "slide"
    },
    "tags": []
   },
   "source": [
    "![h:500px](../figs/intro_nlp/research/29.png)"
   ]
  },
  {
   "cell_type": "markdown",
   "id": "6fd3342d",
   "metadata": {
    "slideshow": {
     "slide_type": "slide"
    },
    "tags": []
   },
   "source": [
    "**Compare bill texts across states in two-step process:**\n",
    "\n",
    "- find candidates using elasticsearch (tf-idf similarlity);\n",
    "\n",
    "- compare candidates using text reuse score.\n"
   ]
  },
  {
   "cell_type": "markdown",
   "id": "a4f3f9e4",
   "metadata": {
    "slideshow": {
     "slide_type": "slide"
    },
    "tags": []
   },
   "source": [
    "## From Pork to Policy\n",
    "\n",
    "![h:500px](../figs/intro_nlp/research/30.jpeg)\n"
   ]
  },
  {
   "cell_type": "markdown",
   "id": "8007cad7",
   "metadata": {
    "slideshow": {
     "slide_type": "slide"
    },
    "tags": []
   },
   "source": [
    "![h:500px](../figs/intro_nlp/research/31.png)"
   ]
  },
  {
   "cell_type": "markdown",
   "id": "bebab320",
   "metadata": {
    "slideshow": {
     "slide_type": "slide"
    },
    "tags": []
   },
   "source": [
    "## Topic modeling Federal Reserve Bank transcripts\n",
    "\n",
    "- Analyze speech transcripts from FOMC (Federal Open Market Committee).\n",
    "  - private discussions among committee members at Federal Reserve (U.S. Central Bank)\n",
    "  - 150 meetings, 20 years, 26,000 speeches, 24,000 unique words.\n",
    "- Pre-processing:\n",
    "  - drop stopwords, stems; vocab = 10,000 words\n",
    "- LDA:\n",
    "  - K = 40 topics selected for interpretability / topic coherence.\n",
    "\n"
   ]
  },
  {
   "cell_type": "markdown",
   "id": "62d9f236",
   "metadata": {
    "slideshow": {
     "slide_type": "slide"
    },
    "tags": []
   },
   "source": [
    "![h:500px](../figs/intro_nlp/research/32.png)"
   ]
  },
  {
   "cell_type": "markdown",
   "id": "690f5dab",
   "metadata": {
    "slideshow": {
     "slide_type": "slide"
    },
    "tags": []
   },
   "source": [
    "**Pro-Cyclical Topics**\n",
    "\n",
    "![h:500px](../figs/intro_nlp/research/33.png)"
   ]
  },
  {
   "cell_type": "markdown",
   "id": "0439e660",
   "metadata": {
    "slideshow": {
     "slide_type": "slide"
    },
    "tags": []
   },
   "source": [
    "**Counter-Cyclical Topics**\n",
    "\n",
    "![h:500px](../figs/intro_nlp/research/34.png)"
   ]
  },
  {
   "cell_type": "markdown",
   "id": "8b04a848",
   "metadata": {
    "slideshow": {
     "slide_type": "slide"
    },
    "tags": []
   },
   "source": [
    "**Effect of Transparency**\n",
    "\n",
    "![h:500px](../figs/intro_nlp/research/35.png)"
   ]
  },
  {
   "cell_type": "markdown",
   "id": "f77cb65f",
   "metadata": {
    "slideshow": {
     "slide_type": "slide"
    },
    "tags": []
   },
   "source": [
    "\n",
    "- In 1993, there was an unexpected transparency shock where transcripts became public.\n",
    "- Increasing transparency results in:\n",
    "  - higher discipline / technocratic language (probably beneﬁcial)\n",
    "  - higher conformity (probably costly)\n",
    "- Highlights tradeoffs from transparency in bureaucratic organizations.\n"
   ]
  },
  {
   "cell_type": "markdown",
   "id": "2cda0ac2",
   "metadata": {
    "slideshow": {
     "slide_type": "slide"
    },
    "tags": []
   },
   "source": [
    "## Text matching for causal inference \n",
    "\n",
    "Application to online censorship in China by Roberts, Stewart, and Nielsen (2018)\n",
    "\n",
    "- Construct a corpus of chinese social media posts, some of which are censored.\n",
    "\n",
    "  - 593 bloggers, 150,000 posts, 6 months\n",
    "\n",
    "- They use a variation of propensity score matching to identify almost identical posts, some of which were censored, and some of which were not.\n",
    "\n",
    "- Outcome:\n",
    "  - Using text of subsequent posts, measure how likely they are to be censored (how censorable)\n",
    "  - Can see whether censorship has a deterrence or backlash eﬀect.\n"
   ]
  },
  {
   "cell_type": "markdown",
   "id": "bbb3c1ba",
   "metadata": {
    "slideshow": {
     "slide_type": "slide"
    },
    "tags": []
   },
   "source": [
    "**Censorship has a backlash eﬀect**\n",
    "\n",
    "![h:500px](../figs/intro_nlp/research/36.png)\n",
    "\n",
    "- Bloggers who are censored respond with more censorable content.\n"
   ]
  }
 ],
 "metadata": {
  "kernelspec": {
   "display_name": "Python 3 (ipykernel)",
   "language": "python",
   "name": "python3"
  },
  "language_info": {
   "codemirror_mode": {
    "name": "ipython",
    "version": 3
   },
   "file_extension": ".py",
   "mimetype": "text/x-python",
   "name": "python",
   "nbconvert_exporter": "python",
   "pygments_lexer": "ipython3",
   "version": "3.8.12"
  },
  "vscode": {
   "interpreter": {
    "hash": "d4d1e4263499bec80672ea0156c357c1ee493ec2b1c70f0acce89fc37c4a6abe"
   }
  },
  "widgets": {
   "application/vnd.jupyter.widget-state+json": {
    "state": {},
    "version_major": 2,
    "version_minor": 0
   }
  }
 },
 "nbformat": 4,
 "nbformat_minor": 5
}
