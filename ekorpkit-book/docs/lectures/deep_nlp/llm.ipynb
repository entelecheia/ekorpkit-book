{
 "cells": [
  {
   "cell_type": "markdown",
   "id": "cfdc61fb",
   "metadata": {},
   "source": [
    "# Large Language Models"
   ]
  },
  {
   "cell_type": "markdown",
   "id": "66d50cc3",
   "metadata": {},
   "source": [
    "## References\n",
    "\n",
    "- [The rise of decoder-only Transformer models](https://analyticsindiamag.com/the-rise-of-decoder-only-transformer-models/)\n",
    "- [The Large Language Model Landscape](https://medium.com/@cobusgreyling/the-large-language-model-landscape-9da7ee17710b)\n",
    "- [Transformers in Action: Attention Is All You Need](https://towardsdatascience.com/transformers-in-action-attention-is-all-you-need-ac10338a023a)"
   ]
  },
  {
   "cell_type": "markdown",
   "id": "70171c70",
   "metadata": {},
   "source": []
  }
 ],
 "metadata": {
  "kernelspec": {
   "display_name": "Python 3.8.5 ('base')",
   "language": "python",
   "name": "python3"
  },
  "language_info": {
   "name": "python",
   "version": "3.8.5"
  },
  "vscode": {
   "interpreter": {
    "hash": "d4d1e4263499bec80672ea0156c357c1ee493ec2b1c70f0acce89fc37c4a6abe"
   }
  }
 },
 "nbformat": 4,
 "nbformat_minor": 5
}
