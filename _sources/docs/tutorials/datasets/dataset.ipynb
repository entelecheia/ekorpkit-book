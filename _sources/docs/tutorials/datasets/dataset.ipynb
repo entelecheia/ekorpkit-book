{
 "cells": [
  {
   "cell_type": "markdown",
   "metadata": {
    "id": "cjgz1WTcPWee"
   },
   "source": [
    "# Datasets"
   ]
  },
  {
   "cell_type": "code",
   "execution_count": 6,
   "metadata": {
    "id": "BzxPwsOVPWef"
   },
   "outputs": [
    {
     "name": "stdout",
     "output_type": "stream",
     "text": [
      "0.1.30+5.g26259e0.dirty\n"
     ]
    }
   ],
   "source": [
    "from ekorpkit import eKonf\n",
    "print(eKonf.__version__)"
   ]
  },
  {
   "cell_type": "code",
   "execution_count": 9,
   "metadata": {},
   "outputs": [
    {
     "data": {
      "text/plain": [
       "{'name': 'financial_phrasebank',\n",
       " 'domain': 'econ',\n",
       " 'task': 'classification',\n",
       " 'lang': 'en',\n",
       " 'column_info': {'keys': {'id': 'id', 'text': 'text'},\n",
       "  'data': {'id': 'int', 'labels': 'str', 'text': 'str'}},\n",
       " 'splits': {'train': {'name': 'train',\n",
       "   'dataset_name': 'financial_phrasebank',\n",
       "   'data_file': 'financial_phrasebank-train.csv',\n",
       "   'num_examples': 1445,\n",
       "   'num_bytes': 176485,\n",
       "   'num_bytes_median': 112.0,\n",
       "   'num_bytes_max': 315,\n",
       "   'num_bytes_min': 15,\n",
       "   'human_bytes': '172.35 KiB'},\n",
       "  'test': {'name': 'test',\n",
       "   'dataset_name': 'financial_phrasebank',\n",
       "   'data_file': 'financial_phrasebank-test.csv',\n",
       "   'num_examples': 452,\n",
       "   'num_bytes': 55518,\n",
       "   'num_bytes_median': 110.0,\n",
       "   'num_bytes_max': 296,\n",
       "   'num_bytes_min': 11,\n",
       "   'human_bytes': '54.22 KiB'},\n",
       "  'dev': {'name': 'dev',\n",
       "   'dataset_name': 'financial_phrasebank',\n",
       "   'data_file': 'financial_phrasebank-dev.csv',\n",
       "   'num_examples': 362,\n",
       "   'num_bytes': 43404,\n",
       "   'num_bytes_median': 109.0,\n",
       "   'num_bytes_max': 296,\n",
       "   'num_bytes_min': 9,\n",
       "   'human_bytes': '42.39 KiB'}},\n",
       " 'num_examples': 2259,\n",
       " 'size_in_bytes': 275407,\n",
       " 'size_in_human_bytes': '268.95 KiB',\n",
       " 'data_files': {'train': 'financial_phrasebank-train.csv',\n",
       "  'test': 'financial_phrasebank-test.csv',\n",
       "  'dev': 'financial_phrasebank-dev.csv'},\n",
       " 'meta_files': {},\n",
       " 'data_files_modified': '2022-04-22 03:18:20',\n",
       " 'info_updated': '2022-04-22 03:18:20'}"
      ]
     },
     "execution_count": 9,
     "metadata": {},
     "output_type": "execute_result"
    }
   ],
   "source": [
    "from ekorpkit import eKonf\n",
    "\n",
    "ds_cfg = eKonf.compose(config_group='dataset')\n",
    "ds_cfg.name = 'financial_phrasebank'\n",
    "ds_cfg.data_dir = \"${cached_path:'https://github.com/entelecheia/ekorpkit-config/raw/main/data/financial_phrasebank.zip',true,false}\"\n",
    "ds_cfg.use_name_as_subdir = True\n",
    "ds = eKonf.instantiate(ds_cfg)\n",
    "ds.info"
   ]
  },
  {
   "cell_type": "code",
   "execution_count": 10,
   "metadata": {},
   "outputs": [
    {
     "name": "stdout",
     "output_type": "stream",
     "text": [
      "ColumnInfo : {'keys': {'id': 'id', 'text': 'text', 'timestamp': 'timestamp', 'split': 'split'}, 'columns': {'id': ['id', 'split'], 'text': ['text'], 'merge_meta_on': None, 'timestamp': None}, 'data': {'id': 'int', 'text': 'str', 'labels': 'str', 'split': 'str'}, 'meta': None, 'timestamp': {'key': None, 'format': None, 'params': None}, 'datetime': {'key': None, 'format': None, 'params': None}, 'segment_separator': '\\\\n\\\\n'}\n"
     ]
    }
   ],
   "source": [
    "print(ds.COLUMN)"
   ]
  },
  {
   "cell_type": "code",
   "execution_count": 11,
   "metadata": {},
   "outputs": [
    {
     "data": {
      "text/plain": [
       "{'train':         id    labels                                               text  split\n",
       " 0      655   neutral  Customers in a wide range of industries use ou...  train\n",
       " 1      634   neutral  The writing and publication of Lemmink+ñinen -...  train\n",
       " 2     1030   neutral  Sullivan said some of the boards `` really inv...  train\n",
       " 3      317  positive  The six breweries recorded a 5.2 percent growt...  train\n",
       " 4      868  positive  In the second quarter of 2010 , the company 's...  train\n",
       " ...    ...       ...                                                ...    ...\n",
       " 1440   136  positive  In the fourth quarter of 2009 , Orion 's net p...  train\n",
       " 1441  2170  negative  Profit for the period totalled EUR 1.1 mn , do...  train\n",
       " 1442   344  positive  The diluted loss per share narrowed to EUR 0.2...  train\n",
       " 1443   573   neutral  LKAB , headquartered in Lulea , Sweden , is a ...  train\n",
       " 1444  1768   neutral  The EBRD is using its own funds to provide a 2...  train\n",
       " \n",
       " [1445 rows x 4 columns],\n",
       " 'test':        id    labels                                               text split\n",
       " 0     505   neutral  Los Angeles-based Pacific Office Properties Tr...  test\n",
       " 1     783  positive  Investors will continue being interested in th...  test\n",
       " 2    2253  negative  Repeats sees 2008 operating profit down y-y ( ...  test\n",
       " 3    1374   neutral  The acquisition was financed with $ 2.56 billi...  test\n",
       " 4     243  positive  Profit per share was EUR 1.03 , up from EUR 0....  test\n",
       " ..    ...       ...                                                ...   ...\n",
       " 447   605   neutral  The commission said the hydrogen peroxide and ...  test\n",
       " 448  2258  negative  Sales in Finland decreased by 2.0 % , and inte...  test\n",
       " 449   254  positive  The earnings per share for the quarter came in...  test\n",
       " 450  1390   neutral  The company can not give up palm oil altogethe...  test\n",
       " 451   181  positive  Pretax profit rose to EUR 1,019 mn from EUR 1,...  test\n",
       " \n",
       " [452 rows x 4 columns],\n",
       " 'dev':        id    labels                                               text split\n",
       " 0    1449   neutral       The identity of the buyer is not yet known .   dev\n",
       " 1     165  positive  Operating profit rose to EUR 3.2 mn from EUR 1...   dev\n",
       " 2    1334   neutral  Previously , Grimaldi held a 46.43 pct stake i...   dev\n",
       " 3     907   neutral  A total of $ 78 million will be invested in th...   dev\n",
       " 4    1371   neutral  The 19,200-square metre technology center is l...   dev\n",
       " ..    ...       ...                                                ...   ...\n",
       " 357  1120   neutral  Under a preliminary estimation , the technolog...   dev\n",
       " 358   404  positive  Operating profit improved by 27 % to EUR 579.8...   dev\n",
       " 359  1708   neutral  Rohwedder Group is an automotive supplies , te...   dev\n",
       " 360   225  positive  In January-September 2007 , the group 's net s...   dev\n",
       " 361  1008   neutral  Payment of shares shall be effected on subscri...   dev\n",
       " \n",
       " [362 rows x 4 columns]}"
      ]
     },
     "execution_count": 11,
     "metadata": {},
     "output_type": "execute_result"
    }
   ],
   "source": [
    "ds.splits"
   ]
  },
  {
   "cell_type": "markdown",
   "metadata": {
    "id": "it1Y0MVPXRsJ"
   },
   "source": [
    "## Build a dataset with the ekorpkit configs"
   ]
  },
  {
   "cell_type": "code",
   "execution_count": 9,
   "metadata": {
    "colab": {
     "base_uri": "https://localhost:8080/",
     "height": 1000,
     "referenced_widgets": [
      "883862d4a2ef4661a5243821e3fc7e7f",
      "3f3eb5f289dc4dd79696e948813015a2",
      "eab17f982697403b96a750092972279d",
      "c2da3837568a4f50987f0d16fbe6d3ba",
      "2b75bf52886c43d481cebc041da85e06",
      "2b052b7d80be4055884ff04a89119f57",
      "439251714f2343a4a0160e1687ca5505",
      "a02343d8d7234cca89e4fa7e2468cde2",
      "25b706f197cc4f398f6e93958af941e7",
      "0c24745b30bb4769b239cdc88cf61699",
      "0a58f214f94b40c88ebf9eac65d44b13",
      "5b3583dced8f4a69a73261fb69472b67",
      "c0754b36891e4ebabede6d511bc1f6f4",
      "e521f82ffb4447e98d6b1df8093cc2b4",
      "82f144b6faa346d290b4d81162dbfc69",
      "853be4d34b2e4f04934360489ff19ab9",
      "7ee79e4c5f17432db9b849842b839ba8",
      "c34c811d8a4a40b29ec08b52cdbb2903",
      "e8156a81d6484e80acd7a89d6abad582",
      "72f26dc301e3462593beb98110c2eb84",
      "5be43c170816475184e568e61c108a9e",
      "a8150cd5c44e4e7aaaec253ce8597337",
      "4b2a305a168649eb905d851ffbb6b829",
      "3af080894f0b41b7873e5b291caeda44",
      "4aef418296c049339ae0c2442a16ebfe",
      "eeb82365750743728187c3b5c5e3040c",
      "086e8a7f0c39406bada1f59f8777ef15",
      "511d0ee308d346a2a442e943fe4dce41",
      "91be68d8c02b4d9996155856de872f84",
      "da4460d1e4b144b2a310d029327c7894",
      "eda93e8f13f64a42b3bc4c8723113f61",
      "d74f467059f44062aa6edf5cbdedba82",
      "3411c4eae52e40ac96aa580335e5382f",
      "ab9db57f5b5d45dc9e7890437420b3b1",
      "26bdbab498fa4bf1bf6412296ea8574f",
      "0c6ae522e11c426e88546462d8b9eb62",
      "70bb62dacde1425986c9bed313ae31c6",
      "dee205a463514767bacd748ccd6b4932",
      "d8a38915ca874382b1c9c9c11858d653",
      "9b196b2f76cb4d92a66a7d0e98c44bcd",
      "fdbc9abf2fcc4fe8bea49e0b2566ceff",
      "192ec1a18ddf45e1a545049e1c261bed",
      "0bee177f590040bf9c26811aeb192f4b",
      "283fa5a46bee4689a8f1b9940e01d925",
      "48349b534e08425dbcf8d68063a8f862",
      "7f434a0e7bbb475dbfd44137fb01f08a",
      "448423fca9884abc92b1ec92fb147d37",
      "812c4daa46e840d5b4b8e89217702c9c",
      "b86f6b4af5a240968e33ddc2ec09d9a4",
      "84f5e227df904f32b2415967314e5285",
      "1d2b3c5ef9204ffc9b5743d835f6de20",
      "846533fb1a5d4d2bb304869d80503109",
      "1df444cf8eed49c4bcecf66cf3749ee9",
      "c92efebbb54b4685a55cc4bcb1602112",
      "cf7daa35d07e4a5b9c9d1cc85b647d0e",
      "70121bfc030d4d6fb5ad91559c731336",
      "58f2b0cb021648b5a693f5dfafe5566f",
      "46b8db59bffe4666b702412bdd59924a",
      "cbddbb06d67246278592f9d2bf964a68",
      "609b4461e98241088dfaec87ab9d8425",
      "5a2e4366d39a41d29661854f74f1894a",
      "c81fe9b7f2aa437e976a34b97f7c3bd1",
      "7bee836d6b8f4b0c9ba8f2a7887293b3",
      "225de94ebb1e4529b9884480b8352a01",
      "b7c6875183db45c4b5800f4679036e10",
      "a21f58c4f1434dfba3b864e00e8f281e",
      "5e40faeefcd345758f541679bb929854",
      "9948313f4f5046a9b02a541fe8067723",
      "fe1d5fae301e4233bafff9f6f4bd3c8c",
      "55684cbc918644b3bb7da1f27dbd2a73",
      "39e0a18bb70542c4a4b9a3f8849ed3f5",
      "30fe934c714346dcbbcd8d448870cc56",
      "e5a1c687690d4f1a96ddf13dfc4f0609",
      "d7e9eaa90f394a348da47b9ad8ec7576",
      "00b572f571994a4a95973157a5f105b1",
      "4173f4b9372e4d2d8dfe1fc4a20a3234",
      "ae971f83dc164506be41cfcd0c4b38a2"
     ]
    },
    "id": "efZ77OvmPWeh",
    "outputId": "e28fd775-6159-4d36-b572-5c7aaa5288a3"
   },
   "outputs": [
    {
     "data": {
      "application/vnd.jupyter.widget-view+json": {
       "model_id": "7fcd14436ba841999c14bb7eb799851e",
       "version_major": 2,
       "version_minor": 0
      },
      "text/plain": [
       "apply len_bytes to num_bytes:   0%|          | 0/1445 [00:00<?, ?it/s]"
      ]
     },
     "metadata": {},
     "output_type": "display_data"
    },
    {
     "data": {
      "application/vnd.jupyter.widget-view+json": {
       "model_id": "516069fcb4ea4c7ab9c9af0457747ecd",
       "version_major": 2,
       "version_minor": 0
      },
      "text/plain": [
       "apply len_bytes to num_bytes:   0%|          | 0/452 [00:00<?, ?it/s]"
      ]
     },
     "metadata": {},
     "output_type": "display_data"
    },
    {
     "data": {
      "application/vnd.jupyter.widget-view+json": {
       "model_id": "496182b28c8b461cb0d93611463ff1dd",
       "version_major": 2,
       "version_minor": 0
      },
      "text/plain": [
       "apply len_bytes to num_bytes:   0%|          | 0/362 [00:00<?, ?it/s]"
      ]
     },
     "metadata": {},
     "output_type": "display_data"
    },
    {
     "data": {
      "application/vnd.jupyter.widget-view+json": {
       "model_id": "0ea60d06fc6d407babddca5aa784ca95",
       "version_major": 2,
       "version_minor": 0
      },
      "text/plain": [
       "apply len_bytes to num_bytes:   0%|          | 0/1445 [00:00<?, ?it/s]"
      ]
     },
     "metadata": {},
     "output_type": "display_data"
    },
    {
     "data": {
      "application/vnd.jupyter.widget-view+json": {
       "model_id": "2d796e69da95476785bb5ba9cb73edf2",
       "version_major": 2,
       "version_minor": 0
      },
      "text/plain": [
       "apply len_bytes to num_bytes:   0%|          | 0/452 [00:00<?, ?it/s]"
      ]
     },
     "metadata": {},
     "output_type": "display_data"
    },
    {
     "data": {
      "application/vnd.jupyter.widget-view+json": {
       "model_id": "588fd94d15e64583b785e09a697a7b62",
       "version_major": 2,
       "version_minor": 0
      },
      "text/plain": [
       "apply len_bytes to num_bytes:   0%|          | 0/362 [00:00<?, ?it/s]"
      ]
     },
     "metadata": {},
     "output_type": "display_data"
    }
   ],
   "source": [
    "cfg = eKonf.compose(config_group='dataset/simple=financial_phrasebank')\n",
    "cfg.data_dir = './data/financial_phrasebank'\n",
    "cfg.fetch.data_dir = cfg.data_dir\n",
    "cfg.fetch.overwrite = True\n",
    "cfg.fetch.calculate_stats = True\n",
    "db = eKonf.instantiate(cfg)\n",
    "db.build()"
   ]
  },
  {
   "cell_type": "code",
   "execution_count": 10,
   "metadata": {},
   "outputs": [
    {
     "name": "stderr",
     "output_type": "stream",
     "text": [
      "Using custom data configuration default\n",
      "Reusing dataset nsmc (/root/.cache/huggingface/datasets/nsmc/default/1.1.0/bfd4729bf1a67114e5267e6916b9e4807010aeb238e4a3c2b95fbfa3a014b5f3)\n"
     ]
    },
    {
     "name": "stdout",
     "output_type": "stream",
     "text": [
      "Dataset({\n",
      "    features: ['id', 'document', 'label'],\n",
      "    num_rows: 150000\n",
      "})\n"
     ]
    },
    {
     "data": {
      "application/vnd.jupyter.widget-view+json": {
       "model_id": "0ba1dc69559140aea8927a805a6a842d",
       "version_major": 2,
       "version_minor": 0
      },
      "text/plain": [
       "apply len_bytes to num_bytes:   0%|          | 0/150000 [00:00<?, ?it/s]"
      ]
     },
     "metadata": {},
     "output_type": "display_data"
    },
    {
     "name": "stderr",
     "output_type": "stream",
     "text": [
      "Using custom data configuration default\n",
      "Reusing dataset nsmc (/root/.cache/huggingface/datasets/nsmc/default/1.1.0/bfd4729bf1a67114e5267e6916b9e4807010aeb238e4a3c2b95fbfa3a014b5f3)\n"
     ]
    },
    {
     "name": "stdout",
     "output_type": "stream",
     "text": [
      "Dataset({\n",
      "    features: ['id', 'document', 'label'],\n",
      "    num_rows: 50000\n",
      "})\n"
     ]
    },
    {
     "data": {
      "application/vnd.jupyter.widget-view+json": {
       "model_id": "a046a6885fec42b3bb027111a0dfc3c7",
       "version_major": 2,
       "version_minor": 0
      },
      "text/plain": [
       "apply len_bytes to num_bytes:   0%|          | 0/50000 [00:00<?, ?it/s]"
      ]
     },
     "metadata": {},
     "output_type": "display_data"
    },
    {
     "name": "stderr",
     "output_type": "stream",
     "text": [
      "Using custom data configuration default\n",
      "Reusing dataset nsmc (/root/.cache/huggingface/datasets/nsmc/default/1.1.0/bfd4729bf1a67114e5267e6916b9e4807010aeb238e4a3c2b95fbfa3a014b5f3)\n"
     ]
    },
    {
     "name": "stdout",
     "output_type": "stream",
     "text": [
      "Dataset({\n",
      "    features: ['id', 'document', 'label'],\n",
      "    num_rows: 150000\n",
      "})\n"
     ]
    },
    {
     "data": {
      "application/vnd.jupyter.widget-view+json": {
       "model_id": "cd95daa8a7d94af6a41cb6fd891f8aa9",
       "version_major": 2,
       "version_minor": 0
      },
      "text/plain": [
       "apply len_bytes to num_bytes:   0%|          | 0/150000 [00:00<?, ?it/s]"
      ]
     },
     "metadata": {},
     "output_type": "display_data"
    },
    {
     "name": "stderr",
     "output_type": "stream",
     "text": [
      "Using custom data configuration default\n",
      "Reusing dataset nsmc (/root/.cache/huggingface/datasets/nsmc/default/1.1.0/bfd4729bf1a67114e5267e6916b9e4807010aeb238e4a3c2b95fbfa3a014b5f3)\n"
     ]
    },
    {
     "name": "stdout",
     "output_type": "stream",
     "text": [
      "Dataset({\n",
      "    features: ['id', 'document', 'label'],\n",
      "    num_rows: 50000\n",
      "})\n"
     ]
    },
    {
     "data": {
      "application/vnd.jupyter.widget-view+json": {
       "model_id": "b61ee3e2e46c4d23b0761f1b3d6a565b",
       "version_major": 2,
       "version_minor": 0
      },
      "text/plain": [
       "apply len_bytes to num_bytes:   0%|          | 0/50000 [00:00<?, ?it/s]"
      ]
     },
     "metadata": {},
     "output_type": "display_data"
    }
   ],
   "source": [
    "cfg = eKonf.compose(config_group='dataset/simple=nsmc')\n",
    "cfg.data_dir = './data/nsmc'\n",
    "cfg.fetch.data_dir = cfg.data_dir\n",
    "cfg.fetch.overwrite = True\n",
    "cfg.fetch.calculate_stats = True\n",
    "db = eKonf.instantiate(cfg)\n",
    "db.build()"
   ]
  },
  {
   "cell_type": "code",
   "execution_count": 11,
   "metadata": {},
   "outputs": [
    {
     "name": "stderr",
     "output_type": "stream",
     "text": [
      "Reusing dataset glue (/root/.cache/huggingface/datasets/glue/sst2/1.0.0/dacbe3125aa31d7f70367a07a8a9e72a5a0bfeb5fc42e75c9db75b96da6053ad)\n"
     ]
    },
    {
     "name": "stdout",
     "output_type": "stream",
     "text": [
      "Dataset({\n",
      "    features: ['sentence', 'label', 'idx'],\n",
      "    num_rows: 67349\n",
      "})\n"
     ]
    },
    {
     "data": {
      "application/vnd.jupyter.widget-view+json": {
       "model_id": "1b28016c053a4d318c6f8a9106ed05cc",
       "version_major": 2,
       "version_minor": 0
      },
      "text/plain": [
       "apply len_bytes to num_bytes:   0%|          | 0/67349 [00:00<?, ?it/s]"
      ]
     },
     "metadata": {},
     "output_type": "display_data"
    },
    {
     "name": "stderr",
     "output_type": "stream",
     "text": [
      "Reusing dataset glue (/root/.cache/huggingface/datasets/glue/sst2/1.0.0/dacbe3125aa31d7f70367a07a8a9e72a5a0bfeb5fc42e75c9db75b96da6053ad)\n"
     ]
    },
    {
     "name": "stdout",
     "output_type": "stream",
     "text": [
      "Dataset({\n",
      "    features: ['sentence', 'label', 'idx'],\n",
      "    num_rows: 1821\n",
      "})\n"
     ]
    },
    {
     "data": {
      "application/vnd.jupyter.widget-view+json": {
       "model_id": "a453d355d26442b0af99bb869eaf1acf",
       "version_major": 2,
       "version_minor": 0
      },
      "text/plain": [
       "apply len_bytes to num_bytes:   0%|          | 0/1821 [00:00<?, ?it/s]"
      ]
     },
     "metadata": {},
     "output_type": "display_data"
    },
    {
     "name": "stderr",
     "output_type": "stream",
     "text": [
      "Reusing dataset glue (/root/.cache/huggingface/datasets/glue/sst2/1.0.0/dacbe3125aa31d7f70367a07a8a9e72a5a0bfeb5fc42e75c9db75b96da6053ad)\n"
     ]
    },
    {
     "name": "stdout",
     "output_type": "stream",
     "text": [
      "Dataset({\n",
      "    features: ['sentence', 'label', 'idx'],\n",
      "    num_rows: 872\n",
      "})\n"
     ]
    },
    {
     "data": {
      "application/vnd.jupyter.widget-view+json": {
       "model_id": "cbaf369d6b6b4748919a2aa1b3ac4894",
       "version_major": 2,
       "version_minor": 0
      },
      "text/plain": [
       "apply len_bytes to num_bytes:   0%|          | 0/872 [00:00<?, ?it/s]"
      ]
     },
     "metadata": {},
     "output_type": "display_data"
    },
    {
     "name": "stderr",
     "output_type": "stream",
     "text": [
      "Reusing dataset glue (/root/.cache/huggingface/datasets/glue/sst2/1.0.0/dacbe3125aa31d7f70367a07a8a9e72a5a0bfeb5fc42e75c9db75b96da6053ad)\n"
     ]
    },
    {
     "name": "stdout",
     "output_type": "stream",
     "text": [
      "Dataset({\n",
      "    features: ['sentence', 'label', 'idx'],\n",
      "    num_rows: 67349\n",
      "})\n"
     ]
    },
    {
     "data": {
      "application/vnd.jupyter.widget-view+json": {
       "model_id": "c272f083f6f4410eb94d2c37b6dcc618",
       "version_major": 2,
       "version_minor": 0
      },
      "text/plain": [
       "apply len_bytes to num_bytes:   0%|          | 0/67349 [00:00<?, ?it/s]"
      ]
     },
     "metadata": {},
     "output_type": "display_data"
    },
    {
     "name": "stderr",
     "output_type": "stream",
     "text": [
      "Reusing dataset glue (/root/.cache/huggingface/datasets/glue/sst2/1.0.0/dacbe3125aa31d7f70367a07a8a9e72a5a0bfeb5fc42e75c9db75b96da6053ad)\n"
     ]
    },
    {
     "name": "stdout",
     "output_type": "stream",
     "text": [
      "Dataset({\n",
      "    features: ['sentence', 'label', 'idx'],\n",
      "    num_rows: 1821\n",
      "})\n"
     ]
    },
    {
     "data": {
      "application/vnd.jupyter.widget-view+json": {
       "model_id": "96c1ee76ff124d35928ebe86d70fabaa",
       "version_major": 2,
       "version_minor": 0
      },
      "text/plain": [
       "apply len_bytes to num_bytes:   0%|          | 0/1821 [00:00<?, ?it/s]"
      ]
     },
     "metadata": {},
     "output_type": "display_data"
    },
    {
     "name": "stderr",
     "output_type": "stream",
     "text": [
      "Reusing dataset glue (/root/.cache/huggingface/datasets/glue/sst2/1.0.0/dacbe3125aa31d7f70367a07a8a9e72a5a0bfeb5fc42e75c9db75b96da6053ad)\n"
     ]
    },
    {
     "name": "stdout",
     "output_type": "stream",
     "text": [
      "Dataset({\n",
      "    features: ['sentence', 'label', 'idx'],\n",
      "    num_rows: 872\n",
      "})\n"
     ]
    },
    {
     "data": {
      "application/vnd.jupyter.widget-view+json": {
       "model_id": "b8eeb7d8169b4f43970845a6d9c14e45",
       "version_major": 2,
       "version_minor": 0
      },
      "text/plain": [
       "apply len_bytes to num_bytes:   0%|          | 0/872 [00:00<?, ?it/s]"
      ]
     },
     "metadata": {},
     "output_type": "display_data"
    }
   ],
   "source": [
    "cfg = eKonf.compose(config_group='dataset/simple=sst2')\n",
    "cfg.data_dir = './data/sst2'\n",
    "cfg.fetch.data_dir = cfg.data_dir\n",
    "cfg.fetch.overwrite = True\n",
    "cfg.fetch.calculate_stats = True\n",
    "db = eKonf.instantiate(cfg)\n",
    "db.build()"
   ]
  },
  {
   "cell_type": "markdown",
   "metadata": {
    "id": "tJpz9ehuPWeh"
   },
   "source": [
    "## Instantiating datasets"
   ]
  },
  {
   "cell_type": "code",
   "execution_count": 1,
   "metadata": {
    "colab": {
     "base_uri": "https://localhost:8080/"
    },
    "id": "iAc66OeiPWei",
    "outputId": "96912de9-2861-47fc-b037-c65ec9f31f2b"
   },
   "outputs": [
    {
     "name": "stdout",
     "output_type": "stream",
     "text": [
      "{'_target_': 'ekorpkit.datasets.loader.Datasets',\n",
      " 'autoload': True,\n",
      " 'autorun': ['load'],\n",
      " 'column_info': {'_target_': 'ekorpkit.info.base.ColumnInfo',\n",
      "                 'columns': {'id': 'id',\n",
      "                             'merge_meta_on': None,\n",
      "                             'text': 'text',\n",
      "                             'timestamp': None},\n",
      "                 'data': {'id': 'int', 'text': 'str'},\n",
      "                 'datetime': {'format': None, 'key': None, 'params': None},\n",
      "                 'keys': {'id': 'id',\n",
      "                          'split': 'split',\n",
      "                          'text': 'text',\n",
      "                          'timestamp': 'timestamp'},\n",
      "                 'meta': None,\n",
      "                 'segment_separator': '\\\\n\\\\n',\n",
      "                 'timestamp': {'format': None, 'key': None, 'params': None}},\n",
      " 'data_dir': '../data',\n",
      " 'datasets': None,\n",
      " 'filetype': 'csv',\n",
      " 'info': {'_target_': 'ekorpkit.info.stat.SummaryInfo',\n",
      "          'aggregate_info': {'num_examples': 'num_examples',\n",
      "                             'size_in_bytes': 'num_bytes'},\n",
      "          'data_dir': '../data',\n",
      "          'info_file': \"info-['financial_phrasebank', 'sst2'].yaml\",\n",
      "          'info_list': ['name',\n",
      "                        'fullname',\n",
      "                        'domain',\n",
      "                        'task',\n",
      "                        'lang',\n",
      "                        'description',\n",
      "                        'license',\n",
      "                        'homepage',\n",
      "                        'version',\n",
      "                        'num_examples',\n",
      "                        'size_in_bytes',\n",
      "                        'size_in_human_bytes',\n",
      "                        'data_files_modified',\n",
      "                        'info_updated',\n",
      "                        'data_files',\n",
      "                        'column_info'],\n",
      "          'key_columns': '',\n",
      "          'modified_info': {'data_files_modified': 'data_file'},\n",
      "          'name': ['financial_phrasebank', 'sst2'],\n",
      "          'stats': {'_partial_': True,\n",
      "                    '_target_': 'ekorpkit.info.stat.summary_stats',\n",
      "                    'agg_funcs': {'num_bytes': ['count',\n",
      "                                                'sum',\n",
      "                                                'median',\n",
      "                                                'max',\n",
      "                                                'min']},\n",
      "                    'convert_to_humanbytes': {'num_bytes': 'human_bytes'},\n",
      "                    'function': {'len_bytes': {'_partial_': True,\n",
      "                                               '_target_': 'ekorpkit.utils.func.len_bytes'}},\n",
      "                    'key_columns': '',\n",
      "                    'num_columns': {'num_bytes': 'len_bytes'},\n",
      "                    'num_workers': 1,\n",
      "                    'rename_columns': {'num_bytes_count': 'num_examples',\n",
      "                                       'num_bytes_sum': 'num_bytes'},\n",
      "                    'text_keys': 'text'},\n",
      "          'update_files_info': {'data_files': 'data_file',\n",
      "                                'meta_files': 'meta_file'},\n",
      "          'update_info': ['fullname',\n",
      "                          'lang',\n",
      "                          'domain',\n",
      "                          'task',\n",
      "                          'description',\n",
      "                          'license',\n",
      "                          'homepage',\n",
      "                          'version'],\n",
      "          'verbose': False},\n",
      " 'name': ['financial_phrasebank', 'sst2'],\n",
      " 'use_name_as_subdir': True,\n",
      " 'verbose': False}\n"
     ]
    }
   ],
   "source": [
    "from ekorpkit import eKonf\n",
    "\n",
    "cfg = eKonf.compose(config_group='dataset=datasets')\n",
    "cfg['name'] = ['financial_phrasebank', 'sst2']\n",
    "cfg['data_dir'] = '../data'\n",
    "eKonf.pprint(cfg)\n",
    "ds = eKonf.instantiate(cfg)"
   ]
  },
  {
   "cell_type": "code",
   "execution_count": 2,
   "metadata": {
    "colab": {
     "base_uri": "https://localhost:8080/"
    },
    "id": "ds2y2-PAPWej",
    "outputId": "ac6d5b18-cad5-4be6-f1ca-c42ec0c0b0fe"
   },
   "outputs": [
    {
     "name": "stdout",
     "output_type": "stream",
     "text": [
      "ColumnInfo : {'keys': {'id': 'id', 'text': 'text', 'timestamp': 'timestamp', 'split': 'split', '_id': '_id', 'corpus': 'corpus', 'dataset': 'dataset'}, 'columns': {'id': 'id', 'text': 'text', 'merge_meta_on': None, 'timestamp': None}, 'data': {'id': 'int', 'text': 'str'}, 'meta': None, 'timestamp': {'key': None, 'format': None, 'params': None}, 'datetime': {'key': None, 'format': None, 'params': None}, 'segment_separator': '\\\\n\\\\n'}\n"
     ]
    }
   ],
   "source": [
    "print(ds.COLUMN)"
   ]
  },
  {
   "cell_type": "code",
   "execution_count": 3,
   "metadata": {},
   "outputs": [
    {
     "name": "stderr",
     "output_type": "stream",
     "text": [
      "datasets not concatenated yet, calling concatenate()\n"
     ]
    },
    {
     "data": {
      "application/vnd.jupyter.widget-view+json": {
       "model_id": "47f4ca331c24409f8cf5afd551696e64",
       "version_major": 2,
       "version_minor": 0
      },
      "text/plain": [
       "apply len_bytes to num_bytes:   0%|          | 0/68794 [00:00<?, ?it/s]"
      ]
     },
     "metadata": {},
     "output_type": "display_data"
    },
    {
     "data": {
      "application/vnd.jupyter.widget-view+json": {
       "model_id": "8698281e6f19498b9ad28243756af00d",
       "version_major": 2,
       "version_minor": 0
      },
      "text/plain": [
       "apply len_bytes to num_bytes:   0%|          | 0/2273 [00:00<?, ?it/s]"
      ]
     },
     "metadata": {},
     "output_type": "display_data"
    },
    {
     "data": {
      "application/vnd.jupyter.widget-view+json": {
       "model_id": "d74dd5ea042a48989fd16179f0729131",
       "version_major": 2,
       "version_minor": 0
      },
      "text/plain": [
       "apply len_bytes to num_bytes:   0%|          | 0/1234 [00:00<?, ?it/s]"
      ]
     },
     "metadata": {},
     "output_type": "display_data"
    }
   ],
   "source": [
    "ds.persist()"
   ]
  },
  {
   "cell_type": "code",
   "execution_count": 4,
   "metadata": {
    "id": "lGPnTMPpX4LB"
   },
   "outputs": [],
   "source": [
    "ds.concat_datasets()"
   ]
  },
  {
   "cell_type": "code",
   "execution_count": 5,
   "metadata": {},
   "outputs": [
    {
     "name": "stdout",
     "output_type": "stream",
     "text": [
      "ColumnInfo : {'keys': {'id': 'id', 'text': 'text', 'timestamp': 'timestamp', 'split': 'split', '_id': '_id', 'corpus': 'corpus', 'dataset': 'dataset'}, 'columns': {'id': 'id', 'text': 'text', 'merge_meta_on': None, 'timestamp': None}, 'data': {'text': 'object', 'split': 'object', 'id': 'int64', 'labels': 'object', 'dataset': 'str'}, 'meta': None, 'timestamp': {'key': None, 'format': None, 'params': None}, 'datetime': {'key': None, 'format': None, 'params': None}, 'segment_separator': '\\\\n\\\\n'}\n"
     ]
    }
   ],
   "source": [
    "print(ds.COLUMN)"
   ]
  },
  {
   "cell_type": "code",
   "execution_count": 6,
   "metadata": {},
   "outputs": [
    {
     "data": {
      "text/plain": [
       "'financial_phrasebank-sst2'"
      ]
     },
     "execution_count": 6,
     "metadata": {},
     "output_type": "execute_result"
    }
   ],
   "source": [
    "ds.name"
   ]
  },
  {
   "cell_type": "markdown",
   "metadata": {
    "id": "zpdqyeyPPWek"
   },
   "source": [
    "## Instantiating a dataset"
   ]
  },
  {
   "cell_type": "code",
   "execution_count": 8,
   "metadata": {
    "colab": {
     "base_uri": "https://localhost:8080/"
    },
    "id": "DFsykazvPWel",
    "outputId": "f8ee38e9-59e7-472e-eb98-da032c0c209e"
   },
   "outputs": [],
   "source": [
    "cfg = eKonf.compose(config_group='dataset=dataset')\n",
    "cfg.name = 'financial_phrasebank'\n",
    "cfg.data_dir = '../data'\n",
    "ds = eKonf.instantiate(cfg)"
   ]
  },
  {
   "cell_type": "code",
   "execution_count": 9,
   "metadata": {},
   "outputs": [
    {
     "name": "stdout",
     "output_type": "stream",
     "text": [
      "ColumnInfo : {'keys': {'id': 'id', 'text': 'text', 'timestamp': 'timestamp', 'split': 'split', '_id': '_id', 'corpus': 'corpus', 'dataset': 'dataset'}, 'columns': {'id': 'id', 'text': 'text', 'merge_meta_on': None, 'timestamp': None}, 'data': {'id': 'int', 'text': 'str', 'labels': 'str', 'split': 'str'}, 'meta': None, 'timestamp': {'key': None, 'format': None, 'params': None}, 'datetime': {'key': None, 'format': None, 'params': None}, 'segment_separator': '\\\\n\\\\n'}\n"
     ]
    }
   ],
   "source": [
    "print(ds.COLUMN)"
   ]
  },
  {
   "cell_type": "code",
   "execution_count": 10,
   "metadata": {
    "colab": {
     "base_uri": "https://localhost:8080/",
     "height": 423
    },
    "id": "MHrSWGlq_r2P",
    "outputId": "9a1f4304-0b6b-49ca-c044-1b2c6554078b"
   },
   "outputs": [
    {
     "data": {
      "text/html": [
       "<div>\n",
       "<style scoped>\n",
       "    .dataframe tbody tr th:only-of-type {\n",
       "        vertical-align: middle;\n",
       "    }\n",
       "\n",
       "    .dataframe tbody tr th {\n",
       "        vertical-align: top;\n",
       "    }\n",
       "\n",
       "    .dataframe thead th {\n",
       "        text-align: right;\n",
       "    }\n",
       "</style>\n",
       "<table border=\"1\" class=\"dataframe\">\n",
       "  <thead>\n",
       "    <tr style=\"text-align: right;\">\n",
       "      <th></th>\n",
       "      <th>id</th>\n",
       "      <th>labels</th>\n",
       "      <th>text</th>\n",
       "      <th>split</th>\n",
       "    </tr>\n",
       "  </thead>\n",
       "  <tbody>\n",
       "    <tr>\n",
       "      <th>0</th>\n",
       "      <td>655</td>\n",
       "      <td>neutral</td>\n",
       "      <td>Customers in a wide range of industries use ou...</td>\n",
       "      <td>train</td>\n",
       "    </tr>\n",
       "    <tr>\n",
       "      <th>1</th>\n",
       "      <td>634</td>\n",
       "      <td>neutral</td>\n",
       "      <td>The writing and publication of Lemmink+ñinen -...</td>\n",
       "      <td>train</td>\n",
       "    </tr>\n",
       "    <tr>\n",
       "      <th>2</th>\n",
       "      <td>1030</td>\n",
       "      <td>neutral</td>\n",
       "      <td>Sullivan said some of the boards `` really inv...</td>\n",
       "      <td>train</td>\n",
       "    </tr>\n",
       "    <tr>\n",
       "      <th>3</th>\n",
       "      <td>317</td>\n",
       "      <td>positive</td>\n",
       "      <td>The six breweries recorded a 5.2 percent growt...</td>\n",
       "      <td>train</td>\n",
       "    </tr>\n",
       "    <tr>\n",
       "      <th>4</th>\n",
       "      <td>868</td>\n",
       "      <td>positive</td>\n",
       "      <td>In the second quarter of 2010 , the company 's...</td>\n",
       "      <td>train</td>\n",
       "    </tr>\n",
       "    <tr>\n",
       "      <th>...</th>\n",
       "      <td>...</td>\n",
       "      <td>...</td>\n",
       "      <td>...</td>\n",
       "      <td>...</td>\n",
       "    </tr>\n",
       "    <tr>\n",
       "      <th>1440</th>\n",
       "      <td>136</td>\n",
       "      <td>positive</td>\n",
       "      <td>In the fourth quarter of 2009 , Orion 's net p...</td>\n",
       "      <td>train</td>\n",
       "    </tr>\n",
       "    <tr>\n",
       "      <th>1441</th>\n",
       "      <td>2170</td>\n",
       "      <td>negative</td>\n",
       "      <td>Profit for the period totalled EUR 1.1 mn , do...</td>\n",
       "      <td>train</td>\n",
       "    </tr>\n",
       "    <tr>\n",
       "      <th>1442</th>\n",
       "      <td>344</td>\n",
       "      <td>positive</td>\n",
       "      <td>The diluted loss per share narrowed to EUR 0.2...</td>\n",
       "      <td>train</td>\n",
       "    </tr>\n",
       "    <tr>\n",
       "      <th>1443</th>\n",
       "      <td>573</td>\n",
       "      <td>neutral</td>\n",
       "      <td>LKAB , headquartered in Lulea , Sweden , is a ...</td>\n",
       "      <td>train</td>\n",
       "    </tr>\n",
       "    <tr>\n",
       "      <th>1444</th>\n",
       "      <td>1768</td>\n",
       "      <td>neutral</td>\n",
       "      <td>The EBRD is using its own funds to provide a 2...</td>\n",
       "      <td>train</td>\n",
       "    </tr>\n",
       "  </tbody>\n",
       "</table>\n",
       "<p>1445 rows × 4 columns</p>\n",
       "</div>"
      ],
      "text/plain": [
       "        id    labels                                               text  split\n",
       "0      655   neutral  Customers in a wide range of industries use ou...  train\n",
       "1      634   neutral  The writing and publication of Lemmink+ñinen -...  train\n",
       "2     1030   neutral  Sullivan said some of the boards `` really inv...  train\n",
       "3      317  positive  The six breweries recorded a 5.2 percent growt...  train\n",
       "4      868  positive  In the second quarter of 2010 , the company 's...  train\n",
       "...    ...       ...                                                ...    ...\n",
       "1440   136  positive  In the fourth quarter of 2009 , Orion 's net p...  train\n",
       "1441  2170  negative  Profit for the period totalled EUR 1.1 mn , do...  train\n",
       "1442   344  positive  The diluted loss per share narrowed to EUR 0.2...  train\n",
       "1443   573   neutral  LKAB , headquartered in Lulea , Sweden , is a ...  train\n",
       "1444  1768   neutral  The EBRD is using its own funds to provide a 2...  train\n",
       "\n",
       "[1445 rows x 4 columns]"
      ]
     },
     "execution_count": 10,
     "metadata": {},
     "output_type": "execute_result"
    }
   ],
   "source": [
    "ds.splits['train']"
   ]
  },
  {
   "cell_type": "code",
   "execution_count": 11,
   "metadata": {
    "colab": {
     "base_uri": "https://localhost:8080/"
    },
    "id": "kArHj0GHPWem",
    "outputId": "dab02e68-13d8-4396-873a-8f28905526a4"
   },
   "outputs": [
    {
     "name": "stdout",
     "output_type": "stream",
     "text": [
      "{'column_info': {'data': {'id': 'int', 'labels': 'str', 'text': 'str'},\n",
      "                 'keys': {'id': 'id', 'text': 'text'}},\n",
      " 'data_files': {'dev': 'financial_phrasebank-dev.csv',\n",
      "                'test': 'financial_phrasebank-test.csv',\n",
      "                'train': 'financial_phrasebank-train.csv'},\n",
      " 'data_files_modified': '2022-05-03 09:35:34',\n",
      " 'domain': 'econ',\n",
      " 'info_updated': '2022-05-03 09:35:34',\n",
      " 'lang': 'en',\n",
      " 'meta_files': {},\n",
      " 'name': 'financial_phrasebank',\n",
      " 'num_examples': 2259,\n",
      " 'size_in_bytes': 275407,\n",
      " 'size_in_human_bytes': '268.95 KiB',\n",
      " 'splits': {'dev': {'data_file': 'financial_phrasebank-dev.csv',\n",
      "                    'dataset_name': 'financial_phrasebank',\n",
      "                    'human_bytes': '42.39 KiB',\n",
      "                    'name': 'dev',\n",
      "                    'num_bytes': 43404,\n",
      "                    'num_bytes_max': 296,\n",
      "                    'num_bytes_median': 109.0,\n",
      "                    'num_bytes_min': 9,\n",
      "                    'num_examples': 362},\n",
      "            'test': {'data_file': 'financial_phrasebank-test.csv',\n",
      "                     'dataset_name': 'financial_phrasebank',\n",
      "                     'human_bytes': '54.22 KiB',\n",
      "                     'name': 'test',\n",
      "                     'num_bytes': 55518,\n",
      "                     'num_bytes_max': 296,\n",
      "                     'num_bytes_median': 110.0,\n",
      "                     'num_bytes_min': 11,\n",
      "                     'num_examples': 452},\n",
      "            'train': {'data_file': 'financial_phrasebank-train.csv',\n",
      "                      'dataset_name': 'financial_phrasebank',\n",
      "                      'human_bytes': '172.35 KiB',\n",
      "                      'name': 'train',\n",
      "                      'num_bytes': 176485,\n",
      "                      'num_bytes_max': 315,\n",
      "                      'num_bytes_median': 112.0,\n",
      "                      'num_bytes_min': 15,\n",
      "                      'num_examples': 1445}},\n",
      " 'task': 'classification'}\n"
     ]
    }
   ],
   "source": [
    "eKonf.pprint(ds.info)"
   ]
  },
  {
   "cell_type": "markdown",
   "metadata": {
    "id": "tRbL-y3t_r2Q"
   },
   "source": [
    "## Instantiating datasets (autorun)"
   ]
  },
  {
   "cell_type": "code",
   "execution_count": 13,
   "metadata": {
    "colab": {
     "base_uri": "https://localhost:8080/"
    },
    "id": "u6ibZ97b_r2Q",
    "outputId": "6e73b55d-d713-4a4b-cd57-db2cfa004157"
   },
   "outputs": [
    {
     "name": "stdout",
     "output_type": "stream",
     "text": [
      "{'_call_': ['load', 'concatenate'],\n",
      " '_target_': 'ekorpkit.datasets.loader.Datasets',\n",
      " 'autoload': True,\n",
      " 'autorun': ['load'],\n",
      " 'column_info': {'_target_': 'ekorpkit.info.base.ColumnInfo',\n",
      "                 'columns': {'id': 'id',\n",
      "                             'merge_meta_on': None,\n",
      "                             'text': 'text',\n",
      "                             'timestamp': None},\n",
      "                 'data': {'id': 'int', 'text': 'str'},\n",
      "                 'datetime': {'format': None, 'key': None, 'params': None},\n",
      "                 'keys': {'id': 'id',\n",
      "                          'split': 'split',\n",
      "                          'text': 'text',\n",
      "                          'timestamp': 'timestamp'},\n",
      "                 'meta': None,\n",
      "                 'segment_separator': '\\\\n\\\\n',\n",
      "                 'timestamp': {'format': None, 'key': None, 'params': None}},\n",
      " 'data_dir': '../data',\n",
      " 'datasets': None,\n",
      " 'filetype': 'csv',\n",
      " 'info': {'_target_': 'ekorpkit.info.stat.SummaryInfo',\n",
      "          'aggregate_info': {'num_examples': 'num_examples',\n",
      "                             'size_in_bytes': 'num_bytes'},\n",
      "          'data_dir': '../data',\n",
      "          'info_file': \"info-['financial_phrasebank'].yaml\",\n",
      "          'info_list': ['name',\n",
      "                        'fullname',\n",
      "                        'domain',\n",
      "                        'task',\n",
      "                        'lang',\n",
      "                        'description',\n",
      "                        'license',\n",
      "                        'homepage',\n",
      "                        'version',\n",
      "                        'num_examples',\n",
      "                        'size_in_bytes',\n",
      "                        'size_in_human_bytes',\n",
      "                        'data_files_modified',\n",
      "                        'info_updated',\n",
      "                        'data_files',\n",
      "                        'column_info'],\n",
      "          'key_columns': '',\n",
      "          'modified_info': {'data_files_modified': 'data_file'},\n",
      "          'name': ['financial_phrasebank'],\n",
      "          'stats': {'_partial_': True,\n",
      "                    '_target_': 'ekorpkit.info.stat.summary_stats',\n",
      "                    'agg_funcs': {'num_bytes': ['count',\n",
      "                                                'sum',\n",
      "                                                'median',\n",
      "                                                'max',\n",
      "                                                'min']},\n",
      "                    'convert_to_humanbytes': {'num_bytes': 'human_bytes'},\n",
      "                    'function': {'len_bytes': {'_partial_': True,\n",
      "                                               '_target_': 'ekorpkit.utils.func.len_bytes'}},\n",
      "                    'key_columns': '',\n",
      "                    'num_columns': {'num_bytes': 'len_bytes'},\n",
      "                    'num_workers': 1,\n",
      "                    'rename_columns': {'num_bytes_count': 'num_examples',\n",
      "                                       'num_bytes_sum': 'num_bytes'},\n",
      "                    'text_keys': 'text'},\n",
      "          'update_files_info': {'data_files': 'data_file',\n",
      "                                'meta_files': 'meta_file'},\n",
      "          'update_info': ['fullname',\n",
      "                          'lang',\n",
      "                          'domain',\n",
      "                          'task',\n",
      "                          'description',\n",
      "                          'license',\n",
      "                          'homepage',\n",
      "                          'version'],\n",
      "          'verbose': True},\n",
      " 'name': ['financial_phrasebank'],\n",
      " 'use_name_as_subdir': True,\n",
      " 'verbose': True}\n",
      "{'_call_': ['load', 'concatenate'],\n",
      " 'autoload': True,\n",
      " 'autorun': ['load'],\n",
      " 'column_info': {'_target_': 'ekorpkit.info.base.ColumnInfo',\n",
      "                 'columns': {'id': 'id',\n",
      "                             'merge_meta_on': None,\n",
      "                             'text': 'text',\n",
      "                             'timestamp': None},\n",
      "                 'data': {'id': 'int', 'labels': 'str', 'text': 'str'},\n",
      "                 'datetime': {'format': None, 'key': None, 'params': None},\n",
      "                 'keys': {'id': 'id',\n",
      "                          'split': 'split',\n",
      "                          'text': 'text',\n",
      "                          'timestamp': 'timestamp'},\n",
      "                 'meta': None,\n",
      "                 'segment_separator': '\\\\n\\\\n',\n",
      "                 'timestamp': {'format': None, 'key': None, 'params': None}},\n",
      " 'data_dir': '../data',\n",
      " 'data_files': {'dev': 'financial_phrasebank-dev.csv',\n",
      "                'test': 'financial_phrasebank-test.csv',\n",
      "                'train': 'financial_phrasebank-train.csv'},\n",
      " 'data_files_modified': '2022-05-03 09:35:34',\n",
      " 'datasets': None,\n",
      " 'domain': 'econ',\n",
      " 'filetype': 'csv',\n",
      " 'info': {'_target_': 'ekorpkit.info.stat.SummaryInfo',\n",
      "          'aggregate_info': {'num_examples': 'num_examples',\n",
      "                             'size_in_bytes': 'num_bytes'},\n",
      "          'data_dir': '../data',\n",
      "          'info_file': \"info-['financial_phrasebank'].yaml\",\n",
      "          'info_list': ['name',\n",
      "                        'fullname',\n",
      "                        'domain',\n",
      "                        'task',\n",
      "                        'lang',\n",
      "                        'description',\n",
      "                        'license',\n",
      "                        'homepage',\n",
      "                        'version',\n",
      "                        'num_examples',\n",
      "                        'size_in_bytes',\n",
      "                        'size_in_human_bytes',\n",
      "                        'data_files_modified',\n",
      "                        'info_updated',\n",
      "                        'data_files',\n",
      "                        'column_info'],\n",
      "          'key_columns': '',\n",
      "          'modified_info': {'data_files_modified': 'data_file'},\n",
      "          'name': ['financial_phrasebank'],\n",
      "          'stats': {'_partial_': True,\n",
      "                    '_target_': 'ekorpkit.info.stat.summary_stats',\n",
      "                    'agg_funcs': {'num_bytes': ['count',\n",
      "                                                'sum',\n",
      "                                                'median',\n",
      "                                                'max',\n",
      "                                                'min']},\n",
      "                    'convert_to_humanbytes': {'num_bytes': 'human_bytes'},\n",
      "                    'function': {'len_bytes': {'_partial_': True,\n",
      "                                               '_target_': 'ekorpkit.utils.func.len_bytes'}},\n",
      "                    'key_columns': '',\n",
      "                    'num_columns': {'num_bytes': 'len_bytes'},\n",
      "                    'num_workers': 1,\n",
      "                    'rename_columns': {'num_bytes_count': 'num_examples',\n",
      "                                       'num_bytes_sum': 'num_bytes'},\n",
      "                    'text_keys': 'text'},\n",
      "          'update_files_info': {'data_files': 'data_file',\n",
      "                                'meta_files': 'meta_file'},\n",
      "          'update_info': ['fullname',\n",
      "                          'lang',\n",
      "                          'domain',\n",
      "                          'task',\n",
      "                          'description',\n",
      "                          'license',\n",
      "                          'homepage',\n",
      "                          'version'],\n",
      "          'verbose': True},\n",
      " 'info_updated': '2022-05-03 09:35:34',\n",
      " 'lang': 'en',\n",
      " 'meta_files': {},\n",
      " 'name': 'financial_phrasebank',\n",
      " 'num_examples': 2259,\n",
      " 'size_in_bytes': 275407,\n",
      " 'size_in_human_bytes': '268.95 KiB',\n",
      " 'splits': {'dev': {'data_file': 'financial_phrasebank-dev.csv',\n",
      "                    'dataset_name': 'financial_phrasebank',\n",
      "                    'human_bytes': '42.39 KiB',\n",
      "                    'name': 'dev',\n",
      "                    'num_bytes': 43404,\n",
      "                    'num_bytes_max': 296,\n",
      "                    'num_bytes_median': 109.0,\n",
      "                    'num_bytes_min': 9,\n",
      "                    'num_examples': 362},\n",
      "            'test': {'data_file': 'financial_phrasebank-test.csv',\n",
      "                     'dataset_name': 'financial_phrasebank',\n",
      "                     'human_bytes': '54.22 KiB',\n",
      "                     'name': 'test',\n",
      "                     'num_bytes': 55518,\n",
      "                     'num_bytes_max': 296,\n",
      "                     'num_bytes_median': 110.0,\n",
      "                     'num_bytes_min': 11,\n",
      "                     'num_examples': 452},\n",
      "            'train': {'data_file': 'financial_phrasebank-train.csv',\n",
      "                      'dataset_name': 'financial_phrasebank',\n",
      "                      'human_bytes': '172.35 KiB',\n",
      "                      'name': 'train',\n",
      "                      'num_bytes': 176485,\n",
      "                      'num_bytes_max': 315,\n",
      "                      'num_bytes_median': 112.0,\n",
      "                      'num_bytes_min': 15,\n",
      "                      'num_examples': 1445}},\n",
      " 'task': 'classification',\n",
      " 'use_name_as_subdir': True,\n",
      " 'verbose': True}\n"
     ]
    }
   ],
   "source": [
    "cfg = eKonf.compose(config_group='dataset=simple_auto')\n",
    "cfg.name = ['financial_phrasebank']\n",
    "cfg.data_dir = '../data'\n",
    "cfg.verbose = True\n",
    "eKonf.pprint(cfg)\n",
    "ds = eKonf.instantiate(cfg)"
   ]
  },
  {
   "cell_type": "code",
   "execution_count": 14,
   "metadata": {
    "colab": {
     "base_uri": "https://localhost:8080/"
    },
    "id": "Z0e0cZVm_r2R",
    "outputId": "c78437ba-b1da-4231-ea6a-d3937ca0259e"
   },
   "outputs": [
    {
     "data": {
      "text/plain": [
       "{'train':                                                    text  split    id  \\\n",
       " 0     Customers in a wide range of industries use ou...  train   655   \n",
       " 1     The writing and publication of Lemmink+ñinen -...  train   634   \n",
       " 2     Sullivan said some of the boards `` really inv...  train  1030   \n",
       " 3     The six breweries recorded a 5.2 percent growt...  train   317   \n",
       " 4     In the second quarter of 2010 , the company 's...  train   868   \n",
       " ...                                                 ...    ...   ...   \n",
       " 1440  In the fourth quarter of 2009 , Orion 's net p...  train   136   \n",
       " 1441  Profit for the period totalled EUR 1.1 mn , do...  train  2170   \n",
       " 1442  The diluted loss per share narrowed to EUR 0.2...  train   344   \n",
       " 1443  LKAB , headquartered in Lulea , Sweden , is a ...  train   573   \n",
       " 1444  The EBRD is using its own funds to provide a 2...  train  1768   \n",
       " \n",
       "         labels               dataset  \n",
       " 0      neutral  financial_phrasebank  \n",
       " 1      neutral  financial_phrasebank  \n",
       " 2      neutral  financial_phrasebank  \n",
       " 3     positive  financial_phrasebank  \n",
       " 4     positive  financial_phrasebank  \n",
       " ...        ...                   ...  \n",
       " 1440  positive  financial_phrasebank  \n",
       " 1441  negative  financial_phrasebank  \n",
       " 1442  positive  financial_phrasebank  \n",
       " 1443   neutral  financial_phrasebank  \n",
       " 1444   neutral  financial_phrasebank  \n",
       " \n",
       " [1445 rows x 5 columns],\n",
       " 'test':                                                   text split    id    labels  \\\n",
       " 0    Los Angeles-based Pacific Office Properties Tr...  test   505   neutral   \n",
       " 1    Investors will continue being interested in th...  test   783  positive   \n",
       " 2    Repeats sees 2008 operating profit down y-y ( ...  test  2253  negative   \n",
       " 3    The acquisition was financed with $ 2.56 billi...  test  1374   neutral   \n",
       " 4    Profit per share was EUR 1.03 , up from EUR 0....  test   243  positive   \n",
       " ..                                                 ...   ...   ...       ...   \n",
       " 447  The commission said the hydrogen peroxide and ...  test   605   neutral   \n",
       " 448  Sales in Finland decreased by 2.0 % , and inte...  test  2258  negative   \n",
       " 449  The earnings per share for the quarter came in...  test   254  positive   \n",
       " 450  The company can not give up palm oil altogethe...  test  1390   neutral   \n",
       " 451  Pretax profit rose to EUR 1,019 mn from EUR 1,...  test   181  positive   \n",
       " \n",
       "                   dataset  \n",
       " 0    financial_phrasebank  \n",
       " 1    financial_phrasebank  \n",
       " 2    financial_phrasebank  \n",
       " 3    financial_phrasebank  \n",
       " 4    financial_phrasebank  \n",
       " ..                    ...  \n",
       " 447  financial_phrasebank  \n",
       " 448  financial_phrasebank  \n",
       " 449  financial_phrasebank  \n",
       " 450  financial_phrasebank  \n",
       " 451  financial_phrasebank  \n",
       " \n",
       " [452 rows x 5 columns],\n",
       " 'dev':                                                   text split    id    labels  \\\n",
       " 0         The identity of the buyer is not yet known .   dev  1449   neutral   \n",
       " 1    Operating profit rose to EUR 3.2 mn from EUR 1...   dev   165  positive   \n",
       " 2    Previously , Grimaldi held a 46.43 pct stake i...   dev  1334   neutral   \n",
       " 3    A total of $ 78 million will be invested in th...   dev   907   neutral   \n",
       " 4    The 19,200-square metre technology center is l...   dev  1371   neutral   \n",
       " ..                                                 ...   ...   ...       ...   \n",
       " 357  Under a preliminary estimation , the technolog...   dev  1120   neutral   \n",
       " 358  Operating profit improved by 27 % to EUR 579.8...   dev   404  positive   \n",
       " 359  Rohwedder Group is an automotive supplies , te...   dev  1708   neutral   \n",
       " 360  In January-September 2007 , the group 's net s...   dev   225  positive   \n",
       " 361  Payment of shares shall be effected on subscri...   dev  1008   neutral   \n",
       " \n",
       "                   dataset  \n",
       " 0    financial_phrasebank  \n",
       " 1    financial_phrasebank  \n",
       " 2    financial_phrasebank  \n",
       " 3    financial_phrasebank  \n",
       " 4    financial_phrasebank  \n",
       " ..                    ...  \n",
       " 357  financial_phrasebank  \n",
       " 358  financial_phrasebank  \n",
       " 359  financial_phrasebank  \n",
       " 360  financial_phrasebank  \n",
       " 361  financial_phrasebank  \n",
       " \n",
       " [362 rows x 5 columns]}"
      ]
     },
     "execution_count": 14,
     "metadata": {},
     "output_type": "execute_result"
    }
   ],
   "source": [
    "ds.splits"
   ]
  },
  {
   "cell_type": "code",
   "execution_count": null,
   "metadata": {
    "id": "I7lQRCRJ_r2S"
   },
   "outputs": [],
   "source": []
  }
 ],
 "metadata": {
  "colab": {
   "name": "corpus.ipynb",
   "provenance": []
  },
  "interpreter": {
   "hash": "f869af7787e6a1c49e09e367fc6e1b81d93d1c6583b43249c80edc047bd13cb2"
  },
  "kernelspec": {
   "display_name": "Python 3",
   "language": "python",
   "name": "python3"
  },
  "language_info": {
   "codemirror_mode": {
    "name": "ipython",
    "version": 3
   },
   "file_extension": ".py",
   "mimetype": "text/x-python",
   "name": "python",
   "nbconvert_exporter": "python",
   "pygments_lexer": "ipython3",
   "version": "3.8.8"
  },
  "widgets": {
   "application/vnd.jupyter.widget-state+json": {
    "state": {},
    "version_major": 2,
    "version_minor": 0
   }
  }
 },
 "nbformat": 4,
 "nbformat_minor": 1
}
