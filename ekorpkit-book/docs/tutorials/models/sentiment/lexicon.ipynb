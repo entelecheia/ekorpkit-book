{
 "cells": [
  {
   "cell_type": "markdown",
   "metadata": {
    "id": "AESO0odcxhzs"
   },
   "source": [
    "# Sentiment Lexicons"
   ]
  },
  {
   "cell_type": "markdown",
   "metadata": {
    "id": "rlQ2kNsbNIAe"
   },
   "source": [
    "<a href=\"https://colab.research.google.com/github/entelecheia/ekorpkit-config/blob/main/notebooks/preprocessor.ipynb\" target=\"_parent\"><img src=\"https://colab.research.google.com/assets/colab-badge.svg\" alt=\"Open In Colab\"/></a>"
   ]
  },
  {
   "cell_type": "code",
   "execution_count": 19,
   "metadata": {
    "id": "EJ0AoNl-xif_"
   },
   "outputs": [],
   "source": [
    "# %%capture\n",
    "# %pip install ekorpkit[transformers,tokenize]"
   ]
  },
  {
   "cell_type": "code",
   "execution_count": 1,
   "metadata": {
    "id": "NCRWYIjixhzu"
   },
   "outputs": [],
   "source": [
    "from ekorpkit import eKonf"
   ]
  },
  {
   "cell_type": "markdown",
   "metadata": {
    "id": "dOpN8AxSxhzv"
   },
   "source": [
    "## Instantiating a lexicon class"
   ]
  },
  {
   "cell_type": "code",
   "execution_count": 3,
   "metadata": {},
   "outputs": [
    {
     "name": "stdout",
     "output_type": "stream",
     "text": [
      "Loading data from /workspace/projects/ekorpkit/ekorpkit/resources/lexicons/mpko/mp_polarity_lexicon_lex.parquet\n",
      "Lexicon\n",
      "----------\n",
      "name: mpko_tone_lex\n",
      "fullname: Korean Monetary Policy Tone Lexicon - Lexical Approach\n",
      "source: https://github.com/entelecheia/eKoNLPy\n",
      "lang: ko\n",
      "lexicon_features: ['label', 'polarity', 'intensity', 'pos_score', 'neg_score']\n",
      "lexicon_path: /workspace/projects/ekorpkit/ekorpkit/resources/lexicons/mpko/mp_polarity_lexicon_lex.parquet\n",
      "word_key: word\n",
      "ignore_pos: False\n",
      "\n"
     ]
    }
   ],
   "source": [
    "config_group='model/sentiment/lexicon=mpko_lex'\n",
    "cfg = eKonf.compose(config_group=config_group)\n",
    "cfg.analyze.ngram_distiance_tolerance = 1\n",
    "# eKonf.pprint(cfg)\n",
    "lexicon = eKonf.instantiate(cfg)\n",
    "print(lexicon)"
   ]
  },
  {
   "cell_type": "code",
   "execution_count": 3,
   "metadata": {},
   "outputs": [],
   "source": [
    "text = \"투기를 억제하기 위해 금리를 인상해야 한다.\"\n",
    "tokens = ['투기', '억제', '금리', '인상', '인상', '투기;억제', '금리;인상', '견조', '호황', '힘들']\n",
    "\n",
    "features = lexicon.analyze(tokens, features=['label', 'polarity'])"
   ]
  },
  {
   "cell_type": "code",
   "execution_count": 6,
   "metadata": {},
   "outputs": [
    {
     "name": "stdout",
     "output_type": "stream",
     "text": [
      "Loading data from /workspace/projects/ekorpkit/ekorpkit/resources/lexicons/kosac/polarity.parquet\n"
     ]
    },
    {
     "data": {
      "text/plain": [
       "{'힘들': {'max.value': 'NEG', 'max.prop': 0.75, 'count': 1},\n",
       " '인상': {'max.value': 'POS', 'max.prop': 0.666666667, 'count': 2}}"
      ]
     },
     "execution_count": 6,
     "metadata": {},
     "output_type": "execute_result"
    }
   ],
   "source": [
    "config_group='model/sentiment/lexicon=kosac_polarity'\n",
    "cfg = eKonf.compose(config_group=config_group)\n",
    "cfg.ignore_pos = True\n",
    "cfg.analyze.ngram_distiance_tolerance = 1\n",
    "lexicon = eKonf.instantiate(cfg)\n",
    "tokens = ['투기', '억제', '금리', '인상', '인상', '투기;억제', '금리;인상', '견조', '호황', '힘들']\n",
    "\n",
    "lexicon.analyze(tokens, features=['max.value', 'max.prop'])"
   ]
  },
  {
   "cell_type": "code",
   "execution_count": 7,
   "metadata": {},
   "outputs": [
    {
     "name": "stdout",
     "output_type": "stream",
     "text": [
      "Loading data from /workspace/projects/ekorpkit/ekorpkit/resources/lexicons/LM.parquet\n"
     ]
    }
   ],
   "source": [
    "from ekorpkit import eKonf\n",
    "\n",
    "config_group='model/sentiment/lexicon=lm'\n",
    "cfg = eKonf.compose(config_group=config_group)\n",
    "# eKonf.pprint(cfg)\n",
    "lexicon = eKonf.instantiate(cfg)\n",
    "# print(lexicon)"
   ]
  },
  {
   "cell_type": "code",
   "execution_count": 8,
   "metadata": {},
   "outputs": [
    {
     "data": {
      "text/plain": [
       "{'bad': {'Positive': 0, 'Negative': 2009, 'Uncertainty': 0, 'count': 1},\n",
       " 'beat': {'Positive': 0, 'Negative': 0, 'Uncertainty': 0, 'count': 1},\n",
       " 'fraud': {'Positive': 0, 'Negative': 2009, 'Uncertainty': 0, 'count': 1},\n",
       " 'good': {'Positive': 2009, 'Negative': 0, 'Uncertainty': 0, 'count': 3},\n",
       " 'sound': {'Positive': 0, 'Negative': 0, 'Uncertainty': 0, 'count': 1},\n",
       " 'uncertain': {'Positive': 0, 'Negative': 0, 'Uncertainty': 2009, 'count': 1},\n",
       " 'wrong': {'Positive': 0, 'Negative': 2009, 'Uncertainty': 0, 'count': 1}}"
      ]
     },
     "execution_count": 8,
     "metadata": {},
     "output_type": "execute_result"
    }
   ],
   "source": [
    "tokens = [\"Bad\", \"Fraud\", \"Good\",\"Good\",\"Good\", \"Sound\", \"uncertain\", \"beat\", \"wrong\"]\n",
    "lexicon.analyze(tokens, features=['Positive', 'Negative', 'Uncertainty'])"
   ]
  },
  {
   "cell_type": "code",
   "execution_count": 1,
   "metadata": {},
   "outputs": [
    {
     "name": "stdout",
     "output_type": "stream",
     "text": [
      "Loading data from /workspace/projects/ekorpkit/ekorpkit/resources/lexicons/LM.parquet\n"
     ]
    },
    {
     "data": {
      "text/plain": [
       "{'polarity': 0.199999960000008,\n",
       " 'subjectivity': 0.6249999218750099,\n",
       " 'label': 'neutral'}"
      ]
     },
     "execution_count": 1,
     "metadata": {},
     "output_type": "execute_result"
    }
   ],
   "source": [
    "from ekorpkit import eKonf\n",
    "\n",
    "config_group='model/sentiment=lm'\n",
    "cfg = eKonf.compose(config_group=config_group)\n",
    "cfg.preprocessor.tokenizer.nltk.lemmatize = True\n",
    "# eKonf.pprint(cfg)\n",
    "lmsa = eKonf.instantiate(cfg)\n",
    "\n",
    "tokens = [\"Fraud\", \"Good\",\"Good\",\"Good\", \"Sound\", \"uncertain\", \"beat\", \"wrong\"]\n",
    "\n",
    "lmsa.predict(tokens)"
   ]
  },
  {
   "cell_type": "code",
   "execution_count": 2,
   "metadata": {},
   "outputs": [
    {
     "name": "stdout",
     "output_type": "stream",
     "text": [
      "['Beyond', 'the', 'improved', 'voice', 'capability', ',', 'customer', 'now', 'have', 'a', 'streamlined', 'way', 'to', 'comply', 'with', 'recall', 'and', 'other', 'traceability', 'requirement', ',', 'provide', 'them', 'with', 'a', 'competitive', 'advantage', '.']\n",
      "{'advantage': {'Negative': 0, 'Positive': 2009, 'count': 1},\n",
      " 'and': {'Negative': 0, 'Positive': 0, 'count': 1},\n",
      " 'beyond': {'Negative': 0, 'Positive': 0, 'count': 1},\n",
      " 'capability': {'Negative': 0, 'Positive': 0, 'count': 1},\n",
      " 'competitive': {'Negative': 0, 'Positive': 0, 'count': 1},\n",
      " 'comply': {'Negative': 0, 'Positive': 0, 'count': 1},\n",
      " 'customer': {'Negative': 0, 'Positive': 0, 'count': 1},\n",
      " 'have': {'Negative': 0, 'Positive': 0, 'count': 1},\n",
      " 'improved': {'Negative': 0, 'Positive': 2009, 'count': 1},\n",
      " 'now': {'Negative': 0, 'Positive': 0, 'count': 1},\n",
      " 'other': {'Negative': 0, 'Positive': 0, 'count': 1},\n",
      " 'provide': {'Negative': 0, 'Positive': 0, 'count': 1},\n",
      " 'recall': {'Negative': 2009, 'Positive': 0, 'count': 1},\n",
      " 'requirement': {'Negative': 0, 'Positive': 0, 'count': 1},\n",
      " 'streamlined': {'Negative': 0, 'Positive': 0, 'count': 1},\n",
      " 'the': {'Negative': 0, 'Positive': 0, 'count': 1},\n",
      " 'them': {'Negative': 0, 'Positive': 0, 'count': 1},\n",
      " 'to': {'Negative': 0, 'Positive': 0, 'count': 1},\n",
      " 'traceability': {'Negative': 0, 'Positive': 0, 'count': 1},\n",
      " 'voice': {'Negative': 0, 'Positive': 0, 'count': 1},\n",
      " 'way': {'Negative': 0, 'Positive': 0, 'count': 1},\n",
      " 'with': {'Negative': 0, 'Positive': 0, 'count': 2}}\n",
      "{'polarity': 0.33333322222225925, 'subjectivity': 0.10714285331632667, 'label': 'positive'}\n",
      "{'polarity': -0.9999990000010001, 'subjectivity': 0.045454543388429844, 'label': 'negative'}\n"
     ]
    }
   ],
   "source": [
    "from pprint import pprint\n",
    "text = \"Beyond the improved voice capabilities, customers now have a streamlined way to comply with recalls and other traceability requirements, providing them with a competitive advantage.\"\n",
    "tokens = lmsa.tokenize(text)\n",
    "print(tokens)\n",
    "pprint(lmsa.analyze(tokens, features=['Negative', 'Positive']))\n",
    "print(lmsa.predict(text))\n",
    "text = \"Operating loss amounted to EUR 0.7 mn compared to a profit of EUR 0.8 mn in the second quarter of 2005.\"\n",
    "print(lmsa.predict(text))\n"
   ]
  },
  {
   "cell_type": "code",
   "execution_count": 16,
   "metadata": {},
   "outputs": [
    {
     "name": "stdout",
     "output_type": "stream",
     "text": [
      "Loading data from /workspace/projects/ekorpkit/ekorpkit/resources/lexicons/HIV-4.parquet\n"
     ]
    },
    {
     "data": {
      "text/plain": [
       "{'ability': {'Positiv': 'Positiv', 'Negativ': None, 'count': 1},\n",
       " 'bad': {'Positiv': None, 'Negativ': 'Negativ', 'count': 1},\n",
       " 'fraud': {'Positiv': None, 'Negativ': 'Negativ', 'count': 1},\n",
       " 'uncertain': {'Positiv': None, 'Negativ': None, 'count': 1}}"
      ]
     },
     "execution_count": 16,
     "metadata": {},
     "output_type": "execute_result"
    }
   ],
   "source": [
    "config_group='model/sentiment/lexicon=hiv4'\n",
    "cfg = eKonf.compose(config_group=config_group)\n",
    "lexicon = eKonf.instantiate(cfg)\n",
    "\n",
    "tokens = [\"Bad\", \"Fraud\", \"Good\", \"Sound\", \"uncertain\", \"beat\", \"wrong\", 'ability']\n",
    "features = lexicon.analyze(tokens, features=['Positiv', 'Negativ'])\n",
    "features"
   ]
  },
  {
   "cell_type": "code",
   "execution_count": null,
   "metadata": {},
   "outputs": [],
   "source": []
  }
 ],
 "metadata": {
  "colab": {
   "name": "preprocessor.ipynb",
   "provenance": []
  },
  "interpreter": {
   "hash": "f869af7787e6a1c49e09e367fc6e1b81d93d1c6583b43249c80edc047bd13cb2"
  },
  "kernelspec": {
   "display_name": "Python 3",
   "language": "python",
   "name": "python3"
  },
  "language_info": {
   "codemirror_mode": {
    "name": "ipython",
    "version": 3
   },
   "file_extension": ".py",
   "mimetype": "text/x-python",
   "name": "python",
   "nbconvert_exporter": "python",
   "pygments_lexer": "ipython3",
   "version": "3.8.8"
  },
  "widgets": {
   "application/vnd.jupyter.widget-state+json": {
    "state": {},
    "version_major": 2,
    "version_minor": 0
   }
  }
 },
 "nbformat": 4,
 "nbformat_minor": 1
}
