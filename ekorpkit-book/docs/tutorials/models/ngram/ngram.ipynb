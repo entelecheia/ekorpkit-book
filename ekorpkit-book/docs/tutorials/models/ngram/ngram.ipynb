{
 "cells": [
  {
   "cell_type": "markdown",
   "metadata": {
    "id": "AESO0odcxhzs"
   },
   "source": [
    "# N-Grams"
   ]
  },
  {
   "cell_type": "code",
   "execution_count": 1,
   "metadata": {},
   "outputs": [
    {
     "name": "stdout",
     "output_type": "stream",
     "text": [
      "0.1.31+5.gde7db1a.dirty\n"
     ]
    }
   ],
   "source": [
    "import logging\n",
    "from ekorpkit import eKonf\n",
    "\n",
    "logging.basicConfig(level=logging.INFO)\n",
    "print(eKonf.__version__)"
   ]
  },
  {
   "cell_type": "markdown",
   "metadata": {
    "id": "dOpN8AxSxhzv"
   },
   "source": [
    "## Instantiating an object"
   ]
  },
  {
   "cell_type": "code",
   "execution_count": 13,
   "metadata": {},
   "outputs": [],
   "source": [
    "corpus_cfg = eKonf.compose(config_group='corpus')\n",
    "corpus_cfg.name = 'bok_minutes'\n",
    "corpus_cfg.data_dir = '/workspace/data/datasets/corpus/ekorpkit'"
   ]
  },
  {
   "cell_type": "code",
   "execution_count": 14,
   "metadata": {},
   "outputs": [
    {
     "name": "stderr",
     "output_type": "stream",
     "text": [
      "INFO:ekorpkit.io.file:Processing [1] files from [['bok_minutes-train.parquet']]\n",
      "INFO:ekorpkit.io.file:Loading data from /workspace/data/datasets/corpus/ekorpkit/bok_minutes/bok_minutes-train.parquet\n",
      "INFO:ekorpkit.io.file:Processing [1] files from [['meta-bok_minutes-train.parquet']]\n",
      "INFO:ekorpkit.io.file:Loading data from /workspace/data/datasets/corpus/ekorpkit/bok_minutes/meta-bok_minutes-train.parquet\n",
      "INFO:ekorpkit.info.column:No timestamp key found\n",
      "INFO:ekorpkit.ekonf:Skipping execute of functools.partial(<function concat_dataframes at 0x7fe84bcb7a60>)\n",
      "INFO:ekorpkit.pipelines.pipe:Applying pipeline: OrderedDict([('tokenize', 'tokenize'), ('explode_splits', 'explode_splits'), ('save_dataframe', 'save_dataframe')])\n",
      "INFO:ekorpkit.ekonf:Applying pipe: functools.partial(<function tokenize at 0x7fe9c9598550>)\n",
      "INFO:ekorpkit.pipelines.pipe:instantiating tokenizer\n",
      "INFO:ekorpkit.preprocessors.tokenizer:Initializing mecab with {'userdic_path': None, 'backend': 'mecab-python3', 'verbose': False}...\n",
      "INFO:ekorpkit.preprocessors.tokenizer:instantiating ekorpkit.preprocessors.stopwords.Stopwords...\n"
     ]
    },
    {
     "data": {
      "application/vnd.jupyter.widget-view+json": {
       "model_id": "6f58c8bf112f4a9fb1a3bbb6c6cae9a0",
       "version_major": 2,
       "version_minor": 0
      },
      "text/plain": [
       "Tokenizing column: text:   0%|          | 0/163 [00:00<?, ?it/s]"
      ]
     },
     "metadata": {},
     "output_type": "display_data"
    },
    {
     "name": "stderr",
     "output_type": "stream",
     "text": [
      "INFO:ekorpkit.pipelines.pipe: >> elapsed time to segment: 0:01:00.693916\n",
      "INFO:ekorpkit.ekonf:Applying pipe: functools.partial(<function explode_splits at 0x7fe9c9598160>)\n",
      "INFO:ekorpkit.ekonf:Applying pipe: functools.partial(<function save_dataframe at 0x7fe9c9598e50>)\n",
      "INFO:ekorpkit.io.file:Saving dataframe as ../data/bok/bok_minutes_tokenized.parquet\n"
     ]
    }
   ],
   "source": [
    "tkn_cfg = eKonf.compose(config_group=\"preprocessor/tokenizer=mecab\")\n",
    "cfg = eKonf.compose(config_group=\"pipeline\")\n",
    "cfg.data.corpus = corpus_cfg\n",
    "cfg._pipeline_ = [\"tokenize\", \"explode_splits\", \"save_dataframe\"]\n",
    "cfg.num_workers = 100\n",
    "cfg.tokenize.preprocessor.tokenizer = tkn_cfg\n",
    "cfg.explode_splits.id_key = \"id\"\n",
    "cfg.explode_splits.split_key = \"sent_id\"\n",
    "cfg.explode_splits.separator = \"\\n\"\n",
    "cfg.save_dataframe.output_dir = \"../data/bok\"\n",
    "cfg.save_dataframe.output_file = \"bok_minutes_tokenized.parquet\"\n",
    "\n",
    "df = eKonf.instantiate(cfg)"
   ]
  },
  {
   "cell_type": "code",
   "execution_count": 15,
   "metadata": {},
   "outputs": [
    {
     "data": {
      "text/html": [
       "<div>\n",
       "<style scoped>\n",
       "    .dataframe tbody tr th:only-of-type {\n",
       "        vertical-align: middle;\n",
       "    }\n",
       "\n",
       "    .dataframe tbody tr th {\n",
       "        vertical-align: top;\n",
       "    }\n",
       "\n",
       "    .dataframe thead th {\n",
       "        text-align: right;\n",
       "    }\n",
       "</style>\n",
       "<table border=\"1\" class=\"dataframe\">\n",
       "  <thead>\n",
       "    <tr style=\"text-align: right;\">\n",
       "      <th></th>\n",
       "      <th>id</th>\n",
       "      <th>text</th>\n",
       "      <th>sent_id</th>\n",
       "    </tr>\n",
       "  </thead>\n",
       "  <tbody>\n",
       "    <tr>\n",
       "      <th>0</th>\n",
       "      <td>0</td>\n",
       "      <td>Economic/SL /SP Situation/SL</td>\n",
       "      <td>0</td>\n",
       "    </tr>\n",
       "    <tr>\n",
       "      <th>0</th>\n",
       "      <td>0</td>\n",
       "      <td>일부/NNG /SP 위원/NNG 은/JX /SP 반도체/NNG 시장/NNG 의/JK...</td>\n",
       "      <td>1</td>\n",
       "    </tr>\n",
       "    <tr>\n",
       "      <th>0</th>\n",
       "      <td>0</td>\n",
       "      <td>이/NP 에/JKB /SP 대해/VV+EC /SP 관련/NNG 부서/NNG 에서/J...</td>\n",
       "      <td>2</td>\n",
       "    </tr>\n",
       "    <tr>\n",
       "      <th>0</th>\n",
       "      <td>0</td>\n",
       "      <td>동/MM /SP 위원/NNG 은/JX /SP 1/SN //SC 4/SN 분기/NNG...</td>\n",
       "      <td>3</td>\n",
       "    </tr>\n",
       "    <tr>\n",
       "      <th>0</th>\n",
       "      <td>0</td>\n",
       "      <td>이/NP 에/JKB /SP 대해/VV+EC /SP 관련/NNG 부서/NNG 에서/J...</td>\n",
       "      <td>4</td>\n",
       "    </tr>\n",
       "    <tr>\n",
       "      <th>...</th>\n",
       "      <td>...</td>\n",
       "      <td>...</td>\n",
       "      <td>...</td>\n",
       "    </tr>\n",
       "    <tr>\n",
       "      <th>162</th>\n",
       "      <td>162</td>\n",
       "      <td>앞/NNG 으로/JKB /SP 코로나/NNG 19/SN /SP 충격/NNG 에서/J...</td>\n",
       "      <td>337</td>\n",
       "    </tr>\n",
       "    <tr>\n",
       "      <th>162</th>\n",
       "      <td>162</td>\n",
       "      <td>또한/MAJ /SP 글로벌/NNG /SP 공급/NNG 망/NNG /SP 재편/NNG...</td>\n",
       "      <td>338</td>\n",
       "    </tr>\n",
       "    <tr>\n",
       "      <th>162</th>\n",
       "      <td>162</td>\n",
       "      <td>향후/NNG /SP 경제/NNG 회복세/NNG 와/JC /SP 물가/NNG 의/JK...</td>\n",
       "      <td>339</td>\n",
       "    </tr>\n",
       "    <tr>\n",
       "      <th>162</th>\n",
       "      <td>162</td>\n",
       "      <td></td>\n",
       "      <td>340</td>\n",
       "    </tr>\n",
       "    <tr>\n",
       "      <th>162</th>\n",
       "      <td>162</td>\n",
       "      <td>Government/SL '/SY s/SL /SP View/SL</td>\n",
       "      <td>341</td>\n",
       "    </tr>\n",
       "  </tbody>\n",
       "</table>\n",
       "<p>33857 rows × 3 columns</p>\n",
       "</div>"
      ],
      "text/plain": [
       "      id                                               text  sent_id\n",
       "0      0                       Economic/SL /SP Situation/SL        0\n",
       "0      0  일부/NNG /SP 위원/NNG 은/JX /SP 반도체/NNG 시장/NNG 의/JK...        1\n",
       "0      0  이/NP 에/JKB /SP 대해/VV+EC /SP 관련/NNG 부서/NNG 에서/J...        2\n",
       "0      0  동/MM /SP 위원/NNG 은/JX /SP 1/SN //SC 4/SN 분기/NNG...        3\n",
       "0      0  이/NP 에/JKB /SP 대해/VV+EC /SP 관련/NNG 부서/NNG 에서/J...        4\n",
       "..   ...                                                ...      ...\n",
       "162  162  앞/NNG 으로/JKB /SP 코로나/NNG 19/SN /SP 충격/NNG 에서/J...      337\n",
       "162  162  또한/MAJ /SP 글로벌/NNG /SP 공급/NNG 망/NNG /SP 재편/NNG...      338\n",
       "162  162  향후/NNG /SP 경제/NNG 회복세/NNG 와/JC /SP 물가/NNG 의/JK...      339\n",
       "162  162                                                         340\n",
       "162  162                Government/SL '/SY s/SL /SP View/SL      341\n",
       "\n",
       "[33857 rows x 3 columns]"
      ]
     },
     "execution_count": 15,
     "metadata": {},
     "output_type": "execute_result"
    }
   ],
   "source": [
    "df"
   ]
  },
  {
   "cell_type": "code",
   "execution_count": 16,
   "metadata": {},
   "outputs": [
    {
     "name": "stderr",
     "output_type": "stream",
     "text": [
      "INFO:ekorpkit.io.cached_path:caching path: None, extract_archive: True, force_extract: False, cache_dir: /workspace/.cache\n",
      "INFO:ekorpkit.ekonf:Executing function functools.partial(<function load_dataframe at 0x7fe84bcb7af0>) with parms {'filepath': '../data/bok/bok_minutes_tokenized.parquet', 'columns': None, 'verbose': True}\n",
      "INFO:ekorpkit.io.file:Loading data from ../data/bok/bok_minutes_tokenized.parquet\n",
      "INFO:ekorpkit.io.file: >> elapsed time to load data: 0:00:00.136895\n",
      "INFO:ekorpkit.ekonf:Skipping execute of functools.partial(<function concat_dataframes at 0x7fe84bcb7a60>)\n",
      "INFO:ekorpkit.pipelines.pipe:Applying pipeline: OrderedDict([('extract_tokens', 'extract_tokens'), ('save_dataframe', 'save_dataframe')])\n",
      "INFO:ekorpkit.ekonf:Applying pipe: functools.partial(<function extract_tokens at 0x7fe9c95985e0>)\n",
      "INFO:ekorpkit.pipelines.pipe:instantiating tokenizer\n",
      "INFO:ekorpkit.preprocessors.tokenizer:Initializing mecab with {'userdic_path': '/workspace/projects/ekorpkit/ekorpkit/resources/dictionaries/mecab/ekon_v1.dic', 'backend': 'mecab-python3', 'verbose': True}...\n",
      "INFO:ekorpkit.preprocessors.tokenizer:instantiating ekorpkit.preprocessors.stopwords.Stopwords...\n",
      "INFO:ekorpkit.preprocessors.tokenizer:MecabTokenizer initialized with:\n",
      "INFO:ekorpkit.preprocessors.tokenizer:\treturn_as_list: False\n",
      "INFO:ekorpkit.models.tokenizer.mecab:MeCab uses mecab-python3 as backend.\n",
      "INFO:ekorpkit.models.tokenizer.mecab:Mecab uses system dictionary: /resources/.pyenv/versions/3.8.12/envs/ekonml38/lib/python3.8/site-packages/mecab_ko_dic/dicdir, user dictionary: /workspace/projects/ekorpkit/ekorpkit/resources/dictionaries/mecab/ekon_v1.dic\n",
      "INFO:ekorpkit.pipelines.pipe:extract_func: <bound method Tokenizer.extract_tokens of <ekorpkit.preprocessors.tokenizer.MecabTokenizer object at 0x7fe9cb4799d0>>\n"
     ]
    },
    {
     "data": {
      "application/vnd.jupyter.widget-view+json": {
       "model_id": "e904700e6c0b4eafa91fc0b36302e9e8",
       "version_major": 2,
       "version_minor": 0
      },
      "text/plain": [
       "Extracting column: text:   0%|          | 0/33857 [00:00<?, ?it/s]"
      ]
     },
     "metadata": {},
     "output_type": "display_data"
    },
    {
     "name": "stderr",
     "output_type": "stream",
     "text": [
      "INFO:ekorpkit.pipelines.pipe: >> elapsed time to extract tokens: 0:00:06.351701\n",
      "INFO:ekorpkit.ekonf:Applying pipe: functools.partial(<function save_dataframe at 0x7fe9c9598e50>)\n",
      "INFO:ekorpkit.io.file:Saving dataframe as ../data/bok/bok_minutes_tokens.parquet\n",
      "INFO:ekorpkit.io.file: >> elapsed time to save data: 0:00:00.726176\n",
      "INFO:ekorpkit.io.file: >> saved dataframe to ../data/bok/bok_minutes_tokens.parquet\n"
     ]
    }
   ],
   "source": [
    "tkn_cfg = eKonf.compose(config_group=\"preprocessor/tokenizer=mecab_econ\")\n",
    "tkn_cfg.extract.strip_pos = False\n",
    "\n",
    "cfg = eKonf.compose(config_group=\"pipeline\")\n",
    "cfg.data.data_dir = \"../data/bok\"\n",
    "cfg.data.data_file = \"bok_minutes_tokenized.parquet\"\n",
    "cfg._pipeline_ = [\"extract_tokens\", \"save_dataframe\"]\n",
    "cfg.num_workers = 100\n",
    "cfg.verbose = True\n",
    "cfg.extract_tokens.preprocessor.tokenizer = tkn_cfg\n",
    "cfg.extract_tokens.nouns_only = False\n",
    "cfg.save_dataframe.output_dir = \"../data/bok\"\n",
    "cfg.save_dataframe.output_file = \"bok_minutes_tokens.parquet\"\n",
    "df = eKonf.instantiate(cfg)"
   ]
  },
  {
   "cell_type": "code",
   "execution_count": 17,
   "metadata": {},
   "outputs": [
    {
     "data": {
      "text/html": [
       "<div>\n",
       "<style scoped>\n",
       "    .dataframe tbody tr th:only-of-type {\n",
       "        vertical-align: middle;\n",
       "    }\n",
       "\n",
       "    .dataframe tbody tr th {\n",
       "        vertical-align: top;\n",
       "    }\n",
       "\n",
       "    .dataframe thead th {\n",
       "        text-align: right;\n",
       "    }\n",
       "</style>\n",
       "<table border=\"1\" class=\"dataframe\">\n",
       "  <thead>\n",
       "    <tr style=\"text-align: right;\">\n",
       "      <th></th>\n",
       "      <th>id</th>\n",
       "      <th>text</th>\n",
       "      <th>sent_id</th>\n",
       "    </tr>\n",
       "  </thead>\n",
       "  <tbody>\n",
       "    <tr>\n",
       "      <th>0</th>\n",
       "      <td>0</td>\n",
       "      <td>Economic/SL Situation/SL</td>\n",
       "      <td>0</td>\n",
       "    </tr>\n",
       "    <tr>\n",
       "      <th>0</th>\n",
       "      <td>0</td>\n",
       "      <td>일부/NNG 위원/NNG 은/JX 반도체/NNG 시장/NNG 의/JKG 재고/NNG...</td>\n",
       "      <td>1</td>\n",
       "    </tr>\n",
       "    <tr>\n",
       "      <th>0</th>\n",
       "      <td>0</td>\n",
       "      <td>이/NP 에/JKB 대해/VV+EC 관련/NNG 부서/NNG 에서/JKB 는/JX ...</td>\n",
       "      <td>2</td>\n",
       "    </tr>\n",
       "    <tr>\n",
       "      <th>0</th>\n",
       "      <td>0</td>\n",
       "      <td>동/MM 위원/NNG 은/JX 1/SN / 4/SN 분기/NNG 중/NNB 경제/N...</td>\n",
       "      <td>3</td>\n",
       "    </tr>\n",
       "    <tr>\n",
       "      <th>0</th>\n",
       "      <td>0</td>\n",
       "      <td>이/NP 에/JKB 대해/VV+EC 관련/NNG 부서/NNG 에서/JKB 는/JX ...</td>\n",
       "      <td>4</td>\n",
       "    </tr>\n",
       "    <tr>\n",
       "      <th>...</th>\n",
       "      <td>...</td>\n",
       "      <td>...</td>\n",
       "      <td>...</td>\n",
       "    </tr>\n",
       "    <tr>\n",
       "      <th>162</th>\n",
       "      <td>162</td>\n",
       "      <td>앞/NNG 으로/JKB 코로나/NNG 19/SN 충격/NNG 에서/JKB 점차/MA...</td>\n",
       "      <td>337</td>\n",
       "    </tr>\n",
       "    <tr>\n",
       "      <th>162</th>\n",
       "      <td>162</td>\n",
       "      <td>또한/MAJ 글로벌/NNG 공급/NNG 망/NNG 재편/NNG 기후/NNG 변화/N...</td>\n",
       "      <td>338</td>\n",
       "    </tr>\n",
       "    <tr>\n",
       "      <th>162</th>\n",
       "      <td>162</td>\n",
       "      <td>향후/NNG 경제/NNG 회복세/NNG 와/JC 물가/NNG 의/JKG 흐름/NNG...</td>\n",
       "      <td>339</td>\n",
       "    </tr>\n",
       "    <tr>\n",
       "      <th>162</th>\n",
       "      <td>162</td>\n",
       "      <td></td>\n",
       "      <td>340</td>\n",
       "    </tr>\n",
       "    <tr>\n",
       "      <th>162</th>\n",
       "      <td>162</td>\n",
       "      <td>Government/SL s/SL View/SL</td>\n",
       "      <td>341</td>\n",
       "    </tr>\n",
       "  </tbody>\n",
       "</table>\n",
       "<p>33857 rows × 3 columns</p>\n",
       "</div>"
      ],
      "text/plain": [
       "      id                                               text  sent_id\n",
       "0      0                           Economic/SL Situation/SL        0\n",
       "0      0  일부/NNG 위원/NNG 은/JX 반도체/NNG 시장/NNG 의/JKG 재고/NNG...        1\n",
       "0      0  이/NP 에/JKB 대해/VV+EC 관련/NNG 부서/NNG 에서/JKB 는/JX ...        2\n",
       "0      0  동/MM 위원/NNG 은/JX 1/SN / 4/SN 분기/NNG 중/NNB 경제/N...        3\n",
       "0      0  이/NP 에/JKB 대해/VV+EC 관련/NNG 부서/NNG 에서/JKB 는/JX ...        4\n",
       "..   ...                                                ...      ...\n",
       "162  162  앞/NNG 으로/JKB 코로나/NNG 19/SN 충격/NNG 에서/JKB 점차/MA...      337\n",
       "162  162  또한/MAJ 글로벌/NNG 공급/NNG 망/NNG 재편/NNG 기후/NNG 변화/N...      338\n",
       "162  162  향후/NNG 경제/NNG 회복세/NNG 와/JC 물가/NNG 의/JKG 흐름/NNG...      339\n",
       "162  162                                                         340\n",
       "162  162                         Government/SL s/SL View/SL      341\n",
       "\n",
       "[33857 rows x 3 columns]"
      ]
     },
     "execution_count": 17,
     "metadata": {},
     "output_type": "execute_result"
    }
   ],
   "source": [
    "df"
   ]
  },
  {
   "cell_type": "code",
   "execution_count": 18,
   "metadata": {},
   "outputs": [
    {
     "name": "stderr",
     "output_type": "stream",
     "text": [
      "INFO:ekorpkit.io.cached_path:caching path: None, extract_archive: True, force_extract: False, cache_dir: /workspace/.cache\n",
      "INFO:ekorpkit.models.ngram.base:instantiating ekorpkit.preprocessors.tokenizer.SimpleTokenizer...\n",
      "INFO:ekorpkit.preprocessors.tokenizer:instantiating ekorpkit.preprocessors.stopwords.Stopwords...\n",
      "INFO:ekorpkit.io.file:Loading data from /workspace/projects/esgml/outputs/ngrams/mutual_information_ngram_model.parquet\n",
      "INFO:ekorpkit.io.file: >> elapsed time to load data: 0:00:00.027975\n",
      "INFO:ekorpkit.models.ngram.base:loaded 55791 candidates\n",
      "INFO:ekorpkit.ekonf:Executing function functools.partial(<function load_dataframe at 0x7fe84bcb7af0>) with parms {'filepath': '../data/bok/bok_minutes_tokens.parquet', 'columns': None, 'verbose': True}\n",
      "INFO:ekorpkit.io.file:Loading data from ../data/bok/bok_minutes_tokens.parquet\n",
      "INFO:ekorpkit.io.file: >> elapsed time to load data: 0:00:00.135371\n",
      "INFO:ekorpkit.ekonf:Executing function functools.partial(<function concat_dataframes at 0x7fe84bcb7a60>) with parms {'add_key_as_name': False, 'name_column': '_name_', 'concat': None, 'data':       id                                               text  sent_id\n",
      "0      0                           Economic/SL Situation/SL        0\n",
      "0      0  일부/NNG 위원/NNG 은/JX 반도체/NNG 시장/NNG 의/JKG 재고/NNG...        1\n",
      "0      0  이/NP 에/JKB 대해/VV+EC 관련/NNG 부서/NNG 에서/JKB 는/JX ...        2\n",
      "0      0  동/MM 위원/NNG 은/JX 1/SN / 4/SN 분기/NNG 중/NNB 경제/N...        3\n",
      "0      0  이/NP 에/JKB 대해/VV+EC 관련/NNG 부서/NNG 에서/JKB 는/JX ...        4\n",
      "..   ...                                                ...      ...\n",
      "162  162  앞/NNG 으로/JKB 코로나/NNG 19/SN 충격/NNG 에서/JKB 점차/MA...      337\n",
      "162  162  또한/MAJ 글로벌/NNG 공급/NNG 망/NNG 재편/NNG 기후/NNG 변화/N...      338\n",
      "162  162  향후/NNG 경제/NNG 회복세/NNG 와/JC 물가/NNG 의/JKG 흐름/NNG...      339\n",
      "162  162                                                         340\n",
      "162  162                         Government/SL s/SL View/SL      341\n",
      "\n",
      "[33857 rows x 3 columns]}\n",
      "9939it [00:10, 833.03it/s] INFO:ekorpkit.models.ngram.score:pruned out 832559 tokens with count <=2 (before 926970, after 94411)\n",
      "19928it [00:23, 786.61it/s]INFO:ekorpkit.models.ngram.score:pruned out 1009892 tokens with count <=2 (before 1170340, after 160448)\n",
      "29894it [00:34, 1068.24it/s]INFO:ekorpkit.models.ngram.score:pruned out 787048 tokens with count <=2 (before 983523, after 196475)\n",
      "33857it [00:38, 873.31it/s] \n"
     ]
    },
    {
     "name": "stdout",
     "output_type": "stream",
     "text": [
      "learning ngrams was done. memory= 0.897 Gb\n"
     ]
    },
    {
     "name": "stderr",
     "output_type": "stream",
     "text": [
      "100%|██████████| 69233/69233 [00:00<00:00, 169570.61it/s]\n",
      "INFO:ekorpkit.io.file:Saving dataframe as /workspace/projects/esgml/outputs/ngrams/mutual_information_ngram_model.parquet\n",
      "INFO:ekorpkit.io.file: >> elapsed time to save data: 0:00:00.172006\n",
      "INFO:ekorpkit.io.file: >> saved dataframe to /workspace/projects/esgml/outputs/ngrams/mutual_information_ngram_model.parquet\n"
     ]
    }
   ],
   "source": [
    "ngram_cfg = eKonf.compose(config_group=\"model/ngram=npmi\")\n",
    "ngram_cfg.data.data_dir = \"../data/bok\"\n",
    "ngram_cfg.data.data_file = \"bok_minutes_tokens.parquet\"\n",
    "ngram_cfg.verbose = True\n",
    "ngram_cfg.force_train = True\n",
    "ngram_cfg.analyze.threshold = 0.7\n",
    "ngram = eKonf.instantiate(ngram_cfg)"
   ]
  },
  {
   "cell_type": "code",
   "execution_count": 19,
   "metadata": {},
   "outputs": [
    {
     "name": "stdout",
     "output_type": "stream",
     "text": [
      "69233 65414\n"
     ]
    }
   ],
   "source": [
    "print(len(ngram.ngrams), len(ngram.candidates))"
   ]
  },
  {
   "cell_type": "code",
   "execution_count": 20,
   "metadata": {},
   "outputs": [
    {
     "data": {
      "text/plain": [
       "[(('팬/NNG', '차트/NNG'),\n",
       "  ngram(words='팬/NNG;차트/NNG', length=69233, frequency=13, score=1.0)),\n",
       " (('Participants/SL', 'Views/SL'),\n",
       "  ngram(words='Participants/SL;Views/SL', length=69233, frequency=163, score=1.0)),\n",
       " (('기획/NNG', '재정부/NNG'),\n",
       "  ngram(words='기획/NNG;재정부/NNG', length=69233, frequency=74, score=1.0)),\n",
       " (('스프/NNG', '레드/NNP'),\n",
       "  ngram(words='스프/NNG;레드/NNP', length=69233, frequency=159, score=1.0)),\n",
       " (('상고/NNG', '하저/NNG'),\n",
       "  ngram(words='상고/NNG;하저/NNG', length=69233, frequency=13, score=1.0)),\n",
       " (('랩/NNG', '어카운트/NNG'),\n",
       "  ngram(words='랩/NNG;어카운트/NNG', length=69233, frequency=11, score=1.0)),\n",
       " (('베이비/NNP', '부머/NNP'),\n",
       "  ngram(words='베이비/NNP;부머/NNP', length=69233, frequency=15, score=1.0)),\n",
       " (('컨/NNP', '센서스/NNG'),\n",
       "  ngram(words='컨/NNP;센서스/NNG', length=69233, frequency=11, score=1.0)),\n",
       " (('secular/SL', 'stagnation/SL'),\n",
       "  ngram(words='secular/SL;stagnation/SL', length=69233, frequency=11, score=1.0)),\n",
       " (('팬데/NNBC+VCP+EC', '믹/NNG'),\n",
       "  ngram(words='팬데/NNBC+VCP+EC;믹/NNG', length=69233, frequency=30, score=1.0)),\n",
       " (('소상/NNG', '공인/NNG'),\n",
       "  ngram(words='소상/NNG;공인/NNG', length=69233, frequency=17, score=1.0)),\n",
       " (('Government/SL', 's/SL', 'View/SL'),\n",
       "  ngram(words='Government/SL;s/SL;View/SL', length=69233, frequency=163, score=0.9996733913247462)),\n",
       " (('포워드/NNG', '가/JKS', '이/MM', '던스/NNP'),\n",
       "  ngram(words='포워드/NNG;가/JKS;이/MM;던스/NNP', length=69233, frequency=76, score=0.9995696965729133)),\n",
       " (('농축/NNG', '수산물/NNG'),\n",
       "  ngram(words='농축/NNG;수산물/NNG', length=69233, frequency=122, score=0.9983154892108637)),\n",
       " (('Economic/SL', 'Situation/SL'),\n",
       "  ngram(words='Economic/SL;Situation/SL', length=69233, frequency=163, score=0.9980522128127427)),\n",
       " (('Foreign/SL', 'Currency/SL'),\n",
       "  ngram(words='Foreign/SL;Currency/SL', length=69233, frequency=163, score=0.9980443188991523)),\n",
       " (('유고/NNG', '퇴석/NNG'),\n",
       "  ngram(words='유고/NNG;퇴석/NNG', length=69233, frequency=46, score=0.9979765232199711)),\n",
       " (('Monetary/SL', 'Policy/SL'),\n",
       "  ngram(words='Monetary/SL;Policy/SL', length=69233, frequency=168, score=0.9974639597580879)),\n",
       " (('서브/NNG', '프라임/NNG'),\n",
       "  ngram(words='서브/NNG;프라임/NNG', length=69233, frequency=112, score=0.9972697474864088)),\n",
       " (('탠/NNP', '트/NNG', '럼/NNG'),\n",
       "  ngram(words='탠/NNP;트/NNG;럼/NNG', length=69233, frequency=32, score=0.9972421412368773)),\n",
       " (('버리/NNG', '징/NNG'),\n",
       "  ngram(words='버리/NNG;징/NNG', length=69233, frequency=163, score=0.996773147179239)),\n",
       " (('계부/NNG', '채비/NNG'),\n",
       "  ngram(words='계부/NNG;채비/NNG', length=69233, frequency=27, score=0.996741585562631)),\n",
       " (('자영/NNG', '업자/NNG'),\n",
       "  ngram(words='자영/NNG;업자/NNG', length=69233, frequency=56, score=0.9966065566838203)),\n",
       " (('용스/NNP', '프레드/NNP'),\n",
       "  ngram(words='용스/NNP;프레드/NNP', length=69233, frequency=118, score=0.9965368829530842)),\n",
       " (('아베노/NNP', '믹스/NNG'),\n",
       "  ngram(words='아베노/NNP;믹스/NNG', length=69233, frequency=48, score=0.9961436963965642)),\n",
       " (('청탁/NNG', '금지법/NNG'),\n",
       "  ngram(words='청탁/NNG;금지법/NNG', length=69233, frequency=22, score=0.9960890383842059)),\n",
       " (('forward/SL', 'guidance/SL'),\n",
       "  ngram(words='forward/SL;guidance/SL', length=69233, frequency=19, score=0.9955445739723343)),\n",
       " (('대차/NNG', '대조표/NNG'),\n",
       "  ngram(words='대차/NNG;대조표/NNG', length=69233, frequency=55, score=0.994857571114601)),\n",
       " (('심/VV', '도/EC'),\n",
       "  ngram(words='심/VV;도/EC', length=69233, frequency=139, score=0.9940464763698286)),\n",
       " (('디레/NNG', '버리/NNG', '징/NNG'),\n",
       "  ngram(words='디레/NNG;버리/NNG;징/NNG', length=69233, frequency=160, score=0.9931787595376458)),\n",
       " (('최종대/NNP', '부자/NNG'),\n",
       "  ngram(words='최종대/NNP;부자/NNG', length=69233, frequency=11, score=0.9927845813000934)),\n",
       " (('모/NNG', '멘/VV+ETM', '텀/NNG'),\n",
       "  ngram(words='모/NNG;멘/VV+ETM;텀/NNG', length=69233, frequency=310, score=0.9922450724817632)),\n",
       " (('디레/NNG', '버리/NNG'),\n",
       "  ngram(words='디레/NNG;버리/NNG', length=69233, frequency=160, score=0.9915580252968402)),\n",
       " (('Financial/SL', 'Markets/SL'),\n",
       "  ngram(words='Financial/SL;Markets/SL', length=69233, frequency=163, score=0.9911108656806468)),\n",
       " (('민/XPN', '감도/NNG'),\n",
       "  ngram(words='민/XPN;감도/NNG', length=69233, frequency=27, score=0.9905600642226081))]"
      ]
     },
     "execution_count": 20,
     "metadata": {},
     "output_type": "execute_result"
    }
   ],
   "source": [
    "ngram.export_ngrams(threshold=0.99)"
   ]
  },
  {
   "cell_type": "code",
   "execution_count": 23,
   "metadata": {},
   "outputs": [
    {
     "name": "stdout",
     "output_type": "stream",
     "text": [
      "[(('또한/MAJ',), (0,), -inf), (('동/MM', '위원/NNG'), (1, 2), 0.8571117994573503), (('은/JX',), (3,), -inf), (('금융/NNG',), (4,), -inf), (('중개/NNG', '기능/NNG'), (5, 6), 0.8121048220550261), (('의/JKG',), (7,), -inf), (('회복/NNG',), (8,), -inf), (('이/JKS',), (9,), -inf), (('민간/NNG', '소비/NNG'), (10, 11), 0.7433082274063262), (('나/JC',), (12,), -inf), (('투자/NNG',), (13,), -inf), (('등/NNB',), (14,), -inf), (('에/JKB',), (15,), -inf), (('어떤/MM',), (16,), -inf), (('경로/NNG', '를/JKO', '통해/VV+EC'), (17, 18, 19), 0.5137579864890406), (('어느/MM', '정도/NNG'), (20, 21), 0.8505533723506633), (('의/JKG',), (22,), -inf), (('시차/NNG', '를/JKO', '두/VV'), (23, 24, 25), 0.8912732072422118), (('고/EC',), (26,), -inf), (('영향/NNG', '을/JKO', '미칠/VV+ETM'), (27, 28, 29), 0.7106843589489495), (('것/NNB', '으로/JKB'), (30, 31), 0.6889820633557472), (('보/VV',), (32,), -inf), (('는지/EC',), (33,), -inf), (('물/VV', '었/EP', '으며/EC'), (34, 35, 36), 0.861000953002249), (('이/NP',), (37,), -inf), (('에/JKB',), (38,), -inf), (('대해/VV+EC',), (39,), -inf), (('관련/NNG', '부서/NNG'), (40, 41), 0.9168197690960121), (('에서/JKB',), (42,), -inf), (('는/JX',), (43,), -inf), (('기업/NNG', '대출/NNG'), (44, 45), 0.412085480797838), (('이나/JC',), (46,), -inf), (('가계/NNG', '대출/NNG'), (47, 48), 0.6283986553138674), (('이/JKS',), (49,), -inf), (('늘어난다는/VV+ETM',), (50,), -inf), (('것/NNB', '은/JX'), (51, 52), 0.24466139445824064), (('결국/NNG',), (53,), -inf), (('기업/NNG', '이나/JC'), (54, 55), 0.2093738706653122), (('가계/NNG',), (56,), -inf), (('에서/JKB',), (57,), -inf), (('투자/NNG', '나/JC', '소비/NNG'), (58, 59, 60), 0.453474862576427), (('를/JKO', '위한/VV+ETM'), (61, 62), 0.30760902474313145), (('자금/NNG',), (63,), -inf), (('수요/NNG',), (64,), -inf), (('가/JKS',), (65,), -inf), (('있/VA', '다는/ETM'), (66, 67), 0.6997601232468128), (('것/NNB',), (68,), -inf), (('을/JKO',), (69,), -inf), (('의미/NNG',), (70,), -inf), (('하/XSV',), (71,), -inf), (('기/ETN', '때문/NNB'), (72, 73), 0.8200701784388316), (('에/JKB',), (74,), -inf), (('큰/VA+ETM',), (75,), -inf), (('시차/NNG',), (76,), -inf), (('없이/MAG',), (77,), -inf), (('투자/NNG', '나/JC', '소비/NNG'), (78, 79, 80), 0.453474862576427), (('로/JKB',), (81,), -inf), (('이어질/VV+ETM',), (82,), -inf), (('것/NNB', '으로/JKB'), (83, 84), 0.6889820633557472), (('보이/VV',), (85,), -inf), (('며/EC',), (86,), -inf), (('경기/NNG', '회복/NNG'), (87, 88), 0.5772019374608413), (('에/JKB',), (89,), -inf), (('긍정/NNG',), (90,), -inf), (('적/XSN', '인/VCP+ETM'), (91, 92), 0.7330650501707457), (('신호/NNG',), (93,), -inf), (('로/JKB',), (94,), -inf), (('해석/NNG',), (95,), -inf), (('될/XSV+ETM',), (96,), -inf), (('수/NNB', '있/VV'), (97, 98), 0.8661744088418416), (('을/ETM',), (99,), -inf), (('것/NNB',), (100,), -inf), (('이/VCP', '라고/EC'), (101, 102), 0.797525544492093), (('답변/NNG',), (103,), -inf), (('하/XSV',), (104,), -inf), (('였/EP', '음/ETN'), (105, 106), 0.8209941157915407)]\n"
     ]
    }
   ],
   "source": [
    "sentence = ngram.sentences[185]\n",
    "tokens = ngram.analyze_sentence(sentence)\n",
    "print(tokens)"
   ]
  },
  {
   "cell_type": "code",
   "execution_count": 22,
   "metadata": {},
   "outputs": [
    {
     "name": "stderr",
     "output_type": "stream",
     "text": [
      "100%|██████████| 95/95 [00:00<00:00, 292.11it/s]\n"
     ]
    },
    {
     "data": {
      "text/plain": [
       "{'동/MM;위원/NNG': 0.8571117994573503,\n",
       " '지/EC;않/VX': 0.9288737121404058,\n",
       " '우리/NP;나라/NNG': 0.8577118459927383,\n",
       " '기/ETN;때문/NNB': 0.8200701784388316,\n",
       " '좀/MAG;더/MAG': 0.8435575048789024,\n",
       " '심/VV;도/EC': 0.9940464763698286,\n",
       " '필요/NNG;가/JKS;있/VA': 0.8847611991765111,\n",
       " '였/EP;음/ETN': 0.8209941157915407,\n",
       " '다른/MM;일부/NNG;위원/NNG': 0.8482672573230542,\n",
       " '전년/NNG;동월/NNG': 0.9332931233041369,\n",
       " '설/NNG;연휴/NNG': 0.8269822129068313,\n",
       " '관련/NNG;부서/NNG': 0.9168197690960121,\n",
       " '크/VA;게/EC': 0.8172015114853018,\n",
       " '통화/NNG;정책/NNG': 0.8139724869025275,\n",
       " '이루/VV;어/EC;지/VX': 0.8289837999717533,\n",
       " '고/EC;있/VX': 0.8682925860633826,\n",
       " '석유/NNG;류/XSN': 0.9462400515160818,\n",
       " '어느/MM;정도/NNG': 0.8505533723506633,\n",
       " '상관/NNG;관계/NNG': 0.8073520564999278,\n",
       " '또/MAG;다른/MM': 0.8452944259337352,\n",
       " '위원/NNG;은/JX': 0.8281135328522613,\n",
       " '수/NNB;있/VV': 0.8661744088418416,\n",
       " '/;4/SN;분기/NNG': 0.9533853055776178,\n",
       " '금/MAJ;통/MAG': 0.9897095511849906,\n",
       " '염두/NNG;에/JKB;두/VV': 0.8615397605001135,\n",
       " 'Foreign/SL;Currency/SL': 0.9980443188991523,\n",
       " '주/NNG;요국/NNG': 0.8718995285314148,\n",
       " '내외/NNG;금리/NNG;차/NNG': 0.8811250639273045,\n",
       " '외환/NNG;보유/NNG;액/NNG': 0.8522283951580113,\n",
       " '경상/NNG;수지/NNG': 0.9462199916199137,\n",
       " '불구/XR;하/XSA': 0.8392655369169931,\n",
       " '원/NNG;/;달러/NNG': 0.8943684581481943,\n",
       " '억/NR;달러/NNBC': 0.9355391489154629,\n",
       " '이/VCP;라는/ETM': 0.8089443392440886,\n",
       " '가능/NNG;성/XSN': 0.8175769318002877,\n",
       " '이/NP;에/JKB;대해/VV+EC': 0.8248706177416023,\n",
       " 'Financial/SL;Markets/SL': 0.9911108656806468,\n",
       " '조/NR;원/NNBC': 0.9638638735113905,\n",
       " '번/NNBC;째/XSN': 0.843731029972542,\n",
       " '예/NNG;의/JKG;주시/NNG': 0.952158528049305,\n",
       " '무엇/NP;인지/VCP+EC': 0.8184617651319259,\n",
       " '물/VV;었/EP;으며/EC': 0.861000953002249,\n",
       " 'Monetary/SL;Policy/SL': 0.9974639597580879,\n",
       " '팬/NNG;차트/NNG': 1.0,\n",
       " '콜/NNG;금리/NNG;목표/NNG': 0.8606514466677557,\n",
       " '원리금/NNG;상환/NNG': 0.8322552550849169,\n",
       " '저점/NNG;을/JKO;통과/NNG': 0.8280556580473707,\n",
       " '국고/NNG;채/MAG': 0.948931848894167,\n",
       " '차지/NNG;하/XSV;는/ETM;비중/NNG': 0.8781708119034008,\n",
       " '총액/NNG;한도/NNG': 0.8095654682202557,\n",
       " 'Participants/SL;Views/SL': 1.0,\n",
       " '불/XPN;확실/XR': 0.9306822375455339,\n",
       " '다음/NNG;과/JKB;같/VA;은/ETM;점/NNG': 0.833954480119078,\n",
       " '사상/NNG;최고/NNG': 0.8686840955192623,\n",
       " '종합/NNG;적/XSN;으로/JKB;고려/NNG': 0.8499835765802546,\n",
       " '조금/MAG;씩/XSN': 0.8080204462350749,\n",
       " '시차/NNG;를/JKO;두/VV': 0.8912732072422118,\n",
       " '장/NNG;단기/NNG': 0.8213069201532289,\n",
       " '다음/NNG;과/JKB;같/VA': 0.8249293688108195,\n",
       " '이번/NNG;달/NNG': 0.8653777709275999,\n",
       " '나가/VX;야/EC': 0.8469204933162964,\n",
       " '여러/MM;가지/NNBC': 0.81055149792114,\n",
       " '뿐/JX;만/JX;아니/VCN;라/EC': 0.9235133764296668,\n",
       " 'GDP/SL;갭/NNG': 0.8358461649723059,\n",
       " '데/NNB;다/JX': 0.8456807246480326,\n",
       " '가계/NNG;부채/NNG': 0.8207885970593454,\n",
       " '의결/NNG;문안/NNG': 0.9822319150858655,\n",
       " 'Government/SL;s/SL;View/SL': 0.9996733913247462,\n",
       " 'Economic/SL;Situation/SL': 0.9980522128127427,\n",
       " '전년/NNG;동기/NNG': 0.8427926155780523,\n",
       " '소매/NNG;판매/NNG': 0.9434841528213602,\n",
       " '감안/NNG;할/XSV+ETM;때/NNG': 0.8106440918651555,\n",
       " '취업/NNG;자수/NNG': 0.964601651226736,\n",
       " '조업/NNG;일수/NNG': 0.8944206950095166,\n",
       " '나름/NNB;대로/JKB': 0.9398526487368731}"
      ]
     },
     "execution_count": 22,
     "metadata": {},
     "output_type": "execute_result"
    }
   ],
   "source": [
    "ngram.find_ngrams(ngram.sentences[10:105], strip_pos=False, threshold=0.8)\n"
   ]
  },
  {
   "cell_type": "code",
   "execution_count": null,
   "metadata": {},
   "outputs": [],
   "source": []
  }
 ],
 "metadata": {
  "colab": {
   "name": "preprocessor.ipynb",
   "provenance": []
  },
  "interpreter": {
   "hash": "f869af7787e6a1c49e09e367fc6e1b81d93d1c6583b43249c80edc047bd13cb2"
  },
  "kernelspec": {
   "display_name": "Python 3",
   "language": "python",
   "name": "python3"
  },
  "language_info": {
   "codemirror_mode": {
    "name": "ipython",
    "version": 3
   },
   "file_extension": ".py",
   "mimetype": "text/x-python",
   "name": "python",
   "nbconvert_exporter": "python",
   "pygments_lexer": "ipython3",
   "version": "3.8.12"
  },
  "widgets": {
   "application/vnd.jupyter.widget-state+json": {
    "state": {},
    "version_major": 2,
    "version_minor": 0
   }
  }
 },
 "nbformat": 4,
 "nbformat_minor": 1
}
