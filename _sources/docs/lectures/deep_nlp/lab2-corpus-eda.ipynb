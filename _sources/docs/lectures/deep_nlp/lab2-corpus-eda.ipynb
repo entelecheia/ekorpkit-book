{
 "cells": [
  {
   "cell_type": "markdown",
   "metadata": {
    "id": "cjgz1WTcPWee"
   },
   "source": [
    "# Lab 2: EDA on Corpora\n",
    "\n",
    "![](../figs/deep_nlp/lab/eda.png)"
   ]
  },
  {
   "cell_type": "markdown",
   "metadata": {},
   "source": [
    "## Prepare the Environment"
   ]
  },
  {
   "cell_type": "code",
   "execution_count": null,
   "metadata": {},
   "outputs": [],
   "source": [
    "%pip install --pre ekorpkit[wiki,fetch]"
   ]
  },
  {
   "cell_type": "code",
   "execution_count": 1,
   "metadata": {
    "id": "BzxPwsOVPWef"
   },
   "outputs": [
    {
     "name": "stderr",
     "output_type": "stream",
     "text": [
      "INFO:ekorpkit.utils.notebook:Google Colab not detected.\n",
      "INFO:ekorpkit.base:Setting EKORPKIT_WORKSPACE_ROOT to /content/drive/MyDrive/workspace/\n",
      "INFO:ekorpkit.base:Setting EKORPKIT_PROJECT to ekorpkit-book\n",
      "INFO:ekorpkit.base:Loaded .env from /workspace/projects/ekorpkit-book/config/.env\n"
     ]
    },
    {
     "name": "stdout",
     "output_type": "stream",
     "text": [
      "version: 0.1.40.post0.dev5\n",
      "is colab? False\n",
      "project_dir: /content/drive/MyDrive/workspace/projects/ekorpkit-book\n",
      "time: 1.67 s (started: 2022-11-04 03:42:23 +00:00)\n"
     ]
    }
   ],
   "source": [
    "%config InlineBackend.figure_format='retina'\n",
    "%load_ext autotime\n",
    "\n",
    "from ekorpkit import eKonf\n",
    "\n",
    "eKonf.setLogger(\"INFO\")\n",
    "print(\"version:\", eKonf.__version__)\n",
    "\n",
    "is_colab = eKonf.is_colab()\n",
    "print(\"is colab?\", is_colab)\n",
    "if is_colab:\n",
    "    eKonf.mount_google_drive()\n",
    "project_dir = eKonf.set_workspace(workspace=\"/content/drive/MyDrive/workspace/\", project=\"ekorpkit-book\")\n",
    "print(\"project_dir:\", project_dir)"
   ]
  },
  {
   "cell_type": "markdown",
   "metadata": {
    "id": "it1Y0MVPXRsJ"
   },
   "source": [
    "## Load the saved corpora"
   ]
  },
  {
   "cell_type": "code",
   "execution_count": 2,
   "metadata": {},
   "outputs": [
    {
     "name": "stderr",
     "output_type": "stream",
     "text": [
      "INFO:ekorpkit.io.file:Processing [1] files from ['wiki_corpus.parquet']\n",
      "INFO:ekorpkit.io.file:Loading 1 dataframes from ['/content/drive/MyDrive/workspace/projects/ekorpkit-book/data/wiki_corpus.parquet']\n",
      "INFO:ekorpkit.io.file:Loading data from /content/drive/MyDrive/workspace/projects/ekorpkit-book/data/wiki_corpus.parquet\n"
     ]
    },
    {
     "name": "stdout",
     "output_type": "stream",
     "text": [
      "time: 14.4 s (started: 2022-11-04 03:42:25 +00:00)\n"
     ]
    }
   ],
   "source": [
    "data = eKonf.load_data(\"wiki_corpus.parquet\", project_dir + \"/data\")"
   ]
  },
  {
   "cell_type": "code",
   "execution_count": 3,
   "metadata": {},
   "outputs": [
    {
     "data": {
      "text/html": [
       "<div>\n",
       "<style scoped>\n",
       "    .dataframe tbody tr th:only-of-type {\n",
       "        vertical-align: middle;\n",
       "    }\n",
       "\n",
       "    .dataframe tbody tr th {\n",
       "        vertical-align: top;\n",
       "    }\n",
       "\n",
       "    .dataframe thead th {\n",
       "        text-align: right;\n",
       "    }\n",
       "</style>\n",
       "<table border=\"1\" class=\"dataframe\">\n",
       "  <thead>\n",
       "    <tr style=\"text-align: right;\">\n",
       "      <th></th>\n",
       "      <th>id</th>\n",
       "      <th>text</th>\n",
       "      <th>split</th>\n",
       "      <th>filename</th>\n",
       "      <th>corpus</th>\n",
       "    </tr>\n",
       "  </thead>\n",
       "  <tbody>\n",
       "    <tr>\n",
       "      <th>0</th>\n",
       "      <td>4915400</td>\n",
       "      <td></td>\n",
       "      <td>train</td>\n",
       "      <td>wiki_92</td>\n",
       "      <td>enwiki_sampled</td>\n",
       "    </tr>\n",
       "    <tr>\n",
       "      <th>1</th>\n",
       "      <td>7644961</td>\n",
       "      <td>Anaissini is a tribe of click beetles in the f...</td>\n",
       "      <td>train</td>\n",
       "      <td>wiki_49</td>\n",
       "      <td>enwiki_sampled</td>\n",
       "    </tr>\n",
       "    <tr>\n",
       "      <th>2</th>\n",
       "      <td>6658552</td>\n",
       "      <td>The Vicky Metcalf Award for Literature for You...</td>\n",
       "      <td>train</td>\n",
       "      <td>wiki_24</td>\n",
       "      <td>enwiki_sampled</td>\n",
       "    </tr>\n",
       "    <tr>\n",
       "      <th>3</th>\n",
       "      <td>16385169</td>\n",
       "      <td>Shri Shivabalayogi Maharaj (24 January 1935 – ...</td>\n",
       "      <td>train</td>\n",
       "      <td>wiki_36</td>\n",
       "      <td>enwiki_sampled</td>\n",
       "    </tr>\n",
       "    <tr>\n",
       "      <th>4</th>\n",
       "      <td>11081255</td>\n",
       "      <td>Eylex Films Pvt is a chain of multiplex and si...</td>\n",
       "      <td>train</td>\n",
       "      <td>wiki_94</td>\n",
       "      <td>enwiki_sampled</td>\n",
       "    </tr>\n",
       "  </tbody>\n",
       "</table>\n",
       "</div>"
      ],
      "text/plain": [
       "         id                                               text  split  \\\n",
       "0   4915400                                                     train   \n",
       "1   7644961  Anaissini is a tribe of click beetles in the f...  train   \n",
       "2   6658552  The Vicky Metcalf Award for Literature for You...  train   \n",
       "3  16385169  Shri Shivabalayogi Maharaj (24 January 1935 – ...  train   \n",
       "4  11081255  Eylex Films Pvt is a chain of multiplex and si...  train   \n",
       "\n",
       "  filename          corpus  \n",
       "0  wiki_92  enwiki_sampled  \n",
       "1  wiki_49  enwiki_sampled  \n",
       "2  wiki_24  enwiki_sampled  \n",
       "3  wiki_36  enwiki_sampled  \n",
       "4  wiki_94  enwiki_sampled  "
      ]
     },
     "execution_count": 3,
     "metadata": {},
     "output_type": "execute_result"
    },
    {
     "name": "stdout",
     "output_type": "stream",
     "text": [
      "time: 10.8 ms (started: 2022-11-04 03:42:40 +00:00)\n"
     ]
    }
   ],
   "source": [
    "data.head()"
   ]
  },
  {
   "cell_type": "code",
   "execution_count": 4,
   "metadata": {},
   "outputs": [
    {
     "name": "stdout",
     "output_type": "stream",
     "text": [
      "<class 'pandas.core.frame.DataFrame'>\n",
      "RangeIndex: 2522593 entries, 0 to 2522592\n",
      "Data columns (total 5 columns):\n",
      " #   Column    Dtype \n",
      "---  ------    ----- \n",
      " 0   id        int64 \n",
      " 1   text      object\n",
      " 2   split     object\n",
      " 3   filename  object\n",
      " 4   corpus    object\n",
      "dtypes: int64(1), object(4)\n",
      "memory usage: 96.2+ MB\n",
      "time: 3.7 ms (started: 2022-11-04 03:42:40 +00:00)\n"
     ]
    }
   ],
   "source": [
    "data.info()"
   ]
  },
  {
   "cell_type": "markdown",
   "metadata": {},
   "source": [
    "### Filter and use only selected corpora"
   ]
  },
  {
   "cell_type": "code",
   "execution_count": 7,
   "metadata": {},
   "outputs": [
    {
     "data": {
      "text/html": [
       "<div>\n",
       "<style scoped>\n",
       "    .dataframe tbody tr th:only-of-type {\n",
       "        vertical-align: middle;\n",
       "    }\n",
       "\n",
       "    .dataframe tbody tr th {\n",
       "        vertical-align: top;\n",
       "    }\n",
       "\n",
       "    .dataframe thead th {\n",
       "        text-align: right;\n",
       "    }\n",
       "</style>\n",
       "<table border=\"1\" class=\"dataframe\">\n",
       "  <thead>\n",
       "    <tr style=\"text-align: right;\">\n",
       "      <th></th>\n",
       "      <th>id</th>\n",
       "      <th>text</th>\n",
       "      <th>split</th>\n",
       "      <th>filename</th>\n",
       "      <th>corpus</th>\n",
       "    </tr>\n",
       "  </thead>\n",
       "  <tbody>\n",
       "    <tr>\n",
       "      <th>2174042</th>\n",
       "      <td>1339043</td>\n",
       "      <td>《그랜드 테프트 오토 2》()는 1999년 8월 22일 전 세계적으로 발매된 록스타...</td>\n",
       "      <td>train</td>\n",
       "      <td>wiki_34</td>\n",
       "      <td>kowiki</td>\n",
       "    </tr>\n",
       "    <tr>\n",
       "      <th>2174043</th>\n",
       "      <td>1339044</td>\n",
       "      <td>알아크사 모스크( المسجد الأقصى; מסגד אל-אקצא; Al-Aqsa...</td>\n",
       "      <td>train</td>\n",
       "      <td>wiki_34</td>\n",
       "      <td>kowiki</td>\n",
       "    </tr>\n",
       "    <tr>\n",
       "      <th>2174044</th>\n",
       "      <td>1339045</td>\n",
       "      <td>PlanetBoom(함경민)은 펜타비전에서 사운드 프로듀서를 맡고 있는 대한민국의 ...</td>\n",
       "      <td>train</td>\n",
       "      <td>wiki_34</td>\n",
       "      <td>kowiki</td>\n",
       "    </tr>\n",
       "    <tr>\n",
       "      <th>2174045</th>\n",
       "      <td>1339046</td>\n",
       "      <td></td>\n",
       "      <td>train</td>\n",
       "      <td>wiki_34</td>\n",
       "      <td>kowiki</td>\n",
       "    </tr>\n",
       "    <tr>\n",
       "      <th>2174046</th>\n",
       "      <td>1339047</td>\n",
       "      <td>《그랜드 테프트 오토 3》(, GTA III) 은 DMA디자인(현재의 록스타 노스)...</td>\n",
       "      <td>train</td>\n",
       "      <td>wiki_34</td>\n",
       "      <td>kowiki</td>\n",
       "    </tr>\n",
       "  </tbody>\n",
       "</table>\n",
       "</div>"
      ],
      "text/plain": [
       "              id                                               text  split  \\\n",
       "2174042  1339043  《그랜드 테프트 오토 2》()는 1999년 8월 22일 전 세계적으로 발매된 록스타...  train   \n",
       "2174043  1339044  알아크사 모스크( المسجد الأقصى; מסגד אל-אקצא; Al-Aqsa...  train   \n",
       "2174044  1339045  PlanetBoom(함경민)은 펜타비전에서 사운드 프로듀서를 맡고 있는 대한민국의 ...  train   \n",
       "2174045  1339046                                                     train   \n",
       "2174046  1339047  《그랜드 테프트 오토 3》(, GTA III) 은 DMA디자인(현재의 록스타 노스)...  train   \n",
       "\n",
       "        filename  corpus  \n",
       "2174042  wiki_34  kowiki  \n",
       "2174043  wiki_34  kowiki  \n",
       "2174044  wiki_34  kowiki  \n",
       "2174045  wiki_34  kowiki  \n",
       "2174046  wiki_34  kowiki  "
      ]
     },
     "execution_count": 7,
     "metadata": {},
     "output_type": "execute_result"
    },
    {
     "name": "stdout",
     "output_type": "stream",
     "text": [
      "time: 200 ms (started: 2022-11-04 03:45:23 +00:00)\n"
     ]
    }
   ],
   "source": [
    "enko = data[data.corpus.isin([\"enwiki_sampled\", \"kowiki\"])]\n",
    "enko.tail()"
   ]
  },
  {
   "cell_type": "code",
   "execution_count": null,
   "metadata": {},
   "outputs": [],
   "source": []
  },
  {
   "cell_type": "code",
   "execution_count": null,
   "metadata": {},
   "outputs": [],
   "source": []
  }
 ],
 "metadata": {
  "colab": {
   "name": "corpus.ipynb",
   "provenance": []
  },
  "kernelspec": {
   "display_name": "Python 3 (ipykernel)",
   "language": "python",
   "name": "python3"
  },
  "language_info": {
   "codemirror_mode": {
    "name": "ipython",
    "version": 3
   },
   "file_extension": ".py",
   "mimetype": "text/x-python",
   "name": "python",
   "nbconvert_exporter": "python",
   "pygments_lexer": "ipython3",
   "version": "3.8.12"
  },
  "vscode": {
   "interpreter": {
    "hash": "d4d1e4263499bec80672ea0156c357c1ee493ec2b1c70f0acce89fc37c4a6abe"
   }
  },
  "widgets": {
   "application/vnd.jupyter.widget-state+json": {
    "state": {},
    "version_major": 2,
    "version_minor": 0
   }
  }
 },
 "nbformat": 4,
 "nbformat_minor": 1
}
