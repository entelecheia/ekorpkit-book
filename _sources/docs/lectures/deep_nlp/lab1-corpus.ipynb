{
 "cells": [
  {
   "cell_type": "markdown",
   "metadata": {
    "id": "cjgz1WTcPWee"
   },
   "source": [
    "# Lab 1: Preparing Wikipedia Corpora"
   ]
  },
  {
   "cell_type": "markdown",
   "metadata": {},
   "source": [
    "## Install the ekorpkit library along with its dependencies"
   ]
  },
  {
   "cell_type": "code",
   "execution_count": null,
   "metadata": {},
   "outputs": [],
   "source": [
    "%pip install --pre ekorpkit[wiki,fetch]"
   ]
  },
  {
   "cell_type": "code",
   "execution_count": 1,
   "metadata": {
    "id": "BzxPwsOVPWef"
   },
   "outputs": [
    {
     "name": "stderr",
     "output_type": "stream",
     "text": [
      "INFO:ekorpkit.utils.notebook:shell type: ZMQInteractiveShell\n",
      "INFO:ekorpkit.utils.notebook:Google Colab not detected.\n",
      "INFO:ekorpkit.base:Setting EKORPKIT_WORKSPACE_ROOT to /content/drive/MyDrive/workspace/\n",
      "INFO:ekorpkit.base:Setting EKORPKIT_PROJECT to ekorpkit-book\n",
      "INFO:ekorpkit.base:Loaded .env from /workspace/projects/ekorpkit-book/config/.env\n",
      "INFO:ekorpkit.base:Loaded .env from /workspace/projects/ekorpkit-book/config/.env\n"
     ]
    },
    {
     "name": "stdout",
     "output_type": "stream",
     "text": [
      "version: 0.1.40.post0.dev2\n",
      "is notebook? True\n",
      "is colab? False\n"
     ]
    },
    {
     "data": {
      "text/plain": [
       "('/content/drive/MyDrive/workspace', 'ekorpkit-book')"
      ]
     },
     "execution_count": 1,
     "metadata": {},
     "output_type": "execute_result"
    }
   ],
   "source": [
    "from ekorpkit import eKonf\n",
    "\n",
    "eKonf.setLogger(\"INFO\")\n",
    "print(\"version:\", eKonf.__version__)\n",
    "\n",
    "is_notebook = eKonf.is_notebook()\n",
    "is_colab = eKonf.is_colab()\n",
    "print(\"is notebook?\", is_notebook)\n",
    "print(\"is colab?\", is_colab)\n",
    "if is_colab:\n",
    "    eKonf.mount_google_drive()\n",
    "eKonf.set_workspace(workspace=\"/content/drive/MyDrive/workspace/\", project=\"ekorpkit-book\")"
   ]
  },
  {
   "cell_type": "markdown",
   "metadata": {
    "id": "it1Y0MVPXRsJ"
   },
   "source": [
    "## Build corpora with the ekorpkit configs\n",
    "\n",
    "### Wikipedia Dump\n",
    "\n",
    "- The first step is to download the Wikipedia dump. \n",
    "- The dump is a collection of all Wikipedia articles in XML format. \n",
    "- The dump for English is available at https://dumps.wikimedia.org/enwiki/latest/enwiki-latest-pages-articles.xml.bz2. \n",
    "- The dump is about 20.3 GB in size.\n",
    "- For other languages, change `en` to the language code of your choice.\n",
    "- For the detailed list of language codes, see https://meta.wikimedia.org/wiki/List_of_Wikipedias."
   ]
  },
  {
   "cell_type": "markdown",
   "metadata": {},
   "source": [
    "#### Fetch the dump and extract it to the `data` directory \n",
    "\n",
    "```python\n",
    "from ekorpkit.io.fetch.loader.wiki import Wiki\n",
    "\n",
    "wiki = Wiki(lang=\"ko\", output_dir=\"data\")\n",
    "wiki.download_dump()\n",
    "wiki.extract_wiki()\n",
    "```\n",
    "\n",
    "Following the instructions above, you can download the dump for other languages."
   ]
  },
  {
   "cell_type": "markdown",
   "metadata": {},
   "source": [
    "### Build the Korean Wikipedia Corpus"
   ]
  },
  {
   "cell_type": "code",
   "execution_count": 3,
   "metadata": {},
   "outputs": [
    {
     "name": "stdout",
     "output_type": "stream",
     "text": [
      "{'_name_': 'fetcher',\n",
      " '_target_': 'ekorpkit.io.fetch.loader.wiki.Wiki',\n",
      " 'auto': {'load': False},\n",
      " 'autoload': False,\n",
      " 'compress': False,\n",
      " 'dump': {'_target_': 'web_download',\n",
      "          'dump_dir': '/content/drive/MyDrive/workspace/.cache/corpus/kowiki',\n",
      "          'dump_file': 'kowiki.xml.bz2',\n",
      "          'url': 'https://dumps.wikimedia.org/kowiki/latest/kowiki-latest-pages-articles.xml.bz2'},\n",
      " 'extract': {'_target_': 'extract_wiki'},\n",
      " 'force': {'download': False},\n",
      " 'force_download': False,\n",
      " 'lang': 'ko',\n",
      " 'limit': -1,\n",
      " 'name': 'kowiki',\n",
      " 'num_workers': 50,\n",
      " 'output_dir': '/content/drive/MyDrive/workspace/.cache/corpus/kowiki/extracted',\n",
      " 'output_file': None,\n",
      " 'path': {'cached_path': None,\n",
      "          'columns': None,\n",
      "          'concat_data': False,\n",
      "          'data_columns': None,\n",
      "          'data_dir': '/content/drive/MyDrive/workspace/data/kowiki',\n",
      "          'data_file': None,\n",
      "          'filetype': '',\n",
      "          'name': 'kowiki',\n",
      "          'output': {'base_dir': '/content/drive/MyDrive/workspace/.cache/corpus/kowiki/extracted',\n",
      "                     'columns': None,\n",
      "                     'file': None,\n",
      "                     'filename': None,\n",
      "                     'filepath': '/content/drive/MyDrive/workspace/.cache/corpus/kowiki/extracted',\n",
      "                     'filetype': '',\n",
      "                     'suffix': None},\n",
      "          'output_dir': '/content/drive/MyDrive/workspace/.cache/corpus/kowiki/extracted',\n",
      "          'output_file': None,\n",
      "          'root': '/content/drive/MyDrive/workspace/data/kowiki',\n",
      "          'suffix': None,\n",
      "          'verbose': True},\n",
      " 'verbose': True}\n"
     ]
    }
   ],
   "source": [
    "wiki_cfg = eKonf.compose('io/fetcher=wiki')\n",
    "wiki_cfg.lang = \"ko\"\n",
    "wiki_cfg.name = \"kowiki\"\n",
    "wiki_cfg.output_dir = f\"{wiki_cfg.dump.dump_dir}/extracted\"\n",
    "wiki_cfg.autoload = False\n",
    "wiki_cfg.force_download = False\n",
    "wiki_cfg.num_workers = 50\n",
    "wiki_cfg.verbose = True\n",
    "\n",
    "eKonf.print(wiki_cfg)"
   ]
  },
  {
   "cell_type": "code",
   "execution_count": 8,
   "metadata": {},
   "outputs": [
    {
     "data": {
      "application/vnd.jupyter.widget-view+json": {
       "model_id": "7f57cd7e390042ad85a99efd0b1fbafa",
       "version_major": 2,
       "version_minor": 0
      },
      "text/plain": [
       "[kowiki.xml.bz2] download kowiki.xml.bz2: 0.00B [00:00, ?B/s]"
      ]
     },
     "metadata": {},
     "output_type": "display_data"
    },
    {
     "name": "stderr",
     "output_type": "stream",
     "text": [
      "INFO: Preprocessing '/content/drive/MyDrive/workspace/.cache/corpus/kowiki/kowiki.xml.bz2' to collect template definitions: this may take some time.\n",
      "INFO: Preprocessed 100000 pages\n",
      "INFO: Preprocessed 200000 pages\n",
      "INFO: Preprocessed 300000 pages\n",
      "INFO: Preprocessed 400000 pages\n",
      "INFO: Preprocessed 500000 pages\n",
      "INFO: Preprocessed 600000 pages\n",
      "INFO: Preprocessed 700000 pages\n",
      "INFO: Preprocessed 800000 pages\n",
      "INFO: Preprocessed 900000 pages\n",
      "INFO: Preprocessed 1000000 pages\n",
      "INFO: Preprocessed 1100000 pages\n",
      "INFO: Preprocessed 1200000 pages\n",
      "INFO: Preprocessed 1300000 pages\n",
      "INFO: Preprocessed 1400000 pages\n",
      "INFO: Preprocessed 1500000 pages\n",
      "INFO: Preprocessed 1600000 pages\n",
      "INFO: Preprocessed 1700000 pages\n",
      "INFO: Loaded 60850 templates in 214.3s\n",
      "INFO: Starting page extraction from /content/drive/MyDrive/workspace/.cache/corpus/kowiki/kowiki.xml.bz2.\n",
      "INFO: Using 50 extract processes.\n",
      "INFO: Extracted 100000 articles (2809.9 art/s)\n",
      "INFO: Extracted 200000 articles (4194.9 art/s)\n",
      "INFO: Extracted 300000 articles (4598.9 art/s)\n",
      "INFO: Extracted 400000 articles (5019.5 art/s)\n",
      "INFO: Extracted 500000 articles (5461.3 art/s)\n",
      "INFO: Extracted 600000 articles (5120.8 art/s)\n",
      "INFO: Extracted 700000 articles (5254.5 art/s)\n",
      "INFO: Extracted 800000 articles (6065.9 art/s)\n",
      "INFO: Extracted 900000 articles (19874.6 art/s)\n",
      "INFO: Extracted 1000000 articles (10843.3 art/s)\n",
      "INFO: Extracted 1100000 articles (5674.7 art/s)\n",
      "INFO: Extracted 1200000 articles (5990.6 art/s)\n",
      "INFO: Extracted 1300000 articles (5678.9 art/s)\n"
     ]
    },
    {
     "name": "stdout",
     "output_type": "stream",
     "text": [
      "Extracted kowiki from dump file /content/drive/MyDrive/workspace/.cache/corpus/kowiki/kowiki.xml.bz2\n"
     ]
    },
    {
     "name": "stderr",
     "output_type": "stream",
     "text": [
      "INFO: Finished 50-process extraction of 1339049 articles in 247.2s (5417.6 art/s)\n"
     ]
    }
   ],
   "source": [
    "from ekorpkit.io.fetch.loader.wiki import Wiki\n",
    "\n",
    "args = eKonf.to_dict(wiki_cfg)\n",
    "wiki = Wiki(**args)\n",
    "wiki.download_dump()\n",
    "wiki.extract_wiki()\n"
   ]
  },
  {
   "cell_type": "markdown",
   "metadata": {},
   "source": [
    "#### Build the corpus by Parsing the Wikipedia Dump\n",
    "\n",
    "- The next step is to parse the Wikipedia dump and build the corpus.\n",
    "- Extracted Wikipedia dump is in JSON Lines format, which is a line-delimited JSON format.\n"
   ]
  },
  {
   "cell_type": "code",
   "execution_count": 13,
   "metadata": {},
   "outputs": [
    {
     "name": "stderr",
     "output_type": "stream",
     "text": [
      "INFO:ekorpkit.io.file:Processing [1628] files from ['**/*']\n"
     ]
    },
    {
     "name": "stdout",
     "output_type": "stream",
     "text": [
      "Number of files: 1628\n"
     ]
    },
    {
     "data": {
      "text/plain": [
       "['/content/drive/MyDrive/workspace/.cache/corpus/kowiki/extracted/AH/wiki_23',\n",
       " '/content/drive/MyDrive/workspace/.cache/corpus/kowiki/extracted/AH/wiki_67',\n",
       " '/content/drive/MyDrive/workspace/.cache/corpus/kowiki/extracted/AH/wiki_05',\n",
       " '/content/drive/MyDrive/workspace/.cache/corpus/kowiki/extracted/AH/wiki_20',\n",
       " '/content/drive/MyDrive/workspace/.cache/corpus/kowiki/extracted/AH/wiki_40',\n",
       " '/content/drive/MyDrive/workspace/.cache/corpus/kowiki/extracted/AH/wiki_92',\n",
       " '/content/drive/MyDrive/workspace/.cache/corpus/kowiki/extracted/AH/wiki_42',\n",
       " '/content/drive/MyDrive/workspace/.cache/corpus/kowiki/extracted/AH/wiki_14',\n",
       " '/content/drive/MyDrive/workspace/.cache/corpus/kowiki/extracted/AH/wiki_28',\n",
       " '/content/drive/MyDrive/workspace/.cache/corpus/kowiki/extracted/AH/wiki_24']"
      ]
     },
     "execution_count": 13,
     "metadata": {},
     "output_type": "execute_result"
    }
   ],
   "source": [
    "# get the list of extracted files\n",
    "\n",
    "files = eKonf.get_filepaths(\"**/*\", wiki_cfg.output_dir)\n",
    "print(f\"Number of files: {len(files)}\")\n",
    "files[:10]"
   ]
  },
  {
   "cell_type": "markdown",
   "metadata": {},
   "source": [
    "Check the first few lines of the extracted dump."
   ]
  },
  {
   "cell_type": "code",
   "execution_count": 11,
   "metadata": {},
   "outputs": [
    {
     "name": "stdout",
     "output_type": "stream",
     "text": [
      "{\"id\": \"634327\", \"revid\": \"414775\", \"url\": \"https://ko.wikipedia.org/wiki?curid=634327\", \"title\": \"\\uc131\\uc774\\uc131\", \"text\": \"\\uc131\\uc774\\uc131(\\u6210\\u4ee5\\u6027, 1595\\ub144(\\uc120\\uc870 28\\ub144\n"
     ]
    }
   ],
   "source": [
    "print(eKonf.read(files[0], mode=\"r\", encoding=\"utf-8\", head=200))"
   ]
  },
  {
   "cell_type": "code",
   "execution_count": 7,
   "metadata": {
    "colab": {
     "base_uri": "https://localhost:8080/",
     "height": 1000,
     "referenced_widgets": [
      "8c65a541b1424bc895a358ec8c2955d0",
      "a1f39c5fb6e14bba94948ceed945c48e",
      "df825e76b09f4b40b0f22abd96afd9ec",
      "f2ba1273dc964523a52c645113dc15dc",
      "cf589159b5844031b2c07a2941d6d767",
      "c73b1e574c6148a79e919619e5337b13",
      "c3d0d587372c4cb185f70e2106460913",
      "42bba043a42e4a408017fa0c58fc89b1",
      "eca5b19cb1a8472f9803e056dc2e3edf",
      "1eec65bd4a4f4ac3a141ebfc0abf2fd7",
      "3a91d7fbcbe94220bb5e5edc4592ea44",
      "c0249a1e6b094b28afb32aa4c8ee6241",
      "b406dade33294912b357909432006a6f",
      "466cf119d61544108f7e9fc2743f90f4",
      "895fc91e766a4c5098cef03f21722754",
      "d933287033b244eb878dd8272163edbd",
      "b6329b07e3c9478a9934f014d2586c8a",
      "147722c8b38e43f4a74a8cbc4ff80132",
      "94ade840d70c440b901f0fefca36b700",
      "bb38b9fad3f6491cb0e4f5e13a00f402",
      "6c34cf9978fd4a0ab092db70ba5ca133",
      "b530f744c9914640b388e2c9ca7164be",
      "7f49f945e79c49558b5c23e413670ca4",
      "ad250bac857e4ba191178ff7aa0f21c2",
      "76c77c45dc2146a887d1a05d05a2b07c",
      "1bb668c7534d435a9f0a55c6eafb3755",
      "c504bb84cc5c4e0a9d8f4f5715ec6a03",
      "52688fc848054b3da375b73185519df2",
      "6c105fb7575745968215abddfc42d3a4",
      "c465acff35ef43cd8aa029289509f801",
      "cdce198d7e584538987b33ed590860d3",
      "3971c7c442bc4ff0ae1148a75034e989",
      "5beee945b7ed485eb3f7c8193d9c696a",
      "92753dfdb5854e12bc66bdc60072b5a1",
      "beb1d40680394747b535f2bbbbff8d75",
      "d86836fe655f4097abfe4297b3c33f27",
      "8670c085406a45ba9dff599d8e1bcfa0",
      "c5f11d5c87964550aacd9b477f2791aa",
      "b6188d143588467e90daa1c230748456",
      "5bef610b5d5c43549f174794559298a6",
      "2e3a25b1cfa34d6fac3ce2e33831ce71",
      "83214c0e91004c57b95a17f72c9ade8e",
      "4ea44db70fc14d839ef1e36b262197f1",
      "d751a8dd2711494695545cd8309a9add",
      "5af5d75e48bb409bb0201ae9b4bcbc7a",
      "12d5551a754b4c32a714fa0fa25096a6",
      "bb6c2a38a0e147d1a73bd510d0af4f55",
      "74b643eb567b4e1baa2edeab5314bf74",
      "0cc33597c6624a2fadc0454f1347e245",
      "ea8f5b8623a4457aa5e7028bd47d8f7c",
      "5e6bf9b1fe4a4b20a892690140fd153b",
      "03468bd389d649b6a5376a225393d580",
      "4741f650996042a5822de55078e32aaf",
      "e5610d32b9434cfaad97c84dff963517",
      "747bd5269293486fa5610b5ef989ad1a",
      "0a251d38928746c1bc8e811676078c84",
      "92c9e23051b84ec5a44f4535d384ea3d",
      "745247540de84e14ad7513d479500175",
      "f59dc69320884fdebf3c128cac03d50c",
      "6d5547298c504706b47369159b47b387",
      "3f1fdfa3512c45cc93ee00d0d9a65864",
      "a4905ccd3b6948f6b9a43353c444a712",
      "6fadeb5ed8e94808b87e91a6272cfa53",
      "11475267a3ae4986b70c2282fd4a0723",
      "a83cdec6d8764baaa94eb719d94bf0cf",
      "64dcc52bf9af461d92d605f60da57c10",
      "de057a7427694ca391cde9f8244706cd",
      "d973cb22de8a4980a93e42e5b02ec1b5",
      "ee954aeeaaed48a7acaf05112897a74e",
      "1092b9c63f5c4e5fab04337f55d6272f",
      "42039657cac3411389b3103129f74c17",
      "b937fee33d684033bbf93af5c98fa59c",
      "6c3a5ec1a3ec45c789611d5820b0a97b",
      "9686d1ab402d436b90deabb87782ac28",
      "f403433bd62c42bf88cb4007300ab14f",
      "c766e4a1c63f43a3ab2803b71a05f675",
      "e6cbaaf738b44a8bb26cf5364322476d"
     ]
    },
    "id": "hEVpCETEPWeg",
    "outputId": "f544db07-b0be-4c52-ed74-15de18f741ef",
    "scrolled": false
   },
   "outputs": [
    {
     "name": "stderr",
     "output_type": "stream",
     "text": [
      "INFO:ekorpkit.base:Loaded .env from /workspace/projects/ekorpkit-book/config/.env\n",
      "INFO:ekorpkit.utils.notebook:shell type: ZMQInteractiveShell\n",
      "INFO:ekorpkit.base:setting environment variable CACHED_PATH_CACHE_ROOT to /content/drive/MyDrive/workspace/.cache/cached_path\n",
      "INFO:ekorpkit.base:setting environment variable KMP_DUPLICATE_LIB_OK to TRUE\n",
      "INFO:ekorpkit.base:instantiating ekorpkit.datasets.build.DatasetBuilder...\n",
      "INFO:ekorpkit.base:instantiating ekorpkit.io.fetch.loader.wiki.Wiki...\n",
      "INFO:ekorpkit.base:instantiating ekorpkit.info.stat.SummaryInfo...\n",
      "INFO:ekorpkit.info.stat:Loading info file: /content/drive/MyDrive/workspace/data/datasets/corpus/kowiki/info-kowiki.yaml\n",
      "INFO:ekorpkit.base:instantiating ekorpkit.io.load.data.load_data...\n",
      "INFO:ekorpkit.io.file:Processing [1628] files from ['**/*']\n",
      "INFO:ekorpkit.io.load.data:Starting multiprocessing with 50 processes at load_data\n"
     ]
    },
    {
     "name": "stdout",
     "output_type": "stream",
     "text": [
      "{'category': 'formal',\n",
      " 'column_info': {'columns': {'id': 'id',\n",
      "                             'merge_meta_on': 'id',\n",
      "                             'text': 'text',\n",
      "                             'timestamp': None},\n",
      "                 'data': {'id': 'int', 'text': 'str'},\n",
      "                 'datetime': {'columns': None,\n",
      "                              'format': None,\n",
      "                              'rcParams': None},\n",
      "                 'meta': {'curid': 'str',\n",
      "                          'id': 'int',\n",
      "                          'title': 'str',\n",
      "                          'url': 'str'},\n",
      "                 'segment_separator': '\\\\n\\\\n',\n",
      "                 'sentence_separator': '\\\\n',\n",
      "                 'timestamp': {'format': None, 'key': None, 'rcParams': None}},\n",
      " 'description': '위키백과, 우리 모두의 백과사전',\n",
      " 'fullname': 'Korean Wikipedia Corpus',\n",
      " 'homepage': 'https://ko.wikipedia.org',\n",
      " 'lang': 'ko',\n",
      " 'license': 'CC Attribution / Share-Alike 3.0',\n",
      " 'name': 'kowiki',\n",
      " 'version': '1.0.0'}\n"
     ]
    },
    {
     "data": {
      "application/vnd.jupyter.widget-view+json": {
       "model_id": "7f5ed8c4255f4d20b380c9d714938162",
       "version_major": 2,
       "version_minor": 0
      },
      "text/plain": [
       "::load_data():   0%|          | 0/1628 [00:00<?, ?it/s]"
      ]
     },
     "metadata": {},
     "output_type": "display_data"
    },
    {
     "name": "stdout",
     "output_type": "stream",
     "text": [
      "{'curid': '634327', 'url': 'https://ko.wikipedia.org/wiki?curid=634327', 'title': '성이성', 'text': \"성이성(成以性, 1595년(선조 28년) ∼ 1664년(현종 5년))은 조선 후기의 문신이자 유학자, 청백리이다. 자(字)는 여습(汝習)이고 호는 계서(溪西)이다. 본관은 창녕(昌寧). 춘향전의 실제 주인공으로 춘향전의 주인공인 몽룡은 원래 성몽룡이었다. 남원부사와 승정원승지를 지낸 성안의의 아들이다.\\n강직한 간관이자 청백리이다. 그의 직계 후손들은 춘향전에 나온 '금준미주 천인혈'이 그가 실제로 지은 한시라고 주장한다. 호서 암행어사와 호남 암행어사로 활동, 감찰하며 부패 수령들을 봉고파직시켰다. 이것 역시 춘향전의 소재가 된다. 학맥으로는 김굉필의 손제자이자 그의 학맥을 계승한 강복성(康復誠)의 문인이다. 경상북도 출신.\\n생애.\\n생애 초반.\\n출생과 가계.\\n성이성은 경상북도 봉화군 물야면 가평리 태생으로 아버지는 창녕 성씨로 승정원승지와 군수를 지낸 성안의(成安義)이고, 어머니는 예안 김씨로 증(贈) 호조 참판에 추증(追贈)된 김계선의 딸이다.\\n그는 어려서부터 그는 학업에 열중하여 13세때 그가 쓴 글을 우연히 정경세(鄭經世)가 보게 되었다. 정경세는 그의 글을 읽고 장차 크게 될 인물이라 하였다.\\n수학과 남원 생활.\\n어려서부터 공부를 게을리하지 않고 학문에 더욱 증진하여 조경남의 문하에서 수학하다가 뒤에 강복성(康復誠)의 문인이 되었다. 강복성은 사림의 학통인 길재-김숙자-김종직-김굉필(金宏弼)-조광조-이연경(李延慶)의 학통을 계승한 학자였다.\\n1607년(선조 40) 남원부사로 부임한 아버지 성안의를 따라 갔다가 그곳에서 만난 기생과의 일화가 후일 춘향전의 주 뼈대가 되었다. 그러나 아버지 성안의가 참의로 발령되면서 기생 춘향과는 이별하게 된다. 이때 시중에는 성이성과 춘향을 소재로 한 춘향전이 희극과 인형극, 만담 등으로 확산되었는데, 양반가의 자제의 스캔들이라 하여 조선조정에서 관을 시켜서 금지하게 되자 성몽룡을 이몽룡으로 바꾸고, 성씨(姓氏)가 없던 기생인 춘향에게 성씨 성을 붙여서 시연하게 된다.\\n1616년(광해군 8년) 그는 사마시 양시에 합격했는데 생원시에 합격하여 생원(生員)이 되고, 그 해에 다시 진사시에 합격하여 진사(進士)가 되었다. 그러나 광해군 때의 난세에는 벼슬길에 나아가지 않았다.\\n관료 생활.\\n과거 급제와 관료생활.\\n1627년 (인조5년)에 식년 문과에 병과로 급제하였다.\\n1635년(인조 13) 성이성은 사간원 정언이 되고 홍문관 부수찬·부교리를 거쳐 1636년 사헌부지평이 되었다. 1637년(인조 15) 호서(湖西) 지방의 암행어사로 파견되었다가 돌아왔다. 그해 성이성은 사간원 헌납이 되어 공신이며 서인당의 고관인 윤방(尹昉)·김류(金류)·심기원(沈器遠)·김자점(金自點) 등을 탄핵하여 왕을 잘못된 길로 인도했다며 오국불충(誤國不忠)의 죄를 논하기도 했다.\\n암행어사 활동.\\n1639년(인조 17) 호남(湖南) 지방 암행어사에 임명되어 5년간 호남 지역을 순찰하고 1644년(인조 22) 되돌아왔가. 그 뒤 1647년(인조 25) 다시 호남 암행어사 로 파견되었다.\\n그러나 호남 암행어사로 부임했을 때 신분을 노출시키고 마는데 성이성은 암행을 하고 다니다가 1647년 11월 25일 순천에서 실수로 부득이 자신의 신분을 드러내고 이후에는 한양으로 돌아오게 되는데, 그는 일기에 돌아오는 길이던 12월 1일 남원에 들렀다고 적고 있다.\\n생애 후반.\\n1648년 여름 성이성은 전라도 담양군수로 부임해 장마철 강둑이 범람해 피해가 큰 것을 보고 2년에 걸쳐 제방을 쌓고 그 위에 나무를 심었다. 현재 관방제림으로 불리는 숲이 그가 남긴 치세의 흔적이다. 푸조나무 느티나무 팽나무 등 184그루가 전한다. 본디 제방에 나무를 심으면 나무가 바람에 흔들릴 때 제방에 해롭다 하여 심지 않았는데 성이성은 비바람에 강한 토종나무를 골라 심음으로써 이같은 상식을 엎었다. 담양군은 현재 관방제림에 산책로를 조성하여 관광객들의 발길을 모으고 있다.\\n외직으로는 진주부사 · 강계부사 등 네 고을을 다스렸는데, 진주부사로 재직할 때는 서인 출신으로 경상도 암행어사로 파견된 민정중(閔鼎重)이 조사하여 그의 선치(善治)를 보고하여 특별히 왕으로부터 표리(表裏, 옷감)를 받았고, 강계부사 때에는 여진족 등의 약탈과 흉년 등으로 어려움에 처한 부민들에게 삼세(蔘稅)를 모두 면제해주어 백성들이 기뻐하였으며 부처가 환생하여 돌아왔다며 '생불' 또는 '관서활불'(關西活佛)이라며 칭송하였다. 1664년(현종 15)에 향년 70세를 일기로 사망했다.\\n사후.\\n고향인 봉화군 물야면 가평 1리에는 성이성을 추모하는 사당인 계서당이 건립되었다. 사후인 1695년(숙종 21) 청렴함을 인정받아 조정으로부터 청백리로 선출되었다. 증 통정대부 부제학에 추증되었다. 저서로는 &lt;계서유고&gt;가 있다.\\n귀신 문제 해결.\\n전라도 지역에 귀신이 자주 출몰한다는 곳이 있었다. 그 곳은 상인이나 과거 시험을 보러 가던 선비들이 여러 번 변을 당했는데, 성이성이 이 문제를 해결하였다 한다. 호남 암행어사가 돼서 호남 지역의 귀신이 많이 나오는 곳을 찾아가 억울함을 달래주고 문제를 해결하였고 이것 역시 입에서 입으로 전해져 설화가 되었다.\\n부패 관리 파직.\\n충청도 암행어사 시절 지방관리의 잘못을 발견하고 어떻게 처리했는가를 인조에게 보고한 '서계'가 남아있었는데 KBS 방송국이 이를 취재하였다.를 보면 세금을 과다징수한 진천현감과 생일날 과다한 잔치를 벌이고 국법을 어긴 석성현감을 적발하여 파직시켰다는 기록이 있다.\\n춘향전.\\n춘향전.\\n그는 아버지인 남원부사 성안의가 부임할 때, 아버지의 임지를 따라 남원에서 생활하다 우연히 남원 기생 춘향을 만나게 되었다. 그러나 춘향과는 이루어지지 못했고, 이는 바로 춘향전의 모티브가 되었다. 뒤에 호남 암행어사로 부임했다가 신분을 노출하고 되돌아갈 때 남원에 들렀다. 늙은기생 여진이 찾아와 만났는데, 그는 춘향을 찾았다 한다. 그러나 그는 춘향을 만날 수 없었다.\\n‘서리와 함께 난간에 앉으니 눈빛이 뜰에 하얗게 깔려있고 대나무숲이 희었다. 나는 소년시절의 일을 생각하여 밤늦도록 잠들지 못했다.’\\n춘향전은 판소리, 연극, 소설의 소재가 되었으나 양반가 자제의 스캔들이라 하여, 조정에서는 양반가의 위신을 떨어뜨린다며 춘향전의 상영을 금지하였다. 할 수 없이 민중들은 성몽룡 대신 이몽룡으로 성을 바꾸어서 연극과 판소리, 소설, 구전 등으로 전하였다.\\n금준미주 천인혈.\\n춘향전에 나오는 금준미주 천인혈은 성이성이 지은 시 중의 하나였다. 성이성이 춘향전에 나오는 성몽룡처럼 변사또를 응징한 남원 출두 기록은 실록이나 문집에는 없다. 그러나 춘향전에 나오는 잔치연에서 이몽룡이 변학도를 질타하면서 읊은 금준미주 천인혈 로 시작되는 시조는 성이성이 짓고, 읊었다. 이는 성이성의 4대손 성섭의 저서 &lt;교와문고&gt;와 그의 스승 조경남이 쓴 &lt;난중잡록&gt;에 그의 작품으로 기록되어 있다.\\n호남 암행어사가 되었을때에 호남 12고을 군수, 현감들이 잔치를 베풀었다. 이때 성이성은 암행어사가 걸인의 행색을 하고서 연회장에 나타났다. 호남의 12고을의 군수, 현감들은 그를 조롱하며 '그대가 시를 지으면 종일토록 놀고 짓지 못하면 가라.'고 했고, 그는 즉석에서 금준미주 천인혈 을 짓는다. 이어 전라도내 6명의 부패한 수령들을 봉고파직시킨다. 석성현감이 생일날 과다한 잔치를 벌인 것은 춘향전에 등장하는 변사또의 모티브가 되었다.\", 'split': 'train', 'filename': 'wiki_23'}\n"
     ]
    },
    {
     "name": "stderr",
     "output_type": "stream",
     "text": [
      "INFO:ekorpkit.datasets.build: >> elapsed time to load and parse data: 0:00:10.173167\n",
      "INFO:ekorpkit.datasets.build:\n",
      "Transforming dataframe with pipeline: ['reset_index', 'save_metadata']\n",
      "INFO:ekorpkit.pipelines.pipe:Applying pipeline: OrderedDict([('reset_index', 'reset_index'), ('save_metadata', 'save_metadata')])\n",
      "INFO:ekorpkit.base:Applying pipe: functools.partial(<function reset_index at 0x7fce771d3ca0>)\n",
      "INFO:ekorpkit.pipelines.pipe:Resetting index: {'_func_': {'_partial_': True, '_target_': 'ekorpkit.pipelines.pipe.reset_index'}, 'index_column_name': 'id', 'drop_index': False, 'verbose': True}\n",
      "INFO:ekorpkit.base:Applying pipe: functools.partial(<function save_metadata at 0x7fce771d35e0>)\n",
      "INFO:ekorpkit.pipelines.pipe:Saving metadata: {'_func_': {'_partial_': True, '_target_': 'ekorpkit.pipelines.pipe.save_metadata'}, 'path': {'root': '/content/drive/MyDrive/workspace/data/ekorpkit-book', 'name': 'ekorpkit-book', 'cached_path': None, 'filetype': None, 'verbose': True, 'data_dir': '/content/drive/MyDrive/workspace/data/ekorpkit-book', 'data_file': None, 'concat_data': False, 'data_columns': None, 'columns': None, 'output_dir': None, 'output_file': None, 'suffix': None, 'output': {'filename': 'meta-kowiki-train.parquet', 'base_dir': '/content/drive/MyDrive/workspace/data/datasets/corpus/kowiki', 'filetype': '.parquet', 'suffix': None, 'filepath': '/content/drive/MyDrive/workspace/data/datasets/corpus/kowiki/meta-kowiki-train.parquet', 'columns': None, 'verbose': True}}, 'filepath': None, 'filetype': None, 'column_info': {'columns': {'id': 'id', 'text': 'text', 'merge_meta_on': 'id', 'timestamp': None}, 'datetime': {'columns': None, 'format': None, 'rcParams': None}, 'timestamp': {'key': None, 'format': None, 'rcParams': None}, 'data': {'id': 'int', 'text': 'str'}, 'meta': {'id': 'int', 'curid': 'str', 'url': 'str', 'title': 'str'}, 'segment_separator': '\\\\n\\\\n', 'sentence_separator': '\\\\n'}, 'split_name': 'train', 'verbose': True}\n",
      "INFO:ekorpkit.io.file:Saving dataframe to /content/drive/MyDrive/workspace/data/datasets/corpus/kowiki/meta-kowiki-train.parquet\n"
     ]
    },
    {
     "name": "stdout",
     "output_type": "stream",
     "text": [
      "    curid                                         url title  \\\n",
      "0  634327  https://ko.wikipedia.org/wiki?curid=634327   성이성   \n",
      "1  634328  https://ko.wikipedia.org/wiki?curid=634328    누타   \n",
      "2  634329  https://ko.wikipedia.org/wiki?curid=634329  공중그네   \n",
      "3  634331  https://ko.wikipedia.org/wiki?curid=634331   성몽룡   \n",
      "4  634332  https://ko.wikipedia.org/wiki?curid=634332    계서   \n",
      "\n",
      "                                                text  split filename  \n",
      "0  성이성(成以性, 1595년(선조 28년) ∼ 1664년(현종 5년))은 조선 후기의...  train  wiki_23  \n",
      "1  누타(ぬた)는 잘게 썬 생선이나 조개를 파, 채소, 미역과 함께 초된장으로 무친 요...  train  wiki_23  \n",
      "2                         공중그네(空中-)는 서커스의 기술 중 하나이다.  train  wiki_23  \n",
      "3                                                     train  wiki_23  \n",
      "4                                                     train  wiki_23  \n",
      "(1339048, 6)\n",
      "   id   curid                                         url title  \\\n",
      "0   0  634327  https://ko.wikipedia.org/wiki?curid=634327   성이성   \n",
      "1   1  634328  https://ko.wikipedia.org/wiki?curid=634328    누타   \n",
      "2   2  634329  https://ko.wikipedia.org/wiki?curid=634329  공중그네   \n",
      "3   3  634331  https://ko.wikipedia.org/wiki?curid=634331   성몽룡   \n",
      "4   4  634332  https://ko.wikipedia.org/wiki?curid=634332    계서   \n",
      "\n",
      "                                                text  split filename  \n",
      "0  성이성(成以性, 1595년(선조 28년) ∼ 1664년(현종 5년))은 조선 후기의...  train  wiki_23  \n",
      "1  누타(ぬた)는 잘게 썬 생선이나 조개를 파, 채소, 미역과 함께 초된장으로 무친 요...  train  wiki_23  \n",
      "2                         공중그네(空中-)는 서커스의 기술 중 하나이다.  train  wiki_23  \n",
      "3                                                     train  wiki_23  \n",
      "4                                                     train  wiki_23  \n"
     ]
    },
    {
     "name": "stderr",
     "output_type": "stream",
     "text": [
      "INFO:ekorpkit.io.file: >> elapsed time to save data: 0:00:05.303806\n",
      "INFO:ekorpkit.io.file:Saving dataframe to /content/drive/MyDrive/workspace/data/datasets/corpus/kowiki/kowiki-train.parquet\n",
      "INFO:ekorpkit.io.file: >> elapsed time to save data: 0:01:05.529620\n",
      "INFO:ekorpkit.info.stat:Initializing statistics for split: train with stats: {'name': 'train', 'dataset_name': 'kowiki', 'data_file': 'kowiki-train.parquet', 'meta_file': 'meta-kowiki-train.parquet'}\n",
      "INFO:ekorpkit.base:Using batcher with minibatch size: 1000\n",
      "INFO:ekorpkit.utils.batch.batcher: backend: joblib  minibatch_size: 1000  procs: 230  input_split: False  merge_output: True  len(data): 1339048 len(args): 5\n"
     ]
    },
    {
     "data": {
      "application/vnd.jupyter.widget-view+json": {
       "model_id": "0107206b43a242e0860b269af3744db2",
       "version_major": 2,
       "version_minor": 0
      },
      "text/plain": [
       "apply len_bytes to num_bytes:   0%|          | 0/1340 [00:00<?, ?it/s]"
      ]
     },
     "metadata": {},
     "output_type": "display_data"
    },
    {
     "name": "stderr",
     "output_type": "stream",
     "text": [
      "INFO:ekorpkit.base:Using batcher with minibatch size: 1000\n",
      "INFO:ekorpkit.utils.batch.batcher: backend: joblib  minibatch_size: 1000  procs: 230  input_split: False  merge_output: True  len(data): 1339048 len(args): 5\n"
     ]
    },
    {
     "data": {
      "application/vnd.jupyter.widget-view+json": {
       "model_id": "e2329cb71fac4097977c1d069d21d2df",
       "version_major": 2,
       "version_minor": 0
      },
      "text/plain": [
       "apply len_sents to num_sents:   0%|          | 0/1340 [00:00<?, ?it/s]"
      ]
     },
     "metadata": {},
     "output_type": "display_data"
    },
    {
     "name": "stderr",
     "output_type": "stream",
     "text": [
      "INFO:ekorpkit.info.stat: >> elapsed time to calculate statistics before processing: 0:00:32.387224\n",
      "INFO:ekorpkit.info.stat: >> updated splits: {'train': {'name': 'train', 'dataset_name': 'kowiki', 'data_file': 'kowiki-train.parquet', 'meta_file': 'meta-kowiki-train.parquet', 'num_docs_before_processing': 1339048, 'num_bytes_before_processing': 801994255, 'num_sents': 3829874}}\n",
      "INFO:ekorpkit.datasets.build:\n",
      "Processing dataframe with pipeline: ['normalize', 'segment', 'filter_length', 'drop_duplicates', 'save_samples']\n",
      "INFO:ekorpkit.pipelines.pipe:Applying pipeline: OrderedDict([('normalize', 'normalize'), ('segment', 'segment'), ('filter_length', 'filter_length'), ('drop_duplicates', 'drop_duplicates'), ('save_samples', 'save_samples')])\n",
      "INFO:ekorpkit.base:Applying pipe: functools.partial(<function normalize at 0x7fce771d3ee0>)\n",
      "INFO:ekorpkit.pipelines.pipe:instantiating normalizer\n",
      "INFO:ekorpkit.base:Using batcher with minibatch size: 1000\n",
      "INFO:ekorpkit.utils.batch.batcher: backend: joblib  minibatch_size: 1000  procs: 230  input_split: False  merge_output: True  len(data): 1339048 len(args): 5\n"
     ]
    },
    {
     "data": {
      "application/vnd.jupyter.widget-view+json": {
       "model_id": "fc296ed35a05411187778930cd58d827",
       "version_major": 2,
       "version_minor": 0
      },
      "text/plain": [
       "Normalizing column: text:   0%|          | 0/1340 [00:00<?, ?it/s]"
      ]
     },
     "metadata": {},
     "output_type": "display_data"
    },
    {
     "name": "stderr",
     "output_type": "stream",
     "text": [
      "INFO:ekorpkit.pipelines.pipe: >> elapsed time to normalize: 0:00:18.489442\n",
      "INFO:ekorpkit.base:Applying pipe: functools.partial(<function segment at 0x7fce771d30d0>)\n",
      "INFO:ekorpkit.pipelines.pipe:instantiating segmenter\n",
      "INFO:ekorpkit.base:instantiating ekorpkit.preprocessors.segmenter.KSSSegmenter...\n",
      "INFO:ekorpkit.base:Using batcher with minibatch size: 1000\n",
      "INFO:ekorpkit.utils.batch.batcher: backend: joblib  minibatch_size: 1000  procs: 50  input_split: False  merge_output: True  len(data): 1339048 len(args): 5\n"
     ]
    },
    {
     "data": {
      "application/vnd.jupyter.widget-view+json": {
       "model_id": "47e837cae0e84fd3afbde18d29b8d325",
       "version_major": 2,
       "version_minor": 0
      },
      "text/plain": [
       "Splitting column: text:   0%|          | 0/1340 [00:00<?, ?it/s]"
      ]
     },
     "metadata": {},
     "output_type": "display_data"
    },
    {
     "name": "stderr",
     "output_type": "stream",
     "text": [
      "INFO:ekorpkit.pipelines.pipe: >> elapsed time to segment: 0:26:43.238374\n",
      "INFO:ekorpkit.base:Applying pipe: functools.partial(<function filter_length at 0x7fce771d3280>, len_bytes={'_partial_': True, '_target_': 'ekorpkit.utils.func.len_bytes'}, len_words={'_partial_': True, '_target_': 'ekorpkit.utils.func.len_words'})\n",
      "INFO:ekorpkit.pipelines.pipe:Filtering by length: {'_func_': {'_partial_': True, '_target_': 'ekorpkit.pipelines.pipe.filter_length', 'len_bytes': {'_partial_': True, '_target_': 'ekorpkit.utils.func.len_bytes'}, 'len_words': {'_partial_': True, '_target_': 'ekorpkit.utils.func.len_words'}}, 'apply_to': 'text', 'min_length': 30, 'max_length': None, 'len_func': 'len_bytes', 'len_column': 'num_bytes', 'add_len_column': True, 'verbose': True, 'use_batcher': True}\n",
      "INFO:ekorpkit.base:Using batcher with minibatch size: 1000\n",
      "INFO:ekorpkit.utils.batch.batcher: backend: joblib  minibatch_size: 1000  procs: 50  input_split: False  merge_output: True  len(data): 1339048 len(args): 5\n"
     ]
    },
    {
     "data": {
      "application/vnd.jupyter.widget-view+json": {
       "model_id": "8224db593bbd4df298f7e3b21aabe851",
       "version_major": 2,
       "version_minor": 0
      },
      "text/plain": [
       "Calculating length:   0%|          | 0/1340 [00:00<?, ?it/s]"
      ]
     },
     "metadata": {},
     "output_type": "display_data"
    },
    {
     "name": "stderr",
     "output_type": "stream",
     "text": [
      "INFO:ekorpkit.pipelines.pipe:removed 736936 of 1339048 documents with length < 30\n",
      "INFO:ekorpkit.pipelines.pipe: >> elapsed time to filter length: 0:00:03.079006\n",
      "INFO:ekorpkit.base:Applying pipe: functools.partial(<function drop_duplicates at 0x7fce771d34c0>)\n",
      "INFO:ekorpkit.pipelines.pipe:Dropping duplicates: {'_func_': {'_partial_': True, '_target_': 'ekorpkit.pipelines.pipe.drop_duplicates'}, 'apply_to': 'text', 'verbose': True}\n",
      "INFO:ekorpkit.pipelines.pipe:601641 documents after dropping 471 duplicates from [['text']]\n",
      "INFO:ekorpkit.pipelines.pipe: >> elapsed time to drop duplicates: 0:00:01.811704\n",
      "INFO:ekorpkit.base:Applying pipe: functools.partial(<function save_samples at 0x7fce771d3790>)\n",
      "INFO:ekorpkit.pipelines.pipe:Saving samples: {'_func_': {'_partial_': True, '_target_': 'ekorpkit.pipelines.pipe.save_samples'}, 'path': {'root': '/content/drive/MyDrive/workspace/data/ekorpkit-book', 'name': 'ekorpkit-book', 'cached_path': None, 'filetype': '', 'verbose': True, 'data_dir': '/content/drive/MyDrive/workspace/data/ekorpkit-book', 'data_file': None, 'concat_data': False, 'data_columns': None, 'columns': None, 'output_dir': None, 'output_file': None, 'suffix': None, 'output': {'filename': 'sample-kowiki-train.txt', 'base_dir': '/content/drive/MyDrive/workspace/data/datasets/corpus/kowiki', 'filetype': '.txt', 'suffix': None, 'filepath': '/content/drive/MyDrive/workspace/data/datasets/corpus/kowiki/sample-kowiki-train.txt', 'columns': None, 'verbose': True}}, 'apply_to': 'text', 'num_samples_to_save': 2, 'output_file': None, 'sample_length_to_print': 1000, 'verbose': True}\n",
      "INFO:ekorpkit.pipelines.pipe:Saved 2 samples to /content/drive/MyDrive/workspace/data/datasets/corpus/kowiki/sample-kowiki-train.txt\n",
      "INFO:ekorpkit.info.stat:Calculating statistics for split: train\n",
      "INFO:ekorpkit.base:Using batcher with minibatch size: 1000\n",
      "INFO:ekorpkit.utils.batch.batcher: backend: joblib  minibatch_size: 1000  procs: 50  input_split: False  merge_output: True  len(data): 601641 len(args): 5\n"
     ]
    },
    {
     "name": "stdout",
     "output_type": "stream",
     "text": [
      "----------------------------------------------------------------------------------------------------\n",
      "\n",
      "text: \n",
      "《그랜드 점프》(, )는 슈에이샤가 발행하는 일본의 소년 만화 잡지이다.\n",
      "\n",
      "----------------------------------------------------------------------------------------------------\n",
      "text: \n",
      "레이크파크()는 다음과 같은 뜻이 있다.\n",
      "\n",
      "----------------------------------------------------------------------------------------------------\n"
     ]
    },
    {
     "data": {
      "application/vnd.jupyter.widget-view+json": {
       "model_id": "9ad1bd2f771c422593c6806a64b1e700",
       "version_major": 2,
       "version_minor": 0
      },
      "text/plain": [
       "apply len_bytes to num_bytes:   0%|          | 0/602 [00:00<?, ?it/s]"
      ]
     },
     "metadata": {},
     "output_type": "display_data"
    },
    {
     "name": "stderr",
     "output_type": "stream",
     "text": [
      "INFO:ekorpkit.base:Using batcher with minibatch size: 1000\n",
      "INFO:ekorpkit.utils.batch.batcher: backend: joblib  minibatch_size: 1000  procs: 50  input_split: False  merge_output: True  len(data): 601641 len(args): 5\n"
     ]
    },
    {
     "data": {
      "application/vnd.jupyter.widget-view+json": {
       "model_id": "5c7df22e54b747f2a5b30a34ac406a40",
       "version_major": 2,
       "version_minor": 0
      },
      "text/plain": [
       "apply len_wospc to num_bytes_wospc:   0%|          | 0/602 [00:00<?, ?it/s]"
      ]
     },
     "metadata": {},
     "output_type": "display_data"
    },
    {
     "name": "stderr",
     "output_type": "stream",
     "text": [
      "INFO:ekorpkit.base:Using batcher with minibatch size: 1000\n",
      "INFO:ekorpkit.utils.batch.batcher: backend: joblib  minibatch_size: 1000  procs: 50  input_split: False  merge_output: True  len(data): 601641 len(args): 5\n"
     ]
    },
    {
     "data": {
      "application/vnd.jupyter.widget-view+json": {
       "model_id": "680500c65fed4751afcc3b87c322d043",
       "version_major": 2,
       "version_minor": 0
      },
      "text/plain": [
       "apply len_words to num_words:   0%|          | 0/602 [00:00<?, ?it/s]"
      ]
     },
     "metadata": {},
     "output_type": "display_data"
    },
    {
     "name": "stderr",
     "output_type": "stream",
     "text": [
      "INFO:ekorpkit.base:Using batcher with minibatch size: 1000\n",
      "INFO:ekorpkit.utils.batch.batcher: backend: joblib  minibatch_size: 1000  procs: 50  input_split: False  merge_output: True  len(data): 601641 len(args): 5\n"
     ]
    },
    {
     "data": {
      "application/vnd.jupyter.widget-view+json": {
       "model_id": "f7f4538e02534ec199de2601c80d8905",
       "version_major": 2,
       "version_minor": 0
      },
      "text/plain": [
       "apply len_sents to num_sents:   0%|          | 0/602 [00:00<?, ?it/s]"
      ]
     },
     "metadata": {},
     "output_type": "display_data"
    },
    {
     "name": "stderr",
     "output_type": "stream",
     "text": [
      "INFO:ekorpkit.base:Using batcher with minibatch size: 1000\n",
      "INFO:ekorpkit.utils.batch.batcher: backend: joblib  minibatch_size: 1000  procs: 50  input_split: False  merge_output: True  len(data): 601641 len(args): 5\n"
     ]
    },
    {
     "data": {
      "application/vnd.jupyter.widget-view+json": {
       "model_id": "fe77ec00d0ec483ebc484896f7f5f9b5",
       "version_major": 2,
       "version_minor": 0
      },
      "text/plain": [
       "apply len_segments to num_segments:   0%|          | 0/602 [00:00<?, ?it/s]"
      ]
     },
     "metadata": {},
     "output_type": "display_data"
    },
    {
     "name": "stderr",
     "output_type": "stream",
     "text": [
      "INFO:ekorpkit.info.stat: >> elapsed time to calculate statistics: 0:00:07.233255\n",
      "INFO:ekorpkit.info.stat:Saving updated info file: /content/drive/MyDrive/workspace/data/datasets/corpus/kowiki/info-kowiki.yaml\n",
      "INFO:ekorpkit.datasets.build:\n",
      "Corpus [kowiki] is built to [/content/drive/MyDrive/workspace/data/datasets/corpus/kowiki] from [/content/drive/MyDrive/workspace/data/archive/datasets/source/kowiki]\n"
     ]
    },
    {
     "name": "stdout",
     "output_type": "stream",
     "text": [
      "{'category': 'formal',\n",
      " 'column_info': {'columns': {'id': 'id',\n",
      "                             'merge_meta_on': 'id',\n",
      "                             'text': 'text',\n",
      "                             'timestamp': None},\n",
      "                 'data': {'id': 'int', 'text': 'str'},\n",
      "                 'datetime': {'columns': None,\n",
      "                              'format': None,\n",
      "                              'rcParams': None},\n",
      "                 'meta': {'curid': 'str',\n",
      "                          'id': 'int',\n",
      "                          'title': 'str',\n",
      "                          'url': 'str'},\n",
      "                 'segment_separator': '\\\\n\\\\n',\n",
      "                 'sentence_separator': '\\\\n',\n",
      "                 'timestamp': {'format': None, 'key': None, 'rcParams': None}},\n",
      " 'data_files': {'train': 'kowiki-train.parquet'},\n",
      " 'data_files_modified': '2022-10-29 06:30:41',\n",
      " 'description': '위키백과, 우리 모두의 백과사전',\n",
      " 'fullname': 'Korean Wikipedia Corpus',\n",
      " 'homepage': 'https://ko.wikipedia.org',\n",
      " 'info_updated': '2022-10-29 06:58:28',\n",
      " 'lang': 'ko',\n",
      " 'license': 'CC Attribution / Share-Alike 3.0',\n",
      " 'meta_files': {'train': 'meta-kowiki-train.parquet'},\n",
      " 'meta_files_modified': '2022-10-29 06:29:35',\n",
      " 'name': 'kowiki',\n",
      " 'num_bytes_before_processing': 801994255,\n",
      " 'num_docs': 601641,\n",
      " 'num_docs_before_processing': 1339048,\n",
      " 'num_segments': 601727,\n",
      " 'num_sents': 6064076,\n",
      " 'num_words': 74965324,\n",
      " 'size_in_bytes': 800672700,\n",
      " 'size_in_human_bytes': '763.58 MiB',\n",
      " 'splits': {'train': {'data_file': 'kowiki-train.parquet',\n",
      "                      'dataset_name': 'kowiki',\n",
      "                      'human_bytes': '763.58 MiB',\n",
      "                      'human_bytes_wospc': '692.66 MiB',\n",
      "                      'meta_file': 'meta-kowiki-train.parquet',\n",
      "                      'name': 'train',\n",
      "                      'num_bytes': 800672700,\n",
      "                      'num_bytes_before_processing': 801994255,\n",
      "                      'num_bytes_max': 417935,\n",
      "                      'num_bytes_median': 348.0,\n",
      "                      'num_bytes_min': 30,\n",
      "                      'num_bytes_wospc': 726308931,\n",
      "                      'num_docs': 601641,\n",
      "                      'num_docs_before_processing': 1339048,\n",
      "                      'num_segments': 601727,\n",
      "                      'num_segments_median': 1.0,\n",
      "                      'num_sents': 6064076,\n",
      "                      'num_sents_median': 3.0,\n",
      "                      'num_words': 74965324,\n",
      "                      'num_words_max': 35733,\n",
      "                      'num_words_median': 32.0,\n",
      "                      'num_words_min': 1}},\n",
      " 'version': '1.0.0'}\n"
     ]
    }
   ],
   "source": [
    "cfg = eKonf.compose('corpus/builtin=kowiki')\n",
    "cfg.io.fetcher = wiki_cfg\n",
    "cfg.io.loader.data_dir = wiki_cfg.output_dir\n",
    "cfg.verbose = True\n",
    "cfg.num_workers = 50\n",
    "# eKonf.print(cfg.io)\n",
    "db = eKonf.instantiate(cfg)"
   ]
  },
  {
   "cell_type": "markdown",
   "metadata": {},
   "source": [
    "### Build the English Wikipedia Corpus"
   ]
  },
  {
   "cell_type": "code",
   "execution_count": 8,
   "metadata": {},
   "outputs": [
    {
     "name": "stderr",
     "output_type": "stream",
     "text": [
      "INFO:ekorpkit.base:instantiating ekorpkit.datasets.build.DatasetBuilder...\n",
      "INFO:ekorpkit.base:instantiating ekorpkit.io.fetch.loader.wiki.Wiki...\n"
     ]
    },
    {
     "data": {
      "application/vnd.jupyter.widget-view+json": {
       "model_id": "c277d7ad202e4f30ae37542969cc47b4",
       "version_major": 2,
       "version_minor": 0
      },
      "text/plain": [
       "[enwiki.xml.bz2] download enwiki.xml.bz2: 0.00B [00:00, ?B/s]"
      ]
     },
     "metadata": {},
     "output_type": "display_data"
    },
    {
     "name": "stderr",
     "output_type": "stream",
     "text": [
      "INFO: Preprocessing '/content/drive/MyDrive/workspace/.cache/corpus/enwiki/enwiki.xml.bz2' to collect template definitions: this may take some time.\n",
      "INFO: Preprocessed 100000 pages\n",
      "INFO: Preprocessed 200000 pages\n",
      "INFO: Preprocessed 300000 pages\n",
      "INFO: Preprocessed 400000 pages\n",
      "INFO: Preprocessed 500000 pages\n",
      "INFO: Preprocessed 600000 pages\n",
      "INFO: Preprocessed 700000 pages\n",
      "INFO: Preprocessed 800000 pages\n",
      "INFO: Preprocessed 900000 pages\n",
      "INFO: Preprocessed 1000000 pages\n",
      "INFO: Preprocessed 1100000 pages\n",
      "INFO: Preprocessed 1200000 pages\n",
      "INFO: Preprocessed 1300000 pages\n",
      "INFO: Preprocessed 1400000 pages\n",
      "INFO: Preprocessed 1500000 pages\n",
      "INFO: Preprocessed 1600000 pages\n",
      "INFO: Preprocessed 1700000 pages\n",
      "INFO: Preprocessed 1800000 pages\n",
      "INFO: Preprocessed 1900000 pages\n",
      "INFO: Preprocessed 2000000 pages\n",
      "INFO: Preprocessed 2100000 pages\n",
      "INFO: Preprocessed 2200000 pages\n",
      "INFO: Preprocessed 2300000 pages\n",
      "INFO: Preprocessed 2400000 pages\n",
      "INFO: Preprocessed 2500000 pages\n",
      "INFO: Preprocessed 2600000 pages\n",
      "INFO: Preprocessed 2700000 pages\n",
      "INFO: Preprocessed 2800000 pages\n",
      "INFO: Preprocessed 2900000 pages\n",
      "INFO: Preprocessed 3000000 pages\n",
      "INFO: Preprocessed 3100000 pages\n",
      "INFO: Preprocessed 3200000 pages\n",
      "INFO: Preprocessed 3300000 pages\n",
      "INFO: Preprocessed 3400000 pages\n",
      "INFO: Preprocessed 3500000 pages\n",
      "INFO: Preprocessed 3600000 pages\n",
      "INFO: Preprocessed 3700000 pages\n",
      "INFO: Preprocessed 3800000 pages\n",
      "INFO: Preprocessed 3900000 pages\n",
      "INFO: Preprocessed 4000000 pages\n",
      "INFO: Preprocessed 4100000 pages\n",
      "INFO: Preprocessed 4200000 pages\n",
      "INFO: Preprocessed 4300000 pages\n",
      "INFO: Preprocessed 4400000 pages\n",
      "INFO: Preprocessed 4500000 pages\n",
      "INFO: Preprocessed 4600000 pages\n",
      "INFO: Preprocessed 4700000 pages\n",
      "INFO: Preprocessed 4800000 pages\n",
      "INFO: Preprocessed 4900000 pages\n",
      "INFO: Preprocessed 5000000 pages\n",
      "INFO: Preprocessed 5100000 pages\n",
      "INFO: Preprocessed 5200000 pages\n",
      "INFO: Preprocessed 5300000 pages\n",
      "INFO: Preprocessed 5400000 pages\n",
      "INFO: Preprocessed 5500000 pages\n",
      "INFO: Preprocessed 5600000 pages\n",
      "INFO: Preprocessed 5700000 pages\n",
      "INFO: Preprocessed 5800000 pages\n",
      "INFO: Preprocessed 5900000 pages\n",
      "INFO: Preprocessed 6000000 pages\n",
      "INFO: Preprocessed 6100000 pages\n",
      "INFO: Preprocessed 6200000 pages\n",
      "INFO: Preprocessed 6300000 pages\n",
      "INFO: Preprocessed 6400000 pages\n",
      "INFO: Preprocessed 6500000 pages\n",
      "INFO: Preprocessed 6600000 pages\n",
      "INFO: Preprocessed 6700000 pages\n",
      "INFO: Preprocessed 6800000 pages\n",
      "INFO: Preprocessed 6900000 pages\n",
      "INFO: Preprocessed 7000000 pages\n",
      "INFO: Preprocessed 7100000 pages\n",
      "INFO: Preprocessed 7200000 pages\n",
      "INFO: Preprocessed 7300000 pages\n",
      "INFO: Preprocessed 7400000 pages\n",
      "INFO: Preprocessed 7500000 pages\n",
      "INFO: Preprocessed 7600000 pages\n",
      "INFO: Preprocessed 7700000 pages\n",
      "INFO: Preprocessed 7800000 pages\n",
      "INFO: Preprocessed 7900000 pages\n",
      "INFO: Preprocessed 8000000 pages\n",
      "INFO: Preprocessed 8100000 pages\n",
      "INFO: Preprocessed 8200000 pages\n",
      "INFO: Preprocessed 8300000 pages\n",
      "INFO: Preprocessed 8400000 pages\n",
      "INFO: Preprocessed 8500000 pages\n",
      "INFO: Preprocessed 8600000 pages\n",
      "INFO: Preprocessed 8700000 pages\n",
      "INFO: Preprocessed 8800000 pages\n",
      "INFO: Preprocessed 8900000 pages\n",
      "INFO: Preprocessed 9000000 pages\n",
      "INFO: Preprocessed 9100000 pages\n",
      "INFO: Preprocessed 9200000 pages\n",
      "INFO: Preprocessed 9300000 pages\n",
      "INFO: Preprocessed 9400000 pages\n",
      "INFO: Preprocessed 9500000 pages\n",
      "INFO: Preprocessed 9600000 pages\n",
      "INFO: Preprocessed 9700000 pages\n",
      "INFO: Preprocessed 9800000 pages\n",
      "INFO: Preprocessed 9900000 pages\n",
      "INFO: Preprocessed 10000000 pages\n",
      "INFO: Preprocessed 10100000 pages\n",
      "INFO: Preprocessed 10200000 pages\n",
      "INFO: Preprocessed 10300000 pages\n",
      "INFO: Preprocessed 10400000 pages\n",
      "INFO: Preprocessed 10500000 pages\n",
      "INFO: Preprocessed 10600000 pages\n",
      "INFO: Preprocessed 10700000 pages\n",
      "INFO: Preprocessed 10800000 pages\n",
      "INFO: Preprocessed 10900000 pages\n",
      "INFO: Preprocessed 11000000 pages\n",
      "INFO: Preprocessed 11100000 pages\n",
      "INFO: Preprocessed 11200000 pages\n",
      "INFO: Preprocessed 11300000 pages\n",
      "INFO: Preprocessed 11400000 pages\n",
      "INFO: Preprocessed 11500000 pages\n",
      "INFO: Preprocessed 11600000 pages\n",
      "INFO: Preprocessed 11700000 pages\n",
      "INFO: Preprocessed 11800000 pages\n",
      "INFO: Preprocessed 11900000 pages\n",
      "INFO: Preprocessed 12000000 pages\n",
      "INFO: Preprocessed 12100000 pages\n",
      "INFO: Preprocessed 12200000 pages\n",
      "INFO: Preprocessed 12300000 pages\n",
      "INFO: Preprocessed 12400000 pages\n",
      "INFO: Preprocessed 12500000 pages\n",
      "INFO: Preprocessed 12600000 pages\n",
      "INFO: Preprocessed 12700000 pages\n",
      "INFO: Preprocessed 12800000 pages\n",
      "INFO: Preprocessed 12900000 pages\n",
      "INFO: Preprocessed 13000000 pages\n",
      "INFO: Preprocessed 13100000 pages\n",
      "INFO: Preprocessed 13200000 pages\n",
      "INFO: Preprocessed 13300000 pages\n",
      "INFO: Preprocessed 13400000 pages\n",
      "INFO: Preprocessed 13500000 pages\n",
      "INFO: Preprocessed 13600000 pages\n",
      "INFO: Preprocessed 13700000 pages\n",
      "INFO: Preprocessed 13800000 pages\n",
      "INFO: Preprocessed 13900000 pages\n",
      "INFO: Preprocessed 14000000 pages\n",
      "INFO: Preprocessed 14100000 pages\n",
      "INFO: Preprocessed 14200000 pages\n",
      "INFO: Preprocessed 14300000 pages\n",
      "INFO: Preprocessed 14400000 pages\n",
      "INFO: Preprocessed 14500000 pages\n",
      "INFO: Preprocessed 14600000 pages\n",
      "INFO: Preprocessed 14700000 pages\n",
      "INFO: Preprocessed 14800000 pages\n",
      "INFO: Preprocessed 14900000 pages\n",
      "INFO: Preprocessed 15000000 pages\n",
      "INFO: Preprocessed 15100000 pages\n",
      "INFO: Preprocessed 15200000 pages\n",
      "INFO: Preprocessed 15300000 pages\n",
      "INFO: Preprocessed 15400000 pages\n",
      "INFO: Preprocessed 15500000 pages\n",
      "INFO: Preprocessed 15600000 pages\n",
      "INFO: Preprocessed 15700000 pages\n",
      "INFO: Preprocessed 15800000 pages\n",
      "INFO: Preprocessed 15900000 pages\n",
      "INFO: Preprocessed 16000000 pages\n",
      "INFO: Preprocessed 16100000 pages\n",
      "INFO: Preprocessed 16200000 pages\n",
      "INFO: Preprocessed 16300000 pages\n",
      "INFO: Preprocessed 16400000 pages\n",
      "INFO: Preprocessed 16500000 pages\n",
      "INFO: Preprocessed 16600000 pages\n",
      "INFO: Preprocessed 16700000 pages\n",
      "INFO: Preprocessed 16800000 pages\n",
      "INFO: Preprocessed 16900000 pages\n",
      "INFO: Preprocessed 17000000 pages\n",
      "INFO: Preprocessed 17100000 pages\n",
      "INFO: Preprocessed 17200000 pages\n",
      "INFO: Preprocessed 17300000 pages\n",
      "INFO: Preprocessed 17400000 pages\n",
      "INFO: Preprocessed 17500000 pages\n",
      "INFO: Preprocessed 17600000 pages\n",
      "INFO: Preprocessed 17700000 pages\n",
      "INFO: Preprocessed 17800000 pages\n",
      "INFO: Preprocessed 17900000 pages\n",
      "INFO: Preprocessed 18000000 pages\n",
      "INFO: Preprocessed 18100000 pages\n",
      "INFO: Preprocessed 18200000 pages\n",
      "INFO: Preprocessed 18300000 pages\n",
      "INFO: Preprocessed 18400000 pages\n",
      "INFO: Preprocessed 18500000 pages\n",
      "INFO: Preprocessed 18600000 pages\n",
      "INFO: Preprocessed 18700000 pages\n",
      "INFO: Preprocessed 18800000 pages\n",
      "INFO: Preprocessed 18900000 pages\n",
      "INFO: Preprocessed 19000000 pages\n",
      "INFO: Preprocessed 19100000 pages\n",
      "INFO: Preprocessed 19200000 pages\n",
      "INFO: Preprocessed 19300000 pages\n",
      "INFO: Preprocessed 19400000 pages\n",
      "INFO: Preprocessed 19500000 pages\n",
      "INFO: Preprocessed 19600000 pages\n",
      "INFO: Preprocessed 19700000 pages\n",
      "INFO: Preprocessed 19800000 pages\n",
      "INFO: Preprocessed 19900000 pages\n",
      "INFO: Preprocessed 20000000 pages\n",
      "INFO: Preprocessed 20100000 pages\n",
      "INFO: Preprocessed 20200000 pages\n",
      "INFO: Preprocessed 20300000 pages\n",
      "INFO: Preprocessed 20400000 pages\n",
      "INFO: Preprocessed 20500000 pages\n",
      "INFO: Preprocessed 20600000 pages\n",
      "INFO: Preprocessed 20700000 pages\n",
      "INFO: Preprocessed 20800000 pages\n",
      "INFO: Preprocessed 20900000 pages\n",
      "INFO: Preprocessed 21000000 pages\n",
      "INFO: Preprocessed 21100000 pages\n",
      "INFO: Preprocessed 21200000 pages\n",
      "INFO: Preprocessed 21300000 pages\n",
      "INFO: Preprocessed 21400000 pages\n",
      "INFO: Preprocessed 21500000 pages\n",
      "INFO: Preprocessed 21600000 pages\n",
      "INFO: Preprocessed 21700000 pages\n",
      "INFO: Preprocessed 21800000 pages\n",
      "INFO: Preprocessed 21900000 pages\n",
      "INFO: Preprocessed 22000000 pages\n",
      "INFO: Preprocessed 22100000 pages\n",
      "INFO: Preprocessed 22200000 pages\n",
      "INFO: Preprocessed 22300000 pages\n",
      "INFO: Preprocessed 22400000 pages\n",
      "INFO: Loaded 743398 templates in 4128.0s\n",
      "INFO: Starting page extraction from /content/drive/MyDrive/workspace/.cache/corpus/enwiki/enwiki.xml.bz2.\n",
      "INFO: Using 255 extract processes.\n",
      "INFO: Extracted 100000 articles (871.5 art/s)\n",
      "INFO: Extracted 200000 articles (1301.9 art/s)\n",
      "INFO: Extracted 300000 articles (1682.3 art/s)\n",
      "INFO: Extracted 400000 articles (2125.6 art/s)\n",
      "INFO: Extracted 500000 articles (2937.8 art/s)\n",
      "INFO: Extracted 600000 articles (2250.8 art/s)\n",
      "INFO: Extracted 700000 articles (2410.1 art/s)\n",
      "INFO: Extracted 800000 articles (2522.5 art/s)\n",
      "INFO: Extracted 900000 articles (2711.3 art/s)\n",
      "INFO: Extracted 1000000 articles (2833.4 art/s)\n",
      "INFO: Extracted 1100000 articles (2897.8 art/s)\n",
      "INFO: Extracted 1200000 articles (3066.2 art/s)\n",
      "INFO: Extracted 1300000 articles (2882.7 art/s)\n",
      "INFO: Extracted 1400000 articles (3082.5 art/s)\n",
      "INFO: Extracted 1500000 articles (3122.7 art/s)\n",
      "INFO: Extracted 1600000 articles (3233.5 art/s)\n",
      "INFO: Extracted 1700000 articles (3351.2 art/s)\n",
      "INFO: Extracted 1800000 articles (3320.9 art/s)\n",
      "INFO: Extracted 1900000 articles (3442.5 art/s)\n",
      "INFO: Extracted 2000000 articles (3610.9 art/s)\n",
      "INFO: Extracted 2100000 articles (3685.7 art/s)\n",
      "INFO: Extracted 2200000 articles (3482.8 art/s)\n",
      "INFO: Extracted 2300000 articles (3542.2 art/s)\n",
      "INFO: Extracted 2400000 articles (3689.0 art/s)\n",
      "INFO: Extracted 2500000 articles (3561.1 art/s)\n",
      "INFO: Extracted 2600000 articles (4044.9 art/s)\n",
      "INFO: Extracted 2700000 articles (3756.4 art/s)\n",
      "INFO: Extracted 2800000 articles (3956.3 art/s)\n",
      "INFO: Extracted 2900000 articles (3645.8 art/s)\n",
      "INFO: Extracted 3000000 articles (3730.7 art/s)\n",
      "INFO: Extracted 3100000 articles (3720.5 art/s)\n",
      "INFO: Extracted 3200000 articles (3666.6 art/s)\n",
      "INFO: Extracted 3300000 articles (3508.0 art/s)\n",
      "INFO: Extracted 3400000 articles (3750.4 art/s)\n",
      "INFO: Extracted 3500000 articles (4303.4 art/s)\n",
      "INFO: Extracted 3600000 articles (3860.7 art/s)\n",
      "INFO: Extracted 3700000 articles (4416.4 art/s)\n",
      "INFO: Extracted 3800000 articles (3974.8 art/s)\n",
      "INFO: Extracted 3900000 articles (3987.2 art/s)\n",
      "INFO: Extracted 4000000 articles (3964.6 art/s)\n",
      "INFO: Extracted 4100000 articles (4512.7 art/s)\n",
      "INFO: Extracted 4200000 articles (3996.4 art/s)\n",
      "INFO: Extracted 4300000 articles (4490.6 art/s)\n",
      "INFO: Extracted 4400000 articles (4078.6 art/s)\n",
      "INFO: Extracted 4500000 articles (4260.2 art/s)\n",
      "INFO: Extracted 4600000 articles (7377.0 art/s)\n",
      "INFO: Extracted 4700000 articles (6782.0 art/s)\n",
      "INFO: Extracted 4800000 articles (3770.2 art/s)\n",
      "INFO: Extracted 4900000 articles (3894.1 art/s)\n",
      "INFO: Extracted 5000000 articles (4019.0 art/s)\n",
      "INFO: Extracted 5100000 articles (4049.8 art/s)\n",
      "INFO: Extracted 5200000 articles (4333.3 art/s)\n",
      "INFO: Extracted 5300000 articles (3959.6 art/s)\n",
      "INFO: Extracted 5400000 articles (5211.2 art/s)\n",
      "INFO: Extracted 5500000 articles (4009.4 art/s)\n",
      "INFO: Extracted 5600000 articles (3727.2 art/s)\n",
      "INFO: Extracted 5700000 articles (3858.4 art/s)\n",
      "INFO: Extracted 5800000 articles (4163.3 art/s)\n",
      "INFO: Extracted 5900000 articles (4574.0 art/s)\n",
      "INFO: Extracted 6000000 articles (4071.1 art/s)\n",
      "INFO: Extracted 6100000 articles (4114.9 art/s)\n",
      "INFO: Extracted 6200000 articles (5213.6 art/s)\n",
      "INFO: Extracted 6300000 articles (4088.5 art/s)\n",
      "INFO: Extracted 6400000 articles (3944.6 art/s)\n",
      "INFO: Extracted 6500000 articles (3840.3 art/s)\n",
      "INFO: Extracted 6600000 articles (3751.1 art/s)\n",
      "INFO: Extracted 6700000 articles (4004.8 art/s)\n",
      "INFO: Extracted 6800000 articles (3887.9 art/s)\n",
      "INFO: Extracted 6900000 articles (3798.0 art/s)\n",
      "INFO: Extracted 7000000 articles (4286.9 art/s)\n",
      "INFO: Extracted 7100000 articles (4147.3 art/s)\n",
      "INFO: Extracted 7200000 articles (4454.0 art/s)\n",
      "INFO: Extracted 7300000 articles (3847.9 art/s)\n",
      "INFO: Extracted 7400000 articles (7826.7 art/s)\n",
      "INFO: Extracted 7500000 articles (3990.9 art/s)\n",
      "INFO: Extracted 7600000 articles (4206.6 art/s)\n",
      "INFO: Extracted 7700000 articles (6728.2 art/s)\n",
      "INFO: Extracted 7800000 articles (4828.5 art/s)\n",
      "INFO: Extracted 7900000 articles (3423.3 art/s)\n",
      "INFO: Extracted 8000000 articles (3513.2 art/s)\n",
      "INFO: Extracted 8100000 articles (4120.7 art/s)\n",
      "INFO: Extracted 8200000 articles (3569.6 art/s)\n",
      "INFO: Extracted 8300000 articles (3691.0 art/s)\n",
      "INFO: Extracted 8400000 articles (3543.7 art/s)\n",
      "INFO: Extracted 8500000 articles (3834.9 art/s)\n",
      "INFO: Extracted 8600000 articles (3731.0 art/s)\n",
      "INFO: Extracted 8700000 articles (3639.4 art/s)\n",
      "INFO: Extracted 8800000 articles (5176.8 art/s)\n",
      "INFO: Extracted 8900000 articles (3560.5 art/s)\n",
      "INFO: Extracted 9000000 articles (4012.6 art/s)\n",
      "INFO: Extracted 9100000 articles (4485.5 art/s)\n",
      "INFO: Extracted 9200000 articles (4443.0 art/s)\n",
      "INFO: Extracted 9300000 articles (4127.0 art/s)\n",
      "INFO: Extracted 9400000 articles (4374.7 art/s)\n",
      "INFO: Extracted 9500000 articles (4075.1 art/s)\n",
      "INFO: Extracted 9600000 articles (4355.9 art/s)\n",
      "INFO: Extracted 9700000 articles (4005.3 art/s)\n",
      "INFO: Extracted 9800000 articles (4151.5 art/s)\n",
      "INFO: Extracted 9900000 articles (3739.1 art/s)\n",
      "INFO: Extracted 10000000 articles (3768.4 art/s)\n",
      "INFO: Extracted 10100000 articles (4228.7 art/s)\n",
      "INFO: Extracted 10200000 articles (4101.4 art/s)\n",
      "INFO: Extracted 10300000 articles (3820.9 art/s)\n",
      "INFO: Extracted 10400000 articles (4008.2 art/s)\n",
      "INFO: Extracted 10500000 articles (3848.3 art/s)\n",
      "INFO: Extracted 10600000 articles (4143.9 art/s)\n",
      "INFO: Extracted 10700000 articles (4042.7 art/s)\n",
      "INFO: Extracted 10800000 articles (4265.0 art/s)\n",
      "INFO: Extracted 10900000 articles (4527.8 art/s)\n",
      "INFO: Extracted 11000000 articles (3844.3 art/s)\n",
      "INFO: Extracted 11100000 articles (3680.1 art/s)\n",
      "INFO: Extracted 11200000 articles (3734.3 art/s)\n",
      "INFO: Extracted 11300000 articles (3789.8 art/s)\n",
      "INFO: Extracted 11400000 articles (3790.8 art/s)\n",
      "INFO: Extracted 11500000 articles (4094.0 art/s)\n",
      "INFO: Extracted 11600000 articles (3770.5 art/s)\n",
      "INFO: Extracted 11700000 articles (3535.4 art/s)\n",
      "INFO: Extracted 11800000 articles (4217.7 art/s)\n",
      "INFO: Extracted 11900000 articles (4291.6 art/s)\n",
      "INFO: Extracted 12000000 articles (7164.3 art/s)\n",
      "INFO: Extracted 12100000 articles (3877.0 art/s)\n",
      "INFO: Extracted 12200000 articles (4946.4 art/s)\n",
      "INFO: Extracted 12300000 articles (3679.8 art/s)\n",
      "INFO: Extracted 12400000 articles (4231.1 art/s)\n",
      "INFO: Extracted 12500000 articles (3557.0 art/s)\n",
      "INFO: Extracted 12600000 articles (3693.9 art/s)\n",
      "INFO: Extracted 12700000 articles (3541.7 art/s)\n",
      "INFO: Extracted 12800000 articles (3683.8 art/s)\n",
      "INFO: Extracted 12900000 articles (3829.7 art/s)\n",
      "INFO: Extracted 13000000 articles (4193.9 art/s)\n",
      "INFO: Extracted 13100000 articles (4616.9 art/s)\n",
      "INFO: Extracted 13200000 articles (5566.1 art/s)\n",
      "INFO: Extracted 13300000 articles (3976.8 art/s)\n",
      "INFO: Extracted 13400000 articles (3769.4 art/s)\n",
      "INFO: Extracted 13500000 articles (3728.8 art/s)\n",
      "INFO: Extracted 13600000 articles (4018.4 art/s)\n",
      "INFO: Extracted 13700000 articles (3406.9 art/s)\n",
      "INFO: Extracted 13800000 articles (3471.8 art/s)\n",
      "INFO: Extracted 13900000 articles (4661.1 art/s)\n",
      "INFO: Extracted 14000000 articles (4528.6 art/s)\n",
      "INFO: Extracted 14100000 articles (3854.2 art/s)\n",
      "INFO: Extracted 14200000 articles (3824.4 art/s)\n",
      "INFO: Extracted 14300000 articles (3573.9 art/s)\n",
      "INFO: Extracted 14400000 articles (4370.3 art/s)\n",
      "INFO: Extracted 14500000 articles (3710.3 art/s)\n",
      "INFO: Extracted 14600000 articles (3770.8 art/s)\n",
      "INFO: Extracted 14700000 articles (3454.8 art/s)\n",
      "INFO: Extracted 14800000 articles (3418.1 art/s)\n",
      "INFO: Extracted 14900000 articles (3546.7 art/s)\n",
      "INFO: Extracted 15000000 articles (3663.0 art/s)\n",
      "INFO: Extracted 15100000 articles (3377.9 art/s)\n",
      "INFO: Extracted 15200000 articles (3406.2 art/s)\n",
      "INFO: Extracted 15300000 articles (3485.3 art/s)\n",
      "INFO: Extracted 15400000 articles (3469.9 art/s)\n",
      "INFO: Extracted 15500000 articles (3838.8 art/s)\n",
      "INFO: Extracted 15600000 articles (3879.4 art/s)\n",
      "INFO: Extracted 15700000 articles (3858.0 art/s)\n",
      "INFO: Extracted 15800000 articles (3391.2 art/s)\n",
      "INFO: Extracted 15900000 articles (3718.8 art/s)\n",
      "INFO: Extracted 16000000 articles (3962.4 art/s)\n",
      "INFO: Extracted 16100000 articles (3979.8 art/s)\n",
      "INFO: Extracted 16200000 articles (4694.5 art/s)\n",
      "INFO: Extracted 16300000 articles (4246.3 art/s)\n",
      "INFO: Extracted 16400000 articles (4286.6 art/s)\n",
      "INFO: Extracted 16500000 articles (4203.8 art/s)\n",
      "INFO: Extracted 16600000 articles (3595.3 art/s)\n",
      "INFO: Finished 255-process extraction of 16699989 articles in 4520.2s (3694.5 art/s)\n",
      "INFO:ekorpkit.base:instantiating ekorpkit.info.stat.SummaryInfo...\n",
      "INFO:ekorpkit.info.stat:Loading info file: /content/drive/MyDrive/workspace/data/datasets/corpus/enwiki/info-enwiki.yaml\n",
      "INFO:ekorpkit.base:instantiating ekorpkit.io.load.data.load_data...\n"
     ]
    },
    {
     "name": "stdout",
     "output_type": "stream",
     "text": [
      "Extracted enwiki from dump file /content/drive/MyDrive/workspace/.cache/corpus/enwiki/enwiki.xml.bz2\n",
      "{'category': 'formal',\n",
      " 'column_info': {'columns': {'id': 'id',\n",
      "                             'merge_meta_on': 'id',\n",
      "                             'text': 'text',\n",
      "                             'timestamp': None},\n",
      "                 'data': {'id': 'int', 'text': 'str'},\n",
      "                 'datetime': {'columns': None,\n",
      "                              'format': None,\n",
      "                              'rcParams': None},\n",
      "                 'meta': {'curid': 'str',\n",
      "                          'id': 'int',\n",
      "                          'title': 'str',\n",
      "                          'url': 'str'},\n",
      "                 'segment_separator': '\\\\n\\\\n',\n",
      "                 'sentence_separator': '\\\\n',\n",
      "                 'timestamp': {'format': None, 'key': None, 'rcParams': None}},\n",
      " 'description': 'Wikipedia',\n",
      " 'fullname': 'English Wikipedia Corpus',\n",
      " 'homepage': 'https://en.wikipedia.org',\n",
      " 'lang': 'en',\n",
      " 'license': 'CC Attribution / Share-Alike 3.0',\n",
      " 'name': 'enwiki',\n",
      " 'version': '1.0.0'}\n"
     ]
    },
    {
     "name": "stderr",
     "output_type": "stream",
     "text": [
      "INFO:ekorpkit.io.file:Processing [17144] files from ['**/*']\n",
      "INFO:ekorpkit.io.load.data:Starting multiprocessing with 50 processes at load_data\n"
     ]
    },
    {
     "data": {
      "application/vnd.jupyter.widget-view+json": {
       "model_id": "cf7b95245a3f475e8765db440f21e0f9",
       "version_major": 2,
       "version_minor": 0
      },
      "text/plain": [
       "::load_data():   0%|          | 0/17144 [00:00<?, ?it/s]"
      ]
     },
     "metadata": {},
     "output_type": "display_data"
    },
    {
     "name": "stdout",
     "output_type": "stream",
     "text": [
      "{'curid': '40754509', 'url': 'https://en.wikipedia.org/wiki?curid=40754509', 'title': 'Endocannabinoid transporter', 'text': 'The endocannabinoid transporters (eCBTs) are transport proteins for the endocannabinoids. Most neurotransmitters are water-soluble and require transmembrane proteins to transport them across the cell membrane. The endocannabinoids (anandamide, AEA, and 2-arachidonoylglycerol, 2-AG) on the other hand, are non-charged lipids that readily cross lipid membranes. However, since the endocannabinoids are water immiscible, protein transporters have been described that act as carriers to solubilize and transport the endocannabinoids through the aqueous cytoplasm. These include the heat shock proteins (Hsp70s) and fatty acid-binding proteins for anandamide (FABPs). FABPs such as FABP1, FABP3, FABP5, and FABP7 have been shown to bind endocannabinoids. FABP inhibitors attenuate the breakdown of anandamide by the enzyme fatty acid amide hydrolase (FAAH) in cell culture. One of these inhibitors (SB-FI-26), isolated from a virtual library of a million compounds, belongs to a class of compounds (named the \"truxilloids\\') that act as an anti-nociceptive agent with mild anti-inflammatory activity in mice. These truxillic acids and their derivatives have been known to have anti-inflammatory and anti-nociceptive effects in mice and are active components of a Chinese herbal medicine ((−)-Incarvillateine Incarvillea sinensis) used to treat rheumatism and pain in human. The blockade of anandamide transport may, at least in part, be the mechanism through which these compounds exert their anti-nociceptive effects.\\nStudies have found the involvement of cholesterol in membrane uptake and transport of anandamide. Cholesterol stimulates both the insertion of anandamide into synthetic lipid monolayers and bilayers, and its transport across bilayer membranes, suggest that besides putative anandamide protein-transporters, cholesterol could be an important component of the anandamide transport machinery, and as cholesterol-dependent modulation of CB1 cannabinoid receptors in nerve cells. The catalytic efficiency (i.e., the ratio between maximal velocity and Michaelis–Menten constant) of the AEA membrane transporter (AMT) is almost doubled compared with control cells, demonstrate that, among the proteins of the “endocannabinoid system,” only CB1 and AMT critically depend on membrane cholesterol content, an observation that may have important implications for the role of CB1 in protecting nerve cells against (endo)cannabinoid-induced apoptosis. This can be a reason, why the use of drugs to lower cholesterol is tied to a higher depression risk, and the correlation between levels and increased death rates from suicide and other violent causes.\\nActivation of CB1 enhances AMT activity through increased nitric oxide synthase (NOS) activity and subsequent increase of NO production, whereas AMT activity instead is reduced by activation of the CB2 cannabinoid receptor, which inhibits NOS and NO release, also suggesting the distribution of these receptors may drive AEA directional transport through the blood-brain barrier and other endothelial cells.\\nAs reviewed in 2016; \"Many of the AMT (EMT) proposals have fallen by the wayside.\" To date a transmembrane protein transporter has not been identified. ', 'split': 'train', 'filename': 'wiki_23'}\n"
     ]
    },
    {
     "name": "stderr",
     "output_type": "stream",
     "text": [
      "INFO:ekorpkit.datasets.build: >> elapsed time to load and parse data: 0:01:36.349757\n",
      "INFO:ekorpkit.datasets.build:\n",
      "Transforming dataframe with pipeline: ['reset_index', 'save_metadata']\n",
      "INFO:ekorpkit.pipelines.pipe:Applying pipeline: OrderedDict([('reset_index', 'reset_index'), ('save_metadata', 'save_metadata')])\n",
      "INFO:ekorpkit.base:Applying pipe: functools.partial(<function reset_index at 0x7fce771d3ca0>)\n",
      "INFO:ekorpkit.pipelines.pipe:Resetting index: {'_func_': {'_partial_': True, '_target_': 'ekorpkit.pipelines.pipe.reset_index'}, 'index_column_name': 'id', 'drop_index': False, 'verbose': True}\n"
     ]
    },
    {
     "name": "stdout",
     "output_type": "stream",
     "text": [
      "      curid                                           url  \\\n",
      "0  40754509  https://en.wikipedia.org/wiki?curid=40754509   \n",
      "1  40754512  https://en.wikipedia.org/wiki?curid=40754512   \n",
      "2  40754531  https://en.wikipedia.org/wiki?curid=40754531   \n",
      "3  40754542  https://en.wikipedia.org/wiki?curid=40754542   \n",
      "4  40754545  https://en.wikipedia.org/wiki?curid=40754545   \n",
      "\n",
      "                         title  \\\n",
      "0  Endocannabinoid transporter   \n",
      "1              Buddy McClinton   \n",
      "2                   Power Lock   \n",
      "3                  Mike Ballou   \n",
      "4          Philip M. Kleinfeld   \n",
      "\n",
      "                                                text  split filename  \n",
      "0  The endocannabinoid transporters (eCBTs) are t...  train  wiki_23  \n",
      "1  Buddy McClinton was a defensive back for the A...  train  wiki_23  \n",
      "2                                                     train  wiki_23  \n",
      "3  Mikell Randolph Ballou (born September 11, 194...  train  wiki_23  \n",
      "4  Philip M. Kleinfeld (June 19, 1894 – January 1...  train  wiki_23  \n",
      "(16699988, 6)\n"
     ]
    },
    {
     "name": "stderr",
     "output_type": "stream",
     "text": [
      "INFO:ekorpkit.base:Applying pipe: functools.partial(<function save_metadata at 0x7fce771d35e0>)\n",
      "INFO:ekorpkit.pipelines.pipe:Saving metadata: {'_func_': {'_partial_': True, '_target_': 'ekorpkit.pipelines.pipe.save_metadata'}, 'path': {'root': '/content/drive/MyDrive/workspace/data/ekorpkit-book', 'name': 'ekorpkit-book', 'cached_path': None, 'filetype': None, 'verbose': True, 'data_dir': '/content/drive/MyDrive/workspace/data/ekorpkit-book', 'data_file': None, 'concat_data': False, 'data_columns': None, 'columns': None, 'output_dir': None, 'output_file': None, 'suffix': None, 'output': {'filename': 'meta-enwiki-train.parquet', 'base_dir': '/content/drive/MyDrive/workspace/data/datasets/corpus/enwiki', 'filetype': '.parquet', 'suffix': None, 'filepath': '/content/drive/MyDrive/workspace/data/datasets/corpus/enwiki/meta-enwiki-train.parquet', 'columns': None, 'verbose': True}}, 'filepath': None, 'filetype': None, 'column_info': {'columns': {'id': 'id', 'text': 'text', 'merge_meta_on': 'id', 'timestamp': None}, 'datetime': {'columns': None, 'format': None, 'rcParams': None}, 'timestamp': {'key': None, 'format': None, 'rcParams': None}, 'data': {'id': 'int', 'text': 'str'}, 'meta': {'id': 'int', 'curid': 'str', 'url': 'str', 'title': 'str'}, 'segment_separator': '\\\\n\\\\n', 'sentence_separator': '\\\\n'}, 'split_name': 'train', 'verbose': True}\n"
     ]
    },
    {
     "name": "stdout",
     "output_type": "stream",
     "text": [
      "   id     curid                                           url  \\\n",
      "0   0  40754509  https://en.wikipedia.org/wiki?curid=40754509   \n",
      "1   1  40754512  https://en.wikipedia.org/wiki?curid=40754512   \n",
      "2   2  40754531  https://en.wikipedia.org/wiki?curid=40754531   \n",
      "3   3  40754542  https://en.wikipedia.org/wiki?curid=40754542   \n",
      "4   4  40754545  https://en.wikipedia.org/wiki?curid=40754545   \n",
      "\n",
      "                         title  \\\n",
      "0  Endocannabinoid transporter   \n",
      "1              Buddy McClinton   \n",
      "2                   Power Lock   \n",
      "3                  Mike Ballou   \n",
      "4          Philip M. Kleinfeld   \n",
      "\n",
      "                                                text  split filename  \n",
      "0  The endocannabinoid transporters (eCBTs) are t...  train  wiki_23  \n",
      "1  Buddy McClinton was a defensive back for the A...  train  wiki_23  \n",
      "2                                                     train  wiki_23  \n",
      "3  Mikell Randolph Ballou (born September 11, 194...  train  wiki_23  \n",
      "4  Philip M. Kleinfeld (June 19, 1894 – January 1...  train  wiki_23  \n"
     ]
    },
    {
     "name": "stderr",
     "output_type": "stream",
     "text": [
      "INFO:ekorpkit.io.file:Saving dataframe to /content/drive/MyDrive/workspace/data/datasets/corpus/enwiki/meta-enwiki-train.parquet\n",
      "INFO:ekorpkit.io.file: >> elapsed time to save data: 0:01:02.858828\n",
      "INFO:ekorpkit.io.file:Saving dataframe to /content/drive/MyDrive/workspace/data/datasets/corpus/enwiki/enwiki-train.parquet\n",
      "INFO:ekorpkit.io.file: >> elapsed time to save data: 0:19:07.049930\n",
      "INFO:ekorpkit.info.stat:Initializing statistics for split: train with stats: {'name': 'train', 'dataset_name': 'enwiki', 'data_file': 'enwiki-train.parquet', 'meta_file': 'meta-enwiki-train.parquet'}\n",
      "INFO:ekorpkit.base:Using batcher with minibatch size: 1000\n",
      "INFO:ekorpkit.utils.batch.batcher: backend: joblib  minibatch_size: 1000  procs: 50  input_split: False  merge_output: True  len(data): 16699988 len(args): 5\n"
     ]
    },
    {
     "data": {
      "application/vnd.jupyter.widget-view+json": {
       "model_id": "6fb24efedcf9441ba1082fe3a0bc78a4",
       "version_major": 2,
       "version_minor": 0
      },
      "text/plain": [
       "apply len_bytes to num_bytes:   0%|          | 0/16700 [00:00<?, ?it/s]"
      ]
     },
     "metadata": {},
     "output_type": "display_data"
    },
    {
     "name": "stderr",
     "output_type": "stream",
     "text": [
      "INFO:ekorpkit.base:Using batcher with minibatch size: 1000\n",
      "INFO:ekorpkit.utils.batch.batcher: backend: joblib  minibatch_size: 1000  procs: 50  input_split: False  merge_output: True  len(data): 16699988 len(args): 5\n"
     ]
    },
    {
     "data": {
      "application/vnd.jupyter.widget-view+json": {
       "model_id": "86d4bd97a8044331a9c6b3d4269fa413",
       "version_major": 2,
       "version_minor": 0
      },
      "text/plain": [
       "apply len_sents to num_sents:   0%|          | 0/16700 [00:00<?, ?it/s]"
      ]
     },
     "metadata": {},
     "output_type": "display_data"
    },
    {
     "name": "stderr",
     "output_type": "stream",
     "text": [
      "INFO:ekorpkit.info.stat: >> elapsed time to calculate statistics before processing: 0:01:52.110589\n",
      "INFO:ekorpkit.info.stat: >> updated splits: {'train': {'name': 'train', 'dataset_name': 'enwiki', 'data_file': 'enwiki-train.parquet', 'meta_file': 'meta-enwiki-train.parquet', 'num_docs_before_processing': 16699988, 'num_bytes_before_processing': 15342187701, 'num_sents': 68973662}}\n",
      "INFO:ekorpkit.datasets.build:\n",
      "Processing dataframe with pipeline: ['normalize', 'segment', 'filter_length', 'drop_duplicates', 'save_samples']\n",
      "INFO:ekorpkit.pipelines.pipe:Applying pipeline: OrderedDict([('normalize', 'normalize'), ('segment', 'segment'), ('filter_length', 'filter_length'), ('drop_duplicates', 'drop_duplicates'), ('save_samples', 'save_samples')])\n",
      "INFO:ekorpkit.base:Applying pipe: functools.partial(<function normalize at 0x7fce771d3ee0>)\n",
      "INFO:ekorpkit.pipelines.pipe:instantiating normalizer\n",
      "INFO:ekorpkit.base:Using batcher with minibatch size: 1000\n",
      "INFO:ekorpkit.utils.batch.batcher: backend: joblib  minibatch_size: 1000  procs: 50  input_split: False  merge_output: True  len(data): 16699988 len(args): 5\n"
     ]
    },
    {
     "data": {
      "application/vnd.jupyter.widget-view+json": {
       "model_id": "f2f2473c1d3a46379a36bdcaf96e9645",
       "version_major": 2,
       "version_minor": 0
      },
      "text/plain": [
       "Normalizing column: text:   0%|          | 0/16700 [00:00<?, ?it/s]"
      ]
     },
     "metadata": {},
     "output_type": "display_data"
    },
    {
     "name": "stderr",
     "output_type": "stream",
     "text": [
      "INFO:ekorpkit.pipelines.pipe: >> elapsed time to normalize: 0:02:10.739667\n",
      "INFO:ekorpkit.base:Applying pipe: functools.partial(<function segment at 0x7fce771d30d0>)\n",
      "INFO:ekorpkit.pipelines.pipe:instantiating segmenter\n",
      "INFO:ekorpkit.base:instantiating ekorpkit.preprocessors.segmenter.PySBDSegmenter...\n",
      "INFO:ekorpkit.base:Using batcher with minibatch size: 1000\n",
      "INFO:ekorpkit.utils.batch.batcher: backend: joblib  minibatch_size: 1000  procs: 50  input_split: False  merge_output: True  len(data): 16699988 len(args): 5\n"
     ]
    },
    {
     "data": {
      "application/vnd.jupyter.widget-view+json": {
       "model_id": "5463a1d8a37a4b2db98361d1b10041fe",
       "version_major": 2,
       "version_minor": 0
      },
      "text/plain": [
       "Splitting column: text:   0%|          | 0/16700 [00:02<?, ?it/s]"
      ]
     },
     "metadata": {},
     "output_type": "display_data"
    },
    {
     "name": "stderr",
     "output_type": "stream",
     "text": [
      "INFO:ekorpkit.pipelines.pipe: >> elapsed time to segment: 0:41:02.925846\n",
      "INFO:ekorpkit.base:Applying pipe: functools.partial(<function filter_length at 0x7fce771d3280>, len_bytes={'_partial_': True, '_target_': 'ekorpkit.utils.func.len_bytes'}, len_words={'_partial_': True, '_target_': 'ekorpkit.utils.func.len_words'})\n",
      "INFO:ekorpkit.pipelines.pipe:Filtering by length: {'_func_': {'_partial_': True, '_target_': 'ekorpkit.pipelines.pipe.filter_length', 'len_bytes': {'_partial_': True, '_target_': 'ekorpkit.utils.func.len_bytes'}, 'len_words': {'_partial_': True, '_target_': 'ekorpkit.utils.func.len_words'}}, 'apply_to': 'text', 'min_length': 30, 'max_length': None, 'len_func': 'len_bytes', 'len_column': 'num_bytes', 'add_len_column': True, 'verbose': True, 'use_batcher': True}\n",
      "INFO:ekorpkit.base:Using batcher with minibatch size: 1000\n",
      "INFO:ekorpkit.utils.batch.batcher: backend: joblib  minibatch_size: 1000  procs: 50  input_split: False  merge_output: True  len(data): 16699988 len(args): 5\n"
     ]
    },
    {
     "data": {
      "application/vnd.jupyter.widget-view+json": {
       "model_id": "f0290d5e27a1421a998ee7e30d5c824a",
       "version_major": 2,
       "version_minor": 0
      },
      "text/plain": [
       "Calculating length:   0%|          | 0/16700 [00:00<?, ?it/s]"
      ]
     },
     "metadata": {},
     "output_type": "display_data"
    },
    {
     "name": "stderr",
     "output_type": "stream",
     "text": [
      "INFO:ekorpkit.pipelines.pipe:removed 10366199 of 16699988 documents with length < 30\n",
      "INFO:ekorpkit.pipelines.pipe: >> elapsed time to filter length: 0:00:31.301093\n",
      "INFO:ekorpkit.base:Applying pipe: functools.partial(<function drop_duplicates at 0x7fce771d34c0>)\n",
      "INFO:ekorpkit.pipelines.pipe:Dropping duplicates: {'_func_': {'_partial_': True, '_target_': 'ekorpkit.pipelines.pipe.drop_duplicates'}, 'apply_to': 'text', 'verbose': True}\n",
      "INFO:ekorpkit.pipelines.pipe:6327718 documents after dropping 6071 duplicates from [['text']]\n",
      "INFO:ekorpkit.pipelines.pipe: >> elapsed time to drop duplicates: 0:00:44.304687\n",
      "INFO:ekorpkit.base:Applying pipe: functools.partial(<function save_samples at 0x7fce771d3790>)\n",
      "INFO:ekorpkit.pipelines.pipe:Saving samples: {'_func_': {'_partial_': True, '_target_': 'ekorpkit.pipelines.pipe.save_samples'}, 'path': {'root': '/content/drive/MyDrive/workspace/data/ekorpkit-book', 'name': 'ekorpkit-book', 'cached_path': None, 'filetype': '', 'verbose': True, 'data_dir': '/content/drive/MyDrive/workspace/data/ekorpkit-book', 'data_file': None, 'concat_data': False, 'data_columns': None, 'columns': None, 'output_dir': None, 'output_file': None, 'suffix': None, 'output': {'filename': 'sample-enwiki-train.txt', 'base_dir': '/content/drive/MyDrive/workspace/data/datasets/corpus/enwiki', 'filetype': '.txt', 'suffix': None, 'filepath': '/content/drive/MyDrive/workspace/data/datasets/corpus/enwiki/sample-enwiki-train.txt', 'columns': None, 'verbose': True}}, 'apply_to': 'text', 'num_samples_to_save': 2, 'output_file': None, 'sample_length_to_print': 1000, 'verbose': True}\n",
      "INFO:ekorpkit.pipelines.pipe:Saved 2 samples to /content/drive/MyDrive/workspace/data/datasets/corpus/enwiki/sample-enwiki-train.txt\n"
     ]
    },
    {
     "name": "stdout",
     "output_type": "stream",
     "text": [
      "----------------------------------------------------------------------------------------------------\n",
      "\n",
      "text: \n",
      "Novska railway station () is a railway station on the Novska-Tovarnik railway in Novska, Croatia. \n",
      "There are three lines connecting Novska to Jasenovac, Okučani, and Lipovljani. \n",
      "The railway station consists of 18 railway tracks.\n",
      "\n",
      "----------------------------------------------------------------------------------------------------\n",
      "text: \n",
      "Zoltán Friedmanszky (22 October 1934 - 31 March 2022) was a Hungarian footballer who played as a forward. \n",
      "He was a member of the Hungary national team at the 1958 FIFA World Cup. \n",
      "However, he was never capped for the national team. \n",
      "He also played for Ferencváros.\n",
      "\n",
      "----------------------------------------------------------------------------------------------------\n"
     ]
    },
    {
     "name": "stderr",
     "output_type": "stream",
     "text": [
      "INFO:ekorpkit.info.stat:Calculating statistics for split: train\n",
      "INFO:ekorpkit.base:Using batcher with minibatch size: 1000\n",
      "INFO:ekorpkit.utils.batch.batcher: backend: joblib  minibatch_size: 1000  procs: 50  input_split: False  merge_output: True  len(data): 6327718 len(args): 5\n"
     ]
    },
    {
     "data": {
      "application/vnd.jupyter.widget-view+json": {
       "model_id": "58c691b306684e90b52bb56b2daae536",
       "version_major": 2,
       "version_minor": 0
      },
      "text/plain": [
       "apply len_bytes to num_bytes:   0%|          | 0/6328 [00:00<?, ?it/s]"
      ]
     },
     "metadata": {},
     "output_type": "display_data"
    },
    {
     "name": "stderr",
     "output_type": "stream",
     "text": [
      "INFO:ekorpkit.base:Using batcher with minibatch size: 1000\n",
      "INFO:ekorpkit.utils.batch.batcher: backend: joblib  minibatch_size: 1000  procs: 50  input_split: False  merge_output: True  len(data): 6327718 len(args): 5\n"
     ]
    },
    {
     "data": {
      "application/vnd.jupyter.widget-view+json": {
       "model_id": "28f26f879f57410eb478788fabae0fdd",
       "version_major": 2,
       "version_minor": 0
      },
      "text/plain": [
       "apply len_wospc to num_bytes_wospc:   0%|          | 0/6328 [00:00<?, ?it/s]"
      ]
     },
     "metadata": {},
     "output_type": "display_data"
    },
    {
     "name": "stderr",
     "output_type": "stream",
     "text": [
      "INFO:ekorpkit.base:Using batcher with minibatch size: 1000\n",
      "INFO:ekorpkit.utils.batch.batcher: backend: joblib  minibatch_size: 1000  procs: 50  input_split: False  merge_output: True  len(data): 6327718 len(args): 5\n"
     ]
    },
    {
     "data": {
      "application/vnd.jupyter.widget-view+json": {
       "model_id": "9f6cab13c9eb4e6f874e273c7144780d",
       "version_major": 2,
       "version_minor": 0
      },
      "text/plain": [
       "apply len_words to num_words:   0%|          | 0/6328 [00:00<?, ?it/s]"
      ]
     },
     "metadata": {},
     "output_type": "display_data"
    },
    {
     "name": "stderr",
     "output_type": "stream",
     "text": [
      "INFO:ekorpkit.base:Using batcher with minibatch size: 1000\n",
      "INFO:ekorpkit.utils.batch.batcher: backend: joblib  minibatch_size: 1000  procs: 50  input_split: False  merge_output: True  len(data): 6327718 len(args): 5\n"
     ]
    },
    {
     "data": {
      "application/vnd.jupyter.widget-view+json": {
       "model_id": "f23d1db9cd504d67b84f0882831a52dc",
       "version_major": 2,
       "version_minor": 0
      },
      "text/plain": [
       "apply len_sents to num_sents:   0%|          | 0/6328 [00:00<?, ?it/s]"
      ]
     },
     "metadata": {},
     "output_type": "display_data"
    },
    {
     "name": "stderr",
     "output_type": "stream",
     "text": [
      "INFO:ekorpkit.base:Using batcher with minibatch size: 1000\n",
      "INFO:ekorpkit.utils.batch.batcher: backend: joblib  minibatch_size: 1000  procs: 50  input_split: False  merge_output: True  len(data): 6327718 len(args): 5\n"
     ]
    },
    {
     "data": {
      "application/vnd.jupyter.widget-view+json": {
       "model_id": "ae733d81c6e44f4c8a23b3965f9200d3",
       "version_major": 2,
       "version_minor": 0
      },
      "text/plain": [
       "apply len_segments to num_segments:   0%|          | 0/6328 [00:00<?, ?it/s]"
      ]
     },
     "metadata": {},
     "output_type": "display_data"
    },
    {
     "name": "stderr",
     "output_type": "stream",
     "text": [
      "INFO:ekorpkit.info.stat: >> elapsed time to calculate statistics: 0:01:53.710827\n",
      "INFO:ekorpkit.info.stat:Saving updated info file: /content/drive/MyDrive/workspace/data/datasets/corpus/enwiki/info-enwiki.yaml\n",
      "INFO:ekorpkit.datasets.build:\n",
      "Corpus [enwiki] is built to [/content/drive/MyDrive/workspace/data/datasets/corpus/enwiki] from [/content/drive/MyDrive/workspace/data/archive/datasets/source/enwiki]\n"
     ]
    },
    {
     "name": "stdout",
     "output_type": "stream",
     "text": [
      "{'category': 'formal',\n",
      " 'column_info': {'columns': {'id': 'id',\n",
      "                             'merge_meta_on': 'id',\n",
      "                             'text': 'text',\n",
      "                             'timestamp': None},\n",
      "                 'data': {'id': 'int', 'text': 'str'},\n",
      "                 'datetime': {'columns': None,\n",
      "                              'format': None,\n",
      "                              'rcParams': None},\n",
      "                 'meta': {'curid': 'str',\n",
      "                          'id': 'int',\n",
      "                          'title': 'str',\n",
      "                          'url': 'str'},\n",
      "                 'segment_separator': '\\\\n\\\\n',\n",
      "                 'sentence_separator': '\\\\n',\n",
      "                 'timestamp': {'format': None, 'key': None, 'rcParams': None}},\n",
      " 'data_files': {'train': 'enwiki-train.parquet'},\n",
      " 'data_files_modified': '2022-10-29 11:04:23',\n",
      " 'description': 'Wikipedia',\n",
      " 'fullname': 'English Wikipedia Corpus',\n",
      " 'homepage': 'https://en.wikipedia.org',\n",
      " 'info_updated': '2022-10-29 11:52:41',\n",
      " 'lang': 'en',\n",
      " 'license': 'CC Attribution / Share-Alike 3.0',\n",
      " 'meta_files': {'train': 'meta-enwiki-train.parquet'},\n",
      " 'meta_files_modified': '2022-10-29 10:45:11',\n",
      " 'name': 'enwiki',\n",
      " 'num_bytes_before_processing': 15342187701,\n",
      " 'num_docs': 6327718,\n",
      " 'num_docs_before_processing': 16699988,\n",
      " 'num_segments': 6329379,\n",
      " 'num_sents': 133373574,\n",
      " 'num_words': 2482445427,\n",
      " 'size_in_bytes': 15381978510,\n",
      " 'size_in_human_bytes': '14.33 GiB',\n",
      " 'splits': {'train': {'data_file': 'enwiki-train.parquet',\n",
      "                      'dataset_name': 'enwiki',\n",
      "                      'human_bytes': '14.33 GiB',\n",
      "                      'human_bytes_wospc': '11.95 GiB',\n",
      "                      'meta_file': 'meta-enwiki-train.parquet',\n",
      "                      'name': 'train',\n",
      "                      'num_bytes': 15381978510,\n",
      "                      'num_bytes_before_processing': 15342187701,\n",
      "                      'num_bytes_max': 381498,\n",
      "                      'num_bytes_median': 951.0,\n",
      "                      'num_bytes_min': 30,\n",
      "                      'num_bytes_wospc': 12831216681,\n",
      "                      'num_docs': 6327718,\n",
      "                      'num_docs_before_processing': 16699988,\n",
      "                      'num_segments': 6329379,\n",
      "                      'num_segments_median': 1.0,\n",
      "                      'num_sents': 133373574,\n",
      "                      'num_sents_median': 10.0,\n",
      "                      'num_words': 2482445427,\n",
      "                      'num_words_max': 65724,\n",
      "                      'num_words_median': 154.0,\n",
      "                      'num_words_min': 1}},\n",
      " 'version': '1.0.0'}\n"
     ]
    }
   ],
   "source": [
    "cfg = eKonf.compose('corpus/builtin=enwiki')\n",
    "cfg.verbose = True\n",
    "cfg.num_workers = 50\n",
    "db = eKonf.instantiate(cfg)"
   ]
  },
  {
   "cell_type": "markdown",
   "metadata": {},
   "source": [
    "### Build the Wikipedia Corpus for Other Languages"
   ]
  },
  {
   "cell_type": "code",
   "execution_count": 3,
   "metadata": {},
   "outputs": [
    {
     "name": "stderr",
     "output_type": "stream",
     "text": [
      "INFO:ekorpkit.base:Loaded .env from /workspace/projects/ekorpkit-book/config/.env\n",
      "INFO:ekorpkit.utils.notebook:shell type: ZMQInteractiveShell\n",
      "INFO:ekorpkit.base:setting environment variable CACHED_PATH_CACHE_ROOT to /content/drive/MyDrive/workspace/.cache/cached_path\n",
      "INFO:ekorpkit.base:setting environment variable KMP_DUPLICATE_LIB_OK to TRUE\n",
      "INFO:ekorpkit.base:instantiating ekorpkit.datasets.build.DatasetBuilder...\n",
      "INFO:ekorpkit.base:instantiating ekorpkit.io.fetch.loader.wiki.Wiki...\n"
     ]
    },
    {
     "data": {
      "application/vnd.jupyter.widget-view+json": {
       "model_id": "82d0f75a4aba45a09b434061e59fee8f",
       "version_major": 2,
       "version_minor": 0
      },
      "text/plain": [
       "[bnwiki.xml.bz2] download bnwiki.xml.bz2: 0.00B [00:00, ?B/s]"
      ]
     },
     "metadata": {},
     "output_type": "display_data"
    },
    {
     "name": "stderr",
     "output_type": "stream",
     "text": [
      "INFO: Preprocessing '/content/drive/MyDrive/workspace/.cache/corpus/bnwiki/bnwiki.xml.bz2' to collect template definitions: this may take some time.\n",
      "INFO: Preprocessed 100000 pages\n",
      "INFO: Preprocessed 200000 pages\n",
      "INFO: Preprocessed 300000 pages\n",
      "INFO: Preprocessed 400000 pages\n",
      "INFO: Preprocessed 500000 pages\n",
      "INFO: Loaded 55231 templates in 88.0s\n",
      "INFO: Starting page extraction from /content/drive/MyDrive/workspace/.cache/corpus/bnwiki/bnwiki.xml.bz2.\n",
      "INFO: Using 255 extract processes.\n",
      "INFO: Extracted 100000 articles (5708.3 art/s)\n",
      "INFO: Extracted 200000 articles (4570.7 art/s)\n",
      "INFO: Extracted 300000 articles (2784.1 art/s)\n",
      "INFO: Finished 255-process extraction of 348547 articles in 94.9s (3671.6 art/s)\n",
      "INFO:ekorpkit.base:instantiating ekorpkit.info.stat.SummaryInfo...\n",
      "INFO:ekorpkit.info.stat:Loading info file: /content/drive/MyDrive/workspace/data/datasets/corpus/bnwiki/info-bnwiki.yaml\n",
      "INFO:ekorpkit.base:instantiating ekorpkit.io.load.data.load_data...\n",
      "INFO:ekorpkit.io.file:Processing [1325] files from ['**/*']\n",
      "INFO:ekorpkit.io.load.data:Starting multiprocessing with 50 processes at load_data\n"
     ]
    },
    {
     "name": "stdout",
     "output_type": "stream",
     "text": [
      "Extracted bnwiki from dump file /content/drive/MyDrive/workspace/.cache/corpus/bnwiki/bnwiki.xml.bz2\n",
      "{'category': 'formal',\n",
      " 'column_info': {'columns': {'id': 'id',\n",
      "                             'merge_meta_on': 'id',\n",
      "                             'text': 'text',\n",
      "                             'timestamp': None},\n",
      "                 'data': {'id': 'int', 'text': 'str'},\n",
      "                 'datetime': {'columns': None,\n",
      "                              'format': None,\n",
      "                              'rcParams': None},\n",
      "                 'meta': {'curid': 'str',\n",
      "                          'id': 'int',\n",
      "                          'title': 'str',\n",
      "                          'url': 'str'},\n",
      "                 'segment_separator': '\\\\n\\\\n',\n",
      "                 'sentence_separator': '\\\\n',\n",
      "                 'timestamp': {'format': None, 'key': None, 'rcParams': None}},\n",
      " 'description': 'Wikipedia',\n",
      " 'fullname': 'Wikipedia Corpus (bn)',\n",
      " 'homepage': 'https://bn.wikipedia.org',\n",
      " 'lang': 'bn',\n",
      " 'license': 'CC Attribution / Share-Alike 3.0',\n",
      " 'name': 'bnwiki',\n",
      " 'version': '1.0.0'}\n"
     ]
    },
    {
     "data": {
      "application/vnd.jupyter.widget-view+json": {
       "model_id": "ca0884ef4f4d4012a5b1fe3530a0ec33",
       "version_major": 2,
       "version_minor": 0
      },
      "text/plain": [
       "::load_data():   0%|          | 0/1325 [00:00<?, ?it/s]"
      ]
     },
     "metadata": {},
     "output_type": "display_data"
    },
    {
     "name": "stdout",
     "output_type": "stream",
     "text": [
      "{'curid': '736376', 'url': 'https://bn.wikipedia.org/wiki?curid=736376', 'title': 'শ্যামাদাস মুখোপাধ্যায়', 'text': 'শ্যামাদাস মুখোপাধ্যায় (২২ জুন ১৮৬৬ - ৮ মে ১৯৩৭) ছিলেন একজন ভারতীয় বাঙালি গণিতবিদ। তিনি ইউক্লিডিয় জ্যামিতির মুখোপাধ্যায়ের উপপাদ্য এবং চতুর্শীর্ষ উপপাদ্য (Four-vertex theorem) উপস্থাপনের জন্য পরিচিত। তিনি ভারতের প্রথম গণিতবিদ হিসেবে ডক্টরেট ডিগ্রী অর্জন করেন।\\nজন্ম ও শিক্ষাজীবন.\\nশ্যামাদাস মুখোপাধ্যায় ১৮৬৬ খ্রিষ্টাব্দের ২২ জুন পশ্চিমবঙ্গের হুগলি জেলার হরিপাল ব্লকে জন্মগ্রহণ করেন। তার বাবা বাবু গঙ্গা কান্ত মুখোপাধ্যায় রাজ্য বিচার বিভাগে নিযুক্ত ছিলেন। চাকরি সূত্রে তাকে বিভিন্ন স্থানে স্থানান্তরিত করা হওয়ায় শ্যামাদাস মুখোপাধ্যায়কে বিভিন্ন সময়ে বিভিন্ন শিক্ষা প্রতিষ্ঠানে শিক্ষা গ্রহণ করতে হয়। তিনি হুগলি কলেজ থেকে স্নাতক হন। তিনি ১৮৯০ খ্রিষ্টাব্দে কলকাতার প্রেসিডেন্সি কলেজ থেকে গণিত বিষয়ে এমএ ডিগ্রি অর্জন করেন। তিনি ১৯০৯ খ্রিষ্টাব্দে তার গাণিতিক তত্ত্বালোচনা \"অন দ্যা ইনফিনিটেসিমাল এনালিসিস অফ এন আর্ক\"-এর জন্য কলকাতা বিশ্ববিদ্যালয় থেকে গ্রিফিত পুরস্কার পান। তিনি ১৯১০ খ্রিষ্টাব্দে তার নিজস্ব ডিফারেনশিয়াল জ্যামিতির উপরে কলকাতা বিশ্ববিদ্যালয় থেকে পিএইচডি ডিগ্রি লাভ করেন। তার থিসিসের নাম ছিল \"Parametric Coefficients in the Differential Geometry of Curves in an N-space\"।\\nকর্মজীবন.\\nশ্যামাদাস মুখোপাধ্যায় কলকাতায় বঙ্গবাসী কলেজে কিছু বছর কাজ করার পর বেথুন কলেজে যোগদান করেন, যেখানে তিনি গণিত ছাড়াও ইংরেজি সাহিত্য ও দর্শনশাস্ত্রে শিক্ষা দিতেন। ১৯০৪ খ্রিষ্টাব্দে তাকে প্রেসিডেন্সি কলেজে স্থানান্তর করা হয়। সেখানে তিনি ১৯১২ খ্রিষ্টাব্দ পর্যন্ত আট সেখানে শিক্ষকতা করেন। ১৯১২খ্রিষ্টাব্দে কলকাতা বিশ্ববিদ্যালয়ের তৎকালীন উপাচার্য স্যার আশুতোষ মুখার্জী, শ্যামাদাস মুখোপাধ্যায়কে কলকাতা বিশ্ববিদ্যালয়ে নতুন বিশুদ্ধ গণিত বিভাগে যোগদানের জন্য আমন্ত্রণ জানান। শ্যামাদাস মুখোপাধ্যায় সেই আমন্ত্রণে সেখানে যোগ দেন। ১৯৩২ খ্রিষ্টাব্দে তিনি কলকাতা গাণিতিক সমিতির সভাপতি নির্বাচিত হন। তিনি আমৃত্যু এই পদে ছিলেন। ১৯৩৭ খ্রিষ্টাব্দের ৮ মে হৃদরোগের আক্রান্ত হয়ে তিনি মারা যান।\\nগবেষণা.\\nশ্যামাদাস মুখোপাধ্যায় সম্ভবত স্নাতককালে তার হুগলি কলেজের শিক্ষক উইলিয়াম বুথের জ্যামিতি বিষয়ক গবেষণা দ্বারা অনুপ্রাণিত হয়েছিলেন। ডক্টর মুখোপাধ্যায়ের গবেষণা মূলত অ-ইউক্লিডিয়ান জ্যামিতি, ডিফারেনশিয়াল জ্যামিতি এবং চতুর্মাত্রিক স্থানের স্টেরিওস্কোপিক উপস্থাপনার জন্য গুরুত্বপূর্ণ ছিল।\\nতিনি দুটি গুরুত্বপূর্ণ উপপাদ্য উপস্থাপন করেন। প্রথম উপপাদ্যটি হল- “\"the minimum number of cyclic points on a convex oval is 4\"’’ (একটি উত্তল ডিম্বাকৃতিতে সাইক্লিক পয়েন্টের সর্বনিম্ন সংখ্যা হল ৪) এবং দ্বিতীয়টি হল- “\"the minimum number of sextactic points on a convex oval is 6\"” (একটি উত্তল ডিম্বাকৃতিতে সেক্সট্যাকটিক পয়েন্টের সর্বনিম্ন সংখ্যা হল ৬)। এই দুটি উপপাদ্য প্রথম প্রকাশিত হয় ১৯০৯ খ্রিস্টাব্দে কলকাতা গাণিতিক সমিতির বুলেটিনে। কিন্তু সেই সময় এই দুটি গুরুত্বপূর্ণ তত্ত্বকে গুরুত্ব দেওয়া হয়নি। শুধুমাত্র বিশিষ্ট ফরাসি গণিতবিদ জাক আদামার ডক্টর মুখোপাধ্যায়ের গবেষণার গুরুত্ব উপলব্ধি করে কোলেজ দ্য ফ্রঁসে তত্ত্ব দুটির কথা উল্লেখ করেন। অনেক বছর পরে, এই তত্ত্ব দুটি ইউরোপে পুনরায় আবিষ্কৃত হয়। জার্মান জ্যামিতিবেত্তা Wilhelm Blaschke শ্যামাদাস মুখোপাধ্যায়কে প্রথম উপপাদ্যটির প্রথম প্রমাণের জন্য উপযুক্ত সম্মান দিয়েছেন। জ্যামিতির আধুনিক সাহিত্যে এই তত্ত্বটি এখন অপ্রত্যাশিতভাবে উদ্ধৃত করা হয়েছে \"মুখোপাধ্যায়ের চতুর্শীর্ষ উপপাদ্য\" নামে।\\nপরবর্তীতে শ্যামাদাস মুখোপাধ্যায় এই দুটি উপপাদ্যের সাধারণীকরণ করেন। প্রথম উপপাদ্যের সাধারণ বক্তব্যটি হল “\"If a circle C intersects an oval V in 2n points (n 2) then there exists at least 2n cyclic points in order on V, of alternately contrary signs, provided the oval has continuity of order 3\"”। দ্বিতীয় উপপাদ্যের সাধারণ বক্তব্যটি হল “\"If a conic C intersects an oval V in 2n points (n&gt; or = 2), then there exist at least 2n sextactic points in order on V, which are alternatively positive and negative, provided V has continuity of order 5\"”। এইভাবে তিনি আগের তত্ত্ব দুটিকে আরো শক্তভাবে প্রতিষ্ঠা করেন।', 'split': 'train', 'filename': 'wiki_23'}\n"
     ]
    },
    {
     "name": "stderr",
     "output_type": "stream",
     "text": [
      "INFO:ekorpkit.datasets.build: >> elapsed time to load and parse data: 0:00:06.185794\n",
      "INFO:ekorpkit.datasets.build:\n",
      "Transforming dataframe with pipeline: ['reset_index', 'save_metadata']\n",
      "INFO:ekorpkit.pipelines.pipe:Applying pipeline: OrderedDict([('reset_index', 'reset_index'), ('save_metadata', 'save_metadata')])\n",
      "INFO:ekorpkit.base:Applying pipe: functools.partial(<function reset_index at 0x7ff4a9da2160>)\n",
      "INFO:ekorpkit.pipelines.pipe:Resetting index: {'_func_': {'_partial_': True, '_target_': 'ekorpkit.pipelines.pipe.reset_index'}, 'index_column_name': 'id', 'drop_index': False, 'verbose': True}\n",
      "INFO:ekorpkit.base:Applying pipe: functools.partial(<function save_metadata at 0x7ff4a9da2dc0>)\n",
      "INFO:ekorpkit.pipelines.pipe:Saving metadata: {'_func_': {'_partial_': True, '_target_': 'ekorpkit.pipelines.pipe.save_metadata'}, 'path': {'root': '/content/drive/MyDrive/workspace/data/ekorpkit-book', 'name': 'ekorpkit-book', 'cached_path': None, 'filetype': None, 'verbose': True, 'data_dir': '/content/drive/MyDrive/workspace/data/ekorpkit-book', 'data_file': None, 'concat_data': False, 'data_columns': None, 'columns': None, 'output_dir': None, 'output_file': None, 'suffix': None, 'output': {'filename': 'meta-bnwiki-train.parquet', 'base_dir': '/content/drive/MyDrive/workspace/data/datasets/corpus/bnwiki', 'filetype': '.parquet', 'suffix': None, 'filepath': '/content/drive/MyDrive/workspace/data/datasets/corpus/bnwiki/meta-bnwiki-train.parquet', 'columns': None, 'verbose': True}}, 'filepath': None, 'filetype': None, 'column_info': {'columns': {'id': 'id', 'text': 'text', 'merge_meta_on': 'id', 'timestamp': None}, 'datetime': {'columns': None, 'format': None, 'rcParams': None}, 'timestamp': {'key': None, 'format': None, 'rcParams': None}, 'data': {'id': 'int', 'text': 'str'}, 'meta': {'id': 'int', 'curid': 'str', 'url': 'str', 'title': 'str'}, 'segment_separator': '\\\\n\\\\n', 'sentence_separator': '\\\\n'}, 'split_name': 'train', 'verbose': True}\n",
      "INFO:ekorpkit.io.file:Saving dataframe to /content/drive/MyDrive/workspace/data/datasets/corpus/bnwiki/meta-bnwiki-train.parquet\n"
     ]
    },
    {
     "name": "stdout",
     "output_type": "stream",
     "text": [
      "    curid                                         url                   title  \\\n",
      "0  736376  https://bn.wikipedia.org/wiki?curid=736376  শ্যামাদাস মুখোপাধ্যায়   \n",
      "1  736379  https://bn.wikipedia.org/wiki?curid=736379          Lewis Arquette   \n",
      "2  736382  https://bn.wikipedia.org/wiki?curid=736382             লুইস আরকোটা   \n",
      "3  736385  https://bn.wikipedia.org/wiki?curid=736385            সাঈদ বদরেয়া   \n",
      "4  736389  https://bn.wikipedia.org/wiki?curid=736389  মুখোপাধ্যায়ের উপপাদ্য   \n",
      "\n",
      "                                                text  split filename  \n",
      "0  শ্যামাদাস মুখোপাধ্যায় (২২ জুন ১৮৬৬ - ৮ মে ১৯৩...  train  wiki_23  \n",
      "1                                                     train  wiki_23  \n",
      "2                                                     train  wiki_23  \n",
      "3  ইআই সাঈদ বদরেয়া () একজন মিশরীয়-আমেরিকার অভিন...  train  wiki_23  \n",
      "4  জ্যামিতিতে মুখোপাধ্যায়ের উপপাদ্যটি বক্ররেখাগু...  train  wiki_23  \n",
      "(348546, 6)\n",
      "   id   curid                                         url  \\\n",
      "0   0  736376  https://bn.wikipedia.org/wiki?curid=736376   \n",
      "1   1  736379  https://bn.wikipedia.org/wiki?curid=736379   \n",
      "2   2  736382  https://bn.wikipedia.org/wiki?curid=736382   \n",
      "3   3  736385  https://bn.wikipedia.org/wiki?curid=736385   \n",
      "4   4  736389  https://bn.wikipedia.org/wiki?curid=736389   \n",
      "\n",
      "                    title                                               text  \\\n",
      "0  শ্যামাদাস মুখোপাধ্যায়  শ্যামাদাস মুখোপাধ্যায় (২২ জুন ১৮৬৬ - ৮ মে ১৯৩...   \n",
      "1          Lewis Arquette                                                      \n",
      "2             লুইস আরকোটা                                                      \n",
      "3            সাঈদ বদরেয়া  ইআই সাঈদ বদরেয়া () একজন মিশরীয়-আমেরিকার অভিন...   \n",
      "4  মুখোপাধ্যায়ের উপপাদ্য  জ্যামিতিতে মুখোপাধ্যায়ের উপপাদ্যটি বক্ররেখাগু...   \n",
      "\n",
      "   split filename  \n",
      "0  train  wiki_23  \n",
      "1  train  wiki_23  \n",
      "2  train  wiki_23  \n",
      "3  train  wiki_23  \n",
      "4  train  wiki_23  \n"
     ]
    },
    {
     "name": "stderr",
     "output_type": "stream",
     "text": [
      "INFO:ekorpkit.io.file: >> elapsed time to save data: 0:00:02.009218\n",
      "INFO:ekorpkit.io.file:Saving dataframe to /content/drive/MyDrive/workspace/data/datasets/corpus/bnwiki/bnwiki-train.parquet\n",
      "INFO:ekorpkit.io.file: >> elapsed time to save data: 0:00:52.099369\n",
      "INFO:ekorpkit.info.stat:Initializing statistics for split: train with stats: {'name': 'train', 'dataset_name': 'bnwiki', 'data_file': 'bnwiki-train.parquet', 'meta_file': 'meta-bnwiki-train.parquet'}\n",
      "INFO:ekorpkit.base:Using batcher with minibatch size: 1000\n",
      "INFO:ekorpkit.utils.batch.batcher: backend: joblib  minibatch_size: 1000  procs: 230  input_split: False  merge_output: True  len(data): 348546 len(args): 5\n"
     ]
    },
    {
     "data": {
      "application/vnd.jupyter.widget-view+json": {
       "model_id": "5931ce67a592442a8960cbeba4b48c35",
       "version_major": 2,
       "version_minor": 0
      },
      "text/plain": [
       "apply len_bytes to num_bytes:   0%|          | 0/349 [00:00<?, ?it/s]"
      ]
     },
     "metadata": {},
     "output_type": "display_data"
    },
    {
     "name": "stderr",
     "output_type": "stream",
     "text": [
      "INFO:ekorpkit.base:Using batcher with minibatch size: 1000\n",
      "INFO:ekorpkit.utils.batch.batcher: backend: joblib  minibatch_size: 1000  procs: 230  input_split: False  merge_output: True  len(data): 348546 len(args): 5\n"
     ]
    },
    {
     "data": {
      "application/vnd.jupyter.widget-view+json": {
       "model_id": "9ed0b299227249debb0e998d1fdbc18f",
       "version_major": 2,
       "version_minor": 0
      },
      "text/plain": [
       "apply len_sents to num_sents:   0%|          | 0/349 [00:00<?, ?it/s]"
      ]
     },
     "metadata": {},
     "output_type": "display_data"
    },
    {
     "name": "stderr",
     "output_type": "stream",
     "text": [
      "INFO:ekorpkit.info.stat: >> elapsed time to calculate statistics before processing: 0:00:19.950028\n",
      "INFO:ekorpkit.info.stat: >> updated splits: {'train': {'name': 'train', 'dataset_name': 'bnwiki', 'data_file': 'bnwiki-train.parquet', 'meta_file': 'meta-bnwiki-train.parquet', 'num_docs_before_processing': 348546, 'num_bytes_before_processing': 669133776, 'num_sents': 1297053}}\n",
      "INFO:ekorpkit.datasets.build:\n",
      "Processing dataframe with pipeline: ['normalize', 'filter_length', 'drop_duplicates', 'save_samples']\n",
      "INFO:ekorpkit.pipelines.pipe:Applying pipeline: OrderedDict([('normalize', 'normalize'), ('filter_length', 'filter_length'), ('drop_duplicates', 'drop_duplicates'), ('save_samples', 'save_samples')])\n",
      "INFO:ekorpkit.base:Applying pipe: functools.partial(<function normalize at 0x7ff4a9da21f0>)\n",
      "INFO:ekorpkit.pipelines.pipe:instantiating normalizer\n",
      "INFO:ekorpkit.base:Using batcher with minibatch size: 1000\n",
      "INFO:ekorpkit.utils.batch.batcher: backend: joblib  minibatch_size: 1000  procs: 230  input_split: False  merge_output: True  len(data): 348546 len(args): 5\n"
     ]
    },
    {
     "data": {
      "application/vnd.jupyter.widget-view+json": {
       "model_id": "0fb10a3ccde24196904ffba5d31fa98a",
       "version_major": 2,
       "version_minor": 0
      },
      "text/plain": [
       "Normalizing column: text:   0%|          | 0/349 [00:00<?, ?it/s]"
      ]
     },
     "metadata": {},
     "output_type": "display_data"
    },
    {
     "name": "stderr",
     "output_type": "stream",
     "text": [
      "INFO:ekorpkit.pipelines.pipe: >> elapsed time to normalize: 0:00:06.335513\n",
      "INFO:ekorpkit.base:Applying pipe: functools.partial(<function filter_length at 0x7ff4a9da28b0>, len_bytes={'_partial_': True, '_target_': 'ekorpkit.utils.func.len_bytes'}, len_words={'_partial_': True, '_target_': 'ekorpkit.utils.func.len_words'})\n",
      "INFO:ekorpkit.pipelines.pipe:Filtering by length: {'_func_': {'_partial_': True, '_target_': 'ekorpkit.pipelines.pipe.filter_length', 'len_bytes': {'_partial_': True, '_target_': 'ekorpkit.utils.func.len_bytes'}, 'len_words': {'_partial_': True, '_target_': 'ekorpkit.utils.func.len_words'}}, 'apply_to': 'text', 'min_length': 30, 'max_length': None, 'len_func': 'len_bytes', 'len_column': 'num_bytes', 'add_len_column': True, 'verbose': True, 'use_batcher': True}\n",
      "INFO:ekorpkit.base:Using batcher with minibatch size: 1000\n",
      "INFO:ekorpkit.utils.batch.batcher: backend: joblib  minibatch_size: 1000  procs: 230  input_split: False  merge_output: True  len(data): 348546 len(args): 5\n"
     ]
    },
    {
     "data": {
      "application/vnd.jupyter.widget-view+json": {
       "model_id": "34b808677e57414bbaba95b813dad7ef",
       "version_major": 2,
       "version_minor": 0
      },
      "text/plain": [
       "Calculating length:   0%|          | 0/349 [00:00<?, ?it/s]"
      ]
     },
     "metadata": {},
     "output_type": "display_data"
    },
    {
     "name": "stderr",
     "output_type": "stream",
     "text": [
      "INFO:ekorpkit.pipelines.pipe:removed 220674 of 348546 documents with length < 30\n",
      "INFO:ekorpkit.pipelines.pipe: >> elapsed time to filter length: 0:00:01.901384\n",
      "INFO:ekorpkit.base:Applying pipe: functools.partial(<function drop_duplicates at 0x7ff4a9da29d0>)\n",
      "INFO:ekorpkit.pipelines.pipe:Dropping duplicates: {'_func_': {'_partial_': True, '_target_': 'ekorpkit.pipelines.pipe.drop_duplicates'}, 'apply_to': 'text', 'verbose': True}\n",
      "INFO:ekorpkit.pipelines.pipe:127833 documents after dropping 39 duplicates from [['text']]\n",
      "INFO:ekorpkit.pipelines.pipe: >> elapsed time to drop duplicates: 0:00:01.414153\n",
      "INFO:ekorpkit.base:Applying pipe: functools.partial(<function save_samples at 0x7ff4a9da2a60>)\n",
      "INFO:ekorpkit.pipelines.pipe:Saving samples: {'_func_': {'_partial_': True, '_target_': 'ekorpkit.pipelines.pipe.save_samples'}, 'path': {'root': '/content/drive/MyDrive/workspace/data/ekorpkit-book', 'name': 'ekorpkit-book', 'cached_path': None, 'filetype': '', 'verbose': True, 'data_dir': '/content/drive/MyDrive/workspace/data/ekorpkit-book', 'data_file': None, 'concat_data': False, 'data_columns': None, 'columns': None, 'output_dir': None, 'output_file': None, 'suffix': None, 'output': {'filename': 'sample-bnwiki-train.txt', 'base_dir': '/content/drive/MyDrive/workspace/data/datasets/corpus/bnwiki', 'filetype': '.txt', 'suffix': None, 'filepath': '/content/drive/MyDrive/workspace/data/datasets/corpus/bnwiki/sample-bnwiki-train.txt', 'columns': None, 'verbose': True}}, 'apply_to': 'text', 'num_samples_to_save': 2, 'output_file': None, 'sample_length_to_print': 1000, 'verbose': True}\n",
      "INFO:ekorpkit.pipelines.pipe:Saved 2 samples to /content/drive/MyDrive/workspace/data/datasets/corpus/bnwiki/sample-bnwiki-train.txt\n",
      "INFO:ekorpkit.info.stat:Calculating statistics for split: train\n",
      "INFO:ekorpkit.base:Using batcher with minibatch size: 556\n",
      "INFO:ekorpkit.utils.batch.batcher: backend: joblib  minibatch_size: 556  procs: 230  input_split: False  merge_output: True  len(data): 127833 len(args): 5\n"
     ]
    },
    {
     "name": "stdout",
     "output_type": "stream",
     "text": [
      "----------------------------------------------------------------------------------------------------\n",
      "\n",
      "text: \n",
      "আঠা হচ্ছে বাষ্প চাপ সমান করতে এবং সুগন্ধি তেলের কাঁচামালের অস্থিরতা, তৎরতা বাড়াতে ব্যবহৃত হয়। \n",
      "প্রাকৃতিক আঠা রেসিনয়েড (হয় বেনজয়েন, ল্যাবডানাম, গন্ধরস, লোবান, স্টোরেক্স, টলু বালসাম) ও পশু পণ্য ( অম্বরগ্রিস, ক্যাসটোরিয়াম, কস্তুরী এবং সিভেট )। কৃত্রিম আঠা কম উদ্বায়ী (ডাইফিনাইলমিথেন, সাইক্লোপেন্টাডিসেনোলাইড, এমব্রোক্সাইড, বেনজাইল স্যালিসাইলেট) এবং কার্যত গন্ধহীন দ্রাবক, খুব কম বাষ্প চাপে (বেনজাইল বেনজয়েট, ডাইইথাইল থ্যালেট, ট্রাইইথাইল সাইট্রেট)।\n",
      "\n",
      "----------------------------------------------------------------------------------------------------\n",
      "text: \n",
      "আইনি সহায়তা হলো যেসকল মানুষ আদালতের ব্যবস্থা গ্রহণ করতে পারেনা বা আইনি প্রতিনিধিকে নেয়ার সামর্থ্য নেই তাদেরকে আইনি সহায়তা দেয়ার একটি নিয়ম। ন্যায়বিচার পাওয়ার জন্য আইনি সহায়তাকে কেন্দ্র হিসেবে বিবেচনা করা হয়, যা আইনে সকলের সমান অধিকারকে নিশ্চিত করে। আইনি সহায়তা কিভাবে গঠিত হয় এবং এটির নিয়মগুলো কি তা এই নিবন্ধে বর্ণনা করা হয়েছে।\n",
      "বিভিন্ন সংখ্যক আইনি সহায়তা রয়েছে যেমন; সাম্প্রদায়িক আইনি চিকিৎসালয়, আইনজীবী, এবং যাদেরকে আইনি সহায়তা দেয়া হয় তাদের আইনজীবীদের অর্থ প্রদান করা।\n",
      "ইউরোপীয় মানবাধিকারের ৬.৩ নম্বর নিবন্ধ অনুসারে সকলের ন্যায়বিচার পাওয়া নিশ্চিত করার জন্য আইনি সহায়তা খুব গুরুত্বপূর্ণ। বিশেষ করে এমন নাগরিকদের জন্য যাদের অর্থনৈতিক স্বচ্ছলতা নেই।\n",
      "আইনি সহায়তা আন্দোলন.\n",
      "ইতিহাস থেকে আইনি সহায়তা কার্যক্রমের মূল পাওয়া যায় ১৯শতকের ইউরোপীয় দেশগুলোর আন্দোলন থেকে, \"রাইট টু কাউন্সেল\" এবং \"রাইট টু এ ফেয়ার ট্রায়াল\"। \"গরীবের আইন\" দরীদ্র লোকদের জন্য আদালতের ফিশকে মওকুফ করা হতো এবং একজন আইনজীবীর বন্দোবস্ত করা হতো যারা আইনজীবীর অর্থ দিতে অপারগ ছিল। ২০শতকের শুরুতে, বেশিরভাগ ইউরোপ...\n",
      "\n",
      "----------------------------------------------------------------------------------------------------\n"
     ]
    },
    {
     "data": {
      "application/vnd.jupyter.widget-view+json": {
       "model_id": "2fcd404a33f042308fe11aa1cef8aa76",
       "version_major": 2,
       "version_minor": 0
      },
      "text/plain": [
       "apply len_bytes to num_bytes:   0%|          | 0/230 [00:00<?, ?it/s]"
      ]
     },
     "metadata": {},
     "output_type": "display_data"
    },
    {
     "name": "stderr",
     "output_type": "stream",
     "text": [
      "INFO:ekorpkit.base:Using batcher with minibatch size: 556\n",
      "INFO:ekorpkit.utils.batch.batcher: backend: joblib  minibatch_size: 556  procs: 230  input_split: False  merge_output: True  len(data): 127833 len(args): 5\n"
     ]
    },
    {
     "data": {
      "application/vnd.jupyter.widget-view+json": {
       "model_id": "0f07dc8d6795401e9f315ffd8a1490d0",
       "version_major": 2,
       "version_minor": 0
      },
      "text/plain": [
       "apply len_wospc to num_bytes_wospc:   0%|          | 0/230 [00:00<?, ?it/s]"
      ]
     },
     "metadata": {},
     "output_type": "display_data"
    },
    {
     "name": "stderr",
     "output_type": "stream",
     "text": [
      "INFO:ekorpkit.base:Using batcher with minibatch size: 556\n",
      "INFO:ekorpkit.utils.batch.batcher: backend: joblib  minibatch_size: 556  procs: 230  input_split: False  merge_output: True  len(data): 127833 len(args): 5\n"
     ]
    },
    {
     "data": {
      "application/vnd.jupyter.widget-view+json": {
       "model_id": "f83e688ec9ce49b0970e30d69e75e443",
       "version_major": 2,
       "version_minor": 0
      },
      "text/plain": [
       "apply len_words to num_words:   0%|          | 0/230 [00:00<?, ?it/s]"
      ]
     },
     "metadata": {},
     "output_type": "display_data"
    },
    {
     "name": "stderr",
     "output_type": "stream",
     "text": [
      "INFO:ekorpkit.base:Using batcher with minibatch size: 556\n",
      "INFO:ekorpkit.utils.batch.batcher: backend: joblib  minibatch_size: 556  procs: 230  input_split: False  merge_output: True  len(data): 127833 len(args): 5\n"
     ]
    },
    {
     "data": {
      "application/vnd.jupyter.widget-view+json": {
       "model_id": "dd6840bba29b4963adcaf2ad269ec0eb",
       "version_major": 2,
       "version_minor": 0
      },
      "text/plain": [
       "apply len_sents to num_sents:   0%|          | 0/230 [00:00<?, ?it/s]"
      ]
     },
     "metadata": {},
     "output_type": "display_data"
    },
    {
     "name": "stderr",
     "output_type": "stream",
     "text": [
      "INFO:ekorpkit.base:Using batcher with minibatch size: 556\n",
      "INFO:ekorpkit.utils.batch.batcher: backend: joblib  minibatch_size: 556  procs: 230  input_split: False  merge_output: True  len(data): 127833 len(args): 5\n"
     ]
    },
    {
     "data": {
      "application/vnd.jupyter.widget-view+json": {
       "model_id": "cc18d67e787d42a7941d57417a023312",
       "version_major": 2,
       "version_minor": 0
      },
      "text/plain": [
       "apply len_segments to num_segments:   0%|          | 0/230 [00:00<?, ?it/s]"
      ]
     },
     "metadata": {},
     "output_type": "display_data"
    },
    {
     "name": "stderr",
     "output_type": "stream",
     "text": [
      "INFO:ekorpkit.info.stat: >> elapsed time to calculate statistics: 0:00:04.908811\n",
      "INFO:ekorpkit.info.stat:Saving updated info file: /content/drive/MyDrive/workspace/data/datasets/corpus/bnwiki/info-bnwiki.yaml\n",
      "INFO:ekorpkit.datasets.build:\n",
      "Corpus [bnwiki] is built to [/content/drive/MyDrive/workspace/data/datasets/corpus/bnwiki] from [/content/drive/MyDrive/workspace/data/archive/datasets/source/bnwiki]\n"
     ]
    },
    {
     "name": "stdout",
     "output_type": "stream",
     "text": [
      "{'category': 'formal',\n",
      " 'column_info': {'columns': {'id': 'id',\n",
      "                             'merge_meta_on': 'id',\n",
      "                             'text': 'text',\n",
      "                             'timestamp': None},\n",
      "                 'data': {'id': 'int', 'text': 'str'},\n",
      "                 'datetime': {'columns': None,\n",
      "                              'format': None,\n",
      "                              'rcParams': None},\n",
      "                 'meta': {'curid': 'str',\n",
      "                          'id': 'int',\n",
      "                          'title': 'str',\n",
      "                          'url': 'str'},\n",
      "                 'segment_separator': '\\\\n\\\\n',\n",
      "                 'sentence_separator': '\\\\n',\n",
      "                 'timestamp': {'format': None, 'key': None, 'rcParams': None}},\n",
      " 'data_files': {'train': 'bnwiki-train.parquet'},\n",
      " 'data_files_modified': '2022-10-31 02:06:51',\n",
      " 'description': 'Wikipedia',\n",
      " 'fullname': 'Wikipedia Corpus (bn)',\n",
      " 'homepage': 'https://bn.wikipedia.org',\n",
      " 'info_updated': '2022-10-31 02:07:26',\n",
      " 'lang': 'bn',\n",
      " 'license': 'CC Attribution / Share-Alike 3.0',\n",
      " 'meta_files': {'train': 'meta-bnwiki-train.parquet'},\n",
      " 'meta_files_modified': '2022-10-31 02:05:58',\n",
      " 'name': 'bnwiki',\n",
      " 'num_bytes_before_processing': 669133776,\n",
      " 'num_docs': 127833,\n",
      " 'num_docs_before_processing': 348546,\n",
      " 'num_segments': 127870,\n",
      " 'num_sents': 1074085,\n",
      " 'num_words': 36516749,\n",
      " 'size_in_bytes': 668725092,\n",
      " 'size_in_human_bytes': '637.75 MiB',\n",
      " 'splits': {'train': {'data_file': 'bnwiki-train.parquet',\n",
      "                      'dataset_name': 'bnwiki',\n",
      "                      'human_bytes': '637.75 MiB',\n",
      "                      'human_bytes_wospc': '602.97 MiB',\n",
      "                      'meta_file': 'meta-bnwiki-train.parquet',\n",
      "                      'name': 'train',\n",
      "                      'num_bytes': 668725092,\n",
      "                      'num_bytes_before_processing': 669133776,\n",
      "                      'num_bytes_max': 354024,\n",
      "                      'num_bytes_median': 2621.0,\n",
      "                      'num_bytes_min': 30,\n",
      "                      'num_bytes_wospc': 632254760,\n",
      "                      'num_docs': 127833,\n",
      "                      'num_docs_before_processing': 348546,\n",
      "                      'num_segments': 127870,\n",
      "                      'num_segments_median': 1.0,\n",
      "                      'num_sents': 1074085,\n",
      "                      'num_sents_median': 5.0,\n",
      "                      'num_words': 36516749,\n",
      "                      'num_words_max': 18938,\n",
      "                      'num_words_median': 142.0,\n",
      "                      'num_words_min': 1}},\n",
      " 'version': '1.0.0'}\n"
     ]
    }
   ],
   "source": [
    "cfg = eKonf.compose('corpus/builtin=wiki')\n",
    "cfg.lang = \"bn\"\n",
    "cfg.verbose = True\n",
    "cfg.num_workers = 50\n",
    "db = eKonf.instantiate(cfg)"
   ]
  },
  {
   "cell_type": "markdown",
   "metadata": {
    "id": "tJpz9ehuPWeh"
   },
   "source": [
    "## Load Corpora\n",
    "\n",
    "You can load several corpora at once and merge them into a single corpus."
   ]
  },
  {
   "cell_type": "code",
   "execution_count": 4,
   "metadata": {
    "colab": {
     "base_uri": "https://localhost:8080/"
    },
    "id": "iAc66OeiPWei",
    "outputId": "105cddaa-699e-4771-b01c-30067cec184f"
   },
   "outputs": [
    {
     "name": "stderr",
     "output_type": "stream",
     "text": [
      "INFO:ekorpkit.datasets.corpora:processing enwiki\n",
      "INFO:ekorpkit.datasets.base:Loaded info file: /content/drive/MyDrive/workspace/data/datasets/corpus/enwiki/info-enwiki.yaml\n",
      "INFO:ekorpkit.io.file:Processing [1] files from ['enwiki-train.parquet']\n",
      "INFO:ekorpkit.io.file:Loading 1 dataframes from ['/content/drive/MyDrive/workspace/data/datasets/corpus/enwiki/enwiki-train.parquet']\n",
      "INFO:ekorpkit.io.file:Loading data from /content/drive/MyDrive/workspace/data/datasets/corpus/enwiki/enwiki-train.parquet\n",
      "INFO:ekorpkit.info.column:index: index, index of data: None, columns: ['id', 'text', 'split', 'filename'], id: ['id']\n",
      "INFO:ekorpkit.info.column:Adding id [split] to ['id']\n",
      "INFO:ekorpkit.info.column:Added id [split], now ['id', 'split']\n",
      "INFO:ekorpkit.info.column:Added a column [split] with value [train]\n",
      "INFO:ekorpkit.io.file:Processing [1] files from ['meta-enwiki-train.parquet']\n",
      "INFO:ekorpkit.io.file:Loading 1 dataframes from ['/content/drive/MyDrive/workspace/data/datasets/corpus/enwiki/meta-enwiki-train.parquet']\n",
      "INFO:ekorpkit.io.file:Loading data from /content/drive/MyDrive/workspace/data/datasets/corpus/enwiki/meta-enwiki-train.parquet\n",
      "INFO:ekorpkit.info.column:Added a column [split] with value [train]\n",
      "INFO:ekorpkit.info.column:No timestamp key found\n",
      "INFO:ekorpkit.datasets.corpora:processing kowiki\n",
      "INFO:ekorpkit.datasets.base:Loaded info file: /content/drive/MyDrive/workspace/data/datasets/corpus/kowiki/info-kowiki.yaml\n",
      "INFO:ekorpkit.io.file:Processing [1] files from ['kowiki-train.parquet']\n",
      "INFO:ekorpkit.io.file:Loading 1 dataframes from ['/content/drive/MyDrive/workspace/data/datasets/corpus/kowiki/kowiki-train.parquet']\n",
      "INFO:ekorpkit.io.file:Loading data from /content/drive/MyDrive/workspace/data/datasets/corpus/kowiki/kowiki-train.parquet\n",
      "INFO:ekorpkit.info.column:index: index, index of data: None, columns: ['id', 'text', 'split', 'filename'], id: ['id']\n",
      "INFO:ekorpkit.info.column:Adding id [split] to ['id']\n",
      "INFO:ekorpkit.info.column:Added id [split], now ['id', 'split']\n",
      "INFO:ekorpkit.info.column:Added a column [split] with value [train]\n",
      "INFO:ekorpkit.io.file:Processing [1] files from ['meta-kowiki-train.parquet']\n",
      "INFO:ekorpkit.io.file:Loading 1 dataframes from ['/content/drive/MyDrive/workspace/data/datasets/corpus/kowiki/meta-kowiki-train.parquet']\n",
      "INFO:ekorpkit.io.file:Loading data from /content/drive/MyDrive/workspace/data/datasets/corpus/kowiki/meta-kowiki-train.parquet\n",
      "INFO:ekorpkit.info.column:Added a column [split] with value [train]\n",
      "INFO:ekorpkit.info.column:No timestamp key found\n",
      "INFO:ekorpkit.datasets.corpora:processing bnwiki\n",
      "INFO:ekorpkit.datasets.base:Loaded info file: /content/drive/MyDrive/workspace/data/datasets/corpus/bnwiki/info-bnwiki.yaml\n",
      "INFO:ekorpkit.io.file:Processing [1] files from ['bnwiki-train.parquet']\n",
      "INFO:ekorpkit.io.file:Loading 1 dataframes from ['/content/drive/MyDrive/workspace/data/datasets/corpus/bnwiki/bnwiki-train.parquet']\n",
      "INFO:ekorpkit.io.file:Loading data from /content/drive/MyDrive/workspace/data/datasets/corpus/bnwiki/bnwiki-train.parquet\n",
      "INFO:ekorpkit.info.column:index: index, index of data: None, columns: ['id', 'text', 'split', 'filename'], id: ['id']\n",
      "INFO:ekorpkit.info.column:Adding id [split] to ['id']\n",
      "INFO:ekorpkit.info.column:Added id [split], now ['id', 'split']\n",
      "INFO:ekorpkit.info.column:Added a column [split] with value [train]\n",
      "INFO:ekorpkit.io.file:Processing [1] files from ['meta-bnwiki-train.parquet']\n",
      "INFO:ekorpkit.io.file:Loading 1 dataframes from ['/content/drive/MyDrive/workspace/data/datasets/corpus/bnwiki/meta-bnwiki-train.parquet']\n",
      "INFO:ekorpkit.io.file:Loading data from /content/drive/MyDrive/workspace/data/datasets/corpus/bnwiki/meta-bnwiki-train.parquet\n",
      "INFO:ekorpkit.info.column:Added a column [split] with value [train]\n",
      "INFO:ekorpkit.info.column:No timestamp key found\n",
      "INFO:ekorpkit.datasets.corpora:>>> Elapsed time: 0:02:01.601021 <<< \n"
     ]
    },
    {
     "name": "stdout",
     "output_type": "stream",
     "text": [
      "Corpora\n",
      "----------\n",
      "enwiki\n",
      "kowiki\n",
      "bnwiki\n",
      "\n"
     ]
    }
   ],
   "source": [
    "cfg = eKonf.compose('corpus=corpora')\n",
    "cfg.name = ['enwiki', 'kowiki', \"bnwiki\"]\n",
    "# cfg.data_dir = '../data'\n",
    "cfg.auto.load = True\n",
    "crps = eKonf.instantiate(cfg)\n",
    "print(crps)"
   ]
  },
  {
   "cell_type": "code",
   "execution_count": 12,
   "metadata": {
    "colab": {
     "base_uri": "https://localhost:8080/",
     "height": 80
    },
    "id": "DZO0rgSLX2rP",
    "outputId": "6efb0dcf-ce49-4fae-b588-5a49d0817960"
   },
   "outputs": [
    {
     "name": "stderr",
     "output_type": "stream",
     "text": [
      "INFO:ekorpkit.io.file:Concatenating 1 dataframes\n"
     ]
    },
    {
     "name": "stdout",
     "output_type": "stream",
     "text": [
      "성이성(成以性, 1595년(선조 28년) ∼ 1664년(현종 5년))은 조선 후기의 문신이자 유학자, 청백리이다. 자(字)는 여습(汝習)이고 호는 계서(溪西)이다. 본관은 창녕(昌寧). 춘향전의 실제 주인공으로 춘향전의 주인공인 몽룡은 원래 성몽룡이었다. 남원부사와 승정원승지를 지낸 성안의의 아들이다.\n",
      "강직한 간관이자 청백리이다. 그의 직계 후손들은 춘향전에 나온 '금준미주 천인혈'이 그가 실제로 지은 한시라고 주장한다. 호서 암행어사와 호남 암행어사로 활동, 감찰하며 부패 수령들을 봉고파직시켰다. 이것 역시 춘향전의 소재가 된다. 학맥으로는 김굉필의 손제자이자 그의 학맥을 계승한 강복성(康復誠)의 문인이다. 경상북도 출신.\n",
      "생애.\n",
      "생애 초반.\n",
      "출생과 가계.\n",
      "성이성은 경상북도 봉화군 물야면 가평리 태생으로 아버지는 창녕 성씨로 승정원승지와 군수를 지낸 성안의(成安義)이고, 어머니는 예안 김씨로 증(贈) 호조 참판에 추증(追贈)된 김계선의 딸이다.\n",
      "그는 어려서부터 그는 학업에 열중하여 13세때 그가 쓴 글을 우연히 정경세(鄭經世)가 보게 되었다. 정경세는 그의 글을 읽고 장차 크게 될 인물이라 하였다.\n",
      "수학과 남원 생활.\n",
      "어려서부터 공부를 게을리하지 않고 학문에 더욱 증진하여 조경남의 문하에서 수학하다가 뒤에 강복성(康復誠)의 문인이 되었다. 강복성은 사림의 학통인 길재-김숙자-김종직-김굉필(金宏弼)-조광조-이연경(李延慶)의 학통을 계승한 학자였다.\n",
      "1607년(선조 40) 남원부사로 부임한 아버지 성안의를 따라 갔다가 그곳에서 만난 기생과의 일화가 후일 춘향전의 주 뼈대가 되었다. 그러나 아버지 성안의가 참의로 발령되면서 기생 춘향과는 이별하게 된다. 이때 시중에는 성이성과 춘향을 소재로 한 춘향전이 희극과 인형극, 만담 등으로 확산되었는데, 양반가의 자제의 스캔들이라 하여 조선조정에서 관을 시켜서 금지하게 되자 성몽룡을 이몽룡으로 바꾸고, 성씨(姓氏)가 없던 기생인 춘향에게 성씨 성을 붙여서 시연하게 된다.\n",
      "1616년(광해군 8년) 그는 사마시 양시에 합격했는데 생원시에 합격하여 생원(生員)이 되고, 그 해에 다시 진사시에 합격하여 진사(進士)가 되었다. 그러나 광해군 때의 난세에는 벼슬길에 나아가지 않았다.\n",
      "관료 생활.\n",
      "과거 급제와 관료생활.\n",
      "1627년 (인조5년)에 식년 문과에 병과로 급제하였다.\n",
      "1635년(인조 13) 성이성은 사간원 정언이 되고 홍문관 부수찬·부교리를 거쳐 1636년 사헌부지평이 되었다. 1637년(인조 15) 호서(湖西) 지방의 암행어사로 파견되었다가 돌아왔다. 그해 성이성은 사간원 헌납이 되어 공신이며 서인당의 고관인 윤방(尹昉)·김류(金류)·심기원(沈器遠)·김자점(金自點) 등을 탄핵하여 왕을 잘못된 길로 인도했다며 오국불충(誤國不忠)의 죄를 논하기도 했다.\n",
      "암행어사 활동.\n",
      "1639년(인조 17) 호남(湖南) 지방 암행어사에 임명되어 5년간 호남 지역을 순찰하고 1644년(인조 22) 되돌아왔가. 그 뒤 1647년(인조 25) 다시 호남 암행어사 로 파견되었다.\n",
      "그러나 호남 암행어사로 부임했을 때 신분을 노출시키고 마는데 성이성은 암행을 하고 다니다가 1647년 11월 25일 순천에서 실수로 부득이 자신의 신분을 드러내고 이후에는 한양으로 돌아오게 되는데, 그는 일기에 돌아오는 길이던 12월 1일 남원에 들렀다고 적고 있다.\n",
      "생애 후반.\n",
      "1648년 여름 성이성은 전라도 담양군수로 부임해 장마철 강둑이 범람해 피해가 큰 것을 보고 2년에 걸쳐 제방을 쌓고 그 위에 나무를 심었다. 현재 관방제림으로 불리는 숲이 그가 남긴 치세의 흔적이다. 푸조나무 느티나무 팽나무 등 184그루가 전한다. 본디 제방에 나무를 심으면 나무가 바람에 흔들릴 때 제방에 해롭다 하여 심지 않았는데 성이성은 비바람에 강한 토종나무를 골라 심음으로써 이같은 상식을 엎었다. 담양군은 현재 관방제림에 산책로를 조성하여 관광객들의 발길을 모으고 있다.\n",
      "외직으로는 진주부사 · 강계부사 등 네 고을을 다스렸는데, 진주부사로 재직할 때는 서인 출신으로 경상도 암행어사로 파견된 민정중(閔鼎重)이 조사하여 그의 선치(善治)를 보고하여 특별히 왕으로부터 표리(表裏, 옷감)를 받았고, 강계부사 때에는 여진족 등의 약탈과 흉년 등으로 어려움에 처한 부민들에게 삼세(蔘稅)를 모두 면제해주어 백성들이 기뻐하였으며 부처가 환생하여 돌아왔다며 '생불' 또는 '관서활불'(關西活佛)이라며 칭송하였다. 1664년(현종 15)에 향년 70세를 일기로 사망했다.\n",
      "사후.\n",
      "고향인 봉화군 물야면 가평 1리에는 성이성을 추모하는 사당인 계서당이 건립되었다. 사후인 1695년(숙종 21) 청렴함을 인정받아 조정으로부터 청백리로 선출되었다. 증 통정대부 부제학에 추증되었다. 저서로는 &lt;계서유고&gt;가 있다.\n",
      "귀신 문제 해결.\n",
      "전라도 지역에 귀신이 자주 출몰한다는 곳이 있었다. 그 곳은 상인이나 과거 시험을 보러 가던 선비들이 여러 번 변을 당했는데, 성이성이 이 문제를 해결하였다 한다. 호남 암행어사가 돼서 호남 지역의 귀신이 많이 나오는 곳을 찾아가 억울함을 달래주고 문제를 해결하였고 이것 역시 입에서 입으로 전해져 설화가 되었다.\n",
      "부패 관리 파직.\n",
      "충청도 암행어사 시절 지방관리의 잘못을 발견하고 어떻게 처리했는가를 인조에게 보고한 '서계'가 남아있었는데 KBS 방송국이 이를 취재하였다.를 보면 세금을 과다징수한 진천현감과 생일날 과다한 잔치를 벌이고 국법을 어긴 석성현감을 적발하여 파직시켰다는 기록이 있다.\n",
      "춘향전.\n",
      "춘향전.\n",
      "그는 아버지인 남원부사 성안의가 부임할 때, 아버지의 임지를 따라 남원에서 생활하다 우연히 남원 기생 춘향을 만나게 되었다. 그러나 춘향과는 이루어지지 못했고, 이는 바로 춘향전의 모티브가 되었다. 뒤에 호남 암행어사로 부임했다가 신분을 노출하고 되돌아갈 때 남원에 들렀다. 늙은기생 여진이 찾아와 만났는데, 그는 춘향을 찾았다 한다. 그러나 그는 춘향을 만날 수 없었다.\n",
      "‘서리와 함께 난간에 앉으니 눈빛이 뜰에 하얗게 깔려있고 대나무숲이 희었다. 나는 소년시절의 일을 생각하여 밤늦도록 잠들지 못했다.’\n",
      "춘향전은 판소리, 연극, 소설의 소재가 되었으나 양반가 자제의 스캔들이라 하여, 조정에서는 양반가의 위신을 떨어뜨린다며 춘향전의 상영을 금지하였다. 할 수 없이 민중들은 성몽룡 대신 이몽룡으로 성을 바꾸어서 연극과 판소리, 소설, 구전 등으로 전하였다.\n",
      "금준미주 천인혈.\n",
      "춘향전에 나오는 금준미주 천인혈은 성이성이 지은 시 중의 하나였다. 성이성이 춘향전에 나오는 성몽룡처럼 변사또를 응징한 남원 출두 기록은 실록이나 문집에는 없다. 그러나 춘향전에 나오는 잔치연에서 이몽룡이 변학도를 질타하면서 읊은 금준미주 천인혈 로 시작되는 시조는 성이성이 짓고, 읊었다. 이는 성이성의 4대손 성섭의 저서 &lt;교와문고&gt;와 그의 스승 조경남이 쓴 &lt;난중잡록&gt;에 그의 작품으로 기록되어 있다.\n",
      "호남 암행어사가 되었을때에 호남 12고을 군수, 현감들이 잔치를 베풀었다. 이때 성이성은 암행어사가 걸인의 행색을 하고서 연회장에 나타났다. 호남의 12고을의 군수, 현감들은 그를 조롱하며 '그대가 시를 지으면 종일토록 놀고 짓지 못하면 가라.'고 했고, 그는 즉석에서 금준미주 천인혈 을 짓는다. 이어 전라도내 6명의 부패한 수령들을 봉고파직시킨다. 석성현감이 생일날 과다한 잔치를 벌인 것은 춘향전에 등장하는 변사또의 모티브가 되었다.\n"
     ]
    }
   ],
   "source": [
    "print(crps['kowiki'].data.text[0])"
   ]
  },
  {
   "cell_type": "code",
   "execution_count": 13,
   "metadata": {
    "colab": {
     "base_uri": "https://localhost:8080/",
     "height": 206
    },
    "id": "lGPnTMPpX4LB",
    "outputId": "b0a63238-8fca-4eb9-9c75-2f4e59d91a22"
   },
   "outputs": [
    {
     "name": "stderr",
     "output_type": "stream",
     "text": [
      "INFO:ekorpkit.io.file:Concatenating 1 dataframes\n"
     ]
    },
    {
     "name": "stdout",
     "output_type": "stream",
     "text": [
      "শ্যামাদাস মুখোপাধ্যায় (২২ জুন ১৮৬৬ - ৮ মে ১৯৩৭) ছিলেন একজন ভারতীয় বাঙালি গণিতবিদ। তিনি ইউক্লিডিয় জ্যামিতির মুখোপাধ্যায়ের উপপাদ্য এবং চতুর্শীর্ষ উপপাদ্য (Four-vertex theorem) উপস্থাপনের জন্য পরিচিত। তিনি ভারতের প্রথম গণিতবিদ হিসেবে ডক্টরেট ডিগ্রী অর্জন করেন।\n",
      "জন্ম ও শিক্ষাজীবন.\n",
      "শ্যামাদাস মুখোপাধ্যায় ১৮৬৬ খ্রিষ্টাব্দের ২২ জুন পশ্চিমবঙ্গের হুগলি জেলার হরিপাল ব্লকে জন্মগ্রহণ করেন। তার বাবা বাবু গঙ্গা কান্ত মুখোপাধ্যায় রাজ্য বিচার বিভাগে নিযুক্ত ছিলেন। চাকরি সূত্রে তাকে বিভিন্ন স্থানে স্থানান্তরিত করা হওয়ায় শ্যামাদাস মুখোপাধ্যায়কে বিভিন্ন সময়ে বিভিন্ন শিক্ষা প্রতিষ্ঠানে শিক্ষা গ্রহণ করতে হয়। তিনি হুগলি কলেজ থেকে স্নাতক হন। তিনি ১৮৯০ খ্রিষ্টাব্দে কলকাতার প্রেসিডেন্সি কলেজ থেকে গণিত বিষয়ে এমএ ডিগ্রি অর্জন করেন। তিনি ১৯০৯ খ্রিষ্টাব্দে তার গাণিতিক তত্ত্বালোচনা \"অন দ্যা ইনফিনিটেসিমাল এনালিসিস অফ এন আর্ক\"-এর জন্য কলকাতা বিশ্ববিদ্যালয় থেকে গ্রিফিত পুরস্কার পান। তিনি ১৯১০ খ্রিষ্টাব্দে তার নিজস্ব ডিফারেনশিয়াল জ্যামিতির উপরে কলকাতা বিশ্ববিদ্যালয় থেকে পিএইচডি ডিগ্রি লাভ করেন। তার থিসিসের নাম ছিল \"Parametric Coefficients in the Differential Geometry of Curves in an N-space\"।\n",
      "কর্মজীবন.\n",
      "শ্যামাদাস মুখোপাধ্যায় কলকাতায় বঙ্গবাসী কলেজে কিছু বছর কাজ করার পর বেথুন কলেজে যোগদান করেন, যেখানে তিনি গণিত ছাড়াও ইংরেজি সাহিত্য ও দর্শনশাস্ত্রে শিক্ষা দিতেন। ১৯০৪ খ্রিষ্টাব্দে তাকে প্রেসিডেন্সি কলেজে স্থানান্তর করা হয়। সেখানে তিনি ১৯১২ খ্রিষ্টাব্দ পর্যন্ত আট সেখানে শিক্ষকতা করেন। ১৯১২খ্রিষ্টাব্দে কলকাতা বিশ্ববিদ্যালয়ের তৎকালীন উপাচার্য স্যার আশুতোষ মুখার্জী, শ্যামাদাস মুখোপাধ্যায়কে কলকাতা বিশ্ববিদ্যালয়ে নতুন বিশুদ্ধ গণিত বিভাগে যোগদানের জন্য আমন্ত্রণ জানান। শ্যামাদাস মুখোপাধ্যায় সেই আমন্ত্রণে সেখানে যোগ দেন। ১৯৩২ খ্রিষ্টাব্দে তিনি কলকাতা গাণিতিক সমিতির সভাপতি নির্বাচিত হন। তিনি আমৃত্যু এই পদে ছিলেন। ১৯৩৭ খ্রিষ্টাব্দের ৮ মে হৃদরোগের আক্রান্ত হয়ে তিনি মারা যান।\n",
      "গবেষণা.\n",
      "শ্যামাদাস মুখোপাধ্যায় সম্ভবত স্নাতককালে তার হুগলি কলেজের শিক্ষক উইলিয়াম বুথের জ্যামিতি বিষয়ক গবেষণা দ্বারা অনুপ্রাণিত হয়েছিলেন। ডক্টর মুখোপাধ্যায়ের গবেষণা মূলত অ-ইউক্লিডিয়ান জ্যামিতি, ডিফারেনশিয়াল জ্যামিতি এবং চতুর্মাত্রিক স্থানের স্টেরিওস্কোপিক উপস্থাপনার জন্য গুরুত্বপূর্ণ ছিল।\n",
      "তিনি দুটি গুরুত্বপূর্ণ উপপাদ্য উপস্থাপন করেন। প্রথম উপপাদ্যটি হল- “\"the minimum number of cyclic points on a convex oval is 4\"’’ (একটি উত্তল ডিম্বাকৃতিতে সাইক্লিক পয়েন্টের সর্বনিম্ন সংখ্যা হল ৪) এবং দ্বিতীয়টি হল- “\"the minimum number of sextactic points on a convex oval is 6\"” (একটি উত্তল ডিম্বাকৃতিতে সেক্সট্যাকটিক পয়েন্টের সর্বনিম্ন সংখ্যা হল ৬)। এই দুটি উপপাদ্য প্রথম প্রকাশিত হয় ১৯০৯ খ্রিস্টাব্দে কলকাতা গাণিতিক সমিতির বুলেটিনে। কিন্তু সেই সময় এই দুটি গুরুত্বপূর্ণ তত্ত্বকে গুরুত্ব দেওয়া হয়নি। শুধুমাত্র বিশিষ্ট ফরাসি গণিতবিদ জাক আদামার ডক্টর মুখোপাধ্যায়ের গবেষণার গুরুত্ব উপলব্ধি করে কোলেজ দ্য ফ্রঁসে তত্ত্ব দুটির কথা উল্লেখ করেন। অনেক বছর পরে, এই তত্ত্ব দুটি ইউরোপে পুনরায় আবিষ্কৃত হয়। জার্মান জ্যামিতিবেত্তা Wilhelm Blaschke শ্যামাদাস মুখোপাধ্যায়কে প্রথম উপপাদ্যটির প্রথম প্রমাণের জন্য উপযুক্ত সম্মান দিয়েছেন। জ্যামিতির আধুনিক সাহিত্যে এই তত্ত্বটি এখন অপ্রত্যাশিতভাবে উদ্ধৃত করা হয়েছে \"মুখোপাধ্যায়ের চতুর্শীর্ষ উপপাদ্য\" নামে।\n",
      "পরবর্তীতে শ্যামাদাস মুখোপাধ্যায় এই দুটি উপপাদ্যের সাধারণীকরণ করেন। প্রথম উপপাদ্যের সাধারণ বক্তব্যটি হল “\"If a circle C intersects an oval V in 2n points (n 2) then there exists at least 2n cyclic points in order on V, of alternately contrary signs, provided the oval has continuity of order 3\"”। দ্বিতীয় উপপাদ্যের সাধারণ বক্তব্যটি হল “\"If a conic C intersects an oval V in 2n points (n&gt; or = 2), then there exist at least 2n sextactic points in order on V, which are alternatively positive and negative, provided V has continuity of order 5\"”। এইভাবে তিনি আগের তত্ত্ব দুটিকে আরো শক্তভাবে প্রতিষ্ঠা করেন।\n"
     ]
    }
   ],
   "source": [
    "print(crps['bnwiki'].data.text[0])"
   ]
  },
  {
   "cell_type": "code",
   "execution_count": 14,
   "metadata": {
    "id": "YKcqI8eBPWej"
   },
   "outputs": [
    {
     "name": "stderr",
     "output_type": "stream",
     "text": [
      "INFO:ekorpkit.io.file:Concatenating 1 dataframes\n",
      "INFO:ekorpkit.info.column:Adding id [corpus] to ['id']\n",
      "INFO:ekorpkit.info.column:Added id [corpus], now ['id', 'corpus']\n",
      "INFO:ekorpkit.info.column:Added a column [corpus] with value [enwiki]\n",
      "INFO:ekorpkit.info.column:Added a column [corpus] with value [enwiki]\n",
      "INFO:ekorpkit.io.file:Concatenating 1 dataframes\n",
      "INFO:ekorpkit.info.column:Added a column [corpus] with value [kowiki]\n",
      "INFO:ekorpkit.info.column:Added a column [corpus] with value [kowiki]\n",
      "INFO:ekorpkit.io.file:Concatenating 1 dataframes\n",
      "INFO:ekorpkit.info.column:Added a column [corpus] with value [bnwiki]\n",
      "INFO:ekorpkit.info.column:Added a column [corpus] with value [bnwiki]\n"
     ]
    }
   ],
   "source": [
    "crps.concat_corpora()"
   ]
  },
  {
   "cell_type": "code",
   "execution_count": 15,
   "metadata": {
    "colab": {
     "base_uri": "https://localhost:8080/",
     "height": 237
    },
    "id": "oCfyCzGuPWek",
    "outputId": "4b0c71c2-f2f6-464b-a99e-6ddd318194fb"
   },
   "outputs": [
    {
     "data": {
      "text/html": [
       "<div>\n",
       "<style scoped>\n",
       "    .dataframe tbody tr th:only-of-type {\n",
       "        vertical-align: middle;\n",
       "    }\n",
       "\n",
       "    .dataframe tbody tr th {\n",
       "        vertical-align: top;\n",
       "    }\n",
       "\n",
       "    .dataframe thead th {\n",
       "        text-align: right;\n",
       "    }\n",
       "</style>\n",
       "<table border=\"1\" class=\"dataframe\">\n",
       "  <thead>\n",
       "    <tr style=\"text-align: right;\">\n",
       "      <th></th>\n",
       "      <th>id</th>\n",
       "      <th>text</th>\n",
       "      <th>split</th>\n",
       "      <th>filename</th>\n",
       "      <th>corpus</th>\n",
       "    </tr>\n",
       "  </thead>\n",
       "  <tbody>\n",
       "    <tr>\n",
       "      <th>0</th>\n",
       "      <td>0</td>\n",
       "      <td>The endocannabinoid transporters (eCBTs) are t...</td>\n",
       "      <td>train</td>\n",
       "      <td>wiki_23</td>\n",
       "      <td>enwiki</td>\n",
       "    </tr>\n",
       "    <tr>\n",
       "      <th>1</th>\n",
       "      <td>1</td>\n",
       "      <td>Buddy McClinton was a defensive back for the A...</td>\n",
       "      <td>train</td>\n",
       "      <td>wiki_23</td>\n",
       "      <td>enwiki</td>\n",
       "    </tr>\n",
       "    <tr>\n",
       "      <th>2</th>\n",
       "      <td>2</td>\n",
       "      <td></td>\n",
       "      <td>train</td>\n",
       "      <td>wiki_23</td>\n",
       "      <td>enwiki</td>\n",
       "    </tr>\n",
       "    <tr>\n",
       "      <th>3</th>\n",
       "      <td>3</td>\n",
       "      <td>Mikell Randolph Ballou (born September 11, 194...</td>\n",
       "      <td>train</td>\n",
       "      <td>wiki_23</td>\n",
       "      <td>enwiki</td>\n",
       "    </tr>\n",
       "    <tr>\n",
       "      <th>4</th>\n",
       "      <td>4</td>\n",
       "      <td>Philip M. Kleinfeld (June 19, 1894 – January 1...</td>\n",
       "      <td>train</td>\n",
       "      <td>wiki_23</td>\n",
       "      <td>enwiki</td>\n",
       "    </tr>\n",
       "    <tr>\n",
       "      <th>...</th>\n",
       "      <td>...</td>\n",
       "      <td>...</td>\n",
       "      <td>...</td>\n",
       "      <td>...</td>\n",
       "      <td>...</td>\n",
       "    </tr>\n",
       "    <tr>\n",
       "      <th>18387577</th>\n",
       "      <td>348541</td>\n",
       "      <td>মোহাম্মদ সেলিম (জন্ম: ১৫ অক্টোবর, ১৯৮১) খুলনার...</td>\n",
       "      <td>train</td>\n",
       "      <td>wiki_34</td>\n",
       "      <td>bnwiki</td>\n",
       "    </tr>\n",
       "    <tr>\n",
       "      <th>18387578</th>\n",
       "      <td>348542</td>\n",
       "      <td></td>\n",
       "      <td>train</td>\n",
       "      <td>wiki_34</td>\n",
       "      <td>bnwiki</td>\n",
       "    </tr>\n",
       "    <tr>\n",
       "      <th>18387579</th>\n",
       "      <td>348543</td>\n",
       "      <td>দেশি কামিলা (বৈজ্ঞানিক নাম: \"Congresox talabon...</td>\n",
       "      <td>train</td>\n",
       "      <td>wiki_34</td>\n",
       "      <td>bnwiki</td>\n",
       "    </tr>\n",
       "    <tr>\n",
       "      <th>18387580</th>\n",
       "      <td>348544</td>\n",
       "      <td></td>\n",
       "      <td>train</td>\n",
       "      <td>wiki_34</td>\n",
       "      <td>bnwiki</td>\n",
       "    </tr>\n",
       "    <tr>\n",
       "      <th>18387581</th>\n",
       "      <td>348545</td>\n",
       "      <td>বাথাইল নদী বাংলাদেশের উত্তর-পূর্বাঞ্চলের কিশোর...</td>\n",
       "      <td>train</td>\n",
       "      <td>wiki_34</td>\n",
       "      <td>bnwiki</td>\n",
       "    </tr>\n",
       "  </tbody>\n",
       "</table>\n",
       "<p>18387582 rows × 5 columns</p>\n",
       "</div>"
      ],
      "text/plain": [
       "              id                                               text  split  \\\n",
       "0              0  The endocannabinoid transporters (eCBTs) are t...  train   \n",
       "1              1  Buddy McClinton was a defensive back for the A...  train   \n",
       "2              2                                                     train   \n",
       "3              3  Mikell Randolph Ballou (born September 11, 194...  train   \n",
       "4              4  Philip M. Kleinfeld (June 19, 1894 – January 1...  train   \n",
       "...          ...                                                ...    ...   \n",
       "18387577  348541  মোহাম্মদ সেলিম (জন্ম: ১৫ অক্টোবর, ১৯৮১) খুলনার...  train   \n",
       "18387578  348542                                                     train   \n",
       "18387579  348543  দেশি কামিলা (বৈজ্ঞানিক নাম: \"Congresox talabon...  train   \n",
       "18387580  348544                                                     train   \n",
       "18387581  348545  বাথাইল নদী বাংলাদেশের উত্তর-পূর্বাঞ্চলের কিশোর...  train   \n",
       "\n",
       "         filename  corpus  \n",
       "0         wiki_23  enwiki  \n",
       "1         wiki_23  enwiki  \n",
       "2         wiki_23  enwiki  \n",
       "3         wiki_23  enwiki  \n",
       "4         wiki_23  enwiki  \n",
       "...           ...     ...  \n",
       "18387577  wiki_34  bnwiki  \n",
       "18387578  wiki_34  bnwiki  \n",
       "18387579  wiki_34  bnwiki  \n",
       "18387580  wiki_34  bnwiki  \n",
       "18387581  wiki_34  bnwiki  \n",
       "\n",
       "[18387582 rows x 5 columns]"
      ]
     },
     "execution_count": 15,
     "metadata": {},
     "output_type": "execute_result"
    }
   ],
   "source": [
    "crps.data"
   ]
  },
  {
   "cell_type": "code",
   "execution_count": 16,
   "metadata": {
    "colab": {
     "base_uri": "https://localhost:8080/",
     "height": 385
    },
    "id": "4DtB1ZY0PWek",
    "outputId": "278c5b8e-37ff-4e5b-f9e4-56f71392a45b"
   },
   "outputs": [
    {
     "data": {
      "text/html": [
       "<div>\n",
       "<style scoped>\n",
       "    .dataframe tbody tr th:only-of-type {\n",
       "        vertical-align: middle;\n",
       "    }\n",
       "\n",
       "    .dataframe tbody tr th {\n",
       "        vertical-align: top;\n",
       "    }\n",
       "\n",
       "    .dataframe thead th {\n",
       "        text-align: right;\n",
       "    }\n",
       "</style>\n",
       "<table border=\"1\" class=\"dataframe\">\n",
       "  <thead>\n",
       "    <tr style=\"text-align: right;\">\n",
       "      <th></th>\n",
       "      <th>id</th>\n",
       "      <th>curid</th>\n",
       "      <th>url</th>\n",
       "      <th>title</th>\n",
       "      <th>split</th>\n",
       "      <th>corpus</th>\n",
       "    </tr>\n",
       "  </thead>\n",
       "  <tbody>\n",
       "    <tr>\n",
       "      <th>0</th>\n",
       "      <td>0</td>\n",
       "      <td>40754509</td>\n",
       "      <td>https://en.wikipedia.org/wiki?curid=40754509</td>\n",
       "      <td>Endocannabinoid transporter</td>\n",
       "      <td>train</td>\n",
       "      <td>enwiki</td>\n",
       "    </tr>\n",
       "    <tr>\n",
       "      <th>1</th>\n",
       "      <td>1</td>\n",
       "      <td>40754512</td>\n",
       "      <td>https://en.wikipedia.org/wiki?curid=40754512</td>\n",
       "      <td>Buddy McClinton</td>\n",
       "      <td>train</td>\n",
       "      <td>enwiki</td>\n",
       "    </tr>\n",
       "    <tr>\n",
       "      <th>2</th>\n",
       "      <td>2</td>\n",
       "      <td>40754531</td>\n",
       "      <td>https://en.wikipedia.org/wiki?curid=40754531</td>\n",
       "      <td>Power Lock</td>\n",
       "      <td>train</td>\n",
       "      <td>enwiki</td>\n",
       "    </tr>\n",
       "    <tr>\n",
       "      <th>3</th>\n",
       "      <td>3</td>\n",
       "      <td>40754542</td>\n",
       "      <td>https://en.wikipedia.org/wiki?curid=40754542</td>\n",
       "      <td>Mike Ballou</td>\n",
       "      <td>train</td>\n",
       "      <td>enwiki</td>\n",
       "    </tr>\n",
       "    <tr>\n",
       "      <th>4</th>\n",
       "      <td>4</td>\n",
       "      <td>40754545</td>\n",
       "      <td>https://en.wikipedia.org/wiki?curid=40754545</td>\n",
       "      <td>Philip M. Kleinfeld</td>\n",
       "      <td>train</td>\n",
       "      <td>enwiki</td>\n",
       "    </tr>\n",
       "    <tr>\n",
       "      <th>...</th>\n",
       "      <td>...</td>\n",
       "      <td>...</td>\n",
       "      <td>...</td>\n",
       "      <td>...</td>\n",
       "      <td>...</td>\n",
       "      <td>...</td>\n",
       "    </tr>\n",
       "    <tr>\n",
       "      <th>18387577</th>\n",
       "      <td>348541</td>\n",
       "      <td>554487</td>\n",
       "      <td>https://bn.wikipedia.org/wiki?curid=554487</td>\n",
       "      <td>মোহাম্মদ সেলিম</td>\n",
       "      <td>train</td>\n",
       "      <td>bnwiki</td>\n",
       "    </tr>\n",
       "    <tr>\n",
       "      <th>18387578</th>\n",
       "      <td>348542</td>\n",
       "      <td>554493</td>\n",
       "      <td>https://bn.wikipedia.org/wiki?curid=554493</td>\n",
       "      <td>Mohammad Salim</td>\n",
       "      <td>train</td>\n",
       "      <td>bnwiki</td>\n",
       "    </tr>\n",
       "    <tr>\n",
       "      <th>18387579</th>\n",
       "      <td>348543</td>\n",
       "      <td>554495</td>\n",
       "      <td>https://bn.wikipedia.org/wiki?curid=554495</td>\n",
       "      <td>দেশি কামিলা</td>\n",
       "      <td>train</td>\n",
       "      <td>bnwiki</td>\n",
       "    </tr>\n",
       "    <tr>\n",
       "      <th>18387580</th>\n",
       "      <td>348544</td>\n",
       "      <td>554501</td>\n",
       "      <td>https://bn.wikipedia.org/wiki?curid=554501</td>\n",
       "      <td>Congresox talabonoides</td>\n",
       "      <td>train</td>\n",
       "      <td>bnwiki</td>\n",
       "    </tr>\n",
       "    <tr>\n",
       "      <th>18387581</th>\n",
       "      <td>348545</td>\n",
       "      <td>554504</td>\n",
       "      <td>https://bn.wikipedia.org/wiki?curid=554504</td>\n",
       "      <td>বাথাইল নদী</td>\n",
       "      <td>train</td>\n",
       "      <td>bnwiki</td>\n",
       "    </tr>\n",
       "  </tbody>\n",
       "</table>\n",
       "<p>18387582 rows × 6 columns</p>\n",
       "</div>"
      ],
      "text/plain": [
       "              id     curid                                           url  \\\n",
       "0              0  40754509  https://en.wikipedia.org/wiki?curid=40754509   \n",
       "1              1  40754512  https://en.wikipedia.org/wiki?curid=40754512   \n",
       "2              2  40754531  https://en.wikipedia.org/wiki?curid=40754531   \n",
       "3              3  40754542  https://en.wikipedia.org/wiki?curid=40754542   \n",
       "4              4  40754545  https://en.wikipedia.org/wiki?curid=40754545   \n",
       "...          ...       ...                                           ...   \n",
       "18387577  348541    554487    https://bn.wikipedia.org/wiki?curid=554487   \n",
       "18387578  348542    554493    https://bn.wikipedia.org/wiki?curid=554493   \n",
       "18387579  348543    554495    https://bn.wikipedia.org/wiki?curid=554495   \n",
       "18387580  348544    554501    https://bn.wikipedia.org/wiki?curid=554501   \n",
       "18387581  348545    554504    https://bn.wikipedia.org/wiki?curid=554504   \n",
       "\n",
       "                                title  split  corpus  \n",
       "0         Endocannabinoid transporter  train  enwiki  \n",
       "1                     Buddy McClinton  train  enwiki  \n",
       "2                          Power Lock  train  enwiki  \n",
       "3                         Mike Ballou  train  enwiki  \n",
       "4                 Philip M. Kleinfeld  train  enwiki  \n",
       "...                               ...    ...     ...  \n",
       "18387577               মোহাম্মদ সেলিম  train  bnwiki  \n",
       "18387578               Mohammad Salim  train  bnwiki  \n",
       "18387579                  দেশি কামিলা  train  bnwiki  \n",
       "18387580       Congresox talabonoides  train  bnwiki  \n",
       "18387581                   বাথাইল নদী  train  bnwiki  \n",
       "\n",
       "[18387582 rows x 6 columns]"
      ]
     },
     "execution_count": 16,
     "metadata": {},
     "output_type": "execute_result"
    }
   ],
   "source": [
    "crps.metadata"
   ]
  },
  {
   "cell_type": "markdown",
   "metadata": {},
   "source": [
    "### Export the Corpus to a JSON Lines File"
   ]
  },
  {
   "cell_type": "code",
   "execution_count": null,
   "metadata": {
    "id": "_hXmySfsPWem"
   },
   "outputs": [],
   "source": []
  }
 ],
 "metadata": {
  "colab": {
   "name": "corpus.ipynb",
   "provenance": []
  },
  "kernelspec": {
   "display_name": "Python 3.8.12 ('base')",
   "language": "python",
   "name": "python3"
  },
  "language_info": {
   "codemirror_mode": {
    "name": "ipython",
    "version": 3
   },
   "file_extension": ".py",
   "mimetype": "text/x-python",
   "name": "python",
   "nbconvert_exporter": "python",
   "pygments_lexer": "ipython3",
   "version": "3.8.12"
  },
  "vscode": {
   "interpreter": {
    "hash": "d4d1e4263499bec80672ea0156c357c1ee493ec2b1c70f0acce89fc37c4a6abe"
   }
  },
  "widgets": {
   "application/vnd.jupyter.widget-state+json": {
    "state": {},
    "version_major": 2,
    "version_minor": 0
   }
  }
 },
 "nbformat": 4,
 "nbformat_minor": 1
}
