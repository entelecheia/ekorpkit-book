{
 "cells": [
  {
   "cell_type": "markdown",
   "id": "cfdc61fb",
   "metadata": {},
   "source": [
    "# Topic Models [![Jupyter Book Badge](https://jupyterbook.org/badge.svg)](https://entelecheia.github.io/ekorpkit-book/) \n",
    "\n",
    "[![tomoto](../figs/intro_nlp/tomotopy/tomoto.png)](https://github.com/bab2min/tomotopy)\n",
    "\n"
   ]
  },
  {
   "cell_type": "markdown",
   "id": "66d50cc3",
   "metadata": {},
   "source": [
    "## What is tomotopy?\n",
    "\n",
    "`tomotopy` is a Python extension of `tomoto` (Topic Modeling Tool) which is a Gibbs-sampling based topic model library written in C++.\n",
    "It utilizes a vectorization of modern CPUs for maximizing speed. \n",
    "The current version of `tomoto` supports several major topic models including \n",
    "\n",
    "* Latent Dirichlet Allocation (`tomotopy.LDAModel`)\n",
    "* Labeled LDA (`tomotopy.LLDAModel`)\n",
    "* Partially Labeled LDA (`tomotopy.PLDAModel`)\n",
    "* Supervised LDA (`tomotopy.SLDAModel`)\n",
    "* Dirichlet Multinomial Regression (`tomotopy.DMRModel`)\n",
    "* Generalized Dirichlet Multinomial Regression (`tomotopy.GDMRModel`)\n",
    "* Hierarchical Dirichlet Process (`tomotopy.HDPModel`)\n",
    "* Hierarchical LDA (`tomotopy.HLDAModel`)\n",
    "* Multi Grain LDA (`tomotopy.MGLDAModel`) \n",
    "* Pachinko Allocation (`tomotopy.PAModel`)\n",
    "* Hierarchical PA (`tomotopy.HPAModel`)\n",
    "* Correlated Topic Model (`tomotopy.CTModel`)\n",
    "* Dynamic Topic Model (`tomotopy.DTModel`)\n",
    "* Pseudo-document based Topic Model (`tomotopy.PTModel`)."
   ]
  },
  {
   "cell_type": "markdown",
   "id": "5999eb3e",
   "metadata": {},
   "source": [
    "## Getting Started\n",
    "\n",
    "\n",
    "You can install tomotopy easily using pip. (https://pypi.org/project/tomotopy/)\n",
    "\n",
    "```bash\n",
    "pip install --upgrade pip\n",
    "pip install tomotopy\n",
    "```\n",
    "\n",
    "The supported OS and Python versions are:\n",
    "\n",
    "* Linux (x86-64) with Python >= 3.6 \n",
    "* macOS >= 10.13 with Python >= 3.6\n",
    "* Windows 7 or later (x86, x86-64) with Python >= 3.6\n",
    "* Other OS with Python >= 3.6: Compilation from source code required (with c++14 compatible compiler)\n",
    "\n",
    "After installing, you can start tomotopy by just importing.\n",
    "\n",
    "```python\n",
    "import tomotopy as tp\n",
    "print(tp.isa) # prints 'avx2', 'avx', 'sse2' or 'none'\n",
    "```\n",
    "\n",
    "Currently, tomotopy can exploits AVX2, AVX or SSE2 SIMD instruction set for maximizing performance.\n",
    "When the package is imported, it will check available instruction sets and select the best option.\n",
    "If `tp.isa` tells `none`, iterations of training may take a long time. \n",
    "But, since most of modern Intel or AMD CPUs provide SIMD instruction set, the SIMD acceleration could show a big improvement.\n",
    "\n"
   ]
  },
  {
   "cell_type": "markdown",
   "id": "c1bb2082",
   "metadata": {},
   "source": [
    "Here is a sample code for simple LDA training of texts from 'sample.txt' file.\n",
    "```python\n",
    "import tomotopy as tp\n",
    "mdl = tp.LDAModel(k=20)\n",
    "for line in open('sample.txt'):\n",
    "    mdl.add_doc(line.strip().split())\n",
    "\n",
    "for i in range(0, 100, 10):\n",
    "    mdl.train(10)\n",
    "    print('Iteration: {}\\tLog-likelihood: {}'.format(i, mdl.ll_per_word))\n",
    "\n",
    "for k in range(mdl.k):\n",
    "    print('Top 10 words of topic #{}'.format(k))\n",
    "    print(mdl.get_topic_words(k, top_n=10))\n",
    "\n",
    "mdl.summary()\n",
    "```"
   ]
  },
  {
   "cell_type": "code",
   "execution_count": null,
   "metadata": {},
   "outputs": [],
   "source": []
  }
 ],
 "metadata": {
  "kernelspec": {
   "display_name": "Python 3.8.5 ('base')",
   "language": "python",
   "name": "python3"
  },
  "language_info": {
   "name": "python",
   "version": "3.8.12"
  },
  "vscode": {
   "interpreter": {
    "hash": "d4d1e4263499bec80672ea0156c357c1ee493ec2b1c70f0acce89fc37c4a6abe"
   }
  }
 },
 "nbformat": 4,
 "nbformat_minor": 5
}
