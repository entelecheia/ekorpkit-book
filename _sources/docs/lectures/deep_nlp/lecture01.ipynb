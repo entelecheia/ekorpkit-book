{
 "cells": [
  {
   "cell_type": "markdown",
   "id": "76b40700",
   "metadata": {
    "slideshow": {
     "slide_type": "slide"
    },
    "tags": []
   },
   "source": [
    "# 1. [Introduction](https://entelecheia.github.io/ekorpkit-book/docs/lectures/deep_nlp/lecture01.html)"
   ]
  },
  {
   "cell_type": "code",
   "execution_count": 2,
   "id": "48ac663f-24b2-47ee-8182-f46b1e3e8501",
   "metadata": {
    "slideshow": {
     "slide_type": "skip"
    },
    "tags": [
     "remove-cell"
    ]
   },
   "outputs": [],
   "source": [
    "from IPython.display import Image"
   ]
  },
  {
   "cell_type": "markdown",
   "id": "c0bd2f00",
   "metadata": {
    "slideshow": {
     "slide_type": "slide"
    },
    "tags": []
   },
   "source": [
    "## What is NLP?\n",
    "\n",
    "- NLP, or natural language processing, is a branch of artificial intelligence that deals with the interpretation and manipulation of human language. \n",
    "- NL ∈ {Korean, English, Spanish, Mandarin, Hindi, Arabic, … Inuktitut}\n",
    "- Automation of NLs:\n",
    "  - analysis (NL → $R$)\n",
    "  - generation ($R$ → NL)\n",
    "  - acquisition of $R$ from knowledge and data"
   ]
  },
  {
   "cell_type": "markdown",
   "id": "bbb61380",
   "metadata": {
    "slideshow": {
     "slide_type": "slide"
    },
    "tags": []
   },
   "source": [
    "## IBM’s Watson wins at Jeopardy!\n",
    "\n",
    "- Watson is a computer system built by IBM that is designed to answer questions posed in natural language. \n",
    "- The system made its public debut on the game show Jeopardy! in 2011, where it competed against human contestants and won. Since then, Watson has been applied to a number of different tasks, including healthcare, finance, and customer service."
   ]
  },
  {
   "cell_type": "markdown",
   "id": "f961a073",
   "metadata": {
    "slideshow": {
     "slide_type": "skip"
    },
    "tags": []
   },
   "source": [
    "```{image} ./figs/entelecheia_IBMs_Watson_wins_at_Jeopardy_72e86643-7115-4d9b-874e-ee2e4c9c0fb0.png\n",
    ":alt: watson\n",
    ":width: 600px\n",
    ":align: center\n",
    "```"
   ]
  },
  {
   "cell_type": "markdown",
   "id": "8f9674ad",
   "metadata": {
    "tags": [
     "remove-cell"
    ]
   },
   "source": [
    "<center><img src=\"./figs/entelecheia_IBMs_Watson_wins_at_Jeopardy_72e86643-7115-4d9b-874e-ee2e4c9c0fb0.png\" alt=\"watson\" width=\"600px\"></center>"
   ]
  },
  {
   "cell_type": "markdown",
   "id": "52a45681",
   "metadata": {
    "slideshow": {
     "slide_type": "slide"
    },
    "tags": []
   },
   "source": [
    "## What are the related areas of NLP?\n",
    "\n",
    "-  Computational Linguistics\n",
    "-  Artificial Intelligence\n",
    "-  Machine Learning\n",
    "-  Data Mining\n",
    "-  Information Retrieval\n",
    "-  Natural Language Understanding\n",
    "-  Robotics\n",
    "-  Speech Recognition\n",
    "-  Text Mining"
   ]
  },
  {
   "cell_type": "markdown",
   "id": "c6293a8c",
   "metadata": {
    "slideshow": {
     "slide_type": "slide"
    },
    "tags": []
   },
   "source": [
    "## Why study or research NLP?\n",
    "\n",
    "- NLP is an interesting and important field with a wide range of applications. \n",
    "- It is constantly evolving, which means there are always new challenges to tackle.\n",
    "\n",
    "- NLP is also an interdisciplinary field, drawing from linguistics, computer science, and psychology. This means that there are many different perspectives and approaches to NLP, making it a rich and fascinating area to study.\n",
    "\n",
    "- Language is the key to understanding knowledge and human intelligence.  \n",
    "- It is also the key to communication and social interaction. \n",
    "- NLP is a powerful tool that can help us to unlock the secrets of language and human cognition, and to build better systems for communication and social interaction.\n"
   ]
  },
  {
   "cell_type": "markdown",
   "id": "aa47d136",
   "metadata": {
    "slideshow": {
     "slide_type": "slide"
    },
    "tags": []
   },
   "source": [
    "## What can you do with NLP?\n",
    "\n",
    "- **Natural language (and speech) interfaces**\n",
    "\n",
    "  - Search/IR, database access, image search, image description\n",
    "  - Dialog systems (e.g., customer service, robots, cars, tutoring), chatbots\n",
    "\n",
    "- **Information extraction, summarization, translation:**\n",
    "\n",
    "  - Process (large amounts of) text automatically to obtain meaning/knowledge contained in the text\n",
    "  - Identify/analyze trends, opinions, etc. (e.g., in social media)\n",
    "  - Translate text automatically from one language to another\n",
    "\n",
    "- **Convenience**:\n",
    "\n",
    "  - Grammar/style checking, automate email filing, autograding\n",
    "\n"
   ]
  },
  {
   "cell_type": "markdown",
   "id": "ed6a8fc1",
   "metadata": {},
   "source": [
    "- **Natural language understanding**\n",
    "\n",
    "  - Extract information (e.g., about entities, events or relations between them) from text\n",
    "  - Translate raw text into a meaning representation\n",
    "  - Reason about information given in text\n",
    "  - Execute NL instructions\n",
    "  \n",
    "- **Natural language generation and summarization**\n",
    "\n",
    "  - Translate database entries or meaning representations to raw natural language text\n",
    "  - Produce (appropriate) utterances/responses in a dialog\n",
    "  - Summarize (newspaper or scientiﬁc) articles, describe images\n",
    "\n",
    "- **Natural language translation**\n",
    "\n",
    "  - Translate one natural language to another"
   ]
  },
  {
   "cell_type": "markdown",
   "id": "cd741b9e",
   "metadata": {
    "slideshow": {
     "slide_type": "slide"
    },
    "tags": []
   },
   "source": [
    "### Some of the more popular applications of NLP include:\n",
    "\n",
    "- Virtual assistants, such as Siri, Alexa, and Google Assistant\n",
    "- Chatbots\n",
    "- Text analytics\n",
    "- Content moderation\n",
    "- Speech recognition"
   ]
  },
  {
   "cell_type": "markdown",
   "id": "8b541c47",
   "metadata": {},
   "source": [
    "### There are also interesting techniques that let you go between text and images, such as:\n",
    "\n",
    "- Image captioning\n",
    "- Text-to-image synthesis\n",
    "- Image-to-text translation"
   ]
  },
  {
   "cell_type": "markdown",
   "id": "2dbee6fe",
   "metadata": {},
   "source": [
    "### NLP Application - Machine Translation\n",
    "\n"
   ]
  },
  {
   "cell_type": "markdown",
   "id": "dcff08dd",
   "metadata": {
    "slideshow": {
     "slide_type": "slide"
    },
    "tags": []
   },
   "source": [
    "## What are the desiderata, or goals, for NLP?\n",
    "\n",
    "-  Generality across different languages, genres, styles, and modalities\n",
    "-  Sensitivity to a wide range of the phenomena and constraints in human language  \n",
    "-  Ability to learn from very small amounts of data\n",
    "-  Ease of use and interpretability\n",
    "-  Robustness in the face of errors and noise\n",
    "-  Explainable to humans\n",
    "-  Account for the complexities of real-world language use\n",
    "-  Generate outputs that are natural and appropriate for the context"
   ]
  },
  {
   "cell_type": "markdown",
   "id": "1a5eecdc",
   "metadata": {},
   "source": [
    "## Why is NLP hard?\n",
    "\n",
    "NLP is hard because language is ambiguous and constantly changing. Language is also a complex system with many different levels of structure, from the phonetic to the pragmatic.\n",
    "\n",
    "\n",
    "### The main challenges in NLP are:\n",
    "\n",
    "-  Ambiguity: Language is ambiguous, which makes it difficult for NLP systems to interpret a text.\n",
    "-  Change: Language is constantly changing, which makes it difficult for NLP systems to keep up with the latest changes.\n",
    "-  Complexity: Language is a complex system with many different levels of structure, from the phonetic to the pragmatic.\n",
    "  "
   ]
  },
  {
   "cell_type": "markdown",
   "id": "a7e69f5b",
   "metadata": {
    "slideshow": {
     "slide_type": "slide"
    },
    "tags": []
   },
   "source": [
    "## Neural Nets for NLP\n",
    "\n",
    "A neural net is a type of machine learning algorithm that is inspired by the structure of the brain. \n",
    "\n",
    "Neural nets are composed of a series of interconnected processing nodes, or neurons, that can learn to recognize patterns of input data.\n",
    "\n",
    "\n",
    "### Some popular neural net models for NLP include:\n",
    "\n",
    "-  Long Short-Term Memory (LSTM)\n",
    "-  Gated recurrent unit (GRU)\n",
    "-  Transformers\n",
    "-  Bidirectional Encoder Representations from Transformers (BERT)\n",
    "-  Generative Adversarial Networks (GANs)\n"
   ]
  },
  {
   "cell_type": "markdown",
   "id": "ac2fe39b",
   "metadata": {
    "slideshow": {
     "slide_type": "slide"
    },
    "tags": []
   },
   "source": [
    "### What are the benefits of neural nets for NLP?\n",
    "\n",
    "-  Neural nets can learn from very small amounts of data\n",
    "-  Neural nets are good at capturing the statistical properties of language\n",
    "-  Neural nets can be trained on a variety of NLP tasks\n",
    "\n",
    "### What are the limitations of neural nets for NLP?\n",
    "\n",
    "-  Neural nets require a lot of computational power\n",
    "-  Neural nets can be difficult to interpret\n",
    "-  Neural nets can be overfit to the training data"
   ]
  },
  {
   "cell_type": "markdown",
   "id": "28356404",
   "metadata": {
    "slideshow": {
     "slide_type": "slide"
    },
    "tags": []
   },
   "source": [
    "## Ethics issues in NLP\n",
    "\n",
    "NLP is a powerful tool that can be used for a wide range of tasks, including content moderation, text analytics, and speech recognition. However, NLP also raises a number of ethical concerns, including:\n",
    "\n",
    "-  Privacy: NLP can be used to process large amounts of personal data, which raises privacy concerns.\n",
    "\n",
    "-  Bias: NLP models can be biased against certain groups of people.\n",
    "\n",
    "-  Manipulation: NLP can be used to manipulate people by presenting them with false or misleading information."
   ]
  },
  {
   "cell_type": "markdown",
   "id": "5d13ff4e",
   "metadata": {},
   "source": [
    " What does it take to understand the text?\n",
    "\n",
    "There are many theories in the field of linguistics, but one of the most common theories is that language is composed of three levels:\n",
    "\n",
    "1. Phonology: the study of the sound system of a language\n",
    "\n",
    "2. Morphology: the study of the structure of words\n",
    "\n",
    "3. Syntax: the study of the structure of sentences\n",
    "\n",
    "In order to understand text, you need to be able to understand all three levels.\n",
    "\n",
    "What does an NLP system need to “know”?\n",
    "\n",
    "Humans fluently integrate all of these levels in producing and understanding language. NLP systems, however, need to be explicitly told how to do this. This is because NLP systems are designed to work with digital text, which is just a sequence of characters.\n",
    "\n",
    "In order to work with this sequence of characters, an NLP system needs to be told how the sequence corresponds to the three levels of linguistic structure.\n",
    "\n",
    "1. Phonology: how do the characters in the text correspond to the sounds of the language?\n",
    "\n",
    "2. Morphology: how do the characters in the text correspond to the structure of words?\n",
    "\n",
    "3. Syntax: how do the characters in the text correspond to the structure of sentences?\n",
    "\n",
    "In order to answer these questions, an NLP system needs a set of rules that define the correspondence between characters and the three levels of linguistic structure. These rules are called linguistic resources.\n",
    "\n",
    "What are linguistic resources?\n",
    "\n",
    "Linguistic resources are a set of rules that define the correspondence between characters and the three levels of linguistic structure.\n",
    "\n",
    "The most important linguistic resources for English are:\n",
    "\n",
    "1. A phonetic alphabet: a set of symbols that represent the sounds of English\n",
    "\n",
    "2. A set of morphological rules: rules that define how English words are formed\n",
    "\n",
    "3. A set of syntactic rules: rules that define how English sentences are formed\n",
    "\n",
    "4. A set of lexical rules: rules that define the meaning of English words\n",
    "\n",
    "In order to understand text, an NLP system needs to be able to map the characters in the text to the three levels of linguistic structure.\n",
    "\n",
    "1. Phonology: the system needs to be able to map the characters in the text to the sounds of the language.\n",
    "\n",
    "2. Morphology: the system needs to be able to map the characters in the text to the structure of words.\n",
    "\n",
    "3. Syntax: the system needs to be able to map the characters in the text to the structure of sentences.\n"
   ]
  }
 ],
 "metadata": {
  "kernelspec": {
   "display_name": "Python 3 (ipykernel)",
   "language": "python",
   "name": "python3"
  },
  "language_info": {
   "codemirror_mode": {
    "name": "ipython",
    "version": 3
   },
   "file_extension": ".py",
   "mimetype": "text/x-python",
   "name": "python",
   "nbconvert_exporter": "python",
   "pygments_lexer": "ipython3",
   "version": "3.8.12"
  },
  "vscode": {
   "interpreter": {
    "hash": "d4d1e4263499bec80672ea0156c357c1ee493ec2b1c70f0acce89fc37c4a6abe"
   }
  },
  "widgets": {
   "application/vnd.jupyter.widget-state+json": {
    "state": {},
    "version_major": 2,
    "version_minor": 0
   }
  }
 },
 "nbformat": 4,
 "nbformat_minor": 5
}
