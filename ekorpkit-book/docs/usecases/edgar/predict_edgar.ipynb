{
 "cells": [
  {
   "cell_type": "markdown",
   "metadata": {
    "id": "AESO0odcxhzs"
   },
   "source": [
    "# Prediciting Sentiments"
   ]
  },
  {
   "cell_type": "markdown",
   "metadata": {},
   "source": [
    "## Prepare `edgar` sampel dataframe"
   ]
  },
  {
   "cell_type": "code",
   "execution_count": 2,
   "metadata": {},
   "outputs": [
    {
     "data": {
      "text/html": [
       "<div>\n",
       "<style scoped>\n",
       "    .dataframe tbody tr th:only-of-type {\n",
       "        vertical-align: middle;\n",
       "    }\n",
       "\n",
       "    .dataframe tbody tr th {\n",
       "        vertical-align: top;\n",
       "    }\n",
       "\n",
       "    .dataframe thead th {\n",
       "        text-align: right;\n",
       "    }\n",
       "</style>\n",
       "<table border=\"1\" class=\"dataframe\">\n",
       "  <thead>\n",
       "    <tr style=\"text-align: right;\">\n",
       "      <th></th>\n",
       "      <th>id</th>\n",
       "      <th>filename</th>\n",
       "      <th>item</th>\n",
       "      <th>cik</th>\n",
       "      <th>company</th>\n",
       "      <th>text</th>\n",
       "    </tr>\n",
       "  </thead>\n",
       "  <tbody>\n",
       "    <tr>\n",
       "      <th>1410</th>\n",
       "      <td>1534</td>\n",
       "      <td>1999/320193_10K_1999_0000912057-99-010244.json</td>\n",
       "      <td>item_1</td>\n",
       "      <td>320193</td>\n",
       "      <td>APPLE COMPUTER INC</td>\n",
       "      <td>ITEM 1. \\nBUSINESS GENERAL Apple Computer, Inc...</td>\n",
       "    </tr>\n",
       "    <tr>\n",
       "      <th>1560</th>\n",
       "      <td>1697</td>\n",
       "      <td>1999/21344_10K_1999_0000021344-00-000009.json</td>\n",
       "      <td>item_1</td>\n",
       "      <td>21344</td>\n",
       "      <td>COCA COLA CO</td>\n",
       "      <td>ITEM 1. \\nBUSINESS The Coca-Cola Company (toge...</td>\n",
       "    </tr>\n",
       "    <tr>\n",
       "      <th>2746</th>\n",
       "      <td>2977</td>\n",
       "      <td>1999/70858_10K_1999_0000950168-00-000621.json</td>\n",
       "      <td>item_1</td>\n",
       "      <td>70858</td>\n",
       "      <td>BANK OF AMERICA CORP /DE/</td>\n",
       "      <td>Item 1. \\nBUSINESS General Bank of America Cor...</td>\n",
       "    </tr>\n",
       "    <tr>\n",
       "      <th>3762</th>\n",
       "      <td>4088</td>\n",
       "      <td>1999/80424_10K_1999_0000080424-99-000027.json</td>\n",
       "      <td>item_1</td>\n",
       "      <td>80424</td>\n",
       "      <td>PROCTER &amp; GAMBLE CO</td>\n",
       "      <td>Item 1. \\nBusiness. \\n--------- General Develo...</td>\n",
       "    </tr>\n",
       "    <tr>\n",
       "      <th>4806</th>\n",
       "      <td>5211</td>\n",
       "      <td>1999/1018724_10K_1999_0000891020-00-000622.json</td>\n",
       "      <td>item_1</td>\n",
       "      <td>1018724</td>\n",
       "      <td>AMAZON COM INC</td>\n",
       "      <td>ITEM 1. \\nBUSINESS This Annual Report on Form ...</td>\n",
       "    </tr>\n",
       "  </tbody>\n",
       "</table>\n",
       "</div>"
      ],
      "text/plain": [
       "        id                                         filename    item      cik  \\\n",
       "1410  1534   1999/320193_10K_1999_0000912057-99-010244.json  item_1   320193   \n",
       "1560  1697    1999/21344_10K_1999_0000021344-00-000009.json  item_1    21344   \n",
       "2746  2977    1999/70858_10K_1999_0000950168-00-000621.json  item_1    70858   \n",
       "3762  4088    1999/80424_10K_1999_0000080424-99-000027.json  item_1    80424   \n",
       "4806  5211  1999/1018724_10K_1999_0000891020-00-000622.json  item_1  1018724   \n",
       "\n",
       "                        company  \\\n",
       "1410         APPLE COMPUTER INC   \n",
       "1560               COCA COLA CO   \n",
       "2746  BANK OF AMERICA CORP /DE/   \n",
       "3762        PROCTER & GAMBLE CO   \n",
       "4806             AMAZON COM INC   \n",
       "\n",
       "                                                   text  \n",
       "1410  ITEM 1. \\nBUSINESS GENERAL Apple Computer, Inc...  \n",
       "1560  ITEM 1. \\nBUSINESS The Coca-Cola Company (toge...  \n",
       "2746  Item 1. \\nBUSINESS General Bank of America Cor...  \n",
       "3762  Item 1. \\nBusiness. \\n--------- General Develo...  \n",
       "4806  ITEM 1. \\nBUSINESS This Annual Report on Form ...  "
      ]
     },
     "execution_count": 2,
     "metadata": {},
     "output_type": "execute_result"
    }
   ],
   "source": [
    "from ekorpkit import eKonf\n",
    "\n",
    "df_cfg = eKonf.compose(config_group='pipeline=blank')\n",
    "df_cfg.name = 'edgar_sample'\n",
    "df_cfg.data_dir = \"${cached_path:'https://github.com/entelecheia/ekorpkit-config/raw/main/data/edgar.zip',true,false}\"\n",
    "df_cfg.data_dir += \"/edgar\"\n",
    "df_cfg.data_file = 'edgar.parquet'\n",
    "df_cfg.columns_to_keep = ['id', 'filename', 'item', 'cik', 'company', 'text']\n",
    "df = eKonf.instantiate(df_cfg)\n",
    "df.head()"
   ]
  },
  {
   "cell_type": "markdown",
   "metadata": {
    "id": "pzjBtQqpnqcy"
   },
   "source": [
    "## Prepare `financial_phrasebank` dataset"
   ]
  },
  {
   "cell_type": "code",
   "execution_count": 3,
   "metadata": {
    "colab": {
     "base_uri": "https://localhost:8080/",
     "height": 659
    },
    "id": "RdpBCIbBny8z",
    "outputId": "f655ea5b-5afb-43a1-cfec-7df3e6d32d92"
   },
   "outputs": [],
   "source": [
    "from ekorpkit import eKonf\n",
    "\n",
    "ds_cfg = eKonf.compose(config_group='dataset')\n",
    "ds_cfg.name = 'financial_phrasebank'\n",
    "ds_cfg.data_dir = \"${cached_path:'gd://15TUjIfQstCYXU82s0pcaxh2QcSWf1zyG:financial_phrasebank.zip',true,false}\"\n",
    "ds = eKonf.instantiate(ds_cfg)"
   ]
  },
  {
   "cell_type": "markdown",
   "metadata": {
    "id": "dOpN8AxSxhzv"
   },
   "source": [
    "## Compose a config for the LM sentiment analyser class"
   ]
  },
  {
   "cell_type": "code",
   "execution_count": 4,
   "metadata": {
    "id": "w7F_qmC8nUue"
   },
   "outputs": [],
   "source": [
    "from ekorpkit import eKonf\n",
    "\n",
    "config_group='model/sentiment=lm'\n",
    "model_cfg = eKonf.compose(config_group=config_group)\n",
    "model_cfg.preprocessor.tokenizer.nltk.lemmatize = True"
   ]
  },
  {
   "cell_type": "markdown",
   "metadata": {
    "id": "U26yEB4gotyT"
   },
   "source": [
    "## Instantiating a sentiment analyser class and prediting sentiments of `edgar` dataset"
   ]
  },
  {
   "cell_type": "code",
   "execution_count": 5,
   "metadata": {
    "colab": {
     "base_uri": "https://localhost:8080/",
     "height": 639
    },
    "id": "SEBHqvYvnUui",
    "outputId": "945c3bc5-f669-44ac-94a9-4d917decf246"
   },
   "outputs": [
    {
     "name": "stdout",
     "output_type": "stream",
     "text": [
      "Loading 1 dataframes from ['/root/.ekorpkit/.cache/cached_path/bba50371f814f64ee7290d4bfcc1af428ca7105a08f463fcb32d5b8ba35abec9.e471900481c811e176bb6ea493388979a9def601f2f456f660131000c602f18b-extracted/edgar/edgar.parquet']\n"
     ]
    },
    {
     "name": "stderr",
     "output_type": "stream",
     "text": [
      "Predicting [text]: 100%|██████████| 100/100 [00:31<00:00,  3.18it/s]\n"
     ]
    },
    {
     "name": "stdout",
     "output_type": "stream",
     "text": [
      " >> saved dataframe to ./data/predict/edgar_sentiments-lm.parquet\n"
     ]
    },
    {
     "data": {
      "text/html": [
       "<div>\n",
       "<style scoped>\n",
       "    .dataframe tbody tr th:only-of-type {\n",
       "        vertical-align: middle;\n",
       "    }\n",
       "\n",
       "    .dataframe tbody tr th {\n",
       "        vertical-align: top;\n",
       "    }\n",
       "\n",
       "    .dataframe thead th {\n",
       "        text-align: right;\n",
       "    }\n",
       "</style>\n",
       "<table border=\"1\" class=\"dataframe\">\n",
       "  <thead>\n",
       "    <tr style=\"text-align: right;\">\n",
       "      <th></th>\n",
       "      <th>id</th>\n",
       "      <th>filename</th>\n",
       "      <th>item</th>\n",
       "      <th>cik</th>\n",
       "      <th>company</th>\n",
       "      <th>text</th>\n",
       "      <th>positive</th>\n",
       "      <th>negative</th>\n",
       "      <th>num_tokens</th>\n",
       "      <th>polarity</th>\n",
       "      <th>subjectivity</th>\n",
       "      <th>polarity_label</th>\n",
       "      <th>uncertainty</th>\n",
       "    </tr>\n",
       "  </thead>\n",
       "  <tbody>\n",
       "    <tr>\n",
       "      <th>1410</th>\n",
       "      <td>1534</td>\n",
       "      <td>1999/320193_10K_1999_0000912057-99-010244.json</td>\n",
       "      <td>item_1</td>\n",
       "      <td>320193</td>\n",
       "      <td>APPLE COMPUTER INC</td>\n",
       "      <td>ITEM 1. \\nBUSINESS GENERAL Apple Computer, Inc...</td>\n",
       "      <td>0.007679</td>\n",
       "      <td>0.009726</td>\n",
       "      <td>3907</td>\n",
       "      <td>-0.117647</td>\n",
       "      <td>0.017405</td>\n",
       "      <td>neutral</td>\n",
       "      <td>0.011262</td>\n",
       "    </tr>\n",
       "    <tr>\n",
       "      <th>1560</th>\n",
       "      <td>1697</td>\n",
       "      <td>1999/21344_10K_1999_0000021344-00-000009.json</td>\n",
       "      <td>item_1</td>\n",
       "      <td>21344</td>\n",
       "      <td>COCA COLA CO</td>\n",
       "      <td>ITEM 1. \\nBUSINESS The Coca-Cola Company (toge...</td>\n",
       "      <td>0.004727</td>\n",
       "      <td>0.004137</td>\n",
       "      <td>6769</td>\n",
       "      <td>0.066667</td>\n",
       "      <td>0.008864</td>\n",
       "      <td>neutral</td>\n",
       "      <td>0.014773</td>\n",
       "    </tr>\n",
       "    <tr>\n",
       "      <th>2746</th>\n",
       "      <td>2977</td>\n",
       "      <td>1999/70858_10K_1999_0000950168-00-000621.json</td>\n",
       "      <td>item_1</td>\n",
       "      <td>70858</td>\n",
       "      <td>BANK OF AMERICA CORP /DE/</td>\n",
       "      <td>Item 1. \\nBUSINESS General Bank of America Cor...</td>\n",
       "      <td>0.004575</td>\n",
       "      <td>0.007149</td>\n",
       "      <td>3497</td>\n",
       "      <td>-0.219512</td>\n",
       "      <td>0.011724</td>\n",
       "      <td>negative</td>\n",
       "      <td>0.008579</td>\n",
       "    </tr>\n",
       "    <tr>\n",
       "      <th>3762</th>\n",
       "      <td>4088</td>\n",
       "      <td>1999/80424_10K_1999_0000080424-99-000027.json</td>\n",
       "      <td>item_1</td>\n",
       "      <td>80424</td>\n",
       "      <td>PROCTER &amp; GAMBLE CO</td>\n",
       "      <td>Item 1. \\nBusiness. \\n--------- General Develo...</td>\n",
       "      <td>0.004747</td>\n",
       "      <td>0.003956</td>\n",
       "      <td>1264</td>\n",
       "      <td>0.090909</td>\n",
       "      <td>0.008703</td>\n",
       "      <td>neutral</td>\n",
       "      <td>0.011867</td>\n",
       "    </tr>\n",
       "    <tr>\n",
       "      <th>4806</th>\n",
       "      <td>5211</td>\n",
       "      <td>1999/1018724_10K_1999_0000891020-00-000622.json</td>\n",
       "      <td>item_1</td>\n",
       "      <td>1018724</td>\n",
       "      <td>AMAZON COM INC</td>\n",
       "      <td>ITEM 1. \\nBUSINESS This Annual Report on Form ...</td>\n",
       "      <td>0.013912</td>\n",
       "      <td>0.017229</td>\n",
       "      <td>12363</td>\n",
       "      <td>-0.106494</td>\n",
       "      <td>0.031141</td>\n",
       "      <td>neutral</td>\n",
       "      <td>0.019979</td>\n",
       "    </tr>\n",
       "  </tbody>\n",
       "</table>\n",
       "</div>"
      ],
      "text/plain": [
       "        id                                         filename    item      cik  \\\n",
       "1410  1534   1999/320193_10K_1999_0000912057-99-010244.json  item_1   320193   \n",
       "1560  1697    1999/21344_10K_1999_0000021344-00-000009.json  item_1    21344   \n",
       "2746  2977    1999/70858_10K_1999_0000950168-00-000621.json  item_1    70858   \n",
       "3762  4088    1999/80424_10K_1999_0000080424-99-000027.json  item_1    80424   \n",
       "4806  5211  1999/1018724_10K_1999_0000891020-00-000622.json  item_1  1018724   \n",
       "\n",
       "                        company  \\\n",
       "1410         APPLE COMPUTER INC   \n",
       "1560               COCA COLA CO   \n",
       "2746  BANK OF AMERICA CORP /DE/   \n",
       "3762        PROCTER & GAMBLE CO   \n",
       "4806             AMAZON COM INC   \n",
       "\n",
       "                                                   text  positive  negative  \\\n",
       "1410  ITEM 1. \\nBUSINESS GENERAL Apple Computer, Inc...  0.007679  0.009726   \n",
       "1560  ITEM 1. \\nBUSINESS The Coca-Cola Company (toge...  0.004727  0.004137   \n",
       "2746  Item 1. \\nBUSINESS General Bank of America Cor...  0.004575  0.007149   \n",
       "3762  Item 1. \\nBusiness. \\n--------- General Develo...  0.004747  0.003956   \n",
       "4806  ITEM 1. \\nBUSINESS This Annual Report on Form ...  0.013912  0.017229   \n",
       "\n",
       "      num_tokens  polarity  subjectivity polarity_label  uncertainty  \n",
       "1410        3907 -0.117647      0.017405        neutral     0.011262  \n",
       "1560        6769  0.066667      0.008864        neutral     0.014773  \n",
       "2746        3497 -0.219512      0.011724       negative     0.008579  \n",
       "3762        1264  0.090909      0.008703        neutral     0.011867  \n",
       "4806       12363 -0.106494      0.031141        neutral     0.019979  "
      ]
     },
     "execution_count": 5,
     "metadata": {},
     "output_type": "execute_result"
    }
   ],
   "source": [
    "cfg = eKonf.compose(config_group='pipeline')\n",
    "cfg.verbose = True\n",
    "cfg.name = 'edgar_sentiments'\n",
    "cfg.data_dir = \"${cached_path:'https://github.com/entelecheia/ekorpkit-config/raw/main/data/edgar.zip',true,false}\"\n",
    "cfg.data_dir += \"/edgar\"\n",
    "cfg.data_file = 'edgar.parquet'\n",
    "cfg.columns_to_keep = ['id', 'filename', 'item', 'cik', 'company', 'text']\n",
    "cfg._pipeline_ = ['predict']\n",
    "cfg.predict.model = model_cfg\n",
    "cfg.predict.output_dir = \"./data/predict\"\n",
    "cfg.predict.output_file = f'{cfg.name}-lm.parquet'\n",
    "cfg.num_workers = 100\n",
    "df = eKonf.instantiate(cfg)\n",
    "df.head()"
   ]
  },
  {
   "cell_type": "code",
   "execution_count": 6,
   "metadata": {
    "id": "MS2eYHjSnUui",
    "outputId": "562ba0b8-6264-415e-bf48-60e120dc36ec"
   },
   "outputs": [
    {
     "name": "stdout",
     "output_type": "stream",
     "text": [
      "./data/predict\n",
      "edgar_sentiments-lm.parquet\n"
     ]
    }
   ],
   "source": [
    "print(cfg.predict.output_dir)\n",
    "print(cfg.predict.output_file)"
   ]
  },
  {
   "cell_type": "markdown",
   "metadata": {
    "id": "3uhF3cDynUuj",
    "outputId": "a50d12e1-9ab3-4496-af54-cae58051f1ed"
   },
   "source": [
    "## Instantiating a transformer classficiation model with `financial_phrasebank` dataset"
   ]
  },
  {
   "cell_type": "code",
   "execution_count": 5,
   "metadata": {
    "id": "i9__LTKOnUuj"
   },
   "outputs": [
    {
     "data": {
      "text/plain": [
       "<ekorpkit.models.transformer.simple.SimpleClassification at 0x7fd897d35250>"
      ]
     },
     "execution_count": 5,
     "metadata": {},
     "output_type": "execute_result"
    }
   ],
   "source": [
    "from ekorpkit import eKonf\n",
    "\n",
    "overrides=[\n",
    "    '+model/transformer=simple_classification',\n",
    "    '+model/transformer/pretrained=finbert',\n",
    "]\n",
    "model_cfg = eKonf.compose(overrides=overrides, config_group='model/transformer=simple_classification')\n",
    "model_cfg.dataset = ds_cfg\n",
    "model_cfg.verbose = False\n",
    "model_cfg.config.num_train_epochs = 2\n",
    "model_cfg.config.max_seq_length = 256\n",
    "model_cfg.config.train_batch_size = 32\n",
    "model_cfg.config.eval_batch_size = 32\n",
    "model_cfg.labels = ['positive','neutral','negative']\n",
    "model_cfg._call_ = ['train']\n",
    "eKonf.instantiate(model_cfg)"
   ]
  },
  {
   "cell_type": "code",
   "execution_count": 6,
   "metadata": {},
   "outputs": [
    {
     "name": "stdout",
     "output_type": "stream",
     "text": [
      "Loading 1 dataframes from ['/root/.ekorpkit/.cache/cached_path/bba50371f814f64ee7290d4bfcc1af428ca7105a08f463fcb32d5b8ba35abec9.e471900481c811e176bb6ea493388979a9def601f2f456f660131000c602f18b-extracted/edgar/edgar.parquet']\n"
     ]
    },
    {
     "data": {
      "application/vnd.jupyter.widget-view+json": {
       "model_id": "f86182a4cd1446c4853a286ec625fc32",
       "version_major": 2,
       "version_minor": 0
      },
      "text/plain": [
       "  0%|          | 0/1585 [00:00<?, ?it/s]"
      ]
     },
     "metadata": {},
     "output_type": "display_data"
    },
    {
     "name": "stderr",
     "output_type": "stream",
     "text": [
      "Token indices sequence length is longer than the specified maximum sequence length for this model (4252 > 512). Running this sequence through the model will result in indexing errors\n"
     ]
    },
    {
     "data": {
      "application/vnd.jupyter.widget-view+json": {
       "model_id": "d580432e8def41e4a74fdc4335542d3b",
       "version_major": 2,
       "version_minor": 0
      },
      "text/plain": [
       "  0%|          | 0/945 [00:00<?, ?it/s]"
      ]
     },
     "metadata": {},
     "output_type": "display_data"
    },
    {
     "name": "stdout",
     "output_type": "stream",
     "text": [
      " >> saved dataframe to ./data/predict/edgar_sentiments-finbert.parquet\n"
     ]
    },
    {
     "data": {
      "text/html": [
       "<div>\n",
       "<style scoped>\n",
       "    .dataframe tbody tr th:only-of-type {\n",
       "        vertical-align: middle;\n",
       "    }\n",
       "\n",
       "    .dataframe tbody tr th {\n",
       "        vertical-align: top;\n",
       "    }\n",
       "\n",
       "    .dataframe thead th {\n",
       "        text-align: right;\n",
       "    }\n",
       "</style>\n",
       "<table border=\"1\" class=\"dataframe\">\n",
       "  <thead>\n",
       "    <tr style=\"text-align: right;\">\n",
       "      <th></th>\n",
       "      <th>id</th>\n",
       "      <th>filename</th>\n",
       "      <th>item</th>\n",
       "      <th>cik</th>\n",
       "      <th>company</th>\n",
       "      <th>text</th>\n",
       "      <th>pred_labels</th>\n",
       "    </tr>\n",
       "  </thead>\n",
       "  <tbody>\n",
       "    <tr>\n",
       "      <th>1410</th>\n",
       "      <td>1534</td>\n",
       "      <td>1999/320193_10K_1999_0000912057-99-010244.json</td>\n",
       "      <td>item_1</td>\n",
       "      <td>320193</td>\n",
       "      <td>APPLE COMPUTER INC</td>\n",
       "      <td>ITEM 1. \\nBUSINESS GENERAL Apple Computer, Inc...</td>\n",
       "      <td>positive</td>\n",
       "    </tr>\n",
       "    <tr>\n",
       "      <th>1560</th>\n",
       "      <td>1697</td>\n",
       "      <td>1999/21344_10K_1999_0000021344-00-000009.json</td>\n",
       "      <td>item_1</td>\n",
       "      <td>21344</td>\n",
       "      <td>COCA COLA CO</td>\n",
       "      <td>ITEM 1. \\nBUSINESS The Coca-Cola Company (toge...</td>\n",
       "      <td>neutral</td>\n",
       "    </tr>\n",
       "    <tr>\n",
       "      <th>2746</th>\n",
       "      <td>2977</td>\n",
       "      <td>1999/70858_10K_1999_0000950168-00-000621.json</td>\n",
       "      <td>item_1</td>\n",
       "      <td>70858</td>\n",
       "      <td>BANK OF AMERICA CORP /DE/</td>\n",
       "      <td>Item 1. \\nBUSINESS General Bank of America Cor...</td>\n",
       "      <td>neutral</td>\n",
       "    </tr>\n",
       "    <tr>\n",
       "      <th>3762</th>\n",
       "      <td>4088</td>\n",
       "      <td>1999/80424_10K_1999_0000080424-99-000027.json</td>\n",
       "      <td>item_1</td>\n",
       "      <td>80424</td>\n",
       "      <td>PROCTER &amp; GAMBLE CO</td>\n",
       "      <td>Item 1. \\nBusiness. \\n--------- General Develo...</td>\n",
       "      <td>neutral</td>\n",
       "    </tr>\n",
       "    <tr>\n",
       "      <th>4806</th>\n",
       "      <td>5211</td>\n",
       "      <td>1999/1018724_10K_1999_0000891020-00-000622.json</td>\n",
       "      <td>item_1</td>\n",
       "      <td>1018724</td>\n",
       "      <td>AMAZON COM INC</td>\n",
       "      <td>ITEM 1. \\nBUSINESS This Annual Report on Form ...</td>\n",
       "      <td>positive</td>\n",
       "    </tr>\n",
       "  </tbody>\n",
       "</table>\n",
       "</div>"
      ],
      "text/plain": [
       "        id                                         filename    item      cik  \\\n",
       "1410  1534   1999/320193_10K_1999_0000912057-99-010244.json  item_1   320193   \n",
       "1560  1697    1999/21344_10K_1999_0000021344-00-000009.json  item_1    21344   \n",
       "2746  2977    1999/70858_10K_1999_0000950168-00-000621.json  item_1    70858   \n",
       "3762  4088    1999/80424_10K_1999_0000080424-99-000027.json  item_1    80424   \n",
       "4806  5211  1999/1018724_10K_1999_0000891020-00-000622.json  item_1  1018724   \n",
       "\n",
       "                        company  \\\n",
       "1410         APPLE COMPUTER INC   \n",
       "1560               COCA COLA CO   \n",
       "2746  BANK OF AMERICA CORP /DE/   \n",
       "3762        PROCTER & GAMBLE CO   \n",
       "4806             AMAZON COM INC   \n",
       "\n",
       "                                                   text pred_labels  \n",
       "1410  ITEM 1. \\nBUSINESS GENERAL Apple Computer, Inc...    positive  \n",
       "1560  ITEM 1. \\nBUSINESS The Coca-Cola Company (toge...     neutral  \n",
       "2746  Item 1. \\nBUSINESS General Bank of America Cor...     neutral  \n",
       "3762  Item 1. \\nBusiness. \\n--------- General Develo...     neutral  \n",
       "4806  ITEM 1. \\nBUSINESS This Annual Report on Form ...    positive  "
      ]
     },
     "execution_count": 6,
     "metadata": {},
     "output_type": "execute_result"
    }
   ],
   "source": [
    "cfg = eKonf.compose(config_group='pipeline')\n",
    "cfg.verbose = True\n",
    "cfg.name = 'edgar_sentiments'\n",
    "cfg.data_dir = \"${cached_path:'https://github.com/entelecheia/ekorpkit-config/raw/main/data/edgar.zip',true,false}\"\n",
    "cfg.data_dir += \"/edgar\"\n",
    "cfg.data_file = 'edgar.parquet'\n",
    "cfg.columns_to_keep = ['id', 'filename', 'item', 'cik', 'company', 'text']\n",
    "cfg._pipeline_ = ['predict']\n",
    "cfg.predict.model = model_cfg\n",
    "cfg.predict.output_dir = \"./data/predict\"\n",
    "cfg.predict.output_file = f'{cfg.name}-finbert.parquet'\n",
    "cfg.num_workers = 1\n",
    "df = eKonf.instantiate(cfg)\n",
    "df.head()"
   ]
  },
  {
   "cell_type": "code",
   "execution_count": 7,
   "metadata": {},
   "outputs": [
    {
     "name": "stdout",
     "output_type": "stream",
     "text": [
      "<class 'pandas.core.frame.DataFrame'>\n",
      "Int64Index: 1585 entries, 1410 to 1291201\n",
      "Data columns (total 7 columns):\n",
      " #   Column       Non-Null Count  Dtype \n",
      "---  ------       --------------  ----- \n",
      " 0   id           1585 non-null   int64 \n",
      " 1   filename     1585 non-null   object\n",
      " 2   item         1585 non-null   object\n",
      " 3   cik          1585 non-null   object\n",
      " 4   company      1585 non-null   object\n",
      " 5   text         1585 non-null   object\n",
      " 6   pred_labels  1585 non-null   object\n",
      "dtypes: int64(1), object(6)\n",
      "memory usage: 99.1+ KB\n"
     ]
    }
   ],
   "source": [
    "df.info()"
   ]
  },
  {
   "cell_type": "code",
   "execution_count": null,
   "metadata": {},
   "outputs": [],
   "source": []
  }
 ],
 "metadata": {
  "colab": {
   "include_colab_link": true,
   "name": "preprocessor.ipynb",
   "provenance": []
  },
  "interpreter": {
   "hash": "f869af7787e6a1c49e09e367fc6e1b81d93d1c6583b43249c80edc047bd13cb2"
  },
  "kernelspec": {
   "display_name": "Python 3",
   "language": "python",
   "name": "python3"
  },
  "language_info": {
   "codemirror_mode": {
    "name": "ipython",
    "version": 3
   },
   "file_extension": ".py",
   "mimetype": "text/x-python",
   "name": "python",
   "nbconvert_exporter": "python",
   "pygments_lexer": "ipython3",
   "version": "3.8.12"
  },
  "widgets": {
   "application/vnd.jupyter.widget-state+json": {
    "state": {
     "01cbf995388e404ca735f9401cf94f32": {
      "model_module": "@jupyter-widgets/base",
      "model_module_version": "1.2.0",
      "model_name": "LayoutModel",
      "state": {}
     },
     "01e94069d5304fc087c0cffaf6b2f17f": {
      "model_module": "@jupyter-widgets/controls",
      "model_module_version": "1.5.0",
      "model_name": "ProgressStyleModel",
      "state": {
       "description_width": ""
      }
     },
     "028d645ab929408495c5676b3a368b02": {
      "model_module": "@jupyter-widgets/base",
      "model_module_version": "1.2.0",
      "model_name": "LayoutModel",
      "state": {}
     },
     "03bd79766c664d5289aec8eacf516eed": {
      "model_module": "@jupyter-widgets/controls",
      "model_module_version": "1.5.0",
      "model_name": "DescriptionStyleModel",
      "state": {
       "description_width": ""
      }
     },
     "04818df2041546ec8c4efce446ee057a": {
      "model_module": "@jupyter-widgets/base",
      "model_module_version": "1.2.0",
      "model_name": "LayoutModel",
      "state": {}
     },
     "05d4a123dbd846a68b351af192a8a322": {
      "model_module": "@jupyter-widgets/base",
      "model_module_version": "1.2.0",
      "model_name": "LayoutModel",
      "state": {}
     },
     "05da25b4619c4e2890a5c1e647f08ea8": {
      "model_module": "@jupyter-widgets/base",
      "model_module_version": "1.2.0",
      "model_name": "LayoutModel",
      "state": {}
     },
     "08662858897444949ff5b5fec5902b02": {
      "model_module": "@jupyter-widgets/base",
      "model_module_version": "1.2.0",
      "model_name": "LayoutModel",
      "state": {}
     },
     "086e9344a75b4b009960a0c6598d1435": {
      "model_module": "@jupyter-widgets/controls",
      "model_module_version": "1.5.0",
      "model_name": "HTMLModel",
      "state": {
       "layout": "IPY_MODEL_a2049a08a6ee49fd9d585d6662c3870b",
       "style": "IPY_MODEL_4c3e73b27a4d45a49bafdf3b5fb7ee16",
       "value": "100%"
      }
     },
     "08e9d156799f443989b8850e34006cde": {
      "model_module": "@jupyter-widgets/controls",
      "model_module_version": "1.5.0",
      "model_name": "DescriptionStyleModel",
      "state": {
       "description_width": ""
      }
     },
     "0a0b10fcf85345dbbf07764f6cc4e7ff": {
      "model_module": "@jupyter-widgets/controls",
      "model_module_version": "1.5.0",
      "model_name": "FloatProgressModel",
      "state": {
       "bar_style": "success",
       "layout": "IPY_MODEL_f6c4bad2654646acabda8c90c089c05e",
       "max": 452,
       "style": "IPY_MODEL_deadc3cef7654f99b3b60ac337abbba0",
       "value": 452
      }
     },
     "0b8451da3b0e419bb1c8f1974628b53a": {
      "model_module": "@jupyter-widgets/controls",
      "model_module_version": "1.5.0",
      "model_name": "ProgressStyleModel",
      "state": {
       "description_width": ""
      }
     },
     "0d5ffadaeb17447cbaae767ad72111cb": {
      "model_module": "@jupyter-widgets/controls",
      "model_module_version": "1.5.0",
      "model_name": "HTMLModel",
      "state": {
       "layout": "IPY_MODEL_56cf2e85ee4c40fda9a396cd00836421",
       "style": "IPY_MODEL_e147ad2ba03c44d8a985a5894e2fe3de",
       "value": "Running Evaluation: 100%"
      }
     },
     "0d6a586235b3437cac524071d2b3d60d": {
      "model_module": "@jupyter-widgets/controls",
      "model_module_version": "1.5.0",
      "model_name": "HBoxModel",
      "state": {
       "children": [
        "IPY_MODEL_0d5ffadaeb17447cbaae767ad72111cb",
        "IPY_MODEL_b9bdcfd5e89743659f3cbc78ed94c716",
        "IPY_MODEL_4c6fba722b11406191ebfc65745bf755"
       ],
       "layout": "IPY_MODEL_80360eb9fbe34f02976551336a957958"
      }
     },
     "0f58c3b39ff34b6c8a3c2e09257dbfe3": {
      "model_module": "@jupyter-widgets/controls",
      "model_module_version": "1.5.0",
      "model_name": "LabelModel",
      "state": {
       "layout": "IPY_MODEL_4b3e6dd031c04bdb9051a45025971f29",
       "style": "IPY_MODEL_858d5777d08e47fb885e82a98a9d107c"
      }
     },
     "0f989e4df5ce437689ce35979bc7000f": {
      "model_module": "@jupyter-widgets/controls",
      "model_module_version": "1.5.0",
      "model_name": "ProgressStyleModel",
      "state": {
       "description_width": ""
      }
     },
     "0fd52ffbf4634cc7b62712260d93d18a": {
      "model_module": "@jupyter-widgets/controls",
      "model_module_version": "1.5.0",
      "model_name": "HTMLModel",
      "state": {
       "layout": "IPY_MODEL_9d4de84602804cfd851fc6a60395c0c8",
       "style": "IPY_MODEL_65edb71641b24523aad3d997fc3ec7e6",
       "value": "downloading: 100%"
      }
     },
     "10790726f4aa47cf8c6a1f95eb4d3517": {
      "model_module": "@jupyter-widgets/base",
      "model_module_version": "1.2.0",
      "model_name": "LayoutModel",
      "state": {}
     },
     "144e4d49f8d141c9909616faee9d1616": {
      "model_module": "@jupyter-widgets/base",
      "model_module_version": "1.2.0",
      "model_name": "LayoutModel",
      "state": {}
     },
     "1471f23fa18a486d8c22cd7118711e69": {
      "model_module": "@jupyter-widgets/controls",
      "model_module_version": "1.5.0",
      "model_name": "ProgressStyleModel",
      "state": {
       "description_width": ""
      }
     },
     "151c196d75e0403a8c4fe6353869160a": {
      "model_module": "@jupyter-widgets/controls",
      "model_module_version": "1.5.0",
      "model_name": "VBoxModel",
      "state": {
       "children": [
        "IPY_MODEL_a6740419f8f54afbbb38f2a09af5549e",
        "IPY_MODEL_bf9b535bbbd94d2596c9f4bad2f0f8d9"
       ],
       "layout": "IPY_MODEL_d4abcfe706f64cd0afd40384b2b1c0a5"
      }
     },
     "1606798eaa864f128d0f1d1eddae6817": {
      "model_module": "@jupyter-widgets/controls",
      "model_module_version": "1.5.0",
      "model_name": "VBoxModel",
      "state": {
       "children": [
        "IPY_MODEL_706faf4fd91d4d91a0438d0f40a57411",
        "IPY_MODEL_c502f3a77651405fabc2aeed11d739d7"
       ],
       "layout": "IPY_MODEL_a8612a65c9d045619a9de50c56b4c938"
      }
     },
     "1823b198b4004220ac52cb1868eeb214": {
      "model_module": "@jupyter-widgets/controls",
      "model_module_version": "1.5.0",
      "model_name": "FloatProgressModel",
      "state": {
       "bar_style": "success",
       "layout": "IPY_MODEL_4b98c61eee04451796fb649982808d6b",
       "max": 15,
       "style": "IPY_MODEL_a6806f029f974746a0a2af902922cdb7",
       "value": 15
      }
     },
     "1958d5717b3440c8af57fee6ccb99df3": {
      "model_module": "@jupyter-widgets/base",
      "model_module_version": "1.2.0",
      "model_name": "LayoutModel",
      "state": {}
     },
     "1a52655c9c7445be85b7fa0b08f3bdd2": {
      "model_module": "@jupyter-widgets/controls",
      "model_module_version": "1.5.0",
      "model_name": "DescriptionStyleModel",
      "state": {
       "description_width": ""
      }
     },
     "1a95bdeb4f454e28b3b48d4ec6f1f9cd": {
      "model_module": "@jupyter-widgets/controls",
      "model_module_version": "1.5.0",
      "model_name": "DescriptionStyleModel",
      "state": {
       "description_width": ""
      }
     },
     "1b60d4aed4ce4e15b3e5662b8b7fc7f7": {
      "model_module": "@jupyter-widgets/base",
      "model_module_version": "1.2.0",
      "model_name": "LayoutModel",
      "state": {}
     },
     "1ba29ce8590440c28c63dd5a0d7f0503": {
      "model_module": "@jupyter-widgets/base",
      "model_module_version": "1.2.0",
      "model_name": "LayoutModel",
      "state": {}
     },
     "1c132ecd397e4870a94558356b7a28f7": {
      "model_module": "@jupyter-widgets/base",
      "model_module_version": "1.2.0",
      "model_name": "LayoutModel",
      "state": {}
     },
     "1c97387068084eef854f7a17c2cee6af": {
      "model_module": "@jupyter-widgets/controls",
      "model_module_version": "1.5.0",
      "model_name": "DescriptionStyleModel",
      "state": {
       "description_width": ""
      }
     },
     "1f20644958394dbdb94ee3597370498a": {
      "model_module": "@jupyter-widgets/controls",
      "model_module_version": "1.5.0",
      "model_name": "HBoxModel",
      "state": {
       "children": [
        "IPY_MODEL_0fd52ffbf4634cc7b62712260d93d18a",
        "IPY_MODEL_9620d59c031b413a85e83fe5eabcf519",
        "IPY_MODEL_a1627a00737e4c59aedb0f70cd19a176"
       ],
       "layout": "IPY_MODEL_7ba4b4a122e741ee943f9e8f3082e91b"
      }
     },
     "1f5e4447add54d85b71c0543bb940abc": {
      "model_module": "@jupyter-widgets/base",
      "model_module_version": "1.2.0",
      "model_name": "LayoutModel",
      "state": {}
     },
     "201fac687291404c9a57fb5a018f20c8": {
      "model_module": "@jupyter-widgets/controls",
      "model_module_version": "1.5.0",
      "model_name": "FloatProgressModel",
      "state": {
       "bar_style": "success",
       "layout": "IPY_MODEL_574bf96fb51a4a11b2821f077453098c",
       "max": 1445,
       "style": "IPY_MODEL_0b8451da3b0e419bb1c8f1974628b53a",
       "value": 1445
      }
     },
     "205121577b204eea9c8229623440364f": {
      "model_module": "@jupyter-widgets/base",
      "model_module_version": "1.2.0",
      "model_name": "LayoutModel",
      "state": {}
     },
     "2084cd42ab2048eb9e03a04ad8341618": {
      "model_module": "@jupyter-widgets/controls",
      "model_module_version": "1.5.0",
      "model_name": "FloatProgressModel",
      "state": {
       "bar_style": "success",
       "layout": "IPY_MODEL_e28d3f50a84b43c6b9b772fa788ff511",
       "max": 2,
       "style": "IPY_MODEL_32b2f1ab25b949f8a547755bde2ba202",
       "value": 2
      }
     },
     "20f04081e6874a609112700ea3171718": {
      "model_module": "@jupyter-widgets/controls",
      "model_module_version": "1.5.0",
      "model_name": "HBoxModel",
      "state": {
       "children": [
        "IPY_MODEL_fd50f847dad4438ab5a62c7e60a5798f",
        "IPY_MODEL_ca823c7b515c496d9b3294ee373071d5",
        "IPY_MODEL_6b7c55d6bb604cf99c4565f5543dc22a"
       ],
       "layout": "IPY_MODEL_836a3838f85a4feea7e392fd22521d07"
      }
     },
     "24299c38b80746b0b5ce472a23bafe28": {
      "model_module": "@jupyter-widgets/base",
      "model_module_version": "1.2.0",
      "model_name": "LayoutModel",
      "state": {}
     },
     "24942903fb8449d497cc5e493f3a41fa": {
      "model_module": "@jupyter-widgets/controls",
      "model_module_version": "1.5.0",
      "model_name": "ProgressStyleModel",
      "state": {
       "description_width": ""
      }
     },
     "2651730a18dd4b4fb80d5de3a01cf02d": {
      "model_module": "@jupyter-widgets/base",
      "model_module_version": "1.2.0",
      "model_name": "LayoutModel",
      "state": {}
     },
     "292e6382f58c4d4ea9789a8dc9908fb4": {
      "model_module": "@jupyter-widgets/controls",
      "model_module_version": "1.5.0",
      "model_name": "FloatProgressModel",
      "state": {
       "bar_style": "success",
       "layout": "IPY_MODEL_5d07301070574dc68f06aea1170d9454",
       "max": 945,
       "style": "IPY_MODEL_30a0b192d3a341a48750558690dc54f4",
       "value": 945
      }
     },
     "2adcfc73a23a4fbba7ef713b8d84a888": {
      "model_module": "@jupyter-widgets/controls",
      "model_module_version": "1.5.0",
      "model_name": "DescriptionStyleModel",
      "state": {
       "description_width": ""
      }
     },
     "2b45f673a21245cdb1b9ebdb668f5211": {
      "model_module": "@jupyter-widgets/base",
      "model_module_version": "1.2.0",
      "model_name": "LayoutModel",
      "state": {}
     },
     "2fcb06c877ef4e7caebc10b00d8836c7": {
      "model_module": "@jupyter-widgets/base",
      "model_module_version": "1.2.0",
      "model_name": "LayoutModel",
      "state": {}
     },
     "30a0b192d3a341a48750558690dc54f4": {
      "model_module": "@jupyter-widgets/controls",
      "model_module_version": "1.5.0",
      "model_name": "ProgressStyleModel",
      "state": {
       "description_width": ""
      }
     },
     "31537f27a1bc4b3697535ddd50f26761": {
      "model_module": "@jupyter-widgets/controls",
      "model_module_version": "1.5.0",
      "model_name": "HTMLModel",
      "state": {
       "layout": "IPY_MODEL_41ab5e551bec4c9e864317c33246f1ad",
       "style": "IPY_MODEL_2adcfc73a23a4fbba7ef713b8d84a888",
       "value": " 452/452 [00:00&lt;00:00, 5963.05it/s]"
      }
     },
     "329a33ff0ca64c919d0e52320ebb6f31": {
      "model_module": "@jupyter-widgets/controls",
      "model_module_version": "1.5.0",
      "model_name": "HBoxModel",
      "state": {
       "children": [
        "IPY_MODEL_fc96aaca084441e5a6ef191a0f11febf",
        "IPY_MODEL_4c00ad02934440569c0c5f67efa1fea8",
        "IPY_MODEL_873c42db46d54483a6301559abf0b602"
       ],
       "layout": "IPY_MODEL_9833c754084646a68cefdb674463c787"
      }
     },
     "32a5002f5c024ace89ec8f09ccd8ca30": {
      "model_module": "@jupyter-widgets/base",
      "model_module_version": "1.2.0",
      "model_name": "LayoutModel",
      "state": {}
     },
     "32b2f1ab25b949f8a547755bde2ba202": {
      "model_module": "@jupyter-widgets/controls",
      "model_module_version": "1.5.0",
      "model_name": "ProgressStyleModel",
      "state": {
       "description_width": ""
      }
     },
     "32f01b16601b4142aa970e8f285e265b": {
      "model_module": "@jupyter-widgets/base",
      "model_module_version": "1.2.0",
      "model_name": "LayoutModel",
      "state": {}
     },
     "337c8a99790f407db669e47cc75ec2a6": {
      "model_module": "@jupyter-widgets/controls",
      "model_module_version": "1.5.0",
      "model_name": "FloatProgressModel",
      "state": {
       "bar_style": "success",
       "layout": "IPY_MODEL_5470f6201cbd43f4b325a25da98aea89",
       "max": 46,
       "style": "IPY_MODEL_e8b4c9b44ab74e3cb50a8d2ae0a63fa0",
       "value": 46
      }
     },
     "33bf558163f547e38e3975e8dbef8489": {
      "model_module": "@jupyter-widgets/controls",
      "model_module_version": "1.5.0",
      "model_name": "HBoxModel",
      "state": {
       "children": [
        "IPY_MODEL_ad597140b5724cb99838b04b143441bc",
        "IPY_MODEL_70914642e3794d939460715d79169277",
        "IPY_MODEL_8b355007cc694608bb72af2c590041e0"
       ],
       "layout": "IPY_MODEL_b6d18718763448d8aa447c60941a5432"
      }
     },
     "3621fe42c1eb4ba38560e1f7e8ccf169": {
      "model_module": "@jupyter-widgets/controls",
      "model_module_version": "1.5.0",
      "model_name": "HTMLModel",
      "state": {
       "layout": "IPY_MODEL_7f5df650ba9c4c069ee97cbd979c9acf",
       "style": "IPY_MODEL_ce8ed345ce9f4a38b9a3735ade62d2d6",
       "value": " 945/945 [00:33&lt;00:00, 29.27it/s]"
      }
     },
     "3cac4b9b91224468a295530effff0fc3": {
      "model_module": "@jupyter-widgets/controls",
      "model_module_version": "1.5.0",
      "model_name": "LabelModel",
      "state": {
       "layout": "IPY_MODEL_6629b32e84e04c0bb3b634ed6ee17e15",
       "style": "IPY_MODEL_65ad27a209294d9297a2aa5202c90189",
       "value": "0.015 MB of 0.015 MB uploaded (0.000 MB deduped)\r"
      }
     },
     "3fbbe8419c724268939b92561514bf7f": {
      "model_module": "@jupyter-widgets/controls",
      "model_module_version": "1.5.0",
      "model_name": "ProgressStyleModel",
      "state": {
       "description_width": ""
      }
     },
     "401117ae25b64e42ad0dbc2eddac904a": {
      "model_module": "@jupyter-widgets/controls",
      "model_module_version": "1.5.0",
      "model_name": "ProgressStyleModel",
      "state": {
       "description_width": ""
      }
     },
     "40250f3bab3243c6b8f7bf4504a87fa3": {
      "model_module": "@jupyter-widgets/base",
      "model_module_version": "1.2.0",
      "model_name": "LayoutModel",
      "state": {}
     },
     "41894c7a290440c6963229320a0e0290": {
      "model_module": "@jupyter-widgets/controls",
      "model_module_version": "1.5.0",
      "model_name": "FloatProgressModel",
      "state": {
       "bar_style": "success",
       "layout": "IPY_MODEL_8b67029d5013452da04355c20085c304",
       "max": 46,
       "style": "IPY_MODEL_8fef0f0b34e2464e8611086533de8432",
       "value": 46
      }
     },
     "41ab5e551bec4c9e864317c33246f1ad": {
      "model_module": "@jupyter-widgets/base",
      "model_module_version": "1.2.0",
      "model_name": "LayoutModel",
      "state": {}
     },
     "4619933d7bbf404395e851b8d982e8e7": {
      "model_module": "@jupyter-widgets/controls",
      "model_module_version": "1.5.0",
      "model_name": "HTMLModel",
      "state": {
       "layout": "IPY_MODEL_7c591ac86d5c47848769df8dded9400f",
       "style": "IPY_MODEL_57c11a83b2f04cd68325e0e89ec4beab",
       "value": "Running Evaluation: 100%"
      }
     },
     "486d43ff1bb3420891d12de5919aba92": {
      "model_module": "@jupyter-widgets/base",
      "model_module_version": "1.2.0",
      "model_name": "LayoutModel",
      "state": {}
     },
     "4af4d4a0fc164b24b3387035f2948fee": {
      "model_module": "@jupyter-widgets/controls",
      "model_module_version": "1.5.0",
      "model_name": "DescriptionStyleModel",
      "state": {
       "description_width": ""
      }
     },
     "4b3e6dd031c04bdb9051a45025971f29": {
      "model_module": "@jupyter-widgets/base",
      "model_module_version": "1.2.0",
      "model_name": "LayoutModel",
      "state": {}
     },
     "4b98c61eee04451796fb649982808d6b": {
      "model_module": "@jupyter-widgets/base",
      "model_module_version": "1.2.0",
      "model_name": "LayoutModel",
      "state": {}
     },
     "4c00ad02934440569c0c5f67efa1fea8": {
      "model_module": "@jupyter-widgets/controls",
      "model_module_version": "1.5.0",
      "model_name": "FloatProgressModel",
      "state": {
       "bar_style": "success",
       "layout": "IPY_MODEL_205121577b204eea9c8229623440364f",
       "max": 2,
       "style": "IPY_MODEL_7e6e22c5c9c549c18c7f62ef07292eaf",
       "value": 2
      }
     },
     "4c2ddde21fbe43ccb1c8c02a58298df1": {
      "model_module": "@jupyter-widgets/controls",
      "model_module_version": "1.5.0",
      "model_name": "HTMLModel",
      "state": {
       "layout": "IPY_MODEL_67f58523230b4c8fadd3bf46b69743a4",
       "style": "IPY_MODEL_bf604caa47bb4c8b99188e1a1e988a9a",
       "value": "Epochs 1/2. Running Loss:    0.2298: 100%"
      }
     },
     "4c3e73b27a4d45a49bafdf3b5fb7ee16": {
      "model_module": "@jupyter-widgets/controls",
      "model_module_version": "1.5.0",
      "model_name": "DescriptionStyleModel",
      "state": {
       "description_width": ""
      }
     },
     "4c6fba722b11406191ebfc65745bf755": {
      "model_module": "@jupyter-widgets/controls",
      "model_module_version": "1.5.0",
      "model_name": "HTMLModel",
      "state": {
       "layout": "IPY_MODEL_1ba29ce8590440c28c63dd5a0d7f0503",
       "style": "IPY_MODEL_77193d52210f40b68daaf18e55af5868",
       "value": " 15/15 [00:00&lt;00:00, 28.03it/s]"
      }
     },
     "4d7b8b72a92d4a7b8f175d425929c0eb": {
      "model_module": "@jupyter-widgets/base",
      "model_module_version": "1.2.0",
      "model_name": "LayoutModel",
      "state": {}
     },
     "4de325a8c85d45699b4e75eda769c140": {
      "model_module": "@jupyter-widgets/controls",
      "model_module_version": "1.5.0",
      "model_name": "ProgressStyleModel",
      "state": {
       "description_width": ""
      }
     },
     "4f22256c9a1f40cd9fd073ff71dbc6d7": {
      "model_module": "@jupyter-widgets/controls",
      "model_module_version": "1.5.0",
      "model_name": "HTMLModel",
      "state": {
       "layout": "IPY_MODEL_cf2326c38136428a81b96b657fa64f07",
       "style": "IPY_MODEL_e678af0319364bb49885c9e835328f03",
       "value": " 2/2 [00:25&lt;00:00, 11.86s/it]"
      }
     },
     "4f7ddc6041eb41f396158dac3286ed90": {
      "model_module": "@jupyter-widgets/controls",
      "model_module_version": "1.5.0",
      "model_name": "DescriptionStyleModel",
      "state": {
       "description_width": ""
      }
     },
     "53453c20abad4daa9fb4d088cd259927": {
      "model_module": "@jupyter-widgets/base",
      "model_module_version": "1.2.0",
      "model_name": "LayoutModel",
      "state": {}
     },
     "5470f6201cbd43f4b325a25da98aea89": {
      "model_module": "@jupyter-widgets/base",
      "model_module_version": "1.2.0",
      "model_name": "LayoutModel",
      "state": {}
     },
     "56cf2e85ee4c40fda9a396cd00836421": {
      "model_module": "@jupyter-widgets/base",
      "model_module_version": "1.2.0",
      "model_name": "LayoutModel",
      "state": {}
     },
     "574bf96fb51a4a11b2821f077453098c": {
      "model_module": "@jupyter-widgets/base",
      "model_module_version": "1.2.0",
      "model_name": "LayoutModel",
      "state": {}
     },
     "5757d68782ec4db5abd9eb0aed13c237": {
      "model_module": "@jupyter-widgets/controls",
      "model_module_version": "1.5.0",
      "model_name": "DescriptionStyleModel",
      "state": {
       "description_width": ""
      }
     },
     "57be6d107cc74deea806d1cb342c71ae": {
      "model_module": "@jupyter-widgets/controls",
      "model_module_version": "1.5.0",
      "model_name": "DescriptionStyleModel",
      "state": {
       "description_width": ""
      }
     },
     "57c11a83b2f04cd68325e0e89ec4beab": {
      "model_module": "@jupyter-widgets/controls",
      "model_module_version": "1.5.0",
      "model_name": "DescriptionStyleModel",
      "state": {
       "description_width": ""
      }
     },
     "5912833262a541cf82bf0454afa8566f": {
      "model_module": "@jupyter-widgets/controls",
      "model_module_version": "1.5.0",
      "model_name": "DescriptionStyleModel",
      "state": {
       "description_width": ""
      }
     },
     "5a1e2ea8c0834d80a17d4804137b4873": {
      "model_module": "@jupyter-widgets/controls",
      "model_module_version": "1.5.0",
      "model_name": "HBoxModel",
      "state": {
       "children": [
        "IPY_MODEL_bded73b8499b4380aba3f58e9a34cde8",
        "IPY_MODEL_41894c7a290440c6963229320a0e0290",
        "IPY_MODEL_ebbb942bf40e4424a0cea09ab1806200"
       ],
       "layout": "IPY_MODEL_d053be3b81f147339fe32edf8d741d81"
      }
     },
     "5b9a8052ff3644dba74615939838b473": {
      "model_module": "@jupyter-widgets/controls",
      "model_module_version": "1.5.0",
      "model_name": "HBoxModel",
      "state": {
       "children": [
        "IPY_MODEL_9e91f0540e614689bc200b0028ce1e3f",
        "IPY_MODEL_201fac687291404c9a57fb5a018f20c8",
        "IPY_MODEL_f53b9986eae24355ad8ace80c640951b"
       ],
       "layout": "IPY_MODEL_04818df2041546ec8c4efce446ee057a"
      }
     },
     "5be3d29ba75f4c5a896eb05fd872179b": {
      "model_module": "@jupyter-widgets/controls",
      "model_module_version": "1.5.0",
      "model_name": "DescriptionStyleModel",
      "state": {
       "description_width": ""
      }
     },
     "5d07301070574dc68f06aea1170d9454": {
      "model_module": "@jupyter-widgets/base",
      "model_module_version": "1.2.0",
      "model_name": "LayoutModel",
      "state": {}
     },
     "6045dbf805a646a59595c356bd6d7879": {
      "model_module": "@jupyter-widgets/controls",
      "model_module_version": "1.5.0",
      "model_name": "LabelModel",
      "state": {
       "layout": "IPY_MODEL_1c132ecd397e4870a94558356b7a28f7",
       "style": "IPY_MODEL_6477dcd4745447a989600db143aa0508",
       "value": "0.015 MB of 0.015 MB uploaded (0.000 MB deduped)\r"
      }
     },
     "618372aa012d46fba0e911fe87c382a1": {
      "model_module": "@jupyter-widgets/controls",
      "model_module_version": "1.5.0",
      "model_name": "HTMLModel",
      "state": {
       "layout": "IPY_MODEL_cc614bcec8d14e429f3667405d69af4e",
       "style": "IPY_MODEL_e273435c3eb44919b184763a16e1dad6",
       "value": "Epoch 2 of 2: 100%"
      }
     },
     "61aed286729b462ba83d4db8eb918c5b": {
      "model_module": "@jupyter-widgets/base",
      "model_module_version": "1.2.0",
      "model_name": "LayoutModel",
      "state": {}
     },
     "6468062124284f35814c2d838e5e23b6": {
      "model_module": "@jupyter-widgets/controls",
      "model_module_version": "1.5.0",
      "model_name": "FloatProgressModel",
      "state": {
       "layout": "IPY_MODEL_05da25b4619c4e2890a5c1e647f08ea8",
       "max": 1,
       "style": "IPY_MODEL_3fbbe8419c724268939b92561514bf7f",
       "value": 1
      }
     },
     "6477dcd4745447a989600db143aa0508": {
      "model_module": "@jupyter-widgets/controls",
      "model_module_version": "1.5.0",
      "model_name": "DescriptionStyleModel",
      "state": {
       "description_width": ""
      }
     },
     "65ad27a209294d9297a2aa5202c90189": {
      "model_module": "@jupyter-widgets/controls",
      "model_module_version": "1.5.0",
      "model_name": "DescriptionStyleModel",
      "state": {
       "description_width": ""
      }
     },
     "65debf72b9d74b9ca0f17a806b8bf8d3": {
      "model_module": "@jupyter-widgets/base",
      "model_module_version": "1.2.0",
      "model_name": "LayoutModel",
      "state": {}
     },
     "65edb71641b24523aad3d997fc3ec7e6": {
      "model_module": "@jupyter-widgets/controls",
      "model_module_version": "1.5.0",
      "model_name": "DescriptionStyleModel",
      "state": {
       "description_width": ""
      }
     },
     "6629b32e84e04c0bb3b634ed6ee17e15": {
      "model_module": "@jupyter-widgets/base",
      "model_module_version": "1.2.0",
      "model_name": "LayoutModel",
      "state": {}
     },
     "668c12b84f0c4f72814d3f8d5772ae67": {
      "model_module": "@jupyter-widgets/controls",
      "model_module_version": "1.5.0",
      "model_name": "FloatProgressModel",
      "state": {
       "bar_style": "success",
       "layout": "IPY_MODEL_f172c78a11304f0fae6531b08264dec9",
       "max": 1445,
       "style": "IPY_MODEL_7c52b4b61dd34083b4970efc1fb14d8d",
       "value": 1445
      }
     },
     "67f58523230b4c8fadd3bf46b69743a4": {
      "model_module": "@jupyter-widgets/base",
      "model_module_version": "1.2.0",
      "model_name": "LayoutModel",
      "state": {}
     },
     "6abae9fd765342068792224b6b7287d3": {
      "model_module": "@jupyter-widgets/base",
      "model_module_version": "1.2.0",
      "model_name": "LayoutModel",
      "state": {}
     },
     "6b38926392a64de7b4ab0b0baa32bd85": {
      "model_module": "@jupyter-widgets/controls",
      "model_module_version": "1.5.0",
      "model_name": "DescriptionStyleModel",
      "state": {
       "description_width": ""
      }
     },
     "6b7c55d6bb604cf99c4565f5543dc22a": {
      "model_module": "@jupyter-widgets/controls",
      "model_module_version": "1.5.0",
      "model_name": "HTMLModel",
      "state": {
       "layout": "IPY_MODEL_ab267c9292a64116b1820d2fa23d6299",
       "style": "IPY_MODEL_ce18e829cb55496885759da79f3734b3",
       "value": " 46/46 [00:05&lt;00:00, 10.06it/s]"
      }
     },
     "706faf4fd91d4d91a0438d0f40a57411": {
      "model_module": "@jupyter-widgets/controls",
      "model_module_version": "1.5.0",
      "model_name": "LabelModel",
      "state": {
       "layout": "IPY_MODEL_2b45f673a21245cdb1b9ebdb668f5211",
       "style": "IPY_MODEL_e865495498354d64ab96530bee93ac59"
      }
     },
     "70914642e3794d939460715d79169277": {
      "model_module": "@jupyter-widgets/controls",
      "model_module_version": "1.5.0",
      "model_name": "FloatProgressModel",
      "state": {
       "bar_style": "success",
       "layout": "IPY_MODEL_1958d5717b3440c8af57fee6ccb99df3",
       "max": 452,
       "style": "IPY_MODEL_24942903fb8449d497cc5e493f3a41fa",
       "value": 452
      }
     },
     "739ba679c04541648e5e234d9b2c0c6c": {
      "model_module": "@jupyter-widgets/controls",
      "model_module_version": "1.5.0",
      "model_name": "VBoxModel",
      "state": {
       "children": [
        "IPY_MODEL_d6c678008a5f493ca614ea472ef6d233",
        "IPY_MODEL_e6da4fae590e4e178f3333fa24a7fbe3"
       ],
       "layout": "IPY_MODEL_32a5002f5c024ace89ec8f09ccd8ca30"
      }
     },
     "73bc80df92b34714a83d37067672d7d0": {
      "model_module": "@jupyter-widgets/controls",
      "model_module_version": "1.5.0",
      "model_name": "DescriptionStyleModel",
      "state": {
       "description_width": ""
      }
     },
     "7556a856754146f8b56c44bc964f262d": {
      "model_module": "@jupyter-widgets/base",
      "model_module_version": "1.2.0",
      "model_name": "LayoutModel",
      "state": {}
     },
     "76cce14241e743959b9b8d426eb6a28e": {
      "model_module": "@jupyter-widgets/controls",
      "model_module_version": "1.5.0",
      "model_name": "HBoxModel",
      "state": {
       "children": [
        "IPY_MODEL_4c2ddde21fbe43ccb1c8c02a58298df1",
        "IPY_MODEL_d3b3c675b01e427f85d5f8fab8696fa4",
        "IPY_MODEL_7ba415250e244200bd05d038eb1b6854"
       ],
       "layout": "IPY_MODEL_61aed286729b462ba83d4db8eb918c5b"
      }
     },
     "77193d52210f40b68daaf18e55af5868": {
      "model_module": "@jupyter-widgets/controls",
      "model_module_version": "1.5.0",
      "model_name": "DescriptionStyleModel",
      "state": {
       "description_width": ""
      }
     },
     "7a95e3cc77854f238beaf9fa59b7153f": {
      "model_module": "@jupyter-widgets/base",
      "model_module_version": "1.2.0",
      "model_name": "LayoutModel",
      "state": {}
     },
     "7ba415250e244200bd05d038eb1b6854": {
      "model_module": "@jupyter-widgets/controls",
      "model_module_version": "1.5.0",
      "model_name": "HTMLModel",
      "state": {
       "layout": "IPY_MODEL_08662858897444949ff5b5fec5902b02",
       "style": "IPY_MODEL_85c58751373d466fb6a564c00dfccc58",
       "value": " 46/46 [00:05&lt;00:00, 10.08it/s]"
      }
     },
     "7ba4b4a122e741ee943f9e8f3082e91b": {
      "model_module": "@jupyter-widgets/base",
      "model_module_version": "1.2.0",
      "model_name": "LayoutModel",
      "state": {}
     },
     "7ba66d1aef6443079afa2a83584bfd4d": {
      "model_module": "@jupyter-widgets/controls",
      "model_module_version": "1.5.0",
      "model_name": "HBoxModel",
      "state": {
       "children": [
        "IPY_MODEL_d92fea6bd003406593456066d875d9a9",
        "IPY_MODEL_337c8a99790f407db669e47cc75ec2a6",
        "IPY_MODEL_7beb963f2f4341e39b0e7f36a2d9ca1b"
       ],
       "layout": "IPY_MODEL_e9d0182d252c4b7e97d6cccf7198ff8a"
      }
     },
     "7beb963f2f4341e39b0e7f36a2d9ca1b": {
      "model_module": "@jupyter-widgets/controls",
      "model_module_version": "1.5.0",
      "model_name": "HTMLModel",
      "state": {
       "layout": "IPY_MODEL_6abae9fd765342068792224b6b7287d3",
       "style": "IPY_MODEL_08e9d156799f443989b8850e34006cde",
       "value": " 46/46 [00:06&lt;00:00,  9.91it/s]"
      }
     },
     "7c52b4b61dd34083b4970efc1fb14d8d": {
      "model_module": "@jupyter-widgets/controls",
      "model_module_version": "1.5.0",
      "model_name": "ProgressStyleModel",
      "state": {
       "description_width": ""
      }
     },
     "7c591ac86d5c47848769df8dded9400f": {
      "model_module": "@jupyter-widgets/base",
      "model_module_version": "1.2.0",
      "model_name": "LayoutModel",
      "state": {}
     },
     "7e6e22c5c9c549c18c7f62ef07292eaf": {
      "model_module": "@jupyter-widgets/controls",
      "model_module_version": "1.5.0",
      "model_name": "ProgressStyleModel",
      "state": {
       "description_width": ""
      }
     },
     "7f5df650ba9c4c069ee97cbd979c9acf": {
      "model_module": "@jupyter-widgets/base",
      "model_module_version": "1.2.0",
      "model_name": "LayoutModel",
      "state": {}
     },
     "80360eb9fbe34f02976551336a957958": {
      "model_module": "@jupyter-widgets/base",
      "model_module_version": "1.2.0",
      "model_name": "LayoutModel",
      "state": {}
     },
     "8124d0d1cb574a04827f5e222559e9cc": {
      "model_module": "@jupyter-widgets/base",
      "model_module_version": "1.2.0",
      "model_name": "LayoutModel",
      "state": {}
     },
     "836a3838f85a4feea7e392fd22521d07": {
      "model_module": "@jupyter-widgets/base",
      "model_module_version": "1.2.0",
      "model_name": "LayoutModel",
      "state": {}
     },
     "84914667930f4411b1d3201ff4105d64": {
      "model_module": "@jupyter-widgets/controls",
      "model_module_version": "1.5.0",
      "model_name": "FloatProgressModel",
      "state": {
       "layout": "IPY_MODEL_9f80dc3cf89845b0a2f3cd3ec6067651",
       "max": 1,
       "style": "IPY_MODEL_a31f6e185df64158bb0d16a4d9398d76",
       "value": 1
      }
     },
     "858d5777d08e47fb885e82a98a9d107c": {
      "model_module": "@jupyter-widgets/controls",
      "model_module_version": "1.5.0",
      "model_name": "DescriptionStyleModel",
      "state": {
       "description_width": ""
      }
     },
     "85c58751373d466fb6a564c00dfccc58": {
      "model_module": "@jupyter-widgets/controls",
      "model_module_version": "1.5.0",
      "model_name": "DescriptionStyleModel",
      "state": {
       "description_width": ""
      }
     },
     "873c42db46d54483a6301559abf0b602": {
      "model_module": "@jupyter-widgets/controls",
      "model_module_version": "1.5.0",
      "model_name": "HTMLModel",
      "state": {
       "layout": "IPY_MODEL_486d43ff1bb3420891d12de5919aba92",
       "style": "IPY_MODEL_a0d26a1ebcd54327b38d8bc7c1965958",
       "value": " 2/2 [00:22&lt;00:00, 10.71s/it]"
      }
     },
     "87e41ca996c04965aef57a2e63ccb221": {
      "model_module": "@jupyter-widgets/controls",
      "model_module_version": "1.5.0",
      "model_name": "ProgressStyleModel",
      "state": {
       "description_width": ""
      }
     },
     "8845490561024e3b971df3ece0a9a61e": {
      "model_module": "@jupyter-widgets/base",
      "model_module_version": "1.2.0",
      "model_name": "LayoutModel",
      "state": {}
     },
     "892f8f4c0fd5468f9f62d101899af880": {
      "model_module": "@jupyter-widgets/base",
      "model_module_version": "1.2.0",
      "model_name": "LayoutModel",
      "state": {}
     },
     "8acb281df0aa49c0a64b24d2094bf8b9": {
      "model_module": "@jupyter-widgets/controls",
      "model_module_version": "1.5.0",
      "model_name": "HBoxModel",
      "state": {
       "children": [
        "IPY_MODEL_b9a8ce430baa419e8c7cce8228b842c1",
        "IPY_MODEL_0a0b10fcf85345dbbf07764f6cc4e7ff",
        "IPY_MODEL_31537f27a1bc4b3697535ddd50f26761"
       ],
       "layout": "IPY_MODEL_8845490561024e3b971df3ece0a9a61e"
      }
     },
     "8b355007cc694608bb72af2c590041e0": {
      "model_module": "@jupyter-widgets/controls",
      "model_module_version": "1.5.0",
      "model_name": "HTMLModel",
      "state": {
       "layout": "IPY_MODEL_fc6acff3486740deb0cc0b33c0782371",
       "style": "IPY_MODEL_6b38926392a64de7b4ab0b0baa32bd85",
       "value": " 452/452 [00:00&lt;00:00, 6073.35it/s]"
      }
     },
     "8b67029d5013452da04355c20085c304": {
      "model_module": "@jupyter-widgets/base",
      "model_module_version": "1.2.0",
      "model_name": "LayoutModel",
      "state": {}
     },
     "8fef0f0b34e2464e8611086533de8432": {
      "model_module": "@jupyter-widgets/controls",
      "model_module_version": "1.5.0",
      "model_name": "ProgressStyleModel",
      "state": {
       "description_width": ""
      }
     },
     "9620d59c031b413a85e83fe5eabcf519": {
      "model_module": "@jupyter-widgets/controls",
      "model_module_version": "1.5.0",
      "model_name": "FloatProgressModel",
      "state": {
       "bar_style": "success",
       "layout": "IPY_MODEL_f2c61d75c5004522b3dcf81f22347cb5",
       "max": 8111579,
       "style": "IPY_MODEL_e77bca1b6bd945ba8cd3e4bbfee2fddf",
       "value": 8111579
      }
     },
     "9668fd7d0bd54b81958f35465d55005f": {
      "model_module": "@jupyter-widgets/controls",
      "model_module_version": "1.5.0",
      "model_name": "DescriptionStyleModel",
      "state": {
       "description_width": ""
      }
     },
     "9833c754084646a68cefdb674463c787": {
      "model_module": "@jupyter-widgets/base",
      "model_module_version": "1.2.0",
      "model_name": "LayoutModel",
      "state": {}
     },
     "999d6b90c124446da7017285a1d633f8": {
      "model_module": "@jupyter-widgets/base",
      "model_module_version": "1.2.0",
      "model_name": "LayoutModel",
      "state": {}
     },
     "9c27157bebe9497ba3222411157a6b7c": {
      "model_module": "@jupyter-widgets/controls",
      "model_module_version": "1.5.0",
      "model_name": "ProgressStyleModel",
      "state": {
       "description_width": ""
      }
     },
     "9d4de84602804cfd851fc6a60395c0c8": {
      "model_module": "@jupyter-widgets/base",
      "model_module_version": "1.2.0",
      "model_name": "LayoutModel",
      "state": {}
     },
     "9e91f0540e614689bc200b0028ce1e3f": {
      "model_module": "@jupyter-widgets/controls",
      "model_module_version": "1.5.0",
      "model_name": "HTMLModel",
      "state": {
       "layout": "IPY_MODEL_65debf72b9d74b9ca0f17a806b8bf8d3",
       "style": "IPY_MODEL_a239d1003360473683db3c5c05b19944",
       "value": "100%"
      }
     },
     "9f80dc3cf89845b0a2f3cd3ec6067651": {
      "model_module": "@jupyter-widgets/base",
      "model_module_version": "1.2.0",
      "model_name": "LayoutModel",
      "state": {}
     },
     "a06363388b25426098ea1de6736dcd7b": {
      "model_module": "@jupyter-widgets/controls",
      "model_module_version": "1.5.0",
      "model_name": "HTMLModel",
      "state": {
       "layout": "IPY_MODEL_40250f3bab3243c6b8f7bf4504a87fa3",
       "style": "IPY_MODEL_73bc80df92b34714a83d37067672d7d0",
       "value": "100%"
      }
     },
     "a0d26a1ebcd54327b38d8bc7c1965958": {
      "model_module": "@jupyter-widgets/controls",
      "model_module_version": "1.5.0",
      "model_name": "DescriptionStyleModel",
      "state": {
       "description_width": ""
      }
     },
     "a0db4957c44f4ee48602322434b4e823": {
      "model_module": "@jupyter-widgets/controls",
      "model_module_version": "1.5.0",
      "model_name": "HTMLModel",
      "state": {
       "layout": "IPY_MODEL_cf20675bfbd841f78ccfab07e2f39f4b",
       "style": "IPY_MODEL_4f7ddc6041eb41f396158dac3286ed90",
       "value": " 1585/1585 [00:20&lt;00:00, 670.19it/s]"
      }
     },
     "a1627a00737e4c59aedb0f70cd19a176": {
      "model_module": "@jupyter-widgets/controls",
      "model_module_version": "1.5.0",
      "model_name": "HTMLModel",
      "state": {
       "layout": "IPY_MODEL_4d7b8b72a92d4a7b8f175d425929c0eb",
       "style": "IPY_MODEL_4af4d4a0fc164b24b3387035f2948fee",
       "value": " 7.74M/7.74M [00:00&lt;00:00, 38.9MiB/s]"
      }
     },
     "a2049a08a6ee49fd9d585d6662c3870b": {
      "model_module": "@jupyter-widgets/base",
      "model_module_version": "1.2.0",
      "model_name": "LayoutModel",
      "state": {}
     },
     "a239d1003360473683db3c5c05b19944": {
      "model_module": "@jupyter-widgets/controls",
      "model_module_version": "1.5.0",
      "model_name": "DescriptionStyleModel",
      "state": {
       "description_width": ""
      }
     },
     "a2fadbc7920f4cbdb3b219ec444eddc6": {
      "model_module": "@jupyter-widgets/controls",
      "model_module_version": "1.5.0",
      "model_name": "ProgressStyleModel",
      "state": {
       "description_width": ""
      }
     },
     "a31f6e185df64158bb0d16a4d9398d76": {
      "model_module": "@jupyter-widgets/controls",
      "model_module_version": "1.5.0",
      "model_name": "ProgressStyleModel",
      "state": {
       "description_width": ""
      }
     },
     "a6740419f8f54afbbb38f2a09af5549e": {
      "model_module": "@jupyter-widgets/controls",
      "model_module_version": "1.5.0",
      "model_name": "LabelModel",
      "state": {
       "layout": "IPY_MODEL_01cbf995388e404ca735f9401cf94f32",
       "style": "IPY_MODEL_5912833262a541cf82bf0454afa8566f"
      }
     },
     "a6806cf07a4e402a86ec1b41f5e9840d": {
      "model_module": "@jupyter-widgets/controls",
      "model_module_version": "1.5.0",
      "model_name": "HTMLModel",
      "state": {
       "layout": "IPY_MODEL_ef3e5e79f7a94ed18bd04aea0d16721f",
       "style": "IPY_MODEL_9668fd7d0bd54b81958f35465d55005f",
       "value": " 1445/1445 [00:00&lt;00:00, 6876.97it/s]"
      }
     },
     "a6806f029f974746a0a2af902922cdb7": {
      "model_module": "@jupyter-widgets/controls",
      "model_module_version": "1.5.0",
      "model_name": "ProgressStyleModel",
      "state": {
       "description_width": ""
      }
     },
     "a6c7b6b5dc2f4b5b9157b2e561237578": {
      "model_module": "@jupyter-widgets/controls",
      "model_module_version": "1.5.0",
      "model_name": "VBoxModel",
      "state": {
       "children": [
        "IPY_MODEL_0f58c3b39ff34b6c8a3c2e09257dbfe3",
        "IPY_MODEL_b7a6f0eb67dd431db0e16f34d5141295"
       ],
       "layout": "IPY_MODEL_b1d7483d67d44be587a43505ce686ff3"
      }
     },
     "a8612a65c9d045619a9de50c56b4c938": {
      "model_module": "@jupyter-widgets/base",
      "model_module_version": "1.2.0",
      "model_name": "LayoutModel",
      "state": {}
     },
     "ab267c9292a64116b1820d2fa23d6299": {
      "model_module": "@jupyter-widgets/base",
      "model_module_version": "1.2.0",
      "model_name": "LayoutModel",
      "state": {}
     },
     "ab5dcce08094472e98776932d995f32f": {
      "model_module": "@jupyter-widgets/base",
      "model_module_version": "1.2.0",
      "model_name": "LayoutModel",
      "state": {}
     },
     "ad597140b5724cb99838b04b143441bc": {
      "model_module": "@jupyter-widgets/controls",
      "model_module_version": "1.5.0",
      "model_name": "HTMLModel",
      "state": {
       "layout": "IPY_MODEL_e79076264c6a4632a44e6fc2c7884293",
       "style": "IPY_MODEL_1a52655c9c7445be85b7fa0b08f3bdd2",
       "value": "100%"
      }
     },
     "af2412b8d1774230b73ed1de5286983c": {
      "model_module": "@jupyter-widgets/controls",
      "model_module_version": "1.5.0",
      "model_name": "HBoxModel",
      "state": {
       "children": [
        "IPY_MODEL_618372aa012d46fba0e911fe87c382a1",
        "IPY_MODEL_2084cd42ab2048eb9e03a04ad8341618",
        "IPY_MODEL_4f22256c9a1f40cd9fd073ff71dbc6d7"
       ],
       "layout": "IPY_MODEL_f0336d24811448cb9a2def6455e8be87"
      }
     },
     "afad7ab6ea5f4c1f8145f9f759e89502": {
      "model_module": "@jupyter-widgets/base",
      "model_module_version": "1.2.0",
      "model_name": "LayoutModel",
      "state": {}
     },
     "b105ddce3f3641d08c1c39b99870ce7d": {
      "model_module": "@jupyter-widgets/controls",
      "model_module_version": "1.5.0",
      "model_name": "DescriptionStyleModel",
      "state": {
       "description_width": ""
      }
     },
     "b1d7483d67d44be587a43505ce686ff3": {
      "model_module": "@jupyter-widgets/base",
      "model_module_version": "1.2.0",
      "model_name": "LayoutModel",
      "state": {}
     },
     "b564b693644145f2ab97005d04b8ef4b": {
      "model_module": "@jupyter-widgets/controls",
      "model_module_version": "1.5.0",
      "model_name": "VBoxModel",
      "state": {
       "children": [
        "IPY_MODEL_6045dbf805a646a59595c356bd6d7879",
        "IPY_MODEL_c70966e997044829be6e02842fb8ddb2"
       ],
       "layout": "IPY_MODEL_de2c16fe2f6b46d6b42178d9b66e946c"
      }
     },
     "b6d18718763448d8aa447c60941a5432": {
      "model_module": "@jupyter-widgets/base",
      "model_module_version": "1.2.0",
      "model_name": "LayoutModel",
      "state": {}
     },
     "b7a6f0eb67dd431db0e16f34d5141295": {
      "model_module": "@jupyter-widgets/controls",
      "model_module_version": "1.5.0",
      "model_name": "FloatProgressModel",
      "state": {
       "layout": "IPY_MODEL_c1a2fda2f17c48fe9446bce88642fc47",
       "max": 1,
       "style": "IPY_MODEL_f2488adb49ac457484a6e8ef0fcb1b1c"
      }
     },
     "b90aabb0d1db4679851ce00984beebf5": {
      "model_module": "@jupyter-widgets/controls",
      "model_module_version": "1.5.0",
      "model_name": "ProgressStyleModel",
      "state": {
       "description_width": ""
      }
     },
     "b9a8ce430baa419e8c7cce8228b842c1": {
      "model_module": "@jupyter-widgets/controls",
      "model_module_version": "1.5.0",
      "model_name": "HTMLModel",
      "state": {
       "layout": "IPY_MODEL_afad7ab6ea5f4c1f8145f9f759e89502",
       "style": "IPY_MODEL_5757d68782ec4db5abd9eb0aed13c237",
       "value": "100%"
      }
     },
     "b9bdcfd5e89743659f3cbc78ed94c716": {
      "model_module": "@jupyter-widgets/controls",
      "model_module_version": "1.5.0",
      "model_name": "FloatProgressModel",
      "state": {
       "bar_style": "success",
       "layout": "IPY_MODEL_2fcb06c877ef4e7caebc10b00d8836c7",
       "max": 15,
       "style": "IPY_MODEL_1471f23fa18a486d8c22cd7118711e69",
       "value": 15
      }
     },
     "ba0e6e3aa2a9421ebb05aed0c129133a": {
      "model_module": "@jupyter-widgets/controls",
      "model_module_version": "1.5.0",
      "model_name": "HBoxModel",
      "state": {
       "children": [
        "IPY_MODEL_4619933d7bbf404395e851b8d982e8e7",
        "IPY_MODEL_1823b198b4004220ac52cb1868eeb214",
        "IPY_MODEL_c73b61d31f6e42ce8ae4c642f78f82b7"
       ],
       "layout": "IPY_MODEL_144e4d49f8d141c9909616faee9d1616"
      }
     },
     "bded73b8499b4380aba3f58e9a34cde8": {
      "model_module": "@jupyter-widgets/controls",
      "model_module_version": "1.5.0",
      "model_name": "HTMLModel",
      "state": {
       "layout": "IPY_MODEL_e405f506a50942a78b012726bcc13d51",
       "style": "IPY_MODEL_03bd79766c664d5289aec8eacf516eed",
       "value": "Epochs 1/2. Running Loss:    0.4678: 100%"
      }
     },
     "bf604caa47bb4c8b99188e1a1e988a9a": {
      "model_module": "@jupyter-widgets/controls",
      "model_module_version": "1.5.0",
      "model_name": "DescriptionStyleModel",
      "state": {
       "description_width": ""
      }
     },
     "bf69220f11aa4ea5ac9de7f775054cd8": {
      "model_module": "@jupyter-widgets/base",
      "model_module_version": "1.2.0",
      "model_name": "LayoutModel",
      "state": {}
     },
     "bf9b535bbbd94d2596c9f4bad2f0f8d9": {
      "model_module": "@jupyter-widgets/controls",
      "model_module_version": "1.5.0",
      "model_name": "FloatProgressModel",
      "state": {
       "layout": "IPY_MODEL_ab5dcce08094472e98776932d995f32f",
       "max": 1,
       "style": "IPY_MODEL_0f989e4df5ce437689ce35979bc7000f"
      }
     },
     "c1a2fda2f17c48fe9446bce88642fc47": {
      "model_module": "@jupyter-widgets/base",
      "model_module_version": "1.2.0",
      "model_name": "LayoutModel",
      "state": {}
     },
     "c502f3a77651405fabc2aeed11d739d7": {
      "model_module": "@jupyter-widgets/controls",
      "model_module_version": "1.5.0",
      "model_name": "FloatProgressModel",
      "state": {
       "layout": "IPY_MODEL_dc3ce3ecd5cc44508190f4c331994e34",
       "max": 1,
       "style": "IPY_MODEL_87e41ca996c04965aef57a2e63ccb221"
      }
     },
     "c70966e997044829be6e02842fb8ddb2": {
      "model_module": "@jupyter-widgets/controls",
      "model_module_version": "1.5.0",
      "model_name": "FloatProgressModel",
      "state": {
       "layout": "IPY_MODEL_1f5e4447add54d85b71c0543bb940abc",
       "max": 1,
       "style": "IPY_MODEL_9c27157bebe9497ba3222411157a6b7c",
       "value": 1
      }
     },
     "c73b61d31f6e42ce8ae4c642f78f82b7": {
      "model_module": "@jupyter-widgets/controls",
      "model_module_version": "1.5.0",
      "model_name": "HTMLModel",
      "state": {
       "layout": "IPY_MODEL_05d4a123dbd846a68b351af192a8a322",
       "style": "IPY_MODEL_57be6d107cc74deea806d1cb342c71ae",
       "value": " 15/15 [00:00&lt;00:00, 27.20it/s]"
      }
     },
     "c7569c3bfdc74af1a70356d7102627f7": {
      "model_module": "@jupyter-widgets/controls",
      "model_module_version": "1.5.0",
      "model_name": "HTMLModel",
      "state": {
       "layout": "IPY_MODEL_999d6b90c124446da7017285a1d633f8",
       "style": "IPY_MODEL_1c97387068084eef854f7a17c2cee6af",
       "value": "100%"
      }
     },
     "c803209b57bf431fa0273d580d364a25": {
      "model_module": "@jupyter-widgets/controls",
      "model_module_version": "1.5.0",
      "model_name": "DescriptionStyleModel",
      "state": {
       "description_width": ""
      }
     },
     "ca823c7b515c496d9b3294ee373071d5": {
      "model_module": "@jupyter-widgets/controls",
      "model_module_version": "1.5.0",
      "model_name": "FloatProgressModel",
      "state": {
       "bar_style": "success",
       "layout": "IPY_MODEL_f8889a99114d45cfaafbd811cd02093c",
       "max": 46,
       "style": "IPY_MODEL_a2fadbc7920f4cbdb3b219ec444eddc6",
       "value": 46
      }
     },
     "cc614bcec8d14e429f3667405d69af4e": {
      "model_module": "@jupyter-widgets/base",
      "model_module_version": "1.2.0",
      "model_name": "LayoutModel",
      "state": {}
     },
     "cdfd47de23cd4ef398039f6a158beea6": {
      "model_module": "@jupyter-widgets/base",
      "model_module_version": "1.2.0",
      "model_name": "LayoutModel",
      "state": {}
     },
     "ce18e829cb55496885759da79f3734b3": {
      "model_module": "@jupyter-widgets/controls",
      "model_module_version": "1.5.0",
      "model_name": "DescriptionStyleModel",
      "state": {
       "description_width": ""
      }
     },
     "ce76689262024b5ea49933d567e27b02": {
      "model_module": "@jupyter-widgets/controls",
      "model_module_version": "1.5.0",
      "model_name": "LabelModel",
      "state": {
       "layout": "IPY_MODEL_bf69220f11aa4ea5ac9de7f775054cd8",
       "style": "IPY_MODEL_f72e4d16ba214181bc04abcb0165f9d2",
       "value": "0.013 MB of 0.013 MB uploaded (0.000 MB deduped)\r"
      }
     },
     "ce8ed345ce9f4a38b9a3735ade62d2d6": {
      "model_module": "@jupyter-widgets/controls",
      "model_module_version": "1.5.0",
      "model_name": "DescriptionStyleModel",
      "state": {
       "description_width": ""
      }
     },
     "cf20675bfbd841f78ccfab07e2f39f4b": {
      "model_module": "@jupyter-widgets/base",
      "model_module_version": "1.2.0",
      "model_name": "LayoutModel",
      "state": {}
     },
     "cf2326c38136428a81b96b657fa64f07": {
      "model_module": "@jupyter-widgets/base",
      "model_module_version": "1.2.0",
      "model_name": "LayoutModel",
      "state": {}
     },
     "d053be3b81f147339fe32edf8d741d81": {
      "model_module": "@jupyter-widgets/base",
      "model_module_version": "1.2.0",
      "model_name": "LayoutModel",
      "state": {}
     },
     "d08b17a818984fc28241cbfa8fb57216": {
      "model_module": "@jupyter-widgets/controls",
      "model_module_version": "1.5.0",
      "model_name": "FloatProgressModel",
      "state": {
       "bar_style": "success",
       "layout": "IPY_MODEL_e2ad0733229343ed852248d13a9467e7",
       "max": 1585,
       "style": "IPY_MODEL_4de325a8c85d45699b4e75eda769c140",
       "value": 1585
      }
     },
     "d3b3c675b01e427f85d5f8fab8696fa4": {
      "model_module": "@jupyter-widgets/controls",
      "model_module_version": "1.5.0",
      "model_name": "FloatProgressModel",
      "state": {
       "bar_style": "success",
       "layout": "IPY_MODEL_ed85e6d878924c8c97c82d9b8df0a3f0",
       "max": 46,
       "style": "IPY_MODEL_b90aabb0d1db4679851ce00984beebf5",
       "value": 46
      }
     },
     "d4abcfe706f64cd0afd40384b2b1c0a5": {
      "model_module": "@jupyter-widgets/base",
      "model_module_version": "1.2.0",
      "model_name": "LayoutModel",
      "state": {}
     },
     "d580432e8def41e4a74fdc4335542d3b": {
      "model_module": "@jupyter-widgets/controls",
      "model_module_version": "1.5.0",
      "model_name": "HBoxModel",
      "state": {
       "children": [
        "IPY_MODEL_086e9344a75b4b009960a0c6598d1435",
        "IPY_MODEL_292e6382f58c4d4ea9789a8dc9908fb4",
        "IPY_MODEL_3621fe42c1eb4ba38560e1f7e8ccf169"
       ],
       "layout": "IPY_MODEL_10790726f4aa47cf8c6a1f95eb4d3517"
      }
     },
     "d6c678008a5f493ca614ea472ef6d233": {
      "model_module": "@jupyter-widgets/controls",
      "model_module_version": "1.5.0",
      "model_name": "LabelModel",
      "state": {
       "layout": "IPY_MODEL_7a95e3cc77854f238beaf9fa59b7153f",
       "style": "IPY_MODEL_c803209b57bf431fa0273d580d364a25"
      }
     },
     "d92fea6bd003406593456066d875d9a9": {
      "model_module": "@jupyter-widgets/controls",
      "model_module_version": "1.5.0",
      "model_name": "HTMLModel",
      "state": {
       "layout": "IPY_MODEL_892f8f4c0fd5468f9f62d101899af880",
       "style": "IPY_MODEL_f2c193c199e941f8b3a0f247e65ed1cb",
       "value": "Epochs 0/2. Running Loss:    0.2772: 100%"
      }
     },
     "d9e8498c793d4eed8beef99e6848c1fd": {
      "model_module": "@jupyter-widgets/controls",
      "model_module_version": "1.5.0",
      "model_name": "DescriptionStyleModel",
      "state": {
       "description_width": ""
      }
     },
     "dc3ce3ecd5cc44508190f4c331994e34": {
      "model_module": "@jupyter-widgets/base",
      "model_module_version": "1.2.0",
      "model_name": "LayoutModel",
      "state": {}
     },
     "de2c16fe2f6b46d6b42178d9b66e946c": {
      "model_module": "@jupyter-widgets/base",
      "model_module_version": "1.2.0",
      "model_name": "LayoutModel",
      "state": {}
     },
     "deadc3cef7654f99b3b60ac337abbba0": {
      "model_module": "@jupyter-widgets/controls",
      "model_module_version": "1.5.0",
      "model_name": "ProgressStyleModel",
      "state": {
       "description_width": ""
      }
     },
     "e147ad2ba03c44d8a985a5894e2fe3de": {
      "model_module": "@jupyter-widgets/controls",
      "model_module_version": "1.5.0",
      "model_name": "DescriptionStyleModel",
      "state": {
       "description_width": ""
      }
     },
     "e20f85b22125454facc405ab7ddec187": {
      "model_module": "@jupyter-widgets/controls",
      "model_module_version": "1.5.0",
      "model_name": "LabelModel",
      "state": {
       "layout": "IPY_MODEL_1b60d4aed4ce4e15b3e5662b8b7fc7f7",
       "style": "IPY_MODEL_5be3d29ba75f4c5a896eb05fd872179b",
       "value": "0.013 MB of 0.013 MB uploaded (0.000 MB deduped)\r"
      }
     },
     "e273435c3eb44919b184763a16e1dad6": {
      "model_module": "@jupyter-widgets/controls",
      "model_module_version": "1.5.0",
      "model_name": "DescriptionStyleModel",
      "state": {
       "description_width": ""
      }
     },
     "e28d3f50a84b43c6b9b772fa788ff511": {
      "model_module": "@jupyter-widgets/base",
      "model_module_version": "1.2.0",
      "model_name": "LayoutModel",
      "state": {}
     },
     "e2ad0733229343ed852248d13a9467e7": {
      "model_module": "@jupyter-widgets/base",
      "model_module_version": "1.2.0",
      "model_name": "LayoutModel",
      "state": {}
     },
     "e405f506a50942a78b012726bcc13d51": {
      "model_module": "@jupyter-widgets/base",
      "model_module_version": "1.2.0",
      "model_name": "LayoutModel",
      "state": {}
     },
     "e5bb7091a5434f3b98e93bf02320c342": {
      "model_module": "@jupyter-widgets/base",
      "model_module_version": "1.2.0",
      "model_name": "LayoutModel",
      "state": {}
     },
     "e678af0319364bb49885c9e835328f03": {
      "model_module": "@jupyter-widgets/controls",
      "model_module_version": "1.5.0",
      "model_name": "DescriptionStyleModel",
      "state": {
       "description_width": ""
      }
     },
     "e6abb867e96a444688a5df535e335afe": {
      "model_module": "@jupyter-widgets/controls",
      "model_module_version": "1.5.0",
      "model_name": "HBoxModel",
      "state": {
       "children": [
        "IPY_MODEL_c7569c3bfdc74af1a70356d7102627f7",
        "IPY_MODEL_668c12b84f0c4f72814d3f8d5772ae67",
        "IPY_MODEL_a6806cf07a4e402a86ec1b41f5e9840d"
       ],
       "layout": "IPY_MODEL_028d645ab929408495c5676b3a368b02"
      }
     },
     "e6da4fae590e4e178f3333fa24a7fbe3": {
      "model_module": "@jupyter-widgets/controls",
      "model_module_version": "1.5.0",
      "model_name": "FloatProgressModel",
      "state": {
       "layout": "IPY_MODEL_e5bb7091a5434f3b98e93bf02320c342",
       "max": 1,
       "style": "IPY_MODEL_01e94069d5304fc087c0cffaf6b2f17f"
      }
     },
     "e77bca1b6bd945ba8cd3e4bbfee2fddf": {
      "model_module": "@jupyter-widgets/controls",
      "model_module_version": "1.5.0",
      "model_name": "ProgressStyleModel",
      "state": {
       "description_width": ""
      }
     },
     "e79076264c6a4632a44e6fc2c7884293": {
      "model_module": "@jupyter-widgets/base",
      "model_module_version": "1.2.0",
      "model_name": "LayoutModel",
      "state": {}
     },
     "e865495498354d64ab96530bee93ac59": {
      "model_module": "@jupyter-widgets/controls",
      "model_module_version": "1.5.0",
      "model_name": "DescriptionStyleModel",
      "state": {
       "description_width": ""
      }
     },
     "e8b4c9b44ab74e3cb50a8d2ae0a63fa0": {
      "model_module": "@jupyter-widgets/controls",
      "model_module_version": "1.5.0",
      "model_name": "ProgressStyleModel",
      "state": {
       "description_width": ""
      }
     },
     "e95a623933a44ff6bb472969d050b688": {
      "model_module": "@jupyter-widgets/controls",
      "model_module_version": "1.5.0",
      "model_name": "FloatProgressModel",
      "state": {
       "layout": "IPY_MODEL_32f01b16601b4142aa970e8f285e265b",
       "max": 1,
       "style": "IPY_MODEL_401117ae25b64e42ad0dbc2eddac904a",
       "value": 1
      }
     },
     "e9d0182d252c4b7e97d6cccf7198ff8a": {
      "model_module": "@jupyter-widgets/base",
      "model_module_version": "1.2.0",
      "model_name": "LayoutModel",
      "state": {}
     },
     "ebbb942bf40e4424a0cea09ab1806200": {
      "model_module": "@jupyter-widgets/controls",
      "model_module_version": "1.5.0",
      "model_name": "HTMLModel",
      "state": {
       "layout": "IPY_MODEL_ed297eaf3a4a4e56be3bf5314f67e1e1",
       "style": "IPY_MODEL_f7eccba7992240c095183904336b69bb",
       "value": " 46/46 [00:05&lt;00:00, 10.02it/s]"
      }
     },
     "ed297eaf3a4a4e56be3bf5314f67e1e1": {
      "model_module": "@jupyter-widgets/base",
      "model_module_version": "1.2.0",
      "model_name": "LayoutModel",
      "state": {}
     },
     "ed85e6d878924c8c97c82d9b8df0a3f0": {
      "model_module": "@jupyter-widgets/base",
      "model_module_version": "1.2.0",
      "model_name": "LayoutModel",
      "state": {}
     },
     "eda5322f92d54e85905086a0e48b11be": {
      "model_module": "@jupyter-widgets/base",
      "model_module_version": "1.2.0",
      "model_name": "LayoutModel",
      "state": {}
     },
     "ef3e5e79f7a94ed18bd04aea0d16721f": {
      "model_module": "@jupyter-widgets/base",
      "model_module_version": "1.2.0",
      "model_name": "LayoutModel",
      "state": {}
     },
     "f0336d24811448cb9a2def6455e8be87": {
      "model_module": "@jupyter-widgets/base",
      "model_module_version": "1.2.0",
      "model_name": "LayoutModel",
      "state": {}
     },
     "f172c78a11304f0fae6531b08264dec9": {
      "model_module": "@jupyter-widgets/base",
      "model_module_version": "1.2.0",
      "model_name": "LayoutModel",
      "state": {}
     },
     "f2488adb49ac457484a6e8ef0fcb1b1c": {
      "model_module": "@jupyter-widgets/controls",
      "model_module_version": "1.5.0",
      "model_name": "ProgressStyleModel",
      "state": {
       "description_width": ""
      }
     },
     "f2c193c199e941f8b3a0f247e65ed1cb": {
      "model_module": "@jupyter-widgets/controls",
      "model_module_version": "1.5.0",
      "model_name": "DescriptionStyleModel",
      "state": {
       "description_width": ""
      }
     },
     "f2c61d75c5004522b3dcf81f22347cb5": {
      "model_module": "@jupyter-widgets/base",
      "model_module_version": "1.2.0",
      "model_name": "LayoutModel",
      "state": {}
     },
     "f53b9986eae24355ad8ace80c640951b": {
      "model_module": "@jupyter-widgets/controls",
      "model_module_version": "1.5.0",
      "model_name": "HTMLModel",
      "state": {
       "layout": "IPY_MODEL_7556a856754146f8b56c44bc964f262d",
       "style": "IPY_MODEL_d9e8498c793d4eed8beef99e6848c1fd",
       "value": " 1445/1445 [00:00&lt;00:00, 6394.09it/s]"
      }
     },
     "f6c4bad2654646acabda8c90c089c05e": {
      "model_module": "@jupyter-widgets/base",
      "model_module_version": "1.2.0",
      "model_name": "LayoutModel",
      "state": {}
     },
     "f72e4d16ba214181bc04abcb0165f9d2": {
      "model_module": "@jupyter-widgets/controls",
      "model_module_version": "1.5.0",
      "model_name": "DescriptionStyleModel",
      "state": {
       "description_width": ""
      }
     },
     "f7eccba7992240c095183904336b69bb": {
      "model_module": "@jupyter-widgets/controls",
      "model_module_version": "1.5.0",
      "model_name": "DescriptionStyleModel",
      "state": {
       "description_width": ""
      }
     },
     "f86182a4cd1446c4853a286ec625fc32": {
      "model_module": "@jupyter-widgets/controls",
      "model_module_version": "1.5.0",
      "model_name": "HBoxModel",
      "state": {
       "children": [
        "IPY_MODEL_a06363388b25426098ea1de6736dcd7b",
        "IPY_MODEL_d08b17a818984fc28241cbfa8fb57216",
        "IPY_MODEL_a0db4957c44f4ee48602322434b4e823"
       ],
       "layout": "IPY_MODEL_2651730a18dd4b4fb80d5de3a01cf02d"
      }
     },
     "f8889a99114d45cfaafbd811cd02093c": {
      "model_module": "@jupyter-widgets/base",
      "model_module_version": "1.2.0",
      "model_name": "LayoutModel",
      "state": {}
     },
     "fc6acff3486740deb0cc0b33c0782371": {
      "model_module": "@jupyter-widgets/base",
      "model_module_version": "1.2.0",
      "model_name": "LayoutModel",
      "state": {}
     },
     "fc96aaca084441e5a6ef191a0f11febf": {
      "model_module": "@jupyter-widgets/controls",
      "model_module_version": "1.5.0",
      "model_name": "HTMLModel",
      "state": {
       "layout": "IPY_MODEL_eda5322f92d54e85905086a0e48b11be",
       "style": "IPY_MODEL_1a95bdeb4f454e28b3b48d4ec6f1f9cd",
       "value": "Epoch 2 of 2: 100%"
      }
     },
     "fd50f847dad4438ab5a62c7e60a5798f": {
      "model_module": "@jupyter-widgets/controls",
      "model_module_version": "1.5.0",
      "model_name": "HTMLModel",
      "state": {
       "layout": "IPY_MODEL_cdfd47de23cd4ef398039f6a158beea6",
       "style": "IPY_MODEL_b105ddce3f3641d08c1c39b99870ce7d",
       "value": "Epochs 0/2. Running Loss:    0.0796: 100%"
      }
     }
    },
    "version_major": 2,
    "version_minor": 0
   }
  }
 },
 "nbformat": 4,
 "nbformat_minor": 4
}
