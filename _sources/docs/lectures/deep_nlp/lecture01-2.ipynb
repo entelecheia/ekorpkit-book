{
 "cells": [
  {
   "cell_type": "markdown",
   "id": "bfc871e8",
   "metadata": {},
   "source": [
    "# Getting started with ekorpkit"
   ]
  },
  {
   "cell_type": "markdown",
   "id": "8f9fc3f2",
   "metadata": {},
   "source": [
    "## Introduction\n",
    "\n",
    "ekorpkit is the acronym for eKonomic Research Python Toolkit. It looks like it's for economic research. Actually, it is a Python library for natural language processing and machine learning. In particular, it is designed to support the Korean language as well as English.\n",
    "\n",
    "ekorpkit provides a flexible interface for NLP and ML research pipelines such as extraction, transformation, tokenization, training, and visualization. Its powerful configuration composition is backed by Hydra."
   ]
  },
  {
   "cell_type": "markdown",
   "id": "3aa1fbfe",
   "metadata": {},
   "source": [
    "## Key features\n",
    "\n",
    "### Easy Configuration\n",
    "\n",
    "- You can compose your configuration dynamically, enabling you to easily get the perfect configuration for each research. \n",
    "- You can override everything from the command line, which makes experimentation fast, and removes the need to maintain multiple similar configuration files. \n",
    "- With a help of the **eKonf** class, it is also easy to compose configurations in a jupyter notebook environment.\n",
    "\n",
    "### No Boilerplate\n",
    "\n",
    "- eKorpkit lets you focus on the problem at hand instead of spending time on boilerplate code like command line flags, loading configuration files, logging etc."
   ]
  },
  {
   "cell_type": "markdown",
   "id": "08663ff6",
   "metadata": {},
   "source": [
    "### Workflows\n",
    "\n",
    "- A workflow is a configurable automated process that will run one or more jobs.\n",
    "- You can divide your research into several unit jobs (tasks), then combine those jobs into one workflow.\n",
    "- You can have multiple workflows, each of which can perform a different set of tasks.\n",
    "\n",
    "### Sharable and Reproducible\n",
    "\n",
    "- With eKorpkit, you can easily share your datasets and models.\n",
    "- Sharing configs along with datasets and models makes every research reproducible.\n",
    "- You can share each unit jobs or an entire workflow.\n",
    "\n",
    "### Pluggable Architecture\n",
    "\n",
    "- eKorpkit has a pluggable architecture, enabling it to combine with your own implementation.\n"
   ]
  },
  {
   "cell_type": "markdown",
   "id": "d343d667",
   "metadata": {},
   "source": [
    "## Installation\n",
    "\n",
    "To use ekorpkit, you need to install it first. The recommended way is to use pip.\n",
    "\n",
    "Install the latest version of ekorpkit by running:\n",
    "\n",
    "```bash\n",
    "pip install -U ekorpkit\n",
    "```\n",
    "\n",
    "To install all extra dependencies,\n",
    "\n",
    "```bash\n",
    "pip install ekorpkit[all]\n",
    "```\n",
    "\n",
    "To install all extra dependencies, exhaustively, (not recommended)\n",
    "\n",
    "```bash\n",
    "pip install ekorpkit[exhaustive]\n",
    "```\n",
    "\n",
    "To install or upgrade the pre-release version of ekorpkit, run:\n",
    "\n",
    "```bash\n",
    "pip install -U --pre ekorpkit\n",
    "```"
   ]
  },
  {
   "cell_type": "markdown",
   "id": "761838e8",
   "metadata": {},
   "source": [
    "## Extra dependencies\n",
    "\n",
    "To list of extra dependency sets,\n"
   ]
  },
  {
   "cell_type": "code",
   "execution_count": 1,
   "id": "1039988e",
   "metadata": {},
   "outputs": [
    {
     "data": {
      "text/plain": [
       "['tokenize',\n",
       " 'all',\n",
       " 'mecab',\n",
       " 'tokenize-en',\n",
       " 'dataset',\n",
       " 'topic',\n",
       " 'visualize',\n",
       " 'parser',\n",
       " 'wiki',\n",
       " 'fomc',\n",
       " 'edgar',\n",
       " 'transformers',\n",
       " 'model',\n",
       " 'automl',\n",
       " 'cached-path',\n",
       " 'google',\n",
       " 'ddbackend',\n",
       " 'fetch',\n",
       " 'doc',\n",
       " 'disco',\n",
       " 'art',\n",
       " 'dalle-mini',\n",
       " 'label',\n",
       " 'exhaustive']"
      ]
     },
     "execution_count": 1,
     "metadata": {},
     "output_type": "execute_result"
    }
   ],
   "source": [
    "from ekorpkit import eKonf\n",
    "eKonf.dependencies()\n"
   ]
  },
  {
   "cell_type": "markdown",
   "id": "60942dac",
   "metadata": {},
   "source": [
    "To seed the list of libraries in each dependency set,"
   ]
  },
  {
   "cell_type": "code",
   "execution_count": 2,
   "id": "424b236b",
   "metadata": {},
   "outputs": [
    {
     "data": {
      "text/plain": [
       "{'emoji<2.0',\n",
       " 'fugashi',\n",
       " 'mecab-ko-dic',\n",
       " 'mecab-python3',\n",
       " 'nltk',\n",
       " 'pynori',\n",
       " 'pysbd',\n",
       " 'sacremoses',\n",
       " 'soynlp'}"
      ]
     },
     "execution_count": 2,
     "metadata": {},
     "output_type": "execute_result"
    }
   ],
   "source": [
    "eKonf.dependencies(\"tokenize\")"
   ]
  },
  {
   "cell_type": "markdown",
   "id": "61f38a40",
   "metadata": {},
   "source": [
    "## Usage\n",
    "\n",
    "### Via Command Line Interface (CLI)\n"
   ]
  },
  {
   "cell_type": "code",
   "execution_count": 3,
   "id": "3b2d2b83",
   "metadata": {},
   "outputs": [
    {
     "name": "stdout",
     "output_type": "stream",
     "text": [
      "[\u001b[36m2022-08-26 08:52:39,439\u001b[0m][\u001b[34mekorpkit.base\u001b[0m][\u001b[32mINFO\u001b[0m] - Loaded .env from /workspace/projects/ekorpkit-book/config/.env\u001b[0m\n",
      "[\u001b[36m2022-08-26 08:52:39,443\u001b[0m][\u001b[34mekorpkit.base\u001b[0m][\u001b[32mINFO\u001b[0m] - setting environment variable CACHED_PATH_CACHE_ROOT to /workspace/.cache/cached_path\u001b[0m\n",
      "[\u001b[36m2022-08-26 08:52:39,443\u001b[0m][\u001b[34mekorpkit.base\u001b[0m][\u001b[32mINFO\u001b[0m] - setting environment variable KMP_DUPLICATE_LIB_OK to TRUE\u001b[0m\n",
      "\n",
      "name        : ekorpkit\n",
      "author      : Young Joon Lee\n",
      "description : eKorpkit provides a flexible interface for NLP and ML research pipelines such as extraction, transformation, tokenization, training, and visualization.\n",
      "website     : https://entelecheia.github.io/ekorpkit-book/\n",
      "version     : 0.1.38+20.g61522ea\n",
      "\n",
      "Execute `ekorpkit --help` to see what eKorpkit provides\n"
     ]
    }
   ],
   "source": [
    "!ekorpkit"
   ]
  },
  {
   "cell_type": "markdown",
   "id": "3952c98a",
   "metadata": {},
   "source": []
  }
 ],
 "metadata": {
  "kernelspec": {
   "display_name": "Python 3.8.12 64-bit ('ekonml38')",
   "language": "python",
   "name": "python3"
  },
  "language_info": {
   "codemirror_mode": {
    "name": "ipython",
    "version": 3
   },
   "file_extension": ".py",
   "mimetype": "text/x-python",
   "name": "python",
   "nbconvert_exporter": "python",
   "pygments_lexer": "ipython3",
   "version": "3.8.12"
  },
  "vscode": {
   "interpreter": {
    "hash": "f869af7787e6a1c49e09e367fc6e1b81d93d1c6583b43249c80edc047bd13cb2"
   }
  }
 },
 "nbformat": 4,
 "nbformat_minor": 5
}
