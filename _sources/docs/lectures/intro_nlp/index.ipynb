{
 "cells": [
  {
   "cell_type": "markdown",
   "id": "76b40700",
   "metadata": {},
   "source": [
    "# Introduction to NLP"
   ]
  },
  {
   "cell_type": "markdown",
   "id": "e9c99162",
   "metadata": {},
   "source": [
    "## 📜 Course Description\n",
    "\n",
    "This course covers the basics of natural language processing, including text pre-processing, part-of-speech tagging, parsing, and semantic analysis. The course will also cover advanced topics such as word embeddings. Upon completion of this course, students will be able to apply these techniques to real-world data sets.\n"
   ]
  },
  {
   "cell_type": "markdown",
   "id": "ee7884ff",
   "metadata": {},
   "source": [
    "## ♾️ Learning Goals\n",
    "\n",
    "1. Be able to describe key concepts, models and challenges in Natural Language Processing\n",
    "2. Be able to describe, implement, and apply a variety of fundamental algorithms in Natural Language Processing\n",
    "3. Be able to describe and evaluate more complex software systems for various Natural Language Processing tasks\n",
    "4. Be able to describe current approaches, datasets and systems for various Natural Language Processing tasks\n"
   ]
  },
  {
   "cell_type": "markdown",
   "id": "3ac47c37",
   "metadata": {},
   "source": [
    "## 📚 Textbook\n",
    "\n",
    "Jurafsky, D., & Martin, J. H. (2019). Speech and language processing: An introduction to natural language processing, computational linguistics, and speech recognition (3rd ed.). Upper Saddle River, NJ: Pearson Education.\n",
    "\n",
    "[https://web.stanford.edu/~jurafsky/slp3/](https://web.stanford.edu/~jurafsky/slp3/)\n",
    "\n",
    "\n",
    "### Reference Books\n",
    "\n",
    "Eckert, P., & Strunk Jr., W. (2000). Elements of style (4th ed.). New York: Allyn and Bacon.\n",
    "\n",
    "Gelbukh, A. (Ed.). (2018). Computational linguistics and intelligent text processing: 18th international conference, CICLing 2017, New Delhi, India, February 19-25, 2017, revised selected papers (Vol. 10573). Cham: Springer International Publishing.\n",
    "\n",
    "Mitchell, T. M. (1997). Machine learning (1st ed.). New York: McGraw-Hill Science/Engineering/Math.\n",
    "\n",
    "NLTK Book - Bird et al.: (Natural Language Processing with Python)[https://www.nltk.org/book/]\n"
   ]
  },
  {
   "cell_type": "markdown",
   "id": "c0bd2f00",
   "metadata": {},
   "source": [
    "## 🏆 Grading\n",
    "\n",
    "- Participation: **10%**\n",
    "- Midterm: **30%**\n",
    "- Term Project: **60%**\n"
   ]
  },
  {
   "cell_type": "markdown",
   "id": "156df085",
   "metadata": {},
   "source": [
    "## 🧠 Term Project\n",
    "\n",
    "For the term project, students will choose a real-world data set and build a natural language processing system that can perform some task on the data set. The project will be presented in the form of a poster at the end of the semester.\n"
   ]
  },
  {
   "cell_type": "markdown",
   "id": "d7e29cd2",
   "metadata": {},
   "source": [
    "## 🗓️ Table of Contents\n",
    "\n",
    "```{tableofcontents}\n",
    "\n",
    "```\n"
   ]
  },
  {
   "cell_type": "markdown",
   "id": "1fb9de32",
   "metadata": {},
   "source": []
  }
 ],
 "metadata": {
  "kernelspec": {
   "display_name": "Python 3.8.5 ('base')",
   "language": "python",
   "name": "python3"
  },
  "language_info": {
   "name": "python",
   "version": "3.8.5"
  },
  "vscode": {
   "interpreter": {
    "hash": "d4d1e4263499bec80672ea0156c357c1ee493ec2b1c70f0acce89fc37c4a6abe"
   }
  }
 },
 "nbformat": 4,
 "nbformat_minor": 5
}
