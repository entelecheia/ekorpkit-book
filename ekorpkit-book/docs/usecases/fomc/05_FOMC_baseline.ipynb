{
 "cells": [
  {
   "cell_type": "markdown",
   "metadata": {
    "colab_type": "text",
    "id": "lHecaO_7JG6L"
   },
   "source": [
    "# Checking Baseline with AutoML"
   ]
  },
  {
   "cell_type": "code",
   "execution_count": 1,
   "metadata": {},
   "outputs": [
    {
     "name": "stdout",
     "output_type": "stream",
     "text": [
      "0.1.31+10.g751d414.dirty\n"
     ]
    }
   ],
   "source": [
    "%config InlineBackend.figure_format='retina'\n",
    "import logging\n",
    "from ekorpkit import eKonf\n",
    "\n",
    "logging.basicConfig(level=logging.INFO)\n",
    "print(eKonf.__version__)"
   ]
  },
  {
   "cell_type": "code",
   "execution_count": 2,
   "metadata": {},
   "outputs": [],
   "source": [
    "data_dir = \"../data/fomc\"\n",
    "save_dataframe = eKonf.partial(\n",
    "    config_group=\"_func_/save_dataframe\", output_dir=data_dir\n",
    ")\n",
    "load_dataframe = eKonf.partial(config_group=\"_func_/load_dataframe\", data_dir=data_dir)"
   ]
  },
  {
   "cell_type": "markdown",
   "metadata": {},
   "source": [
    "## Build and laod feature set"
   ]
  },
  {
   "cell_type": "code",
   "execution_count": 3,
   "metadata": {
    "colab": {
     "base_uri": "https://localhost:8080/",
     "height": 459
    },
    "colab_type": "code",
    "id": "bmmhSA9Yz8xM",
    "outputId": "8435b794-3686-45bc-8ffd-4cedc0d79b47"
   },
   "outputs": [
    {
     "name": "stderr",
     "output_type": "stream",
     "text": [
      "INFO:ekorpkit.datasets.feature:Loaded info file: ../data/fomc/fomc_features_small/info-fomc_features_small.yaml\n",
      "INFO:ekorpkit.pipelines.pipe:Applying pipeline: OrderedDict([('load_dataframe', 'load_dataframe'), ('reset_index', 'reset_index'), ('split_sampling', 'split_sampling')])\n",
      "INFO:ekorpkit.ekonf:Applying pipe: functools.partial(<function load_dataframe at 0x7fb69009b670>)\n",
      "INFO:ekorpkit.io.file:Processing [1] files from [['econ_train_small.parquet']]\n",
      "INFO:ekorpkit.pipelines.pipe:Loading 1 dataframes from ['../data/fomc/econ_train_small.parquet']\n",
      "INFO:ekorpkit.io.file:Loading data from ../data/fomc/econ_train_small.parquet\n",
      "INFO:ekorpkit.ekonf:Applying pipe: functools.partial(<function reset_index at 0x7fb743ec6430>)\n",
      "INFO:ekorpkit.ekonf:Applying pipe: functools.partial(<function split_sampling at 0x7fb743ec6ca0>)\n",
      "INFO:ekorpkit.io.file:Saving dataframe as ../data/fomc/fomc_features_small/fomc_features_small-train.parquet\n",
      "INFO:ekorpkit.io.file:Saving dataframe as ../data/fomc/fomc_features_small/fomc_features_small-test.parquet\n",
      "INFO:ekorpkit.datasets.feature:Dataset fomc_features_small built with 415 rows\n",
      "INFO:ekorpkit.io.file:Loading data from ../data/fomc/fomc_features_small/fomc_features_small-train.parquet\n",
      "INFO:ekorpkit.info.feature:Added a column [split] with value [train]\n",
      "INFO:ekorpkit.io.file:Loading data from ../data/fomc/fomc_features_small/fomc_features_small-test.parquet\n",
      "INFO:ekorpkit.info.feature:Added a column [split] with value [test]\n",
      "INFO:ekorpkit.io.file:Saving dataframe as ../data/fomc/fomc_features_small/fomc_features_small-train.parquet\n",
      "INFO:ekorpkit.info.stat: >> elapsed time to calculate statistics: 0:00:00.004669\n",
      "INFO:ekorpkit.io.file:Saving dataframe as ../data/fomc/fomc_features_small/fomc_features_small-test.parquet\n",
      "INFO:ekorpkit.info.stat: >> elapsed time to calculate statistics: 0:00:00.004203\n"
     ]
    }
   ],
   "source": [
    "cfg = eKonf.compose(config_group=\"dataset=feature\")\n",
    "cfg.name = \"fomc_features_small\"\n",
    "cfg.data_dir = data_dir\n",
    "cfg.data_file = \"econ_train_small.parquet\"\n",
    "cfg.force_rebuild = True\n",
    "cfg.pipeline.reset_index.index_column_name = \"date\"\n",
    "cfg.column_info.columns.index = \"date\"\n",
    "cfg.column_info.columns.id = \"index\"\n",
    "cfg.column_info.columns.x = [\n",
    "    \"prev_decision\",\n",
    "    \"GDP_diff_prev\",\n",
    "    \"PMI\",\n",
    "    \"EMP_diff_prev\",\n",
    "    \"RSALES_diff_year\",\n",
    "    \"UNEMP_diff_prev\",\n",
    "    \"HSALES_diff_year\",\n",
    "    \"Inertia_diff\",\n",
    "    \"Balanced_diff\",\n",
    "]\n",
    "cfg.column_info.columns.y = \"target\"\n",
    "cfg.verbose = False\n",
    "fomc_features_small = eKonf.instantiate(cfg)\n",
    "fomc_features_small.persist()"
   ]
  },
  {
   "cell_type": "code",
   "execution_count": 4,
   "metadata": {},
   "outputs": [
    {
     "name": "stderr",
     "output_type": "stream",
     "text": [
      "INFO:ekorpkit.datasets.feature:Loaded info file: ../data/fomc/fomc_features_small/info-fomc_features_small.yaml\n",
      "INFO:ekorpkit.io.file:Loading data from ../data/fomc/fomc_features_small/fomc_features_small-train.parquet\n",
      "INFO:ekorpkit.info.feature:Added a column [split] with value [train]\n",
      "INFO:ekorpkit.io.file:Loading data from ../data/fomc/fomc_features_small/fomc_features_small-test.parquet\n",
      "INFO:ekorpkit.info.feature:Added a column [split] with value [test]\n"
     ]
    }
   ],
   "source": [
    "cfg = eKonf.compose(config_group=\"dataset=feature\")\n",
    "cfg.name = \"fomc_features_small\"\n",
    "cfg.data_dir = data_dir\n",
    "cfg.data_file = \"econ_train_small.parquet\"\n",
    "fomc_features_small = eKonf.instantiate(cfg)"
   ]
  },
  {
   "cell_type": "code",
   "execution_count": 5,
   "metadata": {},
   "outputs": [
    {
     "data": {
      "text/plain": [
       "{'splits': {'train': {'data_file': 'fomc_features_small-train.parquet',\n",
       "   'name': 'train',\n",
       "   'num_examples': 332,\n",
       "   'num_bytes': 49800,\n",
       "   'human_bytes': '48.63 KiB'},\n",
       "  'test': {'data_file': 'fomc_features_small-test.parquet',\n",
       "   'name': 'test',\n",
       "   'num_examples': 83,\n",
       "   'num_bytes': 12367,\n",
       "   'human_bytes': '12.08 KiB'}},\n",
       " 'num_examples': 415,\n",
       " 'size_in_bytes': 62167,\n",
       " 'size_in_human_bytes': '60.71 KiB',\n",
       " 'data_files': {'train': 'fomc_features_small-train.parquet',\n",
       "  'test': 'fomc_features_small-test.parquet'},\n",
       " 'meta_files': {},\n",
       " 'data_files_modified': '2022-06-04 08:41:26',\n",
       " 'info_updated': '2022-06-04 08:41:26',\n",
       " 'column_info': {'keys': {'index': 'date',\n",
       "   'id': 'id',\n",
       "   'x': 'x',\n",
       "   'y': 'y',\n",
       "   'split': 'split'},\n",
       "  'columns': {'index': 'date',\n",
       "   'id': ['date', 'split'],\n",
       "   'x': ['prev_decision',\n",
       "    'GDP_diff_prev',\n",
       "    'PMI',\n",
       "    'EMP_diff_prev',\n",
       "    'RSALES_diff_year',\n",
       "    'UNEMP_diff_prev',\n",
       "    'HSALES_diff_year',\n",
       "    'Inertia_diff',\n",
       "    'Balanced_diff'],\n",
       "   'y': 'target'},\n",
       "  'data': {'target': 'int64',\n",
       "   'prev_decision': 'float64',\n",
       "   'GDP_diff_prev': 'float64',\n",
       "   'PMI': 'float64',\n",
       "   'EMP_diff_prev': 'float64',\n",
       "   'RSALES_diff_year': 'float64',\n",
       "   'UNEMP_diff_prev': 'float64',\n",
       "   'HSALES_diff_year': 'float64',\n",
       "   'Inertia_diff': 'float64',\n",
       "   'Balanced_diff': 'float64',\n",
       "   'split': 'str'},\n",
       "  'datetime': {'columns': None, 'format': None, '_parms_': None}}}"
      ]
     },
     "execution_count": 5,
     "metadata": {},
     "output_type": "execute_result"
    }
   ],
   "source": [
    "fomc_features_small.INFO"
   ]
  },
  {
   "cell_type": "code",
   "execution_count": 9,
   "metadata": {},
   "outputs": [
    {
     "name": "stdout",
     "output_type": "stream",
     "text": [
      "target\n"
     ]
    },
    {
     "data": {
      "text/plain": [
       "array([0, 0, 1, 0, 1])"
      ]
     },
     "execution_count": 9,
     "metadata": {},
     "output_type": "execute_result"
    }
   ],
   "source": [
    "y_train = fomc_features_small.y_train\n",
    "print(fomc_features_small.FEATURE.Y)\n",
    "y_train[:5]"
   ]
  },
  {
   "cell_type": "code",
   "execution_count": 10,
   "metadata": {},
   "outputs": [
    {
     "name": "stdout",
     "output_type": "stream",
     "text": [
      "['prev_decision', 'GDP_diff_prev', 'PMI', 'EMP_diff_prev', 'RSALES_diff_year', 'UNEMP_diff_prev', 'HSALES_diff_year', 'Inertia_diff', 'Balanced_diff']\n"
     ]
    },
    {
     "data": {
      "text/plain": [
       "array([[  0.        ,   7.54753464,  57.7       ,   0.23404719,\n",
       "          3.05527559,  -2.89855072,  22.62247839,   0.        ,\n",
       "          0.        ],\n",
       "       [  0.        ,   0.8437117 ,  51.9       ,   0.05891895,\n",
       "          0.19675412,  -2.17391304, -21.9604147 ,   0.        ,\n",
       "          0.        ],\n",
       "       [  1.        ,   0.36444736,  54.7       ,   0.22189124,\n",
       "          4.21392244,  -5.        ,  -8.38779956,   0.        ,\n",
       "          0.        ],\n",
       "       [ -1.        ,   0.74332734,  51.2       ,   0.12473506,\n",
       "          2.09425599,  -4.28571429,  13.64341085,   0.        ,\n",
       "          0.        ],\n",
       "       [  0.        ,   1.28412891,  56.1       ,   0.2218919 ,\n",
       "          3.23995931,  -3.27868852,  16.62531017,   0.        ,\n",
       "          0.        ]])"
      ]
     },
     "execution_count": 10,
     "metadata": {},
     "output_type": "execute_result"
    }
   ],
   "source": [
    "X_train = fomc_features_small.X_train\n",
    "print(fomc_features_small.FEATURE.X)\n",
    "X_train[:5]"
   ]
  },
  {
   "cell_type": "markdown",
   "metadata": {},
   "source": [
    "## Auto ML"
   ]
  },
  {
   "cell_type": "code",
   "execution_count": null,
   "metadata": {},
   "outputs": [],
   "source": []
  }
 ],
 "metadata": {
  "accelerator": "GPU",
  "colab": {
   "collapsed_sections": [],
   "name": "FOMC_Analysis_BaselineModels.ipynb",
   "provenance": [],
   "toc_visible": true
  },
  "interpreter": {
   "hash": "f869af7787e6a1c49e09e367fc6e1b81d93d1c6583b43249c80edc047bd13cb2"
  },
  "kernelspec": {
   "display_name": "Python 3.8.12 64-bit ('ekonml38')",
   "language": "python",
   "name": "python3"
  },
  "language_info": {
   "codemirror_mode": {
    "name": "ipython",
    "version": 3
   },
   "file_extension": ".py",
   "mimetype": "text/x-python",
   "name": "python",
   "nbconvert_exporter": "python",
   "pygments_lexer": "ipython3",
   "version": "3.8.12"
  },
  "widgets": {
   "application/vnd.jupyter.widget-state+json": {
    "24653349f70041d1935b5a0652271680": {
     "model_module": "@jupyter-widgets/controls",
     "model_name": "ProgressStyleModel",
     "state": {
      "_model_module": "@jupyter-widgets/controls",
      "_model_module_version": "1.5.0",
      "_model_name": "ProgressStyleModel",
      "_view_count": null,
      "_view_module": "@jupyter-widgets/base",
      "_view_module_version": "1.2.0",
      "_view_name": "StyleView",
      "bar_color": null,
      "description_width": "initial"
     }
    },
    "72f9bca9b45f4c5a91039719cb4d2d90": {
     "model_module": "@jupyter-widgets/controls",
     "model_name": "FloatProgressModel",
     "state": {
      "_dom_classes": [],
      "_model_module": "@jupyter-widgets/controls",
      "_model_module_version": "1.5.0",
      "_model_name": "FloatProgressModel",
      "_view_count": null,
      "_view_module": "@jupyter-widgets/controls",
      "_view_module_version": "1.5.0",
      "_view_name": "ProgressView",
      "bar_style": "success",
      "description": "100%",
      "description_tooltip": null,
      "layout": "IPY_MODEL_ec205d4e972847fc8a9eab489180b2fe",
      "max": 192,
      "min": 0,
      "orientation": "horizontal",
      "style": "IPY_MODEL_24653349f70041d1935b5a0652271680",
      "value": 192
     }
    },
    "7dbb928b5f6c4621b46e1ca9a3b5b846": {
     "model_module": "@jupyter-widgets/base",
     "model_name": "LayoutModel",
     "state": {
      "_model_module": "@jupyter-widgets/base",
      "_model_module_version": "1.2.0",
      "_model_name": "LayoutModel",
      "_view_count": null,
      "_view_module": "@jupyter-widgets/base",
      "_view_module_version": "1.2.0",
      "_view_name": "LayoutView",
      "align_content": null,
      "align_items": null,
      "align_self": null,
      "border": null,
      "bottom": null,
      "display": null,
      "flex": null,
      "flex_flow": null,
      "grid_area": null,
      "grid_auto_columns": null,
      "grid_auto_flow": null,
      "grid_auto_rows": null,
      "grid_column": null,
      "grid_gap": null,
      "grid_row": null,
      "grid_template_areas": null,
      "grid_template_columns": null,
      "grid_template_rows": null,
      "height": null,
      "justify_content": null,
      "justify_items": null,
      "left": null,
      "margin": null,
      "max_height": null,
      "max_width": null,
      "min_height": null,
      "min_width": null,
      "object_fit": null,
      "object_position": null,
      "order": null,
      "overflow": null,
      "overflow_x": null,
      "overflow_y": null,
      "padding": null,
      "right": null,
      "top": null,
      "visibility": null,
      "width": null
     }
    },
    "9c942dab3c154ee38c38449a1cef9116": {
     "model_module": "@jupyter-widgets/controls",
     "model_name": "HBoxModel",
     "state": {
      "_dom_classes": [],
      "_model_module": "@jupyter-widgets/controls",
      "_model_module_version": "1.5.0",
      "_model_name": "HBoxModel",
      "_view_count": null,
      "_view_module": "@jupyter-widgets/controls",
      "_view_module_version": "1.5.0",
      "_view_name": "HBoxView",
      "box_style": "",
      "children": [
       "IPY_MODEL_72f9bca9b45f4c5a91039719cb4d2d90",
       "IPY_MODEL_c6852d04b6d140a49b09a47402fbb273"
      ],
      "layout": "IPY_MODEL_7dbb928b5f6c4621b46e1ca9a3b5b846"
     }
    },
    "b13309c60ef8446488a8d27ceac40696": {
     "model_module": "@jupyter-widgets/base",
     "model_name": "LayoutModel",
     "state": {
      "_model_module": "@jupyter-widgets/base",
      "_model_module_version": "1.2.0",
      "_model_name": "LayoutModel",
      "_view_count": null,
      "_view_module": "@jupyter-widgets/base",
      "_view_module_version": "1.2.0",
      "_view_name": "LayoutView",
      "align_content": null,
      "align_items": null,
      "align_self": null,
      "border": null,
      "bottom": null,
      "display": null,
      "flex": null,
      "flex_flow": null,
      "grid_area": null,
      "grid_auto_columns": null,
      "grid_auto_flow": null,
      "grid_auto_rows": null,
      "grid_column": null,
      "grid_gap": null,
      "grid_row": null,
      "grid_template_areas": null,
      "grid_template_columns": null,
      "grid_template_rows": null,
      "height": null,
      "justify_content": null,
      "justify_items": null,
      "left": null,
      "margin": null,
      "max_height": null,
      "max_width": null,
      "min_height": null,
      "min_width": null,
      "object_fit": null,
      "object_position": null,
      "order": null,
      "overflow": null,
      "overflow_x": null,
      "overflow_y": null,
      "padding": null,
      "right": null,
      "top": null,
      "visibility": null,
      "width": null
     }
    },
    "c6852d04b6d140a49b09a47402fbb273": {
     "model_module": "@jupyter-widgets/controls",
     "model_name": "HTMLModel",
     "state": {
      "_dom_classes": [],
      "_model_module": "@jupyter-widgets/controls",
      "_model_module_version": "1.5.0",
      "_model_name": "HTMLModel",
      "_view_count": null,
      "_view_module": "@jupyter-widgets/controls",
      "_view_module_version": "1.5.0",
      "_view_name": "HTMLView",
      "description": "",
      "description_tooltip": null,
      "layout": "IPY_MODEL_b13309c60ef8446488a8d27ceac40696",
      "placeholder": "​",
      "style": "IPY_MODEL_cc839a3d2a5c41f09dd3c08dffeff5bf",
      "value": " 192/192 [1:19:30&lt;00:00, 24.85s/it]"
     }
    },
    "cc839a3d2a5c41f09dd3c08dffeff5bf": {
     "model_module": "@jupyter-widgets/controls",
     "model_name": "DescriptionStyleModel",
     "state": {
      "_model_module": "@jupyter-widgets/controls",
      "_model_module_version": "1.5.0",
      "_model_name": "DescriptionStyleModel",
      "_view_count": null,
      "_view_module": "@jupyter-widgets/base",
      "_view_module_version": "1.2.0",
      "_view_name": "StyleView",
      "description_width": ""
     }
    },
    "ec205d4e972847fc8a9eab489180b2fe": {
     "model_module": "@jupyter-widgets/base",
     "model_name": "LayoutModel",
     "state": {
      "_model_module": "@jupyter-widgets/base",
      "_model_module_version": "1.2.0",
      "_model_name": "LayoutModel",
      "_view_count": null,
      "_view_module": "@jupyter-widgets/base",
      "_view_module_version": "1.2.0",
      "_view_name": "LayoutView",
      "align_content": null,
      "align_items": null,
      "align_self": null,
      "border": null,
      "bottom": null,
      "display": null,
      "flex": null,
      "flex_flow": null,
      "grid_area": null,
      "grid_auto_columns": null,
      "grid_auto_flow": null,
      "grid_auto_rows": null,
      "grid_column": null,
      "grid_gap": null,
      "grid_row": null,
      "grid_template_areas": null,
      "grid_template_columns": null,
      "grid_template_rows": null,
      "height": null,
      "justify_content": null,
      "justify_items": null,
      "left": null,
      "margin": null,
      "max_height": null,
      "max_width": null,
      "min_height": null,
      "min_width": null,
      "object_fit": null,
      "object_position": null,
      "order": null,
      "overflow": null,
      "overflow_x": null,
      "overflow_y": null,
      "padding": null,
      "right": null,
      "top": null,
      "visibility": null,
      "width": null
     }
    }
   }
  }
 },
 "nbformat": 4,
 "nbformat_minor": 1
}
