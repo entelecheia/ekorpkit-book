{
 "cells": [
  {
   "cell_type": "markdown",
   "metadata": {
    "id": "AESO0odcxhzs"
   },
   "source": [
    "# Training Classifiers for ESG Ratings"
   ]
  },
  {
   "cell_type": "code",
   "execution_count": 1,
   "metadata": {
    "id": "EJ0AoNl-xif_"
   },
   "outputs": [
    {
     "name": "stdout",
     "output_type": "stream",
     "text": [
      "0.1.30+17.g71ae258.dirty\n"
     ]
    }
   ],
   "source": [
    "%config InlineBackend.figure_format='retina'\n",
    "import logging\n",
    "from ekorpkit import eKonf\n",
    "\n",
    "logging.basicConfig(level=logging.INFO)\n",
    "\n",
    "print(eKonf.__version__)"
   ]
  },
  {
   "cell_type": "markdown",
   "metadata": {
    "id": "pzjBtQqpnqcy"
   },
   "source": [
    "## Preparing `finsent_kr` dataset"
   ]
  },
  {
   "cell_type": "code",
   "execution_count": 2,
   "metadata": {
    "colab": {
     "base_uri": "https://localhost:8080/",
     "height": 659
    },
    "id": "RdpBCIbBny8z",
    "outputId": "f655ea5b-5afb-43a1-cfec-7df3e6d32d92"
   },
   "outputs": [
    {
     "name": "stderr",
     "output_type": "stream",
     "text": [
      "INFO:ekorpkit.datasets.loader:processing analystsent_kr\n",
      "INFO:ekorpkit.io.file:Loading data from /workspace/data/datasets/simple/analystsent_kr/analystsent_kr-train.csv\n",
      "INFO:ekorpkit.info.base:Added split column [split] with value [train]\n",
      "INFO:ekorpkit.io.file:Loading data from /workspace/data/datasets/simple/analystsent_kr/analystsent_kr-test.csv\n",
      "INFO:ekorpkit.info.base:Added split column [split] with value [test]\n",
      "INFO:ekorpkit.io.file:Loading data from /workspace/data/datasets/simple/analystsent_kr/analystsent_kr-dev.csv\n",
      "INFO:ekorpkit.info.base:Added split column [split] with value [dev]\n",
      "INFO:ekorpkit.datasets.loader:processing finphrase_kr\n",
      "INFO:ekorpkit.io.file:Loading data from /workspace/data/datasets/simple/finphrase_kr/finphrase_kr-train.csv\n",
      "INFO:ekorpkit.info.base:Added split column [split] with value [train]\n",
      "INFO:ekorpkit.io.file:Loading data from /workspace/data/datasets/simple/finphrase_kr/finphrase_kr-test.csv\n",
      "INFO:ekorpkit.info.base:Added split column [split] with value [test]\n",
      "INFO:ekorpkit.io.file:Loading data from /workspace/data/datasets/simple/finphrase_kr/finphrase_kr-dev.csv\n",
      "INFO:ekorpkit.info.base:Added split column [split] with value [dev]\n",
      "INFO:ekorpkit.datasets.loader:>>> Elapsed time: 0:00:00.175827 <<< \n",
      "INFO:ekorpkit.ekonf:Calling load\n",
      "INFO:ekorpkit.ekonf:Calling concatenate\n",
      "INFO:ekorpkit.info.base:Added dataset column [dataset] with value [analystsent_kr]\n",
      "INFO:ekorpkit.info.base:Added dataset column [dataset] with value [finphrase_kr]\n",
      "INFO:ekorpkit.info.base:Added dataset column [dataset] with value [analystsent_kr]\n",
      "INFO:ekorpkit.info.base:Added dataset column [dataset] with value [finphrase_kr]\n",
      "INFO:ekorpkit.info.base:Added dataset column [dataset] with value [analystsent_kr]\n",
      "INFO:ekorpkit.info.base:Added dataset column [dataset] with value [finphrase_kr]\n"
     ]
    }
   ],
   "source": [
    "from ekorpkit import eKonf\n",
    "\n",
    "ds_cfg = eKonf.compose(config_group='dataset=simple_auto')\n",
    "ds_cfg.name = 'finsent_kr'\n",
    "ds_cfg.datasets = ['analystsent_kr', 'finphrase_kr']\n",
    "ds_cfg.data_dir = '/workspace/data/datasets/simple'\n",
    "ds = eKonf.instantiate(ds_cfg)"
   ]
  },
  {
   "cell_type": "code",
   "execution_count": 3,
   "metadata": {},
   "outputs": [
    {
     "data": {
      "text/plain": [
       "{'keys': {'id': 'id',\n",
       "  'text': 'text',\n",
       "  'timestamp': 'timestamp',\n",
       "  'split': 'split',\n",
       "  '_id': '_id',\n",
       "  'corpus': 'corpus',\n",
       "  'dataset': 'dataset'},\n",
       " 'columns': {'id': 'id',\n",
       "  'text': 'text',\n",
       "  'merge_meta_on': None,\n",
       "  'timestamp': None},\n",
       " 'data': {'text': 'object',\n",
       "  'labels': 'object',\n",
       "  'split': 'object',\n",
       "  'id': 'int64',\n",
       "  'dataset': 'str'},\n",
       " 'meta': None,\n",
       " 'timestamp': {'key': None, 'format': None, '_parms_': None},\n",
       " 'datetime': {'key': None, 'format': None, '_parms_': None},\n",
       " 'segment_separator': '\\\\n\\\\n',\n",
       " 'sentence_separator': '\\\\n'}"
      ]
     },
     "execution_count": 3,
     "metadata": {},
     "output_type": "execute_result"
    }
   ],
   "source": [
    "ds.COLUMN.INFO"
   ]
  },
  {
   "cell_type": "markdown",
   "metadata": {
    "id": "3uhF3cDynUuj",
    "outputId": "a50d12e1-9ab3-4496-af54-cae58051f1ed"
   },
   "source": [
    "## Training a polarity classficiation model with `finsent_kr` dataset"
   ]
  },
  {
   "cell_type": "code",
   "execution_count": 5,
   "metadata": {
    "id": "i9__LTKOnUuj"
   },
   "outputs": [
    {
     "name": "stderr",
     "output_type": "stream",
     "text": [
      "INFO:ekorpkit.ekonf:Calling train\n",
      "INFO:ekorpkit.datasets.loader:processing analystsent_kr\n",
      "INFO:ekorpkit.io.file:Loading data from /workspace/data/datasets/simple/analystsent_kr/analystsent_kr-train.csv\n",
      "INFO:ekorpkit.info.base:Added split column [split] with value [train]\n",
      "INFO:ekorpkit.io.file:Loading data from /workspace/data/datasets/simple/analystsent_kr/analystsent_kr-test.csv\n",
      "INFO:ekorpkit.info.base:Added split column [split] with value [test]\n",
      "INFO:ekorpkit.io.file:Loading data from /workspace/data/datasets/simple/analystsent_kr/analystsent_kr-dev.csv\n",
      "INFO:ekorpkit.info.base:Added split column [split] with value [dev]\n",
      "INFO:ekorpkit.datasets.loader:processing finphrase_kr\n",
      "INFO:ekorpkit.io.file:Loading data from /workspace/data/datasets/simple/finphrase_kr/finphrase_kr-train.csv\n",
      "INFO:ekorpkit.info.base:Added split column [split] with value [train]\n",
      "INFO:ekorpkit.io.file:Loading data from /workspace/data/datasets/simple/finphrase_kr/finphrase_kr-test.csv\n",
      "INFO:ekorpkit.info.base:Added split column [split] with value [test]\n",
      "INFO:ekorpkit.io.file:Loading data from /workspace/data/datasets/simple/finphrase_kr/finphrase_kr-dev.csv\n",
      "INFO:ekorpkit.info.base:Added split column [split] with value [dev]\n",
      "INFO:ekorpkit.datasets.loader:>>> Elapsed time: 0:00:00.134469 <<< \n",
      "INFO:ekorpkit.ekonf:Calling load\n",
      "INFO:ekorpkit.ekonf:Calling concatenate\n",
      "INFO:ekorpkit.info.base:Added dataset column [dataset] with value [analystsent_kr]\n",
      "INFO:ekorpkit.info.base:Added dataset column [dataset] with value [finphrase_kr]\n",
      "INFO:ekorpkit.info.base:Added dataset column [dataset] with value [analystsent_kr]\n",
      "INFO:ekorpkit.info.base:Added dataset column [dataset] with value [finphrase_kr]\n",
      "INFO:ekorpkit.info.base:Added dataset column [dataset] with value [analystsent_kr]\n",
      "INFO:ekorpkit.info.base:Added dataset column [dataset] with value [finphrase_kr]\n",
      "Some weights of the model checkpoint at entelecheia/ekonelectra-base-discriminator were not used when initializing ElectraForSequenceClassification: ['discriminator_predictions.dense_prediction.weight', 'discriminator_predictions.dense.bias', 'discriminator_predictions.dense.weight', 'discriminator_predictions.dense_prediction.bias']\n",
      "- This IS expected if you are initializing ElectraForSequenceClassification from the checkpoint of a model trained on another task or with another architecture (e.g. initializing a BertForSequenceClassification model from a BertForPreTraining model).\n",
      "- This IS NOT expected if you are initializing ElectraForSequenceClassification from the checkpoint of a model that you expect to be exactly identical (initializing a BertForSequenceClassification model from a BertForSequenceClassification model).\n",
      "Some weights of ElectraForSequenceClassification were not initialized from the model checkpoint at entelecheia/ekonelectra-base-discriminator and are newly initialized: ['classifier.out_proj.bias', 'classifier.out_proj.weight', 'classifier.dense.weight', 'classifier.dense.bias']\n",
      "You should probably TRAIN this model on a down-stream task to be able to use it for predictions and inference.\n",
      "INFO:simpletransformers.classification.classification_model: Converting to features started. Cache is not used.\n",
      "INFO:simpletransformers.classification.classification_model: Sliding window enabled\n"
     ]
    },
    {
     "data": {
      "application/vnd.jupyter.widget-view+json": {
       "model_id": "efc9a1db414a42a1ac2b291e70f95707",
       "version_major": 2,
       "version_minor": 0
      },
      "text/plain": [
       "  0%|          | 0/11372 [00:00<?, ?it/s]"
      ]
     },
     "metadata": {},
     "output_type": "display_data"
    },
    {
     "name": "stderr",
     "output_type": "stream",
     "text": [
      "INFO:simpletransformers.classification.classification_model: 11372 features created from 11372 samples.\n"
     ]
    },
    {
     "data": {
      "application/vnd.jupyter.widget-view+json": {
       "model_id": "e17a32d29e8f410285473510b8857623",
       "version_major": 2,
       "version_minor": 0
      },
      "text/plain": [
       "Epoch:   0%|          | 0/2 [00:00<?, ?it/s]"
      ]
     },
     "metadata": {},
     "output_type": "display_data"
    },
    {
     "name": "stderr",
     "output_type": "stream",
     "text": [
      "INFO:simpletransformers.classification.classification_model: Initializing WandB run for training.\n"
     ]
    },
    {
     "data": {
      "text/html": [
       "Finishing last run (ID:3mx5pge6) before initializing another..."
      ],
      "text/plain": [
       "<IPython.core.display.HTML object>"
      ]
     },
     "metadata": {},
     "output_type": "display_data"
    },
    {
     "data": {
      "text/html": [
       "Waiting for W&B process to finish... <strong style=\"color:green\">(success).</strong>"
      ],
      "text/plain": [
       "<IPython.core.display.HTML object>"
      ]
     },
     "metadata": {},
     "output_type": "display_data"
    },
    {
     "data": {
      "application/vnd.jupyter.widget-view+json": {
       "model_id": "",
       "version_major": 2,
       "version_minor": 0
      },
      "text/plain": [
       "VBox(children=(Label(value='0.002 MB of 0.002 MB uploaded (0.000 MB deduped)\\r'), FloatProgress(value=1.0, max…"
      ]
     },
     "metadata": {},
     "output_type": "display_data"
    },
    {
     "data": {
      "text/html": [
       "Synced <strong style=\"color:#cdcd00\">super-sound-2</strong>: <a href=\"https://wandb.ai/entelecheia/esgml-esg_plarity/runs/3mx5pge6\" target=\"_blank\">https://wandb.ai/entelecheia/esgml-esg_plarity/runs/3mx5pge6</a><br/>Synced 5 W&B file(s), 1 media file(s), 1 artifact file(s) and 0 other file(s)"
      ],
      "text/plain": [
       "<IPython.core.display.HTML object>"
      ]
     },
     "metadata": {},
     "output_type": "display_data"
    },
    {
     "data": {
      "text/html": [
       "Find logs at: <code>/workspace/projects/esgml/outputs/esgml-esg_plarity/ekonelectra-base/wandb/run-20220528_060612-3mx5pge6/logs</code>"
      ],
      "text/plain": [
       "<IPython.core.display.HTML object>"
      ]
     },
     "metadata": {},
     "output_type": "display_data"
    },
    {
     "data": {
      "text/html": [
       "Successfully finished last run (ID:3mx5pge6). Initializing new run:<br/>"
      ],
      "text/plain": [
       "<IPython.core.display.HTML object>"
      ]
     },
     "metadata": {},
     "output_type": "display_data"
    },
    {
     "data": {
      "text/html": [
       "wandb version 0.12.17 is available!  To upgrade, please run:\n",
       " $ pip install wandb --upgrade"
      ],
      "text/plain": [
       "<IPython.core.display.HTML object>"
      ]
     },
     "metadata": {},
     "output_type": "display_data"
    },
    {
     "data": {
      "text/html": [
       "Tracking run with wandb version 0.12.16"
      ],
      "text/plain": [
       "<IPython.core.display.HTML object>"
      ]
     },
     "metadata": {},
     "output_type": "display_data"
    },
    {
     "data": {
      "text/html": [
       "Run data is saved locally in <code>/workspace/projects/esgml/outputs/esgml-esg_polarity/ekonelectra-base/wandb/run-20220528_060646-23ygz0br</code>"
      ],
      "text/plain": [
       "<IPython.core.display.HTML object>"
      ]
     },
     "metadata": {},
     "output_type": "display_data"
    },
    {
     "data": {
      "text/html": [
       "Syncing run <strong><a href=\"https://wandb.ai/entelecheia/esgml-esg_polarity/runs/23ygz0br\" target=\"_blank\">crimson-feather-1</a></strong> to <a href=\"https://wandb.ai/entelecheia/esgml-esg_polarity\" target=\"_blank\">Weights & Biases</a> (<a href=\"https://wandb.me/run\" target=\"_blank\">docs</a>)<br/>"
      ],
      "text/plain": [
       "<IPython.core.display.HTML object>"
      ]
     },
     "metadata": {},
     "output_type": "display_data"
    },
    {
     "data": {
      "application/vnd.jupyter.widget-view+json": {
       "model_id": "0d657bfbe2ef4fb5b6fabaabc4f789d6",
       "version_major": 2,
       "version_minor": 0
      },
      "text/plain": [
       "Running Epoch 0 of 2:   0%|          | 0/356 [00:00<?, ?it/s]"
      ]
     },
     "metadata": {},
     "output_type": "display_data"
    },
    {
     "name": "stderr",
     "output_type": "stream",
     "text": [
      "INFO:simpletransformers.classification.classification_model: Converting to features started. Cache is not used.\n",
      "INFO:simpletransformers.classification.classification_model: Sliding window enabled\n",
      "INFO:simpletransformers.classification.classification_model: 2844 features created from 2844 samples.\n",
      "INFO:simpletransformers.classification.classification_model:{'mcc': 0.65882829309258, 'acc': 0.8407172995780591, 'eval_loss': 0.3738481896312049}\n"
     ]
    },
    {
     "data": {
      "application/vnd.jupyter.widget-view+json": {
       "model_id": "601c26200cce418392566b07eab026a1",
       "version_major": 2,
       "version_minor": 0
      },
      "text/plain": [
       "Running Epoch 1 of 2:   0%|          | 0/356 [00:00<?, ?it/s]"
      ]
     },
     "metadata": {},
     "output_type": "display_data"
    },
    {
     "name": "stderr",
     "output_type": "stream",
     "text": [
      "INFO:simpletransformers.classification.classification_model: Converting to features started. Cache is not used.\n",
      "INFO:simpletransformers.classification.classification_model: Sliding window enabled\n",
      "INFO:simpletransformers.classification.classification_model: 2844 features created from 2844 samples.\n",
      "INFO:simpletransformers.classification.classification_model:{'mcc': 0.6730669413393736, 'acc': 0.8484528832630098, 'eval_loss': 0.37974044555023817}\n",
      "INFO:simpletransformers.classification.classification_model: Training of electra model complete. Saved to /workspace/projects/esgml/outputs/esgml-esg_polarity/ekonelectra-base.\n",
      "INFO:simpletransformers.classification.classification_model: Converting to features started. Cache is not used.\n",
      "INFO:simpletransformers.classification.classification_model: Sliding window enabled\n"
     ]
    },
    {
     "data": {
      "application/vnd.jupyter.widget-view+json": {
       "model_id": "4e21f32dfe0e42eba0aaa8d1b5cf08dd",
       "version_major": 2,
       "version_minor": 0
      },
      "text/plain": [
       "  0%|          | 0/3555 [00:00<?, ?it/s]"
      ]
     },
     "metadata": {},
     "output_type": "display_data"
    },
    {
     "name": "stderr",
     "output_type": "stream",
     "text": [
      "INFO:simpletransformers.classification.classification_model: 3555 features created from 3555 samples.\n"
     ]
    },
    {
     "data": {
      "application/vnd.jupyter.widget-view+json": {
       "model_id": "e1e2353d27ee450e8f0f9bb741acc442",
       "version_major": 2,
       "version_minor": 0
      },
      "text/plain": [
       "Running Evaluation:   0%|          | 0/112 [00:00<?, ?it/s]"
      ]
     },
     "metadata": {},
     "output_type": "display_data"
    },
    {
     "name": "stderr",
     "output_type": "stream",
     "text": [
      "INFO:simpletransformers.classification.classification_model: Initializing WandB run for evaluation.\n"
     ]
    },
    {
     "data": {
      "text/html": [
       "Finishing last run (ID:23ygz0br) before initializing another..."
      ],
      "text/plain": [
       "<IPython.core.display.HTML object>"
      ]
     },
     "metadata": {},
     "output_type": "display_data"
    },
    {
     "data": {
      "text/html": [
       "Waiting for W&B process to finish... <strong style=\"color:green\">(success).</strong>"
      ],
      "text/plain": [
       "<IPython.core.display.HTML object>"
      ]
     },
     "metadata": {},
     "output_type": "display_data"
    },
    {
     "data": {
      "application/vnd.jupyter.widget-view+json": {
       "model_id": "",
       "version_major": 2,
       "version_minor": 0
      },
      "text/plain": [
       "VBox(children=(Label(value='0.001 MB of 0.001 MB uploaded (0.000 MB deduped)\\r'), FloatProgress(value=1.0, max…"
      ]
     },
     "metadata": {},
     "output_type": "display_data"
    },
    {
     "data": {
      "text/html": [
       "<style>\n",
       "    table.wandb td:nth-child(1) { padding: 0 10px; text-align: left ; width: auto;} td:nth-child(2) {text-align: left ; width: 100%}\n",
       "    .wandb-row { display: flex; flex-direction: row; flex-wrap: wrap; justify-content: flex-start; width: 100% }\n",
       "    .wandb-col { display: flex; flex-direction: column; flex-basis: 100%; flex: 1; padding: 10px; }\n",
       "    </style>\n",
       "<div class=\"wandb-row\"><div class=\"wandb-col\"><h3>Run history:</h3><br/><table class=\"wandb\"><tr><td>Training loss</td><td>▆█▄▄▄▃▄▃▂▃▁▄▃▃</td></tr><tr><td>acc</td><td>▁█</td></tr><tr><td>eval_loss</td><td>▁█</td></tr><tr><td>global_step</td><td>▁▂▂▃▃▄▄▄▅▅▆▆▇▇██</td></tr><tr><td>lr</td><td>█▇▇▆▆▅▅▄▄▃▃▂▂▁</td></tr><tr><td>mcc</td><td>▁█</td></tr><tr><td>train_loss</td><td>█▁</td></tr></table><br/></div><div class=\"wandb-col\"><h3>Run summary:</h3><br/><table class=\"wandb\"><tr><td>Training loss</td><td>0.34802</td></tr><tr><td>acc</td><td>0.84845</td></tr><tr><td>eval_loss</td><td>0.37974</td></tr><tr><td>global_step</td><td>712</td></tr><tr><td>lr</td><td>0.0</td></tr><tr><td>mcc</td><td>0.67307</td></tr><tr><td>train_loss</td><td>0.2471</td></tr></table><br/></div></div>"
      ],
      "text/plain": [
       "<IPython.core.display.HTML object>"
      ]
     },
     "metadata": {},
     "output_type": "display_data"
    },
    {
     "data": {
      "text/html": [
       "Synced <strong style=\"color:#cdcd00\">crimson-feather-1</strong>: <a href=\"https://wandb.ai/entelecheia/esgml-esg_polarity/runs/23ygz0br\" target=\"_blank\">https://wandb.ai/entelecheia/esgml-esg_polarity/runs/23ygz0br</a><br/>Synced 5 W&B file(s), 0 media file(s), 0 artifact file(s) and 0 other file(s)"
      ],
      "text/plain": [
       "<IPython.core.display.HTML object>"
      ]
     },
     "metadata": {},
     "output_type": "display_data"
    },
    {
     "data": {
      "text/html": [
       "Find logs at: <code>/workspace/projects/esgml/outputs/esgml-esg_polarity/ekonelectra-base/wandb/run-20220528_060646-23ygz0br/logs</code>"
      ],
      "text/plain": [
       "<IPython.core.display.HTML object>"
      ]
     },
     "metadata": {},
     "output_type": "display_data"
    },
    {
     "data": {
      "text/html": [
       "Successfully finished last run (ID:23ygz0br). Initializing new run:<br/>"
      ],
      "text/plain": [
       "<IPython.core.display.HTML object>"
      ]
     },
     "metadata": {},
     "output_type": "display_data"
    },
    {
     "data": {
      "text/html": [
       "wandb version 0.12.17 is available!  To upgrade, please run:\n",
       " $ pip install wandb --upgrade"
      ],
      "text/plain": [
       "<IPython.core.display.HTML object>"
      ]
     },
     "metadata": {},
     "output_type": "display_data"
    },
    {
     "data": {
      "text/html": [
       "Tracking run with wandb version 0.12.16"
      ],
      "text/plain": [
       "<IPython.core.display.HTML object>"
      ]
     },
     "metadata": {},
     "output_type": "display_data"
    },
    {
     "data": {
      "text/html": [
       "Run data is saved locally in <code>/workspace/projects/esgml/outputs/esgml-esg_polarity/ekonelectra-base/wandb/run-20220528_060841-33g4puva</code>"
      ],
      "text/plain": [
       "<IPython.core.display.HTML object>"
      ]
     },
     "metadata": {},
     "output_type": "display_data"
    },
    {
     "data": {
      "text/html": [
       "Syncing run <strong><a href=\"https://wandb.ai/entelecheia/esgml-esg_polarity/runs/33g4puva\" target=\"_blank\">playful-yogurt-2</a></strong> to <a href=\"https://wandb.ai/entelecheia/esgml-esg_polarity\" target=\"_blank\">Weights & Biases</a> (<a href=\"https://wandb.me/run\" target=\"_blank\">docs</a>)<br/>"
      ],
      "text/plain": [
       "<IPython.core.display.HTML object>"
      ]
     },
     "metadata": {},
     "output_type": "display_data"
    },
    {
     "name": "stderr",
     "output_type": "stream",
     "text": [
      "INFO:simpletransformers.classification.classification_model:{'mcc': 0.6552988163412943, 'acc': 0.8388185654008439, 'eval_loss': 0.3973076745335545}\n"
     ]
    },
    {
     "data": {
      "text/plain": [
       "<ekorpkit.models.transformer.simple.SimpleClassification at 0x7faab979c610>"
      ]
     },
     "execution_count": 5,
     "metadata": {},
     "output_type": "execute_result"
    }
   ],
   "source": [
    "overrides=[\n",
    "    '+model/transformer=simple_classification',\n",
    "    '+model/transformer/pretrained=ekonelectra-base',\n",
    "]\n",
    "model_cfg = eKonf.compose(overrides=overrides, config_group='model/transformer=simple_classification')\n",
    "model_cfg.name = \"esg_polarity\"\n",
    "model_cfg.dataset = ds_cfg\n",
    "model_cfg.verbose = False\n",
    "model_cfg.config.num_train_epochs = 2\n",
    "model_cfg.config.max_seq_length = 256\n",
    "model_cfg.config.train_batch_size = 32\n",
    "model_cfg.config.eval_batch_size = 32\n",
    "model_cfg.labels = ['positive','neutral','negative']\n",
    "model_cfg._method_ = ['train']\n",
    "eKonf.instantiate(model_cfg)"
   ]
  },
  {
   "cell_type": "code",
   "execution_count": 4,
   "metadata": {},
   "outputs": [
    {
     "name": "stderr",
     "output_type": "stream",
     "text": [
      "INFO:ekorpkit.ekonf:Calling eval\n",
      "INFO:ekorpkit.datasets.loader:processing analystsent_kr\n",
      "INFO:ekorpkit.io.file:Loading data from /workspace/data/datasets/simple/analystsent_kr/analystsent_kr-train.csv\n",
      "INFO:ekorpkit.info.base:Added split column [split] with value [train]\n",
      "INFO:ekorpkit.io.file:Loading data from /workspace/data/datasets/simple/analystsent_kr/analystsent_kr-test.csv\n",
      "INFO:ekorpkit.info.base:Added split column [split] with value [test]\n",
      "INFO:ekorpkit.io.file:Loading data from /workspace/data/datasets/simple/analystsent_kr/analystsent_kr-dev.csv\n",
      "INFO:ekorpkit.info.base:Added split column [split] with value [dev]\n",
      "INFO:ekorpkit.datasets.loader:processing finphrase_kr\n",
      "INFO:ekorpkit.io.file:Loading data from /workspace/data/datasets/simple/finphrase_kr/finphrase_kr-train.csv\n",
      "INFO:ekorpkit.info.base:Added split column [split] with value [train]\n",
      "INFO:ekorpkit.io.file:Loading data from /workspace/data/datasets/simple/finphrase_kr/finphrase_kr-test.csv\n",
      "INFO:ekorpkit.info.base:Added split column [split] with value [test]\n",
      "INFO:ekorpkit.io.file:Loading data from /workspace/data/datasets/simple/finphrase_kr/finphrase_kr-dev.csv\n",
      "INFO:ekorpkit.info.base:Added split column [split] with value [dev]\n",
      "INFO:ekorpkit.datasets.loader:>>> Elapsed time: 0:00:00.134316 <<< \n",
      "INFO:ekorpkit.ekonf:Calling load\n",
      "INFO:ekorpkit.ekonf:Calling concatenate\n",
      "INFO:ekorpkit.info.base:Added dataset column [dataset] with value [analystsent_kr]\n",
      "INFO:ekorpkit.info.base:Added dataset column [dataset] with value [finphrase_kr]\n",
      "INFO:ekorpkit.info.base:Added dataset column [dataset] with value [analystsent_kr]\n",
      "INFO:ekorpkit.info.base:Added dataset column [dataset] with value [finphrase_kr]\n",
      "INFO:ekorpkit.info.base:Added dataset column [dataset] with value [analystsent_kr]\n",
      "INFO:ekorpkit.info.base:Added dataset column [dataset] with value [finphrase_kr]\n",
      "INFO:ekorpkit.models.transformer.simple:Loaded model from /workspace/projects/esgml/outputs/esgml-esg_polarity/ekonelectra-base/best_model\n",
      "INFO:simpletransformers.classification.classification_model: Converting to features started. Cache is not used.\n",
      "INFO:simpletransformers.classification.classification_model: Sliding window enabled\n"
     ]
    },
    {
     "data": {
      "application/vnd.jupyter.widget-view+json": {
       "model_id": "4fb33d532025443caa3cf331287f2bbd",
       "version_major": 2,
       "version_minor": 0
      },
      "text/plain": [
       "  0%|          | 0/3555 [00:00<?, ?it/s]"
      ]
     },
     "metadata": {},
     "output_type": "display_data"
    },
    {
     "name": "stderr",
     "output_type": "stream",
     "text": [
      "INFO:simpletransformers.classification.classification_model: 3555 features created from 3555 samples.\n"
     ]
    },
    {
     "data": {
      "application/vnd.jupyter.widget-view+json": {
       "model_id": "e099229b56b34c2b92a4fedadd9eb696",
       "version_major": 2,
       "version_minor": 0
      },
      "text/plain": [
       "  0%|          | 0/112 [00:00<?, ?it/s]"
      ]
     },
     "metadata": {},
     "output_type": "display_data"
    },
    {
     "name": "stderr",
     "output_type": "stream",
     "text": [
      "INFO:ekorpkit.models.transformer.simple:type of raw_outputs: <class 'list'>\n",
      "INFO:ekorpkit.models.transformer.simple:raw_output: [1.0614229440689087, 1.3390781879425049, -2.543381690979004]\n",
      "INFO:ekorpkit.io.file:Saving dataframe as /workspace/projects/esgml/outputs/esgml-esg_polarity/ekonelectra-base/predictions/esg_polarity_test_predictions.parquet\n"
     ]
    },
    {
     "name": "stdout",
     "output_type": "stream",
     "text": [
      "Accuracy:  0.8323488045007033\n",
      "Precison:  0.8309464506360114\n",
      "Recall:  0.8323488045007033\n",
      "F1 Score:  0.8315852036083365\n",
      "Model Report: \n",
      "___________________________________________________\n",
      "              precision    recall  f1-score   support\n",
      "\n",
      "    negative       0.80      0.79      0.80       446\n",
      "     neutral       0.88      0.89      0.88      2459\n",
      "    positive       0.68      0.65      0.67       650\n",
      "\n",
      "    accuracy                           0.83      3555\n",
      "   macro avg       0.78      0.78      0.78      3555\n",
      "weighted avg       0.83      0.83      0.83      3555\n",
      "\n"
     ]
    },
    {
     "name": "stderr",
     "output_type": "stream",
     "text": [
      "INFO:ekorpkit.visualize.classification:Confusion matrix: {'_func_': 'confusion_matrix', 'axno': 0, 'secondary_y': False, 'secondary_to': 0, 'display_labels': ['positive', 'neutral', 'negative'], 'matrix_labels': None, 'include_values': True, 'include_percentages': True, 'summary_stats': True, '_parms_': {'cbar': True, 'cmap': 'Blues'}, 'figure': {'xlabel': 'Predicted label', 'ylabel': 'Actual label'}}\n",
      "WARNING:matplotlib.font_manager:findfont: Font family ['NanumGothic'] not found. Falling back to DejaVu Sans.\n",
      "INFO:ekorpkit.visualize.plot:Saved figure to /workspace/projects/esgml/outputs/esgml-esg_polarity/ekonelectra-base/predictions/confusion_matrix.png\n"
     ]
    },
    {
     "data": {
      "text/plain": [
       "<ekorpkit.models.transformer.simple.SimpleClassification at 0x7fcd89de34f0>"
      ]
     },
     "execution_count": 4,
     "metadata": {},
     "output_type": "execute_result"
    },
    {
     "data": {
      "image/png": "[encoded data removed]",
      "text/plain": [
       "<Figure size 720x360 with 2 Axes>"
      ]
     },
     "metadata": {
      "image/png": {
       "height": 348,
       "width": 657
      }
     },
     "output_type": "display_data"
    }
   ],
   "source": [
    "overrides=[\n",
    "    '+model/transformer=simple_classification',\n",
    "    '+model/transformer/pretrained=ekonelectra-base',\n",
    "]\n",
    "model_cfg = eKonf.compose(overrides=overrides, config_group='model/transformer=simple_classification')\n",
    "model_cfg.name = \"esg_polarity\"\n",
    "model_cfg.dataset = ds_cfg\n",
    "model_cfg.verbose = False\n",
    "model_cfg.config.num_train_epochs = 2\n",
    "model_cfg.config.max_seq_length = 256\n",
    "model_cfg.config.train_batch_size = 32\n",
    "model_cfg.config.eval_batch_size = 32\n",
    "model_cfg.labels = ['positive','neutral','negative']\n",
    "model_cfg._method_ = ['eval']\n",
    "eKonf.instantiate(model_cfg)"
   ]
  },
  {
   "cell_type": "markdown",
   "metadata": {},
   "source": [
    "## Preparing `esg_topics` dataset"
   ]
  },
  {
   "cell_type": "code",
   "execution_count": 2,
   "metadata": {},
   "outputs": [
    {
     "name": "stderr",
     "output_type": "stream",
     "text": [
      "INFO:ekorpkit.io.file:Loading data from /workspace/data/datasets/simple/esg_topics/esg_topics-train.csv\n",
      "INFO:ekorpkit.info.base:Added split column [split] with value [train]\n",
      "INFO:ekorpkit.io.file:Loading data from /workspace/data/datasets/simple/esg_topics/esg_topics-test.csv\n",
      "INFO:ekorpkit.info.base:Added split column [split] with value [test]\n",
      "INFO:ekorpkit.io.file:Loading data from /workspace/data/datasets/simple/esg_topics/esg_topics-dev.csv\n",
      "INFO:ekorpkit.info.base:Added split column [split] with value [dev]\n"
     ]
    },
    {
     "name": "stdout",
     "output_type": "stream",
     "text": [
      "['S-기업(공급망)동반성장/상생', 'G-지배구조', 'G-기업윤리/불공정/소송', 'G-주주환원', 'S-소비자', 'E-신재생에너지 발전', 'S-사회공헌', 'S-기술혁신', 'S-인적자본', 'E-환경영향', 'E-기후변화', 'S-산업재해/안전관리', 'G-정보공시', 'E-환경혁신', 'S-노조/노사', 'E-원자력발전']\n"
     ]
    }
   ],
   "source": [
    "from ekorpkit import eKonf\n",
    "\n",
    "ds_cfg = eKonf.compose(config_group='dataset')\n",
    "ds_cfg.name = 'esg_topics'\n",
    "ds_cfg.data_dir = '/workspace/data/datasets/simple'\n",
    "ds = eKonf.instantiate(ds_cfg)\n",
    "labels = list(ds.splits['train'].labels.unique())\n",
    "print(labels)"
   ]
  },
  {
   "cell_type": "markdown",
   "metadata": {},
   "source": [
    "## Training a category classficiation model with `esg_topics` dataset"
   ]
  },
  {
   "cell_type": "code",
   "execution_count": 9,
   "metadata": {},
   "outputs": [
    {
     "name": "stderr",
     "output_type": "stream",
     "text": [
      "INFO:ekorpkit.ekonf:Calling train\n",
      "INFO:ekorpkit.io.file:Loading data from /workspace/data/datasets/simple/esg_topics/esg_topics-train.csv\n",
      "INFO:ekorpkit.info.base:Added split column [split] with value [train]\n",
      "INFO:ekorpkit.io.file:Loading data from /workspace/data/datasets/simple/esg_topics/esg_topics-test.csv\n",
      "INFO:ekorpkit.info.base:Added split column [split] with value [test]\n",
      "INFO:ekorpkit.io.file:Loading data from /workspace/data/datasets/simple/esg_topics/esg_topics-dev.csv\n",
      "INFO:ekorpkit.info.base:Added split column [split] with value [dev]\n",
      "Some weights of the model checkpoint at entelecheia/ekonelectra-base-discriminator were not used when initializing ElectraForSequenceClassification: ['discriminator_predictions.dense_prediction.weight', 'discriminator_predictions.dense.bias', 'discriminator_predictions.dense.weight', 'discriminator_predictions.dense_prediction.bias']\n",
      "- This IS expected if you are initializing ElectraForSequenceClassification from the checkpoint of a model trained on another task or with another architecture (e.g. initializing a BertForSequenceClassification model from a BertForPreTraining model).\n",
      "- This IS NOT expected if you are initializing ElectraForSequenceClassification from the checkpoint of a model that you expect to be exactly identical (initializing a BertForSequenceClassification model from a BertForSequenceClassification model).\n",
      "Some weights of ElectraForSequenceClassification were not initialized from the model checkpoint at entelecheia/ekonelectra-base-discriminator and are newly initialized: ['classifier.out_proj.bias', 'classifier.out_proj.weight', 'classifier.dense.weight', 'classifier.dense.bias']\n",
      "You should probably TRAIN this model on a down-stream task to be able to use it for predictions and inference.\n",
      "INFO:simpletransformers.classification.classification_model: Converting to features started. Cache is not used.\n",
      "INFO:simpletransformers.classification.classification_model: Sliding window enabled\n"
     ]
    },
    {
     "data": {
      "application/vnd.jupyter.widget-view+json": {
       "model_id": "836998dd8f4546d584f8de82a9423be3",
       "version_major": 2,
       "version_minor": 0
      },
      "text/plain": [
       "  0%|          | 0/10669 [00:00<?, ?it/s]"
      ]
     },
     "metadata": {},
     "output_type": "display_data"
    },
    {
     "name": "stderr",
     "output_type": "stream",
     "text": [
      "Token indices sequence length is longer than the specified maximum sequence length for this model (731 > 512). Running this sequence through the model will result in indexing errors\n",
      "INFO:simpletransformers.classification.classification_model: 11009 features created from 10669 samples.\n"
     ]
    },
    {
     "data": {
      "application/vnd.jupyter.widget-view+json": {
       "model_id": "72e1644c17094458a4c7d700d515df6f",
       "version_major": 2,
       "version_minor": 0
      },
      "text/plain": [
       "Epoch:   0%|          | 0/2 [00:00<?, ?it/s]"
      ]
     },
     "metadata": {},
     "output_type": "display_data"
    },
    {
     "name": "stderr",
     "output_type": "stream",
     "text": [
      "INFO:simpletransformers.classification.classification_model: Initializing WandB run for training.\n"
     ]
    },
    {
     "data": {
      "text/html": [
       "Finishing last run (ID:33g4puva) before initializing another..."
      ],
      "text/plain": [
       "<IPython.core.display.HTML object>"
      ]
     },
     "metadata": {},
     "output_type": "display_data"
    },
    {
     "data": {
      "text/html": [
       "Waiting for W&B process to finish... <strong style=\"color:green\">(success).</strong>"
      ],
      "text/plain": [
       "<IPython.core.display.HTML object>"
      ]
     },
     "metadata": {},
     "output_type": "display_data"
    },
    {
     "data": {
      "application/vnd.jupyter.widget-view+json": {
       "model_id": "",
       "version_major": 2,
       "version_minor": 0
      },
      "text/plain": [
       "VBox(children=(Label(value='0.002 MB of 0.002 MB uploaded (0.000 MB deduped)\\r'), FloatProgress(value=1.0, max…"
      ]
     },
     "metadata": {},
     "output_type": "display_data"
    },
    {
     "data": {
      "text/html": [
       "Synced <strong style=\"color:#cdcd00\">playful-yogurt-2</strong>: <a href=\"https://wandb.ai/entelecheia/esgml-esg_polarity/runs/33g4puva\" target=\"_blank\">https://wandb.ai/entelecheia/esgml-esg_polarity/runs/33g4puva</a><br/>Synced 5 W&B file(s), 1 media file(s), 1 artifact file(s) and 0 other file(s)"
      ],
      "text/plain": [
       "<IPython.core.display.HTML object>"
      ]
     },
     "metadata": {},
     "output_type": "display_data"
    },
    {
     "data": {
      "text/html": [
       "Find logs at: <code>/workspace/projects/esgml/outputs/esgml-esg_polarity/ekonelectra-base/wandb/run-20220528_060841-33g4puva/logs</code>"
      ],
      "text/plain": [
       "<IPython.core.display.HTML object>"
      ]
     },
     "metadata": {},
     "output_type": "display_data"
    },
    {
     "data": {
      "text/html": [
       "Successfully finished last run (ID:33g4puva). Initializing new run:<br/>"
      ],
      "text/plain": [
       "<IPython.core.display.HTML object>"
      ]
     },
     "metadata": {},
     "output_type": "display_data"
    },
    {
     "data": {
      "text/html": [
       "wandb version 0.12.17 is available!  To upgrade, please run:\n",
       " $ pip install wandb --upgrade"
      ],
      "text/plain": [
       "<IPython.core.display.HTML object>"
      ]
     },
     "metadata": {},
     "output_type": "display_data"
    },
    {
     "data": {
      "text/html": [
       "Tracking run with wandb version 0.12.16"
      ],
      "text/plain": [
       "<IPython.core.display.HTML object>"
      ]
     },
     "metadata": {},
     "output_type": "display_data"
    },
    {
     "data": {
      "text/html": [
       "Run data is saved locally in <code>/workspace/projects/esgml/outputs/esgml-esg_topics/ekonelectra-base/wandb/run-20220528_060919-1kh7bxpt</code>"
      ],
      "text/plain": [
       "<IPython.core.display.HTML object>"
      ]
     },
     "metadata": {},
     "output_type": "display_data"
    },
    {
     "data": {
      "text/html": [
       "Syncing run <strong><a href=\"https://wandb.ai/entelecheia/esgml-esg_topics/runs/1kh7bxpt\" target=\"_blank\">rural-sun-1</a></strong> to <a href=\"https://wandb.ai/entelecheia/esgml-esg_topics\" target=\"_blank\">Weights & Biases</a> (<a href=\"https://wandb.me/run\" target=\"_blank\">docs</a>)<br/>"
      ],
      "text/plain": [
       "<IPython.core.display.HTML object>"
      ]
     },
     "metadata": {},
     "output_type": "display_data"
    },
    {
     "data": {
      "application/vnd.jupyter.widget-view+json": {
       "model_id": "65c6a5dfeb8549e19a3fd34e88c34f7e",
       "version_major": 2,
       "version_minor": 0
      },
      "text/plain": [
       "Running Epoch 0 of 2:   0%|          | 0/345 [00:00<?, ?it/s]"
      ]
     },
     "metadata": {},
     "output_type": "display_data"
    },
    {
     "name": "stderr",
     "output_type": "stream",
     "text": [
      "INFO:simpletransformers.classification.classification_model: Converting to features started. Cache is not used.\n",
      "INFO:simpletransformers.classification.classification_model: Sliding window enabled\n",
      "INFO:simpletransformers.classification.classification_model: 1186 features created from 1186 samples.\n",
      "INFO:simpletransformers.classification.classification_model:{'mcc': 0.5975648704950577, 'acc': 0.633220910623946, 'eval_loss': 1.2704797481235706}\n"
     ]
    },
    {
     "data": {
      "application/vnd.jupyter.widget-view+json": {
       "model_id": "477e410308774116986d3be8b86948b0",
       "version_major": 2,
       "version_minor": 0
      },
      "text/plain": [
       "Running Epoch 1 of 2:   0%|          | 0/345 [00:00<?, ?it/s]"
      ]
     },
     "metadata": {},
     "output_type": "display_data"
    },
    {
     "name": "stderr",
     "output_type": "stream",
     "text": [
      "INFO:simpletransformers.classification.classification_model: Converting to features started. Cache is not used.\n",
      "INFO:simpletransformers.classification.classification_model: Sliding window enabled\n",
      "INFO:simpletransformers.classification.classification_model: 1186 features created from 1186 samples.\n",
      "INFO:simpletransformers.classification.classification_model:{'mcc': 0.6535361031149577, 'acc': 0.6838111298482293, 'eval_loss': 1.079894207025829}\n",
      "INFO:simpletransformers.classification.classification_model: Training of electra model complete. Saved to /workspace/projects/esgml/outputs/esgml-esg_topics/ekonelectra-base.\n",
      "INFO:simpletransformers.classification.classification_model: Converting to features started. Cache is not used.\n",
      "INFO:simpletransformers.classification.classification_model: Sliding window enabled\n"
     ]
    },
    {
     "data": {
      "application/vnd.jupyter.widget-view+json": {
       "model_id": "b4f0f9d13e2941519795f6279e57bd0e",
       "version_major": 2,
       "version_minor": 0
      },
      "text/plain": [
       "  0%|          | 0/1318 [00:00<?, ?it/s]"
      ]
     },
     "metadata": {},
     "output_type": "display_data"
    },
    {
     "name": "stderr",
     "output_type": "stream",
     "text": [
      "INFO:simpletransformers.classification.classification_model: 1318 features created from 1318 samples.\n"
     ]
    },
    {
     "data": {
      "application/vnd.jupyter.widget-view+json": {
       "model_id": "22e313549da940ca9623beac224e21d4",
       "version_major": 2,
       "version_minor": 0
      },
      "text/plain": [
       "Running Evaluation:   0%|          | 0/43 [00:00<?, ?it/s]"
      ]
     },
     "metadata": {},
     "output_type": "display_data"
    },
    {
     "name": "stderr",
     "output_type": "stream",
     "text": [
      "INFO:simpletransformers.classification.classification_model: Initializing WandB run for evaluation.\n"
     ]
    },
    {
     "data": {
      "text/html": [
       "Finishing last run (ID:1kh7bxpt) before initializing another..."
      ],
      "text/plain": [
       "<IPython.core.display.HTML object>"
      ]
     },
     "metadata": {},
     "output_type": "display_data"
    },
    {
     "data": {
      "text/html": [
       "Waiting for W&B process to finish... <strong style=\"color:green\">(success).</strong>"
      ],
      "text/plain": [
       "<IPython.core.display.HTML object>"
      ]
     },
     "metadata": {},
     "output_type": "display_data"
    },
    {
     "data": {
      "application/vnd.jupyter.widget-view+json": {
       "model_id": "",
       "version_major": 2,
       "version_minor": 0
      },
      "text/plain": [
       "VBox(children=(Label(value='0.001 MB of 0.001 MB uploaded (0.000 MB deduped)\\r'), FloatProgress(value=1.0, max…"
      ]
     },
     "metadata": {},
     "output_type": "display_data"
    },
    {
     "data": {
      "text/html": [
       "<style>\n",
       "    table.wandb td:nth-child(1) { padding: 0 10px; text-align: left ; width: auto;} td:nth-child(2) {text-align: left ; width: 100%}\n",
       "    .wandb-row { display: flex; flex-direction: row; flex-wrap: wrap; justify-content: flex-start; width: 100% }\n",
       "    .wandb-col { display: flex; flex-direction: column; flex-basis: 100%; flex: 1; padding: 10px; }\n",
       "    </style>\n",
       "<div class=\"wandb-row\"><div class=\"wandb-col\"><h3>Run history:</h3><br/><table class=\"wandb\"><tr><td>Training loss</td><td>█▆▅▄▄▃▃▃▂▃▃▁▃</td></tr><tr><td>acc</td><td>▁█</td></tr><tr><td>eval_loss</td><td>█▁</td></tr><tr><td>global_step</td><td>▁▂▂▃▃▄▄▄▅▅▆▆▇██</td></tr><tr><td>lr</td><td>█▇▇▆▆▅▅▄▃▃▂▂▁</td></tr><tr><td>mcc</td><td>▁█</td></tr><tr><td>train_loss</td><td>▁█</td></tr></table><br/></div><div class=\"wandb-col\"><h3>Run summary:</h3><br/><table class=\"wandb\"><tr><td>Training loss</td><td>1.22312</td></tr><tr><td>acc</td><td>0.68381</td></tr><tr><td>eval_loss</td><td>1.07989</td></tr><tr><td>global_step</td><td>690</td></tr><tr><td>lr</td><td>0.0</td></tr><tr><td>mcc</td><td>0.65354</td></tr><tr><td>train_loss</td><td>1.08579</td></tr></table><br/></div></div>"
      ],
      "text/plain": [
       "<IPython.core.display.HTML object>"
      ]
     },
     "metadata": {},
     "output_type": "display_data"
    },
    {
     "data": {
      "text/html": [
       "Synced <strong style=\"color:#cdcd00\">rural-sun-1</strong>: <a href=\"https://wandb.ai/entelecheia/esgml-esg_topics/runs/1kh7bxpt\" target=\"_blank\">https://wandb.ai/entelecheia/esgml-esg_topics/runs/1kh7bxpt</a><br/>Synced 5 W&B file(s), 0 media file(s), 0 artifact file(s) and 0 other file(s)"
      ],
      "text/plain": [
       "<IPython.core.display.HTML object>"
      ]
     },
     "metadata": {},
     "output_type": "display_data"
    },
    {
     "data": {
      "text/html": [
       "Find logs at: <code>/workspace/projects/esgml/outputs/esgml-esg_topics/ekonelectra-base/wandb/run-20220528_060919-1kh7bxpt/logs</code>"
      ],
      "text/plain": [
       "<IPython.core.display.HTML object>"
      ]
     },
     "metadata": {},
     "output_type": "display_data"
    },
    {
     "data": {
      "text/html": [
       "Successfully finished last run (ID:1kh7bxpt). Initializing new run:<br/>"
      ],
      "text/plain": [
       "<IPython.core.display.HTML object>"
      ]
     },
     "metadata": {},
     "output_type": "display_data"
    },
    {
     "data": {
      "text/html": [
       "wandb version 0.12.17 is available!  To upgrade, please run:\n",
       " $ pip install wandb --upgrade"
      ],
      "text/plain": [
       "<IPython.core.display.HTML object>"
      ]
     },
     "metadata": {},
     "output_type": "display_data"
    },
    {
     "data": {
      "text/html": [
       "Tracking run with wandb version 0.12.16"
      ],
      "text/plain": [
       "<IPython.core.display.HTML object>"
      ]
     },
     "metadata": {},
     "output_type": "display_data"
    },
    {
     "data": {
      "text/html": [
       "Run data is saved locally in <code>/workspace/projects/esgml/outputs/esgml-esg_topics/ekonelectra-base/wandb/run-20220528_061105-2m47k6xr</code>"
      ],
      "text/plain": [
       "<IPython.core.display.HTML object>"
      ]
     },
     "metadata": {},
     "output_type": "display_data"
    },
    {
     "data": {
      "text/html": [
       "Syncing run <strong><a href=\"https://wandb.ai/entelecheia/esgml-esg_topics/runs/2m47k6xr\" target=\"_blank\">snowy-disco-2</a></strong> to <a href=\"https://wandb.ai/entelecheia/esgml-esg_topics\" target=\"_blank\">Weights & Biases</a> (<a href=\"https://wandb.me/run\" target=\"_blank\">docs</a>)<br/>"
      ],
      "text/plain": [
       "<IPython.core.display.HTML object>"
      ]
     },
     "metadata": {},
     "output_type": "display_data"
    },
    {
     "name": "stderr",
     "output_type": "stream",
     "text": [
      "INFO:simpletransformers.classification.classification_model:{'mcc': 0.6369559141371757, 'acc': 0.669195751138088, 'eval_loss': 1.1340322342029838}\n"
     ]
    },
    {
     "data": {
      "text/plain": [
       "<ekorpkit.models.transformer.simple.SimpleClassification at 0x7faac20eb400>"
      ]
     },
     "execution_count": 9,
     "metadata": {},
     "output_type": "execute_result"
    }
   ],
   "source": [
    "overrides=[\n",
    "    '+model/transformer=simple_classification',\n",
    "    '+model/transformer/pretrained=ekonelectra-base',\n",
    "]\n",
    "model_cfg = eKonf.compose(overrides=overrides, config_group='model/transformer=simple_classification')\n",
    "model_cfg.name = \"esg_topics\"\n",
    "model_cfg.dataset = ds_cfg\n",
    "model_cfg.verbose = False\n",
    "model_cfg.config.num_train_epochs = 2\n",
    "model_cfg.config.max_seq_length = 256\n",
    "model_cfg.config.train_batch_size = 32\n",
    "model_cfg.config.eval_batch_size = 32\n",
    "model_cfg._method_ = ['train']\n",
    "eKonf.instantiate(model_cfg)"
   ]
  },
  {
   "cell_type": "code",
   "execution_count": 3,
   "metadata": {
    "scrolled": false
   },
   "outputs": [
    {
     "name": "stderr",
     "output_type": "stream",
     "text": [
      "INFO:ekorpkit.ekonf:Calling eval\n",
      "INFO:ekorpkit.io.file:Loading data from /workspace/data/datasets/simple/esg_topics/esg_topics-train.csv\n",
      "INFO:ekorpkit.info.base:Added split column [split] with value [train]\n",
      "INFO:ekorpkit.io.file:Loading data from /workspace/data/datasets/simple/esg_topics/esg_topics-test.csv\n",
      "INFO:ekorpkit.info.base:Added split column [split] with value [test]\n",
      "INFO:ekorpkit.io.file:Loading data from /workspace/data/datasets/simple/esg_topics/esg_topics-dev.csv\n",
      "INFO:ekorpkit.info.base:Added split column [split] with value [dev]\n",
      "INFO:ekorpkit.models.transformer.simple:Loaded model from /workspace/projects/esgml/outputs/esgml-esg_topics/ekonelectra-base/best_model\n",
      "INFO:simpletransformers.classification.classification_model: Converting to features started. Cache is not used.\n",
      "INFO:simpletransformers.classification.classification_model: Sliding window enabled\n"
     ]
    },
    {
     "data": {
      "application/vnd.jupyter.widget-view+json": {
       "model_id": "a8f31ea89e2d47ec9dd3d6b279d74ee8",
       "version_major": 2,
       "version_minor": 0
      },
      "text/plain": [
       "  0%|          | 0/1318 [00:00<?, ?it/s]"
      ]
     },
     "metadata": {},
     "output_type": "display_data"
    },
    {
     "name": "stderr",
     "output_type": "stream",
     "text": [
      "Token indices sequence length is longer than the specified maximum sequence length for this model (712 > 512). Running this sequence through the model will result in indexing errors\n",
      "INFO:simpletransformers.classification.classification_model: 1318 features created from 1318 samples.\n"
     ]
    },
    {
     "data": {
      "application/vnd.jupyter.widget-view+json": {
       "model_id": "430fa8d970df435292ab511de32505a3",
       "version_major": 2,
       "version_minor": 0
      },
      "text/plain": [
       "  0%|          | 0/43 [00:00<?, ?it/s]"
      ]
     },
     "metadata": {},
     "output_type": "display_data"
    },
    {
     "name": "stderr",
     "output_type": "stream",
     "text": [
      "INFO:ekorpkit.models.transformer.simple:type of raw_outputs: <class 'list'>\n",
      "INFO:ekorpkit.models.transformer.simple:raw_output: [0.8873550295829773, -1.4042227268218994, -0.9927069544792175, -1.5206907987594604, -0.05941705033183098, -0.9372580051422119, 4.283428192138672, 0.03589600324630737, 0.6752013564109802, 0.7132291197776794, -0.4526979327201843, 0.17319411039352417, 0.8416115045547485, -0.7481359839439392, -0.7303427457809448, -0.49421727657318115]\n",
      "INFO:ekorpkit.io.file:Saving dataframe as /workspace/projects/esgml/outputs/esgml-esg_topics/ekonelectra-base/predictions/esg_topics_test_predictions.parquet\n"
     ]
    },
    {
     "name": "stdout",
     "output_type": "stream",
     "text": [
      "Accuracy:  0.669195751138088\n",
      "Precison:  0.6583205598702675\n",
      "Recall:  0.669195751138088\n",
      "F1 Score:  0.6525866906289334\n",
      "Model Report: \n",
      "___________________________________________________\n",
      "                  precision    recall  f1-score   support\n",
      "\n",
      "          E-기후변화       0.49      0.60      0.54        63\n",
      "     E-신재생에너지 발전       0.55      0.19      0.29        31\n",
      "         E-원자력발전       1.00      0.42      0.59        19\n",
      "          E-환경영향       0.46      0.46      0.46        61\n",
      "          E-환경혁신       0.49      0.44      0.46        52\n",
      "   G-기업윤리/불공정/소송       0.59      0.58      0.59        91\n",
      "          G-정보공시       0.33      0.02      0.04        50\n",
      "          G-주주환원       0.67      0.78      0.72       162\n",
      "          G-지배구조       0.74      0.81      0.77       172\n",
      "          S-기술혁신       0.73      0.78      0.75       158\n",
      "S-기업(공급망)동반성장/상생       0.59      0.41      0.48        39\n",
      "         S-노조/노사       0.84      0.84      0.84        70\n",
      "          S-사회공헌       0.82      0.82      0.82        68\n",
      "     S-산업재해/안전관리       0.79      0.70      0.74        37\n",
      "           S-소비자       0.65      0.75      0.70       159\n",
      "          S-인적자본       0.64      0.70      0.67        86\n",
      "\n",
      "        accuracy                           0.67      1318\n",
      "       macro avg       0.65      0.58      0.59      1318\n",
      "    weighted avg       0.66      0.67      0.65      1318\n",
      "\n"
     ]
    },
    {
     "name": "stderr",
     "output_type": "stream",
     "text": [
      "INFO:ekorpkit.visualize.classification:Confusion matrix: {'_func_': 'confusion_matrix', 'axno': 0, 'secondary_y': False, 'secondary_to': 0, 'display_labels': None, 'matrix_labels': None, 'include_values': False, 'include_percentages': False, 'summary_stats': True, '_parms_': {'cbar': True, 'cmap': 'Blues'}, 'figure': {'xlabel': 'Predicted label', 'ylabel': 'Actual label'}}\n",
      "WARNING:matplotlib.font_manager:findfont: Font family ['NanumGothic'] not found. Falling back to DejaVu Sans.\n",
      "INFO:ekorpkit.visualize.plot:Saved figure to /workspace/projects/esgml/outputs/esgml-esg_topics/ekonelectra-base/predictions/confusion_matrix.png\n"
     ]
    },
    {
     "data": {
      "text/plain": [
       "<ekorpkit.models.transformer.simple.SimpleClassification at 0x7f5359228160>"
      ]
     },
     "execution_count": 3,
     "metadata": {},
     "output_type": "execute_result"
    },
    {
     "data": {
      "image/png": "[encoded data removed]",
      "text/plain": [
       "<Figure size 720x360 with 2 Axes>"
      ]
     },
     "metadata": {
      "image/png": {
       "height": 348,
       "width": 649
      }
     },
     "output_type": "display_data"
    }
   ],
   "source": [
    "overrides=[\n",
    "    '+model/transformer=simple_classification',\n",
    "    '+model/transformer/pretrained=ekonelectra-base',\n",
    "]\n",
    "model_cfg = eKonf.compose(overrides=overrides, config_group='model/transformer=simple_classification')\n",
    "model_cfg.name = \"esg_topics\"\n",
    "model_cfg.dataset = ds_cfg\n",
    "model_cfg.verbose = False\n",
    "model_cfg.config.num_train_epochs = 2\n",
    "model_cfg.config.max_seq_length = 256\n",
    "model_cfg.config.train_batch_size = 32\n",
    "model_cfg.config.eval_batch_size = 32\n",
    "model_cfg._method_ = ['eval']\n",
    "model_cfg.model.eval.visualize.plot.confusion_matrix.include_values = False\n",
    "model_cfg.model.eval.visualize.plot.confusion_matrix.include_percentages = False\n",
    "eKonf.instantiate(model_cfg)"
   ]
  },
  {
   "cell_type": "code",
   "execution_count": null,
   "metadata": {},
   "outputs": [],
   "source": []
  }
 ],
 "metadata": {
  "colab": {
   "include_colab_link": true,
   "name": "preprocessor.ipynb",
   "provenance": []
  },
  "interpreter": {
   "hash": "f869af7787e6a1c49e09e367fc6e1b81d93d1c6583b43249c80edc047bd13cb2"
  },
  "kernelspec": {
   "display_name": "Python 3",
   "language": "python",
   "name": "python3"
  },
  "language_info": {
   "codemirror_mode": {
    "name": "ipython",
    "version": 3
   },
   "file_extension": ".py",
   "mimetype": "text/x-python",
   "name": "python",
   "nbconvert_exporter": "python",
   "pygments_lexer": "ipython3",
   "version": "3.8.8"
  },
  "widgets": {
   "application/vnd.jupyter.widget-state+json": {
    "state": {
     "000142a9ffa04cd99b774c8707591a51": {
      "model_module": "@jupyter-widgets/controls",
      "model_module_version": "1.5.0",
      "model_name": "DescriptionStyleModel",
      "state": {
       "description_width": ""
      }
     },
     "001f1ee58de7445182e5e071225d5665": {
      "model_module": "@jupyter-widgets/controls",
      "model_module_version": "1.5.0",
      "model_name": "DescriptionStyleModel",
      "state": {
       "description_width": ""
      }
     },
     "0028df7283f24e9f9fb007112311d37b": {
      "model_module": "@jupyter-widgets/base",
      "model_module_version": "1.2.0",
      "model_name": "LayoutModel",
      "state": {}
     },
     "0054ab58aa454616bb15dd7f50b134b8": {
      "model_module": "@jupyter-widgets/base",
      "model_module_version": "1.2.0",
      "model_name": "LayoutModel",
      "state": {}
     },
     "00b087e219e04508ae88786f7da699cc": {
      "model_module": "@jupyter-widgets/base",
      "model_module_version": "1.2.0",
      "model_name": "LayoutModel",
      "state": {}
     },
     "00cc6c33fed54379a2d157253975acec": {
      "model_module": "@jupyter-widgets/base",
      "model_module_version": "1.2.0",
      "model_name": "LayoutModel",
      "state": {}
     },
     "010ac3c2897c4afeaa606c8f17d5b3a2": {
      "model_module": "@jupyter-widgets/controls",
      "model_module_version": "1.5.0",
      "model_name": "FloatProgressModel",
      "state": {
       "bar_style": "success",
       "layout": "IPY_MODEL_53ca5e76aafe43aabdb2d915c99e2811",
       "max": 1318,
       "style": "IPY_MODEL_6f24c24e0b7544fcb72d906a06e405b0",
       "value": 1318
      }
     },
     "01c8543dc6b0449db251575c4fadc478": {
      "model_module": "@jupyter-widgets/base",
      "model_module_version": "1.2.0",
      "model_name": "LayoutModel",
      "state": {}
     },
     "01d6fdf70d6e47009cd5404938de0b3c": {
      "model_module": "@jupyter-widgets/controls",
      "model_module_version": "1.5.0",
      "model_name": "DescriptionStyleModel",
      "state": {
       "description_width": ""
      }
     },
     "01d91afdba984138a490eedd45765ee9": {
      "model_module": "@jupyter-widgets/base",
      "model_module_version": "1.2.0",
      "model_name": "LayoutModel",
      "state": {}
     },
     "023d1f0f654b4c7bb80f6a661d63d730": {
      "model_module": "@jupyter-widgets/base",
      "model_module_version": "1.2.0",
      "model_name": "LayoutModel",
      "state": {}
     },
     "027e2aefa86b4f51adf3ca03af43c8a3": {
      "model_module": "@jupyter-widgets/controls",
      "model_module_version": "1.5.0",
      "model_name": "HTMLModel",
      "state": {
       "layout": "IPY_MODEL_c08c2401a53347eda611909eaed5ec10",
       "style": "IPY_MODEL_0c6c19145a3c4c99aaf2dc6d952a9f77",
       "value": "100%"
      }
     },
     "0298a885399c4487abecfdb4e5547bd7": {
      "model_module": "@jupyter-widgets/controls",
      "model_module_version": "1.5.0",
      "model_name": "HTMLModel",
      "state": {
       "layout": "IPY_MODEL_23e66438a9d047419b4baf08b333f84b",
       "style": "IPY_MODEL_7176c50e3f3c461c843b13718212c450",
       "value": " 345/345 [00:42&lt;00:00,  9.98it/s]"
      }
     },
     "02d6fa49c9d64da38f7edfda537f2eaa": {
      "model_module": "@jupyter-widgets/controls",
      "model_module_version": "1.5.0",
      "model_name": "DescriptionStyleModel",
      "state": {
       "description_width": ""
      }
     },
     "02fc4723946645f28497a02ecd4a502c": {
      "model_module": "@jupyter-widgets/controls",
      "model_module_version": "1.5.0",
      "model_name": "DescriptionStyleModel",
      "state": {
       "description_width": ""
      }
     },
     "03123d0b256a449f99dc1b04f4def8e3": {
      "model_module": "@jupyter-widgets/controls",
      "model_module_version": "1.5.0",
      "model_name": "HBoxModel",
      "state": {
       "children": [
        "IPY_MODEL_17c71bca93774320a13ede02e699eed3",
        "IPY_MODEL_d307ac45ddfb45b4b78f248702bebbda",
        "IPY_MODEL_fec363373a9545e495e58b8b3bb5b490"
       ],
       "layout": "IPY_MODEL_410852d2eb79429eb58b19e51d39b1ba"
      }
     },
     "03f1c47b0539436dae39ff439feebcb4": {
      "model_module": "@jupyter-widgets/controls",
      "model_module_version": "1.5.0",
      "model_name": "ProgressStyleModel",
      "state": {
       "description_width": ""
      }
     },
     "0462db12f65d453381392db3de917999": {
      "model_module": "@jupyter-widgets/base",
      "model_module_version": "1.2.0",
      "model_name": "LayoutModel",
      "state": {}
     },
     "0505407894c848088284b5d972884eea": {
      "model_module": "@jupyter-widgets/base",
      "model_module_version": "1.2.0",
      "model_name": "LayoutModel",
      "state": {}
     },
     "0537c11f82124042826bc752ca9264da": {
      "model_module": "@jupyter-widgets/controls",
      "model_module_version": "1.5.0",
      "model_name": "FloatProgressModel",
      "state": {
       "bar_style": "success",
       "layout": "IPY_MODEL_65533b79d34648b591b1da2898d500ec",
       "max": 112,
       "style": "IPY_MODEL_f134c12b21b14d0382c6b14da8ccffab",
       "value": 112
      }
     },
     "056bd99664b04ea69a6640c833cc52de": {
      "model_module": "@jupyter-widgets/controls",
      "model_module_version": "1.5.0",
      "model_name": "HTMLModel",
      "state": {
       "layout": "IPY_MODEL_62deecb0269e4213a0c418ee1b3514da",
       "style": "IPY_MODEL_4bbf9611f5ce4665867bd0291a646cef",
       "value": " 345/345 [00:42&lt;00:00, 10.14it/s]"
      }
     },
     "05ea299ff09a477da43b2cefc3c5876f": {
      "model_module": "@jupyter-widgets/base",
      "model_module_version": "1.2.0",
      "model_name": "LayoutModel",
      "state": {}
     },
     "061a8cce30214c188176edba86e1abca": {
      "model_module": "@jupyter-widgets/controls",
      "model_module_version": "1.5.0",
      "model_name": "HTMLModel",
      "state": {
       "layout": "IPY_MODEL_a4af3c35acd74e108c67c22093d1af43",
       "style": "IPY_MODEL_81368eadc2024ffdb3bc1c12910c8a48",
       "value": " 3555/3555 [00:00&lt;00:00, 7781.14it/s]"
      }
     },
     "06321ea2e9ef4b5eacfa068316c93956": {
      "model_module": "@jupyter-widgets/controls",
      "model_module_version": "1.5.0",
      "model_name": "FloatProgressModel",
      "state": {
       "bar_style": "success",
       "layout": "IPY_MODEL_5f012d3257e941c090ad180603bcd144",
       "max": 1318,
       "style": "IPY_MODEL_277b919263574c48b6f99f6b3b901254",
       "value": 1318
      }
     },
     "06c06eec7fbf4ad6b80a5aa209cff57b": {
      "model_module": "@jupyter-widgets/controls",
      "model_module_version": "1.5.0",
      "model_name": "VBoxModel",
      "state": {
       "children": [
        "IPY_MODEL_2493d62042544fe398ea765bbffdedce",
        "IPY_MODEL_3feb335adf5f45a0b02d937d353e5937"
       ],
       "layout": "IPY_MODEL_9c0285f2a6b743dba4fe4b132f394078"
      }
     },
     "07283c591b5e42b780ba2e54f6ac2d3c": {
      "model_module": "@jupyter-widgets/base",
      "model_module_version": "1.2.0",
      "model_name": "LayoutModel",
      "state": {}
     },
     "074296de0b9e42a68782b386ab28b944": {
      "model_module": "@jupyter-widgets/controls",
      "model_module_version": "1.5.0",
      "model_name": "HBoxModel",
      "state": {
       "children": [
        "IPY_MODEL_dd86cf4c8da446f5a2b3ac8246a1cf4a",
        "IPY_MODEL_47ce378537214bef96583cd77f541a38",
        "IPY_MODEL_056bd99664b04ea69a6640c833cc52de"
       ],
       "layout": "IPY_MODEL_48d2557a233549e3b20ce7fbe3da1439"
      }
     },
     "0861540def5c45c18d34d9e65bc3c324": {
      "model_module": "@jupyter-widgets/controls",
      "model_module_version": "1.5.0",
      "model_name": "ProgressStyleModel",
      "state": {
       "description_width": ""
      }
     },
     "088a354c173149b98f7718c10d6a8692": {
      "model_module": "@jupyter-widgets/base",
      "model_module_version": "1.2.0",
      "model_name": "LayoutModel",
      "state": {}
     },
     "08f73f090dbb48f9acd20d07a2f7f056": {
      "model_module": "@jupyter-widgets/controls",
      "model_module_version": "1.5.0",
      "model_name": "DescriptionStyleModel",
      "state": {
       "description_width": ""
      }
     },
     "091305f97f7a45c4afb43b53df8c2174": {
      "model_module": "@jupyter-widgets/base",
      "model_module_version": "1.2.0",
      "model_name": "LayoutModel",
      "state": {}
     },
     "09312fec8bbc4213a58809a6a0debdd8": {
      "model_module": "@jupyter-widgets/base",
      "model_module_version": "1.2.0",
      "model_name": "LayoutModel",
      "state": {}
     },
     "099f778e60b14370b556eb240c20988d": {
      "model_module": "@jupyter-widgets/base",
      "model_module_version": "1.2.0",
      "model_name": "LayoutModel",
      "state": {}
     },
     "09b6f5cf4f82404583455558ed6725a4": {
      "model_module": "@jupyter-widgets/controls",
      "model_module_version": "1.5.0",
      "model_name": "ProgressStyleModel",
      "state": {
       "description_width": ""
      }
     },
     "09db0ba7b83447b6bc21e6a4d6612a8b": {
      "model_module": "@jupyter-widgets/controls",
      "model_module_version": "1.5.0",
      "model_name": "FloatProgressModel",
      "state": {
       "bar_style": "success",
       "layout": "IPY_MODEL_5eea96ff92d64af6928888a4ae46a2a7",
       "max": 10669,
       "style": "IPY_MODEL_56c0ced006cf4c4186baf5da7f3dc45c",
       "value": 10669
      }
     },
     "09f32435daa2452fb72da6dc33eec9ea": {
      "model_module": "@jupyter-widgets/controls",
      "model_module_version": "1.5.0",
      "model_name": "LabelModel",
      "state": {
       "layout": "IPY_MODEL_d0be2edef3e04bd5bbc65473434c3257",
       "style": "IPY_MODEL_b98f1c143ade47729c308d42519ae86f"
      }
     },
     "0a1b3eb54ed843db912d0297a0416a09": {
      "model_module": "@jupyter-widgets/controls",
      "model_module_version": "1.5.0",
      "model_name": "FloatProgressModel",
      "state": {
       "bar_style": "success",
       "layout": "IPY_MODEL_90f29aca3bbe453a859f883caf824229",
       "max": 228824,
       "style": "IPY_MODEL_ee128c7c2f1e47218d19fcd00d24ff37",
       "value": 228824
      }
     },
     "0a225115de6c48929620dbec725b4d2d": {
      "model_module": "@jupyter-widgets/controls",
      "model_module_version": "1.5.0",
      "model_name": "LabelModel",
      "state": {
       "layout": "IPY_MODEL_e210bf18c77e489dbdb6a6d8386e9505",
       "style": "IPY_MODEL_302ff08b8958469caeaaeebbd609ed1a"
      }
     },
     "0a274d1e212b49919beba0d2e6a7de3f": {
      "model_module": "@jupyter-widgets/base",
      "model_module_version": "1.2.0",
      "model_name": "LayoutModel",
      "state": {}
     },
     "0a37d8b1e19a49cfb0e9840425399b10": {
      "model_module": "@jupyter-widgets/controls",
      "model_module_version": "1.5.0",
      "model_name": "HTMLModel",
      "state": {
       "layout": "IPY_MODEL_187f5762bd694c718d78c9b984194227",
       "style": "IPY_MODEL_20836ab3380f4408ba8db557a8d94e5b",
       "value": "Epoch 2 of 2: 100%"
      }
     },
     "0a55ca88cda241fc9cc68ec740f929e7": {
      "model_module": "@jupyter-widgets/controls",
      "model_module_version": "1.5.0",
      "model_name": "DescriptionStyleModel",
      "state": {
       "description_width": ""
      }
     },
     "0a7e9de24ea44056b087fd2c0bc4c2a0": {
      "model_module": "@jupyter-widgets/controls",
      "model_module_version": "1.5.0",
      "model_name": "DescriptionStyleModel",
      "state": {
       "description_width": ""
      }
     },
     "0afd8244a5ec4b2a9bb992562d9043a5": {
      "model_module": "@jupyter-widgets/controls",
      "model_module_version": "1.5.0",
      "model_name": "ProgressStyleModel",
      "state": {
       "description_width": ""
      }
     },
     "0b3905616dff4c0ab80841da6e961190": {
      "model_module": "@jupyter-widgets/base",
      "model_module_version": "1.2.0",
      "model_name": "LayoutModel",
      "state": {}
     },
     "0bbec0bbbfb247188d25ae2baefd2248": {
      "model_module": "@jupyter-widgets/controls",
      "model_module_version": "1.5.0",
      "model_name": "ProgressStyleModel",
      "state": {
       "description_width": ""
      }
     },
     "0be9b3ac51844241aff5a1856bde75ef": {
      "model_module": "@jupyter-widgets/controls",
      "model_module_version": "1.5.0",
      "model_name": "HTMLModel",
      "state": {
       "layout": "IPY_MODEL_a9ed342105b24354bfbf930007571610",
       "style": "IPY_MODEL_71fe90ed7ee742d99f508c9c682e9ece",
       "value": "100%"
      }
     },
     "0c2f15bd25534cb3bbe9bef3489df18e": {
      "model_module": "@jupyter-widgets/base",
      "model_module_version": "1.2.0",
      "model_name": "LayoutModel",
      "state": {}
     },
     "0c6c19145a3c4c99aaf2dc6d952a9f77": {
      "model_module": "@jupyter-widgets/controls",
      "model_module_version": "1.5.0",
      "model_name": "DescriptionStyleModel",
      "state": {
       "description_width": ""
      }
     },
     "0c89a8466aef4d529bcd667ec18f93f7": {
      "model_module": "@jupyter-widgets/controls",
      "model_module_version": "1.5.0",
      "model_name": "DescriptionStyleModel",
      "state": {
       "description_width": ""
      }
     },
     "0d657bfbe2ef4fb5b6fabaabc4f789d6": {
      "model_module": "@jupyter-widgets/controls",
      "model_module_version": "1.5.0",
      "model_name": "HBoxModel",
      "state": {
       "children": [
        "IPY_MODEL_bfb0578c5fea4f55b35eac5bc03b5bb6",
        "IPY_MODEL_4ef2386e46324a72b96a8a9e81d31f18",
        "IPY_MODEL_cc6d6137f602424490b077ee5842c141"
       ],
       "layout": "IPY_MODEL_621e5801e57a49469bc11f6e426d2322"
      }
     },
     "0dcbf6babe0b47018d5aa91d7f7f6790": {
      "model_module": "@jupyter-widgets/base",
      "model_module_version": "1.2.0",
      "model_name": "LayoutModel",
      "state": {}
     },
     "0dec8a7fbe134cc2a660dfd16d7a7c1b": {
      "model_module": "@jupyter-widgets/base",
      "model_module_version": "1.2.0",
      "model_name": "LayoutModel",
      "state": {}
     },
     "0df55da7a09f46428ebd67aa503610c7": {
      "model_module": "@jupyter-widgets/base",
      "model_module_version": "1.2.0",
      "model_name": "LayoutModel",
      "state": {}
     },
     "0ea1151aad3e40eea3d85791c934df45": {
      "model_module": "@jupyter-widgets/controls",
      "model_module_version": "1.5.0",
      "model_name": "FloatProgressModel",
      "state": {
       "bar_style": "success",
       "layout": "IPY_MODEL_a093f18eb1314c81946031ecf08caef9",
       "max": 43,
       "style": "IPY_MODEL_6f2d599978c54f9aa86e4ec92ad98929",
       "value": 43
      }
     },
     "0ebea68a84e341c8aae25a991589f214": {
      "model_module": "@jupyter-widgets/controls",
      "model_module_version": "1.5.0",
      "model_name": "DescriptionStyleModel",
      "state": {
       "description_width": ""
      }
     },
     "0ef920adf79e41dcbbbdc4da7aba8c6b": {
      "model_module": "@jupyter-widgets/controls",
      "model_module_version": "1.5.0",
      "model_name": "LabelModel",
      "state": {
       "layout": "IPY_MODEL_55296b7bd67748f2b3d9cb059b984a53",
       "style": "IPY_MODEL_780c5beda968467d9809b5fa050069aa",
       "value": "0.072 MB of 0.072 MB uploaded (0.000 MB deduped)\r"
      }
     },
     "0f4ea35f50fa4caca5892229f6173f92": {
      "model_module": "@jupyter-widgets/controls",
      "model_module_version": "1.5.0",
      "model_name": "ProgressStyleModel",
      "state": {
       "description_width": ""
      }
     },
     "0f791b426d1d409785a4df76b9b8c58a": {
      "model_module": "@jupyter-widgets/base",
      "model_module_version": "1.2.0",
      "model_name": "LayoutModel",
      "state": {}
     },
     "0faa177778784f00aacf4a1b494d83b8": {
      "model_module": "@jupyter-widgets/base",
      "model_module_version": "1.2.0",
      "model_name": "LayoutModel",
      "state": {}
     },
     "0fced4903c08427ebdcce8ee3c50c940": {
      "model_module": "@jupyter-widgets/controls",
      "model_module_version": "1.5.0",
      "model_name": "FloatProgressModel",
      "state": {
       "bar_style": "success",
       "layout": "IPY_MODEL_b77b0965f5cb4f23aba02ade5de6f27e",
       "max": 345,
       "style": "IPY_MODEL_9aa249daa7794784aa9deaec349a0ef4",
       "value": 345
      }
     },
     "1037d1933f044fd39bd3e9897328e54f": {
      "model_module": "@jupyter-widgets/controls",
      "model_module_version": "1.5.0",
      "model_name": "ProgressStyleModel",
      "state": {
       "description_width": ""
      }
     },
     "1057725bfedb489ba639e87df4c5955f": {
      "model_module": "@jupyter-widgets/base",
      "model_module_version": "1.2.0",
      "model_name": "LayoutModel",
      "state": {}
     },
     "1134e7831ce645b49d4bd4b114d51d1f": {
      "model_module": "@jupyter-widgets/controls",
      "model_module_version": "1.5.0",
      "model_name": "HTMLModel",
      "state": {
       "layout": "IPY_MODEL_3046fadb90c14f7da9f8de23d8511d47",
       "style": "IPY_MODEL_7e04b77925d0423fb35924e984747f49",
       "value": " 356/356 [00:43&lt;00:00,  9.57it/s]"
      }
     },
     "11680d4818744d6ab5000b0d4624cde8": {
      "model_module": "@jupyter-widgets/controls",
      "model_module_version": "1.5.0",
      "model_name": "FloatProgressModel",
      "state": {
       "bar_style": "success",
       "layout": "IPY_MODEL_363f8e72c6c6441db52c7a6757b908e6",
       "max": 356,
       "style": "IPY_MODEL_da13e8057b6a42c5988097cd315d1bbe",
       "value": 356
      }
     },
     "116fd1a09b554834aadb1c3dfdd3faa5": {
      "model_module": "@jupyter-widgets/controls",
      "model_module_version": "1.5.0",
      "model_name": "ProgressStyleModel",
      "state": {
       "description_width": ""
      }
     },
     "11b17f0186e74f569094faea60324053": {
      "model_module": "@jupyter-widgets/base",
      "model_module_version": "1.2.0",
      "model_name": "LayoutModel",
      "state": {}
     },
     "120847face3f4b84a54770948e975f4b": {
      "model_module": "@jupyter-widgets/controls",
      "model_module_version": "1.5.0",
      "model_name": "HTMLModel",
      "state": {
       "layout": "IPY_MODEL_63205472e2c94f4184744b77fe489532",
       "style": "IPY_MODEL_8f34b7e947ec454f91dfb86d3756c081",
       "value": " 1318/1318 [00:00&lt;00:00, 2242.97it/s]"
      }
     },
     "120efed0f38e44c38eef500c3d2c3eb1": {
      "model_module": "@jupyter-widgets/base",
      "model_module_version": "1.2.0",
      "model_name": "LayoutModel",
      "state": {}
     },
     "123f9e41cdd24003803cccb74bc14b0e": {
      "model_module": "@jupyter-widgets/base",
      "model_module_version": "1.2.0",
      "model_name": "LayoutModel",
      "state": {}
     },
     "12b7f3ffa64d47319e812d28c56135aa": {
      "model_module": "@jupyter-widgets/base",
      "model_module_version": "1.2.0",
      "model_name": "LayoutModel",
      "state": {}
     },
     "12cacb4387b045d0a994d13f41779dc9": {
      "model_module": "@jupyter-widgets/controls",
      "model_module_version": "1.5.0",
      "model_name": "DescriptionStyleModel",
      "state": {
       "description_width": ""
      }
     },
     "12dc6f077b4b4706b66c547705e9fadf": {
      "model_module": "@jupyter-widgets/controls",
      "model_module_version": "1.5.0",
      "model_name": "DescriptionStyleModel",
      "state": {
       "description_width": ""
      }
     },
     "12e8977b16a34d1db668e441ae7ef300": {
      "model_module": "@jupyter-widgets/base",
      "model_module_version": "1.2.0",
      "model_name": "LayoutModel",
      "state": {}
     },
     "13069a8e58bf43a6b1bbac498e84f165": {
      "model_module": "@jupyter-widgets/base",
      "model_module_version": "1.2.0",
      "model_name": "LayoutModel",
      "state": {}
     },
     "1312ba08801e433691562af6dea445d5": {
      "model_module": "@jupyter-widgets/controls",
      "model_module_version": "1.5.0",
      "model_name": "DescriptionStyleModel",
      "state": {
       "description_width": ""
      }
     },
     "1381dbd49b6549708262b52fb4c0687d": {
      "model_module": "@jupyter-widgets/controls",
      "model_module_version": "1.5.0",
      "model_name": "DescriptionStyleModel",
      "state": {
       "description_width": ""
      }
     },
     "13a63bcc74d54f2cb268baf95850f6ae": {
      "model_module": "@jupyter-widgets/base",
      "model_module_version": "1.2.0",
      "model_name": "LayoutModel",
      "state": {}
     },
     "1403dfeabdac4081aa8bec87e4ae481d": {
      "model_module": "@jupyter-widgets/controls",
      "model_module_version": "1.5.0",
      "model_name": "ProgressStyleModel",
      "state": {
       "description_width": ""
      }
     },
     "147763c1b35343b28f6a090678aaade5": {
      "model_module": "@jupyter-widgets/base",
      "model_module_version": "1.2.0",
      "model_name": "LayoutModel",
      "state": {}
     },
     "148d2b80611c4bef9d7c98200ed5b57c": {
      "model_module": "@jupyter-widgets/controls",
      "model_module_version": "1.5.0",
      "model_name": "HTMLModel",
      "state": {
       "layout": "IPY_MODEL_0df55da7a09f46428ebd67aa503610c7",
       "style": "IPY_MODEL_28944c8f3ae64561b87bb1a2627f7fce",
       "value": "Running Evaluation: 100%"
      }
     },
     "1496f5da1c094b8a96c7544ebceb3f18": {
      "model_module": "@jupyter-widgets/base",
      "model_module_version": "1.2.0",
      "model_name": "LayoutModel",
      "state": {}
     },
     "14dd68eb980044d8849d20761b49985a": {
      "model_module": "@jupyter-widgets/base",
      "model_module_version": "1.2.0",
      "model_name": "LayoutModel",
      "state": {}
     },
     "158e4cc570a44283a7332dbbbe2c81d5": {
      "model_module": "@jupyter-widgets/controls",
      "model_module_version": "1.5.0",
      "model_name": "HTMLModel",
      "state": {
       "layout": "IPY_MODEL_0054ab58aa454616bb15dd7f50b134b8",
       "style": "IPY_MODEL_fee25098f0f346588fc94a48eab3156a",
       "value": " 2/2 [01:45&lt;00:00, 52.00s/it]"
      }
     },
     "15c5543a61654d8a9e438b5f1438655c": {
      "model_module": "@jupyter-widgets/base",
      "model_module_version": "1.2.0",
      "model_name": "LayoutModel",
      "state": {}
     },
     "165b6aa8476748f4b11df824b017b770": {
      "model_module": "@jupyter-widgets/base",
      "model_module_version": "1.2.0",
      "model_name": "LayoutModel",
      "state": {}
     },
     "16a3f889060149f485e66571f39434fd": {
      "model_module": "@jupyter-widgets/controls",
      "model_module_version": "1.5.0",
      "model_name": "HTMLModel",
      "state": {
       "layout": "IPY_MODEL_1c40d42bd4e2450aa9ceadca626eb4e8",
       "style": "IPY_MODEL_81776951712f4336adea739891ec1c08",
       "value": "100%"
      }
     },
     "173c78834c1c43a1b0dcf54938d8620a": {
      "model_module": "@jupyter-widgets/controls",
      "model_module_version": "1.5.0",
      "model_name": "FloatProgressModel",
      "state": {
       "bar_style": "success",
       "layout": "IPY_MODEL_ab01399149404f7db8021534c2882256",
       "max": 43,
       "style": "IPY_MODEL_c7cd82bf2134416db1348922e3d74adc",
       "value": 43
      }
     },
     "174c6c60a0b2475481ca77283c392a26": {
      "model_module": "@jupyter-widgets/controls",
      "model_module_version": "1.5.0",
      "model_name": "HTMLModel",
      "state": {
       "layout": "IPY_MODEL_1832c57d839a4a21b390023b4f0abdca",
       "style": "IPY_MODEL_ab2a83e565c34ffab6ff883ab7985e3b",
       "value": "100%"
      }
     },
     "17c71bca93774320a13ede02e699eed3": {
      "model_module": "@jupyter-widgets/controls",
      "model_module_version": "1.5.0",
      "model_name": "HTMLModel",
      "state": {
       "layout": "IPY_MODEL_4aca7185b9394957ab43deeedc34d75f",
       "style": "IPY_MODEL_67332056080b492b8e247e3a241572a4",
       "value": "100%"
      }
     },
     "1832c57d839a4a21b390023b4f0abdca": {
      "model_module": "@jupyter-widgets/base",
      "model_module_version": "1.2.0",
      "model_name": "LayoutModel",
      "state": {}
     },
     "1833c0c11f884ed699ddd9e76021d02d": {
      "model_module": "@jupyter-widgets/controls",
      "model_module_version": "1.5.0",
      "model_name": "VBoxModel",
      "state": {
       "children": [
        "IPY_MODEL_0a225115de6c48929620dbec725b4d2d",
        "IPY_MODEL_bd4ed9a58e9c4568b95dd118b5e92110"
       ],
       "layout": "IPY_MODEL_d414e80d341f4f888f72651c5c734988"
      }
     },
     "18726f323a334da098e7bf58c3dc3371": {
      "model_module": "@jupyter-widgets/controls",
      "model_module_version": "1.5.0",
      "model_name": "DescriptionStyleModel",
      "state": {
       "description_width": ""
      }
     },
     "187f5762bd694c718d78c9b984194227": {
      "model_module": "@jupyter-widgets/base",
      "model_module_version": "1.2.0",
      "model_name": "LayoutModel",
      "state": {}
     },
     "18e400d8511a478796869f926ef17b8d": {
      "model_module": "@jupyter-widgets/base",
      "model_module_version": "1.2.0",
      "model_name": "LayoutModel",
      "state": {}
     },
     "18f72eedccf34ca4a4a0dda441538f3b": {
      "model_module": "@jupyter-widgets/controls",
      "model_module_version": "1.5.0",
      "model_name": "FloatProgressModel",
      "state": {
       "layout": "IPY_MODEL_8c5bdbb419c141e0915352fc8a6e5a16",
       "max": 1,
       "style": "IPY_MODEL_f5104aa6c6974040963c70c825629379",
       "value": 1
      }
     },
     "19578d69917b4d858c37d8c09925568c": {
      "model_module": "@jupyter-widgets/base",
      "model_module_version": "1.2.0",
      "model_name": "LayoutModel",
      "state": {}
     },
     "19635612adc3442ebd973e32cf3d9161": {
      "model_module": "@jupyter-widgets/controls",
      "model_module_version": "1.5.0",
      "model_name": "VBoxModel",
      "state": {
       "children": [
        "IPY_MODEL_6171ebd0073049efa66284ee5b97f4fe",
        "IPY_MODEL_b0f475d573ab4746925f4da6ef4bfa97"
       ],
       "layout": "IPY_MODEL_1bdef76adc544432bb00e172ec3954ef"
      }
     },
     "197cac2d0d4949aab84270388d77ed87": {
      "model_module": "@jupyter-widgets/controls",
      "model_module_version": "1.5.0",
      "model_name": "DescriptionStyleModel",
      "state": {
       "description_width": ""
      }
     },
     "19958975208041e0868e2bc880a2aad6": {
      "model_module": "@jupyter-widgets/controls",
      "model_module_version": "1.5.0",
      "model_name": "DescriptionStyleModel",
      "state": {
       "description_width": ""
      }
     },
     "19aaca023bf44a46a5a7bd926251a880": {
      "model_module": "@jupyter-widgets/controls",
      "model_module_version": "1.5.0",
      "model_name": "HBoxModel",
      "state": {
       "children": [
        "IPY_MODEL_e017a7e473f14894a6043d3f3ee302fb",
        "IPY_MODEL_010ac3c2897c4afeaa606c8f17d5b3a2",
        "IPY_MODEL_7c2904ddeb5c49b4a15db34e878ded97"
       ],
       "layout": "IPY_MODEL_48f4aa0b061a432b8e1bdd697de5b181"
      }
     },
     "19d54a7824424dbdb7dcd9cfb4fd3486": {
      "model_module": "@jupyter-widgets/controls",
      "model_module_version": "1.5.0",
      "model_name": "DescriptionStyleModel",
      "state": {
       "description_width": ""
      }
     },
     "1a4c89d394ec4ca781c92cb88ff88169": {
      "model_module": "@jupyter-widgets/controls",
      "model_module_version": "1.5.0",
      "model_name": "ProgressStyleModel",
      "state": {
       "description_width": ""
      }
     },
     "1a8556a5bcd347a38725404263ad8b10": {
      "model_module": "@jupyter-widgets/controls",
      "model_module_version": "1.5.0",
      "model_name": "HTMLModel",
      "state": {
       "layout": "IPY_MODEL_4affcac88b3a4927a63ba4fcbab82280",
       "style": "IPY_MODEL_8436ad2ed1c6415c9ee59ae2ee188514",
       "value": "Epoch 2 of 2: 100%"
      }
     },
     "1b1cff80eef84383af8412191b5a994e": {
      "model_module": "@jupyter-widgets/base",
      "model_module_version": "1.2.0",
      "model_name": "LayoutModel",
      "state": {}
     },
     "1b5a61c814ab4ec582e8cef95625ee81": {
      "model_module": "@jupyter-widgets/base",
      "model_module_version": "1.2.0",
      "model_name": "LayoutModel",
      "state": {}
     },
     "1bdef76adc544432bb00e172ec3954ef": {
      "model_module": "@jupyter-widgets/base",
      "model_module_version": "1.2.0",
      "model_name": "LayoutModel",
      "state": {}
     },
     "1c40d42bd4e2450aa9ceadca626eb4e8": {
      "model_module": "@jupyter-widgets/base",
      "model_module_version": "1.2.0",
      "model_name": "LayoutModel",
      "state": {}
     },
     "1c48ca445a3248c08ee1b37414c272b7": {
      "model_module": "@jupyter-widgets/base",
      "model_module_version": "1.2.0",
      "model_name": "LayoutModel",
      "state": {}
     },
     "1c6d5de94b6e4962a1d6cf35addceefb": {
      "model_module": "@jupyter-widgets/controls",
      "model_module_version": "1.5.0",
      "model_name": "DescriptionStyleModel",
      "state": {
       "description_width": ""
      }
     },
     "1cc36835c6de4bee88b0bd68121fe1c0": {
      "model_module": "@jupyter-widgets/controls",
      "model_module_version": "1.5.0",
      "model_name": "HTMLModel",
      "state": {
       "layout": "IPY_MODEL_091305f97f7a45c4afb43b53df8c2174",
       "style": "IPY_MODEL_2af9821096654e52ba0f737a0bd86cbe",
       "value": "Running Evaluation: 100%"
      }
     },
     "1cf883883b134e52b320ffa445ad7772": {
      "model_module": "@jupyter-widgets/controls",
      "model_module_version": "1.5.0",
      "model_name": "DescriptionStyleModel",
      "state": {
       "description_width": ""
      }
     },
     "1d3be94da28f430587f39c12e47e0353": {
      "model_module": "@jupyter-widgets/base",
      "model_module_version": "1.2.0",
      "model_name": "LayoutModel",
      "state": {}
     },
     "1d57dc333c514aa595ddfeef288c2cea": {
      "model_module": "@jupyter-widgets/controls",
      "model_module_version": "1.5.0",
      "model_name": "DescriptionStyleModel",
      "state": {
       "description_width": ""
      }
     },
     "1d7bfafe18a449c3a9359612765d0d7f": {
      "model_module": "@jupyter-widgets/controls",
      "model_module_version": "1.5.0",
      "model_name": "DescriptionStyleModel",
      "state": {
       "description_width": ""
      }
     },
     "1dbdf0a20e34411e899f165597863eed": {
      "model_module": "@jupyter-widgets/controls",
      "model_module_version": "1.5.0",
      "model_name": "DescriptionStyleModel",
      "state": {
       "description_width": ""
      }
     },
     "1ddb59e47ece4757bcaf6156c1d6eb27": {
      "model_module": "@jupyter-widgets/base",
      "model_module_version": "1.2.0",
      "model_name": "LayoutModel",
      "state": {}
     },
     "1e69f244f57b48b8b08c70c24fa77139": {
      "model_module": "@jupyter-widgets/base",
      "model_module_version": "1.2.0",
      "model_name": "LayoutModel",
      "state": {}
     },
     "1e6fc5b763334eec8e8a9304475432b6": {
      "model_module": "@jupyter-widgets/controls",
      "model_module_version": "1.5.0",
      "model_name": "ProgressStyleModel",
      "state": {
       "description_width": ""
      }
     },
     "1eb16e1b51de4e59b66d12d4b8c06b2c": {
      "model_module": "@jupyter-widgets/base",
      "model_module_version": "1.2.0",
      "model_name": "LayoutModel",
      "state": {}
     },
     "1eb92b73d42c45b98b46d0648d5ce303": {
      "model_module": "@jupyter-widgets/base",
      "model_module_version": "1.2.0",
      "model_name": "LayoutModel",
      "state": {}
     },
     "1f08684613244980b111af954a194dd2": {
      "model_module": "@jupyter-widgets/controls",
      "model_module_version": "1.5.0",
      "model_name": "DescriptionStyleModel",
      "state": {
       "description_width": ""
      }
     },
     "2023c1fc3fe6433dae0ac3af088d5049": {
      "model_module": "@jupyter-widgets/controls",
      "model_module_version": "1.5.0",
      "model_name": "DescriptionStyleModel",
      "state": {
       "description_width": ""
      }
     },
     "202878472f85472280decb3ab31e944e": {
      "model_module": "@jupyter-widgets/controls",
      "model_module_version": "1.5.0",
      "model_name": "FloatProgressModel",
      "state": {
       "bar_style": "success",
       "layout": "IPY_MODEL_cba7bc48a97c42a1825ef62ad2952b5a",
       "max": 112,
       "style": "IPY_MODEL_59b725ea93af406a88dba0912193fcff",
       "value": 112
      }
     },
     "20836ab3380f4408ba8db557a8d94e5b": {
      "model_module": "@jupyter-widgets/controls",
      "model_module_version": "1.5.0",
      "model_name": "DescriptionStyleModel",
      "state": {
       "description_width": ""
      }
     },
     "219c910f1d044d9d8b2f647a21b84046": {
      "model_module": "@jupyter-widgets/base",
      "model_module_version": "1.2.0",
      "model_name": "LayoutModel",
      "state": {}
     },
     "21a60856e32840758c595e67158ea867": {
      "model_module": "@jupyter-widgets/base",
      "model_module_version": "1.2.0",
      "model_name": "LayoutModel",
      "state": {}
     },
     "22576fda9406475ca71f70b432b5c690": {
      "model_module": "@jupyter-widgets/base",
      "model_module_version": "1.2.0",
      "model_name": "LayoutModel",
      "state": {}
     },
     "22ae285bf60a4da7bb930f42ac1416bc": {
      "model_module": "@jupyter-widgets/controls",
      "model_module_version": "1.5.0",
      "model_name": "HTMLModel",
      "state": {
       "layout": "IPY_MODEL_d9933512ad7e415181cb77524f7752cf",
       "style": "IPY_MODEL_2023c1fc3fe6433dae0ac3af088d5049",
       "value": " 3555/3555 [00:00&lt;00:00, 7388.02it/s]"
      }
     },
     "22cdd9bebc20483ea700eacd3b602e4f": {
      "model_module": "@jupyter-widgets/controls",
      "model_module_version": "1.5.0",
      "model_name": "LabelModel",
      "state": {
       "layout": "IPY_MODEL_538d30db26174cbb82d00e52d0771449",
       "style": "IPY_MODEL_7d12ce075e124a5f8fadb18434132590",
       "value": "0.015 MB of 0.015 MB uploaded (0.000 MB deduped)\r"
      }
     },
     "22e313549da940ca9623beac224e21d4": {
      "model_module": "@jupyter-widgets/controls",
      "model_module_version": "1.5.0",
      "model_name": "HBoxModel",
      "state": {
       "children": [
        "IPY_MODEL_1cc36835c6de4bee88b0bd68121fe1c0",
        "IPY_MODEL_c305fdbcca86473db3374ebbdbf6b5b8",
        "IPY_MODEL_baeec4f0bb7748878611cbdbeb96ad1c"
       ],
       "layout": "IPY_MODEL_4bbb73acb162489c816c93d856a0c2f9"
      }
     },
     "2313ba1339b04b0e8bed01d2af45c036": {
      "model_module": "@jupyter-widgets/controls",
      "model_module_version": "1.5.0",
      "model_name": "FloatProgressModel",
      "state": {
       "bar_style": "success",
       "layout": "IPY_MODEL_4630e2a0a33f4892bede50a6238ac4e5",
       "max": 2,
       "style": "IPY_MODEL_687036ed3664463593de35fa01d449f6",
       "value": 2
      }
     },
     "23248177d0cd4d7ea8fa39fea4bc7233": {
      "model_module": "@jupyter-widgets/controls",
      "model_module_version": "1.5.0",
      "model_name": "HTMLModel",
      "state": {
       "layout": "IPY_MODEL_8c4c82ebbabe4b1494bb048859b11052",
       "style": "IPY_MODEL_91e3b6b395ee4c0da8d1507a0266c139",
       "value": "100%"
      }
     },
     "233933c72021480082e605cf420d906f": {
      "model_module": "@jupyter-widgets/controls",
      "model_module_version": "1.5.0",
      "model_name": "HTMLModel",
      "state": {
       "layout": "IPY_MODEL_615734cc03ce4a35813442a26721da1d",
       "style": "IPY_MODEL_34b30c6832674e3f8b17683d0bdd1876",
       "value": " 1318/1318 [00:00&lt;00:00, 1957.86it/s]"
      }
     },
     "23e66438a9d047419b4baf08b333f84b": {
      "model_module": "@jupyter-widgets/base",
      "model_module_version": "1.2.0",
      "model_name": "LayoutModel",
      "state": {}
     },
     "23e8fbad687e447b85b285cabfe8f2b7": {
      "model_module": "@jupyter-widgets/controls",
      "model_module_version": "1.5.0",
      "model_name": "FloatProgressModel",
      "state": {
       "layout": "IPY_MODEL_b937c2e8383140afa0fa91a46d9a34df",
       "max": 1,
       "style": "IPY_MODEL_5030c424d5844709869a6508135716d0",
       "value": 1
      }
     },
     "23f659a54ad34d7b85283141c2d9d285": {
      "model_module": "@jupyter-widgets/base",
      "model_module_version": "1.2.0",
      "model_name": "LayoutModel",
      "state": {}
     },
     "2493d62042544fe398ea765bbffdedce": {
      "model_module": "@jupyter-widgets/controls",
      "model_module_version": "1.5.0",
      "model_name": "LabelModel",
      "state": {
       "layout": "IPY_MODEL_ed7e8cf0937f4c49883e64a034d39992",
       "style": "IPY_MODEL_0ebea68a84e341c8aae25a991589f214"
      }
     },
     "24b0b58bd8094a569cf8769196fd7703": {
      "model_module": "@jupyter-widgets/controls",
      "model_module_version": "1.5.0",
      "model_name": "DescriptionStyleModel",
      "state": {
       "description_width": ""
      }
     },
     "25cf1ad629414c4786a323364e50650b": {
      "model_module": "@jupyter-widgets/controls",
      "model_module_version": "1.5.0",
      "model_name": "DescriptionStyleModel",
      "state": {
       "description_width": ""
      }
     },
     "2647567fd1e14072be384164099e1561": {
      "model_module": "@jupyter-widgets/controls",
      "model_module_version": "1.5.0",
      "model_name": "ProgressStyleModel",
      "state": {
       "description_width": ""
      }
     },
     "268f6f36393147b7a24b98f44987e00c": {
      "model_module": "@jupyter-widgets/controls",
      "model_module_version": "1.5.0",
      "model_name": "HTMLModel",
      "state": {
       "layout": "IPY_MODEL_219c910f1d044d9d8b2f647a21b84046",
       "style": "IPY_MODEL_88a7b983446047a0b1d135dab122b195",
       "value": "100%"
      }
     },
     "26a95051bfe54e1eba6c788f3568b144": {
      "model_module": "@jupyter-widgets/controls",
      "model_module_version": "1.5.0",
      "model_name": "FloatProgressModel",
      "state": {
       "bar_style": "success",
       "layout": "IPY_MODEL_db2b5763a5884011ae76ce630e902858",
       "max": 11372,
       "style": "IPY_MODEL_116fd1a09b554834aadb1c3dfdd3faa5",
       "value": 11372
      }
     },
     "272b9692f29642c09ecb57e4ac64236c": {
      "model_module": "@jupyter-widgets/controls",
      "model_module_version": "1.5.0",
      "model_name": "HBoxModel",
      "state": {
       "children": [
        "IPY_MODEL_dfb05c14dcbf40b883d40a333ee47be9",
        "IPY_MODEL_f600b4e06f0442ed8494da99e34ed648",
        "IPY_MODEL_a22d405d79634f8abaa339903e0ab6d8"
       ],
       "layout": "IPY_MODEL_00cc6c33fed54379a2d157253975acec"
      }
     },
     "2738b99975544f6b8046d230efe965ab": {
      "model_module": "@jupyter-widgets/controls",
      "model_module_version": "1.5.0",
      "model_name": "VBoxModel",
      "state": {
       "children": [
        "IPY_MODEL_66366efd4fa9491e9e9c2f1430c08d2f",
        "IPY_MODEL_9fae28e3426044d6b348feb34d568d1d"
       ],
       "layout": "IPY_MODEL_b74af494c8bb40679996a449251274e3"
      }
     },
     "277b919263574c48b6f99f6b3b901254": {
      "model_module": "@jupyter-widgets/controls",
      "model_module_version": "1.5.0",
      "model_name": "ProgressStyleModel",
      "state": {
       "description_width": ""
      }
     },
     "27acecc2c76f40dfb83eef904f1ded25": {
      "model_module": "@jupyter-widgets/controls",
      "model_module_version": "1.5.0",
      "model_name": "ProgressStyleModel",
      "state": {
       "description_width": ""
      }
     },
     "27c5598b13e04a6eb6241da90e822f34": {
      "model_module": "@jupyter-widgets/controls",
      "model_module_version": "1.5.0",
      "model_name": "FloatProgressModel",
      "state": {
       "bar_style": "success",
       "layout": "IPY_MODEL_e4e79ab52c9a499d83a045f3154f36d0",
       "max": 112,
       "style": "IPY_MODEL_d24b28c7d0204b778b46189895645bd3",
       "value": 112
      }
     },
     "27d3b19b9cf44d5fa0e37ce6b4288246": {
      "model_module": "@jupyter-widgets/base",
      "model_module_version": "1.2.0",
      "model_name": "LayoutModel",
      "state": {}
     },
     "28944c8f3ae64561b87bb1a2627f7fce": {
      "model_module": "@jupyter-widgets/controls",
      "model_module_version": "1.5.0",
      "model_name": "DescriptionStyleModel",
      "state": {
       "description_width": ""
      }
     },
     "28b34a9cb3ad47d7ae2d19c3143bbf27": {
      "model_module": "@jupyter-widgets/base",
      "model_module_version": "1.2.0",
      "model_name": "LayoutModel",
      "state": {}
     },
     "28edec109bd64be995aa0a8402143c30": {
      "model_module": "@jupyter-widgets/controls",
      "model_module_version": "1.5.0",
      "model_name": "HTMLModel",
      "state": {
       "layout": "IPY_MODEL_a81f09076ea24d7dbdf139c95a5781ed",
       "style": "IPY_MODEL_1312ba08801e433691562af6dea445d5",
       "value": "Epochs 1/2. Running Loss:    1.0858: 100%"
      }
     },
     "29090f1b42544945a517cf12a24fba5e": {
      "model_module": "@jupyter-widgets/base",
      "model_module_version": "1.2.0",
      "model_name": "LayoutModel",
      "state": {}
     },
     "299322db915d45c49ba28f8e016c6fc4": {
      "model_module": "@jupyter-widgets/controls",
      "model_module_version": "1.5.0",
      "model_name": "DescriptionStyleModel",
      "state": {
       "description_width": ""
      }
     },
     "29e3199c34e841ee8b04e6f78e664f54": {
      "model_module": "@jupyter-widgets/base",
      "model_module_version": "1.2.0",
      "model_name": "LayoutModel",
      "state": {}
     },
     "2a16fd8f82de42c68de9d49198ad5e09": {
      "model_module": "@jupyter-widgets/controls",
      "model_module_version": "1.5.0",
      "model_name": "HTMLModel",
      "state": {
       "layout": "IPY_MODEL_12b7f3ffa64d47319e812d28c56135aa",
       "style": "IPY_MODEL_0a7e9de24ea44056b087fd2c0bc4c2a0",
       "value": " 43/43 [00:02&lt;00:00, 28.59it/s]"
      }
     },
     "2af9821096654e52ba0f737a0bd86cbe": {
      "model_module": "@jupyter-widgets/controls",
      "model_module_version": "1.5.0",
      "model_name": "DescriptionStyleModel",
      "state": {
       "description_width": ""
      }
     },
     "2b26538f83ce4519b89cb0f4e8fc316b": {
      "model_module": "@jupyter-widgets/controls",
      "model_module_version": "1.5.0",
      "model_name": "ProgressStyleModel",
      "state": {
       "description_width": ""
      }
     },
     "2b26757d0ddb4111af8cde3fe6751dc0": {
      "model_module": "@jupyter-widgets/controls",
      "model_module_version": "1.5.0",
      "model_name": "FloatProgressModel",
      "state": {
       "bar_style": "success",
       "layout": "IPY_MODEL_956340a457ea4e57a634b4f7e07277d0",
       "max": 1318,
       "style": "IPY_MODEL_d37c8f9d7d5b416b849e5484bebbb89e",
       "value": 1318
      }
     },
     "2b9288066d034c74b63d3a6453375a87": {
      "model_module": "@jupyter-widgets/controls",
      "model_module_version": "1.5.0",
      "model_name": "HTMLModel",
      "state": {
       "layout": "IPY_MODEL_f33f4535f0634b3c97ce750a64f125c7",
       "style": "IPY_MODEL_fd1c04042f094adb94931ef0d73fdf0f",
       "value": "100%"
      }
     },
     "2c63c0999f7544ac9b9d8d6ceffac522": {
      "model_module": "@jupyter-widgets/base",
      "model_module_version": "1.2.0",
      "model_name": "LayoutModel",
      "state": {}
     },
     "2c6a2f2489e34f2e81a87d43cc4def19": {
      "model_module": "@jupyter-widgets/controls",
      "model_module_version": "1.5.0",
      "model_name": "FloatProgressModel",
      "state": {
       "bar_style": "success",
       "layout": "IPY_MODEL_147763c1b35343b28f6a090678aaade5",
       "max": 43,
       "style": "IPY_MODEL_de7931fd931f417491b2dc05d461d82d",
       "value": 43
      }
     },
     "2c9b04253b6e47d98418fef0087ec5d2": {
      "model_module": "@jupyter-widgets/controls",
      "model_module_version": "1.5.0",
      "model_name": "DescriptionStyleModel",
      "state": {
       "description_width": ""
      }
     },
     "2cb01f08ecef4e9bb6c8d0380260c206": {
      "model_module": "@jupyter-widgets/controls",
      "model_module_version": "1.5.0",
      "model_name": "ProgressStyleModel",
      "state": {
       "description_width": ""
      }
     },
     "2d6fbb5991fd4c1c88d746f29745028b": {
      "model_module": "@jupyter-widgets/base",
      "model_module_version": "1.2.0",
      "model_name": "LayoutModel",
      "state": {}
     },
     "2d722c4fc2284573a1b4b77baad81054": {
      "model_module": "@jupyter-widgets/base",
      "model_module_version": "1.2.0",
      "model_name": "LayoutModel",
      "state": {}
     },
     "2d88c9d06cbf4fdda7880829f9158e35": {
      "model_module": "@jupyter-widgets/controls",
      "model_module_version": "1.5.0",
      "model_name": "ProgressStyleModel",
      "state": {
       "description_width": ""
      }
     },
     "2e6a740865504ed79bf66bf9b4bb3c68": {
      "model_module": "@jupyter-widgets/controls",
      "model_module_version": "1.5.0",
      "model_name": "HTMLModel",
      "state": {
       "layout": "IPY_MODEL_4009db28395e45aa8ebdcd05cca7c413",
       "style": "IPY_MODEL_65f9ae206c45425780d60b884565efda",
       "value": "100%"
      }
     },
     "2ef76314d0e14bb9b361f02880285ec9": {
      "model_module": "@jupyter-widgets/base",
      "model_module_version": "1.2.0",
      "model_name": "LayoutModel",
      "state": {}
     },
     "2f1cfe6b53a747f3963caad08b8bbc94": {
      "model_module": "@jupyter-widgets/controls",
      "model_module_version": "1.5.0",
      "model_name": "DescriptionStyleModel",
      "state": {
       "description_width": ""
      }
     },
     "2f33ad5e219843d1b2a8329af73ce142": {
      "model_module": "@jupyter-widgets/controls",
      "model_module_version": "1.5.0",
      "model_name": "HBoxModel",
      "state": {
       "children": [
        "IPY_MODEL_5bddfe5f6f7044138fad13b12f3ad582",
        "IPY_MODEL_30924d8358bd425cbccb10cf81b53058",
        "IPY_MODEL_447adbc871304c09b77bf61247721b90"
       ],
       "layout": "IPY_MODEL_1eb16e1b51de4e59b66d12d4b8c06b2c"
      }
     },
     "2f95af2e56994837a8a9ca34ba00f6be": {
      "model_module": "@jupyter-widgets/controls",
      "model_module_version": "1.5.0",
      "model_name": "ProgressStyleModel",
      "state": {
       "description_width": ""
      }
     },
     "2fdbfff64a4d446eb8db5fd45c900cbb": {
      "model_module": "@jupyter-widgets/controls",
      "model_module_version": "1.5.0",
      "model_name": "HTMLModel",
      "state": {
       "layout": "IPY_MODEL_4d13cdacae4d4c54b47156ccb4c440d0",
       "style": "IPY_MODEL_f8cc4e8db9d545db8ef759e367fd5551",
       "value": "100%"
      }
     },
     "302ff08b8958469caeaaeebbd609ed1a": {
      "model_module": "@jupyter-widgets/controls",
      "model_module_version": "1.5.0",
      "model_name": "DescriptionStyleModel",
      "state": {
       "description_width": ""
      }
     },
     "303729bcd4184fd8b363f14825d33e5a": {
      "model_module": "@jupyter-widgets/base",
      "model_module_version": "1.2.0",
      "model_name": "LayoutModel",
      "state": {}
     },
     "3046fadb90c14f7da9f8de23d8511d47": {
      "model_module": "@jupyter-widgets/base",
      "model_module_version": "1.2.0",
      "model_name": "LayoutModel",
      "state": {}
     },
     "30924d8358bd425cbccb10cf81b53058": {
      "model_module": "@jupyter-widgets/controls",
      "model_module_version": "1.5.0",
      "model_name": "FloatProgressModel",
      "state": {
       "bar_style": "success",
       "layout": "IPY_MODEL_d0b268d7e43c42338d60c954d6f34c0e",
       "max": 1318,
       "style": "IPY_MODEL_ea93ca4a100e4d78874b8715b0be92d7",
       "value": 1318
      }
     },
     "30ab2c8b3e2947c695e974095426c705": {
      "model_module": "@jupyter-widgets/controls",
      "model_module_version": "1.5.0",
      "model_name": "ProgressStyleModel",
      "state": {
       "description_width": ""
      }
     },
     "30ab41eae05146fb800212c567973252": {
      "model_module": "@jupyter-widgets/base",
      "model_module_version": "1.2.0",
      "model_name": "LayoutModel",
      "state": {}
     },
     "30f47ba61a6a42fab0f0780bc030c2c6": {
      "model_module": "@jupyter-widgets/controls",
      "model_module_version": "1.5.0",
      "model_name": "HTMLModel",
      "state": {
       "layout": "IPY_MODEL_fd27af381901496d9c53e08a8fa1853e",
       "style": "IPY_MODEL_ca1baf7fd5df41da95747f95da7568ea",
       "value": "Epochs 1/2. Running Loss:    0.2471: 100%"
      }
     },
     "311149ad45644f68858ef3f0122b556f": {
      "model_module": "@jupyter-widgets/base",
      "model_module_version": "1.2.0",
      "model_name": "LayoutModel",
      "state": {}
     },
     "31f0aa6e4e0a44fb95373951771777ad": {
      "model_module": "@jupyter-widgets/controls",
      "model_module_version": "1.5.0",
      "model_name": "HTMLModel",
      "state": {
       "layout": "IPY_MODEL_28b34a9cb3ad47d7ae2d19c3143bbf27",
       "style": "IPY_MODEL_02d6fa49c9d64da38f7edfda537f2eaa",
       "value": " 2/2 [01:42&lt;00:00, 50.54s/it]"
      }
     },
     "31f5d0c2d7584833800d89ad779d1c4d": {
      "model_module": "@jupyter-widgets/base",
      "model_module_version": "1.2.0",
      "model_name": "LayoutModel",
      "state": {}
     },
     "32d65460b39d4ac0a83ba8147535900b": {
      "model_module": "@jupyter-widgets/controls",
      "model_module_version": "1.5.0",
      "model_name": "HBoxModel",
      "state": {
       "children": [
        "IPY_MODEL_148d2b80611c4bef9d7c98200ed5b57c",
        "IPY_MODEL_0537c11f82124042826bc752ca9264da",
        "IPY_MODEL_687d2ac975c74eeea64d2ffdcf4b8192"
       ],
       "layout": "IPY_MODEL_e6a4a85306dc46a88f67a07ed541620c"
      }
     },
     "3320de1dda4548f1993c331aade3c4f2": {
      "model_module": "@jupyter-widgets/base",
      "model_module_version": "1.2.0",
      "model_name": "LayoutModel",
      "state": {}
     },
     "3321dda7a7d441f8bcd6ed9cd5987eee": {
      "model_module": "@jupyter-widgets/base",
      "model_module_version": "1.2.0",
      "model_name": "LayoutModel",
      "state": {}
     },
     "335017f28a2c4a698edbb0982bbe1e58": {
      "model_module": "@jupyter-widgets/base",
      "model_module_version": "1.2.0",
      "model_name": "LayoutModel",
      "state": {}
     },
     "33fcec1488924017a13baef81740d08f": {
      "model_module": "@jupyter-widgets/controls",
      "model_module_version": "1.5.0",
      "model_name": "HBoxModel",
      "state": {
       "children": [
        "IPY_MODEL_2e6a740865504ed79bf66bf9b4bb3c68",
        "IPY_MODEL_a69eeca57c5e45d9acbf7ac42cec2ea7",
        "IPY_MODEL_423ae54fe809482196b4f0b119fd7101"
       ],
       "layout": "IPY_MODEL_389964444da14e3c828fe48dbed2f454"
      }
     },
     "34430e2fa8a141068d79208a50ad7752": {
      "model_module": "@jupyter-widgets/controls",
      "model_module_version": "1.5.0",
      "model_name": "DescriptionStyleModel",
      "state": {
       "description_width": ""
      }
     },
     "34b30c6832674e3f8b17683d0bdd1876": {
      "model_module": "@jupyter-widgets/controls",
      "model_module_version": "1.5.0",
      "model_name": "DescriptionStyleModel",
      "state": {
       "description_width": ""
      }
     },
     "35aa73a0e23b4e85aac8555e4bbd3cce": {
      "model_module": "@jupyter-widgets/base",
      "model_module_version": "1.2.0",
      "model_name": "LayoutModel",
      "state": {}
     },
     "36189e4939334e82b2ad76e54d1e4b3c": {
      "model_module": "@jupyter-widgets/base",
      "model_module_version": "1.2.0",
      "model_name": "LayoutModel",
      "state": {}
     },
     "363f826bffa74a64b7d7b459ed247df3": {
      "model_module": "@jupyter-widgets/base",
      "model_module_version": "1.2.0",
      "model_name": "LayoutModel",
      "state": {}
     },
     "363f8e72c6c6441db52c7a6757b908e6": {
      "model_module": "@jupyter-widgets/base",
      "model_module_version": "1.2.0",
      "model_name": "LayoutModel",
      "state": {}
     },
     "36eaf217fd994d89acada240dad1f551": {
      "model_module": "@jupyter-widgets/base",
      "model_module_version": "1.2.0",
      "model_name": "LayoutModel",
      "state": {}
     },
     "371c1f0248994d7e9ff1754e04c4f714": {
      "model_module": "@jupyter-widgets/controls",
      "model_module_version": "1.5.0",
      "model_name": "LabelModel",
      "state": {
       "layout": "IPY_MODEL_6299f86ce51843abb89267027bafe6f6",
       "style": "IPY_MODEL_bf2da52550354fc599ab2fa0693e9d65",
       "value": "0.021 MB of 0.021 MB uploaded (0.000 MB deduped)\r"
      }
     },
     "372cd5a6635e4d88b25d746f5ad6c04b": {
      "model_module": "@jupyter-widgets/controls",
      "model_module_version": "1.5.0",
      "model_name": "HBoxModel",
      "state": {
       "children": [
        "IPY_MODEL_bef88aafcf174a7780a88243e84b4e0e",
        "IPY_MODEL_ab5642c9cd7746a08b6f6eafac9e63d1",
        "IPY_MODEL_ad27038df12746c3b892daa20160646e"
       ],
       "layout": "IPY_MODEL_1b5a61c814ab4ec582e8cef95625ee81"
      }
     },
     "3795bf8113f344aca85a8f5beb62f51b": {
      "model_module": "@jupyter-widgets/base",
      "model_module_version": "1.2.0",
      "model_name": "LayoutModel",
      "state": {}
     },
     "37d5b114f6d94cdfad4ba4633dc2fead": {
      "model_module": "@jupyter-widgets/controls",
      "model_module_version": "1.5.0",
      "model_name": "FloatProgressModel",
      "state": {
       "layout": "IPY_MODEL_901fb9852cf343c3bb9a7ff529cf75bf",
       "max": 1,
       "style": "IPY_MODEL_0861540def5c45c18d34d9e65bc3c324",
       "value": 1
      }
     },
     "381619d730394e0abfa18b354e9608da": {
      "model_module": "@jupyter-widgets/controls",
      "model_module_version": "1.5.0",
      "model_name": "DescriptionStyleModel",
      "state": {
       "description_width": ""
      }
     },
     "389964444da14e3c828fe48dbed2f454": {
      "model_module": "@jupyter-widgets/base",
      "model_module_version": "1.2.0",
      "model_name": "LayoutModel",
      "state": {}
     },
     "38db643b7fcd4592883c10d15315c82d": {
      "model_module": "@jupyter-widgets/controls",
      "model_module_version": "1.5.0",
      "model_name": "HTMLModel",
      "state": {
       "layout": "IPY_MODEL_7f3f9389431d426591f9bafc6f87efa3",
       "style": "IPY_MODEL_1d57dc333c514aa595ddfeef288c2cea",
       "value": "100%"
      }
     },
     "38f9bcc53bed4273b6e14f64a6da2ebb": {
      "model_module": "@jupyter-widgets/base",
      "model_module_version": "1.2.0",
      "model_name": "LayoutModel",
      "state": {}
     },
     "3949797f9e6941ea9616af950ac874e1": {
      "model_module": "@jupyter-widgets/base",
      "model_module_version": "1.2.0",
      "model_name": "LayoutModel",
      "state": {}
     },
     "395f9bee123841a6abf34c208f35b0d5": {
      "model_module": "@jupyter-widgets/base",
      "model_module_version": "1.2.0",
      "model_name": "LayoutModel",
      "state": {}
     },
     "3973453e40c34fa3ab4f8fabd35a6326": {
      "model_module": "@jupyter-widgets/controls",
      "model_module_version": "1.5.0",
      "model_name": "FloatProgressModel",
      "state": {
       "bar_style": "success",
       "layout": "IPY_MODEL_71c5f216aecd419e86ee413805b6bdd0",
       "max": 43,
       "style": "IPY_MODEL_94098940085b4dbb887cef9991b1f93f",
       "value": 43
      }
     },
     "399bd26250d14def8c00da6491061452": {
      "model_module": "@jupyter-widgets/controls",
      "model_module_version": "1.5.0",
      "model_name": "ProgressStyleModel",
      "state": {
       "description_width": ""
      }
     },
     "39f498af3eed4479ba6fb0877175c90b": {
      "model_module": "@jupyter-widgets/controls",
      "model_module_version": "1.5.0",
      "model_name": "HTMLModel",
      "state": {
       "layout": "IPY_MODEL_f277e7a657724e798bbca7582cb74ff8",
       "style": "IPY_MODEL_25cf1ad629414c4786a323364e50650b",
       "value": " 1318/1318 [00:00&lt;00:00, 2248.73it/s]"
      }
     },
     "3a5813f1f8f94603a43c4c943fa0934e": {
      "model_module": "@jupyter-widgets/base",
      "model_module_version": "1.2.0",
      "model_name": "LayoutModel",
      "state": {}
     },
     "3ac6cacbb9824f04ba64134b42aa3759": {
      "model_module": "@jupyter-widgets/controls",
      "model_module_version": "1.5.0",
      "model_name": "LabelModel",
      "state": {
       "layout": "IPY_MODEL_506e1841934b446a9545e7f41fe93958",
       "style": "IPY_MODEL_19d54a7824424dbdb7dcd9cfb4fd3486"
      }
     },
     "3b0d7e760d2d4ece8c1dcae052528be6": {
      "model_module": "@jupyter-widgets/controls",
      "model_module_version": "1.5.0",
      "model_name": "FloatProgressModel",
      "state": {
       "bar_style": "success",
       "layout": "IPY_MODEL_aba901ba5c2b466faf26a9fd0a39f476",
       "max": 3555,
       "style": "IPY_MODEL_e98c0c88a8e14d92bb27380603856d46",
       "value": 3555
      }
     },
     "3b2bc943000945f9aef5fff6cdaf8d40": {
      "model_module": "@jupyter-widgets/controls",
      "model_module_version": "1.5.0",
      "model_name": "DescriptionStyleModel",
      "state": {
       "description_width": ""
      }
     },
     "3b34a54cb1204d2da656e11d85a25644": {
      "model_module": "@jupyter-widgets/base",
      "model_module_version": "1.2.0",
      "model_name": "LayoutModel",
      "state": {}
     },
     "3b93da5080464092a2c0999b9c4e37ee": {
      "model_module": "@jupyter-widgets/base",
      "model_module_version": "1.2.0",
      "model_name": "LayoutModel",
      "state": {}
     },
     "3c39aab3578b4ee4826de7892e962ba8": {
      "model_module": "@jupyter-widgets/controls",
      "model_module_version": "1.5.0",
      "model_name": "HTMLModel",
      "state": {
       "layout": "IPY_MODEL_b8ae58757d474222be135ecbc736ae51",
       "style": "IPY_MODEL_b1a19b4bab204284aa9eee24de037bab",
       "value": " 11372/11372 [00:01&lt;00:00, 7423.04it/s]"
      }
     },
     "3c63186ed4b34f41ab236ab42b52e0dc": {
      "model_module": "@jupyter-widgets/controls",
      "model_module_version": "1.5.0",
      "model_name": "LabelModel",
      "state": {
       "layout": "IPY_MODEL_fd82baa95e8a4e67a09f2b63423ce5de",
       "style": "IPY_MODEL_4783be89087a4158ae3a142ab79a6d8b"
      }
     },
     "3d51c4aa270540d3a454fd9b796721f5": {
      "model_module": "@jupyter-widgets/controls",
      "model_module_version": "1.5.0",
      "model_name": "HBoxModel",
      "state": {
       "children": [
        "IPY_MODEL_96712f334f9944cfa77ff60979bcc273",
        "IPY_MODEL_9e0ea092d644419aaa53da4a10bd2264",
        "IPY_MODEL_e835898649384a06a6c3d3c29e860556"
       ],
       "layout": "IPY_MODEL_7d1a1122cbe3449cb02a81f5bb31901b"
      }
     },
     "3d59b1bc62074d9995cb32bb67e4a514": {
      "model_module": "@jupyter-widgets/controls",
      "model_module_version": "1.5.0",
      "model_name": "HTMLModel",
      "state": {
       "layout": "IPY_MODEL_91dc520f5e3e429ab8b50e6ae0e34238",
       "style": "IPY_MODEL_da6a9ce57bc2460a817dfc96bbf4c31c",
       "value": "100%"
      }
     },
     "3e732e3847d9436d92bbaf641b6d98a1": {
      "model_module": "@jupyter-widgets/base",
      "model_module_version": "1.2.0",
      "model_name": "LayoutModel",
      "state": {}
     },
     "3e76bf0db4004ea099ca0fc2f40e62ec": {
      "model_module": "@jupyter-widgets/base",
      "model_module_version": "1.2.0",
      "model_name": "LayoutModel",
      "state": {}
     },
     "3efb231b929c4a4db66316d36ea16153": {
      "model_module": "@jupyter-widgets/controls",
      "model_module_version": "1.5.0",
      "model_name": "DescriptionStyleModel",
      "state": {
       "description_width": ""
      }
     },
     "3f8e321d721f4af7831c18d2f851327b": {
      "model_module": "@jupyter-widgets/controls",
      "model_module_version": "1.5.0",
      "model_name": "DescriptionStyleModel",
      "state": {
       "description_width": ""
      }
     },
     "3f927efc30834631bc89679bf377bd2a": {
      "model_module": "@jupyter-widgets/controls",
      "model_module_version": "1.5.0",
      "model_name": "DescriptionStyleModel",
      "state": {
       "description_width": ""
      }
     },
     "3f9d0055cf99485ba07d9074315bcb94": {
      "model_module": "@jupyter-widgets/base",
      "model_module_version": "1.2.0",
      "model_name": "LayoutModel",
      "state": {}
     },
     "3fe095a8c2234209b5de3de62cea9824": {
      "model_module": "@jupyter-widgets/controls",
      "model_module_version": "1.5.0",
      "model_name": "HBoxModel",
      "state": {
       "children": [
        "IPY_MODEL_e16f43853d204854b84677676a72e696",
        "IPY_MODEL_8e965e8e4c7a4757a944c3752b5dffae",
        "IPY_MODEL_22ae285bf60a4da7bb930f42ac1416bc"
       ],
       "layout": "IPY_MODEL_4192a251d2594186a9f775c6a8a6942c"
      }
     },
     "3feb335adf5f45a0b02d937d353e5937": {
      "model_module": "@jupyter-widgets/controls",
      "model_module_version": "1.5.0",
      "model_name": "FloatProgressModel",
      "state": {
       "layout": "IPY_MODEL_0f791b426d1d409785a4df76b9b8c58a",
       "max": 1,
       "style": "IPY_MODEL_b2f3f7cdab7d47b98ce2722d8fa4baf7"
      }
     },
     "4009db28395e45aa8ebdcd05cca7c413": {
      "model_module": "@jupyter-widgets/base",
      "model_module_version": "1.2.0",
      "model_name": "LayoutModel",
      "state": {}
     },
     "4039f9f4ee7c440389335b3f1de3abdc": {
      "model_module": "@jupyter-widgets/controls",
      "model_module_version": "1.5.0",
      "model_name": "HTMLModel",
      "state": {
       "layout": "IPY_MODEL_0b3905616dff4c0ab80841da6e961190",
       "style": "IPY_MODEL_633c4d8e31514223a63f8013ddbfca86",
       "value": " 43/43 [00:01&lt;00:00, 28.94it/s]"
      }
     },
     "407cf67f02ef4c12abd270a112f76d20": {
      "model_module": "@jupyter-widgets/controls",
      "model_module_version": "1.5.0",
      "model_name": "VBoxModel",
      "state": {
       "children": [
        "IPY_MODEL_3c63186ed4b34f41ab236ab42b52e0dc",
        "IPY_MODEL_dd8ab2df686b43e6ac8881e9edd9490c"
       ],
       "layout": "IPY_MODEL_b2e2c929718647c39c5dc990d7b761d9"
      }
     },
     "40e4ee3628a347bb9a2d37fa1f00f508": {
      "model_module": "@jupyter-widgets/base",
      "model_module_version": "1.2.0",
      "model_name": "LayoutModel",
      "state": {}
     },
     "410852d2eb79429eb58b19e51d39b1ba": {
      "model_module": "@jupyter-widgets/base",
      "model_module_version": "1.2.0",
      "model_name": "LayoutModel",
      "state": {}
     },
     "4192a251d2594186a9f775c6a8a6942c": {
      "model_module": "@jupyter-widgets/base",
      "model_module_version": "1.2.0",
      "model_name": "LayoutModel",
      "state": {}
     },
     "421ada7ea33545e9b22f718f79e80277": {
      "model_module": "@jupyter-widgets/controls",
      "model_module_version": "1.5.0",
      "model_name": "DescriptionStyleModel",
      "state": {
       "description_width": ""
      }
     },
     "423ae54fe809482196b4f0b119fd7101": {
      "model_module": "@jupyter-widgets/controls",
      "model_module_version": "1.5.0",
      "model_name": "HTMLModel",
      "state": {
       "layout": "IPY_MODEL_9e7e7ac8183c43eda5af3656cca4e3fc",
       "style": "IPY_MODEL_ea86fadee3124af0b568032e4035ab1c",
       "value": " 3555/3555 [00:00&lt;00:00, 7936.47it/s]"
      }
     },
     "42b5c81e8c3a4e07b94452f77e3855fa": {
      "model_module": "@jupyter-widgets/base",
      "model_module_version": "1.2.0",
      "model_name": "LayoutModel",
      "state": {}
     },
     "42dc2f8416c543979cd19bc18ed2ec9f": {
      "model_module": "@jupyter-widgets/controls",
      "model_module_version": "1.5.0",
      "model_name": "ProgressStyleModel",
      "state": {
       "description_width": ""
      }
     },
     "430fa8d970df435292ab511de32505a3": {
      "model_module": "@jupyter-widgets/controls",
      "model_module_version": "1.5.0",
      "model_name": "HBoxModel",
      "state": {
       "children": [
        "IPY_MODEL_2fdbfff64a4d446eb8db5fd45c900cbb",
        "IPY_MODEL_0ea1151aad3e40eea3d85791c934df45",
        "IPY_MODEL_6914692ff6b942f886185090872ecfd4"
       ],
       "layout": "IPY_MODEL_563feda865654b9e8fba65ddb8258a9a"
      }
     },
     "445c62e48fe64c578e3210a450b83959": {
      "model_module": "@jupyter-widgets/controls",
      "model_module_version": "1.5.0",
      "model_name": "HTMLModel",
      "state": {
       "layout": "IPY_MODEL_d5d6265c567240108018392aad151572",
       "style": "IPY_MODEL_f8eb01a85565487cbb3b9bebf5aa12e5",
       "value": " 11372/11372 [00:01&lt;00:00, 7186.56it/s]"
      }
     },
     "447adbc871304c09b77bf61247721b90": {
      "model_module": "@jupyter-widgets/controls",
      "model_module_version": "1.5.0",
      "model_name": "HTMLModel",
      "state": {
       "layout": "IPY_MODEL_76d95794d0464c5bbde3617411a3f016",
       "style": "IPY_MODEL_cb29c7e546d24157b50b93092732ef48",
       "value": " 1318/1318 [00:00&lt;00:00, 2241.75it/s]"
      }
     },
     "44d31fad7eb04ef182f82681b7f0ec07": {
      "model_module": "@jupyter-widgets/base",
      "model_module_version": "1.2.0",
      "model_name": "LayoutModel",
      "state": {}
     },
     "44e73d5e23284ecab5fcbdcf2bda6115": {
      "model_module": "@jupyter-widgets/controls",
      "model_module_version": "1.5.0",
      "model_name": "ProgressStyleModel",
      "state": {
       "description_width": ""
      }
     },
     "4507a1da689e466bac6c9d132c97750e": {
      "model_module": "@jupyter-widgets/controls",
      "model_module_version": "1.5.0",
      "model_name": "HTMLModel",
      "state": {
       "layout": "IPY_MODEL_42b5c81e8c3a4e07b94452f77e3855fa",
       "style": "IPY_MODEL_973f9fcc98f94718939822796c56488b",
       "value": "100%"
      }
     },
     "45880f538d0045efadd753f049e90736": {
      "model_module": "@jupyter-widgets/controls",
      "model_module_version": "1.5.0",
      "model_name": "DescriptionStyleModel",
      "state": {
       "description_width": ""
      }
     },
     "45b81b4d95e647f0892245964ca41372": {
      "model_module": "@jupyter-widgets/base",
      "model_module_version": "1.2.0",
      "model_name": "LayoutModel",
      "state": {}
     },
     "45ee40bd10284cb481b807fc1b678ad9": {
      "model_module": "@jupyter-widgets/base",
      "model_module_version": "1.2.0",
      "model_name": "LayoutModel",
      "state": {}
     },
     "4630e2a0a33f4892bede50a6238ac4e5": {
      "model_module": "@jupyter-widgets/base",
      "model_module_version": "1.2.0",
      "model_name": "LayoutModel",
      "state": {}
     },
     "466133ddefe8409aaca2d0f0aa26586b": {
      "model_module": "@jupyter-widgets/base",
      "model_module_version": "1.2.0",
      "model_name": "LayoutModel",
      "state": {}
     },
     "46d9a8ff45234149943cffd106abb724": {
      "model_module": "@jupyter-widgets/controls",
      "model_module_version": "1.5.0",
      "model_name": "HTMLModel",
      "state": {
       "layout": "IPY_MODEL_e4e04f0a2c114982aaaefecd2e3c2a58",
       "style": "IPY_MODEL_3b2bc943000945f9aef5fff6cdaf8d40",
       "value": "100%"
      }
     },
     "4722cde5535c4b6098414a8532d22cff": {
      "model_module": "@jupyter-widgets/base",
      "model_module_version": "1.2.0",
      "model_name": "LayoutModel",
      "state": {}
     },
     "476a11c03a47434e952da0fa52673d1a": {
      "model_module": "@jupyter-widgets/base",
      "model_module_version": "1.2.0",
      "model_name": "LayoutModel",
      "state": {}
     },
     "477e410308774116986d3be8b86948b0": {
      "model_module": "@jupyter-widgets/controls",
      "model_module_version": "1.5.0",
      "model_name": "HBoxModel",
      "state": {
       "children": [
        "IPY_MODEL_28edec109bd64be995aa0a8402143c30",
        "IPY_MODEL_7dde618ba302401b9304a41bf0e0292c",
        "IPY_MODEL_0298a885399c4487abecfdb4e5547bd7"
       ],
       "layout": "IPY_MODEL_64a90cdb56b6414792117c2a9f6d8106"
      }
     },
     "478284c137c049878914b7f712fe35b2": {
      "model_module": "@jupyter-widgets/controls",
      "model_module_version": "1.5.0",
      "model_name": "FloatProgressModel",
      "state": {
       "bar_style": "success",
       "layout": "IPY_MODEL_ce6a9fe045ac42cb9315daab6646d8b0",
       "max": 1318,
       "style": "IPY_MODEL_30ab2c8b3e2947c695e974095426c705",
       "value": 1318
      }
     },
     "4783be89087a4158ae3a142ab79a6d8b": {
      "model_module": "@jupyter-widgets/controls",
      "model_module_version": "1.5.0",
      "model_name": "DescriptionStyleModel",
      "state": {
       "description_width": ""
      }
     },
     "47ce378537214bef96583cd77f541a38": {
      "model_module": "@jupyter-widgets/controls",
      "model_module_version": "1.5.0",
      "model_name": "FloatProgressModel",
      "state": {
       "bar_style": "success",
       "layout": "IPY_MODEL_80e9087daea544c5ab0bee0732ca38a5",
       "max": 345,
       "style": "IPY_MODEL_42dc2f8416c543979cd19bc18ed2ec9f",
       "value": 345
      }
     },
     "48502a6b3fd344319dc0c5bdff6b1a7d": {
      "model_module": "@jupyter-widgets/base",
      "model_module_version": "1.2.0",
      "model_name": "LayoutModel",
      "state": {}
     },
     "48b89a2af19848c2ab95a6a7d5ab5dd3": {
      "model_module": "@jupyter-widgets/controls",
      "model_module_version": "1.5.0",
      "model_name": "FloatProgressModel",
      "state": {
       "bar_style": "success",
       "layout": "IPY_MODEL_959eb58ac33b44ad8bd9a79fd166cda9",
       "max": 11372,
       "style": "IPY_MODEL_9f62b87087b44dd6bfc708b5fde3c285",
       "value": 11372
      }
     },
     "48d2557a233549e3b20ce7fbe3da1439": {
      "model_module": "@jupyter-widgets/base",
      "model_module_version": "1.2.0",
      "model_name": "LayoutModel",
      "state": {}
     },
     "48f4aa0b061a432b8e1bdd697de5b181": {
      "model_module": "@jupyter-widgets/base",
      "model_module_version": "1.2.0",
      "model_name": "LayoutModel",
      "state": {}
     },
     "499debe39cfd40b480ccc4c65b8e33e4": {
      "model_module": "@jupyter-widgets/controls",
      "model_module_version": "1.5.0",
      "model_name": "FloatProgressModel",
      "state": {
       "bar_style": "success",
       "layout": "IPY_MODEL_311149ad45644f68858ef3f0122b556f",
       "max": 3555,
       "style": "IPY_MODEL_9e543cce02a446f28f0981335d50328b",
       "value": 3555
      }
     },
     "49d7d1896f094c75b40e3d692aa68191": {
      "model_module": "@jupyter-widgets/controls",
      "model_module_version": "1.5.0",
      "model_name": "DescriptionStyleModel",
      "state": {
       "description_width": ""
      }
     },
     "4aca7185b9394957ab43deeedc34d75f": {
      "model_module": "@jupyter-widgets/base",
      "model_module_version": "1.2.0",
      "model_name": "LayoutModel",
      "state": {}
     },
     "4affcac88b3a4927a63ba4fcbab82280": {
      "model_module": "@jupyter-widgets/base",
      "model_module_version": "1.2.0",
      "model_name": "LayoutModel",
      "state": {}
     },
     "4bb745630b8b4ef9a1948b9e8d86c2ba": {
      "model_module": "@jupyter-widgets/controls",
      "model_module_version": "1.5.0",
      "model_name": "FloatProgressModel",
      "state": {
       "bar_style": "success",
       "layout": "IPY_MODEL_703d870997a5415695aaf0a230686611",
       "max": 43,
       "style": "IPY_MODEL_eb2cd48dbc3043669c8291873f9da880",
       "value": 43
      }
     },
     "4bbb73acb162489c816c93d856a0c2f9": {
      "model_module": "@jupyter-widgets/base",
      "model_module_version": "1.2.0",
      "model_name": "LayoutModel",
      "state": {}
     },
     "4bbf9611f5ce4665867bd0291a646cef": {
      "model_module": "@jupyter-widgets/controls",
      "model_module_version": "1.5.0",
      "model_name": "DescriptionStyleModel",
      "state": {
       "description_width": ""
      }
     },
     "4bcacce240b84f07931a6e9b034b03e5": {
      "model_module": "@jupyter-widgets/controls",
      "model_module_version": "1.5.0",
      "model_name": "ProgressStyleModel",
      "state": {
       "description_width": ""
      }
     },
     "4bee8fb67d0c489bb3f38af46a3858df": {
      "model_module": "@jupyter-widgets/base",
      "model_module_version": "1.2.0",
      "model_name": "LayoutModel",
      "state": {}
     },
     "4c0b8d10496d477ab9a94aa6e393aa2a": {
      "model_module": "@jupyter-widgets/base",
      "model_module_version": "1.2.0",
      "model_name": "LayoutModel",
      "state": {}
     },
     "4c557f4ef4c54db889201e36d4346a89": {
      "model_module": "@jupyter-widgets/base",
      "model_module_version": "1.2.0",
      "model_name": "LayoutModel",
      "state": {}
     },
     "4c9c5b20401a48c5af3ec5990dfd89c2": {
      "model_module": "@jupyter-widgets/controls",
      "model_module_version": "1.5.0",
      "model_name": "LabelModel",
      "state": {
       "layout": "IPY_MODEL_943cebdd12d74da1b16328e3fb36dc7b",
       "style": "IPY_MODEL_1c6d5de94b6e4962a1d6cf35addceefb",
       "value": "0.018 MB of 0.018 MB uploaded (0.000 MB deduped)\r"
      }
     },
     "4cd6a55a009e419bbffc32761b0a87f0": {
      "model_module": "@jupyter-widgets/base",
      "model_module_version": "1.2.0",
      "model_name": "LayoutModel",
      "state": {}
     },
     "4d13cdacae4d4c54b47156ccb4c440d0": {
      "model_module": "@jupyter-widgets/base",
      "model_module_version": "1.2.0",
      "model_name": "LayoutModel",
      "state": {}
     },
     "4d26702246304a8fa9bf449950c12d0a": {
      "model_module": "@jupyter-widgets/base",
      "model_module_version": "1.2.0",
      "model_name": "LayoutModel",
      "state": {}
     },
     "4d7aa1dcde704f32a6a5f1f1134c1510": {
      "model_module": "@jupyter-widgets/controls",
      "model_module_version": "1.5.0",
      "model_name": "DescriptionStyleModel",
      "state": {
       "description_width": ""
      }
     },
     "4d98b7f2254444be80b4794d9ae5cc66": {
      "model_module": "@jupyter-widgets/controls",
      "model_module_version": "1.5.0",
      "model_name": "HTMLModel",
      "state": {
       "layout": "IPY_MODEL_1d3be94da28f430587f39c12e47e0353",
       "style": "IPY_MODEL_01d6fdf70d6e47009cd5404938de0b3c",
       "value": "100%"
      }
     },
     "4dbf6e1a6b384c9098033dacae5af482": {
      "model_module": "@jupyter-widgets/controls",
      "model_module_version": "1.5.0",
      "model_name": "HTMLModel",
      "state": {
       "layout": "IPY_MODEL_35aa73a0e23b4e85aac8555e4bbd3cce",
       "style": "IPY_MODEL_1dbdf0a20e34411e899f165597863eed",
       "value": " 3555/3555 [00:00&lt;00:00, 4718.81it/s]"
      }
     },
     "4e21f32dfe0e42eba0aaa8d1b5cf08dd": {
      "model_module": "@jupyter-widgets/controls",
      "model_module_version": "1.5.0",
      "model_name": "HBoxModel",
      "state": {
       "children": [
        "IPY_MODEL_74c55954df3049ee80497460f857b67a",
        "IPY_MODEL_e061b06637eb4e1c84a9eb6256c432e8",
        "IPY_MODEL_061a8cce30214c188176edba86e1abca"
       ],
       "layout": "IPY_MODEL_3949797f9e6941ea9616af950ac874e1"
      }
     },
     "4e5f9eb444dd4d4ba319f661e0f866b9": {
      "model_module": "@jupyter-widgets/controls",
      "model_module_version": "1.5.0",
      "model_name": "ProgressStyleModel",
      "state": {
       "description_width": ""
      }
     },
     "4e6f624e740745ad99bf07ad1931dd17": {
      "model_module": "@jupyter-widgets/controls",
      "model_module_version": "1.5.0",
      "model_name": "FloatProgressModel",
      "state": {
       "bar_style": "success",
       "layout": "IPY_MODEL_ace320006c9242859d342d94add1dd5d",
       "max": 1318,
       "style": "IPY_MODEL_f414556512c748f3b5e8b521cc3c6d52",
       "value": 1318
      }
     },
     "4ec7db803a134ac8b07c4d9d38920a14": {
      "model_module": "@jupyter-widgets/controls",
      "model_module_version": "1.5.0",
      "model_name": "ProgressStyleModel",
      "state": {
       "description_width": ""
      }
     },
     "4ecfbf2129a84ed39a711b134a02a117": {
      "model_module": "@jupyter-widgets/controls",
      "model_module_version": "1.5.0",
      "model_name": "VBoxModel",
      "state": {
       "children": [
        "IPY_MODEL_fd2525aee8fe40cc82b0e2beccdeeedb",
        "IPY_MODEL_d67fa10aa0b9459381812012c362e351"
       ],
       "layout": "IPY_MODEL_f36c1ae32c0c482283a194c665754247"
      }
     },
     "4ef2386e46324a72b96a8a9e81d31f18": {
      "model_module": "@jupyter-widgets/controls",
      "model_module_version": "1.5.0",
      "model_name": "FloatProgressModel",
      "state": {
       "bar_style": "success",
       "layout": "IPY_MODEL_363f826bffa74a64b7d7b459ed247df3",
       "max": 356,
       "style": "IPY_MODEL_ba6f2bc500ed46f59964d48960b92e57",
       "value": 356
      }
     },
     "4f9fc15a0daf447086a54936a60c166b": {
      "model_module": "@jupyter-widgets/controls",
      "model_module_version": "1.5.0",
      "model_name": "HTMLModel",
      "state": {
       "layout": "IPY_MODEL_67f8ae1832f64d8898cb0cc424d25747",
       "style": "IPY_MODEL_573f6e10029e485ba0ded9b048670954",
       "value": "100%"
      }
     },
     "4fb11a0c39794be38830428e69856457": {
      "model_module": "@jupyter-widgets/controls",
      "model_module_version": "1.5.0",
      "model_name": "DescriptionStyleModel",
      "state": {
       "description_width": ""
      }
     },
     "4feb58de82d64fbbaa46596c0a508d83": {
      "model_module": "@jupyter-widgets/controls",
      "model_module_version": "1.5.0",
      "model_name": "HTMLModel",
      "state": {
       "layout": "IPY_MODEL_d77a1b2dffec4a71b040ed275a97233a",
       "style": "IPY_MODEL_0c89a8466aef4d529bcd667ec18f93f7",
       "value": " 2/2 [01:38&lt;00:00, 48.55s/it]"
      }
     },
     "5030c424d5844709869a6508135716d0": {
      "model_module": "@jupyter-widgets/controls",
      "model_module_version": "1.5.0",
      "model_name": "ProgressStyleModel",
      "state": {
       "description_width": ""
      }
     },
     "506e1841934b446a9545e7f41fe93958": {
      "model_module": "@jupyter-widgets/base",
      "model_module_version": "1.2.0",
      "model_name": "LayoutModel",
      "state": {}
     },
     "50c70b85213d444da027bf82ab97cf1f": {
      "model_module": "@jupyter-widgets/controls",
      "model_module_version": "1.5.0",
      "model_name": "DescriptionStyleModel",
      "state": {
       "description_width": ""
      }
     },
     "5129f9c86aa947958dac85c15bd43cf1": {
      "model_module": "@jupyter-widgets/base",
      "model_module_version": "1.2.0",
      "model_name": "LayoutModel",
      "state": {}
     },
     "5130b1222a5842549d1836879e413444": {
      "model_module": "@jupyter-widgets/base",
      "model_module_version": "1.2.0",
      "model_name": "LayoutModel",
      "state": {}
     },
     "51b4150f84164a1d8bb241e1e33926f0": {
      "model_module": "@jupyter-widgets/controls",
      "model_module_version": "1.5.0",
      "model_name": "FloatProgressModel",
      "state": {
       "layout": "IPY_MODEL_3a5813f1f8f94603a43c4c943fa0934e",
       "max": 1,
       "style": "IPY_MODEL_27acecc2c76f40dfb83eef904f1ded25"
      }
     },
     "5221eab2d72c4039a32e65206d8eedbb": {
      "model_module": "@jupyter-widgets/base",
      "model_module_version": "1.2.0",
      "model_name": "LayoutModel",
      "state": {}
     },
     "5254df025dca49078389c9f7af15bcbc": {
      "model_module": "@jupyter-widgets/controls",
      "model_module_version": "1.5.0",
      "model_name": "ProgressStyleModel",
      "state": {
       "description_width": ""
      }
     },
     "5274705ba8f74d8dbdeb168b8b5a410e": {
      "model_module": "@jupyter-widgets/controls",
      "model_module_version": "1.5.0",
      "model_name": "HTMLModel",
      "state": {
       "layout": "IPY_MODEL_27d3b19b9cf44d5fa0e37ce6b4288246",
       "style": "IPY_MODEL_cef2499c8ab24e12b4abc18c7bf142c3",
       "value": " 3555/3555 [00:00&lt;00:00, 7835.58it/s]"
      }
     },
     "52a0775b5e3c455e9e540eb5ab539dd4": {
      "model_module": "@jupyter-widgets/controls",
      "model_module_version": "1.5.0",
      "model_name": "FloatProgressModel",
      "state": {
       "bar_style": "success",
       "layout": "IPY_MODEL_13a63bcc74d54f2cb268baf95850f6ae",
       "max": 1318,
       "style": "IPY_MODEL_2647567fd1e14072be384164099e1561",
       "value": 1318
      }
     },
     "52acb90b35ac4a389c4312d0f1948d2b": {
      "model_module": "@jupyter-widgets/controls",
      "model_module_version": "1.5.0",
      "model_name": "FloatProgressModel",
      "state": {
       "layout": "IPY_MODEL_872f7d88ff23488993126c4b0b1920fb",
       "max": 1,
       "style": "IPY_MODEL_0f4ea35f50fa4caca5892229f6173f92",
       "value": 1
      }
     },
     "52fc708fd6474cd8aa12964b1600c604": {
      "model_module": "@jupyter-widgets/controls",
      "model_module_version": "1.5.0",
      "model_name": "VBoxModel",
      "state": {
       "children": [
        "IPY_MODEL_64dbf4f9f58a49f490b547f2453c2f63",
        "IPY_MODEL_a38a1c7e44a14a7cb47bc4c7a86f95c9"
       ],
       "layout": "IPY_MODEL_6c40a87aa85f4d93b500542f91cb15fc"
      }
     },
     "537294c418594eb0a55e5aceb6573a2f": {
      "model_module": "@jupyter-widgets/base",
      "model_module_version": "1.2.0",
      "model_name": "LayoutModel",
      "state": {}
     },
     "538d30db26174cbb82d00e52d0771449": {
      "model_module": "@jupyter-widgets/base",
      "model_module_version": "1.2.0",
      "model_name": "LayoutModel",
      "state": {}
     },
     "53ca5e76aafe43aabdb2d915c99e2811": {
      "model_module": "@jupyter-widgets/base",
      "model_module_version": "1.2.0",
      "model_name": "LayoutModel",
      "state": {}
     },
     "5448408a5a4d4f2db9f23f3e4e43d037": {
      "model_module": "@jupyter-widgets/controls",
      "model_module_version": "1.5.0",
      "model_name": "HBoxModel",
      "state": {
       "children": [
        "IPY_MODEL_85eefebcef6b4a2fb96a071ac6aeb367",
        "IPY_MODEL_ad2aeaf6338642f0b800fc32ef771a33",
        "IPY_MODEL_5944c65e6c19485abdca7b0b05849747"
       ],
       "layout": "IPY_MODEL_15c5543a61654d8a9e438b5f1438655c"
      }
     },
     "54a93f276998472bb851846a4b16fe7c": {
      "model_module": "@jupyter-widgets/controls",
      "model_module_version": "1.5.0",
      "model_name": "HBoxModel",
      "state": {
       "children": [
        "IPY_MODEL_7fc365da24ab4d429d16be695fdad525",
        "IPY_MODEL_11680d4818744d6ab5000b0d4624cde8",
        "IPY_MODEL_789006aa0bbc43ea90b410da58cb0a36"
       ],
       "layout": "IPY_MODEL_c6b48a0c843a48139281e92803368529"
      }
     },
     "55296b7bd67748f2b3d9cb059b984a53": {
      "model_module": "@jupyter-widgets/base",
      "model_module_version": "1.2.0",
      "model_name": "LayoutModel",
      "state": {}
     },
     "553ac48a6666406bb2ab220f1a1b2c15": {
      "model_module": "@jupyter-widgets/controls",
      "model_module_version": "1.5.0",
      "model_name": "HTMLModel",
      "state": {
       "layout": "IPY_MODEL_c394c95851544bd3bc0375255365b605",
       "style": "IPY_MODEL_b6e5cf206704438c8d2b7acb6311c51c",
       "value": "100%"
      }
     },
     "56227489c0974b3f85aa8d6f3c96f74d": {
      "model_module": "@jupyter-widgets/controls",
      "model_module_version": "1.5.0",
      "model_name": "HTMLModel",
      "state": {
       "layout": "IPY_MODEL_b72931a5112348e2b2e71c116fef4b3e",
       "style": "IPY_MODEL_3f8e321d721f4af7831c18d2f851327b",
       "value": " 356/356 [00:44&lt;00:00,  9.48it/s]"
      }
     },
     "563feda865654b9e8fba65ddb8258a9a": {
      "model_module": "@jupyter-widgets/base",
      "model_module_version": "1.2.0",
      "model_name": "LayoutModel",
      "state": {}
     },
     "567c5e34df1546ac93ae3a2e8dadbd06": {
      "model_module": "@jupyter-widgets/controls",
      "model_module_version": "1.5.0",
      "model_name": "HBoxModel",
      "state": {
       "children": [
        "IPY_MODEL_ee2f62f6f57e44708376c778a1778339",
        "IPY_MODEL_630bbaa428004877ac385ffbf41a8bbe",
        "IPY_MODEL_3c39aab3578b4ee4826de7892e962ba8"
       ],
       "layout": "IPY_MODEL_628251b7404e41059a9bef09099c49dd"
      }
     },
     "56bf1a0a57f84eb095599315d5379f25": {
      "model_module": "@jupyter-widgets/controls",
      "model_module_version": "1.5.0",
      "model_name": "HTMLModel",
      "state": {
       "layout": "IPY_MODEL_395f9bee123841a6abf34c208f35b0d5",
       "style": "IPY_MODEL_cdf5bfc29cb347c0bbb058f8b87b1f47",
       "value": " 112/112 [00:04&lt;00:00, 29.25it/s]"
      }
     },
     "56c0ced006cf4c4186baf5da7f3dc45c": {
      "model_module": "@jupyter-widgets/controls",
      "model_module_version": "1.5.0",
      "model_name": "ProgressStyleModel",
      "state": {
       "description_width": ""
      }
     },
     "56de99c123af4c3796f4d8203ea2122b": {
      "model_module": "@jupyter-widgets/controls",
      "model_module_version": "1.5.0",
      "model_name": "HTMLModel",
      "state": {
       "layout": "IPY_MODEL_7d69c7c31d8f45959771e2c075dc7605",
       "style": "IPY_MODEL_a074450f9a47492ba7de692672107545",
       "value": "100%"
      }
     },
     "56f43fa1874541679181ab60cb7f6ecc": {
      "model_module": "@jupyter-widgets/controls",
      "model_module_version": "1.5.0",
      "model_name": "ProgressStyleModel",
      "state": {
       "description_width": ""
      }
     },
     "573f6e10029e485ba0ded9b048670954": {
      "model_module": "@jupyter-widgets/controls",
      "model_module_version": "1.5.0",
      "model_name": "DescriptionStyleModel",
      "state": {
       "description_width": ""
      }
     },
     "57a3e8f44943422aa783993e1391e8ba": {
      "model_module": "@jupyter-widgets/controls",
      "model_module_version": "1.5.0",
      "model_name": "HTMLModel",
      "state": {
       "layout": "IPY_MODEL_6fb4b67447ad42c996956c7afc5fa537",
       "style": "IPY_MODEL_a67d2221f37e42b283cba580affa8706",
       "value": " 1318/1318 [00:00&lt;00:00, 1422.73it/s]"
      }
     },
     "57c5c806bae04963a81e018eea444dac": {
      "model_module": "@jupyter-widgets/controls",
      "model_module_version": "1.5.0",
      "model_name": "HTMLModel",
      "state": {
       "layout": "IPY_MODEL_6b6df047989e4545b5994485d8db39d8",
       "style": "IPY_MODEL_1cf883883b134e52b320ffa445ad7772",
       "value": " 112/112 [00:03&lt;00:00, 28.94it/s]"
      }
     },
     "5825d43120404f0ea72d7f24868718ed": {
      "model_module": "@jupyter-widgets/controls",
      "model_module_version": "1.5.0",
      "model_name": "DescriptionStyleModel",
      "state": {
       "description_width": ""
      }
     },
     "584efd599bd741eeba1806b1990f3e42": {
      "model_module": "@jupyter-widgets/controls",
      "model_module_version": "1.5.0",
      "model_name": "LabelModel",
      "state": {
       "layout": "IPY_MODEL_ea90af4b4f254d27b3282747298aa3dc",
       "style": "IPY_MODEL_421ada7ea33545e9b22f718f79e80277",
       "value": "0.058 MB of 0.058 MB uploaded (0.000 MB deduped)\r"
      }
     },
     "5852d31b4c9b4ef8a60b45e057151411": {
      "model_module": "@jupyter-widgets/controls",
      "model_module_version": "1.5.0",
      "model_name": "DescriptionStyleModel",
      "state": {
       "description_width": ""
      }
     },
     "59284642b2f940c28645c1aae6019c6a": {
      "model_module": "@jupyter-widgets/controls",
      "model_module_version": "1.5.0",
      "model_name": "ProgressStyleModel",
      "state": {
       "description_width": ""
      }
     },
     "59430859f12c4fc398dabb758594f3b2": {
      "model_module": "@jupyter-widgets/controls",
      "model_module_version": "1.5.0",
      "model_name": "FloatProgressModel",
      "state": {
       "bar_style": "success",
       "layout": "IPY_MODEL_466133ddefe8409aaca2d0f0aa26586b",
       "max": 345,
       "style": "IPY_MODEL_79de7fe1414948dc85923a115d9dbf6e",
       "value": 345
      }
     },
     "5944c65e6c19485abdca7b0b05849747": {
      "model_module": "@jupyter-widgets/controls",
      "model_module_version": "1.5.0",
      "model_name": "HTMLModel",
      "state": {
       "layout": "IPY_MODEL_4cd6a55a009e419bbffc32761b0a87f0",
       "style": "IPY_MODEL_bb87fd1cd54b4e75a3dc95efa67993d8",
       "value": " 43/43 [00:01&lt;00:00, 29.50it/s]"
      }
     },
     "59b725ea93af406a88dba0912193fcff": {
      "model_module": "@jupyter-widgets/controls",
      "model_module_version": "1.5.0",
      "model_name": "ProgressStyleModel",
      "state": {
       "description_width": ""
      }
     },
     "59f5ec01c6184e81ad5cd2cda0ef477d": {
      "model_module": "@jupyter-widgets/controls",
      "model_module_version": "1.5.0",
      "model_name": "ProgressStyleModel",
      "state": {
       "description_width": ""
      }
     },
     "5a1b851e421646dfb3f03e000e59697f": {
      "model_module": "@jupyter-widgets/controls",
      "model_module_version": "1.5.0",
      "model_name": "DescriptionStyleModel",
      "state": {
       "description_width": ""
      }
     },
     "5a351f6ebdfc48739e46384a983ef7e4": {
      "model_module": "@jupyter-widgets/controls",
      "model_module_version": "1.5.0",
      "model_name": "DescriptionStyleModel",
      "state": {
       "description_width": ""
      }
     },
     "5a8a623a5dd244cc8de25032f8f9efec": {
      "model_module": "@jupyter-widgets/base",
      "model_module_version": "1.2.0",
      "model_name": "LayoutModel",
      "state": {}
     },
     "5a9b995435df44a2ba1703878e951391": {
      "model_module": "@jupyter-widgets/controls",
      "model_module_version": "1.5.0",
      "model_name": "DescriptionStyleModel",
      "state": {
       "description_width": ""
      }
     },
     "5aa47cf2132c4f1dae9ae8a79592b863": {
      "model_module": "@jupyter-widgets/base",
      "model_module_version": "1.2.0",
      "model_name": "LayoutModel",
      "state": {}
     },
     "5b27b243edd34d5ea2c287dfdbd8f950": {
      "model_module": "@jupyter-widgets/controls",
      "model_module_version": "1.5.0",
      "model_name": "HTMLModel",
      "state": {
       "layout": "IPY_MODEL_79143a8fb89a4b8abf9124ad9ca5d785",
       "style": "IPY_MODEL_2c9b04253b6e47d98418fef0087ec5d2",
       "value": "Running Evaluation: 100%"
      }
     },
     "5b45731e9494424c810b29af01b80e11": {
      "model_module": "@jupyter-widgets/controls",
      "model_module_version": "1.5.0",
      "model_name": "HTMLModel",
      "state": {
       "layout": "IPY_MODEL_c3d942d3396242918e8939095d29dcef",
       "style": "IPY_MODEL_62201c73e29840fa88d03b7c41064c3d",
       "value": "Epoch 2 of 2: 100%"
      }
     },
     "5bb227ea47e14b3ba3e04955fd4668cb": {
      "model_module": "@jupyter-widgets/base",
      "model_module_version": "1.2.0",
      "model_name": "LayoutModel",
      "state": {}
     },
     "5bddfe5f6f7044138fad13b12f3ad582": {
      "model_module": "@jupyter-widgets/controls",
      "model_module_version": "1.5.0",
      "model_name": "HTMLModel",
      "state": {
       "layout": "IPY_MODEL_30ab41eae05146fb800212c567973252",
       "style": "IPY_MODEL_4fb11a0c39794be38830428e69856457",
       "value": "100%"
      }
     },
     "5c0bcf703dbd4150b162c30ec789768c": {
      "model_module": "@jupyter-widgets/base",
      "model_module_version": "1.2.0",
      "model_name": "LayoutModel",
      "state": {}
     },
     "5c175f62d9134e13a74fa3cae4cc0888": {
      "model_module": "@jupyter-widgets/controls",
      "model_module_version": "1.5.0",
      "model_name": "HTMLModel",
      "state": {
       "layout": "IPY_MODEL_e2d0c0661f714c32a951c5b436ac3a0c",
       "style": "IPY_MODEL_50c70b85213d444da027bf82ab97cf1f",
       "value": " 11372/11372 [00:01&lt;00:00, 6926.45it/s]"
      }
     },
     "5c4419e7ab1744b1a0cacdb002cdf087": {
      "model_module": "@jupyter-widgets/controls",
      "model_module_version": "1.5.0",
      "model_name": "VBoxModel",
      "state": {
       "children": [
        "IPY_MODEL_7ca20ee106064add8516329084cc4a23",
        "IPY_MODEL_60d09c36fde3487085c164a8e6f3732c"
       ],
       "layout": "IPY_MODEL_5dd445652bbe48eeafd3346bdacc540f"
      }
     },
     "5d4f58bd7be14921852b65f87ee11dde": {
      "model_module": "@jupyter-widgets/controls",
      "model_module_version": "1.5.0",
      "model_name": "HTMLModel",
      "state": {
       "layout": "IPY_MODEL_6520e38b08f54f6b932c27b00d55d3aa",
       "style": "IPY_MODEL_77eea740871d41ffa2a22483d2b57ef3",
       "value": " 43/43 [00:02&lt;00:00, 28.62it/s]"
      }
     },
     "5db1135bb44c4792bc4adac9427e716f": {
      "model_module": "@jupyter-widgets/controls",
      "model_module_version": "1.5.0",
      "model_name": "DescriptionStyleModel",
      "state": {
       "description_width": ""
      }
     },
     "5dc1e6ef3eed41f7b1d51ff015b6012d": {
      "model_module": "@jupyter-widgets/base",
      "model_module_version": "1.2.0",
      "model_name": "LayoutModel",
      "state": {}
     },
     "5dd445652bbe48eeafd3346bdacc540f": {
      "model_module": "@jupyter-widgets/base",
      "model_module_version": "1.2.0",
      "model_name": "LayoutModel",
      "state": {}
     },
     "5e9b5ba5c21740d2b66d6856de81a5de": {
      "model_module": "@jupyter-widgets/base",
      "model_module_version": "1.2.0",
      "model_name": "LayoutModel",
      "state": {}
     },
     "5eea96ff92d64af6928888a4ae46a2a7": {
      "model_module": "@jupyter-widgets/base",
      "model_module_version": "1.2.0",
      "model_name": "LayoutModel",
      "state": {}
     },
     "5f012d3257e941c090ad180603bcd144": {
      "model_module": "@jupyter-widgets/base",
      "model_module_version": "1.2.0",
      "model_name": "LayoutModel",
      "state": {}
     },
     "5f22af06302c4579ad08cd30b488ab15": {
      "model_module": "@jupyter-widgets/controls",
      "model_module_version": "1.5.0",
      "model_name": "FloatProgressModel",
      "state": {
       "bar_style": "success",
       "layout": "IPY_MODEL_6095fb164cee451082a47ec828447162",
       "max": 43,
       "style": "IPY_MODEL_59f5ec01c6184e81ad5cd2cda0ef477d",
       "value": 43
      }
     },
     "5fa206a6bfdd457587eaef49656e45f0": {
      "model_module": "@jupyter-widgets/base",
      "model_module_version": "1.2.0",
      "model_name": "LayoutModel",
      "state": {}
     },
     "5fec052de9da409c84be6ba923cae01a": {
      "model_module": "@jupyter-widgets/base",
      "model_module_version": "1.2.0",
      "model_name": "LayoutModel",
      "state": {}
     },
     "6007febe3358458aafff26503a213d32": {
      "model_module": "@jupyter-widgets/controls",
      "model_module_version": "1.5.0",
      "model_name": "DescriptionStyleModel",
      "state": {
       "description_width": ""
      }
     },
     "601c26200cce418392566b07eab026a1": {
      "model_module": "@jupyter-widgets/controls",
      "model_module_version": "1.5.0",
      "model_name": "HBoxModel",
      "state": {
       "children": [
        "IPY_MODEL_30f47ba61a6a42fab0f0780bc030c2c6",
        "IPY_MODEL_83266334e76d424e9658595b250278b5",
        "IPY_MODEL_f0eab3f72cb5429b8fe659018aebacec"
       ],
       "layout": "IPY_MODEL_d3c9c390f4ee4dcda9a03b6267561521"
      }
     },
     "604bf2febba5446db324df464caf7b41": {
      "model_module": "@jupyter-widgets/controls",
      "model_module_version": "1.5.0",
      "model_name": "DescriptionStyleModel",
      "state": {
       "description_width": ""
      }
     },
     "6055e09d10224dfc8d8ba65041e69651": {
      "model_module": "@jupyter-widgets/controls",
      "model_module_version": "1.5.0",
      "model_name": "DescriptionStyleModel",
      "state": {
       "description_width": ""
      }
     },
     "605fce26e48642188c1a32bb4bc3415d": {
      "model_module": "@jupyter-widgets/base",
      "model_module_version": "1.2.0",
      "model_name": "LayoutModel",
      "state": {}
     },
     "6095fb164cee451082a47ec828447162": {
      "model_module": "@jupyter-widgets/base",
      "model_module_version": "1.2.0",
      "model_name": "LayoutModel",
      "state": {}
     },
     "60d09c36fde3487085c164a8e6f3732c": {
      "model_module": "@jupyter-widgets/controls",
      "model_module_version": "1.5.0",
      "model_name": "FloatProgressModel",
      "state": {
       "layout": "IPY_MODEL_912e6abf9816409fa85414372bfc16ee",
       "max": 1,
       "style": "IPY_MODEL_59284642b2f940c28645c1aae6019c6a"
      }
     },
     "615734cc03ce4a35813442a26721da1d": {
      "model_module": "@jupyter-widgets/base",
      "model_module_version": "1.2.0",
      "model_name": "LayoutModel",
      "state": {}
     },
     "6171ebd0073049efa66284ee5b97f4fe": {
      "model_module": "@jupyter-widgets/controls",
      "model_module_version": "1.5.0",
      "model_name": "LabelModel",
      "state": {
       "layout": "IPY_MODEL_6f5e922b88714cfcb81b233cb29f2fda",
       "style": "IPY_MODEL_945bc17fdf9a49dda0d0e604e506383e"
      }
     },
     "61afda6b3af1497ca893a235cc26250c": {
      "model_module": "@jupyter-widgets/base",
      "model_module_version": "1.2.0",
      "model_name": "LayoutModel",
      "state": {}
     },
     "61ecd1ae13bc416a977e6c7223fe9430": {
      "model_module": "@jupyter-widgets/controls",
      "model_module_version": "1.5.0",
      "model_name": "ProgressStyleModel",
      "state": {
       "description_width": ""
      }
     },
     "621e5801e57a49469bc11f6e426d2322": {
      "model_module": "@jupyter-widgets/base",
      "model_module_version": "1.2.0",
      "model_name": "LayoutModel",
      "state": {}
     },
     "62201c73e29840fa88d03b7c41064c3d": {
      "model_module": "@jupyter-widgets/controls",
      "model_module_version": "1.5.0",
      "model_name": "DescriptionStyleModel",
      "state": {
       "description_width": ""
      }
     },
     "628251b7404e41059a9bef09099c49dd": {
      "model_module": "@jupyter-widgets/base",
      "model_module_version": "1.2.0",
      "model_name": "LayoutModel",
      "state": {}
     },
     "6299f86ce51843abb89267027bafe6f6": {
      "model_module": "@jupyter-widgets/base",
      "model_module_version": "1.2.0",
      "model_name": "LayoutModel",
      "state": {}
     },
     "62deecb0269e4213a0c418ee1b3514da": {
      "model_module": "@jupyter-widgets/base",
      "model_module_version": "1.2.0",
      "model_name": "LayoutModel",
      "state": {}
     },
     "630bbaa428004877ac385ffbf41a8bbe": {
      "model_module": "@jupyter-widgets/controls",
      "model_module_version": "1.5.0",
      "model_name": "FloatProgressModel",
      "state": {
       "bar_style": "success",
       "layout": "IPY_MODEL_e3faa91c562640d5be77783fb2cd8018",
       "max": 11372,
       "style": "IPY_MODEL_b0d90dcbef5d4f158544793bcb4b539e",
       "value": 11372
      }
     },
     "63205472e2c94f4184744b77fe489532": {
      "model_module": "@jupyter-widgets/base",
      "model_module_version": "1.2.0",
      "model_name": "LayoutModel",
      "state": {}
     },
     "6320a49ab4c1463ab51d64005aaafe0a": {
      "model_module": "@jupyter-widgets/controls",
      "model_module_version": "1.5.0",
      "model_name": "HBoxModel",
      "state": {
       "children": [
        "IPY_MODEL_7b2ab66b3f6b4fabb4af6e99de221c42",
        "IPY_MODEL_0a1b3eb54ed843db912d0297a0416a09",
        "IPY_MODEL_f042ad2888f84fc5bd24181ee6f3142f"
       ],
       "layout": "IPY_MODEL_01d91afdba984138a490eedd45765ee9"
      }
     },
     "633c4d8e31514223a63f8013ddbfca86": {
      "model_module": "@jupyter-widgets/controls",
      "model_module_version": "1.5.0",
      "model_name": "DescriptionStyleModel",
      "state": {
       "description_width": ""
      }
     },
     "635fa32674e549309f27a92540dbecdd": {
      "model_module": "@jupyter-widgets/controls",
      "model_module_version": "1.5.0",
      "model_name": "HTMLModel",
      "state": {
       "layout": "IPY_MODEL_45ee40bd10284cb481b807fc1b678ad9",
       "style": "IPY_MODEL_af668e7fe47a4b8c8d9e4a70a87e5603",
       "value": "100%"
      }
     },
     "6363f09cb2bd4985a3f9c02b3dbc5a39": {
      "model_module": "@jupyter-widgets/controls",
      "model_module_version": "1.5.0",
      "model_name": "DescriptionStyleModel",
      "state": {
       "description_width": ""
      }
     },
     "64817a198c9847d89cc81eb049d22f0d": {
      "model_module": "@jupyter-widgets/controls",
      "model_module_version": "1.5.0",
      "model_name": "HBoxModel",
      "state": {
       "children": [
        "IPY_MODEL_5b27b243edd34d5ea2c287dfdbd8f950",
        "IPY_MODEL_27c5598b13e04a6eb6241da90e822f34",
        "IPY_MODEL_871bb9bb1eb049dcbdb8efe4c9110ced"
       ],
       "layout": "IPY_MODEL_f8302146fbf84e34aca6ddad246fc531"
      }
     },
     "64a90cdb56b6414792117c2a9f6d8106": {
      "model_module": "@jupyter-widgets/base",
      "model_module_version": "1.2.0",
      "model_name": "LayoutModel",
      "state": {}
     },
     "64dbf4f9f58a49f490b547f2453c2f63": {
      "model_module": "@jupyter-widgets/controls",
      "model_module_version": "1.5.0",
      "model_name": "LabelModel",
      "state": {
       "layout": "IPY_MODEL_df78193c31f34aea9233eee94ae77ab7",
       "style": "IPY_MODEL_7b942b073da54abd8c9b3bd0da4c65e6"
      }
     },
     "6520e38b08f54f6b932c27b00d55d3aa": {
      "model_module": "@jupyter-widgets/base",
      "model_module_version": "1.2.0",
      "model_name": "LayoutModel",
      "state": {}
     },
     "652ca0cf36f24a229501a18d8b72bb20": {
      "model_module": "@jupyter-widgets/controls",
      "model_module_version": "1.5.0",
      "model_name": "HBoxModel",
      "state": {
       "children": [
        "IPY_MODEL_a71e6efdca1a4662b45969bf573ba623",
        "IPY_MODEL_e7455ae4652e4cad938749dc034ab934",
        "IPY_MODEL_57c5c806bae04963a81e018eea444dac"
       ],
       "layout": "IPY_MODEL_d773423758fa4e7b90b6a9acca61532c"
      }
     },
     "65533b79d34648b591b1da2898d500ec": {
      "model_module": "@jupyter-widgets/base",
      "model_module_version": "1.2.0",
      "model_name": "LayoutModel",
      "state": {}
     },
     "65c6a5dfeb8549e19a3fd34e88c34f7e": {
      "model_module": "@jupyter-widgets/controls",
      "model_module_version": "1.5.0",
      "model_name": "HBoxModel",
      "state": {
       "children": [
        "IPY_MODEL_b33ba3b1d97a4d90bd3fd78bd1817d05",
        "IPY_MODEL_0fced4903c08427ebdcce8ee3c50c940",
        "IPY_MODEL_9512578a91c44e8aa5d3ae2ac439550b"
       ],
       "layout": "IPY_MODEL_e13fbb01a21e4691a43588d9c5bde838"
      }
     },
     "65f9ae206c45425780d60b884565efda": {
      "model_module": "@jupyter-widgets/controls",
      "model_module_version": "1.5.0",
      "model_name": "DescriptionStyleModel",
      "state": {
       "description_width": ""
      }
     },
     "661bb1110c9a40c388840f6433f0e2b2": {
      "model_module": "@jupyter-widgets/controls",
      "model_module_version": "1.5.0",
      "model_name": "DescriptionStyleModel",
      "state": {
       "description_width": ""
      }
     },
     "662cdd9839894730bdc20b07c03c2ca4": {
      "model_module": "@jupyter-widgets/controls",
      "model_module_version": "1.5.0",
      "model_name": "DescriptionStyleModel",
      "state": {
       "description_width": ""
      }
     },
     "66366efd4fa9491e9e9c2f1430c08d2f": {
      "model_module": "@jupyter-widgets/controls",
      "model_module_version": "1.5.0",
      "model_name": "LabelModel",
      "state": {
       "layout": "IPY_MODEL_e3a0088f20024db5aedfd341f5c2918e",
       "style": "IPY_MODEL_74410d5ccdec4f12a7d488f00216d0c7"
      }
     },
     "665822f395f943a7a597d2da14f68402": {
      "model_module": "@jupyter-widgets/base",
      "model_module_version": "1.2.0",
      "model_name": "LayoutModel",
      "state": {}
     },
     "668fb5fd3843409abec067df8e5d80f7": {
      "model_module": "@jupyter-widgets/controls",
      "model_module_version": "1.5.0",
      "model_name": "HTMLModel",
      "state": {
       "layout": "IPY_MODEL_ef524d594f864db08a908a5980eded48",
       "style": "IPY_MODEL_1381dbd49b6549708262b52fb4c0687d",
       "value": " 112/112 [00:04&lt;00:00, 29.23it/s]"
      }
     },
     "6696b6c31c7c40ddb6fa7fbe6d518ac0": {
      "model_module": "@jupyter-widgets/controls",
      "model_module_version": "1.5.0",
      "model_name": "HBoxModel",
      "state": {
       "children": [
        "IPY_MODEL_96794a4eeef640149634ba953ea9ddcc",
        "IPY_MODEL_d46ebbec74014a3c8b4bada1a432b098",
        "IPY_MODEL_bdad45731ab642b4a550d2dee72efb61"
       ],
       "layout": "IPY_MODEL_1ddb59e47ece4757bcaf6156c1d6eb27"
      }
     },
     "66ca6e655af241d6823132d761a5ebe5": {
      "model_module": "@jupyter-widgets/controls",
      "model_module_version": "1.5.0",
      "model_name": "FloatProgressModel",
      "state": {
       "bar_style": "success",
       "layout": "IPY_MODEL_61afda6b3af1497ca893a235cc26250c",
       "max": 2,
       "style": "IPY_MODEL_09b6f5cf4f82404583455558ed6725a4",
       "value": 2
      }
     },
     "66d694e874304e8691b17e6bd513e55f": {
      "model_module": "@jupyter-widgets/controls",
      "model_module_version": "1.5.0",
      "model_name": "HBoxModel",
      "state": {
       "children": [
        "IPY_MODEL_cde406e0c7b143cbaea441b3f305d87e",
        "IPY_MODEL_c39c26706c5e414d941ff1eff992f0c2",
        "IPY_MODEL_120847face3f4b84a54770948e975f4b"
       ],
       "layout": "IPY_MODEL_4722cde5535c4b6098414a8532d22cff"
      }
     },
     "67332056080b492b8e247e3a241572a4": {
      "model_module": "@jupyter-widgets/controls",
      "model_module_version": "1.5.0",
      "model_name": "DescriptionStyleModel",
      "state": {
       "description_width": ""
      }
     },
     "67898224cd224eb3bfa3c0412d24f6ed": {
      "model_module": "@jupyter-widgets/controls",
      "model_module_version": "1.5.0",
      "model_name": "HBoxModel",
      "state": {
       "children": [
        "IPY_MODEL_69ae8d9b8f704ae89fac2571b9437505",
        "IPY_MODEL_173c78834c1c43a1b0dcf54938d8620a",
        "IPY_MODEL_f08821292c1d44ed90c26ffa3af1ad35"
       ],
       "layout": "IPY_MODEL_0c2f15bd25534cb3bbe9bef3489df18e"
      }
     },
     "67b08aa61d154caa8fa00bd7260f7ec9": {
      "model_module": "@jupyter-widgets/base",
      "model_module_version": "1.2.0",
      "model_name": "LayoutModel",
      "state": {}
     },
     "67f6effed2264daf938213315e7eeeb3": {
      "model_module": "@jupyter-widgets/controls",
      "model_module_version": "1.5.0",
      "model_name": "DescriptionStyleModel",
      "state": {
       "description_width": ""
      }
     },
     "67f8ae1832f64d8898cb0cc424d25747": {
      "model_module": "@jupyter-widgets/base",
      "model_module_version": "1.2.0",
      "model_name": "LayoutModel",
      "state": {}
     },
     "687036ed3664463593de35fa01d449f6": {
      "model_module": "@jupyter-widgets/controls",
      "model_module_version": "1.5.0",
      "model_name": "ProgressStyleModel",
      "state": {
       "description_width": ""
      }
     },
     "687d2ac975c74eeea64d2ffdcf4b8192": {
      "model_module": "@jupyter-widgets/controls",
      "model_module_version": "1.5.0",
      "model_name": "HTMLModel",
      "state": {
       "layout": "IPY_MODEL_fad735a2bed844b48f8d6663c88bc431",
       "style": "IPY_MODEL_02fc4723946645f28497a02ecd4a502c",
       "value": " 112/112 [00:03&lt;00:00, 29.52it/s]"
      }
     },
     "689f718ec7e743d18ee3d08a49422a3d": {
      "model_module": "@jupyter-widgets/base",
      "model_module_version": "1.2.0",
      "model_name": "LayoutModel",
      "state": {}
     },
     "68efcc0eb14d4a748cdaf3dccf220222": {
      "model_module": "@jupyter-widgets/base",
      "model_module_version": "1.2.0",
      "model_name": "LayoutModel",
      "state": {}
     },
     "6914692ff6b942f886185090872ecfd4": {
      "model_module": "@jupyter-widgets/controls",
      "model_module_version": "1.5.0",
      "model_name": "HTMLModel",
      "state": {
       "layout": "IPY_MODEL_7c1f1a135e094643afc45f207f8b4a06",
       "style": "IPY_MODEL_8c034bdb458448658622f6944e80d8d3",
       "value": " 43/43 [00:02&lt;00:00, 28.71it/s]"
      }
     },
     "69437d89fd004d75b540b672b4860e35": {
      "model_module": "@jupyter-widgets/controls",
      "model_module_version": "1.5.0",
      "model_name": "ProgressStyleModel",
      "state": {
       "description_width": ""
      }
     },
     "69ae8d9b8f704ae89fac2571b9437505": {
      "model_module": "@jupyter-widgets/controls",
      "model_module_version": "1.5.0",
      "model_name": "HTMLModel",
      "state": {
       "layout": "IPY_MODEL_67b08aa61d154caa8fa00bd7260f7ec9",
       "style": "IPY_MODEL_6055e09d10224dfc8d8ba65041e69651",
       "value": "100%"
      }
     },
     "69fe792844974814a7575fb885885c4e": {
      "model_module": "@jupyter-widgets/base",
      "model_module_version": "1.2.0",
      "model_name": "LayoutModel",
      "state": {}
     },
     "6a94e6590ee840fc9653a3bb060dd96f": {
      "model_module": "@jupyter-widgets/base",
      "model_module_version": "1.2.0",
      "model_name": "LayoutModel",
      "state": {}
     },
     "6b0937696b034ab695f75a180fc77e6c": {
      "model_module": "@jupyter-widgets/controls",
      "model_module_version": "1.5.0",
      "model_name": "ProgressStyleModel",
      "state": {
       "description_width": ""
      }
     },
     "6b30bc8789ca4815bbef6765e7f1d7ce": {
      "model_module": "@jupyter-widgets/controls",
      "model_module_version": "1.5.0",
      "model_name": "DescriptionStyleModel",
      "state": {
       "description_width": ""
      }
     },
     "6b5b420f0f0144bcbcbacc021fa5d998": {
      "model_module": "@jupyter-widgets/controls",
      "model_module_version": "1.5.0",
      "model_name": "LabelModel",
      "state": {
       "layout": "IPY_MODEL_73f5c55a361d47519c6e18e9c00afc70",
       "style": "IPY_MODEL_ff23b3eaf4fa42e19a821750658edfa2",
       "value": "0.015 MB of 0.015 MB uploaded (0.000 MB deduped)\r"
      }
     },
     "6b6df047989e4545b5994485d8db39d8": {
      "model_module": "@jupyter-widgets/base",
      "model_module_version": "1.2.0",
      "model_name": "LayoutModel",
      "state": {}
     },
     "6b7bf526e5c14dc8a632edd70bc9241a": {
      "model_module": "@jupyter-widgets/base",
      "model_module_version": "1.2.0",
      "model_name": "LayoutModel",
      "state": {}
     },
     "6c40a87aa85f4d93b500542f91cb15fc": {
      "model_module": "@jupyter-widgets/base",
      "model_module_version": "1.2.0",
      "model_name": "LayoutModel",
      "state": {}
     },
     "6c4abab7ae7e48f8b2c30e5d1cf7ed68": {
      "model_module": "@jupyter-widgets/controls",
      "model_module_version": "1.5.0",
      "model_name": "HBoxModel",
      "state": {
       "children": [
        "IPY_MODEL_f98c49de196c406a9cb741436724e0ab",
        "IPY_MODEL_59430859f12c4fc398dabb758594f3b2",
        "IPY_MODEL_d4b1e3b25e224f9c80f0408273a08bf7"
       ],
       "layout": "IPY_MODEL_96bace3b4f254efc8b939495015e3914"
      }
     },
     "6c992bd81646435a835010ee475ebfe5": {
      "model_module": "@jupyter-widgets/base",
      "model_module_version": "1.2.0",
      "model_name": "LayoutModel",
      "state": {}
     },
     "6ca03b4436454616b00a66a7dedd7248": {
      "model_module": "@jupyter-widgets/controls",
      "model_module_version": "1.5.0",
      "model_name": "HTMLModel",
      "state": {
       "layout": "IPY_MODEL_13069a8e58bf43a6b1bbac498e84f165",
       "style": "IPY_MODEL_d53113fafc69493082e0691c10dd21bb",
       "value": "100%"
      }
     },
     "6d21d67e777e4d8884a5f86614b9c824": {
      "model_module": "@jupyter-widgets/base",
      "model_module_version": "1.2.0",
      "model_name": "LayoutModel",
      "state": {}
     },
     "6d6c241e32b243f392cfb1a8e6736263": {
      "model_module": "@jupyter-widgets/base",
      "model_module_version": "1.2.0",
      "model_name": "LayoutModel",
      "state": {}
     },
     "6db28d41e1ea4728a2447dc8b11e6842": {
      "model_module": "@jupyter-widgets/base",
      "model_module_version": "1.2.0",
      "model_name": "LayoutModel",
      "state": {}
     },
     "6e57f8c86631422eb70ed1071e54327f": {
      "model_module": "@jupyter-widgets/controls",
      "model_module_version": "1.5.0",
      "model_name": "DescriptionStyleModel",
      "state": {
       "description_width": ""
      }
     },
     "6e5f4eef92584e0da751d6b8e369ee39": {
      "model_module": "@jupyter-widgets/base",
      "model_module_version": "1.2.0",
      "model_name": "LayoutModel",
      "state": {}
     },
     "6ed182dc51b44cccb6d5b8840d09622c": {
      "model_module": "@jupyter-widgets/controls",
      "model_module_version": "1.5.0",
      "model_name": "HBoxModel",
      "state": {
       "children": [
        "IPY_MODEL_fa50897641af4063bd49e65083677057",
        "IPY_MODEL_9c596eb27f624cf9862969eafacd9fa1",
        "IPY_MODEL_c4024b29240842ceb8cd0ad70e96caf5"
       ],
       "layout": "IPY_MODEL_ff6309cfdc104a8d83c1ac01611cdd62"
      }
     },
     "6f24c24e0b7544fcb72d906a06e405b0": {
      "model_module": "@jupyter-widgets/controls",
      "model_module_version": "1.5.0",
      "model_name": "ProgressStyleModel",
      "state": {
       "description_width": ""
      }
     },
     "6f2d599978c54f9aa86e4ec92ad98929": {
      "model_module": "@jupyter-widgets/controls",
      "model_module_version": "1.5.0",
      "model_name": "ProgressStyleModel",
      "state": {
       "description_width": ""
      }
     },
     "6f5e922b88714cfcb81b233cb29f2fda": {
      "model_module": "@jupyter-widgets/base",
      "model_module_version": "1.2.0",
      "model_name": "LayoutModel",
      "state": {}
     },
     "6fb4b67447ad42c996956c7afc5fa537": {
      "model_module": "@jupyter-widgets/base",
      "model_module_version": "1.2.0",
      "model_name": "LayoutModel",
      "state": {}
     },
     "703d870997a5415695aaf0a230686611": {
      "model_module": "@jupyter-widgets/base",
      "model_module_version": "1.2.0",
      "model_name": "LayoutModel",
      "state": {}
     },
     "7057cefc7a1947bd95c384887c22ea70": {
      "model_module": "@jupyter-widgets/controls",
      "model_module_version": "1.5.0",
      "model_name": "ProgressStyleModel",
      "state": {
       "description_width": ""
      }
     },
     "706ee24264e94fe9ade9e3c78d7cecd0": {
      "model_module": "@jupyter-widgets/controls",
      "model_module_version": "1.5.0",
      "model_name": "FloatProgressModel",
      "state": {
       "bar_style": "success",
       "layout": "IPY_MODEL_29e3199c34e841ee8b04e6f78e664f54",
       "max": 356,
       "style": "IPY_MODEL_f788e95155ec4d639ad1c38ebda5e439",
       "value": 356
      }
     },
     "7104ca7cebc042ae82446599fca5cbaa": {
      "model_module": "@jupyter-widgets/base",
      "model_module_version": "1.2.0",
      "model_name": "LayoutModel",
      "state": {}
     },
     "7176c50e3f3c461c843b13718212c450": {
      "model_module": "@jupyter-widgets/controls",
      "model_module_version": "1.5.0",
      "model_name": "DescriptionStyleModel",
      "state": {
       "description_width": ""
      }
     },
     "71b80ec22ce6454b979a5bf0b7a0f3ac": {
      "model_module": "@jupyter-widgets/base",
      "model_module_version": "1.2.0",
      "model_name": "LayoutModel",
      "state": {}
     },
     "71c5f216aecd419e86ee413805b6bdd0": {
      "model_module": "@jupyter-widgets/base",
      "model_module_version": "1.2.0",
      "model_name": "LayoutModel",
      "state": {}
     },
     "71ed223d9856499cbfa8a2d4b2bc6973": {
      "model_module": "@jupyter-widgets/base",
      "model_module_version": "1.2.0",
      "model_name": "LayoutModel",
      "state": {}
     },
     "71fe90ed7ee742d99f508c9c682e9ece": {
      "model_module": "@jupyter-widgets/controls",
      "model_module_version": "1.5.0",
      "model_name": "DescriptionStyleModel",
      "state": {
       "description_width": ""
      }
     },
     "72264a2bc3ba4cf18cf26c03de4023e6": {
      "model_module": "@jupyter-widgets/base",
      "model_module_version": "1.2.0",
      "model_name": "LayoutModel",
      "state": {}
     },
     "72a746691f1740ad982ad9228d9f73a9": {
      "model_module": "@jupyter-widgets/base",
      "model_module_version": "1.2.0",
      "model_name": "LayoutModel",
      "state": {}
     },
     "72e1644c17094458a4c7d700d515df6f": {
      "model_module": "@jupyter-widgets/controls",
      "model_module_version": "1.5.0",
      "model_name": "HBoxModel",
      "state": {
       "children": [
        "IPY_MODEL_efe3f248a13a4a6b819444f104a9b5ac",
        "IPY_MODEL_66ca6e655af241d6823132d761a5ebe5",
        "IPY_MODEL_31f0aa6e4e0a44fb95373951771777ad"
       ],
       "layout": "IPY_MODEL_af55460a8bb0488bb56f7a0d5c312cb0"
      }
     },
     "7325e06149a74962932eb420dfcf13e7": {
      "model_module": "@jupyter-widgets/controls",
      "model_module_version": "1.5.0",
      "model_name": "VBoxModel",
      "state": {
       "children": [
        "IPY_MODEL_09f32435daa2452fb72da6dc33eec9ea",
        "IPY_MODEL_51b4150f84164a1d8bb241e1e33926f0"
       ],
       "layout": "IPY_MODEL_1057725bfedb489ba639e87df4c5955f"
      }
     },
     "738be37b706c41b9819f2d5437e9600b": {
      "model_module": "@jupyter-widgets/controls",
      "model_module_version": "1.5.0",
      "model_name": "ProgressStyleModel",
      "state": {
       "description_width": ""
      }
     },
     "739af50dd08743689f6cf33e507e373d": {
      "model_module": "@jupyter-widgets/controls",
      "model_module_version": "1.5.0",
      "model_name": "DescriptionStyleModel",
      "state": {
       "description_width": ""
      }
     },
     "73f5c55a361d47519c6e18e9c00afc70": {
      "model_module": "@jupyter-widgets/base",
      "model_module_version": "1.2.0",
      "model_name": "LayoutModel",
      "state": {}
     },
     "74410d5ccdec4f12a7d488f00216d0c7": {
      "model_module": "@jupyter-widgets/controls",
      "model_module_version": "1.5.0",
      "model_name": "DescriptionStyleModel",
      "state": {
       "description_width": ""
      }
     },
     "74c55954df3049ee80497460f857b67a": {
      "model_module": "@jupyter-widgets/controls",
      "model_module_version": "1.5.0",
      "model_name": "HTMLModel",
      "state": {
       "layout": "IPY_MODEL_6e5f4eef92584e0da751d6b8e369ee39",
       "style": "IPY_MODEL_6e57f8c86631422eb70ed1071e54327f",
       "value": "100%"
      }
     },
     "74d36c6f785c49f3aad57a13bc8e653c": {
      "model_module": "@jupyter-widgets/base",
      "model_module_version": "1.2.0",
      "model_name": "LayoutModel",
      "state": {}
     },
     "7506960bae17493894efad8aad8008a8": {
      "model_module": "@jupyter-widgets/controls",
      "model_module_version": "1.5.0",
      "model_name": "HTMLModel",
      "state": {
       "layout": "IPY_MODEL_974fb31908f242d5945d753bff6b4b70",
       "style": "IPY_MODEL_a13271d8c314494ea5b57339e2b26f5e",
       "value": "100%"
      }
     },
     "752afe9f41e14b78b17d2e82113585cf": {
      "model_module": "@jupyter-widgets/controls",
      "model_module_version": "1.5.0",
      "model_name": "DescriptionStyleModel",
      "state": {
       "description_width": ""
      }
     },
     "753c8bfc3ba049379d0592140e0e17f3": {
      "model_module": "@jupyter-widgets/controls",
      "model_module_version": "1.5.0",
      "model_name": "LabelModel",
      "state": {
       "layout": "IPY_MODEL_1b1cff80eef84383af8412191b5a994e",
       "style": "IPY_MODEL_841193548a30485b917928d755ac4d0d",
       "value": "0.015 MB of 0.015 MB uploaded (0.000 MB deduped)\r"
      }
     },
     "75a36a25f47442098fb08177fc558410": {
      "model_module": "@jupyter-widgets/controls",
      "model_module_version": "1.5.0",
      "model_name": "ProgressStyleModel",
      "state": {
       "description_width": ""
      }
     },
     "75aff17a35e94cbbbb0259db83d31a03": {
      "model_module": "@jupyter-widgets/base",
      "model_module_version": "1.2.0",
      "model_name": "LayoutModel",
      "state": {}
     },
     "76d95794d0464c5bbde3617411a3f016": {
      "model_module": "@jupyter-widgets/base",
      "model_module_version": "1.2.0",
      "model_name": "LayoutModel",
      "state": {}
     },
     "773197773b0547258178e06737ff5eb1": {
      "model_module": "@jupyter-widgets/base",
      "model_module_version": "1.2.0",
      "model_name": "LayoutModel",
      "state": {}
     },
     "7773dd3ecc8a47768083ca9a7d023a2f": {
      "model_module": "@jupyter-widgets/base",
      "model_module_version": "1.2.0",
      "model_name": "LayoutModel",
      "state": {}
     },
     "77eea740871d41ffa2a22483d2b57ef3": {
      "model_module": "@jupyter-widgets/controls",
      "model_module_version": "1.5.0",
      "model_name": "DescriptionStyleModel",
      "state": {
       "description_width": ""
      }
     },
     "77f02eff13cf447da8e7065377120dad": {
      "model_module": "@jupyter-widgets/controls",
      "model_module_version": "1.5.0",
      "model_name": "DescriptionStyleModel",
      "state": {
       "description_width": ""
      }
     },
     "780c5beda968467d9809b5fa050069aa": {
      "model_module": "@jupyter-widgets/controls",
      "model_module_version": "1.5.0",
      "model_name": "DescriptionStyleModel",
      "state": {
       "description_width": ""
      }
     },
     "789006aa0bbc43ea90b410da58cb0a36": {
      "model_module": "@jupyter-widgets/controls",
      "model_module_version": "1.5.0",
      "model_name": "HTMLModel",
      "state": {
       "layout": "IPY_MODEL_835d000baf0146e2a685e65ec311bc79",
       "style": "IPY_MODEL_c3ecfbc0f4214eddbb380377a614c39f",
       "value": " 356/356 [00:43&lt;00:00,  9.52it/s]"
      }
     },
     "79143a8fb89a4b8abf9124ad9ca5d785": {
      "model_module": "@jupyter-widgets/base",
      "model_module_version": "1.2.0",
      "model_name": "LayoutModel",
      "state": {}
     },
     "79bc6078b94d40f29eee85fbe9358bee": {
      "model_module": "@jupyter-widgets/controls",
      "model_module_version": "1.5.0",
      "model_name": "ProgressStyleModel",
      "state": {
       "description_width": ""
      }
     },
     "79de7fe1414948dc85923a115d9dbf6e": {
      "model_module": "@jupyter-widgets/controls",
      "model_module_version": "1.5.0",
      "model_name": "ProgressStyleModel",
      "state": {
       "description_width": ""
      }
     },
     "7a115fcd8c144468aba3b7ac5cdb9238": {
      "model_module": "@jupyter-widgets/controls",
      "model_module_version": "1.5.0",
      "model_name": "HTMLModel",
      "state": {
       "layout": "IPY_MODEL_eb23ba538090472cbd8082d14303f6b9",
       "style": "IPY_MODEL_bb103eab6d294f6383e1d162e1059c4e",
       "value": " 1318/1318 [00:00&lt;00:00, 2253.21it/s]"
      }
     },
     "7b0750c1906c4f6c8134d01ca36a178d": {
      "model_module": "@jupyter-widgets/controls",
      "model_module_version": "1.5.0",
      "model_name": "DescriptionStyleModel",
      "state": {
       "description_width": ""
      }
     },
     "7b145013326b4447815215ebf75e4e30": {
      "model_module": "@jupyter-widgets/controls",
      "model_module_version": "1.5.0",
      "model_name": "DescriptionStyleModel",
      "state": {
       "description_width": ""
      }
     },
     "7b2ab66b3f6b4fabb4af6e99de221c42": {
      "model_module": "@jupyter-widgets/controls",
      "model_module_version": "1.5.0",
      "model_name": "HTMLModel",
      "state": {
       "layout": "IPY_MODEL_72264a2bc3ba4cf18cf26c03de4023e6",
       "style": "IPY_MODEL_e7402270835a45cfb5da79ca473f4d44",
       "value": "Downloading: 100%"
      }
     },
     "7b942b073da54abd8c9b3bd0da4c65e6": {
      "model_module": "@jupyter-widgets/controls",
      "model_module_version": "1.5.0",
      "model_name": "DescriptionStyleModel",
      "state": {
       "description_width": ""
      }
     },
     "7bc4e2b74c594b309adf3164a8122b80": {
      "model_module": "@jupyter-widgets/base",
      "model_module_version": "1.2.0",
      "model_name": "LayoutModel",
      "state": {}
     },
     "7c1f1a135e094643afc45f207f8b4a06": {
      "model_module": "@jupyter-widgets/base",
      "model_module_version": "1.2.0",
      "model_name": "LayoutModel",
      "state": {}
     },
     "7c2904ddeb5c49b4a15db34e878ded97": {
      "model_module": "@jupyter-widgets/controls",
      "model_module_version": "1.5.0",
      "model_name": "HTMLModel",
      "state": {
       "layout": "IPY_MODEL_4bee8fb67d0c489bb3f38af46a3858df",
       "style": "IPY_MODEL_1d7bfafe18a449c3a9359612765d0d7f",
       "value": " 1318/1318 [00:00&lt;00:00, 2255.82it/s]"
      }
     },
     "7c7b23aeec164ec18a8fb08a8a33868d": {
      "model_module": "@jupyter-widgets/controls",
      "model_module_version": "1.5.0",
      "model_name": "ProgressStyleModel",
      "state": {
       "description_width": ""
      }
     },
     "7ca20ee106064add8516329084cc4a23": {
      "model_module": "@jupyter-widgets/controls",
      "model_module_version": "1.5.0",
      "model_name": "LabelModel",
      "state": {
       "layout": "IPY_MODEL_7104ca7cebc042ae82446599fca5cbaa",
       "style": "IPY_MODEL_c006d6115814463fba72806b1c23f39e"
      }
     },
     "7cc54c08d6b849e0bf9bd97e55478b7b": {
      "model_module": "@jupyter-widgets/base",
      "model_module_version": "1.2.0",
      "model_name": "LayoutModel",
      "state": {}
     },
     "7cf12608db644dfda5da143ea9c71179": {
      "model_module": "@jupyter-widgets/base",
      "model_module_version": "1.2.0",
      "model_name": "LayoutModel",
      "state": {}
     },
     "7d12ce075e124a5f8fadb18434132590": {
      "model_module": "@jupyter-widgets/controls",
      "model_module_version": "1.5.0",
      "model_name": "DescriptionStyleModel",
      "state": {
       "description_width": ""
      }
     },
     "7d1a1122cbe3449cb02a81f5bb31901b": {
      "model_module": "@jupyter-widgets/base",
      "model_module_version": "1.2.0",
      "model_name": "LayoutModel",
      "state": {}
     },
     "7d6737ccc42e48898f653e62811cf2fd": {
      "model_module": "@jupyter-widgets/base",
      "model_module_version": "1.2.0",
      "model_name": "LayoutModel",
      "state": {}
     },
     "7d69c7c31d8f45959771e2c075dc7605": {
      "model_module": "@jupyter-widgets/base",
      "model_module_version": "1.2.0",
      "model_name": "LayoutModel",
      "state": {}
     },
     "7dde618ba302401b9304a41bf0e0292c": {
      "model_module": "@jupyter-widgets/controls",
      "model_module_version": "1.5.0",
      "model_name": "FloatProgressModel",
      "state": {
       "bar_style": "success",
       "layout": "IPY_MODEL_123f9e41cdd24003803cccb74bc14b0e",
       "max": 345,
       "style": "IPY_MODEL_d07308b510974b1c87978f89a30d6785",
       "value": 345
      }
     },
     "7df34065ac4441ed9c9255cf25b84179": {
      "model_module": "@jupyter-widgets/controls",
      "model_module_version": "1.5.0",
      "model_name": "HTMLModel",
      "state": {
       "layout": "IPY_MODEL_1e69f244f57b48b8b08c70c24fa77139",
       "style": "IPY_MODEL_001f1ee58de7445182e5e071225d5665",
       "value": " 1318/1318 [00:00&lt;00:00, 2235.44it/s]"
      }
     },
     "7e04b77925d0423fb35924e984747f49": {
      "model_module": "@jupyter-widgets/controls",
      "model_module_version": "1.5.0",
      "model_name": "DescriptionStyleModel",
      "state": {
       "description_width": ""
      }
     },
     "7e1b00bb3c2944a38e85829e019abbb6": {
      "model_module": "@jupyter-widgets/controls",
      "model_module_version": "1.5.0",
      "model_name": "HTMLModel",
      "state": {
       "layout": "IPY_MODEL_b7196d5e750649deb64371f3fb4e1736",
       "style": "IPY_MODEL_84a2430efe2f4782a70b2b278a4e9dd2",
       "value": "100%"
      }
     },
     "7e65e9ae995843458e40b4510a03456c": {
      "model_module": "@jupyter-widgets/base",
      "model_module_version": "1.2.0",
      "model_name": "LayoutModel",
      "state": {}
     },
     "7f3f9389431d426591f9bafc6f87efa3": {
      "model_module": "@jupyter-widgets/base",
      "model_module_version": "1.2.0",
      "model_name": "LayoutModel",
      "state": {}
     },
     "7fc365da24ab4d429d16be695fdad525": {
      "model_module": "@jupyter-widgets/controls",
      "model_module_version": "1.5.0",
      "model_name": "HTMLModel",
      "state": {
       "layout": "IPY_MODEL_3b93da5080464092a2c0999b9c4e37ee",
       "style": "IPY_MODEL_5db1135bb44c4792bc4adac9427e716f",
       "value": "Epochs 1/2. Running Loss:    0.4187: 100%"
      }
     },
     "8068b8a3351643dc8e8921d1879f7bde": {
      "model_module": "@jupyter-widgets/controls",
      "model_module_version": "1.5.0",
      "model_name": "FloatProgressModel",
      "state": {
       "bar_style": "success",
       "layout": "IPY_MODEL_a63b2cd7811c493c848aac39d5f560d8",
       "max": 2,
       "style": "IPY_MODEL_bf2560061bb74e959013e8812302a807",
       "value": 2
      }
     },
     "80e9087daea544c5ab0bee0732ca38a5": {
      "model_module": "@jupyter-widgets/base",
      "model_module_version": "1.2.0",
      "model_name": "LayoutModel",
      "state": {}
     },
     "81368eadc2024ffdb3bc1c12910c8a48": {
      "model_module": "@jupyter-widgets/controls",
      "model_module_version": "1.5.0",
      "model_name": "DescriptionStyleModel",
      "state": {
       "description_width": ""
      }
     },
     "8158c5208db245f1b7c2099bf6706505": {
      "model_module": "@jupyter-widgets/base",
      "model_module_version": "1.2.0",
      "model_name": "LayoutModel",
      "state": {}
     },
     "81776951712f4336adea739891ec1c08": {
      "model_module": "@jupyter-widgets/controls",
      "model_module_version": "1.5.0",
      "model_name": "DescriptionStyleModel",
      "state": {
       "description_width": ""
      }
     },
     "8296e440d4114e21a5da0dbd433a7c57": {
      "model_module": "@jupyter-widgets/controls",
      "model_module_version": "1.5.0",
      "model_name": "DescriptionStyleModel",
      "state": {
       "description_width": ""
      }
     },
     "83266334e76d424e9658595b250278b5": {
      "model_module": "@jupyter-widgets/controls",
      "model_module_version": "1.5.0",
      "model_name": "FloatProgressModel",
      "state": {
       "bar_style": "success",
       "layout": "IPY_MODEL_23f659a54ad34d7b85283141c2d9d285",
       "max": 356,
       "style": "IPY_MODEL_ac7edaf735434cca9e44e995ddd38645",
       "value": 356
      }
     },
     "835d000baf0146e2a685e65ec311bc79": {
      "model_module": "@jupyter-widgets/base",
      "model_module_version": "1.2.0",
      "model_name": "LayoutModel",
      "state": {}
     },
     "836998dd8f4546d584f8de82a9423be3": {
      "model_module": "@jupyter-widgets/controls",
      "model_module_version": "1.5.0",
      "model_name": "HBoxModel",
      "state": {
       "children": [
        "IPY_MODEL_c1df696bd6cd416f862aea5775d68278",
        "IPY_MODEL_09db0ba7b83447b6bc21e6a4d6612a8b",
        "IPY_MODEL_a0005951939b42298cc08b1ba42e6d5c"
       ],
       "layout": "IPY_MODEL_4d26702246304a8fa9bf449950c12d0a"
      }
     },
     "841193548a30485b917928d755ac4d0d": {
      "model_module": "@jupyter-widgets/controls",
      "model_module_version": "1.5.0",
      "model_name": "DescriptionStyleModel",
      "state": {
       "description_width": ""
      }
     },
     "841aa8ed02454027985f19c092fe0dfd": {
      "model_module": "@jupyter-widgets/controls",
      "model_module_version": "1.5.0",
      "model_name": "HTMLModel",
      "state": {
       "layout": "IPY_MODEL_c28cfd3b21164c3d9aa4b8c3c0a6e31b",
       "style": "IPY_MODEL_eb62c53bbfbe4af7ab440f99d87b89aa",
       "value": " 43/43 [00:02&lt;00:00, 28.52it/s]"
      }
     },
     "8436ad2ed1c6415c9ee59ae2ee188514": {
      "model_module": "@jupyter-widgets/controls",
      "model_module_version": "1.5.0",
      "model_name": "DescriptionStyleModel",
      "state": {
       "description_width": ""
      }
     },
     "84a2430efe2f4782a70b2b278a4e9dd2": {
      "model_module": "@jupyter-widgets/controls",
      "model_module_version": "1.5.0",
      "model_name": "DescriptionStyleModel",
      "state": {
       "description_width": ""
      }
     },
     "84d2d957edff434db7895f0b56aeeec2": {
      "model_module": "@jupyter-widgets/controls",
      "model_module_version": "1.5.0",
      "model_name": "ProgressStyleModel",
      "state": {
       "description_width": ""
      }
     },
     "84fdf0da07594f28959392d82784d91c": {
      "model_module": "@jupyter-widgets/base",
      "model_module_version": "1.2.0",
      "model_name": "LayoutModel",
      "state": {}
     },
     "855856ca99e04debb17dac95b24faf55": {
      "model_module": "@jupyter-widgets/controls",
      "model_module_version": "1.5.0",
      "model_name": "FloatProgressModel",
      "state": {
       "bar_style": "success",
       "layout": "IPY_MODEL_c9b964b114424a1f90a0e3542c0511b9",
       "max": 43,
       "style": "IPY_MODEL_2cb01f08ecef4e9bb6c8d0380260c206",
       "value": 43
      }
     },
     "85eefebcef6b4a2fb96a071ac6aeb367": {
      "model_module": "@jupyter-widgets/controls",
      "model_module_version": "1.5.0",
      "model_name": "HTMLModel",
      "state": {
       "layout": "IPY_MODEL_71b80ec22ce6454b979a5bf0b7a0f3ac",
       "style": "IPY_MODEL_7b0750c1906c4f6c8134d01ca36a178d",
       "value": "Running Evaluation: 100%"
      }
     },
     "86d3f68109744fe8af0ebff745bfbdff": {
      "model_module": "@jupyter-widgets/controls",
      "model_module_version": "1.5.0",
      "model_name": "DescriptionStyleModel",
      "state": {
       "description_width": ""
      }
     },
     "86e8363172a041fe933ef9cdd92d0d46": {
      "model_module": "@jupyter-widgets/controls",
      "model_module_version": "1.5.0",
      "model_name": "HTMLModel",
      "state": {
       "layout": "IPY_MODEL_14dd68eb980044d8849d20761b49985a",
       "style": "IPY_MODEL_24b0b58bd8094a569cf8769196fd7703",
       "value": " 1318/1318 [00:00&lt;00:00, 2179.77it/s]"
      }
     },
     "86fb12e89b9a411dbceeac089eebd11d": {
      "model_module": "@jupyter-widgets/controls",
      "model_module_version": "1.5.0",
      "model_name": "HBoxModel",
      "state": {
       "children": [
        "IPY_MODEL_38db643b7fcd4592883c10d15315c82d",
        "IPY_MODEL_c6a356fa215c4c6596cb3ce6a4fbaf5e",
        "IPY_MODEL_fbe979f862c444ea97d716184e21b224"
       ],
       "layout": "IPY_MODEL_fd6017ede24449f6a62502bb432f7768"
      }
     },
     "871bb9bb1eb049dcbdb8efe4c9110ced": {
      "model_module": "@jupyter-widgets/controls",
      "model_module_version": "1.5.0",
      "model_name": "HTMLModel",
      "state": {
       "layout": "IPY_MODEL_fbec3ce9c24045afacb73a632370a0cf",
       "style": "IPY_MODEL_197cac2d0d4949aab84270388d77ed87",
       "value": " 112/112 [00:03&lt;00:00, 29.51it/s]"
      }
     },
     "872f7d88ff23488993126c4b0b1920fb": {
      "model_module": "@jupyter-widgets/base",
      "model_module_version": "1.2.0",
      "model_name": "LayoutModel",
      "state": {}
     },
     "8732308d97a0465da3ba890175fbbc34": {
      "model_module": "@jupyter-widgets/controls",
      "model_module_version": "1.5.0",
      "model_name": "HBoxModel",
      "state": {
       "children": [
        "IPY_MODEL_8e102dbfa91543bb81ff6bda55b45b5e",
        "IPY_MODEL_f0ec6615f2654fb9ac3ba1de9e651a4e",
        "IPY_MODEL_dbfdf1f57f2243a7a4edb99f25999f45"
       ],
       "layout": "IPY_MODEL_099f778e60b14370b556eb240c20988d"
      }
     },
     "88299c45726848f893922e463eebc26e": {
      "model_module": "@jupyter-widgets/base",
      "model_module_version": "1.2.0",
      "model_name": "LayoutModel",
      "state": {}
     },
     "88564c43ddb4400d9ea20ce2b7b35790": {
      "model_module": "@jupyter-widgets/controls",
      "model_module_version": "1.5.0",
      "model_name": "DescriptionStyleModel",
      "state": {
       "description_width": ""
      }
     },
     "885f41daa8f04f8ea02d20efdbe07ff0": {
      "model_module": "@jupyter-widgets/controls",
      "model_module_version": "1.5.0",
      "model_name": "HBoxModel",
      "state": {
       "children": [
        "IPY_MODEL_a46b447063f44ae89bf3e23d69b47240",
        "IPY_MODEL_5f22af06302c4579ad08cd30b488ab15",
        "IPY_MODEL_d5051da495094144a6b673d44e871177"
       ],
       "layout": "IPY_MODEL_31f5d0c2d7584833800d89ad779d1c4d"
      }
     },
     "88a7b983446047a0b1d135dab122b195": {
      "model_module": "@jupyter-widgets/controls",
      "model_module_version": "1.5.0",
      "model_name": "DescriptionStyleModel",
      "state": {
       "description_width": ""
      }
     },
     "88be5420031643819c8b409a88f8c785": {
      "model_module": "@jupyter-widgets/controls",
      "model_module_version": "1.5.0",
      "model_name": "HBoxModel",
      "state": {
       "children": [
        "IPY_MODEL_2b9288066d034c74b63d3a6453375a87",
        "IPY_MODEL_52a0775b5e3c455e9e540eb5ab539dd4",
        "IPY_MODEL_c609d1b2d67643a3b146ffe159bd50b6"
       ],
       "layout": "IPY_MODEL_5c0bcf703dbd4150b162c30ec789768c"
      }
     },
     "89d51301f9f447c195b1b56a74f93350": {
      "model_module": "@jupyter-widgets/controls",
      "model_module_version": "1.5.0",
      "model_name": "HTMLModel",
      "state": {
       "layout": "IPY_MODEL_e2a79c94017147148a36047975bda8a0",
       "style": "IPY_MODEL_9afa4d82cd3b4a0bbf7d22d11a09133c",
       "value": "Epoch 2 of 2: 100%"
      }
     },
     "8aa135475bb54550a91b4dc2ef1235fc": {
      "model_module": "@jupyter-widgets/base",
      "model_module_version": "1.2.0",
      "model_name": "LayoutModel",
      "state": {}
     },
     "8ba62972c7a149579ae9bf56afb5debe": {
      "model_module": "@jupyter-widgets/controls",
      "model_module_version": "1.5.0",
      "model_name": "HTMLModel",
      "state": {
       "layout": "IPY_MODEL_689f718ec7e743d18ee3d08a49422a3d",
       "style": "IPY_MODEL_98e321de47174f5a96968a6fed7875c3",
       "value": "100%"
      }
     },
     "8bd5cd41ef43488f9a69169698715320": {
      "model_module": "@jupyter-widgets/base",
      "model_module_version": "1.2.0",
      "model_name": "LayoutModel",
      "state": {}
     },
     "8bdf23f14a544977bc9c7e167f4f3866": {
      "model_module": "@jupyter-widgets/controls",
      "model_module_version": "1.5.0",
      "model_name": "HTMLModel",
      "state": {
       "layout": "IPY_MODEL_68efcc0eb14d4a748cdaf3dccf220222",
       "style": "IPY_MODEL_000142a9ffa04cd99b774c8707591a51",
       "value": "100%"
      }
     },
     "8c034bdb458448658622f6944e80d8d3": {
      "model_module": "@jupyter-widgets/controls",
      "model_module_version": "1.5.0",
      "model_name": "DescriptionStyleModel",
      "state": {
       "description_width": ""
      }
     },
     "8c3b90d27182465b9a5797e839ef8fdf": {
      "model_module": "@jupyter-widgets/base",
      "model_module_version": "1.2.0",
      "model_name": "LayoutModel",
      "state": {}
     },
     "8c4c82ebbabe4b1494bb048859b11052": {
      "model_module": "@jupyter-widgets/base",
      "model_module_version": "1.2.0",
      "model_name": "LayoutModel",
      "state": {}
     },
     "8c5bdbb419c141e0915352fc8a6e5a16": {
      "model_module": "@jupyter-widgets/base",
      "model_module_version": "1.2.0",
      "model_name": "LayoutModel",
      "state": {}
     },
     "8c72b59a5ecf4f12a3956dd4b15a95ee": {
      "model_module": "@jupyter-widgets/controls",
      "model_module_version": "1.5.0",
      "model_name": "FloatProgressModel",
      "state": {
       "bar_style": "success",
       "layout": "IPY_MODEL_01c8543dc6b0449db251575c4fadc478",
       "max": 112,
       "style": "IPY_MODEL_2d88c9d06cbf4fdda7880829f9158e35",
       "value": 112
      }
     },
     "8cd6ab0c242a4cf09191cc044306b404": {
      "model_module": "@jupyter-widgets/base",
      "model_module_version": "1.2.0",
      "model_name": "LayoutModel",
      "state": {}
     },
     "8d08354460c646a7aeec2cdc76bc5a00": {
      "model_module": "@jupyter-widgets/controls",
      "model_module_version": "1.5.0",
      "model_name": "DescriptionStyleModel",
      "state": {
       "description_width": ""
      }
     },
     "8d11e97255524f08884d6d91df1e160e": {
      "model_module": "@jupyter-widgets/controls",
      "model_module_version": "1.5.0",
      "model_name": "DescriptionStyleModel",
      "state": {
       "description_width": ""
      }
     },
     "8d88b6d6dc844879bfffbc9db7ea502d": {
      "model_module": "@jupyter-widgets/base",
      "model_module_version": "1.2.0",
      "model_name": "LayoutModel",
      "state": {}
     },
     "8d892112e3cc4a5a94057e6be6373219": {
      "model_module": "@jupyter-widgets/controls",
      "model_module_version": "1.5.0",
      "model_name": "FloatProgressModel",
      "state": {
       "bar_style": "success",
       "layout": "IPY_MODEL_3e732e3847d9436d92bbaf641b6d98a1",
       "max": 1318,
       "style": "IPY_MODEL_d148035340fe40659cc003c18b6f8cfa",
       "value": 1318
      }
     },
     "8e102dbfa91543bb81ff6bda55b45b5e": {
      "model_module": "@jupyter-widgets/controls",
      "model_module_version": "1.5.0",
      "model_name": "HTMLModel",
      "state": {
       "layout": "IPY_MODEL_7cc54c08d6b849e0bf9bd97e55478b7b",
       "style": "IPY_MODEL_0a55ca88cda241fc9cc68ec740f929e7",
       "value": "100%"
      }
     },
     "8e1b64c300e3470bb820c2339c48ec16": {
      "model_module": "@jupyter-widgets/base",
      "model_module_version": "1.2.0",
      "model_name": "LayoutModel",
      "state": {}
     },
     "8e4d22177c8741ceaabec398ebb9326c": {
      "model_module": "@jupyter-widgets/controls",
      "model_module_version": "1.5.0",
      "model_name": "HBoxModel",
      "state": {
       "children": [
        "IPY_MODEL_553ac48a6666406bb2ab220f1a1b2c15",
        "IPY_MODEL_e296828e98f84cff9cffb0a8f2a01292",
        "IPY_MODEL_db75d10a9ddd4db6a28fcd5ce937bf12"
       ],
       "layout": "IPY_MODEL_be9dd12d2f1144c5a2dc172a4b933de3"
      }
     },
     "8e7db517b88d4892aea9329d9a8989c5": {
      "model_module": "@jupyter-widgets/controls",
      "model_module_version": "1.5.0",
      "model_name": "FloatProgressModel",
      "state": {
       "layout": "IPY_MODEL_0028df7283f24e9f9fb007112311d37b",
       "max": 1,
       "style": "IPY_MODEL_f056ba4aabe241d6a09269109d8b86a2",
       "value": 1
      }
     },
     "8e965e8e4c7a4757a944c3752b5dffae": {
      "model_module": "@jupyter-widgets/controls",
      "model_module_version": "1.5.0",
      "model_name": "FloatProgressModel",
      "state": {
       "bar_style": "success",
       "layout": "IPY_MODEL_0a274d1e212b49919beba0d2e6a7de3f",
       "max": 3555,
       "style": "IPY_MODEL_61ecd1ae13bc416a977e6c7223fe9430",
       "value": 3555
      }
     },
     "8ebf93dd1a53422aad6637fbf541e349": {
      "model_module": "@jupyter-widgets/base",
      "model_module_version": "1.2.0",
      "model_name": "LayoutModel",
      "state": {}
     },
     "8ec04d0e5709432aacf9f1caddf3cf21": {
      "model_module": "@jupyter-widgets/base",
      "model_module_version": "1.2.0",
      "model_name": "LayoutModel",
      "state": {}
     },
     "8ee2c6b198ae4268916178943bf84efb": {
      "model_module": "@jupyter-widgets/controls",
      "model_module_version": "1.5.0",
      "model_name": "FloatProgressModel",
      "state": {
       "bar_style": "success",
       "layout": "IPY_MODEL_0462db12f65d453381392db3de917999",
       "max": 112,
       "style": "IPY_MODEL_4bcacce240b84f07931a6e9b034b03e5",
       "value": 112
      }
     },
     "8f34b7e947ec454f91dfb86d3756c081": {
      "model_module": "@jupyter-widgets/controls",
      "model_module_version": "1.5.0",
      "model_name": "DescriptionStyleModel",
      "state": {
       "description_width": ""
      }
     },
     "8f4cba348b8b4d88bb1399a61374f2c0": {
      "model_module": "@jupyter-widgets/controls",
      "model_module_version": "1.5.0",
      "model_name": "HTMLModel",
      "state": {
       "layout": "IPY_MODEL_a0acf79c64204b91a182b7b785ecfe3d",
       "style": "IPY_MODEL_1f08684613244980b111af954a194dd2",
       "value": "Running Evaluation: 100%"
      }
     },
     "9017ae9cdc9643388c175adb17521b2c": {
      "model_module": "@jupyter-widgets/controls",
      "model_module_version": "1.5.0",
      "model_name": "ProgressStyleModel",
      "state": {
       "description_width": ""
      }
     },
     "901fb9852cf343c3bb9a7ff529cf75bf": {
      "model_module": "@jupyter-widgets/base",
      "model_module_version": "1.2.0",
      "model_name": "LayoutModel",
      "state": {}
     },
     "903832cc7bd14b169c8db8e9767ea8d2": {
      "model_module": "@jupyter-widgets/controls",
      "model_module_version": "1.5.0",
      "model_name": "HBoxModel",
      "state": {
       "children": [
        "IPY_MODEL_635fa32674e549309f27a92540dbecdd",
        "IPY_MODEL_2c6a2f2489e34f2e81a87d43cc4def19",
        "IPY_MODEL_dde2ccda1a9f499bb81dacd725d3df34"
       ],
       "layout": "IPY_MODEL_773197773b0547258178e06737ff5eb1"
      }
     },
     "903a9d956933466fa3dcf488c0d9b64a": {
      "model_module": "@jupyter-widgets/controls",
      "model_module_version": "1.5.0",
      "model_name": "ProgressStyleModel",
      "state": {
       "description_width": ""
      }
     },
     "90548a25749845cc9c66560064defffc": {
      "model_module": "@jupyter-widgets/controls",
      "model_module_version": "1.5.0",
      "model_name": "HBoxModel",
      "state": {
       "children": [
        "IPY_MODEL_973daa04e43145368c0318a419d73f28",
        "IPY_MODEL_4e6f624e740745ad99bf07ad1931dd17",
        "IPY_MODEL_9baef50cb98f40969c8b46fc75f8d8af"
       ],
       "layout": "IPY_MODEL_cf6227bff1de4bb3bf8ff241ef90e534"
      }
     },
     "9097520fa01e4dbc9d9d2b7243345975": {
      "model_module": "@jupyter-widgets/controls",
      "model_module_version": "1.5.0",
      "model_name": "FloatProgressModel",
      "state": {
       "bar_style": "success",
       "layout": "IPY_MODEL_9827ff90543b41f6a21c86272f1844a7",
       "max": 1318,
       "style": "IPY_MODEL_5254df025dca49078389c9f7af15bcbc",
       "value": 1318
      }
     },
     "90f29aca3bbe453a859f883caf824229": {
      "model_module": "@jupyter-widgets/base",
      "model_module_version": "1.2.0",
      "model_name": "LayoutModel",
      "state": {}
     },
     "912e6abf9816409fa85414372bfc16ee": {
      "model_module": "@jupyter-widgets/base",
      "model_module_version": "1.2.0",
      "model_name": "LayoutModel",
      "state": {}
     },
     "9145c1c25ae643f8a034d3361c44c60f": {
      "model_module": "@jupyter-widgets/controls",
      "model_module_version": "1.5.0",
      "model_name": "DescriptionStyleModel",
      "state": {
       "description_width": ""
      }
     },
     "914e28a6e7c2450c8d82615eb0f0ee26": {
      "model_module": "@jupyter-widgets/controls",
      "model_module_version": "1.5.0",
      "model_name": "HTMLModel",
      "state": {
       "layout": "IPY_MODEL_db23e11e0c67478d8f1f2b7cd721d153",
       "style": "IPY_MODEL_d33bfcd1d3a84f2b83d67da3a619dc54",
       "value": "100%"
      }
     },
     "916b6ddc39dd4f40b2848169b2704f7b": {
      "model_module": "@jupyter-widgets/controls",
      "model_module_version": "1.5.0",
      "model_name": "HBoxModel",
      "state": {
       "children": [
        "IPY_MODEL_268f6f36393147b7a24b98f44987e00c",
        "IPY_MODEL_d5c56814f0a840c087ee85ec091dd206",
        "IPY_MODEL_e74525fadf9d49da8f22aeceb51bad63"
       ],
       "layout": "IPY_MODEL_6db28d41e1ea4728a2447dc8b11e6842"
      }
     },
     "91bd1346070d48c4873dd36c39b3f6ad": {
      "model_module": "@jupyter-widgets/base",
      "model_module_version": "1.2.0",
      "model_name": "LayoutModel",
      "state": {}
     },
     "91d384d903b14a0280c5d252bd78ed9b": {
      "model_module": "@jupyter-widgets/controls",
      "model_module_version": "1.5.0",
      "model_name": "FloatProgressModel",
      "state": {
       "bar_style": "success",
       "layout": "IPY_MODEL_fc72e61fe4bf4e86850d3cf56e4352cd",
       "max": 1318,
       "style": "IPY_MODEL_84d2d957edff434db7895f0b56aeeec2",
       "value": 1318
      }
     },
     "91dc520f5e3e429ab8b50e6ae0e34238": {
      "model_module": "@jupyter-widgets/base",
      "model_module_version": "1.2.0",
      "model_name": "LayoutModel",
      "state": {}
     },
     "91e3b6b395ee4c0da8d1507a0266c139": {
      "model_module": "@jupyter-widgets/controls",
      "model_module_version": "1.5.0",
      "model_name": "DescriptionStyleModel",
      "state": {
       "description_width": ""
      }
     },
     "9302de20f4754950a3a625b55c69d340": {
      "model_module": "@jupyter-widgets/base",
      "model_module_version": "1.2.0",
      "model_name": "LayoutModel",
      "state": {}
     },
     "93746172268241bfabfc0441a286a73e": {
      "model_module": "@jupyter-widgets/controls",
      "model_module_version": "1.5.0",
      "model_name": "DescriptionStyleModel",
      "state": {
       "description_width": ""
      }
     },
     "939d37e5013d4911a14af4e327cf7aab": {
      "model_module": "@jupyter-widgets/base",
      "model_module_version": "1.2.0",
      "model_name": "LayoutModel",
      "state": {}
     },
     "94098940085b4dbb887cef9991b1f93f": {
      "model_module": "@jupyter-widgets/controls",
      "model_module_version": "1.5.0",
      "model_name": "ProgressStyleModel",
      "state": {
       "description_width": ""
      }
     },
     "943cebdd12d74da1b16328e3fb36dc7b": {
      "model_module": "@jupyter-widgets/base",
      "model_module_version": "1.2.0",
      "model_name": "LayoutModel",
      "state": {}
     },
     "945bc17fdf9a49dda0d0e604e506383e": {
      "model_module": "@jupyter-widgets/controls",
      "model_module_version": "1.5.0",
      "model_name": "DescriptionStyleModel",
      "state": {
       "description_width": ""
      }
     },
     "946203cfc49e4dd4b397ea67d0925d39": {
      "model_module": "@jupyter-widgets/base",
      "model_module_version": "1.2.0",
      "model_name": "LayoutModel",
      "state": {}
     },
     "94e8170c8cd44d3284692fc539982e02": {
      "model_module": "@jupyter-widgets/base",
      "model_module_version": "1.2.0",
      "model_name": "LayoutModel",
      "state": {}
     },
     "9509d501699241db997741dbc2dcd5ed": {
      "model_module": "@jupyter-widgets/controls",
      "model_module_version": "1.5.0",
      "model_name": "ProgressStyleModel",
      "state": {
       "description_width": ""
      }
     },
     "9512578a91c44e8aa5d3ae2ac439550b": {
      "model_module": "@jupyter-widgets/controls",
      "model_module_version": "1.5.0",
      "model_name": "HTMLModel",
      "state": {
       "layout": "IPY_MODEL_19578d69917b4d858c37d8c09925568c",
       "style": "IPY_MODEL_bd99fa888c3740699b25760499d408b1",
       "value": " 345/345 [00:42&lt;00:00,  8.58it/s]"
      }
     },
     "956340a457ea4e57a634b4f7e07277d0": {
      "model_module": "@jupyter-widgets/base",
      "model_module_version": "1.2.0",
      "model_name": "LayoutModel",
      "state": {}
     },
     "959eb58ac33b44ad8bd9a79fd166cda9": {
      "model_module": "@jupyter-widgets/base",
      "model_module_version": "1.2.0",
      "model_name": "LayoutModel",
      "state": {}
     },
     "9665d3e0ddcf492c8ac1b310b45786ed": {
      "model_module": "@jupyter-widgets/controls",
      "model_module_version": "1.5.0",
      "model_name": "HTMLModel",
      "state": {
       "layout": "IPY_MODEL_29090f1b42544945a517cf12a24fba5e",
       "style": "IPY_MODEL_6363f09cb2bd4985a3f9c02b3dbc5a39",
       "value": "Epochs 0/2. Running Loss:    0.5333: 100%"
      }
     },
     "96712f334f9944cfa77ff60979bcc273": {
      "model_module": "@jupyter-widgets/controls",
      "model_module_version": "1.5.0",
      "model_name": "HTMLModel",
      "state": {
       "layout": "IPY_MODEL_f24b78d199df4139a697e41d0ba43048",
       "style": "IPY_MODEL_3f927efc30834631bc89679bf377bd2a",
       "value": "Downloading: 100%"
      }
     },
     "96794a4eeef640149634ba953ea9ddcc": {
      "model_module": "@jupyter-widgets/controls",
      "model_module_version": "1.5.0",
      "model_name": "HTMLModel",
      "state": {
       "layout": "IPY_MODEL_7773dd3ecc8a47768083ca9a7d023a2f",
       "style": "IPY_MODEL_6007febe3358458aafff26503a213d32",
       "value": "100%"
      }
     },
     "96bace3b4f254efc8b939495015e3914": {
      "model_module": "@jupyter-widgets/base",
      "model_module_version": "1.2.0",
      "model_name": "LayoutModel",
      "state": {}
     },
     "96baf7713f5948fc9ae6e791678890c8": {
      "model_module": "@jupyter-widgets/controls",
      "model_module_version": "1.5.0",
      "model_name": "HTMLModel",
      "state": {
       "layout": "IPY_MODEL_fbc8dc5227144232ae941a81aac76ba1",
       "style": "IPY_MODEL_f630d638744b44b78e95797cd975dbd5",
       "value": " 356/356 [00:44&lt;00:00,  9.59it/s]"
      }
     },
     "96e5b04c61e0458f972b23bdd486b831": {
      "model_module": "@jupyter-widgets/controls",
      "model_module_version": "1.5.0",
      "model_name": "LabelModel",
      "state": {
       "layout": "IPY_MODEL_5aa47cf2132c4f1dae9ae8a79592b863",
       "style": "IPY_MODEL_5a1b851e421646dfb3f03e000e59697f",
       "value": "0.015 MB of 0.015 MB uploaded (0.000 MB deduped)\r"
      }
     },
     "973daa04e43145368c0318a419d73f28": {
      "model_module": "@jupyter-widgets/controls",
      "model_module_version": "1.5.0",
      "model_name": "HTMLModel",
      "state": {
       "layout": "IPY_MODEL_fc943aa1d09547369df1302d23a4c9c5",
       "style": "IPY_MODEL_5825d43120404f0ea72d7f24868718ed",
       "value": "100%"
      }
     },
     "973f9fcc98f94718939822796c56488b": {
      "model_module": "@jupyter-widgets/controls",
      "model_module_version": "1.5.0",
      "model_name": "DescriptionStyleModel",
      "state": {
       "description_width": ""
      }
     },
     "974fb31908f242d5945d753bff6b4b70": {
      "model_module": "@jupyter-widgets/base",
      "model_module_version": "1.2.0",
      "model_name": "LayoutModel",
      "state": {}
     },
     "977144014f0447dbbbf18b0d90d126fe": {
      "model_module": "@jupyter-widgets/controls",
      "model_module_version": "1.5.0",
      "model_name": "ProgressStyleModel",
      "state": {
       "description_width": ""
      }
     },
     "9827ff90543b41f6a21c86272f1844a7": {
      "model_module": "@jupyter-widgets/base",
      "model_module_version": "1.2.0",
      "model_name": "LayoutModel",
      "state": {}
     },
     "9854261da3874a4eb7716dec0c87abcb": {
      "model_module": "@jupyter-widgets/controls",
      "model_module_version": "1.5.0",
      "model_name": "FloatProgressModel",
      "state": {
       "layout": "IPY_MODEL_f520ca4e515745d69a3561b6246669c9",
       "max": 1,
       "style": "IPY_MODEL_399bd26250d14def8c00da6491061452",
       "value": 1
      }
     },
     "9891becc41f9418bb99b55245c2ff8b5": {
      "model_module": "@jupyter-widgets/controls",
      "model_module_version": "1.5.0",
      "model_name": "HTMLModel",
      "state": {
       "layout": "IPY_MODEL_8bd5cd41ef43488f9a69169698715320",
       "style": "IPY_MODEL_19958975208041e0868e2bc880a2aad6",
       "value": " 3555/3555 [00:00&lt;00:00, 7373.49it/s]"
      }
     },
     "98c938a832e14bceadedeafdbfd04971": {
      "model_module": "@jupyter-widgets/controls",
      "model_module_version": "1.5.0",
      "model_name": "HBoxModel",
      "state": {
       "children": [
        "IPY_MODEL_4d98b7f2254444be80b4794d9ae5cc66",
        "IPY_MODEL_8ee2c6b198ae4268916178943bf84efb",
        "IPY_MODEL_56bf1a0a57f84eb095599315d5379f25"
       ],
       "layout": "IPY_MODEL_6a94e6590ee840fc9653a3bb060dd96f"
      }
     },
     "98e321de47174f5a96968a6fed7875c3": {
      "model_module": "@jupyter-widgets/controls",
      "model_module_version": "1.5.0",
      "model_name": "DescriptionStyleModel",
      "state": {
       "description_width": ""
      }
     },
     "993b9437b98a43cd98e571e35abe6ba2": {
      "model_module": "@jupyter-widgets/base",
      "model_module_version": "1.2.0",
      "model_name": "LayoutModel",
      "state": {}
     },
     "993c5753a5b04474844f47da3fb782f9": {
      "model_module": "@jupyter-widgets/controls",
      "model_module_version": "1.5.0",
      "model_name": "HBoxModel",
      "state": {
       "children": [
        "IPY_MODEL_8bdf23f14a544977bc9c7e167f4f3866",
        "IPY_MODEL_ffce69f360ca40278e9d4f92ef3f9309",
        "IPY_MODEL_e364d58e636349a08500aa147e27c76f"
       ],
       "layout": "IPY_MODEL_0faa177778784f00aacf4a1b494d83b8"
      }
     },
     "99b47c57d1d740798b1bb1e88259446b": {
      "model_module": "@jupyter-widgets/controls",
      "model_module_version": "1.5.0",
      "model_name": "HBoxModel",
      "state": {
       "children": [
        "IPY_MODEL_0be9b3ac51844241aff5a1856bde75ef",
        "IPY_MODEL_91d384d903b14a0280c5d252bd78ed9b",
        "IPY_MODEL_acd071c2eb27403f896b9345313fa4a2"
       ],
       "layout": "IPY_MODEL_09312fec8bbc4213a58809a6a0debdd8"
      }
     },
     "9aa249daa7794784aa9deaec349a0ef4": {
      "model_module": "@jupyter-widgets/controls",
      "model_module_version": "1.5.0",
      "model_name": "ProgressStyleModel",
      "state": {
       "description_width": ""
      }
     },
     "9af307aaaf534f698be0395aab25d875": {
      "model_module": "@jupyter-widgets/controls",
      "model_module_version": "1.5.0",
      "model_name": "LabelModel",
      "state": {
       "layout": "IPY_MODEL_ca4dc429b72844c5b6023780d625f4b4",
       "style": "IPY_MODEL_752afe9f41e14b78b17d2e82113585cf",
       "value": "0.017 MB of 0.017 MB uploaded (0.000 MB deduped)\r"
      }
     },
     "9afa4d82cd3b4a0bbf7d22d11a09133c": {
      "model_module": "@jupyter-widgets/controls",
      "model_module_version": "1.5.0",
      "model_name": "DescriptionStyleModel",
      "state": {
       "description_width": ""
      }
     },
     "9b730544dfd34cfbb760b814a8085fad": {
      "model_module": "@jupyter-widgets/controls",
      "model_module_version": "1.5.0",
      "model_name": "HBoxModel",
      "state": {
       "children": [
        "IPY_MODEL_1a8556a5bcd347a38725404263ad8b10",
        "IPY_MODEL_8068b8a3351643dc8e8921d1879f7bde",
        "IPY_MODEL_bcc52d186fd14365a37133779c589332"
       ],
       "layout": "IPY_MODEL_f86d05462bcc462e8b4bc6a8bd0e476f"
      }
     },
     "9baef50cb98f40969c8b46fc75f8d8af": {
      "model_module": "@jupyter-widgets/controls",
      "model_module_version": "1.5.0",
      "model_name": "HTMLModel",
      "state": {
       "layout": "IPY_MODEL_5fec052de9da409c84be6ba923cae01a",
       "style": "IPY_MODEL_18726f323a334da098e7bf58c3dc3371",
       "value": " 1318/1318 [00:00&lt;00:00, 2135.90it/s]"
      }
     },
     "9bb98b79c74f4d19837416ce5f9e0134": {
      "model_module": "@jupyter-widgets/controls",
      "model_module_version": "1.5.0",
      "model_name": "DescriptionStyleModel",
      "state": {
       "description_width": ""
      }
     },
     "9c0285f2a6b743dba4fe4b132f394078": {
      "model_module": "@jupyter-widgets/base",
      "model_module_version": "1.2.0",
      "model_name": "LayoutModel",
      "state": {}
     },
     "9c596eb27f624cf9862969eafacd9fa1": {
      "model_module": "@jupyter-widgets/controls",
      "model_module_version": "1.5.0",
      "model_name": "FloatProgressModel",
      "state": {
       "bar_style": "success",
       "layout": "IPY_MODEL_07283c591b5e42b780ba2e54f6ac2d3c",
       "max": 43,
       "style": "IPY_MODEL_e97c85543ebd4dba8c6039ca5a42ebb5",
       "value": 43
      }
     },
     "9ce930d38f534678b1256c80d10acc38": {
      "model_module": "@jupyter-widgets/base",
      "model_module_version": "1.2.0",
      "model_name": "LayoutModel",
      "state": {}
     },
     "9e0ea092d644419aaa53da4a10bd2264": {
      "model_module": "@jupyter-widgets/controls",
      "model_module_version": "1.5.0",
      "model_name": "FloatProgressModel",
      "state": {
       "bar_style": "success",
       "layout": "IPY_MODEL_18e400d8511a478796869f926ef17b8d",
       "max": 490,
       "style": "IPY_MODEL_79bc6078b94d40f29eee85fbe9358bee",
       "value": 490
      }
     },
     "9e2c380d612b4e019c8ddfb6dc47b9d8": {
      "model_module": "@jupyter-widgets/base",
      "model_module_version": "1.2.0",
      "model_name": "LayoutModel",
      "state": {}
     },
     "9e53d9fa18284ce5859a8acb40a45786": {
      "model_module": "@jupyter-widgets/base",
      "model_module_version": "1.2.0",
      "model_name": "LayoutModel",
      "state": {}
     },
     "9e543cce02a446f28f0981335d50328b": {
      "model_module": "@jupyter-widgets/controls",
      "model_module_version": "1.5.0",
      "model_name": "ProgressStyleModel",
      "state": {
       "description_width": ""
      }
     },
     "9e7e7ac8183c43eda5af3656cca4e3fc": {
      "model_module": "@jupyter-widgets/base",
      "model_module_version": "1.2.0",
      "model_name": "LayoutModel",
      "state": {}
     },
     "9e8af5ff416b4deeaed0d2031139c09d": {
      "model_module": "@jupyter-widgets/base",
      "model_module_version": "1.2.0",
      "model_name": "LayoutModel",
      "state": {}
     },
     "9f2d23a54fc7439ebcca7c99fe29625a": {
      "model_module": "@jupyter-widgets/base",
      "model_module_version": "1.2.0",
      "model_name": "LayoutModel",
      "state": {}
     },
     "9f62b87087b44dd6bfc708b5fde3c285": {
      "model_module": "@jupyter-widgets/controls",
      "model_module_version": "1.5.0",
      "model_name": "ProgressStyleModel",
      "state": {
       "description_width": ""
      }
     },
     "9fae28e3426044d6b348feb34d568d1d": {
      "model_module": "@jupyter-widgets/controls",
      "model_module_version": "1.5.0",
      "model_name": "FloatProgressModel",
      "state": {
       "layout": "IPY_MODEL_d29971baecaf470f9ab425253f5777bf",
       "max": 1,
       "style": "IPY_MODEL_56f43fa1874541679181ab60cb7f6ecc"
      }
     },
     "a0005951939b42298cc08b1ba42e6d5c": {
      "model_module": "@jupyter-widgets/controls",
      "model_module_version": "1.5.0",
      "model_name": "HTMLModel",
      "state": {
       "layout": "IPY_MODEL_88299c45726848f893922e463eebc26e",
       "style": "IPY_MODEL_12cacb4387b045d0a994d13f41779dc9",
       "value": " 10669/10669 [00:04&lt;00:00, 2255.08it/s]"
      }
     },
     "a074450f9a47492ba7de692672107545": {
      "model_module": "@jupyter-widgets/controls",
      "model_module_version": "1.5.0",
      "model_name": "DescriptionStyleModel",
      "state": {
       "description_width": ""
      }
     },
     "a093f18eb1314c81946031ecf08caef9": {
      "model_module": "@jupyter-widgets/base",
      "model_module_version": "1.2.0",
      "model_name": "LayoutModel",
      "state": {}
     },
     "a0acf79c64204b91a182b7b785ecfe3d": {
      "model_module": "@jupyter-widgets/base",
      "model_module_version": "1.2.0",
      "model_name": "LayoutModel",
      "state": {}
     },
     "a0d649faf13e46ab811b5623e89818b0": {
      "model_module": "@jupyter-widgets/controls",
      "model_module_version": "1.5.0",
      "model_name": "DescriptionStyleModel",
      "state": {
       "description_width": ""
      }
     },
     "a13271d8c314494ea5b57339e2b26f5e": {
      "model_module": "@jupyter-widgets/controls",
      "model_module_version": "1.5.0",
      "model_name": "DescriptionStyleModel",
      "state": {
       "description_width": ""
      }
     },
     "a1415fa8f5594af8a51e50089f4a8603": {
      "model_module": "@jupyter-widgets/controls",
      "model_module_version": "1.5.0",
      "model_name": "ProgressStyleModel",
      "state": {
       "description_width": ""
      }
     },
     "a1471b748bd645c0854c6af8faae07e6": {
      "model_module": "@jupyter-widgets/controls",
      "model_module_version": "1.5.0",
      "model_name": "ProgressStyleModel",
      "state": {
       "description_width": ""
      }
     },
     "a153d5dd94a942a4bca689bf408c44f0": {
      "model_module": "@jupyter-widgets/base",
      "model_module_version": "1.2.0",
      "model_name": "LayoutModel",
      "state": {}
     },
     "a1fd0f88299f4a18b3f49d933c8d16b1": {
      "model_module": "@jupyter-widgets/controls",
      "model_module_version": "1.5.0",
      "model_name": "FloatProgressModel",
      "state": {
       "bar_style": "success",
       "layout": "IPY_MODEL_fe7af2fb2ed841c5a5ca4f6a2dca65b1",
       "max": 43,
       "style": "IPY_MODEL_d68a6a2874244416bde89812579b430c",
       "value": 43
      }
     },
     "a20f912274464270b1fecc4ed59f5d65": {
      "model_module": "@jupyter-widgets/base",
      "model_module_version": "1.2.0",
      "model_name": "LayoutModel",
      "state": {}
     },
     "a22d405d79634f8abaa339903e0ab6d8": {
      "model_module": "@jupyter-widgets/controls",
      "model_module_version": "1.5.0",
      "model_name": "HTMLModel",
      "state": {
       "layout": "IPY_MODEL_5129f9c86aa947958dac85c15bd43cf1",
       "style": "IPY_MODEL_88564c43ddb4400d9ea20ce2b7b35790",
       "value": " 422M/422M [00:21&lt;00:00, 22.7MB/s]"
      }
     },
     "a2b9a605f68b4941b7b285ebc1026b0f": {
      "model_module": "@jupyter-widgets/controls",
      "model_module_version": "1.5.0",
      "model_name": "FloatProgressModel",
      "state": {
       "bar_style": "success",
       "layout": "IPY_MODEL_3b34a54cb1204d2da656e11d85a25644",
       "max": 3555,
       "style": "IPY_MODEL_ece8a530ac1d46f4b1bc5838f50709e4",
       "value": 3555
      }
     },
     "a3109b4137a444bd97f8e1bd97b760ca": {
      "model_module": "@jupyter-widgets/base",
      "model_module_version": "1.2.0",
      "model_name": "LayoutModel",
      "state": {}
     },
     "a38a1c7e44a14a7cb47bc4c7a86f95c9": {
      "model_module": "@jupyter-widgets/controls",
      "model_module_version": "1.5.0",
      "model_name": "FloatProgressModel",
      "state": {
       "layout": "IPY_MODEL_9e2c380d612b4e019c8ddfb6dc47b9d8",
       "max": 1,
       "style": "IPY_MODEL_7c7b23aeec164ec18a8fb08a8a33868d"
      }
     },
     "a46b447063f44ae89bf3e23d69b47240": {
      "model_module": "@jupyter-widgets/controls",
      "model_module_version": "1.5.0",
      "model_name": "HTMLModel",
      "state": {
       "layout": "IPY_MODEL_12e8977b16a34d1db668e441ae7ef300",
       "style": "IPY_MODEL_e71476c475a24af88f2b6af54cd379ab",
       "value": "100%"
      }
     },
     "a46f82f51a6d4b17995c765fd58e4e4b": {
      "model_module": "@jupyter-widgets/base",
      "model_module_version": "1.2.0",
      "model_name": "LayoutModel",
      "state": {}
     },
     "a4af3c35acd74e108c67c22093d1af43": {
      "model_module": "@jupyter-widgets/base",
      "model_module_version": "1.2.0",
      "model_name": "LayoutModel",
      "state": {}
     },
     "a59a4306de3948f6a3111433503158d5": {
      "model_module": "@jupyter-widgets/controls",
      "model_module_version": "1.5.0",
      "model_name": "DescriptionStyleModel",
      "state": {
       "description_width": ""
      }
     },
     "a5f1488ab3044d02984c0465b3a8ee4c": {
      "model_module": "@jupyter-widgets/base",
      "model_module_version": "1.2.0",
      "model_name": "LayoutModel",
      "state": {}
     },
     "a63b2cd7811c493c848aac39d5f560d8": {
      "model_module": "@jupyter-widgets/base",
      "model_module_version": "1.2.0",
      "model_name": "LayoutModel",
      "state": {}
     },
     "a654bdf9f3f144c3a34e416f54df37ee": {
      "model_module": "@jupyter-widgets/base",
      "model_module_version": "1.2.0",
      "model_name": "LayoutModel",
      "state": {}
     },
     "a67d2221f37e42b283cba580affa8706": {
      "model_module": "@jupyter-widgets/controls",
      "model_module_version": "1.5.0",
      "model_name": "DescriptionStyleModel",
      "state": {
       "description_width": ""
      }
     },
     "a69eeca57c5e45d9acbf7ac42cec2ea7": {
      "model_module": "@jupyter-widgets/controls",
      "model_module_version": "1.5.0",
      "model_name": "FloatProgressModel",
      "state": {
       "bar_style": "success",
       "layout": "IPY_MODEL_2d722c4fc2284573a1b4b77baad81054",
       "max": 3555,
       "style": "IPY_MODEL_b07df6c2927a45d89ae9a768e1669ff4",
       "value": 3555
      }
     },
     "a70c2105b4e9452cbe841a73177b85d9": {
      "model_module": "@jupyter-widgets/controls",
      "model_module_version": "1.5.0",
      "model_name": "HTMLModel",
      "state": {
       "layout": "IPY_MODEL_dddd430ef58645f28eb87c603305c6e3",
       "style": "IPY_MODEL_604bf2febba5446db324df464caf7b41",
       "value": "100%"
      }
     },
     "a71e6efdca1a4662b45969bf573ba623": {
      "model_module": "@jupyter-widgets/controls",
      "model_module_version": "1.5.0",
      "model_name": "HTMLModel",
      "state": {
       "layout": "IPY_MODEL_71ed223d9856499cbfa8a2d4b2bc6973",
       "style": "IPY_MODEL_a59a4306de3948f6a3111433503158d5",
       "value": "100%"
      }
     },
     "a73dad417be2426d8ed9e2ff90ce8dc9": {
      "model_module": "@jupyter-widgets/controls",
      "model_module_version": "1.5.0",
      "model_name": "DescriptionStyleModel",
      "state": {
       "description_width": ""
      }
     },
     "a74c09cc92a54a3983c3ae4aa099d70c": {
      "model_module": "@jupyter-widgets/controls",
      "model_module_version": "1.5.0",
      "model_name": "HBoxModel",
      "state": {
       "children": [
        "IPY_MODEL_d48c6f1a90784d26bebf235aea0eeca7",
        "IPY_MODEL_499debe39cfd40b480ccc4c65b8e33e4",
        "IPY_MODEL_5274705ba8f74d8dbdeb168b8b5a410e"
       ],
       "layout": "IPY_MODEL_4c557f4ef4c54db889201e36d4346a89"
      }
     },
     "a81f09076ea24d7dbdf139c95a5781ed": {
      "model_module": "@jupyter-widgets/base",
      "model_module_version": "1.2.0",
      "model_name": "LayoutModel",
      "state": {}
     },
     "a8f31ea89e2d47ec9dd3d6b279d74ee8": {
      "model_module": "@jupyter-widgets/controls",
      "model_module_version": "1.5.0",
      "model_name": "HBoxModel",
      "state": {
       "children": [
        "IPY_MODEL_8ba62972c7a149579ae9bf56afb5debe",
        "IPY_MODEL_478284c137c049878914b7f712fe35b2",
        "IPY_MODEL_7a115fcd8c144468aba3b7ac5cdb9238"
       ],
       "layout": "IPY_MODEL_0dec8a7fbe134cc2a660dfd16d7a7c1b"
      }
     },
     "a9ed342105b24354bfbf930007571610": {
      "model_module": "@jupyter-widgets/base",
      "model_module_version": "1.2.0",
      "model_name": "LayoutModel",
      "state": {}
     },
     "a9fec3a8689e48d6aa858fa728b26d7e": {
      "model_module": "@jupyter-widgets/controls",
      "model_module_version": "1.5.0",
      "model_name": "DescriptionStyleModel",
      "state": {
       "description_width": ""
      }
     },
     "aa229abf677d4ca6b296e8e245c6e8ae": {
      "model_module": "@jupyter-widgets/base",
      "model_module_version": "1.2.0",
      "model_name": "LayoutModel",
      "state": {}
     },
     "aa3aeef0f97d4b39a00d77f6ace97eee": {
      "model_module": "@jupyter-widgets/base",
      "model_module_version": "1.2.0",
      "model_name": "LayoutModel",
      "state": {}
     },
     "aa4b821ab5304104bb35ff93619171fb": {
      "model_module": "@jupyter-widgets/base",
      "model_module_version": "1.2.0",
      "model_name": "LayoutModel",
      "state": {}
     },
     "aae599da0c9846509cfda185658e2095": {
      "model_module": "@jupyter-widgets/controls",
      "model_module_version": "1.5.0",
      "model_name": "ProgressStyleModel",
      "state": {
       "description_width": ""
      }
     },
     "ab01399149404f7db8021534c2882256": {
      "model_module": "@jupyter-widgets/base",
      "model_module_version": "1.2.0",
      "model_name": "LayoutModel",
      "state": {}
     },
     "ab0f110a3361403dbd33f842659e2a2f": {
      "model_module": "@jupyter-widgets/base",
      "model_module_version": "1.2.0",
      "model_name": "LayoutModel",
      "state": {}
     },
     "ab25590cc7da4ae1bcf20e8f86d9bc4d": {
      "model_module": "@jupyter-widgets/controls",
      "model_module_version": "1.5.0",
      "model_name": "DescriptionStyleModel",
      "state": {
       "description_width": ""
      }
     },
     "ab2a83e565c34ffab6ff883ab7985e3b": {
      "model_module": "@jupyter-widgets/controls",
      "model_module_version": "1.5.0",
      "model_name": "DescriptionStyleModel",
      "state": {
       "description_width": ""
      }
     },
     "ab5642c9cd7746a08b6f6eafac9e63d1": {
      "model_module": "@jupyter-widgets/controls",
      "model_module_version": "1.5.0",
      "model_name": "FloatProgressModel",
      "state": {
       "bar_style": "success",
       "layout": "IPY_MODEL_fa3a468f8d4b4198bc4b3c2ea6b7d011",
       "max": 112,
       "style": "IPY_MODEL_2b26538f83ce4519b89cb0f4e8fc316b",
       "value": 112
      }
     },
     "aba901ba5c2b466faf26a9fd0a39f476": {
      "model_module": "@jupyter-widgets/base",
      "model_module_version": "1.2.0",
      "model_name": "LayoutModel",
      "state": {}
     },
     "ac7edaf735434cca9e44e995ddd38645": {
      "model_module": "@jupyter-widgets/controls",
      "model_module_version": "1.5.0",
      "model_name": "ProgressStyleModel",
      "state": {
       "description_width": ""
      }
     },
     "acba1b1988ac4672ab18852cc4824423": {
      "model_module": "@jupyter-widgets/base",
      "model_module_version": "1.2.0",
      "model_name": "LayoutModel",
      "state": {}
     },
     "acd071c2eb27403f896b9345313fa4a2": {
      "model_module": "@jupyter-widgets/controls",
      "model_module_version": "1.5.0",
      "model_name": "HTMLModel",
      "state": {
       "layout": "IPY_MODEL_00b087e219e04508ae88786f7da699cc",
       "style": "IPY_MODEL_5a9b995435df44a2ba1703878e951391",
       "value": " 1318/1318 [00:00&lt;00:00, 2129.46it/s]"
      }
     },
     "ace320006c9242859d342d94add1dd5d": {
      "model_module": "@jupyter-widgets/base",
      "model_module_version": "1.2.0",
      "model_name": "LayoutModel",
      "state": {}
     },
     "ad27038df12746c3b892daa20160646e": {
      "model_module": "@jupyter-widgets/controls",
      "model_module_version": "1.5.0",
      "model_name": "HTMLModel",
      "state": {
       "layout": "IPY_MODEL_d725eda1aead44bfaacc9daa2bce7984",
       "style": "IPY_MODEL_bae8ecb45a1e433e9a507bc5a2fc6b7b",
       "value": " 112/112 [00:03&lt;00:00, 28.90it/s]"
      }
     },
     "ad2aeaf6338642f0b800fc32ef771a33": {
      "model_module": "@jupyter-widgets/controls",
      "model_module_version": "1.5.0",
      "model_name": "FloatProgressModel",
      "state": {
       "bar_style": "success",
       "layout": "IPY_MODEL_303729bcd4184fd8b363f14825d33e5a",
       "max": 43,
       "style": "IPY_MODEL_977144014f0447dbbbf18b0d90d126fe",
       "value": 43
      }
     },
     "ad2d7c8947af4d0cb0b1e23f24730e3d": {
      "model_module": "@jupyter-widgets/base",
      "model_module_version": "1.2.0",
      "model_name": "LayoutModel",
      "state": {}
     },
     "ad8014ab684d45a5ad6d899aa0fe8462": {
      "model_module": "@jupyter-widgets/controls",
      "model_module_version": "1.5.0",
      "model_name": "DescriptionStyleModel",
      "state": {
       "description_width": ""
      }
     },
     "ae5c1281f60744c29eda6d6785dbadbf": {
      "model_module": "@jupyter-widgets/controls",
      "model_module_version": "1.5.0",
      "model_name": "DescriptionStyleModel",
      "state": {
       "description_width": ""
      }
     },
     "af30934c7b3749c7a747f48e491aa284": {
      "model_module": "@jupyter-widgets/base",
      "model_module_version": "1.2.0",
      "model_name": "LayoutModel",
      "state": {}
     },
     "af55460a8bb0488bb56f7a0d5c312cb0": {
      "model_module": "@jupyter-widgets/base",
      "model_module_version": "1.2.0",
      "model_name": "LayoutModel",
      "state": {}
     },
     "af668e7fe47a4b8c8d9e4a70a87e5603": {
      "model_module": "@jupyter-widgets/controls",
      "model_module_version": "1.5.0",
      "model_name": "DescriptionStyleModel",
      "state": {
       "description_width": ""
      }
     },
     "af7315e6131c45ab82d5f6e9b364986a": {
      "model_module": "@jupyter-widgets/controls",
      "model_module_version": "1.5.0",
      "model_name": "HBoxModel",
      "state": {
       "children": [
        "IPY_MODEL_d70b609029904c1ab25984a19538cc6e",
        "IPY_MODEL_706ee24264e94fe9ade9e3c78d7cecd0",
        "IPY_MODEL_96baf7713f5948fc9ae6e791678890c8"
       ],
       "layout": "IPY_MODEL_665822f395f943a7a597d2da14f68402"
      }
     },
     "af78cb50f1454cfebb690038f1594dc8": {
      "model_module": "@jupyter-widgets/base",
      "model_module_version": "1.2.0",
      "model_name": "LayoutModel",
      "state": {}
     },
     "afe1a099922b411da18c1cc3edcc6700": {
      "model_module": "@jupyter-widgets/controls",
      "model_module_version": "1.5.0",
      "model_name": "FloatProgressModel",
      "state": {
       "layout": "IPY_MODEL_c6a753ee0e7b4f14b653cdd67a72de1b",
       "max": 1,
       "style": "IPY_MODEL_f3f7278333e2427c9ec84ee745e37ed3"
      }
     },
     "b07df6c2927a45d89ae9a768e1669ff4": {
      "model_module": "@jupyter-widgets/controls",
      "model_module_version": "1.5.0",
      "model_name": "ProgressStyleModel",
      "state": {
       "description_width": ""
      }
     },
     "b0d90dcbef5d4f158544793bcb4b539e": {
      "model_module": "@jupyter-widgets/controls",
      "model_module_version": "1.5.0",
      "model_name": "ProgressStyleModel",
      "state": {
       "description_width": ""
      }
     },
     "b0f475d573ab4746925f4da6ef4bfa97": {
      "model_module": "@jupyter-widgets/controls",
      "model_module_version": "1.5.0",
      "model_name": "FloatProgressModel",
      "state": {
       "layout": "IPY_MODEL_8c3b90d27182465b9a5797e839ef8fdf",
       "max": 1,
       "style": "IPY_MODEL_9017ae9cdc9643388c175adb17521b2c"
      }
     },
     "b1a19b4bab204284aa9eee24de037bab": {
      "model_module": "@jupyter-widgets/controls",
      "model_module_version": "1.5.0",
      "model_name": "DescriptionStyleModel",
      "state": {
       "description_width": ""
      }
     },
     "b2e2c929718647c39c5dc990d7b761d9": {
      "model_module": "@jupyter-widgets/base",
      "model_module_version": "1.2.0",
      "model_name": "LayoutModel",
      "state": {}
     },
     "b2f3f7cdab7d47b98ce2722d8fa4baf7": {
      "model_module": "@jupyter-widgets/controls",
      "model_module_version": "1.5.0",
      "model_name": "ProgressStyleModel",
      "state": {
       "description_width": ""
      }
     },
     "b322617c9ef8415a8a533b3d4fec0acb": {
      "model_module": "@jupyter-widgets/controls",
      "model_module_version": "1.5.0",
      "model_name": "DescriptionStyleModel",
      "state": {
       "description_width": ""
      }
     },
     "b33ba3b1d97a4d90bd3fd78bd1817d05": {
      "model_module": "@jupyter-widgets/controls",
      "model_module_version": "1.5.0",
      "model_name": "HTMLModel",
      "state": {
       "layout": "IPY_MODEL_edf5b378df84484d95a12d46a513c7fb",
       "style": "IPY_MODEL_bf26ff48056c47eabf9edc116e07642c",
       "value": "Epochs 0/2. Running Loss:    0.6447: 100%"
      }
     },
     "b3623c8f5d744c36a2045eee1f62b453": {
      "model_module": "@jupyter-widgets/controls",
      "model_module_version": "1.5.0",
      "model_name": "HBoxModel",
      "state": {
       "children": [
        "IPY_MODEL_89d51301f9f447c195b1b56a74f93350",
        "IPY_MODEL_f2a3726c2e134129b01444d0b683f64f",
        "IPY_MODEL_4feb58de82d64fbbaa46596c0a508d83"
       ],
       "layout": "IPY_MODEL_84fdf0da07594f28959392d82784d91c"
      }
     },
     "b4c97438ebfd4fec8d22070e05178513": {
      "model_module": "@jupyter-widgets/base",
      "model_module_version": "1.2.0",
      "model_name": "LayoutModel",
      "state": {}
     },
     "b4f0f9d13e2941519795f6279e57bd0e": {
      "model_module": "@jupyter-widgets/controls",
      "model_module_version": "1.5.0",
      "model_name": "HBoxModel",
      "state": {
       "children": [
        "IPY_MODEL_23248177d0cd4d7ea8fa39fea4bc7233",
        "IPY_MODEL_9097520fa01e4dbc9d9d2b7243345975",
        "IPY_MODEL_57a3e8f44943422aa783993e1391e8ba"
       ],
       "layout": "IPY_MODEL_d449292d8a7b4ce3b9ef8acad41ad209"
      }
     },
     "b4f251339b934c5b9eb09af959af6eeb": {
      "model_module": "@jupyter-widgets/controls",
      "model_module_version": "1.5.0",
      "model_name": "DescriptionStyleModel",
      "state": {
       "description_width": ""
      }
     },
     "b520daf190864a3aa6ea544cc9786430": {
      "model_module": "@jupyter-widgets/controls",
      "model_module_version": "1.5.0",
      "model_name": "HBoxModel",
      "state": {
       "children": [
        "IPY_MODEL_9665d3e0ddcf492c8ac1b310b45786ed",
        "IPY_MODEL_d72d0797ed09434cb3b857a5c87d66dc",
        "IPY_MODEL_56227489c0974b3f85aa8d6f3c96f74d"
       ],
       "layout": "IPY_MODEL_a654bdf9f3f144c3a34e416f54df37ee"
      }
     },
     "b581fc923c6c42f7b54468be3b5a2ca0": {
      "model_module": "@jupyter-widgets/controls",
      "model_module_version": "1.5.0",
      "model_name": "HTMLModel",
      "state": {
       "layout": "IPY_MODEL_fa2a6e6a9f8f417ab97339cb2305a90b",
       "style": "IPY_MODEL_a0d649faf13e46ab811b5623e89818b0",
       "value": "100%"
      }
     },
     "b6e5cf206704438c8d2b7acb6311c51c": {
      "model_module": "@jupyter-widgets/controls",
      "model_module_version": "1.5.0",
      "model_name": "DescriptionStyleModel",
      "state": {
       "description_width": ""
      }
     },
     "b7196d5e750649deb64371f3fb4e1736": {
      "model_module": "@jupyter-widgets/base",
      "model_module_version": "1.2.0",
      "model_name": "LayoutModel",
      "state": {}
     },
     "b72931a5112348e2b2e71c116fef4b3e": {
      "model_module": "@jupyter-widgets/base",
      "model_module_version": "1.2.0",
      "model_name": "LayoutModel",
      "state": {}
     },
     "b74af494c8bb40679996a449251274e3": {
      "model_module": "@jupyter-widgets/base",
      "model_module_version": "1.2.0",
      "model_name": "LayoutModel",
      "state": {}
     },
     "b77b0965f5cb4f23aba02ade5de6f27e": {
      "model_module": "@jupyter-widgets/base",
      "model_module_version": "1.2.0",
      "model_name": "LayoutModel",
      "state": {}
     },
     "b832f10818354045bd8ab9b5109b4514": {
      "model_module": "@jupyter-widgets/base",
      "model_module_version": "1.2.0",
      "model_name": "LayoutModel",
      "state": {}
     },
     "b8455aa11a624bd79d4eaa55c910612a": {
      "model_module": "@jupyter-widgets/base",
      "model_module_version": "1.2.0",
      "model_name": "LayoutModel",
      "state": {}
     },
     "b8626d89b055404c8642cf8551a15740": {
      "model_module": "@jupyter-widgets/controls",
      "model_module_version": "1.5.0",
      "model_name": "DescriptionStyleModel",
      "state": {
       "description_width": ""
      }
     },
     "b8ae58757d474222be135ecbc736ae51": {
      "model_module": "@jupyter-widgets/base",
      "model_module_version": "1.2.0",
      "model_name": "LayoutModel",
      "state": {}
     },
     "b8b2ba5b1fc240aea3ed58ee55963798": {
      "model_module": "@jupyter-widgets/base",
      "model_module_version": "1.2.0",
      "model_name": "LayoutModel",
      "state": {}
     },
     "b8c465299e65422dae3df8f4f5903186": {
      "model_module": "@jupyter-widgets/controls",
      "model_module_version": "1.5.0",
      "model_name": "DescriptionStyleModel",
      "state": {
       "description_width": ""
      }
     },
     "b937c2e8383140afa0fa91a46d9a34df": {
      "model_module": "@jupyter-widgets/base",
      "model_module_version": "1.2.0",
      "model_name": "LayoutModel",
      "state": {}
     },
     "b98f1c143ade47729c308d42519ae86f": {
      "model_module": "@jupyter-widgets/controls",
      "model_module_version": "1.5.0",
      "model_name": "DescriptionStyleModel",
      "state": {
       "description_width": ""
      }
     },
     "b9dc1f2256714468b7835dc49e0c3dea": {
      "model_module": "@jupyter-widgets/controls",
      "model_module_version": "1.5.0",
      "model_name": "DescriptionStyleModel",
      "state": {
       "description_width": ""
      }
     },
     "ba1e84b8dc294c9ab4adb856ac6d7e98": {
      "model_module": "@jupyter-widgets/controls",
      "model_module_version": "1.5.0",
      "model_name": "HTMLModel",
      "state": {
       "layout": "IPY_MODEL_c3f5ed79cf9e4906a3767a1eea3a5c93",
       "style": "IPY_MODEL_67f6effed2264daf938213315e7eeeb3",
       "value": " 43/43 [00:02&lt;00:00, 28.56it/s]"
      }
     },
     "ba6f2bc500ed46f59964d48960b92e57": {
      "model_module": "@jupyter-widgets/controls",
      "model_module_version": "1.5.0",
      "model_name": "ProgressStyleModel",
      "state": {
       "description_width": ""
      }
     },
     "ba9b826cd6d049ab8829438a120e3237": {
      "model_module": "@jupyter-widgets/controls",
      "model_module_version": "1.5.0",
      "model_name": "FloatProgressModel",
      "state": {
       "layout": "IPY_MODEL_f81f6222153c49888faf57b93f043aaf",
       "max": 1,
       "style": "IPY_MODEL_1037d1933f044fd39bd3e9897328e54f",
       "value": 1
      }
     },
     "bad2d3cb2e774d09932c270c9cc9c2c4": {
      "model_module": "@jupyter-widgets/controls",
      "model_module_version": "1.5.0",
      "model_name": "ProgressStyleModel",
      "state": {
       "description_width": ""
      }
     },
     "bae8ecb45a1e433e9a507bc5a2fc6b7b": {
      "model_module": "@jupyter-widgets/controls",
      "model_module_version": "1.5.0",
      "model_name": "DescriptionStyleModel",
      "state": {
       "description_width": ""
      }
     },
     "baeec4f0bb7748878611cbdbeb96ad1c": {
      "model_module": "@jupyter-widgets/controls",
      "model_module_version": "1.5.0",
      "model_name": "HTMLModel",
      "state": {
       "layout": "IPY_MODEL_946203cfc49e4dd4b397ea67d0925d39",
       "style": "IPY_MODEL_b8626d89b055404c8642cf8551a15740",
       "value": " 43/43 [00:01&lt;00:00, 29.42it/s]"
      }
     },
     "bb103eab6d294f6383e1d162e1059c4e": {
      "model_module": "@jupyter-widgets/controls",
      "model_module_version": "1.5.0",
      "model_name": "DescriptionStyleModel",
      "state": {
       "description_width": ""
      }
     },
     "bb2ff82869ce408f84cb4ba056f10dad": {
      "model_module": "@jupyter-widgets/base",
      "model_module_version": "1.2.0",
      "model_name": "LayoutModel",
      "state": {}
     },
     "bb3406d1e4434ede949a296389fa87f5": {
      "model_module": "@jupyter-widgets/controls",
      "model_module_version": "1.5.0",
      "model_name": "ProgressStyleModel",
      "state": {
       "description_width": ""
      }
     },
     "bb539ccf59034754bd7769c69252ed8e": {
      "model_module": "@jupyter-widgets/controls",
      "model_module_version": "1.5.0",
      "model_name": "HTMLModel",
      "state": {
       "layout": "IPY_MODEL_a20f912274464270b1fecc4ed59f5d65",
       "style": "IPY_MODEL_9145c1c25ae643f8a034d3361c44c60f",
       "value": "100%"
      }
     },
     "bb8557577066449d82d0b77bff6d5221": {
      "model_module": "@jupyter-widgets/controls",
      "model_module_version": "1.5.0",
      "model_name": "VBoxModel",
      "state": {
       "children": [
        "IPY_MODEL_584efd599bd741eeba1806b1990f3e42",
        "IPY_MODEL_d85799262a6d42b9868998e0f3537c3e"
       ],
       "layout": "IPY_MODEL_605fce26e48642188c1a32bb4bc3415d"
      }
     },
     "bb87fd1cd54b4e75a3dc95efa67993d8": {
      "model_module": "@jupyter-widgets/controls",
      "model_module_version": "1.5.0",
      "model_name": "DescriptionStyleModel",
      "state": {
       "description_width": ""
      }
     },
     "bcc52d186fd14365a37133779c589332": {
      "model_module": "@jupyter-widgets/controls",
      "model_module_version": "1.5.0",
      "model_name": "HTMLModel",
      "state": {
       "layout": "IPY_MODEL_3795bf8113f344aca85a8f5beb62f51b",
       "style": "IPY_MODEL_2f1cfe6b53a747f3963caad08b8bbc94",
       "value": " 2/2 [01:44&lt;00:00, 51.48s/it]"
      }
     },
     "bd4ed9a58e9c4568b95dd118b5e92110": {
      "model_module": "@jupyter-widgets/controls",
      "model_module_version": "1.5.0",
      "model_name": "FloatProgressModel",
      "state": {
       "layout": "IPY_MODEL_5a8a623a5dd244cc8de25032f8f9efec",
       "max": 1,
       "style": "IPY_MODEL_1e6fc5b763334eec8e8a9304475432b6"
      }
     },
     "bd8afc1a330a46bda4a39025ae9cf837": {
      "model_module": "@jupyter-widgets/controls",
      "model_module_version": "1.5.0",
      "model_name": "HBoxModel",
      "state": {
       "children": [
        "IPY_MODEL_7506960bae17493894efad8aad8008a8",
        "IPY_MODEL_fb4e724c2f694b02a26fb8b77e81069a",
        "IPY_MODEL_4039f9f4ee7c440389335b3f1de3abdc"
       ],
       "layout": "IPY_MODEL_120efed0f38e44c38eef500c3d2c3eb1"
      }
     },
     "bd99fa888c3740699b25760499d408b1": {
      "model_module": "@jupyter-widgets/controls",
      "model_module_version": "1.5.0",
      "model_name": "DescriptionStyleModel",
      "state": {
       "description_width": ""
      }
     },
     "bda27d3939564c15a648fb2c597687e6": {
      "model_module": "@jupyter-widgets/controls",
      "model_module_version": "1.5.0",
      "model_name": "FloatProgressModel",
      "state": {
       "layout": "IPY_MODEL_0dcbf6babe0b47018d5aa91d7f7f6790",
       "max": 1,
       "style": "IPY_MODEL_0afd8244a5ec4b2a9bb992562d9043a5",
       "value": 1
      }
     },
     "bdad45731ab642b4a550d2dee72efb61": {
      "model_module": "@jupyter-widgets/controls",
      "model_module_version": "1.5.0",
      "model_name": "HTMLModel",
      "state": {
       "layout": "IPY_MODEL_f2405fb9221645ca8f6d442963cfa0b2",
       "style": "IPY_MODEL_b9dc1f2256714468b7835dc49e0c3dea",
       "value": " 1318/1318 [00:00&lt;00:00, 2241.71it/s]"
      }
     },
     "be273ecff2954159abc063ab538575f5": {
      "model_module": "@jupyter-widgets/controls",
      "model_module_version": "1.5.0",
      "model_name": "HBoxModel",
      "state": {
       "children": [
        "IPY_MODEL_4f9fc15a0daf447086a54936a60c166b",
        "IPY_MODEL_26a95051bfe54e1eba6c788f3568b144",
        "IPY_MODEL_445c62e48fe64c578e3210a450b83959"
       ],
       "layout": "IPY_MODEL_993b9437b98a43cd98e571e35abe6ba2"
      }
     },
     "be4f649a040e4c339d152a77c09c84bd": {
      "model_module": "@jupyter-widgets/controls",
      "model_module_version": "1.5.0",
      "model_name": "DescriptionStyleModel",
      "state": {
       "description_width": ""
      }
     },
     "be9dd12d2f1144c5a2dc172a4b933de3": {
      "model_module": "@jupyter-widgets/base",
      "model_module_version": "1.2.0",
      "model_name": "LayoutModel",
      "state": {}
     },
     "bef88aafcf174a7780a88243e84b4e0e": {
      "model_module": "@jupyter-widgets/controls",
      "model_module_version": "1.5.0",
      "model_name": "HTMLModel",
      "state": {
       "layout": "IPY_MODEL_3e76bf0db4004ea099ca0fc2f40e62ec",
       "style": "IPY_MODEL_8296e440d4114e21a5da0dbd433a7c57",
       "value": "100%"
      }
     },
     "bf2560061bb74e959013e8812302a807": {
      "model_module": "@jupyter-widgets/controls",
      "model_module_version": "1.5.0",
      "model_name": "ProgressStyleModel",
      "state": {
       "description_width": ""
      }
     },
     "bf26ff48056c47eabf9edc116e07642c": {
      "model_module": "@jupyter-widgets/controls",
      "model_module_version": "1.5.0",
      "model_name": "DescriptionStyleModel",
      "state": {
       "description_width": ""
      }
     },
     "bf2da52550354fc599ab2fa0693e9d65": {
      "model_module": "@jupyter-widgets/controls",
      "model_module_version": "1.5.0",
      "model_name": "DescriptionStyleModel",
      "state": {
       "description_width": ""
      }
     },
     "bf7db54aff514e23a6ea5746b9cbc94d": {
      "model_module": "@jupyter-widgets/controls",
      "model_module_version": "1.5.0",
      "model_name": "LabelModel",
      "state": {
       "layout": "IPY_MODEL_3321dda7a7d441f8bcd6ed9cd5987eee",
       "style": "IPY_MODEL_e8a6adbac9d54e5ea23e0c1e6f28312a",
       "value": "0.015 MB of 0.015 MB uploaded (0.000 MB deduped)\r"
      }
     },
     "bfb0578c5fea4f55b35eac5bc03b5bb6": {
      "model_module": "@jupyter-widgets/controls",
      "model_module_version": "1.5.0",
      "model_name": "HTMLModel",
      "state": {
       "layout": "IPY_MODEL_dc97f5eceac44508acf5d97a176661af",
       "style": "IPY_MODEL_662cdd9839894730bdc20b07c03c2ca4",
       "value": "Epochs 0/2. Running Loss:    0.4521: 100%"
      }
     },
     "c006d6115814463fba72806b1c23f39e": {
      "model_module": "@jupyter-widgets/controls",
      "model_module_version": "1.5.0",
      "model_name": "DescriptionStyleModel",
      "state": {
       "description_width": ""
      }
     },
     "c08c2401a53347eda611909eaed5ec10": {
      "model_module": "@jupyter-widgets/base",
      "model_module_version": "1.2.0",
      "model_name": "LayoutModel",
      "state": {}
     },
     "c11fe2dd06c04a7ebaf8a84603cfa52f": {
      "model_module": "@jupyter-widgets/controls",
      "model_module_version": "1.5.0",
      "model_name": "FloatProgressModel",
      "state": {
       "bar_style": "success",
       "layout": "IPY_MODEL_088a354c173149b98f7718c10d6a8692",
       "max": 356,
       "style": "IPY_MODEL_aae599da0c9846509cfda185658e2095",
       "value": 356
      }
     },
     "c146ec7eb77542ccae482addbb0fe02b": {
      "model_module": "@jupyter-widgets/controls",
      "model_module_version": "1.5.0",
      "model_name": "HTMLModel",
      "state": {
       "layout": "IPY_MODEL_38f9bcc53bed4273b6e14f64a6da2ebb",
       "style": "IPY_MODEL_ab25590cc7da4ae1bcf20e8f86d9bc4d",
       "value": " 2/2 [01:48&lt;00:00, 53.25s/it]"
      }
     },
     "c1c1be38e1ff40a0abdc45fc7ef2fca3": {
      "model_module": "@jupyter-widgets/controls",
      "model_module_version": "1.5.0",
      "model_name": "FloatProgressModel",
      "state": {
       "bar_style": "success",
       "layout": "IPY_MODEL_0505407894c848088284b5d972884eea",
       "max": 1318,
       "style": "IPY_MODEL_4ec7db803a134ac8b07c4d9d38920a14",
       "value": 1318
      }
     },
     "c1df696bd6cd416f862aea5775d68278": {
      "model_module": "@jupyter-widgets/controls",
      "model_module_version": "1.5.0",
      "model_name": "HTMLModel",
      "state": {
       "layout": "IPY_MODEL_45b81b4d95e647f0892245964ca41372",
       "style": "IPY_MODEL_77f02eff13cf447da8e7065377120dad",
       "value": "100%"
      }
     },
     "c28cfd3b21164c3d9aa4b8c3c0a6e31b": {
      "model_module": "@jupyter-widgets/base",
      "model_module_version": "1.2.0",
      "model_name": "LayoutModel",
      "state": {}
     },
     "c305fdbcca86473db3374ebbdbf6b5b8": {
      "model_module": "@jupyter-widgets/controls",
      "model_module_version": "1.5.0",
      "model_name": "FloatProgressModel",
      "state": {
       "bar_style": "success",
       "layout": "IPY_MODEL_a46f82f51a6d4b17995c765fd58e4e4b",
       "max": 43,
       "style": "IPY_MODEL_d88a1469f39f452caaa37c8097fd6b12",
       "value": 43
      }
     },
     "c394c95851544bd3bc0375255365b605": {
      "model_module": "@jupyter-widgets/base",
      "model_module_version": "1.2.0",
      "model_name": "LayoutModel",
      "state": {}
     },
     "c39c26706c5e414d941ff1eff992f0c2": {
      "model_module": "@jupyter-widgets/controls",
      "model_module_version": "1.5.0",
      "model_name": "FloatProgressModel",
      "state": {
       "bar_style": "success",
       "layout": "IPY_MODEL_3320de1dda4548f1993c331aade3c4f2",
       "max": 1318,
       "style": "IPY_MODEL_0bbec0bbbfb247188d25ae2baefd2248",
       "value": 1318
      }
     },
     "c3b17fde1ae14860b5cac31752403e01": {
      "model_module": "@jupyter-widgets/controls",
      "model_module_version": "1.5.0",
      "model_name": "DescriptionStyleModel",
      "state": {
       "description_width": ""
      }
     },
     "c3d942d3396242918e8939095d29dcef": {
      "model_module": "@jupyter-widgets/base",
      "model_module_version": "1.2.0",
      "model_name": "LayoutModel",
      "state": {}
     },
     "c3ecfbc0f4214eddbb380377a614c39f": {
      "model_module": "@jupyter-widgets/controls",
      "model_module_version": "1.5.0",
      "model_name": "DescriptionStyleModel",
      "state": {
       "description_width": ""
      }
     },
     "c3f5ed79cf9e4906a3767a1eea3a5c93": {
      "model_module": "@jupyter-widgets/base",
      "model_module_version": "1.2.0",
      "model_name": "LayoutModel",
      "state": {}
     },
     "c4024b29240842ceb8cd0ad70e96caf5": {
      "model_module": "@jupyter-widgets/controls",
      "model_module_version": "1.5.0",
      "model_name": "HTMLModel",
      "state": {
       "layout": "IPY_MODEL_6d21d67e777e4d8884a5f86614b9c824",
       "style": "IPY_MODEL_6b30bc8789ca4815bbef6765e7f1d7ce",
       "value": " 43/43 [00:01&lt;00:00, 29.01it/s]"
      }
     },
     "c4093903c541428a8c03d2533dc4549d": {
      "model_module": "@jupyter-widgets/base",
      "model_module_version": "1.2.0",
      "model_name": "LayoutModel",
      "state": {}
     },
     "c4d2944a32bd489caf92e95cb06dda7e": {
      "model_module": "@jupyter-widgets/controls",
      "model_module_version": "1.5.0",
      "model_name": "HTMLModel",
      "state": {
       "layout": "IPY_MODEL_c4093903c541428a8c03d2533dc4549d",
       "style": "IPY_MODEL_fbafd6266d15461c8d11f1c72c8dba2b",
       "value": "Epochs 1/2. Running Loss:    0.2206: 100%"
      }
     },
     "c53bd786857540ccac2427e2f2f97029": {
      "model_module": "@jupyter-widgets/base",
      "model_module_version": "1.2.0",
      "model_name": "LayoutModel",
      "state": {}
     },
     "c570f59fab9b49b887da939831ee8a5f": {
      "model_module": "@jupyter-widgets/controls",
      "model_module_version": "1.5.0",
      "model_name": "FloatProgressModel",
      "state": {
       "bar_style": "success",
       "layout": "IPY_MODEL_8ebf93dd1a53422aad6637fbf541e349",
       "max": 59,
       "style": "IPY_MODEL_a1415fa8f5594af8a51e50089f4a8603",
       "value": 59
      }
     },
     "c609d1b2d67643a3b146ffe159bd50b6": {
      "model_module": "@jupyter-widgets/controls",
      "model_module_version": "1.5.0",
      "model_name": "HTMLModel",
      "state": {
       "layout": "IPY_MODEL_af30934c7b3749c7a747f48e491aa284",
       "style": "IPY_MODEL_661bb1110c9a40c388840f6433f0e2b2",
       "value": " 1318/1318 [00:00&lt;00:00, 2176.56it/s]"
      }
     },
     "c611f8189e2747a7b1c6ca7f9b5aaaf8": {
      "model_module": "@jupyter-widgets/controls",
      "model_module_version": "1.5.0",
      "model_name": "FloatProgressModel",
      "state": {
       "bar_style": "success",
       "layout": "IPY_MODEL_8cd6ab0c242a4cf09191cc044306b404",
       "max": 1318,
       "style": "IPY_MODEL_6b0937696b034ab695f75a180fc77e6c",
       "value": 1318
      }
     },
     "c638a9fe2dd04fc7bb46cb95e6758f58": {
      "model_module": "@jupyter-widgets/controls",
      "model_module_version": "1.5.0",
      "model_name": "HTMLModel",
      "state": {
       "layout": "IPY_MODEL_75aff17a35e94cbbbb0259db83d31a03",
       "style": "IPY_MODEL_a73dad417be2426d8ed9e2ff90ce8dc9",
       "value": " 1318/1318 [00:00&lt;00:00, 2241.57it/s]"
      }
     },
     "c6a356fa215c4c6596cb3ce6a4fbaf5e": {
      "model_module": "@jupyter-widgets/controls",
      "model_module_version": "1.5.0",
      "model_name": "FloatProgressModel",
      "state": {
       "bar_style": "success",
       "layout": "IPY_MODEL_e78982fe90c74cae953cb44feba58827",
       "max": 112,
       "style": "IPY_MODEL_75a36a25f47442098fb08177fc558410",
       "value": 112
      }
     },
     "c6a753ee0e7b4f14b653cdd67a72de1b": {
      "model_module": "@jupyter-widgets/base",
      "model_module_version": "1.2.0",
      "model_name": "LayoutModel",
      "state": {}
     },
     "c6b48a0c843a48139281e92803368529": {
      "model_module": "@jupyter-widgets/base",
      "model_module_version": "1.2.0",
      "model_name": "LayoutModel",
      "state": {}
     },
     "c7cd82bf2134416db1348922e3d74adc": {
      "model_module": "@jupyter-widgets/controls",
      "model_module_version": "1.5.0",
      "model_name": "ProgressStyleModel",
      "state": {
       "description_width": ""
      }
     },
     "c7f0a3f57bc4475bbb8aae29a1723416": {
      "model_module": "@jupyter-widgets/controls",
      "model_module_version": "1.5.0",
      "model_name": "FloatProgressModel",
      "state": {
       "bar_style": "success",
       "layout": "IPY_MODEL_ab0f110a3361403dbd33f842659e2a2f",
       "max": 1318,
       "style": "IPY_MODEL_69437d89fd004d75b540b672b4860e35",
       "value": 1318
      }
     },
     "c7f207405a0c4f3396bfab3856f09a97": {
      "model_module": "@jupyter-widgets/base",
      "model_module_version": "1.2.0",
      "model_name": "LayoutModel",
      "state": {}
     },
     "c884fb498d614657822ac95cef2d959b": {
      "model_module": "@jupyter-widgets/controls",
      "model_module_version": "1.5.0",
      "model_name": "HBoxModel",
      "state": {
       "children": [
        "IPY_MODEL_16a3f889060149f485e66571f39434fd",
        "IPY_MODEL_3973453e40c34fa3ab4f8fabd35a6326",
        "IPY_MODEL_2a16fd8f82de42c68de9d49198ad5e09"
       ],
       "layout": "IPY_MODEL_ef5d2b6cb7184de1a89004ee1654b9db"
      }
     },
     "c8f0733688f04624a0ecda387495effc": {
      "model_module": "@jupyter-widgets/controls",
      "model_module_version": "1.5.0",
      "model_name": "HBoxModel",
      "state": {
       "children": [
        "IPY_MODEL_bb539ccf59034754bd7769c69252ed8e",
        "IPY_MODEL_3b0d7e760d2d4ece8c1dcae052528be6",
        "IPY_MODEL_9891becc41f9418bb99b55245c2ff8b5"
       ],
       "layout": "IPY_MODEL_44d31fad7eb04ef182f82681b7f0ec07"
      }
     },
     "c9b964b114424a1f90a0e3542c0511b9": {
      "model_module": "@jupyter-widgets/base",
      "model_module_version": "1.2.0",
      "model_name": "LayoutModel",
      "state": {}
     },
     "c9ce4b26cecd40819429ed4f7110fbf7": {
      "model_module": "@jupyter-widgets/controls",
      "model_module_version": "1.5.0",
      "model_name": "HBoxModel",
      "state": {
       "children": [
        "IPY_MODEL_4507a1da689e466bac6c9d132c97750e",
        "IPY_MODEL_202878472f85472280decb3ab31e944e",
        "IPY_MODEL_668fb5fd3843409abec067df8e5d80f7"
       ],
       "layout": "IPY_MODEL_4c0b8d10496d477ab9a94aa6e393aa2a"
      }
     },
     "ca19b4973b404e35b9d27a47a1b78401": {
      "model_module": "@jupyter-widgets/controls",
      "model_module_version": "1.5.0",
      "model_name": "DescriptionStyleModel",
      "state": {
       "description_width": ""
      }
     },
     "ca1baf7fd5df41da95747f95da7568ea": {
      "model_module": "@jupyter-widgets/controls",
      "model_module_version": "1.5.0",
      "model_name": "DescriptionStyleModel",
      "state": {
       "description_width": ""
      }
     },
     "ca4dc429b72844c5b6023780d625f4b4": {
      "model_module": "@jupyter-widgets/base",
      "model_module_version": "1.2.0",
      "model_name": "LayoutModel",
      "state": {}
     },
     "cb29c7e546d24157b50b93092732ef48": {
      "model_module": "@jupyter-widgets/controls",
      "model_module_version": "1.5.0",
      "model_name": "DescriptionStyleModel",
      "state": {
       "description_width": ""
      }
     },
     "cba7bc48a97c42a1825ef62ad2952b5a": {
      "model_module": "@jupyter-widgets/base",
      "model_module_version": "1.2.0",
      "model_name": "LayoutModel",
      "state": {}
     },
     "cc6d6137f602424490b077ee5842c141": {
      "model_module": "@jupyter-widgets/controls",
      "model_module_version": "1.5.0",
      "model_name": "HTMLModel",
      "state": {
       "layout": "IPY_MODEL_5221eab2d72c4039a32e65206d8eedbb",
       "style": "IPY_MODEL_299322db915d45c49ba28f8e016c6fc4",
       "value": " 356/356 [00:43&lt;00:00,  9.48it/s]"
      }
     },
     "cd0d775a616e47df8bdd0751cbfcb1d0": {
      "model_module": "@jupyter-widgets/controls",
      "model_module_version": "1.5.0",
      "model_name": "DescriptionStyleModel",
      "state": {
       "description_width": ""
      }
     },
     "cd51e544e52f4f4db2500f65fa261fc7": {
      "model_module": "@jupyter-widgets/controls",
      "model_module_version": "1.5.0",
      "model_name": "ProgressStyleModel",
      "state": {
       "description_width": ""
      }
     },
     "cde406e0c7b143cbaea441b3f305d87e": {
      "model_module": "@jupyter-widgets/controls",
      "model_module_version": "1.5.0",
      "model_name": "HTMLModel",
      "state": {
       "layout": "IPY_MODEL_8d88b6d6dc844879bfffbc9db7ea502d",
       "style": "IPY_MODEL_decb17b9268a4b70b27b372f6dff053a",
       "value": "100%"
      }
     },
     "cdf5bfc29cb347c0bbb058f8b87b1f47": {
      "model_module": "@jupyter-widgets/controls",
      "model_module_version": "1.5.0",
      "model_name": "DescriptionStyleModel",
      "state": {
       "description_width": ""
      }
     },
     "ce6a9fe045ac42cb9315daab6646d8b0": {
      "model_module": "@jupyter-widgets/base",
      "model_module_version": "1.2.0",
      "model_name": "LayoutModel",
      "state": {}
     },
     "ce9b68042bd0430ebb39d90d1dd44271": {
      "model_module": "@jupyter-widgets/controls",
      "model_module_version": "1.5.0",
      "model_name": "HBoxModel",
      "state": {
       "children": [
        "IPY_MODEL_6ca03b4436454616b00a66a7dedd7248",
        "IPY_MODEL_a2b9a605f68b4941b7b285ebc1026b0f",
        "IPY_MODEL_4dbf6e1a6b384c9098033dacae5af482"
       ],
       "layout": "IPY_MODEL_2d6fbb5991fd4c1c88d746f29745028b"
      }
     },
     "cef2499c8ab24e12b4abc18c7bf142c3": {
      "model_module": "@jupyter-widgets/controls",
      "model_module_version": "1.5.0",
      "model_name": "DescriptionStyleModel",
      "state": {
       "description_width": ""
      }
     },
     "cf6227bff1de4bb3bf8ff241ef90e534": {
      "model_module": "@jupyter-widgets/base",
      "model_module_version": "1.2.0",
      "model_name": "LayoutModel",
      "state": {}
     },
     "d07308b510974b1c87978f89a30d6785": {
      "model_module": "@jupyter-widgets/controls",
      "model_module_version": "1.5.0",
      "model_name": "ProgressStyleModel",
      "state": {
       "description_width": ""
      }
     },
     "d0b268d7e43c42338d60c954d6f34c0e": {
      "model_module": "@jupyter-widgets/base",
      "model_module_version": "1.2.0",
      "model_name": "LayoutModel",
      "state": {}
     },
     "d0be2edef3e04bd5bbc65473434c3257": {
      "model_module": "@jupyter-widgets/base",
      "model_module_version": "1.2.0",
      "model_name": "LayoutModel",
      "state": {}
     },
     "d148035340fe40659cc003c18b6f8cfa": {
      "model_module": "@jupyter-widgets/controls",
      "model_module_version": "1.5.0",
      "model_name": "ProgressStyleModel",
      "state": {
       "description_width": ""
      }
     },
     "d24b28c7d0204b778b46189895645bd3": {
      "model_module": "@jupyter-widgets/controls",
      "model_module_version": "1.5.0",
      "model_name": "ProgressStyleModel",
      "state": {
       "description_width": ""
      }
     },
     "d29971baecaf470f9ab425253f5777bf": {
      "model_module": "@jupyter-widgets/base",
      "model_module_version": "1.2.0",
      "model_name": "LayoutModel",
      "state": {}
     },
     "d307ac45ddfb45b4b78f248702bebbda": {
      "model_module": "@jupyter-widgets/controls",
      "model_module_version": "1.5.0",
      "model_name": "FloatProgressModel",
      "state": {
       "bar_style": "success",
       "layout": "IPY_MODEL_df6c53ee04244d548302a7b5bee02350",
       "max": 3555,
       "style": "IPY_MODEL_2f95af2e56994837a8a9ca34ba00f6be",
       "value": 3555
      }
     },
     "d33bfcd1d3a84f2b83d67da3a619dc54": {
      "model_module": "@jupyter-widgets/controls",
      "model_module_version": "1.5.0",
      "model_name": "DescriptionStyleModel",
      "state": {
       "description_width": ""
      }
     },
     "d37c8f9d7d5b416b849e5484bebbb89e": {
      "model_module": "@jupyter-widgets/controls",
      "model_module_version": "1.5.0",
      "model_name": "ProgressStyleModel",
      "state": {
       "description_width": ""
      }
     },
     "d3a004cec5b84c7cbefdb913c67977a4": {
      "model_module": "@jupyter-widgets/controls",
      "model_module_version": "1.5.0",
      "model_name": "FloatProgressModel",
      "state": {
       "bar_style": "success",
       "layout": "IPY_MODEL_6b7bf526e5c14dc8a632edd70bc9241a",
       "max": 2,
       "style": "IPY_MODEL_738be37b706c41b9819f2d5437e9600b",
       "value": 2
      }
     },
     "d3c9c390f4ee4dcda9a03b6267561521": {
      "model_module": "@jupyter-widgets/base",
      "model_module_version": "1.2.0",
      "model_name": "LayoutModel",
      "state": {}
     },
     "d40e797d7959448d92719ac8d2b11f6b": {
      "model_module": "@jupyter-widgets/controls",
      "model_module_version": "1.5.0",
      "model_name": "VBoxModel",
      "state": {
       "children": [
        "IPY_MODEL_0ef920adf79e41dcbbbdc4da7aba8c6b",
        "IPY_MODEL_9854261da3874a4eb7716dec0c87abcb"
       ],
       "layout": "IPY_MODEL_3f9d0055cf99485ba07d9074315bcb94"
      }
     },
     "d414e80d341f4f888f72651c5c734988": {
      "model_module": "@jupyter-widgets/base",
      "model_module_version": "1.2.0",
      "model_name": "LayoutModel",
      "state": {}
     },
     "d449292d8a7b4ce3b9ef8acad41ad209": {
      "model_module": "@jupyter-widgets/base",
      "model_module_version": "1.2.0",
      "model_name": "LayoutModel",
      "state": {}
     },
     "d46ebbec74014a3c8b4bada1a432b098": {
      "model_module": "@jupyter-widgets/controls",
      "model_module_version": "1.5.0",
      "model_name": "FloatProgressModel",
      "state": {
       "bar_style": "success",
       "layout": "IPY_MODEL_476a11c03a47434e952da0fa52673d1a",
       "max": 1318,
       "style": "IPY_MODEL_dfdb5a765dda405e8f3df564653f1df2",
       "value": 1318
      }
     },
     "d48c6f1a90784d26bebf235aea0eeca7": {
      "model_module": "@jupyter-widgets/controls",
      "model_module_version": "1.5.0",
      "model_name": "HTMLModel",
      "state": {
       "layout": "IPY_MODEL_91bd1346070d48c4873dd36c39b3f6ad",
       "style": "IPY_MODEL_b322617c9ef8415a8a533b3d4fec0acb",
       "value": "100%"
      }
     },
     "d4b1e3b25e224f9c80f0408273a08bf7": {
      "model_module": "@jupyter-widgets/controls",
      "model_module_version": "1.5.0",
      "model_name": "HTMLModel",
      "state": {
       "layout": "IPY_MODEL_1c48ca445a3248c08ee1b37414c272b7",
       "style": "IPY_MODEL_ca19b4973b404e35b9d27a47a1b78401",
       "value": " 345/345 [00:42&lt;00:00,  9.32it/s]"
      }
     },
     "d5051da495094144a6b673d44e871177": {
      "model_module": "@jupyter-widgets/controls",
      "model_module_version": "1.5.0",
      "model_name": "HTMLModel",
      "state": {
       "layout": "IPY_MODEL_2c63c0999f7544ac9b9d8d6ceffac522",
       "style": "IPY_MODEL_3efb231b929c4a4db66316d36ea16153",
       "value": " 43/43 [00:02&lt;00:00, 28.48it/s]"
      }
     },
     "d53113fafc69493082e0691c10dd21bb": {
      "model_module": "@jupyter-widgets/controls",
      "model_module_version": "1.5.0",
      "model_name": "DescriptionStyleModel",
      "state": {
       "description_width": ""
      }
     },
     "d5ac519ee1d04a7a8be2fa04a2aa7458": {
      "model_module": "@jupyter-widgets/controls",
      "model_module_version": "1.5.0",
      "model_name": "FloatProgressModel",
      "state": {
       "bar_style": "success",
       "layout": "IPY_MODEL_af78cb50f1454cfebb690038f1594dc8",
       "max": 43,
       "style": "IPY_MODEL_7057cefc7a1947bd95c384887c22ea70",
       "value": 43
      }
     },
     "d5ac8facfc8b4a8a9a70e5453147b006": {
      "model_module": "@jupyter-widgets/controls",
      "model_module_version": "1.5.0",
      "model_name": "HBoxModel",
      "state": {
       "children": [
        "IPY_MODEL_56de99c123af4c3796f4d8203ea2122b",
        "IPY_MODEL_c611f8189e2747a7b1c6ca7f9b5aaaf8",
        "IPY_MODEL_86e8363172a041fe933ef9cdd92d0d46"
       ],
       "layout": "IPY_MODEL_1496f5da1c094b8a96c7544ebceb3f18"
      }
     },
     "d5c56814f0a840c087ee85ec091dd206": {
      "model_module": "@jupyter-widgets/controls",
      "model_module_version": "1.5.0",
      "model_name": "FloatProgressModel",
      "state": {
       "bar_style": "success",
       "layout": "IPY_MODEL_daa1b624bc9c4204bd46f644200cb764",
       "max": 10669,
       "style": "IPY_MODEL_dbed7c113d024cb589f2b6b254826122",
       "value": 10669
      }
     },
     "d5d6265c567240108018392aad151572": {
      "model_module": "@jupyter-widgets/base",
      "model_module_version": "1.2.0",
      "model_name": "LayoutModel",
      "state": {}
     },
     "d67fa10aa0b9459381812012c362e351": {
      "model_module": "@jupyter-widgets/controls",
      "model_module_version": "1.5.0",
      "model_name": "FloatProgressModel",
      "state": {
       "layout": "IPY_MODEL_74d36c6f785c49f3aad57a13bc8e653c",
       "max": 1,
       "style": "IPY_MODEL_9509d501699241db997741dbc2dcd5ed"
      }
     },
     "d68a6a2874244416bde89812579b430c": {
      "model_module": "@jupyter-widgets/controls",
      "model_module_version": "1.5.0",
      "model_name": "ProgressStyleModel",
      "state": {
       "description_width": ""
      }
     },
     "d70b609029904c1ab25984a19538cc6e": {
      "model_module": "@jupyter-widgets/controls",
      "model_module_version": "1.5.0",
      "model_name": "HTMLModel",
      "state": {
       "layout": "IPY_MODEL_36189e4939334e82b2ad76e54d1e4b3c",
       "style": "IPY_MODEL_8d08354460c646a7aeec2cdc76bc5a00",
       "value": "Epochs 0/2. Running Loss:    0.5616: 100%"
      }
     },
     "d725eda1aead44bfaacc9daa2bce7984": {
      "model_module": "@jupyter-widgets/base",
      "model_module_version": "1.2.0",
      "model_name": "LayoutModel",
      "state": {}
     },
     "d72d0797ed09434cb3b857a5c87d66dc": {
      "model_module": "@jupyter-widgets/controls",
      "model_module_version": "1.5.0",
      "model_name": "FloatProgressModel",
      "state": {
       "bar_style": "success",
       "layout": "IPY_MODEL_ad2d7c8947af4d0cb0b1e23f24730e3d",
       "max": 356,
       "style": "IPY_MODEL_44e73d5e23284ecab5fcbdcf2bda6115",
       "value": 356
      }
     },
     "d773423758fa4e7b90b6a9acca61532c": {
      "model_module": "@jupyter-widgets/base",
      "model_module_version": "1.2.0",
      "model_name": "LayoutModel",
      "state": {}
     },
     "d77a1b2dffec4a71b040ed275a97233a": {
      "model_module": "@jupyter-widgets/base",
      "model_module_version": "1.2.0",
      "model_name": "LayoutModel",
      "state": {}
     },
     "d85799262a6d42b9868998e0f3537c3e": {
      "model_module": "@jupyter-widgets/controls",
      "model_module_version": "1.5.0",
      "model_name": "FloatProgressModel",
      "state": {
       "layout": "IPY_MODEL_8aa135475bb54550a91b4dc2ef1235fc",
       "max": 1,
       "style": "IPY_MODEL_dfb3ce75045b4de8a504d13d7b2cc0dd",
       "value": 1
      }
     },
     "d88a1469f39f452caaa37c8097fd6b12": {
      "model_module": "@jupyter-widgets/controls",
      "model_module_version": "1.5.0",
      "model_name": "ProgressStyleModel",
      "state": {
       "description_width": ""
      }
     },
     "d8fea768bb3748f7b66173e9883adb3c": {
      "model_module": "@jupyter-widgets/controls",
      "model_module_version": "1.5.0",
      "model_name": "HBoxModel",
      "state": {
       "children": [
        "IPY_MODEL_e8d66c82a2404c0a93f3ee3afd46572d",
        "IPY_MODEL_c570f59fab9b49b887da939831ee8a5f",
        "IPY_MODEL_f16eaf23bbf4474e919a1b4cb29c8e58"
       ],
       "layout": "IPY_MODEL_6c992bd81646435a835010ee475ebfe5"
      }
     },
     "d940cc12d0d44a3492e0cd4c5de72392": {
      "model_module": "@jupyter-widgets/controls",
      "model_module_version": "1.5.0",
      "model_name": "HTMLModel",
      "state": {
       "layout": "IPY_MODEL_8e1b64c300e3470bb820c2339c48ec16",
       "style": "IPY_MODEL_45880f538d0045efadd753f049e90736",
       "value": " 43/43 [00:02&lt;00:00, 28.73it/s]"
      }
     },
     "d9933512ad7e415181cb77524f7752cf": {
      "model_module": "@jupyter-widgets/base",
      "model_module_version": "1.2.0",
      "model_name": "LayoutModel",
      "state": {}
     },
     "da13e8057b6a42c5988097cd315d1bbe": {
      "model_module": "@jupyter-widgets/controls",
      "model_module_version": "1.5.0",
      "model_name": "ProgressStyleModel",
      "state": {
       "description_width": ""
      }
     },
     "da6a9ce57bc2460a817dfc96bbf4c31c": {
      "model_module": "@jupyter-widgets/controls",
      "model_module_version": "1.5.0",
      "model_name": "DescriptionStyleModel",
      "state": {
       "description_width": ""
      }
     },
     "daa1b624bc9c4204bd46f644200cb764": {
      "model_module": "@jupyter-widgets/base",
      "model_module_version": "1.2.0",
      "model_name": "LayoutModel",
      "state": {}
     },
     "db23e11e0c67478d8f1f2b7cd721d153": {
      "model_module": "@jupyter-widgets/base",
      "model_module_version": "1.2.0",
      "model_name": "LayoutModel",
      "state": {}
     },
     "db2b5763a5884011ae76ce630e902858": {
      "model_module": "@jupyter-widgets/base",
      "model_module_version": "1.2.0",
      "model_name": "LayoutModel",
      "state": {}
     },
     "db75d10a9ddd4db6a28fcd5ce937bf12": {
      "model_module": "@jupyter-widgets/controls",
      "model_module_version": "1.5.0",
      "model_name": "HTMLModel",
      "state": {
       "layout": "IPY_MODEL_c53bd786857540ccac2427e2f2f97029",
       "style": "IPY_MODEL_93746172268241bfabfc0441a286a73e",
       "value": " 43/43 [00:01&lt;00:00, 28.98it/s]"
      }
     },
     "dbed7c113d024cb589f2b6b254826122": {
      "model_module": "@jupyter-widgets/controls",
      "model_module_version": "1.5.0",
      "model_name": "ProgressStyleModel",
      "state": {
       "description_width": ""
      }
     },
     "dbfdf1f57f2243a7a4edb99f25999f45": {
      "model_module": "@jupyter-widgets/controls",
      "model_module_version": "1.5.0",
      "model_name": "HTMLModel",
      "state": {
       "layout": "IPY_MODEL_939d37e5013d4911a14af4e327cf7aab",
       "style": "IPY_MODEL_a9fec3a8689e48d6aa858fa728b26d7e",
       "value": " 43/43 [00:02&lt;00:00, 28.41it/s]"
      }
     },
     "dc97f5eceac44508acf5d97a176661af": {
      "model_module": "@jupyter-widgets/base",
      "model_module_version": "1.2.0",
      "model_name": "LayoutModel",
      "state": {}
     },
     "dd86cf4c8da446f5a2b3ac8246a1cf4a": {
      "model_module": "@jupyter-widgets/controls",
      "model_module_version": "1.5.0",
      "model_name": "HTMLModel",
      "state": {
       "layout": "IPY_MODEL_f998da36be5646878db69dce9c37a8b2",
       "style": "IPY_MODEL_f3204a7474694f7eaea3753eca201aeb",
       "value": "Epochs 1/2. Running Loss:    4.3118: 100%"
      }
     },
     "dd8ab2df686b43e6ac8881e9edd9490c": {
      "model_module": "@jupyter-widgets/controls",
      "model_module_version": "1.5.0",
      "model_name": "FloatProgressModel",
      "state": {
       "layout": "IPY_MODEL_36eaf217fd994d89acada240dad1f551",
       "max": 1,
       "style": "IPY_MODEL_4e5f9eb444dd4d4ba319f661e0f866b9"
      }
     },
     "ddb071be756943a38dc5645bf7eea967": {
      "model_module": "@jupyter-widgets/controls",
      "model_module_version": "1.5.0",
      "model_name": "HBoxModel",
      "state": {
       "children": [
        "IPY_MODEL_46d9a8ff45234149943cffd106abb724",
        "IPY_MODEL_c7f0a3f57bc4475bbb8aae29a1723416",
        "IPY_MODEL_c638a9fe2dd04fc7bb46cb95e6758f58"
       ],
       "layout": "IPY_MODEL_72a746691f1740ad982ad9228d9f73a9"
      }
     },
     "dddd430ef58645f28eb87c603305c6e3": {
      "model_module": "@jupyter-widgets/base",
      "model_module_version": "1.2.0",
      "model_name": "LayoutModel",
      "state": {}
     },
     "dde2ccda1a9f499bb81dacd725d3df34": {
      "model_module": "@jupyter-widgets/controls",
      "model_module_version": "1.5.0",
      "model_name": "HTMLModel",
      "state": {
       "layout": "IPY_MODEL_94e8170c8cd44d3284692fc539982e02",
       "style": "IPY_MODEL_eecd583d93a54c0289b83bc9b1ee6269",
       "value": " 43/43 [00:02&lt;00:00, 28.62it/s]"
      }
     },
     "de630c6acb1944e6a78e2f8cfa8aae5c": {
      "model_module": "@jupyter-widgets/controls",
      "model_module_version": "1.5.0",
      "model_name": "HTMLModel",
      "state": {
       "layout": "IPY_MODEL_acba1b1988ac4672ab18852cc4824423",
       "style": "IPY_MODEL_12dc6f077b4b4706b66c547705e9fadf",
       "value": " 112/112 [00:03&lt;00:00, 29.52it/s]"
      }
     },
     "de7931fd931f417491b2dc05d461d82d": {
      "model_module": "@jupyter-widgets/controls",
      "model_module_version": "1.5.0",
      "model_name": "ProgressStyleModel",
      "state": {
       "description_width": ""
      }
     },
     "decb17b9268a4b70b27b372f6dff053a": {
      "model_module": "@jupyter-widgets/controls",
      "model_module_version": "1.5.0",
      "model_name": "DescriptionStyleModel",
      "state": {
       "description_width": ""
      }
     },
     "df6c53ee04244d548302a7b5bee02350": {
      "model_module": "@jupyter-widgets/base",
      "model_module_version": "1.2.0",
      "model_name": "LayoutModel",
      "state": {}
     },
     "df78193c31f34aea9233eee94ae77ab7": {
      "model_module": "@jupyter-widgets/base",
      "model_module_version": "1.2.0",
      "model_name": "LayoutModel",
      "state": {}
     },
     "dfb05c14dcbf40b883d40a333ee47be9": {
      "model_module": "@jupyter-widgets/controls",
      "model_module_version": "1.5.0",
      "model_name": "HTMLModel",
      "state": {
       "layout": "IPY_MODEL_f2ce3762ca4d4fc8acab2adeeb680bb6",
       "style": "IPY_MODEL_9bb98b79c74f4d19837416ce5f9e0134",
       "value": "Downloading: 100%"
      }
     },
     "dfb3ce75045b4de8a504d13d7b2cc0dd": {
      "model_module": "@jupyter-widgets/controls",
      "model_module_version": "1.5.0",
      "model_name": "ProgressStyleModel",
      "state": {
       "description_width": ""
      }
     },
     "dfdb5a765dda405e8f3df564653f1df2": {
      "model_module": "@jupyter-widgets/controls",
      "model_module_version": "1.5.0",
      "model_name": "ProgressStyleModel",
      "state": {
       "description_width": ""
      }
     },
     "e0171014765743e79596a8c762054c02": {
      "model_module": "@jupyter-widgets/controls",
      "model_module_version": "1.5.0",
      "model_name": "DescriptionStyleModel",
      "state": {
       "description_width": ""
      }
     },
     "e017a7e473f14894a6043d3f3ee302fb": {
      "model_module": "@jupyter-widgets/controls",
      "model_module_version": "1.5.0",
      "model_name": "HTMLModel",
      "state": {
       "layout": "IPY_MODEL_11b17f0186e74f569094faea60324053",
       "style": "IPY_MODEL_4d7aa1dcde704f32a6a5f1f1134c1510",
       "value": "100%"
      }
     },
     "e061b06637eb4e1c84a9eb6256c432e8": {
      "model_module": "@jupyter-widgets/controls",
      "model_module_version": "1.5.0",
      "model_name": "FloatProgressModel",
      "state": {
       "bar_style": "success",
       "layout": "IPY_MODEL_8ec04d0e5709432aacf9f1caddf3cf21",
       "max": 3555,
       "style": "IPY_MODEL_a1471b748bd645c0854c6af8faae07e6",
       "value": 3555
      }
     },
     "e0e1ae9d241942fc86d19e5d83a04c38": {
      "model_module": "@jupyter-widgets/base",
      "model_module_version": "1.2.0",
      "model_name": "LayoutModel",
      "state": {}
     },
     "e13fbb01a21e4691a43588d9c5bde838": {
      "model_module": "@jupyter-widgets/base",
      "model_module_version": "1.2.0",
      "model_name": "LayoutModel",
      "state": {}
     },
     "e16f43853d204854b84677676a72e696": {
      "model_module": "@jupyter-widgets/controls",
      "model_module_version": "1.5.0",
      "model_name": "HTMLModel",
      "state": {
       "layout": "IPY_MODEL_b832f10818354045bd8ab9b5109b4514",
       "style": "IPY_MODEL_b8c465299e65422dae3df8f4f5903186",
       "value": "100%"
      }
     },
     "e17a32d29e8f410285473510b8857623": {
      "model_module": "@jupyter-widgets/controls",
      "model_module_version": "1.5.0",
      "model_name": "HBoxModel",
      "state": {
       "children": [
        "IPY_MODEL_0a37d8b1e19a49cfb0e9840425399b10",
        "IPY_MODEL_d3a004cec5b84c7cbefdb913c67977a4",
        "IPY_MODEL_c146ec7eb77542ccae482addbb0fe02b"
       ],
       "layout": "IPY_MODEL_7bc4e2b74c594b309adf3164a8122b80"
      }
     },
     "e1e2353d27ee450e8f0f9bb741acc442": {
      "model_module": "@jupyter-widgets/controls",
      "model_module_version": "1.5.0",
      "model_name": "HBoxModel",
      "state": {
       "children": [
        "IPY_MODEL_8f4cba348b8b4d88bb1399a61374f2c0",
        "IPY_MODEL_8c72b59a5ecf4f12a3956dd4b15a95ee",
        "IPY_MODEL_de630c6acb1944e6a78e2f8cfa8aae5c"
       ],
       "layout": "IPY_MODEL_febf38643c5e4f2c9ee052e761d72a25"
      }
     },
     "e210bf18c77e489dbdb6a6d8386e9505": {
      "model_module": "@jupyter-widgets/base",
      "model_module_version": "1.2.0",
      "model_name": "LayoutModel",
      "state": {}
     },
     "e296828e98f84cff9cffb0a8f2a01292": {
      "model_module": "@jupyter-widgets/controls",
      "model_module_version": "1.5.0",
      "model_name": "FloatProgressModel",
      "state": {
       "bar_style": "success",
       "layout": "IPY_MODEL_48502a6b3fd344319dc0c5bdff6b1a7d",
       "max": 43,
       "style": "IPY_MODEL_03f1c47b0539436dae39ff439feebcb4",
       "value": 43
      }
     },
     "e2a79c94017147148a36047975bda8a0": {
      "model_module": "@jupyter-widgets/base",
      "model_module_version": "1.2.0",
      "model_name": "LayoutModel",
      "state": {}
     },
     "e2d0c0661f714c32a951c5b436ac3a0c": {
      "model_module": "@jupyter-widgets/base",
      "model_module_version": "1.2.0",
      "model_name": "LayoutModel",
      "state": {}
     },
     "e364d58e636349a08500aa147e27c76f": {
      "model_module": "@jupyter-widgets/controls",
      "model_module_version": "1.5.0",
      "model_name": "HTMLModel",
      "state": {
       "layout": "IPY_MODEL_537294c418594eb0a55e5aceb6573a2f",
       "style": "IPY_MODEL_49d7d1896f094c75b40e3d692aa68191",
       "value": " 3555/3555 [00:00&lt;00:00, 7784.18it/s]"
      }
     },
     "e37e856c84794a16831addb0d6a2e8d2": {
      "model_module": "@jupyter-widgets/controls",
      "model_module_version": "1.5.0",
      "model_name": "HBoxModel",
      "state": {
       "children": [
        "IPY_MODEL_b581fc923c6c42f7b54468be3b5a2ca0",
        "IPY_MODEL_06321ea2e9ef4b5eacfa068316c93956",
        "IPY_MODEL_39f498af3eed4479ba6fb0877175c90b"
       ],
       "layout": "IPY_MODEL_c7f207405a0c4f3396bfab3856f09a97"
      }
     },
     "e3a0088f20024db5aedfd341f5c2918e": {
      "model_module": "@jupyter-widgets/base",
      "model_module_version": "1.2.0",
      "model_name": "LayoutModel",
      "state": {}
     },
     "e3f2e657b32e4762a502e2d4b08fe554": {
      "model_module": "@jupyter-widgets/controls",
      "model_module_version": "1.5.0",
      "model_name": "HTMLModel",
      "state": {
       "layout": "IPY_MODEL_b8455aa11a624bd79d4eaa55c910612a",
       "style": "IPY_MODEL_5a351f6ebdfc48739e46384a983ef7e4",
       "value": " 1318/1318 [00:00&lt;00:00, 2187.84it/s]"
      }
     },
     "e3faa91c562640d5be77783fb2cd8018": {
      "model_module": "@jupyter-widgets/base",
      "model_module_version": "1.2.0",
      "model_name": "LayoutModel",
      "state": {}
     },
     "e47238d2730d494c80c5c249ec0d28a3": {
      "model_module": "@jupyter-widgets/base",
      "model_module_version": "1.2.0",
      "model_name": "LayoutModel",
      "state": {}
     },
     "e4e04f0a2c114982aaaefecd2e3c2a58": {
      "model_module": "@jupyter-widgets/base",
      "model_module_version": "1.2.0",
      "model_name": "LayoutModel",
      "state": {}
     },
     "e4e79ab52c9a499d83a045f3154f36d0": {
      "model_module": "@jupyter-widgets/base",
      "model_module_version": "1.2.0",
      "model_name": "LayoutModel",
      "state": {}
     },
     "e58423a9f04b41d9a4d7b6c3424ef038": {
      "model_module": "@jupyter-widgets/controls",
      "model_module_version": "1.5.0",
      "model_name": "HBoxModel",
      "state": {
       "children": [
        "IPY_MODEL_027e2aefa86b4f51adf3ca03af43c8a3",
        "IPY_MODEL_d5ac519ee1d04a7a8be2fa04a2aa7458",
        "IPY_MODEL_5d4f58bd7be14921852b65f87ee11dde"
       ],
       "layout": "IPY_MODEL_22576fda9406475ca71f70b432b5c690"
      }
     },
     "e6a4a85306dc46a88f67a07ed541620c": {
      "model_module": "@jupyter-widgets/base",
      "model_module_version": "1.2.0",
      "model_name": "LayoutModel",
      "state": {}
     },
     "e6edf3bc086e4bfba04a88d9d8e057d7": {
      "model_module": "@jupyter-widgets/controls",
      "model_module_version": "1.5.0",
      "model_name": "HBoxModel",
      "state": {
       "children": [
        "IPY_MODEL_a70c2105b4e9452cbe841a73177b85d9",
        "IPY_MODEL_2b26757d0ddb4111af8cde3fe6751dc0",
        "IPY_MODEL_e3f2e657b32e4762a502e2d4b08fe554"
       ],
       "layout": "IPY_MODEL_a5f1488ab3044d02984c0465b3a8ee4c"
      }
     },
     "e71476c475a24af88f2b6af54cd379ab": {
      "model_module": "@jupyter-widgets/controls",
      "model_module_version": "1.5.0",
      "model_name": "DescriptionStyleModel",
      "state": {
       "description_width": ""
      }
     },
     "e7402270835a45cfb5da79ca473f4d44": {
      "model_module": "@jupyter-widgets/controls",
      "model_module_version": "1.5.0",
      "model_name": "DescriptionStyleModel",
      "state": {
       "description_width": ""
      }
     },
     "e74525fadf9d49da8f22aeceb51bad63": {
      "model_module": "@jupyter-widgets/controls",
      "model_module_version": "1.5.0",
      "model_name": "HTMLModel",
      "state": {
       "layout": "IPY_MODEL_5dc1e6ef3eed41f7b1d51ff015b6012d",
       "style": "IPY_MODEL_381619d730394e0abfa18b354e9608da",
       "value": " 10669/10669 [00:04&lt;00:00, 2294.29it/s]"
      }
     },
     "e7455ae4652e4cad938749dc034ab934": {
      "model_module": "@jupyter-widgets/controls",
      "model_module_version": "1.5.0",
      "model_name": "FloatProgressModel",
      "state": {
       "bar_style": "success",
       "layout": "IPY_MODEL_edb23b993e2941a1b8b65189cdf928ee",
       "max": 112,
       "style": "IPY_MODEL_bad2d3cb2e774d09932c270c9cc9c2c4",
       "value": 112
      }
     },
     "e78982fe90c74cae953cb44feba58827": {
      "model_module": "@jupyter-widgets/base",
      "model_module_version": "1.2.0",
      "model_name": "LayoutModel",
      "state": {}
     },
     "e835898649384a06a6c3d3c29e860556": {
      "model_module": "@jupyter-widgets/controls",
      "model_module_version": "1.5.0",
      "model_name": "HTMLModel",
      "state": {
       "layout": "IPY_MODEL_7d6737ccc42e48898f653e62811cf2fd",
       "style": "IPY_MODEL_ad8014ab684d45a5ad6d899aa0fe8462",
       "value": " 490/490 [00:00&lt;00:00, 22.0kB/s]"
      }
     },
     "e8a6adbac9d54e5ea23e0c1e6f28312a": {
      "model_module": "@jupyter-widgets/controls",
      "model_module_version": "1.5.0",
      "model_name": "DescriptionStyleModel",
      "state": {
       "description_width": ""
      }
     },
     "e8d66c82a2404c0a93f3ee3afd46572d": {
      "model_module": "@jupyter-widgets/controls",
      "model_module_version": "1.5.0",
      "model_name": "HTMLModel",
      "state": {
       "layout": "IPY_MODEL_aa3aeef0f97d4b39a00d77f6ace97eee",
       "style": "IPY_MODEL_c3b17fde1ae14860b5cac31752403e01",
       "value": "Downloading: 100%"
      }
     },
     "e97c85543ebd4dba8c6039ca5a42ebb5": {
      "model_module": "@jupyter-widgets/controls",
      "model_module_version": "1.5.0",
      "model_name": "ProgressStyleModel",
      "state": {
       "description_width": ""
      }
     },
     "e98c0c88a8e14d92bb27380603856d46": {
      "model_module": "@jupyter-widgets/controls",
      "model_module_version": "1.5.0",
      "model_name": "ProgressStyleModel",
      "state": {
       "description_width": ""
      }
     },
     "ea61a861efe249e397a87a5aa71a78b4": {
      "model_module": "@jupyter-widgets/base",
      "model_module_version": "1.2.0",
      "model_name": "LayoutModel",
      "state": {}
     },
     "ea86fadee3124af0b568032e4035ab1c": {
      "model_module": "@jupyter-widgets/controls",
      "model_module_version": "1.5.0",
      "model_name": "DescriptionStyleModel",
      "state": {
       "description_width": ""
      }
     },
     "ea90af4b4f254d27b3282747298aa3dc": {
      "model_module": "@jupyter-widgets/base",
      "model_module_version": "1.2.0",
      "model_name": "LayoutModel",
      "state": {}
     },
     "ea93ca4a100e4d78874b8715b0be92d7": {
      "model_module": "@jupyter-widgets/controls",
      "model_module_version": "1.5.0",
      "model_name": "ProgressStyleModel",
      "state": {
       "description_width": ""
      }
     },
     "eaf0d75ba6b54c21aada5df08aee0a2b": {
      "model_module": "@jupyter-widgets/base",
      "model_module_version": "1.2.0",
      "model_name": "LayoutModel",
      "state": {}
     },
     "eb03b4108be34224bf7e5c9b71a61dc9": {
      "model_module": "@jupyter-widgets/controls",
      "model_module_version": "1.5.0",
      "model_name": "HBoxModel",
      "state": {
       "children": [
        "IPY_MODEL_fac34392cd334e1fbf7102f199d1b3a7",
        "IPY_MODEL_855856ca99e04debb17dac95b24faf55",
        "IPY_MODEL_d940cc12d0d44a3492e0cd4c5de72392"
       ],
       "layout": "IPY_MODEL_9302de20f4754950a3a625b55c69d340"
      }
     },
     "eb18a31472e04395b1a278a87e37080b": {
      "model_module": "@jupyter-widgets/controls",
      "model_module_version": "1.5.0",
      "model_name": "HBoxModel",
      "state": {
       "children": [
        "IPY_MODEL_174c6c60a0b2475481ca77283c392a26",
        "IPY_MODEL_4bb745630b8b4ef9a1948b9e8d86c2ba",
        "IPY_MODEL_ba1e84b8dc294c9ab4adb856ac6d7e98"
       ],
       "layout": "IPY_MODEL_165b6aa8476748f4b11df824b017b770"
      }
     },
     "eb23ba538090472cbd8082d14303f6b9": {
      "model_module": "@jupyter-widgets/base",
      "model_module_version": "1.2.0",
      "model_name": "LayoutModel",
      "state": {}
     },
     "eb2cd48dbc3043669c8291873f9da880": {
      "model_module": "@jupyter-widgets/controls",
      "model_module_version": "1.5.0",
      "model_name": "ProgressStyleModel",
      "state": {
       "description_width": ""
      }
     },
     "eb62c53bbfbe4af7ab440f99d87b89aa": {
      "model_module": "@jupyter-widgets/controls",
      "model_module_version": "1.5.0",
      "model_name": "DescriptionStyleModel",
      "state": {
       "description_width": ""
      }
     },
     "ebf24a70ae0d48d39b207cf8b22e3b86": {
      "model_module": "@jupyter-widgets/controls",
      "model_module_version": "1.5.0",
      "model_name": "DescriptionStyleModel",
      "state": {
       "description_width": ""
      }
     },
     "ece8a530ac1d46f4b1bc5838f50709e4": {
      "model_module": "@jupyter-widgets/controls",
      "model_module_version": "1.5.0",
      "model_name": "ProgressStyleModel",
      "state": {
       "description_width": ""
      }
     },
     "ed373687d6de4ed08d17ba38b5db19a1": {
      "model_module": "@jupyter-widgets/controls",
      "model_module_version": "1.5.0",
      "model_name": "HBoxModel",
      "state": {
       "children": [
        "IPY_MODEL_f87d2aa3b821428f8eb40158b5a6226a",
        "IPY_MODEL_a1fd0f88299f4a18b3f49d933c8d16b1",
        "IPY_MODEL_841aa8ed02454027985f19c092fe0dfd"
       ],
       "layout": "IPY_MODEL_9f2d23a54fc7439ebcca7c99fe29625a"
      }
     },
     "ed7e8cf0937f4c49883e64a034d39992": {
      "model_module": "@jupyter-widgets/base",
      "model_module_version": "1.2.0",
      "model_name": "LayoutModel",
      "state": {}
     },
     "edb23b993e2941a1b8b65189cdf928ee": {
      "model_module": "@jupyter-widgets/base",
      "model_module_version": "1.2.0",
      "model_name": "LayoutModel",
      "state": {}
     },
     "edf5b378df84484d95a12d46a513c7fb": {
      "model_module": "@jupyter-widgets/base",
      "model_module_version": "1.2.0",
      "model_name": "LayoutModel",
      "state": {}
     },
     "ee128c7c2f1e47218d19fcd00d24ff37": {
      "model_module": "@jupyter-widgets/controls",
      "model_module_version": "1.5.0",
      "model_name": "ProgressStyleModel",
      "state": {
       "description_width": ""
      }
     },
     "ee2f62f6f57e44708376c778a1778339": {
      "model_module": "@jupyter-widgets/controls",
      "model_module_version": "1.5.0",
      "model_name": "HTMLModel",
      "state": {
       "layout": "IPY_MODEL_e47238d2730d494c80c5c249ec0d28a3",
       "style": "IPY_MODEL_8d11e97255524f08884d6d91df1e160e",
       "value": "100%"
      }
     },
     "eecd583d93a54c0289b83bc9b1ee6269": {
      "model_module": "@jupyter-widgets/controls",
      "model_module_version": "1.5.0",
      "model_name": "DescriptionStyleModel",
      "state": {
       "description_width": ""
      }
     },
     "ef524d594f864db08a908a5980eded48": {
      "model_module": "@jupyter-widgets/base",
      "model_module_version": "1.2.0",
      "model_name": "LayoutModel",
      "state": {}
     },
     "ef5d2b6cb7184de1a89004ee1654b9db": {
      "model_module": "@jupyter-widgets/base",
      "model_module_version": "1.2.0",
      "model_name": "LayoutModel",
      "state": {}
     },
     "efc9a1db414a42a1ac2b291e70f95707": {
      "model_module": "@jupyter-widgets/controls",
      "model_module_version": "1.5.0",
      "model_name": "HBoxModel",
      "state": {
       "children": [
        "IPY_MODEL_7e1b00bb3c2944a38e85829e019abbb6",
        "IPY_MODEL_48b89a2af19848c2ab95a6a7d5ab5dd3",
        "IPY_MODEL_5c175f62d9134e13a74fa3cae4cc0888"
       ],
       "layout": "IPY_MODEL_9ce930d38f534678b1256c80d10acc38"
      }
     },
     "efe3f248a13a4a6b819444f104a9b5ac": {
      "model_module": "@jupyter-widgets/controls",
      "model_module_version": "1.5.0",
      "model_name": "HTMLModel",
      "state": {
       "layout": "IPY_MODEL_1eb92b73d42c45b98b46d0648d5ce303",
       "style": "IPY_MODEL_ae5c1281f60744c29eda6d6785dbadbf",
       "value": "Epoch 2 of 2: 100%"
      }
     },
     "f042ad2888f84fc5bd24181ee6f3142f": {
      "model_module": "@jupyter-widgets/controls",
      "model_module_version": "1.5.0",
      "model_name": "HTMLModel",
      "state": {
       "layout": "IPY_MODEL_2ef76314d0e14bb9b361f02880285ec9",
       "style": "IPY_MODEL_86d3f68109744fe8af0ebff745bfbdff",
       "value": " 223k/223k [00:00&lt;00:00, 309kB/s]"
      }
     },
     "f056ba4aabe241d6a09269109d8b86a2": {
      "model_module": "@jupyter-widgets/controls",
      "model_module_version": "1.5.0",
      "model_name": "ProgressStyleModel",
      "state": {
       "description_width": ""
      }
     },
     "f08821292c1d44ed90c26ffa3af1ad35": {
      "model_module": "@jupyter-widgets/controls",
      "model_module_version": "1.5.0",
      "model_name": "HTMLModel",
      "state": {
       "layout": "IPY_MODEL_5fa206a6bfdd457587eaef49656e45f0",
       "style": "IPY_MODEL_34430e2fa8a141068d79208a50ad7752",
       "value": " 43/43 [00:01&lt;00:00, 28.85it/s]"
      }
     },
     "f0eab3f72cb5429b8fe659018aebacec": {
      "model_module": "@jupyter-widgets/controls",
      "model_module_version": "1.5.0",
      "model_name": "HTMLModel",
      "state": {
       "layout": "IPY_MODEL_5130b1222a5842549d1836879e413444",
       "style": "IPY_MODEL_ebf24a70ae0d48d39b207cf8b22e3b86",
       "value": " 356/356 [00:43&lt;00:00,  9.49it/s]"
      }
     },
     "f0ec6615f2654fb9ac3ba1de9e651a4e": {
      "model_module": "@jupyter-widgets/controls",
      "model_module_version": "1.5.0",
      "model_name": "FloatProgressModel",
      "state": {
       "bar_style": "success",
       "layout": "IPY_MODEL_9e8af5ff416b4deeaed0d2031139c09d",
       "max": 43,
       "style": "IPY_MODEL_1403dfeabdac4081aa8bec87e4ae481d",
       "value": 43
      }
     },
     "f134c12b21b14d0382c6b14da8ccffab": {
      "model_module": "@jupyter-widgets/controls",
      "model_module_version": "1.5.0",
      "model_name": "ProgressStyleModel",
      "state": {
       "description_width": ""
      }
     },
     "f14c7c76ac2045209c5216226b9503e6": {
      "model_module": "@jupyter-widgets/controls",
      "model_module_version": "1.5.0",
      "model_name": "HBoxModel",
      "state": {
       "children": [
        "IPY_MODEL_914e28a6e7c2450c8d82615eb0f0ee26",
        "IPY_MODEL_c1c1be38e1ff40a0abdc45fc7ef2fca3",
        "IPY_MODEL_233933c72021480082e605cf420d906f"
       ],
       "layout": "IPY_MODEL_f1e839bdb92f4222b62e1f548a04182f"
      }
     },
     "f16eaf23bbf4474e919a1b4cb29c8e58": {
      "model_module": "@jupyter-widgets/controls",
      "model_module_version": "1.5.0",
      "model_name": "HTMLModel",
      "state": {
       "layout": "IPY_MODEL_aa4b821ab5304104bb35ff93619171fb",
       "style": "IPY_MODEL_5852d31b4c9b4ef8a60b45e057151411",
       "value": " 59.0/59.0 [00:00&lt;00:00, 2.95kB/s]"
      }
     },
     "f1e839bdb92f4222b62e1f548a04182f": {
      "model_module": "@jupyter-widgets/base",
      "model_module_version": "1.2.0",
      "model_name": "LayoutModel",
      "state": {}
     },
     "f2405fb9221645ca8f6d442963cfa0b2": {
      "model_module": "@jupyter-widgets/base",
      "model_module_version": "1.2.0",
      "model_name": "LayoutModel",
      "state": {}
     },
     "f24b78d199df4139a697e41d0ba43048": {
      "model_module": "@jupyter-widgets/base",
      "model_module_version": "1.2.0",
      "model_name": "LayoutModel",
      "state": {}
     },
     "f252f3fdaa184a84a8aec6e5265721d7": {
      "model_module": "@jupyter-widgets/controls",
      "model_module_version": "1.5.0",
      "model_name": "HBoxModel",
      "state": {
       "children": [
        "IPY_MODEL_3d59b1bc62074d9995cb32bb67e4a514",
        "IPY_MODEL_8d892112e3cc4a5a94057e6be6373219",
        "IPY_MODEL_7df34065ac4441ed9c9255cf25b84179"
       ],
       "layout": "IPY_MODEL_9e53d9fa18284ce5859a8acb40a45786"
      }
     },
     "f277e7a657724e798bbca7582cb74ff8": {
      "model_module": "@jupyter-widgets/base",
      "model_module_version": "1.2.0",
      "model_name": "LayoutModel",
      "state": {}
     },
     "f2a3726c2e134129b01444d0b683f64f": {
      "model_module": "@jupyter-widgets/controls",
      "model_module_version": "1.5.0",
      "model_name": "FloatProgressModel",
      "state": {
       "bar_style": "success",
       "layout": "IPY_MODEL_a3109b4137a444bd97f8e1bd97b760ca",
       "max": 2,
       "style": "IPY_MODEL_903a9d956933466fa3dcf488c0d9b64a",
       "value": 2
      }
     },
     "f2ce3762ca4d4fc8acab2adeeb680bb6": {
      "model_module": "@jupyter-widgets/base",
      "model_module_version": "1.2.0",
      "model_name": "LayoutModel",
      "state": {}
     },
     "f3204a7474694f7eaea3753eca201aeb": {
      "model_module": "@jupyter-widgets/controls",
      "model_module_version": "1.5.0",
      "model_name": "DescriptionStyleModel",
      "state": {
       "description_width": ""
      }
     },
     "f33f4535f0634b3c97ce750a64f125c7": {
      "model_module": "@jupyter-widgets/base",
      "model_module_version": "1.2.0",
      "model_name": "LayoutModel",
      "state": {}
     },
     "f36c1ae32c0c482283a194c665754247": {
      "model_module": "@jupyter-widgets/base",
      "model_module_version": "1.2.0",
      "model_name": "LayoutModel",
      "state": {}
     },
     "f3f7278333e2427c9ec84ee745e37ed3": {
      "model_module": "@jupyter-widgets/controls",
      "model_module_version": "1.5.0",
      "model_name": "ProgressStyleModel",
      "state": {
       "description_width": ""
      }
     },
     "f414556512c748f3b5e8b521cc3c6d52": {
      "model_module": "@jupyter-widgets/controls",
      "model_module_version": "1.5.0",
      "model_name": "ProgressStyleModel",
      "state": {
       "description_width": ""
      }
     },
     "f46a36c6e34a4e5bbb6e8573b330a076": {
      "model_module": "@jupyter-widgets/controls",
      "model_module_version": "1.5.0",
      "model_name": "FloatProgressModel",
      "state": {
       "layout": "IPY_MODEL_a153d5dd94a942a4bca689bf408c44f0",
       "max": 1,
       "style": "IPY_MODEL_f66078d3f7ea4693a23debf75dd208c8",
       "value": 1
      }
     },
     "f5104aa6c6974040963c70c825629379": {
      "model_module": "@jupyter-widgets/controls",
      "model_module_version": "1.5.0",
      "model_name": "ProgressStyleModel",
      "state": {
       "description_width": ""
      }
     },
     "f520ca4e515745d69a3561b6246669c9": {
      "model_module": "@jupyter-widgets/base",
      "model_module_version": "1.2.0",
      "model_name": "LayoutModel",
      "state": {}
     },
     "f600b4e06f0442ed8494da99e34ed648": {
      "model_module": "@jupyter-widgets/controls",
      "model_module_version": "1.5.0",
      "model_name": "FloatProgressModel",
      "state": {
       "bar_style": "success",
       "layout": "IPY_MODEL_f8d239ee162d48f58d0b3570a5b71477",
       "max": 442525507,
       "style": "IPY_MODEL_bb3406d1e4434ede949a296389fa87f5",
       "value": 442525507
      }
     },
     "f630d638744b44b78e95797cd975dbd5": {
      "model_module": "@jupyter-widgets/controls",
      "model_module_version": "1.5.0",
      "model_name": "DescriptionStyleModel",
      "state": {
       "description_width": ""
      }
     },
     "f66078d3f7ea4693a23debf75dd208c8": {
      "model_module": "@jupyter-widgets/controls",
      "model_module_version": "1.5.0",
      "model_name": "ProgressStyleModel",
      "state": {
       "description_width": ""
      }
     },
     "f781fced71634509bf73b12d773b1f9a": {
      "model_module": "@jupyter-widgets/base",
      "model_module_version": "1.2.0",
      "model_name": "LayoutModel",
      "state": {}
     },
     "f788e95155ec4d639ad1c38ebda5e439": {
      "model_module": "@jupyter-widgets/controls",
      "model_module_version": "1.5.0",
      "model_name": "ProgressStyleModel",
      "state": {
       "description_width": ""
      }
     },
     "f81f6222153c49888faf57b93f043aaf": {
      "model_module": "@jupyter-widgets/base",
      "model_module_version": "1.2.0",
      "model_name": "LayoutModel",
      "state": {}
     },
     "f8302146fbf84e34aca6ddad246fc531": {
      "model_module": "@jupyter-widgets/base",
      "model_module_version": "1.2.0",
      "model_name": "LayoutModel",
      "state": {}
     },
     "f86d05462bcc462e8b4bc6a8bd0e476f": {
      "model_module": "@jupyter-widgets/base",
      "model_module_version": "1.2.0",
      "model_name": "LayoutModel",
      "state": {}
     },
     "f87d2aa3b821428f8eb40158b5a6226a": {
      "model_module": "@jupyter-widgets/controls",
      "model_module_version": "1.5.0",
      "model_name": "HTMLModel",
      "state": {
       "layout": "IPY_MODEL_335017f28a2c4a698edbb0982bbe1e58",
       "style": "IPY_MODEL_739af50dd08743689f6cf33e507e373d",
       "value": "100%"
      }
     },
     "f8b2539655004e66b078fbf031b72f9a": {
      "model_module": "@jupyter-widgets/controls",
      "model_module_version": "1.5.0",
      "model_name": "HBoxModel",
      "state": {
       "children": [
        "IPY_MODEL_5b45731e9494424c810b29af01b80e11",
        "IPY_MODEL_2313ba1339b04b0e8bed01d2af45c036",
        "IPY_MODEL_158e4cc570a44283a7332dbbbe2c81d5"
       ],
       "layout": "IPY_MODEL_b4c97438ebfd4fec8d22070e05178513"
      }
     },
     "f8cc4e8db9d545db8ef759e367fd5551": {
      "model_module": "@jupyter-widgets/controls",
      "model_module_version": "1.5.0",
      "model_name": "DescriptionStyleModel",
      "state": {
       "description_width": ""
      }
     },
     "f8d239ee162d48f58d0b3570a5b71477": {
      "model_module": "@jupyter-widgets/base",
      "model_module_version": "1.2.0",
      "model_name": "LayoutModel",
      "state": {}
     },
     "f8eb01a85565487cbb3b9bebf5aa12e5": {
      "model_module": "@jupyter-widgets/controls",
      "model_module_version": "1.5.0",
      "model_name": "DescriptionStyleModel",
      "state": {
       "description_width": ""
      }
     },
     "f960b0b57cd54d02a0d4bb14931856ea": {
      "model_module": "@jupyter-widgets/controls",
      "model_module_version": "1.5.0",
      "model_name": "HBoxModel",
      "state": {
       "children": [
        "IPY_MODEL_c4d2944a32bd489caf92e95cb06dda7e",
        "IPY_MODEL_c11fe2dd06c04a7ebaf8a84603cfa52f",
        "IPY_MODEL_1134e7831ce645b49d4bd4b114d51d1f"
       ],
       "layout": "IPY_MODEL_eaf0d75ba6b54c21aada5df08aee0a2b"
      }
     },
     "f98c49de196c406a9cb741436724e0ab": {
      "model_module": "@jupyter-widgets/controls",
      "model_module_version": "1.5.0",
      "model_name": "HTMLModel",
      "state": {
       "layout": "IPY_MODEL_b8b2ba5b1fc240aea3ed58ee55963798",
       "style": "IPY_MODEL_cd0d775a616e47df8bdd0751cbfcb1d0",
       "value": "Epochs 0/2. Running Loss:    2.3080: 100%"
      }
     },
     "f998da36be5646878db69dce9c37a8b2": {
      "model_module": "@jupyter-widgets/base",
      "model_module_version": "1.2.0",
      "model_name": "LayoutModel",
      "state": {}
     },
     "fa2a6e6a9f8f417ab97339cb2305a90b": {
      "model_module": "@jupyter-widgets/base",
      "model_module_version": "1.2.0",
      "model_name": "LayoutModel",
      "state": {}
     },
     "fa3a468f8d4b4198bc4b3c2ea6b7d011": {
      "model_module": "@jupyter-widgets/base",
      "model_module_version": "1.2.0",
      "model_name": "LayoutModel",
      "state": {}
     },
     "fa50897641af4063bd49e65083677057": {
      "model_module": "@jupyter-widgets/controls",
      "model_module_version": "1.5.0",
      "model_name": "HTMLModel",
      "state": {
       "layout": "IPY_MODEL_5e9b5ba5c21740d2b66d6856de81a5de",
       "style": "IPY_MODEL_08f73f090dbb48f9acd20d07a2f7f056",
       "value": "100%"
      }
     },
     "fac34392cd334e1fbf7102f199d1b3a7": {
      "model_module": "@jupyter-widgets/controls",
      "model_module_version": "1.5.0",
      "model_name": "HTMLModel",
      "state": {
       "layout": "IPY_MODEL_5bb227ea47e14b3ba3e04955fd4668cb",
       "style": "IPY_MODEL_be4f649a040e4c339d152a77c09c84bd",
       "value": "100%"
      }
     },
     "fad735a2bed844b48f8d6663c88bc431": {
      "model_module": "@jupyter-widgets/base",
      "model_module_version": "1.2.0",
      "model_name": "LayoutModel",
      "state": {}
     },
     "fb4e724c2f694b02a26fb8b77e81069a": {
      "model_module": "@jupyter-widgets/controls",
      "model_module_version": "1.5.0",
      "model_name": "FloatProgressModel",
      "state": {
       "bar_style": "success",
       "layout": "IPY_MODEL_69fe792844974814a7575fb885885c4e",
       "max": 43,
       "style": "IPY_MODEL_cd51e544e52f4f4db2500f65fa261fc7",
       "value": 43
      }
     },
     "fbafd6266d15461c8d11f1c72c8dba2b": {
      "model_module": "@jupyter-widgets/controls",
      "model_module_version": "1.5.0",
      "model_name": "DescriptionStyleModel",
      "state": {
       "description_width": ""
      }
     },
     "fbc8dc5227144232ae941a81aac76ba1": {
      "model_module": "@jupyter-widgets/base",
      "model_module_version": "1.2.0",
      "model_name": "LayoutModel",
      "state": {}
     },
     "fbe979f862c444ea97d716184e21b224": {
      "model_module": "@jupyter-widgets/controls",
      "model_module_version": "1.5.0",
      "model_name": "HTMLModel",
      "state": {
       "layout": "IPY_MODEL_aa229abf677d4ca6b296e8e245c6e8ae",
       "style": "IPY_MODEL_b4f251339b934c5b9eb09af959af6eeb",
       "value": " 112/112 [00:04&lt;00:00, 29.22it/s]"
      }
     },
     "fbec3ce9c24045afacb73a632370a0cf": {
      "model_module": "@jupyter-widgets/base",
      "model_module_version": "1.2.0",
      "model_name": "LayoutModel",
      "state": {}
     },
     "fc72e61fe4bf4e86850d3cf56e4352cd": {
      "model_module": "@jupyter-widgets/base",
      "model_module_version": "1.2.0",
      "model_name": "LayoutModel",
      "state": {}
     },
     "fc943aa1d09547369df1302d23a4c9c5": {
      "model_module": "@jupyter-widgets/base",
      "model_module_version": "1.2.0",
      "model_name": "LayoutModel",
      "state": {}
     },
     "fcb76254d561495dbe6fe135de24860c": {
      "model_module": "@jupyter-widgets/controls",
      "model_module_version": "1.5.0",
      "model_name": "VBoxModel",
      "state": {
       "children": [
        "IPY_MODEL_9af307aaaf534f698be0395aab25d875",
        "IPY_MODEL_bda27d3939564c15a648fb2c597687e6"
       ],
       "layout": "IPY_MODEL_05ea299ff09a477da43b2cefc3c5876f"
      }
     },
     "fd1c04042f094adb94931ef0d73fdf0f": {
      "model_module": "@jupyter-widgets/controls",
      "model_module_version": "1.5.0",
      "model_name": "DescriptionStyleModel",
      "state": {
       "description_width": ""
      }
     },
     "fd2525aee8fe40cc82b0e2beccdeeedb": {
      "model_module": "@jupyter-widgets/controls",
      "model_module_version": "1.5.0",
      "model_name": "LabelModel",
      "state": {
       "layout": "IPY_MODEL_ea61a861efe249e397a87a5aa71a78b4",
       "style": "IPY_MODEL_7b145013326b4447815215ebf75e4e30"
      }
     },
     "fd27af381901496d9c53e08a8fa1853e": {
      "model_module": "@jupyter-widgets/base",
      "model_module_version": "1.2.0",
      "model_name": "LayoutModel",
      "state": {}
     },
     "fd6017ede24449f6a62502bb432f7768": {
      "model_module": "@jupyter-widgets/base",
      "model_module_version": "1.2.0",
      "model_name": "LayoutModel",
      "state": {}
     },
     "fd82baa95e8a4e67a09f2b63423ce5de": {
      "model_module": "@jupyter-widgets/base",
      "model_module_version": "1.2.0",
      "model_name": "LayoutModel",
      "state": {}
     },
     "fe7af2fb2ed841c5a5ca4f6a2dca65b1": {
      "model_module": "@jupyter-widgets/base",
      "model_module_version": "1.2.0",
      "model_name": "LayoutModel",
      "state": {}
     },
     "febf38643c5e4f2c9ee052e761d72a25": {
      "model_module": "@jupyter-widgets/base",
      "model_module_version": "1.2.0",
      "model_name": "LayoutModel",
      "state": {}
     },
     "fec363373a9545e495e58b8b3bb5b490": {
      "model_module": "@jupyter-widgets/controls",
      "model_module_version": "1.5.0",
      "model_name": "HTMLModel",
      "state": {
       "layout": "IPY_MODEL_7e65e9ae995843458e40b4510a03456c",
       "style": "IPY_MODEL_e0171014765743e79596a8c762054c02",
       "value": " 3555/3555 [00:00&lt;00:00, 4681.12it/s]"
      }
     },
     "fee25098f0f346588fc94a48eab3156a": {
      "model_module": "@jupyter-widgets/controls",
      "model_module_version": "1.5.0",
      "model_name": "DescriptionStyleModel",
      "state": {
       "description_width": ""
      }
     },
     "ff23b3eaf4fa42e19a821750658edfa2": {
      "model_module": "@jupyter-widgets/controls",
      "model_module_version": "1.5.0",
      "model_name": "DescriptionStyleModel",
      "state": {
       "description_width": ""
      }
     },
     "ff33bc4f2a31491eaef3ea3c7398bb68": {
      "model_module": "@jupyter-widgets/controls",
      "model_module_version": "1.5.0",
      "model_name": "VBoxModel",
      "state": {
       "children": [
        "IPY_MODEL_3ac6cacbb9824f04ba64134b42aa3759",
        "IPY_MODEL_afe1a099922b411da18c1cc3edcc6700"
       ],
       "layout": "IPY_MODEL_f781fced71634509bf73b12d773b1f9a"
      }
     },
     "ff6309cfdc104a8d83c1ac01611cdd62": {
      "model_module": "@jupyter-widgets/base",
      "model_module_version": "1.2.0",
      "model_name": "LayoutModel",
      "state": {}
     },
     "ffce69f360ca40278e9d4f92ef3f9309": {
      "model_module": "@jupyter-widgets/controls",
      "model_module_version": "1.5.0",
      "model_name": "FloatProgressModel",
      "state": {
       "bar_style": "success",
       "layout": "IPY_MODEL_6d6c241e32b243f392cfb1a8e6736263",
       "max": 3555,
       "style": "IPY_MODEL_1a4c89d394ec4ca781c92cb88ff88169",
       "value": 3555
      }
     }
    },
    "version_major": 2,
    "version_minor": 0
   }
  }
 },
 "nbformat": 4,
 "nbformat_minor": 4
}
