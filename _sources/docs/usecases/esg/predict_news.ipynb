{
 "cells": [
  {
   "cell_type": "markdown",
   "metadata": {
    "id": "cjgz1WTcPWee"
   },
   "source": [
    "# Predicting ESG Categories and Polarities"
   ]
  },
  {
   "cell_type": "code",
   "execution_count": 1,
   "metadata": {
    "id": "BzxPwsOVPWef"
   },
   "outputs": [
    {
     "name": "stderr",
     "output_type": "stream",
     "text": [
      "INFO:ekorpkit.base:IPython version: (6, 9, 0), client: jupyter_client\n",
      "INFO:ekorpkit.base:Google Colab not detected.\n"
     ]
    },
    {
     "name": "stdout",
     "output_type": "stream",
     "text": [
      "version: 0.1.35+9.g8c77743.dirty\n",
      "is notebook? True\n",
      "is colab? False\n",
      "evironment varialbles:\n",
      "{'CUDA_DEVICE_ORDER': None,\n",
      " 'CUDA_VISIBLE_DEVICES': None,\n",
      " 'EKORPKIT_CONFIG_DIR': '/workspace/projects/ekorpkit-book/config',\n",
      " 'EKORPKIT_DATA_DIR': None,\n",
      " 'EKORPKIT_LOG_LEVEL': 'INFO',\n",
      " 'EKORPKIT_PROJECT': 'ekorpkit-book',\n",
      " 'EKORPKIT_WORKSPACE_ROOT': '/workspace',\n",
      " 'KMP_DUPLICATE_LIB_OK': 'TRUE',\n",
      " 'NUM_WORKERS': 230}\n"
     ]
    }
   ],
   "source": [
    "%config InlineBackend.figure_format='retina'\n",
    "from ekorpkit import eKonf\n",
    "\n",
    "eKonf.setLogger(\"INFO\")\n",
    "print(\"version:\", eKonf.__version__)\n",
    "print(\"is notebook?\", eKonf.is_notebook())\n",
    "print(\"is colab?\", eKonf.is_colab())\n",
    "print(\"evironment varialbles:\")\n",
    "eKonf.print(eKonf.env().dict())"
   ]
  },
  {
   "cell_type": "code",
   "execution_count": 2,
   "metadata": {},
   "outputs": [],
   "source": [
    "data_dir = \"../data/econ_news_kr\"\n"
   ]
  },
  {
   "cell_type": "markdown",
   "metadata": {
    "id": "zpdqyeyPPWek"
   },
   "source": [
    "## Load data"
   ]
  },
  {
   "cell_type": "code",
   "execution_count": 3,
   "metadata": {
    "colab": {
     "base_uri": "https://localhost:8080/"
    },
    "id": "DFsykazvPWel",
    "outputId": "7ab40ae7-42ba-4b6c-f0da-908c6d45ddb9"
   },
   "outputs": [
    {
     "name": "stderr",
     "output_type": "stream",
     "text": [
      "INFO:ekorpkit.io.file:Processing [1] files from ['econ_news_filtered.parquet']\n",
      "INFO:ekorpkit.io.file:Loading 1 dataframes from ['../data/econ_news_kr/econ_news_filtered.parquet']\n",
      "INFO:ekorpkit.io.file:Loading data from ../data/econ_news_kr/econ_news_filtered.parquet\n"
     ]
    },
    {
     "data": {
      "text/html": [
       "<div>\n",
       "<style scoped>\n",
       "    .dataframe tbody tr th:only-of-type {\n",
       "        vertical-align: middle;\n",
       "    }\n",
       "\n",
       "    .dataframe tbody tr th {\n",
       "        vertical-align: top;\n",
       "    }\n",
       "\n",
       "    .dataframe thead th {\n",
       "        text-align: right;\n",
       "    }\n",
       "</style>\n",
       "<table border=\"1\" class=\"dataframe\">\n",
       "  <thead>\n",
       "    <tr style=\"text-align: right;\">\n",
       "      <th></th>\n",
       "      <th>id</th>\n",
       "      <th>chunk_id</th>\n",
       "      <th>text</th>\n",
       "      <th>filename</th>\n",
       "    </tr>\n",
       "  </thead>\n",
       "  <tbody>\n",
       "    <tr>\n",
       "      <th>0</th>\n",
       "      <td>1303</td>\n",
       "      <td>0</td>\n",
       "      <td>대신증권은 미국 정규시장이 열리기 2시간 30분 전부터 미국 주식을 거래할 수 있는...</td>\n",
       "      <td>02100311.20201101100459001.txt</td>\n",
       "    </tr>\n",
       "    <tr>\n",
       "      <th>1</th>\n",
       "      <td>1304</td>\n",
       "      <td>0</td>\n",
       "      <td>[디지털뉴스국 news@mkinternet.com]</td>\n",
       "      <td>02100311.20201101100459001.txt</td>\n",
       "    </tr>\n",
       "    <tr>\n",
       "      <th>2</th>\n",
       "      <td>1309</td>\n",
       "      <td>0</td>\n",
       "      <td>코스피가 외국인이 대규모 순매수세를 보인 가운데 보합권에서 마감했다.\\n6일 코스피...</td>\n",
       "      <td>02100311.20201101102709001.txt</td>\n",
       "    </tr>\n",
       "    <tr>\n",
       "      <th>3</th>\n",
       "      <td>1309</td>\n",
       "      <td>1</td>\n",
       "      <td>시가총액 상위 종목들은 흐름이 엇갈렸다. LG화학이 6% 이상 뛰었고 셀트리온, 삼...</td>\n",
       "      <td>02100311.20201101102709001.txt</td>\n",
       "    </tr>\n",
       "    <tr>\n",
       "      <th>4</th>\n",
       "      <td>1310</td>\n",
       "      <td>0</td>\n",
       "      <td>롯데쇼핑은 올해 3분기 영업이익(연결 기준)이 1110억원으로 전년 동기대비 26....</td>\n",
       "      <td>02100311.20201101103117001.txt</td>\n",
       "    </tr>\n",
       "    <tr>\n",
       "      <th>...</th>\n",
       "      <td>...</td>\n",
       "      <td>...</td>\n",
       "      <td>...</td>\n",
       "      <td>...</td>\n",
       "    </tr>\n",
       "    <tr>\n",
       "      <th>56849</th>\n",
       "      <td>1089862</td>\n",
       "      <td>0</td>\n",
       "      <td>[출처=카드고릴라]\\n카드사들이 연초부터 연일 신상품을 쏟아내고 있다. 새 카드로 ...</td>\n",
       "      <td>02100851.20220223082114001.txt</td>\n",
       "    </tr>\n",
       "    <tr>\n",
       "      <th>56850</th>\n",
       "      <td>1089862</td>\n",
       "      <td>1</td>\n",
       "      <td>가장 인기가 많은 카드사는 신한카드였다. 신한카드는 개별 상품페이지 관련 23%의 ...</td>\n",
       "      <td>02100851.20220223082114001.txt</td>\n",
       "    </tr>\n",
       "    <tr>\n",
       "      <th>56851</th>\n",
       "      <td>1089862</td>\n",
       "      <td>2</td>\n",
       "      <td>이용자들이 가장 많이 검색한 혜택은 교통(14.9%)이었다. 평균 사용 연령층이 더...</td>\n",
       "      <td>02100851.20220223082114001.txt</td>\n",
       "    </tr>\n",
       "    <tr>\n",
       "      <th>56852</th>\n",
       "      <td>1089862</td>\n",
       "      <td>3</td>\n",
       "      <td>따라서 올해에는 무실적, 또는 실적 조건이 낮아 사용 부담이 적으면서 모든 가맹점에...</td>\n",
       "      <td>02100851.20220223082114001.txt</td>\n",
       "    </tr>\n",
       "    <tr>\n",
       "      <th>56853</th>\n",
       "      <td>1089863</td>\n",
       "      <td>0</td>\n",
       "      <td>제 39차 부동산시장 점검 관계장관회의\\n홍남기 부총리 겸 기획재정부 장관이 23일...</td>\n",
       "      <td>02100851.20220223082114001.txt</td>\n",
       "    </tr>\n",
       "  </tbody>\n",
       "</table>\n",
       "<p>56854 rows × 4 columns</p>\n",
       "</div>"
      ],
      "text/plain": [
       "            id  chunk_id                                               text  \\\n",
       "0         1303         0  대신증권은 미국 정규시장이 열리기 2시간 30분 전부터 미국 주식을 거래할 수 있는...   \n",
       "1         1304         0                       [디지털뉴스국 news@mkinternet.com]   \n",
       "2         1309         0  코스피가 외국인이 대규모 순매수세를 보인 가운데 보합권에서 마감했다.\\n6일 코스피...   \n",
       "3         1309         1  시가총액 상위 종목들은 흐름이 엇갈렸다. LG화학이 6% 이상 뛰었고 셀트리온, 삼...   \n",
       "4         1310         0  롯데쇼핑은 올해 3분기 영업이익(연결 기준)이 1110억원으로 전년 동기대비 26....   \n",
       "...        ...       ...                                                ...   \n",
       "56849  1089862         0  [출처=카드고릴라]\\n카드사들이 연초부터 연일 신상품을 쏟아내고 있다. 새 카드로 ...   \n",
       "56850  1089862         1  가장 인기가 많은 카드사는 신한카드였다. 신한카드는 개별 상품페이지 관련 23%의 ...   \n",
       "56851  1089862         2  이용자들이 가장 많이 검색한 혜택은 교통(14.9%)이었다. 평균 사용 연령층이 더...   \n",
       "56852  1089862         3  따라서 올해에는 무실적, 또는 실적 조건이 낮아 사용 부담이 적으면서 모든 가맹점에...   \n",
       "56853  1089863         0  제 39차 부동산시장 점검 관계장관회의\\n홍남기 부총리 겸 기획재정부 장관이 23일...   \n",
       "\n",
       "                             filename  \n",
       "0      02100311.20201101100459001.txt  \n",
       "1      02100311.20201101100459001.txt  \n",
       "2      02100311.20201101102709001.txt  \n",
       "3      02100311.20201101102709001.txt  \n",
       "4      02100311.20201101103117001.txt  \n",
       "...                               ...  \n",
       "56849  02100851.20220223082114001.txt  \n",
       "56850  02100851.20220223082114001.txt  \n",
       "56851  02100851.20220223082114001.txt  \n",
       "56852  02100851.20220223082114001.txt  \n",
       "56853  02100851.20220223082114001.txt  \n",
       "\n",
       "[56854 rows x 4 columns]"
      ]
     },
     "execution_count": 3,
     "metadata": {},
     "output_type": "execute_result"
    }
   ],
   "source": [
    "filtered_data = eKonf.load_data(\"econ_news_filtered.parquet\", data_dir)\n",
    "filtered_data"
   ]
  },
  {
   "cell_type": "code",
   "execution_count": 4,
   "metadata": {},
   "outputs": [
    {
     "data": {
      "text/plain": [
       "'65년 역사를 자랑하는 버스 전문 제조업체 자일대우상용차가 내년 울산공장 재가동을 목표로 노사 협상을 이어가고 있다.\\n9일 자동차업계에 따르면 지난 7일 자일대우 노사는 교섭을 열고 정리해고 철회와 공장 정상화 방안에 대한 논의를 진행했다. 양측은 울산공장 재가동에 대해 공감대를 이뤘지만 생산인력 축소 등에서 의견 차를 좁히지 못한 것으로 전해졌다. 다만 이달 말까지 지속적으로 교섭을 이어가면서 공장 운영을 재개하기 위해 노력하기로 했다.\\n자일대우는 1955년 대우버스 전신인 신진공업사로 출발한 버스 전문업체다. 1987년 신진공업사의 부도로 대우그룹 품에 안겼지만 2002년 GM이 대우자동차를 매각하는 과정에서 분리돼 다음 해인 2003년 영안모자그룹에 인수됐다. 2018년 자일대우상용차로 사명을 변경하면서 65년 역사를 이어왔다. 자일대우는 한때 현대·기아자동차와 함께 국내 버스 시장을 양분했지만 최근 몇 년 새 내리막길을 걷고 있다. 한국자동차산업협회에 따르면 자일대우의 버스 판매량은 2013년 3903대로 정점을 찍은 뒤 2016년 2942대, 2018년 1991대 등으로 6년 새 반 토막 났다. 이 같은 경영 악화로 업계 안팎에서는 공장 폐쇄는 물론 해외 업체로의 공장 매각설까지 불거졌다. 이에 대해 자일대우 측은 \"울산공장과 관련해 중국 BYD를 포함한 어떠한 기업과도 인수, 매각 등과 관련한 협의를 진행한 바 없다\"며 \"BYD가 자일대우 울산공장을 실사한 바 없고, 회사는 직원들과 작은 규모라도 국내에서 생산을 유지하는 방안에 대해 지속적으로 협의하고 있다\"고 밝혔다.'"
      ]
     },
     "execution_count": 4,
     "metadata": {},
     "output_type": "execute_result"
    }
   ],
   "source": [
    "filtered_data.text[222]"
   ]
  },
  {
   "cell_type": "markdown",
   "metadata": {},
   "source": [
    "## Predicting polarities"
   ]
  },
  {
   "cell_type": "code",
   "execution_count": 8,
   "metadata": {},
   "outputs": [],
   "source": [
    "overrides=[\n",
    "    '+model/transformer=classification',\n",
    "    '+model/transformer/pretrained=ekonelectra-base',\n",
    "]\n",
    "model_cfg = eKonf.compose('model/transformer=classification', overrides)\n",
    "model_cfg.name = \"esg_polarity\"\n",
    "model_cfg.verbose = False\n",
    "model_cfg.config.num_train_epochs = 2\n",
    "model_cfg.config.max_seq_length = 256\n",
    "model_cfg.config.train_batch_size = 32\n",
    "model_cfg.config.eval_batch_size = 32\n"
   ]
  },
  {
   "cell_type": "code",
   "execution_count": 9,
   "metadata": {},
   "outputs": [
    {
     "name": "stderr",
     "output_type": "stream",
     "text": [
      "INFO:ekorpkit.base:Loaded .env from /workspace/projects/ekorpkit-book/config/.env\n",
      "INFO:ekorpkit.base:IPython version: (6, 9, 0), client: jupyter_client\n",
      "INFO:ekorpkit.io.file:Processing [1] files from ['econ_news_filtered.parquet']\n",
      "INFO:ekorpkit.io.file:Loading 1 dataframes from ['../data/econ_news_kr/econ_news_filtered.parquet']\n",
      "INFO:ekorpkit.io.file:Loading data from ../data/econ_news_kr/econ_news_filtered.parquet\n",
      "INFO:ekorpkit.pipelines.pipe:Applying pipeline: OrderedDict([('predict', 'predict')])\n",
      "INFO:ekorpkit.base:Applying pipe: functools.partial(<function predict at 0x7fcf1454b040>)\n",
      "INFO:ekorpkit.base:No method defined to call\n",
      "INFO:ekorpkit.models.transformer.simple:Loaded model from /workspace/projects/ekorpkit-book/outputs/esg_polarity/ekonelectra-base/best_model\n",
      "INFO:simpletransformers.classification.classification_model: Converting to features started. Cache is not used.\n",
      "INFO:simpletransformers.classification.classification_model: Sliding window enabled\n"
     ]
    },
    {
     "data": {
      "application/vnd.jupyter.widget-view+json": {
       "model_id": "4642f4b9cb4b473fad47e1e1a0822f4e",
       "version_major": 2,
       "version_minor": 0
      },
      "text/plain": [
       "  0%|          | 0/56854 [00:00<?, ?it/s]"
      ]
     },
     "metadata": {},
     "output_type": "display_data"
    },
    {
     "name": "stderr",
     "output_type": "stream",
     "text": [
      "Token indices sequence length is longer than the specified maximum sequence length for this model (543 > 512). Running this sequence through the model will result in indexing errors\n",
      "INFO:simpletransformers.classification.classification_model: 56854 features created from 56854 samples.\n"
     ]
    },
    {
     "data": {
      "application/vnd.jupyter.widget-view+json": {
       "model_id": "25bf59fb19814edc9ab027d80bf84a60",
       "version_major": 2,
       "version_minor": 0
      },
      "text/plain": [
       "  0%|          | 0/3387 [00:00<?, ?it/s]"
      ]
     },
     "metadata": {},
     "output_type": "display_data"
    },
    {
     "name": "stderr",
     "output_type": "stream",
     "text": [
      "INFO:ekorpkit.models.transformer.simple:type of raw_outputs: <class 'list'>\n",
      "INFO:ekorpkit.models.transformer.simple:raw_output: [-2.616201639175415, 1.3725110292434692, 1.5585768222808838]\n",
      "INFO:ekorpkit.pipelines.pipe:Saving data to: {'file': 'esg_polarities-preds.parquet', 'filename': 'esg_polarities-preds.parquet', 'base_dir': '../data/econ_news_kr', 'filetype': '', 'columns': None, 'suffix': None, 'filepath': '../data/econ_news_kr/esg_polarities-preds.parquet'}\n",
      "INFO:ekorpkit.io.file:Saving dataframe to ../data/econ_news_kr/esg_polarities-preds.parquet\n"
     ]
    },
    {
     "data": {
      "text/html": [
       "<div>\n",
       "<style scoped>\n",
       "    .dataframe tbody tr th:only-of-type {\n",
       "        vertical-align: middle;\n",
       "    }\n",
       "\n",
       "    .dataframe tbody tr th {\n",
       "        vertical-align: top;\n",
       "    }\n",
       "\n",
       "    .dataframe thead th {\n",
       "        text-align: right;\n",
       "    }\n",
       "</style>\n",
       "<table border=\"1\" class=\"dataframe\">\n",
       "  <thead>\n",
       "    <tr style=\"text-align: right;\">\n",
       "      <th></th>\n",
       "      <th>id</th>\n",
       "      <th>chunk_id</th>\n",
       "      <th>text</th>\n",
       "      <th>filename</th>\n",
       "      <th>pred_labels</th>\n",
       "      <th>raw_preds</th>\n",
       "      <th>pred_probs</th>\n",
       "    </tr>\n",
       "  </thead>\n",
       "  <tbody>\n",
       "    <tr>\n",
       "      <th>0</th>\n",
       "      <td>1303</td>\n",
       "      <td>0</td>\n",
       "      <td>대신증권은 미국 정규시장이 열리기 2시간 30분 전부터 미국 주식을 거래할 수 있는...</td>\n",
       "      <td>02100311.20201101100459001.txt</td>\n",
       "      <td>Positive</td>\n",
       "      <td>[-2.616201639175415, 1.3725110292434692, 1.558...</td>\n",
       "      <td>0.541830</td>\n",
       "    </tr>\n",
       "    <tr>\n",
       "      <th>1</th>\n",
       "      <td>1304</td>\n",
       "      <td>0</td>\n",
       "      <td>[디지털뉴스국 news@mkinternet.com]</td>\n",
       "      <td>02100311.20201101100459001.txt</td>\n",
       "      <td>Neutral</td>\n",
       "      <td>[-1.743383765220642, 3.050320625305176, -0.924...</td>\n",
       "      <td>0.973645</td>\n",
       "    </tr>\n",
       "    <tr>\n",
       "      <th>2</th>\n",
       "      <td>1309</td>\n",
       "      <td>0</td>\n",
       "      <td>코스피가 외국인이 대규모 순매수세를 보인 가운데 보합권에서 마감했다.\\n6일 코스피...</td>\n",
       "      <td>02100311.20201101102709001.txt</td>\n",
       "      <td>Neutral</td>\n",
       "      <td>[-1.7145445346832275, 2.7398393154144287, -0.6...</td>\n",
       "      <td>0.401355</td>\n",
       "    </tr>\n",
       "    <tr>\n",
       "      <th>3</th>\n",
       "      <td>1309</td>\n",
       "      <td>1</td>\n",
       "      <td>시가총액 상위 종목들은 흐름이 엇갈렸다. LG화학이 6% 이상 뛰었고 셀트리온, 삼...</td>\n",
       "      <td>02100311.20201101102709001.txt</td>\n",
       "      <td>Neutral</td>\n",
       "      <td>[-1.3195880651474, 2.872457504272461, -1.18959...</td>\n",
       "      <td>0.968683</td>\n",
       "    </tr>\n",
       "    <tr>\n",
       "      <th>4</th>\n",
       "      <td>1310</td>\n",
       "      <td>0</td>\n",
       "      <td>롯데쇼핑은 올해 3분기 영업이익(연결 기준)이 1110억원으로 전년 동기대비 26....</td>\n",
       "      <td>02100311.20201101103117001.txt</td>\n",
       "      <td>Neutral</td>\n",
       "      <td>[-2.1306374073028564, 2.276362419128418, 0.191...</td>\n",
       "      <td>0.879886</td>\n",
       "    </tr>\n",
       "  </tbody>\n",
       "</table>\n",
       "</div>"
      ],
      "text/plain": [
       "     id  chunk_id                                               text  \\\n",
       "0  1303         0  대신증권은 미국 정규시장이 열리기 2시간 30분 전부터 미국 주식을 거래할 수 있는...   \n",
       "1  1304         0                       [디지털뉴스국 news@mkinternet.com]   \n",
       "2  1309         0  코스피가 외국인이 대규모 순매수세를 보인 가운데 보합권에서 마감했다.\\n6일 코스피...   \n",
       "3  1309         1  시가총액 상위 종목들은 흐름이 엇갈렸다. LG화학이 6% 이상 뛰었고 셀트리온, 삼...   \n",
       "4  1310         0  롯데쇼핑은 올해 3분기 영업이익(연결 기준)이 1110억원으로 전년 동기대비 26....   \n",
       "\n",
       "                         filename pred_labels  \\\n",
       "0  02100311.20201101100459001.txt    Positive   \n",
       "1  02100311.20201101100459001.txt     Neutral   \n",
       "2  02100311.20201101102709001.txt     Neutral   \n",
       "3  02100311.20201101102709001.txt     Neutral   \n",
       "4  02100311.20201101103117001.txt     Neutral   \n",
       "\n",
       "                                           raw_preds  pred_probs  \n",
       "0  [-2.616201639175415, 1.3725110292434692, 1.558...    0.541830  \n",
       "1  [-1.743383765220642, 3.050320625305176, -0.924...    0.973645  \n",
       "2  [-1.7145445346832275, 2.7398393154144287, -0.6...    0.401355  \n",
       "3  [-1.3195880651474, 2.872457504272461, -1.18959...    0.968683  \n",
       "4  [-2.1306374073028564, 2.276362419128418, 0.191...    0.879886  "
      ]
     },
     "execution_count": 9,
     "metadata": {},
     "output_type": "execute_result"
    }
   ],
   "source": [
    "cfg = eKonf.compose(config_group='pipeline')\n",
    "cfg.name = 'esg_polarities'\n",
    "cfg.data_dir = data_dir\n",
    "cfg.data_file = 'econ_news_filtered.parquet'\n",
    "cfg._pipeline_ = ['predict']\n",
    "cfg.predict.model = model_cfg\n",
    "cfg.predict.output_dir = data_dir\n",
    "cfg.predict.output_file = f'{cfg.name}-preds.parquet'\n",
    "cfg.num_workers = 1\n",
    "preds_df = eKonf.instantiate(cfg)\n",
    "preds_df.head()"
   ]
  },
  {
   "cell_type": "code",
   "execution_count": 16,
   "metadata": {},
   "outputs": [],
   "source": [
    "xls_path = eKonf.join_path(data_dir, \"esg_polarities-preds.xlsx\")\n",
    "preds_df.to_excel(xls_path)\n"
   ]
  },
  {
   "cell_type": "markdown",
   "metadata": {},
   "source": [
    "## Predicting categories"
   ]
  },
  {
   "cell_type": "code",
   "execution_count": 11,
   "metadata": {},
   "outputs": [],
   "source": [
    "overrides=[\n",
    "    '+model/transformer=classification',\n",
    "    '+model/transformer/pretrained=ekonelectra-base',\n",
    "]\n",
    "model_cfg = eKonf.compose('model/transformer=classification', overrides)\n",
    "model_cfg.name = \"esg_topics\"\n",
    "model_cfg.verbose = False\n",
    "model_cfg.config.num_train_epochs = 2\n",
    "model_cfg.config.max_seq_length = 256\n",
    "model_cfg.config.train_batch_size = 32\n",
    "model_cfg.config.eval_batch_size = 32\n"
   ]
  },
  {
   "cell_type": "code",
   "execution_count": 12,
   "metadata": {},
   "outputs": [
    {
     "name": "stderr",
     "output_type": "stream",
     "text": [
      "INFO:ekorpkit.io.file:Processing [1] files from ['econ_news_filtered.parquet']\n",
      "INFO:ekorpkit.io.file:Loading 1 dataframes from ['../data/econ_news_kr/econ_news_filtered.parquet']\n",
      "INFO:ekorpkit.io.file:Loading data from ../data/econ_news_kr/econ_news_filtered.parquet\n",
      "INFO:ekorpkit.pipelines.pipe:Applying pipeline: OrderedDict([('predict', 'predict')])\n",
      "INFO:ekorpkit.base:Applying pipe: functools.partial(<function predict at 0x7fcf1454b040>)\n",
      "INFO:ekorpkit.base:No method defined to call\n",
      "INFO:ekorpkit.models.transformer.simple:Loaded model from /workspace/projects/ekorpkit-book/outputs/esg_topics/ekonelectra-base/best_model\n",
      "INFO:simpletransformers.classification.classification_model: Converting to features started. Cache is not used.\n",
      "INFO:simpletransformers.classification.classification_model: Sliding window enabled\n"
     ]
    },
    {
     "data": {
      "application/vnd.jupyter.widget-view+json": {
       "model_id": "186fe647a23c4786a5463208a3d1c20f",
       "version_major": 2,
       "version_minor": 0
      },
      "text/plain": [
       "  0%|          | 0/56854 [00:00<?, ?it/s]"
      ]
     },
     "metadata": {},
     "output_type": "display_data"
    },
    {
     "name": "stderr",
     "output_type": "stream",
     "text": [
      "Token indices sequence length is longer than the specified maximum sequence length for this model (543 > 512). Running this sequence through the model will result in indexing errors\n",
      "INFO:simpletransformers.classification.classification_model: 56854 features created from 56854 samples.\n"
     ]
    },
    {
     "data": {
      "application/vnd.jupyter.widget-view+json": {
       "model_id": "eaef08a6649849c287e09cff81fd9057",
       "version_major": 2,
       "version_minor": 0
      },
      "text/plain": [
       "  0%|          | 0/3387 [00:00<?, ?it/s]"
      ]
     },
     "metadata": {},
     "output_type": "display_data"
    },
    {
     "name": "stderr",
     "output_type": "stream",
     "text": [
      "INFO:ekorpkit.models.transformer.simple:type of raw_outputs: <class 'list'>\n",
      "INFO:ekorpkit.models.transformer.simple:raw_output: [-0.3635081648826599, 0.37070703506469727, -0.0803101435303688, 1.6292757987976074, 3.845372438430786, -1.571161150932312, -1.3662763833999634, 2.5274786949157715, -0.5879923701286316, -0.42675259709358215, -0.8758111596107483, -1.8513715267181396, 0.061824191361665726, 0.6198759078979492, -1.7138009071350098, -1.8754594326019287]\n",
      "INFO:ekorpkit.pipelines.pipe:Saving data to: {'file': 'esg_categories-preds.parquet', 'filename': 'esg_categories-preds.parquet', 'base_dir': '../data/econ_news_kr', 'filetype': '', 'columns': None, 'suffix': None, 'filepath': '../data/econ_news_kr/esg_categories-preds.parquet'}\n",
      "INFO:ekorpkit.io.file:Saving dataframe to ../data/econ_news_kr/esg_categories-preds.parquet\n"
     ]
    },
    {
     "data": {
      "text/html": [
       "<div>\n",
       "<style scoped>\n",
       "    .dataframe tbody tr th:only-of-type {\n",
       "        vertical-align: middle;\n",
       "    }\n",
       "\n",
       "    .dataframe tbody tr th {\n",
       "        vertical-align: top;\n",
       "    }\n",
       "\n",
       "    .dataframe thead th {\n",
       "        text-align: right;\n",
       "    }\n",
       "</style>\n",
       "<table border=\"1\" class=\"dataframe\">\n",
       "  <thead>\n",
       "    <tr style=\"text-align: right;\">\n",
       "      <th></th>\n",
       "      <th>id</th>\n",
       "      <th>chunk_id</th>\n",
       "      <th>text</th>\n",
       "      <th>filename</th>\n",
       "      <th>pred_labels</th>\n",
       "      <th>raw_preds</th>\n",
       "      <th>pred_probs</th>\n",
       "    </tr>\n",
       "  </thead>\n",
       "  <tbody>\n",
       "    <tr>\n",
       "      <th>0</th>\n",
       "      <td>1303</td>\n",
       "      <td>0</td>\n",
       "      <td>대신증권은 미국 정규시장이 열리기 2시간 30분 전부터 미국 주식을 거래할 수 있는...</td>\n",
       "      <td>02100311.20201101100459001.txt</td>\n",
       "      <td>S-소비자</td>\n",
       "      <td>[-0.3635081648826599, 0.37070703506469727, -0....</td>\n",
       "      <td>0.641072</td>\n",
       "    </tr>\n",
       "    <tr>\n",
       "      <th>1</th>\n",
       "      <td>1304</td>\n",
       "      <td>0</td>\n",
       "      <td>[디지털뉴스국 news@mkinternet.com]</td>\n",
       "      <td>02100311.20201101100459001.txt</td>\n",
       "      <td>S-소비자</td>\n",
       "      <td>[-0.1256369799375534, 0.20957696437835693, 0.0...</td>\n",
       "      <td>0.506109</td>\n",
       "    </tr>\n",
       "    <tr>\n",
       "      <th>2</th>\n",
       "      <td>1309</td>\n",
       "      <td>0</td>\n",
       "      <td>코스피가 외국인이 대규모 순매수세를 보인 가운데 보합권에서 마감했다.\\n6일 코스피...</td>\n",
       "      <td>02100311.20201101102709001.txt</td>\n",
       "      <td>G-주주환원</td>\n",
       "      <td>[-0.8959301710128784, 1.594657301902771, -0.44...</td>\n",
       "      <td>0.346036</td>\n",
       "    </tr>\n",
       "    <tr>\n",
       "      <th>3</th>\n",
       "      <td>1309</td>\n",
       "      <td>1</td>\n",
       "      <td>시가총액 상위 종목들은 흐름이 엇갈렸다. LG화학이 6% 이상 뛰었고 셀트리온, 삼...</td>\n",
       "      <td>02100311.20201101102709001.txt</td>\n",
       "      <td>G-주주환원</td>\n",
       "      <td>[-0.9104948043823242, 1.5245412588119507, -0.5...</td>\n",
       "      <td>0.853084</td>\n",
       "    </tr>\n",
       "    <tr>\n",
       "      <th>4</th>\n",
       "      <td>1310</td>\n",
       "      <td>0</td>\n",
       "      <td>롯데쇼핑은 올해 3분기 영업이익(연결 기준)이 1110억원으로 전년 동기대비 26....</td>\n",
       "      <td>02100311.20201101103117001.txt</td>\n",
       "      <td>G-주주환원</td>\n",
       "      <td>[-0.9264926910400391, 1.6014995574951172, -0.6...</td>\n",
       "      <td>0.875771</td>\n",
       "    </tr>\n",
       "  </tbody>\n",
       "</table>\n",
       "</div>"
      ],
      "text/plain": [
       "     id  chunk_id                                               text  \\\n",
       "0  1303         0  대신증권은 미국 정규시장이 열리기 2시간 30분 전부터 미국 주식을 거래할 수 있는...   \n",
       "1  1304         0                       [디지털뉴스국 news@mkinternet.com]   \n",
       "2  1309         0  코스피가 외국인이 대규모 순매수세를 보인 가운데 보합권에서 마감했다.\\n6일 코스피...   \n",
       "3  1309         1  시가총액 상위 종목들은 흐름이 엇갈렸다. LG화학이 6% 이상 뛰었고 셀트리온, 삼...   \n",
       "4  1310         0  롯데쇼핑은 올해 3분기 영업이익(연결 기준)이 1110억원으로 전년 동기대비 26....   \n",
       "\n",
       "                         filename pred_labels  \\\n",
       "0  02100311.20201101100459001.txt       S-소비자   \n",
       "1  02100311.20201101100459001.txt       S-소비자   \n",
       "2  02100311.20201101102709001.txt      G-주주환원   \n",
       "3  02100311.20201101102709001.txt      G-주주환원   \n",
       "4  02100311.20201101103117001.txt      G-주주환원   \n",
       "\n",
       "                                           raw_preds  pred_probs  \n",
       "0  [-0.3635081648826599, 0.37070703506469727, -0....    0.641072  \n",
       "1  [-0.1256369799375534, 0.20957696437835693, 0.0...    0.506109  \n",
       "2  [-0.8959301710128784, 1.594657301902771, -0.44...    0.346036  \n",
       "3  [-0.9104948043823242, 1.5245412588119507, -0.5...    0.853084  \n",
       "4  [-0.9264926910400391, 1.6014995574951172, -0.6...    0.875771  "
      ]
     },
     "execution_count": 12,
     "metadata": {},
     "output_type": "execute_result"
    }
   ],
   "source": [
    "cfg = eKonf.compose(config_group='pipeline')\n",
    "cfg.name = 'esg_categories'\n",
    "cfg.data_dir = data_dir\n",
    "cfg.data_file = 'econ_news_filtered.parquet'\n",
    "cfg._pipeline_ = ['predict']\n",
    "cfg.predict.model = model_cfg\n",
    "cfg.predict.output_dir = data_dir\n",
    "cfg.predict.output_file = f'{cfg.name}-preds.parquet'\n",
    "cfg.num_workers = 1\n",
    "cat_preds_df = eKonf.instantiate(cfg)\n",
    "cat_preds_df.head()"
   ]
  },
  {
   "cell_type": "code",
   "execution_count": 15,
   "metadata": {},
   "outputs": [],
   "source": [
    "xls_path = eKonf.join_path(data_dir, \"esg_categories-preds.xlsx\")\n",
    "cat_preds_df.to_excel(xls_path)\n"
   ]
  },
  {
   "cell_type": "code",
   "execution_count": 19,
   "metadata": {},
   "outputs": [
    {
     "data": {
      "text/html": [
       "<div>\n",
       "<style scoped>\n",
       "    .dataframe tbody tr th:only-of-type {\n",
       "        vertical-align: middle;\n",
       "    }\n",
       "\n",
       "    .dataframe tbody tr th {\n",
       "        vertical-align: top;\n",
       "    }\n",
       "\n",
       "    .dataframe thead th {\n",
       "        text-align: right;\n",
       "    }\n",
       "</style>\n",
       "<table border=\"1\" class=\"dataframe\">\n",
       "  <thead>\n",
       "    <tr style=\"text-align: right;\">\n",
       "      <th></th>\n",
       "      <th>id</th>\n",
       "      <th>chunk_id</th>\n",
       "      <th>text</th>\n",
       "      <th>filename</th>\n",
       "      <th>pred_labels</th>\n",
       "      <th>raw_preds</th>\n",
       "      <th>pred_probs</th>\n",
       "    </tr>\n",
       "  </thead>\n",
       "  <tbody>\n",
       "    <tr>\n",
       "      <th>0</th>\n",
       "      <td>1303</td>\n",
       "      <td>0</td>\n",
       "      <td>대신증권은 미국 정규시장이 열리기 2시간 30분 전부터 미국 주식을 거래할 수 있는...</td>\n",
       "      <td>02100311.20201101100459001.txt</td>\n",
       "      <td>S-소비자</td>\n",
       "      <td>[-0.3635081648826599, 0.37070703506469727, -0....</td>\n",
       "      <td>0.641072</td>\n",
       "    </tr>\n",
       "    <tr>\n",
       "      <th>1</th>\n",
       "      <td>1304</td>\n",
       "      <td>0</td>\n",
       "      <td>[디지털뉴스국 news@mkinternet.com]</td>\n",
       "      <td>02100311.20201101100459001.txt</td>\n",
       "      <td>S-소비자</td>\n",
       "      <td>[-0.1256369799375534, 0.20957696437835693, 0.0...</td>\n",
       "      <td>0.506109</td>\n",
       "    </tr>\n",
       "    <tr>\n",
       "      <th>2</th>\n",
       "      <td>1309</td>\n",
       "      <td>0</td>\n",
       "      <td>코스피가 외국인이 대규모 순매수세를 보인 가운데 보합권에서 마감했다.\\n6일 코스피...</td>\n",
       "      <td>02100311.20201101102709001.txt</td>\n",
       "      <td>G-주주환원</td>\n",
       "      <td>[-0.8959301710128784, 1.594657301902771, -0.44...</td>\n",
       "      <td>0.346036</td>\n",
       "    </tr>\n",
       "    <tr>\n",
       "      <th>3</th>\n",
       "      <td>1309</td>\n",
       "      <td>1</td>\n",
       "      <td>시가총액 상위 종목들은 흐름이 엇갈렸다. LG화학이 6% 이상 뛰었고 셀트리온, 삼...</td>\n",
       "      <td>02100311.20201101102709001.txt</td>\n",
       "      <td>G-주주환원</td>\n",
       "      <td>[-0.9104948043823242, 1.5245412588119507, -0.5...</td>\n",
       "      <td>0.853084</td>\n",
       "    </tr>\n",
       "    <tr>\n",
       "      <th>4</th>\n",
       "      <td>1310</td>\n",
       "      <td>0</td>\n",
       "      <td>롯데쇼핑은 올해 3분기 영업이익(연결 기준)이 1110억원으로 전년 동기대비 26....</td>\n",
       "      <td>02100311.20201101103117001.txt</td>\n",
       "      <td>G-주주환원</td>\n",
       "      <td>[-0.9264926910400391, 1.6014995574951172, -0.6...</td>\n",
       "      <td>0.875771</td>\n",
       "    </tr>\n",
       "    <tr>\n",
       "      <th>...</th>\n",
       "      <td>...</td>\n",
       "      <td>...</td>\n",
       "      <td>...</td>\n",
       "      <td>...</td>\n",
       "      <td>...</td>\n",
       "      <td>...</td>\n",
       "      <td>...</td>\n",
       "    </tr>\n",
       "    <tr>\n",
       "      <th>56849</th>\n",
       "      <td>1089862</td>\n",
       "      <td>0</td>\n",
       "      <td>[출처=카드고릴라]\\n카드사들이 연초부터 연일 신상품을 쏟아내고 있다. 새 카드로 ...</td>\n",
       "      <td>02100851.20220223082114001.txt</td>\n",
       "      <td>S-소비자</td>\n",
       "      <td>[-0.22719579935073853, 0.01108001358807087, 0....</td>\n",
       "      <td>0.322013</td>\n",
       "    </tr>\n",
       "    <tr>\n",
       "      <th>56850</th>\n",
       "      <td>1089862</td>\n",
       "      <td>1</td>\n",
       "      <td>가장 인기가 많은 카드사는 신한카드였다. 신한카드는 개별 상품페이지 관련 23%의 ...</td>\n",
       "      <td>02100851.20220223082114001.txt</td>\n",
       "      <td>S-소비자</td>\n",
       "      <td>[-0.4069870114326477, 0.3556715250015259, 0.29...</td>\n",
       "      <td>0.396827</td>\n",
       "    </tr>\n",
       "    <tr>\n",
       "      <th>56851</th>\n",
       "      <td>1089862</td>\n",
       "      <td>2</td>\n",
       "      <td>이용자들이 가장 많이 검색한 혜택은 교통(14.9%)이었다. 평균 사용 연령층이 더...</td>\n",
       "      <td>02100851.20220223082114001.txt</td>\n",
       "      <td>S-소비자</td>\n",
       "      <td>[-0.2538611888885498, 0.12173940986394882, 0.1...</td>\n",
       "      <td>0.406933</td>\n",
       "    </tr>\n",
       "    <tr>\n",
       "      <th>56852</th>\n",
       "      <td>1089862</td>\n",
       "      <td>3</td>\n",
       "      <td>따라서 올해에는 무실적, 또는 실적 조건이 낮아 사용 부담이 적으면서 모든 가맹점에...</td>\n",
       "      <td>02100851.20220223082114001.txt</td>\n",
       "      <td>S-소비자</td>\n",
       "      <td>[-0.3447725772857666, 0.5259126424789429, 0.19...</td>\n",
       "      <td>0.784171</td>\n",
       "    </tr>\n",
       "    <tr>\n",
       "      <th>56853</th>\n",
       "      <td>1089863</td>\n",
       "      <td>0</td>\n",
       "      <td>제 39차 부동산시장 점검 관계장관회의\\n홍남기 부총리 겸 기획재정부 장관이 23일...</td>\n",
       "      <td>02100851.20220223082114001.txt</td>\n",
       "      <td>S-소비자</td>\n",
       "      <td>[0.4430272877216339, 0.10475224256515503, 1.87...</td>\n",
       "      <td>0.296401</td>\n",
       "    </tr>\n",
       "  </tbody>\n",
       "</table>\n",
       "<p>56854 rows × 7 columns</p>\n",
       "</div>"
      ],
      "text/plain": [
       "            id  chunk_id                                               text  \\\n",
       "0         1303         0  대신증권은 미국 정규시장이 열리기 2시간 30분 전부터 미국 주식을 거래할 수 있는...   \n",
       "1         1304         0                       [디지털뉴스국 news@mkinternet.com]   \n",
       "2         1309         0  코스피가 외국인이 대규모 순매수세를 보인 가운데 보합권에서 마감했다.\\n6일 코스피...   \n",
       "3         1309         1  시가총액 상위 종목들은 흐름이 엇갈렸다. LG화학이 6% 이상 뛰었고 셀트리온, 삼...   \n",
       "4         1310         0  롯데쇼핑은 올해 3분기 영업이익(연결 기준)이 1110억원으로 전년 동기대비 26....   \n",
       "...        ...       ...                                                ...   \n",
       "56849  1089862         0  [출처=카드고릴라]\\n카드사들이 연초부터 연일 신상품을 쏟아내고 있다. 새 카드로 ...   \n",
       "56850  1089862         1  가장 인기가 많은 카드사는 신한카드였다. 신한카드는 개별 상품페이지 관련 23%의 ...   \n",
       "56851  1089862         2  이용자들이 가장 많이 검색한 혜택은 교통(14.9%)이었다. 평균 사용 연령층이 더...   \n",
       "56852  1089862         3  따라서 올해에는 무실적, 또는 실적 조건이 낮아 사용 부담이 적으면서 모든 가맹점에...   \n",
       "56853  1089863         0  제 39차 부동산시장 점검 관계장관회의\\n홍남기 부총리 겸 기획재정부 장관이 23일...   \n",
       "\n",
       "                             filename pred_labels  \\\n",
       "0      02100311.20201101100459001.txt       S-소비자   \n",
       "1      02100311.20201101100459001.txt       S-소비자   \n",
       "2      02100311.20201101102709001.txt      G-주주환원   \n",
       "3      02100311.20201101102709001.txt      G-주주환원   \n",
       "4      02100311.20201101103117001.txt      G-주주환원   \n",
       "...                               ...         ...   \n",
       "56849  02100851.20220223082114001.txt       S-소비자   \n",
       "56850  02100851.20220223082114001.txt       S-소비자   \n",
       "56851  02100851.20220223082114001.txt       S-소비자   \n",
       "56852  02100851.20220223082114001.txt       S-소비자   \n",
       "56853  02100851.20220223082114001.txt       S-소비자   \n",
       "\n",
       "                                               raw_preds  pred_probs  \n",
       "0      [-0.3635081648826599, 0.37070703506469727, -0....    0.641072  \n",
       "1      [-0.1256369799375534, 0.20957696437835693, 0.0...    0.506109  \n",
       "2      [-0.8959301710128784, 1.594657301902771, -0.44...    0.346036  \n",
       "3      [-0.9104948043823242, 1.5245412588119507, -0.5...    0.853084  \n",
       "4      [-0.9264926910400391, 1.6014995574951172, -0.6...    0.875771  \n",
       "...                                                  ...         ...  \n",
       "56849  [-0.22719579935073853, 0.01108001358807087, 0....    0.322013  \n",
       "56850  [-0.4069870114326477, 0.3556715250015259, 0.29...    0.396827  \n",
       "56851  [-0.2538611888885498, 0.12173940986394882, 0.1...    0.406933  \n",
       "56852  [-0.3447725772857666, 0.5259126424789429, 0.19...    0.784171  \n",
       "56853  [0.4430272877216339, 0.10475224256515503, 1.87...    0.296401  \n",
       "\n",
       "[56854 rows x 7 columns]"
      ]
     },
     "execution_count": 19,
     "metadata": {},
     "output_type": "execute_result"
    }
   ],
   "source": [
    "cat_preds_df"
   ]
  },
  {
   "cell_type": "code",
   "execution_count": null,
   "metadata": {},
   "outputs": [],
   "source": []
  }
 ],
 "metadata": {
  "colab": {
   "name": "corpus.ipynb",
   "provenance": []
  },
  "interpreter": {
   "hash": "f869af7787e6a1c49e09e367fc6e1b81d93d1c6583b43249c80edc047bd13cb2"
  },
  "kernelspec": {
   "display_name": "Python 3 (ipykernel)",
   "language": "python",
   "name": "python3"
  },
  "language_info": {
   "codemirror_mode": {
    "name": "ipython",
    "version": 3
   },
   "file_extension": ".py",
   "mimetype": "text/x-python",
   "name": "python",
   "nbconvert_exporter": "python",
   "pygments_lexer": "ipython3",
   "version": "3.8.12"
  },
  "widgets": {
   "application/vnd.jupyter.widget-state+json": {
    "state": {},
    "version_major": 2,
    "version_minor": 0
   }
  }
 },
 "nbformat": 4,
 "nbformat_minor": 4
}
