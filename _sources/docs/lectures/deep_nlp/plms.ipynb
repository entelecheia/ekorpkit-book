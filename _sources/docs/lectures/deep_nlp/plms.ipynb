{
 "cells": [
  {
   "cell_type": "markdown",
   "id": "cfdc61fb",
   "metadata": {},
   "source": [
    "# Pre-trained Language Models\n",
    "\n",
    "![](../figs/deep_nlp/plms/plm.png)"
   ]
  },
  {
   "cell_type": "markdown",
   "id": "66d50cc3",
   "metadata": {},
   "source": [
    "There are various transformer-based pre-trained language models (PLMs) available. The most popular ones are BERT, GPT-2, and XLNet.\n",
    "\n",
    "The transformer architecture consist of two parts: the encoder and the decoder. The encoder is used to encode the input sequence into a vector representation. The decoder is used to decode the vector representation into the output sequence. \n",
    "\n",
    "We can classify PLMs into three categories based on the usage of the encoder and the decoder:\n",
    "\n",
    "- **Encoder-only PLMs** (e.g. BERT, RoBERTa, DistilBERT, ALBERT, ELECTRA, etc.) are used to encode the input sequence into a vector representation. The decoder is not used. The vector representation is used as the input to the downstream task. For example, the vector representation can be used as the input to a classifier to perform text classification.\n",
    "- **Decoder-only PLMs** (e.g. GPT-2, CTRL, etc.) are used to decode the vector representation into the output sequence. The encoder is not used. The vector representation is used as the input to the decoder. For example, the vector representation can be used as the input to the decoder to generate a text.\n",
    "- **Encoder-decoder PLMs** (e.g. T5, BART, MASS, etc.) are used to encode the input sequence into a vector representation and decode the vector representation into the output sequence. The encoder's representation conditions the decoder's output. For example, the vector representation can be used as the input to the decoder to generate a text. Tasks such as summarization and translation are examples of encoder-decoder PLMs.\n",
    "\n"
   ]
  },
  {
   "cell_type": "markdown",
   "id": "9583da00",
   "metadata": {},
   "source": []
  }
 ],
 "metadata": {
  "kernelspec": {
   "display_name": "Python 3.8.5 ('base')",
   "language": "python",
   "name": "python3"
  },
  "language_info": {
   "name": "python",
   "version": "3.8.12"
  },
  "vscode": {
   "interpreter": {
    "hash": "d4d1e4263499bec80672ea0156c357c1ee493ec2b1c70f0acce89fc37c4a6abe"
   }
  }
 },
 "nbformat": 4,
 "nbformat_minor": 5
}
