{
 "cells": [
  {
   "cell_type": "markdown",
   "metadata": {
    "id": "PfSMqenAwpKI",
    "pycharm": {
     "name": "#%% md\n"
    }
   },
   "source": [
    "# Improving classification datasets"
   ]
  },
  {
   "cell_type": "code",
   "execution_count": 1,
   "metadata": {
    "id": "gN8kk98Rwuzs",
    "pycharm": {
     "name": "#%%\n"
    }
   },
   "outputs": [
    {
     "name": "stdout",
     "output_type": "stream",
     "text": [
      "version: 0.1.38+26.g3d56094.dirty\n",
      "is notebook? True\n",
      "is colab? False\n",
      "environment variables:\n",
      "{'CUDA_DEVICE_ORDER': None,\n",
      " 'CUDA_VISIBLE_DEVICES': None,\n",
      " 'EKORPKIT_CONFIG_DIR': '/workspace/projects/ekorpkit-book/config',\n",
      " 'EKORPKIT_DATA_DIR': None,\n",
      " 'EKORPKIT_LOG_LEVEL': 'WARNING',\n",
      " 'EKORPKIT_PROJECT': 'ekorpkit-book',\n",
      " 'EKORPKIT_WORKSPACE_ROOT': '/workspace',\n",
      " 'KMP_DUPLICATE_LIB_OK': 'TRUE',\n",
      " 'NUM_WORKERS': 230}\n"
     ]
    }
   ],
   "source": [
    "%config InlineBackend.figure_format='retina'\n",
    "from ekorpkit import eKonf\n",
    "\n",
    "eKonf.setLogger(\"WARNING\")\n",
    "print(\"version:\", eKonf.__version__)\n",
    "print(\"is notebook?\", eKonf.is_notebook())\n",
    "print(\"is colab?\", eKonf.is_colab())\n",
    "print(\"environment variables:\")\n",
    "eKonf.print(eKonf.env().dict())"
   ]
  },
  {
   "cell_type": "code",
   "execution_count": 2,
   "metadata": {
    "pycharm": {
     "name": "#%%\n"
    },
    "tags": [
     "hide-cell"
    ]
   },
   "outputs": [],
   "source": [
    "data_dir = \"../data/cointax\""
   ]
  },
  {
   "cell_type": "markdown",
   "metadata": {
    "pycharm": {
     "name": "#%% md\n"
    }
   },
   "source": [
    "## Building `cointax_polarity` dataset"
   ]
  },
  {
   "cell_type": "code",
   "execution_count": 3,
   "metadata": {},
   "outputs": [
    {
     "name": "stdout",
     "output_type": "stream",
     "text": [
      "<class 'pandas.core.frame.DataFrame'>\n",
      "RangeIndex: 714 entries, 0 to 713\n",
      "Data columns (total 2 columns):\n",
      " #   Column  Non-Null Count  Dtype \n",
      "---  ------  --------------  ----- \n",
      " 0   긍정      478 non-null    object\n",
      " 1   부정      236 non-null    object\n",
      "dtypes: object(2)\n",
      "memory usage: 11.3+ KB\n"
     ]
    }
   ],
   "source": [
    "raw_data = eKonf.load_data(\"cointax.csv\", data_dir)\n",
    "raw_data.info()"
   ]
  },
  {
   "cell_type": "code",
   "execution_count": 4,
   "metadata": {},
   "outputs": [
    {
     "data": {
      "text/html": [
       "<div>\n",
       "<style scoped>\n",
       "    .dataframe tbody tr th:only-of-type {\n",
       "        vertical-align: middle;\n",
       "    }\n",
       "\n",
       "    .dataframe tbody tr th {\n",
       "        vertical-align: top;\n",
       "    }\n",
       "\n",
       "    .dataframe thead th {\n",
       "        text-align: right;\n",
       "    }\n",
       "</style>\n",
       "<table border=\"1\" class=\"dataframe\">\n",
       "  <thead>\n",
       "    <tr style=\"text-align: right;\">\n",
       "      <th></th>\n",
       "      <th>text</th>\n",
       "      <th>labels</th>\n",
       "    </tr>\n",
       "  </thead>\n",
       "  <tbody>\n",
       "    <tr>\n",
       "      <th>0</th>\n",
       "      <td>가상자산을 안해서</td>\n",
       "      <td>긍정</td>\n",
       "    </tr>\n",
       "    <tr>\n",
       "      <th>1</th>\n",
       "      <td>기타 자산과 동일하게 적용</td>\n",
       "      <td>긍정</td>\n",
       "    </tr>\n",
       "    <tr>\n",
       "      <th>2</th>\n",
       "      <td>그냥 저냥</td>\n",
       "      <td>긍정</td>\n",
       "    </tr>\n",
       "    <tr>\n",
       "      <th>3</th>\n",
       "      <td>부당이익에 대한 해소</td>\n",
       "      <td>긍정</td>\n",
       "    </tr>\n",
       "    <tr>\n",
       "      <th>4</th>\n",
       "      <td>땀흘려 일하지 않고 쉽게 돈 벌려는 사회적인 풍토를 근절해야 된다고 생각해서</td>\n",
       "      <td>긍정</td>\n",
       "    </tr>\n",
       "    <tr>\n",
       "      <th>...</th>\n",
       "      <td>...</td>\n",
       "      <td>...</td>\n",
       "    </tr>\n",
       "    <tr>\n",
       "      <th>709</th>\n",
       "      <td>소득과세가 너누 높다</td>\n",
       "      <td>부정</td>\n",
       "    </tr>\n",
       "    <tr>\n",
       "      <th>710</th>\n",
       "      <td>주식 거래세 수수료보다도 너무 높다고 생각하기에</td>\n",
       "      <td>부정</td>\n",
       "    </tr>\n",
       "    <tr>\n",
       "      <th>711</th>\n",
       "      <td>너무 심하다고 생각</td>\n",
       "      <td>부정</td>\n",
       "    </tr>\n",
       "    <tr>\n",
       "      <th>712</th>\n",
       "      <td>......</td>\n",
       "      <td>부정</td>\n",
       "    </tr>\n",
       "    <tr>\n",
       "      <th>713</th>\n",
       "      <td>수익의 20%는 너무 많다고 생각한다</td>\n",
       "      <td>부정</td>\n",
       "    </tr>\n",
       "  </tbody>\n",
       "</table>\n",
       "<p>714 rows × 2 columns</p>\n",
       "</div>"
      ],
      "text/plain": [
       "                                           text labels\n",
       "0                                     가상자산을 안해서     긍정\n",
       "1                                기타 자산과 동일하게 적용     긍정\n",
       "2                                         그냥 저냥     긍정\n",
       "3                                   부당이익에 대한 해소     긍정\n",
       "4    땀흘려 일하지 않고 쉽게 돈 벌려는 사회적인 풍토를 근절해야 된다고 생각해서     긍정\n",
       "..                                          ...    ...\n",
       "709                                 소득과세가 너누 높다    부정 \n",
       "710                  주식 거래세 수수료보다도 너무 높다고 생각하기에    부정 \n",
       "711                                  너무 심하다고 생각    부정 \n",
       "712                                      ......    부정 \n",
       "713                        수익의 20%는 너무 많다고 생각한다    부정 \n",
       "\n",
       "[714 rows x 2 columns]"
      ]
     },
     "execution_count": 4,
     "metadata": {},
     "output_type": "execute_result"
    }
   ],
   "source": [
    "import numpy as np\n",
    "data = []\n",
    "for polarity, rows in raw_data.to_dict().items():\n",
    "    data += [dict(text=text, labels=polarity) for text in rows.values() if text is not np.NaN]\n",
    "data = eKonf.records_to_dataframe(data)\n",
    "eKonf.save_data(data, \"cointax_rawdata.parquet\", data_dir)\n",
    "data"
   ]
  },
  {
   "cell_type": "code",
   "execution_count": 5,
   "metadata": {},
   "outputs": [
    {
     "name": "stderr",
     "output_type": "stream",
     "text": [
      "INFO:ekorpkit.base:Loaded .env from /workspace/projects/ekorpkit-book/config/.env\n",
      "INFO:ekorpkit.base:setting environment variable CACHED_PATH_CACHE_ROOT to /workspace/.cache/cached_path\n",
      "INFO:ekorpkit.base:setting environment variable KMP_DUPLICATE_LIB_OK to TRUE\n",
      "INFO:ekorpkit.base:Applying pipe: functools.partial(<function load_dataframe at 0x7f86d4c3d040>)\n",
      "INFO:ekorpkit.base:Applying pipe: functools.partial(<function reset_index at 0x7f86d4c3c280>)\n",
      "INFO:ekorpkit.base:Applying pipe: functools.partial(<function split_sampling at 0x7f86d4c34e50>)\n",
      "INFO:ekorpkit.base:Using batcher with minibatch size: 3\n"
     ]
    },
    {
     "data": {
      "application/json": {
       "ascii": false,
       "bar_format": null,
       "colour": null,
       "elapsed": 0.01369476318359375,
       "initial": 0,
       "n": 0,
       "ncols": null,
       "nrows": null,
       "postfix": null,
       "prefix": "apply len_bytes to num_bytes",
       "rate": null,
       "total": 171,
       "unit": "it",
       "unit_divisor": 1000,
       "unit_scale": false
      },
      "application/vnd.jupyter.widget-view+json": {
       "model_id": "499fe8183a2a402680d882b49846e10d",
       "version_major": 2,
       "version_minor": 0
      },
      "text/plain": [
       "apply len_bytes to num_bytes:   0%|          | 0/171 [00:00<?, ?it/s]"
      ]
     },
     "metadata": {},
     "output_type": "display_data"
    },
    {
     "name": "stderr",
     "output_type": "stream",
     "text": [
      "INFO:ekorpkit.base:Using batcher with minibatch size: 1\n"
     ]
    },
    {
     "data": {
      "application/json": {
       "ascii": false,
       "bar_format": null,
       "colour": null,
       "elapsed": 0.014318466186523438,
       "initial": 0,
       "n": 0,
       "ncols": null,
       "nrows": null,
       "postfix": null,
       "prefix": "apply len_bytes to num_bytes",
       "rate": null,
       "total": 58,
       "unit": "it",
       "unit_divisor": 1000,
       "unit_scale": false
      },
      "application/vnd.jupyter.widget-view+json": {
       "model_id": "6ac3ccfe36924194b0bd8375feb3829a",
       "version_major": 2,
       "version_minor": 0
      },
      "text/plain": [
       "apply len_bytes to num_bytes:   0%|          | 0/58 [00:00<?, ?it/s]"
      ]
     },
     "metadata": {},
     "output_type": "display_data"
    },
    {
     "name": "stderr",
     "output_type": "stream",
     "text": [
      "INFO:ekorpkit.base:Using batcher with minibatch size: 1\n"
     ]
    },
    {
     "data": {
      "application/json": {
       "ascii": false,
       "bar_format": null,
       "colour": null,
       "elapsed": 0.013851642608642578,
       "initial": 0,
       "n": 0,
       "ncols": null,
       "nrows": null,
       "postfix": null,
       "prefix": "apply len_bytes to num_bytes",
       "rate": null,
       "total": 143,
       "unit": "it",
       "unit_divisor": 1000,
       "unit_scale": false
      },
      "application/vnd.jupyter.widget-view+json": {
       "model_id": "c318ccb498614f69b9e23ce9c347632a",
       "version_major": 2,
       "version_minor": 0
      },
      "text/plain": [
       "apply len_bytes to num_bytes:   0%|          | 0/143 [00:00<?, ?it/s]"
      ]
     },
     "metadata": {},
     "output_type": "display_data"
    }
   ],
   "source": [
    "cfg = eKonf.compose(\"dataset=dataset_build\")\n",
    "cfg.name = \"cointax_polarity_kr\"\n",
    "cfg.data_dir = data_dir\n",
    "cfg.data_file = \"cointax_rawdata.parquet\"\n",
    "cfg.force.build = True\n",
    "cfg.pipeline.split_sampling.stratify_on = \"labels\"\n",
    "cfg.pipeline.split_sampling.random_state = 1234\n",
    "cfg.pipeline.split_sampling.test_size = 0.2\n",
    "cfg.pipeline.split_sampling.dev_size = 0.1\n",
    "cfg.pipeline.reset_index.drop_index = False\n",
    "cfg.verbose = False\n",
    "cointax_polarity_ds = eKonf.instantiate(cfg)\n",
    "cointax_polarity_ds.persist()"
   ]
  },
  {
   "cell_type": "markdown",
   "metadata": {},
   "source": [
    "## Loading `cointax_polarity` dataset"
   ]
  },
  {
   "cell_type": "code",
   "execution_count": 7,
   "metadata": {
    "id": "OhqanxoywpKJ",
    "pycharm": {
     "name": "#%%\n"
    }
   },
   "outputs": [
    {
     "name": "stdout",
     "output_type": "stream",
     "text": [
      "['긍정', '부정 ']\n"
     ]
    }
   ],
   "source": [
    "ds_cfg = eKonf.compose('dataset')\n",
    "ds_cfg.name = 'cointax_polarity_kr'\n",
    "ds_cfg.data_dir = data_dir\n",
    "ds = eKonf.instantiate(ds_cfg)\n",
    "labels = list(ds.splits['train'].labels.unique())\n",
    "print(labels)"
   ]
  },
  {
   "cell_type": "code",
   "execution_count": 11,
   "metadata": {},
   "outputs": [
    {
     "data": {
      "text/html": [
       "<div>\n",
       "<style scoped>\n",
       "    .dataframe tbody tr th:only-of-type {\n",
       "        vertical-align: middle;\n",
       "    }\n",
       "\n",
       "    .dataframe tbody tr th {\n",
       "        vertical-align: top;\n",
       "    }\n",
       "\n",
       "    .dataframe thead th {\n",
       "        text-align: right;\n",
       "    }\n",
       "</style>\n",
       "<table border=\"1\" class=\"dataframe\">\n",
       "  <thead>\n",
       "    <tr style=\"text-align: right;\">\n",
       "      <th></th>\n",
       "      <th>id</th>\n",
       "      <th>text</th>\n",
       "      <th>labels</th>\n",
       "      <th>split</th>\n",
       "    </tr>\n",
       "  </thead>\n",
       "  <tbody>\n",
       "    <tr>\n",
       "      <th>0</th>\n",
       "      <td>445</td>\n",
       "      <td>긍정</td>\n",
       "      <td>긍정</td>\n",
       "      <td>train</td>\n",
       "    </tr>\n",
       "  </tbody>\n",
       "</table>\n",
       "</div>"
      ],
      "text/plain": [
       "    id text labels  split\n",
       "0  445   긍정     긍정  train"
      ]
     },
     "execution_count": 11,
     "metadata": {},
     "output_type": "execute_result"
    }
   ],
   "source": [
    "ds.data.head(1)"
   ]
  },
  {
   "cell_type": "markdown",
   "metadata": {},
   "source": [
    "## Cross validation of `cointax_polarity_kr` dataset"
   ]
  },
  {
   "cell_type": "code",
   "execution_count": 10,
   "metadata": {
    "scrolled": true
   },
   "outputs": [
    {
     "name": "stderr",
     "output_type": "stream",
     "text": [
      "INFO:ekorpkit.base:Calling train\n",
      "Some weights of the model checkpoint at entelecheia/ekonelectra-base-discriminator were not used when initializing ElectraForSequenceClassification: ['discriminator_predictions.dense_prediction.weight', 'discriminator_predictions.dense_prediction.bias', 'discriminator_predictions.dense.weight', 'discriminator_predictions.dense.bias']\n",
      "- This IS expected if you are initializing ElectraForSequenceClassification from the checkpoint of a model trained on another task or with another architecture (e.g. initializing a BertForSequenceClassification model from a BertForPreTraining model).\n",
      "- This IS NOT expected if you are initializing ElectraForSequenceClassification from the checkpoint of a model that you expect to be exactly identical (initializing a BertForSequenceClassification model from a BertForSequenceClassification model).\n",
      "Some weights of ElectraForSequenceClassification were not initialized from the model checkpoint at entelecheia/ekonelectra-base-discriminator and are newly initialized: ['classifier.dense.bias', 'classifier.dense.weight', 'classifier.out_proj.bias', 'classifier.out_proj.weight']\n",
      "You should probably TRAIN this model on a down-stream task to be able to use it for predictions and inference.\n"
     ]
    },
    {
     "data": {
      "application/json": {
       "ascii": false,
       "bar_format": null,
       "colour": null,
       "elapsed": 0.015128612518310547,
       "initial": 0,
       "n": 0,
       "ncols": null,
       "nrows": null,
       "postfix": null,
       "prefix": "",
       "rate": null,
       "total": 513,
       "unit": "it",
       "unit_divisor": 1000,
       "unit_scale": false
      },
      "application/vnd.jupyter.widget-view+json": {
       "model_id": "ed8f7240fe0143798c5e69dddd86d7a0",
       "version_major": 2,
       "version_minor": 0
      },
      "text/plain": [
       "  0%|          | 0/513 [00:00<?, ?it/s]"
      ]
     },
     "metadata": {},
     "output_type": "display_data"
    },
    {
     "data": {
      "application/json": {
       "ascii": false,
       "bar_format": null,
       "colour": null,
       "elapsed": 0.013252496719360352,
       "initial": 0,
       "n": 0,
       "ncols": null,
       "nrows": null,
       "postfix": null,
       "prefix": "Epoch",
       "rate": null,
       "total": 2,
       "unit": "it",
       "unit_divisor": 1000,
       "unit_scale": false
      },
      "application/vnd.jupyter.widget-view+json": {
       "model_id": "d4300e5218594deaa0982ddea8964f71",
       "version_major": 2,
       "version_minor": 0
      },
      "text/plain": [
       "Epoch:   0%|          | 0/2 [00:00<?, ?it/s]"
      ]
     },
     "metadata": {},
     "output_type": "display_data"
    },
    {
     "name": "stdout",
     "output_type": "stream",
     "text": [
      "huggingface/tokenizers: The current process just got forked, after parallelism has already been used. Disabling parallelism to avoid deadlocks...\n",
      "To disable this warning, you can either:\n",
      "\t- Avoid using `tokenizers` before the fork if possible\n",
      "\t- Explicitly set the environment variable TOKENIZERS_PARALLELISM=(true | false)\n"
     ]
    },
    {
     "name": "stderr",
     "output_type": "stream",
     "text": [
      "\u001b[34m\u001b[1mwandb\u001b[0m: Currently logged in as: \u001b[33mentelecheia\u001b[0m. Use \u001b[1m`wandb login --relogin`\u001b[0m to force relogin\n"
     ]
    },
    {
     "name": "stdout",
     "output_type": "stream",
     "text": [
      "huggingface/tokenizers: The current process just got forked, after parallelism has already been used. Disabling parallelism to avoid deadlocks...\n",
      "To disable this warning, you can either:\n",
      "\t- Avoid using `tokenizers` before the fork if possible\n",
      "\t- Explicitly set the environment variable TOKENIZERS_PARALLELISM=(true | false)\n"
     ]
    },
    {
     "data": {
      "text/html": [
       "Tracking run with wandb version 0.13.2"
      ],
      "text/plain": [
       "<IPython.core.display.HTML object>"
      ]
     },
     "metadata": {},
     "output_type": "display_data"
    },
    {
     "data": {
      "text/html": [
       "Run data is saved locally in <code>/workspace/projects/ekorpkit-book/outputs/cointax_polarity_kr/ekonelectra-base/wandb/run-20220906_095902-3nkyymiq</code>"
      ],
      "text/plain": [
       "<IPython.core.display.HTML object>"
      ]
     },
     "metadata": {},
     "output_type": "display_data"
    },
    {
     "data": {
      "text/html": [
       "Syncing run <strong><a href=\"https://wandb.ai/entelecheia/ekorpkit-book-cointax_polarity_kr/runs/3nkyymiq\" target=\"_blank\">wobbly-gorge-21</a></strong> to <a href=\"https://wandb.ai/entelecheia/ekorpkit-book-cointax_polarity_kr\" target=\"_blank\">Weights & Biases</a> (<a href=\"https://wandb.me/run\" target=\"_blank\">docs</a>)<br/>"
      ],
      "text/plain": [
       "<IPython.core.display.HTML object>"
      ]
     },
     "metadata": {},
     "output_type": "display_data"
    },
    {
     "data": {
      "application/json": {
       "ascii": false,
       "bar_format": null,
       "colour": null,
       "elapsed": 0.013824462890625,
       "initial": 0,
       "n": 0,
       "ncols": null,
       "nrows": null,
       "postfix": null,
       "prefix": "Running Epoch 0 of 2",
       "rate": null,
       "total": 17,
       "unit": "it",
       "unit_divisor": 1000,
       "unit_scale": false
      },
      "application/vnd.jupyter.widget-view+json": {
       "model_id": "47470ce7be59471d9e9fa7adaf0edfd7",
       "version_major": 2,
       "version_minor": 0
      },
      "text/plain": [
       "Running Epoch 0 of 2:   0%|          | 0/17 [00:00<?, ?it/s]"
      ]
     },
     "metadata": {},
     "output_type": "display_data"
    },
    {
     "data": {
      "application/json": {
       "ascii": false,
       "bar_format": null,
       "colour": null,
       "elapsed": 0.013725042343139648,
       "initial": 0,
       "n": 0,
       "ncols": null,
       "nrows": null,
       "postfix": null,
       "prefix": "Running Epoch 1 of 2",
       "rate": null,
       "total": 17,
       "unit": "it",
       "unit_divisor": 1000,
       "unit_scale": false
      },
      "application/vnd.jupyter.widget-view+json": {
       "model_id": "8988ae8b3f5249488082db27535caf22",
       "version_major": 2,
       "version_minor": 0
      },
      "text/plain": [
       "Running Epoch 1 of 2:   0%|          | 0/17 [00:00<?, ?it/s]"
      ]
     },
     "metadata": {},
     "output_type": "display_data"
    },
    {
     "data": {
      "application/json": {
       "ascii": false,
       "bar_format": null,
       "colour": null,
       "elapsed": 0.013145685195922852,
       "initial": 0,
       "n": 0,
       "ncols": null,
       "nrows": null,
       "postfix": null,
       "prefix": "",
       "rate": null,
       "total": 143,
       "unit": "it",
       "unit_divisor": 1000,
       "unit_scale": false
      },
      "application/vnd.jupyter.widget-view+json": {
       "model_id": "a4db63a6282f4499985073f33d8bfef8",
       "version_major": 2,
       "version_minor": 0
      },
      "text/plain": [
       "  0%|          | 0/143 [00:00<?, ?it/s]"
      ]
     },
     "metadata": {},
     "output_type": "display_data"
    },
    {
     "data": {
      "application/json": {
       "ascii": false,
       "bar_format": null,
       "colour": null,
       "elapsed": 0.013017654418945312,
       "initial": 0,
       "n": 0,
       "ncols": null,
       "nrows": null,
       "postfix": null,
       "prefix": "Running Evaluation",
       "rate": null,
       "total": 5,
       "unit": "it",
       "unit_divisor": 1000,
       "unit_scale": false
      },
      "application/vnd.jupyter.widget-view+json": {
       "model_id": "e7a810a6d8ac4e6ebb04d7c88a7ec9d5",
       "version_major": 2,
       "version_minor": 0
      },
      "text/plain": [
       "Running Evaluation:   0%|          | 0/5 [00:00<?, ?it/s]"
      ]
     },
     "metadata": {},
     "output_type": "display_data"
    },
    {
     "data": {
      "text/html": [
       "Finishing last run (ID:3nkyymiq) before initializing another..."
      ],
      "text/plain": [
       "<IPython.core.display.HTML object>"
      ]
     },
     "metadata": {},
     "output_type": "display_data"
    },
    {
     "data": {
      "text/html": [
       "Waiting for W&B process to finish... <strong style=\"color:green\">(success).</strong>"
      ],
      "text/plain": [
       "<IPython.core.display.HTML object>"
      ]
     },
     "metadata": {},
     "output_type": "display_data"
    },
    {
     "data": {
      "application/vnd.jupyter.widget-view+json": {
       "model_id": "",
       "version_major": 2,
       "version_minor": 0
      },
      "text/plain": [
       "VBox(children=(Label(value='0.001 MB of 0.001 MB uploaded (0.000 MB deduped)\\r'), FloatProgress(value=1.0, max…"
      ]
     },
     "metadata": {},
     "output_type": "display_data"
    },
    {
     "data": {
      "text/html": [
       "<style>\n",
       "    table.wandb td:nth-child(1) { padding: 0 10px; text-align: left ; width: auto;} td:nth-child(2) {text-align: left ; width: 100%}\n",
       "    .wandb-row { display: flex; flex-direction: row; flex-wrap: wrap; justify-content: flex-start; width: 100% }\n",
       "    .wandb-col { display: flex; flex-direction: column; flex-basis: 100%; flex: 1; padding: 10px; }\n",
       "    </style>\n",
       "<div class=\"wandb-row\"><div class=\"wandb-col\"><h3>Run history:</h3><br/><table class=\"wandb\"><tr><td>acc</td><td>▁█</td></tr><tr><td>eval_loss</td><td>█▁</td></tr><tr><td>fn</td><td>█▁</td></tr><tr><td>fp</td><td>▁▁</td></tr><tr><td>global_step</td><td>▁█</td></tr><tr><td>mcc</td><td>▁█</td></tr><tr><td>tn</td><td>▁▁</td></tr><tr><td>tp</td><td>▁█</td></tr><tr><td>train_loss</td><td>▁█</td></tr></table><br/></div><div class=\"wandb-col\"><h3>Run summary:</h3><br/><table class=\"wandb\"><tr><td>acc</td><td>0.75862</td></tr><tr><td>eval_loss</td><td>0.50016</td></tr><tr><td>fn</td><td>14</td></tr><tr><td>fp</td><td>0</td></tr><tr><td>global_step</td><td>34</td></tr><tr><td>mcc</td><td>0.44005</td></tr><tr><td>tn</td><td>39</td></tr><tr><td>tp</td><td>5</td></tr><tr><td>train_loss</td><td>0.54997</td></tr></table><br/></div></div>"
      ],
      "text/plain": [
       "<IPython.core.display.HTML object>"
      ]
     },
     "metadata": {},
     "output_type": "display_data"
    },
    {
     "data": {
      "text/html": [
       "Synced <strong style=\"color:#cdcd00\">wobbly-gorge-21</strong>: <a href=\"https://wandb.ai/entelecheia/ekorpkit-book-cointax_polarity_kr/runs/3nkyymiq\" target=\"_blank\">https://wandb.ai/entelecheia/ekorpkit-book-cointax_polarity_kr/runs/3nkyymiq</a><br/>Synced 4 W&B file(s), 0 media file(s), 0 artifact file(s) and 0 other file(s)"
      ],
      "text/plain": [
       "<IPython.core.display.HTML object>"
      ]
     },
     "metadata": {},
     "output_type": "display_data"
    },
    {
     "data": {
      "text/html": [
       "Find logs at: <code>/workspace/projects/ekorpkit-book/outputs/cointax_polarity_kr/ekonelectra-base/wandb/run-20220906_095902-3nkyymiq/logs</code>"
      ],
      "text/plain": [
       "<IPython.core.display.HTML object>"
      ]
     },
     "metadata": {},
     "output_type": "display_data"
    },
    {
     "data": {
      "text/html": [
       "Successfully finished last run (ID:3nkyymiq). Initializing new run:<br/>"
      ],
      "text/plain": [
       "<IPython.core.display.HTML object>"
      ]
     },
     "metadata": {},
     "output_type": "display_data"
    },
    {
     "name": "stdout",
     "output_type": "stream",
     "text": [
      "huggingface/tokenizers: The current process just got forked, after parallelism has already been used. Disabling parallelism to avoid deadlocks...\n",
      "To disable this warning, you can either:\n",
      "\t- Avoid using `tokenizers` before the fork if possible\n",
      "\t- Explicitly set the environment variable TOKENIZERS_PARALLELISM=(true | false)\n"
     ]
    },
    {
     "data": {
      "text/html": [
       "Tracking run with wandb version 0.13.2"
      ],
      "text/plain": [
       "<IPython.core.display.HTML object>"
      ]
     },
     "metadata": {},
     "output_type": "display_data"
    },
    {
     "data": {
      "text/html": [
       "Run data is saved locally in <code>/workspace/projects/ekorpkit-book/outputs/cointax_polarity_kr/ekonelectra-base/wandb/run-20220906_095917-355l1yzz</code>"
      ],
      "text/plain": [
       "<IPython.core.display.HTML object>"
      ]
     },
     "metadata": {},
     "output_type": "display_data"
    },
    {
     "data": {
      "text/html": [
       "Syncing run <strong><a href=\"https://wandb.ai/entelecheia/ekorpkit-book-cointax_polarity_kr/runs/355l1yzz\" target=\"_blank\">deft-valley-22</a></strong> to <a href=\"https://wandb.ai/entelecheia/ekorpkit-book-cointax_polarity_kr\" target=\"_blank\">Weights & Biases</a> (<a href=\"https://wandb.me/run\" target=\"_blank\">docs</a>)<br/>"
      ],
      "text/plain": [
       "<IPython.core.display.HTML object>"
      ]
     },
     "metadata": {},
     "output_type": "display_data"
    },
    {
     "name": "stderr",
     "output_type": "stream",
     "text": [
      "INFO:ekorpkit.base:Calling eval\n"
     ]
    },
    {
     "data": {
      "application/json": {
       "ascii": false,
       "bar_format": null,
       "colour": null,
       "elapsed": 0.016695737838745117,
       "initial": 0,
       "n": 0,
       "ncols": null,
       "nrows": null,
       "postfix": null,
       "prefix": "",
       "rate": null,
       "total": 143,
       "unit": "it",
       "unit_divisor": 1000,
       "unit_scale": false
      },
      "application/vnd.jupyter.widget-view+json": {
       "model_id": "3288b8e317fe47a6b27685f1ddff06c4",
       "version_major": 2,
       "version_minor": 0
      },
      "text/plain": [
       "  0%|          | 0/143 [00:00<?, ?it/s]"
      ]
     },
     "metadata": {},
     "output_type": "display_data"
    },
    {
     "data": {
      "application/json": {
       "ascii": false,
       "bar_format": null,
       "colour": null,
       "elapsed": 0.015843868255615234,
       "initial": 0,
       "n": 0,
       "ncols": null,
       "nrows": null,
       "postfix": null,
       "prefix": "",
       "rate": null,
       "total": 5,
       "unit": "it",
       "unit_divisor": 1000,
       "unit_scale": false
      },
      "application/vnd.jupyter.widget-view+json": {
       "model_id": "43a0fa17451844a9863a0887e46de07a",
       "version_major": 2,
       "version_minor": 0
      },
      "text/plain": [
       "  0%|          | 0/5 [00:00<?, ?it/s]"
      ]
     },
     "metadata": {},
     "output_type": "display_data"
    },
    {
     "name": "stdout",
     "output_type": "stream",
     "text": [
      "Accuracy:  0.7832167832167832\n",
      "Precison:  0.7998323990059527\n",
      "Recall:  0.7832167832167832\n",
      "F1 Score:  0.7564319738232782\n",
      "Model Report: \n",
      "___________________________________________________\n",
      "              precision    recall  f1-score   support\n",
      "\n",
      "          긍정       0.77      0.97      0.86        96\n",
      "         부정        0.86      0.40      0.55        47\n",
      "\n",
      "    accuracy                           0.78       143\n",
      "   macro avg       0.82      0.69      0.70       143\n",
      "weighted avg       0.80      0.78      0.76       143\n",
      "\n"
     ]
    },
    {
     "data": {
      "image/png": "[encoded data removed]",
      "text/plain": [
       "<Figure size 720x360 with 2 Axes>"
      ]
     },
     "metadata": {
      "image/png": {
       "height": 331,
       "width": 630
      }
     },
     "output_type": "display_data"
    }
   ],
   "source": [
    "overrides=[\n",
    "    '+model/transformer=classification',\n",
    "    '+model/transformer/pretrained=ekonelectra-base',\n",
    "]\n",
    "model_cfg = eKonf.compose('model/transformer=classification', overrides)\n",
    "model_cfg.name = \"cointax_polarity_kr\"\n",
    "model_cfg.dataset = ds_cfg\n",
    "model_cfg.verbose = False\n",
    "model_cfg.config.num_train_epochs = 2\n",
    "model_cfg.config.max_seq_length = 256\n",
    "model_cfg.config.train_batch_size = 32\n",
    "model_cfg.config.eval_batch_size = 32\n",
    "model_cfg._method_ = ['train', 'eval']\n",
    "# model_cfg.model.eval.visualize.plot.confusion_matrix.include_values = False\n",
    "# model_cfg.model.eval.visualize.plot.confusion_matrix.include_percentages = False\n",
    "# model_cfg.model.eval.visualize.plot.figure.figsize = (12,10)\n",
    "model = eKonf.instantiate(model_cfg)"
   ]
  },
  {
   "cell_type": "code",
   "execution_count": 12,
   "metadata": {
    "tags": [
     "hide-output"
    ]
   },
   "outputs": [
    {
     "name": "stderr",
     "output_type": "stream",
     "text": [
      "Some weights of the model checkpoint at entelecheia/ekonelectra-base-discriminator were not used when initializing ElectraForSequenceClassification: ['discriminator_predictions.dense_prediction.weight', 'discriminator_predictions.dense_prediction.bias', 'discriminator_predictions.dense.weight', 'discriminator_predictions.dense.bias']\n",
      "- This IS expected if you are initializing ElectraForSequenceClassification from the checkpoint of a model trained on another task or with another architecture (e.g. initializing a BertForSequenceClassification model from a BertForPreTraining model).\n",
      "- This IS NOT expected if you are initializing ElectraForSequenceClassification from the checkpoint of a model that you expect to be exactly identical (initializing a BertForSequenceClassification model from a BertForSequenceClassification model).\n",
      "Some weights of ElectraForSequenceClassification were not initialized from the model checkpoint at entelecheia/ekonelectra-base-discriminator and are newly initialized: ['classifier.dense.bias', 'classifier.dense.weight', 'classifier.out_proj.bias', 'classifier.out_proj.weight']\n",
      "You should probably TRAIN this model on a down-stream task to be able to use it for predictions and inference.\n"
     ]
    },
    {
     "data": {
      "application/json": {
       "ascii": false,
       "bar_format": null,
       "colour": null,
       "elapsed": 0.014160871505737305,
       "initial": 0,
       "n": 0,
       "ncols": null,
       "nrows": null,
       "postfix": null,
       "prefix": "",
       "rate": null,
       "total": 456,
       "unit": "it",
       "unit_divisor": 1000,
       "unit_scale": false
      },
      "application/vnd.jupyter.widget-view+json": {
       "model_id": "219fea378dca4122bb8ffa4093d2e97c",
       "version_major": 2,
       "version_minor": 0
      },
      "text/plain": [
       "  0%|          | 0/456 [00:00<?, ?it/s]"
      ]
     },
     "metadata": {},
     "output_type": "display_data"
    },
    {
     "data": {
      "application/json": {
       "ascii": false,
       "bar_format": null,
       "colour": null,
       "elapsed": 0.013914108276367188,
       "initial": 0,
       "n": 0,
       "ncols": null,
       "nrows": null,
       "postfix": null,
       "prefix": "Epoch",
       "rate": null,
       "total": 2,
       "unit": "it",
       "unit_divisor": 1000,
       "unit_scale": false
      },
      "application/vnd.jupyter.widget-view+json": {
       "model_id": "d9991a907fd7448b90d16d2bc2fc0b91",
       "version_major": 2,
       "version_minor": 0
      },
      "text/plain": [
       "Epoch:   0%|          | 0/2 [00:00<?, ?it/s]"
      ]
     },
     "metadata": {},
     "output_type": "display_data"
    },
    {
     "data": {
      "text/html": [
       "Finishing last run (ID:355l1yzz) before initializing another..."
      ],
      "text/plain": [
       "<IPython.core.display.HTML object>"
      ]
     },
     "metadata": {},
     "output_type": "display_data"
    },
    {
     "data": {
      "text/html": [
       "Waiting for W&B process to finish... <strong style=\"color:green\">(success).</strong>"
      ],
      "text/plain": [
       "<IPython.core.display.HTML object>"
      ]
     },
     "metadata": {},
     "output_type": "display_data"
    },
    {
     "data": {
      "application/vnd.jupyter.widget-view+json": {
       "model_id": "",
       "version_major": 2,
       "version_minor": 0
      },
      "text/plain": [
       "VBox(children=(Label(value='0.002 MB of 0.002 MB uploaded (0.000 MB deduped)\\r'), FloatProgress(value=1.0, max…"
      ]
     },
     "metadata": {},
     "output_type": "display_data"
    },
    {
     "data": {
      "text/html": [
       "Synced <strong style=\"color:#cdcd00\">deft-valley-22</strong>: <a href=\"https://wandb.ai/entelecheia/ekorpkit-book-cointax_polarity_kr/runs/355l1yzz\" target=\"_blank\">https://wandb.ai/entelecheia/ekorpkit-book-cointax_polarity_kr/runs/355l1yzz</a><br/>Synced 5 W&B file(s), 1 media file(s), 1 artifact file(s) and 0 other file(s)"
      ],
      "text/plain": [
       "<IPython.core.display.HTML object>"
      ]
     },
     "metadata": {},
     "output_type": "display_data"
    },
    {
     "data": {
      "text/html": [
       "Find logs at: <code>/workspace/projects/ekorpkit-book/outputs/cointax_polarity_kr/ekonelectra-base/wandb/run-20220906_095917-355l1yzz/logs</code>"
      ],
      "text/plain": [
       "<IPython.core.display.HTML object>"
      ]
     },
     "metadata": {},
     "output_type": "display_data"
    },
    {
     "data": {
      "text/html": [
       "Successfully finished last run (ID:355l1yzz). Initializing new run:<br/>"
      ],
      "text/plain": [
       "<IPython.core.display.HTML object>"
      ]
     },
     "metadata": {},
     "output_type": "display_data"
    },
    {
     "name": "stdout",
     "output_type": "stream",
     "text": [
      "huggingface/tokenizers: The current process just got forked, after parallelism has already been used. Disabling parallelism to avoid deadlocks...\n",
      "To disable this warning, you can either:\n",
      "\t- Avoid using `tokenizers` before the fork if possible\n",
      "\t- Explicitly set the environment variable TOKENIZERS_PARALLELISM=(true | false)\n"
     ]
    },
    {
     "data": {
      "text/html": [
       "Tracking run with wandb version 0.13.2"
      ],
      "text/plain": [
       "<IPython.core.display.HTML object>"
      ]
     },
     "metadata": {},
     "output_type": "display_data"
    },
    {
     "data": {
      "text/html": [
       "Run data is saved locally in <code>/workspace/projects/ekorpkit-book/outputs/cointax_polarity_kr/ekonelectra-base/wandb/run-20220906_100003-2dpnejxg</code>"
      ],
      "text/plain": [
       "<IPython.core.display.HTML object>"
      ]
     },
     "metadata": {},
     "output_type": "display_data"
    },
    {
     "data": {
      "text/html": [
       "Syncing run <strong><a href=\"https://wandb.ai/entelecheia/ekorpkit-book-cointax_polarity_kr/runs/2dpnejxg\" target=\"_blank\">dazzling-terrain-23</a></strong> to <a href=\"https://wandb.ai/entelecheia/ekorpkit-book-cointax_polarity_kr\" target=\"_blank\">Weights & Biases</a> (<a href=\"https://wandb.me/run\" target=\"_blank\">docs</a>)<br/>"
      ],
      "text/plain": [
       "<IPython.core.display.HTML object>"
      ]
     },
     "metadata": {},
     "output_type": "display_data"
    },
    {
     "data": {
      "application/json": {
       "ascii": false,
       "bar_format": null,
       "colour": null,
       "elapsed": 0.013636589050292969,
       "initial": 0,
       "n": 0,
       "ncols": null,
       "nrows": null,
       "postfix": null,
       "prefix": "Running Epoch 0 of 2",
       "rate": null,
       "total": 15,
       "unit": "it",
       "unit_divisor": 1000,
       "unit_scale": false
      },
      "application/vnd.jupyter.widget-view+json": {
       "model_id": "c14bdc6efd2645bebf2e18bf44c8afd2",
       "version_major": 2,
       "version_minor": 0
      },
      "text/plain": [
       "Running Epoch 0 of 2:   0%|          | 0/15 [00:00<?, ?it/s]"
      ]
     },
     "metadata": {},
     "output_type": "display_data"
    },
    {
     "data": {
      "application/json": {
       "ascii": false,
       "bar_format": null,
       "colour": null,
       "elapsed": 0.013921260833740234,
       "initial": 0,
       "n": 0,
       "ncols": null,
       "nrows": null,
       "postfix": null,
       "prefix": "Running Epoch 1 of 2",
       "rate": null,
       "total": 15,
       "unit": "it",
       "unit_divisor": 1000,
       "unit_scale": false
      },
      "application/vnd.jupyter.widget-view+json": {
       "model_id": "4a10385e888142a9b922f6a016ebc359",
       "version_major": 2,
       "version_minor": 0
      },
      "text/plain": [
       "Running Epoch 1 of 2:   0%|          | 0/15 [00:00<?, ?it/s]"
      ]
     },
     "metadata": {},
     "output_type": "display_data"
    },
    {
     "data": {
      "application/json": {
       "ascii": false,
       "bar_format": null,
       "colour": null,
       "elapsed": 0.014469623565673828,
       "initial": 0,
       "n": 0,
       "ncols": null,
       "nrows": null,
       "postfix": null,
       "prefix": "",
       "rate": null,
       "total": 143,
       "unit": "it",
       "unit_divisor": 1000,
       "unit_scale": false
      },
      "application/vnd.jupyter.widget-view+json": {
       "model_id": "2f1387cbb2c641b2997e3f1f83cec1cf",
       "version_major": 2,
       "version_minor": 0
      },
      "text/plain": [
       "  0%|          | 0/143 [00:00<?, ?it/s]"
      ]
     },
     "metadata": {},
     "output_type": "display_data"
    },
    {
     "data": {
      "application/json": {
       "ascii": false,
       "bar_format": null,
       "colour": null,
       "elapsed": 0.012718677520751953,
       "initial": 0,
       "n": 0,
       "ncols": null,
       "nrows": null,
       "postfix": null,
       "prefix": "Running Evaluation",
       "rate": null,
       "total": 5,
       "unit": "it",
       "unit_divisor": 1000,
       "unit_scale": false
      },
      "application/vnd.jupyter.widget-view+json": {
       "model_id": "0367df58b5d84f5eb845d0cdd1e6ee21",
       "version_major": 2,
       "version_minor": 0
      },
      "text/plain": [
       "Running Evaluation:   0%|          | 0/5 [00:00<?, ?it/s]"
      ]
     },
     "metadata": {},
     "output_type": "display_data"
    },
    {
     "data": {
      "text/html": [
       "Finishing last run (ID:2dpnejxg) before initializing another..."
      ],
      "text/plain": [
       "<IPython.core.display.HTML object>"
      ]
     },
     "metadata": {},
     "output_type": "display_data"
    },
    {
     "data": {
      "text/html": [
       "Waiting for W&B process to finish... <strong style=\"color:green\">(success).</strong>"
      ],
      "text/plain": [
       "<IPython.core.display.HTML object>"
      ]
     },
     "metadata": {},
     "output_type": "display_data"
    },
    {
     "data": {
      "application/vnd.jupyter.widget-view+json": {
       "model_id": "",
       "version_major": 2,
       "version_minor": 0
      },
      "text/plain": [
       "VBox(children=(Label(value='0.001 MB of 0.001 MB uploaded (0.000 MB deduped)\\r'), FloatProgress(value=1.0, max…"
      ]
     },
     "metadata": {},
     "output_type": "display_data"
    },
    {
     "data": {
      "text/html": [
       "<style>\n",
       "    table.wandb td:nth-child(1) { padding: 0 10px; text-align: left ; width: auto;} td:nth-child(2) {text-align: left ; width: 100%}\n",
       "    .wandb-row { display: flex; flex-direction: row; flex-wrap: wrap; justify-content: flex-start; width: 100% }\n",
       "    .wandb-col { display: flex; flex-direction: column; flex-basis: 100%; flex: 1; padding: 10px; }\n",
       "    </style>\n",
       "<div class=\"wandb-row\"><div class=\"wandb-col\"><h3>Run history:</h3><br/><table class=\"wandb\"><tr><td>acc</td><td>▁█</td></tr><tr><td>eval_loss</td><td>█▁</td></tr><tr><td>fn</td><td>█▁</td></tr><tr><td>fp</td><td>▁█</td></tr><tr><td>global_step</td><td>▁█</td></tr><tr><td>mcc</td><td>▁█</td></tr><tr><td>tn</td><td>█▁</td></tr><tr><td>tp</td><td>▁█</td></tr><tr><td>train_loss</td><td>█▁</td></tr></table><br/></div><div class=\"wandb-col\"><h3>Run summary:</h3><br/><table class=\"wandb\"><tr><td>acc</td><td>0.66957</td></tr><tr><td>eval_loss</td><td>0.57737</td></tr><tr><td>fn</td><td>37</td></tr><tr><td>fp</td><td>1</td></tr><tr><td>global_step</td><td>30</td></tr><tr><td>mcc</td><td>0.1974</td></tr><tr><td>tn</td><td>73</td></tr><tr><td>tp</td><td>4</td></tr><tr><td>train_loss</td><td>0.35357</td></tr></table><br/></div></div>"
      ],
      "text/plain": [
       "<IPython.core.display.HTML object>"
      ]
     },
     "metadata": {},
     "output_type": "display_data"
    },
    {
     "data": {
      "text/html": [
       "Synced <strong style=\"color:#cdcd00\">dazzling-terrain-23</strong>: <a href=\"https://wandb.ai/entelecheia/ekorpkit-book-cointax_polarity_kr/runs/2dpnejxg\" target=\"_blank\">https://wandb.ai/entelecheia/ekorpkit-book-cointax_polarity_kr/runs/2dpnejxg</a><br/>Synced 4 W&B file(s), 0 media file(s), 0 artifact file(s) and 0 other file(s)"
      ],
      "text/plain": [
       "<IPython.core.display.HTML object>"
      ]
     },
     "metadata": {},
     "output_type": "display_data"
    },
    {
     "data": {
      "text/html": [
       "Find logs at: <code>/workspace/projects/ekorpkit-book/outputs/cointax_polarity_kr/ekonelectra-base/wandb/run-20220906_100003-2dpnejxg/logs</code>"
      ],
      "text/plain": [
       "<IPython.core.display.HTML object>"
      ]
     },
     "metadata": {},
     "output_type": "display_data"
    },
    {
     "data": {
      "text/html": [
       "Successfully finished last run (ID:2dpnejxg). Initializing new run:<br/>"
      ],
      "text/plain": [
       "<IPython.core.display.HTML object>"
      ]
     },
     "metadata": {},
     "output_type": "display_data"
    },
    {
     "name": "stdout",
     "output_type": "stream",
     "text": [
      "huggingface/tokenizers: The current process just got forked, after parallelism has already been used. Disabling parallelism to avoid deadlocks...\n",
      "To disable this warning, you can either:\n",
      "\t- Avoid using `tokenizers` before the fork if possible\n",
      "\t- Explicitly set the environment variable TOKENIZERS_PARALLELISM=(true | false)\n"
     ]
    },
    {
     "data": {
      "text/html": [
       "Tracking run with wandb version 0.13.2"
      ],
      "text/plain": [
       "<IPython.core.display.HTML object>"
      ]
     },
     "metadata": {},
     "output_type": "display_data"
    },
    {
     "data": {
      "text/html": [
       "Run data is saved locally in <code>/workspace/projects/ekorpkit-book/outputs/cointax_polarity_kr/ekonelectra-base/wandb/run-20220906_100021-287oghwk</code>"
      ],
      "text/plain": [
       "<IPython.core.display.HTML object>"
      ]
     },
     "metadata": {},
     "output_type": "display_data"
    },
    {
     "data": {
      "text/html": [
       "Syncing run <strong><a href=\"https://wandb.ai/entelecheia/ekorpkit-book-cointax_polarity_kr/runs/287oghwk\" target=\"_blank\">usual-star-24</a></strong> to <a href=\"https://wandb.ai/entelecheia/ekorpkit-book-cointax_polarity_kr\" target=\"_blank\">Weights & Biases</a> (<a href=\"https://wandb.me/run\" target=\"_blank\">docs</a>)<br/>"
      ],
      "text/plain": [
       "<IPython.core.display.HTML object>"
      ]
     },
     "metadata": {},
     "output_type": "display_data"
    },
    {
     "data": {
      "application/json": {
       "ascii": false,
       "bar_format": null,
       "colour": null,
       "elapsed": 0.013450860977172852,
       "initial": 0,
       "n": 0,
       "ncols": null,
       "nrows": null,
       "postfix": null,
       "prefix": "",
       "rate": null,
       "total": 143,
       "unit": "it",
       "unit_divisor": 1000,
       "unit_scale": false
      },
      "application/vnd.jupyter.widget-view+json": {
       "model_id": "3f72918e43354637914e28deb1d78ae5",
       "version_major": 2,
       "version_minor": 0
      },
      "text/plain": [
       "  0%|          | 0/143 [00:00<?, ?it/s]"
      ]
     },
     "metadata": {},
     "output_type": "display_data"
    },
    {
     "data": {
      "application/json": {
       "ascii": false,
       "bar_format": null,
       "colour": null,
       "elapsed": 0.012523412704467773,
       "initial": 0,
       "n": 0,
       "ncols": null,
       "nrows": null,
       "postfix": null,
       "prefix": "",
       "rate": null,
       "total": 5,
       "unit": "it",
       "unit_divisor": 1000,
       "unit_scale": false
      },
      "application/vnd.jupyter.widget-view+json": {
       "model_id": "f097fecc5dd64a49a6ac0414eb7bbfa7",
       "version_major": 2,
       "version_minor": 0
      },
      "text/plain": [
       "  0%|          | 0/5 [00:00<?, ?it/s]"
      ]
     },
     "metadata": {},
     "output_type": "display_data"
    },
    {
     "name": "stderr",
     "output_type": "stream",
     "text": [
      "Some weights of the model checkpoint at entelecheia/ekonelectra-base-discriminator were not used when initializing ElectraForSequenceClassification: ['discriminator_predictions.dense_prediction.weight', 'discriminator_predictions.dense_prediction.bias', 'discriminator_predictions.dense.weight', 'discriminator_predictions.dense.bias']\n",
      "- This IS expected if you are initializing ElectraForSequenceClassification from the checkpoint of a model trained on another task or with another architecture (e.g. initializing a BertForSequenceClassification model from a BertForPreTraining model).\n",
      "- This IS NOT expected if you are initializing ElectraForSequenceClassification from the checkpoint of a model that you expect to be exactly identical (initializing a BertForSequenceClassification model from a BertForSequenceClassification model).\n",
      "Some weights of ElectraForSequenceClassification were not initialized from the model checkpoint at entelecheia/ekonelectra-base-discriminator and are newly initialized: ['classifier.dense.bias', 'classifier.dense.weight', 'classifier.out_proj.bias', 'classifier.out_proj.weight']\n",
      "You should probably TRAIN this model on a down-stream task to be able to use it for predictions and inference.\n"
     ]
    },
    {
     "data": {
      "application/json": {
       "ascii": false,
       "bar_format": null,
       "colour": null,
       "elapsed": 0.013610601425170898,
       "initial": 0,
       "n": 0,
       "ncols": null,
       "nrows": null,
       "postfix": null,
       "prefix": "",
       "rate": null,
       "total": 456,
       "unit": "it",
       "unit_divisor": 1000,
       "unit_scale": false
      },
      "application/vnd.jupyter.widget-view+json": {
       "model_id": "8ca2c3f10c6b488b8bdd438970398d8e",
       "version_major": 2,
       "version_minor": 0
      },
      "text/plain": [
       "  0%|          | 0/456 [00:00<?, ?it/s]"
      ]
     },
     "metadata": {},
     "output_type": "display_data"
    },
    {
     "data": {
      "application/json": {
       "ascii": false,
       "bar_format": null,
       "colour": null,
       "elapsed": 0.01330709457397461,
       "initial": 0,
       "n": 0,
       "ncols": null,
       "nrows": null,
       "postfix": null,
       "prefix": "Epoch",
       "rate": null,
       "total": 2,
       "unit": "it",
       "unit_divisor": 1000,
       "unit_scale": false
      },
      "application/vnd.jupyter.widget-view+json": {
       "model_id": "5a54787702c749fab90d74cd6c7c5ba5",
       "version_major": 2,
       "version_minor": 0
      },
      "text/plain": [
       "Epoch:   0%|          | 0/2 [00:00<?, ?it/s]"
      ]
     },
     "metadata": {},
     "output_type": "display_data"
    },
    {
     "data": {
      "text/html": [
       "Finishing last run (ID:287oghwk) before initializing another..."
      ],
      "text/plain": [
       "<IPython.core.display.HTML object>"
      ]
     },
     "metadata": {},
     "output_type": "display_data"
    },
    {
     "data": {
      "text/html": [
       "Waiting for W&B process to finish... <strong style=\"color:green\">(success).</strong>"
      ],
      "text/plain": [
       "<IPython.core.display.HTML object>"
      ]
     },
     "metadata": {},
     "output_type": "display_data"
    },
    {
     "data": {
      "application/vnd.jupyter.widget-view+json": {
       "model_id": "",
       "version_major": 2,
       "version_minor": 0
      },
      "text/plain": [
       "VBox(children=(Label(value='0.002 MB of 0.002 MB uploaded (0.000 MB deduped)\\r'), FloatProgress(value=1.0, max…"
      ]
     },
     "metadata": {},
     "output_type": "display_data"
    },
    {
     "data": {
      "text/html": [
       "Synced <strong style=\"color:#cdcd00\">usual-star-24</strong>: <a href=\"https://wandb.ai/entelecheia/ekorpkit-book-cointax_polarity_kr/runs/287oghwk\" target=\"_blank\">https://wandb.ai/entelecheia/ekorpkit-book-cointax_polarity_kr/runs/287oghwk</a><br/>Synced 5 W&B file(s), 1 media file(s), 1 artifact file(s) and 0 other file(s)"
      ],
      "text/plain": [
       "<IPython.core.display.HTML object>"
      ]
     },
     "metadata": {},
     "output_type": "display_data"
    },
    {
     "data": {
      "text/html": [
       "Find logs at: <code>/workspace/projects/ekorpkit-book/outputs/cointax_polarity_kr/ekonelectra-base/wandb/run-20220906_100021-287oghwk/logs</code>"
      ],
      "text/plain": [
       "<IPython.core.display.HTML object>"
      ]
     },
     "metadata": {},
     "output_type": "display_data"
    },
    {
     "data": {
      "text/html": [
       "Successfully finished last run (ID:287oghwk). Initializing new run:<br/>"
      ],
      "text/plain": [
       "<IPython.core.display.HTML object>"
      ]
     },
     "metadata": {},
     "output_type": "display_data"
    },
    {
     "name": "stdout",
     "output_type": "stream",
     "text": [
      "huggingface/tokenizers: The current process just got forked, after parallelism has already been used. Disabling parallelism to avoid deadlocks...\n",
      "To disable this warning, you can either:\n",
      "\t- Avoid using `tokenizers` before the fork if possible\n",
      "\t- Explicitly set the environment variable TOKENIZERS_PARALLELISM=(true | false)\n"
     ]
    },
    {
     "data": {
      "text/html": [
       "Tracking run with wandb version 0.13.2"
      ],
      "text/plain": [
       "<IPython.core.display.HTML object>"
      ]
     },
     "metadata": {},
     "output_type": "display_data"
    },
    {
     "data": {
      "text/html": [
       "Run data is saved locally in <code>/workspace/projects/ekorpkit-book/outputs/cointax_polarity_kr/ekonelectra-base/wandb/run-20220906_100043-bit6e6ow</code>"
      ],
      "text/plain": [
       "<IPython.core.display.HTML object>"
      ]
     },
     "metadata": {},
     "output_type": "display_data"
    },
    {
     "data": {
      "text/html": [
       "Syncing run <strong><a href=\"https://wandb.ai/entelecheia/ekorpkit-book-cointax_polarity_kr/runs/bit6e6ow\" target=\"_blank\">still-wave-25</a></strong> to <a href=\"https://wandb.ai/entelecheia/ekorpkit-book-cointax_polarity_kr\" target=\"_blank\">Weights & Biases</a> (<a href=\"https://wandb.me/run\" target=\"_blank\">docs</a>)<br/>"
      ],
      "text/plain": [
       "<IPython.core.display.HTML object>"
      ]
     },
     "metadata": {},
     "output_type": "display_data"
    },
    {
     "data": {
      "application/json": {
       "ascii": false,
       "bar_format": null,
       "colour": null,
       "elapsed": 0.013482093811035156,
       "initial": 0,
       "n": 0,
       "ncols": null,
       "nrows": null,
       "postfix": null,
       "prefix": "Running Epoch 0 of 2",
       "rate": null,
       "total": 15,
       "unit": "it",
       "unit_divisor": 1000,
       "unit_scale": false
      },
      "application/vnd.jupyter.widget-view+json": {
       "model_id": "36503ff8596d45749f24dd121cdf926e",
       "version_major": 2,
       "version_minor": 0
      },
      "text/plain": [
       "Running Epoch 0 of 2:   0%|          | 0/15 [00:00<?, ?it/s]"
      ]
     },
     "metadata": {},
     "output_type": "display_data"
    },
    {
     "data": {
      "application/json": {
       "ascii": false,
       "bar_format": null,
       "colour": null,
       "elapsed": 0.01345062255859375,
       "initial": 0,
       "n": 0,
       "ncols": null,
       "nrows": null,
       "postfix": null,
       "prefix": "Running Epoch 1 of 2",
       "rate": null,
       "total": 15,
       "unit": "it",
       "unit_divisor": 1000,
       "unit_scale": false
      },
      "application/vnd.jupyter.widget-view+json": {
       "model_id": "060fbd3855a94944b693e4444f03766e",
       "version_major": 2,
       "version_minor": 0
      },
      "text/plain": [
       "Running Epoch 1 of 2:   0%|          | 0/15 [00:00<?, ?it/s]"
      ]
     },
     "metadata": {},
     "output_type": "display_data"
    },
    {
     "data": {
      "application/json": {
       "ascii": false,
       "bar_format": null,
       "colour": null,
       "elapsed": 0.013501405715942383,
       "initial": 0,
       "n": 0,
       "ncols": null,
       "nrows": null,
       "postfix": null,
       "prefix": "",
       "rate": null,
       "total": 143,
       "unit": "it",
       "unit_divisor": 1000,
       "unit_scale": false
      },
      "application/vnd.jupyter.widget-view+json": {
       "model_id": "7dcbab0b4c6e4443be467629ba78faef",
       "version_major": 2,
       "version_minor": 0
      },
      "text/plain": [
       "  0%|          | 0/143 [00:00<?, ?it/s]"
      ]
     },
     "metadata": {},
     "output_type": "display_data"
    },
    {
     "data": {
      "application/json": {
       "ascii": false,
       "bar_format": null,
       "colour": null,
       "elapsed": 0.012668609619140625,
       "initial": 0,
       "n": 0,
       "ncols": null,
       "nrows": null,
       "postfix": null,
       "prefix": "Running Evaluation",
       "rate": null,
       "total": 5,
       "unit": "it",
       "unit_divisor": 1000,
       "unit_scale": false
      },
      "application/vnd.jupyter.widget-view+json": {
       "model_id": "b269cf4219824a63a0660f8c09c7cf99",
       "version_major": 2,
       "version_minor": 0
      },
      "text/plain": [
       "Running Evaluation:   0%|          | 0/5 [00:00<?, ?it/s]"
      ]
     },
     "metadata": {},
     "output_type": "display_data"
    },
    {
     "data": {
      "text/html": [
       "Finishing last run (ID:bit6e6ow) before initializing another..."
      ],
      "text/plain": [
       "<IPython.core.display.HTML object>"
      ]
     },
     "metadata": {},
     "output_type": "display_data"
    },
    {
     "data": {
      "text/html": [
       "Waiting for W&B process to finish... <strong style=\"color:green\">(success).</strong>"
      ],
      "text/plain": [
       "<IPython.core.display.HTML object>"
      ]
     },
     "metadata": {},
     "output_type": "display_data"
    },
    {
     "data": {
      "application/vnd.jupyter.widget-view+json": {
       "model_id": "",
       "version_major": 2,
       "version_minor": 0
      },
      "text/plain": [
       "VBox(children=(Label(value='0.001 MB of 0.001 MB uploaded (0.000 MB deduped)\\r'), FloatProgress(value=1.0, max…"
      ]
     },
     "metadata": {},
     "output_type": "display_data"
    },
    {
     "data": {
      "text/html": [
       "<style>\n",
       "    table.wandb td:nth-child(1) { padding: 0 10px; text-align: left ; width: auto;} td:nth-child(2) {text-align: left ; width: 100%}\n",
       "    .wandb-row { display: flex; flex-direction: row; flex-wrap: wrap; justify-content: flex-start; width: 100% }\n",
       "    .wandb-col { display: flex; flex-direction: column; flex-basis: 100%; flex: 1; padding: 10px; }\n",
       "    </style>\n",
       "<div class=\"wandb-row\"><div class=\"wandb-col\"><h3>Run history:</h3><br/><table class=\"wandb\"><tr><td>acc</td><td>▁█</td></tr><tr><td>eval_loss</td><td>█▁</td></tr><tr><td>fn</td><td>█▁</td></tr><tr><td>fp</td><td>▁█</td></tr><tr><td>global_step</td><td>▁█</td></tr><tr><td>mcc</td><td>▁█</td></tr><tr><td>tn</td><td>█▁</td></tr><tr><td>tp</td><td>▁█</td></tr><tr><td>train_loss</td><td>█▁</td></tr></table><br/></div><div class=\"wandb-col\"><h3>Run summary:</h3><br/><table class=\"wandb\"><tr><td>acc</td><td>0.67826</td></tr><tr><td>eval_loss</td><td>0.55782</td></tr><tr><td>fn</td><td>36</td></tr><tr><td>fp</td><td>1</td></tr><tr><td>global_step</td><td>30</td></tr><tr><td>mcc</td><td>0.23356</td></tr><tr><td>tn</td><td>73</td></tr><tr><td>tp</td><td>5</td></tr><tr><td>train_loss</td><td>0.45714</td></tr></table><br/></div></div>"
      ],
      "text/plain": [
       "<IPython.core.display.HTML object>"
      ]
     },
     "metadata": {},
     "output_type": "display_data"
    },
    {
     "data": {
      "text/html": [
       "Synced <strong style=\"color:#cdcd00\">still-wave-25</strong>: <a href=\"https://wandb.ai/entelecheia/ekorpkit-book-cointax_polarity_kr/runs/bit6e6ow\" target=\"_blank\">https://wandb.ai/entelecheia/ekorpkit-book-cointax_polarity_kr/runs/bit6e6ow</a><br/>Synced 4 W&B file(s), 0 media file(s), 0 artifact file(s) and 0 other file(s)"
      ],
      "text/plain": [
       "<IPython.core.display.HTML object>"
      ]
     },
     "metadata": {},
     "output_type": "display_data"
    },
    {
     "data": {
      "text/html": [
       "Find logs at: <code>/workspace/projects/ekorpkit-book/outputs/cointax_polarity_kr/ekonelectra-base/wandb/run-20220906_100043-bit6e6ow/logs</code>"
      ],
      "text/plain": [
       "<IPython.core.display.HTML object>"
      ]
     },
     "metadata": {},
     "output_type": "display_data"
    },
    {
     "data": {
      "text/html": [
       "Successfully finished last run (ID:bit6e6ow). Initializing new run:<br/>"
      ],
      "text/plain": [
       "<IPython.core.display.HTML object>"
      ]
     },
     "metadata": {},
     "output_type": "display_data"
    },
    {
     "name": "stdout",
     "output_type": "stream",
     "text": [
      "huggingface/tokenizers: The current process just got forked, after parallelism has already been used. Disabling parallelism to avoid deadlocks...\n",
      "To disable this warning, you can either:\n",
      "\t- Avoid using `tokenizers` before the fork if possible\n",
      "\t- Explicitly set the environment variable TOKENIZERS_PARALLELISM=(true | false)\n"
     ]
    },
    {
     "data": {
      "text/html": [
       "Tracking run with wandb version 0.13.2"
      ],
      "text/plain": [
       "<IPython.core.display.HTML object>"
      ]
     },
     "metadata": {},
     "output_type": "display_data"
    },
    {
     "data": {
      "text/html": [
       "Run data is saved locally in <code>/workspace/projects/ekorpkit-book/outputs/cointax_polarity_kr/ekonelectra-base/wandb/run-20220906_100103-1a6rigq8</code>"
      ],
      "text/plain": [
       "<IPython.core.display.HTML object>"
      ]
     },
     "metadata": {},
     "output_type": "display_data"
    },
    {
     "data": {
      "text/html": [
       "Syncing run <strong><a href=\"https://wandb.ai/entelecheia/ekorpkit-book-cointax_polarity_kr/runs/1a6rigq8\" target=\"_blank\">driven-dawn-26</a></strong> to <a href=\"https://wandb.ai/entelecheia/ekorpkit-book-cointax_polarity_kr\" target=\"_blank\">Weights & Biases</a> (<a href=\"https://wandb.me/run\" target=\"_blank\">docs</a>)<br/>"
      ],
      "text/plain": [
       "<IPython.core.display.HTML object>"
      ]
     },
     "metadata": {},
     "output_type": "display_data"
    },
    {
     "data": {
      "application/json": {
       "ascii": false,
       "bar_format": null,
       "colour": null,
       "elapsed": 0.013179779052734375,
       "initial": 0,
       "n": 0,
       "ncols": null,
       "nrows": null,
       "postfix": null,
       "prefix": "",
       "rate": null,
       "total": 143,
       "unit": "it",
       "unit_divisor": 1000,
       "unit_scale": false
      },
      "application/vnd.jupyter.widget-view+json": {
       "model_id": "adfe72423f924c0b91c21c7c68e8815b",
       "version_major": 2,
       "version_minor": 0
      },
      "text/plain": [
       "  0%|          | 0/143 [00:00<?, ?it/s]"
      ]
     },
     "metadata": {},
     "output_type": "display_data"
    },
    {
     "data": {
      "application/json": {
       "ascii": false,
       "bar_format": null,
       "colour": null,
       "elapsed": 0.01253056526184082,
       "initial": 0,
       "n": 0,
       "ncols": null,
       "nrows": null,
       "postfix": null,
       "prefix": "",
       "rate": null,
       "total": 5,
       "unit": "it",
       "unit_divisor": 1000,
       "unit_scale": false
      },
      "application/vnd.jupyter.widget-view+json": {
       "model_id": "c6b9b156b32a46cbb57380e3e99ffe6b",
       "version_major": 2,
       "version_minor": 0
      },
      "text/plain": [
       "  0%|          | 0/5 [00:00<?, ?it/s]"
      ]
     },
     "metadata": {},
     "output_type": "display_data"
    },
    {
     "name": "stderr",
     "output_type": "stream",
     "text": [
      "Some weights of the model checkpoint at entelecheia/ekonelectra-base-discriminator were not used when initializing ElectraForSequenceClassification: ['discriminator_predictions.dense_prediction.weight', 'discriminator_predictions.dense_prediction.bias', 'discriminator_predictions.dense.weight', 'discriminator_predictions.dense.bias']\n",
      "- This IS expected if you are initializing ElectraForSequenceClassification from the checkpoint of a model trained on another task or with another architecture (e.g. initializing a BertForSequenceClassification model from a BertForPreTraining model).\n",
      "- This IS NOT expected if you are initializing ElectraForSequenceClassification from the checkpoint of a model that you expect to be exactly identical (initializing a BertForSequenceClassification model from a BertForSequenceClassification model).\n",
      "Some weights of ElectraForSequenceClassification were not initialized from the model checkpoint at entelecheia/ekonelectra-base-discriminator and are newly initialized: ['classifier.dense.bias', 'classifier.dense.weight', 'classifier.out_proj.bias', 'classifier.out_proj.weight']\n",
      "You should probably TRAIN this model on a down-stream task to be able to use it for predictions and inference.\n"
     ]
    },
    {
     "data": {
      "application/json": {
       "ascii": false,
       "bar_format": null,
       "colour": null,
       "elapsed": 0.013682842254638672,
       "initial": 0,
       "n": 0,
       "ncols": null,
       "nrows": null,
       "postfix": null,
       "prefix": "",
       "rate": null,
       "total": 456,
       "unit": "it",
       "unit_divisor": 1000,
       "unit_scale": false
      },
      "application/vnd.jupyter.widget-view+json": {
       "model_id": "5cb43c4cd5bb4886a869beea057dd438",
       "version_major": 2,
       "version_minor": 0
      },
      "text/plain": [
       "  0%|          | 0/456 [00:00<?, ?it/s]"
      ]
     },
     "metadata": {},
     "output_type": "display_data"
    },
    {
     "data": {
      "application/json": {
       "ascii": false,
       "bar_format": null,
       "colour": null,
       "elapsed": 0.012950420379638672,
       "initial": 0,
       "n": 0,
       "ncols": null,
       "nrows": null,
       "postfix": null,
       "prefix": "Epoch",
       "rate": null,
       "total": 2,
       "unit": "it",
       "unit_divisor": 1000,
       "unit_scale": false
      },
      "application/vnd.jupyter.widget-view+json": {
       "model_id": "c06fe1a4a40548d7a42cb936ddf3bf70",
       "version_major": 2,
       "version_minor": 0
      },
      "text/plain": [
       "Epoch:   0%|          | 0/2 [00:00<?, ?it/s]"
      ]
     },
     "metadata": {},
     "output_type": "display_data"
    },
    {
     "data": {
      "text/html": [
       "Finishing last run (ID:1a6rigq8) before initializing another..."
      ],
      "text/plain": [
       "<IPython.core.display.HTML object>"
      ]
     },
     "metadata": {},
     "output_type": "display_data"
    },
    {
     "data": {
      "text/html": [
       "Waiting for W&B process to finish... <strong style=\"color:green\">(success).</strong>"
      ],
      "text/plain": [
       "<IPython.core.display.HTML object>"
      ]
     },
     "metadata": {},
     "output_type": "display_data"
    },
    {
     "data": {
      "application/vnd.jupyter.widget-view+json": {
       "model_id": "",
       "version_major": 2,
       "version_minor": 0
      },
      "text/plain": [
       "VBox(children=(Label(value='0.002 MB of 0.002 MB uploaded (0.000 MB deduped)\\r'), FloatProgress(value=1.0, max…"
      ]
     },
     "metadata": {},
     "output_type": "display_data"
    },
    {
     "data": {
      "text/html": [
       "Synced <strong style=\"color:#cdcd00\">driven-dawn-26</strong>: <a href=\"https://wandb.ai/entelecheia/ekorpkit-book-cointax_polarity_kr/runs/1a6rigq8\" target=\"_blank\">https://wandb.ai/entelecheia/ekorpkit-book-cointax_polarity_kr/runs/1a6rigq8</a><br/>Synced 5 W&B file(s), 1 media file(s), 1 artifact file(s) and 0 other file(s)"
      ],
      "text/plain": [
       "<IPython.core.display.HTML object>"
      ]
     },
     "metadata": {},
     "output_type": "display_data"
    },
    {
     "data": {
      "text/html": [
       "Find logs at: <code>/workspace/projects/ekorpkit-book/outputs/cointax_polarity_kr/ekonelectra-base/wandb/run-20220906_100103-1a6rigq8/logs</code>"
      ],
      "text/plain": [
       "<IPython.core.display.HTML object>"
      ]
     },
     "metadata": {},
     "output_type": "display_data"
    },
    {
     "data": {
      "text/html": [
       "Successfully finished last run (ID:1a6rigq8). Initializing new run:<br/>"
      ],
      "text/plain": [
       "<IPython.core.display.HTML object>"
      ]
     },
     "metadata": {},
     "output_type": "display_data"
    },
    {
     "name": "stdout",
     "output_type": "stream",
     "text": [
      "huggingface/tokenizers: The current process just got forked, after parallelism has already been used. Disabling parallelism to avoid deadlocks...\n",
      "To disable this warning, you can either:\n",
      "\t- Avoid using `tokenizers` before the fork if possible\n",
      "\t- Explicitly set the environment variable TOKENIZERS_PARALLELISM=(true | false)\n"
     ]
    },
    {
     "data": {
      "text/html": [
       "Tracking run with wandb version 0.13.2"
      ],
      "text/plain": [
       "<IPython.core.display.HTML object>"
      ]
     },
     "metadata": {},
     "output_type": "display_data"
    },
    {
     "data": {
      "text/html": [
       "Run data is saved locally in <code>/workspace/projects/ekorpkit-book/outputs/cointax_polarity_kr/ekonelectra-base/wandb/run-20220906_100125-3jv32kl0</code>"
      ],
      "text/plain": [
       "<IPython.core.display.HTML object>"
      ]
     },
     "metadata": {},
     "output_type": "display_data"
    },
    {
     "data": {
      "text/html": [
       "Syncing run <strong><a href=\"https://wandb.ai/entelecheia/ekorpkit-book-cointax_polarity_kr/runs/3jv32kl0\" target=\"_blank\">lucky-eon-27</a></strong> to <a href=\"https://wandb.ai/entelecheia/ekorpkit-book-cointax_polarity_kr\" target=\"_blank\">Weights & Biases</a> (<a href=\"https://wandb.me/run\" target=\"_blank\">docs</a>)<br/>"
      ],
      "text/plain": [
       "<IPython.core.display.HTML object>"
      ]
     },
     "metadata": {},
     "output_type": "display_data"
    },
    {
     "data": {
      "application/json": {
       "ascii": false,
       "bar_format": null,
       "colour": null,
       "elapsed": 0.013399839401245117,
       "initial": 0,
       "n": 0,
       "ncols": null,
       "nrows": null,
       "postfix": null,
       "prefix": "Running Epoch 0 of 2",
       "rate": null,
       "total": 15,
       "unit": "it",
       "unit_divisor": 1000,
       "unit_scale": false
      },
      "application/vnd.jupyter.widget-view+json": {
       "model_id": "f0aafdccceeb4c2abf3490dbd48c4206",
       "version_major": 2,
       "version_minor": 0
      },
      "text/plain": [
       "Running Epoch 0 of 2:   0%|          | 0/15 [00:00<?, ?it/s]"
      ]
     },
     "metadata": {},
     "output_type": "display_data"
    },
    {
     "data": {
      "application/json": {
       "ascii": false,
       "bar_format": null,
       "colour": null,
       "elapsed": 0.01321721076965332,
       "initial": 0,
       "n": 0,
       "ncols": null,
       "nrows": null,
       "postfix": null,
       "prefix": "Running Epoch 1 of 2",
       "rate": null,
       "total": 15,
       "unit": "it",
       "unit_divisor": 1000,
       "unit_scale": false
      },
      "application/vnd.jupyter.widget-view+json": {
       "model_id": "820fce8fd44044b984eba15fbbc1210e",
       "version_major": 2,
       "version_minor": 0
      },
      "text/plain": [
       "Running Epoch 1 of 2:   0%|          | 0/15 [00:00<?, ?it/s]"
      ]
     },
     "metadata": {},
     "output_type": "display_data"
    },
    {
     "data": {
      "application/json": {
       "ascii": false,
       "bar_format": null,
       "colour": null,
       "elapsed": 0.013663053512573242,
       "initial": 0,
       "n": 0,
       "ncols": null,
       "nrows": null,
       "postfix": null,
       "prefix": "",
       "rate": null,
       "total": 143,
       "unit": "it",
       "unit_divisor": 1000,
       "unit_scale": false
      },
      "application/vnd.jupyter.widget-view+json": {
       "model_id": "997d59d50f144c47a0aff11b5de751b7",
       "version_major": 2,
       "version_minor": 0
      },
      "text/plain": [
       "  0%|          | 0/143 [00:00<?, ?it/s]"
      ]
     },
     "metadata": {},
     "output_type": "display_data"
    },
    {
     "data": {
      "application/json": {
       "ascii": false,
       "bar_format": null,
       "colour": null,
       "elapsed": 0.012729167938232422,
       "initial": 0,
       "n": 0,
       "ncols": null,
       "nrows": null,
       "postfix": null,
       "prefix": "Running Evaluation",
       "rate": null,
       "total": 5,
       "unit": "it",
       "unit_divisor": 1000,
       "unit_scale": false
      },
      "application/vnd.jupyter.widget-view+json": {
       "model_id": "76e966a4642d43888a3bcb7e5d9e672e",
       "version_major": 2,
       "version_minor": 0
      },
      "text/plain": [
       "Running Evaluation:   0%|          | 0/5 [00:00<?, ?it/s]"
      ]
     },
     "metadata": {},
     "output_type": "display_data"
    },
    {
     "data": {
      "text/html": [
       "Finishing last run (ID:3jv32kl0) before initializing another..."
      ],
      "text/plain": [
       "<IPython.core.display.HTML object>"
      ]
     },
     "metadata": {},
     "output_type": "display_data"
    },
    {
     "data": {
      "text/html": [
       "Waiting for W&B process to finish... <strong style=\"color:green\">(success).</strong>"
      ],
      "text/plain": [
       "<IPython.core.display.HTML object>"
      ]
     },
     "metadata": {},
     "output_type": "display_data"
    },
    {
     "data": {
      "application/vnd.jupyter.widget-view+json": {
       "model_id": "",
       "version_major": 2,
       "version_minor": 0
      },
      "text/plain": [
       "VBox(children=(Label(value='0.001 MB of 0.001 MB uploaded (0.000 MB deduped)\\r'), FloatProgress(value=1.0, max…"
      ]
     },
     "metadata": {},
     "output_type": "display_data"
    },
    {
     "data": {
      "text/html": [
       "<style>\n",
       "    table.wandb td:nth-child(1) { padding: 0 10px; text-align: left ; width: auto;} td:nth-child(2) {text-align: left ; width: 100%}\n",
       "    .wandb-row { display: flex; flex-direction: row; flex-wrap: wrap; justify-content: flex-start; width: 100% }\n",
       "    .wandb-col { display: flex; flex-direction: column; flex-basis: 100%; flex: 1; padding: 10px; }\n",
       "    </style>\n",
       "<div class=\"wandb-row\"><div class=\"wandb-col\"><h3>Run history:</h3><br/><table class=\"wandb\"><tr><td>acc</td><td>▁█</td></tr><tr><td>eval_loss</td><td>█▁</td></tr><tr><td>fn</td><td>█▁</td></tr><tr><td>fp</td><td>▁▁</td></tr><tr><td>global_step</td><td>▁█</td></tr><tr><td>mcc</td><td>▁█</td></tr><tr><td>tn</td><td>▁▁</td></tr><tr><td>tp</td><td>▁█</td></tr><tr><td>train_loss</td><td>▁█</td></tr></table><br/></div><div class=\"wandb-col\"><h3>Run summary:</h3><br/><table class=\"wandb\"><tr><td>acc</td><td>0.64348</td></tr><tr><td>eval_loss</td><td>0.57208</td></tr><tr><td>fn</td><td>41</td></tr><tr><td>fp</td><td>0</td></tr><tr><td>global_step</td><td>30</td></tr><tr><td>mcc</td><td>0.2079</td></tr><tr><td>tn</td><td>71</td></tr><tr><td>tp</td><td>3</td></tr><tr><td>train_loss</td><td>0.59674</td></tr></table><br/></div></div>"
      ],
      "text/plain": [
       "<IPython.core.display.HTML object>"
      ]
     },
     "metadata": {},
     "output_type": "display_data"
    },
    {
     "data": {
      "text/html": [
       "Synced <strong style=\"color:#cdcd00\">lucky-eon-27</strong>: <a href=\"https://wandb.ai/entelecheia/ekorpkit-book-cointax_polarity_kr/runs/3jv32kl0\" target=\"_blank\">https://wandb.ai/entelecheia/ekorpkit-book-cointax_polarity_kr/runs/3jv32kl0</a><br/>Synced 4 W&B file(s), 0 media file(s), 0 artifact file(s) and 0 other file(s)"
      ],
      "text/plain": [
       "<IPython.core.display.HTML object>"
      ]
     },
     "metadata": {},
     "output_type": "display_data"
    },
    {
     "data": {
      "text/html": [
       "Find logs at: <code>/workspace/projects/ekorpkit-book/outputs/cointax_polarity_kr/ekonelectra-base/wandb/run-20220906_100125-3jv32kl0/logs</code>"
      ],
      "text/plain": [
       "<IPython.core.display.HTML object>"
      ]
     },
     "metadata": {},
     "output_type": "display_data"
    },
    {
     "data": {
      "text/html": [
       "Successfully finished last run (ID:3jv32kl0). Initializing new run:<br/>"
      ],
      "text/plain": [
       "<IPython.core.display.HTML object>"
      ]
     },
     "metadata": {},
     "output_type": "display_data"
    },
    {
     "name": "stdout",
     "output_type": "stream",
     "text": [
      "huggingface/tokenizers: The current process just got forked, after parallelism has already been used. Disabling parallelism to avoid deadlocks...\n",
      "To disable this warning, you can either:\n",
      "\t- Avoid using `tokenizers` before the fork if possible\n",
      "\t- Explicitly set the environment variable TOKENIZERS_PARALLELISM=(true | false)\n"
     ]
    },
    {
     "data": {
      "text/html": [
       "Tracking run with wandb version 0.13.2"
      ],
      "text/plain": [
       "<IPython.core.display.HTML object>"
      ]
     },
     "metadata": {},
     "output_type": "display_data"
    },
    {
     "data": {
      "text/html": [
       "Run data is saved locally in <code>/workspace/projects/ekorpkit-book/outputs/cointax_polarity_kr/ekonelectra-base/wandb/run-20220906_100144-2r35eybv</code>"
      ],
      "text/plain": [
       "<IPython.core.display.HTML object>"
      ]
     },
     "metadata": {},
     "output_type": "display_data"
    },
    {
     "data": {
      "text/html": [
       "Syncing run <strong><a href=\"https://wandb.ai/entelecheia/ekorpkit-book-cointax_polarity_kr/runs/2r35eybv\" target=\"_blank\">frosty-frog-28</a></strong> to <a href=\"https://wandb.ai/entelecheia/ekorpkit-book-cointax_polarity_kr\" target=\"_blank\">Weights & Biases</a> (<a href=\"https://wandb.me/run\" target=\"_blank\">docs</a>)<br/>"
      ],
      "text/plain": [
       "<IPython.core.display.HTML object>"
      ]
     },
     "metadata": {},
     "output_type": "display_data"
    },
    {
     "data": {
      "application/json": {
       "ascii": false,
       "bar_format": null,
       "colour": null,
       "elapsed": 0.013153553009033203,
       "initial": 0,
       "n": 0,
       "ncols": null,
       "nrows": null,
       "postfix": null,
       "prefix": "",
       "rate": null,
       "total": 143,
       "unit": "it",
       "unit_divisor": 1000,
       "unit_scale": false
      },
      "application/vnd.jupyter.widget-view+json": {
       "model_id": "fd4a1dcc467948818949b259e00e33fe",
       "version_major": 2,
       "version_minor": 0
      },
      "text/plain": [
       "  0%|          | 0/143 [00:00<?, ?it/s]"
      ]
     },
     "metadata": {},
     "output_type": "display_data"
    },
    {
     "data": {
      "application/json": {
       "ascii": false,
       "bar_format": null,
       "colour": null,
       "elapsed": 0.012452363967895508,
       "initial": 0,
       "n": 0,
       "ncols": null,
       "nrows": null,
       "postfix": null,
       "prefix": "",
       "rate": null,
       "total": 5,
       "unit": "it",
       "unit_divisor": 1000,
       "unit_scale": false
      },
      "application/vnd.jupyter.widget-view+json": {
       "model_id": "646b7bdb362c4d248d662cda9a81028e",
       "version_major": 2,
       "version_minor": 0
      },
      "text/plain": [
       "  0%|          | 0/5 [00:00<?, ?it/s]"
      ]
     },
     "metadata": {},
     "output_type": "display_data"
    },
    {
     "name": "stderr",
     "output_type": "stream",
     "text": [
      "Some weights of the model checkpoint at entelecheia/ekonelectra-base-discriminator were not used when initializing ElectraForSequenceClassification: ['discriminator_predictions.dense_prediction.weight', 'discriminator_predictions.dense_prediction.bias', 'discriminator_predictions.dense.weight', 'discriminator_predictions.dense.bias']\n",
      "- This IS expected if you are initializing ElectraForSequenceClassification from the checkpoint of a model trained on another task or with another architecture (e.g. initializing a BertForSequenceClassification model from a BertForPreTraining model).\n",
      "- This IS NOT expected if you are initializing ElectraForSequenceClassification from the checkpoint of a model that you expect to be exactly identical (initializing a BertForSequenceClassification model from a BertForSequenceClassification model).\n",
      "Some weights of ElectraForSequenceClassification were not initialized from the model checkpoint at entelecheia/ekonelectra-base-discriminator and are newly initialized: ['classifier.dense.bias', 'classifier.dense.weight', 'classifier.out_proj.bias', 'classifier.out_proj.weight']\n",
      "You should probably TRAIN this model on a down-stream task to be able to use it for predictions and inference.\n"
     ]
    },
    {
     "data": {
      "application/json": {
       "ascii": false,
       "bar_format": null,
       "colour": null,
       "elapsed": 0.013520956039428711,
       "initial": 0,
       "n": 0,
       "ncols": null,
       "nrows": null,
       "postfix": null,
       "prefix": "",
       "rate": null,
       "total": 456,
       "unit": "it",
       "unit_divisor": 1000,
       "unit_scale": false
      },
      "application/vnd.jupyter.widget-view+json": {
       "model_id": "461dc716d20041d2888a6c2b4ba869a1",
       "version_major": 2,
       "version_minor": 0
      },
      "text/plain": [
       "  0%|          | 0/456 [00:00<?, ?it/s]"
      ]
     },
     "metadata": {},
     "output_type": "display_data"
    },
    {
     "data": {
      "application/json": {
       "ascii": false,
       "bar_format": null,
       "colour": null,
       "elapsed": 0.013164997100830078,
       "initial": 0,
       "n": 0,
       "ncols": null,
       "nrows": null,
       "postfix": null,
       "prefix": "Epoch",
       "rate": null,
       "total": 2,
       "unit": "it",
       "unit_divisor": 1000,
       "unit_scale": false
      },
      "application/vnd.jupyter.widget-view+json": {
       "model_id": "e6ba669d94bf42c0bac76b6b871c599c",
       "version_major": 2,
       "version_minor": 0
      },
      "text/plain": [
       "Epoch:   0%|          | 0/2 [00:00<?, ?it/s]"
      ]
     },
     "metadata": {},
     "output_type": "display_data"
    },
    {
     "data": {
      "text/html": [
       "Finishing last run (ID:2r35eybv) before initializing another..."
      ],
      "text/plain": [
       "<IPython.core.display.HTML object>"
      ]
     },
     "metadata": {},
     "output_type": "display_data"
    },
    {
     "data": {
      "text/html": [
       "Waiting for W&B process to finish... <strong style=\"color:green\">(success).</strong>"
      ],
      "text/plain": [
       "<IPython.core.display.HTML object>"
      ]
     },
     "metadata": {},
     "output_type": "display_data"
    },
    {
     "data": {
      "application/vnd.jupyter.widget-view+json": {
       "model_id": "",
       "version_major": 2,
       "version_minor": 0
      },
      "text/plain": [
       "VBox(children=(Label(value='0.002 MB of 0.002 MB uploaded (0.000 MB deduped)\\r'), FloatProgress(value=1.0, max…"
      ]
     },
     "metadata": {},
     "output_type": "display_data"
    },
    {
     "data": {
      "text/html": [
       "Synced <strong style=\"color:#cdcd00\">frosty-frog-28</strong>: <a href=\"https://wandb.ai/entelecheia/ekorpkit-book-cointax_polarity_kr/runs/2r35eybv\" target=\"_blank\">https://wandb.ai/entelecheia/ekorpkit-book-cointax_polarity_kr/runs/2r35eybv</a><br/>Synced 5 W&B file(s), 1 media file(s), 1 artifact file(s) and 0 other file(s)"
      ],
      "text/plain": [
       "<IPython.core.display.HTML object>"
      ]
     },
     "metadata": {},
     "output_type": "display_data"
    },
    {
     "data": {
      "text/html": [
       "Find logs at: <code>/workspace/projects/ekorpkit-book/outputs/cointax_polarity_kr/ekonelectra-base/wandb/run-20220906_100144-2r35eybv/logs</code>"
      ],
      "text/plain": [
       "<IPython.core.display.HTML object>"
      ]
     },
     "metadata": {},
     "output_type": "display_data"
    },
    {
     "data": {
      "text/html": [
       "Successfully finished last run (ID:2r35eybv). Initializing new run:<br/>"
      ],
      "text/plain": [
       "<IPython.core.display.HTML object>"
      ]
     },
     "metadata": {},
     "output_type": "display_data"
    },
    {
     "name": "stdout",
     "output_type": "stream",
     "text": [
      "huggingface/tokenizers: The current process just got forked, after parallelism has already been used. Disabling parallelism to avoid deadlocks...\n",
      "To disable this warning, you can either:\n",
      "\t- Avoid using `tokenizers` before the fork if possible\n",
      "\t- Explicitly set the environment variable TOKENIZERS_PARALLELISM=(true | false)\n"
     ]
    },
    {
     "data": {
      "text/html": [
       "Tracking run with wandb version 0.13.2"
      ],
      "text/plain": [
       "<IPython.core.display.HTML object>"
      ]
     },
     "metadata": {},
     "output_type": "display_data"
    },
    {
     "data": {
      "text/html": [
       "Run data is saved locally in <code>/workspace/projects/ekorpkit-book/outputs/cointax_polarity_kr/ekonelectra-base/wandb/run-20220906_100205-27zzd21u</code>"
      ],
      "text/plain": [
       "<IPython.core.display.HTML object>"
      ]
     },
     "metadata": {},
     "output_type": "display_data"
    },
    {
     "data": {
      "text/html": [
       "Syncing run <strong><a href=\"https://wandb.ai/entelecheia/ekorpkit-book-cointax_polarity_kr/runs/27zzd21u\" target=\"_blank\">driven-tree-29</a></strong> to <a href=\"https://wandb.ai/entelecheia/ekorpkit-book-cointax_polarity_kr\" target=\"_blank\">Weights & Biases</a> (<a href=\"https://wandb.me/run\" target=\"_blank\">docs</a>)<br/>"
      ],
      "text/plain": [
       "<IPython.core.display.HTML object>"
      ]
     },
     "metadata": {},
     "output_type": "display_data"
    },
    {
     "data": {
      "application/json": {
       "ascii": false,
       "bar_format": null,
       "colour": null,
       "elapsed": 0.013400793075561523,
       "initial": 0,
       "n": 0,
       "ncols": null,
       "nrows": null,
       "postfix": null,
       "prefix": "Running Epoch 0 of 2",
       "rate": null,
       "total": 15,
       "unit": "it",
       "unit_divisor": 1000,
       "unit_scale": false
      },
      "application/vnd.jupyter.widget-view+json": {
       "model_id": "997676fe5a51421eab1994fa85feef3f",
       "version_major": 2,
       "version_minor": 0
      },
      "text/plain": [
       "Running Epoch 0 of 2:   0%|          | 0/15 [00:00<?, ?it/s]"
      ]
     },
     "metadata": {},
     "output_type": "display_data"
    },
    {
     "data": {
      "application/json": {
       "ascii": false,
       "bar_format": null,
       "colour": null,
       "elapsed": 0.013357162475585938,
       "initial": 0,
       "n": 0,
       "ncols": null,
       "nrows": null,
       "postfix": null,
       "prefix": "Running Epoch 1 of 2",
       "rate": null,
       "total": 15,
       "unit": "it",
       "unit_divisor": 1000,
       "unit_scale": false
      },
      "application/vnd.jupyter.widget-view+json": {
       "model_id": "d2c5fa0f337d47a5943b649b01bcda77",
       "version_major": 2,
       "version_minor": 0
      },
      "text/plain": [
       "Running Epoch 1 of 2:   0%|          | 0/15 [00:00<?, ?it/s]"
      ]
     },
     "metadata": {},
     "output_type": "display_data"
    },
    {
     "data": {
      "application/json": {
       "ascii": false,
       "bar_format": null,
       "colour": null,
       "elapsed": 0.01441812515258789,
       "initial": 0,
       "n": 0,
       "ncols": null,
       "nrows": null,
       "postfix": null,
       "prefix": "",
       "rate": null,
       "total": 143,
       "unit": "it",
       "unit_divisor": 1000,
       "unit_scale": false
      },
      "application/vnd.jupyter.widget-view+json": {
       "model_id": "4c292e13e7a54ee7acafa895a2313702",
       "version_major": 2,
       "version_minor": 0
      },
      "text/plain": [
       "  0%|          | 0/143 [00:00<?, ?it/s]"
      ]
     },
     "metadata": {},
     "output_type": "display_data"
    },
    {
     "data": {
      "application/json": {
       "ascii": false,
       "bar_format": null,
       "colour": null,
       "elapsed": 0.012838363647460938,
       "initial": 0,
       "n": 0,
       "ncols": null,
       "nrows": null,
       "postfix": null,
       "prefix": "Running Evaluation",
       "rate": null,
       "total": 5,
       "unit": "it",
       "unit_divisor": 1000,
       "unit_scale": false
      },
      "application/vnd.jupyter.widget-view+json": {
       "model_id": "0f5843f4d44d4ae0b29016de78f7bb61",
       "version_major": 2,
       "version_minor": 0
      },
      "text/plain": [
       "Running Evaluation:   0%|          | 0/5 [00:00<?, ?it/s]"
      ]
     },
     "metadata": {},
     "output_type": "display_data"
    },
    {
     "data": {
      "text/html": [
       "Finishing last run (ID:27zzd21u) before initializing another..."
      ],
      "text/plain": [
       "<IPython.core.display.HTML object>"
      ]
     },
     "metadata": {},
     "output_type": "display_data"
    },
    {
     "data": {
      "text/html": [
       "Waiting for W&B process to finish... <strong style=\"color:green\">(success).</strong>"
      ],
      "text/plain": [
       "<IPython.core.display.HTML object>"
      ]
     },
     "metadata": {},
     "output_type": "display_data"
    },
    {
     "data": {
      "application/vnd.jupyter.widget-view+json": {
       "model_id": "",
       "version_major": 2,
       "version_minor": 0
      },
      "text/plain": [
       "VBox(children=(Label(value='0.001 MB of 0.001 MB uploaded (0.000 MB deduped)\\r'), FloatProgress(value=1.0, max…"
      ]
     },
     "metadata": {},
     "output_type": "display_data"
    },
    {
     "data": {
      "text/html": [
       "<style>\n",
       "    table.wandb td:nth-child(1) { padding: 0 10px; text-align: left ; width: auto;} td:nth-child(2) {text-align: left ; width: 100%}\n",
       "    .wandb-row { display: flex; flex-direction: row; flex-wrap: wrap; justify-content: flex-start; width: 100% }\n",
       "    .wandb-col { display: flex; flex-direction: column; flex-basis: 100%; flex: 1; padding: 10px; }\n",
       "    </style>\n",
       "<div class=\"wandb-row\"><div class=\"wandb-col\"><h3>Run history:</h3><br/><table class=\"wandb\"><tr><td>acc</td><td>▁▁</td></tr><tr><td>eval_loss</td><td>█▁</td></tr><tr><td>fn</td><td>▁▁</td></tr><tr><td>fp</td><td>▁▁</td></tr><tr><td>global_step</td><td>▁█</td></tr><tr><td>mcc</td><td>▁▁</td></tr><tr><td>tn</td><td>▁▁</td></tr><tr><td>tp</td><td>▁▁</td></tr><tr><td>train_loss</td><td>█▁</td></tr></table><br/></div><div class=\"wandb-col\"><h3>Run summary:</h3><br/><table class=\"wandb\"><tr><td>acc</td><td>0.64348</td></tr><tr><td>eval_loss</td><td>0.58591</td></tr><tr><td>fn</td><td>41</td></tr><tr><td>fp</td><td>0</td></tr><tr><td>global_step</td><td>30</td></tr><tr><td>mcc</td><td>0.0</td></tr><tr><td>tn</td><td>74</td></tr><tr><td>tp</td><td>0</td></tr><tr><td>train_loss</td><td>0.509</td></tr></table><br/></div></div>"
      ],
      "text/plain": [
       "<IPython.core.display.HTML object>"
      ]
     },
     "metadata": {},
     "output_type": "display_data"
    },
    {
     "data": {
      "text/html": [
       "Synced <strong style=\"color:#cdcd00\">driven-tree-29</strong>: <a href=\"https://wandb.ai/entelecheia/ekorpkit-book-cointax_polarity_kr/runs/27zzd21u\" target=\"_blank\">https://wandb.ai/entelecheia/ekorpkit-book-cointax_polarity_kr/runs/27zzd21u</a><br/>Synced 4 W&B file(s), 0 media file(s), 0 artifact file(s) and 0 other file(s)"
      ],
      "text/plain": [
       "<IPython.core.display.HTML object>"
      ]
     },
     "metadata": {},
     "output_type": "display_data"
    },
    {
     "data": {
      "text/html": [
       "Find logs at: <code>/workspace/projects/ekorpkit-book/outputs/cointax_polarity_kr/ekonelectra-base/wandb/run-20220906_100205-27zzd21u/logs</code>"
      ],
      "text/plain": [
       "<IPython.core.display.HTML object>"
      ]
     },
     "metadata": {},
     "output_type": "display_data"
    },
    {
     "data": {
      "text/html": [
       "Successfully finished last run (ID:27zzd21u). Initializing new run:<br/>"
      ],
      "text/plain": [
       "<IPython.core.display.HTML object>"
      ]
     },
     "metadata": {},
     "output_type": "display_data"
    },
    {
     "name": "stdout",
     "output_type": "stream",
     "text": [
      "huggingface/tokenizers: The current process just got forked, after parallelism has already been used. Disabling parallelism to avoid deadlocks...\n",
      "To disable this warning, you can either:\n",
      "\t- Avoid using `tokenizers` before the fork if possible\n",
      "\t- Explicitly set the environment variable TOKENIZERS_PARALLELISM=(true | false)\n"
     ]
    },
    {
     "data": {
      "text/html": [
       "Tracking run with wandb version 0.13.2"
      ],
      "text/plain": [
       "<IPython.core.display.HTML object>"
      ]
     },
     "metadata": {},
     "output_type": "display_data"
    },
    {
     "data": {
      "text/html": [
       "Run data is saved locally in <code>/workspace/projects/ekorpkit-book/outputs/cointax_polarity_kr/ekonelectra-base/wandb/run-20220906_100225-1iaimudb</code>"
      ],
      "text/plain": [
       "<IPython.core.display.HTML object>"
      ]
     },
     "metadata": {},
     "output_type": "display_data"
    },
    {
     "data": {
      "text/html": [
       "Syncing run <strong><a href=\"https://wandb.ai/entelecheia/ekorpkit-book-cointax_polarity_kr/runs/1iaimudb\" target=\"_blank\">feasible-wave-30</a></strong> to <a href=\"https://wandb.ai/entelecheia/ekorpkit-book-cointax_polarity_kr\" target=\"_blank\">Weights & Biases</a> (<a href=\"https://wandb.me/run\" target=\"_blank\">docs</a>)<br/>"
      ],
      "text/plain": [
       "<IPython.core.display.HTML object>"
      ]
     },
     "metadata": {},
     "output_type": "display_data"
    },
    {
     "data": {
      "application/json": {
       "ascii": false,
       "bar_format": null,
       "colour": null,
       "elapsed": 0.0130157470703125,
       "initial": 0,
       "n": 0,
       "ncols": null,
       "nrows": null,
       "postfix": null,
       "prefix": "",
       "rate": null,
       "total": 143,
       "unit": "it",
       "unit_divisor": 1000,
       "unit_scale": false
      },
      "application/vnd.jupyter.widget-view+json": {
       "model_id": "fd49d218b31145ed94a29ae788c3e61f",
       "version_major": 2,
       "version_minor": 0
      },
      "text/plain": [
       "  0%|          | 0/143 [00:00<?, ?it/s]"
      ]
     },
     "metadata": {},
     "output_type": "display_data"
    },
    {
     "data": {
      "application/json": {
       "ascii": false,
       "bar_format": null,
       "colour": null,
       "elapsed": 0.012708187103271484,
       "initial": 0,
       "n": 0,
       "ncols": null,
       "nrows": null,
       "postfix": null,
       "prefix": "",
       "rate": null,
       "total": 5,
       "unit": "it",
       "unit_divisor": 1000,
       "unit_scale": false
      },
      "application/vnd.jupyter.widget-view+json": {
       "model_id": "cbf48b5cc43b47fc93332876f3eadba4",
       "version_major": 2,
       "version_minor": 0
      },
      "text/plain": [
       "  0%|          | 0/5 [00:00<?, ?it/s]"
      ]
     },
     "metadata": {},
     "output_type": "display_data"
    },
    {
     "name": "stderr",
     "output_type": "stream",
     "text": [
      "Some weights of the model checkpoint at entelecheia/ekonelectra-base-discriminator were not used when initializing ElectraForSequenceClassification: ['discriminator_predictions.dense_prediction.weight', 'discriminator_predictions.dense_prediction.bias', 'discriminator_predictions.dense.weight', 'discriminator_predictions.dense.bias']\n",
      "- This IS expected if you are initializing ElectraForSequenceClassification from the checkpoint of a model trained on another task or with another architecture (e.g. initializing a BertForSequenceClassification model from a BertForPreTraining model).\n",
      "- This IS NOT expected if you are initializing ElectraForSequenceClassification from the checkpoint of a model that you expect to be exactly identical (initializing a BertForSequenceClassification model from a BertForSequenceClassification model).\n",
      "Some weights of ElectraForSequenceClassification were not initialized from the model checkpoint at entelecheia/ekonelectra-base-discriminator and are newly initialized: ['classifier.dense.bias', 'classifier.dense.weight', 'classifier.out_proj.bias', 'classifier.out_proj.weight']\n",
      "You should probably TRAIN this model on a down-stream task to be able to use it for predictions and inference.\n"
     ]
    },
    {
     "data": {
      "application/json": {
       "ascii": false,
       "bar_format": null,
       "colour": null,
       "elapsed": 0.012999296188354492,
       "initial": 0,
       "n": 0,
       "ncols": null,
       "nrows": null,
       "postfix": null,
       "prefix": "",
       "rate": null,
       "total": 457,
       "unit": "it",
       "unit_divisor": 1000,
       "unit_scale": false
      },
      "application/vnd.jupyter.widget-view+json": {
       "model_id": "f83a0ee3f4614426aa80ba4c52547d04",
       "version_major": 2,
       "version_minor": 0
      },
      "text/plain": [
       "  0%|          | 0/457 [00:00<?, ?it/s]"
      ]
     },
     "metadata": {},
     "output_type": "display_data"
    },
    {
     "data": {
      "application/json": {
       "ascii": false,
       "bar_format": null,
       "colour": null,
       "elapsed": 0.01287388801574707,
       "initial": 0,
       "n": 0,
       "ncols": null,
       "nrows": null,
       "postfix": null,
       "prefix": "Epoch",
       "rate": null,
       "total": 2,
       "unit": "it",
       "unit_divisor": 1000,
       "unit_scale": false
      },
      "application/vnd.jupyter.widget-view+json": {
       "model_id": "a4050a16be5c411f9ada7f1e5e2b8e26",
       "version_major": 2,
       "version_minor": 0
      },
      "text/plain": [
       "Epoch:   0%|          | 0/2 [00:00<?, ?it/s]"
      ]
     },
     "metadata": {},
     "output_type": "display_data"
    },
    {
     "data": {
      "text/html": [
       "Finishing last run (ID:1iaimudb) before initializing another..."
      ],
      "text/plain": [
       "<IPython.core.display.HTML object>"
      ]
     },
     "metadata": {},
     "output_type": "display_data"
    },
    {
     "data": {
      "text/html": [
       "Waiting for W&B process to finish... <strong style=\"color:green\">(success).</strong>"
      ],
      "text/plain": [
       "<IPython.core.display.HTML object>"
      ]
     },
     "metadata": {},
     "output_type": "display_data"
    },
    {
     "data": {
      "application/vnd.jupyter.widget-view+json": {
       "model_id": "",
       "version_major": 2,
       "version_minor": 0
      },
      "text/plain": [
       "VBox(children=(Label(value='0.002 MB of 0.002 MB uploaded (0.000 MB deduped)\\r'), FloatProgress(value=1.0, max…"
      ]
     },
     "metadata": {},
     "output_type": "display_data"
    },
    {
     "data": {
      "text/html": [
       "Synced <strong style=\"color:#cdcd00\">feasible-wave-30</strong>: <a href=\"https://wandb.ai/entelecheia/ekorpkit-book-cointax_polarity_kr/runs/1iaimudb\" target=\"_blank\">https://wandb.ai/entelecheia/ekorpkit-book-cointax_polarity_kr/runs/1iaimudb</a><br/>Synced 5 W&B file(s), 1 media file(s), 1 artifact file(s) and 0 other file(s)"
      ],
      "text/plain": [
       "<IPython.core.display.HTML object>"
      ]
     },
     "metadata": {},
     "output_type": "display_data"
    },
    {
     "data": {
      "text/html": [
       "Find logs at: <code>/workspace/projects/ekorpkit-book/outputs/cointax_polarity_kr/ekonelectra-base/wandb/run-20220906_100225-1iaimudb/logs</code>"
      ],
      "text/plain": [
       "<IPython.core.display.HTML object>"
      ]
     },
     "metadata": {},
     "output_type": "display_data"
    },
    {
     "data": {
      "text/html": [
       "Successfully finished last run (ID:1iaimudb). Initializing new run:<br/>"
      ],
      "text/plain": [
       "<IPython.core.display.HTML object>"
      ]
     },
     "metadata": {},
     "output_type": "display_data"
    },
    {
     "name": "stdout",
     "output_type": "stream",
     "text": [
      "huggingface/tokenizers: The current process just got forked, after parallelism has already been used. Disabling parallelism to avoid deadlocks...\n",
      "To disable this warning, you can either:\n",
      "\t- Avoid using `tokenizers` before the fork if possible\n",
      "\t- Explicitly set the environment variable TOKENIZERS_PARALLELISM=(true | false)\n"
     ]
    },
    {
     "data": {
      "text/html": [
       "Tracking run with wandb version 0.13.2"
      ],
      "text/plain": [
       "<IPython.core.display.HTML object>"
      ]
     },
     "metadata": {},
     "output_type": "display_data"
    },
    {
     "data": {
      "text/html": [
       "Run data is saved locally in <code>/workspace/projects/ekorpkit-book/outputs/cointax_polarity_kr/ekonelectra-base/wandb/run-20220906_100247-40ncfuia</code>"
      ],
      "text/plain": [
       "<IPython.core.display.HTML object>"
      ]
     },
     "metadata": {},
     "output_type": "display_data"
    },
    {
     "data": {
      "text/html": [
       "Syncing run <strong><a href=\"https://wandb.ai/entelecheia/ekorpkit-book-cointax_polarity_kr/runs/40ncfuia\" target=\"_blank\">rosy-snow-31</a></strong> to <a href=\"https://wandb.ai/entelecheia/ekorpkit-book-cointax_polarity_kr\" target=\"_blank\">Weights & Biases</a> (<a href=\"https://wandb.me/run\" target=\"_blank\">docs</a>)<br/>"
      ],
      "text/plain": [
       "<IPython.core.display.HTML object>"
      ]
     },
     "metadata": {},
     "output_type": "display_data"
    },
    {
     "data": {
      "application/json": {
       "ascii": false,
       "bar_format": null,
       "colour": null,
       "elapsed": 0.013309478759765625,
       "initial": 0,
       "n": 0,
       "ncols": null,
       "nrows": null,
       "postfix": null,
       "prefix": "Running Epoch 0 of 2",
       "rate": null,
       "total": 15,
       "unit": "it",
       "unit_divisor": 1000,
       "unit_scale": false
      },
      "application/vnd.jupyter.widget-view+json": {
       "model_id": "d74ce67bdbab4f408ae93c1505435f24",
       "version_major": 2,
       "version_minor": 0
      },
      "text/plain": [
       "Running Epoch 0 of 2:   0%|          | 0/15 [00:00<?, ?it/s]"
      ]
     },
     "metadata": {},
     "output_type": "display_data"
    },
    {
     "data": {
      "application/json": {
       "ascii": false,
       "bar_format": null,
       "colour": null,
       "elapsed": 0.01320791244506836,
       "initial": 0,
       "n": 0,
       "ncols": null,
       "nrows": null,
       "postfix": null,
       "prefix": "Running Epoch 1 of 2",
       "rate": null,
       "total": 15,
       "unit": "it",
       "unit_divisor": 1000,
       "unit_scale": false
      },
      "application/vnd.jupyter.widget-view+json": {
       "model_id": "d565c9338b9647029afe000af804de97",
       "version_major": 2,
       "version_minor": 0
      },
      "text/plain": [
       "Running Epoch 1 of 2:   0%|          | 0/15 [00:00<?, ?it/s]"
      ]
     },
     "metadata": {},
     "output_type": "display_data"
    },
    {
     "data": {
      "application/json": {
       "ascii": false,
       "bar_format": null,
       "colour": null,
       "elapsed": 0.0130157470703125,
       "initial": 0,
       "n": 0,
       "ncols": null,
       "nrows": null,
       "postfix": null,
       "prefix": "",
       "rate": null,
       "total": 142,
       "unit": "it",
       "unit_divisor": 1000,
       "unit_scale": false
      },
      "application/vnd.jupyter.widget-view+json": {
       "model_id": "b65e68e9bfb44722b4ce870b5732ba47",
       "version_major": 2,
       "version_minor": 0
      },
      "text/plain": [
       "  0%|          | 0/142 [00:00<?, ?it/s]"
      ]
     },
     "metadata": {},
     "output_type": "display_data"
    },
    {
     "data": {
      "application/json": {
       "ascii": false,
       "bar_format": null,
       "colour": null,
       "elapsed": 0.012703180313110352,
       "initial": 0,
       "n": 0,
       "ncols": null,
       "nrows": null,
       "postfix": null,
       "prefix": "Running Evaluation",
       "rate": null,
       "total": 5,
       "unit": "it",
       "unit_divisor": 1000,
       "unit_scale": false
      },
      "application/vnd.jupyter.widget-view+json": {
       "model_id": "5ba25b419e0247cfb92328ef53918aa0",
       "version_major": 2,
       "version_minor": 0
      },
      "text/plain": [
       "Running Evaluation:   0%|          | 0/5 [00:00<?, ?it/s]"
      ]
     },
     "metadata": {},
     "output_type": "display_data"
    },
    {
     "data": {
      "text/html": [
       "Finishing last run (ID:40ncfuia) before initializing another..."
      ],
      "text/plain": [
       "<IPython.core.display.HTML object>"
      ]
     },
     "metadata": {},
     "output_type": "display_data"
    },
    {
     "data": {
      "text/html": [
       "Waiting for W&B process to finish... <strong style=\"color:green\">(success).</strong>"
      ],
      "text/plain": [
       "<IPython.core.display.HTML object>"
      ]
     },
     "metadata": {},
     "output_type": "display_data"
    },
    {
     "data": {
      "application/vnd.jupyter.widget-view+json": {
       "model_id": "",
       "version_major": 2,
       "version_minor": 0
      },
      "text/plain": [
       "VBox(children=(Label(value='0.001 MB of 0.001 MB uploaded (0.000 MB deduped)\\r'), FloatProgress(value=1.0, max…"
      ]
     },
     "metadata": {},
     "output_type": "display_data"
    },
    {
     "data": {
      "text/html": [
       "<style>\n",
       "    table.wandb td:nth-child(1) { padding: 0 10px; text-align: left ; width: auto;} td:nth-child(2) {text-align: left ; width: 100%}\n",
       "    .wandb-row { display: flex; flex-direction: row; flex-wrap: wrap; justify-content: flex-start; width: 100% }\n",
       "    .wandb-col { display: flex; flex-direction: column; flex-basis: 100%; flex: 1; padding: 10px; }\n",
       "    </style>\n",
       "<div class=\"wandb-row\"><div class=\"wandb-col\"><h3>Run history:</h3><br/><table class=\"wandb\"><tr><td>acc</td><td>▁█</td></tr><tr><td>eval_loss</td><td>█▁</td></tr><tr><td>fn</td><td>█▁</td></tr><tr><td>fp</td><td>▁█</td></tr><tr><td>global_step</td><td>▁█</td></tr><tr><td>mcc</td><td>▁█</td></tr><tr><td>tn</td><td>█▁</td></tr><tr><td>tp</td><td>▁█</td></tr><tr><td>train_loss</td><td>▁█</td></tr></table><br/></div><div class=\"wandb-col\"><h3>Run summary:</h3><br/><table class=\"wandb\"><tr><td>acc</td><td>0.64348</td></tr><tr><td>eval_loss</td><td>0.57916</td></tr><tr><td>fn</td><td>40</td></tr><tr><td>fp</td><td>1</td></tr><tr><td>global_step</td><td>30</td></tr><tr><td>mcc</td><td>0.23757</td></tr><tr><td>tn</td><td>68</td></tr><tr><td>tp</td><td>6</td></tr><tr><td>train_loss</td><td>0.56057</td></tr></table><br/></div></div>"
      ],
      "text/plain": [
       "<IPython.core.display.HTML object>"
      ]
     },
     "metadata": {},
     "output_type": "display_data"
    },
    {
     "data": {
      "text/html": [
       "Synced <strong style=\"color:#cdcd00\">rosy-snow-31</strong>: <a href=\"https://wandb.ai/entelecheia/ekorpkit-book-cointax_polarity_kr/runs/40ncfuia\" target=\"_blank\">https://wandb.ai/entelecheia/ekorpkit-book-cointax_polarity_kr/runs/40ncfuia</a><br/>Synced 4 W&B file(s), 0 media file(s), 0 artifact file(s) and 0 other file(s)"
      ],
      "text/plain": [
       "<IPython.core.display.HTML object>"
      ]
     },
     "metadata": {},
     "output_type": "display_data"
    },
    {
     "data": {
      "text/html": [
       "Find logs at: <code>/workspace/projects/ekorpkit-book/outputs/cointax_polarity_kr/ekonelectra-base/wandb/run-20220906_100247-40ncfuia/logs</code>"
      ],
      "text/plain": [
       "<IPython.core.display.HTML object>"
      ]
     },
     "metadata": {},
     "output_type": "display_data"
    },
    {
     "data": {
      "text/html": [
       "Successfully finished last run (ID:40ncfuia). Initializing new run:<br/>"
      ],
      "text/plain": [
       "<IPython.core.display.HTML object>"
      ]
     },
     "metadata": {},
     "output_type": "display_data"
    },
    {
     "name": "stdout",
     "output_type": "stream",
     "text": [
      "huggingface/tokenizers: The current process just got forked, after parallelism has already been used. Disabling parallelism to avoid deadlocks...\n",
      "To disable this warning, you can either:\n",
      "\t- Avoid using `tokenizers` before the fork if possible\n",
      "\t- Explicitly set the environment variable TOKENIZERS_PARALLELISM=(true | false)\n"
     ]
    },
    {
     "data": {
      "text/html": [
       "Tracking run with wandb version 0.13.2"
      ],
      "text/plain": [
       "<IPython.core.display.HTML object>"
      ]
     },
     "metadata": {},
     "output_type": "display_data"
    },
    {
     "data": {
      "text/html": [
       "Run data is saved locally in <code>/workspace/projects/ekorpkit-book/outputs/cointax_polarity_kr/ekonelectra-base/wandb/run-20220906_100306-3astcrhk</code>"
      ],
      "text/plain": [
       "<IPython.core.display.HTML object>"
      ]
     },
     "metadata": {},
     "output_type": "display_data"
    },
    {
     "data": {
      "text/html": [
       "Syncing run <strong><a href=\"https://wandb.ai/entelecheia/ekorpkit-book-cointax_polarity_kr/runs/3astcrhk\" target=\"_blank\">chocolate-disco-32</a></strong> to <a href=\"https://wandb.ai/entelecheia/ekorpkit-book-cointax_polarity_kr\" target=\"_blank\">Weights & Biases</a> (<a href=\"https://wandb.me/run\" target=\"_blank\">docs</a>)<br/>"
      ],
      "text/plain": [
       "<IPython.core.display.HTML object>"
      ]
     },
     "metadata": {},
     "output_type": "display_data"
    },
    {
     "data": {
      "application/json": {
       "ascii": false,
       "bar_format": null,
       "colour": null,
       "elapsed": 0.013093948364257812,
       "initial": 0,
       "n": 0,
       "ncols": null,
       "nrows": null,
       "postfix": null,
       "prefix": "",
       "rate": null,
       "total": 142,
       "unit": "it",
       "unit_divisor": 1000,
       "unit_scale": false
      },
      "application/vnd.jupyter.widget-view+json": {
       "model_id": "d109d3cca1b8499cb6f654115b3a4050",
       "version_major": 2,
       "version_minor": 0
      },
      "text/plain": [
       "  0%|          | 0/142 [00:00<?, ?it/s]"
      ]
     },
     "metadata": {},
     "output_type": "display_data"
    },
    {
     "data": {
      "application/json": {
       "ascii": false,
       "bar_format": null,
       "colour": null,
       "elapsed": 0.012861967086791992,
       "initial": 0,
       "n": 0,
       "ncols": null,
       "nrows": null,
       "postfix": null,
       "prefix": "",
       "rate": null,
       "total": 5,
       "unit": "it",
       "unit_divisor": 1000,
       "unit_scale": false
      },
      "application/vnd.jupyter.widget-view+json": {
       "model_id": "1e7f8190737049a5bc032301a037ce2b",
       "version_major": 2,
       "version_minor": 0
      },
      "text/plain": [
       "  0%|          | 0/5 [00:00<?, ?it/s]"
      ]
     },
     "metadata": {},
     "output_type": "display_data"
    }
   ],
   "source": [
    "cv_preds = model.cross_val_predict(cv=5)\n",
    "eKonf.save_data(cv_preds, \"cointax_polarity_kr_cv_preds.parquet\", data_dir)"
   ]
  },
  {
   "cell_type": "markdown",
   "metadata": {},
   "source": [
    "## Use rubrix to find potential label errors"
   ]
  },
  {
   "cell_type": "code",
   "execution_count": 14,
   "metadata": {},
   "outputs": [
    {
     "name": "stderr",
     "output_type": "stream",
     "text": [
      "INFO:ekorpkit.base:Loaded .env from /workspace/projects/ekorpkit-book/config/.env\n",
      "INFO:ekorpkit.base:Loaded .env from /workspace/projects/ekorpkit-book/config/.env\n"
     ]
    }
   ],
   "source": [
    "rb_cfg = eKonf.compose('model/rubrix')\n",
    "rb_cfg.workspace = 'tax'\n",
    "rb_cfg.auto.init = True\n",
    "rb = eKonf.instantiate(rb_cfg)\n"
   ]
  },
  {
   "cell_type": "code",
   "execution_count": 15,
   "metadata": {},
   "outputs": [
    {
     "data": {
      "text/plain": [
       "'tax'"
      ]
     },
     "execution_count": 15,
     "metadata": {},
     "output_type": "execute_result"
    }
   ],
   "source": [
    "rb.get_workspace()"
   ]
  },
  {
   "cell_type": "code",
   "execution_count": 16,
   "metadata": {},
   "outputs": [],
   "source": [
    "cv_preds = eKonf.load_data(\"cointax_polarity_kr_cv_preds.parquet\", data_dir)"
   ]
  },
  {
   "cell_type": "code",
   "execution_count": 17,
   "metadata": {},
   "outputs": [
    {
     "data": {
      "text/plain": [
       "TextClassificationRecord(text='가상자산도 거래소를 통해 현금화 할 수 있고 기존 가상자산이 수익으로 늘어났다면 소득으로 보는 것이 맞다', inputs={'text': '가상자산도 거래소를 통해 현금화 할 수 있고 기존 가상자산이 수익으로 늘어났다면 소득으로 보는 것이 맞다'}, prediction=[('긍정', 0.7940806805109165), ('부정 ', 0.20591931948908335)], prediction_agent=None, annotation='긍정', annotation_agent=None, multi_label=False, explanation=None, id=None, metadata={'id': 141, 'split': 'dev'}, status='Validated', event_timestamp=None, metrics=None, search_keywords=None)"
      ]
     },
     "execution_count": 17,
     "metadata": {},
     "output_type": "execute_result"
    }
   ],
   "source": [
    "records = rb.create_records_from_cv_preds(\n",
    "    cv_preds,\n",
    ")\n",
    "records[0]"
   ]
  },
  {
   "cell_type": "code",
   "execution_count": 18,
   "metadata": {},
   "outputs": [
    {
     "data": {
      "text/plain": [
       "TextClassificationRecord(text='손해에 대해서 보상안함', inputs={'text': '손해에 대해서 보상안함'}, prediction=[('긍정', 0.816190228828839), ('부정 ', 0.1838097711711611)], prediction_agent=None, annotation='부정 ', annotation_agent=None, multi_label=False, explanation=None, id=None, metadata={'id': 678, 'split': 'train', 'label_error_candidate': 0}, status='Validated', event_timestamp=None, metrics=None, search_keywords=None)"
      ]
     },
     "execution_count": 18,
     "metadata": {},
     "output_type": "execute_result"
    }
   ],
   "source": [
    "# get records with potential label errors\n",
    "records_with_label_error = rb.find_label_errors(records)\n",
    "records_with_label_error[0]"
   ]
  },
  {
   "cell_type": "code",
   "execution_count": 19,
   "metadata": {},
   "outputs": [
    {
     "data": {
      "text/plain": [
       "20"
      ]
     },
     "execution_count": 19,
     "metadata": {},
     "output_type": "execute_result"
    }
   ],
   "source": [
    "len(records_with_label_error)"
   ]
  },
  {
   "cell_type": "code",
   "execution_count": 20,
   "metadata": {},
   "outputs": [
    {
     "data": {
      "application/json": {
       "ascii": false,
       "bar_format": null,
       "colour": null,
       "elapsed": 0.014428853988647461,
       "initial": 0,
       "n": 0,
       "ncols": null,
       "nrows": null,
       "postfix": null,
       "prefix": "",
       "rate": null,
       "total": 20,
       "unit": "it",
       "unit_divisor": 1000,
       "unit_scale": false
      },
      "application/vnd.jupyter.widget-view+json": {
       "model_id": "f756d4ae02fa41f0b7b3be2f0b488957",
       "version_major": 2,
       "version_minor": 0
      },
      "text/plain": [
       "  0%|          | 0/20 [00:00<?, ?it/s]"
      ]
     },
     "metadata": {},
     "output_type": "display_data"
    },
    {
     "name": "stdout",
     "output_type": "stream",
     "text": [
      "20 records logged to http://ekorpkit-book:6900/datasets/tax/cointax_polarity_kr_label_errors\n"
     ]
    }
   ],
   "source": [
    "# uncover label errors in the Rubrix web app\n",
    "rb.log(records_with_label_error, \"cointax_polarity_kr_label_errors\")"
   ]
  },
  {
   "cell_type": "markdown",
   "metadata": {},
   "source": [
    "## Saving the re-labelled dataset"
   ]
  },
  {
   "cell_type": "code",
   "execution_count": 21,
   "metadata": {},
   "outputs": [],
   "source": [
    "relabelled_dataset = rb.load(\"cointax_polarity_kr_label_errors\")"
   ]
  },
  {
   "cell_type": "code",
   "execution_count": 22,
   "metadata": {},
   "outputs": [],
   "source": [
    "for split, data in ds._splits.items():\n",
    "    data = rb.update_label_errors(data, relabelled_dataset, split=split)\n",
    "    ds._splits[split] = data"
   ]
  },
  {
   "cell_type": "code",
   "execution_count": 23,
   "metadata": {
    "scrolled": false
   },
   "outputs": [
    {
     "data": {
      "text/plain": [
       "0"
      ]
     },
     "execution_count": 23,
     "metadata": {},
     "output_type": "execute_result"
    }
   ],
   "source": [
    "len(ds.data[ds.data.labels != ds.data.original_labels])"
   ]
  },
  {
   "cell_type": "code",
   "execution_count": 24,
   "metadata": {
    "tags": [
     "hide-output"
    ]
   },
   "outputs": [
    {
     "name": "stderr",
     "output_type": "stream",
     "text": [
      "INFO:ekorpkit.base:Using batcher with minibatch size: 3\n"
     ]
    },
    {
     "data": {
      "application/json": {
       "ascii": false,
       "bar_format": null,
       "colour": null,
       "elapsed": 0.013842344284057617,
       "initial": 0,
       "n": 0,
       "ncols": null,
       "nrows": null,
       "postfix": null,
       "prefix": "apply len_bytes to num_bytes",
       "rate": null,
       "total": 171,
       "unit": "it",
       "unit_divisor": 1000,
       "unit_scale": false
      },
      "application/vnd.jupyter.widget-view+json": {
       "model_id": "3ec884d778594f909ada15966f2cabd2",
       "version_major": 2,
       "version_minor": 0
      },
      "text/plain": [
       "apply len_bytes to num_bytes:   0%|          | 0/171 [00:00<?, ?it/s]"
      ]
     },
     "metadata": {},
     "output_type": "display_data"
    },
    {
     "name": "stdout",
     "output_type": "stream",
     "text": [
      "huggingface/tokenizers: The current process just got forked, after parallelism has already been used. Disabling parallelism to avoid deadlocks...\n",
      "To disable this warning, you can either:\n",
      "\t- Avoid using `tokenizers` before the fork if possible\n",
      "\t- Explicitly set the environment variable TOKENIZERS_PARALLELISM=(true | false)\n",
      "huggingface/tokenizers: The current process just got forked, after parallelism has already been used. Disabling parallelism to avoid deadlocks...\n",
      "To disable this warning, you can either:\n",
      "\t- Avoid using `tokenizers` before the fork if possible\n",
      "\t- Explicitly set the environment variable TOKENIZERS_PARALLELISM=(true | false)\n",
      "huggingface/tokenizers: The current process just got forked, after parallelism has already been used. Disabling parallelism to avoid deadlocks...\n",
      "To disable this warning, you can either:\n",
      "\t- Avoid using `tokenizers` before the fork if possible\n",
      "\t- Explicitly set the environment variable TOKENIZERS_PARALLELISM=(true | false)\n",
      "huggingface/tokenizers: The current process just got forked, after parallelism has already been used. Disabling parallelism to avoid deadlocks...\n",
      "To disable this warning, you can either:\n",
      "\t- Avoid using `tokenizers` before the fork if possible\n",
      "\t- Explicitly set the environment variable TOKENIZERS_PARALLELISM=(true | false)\n",
      "huggingface/tokenizers: The current process just got forked, after parallelism has already been used. Disabling parallelism to avoid deadlocks...\n",
      "To disable this warning, you can either:\n",
      "\t- Avoid using `tokenizers` before the fork if possible\n",
      "\t- Explicitly set the environment variable TOKENIZERS_PARALLELISM=(true | false)\n",
      "huggingface/tokenizers: The current process just got forked, after parallelism has already been used. Disabling parallelism to avoid deadlocks...\n",
      "To disable this warning, you can either:\n",
      "\t- Avoid using `tokenizers` before the fork if possible\n",
      "\t- Explicitly set the environment variable TOKENIZERS_PARALLELISM=(true | false)\n",
      "huggingface/tokenizers: The current process just got forked, after parallelism has already been used. Disabling parallelism to avoid deadlocks...\n",
      "To disable this warning, you can either:\n",
      "\t- Avoid using `tokenizers` before the fork if possible\n",
      "\t- Explicitly set the environment variable TOKENIZERS_PARALLELISM=(true | false)\n",
      "huggingface/tokenizers: The current process just got forked, after parallelism has already been used. Disabling parallelism to avoid deadlocks...\n",
      "To disable this warning, you can either:\n",
      "\t- Avoid using `tokenizers` before the fork if possible\n",
      "\t- Explicitly set the environment variable TOKENIZERS_PARALLELISM=(true | false)\n",
      "huggingface/tokenizers: The current process just got forked, after parallelism has already been used. Disabling parallelism to avoid deadlocks...\n",
      "To disable this warning, you can either:\n",
      "\t- Avoid using `tokenizers` before the fork if possible\n",
      "\t- Explicitly set the environment variable TOKENIZERS_PARALLELISM=(true | false)\n",
      "huggingface/tokenizers: The current process just got forked, after parallelism has already been used. Disabling parallelism to avoid deadlocks...\n",
      "To disable this warning, you can either:\n",
      "\t- Avoid using `tokenizers` before the fork if possible\n",
      "\t- Explicitly set the environment variable TOKENIZERS_PARALLELISM=(true | false)\n",
      "huggingface/tokenizers: The current process just got forked, after parallelism has already been used. Disabling parallelism to avoid deadlocks...\n",
      "To disable this warning, you can either:\n",
      "\t- Avoid using `tokenizers` before the fork if possible\n",
      "\t- Explicitly set the environment variable TOKENIZERS_PARALLELISM=(true | false)\n",
      "huggingface/tokenizers: The current process just got forked, after parallelism has already been used. Disabling parallelism to avoid deadlocks...\n",
      "To disable this warning, you can either:\n",
      "\t- Avoid using `tokenizers` before the fork if possible\n",
      "\t- Explicitly set the environment variable TOKENIZERS_PARALLELISM=(true | false)\n",
      "huggingface/tokenizers: The current process just got forked, after parallelism has already been used. Disabling parallelism to avoid deadlocks...\n",
      "To disable this warning, you can either:\n",
      "\t- Avoid using `tokenizers` before the fork if possible\n",
      "\t- Explicitly set the environment variable TOKENIZERS_PARALLELISM=(true | false)\n",
      "huggingface/tokenizers: The current process just got forked, after parallelism has already been used. Disabling parallelism to avoid deadlocks...\n",
      "To disable this warning, you can either:\n",
      "\t- Avoid using `tokenizers` before the fork if possible\n",
      "\t- Explicitly set the environment variable TOKENIZERS_PARALLELISM=(true | false)\n",
      "huggingface/tokenizers: The current process just got forked, after parallelism has already been used. Disabling parallelism to avoid deadlocks...\n",
      "To disable this warning, you can either:\n",
      "\t- Avoid using `tokenizers` before the fork if possible\n",
      "\t- Explicitly set the environment variable TOKENIZERS_PARALLELISM=(true | false)\n",
      "huggingface/tokenizers: The current process just got forked, after parallelism has already been used. Disabling parallelism to avoid deadlocks...\n",
      "To disable this warning, you can either:\n",
      "\t- Avoid using `tokenizers` before the fork if possible\n",
      "\t- Explicitly set the environment variable TOKENIZERS_PARALLELISM=(true | false)\n",
      "huggingface/tokenizers: The current process just got forked, after parallelism has already been used. Disabling parallelism to avoid deadlocks...\n",
      "To disable this warning, you can either:\n",
      "\t- Avoid using `tokenizers` before the fork if possible\n",
      "\t- Explicitly set the environment variable TOKENIZERS_PARALLELISM=(true | false)\n",
      "huggingface/tokenizers: The current process just got forked, after parallelism has already been used. Disabling parallelism to avoid deadlocks...\n",
      "To disable this warning, you can either:\n",
      "\t- Avoid using `tokenizers` before the fork if possible\n",
      "\t- Explicitly set the environment variable TOKENIZERS_PARALLELISM=(true | false)\n",
      "huggingface/tokenizers: The current process just got forked, after parallelism has already been used. Disabling parallelism to avoid deadlocks...\n",
      "To disable this warning, you can either:\n",
      "\t- Avoid using `tokenizers` before the fork if possible\n",
      "\t- Explicitly set the environment variable TOKENIZERS_PARALLELISM=(true | false)\n",
      "huggingface/tokenizers: The current process just got forked, after parallelism has already been used. Disabling parallelism to avoid deadlocks...\n",
      "To disable this warning, you can either:\n",
      "\t- Avoid using `tokenizers` before the fork if possible\n",
      "\t- Explicitly set the environment variable TOKENIZERS_PARALLELISM=(true | false)\n",
      "huggingface/tokenizers: The current process just got forked, after parallelism has already been used. Disabling parallelism to avoid deadlocks...\n",
      "To disable this warning, you can either:\n",
      "\t- Avoid using `tokenizers` before the fork if possible\n",
      "\t- Explicitly set the environment variable TOKENIZERS_PARALLELISM=(true | false)\n",
      "huggingface/tokenizers: The current process just got forked, after parallelism has already been used. Disabling parallelism to avoid deadlocks...\n",
      "To disable this warning, you can either:\n",
      "\t- Avoid using `tokenizers` before the fork if possible\n",
      "\t- Explicitly set the environment variable TOKENIZERS_PARALLELISM=(true | false)\n",
      "huggingface/tokenizers: The current process just got forked, after parallelism has already been used. Disabling parallelism to avoid deadlocks...\n",
      "To disable this warning, you can either:\n",
      "\t- Avoid using `tokenizers` before the fork if possible\n",
      "\t- Explicitly set the environment variable TOKENIZERS_PARALLELISM=(true | false)\n",
      "huggingface/tokenizers: The current process just got forked, after parallelism has already been used. Disabling parallelism to avoid deadlocks...\n",
      "To disable this warning, you can either:\n",
      "\t- Avoid using `tokenizers` before the fork if possible\n",
      "\t- Explicitly set the environment variable TOKENIZERS_PARALLELISM=(true | false)\n",
      "huggingface/tokenizers: The current process just got forked, after parallelism has already been used. Disabling parallelism to avoid deadlocks...\n",
      "To disable this warning, you can either:\n",
      "\t- Avoid using `tokenizers` before the fork if possible\n",
      "\t- Explicitly set the environment variable TOKENIZERS_PARALLELISM=(true | false)\n",
      "huggingface/tokenizers: The current process just got forked, after parallelism has already been used. Disabling parallelism to avoid deadlocks...\n",
      "To disable this warning, you can either:\n",
      "\t- Avoid using `tokenizers` before the fork if possible\n",
      "\t- Explicitly set the environment variable TOKENIZERS_PARALLELISM=(true | false)\n"
     ]
    },
    {
     "name": "stdout",
     "output_type": "stream",
     "text": [
      "huggingface/tokenizers: The current process just got forked, after parallelism has already been used. Disabling parallelism to avoid deadlocks...\n",
      "To disable this warning, you can either:\n",
      "\t- Avoid using `tokenizers` before the fork if possible\n",
      "\t- Explicitly set the environment variable TOKENIZERS_PARALLELISM=(true | false)\n",
      "huggingface/tokenizers: The current process just got forked, after parallelism has already been used. Disabling parallelism to avoid deadlocks...\n",
      "To disable this warning, you can either:\n",
      "\t- Avoid using `tokenizers` before the fork if possible\n",
      "\t- Explicitly set the environment variable TOKENIZERS_PARALLELISM=(true | false)\n",
      "huggingface/tokenizers: The current process just got forked, after parallelism has already been used. Disabling parallelism to avoid deadlocks...\n",
      "To disable this warning, you can either:\n",
      "\t- Avoid using `tokenizers` before the fork if possible\n",
      "\t- Explicitly set the environment variable TOKENIZERS_PARALLELISM=(true | false)\n",
      "huggingface/tokenizers: The current process just got forked, after parallelism has already been used. Disabling parallelism to avoid deadlocks...\n",
      "To disable this warning, you can either:\n",
      "\t- Avoid using `tokenizers` before the fork if possible\n",
      "\t- Explicitly set the environment variable TOKENIZERS_PARALLELISM=(true | false)\n",
      "huggingface/tokenizers: The current process just got forked, after parallelism has already been used. Disabling parallelism to avoid deadlocks...\n",
      "To disable this warning, you can either:\n",
      "\t- Avoid using `tokenizers` before the fork if possible\n",
      "\t- Explicitly set the environment variable TOKENIZERS_PARALLELISM=(true | false)\n",
      "huggingface/tokenizers: The current process just got forked, after parallelism has already been used. Disabling parallelism to avoid deadlocks...\n",
      "To disable this warning, you can either:\n",
      "\t- Avoid using `tokenizers` before the fork if possible\n",
      "\t- Explicitly set the environment variable TOKENIZERS_PARALLELISM=(true | false)\n",
      "huggingface/tokenizers: The current process just got forked, after parallelism has already been used. Disabling parallelism to avoid deadlocks...\n",
      "To disable this warning, you can either:\n",
      "\t- Avoid using `tokenizers` before the fork if possible\n",
      "\t- Explicitly set the environment variable TOKENIZERS_PARALLELISM=(true | false)\n",
      "huggingface/tokenizers: The current process just got forked, after parallelism has already been used. Disabling parallelism to avoid deadlocks...\n",
      "To disable this warning, you can either:\n",
      "\t- Avoid using `tokenizers` before the fork if possible\n",
      "\t- Explicitly set the environment variable TOKENIZERS_PARALLELISM=(true | false)\n",
      "huggingface/tokenizers: The current process just got forked, after parallelism has already been used. Disabling parallelism to avoid deadlocks...\n",
      "To disable this warning, you can either:\n",
      "\t- Avoid using `tokenizers` before the fork if possible\n",
      "\t- Explicitly set the environment variable TOKENIZERS_PARALLELISM=(true | false)\n",
      "huggingface/tokenizers: The current process just got forked, after parallelism has already been used. Disabling parallelism to avoid deadlocks...\n",
      "To disable this warning, you can either:\n",
      "\t- Avoid using `tokenizers` before the fork if possible\n",
      "\t- Explicitly set the environment variable TOKENIZERS_PARALLELISM=(true | false)\n",
      "huggingface/tokenizers: The current process just got forked, after parallelism has already been used. Disabling parallelism to avoid deadlocks...\n",
      "To disable this warning, you can either:\n",
      "\t- Avoid using `tokenizers` before the fork if possible\n",
      "\t- Explicitly set the environment variable TOKENIZERS_PARALLELISM=(true | false)\n",
      "huggingface/tokenizers: The current process just got forked, after parallelism has already been used. Disabling parallelism to avoid deadlocks...\n",
      "To disable this warning, you can either:\n",
      "\t- Avoid using `tokenizers` before the fork if possible\n",
      "\t- Explicitly set the environment variable TOKENIZERS_PARALLELISM=(true | false)\n",
      "huggingface/tokenizers: The current process just got forked, after parallelism has already been used. Disabling parallelism to avoid deadlocks...\n",
      "To disable this warning, you can either:\n",
      "\t- Avoid using `tokenizers` before the fork if possible\n",
      "\t- Explicitly set the environment variable TOKENIZERS_PARALLELISM=(true | false)\n",
      "huggingface/tokenizers: The current process just got forked, after parallelism has already been used. Disabling parallelism to avoid deadlocks...\n",
      "To disable this warning, you can either:\n",
      "\t- Avoid using `tokenizers` before the fork if possible\n",
      "\t- Explicitly set the environment variable TOKENIZERS_PARALLELISM=(true | false)\n",
      "huggingface/tokenizers: The current process just got forked, after parallelism has already been used. Disabling parallelism to avoid deadlocks...\n",
      "To disable this warning, you can either:\n",
      "\t- Avoid using `tokenizers` before the fork if possible\n",
      "\t- Explicitly set the environment variable TOKENIZERS_PARALLELISM=(true | false)\n",
      "huggingface/tokenizers: The current process just got forked, after parallelism has already been used. Disabling parallelism to avoid deadlocks...\n",
      "To disable this warning, you can either:\n",
      "\t- Avoid using `tokenizers` before the fork if possible\n",
      "\t- Explicitly set the environment variable TOKENIZERS_PARALLELISM=(true | false)\n",
      "huggingface/tokenizers: The current process just got forked, after parallelism has already been used. Disabling parallelism to avoid deadlocks...\n",
      "To disable this warning, you can either:\n",
      "\t- Avoid using `tokenizers` before the fork if possible\n",
      "\t- Explicitly set the environment variable TOKENIZERS_PARALLELISM=(true | false)\n",
      "huggingface/tokenizers: The current process just got forked, after parallelism has already been used. Disabling parallelism to avoid deadlocks...\n",
      "To disable this warning, you can either:\n",
      "\t- Avoid using `tokenizers` before the fork if possible\n",
      "\t- Explicitly set the environment variable TOKENIZERS_PARALLELISM=(true | false)\n",
      "huggingface/tokenizers: The current process just got forked, after parallelism has already been used. Disabling parallelism to avoid deadlocks...\n",
      "To disable this warning, you can either:\n",
      "\t- Avoid using `tokenizers` before the fork if possible\n",
      "\t- Explicitly set the environment variable TOKENIZERS_PARALLELISM=(true | false)\n",
      "huggingface/tokenizers: The current process just got forked, after parallelism has already been used. Disabling parallelism to avoid deadlocks...\n",
      "To disable this warning, you can either:\n",
      "\t- Avoid using `tokenizers` before the fork if possible\n",
      "\t- Explicitly set the environment variable TOKENIZERS_PARALLELISM=(true | false)\n",
      "huggingface/tokenizers: The current process just got forked, after parallelism has already been used. Disabling parallelism to avoid deadlocks...\n",
      "To disable this warning, you can either:\n",
      "\t- Avoid using `tokenizers` before the fork if possible\n",
      "\t- Explicitly set the environment variable TOKENIZERS_PARALLELISM=(true | false)\n",
      "huggingface/tokenizers: The current process just got forked, after parallelism has already been used. Disabling parallelism to avoid deadlocks...\n",
      "To disable this warning, you can either:\n",
      "\t- Avoid using `tokenizers` before the fork if possible\n",
      "\t- Explicitly set the environment variable TOKENIZERS_PARALLELISM=(true | false)\n",
      "huggingface/tokenizers: The current process just got forked, after parallelism has already been used. Disabling parallelism to avoid deadlocks...\n",
      "To disable this warning, you can either:\n",
      "\t- Avoid using `tokenizers` before the fork if possible\n",
      "\t- Explicitly set the environment variable TOKENIZERS_PARALLELISM=(true | false)\n",
      "huggingface/tokenizers: The current process just got forked, after parallelism has already been used. Disabling parallelism to avoid deadlocks...\n",
      "To disable this warning, you can either:\n",
      "\t- Avoid using `tokenizers` before the fork if possible\n",
      "\t- Explicitly set the environment variable TOKENIZERS_PARALLELISM=(true | false)\n",
      "huggingface/tokenizers: The current process just got forked, after parallelism has already been used. Disabling parallelism to avoid deadlocks...\n",
      "To disable this warning, you can either:\n",
      "\t- Avoid using `tokenizers` before the fork if possible\n",
      "\t- Explicitly set the environment variable TOKENIZERS_PARALLELISM=(true | false)\n",
      "huggingface/tokenizers: The current process just got forked, after parallelism has already been used. Disabling parallelism to avoid deadlocks...\n",
      "To disable this warning, you can either:\n",
      "\t- Avoid using `tokenizers` before the fork if possible\n"
     ]
    },
    {
     "name": "stdout",
     "output_type": "stream",
     "text": [
      "\t- Explicitly set the environment variable TOKENIZERS_PARALLELISM=(true | false)\n",
      "huggingface/tokenizers: The current process just got forked, after parallelism has already been used. Disabling parallelism to avoid deadlocks...\n",
      "To disable this warning, you can either:\n",
      "\t- Avoid using `tokenizers` before the fork if possible\n",
      "\t- Explicitly set the environment variable TOKENIZERS_PARALLELISM=(true | false)\n",
      "huggingface/tokenizers: The current process just got forked, after parallelism has already been used. Disabling parallelism to avoid deadlocks...\n",
      "To disable this warning, you can either:\n",
      "\t- Avoid using `tokenizers` before the fork if possible\n",
      "\t- Explicitly set the environment variable TOKENIZERS_PARALLELISM=(true | false)\n",
      "huggingface/tokenizers: The current process just got forked, after parallelism has already been used. Disabling parallelism to avoid deadlocks...\n",
      "To disable this warning, you can either:\n",
      "\t- Avoid using `tokenizers` before the fork if possible\n",
      "\t- Explicitly set the environment variable TOKENIZERS_PARALLELISM=(true | false)\n",
      "huggingface/tokenizers: The current process just got forked, after parallelism has already been used. Disabling parallelism to avoid deadlocks...\n",
      "To disable this warning, you can either:\n",
      "\t- Avoid using `tokenizers` before the fork if possible\n",
      "\t- Explicitly set the environment variable TOKENIZERS_PARALLELISM=(true | false)\n",
      "huggingface/tokenizers: The current process just got forked, after parallelism has already been used. Disabling parallelism to avoid deadlocks...\n",
      "To disable this warning, you can either:\n",
      "\t- Avoid using `tokenizers` before the fork if possible\n",
      "\t- Explicitly set the environment variable TOKENIZERS_PARALLELISM=(true | false)\n",
      "huggingface/tokenizers: The current process just got forked, after parallelism has already been used. Disabling parallelism to avoid deadlocks...\n",
      "To disable this warning, you can either:\n",
      "\t- Avoid using `tokenizers` before the fork if possible\n",
      "\t- Explicitly set the environment variable TOKENIZERS_PARALLELISM=(true | false)\n",
      "huggingface/tokenizers: The current process just got forked, after parallelism has already been used. Disabling parallelism to avoid deadlocks...\n",
      "To disable this warning, you can either:\n",
      "\t- Avoid using `tokenizers` before the fork if possible\n",
      "\t- Explicitly set the environment variable TOKENIZERS_PARALLELISM=(true | false)\n",
      "huggingface/tokenizers: The current process just got forked, after parallelism has already been used. Disabling parallelism to avoid deadlocks...\n",
      "To disable this warning, you can either:\n",
      "\t- Avoid using `tokenizers` before the fork if possible\n",
      "\t- Explicitly set the environment variable TOKENIZERS_PARALLELISM=(true | false)\n",
      "huggingface/tokenizers: The current process just got forked, after parallelism has already been used. Disabling parallelism to avoid deadlocks...\n",
      "To disable this warning, you can either:\n",
      "\t- Avoid using `tokenizers` before the fork if possible\n",
      "\t- Explicitly set the environment variable TOKENIZERS_PARALLELISM=(true | false)\n",
      "huggingface/tokenizers: The current process just got forked, after parallelism has already been used. Disabling parallelism to avoid deadlocks...\n",
      "To disable this warning, you can either:\n",
      "\t- Avoid using `tokenizers` before the fork if possible\n",
      "\t- Explicitly set the environment variable TOKENIZERS_PARALLELISM=(true | false)\n",
      "huggingface/tokenizers: The current process just got forked, after parallelism has already been used. Disabling parallelism to avoid deadlocks...\n",
      "To disable this warning, you can either:\n",
      "\t- Avoid using `tokenizers` before the fork if possible\n",
      "\t- Explicitly set the environment variable TOKENIZERS_PARALLELISM=(true | false)\n",
      "huggingface/tokenizers: The current process just got forked, after parallelism has already been used. Disabling parallelism to avoid deadlocks...\n",
      "To disable this warning, you can either:\n",
      "\t- Avoid using `tokenizers` before the fork if possible\n",
      "\t- Explicitly set the environment variable TOKENIZERS_PARALLELISM=(true | false)\n",
      "huggingface/tokenizers: The current process just got forked, after parallelism has already been used. Disabling parallelism to avoid deadlocks...\n",
      "To disable this warning, you can either:\n",
      "\t- Avoid using `tokenizers` before the fork if possible\n",
      "\t- Explicitly set the environment variable TOKENIZERS_PARALLELISM=(true | false)\n",
      "huggingface/tokenizers: The current process just got forked, after parallelism has already been used. Disabling parallelism to avoid deadlocks...\n",
      "To disable this warning, you can either:\n",
      "\t- Avoid using `tokenizers` before the fork if possible\n",
      "\t- Explicitly set the environment variable TOKENIZERS_PARALLELISM=(true | false)\n",
      "huggingface/tokenizers: The current process just got forked, after parallelism has already been used. Disabling parallelism to avoid deadlocks...\n",
      "To disable this warning, you can either:\n",
      "\t- Avoid using `tokenizers` before the fork if possible\n",
      "\t- Explicitly set the environment variable TOKENIZERS_PARALLELISM=(true | false)\n",
      "huggingface/tokenizers: The current process just got forked, after parallelism has already been used. Disabling parallelism to avoid deadlocks...\n",
      "To disable this warning, you can either:\n",
      "\t- Avoid using `tokenizers` before the fork if possible\n",
      "\t- Explicitly set the environment variable TOKENIZERS_PARALLELISM=(true | false)\n",
      "huggingface/tokenizers: The current process just got forked, after parallelism has already been used. Disabling parallelism to avoid deadlocks...\n",
      "To disable this warning, you can either:\n",
      "\t- Avoid using `tokenizers` before the fork if possible\n",
      "\t- Explicitly set the environment variable TOKENIZERS_PARALLELISM=(true | false)\n",
      "huggingface/tokenizers: The current process just got forked, after parallelism has already been used. Disabling parallelism to avoid deadlocks...\n",
      "To disable this warning, you can either:\n",
      "\t- Avoid using `tokenizers` before the fork if possible\n",
      "\t- Explicitly set the environment variable TOKENIZERS_PARALLELISM=(true | false)\n",
      "huggingface/tokenizers: The current process just got forked, after parallelism has already been used. Disabling parallelism to avoid deadlocks...\n",
      "To disable this warning, you can either:\n",
      "\t- Avoid using `tokenizers` before the fork if possible\n",
      "\t- Explicitly set the environment variable TOKENIZERS_PARALLELISM=(true | false)\n",
      "huggingface/tokenizers: The current process just got forked, after parallelism has already been used. Disabling parallelism to avoid deadlocks...\n",
      "To disable this warning, you can either:\n",
      "\t- Avoid using `tokenizers` before the fork if possible\n",
      "\t- Explicitly set the environment variable TOKENIZERS_PARALLELISM=(true | false)\n",
      "huggingface/tokenizers: The current process just got forked, after parallelism has already been used. Disabling parallelism to avoid deadlocks...\n",
      "To disable this warning, you can either:\n",
      "\t- Avoid using `tokenizers` before the fork if possible\n",
      "\t- Explicitly set the environment variable TOKENIZERS_PARALLELISM=(true | false)\n",
      "huggingface/tokenizers: The current process just got forked, after parallelism has already been used. Disabling parallelism to avoid deadlocks...\n",
      "To disable this warning, you can either:\n",
      "\t- Avoid using `tokenizers` before the fork if possible\n",
      "\t- Explicitly set the environment variable TOKENIZERS_PARALLELISM=(true | false)\n",
      "huggingface/tokenizers: The current process just got forked, after parallelism has already been used. Disabling parallelism to avoid deadlocks...\n",
      "To disable this warning, you can either:\n",
      "\t- Avoid using `tokenizers` before the fork if possible\n",
      "\t- Explicitly set the environment variable TOKENIZERS_PARALLELISM=(true | false)\n",
      "huggingface/tokenizers: The current process just got forked, after parallelism has already been used. Disabling parallelism to avoid deadlocks...\n",
      "To disable this warning, you can either:\n",
      "\t- Avoid using `tokenizers` before the fork if possible\n",
      "\t- Explicitly set the environment variable TOKENIZERS_PARALLELISM=(true | false)\n",
      "huggingface/tokenizers: The current process just got forked, after parallelism has already been used. Disabling parallelism to avoid deadlocks...\n",
      "To disable this warning, you can either:\n",
      "\t- Avoid using `tokenizers` before the fork if possible\n",
      "\t- Explicitly set the environment variable TOKENIZERS_PARALLELISM=(true | false)\n",
      "huggingface/tokenizers: The current process just got forked, after parallelism has already been used. Disabling parallelism to avoid deadlocks...\n",
      "To disable this warning, you can either:\n",
      "\t- Avoid using `tokenizers` before the fork if possible\n",
      "\t- Explicitly set the environment variable TOKENIZERS_PARALLELISM=(true | false)\n"
     ]
    },
    {
     "name": "stdout",
     "output_type": "stream",
     "text": [
      "huggingface/tokenizers: The current process just got forked, after parallelism has already been used. Disabling parallelism to avoid deadlocks...\n",
      "To disable this warning, you can either:\n",
      "\t- Avoid using `tokenizers` before the fork if possible\n",
      "\t- Explicitly set the environment variable TOKENIZERS_PARALLELISM=(true | false)\n",
      "huggingface/tokenizers: The current process just got forked, after parallelism has already been used. Disabling parallelism to avoid deadlocks...\n",
      "To disable this warning, you can either:\n",
      "\t- Avoid using `tokenizers` before the fork if possible\n",
      "\t- Explicitly set the environment variable TOKENIZERS_PARALLELISM=(true | false)\n",
      "huggingface/tokenizers: The current process just got forked, after parallelism has already been used. Disabling parallelism to avoid deadlocks...\n",
      "To disable this warning, you can either:\n",
      "\t- Avoid using `tokenizers` before the fork if possible\n",
      "\t- Explicitly set the environment variable TOKENIZERS_PARALLELISM=(true | false)\n",
      "huggingface/tokenizers: The current process just got forked, after parallelism has already been used. Disabling parallelism to avoid deadlocks...\n",
      "To disable this warning, you can either:\n",
      "\t- Avoid using `tokenizers` before the fork if possible\n",
      "\t- Explicitly set the environment variable TOKENIZERS_PARALLELISM=(true | false)\n",
      "huggingface/tokenizers: The current process just got forked, after parallelism has already been used. Disabling parallelism to avoid deadlocks...\n",
      "To disable this warning, you can either:\n",
      "\t- Avoid using `tokenizers` before the fork if possible\n",
      "\t- Explicitly set the environment variable TOKENIZERS_PARALLELISM=(true | false)\n",
      "huggingface/tokenizers: The current process just got forked, after parallelism has already been used. Disabling parallelism to avoid deadlocks...\n",
      "To disable this warning, you can either:\n",
      "\t- Avoid using `tokenizers` before the fork if possible\n",
      "\t- Explicitly set the environment variable TOKENIZERS_PARALLELISM=(true | false)\n",
      "huggingface/tokenizers: The current process just got forked, after parallelism has already been used. Disabling parallelism to avoid deadlocks...\n",
      "To disable this warning, you can either:\n",
      "\t- Avoid using `tokenizers` before the fork if possible\n",
      "\t- Explicitly set the environment variable TOKENIZERS_PARALLELISM=(true | false)\n",
      "huggingface/tokenizers: The current process just got forked, after parallelism has already been used. Disabling parallelism to avoid deadlocks...\n",
      "To disable this warning, you can either:\n",
      "\t- Avoid using `tokenizers` before the fork if possible\n",
      "\t- Explicitly set the environment variable TOKENIZERS_PARALLELISM=(true | false)\n",
      "huggingface/tokenizers: The current process just got forked, after parallelism has already been used. Disabling parallelism to avoid deadlocks...\n",
      "To disable this warning, you can either:\n",
      "\t- Avoid using `tokenizers` before the fork if possible\n",
      "\t- Explicitly set the environment variable TOKENIZERS_PARALLELISM=(true | false)\n",
      "huggingface/tokenizers: The current process just got forked, after parallelism has already been used. Disabling parallelism to avoid deadlocks...\n",
      "To disable this warning, you can either:\n",
      "\t- Avoid using `tokenizers` before the fork if possible\n",
      "\t- Explicitly set the environment variable TOKENIZERS_PARALLELISM=(true | false)\n",
      "huggingface/tokenizers: The current process just got forked, after parallelism has already been used. Disabling parallelism to avoid deadlocks...\n",
      "To disable this warning, you can either:\n",
      "\t- Avoid using `tokenizers` before the fork if possible\n",
      "\t- Explicitly set the environment variable TOKENIZERS_PARALLELISM=(true | false)\n",
      "huggingface/tokenizers: The current process just got forked, after parallelism has already been used. Disabling parallelism to avoid deadlocks...\n",
      "To disable this warning, you can either:\n",
      "\t- Avoid using `tokenizers` before the fork if possible\n",
      "\t- Explicitly set the environment variable TOKENIZERS_PARALLELISM=(true | false)\n",
      "huggingface/tokenizers: The current process just got forked, after parallelism has already been used. Disabling parallelism to avoid deadlocks...\n",
      "To disable this warning, you can either:\n",
      "\t- Avoid using `tokenizers` before the fork if possible\n",
      "\t- Explicitly set the environment variable TOKENIZERS_PARALLELISM=(true | false)\n",
      "huggingface/tokenizers: The current process just got forked, after parallelism has already been used. Disabling parallelism to avoid deadlocks...\n",
      "To disable this warning, you can either:\n",
      "\t- Avoid using `tokenizers` before the fork if possible\n",
      "\t- Explicitly set the environment variable TOKENIZERS_PARALLELISM=(true | false)\n",
      "huggingface/tokenizers: The current process just got forked, after parallelism has already been used. Disabling parallelism to avoid deadlocks...\n",
      "To disable this warning, you can either:\n",
      "\t- Avoid using `tokenizers` before the fork if possible\n",
      "\t- Explicitly set the environment variable TOKENIZERS_PARALLELISM=(true | false)\n",
      "huggingface/tokenizers: The current process just got forked, after parallelism has already been used. Disabling parallelism to avoid deadlocks...\n",
      "To disable this warning, you can either:\n",
      "\t- Avoid using `tokenizers` before the fork if possible\n",
      "\t- Explicitly set the environment variable TOKENIZERS_PARALLELISM=(true | false)\n",
      "huggingface/tokenizers: The current process just got forked, after parallelism has already been used. Disabling parallelism to avoid deadlocks...\n",
      "To disable this warning, you can either:\n",
      "\t- Avoid using `tokenizers` before the fork if possible\n",
      "\t- Explicitly set the environment variable TOKENIZERS_PARALLELISM=(true | false)\n",
      "huggingface/tokenizers: The current process just got forked, after parallelism has already been used. Disabling parallelism to avoid deadlocks...\n",
      "To disable this warning, you can either:\n",
      "\t- Avoid using `tokenizers` before the fork if possible\n",
      "\t- Explicitly set the environment variable TOKENIZERS_PARALLELISM=(true | false)\n",
      "huggingface/tokenizers: The current process just got forked, after parallelism has already been used. Disabling parallelism to avoid deadlocks...\n",
      "To disable this warning, you can either:\n",
      "\t- Avoid using `tokenizers` before the fork if possible\n",
      "\t- Explicitly set the environment variable TOKENIZERS_PARALLELISM=(true | false)\n",
      "huggingface/tokenizers: The current process just got forked, after parallelism has already been used. Disabling parallelism to avoid deadlocks...\n",
      "To disable this warning, you can either:\n",
      "\t- Avoid using `tokenizers` before the fork if possible\n",
      "\t- Explicitly set the environment variable TOKENIZERS_PARALLELISM=(true | false)\n",
      "huggingface/tokenizers: The current process just got forked, after parallelism has already been used. Disabling parallelism to avoid deadlocks...\n",
      "To disable this warning, you can either:\n",
      "\t- Avoid using `tokenizers` before the fork if possible\n",
      "\t- Explicitly set the environment variable TOKENIZERS_PARALLELISM=(true | false)\n",
      "huggingface/tokenizers: The current process just got forked, after parallelism has already been used. Disabling parallelism to avoid deadlocks...\n",
      "To disable this warning, you can either:\n",
      "\t- Avoid using `tokenizers` before the fork if possible\n",
      "\t- Explicitly set the environment variable TOKENIZERS_PARALLELISM=(true | false)\n",
      "huggingface/tokenizers: The current process just got forked, after parallelism has already been used. Disabling parallelism to avoid deadlocks...\n",
      "To disable this warning, you can either:\n",
      "\t- Avoid using `tokenizers` before the fork if possible\n",
      "\t- Explicitly set the environment variable TOKENIZERS_PARALLELISM=(true | false)\n",
      "huggingface/tokenizers: The current process just got forked, after parallelism has already been used. Disabling parallelism to avoid deadlocks...\n",
      "To disable this warning, you can either:\n",
      "\t- Avoid using `tokenizers` before the fork if possible\n",
      "\t- Explicitly set the environment variable TOKENIZERS_PARALLELISM=(true | false)\n",
      "huggingface/tokenizers: The current process just got forked, after parallelism has already been used. Disabling parallelism to avoid deadlocks...\n",
      "To disable this warning, you can either:\n",
      "\t- Avoid using `tokenizers` before the fork if possible\n",
      "\t- Explicitly set the environment variable TOKENIZERS_PARALLELISM=(true | false)\n",
      "huggingface/tokenizers: The current process just got forked, after parallelism has already been used. Disabling parallelism to avoid deadlocks...\n",
      "To disable this warning, you can either:\n",
      "\t- Avoid using `tokenizers` before the fork if possible\n",
      "\t- Explicitly set the environment variable TOKENIZERS_PARALLELISM=(true | false)\n"
     ]
    },
    {
     "name": "stdout",
     "output_type": "stream",
     "text": [
      "huggingface/tokenizers: The current process just got forked, after parallelism has already been used. Disabling parallelism to avoid deadlocks...\n",
      "To disable this warning, you can either:\n",
      "\t- Avoid using `tokenizers` before the fork if possible\n",
      "\t- Explicitly set the environment variable TOKENIZERS_PARALLELISM=(true | false)\n",
      "huggingface/tokenizers: The current process just got forked, after parallelism has already been used. Disabling parallelism to avoid deadlocks...\n",
      "To disable this warning, you can either:\n",
      "\t- Avoid using `tokenizers` before the fork if possible\n",
      "\t- Explicitly set the environment variable TOKENIZERS_PARALLELISM=(true | false)\n",
      "huggingface/tokenizers: The current process just got forked, after parallelism has already been used. Disabling parallelism to avoid deadlocks...\n",
      "To disable this warning, you can either:\n",
      "\t- Avoid using `tokenizers` before the fork if possible\n",
      "\t- Explicitly set the environment variable TOKENIZERS_PARALLELISM=(true | false)\n",
      "huggingface/tokenizers: The current process just got forked, after parallelism has already been used. Disabling parallelism to avoid deadlocks...\n",
      "To disable this warning, you can either:\n",
      "\t- Avoid using `tokenizers` before the fork if possible\n",
      "\t- Explicitly set the environment variable TOKENIZERS_PARALLELISM=(true | false)\n",
      "huggingface/tokenizers: The current process just got forked, after parallelism has already been used. Disabling parallelism to avoid deadlocks...\n",
      "To disable this warning, you can either:\n",
      "\t- Avoid using `tokenizers` before the fork if possible\n",
      "\t- Explicitly set the environment variable TOKENIZERS_PARALLELISM=(true | false)\n",
      "huggingface/tokenizers: The current process just got forked, after parallelism has already been used. Disabling parallelism to avoid deadlocks...\n",
      "To disable this warning, you can either:\n",
      "\t- Avoid using `tokenizers` before the fork if possible\n",
      "\t- Explicitly set the environment variable TOKENIZERS_PARALLELISM=(true | false)\n",
      "huggingface/tokenizers: The current process just got forked, after parallelism has already been used. Disabling parallelism to avoid deadlocks...\n",
      "To disable this warning, you can either:\n",
      "\t- Avoid using `tokenizers` before the fork if possible\n",
      "\t- Explicitly set the environment variable TOKENIZERS_PARALLELISM=(true | false)\n",
      "huggingface/tokenizers: The current process just got forked, after parallelism has already been used. Disabling parallelism to avoid deadlocks...\n",
      "To disable this warning, you can either:\n",
      "\t- Avoid using `tokenizers` before the fork if possible\n",
      "\t- Explicitly set the environment variable TOKENIZERS_PARALLELISM=(true | false)\n",
      "huggingface/tokenizers: The current process just got forked, after parallelism has already been used. Disabling parallelism to avoid deadlocks...\n",
      "To disable this warning, you can either:\n",
      "\t- Avoid using `tokenizers` before the fork if possible\n",
      "\t- Explicitly set the environment variable TOKENIZERS_PARALLELISM=(true | false)\n",
      "huggingface/tokenizers: The current process just got forked, after parallelism has already been used. Disabling parallelism to avoid deadlocks...\n",
      "To disable this warning, you can either:\n",
      "\t- Avoid using `tokenizers` before the fork if possible\n",
      "\t- Explicitly set the environment variable TOKENIZERS_PARALLELISM=(true | false)\n",
      "huggingface/tokenizers: The current process just got forked, after parallelism has already been used. Disabling parallelism to avoid deadlocks...\n",
      "To disable this warning, you can either:\n",
      "\t- Avoid using `tokenizers` before the fork if possible\n",
      "\t- Explicitly set the environment variable TOKENIZERS_PARALLELISM=(true | false)\n",
      "huggingface/tokenizers: The current process just got forked, after parallelism has already been used. Disabling parallelism to avoid deadlocks...\n",
      "To disable this warning, you can either:\n",
      "\t- Avoid using `tokenizers` before the fork if possible\n",
      "\t- Explicitly set the environment variable TOKENIZERS_PARALLELISM=(true | false)\n",
      "huggingface/tokenizers: The current process just got forked, after parallelism has already been used. Disabling parallelism to avoid deadlocks...\n",
      "To disable this warning, you can either:\n",
      "\t- Avoid using `tokenizers` before the fork if possible\n",
      "\t- Explicitly set the environment variable TOKENIZERS_PARALLELISM=(true | false)\n",
      "huggingface/tokenizers: The current process just got forked, after parallelism has already been used. Disabling parallelism to avoid deadlocks...\n",
      "To disable this warning, you can either:\n",
      "\t- Avoid using `tokenizers` before the fork if possible\n",
      "\t- Explicitly set the environment variable TOKENIZERS_PARALLELISM=(true | false)\n",
      "huggingface/tokenizers: The current process just got forked, after parallelism has already been used. Disabling parallelism to avoid deadlocks...\n",
      "To disable this warning, you can either:\n",
      "\t- Avoid using `tokenizers` before the fork if possible\n",
      "\t- Explicitly set the environment variable TOKENIZERS_PARALLELISM=(true | false)\n",
      "huggingface/tokenizers: The current process just got forked, after parallelism has already been used. Disabling parallelism to avoid deadlocks...\n",
      "To disable this warning, you can either:\n",
      "\t- Avoid using `tokenizers` before the fork if possible\n",
      "\t- Explicitly set the environment variable TOKENIZERS_PARALLELISM=(true | false)\n",
      "huggingface/tokenizers: The current process just got forked, after parallelism has already been used. Disabling parallelism to avoid deadlocks...\n",
      "To disable this warning, you can either:\n",
      "\t- Avoid using `tokenizers` before the fork if possible\n",
      "\t- Explicitly set the environment variable TOKENIZERS_PARALLELISM=(true | false)\n",
      "huggingface/tokenizers: The current process just got forked, after parallelism has already been used. Disabling parallelism to avoid deadlocks...\n",
      "To disable this warning, you can either:\n",
      "\t- Avoid using `tokenizers` before the fork if possible\n",
      "\t- Explicitly set the environment variable TOKENIZERS_PARALLELISM=(true | false)\n",
      "huggingface/tokenizers: The current process just got forked, after parallelism has already been used. Disabling parallelism to avoid deadlocks...\n",
      "To disable this warning, you can either:\n",
      "\t- Avoid using `tokenizers` before the fork if possible\n",
      "\t- Explicitly set the environment variable TOKENIZERS_PARALLELISM=(true | false)\n",
      "huggingface/tokenizers: The current process just got forked, after parallelism has already been used. Disabling parallelism to avoid deadlocks...\n",
      "To disable this warning, you can either:\n",
      "\t- Avoid using `tokenizers` before the fork if possible\n",
      "\t- Explicitly set the environment variable TOKENIZERS_PARALLELISM=(true | false)\n",
      "huggingface/tokenizers: The current process just got forked, after parallelism has already been used. Disabling parallelism to avoid deadlocks...\n",
      "To disable this warning, you can either:\n",
      "\t- Avoid using `tokenizers` before the fork if possible\n",
      "\t- Explicitly set the environment variable TOKENIZERS_PARALLELISM=(true | false)\n",
      "huggingface/tokenizers: The current process just got forked, after parallelism has already been used. Disabling parallelism to avoid deadlocks...\n",
      "To disable this warning, you can either:\n",
      "\t- Avoid using `tokenizers` before the fork if possible\n",
      "\t- Explicitly set the environment variable TOKENIZERS_PARALLELISM=(true | false)\n",
      "huggingface/tokenizers: The current process just got forked, after parallelism has already been used. Disabling parallelism to avoid deadlocks...\n",
      "To disable this warning, you can either:\n",
      "\t- Avoid using `tokenizers` before the fork if possible\n",
      "\t- Explicitly set the environment variable TOKENIZERS_PARALLELISM=(true | false)\n",
      "huggingface/tokenizers: The current process just got forked, after parallelism has already been used. Disabling parallelism to avoid deadlocks...\n",
      "To disable this warning, you can either:\n",
      "\t- Avoid using `tokenizers` before the fork if possible\n",
      "\t- Explicitly set the environment variable TOKENIZERS_PARALLELISM=(true | false)\n",
      "huggingface/tokenizers: The current process just got forked, after parallelism has already been used. Disabling parallelism to avoid deadlocks...\n",
      "To disable this warning, you can either:\n",
      "\t- Avoid using `tokenizers` before the fork if possible\n",
      "\t- Explicitly set the environment variable TOKENIZERS_PARALLELISM=(true | false)\n",
      "huggingface/tokenizers: The current process just got forked, after parallelism has already been used. Disabling parallelism to avoid deadlocks...\n",
      "To disable this warning, you can either:\n",
      "\t- Avoid using `tokenizers` before the fork if possible\n",
      "\t- Explicitly set the environment variable TOKENIZERS_PARALLELISM=(true | false)\n"
     ]
    },
    {
     "name": "stdout",
     "output_type": "stream",
     "text": [
      "huggingface/tokenizers: The current process just got forked, after parallelism has already been used. Disabling parallelism to avoid deadlocks...\n",
      "To disable this warning, you can either:\n",
      "\t- Avoid using `tokenizers` before the fork if possible\n",
      "\t- Explicitly set the environment variable TOKENIZERS_PARALLELISM=(true | false)\n",
      "huggingface/tokenizers: The current process just got forked, after parallelism has already been used. Disabling parallelism to avoid deadlocks...\n",
      "To disable this warning, you can either:\n",
      "\t- Avoid using `tokenizers` before the fork if possible\n",
      "\t- Explicitly set the environment variable TOKENIZERS_PARALLELISM=(true | false)\n",
      "huggingface/tokenizers: The current process just got forked, after parallelism has already been used. Disabling parallelism to avoid deadlocks...\n",
      "To disable this warning, you can either:\n",
      "\t- Avoid using `tokenizers` before the fork if possible\n",
      "\t- Explicitly set the environment variable TOKENIZERS_PARALLELISM=(true | false)\n",
      "huggingface/tokenizers: The current process just got forked, after parallelism has already been used. Disabling parallelism to avoid deadlocks...\n",
      "To disable this warning, you can either:\n",
      "\t- Avoid using `tokenizers` before the fork if possible\n",
      "\t- Explicitly set the environment variable TOKENIZERS_PARALLELISM=(true | false)\n",
      "huggingface/tokenizers: The current process just got forked, after parallelism has already been used. Disabling parallelism to avoid deadlocks...\n",
      "To disable this warning, you can either:\n",
      "\t- Avoid using `tokenizers` before the fork if possible\n",
      "\t- Explicitly set the environment variable TOKENIZERS_PARALLELISM=(true | false)\n",
      "huggingface/tokenizers: The current process just got forked, after parallelism has already been used. Disabling parallelism to avoid deadlocks...\n",
      "To disable this warning, you can either:\n",
      "\t- Avoid using `tokenizers` before the fork if possible\n",
      "\t- Explicitly set the environment variable TOKENIZERS_PARALLELISM=(true | false)\n",
      "huggingface/tokenizers: The current process just got forked, after parallelism has already been used. Disabling parallelism to avoid deadlocks...\n",
      "To disable this warning, you can either:\n",
      "\t- Avoid using `tokenizers` before the fork if possible\n",
      "\t- Explicitly set the environment variable TOKENIZERS_PARALLELISM=(true | false)\n",
      "huggingface/tokenizers: The current process just got forked, after parallelism has already been used. Disabling parallelism to avoid deadlocks...\n",
      "To disable this warning, you can either:\n",
      "\t- Avoid using `tokenizers` before the fork if possible\n",
      "\t- Explicitly set the environment variable TOKENIZERS_PARALLELISM=(true | false)\n",
      "huggingface/tokenizers: The current process just got forked, after parallelism has already been used. Disabling parallelism to avoid deadlocks...\n",
      "To disable this warning, you can either:\n",
      "\t- Avoid using `tokenizers` before the fork if possible\n",
      "\t- Explicitly set the environment variable TOKENIZERS_PARALLELISM=(true | false)\n",
      "huggingface/tokenizers: The current process just got forked, after parallelism has already been used. Disabling parallelism to avoid deadlocks...\n",
      "To disable this warning, you can either:\n",
      "\t- Avoid using `tokenizers` before the fork if possible\n",
      "\t- Explicitly set the environment variable TOKENIZERS_PARALLELISM=(true | false)\n",
      "huggingface/tokenizers: The current process just got forked, after parallelism has already been used. Disabling parallelism to avoid deadlocks...\n",
      "To disable this warning, you can either:\n",
      "\t- Avoid using `tokenizers` before the fork if possible\n",
      "\t- Explicitly set the environment variable TOKENIZERS_PARALLELISM=(true | false)\n",
      "huggingface/tokenizers: The current process just got forked, after parallelism has already been used. Disabling parallelism to avoid deadlocks...\n",
      "To disable this warning, you can either:\n",
      "\t- Avoid using `tokenizers` before the fork if possible\n",
      "\t- Explicitly set the environment variable TOKENIZERS_PARALLELISM=(true | false)\n",
      "huggingface/tokenizers: The current process just got forked, after parallelism has already been used. Disabling parallelism to avoid deadlocks...\n",
      "To disable this warning, you can either:\n",
      "\t- Avoid using `tokenizers` before the fork if possible\n",
      "\t- Explicitly set the environment variable TOKENIZERS_PARALLELISM=(true | false)\n",
      "huggingface/tokenizers: The current process just got forked, after parallelism has already been used. Disabling parallelism to avoid deadlocks...\n",
      "To disable this warning, you can either:\n",
      "\t- Avoid using `tokenizers` before the fork if possible\n",
      "\t- Explicitly set the environment variable TOKENIZERS_PARALLELISM=(true | false)\n",
      "huggingface/tokenizers: The current process just got forked, after parallelism has already been used. Disabling parallelism to avoid deadlocks...\n",
      "To disable this warning, you can either:\n",
      "\t- Avoid using `tokenizers` before the fork if possible\n",
      "\t- Explicitly set the environment variable TOKENIZERS_PARALLELISM=(true | false)\n",
      "huggingface/tokenizers: The current process just got forked, after parallelism has already been used. Disabling parallelism to avoid deadlocks...\n",
      "To disable this warning, you can either:\n",
      "\t- Avoid using `tokenizers` before the fork if possible\n",
      "\t- Explicitly set the environment variable TOKENIZERS_PARALLELISM=(true | false)\n",
      "huggingface/tokenizers: The current process just got forked, after parallelism has already been used. Disabling parallelism to avoid deadlocks...\n",
      "To disable this warning, you can either:\n",
      "\t- Avoid using `tokenizers` before the fork if possible\n",
      "\t- Explicitly set the environment variable TOKENIZERS_PARALLELISM=(true | false)\n",
      "huggingface/tokenizers: The current process just got forked, after parallelism has already been used. Disabling parallelism to avoid deadlocks...\n",
      "To disable this warning, you can either:\n",
      "\t- Avoid using `tokenizers` before the fork if possible\n",
      "\t- Explicitly set the environment variable TOKENIZERS_PARALLELISM=(true | false)\n",
      "huggingface/tokenizers: The current process just got forked, after parallelism has already been used. Disabling parallelism to avoid deadlocks...\n",
      "To disable this warning, you can either:\n",
      "\t- Avoid using `tokenizers` before the fork if possible\n",
      "\t- Explicitly set the environment variable TOKENIZERS_PARALLELISM=(true | false)\n",
      "huggingface/tokenizers: The current process just got forked, after parallelism has already been used. Disabling parallelism to avoid deadlocks...\n",
      "To disable this warning, you can either:\n",
      "\t- Avoid using `tokenizers` before the fork if possible\n",
      "\t- Explicitly set the environment variable TOKENIZERS_PARALLELISM=(true | false)\n",
      "huggingface/tokenizers: The current process just got forked, after parallelism has already been used. Disabling parallelism to avoid deadlocks...\n",
      "To disable this warning, you can either:\n",
      "\t- Avoid using `tokenizers` before the fork if possible\n",
      "\t- Explicitly set the environment variable TOKENIZERS_PARALLELISM=(true | false)\n",
      "huggingface/tokenizers: The current process just got forked, after parallelism has already been used. Disabling parallelism to avoid deadlocks...\n",
      "To disable this warning, you can either:\n",
      "\t- Avoid using `tokenizers` before the fork if possible\n",
      "\t- Explicitly set the environment variable TOKENIZERS_PARALLELISM=(true | false)\n",
      "huggingface/tokenizers: The current process just got forked, after parallelism has already been used. Disabling parallelism to avoid deadlocks...\n",
      "To disable this warning, you can either:\n",
      "\t- Avoid using `tokenizers` before the fork if possible\n",
      "\t- Explicitly set the environment variable TOKENIZERS_PARALLELISM=(true | false)\n",
      "huggingface/tokenizers: The current process just got forked, after parallelism has already been used. Disabling parallelism to avoid deadlocks...\n",
      "To disable this warning, you can either:\n",
      "\t- Avoid using `tokenizers` before the fork if possible\n",
      "\t- Explicitly set the environment variable TOKENIZERS_PARALLELISM=(true | false)\n",
      "huggingface/tokenizers: The current process just got forked, after parallelism has already been used. Disabling parallelism to avoid deadlocks...\n",
      "To disable this warning, you can either:\n",
      "\t- Avoid using `tokenizers` before the fork if possible\n",
      "\t- Explicitly set the environment variable TOKENIZERS_PARALLELISM=(true | false)\n",
      "huggingface/tokenizers: The current process just got forked, after parallelism has already been used. Disabling parallelism to avoid deadlocks...\n",
      "To disable this warning, you can either:\n",
      "\t- Avoid using `tokenizers` before the fork if possible\n",
      "\t- Explicitly set the environment variable TOKENIZERS_PARALLELISM=(true | false)\n"
     ]
    },
    {
     "name": "stdout",
     "output_type": "stream",
     "text": [
      "huggingface/tokenizers: The current process just got forked, after parallelism has already been used. Disabling parallelism to avoid deadlocks...\n",
      "To disable this warning, you can either:\n",
      "\t- Avoid using `tokenizers` before the fork if possible\n",
      "\t- Explicitly set the environment variable TOKENIZERS_PARALLELISM=(true | false)\n",
      "huggingface/tokenizers: The current process just got forked, after parallelism has already been used. Disabling parallelism to avoid deadlocks...\n",
      "To disable this warning, you can either:\n",
      "\t- Avoid using `tokenizers` before the fork if possible\n",
      "\t- Explicitly set the environment variable TOKENIZERS_PARALLELISM=(true | false)\n",
      "huggingface/tokenizers: The current process just got forked, after parallelism has already been used. Disabling parallelism to avoid deadlocks...\n",
      "To disable this warning, you can either:\n",
      "\t- Avoid using `tokenizers` before the fork if possible\n",
      "\t- Explicitly set the environment variable TOKENIZERS_PARALLELISM=(true | false)\n",
      "huggingface/tokenizers: The current process just got forked, after parallelism has already been used. Disabling parallelism to avoid deadlocks...\n",
      "To disable this warning, you can either:\n",
      "\t- Avoid using `tokenizers` before the fork if possible\n",
      "\t- Explicitly set the environment variable TOKENIZERS_PARALLELISM=(true | false)\n",
      "huggingface/tokenizers: The current process just got forked, after parallelism has already been used. Disabling parallelism to avoid deadlocks...\n",
      "To disable this warning, you can either:\n",
      "\t- Avoid using `tokenizers` before the fork if possible\n",
      "\t- Explicitly set the environment variable TOKENIZERS_PARALLELISM=(true | false)\n",
      "huggingface/tokenizers: The current process just got forked, after parallelism has already been used. Disabling parallelism to avoid deadlocks...\n",
      "To disable this warning, you can either:\n",
      "\t- Avoid using `tokenizers` before the fork if possible\n",
      "\t- Explicitly set the environment variable TOKENIZERS_PARALLELISM=(true | false)\n",
      "huggingface/tokenizers: The current process just got forked, after parallelism has already been used. Disabling parallelism to avoid deadlocks...\n",
      "To disable this warning, you can either:\n",
      "\t- Avoid using `tokenizers` before the fork if possible\n",
      "\t- Explicitly set the environment variable TOKENIZERS_PARALLELISM=(true | false)\n",
      "huggingface/tokenizers: The current process just got forked, after parallelism has already been used. Disabling parallelism to avoid deadlocks...\n",
      "To disable this warning, you can either:\n",
      "\t- Avoid using `tokenizers` before the fork if possible\n",
      "\t- Explicitly set the environment variable TOKENIZERS_PARALLELISM=(true | false)\n",
      "huggingface/tokenizers: The current process just got forked, after parallelism has already been used. Disabling parallelism to avoid deadlocks...\n",
      "To disable this warning, you can either:\n",
      "\t- Avoid using `tokenizers` before the fork if possible\n",
      "\t- Explicitly set the environment variable TOKENIZERS_PARALLELISM=(true | false)\n",
      "huggingface/tokenizers: The current process just got forked, after parallelism has already been used. Disabling parallelism to avoid deadlocks...\n",
      "To disable this warning, you can either:\n",
      "\t- Avoid using `tokenizers` before the fork if possible\n",
      "\t- Explicitly set the environment variable TOKENIZERS_PARALLELISM=(true | false)\n",
      "huggingface/tokenizers: The current process just got forked, after parallelism has already been used. Disabling parallelism to avoid deadlocks...\n",
      "To disable this warning, you can either:\n",
      "\t- Avoid using `tokenizers` before the fork if possible\n",
      "\t- Explicitly set the environment variable TOKENIZERS_PARALLELISM=(true | false)\n",
      "huggingface/tokenizers: The current process just got forked, after parallelism has already been used. Disabling parallelism to avoid deadlocks...\n",
      "To disable this warning, you can either:\n",
      "\t- Avoid using `tokenizers` before the fork if possible\n",
      "\t- Explicitly set the environment variable TOKENIZERS_PARALLELISM=(true | false)\n",
      "huggingface/tokenizers: The current process just got forked, after parallelism has already been used. Disabling parallelism to avoid deadlocks...\n",
      "To disable this warning, you can either:\n",
      "\t- Avoid using `tokenizers` before the fork if possible\n",
      "\t- Explicitly set the environment variable TOKENIZERS_PARALLELISM=(true | false)\n",
      "huggingface/tokenizers: The current process just got forked, after parallelism has already been used. Disabling parallelism to avoid deadlocks...\n",
      "To disable this warning, you can either:\n",
      "\t- Avoid using `tokenizers` before the fork if possible\n",
      "\t- Explicitly set the environment variable TOKENIZERS_PARALLELISM=(true | false)\n",
      "huggingface/tokenizers: The current process just got forked, after parallelism has already been used. Disabling parallelism to avoid deadlocks...\n",
      "To disable this warning, you can either:\n",
      "\t- Avoid using `tokenizers` before the fork if possible\n",
      "\t- Explicitly set the environment variable TOKENIZERS_PARALLELISM=(true | false)\n",
      "huggingface/tokenizers: The current process just got forked, after parallelism has already been used. Disabling parallelism to avoid deadlocks...\n",
      "To disable this warning, you can either:\n",
      "\t- Avoid using `tokenizers` before the fork if possible\n",
      "\t- Explicitly set the environment variable TOKENIZERS_PARALLELISM=(true | false)\n",
      "huggingface/tokenizers: The current process just got forked, after parallelism has already been used. Disabling parallelism to avoid deadlocks...\n",
      "To disable this warning, you can either:\n",
      "\t- Avoid using `tokenizers` before the fork if possible\n",
      "\t- Explicitly set the environment variable TOKENIZERS_PARALLELISM=(true | false)\n",
      "huggingface/tokenizers: The current process just got forked, after parallelism has already been used. Disabling parallelism to avoid deadlocks...\n",
      "To disable this warning, you can either:\n",
      "\t- Avoid using `tokenizers` before the fork if possible\n",
      "\t- Explicitly set the environment variable TOKENIZERS_PARALLELISM=(true | false)\n",
      "huggingface/tokenizers: The current process just got forked, after parallelism has already been used. Disabling parallelism to avoid deadlocks...\n",
      "To disable this warning, you can either:\n",
      "\t- Avoid using `tokenizers` before the fork if possible\n",
      "\t- Explicitly set the environment variable TOKENIZERS_PARALLELISM=(true | false)\n",
      "huggingface/tokenizers: The current process just got forked, after parallelism has already been used. Disabling parallelism to avoid deadlocks...\n",
      "To disable this warning, you can either:\n",
      "\t- Avoid using `tokenizers` before the fork if possible\n",
      "\t- Explicitly set the environment variable TOKENIZERS_PARALLELISM=(true | false)\n",
      "huggingface/tokenizers: The current process just got forked, after parallelism has already been used. Disabling parallelism to avoid deadlocks...\n",
      "To disable this warning, you can either:\n",
      "\t- Avoid using `tokenizers` before the fork if possible\n",
      "\t- Explicitly set the environment variable TOKENIZERS_PARALLELISM=(true | false)\n",
      "huggingface/tokenizers: The current process just got forked, after parallelism has already been used. Disabling parallelism to avoid deadlocks...\n",
      "To disable this warning, you can either:\n",
      "\t- Avoid using `tokenizers` before the fork if possible\n",
      "\t- Explicitly set the environment variable TOKENIZERS_PARALLELISM=(true | false)\n",
      "huggingface/tokenizers: The current process just got forked, after parallelism has already been used. Disabling parallelism to avoid deadlocks...\n",
      "To disable this warning, you can either:\n",
      "\t- Avoid using `tokenizers` before the fork if possible\n",
      "\t- Explicitly set the environment variable TOKENIZERS_PARALLELISM=(true | false)\n",
      "huggingface/tokenizers: The current process just got forked, after parallelism has already been used. Disabling parallelism to avoid deadlocks...\n",
      "To disable this warning, you can either:\n",
      "\t- Avoid using `tokenizers` before the fork if possible\n",
      "\t- Explicitly set the environment variable TOKENIZERS_PARALLELISM=(true | false)\n",
      "huggingface/tokenizers: The current process just got forked, after parallelism has already been used. Disabling parallelism to avoid deadlocks...\n",
      "To disable this warning, you can either:\n",
      "\t- Avoid using `tokenizers` before the fork if possible\n",
      "\t- Explicitly set the environment variable TOKENIZERS_PARALLELISM=(true | false)\n",
      "huggingface/tokenizers: The current process just got forked, after parallelism has already been used. Disabling parallelism to avoid deadlocks...\n",
      "To disable this warning, you can either:\n",
      "\t- Avoid using `tokenizers` before the fork if possible\n",
      "\t- Explicitly set the environment variable TOKENIZERS_PARALLELISM=(true | false)\n"
     ]
    },
    {
     "name": "stdout",
     "output_type": "stream",
     "text": [
      "huggingface/tokenizers: The current process just got forked, after parallelism has already been used. Disabling parallelism to avoid deadlocks...\n",
      "To disable this warning, you can either:\n",
      "\t- Avoid using `tokenizers` before the fork if possible\n",
      "\t- Explicitly set the environment variable TOKENIZERS_PARALLELISM=(true | false)\n",
      "huggingface/tokenizers: The current process just got forked, after parallelism has already been used. Disabling parallelism to avoid deadlocks...\n",
      "To disable this warning, you can either:\n",
      "\t- Avoid using `tokenizers` before the fork if possible\n",
      "\t- Explicitly set the environment variable TOKENIZERS_PARALLELISM=(true | false)\n",
      "huggingface/tokenizers: The current process just got forked, after parallelism has already been used. Disabling parallelism to avoid deadlocks...\n",
      "To disable this warning, you can either:\n",
      "\t- Avoid using `tokenizers` before the fork if possible\n",
      "\t- Explicitly set the environment variable TOKENIZERS_PARALLELISM=(true | false)\n",
      "huggingface/tokenizers: The current process just got forked, after parallelism has already been used. Disabling parallelism to avoid deadlocks...\n",
      "To disable this warning, you can either:\n",
      "\t- Avoid using `tokenizers` before the fork if possible\n",
      "\t- Explicitly set the environment variable TOKENIZERS_PARALLELISM=(true | false)\n",
      "huggingface/tokenizers: The current process just got forked, after parallelism has already been used. Disabling parallelism to avoid deadlocks...\n",
      "To disable this warning, you can either:\n",
      "\t- Avoid using `tokenizers` before the fork if possible\n",
      "\t- Explicitly set the environment variable TOKENIZERS_PARALLELISM=(true | false)\n",
      "huggingface/tokenizers: The current process just got forked, after parallelism has already been used. Disabling parallelism to avoid deadlocks...\n",
      "To disable this warning, you can either:\n",
      "\t- Avoid using `tokenizers` before the fork if possible\n",
      "\t- Explicitly set the environment variable TOKENIZERS_PARALLELISM=(true | false)\n",
      "huggingface/tokenizers: The current process just got forked, after parallelism has already been used. Disabling parallelism to avoid deadlocks...\n",
      "To disable this warning, you can either:\n",
      "\t- Avoid using `tokenizers` before the fork if possible\n",
      "\t- Explicitly set the environment variable TOKENIZERS_PARALLELISM=(true | false)\n",
      "huggingface/tokenizers: The current process just got forked, after parallelism has already been used. Disabling parallelism to avoid deadlocks...\n",
      "To disable this warning, you can either:\n",
      "\t- Avoid using `tokenizers` before the fork if possible\n",
      "\t- Explicitly set the environment variable TOKENIZERS_PARALLELISM=(true | false)\n",
      "huggingface/tokenizers: The current process just got forked, after parallelism has already been used. Disabling parallelism to avoid deadlocks...\n",
      "To disable this warning, you can either:\n",
      "\t- Avoid using `tokenizers` before the fork if possible\n",
      "\t- Explicitly set the environment variable TOKENIZERS_PARALLELISM=(true | false)\n",
      "huggingface/tokenizers: The current process just got forked, after parallelism has already been used. Disabling parallelism to avoid deadlocks...\n",
      "To disable this warning, you can either:\n",
      "\t- Avoid using `tokenizers` before the fork if possible\n",
      "\t- Explicitly set the environment variable TOKENIZERS_PARALLELISM=(true | false)\n",
      "huggingface/tokenizers: The current process just got forked, after parallelism has already been used. Disabling parallelism to avoid deadlocks...\n",
      "To disable this warning, you can either:\n",
      "\t- Avoid using `tokenizers` before the fork if possible\n",
      "\t- Explicitly set the environment variable TOKENIZERS_PARALLELISM=(true | false)\n",
      "huggingface/tokenizers: The current process just got forked, after parallelism has already been used. Disabling parallelism to avoid deadlocks...\n",
      "To disable this warning, you can either:\n",
      "\t- Avoid using `tokenizers` before the fork if possible\n",
      "\t- Explicitly set the environment variable TOKENIZERS_PARALLELISM=(true | false)\n",
      "huggingface/tokenizers: The current process just got forked, after parallelism has already been used. Disabling parallelism to avoid deadlocks...\n",
      "To disable this warning, you can either:\n",
      "\t- Avoid using `tokenizers` before the fork if possible\n",
      "\t- Explicitly set the environment variable TOKENIZERS_PARALLELISM=(true | false)\n",
      "huggingface/tokenizers: The current process just got forked, after parallelism has already been used. Disabling parallelism to avoid deadlocks...\n",
      "To disable this warning, you can either:\n",
      "\t- Avoid using `tokenizers` before the fork if possible\n",
      "\t- Explicitly set the environment variable TOKENIZERS_PARALLELISM=(true | false)\n",
      "huggingface/tokenizers: The current process just got forked, after parallelism has already been used. Disabling parallelism to avoid deadlocks...\n",
      "To disable this warning, you can either:\n",
      "\t- Avoid using `tokenizers` before the fork if possible\n",
      "\t- Explicitly set the environment variable TOKENIZERS_PARALLELISM=(true | false)\n",
      "huggingface/tokenizers: The current process just got forked, after parallelism has already been used. Disabling parallelism to avoid deadlocks...\n",
      "To disable this warning, you can either:\n",
      "\t- Avoid using `tokenizers` before the fork if possible\n",
      "\t- Explicitly set the environment variable TOKENIZERS_PARALLELISM=(true | false)\n",
      "huggingface/tokenizers: The current process just got forked, after parallelism has already been used. Disabling parallelism to avoid deadlocks...\n",
      "To disable this warning, you can either:\n",
      "\t- Avoid using `tokenizers` before the fork if possible\n",
      "\t- Explicitly set the environment variable TOKENIZERS_PARALLELISM=(true | false)\n",
      "huggingface/tokenizers: The current process just got forked, after parallelism has already been used. Disabling parallelism to avoid deadlocks...\n",
      "To disable this warning, you can either:\n",
      "\t- Avoid using `tokenizers` before the fork if possible\n",
      "\t- Explicitly set the environment variable TOKENIZERS_PARALLELISM=(true | false)\n",
      "huggingface/tokenizers: The current process just got forked, after parallelism has already been used. Disabling parallelism to avoid deadlocks...\n",
      "To disable this warning, you can either:\n",
      "\t- Avoid using `tokenizers` before the fork if possible\n",
      "\t- Explicitly set the environment variable TOKENIZERS_PARALLELISM=(true | false)\n",
      "huggingface/tokenizers: The current process just got forked, after parallelism has already been used. Disabling parallelism to avoid deadlocks...\n",
      "To disable this warning, you can either:\n",
      "\t- Avoid using `tokenizers` before the fork if possible\n",
      "\t- Explicitly set the environment variable TOKENIZERS_PARALLELISM=(true | false)\n",
      "huggingface/tokenizers: The current process just got forked, after parallelism has already been used. Disabling parallelism to avoid deadlocks...\n",
      "To disable this warning, you can either:\n",
      "\t- Avoid using `tokenizers` before the fork if possible\n",
      "\t- Explicitly set the environment variable TOKENIZERS_PARALLELISM=(true | false)\n",
      "huggingface/tokenizers: The current process just got forked, after parallelism has already been used. Disabling parallelism to avoid deadlocks...\n",
      "To disable this warning, you can either:\n",
      "\t- Avoid using `tokenizers` before the fork if possible\n",
      "\t- Explicitly set the environment variable TOKENIZERS_PARALLELISM=(true | false)\n",
      "huggingface/tokenizers: The current process just got forked, after parallelism has already been used. Disabling parallelism to avoid deadlocks...\n",
      "To disable this warning, you can either:\n",
      "\t- Avoid using `tokenizers` before the fork if possible\n",
      "\t- Explicitly set the environment variable TOKENIZERS_PARALLELISM=(true | false)\n",
      "huggingface/tokenizers: The current process just got forked, after parallelism has already been used. Disabling parallelism to avoid deadlocks...\n",
      "To disable this warning, you can either:\n",
      "\t- Avoid using `tokenizers` before the fork if possible\n",
      "\t- Explicitly set the environment variable TOKENIZERS_PARALLELISM=(true | false)\n",
      "huggingface/tokenizers: The current process just got forked, after parallelism has already been used. Disabling parallelism to avoid deadlocks...\n",
      "To disable this warning, you can either:\n",
      "\t- Avoid using `tokenizers` before the fork if possible\n",
      "\t- Explicitly set the environment variable TOKENIZERS_PARALLELISM=(true | false)\n",
      "huggingface/tokenizers: The current process just got forked, after parallelism has already been used. Disabling parallelism to avoid deadlocks...\n",
      "To disable this warning, you can either:\n",
      "\t- Avoid using `tokenizers` before the fork if possible\n",
      "\t- Explicitly set the environment variable TOKENIZERS_PARALLELISM=(true | false)\n"
     ]
    },
    {
     "name": "stdout",
     "output_type": "stream",
     "text": [
      "huggingface/tokenizers: The current process just got forked, after parallelism has already been used. Disabling parallelism to avoid deadlocks...\n",
      "To disable this warning, you can either:\n",
      "\t- Avoid using `tokenizers` before the fork if possible\n",
      "\t- Explicitly set the environment variable TOKENIZERS_PARALLELISM=(true | false)\n",
      "huggingface/tokenizers: The current process just got forked, after parallelism has already been used. Disabling parallelism to avoid deadlocks...\n",
      "To disable this warning, you can either:\n",
      "\t- Avoid using `tokenizers` before the fork if possible\n",
      "\t- Explicitly set the environment variable TOKENIZERS_PARALLELISM=(true | false)\n",
      "huggingface/tokenizers: The current process just got forked, after parallelism has already been used. Disabling parallelism to avoid deadlocks...\n",
      "To disable this warning, you can either:\n",
      "\t- Avoid using `tokenizers` before the fork if possible\n",
      "\t- Explicitly set the environment variable TOKENIZERS_PARALLELISM=(true | false)\n",
      "huggingface/tokenizers: The current process just got forked, after parallelism has already been used. Disabling parallelism to avoid deadlocks...\n",
      "To disable this warning, you can either:\n",
      "\t- Avoid using `tokenizers` before the fork if possible\n",
      "\t- Explicitly set the environment variable TOKENIZERS_PARALLELISM=(true | false)\n",
      "huggingface/tokenizers: The current process just got forked, after parallelism has already been used. Disabling parallelism to avoid deadlocks...\n",
      "To disable this warning, you can either:\n",
      "\t- Avoid using `tokenizers` before the fork if possible\n",
      "\t- Explicitly set the environment variable TOKENIZERS_PARALLELISM=(true | false)\n",
      "huggingface/tokenizers: The current process just got forked, after parallelism has already been used. Disabling parallelism to avoid deadlocks...\n",
      "To disable this warning, you can either:\n",
      "\t- Avoid using `tokenizers` before the fork if possible\n",
      "\t- Explicitly set the environment variable TOKENIZERS_PARALLELISM=(true | false)\n",
      "huggingface/tokenizers: The current process just got forked, after parallelism has already been used. Disabling parallelism to avoid deadlocks...\n",
      "To disable this warning, you can either:\n",
      "\t- Avoid using `tokenizers` before the fork if possible\n",
      "\t- Explicitly set the environment variable TOKENIZERS_PARALLELISM=(true | false)\n",
      "huggingface/tokenizers: The current process just got forked, after parallelism has already been used. Disabling parallelism to avoid deadlocks...\n",
      "To disable this warning, you can either:\n",
      "\t- Avoid using `tokenizers` before the fork if possible\n",
      "\t- Explicitly set the environment variable TOKENIZERS_PARALLELISM=(true | false)\n",
      "huggingface/tokenizers: The current process just got forked, after parallelism has already been used. Disabling parallelism to avoid deadlocks...\n",
      "To disable this warning, you can either:\n",
      "\t- Avoid using `tokenizers` before the fork if possible\n",
      "\t- Explicitly set the environment variable TOKENIZERS_PARALLELISM=(true | false)\n",
      "huggingface/tokenizers: The current process just got forked, after parallelism has already been used. Disabling parallelism to avoid deadlocks...\n",
      "To disable this warning, you can either:\n",
      "\t- Avoid using `tokenizers` before the fork if possible\n",
      "\t- Explicitly set the environment variable TOKENIZERS_PARALLELISM=(true | false)\n",
      "huggingface/tokenizers: The current process just got forked, after parallelism has already been used. Disabling parallelism to avoid deadlocks...\n",
      "To disable this warning, you can either:\n",
      "\t- Avoid using `tokenizers` before the fork if possible\n",
      "\t- Explicitly set the environment variable TOKENIZERS_PARALLELISM=(true | false)\n",
      "huggingface/tokenizers: The current process just got forked, after parallelism has already been used. Disabling parallelism to avoid deadlocks...\n",
      "To disable this warning, you can either:\n",
      "\t- Avoid using `tokenizers` before the fork if possible\n",
      "\t- Explicitly set the environment variable TOKENIZERS_PARALLELISM=(true | false)\n",
      "huggingface/tokenizers: The current process just got forked, after parallelism has already been used. Disabling parallelism to avoid deadlocks...\n",
      "To disable this warning, you can either:\n",
      "\t- Avoid using `tokenizers` before the fork if possible\n",
      "\t- Explicitly set the environment variable TOKENIZERS_PARALLELISM=(true | false)\n",
      "huggingface/tokenizers: The current process just got forked, after parallelism has already been used. Disabling parallelism to avoid deadlocks...\n",
      "To disable this warning, you can either:\n",
      "\t- Avoid using `tokenizers` before the fork if possible\n",
      "\t- Explicitly set the environment variable TOKENIZERS_PARALLELISM=(true | false)\n",
      "huggingface/tokenizers: The current process just got forked, after parallelism has already been used. Disabling parallelism to avoid deadlocks...\n",
      "To disable this warning, you can either:\n",
      "\t- Avoid using `tokenizers` before the fork if possible\n",
      "\t- Explicitly set the environment variable TOKENIZERS_PARALLELISM=(true | false)\n",
      "huggingface/tokenizers: The current process just got forked, after parallelism has already been used. Disabling parallelism to avoid deadlocks...\n",
      "To disable this warning, you can either:\n",
      "\t- Avoid using `tokenizers` before the fork if possible\n",
      "\t- Explicitly set the environment variable TOKENIZERS_PARALLELISM=(true | false)\n",
      "huggingface/tokenizers: The current process just got forked, after parallelism has already been used. Disabling parallelism to avoid deadlocks...\n",
      "To disable this warning, you can either:\n",
      "\t- Avoid using `tokenizers` before the fork if possible\n",
      "\t- Explicitly set the environment variable TOKENIZERS_PARALLELISM=(true | false)\n",
      "huggingface/tokenizers: The current process just got forked, after parallelism has already been used. Disabling parallelism to avoid deadlocks...\n",
      "To disable this warning, you can either:\n",
      "\t- Avoid using `tokenizers` before the fork if possible\n",
      "\t- Explicitly set the environment variable TOKENIZERS_PARALLELISM=(true | false)\n",
      "huggingface/tokenizers: The current process just got forked, after parallelism has already been used. Disabling parallelism to avoid deadlocks...\n",
      "To disable this warning, you can either:\n",
      "\t- Avoid using `tokenizers` before the fork if possible\n",
      "\t- Explicitly set the environment variable TOKENIZERS_PARALLELISM=(true | false)\n",
      "huggingface/tokenizers: The current process just got forked, after parallelism has already been used. Disabling parallelism to avoid deadlocks...\n",
      "To disable this warning, you can either:\n",
      "\t- Avoid using `tokenizers` before the fork if possible\n",
      "\t- Explicitly set the environment variable TOKENIZERS_PARALLELISM=(true | false)\n",
      "huggingface/tokenizers: The current process just got forked, after parallelism has already been used. Disabling parallelism to avoid deadlocks...\n",
      "To disable this warning, you can either:\n",
      "\t- Avoid using `tokenizers` before the fork if possible\n",
      "\t- Explicitly set the environment variable TOKENIZERS_PARALLELISM=(true | false)\n"
     ]
    },
    {
     "name": "stderr",
     "output_type": "stream",
     "text": [
      "INFO:ekorpkit.base:Using batcher with minibatch size: 1\n"
     ]
    },
    {
     "data": {
      "application/json": {
       "ascii": false,
       "bar_format": null,
       "colour": null,
       "elapsed": 0.013451814651489258,
       "initial": 0,
       "n": 0,
       "ncols": null,
       "nrows": null,
       "postfix": null,
       "prefix": "apply len_bytes to num_bytes",
       "rate": null,
       "total": 143,
       "unit": "it",
       "unit_divisor": 1000,
       "unit_scale": false
      },
      "application/vnd.jupyter.widget-view+json": {
       "model_id": "1826351c2bb74881a3dae51ade15ca56",
       "version_major": 2,
       "version_minor": 0
      },
      "text/plain": [
       "apply len_bytes to num_bytes:   0%|          | 0/143 [00:00<?, ?it/s]"
      ]
     },
     "metadata": {},
     "output_type": "display_data"
    },
    {
     "name": "stderr",
     "output_type": "stream",
     "text": [
      "INFO:ekorpkit.base:Using batcher with minibatch size: 1\n"
     ]
    },
    {
     "data": {
      "application/json": {
       "ascii": false,
       "bar_format": null,
       "colour": null,
       "elapsed": 0.013946294784545898,
       "initial": 0,
       "n": 0,
       "ncols": null,
       "nrows": null,
       "postfix": null,
       "prefix": "apply len_bytes to num_bytes",
       "rate": null,
       "total": 58,
       "unit": "it",
       "unit_divisor": 1000,
       "unit_scale": false
      },
      "application/vnd.jupyter.widget-view+json": {
       "model_id": "6778620f609649568b9c359e51868def",
       "version_major": 2,
       "version_minor": 0
      },
      "text/plain": [
       "apply len_bytes to num_bytes:   0%|          | 0/58 [00:00<?, ?it/s]"
      ]
     },
     "metadata": {},
     "output_type": "display_data"
    },
    {
     "name": "stdout",
     "output_type": "stream",
     "text": [
      "['긍정', '부정 ']\n"
     ]
    }
   ],
   "source": [
    "ds.save_as(\"cointax_polarity_kr_improved\")\n",
    "ds_cfg.name = \"cointax_polarity_kr_improved\"\n",
    "ds = eKonf.instantiate(ds_cfg)\n",
    "labels = list(ds.splits['train'].labels.unique())\n",
    "print(labels)"
   ]
  },
  {
   "cell_type": "code",
   "execution_count": 25,
   "metadata": {},
   "outputs": [
    {
     "data": {
      "text/plain": [
       "'../data/cointax/cointax_polarity_kr_improved'"
      ]
     },
     "execution_count": 25,
     "metadata": {},
     "output_type": "execute_result"
    }
   ],
   "source": [
    "ds.data_dir"
   ]
  },
  {
   "cell_type": "code",
   "execution_count": null,
   "metadata": {},
   "outputs": [],
   "source": []
  }
 ],
 "metadata": {
  "celltoolbar": "Tags",
  "colab": {
   "include_colab_link": true,
   "name": "config.ipynb",
   "provenance": []
  },
  "interpreter": {
   "hash": "f869af7787e6a1c49e09e367fc6e1b81d93d1c6583b43249c80edc047bd13cb2"
  },
  "kernelspec": {
   "display_name": "Python 3 (ipykernel)",
   "language": "python",
   "name": "python3"
  },
  "language_info": {
   "codemirror_mode": {
    "name": "ipython",
    "version": 3
   },
   "file_extension": ".py",
   "mimetype": "text/x-python",
   "name": "python",
   "nbconvert_exporter": "python",
   "pygments_lexer": "ipython3",
   "version": "3.8.12"
  },
  "widgets": {
   "application/vnd.jupyter.widget-state+json": {
    "state": {
     "003d9a9fc2d24aae993bdb30f5a4e85f": {
      "model_module": "@jupyter-widgets/base",
      "model_module_version": "2.0.0",
      "model_name": "LayoutModel",
      "state": {}
     },
     "004f8962189c4a4c91b095f7b9f5db12": {
      "model_module": "@jupyter-widgets/controls",
      "model_module_version": "2.0.0",
      "model_name": "HTMLStyleModel",
      "state": {
       "description_width": "",
       "font_size": null,
       "text_color": null
      }
     },
     "006b29521e154ab79b22134c1a37945c": {
      "model_module": "@jupyter-widgets/base",
      "model_module_version": "2.0.0",
      "model_name": "LayoutModel",
      "state": {}
     },
     "00998042c8964f04b4efe38d3bf6a481": {
      "model_module": "@jupyter-widgets/controls",
      "model_module_version": "2.0.0",
      "model_name": "FloatProgressModel",
      "state": {
       "bar_style": "success",
       "layout": "IPY_MODEL_6a5a0e05f4b44cb58bc3b607c3e4e573",
       "max": 995,
       "style": "IPY_MODEL_0cd567c6e65d4a20a8bb7d0e46cc4029",
       "value": 995
      }
     },
     "00a060c5fe6146de9354bc94b26a78d1": {
      "model_module": "@jupyter-widgets/base",
      "model_module_version": "2.0.0",
      "model_name": "LayoutModel",
      "state": {}
     },
     "00d1054a3b06443cb4f794f7cabc6115": {
      "model_module": "@jupyter-widgets/base",
      "model_module_version": "2.0.0",
      "model_name": "LayoutModel",
      "state": {}
     },
     "00d1112167654755b404ef8a9a6e18e8": {
      "model_module": "@jupyter-widgets/base",
      "model_module_version": "2.0.0",
      "model_name": "LayoutModel",
      "state": {}
     },
     "00e215a43028412199050649a9e95c23": {
      "model_module": "@jupyter-widgets/controls",
      "model_module_version": "2.0.0",
      "model_name": "HTMLStyleModel",
      "state": {
       "description_width": "",
       "font_size": null,
       "text_color": null
      }
     },
     "012dfa070f184394ae534aa36ed6162a": {
      "model_module": "@jupyter-widgets/controls",
      "model_module_version": "2.0.0",
      "model_name": "HTMLModel",
      "state": {
       "layout": "IPY_MODEL_9cf49078412f4e59a6ab31ed73791138",
       "style": "IPY_MODEL_0397ed1a6bce4a3f9e8ab92e9506f5cd",
       "value": "Epochs 1/2. Running Loss:    0.6666: 100%"
      }
     },
     "017bef23bdff40a59f904aa0e294c4d4": {
      "model_module": "@jupyter-widgets/controls",
      "model_module_version": "2.0.0",
      "model_name": "FloatProgressModel",
      "state": {
       "bar_style": "success",
       "layout": "IPY_MODEL_846930de24cf4a508627cadb53b92db4",
       "max": 222,
       "style": "IPY_MODEL_9f681738b7ea4a88b00d9982a57945fe",
       "value": 222
      }
     },
     "01a56e6db2f640499791c6756fdc811f": {
      "model_module": "@jupyter-widgets/base",
      "model_module_version": "2.0.0",
      "model_name": "LayoutModel",
      "state": {}
     },
     "020497e2b2a64f1d87c634e20c179691": {
      "model_module": "@jupyter-widgets/controls",
      "model_module_version": "2.0.0",
      "model_name": "HTMLModel",
      "state": {
       "layout": "IPY_MODEL_f5a26072858e46f2aeeda2247c7f8818",
       "style": "IPY_MODEL_ad98d4fd73104649930abccfeabc207a",
       "value": "Epoch 1 of 2:   0%"
      }
     },
     "0242f1c592a34d5eb65efd5cb9517806": {
      "model_module": "@jupyter-widgets/controls",
      "model_module_version": "2.0.0",
      "model_name": "HBoxModel",
      "state": {
       "children": [
        "IPY_MODEL_8781e63d632b40deb75cb25b9ba4a263",
        "IPY_MODEL_66ff75c5788840098ffb0bafa7f2db36",
        "IPY_MODEL_a3296077d6f94394bc98ecd374e5a431"
       ],
       "layout": "IPY_MODEL_ac07ce64b2134a8db702910b0aad8e2d"
      }
     },
     "0294e841952e409a823c90aa11164b06": {
      "model_module": "@jupyter-widgets/base",
      "model_module_version": "2.0.0",
      "model_name": "LayoutModel",
      "state": {}
     },
     "03950c33c68e4ae5b30da455bc845fef": {
      "model_module": "@jupyter-widgets/controls",
      "model_module_version": "2.0.0",
      "model_name": "HTMLStyleModel",
      "state": {
       "description_width": "",
       "font_size": null,
       "text_color": null
      }
     },
     "0397ed1a6bce4a3f9e8ab92e9506f5cd": {
      "model_module": "@jupyter-widgets/controls",
      "model_module_version": "2.0.0",
      "model_name": "HTMLStyleModel",
      "state": {
       "description_width": "",
       "font_size": null,
       "text_color": null
      }
     },
     "03a0d617b1cf4bb685ff24a4b00a7a03": {
      "model_module": "@jupyter-widgets/base",
      "model_module_version": "2.0.0",
      "model_name": "LayoutModel",
      "state": {}
     },
     "03fab9e5b512427c9a33207d1c117c63": {
      "model_module": "@jupyter-widgets/base",
      "model_module_version": "2.0.0",
      "model_name": "LayoutModel",
      "state": {}
     },
     "040cebd33a6d42aea46a4998727260b0": {
      "model_module": "@jupyter-widgets/controls",
      "model_module_version": "2.0.0",
      "model_name": "LabelModel",
      "state": {
       "layout": "IPY_MODEL_9473ae201a4b4d5aac21823a63a9a791",
       "style": "IPY_MODEL_762c3fabdbe244f687f47eab079645fe",
       "value": "0.016 MB of 0.016 MB uploaded (0.000 MB deduped)\r"
      }
     },
     "04136c30bb704f5e85375359acb17d08": {
      "model_module": "@jupyter-widgets/base",
      "model_module_version": "2.0.0",
      "model_name": "LayoutModel",
      "state": {}
     },
     "043324598e504aaebdc441d4a20e1c47": {
      "model_module": "@jupyter-widgets/controls",
      "model_module_version": "2.0.0",
      "model_name": "HBoxModel",
      "state": {
       "children": [
        "IPY_MODEL_c4644a1626714d718f9af97eff1d56a9",
        "IPY_MODEL_747bc8f975bc43fcb59c5f283016411b",
        "IPY_MODEL_a605740e4fe84f449ee6d35bfef0dc26"
       ],
       "layout": "IPY_MODEL_8511459921334d81a7d0e42b9dcde3ef"
      }
     },
     "047a5705e6b24ba8a3181462414c7624": {
      "model_module": "@jupyter-widgets/controls",
      "model_module_version": "2.0.0",
      "model_name": "HTMLModel",
      "state": {
       "layout": "IPY_MODEL_03fab9e5b512427c9a33207d1c117c63",
       "style": "IPY_MODEL_17fa6a88c5534e6cb9aa7d82aeacfe88",
       "value": "Downloading builder script: "
      }
     },
     "04a24d1dd8ca4292b8ff981735be7cee": {
      "model_module": "@jupyter-widgets/controls",
      "model_module_version": "2.0.0",
      "model_name": "HTMLModel",
      "state": {
       "layout": "IPY_MODEL_86d0cdf183b947838535e9ac8d33fbb2",
       "style": "IPY_MODEL_e4db4b34e08d40548aab709a8f228016",
       "value": "100%"
      }
     },
     "05029dd93a4a405e81622f47c6d2c3ca": {
      "model_module": "@jupyter-widgets/controls",
      "model_module_version": "2.0.0",
      "model_name": "HTMLStyleModel",
      "state": {
       "description_width": "",
       "font_size": null,
       "text_color": null
      }
     },
     "05234fe1feab47f6beb0c1e733d53ce0": {
      "model_module": "@jupyter-widgets/controls",
      "model_module_version": "2.0.0",
      "model_name": "HTMLStyleModel",
      "state": {
       "description_width": "",
       "font_size": null,
       "text_color": null
      }
     },
     "053f4dd3c7bb46c2ad6b2b74b6b127a0": {
      "model_module": "@jupyter-widgets/controls",
      "model_module_version": "2.0.0",
      "model_name": "LabelModel",
      "state": {
       "layout": "IPY_MODEL_cd7d813c2f494eebae3d3b932b7b1a03",
       "style": "IPY_MODEL_1273314973c84897b2f009937ea1204e"
      }
     },
     "0591fae03dff42699190ef8b6a8ee79d": {
      "model_module": "@jupyter-widgets/base",
      "model_module_version": "2.0.0",
      "model_name": "LayoutModel",
      "state": {}
     },
     "05a09783ad96498e94c8b0a4a5436e42": {
      "model_module": "@jupyter-widgets/base",
      "model_module_version": "2.0.0",
      "model_name": "LayoutModel",
      "state": {}
     },
     "05a20c14c6b8478ab89e443518304ef5": {
      "model_module": "@jupyter-widgets/base",
      "model_module_version": "2.0.0",
      "model_name": "LayoutModel",
      "state": {}
     },
     "061a64e247e849b7a6ebf0e10212c625": {
      "model_module": "@jupyter-widgets/controls",
      "model_module_version": "2.0.0",
      "model_name": "LabelStyleModel",
      "state": {
       "description_width": "",
       "font_family": null,
       "font_size": null,
       "font_style": null,
       "font_variant": null,
       "font_weight": null,
       "text_color": null,
       "text_decoration": null
      }
     },
     "064e28c10fe049efaad43d7491655a23": {
      "model_module": "@jupyter-widgets/controls",
      "model_module_version": "2.0.0",
      "model_name": "VBoxModel",
      "state": {
       "children": [
        "IPY_MODEL_e7ad9bfafc4e46cdb4e677716dee8dc9",
        "IPY_MODEL_7a63ee1c6cd14a0f9a361d87fae6974a"
       ],
       "layout": "IPY_MODEL_3e44d3e9495946d494529868d8601044"
      }
     },
     "067448d5da8d4e8e930f088d7d24f980": {
      "model_module": "@jupyter-widgets/base",
      "model_module_version": "2.0.0",
      "model_name": "LayoutModel",
      "state": {}
     },
     "0684338c985b4217a8fd1e87a2d2f63b": {
      "model_module": "@jupyter-widgets/controls",
      "model_module_version": "2.0.0",
      "model_name": "HTMLModel",
      "state": {
       "layout": "IPY_MODEL_0fca05108784452bb4701f1a92aa0f77",
       "style": "IPY_MODEL_a3571a75363349b4acba548ff3d4c028",
       "value": "Epochs 0/2. Running Loss:    0.7374: 100%"
      }
     },
     "06874d11690e45c8a81f3810bf2715c7": {
      "model_module": "@jupyter-widgets/controls",
      "model_module_version": "2.0.0",
      "model_name": "HTMLStyleModel",
      "state": {
       "description_width": "",
       "font_size": null,
       "text_color": null
      }
     },
     "06c3d9f269c44115b38eaa99fce53ea4": {
      "model_module": "@jupyter-widgets/base",
      "model_module_version": "2.0.0",
      "model_name": "LayoutModel",
      "state": {}
     },
     "06e4f2896766478fbbeea9b098ef2b69": {
      "model_module": "@jupyter-widgets/base",
      "model_module_version": "2.0.0",
      "model_name": "LayoutModel",
      "state": {}
     },
     "06f30d3ab542455780288f1026b790e6": {
      "model_module": "@jupyter-widgets/base",
      "model_module_version": "2.0.0",
      "model_name": "LayoutModel",
      "state": {}
     },
     "071f24aaa8b74fb5b3bb44b97245fa48": {
      "model_module": "@jupyter-widgets/base",
      "model_module_version": "2.0.0",
      "model_name": "LayoutModel",
      "state": {}
     },
     "073f63bc5eff4e93b14ee2f3ef38ca31": {
      "model_module": "@jupyter-widgets/base",
      "model_module_version": "2.0.0",
      "model_name": "LayoutModel",
      "state": {}
     },
     "07481086dcdf4d5ab89ed6428fe2fc40": {
      "model_module": "@jupyter-widgets/controls",
      "model_module_version": "2.0.0",
      "model_name": "HTMLModel",
      "state": {
       "layout": "IPY_MODEL_e88b6151b88442088463ab38c861e55f",
       "style": "IPY_MODEL_06874d11690e45c8a81f3810bf2715c7",
       "value": " 36/36 [00:01&lt;00:00, 30.22it/s]"
      }
     },
     "0774994efe8c4259ad8e6e5ffac3de7d": {
      "model_module": "@jupyter-widgets/base",
      "model_module_version": "2.0.0",
      "model_name": "LayoutModel",
      "state": {}
     },
     "0794608432a94b6a94a0eb63bd439d8b": {
      "model_module": "@jupyter-widgets/controls",
      "model_module_version": "2.0.0",
      "model_name": "VBoxModel",
      "state": {
       "children": [
        "IPY_MODEL_184ddb7a0b9f481b8e09172cd84995d3",
        "IPY_MODEL_9982201fe6cc4698964a5d4e3ed255af"
       ],
       "layout": "IPY_MODEL_88f1261ad3074c70994c1515ad8d6060"
      }
     },
     "07e77630e5d641508093d2961ae786da": {
      "model_module": "@jupyter-widgets/controls",
      "model_module_version": "2.0.0",
      "model_name": "FloatProgressModel",
      "state": {
       "bar_style": "success",
       "layout": "IPY_MODEL_20c02734ef1a4d069eb71c6345fbfba8",
       "max": 1437,
       "style": "IPY_MODEL_f585ee2b83014a90b78a38793f2cf92d",
       "value": 1437
      }
     },
     "07fd867175194597b015f5d90a29c0e9": {
      "model_module": "@jupyter-widgets/controls",
      "model_module_version": "2.0.0",
      "model_name": "HBoxModel",
      "state": {
       "children": [
        "IPY_MODEL_52555423a0c4467e91f661ddec18e937",
        "IPY_MODEL_765d503dc04c46e0be8099a4262dc467",
        "IPY_MODEL_2d41bab163c14a0889fe61a545036902"
       ],
       "layout": "IPY_MODEL_3b43f99edc364a308f8bcd27bbb98b33"
      }
     },
     "08078cdd79af473ca78b94948978f052": {
      "model_module": "@jupyter-widgets/base",
      "model_module_version": "2.0.0",
      "model_name": "LayoutModel",
      "state": {}
     },
     "0833c1a83a1e483e86277aba4c2088d4": {
      "model_module": "@jupyter-widgets/controls",
      "model_module_version": "2.0.0",
      "model_name": "HTMLStyleModel",
      "state": {
       "description_width": "",
       "font_size": null,
       "text_color": null
      }
     },
     "083fa048e3a54bd5ab6f862f08cf0ad9": {
      "model_module": "@jupyter-widgets/base",
      "model_module_version": "2.0.0",
      "model_name": "LayoutModel",
      "state": {}
     },
     "0874db60d1ec465bbaa9e90a8e10fc47": {
      "model_module": "@jupyter-widgets/base",
      "model_module_version": "2.0.0",
      "model_name": "LayoutModel",
      "state": {}
     },
     "08819273f481452c8aa0ff8df01a4fe5": {
      "model_module": "@jupyter-widgets/base",
      "model_module_version": "2.0.0",
      "model_name": "LayoutModel",
      "state": {}
     },
     "08a03691221a42e2a3e12fefff32a321": {
      "model_module": "@jupyter-widgets/controls",
      "model_module_version": "2.0.0",
      "model_name": "ProgressStyleModel",
      "state": {
       "description_width": ""
      }
     },
     "08e7f7c5057a481e876513493e931007": {
      "model_module": "@jupyter-widgets/controls",
      "model_module_version": "2.0.0",
      "model_name": "HTMLModel",
      "state": {
       "layout": "IPY_MODEL_f8ef0d4a4b844fd8beb2f47c8688d026",
       "style": "IPY_MODEL_d97b9ae25ab04b3a83eec7d3793339ea",
       "value": "100%"
      }
     },
     "08ff8bd8340e437eb115c9bdabf6039c": {
      "model_module": "@jupyter-widgets/controls",
      "model_module_version": "2.0.0",
      "model_name": "HTMLModel",
      "state": {
       "layout": "IPY_MODEL_b29d38ad6780442d8069e49d1167da07",
       "style": "IPY_MODEL_8c23d2df789c4eac85be24c1cfbdca88",
       "value": "apply len_bytes to num_bytes: 100%"
      }
     },
     "098adce03b7141049b9319dc836760cc": {
      "model_module": "@jupyter-widgets/controls",
      "model_module_version": "2.0.0",
      "model_name": "ProgressStyleModel",
      "state": {
       "description_width": ""
      }
     },
     "09b51c6fea8a48cfbc82b67615d895ef": {
      "model_module": "@jupyter-widgets/controls",
      "model_module_version": "2.0.0",
      "model_name": "ProgressStyleModel",
      "state": {
       "description_width": ""
      }
     },
     "09d71c94e2f34c55814f4bb269371e1e": {
      "model_module": "@jupyter-widgets/controls",
      "model_module_version": "2.0.0",
      "model_name": "HTMLModel",
      "state": {
       "layout": "IPY_MODEL_5e58ddac8c2f47e0a78ae559e0835d12",
       "style": "IPY_MODEL_ba14042ab3de4bf6aceb29359568ff0a",
       "value": " 227/227 [00:00&lt;00:00, 930.21it/s]"
      }
     },
     "09de33f5053b48bbbd33e17a6c9c7369": {
      "model_module": "@jupyter-widgets/controls",
      "model_module_version": "2.0.0",
      "model_name": "HTMLStyleModel",
      "state": {
       "description_width": "",
       "font_size": null,
       "text_color": null
      }
     },
     "09e924e8e8764c4fb0d6972b7c6ed275": {
      "model_module": "@jupyter-widgets/controls",
      "model_module_version": "2.0.0",
      "model_name": "HBoxModel",
      "state": {
       "children": [
        "IPY_MODEL_d90262c3f6554902af4f86b798dab767",
        "IPY_MODEL_f104c766813b414299f3a2c9ebda1f7c",
        "IPY_MODEL_508c51baf45046089143c4f1d6f082d3"
       ],
       "layout": "IPY_MODEL_04136c30bb704f5e85375359acb17d08"
      }
     },
     "09e9c7a029824f189b8caac029916abc": {
      "model_module": "@jupyter-widgets/base",
      "model_module_version": "2.0.0",
      "model_name": "LayoutModel",
      "state": {}
     },
     "09eda1fd34204d8f84566e1685933f6c": {
      "model_module": "@jupyter-widgets/base",
      "model_module_version": "2.0.0",
      "model_name": "LayoutModel",
      "state": {}
     },
     "0a14d9fda1534d0e961ee0e7cf2bc329": {
      "model_module": "@jupyter-widgets/base",
      "model_module_version": "2.0.0",
      "model_name": "LayoutModel",
      "state": {}
     },
     "0a181c3fc98c436a893b1699872fe577": {
      "model_module": "@jupyter-widgets/base",
      "model_module_version": "2.0.0",
      "model_name": "LayoutModel",
      "state": {}
     },
     "0a52f6a8bb1247318d9182b5b52f829c": {
      "model_module": "@jupyter-widgets/base",
      "model_module_version": "2.0.0",
      "model_name": "LayoutModel",
      "state": {}
     },
     "0a992eefc93a40e2b0e9814f2c66a496": {
      "model_module": "@jupyter-widgets/controls",
      "model_module_version": "2.0.0",
      "model_name": "ProgressStyleModel",
      "state": {
       "description_width": ""
      }
     },
     "0aa28b89921a4b128318eb385dc6c137": {
      "model_module": "@jupyter-widgets/base",
      "model_module_version": "2.0.0",
      "model_name": "LayoutModel",
      "state": {}
     },
     "0afd210b0c634c2bba1f4fd09a23ec61": {
      "model_module": "@jupyter-widgets/base",
      "model_module_version": "2.0.0",
      "model_name": "LayoutModel",
      "state": {}
     },
     "0b302ea71bb745439ff7bfb332e47837": {
      "model_module": "@jupyter-widgets/base",
      "model_module_version": "2.0.0",
      "model_name": "LayoutModel",
      "state": {}
     },
     "0ba7dd1e7f984253abce5a78565dc67c": {
      "model_module": "@jupyter-widgets/controls",
      "model_module_version": "2.0.0",
      "model_name": "ProgressStyleModel",
      "state": {
       "description_width": ""
      }
     },
     "0bb26117a19f46fbbe952878c2f963c2": {
      "model_module": "@jupyter-widgets/base",
      "model_module_version": "2.0.0",
      "model_name": "LayoutModel",
      "state": {}
     },
     "0bb7234f0d014f7098e37db541fed2b7": {
      "model_module": "@jupyter-widgets/base",
      "model_module_version": "2.0.0",
      "model_name": "LayoutModel",
      "state": {}
     },
     "0bc2699ece454fba9d7de71ad8075fcb": {
      "model_module": "@jupyter-widgets/controls",
      "model_module_version": "2.0.0",
      "model_name": "ProgressStyleModel",
      "state": {
       "description_width": ""
      }
     },
     "0bc4c078993149fc96beb70d2c87b718": {
      "model_module": "@jupyter-widgets/controls",
      "model_module_version": "2.0.0",
      "model_name": "FloatProgressModel",
      "state": {
       "bar_style": "success",
       "layout": "IPY_MODEL_71d15bea87484733bb23daac002177c2",
       "max": 130388,
       "style": "IPY_MODEL_cf5d28760b6b4829aa922cc6cf1baaa1",
       "value": 130388
      }
     },
     "0c04e4b0522144c483cc0a4fb07c1c82": {
      "model_module": "@jupyter-widgets/controls",
      "model_module_version": "2.0.0",
      "model_name": "HTMLModel",
      "state": {
       "layout": "IPY_MODEL_ccb49b049a5a4f238fec143e958ffe00",
       "style": "IPY_MODEL_ce38faea895a41f1a79a0b6b644075af",
       "value": " 230/230 [00:00&lt;00:00, 923.04it/s]"
      }
     },
     "0c8aa1f860ff48f6b051228898985ad6": {
      "model_module": "@jupyter-widgets/base",
      "model_module_version": "2.0.0",
      "model_name": "LayoutModel",
      "state": {}
     },
     "0c9128b244fd4778a286a455de03d146": {
      "model_module": "@jupyter-widgets/controls",
      "model_module_version": "2.0.0",
      "model_name": "HTMLStyleModel",
      "state": {
       "description_width": "",
       "font_size": null,
       "text_color": null
      }
     },
     "0c9c3c02d5aa45379c6e68b740fbc807": {
      "model_module": "@jupyter-widgets/controls",
      "model_module_version": "2.0.0",
      "model_name": "FloatProgressModel",
      "state": {
       "layout": "IPY_MODEL_09eda1fd34204d8f84566e1685933f6c",
       "max": 1,
       "style": "IPY_MODEL_41f5b573d97d481fab09619f57ded0af"
      }
     },
     "0c9d35fb560d466cb6833058484bef88": {
      "model_module": "@jupyter-widgets/controls",
      "model_module_version": "2.0.0",
      "model_name": "ProgressStyleModel",
      "state": {
       "description_width": ""
      }
     },
     "0cd567c6e65d4a20a8bb7d0e46cc4029": {
      "model_module": "@jupyter-widgets/controls",
      "model_module_version": "2.0.0",
      "model_name": "ProgressStyleModel",
      "state": {
       "description_width": ""
      }
     },
     "0cf843d4d493468993ffeadc39427b68": {
      "model_module": "@jupyter-widgets/controls",
      "model_module_version": "2.0.0",
      "model_name": "LabelModel",
      "state": {
       "layout": "IPY_MODEL_1efc1e9aae88468aaf7a41c5b7dd67be",
       "style": "IPY_MODEL_c790df8a3875423883863f5e4b9fe6d4",
       "value": "0.016 MB of 0.016 MB uploaded (0.000 MB deduped)\r"
      }
     },
     "0d0f228144c043daac2779e2b0f255f3": {
      "model_module": "@jupyter-widgets/base",
      "model_module_version": "2.0.0",
      "model_name": "LayoutModel",
      "state": {}
     },
     "0d17fd8ea4d2465b963914c7d112e2c5": {
      "model_module": "@jupyter-widgets/base",
      "model_module_version": "2.0.0",
      "model_name": "LayoutModel",
      "state": {}
     },
     "0d2f7533e9ec4f63a705b38a57453503": {
      "model_module": "@jupyter-widgets/controls",
      "model_module_version": "2.0.0",
      "model_name": "HTMLModel",
      "state": {
       "layout": "IPY_MODEL_93ecc3b705b845f2a15efdd7c27d99ec",
       "style": "IPY_MODEL_bca95a7703fa4580924df3f2415be5e2",
       "value": "Epochs 1/2. Running Loss:    0.5379: 100%"
      }
     },
     "0d3c1de3674048ca9dabaf408211a55c": {
      "model_module": "@jupyter-widgets/controls",
      "model_module_version": "2.0.0",
      "model_name": "FloatProgressModel",
      "state": {
       "bar_style": "success",
       "layout": "IPY_MODEL_e35304a3e0664645901a1e0ce626651f",
       "max": 71,
       "style": "IPY_MODEL_36ce656c9afe436d84ea3d242ecfb810",
       "value": 71
      }
     },
     "0d6b1d2db2444778b2a87aebbee1fb41": {
      "model_module": "@jupyter-widgets/controls",
      "model_module_version": "2.0.0",
      "model_name": "FloatProgressModel",
      "state": {
       "bar_style": "success",
       "layout": "IPY_MODEL_073f63bc5eff4e93b14ee2f3ef38ca31",
       "max": 199,
       "style": "IPY_MODEL_ffde3689d6814b958673bb068406de67",
       "value": 199
      }
     },
     "0d73a7fae027495ab40c0ccb5d5e9bf4": {
      "model_module": "@jupyter-widgets/base",
      "model_module_version": "2.0.0",
      "model_name": "LayoutModel",
      "state": {}
     },
     "0dcf56da6df04ff3a0efde9337bbfa24": {
      "model_module": "@jupyter-widgets/base",
      "model_module_version": "2.0.0",
      "model_name": "LayoutModel",
      "state": {}
     },
     "0de6f5ee455846a3bdd1eb06c83e0c5b": {
      "model_module": "@jupyter-widgets/controls",
      "model_module_version": "2.0.0",
      "model_name": "ProgressStyleModel",
      "state": {
       "description_width": ""
      }
     },
     "0df2cdc0d5024ebb874a229cab51dd85": {
      "model_module": "@jupyter-widgets/controls",
      "model_module_version": "2.0.0",
      "model_name": "HTMLModel",
      "state": {
       "layout": "IPY_MODEL_2faed8be80e54fa097562f892dcf2989",
       "style": "IPY_MODEL_d44f9ed9da5e42e4bd8161ef725f1eac",
       "value": "apply len_bytes to num_bytes: 100%"
      }
     },
     "0df48c6c216143db8596cc186f4ee09a": {
      "model_module": "@jupyter-widgets/controls",
      "model_module_version": "2.0.0",
      "model_name": "HBoxModel",
      "state": {
       "children": [
        "IPY_MODEL_fe94f1af5cbe4ced94ed89c456a9affc",
        "IPY_MODEL_494ae0eff68e47f4bac1006aefde5809",
        "IPY_MODEL_c0088d0a9b874647958989d630a87a4b"
       ],
       "layout": "IPY_MODEL_3e0d9972f551402ab8c6e7b1293d18db"
      }
     },
     "0e0aede584484dbbb2d4fe5d740bede3": {
      "model_module": "@jupyter-widgets/base",
      "model_module_version": "2.0.0",
      "model_name": "LayoutModel",
      "state": {}
     },
     "0e1e1aac440d4e8d866f8895a7d892e9": {
      "model_module": "@jupyter-widgets/controls",
      "model_module_version": "2.0.0",
      "model_name": "LabelModel",
      "state": {
       "layout": "IPY_MODEL_decbfed6e94b431587b53969b001c3fc",
       "style": "IPY_MODEL_d5161ecd5733410a86776602e4ba1978"
      }
     },
     "0e4ae05ead6e41e5b23b0c22e5dcde25": {
      "model_module": "@jupyter-widgets/controls",
      "model_module_version": "2.0.0",
      "model_name": "DescriptionStyleModel",
      "state": {
       "description_width": ""
      }
     },
     "0e63305502cd41d6941b500b5a9d131d": {
      "model_module": "@jupyter-widgets/base",
      "model_module_version": "2.0.0",
      "model_name": "LayoutModel",
      "state": {}
     },
     "0e760cf5b0f24e68965afb1fac744312": {
      "model_module": "@jupyter-widgets/controls",
      "model_module_version": "2.0.0",
      "model_name": "HBoxModel",
      "state": {
       "children": [
        "IPY_MODEL_a7358ff9c4ab4db59bc566d2317045bc",
        "IPY_MODEL_b6fab21fc53c407cac0fab224d8dee47",
        "IPY_MODEL_3847e00b73a447d3aee8f67087155103"
       ],
       "layout": "IPY_MODEL_96875a2f6f4f44a29e9c1129f3a5d2ae"
      }
     },
     "0eae0e17fa384daaa7c9da743f009b61": {
      "model_module": "@jupyter-widgets/controls",
      "model_module_version": "2.0.0",
      "model_name": "HBoxModel",
      "state": {
       "children": [
        "IPY_MODEL_e2e30cff73624acfaf2614389bd7ee2d",
        "IPY_MODEL_d66e6602e943431d9507bf5f99d4e1f7",
        "IPY_MODEL_7f13b739b8974fa6933a3d0ec0349f65"
       ],
       "layout": "IPY_MODEL_6b464125c2d04883bda2dc818e705d7c"
      }
     },
     "0ed0387069754b5cb4273d6dd05bdf03": {
      "model_module": "@jupyter-widgets/controls",
      "model_module_version": "2.0.0",
      "model_name": "VBoxModel",
      "state": {
       "children": [
        "IPY_MODEL_b9298fa18f1146159d8c52ff2c022a6b",
        "IPY_MODEL_a03fcf5c5c024eafa9e69a4ff169c8f5"
       ],
       "layout": "IPY_MODEL_edf59dd2f4e44eb1990f6216336541a4"
      }
     },
     "0ef825c9187f449e8c599116cfbf31ad": {
      "model_module": "@jupyter-widgets/controls",
      "model_module_version": "2.0.0",
      "model_name": "HTMLStyleModel",
      "state": {
       "description_width": "",
       "font_size": null,
       "text_color": null
      }
     },
     "0f13a52b62494a10a02d730180979f32": {
      "model_module": "@jupyter-widgets/controls",
      "model_module_version": "2.0.0",
      "model_name": "HTMLStyleModel",
      "state": {
       "description_width": "",
       "font_size": null,
       "text_color": null
      }
     },
     "0f37ec89b7fb4556b73b159874e9d4af": {
      "model_module": "@jupyter-widgets/base",
      "model_module_version": "2.0.0",
      "model_name": "LayoutModel",
      "state": {}
     },
     "0f6f5d931d3e4a56aaa40102e28725f7": {
      "model_module": "@jupyter-widgets/controls",
      "model_module_version": "2.0.0",
      "model_name": "HTMLStyleModel",
      "state": {
       "description_width": "",
       "font_size": null,
       "text_color": null
      }
     },
     "0f8255056d0b4426b226bd7a4c7284f1": {
      "model_module": "@jupyter-widgets/controls",
      "model_module_version": "2.0.0",
      "model_name": "HTMLModel",
      "state": {
       "layout": "IPY_MODEL_b720cbf916354a8f9cb16d02213e25e2",
       "style": "IPY_MODEL_f9a95a2363754d528076b44bc700715e",
       "value": "Extracting data files: 100%"
      }
     },
     "0f8bdff3843c42da8a040a21388f8e3c": {
      "model_module": "@jupyter-widgets/controls",
      "model_module_version": "2.0.0",
      "model_name": "HTMLStyleModel",
      "state": {
       "description_width": "",
       "font_size": null,
       "text_color": null
      }
     },
     "0fa04a098d924047a0cc75673e848325": {
      "model_module": "@jupyter-widgets/base",
      "model_module_version": "2.0.0",
      "model_name": "LayoutModel",
      "state": {}
     },
     "0fca05108784452bb4701f1a92aa0f77": {
      "model_module": "@jupyter-widgets/base",
      "model_module_version": "2.0.0",
      "model_name": "LayoutModel",
      "state": {}
     },
     "0fce96cd3bef4b5f977ca7a7516fe7e0": {
      "model_module": "@jupyter-widgets/base",
      "model_module_version": "2.0.0",
      "model_name": "LayoutModel",
      "state": {}
     },
     "106338441a0d47a5aa503bff4d2dd76c": {
      "model_module": "@jupyter-widgets/base",
      "model_module_version": "2.0.0",
      "model_name": "LayoutModel",
      "state": {}
     },
     "10672be6309647f4a8754eb78f4f5ed8": {
      "model_module": "@jupyter-widgets/base",
      "model_module_version": "2.0.0",
      "model_name": "LayoutModel",
      "state": {}
     },
     "106cfa1e6aaf4c98b47bfa4e72ce876d": {
      "model_module": "@jupyter-widgets/controls",
      "model_module_version": "2.0.0",
      "model_name": "HTMLStyleModel",
      "state": {
       "description_width": "",
       "font_size": null,
       "text_color": null
      }
     },
     "108109c4947248e08fe655995d9c3a6c": {
      "model_module": "@jupyter-widgets/base",
      "model_module_version": "2.0.0",
      "model_name": "LayoutModel",
      "state": {}
     },
     "10a85757d53d4d6b89486566f89470b6": {
      "model_module": "@jupyter-widgets/controls",
      "model_module_version": "2.0.0",
      "model_name": "FloatProgressModel",
      "state": {
       "bar_style": "success",
       "layout": "IPY_MODEL_89753f360c19466c98e6a0a06beba393",
       "max": 199,
       "style": "IPY_MODEL_229e3dc739ee422aa134eb372ae95709",
       "value": 199
      }
     },
     "10ad727059534bf6be554aafeada1ae3": {
      "model_module": "@jupyter-widgets/controls",
      "model_module_version": "2.0.0",
      "model_name": "HTMLModel",
      "state": {
       "layout": "IPY_MODEL_10672be6309647f4a8754eb78f4f5ed8",
       "style": "IPY_MODEL_e7838acc2ea84688aed2a27425bffa94",
       "value": " 230/230 [00:11&lt;00:00, 165.46it/s]"
      }
     },
     "10ebeb0427f94370ae63d08d95877407": {
      "model_module": "@jupyter-widgets/controls",
      "model_module_version": "2.0.0",
      "model_name": "HTMLModel",
      "state": {
       "layout": "IPY_MODEL_7e91e94fcdf545f69d289a37f493b5f9",
       "style": "IPY_MODEL_5bb6240ff5684912ae46c2c7cc16c867",
       "value": " 230/230 [00:12&lt;00:00, 178.34it/s]"
      }
     },
     "113be202c63244aca0039c15573d5a38": {
      "model_module": "@jupyter-widgets/controls",
      "model_module_version": "2.0.0",
      "model_name": "HTMLModel",
      "state": {
       "layout": "IPY_MODEL_44cfd480a2c643e683843dbf46863589",
       "style": "IPY_MODEL_0f6f5d931d3e4a56aaa40102e28725f7",
       "value": " 995/995 [00:00&lt;00:00, 1169.89it/s]"
      }
     },
     "1147d3460b9147cf9286a79f9856f6f4": {
      "model_module": "@jupyter-widgets/controls",
      "model_module_version": "2.0.0",
      "model_name": "HBoxModel",
      "state": {
       "children": [
        "IPY_MODEL_c8549098dcf64a9caf4221a98d11409f",
        "IPY_MODEL_31aa5036b90f491f8d84a02e17e4c992",
        "IPY_MODEL_36693a4cdc9745b8ad53d7fdfda35a22"
       ],
       "layout": "IPY_MODEL_44a62d24f280462495de74eab0aacd9b"
      }
     },
     "11520e9cfa834ffea7849a0720f416e5": {
      "model_module": "@jupyter-widgets/controls",
      "model_module_version": "2.0.0",
      "model_name": "VBoxModel",
      "state": {
       "children": [
        "IPY_MODEL_b140658aa3344292b71294729f5acbe5",
        "IPY_MODEL_e5542fbfff104a849f63335547544d6b"
       ],
       "layout": "IPY_MODEL_d307d33e0ad342b1b70363340278529e"
      }
     },
     "11a720b069f24279a9201f1e171633a6": {
      "model_module": "@jupyter-widgets/base",
      "model_module_version": "2.0.0",
      "model_name": "LayoutModel",
      "state": {}
     },
     "11dbb5c388cd4a73821535c1e75351d2": {
      "model_module": "@jupyter-widgets/base",
      "model_module_version": "2.0.0",
      "model_name": "LayoutModel",
      "state": {}
     },
     "11e517b4d02f4995b3d824a6555b037b": {
      "model_module": "@jupyter-widgets/controls",
      "model_module_version": "2.0.0",
      "model_name": "HTMLModel",
      "state": {
       "layout": "IPY_MODEL_de19c00522fc46d5927c6d756426a8a8",
       "style": "IPY_MODEL_15bc11058d62473eb4643448f8e39d2e",
       "value": " 1106/1106 [00:00&lt;00:00, 2206.37it/s]"
      }
     },
     "11ed373db13c4f0d9ed9903a05bdcffc": {
      "model_module": "@jupyter-widgets/controls",
      "model_module_version": "2.0.0",
      "model_name": "ProgressStyleModel",
      "state": {
       "description_width": ""
      }
     },
     "12168e9188d34713a9223f88735e725a": {
      "model_module": "@jupyter-widgets/controls",
      "model_module_version": "2.0.0",
      "model_name": "HTMLModel",
      "state": {
       "layout": "IPY_MODEL_083fa048e3a54bd5ab6f862f08cf0ad9",
       "style": "IPY_MODEL_3bcb55fb5efc46e5b1cd6353e7ea1702",
       "value": " 2.65k/? [00:00&lt;00:00, 155kB/s]"
      }
     },
     "1237296f8bd041feb17a8333ba56041f": {
      "model_module": "@jupyter-widgets/controls",
      "model_module_version": "2.0.0",
      "model_name": "HTMLModel",
      "state": {
       "layout": "IPY_MODEL_85af671fb68b4ff3ab3c9f7a13479cec",
       "style": "IPY_MODEL_b066485875fc441bb51f4088e9dcd1b7",
       "value": "Downloading pytorch_model.bin: 100%"
      }
     },
     "1243276f39fb407cb0e336a4e90408fd": {
      "model_module": "@jupyter-widgets/base",
      "model_module_version": "2.0.0",
      "model_name": "LayoutModel",
      "state": {}
     },
     "12434805dcf144a486b50d787fda8b6b": {
      "model_module": "@jupyter-widgets/controls",
      "model_module_version": "2.0.0",
      "model_name": "HTMLModel",
      "state": {
       "layout": "IPY_MODEL_2430c18c9a4949a48c13757ae6f97f5e",
       "style": "IPY_MODEL_770002ebb5ec4e4fb0de5c8b8376c0fb",
       "value": " 36/36 [00:01&lt;00:00, 30.10it/s]"
      }
     },
     "1271574014f94a6c9e9081d41cf8d98c": {
      "model_module": "@jupyter-widgets/base",
      "model_module_version": "2.0.0",
      "model_name": "LayoutModel",
      "state": {}
     },
     "1273314973c84897b2f009937ea1204e": {
      "model_module": "@jupyter-widgets/controls",
      "model_module_version": "2.0.0",
      "model_name": "LabelStyleModel",
      "state": {
       "description_width": "",
       "font_family": null,
       "font_size": null,
       "font_style": null,
       "font_variant": null,
       "font_weight": null,
       "text_color": null,
       "text_decoration": null
      }
     },
     "129f71bce3544f4788b1d58ab34406dd": {
      "model_module": "@jupyter-widgets/controls",
      "model_module_version": "2.0.0",
      "model_name": "LabelModel",
      "state": {
       "layout": "IPY_MODEL_67c103eec42c4830961ebfa311e10686",
       "style": "IPY_MODEL_9a538664f3cf41d7a6e9246a8020849c"
      }
     },
     "12a0ead955354c7e9a541a9345ba644d": {
      "model_module": "@jupyter-widgets/controls",
      "model_module_version": "2.0.0",
      "model_name": "HTMLStyleModel",
      "state": {
       "description_width": "",
       "font_size": null,
       "text_color": null
      }
     },
     "1305f39d251c4581977df47d70b14775": {
      "model_module": "@jupyter-widgets/controls",
      "model_module_version": "2.0.0",
      "model_name": "HTMLStyleModel",
      "state": {
       "description_width": "",
       "font_size": null,
       "text_color": null
      }
     },
     "1306091db44e4a1fa2036bf99fb0dad3": {
      "model_module": "@jupyter-widgets/base",
      "model_module_version": "2.0.0",
      "model_name": "LayoutModel",
      "state": {}
     },
     "1316ab564119457487e3f57ff9c0ee04": {
      "model_module": "@jupyter-widgets/controls",
      "model_module_version": "2.0.0",
      "model_name": "HTMLModel",
      "state": {
       "layout": "IPY_MODEL_834f6828c5b842f0a79ee3e28a8aaeea",
       "style": "IPY_MODEL_7b985ac01576426aa3183d36e53d0e80",
       "value": " 222/222 [00:00&lt;00:00, 1103.04it/s]"
      }
     },
     "13191d94b1a348b0876c78bb7f4daa09": {
      "model_module": "@jupyter-widgets/controls",
      "model_module_version": "2.0.0",
      "model_name": "ProgressStyleModel",
      "state": {
       "description_width": ""
      }
     },
     "136645467ea2403f8b9fd246fbe75348": {
      "model_module": "@jupyter-widgets/controls",
      "model_module_version": "2.0.0",
      "model_name": "ProgressStyleModel",
      "state": {
       "description_width": ""
      }
     },
     "13c59daf91b8444f9abee13741506763": {
      "model_module": "@jupyter-widgets/base",
      "model_module_version": "2.0.0",
      "model_name": "LayoutModel",
      "state": {}
     },
     "13d8f783402c4f1fbdc3b6ccf3381cf4": {
      "model_module": "@jupyter-widgets/controls",
      "model_module_version": "2.0.0",
      "model_name": "HTMLModel",
      "state": {
       "layout": "IPY_MODEL_62b39ae872394a7894610c02c813296c",
       "style": "IPY_MODEL_7000022d934f4433af9245d879a4401d",
       "value": "100%"
      }
     },
     "13d92f75e92c44f6a7005a9365602a97": {
      "model_module": "@jupyter-widgets/base",
      "model_module_version": "2.0.0",
      "model_name": "LayoutModel",
      "state": {}
     },
     "13ed83aa0252497090d422f7214b1f4d": {
      "model_module": "@jupyter-widgets/base",
      "model_module_version": "2.0.0",
      "model_name": "LayoutModel",
      "state": {}
     },
     "13f820b7095e46bc83591822669b79f9": {
      "model_module": "@jupyter-widgets/base",
      "model_module_version": "2.0.0",
      "model_name": "LayoutModel",
      "state": {}
     },
     "1413240eb1634c09b063b057ffe70371": {
      "model_module": "@jupyter-widgets/controls",
      "model_module_version": "2.0.0",
      "model_name": "FloatProgressModel",
      "state": {
       "bar_style": "success",
       "layout": "IPY_MODEL_46dfe898c09c4818882b34977496e6fb",
       "max": 8953,
       "style": "IPY_MODEL_ac8291af64c9480f945f3da4560cf78e",
       "value": 8953
      }
     },
     "141ee8cadaf34001bbb9f17654e01edd": {
      "model_module": "@jupyter-widgets/controls",
      "model_module_version": "2.0.0",
      "model_name": "ProgressStyleModel",
      "state": {
       "description_width": ""
      }
     },
     "144c816bb10c48d293e8753e2f61432e": {
      "model_module": "@jupyter-widgets/base",
      "model_module_version": "2.0.0",
      "model_name": "LayoutModel",
      "state": {}
     },
     "1467553e39744365af2c35f56fd50d6a": {
      "model_module": "@jupyter-widgets/base",
      "model_module_version": "2.0.0",
      "model_name": "LayoutModel",
      "state": {}
     },
     "147ac088c920467f82f7379548981a5c": {
      "model_module": "@jupyter-widgets/base",
      "model_module_version": "2.0.0",
      "model_name": "LayoutModel",
      "state": {}
     },
     "149569d395f1435ebb79e2686c11a6ac": {
      "model_module": "@jupyter-widgets/controls",
      "model_module_version": "2.0.0",
      "model_name": "HTMLStyleModel",
      "state": {
       "description_width": "",
       "font_size": null,
       "text_color": null
      }
     },
     "14c183518cf04a1086d01e65b246636b": {
      "model_module": "@jupyter-widgets/controls",
      "model_module_version": "2.0.0",
      "model_name": "FloatProgressModel",
      "state": {
       "bar_style": "success",
       "layout": "IPY_MODEL_1767efc0f4c845eb8f489a845ce60e57",
       "max": 230,
       "style": "IPY_MODEL_2b6758e1d6b24dfeaa84601d011fcb0e",
       "value": 230
      }
     },
     "150f67e878514695bb0864e3546b6261": {
      "model_module": "@jupyter-widgets/base",
      "model_module_version": "2.0.0",
      "model_name": "LayoutModel",
      "state": {}
     },
     "15794e0baf404a10b4ca4c8940bee8b0": {
      "model_module": "@jupyter-widgets/base",
      "model_module_version": "2.0.0",
      "model_name": "LayoutModel",
      "state": {}
     },
     "15892121a3764c7484abe875533873a5": {
      "model_module": "@jupyter-widgets/base",
      "model_module_version": "2.0.0",
      "model_name": "LayoutModel",
      "state": {}
     },
     "15966710348d40b3b4540ff9a3a1f967": {
      "model_module": "@jupyter-widgets/controls",
      "model_module_version": "2.0.0",
      "model_name": "LabelStyleModel",
      "state": {
       "description_width": "",
       "font_family": null,
       "font_size": null,
       "font_style": null,
       "font_variant": null,
       "font_weight": null,
       "text_color": null,
       "text_decoration": null
      }
     },
     "15b60179dea24f3fb709cbfc306146ca": {
      "model_module": "@jupyter-widgets/base",
      "model_module_version": "2.0.0",
      "model_name": "LayoutModel",
      "state": {}
     },
     "15bc11058d62473eb4643448f8e39d2e": {
      "model_module": "@jupyter-widgets/controls",
      "model_module_version": "2.0.0",
      "model_name": "HTMLStyleModel",
      "state": {
       "description_width": "",
       "font_size": null,
       "text_color": null
      }
     },
     "15bcfeab13094a578c2ef74793e3958f": {
      "model_module": "@jupyter-widgets/controls",
      "model_module_version": "2.0.0",
      "model_name": "LabelStyleModel",
      "state": {
       "description_width": "",
       "font_family": null,
       "font_size": null,
       "font_style": null,
       "font_variant": null,
       "font_weight": null,
       "text_color": null,
       "text_decoration": null
      }
     },
     "15de745cfadc4ff7bad35586bc6c73a3": {
      "model_module": "@jupyter-widgets/controls",
      "model_module_version": "2.0.0",
      "model_name": "HTMLStyleModel",
      "state": {
       "description_width": "",
       "font_size": null,
       "text_color": null
      }
     },
     "162f13ffab164f339d1e7e126413be6b": {
      "model_module": "@jupyter-widgets/base",
      "model_module_version": "2.0.0",
      "model_name": "LayoutModel",
      "state": {}
     },
     "1636e318316747a580b61c48a374c394": {
      "model_module": "@jupyter-widgets/base",
      "model_module_version": "2.0.0",
      "model_name": "LayoutModel",
      "state": {}
     },
     "167ea7c841fa42b5b71d850bc69d18a7": {
      "model_module": "@jupyter-widgets/base",
      "model_module_version": "2.0.0",
      "model_name": "LayoutModel",
      "state": {}
     },
     "167f6f1f2f5b47cfafa8423c8d7b5609": {
      "model_module": "@jupyter-widgets/controls",
      "model_module_version": "2.0.0",
      "model_name": "DescriptionStyleModel",
      "state": {
       "description_width": ""
      }
     },
     "168d639ce7724445b7e8de84e4cf0495": {
      "model_module": "@jupyter-widgets/controls",
      "model_module_version": "2.0.0",
      "model_name": "HBoxModel",
      "state": {
       "children": [
        "IPY_MODEL_2bbebd9926454e6f816db6e88f55ecac",
        "IPY_MODEL_779b2dcf420846719c720af0d6a2c7bb",
        "IPY_MODEL_3dd550bf3ac342f5b55bad1b2b3a91b9"
       ],
       "layout": "IPY_MODEL_be1af2a6596d4e78bb8e1c58876b4c21"
      }
     },
     "16a219656d24485686f4aa50480927ea": {
      "model_module": "@jupyter-widgets/controls",
      "model_module_version": "2.0.0",
      "model_name": "HTMLStyleModel",
      "state": {
       "description_width": "",
       "font_size": null,
       "text_color": null
      }
     },
     "1707c91e627542b89e24e30277fa985a": {
      "model_module": "@jupyter-widgets/controls",
      "model_module_version": "2.0.0",
      "model_name": "HTMLModel",
      "state": {
       "layout": "IPY_MODEL_d95e08db8bab44668bc9fe85f4f343b5",
       "style": "IPY_MODEL_3cfc40242df744a6a6d171e165a05519",
       "value": "Running Evaluation: 100%"
      }
     },
     "1711eea93197431c809f1da9947847ac": {
      "model_module": "@jupyter-widgets/controls",
      "model_module_version": "2.0.0",
      "model_name": "HTMLModel",
      "state": {
       "layout": "IPY_MODEL_c4ef4de893e243e8a431ee0f7cb579cc",
       "style": "IPY_MODEL_5737db047860432faa7972905e52238b",
       "value": " 36/36 [00:01&lt;00:00, 29.54it/s]"
      }
     },
     "173d8a35b8cf4d699f16a566f2c51fb1": {
      "model_module": "@jupyter-widgets/base",
      "model_module_version": "2.0.0",
      "model_name": "LayoutModel",
      "state": {}
     },
     "174eceb9efdf43738021035c8795740e": {
      "model_module": "@jupyter-widgets/controls",
      "model_module_version": "2.0.0",
      "model_name": "HTMLModel",
      "state": {
       "layout": "IPY_MODEL_a4b751ca465643fa87b39545930fda96",
       "style": "IPY_MODEL_004f8962189c4a4c91b095f7b9f5db12",
       "value": " 228/228 [00:26&lt;00:00, 10.63it/s]"
      }
     },
     "1753151938ca4aa49d734e8f20b6158c": {
      "model_module": "@jupyter-widgets/controls",
      "model_module_version": "2.0.0",
      "model_name": "FloatProgressModel",
      "state": {
       "bar_style": "success",
       "layout": "IPY_MODEL_9b19e6ba4cb64628b008dfe11be72164",
       "max": 230,
       "style": "IPY_MODEL_1bb7f812198f4ee69b11dae9290dca50",
       "value": 230
      }
     },
     "1767efc0f4c845eb8f489a845ce60e57": {
      "model_module": "@jupyter-widgets/base",
      "model_module_version": "2.0.0",
      "model_name": "LayoutModel",
      "state": {}
     },
     "17ad0fa2175f4bcea83a0256929f4d8f": {
      "model_module": "@jupyter-widgets/controls",
      "model_module_version": "2.0.0",
      "model_name": "HTMLStyleModel",
      "state": {
       "description_width": "",
       "font_size": null,
       "text_color": null
      }
     },
     "17baec0245fe4924b47d4dafd6cd7097": {
      "model_module": "@jupyter-widgets/controls",
      "model_module_version": "2.0.0",
      "model_name": "HTMLModel",
      "state": {
       "layout": "IPY_MODEL_27fda186f434438aa0d4ed629d57100a",
       "style": "IPY_MODEL_75b4c9ba29874d87a112a57a28bbc449",
       "value": "apply len_bytes to num_bytes: 100%"
      }
     },
     "17da018f46df4564943b480f7bf3331d": {
      "model_module": "@jupyter-widgets/controls",
      "model_module_version": "2.0.0",
      "model_name": "ProgressStyleModel",
      "state": {
       "description_width": ""
      }
     },
     "17dc65438c224acd8eddd045c64a0620": {
      "model_module": "@jupyter-widgets/controls",
      "model_module_version": "2.0.0",
      "model_name": "HTMLModel",
      "state": {
       "layout": "IPY_MODEL_68e100834656476a9d114ad859cf7410",
       "style": "IPY_MODEL_967d43472ce14308a131dd03b49e3144",
       "value": " 227/227 [00:01&lt;00:00, 788.67it/s]"
      }
     },
     "17fa6a88c5534e6cb9aa7d82aeacfe88": {
      "model_module": "@jupyter-widgets/controls",
      "model_module_version": "2.0.0",
      "model_name": "HTMLStyleModel",
      "state": {
       "description_width": "",
       "font_size": null,
       "text_color": null
      }
     },
     "1839091de4d14c02b8a0bb8de5881f38": {
      "model_module": "@jupyter-widgets/controls",
      "model_module_version": "2.0.0",
      "model_name": "HTMLStyleModel",
      "state": {
       "description_width": "",
       "font_size": null,
       "text_color": null
      }
     },
     "184ddb7a0b9f481b8e09172cd84995d3": {
      "model_module": "@jupyter-widgets/controls",
      "model_module_version": "2.0.0",
      "model_name": "LabelModel",
      "state": {
       "layout": "IPY_MODEL_52f0fc9e31574c569cc5f456d06b4aae",
       "style": "IPY_MODEL_5362d05c028c44a99cae49cd48b762a5"
      }
     },
     "184fea20c88d4ff891e42e82eb6f18af": {
      "model_module": "@jupyter-widgets/controls",
      "model_module_version": "2.0.0",
      "model_name": "ProgressStyleModel",
      "state": {
       "description_width": ""
      }
     },
     "187783234df04022aa1b55717e0733e9": {
      "model_module": "@jupyter-widgets/base",
      "model_module_version": "2.0.0",
      "model_name": "LayoutModel",
      "state": {}
     },
     "18d02b76f32e415f82d04a43d10b64e5": {
      "model_module": "@jupyter-widgets/controls",
      "model_module_version": "2.0.0",
      "model_name": "HTMLStyleModel",
      "state": {
       "description_width": "",
       "font_size": null,
       "text_color": null
      }
     },
     "18d7378b842e4d12813458196c71d646": {
      "model_module": "@jupyter-widgets/controls",
      "model_module_version": "2.0.0",
      "model_name": "HTMLModel",
      "state": {
       "layout": "IPY_MODEL_7459a540941a42b9bbe7f0295a558389",
       "style": "IPY_MODEL_9c5bcf317e2a4862b241ee6a9dc4a377",
       "value": " 2210/2210 [00:01&lt;00:00, 2143.62it/s]"
      }
     },
     "18f1894657c04e1eacb2566e9d2a722c": {
      "model_module": "@jupyter-widgets/controls",
      "model_module_version": "2.0.0",
      "model_name": "HTMLModel",
      "state": {
       "layout": "IPY_MODEL_837eef0bccc144e49034af886f9e773b",
       "style": "IPY_MODEL_bae7376a0e164dbabaf45f92c9ad5476",
       "value": " 130k/130k [00:00&lt;00:00, 162kB/s]"
      }
     },
     "18f8fb7177014bc7802ace9cf4c3d2b2": {
      "model_module": "@jupyter-widgets/base",
      "model_module_version": "2.0.0",
      "model_name": "LayoutModel",
      "state": {}
     },
     "1919813084b14f5b9c9e8b414ec6083a": {
      "model_module": "@jupyter-widgets/controls",
      "model_module_version": "2.0.0",
      "model_name": "HTMLStyleModel",
      "state": {
       "description_width": "",
       "font_size": null,
       "text_color": null
      }
     },
     "19391ff9be414650a5e6e42b12d1d557": {
      "model_module": "@jupyter-widgets/base",
      "model_module_version": "2.0.0",
      "model_name": "LayoutModel",
      "state": {}
     },
     "194d21b515d447d492df7304bdec0742": {
      "model_module": "@jupyter-widgets/controls",
      "model_module_version": "2.0.0",
      "model_name": "HTMLModel",
      "state": {
       "layout": "IPY_MODEL_3f1c401fdbc0415d88545fef67236288",
       "style": "IPY_MODEL_e95751c0ad874c1ebe880f138b391233",
       "value": "100%"
      }
     },
     "19757b016b244f43ae19e0b9ae1667c8": {
      "model_module": "@jupyter-widgets/base",
      "model_module_version": "2.0.0",
      "model_name": "LayoutModel",
      "state": {}
     },
     "19c09ee6f7564530906d0b5e7cf05cb1": {
      "model_module": "@jupyter-widgets/controls",
      "model_module_version": "2.0.0",
      "model_name": "LabelStyleModel",
      "state": {
       "description_width": "",
       "font_family": null,
       "font_size": null,
       "font_style": null,
       "font_variant": null,
       "font_weight": null,
       "text_color": null,
       "text_decoration": null
      }
     },
     "19c9f79f3ffb488091b51726936364d5": {
      "model_module": "@jupyter-widgets/controls",
      "model_module_version": "2.0.0",
      "model_name": "HTMLModel",
      "state": {
       "layout": "IPY_MODEL_bf162de433f6490988e43f89bea3e20f",
       "style": "IPY_MODEL_cef501196dd341c581b4d1544f719bba",
       "value": " 230/230 [00:10&lt;00:00, 186.43it/s]"
      }
     },
     "19e572e062214651adee2529f22aaa0d": {
      "model_module": "@jupyter-widgets/base",
      "model_module_version": "2.0.0",
      "model_name": "LayoutModel",
      "state": {}
     },
     "1a1604362d0a44c8bb0ab1d9bdd160ff": {
      "model_module": "@jupyter-widgets/base",
      "model_module_version": "2.0.0",
      "model_name": "LayoutModel",
      "state": {}
     },
     "1a3a2f48fe7644f3b7463ac33a83be69": {
      "model_module": "@jupyter-widgets/controls",
      "model_module_version": "2.0.0",
      "model_name": "HTMLModel",
      "state": {
       "layout": "IPY_MODEL_940d3ee4edf84bc9bf0bd87f06fe437a",
       "style": "IPY_MODEL_b654ab4747e84ddb83c40896c4123304",
       "value": " 72/72 [00:02&lt;00:00, 29.80it/s]"
      }
     },
     "1a8a9885313d416ca51c7b0bf909b3cc": {
      "model_module": "@jupyter-widgets/controls",
      "model_module_version": "2.0.0",
      "model_name": "HBoxModel",
      "state": {
       "children": [
        "IPY_MODEL_dab91f9a814441469921d8b9ec3dfa71",
        "IPY_MODEL_4db98914f9bb4aa38fcde4a11735e664",
        "IPY_MODEL_07481086dcdf4d5ab89ed6428fe2fc40"
       ],
       "layout": "IPY_MODEL_d55bbf24c8434b8aa4a7d7b6a1f3de49"
      }
     },
     "1abd50c4eb994b1a9a11da918c6c4725": {
      "model_module": "@jupyter-widgets/controls",
      "model_module_version": "2.0.0",
      "model_name": "FloatProgressModel",
      "state": {
       "bar_style": "success",
       "layout": "IPY_MODEL_f78ff4a60bdd47489949f2f0b9623f1b",
       "max": 228,
       "style": "IPY_MODEL_141ee8cadaf34001bbb9f17654e01edd",
       "value": 228
      }
     },
     "1b12c1acb6154d29be45407400e5cf51": {
      "model_module": "@jupyter-widgets/controls",
      "model_module_version": "2.0.0",
      "model_name": "FloatProgressModel",
      "state": {
       "bar_style": "success",
       "layout": "IPY_MODEL_b5caf6b1dc8d453c985b9fc4047bc494",
       "max": 227,
       "style": "IPY_MODEL_264e00d8f14044d09415c3f38fec96fe",
       "value": 227
      }
     },
     "1b1985d0a20f40a2bbd6bdad2cfb8229": {
      "model_module": "@jupyter-widgets/controls",
      "model_module_version": "2.0.0",
      "model_name": "FloatProgressModel",
      "state": {
       "bar_style": "success",
       "layout": "IPY_MODEL_35071c6714a342b7b4fe31d1c3bc2124",
       "max": 227,
       "style": "IPY_MODEL_b4c2eccee86f47b8b8c2a63ca416d20d",
       "value": 227
      }
     },
     "1b286fc5248141a5a18ba637293ecacb": {
      "model_module": "@jupyter-widgets/controls",
      "model_module_version": "2.0.0",
      "model_name": "FloatProgressModel",
      "state": {
       "layout": "IPY_MODEL_d113049a87664cadb371a8ab218ffedc",
       "max": 1,
       "style": "IPY_MODEL_f5d35d306c5a499cb7000442e33f5191"
      }
     },
     "1b678d8a3b54486e93d1e853490f39eb": {
      "model_module": "@jupyter-widgets/controls",
      "model_module_version": "2.0.0",
      "model_name": "ProgressStyleModel",
      "state": {
       "description_width": ""
      }
     },
     "1b98690d09f14c4f8ccd6af8ab6f6041": {
      "model_module": "@jupyter-widgets/base",
      "model_module_version": "2.0.0",
      "model_name": "LayoutModel",
      "state": {}
     },
     "1ba6550b547f487a99deac0e0be319ab": {
      "model_module": "@jupyter-widgets/controls",
      "model_module_version": "2.0.0",
      "model_name": "LabelModel",
      "state": {
       "layout": "IPY_MODEL_8a1d0547d4a44155aadaf6fc0f192090",
       "style": "IPY_MODEL_d99d8045c95646fe84b47e06fe2cc9b5",
       "value": "0.033 MB of 0.033 MB uploaded (0.000 MB deduped)\r"
      }
     },
     "1bb7f812198f4ee69b11dae9290dca50": {
      "model_module": "@jupyter-widgets/controls",
      "model_module_version": "2.0.0",
      "model_name": "ProgressStyleModel",
      "state": {
       "description_width": ""
      }
     },
     "1bd08d2933984effa8d0497ca6f3f995": {
      "model_module": "@jupyter-widgets/controls",
      "model_module_version": "2.0.0",
      "model_name": "DescriptionStyleModel",
      "state": {
       "description_width": ""
      }
     },
     "1bda85d211df4e37b086dc83d1764696": {
      "model_module": "@jupyter-widgets/base",
      "model_module_version": "2.0.0",
      "model_name": "LayoutModel",
      "state": {}
     },
     "1bf5a3dd7e4e404e92d4e307f15f9f73": {
      "model_module": "@jupyter-widgets/controls",
      "model_module_version": "2.0.0",
      "model_name": "FloatProgressModel",
      "state": {
       "bar_style": "success",
       "layout": "IPY_MODEL_b969c3154f0046f2a5a6c0e3aba80a48",
       "max": 1786,
       "style": "IPY_MODEL_11ed373db13c4f0d9ed9903a05bdcffc",
       "value": 1786
      }
     },
     "1c1afe9822a24eb7bade6671f0c96692": {
      "model_module": "@jupyter-widgets/base",
      "model_module_version": "2.0.0",
      "model_name": "LayoutModel",
      "state": {}
     },
     "1c59bafcd1ca4f6e87ae119c89c52e49": {
      "model_module": "@jupyter-widgets/base",
      "model_module_version": "2.0.0",
      "model_name": "LayoutModel",
      "state": {}
     },
     "1c7a6017ab7b40a1a04bea7253e9df2a": {
      "model_module": "@jupyter-widgets/controls",
      "model_module_version": "2.0.0",
      "model_name": "HTMLStyleModel",
      "state": {
       "description_width": "",
       "font_size": null,
       "text_color": null
      }
     },
     "1c82e2f6742d4bbfb69a98ed2443fb37": {
      "model_module": "@jupyter-widgets/controls",
      "model_module_version": "2.0.0",
      "model_name": "HTMLModel",
      "state": {
       "layout": "IPY_MODEL_5db34c07e6ec467f96473be40e35650c",
       "style": "IPY_MODEL_f3311ce1ff244169835464b3611beadc",
       "value": "apply len_bytes to num_bytes: 100%"
      }
     },
     "1cadd9c05c0542969a569465291cbd44": {
      "model_module": "@jupyter-widgets/base",
      "model_module_version": "2.0.0",
      "model_name": "LayoutModel",
      "state": {}
     },
     "1ccdff055a6b4f8d9fc1cbe20076dc37": {
      "model_module": "@jupyter-widgets/controls",
      "model_module_version": "2.0.0",
      "model_name": "HTMLModel",
      "state": {
       "layout": "IPY_MODEL_9432ca7aa5234b92a08d09ec7487f4c6",
       "style": "IPY_MODEL_47fb6509b3304e639d04a33d35492178",
       "value": " 139/139 [00:04&lt;00:00, 34.00it/s]"
      }
     },
     "1cd0e9a48cf54a2d94cd434f6bd9be7a": {
      "model_module": "@jupyter-widgets/controls",
      "model_module_version": "2.0.0",
      "model_name": "HTMLModel",
      "state": {
       "layout": "IPY_MODEL_27e51c81578c4dd59ea8b70e80fb179e",
       "style": "IPY_MODEL_736d265f63124819a7f0a32035ea81cd",
       "value": "apply len_bytes to num_bytes: 100%"
      }
     },
     "1d099984bf894ec69bbf7bf54d63fd6c": {
      "model_module": "@jupyter-widgets/controls",
      "model_module_version": "2.0.0",
      "model_name": "HBoxModel",
      "state": {
       "children": [
        "IPY_MODEL_6c0e7500c4c54a5d86eb208296052db5",
        "IPY_MODEL_7555aef05f934d7a97ec99d902b1d8b4",
        "IPY_MODEL_53385cf8d4a845e3b1af5d93ca763b9f"
       ],
       "layout": "IPY_MODEL_537a2313bae243cf83e739b9fbadb359"
      }
     },
     "1d1ed82a3c8d4facaacde96422ad45e9": {
      "model_module": "@jupyter-widgets/controls",
      "model_module_version": "2.0.0",
      "model_name": "HTMLStyleModel",
      "state": {
       "description_width": "",
       "font_size": null,
       "text_color": null
      }
     },
     "1d79364b19ff4390b8a3987d9fcf7491": {
      "model_module": "@jupyter-widgets/controls",
      "model_module_version": "2.0.0",
      "model_name": "HBoxModel",
      "state": {
       "children": [
        "IPY_MODEL_b77f1ab362c84e4eb5767ab3faebcc05",
        "IPY_MODEL_3ff25d42f41e4fafa36626733bba9f5b",
        "IPY_MODEL_9717b36c305a43c09868f4472b6e7793"
       ],
       "layout": "IPY_MODEL_7af57920d7864b95a6021788bfa6e896"
      }
     },
     "1d8b944c5e63404e983e85acf39acb6f": {
      "model_module": "@jupyter-widgets/controls",
      "model_module_version": "2.0.0",
      "model_name": "LabelStyleModel",
      "state": {
       "description_width": "",
       "font_family": null,
       "font_size": null,
       "font_style": null,
       "font_variant": null,
       "font_weight": null,
       "text_color": null,
       "text_decoration": null
      }
     },
     "1da5ac26b6d8464999c08fe4d6f6b292": {
      "model_module": "@jupyter-widgets/base",
      "model_module_version": "2.0.0",
      "model_name": "LayoutModel",
      "state": {}
     },
     "1db08b7cdb0040e1a8956f4ccebeec40": {
      "model_module": "@jupyter-widgets/base",
      "model_module_version": "2.0.0",
      "model_name": "LayoutModel",
      "state": {}
     },
     "1dbeec57bfb44f4f8a14f399256a22e1": {
      "model_module": "@jupyter-widgets/controls",
      "model_module_version": "2.0.0",
      "model_name": "HBoxModel",
      "state": {
       "children": [
        "IPY_MODEL_62c2c63871b146bfa4625bfc266409cd",
        "IPY_MODEL_473e434bde464355afcd2becb0c65926",
        "IPY_MODEL_5c233046da6c4902be032505c12b4cd6"
       ],
       "layout": "IPY_MODEL_bf6d1f6c14624e108f34a6188d66cdb0"
      }
     },
     "1e27bfe1b6674043aa80bd837658beed": {
      "model_module": "@jupyter-widgets/controls",
      "model_module_version": "2.0.0",
      "model_name": "ProgressStyleModel",
      "state": {
       "description_width": ""
      }
     },
     "1e9b92becfa84b7097717b19f53665df": {
      "model_module": "@jupyter-widgets/base",
      "model_module_version": "2.0.0",
      "model_name": "LayoutModel",
      "state": {}
     },
     "1eaabd793c1843628253a893e6ef1c9e": {
      "model_module": "@jupyter-widgets/controls",
      "model_module_version": "2.0.0",
      "model_name": "HTMLModel",
      "state": {
       "layout": "IPY_MODEL_96fed84e19cd46c3a4108084d2f264fa",
       "style": "IPY_MODEL_6e9150db819847818085d18439643b69",
       "value": " 218/218 [00:00&lt;00:00, 952.90it/s]"
      }
     },
     "1ebd0aa3cc864fadb457f7367decee5a": {
      "model_module": "@jupyter-widgets/base",
      "model_module_version": "2.0.0",
      "model_name": "LayoutModel",
      "state": {}
     },
     "1ebd571e108a4fc6aae66429c6874d5b": {
      "model_module": "@jupyter-widgets/controls",
      "model_module_version": "2.0.0",
      "model_name": "ProgressStyleModel",
      "state": {
       "description_width": ""
      }
     },
     "1ef51ea60e9d4fb090908edf6623e404": {
      "model_module": "@jupyter-widgets/controls",
      "model_module_version": "2.0.0",
      "model_name": "FloatProgressModel",
      "state": {
       "layout": "IPY_MODEL_8e09a5fe087746efb76d8829109ea738",
       "max": 1,
       "style": "IPY_MODEL_b459099da831436d999a155231f1fffb",
       "value": 1
      }
     },
     "1efc1e9aae88468aaf7a41c5b7dd67be": {
      "model_module": "@jupyter-widgets/base",
      "model_module_version": "2.0.0",
      "model_name": "LayoutModel",
      "state": {}
     },
     "1f41984c90d144a39c58f0ffe3c34fd3": {
      "model_module": "@jupyter-widgets/controls",
      "model_module_version": "2.0.0",
      "model_name": "HBoxModel",
      "state": {
       "children": [
        "IPY_MODEL_67ea04ed1a824b61bffd40b068973b6c",
        "IPY_MODEL_d534079f61c643ee8c8876dffb947fff",
        "IPY_MODEL_09d71c94e2f34c55814f4bb269371e1e"
       ],
       "layout": "IPY_MODEL_1da5ac26b6d8464999c08fe4d6f6b292"
      }
     },
     "1f4caebef06e4680b81d93e79ca1a070": {
      "model_module": "@jupyter-widgets/base",
      "model_module_version": "2.0.0",
      "model_name": "LayoutModel",
      "state": {}
     },
     "1f5fd185a1c44c6583519fce47ad4ef0": {
      "model_module": "@jupyter-widgets/controls",
      "model_module_version": "2.0.0",
      "model_name": "VBoxModel",
      "state": {
       "children": [
        "IPY_MODEL_f7e7cb0827114e4da7574ae661a5ce52",
        "IPY_MODEL_b8d62bb67e4748da9f81637693fe2076"
       ],
       "layout": "IPY_MODEL_ecf7f6a6762f4ab891ed4b6b68009a82"
      }
     },
     "1fb6ea9a93004c1ba3f09a305eea3607": {
      "model_module": "@jupyter-widgets/controls",
      "model_module_version": "2.0.0",
      "model_name": "HTMLModel",
      "state": {
       "layout": "IPY_MODEL_e89afd941c584809b4f8a120f935a490",
       "style": "IPY_MODEL_7b3a044116d64a4fbcc0c23e514865d5",
       "value": " 199/199 [00:00&lt;00:00, 674.20it/s]"
      }
     },
     "1fbd20a90568402ba3bd0c91c09492d4": {
      "model_module": "@jupyter-widgets/controls",
      "model_module_version": "2.0.0",
      "model_name": "ProgressStyleModel",
      "state": {
       "description_width": ""
      }
     },
     "20189e8dbbc04aa6a24c56c667b54d2b": {
      "model_module": "@jupyter-widgets/controls",
      "model_module_version": "2.0.0",
      "model_name": "HTMLModel",
      "state": {
       "layout": "IPY_MODEL_5e2045a5b3b24b7f916c0be014573fd5",
       "style": "IPY_MODEL_389e45568ecb414aa96d41d85a195b2d",
       "value": " 1106/1106 [00:00&lt;00:00, 2121.15it/s]"
      }
     },
     "207ccdf8d36d40599d9e0e178e9d7dc2": {
      "model_module": "@jupyter-widgets/base",
      "model_module_version": "2.0.0",
      "model_name": "LayoutModel",
      "state": {}
     },
     "20c02734ef1a4d069eb71c6345fbfba8": {
      "model_module": "@jupyter-widgets/base",
      "model_module_version": "2.0.0",
      "model_name": "LayoutModel",
      "state": {}
     },
     "20da29ddd970416d8dd4d9dfd9cc11d0": {
      "model_module": "@jupyter-widgets/base",
      "model_module_version": "2.0.0",
      "model_name": "LayoutModel",
      "state": {}
     },
     "20dbd7a5a705432c8a639fd72f29a8b8": {
      "model_module": "@jupyter-widgets/controls",
      "model_module_version": "2.0.0",
      "model_name": "HTMLStyleModel",
      "state": {
       "description_width": "",
       "font_size": null,
       "text_color": null
      }
     },
     "20e6a3cb5fa24b58bf9903354a085a33": {
      "model_module": "@jupyter-widgets/base",
      "model_module_version": "2.0.0",
      "model_name": "LayoutModel",
      "state": {}
     },
     "21108c9174084c2c931691cd735543b8": {
      "model_module": "@jupyter-widgets/controls",
      "model_module_version": "2.0.0",
      "model_name": "DescriptionStyleModel",
      "state": {
       "description_width": ""
      }
     },
     "213d1fb31809479989ced879cdde7dd7": {
      "model_module": "@jupyter-widgets/controls",
      "model_module_version": "2.0.0",
      "model_name": "FloatProgressModel",
      "state": {
       "bar_style": "success",
       "layout": "IPY_MODEL_0bb7234f0d014f7098e37db541fed2b7",
       "max": 222,
       "style": "IPY_MODEL_bd4112dad4de4b569761677b45bc440e",
       "value": 222
      }
     },
     "21518f3c5899480884ebcb05eeab658c": {
      "model_module": "@jupyter-widgets/base",
      "model_module_version": "2.0.0",
      "model_name": "LayoutModel",
      "state": {}
     },
     "216620365c884b2abbcc6f2f7da66323": {
      "model_module": "@jupyter-widgets/base",
      "model_module_version": "2.0.0",
      "model_name": "LayoutModel",
      "state": {}
     },
     "2186b0e71c8e40f390d6c06306bf0b45": {
      "model_module": "@jupyter-widgets/controls",
      "model_module_version": "2.0.0",
      "model_name": "HBoxModel",
      "state": {
       "children": [
        "IPY_MODEL_1707c91e627542b89e24e30277fa985a",
        "IPY_MODEL_c4691c80f25d4c3999430d5a0a9f54b0",
        "IPY_MODEL_ab6d622b74ed4aa5b9127331be814088"
       ],
       "layout": "IPY_MODEL_720048d99b704e0d820e1d3253841ae7"
      }
     },
     "21920d9d11c4480898e99a8495230ab0": {
      "model_module": "@jupyter-widgets/controls",
      "model_module_version": "2.0.0",
      "model_name": "ProgressStyleModel",
      "state": {
       "description_width": ""
      }
     },
     "21b71543d626481fbb3aa579668ad663": {
      "model_module": "@jupyter-widgets/controls",
      "model_module_version": "2.0.0",
      "model_name": "ProgressStyleModel",
      "state": {
       "description_width": ""
      }
     },
     "21be480cb6d8428cacffc9b55ff86f59": {
      "model_module": "@jupyter-widgets/base",
      "model_module_version": "2.0.0",
      "model_name": "LayoutModel",
      "state": {}
     },
     "21e4ae1e2cc24dfa8ad387db621a8748": {
      "model_module": "@jupyter-widgets/controls",
      "model_module_version": "2.0.0",
      "model_name": "FloatProgressModel",
      "state": {
       "bar_style": "success",
       "layout": "IPY_MODEL_1e9b92becfa84b7097717b19f53665df",
       "max": 1106,
       "style": "IPY_MODEL_beb59ee19aea454baa2a0c37539341eb",
       "value": 1106
      }
     },
     "2209ef45cb07417eb2555dc035777ee2": {
      "model_module": "@jupyter-widgets/controls",
      "model_module_version": "2.0.0",
      "model_name": "HTMLModel",
      "state": {
       "layout": "IPY_MODEL_ea4ec09c75fd4934b8ee9773e37b67ec",
       "style": "IPY_MODEL_f8a266c560364d8bb12e34491a46d5aa",
       "value": " 0/2 [00:13&lt;?, ?it/s]"
      }
     },
     "223bc43964664fa085c9a306ab60ceff": {
      "model_module": "@jupyter-widgets/base",
      "model_module_version": "2.0.0",
      "model_name": "LayoutModel",
      "state": {}
     },
     "2255d0203e7342b5832aebc29cebe41e": {
      "model_module": "@jupyter-widgets/controls",
      "model_module_version": "2.0.0",
      "model_name": "HTMLModel",
      "state": {
       "layout": "IPY_MODEL_bad097795e574394a86d93253c5a6ce1",
       "style": "IPY_MODEL_25af191c7f174b1590aa730ad8bdbda1",
       "value": " 222/222 [00:00&lt;00:00, 1023.08it/s]"
      }
     },
     "226d93f98fa1498189f436ed1efc585b": {
      "model_module": "@jupyter-widgets/controls",
      "model_module_version": "2.0.0",
      "model_name": "ProgressStyleModel",
      "state": {
       "description_width": ""
      }
     },
     "228e10da69964c8cbd40fad388cfc9ff": {
      "model_module": "@jupyter-widgets/controls",
      "model_module_version": "2.0.0",
      "model_name": "HTMLModel",
      "state": {
       "layout": "IPY_MODEL_38debac366c04ea3b755346420c82c47",
       "style": "IPY_MODEL_dea54779c27740c2bb119e48cce18787",
       "value": "Epochs 1/2. Running Loss:    0.4336: 100%"
      }
     },
     "229e3dc739ee422aa134eb372ae95709": {
      "model_module": "@jupyter-widgets/controls",
      "model_module_version": "2.0.0",
      "model_name": "ProgressStyleModel",
      "state": {
       "description_width": ""
      }
     },
     "22e108face414dcebe61e54dfdb77f65": {
      "model_module": "@jupyter-widgets/controls",
      "model_module_version": "2.0.0",
      "model_name": "ProgressStyleModel",
      "state": {
       "description_width": ""
      }
     },
     "22f8bfe699a84c1f9a557a22e392bd46": {
      "model_module": "@jupyter-widgets/base",
      "model_module_version": "2.0.0",
      "model_name": "LayoutModel",
      "state": {}
     },
     "232d2b82aecf4704ab55ae0213e5b80b": {
      "model_module": "@jupyter-widgets/base",
      "model_module_version": "2.0.0",
      "model_name": "LayoutModel",
      "state": {}
     },
     "239182b5229a4a10af129f6148c398a1": {
      "model_module": "@jupyter-widgets/controls",
      "model_module_version": "2.0.0",
      "model_name": "HTMLStyleModel",
      "state": {
       "description_width": "",
       "font_size": null,
       "text_color": null
      }
     },
     "23a3a396ed1e42f595ce1fa38a072f62": {
      "model_module": "@jupyter-widgets/controls",
      "model_module_version": "2.0.0",
      "model_name": "HTMLStyleModel",
      "state": {
       "description_width": "",
       "font_size": null,
       "text_color": null
      }
     },
     "23a6ec3839c6410faab694c57268d518": {
      "model_module": "@jupyter-widgets/controls",
      "model_module_version": "2.0.0",
      "model_name": "LabelStyleModel",
      "state": {
       "description_width": "",
       "font_family": null,
       "font_size": null,
       "font_style": null,
       "font_variant": null,
       "font_weight": null,
       "text_color": null,
       "text_decoration": null
      }
     },
     "23cbf0af126940049eebe86441b82f88": {
      "model_module": "@jupyter-widgets/controls",
      "model_module_version": "2.0.0",
      "model_name": "HTMLModel",
      "state": {
       "layout": "IPY_MODEL_f5a24a0f0ae147cd8920411688818b34",
       "style": "IPY_MODEL_a550dde693e94563aa29d628d288fb0f",
       "value": "Epochs 1/2. Running Loss:    0.6178: 100%"
      }
     },
     "23f3442777d54e59b2a31a186cb8fb0f": {
      "model_module": "@jupyter-widgets/controls",
      "model_module_version": "2.0.0",
      "model_name": "FloatProgressModel",
      "state": {
       "layout": "IPY_MODEL_f18c981333d44fd7a11aa1070aba9f31",
       "max": 1,
       "style": "IPY_MODEL_9640cff24b3745d292b10f8cb0fb4326"
      }
     },
     "2410357b89134ebea04b41006209f46a": {
      "model_module": "@jupyter-widgets/base",
      "model_module_version": "2.0.0",
      "model_name": "LayoutModel",
      "state": {}
     },
     "2424108e012641c3934a479b2744e60b": {
      "model_module": "@jupyter-widgets/base",
      "model_module_version": "2.0.0",
      "model_name": "LayoutModel",
      "state": {}
     },
     "2430c18c9a4949a48c13757ae6f97f5e": {
      "model_module": "@jupyter-widgets/base",
      "model_module_version": "2.0.0",
      "model_name": "LayoutModel",
      "state": {}
     },
     "2432e2d65dc94e7dabcb3a0cd87f382d": {
      "model_module": "@jupyter-widgets/controls",
      "model_module_version": "2.0.0",
      "model_name": "FloatProgressModel",
      "state": {
       "bar_style": "success",
       "layout": "IPY_MODEL_ca163356e08a48788eba406e06060e80",
       "max": 228,
       "style": "IPY_MODEL_add3f4956bcd411591a30eefdbbe394b",
       "value": 228
      }
     },
     "24634c4730c047a8bd09b5f7da96cb85": {
      "model_module": "@jupyter-widgets/base",
      "model_module_version": "2.0.0",
      "model_name": "LayoutModel",
      "state": {}
     },
     "2468786f781546e0a3545efe30a8811f": {
      "model_module": "@jupyter-widgets/controls",
      "model_module_version": "2.0.0",
      "model_name": "FloatProgressModel",
      "state": {
       "layout": "IPY_MODEL_665b07314b6749779bf767666b684b91",
       "max": 1,
       "style": "IPY_MODEL_dc50a597a091468a8e5f6f3710eed336",
       "value": 1
      }
     },
     "247d944161c04250ae419f3f3e3e77bc": {
      "model_module": "@jupyter-widgets/controls",
      "model_module_version": "2.0.0",
      "model_name": "DescriptionStyleModel",
      "state": {
       "description_width": ""
      }
     },
     "24919a19957541d882022d514b850f6e": {
      "model_module": "@jupyter-widgets/controls",
      "model_module_version": "2.0.0",
      "model_name": "FloatProgressModel",
      "state": {
       "bar_style": "success",
       "layout": "IPY_MODEL_cc2aced6846a4156bccda79472391a66",
       "max": 228,
       "style": "IPY_MODEL_87f679591c144d60b2b98ce545b50fc3",
       "value": 228
      }
     },
     "24a9d8ef0706471885d5a6209b90e31d": {
      "model_module": "@jupyter-widgets/base",
      "model_module_version": "2.0.0",
      "model_name": "LayoutModel",
      "state": {}
     },
     "24abed6d21014b5c8c5391f54074c879": {
      "model_module": "@jupyter-widgets/base",
      "model_module_version": "2.0.0",
      "model_name": "LayoutModel",
      "state": {}
     },
     "24cf2abb5f774849ba077c6c2efe259c": {
      "model_module": "@jupyter-widgets/controls",
      "model_module_version": "2.0.0",
      "model_name": "DescriptionStyleModel",
      "state": {
       "description_width": ""
      }
     },
     "24d5cfddef1c4b5d9dcf1ebe5f4db187": {
      "model_module": "@jupyter-widgets/controls",
      "model_module_version": "2.0.0",
      "model_name": "HTMLStyleModel",
      "state": {
       "description_width": "",
       "font_size": null,
       "text_color": null
      }
     },
     "250ebb50c7774f46aba6ceaffec062b4": {
      "model_module": "@jupyter-widgets/base",
      "model_module_version": "2.0.0",
      "model_name": "LayoutModel",
      "state": {}
     },
     "252381457bda45daaee90a9ade6b1fa8": {
      "model_module": "@jupyter-widgets/controls",
      "model_module_version": "2.0.0",
      "model_name": "HTMLModel",
      "state": {
       "layout": "IPY_MODEL_6c3c87a3f8bc493680957a1b6ee1139a",
       "style": "IPY_MODEL_e17880e6003146ba9a07db012d7aacb2",
       "value": "Epochs 0/2. Running Loss:    0.2245: 100%"
      }
     },
     "2528c6db98c04f19938d444aabe78b06": {
      "model_module": "@jupyter-widgets/controls",
      "model_module_version": "2.0.0",
      "model_name": "ProgressStyleModel",
      "state": {
       "description_width": ""
      }
     },
     "2530b9b58fda4bfcb047371e0da4bb8d": {
      "model_module": "@jupyter-widgets/base",
      "model_module_version": "2.0.0",
      "model_name": "LayoutModel",
      "state": {}
     },
     "253d141d9cd440dab0ac168028540c22": {
      "model_module": "@jupyter-widgets/base",
      "model_module_version": "2.0.0",
      "model_name": "LayoutModel",
      "state": {}
     },
     "253dbf5dc5ea4058b07f497dac4396e5": {
      "model_module": "@jupyter-widgets/base",
      "model_module_version": "2.0.0",
      "model_name": "LayoutModel",
      "state": {}
     },
     "254a6b0c594e4cf7827aa7d9c420308e": {
      "model_module": "@jupyter-widgets/controls",
      "model_module_version": "2.0.0",
      "model_name": "FloatProgressModel",
      "state": {
       "bar_style": "success",
       "layout": "IPY_MODEL_0a52f6a8bb1247318d9182b5b52f829c",
       "max": 1106,
       "style": "IPY_MODEL_65adce9be72b441da1a81c2623838c5c",
       "value": 1106
      }
     },
     "2551342c6f0949da96568e10d2a44adb": {
      "model_module": "@jupyter-widgets/base",
      "model_module_version": "2.0.0",
      "model_name": "LayoutModel",
      "state": {}
     },
     "258ada7f3f764953be210ffc7a571155": {
      "model_module": "@jupyter-widgets/controls",
      "model_module_version": "2.0.0",
      "model_name": "ProgressStyleModel",
      "state": {
       "description_width": ""
      }
     },
     "25a04cc12f3e4cf69a5edc200eff1370": {
      "model_module": "@jupyter-widgets/controls",
      "model_module_version": "2.0.0",
      "model_name": "HTMLStyleModel",
      "state": {
       "description_width": "",
       "font_size": null,
       "text_color": null
      }
     },
     "25af191c7f174b1590aa730ad8bdbda1": {
      "model_module": "@jupyter-widgets/controls",
      "model_module_version": "2.0.0",
      "model_name": "HTMLStyleModel",
      "state": {
       "description_width": "",
       "font_size": null,
       "text_color": null
      }
     },
     "25e684cbd5384f29930f53fd2df8f3ef": {
      "model_module": "@jupyter-widgets/base",
      "model_module_version": "2.0.0",
      "model_name": "LayoutModel",
      "state": {}
     },
     "260db4094881418b8adaa7f06af9e4a7": {
      "model_module": "@jupyter-widgets/controls",
      "model_module_version": "2.0.0",
      "model_name": "HBoxModel",
      "state": {
       "children": [
        "IPY_MODEL_0684338c985b4217a8fd1e87a2d2f63b",
        "IPY_MODEL_e13d162407b24af997784d2f3c1d4cf7",
        "IPY_MODEL_a75f365bef604a89b9f175960637bc13"
       ],
       "layout": "IPY_MODEL_c82f3eb9ce5f4384ab1f72a0b2ded31c"
      }
     },
     "26397ce1db9f46b3a7f53ec8add4992f": {
      "model_module": "@jupyter-widgets/base",
      "model_module_version": "2.0.0",
      "model_name": "LayoutModel",
      "state": {}
     },
     "264e00d8f14044d09415c3f38fec96fe": {
      "model_module": "@jupyter-widgets/controls",
      "model_module_version": "2.0.0",
      "model_name": "ProgressStyleModel",
      "state": {
       "description_width": ""
      }
     },
     "26632924ade44d859bd8a5f396e6d669": {
      "model_module": "@jupyter-widgets/base",
      "model_module_version": "2.0.0",
      "model_name": "LayoutModel",
      "state": {}
     },
     "2680d50d9bf0482fb7b629c083ce2bb5": {
      "model_module": "@jupyter-widgets/controls",
      "model_module_version": "2.0.0",
      "model_name": "HTMLStyleModel",
      "state": {
       "description_width": "",
       "font_size": null,
       "text_color": null
      }
     },
     "2693a6a954a44b18b6a757e1c162971c": {
      "model_module": "@jupyter-widgets/base",
      "model_module_version": "2.0.0",
      "model_name": "LayoutModel",
      "state": {}
     },
     "26a5e232776d45e5a17e93559071d3ab": {
      "model_module": "@jupyter-widgets/base",
      "model_module_version": "2.0.0",
      "model_name": "LayoutModel",
      "state": {}
     },
     "271dd949dc2a4bcb9284e81ce0eaa026": {
      "model_module": "@jupyter-widgets/controls",
      "model_module_version": "2.0.0",
      "model_name": "ProgressStyleModel",
      "state": {
       "description_width": ""
      }
     },
     "2754cd4bfce543a196344024d6f34fac": {
      "model_module": "@jupyter-widgets/base",
      "model_module_version": "2.0.0",
      "model_name": "LayoutModel",
      "state": {}
     },
     "2758affd9d2243349c1728f7513b7602": {
      "model_module": "@jupyter-widgets/controls",
      "model_module_version": "2.0.0",
      "model_name": "FloatProgressModel",
      "state": {
       "bar_style": "success",
       "layout": "IPY_MODEL_36e4e24553a7496c9a4326426b226aeb",
       "max": 230,
       "style": "IPY_MODEL_a40f081922d340a180c497400066c2e3",
       "value": 230
      }
     },
     "275e3a64f7194bc1815012a3a706cb7e": {
      "model_module": "@jupyter-widgets/base",
      "model_module_version": "2.0.0",
      "model_name": "LayoutModel",
      "state": {}
     },
     "2760cc093d3143098bbc71262f6b84d0": {
      "model_module": "@jupyter-widgets/controls",
      "model_module_version": "2.0.0",
      "model_name": "HTMLStyleModel",
      "state": {
       "description_width": "",
       "font_size": null,
       "text_color": null
      }
     },
     "276b9d5b26b54d3881b5352b7a3ac63a": {
      "model_module": "@jupyter-widgets/controls",
      "model_module_version": "2.0.0",
      "model_name": "ProgressStyleModel",
      "state": {
       "description_width": ""
      }
     },
     "27e51c81578c4dd59ea8b70e80fb179e": {
      "model_module": "@jupyter-widgets/base",
      "model_module_version": "2.0.0",
      "model_name": "LayoutModel",
      "state": {}
     },
     "27e938bd5526441994f34a8a8b0ca1be": {
      "model_module": "@jupyter-widgets/controls",
      "model_module_version": "2.0.0",
      "model_name": "LabelModel",
      "state": {
       "layout": "IPY_MODEL_c6dcd5db17a049de82f942aead8341f6",
       "style": "IPY_MODEL_3d885f5f95b34476a50cb5bbbd7cc113",
       "value": "0.037 MB of 0.037 MB uploaded (0.000 MB deduped)\r"
      }
     },
     "27fd3661f5be4b3c83a7f1415a39745e": {
      "model_module": "@jupyter-widgets/controls",
      "model_module_version": "2.0.0",
      "model_name": "FloatProgressModel",
      "state": {
       "bar_style": "success",
       "layout": "IPY_MODEL_9599756d2fdc4f019ac006b363e39cb0",
       "max": 222,
       "style": "IPY_MODEL_0de6f5ee455846a3bdd1eb06c83e0c5b",
       "value": 222
      }
     },
     "27fda186f434438aa0d4ed629d57100a": {
      "model_module": "@jupyter-widgets/base",
      "model_module_version": "2.0.0",
      "model_name": "LayoutModel",
      "state": {}
     },
     "282638b451cc44d68d7246098d60ba88": {
      "model_module": "@jupyter-widgets/controls",
      "model_module_version": "2.0.0",
      "model_name": "FloatProgressModel",
      "state": {
       "bar_style": "success",
       "layout": "IPY_MODEL_f127641aafe3468fb5dee42835d39482",
       "max": 71,
       "style": "IPY_MODEL_335dadce5e804861b9073b16331069e8",
       "value": 71
      }
     },
     "28504571109b470992d38881ff422c9f": {
      "model_module": "@jupyter-widgets/controls",
      "model_module_version": "2.0.0",
      "model_name": "HTMLModel",
      "state": {
       "layout": "IPY_MODEL_4966ac9e608242cf86b705ab7b68ebf7",
       "style": "IPY_MODEL_addfbdc58be54827ad4dfbb0ff402a82",
       "value": "Downloading: 100%"
      }
     },
     "285fed258ee2450cafe92a5225267feb": {
      "model_module": "@jupyter-widgets/base",
      "model_module_version": "2.0.0",
      "model_name": "LayoutModel",
      "state": {}
     },
     "288383e6476b4d708703f49b2a9c33b4": {
      "model_module": "@jupyter-widgets/controls",
      "model_module_version": "2.0.0",
      "model_name": "HBoxModel",
      "state": {
       "children": [
        "IPY_MODEL_047a5705e6b24ba8a3181462414c7624",
        "IPY_MODEL_2d2295327ea74a89bd294dc0e0507be9",
        "IPY_MODEL_6f4c81dd3ebf495a8aa5c3e42a1551a8"
       ],
       "layout": "IPY_MODEL_9e3b6138140f4ee2bdc89200fdccd811"
      }
     },
     "28942f440faf497d82c815a224a57431": {
      "model_module": "@jupyter-widgets/base",
      "model_module_version": "2.0.0",
      "model_name": "LayoutModel",
      "state": {}
     },
     "28a8bfe94a5a4aa0990ff1db81838608": {
      "model_module": "@jupyter-widgets/controls",
      "model_module_version": "2.0.0",
      "model_name": "HTMLStyleModel",
      "state": {
       "description_width": "",
       "font_size": null,
       "text_color": null
      }
     },
     "28c5a85e136f48f1952b14344e5a34f8": {
      "model_module": "@jupyter-widgets/controls",
      "model_module_version": "2.0.0",
      "model_name": "HTMLStyleModel",
      "state": {
       "description_width": "",
       "font_size": null,
       "text_color": null
      }
     },
     "28c698f9045a4b95ac452a57c8fb8b92": {
      "model_module": "@jupyter-widgets/base",
      "model_module_version": "2.0.0",
      "model_name": "LayoutModel",
      "state": {}
     },
     "28ed6be417c047428b2722f94b3c0709": {
      "model_module": "@jupyter-widgets/controls",
      "model_module_version": "2.0.0",
      "model_name": "LabelModel",
      "state": {
       "layout": "IPY_MODEL_ecda8ebe188c42b290ada1e1d93bf2f0",
       "style": "IPY_MODEL_c6858f3fef194e20b2ac14074b18b887",
       "value": "0.033 MB of 0.033 MB uploaded (0.000 MB deduped)\r"
      }
     },
     "2919bf8e695b462ba0ec20a70debc067": {
      "model_module": "@jupyter-widgets/base",
      "model_module_version": "2.0.0",
      "model_name": "LayoutModel",
      "state": {}
     },
     "2924098d88424ae69811c822d37942ee": {
      "model_module": "@jupyter-widgets/base",
      "model_module_version": "2.0.0",
      "model_name": "LayoutModel",
      "state": {}
     },
     "29568ceeae5a4c35954174c6841a9767": {
      "model_module": "@jupyter-widgets/controls",
      "model_module_version": "2.0.0",
      "model_name": "HTMLModel",
      "state": {
       "layout": "IPY_MODEL_2b9ad8b1635742098cfc68f22bc453b9",
       "style": "IPY_MODEL_d458861a068e4cbd9d9e93b8d25a96ec",
       "value": " 2/2 [01:26&lt;00:00, 42.09s/it]"
      }
     },
     "29959d677527471281fe848790fa0040": {
      "model_module": "@jupyter-widgets/base",
      "model_module_version": "2.0.0",
      "model_name": "LayoutModel",
      "state": {}
     },
     "29997c15a04c47698f7cacca0408ad51": {
      "model_module": "@jupyter-widgets/controls",
      "model_module_version": "2.0.0",
      "model_name": "LabelStyleModel",
      "state": {
       "description_width": "",
       "font_family": null,
       "font_size": null,
       "font_style": null,
       "font_variant": null,
       "font_weight": null,
       "text_color": null,
       "text_decoration": null
      }
     },
     "29c645b551bf4075a43c7a8556bcda8a": {
      "model_module": "@jupyter-widgets/base",
      "model_module_version": "2.0.0",
      "model_name": "LayoutModel",
      "state": {}
     },
     "29fd3a610b09437486e2bbdcca8d1c0f": {
      "model_module": "@jupyter-widgets/controls",
      "model_module_version": "2.0.0",
      "model_name": "HTMLModel",
      "state": {
       "layout": "IPY_MODEL_7459dba5931b4446bfbc1b63aef9fe88",
       "style": "IPY_MODEL_6c80a30a21f342178b11058b38aaab0b",
       "value": " 1.92k/1.92k [00:00&lt;00:00, 59.0kB/s]"
      }
     },
     "2a72426cf4034912864f25f04315e7be": {
      "model_module": "@jupyter-widgets/base",
      "model_module_version": "2.0.0",
      "model_name": "LayoutModel",
      "state": {}
     },
     "2a9197f6d69a40dfbd13bc545962bb10": {
      "model_module": "@jupyter-widgets/controls",
      "model_module_version": "2.0.0",
      "model_name": "HTMLModel",
      "state": {
       "layout": "IPY_MODEL_56b29994fb644838b65aef857a9672cf",
       "style": "IPY_MODEL_60c06e81def94293a9b19efd25490f61",
       "value": "Downloading tokenizer_config.json: 100%"
      }
     },
     "2a9a1cf245214f7a994c721340284f49": {
      "model_module": "@jupyter-widgets/controls",
      "model_module_version": "2.0.0",
      "model_name": "FloatProgressModel",
      "state": {
       "bar_style": "success",
       "layout": "IPY_MODEL_df3901a2705f428ea1b5119d43bd2a2c",
       "max": 227,
       "style": "IPY_MODEL_dbd798ae664d4774ae217c7d6f700b08",
       "value": 227
      }
     },
     "2aab9d2e5e154edea628adfd1a0e5ec0": {
      "model_module": "@jupyter-widgets/base",
      "model_module_version": "2.0.0",
      "model_name": "LayoutModel",
      "state": {}
     },
     "2aba2a84b95e41a58ae5a4cb0e57af3f": {
      "model_module": "@jupyter-widgets/controls",
      "model_module_version": "2.0.0",
      "model_name": "HTMLModel",
      "state": {
       "layout": "IPY_MODEL_5547117826fc456a9d706432db7fea0c",
       "style": "IPY_MODEL_15de745cfadc4ff7bad35586bc6c73a3",
       "value": "Epoch 2 of 2: 100%"
      }
     },
     "2abb44e35f074346a895ac7cead57af2": {
      "model_module": "@jupyter-widgets/base",
      "model_module_version": "2.0.0",
      "model_name": "LayoutModel",
      "state": {}
     },
     "2abc0da7c9b0410f8cb2d1b7c00632d3": {
      "model_module": "@jupyter-widgets/controls",
      "model_module_version": "2.0.0",
      "model_name": "FloatProgressModel",
      "state": {
       "bar_style": "success",
       "layout": "IPY_MODEL_2f3e3997613448739ab9e6f485942da5",
       "max": 228,
       "style": "IPY_MODEL_478746f02f974cad852533a3e2c3e45c",
       "value": 228
      }
     },
     "2b02b49880f242d884cad8720f64da07": {
      "model_module": "@jupyter-widgets/base",
      "model_module_version": "2.0.0",
      "model_name": "LayoutModel",
      "state": {}
     },
     "2b21ab9016094445931805cb16ff6a8a": {
      "model_module": "@jupyter-widgets/base",
      "model_module_version": "2.0.0",
      "model_name": "LayoutModel",
      "state": {}
     },
     "2b40235e7a4340d7babd6b46f86f4014": {
      "model_module": "@jupyter-widgets/controls",
      "model_module_version": "2.0.0",
      "model_name": "LabelStyleModel",
      "state": {
       "description_width": "",
       "font_family": null,
       "font_size": null,
       "font_style": null,
       "font_variant": null,
       "font_weight": null,
       "text_color": null,
       "text_decoration": null
      }
     },
     "2b467dc4eb7b4f988616854fb74e4622": {
      "model_module": "@jupyter-widgets/controls",
      "model_module_version": "2.0.0",
      "model_name": "HTMLStyleModel",
      "state": {
       "description_width": "",
       "font_size": null,
       "text_color": null
      }
     },
     "2b57e84cadec434d83ed4906ad1f8a67": {
      "model_module": "@jupyter-widgets/controls",
      "model_module_version": "2.0.0",
      "model_name": "HTMLStyleModel",
      "state": {
       "description_width": "",
       "font_size": null,
       "text_color": null
      }
     },
     "2b59f52e33bf466fb53314106f047c7f": {
      "model_module": "@jupyter-widgets/controls",
      "model_module_version": "2.0.0",
      "model_name": "FloatProgressModel",
      "state": {
       "bar_style": "success",
       "layout": "IPY_MODEL_72203232ffc04960be61d6cc33cfdde2",
       "max": 2210,
       "style": "IPY_MODEL_9b5ab922e20e4b9798f39a75faffa982",
       "value": 2210
      }
     },
     "2b6758e1d6b24dfeaa84601d011fcb0e": {
      "model_module": "@jupyter-widgets/controls",
      "model_module_version": "2.0.0",
      "model_name": "ProgressStyleModel",
      "state": {
       "description_width": ""
      }
     },
     "2b6e216dcc1849e8b14de6434cbc0b86": {
      "model_module": "@jupyter-widgets/controls",
      "model_module_version": "2.0.0",
      "model_name": "HTMLModel",
      "state": {
       "layout": "IPY_MODEL_47a5047e624141d98bba627292a2a59f",
       "style": "IPY_MODEL_7bddecb8d662449bad56851254638545",
       "value": "apply len_bytes to num_bytes: 100%"
      }
     },
     "2b82f0117ba643c2a7b6b0d3c9cabab7": {
      "model_module": "@jupyter-widgets/controls",
      "model_module_version": "2.0.0",
      "model_name": "HTMLModel",
      "state": {
       "layout": "IPY_MODEL_2754cd4bfce543a196344024d6f34fac",
       "style": "IPY_MODEL_2da41ab756e94a828ed9eb4533627f94",
       "value": " 599/599 [00:00&lt;00:00, 36.1kB/s]"
      }
     },
     "2b9ad8b1635742098cfc68f22bc453b9": {
      "model_module": "@jupyter-widgets/base",
      "model_module_version": "2.0.0",
      "model_name": "LayoutModel",
      "state": {}
     },
     "2bbebd9926454e6f816db6e88f55ecac": {
      "model_module": "@jupyter-widgets/controls",
      "model_module_version": "2.0.0",
      "model_name": "HTMLModel",
      "state": {
       "layout": "IPY_MODEL_24634c4730c047a8bd09b5f7da96cb85",
       "style": "IPY_MODEL_ee7e24d762394a96a521f67340130c10",
       "value": "Epochs 0/2. Running Loss:    1.4919:  34%"
      }
     },
     "2bd472c9fe9446f2ad989ad4f313d3c4": {
      "model_module": "@jupyter-widgets/controls",
      "model_module_version": "2.0.0",
      "model_name": "ProgressStyleModel",
      "state": {
       "description_width": ""
      }
     },
     "2be53b0c09f149aea6fcd156d6ec3e94": {
      "model_module": "@jupyter-widgets/base",
      "model_module_version": "2.0.0",
      "model_name": "LayoutModel",
      "state": {}
     },
     "2beec630f8ab48acaaa2a591acef25a1": {
      "model_module": "@jupyter-widgets/controls",
      "model_module_version": "2.0.0",
      "model_name": "LabelStyleModel",
      "state": {
       "description_width": "",
       "font_family": null,
       "font_size": null,
       "font_style": null,
       "font_variant": null,
       "font_weight": null,
       "text_color": null,
       "text_decoration": null
      }
     },
     "2c8624de880a4139b3bd824d778971b5": {
      "model_module": "@jupyter-widgets/controls",
      "model_module_version": "2.0.0",
      "model_name": "HTMLModel",
      "state": {
       "layout": "IPY_MODEL_108109c4947248e08fe655995d9c3a6c",
       "style": "IPY_MODEL_992b43b1c275453f92460b6031dda400",
       "value": "apply len_bytes to num_bytes: 100%"
      }
     },
     "2ca7b5ed24f644caa18be317f1406fc4": {
      "model_module": "@jupyter-widgets/controls",
      "model_module_version": "2.0.0",
      "model_name": "HBoxModel",
      "state": {
       "children": [
        "IPY_MODEL_1237296f8bd041feb17a8333ba56041f",
        "IPY_MODEL_4d87964682eb43c984965c576f18b70d",
        "IPY_MODEL_a49f5a221bc747999e1a2d101a5fb946"
       ],
       "layout": "IPY_MODEL_b3955acb464f48d792d621a762dc3f77"
      }
     },
     "2cc04512cc9f40999aaacd5b78c2db36": {
      "model_module": "@jupyter-widgets/controls",
      "model_module_version": "2.0.0",
      "model_name": "HTMLStyleModel",
      "state": {
       "description_width": "",
       "font_size": null,
       "text_color": null
      }
     },
     "2cde5df493304d09a0aa8b3d26f1f3c3": {
      "model_module": "@jupyter-widgets/base",
      "model_module_version": "2.0.0",
      "model_name": "LayoutModel",
      "state": {}
     },
     "2ce5107ad570486fbac01fab2b6e8b19": {
      "model_module": "@jupyter-widgets/controls",
      "model_module_version": "2.0.0",
      "model_name": "FloatProgressModel",
      "state": {
       "layout": "IPY_MODEL_5caf51f4a98a45a8ade76d9dcfc08c34",
       "max": 1,
       "style": "IPY_MODEL_0c9d35fb560d466cb6833058484bef88"
      }
     },
     "2d09c1fafc82404299edc0bf8e5b2fa9": {
      "model_module": "@jupyter-widgets/controls",
      "model_module_version": "2.0.0",
      "model_name": "ProgressStyleModel",
      "state": {
       "description_width": ""
      }
     },
     "2d0a510f91544b7faf41178f4fdf629e": {
      "model_module": "@jupyter-widgets/controls",
      "model_module_version": "2.0.0",
      "model_name": "HTMLModel",
      "state": {
       "layout": "IPY_MODEL_721bbbb1796b49a8a5108700551ac2e3",
       "style": "IPY_MODEL_2e40fa1f6f644ea2b3813d48dfed5217",
       "value": " 120000/120000 [00:02&lt;00:00, 43934.13 examples/s]"
      }
     },
     "2d179d0eb9f24657ad1492d7ee80068e": {
      "model_module": "@jupyter-widgets/base",
      "model_module_version": "2.0.0",
      "model_name": "LayoutModel",
      "state": {}
     },
     "2d1a6ac9947744c791205a9819d28439": {
      "model_module": "@jupyter-widgets/base",
      "model_module_version": "2.0.0",
      "model_name": "LayoutModel",
      "state": {}
     },
     "2d2295327ea74a89bd294dc0e0507be9": {
      "model_module": "@jupyter-widgets/controls",
      "model_module_version": "2.0.0",
      "model_name": "FloatProgressModel",
      "state": {
       "bar_style": "success",
       "layout": "IPY_MODEL_4e5fd10d893c4337b803d8c00f6ca357",
       "max": 1831,
       "style": "IPY_MODEL_2d09c1fafc82404299edc0bf8e5b2fa9",
       "value": 1831
      }
     },
     "2d3325a2d28d44bfaf15347e5e4c3a7e": {
      "model_module": "@jupyter-widgets/controls",
      "model_module_version": "2.0.0",
      "model_name": "HTMLModel",
      "state": {
       "layout": "IPY_MODEL_804ef22d0f7e467fb8cdb82ffca9bf1b",
       "style": "IPY_MODEL_75995da714f346bebf75e62bccb74bf3",
       "value": "apply len_bytes to num_bytes: 100%"
      }
     },
     "2d41bab163c14a0889fe61a545036902": {
      "model_module": "@jupyter-widgets/controls",
      "model_module_version": "2.0.0",
      "model_name": "HTMLModel",
      "state": {
       "layout": "IPY_MODEL_7ab2f987951b4b8ba0a43598790b969b",
       "style": "IPY_MODEL_88f19286af394f50bcaf996c027d939c",
       "value": " 7074/7074 [00:03&lt;00:00, 2258.47it/s]"
      }
     },
     "2d4975089d8746caad55baa554f72dd3": {
      "model_module": "@jupyter-widgets/controls",
      "model_module_version": "2.0.0",
      "model_name": "LabelStyleModel",
      "state": {
       "description_width": "",
       "font_family": null,
       "font_size": null,
       "font_style": null,
       "font_variant": null,
       "font_weight": null,
       "text_color": null,
       "text_decoration": null
      }
     },
     "2d6dab6c7a0f497a8ae60af698965495": {
      "model_module": "@jupyter-widgets/controls",
      "model_module_version": "2.0.0",
      "model_name": "HTMLStyleModel",
      "state": {
       "description_width": "",
       "font_size": null,
       "text_color": null
      }
     },
     "2da0f1264f3d4c2e870882fc6da722c5": {
      "model_module": "@jupyter-widgets/controls",
      "model_module_version": "2.0.0",
      "model_name": "ProgressStyleModel",
      "state": {
       "description_width": ""
      }
     },
     "2da3103c912749dca36a1fce7d0c354c": {
      "model_module": "@jupyter-widgets/base",
      "model_module_version": "2.0.0",
      "model_name": "LayoutModel",
      "state": {}
     },
     "2da41ab756e94a828ed9eb4533627f94": {
      "model_module": "@jupyter-widgets/controls",
      "model_module_version": "2.0.0",
      "model_name": "HTMLStyleModel",
      "state": {
       "description_width": "",
       "font_size": null,
       "text_color": null
      }
     },
     "2dbf3d64b29e4438a70fbadb87748a1e": {
      "model_module": "@jupyter-widgets/controls",
      "model_module_version": "2.0.0",
      "model_name": "HTMLModel",
      "state": {
       "layout": "IPY_MODEL_78e309b6f21f4582ac0375407d1d2a97",
       "style": "IPY_MODEL_1305f39d251c4581977df47d70b14775",
       "value": "100%"
      }
     },
     "2e2e618c55264271a9a6fc8f16caabe6": {
      "model_module": "@jupyter-widgets/base",
      "model_module_version": "2.0.0",
      "model_name": "LayoutModel",
      "state": {}
     },
     "2e40fa1f6f644ea2b3813d48dfed5217": {
      "model_module": "@jupyter-widgets/controls",
      "model_module_version": "2.0.0",
      "model_name": "HTMLStyleModel",
      "state": {
       "description_width": "",
       "font_size": null,
       "text_color": null
      }
     },
     "2eb548f185244635b79b217ec9520f77": {
      "model_module": "@jupyter-widgets/controls",
      "model_module_version": "2.0.0",
      "model_name": "FloatProgressModel",
      "state": {
       "bar_style": "success",
       "layout": "IPY_MODEL_52232b2e3a5f4b5e8e6f6ab43411922e",
       "max": 2211,
       "style": "IPY_MODEL_867a1dfb3fe1429cbaaff7bd7bf203c7",
       "value": 2211
      }
     },
     "2ebbd3ed9edb4f97ab75adaf72e740bc": {
      "model_module": "@jupyter-widgets/controls",
      "model_module_version": "2.0.0",
      "model_name": "HTMLStyleModel",
      "state": {
       "description_width": "",
       "font_size": null,
       "text_color": null
      }
     },
     "2ed257bd5c694ac8b7e2715752f32c65": {
      "model_module": "@jupyter-widgets/controls",
      "model_module_version": "2.0.0",
      "model_name": "LabelStyleModel",
      "state": {
       "description_width": "",
       "font_family": null,
       "font_size": null,
       "font_style": null,
       "font_variant": null,
       "font_weight": null,
       "text_color": null,
       "text_decoration": null
      }
     },
     "2f079e9db5f34f0dafbec1d3c09c9ff2": {
      "model_module": "@jupyter-widgets/base",
      "model_module_version": "2.0.0",
      "model_name": "LayoutModel",
      "state": {}
     },
     "2f0989a4075b47bdad9b63c8a0d18a05": {
      "model_module": "@jupyter-widgets/controls",
      "model_module_version": "2.0.0",
      "model_name": "HBoxModel",
      "state": {
       "children": [
        "IPY_MODEL_fbbb5382548b43ff88fc97777c98d48c",
        "IPY_MODEL_0d6b1d2db2444778b2a87aebbee1fb41",
        "IPY_MODEL_1fb6ea9a93004c1ba3f09a305eea3607"
       ],
       "layout": "IPY_MODEL_5608f20ac74847e18f72800ecbc47b07"
      }
     },
     "2f3e3997613448739ab9e6f485942da5": {
      "model_module": "@jupyter-widgets/base",
      "model_module_version": "2.0.0",
      "model_name": "LayoutModel",
      "state": {}
     },
     "2faed8be80e54fa097562f892dcf2989": {
      "model_module": "@jupyter-widgets/base",
      "model_module_version": "2.0.0",
      "model_name": "LayoutModel",
      "state": {}
     },
     "2faf575f5d424445bde61ebaa7f44e93": {
      "model_module": "@jupyter-widgets/controls",
      "model_module_version": "2.0.0",
      "model_name": "HTMLStyleModel",
      "state": {
       "description_width": "",
       "font_size": null,
       "text_color": null
      }
     },
     "2ff7c8ce8ed94d7cb7fe233f000062f9": {
      "model_module": "@jupyter-widgets/base",
      "model_module_version": "2.0.0",
      "model_name": "LayoutModel",
      "state": {}
     },
     "30055dd78d2d4861b238b5fbf3527a5a": {
      "model_module": "@jupyter-widgets/controls",
      "model_module_version": "2.0.0",
      "model_name": "HTMLModel",
      "state": {
       "layout": "IPY_MODEL_285fed258ee2450cafe92a5225267feb",
       "style": "IPY_MODEL_ff0d68f0b4b94c5a84128ef5efa2507b",
       "value": " 199/199 [00:00&lt;00:00, 677.69it/s]"
      }
     },
     "300c5e0a9a6d4e0896c3fcf6b70f03dc": {
      "model_module": "@jupyter-widgets/controls",
      "model_module_version": "2.0.0",
      "model_name": "ProgressStyleModel",
      "state": {
       "description_width": ""
      }
     },
     "3012b054dc59440abb1afcf16af1d1e9": {
      "model_module": "@jupyter-widgets/controls",
      "model_module_version": "2.0.0",
      "model_name": "ProgressStyleModel",
      "state": {
       "description_width": ""
      }
     },
     "3017cb68bd7b4bbdb8d5f4d64d69e7c0": {
      "model_module": "@jupyter-widgets/controls",
      "model_module_version": "2.0.0",
      "model_name": "HBoxModel",
      "state": {
       "children": [
        "IPY_MODEL_9d48457559ee4651a7f778fc9626fe47",
        "IPY_MODEL_f93c47ead7034b3d88c29097c38ff325",
        "IPY_MODEL_62e0d82eb76c4e7387638207369dceec"
       ],
       "layout": "IPY_MODEL_aeab7661aed647e2a0ed1544706e7aed"
      }
     },
     "3019aacfd8a04a6c8ece62fe6abfe199": {
      "model_module": "@jupyter-widgets/controls",
      "model_module_version": "2.0.0",
      "model_name": "FloatProgressModel",
      "state": {
       "layout": "IPY_MODEL_41fb866a5c654c9d92f48f7fd95aad7d",
       "max": 1,
       "style": "IPY_MODEL_ad46d2cbfb9546688bfaa9d108e4fb93"
      }
     },
     "301a61884cde4527924005b3e200cf0a": {
      "model_module": "@jupyter-widgets/controls",
      "model_module_version": "2.0.0",
      "model_name": "HTMLModel",
      "state": {
       "layout": "IPY_MODEL_01a56e6db2f640499791c6756fdc811f",
       "style": "IPY_MODEL_e02bd6b0ca3841819f2711526faf79b5",
       "value": "100%"
      }
     },
     "3051a52e95e546dca2b40a95b2fbb8d4": {
      "model_module": "@jupyter-widgets/controls",
      "model_module_version": "2.0.0",
      "model_name": "FloatProgressModel",
      "state": {
       "bar_style": "danger",
       "layout": "IPY_MODEL_162f13ffab164f339d1e7e126413be6b",
       "max": 2,
       "style": "IPY_MODEL_5ad1c08ec0df45da91819a357456e9e0"
      }
     },
     "306b068c50054b22bb55f7eea6849e69": {
      "model_module": "@jupyter-widgets/controls",
      "model_module_version": "2.0.0",
      "model_name": "ProgressStyleModel",
      "state": {
       "description_width": ""
      }
     },
     "30725a5c92454b0eab96a308a7df6034": {
      "model_module": "@jupyter-widgets/controls",
      "model_module_version": "2.0.0",
      "model_name": "DescriptionStyleModel",
      "state": {
       "description_width": ""
      }
     },
     "3092b4e777004eedab69ef5484a02924": {
      "model_module": "@jupyter-widgets/base",
      "model_module_version": "2.0.0",
      "model_name": "LayoutModel",
      "state": {}
     },
     "30a491987f3c4968b6457b74a0cb4aa5": {
      "model_module": "@jupyter-widgets/controls",
      "model_module_version": "2.0.0",
      "model_name": "LabelStyleModel",
      "state": {
       "description_width": "",
       "font_family": null,
       "font_size": null,
       "font_style": null,
       "font_variant": null,
       "font_weight": null,
       "text_color": null,
       "text_decoration": null
      }
     },
     "30ab15a90d1c4d199c9a933b95c67264": {
      "model_module": "@jupyter-widgets/controls",
      "model_module_version": "2.0.0",
      "model_name": "HTMLStyleModel",
      "state": {
       "description_width": "",
       "font_size": null,
       "text_color": null
      }
     },
     "30b3e87b099748c8989a7d186d8ff1b0": {
      "model_module": "@jupyter-widgets/controls",
      "model_module_version": "2.0.0",
      "model_name": "ProgressStyleModel",
      "state": {
       "description_width": ""
      }
     },
     "30e374364210415090e78a5ca6244820": {
      "model_module": "@jupyter-widgets/controls",
      "model_module_version": "2.0.0",
      "model_name": "ProgressStyleModel",
      "state": {
       "description_width": ""
      }
     },
     "30e40a230aad4ed991b1c4db10010567": {
      "model_module": "@jupyter-widgets/controls",
      "model_module_version": "2.0.0",
      "model_name": "HTMLModel",
      "state": {
       "layout": "IPY_MODEL_b93976d1f46e41999e720d47644c12b0",
       "style": "IPY_MODEL_a92bc3cd3f564dffa94c2ddcf0e997ac",
       "value": "Epochs 0/2. Running Loss:    0.3504: 100%"
      }
     },
     "30fea1a40bd64a1fa99a4321a007df96": {
      "model_module": "@jupyter-widgets/controls",
      "model_module_version": "2.0.0",
      "model_name": "VBoxModel",
      "state": {
       "children": [
        "IPY_MODEL_e2824f540c22428b8ae12dd7fc988f35",
        "IPY_MODEL_2ce5107ad570486fbac01fab2b6e8b19"
       ],
       "layout": "IPY_MODEL_8b400490319343eb902f2af628eb91b9"
      }
     },
     "3106ce1619ec473fb1563f42c52054fd": {
      "model_module": "@jupyter-widgets/base",
      "model_module_version": "2.0.0",
      "model_name": "LayoutModel",
      "state": {}
     },
     "311d78761ec2458bb35384045a47037d": {
      "model_module": "@jupyter-widgets/base",
      "model_module_version": "2.0.0",
      "model_name": "LayoutModel",
      "state": {}
     },
     "3191d8fcd63d4906955adf7db6ec48b3": {
      "model_module": "@jupyter-widgets/controls",
      "model_module_version": "2.0.0",
      "model_name": "HTMLModel",
      "state": {
       "layout": "IPY_MODEL_741667314e1f41aab4d81d14e1bae41e",
       "style": "IPY_MODEL_12a0ead955354c7e9a541a9345ba644d",
       "value": "Epoch 1 of 2:   0%"
      }
     },
     "31aa5036b90f491f8d84a02e17e4c992": {
      "model_module": "@jupyter-widgets/controls",
      "model_module_version": "2.0.0",
      "model_name": "FloatProgressModel",
      "state": {
       "bar_style": "success",
       "layout": "IPY_MODEL_1306091db44e4a1fa2036bf99fb0dad3",
       "max": 230,
       "style": "IPY_MODEL_952e783c4408441abadc9ab08a5a4f0d",
       "value": 230
      }
     },
     "31af57ebabcc46099c21e047333ae741": {
      "model_module": "@jupyter-widgets/controls",
      "model_module_version": "2.0.0",
      "model_name": "FloatProgressModel",
      "state": {
       "bar_style": "success",
       "layout": "IPY_MODEL_670a3d0cbbe34b3ba4716c8fbcf418ea",
       "max": 490,
       "style": "IPY_MODEL_2528c6db98c04f19938d444aabe78b06",
       "value": 490
      }
     },
     "32245f92331748febff830e2a5a9eeae": {
      "model_module": "@jupyter-widgets/controls",
      "model_module_version": "2.0.0",
      "model_name": "HTMLStyleModel",
      "state": {
       "description_width": "",
       "font_size": null,
       "text_color": null
      }
     },
     "3287c9bd7cb540f58e30a3f5a9ae4cb8": {
      "model_module": "@jupyter-widgets/controls",
      "model_module_version": "2.0.0",
      "model_name": "FloatProgressModel",
      "state": {
       "bar_style": "success",
       "layout": "IPY_MODEL_ca780d9b3bad416bb753f295b63ae0a7",
       "max": 36,
       "style": "IPY_MODEL_a05e7c0387054b95abd89032b6055cfb",
       "value": 36
      }
     },
     "32e28d44b1a944418ff2b41dcf6544eb": {
      "model_module": "@jupyter-widgets/controls",
      "model_module_version": "2.0.0",
      "model_name": "HTMLModel",
      "state": {
       "layout": "IPY_MODEL_824bdef02e174b078f4815c247fe3755",
       "style": "IPY_MODEL_167f6f1f2f5b47cfafa8423c8d7b5609",
       "value": "apply len_bytes to num_bytes: 100%"
      }
     },
     "330d10f579624adf8a0508e7c23efc71": {
      "model_module": "@jupyter-widgets/base",
      "model_module_version": "2.0.0",
      "model_name": "LayoutModel",
      "state": {}
     },
     "3321063cc2e2408e95fdfa335c6706c7": {
      "model_module": "@jupyter-widgets/controls",
      "model_module_version": "2.0.0",
      "model_name": "HTMLModel",
      "state": {
       "layout": "IPY_MODEL_a67d4d6081a5490c99a566ba37739f1f",
       "style": "IPY_MODEL_c9d88acf95334a92832c0f0e39e88cba",
       "value": " 199/199 [00:00&lt;00:00, 784.87it/s]"
      }
     },
     "335249fda7564a7e9cca6452448fa267": {
      "model_module": "@jupyter-widgets/controls",
      "model_module_version": "2.0.0",
      "model_name": "HBoxModel",
      "state": {
       "children": [
        "IPY_MODEL_5f4737c88cd34c7a90a38ba6f2c198ba",
        "IPY_MODEL_d3aeef69cc4c4293a35e8cddbcfa068c",
        "IPY_MODEL_0c04e4b0522144c483cc0a4fb07c1c82"
       ],
       "layout": "IPY_MODEL_e14485869ee4468eb37cc1c343fa7fed"
      }
     },
     "335dadce5e804861b9073b16331069e8": {
      "model_module": "@jupyter-widgets/controls",
      "model_module_version": "2.0.0",
      "model_name": "ProgressStyleModel",
      "state": {
       "description_width": ""
      }
     },
     "33640c1202e84d899309f5ddc9b94302": {
      "model_module": "@jupyter-widgets/controls",
      "model_module_version": "2.0.0",
      "model_name": "HTMLModel",
      "state": {
       "layout": "IPY_MODEL_611a276711ee45bf98e006292db15e3d",
       "style": "IPY_MODEL_3d4d4ad1df43486d8d717169841f1802",
       "value": "apply len_bytes to num_bytes: 100%"
      }
     },
     "339b95d3554047f78101f367557bf24c": {
      "model_module": "@jupyter-widgets/controls",
      "model_module_version": "2.0.0",
      "model_name": "HTMLModel",
      "state": {
       "layout": "IPY_MODEL_7463722d4cbb47b6b951175cbbca0564",
       "style": "IPY_MODEL_d9e49ebda590452ca6a799b70cdb1b81",
       "value": "100%"
      }
     },
     "33a5e6a9cfde4ceda077b02808f1d87a": {
      "model_module": "@jupyter-widgets/controls",
      "model_module_version": "2.0.0",
      "model_name": "FloatProgressModel",
      "state": {
       "bar_style": "success",
       "layout": "IPY_MODEL_5b6780cd6a8a408686c47d0bfabe58c7",
       "max": 36,
       "style": "IPY_MODEL_3012b054dc59440abb1afcf16af1d1e9",
       "value": 36
      }
     },
     "33c1c274ecfe489fb739b65255b86ce9": {
      "model_module": "@jupyter-widgets/controls",
      "model_module_version": "2.0.0",
      "model_name": "FloatProgressModel",
      "state": {
       "bar_style": "success",
       "layout": "IPY_MODEL_3f466baae0674abeaaccdbf9e39210ac",
       "max": 8953,
       "style": "IPY_MODEL_3957509f11234d2e8af08d2670bbb4c0",
       "value": 8953
      }
     },
     "33c3a9a7182b48da9c1e39ef66c24472": {
      "model_module": "@jupyter-widgets/base",
      "model_module_version": "2.0.0",
      "model_name": "LayoutModel",
      "state": {}
     },
     "33f6811536d344a4be988bfeee0ab551": {
      "model_module": "@jupyter-widgets/controls",
      "model_module_version": "2.0.0",
      "model_name": "HTMLModel",
      "state": {
       "layout": "IPY_MODEL_0874db60d1ec465bbaa9e90a8e10fc47",
       "style": "IPY_MODEL_5f09f7d2066d49d4bb1d66297fed62b6",
       "value": " 1.40M/1.40M [00:00&lt;00:00, 17.9MB/s]"
      }
     },
     "341094da37e24565bfa59b7f6e72332f": {
      "model_module": "@jupyter-widgets/base",
      "model_module_version": "2.0.0",
      "model_name": "LayoutModel",
      "state": {}
     },
     "34386822e6614c6f842a2d74a0ca3cc9": {
      "model_module": "@jupyter-widgets/base",
      "model_module_version": "2.0.0",
      "model_name": "LayoutModel",
      "state": {}
     },
     "345cbff6bf874950abe2cb5cc3870b89": {
      "model_module": "@jupyter-widgets/controls",
      "model_module_version": "2.0.0",
      "model_name": "HBoxModel",
      "state": {
       "children": [
        "IPY_MODEL_946f4c934a7344678392c178bd4defe6",
        "IPY_MODEL_2eb548f185244635b79b217ec9520f77",
        "IPY_MODEL_ba4c455a9a7f4bed9b6a3986d758e6da"
       ],
       "layout": "IPY_MODEL_0d73a7fae027495ab40c0ccb5d5e9bf4"
      }
     },
     "348c29b6a39140cbb342bc76f94fe074": {
      "model_module": "@jupyter-widgets/controls",
      "model_module_version": "2.0.0",
      "model_name": "HBoxModel",
      "state": {
       "children": [
        "IPY_MODEL_6f6cc612633f437f83232601654091de",
        "IPY_MODEL_824bcad7baad459db685fb1bcaef9173",
        "IPY_MODEL_872c3b00d0bb4ac4ac81d645aca77e0a"
       ],
       "layout": "IPY_MODEL_006b29521e154ab79b22134c1a37945c"
      }
     },
     "35071c6714a342b7b4fe31d1c3bc2124": {
      "model_module": "@jupyter-widgets/base",
      "model_module_version": "2.0.0",
      "model_name": "LayoutModel",
      "state": {}
     },
     "3564e39112904bf69dd45450c69eb64c": {
      "model_module": "@jupyter-widgets/controls",
      "model_module_version": "2.0.0",
      "model_name": "LabelModel",
      "state": {
       "layout": "IPY_MODEL_54009edfe0844e49b79f63583e9ad085",
       "style": "IPY_MODEL_19c09ee6f7564530906d0b5e7cf05cb1"
      }
     },
     "3599a8c6f8bb4b56942c443be28c6295": {
      "model_module": "@jupyter-widgets/base",
      "model_module_version": "2.0.0",
      "model_name": "LayoutModel",
      "state": {}
     },
     "35a0d83ea8374407bf5ee8b2e53d6d0f": {
      "model_module": "@jupyter-widgets/controls",
      "model_module_version": "2.0.0",
      "model_name": "FloatProgressModel",
      "state": {
       "bar_style": "success",
       "layout": "IPY_MODEL_0dcf56da6df04ff3a0efde9337bbfa24",
       "max": 1120,
       "style": "IPY_MODEL_af7002760ea94befa20b3ee7b1682cd0",
       "value": 1120
      }
     },
     "35b0df2071894dcd88ea92fdda963c73": {
      "model_module": "@jupyter-widgets/base",
      "model_module_version": "2.0.0",
      "model_name": "LayoutModel",
      "state": {}
     },
     "35b38cde00b14b6eb0b1bfe9f078d393": {
      "model_module": "@jupyter-widgets/base",
      "model_module_version": "2.0.0",
      "model_name": "LayoutModel",
      "state": {}
     },
     "35f07f8397114e39a6c1b57605345e4d": {
      "model_module": "@jupyter-widgets/base",
      "model_module_version": "2.0.0",
      "model_name": "LayoutModel",
      "state": {}
     },
     "35f60a9061974beeab5085978d6b0054": {
      "model_module": "@jupyter-widgets/controls",
      "model_module_version": "2.0.0",
      "model_name": "LabelModel",
      "state": {
       "layout": "IPY_MODEL_d2078633ba9f4069aee635db024898fd",
       "style": "IPY_MODEL_30a491987f3c4968b6457b74a0cb4aa5",
       "value": "0.033 MB of 0.033 MB uploaded (0.000 MB deduped)\r"
      }
     },
     "36251cb643ef4f62bd96ceb89adcf9a1": {
      "model_module": "@jupyter-widgets/controls",
      "model_module_version": "2.0.0",
      "model_name": "HTMLStyleModel",
      "state": {
       "description_width": "",
       "font_size": null,
       "text_color": null
      }
     },
     "362ab6266f0a44dba9bc7b09baca2cf5": {
      "model_module": "@jupyter-widgets/controls",
      "model_module_version": "2.0.0",
      "model_name": "HTMLStyleModel",
      "state": {
       "description_width": "",
       "font_size": null,
       "text_color": null
      }
     },
     "3637c70d6ed244c78474871148ef5ea5": {
      "model_module": "@jupyter-widgets/controls",
      "model_module_version": "2.0.0",
      "model_name": "HTMLModel",
      "state": {
       "layout": "IPY_MODEL_d9e7d9783755458884ee875a514d7a9e",
       "style": "IPY_MODEL_0ef825c9187f449e8c599116cfbf31ad",
       "value": " 2/2 [01:15&lt;00:00, 36.67s/it]"
      }
     },
     "3642c30f9eaa41f0ba422e7f776aa66f": {
      "model_module": "@jupyter-widgets/base",
      "model_module_version": "2.0.0",
      "model_name": "LayoutModel",
      "state": {}
     },
     "36693a4cdc9745b8ad53d7fdfda35a22": {
      "model_module": "@jupyter-widgets/controls",
      "model_module_version": "2.0.0",
      "model_name": "HTMLModel",
      "state": {
       "layout": "IPY_MODEL_ac25fcaf336b4ef49c288b30e1867fc8",
       "style": "IPY_MODEL_30ab15a90d1c4d199c9a933b95c67264",
       "value": " 230/230 [00:00&lt;00:00, 816.37it/s]"
      }
     },
     "36a265ea12aa4c4793a7a2ffce31aa4d": {
      "model_module": "@jupyter-widgets/controls",
      "model_module_version": "2.0.0",
      "model_name": "HTMLStyleModel",
      "state": {
       "description_width": "",
       "font_size": null,
       "text_color": null
      }
     },
     "36c32c7641ca4f5f8bba38b517fb8a68": {
      "model_module": "@jupyter-widgets/controls",
      "model_module_version": "2.0.0",
      "model_name": "HTMLStyleModel",
      "state": {
       "description_width": "",
       "font_size": null,
       "text_color": null
      }
     },
     "36ce656c9afe436d84ea3d242ecfb810": {
      "model_module": "@jupyter-widgets/controls",
      "model_module_version": "2.0.0",
      "model_name": "ProgressStyleModel",
      "state": {
       "description_width": ""
      }
     },
     "36d3a6e3b9544bc6b4f2c3f53d4e0ed6": {
      "model_module": "@jupyter-widgets/controls",
      "model_module_version": "2.0.0",
      "model_name": "HTMLStyleModel",
      "state": {
       "description_width": "",
       "font_size": null,
       "text_color": null
      }
     },
     "36e1b25540214a56a539715346003191": {
      "model_module": "@jupyter-widgets/controls",
      "model_module_version": "2.0.0",
      "model_name": "HBoxModel",
      "state": {
       "children": [
        "IPY_MODEL_d929790d25e84048a5bde5bfdeab1888",
        "IPY_MODEL_0bc4c078993149fc96beb70d2c87b718",
        "IPY_MODEL_18f1894657c04e1eacb2566e9d2a722c"
       ],
       "layout": "IPY_MODEL_cd842f4d42594b41971f72cbb3dec8dd"
      }
     },
     "36e4e24553a7496c9a4326426b226aeb": {
      "model_module": "@jupyter-widgets/base",
      "model_module_version": "2.0.0",
      "model_name": "LayoutModel",
      "state": {}
     },
     "36ee67eea1154f2094087383423df1de": {
      "model_module": "@jupyter-widgets/base",
      "model_module_version": "2.0.0",
      "model_name": "LayoutModel",
      "state": {}
     },
     "3705daf21a5a4adfb326d4b22e04aebd": {
      "model_module": "@jupyter-widgets/controls",
      "model_module_version": "2.0.0",
      "model_name": "HTMLStyleModel",
      "state": {
       "description_width": "",
       "font_size": null,
       "text_color": null
      }
     },
     "371d9836ad214c0fa3d51eba5fc668af": {
      "model_module": "@jupyter-widgets/controls",
      "model_module_version": "2.0.0",
      "model_name": "HBoxModel",
      "state": {
       "children": [
        "IPY_MODEL_fb0c980be98b4770888b41f311b3792b",
        "IPY_MODEL_b186b32d7f30413ea8744410868048ac",
        "IPY_MODEL_9dbea89c7c264b9fb4f5ca706388bf2d"
       ],
       "layout": "IPY_MODEL_8f0cda23eabf4743a4eca833e37dbefa"
      }
     },
     "37c63d8ca27c41c59f588b3f35b9b1bf": {
      "model_module": "@jupyter-widgets/controls",
      "model_module_version": "2.0.0",
      "model_name": "HTMLStyleModel",
      "state": {
       "description_width": "",
       "font_size": null,
       "text_color": null
      }
     },
     "37e154512980417eb0638861b14a5e04": {
      "model_module": "@jupyter-widgets/controls",
      "model_module_version": "2.0.0",
      "model_name": "FloatProgressModel",
      "state": {
       "bar_style": "success",
       "layout": "IPY_MODEL_e5334f6510c9448789db21f68e351438",
       "max": 2,
       "style": "IPY_MODEL_6b3e1d62e88d4fb9bfc3108ce6b44e1b",
       "value": 2
      }
     },
     "37eb90ecb7cc481e8844c5d038b25035": {
      "model_module": "@jupyter-widgets/base",
      "model_module_version": "2.0.0",
      "model_name": "LayoutModel",
      "state": {}
     },
     "3803eaa3586b4bd4905d5b4feb6edbec": {
      "model_module": "@jupyter-widgets/base",
      "model_module_version": "2.0.0",
      "model_name": "LayoutModel",
      "state": {}
     },
     "380e256d722445cface10e5dfc3218e7": {
      "model_module": "@jupyter-widgets/controls",
      "model_module_version": "2.0.0",
      "model_name": "HTMLModel",
      "state": {
       "layout": "IPY_MODEL_e97b317e263f40de8d167784782f0a27",
       "style": "IPY_MODEL_6d44598be0a74f77b3972bdbffab19d3",
       "value": " 8953/8953 [00:04&lt;00:00, 2261.79it/s]"
      }
     },
     "3827b9d20f434ca58ab9ad6db9a6da66": {
      "model_module": "@jupyter-widgets/controls",
      "model_module_version": "2.0.0",
      "model_name": "HTMLModel",
      "state": {
       "layout": "IPY_MODEL_d0364d3ef3bf45b3acf1f0abcd778d0f",
       "style": "IPY_MODEL_64428e5e3e1542819bd87c5fb7a706dc",
       "value": "Downloading data: "
      }
     },
     "3847e00b73a447d3aee8f67087155103": {
      "model_module": "@jupyter-widgets/controls",
      "model_module_version": "2.0.0",
      "model_name": "HTMLModel",
      "state": {
       "layout": "IPY_MODEL_f4177502fcdc4410b425e9e91aeb6a82",
       "style": "IPY_MODEL_453b5312a68048b7823e9da54f35b654",
       "value": " 228/228 [00:26&lt;00:00, 10.64it/s]"
      }
     },
     "3861b66910094fe4b5e64c722519b28f": {
      "model_module": "@jupyter-widgets/controls",
      "model_module_version": "2.0.0",
      "model_name": "HTMLModel",
      "state": {
       "layout": "IPY_MODEL_2aab9d2e5e154edea628adfd1a0e5ec0",
       "style": "IPY_MODEL_cfef3da396a046e485ab1862481cbb6b",
       "value": "100%"
      }
     },
     "388eec5aac584db79975b77f387a472e": {
      "model_module": "@jupyter-widgets/controls",
      "model_module_version": "2.0.0",
      "model_name": "HTMLStyleModel",
      "state": {
       "description_width": "",
       "font_size": null,
       "text_color": null
      }
     },
     "389e45568ecb414aa96d41d85a195b2d": {
      "model_module": "@jupyter-widgets/controls",
      "model_module_version": "2.0.0",
      "model_name": "HTMLStyleModel",
      "state": {
       "description_width": "",
       "font_size": null,
       "text_color": null
      }
     },
     "38ade6957084482e9073009fb7ae5a5d": {
      "model_module": "@jupyter-widgets/controls",
      "model_module_version": "2.0.0",
      "model_name": "FloatProgressModel",
      "state": {
       "bar_style": "success",
       "layout": "IPY_MODEL_aca4f42caf074af99391312382041f25",
       "max": 36,
       "style": "IPY_MODEL_184fea20c88d4ff891e42e82eb6f18af",
       "value": 36
      }
     },
     "38ba5cb117bc4992a1f288d3eeadadf2": {
      "model_module": "@jupyter-widgets/controls",
      "model_module_version": "2.0.0",
      "model_name": "HTMLModel",
      "state": {
       "layout": "IPY_MODEL_26632924ade44d859bd8a5f396e6d669",
       "style": "IPY_MODEL_4ac6456ff68a419b8fc9fd7cb2accbb1",
       "value": " 59.0/59.0 [00:00&lt;00:00, 3.36kB/s]"
      }
     },
     "38bc147703e84c3485237ee01b1e97a5": {
      "model_module": "@jupyter-widgets/base",
      "model_module_version": "2.0.0",
      "model_name": "LayoutModel",
      "state": {}
     },
     "38ccde1249b04588a09b7630065f0d8d": {
      "model_module": "@jupyter-widgets/controls",
      "model_module_version": "2.0.0",
      "model_name": "HTMLStyleModel",
      "state": {
       "description_width": "",
       "font_size": null,
       "text_color": null
      }
     },
     "38cf8b34fa2d4c3ab759ebdc8f4f17d0": {
      "model_module": "@jupyter-widgets/controls",
      "model_module_version": "2.0.0",
      "model_name": "HTMLStyleModel",
      "state": {
       "description_width": "",
       "font_size": null,
       "text_color": null
      }
     },
     "38debac366c04ea3b755346420c82c47": {
      "model_module": "@jupyter-widgets/base",
      "model_module_version": "2.0.0",
      "model_name": "LayoutModel",
      "state": {}
     },
     "3957509f11234d2e8af08d2670bbb4c0": {
      "model_module": "@jupyter-widgets/controls",
      "model_module_version": "2.0.0",
      "model_name": "ProgressStyleModel",
      "state": {
       "description_width": ""
      }
     },
     "395aff23032a49cfaac668ccb93a55fb": {
      "model_module": "@jupyter-widgets/base",
      "model_module_version": "2.0.0",
      "model_name": "LayoutModel",
      "state": {}
     },
     "395b2fbf26a24c1c8654410dfc4ac402": {
      "model_module": "@jupyter-widgets/controls",
      "model_module_version": "2.0.0",
      "model_name": "HTMLStyleModel",
      "state": {
       "description_width": "",
       "font_size": null,
       "text_color": null
      }
     },
     "39635d31a553449bb355c4e9eecb9183": {
      "model_module": "@jupyter-widgets/base",
      "model_module_version": "2.0.0",
      "model_name": "LayoutModel",
      "state": {}
     },
     "39a148bc33f44be798f91fb20cb59fbf": {
      "model_module": "@jupyter-widgets/base",
      "model_module_version": "2.0.0",
      "model_name": "LayoutModel",
      "state": {}
     },
     "39a8c91a04b04c31ae6826d98e47446a": {
      "model_module": "@jupyter-widgets/base",
      "model_module_version": "2.0.0",
      "model_name": "LayoutModel",
      "state": {}
     },
     "39b6185544444a77981724a6d320903c": {
      "model_module": "@jupyter-widgets/controls",
      "model_module_version": "2.0.0",
      "model_name": "HTMLModel",
      "state": {
       "layout": "IPY_MODEL_9dd0fad3f641478bbc977febe91397ce",
       "style": "IPY_MODEL_95f0299b805a4346b2275f73567b9be7",
       "value": " 230/230 [00:11&lt;00:00, 195.93it/s]"
      }
     },
     "39c80632501f4a24bc8d73482ec6ff3a": {
      "model_module": "@jupyter-widgets/controls",
      "model_module_version": "2.0.0",
      "model_name": "HTMLModel",
      "state": {
       "layout": "IPY_MODEL_d1269e8042ed474aa524f251447ec3b5",
       "style": "IPY_MODEL_ff7f88cdde8e4030acfd22b39b44ad2e",
       "value": " 1106/1106 [00:00&lt;00:00, 1169.23it/s]"
      }
     },
     "39fccb90a7d741ec98cac9f9806049ad": {
      "model_module": "@jupyter-widgets/base",
      "model_module_version": "2.0.0",
      "model_name": "LayoutModel",
      "state": {}
     },
     "3a2d81151206460994c5ad635e83dcf0": {
      "model_module": "@jupyter-widgets/controls",
      "model_module_version": "2.0.0",
      "model_name": "HTMLStyleModel",
      "state": {
       "description_width": "",
       "font_size": null,
       "text_color": null
      }
     },
     "3a6bdd5770494c5aa4bf388068184155": {
      "model_module": "@jupyter-widgets/controls",
      "model_module_version": "2.0.0",
      "model_name": "HTMLModel",
      "state": {
       "layout": "IPY_MODEL_e0cab1728be8458e92d39715103aac25",
       "style": "IPY_MODEL_547837711c5f490c82e96f5654ee328b",
       "value": "apply len_bytes to num_bytes: 100%"
      }
     },
     "3a85c4dde82c4eb1a62121690a719102": {
      "model_module": "@jupyter-widgets/base",
      "model_module_version": "2.0.0",
      "model_name": "LayoutModel",
      "state": {}
     },
     "3a9488fcc00443768b832c3cef10885d": {
      "model_module": "@jupyter-widgets/controls",
      "model_module_version": "2.0.0",
      "model_name": "FloatProgressModel",
      "state": {
       "bar_style": "success",
       "layout": "IPY_MODEL_8b4158ea204941fc8f6a6a1bb960de36",
       "max": 2,
       "style": "IPY_MODEL_21b71543d626481fbb3aa579668ad663",
       "value": 2
      }
     },
     "3aa97f397b3d432db6773310ba871b7a": {
      "model_module": "@jupyter-widgets/controls",
      "model_module_version": "2.0.0",
      "model_name": "DescriptionStyleModel",
      "state": {
       "description_width": ""
      }
     },
     "3ad3b2f70ede468f8d5f2e7c88fe286c": {
      "model_module": "@jupyter-widgets/controls",
      "model_module_version": "2.0.0",
      "model_name": "FloatProgressModel",
      "state": {
       "bar_style": "success",
       "layout": "IPY_MODEL_ad4309cc10174221a7483684c7362ceb",
       "max": 2211,
       "style": "IPY_MODEL_844f2bdd7161440d94de5566822079a4",
       "value": 2211
      }
     },
     "3b1bee23ae1c4b6bb121008615058c85": {
      "model_module": "@jupyter-widgets/controls",
      "model_module_version": "2.0.0",
      "model_name": "ProgressStyleModel",
      "state": {
       "description_width": ""
      }
     },
     "3b26b94a9bf0444eb598f797f0f21e85": {
      "model_module": "@jupyter-widgets/base",
      "model_module_version": "2.0.0",
      "model_name": "LayoutModel",
      "state": {}
     },
     "3b43f99edc364a308f8bcd27bbb98b33": {
      "model_module": "@jupyter-widgets/base",
      "model_module_version": "2.0.0",
      "model_name": "LayoutModel",
      "state": {}
     },
     "3b50f45faaeb4fa19cdb83ae9efa1a06": {
      "model_module": "@jupyter-widgets/controls",
      "model_module_version": "2.0.0",
      "model_name": "HTMLStyleModel",
      "state": {
       "description_width": "",
       "font_size": null,
       "text_color": null
      }
     },
     "3b85994c50b949dd9531b40dcbc3f813": {
      "model_module": "@jupyter-widgets/controls",
      "model_module_version": "2.0.0",
      "model_name": "HBoxModel",
      "state": {
       "children": [
        "IPY_MODEL_93efe38a93ea441fa46d2dffd5349d26",
        "IPY_MODEL_6fd8d3a3ccd3430696f7a0925cfbd65c",
        "IPY_MODEL_18d7378b842e4d12813458196c71d646"
       ],
       "layout": "IPY_MODEL_d89965ff556e477fb9e94780c1e2ccaf"
      }
     },
     "3bcb55fb5efc46e5b1cd6353e7ea1702": {
      "model_module": "@jupyter-widgets/controls",
      "model_module_version": "2.0.0",
      "model_name": "HTMLStyleModel",
      "state": {
       "description_width": "",
       "font_size": null,
       "text_color": null
      }
     },
     "3c0075f6d8ad4ff0a77ee20ac5aab850": {
      "model_module": "@jupyter-widgets/controls",
      "model_module_version": "2.0.0",
      "model_name": "FloatProgressModel",
      "state": {
       "bar_style": "success",
       "layout": "IPY_MODEL_8fd51b947fc3461dac554d6a6bff60e4",
       "max": 71,
       "style": "IPY_MODEL_e7a16e64caf7468eb01beea8126e2863",
       "value": 71
      }
     },
     "3c046af0316e46448d613c423773f111": {
      "model_module": "@jupyter-widgets/base",
      "model_module_version": "2.0.0",
      "model_name": "LayoutModel",
      "state": {}
     },
     "3c2b9c063d824e9e93bf0525160ef708": {
      "model_module": "@jupyter-widgets/controls",
      "model_module_version": "2.0.0",
      "model_name": "FloatProgressModel",
      "state": {
       "bar_style": "success",
       "layout": "IPY_MODEL_73bccb64ffb94e5a808ba64266a99643",
       "max": 222,
       "style": "IPY_MODEL_13191d94b1a348b0876c78bb7f4daa09",
       "value": 222
      }
     },
     "3c6c1caa9f4f49f7890433ac98d4fb7a": {
      "model_module": "@jupyter-widgets/base",
      "model_module_version": "2.0.0",
      "model_name": "LayoutModel",
      "state": {}
     },
     "3c93927f9c4843d59330dabda104ae10": {
      "model_module": "@jupyter-widgets/base",
      "model_module_version": "2.0.0",
      "model_name": "LayoutModel",
      "state": {}
     },
     "3ca4496977f44d7da1b2a4eaee78d9d7": {
      "model_module": "@jupyter-widgets/controls",
      "model_module_version": "2.0.0",
      "model_name": "HBoxModel",
      "state": {
       "children": [
        "IPY_MODEL_9fc157ff8b1347b1a3600fc2818b6283",
        "IPY_MODEL_7714a17871514bda99def73b8de360fa",
        "IPY_MODEL_7029ea790cb64fdd95490bd9cb980448"
       ],
       "layout": "IPY_MODEL_d28fcb6d0d53435d844af8ab0db5b001"
      }
     },
     "3cdac7c0fc834fd280b17c4c2cae15b7": {
      "model_module": "@jupyter-widgets/controls",
      "model_module_version": "2.0.0",
      "model_name": "FloatProgressModel",
      "state": {
       "bar_style": "success",
       "layout": "IPY_MODEL_2919bf8e695b462ba0ec20a70debc067",
       "max": 2,
       "style": "IPY_MODEL_fcfa50b7f8c946328de42b474ea910bc",
       "value": 2
      }
     },
     "3ceb791a359244df874e1eeddc791e36": {
      "model_module": "@jupyter-widgets/controls",
      "model_module_version": "2.0.0",
      "model_name": "HTMLStyleModel",
      "state": {
       "description_width": "",
       "font_size": null,
       "text_color": null
      }
     },
     "3cfc40242df744a6a6d171e165a05519": {
      "model_module": "@jupyter-widgets/controls",
      "model_module_version": "2.0.0",
      "model_name": "HTMLStyleModel",
      "state": {
       "description_width": "",
       "font_size": null,
       "text_color": null
      }
     },
     "3d4d4ad1df43486d8d717169841f1802": {
      "model_module": "@jupyter-widgets/controls",
      "model_module_version": "2.0.0",
      "model_name": "HTMLStyleModel",
      "state": {
       "description_width": "",
       "font_size": null,
       "text_color": null
      }
     },
     "3d580a8834b44a24b4d93d8653e333b8": {
      "model_module": "@jupyter-widgets/controls",
      "model_module_version": "2.0.0",
      "model_name": "HTMLStyleModel",
      "state": {
       "description_width": "",
       "font_size": null,
       "text_color": null
      }
     },
     "3d76f892fc9645ce8f04857c090c76dc": {
      "model_module": "@jupyter-widgets/controls",
      "model_module_version": "2.0.0",
      "model_name": "HTMLModel",
      "state": {
       "layout": "IPY_MODEL_fc8f7782f23f4b91b3062cce367a95d7",
       "style": "IPY_MODEL_936e8dfea4284fa9b3f8ed7afdec77cf",
       "value": " 49/289 [00:06&lt;00:27,  8.75it/s]"
      }
     },
     "3d885f5f95b34476a50cb5bbbd7cc113": {
      "model_module": "@jupyter-widgets/controls",
      "model_module_version": "2.0.0",
      "model_name": "LabelStyleModel",
      "state": {
       "description_width": "",
       "font_family": null,
       "font_size": null,
       "font_style": null,
       "font_variant": null,
       "font_weight": null,
       "text_color": null,
       "text_decoration": null
      }
     },
     "3dd550bf3ac342f5b55bad1b2b3a91b9": {
      "model_module": "@jupyter-widgets/controls",
      "model_module_version": "2.0.0",
      "model_name": "HTMLModel",
      "state": {
       "layout": "IPY_MODEL_685afe974ed04dbaa28c77e0a3776b4a",
       "style": "IPY_MODEL_05029dd93a4a405e81622f47c6d2c3ca",
       "value": " 99/289 [00:12&lt;00:21,  8.78it/s]"
      }
     },
     "3de89d56e0ef4c9cafa23557f165b4d8": {
      "model_module": "@jupyter-widgets/controls",
      "model_module_version": "2.0.0",
      "model_name": "HTMLModel",
      "state": {
       "layout": "IPY_MODEL_0a14d9fda1534d0e961ee0e7cf2bc329",
       "style": "IPY_MODEL_ecdb4b086cfe4f8cbb654520c038fe00",
       "value": " 222/222 [00:00&lt;00:00, 890.50it/s]"
      }
     },
     "3e0d9972f551402ab8c6e7b1293d18db": {
      "model_module": "@jupyter-widgets/base",
      "model_module_version": "2.0.0",
      "model_name": "LayoutModel",
      "state": {}
     },
     "3e250cb51f814546a6e30bf56856004b": {
      "model_module": "@jupyter-widgets/controls",
      "model_module_version": "2.0.0",
      "model_name": "HTMLStyleModel",
      "state": {
       "description_width": "",
       "font_size": null,
       "text_color": null
      }
     },
     "3e44d3e9495946d494529868d8601044": {
      "model_module": "@jupyter-widgets/base",
      "model_module_version": "2.0.0",
      "model_name": "LayoutModel",
      "state": {}
     },
     "3e9fbf19964f4332a18913ca3773e094": {
      "model_module": "@jupyter-widgets/controls",
      "model_module_version": "2.0.0",
      "model_name": "HBoxModel",
      "state": {
       "children": [
        "IPY_MODEL_fbbd0ef0d39542a09afd4d7128a8dfb4",
        "IPY_MODEL_3c0075f6d8ad4ff0a77ee20ac5aab850",
        "IPY_MODEL_dc1cd091eccb41b9840a58b924d4281f"
       ],
       "layout": "IPY_MODEL_58a16a39a2ae4fd6a493da52d67d4213"
      }
     },
     "3ee2b841a3364d86a884a0f0b7c39edb": {
      "model_module": "@jupyter-widgets/controls",
      "model_module_version": "2.0.0",
      "model_name": "HTMLModel",
      "state": {
       "layout": "IPY_MODEL_58c8c386d3074741a0ec0cf601bcb536",
       "style": "IPY_MODEL_30725a5c92454b0eab96a308a7df6034",
       "value": "apply len_bytes to num_bytes: 100%"
      }
     },
     "3f1c401fdbc0415d88545fef67236288": {
      "model_module": "@jupyter-widgets/base",
      "model_module_version": "2.0.0",
      "model_name": "LayoutModel",
      "state": {}
     },
     "3f1c6f056df64731a109973affa8d987": {
      "model_module": "@jupyter-widgets/controls",
      "model_module_version": "2.0.0",
      "model_name": "HTMLStyleModel",
      "state": {
       "description_width": "",
       "font_size": null,
       "text_color": null
      }
     },
     "3f466baae0674abeaaccdbf9e39210ac": {
      "model_module": "@jupyter-widgets/base",
      "model_module_version": "2.0.0",
      "model_name": "LayoutModel",
      "state": {}
     },
     "3f6d81258e124d3e8cb0d93630a032f8": {
      "model_module": "@jupyter-widgets/controls",
      "model_module_version": "2.0.0",
      "model_name": "ProgressStyleModel",
      "state": {
       "description_width": ""
      }
     },
     "3f9728101cdc47fcb70959a566643c9e": {
      "model_module": "@jupyter-widgets/base",
      "model_module_version": "2.0.0",
      "model_name": "LayoutModel",
      "state": {}
     },
     "3fa50da172cd428fbe089788fc52e8b0": {
      "model_module": "@jupyter-widgets/controls",
      "model_module_version": "2.0.0",
      "model_name": "FloatProgressModel",
      "state": {
       "bar_style": "success",
       "layout": "IPY_MODEL_b919678a7fca4f55b4d0a42799ae4ca0",
       "max": 227,
       "style": "IPY_MODEL_fbdeed28da5b4df584e2a3ac3e86007b",
       "value": 227
      }
     },
     "3fb2af0342434f708527e604efe2845e": {
      "model_module": "@jupyter-widgets/controls",
      "model_module_version": "2.0.0",
      "model_name": "HBoxModel",
      "state": {
       "children": [
        "IPY_MODEL_9d677553772843c6bf91ddcfa1154f52",
        "IPY_MODEL_2432e2d65dc94e7dabcb3a0cd87f382d",
        "IPY_MODEL_7d8f2dfb4d954464830bd820b714e942"
       ],
       "layout": "IPY_MODEL_be0656d731ee43caabb66c90f124c6c2"
      }
     },
     "3fc80d97c3db4c5888000aea3aa0e1e9": {
      "model_module": "@jupyter-widgets/base",
      "model_module_version": "2.0.0",
      "model_name": "LayoutModel",
      "state": {}
     },
     "3ff25d42f41e4fafa36626733bba9f5b": {
      "model_module": "@jupyter-widgets/controls",
      "model_module_version": "2.0.0",
      "model_name": "FloatProgressModel",
      "state": {
       "bar_style": "success",
       "layout": "IPY_MODEL_73fe28429cdd4ca7a0f47a4adf9b65e4",
       "max": 199,
       "style": "IPY_MODEL_77c3f60d789541a8abbd630068274c2c",
       "value": 199
      }
     },
     "400b0abc939a46c0b1cfc364a4b659a8": {
      "model_module": "@jupyter-widgets/base",
      "model_module_version": "2.0.0",
      "model_name": "LayoutModel",
      "state": {}
     },
     "400c48922cff400eaf881ea8253d82de": {
      "model_module": "@jupyter-widgets/base",
      "model_module_version": "2.0.0",
      "model_name": "LayoutModel",
      "state": {}
     },
     "40350afeefb84b43ab4fb05617d8fa48": {
      "model_module": "@jupyter-widgets/base",
      "model_module_version": "2.0.0",
      "model_name": "LayoutModel",
      "state": {}
     },
     "408c4341242e4893b36550a6d2479691": {
      "model_module": "@jupyter-widgets/controls",
      "model_module_version": "2.0.0",
      "model_name": "ProgressStyleModel",
      "state": {
       "description_width": ""
      }
     },
     "4101610f6a8a405eae33283f98da981b": {
      "model_module": "@jupyter-widgets/base",
      "model_module_version": "2.0.0",
      "model_name": "LayoutModel",
      "state": {}
     },
     "4111cb1fd4224f3aad54bbd81531e341": {
      "model_module": "@jupyter-widgets/controls",
      "model_module_version": "2.0.0",
      "model_name": "HTMLModel",
      "state": {
       "layout": "IPY_MODEL_0a181c3fc98c436a893b1699872fe577",
       "style": "IPY_MODEL_686b4369e06d4aa98fd654099b9db57f",
       "value": "100%"
      }
     },
     "411d585924294862b6af501862219656": {
      "model_module": "@jupyter-widgets/controls",
      "model_module_version": "2.0.0",
      "model_name": "FloatProgressModel",
      "state": {
       "bar_style": "success",
       "layout": "IPY_MODEL_d01a7592b57541c7858209e428c4cb49",
       "max": 289,
       "style": "IPY_MODEL_666f8932da734cf98a41470028bc6819",
       "value": 289
      }
     },
     "418485c8c5814a41b1acecfba596ddfd": {
      "model_module": "@jupyter-widgets/controls",
      "model_module_version": "2.0.0",
      "model_name": "HTMLModel",
      "state": {
       "layout": "IPY_MODEL_7eba15f98a2e4fce8891cd578a8293ba",
       "style": "IPY_MODEL_df81454612514459bf4c6383caa97545",
       "value": "Epoch 2 of 2: 100%"
      }
     },
     "41b9cdf9640945d8b06148d9c871a7ad": {
      "model_module": "@jupyter-widgets/controls",
      "model_module_version": "2.0.0",
      "model_name": "HTMLStyleModel",
      "state": {
       "description_width": "",
       "font_size": null,
       "text_color": null
      }
     },
     "41f5b573d97d481fab09619f57ded0af": {
      "model_module": "@jupyter-widgets/controls",
      "model_module_version": "2.0.0",
      "model_name": "ProgressStyleModel",
      "state": {
       "description_width": ""
      }
     },
     "41fb866a5c654c9d92f48f7fd95aad7d": {
      "model_module": "@jupyter-widgets/base",
      "model_module_version": "2.0.0",
      "model_name": "LayoutModel",
      "state": {}
     },
     "42be8869d210462c9f9a5f15551039d7": {
      "model_module": "@jupyter-widgets/base",
      "model_module_version": "2.0.0",
      "model_name": "LayoutModel",
      "state": {}
     },
     "42c46e94685547989ee7d90aacb414bc": {
      "model_module": "@jupyter-widgets/base",
      "model_module_version": "2.0.0",
      "model_name": "LayoutModel",
      "state": {}
     },
     "42d19e39bef24f908f5e876011000b0a": {
      "model_module": "@jupyter-widgets/controls",
      "model_module_version": "2.0.0",
      "model_name": "FloatProgressModel",
      "state": {
       "bar_style": "success",
       "layout": "IPY_MODEL_948c24aa920c4f2981eaec1e4458e0bb",
       "max": 2,
       "style": "IPY_MODEL_58c378ab1a6a42b38984caa4c097be7b",
       "value": 2
      }
     },
     "431e0ede46804f199ddd0707b100b328": {
      "model_module": "@jupyter-widgets/controls",
      "model_module_version": "2.0.0",
      "model_name": "HBoxModel",
      "state": {
       "children": [
        "IPY_MODEL_532f71d7442349ffabd7e4611f63ebe7",
        "IPY_MODEL_ecf0e7152bf24c498751388a95c218ae",
        "IPY_MODEL_33f6811536d344a4be988bfeee0ab551"
       ],
       "layout": "IPY_MODEL_11dbb5c388cd4a73821535c1e75351d2"
      }
     },
     "4364c7cf9c894b44bd4a0a0ad93e913e": {
      "model_module": "@jupyter-widgets/controls",
      "model_module_version": "2.0.0",
      "model_name": "LabelModel",
      "state": {
       "layout": "IPY_MODEL_eed0570166f3425d86c53b84c697afd6",
       "style": "IPY_MODEL_2ed257bd5c694ac8b7e2715752f32c65"
      }
     },
     "43c81b0c8b5f471aaba96ad9ccc3b8a9": {
      "model_module": "@jupyter-widgets/controls",
      "model_module_version": "2.0.0",
      "model_name": "HTMLModel",
      "state": {
       "layout": "IPY_MODEL_c394a6a35c07414a9e120e9e893217f0",
       "style": "IPY_MODEL_82dd0714bcee4ddaa81088e48a944045",
       "value": "100%"
      }
     },
     "43d196bfd7fe49e99955f9f59e3e5537": {
      "model_module": "@jupyter-widgets/controls",
      "model_module_version": "2.0.0",
      "model_name": "LabelModel",
      "state": {
       "layout": "IPY_MODEL_4101610f6a8a405eae33283f98da981b",
       "style": "IPY_MODEL_accbffb41d6248c695dfb3665d5d2fb2",
       "value": "0.016 MB of 0.016 MB uploaded (0.000 MB deduped)\r"
      }
     },
     "43d8f66829214accbb108dfbe3b5dc69": {
      "model_module": "@jupyter-widgets/controls",
      "model_module_version": "2.0.0",
      "model_name": "HTMLStyleModel",
      "state": {
       "description_width": "",
       "font_size": null,
       "text_color": null
      }
     },
     "4430172b61ea4a07b9d877bc031ef299": {
      "model_module": "@jupyter-widgets/base",
      "model_module_version": "2.0.0",
      "model_name": "LayoutModel",
      "state": {}
     },
     "44446ca061eb4348950cc8f709137682": {
      "model_module": "@jupyter-widgets/controls",
      "model_module_version": "2.0.0",
      "model_name": "HBoxModel",
      "state": {
       "children": [
        "IPY_MODEL_f6448e9689e34d639aaa8bf9e6889c0e",
        "IPY_MODEL_b2edec372c5a455aaf189277bf2f54cc",
        "IPY_MODEL_12168e9188d34713a9223f88735e725a"
       ],
       "layout": "IPY_MODEL_2410357b89134ebea04b41006209f46a"
      }
     },
     "444df19b1aa64282bd8ab6fb56349384": {
      "model_module": "@jupyter-widgets/controls",
      "model_module_version": "2.0.0",
      "model_name": "HTMLModel",
      "state": {
       "layout": "IPY_MODEL_74f38c672946488f9c5f83ebdcf35bd0",
       "style": "IPY_MODEL_c6068e5cbec741ba8f9aeee40b8e709d",
       "value": " 222/222 [00:00&lt;00:00, 868.85it/s]"
      }
     },
     "44809047a027482e924b1388619f979e": {
      "model_module": "@jupyter-widgets/controls",
      "model_module_version": "2.0.0",
      "model_name": "HTMLModel",
      "state": {
       "layout": "IPY_MODEL_69d2fe5f353449409f4069dc3dfc77f4",
       "style": "IPY_MODEL_7569ced57528416994e778af302c0bb2",
       "value": " 2/2 [01:14&lt;00:00, 36.23s/it]"
      }
     },
     "449ae8a38c0a4d1ebab4b7f2cdd42696": {
      "model_module": "@jupyter-widgets/controls",
      "model_module_version": "2.0.0",
      "model_name": "HTMLStyleModel",
      "state": {
       "description_width": "",
       "font_size": null,
       "text_color": null
      }
     },
     "44a62d24f280462495de74eab0aacd9b": {
      "model_module": "@jupyter-widgets/base",
      "model_module_version": "2.0.0",
      "model_name": "LayoutModel",
      "state": {}
     },
     "44a869529db24ede954d3a7bd841de46": {
      "model_module": "@jupyter-widgets/base",
      "model_module_version": "2.0.0",
      "model_name": "LayoutModel",
      "state": {}
     },
     "44c04fb32eb04e979ff8a7a57f1985c1": {
      "model_module": "@jupyter-widgets/base",
      "model_module_version": "2.0.0",
      "model_name": "LayoutModel",
      "state": {}
     },
     "44c5671854fc47759f8a141a9c7cad63": {
      "model_module": "@jupyter-widgets/controls",
      "model_module_version": "2.0.0",
      "model_name": "HTMLModel",
      "state": {
       "layout": "IPY_MODEL_c197cdd4288949eca9b8d6eef2c7484e",
       "style": "IPY_MODEL_16a219656d24485686f4aa50480927ea",
       "value": "Epoch 2 of 2: 100%"
      }
     },
     "44cb4e10a7754038b00e19727838ca11": {
      "model_module": "@jupyter-widgets/base",
      "model_module_version": "2.0.0",
      "model_name": "LayoutModel",
      "state": {}
     },
     "44cfd480a2c643e683843dbf46863589": {
      "model_module": "@jupyter-widgets/base",
      "model_module_version": "2.0.0",
      "model_name": "LayoutModel",
      "state": {}
     },
     "44d31c080da24552818cec412fcba290": {
      "model_module": "@jupyter-widgets/controls",
      "model_module_version": "2.0.0",
      "model_name": "ProgressStyleModel",
      "state": {
       "description_width": ""
      }
     },
     "451fd93d89bf4c6b8161bcc9d7cb5e37": {
      "model_module": "@jupyter-widgets/base",
      "model_module_version": "2.0.0",
      "model_name": "LayoutModel",
      "state": {}
     },
     "453b5312a68048b7823e9da54f35b654": {
      "model_module": "@jupyter-widgets/controls",
      "model_module_version": "2.0.0",
      "model_name": "HTMLStyleModel",
      "state": {
       "description_width": "",
       "font_size": null,
       "text_color": null
      }
     },
     "4578724ee906465e80c7c16a5a7c3be2": {
      "model_module": "@jupyter-widgets/base",
      "model_module_version": "2.0.0",
      "model_name": "LayoutModel",
      "state": {}
     },
     "4589016dee4c4ce7be129eb5fca4be86": {
      "model_module": "@jupyter-widgets/controls",
      "model_module_version": "2.0.0",
      "model_name": "ProgressStyleModel",
      "state": {
       "description_width": ""
      }
     },
     "45f157f1962a465493913097d096a312": {
      "model_module": "@jupyter-widgets/base",
      "model_module_version": "2.0.0",
      "model_name": "LayoutModel",
      "state": {}
     },
     "461cb1051c2a489a99670b0b330df3d0": {
      "model_module": "@jupyter-widgets/controls",
      "model_module_version": "2.0.0",
      "model_name": "HTMLStyleModel",
      "state": {
       "description_width": "",
       "font_size": null,
       "text_color": null
      }
     },
     "463613f28a4e475a85ec7ed999f95765": {
      "model_module": "@jupyter-widgets/controls",
      "model_module_version": "2.0.0",
      "model_name": "HBoxModel",
      "state": {
       "children": [
        "IPY_MODEL_85b4150fc3ec4db9bd9fa98653e277c7",
        "IPY_MODEL_c8b70245064c4d6ba69ed2c62e5b42b8",
        "IPY_MODEL_38ba5cb117bc4992a1f288d3eeadadf2"
       ],
       "layout": "IPY_MODEL_2b02b49880f242d884cad8720f64da07"
      }
     },
     "463c46c4c81a48b3bb96fb5290b89f84": {
      "model_module": "@jupyter-widgets/controls",
      "model_module_version": "2.0.0",
      "model_name": "HTMLModel",
      "state": {
       "layout": "IPY_MODEL_0fce96cd3bef4b5f977ca7a7516fe7e0",
       "style": "IPY_MODEL_b7294ebe70874cdf9f9a5619b4825654",
       "value": " 29.5M/? [00:00&lt;00:00, 81.4MB/s]"
      }
     },
     "464821be88bc43948d08d2bd98b5c62d": {
      "model_module": "@jupyter-widgets/controls",
      "model_module_version": "2.0.0",
      "model_name": "HBoxModel",
      "state": {
       "children": [
        "IPY_MODEL_bff09813f27445e089a710dbea9ae55f",
        "IPY_MODEL_21e4ae1e2cc24dfa8ad387db621a8748",
        "IPY_MODEL_d883898e1c414ec290aff47258ca3180"
       ],
       "layout": "IPY_MODEL_5776a05988894ddbbd1ec8ff3230f89c"
      }
     },
     "465327e7b06a4146b8e3e7a1752144d1": {
      "model_module": "@jupyter-widgets/base",
      "model_module_version": "2.0.0",
      "model_name": "LayoutModel",
      "state": {}
     },
     "46b2318bb6124fcdbc7f9b14872a58b4": {
      "model_module": "@jupyter-widgets/base",
      "model_module_version": "2.0.0",
      "model_name": "LayoutModel",
      "state": {}
     },
     "46c3da6a6d5e4d72be98a7c04ecebbb0": {
      "model_module": "@jupyter-widgets/base",
      "model_module_version": "2.0.0",
      "model_name": "LayoutModel",
      "state": {}
     },
     "46ca7b2a95d54f3cb5919bd9460109de": {
      "model_module": "@jupyter-widgets/base",
      "model_module_version": "2.0.0",
      "model_name": "LayoutModel",
      "state": {}
     },
     "46dadeff6e214f7fafede4370fb53361": {
      "model_module": "@jupyter-widgets/controls",
      "model_module_version": "2.0.0",
      "model_name": "HBoxModel",
      "state": {
       "children": [
        "IPY_MODEL_3a6bdd5770494c5aa4bf388068184155",
        "IPY_MODEL_55de4e717ccc4d5ebbec75ca1ce31e59",
        "IPY_MODEL_1316ab564119457487e3f57ff9c0ee04"
       ],
       "layout": "IPY_MODEL_2551342c6f0949da96568e10d2a44adb"
      }
     },
     "46dfe898c09c4818882b34977496e6fb": {
      "model_module": "@jupyter-widgets/base",
      "model_module_version": "2.0.0",
      "model_name": "LayoutModel",
      "state": {}
     },
     "46e7000d4e854457a59617dcbff0de66": {
      "model_module": "@jupyter-widgets/controls",
      "model_module_version": "2.0.0",
      "model_name": "ProgressStyleModel",
      "state": {
       "description_width": ""
      }
     },
     "46e7acd8b0b6402ca3febbe5c2c9e566": {
      "model_module": "@jupyter-widgets/base",
      "model_module_version": "2.0.0",
      "model_name": "LayoutModel",
      "state": {}
     },
     "473e434bde464355afcd2becb0c65926": {
      "model_module": "@jupyter-widgets/controls",
      "model_module_version": "2.0.0",
      "model_name": "FloatProgressModel",
      "state": {
       "bar_style": "success",
       "layout": "IPY_MODEL_57fda4fe5c644403a76bbf5c85f8e448",
       "max": 2,
       "style": "IPY_MODEL_21920d9d11c4480898e99a8495230ab0",
       "value": 2
      }
     },
     "476372c2fc1044a79bff72832cb0ed87": {
      "model_module": "@jupyter-widgets/controls",
      "model_module_version": "2.0.0",
      "model_name": "FloatProgressModel",
      "state": {
       "bar_style": "success",
       "layout": "IPY_MODEL_bb6314452e7a4e0ebc67b7bff8496f76",
       "max": 2,
       "style": "IPY_MODEL_88bdb19b7fba4c72a0c6e5de98d874b0",
       "value": 2
      }
     },
     "478746f02f974cad852533a3e2c3e45c": {
      "model_module": "@jupyter-widgets/controls",
      "model_module_version": "2.0.0",
      "model_name": "ProgressStyleModel",
      "state": {
       "description_width": ""
      }
     },
     "478d94f56ca84a65b9a188692209c04e": {
      "model_module": "@jupyter-widgets/controls",
      "model_module_version": "2.0.0",
      "model_name": "HTMLStyleModel",
      "state": {
       "description_width": "",
       "font_size": null,
       "text_color": null
      }
     },
     "478ddc93a13740739b41b968f563d356": {
      "model_module": "@jupyter-widgets/controls",
      "model_module_version": "2.0.0",
      "model_name": "ProgressStyleModel",
      "state": {
       "description_width": ""
      }
     },
     "47a5047e624141d98bba627292a2a59f": {
      "model_module": "@jupyter-widgets/base",
      "model_module_version": "2.0.0",
      "model_name": "LayoutModel",
      "state": {}
     },
     "47ace44f61ea49fd8e36a460cc525286": {
      "model_module": "@jupyter-widgets/base",
      "model_module_version": "2.0.0",
      "model_name": "LayoutModel",
      "state": {}
     },
     "47be25d9996a499382f3ed7f461fba4b": {
      "model_module": "@jupyter-widgets/controls",
      "model_module_version": "2.0.0",
      "model_name": "HTMLModel",
      "state": {
       "layout": "IPY_MODEL_5709dbb199d44c79b35bcc19be5a769f",
       "style": "IPY_MODEL_7e774a2034464fa7a1ccb05d2b8cc61b",
       "value": " 199/199 [00:00&lt;00:00, 1019.40it/s]"
      }
     },
     "47c7a8d4476e4ac78d36dba22b43153d": {
      "model_module": "@jupyter-widgets/base",
      "model_module_version": "2.0.0",
      "model_name": "LayoutModel",
      "state": {}
     },
     "47caa0bc51ca4b5483d9015fd089b3c1": {
      "model_module": "@jupyter-widgets/controls",
      "model_module_version": "2.0.0",
      "model_name": "ProgressStyleModel",
      "state": {
       "description_width": ""
      }
     },
     "47d70498bc084590b36b3145e9bcb1dc": {
      "model_module": "@jupyter-widgets/controls",
      "model_module_version": "2.0.0",
      "model_name": "HTMLModel",
      "state": {
       "layout": "IPY_MODEL_6d672000795f4d20b8d81874ce2a8218",
       "style": "IPY_MODEL_df385d8bbaed4d1a8fc6337068626f2d",
       "value": " 7074/7074 [00:03&lt;00:00, 2215.65it/s]"
      }
     },
     "47fb6509b3304e639d04a33d35492178": {
      "model_module": "@jupyter-widgets/controls",
      "model_module_version": "2.0.0",
      "model_name": "HTMLStyleModel",
      "state": {
       "description_width": "",
       "font_size": null,
       "text_color": null
      }
     },
     "47feace3e0424d5ba15736e0f2ae07ca": {
      "model_module": "@jupyter-widgets/controls",
      "model_module_version": "2.0.0",
      "model_name": "HTMLStyleModel",
      "state": {
       "description_width": "",
       "font_size": null,
       "text_color": null
      }
     },
     "48082f29eed74b159a3236162b3a5382": {
      "model_module": "@jupyter-widgets/controls",
      "model_module_version": "2.0.0",
      "model_name": "HBoxModel",
      "state": {
       "children": [
        "IPY_MODEL_7f4fc004955e4d868ac9a3d9b6ad8f12",
        "IPY_MODEL_d6a14ad96c51431bbc1fa5b87a21fd17",
        "IPY_MODEL_463c46c4c81a48b3bb96fb5290b89f84"
       ],
       "layout": "IPY_MODEL_2d1a6ac9947744c791205a9819d28439"
      }
     },
     "4832b2429baf4b2fa89b73b504fcfbad": {
      "model_module": "@jupyter-widgets/base",
      "model_module_version": "2.0.0",
      "model_name": "LayoutModel",
      "state": {}
     },
     "485c260e49b1499790459a4698e1d267": {
      "model_module": "@jupyter-widgets/base",
      "model_module_version": "2.0.0",
      "model_name": "LayoutModel",
      "state": {}
     },
     "485fc292c2af46518524ba035a3d58f1": {
      "model_module": "@jupyter-widgets/controls",
      "model_module_version": "2.0.0",
      "model_name": "HBoxModel",
      "state": {
       "children": [
        "IPY_MODEL_68cb5872864b481daae9242932658df2",
        "IPY_MODEL_f8d6d05f4bb241a89b3f2e3f04a389b3",
        "IPY_MODEL_d0eeea3944c944669c2c3d77d2fbe26a"
       ],
       "layout": "IPY_MODEL_f3a4ffe33ae8491a917c037ba3382767"
      }
     },
     "487d652f543d4974a712e15885a84370": {
      "model_module": "@jupyter-widgets/base",
      "model_module_version": "2.0.0",
      "model_name": "LayoutModel",
      "state": {}
     },
     "48a5ed14694b415997b2ad645af2d076": {
      "model_module": "@jupyter-widgets/base",
      "model_module_version": "2.0.0",
      "model_name": "LayoutModel",
      "state": {}
     },
     "48e15d964519409897345e691124eb6d": {
      "model_module": "@jupyter-widgets/controls",
      "model_module_version": "2.0.0",
      "model_name": "FloatProgressModel",
      "state": {
       "bar_style": "success",
       "layout": "IPY_MODEL_8a9e3d12f4d64d41924196db07338e48",
       "max": 1106,
       "style": "IPY_MODEL_7489d51374f443e6b04eb5192b581ebd",
       "value": 1106
      }
     },
     "494ae0eff68e47f4bac1006aefde5809": {
      "model_module": "@jupyter-widgets/controls",
      "model_module_version": "2.0.0",
      "model_name": "FloatProgressModel",
      "state": {
       "bar_style": "success",
       "layout": "IPY_MODEL_485c260e49b1499790459a4698e1d267",
       "max": 199,
       "style": "IPY_MODEL_72463e7b885348aabf5885ebe49530df",
       "value": 199
      }
     },
     "4966ac9e608242cf86b705ab7b68ebf7": {
      "model_module": "@jupyter-widgets/base",
      "model_module_version": "2.0.0",
      "model_name": "LayoutModel",
      "state": {}
     },
     "4979c7fd304746eabcc34a99ad303d8a": {
      "model_module": "@jupyter-widgets/controls",
      "model_module_version": "2.0.0",
      "model_name": "HBoxModel",
      "state": {
       "children": [
        "IPY_MODEL_97cc27b3bac74e1ea45fdd7542d84cf1",
        "IPY_MODEL_33c1c274ecfe489fb739b65255b86ce9",
        "IPY_MODEL_380e256d722445cface10e5dfc3218e7"
       ],
       "layout": "IPY_MODEL_21be480cb6d8428cacffc9b55ff86f59"
      }
     },
     "499140b83591456696fd8297519fcada": {
      "model_module": "@jupyter-widgets/controls",
      "model_module_version": "2.0.0",
      "model_name": "HTMLStyleModel",
      "state": {
       "description_width": "",
       "font_size": null,
       "text_color": null
      }
     },
     "49aeef49484b4e0aacef98ab600b7f1a": {
      "model_module": "@jupyter-widgets/controls",
      "model_module_version": "2.0.0",
      "model_name": "LabelModel",
      "state": {
       "layout": "IPY_MODEL_ebce17870b3f462d9a790f74b444dea0",
       "style": "IPY_MODEL_ffdaff8c82ac4078bce14eaa9c5eaaf1"
      }
     },
     "49dfc7b3918648fdaf51ab7f5d90d1ac": {
      "model_module": "@jupyter-widgets/base",
      "model_module_version": "2.0.0",
      "model_name": "LayoutModel",
      "state": {}
     },
     "49ea10b6aa2e407194add2f5c7bc698a": {
      "model_module": "@jupyter-widgets/controls",
      "model_module_version": "2.0.0",
      "model_name": "ProgressStyleModel",
      "state": {
       "description_width": ""
      }
     },
     "49f9b18a48984aca96fcbddfeb7d8b16": {
      "model_module": "@jupyter-widgets/controls",
      "model_module_version": "2.0.0",
      "model_name": "FloatProgressModel",
      "state": {
       "layout": "IPY_MODEL_0e0aede584484dbbb2d4fe5d740bede3",
       "max": 1,
       "style": "IPY_MODEL_306b068c50054b22bb55f7eea6849e69",
       "value": 1
      }
     },
     "4a15f4a5a3ce4fd49a34cb567494e219": {
      "model_module": "@jupyter-widgets/controls",
      "model_module_version": "2.0.0",
      "model_name": "ProgressStyleModel",
      "state": {
       "description_width": ""
      }
     },
     "4a7a99af810942699fda1fe94f3b06c8": {
      "model_module": "@jupyter-widgets/controls",
      "model_module_version": "2.0.0",
      "model_name": "FloatProgressModel",
      "state": {
       "layout": "IPY_MODEL_adcd8e99e7074e71a295231426d9ff5a",
       "max": 1,
       "style": "IPY_MODEL_5b1470d25b7c4c559350d02de647ea8b",
       "value": 1
      }
     },
     "4aa76a3b913a4bed86cbc30c1243e8f6": {
      "model_module": "@jupyter-widgets/controls",
      "model_module_version": "2.0.0",
      "model_name": "VBoxModel",
      "state": {
       "children": [
        "IPY_MODEL_7ad95afe38514ea0af0f565138b1efd0",
        "IPY_MODEL_eb510e8899c74501a820e8218c757693"
       ],
       "layout": "IPY_MODEL_d404a95884b14f00b4c04847d7595054"
      }
     },
     "4ac6456ff68a419b8fc9fd7cb2accbb1": {
      "model_module": "@jupyter-widgets/controls",
      "model_module_version": "2.0.0",
      "model_name": "HTMLStyleModel",
      "state": {
       "description_width": "",
       "font_size": null,
       "text_color": null
      }
     },
     "4acd0cd5c17e42f0b9402aec2ad3c7d1": {
      "model_module": "@jupyter-widgets/base",
      "model_module_version": "2.0.0",
      "model_name": "LayoutModel",
      "state": {}
     },
     "4ada9a02ffaf438c815e4f105143c50e": {
      "model_module": "@jupyter-widgets/base",
      "model_module_version": "2.0.0",
      "model_name": "LayoutModel",
      "state": {}
     },
     "4b7abe7c4f654debbb4de8347cc0cd90": {
      "model_module": "@jupyter-widgets/controls",
      "model_module_version": "2.0.0",
      "model_name": "HTMLStyleModel",
      "state": {
       "description_width": "",
       "font_size": null,
       "text_color": null
      }
     },
     "4b88cd1367fe4cdc9a2913266c25c1f6": {
      "model_module": "@jupyter-widgets/controls",
      "model_module_version": "2.0.0",
      "model_name": "LabelModel",
      "state": {
       "layout": "IPY_MODEL_98c05bc9dd154dbda0408961df2f6565",
       "style": "IPY_MODEL_88ace341b2b9461885a0a84e6bc25004"
      }
     },
     "4bca6ddc519d486e80e9219ee3d76540": {
      "model_module": "@jupyter-widgets/base",
      "model_module_version": "2.0.0",
      "model_name": "LayoutModel",
      "state": {}
     },
     "4bfd24df738a47668fa11b1f98c4f890": {
      "model_module": "@jupyter-widgets/controls",
      "model_module_version": "2.0.0",
      "model_name": "HBoxModel",
      "state": {
       "children": [
        "IPY_MODEL_1cd0e9a48cf54a2d94cd434f6bd9be7a",
        "IPY_MODEL_10a85757d53d4d6b89486566f89470b6",
        "IPY_MODEL_e35ab8c501be4e1ea8b6651e0688f651"
       ],
       "layout": "IPY_MODEL_ceffec6cfce14926867cdbad7a3bb467"
      }
     },
     "4c25bc9497714dec910955d4075d830b": {
      "model_module": "@jupyter-widgets/controls",
      "model_module_version": "2.0.0",
      "model_name": "HTMLModel",
      "state": {
       "layout": "IPY_MODEL_15794e0baf404a10b4ca4c8940bee8b0",
       "style": "IPY_MODEL_de76bad3e65e4eb58a29a8182d753e95",
       "value": " 289/289 [00:33&lt;00:00, 10.58it/s]"
      }
     },
     "4c61ca2de49a409ca16309f1754d2ee5": {
      "model_module": "@jupyter-widgets/controls",
      "model_module_version": "2.0.0",
      "model_name": "DescriptionStyleModel",
      "state": {
       "description_width": ""
      }
     },
     "4c7ca2b4365f464abed332ecce507d27": {
      "model_module": "@jupyter-widgets/controls",
      "model_module_version": "2.0.0",
      "model_name": "ProgressStyleModel",
      "state": {
       "description_width": ""
      }
     },
     "4caa074583fd443d96149f3c9e116915": {
      "model_module": "@jupyter-widgets/controls",
      "model_module_version": "2.0.0",
      "model_name": "ProgressStyleModel",
      "state": {
       "description_width": ""
      }
     },
     "4cd1321c74ed4ec0b35a69b6c1e136b3": {
      "model_module": "@jupyter-widgets/base",
      "model_module_version": "2.0.0",
      "model_name": "LayoutModel",
      "state": {}
     },
     "4d00e40df1e14461ad6e2039b27ff2f1": {
      "model_module": "@jupyter-widgets/base",
      "model_module_version": "2.0.0",
      "model_name": "LayoutModel",
      "state": {}
     },
     "4d0760a744ed45ef959cccb00234b443": {
      "model_module": "@jupyter-widgets/base",
      "model_module_version": "2.0.0",
      "model_name": "LayoutModel",
      "state": {}
     },
     "4d6a77a8bce943e79f21cf1478a2a6a1": {
      "model_module": "@jupyter-widgets/controls",
      "model_module_version": "2.0.0",
      "model_name": "HTMLStyleModel",
      "state": {
       "description_width": "",
       "font_size": null,
       "text_color": null
      }
     },
     "4d736b5da1254c4c9a8f3b7c2b5867a6": {
      "model_module": "@jupyter-widgets/controls",
      "model_module_version": "2.0.0",
      "model_name": "FloatProgressModel",
      "state": {
       "bar_style": "success",
       "layout": "IPY_MODEL_c8e7ff2f97184c61ad898489bdb71a36",
       "max": 7074,
       "style": "IPY_MODEL_4caa074583fd443d96149f3c9e116915",
       "value": 7074
      }
     },
     "4d87964682eb43c984965c576f18b70d": {
      "model_module": "@jupyter-widgets/controls",
      "model_module_version": "2.0.0",
      "model_name": "FloatProgressModel",
      "state": {
       "bar_style": "success",
       "layout": "IPY_MODEL_e1c17ade45c140a88e84a12a540df01c",
       "max": 442525507,
       "style": "IPY_MODEL_8f800b64fc254dbdbd87c68f7f6490bd",
       "value": 442525507
      }
     },
     "4db98914f9bb4aa38fcde4a11735e664": {
      "model_module": "@jupyter-widgets/controls",
      "model_module_version": "2.0.0",
      "model_name": "FloatProgressModel",
      "state": {
       "bar_style": "success",
       "layout": "IPY_MODEL_35b38cde00b14b6eb0b1bfe9f078d393",
       "max": 36,
       "style": "IPY_MODEL_97a828be31ba4c5b9d53aef61ab5327e",
       "value": 36
      }
     },
     "4dbee2d2c2de4666a7710e928d466835": {
      "model_module": "@jupyter-widgets/controls",
      "model_module_version": "2.0.0",
      "model_name": "HTMLModel",
      "state": {
       "layout": "IPY_MODEL_d861a4bd2a144aca91d80a8aad768ec8",
       "style": "IPY_MODEL_74b7c236ee864d969d3788d125187527",
       "value": " 8953/8953 [00:04&lt;00:00, 1236.85it/s]"
      }
     },
     "4de9106cdafc45b5a5a30e88a3cb0052": {
      "model_module": "@jupyter-widgets/controls",
      "model_module_version": "2.0.0",
      "model_name": "HBoxModel",
      "state": {
       "children": [
        "IPY_MODEL_8f9ec140dd004f47b1f31659534c2453",
        "IPY_MODEL_9f20c4346bac46d69e274f75b1b8f075",
        "IPY_MODEL_d5cdf7ed8f1941d298eac651c8eeab18"
       ],
       "layout": "IPY_MODEL_8455e80f8ebf410199709b98d9addef5"
      }
     },
     "4e3a031290e9458f9b695f614f2eac4e": {
      "model_module": "@jupyter-widgets/base",
      "model_module_version": "2.0.0",
      "model_name": "LayoutModel",
      "state": {}
     },
     "4e4abd4f469043eca51c103ac17155d9": {
      "model_module": "@jupyter-widgets/controls",
      "model_module_version": "2.0.0",
      "model_name": "FloatProgressModel",
      "state": {
       "bar_style": "success",
       "layout": "IPY_MODEL_6946e84667df44c190a25067364d5c5f",
       "max": 222,
       "style": "IPY_MODEL_c8f55a4266264684a42e6ecef507cfcc",
       "value": 222
      }
     },
     "4e5fd10d893c4337b803d8c00f6ca357": {
      "model_module": "@jupyter-widgets/base",
      "model_module_version": "2.0.0",
      "model_name": "LayoutModel",
      "state": {}
     },
     "4e74fe5272c944e3a5e321db4ea911ff": {
      "model_module": "@jupyter-widgets/controls",
      "model_module_version": "2.0.0",
      "model_name": "LabelModel",
      "state": {
       "layout": "IPY_MODEL_896ea0c13eb24b2da6c82ad7193ac3c3",
       "style": "IPY_MODEL_15966710348d40b3b4540ff9a3a1f967",
       "value": "0.016 MB of 0.016 MB uploaded (0.000 MB deduped)\r"
      }
     },
     "4e846972960a4dfcb8352ebc5720dc82": {
      "model_module": "@jupyter-widgets/controls",
      "model_module_version": "2.0.0",
      "model_name": "HTMLModel",
      "state": {
       "layout": "IPY_MODEL_46ca7b2a95d54f3cb5919bd9460109de",
       "style": "IPY_MODEL_5bf287e628cb4fa0896306d4f2ae44c3",
       "value": " 2211/2211 [00:01&lt;00:00, 2168.96it/s]"
      }
     },
     "4ed0a8434b6f47a4ab1d99bbadf0b5cb": {
      "model_module": "@jupyter-widgets/base",
      "model_module_version": "2.0.0",
      "model_name": "LayoutModel",
      "state": {}
     },
     "4f32803ac75142769ef99044f617d04f": {
      "model_module": "@jupyter-widgets/base",
      "model_module_version": "2.0.0",
      "model_name": "LayoutModel",
      "state": {}
     },
     "4f5a965d3ab44ca08441c739b8d80c52": {
      "model_module": "@jupyter-widgets/controls",
      "model_module_version": "2.0.0",
      "model_name": "HTMLModel",
      "state": {
       "layout": "IPY_MODEL_f3beebfd152b48d9b8739aefe7f9f785",
       "style": "IPY_MODEL_cb699ddfda4446d0a4549d063c5459f6",
       "value": "100%"
      }
     },
     "4f7d20b531634c2b9b0e74162d81adba": {
      "model_module": "@jupyter-widgets/controls",
      "model_module_version": "2.0.0",
      "model_name": "HBoxModel",
      "state": {
       "children": [
        "IPY_MODEL_f16b842679574e4b853f4bf4d433412f",
        "IPY_MODEL_2a9a1cf245214f7a994c721340284f49",
        "IPY_MODEL_798d16d2fda649e89eb84d6bcdbd2ca2"
       ],
       "layout": "IPY_MODEL_f0f93505b1324962ae1fd4371b4e9644"
      }
     },
     "4f8a7efc0ab34c51b8628840aed945cf": {
      "model_module": "@jupyter-widgets/base",
      "model_module_version": "2.0.0",
      "model_name": "LayoutModel",
      "state": {}
     },
     "4fab3281029041d895b5c1c7347e4aea": {
      "model_module": "@jupyter-widgets/controls",
      "model_module_version": "2.0.0",
      "model_name": "FloatProgressModel",
      "state": {
       "bar_style": "success",
       "layout": "IPY_MODEL_ebe8ecff575f4b6f90432acc487ff9cd",
       "max": 8953,
       "style": "IPY_MODEL_136645467ea2403f8b9fd246fbe75348",
       "value": 8953
      }
     },
     "4fe5f03d1943423591fd2e9a9e2765c3": {
      "model_module": "@jupyter-widgets/controls",
      "model_module_version": "2.0.0",
      "model_name": "HBoxModel",
      "state": {
       "children": [
        "IPY_MODEL_c413c4d99bdf4fae8484ef90d244ab18",
        "IPY_MODEL_6b884e5b66d240fa978beec0211cfa1b",
        "IPY_MODEL_cbee27f18f034b63a95eadf185f7207c"
       ],
       "layout": "IPY_MODEL_aaf1e3ab6f9843d88ebca29fa6aaf86c"
      }
     },
     "506bcd9f5dcc4d34b086f41b975c74c2": {
      "model_module": "@jupyter-widgets/controls",
      "model_module_version": "2.0.0",
      "model_name": "ProgressStyleModel",
      "state": {
       "description_width": ""
      }
     },
     "507b8fa7d56e463f9cd8431fb73c4dc5": {
      "model_module": "@jupyter-widgets/controls",
      "model_module_version": "2.0.0",
      "model_name": "HBoxModel",
      "state": {
       "children": [
        "IPY_MODEL_33640c1202e84d899309f5ddc9b94302",
        "IPY_MODEL_ed32ed84ab534d75bcde82ce943ccf93",
        "IPY_MODEL_444df19b1aa64282bd8ab6fb56349384"
       ],
       "layout": "IPY_MODEL_d61204c43dbd446d97b7e20db0b09765"
      }
     },
     "508c51baf45046089143c4f1d6f082d3": {
      "model_module": "@jupyter-widgets/controls",
      "model_module_version": "2.0.0",
      "model_name": "HTMLModel",
      "state": {
       "layout": "IPY_MODEL_a9223e8b50714643bff2a0351ae24953",
       "style": "IPY_MODEL_7a351fd95be64b9e916ea46a575f9ef1",
       "value": " 1/1 [00:03&lt;00:00,  3.84s/it]"
      }
     },
     "50b3b4d64f224d9fa3145db383ef81d3": {
      "model_module": "@jupyter-widgets/controls",
      "model_module_version": "2.0.0",
      "model_name": "HBoxModel",
      "state": {
       "children": [
        "IPY_MODEL_db2ff0db1eab4954b1b0ba4d15663697",
        "IPY_MODEL_d97cbcdd63334003af51eec8c80c6720",
        "IPY_MODEL_a08d6bc5f0aa4d97aa6dcb86994d3228"
       ],
       "layout": "IPY_MODEL_58ef13fa4de4402da4b971224b57e0ff"
      }
     },
     "50bbd5c04fa346cfaf6059761482f78f": {
      "model_module": "@jupyter-widgets/controls",
      "model_module_version": "2.0.0",
      "model_name": "HBoxModel",
      "state": {
       "children": [
        "IPY_MODEL_c76f6517c7d24f8fbc68059839cc1e5d",
        "IPY_MODEL_33a5e6a9cfde4ceda077b02808f1d87a",
        "IPY_MODEL_12434805dcf144a486b50d787fda8b6b"
       ],
       "layout": "IPY_MODEL_8dd75841bfdf4568991062e9a69796f9"
      }
     },
     "50e3e3a7174d45a79dd7084105d398e7": {
      "model_module": "@jupyter-widgets/controls",
      "model_module_version": "2.0.0",
      "model_name": "ProgressStyleModel",
      "state": {
       "description_width": ""
      }
     },
     "50e81a0087e045beb39fbb3e19af43cc": {
      "model_module": "@jupyter-widgets/controls",
      "model_module_version": "2.0.0",
      "model_name": "FloatProgressModel",
      "state": {
       "bar_style": "success",
       "layout": "IPY_MODEL_d94fcdd5767c4e47a28b90a1b7da0f54",
       "max": 289,
       "style": "IPY_MODEL_ef4eb246635f4ffa91f04b341d7d14eb",
       "value": 289
      }
     },
     "512233cc6b4e4e8184f3014c52178261": {
      "model_module": "@jupyter-widgets/controls",
      "model_module_version": "2.0.0",
      "model_name": "HTMLStyleModel",
      "state": {
       "description_width": "",
       "font_size": null,
       "text_color": null
      }
     },
     "51266cc9ff6647b3a9c77c39e6ccb359": {
      "model_module": "@jupyter-widgets/base",
      "model_module_version": "2.0.0",
      "model_name": "LayoutModel",
      "state": {}
     },
     "5159bff5c5cb425bb488a2751da3b27f": {
      "model_module": "@jupyter-widgets/base",
      "model_module_version": "2.0.0",
      "model_name": "LayoutModel",
      "state": {}
     },
     "515c7c4112ce499388f303d19d254d0b": {
      "model_module": "@jupyter-widgets/controls",
      "model_module_version": "2.0.0",
      "model_name": "HBoxModel",
      "state": {
       "children": [
        "IPY_MODEL_5d809439c8ca414b9b40d6aaa69d8651",
        "IPY_MODEL_7f97d416d09b45eaadc7ac5d05d264ea",
        "IPY_MODEL_5a4bcf1337a946c59e59b6011c275967"
       ],
       "layout": "IPY_MODEL_b2cf97e012af4d2696f6b3c804163cbc"
      }
     },
     "5167da154b1e422d925a3af6968fa3fe": {
      "model_module": "@jupyter-widgets/base",
      "model_module_version": "2.0.0",
      "model_name": "LayoutModel",
      "state": {}
     },
     "5182cf71385f4d66a2e23a1bc4918304": {
      "model_module": "@jupyter-widgets/base",
      "model_module_version": "2.0.0",
      "model_name": "LayoutModel",
      "state": {}
     },
     "51c841e6c0a041868d95a1f2867270fb": {
      "model_module": "@jupyter-widgets/controls",
      "model_module_version": "2.0.0",
      "model_name": "FloatProgressModel",
      "state": {
       "bar_style": "success",
       "layout": "IPY_MODEL_c66daa8ac8ab4d9e8210d5da65393643",
       "max": 1106,
       "style": "IPY_MODEL_9619b06cae93461b9c9200fc28b47fa2",
       "value": 1106
      }
     },
     "5205edf383414e39833917e317c6dcbf": {
      "model_module": "@jupyter-widgets/controls",
      "model_module_version": "2.0.0",
      "model_name": "HTMLModel",
      "state": {
       "layout": "IPY_MODEL_e5f3cfe25279403f8c1004eda1fc08af",
       "style": "IPY_MODEL_2b57e84cadec434d83ed4906ad1f8a67",
       "value": "apply len_bytes to num_bytes: 100%"
      }
     },
     "52232b2e3a5f4b5e8e6f6ab43411922e": {
      "model_module": "@jupyter-widgets/base",
      "model_module_version": "2.0.0",
      "model_name": "LayoutModel",
      "state": {}
     },
     "52555423a0c4467e91f661ddec18e937": {
      "model_module": "@jupyter-widgets/controls",
      "model_module_version": "2.0.0",
      "model_name": "HTMLModel",
      "state": {
       "layout": "IPY_MODEL_6d856ae0a9a64a2e8967864309d57970",
       "style": "IPY_MODEL_8ff3fa0422b842e5929abfc27e93bdca",
       "value": "100%"
      }
     },
     "5261ef5ba4924becaaa36b3f43289259": {
      "model_module": "@jupyter-widgets/base",
      "model_module_version": "2.0.0",
      "model_name": "LayoutModel",
      "state": {}
     },
     "5268de44d1fb40e3a91b0eebd2e204d4": {
      "model_module": "@jupyter-widgets/controls",
      "model_module_version": "2.0.0",
      "model_name": "HTMLStyleModel",
      "state": {
       "description_width": "",
       "font_size": null,
       "text_color": null
      }
     },
     "52a4121c8a4143d09f826fb86e8b15dc": {
      "model_module": "@jupyter-widgets/controls",
      "model_module_version": "2.0.0",
      "model_name": "VBoxModel",
      "state": {
       "children": [
        "IPY_MODEL_96ef1f49943f43ea990336297263e0c1",
        "IPY_MODEL_b75ae3f6a051470093fab1f2373cc2ea"
       ],
       "layout": "IPY_MODEL_7576f86a21b741929ca1c181c20aae39"
      }
     },
     "52f0fc9e31574c569cc5f456d06b4aae": {
      "model_module": "@jupyter-widgets/base",
      "model_module_version": "2.0.0",
      "model_name": "LayoutModel",
      "state": {}
     },
     "52f2b5294460486b91d534c0064e0c09": {
      "model_module": "@jupyter-widgets/base",
      "model_module_version": "2.0.0",
      "model_name": "LayoutModel",
      "state": {}
     },
     "532e5115a6a041a591382ee53aa586b7": {
      "model_module": "@jupyter-widgets/controls",
      "model_module_version": "2.0.0",
      "model_name": "FloatProgressModel",
      "state": {
       "layout": "IPY_MODEL_4578724ee906465e80c7c16a5a7c3be2",
       "max": 1,
       "style": "IPY_MODEL_d436127e41744d48b06593532a4a97cc"
      }
     },
     "532f71d7442349ffabd7e4611f63ebe7": {
      "model_module": "@jupyter-widgets/controls",
      "model_module_version": "2.0.0",
      "model_name": "HTMLModel",
      "state": {
       "layout": "IPY_MODEL_883a4b4977b14ae2bdca7ac14b7bad54",
       "style": "IPY_MODEL_1c7a6017ab7b40a1a04bea7253e9df2a",
       "value": "Downloading spiece.model: 100%"
      }
     },
     "5331ed0eccfe4a72805af658e112455a": {
      "model_module": "@jupyter-widgets/base",
      "model_module_version": "2.0.0",
      "model_name": "LayoutModel",
      "state": {}
     },
     "5335e45a526e49e6ac5d9550327cdbe3": {
      "model_module": "@jupyter-widgets/controls",
      "model_module_version": "2.0.0",
      "model_name": "HTMLModel",
      "state": {
       "layout": "IPY_MODEL_3fc80d97c3db4c5888000aea3aa0e1e9",
       "style": "IPY_MODEL_8de79e6898914caab9495fe7ae24579b",
       "value": " 71/71 [00:02&lt;00:00, 30.32it/s]"
      }
     },
     "53385cf8d4a845e3b1af5d93ca763b9f": {
      "model_module": "@jupyter-widgets/controls",
      "model_module_version": "2.0.0",
      "model_name": "HTMLModel",
      "state": {
       "layout": "IPY_MODEL_71e380b5f8714a73a3fe3c7613334df1",
       "style": "IPY_MODEL_e4b63b8ffb924f03bff03a318bacb56b",
       "value": " 2211/2211 [00:01&lt;00:00, 2051.44it/s]"
      }
     },
     "5352288cb4c44b199a3fc4a63463a360": {
      "model_module": "@jupyter-widgets/base",
      "model_module_version": "2.0.0",
      "model_name": "LayoutModel",
      "state": {}
     },
     "5362d05c028c44a99cae49cd48b762a5": {
      "model_module": "@jupyter-widgets/controls",
      "model_module_version": "2.0.0",
      "model_name": "LabelStyleModel",
      "state": {
       "description_width": "",
       "font_family": null,
       "font_size": null,
       "font_style": null,
       "font_variant": null,
       "font_weight": null,
       "text_color": null,
       "text_decoration": null
      }
     },
     "537a2313bae243cf83e739b9fbadb359": {
      "model_module": "@jupyter-widgets/base",
      "model_module_version": "2.0.0",
      "model_name": "LayoutModel",
      "state": {}
     },
     "53880e90fb6c43239f52dcb137444ca5": {
      "model_module": "@jupyter-widgets/controls",
      "model_module_version": "2.0.0",
      "model_name": "HTMLModel",
      "state": {
       "layout": "IPY_MODEL_5692b86f8d9b4d8bb2c36ac4622f8e13",
       "style": "IPY_MODEL_a84fad255d674f369a32d278b75c93ea",
       "value": " 8953/8953 [00:04&lt;00:00, 2242.41it/s]"
      }
     },
     "53a500e6e20245b380f0d511cd88d798": {
      "model_module": "@jupyter-widgets/controls",
      "model_module_version": "2.0.0",
      "model_name": "HTMLModel",
      "state": {
       "layout": "IPY_MODEL_f8bcfb488f1b4fa6a8a0794b2dd6f2a1",
       "style": "IPY_MODEL_a5776babd4f449fdb7124d76ca429dcb",
       "value": " 199/199 [00:00&lt;00:00, 974.54it/s]"
      }
     },
     "53ccb707e4d24866b0bf7fa43fd39497": {
      "model_module": "@jupyter-widgets/controls",
      "model_module_version": "2.0.0",
      "model_name": "HTMLModel",
      "state": {
       "layout": "IPY_MODEL_0294e841952e409a823c90aa11164b06",
       "style": "IPY_MODEL_5b1c68759ff54c8a9b92c32a95abfc88",
       "value": "100%"
      }
     },
     "53cd306499844d8caffcb7d3957dccfd": {
      "model_module": "@jupyter-widgets/base",
      "model_module_version": "2.0.0",
      "model_name": "LayoutModel",
      "state": {}
     },
     "53e10543db924a2296dce2887170fec6": {
      "model_module": "@jupyter-widgets/controls",
      "model_module_version": "2.0.0",
      "model_name": "FloatProgressModel",
      "state": {
       "bar_style": "info",
       "layout": "IPY_MODEL_997603b97d2a4482a9ea5ab281671467",
       "max": 1,
       "style": "IPY_MODEL_3f6d81258e124d3e8cb0d93630a032f8",
       "value": 1
      }
     },
     "53f950b2b4df44d99246788f40c9d0d2": {
      "model_module": "@jupyter-widgets/controls",
      "model_module_version": "2.0.0",
      "model_name": "ProgressStyleModel",
      "state": {
       "description_width": ""
      }
     },
     "54009edfe0844e49b79f63583e9ad085": {
      "model_module": "@jupyter-widgets/base",
      "model_module_version": "2.0.0",
      "model_name": "LayoutModel",
      "state": {}
     },
     "540983805a0746b4a1aee109d0cc2a29": {
      "model_module": "@jupyter-widgets/base",
      "model_module_version": "2.0.0",
      "model_name": "LayoutModel",
      "state": {}
     },
     "541792d423e849a4a7bf0b76393024ec": {
      "model_module": "@jupyter-widgets/controls",
      "model_module_version": "2.0.0",
      "model_name": "HTMLStyleModel",
      "state": {
       "description_width": "",
       "font_size": null,
       "text_color": null
      }
     },
     "5422b9418b324609b13423c1027fc0df": {
      "model_module": "@jupyter-widgets/base",
      "model_module_version": "2.0.0",
      "model_name": "LayoutModel",
      "state": {}
     },
     "5464f0806f174ae3be2c1c795c8e16a2": {
      "model_module": "@jupyter-widgets/controls",
      "model_module_version": "2.0.0",
      "model_name": "HTMLModel",
      "state": {
       "layout": "IPY_MODEL_2e2e618c55264271a9a6fc8f16caabe6",
       "style": "IPY_MODEL_2cc04512cc9f40999aaacd5b78c2db36",
       "value": "100%"
      }
     },
     "547837711c5f490c82e96f5654ee328b": {
      "model_module": "@jupyter-widgets/controls",
      "model_module_version": "2.0.0",
      "model_name": "HTMLStyleModel",
      "state": {
       "description_width": "",
       "font_size": null,
       "text_color": null
      }
     },
     "54d8184b11f64e28974cbba5fc51e220": {
      "model_module": "@jupyter-widgets/base",
      "model_module_version": "2.0.0",
      "model_name": "LayoutModel",
      "state": {}
     },
     "54f9eac509f54c3b9e37b629187f1323": {
      "model_module": "@jupyter-widgets/controls",
      "model_module_version": "2.0.0",
      "model_name": "FloatProgressModel",
      "state": {
       "layout": "IPY_MODEL_24a9d8ef0706471885d5a6209b90e31d",
       "max": 1,
       "style": "IPY_MODEL_c65b685f81fb44d5a1cd8af9105d3194",
       "value": 1
      }
     },
     "5547117826fc456a9d706432db7fea0c": {
      "model_module": "@jupyter-widgets/base",
      "model_module_version": "2.0.0",
      "model_name": "LayoutModel",
      "state": {}
     },
     "55716b3251df4613b65aa31678f08e6e": {
      "model_module": "@jupyter-widgets/controls",
      "model_module_version": "2.0.0",
      "model_name": "HTMLModel",
      "state": {
       "layout": "IPY_MODEL_ddb9fc96f1954090b8bfaeb26769fe45",
       "style": "IPY_MODEL_e2a407fd7c744585b2688e37db21f6a0",
       "value": "Epochs 1/2. Running Loss:    0.1635: 100%"
      }
     },
     "558a029f981f4fc9b3b04ed11abbcece": {
      "model_module": "@jupyter-widgets/base",
      "model_module_version": "2.0.0",
      "model_name": "LayoutModel",
      "state": {}
     },
     "55de4e717ccc4d5ebbec75ca1ce31e59": {
      "model_module": "@jupyter-widgets/controls",
      "model_module_version": "2.0.0",
      "model_name": "FloatProgressModel",
      "state": {
       "bar_style": "success",
       "layout": "IPY_MODEL_53cd306499844d8caffcb7d3957dccfd",
       "max": 222,
       "style": "IPY_MODEL_50e3e3a7174d45a79dd7084105d398e7",
       "value": 222
      }
     },
     "5608f20ac74847e18f72800ecbc47b07": {
      "model_module": "@jupyter-widgets/base",
      "model_module_version": "2.0.0",
      "model_name": "LayoutModel",
      "state": {}
     },
     "5692b86f8d9b4d8bb2c36ac4622f8e13": {
      "model_module": "@jupyter-widgets/base",
      "model_module_version": "2.0.0",
      "model_name": "LayoutModel",
      "state": {}
     },
     "56a2632bbd024cdb88081066fbc73982": {
      "model_module": "@jupyter-widgets/base",
      "model_module_version": "2.0.0",
      "model_name": "LayoutModel",
      "state": {}
     },
     "56b29994fb644838b65aef857a9672cf": {
      "model_module": "@jupyter-widgets/base",
      "model_module_version": "2.0.0",
      "model_name": "LayoutModel",
      "state": {}
     },
     "56c08752582d4a82a856890a8d1f5aac": {
      "model_module": "@jupyter-widgets/base",
      "model_module_version": "2.0.0",
      "model_name": "LayoutModel",
      "state": {}
     },
     "56c20ee8fa7c4ae08e4f14ebbffea2f0": {
      "model_module": "@jupyter-widgets/controls",
      "model_module_version": "2.0.0",
      "model_name": "ProgressStyleModel",
      "state": {
       "description_width": ""
      }
     },
     "56e4f40cc6d84e6583824c8c71d39a7d": {
      "model_module": "@jupyter-widgets/controls",
      "model_module_version": "2.0.0",
      "model_name": "HBoxModel",
      "state": {
       "children": [
        "IPY_MODEL_87da559a1e5945be82c498cce8e7562b",
        "IPY_MODEL_ec8fbd520958405cb9b2aac5a222562f",
        "IPY_MODEL_ff432dc003c44bb3855b00b5c48dc148"
       ],
       "layout": "IPY_MODEL_47ace44f61ea49fd8e36a460cc525286"
      }
     },
     "5709dbb199d44c79b35bcc19be5a769f": {
      "model_module": "@jupyter-widgets/base",
      "model_module_version": "2.0.0",
      "model_name": "LayoutModel",
      "state": {}
     },
     "57122768627f420e8f0b1f629bb0778b": {
      "model_module": "@jupyter-widgets/base",
      "model_module_version": "2.0.0",
      "model_name": "LayoutModel",
      "state": {}
     },
     "57315216c87d4b23990465d22a6c3433": {
      "model_module": "@jupyter-widgets/base",
      "model_module_version": "2.0.0",
      "model_name": "LayoutModel",
      "state": {}
     },
     "5737db047860432faa7972905e52238b": {
      "model_module": "@jupyter-widgets/controls",
      "model_module_version": "2.0.0",
      "model_name": "HTMLStyleModel",
      "state": {
       "description_width": "",
       "font_size": null,
       "text_color": null
      }
     },
     "573e28cf9c8c4c4293f0d522abaf9a69": {
      "model_module": "@jupyter-widgets/controls",
      "model_module_version": "2.0.0",
      "model_name": "HTMLModel",
      "state": {
       "layout": "IPY_MODEL_7b77a4a9d55941f2be3aad83a224e856",
       "style": "IPY_MODEL_612f3379d2da4731bd952834c915ae0a",
       "value": " 222/222 [00:00&lt;00:00, 904.33it/s]"
      }
     },
     "5776a05988894ddbbd1ec8ff3230f89c": {
      "model_module": "@jupyter-widgets/base",
      "model_module_version": "2.0.0",
      "model_name": "LayoutModel",
      "state": {}
     },
     "579d1f128bc64aa0a878461c9411b3ef": {
      "model_module": "@jupyter-widgets/controls",
      "model_module_version": "2.0.0",
      "model_name": "HBoxModel",
      "state": {
       "children": [
        "IPY_MODEL_13d8f783402c4f1fbdc3b6ccf3381cf4",
        "IPY_MODEL_eb4fdbfa598d4cfe8a35cc46e1b70d50",
        "IPY_MODEL_53880e90fb6c43239f52dcb137444ca5"
       ],
       "layout": "IPY_MODEL_9ff288ae34e646e596e7f54e9f4cc083"
      }
     },
     "57a89df56c08443f9be6b17c4284ffaa": {
      "model_module": "@jupyter-widgets/controls",
      "model_module_version": "2.0.0",
      "model_name": "ProgressStyleModel",
      "state": {
       "description_width": ""
      }
     },
     "57eed8e81221445a8c70626b57cdb103": {
      "model_module": "@jupyter-widgets/controls",
      "model_module_version": "2.0.0",
      "model_name": "HBoxModel",
      "state": {
       "children": [
        "IPY_MODEL_43c81b0c8b5f471aaba96ad9ccc3b8a9",
        "IPY_MODEL_4d736b5da1254c4c9a8f3b7c2b5867a6",
        "IPY_MODEL_47d70498bc084590b36b3145e9bcb1dc"
       ],
       "layout": "IPY_MODEL_83423a11c36948d79749654eb28d52b5"
      }
     },
     "57fda4fe5c644403a76bbf5c85f8e448": {
      "model_module": "@jupyter-widgets/base",
      "model_module_version": "2.0.0",
      "model_name": "LayoutModel",
      "state": {}
     },
     "5802e145c39a43c095fa1f3845d9ba05": {
      "model_module": "@jupyter-widgets/controls",
      "model_module_version": "2.0.0",
      "model_name": "HTMLStyleModel",
      "state": {
       "description_width": "",
       "font_size": null,
       "text_color": null
      }
     },
     "580cd439d3ba46619ee3c3b1bbee9938": {
      "model_module": "@jupyter-widgets/controls",
      "model_module_version": "2.0.0",
      "model_name": "HBoxModel",
      "state": {
       "children": [
        "IPY_MODEL_60f4b8e932f840428de44576f8cecd34",
        "IPY_MODEL_d501bcc52cb74624bf77e48db85a1554",
        "IPY_MODEL_b9921c130a2846a99bbe9908332176fb"
       ],
       "layout": "IPY_MODEL_08819273f481452c8aa0ff8df01a4fe5"
      }
     },
     "58114621b20542cba1df9408fa0fee12": {
      "model_module": "@jupyter-widgets/controls",
      "model_module_version": "2.0.0",
      "model_name": "FloatProgressModel",
      "state": {
       "bar_style": "success",
       "layout": "IPY_MODEL_39a148bc33f44be798f91fb20cb59fbf",
       "max": 7074,
       "style": "IPY_MODEL_848fddb6d1d1484591e450f27ff94545",
       "value": 7074
      }
     },
     "583080596bc7412c89cea5332a2718b0": {
      "model_module": "@jupyter-widgets/controls",
      "model_module_version": "2.0.0",
      "model_name": "HBoxModel",
      "state": {
       "children": [
        "IPY_MODEL_3827b9d20f434ca58ab9ad6db9a6da66",
        "IPY_MODEL_fbd333524eb04c848a60e8497e18cc4b",
        "IPY_MODEL_6c833f8a926047e08cecc99cf2ef6b00"
       ],
       "layout": "IPY_MODEL_1467553e39744365af2c35f56fd50d6a"
      }
     },
     "5863fa503ad64816a2e38484345076c5": {
      "model_module": "@jupyter-widgets/controls",
      "model_module_version": "2.0.0",
      "model_name": "HTMLStyleModel",
      "state": {
       "description_width": "",
       "font_size": null,
       "text_color": null
      }
     },
     "586578cf6b374c01877ea40d3f8a11c7": {
      "model_module": "@jupyter-widgets/controls",
      "model_module_version": "2.0.0",
      "model_name": "FloatProgressModel",
      "state": {
       "bar_style": "success",
       "layout": "IPY_MODEL_ade26c3d60d747af90009678a5a5fdea",
       "max": 199,
       "style": "IPY_MODEL_1e27bfe1b6674043aa80bd837658beed",
       "value": 199
      }
     },
     "58a16a39a2ae4fd6a493da52d67d4213": {
      "model_module": "@jupyter-widgets/base",
      "model_module_version": "2.0.0",
      "model_name": "LayoutModel",
      "state": {}
     },
     "58c378ab1a6a42b38984caa4c097be7b": {
      "model_module": "@jupyter-widgets/controls",
      "model_module_version": "2.0.0",
      "model_name": "ProgressStyleModel",
      "state": {
       "description_width": ""
      }
     },
     "58c8c386d3074741a0ec0cf601bcb536": {
      "model_module": "@jupyter-widgets/base",
      "model_module_version": "2.0.0",
      "model_name": "LayoutModel",
      "state": {}
     },
     "58ef13fa4de4402da4b971224b57e0ff": {
      "model_module": "@jupyter-widgets/base",
      "model_module_version": "2.0.0",
      "model_name": "LayoutModel",
      "state": {}
     },
     "592030f136d3417c829033eb1f208653": {
      "model_module": "@jupyter-widgets/base",
      "model_module_version": "2.0.0",
      "model_name": "LayoutModel",
      "state": {}
     },
     "592e4fd1582d48489fca96722a7df822": {
      "model_module": "@jupyter-widgets/controls",
      "model_module_version": "2.0.0",
      "model_name": "DescriptionStyleModel",
      "state": {
       "description_width": ""
      }
     },
     "5956c56ff9cd449798e5dbf5ee5029be": {
      "model_module": "@jupyter-widgets/controls",
      "model_module_version": "2.0.0",
      "model_name": "HTMLStyleModel",
      "state": {
       "description_width": "",
       "font_size": null,
       "text_color": null
      }
     },
     "59590af677954cd4ad762054587ee275": {
      "model_module": "@jupyter-widgets/base",
      "model_module_version": "2.0.0",
      "model_name": "LayoutModel",
      "state": {}
     },
     "5976bd754b4642c8a3ed7bd479f91040": {
      "model_module": "@jupyter-widgets/base",
      "model_module_version": "2.0.0",
      "model_name": "LayoutModel",
      "state": {}
     },
     "5a212f868cc540539c8f5cf70d3bf116": {
      "model_module": "@jupyter-widgets/base",
      "model_module_version": "2.0.0",
      "model_name": "LayoutModel",
      "state": {}
     },
     "5a2ffb1ae276417eb8475c0f7a6f6cdf": {
      "model_module": "@jupyter-widgets/controls",
      "model_module_version": "2.0.0",
      "model_name": "HTMLModel",
      "state": {
       "layout": "IPY_MODEL_7eaf14679e7c4be88030bc993d063d6b",
       "style": "IPY_MODEL_7e671e9f7fe446dabe695693e71a594f",
       "value": "100%"
      }
     },
     "5a4bcf1337a946c59e59b6011c275967": {
      "model_module": "@jupyter-widgets/controls",
      "model_module_version": "2.0.0",
      "model_name": "HTMLModel",
      "state": {
       "layout": "IPY_MODEL_c6d92c0bb4114b00af9e8351bc373078",
       "style": "IPY_MODEL_9c02477fe7a645e3a3b83fcd56dabd5d",
       "value": " 944M/944M [00:12&lt;00:00, 76.6MB/s]"
      }
     },
     "5a5a5fac0e6248ba995c2775bac77757": {
      "model_module": "@jupyter-widgets/base",
      "model_module_version": "2.0.0",
      "model_name": "LayoutModel",
      "state": {}
     },
     "5aa2dac273d747f5b279f9a0465d66a2": {
      "model_module": "@jupyter-widgets/base",
      "model_module_version": "2.0.0",
      "model_name": "LayoutModel",
      "state": {}
     },
     "5aa86855996e415fadd332a953851082": {
      "model_module": "@jupyter-widgets/controls",
      "model_module_version": "2.0.0",
      "model_name": "HTMLModel",
      "state": {
       "layout": "IPY_MODEL_aafe2e850a4e482d82c4aa0cc91ff496",
       "style": "IPY_MODEL_2ebbd3ed9edb4f97ab75adaf72e740bc",
       "value": "100%"
      }
     },
     "5ad1c08ec0df45da91819a357456e9e0": {
      "model_module": "@jupyter-widgets/controls",
      "model_module_version": "2.0.0",
      "model_name": "ProgressStyleModel",
      "state": {
       "description_width": ""
      }
     },
     "5b1470d25b7c4c559350d02de647ea8b": {
      "model_module": "@jupyter-widgets/controls",
      "model_module_version": "2.0.0",
      "model_name": "ProgressStyleModel",
      "state": {
       "description_width": ""
      }
     },
     "5b1c68759ff54c8a9b92c32a95abfc88": {
      "model_module": "@jupyter-widgets/controls",
      "model_module_version": "2.0.0",
      "model_name": "HTMLStyleModel",
      "state": {
       "description_width": "",
       "font_size": null,
       "text_color": null
      }
     },
     "5b6780cd6a8a408686c47d0bfabe58c7": {
      "model_module": "@jupyter-widgets/base",
      "model_module_version": "2.0.0",
      "model_name": "LayoutModel",
      "state": {}
     },
     "5b731731de5243cfa0f5808f57052408": {
      "model_module": "@jupyter-widgets/base",
      "model_module_version": "2.0.0",
      "model_name": "LayoutModel",
      "state": {}
     },
     "5b810b6662c44eb0886e3c2b09e0e1ef": {
      "model_module": "@jupyter-widgets/controls",
      "model_module_version": "2.0.0",
      "model_name": "FloatProgressModel",
      "state": {
       "bar_style": "success",
       "layout": "IPY_MODEL_c4a556962254416c91aaaecc83145296",
       "max": 222,
       "style": "IPY_MODEL_d72f55128dcc437eb0e130aeaa0e494f",
       "value": 222
      }
     },
     "5b869f07ef1f4e36bc915fe9d126216f": {
      "model_module": "@jupyter-widgets/controls",
      "model_module_version": "2.0.0",
      "model_name": "HBoxModel",
      "state": {
       "children": [
        "IPY_MODEL_f92d5a41b25a48d2afa44525a4a550c2",
        "IPY_MODEL_586578cf6b374c01877ea40d3f8a11c7",
        "IPY_MODEL_30055dd78d2d4861b238b5fbf3527a5a"
       ],
       "layout": "IPY_MODEL_adf1461d16ce4bcab67b42aee1a9cb67"
      }
     },
     "5b8ac57b87614af4a919682b5899b4bd": {
      "model_module": "@jupyter-widgets/base",
      "model_module_version": "2.0.0",
      "model_name": "LayoutModel",
      "state": {}
     },
     "5bb6240ff5684912ae46c2c7cc16c867": {
      "model_module": "@jupyter-widgets/controls",
      "model_module_version": "2.0.0",
      "model_name": "HTMLStyleModel",
      "state": {
       "description_width": "",
       "font_size": null,
       "text_color": null
      }
     },
     "5bb67695e00844f5a1c28631cf9f5346": {
      "model_module": "@jupyter-widgets/base",
      "model_module_version": "2.0.0",
      "model_name": "LayoutModel",
      "state": {}
     },
     "5bd5ceaaeaad43fa8d867b87cb719320": {
      "model_module": "@jupyter-widgets/base",
      "model_module_version": "2.0.0",
      "model_name": "LayoutModel",
      "state": {}
     },
     "5bf287e628cb4fa0896306d4f2ae44c3": {
      "model_module": "@jupyter-widgets/controls",
      "model_module_version": "2.0.0",
      "model_name": "HTMLStyleModel",
      "state": {
       "description_width": "",
       "font_size": null,
       "text_color": null
      }
     },
     "5bfe2ca1b189456d8672f9bbd32d6808": {
      "model_module": "@jupyter-widgets/base",
      "model_module_version": "2.0.0",
      "model_name": "LayoutModel",
      "state": {}
     },
     "5c233046da6c4902be032505c12b4cd6": {
      "model_module": "@jupyter-widgets/controls",
      "model_module_version": "2.0.0",
      "model_name": "HTMLModel",
      "state": {
       "layout": "IPY_MODEL_b2633682689e490ea89b5a9458046efc",
       "style": "IPY_MODEL_f95df328c13f4c00bf7eb7939bddbbef",
       "value": " 2/2 [01:21&lt;00:00, 39.99s/it]"
      }
     },
     "5c37ac1a56bc4c59a58b3415293755c2": {
      "model_module": "@jupyter-widgets/base",
      "model_module_version": "2.0.0",
      "model_name": "LayoutModel",
      "state": {}
     },
     "5c6f72ae61d44a16ac6e8c4cf0addc45": {
      "model_module": "@jupyter-widgets/controls",
      "model_module_version": "2.0.0",
      "model_name": "HTMLModel",
      "state": {
       "layout": "IPY_MODEL_06f30d3ab542455780288f1026b790e6",
       "style": "IPY_MODEL_cba2d39ef5494304953fb93537a1866f",
       "value": "Epoch 2 of 2: 100%"
      }
     },
     "5c79fc579a974026a49797914618d07a": {
      "model_module": "@jupyter-widgets/controls",
      "model_module_version": "2.0.0",
      "model_name": "HBoxModel",
      "state": {
       "children": [
        "IPY_MODEL_b971ff25f9354eb49c26460a4dfa34da",
        "IPY_MODEL_1b12c1acb6154d29be45407400e5cf51",
        "IPY_MODEL_c145f4fc6c074d8b9d45912eb9ccbbe9"
       ],
       "layout": "IPY_MODEL_ce6ff6d5a8304cb5a0949f7597754b38"
      }
     },
     "5caf51f4a98a45a8ade76d9dcfc08c34": {
      "model_module": "@jupyter-widgets/base",
      "model_module_version": "2.0.0",
      "model_name": "LayoutModel",
      "state": {}
     },
     "5cde9d7404ee47a6951188bb49570ee6": {
      "model_module": "@jupyter-widgets/controls",
      "model_module_version": "2.0.0",
      "model_name": "ProgressStyleModel",
      "state": {
       "description_width": ""
      }
     },
     "5d405ae44e874a328c5ab449b10d9c22": {
      "model_module": "@jupyter-widgets/base",
      "model_module_version": "2.0.0",
      "model_name": "LayoutModel",
      "state": {}
     },
     "5d773013a34442b0978717b2f718ab2e": {
      "model_module": "@jupyter-widgets/base",
      "model_module_version": "2.0.0",
      "model_name": "LayoutModel",
      "state": {}
     },
     "5d809439c8ca414b9b40d6aaa69d8651": {
      "model_module": "@jupyter-widgets/controls",
      "model_module_version": "2.0.0",
      "model_name": "HTMLModel",
      "state": {
       "layout": "IPY_MODEL_232d2b82aecf4704ab55ae0213e5b80b",
       "style": "IPY_MODEL_c2608c0f325948ad8d22806451e11e3c",
       "value": "Downloading pytorch_model.bin: 100%"
      }
     },
     "5dade8aec11e40b688f22076189e36b5": {
      "model_module": "@jupyter-widgets/base",
      "model_module_version": "2.0.0",
      "model_name": "LayoutModel",
      "state": {}
     },
     "5db34c07e6ec467f96473be40e35650c": {
      "model_module": "@jupyter-widgets/base",
      "model_module_version": "2.0.0",
      "model_name": "LayoutModel",
      "state": {}
     },
     "5decdab89fa447909c48d4e6b84c7d33": {
      "model_module": "@jupyter-widgets/controls",
      "model_module_version": "2.0.0",
      "model_name": "HTMLModel",
      "state": {
       "layout": "IPY_MODEL_9cedd6aa467640c59ecae20382f70548",
       "style": "IPY_MODEL_74c3b0d9a234470bb5850453977d496b",
       "value": " 228/228 [00:26&lt;00:00, 10.51it/s]"
      }
     },
     "5df4dfa777284120a71ae1943a306c07": {
      "model_module": "@jupyter-widgets/controls",
      "model_module_version": "2.0.0",
      "model_name": "HTMLStyleModel",
      "state": {
       "description_width": "",
       "font_size": null,
       "text_color": null
      }
     },
     "5e0c2580928946f484a25b900586133b": {
      "model_module": "@jupyter-widgets/controls",
      "model_module_version": "2.0.0",
      "model_name": "LabelStyleModel",
      "state": {
       "description_width": "",
       "font_family": null,
       "font_size": null,
       "font_style": null,
       "font_variant": null,
       "font_weight": null,
       "text_color": null,
       "text_decoration": null
      }
     },
     "5e2045a5b3b24b7f916c0be014573fd5": {
      "model_module": "@jupyter-widgets/base",
      "model_module_version": "2.0.0",
      "model_name": "LayoutModel",
      "state": {}
     },
     "5e5574cbc3e04d88a89159b17f0e5b2f": {
      "model_module": "@jupyter-widgets/controls",
      "model_module_version": "2.0.0",
      "model_name": "HTMLStyleModel",
      "state": {
       "description_width": "",
       "font_size": null,
       "text_color": null
      }
     },
     "5e58ddac8c2f47e0a78ae559e0835d12": {
      "model_module": "@jupyter-widgets/base",
      "model_module_version": "2.0.0",
      "model_name": "LayoutModel",
      "state": {}
     },
     "5e62fbb40e784adbb14c8175a3b342f3": {
      "model_module": "@jupyter-widgets/base",
      "model_module_version": "2.0.0",
      "model_name": "LayoutModel",
      "state": {}
     },
     "5e63e3a749a34ef5bce2e31b1495bf52": {
      "model_module": "@jupyter-widgets/base",
      "model_module_version": "2.0.0",
      "model_name": "LayoutModel",
      "state": {}
     },
     "5f09f7d2066d49d4bb1d66297fed62b6": {
      "model_module": "@jupyter-widgets/controls",
      "model_module_version": "2.0.0",
      "model_name": "HTMLStyleModel",
      "state": {
       "description_width": "",
       "font_size": null,
       "text_color": null
      }
     },
     "5f2c41fb9329479199d2e033004a8a17": {
      "model_module": "@jupyter-widgets/base",
      "model_module_version": "2.0.0",
      "model_name": "LayoutModel",
      "state": {}
     },
     "5f32a4fb695f4c298d3284291c492472": {
      "model_module": "@jupyter-widgets/controls",
      "model_module_version": "2.0.0",
      "model_name": "HBoxModel",
      "state": {
       "children": [
        "IPY_MODEL_f0711484930a41fcb3e4a8aad19bfa36",
        "IPY_MODEL_4e4abd4f469043eca51c103ac17155d9",
        "IPY_MODEL_573e28cf9c8c4c4293f0d522abaf9a69"
       ],
       "layout": "IPY_MODEL_7c82cc0560494ddda3dd89c5e1e0766b"
      }
     },
     "5f4737c88cd34c7a90a38ba6f2c198ba": {
      "model_module": "@jupyter-widgets/controls",
      "model_module_version": "2.0.0",
      "model_name": "HTMLModel",
      "state": {
       "layout": "IPY_MODEL_35f07f8397114e39a6c1b57605345e4d",
       "style": "IPY_MODEL_21108c9174084c2c931691cd735543b8",
       "value": "apply len_bytes to num_bytes: 100%"
      }
     },
     "5f6b562983de4570a0d6e48a2581e0ee": {
      "model_module": "@jupyter-widgets/controls",
      "model_module_version": "2.0.0",
      "model_name": "HTMLModel",
      "state": {
       "layout": "IPY_MODEL_643eedc9e21b450382ec031775a9cf15",
       "style": "IPY_MODEL_239182b5229a4a10af129f6148c398a1",
       "value": " 490/490 [00:00&lt;00:00, 26.9kB/s]"
      }
     },
     "6036e48b59c64074a26871edc15876ca": {
      "model_module": "@jupyter-widgets/controls",
      "model_module_version": "2.0.0",
      "model_name": "HTMLModel",
      "state": {
       "layout": "IPY_MODEL_ba2422dca7aa478793dae3285eb5064a",
       "style": "IPY_MODEL_b2d29ef5701e412da3bfffb14c65a3ae",
       "value": " 72/72 [00:02&lt;00:00, 29.80it/s]"
      }
     },
     "604947c8fa7547c2ae116ce740c6d182": {
      "model_module": "@jupyter-widgets/controls",
      "model_module_version": "2.0.0",
      "model_name": "ProgressStyleModel",
      "state": {
       "description_width": ""
      }
     },
     "60645cf81d88413b8bb02c9b996dc756": {
      "model_module": "@jupyter-widgets/base",
      "model_module_version": "2.0.0",
      "model_name": "LayoutModel",
      "state": {}
     },
     "6093fe3f7adb4f6ba4cd96bf3ec7963b": {
      "model_module": "@jupyter-widgets/base",
      "model_module_version": "2.0.0",
      "model_name": "LayoutModel",
      "state": {}
     },
     "60c06e81def94293a9b19efd25490f61": {
      "model_module": "@jupyter-widgets/controls",
      "model_module_version": "2.0.0",
      "model_name": "HTMLStyleModel",
      "state": {
       "description_width": "",
       "font_size": null,
       "text_color": null
      }
     },
     "60d82ba973af47b7af53c333657f3b70": {
      "model_module": "@jupyter-widgets/base",
      "model_module_version": "2.0.0",
      "model_name": "LayoutModel",
      "state": {}
     },
     "60e393cf71c6400c8daba4bd481ee8af": {
      "model_module": "@jupyter-widgets/controls",
      "model_module_version": "2.0.0",
      "model_name": "ProgressStyleModel",
      "state": {
       "description_width": ""
      }
     },
     "60f4b8e932f840428de44576f8cecd34": {
      "model_module": "@jupyter-widgets/controls",
      "model_module_version": "2.0.0",
      "model_name": "HTMLModel",
      "state": {
       "layout": "IPY_MODEL_4d0760a744ed45ef959cccb00234b443",
       "style": "IPY_MODEL_3d580a8834b44a24b4d93d8653e333b8",
       "value": "100%"
      }
     },
     "61147e256dbc4292b4201eafd3f81a89": {
      "model_module": "@jupyter-widgets/controls",
      "model_module_version": "2.0.0",
      "model_name": "HTMLStyleModel",
      "state": {
       "description_width": "",
       "font_size": null,
       "text_color": null
      }
     },
     "611a276711ee45bf98e006292db15e3d": {
      "model_module": "@jupyter-widgets/base",
      "model_module_version": "2.0.0",
      "model_name": "LayoutModel",
      "state": {}
     },
     "612da0440e784e8bb3a114657efd3b34": {
      "model_module": "@jupyter-widgets/base",
      "model_module_version": "2.0.0",
      "model_name": "LayoutModel",
      "state": {}
     },
     "612f3379d2da4731bd952834c915ae0a": {
      "model_module": "@jupyter-widgets/controls",
      "model_module_version": "2.0.0",
      "model_name": "HTMLStyleModel",
      "state": {
       "description_width": "",
       "font_size": null,
       "text_color": null
      }
     },
     "614975126d1f449ebc1f177f4f912e44": {
      "model_module": "@jupyter-widgets/controls",
      "model_module_version": "2.0.0",
      "model_name": "HBoxModel",
      "state": {
       "children": [
        "IPY_MODEL_228e10da69964c8cbd40fad388cfc9ff",
        "IPY_MODEL_d5ee1dee43754c90a607151b423be3db",
        "IPY_MODEL_a8462ad963164a06883fe8c92112aac6"
       ],
       "layout": "IPY_MODEL_7b91d61cc26d4b0b9d863738db1ad0e9"
      }
     },
     "615f41938aa24d7da75bb757afffa669": {
      "model_module": "@jupyter-widgets/base",
      "model_module_version": "2.0.0",
      "model_name": "LayoutModel",
      "state": {}
     },
     "6165f092192141b488847f7b95ed4709": {
      "model_module": "@jupyter-widgets/base",
      "model_module_version": "2.0.0",
      "model_name": "LayoutModel",
      "state": {}
     },
     "61851b7b43ea414bb15e5820f75f094d": {
      "model_module": "@jupyter-widgets/base",
      "model_module_version": "2.0.0",
      "model_name": "LayoutModel",
      "state": {}
     },
     "61c03f19ff4b425b90af2ba3e74462f0": {
      "model_module": "@jupyter-widgets/base",
      "model_module_version": "2.0.0",
      "model_name": "LayoutModel",
      "state": {}
     },
     "61dba8d863bb4faa8637d1ced77a8da7": {
      "model_module": "@jupyter-widgets/controls",
      "model_module_version": "2.0.0",
      "model_name": "VBoxModel",
      "state": {
       "children": [
        "IPY_MODEL_e32877cadddb48b0bad879a27134d698",
        "IPY_MODEL_91f7e926426047d48ecf12fb9caa1524"
       ],
       "layout": "IPY_MODEL_57315216c87d4b23990465d22a6c3433"
      }
     },
     "62596f3a5c1348eaa04a2da9781a424a": {
      "model_module": "@jupyter-widgets/base",
      "model_module_version": "2.0.0",
      "model_name": "LayoutModel",
      "state": {}
     },
     "6271e82024474b428621ea774b8c320c": {
      "model_module": "@jupyter-widgets/base",
      "model_module_version": "2.0.0",
      "model_name": "LayoutModel",
      "state": {}
     },
     "628cafbdbf904b4fb5f0d774cb4b55df": {
      "model_module": "@jupyter-widgets/base",
      "model_module_version": "2.0.0",
      "model_name": "LayoutModel",
      "state": {}
     },
     "62b39ae872394a7894610c02c813296c": {
      "model_module": "@jupyter-widgets/base",
      "model_module_version": "2.0.0",
      "model_name": "LayoutModel",
      "state": {}
     },
     "62c2c63871b146bfa4625bfc266409cd": {
      "model_module": "@jupyter-widgets/controls",
      "model_module_version": "2.0.0",
      "model_name": "HTMLModel",
      "state": {
       "layout": "IPY_MODEL_ce39a9825d6f4bfebb5151f6762d34ce",
       "style": "IPY_MODEL_ccfe03caac2f474da839a4b83caf22d9",
       "value": "Epoch 2 of 2: 100%"
      }
     },
     "62e0d82eb76c4e7387638207369dceec": {
      "model_module": "@jupyter-widgets/controls",
      "model_module_version": "2.0.0",
      "model_name": "HTMLModel",
      "state": {
       "layout": "IPY_MODEL_b225442b424047c4902a0fab4be4228c",
       "style": "IPY_MODEL_73e5ce41a5164201a0f7dda8aad8b173",
       "value": " 616/616 [00:03&lt;00:00, 166.45it/s]"
      }
     },
     "634d45af831249b3b05c117f8b5134dd": {
      "model_module": "@jupyter-widgets/controls",
      "model_module_version": "2.0.0",
      "model_name": "HBoxModel",
      "state": {
       "children": [
        "IPY_MODEL_6daac1d5e48f4bfdb2755760a330f049",
        "IPY_MODEL_3c2b9c063d824e9e93bf0525160ef708",
        "IPY_MODEL_6789d2c6ded947b48002a886a5550752"
       ],
       "layout": "IPY_MODEL_167ea7c841fa42b5b71d850bc69d18a7"
      }
     },
     "636fd1922db64234a782c874d9cbf052": {
      "model_module": "@jupyter-widgets/controls",
      "model_module_version": "2.0.0",
      "model_name": "HTMLModel",
      "state": {
       "layout": "IPY_MODEL_c71023ded1644c9b9578831e1e93a098",
       "style": "IPY_MODEL_b774033801c14965a1273bc5f3cb8520",
       "value": "Epoch 2 of 2: 100%"
      }
     },
     "63a9f20df4b449989b73152c657ef792": {
      "model_module": "@jupyter-widgets/controls",
      "model_module_version": "2.0.0",
      "model_name": "HBoxModel",
      "state": {
       "children": [
        "IPY_MODEL_2aba2a84b95e41a58ae5a4cb0e57af3f",
        "IPY_MODEL_6e9ced6a325e4da08e3df513220b68d6",
        "IPY_MODEL_44809047a027482e924b1388619f979e"
       ],
       "layout": "IPY_MODEL_a5cc1d2d266c4f2784ebfc4b611ed307"
      }
     },
     "63d240243f084a5baad20315145cc599": {
      "model_module": "@jupyter-widgets/controls",
      "model_module_version": "2.0.0",
      "model_name": "HTMLStyleModel",
      "state": {
       "description_width": "",
       "font_size": null,
       "text_color": null
      }
     },
     "63dffb9eef5d4c4f84a86fb3af099cbc": {
      "model_module": "@jupyter-widgets/controls",
      "model_module_version": "2.0.0",
      "model_name": "FloatProgressModel",
      "state": {
       "bar_style": "success",
       "layout": "IPY_MODEL_b4556b53bd074c8e8775d97f58aa8137",
       "max": 1158,
       "style": "IPY_MODEL_478ddc93a13740739b41b968f563d356",
       "value": 1158
      }
     },
     "63e9c345570440128bc4fbb2ec7d5a80": {
      "model_module": "@jupyter-widgets/controls",
      "model_module_version": "2.0.0",
      "model_name": "LabelModel",
      "state": {
       "layout": "IPY_MODEL_e9970d08e5a74b198ec8047d16513306",
       "style": "IPY_MODEL_a2db5fbda77546f2955ca1296a64549b",
       "value": "0.035 MB of 0.035 MB uploaded (0.000 MB deduped)\r"
      }
     },
     "63fe2e2297df4f02b1d4c1c7966df6f2": {
      "model_module": "@jupyter-widgets/controls",
      "model_module_version": "2.0.0",
      "model_name": "HTMLStyleModel",
      "state": {
       "description_width": "",
       "font_size": null,
       "text_color": null
      }
     },
     "6406b32c7b8c404186b40d5bea5f568a": {
      "model_module": "@jupyter-widgets/controls",
      "model_module_version": "2.0.0",
      "model_name": "VBoxModel",
      "state": {
       "children": [
        "IPY_MODEL_7f89224a8be34d948720110c1be929a3",
        "IPY_MODEL_3019aacfd8a04a6c8ece62fe6abfe199"
       ],
       "layout": "IPY_MODEL_7b36a45587134875b9f9644ec89d7bea"
      }
     },
     "643eedc9e21b450382ec031775a9cf15": {
      "model_module": "@jupyter-widgets/base",
      "model_module_version": "2.0.0",
      "model_name": "LayoutModel",
      "state": {}
     },
     "64428e5e3e1542819bd87c5fb7a706dc": {
      "model_module": "@jupyter-widgets/controls",
      "model_module_version": "2.0.0",
      "model_name": "HTMLStyleModel",
      "state": {
       "description_width": "",
       "font_size": null,
       "text_color": null
      }
     },
     "64654e72f4a34db8a2ac353ac36bc227": {
      "model_module": "@jupyter-widgets/base",
      "model_module_version": "2.0.0",
      "model_name": "LayoutModel",
      "state": {}
     },
     "646f2bd7b6774d1caf70967819a8cc27": {
      "model_module": "@jupyter-widgets/controls",
      "model_module_version": "2.0.0",
      "model_name": "LabelStyleModel",
      "state": {
       "description_width": "",
       "font_family": null,
       "font_size": null,
       "font_style": null,
       "font_variant": null,
       "font_weight": null,
       "text_color": null,
       "text_decoration": null
      }
     },
     "64a3c85a2d954b949f184cdbc311c4d8": {
      "model_module": "@jupyter-widgets/controls",
      "model_module_version": "2.0.0",
      "model_name": "HTMLModel",
      "state": {
       "layout": "IPY_MODEL_15892121a3764c7484abe875533873a5",
       "style": "IPY_MODEL_499140b83591456696fd8297519fcada",
       "value": "100%"
      }
     },
     "64b2841d09904ed880fd1562046e8b3f": {
      "model_module": "@jupyter-widgets/controls",
      "model_module_version": "2.0.0",
      "model_name": "HTMLModel",
      "state": {
       "layout": "IPY_MODEL_c86cf902d6cc4e47a082229e9495b093",
       "style": "IPY_MODEL_9e8613c15648446eae7e3b5e55d48830",
       "value": "apply len_bytes to num_bytes: 100%"
      }
     },
     "64e47bc5f10848c38fdc8d7943088f36": {
      "model_module": "@jupyter-widgets/base",
      "model_module_version": "2.0.0",
      "model_name": "LayoutModel",
      "state": {}
     },
     "64ed90f938394536bf87daf6bc0a54ad": {
      "model_module": "@jupyter-widgets/controls",
      "model_module_version": "2.0.0",
      "model_name": "FloatProgressModel",
      "state": {
       "bar_style": "success",
       "layout": "IPY_MODEL_bd179908813841788c6108c9904cc61b",
       "max": 1106,
       "style": "IPY_MODEL_0ba7dd1e7f984253abce5a78565dc67c",
       "value": 1106
      }
     },
     "65177463459d44a1aa658b692149800f": {
      "model_module": "@jupyter-widgets/controls",
      "model_module_version": "2.0.0",
      "model_name": "HTMLStyleModel",
      "state": {
       "description_width": "",
       "font_size": null,
       "text_color": null
      }
     },
     "651c7d48d7194d06a47fb5ff796ee78b": {
      "model_module": "@jupyter-widgets/controls",
      "model_module_version": "2.0.0",
      "model_name": "ProgressStyleModel",
      "state": {
       "description_width": ""
      }
     },
     "651e5d9c721841f3a8b24b78149de426": {
      "model_module": "@jupyter-widgets/controls",
      "model_module_version": "2.0.0",
      "model_name": "FloatProgressModel",
      "state": {
       "layout": "IPY_MODEL_9058f2250fa848cba8cfb0ec89a937e3",
       "max": 1,
       "style": "IPY_MODEL_d171c95575984fdc861897005b50c62c",
       "value": 1
      }
     },
     "653b8aea83ed44ed9cb3fa806b1652bb": {
      "model_module": "@jupyter-widgets/controls",
      "model_module_version": "2.0.0",
      "model_name": "ProgressStyleModel",
      "state": {
       "description_width": ""
      }
     },
     "6541defa640f41bab11c78da6553aecc": {
      "model_module": "@jupyter-widgets/controls",
      "model_module_version": "2.0.0",
      "model_name": "ProgressStyleModel",
      "state": {
       "description_width": ""
      }
     },
     "6545e87f9b6c4312bbcb8af691c439b6": {
      "model_module": "@jupyter-widgets/controls",
      "model_module_version": "2.0.0",
      "model_name": "ProgressStyleModel",
      "state": {
       "description_width": ""
      }
     },
     "6581272e459846fbb916907ceba8ae56": {
      "model_module": "@jupyter-widgets/controls",
      "model_module_version": "2.0.0",
      "model_name": "FloatProgressModel",
      "state": {
       "bar_style": "danger",
       "layout": "IPY_MODEL_330d10f579624adf8a0508e7c23efc71",
       "max": 2,
       "style": "IPY_MODEL_794d14b2252e4f019eb8436696247dbb"
      }
     },
     "65adce9be72b441da1a81c2623838c5c": {
      "model_module": "@jupyter-widgets/controls",
      "model_module_version": "2.0.0",
      "model_name": "ProgressStyleModel",
      "state": {
       "description_width": ""
      }
     },
     "65b36ea758274e34ac7d897f1996844e": {
      "model_module": "@jupyter-widgets/controls",
      "model_module_version": "2.0.0",
      "model_name": "HTMLModel",
      "state": {
       "layout": "IPY_MODEL_40350afeefb84b43ab4fb05617d8fa48",
       "style": "IPY_MODEL_d26647bf010b42029cbce622cea9a2e6",
       "value": " 0/? [00:00&lt;?, ? tables/s]"
      }
     },
     "65fad54e70a5475ca68964b1b0458c32": {
      "model_module": "@jupyter-widgets/base",
      "model_module_version": "2.0.0",
      "model_name": "LayoutModel",
      "state": {}
     },
     "6613f89f1f2741ad9bd6c3f222ddc1d7": {
      "model_module": "@jupyter-widgets/base",
      "model_module_version": "2.0.0",
      "model_name": "LayoutModel",
      "state": {}
     },
     "662dd61e80f7404c90322b145189afc4": {
      "model_module": "@jupyter-widgets/controls",
      "model_module_version": "2.0.0",
      "model_name": "ProgressStyleModel",
      "state": {
       "description_width": ""
      }
     },
     "6659f0d00f684146986f2a033f7b56c4": {
      "model_module": "@jupyter-widgets/base",
      "model_module_version": "2.0.0",
      "model_name": "LayoutModel",
      "state": {}
     },
     "665b07314b6749779bf767666b684b91": {
      "model_module": "@jupyter-widgets/base",
      "model_module_version": "2.0.0",
      "model_name": "LayoutModel",
      "state": {}
     },
     "665e44768d0a44acb68bee68f5ae5f37": {
      "model_module": "@jupyter-widgets/controls",
      "model_module_version": "2.0.0",
      "model_name": "HBoxModel",
      "state": {
       "children": [
        "IPY_MODEL_6cedbc3a825a4521a8c1772aeef57434",
        "IPY_MODEL_b457689b1f694cd9af5b14da14c9ac0d",
        "IPY_MODEL_738608176f404402aab40e6e269550f8"
       ],
       "layout": "IPY_MODEL_4f8a7efc0ab34c51b8628840aed945cf"
      }
     },
     "666f8932da734cf98a41470028bc6819": {
      "model_module": "@jupyter-widgets/controls",
      "model_module_version": "2.0.0",
      "model_name": "ProgressStyleModel",
      "state": {
       "description_width": ""
      }
     },
     "66839296f55e46448773ed6d4bcb456a": {
      "model_module": "@jupyter-widgets/controls",
      "model_module_version": "2.0.0",
      "model_name": "HTMLStyleModel",
      "state": {
       "description_width": "",
       "font_size": null,
       "text_color": null
      }
     },
     "66e5d4bfc0304e18a21bd90e9d482289": {
      "model_module": "@jupyter-widgets/controls",
      "model_module_version": "2.0.0",
      "model_name": "HTMLStyleModel",
      "state": {
       "description_width": "",
       "font_size": null,
       "text_color": null
      }
     },
     "66eda182ab1f4f6dad8fb3fa96298ec3": {
      "model_module": "@jupyter-widgets/base",
      "model_module_version": "2.0.0",
      "model_name": "LayoutModel",
      "state": {}
     },
     "66ff75c5788840098ffb0bafa7f2db36": {
      "model_module": "@jupyter-widgets/controls",
      "model_module_version": "2.0.0",
      "model_name": "FloatProgressModel",
      "state": {
       "bar_style": "success",
       "layout": "IPY_MODEL_bfc9c2ef7e87430f9f9799f9d009d0de",
       "max": 2,
       "style": "IPY_MODEL_7d24c56c2a974dc7b2a82b941ab575c2",
       "value": 2
      }
     },
     "670a3d0cbbe34b3ba4716c8fbcf418ea": {
      "model_module": "@jupyter-widgets/base",
      "model_module_version": "2.0.0",
      "model_name": "LayoutModel",
      "state": {}
     },
     "67683e53698340eab193d3dd6a682ca2": {
      "model_module": "@jupyter-widgets/base",
      "model_module_version": "2.0.0",
      "model_name": "LayoutModel",
      "state": {}
     },
     "6789d2c6ded947b48002a886a5550752": {
      "model_module": "@jupyter-widgets/controls",
      "model_module_version": "2.0.0",
      "model_name": "HTMLModel",
      "state": {
       "layout": "IPY_MODEL_0aa28b89921a4b128318eb385dc6c137",
       "style": "IPY_MODEL_449ae8a38c0a4d1ebab4b7f2cdd42696",
       "value": " 222/222 [00:00&lt;00:00, 785.37it/s]"
      }
     },
     "679dfd8d34c849e798abd2a303e19fda": {
      "model_module": "@jupyter-widgets/controls",
      "model_module_version": "2.0.0",
      "model_name": "FloatProgressModel",
      "state": {
       "bar_style": "success",
       "layout": "IPY_MODEL_003d9a9fc2d24aae993bdb30f5a4e85f",
       "max": 995,
       "style": "IPY_MODEL_0a992eefc93a40e2b0e9814f2c66a496",
       "value": 995
      }
     },
     "67c103eec42c4830961ebfa311e10686": {
      "model_module": "@jupyter-widgets/base",
      "model_module_version": "2.0.0",
      "model_name": "LayoutModel",
      "state": {}
     },
     "67c97d8f016943a4a6ea40a12722daee": {
      "model_module": "@jupyter-widgets/controls",
      "model_module_version": "2.0.0",
      "model_name": "HTMLStyleModel",
      "state": {
       "description_width": "",
       "font_size": null,
       "text_color": null
      }
     },
     "67dfc37758444c77b896a981efaa98a4": {
      "model_module": "@jupyter-widgets/controls",
      "model_module_version": "2.0.0",
      "model_name": "HTMLModel",
      "state": {
       "layout": "IPY_MODEL_22f8bfe699a84c1f9a557a22e392bd46",
       "style": "IPY_MODEL_937885e454174f33be5e4865b2d8c0eb",
       "value": " 2211/2211 [00:01&lt;00:00, 2142.76it/s]"
      }
     },
     "67ea04ed1a824b61bffd40b068973b6c": {
      "model_module": "@jupyter-widgets/controls",
      "model_module_version": "2.0.0",
      "model_name": "HTMLModel",
      "state": {
       "layout": "IPY_MODEL_05a20c14c6b8478ab89e443518304ef5",
       "style": "IPY_MODEL_592e4fd1582d48489fca96722a7df822",
       "value": "apply len_bytes to num_bytes: 100%"
      }
     },
     "67f66c9b45d34c5aba8e9c2603eb0110": {
      "model_module": "@jupyter-widgets/base",
      "model_module_version": "2.0.0",
      "model_name": "LayoutModel",
      "state": {}
     },
     "685afe974ed04dbaa28c77e0a3776b4a": {
      "model_module": "@jupyter-widgets/base",
      "model_module_version": "2.0.0",
      "model_name": "LayoutModel",
      "state": {}
     },
     "686b4369e06d4aa98fd654099b9db57f": {
      "model_module": "@jupyter-widgets/controls",
      "model_module_version": "2.0.0",
      "model_name": "HTMLStyleModel",
      "state": {
       "description_width": "",
       "font_size": null,
       "text_color": null
      }
     },
     "6878dc7fd1e848989f4620d84f7c45be": {
      "model_module": "@jupyter-widgets/controls",
      "model_module_version": "2.0.0",
      "model_name": "HTMLStyleModel",
      "state": {
       "description_width": "",
       "font_size": null,
       "text_color": null
      }
     },
     "6881aafeff4f43968b4689e5a3b1c418": {
      "model_module": "@jupyter-widgets/controls",
      "model_module_version": "2.0.0",
      "model_name": "HTMLModel",
      "state": {
       "layout": "IPY_MODEL_79634a102fb748edbd0a55a7ce378bbd",
       "style": "IPY_MODEL_66e5d4bfc0304e18a21bd90e9d482289",
       "value": "apply len_bytes to num_bytes: 100%"
      }
     },
     "688877a193e6430aa8c1a518590946a8": {
      "model_module": "@jupyter-widgets/controls",
      "model_module_version": "2.0.0",
      "model_name": "VBoxModel",
      "state": {
       "children": [
        "IPY_MODEL_c027d166d7684b0ebb0feb4f2d217318",
        "IPY_MODEL_6b562d60ed414a5bb3ab773274079b9c"
       ],
       "layout": "IPY_MODEL_3b26b94a9bf0444eb598f797f0f21e85"
      }
     },
     "68940604e91640eda75e733e3ab6a285": {
      "model_module": "@jupyter-widgets/controls",
      "model_module_version": "2.0.0",
      "model_name": "HTMLStyleModel",
      "state": {
       "description_width": "",
       "font_size": null,
       "text_color": null
      }
     },
     "68bff6f18b1441c5b1dfac73d292249d": {
      "model_module": "@jupyter-widgets/base",
      "model_module_version": "2.0.0",
      "model_name": "LayoutModel",
      "state": {}
     },
     "68cb5872864b481daae9242932658df2": {
      "model_module": "@jupyter-widgets/controls",
      "model_module_version": "2.0.0",
      "model_name": "HTMLModel",
      "state": {
       "layout": "IPY_MODEL_8176c0ca644a42c082968d1676fcedab",
       "style": "IPY_MODEL_750b6c036a26476fb5aab90153917181",
       "value": "Epochs 1/2. Running Loss:    0.8117: 100%"
      }
     },
     "68e100834656476a9d114ad859cf7410": {
      "model_module": "@jupyter-widgets/base",
      "model_module_version": "2.0.0",
      "model_name": "LayoutModel",
      "state": {}
     },
     "68e4739f7cbf4038b7282327055ae6bd": {
      "model_module": "@jupyter-widgets/base",
      "model_module_version": "2.0.0",
      "model_name": "LayoutModel",
      "state": {}
     },
     "68f7b6e0fb0f4ad0b573fca465eca8ae": {
      "model_module": "@jupyter-widgets/controls",
      "model_module_version": "2.0.0",
      "model_name": "ProgressStyleModel",
      "state": {
       "description_width": ""
      }
     },
     "6918e56427334852aa9bc38f16943901": {
      "model_module": "@jupyter-widgets/controls",
      "model_module_version": "2.0.0",
      "model_name": "HBoxModel",
      "state": {
       "children": [
        "IPY_MODEL_2dbf3d64b29e4438a70fbadb87748a1e",
        "IPY_MODEL_1413240eb1634c09b063b057ffe70371",
        "IPY_MODEL_d455ff2c6e344778902080c22315aa70"
       ],
       "layout": "IPY_MODEL_487d652f543d4974a712e15885a84370"
      }
     },
     "6933fd02b06d49b58bac15c7417c3fa5": {
      "model_module": "@jupyter-widgets/controls",
      "model_module_version": "2.0.0",
      "model_name": "FloatProgressModel",
      "state": {
       "layout": "IPY_MODEL_5167da154b1e422d925a3af6968fa3fe",
       "max": 1,
       "style": "IPY_MODEL_506bcd9f5dcc4d34b086f41b975c74c2",
       "value": 1
      }
     },
     "6946e84667df44c190a25067364d5c5f": {
      "model_module": "@jupyter-widgets/base",
      "model_module_version": "2.0.0",
      "model_name": "LayoutModel",
      "state": {}
     },
     "696c758e8f98419597cc603ac4efc35e": {
      "model_module": "@jupyter-widgets/controls",
      "model_module_version": "2.0.0",
      "model_name": "FloatProgressModel",
      "state": {
       "bar_style": "success",
       "layout": "IPY_MODEL_b7976120b87f4cbb915a1948631cf408",
       "max": 71,
       "style": "IPY_MODEL_dca7a63675014248b9fd6502c5f9f561",
       "value": 71
      }
     },
     "69c0cad07de34d83b3163dea64fd9e6d": {
      "model_module": "@jupyter-widgets/controls",
      "model_module_version": "2.0.0",
      "model_name": "ProgressStyleModel",
      "state": {
       "description_width": ""
      }
     },
     "69c48b412a094e1d84a308f61cf3c9c1": {
      "model_module": "@jupyter-widgets/base",
      "model_module_version": "2.0.0",
      "model_name": "LayoutModel",
      "state": {}
     },
     "69d2fe5f353449409f4069dc3dfc77f4": {
      "model_module": "@jupyter-widgets/base",
      "model_module_version": "2.0.0",
      "model_name": "LayoutModel",
      "state": {}
     },
     "69f8e46a0d4d43a087817aa04803db80": {
      "model_module": "@jupyter-widgets/controls",
      "model_module_version": "2.0.0",
      "model_name": "LabelStyleModel",
      "state": {
       "description_width": "",
       "font_family": null,
       "font_size": null,
       "font_style": null,
       "font_variant": null,
       "font_weight": null,
       "text_color": null,
       "text_decoration": null
      }
     },
     "6a585dde0829433abbae5739cfe39150": {
      "model_module": "@jupyter-widgets/controls",
      "model_module_version": "2.0.0",
      "model_name": "HTMLStyleModel",
      "state": {
       "description_width": "",
       "font_size": null,
       "text_color": null
      }
     },
     "6a5a0e05f4b44cb58bc3b607c3e4e573": {
      "model_module": "@jupyter-widgets/base",
      "model_module_version": "2.0.0",
      "model_name": "LayoutModel",
      "state": {}
     },
     "6a76bc95192941c68134cd419c27ffb0": {
      "model_module": "@jupyter-widgets/controls",
      "model_module_version": "2.0.0",
      "model_name": "HTMLModel",
      "state": {
       "layout": "IPY_MODEL_ff028f4b20f5415d80bcb1c11e0fe65f",
       "style": "IPY_MODEL_a6235a5110ef423a9934d4cab096c2e4",
       "value": "Epochs 0/2. Running Loss:    2.0130:  17%"
      }
     },
     "6a92323bb4ee40cfb73188f69eac6cb4": {
      "model_module": "@jupyter-widgets/controls",
      "model_module_version": "2.0.0",
      "model_name": "FloatProgressModel",
      "state": {
       "bar_style": "success",
       "layout": "IPY_MODEL_7ec1f544bf9f42fe91c508f43321a849",
       "max": 7075,
       "style": "IPY_MODEL_a61c7a07600a45fb889fe064d8efc74b",
       "value": 7075
      }
     },
     "6ac885484bb64770b05f2cedeb9753a9": {
      "model_module": "@jupyter-widgets/base",
      "model_module_version": "2.0.0",
      "model_name": "LayoutModel",
      "state": {}
     },
     "6acb9801e71241f6a709a3761c60cc9e": {
      "model_module": "@jupyter-widgets/controls",
      "model_module_version": "2.0.0",
      "model_name": "LabelModel",
      "state": {
       "layout": "IPY_MODEL_7ae8015c6cdc4d72b628755666f336de",
       "style": "IPY_MODEL_29997c15a04c47698f7cacca0408ad51"
      }
     },
     "6b04a12da28e4f6692d8313d9691b517": {
      "model_module": "@jupyter-widgets/base",
      "model_module_version": "2.0.0",
      "model_name": "LayoutModel",
      "state": {}
     },
     "6b2398b4c7064f69b0b8fc717f5b2429": {
      "model_module": "@jupyter-widgets/controls",
      "model_module_version": "2.0.0",
      "model_name": "FloatProgressModel",
      "state": {
       "bar_style": "success",
       "layout": "IPY_MODEL_5c37ac1a56bc4c59a58b3415293755c2",
       "max": 2,
       "style": "IPY_MODEL_b235e7842fe24067bd87fe33d606e29f",
       "value": 2
      }
     },
     "6b2e097f9bad4822b603f3561941bf31": {
      "model_module": "@jupyter-widgets/base",
      "model_module_version": "2.0.0",
      "model_name": "LayoutModel",
      "state": {}
     },
     "6b3e1d62e88d4fb9bfc3108ce6b44e1b": {
      "model_module": "@jupyter-widgets/controls",
      "model_module_version": "2.0.0",
      "model_name": "ProgressStyleModel",
      "state": {
       "description_width": ""
      }
     },
     "6b464125c2d04883bda2dc818e705d7c": {
      "model_module": "@jupyter-widgets/base",
      "model_module_version": "2.0.0",
      "model_name": "LayoutModel",
      "state": {}
     },
     "6b562d60ed414a5bb3ab773274079b9c": {
      "model_module": "@jupyter-widgets/controls",
      "model_module_version": "2.0.0",
      "model_name": "FloatProgressModel",
      "state": {
       "layout": "IPY_MODEL_00d1112167654755b404ef8a9a6e18e8",
       "max": 1,
       "style": "IPY_MODEL_d96e336b59554485a32a9719de309ba8"
      }
     },
     "6b742f24929744ac8ba01bf25693944e": {
      "model_module": "@jupyter-widgets/base",
      "model_module_version": "2.0.0",
      "model_name": "LayoutModel",
      "state": {}
     },
     "6b884e5b66d240fa978beec0211cfa1b": {
      "model_module": "@jupyter-widgets/controls",
      "model_module_version": "2.0.0",
      "model_name": "FloatProgressModel",
      "state": {
       "bar_style": "success",
       "layout": "IPY_MODEL_51266cc9ff6647b3a9c77c39e6ccb359",
       "max": 1120,
       "style": "IPY_MODEL_f85dbbfb5ce74b67a345d24aaa09f22a",
       "value": 1120
      }
     },
     "6bfc36c531d3424d9f9bafe76f830770": {
      "model_module": "@jupyter-widgets/controls",
      "model_module_version": "2.0.0",
      "model_name": "HTMLModel",
      "state": {
       "layout": "IPY_MODEL_ec640328250d4c5c9aac26963e40d52c",
       "style": "IPY_MODEL_512233cc6b4e4e8184f3014c52178261",
       "value": "Epoch 2 of 2: 100%"
      }
     },
     "6c0e7500c4c54a5d86eb208296052db5": {
      "model_module": "@jupyter-widgets/controls",
      "model_module_version": "2.0.0",
      "model_name": "HTMLModel",
      "state": {
       "layout": "IPY_MODEL_5d405ae44e874a328c5ab449b10d9c22",
       "style": "IPY_MODEL_7969fb39831b4e5889991201f7781f94",
       "value": "100%"
      }
     },
     "6c3c87a3f8bc493680957a1b6ee1139a": {
      "model_module": "@jupyter-widgets/base",
      "model_module_version": "2.0.0",
      "model_name": "LayoutModel",
      "state": {}
     },
     "6c6a1312c0e04524bfc039151f3ff7e5": {
      "model_module": "@jupyter-widgets/controls",
      "model_module_version": "2.0.0",
      "model_name": "ProgressStyleModel",
      "state": {
       "description_width": ""
      }
     },
     "6c70a026b7014ebc9725a3e735049fb6": {
      "model_module": "@jupyter-widgets/controls",
      "model_module_version": "2.0.0",
      "model_name": "ProgressStyleModel",
      "state": {
       "description_width": ""
      }
     },
     "6c80a30a21f342178b11058b38aaab0b": {
      "model_module": "@jupyter-widgets/controls",
      "model_module_version": "2.0.0",
      "model_name": "HTMLStyleModel",
      "state": {
       "description_width": "",
       "font_size": null,
       "text_color": null
      }
     },
     "6c833f8a926047e08cecc99cf2ef6b00": {
      "model_module": "@jupyter-widgets/controls",
      "model_module_version": "2.0.0",
      "model_name": "HTMLModel",
      "state": {
       "layout": "IPY_MODEL_ad3a331c59d647b7862c5aba16928c6e",
       "style": "IPY_MODEL_dafaad6595224210ae959f06b4cf34af",
       "value": " 1.86M/? [00:00&lt;00:00, 32.0MB/s]"
      }
     },
     "6c985cab91c542498823fdd1552dbec3": {
      "model_module": "@jupyter-widgets/controls",
      "model_module_version": "2.0.0",
      "model_name": "ProgressStyleModel",
      "state": {
       "description_width": ""
      }
     },
     "6cab283799c2428bbf18c49c463df43d": {
      "model_module": "@jupyter-widgets/base",
      "model_module_version": "2.0.0",
      "model_name": "LayoutModel",
      "state": {}
     },
     "6cd4bbf3cfd547e99d3dc3b8ccdbfd0e": {
      "model_module": "@jupyter-widgets/base",
      "model_module_version": "2.0.0",
      "model_name": "LayoutModel",
      "state": {}
     },
     "6cd9b098ad1f46acb32fab6c3b0fc700": {
      "model_module": "@jupyter-widgets/controls",
      "model_module_version": "2.0.0",
      "model_name": "FloatProgressModel",
      "state": {
       "bar_style": "success",
       "layout": "IPY_MODEL_46e7acd8b0b6402ca3febbe5c2c9e566",
       "max": 1964,
       "style": "IPY_MODEL_46e7000d4e854457a59617dcbff0de66",
       "value": 1964
      }
     },
     "6ce89f034515406987e971f3f077ffe7": {
      "model_module": "@jupyter-widgets/controls",
      "model_module_version": "2.0.0",
      "model_name": "HTMLModel",
      "state": {
       "layout": "IPY_MODEL_207ccdf8d36d40599d9e0e178e9d7dc2",
       "style": "IPY_MODEL_3f1c6f056df64731a109973affa8d987",
       "value": "apply len_bytes to num_bytes:   0%"
      }
     },
     "6cedbc3a825a4521a8c1772aeef57434": {
      "model_module": "@jupyter-widgets/controls",
      "model_module_version": "2.0.0",
      "model_name": "HTMLModel",
      "state": {
       "layout": "IPY_MODEL_b9c8748a1380402f9dc7f98939c409c5",
       "style": "IPY_MODEL_f5485dcae6934fad845334b88b87e42a",
       "value": "100%"
      }
     },
     "6d44598be0a74f77b3972bdbffab19d3": {
      "model_module": "@jupyter-widgets/controls",
      "model_module_version": "2.0.0",
      "model_name": "HTMLStyleModel",
      "state": {
       "description_width": "",
       "font_size": null,
       "text_color": null
      }
     },
     "6d672000795f4d20b8d81874ce2a8218": {
      "model_module": "@jupyter-widgets/base",
      "model_module_version": "2.0.0",
      "model_name": "LayoutModel",
      "state": {}
     },
     "6d856ae0a9a64a2e8967864309d57970": {
      "model_module": "@jupyter-widgets/base",
      "model_module_version": "2.0.0",
      "model_name": "LayoutModel",
      "state": {}
     },
     "6daac1d5e48f4bfdb2755760a330f049": {
      "model_module": "@jupyter-widgets/controls",
      "model_module_version": "2.0.0",
      "model_name": "HTMLModel",
      "state": {
       "layout": "IPY_MODEL_77053727414d4cb8800fbb1fdf4b420c",
       "style": "IPY_MODEL_c93c382f216e495fb46f7919725065d0",
       "value": "apply len_bytes to num_bytes: 100%"
      }
     },
     "6e3ccb7d83be4d7aaad4e759e4784f04": {
      "model_module": "@jupyter-widgets/controls",
      "model_module_version": "2.0.0",
      "model_name": "FloatProgressModel",
      "state": {
       "bar_style": "success",
       "layout": "IPY_MODEL_4cd1321c74ed4ec0b35a69b6c1e136b3",
       "max": 227,
       "style": "IPY_MODEL_e7212cc1842b4d5cba8b8fd48523a632",
       "value": 227
      }
     },
     "6e3f2c0cf6c74154b7541db9efbb92c8": {
      "model_module": "@jupyter-widgets/base",
      "model_module_version": "2.0.0",
      "model_name": "LayoutModel",
      "state": {}
     },
     "6e55b72e4be0470a995eb8bba90a726c": {
      "model_module": "@jupyter-widgets/controls",
      "model_module_version": "2.0.0",
      "model_name": "HTMLModel",
      "state": {
       "layout": "IPY_MODEL_70a9801c601a4c17a00e5e4953902a43",
       "style": "IPY_MODEL_e911f9332044407c8ee361350cb56ed8",
       "value": " 289/289 [00:33&lt;00:00, 10.71it/s]"
      }
     },
     "6e7ab8a24f9445cdbd0c8a3a71155cd5": {
      "model_module": "@jupyter-widgets/controls",
      "model_module_version": "2.0.0",
      "model_name": "HTMLStyleModel",
      "state": {
       "description_width": "",
       "font_size": null,
       "text_color": null
      }
     },
     "6e9150db819847818085d18439643b69": {
      "model_module": "@jupyter-widgets/controls",
      "model_module_version": "2.0.0",
      "model_name": "DescriptionStyleModel",
      "state": {
       "description_width": ""
      }
     },
     "6e9ced6a325e4da08e3df513220b68d6": {
      "model_module": "@jupyter-widgets/controls",
      "model_module_version": "2.0.0",
      "model_name": "FloatProgressModel",
      "state": {
       "bar_style": "success",
       "layout": "IPY_MODEL_4430172b61ea4a07b9d877bc031ef299",
       "max": 2,
       "style": "IPY_MODEL_1b678d8a3b54486e93d1e853490f39eb",
       "value": 2
      }
     },
     "6ea01572d72747718b35033d3277d359": {
      "model_module": "@jupyter-widgets/controls",
      "model_module_version": "2.0.0",
      "model_name": "HTMLStyleModel",
      "state": {
       "description_width": "",
       "font_size": null,
       "text_color": null
      }
     },
     "6ec2e61bbc534fe1bc5c8afd2459c58c": {
      "model_module": "@jupyter-widgets/controls",
      "model_module_version": "2.0.0",
      "model_name": "HTMLStyleModel",
      "state": {
       "description_width": "",
       "font_size": null,
       "text_color": null
      }
     },
     "6ec85a04b16c40bc84efda1be780f08c": {
      "model_module": "@jupyter-widgets/controls",
      "model_module_version": "2.0.0",
      "model_name": "HBoxModel",
      "state": {
       "children": [
        "IPY_MODEL_636fd1922db64234a782c874d9cbf052",
        "IPY_MODEL_3cdac7c0fc834fd280b17c4c2cae15b7",
        "IPY_MODEL_29568ceeae5a4c35954174c6841a9767"
       ],
       "layout": "IPY_MODEL_7e1dd0e3aef3414c8a7b663c0eefe9f5"
      }
     },
     "6f0f34405def4930ab1e3bfeb26796ba": {
      "model_module": "@jupyter-widgets/base",
      "model_module_version": "2.0.0",
      "model_name": "LayoutModel",
      "state": {}
     },
     "6f4c81dd3ebf495a8aa5c3e42a1551a8": {
      "model_module": "@jupyter-widgets/controls",
      "model_module_version": "2.0.0",
      "model_name": "HTMLModel",
      "state": {
       "layout": "IPY_MODEL_a786ca719eb34dc28624832883caaa30",
       "style": "IPY_MODEL_afc778d1d02942699bcf5e8fc6060484",
       "value": " 4.06k/? [00:00&lt;00:00, 236kB/s]"
      }
     },
     "6f64cd838fb44b51bde463bc124b163b": {
      "model_module": "@jupyter-widgets/controls",
      "model_module_version": "2.0.0",
      "model_name": "LabelModel",
      "state": {
       "layout": "IPY_MODEL_071f24aaa8b74fb5b3bb44b97245fa48",
       "style": "IPY_MODEL_2beec630f8ab48acaaa2a591acef25a1"
      }
     },
     "6f6cc612633f437f83232601654091de": {
      "model_module": "@jupyter-widgets/controls",
      "model_module_version": "2.0.0",
      "model_name": "HTMLModel",
      "state": {
       "layout": "IPY_MODEL_a5d5f1c2824b49388315415200978a6f",
       "style": "IPY_MODEL_e0c056b08dac4c7f8c454944c75bc6c3",
       "value": "apply len_bytes to num_bytes: 100%"
      }
     },
     "6fc55259c6cc4c558f27c5fd435c96a6": {
      "model_module": "@jupyter-widgets/controls",
      "model_module_version": "2.0.0",
      "model_name": "HTMLModel",
      "state": {
       "layout": "IPY_MODEL_71c43c736b4c462d89c599f5533eac64",
       "style": "IPY_MODEL_ad6176247e1145a49cfd67d403523ae0",
       "value": " 8953/8953 [00:04&lt;00:00, 2263.08it/s]"
      }
     },
     "6fd8d3a3ccd3430696f7a0925cfbd65c": {
      "model_module": "@jupyter-widgets/controls",
      "model_module_version": "2.0.0",
      "model_name": "FloatProgressModel",
      "state": {
       "bar_style": "success",
       "layout": "IPY_MODEL_21518f3c5899480884ebcb05eeab658c",
       "max": 2210,
       "style": "IPY_MODEL_6541defa640f41bab11c78da6553aecc",
       "value": 2210
      }
     },
     "7000022d934f4433af9245d879a4401d": {
      "model_module": "@jupyter-widgets/controls",
      "model_module_version": "2.0.0",
      "model_name": "HTMLStyleModel",
      "state": {
       "description_width": "",
       "font_size": null,
       "text_color": null
      }
     },
     "7029ea790cb64fdd95490bd9cb980448": {
      "model_module": "@jupyter-widgets/controls",
      "model_module_version": "2.0.0",
      "model_name": "HTMLModel",
      "state": {
       "layout": "IPY_MODEL_982c7ea0aea146caace1ed608068091c",
       "style": "IPY_MODEL_c2a56e9accad4c27b6e7eb6ac34f84a9",
       "value": " 289/289 [00:33&lt;00:00, 10.69it/s]"
      }
     },
     "703da7069a7c4b13bdc4cfc1489c3f28": {
      "model_module": "@jupyter-widgets/controls",
      "model_module_version": "2.0.0",
      "model_name": "HBoxModel",
      "state": {
       "children": [
        "IPY_MODEL_04a24d1dd8ca4292b8ff981735be7cee",
        "IPY_MODEL_dea321b0e0e1431b89f8a9f0cd0c48cf",
        "IPY_MODEL_ff9f75a607b54fc2bf0490de2846fe54"
       ],
       "layout": "IPY_MODEL_ce85a4d20cbc4d94aedb690b024ef493"
      }
     },
     "70788af93ba44950b9a754f6a911ca2a": {
      "model_module": "@jupyter-widgets/base",
      "model_module_version": "2.0.0",
      "model_name": "LayoutModel",
      "state": {}
     },
     "70a9801c601a4c17a00e5e4953902a43": {
      "model_module": "@jupyter-widgets/base",
      "model_module_version": "2.0.0",
      "model_name": "LayoutModel",
      "state": {}
     },
     "70c53c759a09452cb12bb9706aa9032b": {
      "model_module": "@jupyter-widgets/controls",
      "model_module_version": "2.0.0",
      "model_name": "HTMLStyleModel",
      "state": {
       "description_width": "",
       "font_size": null,
       "text_color": null
      }
     },
     "70d578a760754375a12a19b03d3a2cb4": {
      "model_module": "@jupyter-widgets/controls",
      "model_module_version": "2.0.0",
      "model_name": "HTMLStyleModel",
      "state": {
       "description_width": "",
       "font_size": null,
       "text_color": null
      }
     },
     "70d6d3d2455b4a289b4c7664895a56a4": {
      "model_module": "@jupyter-widgets/controls",
      "model_module_version": "2.0.0",
      "model_name": "HTMLStyleModel",
      "state": {
       "description_width": "",
       "font_size": null,
       "text_color": null
      }
     },
     "70f98184088d49e2acb93e654111059d": {
      "model_module": "@jupyter-widgets/base",
      "model_module_version": "2.0.0",
      "model_name": "LayoutModel",
      "state": {}
     },
     "70fa40b48d5a440b817bf59266cd5b35": {
      "model_module": "@jupyter-widgets/controls",
      "model_module_version": "2.0.0",
      "model_name": "HTMLStyleModel",
      "state": {
       "description_width": "",
       "font_size": null,
       "text_color": null
      }
     },
     "7114e2fe188e4f039aba3c8ecd7fa256": {
      "model_module": "@jupyter-widgets/controls",
      "model_module_version": "2.0.0",
      "model_name": "ProgressStyleModel",
      "state": {
       "description_width": ""
      }
     },
     "71b330cc46b8429ca13b9be206ff6b61": {
      "model_module": "@jupyter-widgets/controls",
      "model_module_version": "2.0.0",
      "model_name": "HBoxModel",
      "state": {
       "children": [
        "IPY_MODEL_08ff8bd8340e437eb115c9bdabf6039c",
        "IPY_MODEL_907456dcf8db4e5ebc4d7d1d01fe746f",
        "IPY_MODEL_10ad727059534bf6be554aafeada1ae3"
       ],
       "layout": "IPY_MODEL_e5f5af9b8d594ec996fa635b079e7a5a"
      }
     },
     "71c43c736b4c462d89c599f5533eac64": {
      "model_module": "@jupyter-widgets/base",
      "model_module_version": "2.0.0",
      "model_name": "LayoutModel",
      "state": {}
     },
     "71c9261c46e14caaae8bf5aa591a69ad": {
      "model_module": "@jupyter-widgets/controls",
      "model_module_version": "2.0.0",
      "model_name": "LabelStyleModel",
      "state": {
       "description_width": "",
       "font_family": null,
       "font_size": null,
       "font_style": null,
       "font_variant": null,
       "font_weight": null,
       "text_color": null,
       "text_decoration": null
      }
     },
     "71d15bea87484733bb23daac002177c2": {
      "model_module": "@jupyter-widgets/base",
      "model_module_version": "2.0.0",
      "model_name": "LayoutModel",
      "state": {}
     },
     "71d471f9ed9c47838b39aa27c2f74955": {
      "model_module": "@jupyter-widgets/controls",
      "model_module_version": "2.0.0",
      "model_name": "HTMLModel",
      "state": {
       "layout": "IPY_MODEL_dc3816acc6d5440da414d090aa2ec708",
       "style": "IPY_MODEL_9890507afb544cfabbb30d1bfe083b2e",
       "value": " 139/139 [00:23&lt;00:00,  5.45it/s]"
      }
     },
     "71e380b5f8714a73a3fe3c7613334df1": {
      "model_module": "@jupyter-widgets/base",
      "model_module_version": "2.0.0",
      "model_name": "LayoutModel",
      "state": {}
     },
     "720048d99b704e0d820e1d3253841ae7": {
      "model_module": "@jupyter-widgets/base",
      "model_module_version": "2.0.0",
      "model_name": "LayoutModel",
      "state": {}
     },
     "721bbbb1796b49a8a5108700551ac2e3": {
      "model_module": "@jupyter-widgets/base",
      "model_module_version": "2.0.0",
      "model_name": "LayoutModel",
      "state": {}
     },
     "72203232ffc04960be61d6cc33cfdde2": {
      "model_module": "@jupyter-widgets/base",
      "model_module_version": "2.0.0",
      "model_name": "LayoutModel",
      "state": {}
     },
     "72463e7b885348aabf5885ebe49530df": {
      "model_module": "@jupyter-widgets/controls",
      "model_module_version": "2.0.0",
      "model_name": "ProgressStyleModel",
      "state": {
       "description_width": ""
      }
     },
     "72472b3b7a9542a2b5e4df7d69b0c3cb": {
      "model_module": "@jupyter-widgets/controls",
      "model_module_version": "2.0.0",
      "model_name": "HTMLStyleModel",
      "state": {
       "description_width": "",
       "font_size": null,
       "text_color": null
      }
     },
     "724d73e681004722aefb03bbddb497f3": {
      "model_module": "@jupyter-widgets/controls",
      "model_module_version": "2.0.0",
      "model_name": "LabelModel",
      "state": {
       "layout": "IPY_MODEL_d70046bba54043e497ac8c3a479cbdc3",
       "style": "IPY_MODEL_1d8b944c5e63404e983e85acf39acb6f",
       "value": "0.047 MB of 0.047 MB uploaded (0.000 MB deduped)\r"
      }
     },
     "727ce43107ca4350bb3a6d35d3888200": {
      "model_module": "@jupyter-widgets/controls",
      "model_module_version": "2.0.0",
      "model_name": "HTMLModel",
      "state": {
       "layout": "IPY_MODEL_c8e7c2545b104d5d82adcc7096fad668",
       "style": "IPY_MODEL_2faf575f5d424445bde61ebaa7f44e93",
       "value": " 230/230 [00:10&lt;00:00, 189.98it/s]"
      }
     },
     "72888f2fdfa54e268e8624b6e5d49832": {
      "model_module": "@jupyter-widgets/controls",
      "model_module_version": "2.0.0",
      "model_name": "HBoxModel",
      "state": {
       "children": [
        "IPY_MODEL_d3255e3f2cc846e0a24d8e4541060789",
        "IPY_MODEL_6a92323bb4ee40cfb73188f69eac6cb4",
        "IPY_MODEL_de53fec7b9604e2fbedd6c2c8b0d1ec1"
       ],
       "layout": "IPY_MODEL_e5cb8380619f47d79109db15fc51b8bc"
      }
     },
     "72b10bb8549c48bf9a0b95b02387da59": {
      "model_module": "@jupyter-widgets/base",
      "model_module_version": "2.0.0",
      "model_name": "LayoutModel",
      "state": {}
     },
     "72c37ac74f7e4bf3b80dcb1ec1ee59c9": {
      "model_module": "@jupyter-widgets/base",
      "model_module_version": "2.0.0",
      "model_name": "LayoutModel",
      "state": {}
     },
     "72c818e5804541d7b7dde256da7c93ff": {
      "model_module": "@jupyter-widgets/base",
      "model_module_version": "2.0.0",
      "model_name": "LayoutModel",
      "state": {}
     },
     "73354974732d48e68eac588f451a9cbb": {
      "model_module": "@jupyter-widgets/controls",
      "model_module_version": "2.0.0",
      "model_name": "HBoxModel",
      "state": {
       "children": [
        "IPY_MODEL_7f286fe06c7747c2b4b589a3fd530e9a",
        "IPY_MODEL_1bf5a3dd7e4e404e92d4e307f15f9f73",
        "IPY_MODEL_b369c21832fa4b779409c76250754b42"
       ],
       "layout": "IPY_MODEL_d3a8b9a6d7f644c1ba767b5b1e2efeeb"
      }
     },
     "7349f59fe5054c00a21f5526670c57a7": {
      "model_module": "@jupyter-widgets/controls",
      "model_module_version": "2.0.0",
      "model_name": "HTMLModel",
      "state": {
       "layout": "IPY_MODEL_d1702a30231d469596f7b4b6a6a6ad44",
       "style": "IPY_MODEL_6878dc7fd1e848989f4620d84f7c45be",
       "value": "Epochs 1/2. Running Loss:    0.3797: 100%"
      }
     },
     "735ae536d852409fb63f6987afff5ed2": {
      "model_module": "@jupyter-widgets/controls",
      "model_module_version": "2.0.0",
      "model_name": "HTMLModel",
      "state": {
       "layout": "IPY_MODEL_a4c501ae24994bdbbf8f80140a32b0a7",
       "style": "IPY_MODEL_879830dd60494ac388c3a66e81569fa0",
       "value": " 228/228 [00:26&lt;00:00,  9.40it/s]"
      }
     },
     "735d1df40b924a5c95361b2f1da2a981": {
      "model_module": "@jupyter-widgets/base",
      "model_module_version": "2.0.0",
      "model_name": "LayoutModel",
      "state": {}
     },
     "7369cdf1293c425faf5a0cbb215a79e9": {
      "model_module": "@jupyter-widgets/controls",
      "model_module_version": "2.0.0",
      "model_name": "HBoxModel",
      "state": {
       "children": [
        "IPY_MODEL_194d21b515d447d492df7304bdec0742",
        "IPY_MODEL_c09e34fa56f84f0087098e82ff0ea381",
        "IPY_MODEL_4dbee2d2c2de4666a7710e928d466835"
       ],
       "layout": "IPY_MODEL_0b302ea71bb745439ff7bfb332e47837"
      }
     },
     "736d265f63124819a7f0a32035ea81cd": {
      "model_module": "@jupyter-widgets/controls",
      "model_module_version": "2.0.0",
      "model_name": "HTMLStyleModel",
      "state": {
       "description_width": "",
       "font_size": null,
       "text_color": null
      }
     },
     "738608176f404402aab40e6e269550f8": {
      "model_module": "@jupyter-widgets/controls",
      "model_module_version": "2.0.0",
      "model_name": "HTMLModel",
      "state": {
       "layout": "IPY_MODEL_dfaf78989d1643d3aaae16e4155abfd0",
       "style": "IPY_MODEL_5df4dfa777284120a71ae1943a306c07",
       "value": " 8953/8953 [00:08&lt;00:00, 1157.70it/s]"
      }
     },
     "73a090929bd6441dac96918ce3bd3a30": {
      "model_module": "@jupyter-widgets/controls",
      "model_module_version": "2.0.0",
      "model_name": "HBoxModel",
      "state": {
       "children": [
        "IPY_MODEL_77b051e1296c4b80a86aa14e32d3fb8d",
        "IPY_MODEL_3287c9bd7cb540f58e30a3f5a9ae4cb8",
        "IPY_MODEL_9878bf22f5344e7695390af6d1ff2b3c"
       ],
       "layout": "IPY_MODEL_7fc19bc2e2de4e9bbe9f3bee3c91be13"
      }
     },
     "73bccb64ffb94e5a808ba64266a99643": {
      "model_module": "@jupyter-widgets/base",
      "model_module_version": "2.0.0",
      "model_name": "LayoutModel",
      "state": {}
     },
     "73e5ce41a5164201a0f7dda8aad8b173": {
      "model_module": "@jupyter-widgets/controls",
      "model_module_version": "2.0.0",
      "model_name": "HTMLStyleModel",
      "state": {
       "description_width": "",
       "font_size": null,
       "text_color": null
      }
     },
     "73fe28429cdd4ca7a0f47a4adf9b65e4": {
      "model_module": "@jupyter-widgets/base",
      "model_module_version": "2.0.0",
      "model_name": "LayoutModel",
      "state": {}
     },
     "741667314e1f41aab4d81d14e1bae41e": {
      "model_module": "@jupyter-widgets/base",
      "model_module_version": "2.0.0",
      "model_name": "LayoutModel",
      "state": {}
     },
     "7459a540941a42b9bbe7f0295a558389": {
      "model_module": "@jupyter-widgets/base",
      "model_module_version": "2.0.0",
      "model_name": "LayoutModel",
      "state": {}
     },
     "7459dba5931b4446bfbc1b63aef9fe88": {
      "model_module": "@jupyter-widgets/base",
      "model_module_version": "2.0.0",
      "model_name": "LayoutModel",
      "state": {}
     },
     "7463722d4cbb47b6b951175cbbca0564": {
      "model_module": "@jupyter-widgets/base",
      "model_module_version": "2.0.0",
      "model_name": "LayoutModel",
      "state": {}
     },
     "747bc8f975bc43fcb59c5f283016411b": {
      "model_module": "@jupyter-widgets/controls",
      "model_module_version": "2.0.0",
      "model_name": "FloatProgressModel",
      "state": {
       "bar_style": "success",
       "layout": "IPY_MODEL_1bda85d211df4e37b086dc83d1764696",
       "max": 2211,
       "style": "IPY_MODEL_e193898821054e8ba3c2e749df037178",
       "value": 2211
      }
     },
     "7489d51374f443e6b04eb5192b581ebd": {
      "model_module": "@jupyter-widgets/controls",
      "model_module_version": "2.0.0",
      "model_name": "ProgressStyleModel",
      "state": {
       "description_width": ""
      }
     },
     "74a06f770f1e45d58de6ccc22f6289da": {
      "model_module": "@jupyter-widgets/base",
      "model_module_version": "2.0.0",
      "model_name": "LayoutModel",
      "state": {}
     },
     "74b7c236ee864d969d3788d125187527": {
      "model_module": "@jupyter-widgets/controls",
      "model_module_version": "2.0.0",
      "model_name": "HTMLStyleModel",
      "state": {
       "description_width": "",
       "font_size": null,
       "text_color": null
      }
     },
     "74c3b0d9a234470bb5850453977d496b": {
      "model_module": "@jupyter-widgets/controls",
      "model_module_version": "2.0.0",
      "model_name": "HTMLStyleModel",
      "state": {
       "description_width": "",
       "font_size": null,
       "text_color": null
      }
     },
     "74c847ba7ff6463a828479e6a39807c7": {
      "model_module": "@jupyter-widgets/controls",
      "model_module_version": "2.0.0",
      "model_name": "HTMLModel",
      "state": {
       "layout": "IPY_MODEL_9bba6509969e459fb77b5f3948b52097",
       "style": "IPY_MODEL_43d8f66829214accbb108dfbe3b5dc69",
       "value": " 289/289 [00:33&lt;00:00, 10.72it/s]"
      }
     },
     "74f38c672946488f9c5f83ebdcf35bd0": {
      "model_module": "@jupyter-widgets/base",
      "model_module_version": "2.0.0",
      "model_name": "LayoutModel",
      "state": {}
     },
     "74fb34c42c4e4a9ebf9e94f94c23980b": {
      "model_module": "@jupyter-widgets/controls",
      "model_module_version": "2.0.0",
      "model_name": "HTMLStyleModel",
      "state": {
       "description_width": "",
       "font_size": null,
       "text_color": null
      }
     },
     "75067075cb1b4d5a9fdef5a529e3ac77": {
      "model_module": "@jupyter-widgets/controls",
      "model_module_version": "2.0.0",
      "model_name": "HBoxModel",
      "state": {
       "children": [
        "IPY_MODEL_dddda202ea4243a79737b87b302e15c5",
        "IPY_MODEL_1753151938ca4aa49d734e8f20b6158c",
        "IPY_MODEL_e292726c57d241188670220678f2b979"
       ],
       "layout": "IPY_MODEL_7eaf3b36589a49b4954a01d74d041f53"
      }
     },
     "750b6c036a26476fb5aab90153917181": {
      "model_module": "@jupyter-widgets/controls",
      "model_module_version": "2.0.0",
      "model_name": "HTMLStyleModel",
      "state": {
       "description_width": "",
       "font_size": null,
       "text_color": null
      }
     },
     "75214b484c4941b1980a7f0998784de7": {
      "model_module": "@jupyter-widgets/controls",
      "model_module_version": "2.0.0",
      "model_name": "HTMLStyleModel",
      "state": {
       "description_width": "",
       "font_size": null,
       "text_color": null
      }
     },
     "75346e21a2934ff48e5d94b20e6e586a": {
      "model_module": "@jupyter-widgets/base",
      "model_module_version": "2.0.0",
      "model_name": "LayoutModel",
      "state": {}
     },
     "7555aef05f934d7a97ec99d902b1d8b4": {
      "model_module": "@jupyter-widgets/controls",
      "model_module_version": "2.0.0",
      "model_name": "FloatProgressModel",
      "state": {
       "bar_style": "success",
       "layout": "IPY_MODEL_395aff23032a49cfaac668ccb93a55fb",
       "max": 2211,
       "style": "IPY_MODEL_acbd03c48c6c413c99dd4a30d15d10f9",
       "value": 2211
      }
     },
     "7569ced57528416994e778af302c0bb2": {
      "model_module": "@jupyter-widgets/controls",
      "model_module_version": "2.0.0",
      "model_name": "HTMLStyleModel",
      "state": {
       "description_width": "",
       "font_size": null,
       "text_color": null
      }
     },
     "7576f86a21b741929ca1c181c20aae39": {
      "model_module": "@jupyter-widgets/base",
      "model_module_version": "2.0.0",
      "model_name": "LayoutModel",
      "state": {}
     },
     "757b715cb67a4981bf843cee5677569f": {
      "model_module": "@jupyter-widgets/controls",
      "model_module_version": "2.0.0",
      "model_name": "HTMLStyleModel",
      "state": {
       "description_width": "",
       "font_size": null,
       "text_color": null
      }
     },
     "75995da714f346bebf75e62bccb74bf3": {
      "model_module": "@jupyter-widgets/controls",
      "model_module_version": "2.0.0",
      "model_name": "HTMLStyleModel",
      "state": {
       "description_width": "",
       "font_size": null,
       "text_color": null
      }
     },
     "75a889502fe44e7aae64ec01fd3ea65e": {
      "model_module": "@jupyter-widgets/base",
      "model_module_version": "2.0.0",
      "model_name": "LayoutModel",
      "state": {}
     },
     "75af9062b9e645a4bc5557b3a8e94b30": {
      "model_module": "@jupyter-widgets/controls",
      "model_module_version": "2.0.0",
      "model_name": "HTMLStyleModel",
      "state": {
       "description_width": "",
       "font_size": null,
       "text_color": null
      }
     },
     "75b1c64ac90d420faaa68def2c059333": {
      "model_module": "@jupyter-widgets/controls",
      "model_module_version": "2.0.0",
      "model_name": "HTMLStyleModel",
      "state": {
       "description_width": "",
       "font_size": null,
       "text_color": null
      }
     },
     "75b4c9ba29874d87a112a57a28bbc449": {
      "model_module": "@jupyter-widgets/controls",
      "model_module_version": "2.0.0",
      "model_name": "HTMLStyleModel",
      "state": {
       "description_width": "",
       "font_size": null,
       "text_color": null
      }
     },
     "75b7a4a0358f419eab49898a4e8a18be": {
      "model_module": "@jupyter-widgets/controls",
      "model_module_version": "2.0.0",
      "model_name": "HTMLStyleModel",
      "state": {
       "description_width": "",
       "font_size": null,
       "text_color": null
      }
     },
     "762c3fabdbe244f687f47eab079645fe": {
      "model_module": "@jupyter-widgets/controls",
      "model_module_version": "2.0.0",
      "model_name": "LabelStyleModel",
      "state": {
       "description_width": "",
       "font_family": null,
       "font_size": null,
       "font_style": null,
       "font_variant": null,
       "font_weight": null,
       "text_color": null,
       "text_decoration": null
      }
     },
     "765d503dc04c46e0be8099a4262dc467": {
      "model_module": "@jupyter-widgets/controls",
      "model_module_version": "2.0.0",
      "model_name": "FloatProgressModel",
      "state": {
       "bar_style": "success",
       "layout": "IPY_MODEL_49dfc7b3918648fdaf51ab7f5d90d1ac",
       "max": 7074,
       "style": "IPY_MODEL_b12ae645613b4a0f8cdcd47e8fd88096",
       "value": 7074
      }
     },
     "76d3fc38858547e7b4200f7f701b3a6b": {
      "model_module": "@jupyter-widgets/controls",
      "model_module_version": "2.0.0",
      "model_name": "HBoxModel",
      "state": {
       "children": [
        "IPY_MODEL_0d2f7533e9ec4f63a705b38a57453503",
        "IPY_MODEL_88a4f173c9a945f2879a16fb2d6e47ee",
        "IPY_MODEL_735ae536d852409fb63f6987afff5ed2"
       ],
       "layout": "IPY_MODEL_97a7dfb390b64d889e89bf84a939a50c"
      }
     },
     "76ec160d52984b39a87bb60a018dedc5": {
      "model_module": "@jupyter-widgets/base",
      "model_module_version": "2.0.0",
      "model_name": "LayoutModel",
      "state": {}
     },
     "770002ebb5ec4e4fb0de5c8b8376c0fb": {
      "model_module": "@jupyter-widgets/controls",
      "model_module_version": "2.0.0",
      "model_name": "HTMLStyleModel",
      "state": {
       "description_width": "",
       "font_size": null,
       "text_color": null
      }
     },
     "77053727414d4cb8800fbb1fdf4b420c": {
      "model_module": "@jupyter-widgets/base",
      "model_module_version": "2.0.0",
      "model_name": "LayoutModel",
      "state": {}
     },
     "7714a17871514bda99def73b8de360fa": {
      "model_module": "@jupyter-widgets/controls",
      "model_module_version": "2.0.0",
      "model_name": "FloatProgressModel",
      "state": {
       "bar_style": "success",
       "layout": "IPY_MODEL_ac4f40d29ba8452f83365371e880e3b6",
       "max": 289,
       "style": "IPY_MODEL_d716f00ac5ef469aaa58c2498ac68e11",
       "value": 289
      }
     },
     "77400e3c8ab44d3f97aeca9837f77d90": {
      "model_module": "@jupyter-widgets/controls",
      "model_module_version": "2.0.0",
      "model_name": "HBoxModel",
      "state": {
       "children": [
        "IPY_MODEL_d52ead1a675849f4a72ccd0f6b3644b4",
        "IPY_MODEL_31af57ebabcc46099c21e047333ae741",
        "IPY_MODEL_5f6b562983de4570a0d6e48a2581e0ee"
       ],
       "layout": "IPY_MODEL_5352288cb4c44b199a3fc4a63463a360"
      }
     },
     "776ea55ae16a4d68bf7ce8939f8c119b": {
      "model_module": "@jupyter-widgets/base",
      "model_module_version": "2.0.0",
      "model_name": "LayoutModel",
      "state": {}
     },
     "778aff5e8a004fbb8ffe6df5116dccc5": {
      "model_module": "@jupyter-widgets/controls",
      "model_module_version": "2.0.0",
      "model_name": "ProgressStyleModel",
      "state": {
       "description_width": ""
      }
     },
     "779b2dcf420846719c720af0d6a2c7bb": {
      "model_module": "@jupyter-widgets/controls",
      "model_module_version": "2.0.0",
      "model_name": "FloatProgressModel",
      "state": {
       "bar_style": "danger",
       "layout": "IPY_MODEL_35b0df2071894dcd88ea92fdda963c73",
       "max": 289,
       "style": "IPY_MODEL_7d0db28f6ec144d18a8d8fd1ad15afe9",
       "value": 99
      }
     },
     "77b051e1296c4b80a86aa14e32d3fb8d": {
      "model_module": "@jupyter-widgets/controls",
      "model_module_version": "2.0.0",
      "model_name": "HTMLModel",
      "state": {
       "layout": "IPY_MODEL_6659f0d00f684146986f2a033f7b56c4",
       "style": "IPY_MODEL_bcdf23e77b854329a9f04992c97483c2",
       "value": "100%"
      }
     },
     "77c3f60d789541a8abbd630068274c2c": {
      "model_module": "@jupyter-widgets/controls",
      "model_module_version": "2.0.0",
      "model_name": "ProgressStyleModel",
      "state": {
       "description_width": ""
      }
     },
     "78003416464245cdabf0c7f80b63409a": {
      "model_module": "@jupyter-widgets/base",
      "model_module_version": "2.0.0",
      "model_name": "LayoutModel",
      "state": {}
     },
     "781391ec810b4429a01e060c29cf63b1": {
      "model_module": "@jupyter-widgets/base",
      "model_module_version": "2.0.0",
      "model_name": "LayoutModel",
      "state": {}
     },
     "783b393977bb431d8d128f425d941967": {
      "model_module": "@jupyter-widgets/controls",
      "model_module_version": "2.0.0",
      "model_name": "HTMLModel",
      "state": {
       "layout": "IPY_MODEL_42c46e94685547989ee7d90aacb414bc",
       "style": "IPY_MODEL_47feace3e0424d5ba15736e0f2ae07ca",
       "value": "Running Evaluation: 100%"
      }
     },
     "786ac8e51e5d4c0093c9bcdaa7d075f5": {
      "model_module": "@jupyter-widgets/base",
      "model_module_version": "2.0.0",
      "model_name": "LayoutModel",
      "state": {}
     },
     "78e309b6f21f4582ac0375407d1d2a97": {
      "model_module": "@jupyter-widgets/base",
      "model_module_version": "2.0.0",
      "model_name": "LayoutModel",
      "state": {}
     },
     "792676146b6542e9915e5964f55fa744": {
      "model_module": "@jupyter-widgets/base",
      "model_module_version": "2.0.0",
      "model_name": "LayoutModel",
      "state": {}
     },
     "79349d0b5791441b85ace714b0d66dfb": {
      "model_module": "@jupyter-widgets/controls",
      "model_module_version": "2.0.0",
      "model_name": "FloatProgressModel",
      "state": {
       "bar_style": "success",
       "layout": "IPY_MODEL_fda30aa90c034a90a27bb0469d5a4aa9",
       "max": 289,
       "style": "IPY_MODEL_974b9fdae6d249ea85d69502e276ff9a",
       "value": 289
      }
     },
     "794d14b2252e4f019eb8436696247dbb": {
      "model_module": "@jupyter-widgets/controls",
      "model_module_version": "2.0.0",
      "model_name": "ProgressStyleModel",
      "state": {
       "description_width": ""
      }
     },
     "79634a102fb748edbd0a55a7ce378bbd": {
      "model_module": "@jupyter-widgets/base",
      "model_module_version": "2.0.0",
      "model_name": "LayoutModel",
      "state": {}
     },
     "796416c959a2426a8f4e090b9426d458": {
      "model_module": "@jupyter-widgets/controls",
      "model_module_version": "2.0.0",
      "model_name": "ProgressStyleModel",
      "state": {
       "description_width": ""
      }
     },
     "7969fb39831b4e5889991201f7781f94": {
      "model_module": "@jupyter-widgets/controls",
      "model_module_version": "2.0.0",
      "model_name": "HTMLStyleModel",
      "state": {
       "description_width": "",
       "font_size": null,
       "text_color": null
      }
     },
     "798d16d2fda649e89eb84d6bcdbd2ca2": {
      "model_module": "@jupyter-widgets/controls",
      "model_module_version": "2.0.0",
      "model_name": "HTMLModel",
      "state": {
       "layout": "IPY_MODEL_2924098d88424ae69811c822d37942ee",
       "style": "IPY_MODEL_24cf2abb5f774849ba077c6c2efe259c",
       "value": " 227/227 [00:00&lt;00:00, 997.50it/s]"
      }
     },
     "79bb065879264467abefc04895aa2cb0": {
      "model_module": "@jupyter-widgets/controls",
      "model_module_version": "2.0.0",
      "model_name": "HTMLModel",
      "state": {
       "layout": "IPY_MODEL_cc9a835acd754d98bc8494c817d63c7e",
       "style": "IPY_MODEL_94fa14571cef453bb960a0ac3982943b",
       "value": "100%"
      }
     },
     "7a351fd95be64b9e916ea46a575f9ef1": {
      "model_module": "@jupyter-widgets/controls",
      "model_module_version": "2.0.0",
      "model_name": "HTMLStyleModel",
      "state": {
       "description_width": "",
       "font_size": null,
       "text_color": null
      }
     },
     "7a63ee1c6cd14a0f9a361d87fae6974a": {
      "model_module": "@jupyter-widgets/controls",
      "model_module_version": "2.0.0",
      "model_name": "FloatProgressModel",
      "state": {
       "layout": "IPY_MODEL_5bfe2ca1b189456d8672f9bbd32d6808",
       "max": 1,
       "style": "IPY_MODEL_8ce69f50ee19475488391a7294a3d3ba"
      }
     },
     "7a7b4b32d9ca464aa75b66549d7a651d": {
      "model_module": "@jupyter-widgets/controls",
      "model_module_version": "2.0.0",
      "model_name": "HBoxModel",
      "state": {
       "children": [
        "IPY_MODEL_aea0a9a0b88a4aafbcb3d0fd4f563bd8",
        "IPY_MODEL_476372c2fc1044a79bff72832cb0ed87",
        "IPY_MODEL_f1677df72aec4525a3802f9427762067"
       ],
       "layout": "IPY_MODEL_592030f136d3417c829033eb1f208653"
      }
     },
     "7a9b51cb563e4a70b615449425682678": {
      "model_module": "@jupyter-widgets/base",
      "model_module_version": "2.0.0",
      "model_name": "LayoutModel",
      "state": {}
     },
     "7aa69dcc814c4c92afbb164a26f16cd7": {
      "model_module": "@jupyter-widgets/controls",
      "model_module_version": "2.0.0",
      "model_name": "VBoxModel",
      "state": {
       "children": [
        "IPY_MODEL_934202f101474b178b70031884902ef0",
        "IPY_MODEL_d753c8d745134aca96c12d2fbcb1f34e"
       ],
       "layout": "IPY_MODEL_b655c57b7ad94a09a1be441116ae70e1"
      }
     },
     "7ab2f987951b4b8ba0a43598790b969b": {
      "model_module": "@jupyter-widgets/base",
      "model_module_version": "2.0.0",
      "model_name": "LayoutModel",
      "state": {}
     },
     "7acf4cd1206d4a74ba32108ca3332d85": {
      "model_module": "@jupyter-widgets/base",
      "model_module_version": "2.0.0",
      "model_name": "LayoutModel",
      "state": {}
     },
     "7ad95afe38514ea0af0f565138b1efd0": {
      "model_module": "@jupyter-widgets/controls",
      "model_module_version": "2.0.0",
      "model_name": "LabelModel",
      "state": {
       "layout": "IPY_MODEL_173d8a35b8cf4d699f16a566f2c51fb1",
       "style": "IPY_MODEL_5e0c2580928946f484a25b900586133b"
      }
     },
     "7ae8015c6cdc4d72b628755666f336de": {
      "model_module": "@jupyter-widgets/base",
      "model_module_version": "2.0.0",
      "model_name": "LayoutModel",
      "state": {}
     },
     "7af57920d7864b95a6021788bfa6e896": {
      "model_module": "@jupyter-widgets/base",
      "model_module_version": "2.0.0",
      "model_name": "LayoutModel",
      "state": {}
     },
     "7b36a45587134875b9f9644ec89d7bea": {
      "model_module": "@jupyter-widgets/base",
      "model_module_version": "2.0.0",
      "model_name": "LayoutModel",
      "state": {}
     },
     "7b3a044116d64a4fbcc0c23e514865d5": {
      "model_module": "@jupyter-widgets/controls",
      "model_module_version": "2.0.0",
      "model_name": "HTMLStyleModel",
      "state": {
       "description_width": "",
       "font_size": null,
       "text_color": null
      }
     },
     "7b57ccd8c83243b5a3e92e63226077d4": {
      "model_module": "@jupyter-widgets/controls",
      "model_module_version": "2.0.0",
      "model_name": "LabelModel",
      "state": {
       "layout": "IPY_MODEL_5e62fbb40e784adbb14c8175a3b342f3",
       "style": "IPY_MODEL_b85963eac1ed4d63af83a671d5e7a2a9"
      }
     },
     "7b6d845f2ff14666bbcf1ca66ae9d818": {
      "model_module": "@jupyter-widgets/controls",
      "model_module_version": "2.0.0",
      "model_name": "FloatProgressModel",
      "state": {
       "layout": "IPY_MODEL_150f67e878514695bb0864e3546b6261",
       "max": 1,
       "style": "IPY_MODEL_56c20ee8fa7c4ae08e4f14ebbffea2f0"
      }
     },
     "7b77a4a9d55941f2be3aad83a224e856": {
      "model_module": "@jupyter-widgets/base",
      "model_module_version": "2.0.0",
      "model_name": "LayoutModel",
      "state": {}
     },
     "7b91d61cc26d4b0b9d863738db1ad0e9": {
      "model_module": "@jupyter-widgets/base",
      "model_module_version": "2.0.0",
      "model_name": "LayoutModel",
      "state": {}
     },
     "7b985ac01576426aa3183d36e53d0e80": {
      "model_module": "@jupyter-widgets/controls",
      "model_module_version": "2.0.0",
      "model_name": "HTMLStyleModel",
      "state": {
       "description_width": "",
       "font_size": null,
       "text_color": null
      }
     },
     "7bb6ade0939b42529182c36d2dc03015": {
      "model_module": "@jupyter-widgets/base",
      "model_module_version": "2.0.0",
      "model_name": "LayoutModel",
      "state": {}
     },
     "7bc0336e7575437aa374ddad82eda65a": {
      "model_module": "@jupyter-widgets/base",
      "model_module_version": "2.0.0",
      "model_name": "LayoutModel",
      "state": {}
     },
     "7bd284a611ba4409a22f7f8f66eb67ad": {
      "model_module": "@jupyter-widgets/controls",
      "model_module_version": "2.0.0",
      "model_name": "LabelStyleModel",
      "state": {
       "description_width": "",
       "font_family": null,
       "font_size": null,
       "font_style": null,
       "font_variant": null,
       "font_weight": null,
       "text_color": null,
       "text_decoration": null
      }
     },
     "7bddecb8d662449bad56851254638545": {
      "model_module": "@jupyter-widgets/controls",
      "model_module_version": "2.0.0",
      "model_name": "HTMLStyleModel",
      "state": {
       "description_width": "",
       "font_size": null,
       "text_color": null
      }
     },
     "7bde4267e5684a5a9a04656efeaefab2": {
      "model_module": "@jupyter-widgets/controls",
      "model_module_version": "2.0.0",
      "model_name": "HTMLStyleModel",
      "state": {
       "description_width": "",
       "font_size": null,
       "text_color": null
      }
     },
     "7c071716863c4d1c8a4b14cc9df4a70f": {
      "model_module": "@jupyter-widgets/controls",
      "model_module_version": "2.0.0",
      "model_name": "FloatProgressModel",
      "state": {
       "bar_style": "success",
       "layout": "IPY_MODEL_0c8aa1f860ff48f6b051228898985ad6",
       "max": 228,
       "style": "IPY_MODEL_dcfa65acfd8b4258abf07c22abff1ded",
       "value": 228
      }
     },
     "7c2314fd37f94ecb8c4721b1e5706421": {
      "model_module": "@jupyter-widgets/controls",
      "model_module_version": "2.0.0",
      "model_name": "HBoxModel",
      "state": {
       "children": [
        "IPY_MODEL_4111cb1fd4224f3aad54bbd81531e341",
        "IPY_MODEL_696c758e8f98419597cc603ac4efc35e",
        "IPY_MODEL_c5dd99c101054ceaaf1a49f570a5eb72"
       ],
       "layout": "IPY_MODEL_d4cc05b1010d422daf46055fb1a7b7b9"
      }
     },
     "7c386478120a48268349872622d6aa98": {
      "model_module": "@jupyter-widgets/controls",
      "model_module_version": "2.0.0",
      "model_name": "ProgressStyleModel",
      "state": {
       "description_width": ""
      }
     },
     "7c61f34e275144a8bb1c3888a6fde669": {
      "model_module": "@jupyter-widgets/controls",
      "model_module_version": "2.0.0",
      "model_name": "HTMLStyleModel",
      "state": {
       "description_width": "",
       "font_size": null,
       "text_color": null
      }
     },
     "7c82cc0560494ddda3dd89c5e1e0766b": {
      "model_module": "@jupyter-widgets/base",
      "model_module_version": "2.0.0",
      "model_name": "LayoutModel",
      "state": {}
     },
     "7d0db28f6ec144d18a8d8fd1ad15afe9": {
      "model_module": "@jupyter-widgets/controls",
      "model_module_version": "2.0.0",
      "model_name": "ProgressStyleModel",
      "state": {
       "description_width": ""
      }
     },
     "7d24c56c2a974dc7b2a82b941ab575c2": {
      "model_module": "@jupyter-widgets/controls",
      "model_module_version": "2.0.0",
      "model_name": "ProgressStyleModel",
      "state": {
       "description_width": ""
      }
     },
     "7d3f12c8cfa74bd787b9171ced6ce168": {
      "model_module": "@jupyter-widgets/base",
      "model_module_version": "2.0.0",
      "model_name": "LayoutModel",
      "state": {}
     },
     "7d6a629cad3443d4a816317d419922c7": {
      "model_module": "@jupyter-widgets/controls",
      "model_module_version": "2.0.0",
      "model_name": "ProgressStyleModel",
      "state": {
       "description_width": ""
      }
     },
     "7d8f2dfb4d954464830bd820b714e942": {
      "model_module": "@jupyter-widgets/controls",
      "model_module_version": "2.0.0",
      "model_name": "HTMLModel",
      "state": {
       "layout": "IPY_MODEL_f00bcfd888924045bb8f335db84524e3",
       "style": "IPY_MODEL_2d6dab6c7a0f497a8ae60af698965495",
       "value": " 228/228 [00:25&lt;00:00, 10.29it/s]"
      }
     },
     "7da0a615569b479596c2034c18dd68ea": {
      "model_module": "@jupyter-widgets/controls",
      "model_module_version": "2.0.0",
      "model_name": "HTMLStyleModel",
      "state": {
       "description_width": "",
       "font_size": null,
       "text_color": null
      }
     },
     "7da9fd0ad2454343ad328b8242ef2595": {
      "model_module": "@jupyter-widgets/base",
      "model_module_version": "2.0.0",
      "model_name": "LayoutModel",
      "state": {}
     },
     "7e0bc7166825485d8a0ff3cd6d7bbbc4": {
      "model_module": "@jupyter-widgets/controls",
      "model_module_version": "2.0.0",
      "model_name": "VBoxModel",
      "state": {
       "children": [
        "IPY_MODEL_0e1e1aac440d4e8d866f8895a7d892e9",
        "IPY_MODEL_23f3442777d54e59b2a31a186cb8fb0f"
       ],
       "layout": "IPY_MODEL_b2f5d97552f04c9ca9d4e37cafdc605a"
      }
     },
     "7e1dd0e3aef3414c8a7b663c0eefe9f5": {
      "model_module": "@jupyter-widgets/base",
      "model_module_version": "2.0.0",
      "model_name": "LayoutModel",
      "state": {}
     },
     "7e3b5929d459459b9e6618ebf3c78c87": {
      "model_module": "@jupyter-widgets/base",
      "model_module_version": "2.0.0",
      "model_name": "LayoutModel",
      "state": {}
     },
     "7e46ae14112d477e9f9037afaa482175": {
      "model_module": "@jupyter-widgets/controls",
      "model_module_version": "2.0.0",
      "model_name": "HTMLModel",
      "state": {
       "layout": "IPY_MODEL_19757b016b244f43ae19e0b9ae1667c8",
       "style": "IPY_MODEL_fe3731d27bd44879b3d57ea7540a2cc8",
       "value": " 227/227 [00:00&lt;00:00, 485.24it/s]"
      }
     },
     "7e5555459b144e8eb35590d4cdaecd20": {
      "model_module": "@jupyter-widgets/controls",
      "model_module_version": "2.0.0",
      "model_name": "ProgressStyleModel",
      "state": {
       "description_width": ""
      }
     },
     "7e671e9f7fe446dabe695693e71a594f": {
      "model_module": "@jupyter-widgets/controls",
      "model_module_version": "2.0.0",
      "model_name": "HTMLStyleModel",
      "state": {
       "description_width": "",
       "font_size": null,
       "text_color": null
      }
     },
     "7e70464e8c584a58b5f2a53ff6909311": {
      "model_module": "@jupyter-widgets/base",
      "model_module_version": "2.0.0",
      "model_name": "LayoutModel",
      "state": {}
     },
     "7e774a2034464fa7a1ccb05d2b8cc61b": {
      "model_module": "@jupyter-widgets/controls",
      "model_module_version": "2.0.0",
      "model_name": "HTMLStyleModel",
      "state": {
       "description_width": "",
       "font_size": null,
       "text_color": null
      }
     },
     "7e91e94fcdf545f69d289a37f493b5f9": {
      "model_module": "@jupyter-widgets/base",
      "model_module_version": "2.0.0",
      "model_name": "LayoutModel",
      "state": {}
     },
     "7e96b19b86b24117a2b2f5f3c52ba586": {
      "model_module": "@jupyter-widgets/controls",
      "model_module_version": "2.0.0",
      "model_name": "FloatProgressModel",
      "state": {
       "layout": "IPY_MODEL_36ee67eea1154f2094087383423df1de",
       "max": 1,
       "style": "IPY_MODEL_68f7b6e0fb0f4ad0b573fca465eca8ae",
       "value": 1
      }
     },
     "7e992a148a7a43af92c9fdf9dc66563d": {
      "model_module": "@jupyter-widgets/controls",
      "model_module_version": "2.0.0",
      "model_name": "HTMLModel",
      "state": {
       "layout": "IPY_MODEL_2f079e9db5f34f0dafbec1d3c09c9ff2",
       "style": "IPY_MODEL_0f13a52b62494a10a02d730180979f32",
       "value": "Running Evaluation: 100%"
      }
     },
     "7ead7930fbc4493088561c6b0723ea46": {
      "model_module": "@jupyter-widgets/controls",
      "model_module_version": "2.0.0",
      "model_name": "HBoxModel",
      "state": {
       "children": [
        "IPY_MODEL_6bfc36c531d3424d9f9bafe76f830770",
        "IPY_MODEL_f64effd473294d8ba3d6c63297045fa4",
        "IPY_MODEL_eea7c777f5964fd0ad5a6fdf42098608"
       ],
       "layout": "IPY_MODEL_144c816bb10c48d293e8753e2f61432e"
      }
     },
     "7eaf14679e7c4be88030bc993d063d6b": {
      "model_module": "@jupyter-widgets/base",
      "model_module_version": "2.0.0",
      "model_name": "LayoutModel",
      "state": {}
     },
     "7eaf3b36589a49b4954a01d74d041f53": {
      "model_module": "@jupyter-widgets/base",
      "model_module_version": "2.0.0",
      "model_name": "LayoutModel",
      "state": {}
     },
     "7eb30baffa614c529c92c58588fb6875": {
      "model_module": "@jupyter-widgets/controls",
      "model_module_version": "2.0.0",
      "model_name": "FloatProgressModel",
      "state": {
       "layout": "IPY_MODEL_f51bfcf9af274101a6ce0f9f93a4f67a",
       "max": 1,
       "style": "IPY_MODEL_7d6a629cad3443d4a816317d419922c7",
       "value": 1
      }
     },
     "7eba15f98a2e4fce8891cd578a8293ba": {
      "model_module": "@jupyter-widgets/base",
      "model_module_version": "2.0.0",
      "model_name": "LayoutModel",
      "state": {}
     },
     "7ec1f544bf9f42fe91c508f43321a849": {
      "model_module": "@jupyter-widgets/base",
      "model_module_version": "2.0.0",
      "model_name": "LayoutModel",
      "state": {}
     },
     "7f13b739b8974fa6933a3d0ec0349f65": {
      "model_module": "@jupyter-widgets/controls",
      "model_module_version": "2.0.0",
      "model_name": "HTMLModel",
      "state": {
       "layout": "IPY_MODEL_1243276f39fb407cb0e336a4e90408fd",
       "style": "IPY_MODEL_7bde4267e5684a5a9a04656efeaefab2",
       "value": " 2211/2211 [00:01&lt;00:00, 2169.59it/s]"
      }
     },
     "7f286fe06c7747c2b4b589a3fd530e9a": {
      "model_module": "@jupyter-widgets/controls",
      "model_module_version": "2.0.0",
      "model_name": "HTMLModel",
      "state": {
       "layout": "IPY_MODEL_b2d5d6cc3a384bdd9f33168b2170bc2d",
       "style": "IPY_MODEL_68940604e91640eda75e733e3ab6a285",
       "value": "Downloading special_tokens_map.json: 100%"
      }
     },
     "7f4fc004955e4d868ac9a3d9b6ad8f12": {
      "model_module": "@jupyter-widgets/controls",
      "model_module_version": "2.0.0",
      "model_name": "HTMLModel",
      "state": {
       "layout": "IPY_MODEL_991ce2bc7a3644e1a42f6708f07a99d4",
       "style": "IPY_MODEL_106cfa1e6aaf4c98b47bfa4e72ce876d",
       "value": "Downloading data: "
      }
     },
     "7f591d6a40184176896625dedaf4aec4": {
      "model_module": "@jupyter-widgets/controls",
      "model_module_version": "2.0.0",
      "model_name": "ProgressStyleModel",
      "state": {
       "description_width": ""
      }
     },
     "7f89224a8be34d948720110c1be929a3": {
      "model_module": "@jupyter-widgets/controls",
      "model_module_version": "2.0.0",
      "model_name": "LabelModel",
      "state": {
       "layout": "IPY_MODEL_5159bff5c5cb425bb488a2751da3b27f",
       "style": "IPY_MODEL_af033e586b9347958cc7b2af09c7d3f7"
      }
     },
     "7f97d416d09b45eaadc7ac5d05d264ea": {
      "model_module": "@jupyter-widgets/controls",
      "model_module_version": "2.0.0",
      "model_name": "FloatProgressModel",
      "state": {
       "bar_style": "success",
       "layout": "IPY_MODEL_e9e15a9e2f904b2f85af490d4dbbe09a",
       "max": 990048016,
       "style": "IPY_MODEL_9811f6abf0b94a21afd0e91338438239",
       "value": 990048016
      }
     },
     "7fbe2a0a23d242fbb81f114f10640424": {
      "model_module": "@jupyter-widgets/controls",
      "model_module_version": "2.0.0",
      "model_name": "HTMLModel",
      "state": {
       "layout": "IPY_MODEL_1a1604362d0a44c8bb0ab1d9bdd160ff",
       "style": "IPY_MODEL_75b7a4a0358f419eab49898a4e8a18be",
       "value": " 1106/1106 [00:00&lt;00:00, 2254.71it/s]"
      }
     },
     "7fc19bc2e2de4e9bbe9f3bee3c91be13": {
      "model_module": "@jupyter-widgets/base",
      "model_module_version": "2.0.0",
      "model_name": "LayoutModel",
      "state": {}
     },
     "7fd853ccae994ead8df1a0a32d91647f": {
      "model_module": "@jupyter-widgets/base",
      "model_module_version": "2.0.0",
      "model_name": "LayoutModel",
      "state": {}
     },
     "80416a0cfa194795a134183f07342aeb": {
      "model_module": "@jupyter-widgets/base",
      "model_module_version": "2.0.0",
      "model_name": "LayoutModel",
      "state": {}
     },
     "804ef22d0f7e467fb8cdb82ffca9bf1b": {
      "model_module": "@jupyter-widgets/base",
      "model_module_version": "2.0.0",
      "model_name": "LayoutModel",
      "state": {}
     },
     "8087ac228fb34474a267525542a5f80e": {
      "model_module": "@jupyter-widgets/controls",
      "model_module_version": "2.0.0",
      "model_name": "FloatProgressModel",
      "state": {
       "bar_style": "success",
       "layout": "IPY_MODEL_1ebd0aa3cc864fadb457f7367decee5a",
       "max": 36,
       "style": "IPY_MODEL_271dd949dc2a4bcb9284e81ce0eaa026",
       "value": 36
      }
     },
     "8158b4ce03b643229ef35084ad8e83d2": {
      "model_module": "@jupyter-widgets/controls",
      "model_module_version": "2.0.0",
      "model_name": "FloatProgressModel",
      "state": {
       "layout": "IPY_MODEL_bb5a3e2da58d4136b60dd9791cf0b3ab",
       "max": 1,
       "style": "IPY_MODEL_4a15f4a5a3ce4fd49a34cb567494e219"
      }
     },
     "8176c0ca644a42c082968d1676fcedab": {
      "model_module": "@jupyter-widgets/base",
      "model_module_version": "2.0.0",
      "model_name": "LayoutModel",
      "state": {}
     },
     "81d9733fea6944debb40db2bd88d33ac": {
      "model_module": "@jupyter-widgets/controls",
      "model_module_version": "2.0.0",
      "model_name": "HTMLModel",
      "state": {
       "layout": "IPY_MODEL_70f98184088d49e2acb93e654111059d",
       "style": "IPY_MODEL_9ffcfb7c627f4dda9ea28e0a61bcb858",
       "value": " 227/227 [00:11&lt;00:00, 139.87it/s]"
      }
     },
     "8202376d647a46e999685b14e334a1c4": {
      "model_module": "@jupyter-widgets/base",
      "model_module_version": "2.0.0",
      "model_name": "LayoutModel",
      "state": {}
     },
     "82279914885e43409811754691738e03": {
      "model_module": "@jupyter-widgets/controls",
      "model_module_version": "2.0.0",
      "model_name": "HBoxModel",
      "state": {
       "children": [
        "IPY_MODEL_e39fc4b747fb4a63b5652453f6d30712",
        "IPY_MODEL_1b1985d0a20f40a2bbd6bdad2cfb8229",
        "IPY_MODEL_17dc65438c224acd8eddd045c64a0620"
       ],
       "layout": "IPY_MODEL_5261ef5ba4924becaaa36b3f43289259"
      }
     },
     "8227bf3e65b148b09937f0ed3974ebb1": {
      "model_module": "@jupyter-widgets/base",
      "model_module_version": "2.0.0",
      "model_name": "LayoutModel",
      "state": {}
     },
     "824bcad7baad459db685fb1bcaef9173": {
      "model_module": "@jupyter-widgets/controls",
      "model_module_version": "2.0.0",
      "model_name": "FloatProgressModel",
      "state": {
       "bar_style": "success",
       "layout": "IPY_MODEL_82e948501a3143939a12299479e3682e",
       "max": 230,
       "style": "IPY_MODEL_30e374364210415090e78a5ca6244820",
       "value": 230
      }
     },
     "824bdef02e174b078f4815c247fe3755": {
      "model_module": "@jupyter-widgets/base",
      "model_module_version": "2.0.0",
      "model_name": "LayoutModel",
      "state": {}
     },
     "826b2747335747d2b597bb5ae405e38f": {
      "model_module": "@jupyter-widgets/controls",
      "model_module_version": "2.0.0",
      "model_name": "LabelModel",
      "state": {
       "layout": "IPY_MODEL_2d179d0eb9f24657ad1492d7ee80068e",
       "style": "IPY_MODEL_71c9261c46e14caaae8bf5aa591a69ad",
       "value": "0.016 MB of 0.016 MB uploaded (0.000 MB deduped)\r"
      }
     },
     "82dd0714bcee4ddaa81088e48a944045": {
      "model_module": "@jupyter-widgets/controls",
      "model_module_version": "2.0.0",
      "model_name": "HTMLStyleModel",
      "state": {
       "description_width": "",
       "font_size": null,
       "text_color": null
      }
     },
     "82e948501a3143939a12299479e3682e": {
      "model_module": "@jupyter-widgets/base",
      "model_module_version": "2.0.0",
      "model_name": "LayoutModel",
      "state": {}
     },
     "8321f8a2d6544c308cbc5e275c44775b": {
      "model_module": "@jupyter-widgets/controls",
      "model_module_version": "2.0.0",
      "model_name": "HBoxModel",
      "state": {
       "children": [
        "IPY_MODEL_2a9197f6d69a40dfbd13bc545962bb10",
        "IPY_MODEL_6cd9b098ad1f46acb32fab6c3b0fc700",
        "IPY_MODEL_29fd3a610b09437486e2bbdcca8d1c0f"
       ],
       "layout": "IPY_MODEL_735d1df40b924a5c95361b2f1da2a981"
      }
     },
     "83423a11c36948d79749654eb28d52b5": {
      "model_module": "@jupyter-widgets/base",
      "model_module_version": "2.0.0",
      "model_name": "LayoutModel",
      "state": {}
     },
     "834f6828c5b842f0a79ee3e28a8aaeea": {
      "model_module": "@jupyter-widgets/base",
      "model_module_version": "2.0.0",
      "model_name": "LayoutModel",
      "state": {}
     },
     "837eef0bccc144e49034af886f9e773b": {
      "model_module": "@jupyter-widgets/base",
      "model_module_version": "2.0.0",
      "model_name": "LayoutModel",
      "state": {}
     },
     "83ab2b0f7c6845b7b9539dbe1864a19d": {
      "model_module": "@jupyter-widgets/base",
      "model_module_version": "2.0.0",
      "model_name": "LayoutModel",
      "state": {}
     },
     "844f2bdd7161440d94de5566822079a4": {
      "model_module": "@jupyter-widgets/controls",
      "model_module_version": "2.0.0",
      "model_name": "ProgressStyleModel",
      "state": {
       "description_width": ""
      }
     },
     "844f9f75004948bb88f542bd47787ab2": {
      "model_module": "@jupyter-widgets/base",
      "model_module_version": "2.0.0",
      "model_name": "LayoutModel",
      "state": {}
     },
     "8455e80f8ebf410199709b98d9addef5": {
      "model_module": "@jupyter-widgets/base",
      "model_module_version": "2.0.0",
      "model_name": "LayoutModel",
      "state": {}
     },
     "84593f39d4264f3b9202c88b360350bc": {
      "model_module": "@jupyter-widgets/base",
      "model_module_version": "2.0.0",
      "model_name": "LayoutModel",
      "state": {}
     },
     "84628edd3933457c9dc376c3bf671b2b": {
      "model_module": "@jupyter-widgets/controls",
      "model_module_version": "2.0.0",
      "model_name": "HTMLModel",
      "state": {
       "layout": "IPY_MODEL_b55add5cbb03406998bf8f9667842c0e",
       "style": "IPY_MODEL_67c97d8f016943a4a6ea40a12722daee",
       "value": "apply len_bytes to num_bytes: 100%"
      }
     },
     "846930de24cf4a508627cadb53b92db4": {
      "model_module": "@jupyter-widgets/base",
      "model_module_version": "2.0.0",
      "model_name": "LayoutModel",
      "state": {}
     },
     "847bf54be26c4593af1aeb41d1c1a95a": {
      "model_module": "@jupyter-widgets/controls",
      "model_module_version": "2.0.0",
      "model_name": "FloatProgressModel",
      "state": {
       "bar_style": "success",
       "layout": "IPY_MODEL_9e0e8d941b474975b9894da7987e14e6",
       "max": 72,
       "style": "IPY_MODEL_4c7ca2b4365f464abed332ecce507d27",
       "value": 72
      }
     },
     "848fddb6d1d1484591e450f27ff94545": {
      "model_module": "@jupyter-widgets/controls",
      "model_module_version": "2.0.0",
      "model_name": "ProgressStyleModel",
      "state": {
       "description_width": ""
      }
     },
     "84bbbdfa326f48c6a8955f619a4d3aac": {
      "model_module": "@jupyter-widgets/controls",
      "model_module_version": "2.0.0",
      "model_name": "HTMLStyleModel",
      "state": {
       "description_width": "",
       "font_size": null,
       "text_color": null
      }
     },
     "84c62e3ad7ff4f4aac41dded2a4b89b3": {
      "model_module": "@jupyter-widgets/controls",
      "model_module_version": "2.0.0",
      "model_name": "HTMLStyleModel",
      "state": {
       "description_width": "",
       "font_size": null,
       "text_color": null
      }
     },
     "84d3b133afcf474e9914e754a1f6bf1d": {
      "model_module": "@jupyter-widgets/base",
      "model_module_version": "2.0.0",
      "model_name": "LayoutModel",
      "state": {}
     },
     "84fe288e398741ae8e7bafefe31fe434": {
      "model_module": "@jupyter-widgets/controls",
      "model_module_version": "2.0.0",
      "model_name": "HTMLModel",
      "state": {
       "layout": "IPY_MODEL_2da3103c912749dca36a1fce7d0c354c",
       "style": "IPY_MODEL_a7b5ba56026c43f1bf1d196c536d1e7c",
       "value": " 223k/223k [00:00&lt;00:00, 278kB/s]"
      }
     },
     "8511459921334d81a7d0e42b9dcde3ef": {
      "model_module": "@jupyter-widgets/base",
      "model_module_version": "2.0.0",
      "model_name": "LayoutModel",
      "state": {}
     },
     "85656cfac14c434a9495710b4e6bf390": {
      "model_module": "@jupyter-widgets/controls",
      "model_module_version": "2.0.0",
      "model_name": "LabelStyleModel",
      "state": {
       "description_width": "",
       "font_family": null,
       "font_size": null,
       "font_style": null,
       "font_variant": null,
       "font_weight": null,
       "text_color": null,
       "text_decoration": null
      }
     },
     "856e5f18aff1415897d99d470987cfe3": {
      "model_module": "@jupyter-widgets/controls",
      "model_module_version": "2.0.0",
      "model_name": "FloatProgressModel",
      "state": {
       "bar_style": "success",
       "layout": "IPY_MODEL_ece700ac67cf4a83af4f3e34e8284b0d",
       "max": 222,
       "style": "IPY_MODEL_8d1e04031c4f4540af7d8721b4b57369",
       "value": 222
      }
     },
     "856f2352660f45adb818887a87a6705e": {
      "model_module": "@jupyter-widgets/controls",
      "model_module_version": "2.0.0",
      "model_name": "HBoxModel",
      "state": {
       "children": [
        "IPY_MODEL_339b95d3554047f78101f367557bf24c",
        "IPY_MODEL_58114621b20542cba1df9408fa0fee12",
        "IPY_MODEL_e17c1c1d564544d69a272fcd3e524d15"
       ],
       "layout": "IPY_MODEL_a4c22290c0b942aa8809a39118554c75"
      }
     },
     "85af671fb68b4ff3ab3c9f7a13479cec": {
      "model_module": "@jupyter-widgets/base",
      "model_module_version": "2.0.0",
      "model_name": "LayoutModel",
      "state": {}
     },
     "85b4150fc3ec4db9bd9fa98653e277c7": {
      "model_module": "@jupyter-widgets/controls",
      "model_module_version": "2.0.0",
      "model_name": "HTMLModel",
      "state": {
       "layout": "IPY_MODEL_0afd210b0c634c2bba1f4fd09a23ec61",
       "style": "IPY_MODEL_b0d806088c694fdbba85fd9daefbe27b",
       "value": "Downloading tokenizer_config.json: 100%"
      }
     },
     "85e68047383c407bb54a5d0d4e653b42": {
      "model_module": "@jupyter-widgets/base",
      "model_module_version": "2.0.0",
      "model_name": "LayoutModel",
      "state": {}
     },
     "866f2fc36775488bba5875d95d5f293d": {
      "model_module": "@jupyter-widgets/base",
      "model_module_version": "2.0.0",
      "model_name": "LayoutModel",
      "state": {}
     },
     "867a1dfb3fe1429cbaaff7bd7bf203c7": {
      "model_module": "@jupyter-widgets/controls",
      "model_module_version": "2.0.0",
      "model_name": "ProgressStyleModel",
      "state": {
       "description_width": ""
      }
     },
     "86d0cdf183b947838535e9ac8d33fbb2": {
      "model_module": "@jupyter-widgets/base",
      "model_module_version": "2.0.0",
      "model_name": "LayoutModel",
      "state": {}
     },
     "8724e1f7c1b5456aa11537c0518be83a": {
      "model_module": "@jupyter-widgets/controls",
      "model_module_version": "2.0.0",
      "model_name": "HBoxModel",
      "state": {
       "children": [
        "IPY_MODEL_020497e2b2a64f1d87c634e20c179691",
        "IPY_MODEL_6581272e459846fbb916907ceba8ae56",
        "IPY_MODEL_2209ef45cb07417eb2555dc035777ee2"
       ],
       "layout": "IPY_MODEL_fb7ea68e513f4e7fb251b6d083545360"
      }
     },
     "8728047bcd8a49248a756b1ff6cd049c": {
      "model_module": "@jupyter-widgets/controls",
      "model_module_version": "2.0.0",
      "model_name": "HTMLStyleModel",
      "state": {
       "description_width": "",
       "font_size": null,
       "text_color": null
      }
     },
     "872bb33b86e445f59649610978fc2485": {
      "model_module": "@jupyter-widgets/controls",
      "model_module_version": "2.0.0",
      "model_name": "FloatProgressModel",
      "state": {
       "bar_style": "success",
       "layout": "IPY_MODEL_cae7ad9918bf478d8ad73ae295fd396a",
       "max": 289,
       "style": "IPY_MODEL_cdbd17dd7c64483ebf4c31582a0a545d",
       "value": 289
      }
     },
     "872c3b00d0bb4ac4ac81d645aca77e0a": {
      "model_module": "@jupyter-widgets/controls",
      "model_module_version": "2.0.0",
      "model_name": "HTMLModel",
      "state": {
       "layout": "IPY_MODEL_61851b7b43ea414bb15e5820f75f094d",
       "style": "IPY_MODEL_d4d405853cc24c61888aaac8cf424fd4",
       "value": " 230/230 [00:00&lt;00:00, 790.33it/s]"
      }
     },
     "87406623ed624f35a0c70405da709fdf": {
      "model_module": "@jupyter-widgets/controls",
      "model_module_version": "2.0.0",
      "model_name": "HTMLModel",
      "state": {
       "layout": "IPY_MODEL_5182cf71385f4d66a2e23a1bc4918304",
       "style": "IPY_MODEL_74fb34c42c4e4a9ebf9e94f94c23980b",
       "value": "100%"
      }
     },
     "8745c5659f4740e483589972e1a9ddd5": {
      "model_module": "@jupyter-widgets/controls",
      "model_module_version": "2.0.0",
      "model_name": "HTMLStyleModel",
      "state": {
       "description_width": "",
       "font_size": null,
       "text_color": null
      }
     },
     "8781e63d632b40deb75cb25b9ba4a263": {
      "model_module": "@jupyter-widgets/controls",
      "model_module_version": "2.0.0",
      "model_name": "HTMLModel",
      "state": {
       "layout": "IPY_MODEL_dd3de02eb4534d3c84dfe488972e8a10",
       "style": "IPY_MODEL_b124f0edf84c4fbd9bd1a8ce2208c2b3",
       "value": "Epoch 2 of 2: 100%"
      }
     },
     "879830dd60494ac388c3a66e81569fa0": {
      "model_module": "@jupyter-widgets/controls",
      "model_module_version": "2.0.0",
      "model_name": "HTMLStyleModel",
      "state": {
       "description_width": "",
       "font_size": null,
       "text_color": null
      }
     },
     "87b5acf3ba534d079405c61008fcf28f": {
      "model_module": "@jupyter-widgets/controls",
      "model_module_version": "2.0.0",
      "model_name": "HTMLModel",
      "state": {
       "layout": "IPY_MODEL_5f2c41fb9329479199d2e033004a8a17",
       "style": "IPY_MODEL_ca30671bca054211bec4ec3a358bde07",
       "value": " 228/228 [00:26&lt;00:00, 10.04it/s]"
      }
     },
     "87da559a1e5945be82c498cce8e7562b": {
      "model_module": "@jupyter-widgets/controls",
      "model_module_version": "2.0.0",
      "model_name": "HTMLModel",
      "state": {
       "layout": "IPY_MODEL_a364c9a5fd904206969bed3ceb47d8a8",
       "style": "IPY_MODEL_18d02b76f32e415f82d04a43d10b64e5",
       "value": "Running Evaluation: 100%"
      }
     },
     "87f679591c144d60b2b98ce545b50fc3": {
      "model_module": "@jupyter-widgets/controls",
      "model_module_version": "2.0.0",
      "model_name": "ProgressStyleModel",
      "state": {
       "description_width": ""
      }
     },
     "883a4b4977b14ae2bdca7ac14b7bad54": {
      "model_module": "@jupyter-widgets/base",
      "model_module_version": "2.0.0",
      "model_name": "LayoutModel",
      "state": {}
     },
     "886b0c19bf4a4cb2abfbb70cbfad775a": {
      "model_module": "@jupyter-widgets/controls",
      "model_module_version": "2.0.0",
      "model_name": "HBoxModel",
      "state": {
       "children": [
        "IPY_MODEL_90eb06c64e60493896191f810418b1b1",
        "IPY_MODEL_d406813fbaf141969077ea99906ac141",
        "IPY_MODEL_47be25d9996a499382f3ed7f461fba4b"
       ],
       "layout": "IPY_MODEL_39a8c91a04b04c31ae6826d98e47446a"
      }
     },
     "887af96da579483db395b5e02f7977b8": {
      "model_module": "@jupyter-widgets/controls",
      "model_module_version": "2.0.0",
      "model_name": "ProgressStyleModel",
      "state": {
       "description_width": ""
      }
     },
     "88a4f173c9a945f2879a16fb2d6e47ee": {
      "model_module": "@jupyter-widgets/controls",
      "model_module_version": "2.0.0",
      "model_name": "FloatProgressModel",
      "state": {
       "bar_style": "success",
       "layout": "IPY_MODEL_28942f440faf497d82c815a224a57431",
       "max": 228,
       "style": "IPY_MODEL_d8a02ed2e7654f328a9dbbb5a4810b3c",
       "value": 228
      }
     },
     "88ace341b2b9461885a0a84e6bc25004": {
      "model_module": "@jupyter-widgets/controls",
      "model_module_version": "2.0.0",
      "model_name": "LabelStyleModel",
      "state": {
       "description_width": "",
       "font_family": null,
       "font_size": null,
       "font_style": null,
       "font_variant": null,
       "font_weight": null,
       "text_color": null,
       "text_decoration": null
      }
     },
     "88bdb19b7fba4c72a0c6e5de98d874b0": {
      "model_module": "@jupyter-widgets/controls",
      "model_module_version": "2.0.0",
      "model_name": "ProgressStyleModel",
      "state": {
       "description_width": ""
      }
     },
     "88e7bc474f7c436e9962fdd28d031f9f": {
      "model_module": "@jupyter-widgets/controls",
      "model_module_version": "2.0.0",
      "model_name": "HBoxModel",
      "state": {
       "children": [
        "IPY_MODEL_c8aef438ca424328875ea5a7a160e46d",
        "IPY_MODEL_0d3c1de3674048ca9dabaf408211a55c",
        "IPY_MODEL_5335e45a526e49e6ac5d9550327cdbe3"
       ],
       "layout": "IPY_MODEL_52f2b5294460486b91d534c0064e0c09"
      }
     },
     "88f1261ad3074c70994c1515ad8d6060": {
      "model_module": "@jupyter-widgets/base",
      "model_module_version": "2.0.0",
      "model_name": "LayoutModel",
      "state": {}
     },
     "88f19286af394f50bcaf996c027d939c": {
      "model_module": "@jupyter-widgets/controls",
      "model_module_version": "2.0.0",
      "model_name": "HTMLStyleModel",
      "state": {
       "description_width": "",
       "font_size": null,
       "text_color": null
      }
     },
     "89056d23c3a54628b39f8eb5da4283ea": {
      "model_module": "@jupyter-widgets/base",
      "model_module_version": "2.0.0",
      "model_name": "LayoutModel",
      "state": {}
     },
     "8952ad492e2e441a9337b25c09434896": {
      "model_module": "@jupyter-widgets/controls",
      "model_module_version": "2.0.0",
      "model_name": "HTMLModel",
      "state": {
       "layout": "IPY_MODEL_c069aa79a1c6414e9ec03524f5b7f391",
       "style": "IPY_MODEL_6ec2e61bbc534fe1bc5c8afd2459c58c",
       "value": " 36/36 [00:01&lt;00:00, 29.74it/s]"
      }
     },
     "89581bc0a549404a93216be1392933c6": {
      "model_module": "@jupyter-widgets/controls",
      "model_module_version": "2.0.0",
      "model_name": "HTMLModel",
      "state": {
       "layout": "IPY_MODEL_b27e5f48c9584380a08c2f7763984458",
       "style": "IPY_MODEL_e3505a7e074a4dc9aa8ad6cf7e32d543",
       "value": "100%"
      }
     },
     "896ea0c13eb24b2da6c82ad7193ac3c3": {
      "model_module": "@jupyter-widgets/base",
      "model_module_version": "2.0.0",
      "model_name": "LayoutModel",
      "state": {}
     },
     "89753f360c19466c98e6a0a06beba393": {
      "model_module": "@jupyter-widgets/base",
      "model_module_version": "2.0.0",
      "model_name": "LayoutModel",
      "state": {}
     },
     "898014151c874ef69d24f22fec1b27ff": {
      "model_module": "@jupyter-widgets/base",
      "model_module_version": "2.0.0",
      "model_name": "LayoutModel",
      "state": {}
     },
     "8a1d0547d4a44155aadaf6fc0f192090": {
      "model_module": "@jupyter-widgets/base",
      "model_module_version": "2.0.0",
      "model_name": "LayoutModel",
      "state": {}
     },
     "8a29d778209d487a93991fd826ee535c": {
      "model_module": "@jupyter-widgets/controls",
      "model_module_version": "2.0.0",
      "model_name": "HTMLStyleModel",
      "state": {
       "description_width": "",
       "font_size": null,
       "text_color": null
      }
     },
     "8a377647d98941d59e374079601a8aba": {
      "model_module": "@jupyter-widgets/controls",
      "model_module_version": "2.0.0",
      "model_name": "HTMLModel",
      "state": {
       "layout": "IPY_MODEL_147ac088c920467f82f7379548981a5c",
       "style": "IPY_MODEL_940248c096d74efdaf31a7d97c131453",
       "value": " 289/289 [00:33&lt;00:00, 10.71it/s]"
      }
     },
     "8a9e3d12f4d64d41924196db07338e48": {
      "model_module": "@jupyter-widgets/base",
      "model_module_version": "2.0.0",
      "model_name": "LayoutModel",
      "state": {}
     },
     "8a9f8470588046f6993a7f5c66ad5cea": {
      "model_module": "@jupyter-widgets/controls",
      "model_module_version": "2.0.0",
      "model_name": "HTMLModel",
      "state": {
       "layout": "IPY_MODEL_7acf4cd1206d4a74ba32108ca3332d85",
       "style": "IPY_MODEL_3b50f45faaeb4fa19cdb83ae9efa1a06",
       "value": " 1/1 [00:00&lt;00:00, 64.56it/s]"
      }
     },
     "8aebe371ff7443dc906920c71e7427d3": {
      "model_module": "@jupyter-widgets/controls",
      "model_module_version": "2.0.0",
      "model_name": "HTMLModel",
      "state": {
       "layout": "IPY_MODEL_f85fc42bc2bd4cee828d1beea6046706",
       "style": "IPY_MODEL_fccb3d3f44b742f89e41a80ba4b33281",
       "value": " 0/2 [00:19&lt;?, ?it/s]"
      }
     },
     "8b0892b05b1146d2b9b880fb7023a51f": {
      "model_module": "@jupyter-widgets/controls",
      "model_module_version": "2.0.0",
      "model_name": "HTMLModel",
      "state": {
       "layout": "IPY_MODEL_ed9f17b1dce1479bb04d274b341477c9",
       "style": "IPY_MODEL_4b7abe7c4f654debbb4de8347cc0cd90",
       "value": " 0/230 [00:00&lt;?, ?it/s]"
      }
     },
     "8b19aae8a3ad4184be65969759666c96": {
      "model_module": "@jupyter-widgets/controls",
      "model_module_version": "2.0.0",
      "model_name": "VBoxModel",
      "state": {
       "children": [
        "IPY_MODEL_4b88cd1367fe4cdc9a2913266c25c1f6",
        "IPY_MODEL_b3e0c65204c2469abacae53ce685bae3"
       ],
       "layout": "IPY_MODEL_57122768627f420e8f0b1f629bb0778b"
      }
     },
     "8b400490319343eb902f2af628eb91b9": {
      "model_module": "@jupyter-widgets/base",
      "model_module_version": "2.0.0",
      "model_name": "LayoutModel",
      "state": {}
     },
     "8b4158ea204941fc8f6a6a1bb960de36": {
      "model_module": "@jupyter-widgets/base",
      "model_module_version": "2.0.0",
      "model_name": "LayoutModel",
      "state": {}
     },
     "8badbb20a7c84c069f7d64ea2c28e09c": {
      "model_module": "@jupyter-widgets/controls",
      "model_module_version": "2.0.0",
      "model_name": "ProgressStyleModel",
      "state": {
       "description_width": ""
      }
     },
     "8bc9bdddc96849f983a8fa9f3695714a": {
      "model_module": "@jupyter-widgets/controls",
      "model_module_version": "2.0.0",
      "model_name": "VBoxModel",
      "state": {
       "children": [
        "IPY_MODEL_3564e39112904bf69dd45450c69eb64c",
        "IPY_MODEL_dedd0c5e2da14510ac27f88a6204a366"
       ],
       "layout": "IPY_MODEL_223bc43964664fa085c9a306ab60ceff"
      }
     },
     "8bcc1a8d1e51442abac5460678d416e0": {
      "model_module": "@jupyter-widgets/controls",
      "model_module_version": "2.0.0",
      "model_name": "ProgressStyleModel",
      "state": {
       "description_width": ""
      }
     },
     "8bfb147f3a6f4500aa2a7b74f1244116": {
      "model_module": "@jupyter-widgets/controls",
      "model_module_version": "2.0.0",
      "model_name": "HTMLStyleModel",
      "state": {
       "description_width": "",
       "font_size": null,
       "text_color": null
      }
     },
     "8bfded5023f94cb192c8cb0dd4b33ce4": {
      "model_module": "@jupyter-widgets/controls",
      "model_module_version": "2.0.0",
      "model_name": "ProgressStyleModel",
      "state": {
       "description_width": ""
      }
     },
     "8c23d2df789c4eac85be24c1cfbdca88": {
      "model_module": "@jupyter-widgets/controls",
      "model_module_version": "2.0.0",
      "model_name": "HTMLStyleModel",
      "state": {
       "description_width": "",
       "font_size": null,
       "text_color": null
      }
     },
     "8c285f8ee3e24e1a99e749c353bb922a": {
      "model_module": "@jupyter-widgets/controls",
      "model_module_version": "2.0.0",
      "model_name": "HTMLStyleModel",
      "state": {
       "description_width": "",
       "font_size": null,
       "text_color": null
      }
     },
     "8c35e0d43b1341b4bb8082a9da6c027b": {
      "model_module": "@jupyter-widgets/base",
      "model_module_version": "2.0.0",
      "model_name": "LayoutModel",
      "state": {}
     },
     "8c997aea6bc24795b2b6300537a43794": {
      "model_module": "@jupyter-widgets/base",
      "model_module_version": "2.0.0",
      "model_name": "LayoutModel",
      "state": {}
     },
     "8cb7c51375ca4d03ba099c19951f6250": {
      "model_module": "@jupyter-widgets/controls",
      "model_module_version": "2.0.0",
      "model_name": "HTMLModel",
      "state": {
       "layout": "IPY_MODEL_f8b2dfb517a042cfa4caf28a4f2f5a58",
       "style": "IPY_MODEL_00e215a43028412199050649a9e95c23",
       "value": " 72/72 [00:02&lt;00:00, 30.33it/s]"
      }
     },
     "8ce390d81f0445df8ece3fdd53450bdd": {
      "model_module": "@jupyter-widgets/controls",
      "model_module_version": "2.0.0",
      "model_name": "HBoxModel",
      "state": {
       "children": [
        "IPY_MODEL_b40d4f69374248d1a1952774e0f30c15",
        "IPY_MODEL_2758affd9d2243349c1728f7513b7602",
        "IPY_MODEL_727ce43107ca4350bb3a6d35d3888200"
       ],
       "layout": "IPY_MODEL_cbc02ba16e4c4de4bef41c9a3395a197"
      }
     },
     "8ce69f50ee19475488391a7294a3d3ba": {
      "model_module": "@jupyter-widgets/controls",
      "model_module_version": "2.0.0",
      "model_name": "ProgressStyleModel",
      "state": {
       "description_width": ""
      }
     },
     "8d1e04031c4f4540af7d8721b4b57369": {
      "model_module": "@jupyter-widgets/controls",
      "model_module_version": "2.0.0",
      "model_name": "ProgressStyleModel",
      "state": {
       "description_width": ""
      }
     },
     "8d30152fd86344108523152c9ad2155c": {
      "model_module": "@jupyter-widgets/controls",
      "model_module_version": "2.0.0",
      "model_name": "HTMLStyleModel",
      "state": {
       "description_width": "",
       "font_size": null,
       "text_color": null
      }
     },
     "8d5545f8c2714a929332051937c77132": {
      "model_module": "@jupyter-widgets/base",
      "model_module_version": "2.0.0",
      "model_name": "LayoutModel",
      "state": {}
     },
     "8dca3927efda4249913f844d4073e296": {
      "model_module": "@jupyter-widgets/controls",
      "model_module_version": "2.0.0",
      "model_name": "HTMLStyleModel",
      "state": {
       "description_width": "",
       "font_size": null,
       "text_color": null
      }
     },
     "8dce50b44d534316be78bca7588f89e7": {
      "model_module": "@jupyter-widgets/base",
      "model_module_version": "2.0.0",
      "model_name": "LayoutModel",
      "state": {}
     },
     "8dd75841bfdf4568991062e9a69796f9": {
      "model_module": "@jupyter-widgets/base",
      "model_module_version": "2.0.0",
      "model_name": "LayoutModel",
      "state": {}
     },
     "8de79e6898914caab9495fe7ae24579b": {
      "model_module": "@jupyter-widgets/controls",
      "model_module_version": "2.0.0",
      "model_name": "HTMLStyleModel",
      "state": {
       "description_width": "",
       "font_size": null,
       "text_color": null
      }
     },
     "8e09a5fe087746efb76d8829109ea738": {
      "model_module": "@jupyter-widgets/base",
      "model_module_version": "2.0.0",
      "model_name": "LayoutModel",
      "state": {}
     },
     "8e863cb1b9fd47f7b467720af700e2e8": {
      "model_module": "@jupyter-widgets/controls",
      "model_module_version": "2.0.0",
      "model_name": "HTMLStyleModel",
      "state": {
       "description_width": "",
       "font_size": null,
       "text_color": null
      }
     },
     "8ea44d4df50549b8ad15a9a3adf6c4a9": {
      "model_module": "@jupyter-widgets/controls",
      "model_module_version": "2.0.0",
      "model_name": "FloatProgressModel",
      "state": {
       "bar_style": "success",
       "layout": "IPY_MODEL_cafb0eb298904bf5ae2abee24e18b199",
       "max": 1106,
       "style": "IPY_MODEL_300c5e0a9a6d4e0896c3fcf6b70f03dc",
       "value": 1106
      }
     },
     "8eae7e0220ac430889731d7561b8a637": {
      "model_module": "@jupyter-widgets/controls",
      "model_module_version": "2.0.0",
      "model_name": "HTMLModel",
      "state": {
       "layout": "IPY_MODEL_29959d677527471281fe848790fa0040",
       "style": "IPY_MODEL_9d9b97ea3b614967b013530188e73d1d",
       "value": " 2/2 [01:21&lt;00:00, 40.03s/it]"
      }
     },
     "8f0cda23eabf4743a4eca833e37dbefa": {
      "model_module": "@jupyter-widgets/base",
      "model_module_version": "2.0.0",
      "model_name": "LayoutModel",
      "state": {}
     },
     "8f0facb32cee44f3b4828bc70a0d7073": {
      "model_module": "@jupyter-widgets/controls",
      "model_module_version": "2.0.0",
      "model_name": "HTMLModel",
      "state": {
       "layout": "IPY_MODEL_f854288b71854cf0bba197230ea93fb4",
       "style": "IPY_MODEL_94e5087d91bb4b4b8ca518c1e80420c3",
       "value": "apply len_bytes to num_bytes: 100%"
      }
     },
     "8f1ebf162ab344129c4487d590bf327c": {
      "model_module": "@jupyter-widgets/controls",
      "model_module_version": "2.0.0",
      "model_name": "HTMLStyleModel",
      "state": {
       "description_width": "",
       "font_size": null,
       "text_color": null
      }
     },
     "8f27e3ef847a48c48c944dd761faeac6": {
      "model_module": "@jupyter-widgets/base",
      "model_module_version": "2.0.0",
      "model_name": "LayoutModel",
      "state": {}
     },
     "8f32efbfbe79466f94ef81d69b8eca16": {
      "model_module": "@jupyter-widgets/controls",
      "model_module_version": "2.0.0",
      "model_name": "HBoxModel",
      "state": {
       "children": [
        "IPY_MODEL_eccbd80ee8064fe797debea9ef416290",
        "IPY_MODEL_48e15d964519409897345e691124eb6d",
        "IPY_MODEL_11e517b4d02f4995b3d824a6555b037b"
       ],
       "layout": "IPY_MODEL_44a869529db24ede954d3a7bd841de46"
      }
     },
     "8f48b9f2208e4de6a4a27baa4216018d": {
      "model_module": "@jupyter-widgets/controls",
      "model_module_version": "2.0.0",
      "model_name": "HTMLModel",
      "state": {
       "layout": "IPY_MODEL_62596f3a5c1348eaa04a2da9781a424a",
       "style": "IPY_MODEL_dc2498d04271440bafdd70411ea1834c",
       "value": " 2/2 [01:26&lt;00:00, 42.21s/it]"
      }
     },
     "8f800b64fc254dbdbd87c68f7f6490bd": {
      "model_module": "@jupyter-widgets/controls",
      "model_module_version": "2.0.0",
      "model_name": "ProgressStyleModel",
      "state": {
       "description_width": ""
      }
     },
     "8f8cd926205642f1af27108a8e136d7d": {
      "model_module": "@jupyter-widgets/controls",
      "model_module_version": "2.0.0",
      "model_name": "HTMLModel",
      "state": {
       "layout": "IPY_MODEL_8227bf3e65b148b09937f0ed3974ebb1",
       "style": "IPY_MODEL_debe6eddd1ee4702bc8b3938cf19e662",
       "value": "Epochs 0/2. Running Loss:    1.5616: 100%"
      }
     },
     "8f9ec140dd004f47b1f31659534c2453": {
      "model_module": "@jupyter-widgets/controls",
      "model_module_version": "2.0.0",
      "model_name": "HTMLModel",
      "state": {
       "layout": "IPY_MODEL_a38ecf28b58f44cea07415ee5b6b177e",
       "style": "IPY_MODEL_63fe2e2297df4f02b1d4c1c7966df6f2",
       "value": "100%"
      }
     },
     "8fd51b947fc3461dac554d6a6bff60e4": {
      "model_module": "@jupyter-widgets/base",
      "model_module_version": "2.0.0",
      "model_name": "LayoutModel",
      "state": {}
     },
     "8fdef9e7080f419496b0e54403b9ec07": {
      "model_module": "@jupyter-widgets/base",
      "model_module_version": "2.0.0",
      "model_name": "LayoutModel",
      "state": {}
     },
     "8ff3fa0422b842e5929abfc27e93bdca": {
      "model_module": "@jupyter-widgets/controls",
      "model_module_version": "2.0.0",
      "model_name": "HTMLStyleModel",
      "state": {
       "description_width": "",
       "font_size": null,
       "text_color": null
      }
     },
     "90347189280b4a58afa6a9de88217fd2": {
      "model_module": "@jupyter-widgets/controls",
      "model_module_version": "2.0.0",
      "model_name": "HBoxModel",
      "state": {
       "children": [
        "IPY_MODEL_eddd75e22c9c469daa7e38c71648b01a",
        "IPY_MODEL_e7090ee209644fc0bf271350234866c2",
        "IPY_MODEL_2b82f0117ba643c2a7b6b0d3c9cabab7"
       ],
       "layout": "IPY_MODEL_941e661788f04a7ba736cdaa9ab1b20e"
      }
     },
     "9058f2250fa848cba8cfb0ec89a937e3": {
      "model_module": "@jupyter-widgets/base",
      "model_module_version": "2.0.0",
      "model_name": "LayoutModel",
      "state": {}
     },
     "907456dcf8db4e5ebc4d7d1d01fe746f": {
      "model_module": "@jupyter-widgets/controls",
      "model_module_version": "2.0.0",
      "model_name": "FloatProgressModel",
      "state": {
       "bar_style": "success",
       "layout": "IPY_MODEL_bc3ed2a4339240e68d400e3f4fb2fbf6",
       "max": 230,
       "style": "IPY_MODEL_6c70a026b7014ebc9725a3e735049fb6",
       "value": 230
      }
     },
     "90a4837973e0449bbe709111101fd361": {
      "model_module": "@jupyter-widgets/base",
      "model_module_version": "2.0.0",
      "model_name": "LayoutModel",
      "state": {}
     },
     "90ddde9a33fa48df95d152c197dd4be4": {
      "model_module": "@jupyter-widgets/base",
      "model_module_version": "2.0.0",
      "model_name": "LayoutModel",
      "state": {}
     },
     "90eb06c64e60493896191f810418b1b1": {
      "model_module": "@jupyter-widgets/controls",
      "model_module_version": "2.0.0",
      "model_name": "HTMLModel",
      "state": {
       "layout": "IPY_MODEL_20e6a3cb5fa24b58bf9903354a085a33",
       "style": "IPY_MODEL_8728047bcd8a49248a756b1ff6cd049c",
       "value": "apply len_bytes to num_bytes: 100%"
      }
     },
     "90fd632b22c14e22aeee8442b193ac8f": {
      "model_module": "@jupyter-widgets/base",
      "model_module_version": "2.0.0",
      "model_name": "LayoutModel",
      "state": {}
     },
     "9133c04f99e24cff8009f8cd7d914bfa": {
      "model_module": "@jupyter-widgets/controls",
      "model_module_version": "2.0.0",
      "model_name": "HBoxModel",
      "state": {
       "children": [
        "IPY_MODEL_418485c8c5814a41b1acecfba596ddfd",
        "IPY_MODEL_e8d91232e5364e83809954a4324badb0",
        "IPY_MODEL_94e23f32776243c2a1a303758e7d4caf"
       ],
       "layout": "IPY_MODEL_e82e177e55a74a2493f36d03f777e156"
      }
     },
     "9149f22589aa44aa9435ca3744d00b0c": {
      "model_module": "@jupyter-widgets/controls",
      "model_module_version": "2.0.0",
      "model_name": "ProgressStyleModel",
      "state": {
       "description_width": ""
      }
     },
     "91cafbfd1edb4709a77064fa5f5e419f": {
      "model_module": "@jupyter-widgets/controls",
      "model_module_version": "2.0.0",
      "model_name": "FloatProgressModel",
      "state": {
       "bar_style": "success",
       "layout": "IPY_MODEL_4d00e40df1e14461ad6e2039b27ff2f1",
       "max": 36,
       "style": "IPY_MODEL_2da0f1264f3d4c2e870882fc6da722c5",
       "value": 36
      }
     },
     "91e05962dd9a4509955778d75385947c": {
      "model_module": "@jupyter-widgets/controls",
      "model_module_version": "2.0.0",
      "model_name": "HTMLModel",
      "state": {
       "layout": "IPY_MODEL_75346e21a2934ff48e5d94b20e6e586a",
       "style": "IPY_MODEL_38ccde1249b04588a09b7630065f0d8d",
       "value": "100%"
      }
     },
     "91f7e926426047d48ecf12fb9caa1524": {
      "model_module": "@jupyter-widgets/controls",
      "model_module_version": "2.0.0",
      "model_name": "FloatProgressModel",
      "state": {
       "layout": "IPY_MODEL_25e684cbd5384f29930f53fd2df8f3ef",
       "max": 1,
       "style": "IPY_MODEL_ddd7f6323c6f4cee92bc820afea6412b"
      }
     },
     "924f33bb742748898fe133d23696b433": {
      "model_module": "@jupyter-widgets/controls",
      "model_module_version": "2.0.0",
      "model_name": "HTMLStyleModel",
      "state": {
       "description_width": "",
       "font_size": null,
       "text_color": null
      }
     },
     "92a7447511fd44d0a5ba7e3465c4b9a0": {
      "model_module": "@jupyter-widgets/base",
      "model_module_version": "2.0.0",
      "model_name": "LayoutModel",
      "state": {}
     },
     "92a771c86df4455482bd5801e3f320c5": {
      "model_module": "@jupyter-widgets/controls",
      "model_module_version": "2.0.0",
      "model_name": "ProgressStyleModel",
      "state": {
       "description_width": ""
      }
     },
     "92c43e398f38496d889b2fd9dc5262dc": {
      "model_module": "@jupyter-widgets/controls",
      "model_module_version": "2.0.0",
      "model_name": "HBoxModel",
      "state": {
       "children": [
        "IPY_MODEL_4f5a965d3ab44ca08441c739b8d80c52",
        "IPY_MODEL_ce9ddae6e1d1497d8eb6788a7e9ea54d",
        "IPY_MODEL_f9ba0ad987be49f888bb129694aa43b8"
       ],
       "layout": "IPY_MODEL_37eb90ecb7cc481e8844c5d038b25035"
      }
     },
     "92d73f88266643d4b46098920c3e5156": {
      "model_module": "@jupyter-widgets/base",
      "model_module_version": "2.0.0",
      "model_name": "LayoutModel",
      "state": {}
     },
     "93026cfd3b0e42fdbba6971f461180d9": {
      "model_module": "@jupyter-widgets/base",
      "model_module_version": "2.0.0",
      "model_name": "LayoutModel",
      "state": {}
     },
     "934202f101474b178b70031884902ef0": {
      "model_module": "@jupyter-widgets/controls",
      "model_module_version": "2.0.0",
      "model_name": "LabelModel",
      "state": {
       "layout": "IPY_MODEL_47c7a8d4476e4ac78d36dba22b43153d",
       "style": "IPY_MODEL_9adbe7339e154941b553604dd08c90cc"
      }
     },
     "936e8dfea4284fa9b3f8ed7afdec77cf": {
      "model_module": "@jupyter-widgets/controls",
      "model_module_version": "2.0.0",
      "model_name": "HTMLStyleModel",
      "state": {
       "description_width": "",
       "font_size": null,
       "text_color": null
      }
     },
     "937885e454174f33be5e4865b2d8c0eb": {
      "model_module": "@jupyter-widgets/controls",
      "model_module_version": "2.0.0",
      "model_name": "HTMLStyleModel",
      "state": {
       "description_width": "",
       "font_size": null,
       "text_color": null
      }
     },
     "937c2baa70fe4bf79226115fa2c08c43": {
      "model_module": "@jupyter-widgets/controls",
      "model_module_version": "2.0.0",
      "model_name": "ProgressStyleModel",
      "state": {
       "description_width": ""
      }
     },
     "93dc31d8f0b148fbbcc4d8bcf6a65ffb": {
      "model_module": "@jupyter-widgets/controls",
      "model_module_version": "2.0.0",
      "model_name": "VBoxModel",
      "state": {
       "children": [
        "IPY_MODEL_129f71bce3544f4788b1d58ab34406dd",
        "IPY_MODEL_d8202b72821c420394c98bb2f37e165c"
       ],
       "layout": "IPY_MODEL_fab6a0bdc2554a268cc785d4fb900062"
      }
     },
     "93ecc3b705b845f2a15efdd7c27d99ec": {
      "model_module": "@jupyter-widgets/base",
      "model_module_version": "2.0.0",
      "model_name": "LayoutModel",
      "state": {}
     },
     "93efe38a93ea441fa46d2dffd5349d26": {
      "model_module": "@jupyter-widgets/controls",
      "model_module_version": "2.0.0",
      "model_name": "HTMLModel",
      "state": {
       "layout": "IPY_MODEL_24abed6d21014b5c8c5391f54074c879",
       "style": "IPY_MODEL_b80728e14a084531bd5f5e68b924385e",
       "value": "100%"
      }
     },
     "940248c096d74efdaf31a7d97c131453": {
      "model_module": "@jupyter-widgets/controls",
      "model_module_version": "2.0.0",
      "model_name": "HTMLStyleModel",
      "state": {
       "description_width": "",
       "font_size": null,
       "text_color": null
      }
     },
     "9409ce6f1465489d9426ebc4dd83c7d5": {
      "model_module": "@jupyter-widgets/controls",
      "model_module_version": "2.0.0",
      "model_name": "HTMLStyleModel",
      "state": {
       "description_width": "",
       "font_size": null,
       "text_color": null
      }
     },
     "940d3ee4edf84bc9bf0bd87f06fe437a": {
      "model_module": "@jupyter-widgets/base",
      "model_module_version": "2.0.0",
      "model_name": "LayoutModel",
      "state": {}
     },
     "941e661788f04a7ba736cdaa9ab1b20e": {
      "model_module": "@jupyter-widgets/base",
      "model_module_version": "2.0.0",
      "model_name": "LayoutModel",
      "state": {}
     },
     "9428d46ccf774e3f9f73aa25f9e6920c": {
      "model_module": "@jupyter-widgets/base",
      "model_module_version": "2.0.0",
      "model_name": "LayoutModel",
      "state": {}
     },
     "9432ca7aa5234b92a08d09ec7487f4c6": {
      "model_module": "@jupyter-widgets/base",
      "model_module_version": "2.0.0",
      "model_name": "LayoutModel",
      "state": {}
     },
     "9441e31fd34d4c1084cc7e5a799c824d": {
      "model_module": "@jupyter-widgets/base",
      "model_module_version": "2.0.0",
      "model_name": "LayoutModel",
      "state": {}
     },
     "946f4c934a7344678392c178bd4defe6": {
      "model_module": "@jupyter-widgets/controls",
      "model_module_version": "2.0.0",
      "model_name": "HTMLModel",
      "state": {
       "layout": "IPY_MODEL_9d4cafbe04674a7d9462e29a729a288f",
       "style": "IPY_MODEL_17ad0fa2175f4bcea83a0256929f4d8f",
       "value": "100%"
      }
     },
     "9473ae201a4b4d5aac21823a63a9a791": {
      "model_module": "@jupyter-widgets/base",
      "model_module_version": "2.0.0",
      "model_name": "LayoutModel",
      "state": {}
     },
     "948c24aa920c4f2981eaec1e4458e0bb": {
      "model_module": "@jupyter-widgets/base",
      "model_module_version": "2.0.0",
      "model_name": "LayoutModel",
      "state": {}
     },
     "94e23f32776243c2a1a303758e7d4caf": {
      "model_module": "@jupyter-widgets/controls",
      "model_module_version": "2.0.0",
      "model_name": "HTMLModel",
      "state": {
       "layout": "IPY_MODEL_0d17fd8ea4d2465b963914c7d112e2c5",
       "style": "IPY_MODEL_6a585dde0829433abbae5739cfe39150",
       "value": " 2/2 [01:13&lt;00:00, 35.64s/it]"
      }
     },
     "94e5087d91bb4b4b8ca518c1e80420c3": {
      "model_module": "@jupyter-widgets/controls",
      "model_module_version": "2.0.0",
      "model_name": "DescriptionStyleModel",
      "state": {
       "description_width": ""
      }
     },
     "94e58697aa8d41ae9457ba09b0752595": {
      "model_module": "@jupyter-widgets/controls",
      "model_module_version": "2.0.0",
      "model_name": "HBoxModel",
      "state": {
       "children": [
        "IPY_MODEL_252381457bda45daaee90a9ade6b1fa8",
        "IPY_MODEL_411d585924294862b6af501862219656",
        "IPY_MODEL_8a377647d98941d59e374079601a8aba"
       ],
       "layout": "IPY_MODEL_6271e82024474b428621ea774b8c320c"
      }
     },
     "94fa14571cef453bb960a0ac3982943b": {
      "model_module": "@jupyter-widgets/controls",
      "model_module_version": "2.0.0",
      "model_name": "HTMLStyleModel",
      "state": {
       "description_width": "",
       "font_size": null,
       "text_color": null
      }
     },
     "95192df966e343c8a631549a00cf2bf9": {
      "model_module": "@jupyter-widgets/controls",
      "model_module_version": "2.0.0",
      "model_name": "HBoxModel",
      "state": {
       "children": [
        "IPY_MODEL_08e7f7c5057a481e876513493e931007",
        "IPY_MODEL_b742002b171748478b0c578177392aa5",
        "IPY_MODEL_6fc55259c6cc4c558f27c5fd435c96a6"
       ],
       "layout": "IPY_MODEL_00d1054a3b06443cb4f794f7cabc6115"
      }
     },
     "951e1bd47f4b4822a0c3c7bfd9bf8fba": {
      "model_module": "@jupyter-widgets/controls",
      "model_module_version": "2.0.0",
      "model_name": "HTMLModel",
      "state": {
       "layout": "IPY_MODEL_90ddde9a33fa48df95d152c197dd4be4",
       "style": "IPY_MODEL_461cb1051c2a489a99670b0b330df3d0",
       "value": "Epochs 0/2. Running Loss:    1.0893: 100%"
      }
     },
     "952e783c4408441abadc9ab08a5a4f0d": {
      "model_module": "@jupyter-widgets/controls",
      "model_module_version": "2.0.0",
      "model_name": "ProgressStyleModel",
      "state": {
       "description_width": ""
      }
     },
     "9539615d900d451ba0282f710335f144": {
      "model_module": "@jupyter-widgets/base",
      "model_module_version": "2.0.0",
      "model_name": "LayoutModel",
      "state": {}
     },
     "955a29e313944143ae14a011eca5886f": {
      "model_module": "@jupyter-widgets/base",
      "model_module_version": "2.0.0",
      "model_name": "LayoutModel",
      "state": {}
     },
     "9599756d2fdc4f019ac006b363e39cb0": {
      "model_module": "@jupyter-widgets/base",
      "model_module_version": "2.0.0",
      "model_name": "LayoutModel",
      "state": {}
     },
     "95f0299b805a4346b2275f73567b9be7": {
      "model_module": "@jupyter-widgets/controls",
      "model_module_version": "2.0.0",
      "model_name": "HTMLStyleModel",
      "state": {
       "description_width": "",
       "font_size": null,
       "text_color": null
      }
     },
     "95f076fcb4134e2ea30b90ba449a79e4": {
      "model_module": "@jupyter-widgets/controls",
      "model_module_version": "2.0.0",
      "model_name": "HBoxModel",
      "state": {
       "children": [
        "IPY_MODEL_64b2841d09904ed880fd1562046e8b3f",
        "IPY_MODEL_017bef23bdff40a59f904aa0e294c4d4",
        "IPY_MODEL_3de89d56e0ef4c9cafa23557f165b4d8"
       ],
       "layout": "IPY_MODEL_b5043fb35ee848489f6de3572e2c024a"
      }
     },
     "95f1cdaaa6994ad79864c66653ddcfcf": {
      "model_module": "@jupyter-widgets/controls",
      "model_module_version": "2.0.0",
      "model_name": "HBoxModel",
      "state": {
       "children": [
        "IPY_MODEL_dd6c84ff82a5437e8b7556ce8e590ea9",
        "IPY_MODEL_d1aad8e9b6544d5b8c5bd44960bbca84",
        "IPY_MODEL_19c9f79f3ffb488091b51726936364d5"
       ],
       "layout": "IPY_MODEL_b2b143ff36584fd3ba1b399fbc619d88"
      }
     },
     "9619b06cae93461b9c9200fc28b47fa2": {
      "model_module": "@jupyter-widgets/controls",
      "model_module_version": "2.0.0",
      "model_name": "ProgressStyleModel",
      "state": {
       "description_width": ""
      }
     },
     "963d3922e41d425db41643d559efa52e": {
      "model_module": "@jupyter-widgets/base",
      "model_module_version": "2.0.0",
      "model_name": "LayoutModel",
      "state": {}
     },
     "96401942789b4cf9a05ee6504ef64c86": {
      "model_module": "@jupyter-widgets/controls",
      "model_module_version": "2.0.0",
      "model_name": "HBoxModel",
      "state": {
       "children": [
        "IPY_MODEL_0f8255056d0b4426b226bd7a4c7284f1",
        "IPY_MODEL_d4c15921c02a4acda315bf2123487864",
        "IPY_MODEL_8a9f8470588046f6993a7f5c66ad5cea"
       ],
       "layout": "IPY_MODEL_781391ec810b4429a01e060c29cf63b1"
      }
     },
     "9640cff24b3745d292b10f8cb0fb4326": {
      "model_module": "@jupyter-widgets/controls",
      "model_module_version": "2.0.0",
      "model_name": "ProgressStyleModel",
      "state": {
       "description_width": ""
      }
     },
     "967d43472ce14308a131dd03b49e3144": {
      "model_module": "@jupyter-widgets/controls",
      "model_module_version": "2.0.0",
      "model_name": "DescriptionStyleModel",
      "state": {
       "description_width": ""
      }
     },
     "96875a2f6f4f44a29e9c1129f3a5d2ae": {
      "model_module": "@jupyter-widgets/base",
      "model_module_version": "2.0.0",
      "model_name": "LayoutModel",
      "state": {}
     },
     "96c52221cd8e4ef6b8061730a72f6861": {
      "model_module": "@jupyter-widgets/controls",
      "model_module_version": "2.0.0",
      "model_name": "HBoxModel",
      "state": {
       "children": [
        "IPY_MODEL_d0f774ac3324465d949b58e208180f1a",
        "IPY_MODEL_282638b451cc44d68d7246098d60ba88",
        "IPY_MODEL_d540ee1a80aa4c748d8b0f9de3b3ac0c"
       ],
       "layout": "IPY_MODEL_fe39342baa4c47ad928e2d6fe1c30d18"
      }
     },
     "96ef1f49943f43ea990336297263e0c1": {
      "model_module": "@jupyter-widgets/controls",
      "model_module_version": "2.0.0",
      "model_name": "LabelModel",
      "state": {
       "layout": "IPY_MODEL_feba2a1097964682821f1ed9eaa1adeb",
       "style": "IPY_MODEL_15bcfeab13094a578c2ef74793e3958f"
      }
     },
     "96fed84e19cd46c3a4108084d2f264fa": {
      "model_module": "@jupyter-widgets/base",
      "model_module_version": "2.0.0",
      "model_name": "LayoutModel",
      "state": {}
     },
     "9717b36c305a43c09868f4472b6e7793": {
      "model_module": "@jupyter-widgets/controls",
      "model_module_version": "2.0.0",
      "model_name": "HTMLModel",
      "state": {
       "layout": "IPY_MODEL_46b2318bb6124fcdbc7f9b14872a58b4",
       "style": "IPY_MODEL_36251cb643ef4f62bd96ceb89adcf9a1",
       "value": " 199/199 [00:00&lt;00:00, 960.78it/s]"
      }
     },
     "9717d4fd3f274c1bb2892d1cdcdb937b": {
      "model_module": "@jupyter-widgets/controls",
      "model_module_version": "2.0.0",
      "model_name": "FloatProgressModel",
      "state": {
       "bar_style": "success",
       "layout": "IPY_MODEL_4bca6ddc519d486e80e9219ee3d76540",
       "max": 7074,
       "style": "IPY_MODEL_f00edf773f9a4ea3aec5aff7de98a466",
       "value": 7074
      }
     },
     "972cbfe673fe4d26a1ab5a1c9d664295": {
      "model_module": "@jupyter-widgets/base",
      "model_module_version": "2.0.0",
      "model_name": "LayoutModel",
      "state": {}
     },
     "974b9fdae6d249ea85d69502e276ff9a": {
      "model_module": "@jupyter-widgets/controls",
      "model_module_version": "2.0.0",
      "model_name": "ProgressStyleModel",
      "state": {
       "description_width": ""
      }
     },
     "97a7dfb390b64d889e89bf84a939a50c": {
      "model_module": "@jupyter-widgets/base",
      "model_module_version": "2.0.0",
      "model_name": "LayoutModel",
      "state": {}
     },
     "97a828be31ba4c5b9d53aef61ab5327e": {
      "model_module": "@jupyter-widgets/controls",
      "model_module_version": "2.0.0",
      "model_name": "ProgressStyleModel",
      "state": {
       "description_width": ""
      }
     },
     "97cc27b3bac74e1ea45fdd7542d84cf1": {
      "model_module": "@jupyter-widgets/controls",
      "model_module_version": "2.0.0",
      "model_name": "HTMLModel",
      "state": {
       "layout": "IPY_MODEL_3106ce1619ec473fb1563f42c52054fd",
       "style": "IPY_MODEL_8f1ebf162ab344129c4487d590bf327c",
       "value": "100%"
      }
     },
     "97cf03f8d95442638e717d74dfb82687": {
      "model_module": "@jupyter-widgets/controls",
      "model_module_version": "2.0.0",
      "model_name": "HBoxModel",
      "state": {
       "children": [
        "IPY_MODEL_f1e3462e8878419ab0d110d5fc1ad8e7",
        "IPY_MODEL_ddcc9f70adaa4b38a19d28a4b549a20d",
        "IPY_MODEL_db69d00762b5443bbae36bc12b4fa24e"
       ],
       "layout": "IPY_MODEL_7d3f12c8cfa74bd787b9171ced6ce168"
      }
     },
     "97ec6aeb8c934ae2981c8863afdd7eab": {
      "model_module": "@jupyter-widgets/base",
      "model_module_version": "2.0.0",
      "model_name": "LayoutModel",
      "state": {}
     },
     "9811f6abf0b94a21afd0e91338438239": {
      "model_module": "@jupyter-widgets/controls",
      "model_module_version": "2.0.0",
      "model_name": "ProgressStyleModel",
      "state": {
       "description_width": ""
      }
     },
     "98144a2eaecd4a20916c24f7005fc837": {
      "model_module": "@jupyter-widgets/controls",
      "model_module_version": "2.0.0",
      "model_name": "ProgressStyleModel",
      "state": {
       "description_width": ""
      }
     },
     "982c7ea0aea146caace1ed608068091c": {
      "model_module": "@jupyter-widgets/base",
      "model_module_version": "2.0.0",
      "model_name": "LayoutModel",
      "state": {}
     },
     "984b59d39db04c3f8fb8edc838f151a8": {
      "model_module": "@jupyter-widgets/controls",
      "model_module_version": "2.0.0",
      "model_name": "HBoxModel",
      "state": {
       "children": [
        "IPY_MODEL_6881aafeff4f43968b4689e5a3b1c418",
        "IPY_MODEL_d74fbf565d4b47519cf38e9038975a37",
        "IPY_MODEL_eeb11f417ef94c4c86369f6682ec4a6b"
       ],
       "layout": "IPY_MODEL_253d141d9cd440dab0ac168028540c22"
      }
     },
     "9878bf22f5344e7695390af6d1ff2b3c": {
      "model_module": "@jupyter-widgets/controls",
      "model_module_version": "2.0.0",
      "model_name": "HTMLModel",
      "state": {
       "layout": "IPY_MODEL_54d8184b11f64e28974cbba5fc51e220",
       "style": "IPY_MODEL_2760cc093d3143098bbc71262f6b84d0",
       "value": " 36/36 [00:01&lt;00:00, 29.56it/s]"
      }
     },
     "9890507afb544cfabbb30d1bfe083b2e": {
      "model_module": "@jupyter-widgets/controls",
      "model_module_version": "2.0.0",
      "model_name": "HTMLStyleModel",
      "state": {
       "description_width": "",
       "font_size": null,
       "text_color": null
      }
     },
     "98b5e8d323034822963a57519c9830c9": {
      "model_module": "@jupyter-widgets/controls",
      "model_module_version": "2.0.0",
      "model_name": "ProgressStyleModel",
      "state": {
       "description_width": ""
      }
     },
     "98c05bc9dd154dbda0408961df2f6565": {
      "model_module": "@jupyter-widgets/base",
      "model_module_version": "2.0.0",
      "model_name": "LayoutModel",
      "state": {}
     },
     "991ce2bc7a3644e1a42f6708f07a99d4": {
      "model_module": "@jupyter-widgets/base",
      "model_module_version": "2.0.0",
      "model_name": "LayoutModel",
      "state": {}
     },
     "992b43b1c275453f92460b6031dda400": {
      "model_module": "@jupyter-widgets/controls",
      "model_module_version": "2.0.0",
      "model_name": "DescriptionStyleModel",
      "state": {
       "description_width": ""
      }
     },
     "994f5f22e429466999bc45089f5d6e6c": {
      "model_module": "@jupyter-widgets/base",
      "model_module_version": "2.0.0",
      "model_name": "LayoutModel",
      "state": {}
     },
     "997603b97d2a4482a9ea5ab281671467": {
      "model_module": "@jupyter-widgets/base",
      "model_module_version": "2.0.0",
      "model_name": "LayoutModel",
      "state": {
       "width": "20px"
      }
     },
     "9982201fe6cc4698964a5d4e3ed255af": {
      "model_module": "@jupyter-widgets/controls",
      "model_module_version": "2.0.0",
      "model_name": "FloatProgressModel",
      "state": {
       "layout": "IPY_MODEL_2b21ab9016094445931805cb16ff6a8a",
       "max": 1,
       "style": "IPY_MODEL_a8ffd1afae2f4380bbcbabda1c7a78f0"
      }
     },
     "99870122711a411d88de0631d14fddf7": {
      "model_module": "@jupyter-widgets/controls",
      "model_module_version": "2.0.0",
      "model_name": "FloatProgressModel",
      "state": {
       "layout": "IPY_MODEL_68e4739f7cbf4038b7282327055ae6bd",
       "max": 1,
       "style": "IPY_MODEL_1fbd20a90568402ba3bd0c91c09492d4"
      }
     },
     "99d492c333184a3f9f0b0bacbec2fe75": {
      "model_module": "@jupyter-widgets/controls",
      "model_module_version": "2.0.0",
      "model_name": "FloatProgressModel",
      "state": {
       "layout": "IPY_MODEL_09e9c7a029824f189b8caac029916abc",
       "max": 1,
       "style": "IPY_MODEL_fa110d7535c44984b496b30eceee8965",
       "value": 1
      }
     },
     "9a24e406b92a48908dd68debb67b1b46": {
      "model_module": "@jupyter-widgets/base",
      "model_module_version": "2.0.0",
      "model_name": "LayoutModel",
      "state": {}
     },
     "9a538664f3cf41d7a6e9246a8020849c": {
      "model_module": "@jupyter-widgets/controls",
      "model_module_version": "2.0.0",
      "model_name": "LabelStyleModel",
      "state": {
       "description_width": "",
       "font_family": null,
       "font_size": null,
       "font_style": null,
       "font_variant": null,
       "font_weight": null,
       "text_color": null,
       "text_decoration": null
      }
     },
     "9ab77150ecc14715858d65d7415e42ee": {
      "model_module": "@jupyter-widgets/controls",
      "model_module_version": "2.0.0",
      "model_name": "HTMLStyleModel",
      "state": {
       "description_width": "",
       "font_size": null,
       "text_color": null
      }
     },
     "9adbe7339e154941b553604dd08c90cc": {
      "model_module": "@jupyter-widgets/controls",
      "model_module_version": "2.0.0",
      "model_name": "LabelStyleModel",
      "state": {
       "description_width": "",
       "font_family": null,
       "font_size": null,
       "font_style": null,
       "font_variant": null,
       "font_weight": null,
       "text_color": null,
       "text_decoration": null
      }
     },
     "9aeb755ec6754dbe81d73df80b916be2": {
      "model_module": "@jupyter-widgets/controls",
      "model_module_version": "2.0.0",
      "model_name": "HBoxModel",
      "state": {
       "children": [
        "IPY_MODEL_3861b66910094fe4b5e64c722519b28f",
        "IPY_MODEL_4fab3281029041d895b5c1c7347e4aea",
        "IPY_MODEL_daa2d0256ebc4780b61176e9939bb980"
       ],
       "layout": "IPY_MODEL_ce9f7d9bb8e34bf19f1e56cfae5718e4"
      }
     },
     "9b19e6ba4cb64628b008dfe11be72164": {
      "model_module": "@jupyter-widgets/base",
      "model_module_version": "2.0.0",
      "model_name": "LayoutModel",
      "state": {}
     },
     "9b451b7a6eba4b68bc6a55a071854223": {
      "model_module": "@jupyter-widgets/controls",
      "model_module_version": "2.0.0",
      "model_name": "HTMLStyleModel",
      "state": {
       "description_width": "",
       "font_size": null,
       "text_color": null
      }
     },
     "9b5ab922e20e4b9798f39a75faffa982": {
      "model_module": "@jupyter-widgets/controls",
      "model_module_version": "2.0.0",
      "model_name": "ProgressStyleModel",
      "state": {
       "description_width": ""
      }
     },
     "9bba6509969e459fb77b5f3948b52097": {
      "model_module": "@jupyter-widgets/base",
      "model_module_version": "2.0.0",
      "model_name": "LayoutModel",
      "state": {}
     },
     "9c02477fe7a645e3a3b83fcd56dabd5d": {
      "model_module": "@jupyter-widgets/controls",
      "model_module_version": "2.0.0",
      "model_name": "HTMLStyleModel",
      "state": {
       "description_width": "",
       "font_size": null,
       "text_color": null
      }
     },
     "9c0552d5acc64d259dd80ece5db2a1ca": {
      "model_module": "@jupyter-widgets/controls",
      "model_module_version": "2.0.0",
      "model_name": "HTMLModel",
      "state": {
       "layout": "IPY_MODEL_1db08b7cdb0040e1a8956f4ccebeec40",
       "style": "IPY_MODEL_0f8bdff3843c42da8a040a21388f8e3c",
       "value": " 228/228 [00:26&lt;00:00,  9.40it/s]"
      }
     },
     "9c5bcf317e2a4862b241ee6a9dc4a377": {
      "model_module": "@jupyter-widgets/controls",
      "model_module_version": "2.0.0",
      "model_name": "HTMLStyleModel",
      "state": {
       "description_width": "",
       "font_size": null,
       "text_color": null
      }
     },
     "9cb70849a48f4b63bb29a5a371ede14d": {
      "model_module": "@jupyter-widgets/controls",
      "model_module_version": "2.0.0",
      "model_name": "HTMLModel",
      "state": {
       "layout": "IPY_MODEL_ad6fd70192334ca584f264998a2fc454",
       "style": "IPY_MODEL_65177463459d44a1aa658b692149800f",
       "value": " 228/228 [00:26&lt;00:00, 10.65it/s]"
      }
     },
     "9cedd6aa467640c59ecae20382f70548": {
      "model_module": "@jupyter-widgets/base",
      "model_module_version": "2.0.0",
      "model_name": "LayoutModel",
      "state": {}
     },
     "9cf49078412f4e59a6ab31ed73791138": {
      "model_module": "@jupyter-widgets/base",
      "model_module_version": "2.0.0",
      "model_name": "LayoutModel",
      "state": {}
     },
     "9d105e8cc9c24db2ad0e9cee0bbd58a8": {
      "model_module": "@jupyter-widgets/controls",
      "model_module_version": "2.0.0",
      "model_name": "FloatProgressModel",
      "state": {
       "layout": "IPY_MODEL_2424108e012641c3934a479b2744e60b",
       "max": 120000,
       "style": "IPY_MODEL_af44dfe95bba480d834d0f7efc428631",
       "value": 120000
      }
     },
     "9d48457559ee4651a7f778fc9626fe47": {
      "model_module": "@jupyter-widgets/controls",
      "model_module_version": "2.0.0",
      "model_name": "HTMLModel",
      "state": {
       "layout": "IPY_MODEL_f288c5032b874c59bb95b4d2a8297de6",
       "style": "IPY_MODEL_9ab77150ecc14715858d65d7415e42ee",
       "value": "100%"
      }
     },
     "9d4cafbe04674a7d9462e29a729a288f": {
      "model_module": "@jupyter-widgets/base",
      "model_module_version": "2.0.0",
      "model_name": "LayoutModel",
      "state": {}
     },
     "9d677553772843c6bf91ddcfa1154f52": {
      "model_module": "@jupyter-widgets/controls",
      "model_module_version": "2.0.0",
      "model_name": "HTMLModel",
      "state": {
       "layout": "IPY_MODEL_bd6563f059b541658b2a6b2f7ec2dc02",
       "style": "IPY_MODEL_1919813084b14f5b9c9e8b414ec6083a",
       "value": "Epochs 1/2. Running Loss:    1.1783: 100%"
      }
     },
     "9d7ea51a851b4f5993b88c9e8a7c616c": {
      "model_module": "@jupyter-widgets/controls",
      "model_module_version": "2.0.0",
      "model_name": "FloatProgressModel",
      "state": {
       "layout": "IPY_MODEL_83ab2b0f7c6845b7b9539dbe1864a19d",
       "max": 1,
       "style": "IPY_MODEL_0bc2699ece454fba9d7de71ad8075fcb"
      }
     },
     "9d90ed960f4d4aab9ad1416f53a2d32f": {
      "model_module": "@jupyter-widgets/base",
      "model_module_version": "2.0.0",
      "model_name": "LayoutModel",
      "state": {}
     },
     "9d9b97ea3b614967b013530188e73d1d": {
      "model_module": "@jupyter-widgets/controls",
      "model_module_version": "2.0.0",
      "model_name": "HTMLStyleModel",
      "state": {
       "description_width": "",
       "font_size": null,
       "text_color": null
      }
     },
     "9dbea89c7c264b9fb4f5ca706388bf2d": {
      "model_module": "@jupyter-widgets/controls",
      "model_module_version": "2.0.0",
      "model_name": "HTMLModel",
      "state": {
       "layout": "IPY_MODEL_13ed83aa0252497090d422f7214b1f4d",
       "style": "IPY_MODEL_d96b55a5bdc9486f9203f530eb43a5be",
       "value": " 1106/1106 [00:00&lt;00:00, 2263.57it/s]"
      }
     },
     "9dd0fad3f641478bbc977febe91397ce": {
      "model_module": "@jupyter-widgets/base",
      "model_module_version": "2.0.0",
      "model_name": "LayoutModel",
      "state": {}
     },
     "9de73603abb54c059f4c3be88d7ea8ad": {
      "model_module": "@jupyter-widgets/controls",
      "model_module_version": "2.0.0",
      "model_name": "LabelModel",
      "state": {
       "layout": "IPY_MODEL_68bff6f18b1441c5b1dfac73d292249d",
       "style": "IPY_MODEL_f4cf0943e5854ab9bd0af5f42b522f7c"
      }
     },
     "9e0e8d941b474975b9894da7987e14e6": {
      "model_module": "@jupyter-widgets/base",
      "model_module_version": "2.0.0",
      "model_name": "LayoutModel",
      "state": {}
     },
     "9e240831fd80417a9f6971a0bebfa6e6": {
      "model_module": "@jupyter-widgets/base",
      "model_module_version": "2.0.0",
      "model_name": "LayoutModel",
      "state": {}
     },
     "9e3b6138140f4ee2bdc89200fdccd811": {
      "model_module": "@jupyter-widgets/base",
      "model_module_version": "2.0.0",
      "model_name": "LayoutModel",
      "state": {}
     },
     "9e5b686780ac445f9e7f5d3e2e28c375": {
      "model_module": "@jupyter-widgets/base",
      "model_module_version": "2.0.0",
      "model_name": "LayoutModel",
      "state": {}
     },
     "9e8613c15648446eae7e3b5e55d48830": {
      "model_module": "@jupyter-widgets/controls",
      "model_module_version": "2.0.0",
      "model_name": "HTMLStyleModel",
      "state": {
       "description_width": "",
       "font_size": null,
       "text_color": null
      }
     },
     "9eb5b167d52f44df95ad8fd9915f743b": {
      "model_module": "@jupyter-widgets/controls",
      "model_module_version": "2.0.0",
      "model_name": "HTMLModel",
      "state": {
       "layout": "IPY_MODEL_9441e31fd34d4c1084cc7e5a799c824d",
       "style": "IPY_MODEL_72472b3b7a9542a2b5e4df7d69b0c3cb",
       "value": "100%"
      }
     },
     "9f20c4346bac46d69e274f75b1b8f075": {
      "model_module": "@jupyter-widgets/controls",
      "model_module_version": "2.0.0",
      "model_name": "FloatProgressModel",
      "state": {
       "bar_style": "success",
       "layout": "IPY_MODEL_d8d225561ce84a719d77a03739a62880",
       "max": 2211,
       "style": "IPY_MODEL_653b8aea83ed44ed9cb3fa806b1652bb",
       "value": 2211
      }
     },
     "9f5092c6a6214d74b1cf1602c656d259": {
      "model_module": "@jupyter-widgets/controls",
      "model_module_version": "2.0.0",
      "model_name": "HBoxModel",
      "state": {
       "children": [
        "IPY_MODEL_5a2ffb1ae276417eb8475c0f7a6f6cdf",
        "IPY_MODEL_a4f7ce1883ec4bed86c43222c04931d3",
        "IPY_MODEL_1a3a2f48fe7644f3b7463ac33a83be69"
       ],
       "layout": "IPY_MODEL_bffe43cc084f46beb125d0f84bdb89eb"
      }
     },
     "9f681738b7ea4a88b00d9982a57945fe": {
      "model_module": "@jupyter-widgets/controls",
      "model_module_version": "2.0.0",
      "model_name": "ProgressStyleModel",
      "state": {
       "description_width": ""
      }
     },
     "9f8ee33d091041f8a1728fd36641afcf": {
      "model_module": "@jupyter-widgets/controls",
      "model_module_version": "2.0.0",
      "model_name": "HTMLStyleModel",
      "state": {
       "description_width": "",
       "font_size": null,
       "text_color": null
      }
     },
     "9fa3ee0f5fe64821b68fca49997e8f1d": {
      "model_module": "@jupyter-widgets/controls",
      "model_module_version": "2.0.0",
      "model_name": "LabelModel",
      "state": {
       "layout": "IPY_MODEL_0e63305502cd41d6941b500b5a9d131d",
       "style": "IPY_MODEL_061a64e247e849b7a6ebf0e10212c625",
       "value": "0.033 MB of 0.033 MB uploaded (0.000 MB deduped)\r"
      }
     },
     "9fa9dff6754b4386be5648159aebfe9d": {
      "model_module": "@jupyter-widgets/controls",
      "model_module_version": "2.0.0",
      "model_name": "ProgressStyleModel",
      "state": {
       "description_width": ""
      }
     },
     "9fc157ff8b1347b1a3600fc2818b6283": {
      "model_module": "@jupyter-widgets/controls",
      "model_module_version": "2.0.0",
      "model_name": "HTMLModel",
      "state": {
       "layout": "IPY_MODEL_9e5b686780ac445f9e7f5d3e2e28c375",
       "style": "IPY_MODEL_5802e145c39a43c095fa1f3845d9ba05",
       "value": "Epochs 0/2. Running Loss:    0.4126: 100%"
      }
     },
     "9fe66c270baa477e9b460fa4cf521725": {
      "model_module": "@jupyter-widgets/controls",
      "model_module_version": "2.0.0",
      "model_name": "LabelStyleModel",
      "state": {
       "description_width": "",
       "font_family": null,
       "font_size": null,
       "font_style": null,
       "font_variant": null,
       "font_weight": null,
       "text_color": null,
       "text_decoration": null
      }
     },
     "9fee5c9279934598a80adf50d799985e": {
      "model_module": "@jupyter-widgets/controls",
      "model_module_version": "2.0.0",
      "model_name": "LabelModel",
      "state": {
       "layout": "IPY_MODEL_7a9b51cb563e4a70b615449425682678",
       "style": "IPY_MODEL_7bd284a611ba4409a22f7f8f66eb67ad"
      }
     },
     "9ff288ae34e646e596e7f54e9f4cc083": {
      "model_module": "@jupyter-widgets/base",
      "model_module_version": "2.0.0",
      "model_name": "LayoutModel",
      "state": {}
     },
     "9ffcfb7c627f4dda9ea28e0a61bcb858": {
      "model_module": "@jupyter-widgets/controls",
      "model_module_version": "2.0.0",
      "model_name": "DescriptionStyleModel",
      "state": {
       "description_width": ""
      }
     },
     "a02bc681ece1422bae119535abdd4fa4": {
      "model_module": "@jupyter-widgets/controls",
      "model_module_version": "2.0.0",
      "model_name": "FloatProgressModel",
      "state": {
       "layout": "IPY_MODEL_45f157f1962a465493913097d096a312",
       "max": 1,
       "style": "IPY_MODEL_937c2baa70fe4bf79226115fa2c08c43",
       "value": 1
      }
     },
     "a03fcf5c5c024eafa9e69a4ff169c8f5": {
      "model_module": "@jupyter-widgets/controls",
      "model_module_version": "2.0.0",
      "model_name": "FloatProgressModel",
      "state": {
       "layout": "IPY_MODEL_9a24e406b92a48908dd68debb67b1b46",
       "max": 1,
       "style": "IPY_MODEL_7c386478120a48268349872622d6aa98"
      }
     },
     "a048f9771ebe4157b6362d091706a4a4": {
      "model_module": "@jupyter-widgets/base",
      "model_module_version": "2.0.0",
      "model_name": "LayoutModel",
      "state": {}
     },
     "a05e7c0387054b95abd89032b6055cfb": {
      "model_module": "@jupyter-widgets/controls",
      "model_module_version": "2.0.0",
      "model_name": "ProgressStyleModel",
      "state": {
       "description_width": ""
      }
     },
     "a08d6bc5f0aa4d97aa6dcb86994d3228": {
      "model_module": "@jupyter-widgets/controls",
      "model_module_version": "2.0.0",
      "model_name": "HTMLModel",
      "state": {
       "layout": "IPY_MODEL_bb9c6e3ba15c4b179653fc16896f5b89",
       "style": "IPY_MODEL_8d30152fd86344108523152c9ad2155c",
       "value": " 230/230 [00:10&lt;00:00, 163.34it/s]"
      }
     },
     "a100b090705b4b74bdb63242d9ef0daf": {
      "model_module": "@jupyter-widgets/controls",
      "model_module_version": "2.0.0",
      "model_name": "HTMLStyleModel",
      "state": {
       "description_width": "",
       "font_size": null,
       "text_color": null
      }
     },
     "a10d05f58c584d7bae0efa109e326014": {
      "model_module": "@jupyter-widgets/base",
      "model_module_version": "2.0.0",
      "model_name": "LayoutModel",
      "state": {}
     },
     "a114d061bdbe46048baafedaa3344e83": {
      "model_module": "@jupyter-widgets/controls",
      "model_module_version": "2.0.0",
      "model_name": "HTMLModel",
      "state": {
       "layout": "IPY_MODEL_9539615d900d451ba0282f710335f144",
       "style": "IPY_MODEL_eda044b5be6d45e59863263592c2445d",
       "value": "Generating outputs: 100%"
      }
     },
     "a1290a53114a4cd7b786113b20cc12ba": {
      "model_module": "@jupyter-widgets/controls",
      "model_module_version": "2.0.0",
      "model_name": "HBoxModel",
      "state": {
       "children": [
        "IPY_MODEL_951e1bd47f4b4822a0c3c7bfd9bf8fba",
        "IPY_MODEL_2abc0da7c9b0410f8cb2d1b7c00632d3",
        "IPY_MODEL_dd02fbc8c5fd4c2b87595eb252ab2ab8"
       ],
       "layout": "IPY_MODEL_5a5a5fac0e6248ba995c2775bac77757"
      }
     },
     "a12c57797062402aae135df61a751756": {
      "model_module": "@jupyter-widgets/controls",
      "model_module_version": "2.0.0",
      "model_name": "HBoxModel",
      "state": {
       "children": [
        "IPY_MODEL_64a3c85a2d954b949f184cdbc311c4d8",
        "IPY_MODEL_3ad3b2f70ede468f8d5f2e7c88fe286c",
        "IPY_MODEL_67dfc37758444c77b896a981efaa98a4"
       ],
       "layout": "IPY_MODEL_61c03f19ff4b425b90af2ba3e74462f0"
      }
     },
     "a1484acf32f941b29a06bda74eb7c945": {
      "model_module": "@jupyter-widgets/controls",
      "model_module_version": "2.0.0",
      "model_name": "HBoxModel",
      "state": {
       "children": [
        "IPY_MODEL_30e40a230aad4ed991b1c4db10010567",
        "IPY_MODEL_b48a760b43ba4f77b888fe04cb018e9c",
        "IPY_MODEL_87b5acf3ba534d079405c61008fcf28f"
       ],
       "layout": "IPY_MODEL_33c3a9a7182b48da9c1e39ef66c24472"
      }
     },
     "a14a7433d5994f7e82fb7183252ccbae": {
      "model_module": "@jupyter-widgets/base",
      "model_module_version": "2.0.0",
      "model_name": "LayoutModel",
      "state": {}
     },
     "a15eed4e9aa84d10aabf07831c48e526": {
      "model_module": "@jupyter-widgets/controls",
      "model_module_version": "2.0.0",
      "model_name": "FloatProgressModel",
      "state": {
       "bar_style": "success",
       "layout": "IPY_MODEL_cefd58848d8e459db61ae40c961b1673",
       "max": 218,
       "style": "IPY_MODEL_d47641bef66d490db4d967f714a0515d",
       "value": 218
      }
     },
     "a168c1e1f1964d9cb481d3faf6b38ace": {
      "model_module": "@jupyter-widgets/controls",
      "model_module_version": "2.0.0",
      "model_name": "HTMLStyleModel",
      "state": {
       "description_width": "",
       "font_size": null,
       "text_color": null
      }
     },
     "a1743c80c94f4935a28e4f76499d5370": {
      "model_module": "@jupyter-widgets/base",
      "model_module_version": "2.0.0",
      "model_name": "LayoutModel",
      "state": {}
     },
     "a1c08bfcb5b048a693540a356771e16b": {
      "model_module": "@jupyter-widgets/base",
      "model_module_version": "2.0.0",
      "model_name": "LayoutModel",
      "state": {}
     },
     "a26c77ac1b6e42fbb54c8dadec401459": {
      "model_module": "@jupyter-widgets/base",
      "model_module_version": "2.0.0",
      "model_name": "LayoutModel",
      "state": {}
     },
     "a2d1ede4657945da9bb62a3a3c5e5589": {
      "model_module": "@jupyter-widgets/controls",
      "model_module_version": "2.0.0",
      "model_name": "HTMLModel",
      "state": {
       "layout": "IPY_MODEL_275e3a64f7194bc1815012a3a706cb7e",
       "style": "IPY_MODEL_32245f92331748febff830e2a5a9eeae",
       "value": "Epoch 2 of 2: 100%"
      }
     },
     "a2db5fbda77546f2955ca1296a64549b": {
      "model_module": "@jupyter-widgets/controls",
      "model_module_version": "2.0.0",
      "model_name": "LabelStyleModel",
      "state": {
       "description_width": "",
       "font_family": null,
       "font_size": null,
       "font_style": null,
       "font_variant": null,
       "font_weight": null,
       "text_color": null,
       "text_decoration": null
      }
     },
     "a31fd1ec6c7f4551893693a8a886dbca": {
      "model_module": "@jupyter-widgets/controls",
      "model_module_version": "2.0.0",
      "model_name": "HBoxModel",
      "state": {
       "children": [
        "IPY_MODEL_55716b3251df4613b65aa31678f08e6e",
        "IPY_MODEL_c3f8550b1a3247e7ac71432aff1a6c31",
        "IPY_MODEL_e5286942d3264b43a5b8f2bc9bfde555"
       ],
       "layout": "IPY_MODEL_4ada9a02ffaf438c815e4f105143c50e"
      }
     },
     "a3296077d6f94394bc98ecd374e5a431": {
      "model_module": "@jupyter-widgets/controls",
      "model_module_version": "2.0.0",
      "model_name": "HTMLModel",
      "state": {
       "layout": "IPY_MODEL_ed7fad22736646bc882843f655548114",
       "style": "IPY_MODEL_8bfb147f3a6f4500aa2a7b74f1244116",
       "value": " 2/2 [01:14&lt;00:00, 36.22s/it]"
      }
     },
     "a3571a75363349b4acba548ff3d4c028": {
      "model_module": "@jupyter-widgets/controls",
      "model_module_version": "2.0.0",
      "model_name": "HTMLStyleModel",
      "state": {
       "description_width": "",
       "font_size": null,
       "text_color": null
      }
     },
     "a364c9a5fd904206969bed3ceb47d8a8": {
      "model_module": "@jupyter-widgets/base",
      "model_module_version": "2.0.0",
      "model_name": "LayoutModel",
      "state": {}
     },
     "a38ecf28b58f44cea07415ee5b6b177e": {
      "model_module": "@jupyter-widgets/base",
      "model_module_version": "2.0.0",
      "model_name": "LayoutModel",
      "state": {}
     },
     "a40f081922d340a180c497400066c2e3": {
      "model_module": "@jupyter-widgets/controls",
      "model_module_version": "2.0.0",
      "model_name": "ProgressStyleModel",
      "state": {
       "description_width": ""
      }
     },
     "a43e1efe81154171ad81db0c8a1bdae0": {
      "model_module": "@jupyter-widgets/controls",
      "model_module_version": "2.0.0",
      "model_name": "HTMLModel",
      "state": {
       "layout": "IPY_MODEL_2693a6a954a44b18b6a757e1c162971c",
       "style": "IPY_MODEL_be15dbf1d6404c8b94cf3169238c142c",
       "value": " 36/36 [00:01&lt;00:00, 30.15it/s]"
      }
     },
     "a46b9915acf14f3488a79d0d2721ac9a": {
      "model_module": "@jupyter-widgets/controls",
      "model_module_version": "2.0.0",
      "model_name": "HBoxModel",
      "state": {
       "children": [
        "IPY_MODEL_bb94186ad1984d0fba95f0b20710ee6f",
        "IPY_MODEL_b73baab9c9fc47ce94a70a004e68f70c",
        "IPY_MODEL_4e846972960a4dfcb8352ebc5720dc82"
       ],
       "layout": "IPY_MODEL_7bc0336e7575437aa374ddad82eda65a"
      }
     },
     "a47acbe2d2f64bf494eab1aa26a51cac": {
      "model_module": "@jupyter-widgets/base",
      "model_module_version": "2.0.0",
      "model_name": "LayoutModel",
      "state": {}
     },
     "a49f5a221bc747999e1a2d101a5fb946": {
      "model_module": "@jupyter-widgets/controls",
      "model_module_version": "2.0.0",
      "model_name": "HTMLModel",
      "state": {
       "layout": "IPY_MODEL_2a72426cf4034912864f25f04315e7be",
       "style": "IPY_MODEL_28c5a85e136f48f1952b14344e5a34f8",
       "value": " 422M/422M [00:20&lt;00:00, 22.3MB/s]"
      }
     },
     "a4b751ca465643fa87b39545930fda96": {
      "model_module": "@jupyter-widgets/base",
      "model_module_version": "2.0.0",
      "model_name": "LayoutModel",
      "state": {}
     },
     "a4c22290c0b942aa8809a39118554c75": {
      "model_module": "@jupyter-widgets/base",
      "model_module_version": "2.0.0",
      "model_name": "LayoutModel",
      "state": {}
     },
     "a4c501ae24994bdbbf8f80140a32b0a7": {
      "model_module": "@jupyter-widgets/base",
      "model_module_version": "2.0.0",
      "model_name": "LayoutModel",
      "state": {}
     },
     "a4f7ce1883ec4bed86c43222c04931d3": {
      "model_module": "@jupyter-widgets/controls",
      "model_module_version": "2.0.0",
      "model_name": "FloatProgressModel",
      "state": {
       "bar_style": "success",
       "layout": "IPY_MODEL_93026cfd3b0e42fdbba6971f461180d9",
       "max": 72,
       "style": "IPY_MODEL_b2c06a4d54b043899cac96cba4f66be0",
       "value": 72
      }
     },
     "a4fffae6d2364a0e912609d6297d5211": {
      "model_module": "@jupyter-widgets/base",
      "model_module_version": "2.0.0",
      "model_name": "LayoutModel",
      "state": {}
     },
     "a550dde693e94563aa29d628d288fb0f": {
      "model_module": "@jupyter-widgets/controls",
      "model_module_version": "2.0.0",
      "model_name": "HTMLStyleModel",
      "state": {
       "description_width": "",
       "font_size": null,
       "text_color": null
      }
     },
     "a5776babd4f449fdb7124d76ca429dcb": {
      "model_module": "@jupyter-widgets/controls",
      "model_module_version": "2.0.0",
      "model_name": "HTMLStyleModel",
      "state": {
       "description_width": "",
       "font_size": null,
       "text_color": null
      }
     },
     "a5b2a6b72eee4aeea47def2af179967a": {
      "model_module": "@jupyter-widgets/controls",
      "model_module_version": "2.0.0",
      "model_name": "FloatProgressModel",
      "state": {
       "layout": "IPY_MODEL_e32105f9010b492293c068deb5957ec7",
       "max": 1,
       "style": "IPY_MODEL_e05bc8cf6d4f42d4a938c688c9a8d7e5",
       "value": 1
      }
     },
     "a5cc1d2d266c4f2784ebfc4b611ed307": {
      "model_module": "@jupyter-widgets/base",
      "model_module_version": "2.0.0",
      "model_name": "LayoutModel",
      "state": {}
     },
     "a5d5f1c2824b49388315415200978a6f": {
      "model_module": "@jupyter-widgets/base",
      "model_module_version": "2.0.0",
      "model_name": "LayoutModel",
      "state": {}
     },
     "a605740e4fe84f449ee6d35bfef0dc26": {
      "model_module": "@jupyter-widgets/controls",
      "model_module_version": "2.0.0",
      "model_name": "HTMLModel",
      "state": {
       "layout": "IPY_MODEL_3642c30f9eaa41f0ba422e7f776aa66f",
       "style": "IPY_MODEL_a100b090705b4b74bdb63242d9ef0daf",
       "value": " 2211/2211 [00:01&lt;00:00, 2206.76it/s]"
      }
     },
     "a6130d96463d4fb0b76cfa65aa18743d": {
      "model_module": "@jupyter-widgets/controls",
      "model_module_version": "2.0.0",
      "model_name": "FloatProgressModel",
      "state": {
       "bar_style": "danger",
       "layout": "IPY_MODEL_38bc147703e84c3485237ee01b1e97a5",
       "max": 289,
       "style": "IPY_MODEL_7f591d6a40184176896625dedaf4aec4",
       "value": 49
      }
     },
     "a61c7a07600a45fb889fe064d8efc74b": {
      "model_module": "@jupyter-widgets/controls",
      "model_module_version": "2.0.0",
      "model_name": "ProgressStyleModel",
      "state": {
       "description_width": ""
      }
     },
     "a6235a5110ef423a9934d4cab096c2e4": {
      "model_module": "@jupyter-widgets/controls",
      "model_module_version": "2.0.0",
      "model_name": "HTMLStyleModel",
      "state": {
       "description_width": "",
       "font_size": null,
       "text_color": null
      }
     },
     "a626457c121c4e68803bdc4e38e285bb": {
      "model_module": "@jupyter-widgets/base",
      "model_module_version": "2.0.0",
      "model_name": "LayoutModel",
      "state": {}
     },
     "a6520cb71d874a889685821b73b32439": {
      "model_module": "@jupyter-widgets/controls",
      "model_module_version": "2.0.0",
      "model_name": "VBoxModel",
      "state": {
       "children": [
        "IPY_MODEL_7b57ccd8c83243b5a3e92e63226077d4",
        "IPY_MODEL_7b6d845f2ff14666bbcf1ca66ae9d818"
       ],
       "layout": "IPY_MODEL_3a85c4dde82c4eb1a62121690a719102"
      }
     },
     "a67d4d6081a5490c99a566ba37739f1f": {
      "model_module": "@jupyter-widgets/base",
      "model_module_version": "2.0.0",
      "model_name": "LayoutModel",
      "state": {}
     },
     "a7358ff9c4ab4db59bc566d2317045bc": {
      "model_module": "@jupyter-widgets/controls",
      "model_module_version": "2.0.0",
      "model_name": "HTMLModel",
      "state": {
       "layout": "IPY_MODEL_b92edb41879445fa96d5441e6667f7af",
       "style": "IPY_MODEL_5956c56ff9cd449798e5dbf5ee5029be",
       "value": "Epochs 0/2. Running Loss:    0.2164: 100%"
      }
     },
     "a751364cfba147c1bdd247cee502058e": {
      "model_module": "@jupyter-widgets/controls",
      "model_module_version": "2.0.0",
      "model_name": "HBoxModel",
      "state": {
       "children": [
        "IPY_MODEL_783b393977bb431d8d128f425d941967",
        "IPY_MODEL_df08f7151aa44c52832a52e559c92dda",
        "IPY_MODEL_1ccdff055a6b4f8d9fc1cbe20076dc37"
       ],
       "layout": "IPY_MODEL_4acd0cd5c17e42f0b9402aec2ad3c7d1"
      }
     },
     "a75f365bef604a89b9f175960637bc13": {
      "model_module": "@jupyter-widgets/controls",
      "model_module_version": "2.0.0",
      "model_name": "HTMLModel",
      "state": {
       "layout": "IPY_MODEL_9428d46ccf774e3f9f73aa25f9e6920c",
       "style": "IPY_MODEL_84c62e3ad7ff4f4aac41dded2a4b89b3",
       "value": " 289/289 [00:33&lt;00:00, 10.53it/s]"
      }
     },
     "a786ca719eb34dc28624832883caaa30": {
      "model_module": "@jupyter-widgets/base",
      "model_module_version": "2.0.0",
      "model_name": "LayoutModel",
      "state": {}
     },
     "a7b5ba56026c43f1bf1d196c536d1e7c": {
      "model_module": "@jupyter-widgets/controls",
      "model_module_version": "2.0.0",
      "model_name": "HTMLStyleModel",
      "state": {
       "description_width": "",
       "font_size": null,
       "text_color": null
      }
     },
     "a7bd99aacab54df9aadab73a5086f1b0": {
      "model_module": "@jupyter-widgets/controls",
      "model_module_version": "2.0.0",
      "model_name": "VBoxModel",
      "state": {
       "children": [
        "IPY_MODEL_6acb9801e71241f6a709a3761c60cc9e",
        "IPY_MODEL_0c9c3c02d5aa45379c6e68b740fbc807"
       ],
       "layout": "IPY_MODEL_ba40e365cdb9444792107a5357471a8c"
      }
     },
     "a805593692164e6e9efee08569522586": {
      "model_module": "@jupyter-widgets/base",
      "model_module_version": "2.0.0",
      "model_name": "LayoutModel",
      "state": {}
     },
     "a8462ad963164a06883fe8c92112aac6": {
      "model_module": "@jupyter-widgets/controls",
      "model_module_version": "2.0.0",
      "model_name": "HTMLModel",
      "state": {
       "layout": "IPY_MODEL_e4788e55b9a04f839058f4239413dc85",
       "style": "IPY_MODEL_d9d0836754a44c3c86724c54bfa06efb",
       "value": " 228/228 [00:26&lt;00:00, 10.20it/s]"
      }
     },
     "a84fad255d674f369a32d278b75c93ea": {
      "model_module": "@jupyter-widgets/controls",
      "model_module_version": "2.0.0",
      "model_name": "HTMLStyleModel",
      "state": {
       "description_width": "",
       "font_size": null,
       "text_color": null
      }
     },
     "a87b9b32de604faf95289a1476251cdd": {
      "model_module": "@jupyter-widgets/base",
      "model_module_version": "2.0.0",
      "model_name": "LayoutModel",
      "state": {}
     },
     "a87ca914c7b348a9b348bd5979efeb9e": {
      "model_module": "@jupyter-widgets/base",
      "model_module_version": "2.0.0",
      "model_name": "LayoutModel",
      "state": {}
     },
     "a887d5de3c784ec5a2da41c51ed89218": {
      "model_module": "@jupyter-widgets/controls",
      "model_module_version": "2.0.0",
      "model_name": "LabelModel",
      "state": {
       "layout": "IPY_MODEL_3c6c1caa9f4f49f7890433ac98d4fb7a",
       "style": "IPY_MODEL_d9d96d13f9ab4541a02fe09450011675"
      }
     },
     "a8ffd1afae2f4380bbcbabda1c7a78f0": {
      "model_module": "@jupyter-widgets/controls",
      "model_module_version": "2.0.0",
      "model_name": "ProgressStyleModel",
      "state": {
       "description_width": ""
      }
     },
     "a9223e8b50714643bff2a0351ae24953": {
      "model_module": "@jupyter-widgets/base",
      "model_module_version": "2.0.0",
      "model_name": "LayoutModel",
      "state": {}
     },
     "a92bc3cd3f564dffa94c2ddcf0e997ac": {
      "model_module": "@jupyter-widgets/controls",
      "model_module_version": "2.0.0",
      "model_name": "HTMLStyleModel",
      "state": {
       "description_width": "",
       "font_size": null,
       "text_color": null
      }
     },
     "a9dbf8b498304e92b00a57335fbdefa5": {
      "model_module": "@jupyter-widgets/controls",
      "model_module_version": "2.0.0",
      "model_name": "ProgressStyleModel",
      "state": {
       "description_width": ""
      }
     },
     "aa2174b0cab145bda211a040164e0469": {
      "model_module": "@jupyter-widgets/base",
      "model_module_version": "2.0.0",
      "model_name": "LayoutModel",
      "state": {}
     },
     "aa4267d5d67842b5ae1c12641e932486": {
      "model_module": "@jupyter-widgets/base",
      "model_module_version": "2.0.0",
      "model_name": "LayoutModel",
      "state": {}
     },
     "aaa4f5061d3c4fe3bfe9772b10da22a9": {
      "model_module": "@jupyter-widgets/controls",
      "model_module_version": "2.0.0",
      "model_name": "HBoxModel",
      "state": {
       "children": [
        "IPY_MODEL_cdd9732176f74ec890e2b8145ce3bc12",
        "IPY_MODEL_f6c78abceda04075b855d4d7a5b004dc",
        "IPY_MODEL_84fe288e398741ae8e7bafefe31fe434"
       ],
       "layout": "IPY_MODEL_ea21253b51464e668d1ec730849fdbd7"
      }
     },
     "aaf1e3ab6f9843d88ebca29fa6aaf86c": {
      "model_module": "@jupyter-widgets/base",
      "model_module_version": "2.0.0",
      "model_name": "LayoutModel",
      "state": {}
     },
     "aafe2e850a4e482d82c4aa0cc91ff496": {
      "model_module": "@jupyter-widgets/base",
      "model_module_version": "2.0.0",
      "model_name": "LayoutModel",
      "state": {}
     },
     "ab51c5322562400981af42ce342ee8ae": {
      "model_module": "@jupyter-widgets/base",
      "model_module_version": "2.0.0",
      "model_name": "LayoutModel",
      "state": {}
     },
     "ab5bc4cc142f4f2d82027b89920a4bba": {
      "model_module": "@jupyter-widgets/controls",
      "model_module_version": "2.0.0",
      "model_name": "FloatProgressModel",
      "state": {
       "bar_style": "success",
       "layout": "IPY_MODEL_0f37ec89b7fb4556b73b159874e9d4af",
       "max": 199,
       "style": "IPY_MODEL_d4a9f8ec60894b2dba27bb2334475c10",
       "value": 199
      }
     },
     "ab6d622b74ed4aa5b9127331be814088": {
      "model_module": "@jupyter-widgets/controls",
      "model_module_version": "2.0.0",
      "model_name": "HTMLModel",
      "state": {
       "layout": "IPY_MODEL_7da9fd0ad2454343ad328b8242ef2595",
       "style": "IPY_MODEL_d52259ba741d492abbeef1b1db776c95",
       "value": " 72/72 [00:02&lt;00:00, 30.23it/s]"
      }
     },
     "ac07ce64b2134a8db702910b0aad8e2d": {
      "model_module": "@jupyter-widgets/base",
      "model_module_version": "2.0.0",
      "model_name": "LayoutModel",
      "state": {}
     },
     "ac25fcaf336b4ef49c288b30e1867fc8": {
      "model_module": "@jupyter-widgets/base",
      "model_module_version": "2.0.0",
      "model_name": "LayoutModel",
      "state": {}
     },
     "ac4f40d29ba8452f83365371e880e3b6": {
      "model_module": "@jupyter-widgets/base",
      "model_module_version": "2.0.0",
      "model_name": "LayoutModel",
      "state": {}
     },
     "ac528898306f467bb546d43804383400": {
      "model_module": "@jupyter-widgets/base",
      "model_module_version": "2.0.0",
      "model_name": "LayoutModel",
      "state": {}
     },
     "ac8291af64c9480f945f3da4560cf78e": {
      "model_module": "@jupyter-widgets/controls",
      "model_module_version": "2.0.0",
      "model_name": "ProgressStyleModel",
      "state": {
       "description_width": ""
      }
     },
     "ac8fe57c6e35481e8a656402d353b9e0": {
      "model_module": "@jupyter-widgets/controls",
      "model_module_version": "2.0.0",
      "model_name": "ProgressStyleModel",
      "state": {
       "description_width": ""
      }
     },
     "aca4f42caf074af99391312382041f25": {
      "model_module": "@jupyter-widgets/base",
      "model_module_version": "2.0.0",
      "model_name": "LayoutModel",
      "state": {}
     },
     "acb37e2ec3af4ea5b0ecfd2f9b0633f6": {
      "model_module": "@jupyter-widgets/controls",
      "model_module_version": "2.0.0",
      "model_name": "HBoxModel",
      "state": {
       "children": [
        "IPY_MODEL_8f0facb32cee44f3b4828bc70a0d7073",
        "IPY_MODEL_c4403ea1f52a4f73b41a30d591e980ac",
        "IPY_MODEL_81d9733fea6944debb40db2bd88d33ac"
       ],
       "layout": "IPY_MODEL_44c04fb32eb04e979ff8a7a57f1985c1"
      }
     },
     "acbd03c48c6c413c99dd4a30d15d10f9": {
      "model_module": "@jupyter-widgets/controls",
      "model_module_version": "2.0.0",
      "model_name": "ProgressStyleModel",
      "state": {
       "description_width": ""
      }
     },
     "accbffb41d6248c695dfb3665d5d2fb2": {
      "model_module": "@jupyter-widgets/controls",
      "model_module_version": "2.0.0",
      "model_name": "LabelStyleModel",
      "state": {
       "description_width": "",
       "font_family": null,
       "font_size": null,
       "font_style": null,
       "font_variant": null,
       "font_weight": null,
       "text_color": null,
       "text_decoration": null
      }
     },
     "acd0d667fdd245e4bf221b443d115c3b": {
      "model_module": "@jupyter-widgets/controls",
      "model_module_version": "2.0.0",
      "model_name": "HBoxModel",
      "state": {
       "children": [
        "IPY_MODEL_79bb065879264467abefc04895aa2cb0",
        "IPY_MODEL_00998042c8964f04b4efe38d3bf6a481",
        "IPY_MODEL_113be202c63244aca0039c15573d5a38"
       ],
       "layout": "IPY_MODEL_844f9f75004948bb88f542bd47787ab2"
      }
     },
     "ad3a331c59d647b7862c5aba16928c6e": {
      "model_module": "@jupyter-widgets/base",
      "model_module_version": "2.0.0",
      "model_name": "LayoutModel",
      "state": {}
     },
     "ad4019353c5e4f1287ed17ea9fefdb4e": {
      "model_module": "@jupyter-widgets/controls",
      "model_module_version": "2.0.0",
      "model_name": "HTMLModel",
      "state": {
       "layout": "IPY_MODEL_a87ca914c7b348a9b348bd5979efeb9e",
       "style": "IPY_MODEL_8745c5659f4740e483589972e1a9ddd5",
       "value": "100%"
      }
     },
     "ad4309cc10174221a7483684c7362ceb": {
      "model_module": "@jupyter-widgets/base",
      "model_module_version": "2.0.0",
      "model_name": "LayoutModel",
      "state": {}
     },
     "ad46d2cbfb9546688bfaa9d108e4fb93": {
      "model_module": "@jupyter-widgets/controls",
      "model_module_version": "2.0.0",
      "model_name": "ProgressStyleModel",
      "state": {
       "description_width": ""
      }
     },
     "ad6176247e1145a49cfd67d403523ae0": {
      "model_module": "@jupyter-widgets/controls",
      "model_module_version": "2.0.0",
      "model_name": "HTMLStyleModel",
      "state": {
       "description_width": "",
       "font_size": null,
       "text_color": null
      }
     },
     "ad6fd70192334ca584f264998a2fc454": {
      "model_module": "@jupyter-widgets/base",
      "model_module_version": "2.0.0",
      "model_name": "LayoutModel",
      "state": {}
     },
     "ad98d4fd73104649930abccfeabc207a": {
      "model_module": "@jupyter-widgets/controls",
      "model_module_version": "2.0.0",
      "model_name": "HTMLStyleModel",
      "state": {
       "description_width": "",
       "font_size": null,
       "text_color": null
      }
     },
     "ada56f120aca419cb9a0896ce186e1f7": {
      "model_module": "@jupyter-widgets/base",
      "model_module_version": "2.0.0",
      "model_name": "LayoutModel",
      "state": {}
     },
     "adcd8e99e7074e71a295231426d9ff5a": {
      "model_module": "@jupyter-widgets/base",
      "model_module_version": "2.0.0",
      "model_name": "LayoutModel",
      "state": {}
     },
     "add3f4956bcd411591a30eefdbbe394b": {
      "model_module": "@jupyter-widgets/controls",
      "model_module_version": "2.0.0",
      "model_name": "ProgressStyleModel",
      "state": {
       "description_width": ""
      }
     },
     "addfbdc58be54827ad4dfbb0ff402a82": {
      "model_module": "@jupyter-widgets/controls",
      "model_module_version": "2.0.0",
      "model_name": "HTMLStyleModel",
      "state": {
       "description_width": "",
       "font_size": null,
       "text_color": null
      }
     },
     "ade26c3d60d747af90009678a5a5fdea": {
      "model_module": "@jupyter-widgets/base",
      "model_module_version": "2.0.0",
      "model_name": "LayoutModel",
      "state": {}
     },
     "adf1461d16ce4bcab67b42aee1a9cb67": {
      "model_module": "@jupyter-widgets/base",
      "model_module_version": "2.0.0",
      "model_name": "LayoutModel",
      "state": {}
     },
     "ae3dcefa9132454188b79d8046920875": {
      "model_module": "@jupyter-widgets/controls",
      "model_module_version": "2.0.0",
      "model_name": "ProgressStyleModel",
      "state": {
       "description_width": ""
      }
     },
     "ae4480f3dcbe470289372e61809ff91a": {
      "model_module": "@jupyter-widgets/controls",
      "model_module_version": "2.0.0",
      "model_name": "HTMLModel",
      "state": {
       "layout": "IPY_MODEL_7e70464e8c584a58b5f2a53ff6909311",
       "style": "IPY_MODEL_8a29d778209d487a93991fd826ee535c",
       "value": " 1.44k/1.44k [00:00&lt;00:00, 80.0kB/s]"
      }
     },
     "ae629f698b694dcd933f96ac77b15f0f": {
      "model_module": "@jupyter-widgets/base",
      "model_module_version": "2.0.0",
      "model_name": "LayoutModel",
      "state": {}
     },
     "aea0a9a0b88a4aafbcb3d0fd4f563bd8": {
      "model_module": "@jupyter-widgets/controls",
      "model_module_version": "2.0.0",
      "model_name": "HTMLModel",
      "state": {
       "layout": "IPY_MODEL_d7e63c3db63e42fcbc2203337d0d895f",
       "style": "IPY_MODEL_e12a0a58193e45edab399883f9bb5ede",
       "value": "100%"
      }
     },
     "aeab7661aed647e2a0ed1544706e7aed": {
      "model_module": "@jupyter-widgets/base",
      "model_module_version": "2.0.0",
      "model_name": "LayoutModel",
      "state": {}
     },
     "aebb51e4cb734ca0adc4feced8bdf745": {
      "model_module": "@jupyter-widgets/base",
      "model_module_version": "2.0.0",
      "model_name": "LayoutModel",
      "state": {}
     },
     "af033e586b9347958cc7b2af09c7d3f7": {
      "model_module": "@jupyter-widgets/controls",
      "model_module_version": "2.0.0",
      "model_name": "LabelStyleModel",
      "state": {
       "description_width": "",
       "font_family": null,
       "font_size": null,
       "font_style": null,
       "font_variant": null,
       "font_weight": null,
       "text_color": null,
       "text_decoration": null
      }
     },
     "af206d60eef14190af735a76c0025ca2": {
      "model_module": "@jupyter-widgets/controls",
      "model_module_version": "2.0.0",
      "model_name": "HBoxModel",
      "state": {
       "children": [
        "IPY_MODEL_ce3e33fca1cb465aa1ff7ccc55dfd113",
        "IPY_MODEL_24919a19957541d882022d514b850f6e",
        "IPY_MODEL_9c0552d5acc64d259dd80ece5db2a1ca"
       ],
       "layout": "IPY_MODEL_aa2174b0cab145bda211a040164e0469"
      }
     },
     "af3a30217887480ca99bcf2019a7b5d3": {
      "model_module": "@jupyter-widgets/controls",
      "model_module_version": "2.0.0",
      "model_name": "ProgressStyleModel",
      "state": {
       "description_width": ""
      }
     },
     "af44dfe95bba480d834d0f7efc428631": {
      "model_module": "@jupyter-widgets/controls",
      "model_module_version": "2.0.0",
      "model_name": "ProgressStyleModel",
      "state": {
       "description_width": ""
      }
     },
     "af7002760ea94befa20b3ee7b1682cd0": {
      "model_module": "@jupyter-widgets/controls",
      "model_module_version": "2.0.0",
      "model_name": "ProgressStyleModel",
      "state": {
       "description_width": ""
      }
     },
     "afc778d1d02942699bcf5e8fc6060484": {
      "model_module": "@jupyter-widgets/controls",
      "model_module_version": "2.0.0",
      "model_name": "HTMLStyleModel",
      "state": {
       "description_width": "",
       "font_size": null,
       "text_color": null
      }
     },
     "afeeb1a389db40d4bce3eae4f94577e5": {
      "model_module": "@jupyter-widgets/base",
      "model_module_version": "2.0.0",
      "model_name": "LayoutModel",
      "state": {}
     },
     "aff160284d05434380485ffeb64eea3f": {
      "model_module": "@jupyter-widgets/controls",
      "model_module_version": "2.0.0",
      "model_name": "HBoxModel",
      "state": {
       "children": [
        "IPY_MODEL_9eb5b167d52f44df95ad8fd9915f743b",
        "IPY_MODEL_9717d4fd3f274c1bb2892d1cdcdb937b",
        "IPY_MODEL_c4e2dac70fab47a9943e2420fdb3bf48"
       ],
       "layout": "IPY_MODEL_3599a8c6f8bb4b56942c443be28c6295"
      }
     },
     "b00ff3c6d6c84c6db6e8f4f8af2ec597": {
      "model_module": "@jupyter-widgets/controls",
      "model_module_version": "2.0.0",
      "model_name": "HBoxModel",
      "state": {
       "children": [
        "IPY_MODEL_6ce89f034515406987e971f3f077ffe7",
        "IPY_MODEL_c161ef06af574deea230e60de765957a",
        "IPY_MODEL_8b0892b05b1146d2b9b880fb7023a51f"
       ],
       "layout": "IPY_MODEL_cdbdf62622154df8b680a2bb6aa2ea9e"
      }
     },
     "b058a40efd9048afad40ea5dd69fdb07": {
      "model_module": "@jupyter-widgets/base",
      "model_module_version": "2.0.0",
      "model_name": "LayoutModel",
      "state": {}
     },
     "b066485875fc441bb51f4088e9dcd1b7": {
      "model_module": "@jupyter-widgets/controls",
      "model_module_version": "2.0.0",
      "model_name": "HTMLStyleModel",
      "state": {
       "description_width": "",
       "font_size": null,
       "text_color": null
      }
     },
     "b07148238da6473cbed66f489f965e04": {
      "model_module": "@jupyter-widgets/controls",
      "model_module_version": "2.0.0",
      "model_name": "FloatProgressModel",
      "state": {
       "bar_style": "success",
       "layout": "IPY_MODEL_898014151c874ef69d24f22fec1b27ff",
       "max": 230,
       "style": "IPY_MODEL_ae3dcefa9132454188b79d8046920875",
       "value": 230
      }
     },
     "b075f22c0160465791064f37656e99e4": {
      "model_module": "@jupyter-widgets/base",
      "model_module_version": "2.0.0",
      "model_name": "LayoutModel",
      "state": {}
     },
     "b08c7d25e554437a948f0d0853fa198e": {
      "model_module": "@jupyter-widgets/base",
      "model_module_version": "2.0.0",
      "model_name": "LayoutModel",
      "state": {}
     },
     "b0a5b261aa1544f4bca39c822b9226f7": {
      "model_module": "@jupyter-widgets/controls",
      "model_module_version": "2.0.0",
      "model_name": "HTMLStyleModel",
      "state": {
       "description_width": "",
       "font_size": null,
       "text_color": null
      }
     },
     "b0d806088c694fdbba85fd9daefbe27b": {
      "model_module": "@jupyter-widgets/controls",
      "model_module_version": "2.0.0",
      "model_name": "HTMLStyleModel",
      "state": {
       "description_width": "",
       "font_size": null,
       "text_color": null
      }
     },
     "b0ec9968d15944939d619c317ba07963": {
      "model_module": "@jupyter-widgets/base",
      "model_module_version": "2.0.0",
      "model_name": "LayoutModel",
      "state": {}
     },
     "b0fc6c1742204649a11b60aa4336a75a": {
      "model_module": "@jupyter-widgets/base",
      "model_module_version": "2.0.0",
      "model_name": "LayoutModel",
      "state": {}
     },
     "b124f0edf84c4fbd9bd1a8ce2208c2b3": {
      "model_module": "@jupyter-widgets/controls",
      "model_module_version": "2.0.0",
      "model_name": "HTMLStyleModel",
      "state": {
       "description_width": "",
       "font_size": null,
       "text_color": null
      }
     },
     "b12ae645613b4a0f8cdcd47e8fd88096": {
      "model_module": "@jupyter-widgets/controls",
      "model_module_version": "2.0.0",
      "model_name": "ProgressStyleModel",
      "state": {
       "description_width": ""
      }
     },
     "b140658aa3344292b71294729f5acbe5": {
      "model_module": "@jupyter-widgets/controls",
      "model_module_version": "2.0.0",
      "model_name": "LabelModel",
      "state": {
       "layout": "IPY_MODEL_e9a1fff94cde414f8b011f7ad6cc2fc3",
       "style": "IPY_MODEL_23a6ec3839c6410faab694c57268d518"
      }
     },
     "b1751dd019b7467d9371c4f472eecb7f": {
      "model_module": "@jupyter-widgets/controls",
      "model_module_version": "2.0.0",
      "model_name": "LabelModel",
      "state": {
       "layout": "IPY_MODEL_60645cf81d88413b8bb02c9b996dc756",
       "style": "IPY_MODEL_feb2dfd85de84eb2aeb826ad037cffb0",
       "value": "0.037 MB of 0.037 MB uploaded (0.000 MB deduped)\r"
      }
     },
     "b186b32d7f30413ea8744410868048ac": {
      "model_module": "@jupyter-widgets/controls",
      "model_module_version": "2.0.0",
      "model_name": "FloatProgressModel",
      "state": {
       "bar_style": "success",
       "layout": "IPY_MODEL_6cd4bbf3cfd547e99d3dc3b8ccdbfd0e",
       "max": 1106,
       "style": "IPY_MODEL_a9dbf8b498304e92b00a57335fbdefa5",
       "value": 1106
      }
     },
     "b195beb55abe474ca689ff0a7efa6c7a": {
      "model_module": "@jupyter-widgets/controls",
      "model_module_version": "2.0.0",
      "model_name": "HBoxModel",
      "state": {
       "children": [
        "IPY_MODEL_44c5671854fc47759f8a141a9c7cad63",
        "IPY_MODEL_37e154512980417eb0638861b14a5e04",
        "IPY_MODEL_cd95e358ff5a408b9d9c7c1f9d9b93fd"
       ],
       "layout": "IPY_MODEL_92a7447511fd44d0a5ba7e3465c4b9a0"
      }
     },
     "b225442b424047c4902a0fab4be4228c": {
      "model_module": "@jupyter-widgets/base",
      "model_module_version": "2.0.0",
      "model_name": "LayoutModel",
      "state": {}
     },
     "b235e7842fe24067bd87fe33d606e29f": {
      "model_module": "@jupyter-widgets/controls",
      "model_module_version": "2.0.0",
      "model_name": "ProgressStyleModel",
      "state": {
       "description_width": ""
      }
     },
     "b2633682689e490ea89b5a9458046efc": {
      "model_module": "@jupyter-widgets/base",
      "model_module_version": "2.0.0",
      "model_name": "LayoutModel",
      "state": {}
     },
     "b27bf2d970aa4b8c874d31964675aebd": {
      "model_module": "@jupyter-widgets/controls",
      "model_module_version": "2.0.0",
      "model_name": "HBoxModel",
      "state": {
       "children": [
        "IPY_MODEL_0df2cdc0d5024ebb874a229cab51dd85",
        "IPY_MODEL_856e5f18aff1415897d99d470987cfe3",
        "IPY_MODEL_d0911878bebc499bb33f4f5261b865e1"
       ],
       "layout": "IPY_MODEL_1636e318316747a580b61c48a374c394"
      }
     },
     "b27e5f48c9584380a08c2f7763984458": {
      "model_module": "@jupyter-widgets/base",
      "model_module_version": "2.0.0",
      "model_name": "LayoutModel",
      "state": {}
     },
     "b29d38ad6780442d8069e49d1167da07": {
      "model_module": "@jupyter-widgets/base",
      "model_module_version": "2.0.0",
      "model_name": "LayoutModel",
      "state": {}
     },
     "b2b143ff36584fd3ba1b399fbc619d88": {
      "model_module": "@jupyter-widgets/base",
      "model_module_version": "2.0.0",
      "model_name": "LayoutModel",
      "state": {}
     },
     "b2c06a4d54b043899cac96cba4f66be0": {
      "model_module": "@jupyter-widgets/controls",
      "model_module_version": "2.0.0",
      "model_name": "ProgressStyleModel",
      "state": {
       "description_width": ""
      }
     },
     "b2cf97e012af4d2696f6b3c804163cbc": {
      "model_module": "@jupyter-widgets/base",
      "model_module_version": "2.0.0",
      "model_name": "LayoutModel",
      "state": {}
     },
     "b2d19475dd9840f786ace169f4701439": {
      "model_module": "@jupyter-widgets/base",
      "model_module_version": "2.0.0",
      "model_name": "LayoutModel",
      "state": {}
     },
     "b2d29ef5701e412da3bfffb14c65a3ae": {
      "model_module": "@jupyter-widgets/controls",
      "model_module_version": "2.0.0",
      "model_name": "HTMLStyleModel",
      "state": {
       "description_width": "",
       "font_size": null,
       "text_color": null
      }
     },
     "b2d5d6cc3a384bdd9f33168b2170bc2d": {
      "model_module": "@jupyter-widgets/base",
      "model_module_version": "2.0.0",
      "model_name": "LayoutModel",
      "state": {}
     },
     "b2e5454cc3e645b2a692c2b0b8dd6bd8": {
      "model_module": "@jupyter-widgets/base",
      "model_module_version": "2.0.0",
      "model_name": "LayoutModel",
      "state": {}
     },
     "b2edec372c5a455aaf189277bf2f54cc": {
      "model_module": "@jupyter-widgets/controls",
      "model_module_version": "2.0.0",
      "model_name": "FloatProgressModel",
      "state": {
       "bar_style": "success",
       "layout": "IPY_MODEL_66eda182ab1f4f6dad8fb3fa96298ec3",
       "max": 1285,
       "style": "IPY_MODEL_92a771c86df4455482bd5801e3f320c5",
       "value": 1285
      }
     },
     "b2f5d97552f04c9ca9d4e37cafdc605a": {
      "model_module": "@jupyter-widgets/base",
      "model_module_version": "2.0.0",
      "model_name": "LayoutModel",
      "state": {}
     },
     "b302a9401809420285bc8e63c1b07459": {
      "model_module": "@jupyter-widgets/controls",
      "model_module_version": "2.0.0",
      "model_name": "HBoxModel",
      "state": {
       "children": [
        "IPY_MODEL_89581bc0a549404a93216be1392933c6",
        "IPY_MODEL_254a6b0c594e4cf7827aa7d9c420308e",
        "IPY_MODEL_39c80632501f4a24bc8d73482ec6ff3a"
       ],
       "layout": "IPY_MODEL_daa002571af2476c8e4cdc23a4a939f1"
      }
     },
     "b369c21832fa4b779409c76250754b42": {
      "model_module": "@jupyter-widgets/controls",
      "model_module_version": "2.0.0",
      "model_name": "HTMLModel",
      "state": {
       "layout": "IPY_MODEL_b951a7a5e83c4b8f9f2d2772b5b9214a",
       "style": "IPY_MODEL_75214b484c4941b1980a7f0998784de7",
       "value": " 1.74k/1.74k [00:00&lt;00:00, 86.5kB/s]"
      }
     },
     "b3955acb464f48d792d621a762dc3f77": {
      "model_module": "@jupyter-widgets/base",
      "model_module_version": "2.0.0",
      "model_name": "LayoutModel",
      "state": {}
     },
     "b3959dd85b5d49979f23acd06a46dd1c": {
      "model_module": "@jupyter-widgets/controls",
      "model_module_version": "2.0.0",
      "model_name": "HTMLModel",
      "state": {
       "layout": "IPY_MODEL_5331ed0eccfe4a72805af658e112455a",
       "style": "IPY_MODEL_24d5cfddef1c4b5d9dcf1ebe5f4db187",
       "value": "100%"
      }
     },
     "b3ab6e4fa189458c872fb18df9eeaf76": {
      "model_module": "@jupyter-widgets/controls",
      "model_module_version": "2.0.0",
      "model_name": "LabelModel",
      "state": {
       "layout": "IPY_MODEL_216620365c884b2abbcc6f2f7da66323",
       "style": "IPY_MODEL_85656cfac14c434a9495710b4e6bf390",
       "value": "0.016 MB of 0.016 MB uploaded (0.000 MB deduped)\r"
      }
     },
     "b3e0c65204c2469abacae53ce685bae3": {
      "model_module": "@jupyter-widgets/controls",
      "model_module_version": "2.0.0",
      "model_name": "FloatProgressModel",
      "state": {
       "layout": "IPY_MODEL_9e240831fd80417a9f6971a0bebfa6e6",
       "max": 1,
       "style": "IPY_MODEL_4589016dee4c4ce7be129eb5fca4be86"
      }
     },
     "b3e1327326484eee99dd5cc7879ebfeb": {
      "model_module": "@jupyter-widgets/controls",
      "model_module_version": "2.0.0",
      "model_name": "HTMLModel",
      "state": {
       "layout": "IPY_MODEL_5bb67695e00844f5a1c28631cf9f5346",
       "style": "IPY_MODEL_b0a5b261aa1544f4bca39c822b9226f7",
       "value": "Generating test split:  55%"
      }
     },
     "b40840846aad4e58bd5390dd2ab68b98": {
      "model_module": "@jupyter-widgets/base",
      "model_module_version": "2.0.0",
      "model_name": "LayoutModel",
      "state": {}
     },
     "b40d4f69374248d1a1952774e0f30c15": {
      "model_module": "@jupyter-widgets/controls",
      "model_module_version": "2.0.0",
      "model_name": "HTMLModel",
      "state": {
       "layout": "IPY_MODEL_e755cb8c08b44a27a02ce553a760d96c",
       "style": "IPY_MODEL_5863fa503ad64816a2e38484345076c5",
       "value": "apply len_bytes to num_bytes: 100%"
      }
     },
     "b41f7f4962424ceeb13d86ba6d752c9c": {
      "model_module": "@jupyter-widgets/controls",
      "model_module_version": "2.0.0",
      "model_name": "HTMLModel",
      "state": {
       "layout": "IPY_MODEL_13c59daf91b8444f9abee13741506763",
       "style": "IPY_MODEL_dc726d86c29846a0a97b781193c0fbb6",
       "value": "Running Evaluation: 100%"
      }
     },
     "b4556b53bd074c8e8775d97f58aa8137": {
      "model_module": "@jupyter-widgets/base",
      "model_module_version": "2.0.0",
      "model_name": "LayoutModel",
      "state": {}
     },
     "b457689b1f694cd9af5b14da14c9ac0d": {
      "model_module": "@jupyter-widgets/controls",
      "model_module_version": "2.0.0",
      "model_name": "FloatProgressModel",
      "state": {
       "bar_style": "success",
       "layout": "IPY_MODEL_b2e5454cc3e645b2a692c2b0b8dd6bd8",
       "max": 8953,
       "style": "IPY_MODEL_d4f86ef44789427680e9413daef4fa0e",
       "value": 8953
      }
     },
     "b459099da831436d999a155231f1fffb": {
      "model_module": "@jupyter-widgets/controls",
      "model_module_version": "2.0.0",
      "model_name": "ProgressStyleModel",
      "state": {
       "description_width": ""
      }
     },
     "b46dcd83eb604b0d822164003b691b48": {
      "model_module": "@jupyter-widgets/controls",
      "model_module_version": "2.0.0",
      "model_name": "HTMLModel",
      "state": {
       "layout": "IPY_MODEL_48a5ed14694b415997b2ad645af2d076",
       "style": "IPY_MODEL_247d944161c04250ae419f3f3e3e77bc",
       "value": " 227/227 [00:00&lt;00:00, 855.15it/s]"
      }
     },
     "b48a760b43ba4f77b888fe04cb018e9c": {
      "model_module": "@jupyter-widgets/controls",
      "model_module_version": "2.0.0",
      "model_name": "FloatProgressModel",
      "state": {
       "bar_style": "success",
       "layout": "IPY_MODEL_84593f39d4264f3b9202c88b360350bc",
       "max": 228,
       "style": "IPY_MODEL_60e393cf71c6400c8daba4bd481ee8af",
       "value": 228
      }
     },
     "b4b174c63b264cf88f97b9114cd5f60a": {
      "model_module": "@jupyter-widgets/base",
      "model_module_version": "2.0.0",
      "model_name": "LayoutModel",
      "state": {}
     },
     "b4c2eccee86f47b8b8c2a63ca416d20d": {
      "model_module": "@jupyter-widgets/controls",
      "model_module_version": "2.0.0",
      "model_name": "ProgressStyleModel",
      "state": {
       "description_width": ""
      }
     },
     "b4df8eb2ded8433083854a55be1b1fc7": {
      "model_module": "@jupyter-widgets/base",
      "model_module_version": "2.0.0",
      "model_name": "LayoutModel",
      "state": {}
     },
     "b5043fb35ee848489f6de3572e2c024a": {
      "model_module": "@jupyter-widgets/base",
      "model_module_version": "2.0.0",
      "model_name": "LayoutModel",
      "state": {}
     },
     "b51929f207e34bcd8f7f5b675b8ec077": {
      "model_module": "@jupyter-widgets/base",
      "model_module_version": "2.0.0",
      "model_name": "LayoutModel",
      "state": {}
     },
     "b51ae95c4f2a4b00a9eefe07ae19d360": {
      "model_module": "@jupyter-widgets/controls",
      "model_module_version": "2.0.0",
      "model_name": "HTMLStyleModel",
      "state": {
       "description_width": "",
       "font_size": null,
       "text_color": null
      }
     },
     "b53afa46d6814c69b05339e6d31b43b3": {
      "model_module": "@jupyter-widgets/controls",
      "model_module_version": "2.0.0",
      "model_name": "LabelStyleModel",
      "state": {
       "description_width": "",
       "font_family": null,
       "font_size": null,
       "font_style": null,
       "font_variant": null,
       "font_weight": null,
       "text_color": null,
       "text_decoration": null
      }
     },
     "b54a83b79cdb4676b8c992d0f6ceb966": {
      "model_module": "@jupyter-widgets/base",
      "model_module_version": "2.0.0",
      "model_name": "LayoutModel",
      "state": {}
     },
     "b55add5cbb03406998bf8f9667842c0e": {
      "model_module": "@jupyter-widgets/base",
      "model_module_version": "2.0.0",
      "model_name": "LayoutModel",
      "state": {}
     },
     "b598b7d9f4c441e1ac60a5a22fb28476": {
      "model_module": "@jupyter-widgets/controls",
      "model_module_version": "2.0.0",
      "model_name": "ProgressStyleModel",
      "state": {
       "description_width": ""
      }
     },
     "b5caf6b1dc8d453c985b9fc4047bc494": {
      "model_module": "@jupyter-widgets/base",
      "model_module_version": "2.0.0",
      "model_name": "LayoutModel",
      "state": {}
     },
     "b613c1e5a3d0407999f0545a50060e53": {
      "model_module": "@jupyter-widgets/controls",
      "model_module_version": "2.0.0",
      "model_name": "HTMLModel",
      "state": {
       "layout": "IPY_MODEL_b51929f207e34bcd8f7f5b675b8ec077",
       "style": "IPY_MODEL_70d578a760754375a12a19b03d3a2cb4",
       "value": "Generating train split: 100%"
      }
     },
     "b624f212100244e5b2f4448032532e67": {
      "model_module": "@jupyter-widgets/base",
      "model_module_version": "2.0.0",
      "model_name": "LayoutModel",
      "state": {}
     },
     "b654ab4747e84ddb83c40896c4123304": {
      "model_module": "@jupyter-widgets/controls",
      "model_module_version": "2.0.0",
      "model_name": "HTMLStyleModel",
      "state": {
       "description_width": "",
       "font_size": null,
       "text_color": null
      }
     },
     "b655c57b7ad94a09a1be441116ae70e1": {
      "model_module": "@jupyter-widgets/base",
      "model_module_version": "2.0.0",
      "model_name": "LayoutModel",
      "state": {}
     },
     "b6cd2c70775d4a82aeadf74fd42412f6": {
      "model_module": "@jupyter-widgets/controls",
      "model_module_version": "2.0.0",
      "model_name": "HBoxModel",
      "state": {
       "children": [
        "IPY_MODEL_f011aed6361642e893a3c50bfce067aa",
        "IPY_MODEL_2b59f52e33bf466fb53314106f047c7f",
        "IPY_MODEL_dcc8a2a9610448c4a714a32135763417"
       ],
       "layout": "IPY_MODEL_5b731731de5243cfa0f5808f57052408"
      }
     },
     "b6fab21fc53c407cac0fab224d8dee47": {
      "model_module": "@jupyter-widgets/controls",
      "model_module_version": "2.0.0",
      "model_name": "FloatProgressModel",
      "state": {
       "bar_style": "success",
       "layout": "IPY_MODEL_628cafbdbf904b4fb5f0d774cb4b55df",
       "max": 228,
       "style": "IPY_MODEL_30b3e87b099748c8989a7d186d8ff1b0",
       "value": 228
      }
     },
     "b720cbf916354a8f9cb16d02213e25e2": {
      "model_module": "@jupyter-widgets/base",
      "model_module_version": "2.0.0",
      "model_name": "LayoutModel",
      "state": {}
     },
     "b7294ebe70874cdf9f9a5619b4825654": {
      "model_module": "@jupyter-widgets/controls",
      "model_module_version": "2.0.0",
      "model_name": "HTMLStyleModel",
      "state": {
       "description_width": "",
       "font_size": null,
       "text_color": null
      }
     },
     "b73baab9c9fc47ce94a70a004e68f70c": {
      "model_module": "@jupyter-widgets/controls",
      "model_module_version": "2.0.0",
      "model_name": "FloatProgressModel",
      "state": {
       "bar_style": "success",
       "layout": "IPY_MODEL_6cab283799c2428bbf18c49c463df43d",
       "max": 2211,
       "style": "IPY_MODEL_49ea10b6aa2e407194add2f5c7bc698a",
       "value": 2211
      }
     },
     "b742002b171748478b0c578177392aa5": {
      "model_module": "@jupyter-widgets/controls",
      "model_module_version": "2.0.0",
      "model_name": "FloatProgressModel",
      "state": {
       "bar_style": "success",
       "layout": "IPY_MODEL_d7ff71cd78254c87b4a714a726911d0e",
       "max": 8953,
       "style": "IPY_MODEL_1ebd571e108a4fc6aae66429c6874d5b",
       "value": 8953
      }
     },
     "b74f3dc8dbc74a0c9748099a773ab964": {
      "model_module": "@jupyter-widgets/base",
      "model_module_version": "2.0.0",
      "model_name": "LayoutModel",
      "state": {}
     },
     "b75ae3f6a051470093fab1f2373cc2ea": {
      "model_module": "@jupyter-widgets/controls",
      "model_module_version": "2.0.0",
      "model_name": "FloatProgressModel",
      "state": {
       "layout": "IPY_MODEL_8c997aea6bc24795b2b6300537a43794",
       "max": 1,
       "style": "IPY_MODEL_17da018f46df4564943b480f7bf3331d"
      }
     },
     "b774033801c14965a1273bc5f3cb8520": {
      "model_module": "@jupyter-widgets/controls",
      "model_module_version": "2.0.0",
      "model_name": "HTMLStyleModel",
      "state": {
       "description_width": "",
       "font_size": null,
       "text_color": null
      }
     },
     "b77f1ab362c84e4eb5767ab3faebcc05": {
      "model_module": "@jupyter-widgets/controls",
      "model_module_version": "2.0.0",
      "model_name": "HTMLModel",
      "state": {
       "layout": "IPY_MODEL_74a06f770f1e45d58de6ccc22f6289da",
       "style": "IPY_MODEL_38cf8b34fa2d4c3ab759ebdc8f4f17d0",
       "value": "apply len_bytes to num_bytes: 100%"
      }
     },
     "b791ac0c5c5f43b4aa3a3e2aca0964eb": {
      "model_module": "@jupyter-widgets/controls",
      "model_module_version": "2.0.0",
      "model_name": "ProgressStyleModel",
      "state": {
       "description_width": ""
      }
     },
     "b7976120b87f4cbb915a1948631cf408": {
      "model_module": "@jupyter-widgets/base",
      "model_module_version": "2.0.0",
      "model_name": "LayoutModel",
      "state": {}
     },
     "b7e7ee41474f4a88b467d72f88a7738c": {
      "model_module": "@jupyter-widgets/base",
      "model_module_version": "2.0.0",
      "model_name": "LayoutModel",
      "state": {}
     },
     "b80728e14a084531bd5f5e68b924385e": {
      "model_module": "@jupyter-widgets/controls",
      "model_module_version": "2.0.0",
      "model_name": "HTMLStyleModel",
      "state": {
       "description_width": "",
       "font_size": null,
       "text_color": null
      }
     },
     "b81f82c524984ea8a50dae3f03cfd1da": {
      "model_module": "@jupyter-widgets/controls",
      "model_module_version": "2.0.0",
      "model_name": "HBoxModel",
      "state": {
       "children": [
        "IPY_MODEL_c6f862cc23854fc8aa609a11e5634942",
        "IPY_MODEL_35a0d83ea8374407bf5ee8b2e53d6d0f",
        "IPY_MODEL_fd06e2a034f8482dbf444ee4921b1b4b"
       ],
       "layout": "IPY_MODEL_d56a5656679c44cda572aac2634500ea"
      }
     },
     "b85963eac1ed4d63af83a671d5e7a2a9": {
      "model_module": "@jupyter-widgets/controls",
      "model_module_version": "2.0.0",
      "model_name": "LabelStyleModel",
      "state": {
       "description_width": "",
       "font_family": null,
       "font_size": null,
       "font_style": null,
       "font_variant": null,
       "font_weight": null,
       "text_color": null,
       "text_decoration": null
      }
     },
     "b8d62bb67e4748da9f81637693fe2076": {
      "model_module": "@jupyter-widgets/controls",
      "model_module_version": "2.0.0",
      "model_name": "FloatProgressModel",
      "state": {
       "layout": "IPY_MODEL_39fccb90a7d741ec98cac9f9806049ad",
       "max": 1,
       "style": "IPY_MODEL_d39d151a5ebe4d1fb44392933bb94fd1"
      }
     },
     "b919678a7fca4f55b4d0a42799ae4ca0": {
      "model_module": "@jupyter-widgets/base",
      "model_module_version": "2.0.0",
      "model_name": "LayoutModel",
      "state": {}
     },
     "b9298fa18f1146159d8c52ff2c022a6b": {
      "model_module": "@jupyter-widgets/controls",
      "model_module_version": "2.0.0",
      "model_name": "LabelModel",
      "state": {
       "layout": "IPY_MODEL_8c35e0d43b1341b4bb8082a9da6c027b",
       "style": "IPY_MODEL_2b40235e7a4340d7babd6b46f86f4014"
      }
     },
     "b92edb41879445fa96d5441e6667f7af": {
      "model_module": "@jupyter-widgets/base",
      "model_module_version": "2.0.0",
      "model_name": "LayoutModel",
      "state": {}
     },
     "b93976d1f46e41999e720d47644c12b0": {
      "model_module": "@jupyter-widgets/base",
      "model_module_version": "2.0.0",
      "model_name": "LayoutModel",
      "state": {}
     },
     "b951a7a5e83c4b8f9f2d2772b5b9214a": {
      "model_module": "@jupyter-widgets/base",
      "model_module_version": "2.0.0",
      "model_name": "LayoutModel",
      "state": {}
     },
     "b969c3154f0046f2a5a6c0e3aba80a48": {
      "model_module": "@jupyter-widgets/base",
      "model_module_version": "2.0.0",
      "model_name": "LayoutModel",
      "state": {}
     },
     "b971ff25f9354eb49c26460a4dfa34da": {
      "model_module": "@jupyter-widgets/controls",
      "model_module_version": "2.0.0",
      "model_name": "HTMLModel",
      "state": {
       "layout": "IPY_MODEL_540983805a0746b4a1aee109d0cc2a29",
       "style": "IPY_MODEL_3aa97f397b3d432db6773310ba871b7a",
       "value": "apply len_bytes to num_bytes: 100%"
      }
     },
     "b9921c130a2846a99bbe9908332176fb": {
      "model_module": "@jupyter-widgets/controls",
      "model_module_version": "2.0.0",
      "model_name": "HTMLModel",
      "state": {
       "layout": "IPY_MODEL_aebb51e4cb734ca0adc4feced8bdf745",
       "style": "IPY_MODEL_70d6d3d2455b4a289b4c7664895a56a4",
       "value": " 1106/1106 [00:00&lt;00:00, 2271.90it/s]"
      }
     },
     "b9b6660470a8449ba1a8aa04c8a5049f": {
      "model_module": "@jupyter-widgets/base",
      "model_module_version": "2.0.0",
      "model_name": "LayoutModel",
      "state": {}
     },
     "b9c8748a1380402f9dc7f98939c409c5": {
      "model_module": "@jupyter-widgets/base",
      "model_module_version": "2.0.0",
      "model_name": "LayoutModel",
      "state": {}
     },
     "ba14042ab3de4bf6aceb29359568ff0a": {
      "model_module": "@jupyter-widgets/controls",
      "model_module_version": "2.0.0",
      "model_name": "DescriptionStyleModel",
      "state": {
       "description_width": ""
      }
     },
     "ba2422dca7aa478793dae3285eb5064a": {
      "model_module": "@jupyter-widgets/base",
      "model_module_version": "2.0.0",
      "model_name": "LayoutModel",
      "state": {}
     },
     "ba40e365cdb9444792107a5357471a8c": {
      "model_module": "@jupyter-widgets/base",
      "model_module_version": "2.0.0",
      "model_name": "LayoutModel",
      "state": {}
     },
     "ba4c455a9a7f4bed9b6a3986d758e6da": {
      "model_module": "@jupyter-widgets/controls",
      "model_module_version": "2.0.0",
      "model_name": "HTMLModel",
      "state": {
       "layout": "IPY_MODEL_6b04a12da28e4f6692d8313d9691b517",
       "style": "IPY_MODEL_e3dd2c7dbbf540a09503b4be0f0cde14",
       "value": " 2211/2211 [00:01&lt;00:00, 2134.34it/s]"
      }
     },
     "ba5e7a3f51664831b5a2ff1d148a48f7": {
      "model_module": "@jupyter-widgets/base",
      "model_module_version": "2.0.0",
      "model_name": "LayoutModel",
      "state": {}
     },
     "bacdfe1a54bf4606bfd16ca57e5d967a": {
      "model_module": "@jupyter-widgets/controls",
      "model_module_version": "2.0.0",
      "model_name": "HBoxModel",
      "state": {
       "children": [
        "IPY_MODEL_5205edf383414e39833917e317c6dcbf",
        "IPY_MODEL_b07148238da6473cbed66f489f965e04",
        "IPY_MODEL_39b6185544444a77981724a6d320903c"
       ],
       "layout": "IPY_MODEL_d1931faf76ca49fab1a7e2074ccc1c7c"
      }
     },
     "bad097795e574394a86d93253c5a6ce1": {
      "model_module": "@jupyter-widgets/base",
      "model_module_version": "2.0.0",
      "model_name": "LayoutModel",
      "state": {}
     },
     "bae7376a0e164dbabaf45f92c9ad5476": {
      "model_module": "@jupyter-widgets/controls",
      "model_module_version": "2.0.0",
      "model_name": "HTMLStyleModel",
      "state": {
       "description_width": "",
       "font_size": null,
       "text_color": null
      }
     },
     "bb5a3e2da58d4136b60dd9791cf0b3ab": {
      "model_module": "@jupyter-widgets/base",
      "model_module_version": "2.0.0",
      "model_name": "LayoutModel",
      "state": {}
     },
     "bb6314452e7a4e0ebc67b7bff8496f76": {
      "model_module": "@jupyter-widgets/base",
      "model_module_version": "2.0.0",
      "model_name": "LayoutModel",
      "state": {}
     },
     "bb94186ad1984d0fba95f0b20710ee6f": {
      "model_module": "@jupyter-widgets/controls",
      "model_module_version": "2.0.0",
      "model_name": "HTMLModel",
      "state": {
       "layout": "IPY_MODEL_451fd93d89bf4c6b8161bcc9d7cb5e37",
       "style": "IPY_MODEL_f8ffac9d8b7246c495f3ad0d52911b94",
       "value": "100%"
      }
     },
     "bb94dcec7de84e3aa53a48efa82fead4": {
      "model_module": "@jupyter-widgets/controls",
      "model_module_version": "2.0.0",
      "model_name": "HBoxModel",
      "state": {
       "children": [
        "IPY_MODEL_db23b45a4dc74efd8541d5bbeed9d8c6",
        "IPY_MODEL_50e81a0087e045beb39fbb3e19af43cc",
        "IPY_MODEL_6e55b72e4be0470a995eb8bba90a726c"
       ],
       "layout": "IPY_MODEL_afeeb1a389db40d4bce3eae4f94577e5"
      }
     },
     "bb9c6e3ba15c4b179653fc16896f5b89": {
      "model_module": "@jupyter-widgets/base",
      "model_module_version": "2.0.0",
      "model_name": "LayoutModel",
      "state": {}
     },
     "bc347525d6c34fa6968e63a320d1f258": {
      "model_module": "@jupyter-widgets/controls",
      "model_module_version": "2.0.0",
      "model_name": "FloatProgressModel",
      "state": {
       "layout": "IPY_MODEL_b0ec9968d15944939d619c317ba07963",
       "max": 1,
       "style": "IPY_MODEL_7e5555459b144e8eb35590d4cdaecd20",
       "value": 1
      }
     },
     "bc3ed2a4339240e68d400e3f4fb2fbf6": {
      "model_module": "@jupyter-widgets/base",
      "model_module_version": "2.0.0",
      "model_name": "LayoutModel",
      "state": {}
     },
     "bc5a3f654a6c4226848ca94bdc9ece6e": {
      "model_module": "@jupyter-widgets/controls",
      "model_module_version": "2.0.0",
      "model_name": "HTMLModel",
      "state": {
       "layout": "IPY_MODEL_b2d19475dd9840f786ace169f4701439",
       "style": "IPY_MODEL_2680d50d9bf0482fb7b629c083ce2bb5",
       "value": " 1158/1158 [00:04&lt;00:00, 247.84it/s]"
      }
     },
     "bc83870f82e141a5a1eb1d81d8fe417d": {
      "model_module": "@jupyter-widgets/controls",
      "model_module_version": "2.0.0",
      "model_name": "HTMLStyleModel",
      "state": {
       "description_width": "",
       "font_size": null,
       "text_color": null
      }
     },
     "bca95a7703fa4580924df3f2415be5e2": {
      "model_module": "@jupyter-widgets/controls",
      "model_module_version": "2.0.0",
      "model_name": "HTMLStyleModel",
      "state": {
       "description_width": "",
       "font_size": null,
       "text_color": null
      }
     },
     "bcdf23e77b854329a9f04992c97483c2": {
      "model_module": "@jupyter-widgets/controls",
      "model_module_version": "2.0.0",
      "model_name": "HTMLStyleModel",
      "state": {
       "description_width": "",
       "font_size": null,
       "text_color": null
      }
     },
     "bcf26dd49f404d3a87b90f8b0085ff58": {
      "model_module": "@jupyter-widgets/controls",
      "model_module_version": "2.0.0",
      "model_name": "ProgressStyleModel",
      "state": {
       "description_width": ""
      }
     },
     "bd06f3ed4dd04e53bca8ce817b1d207a": {
      "model_module": "@jupyter-widgets/controls",
      "model_module_version": "2.0.0",
      "model_name": "LabelModel",
      "state": {
       "layout": "IPY_MODEL_b9b6660470a8449ba1a8aa04c8a5049f",
       "style": "IPY_MODEL_b53afa46d6814c69b05339e6d31b43b3",
       "value": "0.016 MB of 0.016 MB uploaded (0.000 MB deduped)\r"
      }
     },
     "bd0f8497cdc743c89137bfd4d4735c6b": {
      "model_module": "@jupyter-widgets/controls",
      "model_module_version": "2.0.0",
      "model_name": "FloatProgressModel",
      "state": {
       "bar_style": "success",
       "layout": "IPY_MODEL_26a5e232776d45e5a17e93559071d3ab",
       "max": 72,
       "style": "IPY_MODEL_ea49820dfde14d6cb271d44411a64cee",
       "value": 72
      }
     },
     "bd179908813841788c6108c9904cc61b": {
      "model_module": "@jupyter-widgets/base",
      "model_module_version": "2.0.0",
      "model_name": "LayoutModel",
      "state": {}
     },
     "bd4112dad4de4b569761677b45bc440e": {
      "model_module": "@jupyter-widgets/controls",
      "model_module_version": "2.0.0",
      "model_name": "ProgressStyleModel",
      "state": {
       "description_width": ""
      }
     },
     "bd5c3b39e7014aadb39bea905c0c46b9": {
      "model_module": "@jupyter-widgets/controls",
      "model_module_version": "2.0.0",
      "model_name": "ProgressStyleModel",
      "state": {
       "description_width": ""
      }
     },
     "bd6563f059b541658b2a6b2f7ec2dc02": {
      "model_module": "@jupyter-widgets/base",
      "model_module_version": "2.0.0",
      "model_name": "LayoutModel",
      "state": {}
     },
     "bd6876e5501c4d70a00208e06b60e8b3": {
      "model_module": "@jupyter-widgets/base",
      "model_module_version": "2.0.0",
      "model_name": "LayoutModel",
      "state": {}
     },
     "bd861c74fadd43a0b03798a51c7ec8e0": {
      "model_module": "@jupyter-widgets/base",
      "model_module_version": "2.0.0",
      "model_name": "LayoutModel",
      "state": {}
     },
     "bd86c9bab6a44a748066c63eeeff9c73": {
      "model_module": "@jupyter-widgets/controls",
      "model_module_version": "2.0.0",
      "model_name": "ProgressStyleModel",
      "state": {
       "description_width": ""
      }
     },
     "bda3c62ee72848869e719fc696163579": {
      "model_module": "@jupyter-widgets/controls",
      "model_module_version": "2.0.0",
      "model_name": "HBoxModel",
      "state": {
       "children": [
        "IPY_MODEL_5c6f72ae61d44a16ac6e8c4cf0addc45",
        "IPY_MODEL_6b2398b4c7064f69b0b8fc717f5b2429",
        "IPY_MODEL_8f48b9f2208e4de6a4a27baa4216018d"
       ],
       "layout": "IPY_MODEL_90a4837973e0449bbe709111101fd361"
      }
     },
     "bdf905b60c15468f9a5e91eb9666de41": {
      "model_module": "@jupyter-widgets/controls",
      "model_module_version": "2.0.0",
      "model_name": "HTMLStyleModel",
      "state": {
       "description_width": "",
       "font_size": null,
       "text_color": null
      }
     },
     "be0656d731ee43caabb66c90f124c6c2": {
      "model_module": "@jupyter-widgets/base",
      "model_module_version": "2.0.0",
      "model_name": "LayoutModel",
      "state": {}
     },
     "be15dbf1d6404c8b94cf3169238c142c": {
      "model_module": "@jupyter-widgets/controls",
      "model_module_version": "2.0.0",
      "model_name": "HTMLStyleModel",
      "state": {
       "description_width": "",
       "font_size": null,
       "text_color": null
      }
     },
     "be1af2a6596d4e78bb8e1c58876b4c21": {
      "model_module": "@jupyter-widgets/base",
      "model_module_version": "2.0.0",
      "model_name": "LayoutModel",
      "state": {}
     },
     "be51ae9b579747b3af38d3917a0dfb5d": {
      "model_module": "@jupyter-widgets/controls",
      "model_module_version": "2.0.0",
      "model_name": "HTMLModel",
      "state": {
       "layout": "IPY_MODEL_fd1542a25b224e5b9c733d7be9f6176a",
       "style": "IPY_MODEL_b51ae95c4f2a4b00a9eefe07ae19d360",
       "value": " 2/2 [00:00&lt;00:00, 114.52it/s]"
      }
     },
     "be6d2dff93e544cc83a97b76c796f88b": {
      "model_module": "@jupyter-widgets/controls",
      "model_module_version": "2.0.0",
      "model_name": "HTMLModel",
      "state": {
       "layout": "IPY_MODEL_b4df8eb2ded8433083854a55be1b1fc7",
       "style": "IPY_MODEL_41b9cdf9640945d8b06148d9c871a7ad",
       "value": "100%"
      }
     },
     "beb59ee19aea454baa2a0c37539341eb": {
      "model_module": "@jupyter-widgets/controls",
      "model_module_version": "2.0.0",
      "model_name": "ProgressStyleModel",
      "state": {
       "description_width": ""
      }
     },
     "bf162de433f6490988e43f89bea3e20f": {
      "model_module": "@jupyter-widgets/base",
      "model_module_version": "2.0.0",
      "model_name": "LayoutModel",
      "state": {}
     },
     "bf6d1f6c14624e108f34a6188d66cdb0": {
      "model_module": "@jupyter-widgets/base",
      "model_module_version": "2.0.0",
      "model_name": "LayoutModel",
      "state": {}
     },
     "bf7503ee12ef4f8b98a2431d9e11d0db": {
      "model_module": "@jupyter-widgets/controls",
      "model_module_version": "2.0.0",
      "model_name": "HBoxModel",
      "state": {
       "children": [
        "IPY_MODEL_f5f789791fbd4a929df11787a7037546",
        "IPY_MODEL_fa34a59fa3c742b2ac4a61df0acd3729",
        "IPY_MODEL_3321063cc2e2408e95fdfa335c6706c7"
       ],
       "layout": "IPY_MODEL_bd861c74fadd43a0b03798a51c7ec8e0"
      }
     },
     "bf80164aac104b1c8197ef07a4261b3e": {
      "model_module": "@jupyter-widgets/controls",
      "model_module_version": "2.0.0",
      "model_name": "HBoxModel",
      "state": {
       "children": [
        "IPY_MODEL_b3959dd85b5d49979f23acd06a46dd1c",
        "IPY_MODEL_51c841e6c0a041868d95a1f2867270fb",
        "IPY_MODEL_7fbe2a0a23d242fbb81f114f10640424"
       ],
       "layout": "IPY_MODEL_3c046af0316e46448d613c423773f111"
      }
     },
     "bfa1e4301fbd402b9e6e3547d3a85ee0": {
      "model_module": "@jupyter-widgets/controls",
      "model_module_version": "2.0.0",
      "model_name": "FloatProgressModel",
      "state": {
       "layout": "IPY_MODEL_44cb4e10a7754038b00e19727838ca11",
       "max": 1,
       "style": "IPY_MODEL_bd86c9bab6a44a748066c63eeeff9c73",
       "value": 1
      }
     },
     "bfc9c2ef7e87430f9f9799f9d009d0de": {
      "model_module": "@jupyter-widgets/base",
      "model_module_version": "2.0.0",
      "model_name": "LayoutModel",
      "state": {}
     },
     "bff09813f27445e089a710dbea9ae55f": {
      "model_module": "@jupyter-widgets/controls",
      "model_module_version": "2.0.0",
      "model_name": "HTMLModel",
      "state": {
       "layout": "IPY_MODEL_8d5545f8c2714a929332051937c77132",
       "style": "IPY_MODEL_cf2b3b3ec8ba4db283fd62c37f7c5765",
       "value": "100%"
      }
     },
     "bffe43cc084f46beb125d0f84bdb89eb": {
      "model_module": "@jupyter-widgets/base",
      "model_module_version": "2.0.0",
      "model_name": "LayoutModel",
      "state": {}
     },
     "c0088d0a9b874647958989d630a87a4b": {
      "model_module": "@jupyter-widgets/controls",
      "model_module_version": "2.0.0",
      "model_name": "HTMLModel",
      "state": {
       "layout": "IPY_MODEL_26397ce1db9f46b3a7f53ec8add4992f",
       "style": "IPY_MODEL_8e863cb1b9fd47f7b467720af700e2e8",
       "value": " 199/199 [00:00&lt;00:00, 975.63it/s]"
      }
     },
     "c027d166d7684b0ebb0feb4f2d217318": {
      "model_module": "@jupyter-widgets/controls",
      "model_module_version": "2.0.0",
      "model_name": "LabelModel",
      "state": {
       "layout": "IPY_MODEL_a1743c80c94f4935a28e4f76499d5370",
       "style": "IPY_MODEL_9fe66c270baa477e9b460fa4cf521725"
      }
     },
     "c069aa79a1c6414e9ec03524f5b7f391": {
      "model_module": "@jupyter-widgets/base",
      "model_module_version": "2.0.0",
      "model_name": "LayoutModel",
      "state": {}
     },
     "c09e34fa56f84f0087098e82ff0ea381": {
      "model_module": "@jupyter-widgets/controls",
      "model_module_version": "2.0.0",
      "model_name": "FloatProgressModel",
      "state": {
       "bar_style": "success",
       "layout": "IPY_MODEL_ab51c5322562400981af42ce342ee8ae",
       "max": 8953,
       "style": "IPY_MODEL_53f950b2b4df44d99246788f40c9d0d2",
       "value": 8953
      }
     },
     "c0e7d5782ac14320bade0b9803d9a38a": {
      "model_module": "@jupyter-widgets/controls",
      "model_module_version": "2.0.0",
      "model_name": "VBoxModel",
      "state": {
       "children": [
        "IPY_MODEL_4364c7cf9c894b44bd4a0a0ad93e913e",
        "IPY_MODEL_9d7ea51a851b4f5993b88c9e8a7c616c"
       ],
       "layout": "IPY_MODEL_ec1a249b88bd4fa3a887355a785c09e7"
      }
     },
     "c145f4fc6c074d8b9d45912eb9ccbbe9": {
      "model_module": "@jupyter-widgets/controls",
      "model_module_version": "2.0.0",
      "model_name": "HTMLModel",
      "state": {
       "layout": "IPY_MODEL_28c698f9045a4b95ac452a57c8fb8b92",
       "style": "IPY_MODEL_0e4ae05ead6e41e5b23b0c22e5dcde25",
       "value": " 227/227 [00:00&lt;00:00, 998.55it/s]"
      }
     },
     "c15da4cb6fa14c8ea7fba1e576624af6": {
      "model_module": "@jupyter-widgets/controls",
      "model_module_version": "2.0.0",
      "model_name": "HBoxModel",
      "state": {
       "children": [
        "IPY_MODEL_012dfa070f184394ae534aa36ed6162a",
        "IPY_MODEL_79349d0b5791441b85ace714b0d66dfb",
        "IPY_MODEL_74c847ba7ff6463a828479e6a39807c7"
       ],
       "layout": "IPY_MODEL_dc512e576f564b81b797f7651a14cc73"
      }
     },
     "c161ef06af574deea230e60de765957a": {
      "model_module": "@jupyter-widgets/controls",
      "model_module_version": "2.0.0",
      "model_name": "FloatProgressModel",
      "state": {
       "layout": "IPY_MODEL_0d0f228144c043daac2779e2b0f255f3",
       "max": 230,
       "style": "IPY_MODEL_408c4341242e4893b36550a6d2479691"
      }
     },
     "c197cdd4288949eca9b8d6eef2c7484e": {
      "model_module": "@jupyter-widgets/base",
      "model_module_version": "2.0.0",
      "model_name": "LayoutModel",
      "state": {}
     },
     "c19e1caf607840c392adc46c645f0455": {
      "model_module": "@jupyter-widgets/controls",
      "model_module_version": "2.0.0",
      "model_name": "HBoxModel",
      "state": {
       "children": [
        "IPY_MODEL_f97514514f8c4382a5cda9962224e228",
        "IPY_MODEL_3a9488fcc00443768b832c3cef10885d",
        "IPY_MODEL_3637c70d6ed244c78474871148ef5ea5"
       ],
       "layout": "IPY_MODEL_5422b9418b324609b13423c1027fc0df"
      }
     },
     "c2608c0f325948ad8d22806451e11e3c": {
      "model_module": "@jupyter-widgets/controls",
      "model_module_version": "2.0.0",
      "model_name": "HTMLStyleModel",
      "state": {
       "description_width": "",
       "font_size": null,
       "text_color": null
      }
     },
     "c28dbeeb79ac4ff8b302d54bf61e0749": {
      "model_module": "@jupyter-widgets/controls",
      "model_module_version": "2.0.0",
      "model_name": "HBoxModel",
      "state": {
       "children": [
        "IPY_MODEL_6a76bc95192941c68134cd419c27ffb0",
        "IPY_MODEL_a6130d96463d4fb0b76cfa65aa18743d",
        "IPY_MODEL_3d76f892fc9645ce8f04857c090c76dc"
       ],
       "layout": "IPY_MODEL_d40328d3149f4633af0900efccbd4ede"
      }
     },
     "c2a56e9accad4c27b6e7eb6ac34f84a9": {
      "model_module": "@jupyter-widgets/controls",
      "model_module_version": "2.0.0",
      "model_name": "HTMLStyleModel",
      "state": {
       "description_width": "",
       "font_size": null,
       "text_color": null
      }
     },
     "c2af3a66edd448a4adef2f7c63d7ca55": {
      "model_module": "@jupyter-widgets/controls",
      "model_module_version": "2.0.0",
      "model_name": "HBoxModel",
      "state": {
       "children": [
        "IPY_MODEL_5aa86855996e415fadd332a953851082",
        "IPY_MODEL_847bf54be26c4593af1aeb41d1c1a95a",
        "IPY_MODEL_e253a1080a72409eb11bc9d7977b0092"
       ],
       "layout": "IPY_MODEL_80416a0cfa194795a134183f07342aeb"
      }
     },
     "c394a6a35c07414a9e120e9e893217f0": {
      "model_module": "@jupyter-widgets/base",
      "model_module_version": "2.0.0",
      "model_name": "LayoutModel",
      "state": {}
     },
     "c3c56811050b465ba7bdb2384bb230ee": {
      "model_module": "@jupyter-widgets/controls",
      "model_module_version": "2.0.0",
      "model_name": "VBoxModel",
      "state": {
       "children": [
        "IPY_MODEL_053f4dd3c7bb46c2ad6b2b74b6b127a0",
        "IPY_MODEL_532e5115a6a041a591382ee53aa586b7"
       ],
       "layout": "IPY_MODEL_d8d3328617f9402eb5484580d7894432"
      }
     },
     "c3f8550b1a3247e7ac71432aff1a6c31": {
      "model_module": "@jupyter-widgets/controls",
      "model_module_version": "2.0.0",
      "model_name": "FloatProgressModel",
      "state": {
       "bar_style": "success",
       "layout": "IPY_MODEL_b058a40efd9048afad40ea5dd69fdb07",
       "max": 289,
       "style": "IPY_MODEL_bd5c3b39e7014aadb39bea905c0c46b9",
       "value": 289
      }
     },
     "c413c4d99bdf4fae8484ef90d244ab18": {
      "model_module": "@jupyter-widgets/controls",
      "model_module_version": "2.0.0",
      "model_name": "HTMLModel",
      "state": {
       "layout": "IPY_MODEL_56c08752582d4a82a856890a8d1f5aac",
       "style": "IPY_MODEL_3705daf21a5a4adfb326d4b22e04aebd",
       "value": "Epochs 1/2. Running Loss:    1.3141: 100%"
      }
     },
     "c4257ec0bb184631a5e61ea20bfd42c4": {
      "model_module": "@jupyter-widgets/controls",
      "model_module_version": "2.0.0",
      "model_name": "HBoxModel",
      "state": {
       "children": [
        "IPY_MODEL_5464f0806f174ae3be2c1c795c8e16a2",
        "IPY_MODEL_42d19e39bef24f908f5e876011000b0a",
        "IPY_MODEL_be51ae9b579747b3af38d3917a0dfb5d"
       ],
       "layout": "IPY_MODEL_dda47d2315f1455bafdd1d1133358fe1"
      }
     },
     "c4403ea1f52a4f73b41a30d591e980ac": {
      "model_module": "@jupyter-widgets/controls",
      "model_module_version": "2.0.0",
      "model_name": "FloatProgressModel",
      "state": {
       "bar_style": "success",
       "layout": "IPY_MODEL_0bb26117a19f46fbbe952878c2f963c2",
       "max": 227,
       "style": "IPY_MODEL_7114e2fe188e4f039aba3c8ecd7fa256",
       "value": 227
      }
     },
     "c44d4ee022984392b08aaccd6a2acfb4": {
      "model_module": "@jupyter-widgets/controls",
      "model_module_version": "2.0.0",
      "model_name": "HTMLStyleModel",
      "state": {
       "description_width": "",
       "font_size": null,
       "text_color": null
      }
     },
     "c4644a1626714d718f9af97eff1d56a9": {
      "model_module": "@jupyter-widgets/controls",
      "model_module_version": "2.0.0",
      "model_name": "HTMLModel",
      "state": {
       "layout": "IPY_MODEL_400c48922cff400eaf881ea8253d82de",
       "style": "IPY_MODEL_75b1c64ac90d420faaa68def2c059333",
       "value": "100%"
      }
     },
     "c4691c80f25d4c3999430d5a0a9f54b0": {
      "model_module": "@jupyter-widgets/controls",
      "model_module_version": "2.0.0",
      "model_name": "FloatProgressModel",
      "state": {
       "bar_style": "success",
       "layout": "IPY_MODEL_f304f62b66c741baae9075c4de63659e",
       "max": 72,
       "style": "IPY_MODEL_e5618085419d414ba1ac5e3d2ed4a4a4",
       "value": 72
      }
     },
     "c4a556962254416c91aaaecc83145296": {
      "model_module": "@jupyter-widgets/base",
      "model_module_version": "2.0.0",
      "model_name": "LayoutModel",
      "state": {}
     },
     "c4e2dac70fab47a9943e2420fdb3bf48": {
      "model_module": "@jupyter-widgets/controls",
      "model_module_version": "2.0.0",
      "model_name": "HTMLModel",
      "state": {
       "layout": "IPY_MODEL_1b98690d09f14c4f8ccd6af8ab6f6041",
       "style": "IPY_MODEL_c5236c62fe364396bb1cd65fea96aeb8",
       "value": " 7074/7074 [00:03&lt;00:00, 2300.39it/s]"
      }
     },
     "c4ef4de893e243e8a431ee0f7cb579cc": {
      "model_module": "@jupyter-widgets/base",
      "model_module_version": "2.0.0",
      "model_name": "LayoutModel",
      "state": {}
     },
     "c5236c62fe364396bb1cd65fea96aeb8": {
      "model_module": "@jupyter-widgets/controls",
      "model_module_version": "2.0.0",
      "model_name": "HTMLStyleModel",
      "state": {
       "description_width": "",
       "font_size": null,
       "text_color": null
      }
     },
     "c5b3abfef531488f8219a3e3c3c68c3d": {
      "model_module": "@jupyter-widgets/controls",
      "model_module_version": "2.0.0",
      "model_name": "HTMLStyleModel",
      "state": {
       "description_width": "",
       "font_size": null,
       "text_color": null
      }
     },
     "c5dd99c101054ceaaf1a49f570a5eb72": {
      "model_module": "@jupyter-widgets/controls",
      "model_module_version": "2.0.0",
      "model_name": "HTMLModel",
      "state": {
       "layout": "IPY_MODEL_311d78761ec2458bb35384045a47037d",
       "style": "IPY_MODEL_66839296f55e46448773ed6d4bcb456a",
       "value": " 71/71 [00:02&lt;00:00, 29.70it/s]"
      }
     },
     "c5f4bc4c694c40bc941d167675b7e687": {
      "model_module": "@jupyter-widgets/controls",
      "model_module_version": "2.0.0",
      "model_name": "HBoxModel",
      "state": {
       "children": [
        "IPY_MODEL_91e05962dd9a4509955778d75385947c",
        "IPY_MODEL_63dffb9eef5d4c4f84a86fb3af099cbc",
        "IPY_MODEL_bc5a3f654a6c4226848ca94bdc9ece6e"
       ],
       "layout": "IPY_MODEL_465327e7b06a4146b8e3e7a1752144d1"
      }
     },
     "c6068e5cbec741ba8f9aeee40b8e709d": {
      "model_module": "@jupyter-widgets/controls",
      "model_module_version": "2.0.0",
      "model_name": "HTMLStyleModel",
      "state": {
       "description_width": "",
       "font_size": null,
       "text_color": null
      }
     },
     "c619a9ab6e49433a9550ed2aee815aa1": {
      "model_module": "@jupyter-widgets/controls",
      "model_module_version": "2.0.0",
      "model_name": "HBoxModel",
      "state": {
       "children": [
        "IPY_MODEL_2c8624de880a4139b3bd824d778971b5",
        "IPY_MODEL_6e3ccb7d83be4d7aaad4e759e4784f04",
        "IPY_MODEL_7e46ae14112d477e9f9037afaa482175"
       ],
       "layout": "IPY_MODEL_e6c5b97083774ce18aeee9c142452177"
      }
     },
     "c64c38e0c74e41df861879cd08795c5b": {
      "model_module": "@jupyter-widgets/base",
      "model_module_version": "2.0.0",
      "model_name": "LayoutModel",
      "state": {}
     },
     "c65b685f81fb44d5a1cd8af9105d3194": {
      "model_module": "@jupyter-widgets/controls",
      "model_module_version": "2.0.0",
      "model_name": "ProgressStyleModel",
      "state": {
       "description_width": ""
      }
     },
     "c66daa8ac8ab4d9e8210d5da65393643": {
      "model_module": "@jupyter-widgets/base",
      "model_module_version": "2.0.0",
      "model_name": "LayoutModel",
      "state": {}
     },
     "c6858f3fef194e20b2ac14074b18b887": {
      "model_module": "@jupyter-widgets/controls",
      "model_module_version": "2.0.0",
      "model_name": "LabelStyleModel",
      "state": {
       "description_width": "",
       "font_family": null,
       "font_size": null,
       "font_style": null,
       "font_variant": null,
       "font_weight": null,
       "text_color": null,
       "text_decoration": null
      }
     },
     "c6d92c0bb4114b00af9e8351bc373078": {
      "model_module": "@jupyter-widgets/base",
      "model_module_version": "2.0.0",
      "model_name": "LayoutModel",
      "state": {}
     },
     "c6dcd5db17a049de82f942aead8341f6": {
      "model_module": "@jupyter-widgets/base",
      "model_module_version": "2.0.0",
      "model_name": "LayoutModel",
      "state": {}
     },
     "c6f862cc23854fc8aa609a11e5634942": {
      "model_module": "@jupyter-widgets/controls",
      "model_module_version": "2.0.0",
      "model_name": "HTMLModel",
      "state": {
       "layout": "IPY_MODEL_05a09783ad96498e94c8b0a4a5436e42",
       "style": "IPY_MODEL_e4a5e9c47bd446e995612adde2a38759",
       "value": "Epochs 0/2. Running Loss:    0.6071: 100%"
      }
     },
     "c700e1bfd49d43578979f10e44ca74f2": {
      "model_module": "@jupyter-widgets/controls",
      "model_module_version": "2.0.0",
      "model_name": "HBoxModel",
      "state": {
       "children": [
        "IPY_MODEL_d010ce8c77aa4c41bd82f7d8bb188643",
        "IPY_MODEL_872bb33b86e445f59649610978fc2485",
        "IPY_MODEL_4c25bc9497714dec910955d4075d830b"
       ],
       "layout": "IPY_MODEL_b4b174c63b264cf88f97b9114cd5f60a"
      }
     },
     "c71023ded1644c9b9578831e1e93a098": {
      "model_module": "@jupyter-widgets/base",
      "model_module_version": "2.0.0",
      "model_name": "LayoutModel",
      "state": {}
     },
     "c7358666ac334627b20dd9eeb5a5e0f2": {
      "model_module": "@jupyter-widgets/controls",
      "model_module_version": "2.0.0",
      "model_name": "HTMLModel",
      "state": {
       "layout": "IPY_MODEL_d7f4cf44c46d45deabebceff3db6f8c7",
       "style": "IPY_MODEL_a168c1e1f1964d9cb481d3faf6b38ace",
       "value": " 222/222 [00:00&lt;00:00, 499.04it/s]"
      }
     },
     "c76f6517c7d24f8fbc68059839cc1e5d": {
      "model_module": "@jupyter-widgets/controls",
      "model_module_version": "2.0.0",
      "model_name": "HTMLModel",
      "state": {
       "layout": "IPY_MODEL_f08eaab658284f87923e1df0b6af876f",
       "style": "IPY_MODEL_fcc91cd0a8ef496fad6bed5b9f9548cb",
       "value": "Running Evaluation: 100%"
      }
     },
     "c790df8a3875423883863f5e4b9fe6d4": {
      "model_module": "@jupyter-widgets/controls",
      "model_module_version": "2.0.0",
      "model_name": "LabelStyleModel",
      "state": {
       "description_width": "",
       "font_family": null,
       "font_size": null,
       "font_style": null,
       "font_variant": null,
       "font_weight": null,
       "text_color": null,
       "text_decoration": null
      }
     },
     "c82d9f5df7534789b20e9e25556c9ba2": {
      "model_module": "@jupyter-widgets/controls",
      "model_module_version": "2.0.0",
      "model_name": "HTMLModel",
      "state": {
       "layout": "IPY_MODEL_4e3a031290e9458f9b695f614f2eac4e",
       "style": "IPY_MODEL_0c9128b244fd4778a286a455de03d146"
      }
     },
     "c82f3eb9ce5f4384ab1f72a0b2ded31c": {
      "model_module": "@jupyter-widgets/base",
      "model_module_version": "2.0.0",
      "model_name": "LayoutModel",
      "state": {}
     },
     "c8549098dcf64a9caf4221a98d11409f": {
      "model_module": "@jupyter-widgets/controls",
      "model_module_version": "2.0.0",
      "model_name": "HTMLModel",
      "state": {
       "layout": "IPY_MODEL_2be53b0c09f149aea6fcd156d6ec3e94",
       "style": "IPY_MODEL_8c285f8ee3e24e1a99e749c353bb922a",
       "value": "apply len_bytes to num_bytes: 100%"
      }
     },
     "c86cf902d6cc4e47a082229e9495b093": {
      "model_module": "@jupyter-widgets/base",
      "model_module_version": "2.0.0",
      "model_name": "LayoutModel",
      "state": {}
     },
     "c88091c8ddb54b898192001f54a98af8": {
      "model_module": "@jupyter-widgets/controls",
      "model_module_version": "2.0.0",
      "model_name": "HBoxModel",
      "state": {
       "children": [
        "IPY_MODEL_c921281df5ac4da797da65271ff2469c",
        "IPY_MODEL_91cafbfd1edb4709a77064fa5f5e419f",
        "IPY_MODEL_8952ad492e2e441a9337b25c09434896"
       ],
       "layout": "IPY_MODEL_5bd5ceaaeaad43fa8d867b87cb719320"
      }
     },
     "c8aef438ca424328875ea5a7a160e46d": {
      "model_module": "@jupyter-widgets/controls",
      "model_module_version": "2.0.0",
      "model_name": "HTMLModel",
      "state": {
       "layout": "IPY_MODEL_da45e4b40afd4e3cafb5b2dd8f5f1f82",
       "style": "IPY_MODEL_7c61f34e275144a8bb1c3888a6fde669",
       "value": "Running Evaluation: 100%"
      }
     },
     "c8b70245064c4d6ba69ed2c62e5b42b8": {
      "model_module": "@jupyter-widgets/controls",
      "model_module_version": "2.0.0",
      "model_name": "FloatProgressModel",
      "state": {
       "bar_style": "success",
       "layout": "IPY_MODEL_3f9728101cdc47fcb70959a566643c9e",
       "max": 59,
       "style": "IPY_MODEL_44d31c080da24552818cec412fcba290",
       "value": 59
      }
     },
     "c8e7c2545b104d5d82adcc7096fad668": {
      "model_module": "@jupyter-widgets/base",
      "model_module_version": "2.0.0",
      "model_name": "LayoutModel",
      "state": {}
     },
     "c8e7ff2f97184c61ad898489bdb71a36": {
      "model_module": "@jupyter-widgets/base",
      "model_module_version": "2.0.0",
      "model_name": "LayoutModel",
      "state": {}
     },
     "c8f55a4266264684a42e6ecef507cfcc": {
      "model_module": "@jupyter-widgets/controls",
      "model_module_version": "2.0.0",
      "model_name": "ProgressStyleModel",
      "state": {
       "description_width": ""
      }
     },
     "c921281df5ac4da797da65271ff2469c": {
      "model_module": "@jupyter-widgets/controls",
      "model_module_version": "2.0.0",
      "model_name": "HTMLModel",
      "state": {
       "layout": "IPY_MODEL_ecca0fa8fdb1405291c30a8857774f9d",
       "style": "IPY_MODEL_05234fe1feab47f6beb0c1e733d53ce0",
       "value": "100%"
      }
     },
     "c93c382f216e495fb46f7919725065d0": {
      "model_module": "@jupyter-widgets/controls",
      "model_module_version": "2.0.0",
      "model_name": "HTMLStyleModel",
      "state": {
       "description_width": "",
       "font_size": null,
       "text_color": null
      }
     },
     "c9a10025c3ab42b89ecf8586c60407e2": {
      "model_module": "@jupyter-widgets/controls",
      "model_module_version": "2.0.0",
      "model_name": "ProgressStyleModel",
      "state": {
       "description_width": ""
      }
     },
     "c9d88acf95334a92832c0f0e39e88cba": {
      "model_module": "@jupyter-widgets/controls",
      "model_module_version": "2.0.0",
      "model_name": "HTMLStyleModel",
      "state": {
       "description_width": "",
       "font_size": null,
       "text_color": null
      }
     },
     "ca163356e08a48788eba406e06060e80": {
      "model_module": "@jupyter-widgets/base",
      "model_module_version": "2.0.0",
      "model_name": "LayoutModel",
      "state": {}
     },
     "ca30671bca054211bec4ec3a358bde07": {
      "model_module": "@jupyter-widgets/controls",
      "model_module_version": "2.0.0",
      "model_name": "HTMLStyleModel",
      "state": {
       "description_width": "",
       "font_size": null,
       "text_color": null
      }
     },
     "ca780d9b3bad416bb753f295b63ae0a7": {
      "model_module": "@jupyter-widgets/base",
      "model_module_version": "2.0.0",
      "model_name": "LayoutModel",
      "state": {}
     },
     "cad076c77d8940178fcb9ce74d4821df": {
      "model_module": "@jupyter-widgets/controls",
      "model_module_version": "2.0.0",
      "model_name": "HTMLModel",
      "state": {
       "layout": "IPY_MODEL_97ec6aeb8c934ae2981c8863afdd7eab",
       "style": "IPY_MODEL_2b467dc4eb7b4f988616854fb74e4622",
       "value": " 995/995 [00:00&lt;00:00, 1159.92it/s]"
      }
     },
     "cae7ad9918bf478d8ad73ae295fd396a": {
      "model_module": "@jupyter-widgets/base",
      "model_module_version": "2.0.0",
      "model_name": "LayoutModel",
      "state": {}
     },
     "cafb0eb298904bf5ae2abee24e18b199": {
      "model_module": "@jupyter-widgets/base",
      "model_module_version": "2.0.0",
      "model_name": "LayoutModel",
      "state": {}
     },
     "cb48836fa28c43328a69440ceabd7e26": {
      "model_module": "@jupyter-widgets/controls",
      "model_module_version": "2.0.0",
      "model_name": "HBoxModel",
      "state": {
       "children": [
        "IPY_MODEL_ad4019353c5e4f1287ed17ea9fefdb4e",
        "IPY_MODEL_679dfd8d34c849e798abd2a303e19fda",
        "IPY_MODEL_cad076c77d8940178fcb9ce74d4821df"
       ],
       "layout": "IPY_MODEL_e75739eac53a47c19c946b129975b2af"
      }
     },
     "cb699ddfda4446d0a4549d063c5459f6": {
      "model_module": "@jupyter-widgets/controls",
      "model_module_version": "2.0.0",
      "model_name": "HTMLStyleModel",
      "state": {
       "description_width": "",
       "font_size": null,
       "text_color": null
      }
     },
     "cba2d39ef5494304953fb93537a1866f": {
      "model_module": "@jupyter-widgets/controls",
      "model_module_version": "2.0.0",
      "model_name": "HTMLStyleModel",
      "state": {
       "description_width": "",
       "font_size": null,
       "text_color": null
      }
     },
     "cbc02ba16e4c4de4bef41c9a3395a197": {
      "model_module": "@jupyter-widgets/base",
      "model_module_version": "2.0.0",
      "model_name": "LayoutModel",
      "state": {}
     },
     "cbee27f18f034b63a95eadf185f7207c": {
      "model_module": "@jupyter-widgets/controls",
      "model_module_version": "2.0.0",
      "model_name": "HTMLModel",
      "state": {
       "layout": "IPY_MODEL_69c48b412a094e1d84a308f61cf3c9c1",
       "style": "IPY_MODEL_924f33bb742748898fe133d23696b433",
       "value": " 1120/1120 [03:17&lt;00:00,  5.81it/s]"
      }
     },
     "cc2aced6846a4156bccda79472391a66": {
      "model_module": "@jupyter-widgets/base",
      "model_module_version": "2.0.0",
      "model_name": "LayoutModel",
      "state": {}
     },
     "cc375525aad843fc95b2d988497cfa8e": {
      "model_module": "@jupyter-widgets/base",
      "model_module_version": "2.0.0",
      "model_name": "LayoutModel",
      "state": {}
     },
     "cc43c3c0a53c4082b91ec70231d0e883": {
      "model_module": "@jupyter-widgets/base",
      "model_module_version": "2.0.0",
      "model_name": "LayoutModel",
      "state": {}
     },
     "cc9a835acd754d98bc8494c817d63c7e": {
      "model_module": "@jupyter-widgets/base",
      "model_module_version": "2.0.0",
      "model_name": "LayoutModel",
      "state": {}
     },
     "cca0d08e3d534cbebcb0a4a3ccac5ca0": {
      "model_module": "@jupyter-widgets/controls",
      "model_module_version": "2.0.0",
      "model_name": "HTMLStyleModel",
      "state": {
       "description_width": "",
       "font_size": null,
       "text_color": null
      }
     },
     "ccb49b049a5a4f238fec143e958ffe00": {
      "model_module": "@jupyter-widgets/base",
      "model_module_version": "2.0.0",
      "model_name": "LayoutModel",
      "state": {}
     },
     "ccb74ccd82a34604aac645b906e11a2a": {
      "model_module": "@jupyter-widgets/controls",
      "model_module_version": "2.0.0",
      "model_name": "HTMLStyleModel",
      "state": {
       "description_width": "",
       "font_size": null,
       "text_color": null
      }
     },
     "ccfe03caac2f474da839a4b83caf22d9": {
      "model_module": "@jupyter-widgets/controls",
      "model_module_version": "2.0.0",
      "model_name": "HTMLStyleModel",
      "state": {
       "description_width": "",
       "font_size": null,
       "text_color": null
      }
     },
     "cd7d813c2f494eebae3d3b932b7b1a03": {
      "model_module": "@jupyter-widgets/base",
      "model_module_version": "2.0.0",
      "model_name": "LayoutModel",
      "state": {}
     },
     "cd842f4d42594b41971f72cbb3dec8dd": {
      "model_module": "@jupyter-widgets/base",
      "model_module_version": "2.0.0",
      "model_name": "LayoutModel",
      "state": {}
     },
     "cd95e358ff5a408b9d9c7c1f9d9b93fd": {
      "model_module": "@jupyter-widgets/controls",
      "model_module_version": "2.0.0",
      "model_name": "HTMLModel",
      "state": {
       "layout": "IPY_MODEL_ebe8625df76147e0946a3a468e962db2",
       "style": "IPY_MODEL_36c32c7641ca4f5f8bba38b517fb8a68",
       "value": " 2/2 [06:56&lt;00:00, 207.32s/it]"
      }
     },
     "cdbd17dd7c64483ebf4c31582a0a545d": {
      "model_module": "@jupyter-widgets/controls",
      "model_module_version": "2.0.0",
      "model_name": "ProgressStyleModel",
      "state": {
       "description_width": ""
      }
     },
     "cdbdf62622154df8b680a2bb6aa2ea9e": {
      "model_module": "@jupyter-widgets/base",
      "model_module_version": "2.0.0",
      "model_name": "LayoutModel",
      "state": {}
     },
     "cdd9732176f74ec890e2b8145ce3bc12": {
      "model_module": "@jupyter-widgets/controls",
      "model_module_version": "2.0.0",
      "model_name": "HTMLModel",
      "state": {
       "layout": "IPY_MODEL_963d3922e41d425db41643d559efa52e",
       "style": "IPY_MODEL_36d3a6e3b9544bc6b4f2c3f53d4e0ed6",
       "value": "Downloading vocab.txt: 100%"
      }
     },
     "ce1a98a7d4ca4060ad61d9d9648984fc": {
      "model_module": "@jupyter-widgets/controls",
      "model_module_version": "2.0.0",
      "model_name": "HTMLStyleModel",
      "state": {
       "description_width": "",
       "font_size": null,
       "text_color": null
      }
     },
     "ce38faea895a41f1a79a0b6b644075af": {
      "model_module": "@jupyter-widgets/controls",
      "model_module_version": "2.0.0",
      "model_name": "DescriptionStyleModel",
      "state": {
       "description_width": ""
      }
     },
     "ce39a9825d6f4bfebb5151f6762d34ce": {
      "model_module": "@jupyter-widgets/base",
      "model_module_version": "2.0.0",
      "model_name": "LayoutModel",
      "state": {}
     },
     "ce3e33fca1cb465aa1ff7ccc55dfd113": {
      "model_module": "@jupyter-widgets/controls",
      "model_module_version": "2.0.0",
      "model_name": "HTMLModel",
      "state": {
       "layout": "IPY_MODEL_84d3b133afcf474e9914e754a1f6bf1d",
       "style": "IPY_MODEL_3ceb791a359244df874e1eeddc791e36",
       "value": "Epochs 0/2. Running Loss:    0.8344: 100%"
      }
     },
     "ce6ff6d5a8304cb5a0949f7597754b38": {
      "model_module": "@jupyter-widgets/base",
      "model_module_version": "2.0.0",
      "model_name": "LayoutModel",
      "state": {}
     },
     "ce85a4d20cbc4d94aedb690b024ef493": {
      "model_module": "@jupyter-widgets/base",
      "model_module_version": "2.0.0",
      "model_name": "LayoutModel",
      "state": {}
     },
     "ce9ddae6e1d1497d8eb6788a7e9ea54d": {
      "model_module": "@jupyter-widgets/controls",
      "model_module_version": "2.0.0",
      "model_name": "FloatProgressModel",
      "state": {
       "bar_style": "success",
       "layout": "IPY_MODEL_70788af93ba44950b9a754f6a911ca2a",
       "max": 2211,
       "style": "IPY_MODEL_98b5e8d323034822963a57519c9830c9",
       "value": 2211
      }
     },
     "ce9f7d9bb8e34bf19f1e56cfae5718e4": {
      "model_module": "@jupyter-widgets/base",
      "model_module_version": "2.0.0",
      "model_name": "LayoutModel",
      "state": {}
     },
     "cea27eaf1f4646c3b41480c4adc82395": {
      "model_module": "@jupyter-widgets/controls",
      "model_module_version": "2.0.0",
      "model_name": "ProgressStyleModel",
      "state": {
       "description_width": ""
      }
     },
     "cef501196dd341c581b4d1544f719bba": {
      "model_module": "@jupyter-widgets/controls",
      "model_module_version": "2.0.0",
      "model_name": "HTMLStyleModel",
      "state": {
       "description_width": "",
       "font_size": null,
       "text_color": null
      }
     },
     "cefd58848d8e459db61ae40c961b1673": {
      "model_module": "@jupyter-widgets/base",
      "model_module_version": "2.0.0",
      "model_name": "LayoutModel",
      "state": {}
     },
     "ceffec6cfce14926867cdbad7a3bb467": {
      "model_module": "@jupyter-widgets/base",
      "model_module_version": "2.0.0",
      "model_name": "LayoutModel",
      "state": {}
     },
     "cf2b3b3ec8ba4db283fd62c37f7c5765": {
      "model_module": "@jupyter-widgets/controls",
      "model_module_version": "2.0.0",
      "model_name": "HTMLStyleModel",
      "state": {
       "description_width": "",
       "font_size": null,
       "text_color": null
      }
     },
     "cf5d28760b6b4829aa922cc6cf1baaa1": {
      "model_module": "@jupyter-widgets/controls",
      "model_module_version": "2.0.0",
      "model_name": "ProgressStyleModel",
      "state": {
       "description_width": ""
      }
     },
     "cfef3da396a046e485ab1862481cbb6b": {
      "model_module": "@jupyter-widgets/controls",
      "model_module_version": "2.0.0",
      "model_name": "HTMLStyleModel",
      "state": {
       "description_width": "",
       "font_size": null,
       "text_color": null
      }
     },
     "d010ce8c77aa4c41bd82f7d8bb188643": {
      "model_module": "@jupyter-widgets/controls",
      "model_module_version": "2.0.0",
      "model_name": "HTMLModel",
      "state": {
       "layout": "IPY_MODEL_03a0d617b1cf4bb685ff24a4b00a7a03",
       "style": "IPY_MODEL_70c53c759a09452cb12bb9706aa9032b",
       "value": "Epochs 0/2. Running Loss:    0.1594: 100%"
      }
     },
     "d01a7592b57541c7858209e428c4cb49": {
      "model_module": "@jupyter-widgets/base",
      "model_module_version": "2.0.0",
      "model_name": "LayoutModel",
      "state": {}
     },
     "d0364d3ef3bf45b3acf1f0abcd778d0f": {
      "model_module": "@jupyter-widgets/base",
      "model_module_version": "2.0.0",
      "model_name": "LayoutModel",
      "state": {}
     },
     "d0597533ba9541da8d1653b12bf92ea0": {
      "model_module": "@jupyter-widgets/base",
      "model_module_version": "2.0.0",
      "model_name": "LayoutModel",
      "state": {}
     },
     "d0911878bebc499bb33f4f5261b865e1": {
      "model_module": "@jupyter-widgets/controls",
      "model_module_version": "2.0.0",
      "model_name": "HTMLModel",
      "state": {
       "layout": "IPY_MODEL_1cadd9c05c0542969a569465291cbd44",
       "style": "IPY_MODEL_f5c1e88665b74de2b924eb965d3e9428",
       "value": " 222/222 [00:00&lt;00:00, 1021.87it/s]"
      }
     },
     "d0eaa88c718148319dc87fc944afe7c1": {
      "model_module": "@jupyter-widgets/controls",
      "model_module_version": "2.0.0",
      "model_name": "HTMLModel",
      "state": {
       "layout": "IPY_MODEL_5aa2dac273d747f5b279f9a0465d66a2",
       "style": "IPY_MODEL_388eec5aac584db79975b77f387a472e",
       "value": " 222/222 [00:00&lt;00:00, 1030.27it/s]"
      }
     },
     "d0eeea3944c944669c2c3d77d2fbe26a": {
      "model_module": "@jupyter-widgets/controls",
      "model_module_version": "2.0.0",
      "model_name": "HTMLModel",
      "state": {
       "layout": "IPY_MODEL_56a2632bbd024cdb88081066fbc73982",
       "style": "IPY_MODEL_541792d423e849a4a7bf0b76393024ec",
       "value": " 289/289 [00:33&lt;00:00, 10.73it/s]"
      }
     },
     "d0f774ac3324465d949b58e208180f1a": {
      "model_module": "@jupyter-widgets/controls",
      "model_module_version": "2.0.0",
      "model_name": "HTMLModel",
      "state": {
       "layout": "IPY_MODEL_65fad54e70a5475ca68964b1b0458c32",
       "style": "IPY_MODEL_ce1a98a7d4ca4060ad61d9d9648984fc",
       "value": "Running Evaluation: 100%"
      }
     },
     "d113049a87664cadb371a8ab218ffedc": {
      "model_module": "@jupyter-widgets/base",
      "model_module_version": "2.0.0",
      "model_name": "LayoutModel",
      "state": {}
     },
     "d1269e8042ed474aa524f251447ec3b5": {
      "model_module": "@jupyter-widgets/base",
      "model_module_version": "2.0.0",
      "model_name": "LayoutModel",
      "state": {}
     },
     "d1478a60ecb543d191779ca8ffa8b152": {
      "model_module": "@jupyter-widgets/controls",
      "model_module_version": "2.0.0",
      "model_name": "VBoxModel",
      "state": {
       "children": [
        "IPY_MODEL_49aeef49484b4e0aacef98ab600b7f1a",
        "IPY_MODEL_f712c3317a58462981773113b3bf6759"
       ],
       "layout": "IPY_MODEL_0fa04a098d924047a0cc75673e848325"
      }
     },
     "d1674ab34def4553b5ae4b4280d76ad5": {
      "model_module": "@jupyter-widgets/controls",
      "model_module_version": "2.0.0",
      "model_name": "HTMLModel",
      "state": {
       "layout": "IPY_MODEL_3c93927f9c4843d59330dabda104ae10",
       "style": "IPY_MODEL_5268de44d1fb40e3a91b0eebd2e204d4",
       "value": " 4179/7600 [00:00&lt;00:00, 41781.37 examples/s]"
      }
     },
     "d1702a30231d469596f7b4b6a6a6ad44": {
      "model_module": "@jupyter-widgets/base",
      "model_module_version": "2.0.0",
      "model_name": "LayoutModel",
      "state": {}
     },
     "d171c95575984fdc861897005b50c62c": {
      "model_module": "@jupyter-widgets/controls",
      "model_module_version": "2.0.0",
      "model_name": "ProgressStyleModel",
      "state": {
       "description_width": ""
      }
     },
     "d1931faf76ca49fab1a7e2074ccc1c7c": {
      "model_module": "@jupyter-widgets/base",
      "model_module_version": "2.0.0",
      "model_name": "LayoutModel",
      "state": {}
     },
     "d1aad8e9b6544d5b8c5bd44960bbca84": {
      "model_module": "@jupyter-widgets/controls",
      "model_module_version": "2.0.0",
      "model_name": "FloatProgressModel",
      "state": {
       "bar_style": "success",
       "layout": "IPY_MODEL_b075f22c0160465791064f37656e99e4",
       "max": 230,
       "style": "IPY_MODEL_fa0f3c448bb14ef4a5d463bf750954f5",
       "value": 230
      }
     },
     "d1e7988edef84cd7963ded039da1d19d": {
      "model_module": "@jupyter-widgets/base",
      "model_module_version": "2.0.0",
      "model_name": "LayoutModel",
      "state": {}
     },
     "d2078633ba9f4069aee635db024898fd": {
      "model_module": "@jupyter-widgets/base",
      "model_module_version": "2.0.0",
      "model_name": "LayoutModel",
      "state": {}
     },
     "d26647bf010b42029cbce622cea9a2e6": {
      "model_module": "@jupyter-widgets/controls",
      "model_module_version": "2.0.0",
      "model_name": "HTMLStyleModel",
      "state": {
       "description_width": "",
       "font_size": null,
       "text_color": null
      }
     },
     "d26d1f6e814f4810bc2c335c6e0e1cbc": {
      "model_module": "@jupyter-widgets/controls",
      "model_module_version": "2.0.0",
      "model_name": "LabelStyleModel",
      "state": {
       "description_width": "",
       "font_family": null,
       "font_size": null,
       "font_style": null,
       "font_variant": null,
       "font_weight": null,
       "text_color": null,
       "text_decoration": null
      }
     },
     "d28fcb6d0d53435d844af8ab0db5b001": {
      "model_module": "@jupyter-widgets/base",
      "model_module_version": "2.0.0",
      "model_name": "LayoutModel",
      "state": {}
     },
     "d2b897ee05ff4b77ab80361a39948203": {
      "model_module": "@jupyter-widgets/controls",
      "model_module_version": "2.0.0",
      "model_name": "HTMLStyleModel",
      "state": {
       "description_width": "",
       "font_size": null,
       "text_color": null
      }
     },
     "d307d33e0ad342b1b70363340278529e": {
      "model_module": "@jupyter-widgets/base",
      "model_module_version": "2.0.0",
      "model_name": "LayoutModel",
      "state": {}
     },
     "d3255e3f2cc846e0a24d8e4541060789": {
      "model_module": "@jupyter-widgets/controls",
      "model_module_version": "2.0.0",
      "model_name": "HTMLModel",
      "state": {
       "layout": "IPY_MODEL_89056d23c3a54628b39f8eb5da4283ea",
       "style": "IPY_MODEL_ed34c766f8634d9aa35e03128600724b",
       "value": "100%"
      }
     },
     "d37a2f39d87c41dd84e66ed4e7cec749": {
      "model_module": "@jupyter-widgets/base",
      "model_module_version": "2.0.0",
      "model_name": "LayoutModel",
      "state": {}
     },
     "d39ca03ddaaf46a38f231d11bf9381c5": {
      "model_module": "@jupyter-widgets/base",
      "model_module_version": "2.0.0",
      "model_name": "LayoutModel",
      "state": {}
     },
     "d39d151a5ebe4d1fb44392933bb94fd1": {
      "model_module": "@jupyter-widgets/controls",
      "model_module_version": "2.0.0",
      "model_name": "ProgressStyleModel",
      "state": {
       "description_width": ""
      }
     },
     "d3a8b9a6d7f644c1ba767b5b1e2efeeb": {
      "model_module": "@jupyter-widgets/base",
      "model_module_version": "2.0.0",
      "model_name": "LayoutModel",
      "state": {}
     },
     "d3aeef69cc4c4293a35e8cddbcfa068c": {
      "model_module": "@jupyter-widgets/controls",
      "model_module_version": "2.0.0",
      "model_name": "FloatProgressModel",
      "state": {
       "bar_style": "success",
       "layout": "IPY_MODEL_00a060c5fe6146de9354bc94b26a78d1",
       "max": 230,
       "style": "IPY_MODEL_8bcc1a8d1e51442abac5460678d416e0",
       "value": 230
      }
     },
     "d3afee6dbc784c7a8216697f0b2afd9b": {
      "model_module": "@jupyter-widgets/base",
      "model_module_version": "2.0.0",
      "model_name": "LayoutModel",
      "state": {}
     },
     "d3cea77a2478436fb75533c306926b8d": {
      "model_module": "@jupyter-widgets/base",
      "model_module_version": "2.0.0",
      "model_name": "LayoutModel",
      "state": {}
     },
     "d40328d3149f4633af0900efccbd4ede": {
      "model_module": "@jupyter-widgets/base",
      "model_module_version": "2.0.0",
      "model_name": "LayoutModel",
      "state": {}
     },
     "d404a95884b14f00b4c04847d7595054": {
      "model_module": "@jupyter-widgets/base",
      "model_module_version": "2.0.0",
      "model_name": "LayoutModel",
      "state": {}
     },
     "d406813fbaf141969077ea99906ac141": {
      "model_module": "@jupyter-widgets/controls",
      "model_module_version": "2.0.0",
      "model_name": "FloatProgressModel",
      "state": {
       "bar_style": "success",
       "layout": "IPY_MODEL_85e68047383c407bb54a5d0d4e653b42",
       "max": 199,
       "style": "IPY_MODEL_778aff5e8a004fbb8ffe6df5116dccc5",
       "value": 199
      }
     },
     "d40cd45ed6a149e4937000fc55c6d519": {
      "model_module": "@jupyter-widgets/controls",
      "model_module_version": "2.0.0",
      "model_name": "HTMLStyleModel",
      "state": {
       "description_width": "",
       "font_size": null,
       "text_color": null
      }
     },
     "d436127e41744d48b06593532a4a97cc": {
      "model_module": "@jupyter-widgets/controls",
      "model_module_version": "2.0.0",
      "model_name": "ProgressStyleModel",
      "state": {
       "description_width": ""
      }
     },
     "d44f9ed9da5e42e4bd8161ef725f1eac": {
      "model_module": "@jupyter-widgets/controls",
      "model_module_version": "2.0.0",
      "model_name": "HTMLStyleModel",
      "state": {
       "description_width": "",
       "font_size": null,
       "text_color": null
      }
     },
     "d455ff2c6e344778902080c22315aa70": {
      "model_module": "@jupyter-widgets/controls",
      "model_module_version": "2.0.0",
      "model_name": "HTMLModel",
      "state": {
       "layout": "IPY_MODEL_e3c04ee998dd489685aafec89e5538f4",
       "style": "IPY_MODEL_395b2fbf26a24c1c8654410dfc4ac402",
       "value": " 8953/8953 [00:03&lt;00:00, 2301.78it/s]"
      }
     },
     "d458861a068e4cbd9d9e93b8d25a96ec": {
      "model_module": "@jupyter-widgets/controls",
      "model_module_version": "2.0.0",
      "model_name": "HTMLStyleModel",
      "state": {
       "description_width": "",
       "font_size": null,
       "text_color": null
      }
     },
     "d46d543ebb7b411880939be1ab3394bf": {
      "model_module": "@jupyter-widgets/controls",
      "model_module_version": "2.0.0",
      "model_name": "ProgressStyleModel",
      "state": {
       "description_width": ""
      }
     },
     "d47641bef66d490db4d967f714a0515d": {
      "model_module": "@jupyter-widgets/controls",
      "model_module_version": "2.0.0",
      "model_name": "ProgressStyleModel",
      "state": {
       "description_width": ""
      }
     },
     "d4a9f8ec60894b2dba27bb2334475c10": {
      "model_module": "@jupyter-widgets/controls",
      "model_module_version": "2.0.0",
      "model_name": "ProgressStyleModel",
      "state": {
       "description_width": ""
      }
     },
     "d4c15921c02a4acda315bf2123487864": {
      "model_module": "@jupyter-widgets/controls",
      "model_module_version": "2.0.0",
      "model_name": "FloatProgressModel",
      "state": {
       "bar_style": "success",
       "layout": "IPY_MODEL_b74f3dc8dbc74a0c9748099a773ab964",
       "max": 1,
       "style": "IPY_MODEL_d610ed0e70a24e0caf88bcb9fc2e9779",
       "value": 1
      }
     },
     "d4cc05b1010d422daf46055fb1a7b7b9": {
      "model_module": "@jupyter-widgets/base",
      "model_module_version": "2.0.0",
      "model_name": "LayoutModel",
      "state": {}
     },
     "d4d405853cc24c61888aaac8cf424fd4": {
      "model_module": "@jupyter-widgets/controls",
      "model_module_version": "2.0.0",
      "model_name": "HTMLStyleModel",
      "state": {
       "description_width": "",
       "font_size": null,
       "text_color": null
      }
     },
     "d4f007329c9a4660b085d5bf055a2651": {
      "model_module": "@jupyter-widgets/controls",
      "model_module_version": "2.0.0",
      "model_name": "HBoxModel",
      "state": {
       "children": [
        "IPY_MODEL_1c82e2f6742d4bbfb69a98ed2443fb37",
        "IPY_MODEL_5b810b6662c44eb0886e3c2b09e0e1ef",
        "IPY_MODEL_2255d0203e7342b5832aebc29cebe41e"
       ],
       "layout": "IPY_MODEL_15b60179dea24f3fb709cbfc306146ca"
      }
     },
     "d4f86ef44789427680e9413daef4fa0e": {
      "model_module": "@jupyter-widgets/controls",
      "model_module_version": "2.0.0",
      "model_name": "ProgressStyleModel",
      "state": {
       "description_width": ""
      }
     },
     "d501bcc52cb74624bf77e48db85a1554": {
      "model_module": "@jupyter-widgets/controls",
      "model_module_version": "2.0.0",
      "model_name": "FloatProgressModel",
      "state": {
       "bar_style": "success",
       "layout": "IPY_MODEL_a626457c121c4e68803bdc4e38e285bb",
       "max": 1106,
       "style": "IPY_MODEL_98144a2eaecd4a20916c24f7005fc837",
       "value": 1106
      }
     },
     "d5161ecd5733410a86776602e4ba1978": {
      "model_module": "@jupyter-widgets/controls",
      "model_module_version": "2.0.0",
      "model_name": "LabelStyleModel",
      "state": {
       "description_width": "",
       "font_family": null,
       "font_size": null,
       "font_style": null,
       "font_variant": null,
       "font_weight": null,
       "text_color": null,
       "text_decoration": null
      }
     },
     "d52259ba741d492abbeef1b1db776c95": {
      "model_module": "@jupyter-widgets/controls",
      "model_module_version": "2.0.0",
      "model_name": "HTMLStyleModel",
      "state": {
       "description_width": "",
       "font_size": null,
       "text_color": null
      }
     },
     "d52ead1a675849f4a72ccd0f6b3644b4": {
      "model_module": "@jupyter-widgets/controls",
      "model_module_version": "2.0.0",
      "model_name": "HTMLModel",
      "state": {
       "layout": "IPY_MODEL_72c37ac74f7e4bf3b80dcb1ec1ee59c9",
       "style": "IPY_MODEL_fa0457ba274045799ba81605d2fb4bfc",
       "value": "Downloading config.json: 100%"
      }
     },
     "d534079f61c643ee8c8876dffb947fff": {
      "model_module": "@jupyter-widgets/controls",
      "model_module_version": "2.0.0",
      "model_name": "FloatProgressModel",
      "state": {
       "bar_style": "success",
       "layout": "IPY_MODEL_4ed0a8434b6f47a4ab1d99bbadf0b5cb",
       "max": 227,
       "style": "IPY_MODEL_2bd472c9fe9446f2ad989ad4f313d3c4",
       "value": 227
      }
     },
     "d540ee1a80aa4c748d8b0f9de3b3ac0c": {
      "model_module": "@jupyter-widgets/controls",
      "model_module_version": "2.0.0",
      "model_name": "HTMLModel",
      "state": {
       "layout": "IPY_MODEL_5976bd754b4642c8a3ed7bd479f91040",
       "style": "IPY_MODEL_61147e256dbc4292b4201eafd3f81a89",
       "value": " 71/71 [00:02&lt;00:00, 30.37it/s]"
      }
     },
     "d55bbf24c8434b8aa4a7d7b6a1f3de49": {
      "model_module": "@jupyter-widgets/base",
      "model_module_version": "2.0.0",
      "model_name": "LayoutModel",
      "state": {}
     },
     "d56a5656679c44cda572aac2634500ea": {
      "model_module": "@jupyter-widgets/base",
      "model_module_version": "2.0.0",
      "model_name": "LayoutModel",
      "state": {}
     },
     "d59c382962bd4fc98130fc32d6a991a0": {
      "model_module": "@jupyter-widgets/base",
      "model_module_version": "2.0.0",
      "model_name": "LayoutModel",
      "state": {}
     },
     "d5cdf7ed8f1941d298eac651c8eeab18": {
      "model_module": "@jupyter-widgets/controls",
      "model_module_version": "2.0.0",
      "model_name": "HTMLModel",
      "state": {
       "layout": "IPY_MODEL_7fd853ccae994ead8df1a0a32d91647f",
       "style": "IPY_MODEL_c44d4ee022984392b08aaccd6a2acfb4",
       "value": " 2211/2211 [00:01&lt;00:00, 2151.36it/s]"
      }
     },
     "d5ee1dee43754c90a607151b423be3db": {
      "model_module": "@jupyter-widgets/controls",
      "model_module_version": "2.0.0",
      "model_name": "FloatProgressModel",
      "state": {
       "bar_style": "success",
       "layout": "IPY_MODEL_d1e7988edef84cd7963ded039da1d19d",
       "max": 228,
       "style": "IPY_MODEL_276b9d5b26b54d3881b5352b7a3ac63a",
       "value": 228
      }
     },
     "d606ca21befb46f7a40b5018b9c1eb47": {
      "model_module": "@jupyter-widgets/controls",
      "model_module_version": "2.0.0",
      "model_name": "LabelModel",
      "state": {
       "layout": "IPY_MODEL_e92a8acadeda4c3aba26aa90ed293a71",
       "style": "IPY_MODEL_d26d1f6e814f4810bc2c335c6e0e1cbc",
       "value": "0.016 MB of 0.016 MB uploaded (0.000 MB deduped)\r"
      }
     },
     "d610ed0e70a24e0caf88bcb9fc2e9779": {
      "model_module": "@jupyter-widgets/controls",
      "model_module_version": "2.0.0",
      "model_name": "ProgressStyleModel",
      "state": {
       "description_width": ""
      }
     },
     "d61204c43dbd446d97b7e20db0b09765": {
      "model_module": "@jupyter-widgets/base",
      "model_module_version": "2.0.0",
      "model_name": "LayoutModel",
      "state": {}
     },
     "d65f4d67408543fcb41c0e0c4c38e382": {
      "model_module": "@jupyter-widgets/base",
      "model_module_version": "2.0.0",
      "model_name": "LayoutModel",
      "state": {}
     },
     "d66e6602e943431d9507bf5f99d4e1f7": {
      "model_module": "@jupyter-widgets/controls",
      "model_module_version": "2.0.0",
      "model_name": "FloatProgressModel",
      "state": {
       "bar_style": "success",
       "layout": "IPY_MODEL_60d82ba973af47b7af53c333657f3b70",
       "max": 2211,
       "style": "IPY_MODEL_604947c8fa7547c2ae116ce740c6d182",
       "value": 2211
      }
     },
     "d698e0cf37d6474aa103f3ccb577252c": {
      "model_module": "@jupyter-widgets/controls",
      "model_module_version": "2.0.0",
      "model_name": "ProgressStyleModel",
      "state": {
       "description_width": ""
      }
     },
     "d6a14ad96c51431bbc1fa5b87a21fd17": {
      "model_module": "@jupyter-widgets/controls",
      "model_module_version": "2.0.0",
      "model_name": "FloatProgressModel",
      "state": {
       "bar_style": "success",
       "layout": "IPY_MODEL_da5749a340074e3a86a82c9957635723",
       "max": 11045148,
       "style": "IPY_MODEL_22e108face414dcebe61e54dfdb77f65",
       "value": 11045148
      }
     },
     "d70046bba54043e497ac8c3a479cbdc3": {
      "model_module": "@jupyter-widgets/base",
      "model_module_version": "2.0.0",
      "model_name": "LayoutModel",
      "state": {}
     },
     "d716f00ac5ef469aaa58c2498ac68e11": {
      "model_module": "@jupyter-widgets/controls",
      "model_module_version": "2.0.0",
      "model_name": "ProgressStyleModel",
      "state": {
       "description_width": ""
      }
     },
     "d72f55128dcc437eb0e130aeaa0e494f": {
      "model_module": "@jupyter-widgets/controls",
      "model_module_version": "2.0.0",
      "model_name": "ProgressStyleModel",
      "state": {
       "description_width": ""
      }
     },
     "d74fbf565d4b47519cf38e9038975a37": {
      "model_module": "@jupyter-widgets/controls",
      "model_module_version": "2.0.0",
      "model_name": "FloatProgressModel",
      "state": {
       "bar_style": "success",
       "layout": "IPY_MODEL_cc375525aad843fc95b2d988497cfa8e",
       "max": 199,
       "style": "IPY_MODEL_09b51c6fea8a48cfbc82b67615d895ef",
       "value": 199
      }
     },
     "d753c8d745134aca96c12d2fbcb1f34e": {
      "model_module": "@jupyter-widgets/controls",
      "model_module_version": "2.0.0",
      "model_name": "FloatProgressModel",
      "state": {
       "layout": "IPY_MODEL_6b742f24929744ac8ba01bf25693944e",
       "max": 1,
       "style": "IPY_MODEL_d698e0cf37d6474aa103f3ccb577252c"
      }
     },
     "d7e63c3db63e42fcbc2203337d0d895f": {
      "model_module": "@jupyter-widgets/base",
      "model_module_version": "2.0.0",
      "model_name": "LayoutModel",
      "state": {}
     },
     "d7ee87b15779483e9de1d50a15a20d80": {
      "model_module": "@jupyter-widgets/base",
      "model_module_version": "2.0.0",
      "model_name": "LayoutModel",
      "state": {}
     },
     "d7f4cf44c46d45deabebceff3db6f8c7": {
      "model_module": "@jupyter-widgets/base",
      "model_module_version": "2.0.0",
      "model_name": "LayoutModel",
      "state": {}
     },
     "d7ff71cd78254c87b4a714a726911d0e": {
      "model_module": "@jupyter-widgets/base",
      "model_module_version": "2.0.0",
      "model_name": "LayoutModel",
      "state": {}
     },
     "d8202b72821c420394c98bb2f37e165c": {
      "model_module": "@jupyter-widgets/controls",
      "model_module_version": "2.0.0",
      "model_name": "FloatProgressModel",
      "state": {
       "layout": "IPY_MODEL_a26c77ac1b6e42fbb54c8dadec401459",
       "max": 1,
       "style": "IPY_MODEL_226d93f98fa1498189f436ed1efc585b"
      }
     },
     "d861a4bd2a144aca91d80a8aad768ec8": {
      "model_module": "@jupyter-widgets/base",
      "model_module_version": "2.0.0",
      "model_name": "LayoutModel",
      "state": {}
     },
     "d883898e1c414ec290aff47258ca3180": {
      "model_module": "@jupyter-widgets/controls",
      "model_module_version": "2.0.0",
      "model_name": "HTMLModel",
      "state": {
       "layout": "IPY_MODEL_558a029f981f4fc9b3b04ed11abbcece",
       "style": "IPY_MODEL_1d1ed82a3c8d4facaacde96422ad45e9",
       "value": " 1106/1106 [00:00&lt;00:00, 2163.32it/s]"
      }
     },
     "d89965ff556e477fb9e94780c1e2ccaf": {
      "model_module": "@jupyter-widgets/base",
      "model_module_version": "2.0.0",
      "model_name": "LayoutModel",
      "state": {}
     },
     "d8a02ed2e7654f328a9dbbb5a4810b3c": {
      "model_module": "@jupyter-widgets/controls",
      "model_module_version": "2.0.0",
      "model_name": "ProgressStyleModel",
      "state": {
       "description_width": ""
      }
     },
     "d8d225561ce84a719d77a03739a62880": {
      "model_module": "@jupyter-widgets/base",
      "model_module_version": "2.0.0",
      "model_name": "LayoutModel",
      "state": {}
     },
     "d8d3328617f9402eb5484580d7894432": {
      "model_module": "@jupyter-widgets/base",
      "model_module_version": "2.0.0",
      "model_name": "LayoutModel",
      "state": {}
     },
     "d8dbafb5278b464383ddcf9b22e78ac7": {
      "model_module": "@jupyter-widgets/controls",
      "model_module_version": "2.0.0",
      "model_name": "ProgressStyleModel",
      "state": {
       "description_width": ""
      }
     },
     "d90262c3f6554902af4f86b798dab767": {
      "model_module": "@jupyter-widgets/controls",
      "model_module_version": "2.0.0",
      "model_name": "HTMLModel",
      "state": {
       "layout": "IPY_MODEL_42be8869d210462c9f9a5f15551039d7",
       "style": "IPY_MODEL_70fa40b48d5a440b817bf59266cd5b35",
       "value": "Downloading data files: 100%"
      }
     },
     "d907ba6520874623b141bb7dd978a29c": {
      "model_module": "@jupyter-widgets/controls",
      "model_module_version": "2.0.0",
      "model_name": "FloatProgressModel",
      "state": {
       "layout": "IPY_MODEL_d7ee87b15779483e9de1d50a15a20d80",
       "max": 1,
       "style": "IPY_MODEL_6c985cab91c542498823fdd1552dbec3",
       "value": 1
      }
     },
     "d929790d25e84048a5bde5bfdeab1888": {
      "model_module": "@jupyter-widgets/controls",
      "model_module_version": "2.0.0",
      "model_name": "HTMLModel",
      "state": {
       "layout": "IPY_MODEL_c64c38e0c74e41df861879cd08795c5b",
       "style": "IPY_MODEL_3e250cb51f814546a6e30bf56856004b",
       "value": "Downloading data: 100%"
      }
     },
     "d94fcdd5767c4e47a28b90a1b7da0f54": {
      "model_module": "@jupyter-widgets/base",
      "model_module_version": "2.0.0",
      "model_name": "LayoutModel",
      "state": {}
     },
     "d952100ea43d4468973d9da0b549ecf3": {
      "model_module": "@jupyter-widgets/base",
      "model_module_version": "2.0.0",
      "model_name": "LayoutModel",
      "state": {}
     },
     "d95e08db8bab44668bc9fe85f4f343b5": {
      "model_module": "@jupyter-widgets/base",
      "model_module_version": "2.0.0",
      "model_name": "LayoutModel",
      "state": {}
     },
     "d96b55a5bdc9486f9203f530eb43a5be": {
      "model_module": "@jupyter-widgets/controls",
      "model_module_version": "2.0.0",
      "model_name": "HTMLStyleModel",
      "state": {
       "description_width": "",
       "font_size": null,
       "text_color": null
      }
     },
     "d96e336b59554485a32a9719de309ba8": {
      "model_module": "@jupyter-widgets/controls",
      "model_module_version": "2.0.0",
      "model_name": "ProgressStyleModel",
      "state": {
       "description_width": ""
      }
     },
     "d97b9ae25ab04b3a83eec7d3793339ea": {
      "model_module": "@jupyter-widgets/controls",
      "model_module_version": "2.0.0",
      "model_name": "HTMLStyleModel",
      "state": {
       "description_width": "",
       "font_size": null,
       "text_color": null
      }
     },
     "d97cbcdd63334003af51eec8c80c6720": {
      "model_module": "@jupyter-widgets/controls",
      "model_module_version": "2.0.0",
      "model_name": "FloatProgressModel",
      "state": {
       "bar_style": "success",
       "layout": "IPY_MODEL_ddaa65f9961a4cf5a2228ddabce22bf2",
       "max": 230,
       "style": "IPY_MODEL_6545e87f9b6c4312bbcb8af691c439b6",
       "value": 230
      }
     },
     "d99d8045c95646fe84b47e06fe2cc9b5": {
      "model_module": "@jupyter-widgets/controls",
      "model_module_version": "2.0.0",
      "model_name": "LabelStyleModel",
      "state": {
       "description_width": "",
       "font_family": null,
       "font_size": null,
       "font_style": null,
       "font_variant": null,
       "font_weight": null,
       "text_color": null,
       "text_decoration": null
      }
     },
     "d9cf62077f1c49c8acc6b4f8906bca57": {
      "model_module": "@jupyter-widgets/base",
      "model_module_version": "2.0.0",
      "model_name": "LayoutModel",
      "state": {}
     },
     "d9d0836754a44c3c86724c54bfa06efb": {
      "model_module": "@jupyter-widgets/controls",
      "model_module_version": "2.0.0",
      "model_name": "HTMLStyleModel",
      "state": {
       "description_width": "",
       "font_size": null,
       "text_color": null
      }
     },
     "d9d96d13f9ab4541a02fe09450011675": {
      "model_module": "@jupyter-widgets/controls",
      "model_module_version": "2.0.0",
      "model_name": "LabelStyleModel",
      "state": {
       "description_width": "",
       "font_family": null,
       "font_size": null,
       "font_style": null,
       "font_variant": null,
       "font_weight": null,
       "text_color": null,
       "text_decoration": null
      }
     },
     "d9e25ef5a679439f8aeff354692674ca": {
      "model_module": "@jupyter-widgets/controls",
      "model_module_version": "2.0.0",
      "model_name": "HTMLStyleModel",
      "state": {
       "description_width": "",
       "font_size": null,
       "text_color": null
      }
     },
     "d9e49ebda590452ca6a799b70cdb1b81": {
      "model_module": "@jupyter-widgets/controls",
      "model_module_version": "2.0.0",
      "model_name": "HTMLStyleModel",
      "state": {
       "description_width": "",
       "font_size": null,
       "text_color": null
      }
     },
     "d9e7d9783755458884ee875a514d7a9e": {
      "model_module": "@jupyter-widgets/base",
      "model_module_version": "2.0.0",
      "model_name": "LayoutModel",
      "state": {}
     },
     "da45e4b40afd4e3cafb5b2dd8f5f1f82": {
      "model_module": "@jupyter-widgets/base",
      "model_module_version": "2.0.0",
      "model_name": "LayoutModel",
      "state": {}
     },
     "da503d8108ab41f5af5fe22f84002d75": {
      "model_module": "@jupyter-widgets/controls",
      "model_module_version": "2.0.0",
      "model_name": "FloatProgressModel",
      "state": {
       "layout": "IPY_MODEL_4832b2429baf4b2fa89b73b504fcfbad",
       "max": 1,
       "style": "IPY_MODEL_651c7d48d7194d06a47fb5ff796ee78b",
       "value": 1
      }
     },
     "da5749a340074e3a86a82c9957635723": {
      "model_module": "@jupyter-widgets/base",
      "model_module_version": "2.0.0",
      "model_name": "LayoutModel",
      "state": {}
     },
     "daa002571af2476c8e4cdc23a4a939f1": {
      "model_module": "@jupyter-widgets/base",
      "model_module_version": "2.0.0",
      "model_name": "LayoutModel",
      "state": {}
     },
     "daa2d0256ebc4780b61176e9939bb980": {
      "model_module": "@jupyter-widgets/controls",
      "model_module_version": "2.0.0",
      "model_name": "HTMLModel",
      "state": {
       "layout": "IPY_MODEL_db0bbb7c5fba47f5807cc46635e8c3a1",
       "style": "IPY_MODEL_d40cd45ed6a149e4937000fc55c6d519",
       "value": " 8953/8953 [00:03&lt;00:00, 2299.05it/s]"
      }
     },
     "dab55659dcf34657b9f4a896e1132725": {
      "model_module": "@jupyter-widgets/controls",
      "model_module_version": "2.0.0",
      "model_name": "FloatProgressModel",
      "state": {
       "layout": "IPY_MODEL_75a889502fe44e7aae64ec01fd3ea65e",
       "max": 1,
       "style": "IPY_MODEL_8bfded5023f94cb192c8cb0dd4b33ce4",
       "value": 1
      }
     },
     "dab91f9a814441469921d8b9ec3dfa71": {
      "model_module": "@jupyter-widgets/controls",
      "model_module_version": "2.0.0",
      "model_name": "HTMLModel",
      "state": {
       "layout": "IPY_MODEL_d39ca03ddaaf46a38f231d11bf9381c5",
       "style": "IPY_MODEL_8dca3927efda4249913f844d4073e296",
       "value": "Running Evaluation: 100%"
      }
     },
     "dafaad6595224210ae959f06b4cf34af": {
      "model_module": "@jupyter-widgets/controls",
      "model_module_version": "2.0.0",
      "model_name": "HTMLStyleModel",
      "state": {
       "description_width": "",
       "font_size": null,
       "text_color": null
      }
     },
     "db0bbb7c5fba47f5807cc46635e8c3a1": {
      "model_module": "@jupyter-widgets/base",
      "model_module_version": "2.0.0",
      "model_name": "LayoutModel",
      "state": {}
     },
     "db236ff43631437e9650572598858262": {
      "model_module": "@jupyter-widgets/controls",
      "model_module_version": "2.0.0",
      "model_name": "HBoxModel",
      "state": {
       "children": [
        "IPY_MODEL_84628edd3933457c9dc376c3bf671b2b",
        "IPY_MODEL_213d1fb31809479989ced879cdde7dd7",
        "IPY_MODEL_d0eaa88c718148319dc87fc944afe7c1"
       ],
       "layout": "IPY_MODEL_6f0f34405def4930ab1e3bfeb26796ba"
      }
     },
     "db23b45a4dc74efd8541d5bbeed9d8c6": {
      "model_module": "@jupyter-widgets/controls",
      "model_module_version": "2.0.0",
      "model_name": "HTMLModel",
      "state": {
       "layout": "IPY_MODEL_d59c382962bd4fc98130fc32d6a991a0",
       "style": "IPY_MODEL_f34f80c2863c44e1a473b0c57ec69e17",
       "value": "Epochs 1/2. Running Loss:    0.2097: 100%"
      }
     },
     "db2ff0db1eab4954b1b0ba4d15663697": {
      "model_module": "@jupyter-widgets/controls",
      "model_module_version": "2.0.0",
      "model_name": "HTMLModel",
      "state": {
       "layout": "IPY_MODEL_8202376d647a46e999685b14e334a1c4",
       "style": "IPY_MODEL_1839091de4d14c02b8a0bb8de5881f38",
       "value": "apply len_bytes to num_bytes: 100%"
      }
     },
     "db69d00762b5443bbae36bc12b4fa24e": {
      "model_module": "@jupyter-widgets/controls",
      "model_module_version": "2.0.0",
      "model_name": "HTMLModel",
      "state": {
       "layout": "IPY_MODEL_5b8ac57b87614af4a919682b5899b4bd",
       "style": "IPY_MODEL_84bbbdfa326f48c6a8955f619a4d3aac",
       "value": " 72/72 [00:02&lt;00:00, 30.23it/s]"
      }
     },
     "dbd798ae664d4774ae217c7d6f700b08": {
      "model_module": "@jupyter-widgets/controls",
      "model_module_version": "2.0.0",
      "model_name": "ProgressStyleModel",
      "state": {
       "description_width": ""
      }
     },
     "dbe6f080e8974f098a048b15170525b5": {
      "model_module": "@jupyter-widgets/controls",
      "model_module_version": "2.0.0",
      "model_name": "FloatProgressModel",
      "state": {
       "bar_style": "success",
       "layout": "IPY_MODEL_e3102346c42a46b18cdf923b117d8d3e",
       "max": 72,
       "style": "IPY_MODEL_8badbb20a7c84c069f7d64ea2c28e09c",
       "value": 72
      }
     },
     "dc1cd091eccb41b9840a58b924d4281f": {
      "model_module": "@jupyter-widgets/controls",
      "model_module_version": "2.0.0",
      "model_name": "HTMLModel",
      "state": {
       "layout": "IPY_MODEL_0774994efe8c4259ad8e6e5ffac3de7d",
       "style": "IPY_MODEL_3a2d81151206460994c5ad635e83dcf0",
       "value": " 71/71 [00:02&lt;00:00, 29.81it/s]"
      }
     },
     "dc2498d04271440bafdd70411ea1834c": {
      "model_module": "@jupyter-widgets/controls",
      "model_module_version": "2.0.0",
      "model_name": "HTMLStyleModel",
      "state": {
       "description_width": "",
       "font_size": null,
       "text_color": null
      }
     },
     "dc3816acc6d5440da414d090aa2ec708": {
      "model_module": "@jupyter-widgets/base",
      "model_module_version": "2.0.0",
      "model_name": "LayoutModel",
      "state": {}
     },
     "dc50a597a091468a8e5f6f3710eed336": {
      "model_module": "@jupyter-widgets/controls",
      "model_module_version": "2.0.0",
      "model_name": "ProgressStyleModel",
      "state": {
       "description_width": ""
      }
     },
     "dc512e576f564b81b797f7651a14cc73": {
      "model_module": "@jupyter-widgets/base",
      "model_module_version": "2.0.0",
      "model_name": "LayoutModel",
      "state": {}
     },
     "dc726d86c29846a0a97b781193c0fbb6": {
      "model_module": "@jupyter-widgets/controls",
      "model_module_version": "2.0.0",
      "model_name": "HTMLStyleModel",
      "state": {
       "description_width": "",
       "font_size": null,
       "text_color": null
      }
     },
     "dca7a63675014248b9fd6502c5f9f561": {
      "model_module": "@jupyter-widgets/controls",
      "model_module_version": "2.0.0",
      "model_name": "ProgressStyleModel",
      "state": {
       "description_width": ""
      }
     },
     "dcc8a2a9610448c4a714a32135763417": {
      "model_module": "@jupyter-widgets/controls",
      "model_module_version": "2.0.0",
      "model_name": "HTMLModel",
      "state": {
       "layout": "IPY_MODEL_20da29ddd970416d8dd4d9dfd9cc11d0",
       "style": "IPY_MODEL_6ea01572d72747718b35033d3277d359",
       "value": " 2210/2210 [00:01&lt;00:00, 2198.54it/s]"
      }
     },
     "dcfa65acfd8b4258abf07c22abff1ded": {
      "model_module": "@jupyter-widgets/controls",
      "model_module_version": "2.0.0",
      "model_name": "ProgressStyleModel",
      "state": {
       "description_width": ""
      }
     },
     "dd02fbc8c5fd4c2b87595eb252ab2ab8": {
      "model_module": "@jupyter-widgets/controls",
      "model_module_version": "2.0.0",
      "model_name": "HTMLModel",
      "state": {
       "layout": "IPY_MODEL_f2b55c9964164320b8135c292bbbf9eb",
       "style": "IPY_MODEL_362ab6266f0a44dba9bc7b09baca2cf5",
       "value": " 228/228 [00:26&lt;00:00, 10.23it/s]"
      }
     },
     "dd3de02eb4534d3c84dfe488972e8a10": {
      "model_module": "@jupyter-widgets/base",
      "model_module_version": "2.0.0",
      "model_name": "LayoutModel",
      "state": {}
     },
     "dd6c84ff82a5437e8b7556ce8e590ea9": {
      "model_module": "@jupyter-widgets/controls",
      "model_module_version": "2.0.0",
      "model_name": "HTMLModel",
      "state": {
       "layout": "IPY_MODEL_b7e7ee41474f4a88b467d72f88a7738c",
       "style": "IPY_MODEL_deced61f96354aeaacf2b0c435016851",
       "value": "apply len_bytes to num_bytes: 100%"
      }
     },
     "dda47d2315f1455bafdd1d1133358fe1": {
      "model_module": "@jupyter-widgets/base",
      "model_module_version": "2.0.0",
      "model_name": "LayoutModel",
      "state": {}
     },
     "ddaa65f9961a4cf5a2228ddabce22bf2": {
      "model_module": "@jupyter-widgets/base",
      "model_module_version": "2.0.0",
      "model_name": "LayoutModel",
      "state": {}
     },
     "ddb9fc96f1954090b8bfaeb26769fe45": {
      "model_module": "@jupyter-widgets/base",
      "model_module_version": "2.0.0",
      "model_name": "LayoutModel",
      "state": {}
     },
     "ddcc9f70adaa4b38a19d28a4b549a20d": {
      "model_module": "@jupyter-widgets/controls",
      "model_module_version": "2.0.0",
      "model_name": "FloatProgressModel",
      "state": {
       "bar_style": "success",
       "layout": "IPY_MODEL_2abb44e35f074346a895ac7cead57af2",
       "max": 72,
       "style": "IPY_MODEL_662dd61e80f7404c90322b145189afc4",
       "value": 72
      }
     },
     "ddd7f6323c6f4cee92bc820afea6412b": {
      "model_module": "@jupyter-widgets/controls",
      "model_module_version": "2.0.0",
      "model_name": "ProgressStyleModel",
      "state": {
       "description_width": ""
      }
     },
     "dddda202ea4243a79737b87b302e15c5": {
      "model_module": "@jupyter-widgets/controls",
      "model_module_version": "2.0.0",
      "model_name": "HTMLModel",
      "state": {
       "layout": "IPY_MODEL_955a29e313944143ae14a011eca5886f",
       "style": "IPY_MODEL_6e7ab8a24f9445cdbd0c8a3a71155cd5",
       "value": "apply len_bytes to num_bytes: 100%"
      }
     },
     "de19c00522fc46d5927c6d756426a8a8": {
      "model_module": "@jupyter-widgets/base",
      "model_module_version": "2.0.0",
      "model_name": "LayoutModel",
      "state": {}
     },
     "de1a9c2c488448b6b9f0c97691f208b9": {
      "model_module": "@jupyter-widgets/controls",
      "model_module_version": "2.0.0",
      "model_name": "FloatProgressModel",
      "state": {
       "layout": "IPY_MODEL_3092b4e777004eedab69ef5484a02924",
       "max": 7600,
       "style": "IPY_MODEL_57a89df56c08443f9be6b17c4284ffaa",
       "value": 7600
      }
     },
     "de53fec7b9604e2fbedd6c2c8b0d1ec1": {
      "model_module": "@jupyter-widgets/controls",
      "model_module_version": "2.0.0",
      "model_name": "HTMLModel",
      "state": {
       "layout": "IPY_MODEL_72b10bb8549c48bf9a0b95b02387da59",
       "style": "IPY_MODEL_09de33f5053b48bbbd33e17a6c9c7369",
       "value": " 7075/7075 [00:03&lt;00:00, 2237.65it/s]"
      }
     },
     "de76bad3e65e4eb58a29a8182d753e95": {
      "model_module": "@jupyter-widgets/controls",
      "model_module_version": "2.0.0",
      "model_name": "HTMLStyleModel",
      "state": {
       "description_width": "",
       "font_size": null,
       "text_color": null
      }
     },
     "dea321b0e0e1431b89f8a9f0cd0c48cf": {
      "model_module": "@jupyter-widgets/controls",
      "model_module_version": "2.0.0",
      "model_name": "FloatProgressModel",
      "state": {
       "bar_style": "success",
       "layout": "IPY_MODEL_46c3da6a6d5e4d72be98a7c04ecebbb0",
       "max": 1106,
       "style": "IPY_MODEL_af3a30217887480ca99bcf2019a7b5d3",
       "value": 1106
      }
     },
     "dea54779c27740c2bb119e48cce18787": {
      "model_module": "@jupyter-widgets/controls",
      "model_module_version": "2.0.0",
      "model_name": "HTMLStyleModel",
      "state": {
       "description_width": "",
       "font_size": null,
       "text_color": null
      }
     },
     "debe6eddd1ee4702bc8b3938cf19e662": {
      "model_module": "@jupyter-widgets/controls",
      "model_module_version": "2.0.0",
      "model_name": "HTMLStyleModel",
      "state": {
       "description_width": "",
       "font_size": null,
       "text_color": null
      }
     },
     "dec2d5cf6f1d46da85402ca608ba8245": {
      "model_module": "@jupyter-widgets/controls",
      "model_module_version": "2.0.0",
      "model_name": "HBoxModel",
      "state": {
       "children": [
        "IPY_MODEL_2b6e216dcc1849e8b14de6434cbc0b86",
        "IPY_MODEL_ab5bc4cc142f4f2d82027b89920a4bba",
        "IPY_MODEL_53a500e6e20245b380f0d511cd88d798"
       ],
       "layout": "IPY_MODEL_aa4267d5d67842b5ae1c12641e932486"
      }
     },
     "decbfed6e94b431587b53969b001c3fc": {
      "model_module": "@jupyter-widgets/base",
      "model_module_version": "2.0.0",
      "model_name": "LayoutModel",
      "state": {}
     },
     "deced61f96354aeaacf2b0c435016851": {
      "model_module": "@jupyter-widgets/controls",
      "model_module_version": "2.0.0",
      "model_name": "HTMLStyleModel",
      "state": {
       "description_width": "",
       "font_size": null,
       "text_color": null
      }
     },
     "dedd0c5e2da14510ac27f88a6204a366": {
      "model_module": "@jupyter-widgets/controls",
      "model_module_version": "2.0.0",
      "model_name": "FloatProgressModel",
      "state": {
       "layout": "IPY_MODEL_39635d31a553449bb355c4e9eecb9183",
       "max": 1,
       "style": "IPY_MODEL_cea27eaf1f4646c3b41480c4adc82395"
      }
     },
     "df08f7151aa44c52832a52e559c92dda": {
      "model_module": "@jupyter-widgets/controls",
      "model_module_version": "2.0.0",
      "model_name": "FloatProgressModel",
      "state": {
       "bar_style": "success",
       "layout": "IPY_MODEL_06c3d9f269c44115b38eaa99fce53ea4",
       "max": 139,
       "style": "IPY_MODEL_47caa0bc51ca4b5483d9015fd089b3c1",
       "value": 139
      }
     },
     "df1c6bd1434344869f26b7fbeea69b1a": {
      "model_module": "@jupyter-widgets/controls",
      "model_module_version": "2.0.0",
      "model_name": "VBoxModel",
      "state": {
       "children": [
        "IPY_MODEL_6f64cd838fb44b51bde463bc124b163b",
        "IPY_MODEL_99870122711a411d88de0631d14fddf7"
       ],
       "layout": "IPY_MODEL_b0fc6c1742204649a11b60aa4336a75a"
      }
     },
     "df385d8bbaed4d1a8fc6337068626f2d": {
      "model_module": "@jupyter-widgets/controls",
      "model_module_version": "2.0.0",
      "model_name": "HTMLStyleModel",
      "state": {
       "description_width": "",
       "font_size": null,
       "text_color": null
      }
     },
     "df3901a2705f428ea1b5119d43bd2a2c": {
      "model_module": "@jupyter-widgets/base",
      "model_module_version": "2.0.0",
      "model_name": "LayoutModel",
      "state": {}
     },
     "df81454612514459bf4c6383caa97545": {
      "model_module": "@jupyter-widgets/controls",
      "model_module_version": "2.0.0",
      "model_name": "HTMLStyleModel",
      "state": {
       "description_width": "",
       "font_size": null,
       "text_color": null
      }
     },
     "dfaf78989d1643d3aaae16e4155abfd0": {
      "model_module": "@jupyter-widgets/base",
      "model_module_version": "2.0.0",
      "model_name": "LayoutModel",
      "state": {}
     },
     "e02bd6b0ca3841819f2711526faf79b5": {
      "model_module": "@jupyter-widgets/controls",
      "model_module_version": "2.0.0",
      "model_name": "HTMLStyleModel",
      "state": {
       "description_width": "",
       "font_size": null,
       "text_color": null
      }
     },
     "e05bc8cf6d4f42d4a938c688c9a8d7e5": {
      "model_module": "@jupyter-widgets/controls",
      "model_module_version": "2.0.0",
      "model_name": "ProgressStyleModel",
      "state": {
       "description_width": ""
      }
     },
     "e065738f86724c8197be5aca04af39a6": {
      "model_module": "@jupyter-widgets/controls",
      "model_module_version": "2.0.0",
      "model_name": "LabelModel",
      "state": {
       "layout": "IPY_MODEL_d9cf62077f1c49c8acc6b4f8906bca57",
       "style": "IPY_MODEL_2d4975089d8746caad55baa554f72dd3",
       "value": "0.016 MB of 0.016 MB uploaded (0.000 MB deduped)\r"
      }
     },
     "e0c056b08dac4c7f8c454944c75bc6c3": {
      "model_module": "@jupyter-widgets/controls",
      "model_module_version": "2.0.0",
      "model_name": "HTMLStyleModel",
      "state": {
       "description_width": "",
       "font_size": null,
       "text_color": null
      }
     },
     "e0cab1728be8458e92d39715103aac25": {
      "model_module": "@jupyter-widgets/base",
      "model_module_version": "2.0.0",
      "model_name": "LayoutModel",
      "state": {}
     },
     "e0fb8983af3847939fa51278c5e2b771": {
      "model_module": "@jupyter-widgets/base",
      "model_module_version": "2.0.0",
      "model_name": "LayoutModel",
      "state": {}
     },
     "e12a0a58193e45edab399883f9bb5ede": {
      "model_module": "@jupyter-widgets/controls",
      "model_module_version": "2.0.0",
      "model_name": "HTMLStyleModel",
      "state": {
       "description_width": "",
       "font_size": null,
       "text_color": null
      }
     },
     "e13d162407b24af997784d2f3c1d4cf7": {
      "model_module": "@jupyter-widgets/controls",
      "model_module_version": "2.0.0",
      "model_name": "FloatProgressModel",
      "state": {
       "bar_style": "success",
       "layout": "IPY_MODEL_19e572e062214651adee2529f22aaa0d",
       "max": 289,
       "style": "IPY_MODEL_9149f22589aa44aa9435ca3744d00b0c",
       "value": 289
      }
     },
     "e1429fa1533a4d62bcb09cdb74c557b2": {
      "model_module": "@jupyter-widgets/controls",
      "model_module_version": "2.0.0",
      "model_name": "LabelStyleModel",
      "state": {
       "description_width": "",
       "font_family": null,
       "font_size": null,
       "font_style": null,
       "font_variant": null,
       "font_weight": null,
       "text_color": null,
       "text_decoration": null
      }
     },
     "e14485869ee4468eb37cc1c343fa7fed": {
      "model_module": "@jupyter-widgets/base",
      "model_module_version": "2.0.0",
      "model_name": "LayoutModel",
      "state": {}
     },
     "e17880e6003146ba9a07db012d7aacb2": {
      "model_module": "@jupyter-widgets/controls",
      "model_module_version": "2.0.0",
      "model_name": "HTMLStyleModel",
      "state": {
       "description_width": "",
       "font_size": null,
       "text_color": null
      }
     },
     "e17c1c1d564544d69a272fcd3e524d15": {
      "model_module": "@jupyter-widgets/controls",
      "model_module_version": "2.0.0",
      "model_name": "HTMLModel",
      "state": {
       "layout": "IPY_MODEL_6093fe3f7adb4f6ba4cd96bf3ec7963b",
       "style": "IPY_MODEL_63d240243f084a5baad20315145cc599",
       "value": " 7074/7074 [00:03&lt;00:00, 2261.06it/s]"
      }
     },
     "e193898821054e8ba3c2e749df037178": {
      "model_module": "@jupyter-widgets/controls",
      "model_module_version": "2.0.0",
      "model_name": "ProgressStyleModel",
      "state": {
       "description_width": ""
      }
     },
     "e1ad8ff5e2644463a6231a83e5885f44": {
      "model_module": "@jupyter-widgets/controls",
      "model_module_version": "2.0.0",
      "model_name": "HBoxModel",
      "state": {
       "children": [
        "IPY_MODEL_a2d1ede4657945da9bb62a3a3c5e5589",
        "IPY_MODEL_e320fc6c42674234a900b169e5f9240f",
        "IPY_MODEL_8eae7e0220ac430889731d7561b8a637"
       ],
       "layout": "IPY_MODEL_0591fae03dff42699190ef8b6a8ee79d"
      }
     },
     "e1c17ade45c140a88e84a12a540df01c": {
      "model_module": "@jupyter-widgets/base",
      "model_module_version": "2.0.0",
      "model_name": "LayoutModel",
      "state": {}
     },
     "e253a1080a72409eb11bc9d7977b0092": {
      "model_module": "@jupyter-widgets/controls",
      "model_module_version": "2.0.0",
      "model_name": "HTMLModel",
      "state": {
       "layout": "IPY_MODEL_11a720b069f24279a9201f1e171633a6",
       "style": "IPY_MODEL_ccb74ccd82a34604aac645b906e11a2a",
       "value": " 72/72 [00:02&lt;00:00, 29.67it/s]"
      }
     },
     "e273933b92b84cb68eab50ff0b261cb6": {
      "model_module": "@jupyter-widgets/controls",
      "model_module_version": "2.0.0",
      "model_name": "FloatProgressModel",
      "state": {
       "layout": "IPY_MODEL_d952100ea43d4468973d9da0b549ecf3",
       "max": 1,
       "style": "IPY_MODEL_b598b7d9f4c441e1ac60a5a22fb28476"
      }
     },
     "e2824f540c22428b8ae12dd7fc988f35": {
      "model_module": "@jupyter-widgets/controls",
      "model_module_version": "2.0.0",
      "model_name": "LabelModel",
      "state": {
       "layout": "IPY_MODEL_d3afee6dbc784c7a8216697f0b2afd9b",
       "style": "IPY_MODEL_69f8e46a0d4d43a087817aa04803db80"
      }
     },
     "e28563d84025420a9345988f872f0e1e": {
      "model_module": "@jupyter-widgets/controls",
      "model_module_version": "2.0.0",
      "model_name": "HBoxModel",
      "state": {
       "children": [
        "IPY_MODEL_23cbf0af126940049eebe86441b82f88",
        "IPY_MODEL_1abd50c4eb994b1a9a11da918c6c4725",
        "IPY_MODEL_174eceb9efdf43738021035c8795740e"
       ],
       "layout": "IPY_MODEL_7e3b5929d459459b9e6618ebf3c78c87"
      }
     },
     "e292726c57d241188670220678f2b979": {
      "model_module": "@jupyter-widgets/controls",
      "model_module_version": "2.0.0",
      "model_name": "HTMLModel",
      "state": {
       "layout": "IPY_MODEL_f5adca54059b490b8207705318eda01a",
       "style": "IPY_MODEL_4d6a77a8bce943e79f21cf1478a2a6a1",
       "value": " 230/230 [00:00&lt;00:00, 891.37it/s]"
      }
     },
     "e2a407fd7c744585b2688e37db21f6a0": {
      "model_module": "@jupyter-widgets/controls",
      "model_module_version": "2.0.0",
      "model_name": "HTMLStyleModel",
      "state": {
       "description_width": "",
       "font_size": null,
       "text_color": null
      }
     },
     "e2e30cff73624acfaf2614389bd7ee2d": {
      "model_module": "@jupyter-widgets/controls",
      "model_module_version": "2.0.0",
      "model_name": "HTMLModel",
      "state": {
       "layout": "IPY_MODEL_5dade8aec11e40b688f22076189e36b5",
       "style": "IPY_MODEL_bc83870f82e141a5a1eb1d81d8fe417d",
       "value": "100%"
      }
     },
     "e3102346c42a46b18cdf923b117d8d3e": {
      "model_module": "@jupyter-widgets/base",
      "model_module_version": "2.0.0",
      "model_name": "LayoutModel",
      "state": {}
     },
     "e320fc6c42674234a900b169e5f9240f": {
      "model_module": "@jupyter-widgets/controls",
      "model_module_version": "2.0.0",
      "model_name": "FloatProgressModel",
      "state": {
       "bar_style": "success",
       "layout": "IPY_MODEL_253dbf5dc5ea4058b07f497dac4396e5",
       "max": 2,
       "style": "IPY_MODEL_f9f7450bc60144e49d34edbe252eb403",
       "value": 2
      }
     },
     "e32105f9010b492293c068deb5957ec7": {
      "model_module": "@jupyter-widgets/base",
      "model_module_version": "2.0.0",
      "model_name": "LayoutModel",
      "state": {}
     },
     "e32877cadddb48b0bad879a27134d698": {
      "model_module": "@jupyter-widgets/controls",
      "model_module_version": "2.0.0",
      "model_name": "LabelModel",
      "state": {
       "layout": "IPY_MODEL_b08c7d25e554437a948f0d0853fa198e",
       "style": "IPY_MODEL_e1429fa1533a4d62bcb09cdb74c557b2"
      }
     },
     "e3505a7e074a4dc9aa8ad6cf7e32d543": {
      "model_module": "@jupyter-widgets/controls",
      "model_module_version": "2.0.0",
      "model_name": "HTMLStyleModel",
      "state": {
       "description_width": "",
       "font_size": null,
       "text_color": null
      }
     },
     "e35304a3e0664645901a1e0ce626651f": {
      "model_module": "@jupyter-widgets/base",
      "model_module_version": "2.0.0",
      "model_name": "LayoutModel",
      "state": {}
     },
     "e35ab8c501be4e1ea8b6651e0688f651": {
      "model_module": "@jupyter-widgets/controls",
      "model_module_version": "2.0.0",
      "model_name": "HTMLModel",
      "state": {
       "layout": "IPY_MODEL_400b0abc939a46c0b1cfc364a4b659a8",
       "style": "IPY_MODEL_c5b3abfef531488f8219a3e3c3c68c3d",
       "value": " 199/199 [00:00&lt;00:00, 512.05it/s]"
      }
     },
     "e39fc4b747fb4a63b5652453f6d30712": {
      "model_module": "@jupyter-widgets/controls",
      "model_module_version": "2.0.0",
      "model_name": "HTMLModel",
      "state": {
       "layout": "IPY_MODEL_a4fffae6d2364a0e912609d6297d5211",
       "style": "IPY_MODEL_1bd08d2933984effa8d0497ca6f3f995",
       "value": "apply len_bytes to num_bytes: 100%"
      }
     },
     "e3c04ee998dd489685aafec89e5538f4": {
      "model_module": "@jupyter-widgets/base",
      "model_module_version": "2.0.0",
      "model_name": "LayoutModel",
      "state": {}
     },
     "e3dd2c7dbbf540a09503b4be0f0cde14": {
      "model_module": "@jupyter-widgets/controls",
      "model_module_version": "2.0.0",
      "model_name": "HTMLStyleModel",
      "state": {
       "description_width": "",
       "font_size": null,
       "text_color": null
      }
     },
     "e3f321037ca742408d635c062fae0098": {
      "model_module": "@jupyter-widgets/controls",
      "model_module_version": "2.0.0",
      "model_name": "HBoxModel",
      "state": {
       "children": [
        "IPY_MODEL_87406623ed624f35a0c70405da709fdf",
        "IPY_MODEL_bd0f8497cdc743c89137bfd4d4735c6b",
        "IPY_MODEL_6036e48b59c64074a26871edc15876ca"
       ],
       "layout": "IPY_MODEL_06e4f2896766478fbbeea9b098ef2b69"
      }
     },
     "e473ff6e5be34d769676053eb77e604e": {
      "model_module": "@jupyter-widgets/controls",
      "model_module_version": "2.0.0",
      "model_name": "HBoxModel",
      "state": {
       "children": [
        "IPY_MODEL_32e28d44b1a944418ff2b41dcf6544eb",
        "IPY_MODEL_a15eed4e9aa84d10aabf07831c48e526",
        "IPY_MODEL_1eaabd793c1843628253a893e6ef1c9e"
       ],
       "layout": "IPY_MODEL_994f5f22e429466999bc45089f5d6e6c"
      }
     },
     "e4788e55b9a04f839058f4239413dc85": {
      "model_module": "@jupyter-widgets/base",
      "model_module_version": "2.0.0",
      "model_name": "LayoutModel",
      "state": {}
     },
     "e4a5e9c47bd446e995612adde2a38759": {
      "model_module": "@jupyter-widgets/controls",
      "model_module_version": "2.0.0",
      "model_name": "HTMLStyleModel",
      "state": {
       "description_width": "",
       "font_size": null,
       "text_color": null
      }
     },
     "e4b63b8ffb924f03bff03a318bacb56b": {
      "model_module": "@jupyter-widgets/controls",
      "model_module_version": "2.0.0",
      "model_name": "HTMLStyleModel",
      "state": {
       "description_width": "",
       "font_size": null,
       "text_color": null
      }
     },
     "e4db4b34e08d40548aab709a8f228016": {
      "model_module": "@jupyter-widgets/controls",
      "model_module_version": "2.0.0",
      "model_name": "HTMLStyleModel",
      "state": {
       "description_width": "",
       "font_size": null,
       "text_color": null
      }
     },
     "e5286942d3264b43a5b8f2bc9bfde555": {
      "model_module": "@jupyter-widgets/controls",
      "model_module_version": "2.0.0",
      "model_name": "HTMLModel",
      "state": {
       "layout": "IPY_MODEL_e0fb8983af3847939fa51278c5e2b771",
       "style": "IPY_MODEL_20dbd7a5a705432c8a639fd72f29a8b8",
       "value": " 289/289 [00:33&lt;00:00, 10.64it/s]"
      }
     },
     "e5334f6510c9448789db21f68e351438": {
      "model_module": "@jupyter-widgets/base",
      "model_module_version": "2.0.0",
      "model_name": "LayoutModel",
      "state": {}
     },
     "e5542fbfff104a849f63335547544d6b": {
      "model_module": "@jupyter-widgets/controls",
      "model_module_version": "2.0.0",
      "model_name": "FloatProgressModel",
      "state": {
       "layout": "IPY_MODEL_106338441a0d47a5aa503bff4d2dd76c",
       "max": 1,
       "style": "IPY_MODEL_d8dbafb5278b464383ddcf9b22e78ac7"
      }
     },
     "e5618085419d414ba1ac5e3d2ed4a4a4": {
      "model_module": "@jupyter-widgets/controls",
      "model_module_version": "2.0.0",
      "model_name": "ProgressStyleModel",
      "state": {
       "description_width": ""
      }
     },
     "e59b8443d4c449688551f0d7d02dfd63": {
      "model_module": "@jupyter-widgets/base",
      "model_module_version": "2.0.0",
      "model_name": "LayoutModel",
      "state": {}
     },
     "e5cb8380619f47d79109db15fc51b8bc": {
      "model_module": "@jupyter-widgets/base",
      "model_module_version": "2.0.0",
      "model_name": "LayoutModel",
      "state": {}
     },
     "e5f3cfe25279403f8c1004eda1fc08af": {
      "model_module": "@jupyter-widgets/base",
      "model_module_version": "2.0.0",
      "model_name": "LayoutModel",
      "state": {}
     },
     "e5f5af9b8d594ec996fa635b079e7a5a": {
      "model_module": "@jupyter-widgets/base",
      "model_module_version": "2.0.0",
      "model_name": "LayoutModel",
      "state": {}
     },
     "e6c5b97083774ce18aeee9c142452177": {
      "model_module": "@jupyter-widgets/base",
      "model_module_version": "2.0.0",
      "model_name": "LayoutModel",
      "state": {}
     },
     "e7090ee209644fc0bf271350234866c2": {
      "model_module": "@jupyter-widgets/controls",
      "model_module_version": "2.0.0",
      "model_name": "FloatProgressModel",
      "state": {
       "bar_style": "success",
       "layout": "IPY_MODEL_ea20f4ce396344adaa6488bdc836cbc2",
       "max": 599,
       "style": "IPY_MODEL_098adce03b7141049b9319dc836760cc",
       "value": 599
      }
     },
     "e712e2c3ef1e4fa191391908eebd8c44": {
      "model_module": "@jupyter-widgets/controls",
      "model_module_version": "2.0.0",
      "model_name": "VBoxModel",
      "state": {
       "children": [
        "IPY_MODEL_a887d5de3c784ec5a2da41c51ed89218",
        "IPY_MODEL_1b286fc5248141a5a18ba637293ecacb"
       ],
       "layout": "IPY_MODEL_fa8a31e5a75e4dd3a01b82a9950f324c"
      }
     },
     "e71548282d69497fb9e83823627fbb7e": {
      "model_module": "@jupyter-widgets/controls",
      "model_module_version": "2.0.0",
      "model_name": "HBoxModel",
      "state": {
       "children": [
        "IPY_MODEL_53ccb707e4d24866b0bf7fa43fd39497",
        "IPY_MODEL_8087ac228fb34474a267525542a5f80e",
        "IPY_MODEL_e75a71a640e6408da4887539c886304e"
       ],
       "layout": "IPY_MODEL_1c1afe9822a24eb7bade6671f0c96692"
      }
     },
     "e7212cc1842b4d5cba8b8fd48523a632": {
      "model_module": "@jupyter-widgets/controls",
      "model_module_version": "2.0.0",
      "model_name": "ProgressStyleModel",
      "state": {
       "description_width": ""
      }
     },
     "e755cb8c08b44a27a02ce553a760d96c": {
      "model_module": "@jupyter-widgets/base",
      "model_module_version": "2.0.0",
      "model_name": "LayoutModel",
      "state": {}
     },
     "e75739eac53a47c19c946b129975b2af": {
      "model_module": "@jupyter-widgets/base",
      "model_module_version": "2.0.0",
      "model_name": "LayoutModel",
      "state": {}
     },
     "e75a71a640e6408da4887539c886304e": {
      "model_module": "@jupyter-widgets/controls",
      "model_module_version": "2.0.0",
      "model_name": "HTMLModel",
      "state": {
       "layout": "IPY_MODEL_187783234df04022aa1b55717e0733e9",
       "style": "IPY_MODEL_cca0d08e3d534cbebcb0a4a3ccac5ca0",
       "value": " 36/36 [00:01&lt;00:00, 29.45it/s]"
      }
     },
     "e7838acc2ea84688aed2a27425bffa94": {
      "model_module": "@jupyter-widgets/controls",
      "model_module_version": "2.0.0",
      "model_name": "HTMLStyleModel",
      "state": {
       "description_width": "",
       "font_size": null,
       "text_color": null
      }
     },
     "e7a16e64caf7468eb01beea8126e2863": {
      "model_module": "@jupyter-widgets/controls",
      "model_module_version": "2.0.0",
      "model_name": "ProgressStyleModel",
      "state": {
       "description_width": ""
      }
     },
     "e7ad9bfafc4e46cdb4e677716dee8dc9": {
      "model_module": "@jupyter-widgets/controls",
      "model_module_version": "2.0.0",
      "model_name": "LabelModel",
      "state": {
       "layout": "IPY_MODEL_786ac8e51e5d4c0093c9bcdaa7d075f5",
       "style": "IPY_MODEL_f1926c4a43f24984ba9bf55e9d7fda7a"
      }
     },
     "e7b98a3668444eea9c7c301361d89733": {
      "model_module": "@jupyter-widgets/base",
      "model_module_version": "2.0.0",
      "model_name": "LayoutModel",
      "state": {}
     },
     "e82e177e55a74a2493f36d03f777e156": {
      "model_module": "@jupyter-widgets/base",
      "model_module_version": "2.0.0",
      "model_name": "LayoutModel",
      "state": {}
     },
     "e88b6151b88442088463ab38c861e55f": {
      "model_module": "@jupyter-widgets/base",
      "model_module_version": "2.0.0",
      "model_name": "LayoutModel",
      "state": {}
     },
     "e89afd941c584809b4f8a120f935a490": {
      "model_module": "@jupyter-widgets/base",
      "model_module_version": "2.0.0",
      "model_name": "LayoutModel",
      "state": {}
     },
     "e8b72b74be4d477f8f3b7e2b0950e59d": {
      "model_module": "@jupyter-widgets/controls",
      "model_module_version": "2.0.0",
      "model_name": "HTMLStyleModel",
      "state": {
       "description_width": "",
       "font_size": null,
       "text_color": null
      }
     },
     "e8d91232e5364e83809954a4324badb0": {
      "model_module": "@jupyter-widgets/controls",
      "model_module_version": "2.0.0",
      "model_name": "FloatProgressModel",
      "state": {
       "bar_style": "success",
       "layout": "IPY_MODEL_6165f092192141b488847f7b95ed4709",
       "max": 2,
       "style": "IPY_MODEL_887af96da579483db395b5e02f7977b8",
       "value": 2
      }
     },
     "e8f8f15345124f1fb03de7a34ab6ab68": {
      "model_module": "@jupyter-widgets/controls",
      "model_module_version": "2.0.0",
      "model_name": "HBoxModel",
      "state": {
       "children": [
        "IPY_MODEL_f5413ffab8cb479f97ac74d68f4a0acf",
        "IPY_MODEL_64ed90f938394536bf87daf6bc0a54ad",
        "IPY_MODEL_20189e8dbbc04aa6a24c56c667b54d2b"
       ],
       "layout": "IPY_MODEL_ac528898306f467bb546d43804383400"
      }
     },
     "e911f9332044407c8ee361350cb56ed8": {
      "model_module": "@jupyter-widgets/controls",
      "model_module_version": "2.0.0",
      "model_name": "HTMLStyleModel",
      "state": {
       "description_width": "",
       "font_size": null,
       "text_color": null
      }
     },
     "e92a8acadeda4c3aba26aa90ed293a71": {
      "model_module": "@jupyter-widgets/base",
      "model_module_version": "2.0.0",
      "model_name": "LayoutModel",
      "state": {}
     },
     "e95751c0ad874c1ebe880f138b391233": {
      "model_module": "@jupyter-widgets/controls",
      "model_module_version": "2.0.0",
      "model_name": "HTMLStyleModel",
      "state": {
       "description_width": "",
       "font_size": null,
       "text_color": null
      }
     },
     "e97b317e263f40de8d167784782f0a27": {
      "model_module": "@jupyter-widgets/base",
      "model_module_version": "2.0.0",
      "model_name": "LayoutModel",
      "state": {}
     },
     "e9970d08e5a74b198ec8047d16513306": {
      "model_module": "@jupyter-widgets/base",
      "model_module_version": "2.0.0",
      "model_name": "LayoutModel",
      "state": {}
     },
     "e9a1fff94cde414f8b011f7ad6cc2fc3": {
      "model_module": "@jupyter-widgets/base",
      "model_module_version": "2.0.0",
      "model_name": "LayoutModel",
      "state": {}
     },
     "e9e15a9e2f904b2f85af490d4dbbe09a": {
      "model_module": "@jupyter-widgets/base",
      "model_module_version": "2.0.0",
      "model_name": "LayoutModel",
      "state": {}
     },
     "ea19b21255e040359ece62ecf069f326": {
      "model_module": "@jupyter-widgets/controls",
      "model_module_version": "2.0.0",
      "model_name": "HBoxModel",
      "state": {
       "children": [
        "IPY_MODEL_28504571109b470992d38881ff422c9f",
        "IPY_MODEL_07e77630e5d641508093d2961ae786da",
        "IPY_MODEL_ae4480f3dcbe470289372e61809ff91a"
       ],
       "layout": "IPY_MODEL_6e3f2c0cf6c74154b7541db9efbb92c8"
      }
     },
     "ea20f4ce396344adaa6488bdc836cbc2": {
      "model_module": "@jupyter-widgets/base",
      "model_module_version": "2.0.0",
      "model_name": "LayoutModel",
      "state": {}
     },
     "ea21253b51464e668d1ec730849fdbd7": {
      "model_module": "@jupyter-widgets/base",
      "model_module_version": "2.0.0",
      "model_name": "LayoutModel",
      "state": {}
     },
     "ea49820dfde14d6cb271d44411a64cee": {
      "model_module": "@jupyter-widgets/controls",
      "model_module_version": "2.0.0",
      "model_name": "ProgressStyleModel",
      "state": {
       "description_width": ""
      }
     },
     "ea4ec09c75fd4934b8ee9773e37b67ec": {
      "model_module": "@jupyter-widgets/base",
      "model_module_version": "2.0.0",
      "model_name": "LayoutModel",
      "state": {}
     },
     "eb4fdbfa598d4cfe8a35cc46e1b70d50": {
      "model_module": "@jupyter-widgets/controls",
      "model_module_version": "2.0.0",
      "model_name": "FloatProgressModel",
      "state": {
       "bar_style": "success",
       "layout": "IPY_MODEL_a1c08bfcb5b048a693540a356771e16b",
       "max": 8953,
       "style": "IPY_MODEL_c9a10025c3ab42b89ecf8586c60407e2",
       "value": 8953
      }
     },
     "eb510e8899c74501a820e8218c757693": {
      "model_module": "@jupyter-widgets/controls",
      "model_module_version": "2.0.0",
      "model_name": "FloatProgressModel",
      "state": {
       "layout": "IPY_MODEL_5e63e3a749a34ef5bce2e31b1495bf52",
       "max": 1,
       "style": "IPY_MODEL_f8606fe9f01848f48b386370d9844afd"
      }
     },
     "eb806e8805eb4363b77aceae47417478": {
      "model_module": "@jupyter-widgets/base",
      "model_module_version": "2.0.0",
      "model_name": "LayoutModel",
      "state": {}
     },
     "ebce17870b3f462d9a790f74b444dea0": {
      "model_module": "@jupyter-widgets/base",
      "model_module_version": "2.0.0",
      "model_name": "LayoutModel",
      "state": {}
     },
     "ebe8625df76147e0946a3a468e962db2": {
      "model_module": "@jupyter-widgets/base",
      "model_module_version": "2.0.0",
      "model_name": "LayoutModel",
      "state": {}
     },
     "ebe8ecff575f4b6f90432acc487ff9cd": {
      "model_module": "@jupyter-widgets/base",
      "model_module_version": "2.0.0",
      "model_name": "LayoutModel",
      "state": {}
     },
     "ec1a249b88bd4fa3a887355a785c09e7": {
      "model_module": "@jupyter-widgets/base",
      "model_module_version": "2.0.0",
      "model_name": "LayoutModel",
      "state": {}
     },
     "ec281af80a8547c8a2b281550c31d7e2": {
      "model_module": "@jupyter-widgets/controls",
      "model_module_version": "2.0.0",
      "model_name": "HBoxModel",
      "state": {
       "children": [
        "IPY_MODEL_a114d061bdbe46048baafedaa3344e83",
        "IPY_MODEL_fe89dfe106d342368077dd77feeb4400",
        "IPY_MODEL_71d471f9ed9c47838b39aa27c2f74955"
       ],
       "layout": "IPY_MODEL_6ac885484bb64770b05f2cedeb9753a9"
      }
     },
     "ec640328250d4c5c9aac26963e40d52c": {
      "model_module": "@jupyter-widgets/base",
      "model_module_version": "2.0.0",
      "model_name": "LayoutModel",
      "state": {}
     },
     "ec8fbd520958405cb9b2aac5a222562f": {
      "model_module": "@jupyter-widgets/controls",
      "model_module_version": "2.0.0",
      "model_name": "FloatProgressModel",
      "state": {
       "bar_style": "success",
       "layout": "IPY_MODEL_cc43c3c0a53c4082b91ec70231d0e883",
       "max": 36,
       "style": "IPY_MODEL_5cde9d7404ee47a6951188bb49570ee6",
       "value": 36
      }
     },
     "ecca0fa8fdb1405291c30a8857774f9d": {
      "model_module": "@jupyter-widgets/base",
      "model_module_version": "2.0.0",
      "model_name": "LayoutModel",
      "state": {}
     },
     "eccbd80ee8064fe797debea9ef416290": {
      "model_module": "@jupyter-widgets/controls",
      "model_module_version": "2.0.0",
      "model_name": "HTMLModel",
      "state": {
       "layout": "IPY_MODEL_067448d5da8d4e8e930f088d7d24f980",
       "style": "IPY_MODEL_149569d395f1435ebb79e2686c11a6ac",
       "value": "100%"
      }
     },
     "ecda8ebe188c42b290ada1e1d93bf2f0": {
      "model_module": "@jupyter-widgets/base",
      "model_module_version": "2.0.0",
      "model_name": "LayoutModel",
      "state": {}
     },
     "ecdb4b086cfe4f8cbb654520c038fe00": {
      "model_module": "@jupyter-widgets/controls",
      "model_module_version": "2.0.0",
      "model_name": "HTMLStyleModel",
      "state": {
       "description_width": "",
       "font_size": null,
       "text_color": null
      }
     },
     "ece700ac67cf4a83af4f3e34e8284b0d": {
      "model_module": "@jupyter-widgets/base",
      "model_module_version": "2.0.0",
      "model_name": "LayoutModel",
      "state": {}
     },
     "ecf0e7152bf24c498751388a95c218ae": {
      "model_module": "@jupyter-widgets/controls",
      "model_module_version": "2.0.0",
      "model_name": "FloatProgressModel",
      "state": {
       "bar_style": "success",
       "layout": "IPY_MODEL_a805593692164e6e9efee08569522586",
       "max": 1466734,
       "style": "IPY_MODEL_ed3d73508c6842779e5e67fc5e5994d6",
       "value": 1466734
      }
     },
     "ecf7f6a6762f4ab891ed4b6b68009a82": {
      "model_module": "@jupyter-widgets/base",
      "model_module_version": "2.0.0",
      "model_name": "LayoutModel",
      "state": {}
     },
     "ed18a8c6e56a4cc38b0e24282e767558": {
      "model_module": "@jupyter-widgets/controls",
      "model_module_version": "2.0.0",
      "model_name": "HBoxModel",
      "state": {
       "children": [
        "IPY_MODEL_301a61884cde4527924005b3e200cf0a",
        "IPY_MODEL_38ade6957084482e9073009fb7ae5a5d",
        "IPY_MODEL_1711eea93197431c809f1da9947847ac"
       ],
       "layout": "IPY_MODEL_efbc8c8aaa294d98aaf4bde99023e135"
      }
     },
     "ed32ed84ab534d75bcde82ce943ccf93": {
      "model_module": "@jupyter-widgets/controls",
      "model_module_version": "2.0.0",
      "model_name": "FloatProgressModel",
      "state": {
       "bar_style": "success",
       "layout": "IPY_MODEL_f43e1d6f4231490c914515ce30f7c522",
       "max": 222,
       "style": "IPY_MODEL_69c0cad07de34d83b3163dea64fd9e6d",
       "value": 222
      }
     },
     "ed34c766f8634d9aa35e03128600724b": {
      "model_module": "@jupyter-widgets/controls",
      "model_module_version": "2.0.0",
      "model_name": "HTMLStyleModel",
      "state": {
       "description_width": "",
       "font_size": null,
       "text_color": null
      }
     },
     "ed3d73508c6842779e5e67fc5e5994d6": {
      "model_module": "@jupyter-widgets/controls",
      "model_module_version": "2.0.0",
      "model_name": "ProgressStyleModel",
      "state": {
       "description_width": ""
      }
     },
     "ed7fad22736646bc882843f655548114": {
      "model_module": "@jupyter-widgets/base",
      "model_module_version": "2.0.0",
      "model_name": "LayoutModel",
      "state": {}
     },
     "ed9f17b1dce1479bb04d274b341477c9": {
      "model_module": "@jupyter-widgets/base",
      "model_module_version": "2.0.0",
      "model_name": "LayoutModel",
      "state": {}
     },
     "eda044b5be6d45e59863263592c2445d": {
      "model_module": "@jupyter-widgets/controls",
      "model_module_version": "2.0.0",
      "model_name": "HTMLStyleModel",
      "state": {
       "description_width": "",
       "font_size": null,
       "text_color": null
      }
     },
     "eddd75e22c9c469daa7e38c71648b01a": {
      "model_module": "@jupyter-widgets/controls",
      "model_module_version": "2.0.0",
      "model_name": "HTMLModel",
      "state": {
       "layout": "IPY_MODEL_08078cdd79af473ca78b94948978f052",
       "style": "IPY_MODEL_757b715cb67a4981bf843cee5677569f",
       "value": "Downloading config.json: 100%"
      }
     },
     "edf59dd2f4e44eb1990f6216336541a4": {
      "model_module": "@jupyter-widgets/base",
      "model_module_version": "2.0.0",
      "model_name": "LayoutModel",
      "state": {}
     },
     "ee28e0eee35348ea92d6b13681ff1d39": {
      "model_module": "@jupyter-widgets/controls",
      "model_module_version": "2.0.0",
      "model_name": "FloatProgressModel",
      "state": {
       "bar_style": "success",
       "layout": "IPY_MODEL_3803eaa3586b4bd4905d5b4feb6edbec",
       "max": 228,
       "style": "IPY_MODEL_3b1bee23ae1c4b6bb121008615058c85",
       "value": 228
      }
     },
     "ee7e24d762394a96a521f67340130c10": {
      "model_module": "@jupyter-widgets/controls",
      "model_module_version": "2.0.0",
      "model_name": "HTMLStyleModel",
      "state": {
       "description_width": "",
       "font_size": null,
       "text_color": null
      }
     },
     "eea7c777f5964fd0ad5a6fdf42098608": {
      "model_module": "@jupyter-widgets/controls",
      "model_module_version": "2.0.0",
      "model_name": "HTMLModel",
      "state": {
       "layout": "IPY_MODEL_a14a7433d5994f7e82fb7183252ccbae",
       "style": "IPY_MODEL_9f8ee33d091041f8a1728fd36641afcf",
       "value": " 2/2 [01:12&lt;00:00, 35.60s/it]"
      }
     },
     "eeb11f417ef94c4c86369f6682ec4a6b": {
      "model_module": "@jupyter-widgets/controls",
      "model_module_version": "2.0.0",
      "model_name": "HTMLModel",
      "state": {
       "layout": "IPY_MODEL_972cbfe673fe4d26a1ab5a1c9d664295",
       "style": "IPY_MODEL_d9e25ef5a679439f8aeff354692674ca",
       "value": " 199/199 [00:00&lt;00:00, 968.80it/s]"
      }
     },
     "eed0570166f3425d86c53b84c697afd6": {
      "model_module": "@jupyter-widgets/base",
      "model_module_version": "2.0.0",
      "model_name": "LayoutModel",
      "state": {}
     },
     "ef4eb246635f4ffa91f04b341d7d14eb": {
      "model_module": "@jupyter-widgets/controls",
      "model_module_version": "2.0.0",
      "model_name": "ProgressStyleModel",
      "state": {
       "description_width": ""
      }
     },
     "efbc8c8aaa294d98aaf4bde99023e135": {
      "model_module": "@jupyter-widgets/base",
      "model_module_version": "2.0.0",
      "model_name": "LayoutModel",
      "state": {}
     },
     "f00bcfd888924045bb8f335db84524e3": {
      "model_module": "@jupyter-widgets/base",
      "model_module_version": "2.0.0",
      "model_name": "LayoutModel",
      "state": {}
     },
     "f00edf773f9a4ea3aec5aff7de98a466": {
      "model_module": "@jupyter-widgets/controls",
      "model_module_version": "2.0.0",
      "model_name": "ProgressStyleModel",
      "state": {
       "description_width": ""
      }
     },
     "f011aed6361642e893a3c50bfce067aa": {
      "model_module": "@jupyter-widgets/controls",
      "model_module_version": "2.0.0",
      "model_name": "HTMLModel",
      "state": {
       "layout": "IPY_MODEL_eb806e8805eb4363b77aceae47417478",
       "style": "IPY_MODEL_fa951d299d61452c997d63031e3bc74d",
       "value": "100%"
      }
     },
     "f0711484930a41fcb3e4a8aad19bfa36": {
      "model_module": "@jupyter-widgets/controls",
      "model_module_version": "2.0.0",
      "model_name": "HTMLModel",
      "state": {
       "layout": "IPY_MODEL_1c59bafcd1ca4f6e87ae119c89c52e49",
       "style": "IPY_MODEL_ffb80cd2368f46ea9ffb1dcad1ee602f",
       "value": "apply len_bytes to num_bytes: 100%"
      }
     },
     "f08eaab658284f87923e1df0b6af876f": {
      "model_module": "@jupyter-widgets/base",
      "model_module_version": "2.0.0",
      "model_name": "LayoutModel",
      "state": {}
     },
     "f0f93505b1324962ae1fd4371b4e9644": {
      "model_module": "@jupyter-widgets/base",
      "model_module_version": "2.0.0",
      "model_name": "LayoutModel",
      "state": {}
     },
     "f104c766813b414299f3a2c9ebda1f7c": {
      "model_module": "@jupyter-widgets/controls",
      "model_module_version": "2.0.0",
      "model_name": "FloatProgressModel",
      "state": {
       "bar_style": "success",
       "layout": "IPY_MODEL_ae629f698b694dcd933f96ac77b15f0f",
       "max": 1,
       "style": "IPY_MODEL_d46d543ebb7b411880939be1ab3394bf",
       "value": 1
      }
     },
     "f127641aafe3468fb5dee42835d39482": {
      "model_module": "@jupyter-widgets/base",
      "model_module_version": "2.0.0",
      "model_name": "LayoutModel",
      "state": {}
     },
     "f1677df72aec4525a3802f9427762067": {
      "model_module": "@jupyter-widgets/controls",
      "model_module_version": "2.0.0",
      "model_name": "HTMLModel",
      "state": {
       "layout": "IPY_MODEL_f231aad369da4db4b74a069d176a94b9",
       "style": "IPY_MODEL_75af9062b9e645a4bc5557b3a8e94b30",
       "value": " 2/2 [00:00&lt;00:00, 115.60it/s]"
      }
     },
     "f16b842679574e4b853f4bf4d433412f": {
      "model_module": "@jupyter-widgets/controls",
      "model_module_version": "2.0.0",
      "model_name": "HTMLModel",
      "state": {
       "layout": "IPY_MODEL_776ea55ae16a4d68bf7ce8939f8c119b",
       "style": "IPY_MODEL_4c61ca2de49a409ca16309f1754d2ee5",
       "value": "apply len_bytes to num_bytes: 100%"
      }
     },
     "f18c981333d44fd7a11aa1070aba9f31": {
      "model_module": "@jupyter-widgets/base",
      "model_module_version": "2.0.0",
      "model_name": "LayoutModel",
      "state": {}
     },
     "f1926c4a43f24984ba9bf55e9d7fda7a": {
      "model_module": "@jupyter-widgets/controls",
      "model_module_version": "2.0.0",
      "model_name": "LabelStyleModel",
      "state": {
       "description_width": "",
       "font_family": null,
       "font_size": null,
       "font_style": null,
       "font_variant": null,
       "font_weight": null,
       "text_color": null,
       "text_decoration": null
      }
     },
     "f1e3462e8878419ab0d110d5fc1ad8e7": {
      "model_module": "@jupyter-widgets/controls",
      "model_module_version": "2.0.0",
      "model_name": "HTMLModel",
      "state": {
       "layout": "IPY_MODEL_b624f212100244e5b2f4448032532e67",
       "style": "IPY_MODEL_28a8bfe94a5a4aa0990ff1db81838608",
       "value": "Running Evaluation: 100%"
      }
     },
     "f231aad369da4db4b74a069d176a94b9": {
      "model_module": "@jupyter-widgets/base",
      "model_module_version": "2.0.0",
      "model_name": "LayoutModel",
      "state": {}
     },
     "f288c5032b874c59bb95b4d2a8297de6": {
      "model_module": "@jupyter-widgets/base",
      "model_module_version": "2.0.0",
      "model_name": "LayoutModel",
      "state": {}
     },
     "f2b55c9964164320b8135c292bbbf9eb": {
      "model_module": "@jupyter-widgets/base",
      "model_module_version": "2.0.0",
      "model_name": "LayoutModel",
      "state": {}
     },
     "f304f62b66c741baae9075c4de63659e": {
      "model_module": "@jupyter-widgets/base",
      "model_module_version": "2.0.0",
      "model_name": "LayoutModel",
      "state": {}
     },
     "f3311ce1ff244169835464b3611beadc": {
      "model_module": "@jupyter-widgets/controls",
      "model_module_version": "2.0.0",
      "model_name": "HTMLStyleModel",
      "state": {
       "description_width": "",
       "font_size": null,
       "text_color": null
      }
     },
     "f34d8b46a05f469fa44b8eb3aa57c083": {
      "model_module": "@jupyter-widgets/controls",
      "model_module_version": "2.0.0",
      "model_name": "HBoxModel",
      "state": {
       "children": [
        "IPY_MODEL_b41f7f4962424ceeb13d86ba6d752c9c",
        "IPY_MODEL_dbe6f080e8974f098a048b15170525b5",
        "IPY_MODEL_8cb7c51375ca4d03ba099c19951f6250"
       ],
       "layout": "IPY_MODEL_29c645b551bf4075a43c7a8556bcda8a"
      }
     },
     "f34f80c2863c44e1a473b0c57ec69e17": {
      "model_module": "@jupyter-widgets/controls",
      "model_module_version": "2.0.0",
      "model_name": "HTMLStyleModel",
      "state": {
       "description_width": "",
       "font_size": null,
       "text_color": null
      }
     },
     "f3a4ffe33ae8491a917c037ba3382767": {
      "model_module": "@jupyter-widgets/base",
      "model_module_version": "2.0.0",
      "model_name": "LayoutModel",
      "state": {}
     },
     "f3beebfd152b48d9b8739aefe7f9f785": {
      "model_module": "@jupyter-widgets/base",
      "model_module_version": "2.0.0",
      "model_name": "LayoutModel",
      "state": {}
     },
     "f4177502fcdc4410b425e9e91aeb6a82": {
      "model_module": "@jupyter-widgets/base",
      "model_module_version": "2.0.0",
      "model_name": "LayoutModel",
      "state": {}
     },
     "f43e1d6f4231490c914515ce30f7c522": {
      "model_module": "@jupyter-widgets/base",
      "model_module_version": "2.0.0",
      "model_name": "LayoutModel",
      "state": {}
     },
     "f4cf0943e5854ab9bd0af5f42b522f7c": {
      "model_module": "@jupyter-widgets/controls",
      "model_module_version": "2.0.0",
      "model_name": "LabelStyleModel",
      "state": {
       "description_width": "",
       "font_family": null,
       "font_size": null,
       "font_style": null,
       "font_variant": null,
       "font_weight": null,
       "text_color": null,
       "text_decoration": null
      }
     },
     "f51bfcf9af274101a6ce0f9f93a4f67a": {
      "model_module": "@jupyter-widgets/base",
      "model_module_version": "2.0.0",
      "model_name": "LayoutModel",
      "state": {}
     },
     "f5413ffab8cb479f97ac74d68f4a0acf": {
      "model_module": "@jupyter-widgets/controls",
      "model_module_version": "2.0.0",
      "model_name": "HTMLModel",
      "state": {
       "layout": "IPY_MODEL_8dce50b44d534316be78bca7588f89e7",
       "style": "IPY_MODEL_0833c1a83a1e483e86277aba4c2088d4",
       "value": "100%"
      }
     },
     "f5485dcae6934fad845334b88b87e42a": {
      "model_module": "@jupyter-widgets/controls",
      "model_module_version": "2.0.0",
      "model_name": "HTMLStyleModel",
      "state": {
       "description_width": "",
       "font_size": null,
       "text_color": null
      }
     },
     "f568b30d734e4240b4a8e46d447b5e79": {
      "model_module": "@jupyter-widgets/controls",
      "model_module_version": "2.0.0",
      "model_name": "VBoxModel",
      "state": {
       "children": [
        "IPY_MODEL_9fee5c9279934598a80adf50d799985e",
        "IPY_MODEL_e273933b92b84cb68eab50ff0b261cb6"
       ],
       "layout": "IPY_MODEL_18f8fb7177014bc7802ace9cf4c3d2b2"
      }
     },
     "f585ee2b83014a90b78a38793f2cf92d": {
      "model_module": "@jupyter-widgets/controls",
      "model_module_version": "2.0.0",
      "model_name": "ProgressStyleModel",
      "state": {
       "description_width": ""
      }
     },
     "f5a24a0f0ae147cd8920411688818b34": {
      "model_module": "@jupyter-widgets/base",
      "model_module_version": "2.0.0",
      "model_name": "LayoutModel",
      "state": {}
     },
     "f5a26072858e46f2aeeda2247c7f8818": {
      "model_module": "@jupyter-widgets/base",
      "model_module_version": "2.0.0",
      "model_name": "LayoutModel",
      "state": {}
     },
     "f5adca54059b490b8207705318eda01a": {
      "model_module": "@jupyter-widgets/base",
      "model_module_version": "2.0.0",
      "model_name": "LayoutModel",
      "state": {}
     },
     "f5c1e88665b74de2b924eb965d3e9428": {
      "model_module": "@jupyter-widgets/controls",
      "model_module_version": "2.0.0",
      "model_name": "HTMLStyleModel",
      "state": {
       "description_width": "",
       "font_size": null,
       "text_color": null
      }
     },
     "f5c52cef790648699631375bb00cc48c": {
      "model_module": "@jupyter-widgets/controls",
      "model_module_version": "2.0.0",
      "model_name": "HTMLModel",
      "state": {
       "layout": "IPY_MODEL_13f820b7095e46bc83591822669b79f9",
       "style": "IPY_MODEL_478d94f56ca84a65b9a188692209c04e",
       "value": " 1106/1106 [00:00&lt;00:00, 2075.96it/s]"
      }
     },
     "f5d35d306c5a499cb7000442e33f5191": {
      "model_module": "@jupyter-widgets/controls",
      "model_module_version": "2.0.0",
      "model_name": "ProgressStyleModel",
      "state": {
       "description_width": ""
      }
     },
     "f5dd6425dddb4363ac756320cf9dfaba": {
      "model_module": "@jupyter-widgets/controls",
      "model_module_version": "2.0.0",
      "model_name": "HBoxModel",
      "state": {
       "children": [
        "IPY_MODEL_7e992a148a7a43af92c9fdf9dc66563d",
        "IPY_MODEL_ff854bfd3a764ad7afc1f5d33799c48e",
        "IPY_MODEL_a43e1efe81154171ad81db0c8a1bdae0"
       ],
       "layout": "IPY_MODEL_bd6876e5501c4d70a00208e06b60e8b3"
      }
     },
     "f5f789791fbd4a929df11787a7037546": {
      "model_module": "@jupyter-widgets/controls",
      "model_module_version": "2.0.0",
      "model_name": "HTMLModel",
      "state": {
       "layout": "IPY_MODEL_6613f89f1f2741ad9bd6c3f222ddc1d7",
       "style": "IPY_MODEL_7da0a615569b479596c2034c18dd68ea",
       "value": "apply len_bytes to num_bytes: 100%"
      }
     },
     "f6448e9689e34d639aaa8bf9e6889c0e": {
      "model_module": "@jupyter-widgets/controls",
      "model_module_version": "2.0.0",
      "model_name": "HTMLModel",
      "state": {
       "layout": "IPY_MODEL_b40840846aad4e58bd5390dd2ab68b98",
       "style": "IPY_MODEL_36a265ea12aa4c4793a7a2ffce31aa4d",
       "value": "Downloading metadata: "
      }
     },
     "f64effd473294d8ba3d6c63297045fa4": {
      "model_module": "@jupyter-widgets/controls",
      "model_module_version": "2.0.0",
      "model_name": "FloatProgressModel",
      "state": {
       "bar_style": "success",
       "layout": "IPY_MODEL_7bb6ade0939b42529182c36d2dc03015",
       "max": 2,
       "style": "IPY_MODEL_9fa9dff6754b4386be5648159aebfe9d",
       "value": 2
      }
     },
     "f68430470c2944279e38f94c05bb5ff9": {
      "model_module": "@jupyter-widgets/base",
      "model_module_version": "2.0.0",
      "model_name": "LayoutModel",
      "state": {}
     },
     "f6c78abceda04075b855d4d7a5b004dc": {
      "model_module": "@jupyter-widgets/controls",
      "model_module_version": "2.0.0",
      "model_name": "FloatProgressModel",
      "state": {
       "bar_style": "success",
       "layout": "IPY_MODEL_a87b9b32de604faf95289a1476251cdd",
       "max": 228824,
       "style": "IPY_MODEL_f95f0de69c6d4fa78aa7ea41b9489e15",
       "value": 228824
      }
     },
     "f6d1dc14333443dd96adeee132be6d57": {
      "model_module": "@jupyter-widgets/controls",
      "model_module_version": "2.0.0",
      "model_name": "HBoxModel",
      "state": {
       "children": [
        "IPY_MODEL_17baec0245fe4924b47d4dafd6cd7097",
        "IPY_MODEL_27fd3661f5be4b3c83a7f1415a39745e",
        "IPY_MODEL_c7358666ac334627b20dd9eeb5a5e0f2"
       ],
       "layout": "IPY_MODEL_2530b9b58fda4bfcb047371e0da4bb8d"
      }
     },
     "f6d70ecde8cb4fd5b13226140c88eff2": {
      "model_module": "@jupyter-widgets/controls",
      "model_module_version": "2.0.0",
      "model_name": "HBoxModel",
      "state": {
       "children": [
        "IPY_MODEL_2d3325a2d28d44bfaf15347e5e4c3a7e",
        "IPY_MODEL_14c183518cf04a1086d01e65b246636b",
        "IPY_MODEL_10ebeb0427f94370ae63d08d95877407"
       ],
       "layout": "IPY_MODEL_78003416464245cdabf0c7f80b63409a"
      }
     },
     "f6dcd965d0ef4dcb9726c459a1abd4b5": {
      "model_module": "@jupyter-widgets/controls",
      "model_module_version": "2.0.0",
      "model_name": "HBoxModel",
      "state": {
       "children": [
        "IPY_MODEL_8f8cd926205642f1af27108a8e136d7d",
        "IPY_MODEL_7c071716863c4d1c8a4b14cc9df4a70f",
        "IPY_MODEL_5decdab89fa447909c48d4e6b84c7d33"
       ],
       "layout": "IPY_MODEL_59590af677954cd4ad762054587ee275"
      }
     },
     "f712c3317a58462981773113b3bf6759": {
      "model_module": "@jupyter-widgets/controls",
      "model_module_version": "2.0.0",
      "model_name": "FloatProgressModel",
      "state": {
       "layout": "IPY_MODEL_b54a83b79cdb4676b8c992d0f6ceb966",
       "max": 1,
       "style": "IPY_MODEL_b791ac0c5c5f43b4aa3a3e2aca0964eb"
      }
     },
     "f7136a4666b045cd99eefed8d87df605": {
      "model_module": "@jupyter-widgets/controls",
      "model_module_version": "2.0.0",
      "model_name": "HBoxModel",
      "state": {
       "children": [
        "IPY_MODEL_3191d8fcd63d4906955adf7db6ec48b3",
        "IPY_MODEL_3051a52e95e546dca2b40a95b2fbb8d4",
        "IPY_MODEL_8aebe371ff7443dc906920c71e7427d3"
       ],
       "layout": "IPY_MODEL_ba5e7a3f51664831b5a2ff1d148a48f7"
      }
     },
     "f78ff4a60bdd47489949f2f0b9623f1b": {
      "model_module": "@jupyter-widgets/base",
      "model_module_version": "2.0.0",
      "model_name": "LayoutModel",
      "state": {}
     },
     "f7c004a014b943379acd8a6338e85f6b": {
      "model_module": "@jupyter-widgets/controls",
      "model_module_version": "2.0.0",
      "model_name": "VBoxModel",
      "state": {
       "children": [
        "IPY_MODEL_9de73603abb54c059f4c3be88d7ea8ad",
        "IPY_MODEL_8158b4ce03b643229ef35084ad8e83d2"
       ],
       "layout": "IPY_MODEL_2cde5df493304d09a0aa8b3d26f1f3c3"
      }
     },
     "f7e7cb0827114e4da7574ae661a5ce52": {
      "model_module": "@jupyter-widgets/controls",
      "model_module_version": "2.0.0",
      "model_name": "LabelModel",
      "state": {
       "layout": "IPY_MODEL_5d773013a34442b0978717b2f718ab2e",
       "style": "IPY_MODEL_646f2bd7b6774d1caf70967819a8cc27"
      }
     },
     "f8122cd38e8e4a439c4b88023a919669": {
      "model_module": "@jupyter-widgets/base",
      "model_module_version": "2.0.0",
      "model_name": "LayoutModel",
      "state": {}
     },
     "f854288b71854cf0bba197230ea93fb4": {
      "model_module": "@jupyter-widgets/base",
      "model_module_version": "2.0.0",
      "model_name": "LayoutModel",
      "state": {}
     },
     "f85dbbfb5ce74b67a345d24aaa09f22a": {
      "model_module": "@jupyter-widgets/controls",
      "model_module_version": "2.0.0",
      "model_name": "ProgressStyleModel",
      "state": {
       "description_width": ""
      }
     },
     "f85fc42bc2bd4cee828d1beea6046706": {
      "model_module": "@jupyter-widgets/base",
      "model_module_version": "2.0.0",
      "model_name": "LayoutModel",
      "state": {}
     },
     "f8606fe9f01848f48b386370d9844afd": {
      "model_module": "@jupyter-widgets/controls",
      "model_module_version": "2.0.0",
      "model_name": "ProgressStyleModel",
      "state": {
       "description_width": ""
      }
     },
     "f8a266c560364d8bb12e34491a46d5aa": {
      "model_module": "@jupyter-widgets/controls",
      "model_module_version": "2.0.0",
      "model_name": "HTMLStyleModel",
      "state": {
       "description_width": "",
       "font_size": null,
       "text_color": null
      }
     },
     "f8b2dfb517a042cfa4caf28a4f2f5a58": {
      "model_module": "@jupyter-widgets/base",
      "model_module_version": "2.0.0",
      "model_name": "LayoutModel",
      "state": {}
     },
     "f8bcfb488f1b4fa6a8a0794b2dd6f2a1": {
      "model_module": "@jupyter-widgets/base",
      "model_module_version": "2.0.0",
      "model_name": "LayoutModel",
      "state": {}
     },
     "f8d6d05f4bb241a89b3f2e3f04a389b3": {
      "model_module": "@jupyter-widgets/controls",
      "model_module_version": "2.0.0",
      "model_name": "FloatProgressModel",
      "state": {
       "bar_style": "success",
       "layout": "IPY_MODEL_1271574014f94a6c9e9081d41cf8d98c",
       "max": 289,
       "style": "IPY_MODEL_796416c959a2426a8f4e090b9426d458",
       "value": 289
      }
     },
     "f8ef0d4a4b844fd8beb2f47c8688d026": {
      "model_module": "@jupyter-widgets/base",
      "model_module_version": "2.0.0",
      "model_name": "LayoutModel",
      "state": {}
     },
     "f8ffac9d8b7246c495f3ad0d52911b94": {
      "model_module": "@jupyter-widgets/controls",
      "model_module_version": "2.0.0",
      "model_name": "HTMLStyleModel",
      "state": {
       "description_width": "",
       "font_size": null,
       "text_color": null
      }
     },
     "f92d5a41b25a48d2afa44525a4a550c2": {
      "model_module": "@jupyter-widgets/controls",
      "model_module_version": "2.0.0",
      "model_name": "HTMLModel",
      "state": {
       "layout": "IPY_MODEL_792676146b6542e9915e5964f55fa744",
       "style": "IPY_MODEL_bdf905b60c15468f9a5e91eb9666de41",
       "value": "apply len_bytes to num_bytes: 100%"
      }
     },
     "f9311328bf51456297f47afff1b2c287": {
      "model_module": "@jupyter-widgets/base",
      "model_module_version": "2.0.0",
      "model_name": "LayoutModel",
      "state": {}
     },
     "f93c47ead7034b3d88c29097c38ff325": {
      "model_module": "@jupyter-widgets/controls",
      "model_module_version": "2.0.0",
      "model_name": "FloatProgressModel",
      "state": {
       "bar_style": "success",
       "layout": "IPY_MODEL_4f32803ac75142769ef99044f617d04f",
       "max": 616,
       "style": "IPY_MODEL_08a03691221a42e2a3e12fefff32a321",
       "value": 616
      }
     },
     "f95df328c13f4c00bf7eb7939bddbbef": {
      "model_module": "@jupyter-widgets/controls",
      "model_module_version": "2.0.0",
      "model_name": "HTMLStyleModel",
      "state": {
       "description_width": "",
       "font_size": null,
       "text_color": null
      }
     },
     "f95f0de69c6d4fa78aa7ea41b9489e15": {
      "model_module": "@jupyter-widgets/controls",
      "model_module_version": "2.0.0",
      "model_name": "ProgressStyleModel",
      "state": {
       "description_width": ""
      }
     },
     "f97514514f8c4382a5cda9962224e228": {
      "model_module": "@jupyter-widgets/controls",
      "model_module_version": "2.0.0",
      "model_name": "HTMLModel",
      "state": {
       "layout": "IPY_MODEL_d37a2f39d87c41dd84e66ed4e7cec749",
       "style": "IPY_MODEL_d2b897ee05ff4b77ab80361a39948203",
       "value": "Epoch 2 of 2: 100%"
      }
     },
     "f9a95a2363754d528076b44bc700715e": {
      "model_module": "@jupyter-widgets/controls",
      "model_module_version": "2.0.0",
      "model_name": "HTMLStyleModel",
      "state": {
       "description_width": "",
       "font_size": null,
       "text_color": null
      }
     },
     "f9ba0ad987be49f888bb129694aa43b8": {
      "model_module": "@jupyter-widgets/controls",
      "model_module_version": "2.0.0",
      "model_name": "HTMLModel",
      "state": {
       "layout": "IPY_MODEL_19391ff9be414650a5e6e42b12d1d557",
       "style": "IPY_MODEL_5e5574cbc3e04d88a89159b17f0e5b2f",
       "value": " 2211/2211 [00:01&lt;00:00, 2193.42it/s]"
      }
     },
     "f9f7450bc60144e49d34edbe252eb403": {
      "model_module": "@jupyter-widgets/controls",
      "model_module_version": "2.0.0",
      "model_name": "ProgressStyleModel",
      "state": {
       "description_width": ""
      }
     },
     "fa0457ba274045799ba81605d2fb4bfc": {
      "model_module": "@jupyter-widgets/controls",
      "model_module_version": "2.0.0",
      "model_name": "HTMLStyleModel",
      "state": {
       "description_width": "",
       "font_size": null,
       "text_color": null
      }
     },
     "fa0f3c448bb14ef4a5d463bf750954f5": {
      "model_module": "@jupyter-widgets/controls",
      "model_module_version": "2.0.0",
      "model_name": "ProgressStyleModel",
      "state": {
       "description_width": ""
      }
     },
     "fa110d7535c44984b496b30eceee8965": {
      "model_module": "@jupyter-widgets/controls",
      "model_module_version": "2.0.0",
      "model_name": "ProgressStyleModel",
      "state": {
       "description_width": ""
      }
     },
     "fa34a59fa3c742b2ac4a61df0acd3729": {
      "model_module": "@jupyter-widgets/controls",
      "model_module_version": "2.0.0",
      "model_name": "FloatProgressModel",
      "state": {
       "bar_style": "success",
       "layout": "IPY_MODEL_92d73f88266643d4b46098920c3e5156",
       "max": 199,
       "style": "IPY_MODEL_258ada7f3f764953be210ffc7a571155",
       "value": 199
      }
     },
     "fa72ca3df3eb46388272d9a75a8bede8": {
      "model_module": "@jupyter-widgets/controls",
      "model_module_version": "2.0.0",
      "model_name": "HBoxModel",
      "state": {
       "children": [
        "IPY_MODEL_7349f59fe5054c00a21f5526670c57a7",
        "IPY_MODEL_ee28e0eee35348ea92d6b13681ff1d39",
        "IPY_MODEL_9cb70849a48f4b63bb29a5a371ede14d"
       ],
       "layout": "IPY_MODEL_8f27e3ef847a48c48c944dd761faeac6"
      }
     },
     "fa8a31e5a75e4dd3a01b82a9950f324c": {
      "model_module": "@jupyter-widgets/base",
      "model_module_version": "2.0.0",
      "model_name": "LayoutModel",
      "state": {}
     },
     "fa951d299d61452c997d63031e3bc74d": {
      "model_module": "@jupyter-widgets/controls",
      "model_module_version": "2.0.0",
      "model_name": "HTMLStyleModel",
      "state": {
       "description_width": "",
       "font_size": null,
       "text_color": null
      }
     },
     "fab6a0bdc2554a268cc785d4fb900062": {
      "model_module": "@jupyter-widgets/base",
      "model_module_version": "2.0.0",
      "model_name": "LayoutModel",
      "state": {}
     },
     "fb0c980be98b4770888b41f311b3792b": {
      "model_module": "@jupyter-widgets/controls",
      "model_module_version": "2.0.0",
      "model_name": "HTMLModel",
      "state": {
       "layout": "IPY_MODEL_2ff7c8ce8ed94d7cb7fe233f000062f9",
       "style": "IPY_MODEL_23a3a396ed1e42f595ce1fa38a072f62",
       "value": "100%"
      }
     },
     "fb7ea68e513f4e7fb251b6d083545360": {
      "model_module": "@jupyter-widgets/base",
      "model_module_version": "2.0.0",
      "model_name": "LayoutModel",
      "state": {}
     },
     "fbbb5382548b43ff88fc97777c98d48c": {
      "model_module": "@jupyter-widgets/controls",
      "model_module_version": "2.0.0",
      "model_name": "HTMLModel",
      "state": {
       "layout": "IPY_MODEL_1f4caebef06e4680b81d93e79ca1a070",
       "style": "IPY_MODEL_37c63d8ca27c41c59f588b3f35b9b1bf",
       "value": "apply len_bytes to num_bytes: 100%"
      }
     },
     "fbbd0ef0d39542a09afd4d7128a8dfb4": {
      "model_module": "@jupyter-widgets/controls",
      "model_module_version": "2.0.0",
      "model_name": "HTMLModel",
      "state": {
       "layout": "IPY_MODEL_64654e72f4a34db8a2ac353ac36bc227",
       "style": "IPY_MODEL_9409ce6f1465489d9426ebc4dd83c7d5",
       "value": "100%"
      }
     },
     "fbd333524eb04c848a60e8497e18cc4b": {
      "model_module": "@jupyter-widgets/controls",
      "model_module_version": "2.0.0",
      "model_name": "FloatProgressModel",
      "state": {
       "bar_style": "success",
       "layout": "IPY_MODEL_f9311328bf51456297f47afff1b2c287",
       "max": 751209,
       "style": "IPY_MODEL_6c6a1312c0e04524bfc039151f3ff7e5",
       "value": 751209
      }
     },
     "fbdeed28da5b4df584e2a3ac3e86007b": {
      "model_module": "@jupyter-widgets/controls",
      "model_module_version": "2.0.0",
      "model_name": "ProgressStyleModel",
      "state": {
       "description_width": ""
      }
     },
     "fc8f7782f23f4b91b3062cce367a95d7": {
      "model_module": "@jupyter-widgets/base",
      "model_module_version": "2.0.0",
      "model_name": "LayoutModel",
      "state": {}
     },
     "fcc91cd0a8ef496fad6bed5b9f9548cb": {
      "model_module": "@jupyter-widgets/controls",
      "model_module_version": "2.0.0",
      "model_name": "HTMLStyleModel",
      "state": {
       "description_width": "",
       "font_size": null,
       "text_color": null
      }
     },
     "fccb3d3f44b742f89e41a80ba4b33281": {
      "model_module": "@jupyter-widgets/controls",
      "model_module_version": "2.0.0",
      "model_name": "HTMLStyleModel",
      "state": {
       "description_width": "",
       "font_size": null,
       "text_color": null
      }
     },
     "fcfa50b7f8c946328de42b474ea910bc": {
      "model_module": "@jupyter-widgets/controls",
      "model_module_version": "2.0.0",
      "model_name": "ProgressStyleModel",
      "state": {
       "description_width": ""
      }
     },
     "fd06e2a034f8482dbf444ee4921b1b4b": {
      "model_module": "@jupyter-widgets/controls",
      "model_module_version": "2.0.0",
      "model_name": "HTMLModel",
      "state": {
       "layout": "IPY_MODEL_d65f4d67408543fcb41c0e0c4c38e382",
       "style": "IPY_MODEL_e8b72b74be4d477f8f3b7e2b0950e59d",
       "value": " 1120/1120 [03:13&lt;00:00,  5.00it/s]"
      }
     },
     "fd1542a25b224e5b9c733d7be9f6176a": {
      "model_module": "@jupyter-widgets/base",
      "model_module_version": "2.0.0",
      "model_name": "LayoutModel",
      "state": {}
     },
     "fd1cfe9ea63441319c98b69a27d0f94c": {
      "model_module": "@jupyter-widgets/controls",
      "model_module_version": "2.0.0",
      "model_name": "HBoxModel",
      "state": {
       "children": [
        "IPY_MODEL_3ee2b841a3364d86a884a0f0b7c39edb",
        "IPY_MODEL_3fa50da172cd428fbe089788fc52e8b0",
        "IPY_MODEL_b46dcd83eb604b0d822164003b691b48"
       ],
       "layout": "IPY_MODEL_8fdef9e7080f419496b0e54403b9ec07"
      }
     },
     "fda30aa90c034a90a27bb0469d5a4aa9": {
      "model_module": "@jupyter-widgets/base",
      "model_module_version": "2.0.0",
      "model_name": "LayoutModel",
      "state": {}
     },
     "fe1d971627b04473a081b0828820a7de": {
      "model_module": "@jupyter-widgets/controls",
      "model_module_version": "2.0.0",
      "model_name": "HBoxModel",
      "state": {
       "children": [
        "IPY_MODEL_be6d2dff93e544cc83a97b76c796f88b",
        "IPY_MODEL_8ea44d4df50549b8ad15a9a3adf6c4a9",
        "IPY_MODEL_f5c52cef790648699631375bb00cc48c"
       ],
       "layout": "IPY_MODEL_a47acbe2d2f64bf494eab1aa26a51cac"
      }
     },
     "fe3731d27bd44879b3d57ea7540a2cc8": {
      "model_module": "@jupyter-widgets/controls",
      "model_module_version": "2.0.0",
      "model_name": "DescriptionStyleModel",
      "state": {
       "description_width": ""
      }
     },
     "fe39342baa4c47ad928e2d6fe1c30d18": {
      "model_module": "@jupyter-widgets/base",
      "model_module_version": "2.0.0",
      "model_name": "LayoutModel",
      "state": {}
     },
     "fe89dfe106d342368077dd77feeb4400": {
      "model_module": "@jupyter-widgets/controls",
      "model_module_version": "2.0.0",
      "model_name": "FloatProgressModel",
      "state": {
       "bar_style": "success",
       "layout": "IPY_MODEL_a10d05f58c584d7bae0efa109e326014",
       "max": 139,
       "style": "IPY_MODEL_bcf26dd49f404d3a87b90f8b0085ff58",
       "value": 139
      }
     },
     "fe94f1af5cbe4ced94ed89c456a9affc": {
      "model_module": "@jupyter-widgets/controls",
      "model_module_version": "2.0.0",
      "model_name": "HTMLModel",
      "state": {
       "layout": "IPY_MODEL_5a212f868cc540539c8f5cf70d3bf116",
       "style": "IPY_MODEL_03950c33c68e4ae5b30da455bc845fef",
       "value": "apply len_bytes to num_bytes: 100%"
      }
     },
     "feb2dfd85de84eb2aeb826ad037cffb0": {
      "model_module": "@jupyter-widgets/controls",
      "model_module_version": "2.0.0",
      "model_name": "LabelStyleModel",
      "state": {
       "description_width": "",
       "font_family": null,
       "font_size": null,
       "font_style": null,
       "font_variant": null,
       "font_weight": null,
       "text_color": null,
       "text_decoration": null
      }
     },
     "feba2a1097964682821f1ed9eaa1adeb": {
      "model_module": "@jupyter-widgets/base",
      "model_module_version": "2.0.0",
      "model_name": "LayoutModel",
      "state": {}
     },
     "ff028f4b20f5415d80bcb1c11e0fe65f": {
      "model_module": "@jupyter-widgets/base",
      "model_module_version": "2.0.0",
      "model_name": "LayoutModel",
      "state": {}
     },
     "ff0d68f0b4b94c5a84128ef5efa2507b": {
      "model_module": "@jupyter-widgets/controls",
      "model_module_version": "2.0.0",
      "model_name": "HTMLStyleModel",
      "state": {
       "description_width": "",
       "font_size": null,
       "text_color": null
      }
     },
     "ff432dc003c44bb3855b00b5c48dc148": {
      "model_module": "@jupyter-widgets/controls",
      "model_module_version": "2.0.0",
      "model_name": "HTMLModel",
      "state": {
       "layout": "IPY_MODEL_ada56f120aca419cb9a0896ce186e1f7",
       "style": "IPY_MODEL_9b451b7a6eba4b68bc6a55a071854223",
       "value": " 36/36 [00:01&lt;00:00, 30.70it/s]"
      }
     },
     "ff7f88cdde8e4030acfd22b39b44ad2e": {
      "model_module": "@jupyter-widgets/controls",
      "model_module_version": "2.0.0",
      "model_name": "HTMLStyleModel",
      "state": {
       "description_width": "",
       "font_size": null,
       "text_color": null
      }
     },
     "ff854bfd3a764ad7afc1f5d33799c48e": {
      "model_module": "@jupyter-widgets/controls",
      "model_module_version": "2.0.0",
      "model_name": "FloatProgressModel",
      "state": {
       "bar_style": "success",
       "layout": "IPY_MODEL_341094da37e24565bfa59b7f6e72332f",
       "max": 36,
       "style": "IPY_MODEL_ac8fe57c6e35481e8a656402d353b9e0",
       "value": 36
      }
     },
     "ff9f75a607b54fc2bf0490de2846fe54": {
      "model_module": "@jupyter-widgets/controls",
      "model_module_version": "2.0.0",
      "model_name": "HTMLModel",
      "state": {
       "layout": "IPY_MODEL_f8122cd38e8e4a439c4b88023a919669",
       "style": "IPY_MODEL_25a04cc12f3e4cf69a5edc200eff1370",
       "value": " 1106/1106 [00:00&lt;00:00, 2082.83it/s]"
      }
     },
     "ffb80cd2368f46ea9ffb1dcad1ee602f": {
      "model_module": "@jupyter-widgets/controls",
      "model_module_version": "2.0.0",
      "model_name": "HTMLStyleModel",
      "state": {
       "description_width": "",
       "font_size": null,
       "text_color": null
      }
     },
     "ffdaff8c82ac4078bce14eaa9c5eaaf1": {
      "model_module": "@jupyter-widgets/controls",
      "model_module_version": "2.0.0",
      "model_name": "LabelStyleModel",
      "state": {
       "description_width": "",
       "font_family": null,
       "font_size": null,
       "font_style": null,
       "font_variant": null,
       "font_weight": null,
       "text_color": null,
       "text_decoration": null
      }
     },
     "ffde3689d6814b958673bb068406de67": {
      "model_module": "@jupyter-widgets/controls",
      "model_module_version": "2.0.0",
      "model_name": "ProgressStyleModel",
      "state": {
       "description_width": ""
      }
     }
    },
    "version_major": 2,
    "version_minor": 0
   }
  }
 },
 "nbformat": 4,
 "nbformat_minor": 1
}
