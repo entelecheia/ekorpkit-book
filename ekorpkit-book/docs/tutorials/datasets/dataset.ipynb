{
 "cells": [
  {
   "cell_type": "markdown",
   "metadata": {
    "id": "cjgz1WTcPWee"
   },
   "source": [
    "# Datasets"
   ]
  },
  {
   "cell_type": "code",
   "execution_count": 1,
   "metadata": {
    "id": "BzxPwsOVPWef"
   },
   "outputs": [
    {
     "name": "stdout",
     "output_type": "stream",
     "text": [
      "0.1.31+15.g2cbd42e.dirty\n"
     ]
    }
   ],
   "source": [
    "import logging\n",
    "from ekorpkit import eKonf\n",
    "\n",
    "logging.basicConfig(level=logging.WARNING)\n",
    "print(eKonf.__version__)"
   ]
  },
  {
   "cell_type": "markdown",
   "metadata": {
    "id": "it1Y0MVPXRsJ"
   },
   "source": [
    "## Build a dataset with the ekorpkit configs"
   ]
  },
  {
   "cell_type": "code",
   "execution_count": 12,
   "metadata": {},
   "outputs": [
    {
     "name": "stderr",
     "output_type": "stream",
     "text": [
      "WARNING:datasets.builder:Reusing dataset glue (/root/.cache/huggingface/datasets/glue/sst2/1.0.0/dacbe3125aa31d7f70367a07a8a9e72a5a0bfeb5fc42e75c9db75b96da6053ad)\n"
     ]
    },
    {
     "name": "stdout",
     "output_type": "stream",
     "text": [
      "Dataset({\n",
      "    features: ['sentence', 'label', 'idx'],\n",
      "    num_rows: 67349\n",
      "})\n"
     ]
    },
    {
     "data": {
      "application/vnd.jupyter.widget-view+json": {
       "model_id": "41723b37cec749ecb658aea05cc26858",
       "version_major": 2,
       "version_minor": 0
      },
      "text/plain": [
       "apply len_bytes to num_bytes:   0%|          | 0/67349 [00:00<?, ?it/s]"
      ]
     },
     "metadata": {},
     "output_type": "display_data"
    },
    {
     "name": "stderr",
     "output_type": "stream",
     "text": [
      "WARNING:datasets.builder:Reusing dataset glue (/root/.cache/huggingface/datasets/glue/sst2/1.0.0/dacbe3125aa31d7f70367a07a8a9e72a5a0bfeb5fc42e75c9db75b96da6053ad)\n"
     ]
    },
    {
     "name": "stdout",
     "output_type": "stream",
     "text": [
      "Dataset({\n",
      "    features: ['sentence', 'label', 'idx'],\n",
      "    num_rows: 1821\n",
      "})\n"
     ]
    },
    {
     "data": {
      "application/vnd.jupyter.widget-view+json": {
       "model_id": "2690509c74a2497981e8c3eee227e631",
       "version_major": 2,
       "version_minor": 0
      },
      "text/plain": [
       "apply len_bytes to num_bytes:   0%|          | 0/1821 [00:00<?, ?it/s]"
      ]
     },
     "metadata": {},
     "output_type": "display_data"
    },
    {
     "name": "stderr",
     "output_type": "stream",
     "text": [
      "WARNING:datasets.builder:Reusing dataset glue (/root/.cache/huggingface/datasets/glue/sst2/1.0.0/dacbe3125aa31d7f70367a07a8a9e72a5a0bfeb5fc42e75c9db75b96da6053ad)\n"
     ]
    },
    {
     "name": "stdout",
     "output_type": "stream",
     "text": [
      "Dataset({\n",
      "    features: ['sentence', 'label', 'idx'],\n",
      "    num_rows: 872\n",
      "})\n"
     ]
    },
    {
     "data": {
      "application/vnd.jupyter.widget-view+json": {
       "model_id": "287cf6e76755424890f24d1cf901f65d",
       "version_major": 2,
       "version_minor": 0
      },
      "text/plain": [
       "apply len_bytes to num_bytes:   0%|          | 0/872 [00:00<?, ?it/s]"
      ]
     },
     "metadata": {},
     "output_type": "display_data"
    }
   ],
   "source": [
    "cfg = eKonf.compose(config_group=\"dataset/simple=sst2\")\n",
    "cfg.data_dir = \"../data/sst2\"\n",
    "cfg.io.data_dir = cfg.data_dir\n",
    "cfg.io.overwrite = True\n",
    "cfg.io.calculate_stats = True\n",
    "db = eKonf.instantiate(cfg)\n"
   ]
  },
  {
   "cell_type": "code",
   "execution_count": 14,
   "metadata": {},
   "outputs": [
    {
     "data": {
      "application/vnd.jupyter.widget-view+json": {
       "model_id": "b68c86ca37ef4ef19dd660afa2644740",
       "version_major": 2,
       "version_minor": 0
      },
      "text/plain": [
       "Downloading builder script:   0%|          | 0.00/1.36k [00:00<?, ?B/s]"
      ]
     },
     "metadata": {},
     "output_type": "display_data"
    },
    {
     "data": {
      "application/vnd.jupyter.widget-view+json": {
       "model_id": "7612e287c6274dc58f8e52c7422adb24",
       "version_major": 2,
       "version_minor": 0
      },
      "text/plain": [
       "Downloading metadata:   0%|          | 0.00/807 [00:00<?, ?B/s]"
      ]
     },
     "metadata": {},
     "output_type": "display_data"
    },
    {
     "name": "stderr",
     "output_type": "stream",
     "text": [
      "WARNING:datasets.builder:Using custom data configuration default\n",
      "WARNING:datasets.builder:Reusing dataset nsmc (/root/.cache/huggingface/datasets/nsmc/default/1.1.0/bfd4729bf1a67114e5267e6916b9e4807010aeb238e4a3c2b95fbfa3a014b5f3)\n"
     ]
    },
    {
     "name": "stdout",
     "output_type": "stream",
     "text": [
      "Dataset({\n",
      "    features: ['id', 'document', 'label'],\n",
      "    num_rows: 150000\n",
      "})\n"
     ]
    },
    {
     "data": {
      "application/vnd.jupyter.widget-view+json": {
       "model_id": "98b4398b24674344ba76578233891992",
       "version_major": 2,
       "version_minor": 0
      },
      "text/plain": [
       "apply len_bytes to num_bytes:   0%|          | 0/150000 [00:00<?, ?it/s]"
      ]
     },
     "metadata": {},
     "output_type": "display_data"
    },
    {
     "name": "stderr",
     "output_type": "stream",
     "text": [
      "WARNING:datasets.builder:Using custom data configuration default\n",
      "WARNING:datasets.builder:Reusing dataset nsmc (/root/.cache/huggingface/datasets/nsmc/default/1.1.0/bfd4729bf1a67114e5267e6916b9e4807010aeb238e4a3c2b95fbfa3a014b5f3)\n"
     ]
    },
    {
     "name": "stdout",
     "output_type": "stream",
     "text": [
      "Dataset({\n",
      "    features: ['id', 'document', 'label'],\n",
      "    num_rows: 50000\n",
      "})\n"
     ]
    },
    {
     "data": {
      "application/vnd.jupyter.widget-view+json": {
       "model_id": "c6fc2ba17bfa433a9a8890e97b33ae75",
       "version_major": 2,
       "version_minor": 0
      },
      "text/plain": [
       "apply len_bytes to num_bytes:   0%|          | 0/50000 [00:00<?, ?it/s]"
      ]
     },
     "metadata": {},
     "output_type": "display_data"
    },
    {
     "name": "stderr",
     "output_type": "stream",
     "text": [
      "WARNING:datasets.builder:Using custom data configuration default\n",
      "WARNING:datasets.builder:Reusing dataset nsmc (/root/.cache/huggingface/datasets/nsmc/default/1.1.0/bfd4729bf1a67114e5267e6916b9e4807010aeb238e4a3c2b95fbfa3a014b5f3)\n"
     ]
    },
    {
     "name": "stdout",
     "output_type": "stream",
     "text": [
      "Dataset({\n",
      "    features: ['id', 'document', 'label'],\n",
      "    num_rows: 150000\n",
      "})\n"
     ]
    },
    {
     "data": {
      "application/vnd.jupyter.widget-view+json": {
       "model_id": "146383f1b63d4a8093f2c23f6dad9a95",
       "version_major": 2,
       "version_minor": 0
      },
      "text/plain": [
       "apply len_bytes to num_bytes:   0%|          | 0/150000 [00:00<?, ?it/s]"
      ]
     },
     "metadata": {},
     "output_type": "display_data"
    },
    {
     "name": "stderr",
     "output_type": "stream",
     "text": [
      "WARNING:datasets.builder:Using custom data configuration default\n",
      "WARNING:datasets.builder:Reusing dataset nsmc (/root/.cache/huggingface/datasets/nsmc/default/1.1.0/bfd4729bf1a67114e5267e6916b9e4807010aeb238e4a3c2b95fbfa3a014b5f3)\n"
     ]
    },
    {
     "name": "stdout",
     "output_type": "stream",
     "text": [
      "Dataset({\n",
      "    features: ['id', 'document', 'label'],\n",
      "    num_rows: 50000\n",
      "})\n"
     ]
    },
    {
     "data": {
      "application/vnd.jupyter.widget-view+json": {
       "model_id": "7787f515ac324ed1b4a22c44451aac29",
       "version_major": 2,
       "version_minor": 0
      },
      "text/plain": [
       "apply len_bytes to num_bytes:   0%|          | 0/50000 [00:00<?, ?it/s]"
      ]
     },
     "metadata": {},
     "output_type": "display_data"
    }
   ],
   "source": [
    "cfg = eKonf.compose(config_group='dataset/simple=nsmc')\n",
    "cfg.data_dir = '../data/nsmc'\n",
    "cfg.io.data_dir = cfg.data_dir\n",
    "cfg.io.overwrite = True\n",
    "cfg.io.calculate_stats = True\n",
    "db = eKonf.instantiate(cfg)\n",
    "db.build()"
   ]
  },
  {
   "cell_type": "markdown",
   "metadata": {
    "id": "tJpz9ehuPWeh"
   },
   "source": [
    "## Instantiating datasets"
   ]
  },
  {
   "cell_type": "code",
   "execution_count": 6,
   "metadata": {
    "colab": {
     "base_uri": "https://localhost:8080/"
    },
    "id": "iAc66OeiPWei",
    "outputId": "96912de9-2861-47fc-b037-c65ec9f31f2b"
   },
   "outputs": [
    {
     "name": "stdout",
     "output_type": "stream",
     "text": [
      "Datasets\n",
      "----------\n",
      "nsmc\n",
      "sst2\n",
      "\n"
     ]
    }
   ],
   "source": [
    "from ekorpkit import eKonf\n",
    "\n",
    "cfg = eKonf.compose(config_group='dataset=datasets')\n",
    "cfg.datasets = ['nsmc', 'sst2']\n",
    "cfg.data_dir = '../data'\n",
    "cfg.verbose = False\n",
    "ds = eKonf.instantiate(cfg)\n",
    "print(ds)"
   ]
  },
  {
   "cell_type": "code",
   "execution_count": 7,
   "metadata": {
    "colab": {
     "base_uri": "https://localhost:8080/"
    },
    "id": "ds2y2-PAPWej",
    "outputId": "ac6d5b18-cad5-4be6-f1ca-c42ec0c0b0fe"
   },
   "outputs": [
    {
     "name": "stdout",
     "output_type": "stream",
     "text": [
      "ColumnInfo : {'keys': {'id': 'id', 'text': 'text', 'timestamp': 'timestamp', 'split': 'split'}, 'columns': {'id': 'id', 'text': 'text', 'merge_meta_on': None, 'timestamp': None}, 'data': {'id': 'int', 'text': 'str'}, 'meta': None, 'timestamp': {'key': None, 'format': None, '_parms_': None}, 'datetime': {'columns': None, 'format': None, '_parms_': None}, 'segment_separator': '\\\\n\\\\n', 'sentence_separator': '\\\\n'}\n"
     ]
    }
   ],
   "source": [
    "print(ds.COLUMN)"
   ]
  },
  {
   "cell_type": "code",
   "execution_count": 10,
   "metadata": {},
   "outputs": [
    {
     "data": {
      "application/vnd.jupyter.widget-view+json": {
       "model_id": "e61b20c3fd1b4934a399ed9c928f1dda",
       "version_major": 2,
       "version_minor": 0
      },
      "text/plain": [
       "apply len_bytes to num_bytes:   0%|          | 0/217349 [00:00<?, ?it/s]"
      ]
     },
     "metadata": {},
     "output_type": "display_data"
    },
    {
     "data": {
      "application/vnd.jupyter.widget-view+json": {
       "model_id": "e9850b1c62db45bb9b01b2bd83dfc1fe",
       "version_major": 2,
       "version_minor": 0
      },
      "text/plain": [
       "apply len_bytes to num_bytes:   0%|          | 0/51821 [00:00<?, ?it/s]"
      ]
     },
     "metadata": {},
     "output_type": "display_data"
    }
   ],
   "source": [
    "# ds.concat_datasets()\n",
    "ds.persist()"
   ]
  },
  {
   "cell_type": "code",
   "execution_count": 12,
   "metadata": {},
   "outputs": [
    {
     "name": "stdout",
     "output_type": "stream",
     "text": [
      "{'column_info': {'keys': {'id': 'id', 'text': 'text', 'timestamp': 'timestamp', 'split': 'split'}, 'columns': {'id': 'id', 'text': 'text', 'merge_meta_on': None, 'timestamp': None}, 'data': {'id': 'int', 'text': 'str'}, 'meta': None, 'timestamp': {'key': None, 'format': None, '_parms_': None}, 'datetime': {'columns': None, 'format': None, '_parms_': None}, 'segment_separator': '\\\\n\\\\n', 'sentence_separator': '\\\\n', '_target_': 'ekorpkit.info.column.ColumnInfo'}, 'cache': {'uri': None, 'extract_archive': True, 'force_extract': False, 'return_parent_dir': True, 'cache_dir': '/workspace/.cache', 'verbose': False, 'path': None}, 'name': 'nsmc-sst2', 'data_dir': '../data', 'filetype': '.parquet', 'autoload': True, 'use_name_as_subdir': True, 'verbose': False, 'info': {'stats': {'_func_': {'len_bytes': {'_partial_': True, '_target_': 'ekorpkit.utils.func.len_bytes'}}, '_target_': 'ekorpkit.info.stat.summary_stats', '_partial_': True, 'num_workers': 1, 'key_columns': None, 'num_columns': {'num_bytes': 'len_bytes'}, 'agg_funcs': {'num_bytes': ['count', 'sum', 'median', 'max', 'min']}, 'rename_columns': {'num_bytes_count': 'num_examples', 'num_bytes_sum': 'num_bytes'}, 'convert_to_humanbytes': {'num_bytes': 'human_bytes'}, 'text_keys': 'text'}, '_target_': 'ekorpkit.info.stat.SummaryInfo', 'name': 'nsmc-sst2', 'data_dir': '../data/nsmc-sst2', 'info_file': None, 'info_list': ['name', 'fullname', 'domain', 'task', 'lang', 'description', 'license', 'homepage', 'version', 'num_examples', 'size_in_bytes', 'size_in_human_bytes', 'data_files_modified', 'info_updated', 'data_files', 'column_info'], 'update_files_info': {'data_files': 'data_file', 'meta_files': 'meta_file'}, 'update_info': ['fullname', 'lang', 'domain', 'task', 'description', 'license', 'homepage', 'version'], 'modified_info': {'data_files_modified': 'data_file'}, 'key_columns': None, 'verbose': False, 'aggregate_info': {'num_examples': 'num_examples', 'size_in_bytes': 'num_bytes'}}, 'datasets': {'nsmc': <ekorpkit.datasets.dataset.Dataset object at 0x7f6cd0068820>, 'sst2': <ekorpkit.datasets.dataset.Dataset object at 0x7f6d83ffe700>}, 'autorun': ['load']}\n"
     ]
    }
   ],
   "source": [
    "print(ds.INFO)"
   ]
  },
  {
   "cell_type": "code",
   "execution_count": 13,
   "metadata": {},
   "outputs": [
    {
     "name": "stdout",
     "output_type": "stream",
     "text": [
      "Name of a new dataset: nsmc-sst2\n"
     ]
    }
   ],
   "source": [
    "print(f\"Name of a new dataset: {ds.name}\")"
   ]
  },
  {
   "cell_type": "markdown",
   "metadata": {
    "id": "zpdqyeyPPWek"
   },
   "source": [
    "## Instantiating a dataset"
   ]
  },
  {
   "cell_type": "code",
   "execution_count": 24,
   "metadata": {
    "colab": {
     "base_uri": "https://localhost:8080/"
    },
    "id": "DFsykazvPWel",
    "outputId": "f8ee38e9-59e7-472e-eb98-da032c0c209e"
   },
   "outputs": [],
   "source": [
    "cfg = eKonf.compose(config_group='dataset=dataset')\n",
    "cfg.name = 'financial_phrasebank'\n",
    "cfg.data_dir = '../data'\n",
    "ds = eKonf.instantiate(cfg)"
   ]
  },
  {
   "cell_type": "code",
   "execution_count": 25,
   "metadata": {},
   "outputs": [
    {
     "name": "stdout",
     "output_type": "stream",
     "text": [
      "ColumnInfo : {'keys': {'id': 'id', 'text': 'text', 'timestamp': 'timestamp', 'split': 'split'}, 'columns': {'id': 'id', 'text': 'text', 'merge_meta_on': None, 'timestamp': None}, 'data': {'id': 'int', 'text': 'str', 'labels': 'str', 'split': 'str'}, 'meta': None, 'timestamp': {'key': None, 'format': None, '_parms_': None}, 'datetime': {'columns': None, 'format': None, '_parms_': None}, 'segment_separator': '\\\\n\\\\n', 'sentence_separator': '\\\\n'}\n"
     ]
    }
   ],
   "source": [
    "print(ds.COLUMN)"
   ]
  },
  {
   "cell_type": "code",
   "execution_count": 26,
   "metadata": {
    "colab": {
     "base_uri": "https://localhost:8080/",
     "height": 423
    },
    "id": "MHrSWGlq_r2P",
    "outputId": "9a1f4304-0b6b-49ca-c044-1b2c6554078b"
   },
   "outputs": [
    {
     "data": {
      "text/html": [
       "<div>\n",
       "<style scoped>\n",
       "    .dataframe tbody tr th:only-of-type {\n",
       "        vertical-align: middle;\n",
       "    }\n",
       "\n",
       "    .dataframe tbody tr th {\n",
       "        vertical-align: top;\n",
       "    }\n",
       "\n",
       "    .dataframe thead th {\n",
       "        text-align: right;\n",
       "    }\n",
       "</style>\n",
       "<table border=\"1\" class=\"dataframe\">\n",
       "  <thead>\n",
       "    <tr style=\"text-align: right;\">\n",
       "      <th></th>\n",
       "      <th>id</th>\n",
       "      <th>labels</th>\n",
       "      <th>text</th>\n",
       "      <th>split</th>\n",
       "    </tr>\n",
       "  </thead>\n",
       "  <tbody>\n",
       "    <tr>\n",
       "      <th>0</th>\n",
       "      <td>655</td>\n",
       "      <td>neutral</td>\n",
       "      <td>Customers in a wide range of industries use ou...</td>\n",
       "      <td>train</td>\n",
       "    </tr>\n",
       "    <tr>\n",
       "      <th>1</th>\n",
       "      <td>634</td>\n",
       "      <td>neutral</td>\n",
       "      <td>The writing and publication of Lemmink+ñinen -...</td>\n",
       "      <td>train</td>\n",
       "    </tr>\n",
       "    <tr>\n",
       "      <th>2</th>\n",
       "      <td>1030</td>\n",
       "      <td>neutral</td>\n",
       "      <td>Sullivan said some of the boards `` really inv...</td>\n",
       "      <td>train</td>\n",
       "    </tr>\n",
       "    <tr>\n",
       "      <th>3</th>\n",
       "      <td>317</td>\n",
       "      <td>positive</td>\n",
       "      <td>The six breweries recorded a 5.2 percent growt...</td>\n",
       "      <td>train</td>\n",
       "    </tr>\n",
       "    <tr>\n",
       "      <th>4</th>\n",
       "      <td>868</td>\n",
       "      <td>positive</td>\n",
       "      <td>In the second quarter of 2010 , the company 's...</td>\n",
       "      <td>train</td>\n",
       "    </tr>\n",
       "    <tr>\n",
       "      <th>...</th>\n",
       "      <td>...</td>\n",
       "      <td>...</td>\n",
       "      <td>...</td>\n",
       "      <td>...</td>\n",
       "    </tr>\n",
       "    <tr>\n",
       "      <th>1440</th>\n",
       "      <td>136</td>\n",
       "      <td>positive</td>\n",
       "      <td>In the fourth quarter of 2009 , Orion 's net p...</td>\n",
       "      <td>train</td>\n",
       "    </tr>\n",
       "    <tr>\n",
       "      <th>1441</th>\n",
       "      <td>2170</td>\n",
       "      <td>negative</td>\n",
       "      <td>Profit for the period totalled EUR 1.1 mn , do...</td>\n",
       "      <td>train</td>\n",
       "    </tr>\n",
       "    <tr>\n",
       "      <th>1442</th>\n",
       "      <td>344</td>\n",
       "      <td>positive</td>\n",
       "      <td>The diluted loss per share narrowed to EUR 0.2...</td>\n",
       "      <td>train</td>\n",
       "    </tr>\n",
       "    <tr>\n",
       "      <th>1443</th>\n",
       "      <td>573</td>\n",
       "      <td>neutral</td>\n",
       "      <td>LKAB , headquartered in Lulea , Sweden , is a ...</td>\n",
       "      <td>train</td>\n",
       "    </tr>\n",
       "    <tr>\n",
       "      <th>1444</th>\n",
       "      <td>1768</td>\n",
       "      <td>neutral</td>\n",
       "      <td>The EBRD is using its own funds to provide a 2...</td>\n",
       "      <td>train</td>\n",
       "    </tr>\n",
       "  </tbody>\n",
       "</table>\n",
       "<p>1445 rows × 4 columns</p>\n",
       "</div>"
      ],
      "text/plain": [
       "        id    labels                                               text  split\n",
       "0      655   neutral  Customers in a wide range of industries use ou...  train\n",
       "1      634   neutral  The writing and publication of Lemmink+ñinen -...  train\n",
       "2     1030   neutral  Sullivan said some of the boards `` really inv...  train\n",
       "3      317  positive  The six breweries recorded a 5.2 percent growt...  train\n",
       "4      868  positive  In the second quarter of 2010 , the company 's...  train\n",
       "...    ...       ...                                                ...    ...\n",
       "1440   136  positive  In the fourth quarter of 2009 , Orion 's net p...  train\n",
       "1441  2170  negative  Profit for the period totalled EUR 1.1 mn , do...  train\n",
       "1442   344  positive  The diluted loss per share narrowed to EUR 0.2...  train\n",
       "1443   573   neutral  LKAB , headquartered in Lulea , Sweden , is a ...  train\n",
       "1444  1768   neutral  The EBRD is using its own funds to provide a 2...  train\n",
       "\n",
       "[1445 rows x 4 columns]"
      ]
     },
     "execution_count": 26,
     "metadata": {},
     "output_type": "execute_result"
    }
   ],
   "source": [
    "ds.splits['train']"
   ]
  },
  {
   "cell_type": "code",
   "execution_count": 27,
   "metadata": {
    "colab": {
     "base_uri": "https://localhost:8080/"
    },
    "id": "kArHj0GHPWem",
    "outputId": "dab02e68-13d8-4396-873a-8f28905526a4"
   },
   "outputs": [
    {
     "name": "stdout",
     "output_type": "stream",
     "text": [
      "{'column_info': {'data': {'id': 'int', 'labels': 'str', 'text': 'str'},\n",
      "                 'keys': {'id': 'id', 'text': 'text'}},\n",
      " 'data_files': {'dev': 'financial_phrasebank-dev.csv',\n",
      "                'test': 'financial_phrasebank-test.csv',\n",
      "                'train': 'financial_phrasebank-train.csv'},\n",
      " 'data_files_modified': '2022-05-03 09:35:34',\n",
      " 'domain': 'econ',\n",
      " 'info_updated': '2022-05-03 09:35:34',\n",
      " 'lang': 'en',\n",
      " 'meta_files': {},\n",
      " 'name': 'financial_phrasebank',\n",
      " 'num_examples': 2259,\n",
      " 'size_in_bytes': 275407,\n",
      " 'size_in_human_bytes': '268.95 KiB',\n",
      " 'splits': {'dev': {'data_file': 'financial_phrasebank-dev.csv',\n",
      "                    'dataset_name': 'financial_phrasebank',\n",
      "                    'human_bytes': '42.39 KiB',\n",
      "                    'name': 'dev',\n",
      "                    'num_bytes': 43404,\n",
      "                    'num_bytes_max': 296,\n",
      "                    'num_bytes_median': 109.0,\n",
      "                    'num_bytes_min': 9,\n",
      "                    'num_examples': 362},\n",
      "            'test': {'data_file': 'financial_phrasebank-test.csv',\n",
      "                     'dataset_name': 'financial_phrasebank',\n",
      "                     'human_bytes': '54.22 KiB',\n",
      "                     'name': 'test',\n",
      "                     'num_bytes': 55518,\n",
      "                     'num_bytes_max': 296,\n",
      "                     'num_bytes_median': 110.0,\n",
      "                     'num_bytes_min': 11,\n",
      "                     'num_examples': 452},\n",
      "            'train': {'data_file': 'financial_phrasebank-train.csv',\n",
      "                      'dataset_name': 'financial_phrasebank',\n",
      "                      'human_bytes': '172.35 KiB',\n",
      "                      'name': 'train',\n",
      "                      'num_bytes': 176485,\n",
      "                      'num_bytes_max': 315,\n",
      "                      'num_bytes_median': 112.0,\n",
      "                      'num_bytes_min': 15,\n",
      "                      'num_examples': 1445}},\n",
      " 'task': 'classification'}\n"
     ]
    }
   ],
   "source": [
    "eKonf.print(ds.INFO)"
   ]
  },
  {
   "cell_type": "markdown",
   "metadata": {
    "id": "tRbL-y3t_r2Q"
   },
   "source": [
    "## Instantiating datasets (autorun)"
   ]
  },
  {
   "cell_type": "code",
   "execution_count": 28,
   "metadata": {
    "colab": {
     "base_uri": "https://localhost:8080/"
    },
    "id": "u6ibZ97b_r2Q",
    "outputId": "6e73b55d-d713-4a4b-cd57-db2cfa004157"
   },
   "outputs": [
    {
     "name": "stdout",
     "output_type": "stream",
     "text": [
      "{'_method_': ['load', 'concatenate'],\n",
      " '_target_': 'ekorpkit.datasets.datasets.Datasets',\n",
      " 'autoload': True,\n",
      " 'autorun': ['load'],\n",
      " 'cache': {'cache_dir': '/workspace/.cache',\n",
      "           'extract_archive': True,\n",
      "           'force_extract': False,\n",
      "           'path': None,\n",
      "           'return_parent_dir': True,\n",
      "           'uri': None,\n",
      "           'verbose': True},\n",
      " 'column_info': {'_target_': 'ekorpkit.info.column.ColumnInfo',\n",
      "                 'columns': {'id': 'id',\n",
      "                             'merge_meta_on': None,\n",
      "                             'text': 'text',\n",
      "                             'timestamp': None},\n",
      "                 'data': {'id': 'int', 'text': 'str'},\n",
      "                 'datetime': {'_parms_': None, 'columns': None, 'format': None},\n",
      "                 'keys': {'id': 'id',\n",
      "                          'split': 'split',\n",
      "                          'text': 'text',\n",
      "                          'timestamp': 'timestamp'},\n",
      "                 'meta': None,\n",
      "                 'segment_separator': '\\\\n\\\\n',\n",
      "                 'sentence_separator': '\\\\n',\n",
      "                 'timestamp': {'_parms_': None, 'format': None, 'key': None}},\n",
      " 'data_dir': '../data',\n",
      " 'datasets': None,\n",
      " 'filetype': '.parquet',\n",
      " 'info': {'_target_': 'ekorpkit.info.stat.SummaryInfo',\n",
      "          'aggregate_info': {'num_examples': 'num_examples',\n",
      "                             'size_in_bytes': 'num_bytes'},\n",
      "          'data_dir': '../data',\n",
      "          'info_file': \"info-['financial_phrasebank'].yaml\",\n",
      "          'info_list': ['name',\n",
      "                        'fullname',\n",
      "                        'domain',\n",
      "                        'task',\n",
      "                        'lang',\n",
      "                        'description',\n",
      "                        'license',\n",
      "                        'homepage',\n",
      "                        'version',\n",
      "                        'num_examples',\n",
      "                        'size_in_bytes',\n",
      "                        'size_in_human_bytes',\n",
      "                        'data_files_modified',\n",
      "                        'info_updated',\n",
      "                        'data_files',\n",
      "                        'column_info'],\n",
      "          'key_columns': None,\n",
      "          'modified_info': {'data_files_modified': 'data_file'},\n",
      "          'name': ['financial_phrasebank'],\n",
      "          'stats': {'_func_': {'len_bytes': {'_partial_': True,\n",
      "                                             '_target_': 'ekorpkit.utils.func.len_bytes'}},\n",
      "                    '_partial_': True,\n",
      "                    '_target_': 'ekorpkit.info.stat.summary_stats',\n",
      "                    'agg_funcs': {'num_bytes': ['count',\n",
      "                                                'sum',\n",
      "                                                'median',\n",
      "                                                'max',\n",
      "                                                'min']},\n",
      "                    'convert_to_humanbytes': {'num_bytes': 'human_bytes'},\n",
      "                    'key_columns': None,\n",
      "                    'num_columns': {'num_bytes': 'len_bytes'},\n",
      "                    'num_workers': 1,\n",
      "                    'rename_columns': {'num_bytes_count': 'num_examples',\n",
      "                                       'num_bytes_sum': 'num_bytes'},\n",
      "                    'text_keys': 'text'},\n",
      "          'update_files_info': {'data_files': 'data_file',\n",
      "                                'meta_files': 'meta_file'},\n",
      "          'update_info': ['fullname',\n",
      "                          'lang',\n",
      "                          'domain',\n",
      "                          'task',\n",
      "                          'description',\n",
      "                          'license',\n",
      "                          'homepage',\n",
      "                          'version'],\n",
      "          'verbose': True},\n",
      " 'name': ['financial_phrasebank'],\n",
      " 'use_name_as_subdir': True,\n",
      " 'verbose': True}\n",
      "Intantiating a dataset financial_phrasebank with a config:\n",
      "{'_method_': ['load', 'concatenate'],\n",
      " 'autoload': True,\n",
      " 'autorun': ['load'],\n",
      " 'cache': {'cache_dir': '/workspace/.cache',\n",
      "           'extract_archive': True,\n",
      "           'force_extract': False,\n",
      "           'path': None,\n",
      "           'return_parent_dir': True,\n",
      "           'uri': None,\n",
      "           'verbose': True},\n",
      " 'column_info': {'_target_': 'ekorpkit.info.column.ColumnInfo',\n",
      "                 'columns': {'id': 'id',\n",
      "                             'merge_meta_on': None,\n",
      "                             'text': 'text',\n",
      "                             'timestamp': None},\n",
      "                 'data': {'id': 'int', 'labels': 'str', 'text': 'str'},\n",
      "                 'datetime': {'_parms_': None, 'columns': None, 'format': None},\n",
      "                 'keys': {'id': 'id',\n",
      "                          'split': 'split',\n",
      "                          'text': 'text',\n",
      "                          'timestamp': 'timestamp'},\n",
      "                 'meta': None,\n",
      "                 'segment_separator': '\\\\n\\\\n',\n",
      "                 'sentence_separator': '\\\\n',\n",
      "                 'timestamp': {'_parms_': None, 'format': None, 'key': None}},\n",
      " 'data_dir': '../data',\n",
      " 'data_files': {'dev': 'financial_phrasebank-dev.csv',\n",
      "                'test': 'financial_phrasebank-test.csv',\n",
      "                'train': 'financial_phrasebank-train.csv'},\n",
      " 'data_files_modified': '2022-05-03 09:35:34',\n",
      " 'datasets': None,\n",
      " 'domain': 'econ',\n",
      " 'filetype': '.parquet',\n",
      " 'info': {'_target_': 'ekorpkit.info.stat.SummaryInfo',\n",
      "          'aggregate_info': {'num_examples': 'num_examples',\n",
      "                             'size_in_bytes': 'num_bytes'},\n",
      "          'data_dir': '../data',\n",
      "          'info_file': \"info-['financial_phrasebank'].yaml\",\n",
      "          'info_list': ['name',\n",
      "                        'fullname',\n",
      "                        'domain',\n",
      "                        'task',\n",
      "                        'lang',\n",
      "                        'description',\n",
      "                        'license',\n",
      "                        'homepage',\n",
      "                        'version',\n",
      "                        'num_examples',\n",
      "                        'size_in_bytes',\n",
      "                        'size_in_human_bytes',\n",
      "                        'data_files_modified',\n",
      "                        'info_updated',\n",
      "                        'data_files',\n",
      "                        'column_info'],\n",
      "          'key_columns': None,\n",
      "          'modified_info': {'data_files_modified': 'data_file'},\n",
      "          'name': ['financial_phrasebank'],\n",
      "          'stats': {'_func_': {'len_bytes': {'_partial_': True,\n",
      "                                             '_target_': 'ekorpkit.utils.func.len_bytes'}},\n",
      "                    '_partial_': True,\n",
      "                    '_target_': 'ekorpkit.info.stat.summary_stats',\n",
      "                    'agg_funcs': {'num_bytes': ['count',\n",
      "                                                'sum',\n",
      "                                                'median',\n",
      "                                                'max',\n",
      "                                                'min']},\n",
      "                    'convert_to_humanbytes': {'num_bytes': 'human_bytes'},\n",
      "                    'key_columns': None,\n",
      "                    'num_columns': {'num_bytes': 'len_bytes'},\n",
      "                    'num_workers': 1,\n",
      "                    'rename_columns': {'num_bytes_count': 'num_examples',\n",
      "                                       'num_bytes_sum': 'num_bytes'},\n",
      "                    'text_keys': 'text'},\n",
      "          'update_files_info': {'data_files': 'data_file',\n",
      "                                'meta_files': 'meta_file'},\n",
      "          'update_info': ['fullname',\n",
      "                          'lang',\n",
      "                          'domain',\n",
      "                          'task',\n",
      "                          'description',\n",
      "                          'license',\n",
      "                          'homepage',\n",
      "                          'version'],\n",
      "          'verbose': True},\n",
      " 'info_updated': '2022-05-03 09:35:34',\n",
      " 'lang': 'en',\n",
      " 'meta_files': {},\n",
      " 'name': 'financial_phrasebank',\n",
      " 'num_examples': 2259,\n",
      " 'size_in_bytes': 275407,\n",
      " 'size_in_human_bytes': '268.95 KiB',\n",
      " 'splits': {'dev': {'data_file': 'financial_phrasebank-dev.csv',\n",
      "                    'dataset_name': 'financial_phrasebank',\n",
      "                    'human_bytes': '42.39 KiB',\n",
      "                    'name': 'dev',\n",
      "                    'num_bytes': 43404,\n",
      "                    'num_bytes_max': 296,\n",
      "                    'num_bytes_median': 109.0,\n",
      "                    'num_bytes_min': 9,\n",
      "                    'num_examples': 362},\n",
      "            'test': {'data_file': 'financial_phrasebank-test.csv',\n",
      "                     'dataset_name': 'financial_phrasebank',\n",
      "                     'human_bytes': '54.22 KiB',\n",
      "                     'name': 'test',\n",
      "                     'num_bytes': 55518,\n",
      "                     'num_bytes_max': 296,\n",
      "                     'num_bytes_median': 110.0,\n",
      "                     'num_bytes_min': 11,\n",
      "                     'num_examples': 452},\n",
      "            'train': {'data_file': 'financial_phrasebank-train.csv',\n",
      "                      'dataset_name': 'financial_phrasebank',\n",
      "                      'human_bytes': '172.35 KiB',\n",
      "                      'name': 'train',\n",
      "                      'num_bytes': 176485,\n",
      "                      'num_bytes_max': 315,\n",
      "                      'num_bytes_median': 112.0,\n",
      "                      'num_bytes_min': 15,\n",
      "                      'num_examples': 1445}},\n",
      " 'task': 'classification',\n",
      " 'use_name_as_subdir': True,\n",
      " 'verbose': True}\n"
     ]
    }
   ],
   "source": [
    "cfg = eKonf.compose(config_group='dataset=simple_auto')\n",
    "cfg.name = ['financial_phrasebank']\n",
    "cfg.data_dir = '../data'\n",
    "cfg.verbose = True\n",
    "eKonf.pprint(cfg)\n",
    "ds = eKonf.instantiate(cfg)"
   ]
  },
  {
   "cell_type": "code",
   "execution_count": 29,
   "metadata": {
    "colab": {
     "base_uri": "https://localhost:8080/"
    },
    "id": "Z0e0cZVm_r2R",
    "outputId": "c78437ba-b1da-4231-ea6a-d3937ca0259e"
   },
   "outputs": [
    {
     "data": {
      "text/plain": [
       "{'train':         labels                                               text  split  \\\n",
       " 0      neutral  Customers in a wide range of industries use ou...  train   \n",
       " 1      neutral  The writing and publication of Lemmink+ñinen -...  train   \n",
       " 2      neutral  Sullivan said some of the boards `` really inv...  train   \n",
       " 3     positive  The six breweries recorded a 5.2 percent growt...  train   \n",
       " 4     positive  In the second quarter of 2010 , the company 's...  train   \n",
       " ...        ...                                                ...    ...   \n",
       " 1440  positive  In the fourth quarter of 2009 , Orion 's net p...  train   \n",
       " 1441  negative  Profit for the period totalled EUR 1.1 mn , do...  train   \n",
       " 1442  positive  The diluted loss per share narrowed to EUR 0.2...  train   \n",
       " 1443   neutral  LKAB , headquartered in Lulea , Sweden , is a ...  train   \n",
       " 1444   neutral  The EBRD is using its own funds to provide a 2...  train   \n",
       " \n",
       "         id               dataset  \n",
       " 0      655  financial_phrasebank  \n",
       " 1      634  financial_phrasebank  \n",
       " 2     1030  financial_phrasebank  \n",
       " 3      317  financial_phrasebank  \n",
       " 4      868  financial_phrasebank  \n",
       " ...    ...                   ...  \n",
       " 1440   136  financial_phrasebank  \n",
       " 1441  2170  financial_phrasebank  \n",
       " 1442   344  financial_phrasebank  \n",
       " 1443   573  financial_phrasebank  \n",
       " 1444  1768  financial_phrasebank  \n",
       " \n",
       " [1445 rows x 5 columns],\n",
       " 'test':        labels                                               text split    id  \\\n",
       " 0     neutral  Los Angeles-based Pacific Office Properties Tr...  test   505   \n",
       " 1    positive  Investors will continue being interested in th...  test   783   \n",
       " 2    negative  Repeats sees 2008 operating profit down y-y ( ...  test  2253   \n",
       " 3     neutral  The acquisition was financed with $ 2.56 billi...  test  1374   \n",
       " 4    positive  Profit per share was EUR 1.03 , up from EUR 0....  test   243   \n",
       " ..        ...                                                ...   ...   ...   \n",
       " 447   neutral  The commission said the hydrogen peroxide and ...  test   605   \n",
       " 448  negative  Sales in Finland decreased by 2.0 % , and inte...  test  2258   \n",
       " 449  positive  The earnings per share for the quarter came in...  test   254   \n",
       " 450   neutral  The company can not give up palm oil altogethe...  test  1390   \n",
       " 451  positive  Pretax profit rose to EUR 1,019 mn from EUR 1,...  test   181   \n",
       " \n",
       "                   dataset  \n",
       " 0    financial_phrasebank  \n",
       " 1    financial_phrasebank  \n",
       " 2    financial_phrasebank  \n",
       " 3    financial_phrasebank  \n",
       " 4    financial_phrasebank  \n",
       " ..                    ...  \n",
       " 447  financial_phrasebank  \n",
       " 448  financial_phrasebank  \n",
       " 449  financial_phrasebank  \n",
       " 450  financial_phrasebank  \n",
       " 451  financial_phrasebank  \n",
       " \n",
       " [452 rows x 5 columns],\n",
       " 'dev':        labels                                               text split    id  \\\n",
       " 0     neutral       The identity of the buyer is not yet known .   dev  1449   \n",
       " 1    positive  Operating profit rose to EUR 3.2 mn from EUR 1...   dev   165   \n",
       " 2     neutral  Previously , Grimaldi held a 46.43 pct stake i...   dev  1334   \n",
       " 3     neutral  A total of $ 78 million will be invested in th...   dev   907   \n",
       " 4     neutral  The 19,200-square metre technology center is l...   dev  1371   \n",
       " ..        ...                                                ...   ...   ...   \n",
       " 357   neutral  Under a preliminary estimation , the technolog...   dev  1120   \n",
       " 358  positive  Operating profit improved by 27 % to EUR 579.8...   dev   404   \n",
       " 359   neutral  Rohwedder Group is an automotive supplies , te...   dev  1708   \n",
       " 360  positive  In January-September 2007 , the group 's net s...   dev   225   \n",
       " 361   neutral  Payment of shares shall be effected on subscri...   dev  1008   \n",
       " \n",
       "                   dataset  \n",
       " 0    financial_phrasebank  \n",
       " 1    financial_phrasebank  \n",
       " 2    financial_phrasebank  \n",
       " 3    financial_phrasebank  \n",
       " 4    financial_phrasebank  \n",
       " ..                    ...  \n",
       " 357  financial_phrasebank  \n",
       " 358  financial_phrasebank  \n",
       " 359  financial_phrasebank  \n",
       " 360  financial_phrasebank  \n",
       " 361  financial_phrasebank  \n",
       " \n",
       " [362 rows x 5 columns]}"
      ]
     },
     "execution_count": 29,
     "metadata": {},
     "output_type": "execute_result"
    }
   ],
   "source": [
    "ds.splits"
   ]
  },
  {
   "cell_type": "code",
   "execution_count": null,
   "metadata": {
    "id": "I7lQRCRJ_r2S"
   },
   "outputs": [],
   "source": []
  }
 ],
 "metadata": {
  "colab": {
   "name": "corpus.ipynb",
   "provenance": []
  },
  "interpreter": {
   "hash": "f869af7787e6a1c49e09e367fc6e1b81d93d1c6583b43249c80edc047bd13cb2"
  },
  "kernelspec": {
   "display_name": "Python 3",
   "language": "python",
   "name": "python3"
  },
  "language_info": {
   "codemirror_mode": {
    "name": "ipython",
    "version": 3
   },
   "file_extension": ".py",
   "mimetype": "text/x-python",
   "name": "python",
   "nbconvert_exporter": "python",
   "pygments_lexer": "ipython3",
   "version": "3.8.12"
  },
  "widgets": {
   "application/vnd.jupyter.widget-state+json": {
    "state": {},
    "version_major": 2,
    "version_minor": 0
   }
  }
 },
 "nbformat": 4,
 "nbformat_minor": 1
}
