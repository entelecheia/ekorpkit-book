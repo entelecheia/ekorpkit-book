{
 "cells": [
  {
   "cell_type": "markdown",
   "id": "af2fa2c2",
   "metadata": {},
   "source": [
    "# Installation\n",
    "\n",
    "Install the latest version of ekorpkit:\n",
    "\n",
    "```bash\n",
    "pip install -U ekorpkit\n",
    "```\n",
    "\n",
    "To install all extra dependencies,\n",
    "\n",
    "```bash\n",
    "pip install ekorpkit[all]\n",
    "```\n",
    "\n",
    "To install all extra dependencies, exhaustively, (not recommended)\n",
    "\n",
    "```bash\n",
    "pip install ekorpkit[exhaustive]\n",
    "```\n",
    "\n",
    "## Extra dependencies\n",
    "\n",
    "### List of extra dependency sets"
   ]
  },
  {
   "cell_type": "code",
   "execution_count": 1,
   "id": "9f9f6ee5",
   "metadata": {},
   "outputs": [
    {
     "data": {
      "text/plain": [
       "['tokenize',\n",
       " 'all',\n",
       " 'mecab',\n",
       " 'tokenize-en',\n",
       " 'dataset',\n",
       " 'topic',\n",
       " 'visualize',\n",
       " 'parser',\n",
       " 'wiki',\n",
       " 'fomc',\n",
       " 'edgar',\n",
       " 'model',\n",
       " 'transformers',\n",
       " 'automl',\n",
       " 'cached-path',\n",
       " 'google',\n",
       " 'ddbackend',\n",
       " 'fetch',\n",
       " 'doc',\n",
       " 'art',\n",
       " 'disco',\n",
       " 'dalle-mini',\n",
       " 'label',\n",
       " 'exhaustive']"
      ]
     },
     "execution_count": 1,
     "metadata": {},
     "output_type": "execute_result"
    }
   ],
   "source": [
    "from ekorpkit import eKonf\n",
    "eKonf.dependencies()"
   ]
  },
  {
   "cell_type": "markdown",
   "id": "47882be8",
   "metadata": {},
   "source": [
    "### List of libraries in each dependency set"
   ]
  },
  {
   "cell_type": "code",
   "execution_count": 2,
   "id": "88c97943",
   "metadata": {},
   "outputs": [
    {
     "data": {
      "text/plain": [
       "{'emoji<2.0',\n",
       " 'fugashi',\n",
       " 'mecab-ko-dic',\n",
       " 'mecab-python3',\n",
       " 'nltk',\n",
       " 'pynori',\n",
       " 'pysbd',\n",
       " 'sacremoses',\n",
       " 'soynlp',\n",
       " 'spacy'}"
      ]
     },
     "execution_count": 2,
     "metadata": {},
     "output_type": "execute_result"
    }
   ],
   "source": [
    "from ekorpkit import eKonf\n",
    "eKonf.dependencies(\"tokenize\")"
   ]
  },
  {
   "cell_type": "code",
   "execution_count": 3,
   "id": "45524013",
   "metadata": {},
   "outputs": [
    {
     "data": {
      "text/plain": [
       "{'beautifulsoup4',\n",
       " 'datasets',\n",
       " 'datasketch',\n",
       " 'emoji<2.0',\n",
       " 'joblib',\n",
       " 'jsonlines',\n",
       " 'jsonpath-ng',\n",
       " 'loky',\n",
       " 'lsh',\n",
       " 'openpyxl',\n",
       " 'orjson',\n",
       " 'p_tqdm',\n",
       " 'pathos',\n",
       " 'py7zr',\n",
       " 'pysbd',\n",
       " 'pysimdjson',\n",
       " 'tensorflow-datasets',\n",
       " 'wget',\n",
       " 'zstandard'}"
      ]
     },
     "execution_count": 3,
     "metadata": {},
     "output_type": "execute_result"
    }
   ],
   "source": [
    "eKonf.dependencies(\"dataset\")"
   ]
  },
  {
   "cell_type": "code",
   "execution_count": 4,
   "id": "d4d38067",
   "metadata": {},
   "outputs": [
    {
     "data": {
      "text/plain": [
       "{'accelerate',\n",
       " 'datasets',\n",
       " 'evaluate',\n",
       " 'flaml',\n",
       " 'scipy',\n",
       " 'simpletransformers>=0.63',\n",
       " 'tensorflow'}"
      ]
     },
     "execution_count": 4,
     "metadata": {},
     "output_type": "execute_result"
    }
   ],
   "source": [
    "eKonf.dependencies(\"model\")"
   ]
  },
  {
   "cell_type": "code",
   "execution_count": 5,
   "id": "7580a743",
   "metadata": {},
   "outputs": [
    {
     "data": {
      "text/plain": [
       "{'Pillow<9.1.0',\n",
       " 'kaleido',\n",
       " 'matplotlib',\n",
       " 'plotly',\n",
       " 'rich',\n",
       " 'seaborn',\n",
       " 'wordcloud'}"
      ]
     },
     "execution_count": 5,
     "metadata": {},
     "output_type": "execute_result"
    }
   ],
   "source": [
    "eKonf.dependencies(\"visualize\")"
   ]
  },
  {
   "cell_type": "code",
   "execution_count": 6,
   "id": "c681c4e5",
   "metadata": {},
   "outputs": [
    {
     "data": {
      "text/plain": [
       "{'Pillow<9.1.0',\n",
       " 'accelerate',\n",
       " 'beautifulsoup4',\n",
       " 'cleanlab',\n",
       " 'cssutils',\n",
       " 'datasets',\n",
       " 'datasketch',\n",
       " 'emoji<2.0',\n",
       " 'evaluate',\n",
       " 'flaml',\n",
       " 'fredapi',\n",
       " 'fugashi',\n",
       " 'html-to-json',\n",
       " 'joblib',\n",
       " 'jsonlines',\n",
       " 'jsonpath-ng',\n",
       " 'kaleido',\n",
       " 'loky',\n",
       " 'lsh',\n",
       " 'matplotlib',\n",
       " 'mecab-ko-dic',\n",
       " 'mecab-python3',\n",
       " 'nasdaq-data-link',\n",
       " 'nltk',\n",
       " 'openpyxl',\n",
       " 'orjson',\n",
       " 'p_tqdm',\n",
       " 'pathos',\n",
       " 'plotly',\n",
       " 'py7zr',\n",
       " 'pyLDAvis',\n",
       " 'pynori',\n",
       " 'pysbd',\n",
       " 'pysimdjson',\n",
       " 'rich',\n",
       " 'sacremoses',\n",
       " 'scipy',\n",
       " 'seaborn',\n",
       " 'simpletransformers>=0.63',\n",
       " 'soynlp',\n",
       " 'statsmodels',\n",
       " 'tensorflow',\n",
       " 'tomotopy',\n",
       " 'wget',\n",
       " 'wordcloud',\n",
       " 'zstandard'}"
      ]
     },
     "execution_count": 6,
     "metadata": {},
     "output_type": "execute_result"
    }
   ],
   "source": [
    "eKonf.dependencies(\"all\")"
   ]
  },
  {
   "cell_type": "markdown",
   "id": "d66932f5",
   "metadata": {},
   "source": [
    "### self-upgrade of ekorpkit"
   ]
  },
  {
   "cell_type": "code",
   "execution_count": 7,
   "id": "fe2e39c0",
   "metadata": {},
   "outputs": [
    {
     "name": "stderr",
     "output_type": "stream",
     "text": [
      "WARNING: Running pip as the 'root' user can result in broken permissions and conflicting behaviour with the system package manager. It is recommended to use a virtual environment instead: https://pip.pypa.io/warnings/venv\n"
     ]
    },
    {
     "name": "stdout",
     "output_type": "stream",
     "text": [
      "\n"
     ]
    }
   ],
   "source": [
    "eKonf.upgrade(\n",
    "  prelease=True, \n",
    "  quiet=True, \n",
    "  verbose=True, \n",
    "  force_reinstall=False)"
   ]
  }
 ],
 "metadata": {
  "jupytext": {
   "formats": "md:myst",
   "text_representation": {
    "extension": ".md",
    "format_name": "myst"
   }
  },
  "kernelspec": {
   "display_name": "Python 3",
   "language": "python",
   "name": "python3"
  },
  "language_info": {
   "codemirror_mode": {
    "name": "ipython",
    "version": 3
   },
   "file_extension": ".py",
   "mimetype": "text/x-python",
   "name": "python",
   "nbconvert_exporter": "python",
   "pygments_lexer": "ipython3",
   "version": "3.8.12"
  },
  "source_map": [
   11,
   37,
   40,
   44,
   49,
   53,
   57,
   61,
   63,
   67
  ]
 },
 "nbformat": 4,
 "nbformat_minor": 5
}