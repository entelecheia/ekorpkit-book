{
 "cells": [
  {
   "cell_type": "markdown",
   "metadata": {
    "id": "cjgz1WTcPWee"
   },
   "source": [
    "# Lab 1: Preparing Data for Language Modeling"
   ]
  },
  {
   "cell_type": "markdown",
   "metadata": {},
   "source": [
    "## Install the ekorpkit library along with its dependencies"
   ]
  },
  {
   "cell_type": "code",
   "execution_count": null,
   "metadata": {},
   "outputs": [],
   "source": [
    "%pip install --pre ekorpkit[wiki,fetch]"
   ]
  },
  {
   "cell_type": "code",
   "execution_count": 1,
   "metadata": {
    "id": "BzxPwsOVPWef"
   },
   "outputs": [
    {
     "name": "stderr",
     "output_type": "stream",
     "text": [
      "INFO:ekorpkit.utils.notebook:shell type: ZMQInteractiveShell\n",
      "INFO:ekorpkit.utils.notebook:Google Colab not detected.\n",
      "INFO:ekorpkit.base:Setting EKORPKIT_WORKSPACE_ROOT to /content/drive/MyDrive/workspace/\n",
      "INFO:ekorpkit.base:Setting EKORPKIT_PROJECT to ekorpkit-book\n",
      "INFO:ekorpkit.base:Loaded .env from /workspace/projects/ekorpkit-book/config/.env\n",
      "INFO:ekorpkit.base:Loaded .env from /workspace/projects/ekorpkit-book/config/.env\n"
     ]
    },
    {
     "name": "stdout",
     "output_type": "stream",
     "text": [
      "version: 0.1.40.post0.dev2\n",
      "is notebook? True\n",
      "is colab? False\n",
      "environment variables:\n",
      "{'CUDA_DEVICE_ORDER': None,\n",
      " 'CUDA_VISIBLE_DEVICES': None,\n",
      " 'EKORPKIT_CONFIG_DIR': '/workspace/projects/ekorpkit-book/config',\n",
      " 'EKORPKIT_DATA_DIR': None,\n",
      " 'EKORPKIT_LOG_LEVEL': 'INFO',\n",
      " 'EKORPKIT_PROJECT': 'ekorpkit-book',\n",
      " 'EKORPKIT_WORKSPACE_ROOT': '/content/drive/MyDrive/workspace',\n",
      " 'KMP_DUPLICATE_LIB_OK': 'TRUE',\n",
      " 'NUM_WORKERS': 230}\n"
     ]
    }
   ],
   "source": [
    "from ekorpkit import eKonf\n",
    "\n",
    "eKonf.setLogger(\"INFO\")\n",
    "print(\"version:\", eKonf.__version__)\n",
    "\n",
    "is_notebook = eKonf.is_notebook()\n",
    "is_colab = eKonf.is_colab()\n",
    "print(\"is notebook?\", is_notebook)\n",
    "print(\"is colab?\", is_colab)\n",
    "if is_colab:\n",
    "    eKonf.mount_google_drive()\n",
    "eKonf.set_workspace(workspace=\"/content/drive/MyDrive/workspace/\", project=\"ekorpkit-book\")\n",
    "\n",
    "print(\"environment variables:\")\n",
    "eKonf.print(eKonf.env().dict())"
   ]
  },
  {
   "cell_type": "markdown",
   "metadata": {
    "id": "it1Y0MVPXRsJ"
   },
   "source": [
    "## Build corpora with the ekorpkit configs\n",
    "\n",
    "### Wikipedia Dump\n",
    "\n",
    "- The first step is to download the Wikipedia dump. \n",
    "- The dump is a collection of all Wikipedia articles in XML format. \n",
    "- The dump for English is available at https://dumps.wikimedia.org/enwiki/latest/enwiki-latest-pages-articles.xml.bz2. \n",
    "- The dump is about 20.3 GB in size.\n",
    "- For other languages, change `en` to the language code of your choice.\n",
    "- For the detailed list of language codes, see https://meta.wikimedia.org/wiki/List_of_Wikipedias."
   ]
  },
  {
   "cell_type": "markdown",
   "metadata": {},
   "source": [
    "#### Fetch the dump and extract it to the `data` directory \n",
    "\n",
    "```python\n",
    "from ekorpkit.io.fetch.loader.wiki import Wiki\n",
    "\n",
    "wiki = Wiki(lang=\"ko\", output_dir=\"data\")\n",
    "wiki.download_dump()\n",
    "wiki.extract_wiki()\n",
    "```\n"
   ]
  },
  {
   "cell_type": "markdown",
   "metadata": {},
   "source": [
    "Following the instructions above, you can download the dump for other languages."
   ]
  },
  {
   "cell_type": "code",
   "execution_count": 7,
   "metadata": {},
   "outputs": [
    {
     "name": "stdout",
     "output_type": "stream",
     "text": [
      "{'_name_': 'fetcher',\n",
      " '_target_': 'ekorpkit.io.fetch.loader.wiki.Wiki',\n",
      " 'auto': {'load': False},\n",
      " 'autoload': False,\n",
      " 'compress': False,\n",
      " 'dump': {'_target_': 'web_download',\n",
      "          'dump_dir': '/content/drive/MyDrive/workspace/.cache/corpus/kowiki',\n",
      "          'dump_file': 'kowiki.xml.bz2',\n",
      "          'url': 'https://dumps.wikimedia.org/kowiki/latest/kowiki-latest-pages-articles.xml.bz2'},\n",
      " 'extract': {'_target_': 'extract_wiki'},\n",
      " 'force': {'download': True},\n",
      " 'force_download': True,\n",
      " 'lang': 'ko',\n",
      " 'limit': -1,\n",
      " 'name': 'kowiki',\n",
      " 'num_workers': 50,\n",
      " 'output_dir': '/content/drive/MyDrive/workspace/.cache/corpus/kowiki/extracted',\n",
      " 'output_file': None,\n",
      " 'path': {'cached_path': None,\n",
      "          'columns': None,\n",
      "          'concat_data': False,\n",
      "          'data_columns': None,\n",
      "          'data_dir': '/content/drive/MyDrive/workspace/data/kowiki',\n",
      "          'data_file': None,\n",
      "          'filetype': '',\n",
      "          'name': 'kowiki',\n",
      "          'output': {'base_dir': '/content/drive/MyDrive/workspace/.cache/corpus/kowiki/extracted',\n",
      "                     'columns': None,\n",
      "                     'file': None,\n",
      "                     'filename': None,\n",
      "                     'filepath': '/content/drive/MyDrive/workspace/.cache/corpus/kowiki/extracted',\n",
      "                     'filetype': '',\n",
      "                     'suffix': None},\n",
      "          'output_dir': '/content/drive/MyDrive/workspace/.cache/corpus/kowiki/extracted',\n",
      "          'output_file': None,\n",
      "          'root': '/content/drive/MyDrive/workspace/data/kowiki',\n",
      "          'suffix': None,\n",
      "          'verbose': True},\n",
      " 'verbose': True}\n"
     ]
    }
   ],
   "source": [
    "wiki_cfg = eKonf.compose('io/fetcher=wiki')\n",
    "wiki_cfg.lang = \"ko\"\n",
    "wiki_cfg.name = \"kowiki\"\n",
    "wiki_cfg.output_dir = f\"{wiki_cfg.dump.dump_dir}/extracted\"\n",
    "wiki_cfg.autoload = False\n",
    "wiki_cfg.force_download = True\n",
    "wiki_cfg.num_workers = 50\n",
    "wiki_cfg.verbose = True\n",
    "\n",
    "eKonf.print(wiki_cfg)"
   ]
  },
  {
   "cell_type": "code",
   "execution_count": 8,
   "metadata": {},
   "outputs": [
    {
     "data": {
      "application/vnd.jupyter.widget-view+json": {
       "model_id": "7f57cd7e390042ad85a99efd0b1fbafa",
       "version_major": 2,
       "version_minor": 0
      },
      "text/plain": [
       "[kowiki.xml.bz2] download kowiki.xml.bz2: 0.00B [00:00, ?B/s]"
      ]
     },
     "metadata": {},
     "output_type": "display_data"
    },
    {
     "name": "stderr",
     "output_type": "stream",
     "text": [
      "INFO: Preprocessing '/content/drive/MyDrive/workspace/.cache/corpus/kowiki/kowiki.xml.bz2' to collect template definitions: this may take some time.\n",
      "INFO: Preprocessed 100000 pages\n",
      "INFO: Preprocessed 200000 pages\n",
      "INFO: Preprocessed 300000 pages\n",
      "INFO: Preprocessed 400000 pages\n",
      "INFO: Preprocessed 500000 pages\n",
      "INFO: Preprocessed 600000 pages\n",
      "INFO: Preprocessed 700000 pages\n",
      "INFO: Preprocessed 800000 pages\n",
      "INFO: Preprocessed 900000 pages\n",
      "INFO: Preprocessed 1000000 pages\n",
      "INFO: Preprocessed 1100000 pages\n",
      "INFO: Preprocessed 1200000 pages\n",
      "INFO: Preprocessed 1300000 pages\n",
      "INFO: Preprocessed 1400000 pages\n",
      "INFO: Preprocessed 1500000 pages\n",
      "INFO: Preprocessed 1600000 pages\n",
      "INFO: Preprocessed 1700000 pages\n",
      "INFO: Loaded 60850 templates in 214.3s\n",
      "INFO: Starting page extraction from /content/drive/MyDrive/workspace/.cache/corpus/kowiki/kowiki.xml.bz2.\n",
      "INFO: Using 50 extract processes.\n",
      "INFO: Extracted 100000 articles (2809.9 art/s)\n",
      "INFO: Extracted 200000 articles (4194.9 art/s)\n",
      "INFO: Extracted 300000 articles (4598.9 art/s)\n",
      "INFO: Extracted 400000 articles (5019.5 art/s)\n",
      "INFO: Extracted 500000 articles (5461.3 art/s)\n",
      "INFO: Extracted 600000 articles (5120.8 art/s)\n",
      "INFO: Extracted 700000 articles (5254.5 art/s)\n",
      "INFO: Extracted 800000 articles (6065.9 art/s)\n",
      "INFO: Extracted 900000 articles (19874.6 art/s)\n",
      "INFO: Extracted 1000000 articles (10843.3 art/s)\n",
      "INFO: Extracted 1100000 articles (5674.7 art/s)\n",
      "INFO: Extracted 1200000 articles (5990.6 art/s)\n",
      "INFO: Extracted 1300000 articles (5678.9 art/s)\n"
     ]
    },
    {
     "name": "stdout",
     "output_type": "stream",
     "text": [
      "Extracted kowiki from dump file /content/drive/MyDrive/workspace/.cache/corpus/kowiki/kowiki.xml.bz2\n"
     ]
    },
    {
     "name": "stderr",
     "output_type": "stream",
     "text": [
      "INFO: Finished 50-process extraction of 1339049 articles in 247.2s (5417.6 art/s)\n"
     ]
    }
   ],
   "source": [
    "from ekorpkit.io.fetch.loader.wiki import Wiki\n",
    "\n",
    "args = eKonf.to_dict(wiki_cfg)\n",
    "wiki = Wiki(**args)\n",
    "wiki.download_dump()\n",
    "wiki.extract_wiki()\n"
   ]
  },
  {
   "cell_type": "markdown",
   "metadata": {},
   "source": [
    "#### Build the corpus by Parsing the Wikipedia Dump\n",
    "\n",
    "- The next step is to parse the Wikipedia dump and build the corpus.\n",
    "- Extracted Wikipedia dump is in JSON Lines format, which is a line-delimited JSON format."
   ]
  },
  {
   "cell_type": "markdown",
   "metadata": {},
   "source": []
  },
  {
   "cell_type": "code",
   "execution_count": 4,
   "metadata": {
    "colab": {
     "base_uri": "https://localhost:8080/",
     "height": 1000,
     "referenced_widgets": [
      "8c65a541b1424bc895a358ec8c2955d0",
      "a1f39c5fb6e14bba94948ceed945c48e",
      "df825e76b09f4b40b0f22abd96afd9ec",
      "f2ba1273dc964523a52c645113dc15dc",
      "cf589159b5844031b2c07a2941d6d767",
      "c73b1e574c6148a79e919619e5337b13",
      "c3d0d587372c4cb185f70e2106460913",
      "42bba043a42e4a408017fa0c58fc89b1",
      "eca5b19cb1a8472f9803e056dc2e3edf",
      "1eec65bd4a4f4ac3a141ebfc0abf2fd7",
      "3a91d7fbcbe94220bb5e5edc4592ea44",
      "c0249a1e6b094b28afb32aa4c8ee6241",
      "b406dade33294912b357909432006a6f",
      "466cf119d61544108f7e9fc2743f90f4",
      "895fc91e766a4c5098cef03f21722754",
      "d933287033b244eb878dd8272163edbd",
      "b6329b07e3c9478a9934f014d2586c8a",
      "147722c8b38e43f4a74a8cbc4ff80132",
      "94ade840d70c440b901f0fefca36b700",
      "bb38b9fad3f6491cb0e4f5e13a00f402",
      "6c34cf9978fd4a0ab092db70ba5ca133",
      "b530f744c9914640b388e2c9ca7164be",
      "7f49f945e79c49558b5c23e413670ca4",
      "ad250bac857e4ba191178ff7aa0f21c2",
      "76c77c45dc2146a887d1a05d05a2b07c",
      "1bb668c7534d435a9f0a55c6eafb3755",
      "c504bb84cc5c4e0a9d8f4f5715ec6a03",
      "52688fc848054b3da375b73185519df2",
      "6c105fb7575745968215abddfc42d3a4",
      "c465acff35ef43cd8aa029289509f801",
      "cdce198d7e584538987b33ed590860d3",
      "3971c7c442bc4ff0ae1148a75034e989",
      "5beee945b7ed485eb3f7c8193d9c696a",
      "92753dfdb5854e12bc66bdc60072b5a1",
      "beb1d40680394747b535f2bbbbff8d75",
      "d86836fe655f4097abfe4297b3c33f27",
      "8670c085406a45ba9dff599d8e1bcfa0",
      "c5f11d5c87964550aacd9b477f2791aa",
      "b6188d143588467e90daa1c230748456",
      "5bef610b5d5c43549f174794559298a6",
      "2e3a25b1cfa34d6fac3ce2e33831ce71",
      "83214c0e91004c57b95a17f72c9ade8e",
      "4ea44db70fc14d839ef1e36b262197f1",
      "d751a8dd2711494695545cd8309a9add",
      "5af5d75e48bb409bb0201ae9b4bcbc7a",
      "12d5551a754b4c32a714fa0fa25096a6",
      "bb6c2a38a0e147d1a73bd510d0af4f55",
      "74b643eb567b4e1baa2edeab5314bf74",
      "0cc33597c6624a2fadc0454f1347e245",
      "ea8f5b8623a4457aa5e7028bd47d8f7c",
      "5e6bf9b1fe4a4b20a892690140fd153b",
      "03468bd389d649b6a5376a225393d580",
      "4741f650996042a5822de55078e32aaf",
      "e5610d32b9434cfaad97c84dff963517",
      "747bd5269293486fa5610b5ef989ad1a",
      "0a251d38928746c1bc8e811676078c84",
      "92c9e23051b84ec5a44f4535d384ea3d",
      "745247540de84e14ad7513d479500175",
      "f59dc69320884fdebf3c128cac03d50c",
      "6d5547298c504706b47369159b47b387",
      "3f1fdfa3512c45cc93ee00d0d9a65864",
      "a4905ccd3b6948f6b9a43353c444a712",
      "6fadeb5ed8e94808b87e91a6272cfa53",
      "11475267a3ae4986b70c2282fd4a0723",
      "a83cdec6d8764baaa94eb719d94bf0cf",
      "64dcc52bf9af461d92d605f60da57c10",
      "de057a7427694ca391cde9f8244706cd",
      "d973cb22de8a4980a93e42e5b02ec1b5",
      "ee954aeeaaed48a7acaf05112897a74e",
      "1092b9c63f5c4e5fab04337f55d6272f",
      "42039657cac3411389b3103129f74c17",
      "b937fee33d684033bbf93af5c98fa59c",
      "6c3a5ec1a3ec45c789611d5820b0a97b",
      "9686d1ab402d436b90deabb87782ac28",
      "f403433bd62c42bf88cb4007300ab14f",
      "c766e4a1c63f43a3ab2803b71a05f675",
      "e6cbaaf738b44a8bb26cf5364322476d"
     ]
    },
    "id": "hEVpCETEPWeg",
    "outputId": "f544db07-b0be-4c52-ed74-15de18f741ef",
    "scrolled": false
   },
   "outputs": [
    {
     "name": "stderr",
     "output_type": "stream",
     "text": [
      "INFO:ekorpkit.base:instantiating ekorpkit.datasets.build.DatasetBuilder...\n",
      "INFO:ekorpkit.base:instantiating ekorpkit.io.fetch.loader.wiki.Wiki...\n"
     ]
    },
    {
     "data": {
      "application/vnd.jupyter.widget-view+json": {
       "model_id": "07ae5155eb6148f2bd62d1a76e6d2385",
       "version_major": 2,
       "version_minor": 0
      },
      "text/plain": [
       "[kowiki.xml.bz] download kowiki.xml.bz: 0.00B [00:00, ?B/s]"
      ]
     },
     "metadata": {},
     "output_type": "display_data"
    },
    {
     "name": "stderr",
     "output_type": "stream",
     "text": [
      "Traceback (most recent call last):\n",
      "  File \"/opt/conda/lib/python3.8/runpy.py\", line 194, in _run_module_as_main\n",
      "    return _run_code(code, main_globals, None,\n",
      "  File \"/opt/conda/lib/python3.8/runpy.py\", line 87, in _run_code\n",
      "    exec(code, run_globals)\n",
      "  File \"/opt/conda/lib/python3.8/site-packages/wikiextractor/WikiExtractor.py\", line 645, in <module>\n",
      "    main()\n",
      "  File \"/opt/conda/lib/python3.8/site-packages/wikiextractor/WikiExtractor.py\", line 640, in main\n",
      "    process_dump(input_file, args.templates, output_path, file_size,\n",
      "  File \"/opt/conda/lib/python3.8/site-packages/wikiextractor/WikiExtractor.py\", line 301, in process_dump\n",
      "    for line in input:\n",
      "  File \"/opt/conda/lib/python3.8/codecs.py\", line 322, in decode\n",
      "    (result, consumed) = self._buffer_decode(data, self.errors, final)\n",
      "UnicodeDecodeError: 'utf-8' codec can't decode byte 0xa1 in position 16: invalid start byte\n",
      "INFO:ekorpkit.base:instantiating ekorpkit.info.stat.SummaryInfo...\n",
      "INFO:ekorpkit.info.stat:Loading info file: ../data/kowiki/info-kowiki.yaml\n",
      "INFO:ekorpkit.base:instantiating ekorpkit.io.load.data.load_data...\n",
      "INFO:ekorpkit.io.file:Processing [0] files from ['**/*']\n",
      "WARNING:ekorpkit.io.load.data:No files to load\n",
      "INFO:ekorpkit.datasets.build: >> elapsed time to load and parse data: 0:00:00.006897\n",
      "INFO:ekorpkit.datasets.build:\n",
      "Transforming dataframe with pipeline: ['reset_index', 'save_metadata']\n",
      "INFO:ekorpkit.pipelines.pipe:Applying pipeline: OrderedDict([('reset_index', 'reset_index'), ('save_metadata', 'save_metadata')])\n",
      "INFO:ekorpkit.base:Applying pipe: functools.partial(<function reset_index at 0x7fac3bbe8ca0>)\n",
      "INFO:ekorpkit.pipelines.pipe:Resetting index: {'_func_': {'_partial_': True, '_target_': 'ekorpkit.pipelines.pipe.reset_index'}, 'index_column_name': 'id', 'drop_index': False, 'verbose': True}\n",
      "INFO:ekorpkit.base:Applying pipe: functools.partial(<function save_metadata at 0x7fac3b3e9820>)\n",
      "INFO:ekorpkit.pipelines.pipe:Saving metadata: {'_func_': {'_partial_': True, '_target_': 'ekorpkit.pipelines.pipe.save_metadata'}, 'path': {'root': '/workspace/data/ekorpkit-book', 'name': 'ekorpkit-book', 'cached_path': None, 'filetype': None, 'verbose': True, 'data_dir': '/workspace/data/ekorpkit-book', 'data_file': None, 'concat_data': False, 'data_columns': None, 'columns': None, 'output_dir': None, 'output_file': None, 'suffix': None, 'output': {'filename': 'meta-kowiki-train.parquet', 'base_dir': '../data/kowiki', 'filetype': '.parquet', 'suffix': None, 'filepath': '../data/kowiki/meta-kowiki-train.parquet', 'columns': None, 'verbose': True}}, 'filepath': None, 'filetype': None, 'column_info': {'columns': {'id': 'id', 'text': 'text', 'merge_meta_on': 'id', 'timestamp': None}, 'datetime': {'columns': None, 'format': None, 'rcParams': None}, 'timestamp': {'key': None, 'format': None, 'rcParams': None}, 'data': {'id': 'int', 'text': 'str'}, 'meta': {'id': 'int', 'curid': 'str', 'url': 'str', 'title': 'str'}, 'segment_separator': '\\\\n\\\\n', 'sentence_separator': '\\\\n'}, 'split_name': 'train', 'verbose': True}\n"
     ]
    },
    {
     "name": "stdout",
     "output_type": "stream",
     "text": [
      "Extracted kowiki from dump file /workspace/.cache/corpus/kowiki/kowiki.xml.bz\n",
      "{'category': 'formal',\n",
      " 'column_info': {'columns': {'id': 'id',\n",
      "                             'merge_meta_on': 'id',\n",
      "                             'text': 'text',\n",
      "                             'timestamp': None},\n",
      "                 'data': {'id': 'int', 'text': 'str'},\n",
      "                 'datetime': {'columns': None,\n",
      "                              'format': None,\n",
      "                              'rcParams': None},\n",
      "                 'meta': {'curid': 'str',\n",
      "                          'id': 'int',\n",
      "                          'title': 'str',\n",
      "                          'url': 'str'},\n",
      "                 'segment_separator': '\\\\n\\\\n',\n",
      "                 'sentence_separator': '\\\\n',\n",
      "                 'timestamp': {'format': None, 'key': None, 'rcParams': None}},\n",
      " 'description': '위키백과, 우리 모두의 백과사전',\n",
      " 'fullname': 'Korean Wikipedia Corpus',\n",
      " 'homepage': 'https://ko.wikipedia.org',\n",
      " 'lang': 'ko',\n",
      " 'license': 'CC Attribution / Share-Alike 3.0',\n",
      " 'name': 'kowiki',\n",
      " 'version': '1.0.0'}\n",
      "Empty DataFrame\n",
      "Columns: []\n",
      "Index: []\n",
      "(0, 0)\n",
      "Empty DataFrame\n",
      "Columns: [id]\n",
      "Index: []\n"
     ]
    },
    {
     "ename": "InstantiationException",
     "evalue": "Error in call to target 'ekorpkit.datasets.build.DatasetBuilder':\nKeyError(\"['curid', 'url', 'title'] not in index\")\nfull_key: corpus.builtin",
     "output_type": "error",
     "traceback": [
      "\u001b[0;31m---------------------------------------------------------------------------\u001b[0m",
      "\u001b[0;31mKeyError\u001b[0m                                  Traceback (most recent call last)",
      "File \u001b[0;32m/opt/conda/lib/python3.8/site-packages/hydra/_internal/instantiate/_instantiate2.py:92\u001b[0m, in \u001b[0;36m_call_target\u001b[0;34m(_target_, _partial_, args, kwargs, full_key)\u001b[0m\n\u001b[1;32m     91\u001b[0m \u001b[39mtry\u001b[39;00m:\n\u001b[0;32m---> 92\u001b[0m     \u001b[39mreturn\u001b[39;00m _target_(\u001b[39m*\u001b[39;49margs, \u001b[39m*\u001b[39;49m\u001b[39m*\u001b[39;49mkwargs)\n\u001b[1;32m     93\u001b[0m \u001b[39mexcept\u001b[39;00m \u001b[39mException\u001b[39;00m \u001b[39mas\u001b[39;00m e:\n",
      "File \u001b[0;32m/workspace/projects/ekorpkit/ekorpkit/datasets/build.py:67\u001b[0m, in \u001b[0;36mDatasetBuilder.__init__\u001b[0;34m(self, **args)\u001b[0m\n\u001b[1;32m     66\u001b[0m \u001b[39mif\u001b[39;00m \u001b[39mself\u001b[39m\u001b[39m.\u001b[39mauto\u001b[39m.\u001b[39mload:\n\u001b[0;32m---> 67\u001b[0m     \u001b[39mself\u001b[39;49m\u001b[39m.\u001b[39;49mbuild()\n",
      "File \u001b[0;32m/workspace/projects/ekorpkit/ekorpkit/datasets/build.py:85\u001b[0m, in \u001b[0;36mDatasetBuilder.build\u001b[0;34m(self)\u001b[0m\n\u001b[1;32m     84\u001b[0m         \u001b[39mcontinue\u001b[39;00m\n\u001b[0;32m---> 85\u001b[0m     \u001b[39mself\u001b[39;49m\u001b[39m.\u001b[39;49m_process_split(split_name)\n\u001b[1;32m     87\u001b[0m \u001b[39mif\u001b[39;00m \u001b[39mself\u001b[39m\u001b[39m.\u001b[39msummary_info:\n",
      "File \u001b[0;32m/workspace/projects/ekorpkit/ekorpkit/datasets/build.py:130\u001b[0m, in \u001b[0;36mDatasetBuilder._process_split\u001b[0;34m(self, split_name)\u001b[0m\n\u001b[1;32m    127\u001b[0m     log\u001b[39m.\u001b[39minfo(\n\u001b[1;32m    128\u001b[0m         \u001b[39mf\u001b[39m\u001b[39m\"\u001b[39m\u001b[39m\\n\u001b[39;00m\u001b[39mTransforming dataframe with pipeline: \u001b[39m\u001b[39m{\u001b[39;00m\u001b[39mself\u001b[39m\u001b[39m.\u001b[39mtransform_pipeline\u001b[39m}\u001b[39;00m\u001b[39m\"\u001b[39m\n\u001b[1;32m    129\u001b[0m     )\n\u001b[0;32m--> 130\u001b[0m     df \u001b[39m=\u001b[39m apply_pipeline(df, \u001b[39mself\u001b[39;49m\u001b[39m.\u001b[39;49mtransform_pipeline, \u001b[39mself\u001b[39;49m\u001b[39m.\u001b[39;49m_pipeline_)\n\u001b[1;32m    132\u001b[0m \u001b[39m# Saving data\u001b[39;00m\n",
      "File \u001b[0;32m/workspace/projects/ekorpkit/ekorpkit/pipelines/pipe.py:44\u001b[0m, in \u001b[0;36mapply_pipeline\u001b[0;34m(df, pipeline, pipeline_args, update_args, verbose)\u001b[0m\n\u001b[1;32m     42\u001b[0m         pipeline_targets\u001b[39m.\u001b[39mappend(args)\n\u001b[0;32m---> 44\u001b[0m \u001b[39mreturn\u001b[39;00m reduce(eKonf\u001b[39m.\u001b[39;49mpipe, pipeline_targets, df)\n",
      "File \u001b[0;32m/workspace/projects/ekorpkit/ekorpkit/ekonf.py:371\u001b[0m, in \u001b[0;36meKonf.pipe\u001b[0;34m(data, cfg)\u001b[0m\n\u001b[1;32m    369\u001b[0m \u001b[39m@staticmethod\u001b[39m\n\u001b[1;32m    370\u001b[0m \u001b[39mdef\u001b[39;00m \u001b[39mpipe\u001b[39m(data\u001b[39m=\u001b[39m\u001b[39mNone\u001b[39;00m, cfg\u001b[39m=\u001b[39m\u001b[39mNone\u001b[39;00m):\n\u001b[0;32m--> 371\u001b[0m     \u001b[39mreturn\u001b[39;00m _pipe(data, cfg)\n",
      "File \u001b[0;32m/workspace/projects/ekorpkit/ekorpkit/base.py:803\u001b[0m, in \u001b[0;36m_pipe\u001b[0;34m(data, pipe)\u001b[0m\n\u001b[1;32m    802\u001b[0m \u001b[39melse\u001b[39;00m:\n\u001b[0;32m--> 803\u001b[0m     \u001b[39mreturn\u001b[39;00m fn(data, pipe)\n",
      "File \u001b[0;32m/workspace/projects/ekorpkit/ekorpkit/pipelines/pipe.py:1202\u001b[0m, in \u001b[0;36msave_metadata\u001b[0;34m(df, args)\u001b[0m\n\u001b[1;32m   1201\u001b[0m     df[eKonf\u001b[39m.\u001b[39mKeys\u001b[39m.\u001b[39mSPLIT] \u001b[39m=\u001b[39m split_name\n\u001b[0;32m-> 1202\u001b[0m df_meta \u001b[39m=\u001b[39m df[meta_columns]\n\u001b[1;32m   1203\u001b[0m eKonf\u001b[39m.\u001b[39msave_data(df_meta, \u001b[39m*\u001b[39m\u001b[39m*\u001b[39m_path)\n",
      "File \u001b[0;32m/opt/conda/lib/python3.8/site-packages/pandas/core/frame.py:3464\u001b[0m, in \u001b[0;36mDataFrame.__getitem__\u001b[0;34m(self, key)\u001b[0m\n\u001b[1;32m   3463\u001b[0m         key \u001b[39m=\u001b[39m \u001b[39mlist\u001b[39m(key)\n\u001b[0;32m-> 3464\u001b[0m     indexer \u001b[39m=\u001b[39m \u001b[39mself\u001b[39;49m\u001b[39m.\u001b[39;49mloc\u001b[39m.\u001b[39;49m_get_listlike_indexer(key, axis\u001b[39m=\u001b[39;49m\u001b[39m1\u001b[39;49m)[\u001b[39m1\u001b[39m]\n\u001b[1;32m   3466\u001b[0m \u001b[39m# take() does not accept boolean indexers\u001b[39;00m\n",
      "File \u001b[0;32m/opt/conda/lib/python3.8/site-packages/pandas/core/indexing.py:1314\u001b[0m, in \u001b[0;36m_LocIndexer._get_listlike_indexer\u001b[0;34m(self, key, axis)\u001b[0m\n\u001b[1;32m   1312\u001b[0m     keyarr, indexer, new_indexer \u001b[39m=\u001b[39m ax\u001b[39m.\u001b[39m_reindex_non_unique(keyarr)\n\u001b[0;32m-> 1314\u001b[0m \u001b[39mself\u001b[39;49m\u001b[39m.\u001b[39;49m_validate_read_indexer(keyarr, indexer, axis)\n\u001b[1;32m   1316\u001b[0m \u001b[39mif\u001b[39;00m needs_i8_conversion(ax\u001b[39m.\u001b[39mdtype) \u001b[39mor\u001b[39;00m \u001b[39misinstance\u001b[39m(\n\u001b[1;32m   1317\u001b[0m     ax, (IntervalIndex, CategoricalIndex)\n\u001b[1;32m   1318\u001b[0m ):\n\u001b[1;32m   1319\u001b[0m     \u001b[39m# For CategoricalIndex take instead of reindex to preserve dtype.\u001b[39;00m\n\u001b[1;32m   1320\u001b[0m     \u001b[39m#  For IntervalIndex this is to map integers to the Intervals they match to.\u001b[39;00m\n",
      "File \u001b[0;32m/opt/conda/lib/python3.8/site-packages/pandas/core/indexing.py:1377\u001b[0m, in \u001b[0;36m_LocIndexer._validate_read_indexer\u001b[0;34m(self, key, indexer, axis)\u001b[0m\n\u001b[1;32m   1376\u001b[0m not_found \u001b[39m=\u001b[39m \u001b[39mlist\u001b[39m(ensure_index(key)[missing_mask\u001b[39m.\u001b[39mnonzero()[\u001b[39m0\u001b[39m]]\u001b[39m.\u001b[39munique())\n\u001b[0;32m-> 1377\u001b[0m \u001b[39mraise\u001b[39;00m \u001b[39mKeyError\u001b[39;00m(\u001b[39mf\u001b[39m\u001b[39m\"\u001b[39m\u001b[39m{\u001b[39;00mnot_found\u001b[39m}\u001b[39;00m\u001b[39m not in index\u001b[39m\u001b[39m\"\u001b[39m)\n",
      "\u001b[0;31mKeyError\u001b[0m: \"['curid', 'url', 'title'] not in index\"",
      "\nThe above exception was the direct cause of the following exception:\n",
      "\u001b[0;31mInstantiationException\u001b[0m                    Traceback (most recent call last)",
      "\u001b[1;32m/workspace/projects/ekorpkit-book/ekorpkit-book/docs/lectures/deep_nlp/lab1-corpus.ipynb Cell 6\u001b[0m in \u001b[0;36m<module>\u001b[0;34m\u001b[0m\n\u001b[1;32m      <a href='vscode-notebook-cell://ssh-remote%2Bekorpkit-book/workspace/projects/ekorpkit-book/ekorpkit-book/docs/lectures/deep_nlp/lab1-corpus.ipynb#W3sdnNjb2RlLXJlbW90ZQ%3D%3D?line=2'>3</a>\u001b[0m cfg\u001b[39m.\u001b[39mverbose \u001b[39m=\u001b[39m \u001b[39mTrue\u001b[39;00m\n\u001b[1;32m      <a href='vscode-notebook-cell://ssh-remote%2Bekorpkit-book/workspace/projects/ekorpkit-book/ekorpkit-book/docs/lectures/deep_nlp/lab1-corpus.ipynb#W3sdnNjb2RlLXJlbW90ZQ%3D%3D?line=3'>4</a>\u001b[0m \u001b[39m# eKonf.print(cfg)\u001b[39;00m\n\u001b[0;32m----> <a href='vscode-notebook-cell://ssh-remote%2Bekorpkit-book/workspace/projects/ekorpkit-book/ekorpkit-book/docs/lectures/deep_nlp/lab1-corpus.ipynb#W3sdnNjb2RlLXJlbW90ZQ%3D%3D?line=4'>5</a>\u001b[0m db \u001b[39m=\u001b[39m eKonf\u001b[39m.\u001b[39;49minstantiate(cfg)\n",
      "File \u001b[0;32m/workspace/projects/ekorpkit/ekorpkit/ekonf.py:190\u001b[0m, in \u001b[0;36meKonf.instantiate\u001b[0;34m(config, *args, **kwargs)\u001b[0m\n\u001b[1;32m    188\u001b[0m \u001b[39m@staticmethod\u001b[39m\n\u001b[1;32m    189\u001b[0m \u001b[39mdef\u001b[39;00m \u001b[39minstantiate\u001b[39m(config: Any, \u001b[39m*\u001b[39margs: Any, \u001b[39m*\u001b[39m\u001b[39m*\u001b[39mkwargs: Any) \u001b[39m-\u001b[39m\u001b[39m>\u001b[39m Any:\n\u001b[0;32m--> 190\u001b[0m     \u001b[39mreturn\u001b[39;00m _instantiate(config, \u001b[39m*\u001b[39;49margs, \u001b[39m*\u001b[39;49m\u001b[39m*\u001b[39;49mkwargs)\n",
      "File \u001b[0;32m/workspace/projects/ekorpkit/ekorpkit/base.py:685\u001b[0m, in \u001b[0;36m_instantiate\u001b[0;34m(config, *args, **kwargs)\u001b[0m\n\u001b[1;32m    683\u001b[0m \u001b[39mif\u001b[39;00m verbose:\n\u001b[1;32m    684\u001b[0m     logger\u001b[39m.\u001b[39minfo(\u001b[39mf\u001b[39m\u001b[39m\"\u001b[39m\u001b[39minstantiating \u001b[39m\u001b[39m{\u001b[39;00mconfig\u001b[39m.\u001b[39mget(_Keys\u001b[39m.\u001b[39mTARGET)\u001b[39m}\u001b[39;00m\u001b[39m...\u001b[39m\u001b[39m\"\u001b[39m)\n\u001b[0;32m--> 685\u001b[0m \u001b[39mreturn\u001b[39;00m hydra\u001b[39m.\u001b[39;49mutils\u001b[39m.\u001b[39;49minstantiate(config, \u001b[39m*\u001b[39;49margs, \u001b[39m*\u001b[39;49m\u001b[39m*\u001b[39;49mkwargs)\n",
      "File \u001b[0;32m/opt/conda/lib/python3.8/site-packages/hydra/_internal/instantiate/_instantiate2.py:222\u001b[0m, in \u001b[0;36minstantiate\u001b[0;34m(config, *args, **kwargs)\u001b[0m\n\u001b[1;32m    219\u001b[0m     _convert_ \u001b[39m=\u001b[39m config\u001b[39m.\u001b[39mpop(_Keys\u001b[39m.\u001b[39mCONVERT, ConvertMode\u001b[39m.\u001b[39mNONE)\n\u001b[1;32m    220\u001b[0m     _partial_ \u001b[39m=\u001b[39m config\u001b[39m.\u001b[39mpop(_Keys\u001b[39m.\u001b[39mPARTIAL, \u001b[39mFalse\u001b[39;00m)\n\u001b[0;32m--> 222\u001b[0m     \u001b[39mreturn\u001b[39;00m instantiate_node(\n\u001b[1;32m    223\u001b[0m         config, \u001b[39m*\u001b[39;49margs, recursive\u001b[39m=\u001b[39;49m_recursive_, convert\u001b[39m=\u001b[39;49m_convert_, partial\u001b[39m=\u001b[39;49m_partial_\n\u001b[1;32m    224\u001b[0m     )\n\u001b[1;32m    225\u001b[0m \u001b[39melif\u001b[39;00m OmegaConf\u001b[39m.\u001b[39mis_list(config):\n\u001b[1;32m    226\u001b[0m     \u001b[39m# Finalize config (convert targets to strings, merge with kwargs)\u001b[39;00m\n\u001b[1;32m    227\u001b[0m     config_copy \u001b[39m=\u001b[39m copy\u001b[39m.\u001b[39mdeepcopy(config)\n",
      "File \u001b[0;32m/opt/conda/lib/python3.8/site-packages/hydra/_internal/instantiate/_instantiate2.py:339\u001b[0m, in \u001b[0;36minstantiate_node\u001b[0;34m(node, convert, recursive, partial, *args)\u001b[0m\n\u001b[1;32m    334\u001b[0m                 value \u001b[39m=\u001b[39m instantiate_node(\n\u001b[1;32m    335\u001b[0m                     value, convert\u001b[39m=\u001b[39mconvert, recursive\u001b[39m=\u001b[39mrecursive\n\u001b[1;32m    336\u001b[0m                 )\n\u001b[1;32m    337\u001b[0m             kwargs[key] \u001b[39m=\u001b[39m _convert_node(value, convert)\n\u001b[0;32m--> 339\u001b[0m     \u001b[39mreturn\u001b[39;00m _call_target(_target_, partial, args, kwargs, full_key)\n\u001b[1;32m    340\u001b[0m \u001b[39melse\u001b[39;00m:\n\u001b[1;32m    341\u001b[0m     \u001b[39m# If ALL or PARTIAL non structured, instantiate in dict and resolve interpolations eagerly.\u001b[39;00m\n\u001b[1;32m    342\u001b[0m     \u001b[39mif\u001b[39;00m convert \u001b[39m==\u001b[39m ConvertMode\u001b[39m.\u001b[39mALL \u001b[39mor\u001b[39;00m (\n\u001b[1;32m    343\u001b[0m         convert \u001b[39m==\u001b[39m ConvertMode\u001b[39m.\u001b[39mPARTIAL\n\u001b[1;32m    344\u001b[0m         \u001b[39mand\u001b[39;00m node\u001b[39m.\u001b[39m_metadata\u001b[39m.\u001b[39mobject_type \u001b[39min\u001b[39;00m (\u001b[39mNone\u001b[39;00m, \u001b[39mdict\u001b[39m)\n\u001b[1;32m    345\u001b[0m     ):\n",
      "File \u001b[0;32m/opt/conda/lib/python3.8/site-packages/hydra/_internal/instantiate/_instantiate2.py:97\u001b[0m, in \u001b[0;36m_call_target\u001b[0;34m(_target_, _partial_, args, kwargs, full_key)\u001b[0m\n\u001b[1;32m     95\u001b[0m \u001b[39mif\u001b[39;00m full_key:\n\u001b[1;32m     96\u001b[0m     msg \u001b[39m+\u001b[39m\u001b[39m=\u001b[39m \u001b[39mf\u001b[39m\u001b[39m\"\u001b[39m\u001b[39m\\n\u001b[39;00m\u001b[39mfull_key: \u001b[39m\u001b[39m{\u001b[39;00mfull_key\u001b[39m}\u001b[39;00m\u001b[39m\"\u001b[39m\n\u001b[0;32m---> 97\u001b[0m \u001b[39mraise\u001b[39;00m InstantiationException(msg) \u001b[39mfrom\u001b[39;00m \u001b[39me\u001b[39;00m\n",
      "\u001b[0;31mInstantiationException\u001b[0m: Error in call to target 'ekorpkit.datasets.build.DatasetBuilder':\nKeyError(\"['curid', 'url', 'title'] not in index\")\nfull_key: corpus.builtin"
     ]
    }
   ],
   "source": [
    "cfg = eKonf.compose('corpus/builtin=kowiki')\n",
    "cfg.data_dir = '../data/kowiki'\n",
    "cfg.verbose = True\n",
    "# eKonf.print(cfg)\n",
    "db = eKonf.instantiate(cfg)"
   ]
  },
  {
   "cell_type": "code",
   "execution_count": 3,
   "metadata": {
    "colab": {
     "base_uri": "https://localhost:8080/",
     "height": 1000,
     "referenced_widgets": [
      "790d9af4f03046628294f217df9992b6",
      "000321219e304f73b3ef4cf3f65ebbb8",
      "d14e496a01ea4c15a2e0e52d2df3123f",
      "4c0c00188024458daf9fc9332893e345",
      "2140f576623b465d8c7597d9b7e72f5e",
      "54d869d5eb42477694013ea90a575680",
      "7359214545934faa947d0bccb34e8d5d",
      "db56fa8f641a4143aebcea0467fa4233",
      "53bd559949c54e0ba3f03ddd20e3db04",
      "48fdb3ab74bc4249b2635a3b665d013f",
      "e70bec83363e4f559c98c0c1a1a12b23",
      "62be24c564954a2ab51fbab4c6ebe65d",
      "1dfc3c14a35940b8a45e51f99dd3207f",
      "908f9ad82af64ba185c296a6a20040a5",
      "ca67765dde9749bea97ca494ddba2071",
      "9ce1323f772a48ad9cc5ff960016523a",
      "58900aecb02d4a95a2779704b85a680e",
      "9771a27941d54fca9f6165c88b743501",
      "982a7e16fb8a48f4af631786eb658d41",
      "ae059dfc42b847c7ae0788d13e1c16ea",
      "52db3eff16a94112a8b9ec1a0587d642",
      "f5357709111f4713ae4d78d15fd6cb1e",
      "9cd05b01212a4c578b1be2fbc3a9e41f",
      "2e0a8285cef64ed78b27f22cd346cacb",
      "993e6e3109dc4c1d9efc681100416fa9",
      "fd07ba7dd11e440fbb23eb9e2a0b93ea",
      "eff8af51b3c34cbbbe6909487d5c405f",
      "b2097da741a44e25ad7df7a9320b1219",
      "804c259847ca43a98410357524129bca",
      "dfd7ef72659a451e8b33853b9493712f",
      "591fcef1e8324d9c9452ed72755e16c0",
      "8870e1b3a8cf49abb9b1c7f244fe8017",
      "2df4658ac779472fbd5e28aa11402385",
      "88168c526b9842ea930d387d35029026",
      "17903b0a638049ec8de132f12203b1cc",
      "819446431026497e80f361c6b767187b",
      "281981b3263d4188b9f73d6c89b02b77",
      "3bfae4dbb2384bcab688ac9046f9017f",
      "036320f973e945e8ac65795cf7711ac1",
      "fdc76925e3eb45f4bd47d45587dc4a54",
      "cd797533f9f244f08eefdeb00a9e4588",
      "3c9eba0f44eb42c2a3a01989a60c82cc",
      "e78b1c11e39e44cd9e433edfc5f4236a",
      "36b4d0e4b011412d9e475180f25f56f6",
      "07838b86a0914df3ba0b01a610423753",
      "02ee36e595e84f39b051f7c5a9ba9b80",
      "c6665a76176e46498f9aec14f2099ae7",
      "5622c3572092408da75d84d64005448b",
      "016285384f81431eb77309aa053d6ae0",
      "f0f2d20a973545a297510ecde71d0c66",
      "290bb00fbb13455289e46415d4afbe17",
      "776dc72772eb40c19b77973bb2ac39df",
      "e3d65fe141be46309b9468480d936085",
      "171bb4d4b6264775853f4f7131d870aa",
      "2e60978f29f64407905eba9d14f0a4b8",
      "21e15b390c5741c98a47a42942fb2198",
      "058166ebc176489bb75c3a20ed0bf96b",
      "8cc677ab74364fd3a3057fa6d34dbc3a",
      "fa327dd31043425c8118f0b5e04532b6",
      "428832819e804e76b5dfeccfd9251685",
      "7c7712bae7df4c07aad57752b83edc7b",
      "5e952a68d10c42e78e67a01c86ff4f17",
      "983ae7b1bebb4e49ab73aa8cbf07491c",
      "4990f0eabf994f9ea95a5a7a5879c1cb",
      "47b7bc0dcda24d1e9bc18235bfb38cd2",
      "522f6f063f1d46438172583ec09e07da",
      "2de6ef1962084bca8bb2368877c6c0ea",
      "75b0437c96b244d39a92add8e45893b0",
      "b74d1a99fa634254844e12e9b5414f95",
      "746a662077c4408c9f9744ec2ddb39cf",
      "5f00d4fb505a483fb368eb3aa5a134b6",
      "cceec1ff80194092a204083d1ee0b59b",
      "1a74ba8088cd4f65874e2dfa9e624af2",
      "bd1672887db14e3e8dde1444c4a25a3b",
      "d9b11d5342d04393bafc091da9e1c98a",
      "1cdfeccc74e2448abb6023955bb212cc",
      "417d02e203ab4b99930f48cfd82ea311"
     ]
    },
    "id": "efZ77OvmPWeh",
    "outputId": "6871f44b-8783-4a00-ffe7-1c3cefa62598"
   },
   "outputs": [
    {
     "data": {
      "application/vnd.jupyter.widget-view+json": {
       "model_id": "1a03373c87a94bd7aae33c5980056ee9",
       "version_major": 2,
       "version_minor": 0
      },
      "text/plain": [
       "apply len_bytes to num_bytes:   0%|          | 0/5 [00:00<?, ?it/s]"
      ]
     },
     "metadata": {},
     "output_type": "display_data"
    },
    {
     "data": {
      "application/vnd.jupyter.widget-view+json": {
       "model_id": "089d5bd23ea54d8897a86ef9626dda16",
       "version_major": 2,
       "version_minor": 0
      },
      "text/plain": [
       "apply len_sents to num_sents:   0%|          | 0/5 [00:00<?, ?it/s]"
      ]
     },
     "metadata": {},
     "output_type": "display_data"
    },
    {
     "data": {
      "application/vnd.jupyter.widget-view+json": {
       "model_id": "7c2be16dd2a743b5a3f4fec0c4c585fd",
       "version_major": 2,
       "version_minor": 0
      },
      "text/plain": [
       "Normalizing column: text:   0%|          | 0/5 [00:00<?, ?it/s]"
      ]
     },
     "metadata": {},
     "output_type": "display_data"
    },
    {
     "data": {
      "application/vnd.jupyter.widget-view+json": {
       "model_id": "ae8908f6668e44d898e4c885c96c4e35",
       "version_major": 2,
       "version_minor": 0
      },
      "text/plain": [
       "Splitting column: text:   0%|          | 0/5 [00:00<?, ?it/s]"
      ]
     },
     "metadata": {},
     "output_type": "display_data"
    },
    {
     "data": {
      "application/vnd.jupyter.widget-view+json": {
       "model_id": "62f81bb9e4da4d96b2508c6e5122af69",
       "version_major": 2,
       "version_minor": 0
      },
      "text/plain": [
       "apply len_bytes to num_bytes:   0%|          | 0/5 [00:00<?, ?it/s]"
      ]
     },
     "metadata": {},
     "output_type": "display_data"
    },
    {
     "data": {
      "application/vnd.jupyter.widget-view+json": {
       "model_id": "a92de0b5eba74cbebaeebea4cc0619b6",
       "version_major": 2,
       "version_minor": 0
      },
      "text/plain": [
       "apply len_wospc to num_bytes_wospc:   0%|          | 0/5 [00:00<?, ?it/s]"
      ]
     },
     "metadata": {},
     "output_type": "display_data"
    },
    {
     "data": {
      "application/vnd.jupyter.widget-view+json": {
       "model_id": "0589d04377974339a74106b5dc157354",
       "version_major": 2,
       "version_minor": 0
      },
      "text/plain": [
       "apply len_words to num_words:   0%|          | 0/5 [00:00<?, ?it/s]"
      ]
     },
     "metadata": {},
     "output_type": "display_data"
    },
    {
     "data": {
      "application/vnd.jupyter.widget-view+json": {
       "model_id": "199276c15efc450e8a584039f3845423",
       "version_major": 2,
       "version_minor": 0
      },
      "text/plain": [
       "apply len_sents to num_sents:   0%|          | 0/5 [00:00<?, ?it/s]"
      ]
     },
     "metadata": {},
     "output_type": "display_data"
    },
    {
     "data": {
      "application/vnd.jupyter.widget-view+json": {
       "model_id": "77c38b4c5bf542cda929d66db7f037f1",
       "version_major": 2,
       "version_minor": 0
      },
      "text/plain": [
       "apply len_segments to num_segments:   0%|          | 0/5 [00:00<?, ?it/s]"
      ]
     },
     "metadata": {},
     "output_type": "display_data"
    },
    {
     "data": {
      "application/vnd.jupyter.widget-view+json": {
       "model_id": "aedabfed1ad84de5bfd7b4712d91c298",
       "version_major": 2,
       "version_minor": 0
      },
      "text/plain": [
       "apply len_bytes to num_bytes:   0%|          | 0/5 [00:00<?, ?it/s]"
      ]
     },
     "metadata": {},
     "output_type": "display_data"
    },
    {
     "data": {
      "application/vnd.jupyter.widget-view+json": {
       "model_id": "ce17bb2df5ea4116907c93460de02083",
       "version_major": 2,
       "version_minor": 0
      },
      "text/plain": [
       "apply len_sents to num_sents:   0%|          | 0/5 [00:00<?, ?it/s]"
      ]
     },
     "metadata": {},
     "output_type": "display_data"
    },
    {
     "data": {
      "application/vnd.jupyter.widget-view+json": {
       "model_id": "ba03b01653d545f5ae77ebbbdf68ab59",
       "version_major": 2,
       "version_minor": 0
      },
      "text/plain": [
       "Normalizing column: text:   0%|          | 0/5 [00:00<?, ?it/s]"
      ]
     },
     "metadata": {},
     "output_type": "display_data"
    },
    {
     "data": {
      "application/vnd.jupyter.widget-view+json": {
       "model_id": "3de3c838464d4c61a574bd3624405f46",
       "version_major": 2,
       "version_minor": 0
      },
      "text/plain": [
       "Splitting column: text:   0%|          | 0/5 [00:00<?, ?it/s]"
      ]
     },
     "metadata": {},
     "output_type": "display_data"
    },
    {
     "data": {
      "application/vnd.jupyter.widget-view+json": {
       "model_id": "b99a2725c722445ea9e78c3837ad5f55",
       "version_major": 2,
       "version_minor": 0
      },
      "text/plain": [
       "apply len_bytes to num_bytes:   0%|          | 0/5 [00:00<?, ?it/s]"
      ]
     },
     "metadata": {},
     "output_type": "display_data"
    },
    {
     "data": {
      "application/vnd.jupyter.widget-view+json": {
       "model_id": "6256e7ebf7cb437497b65dc1350cc808",
       "version_major": 2,
       "version_minor": 0
      },
      "text/plain": [
       "apply len_wospc to num_bytes_wospc:   0%|          | 0/5 [00:00<?, ?it/s]"
      ]
     },
     "metadata": {},
     "output_type": "display_data"
    },
    {
     "data": {
      "application/vnd.jupyter.widget-view+json": {
       "model_id": "6259cc53c5b54d508aad865733d0366c",
       "version_major": 2,
       "version_minor": 0
      },
      "text/plain": [
       "apply len_words to num_words:   0%|          | 0/5 [00:00<?, ?it/s]"
      ]
     },
     "metadata": {},
     "output_type": "display_data"
    },
    {
     "data": {
      "application/vnd.jupyter.widget-view+json": {
       "model_id": "aa64c435093646448348f11bd133a02e",
       "version_major": 2,
       "version_minor": 0
      },
      "text/plain": [
       "apply len_sents to num_sents:   0%|          | 0/5 [00:00<?, ?it/s]"
      ]
     },
     "metadata": {},
     "output_type": "display_data"
    },
    {
     "data": {
      "application/vnd.jupyter.widget-view+json": {
       "model_id": "82c026d8779c400e8bbfc6a9128f223f",
       "version_major": 2,
       "version_minor": 0
      },
      "text/plain": [
       "apply len_segments to num_segments:   0%|          | 0/5 [00:00<?, ?it/s]"
      ]
     },
     "metadata": {},
     "output_type": "display_data"
    }
   ],
   "source": [
    "cfg = eKonf.compose(\"corpus/builtin=_dummy_fomc_minutes\")\n",
    "cfg.data_dir = \"../data/fomc_minutes\"\n",
    "db = eKonf.instantiate(cfg)\n",
    "db.build()"
   ]
  },
  {
   "cell_type": "markdown",
   "metadata": {
    "id": "tJpz9ehuPWeh"
   },
   "source": [
    "## Instantiating corpora"
   ]
  },
  {
   "cell_type": "code",
   "execution_count": 2,
   "metadata": {
    "colab": {
     "base_uri": "https://localhost:8080/"
    },
    "id": "iAc66OeiPWei",
    "outputId": "105cddaa-699e-4771-b01c-30067cec184f"
   },
   "outputs": [
    {
     "name": "stdout",
     "output_type": "stream",
     "text": [
      "Corpora\n",
      "----------\n",
      "bok_minutes\n",
      "fomc_minutes\n",
      "\n"
     ]
    }
   ],
   "source": [
    "cfg = eKonf.compose('corpus=corpora')\n",
    "cfg.name = ['bok_minutes', 'fomc_minutes']\n",
    "cfg.data_dir = '../data'\n",
    "cfg.auto.load = True\n",
    "crps = eKonf.instantiate(cfg)\n",
    "print(crps)"
   ]
  },
  {
   "cell_type": "code",
   "execution_count": 3,
   "metadata": {
    "colab": {
     "base_uri": "https://localhost:8080/",
     "height": 80
    },
    "id": "DZO0rgSLX2rP",
    "outputId": "6efb0dcf-ce49-4fae-b588-5a49d0817960"
   },
   "outputs": [
    {
     "data": {
      "text/html": [
       "<div>\n",
       "<style scoped>\n",
       "    .dataframe tbody tr th:only-of-type {\n",
       "        vertical-align: middle;\n",
       "    }\n",
       "\n",
       "    .dataframe tbody tr th {\n",
       "        vertical-align: top;\n",
       "    }\n",
       "\n",
       "    .dataframe thead th {\n",
       "        text-align: right;\n",
       "    }\n",
       "</style>\n",
       "<table border=\"1\" class=\"dataframe\">\n",
       "  <thead>\n",
       "    <tr style=\"text-align: right;\">\n",
       "      <th></th>\n",
       "      <th>id</th>\n",
       "      <th>text</th>\n",
       "      <th>split</th>\n",
       "    </tr>\n",
       "    <tr>\n",
       "      <th>index</th>\n",
       "      <th></th>\n",
       "      <th></th>\n",
       "      <th></th>\n",
       "    </tr>\n",
       "  </thead>\n",
       "  <tbody>\n",
       "    <tr>\n",
       "      <th>0</th>\n",
       "      <td>0</td>\n",
       "      <td>Economic Situation\\n일부 위원은 관련부서에서 지난 3\\/4분기 중 ...</td>\n",
       "      <td>train</td>\n",
       "    </tr>\n",
       "  </tbody>\n",
       "</table>\n",
       "</div>"
      ],
      "text/plain": [
       "       id                                               text  split\n",
       "index                                                              \n",
       "0       0  Economic Situation\\n일부 위원은 관련부서에서 지난 3\\/4분기 중 ...  train"
      ]
     },
     "execution_count": 3,
     "metadata": {},
     "output_type": "execute_result"
    }
   ],
   "source": [
    "crps['bok_minutes'].data"
   ]
  },
  {
   "cell_type": "code",
   "execution_count": 4,
   "metadata": {
    "colab": {
     "base_uri": "https://localhost:8080/",
     "height": 206
    },
    "id": "lGPnTMPpX4LB",
    "outputId": "b0a63238-8fca-4eb9-9c75-2f4e59d91a22"
   },
   "outputs": [
    {
     "data": {
      "text/html": [
       "<div>\n",
       "<style scoped>\n",
       "    .dataframe tbody tr th:only-of-type {\n",
       "        vertical-align: middle;\n",
       "    }\n",
       "\n",
       "    .dataframe tbody tr th {\n",
       "        vertical-align: top;\n",
       "    }\n",
       "\n",
       "    .dataframe thead th {\n",
       "        text-align: right;\n",
       "    }\n",
       "</style>\n",
       "<table border=\"1\" class=\"dataframe\">\n",
       "  <thead>\n",
       "    <tr style=\"text-align: right;\">\n",
       "      <th></th>\n",
       "      <th>id</th>\n",
       "      <th>text</th>\n",
       "      <th>content_type</th>\n",
       "      <th>split</th>\n",
       "    </tr>\n",
       "    <tr>\n",
       "      <th>index</th>\n",
       "      <th></th>\n",
       "      <th></th>\n",
       "      <th></th>\n",
       "      <th></th>\n",
       "    </tr>\n",
       "  </thead>\n",
       "  <tbody>\n",
       "    <tr>\n",
       "      <th>0</th>\n",
       "      <td>0</td>\n",
       "      <td>A meeting of the Federal Open Market Committee...</td>\n",
       "      <td>fomc_minutes</td>\n",
       "      <td>train</td>\n",
       "    </tr>\n",
       "    <tr>\n",
       "      <th>1</th>\n",
       "      <td>1</td>\n",
       "      <td>A meeting of the Federal Open Market Committee...</td>\n",
       "      <td>fomc_minutes</td>\n",
       "      <td>train</td>\n",
       "    </tr>\n",
       "    <tr>\n",
       "      <th>2</th>\n",
       "      <td>2</td>\n",
       "      <td>A meeting of the Federal Open Market Committee...</td>\n",
       "      <td>fomc_minutes</td>\n",
       "      <td>train</td>\n",
       "    </tr>\n",
       "    <tr>\n",
       "      <th>3</th>\n",
       "      <td>3</td>\n",
       "      <td>A meeting of the Federal Open Market Committee...</td>\n",
       "      <td>fomc_minutes</td>\n",
       "      <td>train</td>\n",
       "    </tr>\n",
       "    <tr>\n",
       "      <th>4</th>\n",
       "      <td>4</td>\n",
       "      <td>A meeting of the Federal Open Market Committee...</td>\n",
       "      <td>fomc_minutes</td>\n",
       "      <td>train</td>\n",
       "    </tr>\n",
       "  </tbody>\n",
       "</table>\n",
       "</div>"
      ],
      "text/plain": [
       "       id                                               text  content_type  \\\n",
       "index                                                                        \n",
       "0       0  A meeting of the Federal Open Market Committee...  fomc_minutes   \n",
       "1       1  A meeting of the Federal Open Market Committee...  fomc_minutes   \n",
       "2       2  A meeting of the Federal Open Market Committee...  fomc_minutes   \n",
       "3       3  A meeting of the Federal Open Market Committee...  fomc_minutes   \n",
       "4       4  A meeting of the Federal Open Market Committee...  fomc_minutes   \n",
       "\n",
       "       split  \n",
       "index         \n",
       "0      train  \n",
       "1      train  \n",
       "2      train  \n",
       "3      train  \n",
       "4      train  "
      ]
     },
     "execution_count": 4,
     "metadata": {},
     "output_type": "execute_result"
    }
   ],
   "source": [
    "crps['fomc_minutes'].data"
   ]
  },
  {
   "cell_type": "code",
   "execution_count": 5,
   "metadata": {
    "id": "YKcqI8eBPWej"
   },
   "outputs": [],
   "source": [
    "crps.concat_corpora()"
   ]
  },
  {
   "cell_type": "code",
   "execution_count": 6,
   "metadata": {
    "colab": {
     "base_uri": "https://localhost:8080/",
     "height": 237
    },
    "id": "oCfyCzGuPWek",
    "outputId": "4b0c71c2-f2f6-464b-a99e-6ddd318194fb"
   },
   "outputs": [
    {
     "data": {
      "text/html": [
       "<div>\n",
       "<style scoped>\n",
       "    .dataframe tbody tr th:only-of-type {\n",
       "        vertical-align: middle;\n",
       "    }\n",
       "\n",
       "    .dataframe tbody tr th {\n",
       "        vertical-align: top;\n",
       "    }\n",
       "\n",
       "    .dataframe thead th {\n",
       "        text-align: right;\n",
       "    }\n",
       "</style>\n",
       "<table border=\"1\" class=\"dataframe\">\n",
       "  <thead>\n",
       "    <tr style=\"text-align: right;\">\n",
       "      <th></th>\n",
       "      <th>id</th>\n",
       "      <th>text</th>\n",
       "      <th>split</th>\n",
       "      <th>corpus</th>\n",
       "      <th>content_type</th>\n",
       "    </tr>\n",
       "  </thead>\n",
       "  <tbody>\n",
       "    <tr>\n",
       "      <th>0</th>\n",
       "      <td>0</td>\n",
       "      <td>Economic Situation\\n일부 위원은 관련부서에서 지난 3\\/4분기 중 ...</td>\n",
       "      <td>train</td>\n",
       "      <td>bok_minutes</td>\n",
       "      <td>NaN</td>\n",
       "    </tr>\n",
       "    <tr>\n",
       "      <th>1</th>\n",
       "      <td>0</td>\n",
       "      <td>A meeting of the Federal Open Market Committee...</td>\n",
       "      <td>train</td>\n",
       "      <td>fomc_minutes</td>\n",
       "      <td>fomc_minutes</td>\n",
       "    </tr>\n",
       "    <tr>\n",
       "      <th>2</th>\n",
       "      <td>1</td>\n",
       "      <td>A meeting of the Federal Open Market Committee...</td>\n",
       "      <td>train</td>\n",
       "      <td>fomc_minutes</td>\n",
       "      <td>fomc_minutes</td>\n",
       "    </tr>\n",
       "    <tr>\n",
       "      <th>3</th>\n",
       "      <td>2</td>\n",
       "      <td>A meeting of the Federal Open Market Committee...</td>\n",
       "      <td>train</td>\n",
       "      <td>fomc_minutes</td>\n",
       "      <td>fomc_minutes</td>\n",
       "    </tr>\n",
       "    <tr>\n",
       "      <th>4</th>\n",
       "      <td>3</td>\n",
       "      <td>A meeting of the Federal Open Market Committee...</td>\n",
       "      <td>train</td>\n",
       "      <td>fomc_minutes</td>\n",
       "      <td>fomc_minutes</td>\n",
       "    </tr>\n",
       "    <tr>\n",
       "      <th>5</th>\n",
       "      <td>4</td>\n",
       "      <td>A meeting of the Federal Open Market Committee...</td>\n",
       "      <td>train</td>\n",
       "      <td>fomc_minutes</td>\n",
       "      <td>fomc_minutes</td>\n",
       "    </tr>\n",
       "  </tbody>\n",
       "</table>\n",
       "</div>"
      ],
      "text/plain": [
       "   id                                               text  split        corpus  \\\n",
       "0   0  Economic Situation\\n일부 위원은 관련부서에서 지난 3\\/4분기 중 ...  train   bok_minutes   \n",
       "1   0  A meeting of the Federal Open Market Committee...  train  fomc_minutes   \n",
       "2   1  A meeting of the Federal Open Market Committee...  train  fomc_minutes   \n",
       "3   2  A meeting of the Federal Open Market Committee...  train  fomc_minutes   \n",
       "4   3  A meeting of the Federal Open Market Committee...  train  fomc_minutes   \n",
       "5   4  A meeting of the Federal Open Market Committee...  train  fomc_minutes   \n",
       "\n",
       "   content_type  \n",
       "0           NaN  \n",
       "1  fomc_minutes  \n",
       "2  fomc_minutes  \n",
       "3  fomc_minutes  \n",
       "4  fomc_minutes  \n",
       "5  fomc_minutes  "
      ]
     },
     "execution_count": 6,
     "metadata": {},
     "output_type": "execute_result"
    }
   ],
   "source": [
    "crps.data"
   ]
  },
  {
   "cell_type": "code",
   "execution_count": 7,
   "metadata": {
    "colab": {
     "base_uri": "https://localhost:8080/",
     "height": 385
    },
    "id": "4DtB1ZY0PWek",
    "outputId": "278c5b8e-37ff-4e5b-f9e4-56f71392a45b"
   },
   "outputs": [
    {
     "data": {
      "text/html": [
       "<div>\n",
       "<style scoped>\n",
       "    .dataframe tbody tr th:only-of-type {\n",
       "        vertical-align: middle;\n",
       "    }\n",
       "\n",
       "    .dataframe tbody tr th {\n",
       "        vertical-align: top;\n",
       "    }\n",
       "\n",
       "    .dataframe thead th {\n",
       "        text-align: right;\n",
       "    }\n",
       "</style>\n",
       "<table border=\"1\" class=\"dataframe\">\n",
       "  <thead>\n",
       "    <tr style=\"text-align: right;\">\n",
       "      <th></th>\n",
       "      <th>id</th>\n",
       "      <th>mdate</th>\n",
       "      <th>rdate</th>\n",
       "      <th>filename</th>\n",
       "      <th>split</th>\n",
       "      <th>corpus</th>\n",
       "      <th>date</th>\n",
       "      <th>speaker</th>\n",
       "      <th>title</th>\n",
       "    </tr>\n",
       "  </thead>\n",
       "  <tbody>\n",
       "    <tr>\n",
       "      <th>0</th>\n",
       "      <td>0</td>\n",
       "      <td>2018-11-30 10:00:00</td>\n",
       "      <td>2018-12-18 16:00:00</td>\n",
       "      <td>BOK_20181130_20181218</td>\n",
       "      <td>train</td>\n",
       "      <td>bok_minutes</td>\n",
       "      <td>NaN</td>\n",
       "      <td>NaN</td>\n",
       "      <td>NaN</td>\n",
       "    </tr>\n",
       "    <tr>\n",
       "      <th>1</th>\n",
       "      <td>0</td>\n",
       "      <td>NaN</td>\n",
       "      <td>NaN</td>\n",
       "      <td>NaN</td>\n",
       "      <td>train</td>\n",
       "      <td>fomc_minutes</td>\n",
       "      <td>1993-02-03</td>\n",
       "      <td>Alan Greenspan</td>\n",
       "      <td>FOMC Meeting Minutes</td>\n",
       "    </tr>\n",
       "    <tr>\n",
       "      <th>2</th>\n",
       "      <td>1</td>\n",
       "      <td>NaN</td>\n",
       "      <td>NaN</td>\n",
       "      <td>NaN</td>\n",
       "      <td>train</td>\n",
       "      <td>fomc_minutes</td>\n",
       "      <td>1993-03-23</td>\n",
       "      <td>Alan Greenspan</td>\n",
       "      <td>FOMC Meeting Minutes</td>\n",
       "    </tr>\n",
       "    <tr>\n",
       "      <th>3</th>\n",
       "      <td>2</td>\n",
       "      <td>NaN</td>\n",
       "      <td>NaN</td>\n",
       "      <td>NaN</td>\n",
       "      <td>train</td>\n",
       "      <td>fomc_minutes</td>\n",
       "      <td>1993-05-18</td>\n",
       "      <td>Alan Greenspan</td>\n",
       "      <td>FOMC Meeting Minutes</td>\n",
       "    </tr>\n",
       "    <tr>\n",
       "      <th>4</th>\n",
       "      <td>3</td>\n",
       "      <td>NaN</td>\n",
       "      <td>NaN</td>\n",
       "      <td>NaN</td>\n",
       "      <td>train</td>\n",
       "      <td>fomc_minutes</td>\n",
       "      <td>1993-07-07</td>\n",
       "      <td>Alan Greenspan</td>\n",
       "      <td>FOMC Meeting Minutes</td>\n",
       "    </tr>\n",
       "    <tr>\n",
       "      <th>5</th>\n",
       "      <td>4</td>\n",
       "      <td>NaN</td>\n",
       "      <td>NaN</td>\n",
       "      <td>NaN</td>\n",
       "      <td>train</td>\n",
       "      <td>fomc_minutes</td>\n",
       "      <td>1993-08-17</td>\n",
       "      <td>Alan Greenspan</td>\n",
       "      <td>FOMC Meeting Minutes</td>\n",
       "    </tr>\n",
       "  </tbody>\n",
       "</table>\n",
       "</div>"
      ],
      "text/plain": [
       "   id                mdate                rdate               filename  split  \\\n",
       "0   0  2018-11-30 10:00:00  2018-12-18 16:00:00  BOK_20181130_20181218  train   \n",
       "1   0                  NaN                  NaN                    NaN  train   \n",
       "2   1                  NaN                  NaN                    NaN  train   \n",
       "3   2                  NaN                  NaN                    NaN  train   \n",
       "4   3                  NaN                  NaN                    NaN  train   \n",
       "5   4                  NaN                  NaN                    NaN  train   \n",
       "\n",
       "         corpus        date         speaker                 title  \n",
       "0   bok_minutes         NaN             NaN                   NaN  \n",
       "1  fomc_minutes  1993-02-03  Alan Greenspan  FOMC Meeting Minutes  \n",
       "2  fomc_minutes  1993-03-23  Alan Greenspan  FOMC Meeting Minutes  \n",
       "3  fomc_minutes  1993-05-18  Alan Greenspan  FOMC Meeting Minutes  \n",
       "4  fomc_minutes  1993-07-07  Alan Greenspan  FOMC Meeting Minutes  \n",
       "5  fomc_minutes  1993-08-17  Alan Greenspan  FOMC Meeting Minutes  "
      ]
     },
     "execution_count": 7,
     "metadata": {},
     "output_type": "execute_result"
    }
   ],
   "source": [
    "crps.metadata"
   ]
  },
  {
   "cell_type": "markdown",
   "metadata": {
    "id": "zpdqyeyPPWek"
   },
   "source": [
    "## Instantiating a corpus"
   ]
  },
  {
   "cell_type": "code",
   "execution_count": 8,
   "metadata": {
    "colab": {
     "base_uri": "https://localhost:8080/"
    },
    "id": "DFsykazvPWel",
    "outputId": "7ab40ae7-42ba-4b6c-f0da-908c6d45ddb9"
   },
   "outputs": [
    {
     "name": "stdout",
     "output_type": "stream",
     "text": [
      "Corpus : bok_minutes\n"
     ]
    }
   ],
   "source": [
    "cfg = eKonf.compose('corpus')\n",
    "cfg.name = 'bok_minutes'\n",
    "cfg.data_dir = '../data'\n",
    "cfg.column_info.timestamp.key = 'mdate'\n",
    "crps = eKonf.instantiate(cfg)\n",
    "print(crps)"
   ]
  },
  {
   "cell_type": "code",
   "execution_count": 9,
   "metadata": {
    "colab": {
     "base_uri": "https://localhost:8080/",
     "height": 80
    },
    "id": "N2b2774dPWel",
    "outputId": "d3a3290a-3364-4fcd-c653-a47fa1cd3100"
   },
   "outputs": [
    {
     "data": {
      "text/html": [
       "<div>\n",
       "<style scoped>\n",
       "    .dataframe tbody tr th:only-of-type {\n",
       "        vertical-align: middle;\n",
       "    }\n",
       "\n",
       "    .dataframe tbody tr th {\n",
       "        vertical-align: top;\n",
       "    }\n",
       "\n",
       "    .dataframe thead th {\n",
       "        text-align: right;\n",
       "    }\n",
       "</style>\n",
       "<table border=\"1\" class=\"dataframe\">\n",
       "  <thead>\n",
       "    <tr style=\"text-align: right;\">\n",
       "      <th></th>\n",
       "      <th>id</th>\n",
       "      <th>text</th>\n",
       "      <th>split</th>\n",
       "    </tr>\n",
       "    <tr>\n",
       "      <th>index</th>\n",
       "      <th></th>\n",
       "      <th></th>\n",
       "      <th></th>\n",
       "    </tr>\n",
       "  </thead>\n",
       "  <tbody>\n",
       "    <tr>\n",
       "      <th>0</th>\n",
       "      <td>0</td>\n",
       "      <td>Economic Situation\\n일부 위원은 관련부서에서 지난 3\\/4분기 중 ...</td>\n",
       "      <td>train</td>\n",
       "    </tr>\n",
       "  </tbody>\n",
       "</table>\n",
       "</div>"
      ],
      "text/plain": [
       "       id                                               text  split\n",
       "index                                                              \n",
       "0       0  Economic Situation\\n일부 위원은 관련부서에서 지난 3\\/4분기 중 ...  train"
      ]
     },
     "execution_count": 9,
     "metadata": {},
     "output_type": "execute_result"
    }
   ],
   "source": [
    "crps.data"
   ]
  },
  {
   "cell_type": "code",
   "execution_count": 10,
   "metadata": {
    "colab": {
     "base_uri": "https://localhost:8080/",
     "height": 80
    },
    "id": "66U095XOPWel",
    "outputId": "df2c487f-8ca2-4963-fd8d-84de855d5e86"
   },
   "outputs": [
    {
     "data": {
      "text/html": [
       "<div>\n",
       "<style scoped>\n",
       "    .dataframe tbody tr th:only-of-type {\n",
       "        vertical-align: middle;\n",
       "    }\n",
       "\n",
       "    .dataframe tbody tr th {\n",
       "        vertical-align: top;\n",
       "    }\n",
       "\n",
       "    .dataframe thead th {\n",
       "        text-align: right;\n",
       "    }\n",
       "</style>\n",
       "<table border=\"1\" class=\"dataframe\">\n",
       "  <thead>\n",
       "    <tr style=\"text-align: right;\">\n",
       "      <th></th>\n",
       "      <th>id</th>\n",
       "      <th>mdate</th>\n",
       "      <th>rdate</th>\n",
       "      <th>filename</th>\n",
       "      <th>split</th>\n",
       "    </tr>\n",
       "  </thead>\n",
       "  <tbody>\n",
       "    <tr>\n",
       "      <th>0</th>\n",
       "      <td>0</td>\n",
       "      <td>2018-11-30 10:00:00</td>\n",
       "      <td>2018-12-18 16:00:00</td>\n",
       "      <td>BOK_20181130_20181218</td>\n",
       "      <td>train</td>\n",
       "    </tr>\n",
       "  </tbody>\n",
       "</table>\n",
       "</div>"
      ],
      "text/plain": [
       "   id                mdate                rdate               filename  split\n",
       "0   0  2018-11-30 10:00:00  2018-12-18 16:00:00  BOK_20181130_20181218  train"
      ]
     },
     "execution_count": 10,
     "metadata": {},
     "output_type": "execute_result"
    }
   ],
   "source": [
    "crps.metadata"
   ]
  },
  {
   "cell_type": "code",
   "execution_count": 11,
   "metadata": {
    "colab": {
     "base_uri": "https://localhost:8080/"
    },
    "id": "pUGzuV0vPWel",
    "outputId": "4c2ec7ff-8b2d-4d7b-ccd7-2b77f27486b5"
   },
   "outputs": [
    {
     "name": "stdout",
     "output_type": "stream",
     "text": [
      "id ['id', 'split'] text ['id', 'text', 'split'] ['id', 'mdate', 'rdate', 'filename', 'split']\n"
     ]
    }
   ],
   "source": [
    "print(crps.ID, crps.IDs, crps.TEXT, crps.DATA, crps.METADATA)"
   ]
  },
  {
   "cell_type": "code",
   "execution_count": 12,
   "metadata": {},
   "outputs": [
    {
     "data": {
      "text/html": [
       "<div>\n",
       "<style scoped>\n",
       "    .dataframe tbody tr th:only-of-type {\n",
       "        vertical-align: middle;\n",
       "    }\n",
       "\n",
       "    .dataframe tbody tr th {\n",
       "        vertical-align: top;\n",
       "    }\n",
       "\n",
       "    .dataframe thead th {\n",
       "        text-align: right;\n",
       "    }\n",
       "</style>\n",
       "<table border=\"1\" class=\"dataframe\">\n",
       "  <thead>\n",
       "    <tr style=\"text-align: right;\">\n",
       "      <th></th>\n",
       "      <th>id</th>\n",
       "      <th>text</th>\n",
       "      <th>split</th>\n",
       "      <th>mdate</th>\n",
       "      <th>rdate</th>\n",
       "      <th>filename</th>\n",
       "    </tr>\n",
       "  </thead>\n",
       "  <tbody>\n",
       "    <tr>\n",
       "      <th>0</th>\n",
       "      <td>0</td>\n",
       "      <td>Economic Situation\\n일부 위원은 관련부서에서 지난 3\\/4분기 중 ...</td>\n",
       "      <td>train</td>\n",
       "      <td>2018-11-30 10:00:00</td>\n",
       "      <td>2018-12-18 16:00:00</td>\n",
       "      <td>BOK_20181130_20181218</td>\n",
       "    </tr>\n",
       "  </tbody>\n",
       "</table>\n",
       "</div>"
      ],
      "text/plain": [
       "   id                                               text  split  \\\n",
       "0   0  Economic Situation\\n일부 위원은 관련부서에서 지난 3\\/4분기 중 ...  train   \n",
       "\n",
       "                 mdate                rdate               filename  \n",
       "0  2018-11-30 10:00:00  2018-12-18 16:00:00  BOK_20181130_20181218  "
      ]
     },
     "execution_count": 12,
     "metadata": {},
     "output_type": "execute_result"
    }
   ],
   "source": [
    "crps.merge_metadata()\n",
    "crps.data"
   ]
  },
  {
   "cell_type": "code",
   "execution_count": 14,
   "metadata": {},
   "outputs": [
    {
     "data": {
      "text/html": [
       "<div>\n",
       "<style scoped>\n",
       "    .dataframe tbody tr th:only-of-type {\n",
       "        vertical-align: middle;\n",
       "    }\n",
       "\n",
       "    .dataframe tbody tr th {\n",
       "        vertical-align: top;\n",
       "    }\n",
       "\n",
       "    .dataframe thead th {\n",
       "        text-align: right;\n",
       "    }\n",
       "</style>\n",
       "<table border=\"1\" class=\"dataframe\">\n",
       "  <thead>\n",
       "    <tr style=\"text-align: right;\">\n",
       "      <th></th>\n",
       "      <th>id</th>\n",
       "      <th>text</th>\n",
       "      <th>split</th>\n",
       "      <th>mdate</th>\n",
       "      <th>rdate</th>\n",
       "      <th>filename</th>\n",
       "      <th>timestamp</th>\n",
       "    </tr>\n",
       "  </thead>\n",
       "  <tbody>\n",
       "    <tr>\n",
       "      <th>0</th>\n",
       "      <td>0</td>\n",
       "      <td>Economic Situation\\n일부 위원은 관련부서에서 지난 3\\/4분기 중 ...</td>\n",
       "      <td>train</td>\n",
       "      <td>2018-11-30 10:00:00</td>\n",
       "      <td>2018-12-18 16:00:00</td>\n",
       "      <td>BOK_20181130_20181218</td>\n",
       "      <td>2018-11-30 10:00:00</td>\n",
       "    </tr>\n",
       "  </tbody>\n",
       "</table>\n",
       "</div>"
      ],
      "text/plain": [
       "   id                                               text  split  \\\n",
       "0   0  Economic Situation\\n일부 위원은 관련부서에서 지난 3\\/4분기 중 ...  train   \n",
       "\n",
       "                 mdate                rdate               filename  \\\n",
       "0  2018-11-30 10:00:00  2018-12-18 16:00:00  BOK_20181130_20181218   \n",
       "\n",
       "            timestamp  \n",
       "0 2018-11-30 10:00:00  "
      ]
     },
     "execution_count": 14,
     "metadata": {},
     "output_type": "execute_result"
    }
   ],
   "source": [
    "crps.COLUMN.TIMESTAMP_INFO.key = 'mdate'\n",
    "crps.load_timestamp()\n",
    "crps.data"
   ]
  },
  {
   "cell_type": "code",
   "execution_count": 15,
   "metadata": {
    "colab": {
     "base_uri": "https://localhost:8080/"
    },
    "id": "kArHj0GHPWem",
    "outputId": "39ce0ab9-1e3f-4efc-8d30-52def175a0a5"
   },
   "outputs": [
    {
     "name": "stdout",
     "output_type": "stream",
     "text": [
      "{'category': 'formal',\n",
      " 'column_info': {'_keys_': {'dataset': 'dataset',\n",
      "                            'id': 'id',\n",
      "                            'split': 'split',\n",
      "                            'text': 'text',\n",
      "                            'timestamp': 'timestamp'},\n",
      "                 'columns': {'id': 'id',\n",
      "                             'merge_meta_on': 'id',\n",
      "                             'text': 'text',\n",
      "                             'timestamp': None},\n",
      "                 'data': {'id': 'int', 'text': 'str'},\n",
      "                 'datetime': {'columns': None,\n",
      "                              'format': None,\n",
      "                              'rcParams': None},\n",
      "                 'meta': {'filename': 'str',\n",
      "                          'id': 'int',\n",
      "                          'mdate': 'str',\n",
      "                          'rdate': 'str'},\n",
      "                 'segment_separator': '\\\\n\\\\n',\n",
      "                 'sentence_separator': '\\\\n',\n",
      "                 'timestamp': {'format': None, 'key': None, 'rcParams': None}},\n",
      " 'data_files': {'train': 'bok_minutes-train.parquet'},\n",
      " 'data_files_modified': '2022-06-14 02:24:20',\n",
      " 'description': 'BOK Minutes Corpus',\n",
      " 'fullname': 'BOK MPB Minutes',\n",
      " 'homepage': 'https://www.bok.or.kr',\n",
      " 'info_updated': '2022-06-14 02:24:21',\n",
      " 'lang': 'ko',\n",
      " 'license': 'Bank of Korea',\n",
      " 'meta_files': {'train': 'meta-bok_minutes-train.parquet'},\n",
      " 'meta_files_modified': '2022-06-14 02:24:20',\n",
      " 'name': 'bok_minutes',\n",
      " 'num_bytes_before_processing': 88948,\n",
      " 'num_docs': 1,\n",
      " 'num_docs_before_processing': 1,\n",
      " 'num_segments': 5,\n",
      " 'num_sents': 346,\n",
      " 'num_words': 8171,\n",
      " 'size_in_bytes': 88925,\n",
      " 'size_in_human_bytes': '86.84 KiB',\n",
      " 'splits': {'train': {'data_file': 'bok_minutes-train.parquet',\n",
      "                      'dataset_name': 'bok_minutes',\n",
      "                      'human_bytes': '86.84 KiB',\n",
      "                      'human_bytes_wospc': '78.86 KiB',\n",
      "                      'meta_file': 'meta-bok_minutes-train.parquet',\n",
      "                      'name': 'train',\n",
      "                      'num_bytes': 88925,\n",
      "                      'num_bytes_before_processing': 88948,\n",
      "                      'num_bytes_max': 88925,\n",
      "                      'num_bytes_median': 88925.0,\n",
      "                      'num_bytes_min': 88925,\n",
      "                      'num_bytes_wospc': 80751,\n",
      "                      'num_docs': 1,\n",
      "                      'num_docs_before_processing': 1,\n",
      "                      'num_segments': 5,\n",
      "                      'num_segments_median': 5.0,\n",
      "                      'num_sents': 346,\n",
      "                      'num_sents_median': 346.0,\n",
      "                      'num_words': 8171,\n",
      "                      'num_words_max': 8171,\n",
      "                      'num_words_median': 8171.0,\n",
      "                      'num_words_min': 8171}},\n",
      " 'version': '1.0.0'}\n"
     ]
    }
   ],
   "source": [
    "eKonf.pprint(crps.INFO)"
   ]
  },
  {
   "cell_type": "code",
   "execution_count": null,
   "metadata": {
    "id": "_hXmySfsPWem"
   },
   "outputs": [],
   "source": []
  }
 ],
 "metadata": {
  "colab": {
   "name": "corpus.ipynb",
   "provenance": []
  },
  "kernelspec": {
   "display_name": "Python 3.8.12 ('base')",
   "language": "python",
   "name": "python3"
  },
  "language_info": {
   "codemirror_mode": {
    "name": "ipython",
    "version": 3
   },
   "file_extension": ".py",
   "mimetype": "text/x-python",
   "name": "python",
   "nbconvert_exporter": "python",
   "pygments_lexer": "ipython3",
   "version": "3.8.12"
  },
  "vscode": {
   "interpreter": {
    "hash": "d4d1e4263499bec80672ea0156c357c1ee493ec2b1c70f0acce89fc37c4a6abe"
   }
  },
  "widgets": {
   "application/vnd.jupyter.widget-state+json": {
    "state": {},
    "version_major": 2,
    "version_minor": 0
   }
  }
 },
 "nbformat": 4,
 "nbformat_minor": 1
}
