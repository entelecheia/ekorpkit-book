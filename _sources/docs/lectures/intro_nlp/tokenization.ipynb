{
 "cells": [
  {
   "cell_type": "markdown",
   "id": "cfdc61fb",
   "metadata": {},
   "source": [
    "# Tokenization\n",
    "\n",
    "![](../figs/intro_nlp/tokenization/entelecheia_puzzle_pieces.png)"
   ]
  },
  {
   "cell_type": "markdown",
   "id": "66d50cc3",
   "metadata": {},
   "source": [
    "## Overview\n",
    "\n",
    "NLP systems have three main components that help machines understand natural language:\n",
    "\n",
    "- **Tokenization**: Splitting a string into a list of tokens.\n",
    "- **Embedding**: Mapping tokens to vectors.\n",
    "- **Model**: A neural network that takes token vectors as input and outputs predictions.\n",
    "\n",
    "Tokenization is the first step in the NLP pipeline. \n",
    "\n",
    "- Tokenization is the process of splitting a string into a list of tokens. \n",
    "- For example, the sentence \"I like to eat apples\" can be tokenized into the list of tokens `[\"I\", \"like\", \"to\", \"eat\", \"apples\"]`. \n",
    "- The tokens can be words, characters, or subwords."
   ]
  },
  {
   "cell_type": "markdown",
   "id": "39810160",
   "metadata": {},
   "source": [
    "## What is Tokenization?\n",
    "\n",
    "- Tokenization is the process of representing a text in smaller units called tokens.\n",
    "- In a very simple case, we can simply map every word in the text to a numerical index.\n",
    "- For example, the sentence \"I like to eat apples\" can be tokenized into the list of tokens:\n",
    "  > `[\"I\", \"like\", \"to\", \"eat\", \"apples\"]`. \n",
    "- Then, each token can be mapped to a unique index, such as:\n",
    "  > `{\"I\": 0, \"like\": 1, \"to\": 2, \"eat\": 3, \"apples\": 4}`.\n",
    "- There are more linguistic features to consider when tokenizing a text, such as punctuation, capitalization, and so on."
   ]
  },
  {
   "cell_type": "markdown",
   "id": "609cc5c5",
   "metadata": {},
   "source": [
    "## Why do we need tokenization?\n",
    "\n",
    "- \"How can we make a machine read a sentence?\"\n",
    "- Machines don’t know any language, nor do they understand sounds or phonetics.\n",
    "- They need to be taught from scratch.\n",
    "- The first step is to break down the sentence into smaller units that the machine can process.\n",
    "- Tokenization determines how the input is represented to the model.\n",
    "- This decision has a huge impact on the performance of the model."
   ]
  },
  {
   "cell_type": "markdown",
   "id": "6a29cf2e",
   "metadata": {},
   "source": [
    "## How do we identify words in text?\n",
    "\n",
    "For a language like English, this seems like a simple task. We can simply split the text by spaces. \n",
    "\n",
    "```\n",
    "A word is any sequence of alphabetical characters between whitespaces that’s not a punctuation mark?\n",
    "```\n",
    "\n",
    "\n",
    "However, there are many cases where this is not true.\n",
    "\n",
    "- What about contractions? \n",
    "  - \"I'm\" is a single word, but it is split into two tokens.\n",
    "- What about abbreviations? \n",
    "  - \"U.S.\" is a single word, but it is split into two tokens.\n",
    "- What about hyphenated words? \n",
    "  - \"self-driving\", \"R2-D2\" are single words, but they are split into two tokens.\n",
    "- What about complex names? \n",
    "  - \"New York\" is a single word, but it is split into two tokens.\n",
    "- What about languages like Chinese that have no spaces between words?"
   ]
  },
  {
   "cell_type": "markdown",
   "id": "42fcaf3e",
   "metadata": {},
   "source": [
    "### Words aren’t just defined by blanks\n",
    "\n",
    "Problem 1: Compounding\n",
    "\n",
    "```\n",
    "“ice cream”, “website”, “web site”, “New York-based”\n",
    "```\n",
    "\n",
    "Problem 2: Other writing systems have no blanks\n",
    "\n",
    "```\n",
    "Chinese: 我开始写⼩说 = 我 开始 写 ⼩说 (I start(ed) writing novel(s))\n",
    "```\n",
    "\n",
    "Problem 3: Contractions and Clitics\n",
    "\n",
    "```\n",
    "English: “doesn’t” , “I’m” ,\n",
    "Italian: “dirglielo” = dir + gli(e) + lo (tell + him + it)\n",
    "```\n"
   ]
  },
  {
   "cell_type": "markdown",
   "id": "421276ae",
   "metadata": {},
   "source": [
    "### Tokenization Standards\n",
    "\n",
    "Any actual NLP system will assume a particular tokenization standard.\n",
    "\n",
    "- NLP systems are usually trained on particular corpora (text datasets) that everybody uses.\n",
    "- These corpora often define a de facto standard.\n",
    "\n",
    "Penn Treebank 3 standard:\n",
    "\n",
    "- Input:\n",
    "  > `\"The San Francisco-based restaurant,\" they said, \"doesn’t charge $10\".`\n",
    "- Output:\n",
    "  > `“_ The _ San _ Francisco-based _ restaurant _ , _” _ they_ said* ,* \"_ does _ n’t _ charge_ $_ 10 _ \" _ . _`\n"
   ]
  },
  {
   "cell_type": "markdown",
   "id": "d82d9c79",
   "metadata": {},
   "source": [
    "### What about sentence boundaries?\n",
    "\n",
    "How can we identify that this is two sentences?\n",
    "\n",
    "```\n",
    "Mr. Smith went to D.C. Ms. Xu went to Chicago instead.\n",
    "```\n",
    "\n",
    "- We can use a period to identify the end of a sentence.\n",
    "- However, this is not always true.\n",
    "- Abbreviations, such as \"Mr.\", \"D.C.\", \"Ms.\", \"U.S.\", \"etc.\" can be followed by a period.\n"
   ]
  },
  {
   "cell_type": "markdown",
   "id": "b1463193",
   "metadata": {},
   "source": [
    "How many sentences are in this text?\n",
    "\n",
    "```\n",
    "\"The San Francisco-based restaurant,\" they said, \"doesn’t charge $10\".\n",
    "```\n",
    "\n",
    "Answer: just one, because the comma is not a sentence boundary.\n",
    "\n",
    "Similarly, we typically treat this also just as one sentence:\n",
    "\n",
    "```\n",
    "They said: ”The San Francisco-based restaurant doesn’t charge $10\".\n",
    "```\n"
   ]
  },
  {
   "cell_type": "markdown",
   "id": "2565cdd6",
   "metadata": {},
   "source": [
    "### Spelling variants, typos, etc.\n",
    "\n",
    "The same word can be written in different ways:\n",
    "\n",
    "- with different `capitalizations`:\n",
    "  - lowercase “cat” (in standard running text)\n",
    "  - capitalized “Cat” (as first word in a sentence, or in titles/headlines),\n",
    "  - all-caps “CAT” (e.g. in headlines)\n",
    "- with different abbreviation or hyphenation styles:\n",
    "  - US-based, US based, U.S.-based, U.S. based\n",
    "  - US-EU relations, U.S./E.U. relations, …\n",
    "- with spelling variants (e.g. regional variants of English):\n",
    "  - labor vs labour, materialize vs materialise,\n",
    "- with typos (teh)\n"
   ]
  },
  {
   "cell_type": "markdown",
   "id": "9d58bbc0",
   "metadata": {},
   "source": [
    "## How many different words are there in English?"
   ]
  },
  {
   "cell_type": "markdown",
   "id": "a4d5f64f",
   "metadata": {},
   "source": [
    "### Counting words: tokens vs. types\n",
    "\n",
    "When counting words in text, we distinguish between word types and word tokens:\n",
    "\n",
    "- The vocabulary of a language is the set of (unique) word types:\n",
    "  > V = {a, aardvark, …., zyzzva}\n",
    "- The tokens in a document include all occurrences of the word types in that document or corpus\n",
    "- The frequency of a word (type) in a document  \n",
    "  = the number of occurrences (tokens) of that type\n"
   ]
  },
  {
   "cell_type": "markdown",
   "id": "c705c650",
   "metadata": {},
   "source": [
    "How large is the vocabulary of English (or any other language)?\n",
    "\n",
    "- Vocabulary size = the number of distinct word types\n",
    "  > Google N-gram corpus: 1 trillion tokens, 13 million word types that appear 40+ times\n",
    "- You may have heard statements such as:\n",
    "  > `adults know about 30,000 words`\n",
    "  \n",
    "  > `you need to know at least 5,000 words to be fluent`\n",
    "\n",
    "If you count words in text, you will find that ...\n",
    "\n",
    "- a few words (mostly closed-class) are very frequent (the, be, to, of, and, a, in, that,…)\n",
    "- most words (all open class) are very rare.\n",
    "- even if you’ve read a lot of text, you will keep finding words you haven’t seen before. \n",
    "  \n"
   ]
  },
  {
   "cell_type": "markdown",
   "id": "4f6e7cc9",
   "metadata": {},
   "source": [
    "### Zipf’s law: the long tail\n",
    "\n",
    "In a natural language:\n",
    "\n",
    "- A small number of events (e.g. words) occur with high frequency\n",
    "- A large number of events occur with very low frequency\n",
    "\n",
    "![](../figs/intro_nlp/tokenization/1.png)"
   ]
  },
  {
   "cell_type": "markdown",
   "id": "c7563b2a",
   "metadata": {},
   "source": [
    "#### Implications of Zipf’s Law for NLP\n",
    "\n",
    "The good:\n",
    "\n",
    "```\n",
    "Any text will contain a number of words that are very common.\n",
    "We have seen these words often enough that we know (almost) everything about them.\n",
    "These words will help us get at the structure (and possibly meaning) of this text.\n",
    "```\n",
    "\n",
    "The bad:\n",
    "\n",
    "```\n",
    "Any text will contain a number of words that are rare.\n",
    "We know something about these words, but haven’t seen them often enough to know everything about them.\n",
    "They may occur with a meaning or a part of speech we haven’t seen before.\n",
    "```\n",
    "\n",
    "The ugly:\n",
    "\n",
    "```\n",
    "Any text will contain a number of words that are unknown to us.\n",
    "We have never seen them before, but we still need to get at the structure (and meaning) of these texts.\n",
    "```"
   ]
  },
  {
   "cell_type": "markdown",
   "id": "32f40ad7",
   "metadata": {},
   "source": [
    "#### Dealing with the bad and the ugly\n",
    "\n",
    "NLP systems need to be able to generalize from the known to the unknown.\n",
    "\n",
    "There are two main strategies:\n",
    "\n",
    "- Linguistic knowledge\n",
    "  - a finite set of grammatical rules is enough to generate an infinite number of languages\n",
    "- Machine learning or statistical methods\n",
    "  - learn representations of words from large amounts of data that often work well for unseen words"
   ]
  },
  {
   "cell_type": "markdown",
   "id": "14416e2c",
   "metadata": {},
   "source": [
    "## How do we represent words?\n",
    "\n",
    "Option 1: Words are atomic symbols\n",
    "\n",
    "- Each (surface) word is a unique symbol\n",
    "- Add some generalization rules to map different surface forms to the same symbol\n",
    "  - `Normalization`: map all variants of the same word (form) to the same canonical variant \n",
    "    > e.g. lowercase everything, normalize spellings, perhaps spell-check)\n",
    "  - `Lemmatization`: map each word to its lemma (esp. in English, the lemma is still a word in the language, but lemmatized text is no longer grammatical)\n",
    "  - `Stemming`: remove endings that differ among word forms (no guarantee that the resulting symbol is an actual word)\n"
   ]
  },
  {
   "cell_type": "markdown",
   "id": "873c0ac7",
   "metadata": {},
   "source": [
    "Option 2: Represent the structure of each word\n",
    "\n",
    "```\n",
    "\"books\" => \"book N pl\" (or \"book V 3rd sg\")\n",
    "```\n",
    "\n",
    "- This requries a morphological analyzer\n",
    "- The output is often a lemma (e.g. \"book\") and morphological features (e.g. \"N pl\" for noun plural, \"V 3rd sg\" for verb 3rd person singular)\n",
    "- This is particularly useful for languages with rich morphology (e.g. Turkish, Finnish, Hungarian, etc.)\n",
    "- Less useful for languages with little morphology (e.g. English, German, etc.)"
   ]
  },
  {
   "cell_type": "markdown",
   "id": "73b8de82",
   "metadata": {},
   "source": [
    "## How do we represent unknown words?\n",
    "\n",
    "Many NLP systems assume a fixed vocabulary, but still have to handle out-of-vocabulary (OOV) words.\n",
    "\n",
    "Option 1: `the UNK token`\n",
    "- Replace all rare words (with a frequency at or below a given threshold, e.g. 2, 3, or 5) in your training data with an UNK token (UNK = “Unknown word”). \n",
    "- Replace all unknown words that you come across after training (including rare training words) with the same UNK token\n",
    "\n",
    "Option 2: `substring-based representations`\n",
    "- Often used in neural models\n",
    "- Represent (rare and unknown) words [“Champaign”] as sequences of characters [‘C’, ‘h’, ‘a’,…,’g’, ’n'] or substrings [“Ch”, “amp”, “ai”, “gn”]  \n",
    "- `Byte Pair Encoding (BPE)`: learn which character sequences are common in the vocabulary of your language, and treat those common sequences as atomic units of your vocabulary\n"
   ]
  },
  {
   "cell_type": "markdown",
   "id": "5b5ea27e",
   "metadata": {},
   "source": [
    "**Which words appear in this text?**\n",
    "\n",
    "```\n",
    "Of course he wants to take the advanced course too. He already took two beginners’ courses.\n",
    "```\n",
    "\n",
    "Actual text doesn’t consist of dictionary entries:\n",
    "\n",
    "- wants is a form of want\n",
    "- took is a form of take\n",
    "- courses is a form of course\n",
    "\n",
    "Linguists distinguish between\n",
    "\n",
    "- **the (surface) forms that occur in text**: want, wants, beginners’, took,…\n",
    "- **and the lemmas that are the uninflected forms of these words**: want, beginner, take, …\n",
    "\n",
    "In NLP, we sometimes map words to lemmas (or simpler “stems”), but the raw data always consists of surface forms"
   ]
  },
  {
   "cell_type": "markdown",
   "id": "14728924",
   "metadata": {},
   "source": [
    "## How many different words are there?\n",
    "\n",
    "`Inflection` creates different forms of the same word:\n",
    "\n",
    "- Verbs: to be, being, I am, you are, he is, I was,\n",
    "- Nouns: one book, two books\n",
    "\n",
    "`Derivation` creates different words from the same lemma:\n",
    "\n",
    "- grace ⇒ disgrace ⇒ disgraceful ⇒ disgracefully\n",
    "\n",
    "`Compounding` combines two words into a new word:\n",
    "\n",
    "- cream ⇒ ice cream ⇒ ice cream cone ⇒ ice cream cone bakery\n",
    "\n",
    "Word formation is productive:\n",
    "\n",
    "- New words are subject to all of these processes:\n",
    "  Google ⇒ Googler, to google, to ungoogle, to misgoogle, googlification, ungooglification, googlified, Google Maps, Google Maps service,...\n"
   ]
  },
  {
   "cell_type": "markdown",
   "id": "62c761e3",
   "metadata": {},
   "source": [
    "### Inflectional morphology in English\n",
    "\n",
    "**Verbs**:\n",
    "\n",
    "- Infinitive/present tense: walk, go\n",
    "- 3rd person singular present tense (s-form): walks, goes\n",
    "- Simple past: walked, went\n",
    "- Past participle (ed-form): walked, gone\n",
    "- Present participle (ing-form): walking, going\n",
    "\n",
    "**Nouns**:\n",
    "\n",
    "- Common nouns inflect for number:\n",
    "  singular (book) vs. plural (books)\n",
    "- Personal pronouns inflect for person, number, gender, case:\n",
    "  I saw him; he saw me; you saw her; we saw them; they saw us.\n"
   ]
  },
  {
   "cell_type": "markdown",
   "id": "abe9621a",
   "metadata": {},
   "source": [
    "### Derivational morphology in English\n",
    "\n",
    "Nominalization:\n",
    "\n",
    "- V + -ation: computerization, privatization, democratization,…\n",
    "- V + -er: killer, trainer, driver,…\n",
    "- Adj + -ness: fuzziness, kindness,…\n",
    "\n",
    "Negation:\n",
    "\n",
    "- un-: undo, unseen, unkind,…\n",
    "- mis-: mistake, mislead, misbehave,…\n",
    "\n",
    "Adjectivization:\n",
    "\n",
    "- V + -able: doable, teachable,…\n",
    "- N + -al: national, personal,…\n"
   ]
  },
  {
   "cell_type": "markdown",
   "id": "69bd5efb",
   "metadata": {},
   "source": [
    "### Morphemes: stems, affixes\n",
    "\n",
    "```\n",
    "   dis-grace-ful-ly\n",
    "prefix-stem-suffix-suffix\n",
    "```\n",
    "\n",
    "Many word forms consist of a `stem` plus a number of `affixes (prefixes or suffixes)`\n",
    "\n",
    "- Exceptions: Infixes are inserted inside the stem Circumfixes (German gesehen) surround the stem\n",
    "\n",
    "`Morphemes`: the smallest (meaningful/grammatical) parts of words.\n",
    "\n",
    "- Stems (grace) are often `free morphemes`.\n",
    "  Free morphemes can occur by themselves as words.\n",
    "- Affixes (dis-, -ful, -ly) are usually `bound morphemes`.\n",
    "  Bound morphemes have to combine with others to form words.\n"
   ]
  },
  {
   "cell_type": "markdown",
   "id": "253c4ca4",
   "metadata": {},
   "source": [
    "**Morphemes and morphs**\n",
    "\n",
    "The same information (plural, past tense, ...) is often expressed in different ways in the same language.\n",
    "\n",
    "- One way may be more common than others, and exceptions may depend on specific words:\n",
    "  - Most plural nouns: add **-s** to singular: book-book**s**, but: box-box**es**, fly-fl**ies**, child-child**ren**\n",
    "  - Most past tense verbs add **-ed** to infinitive: walk-walk**ed**, but: like-like**d**, leap-leap**t**\n",
    "    Such exceptions are called `irregular word forms`\n",
    "\n",
    "Linguists say that there is `one underlying morpheme` (e.g. for plural nouns) that is “realized” as different “surface” forms (morphs) (e.g. -s/-es/-ren)\n",
    "\n",
    "- Allomorphs: two different realizations (-s/-es/-ren) of the same underlying morpheme (plural)\n"
   ]
  },
  {
   "cell_type": "markdown",
   "id": "3b40e36e",
   "metadata": {},
   "source": [
    "**“Surface”?**\n",
    "\n",
    "This terminology comes from Chomskyan Transformational Grammar.\n",
    "\n",
    "- Dominant early approach in theoretical linguistics, superseded by other approaches (“minimalism”).\n",
    "- Not computational, but has some historical influence on computational linguistics (e.g. Penn Treebank)\n",
    "\n",
    "`“Surface”` = standard English (Chinese, Hindi, etc.).\n",
    "\n",
    "- `“Surface string”` = a written sequence of characters or words\n",
    "\n",
    "vs. `“Deep”/“Underlying”` structure/representation:\n",
    "\n",
    "- A more abstract representation.\n",
    "- Might be the same for different sentences/words with the same meaning."
   ]
  },
  {
   "cell_type": "markdown",
   "id": "e1aec77a",
   "metadata": {},
   "source": [
    "## Tokenization\n",
    "\n",
    "### Input:\n",
    "\n",
    "- A set of documents (e.g. text files), $D$\n",
    "\n",
    "### Output (tokens):\n",
    "\n",
    "- A sequence, $W$ , containing a list of tokens – words or word pieces for use in natural language processing\n",
    "\n",
    "### Output (n-grams):\n",
    "\n",
    "- A matrix, $X$, containing statistics about word/phrase frequencies in those documents.\n"
   ]
  },
  {
   "cell_type": "markdown",
   "id": "afda69a1",
   "metadata": {},
   "source": [
    "### Tokens\n",
    "\n",
    "The most basic unit of representation in a text.\n",
    "\n",
    "- characters: documents as sequence of individual letters {h,e,l,l,o, ,w,o,r,l,d}\n",
    "- words: split on white space {hello, world}\n",
    "- n-grams: learn a vocabulary of phrases and tokenize those:\n",
    "  > `“hellow world → hellow_world”`\n"
   ]
  },
  {
   "cell_type": "markdown",
   "id": "815632b6",
   "metadata": {},
   "source": [
    "### Goals of Tokenization\n",
    "\n",
    "To summarize: A major goal of tokenization is to produce features that are\n",
    "\n",
    "- `predictive` in the learning task\n",
    "- `interpretable` by human investigators\n",
    "- `tractable` enough to be easy to work with\n",
    "\n",
    "Two broad approaches:\n",
    "\n",
    "1. convert documents to vectors, usually frequency distributions over pre-processed n-grams.\n",
    "2. convert documents to sequences of tokens, for inputs to sequential models.\n"
   ]
  },
  {
   "cell_type": "markdown",
   "id": "87e72ddb",
   "metadata": {},
   "source": [
    "### A Traditional Tokenization Pipeline\n",
    "\n",
    "- Extract text from documents (e.g. PDF, HTML, XML, …)\n",
    "- Tokenize text into words\n",
    "- Normalize words (e.g. lowercasing, stemming, lemmatization)\n",
    "- Remove stop words (e.g. “the”, “a”, “an”, “in”, …)\n",
    "- Build a vocabulary of words\n",
    "- Convert documents to vectors of word counts or TF-IDF scores\n",
    "- Train a model on those vectors"
   ]
  },
  {
   "cell_type": "markdown",
   "id": "22066f8a",
   "metadata": {},
   "source": [
    "### Subword Tokenization for Sequence Models\n",
    "\n",
    "Modern transformer models (e.g. BERT, GPT) use subword tokenization:\n",
    "\n",
    "- construct character-level n-grams\n",
    "- whitespace treated the same as letters\n",
    "- all letters to lowercase, but add a special character for the next letter being capitalized.\n",
    "\n",
    "e.g., BERT’s SentencePiece tokenizer:\n",
    "- character-level byte-pair encoder\n",
    "- learns character n-grams to breaks words like “playing” into “play” and “##ing”.\n",
    "- have to fix a vocabulary size: e.g. BERT uses 30K.\n",
    "\n",
    "![](../figs/intro_nlp/tokenization/3.png)"
   ]
  },
  {
   "cell_type": "markdown",
   "id": "af8e7672",
   "metadata": {},
   "source": [
    "### Segmenting paragraphs/sentences\n",
    "\n",
    "Many tasks should be done on sentences, rather than corpora as a whole.\n",
    "\n",
    "- spaCy is a good (but not perfect) job of splitting sentences, while accounting for periods on abbreviations, etc.\n",
    "- pySBD is a better option for splitting sentences.\n",
    "\n",
    "There isn’t a grammar-based paragraph tokenizer.\n",
    "\n",
    "- most corpora have new paragraphs annotated.\n",
    "- or use line breaks."
   ]
  },
  {
   "cell_type": "markdown",
   "id": "fbd67c05",
   "metadata": {},
   "source": [
    "### Pre-processing\n",
    "\n",
    "An important piece of the “art” of text analysis is deciding what data to throw out.\n",
    "\n",
    "- Uninformative data add noise and reduce statistical precision.\n",
    "- They are also computationally costly.\n",
    "\n",
    "Pre-processing choices can affect down-stream results, especially in unsupervised learning tasks (Denny and Spirling 2017).\n",
    "\n",
    "- some features are more interpretable: “govenor has” / “has discretion” vs “govenor has discretion”.\n",
    "\n"
   ]
  },
  {
   "cell_type": "markdown",
   "id": "89774b97",
   "metadata": {},
   "source": [
    "#### Capitalization\n",
    "\n",
    "Removing capitalization is a standard corpus normalization technique\n",
    "\n",
    "- usually the capitalized/non-capitalized version of a word are equivalent – e.g. words showing up capitalized at beginning of sentence\n",
    "- → capitalization not informative.\n",
    "\n",
    "Also: what about “the first amendment” versus “the First Amendment”?\n",
    "\n",
    "- Compromise: include capitalized version of words not at beginning of sentence.\n",
    "\n",
    "For some tasks, capitalization is important\n",
    "\n",
    "- needed for sentence splitting, part-of-speech tagging, syntactic parsing, and semantic role labeling.\n",
    "- For sequence data, e.g. language modeling – huggingface tokenizer takes out capitalization but then add a special “capitalized” token before the word.\n"
   ]
  },
  {
   "cell_type": "markdown",
   "id": "386fcb60",
   "metadata": {},
   "source": [
    "#### Punctuation\n",
    "\n",
    "![](../figs/intro_nlp/tokenization/4.png)\n",
    "(Source: Chris Bail text data slides.)\n",
    "\n",
    "Inclusion of punctuation depends on your task:\n",
    "\n",
    "- if you are vectorizing the document as a bag of words or bag of n-grams, punctuation won’t be needed.\n",
    "- like capitalization, punctuation is needed for annotations (sentence splitting, parts of speech, syntax, roles, etc)\n",
    "  - also needed for language models.\n"
   ]
  },
  {
   "cell_type": "markdown",
   "id": "bb0f16c3",
   "metadata": {},
   "source": [
    "#### Numbers\n",
    "\n",
    "for classification using bag of words:\n",
    "\n",
    "- can drop numbers, or replace with special characters\n",
    "\n",
    "for language models:\n",
    "\n",
    "- just treat them like letters.\n",
    "- GPT-3 can solve math problems (but not well, this is an area of research)\n"
   ]
  },
  {
   "cell_type": "markdown",
   "id": "383593b1",
   "metadata": {},
   "source": [
    "#### Drop Stopwords?\n",
    "\n",
    "![](../figs/intro_nlp/tokenization/5.png)\n",
    "\n",
    "- Stopwords are words that are so common that they don’t carry much information.\n",
    "- can drop stopwords by themselves, but keep them as part of phrases.\n",
    "- can filter out words and phrases using part-of-speech tags (later).\n"
   ]
  },
  {
   "cell_type": "markdown",
   "id": "5665c1c5",
   "metadata": {},
   "source": [
    "#### Stemming/lemmatizing\n",
    "\n",
    "- Effective dimension reduction with little loss of information.\n",
    "- Lemmatizer produces real words, but N-grams won’t make grammatical sense\n",
    "  - e.g., “I am running” → “I am run”\n",
    "\n",
    "![](../figs/intro_nlp/tokenization/6.png)"
   ]
  },
  {
   "cell_type": "markdown",
   "id": "da67a3b5",
   "metadata": {},
   "source": [
    "## Bag-of-words representation\n",
    "\n",
    "Say we want to convert a corpus $D$ to a matrix $X$:\n",
    "\n",
    "- In the `“bag-of-words”` representation, a row of $X$ is just the frequency distribution over words in the document corresponding to that row.\n"
   ]
  },
  {
   "cell_type": "markdown",
   "id": "97281c38",
   "metadata": {},
   "source": [
    "### Counts and frequencies\n",
    "\n",
    "`Document counts`: number of documents where a token appears.\n",
    "\n",
    "`Term counts`: number of total appearances of a token in corpus.\n",
    "\n",
    "`Term frequency`:\n",
    "\n",
    "$$ \\text{Term Frequency of } w \\text{ in document } k = \\frac{\\text{Count of }w\\text{ in document }k}{\\text{Total tokens in document } k} $$\n"
   ]
  },
  {
   "cell_type": "markdown",
   "id": "f778579e",
   "metadata": {},
   "source": [
    "### Building a vocabulary\n",
    "\n",
    "An important featurization step is to build a vocabulary of words:\n",
    "\n",
    "- Compute document frequencies for all words\n",
    "- Inspect low-frequency words and determine a minimum document threshold.\n",
    "  - e.g., 10 documents, or .25% of documents.\n",
    "\n",
    "Can also impose more complex thresholds, e.g.:\n",
    "\n",
    "- appears twice in at least 20 documents\n",
    "- appears in at least 3 documents in at least 5 years\n",
    "\n",
    "Assign numerical identifiers to tokens to increase speed and reduce disk usage.\n"
   ]
  },
  {
   "cell_type": "markdown",
   "id": "8acdb3d6",
   "metadata": {},
   "source": [
    "### TF-IDF Weighting\n",
    "\n",
    "- TF/IDF: “Term-Frequency / Inverse-Document-Frequency.”\n",
    "- The formula for word $w$ in document $k$:\n",
    "\n",
    "$$\n",
    "\\text{TF-IDF of } w \\text{ in document } k = \\frac{\\text{Term Frequency of }w\\text{ in document }k}{\\text{Total tokens in document } k} \\times \\log \\frac{\\text{Total number of documents}}{\\text{Document count of }w}\n",
    "$$\n",
    "  \n",
    "- The formula up-weights relatively rare words that do not appear in all documents.\n",
    "  - These words are probably more distinctive of topics or differences between documents.\n",
    "\n",
    "```\n",
    "Example: A document contains 100 words, and the word appears 3 times in the document.\n",
    "The TF is .03. The corpus has 100 documents, and the word appears in 10 documents.\n",
    "the IDF is 0log(100/10) ≈ 2.3, so the TF-IDF for this document is .03×2.3 = .07.\n",
    "Say the word appears in 90 out of 100 documents:\n",
    "Then the IDF is 0.105, with TF-IDF for this document equal to .003.\n",
    "```\n"
   ]
  },
  {
   "cell_type": "markdown",
   "id": "6cdcd73c",
   "metadata": {},
   "source": [
    "### scikit-learn’s TfidfVectorizer\n",
    "\n",
    "- corpus is a sequence of strings, e.g. pandas data-frame columns.\n",
    "- I pre-processing options: strip accents, lowercase, drop stopwords,\n",
    "- n-grams: can produce phrases up to length n (words or characters).\n",
    "- vocab options: min/max frequency, vocab size\n",
    "- post-processing: binary, l2 norm, (smoothed) idf weighting, etc\n"
   ]
  },
  {
   "cell_type": "code",
   "execution_count": 1,
   "id": "8a148a57",
   "metadata": {},
   "outputs": [
    {
     "name": "stdout",
     "output_type": "stream",
     "text": [
      "(2257, 14303)\n"
     ]
    }
   ],
   "source": [
    "from sklearn.feature_extraction.text import TfidfVectorizer\n",
    "from sklearn.datasets import fetch_20newsgroups\n",
    "\n",
    "categories = [\"alt.atheism\", \"soc.religion.christian\", \"comp.graphics\", \"sci.med\"]\n",
    "\n",
    "twenty_train = fetch_20newsgroups(\n",
    "    subset=\"train\", categories=categories, shuffle=True, random_state=42\n",
    ")\n",
    "\n",
    "tfidf = TfidfVectorizer(\n",
    "    sublinear_tf=True,\n",
    "    min_df=5,\n",
    "    norm=\"l2\",\n",
    "    encoding=\"latin-1\",\n",
    "    ngram_range=(1, 2),\n",
    "    stop_words=\"english\",\n",
    ")\n",
    "\n",
    "features = tfidf.fit_transform(twenty_train.data).toarray()\n",
    "\n",
    "print(features.shape)\n",
    "# print(tfidf.get_feature_names())"
   ]
  },
  {
   "cell_type": "markdown",
   "id": "b470365c",
   "metadata": {},
   "source": [
    "### Other Transformations\n",
    "\n",
    "- Could add log counts, quadratics in counts, etc.\n",
    "- Could also add pairwise interactions bet ween word counts/frequencies.\n",
    "- These often are not done much because of the dimensionality problem.\n",
    "- Could use PCA to reduce dimensionality, but this is a lossy transformation.\n"
   ]
  },
  {
   "cell_type": "markdown",
   "id": "aa22f957",
   "metadata": {},
   "source": [
    "## What are N-grams?\n",
    "\n",
    "- N-grams are contiguous sequences of n tokens.\n",
    "  -  Bigrams: 2-grams\n",
    "  -  Trigrams: 3-grams\n",
    "  -  Quadgrams: 4-grams\n",
    "- Google Developers recommend tf-idf-weighted bigrams as a baseline for text classification.\n",
    "\n",
    "For example, the sentence “The quick brown fox jumps over the lazy dog” has the following bigrams:\n",
    "\n",
    "> [“The quick”, “quick brown”, “brown fox”, “fox jumps”, “jumps over”, “over the”, “the lazy”, “lazy dog”]\n",
    "\n",
    "for trigrams:\n",
    "\n",
    "> [“The quick brown”, “quick brown fox”, “brown fox jumps”, “fox jumps over”, “jumps over the”, “over the lazy”, “the lazy dog”]"
   ]
  },
  {
   "cell_type": "markdown",
   "id": "3410c3c7",
   "metadata": {},
   "source": [
    "**Text classification flowchart (from Google Developers):**\n",
    "\n",
    "![](../figs/intro_nlp/tokenization/10.png)"
   ]
  },
  {
   "cell_type": "markdown",
   "id": "d7455508",
   "metadata": {},
   "source": [
    "### N-grams and high dimensionality\n",
    "\n",
    "- N-grams will blow up your feature space:\n",
    "  - 1-grams: 1000 words → 1000 features\n",
    "  - 2-grams: 1000 words → 500,500 features\n",
    "- Filtering out low-frequency and uninformative n-grams is important.\n",
    "- Google Developers say that a feature space of 20,000 features will work well for descriptive and predictive text classification."
   ]
  },
  {
   "cell_type": "markdown",
   "id": "5ad13d6e",
   "metadata": {},
   "source": [
    "### Hashing Vectorizer\n",
    "\n",
    "Rather than make a one-to-one lookup for each n-gram, put n-grams through a hashing function that takes an arbitrary string and outputs an integer in some range (e.g. 1 to 10,000).\n",
    "\n",
    "- This is a lossy transformation, but it can be useful for very large feature spaces.\n",
    "- The hashing function is deterministic, so the same string will always map to the same integer.\n",
    "\n",
    "![](../figs/intro_nlp/tokenization/11.png)\n"
   ]
  },
  {
   "cell_type": "code",
   "execution_count": 2,
   "id": "270ed31c",
   "metadata": {},
   "outputs": [
    {
     "name": "stdout",
     "output_type": "stream",
     "text": [
      "(2257, 16)\n"
     ]
    }
   ],
   "source": [
    "from sklearn.feature_extraction.text import HashingVectorizer\n",
    "\n",
    "vectorizer = HashingVectorizer(\n",
    "    n_features=2**4, stop_words=\"english\", alternate_sign=False\n",
    ")\n",
    "\n",
    "X = vectorizer.transform(twenty_train.data)\n",
    "\n",
    "print(X.shape)\n"
   ]
  },
  {
   "cell_type": "markdown",
   "id": "9de0380c",
   "metadata": {},
   "source": [
    "### Collocations\n",
    "\n",
    "Collocations are phrases that occur together more often than would be expected by chance.\n",
    "\n",
    "- Non-compositional: the meaning is not the sum of the parts\n",
    "  > e.g., “New York” is not the sum of “New” and “York”\n",
    "- Non-substitutable: cannot substitute one component with synonyms\n",
    "  > e.g., “fast food” is not the same as “quick food”\n",
    "- Non-modifiable: cannot modify with additional words\n",
    "  > e.g., “kick around the bucket” is not the same as “kick the bucket around”"
   ]
  },
  {
   "cell_type": "markdown",
   "id": "22b6dbd5",
   "metadata": {},
   "source": [
    "### Pointwise Mutual Information\n",
    "\n",
    "- Pointwise Mutual Information (PMI) is a measure of how often two words co-occur in a corpus.\n",
    "- PMI is defined as:\n",
    "\n",
    "$$\n",
    "PMI(w_1,w_2) = \\frac{P(w_1\\_ w_2)}{P(w_1)P(w_2)} \\\\\n",
    "= \\frac{\\text{Prob. of collocation, actual}}{\\text{Prob. of collocation, if independent}}\n",
    "$$\n",
    "\n",
    "where $w_1$ and $w_2$ are words in the vocabulary, and $w_1$, $w_2$ is the N-gram $w_1\\_w_2$.\n",
    "ranks words by how often they collocate, relative to how often they occur apart.\n",
    "\n",
    "- Generalizes to longer phrases (length N) as the geometric mean of the probabilities:\n",
    "  \n",
    "$$ \\frac{P(w*1,\\ldots w_2 )}{\\prod*{i=1}^{n} \\sqrt[n]{P(w_i)}} $$\n",
    "\n",
    "- Caveat: Rare words will have high PMI, but this is not necessarily a good thing.\n",
    "  - Can use a threshold to filter out rare words."
   ]
  },
  {
   "cell_type": "markdown",
   "id": "fba73f02",
   "metadata": {},
   "source": [
    "### Part-of-Speech Tagging\n",
    "\n",
    "- Part-of-speech tagging (POS tagging) is the process of assigning a part-of-speech tag to each word in a sentence.\n",
    "- For N-games, we can use POS tags to filter out uninformative n-grams.\n",
    "- Noun phrases are often more informative than verb phrases.\n",
    "- POS N-gram frequencies are good sylistic features for authorship attribution."
   ]
  },
  {
   "cell_type": "markdown",
   "id": "b5d01e0b",
   "metadata": {},
   "source": [
    "### Out-of-Vocabulary Words (OOV) for N-grams\n",
    "\n",
    "- OOV words are words that are not in the vocabulary.\n",
    "- OOV words are a problem for N-gram models.\n",
    "  - Can be replaced with a special token, e.g. “<UNK>”.\n",
    "  - Can be replaced with the POS tag, e.g. “<NOUN>”.\n",
    "  - Can be replaced with the hypernym, e.g. “<ANIMAL>”.\n",
    "  - Can use a hash function to map OOV words to a fixed number of buckets."
   ]
  },
  {
   "cell_type": "markdown",
   "id": "bbfb95b9",
   "metadata": {},
   "source": []
  }
 ],
 "metadata": {
  "kernelspec": {
   "display_name": "Python 3.8.5 ('base')",
   "language": "python",
   "name": "python3"
  },
  "language_info": {
   "codemirror_mode": {
    "name": "ipython",
    "version": 3
   },
   "file_extension": ".py",
   "mimetype": "text/x-python",
   "name": "python",
   "nbconvert_exporter": "python",
   "pygments_lexer": "ipython3",
   "version": "3.8.12"
  },
  "vscode": {
   "interpreter": {
    "hash": "d4d1e4263499bec80672ea0156c357c1ee493ec2b1c70f0acce89fc37c4a6abe"
   }
  }
 },
 "nbformat": 4,
 "nbformat_minor": 5
}
