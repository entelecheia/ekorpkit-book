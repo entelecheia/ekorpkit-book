{
 "cells": [
  {
   "cell_type": "markdown",
   "id": "76b40700",
   "metadata": {
    "slideshow": {
     "slide_type": "slide"
    },
    "tags": []
   },
   "source": [
    "# Introduction to NLP"
   ]
  },
  {
   "cell_type": "markdown",
   "id": "e9c99162",
   "metadata": {
    "slideshow": {
     "slide_type": "slide"
    },
    "tags": []
   },
   "source": [
    "## 📜 Course Description\n",
    "\n",
    "- This course covers the basics of natural language processing, including text pre-processing, part-of-speech tagging, parsing, and semantic analysis. \n",
    "- The course will also cover advanced topics such as word embeddings. Upon completion of this course, students will be able to apply these techniques to real-world data sets.\n"
   ]
  },
  {
   "cell_type": "markdown",
   "id": "ee7884ff",
   "metadata": {
    "slideshow": {
     "slide_type": "slide"
    },
    "tags": []
   },
   "source": [
    "## ♾️ Learning Goals\n",
    "\n",
    "1. Be able to describe key concepts, models and challenges in Natural Language Processing\n",
    "2. Be able to describe, implement, and apply a variety of fundamental algorithms in Natural Language Processing\n",
    "3. Be able to describe and evaluate more complex software systems for various Natural Language Processing tasks\n",
    "4. Be able to describe current approaches, datasets and systems for various Natural Language Processing tasks\n"
   ]
  },
  {
   "cell_type": "markdown",
   "id": "3ac47c37",
   "metadata": {
    "slideshow": {
     "slide_type": "slide"
    },
    "tags": []
   },
   "source": [
    "## 📚 Textbook\n",
    "\n",
    "- Jurafsky, D., & Martin, J. H. (2019). Speech and language processing: An introduction to natural language processing, computational linguistics, and speech recognition (3rd ed.). Upper Saddle River, NJ: Pearson Education.\n",
    "- [https://web.stanford.edu/~jurafsky/slp3/](https://web.stanford.edu/~jurafsky/slp3/)\n",
    "\n",
    "\n",
    "### Reference Books\n",
    "\n",
    "- Eckert, P., & Strunk Jr., W. (2000). Elements of style (4th ed.). New York: Allyn and Bacon.\n",
    "- Gelbukh, A. (Ed.). (2018). Computational linguistics and intelligent text processing: 18th international conference, CICLing 2017, New Delhi, India, February 19-25, 2017, revised selected papers (Vol. 10573). Cham: Springer International Publishing.\n",
    "- Mitchell, T. M. (1997). Machine learning (1st ed.). New York: McGraw-Hill Science/Engineering/Math.\n",
    "- NLTK Book - Bird et al.: [Natural Language Processing with Python](https://www.nltk.org/book/)\n"
   ]
  },
  {
   "cell_type": "markdown",
   "id": "c0bd2f00",
   "metadata": {
    "slideshow": {
     "slide_type": "slide"
    },
    "tags": []
   },
   "source": [
    "## 🏆 Grading\n",
    "\n",
    "- Participation: **10%**\n",
    "- Midterm: **30%**\n",
    "- Term Project: **60%**\n"
   ]
  },
  {
   "cell_type": "markdown",
   "id": "156df085",
   "metadata": {
    "slideshow": {
     "slide_type": "slide"
    },
    "tags": []
   },
   "source": [
    "## 🧠 Term Project\n",
    "\n",
    "- For the term project, students will choose a real-world data set and build a natural language processing system that can perform some task on the data set. \n",
    "- The project will be presented in the form of a poster at the end of the semester.\n"
   ]
  },
  {
   "cell_type": "markdown",
   "id": "ddf1c678",
   "metadata": {
    "slideshow": {
     "slide_type": "slide"
    },
    "tags": []
   },
   "source": [
    "## 📒 Lecture Notes\n",
    "\n",
    "You can find the lecture notes of the course by clicking on the following link:\n",
    "\n",
    "https://entelecheia.github.io/ekorpkit-book/docs/lectures/intro_nlp"
   ]
  },
  {
   "cell_type": "markdown",
   "id": "31422e23",
   "metadata": {
    "slideshow": {
     "slide_type": "slide"
    },
    "tags": []
   },
   "source": [
    "## 🎲 The Whole Game\n",
    "\n",
    "- Harvard Professor David Perkins's book, [Making Learning Whole](https://www.amazon.com/Making-Learning-Whole-Principles-Transform/dp/0470633719), popularized the idea of \"teaching the whole game.\" \n",
    "- We don't require kids to memorize all the rules of baseball and understand all the technical details before we let them play the game. \n",
    "- Rather, they start playing with a just general sense of it, and then gradually learn more rules/details as time goes on.\n",
    "- This course takes this approach to deep learning.\n",
    "- Most courses on deep learning focus only on what the network “is” and how it works. \n",
    "- This course is different: instead of teaching just the network, we show how to use it to solve problems. \n",
    "- We start by teaching a complete, working, very usable deep learning network using simple, expressive tools. Then we show how to use it to solve real-world problems.\n",
    "- This approach has several advantages:\n",
    "  - It makes deep learning more accessible and understandable. Students can see how deep learning can be used in practice, and they can immediately start using it to solve their own problems.\n",
    "  - It helps students learn the whole game of machine learning, not just deep learning. In addition to showing how to use a state-of-the-art deep learning network, we also teach important concepts such as data preprocessing, model evaluation, and deployment.\n",
    "  - It gives students a strong foundation for further study. Because the course covers both the theory and practice of deep learning, students will be well prepared for more advanced courses on the subject."
   ]
  },
  {
   "cell_type": "markdown",
   "id": "d7e29cd2",
   "metadata": {
    "slideshow": {
     "slide_type": "slide"
    },
    "tags": []
   },
   "source": [
    "## 🗓️ Table of Contents\n",
    "\n",
    "```{tableofcontents}\n",
    "\n",
    "```\n"
   ]
  }
 ],
 "metadata": {
  "kernelspec": {
   "display_name": "Python 3 (ipykernel)",
   "language": "python",
   "name": "python3"
  },
  "language_info": {
   "codemirror_mode": {
    "name": "ipython",
    "version": 3
   },
   "file_extension": ".py",
   "mimetype": "text/x-python",
   "name": "python",
   "nbconvert_exporter": "python",
   "pygments_lexer": "ipython3",
   "version": "3.8.5"
  },
  "vscode": {
   "interpreter": {
    "hash": "d4d1e4263499bec80672ea0156c357c1ee493ec2b1c70f0acce89fc37c4a6abe"
   }
  },
  "widgets": {
   "application/vnd.jupyter.widget-state+json": {
    "state": {},
    "version_major": 2,
    "version_minor": 0
   }
  }
 },
 "nbformat": 4,
 "nbformat_minor": 5
}
