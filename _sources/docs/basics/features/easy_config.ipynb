{
 "cells": [
  {
   "cell_type": "markdown",
   "id": "c04c1631",
   "metadata": {},
   "source": [
    "# Easy Configuration\n",
    "\n",
    "- You can compose your configuration dynamically, enabling you to easily get the perfect configuration for each research. \n",
    "- You can override everything from the command line, which makes experimentation fast, and removes the need to maintain multiple similar configuration files. \n",
    "- With a help of the **eKonf** class, it is also easy to compose configurations in a jupyter notebook environment."
   ]
  }
 ],
 "metadata": {
  "jupytext": {
   "formats": "md:myst",
   "text_representation": {
    "extension": ".md",
    "format_name": "myst"
   }
  },
  "kernelspec": {
   "display_name": "Python 3",
   "language": "python",
   "name": "python3"
  },
  "language_info": {
   "codemirror_mode": {
    "name": "ipython",
    "version": 3
   },
   "file_extension": ".py",
   "mimetype": "text/x-python",
   "name": "python",
   "nbconvert_exporter": "python",
   "pygments_lexer": "ipython3",
   "version": "3.8.12"
  },
  "source_map": [
   11
  ]
 },
 "nbformat": 4,
 "nbformat_minor": 5
}