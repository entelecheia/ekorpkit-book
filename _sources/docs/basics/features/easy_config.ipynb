{
 "cells": [
  {
   "cell_type": "markdown",
   "id": "f885ce89",
   "metadata": {},
   "source": [
    "# Easy Configuration\n",
    "\n",
    "- You can compose your configuration dynamically, enabling you to easily get the perfect configuration for each research. \n",
    "- You can override everything from the command line, which makes experimentation fast, and removes the need to maintain multiple similar configuration files. \n",
    "- With a help of the **eKonf** class, it is also easy to compose configurations in a jupyter notebook environment."
   ]
  }
 ],
 "metadata": {
  "jupytext": {
   "formats": "md:myst",
   "text_representation": {
    "extension": ".md",
    "format_name": "myst"
   }
  },
  "kernelspec": {
   "display_name": "Python 3",
   "language": "python",
   "name": "python3"
  },
  "source_map": [
   11
  ]
 },
 "nbformat": 4,
 "nbformat_minor": 5
}