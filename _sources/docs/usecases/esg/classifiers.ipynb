{
 "cells": [
  {
   "cell_type": "markdown",
   "metadata": {
    "id": "AESO0odcxhzs"
   },
   "source": [
    "# Training Classifiers for ESG Ratings"
   ]
  },
  {
   "cell_type": "code",
   "execution_count": 1,
   "metadata": {
    "id": "EJ0AoNl-xif_"
   },
   "outputs": [
    {
     "name": "stdout",
     "output_type": "stream",
     "text": [
      "0.1.31+3.g3e40284.dirty\n"
     ]
    }
   ],
   "source": [
    "%config InlineBackend.figure_format='retina'\n",
    "import logging\n",
    "from ekorpkit import eKonf\n",
    "\n",
    "logging.basicConfig(level=logging.INFO)\n",
    "\n",
    "print(eKonf.__version__)"
   ]
  },
  {
   "cell_type": "markdown",
   "metadata": {
    "id": "pzjBtQqpnqcy"
   },
   "source": [
    "## Preparing `finsent_kr` dataset"
   ]
  },
  {
   "cell_type": "code",
   "execution_count": 2,
   "metadata": {
    "colab": {
     "base_uri": "https://localhost:8080/",
     "height": 659
    },
    "id": "RdpBCIbBny8z",
    "outputId": "f655ea5b-5afb-43a1-cfec-7df3e6d32d92"
   },
   "outputs": [
    {
     "name": "stderr",
     "output_type": "stream",
     "text": [
      "INFO:ekorpkit.datasets.loader:processing analystsent_kr\n",
      "INFO:ekorpkit.io.file:Loading data from /workspace/data/datasets/simple/analystsent_kr/analystsent_kr-train.csv\n",
      "INFO:ekorpkit.info.column:Added a column [split] with value [train]\n",
      "INFO:ekorpkit.io.file:Loading data from /workspace/data/datasets/simple/analystsent_kr/analystsent_kr-test.csv\n",
      "INFO:ekorpkit.info.column:Added a column [split] with value [test]\n",
      "INFO:ekorpkit.io.file:Loading data from /workspace/data/datasets/simple/analystsent_kr/analystsent_kr-dev.csv\n",
      "INFO:ekorpkit.info.column:Added a column [split] with value [dev]\n",
      "INFO:ekorpkit.datasets.loader:processing finphrase_kr\n",
      "INFO:ekorpkit.io.file:Loading data from /workspace/data/datasets/simple/finphrase_kr/finphrase_kr-train.csv\n",
      "INFO:ekorpkit.info.column:Added a column [split] with value [train]\n",
      "INFO:ekorpkit.io.file:Loading data from /workspace/data/datasets/simple/finphrase_kr/finphrase_kr-test.csv\n",
      "INFO:ekorpkit.info.column:Added a column [split] with value [test]\n",
      "INFO:ekorpkit.io.file:Loading data from /workspace/data/datasets/simple/finphrase_kr/finphrase_kr-dev.csv\n",
      "INFO:ekorpkit.info.column:Added a column [split] with value [dev]\n",
      "INFO:ekorpkit.datasets.loader:>>> Elapsed time: 0:00:00.150992 <<< \n",
      "INFO:ekorpkit.ekonf:Calling load\n",
      "INFO:ekorpkit.ekonf:Calling concatenate\n",
      "INFO:ekorpkit.info.column:Added a column [dataset] with value [analystsent_kr]\n",
      "INFO:ekorpkit.info.column:Added a column [dataset] with value [finphrase_kr]\n",
      "INFO:ekorpkit.info.column:Added a column [dataset] with value [analystsent_kr]\n",
      "INFO:ekorpkit.info.column:Added a column [dataset] with value [finphrase_kr]\n",
      "INFO:ekorpkit.info.column:Added a column [dataset] with value [analystsent_kr]\n",
      "INFO:ekorpkit.info.column:Added a column [dataset] with value [finphrase_kr]\n"
     ]
    }
   ],
   "source": [
    "from ekorpkit import eKonf\n",
    "\n",
    "ds_cfg = eKonf.compose(config_group='dataset=simple_auto')\n",
    "ds_cfg.name = 'finsent_kr'\n",
    "ds_cfg.datasets = ['analystsent_kr', 'finphrase_kr']\n",
    "ds_cfg.data_dir = '/workspace/data/datasets/simple'\n",
    "ds = eKonf.instantiate(ds_cfg)"
   ]
  },
  {
   "cell_type": "code",
   "execution_count": 3,
   "metadata": {},
   "outputs": [
    {
     "data": {
      "text/plain": [
       "{'keys': {'id': 'id',\n",
       "  'text': 'text',\n",
       "  'timestamp': 'timestamp',\n",
       "  'split': 'split'},\n",
       " 'columns': {'id': 'id',\n",
       "  'text': 'text',\n",
       "  'merge_meta_on': None,\n",
       "  'timestamp': None},\n",
       " 'data': {'labels': 'object',\n",
       "  'id': 'int64',\n",
       "  'text': 'object',\n",
       "  'split': 'object',\n",
       "  'dataset': 'str'},\n",
       " 'meta': None,\n",
       " 'timestamp': {'key': None, 'format': None, '_parms_': None},\n",
       " 'datetime': {'key': None, 'format': None, '_parms_': None},\n",
       " 'segment_separator': '\\\\n\\\\n',\n",
       " 'sentence_separator': '\\\\n'}"
      ]
     },
     "execution_count": 3,
     "metadata": {},
     "output_type": "execute_result"
    }
   ],
   "source": [
    "ds.COLUMN.INFO"
   ]
  },
  {
   "cell_type": "markdown",
   "metadata": {
    "id": "3uhF3cDynUuj",
    "outputId": "a50d12e1-9ab3-4496-af54-cae58051f1ed"
   },
   "source": [
    "## Training a polarity classficiation model with `finsent_kr` dataset"
   ]
  },
  {
   "cell_type": "code",
   "execution_count": 5,
   "metadata": {
    "id": "i9__LTKOnUuj"
   },
   "outputs": [
    {
     "name": "stderr",
     "output_type": "stream",
     "text": [
      "INFO:ekorpkit.ekonf:Calling train\n",
      "INFO:ekorpkit.datasets.loader:processing analystsent_kr\n",
      "INFO:ekorpkit.io.file:Loading data from /workspace/data/datasets/simple/analystsent_kr/analystsent_kr-train.csv\n",
      "INFO:ekorpkit.info.base:Added split column [split] with value [train]\n",
      "INFO:ekorpkit.io.file:Loading data from /workspace/data/datasets/simple/analystsent_kr/analystsent_kr-test.csv\n",
      "INFO:ekorpkit.info.base:Added split column [split] with value [test]\n",
      "INFO:ekorpkit.io.file:Loading data from /workspace/data/datasets/simple/analystsent_kr/analystsent_kr-dev.csv\n",
      "INFO:ekorpkit.info.base:Added split column [split] with value [dev]\n",
      "INFO:ekorpkit.datasets.loader:processing finphrase_kr\n",
      "INFO:ekorpkit.io.file:Loading data from /workspace/data/datasets/simple/finphrase_kr/finphrase_kr-train.csv\n",
      "INFO:ekorpkit.info.base:Added split column [split] with value [train]\n",
      "INFO:ekorpkit.io.file:Loading data from /workspace/data/datasets/simple/finphrase_kr/finphrase_kr-test.csv\n",
      "INFO:ekorpkit.info.base:Added split column [split] with value [test]\n",
      "INFO:ekorpkit.io.file:Loading data from /workspace/data/datasets/simple/finphrase_kr/finphrase_kr-dev.csv\n",
      "INFO:ekorpkit.info.base:Added split column [split] with value [dev]\n",
      "INFO:ekorpkit.datasets.loader:>>> Elapsed time: 0:00:00.134469 <<< \n",
      "INFO:ekorpkit.ekonf:Calling load\n",
      "INFO:ekorpkit.ekonf:Calling concatenate\n",
      "INFO:ekorpkit.info.base:Added dataset column [dataset] with value [analystsent_kr]\n",
      "INFO:ekorpkit.info.base:Added dataset column [dataset] with value [finphrase_kr]\n",
      "INFO:ekorpkit.info.base:Added dataset column [dataset] with value [analystsent_kr]\n",
      "INFO:ekorpkit.info.base:Added dataset column [dataset] with value [finphrase_kr]\n",
      "INFO:ekorpkit.info.base:Added dataset column [dataset] with value [analystsent_kr]\n",
      "INFO:ekorpkit.info.base:Added dataset column [dataset] with value [finphrase_kr]\n",
      "Some weights of the model checkpoint at entelecheia/ekonelectra-base-discriminator were not used when initializing ElectraForSequenceClassification: ['discriminator_predictions.dense_prediction.weight', 'discriminator_predictions.dense.bias', 'discriminator_predictions.dense.weight', 'discriminator_predictions.dense_prediction.bias']\n",
      "- This IS expected if you are initializing ElectraForSequenceClassification from the checkpoint of a model trained on another task or with another architecture (e.g. initializing a BertForSequenceClassification model from a BertForPreTraining model).\n",
      "- This IS NOT expected if you are initializing ElectraForSequenceClassification from the checkpoint of a model that you expect to be exactly identical (initializing a BertForSequenceClassification model from a BertForSequenceClassification model).\n",
      "Some weights of ElectraForSequenceClassification were not initialized from the model checkpoint at entelecheia/ekonelectra-base-discriminator and are newly initialized: ['classifier.out_proj.bias', 'classifier.out_proj.weight', 'classifier.dense.weight', 'classifier.dense.bias']\n",
      "You should probably TRAIN this model on a down-stream task to be able to use it for predictions and inference.\n",
      "INFO:simpletransformers.classification.classification_model: Converting to features started. Cache is not used.\n",
      "INFO:simpletransformers.classification.classification_model: Sliding window enabled\n"
     ]
    },
    {
     "data": {
      "application/vnd.jupyter.widget-view+json": {
       "model_id": "efc9a1db414a42a1ac2b291e70f95707",
       "version_major": 2,
       "version_minor": 0
      },
      "text/plain": [
       "  0%|          | 0/11372 [00:00<?, ?it/s]"
      ]
     },
     "metadata": {},
     "output_type": "display_data"
    },
    {
     "name": "stderr",
     "output_type": "stream",
     "text": [
      "INFO:simpletransformers.classification.classification_model: 11372 features created from 11372 samples.\n"
     ]
    },
    {
     "data": {
      "application/vnd.jupyter.widget-view+json": {
       "model_id": "e17a32d29e8f410285473510b8857623",
       "version_major": 2,
       "version_minor": 0
      },
      "text/plain": [
       "Epoch:   0%|          | 0/2 [00:00<?, ?it/s]"
      ]
     },
     "metadata": {},
     "output_type": "display_data"
    },
    {
     "name": "stderr",
     "output_type": "stream",
     "text": [
      "INFO:simpletransformers.classification.classification_model: Initializing WandB run for training.\n"
     ]
    },
    {
     "data": {
      "text/html": [
       "Finishing last run (ID:3mx5pge6) before initializing another..."
      ],
      "text/plain": [
       "<IPython.core.display.HTML object>"
      ]
     },
     "metadata": {},
     "output_type": "display_data"
    },
    {
     "data": {
      "text/html": [
       "Waiting for W&B process to finish... <strong style=\"color:green\">(success).</strong>"
      ],
      "text/plain": [
       "<IPython.core.display.HTML object>"
      ]
     },
     "metadata": {},
     "output_type": "display_data"
    },
    {
     "data": {
      "application/vnd.jupyter.widget-view+json": {
       "model_id": "",
       "version_major": 2,
       "version_minor": 0
      },
      "text/plain": [
       "VBox(children=(Label(value='0.002 MB of 0.002 MB uploaded (0.000 MB deduped)\\r'), FloatProgress(value=1.0, max…"
      ]
     },
     "metadata": {},
     "output_type": "display_data"
    },
    {
     "data": {
      "text/html": [
       "Synced <strong style=\"color:#cdcd00\">super-sound-2</strong>: <a href=\"https://wandb.ai/entelecheia/esgml-esg_plarity/runs/3mx5pge6\" target=\"_blank\">https://wandb.ai/entelecheia/esgml-esg_plarity/runs/3mx5pge6</a><br/>Synced 5 W&B file(s), 1 media file(s), 1 artifact file(s) and 0 other file(s)"
      ],
      "text/plain": [
       "<IPython.core.display.HTML object>"
      ]
     },
     "metadata": {},
     "output_type": "display_data"
    },
    {
     "data": {
      "text/html": [
       "Find logs at: <code>/workspace/projects/esgml/outputs/esgml-esg_plarity/ekonelectra-base/wandb/run-20220528_060612-3mx5pge6/logs</code>"
      ],
      "text/plain": [
       "<IPython.core.display.HTML object>"
      ]
     },
     "metadata": {},
     "output_type": "display_data"
    },
    {
     "data": {
      "text/html": [
       "Successfully finished last run (ID:3mx5pge6). Initializing new run:<br/>"
      ],
      "text/plain": [
       "<IPython.core.display.HTML object>"
      ]
     },
     "metadata": {},
     "output_type": "display_data"
    },
    {
     "data": {
      "text/html": [
       "wandb version 0.12.17 is available!  To upgrade, please run:\n",
       " $ pip install wandb --upgrade"
      ],
      "text/plain": [
       "<IPython.core.display.HTML object>"
      ]
     },
     "metadata": {},
     "output_type": "display_data"
    },
    {
     "data": {
      "text/html": [
       "Tracking run with wandb version 0.12.16"
      ],
      "text/plain": [
       "<IPython.core.display.HTML object>"
      ]
     },
     "metadata": {},
     "output_type": "display_data"
    },
    {
     "data": {
      "text/html": [
       "Run data is saved locally in <code>/workspace/projects/esgml/outputs/esgml-esg_polarity/ekonelectra-base/wandb/run-20220528_060646-23ygz0br</code>"
      ],
      "text/plain": [
       "<IPython.core.display.HTML object>"
      ]
     },
     "metadata": {},
     "output_type": "display_data"
    },
    {
     "data": {
      "text/html": [
       "Syncing run <strong><a href=\"https://wandb.ai/entelecheia/esgml-esg_polarity/runs/23ygz0br\" target=\"_blank\">crimson-feather-1</a></strong> to <a href=\"https://wandb.ai/entelecheia/esgml-esg_polarity\" target=\"_blank\">Weights & Biases</a> (<a href=\"https://wandb.me/run\" target=\"_blank\">docs</a>)<br/>"
      ],
      "text/plain": [
       "<IPython.core.display.HTML object>"
      ]
     },
     "metadata": {},
     "output_type": "display_data"
    },
    {
     "data": {
      "application/vnd.jupyter.widget-view+json": {
       "model_id": "0d657bfbe2ef4fb5b6fabaabc4f789d6",
       "version_major": 2,
       "version_minor": 0
      },
      "text/plain": [
       "Running Epoch 0 of 2:   0%|          | 0/356 [00:00<?, ?it/s]"
      ]
     },
     "metadata": {},
     "output_type": "display_data"
    },
    {
     "name": "stderr",
     "output_type": "stream",
     "text": [
      "INFO:simpletransformers.classification.classification_model: Converting to features started. Cache is not used.\n",
      "INFO:simpletransformers.classification.classification_model: Sliding window enabled\n",
      "INFO:simpletransformers.classification.classification_model: 2844 features created from 2844 samples.\n",
      "INFO:simpletransformers.classification.classification_model:{'mcc': 0.65882829309258, 'acc': 0.8407172995780591, 'eval_loss': 0.3738481896312049}\n"
     ]
    },
    {
     "data": {
      "application/vnd.jupyter.widget-view+json": {
       "model_id": "601c26200cce418392566b07eab026a1",
       "version_major": 2,
       "version_minor": 0
      },
      "text/plain": [
       "Running Epoch 1 of 2:   0%|          | 0/356 [00:00<?, ?it/s]"
      ]
     },
     "metadata": {},
     "output_type": "display_data"
    },
    {
     "name": "stderr",
     "output_type": "stream",
     "text": [
      "INFO:simpletransformers.classification.classification_model: Converting to features started. Cache is not used.\n",
      "INFO:simpletransformers.classification.classification_model: Sliding window enabled\n",
      "INFO:simpletransformers.classification.classification_model: 2844 features created from 2844 samples.\n",
      "INFO:simpletransformers.classification.classification_model:{'mcc': 0.6730669413393736, 'acc': 0.8484528832630098, 'eval_loss': 0.37974044555023817}\n",
      "INFO:simpletransformers.classification.classification_model: Training of electra model complete. Saved to /workspace/projects/esgml/outputs/esgml-esg_polarity/ekonelectra-base.\n",
      "INFO:simpletransformers.classification.classification_model: Converting to features started. Cache is not used.\n",
      "INFO:simpletransformers.classification.classification_model: Sliding window enabled\n"
     ]
    },
    {
     "data": {
      "application/vnd.jupyter.widget-view+json": {
       "model_id": "4e21f32dfe0e42eba0aaa8d1b5cf08dd",
       "version_major": 2,
       "version_minor": 0
      },
      "text/plain": [
       "  0%|          | 0/3555 [00:00<?, ?it/s]"
      ]
     },
     "metadata": {},
     "output_type": "display_data"
    },
    {
     "name": "stderr",
     "output_type": "stream",
     "text": [
      "INFO:simpletransformers.classification.classification_model: 3555 features created from 3555 samples.\n"
     ]
    },
    {
     "data": {
      "application/vnd.jupyter.widget-view+json": {
       "model_id": "e1e2353d27ee450e8f0f9bb741acc442",
       "version_major": 2,
       "version_minor": 0
      },
      "text/plain": [
       "Running Evaluation:   0%|          | 0/112 [00:00<?, ?it/s]"
      ]
     },
     "metadata": {},
     "output_type": "display_data"
    },
    {
     "name": "stderr",
     "output_type": "stream",
     "text": [
      "INFO:simpletransformers.classification.classification_model: Initializing WandB run for evaluation.\n"
     ]
    },
    {
     "data": {
      "text/html": [
       "Finishing last run (ID:23ygz0br) before initializing another..."
      ],
      "text/plain": [
       "<IPython.core.display.HTML object>"
      ]
     },
     "metadata": {},
     "output_type": "display_data"
    },
    {
     "data": {
      "text/html": [
       "Waiting for W&B process to finish... <strong style=\"color:green\">(success).</strong>"
      ],
      "text/plain": [
       "<IPython.core.display.HTML object>"
      ]
     },
     "metadata": {},
     "output_type": "display_data"
    },
    {
     "data": {
      "application/vnd.jupyter.widget-view+json": {
       "model_id": "",
       "version_major": 2,
       "version_minor": 0
      },
      "text/plain": [
       "VBox(children=(Label(value='0.001 MB of 0.001 MB uploaded (0.000 MB deduped)\\r'), FloatProgress(value=1.0, max…"
      ]
     },
     "metadata": {},
     "output_type": "display_data"
    },
    {
     "data": {
      "text/html": [
       "<style>\n",
       "    table.wandb td:nth-child(1) { padding: 0 10px; text-align: left ; width: auto;} td:nth-child(2) {text-align: left ; width: 100%}\n",
       "    .wandb-row { display: flex; flex-direction: row; flex-wrap: wrap; justify-content: flex-start; width: 100% }\n",
       "    .wandb-col { display: flex; flex-direction: column; flex-basis: 100%; flex: 1; padding: 10px; }\n",
       "    </style>\n",
       "<div class=\"wandb-row\"><div class=\"wandb-col\"><h3>Run history:</h3><br/><table class=\"wandb\"><tr><td>Training loss</td><td>▆█▄▄▄▃▄▃▂▃▁▄▃▃</td></tr><tr><td>acc</td><td>▁█</td></tr><tr><td>eval_loss</td><td>▁█</td></tr><tr><td>global_step</td><td>▁▂▂▃▃▄▄▄▅▅▆▆▇▇██</td></tr><tr><td>lr</td><td>█▇▇▆▆▅▅▄▄▃▃▂▂▁</td></tr><tr><td>mcc</td><td>▁█</td></tr><tr><td>train_loss</td><td>█▁</td></tr></table><br/></div><div class=\"wandb-col\"><h3>Run summary:</h3><br/><table class=\"wandb\"><tr><td>Training loss</td><td>0.34802</td></tr><tr><td>acc</td><td>0.84845</td></tr><tr><td>eval_loss</td><td>0.37974</td></tr><tr><td>global_step</td><td>712</td></tr><tr><td>lr</td><td>0.0</td></tr><tr><td>mcc</td><td>0.67307</td></tr><tr><td>train_loss</td><td>0.2471</td></tr></table><br/></div></div>"
      ],
      "text/plain": [
       "<IPython.core.display.HTML object>"
      ]
     },
     "metadata": {},
     "output_type": "display_data"
    },
    {
     "data": {
      "text/html": [
       "Synced <strong style=\"color:#cdcd00\">crimson-feather-1</strong>: <a href=\"https://wandb.ai/entelecheia/esgml-esg_polarity/runs/23ygz0br\" target=\"_blank\">https://wandb.ai/entelecheia/esgml-esg_polarity/runs/23ygz0br</a><br/>Synced 5 W&B file(s), 0 media file(s), 0 artifact file(s) and 0 other file(s)"
      ],
      "text/plain": [
       "<IPython.core.display.HTML object>"
      ]
     },
     "metadata": {},
     "output_type": "display_data"
    },
    {
     "data": {
      "text/html": [
       "Find logs at: <code>/workspace/projects/esgml/outputs/esgml-esg_polarity/ekonelectra-base/wandb/run-20220528_060646-23ygz0br/logs</code>"
      ],
      "text/plain": [
       "<IPython.core.display.HTML object>"
      ]
     },
     "metadata": {},
     "output_type": "display_data"
    },
    {
     "data": {
      "text/html": [
       "Successfully finished last run (ID:23ygz0br). Initializing new run:<br/>"
      ],
      "text/plain": [
       "<IPython.core.display.HTML object>"
      ]
     },
     "metadata": {},
     "output_type": "display_data"
    },
    {
     "data": {
      "text/html": [
       "wandb version 0.12.17 is available!  To upgrade, please run:\n",
       " $ pip install wandb --upgrade"
      ],
      "text/plain": [
       "<IPython.core.display.HTML object>"
      ]
     },
     "metadata": {},
     "output_type": "display_data"
    },
    {
     "data": {
      "text/html": [
       "Tracking run with wandb version 0.12.16"
      ],
      "text/plain": [
       "<IPython.core.display.HTML object>"
      ]
     },
     "metadata": {},
     "output_type": "display_data"
    },
    {
     "data": {
      "text/html": [
       "Run data is saved locally in <code>/workspace/projects/esgml/outputs/esgml-esg_polarity/ekonelectra-base/wandb/run-20220528_060841-33g4puva</code>"
      ],
      "text/plain": [
       "<IPython.core.display.HTML object>"
      ]
     },
     "metadata": {},
     "output_type": "display_data"
    },
    {
     "data": {
      "text/html": [
       "Syncing run <strong><a href=\"https://wandb.ai/entelecheia/esgml-esg_polarity/runs/33g4puva\" target=\"_blank\">playful-yogurt-2</a></strong> to <a href=\"https://wandb.ai/entelecheia/esgml-esg_polarity\" target=\"_blank\">Weights & Biases</a> (<a href=\"https://wandb.me/run\" target=\"_blank\">docs</a>)<br/>"
      ],
      "text/plain": [
       "<IPython.core.display.HTML object>"
      ]
     },
     "metadata": {},
     "output_type": "display_data"
    },
    {
     "name": "stderr",
     "output_type": "stream",
     "text": [
      "INFO:simpletransformers.classification.classification_model:{'mcc': 0.6552988163412943, 'acc': 0.8388185654008439, 'eval_loss': 0.3973076745335545}\n"
     ]
    },
    {
     "data": {
      "text/plain": [
       "<ekorpkit.models.transformer.simple.SimpleClassification at 0x7faab979c610>"
      ]
     },
     "execution_count": 5,
     "metadata": {},
     "output_type": "execute_result"
    }
   ],
   "source": [
    "overrides=[\n",
    "    '+model/transformer=simple_classification',\n",
    "    '+model/transformer/pretrained=ekonelectra-base',\n",
    "]\n",
    "model_cfg = eKonf.compose(overrides=overrides, config_group='model/transformer=simple_classification')\n",
    "model_cfg.name = \"esg_polarity\"\n",
    "model_cfg.dataset = ds_cfg\n",
    "model_cfg.verbose = False\n",
    "model_cfg.config.num_train_epochs = 2\n",
    "model_cfg.config.max_seq_length = 256\n",
    "model_cfg.config.train_batch_size = 32\n",
    "model_cfg.config.eval_batch_size = 32\n",
    "model_cfg.labels = ['positive','neutral','negative']\n",
    "model_cfg._method_ = ['train']\n",
    "eKonf.instantiate(model_cfg)"
   ]
  },
  {
   "cell_type": "code",
   "execution_count": 4,
   "metadata": {},
   "outputs": [
    {
     "name": "stderr",
     "output_type": "stream",
     "text": [
      "INFO:ekorpkit.ekonf:Calling eval\n",
      "INFO:ekorpkit.datasets.loader:processing analystsent_kr\n",
      "INFO:ekorpkit.io.file:Loading data from /workspace/data/datasets/simple/analystsent_kr/analystsent_kr-train.csv\n",
      "INFO:ekorpkit.info.base:Added split column [split] with value [train]\n",
      "INFO:ekorpkit.io.file:Loading data from /workspace/data/datasets/simple/analystsent_kr/analystsent_kr-test.csv\n",
      "INFO:ekorpkit.info.base:Added split column [split] with value [test]\n",
      "INFO:ekorpkit.io.file:Loading data from /workspace/data/datasets/simple/analystsent_kr/analystsent_kr-dev.csv\n",
      "INFO:ekorpkit.info.base:Added split column [split] with value [dev]\n",
      "INFO:ekorpkit.datasets.loader:processing finphrase_kr\n",
      "INFO:ekorpkit.io.file:Loading data from /workspace/data/datasets/simple/finphrase_kr/finphrase_kr-train.csv\n",
      "INFO:ekorpkit.info.base:Added split column [split] with value [train]\n",
      "INFO:ekorpkit.io.file:Loading data from /workspace/data/datasets/simple/finphrase_kr/finphrase_kr-test.csv\n",
      "INFO:ekorpkit.info.base:Added split column [split] with value [test]\n",
      "INFO:ekorpkit.io.file:Loading data from /workspace/data/datasets/simple/finphrase_kr/finphrase_kr-dev.csv\n",
      "INFO:ekorpkit.info.base:Added split column [split] with value [dev]\n",
      "INFO:ekorpkit.datasets.loader:>>> Elapsed time: 0:00:00.321911 <<< \n",
      "INFO:ekorpkit.ekonf:Calling load\n",
      "INFO:ekorpkit.ekonf:Calling concatenate\n",
      "INFO:ekorpkit.info.base:Added dataset column [dataset] with value [analystsent_kr]\n",
      "INFO:ekorpkit.info.base:Added dataset column [dataset] with value [finphrase_kr]\n",
      "INFO:ekorpkit.info.base:Added dataset column [dataset] with value [analystsent_kr]\n",
      "INFO:ekorpkit.info.base:Added dataset column [dataset] with value [finphrase_kr]\n",
      "INFO:ekorpkit.info.base:Added dataset column [dataset] with value [analystsent_kr]\n",
      "INFO:ekorpkit.info.base:Added dataset column [dataset] with value [finphrase_kr]\n",
      "INFO:ekorpkit.models.transformer.simple:Loaded model from /workspace/projects/esgml/outputs/esgml-esg_polarity/ekonelectra-base/best_model\n",
      "INFO:simpletransformers.classification.classification_model: Converting to features started. Cache is not used.\n",
      "INFO:simpletransformers.classification.classification_model: Sliding window enabled\n"
     ]
    },
    {
     "data": {
      "application/vnd.jupyter.widget-view+json": {
       "model_id": "29496a4ca3e54f669cfb060dba4c3649",
       "version_major": 2,
       "version_minor": 0
      },
      "text/plain": [
       "  0%|          | 0/3555 [00:00<?, ?it/s]"
      ]
     },
     "metadata": {},
     "output_type": "display_data"
    },
    {
     "name": "stderr",
     "output_type": "stream",
     "text": [
      "INFO:simpletransformers.classification.classification_model: 3555 features created from 3555 samples.\n"
     ]
    },
    {
     "data": {
      "application/vnd.jupyter.widget-view+json": {
       "model_id": "156c584c20eb4ae196aa2f802bd5fe8d",
       "version_major": 2,
       "version_minor": 0
      },
      "text/plain": [
       "  0%|          | 0/112 [00:00<?, ?it/s]"
      ]
     },
     "metadata": {},
     "output_type": "display_data"
    },
    {
     "name": "stderr",
     "output_type": "stream",
     "text": [
      "INFO:ekorpkit.models.transformer.simple:type of raw_outputs: <class 'list'>\n",
      "INFO:ekorpkit.models.transformer.simple:raw_output: [1.0614229440689087, 1.3390781879425049, -2.543381690979004]\n",
      "INFO:ekorpkit.io.file:Saving dataframe as /workspace/projects/esgml/outputs/esgml-esg_polarity/ekonelectra-base/predictions/esg_polarity_test_predictions.parquet\n"
     ]
    },
    {
     "name": "stdout",
     "output_type": "stream",
     "text": [
      "Accuracy:  0.8323488045007033\n",
      "Precison:  0.8309464506360114\n",
      "Recall:  0.8323488045007033\n",
      "F1 Score:  0.8315852036083365\n",
      "Model Report: \n",
      "___________________________________________________\n",
      "              precision    recall  f1-score   support\n",
      "\n",
      "    negative       0.80      0.79      0.80       446\n",
      "     neutral       0.88      0.89      0.88      2459\n",
      "    positive       0.68      0.65      0.67       650\n",
      "\n",
      "    accuracy                           0.83      3555\n",
      "   macro avg       0.78      0.78      0.78      3555\n",
      "weighted avg       0.83      0.83      0.83      3555\n",
      "\n"
     ]
    },
    {
     "name": "stderr",
     "output_type": "stream",
     "text": [
      "INFO:ekorpkit.visualize.classification:Confusion matrix: {'_func_': 'confusion_matrix', 'axno': 0, 'secondary_y': False, 'secondary_to': 0, 'display_labels': ['positive', 'neutral', 'negative'], 'matrix_labels': None, 'include_values': True, 'include_percentages': True, 'summary_stats': True, '_parms_': {'cbar': True, 'cmap': 'Blues'}, 'figure': {'xlabel': 'Predicted label', 'ylabel': 'Actual label'}}\n",
      "INFO:ekorpkit.visualize.plot:Saved figure to /workspace/projects/esgml/outputs/esgml-esg_polarity/ekonelectra-base/predictions/confusion_matrix.png\n"
     ]
    },
    {
     "data": {
      "text/plain": [
       "<ekorpkit.models.transformer.simple.SimpleClassification at 0x7f92ada913d0>"
      ]
     },
     "execution_count": 4,
     "metadata": {},
     "output_type": "execute_result"
    },
    {
     "data": {
      "image/png": "[encoded data removed]",
      "text/plain": [
       "<Figure size 720x360 with 2 Axes>"
      ]
     },
     "metadata": {
      "image/png": {
       "height": 348,
       "width": 655
      }
     },
     "output_type": "display_data"
    }
   ],
   "source": [
    "overrides=[\n",
    "    '+model/transformer=simple_classification',\n",
    "    '+model/transformer/pretrained=ekonelectra-base',\n",
    "]\n",
    "model_cfg = eKonf.compose(overrides=overrides, config_group='model/transformer=simple_classification')\n",
    "model_cfg.name = \"esg_polarity\"\n",
    "model_cfg.dataset = ds_cfg\n",
    "model_cfg.verbose = False\n",
    "model_cfg.config.num_train_epochs = 2\n",
    "model_cfg.config.max_seq_length = 256\n",
    "model_cfg.config.train_batch_size = 32\n",
    "model_cfg.config.eval_batch_size = 32\n",
    "model_cfg.labels = ['positive','neutral','negative']\n",
    "model_cfg._method_ = ['eval']\n",
    "eKonf.instantiate(model_cfg)"
   ]
  },
  {
   "cell_type": "markdown",
   "metadata": {},
   "source": [
    "## Preparing `esg_topics` dataset"
   ]
  },
  {
   "cell_type": "code",
   "execution_count": 5,
   "metadata": {},
   "outputs": [
    {
     "name": "stderr",
     "output_type": "stream",
     "text": [
      "INFO:ekorpkit.io.file:Loading data from /workspace/data/datasets/simple/esg_topics/esg_topics-train.csv\n",
      "INFO:ekorpkit.info.base:Added split column [split] with value [train]\n",
      "INFO:ekorpkit.io.file:Loading data from /workspace/data/datasets/simple/esg_topics/esg_topics-test.csv\n",
      "INFO:ekorpkit.info.base:Added split column [split] with value [test]\n",
      "INFO:ekorpkit.io.file:Loading data from /workspace/data/datasets/simple/esg_topics/esg_topics-dev.csv\n",
      "INFO:ekorpkit.info.base:Added split column [split] with value [dev]\n"
     ]
    },
    {
     "name": "stdout",
     "output_type": "stream",
     "text": [
      "['S-기업(공급망)동반성장/상생', 'G-지배구조', 'G-기업윤리/불공정/소송', 'G-주주환원', 'S-소비자', 'E-신재생에너지 발전', 'S-사회공헌', 'S-기술혁신', 'S-인적자본', 'E-환경영향', 'E-기후변화', 'S-산업재해/안전관리', 'G-정보공시', 'E-환경혁신', 'S-노조/노사', 'E-원자력발전']\n"
     ]
    }
   ],
   "source": [
    "from ekorpkit import eKonf\n",
    "\n",
    "ds_cfg = eKonf.compose(config_group='dataset')\n",
    "ds_cfg.name = 'esg_topics'\n",
    "ds_cfg.data_dir = '/workspace/data/datasets/simple'\n",
    "ds = eKonf.instantiate(ds_cfg)\n",
    "labels = list(ds.splits['train'].labels.unique())\n",
    "print(labels)"
   ]
  },
  {
   "cell_type": "markdown",
   "metadata": {},
   "source": [
    "## Training a category classficiation model with `esg_topics` dataset"
   ]
  },
  {
   "cell_type": "code",
   "execution_count": 9,
   "metadata": {},
   "outputs": [
    {
     "name": "stderr",
     "output_type": "stream",
     "text": [
      "INFO:ekorpkit.ekonf:Calling train\n",
      "INFO:ekorpkit.io.file:Loading data from /workspace/data/datasets/simple/esg_topics/esg_topics-train.csv\n",
      "INFO:ekorpkit.info.base:Added split column [split] with value [train]\n",
      "INFO:ekorpkit.io.file:Loading data from /workspace/data/datasets/simple/esg_topics/esg_topics-test.csv\n",
      "INFO:ekorpkit.info.base:Added split column [split] with value [test]\n",
      "INFO:ekorpkit.io.file:Loading data from /workspace/data/datasets/simple/esg_topics/esg_topics-dev.csv\n",
      "INFO:ekorpkit.info.base:Added split column [split] with value [dev]\n",
      "Some weights of the model checkpoint at entelecheia/ekonelectra-base-discriminator were not used when initializing ElectraForSequenceClassification: ['discriminator_predictions.dense_prediction.weight', 'discriminator_predictions.dense.bias', 'discriminator_predictions.dense.weight', 'discriminator_predictions.dense_prediction.bias']\n",
      "- This IS expected if you are initializing ElectraForSequenceClassification from the checkpoint of a model trained on another task or with another architecture (e.g. initializing a BertForSequenceClassification model from a BertForPreTraining model).\n",
      "- This IS NOT expected if you are initializing ElectraForSequenceClassification from the checkpoint of a model that you expect to be exactly identical (initializing a BertForSequenceClassification model from a BertForSequenceClassification model).\n",
      "Some weights of ElectraForSequenceClassification were not initialized from the model checkpoint at entelecheia/ekonelectra-base-discriminator and are newly initialized: ['classifier.out_proj.bias', 'classifier.out_proj.weight', 'classifier.dense.weight', 'classifier.dense.bias']\n",
      "You should probably TRAIN this model on a down-stream task to be able to use it for predictions and inference.\n",
      "INFO:simpletransformers.classification.classification_model: Converting to features started. Cache is not used.\n",
      "INFO:simpletransformers.classification.classification_model: Sliding window enabled\n"
     ]
    },
    {
     "data": {
      "application/vnd.jupyter.widget-view+json": {
       "model_id": "836998dd8f4546d584f8de82a9423be3",
       "version_major": 2,
       "version_minor": 0
      },
      "text/plain": [
       "  0%|          | 0/10669 [00:00<?, ?it/s]"
      ]
     },
     "metadata": {},
     "output_type": "display_data"
    },
    {
     "name": "stderr",
     "output_type": "stream",
     "text": [
      "Token indices sequence length is longer than the specified maximum sequence length for this model (731 > 512). Running this sequence through the model will result in indexing errors\n",
      "INFO:simpletransformers.classification.classification_model: 11009 features created from 10669 samples.\n"
     ]
    },
    {
     "data": {
      "application/vnd.jupyter.widget-view+json": {
       "model_id": "72e1644c17094458a4c7d700d515df6f",
       "version_major": 2,
       "version_minor": 0
      },
      "text/plain": [
       "Epoch:   0%|          | 0/2 [00:00<?, ?it/s]"
      ]
     },
     "metadata": {},
     "output_type": "display_data"
    },
    {
     "name": "stderr",
     "output_type": "stream",
     "text": [
      "INFO:simpletransformers.classification.classification_model: Initializing WandB run for training.\n"
     ]
    },
    {
     "data": {
      "text/html": [
       "Finishing last run (ID:33g4puva) before initializing another..."
      ],
      "text/plain": [
       "<IPython.core.display.HTML object>"
      ]
     },
     "metadata": {},
     "output_type": "display_data"
    },
    {
     "data": {
      "text/html": [
       "Waiting for W&B process to finish... <strong style=\"color:green\">(success).</strong>"
      ],
      "text/plain": [
       "<IPython.core.display.HTML object>"
      ]
     },
     "metadata": {},
     "output_type": "display_data"
    },
    {
     "data": {
      "application/vnd.jupyter.widget-view+json": {
       "model_id": "",
       "version_major": 2,
       "version_minor": 0
      },
      "text/plain": [
       "VBox(children=(Label(value='0.002 MB of 0.002 MB uploaded (0.000 MB deduped)\\r'), FloatProgress(value=1.0, max…"
      ]
     },
     "metadata": {},
     "output_type": "display_data"
    },
    {
     "data": {
      "text/html": [
       "Synced <strong style=\"color:#cdcd00\">playful-yogurt-2</strong>: <a href=\"https://wandb.ai/entelecheia/esgml-esg_polarity/runs/33g4puva\" target=\"_blank\">https://wandb.ai/entelecheia/esgml-esg_polarity/runs/33g4puva</a><br/>Synced 5 W&B file(s), 1 media file(s), 1 artifact file(s) and 0 other file(s)"
      ],
      "text/plain": [
       "<IPython.core.display.HTML object>"
      ]
     },
     "metadata": {},
     "output_type": "display_data"
    },
    {
     "data": {
      "text/html": [
       "Find logs at: <code>/workspace/projects/esgml/outputs/esgml-esg_polarity/ekonelectra-base/wandb/run-20220528_060841-33g4puva/logs</code>"
      ],
      "text/plain": [
       "<IPython.core.display.HTML object>"
      ]
     },
     "metadata": {},
     "output_type": "display_data"
    },
    {
     "data": {
      "text/html": [
       "Successfully finished last run (ID:33g4puva). Initializing new run:<br/>"
      ],
      "text/plain": [
       "<IPython.core.display.HTML object>"
      ]
     },
     "metadata": {},
     "output_type": "display_data"
    },
    {
     "data": {
      "text/html": [
       "wandb version 0.12.17 is available!  To upgrade, please run:\n",
       " $ pip install wandb --upgrade"
      ],
      "text/plain": [
       "<IPython.core.display.HTML object>"
      ]
     },
     "metadata": {},
     "output_type": "display_data"
    },
    {
     "data": {
      "text/html": [
       "Tracking run with wandb version 0.12.16"
      ],
      "text/plain": [
       "<IPython.core.display.HTML object>"
      ]
     },
     "metadata": {},
     "output_type": "display_data"
    },
    {
     "data": {
      "text/html": [
       "Run data is saved locally in <code>/workspace/projects/esgml/outputs/esgml-esg_topics/ekonelectra-base/wandb/run-20220528_060919-1kh7bxpt</code>"
      ],
      "text/plain": [
       "<IPython.core.display.HTML object>"
      ]
     },
     "metadata": {},
     "output_type": "display_data"
    },
    {
     "data": {
      "text/html": [
       "Syncing run <strong><a href=\"https://wandb.ai/entelecheia/esgml-esg_topics/runs/1kh7bxpt\" target=\"_blank\">rural-sun-1</a></strong> to <a href=\"https://wandb.ai/entelecheia/esgml-esg_topics\" target=\"_blank\">Weights & Biases</a> (<a href=\"https://wandb.me/run\" target=\"_blank\">docs</a>)<br/>"
      ],
      "text/plain": [
       "<IPython.core.display.HTML object>"
      ]
     },
     "metadata": {},
     "output_type": "display_data"
    },
    {
     "data": {
      "application/vnd.jupyter.widget-view+json": {
       "model_id": "65c6a5dfeb8549e19a3fd34e88c34f7e",
       "version_major": 2,
       "version_minor": 0
      },
      "text/plain": [
       "Running Epoch 0 of 2:   0%|          | 0/345 [00:00<?, ?it/s]"
      ]
     },
     "metadata": {},
     "output_type": "display_data"
    },
    {
     "name": "stderr",
     "output_type": "stream",
     "text": [
      "INFO:simpletransformers.classification.classification_model: Converting to features started. Cache is not used.\n",
      "INFO:simpletransformers.classification.classification_model: Sliding window enabled\n",
      "INFO:simpletransformers.classification.classification_model: 1186 features created from 1186 samples.\n",
      "INFO:simpletransformers.classification.classification_model:{'mcc': 0.5975648704950577, 'acc': 0.633220910623946, 'eval_loss': 1.2704797481235706}\n"
     ]
    },
    {
     "data": {
      "application/vnd.jupyter.widget-view+json": {
       "model_id": "477e410308774116986d3be8b86948b0",
       "version_major": 2,
       "version_minor": 0
      },
      "text/plain": [
       "Running Epoch 1 of 2:   0%|          | 0/345 [00:00<?, ?it/s]"
      ]
     },
     "metadata": {},
     "output_type": "display_data"
    },
    {
     "name": "stderr",
     "output_type": "stream",
     "text": [
      "INFO:simpletransformers.classification.classification_model: Converting to features started. Cache is not used.\n",
      "INFO:simpletransformers.classification.classification_model: Sliding window enabled\n",
      "INFO:simpletransformers.classification.classification_model: 1186 features created from 1186 samples.\n",
      "INFO:simpletransformers.classification.classification_model:{'mcc': 0.6535361031149577, 'acc': 0.6838111298482293, 'eval_loss': 1.079894207025829}\n",
      "INFO:simpletransformers.classification.classification_model: Training of electra model complete. Saved to /workspace/projects/esgml/outputs/esgml-esg_topics/ekonelectra-base.\n",
      "INFO:simpletransformers.classification.classification_model: Converting to features started. Cache is not used.\n",
      "INFO:simpletransformers.classification.classification_model: Sliding window enabled\n"
     ]
    },
    {
     "data": {
      "application/vnd.jupyter.widget-view+json": {
       "model_id": "b4f0f9d13e2941519795f6279e57bd0e",
       "version_major": 2,
       "version_minor": 0
      },
      "text/plain": [
       "  0%|          | 0/1318 [00:00<?, ?it/s]"
      ]
     },
     "metadata": {},
     "output_type": "display_data"
    },
    {
     "name": "stderr",
     "output_type": "stream",
     "text": [
      "INFO:simpletransformers.classification.classification_model: 1318 features created from 1318 samples.\n"
     ]
    },
    {
     "data": {
      "application/vnd.jupyter.widget-view+json": {
       "model_id": "22e313549da940ca9623beac224e21d4",
       "version_major": 2,
       "version_minor": 0
      },
      "text/plain": [
       "Running Evaluation:   0%|          | 0/43 [00:00<?, ?it/s]"
      ]
     },
     "metadata": {},
     "output_type": "display_data"
    },
    {
     "name": "stderr",
     "output_type": "stream",
     "text": [
      "INFO:simpletransformers.classification.classification_model: Initializing WandB run for evaluation.\n"
     ]
    },
    {
     "data": {
      "text/html": [
       "Finishing last run (ID:1kh7bxpt) before initializing another..."
      ],
      "text/plain": [
       "<IPython.core.display.HTML object>"
      ]
     },
     "metadata": {},
     "output_type": "display_data"
    },
    {
     "data": {
      "text/html": [
       "Waiting for W&B process to finish... <strong style=\"color:green\">(success).</strong>"
      ],
      "text/plain": [
       "<IPython.core.display.HTML object>"
      ]
     },
     "metadata": {},
     "output_type": "display_data"
    },
    {
     "data": {
      "application/vnd.jupyter.widget-view+json": {
       "model_id": "",
       "version_major": 2,
       "version_minor": 0
      },
      "text/plain": [
       "VBox(children=(Label(value='0.001 MB of 0.001 MB uploaded (0.000 MB deduped)\\r'), FloatProgress(value=1.0, max…"
      ]
     },
     "metadata": {},
     "output_type": "display_data"
    },
    {
     "data": {
      "text/html": [
       "<style>\n",
       "    table.wandb td:nth-child(1) { padding: 0 10px; text-align: left ; width: auto;} td:nth-child(2) {text-align: left ; width: 100%}\n",
       "    .wandb-row { display: flex; flex-direction: row; flex-wrap: wrap; justify-content: flex-start; width: 100% }\n",
       "    .wandb-col { display: flex; flex-direction: column; flex-basis: 100%; flex: 1; padding: 10px; }\n",
       "    </style>\n",
       "<div class=\"wandb-row\"><div class=\"wandb-col\"><h3>Run history:</h3><br/><table class=\"wandb\"><tr><td>Training loss</td><td>█▆▅▄▄▃▃▃▂▃▃▁▃</td></tr><tr><td>acc</td><td>▁█</td></tr><tr><td>eval_loss</td><td>█▁</td></tr><tr><td>global_step</td><td>▁▂▂▃▃▄▄▄▅▅▆▆▇██</td></tr><tr><td>lr</td><td>█▇▇▆▆▅▅▄▃▃▂▂▁</td></tr><tr><td>mcc</td><td>▁█</td></tr><tr><td>train_loss</td><td>▁█</td></tr></table><br/></div><div class=\"wandb-col\"><h3>Run summary:</h3><br/><table class=\"wandb\"><tr><td>Training loss</td><td>1.22312</td></tr><tr><td>acc</td><td>0.68381</td></tr><tr><td>eval_loss</td><td>1.07989</td></tr><tr><td>global_step</td><td>690</td></tr><tr><td>lr</td><td>0.0</td></tr><tr><td>mcc</td><td>0.65354</td></tr><tr><td>train_loss</td><td>1.08579</td></tr></table><br/></div></div>"
      ],
      "text/plain": [
       "<IPython.core.display.HTML object>"
      ]
     },
     "metadata": {},
     "output_type": "display_data"
    },
    {
     "data": {
      "text/html": [
       "Synced <strong style=\"color:#cdcd00\">rural-sun-1</strong>: <a href=\"https://wandb.ai/entelecheia/esgml-esg_topics/runs/1kh7bxpt\" target=\"_blank\">https://wandb.ai/entelecheia/esgml-esg_topics/runs/1kh7bxpt</a><br/>Synced 5 W&B file(s), 0 media file(s), 0 artifact file(s) and 0 other file(s)"
      ],
      "text/plain": [
       "<IPython.core.display.HTML object>"
      ]
     },
     "metadata": {},
     "output_type": "display_data"
    },
    {
     "data": {
      "text/html": [
       "Find logs at: <code>/workspace/projects/esgml/outputs/esgml-esg_topics/ekonelectra-base/wandb/run-20220528_060919-1kh7bxpt/logs</code>"
      ],
      "text/plain": [
       "<IPython.core.display.HTML object>"
      ]
     },
     "metadata": {},
     "output_type": "display_data"
    },
    {
     "data": {
      "text/html": [
       "Successfully finished last run (ID:1kh7bxpt). Initializing new run:<br/>"
      ],
      "text/plain": [
       "<IPython.core.display.HTML object>"
      ]
     },
     "metadata": {},
     "output_type": "display_data"
    },
    {
     "data": {
      "text/html": [
       "wandb version 0.12.17 is available!  To upgrade, please run:\n",
       " $ pip install wandb --upgrade"
      ],
      "text/plain": [
       "<IPython.core.display.HTML object>"
      ]
     },
     "metadata": {},
     "output_type": "display_data"
    },
    {
     "data": {
      "text/html": [
       "Tracking run with wandb version 0.12.16"
      ],
      "text/plain": [
       "<IPython.core.display.HTML object>"
      ]
     },
     "metadata": {},
     "output_type": "display_data"
    },
    {
     "data": {
      "text/html": [
       "Run data is saved locally in <code>/workspace/projects/esgml/outputs/esgml-esg_topics/ekonelectra-base/wandb/run-20220528_061105-2m47k6xr</code>"
      ],
      "text/plain": [
       "<IPython.core.display.HTML object>"
      ]
     },
     "metadata": {},
     "output_type": "display_data"
    },
    {
     "data": {
      "text/html": [
       "Syncing run <strong><a href=\"https://wandb.ai/entelecheia/esgml-esg_topics/runs/2m47k6xr\" target=\"_blank\">snowy-disco-2</a></strong> to <a href=\"https://wandb.ai/entelecheia/esgml-esg_topics\" target=\"_blank\">Weights & Biases</a> (<a href=\"https://wandb.me/run\" target=\"_blank\">docs</a>)<br/>"
      ],
      "text/plain": [
       "<IPython.core.display.HTML object>"
      ]
     },
     "metadata": {},
     "output_type": "display_data"
    },
    {
     "name": "stderr",
     "output_type": "stream",
     "text": [
      "INFO:simpletransformers.classification.classification_model:{'mcc': 0.6369559141371757, 'acc': 0.669195751138088, 'eval_loss': 1.1340322342029838}\n"
     ]
    },
    {
     "data": {
      "text/plain": [
       "<ekorpkit.models.transformer.simple.SimpleClassification at 0x7faac20eb400>"
      ]
     },
     "execution_count": 9,
     "metadata": {},
     "output_type": "execute_result"
    }
   ],
   "source": [
    "overrides=[\n",
    "    '+model/transformer=simple_classification',\n",
    "    '+model/transformer/pretrained=ekonelectra-base',\n",
    "]\n",
    "model_cfg = eKonf.compose(overrides=overrides, config_group='model/transformer=simple_classification')\n",
    "model_cfg.name = \"esg_topics\"\n",
    "model_cfg.dataset = ds_cfg\n",
    "model_cfg.verbose = False\n",
    "model_cfg.config.num_train_epochs = 2\n",
    "model_cfg.config.max_seq_length = 256\n",
    "model_cfg.config.train_batch_size = 32\n",
    "model_cfg.config.eval_batch_size = 32\n",
    "model_cfg._method_ = ['train']\n",
    "eKonf.instantiate(model_cfg)"
   ]
  },
  {
   "cell_type": "code",
   "execution_count": 6,
   "metadata": {},
   "outputs": [
    {
     "name": "stderr",
     "output_type": "stream",
     "text": [
      "INFO:ekorpkit.ekonf:Calling eval\n",
      "INFO:ekorpkit.io.file:Loading data from /workspace/data/datasets/simple/esg_topics/esg_topics-train.csv\n",
      "INFO:ekorpkit.info.base:Added split column [split] with value [train]\n",
      "INFO:ekorpkit.io.file:Loading data from /workspace/data/datasets/simple/esg_topics/esg_topics-test.csv\n",
      "INFO:ekorpkit.info.base:Added split column [split] with value [test]\n",
      "INFO:ekorpkit.io.file:Loading data from /workspace/data/datasets/simple/esg_topics/esg_topics-dev.csv\n",
      "INFO:ekorpkit.info.base:Added split column [split] with value [dev]\n",
      "INFO:ekorpkit.models.transformer.simple:Loaded model from /workspace/projects/esgml/outputs/esgml-esg_topics/ekonelectra-base/best_model\n",
      "INFO:simpletransformers.classification.classification_model: Converting to features started. Cache is not used.\n",
      "INFO:simpletransformers.classification.classification_model: Sliding window enabled\n"
     ]
    },
    {
     "data": {
      "application/vnd.jupyter.widget-view+json": {
       "model_id": "347418beb5ff442e9beb0d4c1e5923c2",
       "version_major": 2,
       "version_minor": 0
      },
      "text/plain": [
       "  0%|          | 0/1318 [00:00<?, ?it/s]"
      ]
     },
     "metadata": {},
     "output_type": "display_data"
    },
    {
     "name": "stderr",
     "output_type": "stream",
     "text": [
      "Token indices sequence length is longer than the specified maximum sequence length for this model (712 > 512). Running this sequence through the model will result in indexing errors\n",
      "INFO:simpletransformers.classification.classification_model: 1318 features created from 1318 samples.\n"
     ]
    },
    {
     "data": {
      "application/vnd.jupyter.widget-view+json": {
       "model_id": "e4e88091372b445396a83b55bad42e93",
       "version_major": 2,
       "version_minor": 0
      },
      "text/plain": [
       "  0%|          | 0/43 [00:00<?, ?it/s]"
      ]
     },
     "metadata": {},
     "output_type": "display_data"
    },
    {
     "name": "stderr",
     "output_type": "stream",
     "text": [
      "INFO:ekorpkit.models.transformer.simple:type of raw_outputs: <class 'list'>\n",
      "INFO:ekorpkit.models.transformer.simple:raw_output: [0.8873550295829773, -1.4042227268218994, -0.9927069544792175, -1.5206907987594604, -0.05941705033183098, -0.9372580051422119, 4.283428192138672, 0.03589600324630737, 0.6752013564109802, 0.7132291197776794, -0.4526979327201843, 0.17319411039352417, 0.8416115045547485, -0.7481359839439392, -0.7303427457809448, -0.49421727657318115]\n",
      "INFO:ekorpkit.io.file:Saving dataframe as /workspace/projects/esgml/outputs/esgml-esg_topics/ekonelectra-base/predictions/esg_topics_test_predictions.parquet\n",
      "INFO:ekorpkit.visualize.classification:Confusion matrix: {'_func_': 'confusion_matrix', 'axno': 0, 'secondary_y': False, 'secondary_to': 0, 'display_labels': None, 'matrix_labels': None, 'include_values': False, 'include_percentages': False, 'summary_stats': True, '_parms_': {'cbar': True, 'cmap': 'Blues'}, 'figure': {'xlabel': 'Predicted label', 'ylabel': 'Actual label'}}\n"
     ]
    },
    {
     "name": "stdout",
     "output_type": "stream",
     "text": [
      "Accuracy:  0.669195751138088\n",
      "Precison:  0.6583205598702675\n",
      "Recall:  0.669195751138088\n",
      "F1 Score:  0.6525866906289334\n",
      "Model Report: \n",
      "___________________________________________________\n",
      "                  precision    recall  f1-score   support\n",
      "\n",
      "          E-기후변화       0.49      0.60      0.54        63\n",
      "     E-신재생에너지 발전       0.55      0.19      0.29        31\n",
      "         E-원자력발전       1.00      0.42      0.59        19\n",
      "          E-환경영향       0.46      0.46      0.46        61\n",
      "          E-환경혁신       0.49      0.44      0.46        52\n",
      "   G-기업윤리/불공정/소송       0.59      0.58      0.59        91\n",
      "          G-정보공시       0.33      0.02      0.04        50\n",
      "          G-주주환원       0.67      0.78      0.72       162\n",
      "          G-지배구조       0.74      0.81      0.77       172\n",
      "          S-기술혁신       0.73      0.78      0.75       158\n",
      "S-기업(공급망)동반성장/상생       0.59      0.41      0.48        39\n",
      "         S-노조/노사       0.84      0.84      0.84        70\n",
      "          S-사회공헌       0.82      0.82      0.82        68\n",
      "     S-산업재해/안전관리       0.79      0.70      0.74        37\n",
      "           S-소비자       0.65      0.75      0.70       159\n",
      "          S-인적자본       0.64      0.70      0.67        86\n",
      "\n",
      "        accuracy                           0.67      1318\n",
      "       macro avg       0.65      0.58      0.59      1318\n",
      "    weighted avg       0.66      0.67      0.65      1318\n",
      "\n"
     ]
    },
    {
     "name": "stderr",
     "output_type": "stream",
     "text": [
      "INFO:ekorpkit.visualize.plot:Saved figure to /workspace/projects/esgml/outputs/esgml-esg_topics/ekonelectra-base/predictions/confusion_matrix.png\n"
     ]
    },
    {
     "data": {
      "text/plain": [
       "<ekorpkit.models.transformer.simple.SimpleClassification at 0x7f92ade87700>"
      ]
     },
     "execution_count": 6,
     "metadata": {},
     "output_type": "execute_result"
    },
    {
     "data": {
      "image/png": "[encoded data removed]",
      "text/plain": [
       "<Figure size 720x360 with 2 Axes>"
      ]
     },
     "metadata": {
      "image/png": {
       "height": 348,
       "width": 648
      }
     },
     "output_type": "display_data"
    }
   ],
   "source": [
    "overrides=[\n",
    "    '+model/transformer=simple_classification',\n",
    "    '+model/transformer/pretrained=ekonelectra-base',\n",
    "]\n",
    "model_cfg = eKonf.compose(overrides=overrides, config_group='model/transformer=simple_classification')\n",
    "model_cfg.name = \"esg_topics\"\n",
    "model_cfg.dataset = ds_cfg\n",
    "model_cfg.verbose = False\n",
    "model_cfg.config.num_train_epochs = 2\n",
    "model_cfg.config.max_seq_length = 256\n",
    "model_cfg.config.train_batch_size = 32\n",
    "model_cfg.config.eval_batch_size = 32\n",
    "model_cfg._method_ = ['eval']\n",
    "model_cfg.model.eval.visualize.plot.confusion_matrix.include_values = False\n",
    "model_cfg.model.eval.visualize.plot.confusion_matrix.include_percentages = False\n",
    "eKonf.instantiate(model_cfg)"
   ]
  },
  {
   "cell_type": "code",
   "execution_count": null,
   "metadata": {},
   "outputs": [],
   "source": []
  }
 ],
 "metadata": {
  "colab": {
   "include_colab_link": true,
   "name": "preprocessor.ipynb",
   "provenance": []
  },
  "interpreter": {
   "hash": "f869af7787e6a1c49e09e367fc6e1b81d93d1c6583b43249c80edc047bd13cb2"
  },
  "kernelspec": {
   "display_name": "Python 3",
   "language": "python",
   "name": "python3"
  },
  "language_info": {
   "codemirror_mode": {
    "name": "ipython",
    "version": 3
   },
   "file_extension": ".py",
   "mimetype": "text/x-python",
   "name": "python",
   "nbconvert_exporter": "python",
   "pygments_lexer": "ipython3",
   "version": "3.8.8"
  },
  "widgets": {
   "application/vnd.jupyter.widget-state+json": {
    "state": {},
    "version_major": 2,
    "version_minor": 0
   }
  }
 },
 "nbformat": 4,
 "nbformat_minor": 4
}
