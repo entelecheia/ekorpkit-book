{
 "cells": [
  {
   "cell_type": "markdown",
   "id": "76b40700",
   "metadata": {
    "slideshow": {
     "slide_type": "slide"
    },
    "tags": []
   },
   "source": [
    "# Deep Learning for NLP"
   ]
  },
  {
   "cell_type": "markdown",
   "id": "e9c99162",
   "metadata": {
    "slideshow": {
     "slide_type": "slide"
    },
    "tags": []
   },
   "source": [
    "## 📜 Course Description\n",
    "\n",
    "- This course aims to cover cutting-edge deep learning methods for natural language processing. \n",
    "- The topics include word embeddings and contextualized word embeddings; language models; transformers; pre-training and fine-tuning; sequence tagging (NER, question answering); sequence generation (summarization, machine translation), zero-shot learning, etc.\n"
   ]
  },
  {
   "cell_type": "markdown",
   "id": "ee7884ff",
   "metadata": {
    "slideshow": {
     "slide_type": "slide"
    },
    "tags": []
   },
   "source": [
    "## ♾️ Learning Goals\n",
    "\n",
    "By the end of this course, students will be able to: \n",
    "- Understand fundamental concepts in natural language processing, including text representation, sequence modeling, and neural machine translation. \n",
    "- Understand the state-of-the-art deep learning methods for natural language processing, including word embeddings and contextualized word embeddings; language models; transformers; pre-training and fine-tuning; sequence tagging (NER, question answering); sequence generation (summarization, machine translation), zero-shot learning, etc. \n",
    "- Implement key algorithms in natural language processing using deep learning frameworks such as PyTorch or TensorFlow. \n",
    "- Train and tune state-of-the-art models on large-scale datasets. \n",
    "- Read and understand recent research papers in natural language processing.\n"
   ]
  },
  {
   "cell_type": "markdown",
   "id": "c0bd2f00",
   "metadata": {
    "slideshow": {
     "slide_type": "slide"
    },
    "tags": []
   },
   "source": [
    "## 🏆 Grading\n",
    "\n",
    "- Participation: **10%**\n",
    "- Midterm: **30%**\n",
    "- Term Project: **60%**\n"
   ]
  },
  {
   "cell_type": "markdown",
   "id": "156df085",
   "metadata": {
    "slideshow": {
     "slide_type": "slide"
    },
    "tags": []
   },
   "source": [
    "## 🧠 Term Project\n",
    "\n",
    "- Students will be required to complete a term project as part of this course. \n",
    "- At the midterm, you need to submit a proposal for your project. \n",
    "- The proposal includes the data, and you have to perform the exploratory data analysis on this data.\n",
    "- The term project can take the form of either a research paper or a practical implementation. \n",
    "- For the term project, you need to submit a report and a codebase. \n",
    "- The report should be around 10 pages, and it should describe your methodology, results, and discussion. \n",
    "- The project will be graded on correctness, readability, and efficiency."
   ]
  },
  {
   "cell_type": "markdown",
   "id": "3e273dd1",
   "metadata": {
    "slideshow": {
     "slide_type": "slide"
    },
    "tags": []
   },
   "source": [
    "## 📒 Lecture Notes\n",
    "\n",
    "You can find the lecture notes of the course by clicking on the following link:\n",
    "\n",
    "https://entelecheia.github.io/ekorpkit-book/docs/lectures/deep_nlp"
   ]
  },
  {
   "cell_type": "markdown",
   "id": "d7e29cd2",
   "metadata": {
    "slideshow": {
     "slide_type": "slide"
    },
    "tags": []
   },
   "source": [
    "## 🗓️ Table of Contents\n",
    "\n",
    "```{tableofcontents}\n",
    "\n",
    "```\n"
   ]
  }
 ],
 "metadata": {
  "kernelspec": {
   "display_name": "Python 3 (ipykernel)",
   "language": "python",
   "name": "python3"
  },
  "language_info": {
   "codemirror_mode": {
    "name": "ipython",
    "version": 3
   },
   "file_extension": ".py",
   "mimetype": "text/x-python",
   "name": "python",
   "nbconvert_exporter": "python",
   "pygments_lexer": "ipython3",
   "version": "3.8.12"
  },
  "vscode": {
   "interpreter": {
    "hash": "d4d1e4263499bec80672ea0156c357c1ee493ec2b1c70f0acce89fc37c4a6abe"
   }
  },
  "widgets": {
   "application/vnd.jupyter.widget-state+json": {
    "state": {},
    "version_major": 2,
    "version_minor": 0
   }
  }
 },
 "nbformat": 4,
 "nbformat_minor": 5
}
