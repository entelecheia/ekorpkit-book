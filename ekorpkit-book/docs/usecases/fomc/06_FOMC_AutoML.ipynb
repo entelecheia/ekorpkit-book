{
 "cells": [
  {
   "cell_type": "markdown",
   "metadata": {
    "colab_type": "text",
    "id": "lHecaO_7JG6L"
   },
   "source": [
    "# Checking Baseline with AutoML"
   ]
  },
  {
   "cell_type": "code",
   "execution_count": 1,
   "metadata": {},
   "outputs": [
    {
     "name": "stdout",
     "output_type": "stream",
     "text": [
      "0.1.31+15.g2cbd42e\n"
     ]
    }
   ],
   "source": [
    "%config InlineBackend.figure_format='retina'\n",
    "import logging\n",
    "from ekorpkit import eKonf\n",
    "\n",
    "logging.basicConfig(level=logging.INFO)\n",
    "print(eKonf.__version__)"
   ]
  },
  {
   "cell_type": "code",
   "execution_count": 2,
   "metadata": {},
   "outputs": [],
   "source": [
    "data_dir = \"../data/fomc\"\n",
    "save_dataframe = eKonf.partial(\n",
    "    config_group=\"_func_/save_dataframe\", output_dir=data_dir\n",
    ")\n",
    "load_dataframe = eKonf.partial(config_group=\"_func_/load_dataframe\", data_dir=data_dir)"
   ]
  },
  {
   "cell_type": "markdown",
   "metadata": {},
   "source": [
    "## Load a feature set"
   ]
  },
  {
   "cell_type": "code",
   "execution_count": 3,
   "metadata": {},
   "outputs": [
    {
     "name": "stderr",
     "output_type": "stream",
     "text": [
      "INFO:ekorpkit.datasets.feature:Loaded info file: ../data/fomc/fomc_features_small/info-fomc_features_small.yaml\n",
      "INFO:ekorpkit.io.file:Loading data from ../data/fomc/fomc_features_small/fomc_features_small-train.parquet\n",
      "INFO:ekorpkit.info.feature:Added a column [split] with value [train]\n",
      "INFO:ekorpkit.io.file:Loading data from ../data/fomc/fomc_features_small/fomc_features_small-test.parquet\n",
      "INFO:ekorpkit.info.feature:Added a column [split] with value [test]\n"
     ]
    }
   ],
   "source": [
    "fs_cfg = eKonf.compose(config_group=\"dataset=feature\")\n",
    "fs_cfg.name = \"fomc_features_small\"\n",
    "fs_cfg.data_dir = data_dir\n",
    "fs_small = eKonf.instantiate(fs_cfg)"
   ]
  },
  {
   "cell_type": "markdown",
   "metadata": {},
   "source": [
    "## Auto ML"
   ]
  },
  {
   "cell_type": "code",
   "execution_count": 4,
   "metadata": {
    "scrolled": false
   },
   "outputs": [
    {
     "name": "stderr",
     "output_type": "stream",
     "text": [
      "/opt/conda/lib/python3.8/site-packages/xgboost/compat.py:31: FutureWarning: pandas.Int64Index is deprecated and will be removed from pandas in a future version. Use pandas.Index with the appropriate dtype instead.\n",
      "  from pandas import MultiIndex, Int64Index\n",
      "INFO:ekorpkit.ekonf:No method defined to call\n"
     ]
    }
   ],
   "source": [
    "model_cfg = eKonf.compose(config_group='model/automl=classification')\n",
    "model_cfg.dataset = fs_cfg\n",
    "model_cfg.config.time_budget = 600\n",
    "model_cfg.verbose = False\n",
    "model = eKonf.instantiate(model_cfg)"
   ]
  },
  {
   "cell_type": "code",
   "execution_count": 5,
   "metadata": {
    "scrolled": false
   },
   "outputs": [
    {
     "name": "stderr",
     "output_type": "stream",
     "text": [
      "INFO:ekorpkit.datasets.feature:Loaded info file: ../data/fomc/fomc_features_small/info-fomc_features_small.yaml\n",
      "INFO:ekorpkit.io.file:Loading data from ../data/fomc/fomc_features_small/fomc_features_small-train.parquet\n",
      "INFO:ekorpkit.info.feature:Added a column [split] with value [train]\n",
      "INFO:ekorpkit.io.file:Loading data from ../data/fomc/fomc_features_small/fomc_features_small-test.parquet\n",
      "INFO:ekorpkit.info.feature:Added a column [split] with value [test]\n"
     ]
    },
    {
     "name": "stdout",
     "output_type": "stream",
     "text": [
      "Best ML leaner: rf\n",
      "Best hyperparmeter config: {'n_estimators': 7, 'max_features': 0.15085968785222795, 'max_leaves': 10, 'criterion': 'gini'}\n",
      "Best accuracy on validation data: 0.6807\n",
      "Training duration of best run: 0.1351 s\n"
     ]
    }
   ],
   "source": [
    "model.fit()"
   ]
  },
  {
   "cell_type": "code",
   "execution_count": 6,
   "metadata": {},
   "outputs": [
    {
     "data": {
      "text/html": [
       "<style>#sk-container-id-1 {color: black;background-color: white;}#sk-container-id-1 pre{padding: 0;}#sk-container-id-1 div.sk-toggleable {background-color: white;}#sk-container-id-1 label.sk-toggleable__label {cursor: pointer;display: block;width: 100%;margin-bottom: 0;padding: 0.3em;box-sizing: border-box;text-align: center;}#sk-container-id-1 label.sk-toggleable__label-arrow:before {content: \"▸\";float: left;margin-right: 0.25em;color: #696969;}#sk-container-id-1 label.sk-toggleable__label-arrow:hover:before {color: black;}#sk-container-id-1 div.sk-estimator:hover label.sk-toggleable__label-arrow:before {color: black;}#sk-container-id-1 div.sk-toggleable__content {max-height: 0;max-width: 0;overflow: hidden;text-align: left;background-color: #f0f8ff;}#sk-container-id-1 div.sk-toggleable__content pre {margin: 0.2em;color: black;border-radius: 0.25em;background-color: #f0f8ff;}#sk-container-id-1 input.sk-toggleable__control:checked~div.sk-toggleable__content {max-height: 200px;max-width: 100%;overflow: auto;}#sk-container-id-1 input.sk-toggleable__control:checked~label.sk-toggleable__label-arrow:before {content: \"▾\";}#sk-container-id-1 div.sk-estimator input.sk-toggleable__control:checked~label.sk-toggleable__label {background-color: #d4ebff;}#sk-container-id-1 div.sk-label input.sk-toggleable__control:checked~label.sk-toggleable__label {background-color: #d4ebff;}#sk-container-id-1 input.sk-hidden--visually {border: 0;clip: rect(1px 1px 1px 1px);clip: rect(1px, 1px, 1px, 1px);height: 1px;margin: -1px;overflow: hidden;padding: 0;position: absolute;width: 1px;}#sk-container-id-1 div.sk-estimator {font-family: monospace;background-color: #f0f8ff;border: 1px dotted black;border-radius: 0.25em;box-sizing: border-box;margin-bottom: 0.5em;}#sk-container-id-1 div.sk-estimator:hover {background-color: #d4ebff;}#sk-container-id-1 div.sk-parallel-item::after {content: \"\";width: 100%;border-bottom: 1px solid gray;flex-grow: 1;}#sk-container-id-1 div.sk-label:hover label.sk-toggleable__label {background-color: #d4ebff;}#sk-container-id-1 div.sk-serial::before {content: \"\";position: absolute;border-left: 1px solid gray;box-sizing: border-box;top: 0;bottom: 0;left: 50%;z-index: 0;}#sk-container-id-1 div.sk-serial {display: flex;flex-direction: column;align-items: center;background-color: white;padding-right: 0.2em;padding-left: 0.2em;position: relative;}#sk-container-id-1 div.sk-item {position: relative;z-index: 1;}#sk-container-id-1 div.sk-parallel {display: flex;align-items: stretch;justify-content: center;background-color: white;position: relative;}#sk-container-id-1 div.sk-item::before, #sk-container-id-1 div.sk-parallel-item::before {content: \"\";position: absolute;border-left: 1px solid gray;box-sizing: border-box;top: 0;bottom: 0;left: 50%;z-index: -1;}#sk-container-id-1 div.sk-parallel-item {display: flex;flex-direction: column;z-index: 1;position: relative;background-color: white;}#sk-container-id-1 div.sk-parallel-item:first-child::after {align-self: flex-end;width: 50%;}#sk-container-id-1 div.sk-parallel-item:last-child::after {align-self: flex-start;width: 50%;}#sk-container-id-1 div.sk-parallel-item:only-child::after {width: 0;}#sk-container-id-1 div.sk-dashed-wrapped {border: 1px dashed gray;margin: 0 0.4em 0.5em 0.4em;box-sizing: border-box;padding-bottom: 0.4em;background-color: white;}#sk-container-id-1 div.sk-label label {font-family: monospace;font-weight: bold;display: inline-block;line-height: 1.2em;}#sk-container-id-1 div.sk-label-container {text-align: center;}#sk-container-id-1 div.sk-container {/* jupyter's `normalize.less` sets `[hidden] { display: none; }` but bootstrap.min.css set `[hidden] { display: none !important; }` so we also need the `!important` here to be able to override the default hidden behavior on the sphinx rendered scikit-learn.org. See: https://github.com/scikit-learn/scikit-learn/issues/21755 */display: inline-block !important;position: relative;}#sk-container-id-1 div.sk-text-repr-fallback {display: none;}</style><div id=\"sk-container-id-1\" class=\"sk-top-container\"><div class=\"sk-text-repr-fallback\"><pre>RandomForestClassifier(max_features=0.15085968785222795, max_leaf_nodes=10,\n",
       "                       n_estimators=7, n_jobs=-1)</pre><b>In a Jupyter environment, please rerun this cell to show the HTML representation or trust the notebook. <br />On GitHub, the HTML representation is unable to render, please try loading this page with nbviewer.org.</b></div><div class=\"sk-container\" hidden><div class=\"sk-item\"><div class=\"sk-estimator sk-toggleable\"><input class=\"sk-toggleable__control sk-hidden--visually\" id=\"sk-estimator-id-1\" type=\"checkbox\" checked><label for=\"sk-estimator-id-1\" class=\"sk-toggleable__label sk-toggleable__label-arrow\">RandomForestClassifier</label><div class=\"sk-toggleable__content\"><pre>RandomForestClassifier(max_features=0.15085968785222795, max_leaf_nodes=10,\n",
       "                       n_estimators=7, n_jobs=-1)</pre></div></div></div></div></div>"
      ],
      "text/plain": [
       "RandomForestClassifier(max_features=0.15085968785222795, max_leaf_nodes=10,\n",
       "                       n_estimators=7, n_jobs=-1)"
      ]
     },
     "execution_count": 6,
     "metadata": {},
     "output_type": "execute_result"
    }
   ],
   "source": [
    "model.best_estimator"
   ]
  },
  {
   "cell_type": "code",
   "execution_count": 7,
   "metadata": {},
   "outputs": [
    {
     "name": "stderr",
     "output_type": "stream",
     "text": [
      "INFO:ekorpkit.models.automl.flaml:Saved model to /workspace/projects/esgml/outputs/automl_fomc_features_small/automl_fomc_features_small.mdl\n"
     ]
    }
   ],
   "source": [
    "model.save()"
   ]
  },
  {
   "cell_type": "code",
   "execution_count": 8,
   "metadata": {},
   "outputs": [
    {
     "name": "stderr",
     "output_type": "stream",
     "text": [
      "INFO:ekorpkit.models.automl.flaml:Loaded model from /workspace/projects/esgml/outputs/automl_fomc_features_small/automl_fomc_features_small.mdl\n"
     ]
    }
   ],
   "source": [
    "model.load()"
   ]
  },
  {
   "cell_type": "code",
   "execution_count": 9,
   "metadata": {},
   "outputs": [
    {
     "name": "stdout",
     "output_type": "stream",
     "text": [
      "Best ML leaner: rf\n",
      "Best hyperparmeter config: {'n_estimators': 7, 'max_features': 0.15085968785222795, 'max_leaves': 10, 'criterion': 'gini'}\n",
      "Best accuracy on validation data: 0.6807\n",
      "Training duration of best run: 0.1351 s\n"
     ]
    }
   ],
   "source": [
    "model.show_results()"
   ]
  },
  {
   "cell_type": "code",
   "execution_count": 10,
   "metadata": {},
   "outputs": [
    {
     "data": {
      "text/plain": [
       "{'time_history': [0.16283369064331055,\n",
       "  29.263866901397705,\n",
       "  53.26441550254822,\n",
       "  158.98795890808105,\n",
       "  161.9256660938263],\n",
       " 'best_valid_loss_history': [0.33731343283582094,\n",
       "  0.3343283582089553,\n",
       "  0.3342831298055179,\n",
       "  0.32528267752148354,\n",
       "  0.31931252826775214],\n",
       " 'valid_loss_history': [0.33731343283582094,\n",
       "  0.3343283582089553,\n",
       "  0.3342831298055179,\n",
       "  0.32528267752148354,\n",
       "  0.31931252826775214],\n",
       " 'config_history': [{'Current Learner': 'lgbm',\n",
       "   'Current Sample': 332,\n",
       "   'Current Hyper-parameters': {'n_estimators': 4,\n",
       "    'num_leaves': 4,\n",
       "    'min_child_samples': 20,\n",
       "    'learning_rate': 0.09999999999999995,\n",
       "    'log_max_bin': 8,\n",
       "    'colsample_bytree': 1.0,\n",
       "    'reg_alpha': 0.0009765625,\n",
       "    'reg_lambda': 1.0},\n",
       "   'Best Learner': 'lgbm',\n",
       "   'Best Hyper-parameters': {'n_estimators': 4,\n",
       "    'num_leaves': 4,\n",
       "    'min_child_samples': 20,\n",
       "    'learning_rate': 0.09999999999999995,\n",
       "    'log_max_bin': 8,\n",
       "    'colsample_bytree': 1.0,\n",
       "    'reg_alpha': 0.0009765625,\n",
       "    'reg_lambda': 1.0}},\n",
       "  {'Current Learner': 'extra',\n",
       "   'Current Sample': 332,\n",
       "   'Current Hyper-parameters': {'n_estimators': 4,\n",
       "    'max_features': 0.36037911316042676,\n",
       "    'max_leaves': 4,\n",
       "    'criterion': 'gini'},\n",
       "   'Best Learner': 'extra',\n",
       "   'Best Hyper-parameters': {'n_estimators': 4,\n",
       "    'max_features': 0.36037911316042676,\n",
       "    'max_leaves': 4,\n",
       "    'criterion': 'gini'}},\n",
       "  {'Current Learner': 'extra',\n",
       "   'Current Sample': 332,\n",
       "   'Current Hyper-parameters': {'n_estimators': 6,\n",
       "    'max_features': 0.2686507948058836,\n",
       "    'max_leaves': 5,\n",
       "    'criterion': 'entropy'},\n",
       "   'Best Learner': 'extra',\n",
       "   'Best Hyper-parameters': {'n_estimators': 6,\n",
       "    'max_features': 0.2686507948058836,\n",
       "    'max_leaves': 5,\n",
       "    'criterion': 'entropy'}},\n",
       "  {'Current Learner': 'rf',\n",
       "   'Current Sample': 332,\n",
       "   'Current Hyper-parameters': {'n_estimators': 8,\n",
       "    'max_features': 0.20888250913774078,\n",
       "    'max_leaves': 6,\n",
       "    'criterion': 'gini'},\n",
       "   'Best Learner': 'rf',\n",
       "   'Best Hyper-parameters': {'n_estimators': 8,\n",
       "    'max_features': 0.20888250913774078,\n",
       "    'max_leaves': 6,\n",
       "    'criterion': 'gini'}},\n",
       "  {'Current Learner': 'rf',\n",
       "   'Current Sample': 332,\n",
       "   'Current Hyper-parameters': {'n_estimators': 7,\n",
       "    'max_features': 0.15085968785222795,\n",
       "    'max_leaves': 10,\n",
       "    'criterion': 'gini'},\n",
       "   'Best Learner': 'rf',\n",
       "   'Best Hyper-parameters': {'n_estimators': 7,\n",
       "    'max_features': 0.15085968785222795,\n",
       "    'max_leaves': 10,\n",
       "    'criterion': 'gini'}}],\n",
       " 'metric_history': [None, None, None, None, None]}"
      ]
     },
     "execution_count": 10,
     "metadata": {},
     "output_type": "execute_result"
    }
   ],
   "source": [
    "model.get_logs()"
   ]
  },
  {
   "cell_type": "code",
   "execution_count": null,
   "metadata": {},
   "outputs": [],
   "source": []
  }
 ],
 "metadata": {
  "accelerator": "GPU",
  "colab": {
   "collapsed_sections": [],
   "name": "FOMC_Analysis_BaselineModels.ipynb",
   "provenance": [],
   "toc_visible": true
  },
  "interpreter": {
   "hash": "f869af7787e6a1c49e09e367fc6e1b81d93d1c6583b43249c80edc047bd13cb2"
  },
  "kernelspec": {
   "display_name": "Python 3",
   "language": "python",
   "name": "python3"
  },
  "language_info": {
   "codemirror_mode": {
    "name": "ipython",
    "version": 3
   },
   "file_extension": ".py",
   "mimetype": "text/x-python",
   "name": "python",
   "nbconvert_exporter": "python",
   "pygments_lexer": "ipython3",
   "version": "3.8.8"
  },
  "widgets": {
   "application/vnd.jupyter.widget-state+json": {
    "state": {},
    "version_major": 2,
    "version_minor": 0
   }
  }
 },
 "nbformat": 4,
 "nbformat_minor": 1
}
