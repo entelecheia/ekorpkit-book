{
 "cells": [
  {
   "cell_type": "markdown",
   "metadata": {
    "id": "AESO0odcxhzs"
   },
   "source": [
    "# Lexicon-based Sentiment Analysis"
   ]
  },
  {
   "cell_type": "code",
   "execution_count": 1,
   "metadata": {},
   "outputs": [
    {
     "name": "stdout",
     "output_type": "stream",
     "text": [
      "0.1.33+10.g31cca44.dirty\n"
     ]
    }
   ],
   "source": [
    "import logging\n",
    "from ekorpkit import eKonf\n",
    "\n",
    "logging.basicConfig(level=logging.INFO)\n",
    "print(eKonf.__version__)"
   ]
  },
  {
   "cell_type": "markdown",
   "metadata": {
    "id": "dOpN8AxSxhzv"
   },
   "source": [
    "## Instantiating a sentiment analyser class"
   ]
  },
  {
   "cell_type": "code",
   "execution_count": 2,
   "metadata": {},
   "outputs": [
    {
     "name": "stderr",
     "output_type": "stream",
     "text": [
      "INFO:ekorpkit.preprocessors.tokenizer:instantiating ekorpkit.preprocessors.stopwords.Stopwords...\n",
      "INFO:ekorpkit.base:Calling load_candidates\n",
      "INFO:ekorpkit.io.file:Processing [1] files from ['/workspace/projects/ekorpkit/ekorpkit/resources/lexicons/LM.parquet']\n",
      "INFO:ekorpkit.io.file:Loading 1 dataframes from ['/workspace/projects/ekorpkit/ekorpkit/resources/lexicons/LM.parquet']\n",
      "INFO:ekorpkit.io.file:Loading data from /workspace/projects/ekorpkit/ekorpkit/resources/lexicons/LM.parquet\n",
      "INFO:ekorpkit.models.ngram.ngram:loaded 58142 candidates\n"
     ]
    },
    {
     "data": {
      "text/plain": [
       "{'num_tokens': 8,\n",
       " 'polarity': -0.9999990000010001,\n",
       " 'polarity_label': 'negative',\n",
       " 'uncertainty': 0.125001}"
      ]
     },
     "execution_count": 2,
     "metadata": {},
     "output_type": "execute_result"
    }
   ],
   "source": [
    "cfg = eKonf.compose(\"model/sentiment=lm\")\n",
    "# cfg.verbose = True\n",
    "# eKonf.print(cfg)\n",
    "lmsa = eKonf.instantiate(cfg)\n",
    "\n",
    "tokens = [\"Fraud\", \"Good\", \"Good\", \"Good\", \"Sound\", \"uncertain\", \"beat\", \"wrong\"]\n",
    "\n",
    "lmsa.predict(tokens)"
   ]
  },
  {
   "cell_type": "code",
   "execution_count": 5,
   "metadata": {},
   "outputs": [
    {
     "name": "stdout",
     "output_type": "stream",
     "text": [
      "{'advantage': {'Negative': 0, 'Positive': 2009, 'count': 1},\n",
      " 'and': {'Negative': 0, 'Positive': 0, 'count': 1},\n",
      " 'beyond': {'Negative': 0, 'Positive': 0, 'count': 1},\n",
      " 'capability': {'Negative': 0, 'Positive': 0, 'count': 1},\n",
      " 'competitive': {'Negative': 0, 'Positive': 0, 'count': 1},\n",
      " 'comply': {'Negative': 0, 'Positive': 0, 'count': 1},\n",
      " 'customer': {'Negative': 0, 'Positive': 0, 'count': 1},\n",
      " 'have': {'Negative': 0, 'Positive': 0, 'count': 1},\n",
      " 'improved': {'Negative': 0, 'Positive': 2009, 'count': 1},\n",
      " 'now': {'Negative': 0, 'Positive': 0, 'count': 1},\n",
      " 'other': {'Negative': 0, 'Positive': 0, 'count': 1},\n",
      " 'provide': {'Negative': 0, 'Positive': 0, 'count': 1},\n",
      " 'recall': {'Negative': 2009, 'Positive': 0, 'count': 1},\n",
      " 'requirement': {'Negative': 0, 'Positive': 0, 'count': 1},\n",
      " 'streamlined': {'Negative': 0, 'Positive': 0, 'count': 1},\n",
      " 'the': {'Negative': 0, 'Positive': 0, 'count': 1},\n",
      " 'them': {'Negative': 0, 'Positive': 0, 'count': 1},\n",
      " 'to': {'Negative': 0, 'Positive': 0, 'count': 1},\n",
      " 'traceability': {'Negative': 0, 'Positive': 0, 'count': 1},\n",
      " 'voice': {'Negative': 0, 'Positive': 0, 'count': 1},\n",
      " 'way': {'Negative': 0, 'Positive': 0, 'count': 1},\n",
      " 'with': {'Negative': 0, 'Positive': 0, 'count': 2}}\n"
     ]
    }
   ],
   "source": [
    "text = \"Beyond the improved voice capabilities, customers now have a streamlined way to comply with recalls and other traceability requirements, providing them with a competitive advantage.\"\n",
    "features = lmsa.analyze(text, features=['Negative', 'Positive'])\n",
    "\n",
    "eKonf.print(features)"
   ]
  },
  {
   "cell_type": "code",
   "execution_count": 6,
   "metadata": {},
   "outputs": [
    {
     "name": "stdout",
     "output_type": "stream",
     "text": [
      "{'num_tokens': 22, 'polarity': -0.9999990000010001, 'polarity_label': 'negative'}\n"
     ]
    }
   ],
   "source": [
    "text = \"Operating loss amounted to EUR 0.7 mn compared to a profit of EUR 0.8 mn in the second quarter of 2005.\"\n",
    "print(lmsa.predict(text))"
   ]
  },
  {
   "cell_type": "code",
   "execution_count": 7,
   "metadata": {},
   "outputs": [
    {
     "name": "stderr",
     "output_type": "stream",
     "text": [
      "INFO:ekorpkit.preprocessors.tokenizer:instantiating ekorpkit.preprocessors.stopwords.Stopwords...\n",
      "INFO:ekorpkit.base:Calling load_candidates\n",
      "INFO:ekorpkit.io.file:Processing [1] files from ['/workspace/projects/ekorpkit/ekorpkit/resources/lexicons/HIV-4.parquet']\n",
      "INFO:ekorpkit.io.file:Loading 1 dataframes from ['/workspace/projects/ekorpkit/ekorpkit/resources/lexicons/HIV-4.parquet']\n",
      "INFO:ekorpkit.io.file:Loading data from /workspace/projects/ekorpkit/ekorpkit/resources/lexicons/HIV-4.parquet\n",
      "INFO:ekorpkit.models.ngram.ngram:loaded 11787 candidates\n"
     ]
    },
    {
     "data": {
      "text/plain": [
       "{'num_tokens': 9,\n",
       " 'polarity': 0.9999990000010001,\n",
       " 'polarity_label': 'positive',\n",
       " 'legal': 0.1111121111111111}"
      ]
     },
     "execution_count": 7,
     "metadata": {},
     "output_type": "execute_result"
    }
   ],
   "source": [
    "cfg = eKonf.compose('model/sentiment=hiv4')\n",
    "hivsa = eKonf.instantiate(cfg)\n",
    "\n",
    "tokens = [\"Fraud\", \"Good\",\"Good\",\"Good\", \"Sound\", \"uncertain\", \"beat\", \"wrong\", \"legal\"]\n",
    "\n",
    "hivsa.predict(tokens)"
   ]
  },
  {
   "cell_type": "code",
   "execution_count": 8,
   "metadata": {},
   "outputs": [
    {
     "name": "stdout",
     "output_type": "stream",
     "text": [
      "{'a': {'Negativ': None, 'Positiv': None, 'count': 2},\n",
      " 'advantage': {'Negativ': None, 'Positiv': 'Positiv', 'count': 1},\n",
      " 'and': {'Negativ': None, 'Positiv': None, 'count': 1},\n",
      " 'beyond': {'Negativ': None, 'Positiv': None, 'count': 1},\n",
      " 'competitive': {'Negativ': 'Negativ', 'Positiv': None, 'count': 1},\n",
      " 'comply': {'Negativ': None, 'Positiv': None, 'count': 1},\n",
      " 'now': {'Negativ': None, 'Positiv': None, 'count': 1},\n",
      " 'the': {'Negativ': None, 'Positiv': None, 'count': 1},\n",
      " 'them': {'Negativ': None, 'Positiv': None, 'count': 1},\n",
      " 'with': {'Negativ': None, 'Positiv': None, 'count': 2}}\n",
      "{'num_tokens': 28, 'polarity': 0.0, 'polarity_label': 'neutral', 'legal': 1e-06}\n",
      "{'num_tokens': 22, 'polarity': -0.9999990000010001, 'polarity_label': 'negative', 'legal': 1e-06}\n"
     ]
    }
   ],
   "source": [
    "text = \"Beyond the improved voice capabilities, customers now have a streamlined way to comply with recalls and other traceability requirements, providing them with a competitive advantage.\"\n",
    "features = eKonf.print(hivsa.analyze(text, features=['Negativ', 'Positiv']))\n",
    "print(hivsa.predict(text))\n",
    "text = \"Operating loss amounted to EUR 0.7 mn compared to a profit of EUR 0.8 mn in the second quarter of 2005.\"\n",
    "print(hivsa.predict(text))\n"
   ]
  },
  {
   "cell_type": "code",
   "execution_count": null,
   "metadata": {},
   "outputs": [],
   "source": []
  }
 ],
 "metadata": {
  "colab": {
   "name": "preprocessor.ipynb",
   "provenance": []
  },
  "interpreter": {
   "hash": "f869af7787e6a1c49e09e367fc6e1b81d93d1c6583b43249c80edc047bd13cb2"
  },
  "kernelspec": {
   "display_name": "Python 3",
   "language": "python",
   "name": "python3"
  },
  "language_info": {
   "codemirror_mode": {
    "name": "ipython",
    "version": 3
   },
   "file_extension": ".py",
   "mimetype": "text/x-python",
   "name": "python",
   "nbconvert_exporter": "python",
   "pygments_lexer": "ipython3",
   "version": "3.8.12"
  },
  "widgets": {
   "application/vnd.jupyter.widget-state+json": {
    "state": {},
    "version_major": 2,
    "version_minor": 0
   }
  }
 },
 "nbformat": 4,
 "nbformat_minor": 1
}
