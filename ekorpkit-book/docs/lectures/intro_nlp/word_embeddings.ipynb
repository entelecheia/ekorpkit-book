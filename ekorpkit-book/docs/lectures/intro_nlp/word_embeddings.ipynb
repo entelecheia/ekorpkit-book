{
 "cells": [
  {
   "cell_type": "markdown",
   "id": "cfdc61fb",
   "metadata": {},
   "source": [
    "# Word Embeddings II"
   ]
  },
  {
   "cell_type": "markdown",
   "id": "66d50cc3",
   "metadata": {},
   "source": [
    "## References\n",
    "\n",
    "- [Word2Vec](https://arxiv.org/abs/1301.3781)\n",
    "- [A Visual Guide to FastText Word Embeddings](https://amitness.com/2020/06/fasttext-embeddings/)\n",
    "- [FastText](https://fasttext.cc/)\n",
    "- [Get FastText representation from pretrained embeddings with subword information](http://christopher5106.github.io/deep/learning/2020/04/02/fasttext_pretrained_embeddings_subword_word_representations.html)\n",
    "- [The Ultimate Guide to Word Embeddings](https://neptune.ai/blog/word-embeddings-guide)"
   ]
  },
  {
   "cell_type": "markdown",
   "id": "6aab5401",
   "metadata": {},
   "source": []
  }
 ],
 "metadata": {
  "kernelspec": {
   "display_name": "Python 3.9.2 64-bit ('3.9.2')",
   "language": "python",
   "name": "python3"
  },
  "language_info": {
   "name": "python",
   "version": "3.9.2"
  },
  "vscode": {
   "interpreter": {
    "hash": "93b4cf8eea927ca72e10894c003f60fd8f010ab3a2701e6ac08fd098c47fd773"
   }
  }
 },
 "nbformat": 4,
 "nbformat_minor": 5
}
