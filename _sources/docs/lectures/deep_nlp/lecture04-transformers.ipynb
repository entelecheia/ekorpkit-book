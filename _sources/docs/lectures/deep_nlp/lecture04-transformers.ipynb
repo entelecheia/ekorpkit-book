{
 "cells": [
  {
   "cell_type": "markdown",
   "id": "cfdc61fb",
   "metadata": {},
   "source": [
    "# Transformers\n",
    "\n",
    "[On Transformers, TimeSformers, And Attention](https://www.topbots.com/transformers-timesformers-and-attention/)\n",
    "\n",
    "![](../figs/deep_nlp/transformers/entelecheia_transformers.png)"
   ]
  },
  {
   "cell_type": "markdown",
   "id": "66d50cc3",
   "metadata": {},
   "source": [
    "Transformers are a very powerful Deep Learning model that has been able to become a standard in many Natural Language Processing tasks and is poised to revolutionize the field of Computer Vision as well.\n",
    "\n",
    "- Google Brain published the paper \"Attention Is All You Need\" in 2017 {cite}`vaswani2017attention`.\n",
    "- The paper introduced the Transformer model, which is a deep learning model that is able to perform well on many NLP tasks.\n",
    "- The model is based on the idea of attention, which is a way of focusing on certain parts of the input.\n",
    "- The model is able to perform well on many NLP tasks, including machine translation, summarization, and question answering.\n",
    "- The model is also able to perform well on many other tasks, including image classification and speech recognition.\n"
   ]
  },
  {
   "cell_type": "markdown",
   "id": "a74dcc26",
   "metadata": {},
   "source": [
    "![](../figs/deep_nlp/transformers/transformers-history.jpeg)"
   ]
  },
  {
   "cell_type": "markdown",
   "id": "35611272",
   "metadata": {},
   "source": [
    "In 2020, Google Brain asks \"will they be as effective on images?\"\n",
    "\n",
    "- The paper \"An Image is Worth 16x16 Words: Transformers for Image Recognition at Scale\" {cite}`dosovitskiy2020image` was published in 2020.\n",
    "- The model is able to perform well on many Computer Vision tasks, including image classification and object detection.\n",
    "\n",
    "At the beginning of 2021, Facebook researchers published a new version of the Transformers model, called TimeSformer.\n",
    "\n",
    "- The paper \"Is space-time attention all you need for video understanding?\" {cite}`bertasius2021space` was published in 2021.\n"
   ]
  },
  {
   "cell_type": "markdown",
   "id": "fa86b577",
   "metadata": {},
   "source": [
    "## Why do we need transformers?\n",
    "\n",
    "What are the problems with the previous models?\n",
    "\n",
    "- The previous models were based on Recurrent Neural Networks (RNNs).\n",
    "- RNNs are able to process sequences of data, such as text or audio.\n",
    "- One of the main problems is its sequential operation.\n",
    "- The model needs to process the input sequentially, which means that it needs to process the first word, then the second word, and so on.\n",
    "- This sequential operation makes it difficult to parallelize the model.\n",
    "- There are also other problems such as gradient explosion, inability to detect dependencies between distant words in the same sentence, and so on."
   ]
  },
  {
   "cell_type": "markdown",
   "id": "b1603f04",
   "metadata": {},
   "source": [
    " For example, to translate a sentence from English to Italian, with this type of networks, the first word of the sentence to be translated was passed into an encoder together with an initial state, and the next state was then passed into a second encoder with the second word of the sentence, and so on until the last word. The resulting state from the last encoder is then passed to a decoder that returns as output both the first translated word and a subsequent state, which is passed to another decoder, and so on.\n",
    "\n",
    " ![](../figs/deep_nlp/transformers/problem-rnn.gif)"
   ]
  },
  {
   "cell_type": "markdown",
   "id": "a7850332",
   "metadata": {},
   "source": [
    "## Attention is all you need?\n",
    "\n",
    "Is there a mechanism that we can compute in a parallelized manner that allows us to extract the information we need from the sentence? \n",
    "\n",
    "![](../figs/deep_nlp/transformers/attention.gif)"
   ]
  },
  {
   "cell_type": "markdown",
   "id": "95d56947",
   "metadata": {},
   "source": [
    "> `I gave my dog Charlie some food.`\n",
    "\n",
    "- Focusing on the word “gave,” what other words in the sentence should we pay attention on to add context to the word “gave”?\n",
    "- You might ask yourself, “Who gave the food to the dog?”\n",
    "- In this case, the attention mechanism would focus on the words “I.”\n",
    "- If you were to ask yourself, “To whom did I give the food?”\n",
    "- The attention mechanism would focus on the words “dog” and “Charlie.”\n",
    "- If you were to ask yourself, “What did I give to the dog?”\n",
    "- The attention mechanism would focus on the words “food.”"
   ]
  },
  {
   "cell_type": "markdown",
   "id": "934872e2",
   "metadata": {},
   "source": [
    "### How do we implement this attention mechanism?\n",
    "\n",
    "- To understand the computation of attention we can draw parallels to the world of databases.\n",
    "- When we do a search in the database we submit a query (Q) and we search among the available data for one or more keys that satisfy the query.\n",
    "- The keys are the words in the sentence and the query is the word we want to focus on.\n",
    "- The result of the search is the value of the key that satisfies the query.\n"
   ]
  },
  {
   "cell_type": "markdown",
   "id": "d044f4f5",
   "metadata": {},
   "source": [
    "![](../figs/deep_nlp/transformers/attention-calculate.gif)"
   ]
  },
  {
   "cell_type": "markdown",
   "id": "c6fc9f13",
   "metadata": {},
   "source": [
    "- We begin by looking at the sentence on which to compute attention as a set of vectors.\n",
    "- Each word, via a word embedding mechanism, is encoded into a vector K.\n",
    "- These vectors are the keys to search for with respect to a query.\n",
    "- A query is a vector Q that represents the word we want to focus on.\n",
    "- The query could be a word from the same sentence (self-attention) or a word from another sentence (cross-attention).\n",
    "- When then compute the similarity between the query Q and each of the available keys K.\n",
    "- The similarity is computed by multiplying the query Q by the transpose of the keys K.\n",
    "- The result of this operation is a vector of scores that represent the similarity between the query and each of the keys.\n",
    "- The scores are then normalized to obtain a probability distribution by applying the softmax function.\n",
    "- The result of the softmax function is a vector of probabilities that represent the attention weights.\n",
    "- The attention weights are then multiplied by the sentence vector, which is a vector of the same dimension as the keys, where each value represents the word in the sentence.\n",
    "- The result of this operation is a vector that represents the context of the word we want to focus on.\n",
    "- The context vector C is a vector of the same dimensionality as the keys K, where each element is a weighted sum of the keys K.\n",
    "- The context vector C is then passed to a linear layer, which is a fully connected layer, to obtain the final result of the attention mechanism.\n"
   ]
  },
  {
   "cell_type": "markdown",
   "id": "3a76a477",
   "metadata": {},
   "source": [
    "![](../figs/deep_nlp/transformers/attention-focus.jpeg)"
   ]
  },
  {
   "cell_type": "markdown",
   "id": "1350d4f5",
   "metadata": {},
   "source": [
    "- Each vector represents a word in the sentence.\n",
    "- The word we want to focus on is represented by the vector Q.\n",
    "- We then compute the similarity between the vector Q and each of the vectors in the sentence.\n",
    "- The similarity is computed by multiplying the vector Q by the vector of each word in the sentence.\n",
    "- The result of the multiplication is a scalar value that represents the similarity between the vector Q and the vector of the word in the sentence.\n",
    "- The scalar value is then passed through a softmax function, which normalizes the values between 0 and 1.\n",
    "- The result of the softmax function is the attention vector.\n",
    "- The attention vector is a vector of the same size as the sentence, where each value represents the attention that should be given to each word in the sentence.\n",
    "- The attention vector is then multiplied by the sentence vector, which is a vector of the same size as the sentence, where each value represents the word in the sentence.\n",
    "- The result of the multiplication is a vector of the same size as the sentence, where each value represents the weighted sum of the words in the sentence.\n",
    "- The weighted sum is then passed through a linear layer, which is a fully connected layer, to obtain the final result."
   ]
  },
  {
   "cell_type": "markdown",
   "id": "c07e7468",
   "metadata": {},
   "source": [
    "### Multi-head attention\n",
    "\n",
    "This mechanism would be sufficient if we wanted to focus on a single word. However, we want to focus on from several points of view.\n",
    "\n",
    "- With a simliar mechanism, we can use multiple keys to focus on different words in the sentence.\n",
    "- The results are then concatenated to obtain a single, summarized vector of all the attention mechanisms.\n",
    "- This mechanism is called multi-head attention."
   ]
  },
  {
   "cell_type": "markdown",
   "id": "bb74d063",
   "metadata": {},
   "source": [
    "![](../figs/deep_nlp/transformers/attention-multihead.jpeg)"
   ]
  },
  {
   "cell_type": "markdown",
   "id": "332a847d",
   "metadata": {},
   "source": [
    "## Tranformer Architecture\n",
    "\n",
    "The Transformer architecture is composed of two main components: the encoder and the decoder.\n",
    "\n",
    "![](../figs/deep_nlp/transformers/transformer-architecture.gif)"
   ]
  },
  {
   "cell_type": "markdown",
   "id": "21460df4",
   "metadata": {},
   "source": [
    "Consider a transformer model that is trained to translate a sentence from English to Italian.\n",
    "\n",
    "- The encoder is responsible for encoding the input sentence into a vector.\n",
    "- The encoder takes as input a sentence in English and returns a vector.\n",
    "- Unlike the RNN, the encoder does not need to process the sentence sequentially.\n",
    "- Before passing the sentence to the encoder, the sentence is first tokenized into words.\n",
    "- Each word is then passed through a word embedding mechanism to obtain a vector.\n",
    "- Before proceeding with the attention computation, the vectors are combined with a positional encoding vector.\n",
    "- The positional encoding vector is a vector of the same size as the word embedding vector, where each value represents the position of the word in the sentence based on sine and cosine functions.\n",
    "- This is important because the order of the words in the sentence is more than relevant and this information is required to understand the meaning of the sentence.\n",
    "- The result of the addition is then passed to the multi-head attention mechanism.\n",
    "- The result is normalized and passed to a feed-forward neural network.\n",
    "- The encoding can be repeated multiple times to obtain a more detailed representation of the sentence."
   ]
  },
  {
   "cell_type": "markdown",
   "id": "84eb086f",
   "metadata": {},
   "source": [
    "- The decoder is responsible for decoding the vector into a sentence in Italian.\n",
    "- The decoder takes as input the output of the encoder and returns a sentence in Italian.\n",
    "- Assume that we have already translated the first two words and we want to predict the third word of the sentence in Italian.\n",
    "- The decoder takes as input the first two words of the sentence in Italian and the output of the encoder.\n",
    "- The positional encoding and multi-head attention mechanisms are applied to the first two words of the sentence in Italian.\n",
    "- The result is then concatenated with the output of the encoder.\n",
    "- The attention is recalculated on the concatenated vector.\n",
    "- The result is normalized and passed to a feed-forward neural network.\n",
    "- The result will be a vector of potential candidates for the third word of the sentence in Italian.\n",
    "- In the next iteration, the decoder will take as input the first three words of the sentence in Italian and the output of the encoder."
   ]
  },
  {
   "cell_type": "markdown",
   "id": "75292edb",
   "metadata": {},
   "source": [
    "![](../figs/deep_nlp/transformers/transformer-best.jpeg)"
   ]
  },
  {
   "cell_type": "markdown",
   "id": "9daaf4d9",
   "metadata": {},
   "source": [
    "## Problems with the Transformer architecture\n",
    "\n",
    "![](../figs/deep_nlp/transformers/transformer-problem.gif)"
   ]
  },
  {
   "cell_type": "markdown",
   "id": "5a1e555f",
   "metadata": {},
   "source": [
    "The Transformer architecture is a very powerful architecture, but it has some problems.\n",
    "\n",
    "- One of its strengths is also its weakness, the calculation of attention is very expensive.\n",
    "- The attention mechanism is very expensive because it requires a lot of computation.\n",
    "- In order to calculate the attention of each word with respect to all the others I have to perform $N^2$ calculations.\n",
    "- Graphically you can imagine a matrix that has to be filled with the attention values of each word compared to any other word.\n",
    "- Optionally and usually on the decoder, it is possible to calculate the masked attention to avoid the calculation of the attention of a word with respect to the following words.\n",
    "- The masked attention is a mechanism that allows you to calculate the attention of a word with respect to the previous words."
   ]
  },
  {
   "cell_type": "markdown",
   "id": "ffd4a1db",
   "metadata": {},
   "source": [
    "![](../figs/deep_nlp/transformers/transformer-N2.gif)"
   ]
  },
  {
   "cell_type": "markdown",
   "id": "c667bb31",
   "metadata": {},
   "source": [
    " ## Attention Is Not All You Need\n",
    "\n",
    "In March 2021, Google researchers published a paper titled, \"Attention Is Not All You Need\" {cite}`dong2021attention`.\n",
    "\n",
    "- The researchers conducted experiments analyzing the behaviour of the self-attention mechanism conducted without any of the other components of the transformers.\n",
    "- They found that it converges to a rank 1 matrix with a doubly exponential rate.\n",
    "- This means that this mechanism, by itself, is practically useless.\n",
    "\n",
    "### So why are transformers so powerful?\n",
    "\n",
    "- The researchers found that the self-attention mechanism is not the only component that makes transformers so powerful.\n",
    "- It is due to a tug of war between the self-attention mechanism that tends to reduce the rank of the matrix and two other components of transformers, skip connections and MLP.\n",
    "- The skip connections allow the model to diversify the distribution of paths avoiding all the same path.\n",
    "- This drastically reduces the probability of the model converging to a rank 1 matrix.\n",
    "- The MLP instead manages to increase the rank of the matrix due to the non-linearity of the activation function.\n",
    "- Therefore, attention is not all you need, but it is necessary to have skip connections and MLP to make transformers powerful.\n",
    "- The transformer architecture manages to use the self-attention mechanism to its advantage to achieve impressive results."
   ]
  },
  {
   "cell_type": "markdown",
   "id": "0b94eb11",
   "metadata": {},
   "source": [
    "![](../figs/deep_nlp/transformers/transformer-tug-of-war.jpeg)"
   ]
  },
  {
   "cell_type": "markdown",
   "id": "41eac4dd",
   "metadata": {},
   "source": [
    "## Vision Transformers\n",
    "\n",
    "\"If Transformers have been found to be so effective in the field of Natural Language Processing, how will they perform with images?\"\n",
    "\n",
    "![](../figs/deep_nlp/transformers/vit.jpeg)"
   ]
  },
  {
   "cell_type": "markdown",
   "id": "203a5d45",
   "metadata": {},
   "source": [
    "If we consider a picture of a dog standing in front of a wall, we can imagine that the dog is the main subject of the picture and the wall is the background.\n",
    "\n",
    "- This is because we are focusing on the dominant subject of the picture.\n",
    "- This is the same concept that we use to understand the meaning of a sentence.\n",
    "- This is exactly what the self-attention mechanism applied to images does."
   ]
  },
  {
   "cell_type": "markdown",
   "id": "e56a5851",
   "metadata": {},
   "source": [
    "### How to input images into a transformer?\n",
    "\n",
    "- A first solution would be to use all the pixels of the image and pass them to the transformer.\n",
    "- This solution is not very efficient because it would require a lot of computation.\n",
    "- The calculation of attention has a complexity equal to $O(N^2)$, where $N$ is the number of pixels.\n",
    "- This means that the calculation of attention would require $O(N^4)$ calculations.\n",
    "- This is not a viable solution because it would require a lot of computation.\n",
    "\n",
    "\n",
    "![](../figs/deep_nlp/transformers/vit-pixels.gif)"
   ]
  },
  {
   "cell_type": "markdown",
   "id": "7a5a5429",
   "metadata": {},
   "source": [
    "The solution is simple.\n",
    "\n",
    "- The image is divided into patches.\n",
    "- Each patch is converted into a vector using a linear projection.\n",
    "\n",
    "![](../figs/deep_nlp/transformers/vit-projection.gif)"
   ]
  },
  {
   "cell_type": "markdown",
   "id": "42763b15",
   "metadata": {},
   "source": [
    "## Vision Transformer Architecture\n",
    "\n",
    "- Vectors obtained from a linear projection are then coupled with positional encoding vectors.\n",
    "- The result is then passed to a classic transformer architecture.\n",
    "- The result is a vector that represents the image.\n",
    "- The vector is then passed to a classifier to obtain the final result.\n",
    "\n",
    "![](../figs/deep_nlp/transformers/vit-architecture.gif)"
   ]
  },
  {
   "cell_type": "markdown",
   "id": "49179fc8",
   "metadata": {},
   "source": [
    "## Transformer in Transformer\n",
    "\n",
    "In the transition from patch to vector, any kind of information about the position of pixels in the patch is lost. Is it possible to find a better way to get the vectors to submit to the transformer?\n",
    "\n",
    "The authors of Transformer in Transformer (TnT) {cite}`han2021transformer` point out because the arrangement of pixels within a portion of the image to be analyzed is certain information we would not want to lose in order to make a quality prediction.\n",
    "\n",
    "- Their proposal is then to take each individual patch (pxp) of the image, which are themselves images on 3 RGB channels, and transform it into a c-channel tensor. \n",
    "- This tensor is then divided into $p^\\prime$ parts with $p^\\prime<p$, in the example $p^\\prime=4$. \n",
    "- This yields $p’$ vectors in $c$ dimensions. \n",
    "- These vectors now contain information about the arrangement of pixels within the patch.\n",
    "- They are then concatenated and linearly projected in order to make them the same size as the vector obtained from the linear projection of the original patch and combined with it.\n",
    "- By doing this the authors have managed to further improve performance on various computer vision tasks.\n"
   ]
  },
  {
   "cell_type": "markdown",
   "id": "66831e1a",
   "metadata": {},
   "source": [
    "![](../figs/deep_nlp/transformers/tnt.gif)"
   ]
  },
  {
   "cell_type": "markdown",
   "id": "fe6a4018",
   "metadata": {},
   "source": [
    "![](../figs/deep_nlp/transformers/tnt-architecture.gif)"
   ]
  },
  {
   "cell_type": "markdown",
   "id": "168f2734",
   "metadata": {},
   "source": [
    "## TimeSformers\n",
    "\n",
    "In 2021 Facebook researchers tried to apply this architecture to video as well.\n",
    "\n",
    "- The idea is to divide the video into frames and then apply the same procedure as for images.\n",
    "- There is only one small detail that makes them different from Vision Transformers.\n",
    "- You have to take into account the temporal dimension of the video besides the spatial dimension.\n",
    "\n",
    "![](../figs/deep_nlp/transformers/timesformer-video.gif)"
   ]
  },
  {
   "cell_type": "markdown",
   "id": "3824c240",
   "metadata": {},
   "source": [
    "The authors have suggested several new attention mechanisms, from those that focus exclusively on space, used primarily as a reference point, to those that compute attention axially, scattered, or jointly between space and time.\n",
    "\n",
    "![](../figs/deep_nlp/transformers/timesformer-architecture.gif)"
   ]
  },
  {
   "cell_type": "markdown",
   "id": "1dd1b68b",
   "metadata": {},
   "source": [
    "![](../figs/deep_nlp/transformers/timesformer-attentions.jpeg)"
   ]
  },
  {
   "cell_type": "markdown",
   "id": "11f24d3a",
   "metadata": {},
   "source": [
    "- The method that has achieved the best results is Divided Space-Time Attention. \n",
    "- It consists, given a frame at instant t and one of its patches as a query, to compute the spatial attention over the whole frame and then the temporal attention in the same patch of the query but in the previous and next frame.\n",
    "- Why does this approach work so well? \n",
    "- The reason is that it learns more separate features than other approaches and is, therefore, better able to understand videos from different categories. \n",
    "\n"
   ]
  },
  {
   "cell_type": "markdown",
   "id": "6c8022aa",
   "metadata": {},
   "source": [
    "We can see this in the following visualization where each video is represented by a point in space and its colour represents the category it belongs to.\n",
    "\n",
    "![](../figs/deep_nlp/transformers/timesformer-divide.jpeg)"
   ]
  },
  {
   "cell_type": "markdown",
   "id": "cbbae7a0",
   "metadata": {},
   "source": [
    "- The authors ound that the higher the resolution the better the accuracy of the model, up to a point.\n",
    "- As for the number of frames, again as the number of frames increases, the accuracy also increases. \n",
    "- It was not possible to make tests with a higher number of frames than that shown in the graph and therefore potentially the accuracy could still improve.\n",
    "- The upper limit of this improvement is not yet known."
   ]
  },
  {
   "cell_type": "markdown",
   "id": "d8413493",
   "metadata": {},
   "source": [
    "![](../figs/deep_nlp/transformers/timesformer-resolution.jpeg)"
   ]
  },
  {
   "cell_type": "markdown",
   "id": "655b38fe",
   "metadata": {},
   "source": [
    "In Vision Transformers it is known that a larger training dataset often results in better accuracy. This was also checked by the authors on TimeSformers and again, as the number of training videos considered increases, the accuracy also increases.\n",
    "\n",
    "![](../figs/deep_nlp/transformers/timesformer-dataset.jpeg)"
   ]
  },
  {
   "cell_type": "markdown",
   "id": "340f133c",
   "metadata": {},
   "source": [
    "Transformers have just landed in the world of computer vision and seem to be more than determined to replace traditional convolutional networks or at least carve out an important role for themselves in this area.\n",
    "\n",
    "- Transformers are a powerful architecture that has revolutionized the field of Natural Language Processing.\n",
    "- They have been able to achieve impressive results in various tasks.\n",
    "- They have also been applied to other areas such as computer vision.\n",
    "- The results obtained are very promising and it is likely that they will continue to improve in the future."
   ]
  },
  {
   "cell_type": "markdown",
   "id": "17e3369a",
   "metadata": {},
   "source": [
    "## Multimodal Machine Learning\n",
    "\n",
    "Having now a single architecture capable of working with different types of data, we can now start to think about how to combine them.\n",
    "\n",
    "- This is called multimodal machine learning.\n",
    "- People are able to combine information from several sources to draw their own inferences. \n",
    "- They simultaneously receive data by observing the world around them with their eyes, but also by smelling its scents, listening to its sounds or touching its shapes.\n",
    "- This is why we are able to understand the world around us.\n",
    "- We can now try to replicate this ability in machines.\n",
    "- The problem lies in treating all the different inputs in the same way without losing information.\n",
    "- Trnasformers are a good candidate for this task.\n",
    "- They are able to process different types of data and combine them in a single architecture.\n"
   ]
  },
  {
   "cell_type": "markdown",
   "id": "eb941e63",
   "metadata": {},
   "source": [
    "## VATT: Transformers for Multimodal Self-Supervised Learning\n",
    "\n",
    "One of the most important applications of Transformers in the field of Multimodal Machine Learning is VATT {cite}`akbari2021vatt`.\n",
    "\n",
    "![](../figs/deep_nlp/transformers/vatt.gif)"
   ]
  },
  {
   "cell_type": "markdown",
   "id": "61c964de",
   "metadata": {},
   "source": []
  }
 ],
 "metadata": {
  "kernelspec": {
   "display_name": "Python 3.8.5 ('base')",
   "language": "python",
   "name": "python3"
  },
  "language_info": {
   "codemirror_mode": {
    "name": "ipython",
    "version": 3
   },
   "file_extension": ".py",
   "mimetype": "text/x-python",
   "name": "python",
   "nbconvert_exporter": "python",
   "pygments_lexer": "ipython3",
   "version": "3.8.12"
  },
  "vscode": {
   "interpreter": {
    "hash": "d4d1e4263499bec80672ea0156c357c1ee493ec2b1c70f0acce89fc37c4a6abe"
   }
  }
 },
 "nbformat": 4,
 "nbformat_minor": 5
}
