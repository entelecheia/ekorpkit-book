{
 "cells": [
  {
   "cell_type": "markdown",
   "metadata": {
    "id": "cjgz1WTcPWee"
   },
   "source": [
    "# Predicting ESG Categories and Polarities"
   ]
  },
  {
   "cell_type": "code",
   "execution_count": 1,
   "metadata": {
    "id": "BzxPwsOVPWef"
   },
   "outputs": [
    {
     "name": "stdout",
     "output_type": "stream",
     "text": [
      "0.1.31+4.g498a9bc.dirty\n"
     ]
    }
   ],
   "source": [
    "%config InlineBackend.figure_format='retina'\n",
    "import logging\n",
    "from ekorpkit import eKonf\n",
    "\n",
    "logging.basicConfig(level=logging.INFO)\n",
    "\n",
    "print(eKonf.__version__)"
   ]
  },
  {
   "cell_type": "markdown",
   "metadata": {
    "id": "it1Y0MVPXRsJ"
   },
   "source": [
    "## Build a BigKinds corpus"
   ]
  },
  {
   "cell_type": "code",
   "execution_count": 2,
   "metadata": {
    "colab": {
     "base_uri": "https://localhost:8080/",
     "height": 1000,
     "referenced_widgets": [
      "8c65a541b1424bc895a358ec8c2955d0",
      "a1f39c5fb6e14bba94948ceed945c48e",
      "df825e76b09f4b40b0f22abd96afd9ec",
      "f2ba1273dc964523a52c645113dc15dc",
      "cf589159b5844031b2c07a2941d6d767",
      "c73b1e574c6148a79e919619e5337b13",
      "c3d0d587372c4cb185f70e2106460913",
      "42bba043a42e4a408017fa0c58fc89b1",
      "eca5b19cb1a8472f9803e056dc2e3edf",
      "1eec65bd4a4f4ac3a141ebfc0abf2fd7",
      "3a91d7fbcbe94220bb5e5edc4592ea44",
      "c0249a1e6b094b28afb32aa4c8ee6241",
      "b406dade33294912b357909432006a6f",
      "466cf119d61544108f7e9fc2743f90f4",
      "895fc91e766a4c5098cef03f21722754",
      "d933287033b244eb878dd8272163edbd",
      "b6329b07e3c9478a9934f014d2586c8a",
      "147722c8b38e43f4a74a8cbc4ff80132",
      "94ade840d70c440b901f0fefca36b700",
      "bb38b9fad3f6491cb0e4f5e13a00f402",
      "6c34cf9978fd4a0ab092db70ba5ca133",
      "b530f744c9914640b388e2c9ca7164be",
      "7f49f945e79c49558b5c23e413670ca4",
      "ad250bac857e4ba191178ff7aa0f21c2",
      "76c77c45dc2146a887d1a05d05a2b07c",
      "1bb668c7534d435a9f0a55c6eafb3755",
      "c504bb84cc5c4e0a9d8f4f5715ec6a03",
      "52688fc848054b3da375b73185519df2",
      "6c105fb7575745968215abddfc42d3a4",
      "c465acff35ef43cd8aa029289509f801",
      "cdce198d7e584538987b33ed590860d3",
      "3971c7c442bc4ff0ae1148a75034e989",
      "5beee945b7ed485eb3f7c8193d9c696a",
      "92753dfdb5854e12bc66bdc60072b5a1",
      "beb1d40680394747b535f2bbbbff8d75",
      "d86836fe655f4097abfe4297b3c33f27",
      "8670c085406a45ba9dff599d8e1bcfa0",
      "c5f11d5c87964550aacd9b477f2791aa",
      "b6188d143588467e90daa1c230748456",
      "5bef610b5d5c43549f174794559298a6",
      "2e3a25b1cfa34d6fac3ce2e33831ce71",
      "83214c0e91004c57b95a17f72c9ade8e",
      "4ea44db70fc14d839ef1e36b262197f1",
      "d751a8dd2711494695545cd8309a9add",
      "5af5d75e48bb409bb0201ae9b4bcbc7a",
      "12d5551a754b4c32a714fa0fa25096a6",
      "bb6c2a38a0e147d1a73bd510d0af4f55",
      "74b643eb567b4e1baa2edeab5314bf74",
      "0cc33597c6624a2fadc0454f1347e245",
      "ea8f5b8623a4457aa5e7028bd47d8f7c",
      "5e6bf9b1fe4a4b20a892690140fd153b",
      "03468bd389d649b6a5376a225393d580",
      "4741f650996042a5822de55078e32aaf",
      "e5610d32b9434cfaad97c84dff963517",
      "747bd5269293486fa5610b5ef989ad1a",
      "0a251d38928746c1bc8e811676078c84",
      "92c9e23051b84ec5a44f4535d384ea3d",
      "745247540de84e14ad7513d479500175",
      "f59dc69320884fdebf3c128cac03d50c",
      "6d5547298c504706b47369159b47b387",
      "3f1fdfa3512c45cc93ee00d0d9a65864",
      "a4905ccd3b6948f6b9a43353c444a712",
      "6fadeb5ed8e94808b87e91a6272cfa53",
      "11475267a3ae4986b70c2282fd4a0723",
      "a83cdec6d8764baaa94eb719d94bf0cf",
      "64dcc52bf9af461d92d605f60da57c10",
      "de057a7427694ca391cde9f8244706cd",
      "d973cb22de8a4980a93e42e5b02ec1b5",
      "ee954aeeaaed48a7acaf05112897a74e",
      "1092b9c63f5c4e5fab04337f55d6272f",
      "42039657cac3411389b3103129f74c17",
      "b937fee33d684033bbf93af5c98fa59c",
      "6c3a5ec1a3ec45c789611d5820b0a97b",
      "9686d1ab402d436b90deabb87782ac28",
      "f403433bd62c42bf88cb4007300ab14f",
      "c766e4a1c63f43a3ab2803b71a05f675",
      "e6cbaaf738b44a8bb26cf5364322476d"
     ]
    },
    "id": "hEVpCETEPWeg",
    "outputId": "f544db07-b0be-4c52-ed74-15de18f741ef"
   },
   "outputs": [
    {
     "name": "stderr",
     "output_type": "stream",
     "text": [
      "INFO:ekorpkit.io.cached_path:cached path: /workspace/.cache/gdown/.16PlTKZzsLATYkoej9NrT7U5RdRR3km0c/LGENSOL/LGENSOL_20220101_.zip\n",
      "INFO:ekorpkit.ekonf:initialized batcher with <ekorpkit.utils.batch.batcher.Batcher object at 0x7f7387fba070>\n",
      "INFO:ekorpkit.io.cached_path:cached path: /workspace/.cache/gdown/.16PlTKZzsLATYkoej9NrT7U5RdRR3km0c/LGENSOL/LGENSOL_20220101_.zip\n",
      "INFO:ekorpkit.info.stat:Loading info file: ../data/bigkinds/info-bigkinds.yaml\n",
      "INFO:ekorpkit.io.file:Processing [1] files from [['*.zip']]\n",
      "INFO:ekorpkit.io.load.data:==> processing 1/1 files <==\n",
      "INFO:ekorpkit.io.file:::Extracting files from /workspace/.cache/gdown/.16PlTKZzsLATYkoej9NrT7U5RdRR3km0c/LGENSOL/LGENSOL_20220101_.zip with zip\n"
     ]
    },
    {
     "name": "stdout",
     "output_type": "stream",
     "text": [
      "{'category': 'formal',\n",
      " 'column_info': {'columns': {'id': 'id',\n",
      "                             'merge_meta_on': None,\n",
      "                             'text': 'text',\n",
      "                             'timestamp': None},\n",
      "                 'data': {'id': 'int', 'text': 'str'},\n",
      "                 'datetime': {'_parms_': None, 'format': None, 'key': None},\n",
      "                 'keys': {'id': 'id',\n",
      "                          'split': 'split',\n",
      "                          'text': 'text',\n",
      "                          'timestamp': 'timestamp'},\n",
      "                 'meta': {'category': 'str',\n",
      "                          'code': 'str',\n",
      "                          'date': 'str',\n",
      "                          'filename': 'str',\n",
      "                          'id': 'int'},\n",
      "                 'segment_separator': '\\\\n\\\\n',\n",
      "                 'sentence_separator': '\\\\n',\n",
      "                 'timestamp': {'_parms_': None, 'format': None, 'key': None}},\n",
      " 'data_files': {'train': 'bigkinds-train.parquet'},\n",
      " 'data_files_modified': '2022-05-28 07:43:27',\n",
      " 'description': 'Korean News Dataset from Big Kinds',\n",
      " 'fullname': 'Korean News Dataset from Big Kinds',\n",
      " 'homepage': 'https://www.bigkinds.or.kr',\n",
      " 'info_updated': '2022-05-28 07:43:27',\n",
      " 'lang': 'ko',\n",
      " 'meta_files': {'train': 'meta-bigkinds-train.parquet'},\n",
      " 'meta_files_modified': '2022-05-28 07:43:25',\n",
      " 'name': 'bigkinds',\n",
      " 'num_bytes_before_processing': 592303,\n",
      " 'num_docs': 233,\n",
      " 'num_docs_before_processing': 233,\n",
      " 'num_segments': 1616,\n",
      " 'num_sents': 1744,\n",
      " 'num_words': 53034,\n",
      " 'size_in_bytes': 590180,\n",
      " 'size_in_human_bytes': '576.35 KiB',\n",
      " 'splits': {'train': {'data_file': 'bigkinds-train.parquet',\n",
      "                      'dataset_name': 'bigkinds',\n",
      "                      'human_bytes': '576.35 KiB',\n",
      "                      'human_bytes_wospc': '521.73 KiB',\n",
      "                      'meta_file': 'meta-bigkinds-train.parquet',\n",
      "                      'name': 'train',\n",
      "                      'num_bytes': 590180,\n",
      "                      'num_bytes_before_processing': 592303,\n",
      "                      'num_bytes_max': 6813,\n",
      "                      'num_bytes_median': 2405,\n",
      "                      'num_bytes_min': 310,\n",
      "                      'num_bytes_wospc': 534252,\n",
      "                      'num_docs': 233,\n",
      "                      'num_docs_before_processing': 233,\n",
      "                      'num_segments': 1616,\n",
      "                      'num_segments_median': 7,\n",
      "                      'num_sents': 1744,\n",
      "                      'num_sents_median': 7,\n",
      "                      'num_words': 53034,\n",
      "                      'num_words_max': 646,\n",
      "                      'num_words_median': 214,\n",
      "                      'num_words_min': 11}},\n",
      " 'version': '1.0.0'}\n"
     ]
    },
    {
     "name": "stderr",
     "output_type": "stream",
     "text": [
      "INFO:ekorpkit.corpora.build: >> elapsed time to load and parse data: 0:00:00.238983\n",
      "INFO:ekorpkit.corpora.build:\n",
      "Transforming dataframe with pipeline: ['split_column', 'eval_columns', 'reset_index', 'save_metadata']\n"
     ]
    },
    {
     "name": "stdout",
     "output_type": "stream",
     "text": [
      "{'filename': '02100201.20220328092219001.txt', 'text': \"[머니투데이 이상수 MTN PD]\\n\\n\\n▶▶▶ 오늘 증시 MBTI\\n\\n이재상 어드바이저 [압축된 순환매] 시장\\n이달해 어드바이저 [지수 반등 속 테마의 순환매] 시장\\n\\n\\n▶▶▶ 성공투자 국민투표\\n\\n▶ 이재상 어드바이저\\n\\n- 로봇주\\n- 이미 오른 종목보다 ‘숨은 종목’ 공략\\n\\n▶ 이달해 어드바이저\\n\\n- 경구용 치료제주\\n- '매집' 이후 조정 종목 분할 매수 전략\\n\\n\\n▶▶▶ 유망주 클라쓰\\n\\n▶ 이재상 어드바이저\\n\\nLG에너지솔루션(373220)\\n\\n- 기관(연기금)의 집중 매수 유입\\n- 테슬라향 원통형 전지 수요 강세\\n- 1분기 예상 매출액, 컨센서스 상회 예상\\n- 북미 대규모 배터리 투자…총 6.5조 원 투입\\n\\n\\n▶ 이달해 어드바이저\\n\\n에이치피오(357230)\\n\\n- 中 한자녀 정책 폐지 수혜 전망\\n- 'K-영ㆍ유아용품', 中에서 인기\\n- 지난해 4분기 매출액, 역대 최대 경신\\n- 2024년 中 영ㆍ유아산업 시장 규모 1,000조 원 전망\\n\\n\\n\\n* 이 방송은 머니투데이방송 홈페이지 및 케이블방송에서 라이브로 시청하실 수 있습니다. 또한 방송 종료 후에는 인터넷 다시보기로 시청하실 수 있습니다.\\n\", 'category': '경제>증권_증시 | IT_과학>IT_과학일반', <_Keys.SPLIT: 'split'>: 'train'}\n",
      "                         filename  \\\n",
      "0  02100201.20220328092219001.txt   \n",
      "1  02100311.20220126172142001.txt   \n",
      "2  02100311.20220127091053001.txt   \n",
      "3  02100311.20220127091055001.txt   \n",
      "4  02100311.20220127091239001.txt   \n",
      "\n",
      "                                                text  \\\n",
      "0  [머니투데이 이상수 MTN PD]\\n\\n\\n▶▶▶ 오늘 증시 MBTI\\n\\n이재상 ...   \n",
      "1  <유가증권>\\n\\n\\n▲신주배정기준일=대한전선(001440)(유상) ▲보통주추가상장...   \n",
      "2  사상 최대 규모의 기업공개(IPO) ‘초대어’ LG에너지솔루션(373220)이 코스...   \n",
      "3  LG에너지솔루션(373220)(LG엔솔)이 27일 코스피 입성 첫 날 SK하이닉스를...   \n",
      "4  사상 최대 규모의 기업공개(IPO) ‘초대어’ LG에너지솔루션(373220)이 코스...   \n",
      "\n",
      "                       category _Keys.SPLIT  \n",
      "0      경제>증권_증시 | IT_과학>IT_과학일반       train  \n",
      "1      경제>증권_증시 | 지역>경남 | 지역>전남       train  \n",
      "2   경제>자원 | 경제>증권_증시 | IT_과학>과학       train  \n",
      "3  경제>증권_증시 | 경제>금융_재테크 | 경제>자원       train  \n",
      "4   IT_과학>과학 | 경제>유통 | 경제>증권_증시       train  \n",
      "(233, 4)\n"
     ]
    },
    {
     "name": "stderr",
     "output_type": "stream",
     "text": [
      "INFO:ekorpkit.pipelines.pipe:Applying pipeline: OrderedDict([('split_column', 'split_column'), ('eval_columns', 'eval_columns'), ('reset_index', 'reset_index'), ('save_metadata', 'save_metadata')])\n",
      "INFO:ekorpkit.ekonf:Applying pipe: functools.partial(<function split_column at 0x7f7387a1d790>)\n",
      "INFO:ekorpkit.pipelines.pipe:Split column: {'_func_': {'_partial_': True, '_target_': 'ekorpkit.pipelines.pipe.split_column'}, 'source': 'filename', 'target': ['code', 'date', 'ext'], 'split': {'pat': '.', 'n': -1, 'expand': True}, 'verbose': True}\n",
      "INFO:ekorpkit.ekonf:Applying pipe: functools.partial(<function eval_columns at 0x7f7387a1d820>)\n",
      "INFO:ekorpkit.pipelines.pipe:Eval columns: {'_func_': {'_partial_': True, '_target_': 'ekorpkit.pipelines.pipe.eval_columns'}, 'expressions': {'date': \"df.date.str[:4] + '-' + df.date.str[4:6] + '-' + df.date.str[6:8] + ' ' + df.date.str[8:10] + ':' + df.date.str[10:12] + ':' + df.date.str[12:14]\"}, 'engine': 'python', 'eval_at': 'python', 'verbose': True}\n",
      "INFO:ekorpkit.ekonf:Applying pipe: functools.partial(<function reset_index at 0x7f7387a1df70>)\n",
      "INFO:ekorpkit.pipelines.pipe:Resetting index: {'_func_': {'_partial_': True, '_target_': 'ekorpkit.pipelines.pipe.reset_index'}, 'index_column_name': 'id', 'drop_index': False, 'verbose': True}\n",
      "INFO:ekorpkit.ekonf:Applying pipe: functools.partial(<function save_metadata at 0x7f7387a22af0>)\n",
      "INFO:ekorpkit.pipelines.pipe:Saving metadata: {'_func_': {'_partial_': True, '_target_': 'ekorpkit.pipelines.pipe.save_metadata'}, 'filepath': '../data/bigkinds/meta-bigkinds-train.parquet', 'filetype': None, 'column_info': {'keys': {'id': 'id', 'text': 'text', 'timestamp': 'timestamp', 'split': 'split'}, 'columns': {'id': 'id', 'text': 'text', 'merge_meta_on': None, 'timestamp': None}, 'data': {'id': 'int', 'text': 'str'}, 'meta': {'id': 'int', 'date': 'str', 'code': 'str', 'category': 'str', 'filename': 'str'}, 'timestamp': {'key': None, 'format': None, '_parms_': None}, 'datetime': {'key': None, 'format': None, '_parms_': None}, 'segment_separator': '\\\\n\\\\n', 'sentence_separator': '\\\\n'}, 'split_name': 'train', 'verbose': True}\n",
      "INFO:ekorpkit.io.file:Saving dataframe as ../data/bigkinds/meta-bigkinds-train.parquet\n",
      "INFO:ekorpkit.io.file: >> elapsed time to save data: 0:00:00.011196\n",
      "INFO:ekorpkit.io.file: >> saved dataframe to ../data/bigkinds/meta-bigkinds-train.parquet\n",
      "INFO:ekorpkit.info.stat:Initializing statistics for split: train with stats: {'name': 'train', 'dataset_name': 'bigkinds', 'data_file': 'bigkinds-train.parquet', 'meta_file': 'meta-bigkinds-train.parquet'}\n"
     ]
    },
    {
     "name": "stdout",
     "output_type": "stream",
     "text": [
      "                           filename  \\\n",
      "228  02100311.20220523142323001.txt   \n",
      "229  02100311.20220523163810001.txt   \n",
      "230  02100311.20220524063126001.txt   \n",
      "231  02100311.20220524091550002.txt   \n",
      "232  02100311.20220524180717001.txt   \n",
      "\n",
      "                                                  text  \\\n",
      "228  기관 투자가의 매수세에 소폭 상승 출발한 코스피가 오후 들어 상승분을 대부분 반납하...   \n",
      "229  기관의 매수세에 코스피가 소폭 상승 마감했다. 장 초반에는 중국 금리 인하 효과가 ...   \n",
      "230  순매수 10종목중 8개 마이너스\\n개인투자자들이 최근 한 달 동안 사들인 상위 10...   \n",
      "231  77㎾h 탑재한 폭스바겐 차량\\nLG에너지솔루션(373220) 배터리가 탑재된 전기...   \n",
      "232  ■ '몸값 3조' 일진머티리얼즈 매물로\\n일진그룹이 미래 성장의 주축으로 투자해온 ...   \n",
      "\n",
      "                          category _Keys.SPLIT      code               date  \\\n",
      "228       경제>증권_증시 | 경제>외환 | 경제>유통       train  02100311  20220523142323001   \n",
      "229               경제>증권_증시 | 경제>외환       train  02100311  20220523163810001   \n",
      "230  경제>증권_증시 | 경제>금융_재테크 | 경제>부동산       train  02100311  20220524063126001   \n",
      "231  경제>자동차 | IT_과학>모바일 | IT_과학>과학       train  02100311  20220524091550002   \n",
      "232     경제>반도체 | 경제>산업_기업 | 경제>자동차       train  02100311  20220524180717001   \n",
      "\n",
      "     ext  \n",
      "228  txt  \n",
      "229  txt  \n",
      "230  txt  \n",
      "231  txt  \n",
      "232  txt  \n",
      "                           filename  \\\n",
      "228  02100311.20220523142323001.txt   \n",
      "229  02100311.20220523163810001.txt   \n",
      "230  02100311.20220524063126001.txt   \n",
      "231  02100311.20220524091550002.txt   \n",
      "232  02100311.20220524180717001.txt   \n",
      "\n",
      "                                                  text  \\\n",
      "228  기관 투자가의 매수세에 소폭 상승 출발한 코스피가 오후 들어 상승분을 대부분 반납하...   \n",
      "229  기관의 매수세에 코스피가 소폭 상승 마감했다. 장 초반에는 중국 금리 인하 효과가 ...   \n",
      "230  순매수 10종목중 8개 마이너스\\n개인투자자들이 최근 한 달 동안 사들인 상위 10...   \n",
      "231  77㎾h 탑재한 폭스바겐 차량\\nLG에너지솔루션(373220) 배터리가 탑재된 전기...   \n",
      "232  ■ '몸값 3조' 일진머티리얼즈 매물로\\n일진그룹이 미래 성장의 주축으로 투자해온 ...   \n",
      "\n",
      "                          category _Keys.SPLIT      code                 date  \\\n",
      "228       경제>증권_증시 | 경제>외환 | 경제>유통       train  02100311  2022-05-23 14:23:23   \n",
      "229               경제>증권_증시 | 경제>외환       train  02100311  2022-05-23 16:38:10   \n",
      "230  경제>증권_증시 | 경제>금융_재테크 | 경제>부동산       train  02100311  2022-05-24 06:31:26   \n",
      "231  경제>자동차 | IT_과학>모바일 | IT_과학>과학       train  02100311  2022-05-24 09:15:50   \n",
      "232     경제>반도체 | 경제>산업_기업 | 경제>자동차       train  02100311  2022-05-24 18:07:17   \n",
      "\n",
      "     ext  \n",
      "228  txt  \n",
      "229  txt  \n",
      "230  txt  \n",
      "231  txt  \n",
      "232  txt  \n",
      "   id                        filename  \\\n",
      "0   0  02100201.20220328092219001.txt   \n",
      "1   1  02100311.20220126172142001.txt   \n",
      "2   2  02100311.20220127091053001.txt   \n",
      "3   3  02100311.20220127091055001.txt   \n",
      "4   4  02100311.20220127091239001.txt   \n",
      "\n",
      "                                                text  \\\n",
      "0  [머니투데이 이상수 MTN PD]\\n\\n\\n▶▶▶ 오늘 증시 MBTI\\n\\n이재상 ...   \n",
      "1  <유가증권>\\n\\n\\n▲신주배정기준일=대한전선(001440)(유상) ▲보통주추가상장...   \n",
      "2  사상 최대 규모의 기업공개(IPO) ‘초대어’ LG에너지솔루션(373220)이 코스...   \n",
      "3  LG에너지솔루션(373220)(LG엔솔)이 27일 코스피 입성 첫 날 SK하이닉스를...   \n",
      "4  사상 최대 규모의 기업공개(IPO) ‘초대어’ LG에너지솔루션(373220)이 코스...   \n",
      "\n",
      "                       category _Keys.SPLIT      code                 date  \\\n",
      "0      경제>증권_증시 | IT_과학>IT_과학일반       train  02100201  2022-03-28 09:22:19   \n",
      "1      경제>증권_증시 | 지역>경남 | 지역>전남       train  02100311  2022-01-26 17:21:42   \n",
      "2   경제>자원 | 경제>증권_증시 | IT_과학>과학       train  02100311  2022-01-27 09:10:53   \n",
      "3  경제>증권_증시 | 경제>금융_재테크 | 경제>자원       train  02100311  2022-01-27 09:10:55   \n",
      "4   IT_과학>과학 | 경제>유통 | 경제>증권_증시       train  02100311  2022-01-27 09:12:39   \n",
      "\n",
      "   ext  \n",
      "0  txt  \n",
      "1  txt  \n",
      "2  txt  \n",
      "3  txt  \n",
      "4  txt  \n"
     ]
    },
    {
     "data": {
      "application/vnd.jupyter.widget-view+json": {
       "model_id": "f9fef3f4f1d549df99d9f1654dedddb0",
       "version_major": 2,
       "version_minor": 0
      },
      "text/plain": [
       "apply len_bytes to num_bytes:   0%|          | 0/233 [00:00<?, ?it/s]"
      ]
     },
     "metadata": {},
     "output_type": "display_data"
    },
    {
     "data": {
      "application/vnd.jupyter.widget-view+json": {
       "model_id": "1442372b3dc541a5852508c9e048922e",
       "version_major": 2,
       "version_minor": 0
      },
      "text/plain": [
       "apply len_sents to num_sents:   0%|          | 0/233 [00:00<?, ?it/s]"
      ]
     },
     "metadata": {},
     "output_type": "display_data"
    },
    {
     "name": "stderr",
     "output_type": "stream",
     "text": [
      "INFO:ekorpkit.info.stat: >> elapsed time to calculate statistics before processing: 0:00:00.075149\n",
      "INFO:ekorpkit.info.stat: >> updated splits: {'train': {'name': 'train', 'dataset_name': 'bigkinds', 'data_file': 'bigkinds-train.parquet', 'meta_file': 'meta-bigkinds-train.parquet', 'num_docs_before_processing': 233, 'num_bytes_before_processing': 592303, 'num_sents': 1977}}\n",
      "INFO:ekorpkit.corpora.build:\n",
      "Processing dataframe with pipeline: ['normalize', 'filter_length', 'drop_duplicates', 'save_samples', 'save_dataframe']\n",
      "INFO:ekorpkit.pipelines.pipe:Applying pipeline: OrderedDict([('normalize', 'normalize'), ('filter_length', 'filter_length'), ('drop_duplicates', 'drop_duplicates'), ('save_samples', 'save_samples'), ('save_dataframe', 'save_dataframe')])\n",
      "INFO:ekorpkit.ekonf:Applying pipe: functools.partial(<function normalize at 0x7f7387a22040>)\n",
      "INFO:ekorpkit.pipelines.pipe:instantiating normalizer\n"
     ]
    },
    {
     "data": {
      "application/vnd.jupyter.widget-view+json": {
       "model_id": "d142007532aa476a91300b97961191b8",
       "version_major": 2,
       "version_minor": 0
      },
      "text/plain": [
       "Normalizing column: text:   0%|          | 0/233 [00:00<?, ?it/s]"
      ]
     },
     "metadata": {},
     "output_type": "display_data"
    },
    {
     "name": "stderr",
     "output_type": "stream",
     "text": [
      "INFO:ekorpkit.pipelines.pipe: >> elapsed time to normalize: 0:00:00.786117\n",
      "INFO:ekorpkit.ekonf:Applying pipe: functools.partial(<function filter_length at 0x7f7387a225e0>, len_bytes={'_partial_': True, '_target_': 'ekorpkit.utils.func.len_bytes'}, len_words={'_partial_': True, '_target_': 'ekorpkit.utils.func.len_words'})\n",
      "INFO:ekorpkit.pipelines.pipe:Filtering by length: {'_func_': {'_partial_': True, '_target_': 'ekorpkit.pipelines.pipe.filter_length', 'len_bytes': {'_partial_': True, '_target_': 'ekorpkit.utils.func.len_bytes'}, 'len_words': {'_partial_': True, '_target_': 'ekorpkit.utils.func.len_words'}}, 'apply_to': 'text', 'min_length': 10, 'max_length': None, 'len_func': 'len_bytes', 'verbose': True, 'use_batcher': True}\n"
     ]
    },
    {
     "data": {
      "application/vnd.jupyter.widget-view+json": {
       "model_id": "bd9facf3d1ec470da3d8d6ea03cd71a5",
       "version_major": 2,
       "version_minor": 0
      },
      "text/plain": [
       "min length: 10:   0%|          | 0/233 [00:00<?, ?it/s]"
      ]
     },
     "metadata": {},
     "output_type": "display_data"
    },
    {
     "name": "stderr",
     "output_type": "stream",
     "text": [
      "INFO:ekorpkit.pipelines.pipe:0 of 233 documents removed due to length is less than 10\n",
      "INFO:ekorpkit.pipelines.pipe: >> elapsed time to filter length: 0:00:00.021040\n",
      "INFO:ekorpkit.ekonf:Applying pipe: functools.partial(<function drop_duplicates at 0x7f7387a22700>)\n",
      "INFO:ekorpkit.pipelines.pipe:Dropping duplicates: {'_func_': {'_partial_': True, '_target_': 'ekorpkit.pipelines.pipe.drop_duplicates'}, 'apply_to': 'text', 'verbose': True}\n",
      "INFO:ekorpkit.pipelines.pipe:233 documents after dropping 0 duplicates from [['text']]\n",
      "INFO:ekorpkit.pipelines.pipe: >> elapsed time to drop duplicates: 0:00:00.003504\n",
      "INFO:ekorpkit.ekonf:Applying pipe: functools.partial(<function save_samples at 0x7f7387a22790>)\n",
      "INFO:ekorpkit.pipelines.pipe:Saving samples: {'_func_': {'_partial_': True, '_target_': 'ekorpkit.pipelines.pipe.save_samples'}, 'apply_to': 'text', 'num_samples_to_save': 2, 'smaple_file_prfix': None, 'sample_length_to_print': 1000, 'verbose': True, 'sample_file_prefix': '../data/bigkinds/sample-bigkinds-train'}\n",
      "INFO:ekorpkit.pipelines.pipe:Saved 2 samples to ../data/bigkinds/sample-bigkinds-train.txt\n",
      "INFO:ekorpkit.ekonf:Applying pipe: functools.partial(<function save_dataframe at 0x7f7387a22b80>)\n",
      "INFO:ekorpkit.io.file:Saving dataframe as ../data/bigkinds/bigkinds-train.parquet\n",
      "INFO:ekorpkit.io.file: >> elapsed time to save data: 0:00:00.035875\n",
      "INFO:ekorpkit.io.file: >> saved dataframe to ../data/bigkinds/bigkinds-train.parquet\n",
      "INFO:ekorpkit.info.stat:Calculating statistics for split: train\n"
     ]
    },
    {
     "name": "stdout",
     "output_type": "stream",
     "text": [
      "----------------------------------------------------------------------------------------------------\n",
      "\n",
      "text: \n",
      "[미래에셋증권 엠클럽 집계]\n",
      "미래에셋증권에서 거래하는 고수익 투자자들이 7일 오전 가장 많이 사고 판 종목은 일동제약(249420)으로 집계됐다. 이외 에스디바이오센서(137310), LG에너지솔루션(373220), LG이노텍(011070), 팜스빌에도 매수세가 몰렸다.\n",
      "\n",
      "\n",
      "이날 미래에셋엠클럽에 따르면 미래에셋증권 주식 거래 고객 중 최근 1개월 간 투자 수익률 상위 1%에 해당하는 '주식 초고수'들이 오전 11시까지 가장 많이 사들인 종목은 일동제약이었다.\n",
      "\n",
      "\n",
      "일동제약은 이날 래피젠과 신속항원검사 키트인 '바이오크레딧 코비드-19 Ag'에 대한 공급 계약을 체결했다는 소식에 급등하고 있다. 이번 계약에 따라 일동제약은 바이오크레딧 코비드-19 Ag의 병·의원 유통을 담당하게 된다. 양사는 약국에서 구매할 수 있는 자가검사 키트 유통에 대해서도 추가 논의를 진행 중이다.?바이오크레딧 코비드-19 Ag는 래피젠이 개발한 전문가용 코로나 항원검사키트로, 피검사자 비인두 도말 검체에서 SARS-CoV-2항원을 면역크로마토그래피 방식으로 판별해 코로나19 감염 진단에 도움을 주는 체외 진단 의료기기다.\n",
      "\n",
      "\n",
      "매수 2위는 에스디바이오센서다 코로나19 진단검사 체계 전환으로 신속항원검사 키트 수요가 급증할 것이라는 전망에 투자자들의 이목을 끌고 있다. 방역 당국은 오미크론 발 검사 수요 급증하자 지난 3일부터 60대 고령자 등 우선 검사 대상자는 PCR(유전자 증폭)검사를 실시하고, 나머지는 개인용 자가검사키트를 활용해 신속항원검사를 우선 실시하는 새 검사 체계를 도입했다.\n",
      "\n",
      "\n",
      "3위는 LG에너지솔루션이다. LG에너지솔루션은 미국 최대 자동차 기업이 제너럴모터스(GM)가 배터리 합작 4공장을 짓는다는 보도가 나오면서 투자심리를 북돋고 있는 것으로 풀이된다. 지난 1일(현지시각) 메리 바라 GM 회장은 4분기 실적 컨퍼런스 콜에서 \"올해 상반기 중 네 번째 배터리 합작공장 위치를 발표할 예정\"이라며 \"LG와 협력을 지속하면서 조만간 4공장 계획을 발표하겠다\"고 말했다.\n",
      "\n",
      "\n",
      "이...\n",
      "\n",
      "----------------------------------------------------------------------------------------------------\n",
      "text: \n",
      "코스피가 미국 연방준비제도(Fed·연준)의 금리인상 및 양적긴축에 대한 매파적 기조를 다시 한 번 확인하면서 약세 전환했다.\n",
      "\n",
      "\n",
      "6일 오전 10시 50분 기준 코스피 지수는 전 거래일보다 20.31포인트(0.74%) 내린 2738.89를 나타내고 있다. 이날 코스피는 전일 대비 20.13포인트(0.73%) 내린 2739.07에 출발해 2730~2740선을 답보하고 있다.\n",
      "\n",
      "\n",
      "유가증권시장에선 개인이 홀로 4829억 원을 순매수하고 있다. 반면 외국인과 기관은 2171억 원, 2653억 원을 팔며 지수 하방 압력을 가하고 있다.\n",
      "\n",
      "\n",
      "전날 미 연준 인사들의 매파적 발언이 이어지면서 금리 인상에 대한 경계심이 재확산되고 있는 것으로 분석된다. 전날 성장주들을 중심으로 차익실현 매물이 쏟아지며 나스닥 지수가 급락한 점 역시 국내 증시 하락세에 영향을 미친 것으로 보인다. 이날 한지영 키움증권 연구원은 \"국내 증시가 미국 증시에 비해 3월 중순 주가 복원력이 크지 않았던 만큼, 전반적인 지수 하방 압력은 제한된 채 인플레이션, 금리, 중국 등 개별 이슈에 따른 차별화된 장세를 보일 것\"이라고 분석했다.\n",
      "\n",
      "\n",
      "코스피 시가총액 상위 10위권은 대부분이 약세를 기록하고 있다. LG에너지솔루션(373220)(-1.67%), SK하이닉스(000660)(-2.58%), 삼성전자(005930)(-0.72%)의 낙폭이 비교적 크다.\n",
      "\n",
      "\n",
      "같은 시각 코스닥 지수는 전일 대비 7.72포인트(0.81%) 내린 947.5를 기록 중이다. 이날 코스닥 시장에서도 개인이 1468억 원을 사들인 한편 외국인과 기관은 각각 594억 원, 823억 원을 순매도하고 있다.\n",
      "\n",
      "\n",
      "전날 뉴욕 증시에선 3대 지수가 모두 하락 마감했다. 다우존스30산업평균지수는 전 거래일보다 280.70포인트(0.80%) 하락한 3만 4641.18에 거래를 마쳤다. 스탠더드앤드푸어스(S&P)500지수는 57.52포인트(1.26%) 빠진 4525.12에, 기술주 중심의 나스닥 지수는 328.39포인트(2.26%) 내린 1만 4204...\n",
      "\n",
      "----------------------------------------------------------------------------------------------------\n"
     ]
    },
    {
     "data": {
      "application/vnd.jupyter.widget-view+json": {
       "model_id": "4b6cc49ccabd4981828dcaacd8bb5f0c",
       "version_major": 2,
       "version_minor": 0
      },
      "text/plain": [
       "apply len_bytes to num_bytes:   0%|          | 0/233 [00:00<?, ?it/s]"
      ]
     },
     "metadata": {},
     "output_type": "display_data"
    },
    {
     "data": {
      "application/vnd.jupyter.widget-view+json": {
       "model_id": "09d4bcffd9414e66ac548564f2934fea",
       "version_major": 2,
       "version_minor": 0
      },
      "text/plain": [
       "apply len_wospc to num_bytes_wospc:   0%|          | 0/233 [00:00<?, ?it/s]"
      ]
     },
     "metadata": {},
     "output_type": "display_data"
    },
    {
     "data": {
      "application/vnd.jupyter.widget-view+json": {
       "model_id": "af012e6030c04566891646e1bf5a2a0f",
       "version_major": 2,
       "version_minor": 0
      },
      "text/plain": [
       "apply len_words to num_words:   0%|          | 0/233 [00:00<?, ?it/s]"
      ]
     },
     "metadata": {},
     "output_type": "display_data"
    },
    {
     "data": {
      "application/vnd.jupyter.widget-view+json": {
       "model_id": "f1cad13a6eec41d1be5cd7c376ca53a3",
       "version_major": 2,
       "version_minor": 0
      },
      "text/plain": [
       "apply len_sents to num_sents:   0%|          | 0/233 [00:00<?, ?it/s]"
      ]
     },
     "metadata": {},
     "output_type": "display_data"
    },
    {
     "data": {
      "application/vnd.jupyter.widget-view+json": {
       "model_id": "4e26e5e0a8344b23862c4e61ad027cb7",
       "version_major": 2,
       "version_minor": 0
      },
      "text/plain": [
       "apply len_segments to num_segments:   0%|          | 0/233 [00:00<?, ?it/s]"
      ]
     },
     "metadata": {},
     "output_type": "display_data"
    },
    {
     "name": "stderr",
     "output_type": "stream",
     "text": [
      "INFO:ekorpkit.info.stat: >> elapsed time to calculate statistics: 0:00:00.175656\n",
      "INFO:ekorpkit.info.stat:Saving updated info file: ../data/bigkinds/info-bigkinds.yaml\n",
      "INFO:ekorpkit.corpora.build:\n",
      "Corpus [bigkinds] is built to [../data/bigkinds] from [/workspace/.cache/gdown/.16PlTKZzsLATYkoej9NrT7U5RdRR3km0c/LGENSOL]\n"
     ]
    },
    {
     "name": "stdout",
     "output_type": "stream",
     "text": [
      "{'category': 'formal',\n",
      " 'column_info': {'columns': {'id': 'id',\n",
      "                             'merge_meta_on': None,\n",
      "                             'text': 'text',\n",
      "                             'timestamp': None},\n",
      "                 'data': {'id': 'int', 'text': 'str'},\n",
      "                 'datetime': {'_parms_': None, 'format': None, 'key': None},\n",
      "                 'keys': {'id': 'id',\n",
      "                          'split': 'split',\n",
      "                          'text': 'text',\n",
      "                          'timestamp': 'timestamp'},\n",
      "                 'meta': {'category': 'str',\n",
      "                          'code': 'str',\n",
      "                          'date': 'str',\n",
      "                          'filename': 'str',\n",
      "                          'id': 'int'},\n",
      "                 'segment_separator': '\\\\n\\\\n',\n",
      "                 'sentence_separator': '\\\\n',\n",
      "                 'timestamp': {'_parms_': None, 'format': None, 'key': None}},\n",
      " 'data_files': {'train': 'bigkinds-train.parquet'},\n",
      " 'data_files_modified': '2022-05-31 08:42:17',\n",
      " 'description': 'Korean News Dataset from Big Kinds',\n",
      " 'fullname': 'Korean News Dataset from Big Kinds',\n",
      " 'homepage': 'https://www.bigkinds.or.kr',\n",
      " 'info_updated': '2022-05-31 08:42:18',\n",
      " 'lang': 'ko',\n",
      " 'meta_files': {'train': 'meta-bigkinds-train.parquet'},\n",
      " 'meta_files_modified': '2022-05-31 08:42:16',\n",
      " 'name': 'bigkinds',\n",
      " 'num_bytes_before_processing': 592303,\n",
      " 'num_docs': 233,\n",
      " 'num_docs_before_processing': 233,\n",
      " 'num_segments': 1616,\n",
      " 'num_sents': 1744,\n",
      " 'num_words': 53034,\n",
      " 'size_in_bytes': 590180,\n",
      " 'size_in_human_bytes': '576.35 KiB',\n",
      " 'splits': {'train': {'data_file': 'bigkinds-train.parquet',\n",
      "                      'dataset_name': 'bigkinds',\n",
      "                      'human_bytes': '576.35 KiB',\n",
      "                      'human_bytes_wospc': '521.73 KiB',\n",
      "                      'meta_file': 'meta-bigkinds-train.parquet',\n",
      "                      'name': 'train',\n",
      "                      'num_bytes': 590180,\n",
      "                      'num_bytes_before_processing': 592303,\n",
      "                      'num_bytes_max': 6813,\n",
      "                      'num_bytes_median': 2405.0,\n",
      "                      'num_bytes_min': 310,\n",
      "                      'num_bytes_wospc': 534252,\n",
      "                      'num_docs': 233,\n",
      "                      'num_docs_before_processing': 233,\n",
      "                      'num_segments': 1616,\n",
      "                      'num_segments_median': 7.0,\n",
      "                      'num_sents': 1744,\n",
      "                      'num_sents_median': 7.0,\n",
      "                      'num_words': 53034,\n",
      "                      'num_words_max': 646,\n",
      "                      'num_words_median': 214.0,\n",
      "                      'num_words_min': 11}},\n",
      " 'version': '1.0.0'}\n"
     ]
    },
    {
     "data": {
      "text/plain": [
       "<ekorpkit.corpora.build.DatasetBuilder at 0x7f7387b11040>"
      ]
     },
     "execution_count": 2,
     "metadata": {},
     "output_type": "execute_result"
    }
   ],
   "source": [
    "cfg = eKonf.compose(config_group='corpus/builtin=bigkinds')\n",
    "cfg.data_dir = '../data/bigkinds'\n",
    "cfg.io.cache.uri = 'gd://16PlTKZzsLATYkoej9NrT7U5RdRR3km0c:LGENSOL/LGENSOL_20220101_.zip'\n",
    "cfg.io.data_dir = cfg.io.cache.path\n",
    "cfg.io.num_workers = 1\n",
    "cfg.io.overwrite = True\n",
    "cfg.verbose = True\n",
    "eKonf.instantiate(cfg)"
   ]
  },
  {
   "cell_type": "markdown",
   "metadata": {
    "id": "zpdqyeyPPWek"
   },
   "source": [
    "## Load a corpus"
   ]
  },
  {
   "cell_type": "code",
   "execution_count": 3,
   "metadata": {
    "colab": {
     "base_uri": "https://localhost:8080/"
    },
    "id": "DFsykazvPWel",
    "outputId": "7ab40ae7-42ba-4b6c-f0da-908c6d45ddb9"
   },
   "outputs": [
    {
     "name": "stderr",
     "output_type": "stream",
     "text": [
      "INFO:ekorpkit.io.file:Processing [1] files from [['bigkinds-train.parquet']]\n",
      "INFO:ekorpkit.io.file:Loading data from ../data/bigkinds/bigkinds-train.parquet\n",
      "INFO:ekorpkit.io.file:Processing [1] files from [['meta-bigkinds-train.parquet']]\n",
      "INFO:ekorpkit.io.file:Loading data from ../data/bigkinds/meta-bigkinds-train.parquet\n",
      "INFO:ekorpkit.info.column:No timestamp key found\n"
     ]
    }
   ],
   "source": [
    "corpus_cfg = eKonf.compose(config_group='corpus')\n",
    "corpus_cfg.name = 'bigkinds'\n",
    "corpus_cfg.data_dir = '../data'\n",
    "bigkinds = eKonf.instantiate(corpus_cfg)"
   ]
  },
  {
   "cell_type": "code",
   "execution_count": 4,
   "metadata": {
    "colab": {
     "base_uri": "https://localhost:8080/",
     "height": 80
    },
    "id": "66U095XOPWel",
    "outputId": "df2c487f-8ca2-4963-fd8d-84de855d5e86"
   },
   "outputs": [
    {
     "data": {
      "text/html": [
       "<div>\n",
       "<style scoped>\n",
       "    .dataframe tbody tr th:only-of-type {\n",
       "        vertical-align: middle;\n",
       "    }\n",
       "\n",
       "    .dataframe tbody tr th {\n",
       "        vertical-align: top;\n",
       "    }\n",
       "\n",
       "    .dataframe thead th {\n",
       "        text-align: right;\n",
       "    }\n",
       "</style>\n",
       "<table border=\"1\" class=\"dataframe\">\n",
       "  <thead>\n",
       "    <tr style=\"text-align: right;\">\n",
       "      <th></th>\n",
       "      <th>id</th>\n",
       "      <th>date</th>\n",
       "      <th>code</th>\n",
       "      <th>category</th>\n",
       "      <th>filename</th>\n",
       "    </tr>\n",
       "  </thead>\n",
       "  <tbody>\n",
       "    <tr>\n",
       "      <th>0</th>\n",
       "      <td>0</td>\n",
       "      <td>2022-03-28 09:22:19</td>\n",
       "      <td>02100201</td>\n",
       "      <td>경제&gt;증권_증시 | IT_과학&gt;IT_과학일반</td>\n",
       "      <td>02100201.20220328092219001.txt</td>\n",
       "    </tr>\n",
       "    <tr>\n",
       "      <th>1</th>\n",
       "      <td>1</td>\n",
       "      <td>2022-01-26 17:21:42</td>\n",
       "      <td>02100311</td>\n",
       "      <td>경제&gt;증권_증시 | 지역&gt;경남 | 지역&gt;전남</td>\n",
       "      <td>02100311.20220126172142001.txt</td>\n",
       "    </tr>\n",
       "    <tr>\n",
       "      <th>2</th>\n",
       "      <td>2</td>\n",
       "      <td>2022-01-27 09:10:53</td>\n",
       "      <td>02100311</td>\n",
       "      <td>경제&gt;자원 | 경제&gt;증권_증시 | IT_과학&gt;과학</td>\n",
       "      <td>02100311.20220127091053001.txt</td>\n",
       "    </tr>\n",
       "    <tr>\n",
       "      <th>3</th>\n",
       "      <td>3</td>\n",
       "      <td>2022-01-27 09:10:55</td>\n",
       "      <td>02100311</td>\n",
       "      <td>경제&gt;증권_증시 | 경제&gt;금융_재테크 | 경제&gt;자원</td>\n",
       "      <td>02100311.20220127091055001.txt</td>\n",
       "    </tr>\n",
       "    <tr>\n",
       "      <th>4</th>\n",
       "      <td>4</td>\n",
       "      <td>2022-01-27 09:12:39</td>\n",
       "      <td>02100311</td>\n",
       "      <td>IT_과학&gt;과학 | 경제&gt;유통 | 경제&gt;증권_증시</td>\n",
       "      <td>02100311.20220127091239001.txt</td>\n",
       "    </tr>\n",
       "    <tr>\n",
       "      <th>...</th>\n",
       "      <td>...</td>\n",
       "      <td>...</td>\n",
       "      <td>...</td>\n",
       "      <td>...</td>\n",
       "      <td>...</td>\n",
       "    </tr>\n",
       "    <tr>\n",
       "      <th>228</th>\n",
       "      <td>228</td>\n",
       "      <td>2022-05-23 14:23:23</td>\n",
       "      <td>02100311</td>\n",
       "      <td>경제&gt;증권_증시 | 경제&gt;외환 | 경제&gt;유통</td>\n",
       "      <td>02100311.20220523142323001.txt</td>\n",
       "    </tr>\n",
       "    <tr>\n",
       "      <th>229</th>\n",
       "      <td>229</td>\n",
       "      <td>2022-05-23 16:38:10</td>\n",
       "      <td>02100311</td>\n",
       "      <td>경제&gt;증권_증시 | 경제&gt;외환</td>\n",
       "      <td>02100311.20220523163810001.txt</td>\n",
       "    </tr>\n",
       "    <tr>\n",
       "      <th>230</th>\n",
       "      <td>230</td>\n",
       "      <td>2022-05-24 06:31:26</td>\n",
       "      <td>02100311</td>\n",
       "      <td>경제&gt;증권_증시 | 경제&gt;금융_재테크 | 경제&gt;부동산</td>\n",
       "      <td>02100311.20220524063126001.txt</td>\n",
       "    </tr>\n",
       "    <tr>\n",
       "      <th>231</th>\n",
       "      <td>231</td>\n",
       "      <td>2022-05-24 09:15:50</td>\n",
       "      <td>02100311</td>\n",
       "      <td>경제&gt;자동차 | IT_과학&gt;모바일 | IT_과학&gt;과학</td>\n",
       "      <td>02100311.20220524091550002.txt</td>\n",
       "    </tr>\n",
       "    <tr>\n",
       "      <th>232</th>\n",
       "      <td>232</td>\n",
       "      <td>2022-05-24 18:07:17</td>\n",
       "      <td>02100311</td>\n",
       "      <td>경제&gt;반도체 | 경제&gt;산업_기업 | 경제&gt;자동차</td>\n",
       "      <td>02100311.20220524180717001.txt</td>\n",
       "    </tr>\n",
       "  </tbody>\n",
       "</table>\n",
       "<p>233 rows × 5 columns</p>\n",
       "</div>"
      ],
      "text/plain": [
       "      id                 date      code                       category  \\\n",
       "0      0  2022-03-28 09:22:19  02100201       경제>증권_증시 | IT_과학>IT_과학일반   \n",
       "1      1  2022-01-26 17:21:42  02100311       경제>증권_증시 | 지역>경남 | 지역>전남   \n",
       "2      2  2022-01-27 09:10:53  02100311    경제>자원 | 경제>증권_증시 | IT_과학>과학   \n",
       "3      3  2022-01-27 09:10:55  02100311   경제>증권_증시 | 경제>금융_재테크 | 경제>자원   \n",
       "4      4  2022-01-27 09:12:39  02100311    IT_과학>과학 | 경제>유통 | 경제>증권_증시   \n",
       "..   ...                  ...       ...                            ...   \n",
       "228  228  2022-05-23 14:23:23  02100311       경제>증권_증시 | 경제>외환 | 경제>유통   \n",
       "229  229  2022-05-23 16:38:10  02100311               경제>증권_증시 | 경제>외환   \n",
       "230  230  2022-05-24 06:31:26  02100311  경제>증권_증시 | 경제>금융_재테크 | 경제>부동산   \n",
       "231  231  2022-05-24 09:15:50  02100311  경제>자동차 | IT_과학>모바일 | IT_과학>과학   \n",
       "232  232  2022-05-24 18:07:17  02100311     경제>반도체 | 경제>산업_기업 | 경제>자동차   \n",
       "\n",
       "                           filename  \n",
       "0    02100201.20220328092219001.txt  \n",
       "1    02100311.20220126172142001.txt  \n",
       "2    02100311.20220127091053001.txt  \n",
       "3    02100311.20220127091055001.txt  \n",
       "4    02100311.20220127091239001.txt  \n",
       "..                              ...  \n",
       "228  02100311.20220523142323001.txt  \n",
       "229  02100311.20220523163810001.txt  \n",
       "230  02100311.20220524063126001.txt  \n",
       "231  02100311.20220524091550002.txt  \n",
       "232  02100311.20220524180717001.txt  \n",
       "\n",
       "[233 rows x 5 columns]"
      ]
     },
     "execution_count": 4,
     "metadata": {},
     "output_type": "execute_result"
    }
   ],
   "source": [
    "bigkinds.metadata"
   ]
  },
  {
   "cell_type": "code",
   "execution_count": 5,
   "metadata": {},
   "outputs": [
    {
     "name": "stderr",
     "output_type": "stream",
     "text": [
      "INFO:ekorpkit.io.file:Processing [1] files from [['bigkinds-train.parquet']]\n",
      "INFO:ekorpkit.io.file:Loading data from ../data/bigkinds/bigkinds-train.parquet\n",
      "INFO:ekorpkit.io.file:Processing [1] files from [['meta-bigkinds-train.parquet']]\n",
      "INFO:ekorpkit.io.file:Loading data from ../data/bigkinds/meta-bigkinds-train.parquet\n",
      "INFO:ekorpkit.info.base:No timestamp key found\n",
      "INFO:ekorpkit.ekonf:Skipping execute of functools.partial(<function concat_dataframes at 0x7f8fd8c53dc0>)\n",
      "INFO:ekorpkit.pipelines.pipe:Applying pipeline: OrderedDict([('chunk', 'chunk'), ('explode_splits', 'explode_splits'), ('reset_index', 'reset_index'), ('save_dataframe', 'save_dataframe')])\n",
      "INFO:ekorpkit.ekonf:Applying pipe: functools.partial(<function chunk at 0x7f8fd8c44160>)\n",
      "INFO:ekorpkit.pipelines.pipe:instantiating segmenter\n"
     ]
    },
    {
     "data": {
      "application/vnd.jupyter.widget-view+json": {
       "model_id": "d356cbc665fa440e812d3a2042c08258",
       "version_major": 2,
       "version_minor": 0
      },
      "text/plain": [
       "Chunking column: text:   0%|          | 0/233 [00:00<?, ?it/s]"
      ]
     },
     "metadata": {},
     "output_type": "display_data"
    },
    {
     "name": "stderr",
     "output_type": "stream",
     "text": [
      "INFO:ekorpkit.pipelines.pipe: >> elapsed time to segment: 0:00:00.029434\n",
      "INFO:ekorpkit.ekonf:Applying pipe: functools.partial(<function explode_splits at 0x7f8fd8892c10>)\n",
      "INFO:ekorpkit.ekonf:Applying pipe: functools.partial(<function reset_index at 0x7f8fd8892d30>)\n",
      "INFO:ekorpkit.ekonf:Applying pipe: functools.partial(<function save_dataframe at 0x7f8fd8c44940>)\n",
      "INFO:ekorpkit.io.file:Saving dataframe as ../data/bigkinds/bigkinds_chunks.parquet\n"
     ]
    },
    {
     "data": {
      "text/html": [
       "<div>\n",
       "<style scoped>\n",
       "    .dataframe tbody tr th:only-of-type {\n",
       "        vertical-align: middle;\n",
       "    }\n",
       "\n",
       "    .dataframe tbody tr th {\n",
       "        vertical-align: top;\n",
       "    }\n",
       "\n",
       "    .dataframe thead th {\n",
       "        text-align: right;\n",
       "    }\n",
       "</style>\n",
       "<table border=\"1\" class=\"dataframe\">\n",
       "  <thead>\n",
       "    <tr style=\"text-align: right;\">\n",
       "      <th></th>\n",
       "      <th>id</th>\n",
       "      <th>text</th>\n",
       "      <th>chunk_id</th>\n",
       "    </tr>\n",
       "  </thead>\n",
       "  <tbody>\n",
       "    <tr>\n",
       "      <th>0</th>\n",
       "      <td>0</td>\n",
       "      <td>[머니투데이 이상수 MTN PD]\\n▶▶▶ 오늘 증시 MBTI\\n이재상 어드바이저 ...</td>\n",
       "      <td>0</td>\n",
       "    </tr>\n",
       "    <tr>\n",
       "      <th>1</th>\n",
       "      <td>0</td>\n",
       "      <td>- 북미 대규모 배터리 투자...총 6.5조 원 투입\\n▶ 이달해 어드바이저\\n에이...</td>\n",
       "      <td>1</td>\n",
       "    </tr>\n",
       "    <tr>\n",
       "      <th>2</th>\n",
       "      <td>1</td>\n",
       "      <td>&lt;유가증권&gt;\\n▲신주배정기준일=대한전선(001440)(유상) ▲보통주추가상장=크래프...</td>\n",
       "      <td>0</td>\n",
       "    </tr>\n",
       "    <tr>\n",
       "      <th>3</th>\n",
       "      <td>2</td>\n",
       "      <td>사상 최대 규모의 기업공개(IPO) '초대어' LG에너지솔루션(373220)이 코스...</td>\n",
       "      <td>0</td>\n",
       "    </tr>\n",
       "    <tr>\n",
       "      <th>4</th>\n",
       "      <td>2</td>\n",
       "      <td>이날 장전 거래에서 시초가가 공모가의 2배인 60만 원에 형성되는가 했지만, 장 개...</td>\n",
       "      <td>1</td>\n",
       "    </tr>\n",
       "    <tr>\n",
       "      <th>...</th>\n",
       "      <td>...</td>\n",
       "      <td>...</td>\n",
       "      <td>...</td>\n",
       "    </tr>\n",
       "    <tr>\n",
       "      <th>1196</th>\n",
       "      <td>232</td>\n",
       "      <td>탄탄한 기술력을 바탕으로 일진머티리얼즈는 국내에서 삼성전자(005930)를 비롯해 ...</td>\n",
       "      <td>3</td>\n",
       "    </tr>\n",
       "    <tr>\n",
       "      <th>1197</th>\n",
       "      <td>232</td>\n",
       "      <td>일진머티리얼즈가 기술력과 성장성을 겸비한 유망 기업으로 평가되면서 국내 최대 기관투...</td>\n",
       "      <td>4</td>\n",
       "    </tr>\n",
       "    <tr>\n",
       "      <th>1198</th>\n",
       "      <td>232</td>\n",
       "      <td>일진머티리얼즈 인수 후보 기업 중에는 롯데의 의지가 상대적으로 강하다는 관측이 나온...</td>\n",
       "      <td>5</td>\n",
       "    </tr>\n",
       "    <tr>\n",
       "      <th>1199</th>\n",
       "      <td>232</td>\n",
       "      <td>일진그룹이 미래 성장 동력으로 키워온 계열사를 전격 매각하기로 한 배경을 놓고는 다...</td>\n",
       "      <td>6</td>\n",
       "    </tr>\n",
       "    <tr>\n",
       "      <th>1200</th>\n",
       "      <td>232</td>\n",
       "      <td>아울러 글로벌 경쟁이 치열한 전기차 배터리 관련 사업에서 지속적 투자 부담이 허 대...</td>\n",
       "      <td>7</td>\n",
       "    </tr>\n",
       "  </tbody>\n",
       "</table>\n",
       "<p>1201 rows × 3 columns</p>\n",
       "</div>"
      ],
      "text/plain": [
       "       id                                               text  chunk_id\n",
       "0       0  [머니투데이 이상수 MTN PD]\\n▶▶▶ 오늘 증시 MBTI\\n이재상 어드바이저 ...         0\n",
       "1       0  - 북미 대규모 배터리 투자...총 6.5조 원 투입\\n▶ 이달해 어드바이저\\n에이...         1\n",
       "2       1  <유가증권>\\n▲신주배정기준일=대한전선(001440)(유상) ▲보통주추가상장=크래프...         0\n",
       "3       2  사상 최대 규모의 기업공개(IPO) '초대어' LG에너지솔루션(373220)이 코스...         0\n",
       "4       2  이날 장전 거래에서 시초가가 공모가의 2배인 60만 원에 형성되는가 했지만, 장 개...         1\n",
       "...   ...                                                ...       ...\n",
       "1196  232  탄탄한 기술력을 바탕으로 일진머티리얼즈는 국내에서 삼성전자(005930)를 비롯해 ...         3\n",
       "1197  232  일진머티리얼즈가 기술력과 성장성을 겸비한 유망 기업으로 평가되면서 국내 최대 기관투...         4\n",
       "1198  232  일진머티리얼즈 인수 후보 기업 중에는 롯데의 의지가 상대적으로 강하다는 관측이 나온...         5\n",
       "1199  232  일진그룹이 미래 성장 동력으로 키워온 계열사를 전격 매각하기로 한 배경을 놓고는 다...         6\n",
       "1200  232  아울러 글로벌 경쟁이 치열한 전기차 배터리 관련 사업에서 지속적 투자 부담이 허 대...         7\n",
       "\n",
       "[1201 rows x 3 columns]"
      ]
     },
     "execution_count": 5,
     "metadata": {},
     "output_type": "execute_result"
    }
   ],
   "source": [
    "cfg = eKonf.compose(config_group=\"pipeline\")\n",
    "cfg.data.corpus = corpus_cfg\n",
    "cfg._pipeline_ = [\"chunk\", \"explode_splits\",\"reset_index\", \"save_dataframe\"]\n",
    "cfg.chunk.chunk_size = 300\n",
    "cfg.explode_splits.id_key = \"id\"\n",
    "cfg.explode_splits.split_key = \"chunk_id\"\n",
    "cfg.explode_splits.separator = \"\\n\\n\"\n",
    "cfg.reset_index.drop_index = True\n",
    "cfg.save_dataframe.output_dir = '../data/bigkinds'\n",
    "cfg.save_dataframe.output_file = 'bigkinds_chunks.parquet'\n",
    "df = eKonf.instantiate(cfg)\n",
    "df"
   ]
  },
  {
   "cell_type": "code",
   "execution_count": 6,
   "metadata": {},
   "outputs": [
    {
     "data": {
      "text/plain": [
       "\"매수 2위는 도시가스 업체인 지에스이(053050)다. 이날 지에스이는 장중 한때 상한가를 기록하는 등 급등세를 보였다. 러시아가 우크라이나를 침공할 가능성이 높다는 전망이 제기되면서 천연가스 관련주가 일제히 올랐기 때문이다. 특히 러시아는 천연가스·원유 주요 산유국이라 '우크라이나 사태'가 이들 관련주에 끼치는 영향이 큰 상황이다.\""
      ]
     },
     "execution_count": 6,
     "metadata": {},
     "output_type": "execute_result"
    }
   ],
   "source": [
    "df.text[222]"
   ]
  },
  {
   "cell_type": "markdown",
   "metadata": {},
   "source": [
    "## Predicting polarities"
   ]
  },
  {
   "cell_type": "code",
   "execution_count": 2,
   "metadata": {},
   "outputs": [],
   "source": [
    "overrides=[\n",
    "    '+model/transformer=simple_classification',\n",
    "    '+model/transformer/pretrained=ekonelectra-base',\n",
    "]\n",
    "model_cfg = eKonf.compose(overrides=overrides, config_group='model/transformer=simple_classification')\n",
    "model_cfg.name = \"esg_polarity\"\n",
    "model_cfg.config.num_train_epochs = 2\n",
    "model_cfg.config.max_seq_length = 256\n",
    "model_cfg.config.train_batch_size = 32\n",
    "model_cfg.config.eval_batch_size = 32\n",
    "model_cfg.labels = ['positive','neutral','negative']"
   ]
  },
  {
   "cell_type": "code",
   "execution_count": 3,
   "metadata": {},
   "outputs": [
    {
     "name": "stderr",
     "output_type": "stream",
     "text": [
      "INFO:ekorpkit.ekonf:Executing function functools.partial(<function load_dataframe at 0x7fba45e97550>) with parms {'filepath': '../data/bigkinds/bigkinds_chunks.parquet', 'columns': None, 'verbose': False}\n",
      "INFO:ekorpkit.io.file:Loading data from ../data/bigkinds/bigkinds_chunks.parquet\n",
      "INFO:ekorpkit.ekonf:Skipping execute of functools.partial(<function concat_dataframes at 0x7fba45e97310>)\n",
      "INFO:ekorpkit.pipelines.pipe:Applying pipeline: OrderedDict([('predict', 'predict')])\n",
      "INFO:ekorpkit.ekonf:Applying pipe: functools.partial(<function predict at 0x7fba45e10ee0>)\n",
      "INFO:ekorpkit.pipelines.pipe:instantiating model\n",
      "INFO:ekorpkit.ekonf:No method defined to call\n",
      "INFO:ekorpkit.models.transformer.simple:Loaded model from /workspace/projects/esgml/outputs/esgml-esg_polarity/ekonelectra-base/best_model\n",
      "INFO:simpletransformers.classification.classification_model: Converting to features started. Cache is not used.\n",
      "INFO:simpletransformers.classification.classification_model: Sliding window enabled\n"
     ]
    },
    {
     "data": {
      "application/vnd.jupyter.widget-view+json": {
       "model_id": "fa3732c5447d4a108fef8393790f1535",
       "version_major": 2,
       "version_minor": 0
      },
      "text/plain": [
       "  0%|          | 0/1201 [00:00<?, ?it/s]"
      ]
     },
     "metadata": {},
     "output_type": "display_data"
    },
    {
     "name": "stderr",
     "output_type": "stream",
     "text": [
      "INFO:simpletransformers.classification.classification_model: 1201 features created from 1201 samples.\n"
     ]
    },
    {
     "data": {
      "application/vnd.jupyter.widget-view+json": {
       "model_id": "40a2930dd3104131b3379260820044c5",
       "version_major": 2,
       "version_minor": 0
      },
      "text/plain": [
       "  0%|          | 0/38 [00:00<?, ?it/s]"
      ]
     },
     "metadata": {},
     "output_type": "display_data"
    },
    {
     "name": "stderr",
     "output_type": "stream",
     "text": [
      "INFO:ekorpkit.models.transformer.simple:type of raw_outputs: <class 'list'>\n",
      "INFO:ekorpkit.models.transformer.simple:raw_output: [1.7664241790771484, -2.7272276878356934, 0.864201545715332]\n",
      "INFO:ekorpkit.io.file:Saving dataframe as ./data/predict/esg_polarities-preds.csv\n"
     ]
    },
    {
     "data": {
      "text/html": [
       "<div>\n",
       "<style scoped>\n",
       "    .dataframe tbody tr th:only-of-type {\n",
       "        vertical-align: middle;\n",
       "    }\n",
       "\n",
       "    .dataframe tbody tr th {\n",
       "        vertical-align: top;\n",
       "    }\n",
       "\n",
       "    .dataframe thead th {\n",
       "        text-align: right;\n",
       "    }\n",
       "</style>\n",
       "<table border=\"1\" class=\"dataframe\">\n",
       "  <thead>\n",
       "    <tr style=\"text-align: right;\">\n",
       "      <th></th>\n",
       "      <th>id</th>\n",
       "      <th>text</th>\n",
       "      <th>chunk_id</th>\n",
       "      <th>pred_labels</th>\n",
       "      <th>raw_preds</th>\n",
       "    </tr>\n",
       "  </thead>\n",
       "  <tbody>\n",
       "    <tr>\n",
       "      <th>0</th>\n",
       "      <td>0</td>\n",
       "      <td>[머니투데이 이상수 MTN PD]\\n▶▶▶ 오늘 증시 MBTI\\n이재상 어드바이저 ...</td>\n",
       "      <td>0</td>\n",
       "      <td>neutral</td>\n",
       "      <td>[1.7664241790771484, -2.7272276878356934, 0.86...</td>\n",
       "    </tr>\n",
       "    <tr>\n",
       "      <th>1</th>\n",
       "      <td>0</td>\n",
       "      <td>- 북미 대규모 배터리 투자...총 6.5조 원 투입\\n▶ 이달해 어드바이저\\n에이...</td>\n",
       "      <td>1</td>\n",
       "      <td>neutral</td>\n",
       "      <td>[1.413273572921753, -2.801103115081787, 1.3196...</td>\n",
       "    </tr>\n",
       "    <tr>\n",
       "      <th>2</th>\n",
       "      <td>1</td>\n",
       "      <td>&lt;유가증권&gt;\\n▲신주배정기준일=대한전선(001440)(유상) ▲보통주추가상장=크래프...</td>\n",
       "      <td>0</td>\n",
       "      <td>neutral</td>\n",
       "      <td>[2.208777904510498, -1.1333577632904053, -1.39...</td>\n",
       "    </tr>\n",
       "    <tr>\n",
       "      <th>3</th>\n",
       "      <td>2</td>\n",
       "      <td>사상 최대 규모의 기업공개(IPO) '초대어' LG에너지솔루션(373220)이 코스...</td>\n",
       "      <td>0</td>\n",
       "      <td>negative</td>\n",
       "      <td>[0.22100260853767395, 1.2145133018493652, -1.4...</td>\n",
       "    </tr>\n",
       "    <tr>\n",
       "      <th>4</th>\n",
       "      <td>2</td>\n",
       "      <td>이날 장전 거래에서 시초가가 공모가의 2배인 60만 원에 형성되는가 했지만, 장 개...</td>\n",
       "      <td>1</td>\n",
       "      <td>neutral</td>\n",
       "      <td>[0.3159239888191223, 0.061452917754650116, -0....</td>\n",
       "    </tr>\n",
       "  </tbody>\n",
       "</table>\n",
       "</div>"
      ],
      "text/plain": [
       "   id                                               text  chunk_id  \\\n",
       "0   0  [머니투데이 이상수 MTN PD]\\n▶▶▶ 오늘 증시 MBTI\\n이재상 어드바이저 ...         0   \n",
       "1   0  - 북미 대규모 배터리 투자...총 6.5조 원 투입\\n▶ 이달해 어드바이저\\n에이...         1   \n",
       "2   1  <유가증권>\\n▲신주배정기준일=대한전선(001440)(유상) ▲보통주추가상장=크래프...         0   \n",
       "3   2  사상 최대 규모의 기업공개(IPO) '초대어' LG에너지솔루션(373220)이 코스...         0   \n",
       "4   2  이날 장전 거래에서 시초가가 공모가의 2배인 60만 원에 형성되는가 했지만, 장 개...         1   \n",
       "\n",
       "  pred_labels                                          raw_preds  \n",
       "0     neutral  [1.7664241790771484, -2.7272276878356934, 0.86...  \n",
       "1     neutral  [1.413273572921753, -2.801103115081787, 1.3196...  \n",
       "2     neutral  [2.208777904510498, -1.1333577632904053, -1.39...  \n",
       "3    negative  [0.22100260853767395, 1.2145133018493652, -1.4...  \n",
       "4     neutral  [0.3159239888191223, 0.061452917754650116, -0....  "
      ]
     },
     "execution_count": 3,
     "metadata": {},
     "output_type": "execute_result"
    }
   ],
   "source": [
    "cfg = eKonf.compose(config_group='pipeline')\n",
    "cfg.name = 'esg_polarities'\n",
    "cfg.data_dir = '../data/bigkinds'\n",
    "cfg.data_file = 'bigkinds_chunks.parquet'\n",
    "cfg._pipeline_ = ['predict']\n",
    "cfg.predict.model = model_cfg\n",
    "cfg.predict.output_dir = \"./data/predict\"\n",
    "cfg.predict.output_file = f'{cfg.name}-preds.csv'\n",
    "cfg.num_workers = 1\n",
    "df = eKonf.instantiate(cfg)\n",
    "df.head()"
   ]
  },
  {
   "cell_type": "code",
   "execution_count": 5,
   "metadata": {},
   "outputs": [],
   "source": [
    "df.to_excel(\"esg_polarities-preds.xlsx\")"
   ]
  },
  {
   "cell_type": "markdown",
   "metadata": {},
   "source": [
    "## Predicting categories"
   ]
  },
  {
   "cell_type": "code",
   "execution_count": 6,
   "metadata": {},
   "outputs": [],
   "source": [
    "overrides=[\n",
    "    '+model/transformer=simple_classification',\n",
    "    '+model/transformer/pretrained=ekonelectra-base',\n",
    "]\n",
    "model_cfg = eKonf.compose(overrides=overrides, config_group='model/transformer=simple_classification')\n",
    "model_cfg.name = \"esg_topics\"\n",
    "model_cfg.config.num_train_epochs = 2\n",
    "model_cfg.config.max_seq_length = 256\n",
    "model_cfg.config.train_batch_size = 32\n",
    "model_cfg.config.eval_batch_size = 32"
   ]
  },
  {
   "cell_type": "code",
   "execution_count": 7,
   "metadata": {},
   "outputs": [
    {
     "name": "stderr",
     "output_type": "stream",
     "text": [
      "INFO:ekorpkit.ekonf:Executing function functools.partial(<function load_dataframe at 0x7fba45e97550>) with parms {'filepath': '../data/bigkinds/bigkinds_chunks.parquet', 'columns': None, 'verbose': False}\n",
      "INFO:ekorpkit.io.file:Loading data from ../data/bigkinds/bigkinds_chunks.parquet\n",
      "INFO:ekorpkit.ekonf:Skipping execute of functools.partial(<function concat_dataframes at 0x7fba45e97310>)\n",
      "INFO:ekorpkit.pipelines.pipe:Applying pipeline: OrderedDict([('predict', 'predict')])\n",
      "INFO:ekorpkit.ekonf:Applying pipe: functools.partial(<function predict at 0x7fba45e10ee0>)\n",
      "INFO:ekorpkit.pipelines.pipe:instantiating model\n",
      "INFO:ekorpkit.ekonf:No method defined to call\n",
      "INFO:ekorpkit.models.transformer.simple:Loaded model from /workspace/projects/esgml/outputs/esgml-esg_topics/ekonelectra-base/best_model\n",
      "INFO:simpletransformers.classification.classification_model: Converting to features started. Cache is not used.\n",
      "INFO:simpletransformers.classification.classification_model: Sliding window enabled\n"
     ]
    },
    {
     "data": {
      "application/vnd.jupyter.widget-view+json": {
       "model_id": "d551dfc94871453d9d72fa42d7ba5557",
       "version_major": 2,
       "version_minor": 0
      },
      "text/plain": [
       "  0%|          | 0/1201 [00:00<?, ?it/s]"
      ]
     },
     "metadata": {},
     "output_type": "display_data"
    },
    {
     "name": "stderr",
     "output_type": "stream",
     "text": [
      "INFO:simpletransformers.classification.classification_model: 1201 features created from 1201 samples.\n"
     ]
    },
    {
     "data": {
      "application/vnd.jupyter.widget-view+json": {
       "model_id": "482c6e8a78574e7685d401f4b670ffd3",
       "version_major": 2,
       "version_minor": 0
      },
      "text/plain": [
       "  0%|          | 0/38 [00:00<?, ?it/s]"
      ]
     },
     "metadata": {},
     "output_type": "display_data"
    },
    {
     "name": "stderr",
     "output_type": "stream",
     "text": [
      "INFO:ekorpkit.models.transformer.simple:type of raw_outputs: <class 'list'>\n",
      "INFO:ekorpkit.models.transformer.simple:raw_output: [-0.41563311219215393, 1.0739761590957642, -0.9921706318855286, 3.773885488510132, 2.3257620334625244, -1.214221715927124, -1.4004017114639282, 2.401806116104126, -0.5396719574928284, -0.6043699979782104, -0.43679967522621155, -2.2757036685943604, -0.05470063537359238, 0.8972206115722656, -1.860360026359558, -1.7987903356552124]\n",
      "INFO:ekorpkit.io.file:Saving dataframe as ./data/predict/esg_categories-preds.csv\n"
     ]
    },
    {
     "data": {
      "text/html": [
       "<div>\n",
       "<style scoped>\n",
       "    .dataframe tbody tr th:only-of-type {\n",
       "        vertical-align: middle;\n",
       "    }\n",
       "\n",
       "    .dataframe tbody tr th {\n",
       "        vertical-align: top;\n",
       "    }\n",
       "\n",
       "    .dataframe thead th {\n",
       "        text-align: right;\n",
       "    }\n",
       "</style>\n",
       "<table border=\"1\" class=\"dataframe\">\n",
       "  <thead>\n",
       "    <tr style=\"text-align: right;\">\n",
       "      <th></th>\n",
       "      <th>id</th>\n",
       "      <th>text</th>\n",
       "      <th>chunk_id</th>\n",
       "      <th>pred_labels</th>\n",
       "      <th>raw_preds</th>\n",
       "    </tr>\n",
       "  </thead>\n",
       "  <tbody>\n",
       "    <tr>\n",
       "      <th>0</th>\n",
       "      <td>0</td>\n",
       "      <td>[머니투데이 이상수 MTN PD]\\n▶▶▶ 오늘 증시 MBTI\\n이재상 어드바이저 ...</td>\n",
       "      <td>0</td>\n",
       "      <td>G-주주환원</td>\n",
       "      <td>[-0.41563311219215393, 1.0739761590957642, -0....</td>\n",
       "    </tr>\n",
       "    <tr>\n",
       "      <th>1</th>\n",
       "      <td>0</td>\n",
       "      <td>- 북미 대규모 배터리 투자...총 6.5조 원 투입\\n▶ 이달해 어드바이저\\n에이...</td>\n",
       "      <td>1</td>\n",
       "      <td>G-주주환원</td>\n",
       "      <td>[-0.5730087161064148, -0.26970621943473816, -1...</td>\n",
       "    </tr>\n",
       "    <tr>\n",
       "      <th>2</th>\n",
       "      <td>1</td>\n",
       "      <td>&lt;유가증권&gt;\\n▲신주배정기준일=대한전선(001440)(유상) ▲보통주추가상장=크래프...</td>\n",
       "      <td>0</td>\n",
       "      <td>G-주주환원</td>\n",
       "      <td>[-0.6350004076957703, 2.749204158782959, -0.07...</td>\n",
       "    </tr>\n",
       "    <tr>\n",
       "      <th>3</th>\n",
       "      <td>2</td>\n",
       "      <td>사상 최대 규모의 기업공개(IPO) '초대어' LG에너지솔루션(373220)이 코스...</td>\n",
       "      <td>0</td>\n",
       "      <td>G-주주환원</td>\n",
       "      <td>[-0.6237360835075378, 1.4131180047988892, -0.7...</td>\n",
       "    </tr>\n",
       "    <tr>\n",
       "      <th>4</th>\n",
       "      <td>2</td>\n",
       "      <td>이날 장전 거래에서 시초가가 공모가의 2배인 60만 원에 형성되는가 했지만, 장 개...</td>\n",
       "      <td>1</td>\n",
       "      <td>G-주주환원</td>\n",
       "      <td>[-0.6814305186271667, 0.9492658972740173, -0.7...</td>\n",
       "    </tr>\n",
       "  </tbody>\n",
       "</table>\n",
       "</div>"
      ],
      "text/plain": [
       "   id                                               text  chunk_id  \\\n",
       "0   0  [머니투데이 이상수 MTN PD]\\n▶▶▶ 오늘 증시 MBTI\\n이재상 어드바이저 ...         0   \n",
       "1   0  - 북미 대규모 배터리 투자...총 6.5조 원 투입\\n▶ 이달해 어드바이저\\n에이...         1   \n",
       "2   1  <유가증권>\\n▲신주배정기준일=대한전선(001440)(유상) ▲보통주추가상장=크래프...         0   \n",
       "3   2  사상 최대 규모의 기업공개(IPO) '초대어' LG에너지솔루션(373220)이 코스...         0   \n",
       "4   2  이날 장전 거래에서 시초가가 공모가의 2배인 60만 원에 형성되는가 했지만, 장 개...         1   \n",
       "\n",
       "  pred_labels                                          raw_preds  \n",
       "0      G-주주환원  [-0.41563311219215393, 1.0739761590957642, -0....  \n",
       "1      G-주주환원  [-0.5730087161064148, -0.26970621943473816, -1...  \n",
       "2      G-주주환원  [-0.6350004076957703, 2.749204158782959, -0.07...  \n",
       "3      G-주주환원  [-0.6237360835075378, 1.4131180047988892, -0.7...  \n",
       "4      G-주주환원  [-0.6814305186271667, 0.9492658972740173, -0.7...  "
      ]
     },
     "execution_count": 7,
     "metadata": {},
     "output_type": "execute_result"
    }
   ],
   "source": [
    "cfg = eKonf.compose(config_group='pipeline')\n",
    "cfg.name = 'esg_categories'\n",
    "cfg.data_dir = '../data/bigkinds'\n",
    "cfg.data_file = 'bigkinds_chunks.parquet'\n",
    "cfg._pipeline_ = ['predict']\n",
    "cfg.predict.model = model_cfg\n",
    "cfg.predict.output_dir = \"./data/predict\"\n",
    "cfg.predict.output_file = f'{cfg.name}-preds.csv'\n",
    "cfg.num_workers = 1\n",
    "df = eKonf.instantiate(cfg)\n",
    "df.head()"
   ]
  },
  {
   "cell_type": "code",
   "execution_count": 8,
   "metadata": {},
   "outputs": [],
   "source": [
    "df.to_excel(\"esg_categories-preds.xlsx\")"
   ]
  },
  {
   "cell_type": "code",
   "execution_count": null,
   "metadata": {},
   "outputs": [],
   "source": []
  }
 ],
 "metadata": {
  "colab": {
   "name": "corpus.ipynb",
   "provenance": []
  },
  "interpreter": {
   "hash": "f869af7787e6a1c49e09e367fc6e1b81d93d1c6583b43249c80edc047bd13cb2"
  },
  "kernelspec": {
   "display_name": "Python 3",
   "language": "python",
   "name": "python3"
  },
  "language_info": {
   "codemirror_mode": {
    "name": "ipython",
    "version": 3
   },
   "file_extension": ".py",
   "mimetype": "text/x-python",
   "name": "python",
   "nbconvert_exporter": "python",
   "pygments_lexer": "ipython3",
   "version": "3.8.8"
  },
  "widgets": {
   "application/vnd.jupyter.widget-state+json": {
    "state": {},
    "version_major": 2,
    "version_minor": 0
   }
  }
 },
 "nbformat": 4,
 "nbformat_minor": 4
}
