{
 "cells": [
  {
   "cell_type": "markdown",
   "id": "bfc871e8",
   "metadata": {},
   "source": [
    "# Bloom Examples\n",
    "\n",
    "![bloom](../figs/aiart/entelecheia_BLOOM.png)\n"
   ]
  },
  {
   "cell_type": "markdown",
   "id": "9b679041",
   "metadata": {},
   "source": [
    "## Transparency, openness, and inclusivity\n",
    "\n",
    "While most major LLMs have been trained exclusively on English text, BLOOM’s training corpus includes 46 natural languages and 13 programming languages. This makes it useful for the many regions where English is not the main language.\n",
    "\n",
    "BLOOM is also a break from the de facto reliance on big tech to train models. One of the main problems of LLMs is the prohibitive costs of training and tuning them. This hurdle has made 100-billion-parameter LLMs the exclusive domain of big tech companies with deep pockets. Recent years have seen AI labs gravitate toward big tech to gain access to subsidized cloud compute resources and fund their research.\n",
    "\n",
    "The BLOOM research team has been completely transparent about the entire process of training the model. They have published the dataset, the meeting notes, discussions, and code, as well as the logs and technical details of training the model.\n",
    "\n"
   ]
  },
  {
   "cell_type": "markdown",
   "id": "5695c11a",
   "metadata": {},
   "source": [
    "## BLOOM Architecture\n",
    "\n",
    "BLOOM is a causal model language, which means that it was trained as a next-token predictor. This apparently simple strategy of predicting the next token in a sentence, based on a set of preceding tokens, has shown to capture certain degree of reasoning abilities for large language models (arXiv:2205.11916). This enables BLOOM and similar models to connect multiple concepts in a sentence and manage to solve non-trivial problems such as arithmetic, translation, and programming with fair accuracy. BLOOM uses a Transformer architecture composed of an input embeddings layer, 70 Transformer blocks, and an output language-modeling layer, as shown in the figure below. Each Transformer block has a self-attention layer and a multi-layer perceptron layer, with input and post-attention layer norms."
   ]
  },
  {
   "cell_type": "markdown",
   "id": "078aa7fc",
   "metadata": {},
   "source": [
    "To predict the next token in a sentence using BLOOM, we simply need to sequentially pass the input tokens (in the form of embeddings) through each of 70 BLOOM blocks. Given that this is a sequential operation, we can load into RAM only one block at a time to avoid memory overflow. Similarly, the word embeddings and output language-modeling layer can be loaded on-demand from disk.\n",
    "\n",
    "![](../figs/deep_nlp/bloom/bloom_architecture.png)"
   ]
  },
  {
   "cell_type": "markdown",
   "id": "2412cf94",
   "metadata": {},
   "source": [
    "## Pre-trained BLOOM checkpoints\n",
    "\n",
    "From BigScience repository (https://huggingface.co/bigscience), you can find various versions of the model.\n",
    "\n",
    "![](../figs/deep_nlp/bloom/bloom-models.png)"
   ]
  },
  {
   "cell_type": "markdown",
   "id": "e5965e7b",
   "metadata": {},
   "source": [
    "### Download checkpoints\n",
    "\n",
    "cf) The original bloom model is very big with a size of about 350GB."
   ]
  },
  {
   "cell_type": "code",
   "execution_count": null,
   "id": "a84b7663",
   "metadata": {},
   "outputs": [],
   "source": [
    "!pip install transformers "
   ]
  },
  {
   "cell_type": "code",
   "execution_count": null,
   "id": "cd365ccd",
   "metadata": {},
   "outputs": [],
   "source": [
    "from transformers import AutoModel, AutoTokenizer\n",
    "\n",
    "model_path = \"/workspace/data/tbts/archive/models/bloom/bloom\" # replace with your local folder path\n",
    "model_uri = \"bigscience/bloom\"\n",
    "\n",
    "model = AutoModel.from_pretrained(model_uri)\n",
    "model.save_pretrained(model_path)\n",
    "tokenizer = AutoTokenizer.from_pretrained(model_uri)\n",
    "tokenizer.save_pretrained(model_path)\n",
    "\n",
    "!ls $model_path"
   ]
  },
  {
   "cell_type": "markdown",
   "id": "694bbd85",
   "metadata": {},
   "source": [
    "Check file list and disk usage"
   ]
  },
  {
   "cell_type": "code",
   "execution_count": 5,
   "id": "98d467e9",
   "metadata": {},
   "outputs": [
    {
     "name": "stdout",
     "output_type": "stream",
     "text": [
      "657G\t/workspace/data/tbts/archive/models/bloom/bloom\r\n",
      "6.5G\t/workspace/data/tbts/archive/models/bloom/bloom-1b3\r\n",
      "664G\t/workspace/data/tbts/archive/models/bloom\r\n"
     ]
    }
   ],
   "source": [
    "model_path = \"/workspace/data/tbts/archive/models/bloom\" # replace with your local folder path\n",
    "\n",
    "!du -h $model_path -d 2"
   ]
  },
  {
   "cell_type": "markdown",
   "id": "f6220246",
   "metadata": {},
   "source": [
    "## Bloom local inference\n",
    "\n",
    "Load Bloom model and tokenizer."
   ]
  },
  {
   "cell_type": "code",
   "execution_count": 1,
   "id": "575fc5b2",
   "metadata": {},
   "outputs": [
    {
     "name": "stderr",
     "output_type": "stream",
     "text": [
      "2022-09-10 06:16:15.563601: I tensorflow/core/platform/cpu_feature_guard.cc:193] This TensorFlow binary is optimized with oneAPI Deep Neural Network Library (oneDNN) to use the following CPU instructions in performance-critical operations:  AVX2 FMA\n",
      "To enable them in other operations, rebuild TensorFlow with the appropriate compiler flags.\n"
     ]
    }
   ],
   "source": [
    "from transformers import pipeline\n",
    "\n",
    "model_uri = \"bigscience/bloom-1b3\"\n",
    "\n",
    "pipe = pipeline(model=model_uri, task=\"text-generation\", device=7)"
   ]
  },
  {
   "cell_type": "markdown",
   "id": "03b6a5e7",
   "metadata": {},
   "source": [
    "- Inference function for bloom models"
   ]
  },
  {
   "cell_type": "code",
   "execution_count": 2,
   "id": "0244794c",
   "metadata": {},
   "outputs": [],
   "source": [
    "def infer_local(\n",
    "    prompt,\n",
    "    temperature=0.7,\n",
    "    top_k=None,\n",
    "    top_p=None,\n",
    "    max_new_tokens=50,\n",
    "    repetition_penalty=None,\n",
    "    do_sample=False,\n",
    "    num_return_sequences=1,\n",
    "    num_beams=None,\n",
    "    no_repeat_ngram_size=None,\n",
    "    early_stopping=False,\n",
    "    return_full_text=True,\n",
    "):\n",
    "    response = pipe(\n",
    "        prompt,\n",
    "        temperature=temperature,  # 0 to 1\n",
    "        top_k=top_k,\n",
    "        top_p=top_p,  # None, 0-1\n",
    "        max_new_tokens=max_new_tokens,  # up to 2047 theoretically\n",
    "        return_full_text=return_full_text,  # include prompt or not.\n",
    "        repetition_penalty=repetition_penalty,  # None, 0-100 (penalty for repeat tokens.\n",
    "        do_sample=do_sample,  # True: use sampling, False: Greedy decoding.\n",
    "        num_return_sequences=num_return_sequences,\n",
    "        num_beams=num_beams,\n",
    "        no_repeat_ngram_size=no_repeat_ngram_size,\n",
    "        early_stopping=early_stopping,\n",
    "    )\n",
    "    return response"
   ]
  },
  {
   "cell_type": "code",
   "execution_count": 3,
   "id": "9ddfabd7",
   "metadata": {},
   "outputs": [],
   "source": [
    "prompt = \"Bloom is a large language model\"\n",
    "result_length = 100"
   ]
  },
  {
   "cell_type": "markdown",
   "id": "742b5a76",
   "metadata": {},
   "source": [
    "- `result_length`: the size of the response (in tokens) we get for the prompt from the model.\n",
    "- `inputs`:  the embedding representation of prompt, encoded for use specifically by PyTorch. "
   ]
  },
  {
   "cell_type": "markdown",
   "id": "08ef693c",
   "metadata": {},
   "source": [
    "### Greedy Search"
   ]
  },
  {
   "cell_type": "code",
   "execution_count": 4,
   "id": "43e8b91b",
   "metadata": {},
   "outputs": [
    {
     "data": {
      "text/plain": [
       "[{'generated_text': 'Bloom is a large language model that is used to predict the probability of a word given its context. The model is trained on a large corpus of text and is used to predict the probability of a word given its context. The model is trained on a large corpus of text and is used to predict the probability of a word given its context. The model is trained on a large corpus of text and is used to predict the probability of a word given its context. The model is trained on a large corpus of text and is used to'}]"
      ]
     },
     "execution_count": 4,
     "metadata": {},
     "output_type": "execute_result"
    }
   ],
   "source": [
    "infer_local(prompt, temperature=None, max_new_tokens=result_length)"
   ]
  },
  {
   "cell_type": "markdown",
   "id": "392e765b",
   "metadata": {},
   "source": [
    "### Beam Search"
   ]
  },
  {
   "cell_type": "code",
   "execution_count": 45,
   "id": "a0e5c229",
   "metadata": {},
   "outputs": [
    {
     "data": {
      "text/plain": [
       "[{'generated_text': 'Bloom is a large language model that is used to predict the probability of a word given its context. The model is trained on a corpus of about 1.5 million words. It is based on the idea that words that occur frequently in a text are likely to be important. For example, the word \"apple\" occurs in the corpus about 10 times, while the words \"banana\" and \"orange\" occur about 20 times each. This model has been shown to perform well in many NLP tasks, such as machine translation,'}]"
      ]
     },
     "execution_count": 45,
     "metadata": {},
     "output_type": "execute_result"
    }
   ],
   "source": [
    "infer_local(prompt, temperature=None, max_new_tokens=result_length, num_beams=2, no_repeat_ngram_size=2, early_stopping=True)"
   ]
  },
  {
   "cell_type": "markdown",
   "id": "7a6ed8cd",
   "metadata": {},
   "source": [
    "### Sampling Top-k + Top-p"
   ]
  },
  {
   "cell_type": "code",
   "execution_count": 46,
   "id": "29a9ef56",
   "metadata": {},
   "outputs": [
    {
     "data": {
      "text/plain": [
       "[{'generated_text': 'Bloom is a large language model with the support of the most recent work on neural machine translation (Collobert et al., 2011; Dörfler et al., 2015; Le et al., 2015; Mikolov et al., 2014; Rusu et al., 2014). We apply a variant of the language model used for the MT task. In particular, we use a neural recurrent language model (Nirbakhsh et al., 2015) that is specifically tuned for language model generation, and trained with the GloVe'}]"
      ]
     },
     "execution_count": 46,
     "metadata": {},
     "output_type": "execute_result"
    }
   ],
   "source": [
    "infer_local(\n",
    "    prompt,\n",
    "    temperature=None,\n",
    "    max_new_tokens=result_length,\n",
    "    do_sample=True,\n",
    "    top_k=50,\n",
    "    top_p=0.9,\n",
    ")"
   ]
  },
  {
   "cell_type": "markdown",
   "id": "3619c65c",
   "metadata": {},
   "source": [
    "## Bloom api inference"
   ]
  },
  {
   "cell_type": "code",
   "execution_count": 38,
   "id": "be41c55a",
   "metadata": {},
   "outputs": [
    {
     "data": {
      "application/vnd.jupyter.widget-view+json": {
       "model_id": "c74181ac2914469c95eee0f75462258a",
       "version_major": 2,
       "version_minor": 0
      },
      "text/plain": [
       "VBox(children=(HTML(value='<center> <img\\nsrc=https://huggingface.co/front/assets/huggingface_logo-noborder.sv…"
      ]
     },
     "metadata": {},
     "output_type": "display_data"
    }
   ],
   "source": [
    "from huggingface_hub import notebook_login\n",
    "from huggingface_hub import HfFolder\n",
    "\n",
    "#enter your API key, you can make one for free on HF\n",
    "notebook_login()"
   ]
  },
  {
   "cell_type": "code",
   "execution_count": 39,
   "id": "4b301107",
   "metadata": {},
   "outputs": [],
   "source": [
    "from huggingface_hub import InferenceApi\n",
    "\n",
    "model_uri = \"bigscience/bloom\"\n",
    "\n",
    "inference = InferenceApi(model_uri, token=HfFolder.get_token())"
   ]
  },
  {
   "cell_type": "code",
   "execution_count": 40,
   "id": "fb2afaaf",
   "metadata": {},
   "outputs": [],
   "source": [
    "def infer_api(\n",
    "    prompt,\n",
    "    temperature=0.7,\n",
    "    top_k=None,\n",
    "    top_p=None,\n",
    "    max_new_tokens=50,\n",
    "    repetition_penalty=None,\n",
    "    do_sample=False,\n",
    "    num_return_sequences=1,\n",
    "    num_beams=None,\n",
    "    no_repeat_ngram_size=None,\n",
    "    early_stopping=False,\n",
    "    return_full_text=True,\n",
    "    seed=123,\n",
    "):\n",
    "    top_k = None if top_k == 0 else top_k\n",
    "    top_p = None if num_beams else top_p\n",
    "    num_beams = None if num_beams == 0 else num_beams\n",
    "    no_repeat_ngram_size = None if num_beams is None else no_repeat_ngram_size\n",
    "    early_stopping = None if num_beams is None else num_beams > 0\n",
    "\n",
    "    params = {\n",
    "        \"max_new_tokens\": max_new_tokens,\n",
    "        \"top_k\": top_k,\n",
    "        \"top_p\": top_p,\n",
    "        \"temperature\": temperature,\n",
    "        \"do_sample\": do_sample,\n",
    "        \"early_stopping\":early_stopping,\n",
    "        \"no_repeat_ngram_size\":no_repeat_ngram_size,\n",
    "        \"num_beams\":num_beams,\n",
    "        \"return_full_text\":return_full_text,\n",
    "        \"repetition_penalty\": repetition_penalty,\n",
    "        \"seed\": seed,\n",
    "    }\n",
    "    \n",
    "    response = inference(prompt, params=params)\n",
    "    return response"
   ]
  },
  {
   "cell_type": "markdown",
   "id": "423c846d",
   "metadata": {},
   "source": [
    "### Greedy Search"
   ]
  },
  {
   "cell_type": "code",
   "execution_count": 43,
   "id": "238e9df5",
   "metadata": {},
   "outputs": [
    {
     "data": {
      "text/plain": [
       "[{'generated_text': 'Bloom is a large language model that is trained on a large corpus of text. It is used to score the probability of a word given the previous words. The higher the score, the more likely the word is to be used in the context of the previous words. The model is trained on a large corpus of text, and the probability of a word is based on the frequency of the word in the corpus. The model is trained on a large corpus of text, and the probability of a word is based on the frequency of the'}]"
      ]
     },
     "execution_count": 43,
     "metadata": {},
     "output_type": "execute_result"
    }
   ],
   "source": [
    "infer_api(prompt, temperature=None, max_new_tokens=result_length)"
   ]
  },
  {
   "cell_type": "markdown",
   "id": "f2cbdb40",
   "metadata": {},
   "source": [
    "### Beam Search"
   ]
  },
  {
   "cell_type": "code",
   "execution_count": 49,
   "id": "1f969167",
   "metadata": {},
   "outputs": [
    {
     "data": {
      "text/plain": [
       "[{'generated_text': 'Bloom is a large language model that is trained on a large corpus of text. It is a language model that is trained on a large corpus of text. It is a language model that is trained on a large corpus of text. It is a language model that is trained on a large corpus of text. It is a language model that is trained on a large corpus of text. It is a language model that is trained on a large corpus of text. It is a language model that is trained on a large corpus of text.'}]"
      ]
     },
     "execution_count": 49,
     "metadata": {},
     "output_type": "execute_result"
    }
   ],
   "source": [
    "infer_api(prompt, temperature=None, max_new_tokens=result_length, num_beams=2, no_repeat_ngram_size=2, early_stopping=True)"
   ]
  },
  {
   "cell_type": "markdown",
   "id": "a3f7d676",
   "metadata": {},
   "source": [
    "### Sampling Top-k + Top-p"
   ]
  },
  {
   "cell_type": "code",
   "execution_count": 37,
   "id": "2cee47a4",
   "metadata": {},
   "outputs": [
    {
     "data": {
      "text/plain": [
       "[{'generated_text': 'Bloom is a large language model. It consists of millions of individual language model tokens, each with its own set of parameters that define the probability of each word in a sentence. A probability of 0.0 for a word implies that that word is never going to appear in a sentence, while a probability of 1.0 implies that that word will always be in a sentence. The goal is to learn these parameters in order to accurately predict the next word based on the previous word(s) in the sentence. To help train this'}]"
      ]
     },
     "execution_count": 37,
     "metadata": {},
     "output_type": "execute_result"
    }
   ],
   "source": [
    "infer_api(\n",
    "    prompt, \n",
    "    temperature=None, \n",
    "    max_new_tokens=result_length, \n",
    "    do_sample=True,\n",
    "    top_k=50,\n",
    "    top_p=0.9,\n",
    ")"
   ]
  },
  {
   "cell_type": "code",
   "execution_count": 56,
   "id": "5a2e0ff9",
   "metadata": {},
   "outputs": [
    {
     "name": "stdout",
     "output_type": "stream",
     "text": [
      "One of the hottest areas of investing in recent years has been ESG: the use of environmental, social, and governance criteria to evaluate possible investments.\n",
      "While environmental factors have long been a consideration, both socially responsible investing and corporate social responsibility have become an integral part of mainstream investing.\n",
      "So, what does this mean for investors who believe strongly in the importance of ESG criteria to investment decisions?\n",
      "The key point to remember is that every investment decision has to be made at the individual level, using the specific strategy for selecting investments. There are a number of ESG managers, ranging from the highly specialized, to those offering ESG at no\n"
     ]
    }
   ],
   "source": [
    "prompt = \"One of the hottest areas of investing in recent years has been ESG: \"\n",
    "prompt += \"the use of environmental, social, and governance criteria to evaluate possible investments\"\n",
    "\n",
    "res = infer_api(\n",
    "    prompt,\n",
    "    temperature=None,\n",
    "    max_new_tokens=result_length,\n",
    "    do_sample=True,\n",
    "    top_k=100,\n",
    "    top_p=0.95,\n",
    ")\n",
    "print(res[0][\"generated_text\"])"
   ]
  },
  {
   "cell_type": "markdown",
   "id": "281e85bc",
   "metadata": {},
   "source": [
    "## Translate with Bloom\n",
    "\n",
    "![](../figs/deep_nlp/bloom/bloom-translate.png)"
   ]
  },
  {
   "cell_type": "code",
   "execution_count": 1,
   "id": "89f2f266",
   "metadata": {},
   "outputs": [
    {
     "name": "stderr",
     "output_type": "stream",
     "text": [
      "2022-09-10 07:35:48.817042: I tensorflow/core/platform/cpu_feature_guard.cc:193] This TensorFlow binary is optimized with oneAPI Deep Neural Network Library (oneDNN) to use the following CPU instructions in performance-critical operations:  AVX2 FMA\n",
      "To enable them in other operations, rebuild TensorFlow with the appropriate compiler flags.\n",
      "INFO:ekorpkit.base:Loaded .env from /workspace/projects/ekorpkit-book/config/.env\n",
      "INFO:ekorpkit.base:Loaded .env from /workspace/projects/ekorpkit-book/config/.env\n"
     ]
    }
   ],
   "source": [
    "from ekorpkit import eKonf\n",
    "from ekorpkit.models.bloom.demo import BloomDemo\n",
    "\n",
    "hf_user_access_token = eKonf.osenv(\"HF_USER_ACCESS_TOKEN\") # Set to your HF Access Token\n",
    "demo = BloomDemo(model_uri=\"bigscience/bloom\", device=6, hf_user_access_token=hf_user_access_token)"
   ]
  },
  {
   "cell_type": "code",
   "execution_count": 3,
   "id": "ccae3302",
   "metadata": {},
   "outputs": [
    {
     "name": "stdout",
     "output_type": "stream",
     "text": [
      " >> Inference API initialized\n"
     ]
    },
    {
     "data": {
      "text/plain": [
       "'Hello, how are you? I can build a lightbox gallery for you. I am a professional developer having 6 years of experience in this field. I have already done such kind of projects. And I can assure you that you will be happy Flere\\nHello, I have'"
      ]
     },
     "execution_count": 3,
     "metadata": {},
     "output_type": "execute_result"
    }
   ],
   "source": [
    "demo.infer(\"Hello, how are you?\")"
   ]
  },
  {
   "cell_type": "markdown",
   "id": "b9334b98",
   "metadata": {},
   "source": [
    "### Create widgets"
   ]
  },
  {
   "cell_type": "code",
   "execution_count": 65,
   "id": "76b6ec31",
   "metadata": {},
   "outputs": [],
   "source": [
    "options = [\"English\", \"Spanish\", \"French\"]\n",
    "from_lang = eKonf.create_dropdown(options, \"English\", \"From Language\")\n",
    "to_lang = eKonf.create_dropdown(options, \"Spanish\", \"To Language\")\n",
    "input_prompt = eKonf.create_textarea(\n",
    "    \"I am a student\",\n",
    "    \"Input\",\n",
    "    \"Enter the sentence to translate\",\n",
    "    style={\"description_width\": \"50px\"},\n",
    "    layout={\"width\": \"95%\", \"height\": \"100px\"},\n",
    ")\n",
    "generated_txt = eKonf.create_textarea(\n",
    "    \"\",\n",
    "    \"Output\",\n",
    "    \"Translated sentence\",\n",
    "    style={\"description_width\": \"50px\"},\n",
    "    layout={\"width\": \"95%\", \"height\": \"100px\"},\n",
    ")\n",
    "translate_button = eKonf.create_button(\"Translate\", layout={\"width\": \"50%\"})"
   ]
  },
  {
   "cell_type": "markdown",
   "id": "bf65160d",
   "metadata": {},
   "source": [
    "###  Register translate fucntion to the translate button for on_click event."
   ]
  },
  {
   "cell_type": "code",
   "execution_count": 66,
   "id": "6913a24d",
   "metadata": {},
   "outputs": [],
   "source": [
    "def on_btn_click(btn):\n",
    "    generated_txt.value = \"infering...\"\n",
    "    input_text = input_prompt.value\n",
    "    prompt = f'Instruction: translate {from_lang.value} to {to_lang.value} \\nInput: \"{input_text}\" \\nOutput:'\n",
    "    res = demo.infer(\n",
    "        prompt,\n",
    "        temperature=None,\n",
    "        max_new_tokens=int(len(input_text) * 1.5),\n",
    "        do_sample=True,\n",
    "        top_k=100,\n",
    "        top_p=0.95,\n",
    "    )\n",
    "    generated_txt.value = res\n",
    "\n",
    "translate_button.on_click(on_btn_click)"
   ]
  },
  {
   "cell_type": "markdown",
   "id": "02651954",
   "metadata": {},
   "source": [
    "### Display widgets on grid"
   ]
  },
  {
   "cell_type": "code",
   "execution_count": 67,
   "id": "ee000e0f",
   "metadata": {},
   "outputs": [
    {
     "data": {
      "application/vnd.jupyter.widget-view+json": {
       "model_id": "c08fec5539b948fb94e6be31e50ecd36",
       "version_major": 2,
       "version_minor": 0
      },
      "text/plain": [
       "GridspecLayout(children=(Dropdown(description='From Language', layout=Layout(grid_area='widget001', width='aut…"
      ]
     },
     "execution_count": 67,
     "metadata": {},
     "output_type": "execute_result"
    }
   ],
   "source": [
    "import ipywidgets as widgets\n",
    "\n",
    "grid = widgets.GridspecLayout(4, 2, height=\"300px\")\n",
    "grid[0, 0] = from_lang\n",
    "grid[0, 1] = to_lang\n",
    "grid[1, :] = input_prompt\n",
    "grid[2, :] = generated_txt\n",
    "grid[3, 1] = translate_button\n",
    "grid"
   ]
  },
  {
   "cell_type": "markdown",
   "id": "ec00df4b",
   "metadata": {},
   "source": [
    "## Zero Shot SQL by Bloom\n",
    "\n",
    "![](../figs/deep_nlp/bloom/bloom-sql.png)"
   ]
  },
  {
   "cell_type": "markdown",
   "id": "d1614acd",
   "metadata": {},
   "source": [
    "### Create widgets"
   ]
  },
  {
   "cell_type": "code",
   "execution_count": 62,
   "id": "16ac2c1d",
   "metadata": {},
   "outputs": [],
   "source": [
    "instruction = \"Instruction: Given an input question, respond with syntactically correct PostgreSQL. Only use table called 'employees'.\\n\"\n",
    "instruction += \"Input: Select names of all the employees who are working under 'Peter'.\\nPostgreSQL query: \"\n",
    "\n",
    "input_prompt = eKonf.create_textarea(\n",
    "    instruction,\n",
    "    \"Input\",\n",
    "    \"Enter the instruction to generate\",\n",
    "    style={\"description_width\": \"50px\"},\n",
    "    layout={\"width\": \"95%\", \"height\": \"100px\"},\n",
    ")\n",
    "\n",
    "generated_txt = eKonf.create_textarea(\n",
    "    \"\",\n",
    "    \"Output\",\n",
    "    \"Generated SQL\",\n",
    "    style={\"description_width\": \"50px\"},\n",
    "    layout={\"width\": \"95%\", \"height\": \"150px\"},\n",
    ")\n",
    "generate_button = eKonf.create_button(\"Generate SQL\", layout={\"width\": \"95%\"})"
   ]
  },
  {
   "cell_type": "markdown",
   "id": "9ede9fb8",
   "metadata": {},
   "source": [
    "###  Register generate fucntion to the generate button for on_click event."
   ]
  },
  {
   "cell_type": "code",
   "execution_count": 63,
   "id": "218a396d",
   "metadata": {},
   "outputs": [],
   "source": [
    "def on_btn_click(btn):\n",
    "    generated_txt.value = \"generating...\"\n",
    "    prompt = input_prompt.value\n",
    "    response = demo.infer(\n",
    "        prompt,\n",
    "        temperature=None,\n",
    "        do_sample=True,\n",
    "        top_k=50,\n",
    "        top_p=0.97,\n",
    "    )\n",
    "    solution = response.split(\"\\nQ:\")[0]   \n",
    "    if '\\nOutput:' in solution:\n",
    "        final_solution = solution.split(\"\\nOutput:\")[0] \n",
    "    elif '\\n\\n' in solution:\n",
    "        final_solution = solution.split(\"\\n\\n\")[0] \n",
    "    else:\n",
    "        final_solution = solution\n",
    "    generated_txt.value = solution\n",
    "\n",
    "generate_button.on_click(on_btn_click)"
   ]
  },
  {
   "cell_type": "markdown",
   "id": "765a8778",
   "metadata": {},
   "source": [
    "### Display widgets on grid"
   ]
  },
  {
   "cell_type": "code",
   "execution_count": 64,
   "id": "32ae6928",
   "metadata": {},
   "outputs": [
    {
     "data": {
      "application/vnd.jupyter.widget-view+json": {
       "model_id": "0ad0f8e6b830462ea032ca0ab908df61",
       "version_major": 2,
       "version_minor": 0
      },
      "text/plain": [
       "GridspecLayout(children=(Textarea(value=\"Instruction: Given an input question, respond with syntactically corr…"
      ]
     },
     "execution_count": 64,
     "metadata": {},
     "output_type": "execute_result"
    }
   ],
   "source": [
    "import ipywidgets as widgets\n",
    "\n",
    "grid = widgets.GridspecLayout(3, 1, height=\"300px\", align_items=\"center\")\n",
    "grid[0, 0] = input_prompt\n",
    "grid[1, 0] = generated_txt\n",
    "grid[2, 0] = generate_button\n",
    "grid"
   ]
  },
  {
   "cell_type": "markdown",
   "id": "27e22008",
   "metadata": {},
   "source": [
    "## Distracted Boyfriend Meme😄- Using Bloom 🌸"
   ]
  },
  {
   "cell_type": "code",
   "execution_count": 2,
   "id": "bbe7d536",
   "metadata": {},
   "outputs": [],
   "source": [
    "import PIL\n",
    "from PIL import Image\n",
    "from PIL import ImageDraw\n",
    "from PIL import ImageFont"
   ]
  },
  {
   "cell_type": "code",
   "execution_count": null,
   "id": "e53306d6",
   "metadata": {},
   "outputs": [],
   "source": [
    "    in_image = gr.Image(value=\"./distracted0.jpg\", visible=False)\n",
    "    in_image_display = gr.Image(value=\"./distracted00.jpg\", visible=True)\n",
    "    input_prompt = gr.Textbox(label=\"Write some prompt...\", lines=5, visible=False)"
   ]
  },
  {
   "cell_type": "code",
   "execution_count": 3,
   "id": "929ab4fa",
   "metadata": {},
   "outputs": [
    {
     "ename": "TraitError",
     "evalue": "The 'value' trait of an Image instance expected a memory view object, not the NoneType None.",
     "output_type": "error",
     "traceback": [
      "\u001b[0;31m---------------------------------------------------------------------------\u001b[0m",
      "\u001b[0;31mTypeError\u001b[0m                                 Traceback (most recent call last)",
      "File \u001b[0;32m/opt/conda/lib/python3.8/site-packages/ipywidgets/widgets/trait_types.py:246\u001b[0m, in \u001b[0;36mCByteMemoryView.validate\u001b[0;34m(self, obj, value)\u001b[0m\n\u001b[1;32m    245\u001b[0m \u001b[38;5;28;01mtry\u001b[39;00m:\n\u001b[0;32m--> 246\u001b[0m     mv \u001b[38;5;241m=\u001b[39m \u001b[38;5;28;43mmemoryview\u001b[39;49m\u001b[43m(\u001b[49m\u001b[43mvalue\u001b[49m\u001b[43m)\u001b[49m\n\u001b[1;32m    247\u001b[0m     \u001b[38;5;28;01mif\u001b[39;00m mv\u001b[38;5;241m.\u001b[39mformat \u001b[38;5;241m!=\u001b[39m \u001b[38;5;124m'\u001b[39m\u001b[38;5;124mB\u001b[39m\u001b[38;5;124m'\u001b[39m:\n",
      "\u001b[0;31mTypeError\u001b[0m: memoryview: a bytes-like object is required, not 'NoneType'",
      "\nDuring handling of the above exception, another exception occurred:\n",
      "\u001b[0;31mTraitError\u001b[0m                                Traceback (most recent call last)",
      "Input \u001b[0;32mIn [3]\u001b[0m, in \u001b[0;36m<module>\u001b[0;34m\u001b[0m\n\u001b[1;32m      1\u001b[0m \u001b[38;5;28;01mimport\u001b[39;00m \u001b[38;5;21;01mipywidgets\u001b[39;00m \u001b[38;5;28;01mas\u001b[39;00m \u001b[38;5;21;01mwidgets\u001b[39;00m\n\u001b[0;32m----> 3\u001b[0m \u001b[43mwidgets\u001b[49m\u001b[38;5;241;43m.\u001b[39;49m\u001b[43mImage\u001b[49m\u001b[43m(\u001b[49m\n\u001b[1;32m      4\u001b[0m \u001b[43m    \u001b[49m\u001b[43mvalue\u001b[49m\u001b[38;5;241;43m=\u001b[39;49m\u001b[38;5;28;43;01mNone\u001b[39;49;00m\u001b[43m,\u001b[49m\n\u001b[1;32m      5\u001b[0m \u001b[43m    \u001b[49m\u001b[38;5;28;43mformat\u001b[39;49m\u001b[38;5;241;43m=\u001b[39;49m\u001b[38;5;124;43m'\u001b[39;49m\u001b[38;5;124;43mpng\u001b[39;49m\u001b[38;5;124;43m'\u001b[39;49m\u001b[43m,\u001b[49m\n\u001b[1;32m      6\u001b[0m \u001b[43m    \u001b[49m\u001b[43mwidth\u001b[49m\u001b[38;5;241;43m=\u001b[39;49m\u001b[38;5;241;43m300\u001b[39;49m\u001b[43m,\u001b[49m\n\u001b[1;32m      7\u001b[0m \u001b[43m    \u001b[49m\u001b[43mheight\u001b[49m\u001b[38;5;241;43m=\u001b[39;49m\u001b[38;5;241;43m400\u001b[39;49m\u001b[43m,\u001b[49m\n\u001b[1;32m      8\u001b[0m \u001b[43m)\u001b[49m\n",
      "File \u001b[0;32m/opt/conda/lib/python3.8/site-packages/ipywidgets/widgets/widget_media.py:157\u001b[0m, in \u001b[0;36mImage.__init__\u001b[0;34m(self, *args, **kwargs)\u001b[0m\n\u001b[1;32m    156\u001b[0m \u001b[38;5;28;01mdef\u001b[39;00m \u001b[38;5;21m__init__\u001b[39m(\u001b[38;5;28mself\u001b[39m, \u001b[38;5;241m*\u001b[39margs, \u001b[38;5;241m*\u001b[39m\u001b[38;5;241m*\u001b[39mkwargs):\n\u001b[0;32m--> 157\u001b[0m     \u001b[38;5;28;43msuper\u001b[39;49m\u001b[43m(\u001b[49m\u001b[43m)\u001b[49m\u001b[38;5;241;43m.\u001b[39;49m\u001b[38;5;21;43m__init__\u001b[39;49m\u001b[43m(\u001b[49m\u001b[38;5;241;43m*\u001b[39;49m\u001b[43margs\u001b[49m\u001b[43m,\u001b[49m\u001b[43m \u001b[49m\u001b[38;5;241;43m*\u001b[39;49m\u001b[38;5;241;43m*\u001b[39;49m\u001b[43mkwargs\u001b[49m\u001b[43m)\u001b[49m\n",
      "File \u001b[0;32m/opt/conda/lib/python3.8/site-packages/ipywidgets/widgets/widget.py:443\u001b[0m, in \u001b[0;36mWidget.__init__\u001b[0;34m(self, **kwargs)\u001b[0m\n\u001b[1;32m    441\u001b[0m \u001b[38;5;124;03m\"\"\"Public constructor\"\"\"\u001b[39;00m\n\u001b[1;32m    442\u001b[0m \u001b[38;5;28mself\u001b[39m\u001b[38;5;241m.\u001b[39m_model_id \u001b[38;5;241m=\u001b[39m kwargs\u001b[38;5;241m.\u001b[39mpop(\u001b[38;5;124m'\u001b[39m\u001b[38;5;124mmodel_id\u001b[39m\u001b[38;5;124m'\u001b[39m, \u001b[38;5;28;01mNone\u001b[39;00m)\n\u001b[0;32m--> 443\u001b[0m \u001b[38;5;28;43msuper\u001b[39;49m\u001b[43m(\u001b[49m\u001b[43m)\u001b[49m\u001b[38;5;241;43m.\u001b[39;49m\u001b[38;5;21;43m__init__\u001b[39;49m\u001b[43m(\u001b[49m\u001b[38;5;241;43m*\u001b[39;49m\u001b[38;5;241;43m*\u001b[39;49m\u001b[43mkwargs\u001b[49m\u001b[43m)\u001b[49m\n\u001b[1;32m    445\u001b[0m Widget\u001b[38;5;241m.\u001b[39m_call_widget_constructed(\u001b[38;5;28mself\u001b[39m)\n\u001b[1;32m    446\u001b[0m \u001b[38;5;28mself\u001b[39m\u001b[38;5;241m.\u001b[39mopen()\n",
      "File \u001b[0;32m/opt/conda/lib/python3.8/site-packages/traitlets/traitlets.py:1079\u001b[0m, in \u001b[0;36mHasTraits.__init__\u001b[0;34m(self, *args, **kwargs)\u001b[0m\n\u001b[1;32m   1077\u001b[0m \u001b[38;5;28;01mfor\u001b[39;00m key, value \u001b[38;5;129;01min\u001b[39;00m kwargs\u001b[38;5;241m.\u001b[39mitems():\n\u001b[1;32m   1078\u001b[0m     \u001b[38;5;28;01mif\u001b[39;00m \u001b[38;5;28mself\u001b[39m\u001b[38;5;241m.\u001b[39mhas_trait(key):\n\u001b[0;32m-> 1079\u001b[0m         \u001b[38;5;28;43msetattr\u001b[39;49m\u001b[43m(\u001b[49m\u001b[38;5;28;43mself\u001b[39;49m\u001b[43m,\u001b[49m\u001b[43m \u001b[49m\u001b[43mkey\u001b[49m\u001b[43m,\u001b[49m\u001b[43m \u001b[49m\u001b[43mvalue\u001b[49m\u001b[43m)\u001b[49m\n\u001b[1;32m   1080\u001b[0m     \u001b[38;5;28;01melse\u001b[39;00m:\n\u001b[1;32m   1081\u001b[0m         \u001b[38;5;66;03m# passthrough args that don't set traits to super\u001b[39;00m\n\u001b[1;32m   1082\u001b[0m         super_kwargs[key] \u001b[38;5;241m=\u001b[39m value\n",
      "File \u001b[0;32m/opt/conda/lib/python3.8/site-packages/traitlets/traitlets.py:606\u001b[0m, in \u001b[0;36mTraitType.__set__\u001b[0;34m(self, obj, value)\u001b[0m\n\u001b[1;32m    604\u001b[0m     \u001b[38;5;28;01mraise\u001b[39;00m TraitError(\u001b[38;5;124m'\u001b[39m\u001b[38;5;124mThe \u001b[39m\u001b[38;5;124m\"\u001b[39m\u001b[38;5;132;01m%s\u001b[39;00m\u001b[38;5;124m\"\u001b[39m\u001b[38;5;124m trait is read-only.\u001b[39m\u001b[38;5;124m'\u001b[39m \u001b[38;5;241m%\u001b[39m \u001b[38;5;28mself\u001b[39m\u001b[38;5;241m.\u001b[39mname)\n\u001b[1;32m    605\u001b[0m \u001b[38;5;28;01melse\u001b[39;00m:\n\u001b[0;32m--> 606\u001b[0m     \u001b[38;5;28;43mself\u001b[39;49m\u001b[38;5;241;43m.\u001b[39;49m\u001b[43mset\u001b[49m\u001b[43m(\u001b[49m\u001b[43mobj\u001b[49m\u001b[43m,\u001b[49m\u001b[43m \u001b[49m\u001b[43mvalue\u001b[49m\u001b[43m)\u001b[49m\n",
      "File \u001b[0;32m/opt/conda/lib/python3.8/site-packages/traitlets/traitlets.py:580\u001b[0m, in \u001b[0;36mTraitType.set\u001b[0;34m(self, obj, value)\u001b[0m\n\u001b[1;32m    579\u001b[0m \u001b[38;5;28;01mdef\u001b[39;00m \u001b[38;5;21mset\u001b[39m(\u001b[38;5;28mself\u001b[39m, obj, value):\n\u001b[0;32m--> 580\u001b[0m     new_value \u001b[38;5;241m=\u001b[39m \u001b[38;5;28;43mself\u001b[39;49m\u001b[38;5;241;43m.\u001b[39;49m\u001b[43m_validate\u001b[49m\u001b[43m(\u001b[49m\u001b[43mobj\u001b[49m\u001b[43m,\u001b[49m\u001b[43m \u001b[49m\u001b[43mvalue\u001b[49m\u001b[43m)\u001b[49m\n\u001b[1;32m    581\u001b[0m     \u001b[38;5;28;01mtry\u001b[39;00m:\n\u001b[1;32m    582\u001b[0m         old_value \u001b[38;5;241m=\u001b[39m obj\u001b[38;5;241m.\u001b[39m_trait_values[\u001b[38;5;28mself\u001b[39m\u001b[38;5;241m.\u001b[39mname]\n",
      "File \u001b[0;32m/opt/conda/lib/python3.8/site-packages/traitlets/traitlets.py:612\u001b[0m, in \u001b[0;36mTraitType._validate\u001b[0;34m(self, obj, value)\u001b[0m\n\u001b[1;32m    610\u001b[0m     \u001b[38;5;28;01mreturn\u001b[39;00m value\n\u001b[1;32m    611\u001b[0m \u001b[38;5;28;01mif\u001b[39;00m \u001b[38;5;28mhasattr\u001b[39m(\u001b[38;5;28mself\u001b[39m, \u001b[38;5;124m'\u001b[39m\u001b[38;5;124mvalidate\u001b[39m\u001b[38;5;124m'\u001b[39m):\n\u001b[0;32m--> 612\u001b[0m     value \u001b[38;5;241m=\u001b[39m \u001b[38;5;28;43mself\u001b[39;49m\u001b[38;5;241;43m.\u001b[39;49m\u001b[43mvalidate\u001b[49m\u001b[43m(\u001b[49m\u001b[43mobj\u001b[49m\u001b[43m,\u001b[49m\u001b[43m \u001b[49m\u001b[43mvalue\u001b[49m\u001b[43m)\u001b[49m\n\u001b[1;32m    613\u001b[0m \u001b[38;5;28;01mif\u001b[39;00m obj\u001b[38;5;241m.\u001b[39m_cross_validation_lock \u001b[38;5;129;01mis\u001b[39;00m \u001b[38;5;28;01mFalse\u001b[39;00m:\n\u001b[1;32m    614\u001b[0m     value \u001b[38;5;241m=\u001b[39m \u001b[38;5;28mself\u001b[39m\u001b[38;5;241m.\u001b[39m_cross_validate(obj, value)\n",
      "File \u001b[0;32m/opt/conda/lib/python3.8/site-packages/ipywidgets/widgets/trait_types.py:251\u001b[0m, in \u001b[0;36mCByteMemoryView.validate\u001b[0;34m(self, obj, value)\u001b[0m\n\u001b[1;32m    249\u001b[0m     \u001b[38;5;28;01mreturn\u001b[39;00m mv\n\u001b[1;32m    250\u001b[0m \u001b[38;5;28;01mexcept\u001b[39;00m \u001b[38;5;167;01mException\u001b[39;00m:\n\u001b[0;32m--> 251\u001b[0m     \u001b[38;5;28;43mself\u001b[39;49m\u001b[38;5;241;43m.\u001b[39;49m\u001b[43merror\u001b[49m\u001b[43m(\u001b[49m\u001b[43mobj\u001b[49m\u001b[43m,\u001b[49m\u001b[43m \u001b[49m\u001b[43mvalue\u001b[49m\u001b[43m)\u001b[49m\n",
      "File \u001b[0;32m/opt/conda/lib/python3.8/site-packages/traitlets/traitlets.py:692\u001b[0m, in \u001b[0;36mTraitType.error\u001b[0;34m(self, obj, value, error, info)\u001b[0m\n\u001b[1;32m    689\u001b[0m \u001b[38;5;28;01melse\u001b[39;00m:\n\u001b[1;32m    690\u001b[0m     e \u001b[38;5;241m=\u001b[39m \u001b[38;5;124m\"\u001b[39m\u001b[38;5;124mThe \u001b[39m\u001b[38;5;124m'\u001b[39m\u001b[38;5;132;01m%s\u001b[39;00m\u001b[38;5;124m'\u001b[39m\u001b[38;5;124m trait expected \u001b[39m\u001b[38;5;132;01m%s\u001b[39;00m\u001b[38;5;124m, not \u001b[39m\u001b[38;5;132;01m%s\u001b[39;00m\u001b[38;5;124m.\u001b[39m\u001b[38;5;124m\"\u001b[39m \u001b[38;5;241m%\u001b[39m (\n\u001b[1;32m    691\u001b[0m         \u001b[38;5;28mself\u001b[39m\u001b[38;5;241m.\u001b[39mname, \u001b[38;5;28mself\u001b[39m\u001b[38;5;241m.\u001b[39minfo(), describe(\u001b[38;5;124m\"\u001b[39m\u001b[38;5;124mthe\u001b[39m\u001b[38;5;124m\"\u001b[39m, value))\n\u001b[0;32m--> 692\u001b[0m \u001b[38;5;28;01mraise\u001b[39;00m TraitError(e)\n",
      "\u001b[0;31mTraitError\u001b[0m: The 'value' trait of an Image instance expected a memory view object, not the NoneType None."
     ]
    }
   ],
   "source": [
    "import ipywidgets as widgets\n",
    "\n",
    "widgets.Image(\n",
    "    value=None,\n",
    "    format='png',\n",
    "    width=300,\n",
    "    height=400,\n",
    ")\n"
   ]
  },
  {
   "cell_type": "code",
   "execution_count": null,
   "id": "cb322353",
   "metadata": {},
   "outputs": [],
   "source": []
  }
 ],
 "metadata": {
  "kernelspec": {
   "display_name": "Python 3 (ipykernel)",
   "language": "python",
   "name": "python3"
  },
  "language_info": {
   "codemirror_mode": {
    "name": "ipython",
    "version": 3
   },
   "file_extension": ".py",
   "mimetype": "text/x-python",
   "name": "python",
   "nbconvert_exporter": "python",
   "pygments_lexer": "ipython3",
   "version": "3.8.12"
  },
  "vscode": {
   "interpreter": {
    "hash": "f869af7787e6a1c49e09e367fc6e1b81d93d1c6583b43249c80edc047bd13cb2"
   }
  },
  "widgets": {
   "application/vnd.jupyter.widget-state+json": {
    "state": {
     "000193506f4b4c1eb09619921def49f8": {
      "model_module": "@jupyter-widgets/controls",
      "model_module_version": "2.0.0",
      "model_name": "TextareaModel",
      "state": {
       "description": "Output",
       "layout": "IPY_MODEL_c170f4f5e4d543fd8cf5f18598b59147",
       "placeholder": "Translated sentence",
       "style": "IPY_MODEL_b10a3f83192d4826b8c11a3d83e6cda1",
       "value": "Instruction: translate English to Spanish \nInput: \"I am a student\" \nOutput: Yo soy un estudiante \nThe answer would be \"YO SOY UN"
      }
     },
     "0007e9ef13d64435a75f9ac6baf4f7ec": {
      "model_module": "@jupyter-widgets/controls",
      "model_module_version": "2.0.0",
      "model_name": "HTMLModel",
      "state": {
       "layout": "IPY_MODEL_52dd93b0f73148be98d6bfe30a5c49f7",
       "style": "IPY_MODEL_2bef10f1307844249f6fe69227fe439f",
       "value": " 90.4k/90.4k [00:00&lt;00:00, 168kB/s]"
      }
     },
     "004c30679827428888f4cd02eb2a4577": {
      "model_module": "@jupyter-widgets/controls",
      "model_module_version": "2.0.0",
      "model_name": "TextareaModel",
      "state": {
       "description": "Output",
       "layout": "IPY_MODEL_c54ed86bfd8b478d87bdd4da354be892",
       "placeholder": "Generated SQL",
       "style": "IPY_MODEL_3147ccaf0e9343bcbf0e5c8b55b74e36",
       "value": "Instruction: Given an input question, respond with syntactically correct PostgreSQL. Only use table called 'employees'.\nInput: Select names of all the employees who are working under 'Peter'.\nPostgreSQL query:  Select `employee_name` from `employee` where `employee_branch_id` = 1.\nOutput expected: A syntactically correct PostgreSQL.\n\nA:\n\nFirst, I would create a CSV for the question, and then read it like a CSV and create"
      }
     },
     "00a7c42a61df467a92483ea845628ae2": {
      "model_module": "@jupyter-widgets/base",
      "model_module_version": "2.0.0",
      "model_name": "LayoutModel",
      "state": {}
     },
     "00ef2084384d4dd6b29b3f36caefafa6": {
      "model_module": "@jupyter-widgets/controls",
      "model_module_version": "2.0.0",
      "model_name": "ButtonStyleModel",
      "state": {
       "font_family": null,
       "font_size": null,
       "font_style": null,
       "font_variant": null,
       "font_weight": null,
       "text_color": null,
       "text_decoration": null
      }
     },
     "01043f7986084ca0be1bd574a8203104": {
      "model_module": "@jupyter-widgets/base",
      "model_module_version": "2.0.0",
      "model_name": "LayoutModel",
      "state": {
       "grid_area": "widget002",
       "height": "100px",
       "width": "95%"
      }
     },
     "011dde793c10404c827bdee2b12136e0": {
      "model_module": "@jupyter-widgets/controls",
      "model_module_version": "2.0.0",
      "model_name": "TextStyleModel",
      "state": {
       "description_width": "50px",
       "font_size": null,
       "text_color": null
      }
     },
     "011f3ef3294a4275abbec59349d66b5d": {
      "model_module": "@jupyter-widgets/base",
      "model_module_version": "2.0.0",
      "model_name": "LayoutModel",
      "state": {
       "grid_area": "widget003",
       "width": "50%"
      }
     },
     "0130cfe02bc94903a9fb1a8d6f740a7b": {
      "model_module": "@jupyter-widgets/base",
      "model_module_version": "2.0.0",
      "model_name": "LayoutModel",
      "state": {
       "grid_area": "widget001",
       "width": "auto"
      }
     },
     "018663e3fe9041239fdce482004c7103": {
      "model_module": "@jupyter-widgets/controls",
      "model_module_version": "2.0.0",
      "model_name": "TextareaModel",
      "state": {
       "description": "Input",
       "layout": "IPY_MODEL_37f571d0f0b442f8a967551e092bd23c",
       "placeholder": "Enter the sentence to translate",
       "style": "IPY_MODEL_7695987a0df240c9b2dd4b88592f731d",
       "value": "I am a student"
      }
     },
     "01e4895bd03244b19a274559ed2756a3": {
      "model_module": "@jupyter-widgets/base",
      "model_module_version": "2.0.0",
      "model_name": "LayoutModel",
      "state": {
       "grid_template_areas": "\"widget001\"\n\"widget002\"\n\".\"",
       "grid_template_columns": "repeat(1, 1fr)",
       "grid_template_rows": "repeat(3, 1fr)",
       "height": "300px"
      }
     },
     "0269c2c6de2b44d184fcaa2b6c275d56": {
      "model_module": "@jupyter-widgets/controls",
      "model_module_version": "2.0.0",
      "model_name": "TextStyleModel",
      "state": {
       "description_width": "50px",
       "font_size": null,
       "text_color": null
      }
     },
     "0281c3ac70e64c758fd1f0cdda64e19c": {
      "model_module": "@jupyter-widgets/base",
      "model_module_version": "2.0.0",
      "model_name": "LayoutModel",
      "state": {
       "grid_template_areas": "\"widget001 widget002\"\n\"widget003 widget003\"\n\"widget004 widget004\"\n\". widget005\"",
       "grid_template_columns": "repeat(2, 1fr)",
       "grid_template_rows": "repeat(4, 1fr)",
       "height": "300px"
      }
     },
     "02db1ddc2903487bbbcf8229e9b4da75": {
      "model_module": "@jupyter-widgets/controls",
      "model_module_version": "2.0.0",
      "model_name": "HTMLModel",
      "state": {
       "layout": "IPY_MODEL_dc18576ac2ee4714b9bb6b0d58aeed0f",
       "style": "IPY_MODEL_811e0ba515ab4314950653ab21ed86c8",
       "value": " 126M/6.70G [00:24&lt;05:25, 21.7MB/s]"
      }
     },
     "03762c4154d649b4b7239ee456871827": {
      "model_module": "@jupyter-widgets/controls",
      "model_module_version": "2.0.0",
      "model_name": "GridBoxModel",
      "state": {
       "children": [
        "IPY_MODEL_a01b757347664857bdf1ccc823883ee4",
        "IPY_MODEL_af884db95dc84d74833ff3bd678728be",
        "IPY_MODEL_bfa543f52af64b8f8fc30ae073329587"
       ],
       "layout": "IPY_MODEL_4a067f94fb9148219372a0a1a6a2c1fb"
      }
     },
     "0378b2e8976f45e08f9ab2a4857f5a24": {
      "model_module": "@jupyter-widgets/controls",
      "model_module_version": "2.0.0",
      "model_name": "TextareaModel",
      "state": {
       "description": "Input",
       "layout": "IPY_MODEL_b17f7a5fc9304c7bb7541bdc67e65fa2",
       "placeholder": "Enter the sentence to translate",
       "style": "IPY_MODEL_8d4007a827a142b9b935ac034a4566cd",
       "value": "I am a student"
      }
     },
     "03828c87c2f445878aad8aaf0964224f": {
      "model_module": "@jupyter-widgets/base",
      "model_module_version": "2.0.0",
      "model_name": "LayoutModel",
      "state": {}
     },
     "03b3b37c0d954a5fbf3c1e242468791b": {
      "model_module": "@jupyter-widgets/controls",
      "model_module_version": "2.0.0",
      "model_name": "DropdownModel",
      "state": {
       "_options_labels": [
        "English",
        "Spanish",
        "French"
       ],
       "description": "From Language",
       "index": 0,
       "layout": "IPY_MODEL_322eb64ccd754325bfb5d2ad89617562",
       "style": "IPY_MODEL_24e53a6d7e944f68b36707c91b9e612a"
      }
     },
     "03ee4f3243544fabb7ed6c9e9756d848": {
      "model_module": "@jupyter-widgets/controls",
      "model_module_version": "2.0.0",
      "model_name": "ButtonModel",
      "state": {
       "description": "Generate SQL",
       "icon": "check",
       "layout": "IPY_MODEL_3a44e0a354d044dab1734fd788fbd0e7",
       "style": "IPY_MODEL_0c64fbfe30cd4ce09106c36996fcf350",
       "tooltip": null
      }
     },
     "042b68a857e24d36967d82f7942a74e6": {
      "model_module": "@jupyter-widgets/base",
      "model_module_version": "2.0.0",
      "model_name": "LayoutModel",
      "state": {
       "grid_area": "widget002",
       "height": "100px",
       "width": "95%"
      }
     },
     "046a57184ab44619bdb7f4a00c4e068a": {
      "model_module": "@jupyter-widgets/controls",
      "model_module_version": "2.0.0",
      "model_name": "TextareaModel",
      "state": {
       "description": "Input",
       "layout": "IPY_MODEL_3ec958bb533345168f9dfd5929a09ac7",
       "placeholder": "Enter the sentence to translate",
       "style": "IPY_MODEL_011dde793c10404c827bdee2b12136e0",
       "value": "I am a student"
      }
     },
     "049186ed42d94cfe9a7259ecdff50c88": {
      "model_module": "@jupyter-widgets/controls",
      "model_module_version": "2.0.0",
      "model_name": "HBoxModel",
      "state": {
       "children": [
        "IPY_MODEL_4ce93d47236b4a778e8168f75866a860",
        "IPY_MODEL_6ccba48aae174dddada6d3bbe431b6a3",
        "IPY_MODEL_cfe813ce480e4f469a62c14b96e89986"
       ],
       "layout": "IPY_MODEL_333be306be054df7bb2a6d85167baa86"
      }
     },
     "04b7ed422d054342bfbafc2726e13d9c": {
      "model_module": "@jupyter-widgets/controls",
      "model_module_version": "2.0.0",
      "model_name": "GridBoxModel",
      "state": {
       "children": [
        "IPY_MODEL_350a7ca35dad461995a10ddd000b73e7",
        "IPY_MODEL_004c30679827428888f4cd02eb2a4577",
        "IPY_MODEL_9c32c0d3bf9f46e8a97f7db2f5224548"
       ],
       "layout": "IPY_MODEL_b7008ae1bcba4b2294d1457a074d9c03"
      }
     },
     "05684f84900b4906bd835c876abb2ac7": {
      "model_module": "@jupyter-widgets/base",
      "model_module_version": "2.0.0",
      "model_name": "LayoutModel",
      "state": {}
     },
     "05736c4dadc141689a2ea96b3fd2965c": {
      "model_module": "@jupyter-widgets/controls",
      "model_module_version": "2.0.0",
      "model_name": "DescriptionStyleModel",
      "state": {
       "description_width": ""
      }
     },
     "06135fa9e25b48aa846e55c46cd6a9d5": {
      "model_module": "@jupyter-widgets/base",
      "model_module_version": "2.0.0",
      "model_name": "LayoutModel",
      "state": {
       "width": "50%"
      }
     },
     "064678723e07423eb0bff7296cd7930a": {
      "model_module": "@jupyter-widgets/controls",
      "model_module_version": "2.0.0",
      "model_name": "DropdownModel",
      "state": {
       "_options_labels": [
        "English",
        "Spanish",
        "French"
       ],
       "description": "To Language",
       "index": 1,
       "layout": "IPY_MODEL_7e581ee0f82a421eb3a07d43536a81a2",
       "style": "IPY_MODEL_2cf2f903ad834531bf709fe1816cc746"
      }
     },
     "06602b09ac1f4495b5d5ce592f54f998": {
      "model_module": "@jupyter-widgets/controls",
      "model_module_version": "2.0.0",
      "model_name": "TextStyleModel",
      "state": {
       "description_width": "50px",
       "font_size": null,
       "text_color": null
      }
     },
     "070a9606f2ce4e0598593dcc6756b70b": {
      "model_module": "@jupyter-widgets/controls",
      "model_module_version": "2.0.0",
      "model_name": "TextStyleModel",
      "state": {
       "description_width": "50px",
       "font_size": null,
       "text_color": null
      }
     },
     "08060910a3634f4088bd356578eac04f": {
      "model_module": "@jupyter-widgets/base",
      "model_module_version": "2.0.0",
      "model_name": "LayoutModel",
      "state": {
       "align_items": "center",
       "grid_template_areas": "\"widget001\"\n\"widget002\"\n\"widget003\"",
       "grid_template_columns": "repeat(1, 1fr)",
       "grid_template_rows": "repeat(3, 1fr)",
       "height": "250px"
      }
     },
     "084d59ca166f4d4ea4b932d2c67511d1": {
      "model_module": "@jupyter-widgets/controls",
      "model_module_version": "2.0.0",
      "model_name": "HBoxModel",
      "state": {
       "children": [
        "IPY_MODEL_bc2e5daa20574ff58930ab6b6c66d794",
        "IPY_MODEL_8f0c818fc47344f2b5b3dd21947326fa",
        "IPY_MODEL_291b907abb214588869d83f77b7537f9"
       ],
       "layout": "IPY_MODEL_a8b3d2f7817f46989ced9490d1c5797c"
      }
     },
     "09255e86592a4aebbf569c2142c78628": {
      "model_module": "@jupyter-widgets/base",
      "model_module_version": "2.0.0",
      "model_name": "LayoutModel",
      "state": {
       "grid_area": "widget003",
       "width": "50%"
      }
     },
     "094dfd2808f6441b91f1f37dfcb711df": {
      "model_module": "@jupyter-widgets/controls",
      "model_module_version": "2.0.0",
      "model_name": "TextareaModel",
      "state": {
       "description": "Input",
       "layout": "IPY_MODEL_25fc44b954a64b5d822fb77901eef224",
       "placeholder": "Enter the sentence to translate",
       "style": "IPY_MODEL_aa0b80c4cb9d492c9c1827ee7b2f7c54",
       "value": "I am a student"
      }
     },
     "0988851fd5634c37b347ebc1774d885b": {
      "model_module": "@jupyter-widgets/controls",
      "model_module_version": "2.0.0",
      "model_name": "TextareaModel",
      "state": {
       "description": "Input",
       "layout": "IPY_MODEL_d17cc42e6603412e96b2e95261db9e54",
       "placeholder": "Enter the instruction to generate",
       "style": "IPY_MODEL_5d9e9e8d96f740b2bc22b1c62e271d62",
       "value": "Instruction: Given an input question, respond with syntactically correct PostgreSQL. Only use table called 'employees'.\nInput: Select names of all the employees who are working under 'Peter'.\nPostgreSQL query: "
      }
     },
     "09a0df5e675b40b2a86584f4ab3454fc": {
      "model_module": "@jupyter-widgets/base",
      "model_module_version": "2.0.0",
      "model_name": "LayoutModel",
      "state": {
       "grid_area": "widget002",
       "height": "100px",
       "width": "95%"
      }
     },
     "09abcc718cd8454a984889b9a24597ea": {
      "model_module": "@jupyter-widgets/controls",
      "model_module_version": "2.0.0",
      "model_name": "DescriptionStyleModel",
      "state": {
       "description_width": "initial"
      }
     },
     "0a8daf84de134f4fade4efae909723b0": {
      "model_module": "@jupyter-widgets/controls",
      "model_module_version": "2.0.0",
      "model_name": "DescriptionStyleModel",
      "state": {
       "description_width": "initial"
      }
     },
     "0ad0f8e6b830462ea032ca0ab908df61": {
      "model_module": "@jupyter-widgets/controls",
      "model_module_version": "2.0.0",
      "model_name": "GridBoxModel",
      "state": {
       "children": [
        "IPY_MODEL_54161bdd8f91473bb27aacbe0d361be2",
        "IPY_MODEL_4d1b61a4aba64f1caa89cfa35f71a4b1",
        "IPY_MODEL_c7a427e2f7b24cda8d004966f63cc8fa"
       ],
       "layout": "IPY_MODEL_9351bbc78ff945378cdfb95cd06efc2d"
      }
     },
     "0b993746e28d41989bb420119b798419": {
      "model_module": "@jupyter-widgets/base",
      "model_module_version": "2.0.0",
      "model_name": "LayoutModel",
      "state": {
       "grid_area": "widget001",
       "height": "100px",
       "width": "95%"
      }
     },
     "0bea8bd7773a42ef83790a816646c3d4": {
      "model_module": "@jupyter-widgets/controls",
      "model_module_version": "2.0.0",
      "model_name": "ProgressStyleModel",
      "state": {
       "description_width": ""
      }
     },
     "0c64fbfe30cd4ce09106c36996fcf350": {
      "model_module": "@jupyter-widgets/controls",
      "model_module_version": "2.0.0",
      "model_name": "ButtonStyleModel",
      "state": {
       "font_family": null,
       "font_size": null,
       "font_style": null,
       "font_variant": null,
       "font_weight": null,
       "text_color": null,
       "text_decoration": null
      }
     },
     "0d74545f9bc24aacbde5b6bce912bb88": {
      "model_module": "@jupyter-widgets/controls",
      "model_module_version": "2.0.0",
      "model_name": "RadioButtonsModel",
      "state": {
       "_options_labels": [
        "Instruction: Given an input question, respond with syntactically correct PostgreSQL\nInput: How many users signed up in the past month?\nPostgreSQL query: ",
        "Instruction: Given an input question, respond with syntactically correct PostgreSQL\nInput: Create a query that displays empfname, emplname, deptid, deptname, location from employee table. Results should be in the ascending order based on the empfname and location.\nPostgreSQL query: ",
        "Instruction: Given an input question, respond with syntactically correct PostgreSQL. Only use table called 'employees'.\nInput: What is the total salary paid to all the employees?\nPostgreSQL query: ",
        "Instruction: Given an input question, respond with syntactically correct PostgreSQL. Only use table called 'employees'.\nInput: List names of all the employees whose name end with 'r'.\nPostgreSQL query: ",
        "Instruction: Given an input question, respond with syntactically correct PostgreSQL. Only use table called 'employees'.\nInput: What are the number of employees in each department?\nPostgreSQL query: ",
        "Instruction: Given an input question, respond with syntactically correct PostgreSQL. Only use table called 'employees'.\nInput: Select names of all theemployees who have third character in their name as 't'.\nPostgreSQL query: ",
        "Instruction: Given an input question, respond with syntactically correct PostgreSQL. Only use table called 'employees'.\nInput: Select names of all the employees who are working under 'Peter'.\nPostgreSQL query: "
       ],
       "description": "Choose a sample Prompt",
       "index": null,
       "layout": "IPY_MODEL_951f435a0dfb4e8fbc3a3d042b770b99",
       "style": "IPY_MODEL_2c1d4801c154441486dc8947255bbcbc"
      }
     },
     "0dc40a1139e84ee286c27965d79191fe": {
      "model_module": "@jupyter-widgets/controls",
      "model_module_version": "2.0.0",
      "model_name": "RadioButtonsModel",
      "state": {
       "_options_labels": [
        "Instruction: Given an input question, respond with syntactically correct PostgreSQL\nInput: How many users signed up in the past month?\nPostgreSQL query: ",
        "Instruction: Given an input question, respond with syntactically correct PostgreSQL\nInput: Create a query that displays empfname, emplname, deptid, deptname, location from employee table. Results should be in the ascending order based on the empfname and location.\nPostgreSQL query: ",
        "Instruction: Given an input question, respond with syntactically correct PostgreSQL. Only use table called 'employees'.\nInput: What is the total salary paid to all the employees?\nPostgreSQL query: ",
        "Instruction: Given an input question, respond with syntactically correct PostgreSQL. Only use table called 'employees'.\nInput: List names of all the employees whose name end with 'r'.\nPostgreSQL query: ",
        "Instruction: Given an input question, respond with syntactically correct PostgreSQL. Only use table called 'employees'.\nInput: What are the number of employees in each department?\nPostgreSQL query: ",
        "Instruction: Given an input question, respond with syntactically correct PostgreSQL. Only use table called 'employees'.\nInput: Select names of all theemployees who have third character in their name as 't'.\nPostgreSQL query: ",
        "Instruction: Given an input question, respond with syntactically correct PostgreSQL. Only use table called 'employees'.\nInput: Select names of all the employees who are working under 'Peter'.\nPostgreSQL query: "
       ],
       "description": "Choose a sample Prompt",
       "index": null,
       "layout": "IPY_MODEL_65033df1cc3149cb8c8c55909ab67f45",
       "style": "IPY_MODEL_faf7fe39d9e246e49136a62105bd95df"
      }
     },
     "0f2bc67d89f04c22990f9b73d3164a89": {
      "model_module": "@jupyter-widgets/controls",
      "model_module_version": "2.0.0",
      "model_name": "ButtonStyleModel",
      "state": {
       "font_family": null,
       "font_size": null,
       "font_style": null,
       "font_variant": null,
       "font_weight": null,
       "text_color": null,
       "text_decoration": null
      }
     },
     "10faf09db5704d82ad154b4098dfa383": {
      "model_module": "@jupyter-widgets/base",
      "model_module_version": "2.0.0",
      "model_name": "LayoutModel",
      "state": {
       "grid_area": "widget001",
       "width": "auto"
      }
     },
     "1139a0870aca464f9c5bc58fc664deae": {
      "model_module": "@jupyter-widgets/base",
      "model_module_version": "2.0.0",
      "model_name": "LayoutModel",
      "state": {
       "align_items": "center",
       "grid_template_areas": "\"widget001\"\n\"widget002\"\n\"widget003\"",
       "grid_template_columns": "repeat(1, 1fr)",
       "grid_template_rows": "repeat(3, 1fr)",
       "height": "250px"
      }
     },
     "124cab754d304e3eb964bad19c9dcd33": {
      "model_module": "@jupyter-widgets/base",
      "model_module_version": "2.0.0",
      "model_name": "LayoutModel",
      "state": {
       "grid_area": "widget002",
       "height": "200px",
       "width": "95%"
      }
     },
     "128116ff10b54f3da1d7efe51b5761f8": {
      "model_module": "@jupyter-widgets/base",
      "model_module_version": "2.0.0",
      "model_name": "LayoutModel",
      "state": {}
     },
     "12c72e38105a46268041fc6c1b0fe90d": {
      "model_module": "@jupyter-widgets/base",
      "model_module_version": "2.0.0",
      "model_name": "LayoutModel",
      "state": {
       "grid_area": "widget003",
       "width": "50%"
      }
     },
     "1354d76852ad427abe0c3d1c96962afd": {
      "model_module": "@jupyter-widgets/base",
      "model_module_version": "2.0.0",
      "model_name": "LayoutModel",
      "state": {
       "grid_template_areas": "\"widget001\"\n\"widget002\"\n\"widget003\"",
       "grid_template_columns": "repeat(1, 1fr)",
       "grid_template_rows": "repeat(3, 1fr)",
       "height": "500px"
      }
     },
     "137d49b8663b4bdeb70228f38e8889d6": {
      "model_module": "@jupyter-widgets/controls",
      "model_module_version": "2.0.0",
      "model_name": "DescriptionStyleModel",
      "state": {
       "description_width": "initial"
      }
     },
     "1426457d81a74c47a7702fce4b976c35": {
      "model_module": "@jupyter-widgets/controls",
      "model_module_version": "2.0.0",
      "model_name": "DescriptionStyleModel",
      "state": {
       "description_width": "initial"
      }
     },
     "14e1941f104d41bbb482d9482afd7750": {
      "model_module": "@jupyter-widgets/base",
      "model_module_version": "2.0.0",
      "model_name": "LayoutModel",
      "state": {
       "grid_area": "widget001",
       "width": "auto"
      }
     },
     "1592e4f073b44103b681bebb166ee76a": {
      "model_module": "@jupyter-widgets/base",
      "model_module_version": "2.0.0",
      "model_name": "LayoutModel",
      "state": {
       "grid_area": "widget002",
       "width": "auto"
      }
     },
     "15c551d72799491e8939cc994b71e6c6": {
      "model_module": "@jupyter-widgets/base",
      "model_module_version": "2.0.0",
      "model_name": "LayoutModel",
      "state": {}
     },
     "15ea28158f0a4f2f8c8d21ea2c5ed4a2": {
      "model_module": "@jupyter-widgets/controls",
      "model_module_version": "2.0.0",
      "model_name": "ButtonModel",
      "state": {
       "description": "Translate",
       "icon": "check",
       "layout": "IPY_MODEL_f16e48bfde4a4a88a302739a1c9723b7",
       "style": "IPY_MODEL_e8b0836fffcc44ab9cc6fbe24b6c20b0",
       "tooltip": null
      }
     },
     "164f727ffd2548ae970fac0941837bb9": {
      "model_module": "@jupyter-widgets/controls",
      "model_module_version": "2.0.0",
      "model_name": "DescriptionStyleModel",
      "state": {
       "description_width": "initial"
      }
     },
     "167669b5ae6946faafcb0c7b21f7a5a8": {
      "model_module": "@jupyter-widgets/base",
      "model_module_version": "2.0.0",
      "model_name": "LayoutModel",
      "state": {}
     },
     "16cf7050ef1a4d1aab5f10b6e90f9dbc": {
      "model_module": "@jupyter-widgets/controls",
      "model_module_version": "2.0.0",
      "model_name": "TextStyleModel",
      "state": {
       "description_width": "50px",
       "font_size": null,
       "text_color": null
      }
     },
     "16d057062fac4f94980c76af774be3f6": {
      "model_module": "@jupyter-widgets/base",
      "model_module_version": "2.0.0",
      "model_name": "LayoutModel",
      "state": {
       "grid_area": "widget003",
       "width": "50%"
      }
     },
     "16e2fa19c83846a9b582c671caadfaa4": {
      "model_module": "@jupyter-widgets/base",
      "model_module_version": "2.0.0",
      "model_name": "LayoutModel",
      "state": {
       "grid_area": "widget001",
       "height": "100%",
       "width": "95%"
      }
     },
     "175f27f260454ecba8a680cfe29d409a": {
      "model_module": "@jupyter-widgets/base",
      "model_module_version": "2.0.0",
      "model_name": "LayoutModel",
      "state": {
       "grid_area": "widget003",
       "width": "50%"
      }
     },
     "17e2e5c55a6a48a89c0aeb0125d0b39e": {
      "model_module": "@jupyter-widgets/controls",
      "model_module_version": "2.0.0",
      "model_name": "TextStyleModel",
      "state": {
       "description_width": "50px",
       "font_size": null,
       "text_color": null
      }
     },
     "18459a8e7d0747d1acac7b617bd658ed": {
      "model_module": "@jupyter-widgets/controls",
      "model_module_version": "2.0.0",
      "model_name": "TextStyleModel",
      "state": {
       "description_width": "50px",
       "font_size": null,
       "text_color": null
      }
     },
     "18479a4cce1b4102a52fce6e14dd4206": {
      "model_module": "@jupyter-widgets/controls",
      "model_module_version": "2.0.0",
      "model_name": "ButtonStyleModel",
      "state": {
       "font_family": null,
       "font_size": null,
       "font_style": null,
       "font_variant": null,
       "font_weight": null,
       "text_color": null,
       "text_decoration": null
      }
     },
     "184b30869f954ccb93cb1fa10ef0d834": {
      "model_module": "@jupyter-widgets/controls",
      "model_module_version": "2.0.0",
      "model_name": "TextareaModel",
      "state": {
       "description": "Output",
       "layout": "IPY_MODEL_2ac745030e7a4ed09e4e28d4763417d0",
       "placeholder": "Generated SQL",
       "style": "IPY_MODEL_2d3e390c63b64652b945785020348a85"
      }
     },
     "1862f206537c46118a1f828734a7dc6a": {
      "model_module": "@jupyter-widgets/controls",
      "model_module_version": "2.0.0",
      "model_name": "DescriptionStyleModel",
      "state": {
       "description_width": "initial"
      }
     },
     "18696da9728247e6bd7aefc3e72d86af": {
      "model_module": "@jupyter-widgets/base",
      "model_module_version": "2.0.0",
      "model_name": "LayoutModel",
      "state": {}
     },
     "19557a6f06794246a758acda5bf4b747": {
      "model_module": "@jupyter-widgets/base",
      "model_module_version": "2.0.0",
      "model_name": "LayoutModel",
      "state": {
       "grid_area": "widget002",
       "height": "100px",
       "width": "95%"
      }
     },
     "1c0b802e518b4503bf95595f755ae391": {
      "model_module": "@jupyter-widgets/controls",
      "model_module_version": "2.0.0",
      "model_name": "ButtonModel",
      "state": {
       "description": "Generate SQL",
       "icon": "check",
       "layout": "IPY_MODEL_224bf5bbf712411d89e2350e752d83dd",
       "style": "IPY_MODEL_1e0943fdc6a0496e9e8cee77fafbd500",
       "tooltip": null
      }
     },
     "1c53a59db50149ffa43fd15182c73817": {
      "model_module": "@jupyter-widgets/base",
      "model_module_version": "2.0.0",
      "model_name": "LayoutModel",
      "state": {
       "grid_template_areas": "\"widget001\"\n\"widget002\"\n\"widget003\"",
       "grid_template_columns": "repeat(1, 1fr)",
       "grid_template_rows": "repeat(3, 1fr)",
       "height": "500px"
      }
     },
     "1c8ae7a46d274d6a95c4d214088690dc": {
      "model_module": "@jupyter-widgets/controls",
      "model_module_version": "2.0.0",
      "model_name": "DescriptionStyleModel",
      "state": {
       "description_width": ""
      }
     },
     "1cbc930818be4410acb61919e63a739c": {
      "model_module": "@jupyter-widgets/base",
      "model_module_version": "2.0.0",
      "model_name": "LayoutModel",
      "state": {
       "grid_area": "widget001",
       "height": "100px",
       "width": "95%"
      }
     },
     "1cfe6f35721c40fe9c71207c8b1aefc0": {
      "model_module": "@jupyter-widgets/controls",
      "model_module_version": "2.0.0",
      "model_name": "ButtonModel",
      "state": {
       "description": "Generate SQL",
       "icon": "check",
       "layout": "IPY_MODEL_011f3ef3294a4275abbec59349d66b5d",
       "style": "IPY_MODEL_23a9b9f2ae4f4e9c9d724d26d2b128ac",
       "tooltip": null
      }
     },
     "1df7c60eb4604fb7bb14346d9d60683c": {
      "model_module": "@jupyter-widgets/controls",
      "model_module_version": "2.0.0",
      "model_name": "HTMLModel",
      "state": {
       "layout": "IPY_MODEL_03828c87c2f445878aad8aaf0964224f",
       "style": "IPY_MODEL_a6b11f5b49b940f08891432429cb3dcf",
       "value": " 66.1M/6.70G [00:41&lt;05:13, 22.8MB/s]"
      }
     },
     "1dfb1144605549ee80d4be371a2bf54b": {
      "model_module": "@jupyter-widgets/base",
      "model_module_version": "2.0.0",
      "model_name": "LayoutModel",
      "state": {
       "grid_area": "widget005",
       "width": "auto"
      }
     },
     "1e0943fdc6a0496e9e8cee77fafbd500": {
      "model_module": "@jupyter-widgets/controls",
      "model_module_version": "2.0.0",
      "model_name": "ButtonStyleModel",
      "state": {
       "font_family": null,
       "font_size": null,
       "font_style": null,
       "font_variant": null,
       "font_weight": null,
       "text_color": null,
       "text_decoration": null
      }
     },
     "1eb10cd78d6446c89adf2d6c9fc3ed64": {
      "model_module": "@jupyter-widgets/controls",
      "model_module_version": "2.0.0",
      "model_name": "FloatProgressModel",
      "state": {
       "bar_style": "success",
       "layout": "IPY_MODEL_71840e3772a94814a92a57b90fff3369",
       "max": 222,
       "style": "IPY_MODEL_5eed3475a56c42b98c0d46e232a99380",
       "value": 222
      }
     },
     "1f4900dbe8bf41b79a020915a0f85d22": {
      "model_module": "@jupyter-widgets/controls",
      "model_module_version": "2.0.0",
      "model_name": "DescriptionStyleModel",
      "state": {
       "description_width": "initial"
      }
     },
     "1f6dfe0e65b942c7b56ee594b330da41": {
      "model_module": "@jupyter-widgets/controls",
      "model_module_version": "2.0.0",
      "model_name": "DescriptionStyleModel",
      "state": {
       "description_width": ""
      }
     },
     "1fa794e125824c09adab1c5eea3c85c5": {
      "model_module": "@jupyter-widgets/controls",
      "model_module_version": "2.0.0",
      "model_name": "TextStyleModel",
      "state": {
       "description_width": "50px",
       "font_size": null,
       "text_color": null
      }
     },
     "2022531f1f754372a828b745995574ad": {
      "model_module": "@jupyter-widgets/base",
      "model_module_version": "2.0.0",
      "model_name": "LayoutModel",
      "state": {
       "grid_area": "widget004",
       "height": "100px",
       "width": "95%"
      }
     },
     "2036ff8ff3ff4e3bae90144e14d7f630": {
      "model_module": "@jupyter-widgets/controls",
      "model_module_version": "2.0.0",
      "model_name": "TextStyleModel",
      "state": {
       "description_width": "50px",
       "font_size": null,
       "text_color": null
      }
     },
     "207f809b9e24420ab65d72e45d2b0553": {
      "model_module": "@jupyter-widgets/controls",
      "model_module_version": "2.0.0",
      "model_name": "GridBoxModel",
      "state": {
       "children": [
        "IPY_MODEL_ebd5e4b250a2412c9b07835e8bde2512",
        "IPY_MODEL_bfa9f3cff3b3469ab1cd54478181740b"
       ],
       "layout": "IPY_MODEL_01e4895bd03244b19a274559ed2756a3"
      }
     },
     "224bf5bbf712411d89e2350e752d83dd": {
      "model_module": "@jupyter-widgets/base",
      "model_module_version": "2.0.0",
      "model_name": "LayoutModel",
      "state": {
       "grid_area": "widget003",
       "width": "95%"
      }
     },
     "2280adf2cfb54e56b07ae93e465863de": {
      "model_module": "@jupyter-widgets/base",
      "model_module_version": "2.0.0",
      "model_name": "LayoutModel",
      "state": {
       "grid_template_areas": "\"widget001 widget002\"\n\"widget003 widget003\"\n\"widget004 widget004\"\n\". widget005\"",
       "grid_template_columns": "repeat(2, 1fr)",
       "grid_template_rows": "repeat(4, 1fr)",
       "height": "300px"
      }
     },
     "23a9b9f2ae4f4e9c9d724d26d2b128ac": {
      "model_module": "@jupyter-widgets/controls",
      "model_module_version": "2.0.0",
      "model_name": "ButtonStyleModel",
      "state": {
       "font_family": null,
       "font_size": null,
       "font_style": null,
       "font_variant": null,
       "font_weight": null,
       "text_color": null,
       "text_decoration": null
      }
     },
     "23f42bc48ffc4bfaa2f9e55d7a80631d": {
      "model_module": "@jupyter-widgets/base",
      "model_module_version": "2.0.0",
      "model_name": "LayoutModel",
      "state": {
       "grid_area": "widget002",
       "height": "100px",
       "width": "95%"
      }
     },
     "246c93dabe984dee8e1b30953f028503": {
      "model_module": "@jupyter-widgets/controls",
      "model_module_version": "2.0.0",
      "model_name": "ButtonModel",
      "state": {
       "description": "Generate SQL",
       "icon": "check",
       "layout": "IPY_MODEL_dabe7545587c4a319987d045d30300f5",
       "style": "IPY_MODEL_a1a631e1acc840b9a935ce15d0d93759",
       "tooltip": null
      }
     },
     "24e53a6d7e944f68b36707c91b9e612a": {
      "model_module": "@jupyter-widgets/controls",
      "model_module_version": "2.0.0",
      "model_name": "DescriptionStyleModel",
      "state": {
       "description_width": "initial"
      }
     },
     "25082bbdae6a43a1944a2ceb4d2622e2": {
      "model_module": "@jupyter-widgets/controls",
      "model_module_version": "2.0.0",
      "model_name": "ProgressStyleModel",
      "state": {
       "description_width": ""
      }
     },
     "255d5d5edc3043528274d02a54ea8af2": {
      "model_module": "@jupyter-widgets/controls",
      "model_module_version": "2.0.0",
      "model_name": "DescriptionStyleModel",
      "state": {
       "description_width": ""
      }
     },
     "25fc44b954a64b5d822fb77901eef224": {
      "model_module": "@jupyter-widgets/base",
      "model_module_version": "2.0.0",
      "model_name": "LayoutModel",
      "state": {
       "grid_area": "widget003",
       "height": "100px",
       "width": "95%"
      }
     },
     "261d9e25d64444459461aa569e2a65b7": {
      "model_module": "@jupyter-widgets/controls",
      "model_module_version": "2.0.0",
      "model_name": "RadioButtonsModel",
      "state": {
       "_options_labels": [
        "Instruction: Given an input question, respond with syntactically correct PostgreSQL\nInput: How many users signed up in the past month?\nPostgreSQL query: ",
        "Instruction: Given an input question, respond with syntactically correct PostgreSQL\nInput: Create a query that displays empfname, emplname, deptid, deptname, location from employee table. Results should be in the ascending order based on the empfname and location.\nPostgreSQL query: ",
        "Instruction: Given an input question, respond with syntactically correct PostgreSQL. Only use table called 'employees'.\nInput: What is the total salary paid to all the employees?\nPostgreSQL query: ",
        "Instruction: Given an input question, respond with syntactically correct PostgreSQL. Only use table called 'employees'.\nInput: List names of all the employees whose name end with 'r'.\nPostgreSQL query: ",
        "Instruction: Given an input question, respond with syntactically correct PostgreSQL. Only use table called 'employees'.\nInput: What are the number of employees in each department?\nPostgreSQL query: ",
        "Instruction: Given an input question, respond with syntactically correct PostgreSQL. Only use table called 'employees'.\nInput: Select names of all theemployees who have third character in their name as 't'.\nPostgreSQL query: ",
        "Instruction: Given an input question, respond with syntactically correct PostgreSQL. Only use table called 'employees'.\nInput: Select names of all the employees who are working under 'Peter'.\nPostgreSQL query: "
       ],
       "description": "Choose a sample Prompt",
       "index": null,
       "layout": "IPY_MODEL_f30187c6dedd40bebc705654a3825b5d",
       "style": "IPY_MODEL_b92f4b3ccf504fd2b7f17434ccce8b55"
      }
     },
     "26429b73bdaa4174bcc64601e6e58558": {
      "model_module": "@jupyter-widgets/controls",
      "model_module_version": "2.0.0",
      "model_name": "TextStyleModel",
      "state": {
       "description_width": "50px",
       "font_size": null,
       "text_color": null
      }
     },
     "27328171029548d68c185a9de2831d45": {
      "model_module": "@jupyter-widgets/base",
      "model_module_version": "2.0.0",
      "model_name": "LayoutModel",
      "state": {
       "grid_area": "widget003",
       "height": "100px",
       "width": "95%"
      }
     },
     "27ff8570ff36411db066b6d046a93b9a": {
      "model_module": "@jupyter-widgets/controls",
      "model_module_version": "2.0.0",
      "model_name": "TextareaModel",
      "state": {
       "description": "Input",
       "layout": "IPY_MODEL_6e90e79e5bdc41a1b7e8baa7503f098d",
       "placeholder": "Enter the instruction to generate",
       "style": "IPY_MODEL_17e2e5c55a6a48a89c0aeb0125d0b39e",
       "value": "Instruction: Given an input question, respond with syntactically correct PostgreSQL. Only use table called 'employees'.\nInput: Select names of all the employees who are working under 'Peter'.\nPostgreSQL query: "
      }
     },
     "28b528588b1b4541a2860892aa1e0679": {
      "model_module": "@jupyter-widgets/base",
      "model_module_version": "2.0.0",
      "model_name": "LayoutModel",
      "state": {
       "grid_area": "widget002",
       "height": "100px",
       "width": "95%"
      }
     },
     "28c2d2ed86884038a67d527045508fd2": {
      "model_module": "@jupyter-widgets/controls",
      "model_module_version": "2.0.0",
      "model_name": "ButtonModel",
      "state": {
       "description": "Translate",
       "icon": "check",
       "layout": "IPY_MODEL_a9434e58357c4f88ac2f95e2e8474e52",
       "style": "IPY_MODEL_c5eb0e439a484169821bab84fce453c3",
       "tooltip": null
      }
     },
     "291b907abb214588869d83f77b7537f9": {
      "model_module": "@jupyter-widgets/controls",
      "model_module_version": "2.0.0",
      "model_name": "HTMLModel",
      "state": {
       "layout": "IPY_MODEL_91c6ee085d264b9fa554696b38a7472f",
       "style": "IPY_MODEL_7fcf8a50dbdf48008e1eff1fd20ef855",
       "value": " 5.60G/6.70G [04:40&lt;00:52, 22.6MB/s]"
      }
     },
     "2958c5f55d9b44d1be1b9438f65bc1aa": {
      "model_module": "@jupyter-widgets/controls",
      "model_module_version": "2.0.0",
      "model_name": "DropdownModel",
      "state": {
       "_options_labels": [
        "English",
        "Spanish",
        "French"
       ],
       "description": "To Language",
       "index": 2,
       "layout": "IPY_MODEL_41e16c3f77ac4442a50efa9b88e563d3",
       "style": "IPY_MODEL_3b3ab334aee2495989de3bacefa08b37"
      }
     },
     "29783c0b4ccb4107baec5f93639120e5": {
      "model_module": "@jupyter-widgets/base",
      "model_module_version": "2.0.0",
      "model_name": "LayoutModel",
      "state": {
       "grid_area": "widget002",
       "height": "100px",
       "width": "95%"
      }
     },
     "2985781e00ca43e1aa9f586cfef1dc8a": {
      "model_module": "@jupyter-widgets/base",
      "model_module_version": "2.0.0",
      "model_name": "LayoutModel",
      "state": {
       "grid_template_areas": "\"widget001\"\n\"widget002\"\n\"widget003\"",
       "grid_template_columns": "repeat(1, 1fr)",
       "grid_template_rows": "repeat(3, 1fr)",
       "height": "300px"
      }
     },
     "29a7914658c74d0bb5554675ff00b385": {
      "model_module": "@jupyter-widgets/base",
      "model_module_version": "2.0.0",
      "model_name": "LayoutModel",
      "state": {
       "align_items": "center",
       "grid_template_areas": "\"widget001\"\n\"widget002\"\n\"widget003\"",
       "grid_template_columns": "repeat(1, 1fr)",
       "grid_template_rows": "repeat(3, 1fr)",
       "height": "250px"
      }
     },
     "29d3610b8b834af583e5f22a80e4aa6e": {
      "model_module": "@jupyter-widgets/controls",
      "model_module_version": "2.0.0",
      "model_name": "ButtonModel",
      "state": {
       "description": "Generate SQL",
       "icon": "check",
       "layout": "IPY_MODEL_de65ff32f14d4bd1a362e1e64aca785b",
       "style": "IPY_MODEL_a611bc29851a489e963398db3b2b3239",
       "tooltip": null
      }
     },
     "2a1554d16332402ab2982e2d8d40cf15": {
      "model_module": "@jupyter-widgets/base",
      "model_module_version": "2.0.0",
      "model_name": "LayoutModel",
      "state": {}
     },
     "2a1889339e6d410eacd5c6e249894aca": {
      "model_module": "@jupyter-widgets/controls",
      "model_module_version": "2.0.0",
      "model_name": "DescriptionStyleModel",
      "state": {
       "description_width": "initial"
      }
     },
     "2a2f6ba7f64b4b5db88ef71b25edd38d": {
      "model_module": "@jupyter-widgets/controls",
      "model_module_version": "2.0.0",
      "model_name": "TextStyleModel",
      "state": {
       "description_width": "50px",
       "font_size": null,
       "text_color": null
      }
     },
     "2a50915ea521406a82b481ff38b79ed2": {
      "model_module": "@jupyter-widgets/controls",
      "model_module_version": "2.0.0",
      "model_name": "DescriptionStyleModel",
      "state": {
       "description_width": ""
      }
     },
     "2a9a47c9a82e483589089d7f1800fe64": {
      "model_module": "@jupyter-widgets/base",
      "model_module_version": "2.0.0",
      "model_name": "LayoutModel",
      "state": {
       "grid_area": "widget001",
       "height": "100px",
       "width": "95%"
      }
     },
     "2aa887cafbaf4c919588c4cd642b3c07": {
      "model_module": "@jupyter-widgets/controls",
      "model_module_version": "2.0.0",
      "model_name": "GridBoxModel",
      "state": {
       "children": [
        "IPY_MODEL_0988851fd5634c37b347ebc1774d885b",
        "IPY_MODEL_fb4ad0a3844a45febaa0a03db8aeb1f3",
        "IPY_MODEL_523473bf080949d99488d8082e31fe05"
       ],
       "layout": "IPY_MODEL_5a0313e5f6ae446088fe7414a814c27d"
      }
     },
     "2ac745030e7a4ed09e4e28d4763417d0": {
      "model_module": "@jupyter-widgets/base",
      "model_module_version": "2.0.0",
      "model_name": "LayoutModel",
      "state": {
       "grid_area": "widget002",
       "height": "100px",
       "width": "95%"
      }
     },
     "2aed10ab0ec543369624ca9ba700bf50": {
      "model_module": "@jupyter-widgets/controls",
      "model_module_version": "2.0.0",
      "model_name": "DescriptionStyleModel",
      "state": {
       "description_width": "initial"
      }
     },
     "2b585b55541d4a98b64c3a34fd79ef1c": {
      "model_module": "@jupyter-widgets/controls",
      "model_module_version": "2.0.0",
      "model_name": "DescriptionStyleModel",
      "state": {
       "description_width": ""
      }
     },
     "2bbdd28d441d4f188016d533d7a08fcc": {
      "model_module": "@jupyter-widgets/controls",
      "model_module_version": "2.0.0",
      "model_name": "DescriptionStyleModel",
      "state": {
       "description_width": ""
      }
     },
     "2be2c2727f5548878d959e91088794a2": {
      "model_module": "@jupyter-widgets/base",
      "model_module_version": "2.0.0",
      "model_name": "LayoutModel",
      "state": {}
     },
     "2bee45b6b65f418eb50abe1cd41dc7a1": {
      "model_module": "@jupyter-widgets/controls",
      "model_module_version": "2.0.0",
      "model_name": "DescriptionStyleModel",
      "state": {
       "description_width": "initial"
      }
     },
     "2bef10f1307844249f6fe69227fe439f": {
      "model_module": "@jupyter-widgets/controls",
      "model_module_version": "2.0.0",
      "model_name": "DescriptionStyleModel",
      "state": {
       "description_width": ""
      }
     },
     "2c147552e1574fcb98e39cf23e3f2553": {
      "model_module": "@jupyter-widgets/base",
      "model_module_version": "2.0.0",
      "model_name": "LayoutModel",
      "state": {
       "grid_area": "widget001",
       "width": "auto"
      }
     },
     "2c1d4801c154441486dc8947255bbcbc": {
      "model_module": "@jupyter-widgets/controls",
      "model_module_version": "2.0.0",
      "model_name": "DescriptionStyleModel",
      "state": {
       "description_width": "initial"
      }
     },
     "2cf2f903ad834531bf709fe1816cc746": {
      "model_module": "@jupyter-widgets/controls",
      "model_module_version": "2.0.0",
      "model_name": "DescriptionStyleModel",
      "state": {
       "description_width": "initial"
      }
     },
     "2d3e390c63b64652b945785020348a85": {
      "model_module": "@jupyter-widgets/controls",
      "model_module_version": "2.0.0",
      "model_name": "TextStyleModel",
      "state": {
       "description_width": "50px",
       "font_size": null,
       "text_color": null
      }
     },
     "2d485f0538c349968b2124d251d4b36b": {
      "model_module": "@jupyter-widgets/controls",
      "model_module_version": "2.0.0",
      "model_name": "ProgressStyleModel",
      "state": {
       "description_width": ""
      }
     },
     "2ea8df1030eb4808ba95dc3e5ae7386a": {
      "model_module": "@jupyter-widgets/controls",
      "model_module_version": "2.0.0",
      "model_name": "DescriptionStyleModel",
      "state": {
       "description_width": "initial"
      }
     },
     "2fb40d27eff44386bf7a318e012a919c": {
      "model_module": "@jupyter-widgets/controls",
      "model_module_version": "2.0.0",
      "model_name": "ButtonStyleModel",
      "state": {
       "font_family": null,
       "font_size": null,
       "font_style": null,
       "font_variant": null,
       "font_weight": null,
       "text_color": null,
       "text_decoration": null
      }
     },
     "3019ca3d99314b8194b7bee645d7ca2e": {
      "model_module": "@jupyter-widgets/controls",
      "model_module_version": "2.0.0",
      "model_name": "DescriptionStyleModel",
      "state": {
       "description_width": "initial"
      }
     },
     "301e42092c914581b521408397a3c6a3": {
      "model_module": "@jupyter-widgets/controls",
      "model_module_version": "2.0.0",
      "model_name": "HBoxModel",
      "state": {
       "children": [
        "IPY_MODEL_4d66e54331864d66a05ba48da6000b93",
        "IPY_MODEL_edbc9575a03b428c823e9c470d3476ba",
        "IPY_MODEL_9a4df43081d945d0b8ed196466ae20de"
       ],
       "layout": "IPY_MODEL_a36dee72bf3b437384c43dfbe3a78d05"
      }
     },
     "3147ccaf0e9343bcbf0e5c8b55b74e36": {
      "model_module": "@jupyter-widgets/controls",
      "model_module_version": "2.0.0",
      "model_name": "TextStyleModel",
      "state": {
       "description_width": "50px",
       "font_size": null,
       "text_color": null
      }
     },
     "315e6d3bc36542d7846994d25a241fe8": {
      "model_module": "@jupyter-widgets/base",
      "model_module_version": "2.0.0",
      "model_name": "LayoutModel",
      "state": {
       "grid_template_areas": "\"widget001\"\n\"widget002\"\n\"widget003\"",
       "grid_template_columns": "repeat(1, 1fr)",
       "grid_template_rows": "repeat(3, 1fr)",
       "height": "900px"
      }
     },
     "318d80b06be749acab6dc78cfe228308": {
      "model_module": "@jupyter-widgets/controls",
      "model_module_version": "2.0.0",
      "model_name": "DescriptionStyleModel",
      "state": {
       "description_width": "initial"
      }
     },
     "322eb64ccd754325bfb5d2ad89617562": {
      "model_module": "@jupyter-widgets/base",
      "model_module_version": "2.0.0",
      "model_name": "LayoutModel",
      "state": {
       "grid_area": "widget001",
       "width": "auto"
      }
     },
     "329aa9ff151147d2a1f0c946f977f6c7": {
      "model_module": "@jupyter-widgets/controls",
      "model_module_version": "2.0.0",
      "model_name": "RadioButtonsModel",
      "state": {
       "_options_labels": [
        "Instruction: Given an input question, respond with syntactically correct PostgreSQL\nInput: How many users signed up in the past month?\nPostgreSQL query: ",
        "Instruction: Given an input question, respond with syntactically correct PostgreSQL\nInput: Create a query that displays empfname, emplname, deptid, deptname, location from employee table. Results should be in the ascending order based on the empfname and location.\nPostgreSQL query: ",
        "Instruction: Given an input question, respond with syntactically correct PostgreSQL. Only use table called 'employees'.\nInput: What is the total salary paid to all the employees?\nPostgreSQL query: ",
        "Instruction: Given an input question, respond with syntactically correct PostgreSQL. Only use table called 'employees'.\nInput: List names of all the employees whose name end with 'r'.\nPostgreSQL query: ",
        "Instruction: Given an input question, respond with syntactically correct PostgreSQL. Only use table called 'employees'.\nInput: What are the number of employees in each department?\nPostgreSQL query: ",
        "Instruction: Given an input question, respond with syntactically correct PostgreSQL. Only use table called 'employees'.\nInput: Select names of all theemployees who have third character in their name as 't'.\nPostgreSQL query: ",
        "Instruction: Given an input question, respond with syntactically correct PostgreSQL. Only use table called 'employees'.\nInput: Select names of all the employees who are working under 'Peter'.\nPostgreSQL query: "
       ],
       "description": "Choose a sample Prompt",
       "index": null,
       "layout": "IPY_MODEL_fa46dfcd4b684fac955427994d421d94",
       "style": "IPY_MODEL_ad9770ad27f14663a6abe7491f4ed36b"
      }
     },
     "32ee0ef1af484d72948c7f575e92eae5": {
      "model_module": "@jupyter-widgets/base",
      "model_module_version": "2.0.0",
      "model_name": "LayoutModel",
      "state": {
       "grid_area": "widget002",
       "width": "auto"
      }
     },
     "32efe7e28f78453bb4477dc4d2d98e70": {
      "model_module": "@jupyter-widgets/controls",
      "model_module_version": "2.0.0",
      "model_name": "ButtonStyleModel",
      "state": {
       "font_family": null,
       "font_size": null,
       "font_style": null,
       "font_variant": null,
       "font_weight": null,
       "text_color": null,
       "text_decoration": null
      }
     },
     "333be306be054df7bb2a6d85167baa86": {
      "model_module": "@jupyter-widgets/base",
      "model_module_version": "2.0.0",
      "model_name": "LayoutModel",
      "state": {}
     },
     "336e4205258e45829195d6929d005e6f": {
      "model_module": "@jupyter-widgets/controls",
      "model_module_version": "2.0.0",
      "model_name": "HBoxModel",
      "state": {
       "children": [
        "IPY_MODEL_e082002ae99143ad968b7392caaa0acf",
        "IPY_MODEL_82cc5b0e38074d9784f5b374d3c16995",
        "IPY_MODEL_ed20ea0e358040118f63dbac0660ab2b"
       ],
       "layout": "IPY_MODEL_634c8b26689042a680bf890439d92ffc"
      }
     },
     "337397c4fd3649c288257accf53b143d": {
      "model_module": "@jupyter-widgets/controls",
      "model_module_version": "2.0.0",
      "model_name": "DescriptionStyleModel",
      "state": {
       "description_width": "initial"
      }
     },
     "3429865c957744f89de78a0103376043": {
      "model_module": "@jupyter-widgets/controls",
      "model_module_version": "2.0.0",
      "model_name": "DescriptionStyleModel",
      "state": {
       "description_width": ""
      }
     },
     "350a7ca35dad461995a10ddd000b73e7": {
      "model_module": "@jupyter-widgets/controls",
      "model_module_version": "2.0.0",
      "model_name": "TextareaModel",
      "state": {
       "description": "Input",
       "layout": "IPY_MODEL_0b993746e28d41989bb420119b798419",
       "placeholder": "Enter the instruction to generate",
       "style": "IPY_MODEL_5f94ce320683475bb382cd948bdf7a73",
       "value": "Instruction: Given an input question, respond with syntactically correct PostgreSQL. Only use table called 'employees'.\nInput: Select names of all the employees who are working under 'Peter'.\nPostgreSQL query: "
      }
     },
     "3521bb38d45f4ffaa033c2cdc04cfff2": {
      "model_module": "@jupyter-widgets/base",
      "model_module_version": "2.0.0",
      "model_name": "LayoutModel",
      "state": {
       "grid_area": "widget002",
       "width": "auto"
      }
     },
     "3527a238a63f4ea189206c551ceb2255": {
      "model_module": "@jupyter-widgets/base",
      "model_module_version": "2.0.0",
      "model_name": "LayoutModel",
      "state": {
       "grid_area": "widget004",
       "height": "100px",
       "width": "95%"
      }
     },
     "35ab56c8cf124e1ea388aeb6a6bf611f": {
      "model_module": "@jupyter-widgets/controls",
      "model_module_version": "2.0.0",
      "model_name": "DescriptionStyleModel",
      "state": {
       "description_width": ""
      }
     },
     "35bf805295b14a08a5c996f4db810d23": {
      "model_module": "@jupyter-widgets/controls",
      "model_module_version": "2.0.0",
      "model_name": "GridBoxModel",
      "state": {
       "children": [
        "IPY_MODEL_38f27e3577194f67be152df75769842a",
        "IPY_MODEL_bc64d22c336d49a2a479f0f90a8817f1",
        "IPY_MODEL_5e9e2f10211b4a9298cd0793fb32e3a7"
       ],
       "layout": "IPY_MODEL_e53f3a9b310e42dd917458cd90e787fb"
      }
     },
     "3694729dcc28469a892ba5a11378e24e": {
      "model_module": "@jupyter-widgets/controls",
      "model_module_version": "2.0.0",
      "model_name": "TextStyleModel",
      "state": {
       "description_width": "50px",
       "font_size": null,
       "text_color": null
      }
     },
     "36e028bb38764fbb9959ba097c820c54": {
      "model_module": "@jupyter-widgets/base",
      "model_module_version": "2.0.0",
      "model_name": "LayoutModel",
      "state": {
       "grid_area": "widget001",
       "height": "300px",
       "width": "95%"
      }
     },
     "371dbf7a4046475d9a791243ab4b090e": {
      "model_module": "@jupyter-widgets/base",
      "model_module_version": "2.0.0",
      "model_name": "LayoutModel",
      "state": {
       "grid_template_areas": "\"widget001 widget002\"\n\"widget003 widget003\"\n\"widget004 widget004\"\n\". widget005\"",
       "grid_template_columns": "repeat(2, 1fr)",
       "grid_template_rows": "repeat(4, 1fr)",
       "height": "300px"
      }
     },
     "374ac215214f420080646a71b11d04e9": {
      "model_module": "@jupyter-widgets/controls",
      "model_module_version": "2.0.0",
      "model_name": "GridBoxModel",
      "state": {
       "children": [
        "IPY_MODEL_72fd7fb61cfe4229b0238fde76518571",
        "IPY_MODEL_ce839246b2324803842a7a695e743266",
        "IPY_MODEL_e519dc6ea53b4123a550c782edd0a996"
       ],
       "layout": "IPY_MODEL_1354d76852ad427abe0c3d1c96962afd"
      }
     },
     "37ebea50731a499b8428d459d075338f": {
      "model_module": "@jupyter-widgets/controls",
      "model_module_version": "2.0.0",
      "model_name": "TextareaModel",
      "state": {
       "description": "Input",
       "layout": "IPY_MODEL_9e2998614f814dbdadf0e0064eb40b5f",
       "placeholder": "Enter the instruction to generate",
       "style": "IPY_MODEL_3694729dcc28469a892ba5a11378e24e",
       "value": "Instruction: Given an input question, respond with syntactically correct PostgreSQL. Only use table called 'employees'.\nInput: Select names of all the employees who are working under 'Peter'.\nPostgreSQL query: "
      }
     },
     "37f571d0f0b442f8a967551e092bd23c": {
      "model_module": "@jupyter-widgets/base",
      "model_module_version": "2.0.0",
      "model_name": "LayoutModel",
      "state": {
       "grid_area": "widget003",
       "height": "100px",
       "width": "95%"
      }
     },
     "386dbca50ff246e499461852121cc680": {
      "model_module": "@jupyter-widgets/base",
      "model_module_version": "2.0.0",
      "model_name": "LayoutModel",
      "state": {
       "grid_area": "widget002",
       "height": "100px",
       "width": "95%"
      }
     },
     "38b75c70ca6147b5b6c0376c3c0d5e33": {
      "model_module": "@jupyter-widgets/controls",
      "model_module_version": "2.0.0",
      "model_name": "TextStyleModel",
      "state": {
       "description_width": "50px",
       "font_size": null,
       "text_color": null
      }
     },
     "38f27e3577194f67be152df75769842a": {
      "model_module": "@jupyter-widgets/controls",
      "model_module_version": "2.0.0",
      "model_name": "RadioButtonsModel",
      "state": {
       "_options_labels": [
        "Instruction: Given an input question, respond with syntactically correct PostgreSQL\nInput: How many users signed up in the past month?\nPostgreSQL query: ",
        "Instruction: Given an input question, respond with syntactically correct PostgreSQL\nInput: Create a query that displays empfname, emplname, deptid, deptname, location from employee table. Results should be in the ascending order based on the empfname and location.\nPostgreSQL query: ",
        "Instruction: Given an input question, respond with syntactically correct PostgreSQL. Only use table called 'employees'.\nInput: What is the total salary paid to all the employees?\nPostgreSQL query: ",
        "Instruction: Given an input question, respond with syntactically correct PostgreSQL. Only use table called 'employees'.\nInput: List names of all the employees whose name end with 'r'.\nPostgreSQL query: ",
        "Instruction: Given an input question, respond with syntactically correct PostgreSQL. Only use table called 'employees'.\nInput: What are the number of employees in each department?\nPostgreSQL query: ",
        "Instruction: Given an input question, respond with syntactically correct PostgreSQL. Only use table called 'employees'.\nInput: Select names of all theemployees who have third character in their name as 't'.\nPostgreSQL query: ",
        "Instruction: Given an input question, respond with syntactically correct PostgreSQL. Only use table called 'employees'.\nInput: Select names of all the employees who are working under 'Peter'.\nPostgreSQL query: "
       ],
       "description": "Choose a sample Prompt",
       "index": null,
       "layout": "IPY_MODEL_16e2fa19c83846a9b582c671caadfaa4",
       "style": "IPY_MODEL_318d80b06be749acab6dc78cfe228308"
      }
     },
     "395948aab466461d85072adda096fc94": {
      "model_module": "@jupyter-widgets/base",
      "model_module_version": "2.0.0",
      "model_name": "LayoutModel",
      "state": {
       "grid_area": "widget001",
       "height": "500px",
       "width": "95%"
      }
     },
     "39d3192269ef43149e465862dbbf266c": {
      "model_module": "@jupyter-widgets/base",
      "model_module_version": "2.0.0",
      "model_name": "LayoutModel",
      "state": {}
     },
     "3a44e0a354d044dab1734fd788fbd0e7": {
      "model_module": "@jupyter-widgets/base",
      "model_module_version": "2.0.0",
      "model_name": "LayoutModel",
      "state": {
       "grid_area": "widget003",
       "width": "50%"
      }
     },
     "3a7141f32d84495a94f8dadcbcf397c0": {
      "model_module": "@jupyter-widgets/controls",
      "model_module_version": "2.0.0",
      "model_name": "DescriptionStyleModel",
      "state": {
       "description_width": ""
      }
     },
     "3b2dcc3f31294f9fa0193ccd6c3bf62a": {
      "model_module": "@jupyter-widgets/base",
      "model_module_version": "2.0.0",
      "model_name": "LayoutModel",
      "state": {}
     },
     "3b3ab334aee2495989de3bacefa08b37": {
      "model_module": "@jupyter-widgets/controls",
      "model_module_version": "2.0.0",
      "model_name": "DescriptionStyleModel",
      "state": {
       "description_width": "initial"
      }
     },
     "3b558724b2af46f7844514354ca3edb6": {
      "model_module": "@jupyter-widgets/controls",
      "model_module_version": "2.0.0",
      "model_name": "TextStyleModel",
      "state": {
       "description_width": "50px",
       "font_size": null,
       "text_color": null
      }
     },
     "3b7ce4c8bcce45b3beb219203c4181f6": {
      "model_module": "@jupyter-widgets/controls",
      "model_module_version": "2.0.0",
      "model_name": "ProgressStyleModel",
      "state": {
       "description_width": ""
      }
     },
     "3bd54b7ab51b46d9902ddcc4810d0ea8": {
      "model_module": "@jupyter-widgets/base",
      "model_module_version": "2.0.0",
      "model_name": "LayoutModel",
      "state": {
       "grid_area": "widget002",
       "height": "100px",
       "width": "95%"
      }
     },
     "3c74373db3654201970d43d6fc541c71": {
      "model_module": "@jupyter-widgets/base",
      "model_module_version": "2.0.0",
      "model_name": "LayoutModel",
      "state": {}
     },
     "3ca075fd5b1f4585bddaa91725d36cbb": {
      "model_module": "@jupyter-widgets/controls",
      "model_module_version": "2.0.0",
      "model_name": "TextStyleModel",
      "state": {
       "description_width": "50px",
       "font_size": null,
       "text_color": null
      }
     },
     "3d0094cffb0c43e9aef1b98edab511ce": {
      "model_module": "@jupyter-widgets/controls",
      "model_module_version": "2.0.0",
      "model_name": "ButtonStyleModel",
      "state": {
       "font_family": null,
       "font_size": null,
       "font_style": null,
       "font_variant": null,
       "font_weight": null,
       "text_color": null,
       "text_decoration": null
      }
     },
     "3d20f873101945949feafd17cdc5d3a5": {
      "model_module": "@jupyter-widgets/controls",
      "model_module_version": "2.0.0",
      "model_name": "DropdownModel",
      "state": {
       "_options_labels": [
        "English",
        "Spanish",
        "French"
       ],
       "description": "To Language",
       "index": 1,
       "layout": "IPY_MODEL_5b7cb69cddb2474abb01847d4e42d2c1",
       "style": "IPY_MODEL_d3cb2cac77e743ce89a616c8ee66f20e"
      }
     },
     "3e2d4963f3614e7d9b7a3a55e410b0b4": {
      "model_module": "@jupyter-widgets/controls",
      "model_module_version": "2.0.0",
      "model_name": "TextareaModel",
      "state": {
       "description": "Output",
       "layout": "IPY_MODEL_e6ebd618eb7342058bd454ebe711b7a6",
       "placeholder": "Translated sentence",
       "style": "IPY_MODEL_3f41b4a2c93b4841b8ff13715ebca2d1",
       "value": "Instruction: translate English to Spanish \nInput: \"I am a student\" \nOutput: \"Yo soy un estudiante\"\nMy code in English to Spanish Translator is\ndef translateEnglishToSpanish(inputString):\n\n    # Translate"
      }
     },
     "3e61a5258e1f4c3aa64a9122cc02d1fa": {
      "model_module": "@jupyter-widgets/controls",
      "model_module_version": "2.0.0",
      "model_name": "DescriptionStyleModel",
      "state": {
       "description_width": "initial"
      }
     },
     "3e665fdbf3ca4e8aa2031b71b3236eb2": {
      "model_module": "@jupyter-widgets/base",
      "model_module_version": "2.0.0",
      "model_name": "LayoutModel",
      "state": {}
     },
     "3ec958bb533345168f9dfd5929a09ac7": {
      "model_module": "@jupyter-widgets/base",
      "model_module_version": "2.0.0",
      "model_name": "LayoutModel",
      "state": {
       "grid_area": "widget003",
       "height": "100px",
       "width": "95%"
      }
     },
     "3f41b4a2c93b4841b8ff13715ebca2d1": {
      "model_module": "@jupyter-widgets/controls",
      "model_module_version": "2.0.0",
      "model_name": "TextStyleModel",
      "state": {
       "description_width": "50px",
       "font_size": null,
       "text_color": null
      }
     },
     "4080466a166a4aa9a4a3599456de4d34": {
      "model_module": "@jupyter-widgets/controls",
      "model_module_version": "2.0.0",
      "model_name": "DropdownModel",
      "state": {
       "_options_labels": [
        "English",
        "Spanish",
        "French"
       ],
       "description": "From Language",
       "index": 0,
       "layout": "IPY_MODEL_10faf09db5704d82ad154b4098dfa383",
       "style": "IPY_MODEL_8496b01df98941ab907f9d70a0b4f7ae"
      }
     },
     "412b1d7e70274edb8a93989c76950e96": {
      "model_module": "@jupyter-widgets/controls",
      "model_module_version": "2.0.0",
      "model_name": "RadioButtonsModel",
      "state": {
       "_options_labels": [
        "Instruction: Given an input question, respond with syntactically correct PostgreSQL\nInput: How many users signed up in the past month?\nPostgreSQL query: ",
        "Instruction: Given an input question, respond with syntactically correct PostgreSQL\nInput: Create a query that displays empfname, emplname, deptid, deptname, location from employee table. Results should be in the ascending order based on the empfname and location.\nPostgreSQL query: ",
        "Instruction: Given an input question, respond with syntactically correct PostgreSQL. Only use table called 'employees'.\nInput: What is the total salary paid to all the employees?\nPostgreSQL query: ",
        "Instruction: Given an input question, respond with syntactically correct PostgreSQL. Only use table called 'employees'.\nInput: List names of all the employees whose name end with 'r'.\nPostgreSQL query: ",
        "Instruction: Given an input question, respond with syntactically correct PostgreSQL. Only use table called 'employees'.\nInput: What are the number of employees in each department?\nPostgreSQL query: ",
        "Instruction: Given an input question, respond with syntactically correct PostgreSQL. Only use table called 'employees'.\nInput: Select names of all theemployees who have third character in their name as 't'.\nPostgreSQL query: ",
        "Instruction: Given an input question, respond with syntactically correct PostgreSQL. Only use table called 'employees'.\nInput: Select names of all the employees who are working under 'Peter'.\nPostgreSQL query: "
       ],
       "description": "Choose a sample Prompt",
       "index": null,
       "layout": "IPY_MODEL_d79612c6b6174d4caa66f437fcf2631c",
       "style": "IPY_MODEL_843c53708f624aa694161c50fc1412bf"
      }
     },
     "417dc907625b489484bfeac514b6b16e": {
      "model_module": "@jupyter-widgets/controls",
      "model_module_version": "2.0.0",
      "model_name": "DescriptionStyleModel",
      "state": {
       "description_width": ""
      }
     },
     "41b288d60bea4146a25f6c76e7a2cddf": {
      "model_module": "@jupyter-widgets/controls",
      "model_module_version": "2.0.0",
      "model_name": "GridBoxModel",
      "state": {
       "children": [
        "IPY_MODEL_ebd5e4b250a2412c9b07835e8bde2512",
        "IPY_MODEL_bfa9f3cff3b3469ab1cd54478181740b",
        "IPY_MODEL_1cfe6f35721c40fe9c71207c8b1aefc0"
       ],
       "layout": "IPY_MODEL_66dc76db9a0a4d448ac3034ed1f4cf3a"
      }
     },
     "41e16c3f77ac4442a50efa9b88e563d3": {
      "model_module": "@jupyter-widgets/base",
      "model_module_version": "2.0.0",
      "model_name": "LayoutModel",
      "state": {
       "grid_area": "widget002",
       "width": "auto"
      }
     },
     "41f3da4e49eb4ebf9e5766a363f5d958": {
      "model_module": "@jupyter-widgets/controls",
      "model_module_version": "2.0.0",
      "model_name": "GridBoxModel",
      "state": {
       "children": [
        "IPY_MODEL_4b3317f2fa0d437da545c48c2b0e135b",
        "IPY_MODEL_95939034261b4722a31d0687fa27b446",
        "IPY_MODEL_03ee4f3243544fabb7ed6c9e9756d848"
       ],
       "layout": "IPY_MODEL_fd38ee8b29c34cf9a50fc46992da257b"
      }
     },
     "42e736027b794134acbdcbdac02e838c": {
      "model_module": "@jupyter-widgets/base",
      "model_module_version": "2.0.0",
      "model_name": "LayoutModel",
      "state": {}
     },
     "431186b9bd95428993ebbfb6c0015a34": {
      "model_module": "@jupyter-widgets/controls",
      "model_module_version": "2.0.0",
      "model_name": "DescriptionStyleModel",
      "state": {
       "description_width": ""
      }
     },
     "435581952245497396ab61acf3ac7330": {
      "model_module": "@jupyter-widgets/base",
      "model_module_version": "2.0.0",
      "model_name": "LayoutModel",
      "state": {}
     },
     "435842f1038042a8a4c80b2edd3dfc6a": {
      "model_module": "@jupyter-widgets/base",
      "model_module_version": "2.0.0",
      "model_name": "LayoutModel",
      "state": {
       "grid_area": "widget005",
       "width": "auto"
      }
     },
     "43efe426708c4c28bb2965e056defe6c": {
      "model_module": "@jupyter-widgets/controls",
      "model_module_version": "2.0.0",
      "model_name": "GridBoxModel",
      "state": {
       "children": [
        "IPY_MODEL_8d3df703540f4c7fbde94a5e92e56bd9",
        "IPY_MODEL_9b95dd10bab04edcb89993ae3e306171",
        "IPY_MODEL_046a57184ab44619bdb7f4a00c4e068a",
        "IPY_MODEL_fb4864a5e8354061af42efc99834d0e1",
        "IPY_MODEL_56147cb49fee4162bfe0ac007935aa0b"
       ],
       "layout": "IPY_MODEL_2280adf2cfb54e56b07ae93e465863de"
      }
     },
     "442604c66ebd465cb36edb254a6c60c0": {
      "model_module": "@jupyter-widgets/controls",
      "model_module_version": "2.0.0",
      "model_name": "TextareaModel",
      "state": {
       "description": "Output",
       "layout": "IPY_MODEL_23f42bc48ffc4bfaa2f9e55d7a80631d",
       "placeholder": "Generated SQL",
       "style": "IPY_MODEL_8918fe641e9243769a0806cf1d6338e3"
      }
     },
     "44e9c989db774aeaa8973f34551c04be": {
      "model_module": "@jupyter-widgets/controls",
      "model_module_version": "2.0.0",
      "model_name": "TextareaModel",
      "state": {
       "description": "Output",
       "layout": "IPY_MODEL_124cab754d304e3eb964bad19c9dcd33",
       "placeholder": "Generated SQL",
       "style": "IPY_MODEL_ff0ca8fc88b847fb97d9c7c58e42cbe7"
      }
     },
     "4547fc46ddbd4db48c50b1fa721aedc3": {
      "model_module": "@jupyter-widgets/controls",
      "model_module_version": "2.0.0",
      "model_name": "HBoxModel",
      "state": {
       "children": [
        "IPY_MODEL_8c1813f121f04b58b15d7ca349edafee",
        "IPY_MODEL_785b9d9a6efe4bd6b1a842b029fbfe3f",
        "IPY_MODEL_02db1ddc2903487bbbcf8229e9b4da75"
       ],
       "layout": "IPY_MODEL_ee5b4f1ef575494e93edc912fa6087a6"
      }
     },
     "457ae254e57541a38dc3e1aa7696a91d": {
      "model_module": "@jupyter-widgets/controls",
      "model_module_version": "2.0.0",
      "model_name": "ButtonModel",
      "state": {
       "description": "Translate",
       "icon": "check",
       "layout": "IPY_MODEL_db6134bc2d73459291dbccc6f32c1de6",
       "style": "IPY_MODEL_e04f0eb1ec67492b8c76ba617f8727fb",
       "tooltip": null
      }
     },
     "46d5a55849a7438b9d023897702a9316": {
      "model_module": "@jupyter-widgets/controls",
      "model_module_version": "2.0.0",
      "model_name": "DescriptionStyleModel",
      "state": {
       "description_width": "initial"
      }
     },
     "4791a19a20b444ac98c98a6285544140": {
      "model_module": "@jupyter-widgets/base",
      "model_module_version": "2.0.0",
      "model_name": "LayoutModel",
      "state": {}
     },
     "49b10eddcd014a06bc40da4f180882f7": {
      "model_module": "@jupyter-widgets/base",
      "model_module_version": "2.0.0",
      "model_name": "LayoutModel",
      "state": {}
     },
     "49c850e070eb4f7f94e9a511a2e9f828": {
      "model_module": "@jupyter-widgets/base",
      "model_module_version": "2.0.0",
      "model_name": "LayoutModel",
      "state": {
       "grid_template_areas": "\"widget001 widget002\"\n\"widget003 widget003\"\n\"widget004 widget004\"\n\". widget005\"",
       "grid_template_columns": "repeat(2, 1fr)",
       "grid_template_rows": "repeat(4, 1fr)",
       "height": "300px"
      }
     },
     "4a067f94fb9148219372a0a1a6a2c1fb": {
      "model_module": "@jupyter-widgets/base",
      "model_module_version": "2.0.0",
      "model_name": "LayoutModel",
      "state": {
       "grid_template_areas": "\"widget001\"\n\"widget002\"\n\"widget003\"",
       "grid_template_columns": "repeat(1, 1fr)",
       "grid_template_rows": "repeat(3, 1fr)",
       "height": "500px"
      }
     },
     "4a58752ef5c743a28d71155a5418374a": {
      "model_module": "@jupyter-widgets/base",
      "model_module_version": "2.0.0",
      "model_name": "LayoutModel",
      "state": {
       "grid_template_areas": "\"widget001\"\n\"widget002\"\n\"widget003\"",
       "grid_template_columns": "repeat(1, 1fr)",
       "grid_template_rows": "repeat(3, 1fr)",
       "height": "900px"
      }
     },
     "4aaf39f799cc44f1872fe952a1a4640b": {
      "model_module": "@jupyter-widgets/controls",
      "model_module_version": "2.0.0",
      "model_name": "TextareaModel",
      "state": {
       "description": "Input",
       "layout": "IPY_MODEL_633de916a95941e18b5e88ed791dda05",
       "placeholder": "Enter the instruction to generate",
       "style": "IPY_MODEL_070a9606f2ce4e0598593dcc6756b70b",
       "value": "Instruction: Given an input question, respond with syntactically correct PostgreSQL. Only use table called 'employees'.\nInput: Select names of all the employees who are working under 'Peter'.\nPostgreSQL query: "
      }
     },
     "4b3317f2fa0d437da545c48c2b0e135b": {
      "model_module": "@jupyter-widgets/controls",
      "model_module_version": "2.0.0",
      "model_name": "RadioButtonsModel",
      "state": {
       "_options_labels": [
        "Instruction: Given an input question, respond with syntactically correct PostgreSQL\nInput: How many users signed up in the past month?\nPostgreSQL query: ",
        "Instruction: Given an input question, respond with syntactically correct PostgreSQL\nInput: Create a query that displays empfname, emplname, deptid, deptname, location from employee table. Results should be in the ascending order based on the empfname and location.\nPostgreSQL query: ",
        "Instruction: Given an input question, respond with syntactically correct PostgreSQL. Only use table called 'employees'.\nInput: What is the total salary paid to all the employees?\nPostgreSQL query: ",
        "Instruction: Given an input question, respond with syntactically correct PostgreSQL. Only use table called 'employees'.\nInput: List names of all the employees whose name end with 'r'.\nPostgreSQL query: ",
        "Instruction: Given an input question, respond with syntactically correct PostgreSQL. Only use table called 'employees'.\nInput: What are the number of employees in each department?\nPostgreSQL query: ",
        "Instruction: Given an input question, respond with syntactically correct PostgreSQL. Only use table called 'employees'.\nInput: Select names of all theemployees who have third character in their name as 't'.\nPostgreSQL query: ",
        "Instruction: Given an input question, respond with syntactically correct PostgreSQL. Only use table called 'employees'.\nInput: Select names of all the employees who are working under 'Peter'.\nPostgreSQL query: "
       ],
       "description": "Choose a sample Prompt",
       "index": null,
       "layout": "IPY_MODEL_4fec6b75768145eeac66c3f640f829ff",
       "style": "IPY_MODEL_1426457d81a74c47a7702fce4b976c35"
      }
     },
     "4b3ccc366c244b04aebd6249c5c3d405": {
      "model_module": "@jupyter-widgets/base",
      "model_module_version": "2.0.0",
      "model_name": "LayoutModel",
      "state": {
       "align_items": "center",
       "grid_template_areas": "\"widget001\"\n\"widget002\"\n\"widget003\"",
       "grid_template_columns": "repeat(1, 1fr)",
       "grid_template_rows": "repeat(3, 1fr)",
       "height": "250px"
      }
     },
     "4b705108ca96494593d07080b1da5740": {
      "model_module": "@jupyter-widgets/controls",
      "model_module_version": "2.0.0",
      "model_name": "GridBoxModel",
      "state": {
       "children": [
        "IPY_MODEL_4080466a166a4aa9a4a3599456de4d34",
        "IPY_MODEL_3d20f873101945949feafd17cdc5d3a5",
        "IPY_MODEL_b6c3db8557ed4249893039aebcc5e11b",
        "IPY_MODEL_e3a6986f28fc43b2920fd4b735c9923c",
        "IPY_MODEL_457ae254e57541a38dc3e1aa7696a91d"
       ],
       "layout": "IPY_MODEL_b96649003e3c4952bf61fc25e70638f3"
      }
     },
     "4ba6b340d83944ad99e7ffcea3f0cda1": {
      "model_module": "@jupyter-widgets/base",
      "model_module_version": "2.0.0",
      "model_name": "LayoutModel",
      "state": {}
     },
     "4ba976e8eb3e43daab628a92e91357fc": {
      "model_module": "@jupyter-widgets/base",
      "model_module_version": "2.0.0",
      "model_name": "LayoutModel",
      "state": {}
     },
     "4bb280f267104f958fe366152d034c76": {
      "model_module": "@jupyter-widgets/base",
      "model_module_version": "2.0.0",
      "model_name": "LayoutModel",
      "state": {
       "align_items": "center",
       "grid_template_areas": "\"widget001\"\n\"widget002\"\n\"widget003\"",
       "grid_template_columns": "repeat(1, 1fr)",
       "grid_template_rows": "repeat(3, 1fr)",
       "height": "250px"
      }
     },
     "4bf811d351c84df0bf8c8eb9da47912c": {
      "model_module": "@jupyter-widgets/controls",
      "model_module_version": "2.0.0",
      "model_name": "TextareaModel",
      "state": {
       "description": "Output",
       "layout": "IPY_MODEL_3527a238a63f4ea189206c551ceb2255",
       "placeholder": "Translated sentence",
       "style": "IPY_MODEL_5cd2d162e79a4c0495584d966fa9e3b3",
       "value": "Instruction: translate English to Spanish \nInput: \"I am a student\" \nOutput: \"Soy un estudiante\"\nMy code:\nstring English = \"I am a student\"\nstring Spanish ="
      }
     },
     "4c51149cd9dc4fe4a31bba5f51acb10d": {
      "model_module": "@jupyter-widgets/controls",
      "model_module_version": "2.0.0",
      "model_name": "ProgressStyleModel",
      "state": {
       "description_width": ""
      }
     },
     "4c595fa7c5e546fe859a6b5bbebdca7f": {
      "model_module": "@jupyter-widgets/controls",
      "model_module_version": "2.0.0",
      "model_name": "GridBoxModel",
      "state": {
       "children": [
        "IPY_MODEL_261d9e25d64444459461aa569e2a65b7",
        "IPY_MODEL_184b30869f954ccb93cb1fa10ef0d834",
        "IPY_MODEL_4f6b368e684c493996c6e629e7d8551b"
       ],
       "layout": "IPY_MODEL_c8f3f4bb94964c36a7fe0bf51b60536a"
      }
     },
     "4cd47f20d59846e4af5eb877ffa41556": {
      "model_module": "@jupyter-widgets/base",
      "model_module_version": "2.0.0",
      "model_name": "LayoutModel",
      "state": {
       "grid_area": "widget002",
       "height": "100px",
       "width": "95%"
      }
     },
     "4ce93d47236b4a778e8168f75866a860": {
      "model_module": "@jupyter-widgets/controls",
      "model_module_version": "2.0.0",
      "model_name": "HTMLModel",
      "state": {
       "layout": "IPY_MODEL_cf3b8bb52cb24d87980bcc4fe1e1f74c",
       "style": "IPY_MODEL_e3614906cbd04988acba01ace74dbad4",
       "value": "Downloading special_tokens_map.json: 100%"
      }
     },
     "4d1b61a4aba64f1caa89cfa35f71a4b1": {
      "model_module": "@jupyter-widgets/controls",
      "model_module_version": "2.0.0",
      "model_name": "TextareaModel",
      "state": {
       "description": "Output",
       "layout": "IPY_MODEL_b24458e30aa74b9a8e7a91766c9630a4",
       "placeholder": "Generated SQL",
       "style": "IPY_MODEL_1fa794e125824c09adab1c5eea3c85c5",
       "value": "Instruction: Given an input question, respond with syntactically correct PostgreSQL. Only use table called 'employees'.\nInput: Select names of all the employees who are working under 'Peter'.\nPostgreSQL query:  SELECT names FROM 'employees' WHERE 'employees'.'manager' = 'Peter'\nNote:\nIf the table 'employee' doesn't exist in database, it should throw error. \nI wrote the following code:\ndef query(db_string"
      }
     },
     "4d30f557d7d944f5b2478f72e32c953e": {
      "model_module": "@jupyter-widgets/controls",
      "model_module_version": "2.0.0",
      "model_name": "GridBoxModel",
      "state": {
       "children": [
        "IPY_MODEL_b0efdef0759d43da9f8f0524df63c749",
        "IPY_MODEL_ae399dc390cd44b6afa29dac32dcdf6b",
        "IPY_MODEL_b1ee558a0ec14269bd62d8bb3d910082",
        "IPY_MODEL_bb414df05a714a688968a3f9e5425960",
        "IPY_MODEL_b744625609d64c2589b3c3e4137c300e"
       ],
       "layout": "IPY_MODEL_cd03847c847c44f3954c40336de5a959"
      }
     },
     "4d66e54331864d66a05ba48da6000b93": {
      "model_module": "@jupyter-widgets/controls",
      "model_module_version": "2.0.0",
      "model_name": "HTMLModel",
      "state": {
       "layout": "IPY_MODEL_05684f84900b4906bd835c876abb2ac7",
       "style": "IPY_MODEL_431186b9bd95428993ebbfb6c0015a34",
       "value": "Downloading pytorch_model.bin.index.json: 100%"
      }
     },
     "4db9f775c64748c9873de748cd62ef39": {
      "model_module": "@jupyter-widgets/base",
      "model_module_version": "2.0.0",
      "model_name": "LayoutModel",
      "state": {
       "grid_area": "widget003",
       "width": "95%"
      }
     },
     "4ddf99d8f22f40f6a19bcf07472a9afa": {
      "model_module": "@jupyter-widgets/controls",
      "model_module_version": "2.0.0",
      "model_name": "ButtonModel",
      "state": {
       "description": "Generate SQL",
       "icon": "check",
       "layout": "IPY_MODEL_12c72e38105a46268041fc6c1b0fe90d",
       "style": "IPY_MODEL_eebb31ea925246d1a6eb23962a686d9a",
       "tooltip": null
      }
     },
     "4e96af906a2444978ea1264bdfca8ee2": {
      "model_module": "@jupyter-widgets/controls",
      "model_module_version": "2.0.0",
      "model_name": "GridBoxModel",
      "state": {
       "children": [
        "IPY_MODEL_80c6a1ce24a344d99b35164a77fb10fc",
        "IPY_MODEL_7a5fa87136ff4d7b942647cab5ca32ff",
        "IPY_MODEL_094dfd2808f6441b91f1f37dfcb711df",
        "IPY_MODEL_8639158f0491469db30de4a864cdfd29",
        "IPY_MODEL_b30c7aa65d0144588e5e6102ed07a75c"
       ],
       "layout": "IPY_MODEL_b9ce55fe840246b1b1d191fae5d040ef"
      }
     },
     "4ea4ae5ce91e4d22a7a2a71eb57f7b36": {
      "model_module": "@jupyter-widgets/controls",
      "model_module_version": "2.0.0",
      "model_name": "GridBoxModel",
      "state": {
       "children": [
        "IPY_MODEL_72d12925c3f5419ba8460ab70eb7a21c",
        "IPY_MODEL_2958c5f55d9b44d1be1b9438f65bc1aa",
        "IPY_MODEL_f209acf0ddd94583afd803d9df13a4db",
        "IPY_MODEL_a5eba1333b6d4345bf9c2207522132c2",
        "IPY_MODEL_b4d5d0c293894ef7bc6d728b7749cfd7"
       ],
       "layout": "IPY_MODEL_9d0980466432465eaedb5437561b843f"
      }
     },
     "4f50c1cf9f354543854efe6f4d3fde12": {
      "model_module": "@jupyter-widgets/controls",
      "model_module_version": "2.0.0",
      "model_name": "DescriptionStyleModel",
      "state": {
       "description_width": "initial"
      }
     },
     "4f593f8d13994e54aa25d0d1fd94f112": {
      "model_module": "@jupyter-widgets/controls",
      "model_module_version": "2.0.0",
      "model_name": "HBoxModel",
      "state": {
       "children": [
        "IPY_MODEL_f64b1db0e00b409d923876ad0669e0a7",
        "IPY_MODEL_6ef446e236c248688ead223ce0adf2bf",
        "IPY_MODEL_f39b73a8cc194f2f8edeca3a18e53055"
       ],
       "layout": "IPY_MODEL_9a6bd9f7048c4eec9bf2c4a321082565"
      }
     },
     "4f6b368e684c493996c6e629e7d8551b": {
      "model_module": "@jupyter-widgets/controls",
      "model_module_version": "2.0.0",
      "model_name": "ButtonModel",
      "state": {
       "description": "Generate SQL",
       "icon": "check",
       "layout": "IPY_MODEL_e64654db7fd0499d93621feca776cb86",
       "style": "IPY_MODEL_00ef2084384d4dd6b29b3f36caefafa6",
       "tooltip": null
      }
     },
     "4fec6b75768145eeac66c3f640f829ff": {
      "model_module": "@jupyter-widgets/base",
      "model_module_version": "2.0.0",
      "model_name": "LayoutModel",
      "state": {
       "grid_area": "widget001",
       "height": "300px",
       "width": "95%"
      }
     },
     "503caa3f560241cba7bef4b198fafa7f": {
      "model_module": "@jupyter-widgets/controls",
      "model_module_version": "2.0.0",
      "model_name": "HTMLModel",
      "state": {
       "layout": "IPY_MODEL_4ba6b340d83944ad99e7ffcea3f0cda1",
       "style": "IPY_MODEL_3429865c957744f89de78a0103376043",
       "value": "Downloading: 100%"
      }
     },
     "510918cf24164b0e859edd5806299a12": {
      "model_module": "@jupyter-widgets/controls",
      "model_module_version": "2.0.0",
      "model_name": "ButtonStyleModel",
      "state": {
       "font_family": null,
       "font_size": null,
       "font_style": null,
       "font_variant": null,
       "font_weight": null,
       "text_color": null,
       "text_decoration": null
      }
     },
     "51300b7926f84680be028dd41e31d0ee": {
      "model_module": "@jupyter-widgets/controls",
      "model_module_version": "2.0.0",
      "model_name": "DescriptionStyleModel",
      "state": {
       "description_width": ""
      }
     },
     "514ad3a52b684430aa006d48392daa27": {
      "model_module": "@jupyter-widgets/controls",
      "model_module_version": "2.0.0",
      "model_name": "HBoxModel",
      "state": {
       "children": [
        "IPY_MODEL_cacbab415473486f9cbc3bbb9e0340d3",
        "IPY_MODEL_b2e288c05ea44480b086e9cb3488fc24",
        "IPY_MODEL_b101bae982d744d9974bf2612da12a02"
       ],
       "layout": "IPY_MODEL_fbda30ec61cc42ac9da3240ac9b070a6"
      }
     },
     "523473bf080949d99488d8082e31fe05": {
      "model_module": "@jupyter-widgets/controls",
      "model_module_version": "2.0.0",
      "model_name": "ButtonModel",
      "state": {
       "description": "Generate SQL",
       "icon": "check",
       "layout": "IPY_MODEL_6d8e44fbc8f04007b55054cc9ac49ef7",
       "style": "IPY_MODEL_b9924c79bea64b2abf99695ee20a4a09",
       "tooltip": null
      }
     },
     "52800575da244f1897a7d255891da1fa": {
      "model_module": "@jupyter-widgets/controls",
      "model_module_version": "2.0.0",
      "model_name": "ButtonModel",
      "state": {
       "description": "Generate SQL",
       "icon": "check",
       "layout": "IPY_MODEL_57b108d13755443a96d20885d5825292",
       "style": "IPY_MODEL_2fb40d27eff44386bf7a318e012a919c",
       "tooltip": null
      }
     },
     "52dd93b0f73148be98d6bfe30a5c49f7": {
      "model_module": "@jupyter-widgets/base",
      "model_module_version": "2.0.0",
      "model_name": "LayoutModel",
      "state": {}
     },
     "52f16151dfcb456c825cb3dae442d5ad": {
      "model_module": "@jupyter-widgets/controls",
      "model_module_version": "2.0.0",
      "model_name": "HTMLModel",
      "state": {
       "layout": "IPY_MODEL_42e736027b794134acbdcbdac02e838c",
       "style": "IPY_MODEL_72ea378ae6c9452a82938c6d9ddf2160",
       "value": "Downloading: 100%"
      }
     },
     "534402b6756a4ab892793914435c8e57": {
      "model_module": "@jupyter-widgets/controls",
      "model_module_version": "2.0.0",
      "model_name": "GridBoxModel",
      "state": {
       "children": [
        "IPY_MODEL_329aa9ff151147d2a1f0c946f977f6c7",
        "IPY_MODEL_8b6fdffe0ddf491e9d3cf7f713f23896",
        "IPY_MODEL_246c93dabe984dee8e1b30953f028503"
       ],
       "layout": "IPY_MODEL_ca931fd252924eefacac7b33b0ba0cfa"
      }
     },
     "53518e4b6e7947939e138e7064f99f05": {
      "model_module": "@jupyter-widgets/controls",
      "model_module_version": "2.0.0",
      "model_name": "GridBoxModel",
      "state": {
       "children": [
        "IPY_MODEL_70765dccf6994db0bd2757465f8dca53",
        "IPY_MODEL_b5a45f18216f4fad8d3d414f5968bcdb",
        "IPY_MODEL_b90d49b1b5da4024bf9e7de815c1cf22",
        "IPY_MODEL_be694cdb041b4eb2ac11110960f86244",
        "IPY_MODEL_28c2d2ed86884038a67d527045508fd2"
       ],
       "layout": "IPY_MODEL_7bf412c74ad84dcc88d0361ddd0657e3"
      }
     },
     "54161bdd8f91473bb27aacbe0d361be2": {
      "model_module": "@jupyter-widgets/controls",
      "model_module_version": "2.0.0",
      "model_name": "TextareaModel",
      "state": {
       "description": "Input",
       "layout": "IPY_MODEL_1cbc930818be4410acb61919e63a739c",
       "placeholder": "Enter the instruction to generate",
       "style": "IPY_MODEL_5cd5709f77874ffcbbf32989ca14b857",
       "value": "Instruction: Given an input question, respond with syntactically correct PostgreSQL. Only use table called 'employees'.\nInput: Select names of all the employees who are working under 'Peter'.\nPostgreSQL query: "
      }
     },
     "54d82726a2924d948c54b144e2a7d89c": {
      "model_module": "@jupyter-widgets/controls",
      "model_module_version": "2.0.0",
      "model_name": "ProgressStyleModel",
      "state": {
       "description_width": ""
      }
     },
     "560e65ea255e4f06be70b8b28259ea38": {
      "model_module": "@jupyter-widgets/base",
      "model_module_version": "2.0.0",
      "model_name": "LayoutModel",
      "state": {
       "grid_area": "widget001",
       "width": "auto"
      }
     },
     "56147cb49fee4162bfe0ac007935aa0b": {
      "model_module": "@jupyter-widgets/controls",
      "model_module_version": "2.0.0",
      "model_name": "ButtonModel",
      "state": {
       "description": "Translate",
       "icon": "check",
       "layout": "IPY_MODEL_435842f1038042a8a4c80b2edd3dfc6a",
       "style": "IPY_MODEL_3d0094cffb0c43e9aef1b98edab511ce",
       "tooltip": null
      }
     },
     "56d61742590e4c0f9679dff548bee940": {
      "model_module": "@jupyter-widgets/base",
      "model_module_version": "2.0.0",
      "model_name": "LayoutModel",
      "state": {
       "align_items": "center",
       "grid_template_areas": "\"widget001\"\n\"widget002\"\n\"widget003\"",
       "grid_template_columns": "repeat(1, 1fr)",
       "grid_template_rows": "repeat(3, 1fr)",
       "height": "250px"
      }
     },
     "56f571979be149408db0296664d42b81": {
      "model_module": "@jupyter-widgets/controls",
      "model_module_version": "2.0.0",
      "model_name": "TextareaModel",
      "state": {
       "description": "Output",
       "layout": "IPY_MODEL_eec5af7612804faeb58dbb92a53a986b",
       "placeholder": "Generated SQL",
       "style": "IPY_MODEL_e0173d8112d04863bbef38abadf1103f"
      }
     },
     "57259431fa754bfdae3196fb0136edda": {
      "model_module": "@jupyter-widgets/controls",
      "model_module_version": "2.0.0",
      "model_name": "GridBoxModel",
      "state": {
       "children": [
        "IPY_MODEL_f43b4f5896854a5190d991a9d5931018",
        "IPY_MODEL_ecfbbe3d512b479d9c427a6e0625f1bb",
        "IPY_MODEL_77a778c910cc40d1a879d38e392d8a05"
       ],
       "layout": "IPY_MODEL_fd12e6fe33474f9b9115a262f3a47e57"
      }
     },
     "5774ac0228ca4a32b1575071b093f650": {
      "model_module": "@jupyter-widgets/base",
      "model_module_version": "2.0.0",
      "model_name": "LayoutModel",
      "state": {}
     },
     "57837387a1554b3e85e686052ad67cf3": {
      "model_module": "@jupyter-widgets/base",
      "model_module_version": "2.0.0",
      "model_name": "LayoutModel",
      "state": {
       "align_items": "center",
       "grid_template_areas": "\"widget001\"\n\"widget002\"\n\"widget003\"",
       "grid_template_columns": "repeat(1, 1fr)",
       "grid_template_rows": "repeat(3, 1fr)",
       "height": "250px"
      }
     },
     "57b108d13755443a96d20885d5825292": {
      "model_module": "@jupyter-widgets/base",
      "model_module_version": "2.0.0",
      "model_name": "LayoutModel",
      "state": {
       "grid_area": "widget003",
       "width": "50%"
      }
     },
     "57b5f0bd8e8941fc9dc925ead9198d98": {
      "model_module": "@jupyter-widgets/controls",
      "model_module_version": "2.0.0",
      "model_name": "FloatProgressModel",
      "state": {
       "bar_style": "success",
       "layout": "IPY_MODEL_789e1e25688445a982f1a69cc941bd74",
       "max": 92568,
       "style": "IPY_MODEL_989c282496904f628e3cdaea7595fa70",
       "value": 92568
      }
     },
     "5843a482b89c45528fce2d9864d93180": {
      "model_module": "@jupyter-widgets/base",
      "model_module_version": "2.0.0",
      "model_name": "LayoutModel",
      "state": {
       "grid_area": "widget001",
       "height": "100px",
       "width": "95%"
      }
     },
     "588738651d714523932552dc8332e1fd": {
      "model_module": "@jupyter-widgets/controls",
      "model_module_version": "2.0.0",
      "model_name": "HTMLModel",
      "state": {
       "layout": "IPY_MODEL_75308d7b88284f6b978a0982a287b203",
       "style": "IPY_MODEL_8eb4582896c34c1f96406c860ba7bc14",
       "value": " 99.7M/6.70G [06:51&lt;05:14, 22.5MB/s]"
      }
     },
     "5894e0aae362468ca5d9cf9a2c4d5d7a": {
      "model_module": "@jupyter-widgets/controls",
      "model_module_version": "2.0.0",
      "model_name": "TextStyleModel",
      "state": {
       "description_width": "50px",
       "font_size": null,
       "text_color": null
      }
     },
     "5922f9ce0526458cb230622682777f0d": {
      "model_module": "@jupyter-widgets/controls",
      "model_module_version": "2.0.0",
      "model_name": "GridBoxModel",
      "state": {
       "children": [
        "IPY_MODEL_37ebea50731a499b8428d459d075338f",
        "IPY_MODEL_b9eaf097c4034f9ba4b166d10e436aff",
        "IPY_MODEL_c7d92b1c1fa546c19980cc3f3973a729"
       ],
       "layout": "IPY_MODEL_6ac7f9a64ce240e1a154cb7f3e25e7a5"
      }
     },
     "5a0313e5f6ae446088fe7414a814c27d": {
      "model_module": "@jupyter-widgets/base",
      "model_module_version": "2.0.0",
      "model_name": "LayoutModel",
      "state": {
       "grid_template_areas": "\"widget001\"\n\"widget002\"\n\"widget003\"",
       "grid_template_columns": "repeat(1, 1fr)",
       "grid_template_rows": "repeat(3, 1fr)",
       "height": "300px"
      }
     },
     "5a40cf72011e47a4b5bbc5970c9ed799": {
      "model_module": "@jupyter-widgets/controls",
      "model_module_version": "2.0.0",
      "model_name": "TextareaModel",
      "state": {
       "description": "Input",
       "layout": "IPY_MODEL_d04bd959e43146ac8f9a6812265d44c0",
       "placeholder": "Enter the sentence to translate",
       "style": "IPY_MODEL_60ec3340c1e942e7a58e0b0e19071cba",
       "value": "I am a student"
      }
     },
     "5afec99a3d0c45cfb7b2fc7db180d567": {
      "model_module": "@jupyter-widgets/base",
      "model_module_version": "2.0.0",
      "model_name": "LayoutModel",
      "state": {
       "grid_area": "widget002",
       "height": "100px",
       "width": "95%"
      }
     },
     "5b33285cce0e49df9a7a7fe197871513": {
      "model_module": "@jupyter-widgets/controls",
      "model_module_version": "2.0.0",
      "model_name": "HTMLModel",
      "state": {
       "layout": "IPY_MODEL_8433364da70740adac53b59954dab93e",
       "style": "IPY_MODEL_417dc907625b489484bfeac514b6b16e",
       "value": "Downloading pytorch_model_00001-of-00072.bin:   1%"
      }
     },
     "5b7cb69cddb2474abb01847d4e42d2c1": {
      "model_module": "@jupyter-widgets/base",
      "model_module_version": "2.0.0",
      "model_name": "LayoutModel",
      "state": {
       "grid_area": "widget002",
       "width": "auto"
      }
     },
     "5bffd62e9df74bc092e0000412567f8e": {
      "model_module": "@jupyter-widgets/controls",
      "model_module_version": "2.0.0",
      "model_name": "HBoxModel",
      "state": {
       "children": [
        "IPY_MODEL_8c80a319e3304a11b77eba302b51a42f",
        "IPY_MODEL_c811e8bf2d074cb38762b2593b0f38a8",
        "IPY_MODEL_0007e9ef13d64435a75f9ac6baf4f7ec"
       ],
       "layout": "IPY_MODEL_7cb653e50ef84102adc221a3433189d9"
      }
     },
     "5c7373dc349b425698447e03e21899dd": {
      "model_module": "@jupyter-widgets/base",
      "model_module_version": "2.0.0",
      "model_name": "LayoutModel",
      "state": {
       "grid_template_areas": "\"widget001\"\n\"widget002\"\n\"widget003\"",
       "grid_template_columns": "repeat(1, 1fr)",
       "grid_template_rows": "repeat(3, 1fr)",
       "height": "700px"
      }
     },
     "5c83a46c3e334efb9c0147f97da8170e": {
      "model_module": "@jupyter-widgets/controls",
      "model_module_version": "2.0.0",
      "model_name": "TextareaModel",
      "state": {
       "description": "Output",
       "layout": "IPY_MODEL_09a0df5e675b40b2a86584f4ab3454fc",
       "placeholder": "Generated SQL",
       "style": "IPY_MODEL_8c49e9c839634deda3e89c22adcaff85"
      }
     },
     "5cd2d162e79a4c0495584d966fa9e3b3": {
      "model_module": "@jupyter-widgets/controls",
      "model_module_version": "2.0.0",
      "model_name": "TextStyleModel",
      "state": {
       "description_width": "50px",
       "font_size": null,
       "text_color": null
      }
     },
     "5cd5709f77874ffcbbf32989ca14b857": {
      "model_module": "@jupyter-widgets/controls",
      "model_module_version": "2.0.0",
      "model_name": "TextStyleModel",
      "state": {
       "description_width": "50px",
       "font_size": null,
       "text_color": null
      }
     },
     "5d728bb075a645ae8df585d8198980df": {
      "model_module": "@jupyter-widgets/base",
      "model_module_version": "2.0.0",
      "model_name": "LayoutModel",
      "state": {
       "grid_area": "widget001",
       "height": "400px",
       "width": "95%"
      }
     },
     "5d9e9e8d96f740b2bc22b1c62e271d62": {
      "model_module": "@jupyter-widgets/controls",
      "model_module_version": "2.0.0",
      "model_name": "TextStyleModel",
      "state": {
       "description_width": "50px",
       "font_size": null,
       "text_color": null
      }
     },
     "5daa363c3be847ceb25f27a389e70631": {
      "model_module": "@jupyter-widgets/base",
      "model_module_version": "2.0.0",
      "model_name": "LayoutModel",
      "state": {
       "grid_area": "widget001",
       "width": "auto"
      }
     },
     "5e3dd821bef34f69b90df0ab3966f883": {
      "model_module": "@jupyter-widgets/controls",
      "model_module_version": "2.0.0",
      "model_name": "HTMLModel",
      "state": {
       "layout": "IPY_MODEL_bc670f08059e4214831a7695ad5ee4bb",
       "style": "IPY_MODEL_632f60a0742647349a9c5295d101a10b",
       "value": "Downloading tokenizer_config.json: 100%"
      }
     },
     "5e6fd1af7a06470e9bf1c0b9dd284a30": {
      "model_module": "@jupyter-widgets/base",
      "model_module_version": "2.0.0",
      "model_name": "LayoutModel",
      "state": {
       "grid_area": "widget002",
       "height": "100px",
       "width": "95%"
      }
     },
     "5e757c41f48f479db278668a5ed0d9dc": {
      "model_module": "@jupyter-widgets/base",
      "model_module_version": "2.0.0",
      "model_name": "LayoutModel",
      "state": {}
     },
     "5e9e2f10211b4a9298cd0793fb32e3a7": {
      "model_module": "@jupyter-widgets/controls",
      "model_module_version": "2.0.0",
      "model_name": "ButtonModel",
      "state": {
       "description": "Generate SQL",
       "icon": "check",
       "layout": "IPY_MODEL_fe152ae6cef6463badbd29657f3893a4",
       "style": "IPY_MODEL_8af7913671ff41be9b4357938afed12a",
       "tooltip": null
      }
     },
     "5ee9585d203a4871924e1f9e3f9d710d": {
      "model_module": "@jupyter-widgets/controls",
      "model_module_version": "2.0.0",
      "model_name": "HBoxModel",
      "state": {
       "children": [
        "IPY_MODEL_52f16151dfcb456c825cb3dae442d5ad",
        "IPY_MODEL_57b5f0bd8e8941fc9dc925ead9198d98",
        "IPY_MODEL_c7c614834f8149bea48ba010897358ab"
       ],
       "layout": "IPY_MODEL_639a65d9264a448fb7a742e6919c5b7c"
      }
     },
     "5eed3475a56c42b98c0d46e232a99380": {
      "model_module": "@jupyter-widgets/controls",
      "model_module_version": "2.0.0",
      "model_name": "ProgressStyleModel",
      "state": {
       "description_width": ""
      }
     },
     "5f94ce320683475bb382cd948bdf7a73": {
      "model_module": "@jupyter-widgets/controls",
      "model_module_version": "2.0.0",
      "model_name": "TextStyleModel",
      "state": {
       "description_width": "50px",
       "font_size": null,
       "text_color": null
      }
     },
     "60c678d7dc3241fda4ae94769426649f": {
      "model_module": "@jupyter-widgets/base",
      "model_module_version": "2.0.0",
      "model_name": "LayoutModel",
      "state": {
       "grid_area": "widget001",
       "width": "auto"
      }
     },
     "60ec3340c1e942e7a58e0b0e19071cba": {
      "model_module": "@jupyter-widgets/controls",
      "model_module_version": "2.0.0",
      "model_name": "TextStyleModel",
      "state": {
       "description_width": "50px",
       "font_size": null,
       "text_color": null
      }
     },
     "614ddb6fd7af407d939448a6baeb3b25": {
      "model_module": "@jupyter-widgets/base",
      "model_module_version": "2.0.0",
      "model_name": "LayoutModel",
      "state": {}
     },
     "61510f4ae1484495abd3d0ec773b1cb2": {
      "model_module": "@jupyter-widgets/base",
      "model_module_version": "2.0.0",
      "model_name": "LayoutModel",
      "state": {
       "grid_area": "widget001",
       "width": "auto"
      }
     },
     "62348c082cf94b3099856e186c27e0bc": {
      "model_module": "@jupyter-widgets/controls",
      "model_module_version": "2.0.0",
      "model_name": "ButtonStyleModel",
      "state": {
       "font_family": null,
       "font_size": null,
       "font_style": null,
       "font_variant": null,
       "font_weight": null,
       "text_color": null,
       "text_decoration": null
      }
     },
     "632f60a0742647349a9c5295d101a10b": {
      "model_module": "@jupyter-widgets/controls",
      "model_module_version": "2.0.0",
      "model_name": "DescriptionStyleModel",
      "state": {
       "description_width": ""
      }
     },
     "633de916a95941e18b5e88ed791dda05": {
      "model_module": "@jupyter-widgets/base",
      "model_module_version": "2.0.0",
      "model_name": "LayoutModel",
      "state": {
       "grid_area": "widget001",
       "height": "100px",
       "width": "95%"
      }
     },
     "634c8b26689042a680bf890439d92ffc": {
      "model_module": "@jupyter-widgets/base",
      "model_module_version": "2.0.0",
      "model_name": "LayoutModel",
      "state": {}
     },
     "638edb21ff7e4ed8bf2a0b7141e9de94": {
      "model_module": "@jupyter-widgets/controls",
      "model_module_version": "2.0.0",
      "model_name": "ButtonModel",
      "state": {
       "description": "Generate SQL",
       "icon": "check",
       "layout": "IPY_MODEL_9764ea0c8dd842189a2e367e4368e085",
       "style": "IPY_MODEL_ac5bd3fbdb634d3f9c1caa4527243754",
       "tooltip": null
      }
     },
     "639a65d9264a448fb7a742e6919c5b7c": {
      "model_module": "@jupyter-widgets/base",
      "model_module_version": "2.0.0",
      "model_name": "LayoutModel",
      "state": {}
     },
     "643fc750c3934cd6804e358971510d1d": {
      "model_module": "@jupyter-widgets/base",
      "model_module_version": "2.0.0",
      "model_name": "LayoutModel",
      "state": {
       "grid_template_areas": "\"widget001 widget002\"\n\"widget003 widget003\"\n\"widget004 widget004\"\n\". widget005\"",
       "grid_template_columns": "repeat(2, 1fr)",
       "grid_template_rows": "repeat(4, 1fr)",
       "height": "300px"
      }
     },
     "649c30a0737041ae987851a5355b8615": {
      "model_module": "@jupyter-widgets/controls",
      "model_module_version": "2.0.0",
      "model_name": "GridBoxModel",
      "state": {
       "children": [
        "IPY_MODEL_412b1d7e70274edb8a93989c76950e96",
        "IPY_MODEL_5c83a46c3e334efb9c0147f97da8170e",
        "IPY_MODEL_52800575da244f1897a7d255891da1fa"
       ],
       "layout": "IPY_MODEL_315e6d3bc36542d7846994d25a241fe8"
      }
     },
     "65033df1cc3149cb8c8c55909ab67f45": {
      "model_module": "@jupyter-widgets/base",
      "model_module_version": "2.0.0",
      "model_name": "LayoutModel",
      "state": {
       "height": "400px",
       "width": "95%"
      }
     },
     "66b06c84ea1446ea88d88d68659588ee": {
      "model_module": "@jupyter-widgets/controls",
      "model_module_version": "2.0.0",
      "model_name": "GridBoxModel",
      "state": {
       "children": [
        "IPY_MODEL_0988851fd5634c37b347ebc1774d885b",
        "IPY_MODEL_fb4ad0a3844a45febaa0a03db8aeb1f3",
        "IPY_MODEL_523473bf080949d99488d8082e31fe05"
       ],
       "layout": "IPY_MODEL_29a7914658c74d0bb5554675ff00b385"
      }
     },
     "66dc76db9a0a4d448ac3034ed1f4cf3a": {
      "model_module": "@jupyter-widgets/base",
      "model_module_version": "2.0.0",
      "model_name": "LayoutModel",
      "state": {
       "grid_template_areas": "\"widget001\"\n\"widget002\"\n\"widget003\"",
       "grid_template_columns": "repeat(1, 1fr)",
       "grid_template_rows": "repeat(3, 1fr)",
       "height": "300px"
      }
     },
     "6746ca9e51d9434f95e9e2392f19b95c": {
      "model_module": "@jupyter-widgets/controls",
      "model_module_version": "2.0.0",
      "model_name": "DropdownModel",
      "state": {
       "_options_labels": [
        "English",
        "Spanish",
        "French"
       ],
       "description": "From Language",
       "index": 0,
       "layout": "IPY_MODEL_0130cfe02bc94903a9fb1a8d6f740a7b",
       "style": "IPY_MODEL_137d49b8663b4bdeb70228f38e8889d6"
      }
     },
     "68bc6e66f9654060867a2818764104d5": {
      "model_module": "@jupyter-widgets/controls",
      "model_module_version": "2.0.0",
      "model_name": "TextStyleModel",
      "state": {
       "description_width": "50px",
       "font_size": null,
       "text_color": null
      }
     },
     "68febe5ca93b496eb1131f602520e885": {
      "model_module": "@jupyter-widgets/controls",
      "model_module_version": "2.0.0",
      "model_name": "HBoxModel",
      "state": {
       "children": [
        "IPY_MODEL_5b33285cce0e49df9a7a7fe197871513",
        "IPY_MODEL_e3255c2cb1a74bddae1b0954a8a87e77",
        "IPY_MODEL_1df7c60eb4604fb7bb14346d9d60683c"
       ],
       "layout": "IPY_MODEL_15c551d72799491e8939cc994b71e6c6"
      }
     },
     "6a16627ddbe84047af82a82eab0d6725": {
      "model_module": "@jupyter-widgets/controls",
      "model_module_version": "2.0.0",
      "model_name": "HTMLModel",
      "state": {
       "layout": "IPY_MODEL_bc353301f82949ba9ee3a1f27529e039",
       "style": "IPY_MODEL_f9e325431df049be855ba5cbfd61b4e0",
       "value": " 68.3M/6.70G [00:20&lt;05:30, 21.5MB/s]"
      }
     },
     "6a4d9c306b394bc693943a46fbb135fd": {
      "model_module": "@jupyter-widgets/base",
      "model_module_version": "2.0.0",
      "model_name": "LayoutModel",
      "state": {}
     },
     "6a6d7c0948694ef581d41047d9fffe2e": {
      "model_module": "@jupyter-widgets/base",
      "model_module_version": "2.0.0",
      "model_name": "LayoutModel",
      "state": {
       "grid_area": "widget003",
       "width": "50%"
      }
     },
     "6ac7f9a64ce240e1a154cb7f3e25e7a5": {
      "model_module": "@jupyter-widgets/base",
      "model_module_version": "2.0.0",
      "model_name": "LayoutModel",
      "state": {
       "align_items": "center",
       "grid_template_areas": "\"widget001\"\n\"widget002\"\n\"widget003\"",
       "grid_template_columns": "repeat(1, 1fr)",
       "grid_template_rows": "repeat(3, 1fr)",
       "height": "250px"
      }
     },
     "6b0feb496e914d45b94e4153862da161": {
      "model_module": "@jupyter-widgets/controls",
      "model_module_version": "2.0.0",
      "model_name": "HTMLModel",
      "state": {
       "layout": "IPY_MODEL_d594c19ddc194b7cb92f50a569636d04",
       "style": "IPY_MODEL_f7c0ff48b0054f44b1f73b23b42929ba",
       "value": " 163M/6.70G [00:22&lt;05:06, 22.9MB/s]"
      }
     },
     "6c6d25eac03645a9818ecb68a91de45c": {
      "model_module": "@jupyter-widgets/controls",
      "model_module_version": "2.0.0",
      "model_name": "GridBoxModel",
      "state": {
       "children": [
        "IPY_MODEL_0d74545f9bc24aacbde5b6bce912bb88",
        "IPY_MODEL_9d1c70f953c34c31ad2c2ef0ba93853d",
        "IPY_MODEL_b2a221230d724e06a3d6192b2917f2ee"
       ],
       "layout": "IPY_MODEL_dde5e2e451774e4c871d1a465b02d252"
      }
     },
     "6ccba48aae174dddada6d3bbe431b6a3": {
      "model_module": "@jupyter-widgets/controls",
      "model_module_version": "2.0.0",
      "model_name": "FloatProgressModel",
      "state": {
       "bar_style": "success",
       "layout": "IPY_MODEL_49b10eddcd014a06bc40da4f180882f7",
       "max": 85,
       "style": "IPY_MODEL_3b7ce4c8bcce45b3beb219203c4181f6",
       "value": 85
      }
     },
     "6d8e44fbc8f04007b55054cc9ac49ef7": {
      "model_module": "@jupyter-widgets/base",
      "model_module_version": "2.0.0",
      "model_name": "LayoutModel",
      "state": {
       "grid_area": "widget003",
       "width": "50%"
      }
     },
     "6e16c80226e94049b1e30b8b2a111704": {
      "model_module": "@jupyter-widgets/base",
      "model_module_version": "2.0.0",
      "model_name": "LayoutModel",
      "state": {
       "grid_area": "widget003",
       "width": "95%"
      }
     },
     "6e90e79e5bdc41a1b7e8baa7503f098d": {
      "model_module": "@jupyter-widgets/base",
      "model_module_version": "2.0.0",
      "model_name": "LayoutModel",
      "state": {
       "grid_area": "widget001",
       "height": "100px",
       "width": "95%"
      }
     },
     "6e99f5d3c9174f9ea0918a6525477e90": {
      "model_module": "@jupyter-widgets/base",
      "model_module_version": "2.0.0",
      "model_name": "LayoutModel",
      "state": {
       "grid_template_areas": "\"widget001\"\n\"widget002\"\n\".\"",
       "grid_template_columns": "repeat(1, 1fr)",
       "grid_template_rows": "repeat(3, 1fr)",
       "height": "300px"
      }
     },
     "6ea9ede1f0504343b1b88002739dcaef": {
      "model_module": "@jupyter-widgets/base",
      "model_module_version": "2.0.0",
      "model_name": "LayoutModel",
      "state": {}
     },
     "6ef446e236c248688ead223ce0adf2bf": {
      "model_module": "@jupyter-widgets/controls",
      "model_module_version": "2.0.0",
      "model_name": "FloatProgressModel",
      "state": {
       "bar_style": "success",
       "layout": "IPY_MODEL_fc093097005f4262895b079a6be2db8c",
       "max": 63701,
       "style": "IPY_MODEL_d2b0d2cdef5e42a0a7f274a419045f96",
       "value": 63701
      }
     },
     "704a5c128af44d1a99dd8bfb58530098": {
      "model_module": "@jupyter-widgets/controls",
      "model_module_version": "2.0.0",
      "model_name": "DropdownModel",
      "state": {
       "_options_labels": [
        "English",
        "Spanish",
        "French"
       ],
       "description": "To Language",
       "index": 1,
       "layout": "IPY_MODEL_1592e4f073b44103b681bebb166ee76a",
       "style": "IPY_MODEL_895141fc1f8a49d69c319fca8c1c8d40"
      }
     },
     "70765dccf6994db0bd2757465f8dca53": {
      "model_module": "@jupyter-widgets/controls",
      "model_module_version": "2.0.0",
      "model_name": "DropdownModel",
      "state": {
       "_options_labels": [
        "English",
        "Spanish",
        "French"
       ],
       "description": "From Language",
       "index": 0,
       "layout": "IPY_MODEL_14e1941f104d41bbb482d9482afd7750",
       "style": "IPY_MODEL_2bee45b6b65f418eb50abe1cd41dc7a1"
      }
     },
     "717cb4a2b94d43cb946e1067404bf633": {
      "model_module": "@jupyter-widgets/controls",
      "model_module_version": "2.0.0",
      "model_name": "HBoxModel",
      "state": {
       "children": [
        "IPY_MODEL_98a813c72978467bb876ec0685d166d9",
        "IPY_MODEL_c971eec8a5b24bc488e6f8f29fb38605",
        "IPY_MODEL_6a16627ddbe84047af82a82eab0d6725"
       ],
       "layout": "IPY_MODEL_6ea9ede1f0504343b1b88002739dcaef"
      }
     },
     "71840e3772a94814a92a57b90fff3369": {
      "model_module": "@jupyter-widgets/base",
      "model_module_version": "2.0.0",
      "model_name": "LayoutModel",
      "state": {}
     },
     "72b4e8fdce4c4a23bae41d08262448cf": {
      "model_module": "@jupyter-widgets/base",
      "model_module_version": "2.0.0",
      "model_name": "LayoutModel",
      "state": {
       "grid_template_areas": "\"widget001\"\n\"widget002\"\n\"widget003\"",
       "grid_template_columns": "repeat(1, 1fr)",
       "grid_template_rows": "repeat(3, 1fr)",
       "height": "500px"
      }
     },
     "72d12925c3f5419ba8460ab70eb7a21c": {
      "model_module": "@jupyter-widgets/controls",
      "model_module_version": "2.0.0",
      "model_name": "DropdownModel",
      "state": {
       "_options_labels": [
        "English",
        "Spanish",
        "French"
       ],
       "description": "From Language",
       "index": 0,
       "layout": "IPY_MODEL_dbc574cfbe284dcdaac65268fd215718",
       "style": "IPY_MODEL_c263f1807813448b9a8785d180364918"
      }
     },
     "72ea378ae6c9452a82938c6d9ddf2160": {
      "model_module": "@jupyter-widgets/controls",
      "model_module_version": "2.0.0",
      "model_name": "DescriptionStyleModel",
      "state": {
       "description_width": ""
      }
     },
     "72f6dfefba464f4da52976f4f570ff30": {
      "model_module": "@jupyter-widgets/base",
      "model_module_version": "2.0.0",
      "model_name": "LayoutModel",
      "state": {
       "grid_template_areas": "\"widget001 widget002\"\n\"widget003 widget003\"\n\"widget004 widget004\"\n\". widget005\"",
       "grid_template_columns": "repeat(2, 1fr)",
       "grid_template_rows": "repeat(4, 1fr)",
       "height": "300px"
      }
     },
     "72fd7fb61cfe4229b0238fde76518571": {
      "model_module": "@jupyter-widgets/controls",
      "model_module_version": "2.0.0",
      "model_name": "RadioButtonsModel",
      "state": {
       "_options_labels": [
        "Instruction: Given an input question, respond with syntactically correct PostgreSQL\nInput: How many users signed up in the past month?\nPostgreSQL query: ",
        "Instruction: Given an input question, respond with syntactically correct PostgreSQL\nInput: Create a query that displays empfname, emplname, deptid, deptname, location from employee table. Results should be in the ascending order based on the empfname and location.\nPostgreSQL query: ",
        "Instruction: Given an input question, respond with syntactically correct PostgreSQL. Only use table called 'employees'.\nInput: What is the total salary paid to all the employees?\nPostgreSQL query: ",
        "Instruction: Given an input question, respond with syntactically correct PostgreSQL. Only use table called 'employees'.\nInput: List names of all the employees whose name end with 'r'.\nPostgreSQL query: ",
        "Instruction: Given an input question, respond with syntactically correct PostgreSQL. Only use table called 'employees'.\nInput: What are the number of employees in each department?\nPostgreSQL query: ",
        "Instruction: Given an input question, respond with syntactically correct PostgreSQL. Only use table called 'employees'.\nInput: Select names of all theemployees who have third character in their name as 't'.\nPostgreSQL query: ",
        "Instruction: Given an input question, respond with syntactically correct PostgreSQL. Only use table called 'employees'.\nInput: Select names of all the employees who are working under 'Peter'.\nPostgreSQL query: "
       ],
       "description": "Choose a sample Prompt",
       "index": null,
       "layout": "IPY_MODEL_f2a09b3865ea401990c59bcd195b83bf",
       "style": "IPY_MODEL_2ea8df1030eb4808ba95dc3e5ae7386a"
      }
     },
     "7382ae4ac35f4b04b3c68fea57069cee": {
      "model_module": "@jupyter-widgets/base",
      "model_module_version": "2.0.0",
      "model_name": "LayoutModel",
      "state": {
       "height": "300px"
      }
     },
     "752a57475d7b4e6e81f9ca465633039d": {
      "model_module": "@jupyter-widgets/controls",
      "model_module_version": "2.0.0",
      "model_name": "GridBoxModel",
      "state": {
       "layout": "IPY_MODEL_80860c42135e4c5fa9c7cf47cdc7faed"
      }
     },
     "75308d7b88284f6b978a0982a287b203": {
      "model_module": "@jupyter-widgets/base",
      "model_module_version": "2.0.0",
      "model_name": "LayoutModel",
      "state": {}
     },
     "7539e78371f5454aa11e1c83a8401465": {
      "model_module": "@jupyter-widgets/controls",
      "model_module_version": "2.0.0",
      "model_name": "ButtonModel",
      "state": {
       "description": "Translate",
       "icon": "check",
       "layout": "IPY_MODEL_aac626c49a784412a03866dcc2746d16",
       "style": "IPY_MODEL_ce87e1aa88724ac1b81ab221d26c5fe6",
       "tooltip": null
      }
     },
     "75e0f19b3abf49049d0098fc5eb8fa42": {
      "model_module": "@jupyter-widgets/controls",
      "model_module_version": "2.0.0",
      "model_name": "DescriptionStyleModel",
      "state": {
       "description_width": ""
      }
     },
     "75e9db04d1434a899673066bc893c973": {
      "model_module": "@jupyter-widgets/controls",
      "model_module_version": "2.0.0",
      "model_name": "HTMLModel",
      "state": {
       "layout": "IPY_MODEL_8fc16263fdf742ab8015d982f086a22a",
       "style": "IPY_MODEL_e78f7cfd5e6b4393a4bd52bfd91c0cd9",
       "value": " 90.4k/90.4k [00:00&lt;00:00, 105kB/s]"
      }
     },
     "7695987a0df240c9b2dd4b88592f731d": {
      "model_module": "@jupyter-widgets/controls",
      "model_module_version": "2.0.0",
      "model_name": "TextStyleModel",
      "state": {
       "description_width": "50px",
       "font_size": null,
       "text_color": null
      }
     },
     "76baade9782f4610af69595401f46fa2": {
      "model_module": "@jupyter-widgets/controls",
      "model_module_version": "2.0.0",
      "model_name": "GridBoxModel",
      "state": {
       "children": [
        "IPY_MODEL_6746ca9e51d9434f95e9e2392f19b95c",
        "IPY_MODEL_9c3085f794834464aa4dbcc142cb4f6d",
        "IPY_MODEL_ff816be8b74f4a3e9d124769b68b5415",
        "IPY_MODEL_4bf811d351c84df0bf8c8eb9da47912c",
        "IPY_MODEL_eed01860d6c44c2995f1e4b565c1d892"
       ],
       "layout": "IPY_MODEL_49c850e070eb4f7f94e9a511a2e9f828"
      }
     },
     "77a778c910cc40d1a879d38e392d8a05": {
      "model_module": "@jupyter-widgets/controls",
      "model_module_version": "2.0.0",
      "model_name": "ButtonModel",
      "state": {
       "description": "Generate SQL",
       "icon": "check",
       "layout": "IPY_MODEL_be4f8fde832440f886a5807897ce9b49",
       "style": "IPY_MODEL_f2106ef97be243d0a78a5542b5d287e2",
       "tooltip": null
      }
     },
     "78450f76cbf846d9bfd0dfdb036cef17": {
      "model_module": "@jupyter-widgets/controls",
      "model_module_version": "2.0.0",
      "model_name": "GridBoxModel",
      "state": {
       "children": [
        "IPY_MODEL_ebd5e4b250a2412c9b07835e8bde2512",
        "IPY_MODEL_bfa9f3cff3b3469ab1cd54478181740b",
        "IPY_MODEL_1cfe6f35721c40fe9c71207c8b1aefc0"
       ],
       "layout": "IPY_MODEL_4a58752ef5c743a28d71155a5418374a"
      }
     },
     "785b9d9a6efe4bd6b1a842b029fbfe3f": {
      "model_module": "@jupyter-widgets/controls",
      "model_module_version": "2.0.0",
      "model_name": "FloatProgressModel",
      "state": {
       "layout": "IPY_MODEL_18696da9728247e6bd7aefc3e72d86af",
       "max": 7193290147,
       "style": "IPY_MODEL_d1abad7f75af411bad0fc7324a2d6313",
       "value": 132189184
      }
     },
     "789e1e25688445a982f1a69cc941bd74": {
      "model_module": "@jupyter-widgets/base",
      "model_module_version": "2.0.0",
      "model_name": "LayoutModel",
      "state": {}
     },
     "78c17d0ea69b48ed925e8b0ab59df178": {
      "model_module": "@jupyter-widgets/controls",
      "model_module_version": "2.0.0",
      "model_name": "HTMLModel",
      "state": {
       "layout": "IPY_MODEL_3c74373db3654201970d43d6fc541c71",
       "style": "IPY_MODEL_2a50915ea521406a82b481ff38b79ed2",
       "value": "Downloading pytorch_model_00001-of-00072.bin:   2%"
      }
     },
     "798690f330974c55aec4fe5f56554ed2": {
      "model_module": "@jupyter-widgets/base",
      "model_module_version": "2.0.0",
      "model_name": "LayoutModel",
      "state": {
       "grid_area": "widget004",
       "height": "100px",
       "width": "100%"
      }
     },
     "79b4569088184b01acd9e872c394a654": {
      "model_module": "@jupyter-widgets/controls",
      "model_module_version": "2.0.0",
      "model_name": "ButtonStyleModel",
      "state": {
       "font_family": null,
       "font_size": null,
       "font_style": null,
       "font_variant": null,
       "font_weight": null,
       "text_color": null,
       "text_decoration": null
      }
     },
     "7a5fa87136ff4d7b942647cab5ca32ff": {
      "model_module": "@jupyter-widgets/controls",
      "model_module_version": "2.0.0",
      "model_name": "DropdownModel",
      "state": {
       "_options_labels": [
        "English",
        "Spanish",
        "French"
       ],
       "description": "To Language",
       "index": 1,
       "layout": "IPY_MODEL_86b09ebd28e84ea89a6340fa13f4242b",
       "style": "IPY_MODEL_0a8daf84de134f4fade4efae909723b0"
      }
     },
     "7b91fa53de0344e8956e08cd87dbe4e3": {
      "model_module": "@jupyter-widgets/base",
      "model_module_version": "2.0.0",
      "model_name": "LayoutModel",
      "state": {
       "grid_area": "widget003",
       "height": "40px",
       "width": "50%"
      }
     },
     "7be14acfbe8a4e4b81de9eedae5e5e99": {
      "model_module": "@jupyter-widgets/controls",
      "model_module_version": "2.0.0",
      "model_name": "HBoxModel",
      "state": {
       "children": [
        "IPY_MODEL_5e3dd821bef34f69b90df0ab3966f883",
        "IPY_MODEL_1eb10cd78d6446c89adf2d6c9fc3ed64",
        "IPY_MODEL_f635c00a05d746c0a37c2a22608d9cc6"
       ],
       "layout": "IPY_MODEL_e57cd74666e44d098e983319170f76bd"
      }
     },
     "7befcd2413154ebbaa4a1b08f417d5de": {
      "model_module": "@jupyter-widgets/controls",
      "model_module_version": "2.0.0",
      "model_name": "GridBoxModel",
      "state": {
       "children": [
        "IPY_MODEL_350a7ca35dad461995a10ddd000b73e7",
        "IPY_MODEL_004c30679827428888f4cd02eb2a4577",
        "IPY_MODEL_9c32c0d3bf9f46e8a97f7db2f5224548"
       ],
       "layout": "IPY_MODEL_1139a0870aca464f9c5bc58fc664deae"
      }
     },
     "7bf412c74ad84dcc88d0361ddd0657e3": {
      "model_module": "@jupyter-widgets/base",
      "model_module_version": "2.0.0",
      "model_name": "LayoutModel",
      "state": {
       "grid_template_areas": "\"widget001 widget002\"\n\"widget003 widget003\"\n\"widget004 widget004\"\n\". widget005\"",
       "grid_template_columns": "repeat(2, 1fr)",
       "grid_template_rows": "repeat(4, 1fr)",
       "height": "300px"
      }
     },
     "7c322633fa724fd58ecef2cfc566ca46": {
      "model_module": "@jupyter-widgets/controls",
      "model_module_version": "2.0.0",
      "model_name": "TextareaModel",
      "state": {
       "description": "Output",
       "layout": "IPY_MODEL_e6e9290afc2445fea0f41c4a71d33ab8",
       "placeholder": "Generated SQL",
       "style": "IPY_MODEL_e8e303cb434c442ab7b308631def6128",
       "value": "Instruction: Given an input question, respond with syntactically correct PostgreSQL. Only use table called 'employees'.\nInput: Select names of all the employees who are working under 'Peter'.\nPostgreSQL query:  SELECT name FROM employees WHERE employee_id = 2\n\n\n                    if(strpos(file_get_contents(\"sys based solely on the company year. All rights reserved.\nAll content on this site is protected by code, and may not be reproduced, copied, or"
      }
     },
     "7c379be1463b430384034bf52f6a46c6": {
      "model_module": "@jupyter-widgets/controls",
      "model_module_version": "2.0.0",
      "model_name": "TextStyleModel",
      "state": {
       "description_width": "50px",
       "font_size": null,
       "text_color": null
      }
     },
     "7c429975848b42009dceefe5400b89a1": {
      "model_module": "@jupyter-widgets/controls",
      "model_module_version": "2.0.0",
      "model_name": "HTMLModel",
      "state": {
       "layout": "IPY_MODEL_98565f41b47a48d48b86ccbe5f6bb8c8",
       "style": "IPY_MODEL_eaaaf93a61d24042b3276e763a5300ff",
       "value": " 568/568 [00:00&lt;00:00, 34.8kB/s]"
      }
     },
     "7cb2d7f5447e46078a8ba591c6906059": {
      "model_module": "@jupyter-widgets/base",
      "model_module_version": "2.0.0",
      "model_name": "LayoutModel",
      "state": {
       "grid_area": "widget003",
       "height": "100px",
       "width": "100%"
      }
     },
     "7cb653e50ef84102adc221a3433189d9": {
      "model_module": "@jupyter-widgets/base",
      "model_module_version": "2.0.0",
      "model_name": "LayoutModel",
      "state": {}
     },
     "7dabaf995568439897fa82ca7d3cb121": {
      "model_module": "@jupyter-widgets/controls",
      "model_module_version": "2.0.0",
      "model_name": "GridBoxModel",
      "state": {
       "children": [
        "IPY_MODEL_ebd5e4b250a2412c9b07835e8bde2512",
        "IPY_MODEL_bfa9f3cff3b3469ab1cd54478181740b",
        "IPY_MODEL_1cfe6f35721c40fe9c71207c8b1aefc0"
       ],
       "layout": "IPY_MODEL_e2ed35747a604433b501feb6ac45d42a"
      }
     },
     "7db3a2a97a4d48fb8afcfeea80b423b3": {
      "model_module": "@jupyter-widgets/base",
      "model_module_version": "2.0.0",
      "model_name": "LayoutModel",
      "state": {
       "grid_template_areas": "\"widget001\"\n\"widget002\"\n\"widget003\"",
       "grid_template_columns": "repeat(1, 1fr)",
       "grid_template_rows": "repeat(3, 1fr)",
       "height": "500px"
      }
     },
     "7e3188fdfe3c45f89d011708a627269a": {
      "model_module": "@jupyter-widgets/controls",
      "model_module_version": "2.0.0",
      "model_name": "GridBoxModel",
      "state": {
       "children": [
        "IPY_MODEL_abdf5559551944f5bf9f51b38a1370d0",
        "IPY_MODEL_064678723e07423eb0bff7296cd7930a",
        "IPY_MODEL_0378b2e8976f45e08f9ab2a4857f5a24",
        "IPY_MODEL_af4e533050f44dc693e9235d43bbda5c",
        "IPY_MODEL_e318ae1051de4b01abb5d0452bf19823"
       ],
       "layout": "IPY_MODEL_643fc750c3934cd6804e358971510d1d"
      }
     },
     "7e581ee0f82a421eb3a07d43536a81a2": {
      "model_module": "@jupyter-widgets/base",
      "model_module_version": "2.0.0",
      "model_name": "LayoutModel",
      "state": {
       "grid_area": "widget002",
       "width": "auto"
      }
     },
     "7fcf8a50dbdf48008e1eff1fd20ef855": {
      "model_module": "@jupyter-widgets/controls",
      "model_module_version": "2.0.0",
      "model_name": "DescriptionStyleModel",
      "state": {
       "description_width": ""
      }
     },
     "80179fcfa89345eeac3f2bc7cd5a97ab": {
      "model_module": "@jupyter-widgets/base",
      "model_module_version": "2.0.0",
      "model_name": "LayoutModel",
      "state": {
       "grid_area": "widget004",
       "height": "100px",
       "width": "95%"
      }
     },
     "80860c42135e4c5fa9c7cf47cdc7faed": {
      "model_module": "@jupyter-widgets/base",
      "model_module_version": "2.0.0",
      "model_name": "LayoutModel",
      "state": {
       "height": "300px"
      }
     },
     "80bad98a87434d93b4a777f866093780": {
      "model_module": "@jupyter-widgets/controls",
      "model_module_version": "2.0.0",
      "model_name": "TextareaModel",
      "state": {
       "description": "Input",
       "layout": "IPY_MODEL_d03a2238132e43418f978c6db500bff6",
       "placeholder": "Enter the instruction to generate",
       "style": "IPY_MODEL_d64a92cf0c684293a7ae6f4dc6eefbea",
       "value": "Instruction: Given an input question, respond with syntactically correct PostgreSQL. Only use table called 'employees'.\nInput: Select names of all the employees who are working under 'Peter'.\nPostgreSQL query: "
      }
     },
     "80c6a1ce24a344d99b35164a77fb10fc": {
      "model_module": "@jupyter-widgets/controls",
      "model_module_version": "2.0.0",
      "model_name": "DropdownModel",
      "state": {
       "_options_labels": [
        "English",
        "Spanish",
        "French"
       ],
       "description": "From Language",
       "index": 0,
       "layout": "IPY_MODEL_aea045fd0f814873915026831ef905e3",
       "style": "IPY_MODEL_4f50c1cf9f354543854efe6f4d3fde12"
      }
     },
     "811e0ba515ab4314950653ab21ed86c8": {
      "model_module": "@jupyter-widgets/controls",
      "model_module_version": "2.0.0",
      "model_name": "DescriptionStyleModel",
      "state": {
       "description_width": ""
      }
     },
     "82018140f0a340ce9626e3a5ae50f9de": {
      "model_module": "@jupyter-widgets/base",
      "model_module_version": "2.0.0",
      "model_name": "LayoutModel",
      "state": {
       "grid_template_areas": "\"widget001\"\n\"widget002\"\n\"widget003\"",
       "grid_template_columns": "repeat(1, 1fr)",
       "grid_template_rows": "repeat(3, 1fr)",
       "height": "500px"
      }
     },
     "82405802a6074a5c9b114c70f4374bb6": {
      "model_module": "@jupyter-widgets/base",
      "model_module_version": "2.0.0",
      "model_name": "LayoutModel",
      "state": {}
     },
     "82cc5b0e38074d9784f5b374d3c16995": {
      "model_module": "@jupyter-widgets/controls",
      "model_module_version": "2.0.0",
      "model_name": "FloatProgressModel",
      "state": {
       "bar_style": "danger",
       "layout": "IPY_MODEL_6a4d9c306b394bc693943a46fbb135fd",
       "max": 7193290147,
       "style": "IPY_MODEL_54d82726a2924d948c54b144e2a7d89c",
       "value": 162958336
      }
     },
     "8419279585da41b9a1d86cf3ae1521fd": {
      "model_module": "@jupyter-widgets/controls",
      "model_module_version": "2.0.0",
      "model_name": "GridBoxModel",
      "state": {
       "children": [
        "IPY_MODEL_261d9e25d64444459461aa569e2a65b7",
        "IPY_MODEL_184b30869f954ccb93cb1fa10ef0d834",
        "IPY_MODEL_4f6b368e684c493996c6e629e7d8551b"
       ],
       "layout": "IPY_MODEL_ffa59540676d4b1c80b1fc79c41d6110"
      }
     },
     "841f7d20c4bf43bb97930fa427184118": {
      "model_module": "@jupyter-widgets/base",
      "model_module_version": "2.0.0",
      "model_name": "LayoutModel",
      "state": {
       "grid_area": "widget004",
       "height": "100px",
       "width": "95%"
      }
     },
     "8433364da70740adac53b59954dab93e": {
      "model_module": "@jupyter-widgets/base",
      "model_module_version": "2.0.0",
      "model_name": "LayoutModel",
      "state": {}
     },
     "843c53708f624aa694161c50fc1412bf": {
      "model_module": "@jupyter-widgets/controls",
      "model_module_version": "2.0.0",
      "model_name": "DescriptionStyleModel",
      "state": {
       "description_width": "initial"
      }
     },
     "8496b01df98941ab907f9d70a0b4f7ae": {
      "model_module": "@jupyter-widgets/controls",
      "model_module_version": "2.0.0",
      "model_name": "DescriptionStyleModel",
      "state": {
       "description_width": "initial"
      }
     },
     "84bbee6cec4e462f9a51693f444fa955": {
      "model_module": "@jupyter-widgets/controls",
      "model_module_version": "2.0.0",
      "model_name": "ProgressStyleModel",
      "state": {
       "description_width": ""
      }
     },
     "850e792043e84b17b580e19414042238": {
      "model_module": "@jupyter-widgets/controls",
      "model_module_version": "2.0.0",
      "model_name": "ButtonModel",
      "state": {
       "description": "Generate SQL",
       "icon": "check",
       "layout": "IPY_MODEL_06135fa9e25b48aa846e55c46cd6a9d5",
       "style": "IPY_MODEL_510918cf24164b0e859edd5806299a12",
       "tooltip": null
      }
     },
     "854766c3110046039efc97d1547ace58": {
      "model_module": "@jupyter-widgets/controls",
      "model_module_version": "2.0.0",
      "model_name": "FloatProgressModel",
      "state": {
       "bar_style": "success",
       "layout": "IPY_MODEL_4ba976e8eb3e43daab628a92e91357fc",
       "max": 568,
       "style": "IPY_MODEL_9c85c520b62845418536863b5aa57d2c",
       "value": 568
      }
     },
     "859d6df8888242938f50ec3b512fe876": {
      "model_module": "@jupyter-widgets/controls",
      "model_module_version": "2.0.0",
      "model_name": "GridBoxModel",
      "state": {
       "children": [
        "IPY_MODEL_bd217dfeb4c74d4f894bad4fb85e344e",
        "IPY_MODEL_442604c66ebd465cb36edb254a6c60c0",
        "IPY_MODEL_4ddf99d8f22f40f6a19bcf07472a9afa"
       ],
       "layout": "IPY_MODEL_da0b4ca365ec4b89a3678260e7f7e5fb"
      }
     },
     "85ddaafcf70945e9bccdf7e348dd3caf": {
      "model_module": "@jupyter-widgets/controls",
      "model_module_version": "2.0.0",
      "model_name": "GridBoxModel",
      "state": {
       "children": [
        "IPY_MODEL_e12392fac5c148a9b516635c860d15da",
        "IPY_MODEL_56f571979be149408db0296664d42b81",
        "IPY_MODEL_638edb21ff7e4ed8bf2a0b7141e9de94"
       ],
       "layout": "IPY_MODEL_72b4e8fdce4c4a23bae41d08262448cf"
      }
     },
     "8639158f0491469db30de4a864cdfd29": {
      "model_module": "@jupyter-widgets/controls",
      "model_module_version": "2.0.0",
      "model_name": "TextareaModel",
      "state": {
       "description": "Output",
       "layout": "IPY_MODEL_d6bad84e9e60425ab44c208d7083f9b8",
       "placeholder": "Translated sentence",
       "style": "IPY_MODEL_f97b177422a24f97ad701d82eda48733",
       "value": "Instruction: translate English to Spanish \nInput: \"I am a student\" \nOutput: \"Soy un estudiante\"\nMy code:\nstring English = \"I am a student\"\nstring Spanish ="
      }
     },
     "8683453ad36b4945ac66fe093cdeab68": {
      "model_module": "@jupyter-widgets/controls",
      "model_module_version": "2.0.0",
      "model_name": "GridBoxModel",
      "state": {
       "children": [
        "IPY_MODEL_350a7ca35dad461995a10ddd000b73e7",
        "IPY_MODEL_004c30679827428888f4cd02eb2a4577",
        "IPY_MODEL_9c32c0d3bf9f46e8a97f7db2f5224548"
       ],
       "layout": "IPY_MODEL_56d61742590e4c0f9679dff548bee940"
      }
     },
     "86b09ebd28e84ea89a6340fa13f4242b": {
      "model_module": "@jupyter-widgets/base",
      "model_module_version": "2.0.0",
      "model_name": "LayoutModel",
      "state": {
       "grid_area": "widget002",
       "width": "auto"
      }
     },
     "872c8c776b4e420ebdc557e58464e409": {
      "model_module": "@jupyter-widgets/base",
      "model_module_version": "2.0.0",
      "model_name": "LayoutModel",
      "state": {}
     },
     "88bbb6c9e4604964a698170cca934551": {
      "model_module": "@jupyter-widgets/controls",
      "model_module_version": "2.0.0",
      "model_name": "GridBoxModel",
      "state": {
       "children": [
        "IPY_MODEL_4080466a166a4aa9a4a3599456de4d34",
        "IPY_MODEL_3d20f873101945949feafd17cdc5d3a5",
        "IPY_MODEL_b6c3db8557ed4249893039aebcc5e11b",
        "IPY_MODEL_e3a6986f28fc43b2920fd4b735c9923c",
        "IPY_MODEL_457ae254e57541a38dc3e1aa7696a91d"
       ],
       "layout": "IPY_MODEL_c6b6b8d38cfa47e39dfa78a752f6b0bc"
      }
     },
     "8918fe641e9243769a0806cf1d6338e3": {
      "model_module": "@jupyter-widgets/controls",
      "model_module_version": "2.0.0",
      "model_name": "TextStyleModel",
      "state": {
       "description_width": "50px",
       "font_size": null,
       "text_color": null
      }
     },
     "895141fc1f8a49d69c319fca8c1c8d40": {
      "model_module": "@jupyter-widgets/controls",
      "model_module_version": "2.0.0",
      "model_name": "DescriptionStyleModel",
      "state": {
       "description_width": "initial"
      }
     },
     "8a4fc71df7b44b7db78de0f7c004320c": {
      "model_module": "@jupyter-widgets/controls",
      "model_module_version": "2.0.0",
      "model_name": "DescriptionStyleModel",
      "state": {
       "description_width": ""
      }
     },
     "8a73e87f6df34d52a43059a01f5eab5e": {
      "model_module": "@jupyter-widgets/controls",
      "model_module_version": "2.0.0",
      "model_name": "HBoxModel",
      "state": {
       "children": [
        "IPY_MODEL_c3b874aab18445a3b7b5595a5f7df6ed",
        "IPY_MODEL_854766c3110046039efc97d1547ace58",
        "IPY_MODEL_cdb9f43738324248abdf8e80482ff4b6"
       ],
       "layout": "IPY_MODEL_be3dfb25663d46be8058ecf949556b85"
      }
     },
     "8aed490235ec4fd995cf47ae66b1971e": {
      "model_module": "@jupyter-widgets/controls",
      "model_module_version": "2.0.0",
      "model_name": "GridBoxModel",
      "state": {
       "children": [
        "IPY_MODEL_cc5553f579584d70baf173729fd85089",
        "IPY_MODEL_44e9c989db774aeaa8973f34551c04be",
        "IPY_MODEL_c11454f7b9d74c01b5cb690850a72422"
       ],
       "layout": "IPY_MODEL_7db3a2a97a4d48fb8afcfeea80b423b3"
      }
     },
     "8af7913671ff41be9b4357938afed12a": {
      "model_module": "@jupyter-widgets/controls",
      "model_module_version": "2.0.0",
      "model_name": "ButtonStyleModel",
      "state": {
       "font_family": null,
       "font_size": null,
       "font_style": null,
       "font_variant": null,
       "font_weight": null,
       "text_color": null,
       "text_decoration": null
      }
     },
     "8b6fdffe0ddf491e9d3cf7f713f23896": {
      "model_module": "@jupyter-widgets/controls",
      "model_module_version": "2.0.0",
      "model_name": "TextareaModel",
      "state": {
       "description": "Output",
       "layout": "IPY_MODEL_29783c0b4ccb4107baec5f93639120e5",
       "placeholder": "Generated SQL",
       "style": "IPY_MODEL_96ed12401997430e9cf9bc2d4b3bef54"
      }
     },
     "8baba42eefed42ce9a50a1a5e2225213": {
      "model_module": "@jupyter-widgets/base",
      "model_module_version": "2.0.0",
      "model_name": "LayoutModel",
      "state": {
       "grid_area": "widget001",
       "height": "100%",
       "width": "95%"
      }
     },
     "8c002882e86e44ecafdab4f94a721ad1": {
      "model_module": "@jupyter-widgets/base",
      "model_module_version": "2.0.0",
      "model_name": "LayoutModel",
      "state": {
       "grid_area": "widget003",
       "width": "95%"
      }
     },
     "8c1813f121f04b58b15d7ca349edafee": {
      "model_module": "@jupyter-widgets/controls",
      "model_module_version": "2.0.0",
      "model_name": "HTMLModel",
      "state": {
       "layout": "IPY_MODEL_167669b5ae6946faafcb0c7b21f7a5a8",
       "style": "IPY_MODEL_3a7141f32d84495a94f8dadcbcf397c0",
       "value": "Downloading pytorch_model_00001-of-00072.bin:   2%"
      }
     },
     "8c49e9c839634deda3e89c22adcaff85": {
      "model_module": "@jupyter-widgets/controls",
      "model_module_version": "2.0.0",
      "model_name": "TextStyleModel",
      "state": {
       "description_width": "50px",
       "font_size": null,
       "text_color": null
      }
     },
     "8c5e043b598b41c2a47bd8a185bcbe63": {
      "model_module": "@jupyter-widgets/controls",
      "model_module_version": "2.0.0",
      "model_name": "DescriptionStyleModel",
      "state": {
       "description_width": ""
      }
     },
     "8c80a319e3304a11b77eba302b51a42f": {
      "model_module": "@jupyter-widgets/controls",
      "model_module_version": "2.0.0",
      "model_name": "HTMLModel",
      "state": {
       "layout": "IPY_MODEL_de4f934014d4475e9659b82105920e86",
       "style": "IPY_MODEL_255d5d5edc3043528274d02a54ea8af2",
       "value": "Downloading: 100%"
      }
     },
     "8d3df703540f4c7fbde94a5e92e56bd9": {
      "model_module": "@jupyter-widgets/controls",
      "model_module_version": "2.0.0",
      "model_name": "DropdownModel",
      "state": {
       "_options_labels": [
        "English",
        "Spanish",
        "French"
       ],
       "description": "From Language",
       "index": 0,
       "layout": "IPY_MODEL_5daa363c3be847ceb25f27a389e70631",
       "style": "IPY_MODEL_2aed10ab0ec543369624ca9ba700bf50"
      }
     },
     "8d4007a827a142b9b935ac034a4566cd": {
      "model_module": "@jupyter-widgets/controls",
      "model_module_version": "2.0.0",
      "model_name": "TextStyleModel",
      "state": {
       "description_width": "50px",
       "font_size": null,
       "text_color": null
      }
     },
     "8d8e2b7af99f476088de10969cf5afa6": {
      "model_module": "@jupyter-widgets/controls",
      "model_module_version": "2.0.0",
      "model_name": "HBoxModel",
      "state": {
       "children": [
        "IPY_MODEL_dab8bd0e54804ed2964e03e0bf7f46c6",
        "IPY_MODEL_df0cd099621b4155aa66a9c6feae656b",
        "IPY_MODEL_7c429975848b42009dceefe5400b89a1"
       ],
       "layout": "IPY_MODEL_da0e46cf6bdf417caef090bb59812a8b"
      }
     },
     "8e557e314e4942649755d50fe7bfb95a": {
      "model_module": "@jupyter-widgets/controls",
      "model_module_version": "2.0.0",
      "model_name": "TextStyleModel",
      "state": {
       "description_width": "50px",
       "font_size": null,
       "text_color": null
      }
     },
     "8eb4582896c34c1f96406c860ba7bc14": {
      "model_module": "@jupyter-widgets/controls",
      "model_module_version": "2.0.0",
      "model_name": "DescriptionStyleModel",
      "state": {
       "description_width": ""
      }
     },
     "8ec28a8cdc0a4263b3f285d669deeeaa": {
      "model_module": "@jupyter-widgets/controls",
      "model_module_version": "2.0.0",
      "model_name": "DescriptionStyleModel",
      "state": {
       "description_width": ""
      }
     },
     "8f0c818fc47344f2b5b3dd21947326fa": {
      "model_module": "@jupyter-widgets/controls",
      "model_module_version": "2.0.0",
      "model_name": "FloatProgressModel",
      "state": {
       "layout": "IPY_MODEL_da94f3c500be4999bedd1d4c7837b62e",
       "max": 7193290147,
       "style": "IPY_MODEL_84bbee6cec4e462f9a51693f444fa955",
       "value": 6009051136
      }
     },
     "8fc16263fdf742ab8015d982f086a22a": {
      "model_module": "@jupyter-widgets/base",
      "model_module_version": "2.0.0",
      "model_name": "LayoutModel",
      "state": {}
     },
     "907b811df9ef4422b44e230d27fabfdf": {
      "model_module": "@jupyter-widgets/base",
      "model_module_version": "2.0.0",
      "model_name": "LayoutModel",
      "state": {
       "grid_area": "widget005",
       "width": "auto"
      }
     },
     "90b586c0af66404c882828587d9ec47b": {
      "model_module": "@jupyter-widgets/controls",
      "model_module_version": "2.0.0",
      "model_name": "ButtonStyleModel",
      "state": {
       "font_family": null,
       "font_size": null,
       "font_style": null,
       "font_variant": null,
       "font_weight": null,
       "text_color": null,
       "text_decoration": null
      }
     },
     "90e058b83f694cb7b1e430cb8ba60772": {
      "model_module": "@jupyter-widgets/controls",
      "model_module_version": "2.0.0",
      "model_name": "HBoxModel",
      "state": {
       "children": [
        "IPY_MODEL_78c17d0ea69b48ed925e8b0ab59df178",
        "IPY_MODEL_eed1232419904990b3b5d1bfc6deab8c",
        "IPY_MODEL_6b0feb496e914d45b94e4153862da161"
       ],
       "layout": "IPY_MODEL_39d3192269ef43149e465862dbbf266c"
      }
     },
     "9150c0dc08e04954baf0040ede597b6d": {
      "model_module": "@jupyter-widgets/base",
      "model_module_version": "2.0.0",
      "model_name": "LayoutModel",
      "state": {}
     },
     "918aee2aeab548a0bb8c61fdc4e6da48": {
      "model_module": "@jupyter-widgets/controls",
      "model_module_version": "2.0.0",
      "model_name": "TextStyleModel",
      "state": {
       "description_width": "50px",
       "font_size": null,
       "text_color": null
      }
     },
     "91c6ee085d264b9fa554696b38a7472f": {
      "model_module": "@jupyter-widgets/base",
      "model_module_version": "2.0.0",
      "model_name": "LayoutModel",
      "state": {}
     },
     "9351bbc78ff945378cdfb95cd06efc2d": {
      "model_module": "@jupyter-widgets/base",
      "model_module_version": "2.0.0",
      "model_name": "LayoutModel",
      "state": {
       "align_items": "center",
       "grid_template_areas": "\"widget001\"\n\"widget002\"\n\"widget003\"",
       "grid_template_columns": "repeat(1, 1fr)",
       "grid_template_rows": "repeat(3, 1fr)",
       "height": "300px"
      }
     },
     "935b58b4fdb74d9c8b6de922cbbcadd8": {
      "model_module": "@jupyter-widgets/controls",
      "model_module_version": "2.0.0",
      "model_name": "GridBoxModel",
      "state": {
       "children": [
        "IPY_MODEL_4080466a166a4aa9a4a3599456de4d34",
        "IPY_MODEL_3d20f873101945949feafd17cdc5d3a5",
        "IPY_MODEL_b6c3db8557ed4249893039aebcc5e11b",
        "IPY_MODEL_e3a6986f28fc43b2920fd4b735c9923c",
        "IPY_MODEL_457ae254e57541a38dc3e1aa7696a91d"
       ],
       "layout": "IPY_MODEL_a38e325220a3472b89d195293e5d9e07"
      }
     },
     "93c798fed06e436490ef522bc32a9272": {
      "model_module": "@jupyter-widgets/controls",
      "model_module_version": "2.0.0",
      "model_name": "ProgressStyleModel",
      "state": {
       "description_width": ""
      }
     },
     "93e15dbd1f824745b228f881d62d7a03": {
      "model_module": "@jupyter-widgets/controls",
      "model_module_version": "2.0.0",
      "model_name": "HBoxModel",
      "state": {
       "children": [
        "IPY_MODEL_503caa3f560241cba7bef4b198fafa7f",
        "IPY_MODEL_ca1f05a69c0f49dda95cc749f53f2f94",
        "IPY_MODEL_75e9db04d1434a899673066bc893c973"
       ],
       "layout": "IPY_MODEL_2a1554d16332402ab2982e2d8d40cf15"
      }
     },
     "9441dea6600d406da05447f371f6ef24": {
      "model_module": "@jupyter-widgets/controls",
      "model_module_version": "2.0.0",
      "model_name": "GridBoxModel",
      "state": {
       "children": [
        "IPY_MODEL_261d9e25d64444459461aa569e2a65b7",
        "IPY_MODEL_184b30869f954ccb93cb1fa10ef0d834",
        "IPY_MODEL_4f6b368e684c493996c6e629e7d8551b"
       ],
       "layout": "IPY_MODEL_5c7373dc349b425698447e03e21899dd"
      }
     },
     "94ac010820c04e6482a23b8ef38545bd": {
      "model_module": "@jupyter-widgets/controls",
      "model_module_version": "2.0.0",
      "model_name": "ButtonStyleModel",
      "state": {
       "font_family": null,
       "font_size": null,
       "font_style": null,
       "font_variant": null,
       "font_weight": null,
       "text_color": null,
       "text_decoration": null
      }
     },
     "951f435a0dfb4e8fbc3a3d042b770b99": {
      "model_module": "@jupyter-widgets/base",
      "model_module_version": "2.0.0",
      "model_name": "LayoutModel",
      "state": {
       "grid_area": "widget001",
       "height": "100%",
       "width": "95%"
      }
     },
     "952b61528a1f44a7ae01d8e239e89b01": {
      "model_module": "@jupyter-widgets/controls",
      "model_module_version": "2.0.0",
      "model_name": "ButtonStyleModel",
      "state": {
       "font_family": null,
       "font_size": null,
       "font_style": null,
       "font_variant": null,
       "font_weight": null,
       "text_color": null,
       "text_decoration": null
      }
     },
     "95939034261b4722a31d0687fa27b446": {
      "model_module": "@jupyter-widgets/controls",
      "model_module_version": "2.0.0",
      "model_name": "TextareaModel",
      "state": {
       "description": "Output",
       "layout": "IPY_MODEL_e5128e432173480fb843aa39408d1d20",
       "placeholder": "Generated SQL",
       "style": "IPY_MODEL_06602b09ac1f4495b5d5ce592f54f998"
      }
     },
     "9607f05cf99549aba053dbdc646cdffa": {
      "model_module": "@jupyter-widgets/base",
      "model_module_version": "2.0.0",
      "model_name": "LayoutModel",
      "state": {
       "grid_area": "widget003",
       "width": "100%"
      }
     },
     "960ed29770674fc68174cde3562918ba": {
      "model_module": "@jupyter-widgets/base",
      "model_module_version": "2.0.0",
      "model_name": "LayoutModel",
      "state": {
       "grid_area": "widget003",
       "height": "100px",
       "width": "95%"
      }
     },
     "9620386e3a4048199e1d1e0bf649e693": {
      "model_module": "@jupyter-widgets/base",
      "model_module_version": "2.0.0",
      "model_name": "LayoutModel",
      "state": {}
     },
     "96622b76cc7f439ab310e356c17f67bf": {
      "model_module": "@jupyter-widgets/base",
      "model_module_version": "2.0.0",
      "model_name": "LayoutModel",
      "state": {
       "grid_area": "widget005",
       "width": "auto"
      }
     },
     "96ed12401997430e9cf9bc2d4b3bef54": {
      "model_module": "@jupyter-widgets/controls",
      "model_module_version": "2.0.0",
      "model_name": "TextStyleModel",
      "state": {
       "description_width": "50px",
       "font_size": null,
       "text_color": null
      }
     },
     "9764ea0c8dd842189a2e367e4368e085": {
      "model_module": "@jupyter-widgets/base",
      "model_module_version": "2.0.0",
      "model_name": "LayoutModel",
      "state": {
       "grid_area": "widget003",
       "width": "50%"
      }
     },
     "98565f41b47a48d48b86ccbe5f6bb8c8": {
      "model_module": "@jupyter-widgets/base",
      "model_module_version": "2.0.0",
      "model_name": "LayoutModel",
      "state": {}
     },
     "989c282496904f628e3cdaea7595fa70": {
      "model_module": "@jupyter-widgets/controls",
      "model_module_version": "2.0.0",
      "model_name": "ProgressStyleModel",
      "state": {
       "description_width": ""
      }
     },
     "98a813c72978467bb876ec0685d166d9": {
      "model_module": "@jupyter-widgets/controls",
      "model_module_version": "2.0.0",
      "model_name": "HTMLModel",
      "state": {
       "layout": "IPY_MODEL_daebae1f915644c1b0918d8eae1e673e",
       "style": "IPY_MODEL_1f6dfe0e65b942c7b56ee594b330da41",
       "value": "Downloading pytorch_model_00001-of-00072.bin:   1%"
      }
     },
     "998d18f00d3642778ac519c2c940b9cf": {
      "model_module": "@jupyter-widgets/controls",
      "model_module_version": "2.0.0",
      "model_name": "TextareaModel",
      "state": {
       "description": "Output",
       "layout": "IPY_MODEL_d8bfcf845fdd4c5c92290f1b48f7866c",
       "placeholder": "Generated SQL",
       "style": "IPY_MODEL_9d60b1bb590749e6bd28d79d29dfbd7b"
      }
     },
     "9a225c48b6c24ac68af71fa5a4c8d618": {
      "model_module": "@jupyter-widgets/controls",
      "model_module_version": "2.0.0",
      "model_name": "DropdownModel",
      "state": {
       "_options_labels": [
        "English",
        "Spanish",
        "French"
       ],
       "description": "To Language",
       "index": 1,
       "layout": "IPY_MODEL_b25a43a1ae1746ea9c92c68cda2ed636",
       "style": "IPY_MODEL_2a1889339e6d410eacd5c6e249894aca"
      }
     },
     "9a4df43081d945d0b8ed196466ae20de": {
      "model_module": "@jupyter-widgets/controls",
      "model_module_version": "2.0.0",
      "model_name": "HTMLModel",
      "state": {
       "layout": "IPY_MODEL_82405802a6074a5c9b114c70f4374bb6",
       "style": "IPY_MODEL_2b585b55541d4a98b64c3a34fd79ef1c",
       "value": " 62.2k/62.2k [00:00&lt;00:00, 109kB/s]"
      }
     },
     "9a6bd9f7048c4eec9bf2c4a321082565": {
      "model_module": "@jupyter-widgets/base",
      "model_module_version": "2.0.0",
      "model_name": "LayoutModel",
      "state": {}
     },
     "9b6e5dc0d4fe418d8045cd4a17d68f40": {
      "model_module": "@jupyter-widgets/base",
      "model_module_version": "2.0.0",
      "model_name": "LayoutModel",
      "state": {
       "grid_area": "widget004",
       "height": "100px",
       "width": "100%"
      }
     },
     "9b95dd10bab04edcb89993ae3e306171": {
      "model_module": "@jupyter-widgets/controls",
      "model_module_version": "2.0.0",
      "model_name": "DropdownModel",
      "state": {
       "_options_labels": [
        "English",
        "Spanish",
        "French"
       ],
       "description": "To Language",
       "index": 1,
       "layout": "IPY_MODEL_d24f8bda0c094beda74f2039d8081c8e",
       "style": "IPY_MODEL_bf96f7449114420b8d33c9a053775f0e"
      }
     },
     "9c3085f794834464aa4dbcc142cb4f6d": {
      "model_module": "@jupyter-widgets/controls",
      "model_module_version": "2.0.0",
      "model_name": "DropdownModel",
      "state": {
       "_options_labels": [
        "English",
        "Spanish",
        "French"
       ],
       "description": "To Language",
       "index": 1,
       "layout": "IPY_MODEL_d60065d2a79d48f288468f34ad4d996e",
       "style": "IPY_MODEL_3019ca3d99314b8194b7bee645d7ca2e"
      }
     },
     "9c32c0d3bf9f46e8a97f7db2f5224548": {
      "model_module": "@jupyter-widgets/controls",
      "model_module_version": "2.0.0",
      "model_name": "ButtonModel",
      "state": {
       "description": "Generate SQL",
       "icon": "check",
       "layout": "IPY_MODEL_cb466ab4ac404c219b65db577a0ee580",
       "style": "IPY_MODEL_90b586c0af66404c882828587d9ec47b",
       "tooltip": null
      }
     },
     "9c41909e63a144dc86975fa15c879a48": {
      "model_module": "@jupyter-widgets/controls",
      "model_module_version": "2.0.0",
      "model_name": "TextareaModel",
      "state": {
       "description": "Output",
       "layout": "IPY_MODEL_4cd47f20d59846e4af5eb877ffa41556",
       "placeholder": "Generated SQL",
       "style": "IPY_MODEL_a91b7001ed0647359d2075b79eeef2b9"
      }
     },
     "9c85c520b62845418536863b5aa57d2c": {
      "model_module": "@jupyter-widgets/controls",
      "model_module_version": "2.0.0",
      "model_name": "ProgressStyleModel",
      "state": {
       "description_width": ""
      }
     },
     "9cc8dd6b688b47768dbb9452cfcc6ead": {
      "model_module": "@jupyter-widgets/controls",
      "model_module_version": "2.0.0",
      "model_name": "ButtonStyleModel",
      "state": {
       "font_family": null,
       "font_size": null,
       "font_style": null,
       "font_variant": null,
       "font_weight": null,
       "text_color": null,
       "text_decoration": null
      }
     },
     "9d0980466432465eaedb5437561b843f": {
      "model_module": "@jupyter-widgets/base",
      "model_module_version": "2.0.0",
      "model_name": "LayoutModel",
      "state": {
       "grid_template_areas": "\"widget001 widget002\"\n\"widget003 widget003\"\n\"widget004 widget004\"\n\". widget005\"",
       "grid_template_columns": "repeat(2, 1fr)",
       "grid_template_rows": "repeat(4, 1fr)",
       "height": "300px"
      }
     },
     "9d1c70f953c34c31ad2c2ef0ba93853d": {
      "model_module": "@jupyter-widgets/controls",
      "model_module_version": "2.0.0",
      "model_name": "TextareaModel",
      "state": {
       "description": "Output",
       "layout": "IPY_MODEL_3bd54b7ab51b46d9902ddcc4810d0ea8",
       "placeholder": "Generated SQL",
       "style": "IPY_MODEL_38b75c70ca6147b5b6c0376c3c0d5e33"
      }
     },
     "9d60b1bb590749e6bd28d79d29dfbd7b": {
      "model_module": "@jupyter-widgets/controls",
      "model_module_version": "2.0.0",
      "model_name": "TextStyleModel",
      "state": {
       "description_width": "50px",
       "font_size": null,
       "text_color": null
      }
     },
     "9e2998614f814dbdadf0e0064eb40b5f": {
      "model_module": "@jupyter-widgets/base",
      "model_module_version": "2.0.0",
      "model_name": "LayoutModel",
      "state": {
       "grid_area": "widget001",
       "height": "100px",
       "width": "95%"
      }
     },
     "9ea66902cae045e78d0b5d8d5597bdf3": {
      "model_module": "@jupyter-widgets/controls",
      "model_module_version": "2.0.0",
      "model_name": "ProgressStyleModel",
      "state": {
       "description_width": ""
      }
     },
     "9eba89bc588a448abc7b8703d559f250": {
      "model_module": "@jupyter-widgets/base",
      "model_module_version": "2.0.0",
      "model_name": "LayoutModel",
      "state": {
       "grid_area": "widget003",
       "height": "100px",
       "width": "95%"
      }
     },
     "9ec87fa2d0ff4e3fb2d826f7f8382b61": {
      "model_module": "@jupyter-widgets/controls",
      "model_module_version": "2.0.0",
      "model_name": "TextStyleModel",
      "state": {
       "description_width": "50px",
       "font_size": null,
       "text_color": null
      }
     },
     "a01b757347664857bdf1ccc823883ee4": {
      "model_module": "@jupyter-widgets/controls",
      "model_module_version": "2.0.0",
      "model_name": "RadioButtonsModel",
      "state": {
       "_options_labels": [
        "Instruction: Given an input question, respond with syntactically correct PostgreSQL\nInput: How many users signed up in the past month?\nPostgreSQL query: ",
        "Instruction: Given an input question, respond with syntactically correct PostgreSQL\nInput: Create a query that displays empfname, emplname, deptid, deptname, location from employee table. Results should be in the ascending order based on the empfname and location.\nPostgreSQL query: ",
        "Instruction: Given an input question, respond with syntactically correct PostgreSQL. Only use table called 'employees'.\nInput: What is the total salary paid to all the employees?\nPostgreSQL query: ",
        "Instruction: Given an input question, respond with syntactically correct PostgreSQL. Only use table called 'employees'.\nInput: List names of all the employees whose name end with 'r'.\nPostgreSQL query: ",
        "Instruction: Given an input question, respond with syntactically correct PostgreSQL. Only use table called 'employees'.\nInput: What are the number of employees in each department?\nPostgreSQL query: ",
        "Instruction: Given an input question, respond with syntactically correct PostgreSQL. Only use table called 'employees'.\nInput: Select names of all theemployees who have third character in their name as 't'.\nPostgreSQL query: ",
        "Instruction: Given an input question, respond with syntactically correct PostgreSQL. Only use table called 'employees'.\nInput: Select names of all the employees who are working under 'Peter'.\nPostgreSQL query: "
       ],
       "description": "Choose a sample Prompt",
       "index": null,
       "layout": "IPY_MODEL_5d728bb075a645ae8df585d8198980df",
       "style": "IPY_MODEL_3e61a5258e1f4c3aa64a9122cc02d1fa"
      }
     },
     "a1a631e1acc840b9a935ce15d0d93759": {
      "model_module": "@jupyter-widgets/controls",
      "model_module_version": "2.0.0",
      "model_name": "ButtonStyleModel",
      "state": {
       "font_family": null,
       "font_size": null,
       "font_style": null,
       "font_variant": null,
       "font_weight": null,
       "text_color": null,
       "text_decoration": null
      }
     },
     "a36dee72bf3b437384c43dfbe3a78d05": {
      "model_module": "@jupyter-widgets/base",
      "model_module_version": "2.0.0",
      "model_name": "LayoutModel",
      "state": {}
     },
     "a38180127acc474e8df70eea8dd9166c": {
      "model_module": "@jupyter-widgets/controls",
      "model_module_version": "2.0.0",
      "model_name": "GridBoxModel",
      "state": {
       "children": [
        "IPY_MODEL_350a7ca35dad461995a10ddd000b73e7",
        "IPY_MODEL_004c30679827428888f4cd02eb2a4577",
        "IPY_MODEL_9c32c0d3bf9f46e8a97f7db2f5224548"
       ],
       "layout": "IPY_MODEL_fb251523e4e34383a0390718c92964fd"
      }
     },
     "a38e325220a3472b89d195293e5d9e07": {
      "model_module": "@jupyter-widgets/base",
      "model_module_version": "2.0.0",
      "model_name": "LayoutModel",
      "state": {
       "grid_template_areas": "\"widget001 widget002\"\n\"widget003 widget003\"\n\"widget004 widget004\"\n\". widget005\"",
       "grid_template_columns": "repeat(2, 1fr)",
       "grid_template_rows": "repeat(4, 1fr)",
       "height": "300px"
      }
     },
     "a5eba1333b6d4345bf9c2207522132c2": {
      "model_module": "@jupyter-widgets/controls",
      "model_module_version": "2.0.0",
      "model_name": "TextareaModel",
      "state": {
       "description": "Output",
       "layout": "IPY_MODEL_80179fcfa89345eeac3f2bc7cd5a97ab",
       "placeholder": "Translated sentence",
       "style": "IPY_MODEL_3ca075fd5b1f4585bddaa91725d36cbb",
       "value": "Instruction: translate English to French \nInput: \"How are you?\" \nOutput: \"Je vais bien, merci\"\nMy English-To-French (French to English)"
      }
     },
     "a611bc29851a489e963398db3b2b3239": {
      "model_module": "@jupyter-widgets/controls",
      "model_module_version": "2.0.0",
      "model_name": "ButtonStyleModel",
      "state": {
       "font_family": null,
       "font_size": null,
       "font_style": null,
       "font_variant": null,
       "font_weight": null,
       "text_color": null,
       "text_decoration": null
      }
     },
     "a6b11f5b49b940f08891432429cb3dcf": {
      "model_module": "@jupyter-widgets/controls",
      "model_module_version": "2.0.0",
      "model_name": "DescriptionStyleModel",
      "state": {
       "description_width": ""
      }
     },
     "a6dfe9baea954a58bb5f7a98743ee853": {
      "model_module": "@jupyter-widgets/base",
      "model_module_version": "2.0.0",
      "model_name": "LayoutModel",
      "state": {
       "grid_area": "widget003",
       "height": "100px",
       "width": "100%"
      }
     },
     "a7b0005cc1df467891c2e1479415419d": {
      "model_module": "@jupyter-widgets/controls",
      "model_module_version": "2.0.0",
      "model_name": "TextareaModel",
      "state": {
       "description": "Output",
       "layout": "IPY_MODEL_dc93f710d5f1402a881b4b3b3e9a943f",
       "placeholder": "Generated SQL",
       "style": "IPY_MODEL_b41cc238686941329aa82416f903f427",
       "value": "Instruction: Given an input question, respond with syntactically correct PostgreSQL. Only use table called 'employees'.\nInput: Select names of all the employees who are working under 'Peter'.\nPostgreSQL query:  SELECT names FROM 'employees' WHERE 'employees'.'manager' = 'Peter'\nNote:\nIf the table 'employee' doesn't exist in database, it should throw error. \nI wrote the following code:\ndef query(db_string"
      }
     },
     "a8a6a686ffba43c9bbdb5bf5cdf16aeb": {
      "model_module": "@jupyter-widgets/base",
      "model_module_version": "2.0.0",
      "model_name": "LayoutModel",
      "state": {
       "grid_area": "widget004",
       "height": "100px",
       "width": "95%"
      }
     },
     "a8b3d2f7817f46989ced9490d1c5797c": {
      "model_module": "@jupyter-widgets/base",
      "model_module_version": "2.0.0",
      "model_name": "LayoutModel",
      "state": {}
     },
     "a91b7001ed0647359d2075b79eeef2b9": {
      "model_module": "@jupyter-widgets/controls",
      "model_module_version": "2.0.0",
      "model_name": "TextStyleModel",
      "state": {
       "description_width": "50px",
       "font_size": null,
       "text_color": null
      }
     },
     "a9434e58357c4f88ac2f95e2e8474e52": {
      "model_module": "@jupyter-widgets/base",
      "model_module_version": "2.0.0",
      "model_name": "LayoutModel",
      "state": {
       "grid_area": "widget005",
       "width": "auto"
      }
     },
     "a9fedff0b2204873b7de765d0fc19d34": {
      "model_module": "@jupyter-widgets/controls",
      "model_module_version": "2.0.0",
      "model_name": "DescriptionStyleModel",
      "state": {
       "description_width": ""
      }
     },
     "aa0b80c4cb9d492c9c1827ee7b2f7c54": {
      "model_module": "@jupyter-widgets/controls",
      "model_module_version": "2.0.0",
      "model_name": "TextStyleModel",
      "state": {
       "description_width": "50px",
       "font_size": null,
       "text_color": null
      }
     },
     "aac626c49a784412a03866dcc2746d16": {
      "model_module": "@jupyter-widgets/base",
      "model_module_version": "2.0.0",
      "model_name": "LayoutModel",
      "state": {
       "grid_area": "widget005",
       "width": "auto"
      }
     },
     "ab7a7b2fd97f46f4815a46fef04e6c2c": {
      "model_module": "@jupyter-widgets/controls",
      "model_module_version": "2.0.0",
      "model_name": "DescriptionStyleModel",
      "state": {
       "description_width": ""
      }
     },
     "abcf8e0218d54db5ba708a9c6dec178d": {
      "model_module": "@jupyter-widgets/controls",
      "model_module_version": "2.0.0",
      "model_name": "GridBoxModel",
      "state": {
       "children": [
        "IPY_MODEL_b359e8d0a19442eabf06c17f1420bf13",
        "IPY_MODEL_ca69d99804734baf91c52311f6374d35",
        "IPY_MODEL_018663e3fe9041239fdce482004c7103",
        "IPY_MODEL_000193506f4b4c1eb09619921def49f8",
        "IPY_MODEL_abdce7f908a44c9584febf197543594d"
       ],
       "layout": "IPY_MODEL_72f6dfefba464f4da52976f4f570ff30"
      }
     },
     "abdce7f908a44c9584febf197543594d": {
      "model_module": "@jupyter-widgets/controls",
      "model_module_version": "2.0.0",
      "model_name": "ButtonModel",
      "state": {
       "description": "Translate",
       "icon": "check",
       "layout": "IPY_MODEL_b378d275b66e4684bba9a3274bd958f0",
       "style": "IPY_MODEL_bb43c5b52f2f408abe0ca19764b23a57",
       "tooltip": null
      }
     },
     "abdf5559551944f5bf9f51b38a1370d0": {
      "model_module": "@jupyter-widgets/controls",
      "model_module_version": "2.0.0",
      "model_name": "DropdownModel",
      "state": {
       "_options_labels": [
        "English",
        "Spanish",
        "French"
       ],
       "description": "From Language",
       "index": 0,
       "layout": "IPY_MODEL_60c678d7dc3241fda4ae94769426649f",
       "style": "IPY_MODEL_f06f0442560f4818b3df7ba3d8b248b8"
      }
     },
     "ac5bd3fbdb634d3f9c1caa4527243754": {
      "model_module": "@jupyter-widgets/controls",
      "model_module_version": "2.0.0",
      "model_name": "ButtonStyleModel",
      "state": {
       "font_family": null,
       "font_size": null,
       "font_style": null,
       "font_variant": null,
       "font_weight": null,
       "text_color": null,
       "text_decoration": null
      }
     },
     "ac689d6f6112494da1eea57204942b52": {
      "model_module": "@jupyter-widgets/base",
      "model_module_version": "2.0.0",
      "model_name": "LayoutModel",
      "state": {}
     },
     "ac7863c5c23b40aca699f526f07dc006": {
      "model_module": "@jupyter-widgets/controls",
      "model_module_version": "2.0.0",
      "model_name": "TextareaModel",
      "state": {
       "description": "Input",
       "layout": "IPY_MODEL_be807f849b8b41d4bc1bac20c766cd02",
       "placeholder": "Enter the instruction to generate",
       "style": "IPY_MODEL_f6060d66605c439e8dce27575be1340c",
       "value": "Instruction: Given an input question, respond with syntactically correct PostgreSQL. Only use table called 'employees'.\nInput: Select names of all the employees who are working under 'Peter'.\nPostgreSQL query: "
      }
     },
     "ad199d277b5b432fb82e96d49ce05109": {
      "model_module": "@jupyter-widgets/base",
      "model_module_version": "2.0.0",
      "model_name": "LayoutModel",
      "state": {
       "align_items": "center",
       "grid_template_areas": "\"widget001\"\n\"widget002\"\n\"widget003\"",
       "grid_template_columns": "repeat(1, 1fr)",
       "grid_template_rows": "repeat(3, 1fr)",
       "height": "300px"
      }
     },
     "ad9770ad27f14663a6abe7491f4ed36b": {
      "model_module": "@jupyter-widgets/controls",
      "model_module_version": "2.0.0",
      "model_name": "DescriptionStyleModel",
      "state": {
       "description_width": "initial"
      }
     },
     "ae399dc390cd44b6afa29dac32dcdf6b": {
      "model_module": "@jupyter-widgets/controls",
      "model_module_version": "2.0.0",
      "model_name": "DropdownModel",
      "state": {
       "_options_labels": [
        "English",
        "Spanish",
        "French"
       ],
       "description": "To Language",
       "index": 1,
       "layout": "IPY_MODEL_3521bb38d45f4ffaa033c2cdc04cfff2",
       "style": "IPY_MODEL_337397c4fd3649c288257accf53b143d"
      }
     },
     "ae470c64f7624351b977fd09f435b1c2": {
      "model_module": "@jupyter-widgets/controls",
      "model_module_version": "2.0.0",
      "model_name": "TextStyleModel",
      "state": {
       "description_width": "50px",
       "font_size": null,
       "text_color": null
      }
     },
     "aea045fd0f814873915026831ef905e3": {
      "model_module": "@jupyter-widgets/base",
      "model_module_version": "2.0.0",
      "model_name": "LayoutModel",
      "state": {
       "grid_area": "widget001",
       "width": "auto"
      }
     },
     "af4e533050f44dc693e9235d43bbda5c": {
      "model_module": "@jupyter-widgets/controls",
      "model_module_version": "2.0.0",
      "model_name": "TextareaModel",
      "state": {
       "description": "Output",
       "layout": "IPY_MODEL_841f7d20c4bf43bb97930fa427184118",
       "placeholder": "Translated sentence",
       "style": "IPY_MODEL_e48554743c46429998b24b7f482a6274",
       "value": "infering..."
      }
     },
     "af884db95dc84d74833ff3bd678728be": {
      "model_module": "@jupyter-widgets/controls",
      "model_module_version": "2.0.0",
      "model_name": "TextareaModel",
      "state": {
       "description": "Output",
       "layout": "IPY_MODEL_28b528588b1b4541a2860892aa1e0679",
       "placeholder": "Generated SQL",
       "style": "IPY_MODEL_7c379be1463b430384034bf52f6a46c6"
      }
     },
     "b0ee4966826946bf92cc86c4a2fb13cd": {
      "model_module": "@jupyter-widgets/controls",
      "model_module_version": "2.0.0",
      "model_name": "GridBoxModel",
      "state": {
       "children": [
        "IPY_MODEL_c4e2938a43584c69afd5a57de05441ae",
        "IPY_MODEL_9a225c48b6c24ac68af71fa5a4c8d618",
        "IPY_MODEL_bc041bf36dcf4806bae609c6ec11ad28",
        "IPY_MODEL_3e2d4963f3614e7d9b7a3a55e410b0b4",
        "IPY_MODEL_7539e78371f5454aa11e1c83a8401465"
       ],
       "layout": "IPY_MODEL_dc081d368b93487f8e8097f0ee94bd1f"
      }
     },
     "b0efdef0759d43da9f8f0524df63c749": {
      "model_module": "@jupyter-widgets/controls",
      "model_module_version": "2.0.0",
      "model_name": "DropdownModel",
      "state": {
       "_options_labels": [
        "English",
        "Spanish",
        "French"
       ],
       "description": "From Language",
       "index": 0,
       "layout": "IPY_MODEL_2c147552e1574fcb98e39cf23e3f2553",
       "style": "IPY_MODEL_ba02f3b5fe6d4db88ee0c72410cb5c1c"
      }
     },
     "b101bae982d744d9974bf2612da12a02": {
      "model_module": "@jupyter-widgets/controls",
      "model_module_version": "2.0.0",
      "model_name": "HTMLModel",
      "state": {
       "layout": "IPY_MODEL_ac689d6f6112494da1eea57204942b52",
       "style": "IPY_MODEL_51300b7926f84680be028dd41e31d0ee",
       "value": " 13.8M/13.8M [00:00&lt;00:00, 56.9MB/s]"
      }
     },
     "b10a3f83192d4826b8c11a3d83e6cda1": {
      "model_module": "@jupyter-widgets/controls",
      "model_module_version": "2.0.0",
      "model_name": "TextStyleModel",
      "state": {
       "description_width": "50px",
       "font_size": null,
       "text_color": null
      }
     },
     "b15ccfd9845a4e979b8f8e7a3b3ff8ee": {
      "model_module": "@jupyter-widgets/controls",
      "model_module_version": "2.0.0",
      "model_name": "TextStyleModel",
      "state": {
       "description_width": "50px",
       "font_size": null,
       "text_color": null
      }
     },
     "b17f7a5fc9304c7bb7541bdc67e65fa2": {
      "model_module": "@jupyter-widgets/base",
      "model_module_version": "2.0.0",
      "model_name": "LayoutModel",
      "state": {
       "grid_area": "widget003",
       "height": "100px",
       "width": "95%"
      }
     },
     "b1ee558a0ec14269bd62d8bb3d910082": {
      "model_module": "@jupyter-widgets/controls",
      "model_module_version": "2.0.0",
      "model_name": "TextareaModel",
      "state": {
       "description": "Input",
       "layout": "IPY_MODEL_9eba89bc588a448abc7b8703d559f250",
       "placeholder": "Enter the sentence to translate",
       "style": "IPY_MODEL_18459a8e7d0747d1acac7b617bd658ed",
       "value": "I am a student"
      }
     },
     "b24458e30aa74b9a8e7a91766c9630a4": {
      "model_module": "@jupyter-widgets/base",
      "model_module_version": "2.0.0",
      "model_name": "LayoutModel",
      "state": {
       "grid_area": "widget002",
       "height": "150px",
       "width": "95%"
      }
     },
     "b25a43a1ae1746ea9c92c68cda2ed636": {
      "model_module": "@jupyter-widgets/base",
      "model_module_version": "2.0.0",
      "model_name": "LayoutModel",
      "state": {
       "grid_area": "widget002",
       "width": "auto"
      }
     },
     "b27bdfb20f1f4033b5501a4257255f2e": {
      "model_module": "@jupyter-widgets/controls",
      "model_module_version": "2.0.0",
      "model_name": "ButtonStyleModel",
      "state": {
       "font_family": null,
       "font_size": null,
       "font_style": null,
       "font_variant": null,
       "font_weight": null,
       "text_color": null,
       "text_decoration": null
      }
     },
     "b2a221230d724e06a3d6192b2917f2ee": {
      "model_module": "@jupyter-widgets/controls",
      "model_module_version": "2.0.0",
      "model_name": "ButtonModel",
      "state": {
       "description": "Generate SQL",
       "icon": "check",
       "layout": "IPY_MODEL_7b91fa53de0344e8956e08cd87dbe4e3",
       "style": "IPY_MODEL_b4494024d2554fb6a5f98e2cc330081e",
       "tooltip": null
      }
     },
     "b2e288c05ea44480b086e9cb3488fc24": {
      "model_module": "@jupyter-widgets/controls",
      "model_module_version": "2.0.0",
      "model_name": "FloatProgressModel",
      "state": {
       "bar_style": "success",
       "layout": "IPY_MODEL_3b2dcc3f31294f9fa0193ccd6c3bf62a",
       "max": 14500438,
       "style": "IPY_MODEL_df35d7e00b2841e38c5498f42ba5e78b",
       "value": 14500438
      }
     },
     "b30c7aa65d0144588e5e6102ed07a75c": {
      "model_module": "@jupyter-widgets/controls",
      "model_module_version": "2.0.0",
      "model_name": "ButtonModel",
      "state": {
       "description": "Translate",
       "icon": "check",
       "layout": "IPY_MODEL_b53eb7ba423440d0af3825d1ed16583e",
       "style": "IPY_MODEL_18479a4cce1b4102a52fce6e14dd4206",
       "tooltip": null
      }
     },
     "b359e8d0a19442eabf06c17f1420bf13": {
      "model_module": "@jupyter-widgets/controls",
      "model_module_version": "2.0.0",
      "model_name": "DropdownModel",
      "state": {
       "_options_labels": [
        "English",
        "Spanish",
        "French"
       ],
       "description": "From Language",
       "index": 0,
       "layout": "IPY_MODEL_61510f4ae1484495abd3d0ec773b1cb2",
       "style": "IPY_MODEL_1862f206537c46118a1f828734a7dc6a"
      }
     },
     "b378d275b66e4684bba9a3274bd958f0": {
      "model_module": "@jupyter-widgets/base",
      "model_module_version": "2.0.0",
      "model_name": "LayoutModel",
      "state": {
       "grid_area": "widget005",
       "width": "auto"
      }
     },
     "b38cd1924d364857a401ed930ff56aa5": {
      "model_module": "@jupyter-widgets/controls",
      "model_module_version": "2.0.0",
      "model_name": "TextStyleModel",
      "state": {
       "description_width": "50px",
       "font_size": null,
       "text_color": null
      }
     },
     "b3b74a154b28423d95bebc3bef9d26ad": {
      "model_module": "@jupyter-widgets/controls",
      "model_module_version": "2.0.0",
      "model_name": "TextStyleModel",
      "state": {
       "description_width": "50px",
       "font_size": null,
       "text_color": null
      }
     },
     "b41cc238686941329aa82416f903f427": {
      "model_module": "@jupyter-widgets/controls",
      "model_module_version": "2.0.0",
      "model_name": "TextStyleModel",
      "state": {
       "description_width": "50px",
       "font_size": null,
       "text_color": null
      }
     },
     "b4494024d2554fb6a5f98e2cc330081e": {
      "model_module": "@jupyter-widgets/controls",
      "model_module_version": "2.0.0",
      "model_name": "ButtonStyleModel",
      "state": {
       "font_family": null,
       "font_size": null,
       "font_style": null,
       "font_variant": null,
       "font_weight": null,
       "text_color": null,
       "text_decoration": null
      }
     },
     "b4d5d0c293894ef7bc6d728b7749cfd7": {
      "model_module": "@jupyter-widgets/controls",
      "model_module_version": "2.0.0",
      "model_name": "ButtonModel",
      "state": {
       "description": "Translate",
       "icon": "check",
       "layout": "IPY_MODEL_fdc93da5649c48eeadd4e0376969d94d",
       "style": "IPY_MODEL_b27bdfb20f1f4033b5501a4257255f2e",
       "tooltip": null
      }
     },
     "b53eb7ba423440d0af3825d1ed16583e": {
      "model_module": "@jupyter-widgets/base",
      "model_module_version": "2.0.0",
      "model_name": "LayoutModel",
      "state": {
       "grid_area": "widget005",
       "width": "auto"
      }
     },
     "b55b0af2e02a4ac1a5752317a3a30fcf": {
      "model_module": "@jupyter-widgets/controls",
      "model_module_version": "2.0.0",
      "model_name": "GridBoxModel",
      "state": {
       "layout": "IPY_MODEL_7382ae4ac35f4b04b3c68fea57069cee"
      }
     },
     "b5a45f18216f4fad8d3d414f5968bcdb": {
      "model_module": "@jupyter-widgets/controls",
      "model_module_version": "2.0.0",
      "model_name": "DropdownModel",
      "state": {
       "_options_labels": [
        "English",
        "Spanish",
        "French"
       ],
       "description": "To Language",
       "index": 1,
       "layout": "IPY_MODEL_d26cb0509a48491ea5377e935db23fce",
       "style": "IPY_MODEL_f946ebeabc114db7acd0603dd73ba622"
      }
     },
     "b66a78f197334ea5ae6c509463785662": {
      "model_module": "@jupyter-widgets/controls",
      "model_module_version": "2.0.0",
      "model_name": "GridBoxModel",
      "state": {
       "children": [
        "IPY_MODEL_4aaf39f799cc44f1872fe952a1a4640b",
        "IPY_MODEL_998d18f00d3642778ac519c2c940b9cf",
        "IPY_MODEL_dd1eb7ad6498454bb57e548f0b9ae065"
       ],
       "layout": "IPY_MODEL_1c53a59db50149ffa43fd15182c73817"
      }
     },
     "b6c3db8557ed4249893039aebcc5e11b": {
      "model_module": "@jupyter-widgets/controls",
      "model_module_version": "2.0.0",
      "model_name": "TextareaModel",
      "state": {
       "description": "Input",
       "layout": "IPY_MODEL_7cb2d7f5447e46078a8ba591c6906059",
       "placeholder": "Enter the sentence to translate",
       "style": "IPY_MODEL_918aee2aeab548a0bb8c61fdc4e6da48",
       "value": "I am a student"
      }
     },
     "b7008ae1bcba4b2294d1457a074d9c03": {
      "model_module": "@jupyter-widgets/base",
      "model_module_version": "2.0.0",
      "model_name": "LayoutModel",
      "state": {
       "align_items": "center",
       "grid_template_areas": "\"widget001\"\n\"widget002\"\n\"widget003\"",
       "grid_template_columns": "repeat(1, 1fr)",
       "grid_template_rows": "repeat(3, 1fr)",
       "height": "250px"
      }
     },
     "b744625609d64c2589b3c3e4137c300e": {
      "model_module": "@jupyter-widgets/controls",
      "model_module_version": "2.0.0",
      "model_name": "ButtonModel",
      "state": {
       "description": "Translate",
       "icon": "check",
       "layout": "IPY_MODEL_907b811df9ef4422b44e230d27fabfdf",
       "style": "IPY_MODEL_0f2bc67d89f04c22990f9b73d3164a89",
       "tooltip": null
      }
     },
     "b90d49b1b5da4024bf9e7de815c1cf22": {
      "model_module": "@jupyter-widgets/controls",
      "model_module_version": "2.0.0",
      "model_name": "TextareaModel",
      "state": {
       "description": "Input",
       "layout": "IPY_MODEL_a6dfe9baea954a58bb5f7a98743ee853",
       "placeholder": "Enter the sentence to translate",
       "style": "IPY_MODEL_b15ccfd9845a4e979b8f8e7a3b3ff8ee",
       "value": "I am a student"
      }
     },
     "b92f4b3ccf504fd2b7f17434ccce8b55": {
      "model_module": "@jupyter-widgets/controls",
      "model_module_version": "2.0.0",
      "model_name": "DescriptionStyleModel",
      "state": {
       "description_width": "initial"
      }
     },
     "b96649003e3c4952bf61fc25e70638f3": {
      "model_module": "@jupyter-widgets/base",
      "model_module_version": "2.0.0",
      "model_name": "LayoutModel",
      "state": {
       "grid_template_areas": "\"widget001 widget002\"\n\"widget003 widget003\"\n\"widget004 widget004\"\n\". widget005\"",
       "grid_template_columns": "repeat(2, 1fr)",
       "grid_template_rows": "repeat(4, 1fr)",
       "height": "300px"
      }
     },
     "b9924c79bea64b2abf99695ee20a4a09": {
      "model_module": "@jupyter-widgets/controls",
      "model_module_version": "2.0.0",
      "model_name": "ButtonStyleModel",
      "state": {
       "font_family": null,
       "font_size": null,
       "font_style": null,
       "font_variant": null,
       "font_weight": null,
       "text_color": null,
       "text_decoration": null
      }
     },
     "b9ce55fe840246b1b1d191fae5d040ef": {
      "model_module": "@jupyter-widgets/base",
      "model_module_version": "2.0.0",
      "model_name": "LayoutModel",
      "state": {
       "grid_template_areas": "\"widget001 widget002\"\n\"widget003 widget003\"\n\"widget004 widget004\"\n\". widget005\"",
       "grid_template_columns": "repeat(2, 1fr)",
       "grid_template_rows": "repeat(4, 1fr)",
       "height": "300px"
      }
     },
     "b9eaf097c4034f9ba4b166d10e436aff": {
      "model_module": "@jupyter-widgets/controls",
      "model_module_version": "2.0.0",
      "model_name": "TextareaModel",
      "state": {
       "description": "Output",
       "layout": "IPY_MODEL_01043f7986084ca0be1bd574a8203104",
       "placeholder": "Generated SQL",
       "style": "IPY_MODEL_8e557e314e4942649755d50fe7bfb95a",
       "value": "Instruction: Given an input question, respond with syntactically correct PostgreSQL. Only use table called 'employees'.\nInput: Select names of all the employees who are working under 'Peter'.\nPostgreSQL query:  SELECT employees.name FROM employees WHERE employees.manager's biography\nThis is the manager's biography of Yantai Jinyuan Mining Co.,ltd company. for you to know. Manager's biography The company was established in 1997"
      }
     },
     "ba02f3b5fe6d4db88ee0c72410cb5c1c": {
      "model_module": "@jupyter-widgets/controls",
      "model_module_version": "2.0.0",
      "model_name": "DescriptionStyleModel",
      "state": {
       "description_width": "initial"
      }
     },
     "bb1bf3e53ec84a35912e167439385fb7": {
      "model_module": "@jupyter-widgets/base",
      "model_module_version": "2.0.0",
      "model_name": "LayoutModel",
      "state": {
       "grid_template_areas": "\"widget001 widget002\"\n\"widget003 widget003\"\n\"widget004 widget004\"\n\". widget005\"",
       "grid_template_columns": "repeat(2, 1fr)",
       "grid_template_rows": "repeat(4, 1fr)",
       "height": "300px"
      }
     },
     "bb23cc9367424e719ccf341a4a445858": {
      "model_module": "@jupyter-widgets/controls",
      "model_module_version": "2.0.0",
      "model_name": "ButtonStyleModel",
      "state": {
       "font_family": null,
       "font_size": null,
       "font_style": null,
       "font_variant": null,
       "font_weight": null,
       "text_color": null,
       "text_decoration": null
      }
     },
     "bb414df05a714a688968a3f9e5425960": {
      "model_module": "@jupyter-widgets/controls",
      "model_module_version": "2.0.0",
      "model_name": "TextareaModel",
      "state": {
       "description": "Output",
       "layout": "IPY_MODEL_2022531f1f754372a828b745995574ad",
       "placeholder": "Translated sentence",
       "style": "IPY_MODEL_f715d8afa9544b7e8dcbe4ae83eed33d",
       "value": "Instruction: translate English to Spanish \nInput: \"I am a student\" \nOutput: \"Soy un estudiante\"\nMy code:\nstring English = \"I am a student\"\nstring Spanish ="
      }
     },
     "bb43c5b52f2f408abe0ca19764b23a57": {
      "model_module": "@jupyter-widgets/controls",
      "model_module_version": "2.0.0",
      "model_name": "ButtonStyleModel",
      "state": {
       "font_family": null,
       "font_size": null,
       "font_style": null,
       "font_variant": null,
       "font_weight": null,
       "text_color": null,
       "text_decoration": null
      }
     },
     "bbfa01ef64984339a460760f71ee4c1a": {
      "model_module": "@jupyter-widgets/base",
      "model_module_version": "2.0.0",
      "model_name": "LayoutModel",
      "state": {
       "height": "100px",
       "width": "95%"
      }
     },
     "bc041bf36dcf4806bae609c6ec11ad28": {
      "model_module": "@jupyter-widgets/controls",
      "model_module_version": "2.0.0",
      "model_name": "TextareaModel",
      "state": {
       "description": "Input",
       "layout": "IPY_MODEL_dc381ac4c27b48cbbc634308c8fae548",
       "placeholder": "Enter the sentence to translate",
       "style": "IPY_MODEL_b38cd1924d364857a401ed930ff56aa5",
       "value": "I am a student"
      }
     },
     "bc2e5daa20574ff58930ab6b6c66d794": {
      "model_module": "@jupyter-widgets/controls",
      "model_module_version": "2.0.0",
      "model_name": "HTMLModel",
      "state": {
       "layout": "IPY_MODEL_435581952245497396ab61acf3ac7330",
       "style": "IPY_MODEL_05736c4dadc141689a2ea96b3fd2965c",
       "value": "Downloading pytorch_model_00001-of-00072.bin:  84%"
      }
     },
     "bc353301f82949ba9ee3a1f27529e039": {
      "model_module": "@jupyter-widgets/base",
      "model_module_version": "2.0.0",
      "model_name": "LayoutModel",
      "state": {}
     },
     "bc64d22c336d49a2a479f0f90a8817f1": {
      "model_module": "@jupyter-widgets/controls",
      "model_module_version": "2.0.0",
      "model_name": "TextareaModel",
      "state": {
       "description": "Output",
       "layout": "IPY_MODEL_19557a6f06794246a758acda5bf4b747",
       "placeholder": "Generated SQL",
       "style": "IPY_MODEL_bd2d48a1c4c6496996663e233cbc21bc"
      }
     },
     "bc670f08059e4214831a7695ad5ee4bb": {
      "model_module": "@jupyter-widgets/base",
      "model_module_version": "2.0.0",
      "model_name": "LayoutModel",
      "state": {}
     },
     "bc8f5625edac49b292e8cc3bae86fe41": {
      "model_module": "@jupyter-widgets/controls",
      "model_module_version": "2.0.0",
      "model_name": "GridBoxModel",
      "state": {
       "children": [
        "IPY_MODEL_80bad98a87434d93b4a777f866093780",
        "IPY_MODEL_ea58aedc1a6f4dc6a1aa4a6c328caf5b",
        "IPY_MODEL_1c0b802e518b4503bf95595f755ae391"
       ],
       "layout": "IPY_MODEL_4bb280f267104f958fe366152d034c76"
      }
     },
     "bd217dfeb4c74d4f894bad4fb85e344e": {
      "model_module": "@jupyter-widgets/controls",
      "model_module_version": "2.0.0",
      "model_name": "RadioButtonsModel",
      "state": {
       "_options_labels": [
        "Instruction: Given an input question, respond with syntactically correct PostgreSQL\nInput: How many users signed up in the past month?\nPostgreSQL query: ",
        "Instruction: Given an input question, respond with syntactically correct PostgreSQL\nInput: Create a query that displays empfname, emplname, deptid, deptname, location from employee table. Results should be in the ascending order based on the empfname and location.\nPostgreSQL query: ",
        "Instruction: Given an input question, respond with syntactically correct PostgreSQL. Only use table called 'employees'.\nInput: What is the total salary paid to all the employees?\nPostgreSQL query: ",
        "Instruction: Given an input question, respond with syntactically correct PostgreSQL. Only use table called 'employees'.\nInput: List names of all the employees whose name end with 'r'.\nPostgreSQL query: ",
        "Instruction: Given an input question, respond with syntactically correct PostgreSQL. Only use table called 'employees'.\nInput: What are the number of employees in each department?\nPostgreSQL query: ",
        "Instruction: Given an input question, respond with syntactically correct PostgreSQL. Only use table called 'employees'.\nInput: Select names of all theemployees who have third character in their name as 't'.\nPostgreSQL query: ",
        "Instruction: Given an input question, respond with syntactically correct PostgreSQL. Only use table called 'employees'.\nInput: Select names of all the employees who are working under 'Peter'.\nPostgreSQL query: "
       ],
       "description": "Choose a sample Prompt",
       "index": null,
       "layout": "IPY_MODEL_36e028bb38764fbb9959ba097c820c54",
       "style": "IPY_MODEL_c7dfd4165c6f4fc4b1456e98aadb8a5f"
      }
     },
     "bd2d48a1c4c6496996663e233cbc21bc": {
      "model_module": "@jupyter-widgets/controls",
      "model_module_version": "2.0.0",
      "model_name": "TextStyleModel",
      "state": {
       "description_width": "50px",
       "font_size": null,
       "text_color": null
      }
     },
     "bdb59e97f1104635bc1b94f00b7a202d": {
      "model_module": "@jupyter-widgets/base",
      "model_module_version": "2.0.0",
      "model_name": "LayoutModel",
      "state": {
       "grid_area": "widget004",
       "height": "100px",
       "width": "95%"
      }
     },
     "be3dfb25663d46be8058ecf949556b85": {
      "model_module": "@jupyter-widgets/base",
      "model_module_version": "2.0.0",
      "model_name": "LayoutModel",
      "state": {}
     },
     "be4f8fde832440f886a5807897ce9b49": {
      "model_module": "@jupyter-widgets/base",
      "model_module_version": "2.0.0",
      "model_name": "LayoutModel",
      "state": {
       "grid_area": "widget003",
       "width": "95%"
      }
     },
     "be5f2bc864f548faa89218da3650c474": {
      "model_module": "@jupyter-widgets/base",
      "model_module_version": "2.0.0",
      "model_name": "LayoutModel",
      "state": {}
     },
     "be694cdb041b4eb2ac11110960f86244": {
      "model_module": "@jupyter-widgets/controls",
      "model_module_version": "2.0.0",
      "model_name": "TextareaModel",
      "state": {
       "description": "Output",
       "layout": "IPY_MODEL_798690f330974c55aec4fe5f56554ed2",
       "placeholder": "Translated sentence",
       "style": "IPY_MODEL_2036ff8ff3ff4e3bae90144e14d7f630",
       "value": "infering..."
      }
     },
     "be807f849b8b41d4bc1bac20c766cd02": {
      "model_module": "@jupyter-widgets/base",
      "model_module_version": "2.0.0",
      "model_name": "LayoutModel",
      "state": {
       "grid_area": "widget001",
       "height": "100px",
       "width": "95%"
      }
     },
     "be98cf4db0714332ae57f2165695579d": {
      "model_module": "@jupyter-widgets/controls",
      "model_module_version": "2.0.0",
      "model_name": "ProgressStyleModel",
      "state": {
       "description_width": ""
      }
     },
     "bf96f7449114420b8d33c9a053775f0e": {
      "model_module": "@jupyter-widgets/controls",
      "model_module_version": "2.0.0",
      "model_name": "DescriptionStyleModel",
      "state": {
       "description_width": "initial"
      }
     },
     "bfa543f52af64b8f8fc30ae073329587": {
      "model_module": "@jupyter-widgets/controls",
      "model_module_version": "2.0.0",
      "model_name": "ButtonModel",
      "state": {
       "description": "Generate SQL",
       "icon": "check",
       "layout": "IPY_MODEL_16d057062fac4f94980c76af774be3f6",
       "style": "IPY_MODEL_79b4569088184b01acd9e872c394a654",
       "tooltip": null
      }
     },
     "bfa9f3cff3b3469ab1cd54478181740b": {
      "model_module": "@jupyter-widgets/controls",
      "model_module_version": "2.0.0",
      "model_name": "TextareaModel",
      "state": {
       "description": "Output",
       "layout": "IPY_MODEL_5afec99a3d0c45cfb7b2fc7db180d567",
       "placeholder": "Generated SQL",
       "style": "IPY_MODEL_3b558724b2af46f7844514354ca3edb6"
      }
     },
     "c08fec5539b948fb94e6be31e50ecd36": {
      "model_module": "@jupyter-widgets/controls",
      "model_module_version": "2.0.0",
      "model_name": "GridBoxModel",
      "state": {
       "children": [
        "IPY_MODEL_03b3b37c0d954a5fbf3c1e242468791b",
        "IPY_MODEL_704a5c128af44d1a99dd8bfb58530098",
        "IPY_MODEL_5a40cf72011e47a4b5bbc5970c9ed799",
        "IPY_MODEL_e5652def45e043ccb79244cc00432c28",
        "IPY_MODEL_15ea28158f0a4f2f8c8d21ea2c5ed4a2"
       ],
       "layout": "IPY_MODEL_f54319dc7cd841cbad8d46afff39d65a"
      }
     },
     "c11454f7b9d74c01b5cb690850a72422": {
      "model_module": "@jupyter-widgets/controls",
      "model_module_version": "2.0.0",
      "model_name": "ButtonModel",
      "state": {
       "description": "Generate SQL",
       "icon": "check",
       "layout": "IPY_MODEL_09255e86592a4aebbf569c2142c78628",
       "style": "IPY_MODEL_d519c4e217fb4bd2a66995658adc5b1e",
       "tooltip": null
      }
     },
     "c170f4f5e4d543fd8cf5f18598b59147": {
      "model_module": "@jupyter-widgets/base",
      "model_module_version": "2.0.0",
      "model_name": "LayoutModel",
      "state": {
       "grid_area": "widget004",
       "height": "100px",
       "width": "95%"
      }
     },
     "c263f1807813448b9a8785d180364918": {
      "model_module": "@jupyter-widgets/controls",
      "model_module_version": "2.0.0",
      "model_name": "DescriptionStyleModel",
      "state": {
       "description_width": "initial"
      }
     },
     "c3b874aab18445a3b7b5595a5f7df6ed": {
      "model_module": "@jupyter-widgets/controls",
      "model_module_version": "2.0.0",
      "model_name": "HTMLModel",
      "state": {
       "layout": "IPY_MODEL_d47c5aca05e54e45b1a6fd792a1d24b0",
       "style": "IPY_MODEL_2bbdd28d441d4f188016d533d7a08fcc",
       "value": "Downloading config.json: 100%"
      }
     },
     "c4e2938a43584c69afd5a57de05441ae": {
      "model_module": "@jupyter-widgets/controls",
      "model_module_version": "2.0.0",
      "model_name": "DropdownModel",
      "state": {
       "_options_labels": [
        "English",
        "Spanish",
        "French"
       ],
       "description": "From Language",
       "index": 0,
       "layout": "IPY_MODEL_560e65ea255e4f06be70b8b28259ea38",
       "style": "IPY_MODEL_46d5a55849a7438b9d023897702a9316"
      }
     },
     "c54ed86bfd8b478d87bdd4da354be892": {
      "model_module": "@jupyter-widgets/base",
      "model_module_version": "2.0.0",
      "model_name": "LayoutModel",
      "state": {
       "grid_area": "widget002",
       "height": "100px",
       "width": "95%"
      }
     },
     "c590cdf907104edaa0a7b58b67efd2f1": {
      "model_module": "@jupyter-widgets/base",
      "model_module_version": "2.0.0",
      "model_name": "LayoutModel",
      "state": {
       "align_items": "center",
       "grid_template_areas": "\"widget001 widget002\"\n\"widget003 widget003\"\n\"widget004 widget004\"\n\". widget005\"",
       "grid_template_columns": "repeat(2, 1fr)",
       "grid_template_rows": "repeat(4, 1fr)",
       "height": "300px"
      }
     },
     "c5eb0e439a484169821bab84fce453c3": {
      "model_module": "@jupyter-widgets/controls",
      "model_module_version": "2.0.0",
      "model_name": "ButtonStyleModel",
      "state": {
       "font_family": null,
       "font_size": null,
       "font_style": null,
       "font_variant": null,
       "font_weight": null,
       "text_color": null,
       "text_decoration": null
      }
     },
     "c648c69d654b4e9daa1e7d1e541ba169": {
      "model_module": "@jupyter-widgets/controls",
      "model_module_version": "2.0.0",
      "model_name": "ButtonStyleModel",
      "state": {
       "font_family": null,
       "font_size": null,
       "font_style": null,
       "font_variant": null,
       "font_weight": null,
       "text_color": null,
       "text_decoration": null
      }
     },
     "c6b6b8d38cfa47e39dfa78a752f6b0bc": {
      "model_module": "@jupyter-widgets/base",
      "model_module_version": "2.0.0",
      "model_name": "LayoutModel",
      "state": {
       "grid_template_areas": "\"widget001 widget002\"\n\"widget003 widget003\"\n\"widget004 widget004\"\n\". widget005\"",
       "grid_template_columns": "repeat(2, 1fr)",
       "grid_template_rows": "repeat(4, 1fr)",
       "height": "300px"
      }
     },
     "c6bfab214f48415c9816cdce63f5e5ee": {
      "model_module": "@jupyter-widgets/controls",
      "model_module_version": "2.0.0",
      "model_name": "DescriptionStyleModel",
      "state": {
       "description_width": ""
      }
     },
     "c771b004f48249c1852dea5ca6e0a2bc": {
      "model_module": "@jupyter-widgets/base",
      "model_module_version": "2.0.0",
      "model_name": "LayoutModel",
      "state": {
       "grid_area": "widget002",
       "height": "100px",
       "width": "95%"
      }
     },
     "c7a427e2f7b24cda8d004966f63cc8fa": {
      "model_module": "@jupyter-widgets/controls",
      "model_module_version": "2.0.0",
      "model_name": "ButtonModel",
      "state": {
       "description": "Generate SQL",
       "icon": "check",
       "layout": "IPY_MODEL_8c002882e86e44ecafdab4f94a721ad1",
       "style": "IPY_MODEL_62348c082cf94b3099856e186c27e0bc",
       "tooltip": null
      }
     },
     "c7c614834f8149bea48ba010897358ab": {
      "model_module": "@jupyter-widgets/controls",
      "model_module_version": "2.0.0",
      "model_name": "HTMLModel",
      "state": {
       "layout": "IPY_MODEL_128116ff10b54f3da1d7efe51b5761f8",
       "style": "IPY_MODEL_f743ab34fe314b8a9d4e6d590e645b26",
       "value": " 90.4k/90.4k [00:00&lt;00:00, 74.8kB/s]"
      }
     },
     "c7d92b1c1fa546c19980cc3f3973a729": {
      "model_module": "@jupyter-widgets/controls",
      "model_module_version": "2.0.0",
      "model_name": "ButtonModel",
      "state": {
       "description": "Generate SQL",
       "icon": "check",
       "layout": "IPY_MODEL_6e16c80226e94049b1e30b8b2a111704",
       "style": "IPY_MODEL_c648c69d654b4e9daa1e7d1e541ba169",
       "tooltip": null
      }
     },
     "c7dfd4165c6f4fc4b1456e98aadb8a5f": {
      "model_module": "@jupyter-widgets/controls",
      "model_module_version": "2.0.0",
      "model_name": "DescriptionStyleModel",
      "state": {
       "description_width": "initial"
      }
     },
     "c811e8bf2d074cb38762b2593b0f38a8": {
      "model_module": "@jupyter-widgets/controls",
      "model_module_version": "2.0.0",
      "model_name": "FloatProgressModel",
      "state": {
       "bar_style": "success",
       "layout": "IPY_MODEL_9150c0dc08e04954baf0040ede597b6d",
       "max": 92568,
       "style": "IPY_MODEL_0bea8bd7773a42ef83790a816646c3d4",
       "value": 92568
      }
     },
     "c84fb5570ee84d01b453cc91fff7c319": {
      "model_module": "@jupyter-widgets/controls",
      "model_module_version": "2.0.0",
      "model_name": "TextareaModel",
      "state": {
       "description": "Output",
       "layout": "IPY_MODEL_bbfa01ef64984339a460760f71ee4c1a",
       "placeholder": "Generated SQL",
       "style": "IPY_MODEL_9ec87fa2d0ff4e3fb2d826f7f8382b61"
      }
     },
     "c8f3f4bb94964c36a7fe0bf51b60536a": {
      "model_module": "@jupyter-widgets/base",
      "model_module_version": "2.0.0",
      "model_name": "LayoutModel",
      "state": {
       "grid_template_areas": "\"widget001\"\n\"widget002\"\n\"widget003\"",
       "grid_template_columns": "repeat(1, 1fr)",
       "grid_template_rows": "repeat(3, 1fr)",
       "height": "900px"
      }
     },
     "c971eec8a5b24bc488e6f8f29fb38605": {
      "model_module": "@jupyter-widgets/controls",
      "model_module_version": "2.0.0",
      "model_name": "FloatProgressModel",
      "state": {
       "layout": "IPY_MODEL_5e757c41f48f479db278668a5ed0d9dc",
       "max": 7193290147,
       "style": "IPY_MODEL_93c798fed06e436490ef522bc32a9272",
       "value": 71576576
      }
     },
     "ca1f05a69c0f49dda95cc749f53f2f94": {
      "model_module": "@jupyter-widgets/controls",
      "model_module_version": "2.0.0",
      "model_name": "FloatProgressModel",
      "state": {
       "bar_style": "success",
       "layout": "IPY_MODEL_2be2c2727f5548878d959e91088794a2",
       "max": 92568,
       "style": "IPY_MODEL_be98cf4db0714332ae57f2165695579d",
       "value": 92568
      }
     },
     "ca35e145455e4b99874830dde49c3f4d": {
      "model_module": "@jupyter-widgets/base",
      "model_module_version": "2.0.0",
      "model_name": "LayoutModel",
      "state": {}
     },
     "ca69d99804734baf91c52311f6374d35": {
      "model_module": "@jupyter-widgets/controls",
      "model_module_version": "2.0.0",
      "model_name": "DropdownModel",
      "state": {
       "_options_labels": [
        "English",
        "Spanish",
        "French"
       ],
       "description": "To Language",
       "index": 1,
       "layout": "IPY_MODEL_32ee0ef1af484d72948c7f575e92eae5",
       "style": "IPY_MODEL_1f4900dbe8bf41b79a020915a0f85d22"
      }
     },
     "ca931fd252924eefacac7b33b0ba0cfa": {
      "model_module": "@jupyter-widgets/base",
      "model_module_version": "2.0.0",
      "model_name": "LayoutModel",
      "state": {
       "grid_template_areas": "\"widget001\"\n\"widget002\"\n\"widget003\"",
       "grid_template_columns": "repeat(1, 1fr)",
       "grid_template_rows": "repeat(3, 1fr)",
       "height": "500px"
      }
     },
     "cacbab415473486f9cbc3bbb9e0340d3": {
      "model_module": "@jupyter-widgets/controls",
      "model_module_version": "2.0.0",
      "model_name": "HTMLModel",
      "state": {
       "layout": "IPY_MODEL_9620386e3a4048199e1d1e0bf649e693",
       "style": "IPY_MODEL_8c5e043b598b41c2a47bd8a185bcbe63",
       "value": "Downloading tokenizer.json: 100%"
      }
     },
     "cb01b78953724b4cbd32792c0da1ffc8": {
      "model_module": "@jupyter-widgets/controls",
      "model_module_version": "2.0.0",
      "model_name": "FloatProgressModel",
      "state": {
       "bar_style": "danger",
       "layout": "IPY_MODEL_4791a19a20b444ac98c98a6285544140",
       "max": 7193290147,
       "style": "IPY_MODEL_25082bbdae6a43a1944a2ceb4d2622e2",
       "value": 104550400
      }
     },
     "cb466ab4ac404c219b65db577a0ee580": {
      "model_module": "@jupyter-widgets/base",
      "model_module_version": "2.0.0",
      "model_name": "LayoutModel",
      "state": {
       "grid_area": "widget003",
       "width": "95%"
      }
     },
     "cc5553f579584d70baf173729fd85089": {
      "model_module": "@jupyter-widgets/controls",
      "model_module_version": "2.0.0",
      "model_name": "RadioButtonsModel",
      "state": {
       "_options_labels": [
        "Instruction: Given an input question, respond with syntactically correct PostgreSQL\nInput: How many users signed up in the past month?\nPostgreSQL query: ",
        "Instruction: Given an input question, respond with syntactically correct PostgreSQL\nInput: Create a query that displays empfname, emplname, deptid, deptname, location from employee table. Results should be in the ascending order based on the empfname and location.\nPostgreSQL query: ",
        "Instruction: Given an input question, respond with syntactically correct PostgreSQL. Only use table called 'employees'.\nInput: What is the total salary paid to all the employees?\nPostgreSQL query: ",
        "Instruction: Given an input question, respond with syntactically correct PostgreSQL. Only use table called 'employees'.\nInput: List names of all the employees whose name end with 'r'.\nPostgreSQL query: ",
        "Instruction: Given an input question, respond with syntactically correct PostgreSQL. Only use table called 'employees'.\nInput: What are the number of employees in each department?\nPostgreSQL query: ",
        "Instruction: Given an input question, respond with syntactically correct PostgreSQL. Only use table called 'employees'.\nInput: Select names of all theemployees who have third character in their name as 't'.\nPostgreSQL query: ",
        "Instruction: Given an input question, respond with syntactically correct PostgreSQL. Only use table called 'employees'.\nInput: Select names of all the employees who are working under 'Peter'.\nPostgreSQL query: "
       ],
       "description": "Choose a sample Prompt",
       "index": null,
       "layout": "IPY_MODEL_8baba42eefed42ce9a50a1a5e2225213",
       "style": "IPY_MODEL_09abcc718cd8454a984889b9a24597ea"
      }
     },
     "ccd7579fec244508804701c57806a45f": {
      "model_module": "@jupyter-widgets/controls",
      "model_module_version": "2.0.0",
      "model_name": "ButtonModel",
      "state": {
       "description": "Generate SQL",
       "icon": "check",
       "layout": "IPY_MODEL_9607f05cf99549aba053dbdc646cdffa",
       "style": "IPY_MODEL_952b61528a1f44a7ae01d8e239e89b01",
       "tooltip": null
      }
     },
     "cd03847c847c44f3954c40336de5a959": {
      "model_module": "@jupyter-widgets/base",
      "model_module_version": "2.0.0",
      "model_name": "LayoutModel",
      "state": {
       "grid_template_areas": "\"widget001 widget002\"\n\"widget003 widget003\"\n\"widget004 widget004\"\n\". widget005\"",
       "grid_template_columns": "repeat(2, 1fr)",
       "grid_template_rows": "repeat(4, 1fr)",
       "height": "300px"
      }
     },
     "cdaf8c71f2644559a38d7afec3348f94": {
      "model_module": "@jupyter-widgets/controls",
      "model_module_version": "2.0.0",
      "model_name": "HBoxModel",
      "state": {
       "children": [
        "IPY_MODEL_f948765b124545db83e20e2c9b0db6e6",
        "IPY_MODEL_cb01b78953724b4cbd32792c0da1ffc8",
        "IPY_MODEL_588738651d714523932552dc8332e1fd"
       ],
       "layout": "IPY_MODEL_dc3e54c07ecd4b4f981c8e830c1ecddb"
      }
     },
     "cdb9f43738324248abdf8e80482ff4b6": {
      "model_module": "@jupyter-widgets/controls",
      "model_module_version": "2.0.0",
      "model_name": "HTMLModel",
      "state": {
       "layout": "IPY_MODEL_e14d1c1e1cd84341a78a11a6a1b0d69e",
       "style": "IPY_MODEL_8a4fc71df7b44b7db78de0f7c004320c",
       "value": " 568/568 [00:00&lt;00:00, 31.1kB/s]"
      }
     },
     "cdcd629af9de4d38a9970d6bdba7d01e": {
      "model_module": "@jupyter-widgets/controls",
      "model_module_version": "2.0.0",
      "model_name": "GridBoxModel",
      "state": {
       "children": [
        "IPY_MODEL_72d12925c3f5419ba8460ab70eb7a21c",
        "IPY_MODEL_2958c5f55d9b44d1be1b9438f65bc1aa",
        "IPY_MODEL_f209acf0ddd94583afd803d9df13a4db",
        "IPY_MODEL_a5eba1333b6d4345bf9c2207522132c2",
        "IPY_MODEL_b4d5d0c293894ef7bc6d728b7749cfd7"
       ],
       "layout": "IPY_MODEL_bb1bf3e53ec84a35912e167439385fb7"
      }
     },
     "ce839246b2324803842a7a695e743266": {
      "model_module": "@jupyter-widgets/controls",
      "model_module_version": "2.0.0",
      "model_name": "TextareaModel",
      "state": {
       "description": "Output",
       "layout": "IPY_MODEL_5e6fd1af7a06470e9bf1c0b9dd284a30",
       "placeholder": "Generated SQL",
       "style": "IPY_MODEL_5894e0aae362468ca5d9cf9a2c4d5d7a"
      }
     },
     "ce87e1aa88724ac1b81ab221d26c5fe6": {
      "model_module": "@jupyter-widgets/controls",
      "model_module_version": "2.0.0",
      "model_name": "ButtonStyleModel",
      "state": {
       "font_family": null,
       "font_size": null,
       "font_style": null,
       "font_variant": null,
       "font_weight": null,
       "text_color": null,
       "text_decoration": null
      }
     },
     "cf3b8bb52cb24d87980bcc4fe1e1f74c": {
      "model_module": "@jupyter-widgets/base",
      "model_module_version": "2.0.0",
      "model_name": "LayoutModel",
      "state": {}
     },
     "cfbe55572f134ed1ad4d7c0963406074": {
      "model_module": "@jupyter-widgets/controls",
      "model_module_version": "2.0.0",
      "model_name": "GridBoxModel",
      "state": {
       "children": [
        "IPY_MODEL_4aaf39f799cc44f1872fe952a1a4640b",
        "IPY_MODEL_998d18f00d3642778ac519c2c940b9cf",
        "IPY_MODEL_dd1eb7ad6498454bb57e548f0b9ae065"
       ],
       "layout": "IPY_MODEL_2985781e00ca43e1aa9f586cfef1dc8a"
      }
     },
     "cfe813ce480e4f469a62c14b96e89986": {
      "model_module": "@jupyter-widgets/controls",
      "model_module_version": "2.0.0",
      "model_name": "HTMLModel",
      "state": {
       "layout": "IPY_MODEL_eecd2659a30d481f82dc59d4cfb82a37",
       "style": "IPY_MODEL_1c8ae7a46d274d6a95c4d214088690dc",
       "value": " 85.0/85.0 [00:00&lt;00:00, 5.44kB/s]"
      }
     },
     "d03a2238132e43418f978c6db500bff6": {
      "model_module": "@jupyter-widgets/base",
      "model_module_version": "2.0.0",
      "model_name": "LayoutModel",
      "state": {
       "grid_area": "widget001",
       "height": "100px",
       "width": "95%"
      }
     },
     "d04bd959e43146ac8f9a6812265d44c0": {
      "model_module": "@jupyter-widgets/base",
      "model_module_version": "2.0.0",
      "model_name": "LayoutModel",
      "state": {
       "grid_area": "widget003",
       "height": "100px",
       "width": "95%"
      }
     },
     "d0cfee40c5d64298a79af71db38c8fa2": {
      "model_module": "@jupyter-widgets/controls",
      "model_module_version": "2.0.0",
      "model_name": "GridBoxModel",
      "state": {
       "children": [
        "IPY_MODEL_72d12925c3f5419ba8460ab70eb7a21c",
        "IPY_MODEL_2958c5f55d9b44d1be1b9438f65bc1aa",
        "IPY_MODEL_f209acf0ddd94583afd803d9df13a4db",
        "IPY_MODEL_a5eba1333b6d4345bf9c2207522132c2",
        "IPY_MODEL_b4d5d0c293894ef7bc6d728b7749cfd7"
       ],
       "layout": "IPY_MODEL_c590cdf907104edaa0a7b58b67efd2f1"
      }
     },
     "d15d7e8b73524676ad5d02a33fceb415": {
      "model_module": "@jupyter-widgets/base",
      "model_module_version": "2.0.0",
      "model_name": "LayoutModel",
      "state": {
       "align_items": "center",
       "grid_template_areas": "\"widget001\"\n\"widget002\"\n\"widget003\"",
       "grid_template_columns": "repeat(1, 1fr)",
       "grid_template_rows": "repeat(3, 1fr)",
       "height": "250px"
      }
     },
     "d17cc42e6603412e96b2e95261db9e54": {
      "model_module": "@jupyter-widgets/base",
      "model_module_version": "2.0.0",
      "model_name": "LayoutModel",
      "state": {
       "grid_area": "widget001",
       "height": "100px",
       "width": "95%"
      }
     },
     "d1abad7f75af411bad0fc7324a2d6313": {
      "model_module": "@jupyter-widgets/controls",
      "model_module_version": "2.0.0",
      "model_name": "ProgressStyleModel",
      "state": {
       "description_width": ""
      }
     },
     "d2427ff5b29f460dbcaf5aeb1ca30109": {
      "model_module": "@jupyter-widgets/controls",
      "model_module_version": "2.0.0",
      "model_name": "GridBoxModel",
      "state": {
       "children": [
        "IPY_MODEL_4080466a166a4aa9a4a3599456de4d34",
        "IPY_MODEL_3d20f873101945949feafd17cdc5d3a5",
        "IPY_MODEL_b6c3db8557ed4249893039aebcc5e11b",
        "IPY_MODEL_e3a6986f28fc43b2920fd4b735c9923c",
        "IPY_MODEL_457ae254e57541a38dc3e1aa7696a91d"
       ],
       "layout": "IPY_MODEL_0281c3ac70e64c758fd1f0cdda64e19c"
      }
     },
     "d24f8bda0c094beda74f2039d8081c8e": {
      "model_module": "@jupyter-widgets/base",
      "model_module_version": "2.0.0",
      "model_name": "LayoutModel",
      "state": {
       "grid_area": "widget002",
       "width": "auto"
      }
     },
     "d26cb0509a48491ea5377e935db23fce": {
      "model_module": "@jupyter-widgets/base",
      "model_module_version": "2.0.0",
      "model_name": "LayoutModel",
      "state": {
       "grid_area": "widget002",
       "width": "auto"
      }
     },
     "d2b0d2cdef5e42a0a7f274a419045f96": {
      "model_module": "@jupyter-widgets/controls",
      "model_module_version": "2.0.0",
      "model_name": "ProgressStyleModel",
      "state": {
       "description_width": ""
      }
     },
     "d3cb2cac77e743ce89a616c8ee66f20e": {
      "model_module": "@jupyter-widgets/controls",
      "model_module_version": "2.0.0",
      "model_name": "DescriptionStyleModel",
      "state": {
       "description_width": "initial"
      }
     },
     "d47c5aca05e54e45b1a6fd792a1d24b0": {
      "model_module": "@jupyter-widgets/base",
      "model_module_version": "2.0.0",
      "model_name": "LayoutModel",
      "state": {}
     },
     "d519c4e217fb4bd2a66995658adc5b1e": {
      "model_module": "@jupyter-widgets/controls",
      "model_module_version": "2.0.0",
      "model_name": "ButtonStyleModel",
      "state": {
       "font_family": null,
       "font_size": null,
       "font_style": null,
       "font_variant": null,
       "font_weight": null,
       "text_color": null,
       "text_decoration": null
      }
     },
     "d594c19ddc194b7cb92f50a569636d04": {
      "model_module": "@jupyter-widgets/base",
      "model_module_version": "2.0.0",
      "model_name": "LayoutModel",
      "state": {}
     },
     "d60065d2a79d48f288468f34ad4d996e": {
      "model_module": "@jupyter-widgets/base",
      "model_module_version": "2.0.0",
      "model_name": "LayoutModel",
      "state": {
       "grid_area": "widget002",
       "width": "auto"
      }
     },
     "d64a92cf0c684293a7ae6f4dc6eefbea": {
      "model_module": "@jupyter-widgets/controls",
      "model_module_version": "2.0.0",
      "model_name": "TextStyleModel",
      "state": {
       "description_width": "50px",
       "font_size": null,
       "text_color": null
      }
     },
     "d6bad84e9e60425ab44c208d7083f9b8": {
      "model_module": "@jupyter-widgets/base",
      "model_module_version": "2.0.0",
      "model_name": "LayoutModel",
      "state": {
       "grid_area": "widget004",
       "height": "100px",
       "width": "95%"
      }
     },
     "d79612c6b6174d4caa66f437fcf2631c": {
      "model_module": "@jupyter-widgets/base",
      "model_module_version": "2.0.0",
      "model_name": "LayoutModel",
      "state": {
       "grid_area": "widget001",
       "height": "100%",
       "width": "95%"
      }
     },
     "d8bfcf845fdd4c5c92290f1b48f7866c": {
      "model_module": "@jupyter-widgets/base",
      "model_module_version": "2.0.0",
      "model_name": "LayoutModel",
      "state": {
       "grid_area": "widget002",
       "height": "100px",
       "width": "95%"
      }
     },
     "da0b4ca365ec4b89a3678260e7f7e5fb": {
      "model_module": "@jupyter-widgets/base",
      "model_module_version": "2.0.0",
      "model_name": "LayoutModel",
      "state": {
       "grid_template_areas": "\"widget001\"\n\"widget002\"\n\"widget003\"",
       "grid_template_columns": "repeat(1, 1fr)",
       "grid_template_rows": "repeat(3, 1fr)",
       "height": "500px"
      }
     },
     "da0e46cf6bdf417caef090bb59812a8b": {
      "model_module": "@jupyter-widgets/base",
      "model_module_version": "2.0.0",
      "model_name": "LayoutModel",
      "state": {}
     },
     "da94f3c500be4999bedd1d4c7837b62e": {
      "model_module": "@jupyter-widgets/base",
      "model_module_version": "2.0.0",
      "model_name": "LayoutModel",
      "state": {}
     },
     "dab8bd0e54804ed2964e03e0bf7f46c6": {
      "model_module": "@jupyter-widgets/controls",
      "model_module_version": "2.0.0",
      "model_name": "HTMLModel",
      "state": {
       "layout": "IPY_MODEL_00a7c42a61df467a92483ea845628ae2",
       "style": "IPY_MODEL_c6bfab214f48415c9816cdce63f5e5ee",
       "value": "Downloading config.json: 100%"
      }
     },
     "dabe7545587c4a319987d045d30300f5": {
      "model_module": "@jupyter-widgets/base",
      "model_module_version": "2.0.0",
      "model_name": "LayoutModel",
      "state": {
       "grid_area": "widget003",
       "width": "50%"
      }
     },
     "dac79f9c9db844e2b5c0b4ee2b74afb5": {
      "model_module": "@jupyter-widgets/base",
      "model_module_version": "2.0.0",
      "model_name": "LayoutModel",
      "state": {}
     },
     "dae12db8f1ca4443b6fb00b60c432f1d": {
      "model_module": "@jupyter-widgets/controls",
      "model_module_version": "2.0.0",
      "model_name": "TextStyleModel",
      "state": {
       "description_width": "50px",
       "font_size": null,
       "text_color": null
      }
     },
     "daebae1f915644c1b0918d8eae1e673e": {
      "model_module": "@jupyter-widgets/base",
      "model_module_version": "2.0.0",
      "model_name": "LayoutModel",
      "state": {}
     },
     "db6134bc2d73459291dbccc6f32c1de6": {
      "model_module": "@jupyter-widgets/base",
      "model_module_version": "2.0.0",
      "model_name": "LayoutModel",
      "state": {
       "grid_area": "widget005",
       "width": "auto"
      }
     },
     "dbc574cfbe284dcdaac65268fd215718": {
      "model_module": "@jupyter-widgets/base",
      "model_module_version": "2.0.0",
      "model_name": "LayoutModel",
      "state": {
       "grid_area": "widget001",
       "width": "auto"
      }
     },
     "dc081d368b93487f8e8097f0ee94bd1f": {
      "model_module": "@jupyter-widgets/base",
      "model_module_version": "2.0.0",
      "model_name": "LayoutModel",
      "state": {
       "grid_template_areas": "\"widget001 widget002\"\n\"widget003 widget003\"\n\"widget004 widget004\"\n\". widget005\"",
       "grid_template_columns": "repeat(2, 1fr)",
       "grid_template_rows": "repeat(4, 1fr)",
       "height": "300px"
      }
     },
     "dc18576ac2ee4714b9bb6b0d58aeed0f": {
      "model_module": "@jupyter-widgets/base",
      "model_module_version": "2.0.0",
      "model_name": "LayoutModel",
      "state": {}
     },
     "dc381ac4c27b48cbbc634308c8fae548": {
      "model_module": "@jupyter-widgets/base",
      "model_module_version": "2.0.0",
      "model_name": "LayoutModel",
      "state": {
       "grid_area": "widget003",
       "height": "100px",
       "width": "95%"
      }
     },
     "dc3e54c07ecd4b4f981c8e830c1ecddb": {
      "model_module": "@jupyter-widgets/base",
      "model_module_version": "2.0.0",
      "model_name": "LayoutModel",
      "state": {}
     },
     "dc93f710d5f1402a881b4b3b3e9a943f": {
      "model_module": "@jupyter-widgets/base",
      "model_module_version": "2.0.0",
      "model_name": "LayoutModel",
      "state": {
       "grid_area": "widget002",
       "height": "100px",
       "width": "95%"
      }
     },
     "dd1bb000296f4da09fe1eaa9baafad1d": {
      "model_module": "@jupyter-widgets/base",
      "model_module_version": "2.0.0",
      "model_name": "LayoutModel",
      "state": {
       "align_items": "center",
       "grid_template_areas": "\"widget001\"\n\"widget002\"\n\"widget003\"",
       "grid_template_columns": "repeat(1, 1fr)",
       "grid_template_rows": "repeat(3, 1fr)",
       "height": "250px"
      }
     },
     "dd1eb7ad6498454bb57e548f0b9ae065": {
      "model_module": "@jupyter-widgets/controls",
      "model_module_version": "2.0.0",
      "model_name": "ButtonModel",
      "state": {
       "description": "Generate SQL",
       "icon": "check",
       "layout": "IPY_MODEL_175f27f260454ecba8a680cfe29d409a",
       "style": "IPY_MODEL_fd9bbaf2aa514446a217a89aaa2c2ae1",
       "tooltip": null
      }
     },
     "dd57fd680e36453caa211c0baca6241f": {
      "model_module": "@jupyter-widgets/controls",
      "model_module_version": "2.0.0",
      "model_name": "GridBoxModel",
      "state": {
       "children": [
        "IPY_MODEL_e64c0a8214de4613b2bb5815fd87a8e1",
        "IPY_MODEL_7c322633fa724fd58ecef2cfc566ca46",
        "IPY_MODEL_29d3610b8b834af583e5f22a80e4aa6e"
       ],
       "layout": "IPY_MODEL_d15d7e8b73524676ad5d02a33fceb415"
      }
     },
     "dde5e2e451774e4c871d1a465b02d252": {
      "model_module": "@jupyter-widgets/base",
      "model_module_version": "2.0.0",
      "model_name": "LayoutModel",
      "state": {
       "grid_template_areas": "\"widget001\"\n\"widget002\"\n\"widget003\"",
       "grid_template_columns": "repeat(1, 1fr)",
       "grid_template_rows": "repeat(3, 1fr)",
       "height": "500px"
      }
     },
     "de2a95e8d7d947cfa68d33014981b7d9": {
      "model_module": "@jupyter-widgets/base",
      "model_module_version": "2.0.0",
      "model_name": "LayoutModel",
      "state": {}
     },
     "de4f934014d4475e9659b82105920e86": {
      "model_module": "@jupyter-widgets/base",
      "model_module_version": "2.0.0",
      "model_name": "LayoutModel",
      "state": {}
     },
     "de65ff32f14d4bd1a362e1e64aca785b": {
      "model_module": "@jupyter-widgets/base",
      "model_module_version": "2.0.0",
      "model_name": "LayoutModel",
      "state": {
       "grid_area": "widget003",
       "width": "95%"
      }
     },
     "df0cd099621b4155aa66a9c6feae656b": {
      "model_module": "@jupyter-widgets/controls",
      "model_module_version": "2.0.0",
      "model_name": "FloatProgressModel",
      "state": {
       "bar_style": "success",
       "layout": "IPY_MODEL_dac79f9c9db844e2b5c0b4ee2b74afb5",
       "max": 568,
       "style": "IPY_MODEL_2d485f0538c349968b2124d251d4b36b",
       "value": 568
      }
     },
     "df35414e25874f289b16d59752d3fe0d": {
      "model_module": "@jupyter-widgets/controls",
      "model_module_version": "2.0.0",
      "model_name": "GridBoxModel",
      "state": {
       "children": [
        "IPY_MODEL_ebd5e4b250a2412c9b07835e8bde2512",
        "IPY_MODEL_bfa9f3cff3b3469ab1cd54478181740b",
        "IPY_MODEL_1cfe6f35721c40fe9c71207c8b1aefc0"
       ],
       "layout": "IPY_MODEL_82018140f0a340ce9626e3a5ae50f9de"
      }
     },
     "df35d7e00b2841e38c5498f42ba5e78b": {
      "model_module": "@jupyter-widgets/controls",
      "model_module_version": "2.0.0",
      "model_name": "ProgressStyleModel",
      "state": {
       "description_width": ""
      }
     },
     "e0173d8112d04863bbef38abadf1103f": {
      "model_module": "@jupyter-widgets/controls",
      "model_module_version": "2.0.0",
      "model_name": "TextStyleModel",
      "state": {
       "description_width": "50px",
       "font_size": null,
       "text_color": null
      }
     },
     "e04f0eb1ec67492b8c76ba617f8727fb": {
      "model_module": "@jupyter-widgets/controls",
      "model_module_version": "2.0.0",
      "model_name": "ButtonStyleModel",
      "state": {
       "font_family": null,
       "font_size": null,
       "font_style": null,
       "font_variant": null,
       "font_weight": null,
       "text_color": null,
       "text_decoration": null
      }
     },
     "e082002ae99143ad968b7392caaa0acf": {
      "model_module": "@jupyter-widgets/controls",
      "model_module_version": "2.0.0",
      "model_name": "HTMLModel",
      "state": {
       "layout": "IPY_MODEL_614ddb6fd7af407d939448a6baeb3b25",
       "style": "IPY_MODEL_ab7a7b2fd97f46f4815a46fef04e6c2c",
       "value": "Downloading pytorch_model_00001-of-00072.bin:   2%"
      }
     },
     "e12392fac5c148a9b516635c860d15da": {
      "model_module": "@jupyter-widgets/controls",
      "model_module_version": "2.0.0",
      "model_name": "RadioButtonsModel",
      "state": {
       "_options_labels": [
        "Instruction: Given an input question, respond with syntactically correct PostgreSQL\nInput: How many users signed up in the past month?\nPostgreSQL query: ",
        "Instruction: Given an input question, respond with syntactically correct PostgreSQL\nInput: Create a query that displays empfname, emplname, deptid, deptname, location from employee table. Results should be in the ascending order based on the empfname and location.\nPostgreSQL query: ",
        "Instruction: Given an input question, respond with syntactically correct PostgreSQL. Only use table called 'employees'.\nInput: What is the total salary paid to all the employees?\nPostgreSQL query: ",
        "Instruction: Given an input question, respond with syntactically correct PostgreSQL. Only use table called 'employees'.\nInput: List names of all the employees whose name end with 'r'.\nPostgreSQL query: ",
        "Instruction: Given an input question, respond with syntactically correct PostgreSQL. Only use table called 'employees'.\nInput: What are the number of employees in each department?\nPostgreSQL query: ",
        "Instruction: Given an input question, respond with syntactically correct PostgreSQL. Only use table called 'employees'.\nInput: Select names of all theemployees who have third character in their name as 't'.\nPostgreSQL query: ",
        "Instruction: Given an input question, respond with syntactically correct PostgreSQL. Only use table called 'employees'.\nInput: Select names of all the employees who are working under 'Peter'.\nPostgreSQL query: "
       ],
       "description": "Choose a sample Prompt",
       "index": null,
       "layout": "IPY_MODEL_395948aab466461d85072adda096fc94",
       "style": "IPY_MODEL_164f727ffd2548ae970fac0941837bb9"
      }
     },
     "e14d1c1e1cd84341a78a11a6a1b0d69e": {
      "model_module": "@jupyter-widgets/base",
      "model_module_version": "2.0.0",
      "model_name": "LayoutModel",
      "state": {}
     },
     "e1694223a0ce489b9af38fb63958a413": {
      "model_module": "@jupyter-widgets/controls",
      "model_module_version": "2.0.0",
      "model_name": "GridBoxModel",
      "state": {
       "children": [
        "IPY_MODEL_ebd5e4b250a2412c9b07835e8bde2512",
        "IPY_MODEL_bfa9f3cff3b3469ab1cd54478181740b"
       ],
       "layout": "IPY_MODEL_6e99f5d3c9174f9ea0918a6525477e90"
      }
     },
     "e220f7c2094b4f1690a5cca414e216ee": {
      "model_module": "@jupyter-widgets/controls",
      "model_module_version": "2.0.0",
      "model_name": "GridBoxModel",
      "state": {
       "children": [
        "IPY_MODEL_ac7863c5c23b40aca699f526f07dc006",
        "IPY_MODEL_9c41909e63a144dc86975fa15c879a48",
        "IPY_MODEL_ccd7579fec244508804701c57806a45f"
       ],
       "layout": "IPY_MODEL_08060910a3634f4088bd356578eac04f"
      }
     },
     "e2919383a18643fbaf122d1209824370": {
      "model_module": "@jupyter-widgets/controls",
      "model_module_version": "2.0.0",
      "model_name": "GridBoxModel",
      "state": {
       "children": [
        "IPY_MODEL_0988851fd5634c37b347ebc1774d885b",
        "IPY_MODEL_fb4ad0a3844a45febaa0a03db8aeb1f3",
        "IPY_MODEL_523473bf080949d99488d8082e31fe05"
       ],
       "layout": "IPY_MODEL_ad199d277b5b432fb82e96d49ce05109"
      }
     },
     "e2ed35747a604433b501feb6ac45d42a": {
      "model_module": "@jupyter-widgets/base",
      "model_module_version": "2.0.0",
      "model_name": "LayoutModel",
      "state": {
       "grid_template_areas": "\"widget001\"\n\"widget002\"\n\"widget003\"",
       "grid_template_columns": "repeat(1, 1fr)",
       "grid_template_rows": "repeat(3, 1fr)",
       "height": "900px"
      }
     },
     "e318ae1051de4b01abb5d0452bf19823": {
      "model_module": "@jupyter-widgets/controls",
      "model_module_version": "2.0.0",
      "model_name": "ButtonModel",
      "state": {
       "description": "Translate",
       "icon": "check",
       "layout": "IPY_MODEL_1dfb1144605549ee80d4be371a2bf54b",
       "style": "IPY_MODEL_32efe7e28f78453bb4477dc4d2d98e70",
       "tooltip": null
      }
     },
     "e3255c2cb1a74bddae1b0954a8a87e77": {
      "model_module": "@jupyter-widgets/controls",
      "model_module_version": "2.0.0",
      "model_name": "FloatProgressModel",
      "state": {
       "bar_style": "danger",
       "layout": "IPY_MODEL_be5f2bc864f548faa89218da3650c474",
       "max": 7193290147,
       "style": "IPY_MODEL_9ea66902cae045e78d0b5d8d5597bdf3",
       "value": 69310464
      }
     },
     "e3614906cbd04988acba01ace74dbad4": {
      "model_module": "@jupyter-widgets/controls",
      "model_module_version": "2.0.0",
      "model_name": "DescriptionStyleModel",
      "state": {
       "description_width": ""
      }
     },
     "e3a6986f28fc43b2920fd4b735c9923c": {
      "model_module": "@jupyter-widgets/controls",
      "model_module_version": "2.0.0",
      "model_name": "TextareaModel",
      "state": {
       "description": "Output",
       "layout": "IPY_MODEL_9b6e5dc0d4fe418d8045cd4a17d68f40",
       "placeholder": "Translated sentence",
       "style": "IPY_MODEL_f8bf1190fa5a4f16b16383bfd06e6dca",
       "value": "Instruction: translate English to Spanish \nInput: \"I am a student\" \nOutput: \"Yo soy un estudiante\"\nMy code in English to Spanish Translator is\ndef translateEnglishToSpanish(inputString):\n\n    # Translate"
      }
     },
     "e48554743c46429998b24b7f482a6274": {
      "model_module": "@jupyter-widgets/controls",
      "model_module_version": "2.0.0",
      "model_name": "TextStyleModel",
      "state": {
       "description_width": "50px",
       "font_size": null,
       "text_color": null
      }
     },
     "e5128e432173480fb843aa39408d1d20": {
      "model_module": "@jupyter-widgets/base",
      "model_module_version": "2.0.0",
      "model_name": "LayoutModel",
      "state": {
       "grid_area": "widget002",
       "height": "100px",
       "width": "95%"
      }
     },
     "e519dc6ea53b4123a550c782edd0a996": {
      "model_module": "@jupyter-widgets/controls",
      "model_module_version": "2.0.0",
      "model_name": "ButtonModel",
      "state": {
       "description": "Generate SQL",
       "icon": "check",
       "layout": "IPY_MODEL_6a6d7c0948694ef581d41047d9fffe2e",
       "style": "IPY_MODEL_bb23cc9367424e719ccf341a4a445858",
       "tooltip": null
      }
     },
     "e53f3a9b310e42dd917458cd90e787fb": {
      "model_module": "@jupyter-widgets/base",
      "model_module_version": "2.0.0",
      "model_name": "LayoutModel",
      "state": {
       "grid_template_areas": "\"widget001\"\n\"widget002\"\n\"widget003\"",
       "grid_template_columns": "repeat(1, 1fr)",
       "grid_template_rows": "repeat(3, 1fr)",
       "height": "500px"
      }
     },
     "e5530170c9364c0ab0939a139d88f4df": {
      "model_module": "@jupyter-widgets/controls",
      "model_module_version": "2.0.0",
      "model_name": "GridBoxModel",
      "state": {
       "children": [
        "IPY_MODEL_e64c0a8214de4613b2bb5815fd87a8e1",
        "IPY_MODEL_7c322633fa724fd58ecef2cfc566ca46",
        "IPY_MODEL_29d3610b8b834af583e5f22a80e4aa6e"
       ],
       "layout": "IPY_MODEL_4b3ccc366c244b04aebd6249c5c3d405"
      }
     },
     "e5652def45e043ccb79244cc00432c28": {
      "model_module": "@jupyter-widgets/controls",
      "model_module_version": "2.0.0",
      "model_name": "TextareaModel",
      "state": {
       "description": "Output",
       "layout": "IPY_MODEL_a8a6a686ffba43c9bbdb5bf5cdf16aeb",
       "placeholder": "Translated sentence",
       "style": "IPY_MODEL_ae470c64f7624351b977fd09f435b1c2"
      }
     },
     "e57cd74666e44d098e983319170f76bd": {
      "model_module": "@jupyter-widgets/base",
      "model_module_version": "2.0.0",
      "model_name": "LayoutModel",
      "state": {}
     },
     "e62e0f07f4c14418a0cd162c477be7c5": {
      "model_module": "@jupyter-widgets/base",
      "model_module_version": "2.0.0",
      "model_name": "LayoutModel",
      "state": {}
     },
     "e64654db7fd0499d93621feca776cb86": {
      "model_module": "@jupyter-widgets/base",
      "model_module_version": "2.0.0",
      "model_name": "LayoutModel",
      "state": {
       "grid_area": "widget003",
       "width": "50%"
      }
     },
     "e64c0a8214de4613b2bb5815fd87a8e1": {
      "model_module": "@jupyter-widgets/controls",
      "model_module_version": "2.0.0",
      "model_name": "TextareaModel",
      "state": {
       "description": "Input",
       "layout": "IPY_MODEL_5843a482b89c45528fce2d9864d93180",
       "placeholder": "Enter the instruction to generate",
       "style": "IPY_MODEL_16cf7050ef1a4d1aab5f10b6e90f9dbc",
       "value": "Instruction: Given an input question, respond with syntactically correct PostgreSQL. Only use table called 'employees'.\nInput: Select names of all the employees who are working under 'Peter'.\nPostgreSQL query: "
      }
     },
     "e68e9e193ad9497ca3b2f59c1f64a712": {
      "model_module": "@jupyter-widgets/controls",
      "model_module_version": "2.0.0",
      "model_name": "GridBoxModel",
      "state": {
       "children": [
        "IPY_MODEL_80bad98a87434d93b4a777f866093780",
        "IPY_MODEL_ea58aedc1a6f4dc6a1aa4a6c328caf5b",
        "IPY_MODEL_1c0b802e518b4503bf95595f755ae391"
       ],
       "layout": "IPY_MODEL_dd1bb000296f4da09fe1eaa9baafad1d"
      }
     },
     "e6e9290afc2445fea0f41c4a71d33ab8": {
      "model_module": "@jupyter-widgets/base",
      "model_module_version": "2.0.0",
      "model_name": "LayoutModel",
      "state": {
       "grid_area": "widget002",
       "height": "100px",
       "width": "95%"
      }
     },
     "e6ebd618eb7342058bd454ebe711b7a6": {
      "model_module": "@jupyter-widgets/base",
      "model_module_version": "2.0.0",
      "model_name": "LayoutModel",
      "state": {
       "grid_area": "widget004",
       "height": "100px",
       "width": "95%"
      }
     },
     "e7204ccac0034bc88654d20d7bf60edd": {
      "model_module": "@jupyter-widgets/controls",
      "model_module_version": "2.0.0",
      "model_name": "TextStyleModel",
      "state": {
       "description_width": "50px",
       "font_size": null,
       "text_color": null
      }
     },
     "e78f7cfd5e6b4393a4bd52bfd91c0cd9": {
      "model_module": "@jupyter-widgets/controls",
      "model_module_version": "2.0.0",
      "model_name": "DescriptionStyleModel",
      "state": {
       "description_width": ""
      }
     },
     "e8b0836fffcc44ab9cc6fbe24b6c20b0": {
      "model_module": "@jupyter-widgets/controls",
      "model_module_version": "2.0.0",
      "model_name": "ButtonStyleModel",
      "state": {
       "font_family": null,
       "font_size": null,
       "font_style": null,
       "font_variant": null,
       "font_weight": null,
       "text_color": null,
       "text_decoration": null
      }
     },
     "e8e303cb434c442ab7b308631def6128": {
      "model_module": "@jupyter-widgets/controls",
      "model_module_version": "2.0.0",
      "model_name": "TextStyleModel",
      "state": {
       "description_width": "50px",
       "font_size": null,
       "text_color": null
      }
     },
     "ea58aedc1a6f4dc6a1aa4a6c328caf5b": {
      "model_module": "@jupyter-widgets/controls",
      "model_module_version": "2.0.0",
      "model_name": "TextareaModel",
      "state": {
       "description": "Output",
       "layout": "IPY_MODEL_386dbca50ff246e499461852121cc680",
       "placeholder": "Generated SQL",
       "style": "IPY_MODEL_dae12db8f1ca4443b6fb00b60c432f1d",
       "value": "Instruction: Given an input question, respond with syntactically correct PostgreSQL. Only use table called 'employees'.\nInput: Select names of all the employees who are working under 'Peter'.\nPostgreSQL query:  Select `employee_name` from `employee` where `employee_branch_id` = 1.\nOutput expected: A syntactically correct PostgreSQL.\n\nA:\n\nFirst, I would create a CSV for the question, and then read it like a CSV and create"
      }
     },
     "eaaaf93a61d24042b3276e763a5300ff": {
      "model_module": "@jupyter-widgets/controls",
      "model_module_version": "2.0.0",
      "model_name": "DescriptionStyleModel",
      "state": {
       "description_width": ""
      }
     },
     "ebd5e4b250a2412c9b07835e8bde2512": {
      "model_module": "@jupyter-widgets/controls",
      "model_module_version": "2.0.0",
      "model_name": "RadioButtonsModel",
      "state": {
       "_options_labels": [
        "Instruction: Given an input question, respond with syntactically correct PostgreSQL\nInput: How many users signed up in the past month?\nPostgreSQL query: ",
        "Instruction: Given an input question, respond with syntactically correct PostgreSQL\nInput: Create a query that displays empfname, emplname, deptid, deptname, location from employee table. Results should be in the ascending order based on the empfname and location.\nPostgreSQL query: ",
        "Instruction: Given an input question, respond with syntactically correct PostgreSQL. Only use table called 'employees'.\nInput: What is the total salary paid to all the employees?\nPostgreSQL query: ",
        "Instruction: Given an input question, respond with syntactically correct PostgreSQL. Only use table called 'employees'.\nInput: List names of all the employees whose name end with 'r'.\nPostgreSQL query: ",
        "Instruction: Given an input question, respond with syntactically correct PostgreSQL. Only use table called 'employees'.\nInput: What are the number of employees in each department?\nPostgreSQL query: ",
        "Instruction: Given an input question, respond with syntactically correct PostgreSQL. Only use table called 'employees'.\nInput: Select names of all theemployees who have third character in their name as 't'.\nPostgreSQL query: ",
        "Instruction: Given an input question, respond with syntactically correct PostgreSQL. Only use table called 'employees'.\nInput: Select names of all the employees who are working under 'Peter'.\nPostgreSQL query: "
       ],
       "description": "Choose a sample Prompt",
       "index": null,
       "layout": "IPY_MODEL_fc37f8ae084346d98906242f57e503f6",
       "style": "IPY_MODEL_f148b70340414a4eb5b6003a75d74280"
      }
     },
     "ecfbbe3d512b479d9c427a6e0625f1bb": {
      "model_module": "@jupyter-widgets/controls",
      "model_module_version": "2.0.0",
      "model_name": "TextareaModel",
      "state": {
       "description": "Output",
       "layout": "IPY_MODEL_c771b004f48249c1852dea5ca6e0a2bc",
       "placeholder": "Generated SQL",
       "style": "IPY_MODEL_b3b74a154b28423d95bebc3bef9d26ad",
       "value": "Instruction: Given an input question, respond with syntactically correct PostgreSQL. Only use table called 'employees'.\nInput: Select names of all the employees who are working under 'Peter'.\nPostgreSQL query:  Select `employee_name` from `employee` where `employee_branch_id` = 1.\nOutput expected: A syntactically correct PostgreSQL.\n\nA:\n\nFirst, I would create a CSV for the question, and then read it like a CSV and create"
      }
     },
     "ed20ea0e358040118f63dbac0660ab2b": {
      "model_module": "@jupyter-widgets/controls",
      "model_module_version": "2.0.0",
      "model_name": "HTMLModel",
      "state": {
       "layout": "IPY_MODEL_872c8c776b4e420ebdc557e58464e409",
       "style": "IPY_MODEL_8ec28a8cdc0a4263b3f285d669deeeaa",
       "value": " 155M/6.70G [03:22&lt;08:30, 13.8MB/s]"
      }
     },
     "edbc9575a03b428c823e9c470d3476ba": {
      "model_module": "@jupyter-widgets/controls",
      "model_module_version": "2.0.0",
      "model_name": "FloatProgressModel",
      "state": {
       "bar_style": "success",
       "layout": "IPY_MODEL_5774ac0228ca4a32b1575071b093f650",
       "max": 63701,
       "style": "IPY_MODEL_fe1cf438a485476ea4e9322ddefcfa43",
       "value": 63701
      }
     },
     "ee5b4f1ef575494e93edc912fa6087a6": {
      "model_module": "@jupyter-widgets/base",
      "model_module_version": "2.0.0",
      "model_name": "LayoutModel",
      "state": {}
     },
     "eebb31ea925246d1a6eb23962a686d9a": {
      "model_module": "@jupyter-widgets/controls",
      "model_module_version": "2.0.0",
      "model_name": "ButtonStyleModel",
      "state": {
       "font_family": null,
       "font_size": null,
       "font_style": null,
       "font_variant": null,
       "font_weight": null,
       "text_color": null,
       "text_decoration": null
      }
     },
     "eec5af7612804faeb58dbb92a53a986b": {
      "model_module": "@jupyter-widgets/base",
      "model_module_version": "2.0.0",
      "model_name": "LayoutModel",
      "state": {
       "grid_area": "widget002",
       "height": "100px",
       "width": "95%"
      }
     },
     "eecd2659a30d481f82dc59d4cfb82a37": {
      "model_module": "@jupyter-widgets/base",
      "model_module_version": "2.0.0",
      "model_name": "LayoutModel",
      "state": {}
     },
     "eed01860d6c44c2995f1e4b565c1d892": {
      "model_module": "@jupyter-widgets/controls",
      "model_module_version": "2.0.0",
      "model_name": "ButtonModel",
      "state": {
       "description": "Translate",
       "icon": "check",
       "layout": "IPY_MODEL_96622b76cc7f439ab310e356c17f67bf",
       "style": "IPY_MODEL_94ac010820c04e6482a23b8ef38545bd",
       "tooltip": null
      }
     },
     "eed1232419904990b3b5d1bfc6deab8c": {
      "model_module": "@jupyter-widgets/controls",
      "model_module_version": "2.0.0",
      "model_name": "FloatProgressModel",
      "state": {
       "layout": "IPY_MODEL_3e665fdbf3ca4e8aa2031b71b3236eb2",
       "max": 7193290147,
       "style": "IPY_MODEL_4c51149cd9dc4fe4a31bba5f51acb10d",
       "value": 170480640
      }
     },
     "efceec34a7b24ee6b82c48f34196a79c": {
      "model_module": "@jupyter-widgets/base",
      "model_module_version": "2.0.0",
      "model_name": "LayoutModel",
      "state": {}
     },
     "f06f0442560f4818b3df7ba3d8b248b8": {
      "model_module": "@jupyter-widgets/controls",
      "model_module_version": "2.0.0",
      "model_name": "DescriptionStyleModel",
      "state": {
       "description_width": "initial"
      }
     },
     "f148b70340414a4eb5b6003a75d74280": {
      "model_module": "@jupyter-widgets/controls",
      "model_module_version": "2.0.0",
      "model_name": "DescriptionStyleModel",
      "state": {
       "description_width": "initial"
      }
     },
     "f16e48bfde4a4a88a302739a1c9723b7": {
      "model_module": "@jupyter-widgets/base",
      "model_module_version": "2.0.0",
      "model_name": "LayoutModel",
      "state": {
       "grid_area": "widget005",
       "width": "50%"
      }
     },
     "f209acf0ddd94583afd803d9df13a4db": {
      "model_module": "@jupyter-widgets/controls",
      "model_module_version": "2.0.0",
      "model_name": "TextareaModel",
      "state": {
       "description": "Input",
       "layout": "IPY_MODEL_27328171029548d68c185a9de2831d45",
       "placeholder": "Enter the sentence to translate",
       "style": "IPY_MODEL_68bc6e66f9654060867a2818764104d5",
       "value": "How are you?"
      }
     },
     "f2106ef97be243d0a78a5542b5d287e2": {
      "model_module": "@jupyter-widgets/controls",
      "model_module_version": "2.0.0",
      "model_name": "ButtonStyleModel",
      "state": {
       "font_family": null,
       "font_size": null,
       "font_style": null,
       "font_variant": null,
       "font_weight": null,
       "text_color": null,
       "text_decoration": null
      }
     },
     "f2a09b3865ea401990c59bcd195b83bf": {
      "model_module": "@jupyter-widgets/base",
      "model_module_version": "2.0.0",
      "model_name": "LayoutModel",
      "state": {
       "grid_area": "widget001",
       "height": "100%",
       "width": "95%"
      }
     },
     "f30187c6dedd40bebc705654a3825b5d": {
      "model_module": "@jupyter-widgets/base",
      "model_module_version": "2.0.0",
      "model_name": "LayoutModel",
      "state": {
       "grid_area": "widget001",
       "height": "100%",
       "width": "95%"
      }
     },
     "f31a7b1f6ff044e59b86edda62f797e7": {
      "model_module": "@jupyter-widgets/controls",
      "model_module_version": "2.0.0",
      "model_name": "GridBoxModel",
      "state": {
       "children": [
        "IPY_MODEL_72d12925c3f5419ba8460ab70eb7a21c",
        "IPY_MODEL_2958c5f55d9b44d1be1b9438f65bc1aa",
        "IPY_MODEL_f209acf0ddd94583afd803d9df13a4db",
        "IPY_MODEL_a5eba1333b6d4345bf9c2207522132c2",
        "IPY_MODEL_b4d5d0c293894ef7bc6d728b7749cfd7"
       ],
       "layout": "IPY_MODEL_371dbf7a4046475d9a791243ab4b090e"
      }
     },
     "f38f47899da7407e80dd809ad43459b8": {
      "model_module": "@jupyter-widgets/controls",
      "model_module_version": "2.0.0",
      "model_name": "ButtonModel",
      "state": {
       "description": "Generate SQL",
       "icon": "check",
       "layout": "IPY_MODEL_4db9f775c64748c9873de748cd62ef39",
       "style": "IPY_MODEL_9cc8dd6b688b47768dbb9452cfcc6ead",
       "tooltip": null
      }
     },
     "f39b73a8cc194f2f8edeca3a18e53055": {
      "model_module": "@jupyter-widgets/controls",
      "model_module_version": "2.0.0",
      "model_name": "HTMLModel",
      "state": {
       "layout": "IPY_MODEL_ca35e145455e4b99874830dde49c3f4d",
       "style": "IPY_MODEL_f840e1e8da7c4d3da371faa9d459d4d8",
       "value": " 62.2k/62.2k [00:00&lt;00:00, 160kB/s]"
      }
     },
     "f43b4f5896854a5190d991a9d5931018": {
      "model_module": "@jupyter-widgets/controls",
      "model_module_version": "2.0.0",
      "model_name": "TextareaModel",
      "state": {
       "description": "Input",
       "layout": "IPY_MODEL_2a9a47c9a82e483589089d7f1800fe64",
       "placeholder": "Enter the instruction to generate",
       "style": "IPY_MODEL_2a2f6ba7f64b4b5db88ef71b25edd38d",
       "value": "Instruction: Given an input question, respond with syntactically correct PostgreSQL. Only use table called 'employees'.\nInput: Select names of all the employees who are working under 'Peter'.\nPostgreSQL query: "
      }
     },
     "f54319dc7cd841cbad8d46afff39d65a": {
      "model_module": "@jupyter-widgets/base",
      "model_module_version": "2.0.0",
      "model_name": "LayoutModel",
      "state": {
       "grid_template_areas": "\"widget001 widget002\"\n\"widget003 widget003\"\n\"widget004 widget004\"\n\". widget005\"",
       "grid_template_columns": "repeat(2, 1fr)",
       "grid_template_rows": "repeat(4, 1fr)",
       "height": "300px"
      }
     },
     "f6060d66605c439e8dce27575be1340c": {
      "model_module": "@jupyter-widgets/controls",
      "model_module_version": "2.0.0",
      "model_name": "TextStyleModel",
      "state": {
       "description_width": "50px",
       "font_size": null,
       "text_color": null
      }
     },
     "f635c00a05d746c0a37c2a22608d9cc6": {
      "model_module": "@jupyter-widgets/controls",
      "model_module_version": "2.0.0",
      "model_name": "HTMLModel",
      "state": {
       "layout": "IPY_MODEL_de2a95e8d7d947cfa68d33014981b7d9",
       "style": "IPY_MODEL_a9fedff0b2204873b7de765d0fc19d34",
       "value": " 222/222 [00:00&lt;00:00, 13.1kB/s]"
      }
     },
     "f64b1db0e00b409d923876ad0669e0a7": {
      "model_module": "@jupyter-widgets/controls",
      "model_module_version": "2.0.0",
      "model_name": "HTMLModel",
      "state": {
       "layout": "IPY_MODEL_e62e0f07f4c14418a0cd162c477be7c5",
       "style": "IPY_MODEL_35ab56c8cf124e1ea388aeb6a6bf611f",
       "value": "Downloading pytorch_model.bin.index.json: 100%"
      }
     },
     "f715d8afa9544b7e8dcbe4ae83eed33d": {
      "model_module": "@jupyter-widgets/controls",
      "model_module_version": "2.0.0",
      "model_name": "TextStyleModel",
      "state": {
       "description_width": "50px",
       "font_size": null,
       "text_color": null
      }
     },
     "f71ca6b8fcfd4aa49ee2201ea1dfd93b": {
      "model_module": "@jupyter-widgets/controls",
      "model_module_version": "2.0.0",
      "model_name": "GridBoxModel",
      "state": {
       "children": [
        "IPY_MODEL_27ff8570ff36411db066b6d046a93b9a",
        "IPY_MODEL_a7b0005cc1df467891c2e1479415419d",
        "IPY_MODEL_f38f47899da7407e80dd809ad43459b8"
       ],
       "layout": "IPY_MODEL_57837387a1554b3e85e686052ad67cf3"
      }
     },
     "f743ab34fe314b8a9d4e6d590e645b26": {
      "model_module": "@jupyter-widgets/controls",
      "model_module_version": "2.0.0",
      "model_name": "DescriptionStyleModel",
      "state": {
       "description_width": ""
      }
     },
     "f7c0ff48b0054f44b1f73b23b42929ba": {
      "model_module": "@jupyter-widgets/controls",
      "model_module_version": "2.0.0",
      "model_name": "DescriptionStyleModel",
      "state": {
       "description_width": ""
      }
     },
     "f840e1e8da7c4d3da371faa9d459d4d8": {
      "model_module": "@jupyter-widgets/controls",
      "model_module_version": "2.0.0",
      "model_name": "DescriptionStyleModel",
      "state": {
       "description_width": ""
      }
     },
     "f8bf1190fa5a4f16b16383bfd06e6dca": {
      "model_module": "@jupyter-widgets/controls",
      "model_module_version": "2.0.0",
      "model_name": "TextStyleModel",
      "state": {
       "description_width": "50px",
       "font_size": null,
       "text_color": null
      }
     },
     "f946ebeabc114db7acd0603dd73ba622": {
      "model_module": "@jupyter-widgets/controls",
      "model_module_version": "2.0.0",
      "model_name": "DescriptionStyleModel",
      "state": {
       "description_width": "initial"
      }
     },
     "f948765b124545db83e20e2c9b0db6e6": {
      "model_module": "@jupyter-widgets/controls",
      "model_module_version": "2.0.0",
      "model_name": "HTMLModel",
      "state": {
       "layout": "IPY_MODEL_efceec34a7b24ee6b82c48f34196a79c",
       "style": "IPY_MODEL_75e0f19b3abf49049d0098fc5eb8fa42",
       "value": "Downloading pytorch_model_00001-of-00072.bin:   1%"
      }
     },
     "f97b177422a24f97ad701d82eda48733": {
      "model_module": "@jupyter-widgets/controls",
      "model_module_version": "2.0.0",
      "model_name": "TextStyleModel",
      "state": {
       "description_width": "50px",
       "font_size": null,
       "text_color": null
      }
     },
     "f9e325431df049be855ba5cbfd61b4e0": {
      "model_module": "@jupyter-widgets/controls",
      "model_module_version": "2.0.0",
      "model_name": "DescriptionStyleModel",
      "state": {
       "description_width": ""
      }
     },
     "fa46dfcd4b684fac955427994d421d94": {
      "model_module": "@jupyter-widgets/base",
      "model_module_version": "2.0.0",
      "model_name": "LayoutModel",
      "state": {
       "grid_area": "widget001",
       "height": "400px",
       "width": "95%"
      }
     },
     "faf7fe39d9e246e49136a62105bd95df": {
      "model_module": "@jupyter-widgets/controls",
      "model_module_version": "2.0.0",
      "model_name": "DescriptionStyleModel",
      "state": {
       "description_width": "initial"
      }
     },
     "fb251523e4e34383a0390718c92964fd": {
      "model_module": "@jupyter-widgets/base",
      "model_module_version": "2.0.0",
      "model_name": "LayoutModel",
      "state": {
       "align_items": "center",
       "grid_template_areas": "\"widget001\"\n\"widget002\"\n\"widget003\"",
       "grid_template_columns": "repeat(1, 1fr)",
       "grid_template_rows": "repeat(3, 1fr)",
       "height": "250px"
      }
     },
     "fb4864a5e8354061af42efc99834d0e1": {
      "model_module": "@jupyter-widgets/controls",
      "model_module_version": "2.0.0",
      "model_name": "TextareaModel",
      "state": {
       "description": "Output",
       "layout": "IPY_MODEL_bdb59e97f1104635bc1b94f00b7a202d",
       "placeholder": "Translated sentence",
       "style": "IPY_MODEL_26429b73bdaa4174bcc64601e6e58558"
      }
     },
     "fb4ad0a3844a45febaa0a03db8aeb1f3": {
      "model_module": "@jupyter-widgets/controls",
      "model_module_version": "2.0.0",
      "model_name": "TextareaModel",
      "state": {
       "description": "Output",
       "layout": "IPY_MODEL_042b68a857e24d36967d82f7942a74e6",
       "placeholder": "Generated SQL",
       "style": "IPY_MODEL_e7204ccac0034bc88654d20d7bf60edd"
      }
     },
     "fbda30ec61cc42ac9da3240ac9b070a6": {
      "model_module": "@jupyter-widgets/base",
      "model_module_version": "2.0.0",
      "model_name": "LayoutModel",
      "state": {}
     },
     "fc093097005f4262895b079a6be2db8c": {
      "model_module": "@jupyter-widgets/base",
      "model_module_version": "2.0.0",
      "model_name": "LayoutModel",
      "state": {}
     },
     "fc37f8ae084346d98906242f57e503f6": {
      "model_module": "@jupyter-widgets/base",
      "model_module_version": "2.0.0",
      "model_name": "LayoutModel",
      "state": {
       "grid_area": "widget001",
       "width": "auto"
      }
     },
     "fd12e6fe33474f9b9115a262f3a47e57": {
      "model_module": "@jupyter-widgets/base",
      "model_module_version": "2.0.0",
      "model_name": "LayoutModel",
      "state": {
       "align_items": "center",
       "grid_template_areas": "\"widget001\"\n\"widget002\"\n\"widget003\"",
       "grid_template_columns": "repeat(1, 1fr)",
       "grid_template_rows": "repeat(3, 1fr)",
       "height": "250px"
      }
     },
     "fd38ee8b29c34cf9a50fc46992da257b": {
      "model_module": "@jupyter-widgets/base",
      "model_module_version": "2.0.0",
      "model_name": "LayoutModel",
      "state": {
       "grid_template_areas": "\"widget001\"\n\"widget002\"\n\"widget003\"",
       "grid_template_columns": "repeat(1, 1fr)",
       "grid_template_rows": "repeat(3, 1fr)",
       "height": "500px"
      }
     },
     "fd9bbaf2aa514446a217a89aaa2c2ae1": {
      "model_module": "@jupyter-widgets/controls",
      "model_module_version": "2.0.0",
      "model_name": "ButtonStyleModel",
      "state": {
       "font_family": null,
       "font_size": null,
       "font_style": null,
       "font_variant": null,
       "font_weight": null,
       "text_color": null,
       "text_decoration": null
      }
     },
     "fdc93da5649c48eeadd4e0376969d94d": {
      "model_module": "@jupyter-widgets/base",
      "model_module_version": "2.0.0",
      "model_name": "LayoutModel",
      "state": {
       "grid_area": "widget005",
       "width": "50%"
      }
     },
     "fe152ae6cef6463badbd29657f3893a4": {
      "model_module": "@jupyter-widgets/base",
      "model_module_version": "2.0.0",
      "model_name": "LayoutModel",
      "state": {
       "grid_area": "widget003",
       "width": "50%"
      }
     },
     "fe1cf438a485476ea4e9322ddefcfa43": {
      "model_module": "@jupyter-widgets/controls",
      "model_module_version": "2.0.0",
      "model_name": "ProgressStyleModel",
      "state": {
       "description_width": ""
      }
     },
     "ff0ca8fc88b847fb97d9c7c58e42cbe7": {
      "model_module": "@jupyter-widgets/controls",
      "model_module_version": "2.0.0",
      "model_name": "TextStyleModel",
      "state": {
       "description_width": "50px",
       "font_size": null,
       "text_color": null
      }
     },
     "ff816be8b74f4a3e9d124769b68b5415": {
      "model_module": "@jupyter-widgets/controls",
      "model_module_version": "2.0.0",
      "model_name": "TextareaModel",
      "state": {
       "description": "Input",
       "layout": "IPY_MODEL_960ed29770674fc68174cde3562918ba",
       "placeholder": "Enter the sentence to translate",
       "style": "IPY_MODEL_0269c2c6de2b44d184fcaa2b6c275d56",
       "value": "I am a student"
      }
     },
     "ffa59540676d4b1c80b1fc79c41d6110": {
      "model_module": "@jupyter-widgets/base",
      "model_module_version": "2.0.0",
      "model_name": "LayoutModel",
      "state": {
       "grid_template_areas": "\"widget001\"\n\"widget002\"\n\"widget003\"",
       "grid_template_columns": "repeat(1, 1fr)",
       "grid_template_rows": "repeat(3, 1fr)",
       "height": "500px"
      }
     }
    },
    "version_major": 2,
    "version_minor": 0
   }
  }
 },
 "nbformat": 4,
 "nbformat_minor": 5
}
