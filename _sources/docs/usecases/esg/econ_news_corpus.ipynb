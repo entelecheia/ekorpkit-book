{
 "cells": [
  {
   "cell_type": "markdown",
   "metadata": {
    "id": "cjgz1WTcPWee",
    "pycharm": {
     "name": "#%% md\n"
    },
    "slideshow": {
     "slide_type": "slide"
    },
    "tags": []
   },
   "source": [
    "# Building `econ_news_kr` corpus\n"
   ]
  },
  {
   "cell_type": "markdown",
   "metadata": {},
   "source": [
    "## Prepare an environment"
   ]
  },
  {
   "cell_type": "code",
   "execution_count": 1,
   "metadata": {
    "id": "BzxPwsOVPWef",
    "pycharm": {
     "name": "#%%\n"
    },
    "slideshow": {
     "slide_type": "slide"
    },
    "tags": []
   },
   "outputs": [
    {
     "name": "stdout",
     "output_type": "stream",
     "text": [
      "version: 0.1.38+26.g3d56094\n",
      "is notebook? True\n",
      "is colab? False\n",
      "environment variables:\n",
      "{'CUDA_DEVICE_ORDER': None,\n",
      " 'CUDA_VISIBLE_DEVICES': None,\n",
      " 'EKORPKIT_CONFIG_DIR': '/workspace/projects/ekorpkit-book/config',\n",
      " 'EKORPKIT_DATA_DIR': None,\n",
      " 'EKORPKIT_LOG_LEVEL': 'WARNING',\n",
      " 'EKORPKIT_PROJECT': 'ekorpkit-book',\n",
      " 'EKORPKIT_WORKSPACE_ROOT': '/workspace',\n",
      " 'KMP_DUPLICATE_LIB_OK': 'TRUE',\n",
      " 'NUM_WORKERS': 230}\n"
     ]
    }
   ],
   "source": [
    "# %config InlineBackend.figure_format='retina's\n",
    "from ekorpkit import eKonf\n",
    "\n",
    "eKonf.setLogger(\"WARNING\")\n",
    "print(\"version:\", eKonf.__version__)\n",
    "print(\"is notebook?\", eKonf.is_notebook())\n",
    "print(\"is colab?\", eKonf.is_colab())\n",
    "print(\"environment variables:\")\n",
    "eKonf.print(eKonf.env().dict())"
   ]
  },
  {
   "cell_type": "markdown",
   "metadata": {},
   "source": [
    "## Build a corpus"
   ]
  },
  {
   "cell_type": "code",
   "execution_count": 2,
   "metadata": {
    "pycharm": {
     "name": "#%%\n"
    },
    "tags": [
     "hide-cell"
    ]
   },
   "outputs": [],
   "source": [
    "data_dir = \"../data/econ_news_kr\""
   ]
  },
  {
   "cell_type": "markdown",
   "metadata": {
    "colab": {
     "base_uri": "https://localhost:8080/",
     "height": 1000,
     "referenced_widgets": [
      "8c65a541b1424bc895a358ec8c2955d0",
      "a1f39c5fb6e14bba94948ceed945c48e",
      "df825e76b09f4b40b0f22abd96afd9ec",
      "f2ba1273dc964523a52c645113dc15dc",
      "cf589159b5844031b2c07a2941d6d767",
      "c73b1e574c6148a79e919619e5337b13",
      "c3d0d587372c4cb185f70e2106460913",
      "42bba043a42e4a408017fa0c58fc89b1",
      "eca5b19cb1a8472f9803e056dc2e3edf",
      "1eec65bd4a4f4ac3a141ebfc0abf2fd7",
      "3a91d7fbcbe94220bb5e5edc4592ea44",
      "c0249a1e6b094b28afb32aa4c8ee6241",
      "b406dade33294912b357909432006a6f",
      "466cf119d61544108f7e9fc2743f90f4",
      "895fc91e766a4c5098cef03f21722754",
      "d933287033b244eb878dd8272163edbd",
      "b6329b07e3c9478a9934f014d2586c8a",
      "147722c8b38e43f4a74a8cbc4ff80132",
      "94ade840d70c440b901f0fefca36b700",
      "bb38b9fad3f6491cb0e4f5e13a00f402",
      "6c34cf9978fd4a0ab092db70ba5ca133",
      "b530f744c9914640b388e2c9ca7164be",
      "7f49f945e79c49558b5c23e413670ca4",
      "ad250bac857e4ba191178ff7aa0f21c2",
      "76c77c45dc2146a887d1a05d05a2b07c",
      "1bb668c7534d435a9f0a55c6eafb3755",
      "c504bb84cc5c4e0a9d8f4f5715ec6a03",
      "52688fc848054b3da375b73185519df2",
      "6c105fb7575745968215abddfc42d3a4",
      "c465acff35ef43cd8aa029289509f801",
      "cdce198d7e584538987b33ed590860d3",
      "3971c7c442bc4ff0ae1148a75034e989",
      "5beee945b7ed485eb3f7c8193d9c696a",
      "92753dfdb5854e12bc66bdc60072b5a1",
      "beb1d40680394747b535f2bbbbff8d75",
      "d86836fe655f4097abfe4297b3c33f27",
      "8670c085406a45ba9dff599d8e1bcfa0",
      "c5f11d5c87964550aacd9b477f2791aa",
      "b6188d143588467e90daa1c230748456",
      "5bef610b5d5c43549f174794559298a6",
      "2e3a25b1cfa34d6fac3ce2e33831ce71",
      "83214c0e91004c57b95a17f72c9ade8e",
      "4ea44db70fc14d839ef1e36b262197f1",
      "d751a8dd2711494695545cd8309a9add",
      "5af5d75e48bb409bb0201ae9b4bcbc7a",
      "12d5551a754b4c32a714fa0fa25096a6",
      "bb6c2a38a0e147d1a73bd510d0af4f55",
      "74b643eb567b4e1baa2edeab5314bf74",
      "0cc33597c6624a2fadc0454f1347e245",
      "ea8f5b8623a4457aa5e7028bd47d8f7c",
      "5e6bf9b1fe4a4b20a892690140fd153b",
      "03468bd389d649b6a5376a225393d580",
      "4741f650996042a5822de55078e32aaf",
      "e5610d32b9434cfaad97c84dff963517",
      "747bd5269293486fa5610b5ef989ad1a",
      "0a251d38928746c1bc8e811676078c84",
      "92c9e23051b84ec5a44f4535d384ea3d",
      "745247540de84e14ad7513d479500175",
      "f59dc69320884fdebf3c128cac03d50c",
      "6d5547298c504706b47369159b47b387",
      "3f1fdfa3512c45cc93ee00d0d9a65864",
      "a4905ccd3b6948f6b9a43353c444a712",
      "6fadeb5ed8e94808b87e91a6272cfa53",
      "11475267a3ae4986b70c2282fd4a0723",
      "a83cdec6d8764baaa94eb719d94bf0cf",
      "64dcc52bf9af461d92d605f60da57c10",
      "de057a7427694ca391cde9f8244706cd",
      "d973cb22de8a4980a93e42e5b02ec1b5",
      "ee954aeeaaed48a7acaf05112897a74e",
      "1092b9c63f5c4e5fab04337f55d6272f",
      "42039657cac3411389b3103129f74c17",
      "b937fee33d684033bbf93af5c98fa59c",
      "6c3a5ec1a3ec45c789611d5820b0a97b",
      "9686d1ab402d436b90deabb87782ac28",
      "f403433bd62c42bf88cb4007300ab14f",
      "c766e4a1c63f43a3ab2803b71a05f675",
      "e6cbaaf738b44a8bb26cf5364322476d"
     ]
    },
    "id": "hEVpCETEPWeg",
    "outputId": "f544db07-b0be-4c52-ed74-15de18f741ef",
    "pycharm": {
     "name": "#%%\n"
    },
    "scrolled": true
   },
   "source": [
    "```bash\n",
    "ekorpkit \\\n",
    "    project=esgml \\\n",
    "    dir.workspace=/workspace \\\n",
    "    verbose=true \\\n",
    "    print_config=false \\\n",
    "    num_workers=200 \\\n",
    "    cmd=fetch_builtin_corpus \\\n",
    "    +corpus/builtin=econ_news_kr \\\n",
    "    corpus.builtin.io.force.summarize=true \\\n",
    "    corpus.builtin.io.force.preprocess=true \\\n",
    "    corpus.builtin.io.force.build=true \\\n",
    "    corpus.builtin.io.force.download=false\n",
    "```    "
   ]
  },
  {
   "cell_type": "markdown",
   "metadata": {
    "id": "zpdqyeyPPWek",
    "pycharm": {
     "name": "#%% md\n"
    }
   },
   "source": [
    "## Load a corpus\n"
   ]
  },
  {
   "cell_type": "code",
   "execution_count": 3,
   "metadata": {
    "colab": {
     "base_uri": "https://localhost:8080/"
    },
    "id": "DFsykazvPWel",
    "outputId": "7ab40ae7-42ba-4b6c-f0da-908c6d45ddb9",
    "pycharm": {
     "name": "#%%\n"
    }
   },
   "outputs": [
    {
     "name": "stderr",
     "output_type": "stream",
     "text": [
      "INFO:ekorpkit.base:Loaded .env from /workspace/projects/ekorpkit-book/config/.env\n",
      "INFO:ekorpkit.base:setting environment variable CACHED_PATH_CACHE_ROOT to /workspace/.cache/cached_path\n",
      "INFO:ekorpkit.base:setting environment variable KMP_DUPLICATE_LIB_OK to TRUE\n"
     ]
    },
    {
     "name": "stdout",
     "output_type": "stream",
     "text": [
      "Corpus : econ_news_kr\n"
     ]
    }
   ],
   "source": [
    "corpus_cfg = eKonf.compose(\"corpus\", overrides=[\"project=esgml\"])\n",
    "corpus_cfg.name = \"econ_news_kr\"\n",
    "corpus_cfg.verbose = False\n",
    "econ_news_kr = eKonf.instantiate(corpus_cfg)\n",
    "print(econ_news_kr)"
   ]
  },
  {
   "cell_type": "code",
   "execution_count": 4,
   "metadata": {
    "colab": {
     "base_uri": "https://localhost:8080/",
     "height": 80
    },
    "id": "66U095XOPWel",
    "outputId": "df2c487f-8ca2-4963-fd8d-84de855d5e86",
    "pycharm": {
     "name": "#%%\n"
    }
   },
   "outputs": [
    {
     "data": {
      "text/html": [
       "<div>\n",
       "<style scoped>\n",
       "    .dataframe tbody tr th:only-of-type {\n",
       "        vertical-align: middle;\n",
       "    }\n",
       "\n",
       "    .dataframe tbody tr th {\n",
       "        vertical-align: top;\n",
       "    }\n",
       "\n",
       "    .dataframe thead th {\n",
       "        text-align: right;\n",
       "    }\n",
       "</style>\n",
       "<table border=\"1\" class=\"dataframe\">\n",
       "  <thead>\n",
       "    <tr style=\"text-align: right;\">\n",
       "      <th></th>\n",
       "      <th>id</th>\n",
       "      <th>date</th>\n",
       "      <th>code</th>\n",
       "      <th>category</th>\n",
       "      <th>filename</th>\n",
       "      <th>split</th>\n",
       "    </tr>\n",
       "  </thead>\n",
       "  <tbody>\n",
       "    <tr>\n",
       "      <th>0</th>\n",
       "      <td>0</td>\n",
       "      <td>2020-11-01 06:01:24</td>\n",
       "      <td>02100101</td>\n",
       "      <td>None</td>\n",
       "      <td>02100101.20201101060124001.txt</td>\n",
       "      <td>train</td>\n",
       "    </tr>\n",
       "    <tr>\n",
       "      <th>1</th>\n",
       "      <td>1</td>\n",
       "      <td>2020-11-01 08:27:23</td>\n",
       "      <td>02100101</td>\n",
       "      <td>None</td>\n",
       "      <td>02100101.20201101082723001.txt</td>\n",
       "      <td>train</td>\n",
       "    </tr>\n",
       "    <tr>\n",
       "      <th>2</th>\n",
       "      <td>2</td>\n",
       "      <td>2020-11-01 09:01:50</td>\n",
       "      <td>02100101</td>\n",
       "      <td>None</td>\n",
       "      <td>02100101.20201101090150001.txt</td>\n",
       "      <td>train</td>\n",
       "    </tr>\n",
       "    <tr>\n",
       "      <th>3</th>\n",
       "      <td>3</td>\n",
       "      <td>2020-11-01 09:05:15</td>\n",
       "      <td>02100101</td>\n",
       "      <td>None</td>\n",
       "      <td>02100101.20201101090515001.txt</td>\n",
       "      <td>train</td>\n",
       "    </tr>\n",
       "    <tr>\n",
       "      <th>4</th>\n",
       "      <td>4</td>\n",
       "      <td>2020-11-01 09:26:41</td>\n",
       "      <td>02100101</td>\n",
       "      <td>None</td>\n",
       "      <td>02100101.20201101092641001.txt</td>\n",
       "      <td>train</td>\n",
       "    </tr>\n",
       "    <tr>\n",
       "      <th>...</th>\n",
       "      <td>...</td>\n",
       "      <td>...</td>\n",
       "      <td>...</td>\n",
       "      <td>...</td>\n",
       "      <td>...</td>\n",
       "      <td>...</td>\n",
       "    </tr>\n",
       "    <tr>\n",
       "      <th>1090653</th>\n",
       "      <td>1090653</td>\n",
       "      <td>2022-02-28 18:49:28</td>\n",
       "      <td>02100851</td>\n",
       "      <td>None</td>\n",
       "      <td>02100851.20220228184928001.txt</td>\n",
       "      <td>train</td>\n",
       "    </tr>\n",
       "    <tr>\n",
       "      <th>1090654</th>\n",
       "      <td>1090654</td>\n",
       "      <td>2022-02-28 19:04:38</td>\n",
       "      <td>02100851</td>\n",
       "      <td>None</td>\n",
       "      <td>02100851.20220228190438002.txt</td>\n",
       "      <td>train</td>\n",
       "    </tr>\n",
       "    <tr>\n",
       "      <th>1090655</th>\n",
       "      <td>1090655</td>\n",
       "      <td>2022-02-28 19:37:36</td>\n",
       "      <td>02100851</td>\n",
       "      <td>None</td>\n",
       "      <td>02100851.20220228193736001.txt</td>\n",
       "      <td>train</td>\n",
       "    </tr>\n",
       "    <tr>\n",
       "      <th>1090656</th>\n",
       "      <td>1090656</td>\n",
       "      <td>2022-02-28 20:51:36</td>\n",
       "      <td>02100851</td>\n",
       "      <td>None</td>\n",
       "      <td>02100851.20220228205136001.txt</td>\n",
       "      <td>train</td>\n",
       "    </tr>\n",
       "    <tr>\n",
       "      <th>1090657</th>\n",
       "      <td>1090657</td>\n",
       "      <td>2022-02-28 22:33:23</td>\n",
       "      <td>02100851</td>\n",
       "      <td>None</td>\n",
       "      <td>02100851.20220228223323001.txt</td>\n",
       "      <td>train</td>\n",
       "    </tr>\n",
       "  </tbody>\n",
       "</table>\n",
       "<p>1090658 rows × 6 columns</p>\n",
       "</div>"
      ],
      "text/plain": [
       "              id                 date      code category  \\\n",
       "0              0  2020-11-01 06:01:24  02100101     None   \n",
       "1              1  2020-11-01 08:27:23  02100101     None   \n",
       "2              2  2020-11-01 09:01:50  02100101     None   \n",
       "3              3  2020-11-01 09:05:15  02100101     None   \n",
       "4              4  2020-11-01 09:26:41  02100101     None   \n",
       "...          ...                  ...       ...      ...   \n",
       "1090653  1090653  2022-02-28 18:49:28  02100851     None   \n",
       "1090654  1090654  2022-02-28 19:04:38  02100851     None   \n",
       "1090655  1090655  2022-02-28 19:37:36  02100851     None   \n",
       "1090656  1090656  2022-02-28 20:51:36  02100851     None   \n",
       "1090657  1090657  2022-02-28 22:33:23  02100851     None   \n",
       "\n",
       "                               filename  split  \n",
       "0        02100101.20201101060124001.txt  train  \n",
       "1        02100101.20201101082723001.txt  train  \n",
       "2        02100101.20201101090150001.txt  train  \n",
       "3        02100101.20201101090515001.txt  train  \n",
       "4        02100101.20201101092641001.txt  train  \n",
       "...                                 ...    ...  \n",
       "1090653  02100851.20220228184928001.txt  train  \n",
       "1090654  02100851.20220228190438002.txt  train  \n",
       "1090655  02100851.20220228193736001.txt  train  \n",
       "1090656  02100851.20220228205136001.txt  train  \n",
       "1090657  02100851.20220228223323001.txt  train  \n",
       "\n",
       "[1090658 rows x 6 columns]"
      ]
     },
     "execution_count": 4,
     "metadata": {},
     "output_type": "execute_result"
    }
   ],
   "source": [
    "econ_news_kr.metadata"
   ]
  },
  {
   "cell_type": "code",
   "execution_count": 5,
   "metadata": {
    "pycharm": {
     "name": "#%%\n"
    }
   },
   "outputs": [
    {
     "data": {
      "text/html": [
       "<div>\n",
       "<style scoped>\n",
       "    .dataframe tbody tr th:only-of-type {\n",
       "        vertical-align: middle;\n",
       "    }\n",
       "\n",
       "    .dataframe tbody tr th {\n",
       "        vertical-align: top;\n",
       "    }\n",
       "\n",
       "    .dataframe thead th {\n",
       "        text-align: right;\n",
       "    }\n",
       "</style>\n",
       "<table border=\"1\" class=\"dataframe\">\n",
       "  <thead>\n",
       "    <tr style=\"text-align: right;\">\n",
       "      <th></th>\n",
       "      <th>id</th>\n",
       "      <th>text</th>\n",
       "      <th>split</th>\n",
       "      <th>ext</th>\n",
       "    </tr>\n",
       "  </thead>\n",
       "  <tbody>\n",
       "    <tr>\n",
       "      <th>0</th>\n",
       "      <td>0</td>\n",
       "      <td>'사보'는 기업들의 소통수단이다. 계열사 정보 공유 측면도 있다. 또한 대외적으로 ...</td>\n",
       "      <td>train</td>\n",
       "      <td>txt</td>\n",
       "    </tr>\n",
       "    <tr>\n",
       "      <th>1</th>\n",
       "      <td>1</td>\n",
       "      <td>2030을 주축으로 한 이른바 '동학개미운동'이 계속되는 등 주식 투자 열풍이 사그...</td>\n",
       "      <td>train</td>\n",
       "      <td>txt</td>\n",
       "    </tr>\n",
       "    <tr>\n",
       "      <th>2</th>\n",
       "      <td>2</td>\n",
       "      <td>현대모비스가 사회적 거리두기 캠페인에 발맞춰 지난 2월부터 임시적으로 시행해오던 재...</td>\n",
       "      <td>train</td>\n",
       "      <td>txt</td>\n",
       "    </tr>\n",
       "    <tr>\n",
       "      <th>3</th>\n",
       "      <td>3</td>\n",
       "      <td>우리나라 수출이 한 달 만에 다시 감소세로 전환했다.\\n산업통상자원부는 10월 수출...</td>\n",
       "      <td>train</td>\n",
       "      <td>txt</td>\n",
       "    </tr>\n",
       "    <tr>\n",
       "      <th>4</th>\n",
       "      <td>4</td>\n",
       "      <td>국내 외식업계에 '푸드테크(Food+Technology)' 바람이 불고 있다. 매년...</td>\n",
       "      <td>train</td>\n",
       "      <td>txt</td>\n",
       "    </tr>\n",
       "    <tr>\n",
       "      <th>...</th>\n",
       "      <td>...</td>\n",
       "      <td>...</td>\n",
       "      <td>...</td>\n",
       "      <td>...</td>\n",
       "    </tr>\n",
       "    <tr>\n",
       "      <th>1090653</th>\n",
       "      <td>1090653</td>\n",
       "      <td>서울 시내 대형마트 가공식품 판매대[사진=연합]\\n\\n\\n 스팸과 리챔 등 캔햄 가...</td>\n",
       "      <td>train</td>\n",
       "      <td>txt</td>\n",
       "    </tr>\n",
       "    <tr>\n",
       "      <th>1090654</th>\n",
       "      <td>1090654</td>\n",
       "      <td>[로고=에치에프알]\\n\\n정보통신 기업 에치에프알(HFR)은 28일 일본 정보통신기...</td>\n",
       "      <td>train</td>\n",
       "      <td>txt</td>\n",
       "    </tr>\n",
       "    <tr>\n",
       "      <th>1090655</th>\n",
       "      <td>1090655</td>\n",
       "      <td>[사진=연합뉴스]\\n\\n\\n 한국거래소는 상장적격성 실질심사 대상으로 결정된 오스템...</td>\n",
       "      <td>train</td>\n",
       "      <td>txt</td>\n",
       "    </tr>\n",
       "    <tr>\n",
       "      <th>1090656</th>\n",
       "      <td>1090656</td>\n",
       "      <td>[사진=유대길 기자 dbeorlf123@ajunews.com]\\n\\n고승범 금융위원...</td>\n",
       "      <td>train</td>\n",
       "      <td>txt</td>\n",
       "    </tr>\n",
       "    <tr>\n",
       "      <th>1090657</th>\n",
       "      <td>1090657</td>\n",
       "      <td>[사진=아주경제 DB]\\n\\n\\n◆ [우크라 침공] 러·우크라 회담 개시… 회담 성...</td>\n",
       "      <td>train</td>\n",
       "      <td>txt</td>\n",
       "    </tr>\n",
       "  </tbody>\n",
       "</table>\n",
       "<p>1090658 rows × 4 columns</p>\n",
       "</div>"
      ],
      "text/plain": [
       "              id                                               text  split  \\\n",
       "0              0  '사보'는 기업들의 소통수단이다. 계열사 정보 공유 측면도 있다. 또한 대외적으로 ...  train   \n",
       "1              1  2030을 주축으로 한 이른바 '동학개미운동'이 계속되는 등 주식 투자 열풍이 사그...  train   \n",
       "2              2  현대모비스가 사회적 거리두기 캠페인에 발맞춰 지난 2월부터 임시적으로 시행해오던 재...  train   \n",
       "3              3  우리나라 수출이 한 달 만에 다시 감소세로 전환했다.\\n산업통상자원부는 10월 수출...  train   \n",
       "4              4  국내 외식업계에 '푸드테크(Food+Technology)' 바람이 불고 있다. 매년...  train   \n",
       "...          ...                                                ...    ...   \n",
       "1090653  1090653  서울 시내 대형마트 가공식품 판매대[사진=연합]\\n\\n\\n 스팸과 리챔 등 캔햄 가...  train   \n",
       "1090654  1090654  [로고=에치에프알]\\n\\n정보통신 기업 에치에프알(HFR)은 28일 일본 정보통신기...  train   \n",
       "1090655  1090655  [사진=연합뉴스]\\n\\n\\n 한국거래소는 상장적격성 실질심사 대상으로 결정된 오스템...  train   \n",
       "1090656  1090656  [사진=유대길 기자 dbeorlf123@ajunews.com]\\n\\n고승범 금융위원...  train   \n",
       "1090657  1090657  [사진=아주경제 DB]\\n\\n\\n◆ [우크라 침공] 러·우크라 회담 개시… 회담 성...  train   \n",
       "\n",
       "         ext  \n",
       "0        txt  \n",
       "1        txt  \n",
       "2        txt  \n",
       "3        txt  \n",
       "4        txt  \n",
       "...      ...  \n",
       "1090653  txt  \n",
       "1090654  txt  \n",
       "1090655  txt  \n",
       "1090656  txt  \n",
       "1090657  txt  \n",
       "\n",
       "[1090658 rows x 4 columns]"
      ]
     },
     "execution_count": 5,
     "metadata": {},
     "output_type": "execute_result"
    }
   ],
   "source": [
    "econ_news_kr.data"
   ]
  },
  {
   "cell_type": "code",
   "execution_count": 14,
   "metadata": {
    "pycharm": {
     "name": "#%%\n"
    }
   },
   "outputs": [
    {
     "name": "stderr",
     "output_type": "stream",
     "text": [
      "INFO:ekorpkit.base:instantiating ekorpkit.pipelines.pipe.pipeline...\n",
      "INFO:ekorpkit.base:instantiating ekorpkit.pipelines.data.Data...\n",
      "INFO:ekorpkit.datasets.base:Loaded info file: /workspace/data/datasets/corpus/ekorpkit/econ_news_kr/info-econ_news_kr.yaml\n",
      "INFO:ekorpkit.io.file:Processing [1] files from ['econ_news_kr-train.parquet']\n",
      "INFO:ekorpkit.io.file:Loading 1 dataframes from ['/workspace/data/datasets/corpus/ekorpkit/econ_news_kr/econ_news_kr-train.parquet']\n",
      "INFO:ekorpkit.io.file:Loading data from /workspace/data/datasets/corpus/ekorpkit/econ_news_kr/econ_news_kr-train.parquet\n",
      "INFO:ekorpkit.info.column:index: index, index of data: None, columns: ['id', 'text', 'split', 'ext'], id: ['id']\n",
      "INFO:ekorpkit.info.column:Adding id [split] to ['id']\n",
      "INFO:ekorpkit.info.column:Added id [split], now ['id', 'split']\n",
      "INFO:ekorpkit.info.column:Added a column [split] with value [train]\n",
      "INFO:ekorpkit.io.file:Processing [1] files from ['meta-econ_news_kr-train.parquet']\n",
      "INFO:ekorpkit.io.file:Loading 1 dataframes from ['/workspace/data/datasets/corpus/ekorpkit/econ_news_kr/meta-econ_news_kr-train.parquet']\n",
      "INFO:ekorpkit.io.file:Loading data from /workspace/data/datasets/corpus/ekorpkit/econ_news_kr/meta-econ_news_kr-train.parquet\n",
      "INFO:ekorpkit.info.column:Added a column [split] with value [train]\n",
      "INFO:ekorpkit.info.column:No timestamp key found\n",
      "INFO:ekorpkit.io.file:Concatenating 1 dataframes\n",
      "INFO:ekorpkit.pipelines.pipe:Applying pipeline: OrderedDict([('chunk', 'chunk'), ('explode_splits', 'explode_splits'), ('reset_index', 'reset_index'), ('save_dataframe', 'save_dataframe')])\n",
      "INFO:ekorpkit.base:Applying pipe: functools.partial(<function chunk at 0x7f0faefeb670>)\n",
      "INFO:ekorpkit.pipelines.pipe:instantiating segmenter\n",
      "INFO:ekorpkit.base:instantiating ekorpkit.preprocessors.segmenter.Segmenter...\n",
      "INFO:ekorpkit.base:Using batcher with minibatch size: 1000\n",
      "INFO:ekorpkit.utils.batch.batcher: backend: joblib  minibatch_size: 1000  procs: 230  input_split: False  merge_output: True  len(data): 1090658 len(args): 5\n"
     ]
    },
    {
     "data": {
      "application/json": {
       "ascii": false,
       "bar_format": null,
       "colour": null,
       "elapsed": 0.013861894607543945,
       "initial": 0,
       "n": 0,
       "ncols": null,
       "nrows": null,
       "postfix": null,
       "prefix": "Chunking column: text",
       "rate": null,
       "total": 1091,
       "unit": "it",
       "unit_divisor": 1000,
       "unit_scale": false
      },
      "application/vnd.jupyter.widget-view+json": {
       "model_id": "948e0082d7a44b2986d777fe0b4b57c7",
       "version_major": 2,
       "version_minor": 0
      },
      "text/plain": [
       "Chunking column: text:   0%|          | 0/1091 [00:00<?, ?it/s]"
      ]
     },
     "metadata": {},
     "output_type": "display_data"
    },
    {
     "name": "stderr",
     "output_type": "stream",
     "text": [
      "INFO:ekorpkit.pipelines.pipe: >> elapsed time to segment: 0:00:45.203924\n",
      "INFO:ekorpkit.base:Applying pipe: functools.partial(<function explode_splits at 0x7f0faefeb040>)\n",
      "INFO:ekorpkit.pipelines.pipe:Exploding column: {'_func_': {'_partial_': True, '_target_': 'ekorpkit.pipelines.pipe.explode_splits'}, 'apply_to': 'text', 'id_key': 'id', 'split_key': 'chunk_id', 'separator': '\\n\\n', 'verbose': True}\n",
      "INFO:ekorpkit.pipelines.pipe:1090658 documents exploded into 1816019 documents\n",
      "INFO:ekorpkit.base:Applying pipe: functools.partial(<function reset_index at 0x7f0faefeb160>)\n",
      "INFO:ekorpkit.pipelines.pipe:Resetting index: {'_func_': {'_partial_': True, '_target_': 'ekorpkit.pipelines.pipe.reset_index'}, 'index_column_name': 'id', 'drop_index': True, 'verbose': True}\n",
      "INFO:ekorpkit.base:Applying pipe: functools.partial(<function save_dataframe at 0x7f0faefebe50>)\n",
      "INFO:ekorpkit.io.file:Saving dataframe to ../data/econ_news_kr/econ_news_kr_chunks.parquet\n"
     ]
    },
    {
     "name": "stdout",
     "output_type": "stream",
     "text": [
      "   id                                               text  split  ext  chunk_id\n",
      "0   0  '사보'는 기업들의 소통수단이다. 계열사 정보 공유 측면도 있다. 또한 대외적으로 ...  train  txt         0\n",
      "1   0  안병덕 코오롱그룹 부회장은 \"사보를 통해 코오롱인은 하나가 되었고, 자긍심을 키워왔...  train  txt         1\n",
      "2   0  코오롱 관계자는 \"600호에 이르기까지 인쇄 사보를 중심으로 온라인, 모바일 환경 ...  train  txt         2\n",
      "3   1  2030을 주축으로 한 이른바 '동학개미운동'이 계속되는 등 주식 투자 열풍이 사그...  train  txt         0\n",
      "4   1  한국투자증권은 지난 8월 소액으로 투자 가능한 해외주식 모바일 앱 '미니스탁'을 선...  train  txt         1\n"
     ]
    },
    {
     "name": "stderr",
     "output_type": "stream",
     "text": [
      "INFO:ekorpkit.io.file: >> elapsed time to save data: 0:03:28.173666\n"
     ]
    },
    {
     "data": {
      "text/html": [
       "<div>\n",
       "<style scoped>\n",
       "    .dataframe tbody tr th:only-of-type {\n",
       "        vertical-align: middle;\n",
       "    }\n",
       "\n",
       "    .dataframe tbody tr th {\n",
       "        vertical-align: top;\n",
       "    }\n",
       "\n",
       "    .dataframe thead th {\n",
       "        text-align: right;\n",
       "    }\n",
       "</style>\n",
       "<table border=\"1\" class=\"dataframe\">\n",
       "  <thead>\n",
       "    <tr style=\"text-align: right;\">\n",
       "      <th></th>\n",
       "      <th>id</th>\n",
       "      <th>text</th>\n",
       "      <th>split</th>\n",
       "      <th>ext</th>\n",
       "      <th>chunk_id</th>\n",
       "    </tr>\n",
       "  </thead>\n",
       "  <tbody>\n",
       "    <tr>\n",
       "      <th>0</th>\n",
       "      <td>0</td>\n",
       "      <td>'사보'는 기업들의 소통수단이다. 계열사 정보 공유 측면도 있다. 또한 대외적으로 ...</td>\n",
       "      <td>train</td>\n",
       "      <td>txt</td>\n",
       "      <td>0</td>\n",
       "    </tr>\n",
       "    <tr>\n",
       "      <th>1</th>\n",
       "      <td>0</td>\n",
       "      <td>안병덕 코오롱그룹 부회장은 \"사보를 통해 코오롱인은 하나가 되었고, 자긍심을 키워왔...</td>\n",
       "      <td>train</td>\n",
       "      <td>txt</td>\n",
       "      <td>1</td>\n",
       "    </tr>\n",
       "    <tr>\n",
       "      <th>2</th>\n",
       "      <td>0</td>\n",
       "      <td>코오롱 관계자는 \"600호에 이르기까지 인쇄 사보를 중심으로 온라인, 모바일 환경 ...</td>\n",
       "      <td>train</td>\n",
       "      <td>txt</td>\n",
       "      <td>2</td>\n",
       "    </tr>\n",
       "    <tr>\n",
       "      <th>3</th>\n",
       "      <td>1</td>\n",
       "      <td>2030을 주축으로 한 이른바 '동학개미운동'이 계속되는 등 주식 투자 열풍이 사그...</td>\n",
       "      <td>train</td>\n",
       "      <td>txt</td>\n",
       "      <td>0</td>\n",
       "    </tr>\n",
       "    <tr>\n",
       "      <th>4</th>\n",
       "      <td>1</td>\n",
       "      <td>한국투자증권은 지난 8월 소액으로 투자 가능한 해외주식 모바일 앱 '미니스탁'을 선...</td>\n",
       "      <td>train</td>\n",
       "      <td>txt</td>\n",
       "      <td>1</td>\n",
       "    </tr>\n",
       "    <tr>\n",
       "      <th>...</th>\n",
       "      <td>...</td>\n",
       "      <td>...</td>\n",
       "      <td>...</td>\n",
       "      <td>...</td>\n",
       "      <td>...</td>\n",
       "    </tr>\n",
       "    <tr>\n",
       "      <th>1816014</th>\n",
       "      <td>1090655</td>\n",
       "      <td>[사진=연합뉴스]\\n 한국거래소는 상장적격성 실질심사 대상으로 결정된 오스템임플란트...</td>\n",
       "      <td>train</td>\n",
       "      <td>txt</td>\n",
       "      <td>0</td>\n",
       "    </tr>\n",
       "    <tr>\n",
       "      <th>1816015</th>\n",
       "      <td>1090656</td>\n",
       "      <td>[사진=유대길 기자 dbeorlf123@ajunews.com]\\n고승범 금융위원장이...</td>\n",
       "      <td>train</td>\n",
       "      <td>txt</td>\n",
       "      <td>0</td>\n",
       "    </tr>\n",
       "    <tr>\n",
       "      <th>1816016</th>\n",
       "      <td>1090657</td>\n",
       "      <td>[사진=아주경제 DB]\\n◆ [우크라 침공] 러·우크라 회담 개시… 회담 성과는 미...</td>\n",
       "      <td>train</td>\n",
       "      <td>txt</td>\n",
       "      <td>0</td>\n",
       "    </tr>\n",
       "    <tr>\n",
       "      <th>1816017</th>\n",
       "      <td>1090657</td>\n",
       "      <td>서울시 등 각 지방자치단체에 따르면 이날 0시부터 오후 9시까지 전국 17개 시도에...</td>\n",
       "      <td>train</td>\n",
       "      <td>txt</td>\n",
       "      <td>1</td>\n",
       "    </tr>\n",
       "    <tr>\n",
       "      <th>1816018</th>\n",
       "      <td>1090657</td>\n",
       "      <td>청년희망적금은 정부가 청년층의 자산형성을 돕기 위해 내놓은 정책금융 상품이다. 직전...</td>\n",
       "      <td>train</td>\n",
       "      <td>txt</td>\n",
       "      <td>2</td>\n",
       "    </tr>\n",
       "  </tbody>\n",
       "</table>\n",
       "<p>1816019 rows × 5 columns</p>\n",
       "</div>"
      ],
      "text/plain": [
       "              id                                               text  split  \\\n",
       "0              0  '사보'는 기업들의 소통수단이다. 계열사 정보 공유 측면도 있다. 또한 대외적으로 ...  train   \n",
       "1              0  안병덕 코오롱그룹 부회장은 \"사보를 통해 코오롱인은 하나가 되었고, 자긍심을 키워왔...  train   \n",
       "2              0  코오롱 관계자는 \"600호에 이르기까지 인쇄 사보를 중심으로 온라인, 모바일 환경 ...  train   \n",
       "3              1  2030을 주축으로 한 이른바 '동학개미운동'이 계속되는 등 주식 투자 열풍이 사그...  train   \n",
       "4              1  한국투자증권은 지난 8월 소액으로 투자 가능한 해외주식 모바일 앱 '미니스탁'을 선...  train   \n",
       "...          ...                                                ...    ...   \n",
       "1816014  1090655  [사진=연합뉴스]\\n 한국거래소는 상장적격성 실질심사 대상으로 결정된 오스템임플란트...  train   \n",
       "1816015  1090656  [사진=유대길 기자 dbeorlf123@ajunews.com]\\n고승범 금융위원장이...  train   \n",
       "1816016  1090657  [사진=아주경제 DB]\\n◆ [우크라 침공] 러·우크라 회담 개시… 회담 성과는 미...  train   \n",
       "1816017  1090657  서울시 등 각 지방자치단체에 따르면 이날 0시부터 오후 9시까지 전국 17개 시도에...  train   \n",
       "1816018  1090657  청년희망적금은 정부가 청년층의 자산형성을 돕기 위해 내놓은 정책금융 상품이다. 직전...  train   \n",
       "\n",
       "         ext  chunk_id  \n",
       "0        txt         0  \n",
       "1        txt         1  \n",
       "2        txt         2  \n",
       "3        txt         0  \n",
       "4        txt         1  \n",
       "...      ...       ...  \n",
       "1816014  txt         0  \n",
       "1816015  txt         0  \n",
       "1816016  txt         0  \n",
       "1816017  txt         1  \n",
       "1816018  txt         2  \n",
       "\n",
       "[1816019 rows x 5 columns]"
      ]
     },
     "execution_count": 14,
     "metadata": {},
     "output_type": "execute_result"
    }
   ],
   "source": [
    "cfg = eKonf.compose(\"pipeline\", overrides=[\"project=esgml\"])\n",
    "cfg.data.corpus = corpus_cfg\n",
    "cfg._pipeline_ = [\"chunk\", \"explode_splits\", \"reset_index\", \"save_dataframe\"]\n",
    "cfg.chunk.len_func = \"len_words\"\n",
    "cfg.chunk.chunk_size = 200\n",
    "cfg.explode_splits.id_key = \"id\"\n",
    "cfg.explode_splits.split_key = \"chunk_id\"\n",
    "cfg.explode_splits.separator = \"\\n\\n\"\n",
    "cfg.reset_index.drop_index = True\n",
    "cfg.save_dataframe.output_dir = data_dir\n",
    "cfg.save_dataframe.output_file = \"econ_news_kr_chunks.parquet\"\n",
    "chunk_df = eKonf.instantiate(cfg)\n",
    "chunk_df"
   ]
  },
  {
   "cell_type": "code",
   "execution_count": 6,
   "metadata": {
    "pycharm": {
     "name": "#%%\n"
    }
   },
   "outputs": [
    {
     "name": "stdout",
     "output_type": "stream",
     "text": [
      "347 768\n"
     ]
    }
   ],
   "source": [
    "chunk_df = eKonf.load_data(\"econ_news_kr_chunks.parquet\", data_dir)"
   ]
  },
  {
   "cell_type": "code",
   "execution_count": 16,
   "metadata": {
    "pycharm": {
     "name": "#%%\n"
    }
   },
   "outputs": [
    {
     "data": {
      "text/plain": [
       "'\\'사보\\'는 기업들의 소통수단이다. 계열사 정보 공유 측면도 있다. 또한 대외적으로 기업을 알리는 수단이다. 그런데 최근 사보를 중단하거나, 종이 대신 온라인 사보로 대체하는 기업들이 늘어나고 있다. 사보 대신 SNS 등을 통해 사내 소통에 나선 기업들도 많다. 종이 사보도 자취를 감춰가고 있는 중에도 책자 형태 사보를 고수하는 대기업이 있다. 최근 600호를 발행한 코오롱그룹이다.\\n이웅열 코오롱그룹 명예회장은 600호 사보를 통해 \"사보는 코오롱 가족 모두가 함께 걸어온 발자취이자 코오롱만의 희로애락이 담긴 일기장\"이라며 \"코오롱 사보가 과거 기록으로 그치지 않고 코오롱의 미래를 위한 소통의 역할을 해 나가길 바란다\"고 밝혔다.\\n코오롱 사보는 이원만 창업 회장 시절인 1967년 8월 창간됐다. 당시 이름은 코오롱뉴스였다. 1970년 6월 코오롱뉴스에서 코오롱사보로 제호를 변경했으며, 1976년 5월 문화공보부에 월간 정기간행물 등록을 했다. 그해 9월엔 100호 사보가 발행됐다. 1977년엔 이동찬 코오롱그룹 2대 회장이 취임했다.\\n1980년대 해외진출이 본격화하면서, 1981년 10월엔 해외지사 탐방기사가 사보에 처음으로 등장했다. 85년 200호에 이어 94년 300호 사보가 나왔다. 1997년 5월엔 코오롱그룹 창립 40주년 특집호를 발행했다. IMF 외환위기는 사보에도 영향을 미쳤다. 월간으로 발행되던 사보는 1998년 1월부터 1999년 12월까지 격월간으로 발행됐다. 2000년 1월 다시 매월 발행되기 시작했으며, 2004년 2월 400호엔 이웅열 당시 회장 인터뷰도 수록됐다. 2012년 1월 모바일 사보가 등장했으며, 그해 6월 500호 사보가 나왔다. 이웅열 회장은 2018년 11월 퇴임을 발표했으며, 장남 이규호 전무는 코오롱인더스트리 FnC부문 COO(최고운영책임자)다.'"
      ]
     },
     "execution_count": 16,
     "metadata": {},
     "output_type": "execute_result"
    }
   ],
   "source": [
    "chunk_df.text[0]"
   ]
  },
  {
   "cell_type": "code",
   "execution_count": 7,
   "metadata": {},
   "outputs": [
    {
     "data": {
      "text/plain": [
       "id          1090658\n",
       "text        1740421\n",
       "split             1\n",
       "ext               1\n",
       "chunk_id         33\n",
       "dtype: int64"
      ]
     },
     "execution_count": 7,
     "metadata": {},
     "output_type": "execute_result"
    }
   ],
   "source": [
    "chunk_df.nunique()"
   ]
  },
  {
   "cell_type": "markdown",
   "metadata": {
    "pycharm": {
     "name": "#%% md\n"
    }
   },
   "source": [
    "## Load company code info\n"
   ]
  },
  {
   "cell_type": "code",
   "execution_count": 8,
   "metadata": {
    "pycharm": {
     "name": "#%%\n"
    },
    "scrolled": true,
    "tags": [
     "hide-output"
    ]
   },
   "outputs": [
    {
     "name": "stdout",
     "output_type": "stream",
     "text": [
      "{'filename': '20200101_20200115.txt', 'codes': '02100101.20200101040200001,000660,005930'}\n"
     ]
    }
   ],
   "source": [
    "cfg = eKonf.compose(\"io/loader=plaintext_parser\")\n",
    "cfg.data_dir = \"/workspace/data/tbts/archive/datasets/source/econ_news_kr\"\n",
    "cfg.data_sources = \"20220905_company50.zip\"\n",
    "cfg.data.item = dict(filename=\"filename\", codes=\"codes\")\n",
    "cfg.parser.split = True\n",
    "cfg.parser.data_key = \"codes\"\n",
    "cfg.parser.progress_per = None\n",
    "code_info = eKonf.load_data(**cfg)\n",
    "eKonf.save_data(code_info, \"econ_news_code_info_20220905.parquet\", data_dir)"
   ]
  },
  {
   "cell_type": "code",
   "execution_count": 9,
   "metadata": {
    "pycharm": {
     "name": "#%%\n"
    }
   },
   "outputs": [
    {
     "data": {
      "text/html": [
       "<div>\n",
       "<style scoped>\n",
       "    .dataframe tbody tr th:only-of-type {\n",
       "        vertical-align: middle;\n",
       "    }\n",
       "\n",
       "    .dataframe tbody tr th {\n",
       "        vertical-align: top;\n",
       "    }\n",
       "\n",
       "    .dataframe thead th {\n",
       "        text-align: right;\n",
       "    }\n",
       "</style>\n",
       "<table border=\"1\" class=\"dataframe\">\n",
       "  <thead>\n",
       "    <tr style=\"text-align: right;\">\n",
       "      <th></th>\n",
       "      <th>filename</th>\n",
       "      <th>codes</th>\n",
       "      <th>len</th>\n",
       "      <th>num_codes</th>\n",
       "    </tr>\n",
       "  </thead>\n",
       "  <tbody>\n",
       "    <tr>\n",
       "      <th>0</th>\n",
       "      <td>02100101.20200101040200001.txt</td>\n",
       "      <td>000660</td>\n",
       "      <td>40</td>\n",
       "      <td>2</td>\n",
       "    </tr>\n",
       "    <tr>\n",
       "      <th>1</th>\n",
       "      <td>02100101.20200101040200001.txt</td>\n",
       "      <td>005930</td>\n",
       "      <td>40</td>\n",
       "      <td>2</td>\n",
       "    </tr>\n",
       "    <tr>\n",
       "      <th>2</th>\n",
       "      <td>02100101.20200101040200002.txt</td>\n",
       "      <td>005930</td>\n",
       "      <td>40</td>\n",
       "      <td>2</td>\n",
       "    </tr>\n",
       "    <tr>\n",
       "      <th>3</th>\n",
       "      <td>02100101.20200101040200002.txt</td>\n",
       "      <td>066570</td>\n",
       "      <td>40</td>\n",
       "      <td>2</td>\n",
       "    </tr>\n",
       "    <tr>\n",
       "      <th>4</th>\n",
       "      <td>02100101.20200101040202001.txt</td>\n",
       "      <td>000270</td>\n",
       "      <td>40</td>\n",
       "      <td>2</td>\n",
       "    </tr>\n",
       "    <tr>\n",
       "      <th>...</th>\n",
       "      <td>...</td>\n",
       "      <td>...</td>\n",
       "      <td>...</td>\n",
       "      <td>...</td>\n",
       "    </tr>\n",
       "    <tr>\n",
       "      <th>198598</th>\n",
       "      <td>02100851.20220531150108001.txt</td>\n",
       "      <td>032640</td>\n",
       "      <td>47</td>\n",
       "      <td>3</td>\n",
       "    </tr>\n",
       "    <tr>\n",
       "      <th>198599</th>\n",
       "      <td>02100851.20220531150108001.txt</td>\n",
       "      <td>017670</td>\n",
       "      <td>47</td>\n",
       "      <td>3</td>\n",
       "    </tr>\n",
       "    <tr>\n",
       "      <th>198600</th>\n",
       "      <td>02100851.20220531150108001.txt</td>\n",
       "      <td>030200</td>\n",
       "      <td>47</td>\n",
       "      <td>3</td>\n",
       "    </tr>\n",
       "    <tr>\n",
       "      <th>198601</th>\n",
       "      <td>02100851.20220531154303001.txt</td>\n",
       "      <td>006400</td>\n",
       "      <td>40</td>\n",
       "      <td>2</td>\n",
       "    </tr>\n",
       "    <tr>\n",
       "      <th>198602</th>\n",
       "      <td>02100851.20220531154303001.txt</td>\n",
       "      <td>051910</td>\n",
       "      <td>40</td>\n",
       "      <td>2</td>\n",
       "    </tr>\n",
       "  </tbody>\n",
       "</table>\n",
       "<p>198603 rows × 4 columns</p>\n",
       "</div>"
      ],
      "text/plain": [
       "                              filename   codes  len  num_codes\n",
       "0       02100101.20200101040200001.txt  000660   40          2\n",
       "1       02100101.20200101040200001.txt  005930   40          2\n",
       "2       02100101.20200101040200002.txt  005930   40          2\n",
       "3       02100101.20200101040200002.txt  066570   40          2\n",
       "4       02100101.20200101040202001.txt  000270   40          2\n",
       "...                                ...     ...  ...        ...\n",
       "198598  02100851.20220531150108001.txt  032640   47          3\n",
       "198599  02100851.20220531150108001.txt  017670   47          3\n",
       "198600  02100851.20220531150108001.txt  030200   47          3\n",
       "198601  02100851.20220531154303001.txt  006400   40          2\n",
       "198602  02100851.20220531154303001.txt  051910   40          2\n",
       "\n",
       "[198603 rows x 4 columns]"
      ]
     },
     "execution_count": 9,
     "metadata": {},
     "output_type": "execute_result"
    }
   ],
   "source": [
    "code_info[\"len\"] = code_info.codes.str.len()\n",
    "code_info_available = code_info[code_info.len > 26]\n",
    "code_info_available[\"filename\"] = code_info_available.codes.str[:26] + \".txt\"\n",
    "code_info_available[\"codes\"] = code_info_available.codes.str[27:]\n",
    "code_info_available[\"codes\"] = code_info_available.codes.str.split(\",\")\n",
    "code_info_available[\"num_codes\"] = code_info_available[\"codes\"].apply(len)\n",
    "code_info_available = code_info_available.explode(\"codes\").reset_index(drop=True)\n",
    "\n",
    "eKonf.save_data(code_info_available, \"econ_news_code_info_available_20220905.parquet\", data_dir)\n",
    "code_info_available"
   ]
  },
  {
   "cell_type": "code",
   "execution_count": 10,
   "metadata": {},
   "outputs": [
    {
     "data": {
      "text/plain": [
       "filename     74614\n",
       "codes           50\n",
       "len             19\n",
       "num_codes       19\n",
       "dtype: int64"
      ]
     },
     "execution_count": 10,
     "metadata": {},
     "output_type": "execute_result"
    }
   ],
   "source": [
    "code_info_available.nunique()"
   ]
  },
  {
   "cell_type": "code",
   "execution_count": 11,
   "metadata": {
    "pycharm": {
     "name": "#%%\n"
    }
   },
   "outputs": [
    {
     "data": {
      "text/plain": [
       "<AxesSubplot:>"
      ]
     },
     "execution_count": 11,
     "metadata": {},
     "output_type": "execute_result"
    },
    {
     "data": {
      "image/png": "[encoded data removed]",
      "text/plain": [
       "<Figure size 432x288 with 1 Axes>"
      ]
     },
     "metadata": {
      "needs_background": "light"
     },
     "output_type": "display_data"
    }
   ],
   "source": [
    "code_info_available.num_codes.hist(bins=50)"
   ]
  },
  {
   "cell_type": "markdown",
   "metadata": {
    "pycharm": {
     "name": "#%% md\n"
    }
   },
   "source": [
    "## Filter out data without code info\n"
   ]
  },
  {
   "cell_type": "code",
   "execution_count": 14,
   "metadata": {
    "pycharm": {
     "name": "#%%\n"
    }
   },
   "outputs": [
    {
     "data": {
      "text/html": [
       "<div>\n",
       "<style scoped>\n",
       "    .dataframe tbody tr th:only-of-type {\n",
       "        vertical-align: middle;\n",
       "    }\n",
       "\n",
       "    .dataframe tbody tr th {\n",
       "        vertical-align: top;\n",
       "    }\n",
       "\n",
       "    .dataframe thead th {\n",
       "        text-align: right;\n",
       "    }\n",
       "</style>\n",
       "<table border=\"1\" class=\"dataframe\">\n",
       "  <thead>\n",
       "    <tr style=\"text-align: right;\">\n",
       "      <th></th>\n",
       "      <th>id</th>\n",
       "      <th>chunk_id</th>\n",
       "      <th>text</th>\n",
       "      <th>filename</th>\n",
       "    </tr>\n",
       "  </thead>\n",
       "  <tbody>\n",
       "    <tr>\n",
       "      <th>0</th>\n",
       "      <td>11</td>\n",
       "      <td>0</td>\n",
       "      <td>문재인 대통령이 지난해 전용차로 선택한 수소전기차 '넥쏘'가 중·장년층 남성들로부터...</td>\n",
       "      <td>02100101.20201101113442001.txt</td>\n",
       "    </tr>\n",
       "    <tr>\n",
       "      <th>1</th>\n",
       "      <td>11</td>\n",
       "      <td>1</td>\n",
       "      <td>넥쏘는 국내 뿐만 아니라 해외에서도 코로나19 확산 여파를 이겨내고 질주하고 있다....</td>\n",
       "      <td>02100101.20201101113442001.txt</td>\n",
       "    </tr>\n",
       "    <tr>\n",
       "      <th>2</th>\n",
       "      <td>19</td>\n",
       "      <td>0</td>\n",
       "      <td>LG전자는 국내 최대 쇼핑 행사 ‘2020 코리아세일페스타’에 맞춰 11월 1일부터...</td>\n",
       "      <td>02100101.20201101125903001.txt</td>\n",
       "    </tr>\n",
       "    <tr>\n",
       "      <th>3</th>\n",
       "      <td>20</td>\n",
       "      <td>0</td>\n",
       "      <td>SK는 그룹 8개 관계사가 한국 최초로 ‘RE100’에 가입한다고 1일 밝혔다.\\n...</td>\n",
       "      <td>02100101.20201101130118001.txt</td>\n",
       "    </tr>\n",
       "    <tr>\n",
       "      <th>4</th>\n",
       "      <td>20</td>\n",
       "      <td>1</td>\n",
       "      <td>SK 8개사가 신청서를 제출하면 더 클라이밋 그룹의 검토를 거친 후 가입이 최종 확...</td>\n",
       "      <td>02100101.20201101130118001.txt</td>\n",
       "    </tr>\n",
       "    <tr>\n",
       "      <th>...</th>\n",
       "      <td>...</td>\n",
       "      <td>...</td>\n",
       "      <td>...</td>\n",
       "      <td>...</td>\n",
       "    </tr>\n",
       "    <tr>\n",
       "      <th>160582</th>\n",
       "      <td>1090535</td>\n",
       "      <td>1</td>\n",
       "      <td>업종별로 하락한 업종은 운수창고(-1.22%), 운수장비(-1.12%), 전기전자(...</td>\n",
       "      <td>02100851.20220228093428001.txt</td>\n",
       "    </tr>\n",
       "    <tr>\n",
       "      <th>160583</th>\n",
       "      <td>1090566</td>\n",
       "      <td>0</td>\n",
       "      <td>[회사채 미매각 현황]\\n회사채 시장에 미매각이 속출하고 있다. 현재 연 1.25%...</td>\n",
       "      <td>02100851.20220228103653001.txt</td>\n",
       "    </tr>\n",
       "    <tr>\n",
       "      <th>160584</th>\n",
       "      <td>1090566</td>\n",
       "      <td>1</td>\n",
       "      <td>하지만 가뜩이나 악화된 회사채 시장 분위기에 사고 소식까지 전해지면서 아무도 수요예...</td>\n",
       "      <td>02100851.20220228103653001.txt</td>\n",
       "    </tr>\n",
       "    <tr>\n",
       "      <th>160585</th>\n",
       "      <td>1090566</td>\n",
       "      <td>2</td>\n",
       "      <td>이에 채권시장에서 자금을 운용하는 각 증권사들의 부담이 커지고 있다. 대부분이 총액...</td>\n",
       "      <td>02100851.20220228103653001.txt</td>\n",
       "    </tr>\n",
       "    <tr>\n",
       "      <th>160586</th>\n",
       "      <td>1090615</td>\n",
       "      <td>0</td>\n",
       "      <td>[사진=아주경제 DB]\\n우크라이나와 러시아가 협상 테이블을 마련한다는 소식에 국내...</td>\n",
       "      <td>02100851.20220228154344001.txt</td>\n",
       "    </tr>\n",
       "  </tbody>\n",
       "</table>\n",
       "<p>160587 rows × 4 columns</p>\n",
       "</div>"
      ],
      "text/plain": [
       "             id  chunk_id                                               text  \\\n",
       "0            11         0  문재인 대통령이 지난해 전용차로 선택한 수소전기차 '넥쏘'가 중·장년층 남성들로부터...   \n",
       "1            11         1  넥쏘는 국내 뿐만 아니라 해외에서도 코로나19 확산 여파를 이겨내고 질주하고 있다....   \n",
       "2            19         0  LG전자는 국내 최대 쇼핑 행사 ‘2020 코리아세일페스타’에 맞춰 11월 1일부터...   \n",
       "3            20         0  SK는 그룹 8개 관계사가 한국 최초로 ‘RE100’에 가입한다고 1일 밝혔다.\\n...   \n",
       "4            20         1  SK 8개사가 신청서를 제출하면 더 클라이밋 그룹의 검토를 거친 후 가입이 최종 확...   \n",
       "...         ...       ...                                                ...   \n",
       "160582  1090535         1  업종별로 하락한 업종은 운수창고(-1.22%), 운수장비(-1.12%), 전기전자(...   \n",
       "160583  1090566         0  [회사채 미매각 현황]\\n회사채 시장에 미매각이 속출하고 있다. 현재 연 1.25%...   \n",
       "160584  1090566         1  하지만 가뜩이나 악화된 회사채 시장 분위기에 사고 소식까지 전해지면서 아무도 수요예...   \n",
       "160585  1090566         2  이에 채권시장에서 자금을 운용하는 각 증권사들의 부담이 커지고 있다. 대부분이 총액...   \n",
       "160586  1090615         0  [사진=아주경제 DB]\\n우크라이나와 러시아가 협상 테이블을 마련한다는 소식에 국내...   \n",
       "\n",
       "                              filename  \n",
       "0       02100101.20201101113442001.txt  \n",
       "1       02100101.20201101113442001.txt  \n",
       "2       02100101.20201101125903001.txt  \n",
       "3       02100101.20201101130118001.txt  \n",
       "4       02100101.20201101130118001.txt  \n",
       "...                                ...  \n",
       "160582  02100851.20220228093428001.txt  \n",
       "160583  02100851.20220228103653001.txt  \n",
       "160584  02100851.20220228103653001.txt  \n",
       "160585  02100851.20220228103653001.txt  \n",
       "160586  02100851.20220228154344001.txt  \n",
       "\n",
       "[160587 rows x 4 columns]"
      ]
     },
     "execution_count": 14,
     "metadata": {},
     "output_type": "execute_result"
    }
   ],
   "source": [
    "filtered_data = chunk_df.merge(econ_news_kr.metadata, on=\"id\").merge(\n",
    "    code_info_available.drop_duplicates(subset=[\"filename\"]), on=\"filename\"\n",
    ")\n",
    "cols = [\"id\", \"chunk_id\", \"text\", \"filename\"]\n",
    "filtered_data = filtered_data[cols]\n",
    "eKonf.save_data(filtered_data, \"econ_news_filtered_20220905.parquet\", data_dir)\n",
    "\n",
    "filtered_data"
   ]
  },
  {
   "cell_type": "code",
   "execution_count": 13,
   "metadata": {},
   "outputs": [
    {
     "name": "stdout",
     "output_type": "stream",
     "text": [
      "<class 'pandas.core.frame.DataFrame'>\n",
      "Int64Index: 160587 entries, 0 to 160586\n",
      "Data columns (total 4 columns):\n",
      " #   Column    Non-Null Count   Dtype \n",
      "---  ------    --------------   ----- \n",
      " 0   id        160587 non-null  int64 \n",
      " 1   chunk_id  160587 non-null  int64 \n",
      " 2   text      160587 non-null  object\n",
      " 3   filename  160587 non-null  object\n",
      "dtypes: int64(2), object(2)\n",
      "memory usage: 6.1+ MB\n",
      "None\n"
     ]
    },
    {
     "data": {
      "text/plain": [
       "id           75912\n",
       "chunk_id        21\n",
       "text        155838\n",
       "filename     74614\n",
       "dtype: int64"
      ]
     },
     "execution_count": 13,
     "metadata": {},
     "output_type": "execute_result"
    }
   ],
   "source": [
    "print(filtered_data.info())\n",
    "filtered_data.nunique()"
   ]
  },
  {
   "cell_type": "code",
   "execution_count": null,
   "metadata": {},
   "outputs": [],
   "source": []
  }
 ],
 "metadata": {
  "celltoolbar": "Tags",
  "colab": {
   "name": "corpus.ipynb",
   "provenance": []
  },
  "kernelspec": {
   "display_name": "Python 3 (ipykernel)",
   "language": "python",
   "name": "python3"
  },
  "language_info": {
   "codemirror_mode": {
    "name": "ipython",
    "version": 3
   },
   "file_extension": ".py",
   "mimetype": "text/x-python",
   "name": "python",
   "nbconvert_exporter": "python",
   "pygments_lexer": "ipython3",
   "version": "3.8.12"
  },
  "vscode": {
   "interpreter": {
    "hash": "d4d1e4263499bec80672ea0156c357c1ee493ec2b1c70f0acce89fc37c4a6abe"
   }
  },
  "widgets": {
   "application/vnd.jupyter.widget-state+json": {
    "state": {},
    "version_major": 2,
    "version_minor": 0
   }
  }
 },
 "nbformat": 4,
 "nbformat_minor": 4
}
