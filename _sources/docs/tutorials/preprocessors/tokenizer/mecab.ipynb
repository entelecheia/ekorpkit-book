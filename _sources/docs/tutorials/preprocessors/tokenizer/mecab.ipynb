{
 "cells": [
  {
   "cell_type": "markdown",
   "metadata": {
    "id": "AESO0odcxhzs"
   },
   "source": [
    "# Mecab Tokenizer"
   ]
  },
  {
   "cell_type": "markdown",
   "metadata": {
    "id": "rlQ2kNsbNIAe"
   },
   "source": [
    "<a href=\"https://colab.research.google.com/github/entelecheia/ekorpkit-config/blob/main/notebooks/preprocessor.ipynb\" target=\"_parent\"><img src=\"https://colab.research.google.com/assets/colab-badge.svg\" alt=\"Open In Colab\"/></a>"
   ]
  },
  {
   "cell_type": "code",
   "execution_count": 19,
   "metadata": {
    "id": "EJ0AoNl-xif_"
   },
   "outputs": [],
   "source": [
    "# %%capture\n",
    "# %pip install ekorpkit[transformers,tokenize]"
   ]
  },
  {
   "cell_type": "markdown",
   "metadata": {
    "id": "dOpN8AxSxhzv"
   },
   "source": [
    "## Instantiating a mecab class"
   ]
  },
  {
   "cell_type": "code",
   "execution_count": 2,
   "metadata": {
    "colab": {
     "base_uri": "https://localhost:8080/"
    },
    "id": "pr-XntKnxhzv",
    "outputId": "fa024fd6-85cf-40fc-9df2-916f8ac71adb"
   },
   "outputs": [
    {
     "name": "stdout",
     "output_type": "stream",
     "text": [
      "{'_target_': 'ekorpkit.preprocessors.tokenizer.MecabTokenizer',\n",
      " 'extract': {'no_space_for_non_nouns': False,\n",
      "             'noun_postags': ['NNG', 'NNP', 'XSN', 'SL', 'XR', 'NNB', 'NR'],\n",
      "             'postags': None,\n",
      "             'stop_postags': ['SP'],\n",
      "             'stopwords': None,\n",
      "             'stopwords_path': None},\n",
      " 'mecab': {'backend': 'mecab-python3', 'userdic_path': None, 'verbose': False},\n",
      " 'normalize': None,\n",
      " 'tokenize': {'concat_surface_and_pos': True,\n",
      "              'flatten': True,\n",
      "              'include_whitespace_token': True,\n",
      "              'lowercase': False,\n",
      "              'punct_postags': ['SF', 'SP', 'SSO', 'SSC', 'SY'],\n",
      "              'tokenize_each_word': False,\n",
      "              'userdic_path': None,\n",
      "              'wordpieces_prefix': '##'},\n",
      " 'tokenize_article': {'return_type': 'str', 'sentence_separator': '\\\\n'},\n",
      " 'verbose': False}\n"
     ]
    },
    {
     "name": "stderr",
     "output_type": "stream",
     "text": [
      "[ekorpkit]: Initializing mecab...\n"
     ]
    }
   ],
   "source": [
    "from ekorpkit import eKonf\n",
    "\n",
    "config_group='preprocessor/tokenizer=mecab'\n",
    "cfg = eKonf.compose(config_group=config_group)\n",
    "eKonf.pprint(cfg)\n",
    "mecab = eKonf.instantiate(cfg)"
   ]
  },
  {
   "cell_type": "code",
   "execution_count": 4,
   "metadata": {
    "colab": {
     "base_uri": "https://localhost:8080/"
    },
    "id": "kQS1jvbtxhzw",
    "outputId": "9000bc6a-599a-4e39-a348-1531aff897cd"
   },
   "outputs": [
    {
     "name": "stdout",
     "output_type": "stream",
     "text": [
      "['IMF/SL', '가/JKS', ' /SP', '推定/NNG', '한/XSA+ETM', ' /SP', '우리나라/NNG', '의/JKG', ' /SP', 'GDP/SL', '갭/NNG', '률/XSN', '은/JX', ' /SP', '今年/NNG', '에/JKB', '도/JX', ' /SP', '소폭/NNG', '의/JKG', ' /SP', '마이너스/NNG', '(/SSO', '−)/SY', '를/JKO', ' /SP', '持續/NNG', '하/XSV', '고/EC', ' /SP', '있/VX', '다/EF', './SF']\n",
      "['IMF/SL', '가/JKS', ' /SP', '推定/NNG', '한/XSA+ETM', ' /SP', '우리나라/NNG', '의/JKG', ' /SP', 'GDP/SL', '갭/NNG', '률/XSN', '은/JX', ' /SP', '今年/NNG', '에/JKB', '도/JX', ' /SP', '소폭/NNG', '의/JKG', ' /SP', '마이너스/NNG', '(/SSO', '−)/SY', '를/JKO', ' /SP', '持續/NNG', '하/XSV', '고/EC', ' /SP', '있/VX', '다/EF', './SF']\n"
     ]
    }
   ],
   "source": [
    "text = 'IMF가 推定한 우리나라의 GDP갭률은 今年에도 소폭의 마이너스(−)를 持續하고 있다.'\n",
    "tokens = mecab.tokenize(text)\n",
    "print(tokens)\n",
    "print(mecab(text))"
   ]
  },
  {
   "cell_type": "code",
   "execution_count": 4,
   "metadata": {
    "colab": {
     "base_uri": "https://localhost:8080/"
    },
    "id": "AILXTmH0xhzw",
    "outputId": "e52dab89-bc2c-41f7-b87e-938aace8b9d2"
   },
   "outputs": [
    {
     "name": "stdout",
     "output_type": "stream",
     "text": [
      "{'_target_': 'ekorpkit.preprocessors.normalizer.Normalizer',\n",
      " 'ftfy': {'decode_inconsistent_utf8': True,\n",
      "          'fix_c1_controls': True,\n",
      "          'fix_character_width': True,\n",
      "          'fix_encoding': True,\n",
      "          'fix_latin_ligatures': True,\n",
      "          'fix_line_breaks': True,\n",
      "          'fix_surrogates': True,\n",
      "          'max_decode_length': 1000000,\n",
      "          'normalization': 'NFKC',\n",
      "          'remove_control_chars': True,\n",
      "          'remove_terminal_escapes': True,\n",
      "          'replace_lossy_sequences': True,\n",
      "          'restore_byte_a0': True,\n",
      "          'uncurl_quotes': True,\n",
      "          'unescape_html': True},\n",
      " 'hanja2hangle': True,\n",
      " 'num_repeats': 2,\n",
      " 'spaces': {'collapse_whitespaces': True,\n",
      "            'fix_whitespaces': True,\n",
      "            'num_spaces_for_tab': 4,\n",
      "            'replace_tabs': True,\n",
      "            'strip': True},\n",
      " 'special_characters': {'fix_ellipsis': True,\n",
      "                        'fix_emoticons': False,\n",
      "                        'fix_hyphens': True,\n",
      "                        'fix_slashes': True,\n",
      "                        'fix_tildes': True,\n",
      "                        'regular_parentheses_only': False,\n",
      "                        'single_quotes_only': False}}\n"
     ]
    }
   ],
   "source": [
    "config_group='preprocessor/normalizer=formal_ko'\n",
    "cfg_norm = eKonf.compose(config_group=config_group)\n",
    "eKonf.pprint(cfg_norm)\n",
    "norm = eKonf.instantiate(cfg_norm)"
   ]
  },
  {
   "cell_type": "code",
   "execution_count": 5,
   "metadata": {
    "colab": {
     "base_uri": "https://localhost:8080/",
     "height": 35
    },
    "id": "jyCeGRbQxhzx",
    "outputId": "be5c3aff-f8eb-42f8-fea5-fd702eb7094e"
   },
   "outputs": [
    {
     "data": {
      "text/plain": [
       "'IMF가 추정한 우리나라의 GDP갭률은 금년에도 소폭의 마이너스(-)를 지속하고 있다.'"
      ]
     },
     "execution_count": 5,
     "metadata": {},
     "output_type": "execute_result"
    }
   ],
   "source": [
    "norm(text)"
   ]
  },
  {
   "cell_type": "code",
   "execution_count": 6,
   "metadata": {
    "colab": {
     "base_uri": "https://localhost:8080/"
    },
    "id": "rk5g7W_rxhzx",
    "outputId": "27ecde0f-d6e9-40fb-a24d-3af2ba903f9d"
   },
   "outputs": [
    {
     "name": "stderr",
     "output_type": "stream",
     "text": [
      "[ekorpkit]: Initializing mecab...\n"
     ]
    },
    {
     "name": "stdout",
     "output_type": "stream",
     "text": [
      "['IMF/SL', '가/JKS', ' /SP', '추정/NNG', '한/XSA+ETM', ' /SP', '우리나라/NNG', '의/JKG', ' /SP', 'GDP/SL', '갭/NNG', '률/XSN', '은/JX', ' /SP', '금년/NNG', '에/JKB', '도/JX', ' /SP', '소폭/NNG', '의/JKG', ' /SP', '마이너스/NNG', '(/SSO', '-)/SY', '를/JKO', ' /SP', '지속/NNG', '하/XSV', '고/EC', ' /SP', '있/VX', '다/EF', './SF']\n"
     ]
    }
   ],
   "source": [
    "config_group='preprocessor/tokenizer=mecab'\n",
    "cfg = eKonf.compose(config_group=config_group)\n",
    "mecab = eKonf.instantiate(cfg, normalize=norm)\n",
    "tokens = mecab.tokenize(text)\n",
    "print(tokens)"
   ]
  },
  {
   "cell_type": "code",
   "execution_count": 7,
   "metadata": {
    "colab": {
     "base_uri": "https://localhost:8080/"
    },
    "id": "y52Oosfgxhzx",
    "outputId": "1e120009-1d38-4cce-d8c1-732f2f314149"
   },
   "outputs": [
    {
     "name": "stdout",
     "output_type": "stream",
     "text": [
      "{'_target_': 'ekorpkit.preprocessors.tokenizer.MecabTokenizer',\n",
      " 'extract': {'no_space_for_non_nouns': False,\n",
      "             'noun_postags': ['NNG', 'NNP', 'XSN', 'SL', 'XR', 'NNB', 'NR'],\n",
      "             'postags': None,\n",
      "             'stop_postags': ['SP'],\n",
      "             'stopwords': None,\n",
      "             'stopwords_path': None},\n",
      " 'mecab': {'backend': 'mecab-python3', 'userdic_path': None, 'verbose': False},\n",
      " 'normalize': {'_target_': 'ekorpkit.preprocessors.normalizer.Normalizer',\n",
      "               'ftfy': {'decode_inconsistent_utf8': True,\n",
      "                        'fix_c1_controls': True,\n",
      "                        'fix_character_width': True,\n",
      "                        'fix_encoding': True,\n",
      "                        'fix_latin_ligatures': True,\n",
      "                        'fix_line_breaks': True,\n",
      "                        'fix_surrogates': True,\n",
      "                        'max_decode_length': 1000000,\n",
      "                        'normalization': 'NFKC',\n",
      "                        'remove_control_chars': True,\n",
      "                        'remove_terminal_escapes': True,\n",
      "                        'replace_lossy_sequences': True,\n",
      "                        'restore_byte_a0': True,\n",
      "                        'uncurl_quotes': True,\n",
      "                        'unescape_html': True},\n",
      "               'hanja2hangle': True,\n",
      "               'num_repeats': 2,\n",
      "               'spaces': {'collapse_whitespaces': True,\n",
      "                          'fix_whitespaces': True,\n",
      "                          'num_spaces_for_tab': 4,\n",
      "                          'replace_tabs': True,\n",
      "                          'strip': True},\n",
      "               'special_characters': {'fix_ellipsis': True,\n",
      "                                      'fix_emoticons': False,\n",
      "                                      'fix_hyphens': True,\n",
      "                                      'fix_slashes': True,\n",
      "                                      'fix_tildes': True,\n",
      "                                      'regular_parentheses_only': False,\n",
      "                                      'single_quotes_only': False}},\n",
      " 'tokenize': {'concat_surface_and_pos': True,\n",
      "              'flatten': True,\n",
      "              'include_whitespace_token': True,\n",
      "              'lowercase': False,\n",
      "              'punct_postags': ['SF', 'SP', 'SSO', 'SSC', 'SY'],\n",
      "              'tokenize_each_word': False,\n",
      "              'userdic_path': None,\n",
      "              'wordpieces_prefix': '##'},\n",
      " 'tokenize_article': {'return_type': 'str', 'sentence_separator': '\\\\n'},\n",
      " 'verbose': False}\n"
     ]
    },
    {
     "name": "stderr",
     "output_type": "stream",
     "text": [
      "[ekorpkit]: Initializing mecab...\n"
     ]
    },
    {
     "name": "stdout",
     "output_type": "stream",
     "text": [
      "['IMF/SL', '가/JKS', ' /SP', '추정/NNG', '한/XSA+ETM', ' /SP', '우리나라/NNG', '의/JKG', ' /SP', 'GDP/SL', '갭/NNG', '률/XSN', '은/JX', ' /SP', '금년/NNG', '에/JKB', '도/JX', ' /SP', '소폭/NNG', '의/JKG', ' /SP', '마이너스/NNG', '(/SSO', '-)/SY', '를/JKO', ' /SP', '지속/NNG', '하/XSV', '고/EC', ' /SP', '있/VX', '다/EF', './SF']\n"
     ]
    }
   ],
   "source": [
    "config_group='preprocessor/tokenizer=mecab'\n",
    "cfg = eKonf.compose(config_group=config_group)\n",
    "cfg['normalize'] = cfg_norm\n",
    "eKonf.pprint(cfg)\n",
    "mecab = eKonf.instantiate(cfg)\n",
    "tokens = mecab.tokenize(text)\n",
    "print(tokens)"
   ]
  },
  {
   "cell_type": "code",
   "execution_count": 8,
   "metadata": {
    "colab": {
     "base_uri": "https://localhost:8080/"
    },
    "id": "Q5lKddOdxhzy",
    "outputId": "489e850f-64e9-4159-ae71-dafa8be4ef56"
   },
   "outputs": [
    {
     "name": "stdout",
     "output_type": "stream",
     "text": [
      "['IMF', '추정', '우리나라', 'GDP', '갭', '률', '금년', '소폭', '마이너스', '지속']\n"
     ]
    }
   ],
   "source": [
    "print(mecab.nouns(text))"
   ]
  },
  {
   "cell_type": "code",
   "execution_count": 9,
   "metadata": {
    "colab": {
     "base_uri": "https://localhost:8080/"
    },
    "id": "brcgZsI6xhzy",
    "outputId": "21772b65-09fd-4e84-b0fe-130a3dbca972"
   },
   "outputs": [
    {
     "name": "stdout",
     "output_type": "stream",
     "text": [
      "['IMF', '가', '추정', '한', '우리나라', '의', 'GDP', '갭', '률', '은', '금년', '에', '도', '소폭', '의', '마이너스', '(', '-)', '를', '지속', '하', '고', '있', '다', '.']\n"
     ]
    }
   ],
   "source": [
    "print(mecab.morphs(text))"
   ]
  },
  {
   "cell_type": "code",
   "execution_count": 10,
   "metadata": {},
   "outputs": [
    {
     "name": "stdout",
     "output_type": "stream",
     "text": [
      "['금/MAJ', '통/MAG', '위/NNG', '는/JX', ' /SP', '통화/NNG', '신용/NNG', '정책/NNG', '과/JC', ' /SP', '한국은행/NNP', '의/JKG', ' /SP', '운영/NNG', '에/JKB', ' /SP', '관한/VV+ETM', ' /SP', '의결/NNG', '권/XSN', '을/JKO', ' /SP', '행사/NNG', '한다/XSV+EF', './SF']\n"
     ]
    }
   ],
   "source": [
    "text = '금통위는 통화신용정책과 한국은행의 운영에 관한 의결권을 행사한다.'\n",
    "print(mecab.tokenize(text))"
   ]
  },
  {
   "cell_type": "code",
   "execution_count": 11,
   "metadata": {},
   "outputs": [
    {
     "name": "stdout",
     "output_type": "stream",
     "text": [
      "{'_target_': 'ekorpkit.preprocessors.tokenizer.MecabTokenizer',\n",
      " 'extract': {'no_space_for_non_nouns': False,\n",
      "             'noun_postags': ['NNG', 'NNP', 'XSN', 'SL', 'XR', 'NNB', 'NR'],\n",
      "             'postags': None,\n",
      "             'stop_postags': ['SP'],\n",
      "             'stopwords': None,\n",
      "             'stopwords_path': None},\n",
      " 'mecab': {'backend': 'mecab-python3',\n",
      "           'userdic_path': '/workspace/projects/ekorpkit/ekorpkit/resources/dictionaries/mecab/ekon_v1.dic',\n",
      "           'verbose': False},\n",
      " 'normalize': None,\n",
      " 'tokenize': {'concat_surface_and_pos': True,\n",
      "              'flatten': True,\n",
      "              'include_whitespace_token': True,\n",
      "              'lowercase': False,\n",
      "              'punct_postags': ['SF', 'SP', 'SSO', 'SSC', 'SY'],\n",
      "              'tokenize_each_word': False,\n",
      "              'userdic_path': None,\n",
      "              'wordpieces_prefix': '##'},\n",
      " 'tokenize_article': {'return_type': 'str', 'sentence_separator': '\\\\n'},\n",
      " 'verbose': False}\n"
     ]
    },
    {
     "name": "stderr",
     "output_type": "stream",
     "text": [
      "[ekorpkit]: Initializing mecab...\n"
     ]
    },
    {
     "name": "stdout",
     "output_type": "stream",
     "text": [
      "['금통위/NNP', '는/JX', ' /SP', '통화/NNG', '신용/NNG', '정책/NNG', '과/JC', ' /SP', '한국은행/NNP', '의/JKG', ' /SP', '운영/NNG', '에/JKB', ' /SP', '관한/VV+ETM', ' /SP', '의결권/NNP', '을/JKO', ' /SP', '행사/NNG', '한다/XSV+EF', './SF']\n"
     ]
    }
   ],
   "source": [
    "config_group='preprocessor/tokenizer=mecab_econ'\n",
    "cfg = eKonf.compose(config_group=config_group)\n",
    "eKonf.pprint(cfg)\n",
    "mecab = eKonf.instantiate(cfg)\n",
    "tokens = mecab.tokenize(text)\n",
    "print(tokens)"
   ]
  },
  {
   "cell_type": "code",
   "execution_count": null,
   "metadata": {},
   "outputs": [],
   "source": []
  }
 ],
 "metadata": {
  "colab": {
   "name": "preprocessor.ipynb",
   "provenance": []
  },
  "interpreter": {
   "hash": "f869af7787e6a1c49e09e367fc6e1b81d93d1c6583b43249c80edc047bd13cb2"
  },
  "kernelspec": {
   "display_name": "Python 3",
   "language": "python",
   "name": "python3"
  },
  "language_info": {
   "codemirror_mode": {
    "name": "ipython",
    "version": 3
   },
   "file_extension": ".py",
   "mimetype": "text/x-python",
   "name": "python",
   "nbconvert_exporter": "python",
   "pygments_lexer": "ipython3",
   "version": "3.8.8"
  },
  "widgets": {
   "application/vnd.jupyter.widget-state+json": {
    "state": {},
    "version_major": 2,
    "version_minor": 0
   }
  }
 },
 "nbformat": 4,
 "nbformat_minor": 1
}
