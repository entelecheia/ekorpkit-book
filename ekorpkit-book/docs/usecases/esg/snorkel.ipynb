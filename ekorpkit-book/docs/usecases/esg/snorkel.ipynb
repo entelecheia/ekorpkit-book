{
 "cells": [
  {
   "cell_type": "markdown",
   "metadata": {
    "id": "PfSMqenAwpKI"
   },
   "source": [
    "# Preparing datasets"
   ]
  },
  {
   "cell_type": "code",
   "execution_count": 1,
   "metadata": {
    "id": "gN8kk98Rwuzs"
   },
   "outputs": [
    {
     "name": "stderr",
     "output_type": "stream",
     "text": [
      "INFO:ekorpkit.base:IPython version: (6, 9, 0), client: jupyter_client\n",
      "INFO:ekorpkit.base:Google Colab not detected.\n"
     ]
    },
    {
     "name": "stdout",
     "output_type": "stream",
     "text": [
      "version: 0.1.35+6.g44b548b.dirty\n",
      "is notebook? True\n",
      "is colab? False\n",
      "evironment varialbles:\n",
      "{'CUDA_DEVICE_ORDER': None,\n",
      " 'CUDA_VISIBLE_DEVICES': None,\n",
      " 'EKORPKIT_CONFIG_DIR': '/workspace/projects/ekorpkit-book/config',\n",
      " 'EKORPKIT_DATA_DIR': None,\n",
      " 'EKORPKIT_LOG_LEVEL': 'INFO',\n",
      " 'EKORPKIT_PROJECT': 'ekorpkit-book',\n",
      " 'EKORPKIT_WORKSPACE_ROOT': '/workspace',\n",
      " 'KMP_DUPLICATE_LIB_OK': 'TRUE',\n",
      " 'NUM_WORKERS': 230}\n"
     ]
    }
   ],
   "source": [
    "# %config InlineBackend.figure_format='retina'\n",
    "from ekorpkit import eKonf\n",
    "\n",
    "eKonf.setLogger(\"INFO\")\n",
    "print(\"version:\", eKonf.__version__)\n",
    "print(\"is notebook?\", eKonf.is_notebook())\n",
    "print(\"is colab?\", eKonf.is_colab())\n",
    "print(\"evironment varialbles:\")\n",
    "eKonf.print(eKonf.env().dict())"
   ]
  },
  {
   "cell_type": "code",
   "execution_count": 2,
   "metadata": {},
   "outputs": [],
   "source": [
    "data_dir = \"../data/esg\""
   ]
  },
  {
   "cell_type": "markdown",
   "metadata": {},
   "source": [
    "## Fetch the labeled dataset from the labelstudio server"
   ]
  },
  {
   "cell_type": "code",
   "execution_count": 116,
   "metadata": {
    "id": "OhqanxoywpKJ"
   },
   "outputs": [
    {
     "name": "stderr",
     "output_type": "stream",
     "text": [
      "INFO:ekorpkit.io.fetch.base:/workspace/.tmp/fetcher/esg_polarity_labels/esg_polarity_labels.parquet already exists. skipping..\n",
      "INFO:ekorpkit.io.file:Processing [1] files from ['/workspace/.tmp/fetcher/esg_polarity_labels/esg_polarity_labels.parquet']\n",
      "INFO:ekorpkit.io.file:Loading 1 dataframes from ['/workspace/.tmp/fetcher/esg_polarity_labels/esg_polarity_labels.parquet']\n",
      "INFO:ekorpkit.io.file:Loading data from /workspace/.tmp/fetcher/esg_polarity_labels/esg_polarity_labels.parquet\n"
     ]
    }
   ],
   "source": [
    "cfg = eKonf.compose(\"io/fetcher=labelstudio\")\n",
    "cfg.name = \"esg_polarity_labels\"\n",
    "cfg.project_id = 2\n",
    "ls = eKonf.instantiate(cfg)"
   ]
  },
  {
   "cell_type": "code",
   "execution_count": 151,
   "metadata": {},
   "outputs": [
    {
     "name": "stdout",
     "output_type": "stream",
     "text": [
      "13936 3485\n"
     ]
    },
    {
     "data": {
      "text/html": [
       "<div>\n",
       "<style scoped>\n",
       "    .dataframe tbody tr th:only-of-type {\n",
       "        vertical-align: middle;\n",
       "    }\n",
       "\n",
       "    .dataframe tbody tr th {\n",
       "        vertical-align: top;\n",
       "    }\n",
       "\n",
       "    .dataframe thead th {\n",
       "        text-align: right;\n",
       "    }\n",
       "</style>\n",
       "<table border=\"1\" class=\"dataframe\">\n",
       "  <thead>\n",
       "    <tr style=\"text-align: right;\">\n",
       "      <th></th>\n",
       "      <th>id</th>\n",
       "      <th>text</th>\n",
       "      <th>annot_id</th>\n",
       "      <th>annotator</th>\n",
       "      <th>origin</th>\n",
       "      <th>labels</th>\n",
       "      <th>classes</th>\n",
       "    </tr>\n",
       "  </thead>\n",
       "  <tbody>\n",
       "    <tr>\n",
       "      <th>13441</th>\n",
       "      <td>20564</td>\n",
       "      <td>군집분석을 통해 네 개의 군집으로 분류한 결과, '1차 금속 제조업', '고무제품 ...</td>\n",
       "      <td>6833</td>\n",
       "      <td>6</td>\n",
       "      <td>manual</td>\n",
       "      <td>Neutral</td>\n",
       "      <td>1</td>\n",
       "    </tr>\n",
       "    <tr>\n",
       "      <th>3613</th>\n",
       "      <td>45534</td>\n",
       "      <td>세아네트웍스 통신부품 판매 및 공장자동화 및 사무자동화 구축 용역을 주 사업부문으로...</td>\n",
       "      <td>5076</td>\n",
       "      <td>5</td>\n",
       "      <td>manual</td>\n",
       "      <td>Neutral</td>\n",
       "      <td>1</td>\n",
       "    </tr>\n",
       "    <tr>\n",
       "      <th>10522</th>\n",
       "      <td>23616</td>\n",
       "      <td>이에 따라, 양로연금의 지급 방법은 기업이 퇴직자에게 직접 지급하던 종래의 지급방식...</td>\n",
       "      <td>10232</td>\n",
       "      <td>6</td>\n",
       "      <td>manual</td>\n",
       "      <td>Neutral</td>\n",
       "      <td>1</td>\n",
       "    </tr>\n",
       "    <tr>\n",
       "      <th>1728</th>\n",
       "      <td>51904</td>\n",
       "      <td>이에 따라 에너지 절약에 대한 정부의 정책적 지원 강화가 예상되는 가운데,제도 점차...</td>\n",
       "      <td>11431</td>\n",
       "      <td>5</td>\n",
       "      <td>manual</td>\n",
       "      <td>Neutral</td>\n",
       "      <td>1</td>\n",
       "    </tr>\n",
       "    <tr>\n",
       "      <th>10559</th>\n",
       "      <td>23579</td>\n",
       "      <td>법규 및 제도\\n정의화 국회의장이 11월 27일 지정한 세입 예산안 부수 법률안 1...</td>\n",
       "      <td>6456</td>\n",
       "      <td>8</td>\n",
       "      <td>manual</td>\n",
       "      <td>Positive</td>\n",
       "      <td>2</td>\n",
       "    </tr>\n",
       "  </tbody>\n",
       "</table>\n",
       "</div>"
      ],
      "text/plain": [
       "          id                                               text  annot_id  \\\n",
       "13441  20564  군집분석을 통해 네 개의 군집으로 분류한 결과, '1차 금속 제조업', '고무제품 ...      6833   \n",
       "3613   45534  세아네트웍스 통신부품 판매 및 공장자동화 및 사무자동화 구축 용역을 주 사업부문으로...      5076   \n",
       "10522  23616  이에 따라, 양로연금의 지급 방법은 기업이 퇴직자에게 직접 지급하던 종래의 지급방식...     10232   \n",
       "1728   51904  이에 따라 에너지 절약에 대한 정부의 정책적 지원 강화가 예상되는 가운데,제도 점차...     11431   \n",
       "10559  23579  법규 및 제도\\n정의화 국회의장이 11월 27일 지정한 세입 예산안 부수 법률안 1...      6456   \n",
       "\n",
       "       annotator  origin    labels  classes  \n",
       "13441          6  manual   Neutral        1  \n",
       "3613           5  manual   Neutral        1  \n",
       "10522          6  manual   Neutral        1  \n",
       "1728           5  manual   Neutral        1  \n",
       "10559          8  manual  Positive        2  "
      ]
     },
     "execution_count": 151,
     "metadata": {},
     "output_type": "execute_result"
    }
   ],
   "source": [
    "from sklearn.model_selection import train_test_split\n",
    "from sklearn import preprocessing\n",
    "\n",
    "esg_polarity_data = ls.data.copy()\n",
    "\n",
    "le = preprocessing.LabelEncoder()\n",
    "le.fit(esg_polarity_data.labels)\n",
    "classes = le.classes_\n",
    "esg_polarity_data[\"classes\"] = le.transform(esg_polarity_data.labels)\n",
    "\n",
    "test_size = 0.2\n",
    "random_state = 12345\n",
    "shuffle = True\n",
    "\n",
    "df_train, df_test = train_test_split(\n",
    "    esg_polarity_data, test_size=test_size, random_state=random_state, shuffle=shuffle\n",
    ")\n",
    "print(len(df_train), len(df_test))\n",
    "df_train.tail()"
   ]
  },
  {
   "cell_type": "markdown",
   "metadata": {},
   "source": [
    "## Writing Labeling Functions\n",
    "\n",
    "Each crowdworker can be thought of as a single labeling function, as each worker labels a subset of data points, and may have errors or conflicting labels with other workers / labeling functions. Labeling fucntions will simply return the label the worker submitted for a given text, and abstain if they didn't submit a label for it."
   ]
  },
  {
   "cell_type": "markdown",
   "metadata": {},
   "source": [
    "### Crowdworker labeling functions"
   ]
  },
  {
   "cell_type": "code",
   "execution_count": 152,
   "metadata": {},
   "outputs": [
    {
     "name": "stdout",
     "output_type": "stream",
     "text": [
      "Number of workers: 9\n"
     ]
    }
   ],
   "source": [
    "labels_by_annotator = esg_polarity_data.groupby(\"annotator\")\n",
    "worker_dicts = {}\n",
    "for worker_id in labels_by_annotator.groups:\n",
    "    worker_df = labels_by_annotator.get_group(worker_id)\n",
    "    worker_dicts[worker_id] = dict(zip(worker_df.id, worker_df.classes))\n",
    "\n",
    "print(\"Number of workers:\", len(worker_dicts))"
   ]
  },
  {
   "cell_type": "code",
   "execution_count": 153,
   "metadata": {},
   "outputs": [],
   "source": [
    "from ekorpkit.models.snorkel.labeling import LabelingFunction\n",
    "\n",
    "ABSTAIN = -1\n",
    "\n",
    "def worker_lf(x, worker_dict):\n",
    "    return worker_dict.get(x.id, ABSTAIN)\n",
    "\n",
    "\n",
    "def make_worker_lf(worker_id):\n",
    "    worker_dict = worker_dicts[worker_id]\n",
    "    name = f\"worker_{worker_id}\"\n",
    "    return LabelingFunction(name, f=worker_lf, resources={\"worker_dict\": worker_dict})\n",
    "\n",
    "\n",
    "worker_lfs = [make_worker_lf(worker_id) for worker_id in worker_dicts]"
   ]
  },
  {
   "cell_type": "code",
   "execution_count": 154,
   "metadata": {},
   "outputs": [
    {
     "name": "stderr",
     "output_type": "stream",
     "text": [
      "100%|██████████| 13936/13936 [00:00<00:00, 15669.46it/s]\n",
      "100%|██████████| 3485/3485 [00:00<00:00, 15570.77it/s]\n",
      "100%|██████████| 17421/17421 [00:01<00:00, 15763.39it/s]\n"
     ]
    }
   ],
   "source": [
    "from ekorpkit.models.snorkel.labeling import PandasLFApplier\n",
    "\n",
    "applier = PandasLFApplier(worker_lfs)\n",
    "L_train = applier.apply(df_train)\n",
    "L_test = applier.apply(df_test)\n",
    "L_data = applier.apply(esg_polarity_data)"
   ]
  },
  {
   "cell_type": "code",
   "execution_count": 155,
   "metadata": {},
   "outputs": [
    {
     "data": {
      "text/html": [
       "<div>\n",
       "<style scoped>\n",
       "    .dataframe tbody tr th:only-of-type {\n",
       "        vertical-align: middle;\n",
       "    }\n",
       "\n",
       "    .dataframe tbody tr th {\n",
       "        vertical-align: top;\n",
       "    }\n",
       "\n",
       "    .dataframe thead th {\n",
       "        text-align: right;\n",
       "    }\n",
       "</style>\n",
       "<table border=\"1\" class=\"dataframe\">\n",
       "  <thead>\n",
       "    <tr style=\"text-align: right;\">\n",
       "      <th></th>\n",
       "      <th>j</th>\n",
       "      <th>Polarity</th>\n",
       "      <th>Coverage</th>\n",
       "      <th>Overlaps</th>\n",
       "      <th>Conflicts</th>\n",
       "      <th>Correct</th>\n",
       "      <th>Incorrect</th>\n",
       "      <th>Emp. Acc.</th>\n",
       "    </tr>\n",
       "  </thead>\n",
       "  <tbody>\n",
       "    <tr>\n",
       "      <th>worker_8</th>\n",
       "      <td>7</td>\n",
       "      <td>[0, 1, 2]</td>\n",
       "      <td>0.379879</td>\n",
       "      <td>0.340413</td>\n",
       "      <td>0.007750</td>\n",
       "      <td>5239</td>\n",
       "      <td>55</td>\n",
       "      <td>0.989611</td>\n",
       "    </tr>\n",
       "    <tr>\n",
       "      <th>worker_1</th>\n",
       "      <td>0</td>\n",
       "      <td>[0, 1, 2]</td>\n",
       "      <td>0.000574</td>\n",
       "      <td>0.000359</td>\n",
       "      <td>0.000000</td>\n",
       "      <td>8</td>\n",
       "      <td>0</td>\n",
       "      <td>1.000000</td>\n",
       "    </tr>\n",
       "    <tr>\n",
       "      <th>worker_4</th>\n",
       "      <td>3</td>\n",
       "      <td>[0, 1, 2]</td>\n",
       "      <td>0.091131</td>\n",
       "      <td>0.077425</td>\n",
       "      <td>0.001005</td>\n",
       "      <td>1262</td>\n",
       "      <td>8</td>\n",
       "      <td>0.993701</td>\n",
       "    </tr>\n",
       "    <tr>\n",
       "      <th>worker_7</th>\n",
       "      <td>6</td>\n",
       "      <td>[0, 1, 2]</td>\n",
       "      <td>0.176521</td>\n",
       "      <td>0.122489</td>\n",
       "      <td>0.003875</td>\n",
       "      <td>2432</td>\n",
       "      <td>28</td>\n",
       "      <td>0.988618</td>\n",
       "    </tr>\n",
       "    <tr>\n",
       "      <th>worker_3</th>\n",
       "      <td>2</td>\n",
       "      <td>[0, 1, 2]</td>\n",
       "      <td>0.083525</td>\n",
       "      <td>0.030640</td>\n",
       "      <td>0.000287</td>\n",
       "      <td>1162</td>\n",
       "      <td>2</td>\n",
       "      <td>0.998282</td>\n",
       "    </tr>\n",
       "  </tbody>\n",
       "</table>\n",
       "</div>"
      ],
      "text/plain": [
       "          j   Polarity  Coverage  Overlaps  Conflicts  Correct  Incorrect  \\\n",
       "worker_8  7  [0, 1, 2]  0.379879  0.340413   0.007750     5239         55   \n",
       "worker_1  0  [0, 1, 2]  0.000574  0.000359   0.000000        8          0   \n",
       "worker_4  3  [0, 1, 2]  0.091131  0.077425   0.001005     1262          8   \n",
       "worker_7  6  [0, 1, 2]  0.176521  0.122489   0.003875     2432         28   \n",
       "worker_3  2  [0, 1, 2]  0.083525  0.030640   0.000287     1162          2   \n",
       "\n",
       "          Emp. Acc.  \n",
       "worker_8   0.989611  \n",
       "worker_1   1.000000  \n",
       "worker_4   0.993701  \n",
       "worker_7   0.988618  \n",
       "worker_3   0.998282  "
      ]
     },
     "execution_count": 155,
     "metadata": {},
     "output_type": "execute_result"
    }
   ],
   "source": [
    "from ekorpkit.models.snorkel.labeling import LFAnalysis\n",
    "\n",
    "Y_train = df_train.classes.values\n",
    "LFAnalysis(L_train, worker_lfs).lf_summary(Y_train).sample(5)"
   ]
  },
  {
   "cell_type": "code",
   "execution_count": 156,
   "metadata": {},
   "outputs": [
    {
     "name": "stdout",
     "output_type": "stream",
     "text": [
      "Training set coverage:  100.0%\n"
     ]
    }
   ],
   "source": [
    "print(f\"Training set coverage: {100 * LFAnalysis(L_train).label_coverage(): 0.1f}%\")"
   ]
  },
  {
   "cell_type": "markdown",
   "metadata": {},
   "source": [
    "## Train LabelModel And Generate Probabilistic Labels"
   ]
  },
  {
   "cell_type": "code",
   "execution_count": 157,
   "metadata": {},
   "outputs": [
    {
     "name": "stderr",
     "output_type": "stream",
     "text": [
      "100%|██████████| 100/100 [00:00<00:00, 1010.20epoch/s]\n"
     ]
    }
   ],
   "source": [
    "from ekorpkit.models.snorkel.labeling.model import LabelModel\n",
    "\n",
    "# Train LabelModel.\n",
    "label_model = LabelModel(cardinality=3, verbose=False)\n",
    "label_model.fit(L_train, n_epochs=100, seed=12345, log_freq=20, l2=0.1, lr=0.01)"
   ]
  },
  {
   "cell_type": "code",
   "execution_count": 158,
   "metadata": {},
   "outputs": [
    {
     "name": "stdout",
     "output_type": "stream",
     "text": [
      "LabelModel Accuracy for train: 0.995\n",
      "LabelModel Accuracy for test: 0.994\n"
     ]
    }
   ],
   "source": [
    "from ekorpkit.models.snorkel.analysis import metric_score\n",
    "\n",
    "Y_test = df_test.classes.values\n",
    "\n",
    "preds_train = label_model.predict(L_train, tie_break_policy=\"abstain\")\n",
    "acc = metric_score(Y_train, preds_train, probs=None, metric=\"accuracy\")\n",
    "print(f\"LabelModel Accuracy for train: {acc:.3f}\")\n",
    "\n",
    "preds_test = label_model.predict(L_test, tie_break_policy=\"abstain\")\n",
    "acc = metric_score(Y_test, preds_test, probs=None, metric=\"accuracy\")\n",
    "print(f\"LabelModel Accuracy for test: {acc:.3f}\")"
   ]
  },
  {
   "cell_type": "code",
   "execution_count": 159,
   "metadata": {
    "scrolled": false
   },
   "outputs": [
    {
     "data": {
      "text/html": [
       "<div>\n",
       "<style scoped>\n",
       "    .dataframe tbody tr th:only-of-type {\n",
       "        vertical-align: middle;\n",
       "    }\n",
       "\n",
       "    .dataframe tbody tr th {\n",
       "        vertical-align: top;\n",
       "    }\n",
       "\n",
       "    .dataframe thead th {\n",
       "        text-align: right;\n",
       "    }\n",
       "</style>\n",
       "<table border=\"1\" class=\"dataframe\">\n",
       "  <thead>\n",
       "    <tr style=\"text-align: right;\">\n",
       "      <th></th>\n",
       "      <th>id</th>\n",
       "      <th>text</th>\n",
       "      <th>annot_id</th>\n",
       "      <th>annotator</th>\n",
       "      <th>origin</th>\n",
       "      <th>labels</th>\n",
       "      <th>classes</th>\n",
       "      <th>snorkel_classes</th>\n",
       "    </tr>\n",
       "  </thead>\n",
       "  <tbody>\n",
       "    <tr>\n",
       "      <th>38</th>\n",
       "      <td>29214</td>\n",
       "      <td>재판부가 선고를 미루며 학부모에게 용서를 빌 기회를 준 것은 이번 사건이 사회적 파...</td>\n",
       "      <td>15298</td>\n",
       "      <td>6</td>\n",
       "      <td>manual</td>\n",
       "      <td>Positive</td>\n",
       "      <td>1</td>\n",
       "      <td>2</td>\n",
       "    </tr>\n",
       "    <tr>\n",
       "      <th>55</th>\n",
       "      <td>25177</td>\n",
       "      <td>삼성정밀화학, 폴리실리콘 공장 건설 시동\\n삼성정밀화학과 미국 memc사가 합작으로...</td>\n",
       "      <td>15035</td>\n",
       "      <td>7</td>\n",
       "      <td>manual</td>\n",
       "      <td>Positive</td>\n",
       "      <td>1</td>\n",
       "      <td>2</td>\n",
       "    </tr>\n",
       "    <tr>\n",
       "      <th>70</th>\n",
       "      <td>24388</td>\n",
       "      <td>그렇게 하기 위해서는 가령 녹색유통채널을 구축하고 녹색소비자에 대한 소비실적에 대해...</td>\n",
       "      <td>13725</td>\n",
       "      <td>6</td>\n",
       "      <td>manual</td>\n",
       "      <td>Positive</td>\n",
       "      <td>1</td>\n",
       "      <td>2</td>\n",
       "    </tr>\n",
       "    <tr>\n",
       "      <th>71</th>\n",
       "      <td>24368</td>\n",
       "      <td>이렇게 중소기업의 범위는 비록 복잡하지만 뚜렷하게 정의되어 있으나 중견기업의 범위는...</td>\n",
       "      <td>13711</td>\n",
       "      <td>6</td>\n",
       "      <td>manual</td>\n",
       "      <td>Positive</td>\n",
       "      <td>1</td>\n",
       "      <td>2</td>\n",
       "    </tr>\n",
       "    <tr>\n",
       "      <th>78</th>\n",
       "      <td>24266</td>\n",
       "      <td>사회적기업 육성을 위한 자본시장 지원방안\\n취약계층에게 사회서비스 또는 일자리를 제...</td>\n",
       "      <td>14983</td>\n",
       "      <td>8</td>\n",
       "      <td>manual</td>\n",
       "      <td>Positive</td>\n",
       "      <td>0</td>\n",
       "      <td>2</td>\n",
       "    </tr>\n",
       "    <tr>\n",
       "      <th>...</th>\n",
       "      <td>...</td>\n",
       "      <td>...</td>\n",
       "      <td>...</td>\n",
       "      <td>...</td>\n",
       "      <td>...</td>\n",
       "      <td>...</td>\n",
       "      <td>...</td>\n",
       "      <td>...</td>\n",
       "    </tr>\n",
       "    <tr>\n",
       "      <th>13281</th>\n",
       "      <td>20730</td>\n",
       "      <td>국내 온실가스 관련 환경법률 개정 동향 안 세 환 연구원\\n환경부는 배출권거래제 시...</td>\n",
       "      <td>16226</td>\n",
       "      <td>6</td>\n",
       "      <td>manual</td>\n",
       "      <td>Negative</td>\n",
       "      <td>1</td>\n",
       "      <td>0</td>\n",
       "    </tr>\n",
       "    <tr>\n",
       "      <th>13315</th>\n",
       "      <td>20696</td>\n",
       "      <td>따라서 현재 정책의 한계와 문제 점을 적극적으로 확인하고 사회 전체적으로 온실가스 ...</td>\n",
       "      <td>218</td>\n",
       "      <td>2</td>\n",
       "      <td>manual</td>\n",
       "      <td>Neutral</td>\n",
       "      <td>0</td>\n",
       "      <td>1</td>\n",
       "    </tr>\n",
       "    <tr>\n",
       "      <th>13553</th>\n",
       "      <td>20447</td>\n",
       "      <td>우리나라는 온실가스 감축 비의무국가중 처음으로'저탄소 녹색성장 기본법'제정하였으며,...</td>\n",
       "      <td>1460</td>\n",
       "      <td>4</td>\n",
       "      <td>manual</td>\n",
       "      <td>Positive</td>\n",
       "      <td>1</td>\n",
       "      <td>2</td>\n",
       "    </tr>\n",
       "    <tr>\n",
       "      <th>13559</th>\n",
       "      <td>20441</td>\n",
       "      <td>환경부는 2011년 12월 환경정보 공개제도 운영규정 을 고시하고, 녹색기업, 공공...</td>\n",
       "      <td>1457</td>\n",
       "      <td>4</td>\n",
       "      <td>manual</td>\n",
       "      <td>Positive</td>\n",
       "      <td>1</td>\n",
       "      <td>2</td>\n",
       "    </tr>\n",
       "    <tr>\n",
       "      <th>13573</th>\n",
       "      <td>20424</td>\n",
       "      <td>문제점 및 개선방안\\n먼저 녹색금융, 특히 에너지관련 금융은 효율적인 정책의 수행을...</td>\n",
       "      <td>1443</td>\n",
       "      <td>4</td>\n",
       "      <td>manual</td>\n",
       "      <td>Positive</td>\n",
       "      <td>1</td>\n",
       "      <td>2</td>\n",
       "    </tr>\n",
       "  </tbody>\n",
       "</table>\n",
       "<p>93 rows × 8 columns</p>\n",
       "</div>"
      ],
      "text/plain": [
       "          id                                               text  annot_id  \\\n",
       "38     29214  재판부가 선고를 미루며 학부모에게 용서를 빌 기회를 준 것은 이번 사건이 사회적 파...     15298   \n",
       "55     25177  삼성정밀화학, 폴리실리콘 공장 건설 시동\\n삼성정밀화학과 미국 memc사가 합작으로...     15035   \n",
       "70     24388  그렇게 하기 위해서는 가령 녹색유통채널을 구축하고 녹색소비자에 대한 소비실적에 대해...     13725   \n",
       "71     24368  이렇게 중소기업의 범위는 비록 복잡하지만 뚜렷하게 정의되어 있으나 중견기업의 범위는...     13711   \n",
       "78     24266  사회적기업 육성을 위한 자본시장 지원방안\\n취약계층에게 사회서비스 또는 일자리를 제...     14983   \n",
       "...      ...                                                ...       ...   \n",
       "13281  20730  국내 온실가스 관련 환경법률 개정 동향 안 세 환 연구원\\n환경부는 배출권거래제 시...     16226   \n",
       "13315  20696  따라서 현재 정책의 한계와 문제 점을 적극적으로 확인하고 사회 전체적으로 온실가스 ...       218   \n",
       "13553  20447  우리나라는 온실가스 감축 비의무국가중 처음으로'저탄소 녹색성장 기본법'제정하였으며,...      1460   \n",
       "13559  20441  환경부는 2011년 12월 환경정보 공개제도 운영규정 을 고시하고, 녹색기업, 공공...      1457   \n",
       "13573  20424  문제점 및 개선방안\\n먼저 녹색금융, 특히 에너지관련 금융은 효율적인 정책의 수행을...      1443   \n",
       "\n",
       "       annotator  origin    labels  classes  snorkel_classes  \n",
       "38             6  manual  Positive        1                2  \n",
       "55             7  manual  Positive        1                2  \n",
       "70             6  manual  Positive        1                2  \n",
       "71             6  manual  Positive        1                2  \n",
       "78             8  manual  Positive        0                2  \n",
       "...          ...     ...       ...      ...              ...  \n",
       "13281          6  manual  Negative        1                0  \n",
       "13315          2  manual   Neutral        0                1  \n",
       "13553          4  manual  Positive        1                2  \n",
       "13559          4  manual  Positive        1                2  \n",
       "13573          4  manual  Positive        1                2  \n",
       "\n",
       "[93 rows x 8 columns]"
      ]
     },
     "execution_count": 159,
     "metadata": {},
     "output_type": "execute_result"
    }
   ],
   "source": [
    "esg_polarity_data[\"snorkel_classes\"] = label_model.predict(L_data, tie_break_policy=\"abstain\")\n",
    "esg_polarity_data = esg_polarity_data[esg_polarity_data.snorkel_classes != ABSTAIN]\n",
    "\n",
    "esg_polarity_data[\"labels\"] = le.inverse_transform(esg_polarity_data[\"snorkel_classes\"])\n",
    "esg_polarity_data.query(\"classes != snorkel_classes\")"
   ]
  },
  {
   "cell_type": "code",
   "execution_count": 162,
   "metadata": {},
   "outputs": [
    {
     "name": "stderr",
     "output_type": "stream",
     "text": [
      "INFO:ekorpkit.io.file:Saving dataframe to ../data/esg/esg_polarity_snorkel_data.parquet\n"
     ]
    }
   ],
   "source": [
    "cols = ['id', 'text', \"labels\"]\n",
    "esg_polarity_snorkel_data = esg_polarity_data[cols].drop_duplicates(subset=cols).reset_index(drop=True)\n",
    "eKonf.save_data(esg_polarity_snorkel_data, \"esg_polarity_snorkel_data.parquet\", data_dir)"
   ]
  },
  {
   "cell_type": "markdown",
   "metadata": {},
   "source": [
    "## Build a dataset using the data generated by the label model\n"
   ]
  },
  {
   "cell_type": "code",
   "execution_count": 8,
   "metadata": {
    "scrolled": false
   },
   "outputs": [
    {
     "name": "stderr",
     "output_type": "stream",
     "text": [
      "INFO:ekorpkit.pipelines.pipe:Applying pipeline: OrderedDict([('load_dataframe', 'load_dataframe'), ('reset_index', 'reset_index'), ('split_sampling', 'split_sampling')])\n",
      "INFO:ekorpkit.base:Applying pipe: functools.partial(<function load_dataframe at 0x7f553803bf70>)\n",
      "INFO:ekorpkit.io.file:Processing [1] files from ['esg_polarity_snorkel_data.parquet']\n",
      "INFO:ekorpkit.io.file:Loading 1 dataframes from ['../data/esg/esg_polarity_snorkel_data.parquet']\n",
      "INFO:ekorpkit.io.file:Loading data from ../data/esg/esg_polarity_snorkel_data.parquet\n",
      "INFO:ekorpkit.base:Applying pipe: functools.partial(<function reset_index at 0x7f553803b1f0>)\n",
      "INFO:ekorpkit.base:Applying pipe: functools.partial(<function split_sampling at 0x7f5538032dc0>)\n",
      "INFO:ekorpkit.io.file:Saving dataframe to ../data/esg/esg_polarity_kr/esg_polarity_kr-train.parquet\n",
      "INFO:ekorpkit.io.file:Saving dataframe to ../data/esg/esg_polarity_kr/esg_polarity_kr-test.parquet\n",
      "INFO:ekorpkit.io.file:Saving dataframe to ../data/esg/esg_polarity_kr/esg_polarity_kr-dev.parquet\n",
      "INFO:ekorpkit.datasets.base:Dataset esg_polarity_kr built with 13616 rows\n",
      "INFO:ekorpkit.io.file:Processing [1] files from ['esg_polarity_kr-train.parquet']\n",
      "INFO:ekorpkit.io.file:Loading 1 dataframes from ['../data/esg/esg_polarity_kr/esg_polarity_kr-train.parquet']\n",
      "INFO:ekorpkit.io.file:Loading data from ../data/esg/esg_polarity_kr/esg_polarity_kr-train.parquet\n",
      "INFO:ekorpkit.info.column:index: index, index of data: None, columns: ['id', 'text', 'labels'], id: ['id']\n",
      "INFO:ekorpkit.info.column:Adding id [split] to ['id']\n",
      "INFO:ekorpkit.info.column:Added id [split], now ['id', 'split']\n",
      "INFO:ekorpkit.info.column:Added a column [split] with value [train]\n",
      "INFO:ekorpkit.io.file:Processing [1] files from ['esg_polarity_kr-dev.parquet']\n",
      "INFO:ekorpkit.io.file:Loading 1 dataframes from ['../data/esg/esg_polarity_kr/esg_polarity_kr-dev.parquet']\n",
      "INFO:ekorpkit.io.file:Loading data from ../data/esg/esg_polarity_kr/esg_polarity_kr-dev.parquet\n",
      "INFO:ekorpkit.info.column:Added a column [split] with value [dev]\n",
      "INFO:ekorpkit.io.file:Processing [1] files from ['esg_polarity_kr-test.parquet']\n",
      "INFO:ekorpkit.io.file:Loading 1 dataframes from ['../data/esg/esg_polarity_kr/esg_polarity_kr-test.parquet']\n",
      "INFO:ekorpkit.io.file:Loading data from ../data/esg/esg_polarity_kr/esg_polarity_kr-test.parquet\n",
      "INFO:ekorpkit.info.column:Added a column [split] with value [test]\n",
      "INFO:ekorpkit.base:Using batcher with minibatch size: 38\n",
      "INFO:ekorpkit.utils.batch.batcher: backend: joblib  minibatch_size: 38  procs: 230  input_split: False  merge_output: True  len(data): 8713 len(args): 5\n"
     ]
    },
    {
     "data": {
      "application/vnd.jupyter.widget-view+json": {
       "model_id": "335249fda7564a7e9cca6452448fa267",
       "version_major": 2,
       "version_minor": 0
      },
      "text/plain": [
       "apply len_bytes to num_bytes:   0%|          | 0/230 [00:00<?, ?it/s]"
      ]
     },
     "metadata": {},
     "output_type": "display_data"
    },
    {
     "name": "stderr",
     "output_type": "stream",
     "text": [
      "INFO:ekorpkit.info.stat: >> elapsed time to calculate statistics: 0:00:00.276040\n",
      "INFO:ekorpkit.base:Using batcher with minibatch size: 10\n",
      "INFO:ekorpkit.utils.batch.batcher: backend: joblib  minibatch_size: 10  procs: 230  input_split: False  merge_output: True  len(data): 2179 len(args): 5\n"
     ]
    },
    {
     "data": {
      "application/vnd.jupyter.widget-view+json": {
       "model_id": "e473ff6e5be34d769676053eb77e604e",
       "version_major": 2,
       "version_minor": 0
      },
      "text/plain": [
       "apply len_bytes to num_bytes:   0%|          | 0/218 [00:00<?, ?it/s]"
      ]
     },
     "metadata": {},
     "output_type": "display_data"
    },
    {
     "name": "stderr",
     "output_type": "stream",
     "text": [
      "INFO:ekorpkit.info.stat: >> elapsed time to calculate statistics: 0:00:00.250046\n",
      "INFO:ekorpkit.base:Using batcher with minibatch size: 12\n",
      "INFO:ekorpkit.utils.batch.batcher: backend: joblib  minibatch_size: 12  procs: 230  input_split: False  merge_output: True  len(data): 2724 len(args): 5\n"
     ]
    },
    {
     "data": {
      "application/vnd.jupyter.widget-view+json": {
       "model_id": "1f41984c90d144a39c58f0ffe3c34fd3",
       "version_major": 2,
       "version_minor": 0
      },
      "text/plain": [
       "apply len_bytes to num_bytes:   0%|          | 0/227 [00:00<?, ?it/s]"
      ]
     },
     "metadata": {},
     "output_type": "display_data"
    },
    {
     "name": "stderr",
     "output_type": "stream",
     "text": [
      "INFO:ekorpkit.info.stat: >> elapsed time to calculate statistics: 0:00:00.253649\n",
      "INFO:ekorpkit.io.file:Saving dataframe to ../data/esg/esg_polarity_kr/esg_polarity_kr-train.parquet\n",
      "INFO:ekorpkit.io.file:Saving dataframe to ../data/esg/esg_polarity_kr/esg_polarity_kr-dev.parquet\n",
      "INFO:ekorpkit.io.file:Saving dataframe to ../data/esg/esg_polarity_kr/esg_polarity_kr-test.parquet\n"
     ]
    }
   ],
   "source": [
    "cfg = eKonf.compose(\"dataset=dataset_build\")\n",
    "cfg.name = \"esg_polarity_kr\"\n",
    "cfg.data_dir = data_dir\n",
    "cfg.data_file = \"esg_polarity_snorkel_data.parquet\"\n",
    "cfg.force.build = True\n",
    "cfg.pipeline.split_sampling.stratify_on = \"labels\"\n",
    "cfg.pipeline.split_sampling.random_state = 123\n",
    "cfg.pipeline.split_sampling.test_size = 0.2\n",
    "cfg.pipeline.split_sampling.dev_size = 0.2\n",
    "cfg.pipeline.reset_index.drop_index = True\n",
    "cfg.verbose = False\n",
    "esg_polarity_ds = eKonf.instantiate(cfg)\n",
    "esg_polarity_ds.persist()"
   ]
  },
  {
   "cell_type": "code",
   "execution_count": null,
   "metadata": {},
   "outputs": [],
   "source": []
  }
 ],
 "metadata": {
  "colab": {
   "include_colab_link": true,
   "name": "config.ipynb",
   "provenance": []
  },
  "interpreter": {
   "hash": "f869af7787e6a1c49e09e367fc6e1b81d93d1c6583b43249c80edc047bd13cb2"
  },
  "kernelspec": {
   "display_name": "Python 3 (ipykernel)",
   "language": "python",
   "name": "python3"
  },
  "language_info": {
   "codemirror_mode": {
    "name": "ipython",
    "version": 3
   },
   "file_extension": ".py",
   "mimetype": "text/x-python",
   "name": "python",
   "nbconvert_exporter": "python",
   "pygments_lexer": "ipython3",
   "version": "3.8.12"
  }
 },
 "nbformat": 4,
 "nbformat_minor": 1
}
