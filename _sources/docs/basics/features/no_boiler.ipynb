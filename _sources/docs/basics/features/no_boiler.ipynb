{
 "cells": [
  {
   "cell_type": "markdown",
   "id": "3d691ef6",
   "metadata": {},
   "source": [
    "# No Boilerplate\n",
    "\n",
    "- eKorpkit lets you focus on the problem at hand instead of spending time on boilerplate code like command line flags, loading configuration files, logging etc."
   ]
  }
 ],
 "metadata": {
  "jupytext": {
   "formats": "md:myst",
   "text_representation": {
    "extension": ".md",
    "format_name": "myst"
   }
  },
  "kernelspec": {
   "display_name": "Python 3",
   "language": "python",
   "name": "python3"
  },
  "source_map": [
   11
  ]
 },
 "nbformat": 4,
 "nbformat_minor": 5
}